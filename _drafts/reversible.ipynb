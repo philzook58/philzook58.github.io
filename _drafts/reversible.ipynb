{
 "cells": [
  {
   "cell_type": "markdown",
   "metadata": {},
   "source": [
    "Robert Gluck https://scholar.google.com/citations?user=cGfKulEAAAAJ&hl=en\n",
    "\n",
    "Janus- https://dl.acm.org/doi/abs/10.1145/1244381.1244404  A reversible programming language and its invertible self-interpreter\n",
    "Jeopardy - an invertible functional language https://arxiv.org/abs/2209.02422\n",
    "\n",
    "relation to quantum\n",
    "linearity?\n",
    "\n",
    "bidirectional\n",
    "invertible\n",
    "\n",
    "kaarsgard https://rkaarsgaard.github.io/publications/\n",
    "\n",
    "\n",
    "views\n",
    "isomorphisms\n",
    "\n",
    "\n",
    "\n"
   ]
  }
 ],
 "metadata": {
  "language_info": {
   "name": "python"
  }
 },
 "nbformat": 4,
 "nbformat_minor": 2
}
