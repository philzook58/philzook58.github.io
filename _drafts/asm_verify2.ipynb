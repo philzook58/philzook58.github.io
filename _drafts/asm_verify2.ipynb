{
 "cells": [
  {
   "cell_type": "markdown",
   "id": "1a0aac39",
   "metadata": {},
   "source": [
    "getvalue RAX and simplify. before subsitution. Oh I already dio that... Hmm.\n",
    "\n",
    "Maybe if I set init_RAX\n",
    "Take the assert out of the smtlib statements. It's weird to have it in an assume\n",
    "Versions that don't need conditions?\n",
    "\n",
    "exit and entry are kind of subsumed. No but they aren't if I want \n",
    "\n",
    "If I ever jump to something marked as entry, don't do it. Just use entry condition, chaos, and receive exit condition. Or just run, but also receive exit condition?\n",
    "\n",
    "Faster checks for true / false. DOn't bother doing a whole thing... right?\n",
    "\n",
    "\n",
    "Mark out the pieces of memory that need to be loaded into memory for this to work.\n",
    "\n",
    "kd_load foo: .ascii \"hello world\"\n",
    "kd_load\n",
    "\n",
    "should memstate have a pointer to a context? Maybe.\n",
    "\n",
    "Also initialize all symbols that point to data to at least... eh.\n",
    "\n",
    "\n",
    "mem ---> Lambda([x], mem(yada)[x])\n",
    "\n",
    "\n",
    "- fixup to work on riscv and 32 bit.\n",
    "- nicer error output. Negative examples\n",
    "- Retain initial ghost variables. kd_ghost? kd_let ?\n",
    "- Countermodels interpret to be more readable. Give path through program, state at beginning and end.\n",
    "- Use abstractions so the intermidate symbolic states aren't quite so unreadable. Or initialize mem to RAX0. Too slow though. Hmm.\n",
    "- Hoarize. I've had so many bugs this principled approach might be pretty useful.\n",
    "- prearranged loaded data. Mem does not currently reflect the actual contents of the loading. kd_load ?\n",
    "- pre and post conditions on calls? if jump into address already.\n",
    "- objcopy assertions into section\n",
    "- Pro / Con of WP?\n",
    "- kd_always for constantly checked invariants\n",
    "- A whitelist of jump points. Only allow labelled positions?\n",
    "- Regular execution or GDB sessions. All the cbat features.\n",
    "- failsafe. If I grep kd_ in the line, but don't recognize it, I should complain. Multiline smtlib would be nice too.\n",
    "- The stdlib of helpers.\n",
    "- speed\n",
    "- Tracking seen addresses. We may want to track if we never hit a label that has an annotation on it, as this is suspicious.\n",
    "- it could make sense to slot in AFL or angr or Symqemu or whatever instead of my system, checking the same properties. I have designed my semantics to be moderately sound\n",
    "- ram8;    ram32 = Lambda([addr], selectconcat32(ram8, addr))   ram32 ram64\n",
    "- comparative checking between two assembly programs\n",
    "\n",
    "\n",
    "done:\n",
    "- memory. Gotta inject a `mem` variable.\n",
    "- Gotta test that stuff I put in the library\n",
    "- cuts. Invariants are cuts of cfg into a dag. Distinguishing backedges from forward edges\n",
    "- We should probably do asserts, assumes, assigns in program text order if multiple at single address. \n",
    "- store history just to make debugging easier.\n",
    "\n",
    "\n",
    "cbmc / ebmc options to mimic? seelct entry points to test. select asssertions to test\n",
    "bounded mode'\n",
    "\n",
    "\n",
    "flag for eager VC or timeout param.\n",
    "\n",
    "Grab just variables in highlevel assertion to present countermodel.\n",
    "\n",
    "Hmm it would actually be easy to add a kd_label and let it persist through the parsing loop... Or just parse labels. There _has_ to have been a label in the contiguous previous lines\n",
    "\n",
    "\n"
   ]
  },
  {
   "cell_type": "code",
   "execution_count": 17,
   "id": "8fd087fc",
   "metadata": {},
   "outputs": [
    {
     "name": "stdout",
     "output_type": "stream",
     "text": [
      "Overwriting /tmp/knuckle.s\n"
     ]
    }
   ],
   "source": [
    "%%file /tmp/knuckle.s\n",
    "\n",
    "#precondition\n",
    ".macro kd_entry label smt_expr\n",
    "\\label :\n",
    ".endm\n",
    "\n",
    ".macro kd_assert label smt_expr\n",
    "\\label :\n",
    ".endm\n",
    "\n",
    ".macro kd_assume label smt_expr\n",
    "\\label :\n",
    ".endm\n",
    "\n",
    "#postcondition\n",
    ".macro kd_exit label smt_expr \n",
    "\\label :\n",
    ".endm\n",
    "\n",
    "#invariant\n",
    ".macro kd_cut label smt_expr\n",
    "\\label :\n",
    ".endm \n",
    "\n",
    ".macro kd_always smt_expr\n",
    ".endm\n"
   ]
  },
  {
   "cell_type": "code",
   "execution_count": null,
   "id": "ba9d0987",
   "metadata": {},
   "outputs": [
    {
     "name": "stdout",
     "output_type": "stream",
     "text": [
      "Overwriting /tmp/stack.s\n"
     ]
    }
   ],
   "source": [
    "%%file /tmp/stack.s\n",
    ".include \"/tmp/knuckle.s\"\n",
    ".global  _start\n",
    "kd_entry _start \" true\"\n",
    "    movq     $42, (%rsp)\n",
    "kd_exit _start_end \"(= (select ram RSP) (_ bv42 8))\"\n",
    "    ret"
   ]
  },
  {
   "cell_type": "code",
   "execution_count": 1,
   "id": "56481360",
   "metadata": {},
   "outputs": [
    {
     "ename": "Z3Exception",
     "evalue": "b'(error \"line 2 column 12: unknown constant assert (Bool) \")\\n'",
     "output_type": "error",
     "traceback": [
      "\u001b[31m---------------------------------------------------------------------------\u001b[39m",
      "\u001b[31mZ3Exception\u001b[39m                               Traceback (most recent call last)",
      "\u001b[36mCell\u001b[39m\u001b[36m \u001b[39m\u001b[32mIn[1]\u001b[39m\u001b[32m, line 4\u001b[39m\n\u001b[32m      2\u001b[39m \u001b[38;5;28;01mimport\u001b[39;00m\u001b[38;5;250m \u001b[39m\u001b[34;01mkdrag\u001b[39;00m\u001b[34;01m.\u001b[39;00m\u001b[34;01mcontrib\u001b[39;00m\u001b[34;01m.\u001b[39;00m\u001b[34;01mpcode\u001b[39;00m\u001b[38;5;250m \u001b[39m\u001b[38;5;28;01mas\u001b[39;00m\u001b[38;5;250m \u001b[39m\u001b[34;01mpcode\u001b[39;00m\n\u001b[32m      3\u001b[39m \u001b[38;5;28;01mfrom\u001b[39;00m\u001b[38;5;250m \u001b[39m\u001b[34;01mkdrag\u001b[39;00m\u001b[34;01m.\u001b[39;00m\u001b[34;01mcontrib\u001b[39;00m\u001b[34;01m.\u001b[39;00m\u001b[34;01mpcode\u001b[39;00m\u001b[34;01m.\u001b[39;00m\u001b[34;01masmspec\u001b[39;00m\u001b[38;5;250m \u001b[39m\u001b[38;5;28;01mimport\u001b[39;00m assemble_and_check\n\u001b[32m----> \u001b[39m\u001b[32m4\u001b[39m \u001b[43massemble_and_check\u001b[49m\u001b[43m(\u001b[49m\u001b[33;43m\"\u001b[39;49m\u001b[33;43m/tmp/stack.s\u001b[39;49m\u001b[33;43m\"\u001b[39;49m\u001b[43m)\u001b[49m\n",
      "\u001b[36mFile \u001b[39m\u001b[32m~/Documents/python/knuckledragger/kdrag/contrib/pcode/asmspec.py:252\u001b[39m, in \u001b[36massemble_and_check\u001b[39m\u001b[34m(filename, langid, as_bin)\u001b[39m\n\u001b[32m    250\u001b[39m subprocess.run([as_bin, filename, \u001b[33m\"\u001b[39m\u001b[33m-o\u001b[39m\u001b[33m\"\u001b[39m, \u001b[33m\"\u001b[39m\u001b[33m/tmp/kdrag_temp.o\u001b[39m\u001b[33m\"\u001b[39m], check=\u001b[38;5;28;01mTrue\u001b[39;00m)\n\u001b[32m    251\u001b[39m ctx = pcode.BinaryContext(\u001b[33m\"\u001b[39m\u001b[33m/tmp/kdrag_temp.o\u001b[39m\u001b[33m\"\u001b[39m, langid=langid)\n\u001b[32m--> \u001b[39m\u001b[32m252\u001b[39m spec = \u001b[43mAsmSpec\u001b[49m\u001b[43m.\u001b[49m\u001b[43mof_file\u001b[49m\u001b[43m(\u001b[49m\u001b[43mfilename\u001b[49m\u001b[43m,\u001b[49m\u001b[43m \u001b[49m\u001b[43mctx\u001b[49m\u001b[43m)\u001b[49m\n\u001b[32m    253\u001b[39m \u001b[38;5;28mprint\u001b[39m(spec)\n\u001b[32m    254\u001b[39m \u001b[38;5;28;01mreturn\u001b[39;00m run_all_paths(ctx, spec)\n",
      "\u001b[36mFile \u001b[39m\u001b[32m~/Documents/python/knuckledragger/kdrag/contrib/pcode/asmspec.py:100\u001b[39m, in \u001b[36mAsmSpec.of_file\u001b[39m\u001b[34m(cls, filename, ctx)\u001b[39m\n\u001b[32m     98\u001b[39m     addr = sym.rebased_addr\n\u001b[32m     99\u001b[39m smt_string = \u001b[33m\"\u001b[39m\u001b[38;5;130;01m\\n\u001b[39;00m\u001b[33m\"\u001b[39m.join(preludes + [\u001b[33m\"\u001b[39m\u001b[33m(assert \u001b[39m\u001b[33m\"\u001b[39m, expr, \u001b[33m\"\u001b[39m\u001b[33m)\u001b[39m\u001b[33m\"\u001b[39m])\n\u001b[32m--> \u001b[39m\u001b[32m100\u001b[39m expr = \u001b[43msmt\u001b[49m\u001b[43m.\u001b[49m\u001b[43mparse_smt2_string\u001b[49m\u001b[43m(\u001b[49m\u001b[43msmt_string\u001b[49m\u001b[43m,\u001b[49m\u001b[43m \u001b[49m\u001b[43mdecls\u001b[49m\u001b[43m=\u001b[49m\u001b[43mdecls\u001b[49m\u001b[43m)\u001b[49m[\u001b[32m0\u001b[39m]\n\u001b[32m    101\u001b[39m \u001b[38;5;28;01mif\u001b[39;00m cmd == \u001b[33m\"\u001b[39m\u001b[33mkd_entry\u001b[39m\u001b[33m\"\u001b[39m:\n\u001b[32m    102\u001b[39m     spec.entries[addr].append((label, expr))\n",
      "\u001b[36mFile \u001b[39m\u001b[32m~/philzook58.github.io/.venv/lib/python3.12/site-packages/z3/z3.py:9498\u001b[39m, in \u001b[36mparse_smt2_string\u001b[39m\u001b[34m(s, sorts, decls, ctx)\u001b[39m\n\u001b[32m   9496\u001b[39m ssz, snames, ssorts = _dict2sarray(sorts, ctx)\n\u001b[32m   9497\u001b[39m dsz, dnames, ddecls = _dict2darray(decls, ctx)\n\u001b[32m-> \u001b[39m\u001b[32m9498\u001b[39m \u001b[38;5;28;01mreturn\u001b[39;00m AstVector(\u001b[43mZ3_parse_smtlib2_string\u001b[49m\u001b[43m(\u001b[49m\u001b[43mctx\u001b[49m\u001b[43m.\u001b[49m\u001b[43mref\u001b[49m\u001b[43m(\u001b[49m\u001b[43m)\u001b[49m\u001b[43m,\u001b[49m\u001b[43m \u001b[49m\u001b[43ms\u001b[49m\u001b[43m,\u001b[49m\u001b[43m \u001b[49m\u001b[43mssz\u001b[49m\u001b[43m,\u001b[49m\u001b[43m \u001b[49m\u001b[43msnames\u001b[49m\u001b[43m,\u001b[49m\u001b[43m \u001b[49m\u001b[43mssorts\u001b[49m\u001b[43m,\u001b[49m\u001b[43m \u001b[49m\u001b[43mdsz\u001b[49m\u001b[43m,\u001b[49m\u001b[43m \u001b[49m\u001b[43mdnames\u001b[49m\u001b[43m,\u001b[49m\u001b[43m \u001b[49m\u001b[43mddecls\u001b[49m\u001b[43m)\u001b[49m, ctx)\n",
      "\u001b[36mFile \u001b[39m\u001b[32m~/philzook58.github.io/.venv/lib/python3.12/site-packages/z3/z3core.py:3635\u001b[39m, in \u001b[36mZ3_parse_smtlib2_string\u001b[39m\u001b[34m(a0, a1, a2, a3, a4, a5, a6, a7, _elems)\u001b[39m\n\u001b[32m   3633\u001b[39m \u001b[38;5;28;01mdef\u001b[39;00m\u001b[38;5;250m \u001b[39m\u001b[34mZ3_parse_smtlib2_string\u001b[39m(a0, a1, a2, a3, a4, a5, a6, a7, _elems=Elementaries(_lib.Z3_parse_smtlib2_string)):\n\u001b[32m   3634\u001b[39m   r = _elems.f(a0, _str_to_bytes(a1), a2, a3, a4, a5, a6, a7)\n\u001b[32m-> \u001b[39m\u001b[32m3635\u001b[39m   \u001b[43m_elems\u001b[49m\u001b[43m.\u001b[49m\u001b[43mCheck\u001b[49m\u001b[43m(\u001b[49m\u001b[43ma0\u001b[49m\u001b[43m)\u001b[49m\n\u001b[32m   3636\u001b[39m   \u001b[38;5;28;01mreturn\u001b[39;00m r\n",
      "\u001b[36mFile \u001b[39m\u001b[32m~/philzook58.github.io/.venv/lib/python3.12/site-packages/z3/z3core.py:1579\u001b[39m, in \u001b[36mElementaries.Check\u001b[39m\u001b[34m(self, ctx)\u001b[39m\n\u001b[32m   1577\u001b[39m err = \u001b[38;5;28mself\u001b[39m.get_error_code(ctx)\n\u001b[32m   1578\u001b[39m \u001b[38;5;28;01mif\u001b[39;00m err != \u001b[38;5;28mself\u001b[39m.OK:\n\u001b[32m-> \u001b[39m\u001b[32m1579\u001b[39m     \u001b[38;5;28;01mraise\u001b[39;00m \u001b[38;5;28mself\u001b[39m.Exception(\u001b[38;5;28mself\u001b[39m.get_error_message(ctx, err))\n",
      "\u001b[31mZ3Exception\u001b[39m: b'(error \"line 2 column 12: unknown constant assert (Bool) \")\\n'"
     ]
    }
   ],
   "source": [
    "from kdrag.all import *\n",
    "import kdrag.contrib.pcode as pcode\n",
    "from kdrag.contrib.pcode.asmspec import assemble_and_check\n",
    "assemble_and_check(\"/tmp/stack.s\")\n"
   ]
  },
  {
   "cell_type": "markdown",
   "id": "e7cae939",
   "metadata": {},
   "source": [
    "# cut\n",
    "\n",
    "cut, we maybe want post and pre program point\n",
    "pre_insn1\n",
    "exec_insn1\n",
    "post_insn1\n",
    "pre_insn2\n",
    "...\n",
    "\n",
    "examples:\n",
    "VST book https://softwarefoundations.cis.upenn.edu/vc-current/toc.html\n",
    "dafny book\n",
    "frama-c examples / book https://link.springer.com/book/10.1007/978-3-031-55608-1 \n",
    "\n",
    "sum-array\n",
    "hmm. I'm worried that we'll need auxiliary predicates.\n",
    "I could define them in assembly?\n",
    "\n",
    "kd_prelude  \"(define-fun foo ( )  )\"\n",
    "kd_declare  \"(declare-const )\"   # kdprelude \"(declare-const mytemp (BitVec 64))\"\n",
    "kd_assign \"mytemp\" expr\n",
    "kd_declare\n",
    "\n",
    "\"(define-const flub (RAX))\"  Hmm. This might auto expand. I think so. So you can have a running summary in thisa way\n",
    "But kd_assign gives you \n",
    "\n",
    "Maybe i should be worried more about the embedded python experience. Getting lemmas in there.\n",
    "lemmas = dict[label, list[kd.Proof]]  Offer needed extra bits.\n",
    "\n",
    "Or have the thing output a pile of verification conditions in Results.\n",
    "\n",
    "This is getting verbose. I'm just delaying figuring out what I want to do. But it is also flexibility.\n",
    "\n",
    "class Trace()\n",
    "    events : list[Event]\n",
    "    def VCs(self):\n",
    "\n",
    "class TraceForest():\n",
    "\n",
    "class Jump():\n",
    "    TraceForest\n",
    "\n",
    "class Event():\n",
    "    pass\n",
    "class Execute(Event): ...\n",
    "class Assert(Event): ...\n",
    "class Assume(Event):\n",
    "class Entry():\n",
    "class \n",
    "\n",
    "T\n",
    "\n",
    "\n",
    "\n"
   ]
  },
  {
   "cell_type": "code",
   "execution_count": 2,
   "id": "6343210a",
   "metadata": {},
   "outputs": [
    {
     "name": "stdout",
     "output_type": "stream",
     "text": [
      "Overwriting /tmp/cut.s\n"
     ]
    }
   ],
   "source": [
    "%%file /tmp/cut.s\n",
    ".include \"/tmp/knuckle.s\"\n",
    ".global  _start\n",
    "kd_entry _start \"true\"\n",
    "    movq     $42, %rdi\n",
    "kd_cut mycut \"(= RDI (_ bv42 64))\"\n",
    "    movq     %rdi, %rax\n",
    "kd_exit _start_end \"(= RAX (_ bv42 64))\"\n",
    "    ret"
   ]
  },
  {
   "cell_type": "code",
   "execution_count": 2,
   "id": "e7a514ff",
   "metadata": {},
   "outputs": [
    {
     "name": "stdout",
     "output_type": "stream",
     "text": [
      "{\n",
      "  \"entries\": {\n",
      "    \"4194304\": [\n",
      "      [\n",
      "        \"_start\",\n",
      "        \"true\"\n",
      "      ]\n",
      "    ]\n",
      "  },\n",
      "  \"asserts\": {},\n",
      "  \"assumes\": {},\n",
      "  \"exits\": {\n",
      "    \"4194314\": [\n",
      "      [\n",
      "        \"_start_end\",\n",
      "        \"(= RAX #x000000000000002a)\"\n",
      "      ]\n",
      "    ]\n",
      "  },\n",
      "  \"cuts\": {\n",
      "    \"4194311\": [\n",
      "      [\n",
      "        \"mycut\",\n",
      "        \"(= RDI #x000000000000002a)\"\n",
      "      ]\n",
      "    ]\n",
      "  }\n",
      "}\n",
      "entry _start at 4194304 with precond True\n",
      "cut mycut at 4194311 with precond RDI == 42\n",
      "Executing 0x400007/3: MOV RAX,RDI at (4194311, 0) PCODE IMARK ram[400007:3]\n",
      "Executing 0x400007/3: MOV RAX,RDI at (4194311, 1) PCODE RAX = RDI\n",
      "[✅] exit _start_end: RAX == 42\n",
      "Executing 0x400000/7: MOV RDI,0x2a at (4194304, 0) PCODE IMARK ram[400000:7]\n",
      "Executing 0x400000/7: MOV RDI,0x2a at (4194304, 1) PCODE RDI = 0x2a\n",
      "[✅] cut mycut: RDI == 42\n"
     ]
    },
    {
     "data": {
      "text/plain": [
       "Results(successes=['[✅] exit _start_end: RAX == 42', '[✅] cut mycut: RDI == 42'], failures=[], traces=[[(4194311, 0), '[✅] exit _start_end: RAX == 42'], [(4194304, 0), '[✅] cut mycut: RDI == 42']])"
      ]
     },
     "execution_count": 2,
     "metadata": {},
     "output_type": "execute_result"
    }
   ],
   "source": [
    "from kdrag.all import *\n",
    "import kdrag.contrib.pcode as pcode\n",
    "from kdrag.contrib.pcode.asmspec import assemble_and_check\n",
    "assemble_and_check(\"/tmp/cut.s\")"
   ]
  },
  {
   "cell_type": "code",
   "execution_count": 3,
   "id": "d1019771",
   "metadata": {},
   "outputs": [
    {
     "name": "stdout",
     "output_type": "stream",
     "text": [
      "Writing /tmp/cutloop.s\n"
     ]
    }
   ],
   "source": [
    "%%file /tmp/cutloop.s\n",
    ".include \"/tmp/knuckle.s\"\n",
    ".global  _start\n",
    "kd_entry _start \"true\"\n",
    "    movq     $42, %rdi\n",
    "kd_cut mycut \"(= RDI (_ bv42 64))\"\n",
    "    jmp mycut"
   ]
  },
  {
   "cell_type": "code",
   "execution_count": 1,
   "id": "ba1ae9ad",
   "metadata": {},
   "outputs": [
    {
     "name": "stdout",
     "output_type": "stream",
     "text": [
      "{\n",
      "  \"entries\": {\n",
      "    \"4194304\": [\n",
      "      [\n",
      "        \"_start\",\n",
      "        \"true\"\n",
      "      ]\n",
      "    ]\n",
      "  },\n",
      "  \"asserts\": {},\n",
      "  \"assumes\": {},\n",
      "  \"exits\": {},\n",
      "  \"cuts\": {\n",
      "    \"4194311\": [\n",
      "      [\n",
      "        \"mycut\",\n",
      "        \"(= RDI #x000000000000002a)\"\n",
      "      ]\n",
      "    ]\n",
      "  }\n",
      "}\n",
      "entry _start at 4194304 with precond True\n",
      "cut mycut at 4194311 with invariant RDI == 42\n",
      "Executing 0x400007/2: JMP 0x400007 at (4194311, 0) PCODE IMARK ram[400007:2]\n",
      "Executing 0x400007/2: JMP 0x400007 at (4194311, 1) PCODE goto ram[400007:8]\n",
      "[✅] cut mycut: RDI == 42\n",
      "Executing 0x400000/7: MOV RDI,0x2a at (4194304, 0) PCODE IMARK ram[400000:7]\n",
      "Executing 0x400000/7: MOV RDI,0x2a at (4194304, 1) PCODE RDI = 0x2a\n",
      "[✅] cut mycut: RDI == 42\n"
     ]
    },
    {
     "data": {
      "text/plain": [
       "Results(successes=['[✅] cut mycut: RDI == 42', '[✅] cut mycut: RDI == 42'], failures=[], traces=[[(4194311, 0), '[✅] cut mycut: RDI == 42'], [(4194304, 0), '[✅] cut mycut: RDI == 42']])"
      ]
     },
     "execution_count": 1,
     "metadata": {},
     "output_type": "execute_result"
    }
   ],
   "source": [
    "from kdrag.all import *\n",
    "import kdrag.contrib.pcode as pcode\n",
    "from kdrag.contrib.pcode.asmspec import assemble_and_check\n",
    "assemble_and_check(\"/tmp/cutloop.s\")"
   ]
  },
  {
   "cell_type": "code",
   "execution_count": null,
   "id": "076ae919",
   "metadata": {},
   "outputs": [],
   "source": [
    "%%file /tmp/cutloop.s\n",
    ".include \"/tmp/knuckle.s\"\n",
    ".global  _start\n",
    "kd_entry _start \"true\"\n",
    "    movq     $42, %rdi\n",
    "    lea      1(%rdi), %rax\n",
    "kd_cut mycut \"(bvule RDI (_ bv42 64))\"\n",
    "    add     $1, %rax\n",
    "    jmp mycut\n"
   ]
  },
  {
   "cell_type": "markdown",
   "id": "82270a80",
   "metadata": {},
   "source": [
    "# riscv\n"
   ]
  },
  {
   "cell_type": "code",
   "execution_count": null,
   "id": "6b7efbe3",
   "metadata": {},
   "outputs": [],
   "source": []
  },
  {
   "cell_type": "code",
   "execution_count": 6,
   "id": "1f874ce2",
   "metadata": {},
   "outputs": [
    {
     "name": "stdout",
     "output_type": "stream",
     "text": [
      "Overwriting /tmp/mop42.s\n"
     ]
    }
   ],
   "source": [
    "%%file /tmp/mop42.s\n",
    ".include \"/tmp/knuckle.s\"\n",
    "    .text\n",
    "    .globl  myfunc\n",
    "kd_entry myfunc \"(assert true)\"\n",
    "    li    a0, 42\n",
    "kd_exit myfunc_end \"(assert (= a0 (_ bv42 64)))\"\n",
    "    ret"
   ]
  },
  {
   "cell_type": "code",
   "execution_count": 24,
   "id": "b2f7a08b",
   "metadata": {},
   "outputs": [],
   "source": [
    "! riscv64-linux-gnu-gcc -c -o /tmp/mop42.o /tmp/mop42.s"
   ]
  },
  {
   "cell_type": "code",
   "execution_count": 25,
   "id": "0f26132d",
   "metadata": {},
   "outputs": [
    {
     "name": "stdout",
     "output_type": "stream",
     "text": [
      "Overwriting /tmp/test.c\n"
     ]
    }
   ],
   "source": [
    "%%file /tmp/test.c\n",
    "#include <stdio.h>\n",
    "#include <stdint.h>\n",
    "uint64_t myfunc();\n",
    "int main() {\n",
    "    printf(\"Result is %lu\\n\", myfunc());\n",
    "    return 0;\n",
    "}"
   ]
  },
  {
   "cell_type": "code",
   "execution_count": 26,
   "id": "3b63b345",
   "metadata": {},
   "outputs": [
    {
     "name": "stdout",
     "output_type": "stream",
     "text": [
      "Result is 42\n"
     ]
    }
   ],
   "source": [
    "! riscv64-linux-gnu-gcc /tmp/test.c /tmp/mop42.o -o /tmp/test && qemu-riscv64 -L /usr/riscv64-linux-gnu /tmp/test"
   ]
  },
  {
   "cell_type": "code",
   "execution_count": 5,
   "id": "c7ef2ecb",
   "metadata": {},
   "outputs": [],
   "source": [
    "%load_ext jupyterflame"
   ]
  },
  {
   "cell_type": "code",
   "execution_count": 2,
   "id": "7f7a65ee",
   "metadata": {},
   "outputs": [
    {
     "name": "stdout",
     "output_type": "stream",
     "text": [
      "{\n",
      "  \"entries\": {\n",
      "    \"4194304\": [\n",
      "      [\n",
      "        \"myfunc\",\n",
      "        \"true\"\n",
      "      ]\n",
      "    ]\n",
      "  },\n",
      "  \"asserts\": {},\n",
      "  \"assumes\": {},\n",
      "  \"exits\": {\n",
      "    \"4194308\": [\n",
      "      [\n",
      "        \"myfunc_end\",\n",
      "        \"(= a0 #x000000000000002a)\"\n",
      "      ]\n",
      "    ]\n",
      "  },\n",
      "  \"cuts\": {}\n",
      "}\n",
      "entry myfunc at 4194304 with precond True\n",
      "Executing 0x400000/4: li a0,0x2a at (4194304, 0) PCODE IMARK ram[400000:4]\n",
      "Executing 0x400000/4: li a0,0x2a at (4194304, 1) PCODE unique[780:8] = 0x2a\n",
      "Executing 0x400000/4: li a0,0x2a at (4194304, 2) PCODE a0 = unique[780:8]\n",
      "[✅] exit myfunc_end: a0 == 42\n"
     ]
    },
    {
     "data": {
      "text/plain": [
       "Results(successes=['[✅] exit myfunc_end: a0 == 42'], failures=[], traces=[[(4194304, 0), '[✅] exit myfunc_end: a0 == 42']])"
      ]
     },
     "execution_count": 2,
     "metadata": {},
     "output_type": "execute_result"
    }
   ],
   "source": [
    "#%%prun -s tottime\n",
    "import subprocess\n",
    "import kdrag.contrib.pcode as pcode\n",
    "from kdrag.contrib.pcode.asmspec import AsmSpec, run_all_paths\n",
    "def assemble_and_check_riscv64(filename: str):\n",
    "    subprocess.run([\"riscv64-linux-gnu-as\", filename, \"-o\", \"/tmp/kdrag_temp.o\"], check=True)\n",
    "    ctx = pcode.BinaryContext(\"/tmp/kdrag_temp.o\", langid=\"RISCV:LE:64:default\")\n",
    "    spec = AsmSpec.of_file(filename, ctx)\n",
    "    print(spec)\n",
    "    return run_all_paths(ctx, spec)\n",
    "assemble_and_check_riscv64(\"/tmp/mop42.s\")"
   ]
  },
  {
   "cell_type": "markdown",
   "id": "66ecc077",
   "metadata": {},
   "source": [
    "# 32 bit\n",
    "little endian and big endian\n",
    "\n",
    "\n"
   ]
  },
  {
   "cell_type": "markdown",
   "id": "c6aa95f6",
   "metadata": {},
   "source": [
    "# Bits and Bobbles\n",
    "https://github.com/WestfW/structured_gas\n",
    "\n"
   ]
  },
  {
   "cell_type": "markdown",
   "id": "0fc35fc3",
   "metadata": {},
   "source": [
    "# reorg\n",
    "\n",
    "    checks: defaultdict[int, list[HasCheck]] = dataclasses.field(\n",
    "        default_factory=lambda: defaultdict(list)\n",
    "    )\n"
   ]
  },
  {
   "cell_type": "code",
   "execution_count": 1,
   "id": "982dc21b",
   "metadata": {},
   "outputs": [
    {
     "name": "stdout",
     "output_type": "stream",
     "text": [
      "{\n",
      "  \"addrmap\": {\n",
      "    \"4194304\": [\n",
      "      {\n",
      "        \"label\": \"_start\",\n",
      "        \"addr\": 4194304,\n",
      "        \"expr\": \"true\"\n",
      "      }\n",
      "    ],\n",
      "    \"4194314\": [\n",
      "      {\n",
      "        \"label\": \"_start_end\",\n",
      "        \"addr\": 4194314,\n",
      "        \"expr\": \"(= RAX (ite (bvult RDI RSI) RDI RSI))\"\n",
      "      }\n",
      "    ]\n",
      "  },\n",
      "  \"entries\": {\n",
      "    \"4194304\": [\n",
      "      [\n",
      "        \"_start\",\n",
      "        \"true\"\n",
      "      ]\n",
      "    ]\n",
      "  },\n",
      "  \"asserts\": {},\n",
      "  \"assumes\": {},\n",
      "  \"exits\": {\n",
      "    \"4194314\": [\n",
      "      [\n",
      "        \"_start_end\",\n",
      "        \"(= RAX (ite (bvult RDI RSI) RDI RSI))\"\n",
      "      ]\n",
      "    ]\n",
      "  },\n",
      "  \"cuts\": {}\n",
      "}\n",
      "Executing 0x400000/3: MOV RAX,RDI at (4194304, 0) PCODE IMARK ram[400000:3]\n",
      "Executing 0x400000/3: MOV RAX,RDI at (4194304, 1) PCODE RAX = RDI\n",
      "Executing 0x400003/3: CMP RSI,RDI at (4194307, 0) PCODE IMARK ram[400003:3]\n",
      "Executing 0x400003/3: CMP RSI,RDI at (4194307, 1) PCODE unique[3af00:8] = RSI\n",
      "Executing 0x400003/3: CMP RSI,RDI at (4194307, 2) PCODE CF = unique[3af00:8] < RDI\n",
      "Executing 0x400003/3: CMP RSI,RDI at (4194307, 3) PCODE OF = sborrow(unique[3af00:8], RDI)\n",
      "Executing 0x400003/3: CMP RSI,RDI at (4194307, 4) PCODE unique[3b000:8] = unique[3af00:8] - RDI\n",
      "Executing 0x400003/3: CMP RSI,RDI at (4194307, 5) PCODE SF = unique[3b000:8] s< 0x0\n",
      "Executing 0x400003/3: CMP RSI,RDI at (4194307, 6) PCODE ZF = unique[3b000:8] == 0x0\n",
      "Executing 0x400003/3: CMP RSI,RDI at (4194307, 7) PCODE unique[28080:8] = unique[3b000:8] & 0xff\n",
      "Executing 0x400003/3: CMP RSI,RDI at (4194307, 8) PCODE unique[28100:1] = popcount(unique[28080:8])\n",
      "Executing 0x400003/3: CMP RSI,RDI at (4194307, 9) PCODE unique[28180:1] = unique[28100:1] & 0x1\n",
      "Executing 0x400003/3: CMP RSI,RDI at (4194307, 10) PCODE PF = unique[28180:1] == 0x0\n",
      "Executing 0x400006/4: CMOVC RAX,RSI at (4194310, 0) PCODE IMARK ram[400006:4]\n",
      "Executing 0x400006/4: CMOVC RAX,RSI at (4194310, 1) PCODE unique[39b00:8] = RSI\n",
      "Executing 0x400006/4: CMOVC RAX,RSI at (4194310, 2) PCODE unique[39b80:1] = !CF\n",
      "Executing 0x400006/4: CMOVC RAX,RSI at (4194310, 3) PCODE if (unique[39b80:1]) goto ram[40000a:8]\n",
      "Executing 0x400006/4: CMOVC RAX,RSI at (4194310, 4) PCODE RAX = unique[39b00:8]\n"
     ]
    },
    {
     "data": {
      "text/plain": [
       "Results(successes=[\"[✅] VC(Entry(label='_start', addr=4194304, expr=True), ['0x400000', '0x400003', '0x400006'], Exit(label='_start_end', addr=4194314, expr=RAX == If(ULT(RDI, RSI), RDI, RSI)))\", \"[✅] VC(Entry(label='_start', addr=4194304, expr=True), ['0x400000', '0x400003', '0x400006'], Exit(label='_start_end', addr=4194314, expr=RAX == If(ULT(RDI, RSI), RDI, RSI)))\"], failures=[], traces=[])"
      ]
     },
     "execution_count": 1,
     "metadata": {},
     "output_type": "execute_result"
    }
   ],
   "source": [
    "# %%prun -s tottime\n",
    "from kdrag.contrib.pcode.asmspec import AsmSpec, run_all_paths, assemble_and_check_str\n",
    "\n",
    "ex = \"\"\"\n",
    "    .include \"/tmp/knuckle.s\"\n",
    "    .globl  _start\n",
    "    kd_entry _start \"true\"\n",
    "            movq     %rdi, %rax\n",
    "            cmp     %rdi, %rsi\n",
    "            cmovb   %rsi, %rax\n",
    "    kd_exit _start_end \"(= RAX (ite (bvult RDI RSI) RDI RSI))\"\n",
    "    #kd_exit _start_end \"(or (= RAX RDI) (= RAX RSI))\"\n",
    "            ret\n",
    "\"\"\"\n",
    "assemble_and_check_str(ex)\n",
    "\n"
   ]
  },
  {
   "cell_type": "code",
   "execution_count": null,
   "id": "948e71c9",
   "metadata": {},
   "outputs": [
    {
     "data": {
      "text/plain": [
       "{'pc': <pypcode.pypcode_native.Varnode at 0x76b63422a550>,\n",
       " 'ra': <pypcode.pypcode_native.Varnode at 0x76b60ba68360>,\n",
       " 'sp': <pypcode.pypcode_native.Varnode at 0x76b60ba68810>,\n",
       " 'gp': <pypcode.pypcode_native.Varnode at 0x76b60ba685a0>,\n",
       " 'tp': <pypcode.pypcode_native.Varnode at 0x76b60ba68480>,\n",
       " 't0': <pypcode.pypcode_native.Varnode at 0x76b60ba68c30>,\n",
       " 't1': <pypcode.pypcode_native.Varnode at 0x76b60ba68e40>,\n",
       " 't2': <pypcode.pypcode_native.Varnode at 0x76b60ba68c00>,\n",
       " 's0': <pypcode.pypcode_native.Varnode at 0x76b60ba68cc0>,\n",
       " 's1': <pypcode.pypcode_native.Varnode at 0x76b60ba68d50>,\n",
       " 'a0': <pypcode.pypcode_native.Varnode at 0x76b60ba68d20>,\n",
       " 'a1': <pypcode.pypcode_native.Varnode at 0x76b60ba68d80>,\n",
       " 'a2': <pypcode.pypcode_native.Varnode at 0x76b60ba68ed0>,\n",
       " 'a3': <pypcode.pypcode_native.Varnode at 0x76b60ba69200>,\n",
       " 'a4': <pypcode.pypcode_native.Varnode at 0x76b60ba68c90>,\n",
       " 'a5': <pypcode.pypcode_native.Varnode at 0x76b60ba68f90>,\n",
       " 'a6': <pypcode.pypcode_native.Varnode at 0x76b60ba68f00>,\n",
       " 'a7': <pypcode.pypcode_native.Varnode at 0x76b60ba68fc0>,\n",
       " 's2': <pypcode.pypcode_native.Varnode at 0x76b60ba69020>,\n",
       " 's3': <pypcode.pypcode_native.Varnode at 0x76b60ba690b0>,\n",
       " 's4': <pypcode.pypcode_native.Varnode at 0x76b60ba690e0>,\n",
       " 's5': <pypcode.pypcode_native.Varnode at 0x76b60ba69140>,\n",
       " 's6': <pypcode.pypcode_native.Varnode at 0x76b60ba69290>,\n",
       " 's7': <pypcode.pypcode_native.Varnode at 0x76b60ba691d0>,\n",
       " 's8': <pypcode.pypcode_native.Varnode at 0x76b60ba69260>,\n",
       " 's9': <pypcode.pypcode_native.Varnode at 0x76b60ba692c0>,\n",
       " 's10': <pypcode.pypcode_native.Varnode at 0x76b60ba69320>,\n",
       " 's11': <pypcode.pypcode_native.Varnode at 0x76b60ba694d0>,\n",
       " 't3': <pypcode.pypcode_native.Varnode at 0x76b60ba69470>,\n",
       " 't4': <pypcode.pypcode_native.Varnode at 0x76b60ba69440>,\n",
       " 't5': <pypcode.pypcode_native.Varnode at 0x76b60ba694a0>,\n",
       " 't6': <pypcode.pypcode_native.Varnode at 0x76b60ba693b0>,\n",
       " 'ft0': <pypcode.pypcode_native.Varnode at 0x76b60ba698c0>,\n",
       " 'ft1': <pypcode.pypcode_native.Varnode at 0x76b60ba69950>,\n",
       " 'ft2': <pypcode.pypcode_native.Varnode at 0x76b60ba69980>,\n",
       " 'ft3': <pypcode.pypcode_native.Varnode at 0x76b60ba69ce0>,\n",
       " 'ft4': <pypcode.pypcode_native.Varnode at 0x76b60ba69aa0>,\n",
       " 'ft5': <pypcode.pypcode_native.Varnode at 0x76b60ba6b720>,\n",
       " 'ft6': <pypcode.pypcode_native.Varnode at 0x76b60ba6b8d0>,\n",
       " 'ft7': <pypcode.pypcode_native.Varnode at 0x76b60ba6b900>,\n",
       " 'fs0': <pypcode.pypcode_native.Varnode at 0x76b60ba69a40>,\n",
       " 'fs1': <pypcode.pypcode_native.Varnode at 0x76b60ba6bd20>,\n",
       " 'fa0': <pypcode.pypcode_native.Varnode at 0x76b60ba6bea0>,\n",
       " 'fa1': <pypcode.pypcode_native.Varnode at 0x76b60ba6b420>,\n",
       " 'fa2': <pypcode.pypcode_native.Varnode at 0x76b60ba6b690>,\n",
       " 'fa3': <pypcode.pypcode_native.Varnode at 0x76b60ba6b390>,\n",
       " 'fa4': <pypcode.pypcode_native.Varnode at 0x76b60ba6b4b0>,\n",
       " 'fa5': <pypcode.pypcode_native.Varnode at 0x76b60ba6b450>,\n",
       " 'fa6': <pypcode.pypcode_native.Varnode at 0x76b60ba6b990>,\n",
       " 'fa7': <pypcode.pypcode_native.Varnode at 0x76b60ba6aaf0>,\n",
       " 'fs2': <pypcode.pypcode_native.Varnode at 0x76b60ba6bdb0>,\n",
       " 'fs3': <pypcode.pypcode_native.Varnode at 0x76b60ba6a580>,\n",
       " 'fs4': <pypcode.pypcode_native.Varnode at 0x76b60ba6a670>,\n",
       " 'fs5': <pypcode.pypcode_native.Varnode at 0x76b60ba6a100>,\n",
       " 'fs6': <pypcode.pypcode_native.Varnode at 0x76b60ba6aeb0>,\n",
       " 'fs7': <pypcode.pypcode_native.Varnode at 0x76b60ba6bb10>,\n",
       " 'fs8': <pypcode.pypcode_native.Varnode at 0x76b60ba6ad30>,\n",
       " 'fs9': <pypcode.pypcode_native.Varnode at 0x76b60ba69e90>,\n",
       " 'ft8': <pypcode.pypcode_native.Varnode at 0x76b60ba6b7e0>,\n",
       " 'ft9': <pypcode.pypcode_native.Varnode at 0x76b60ba6bed0>,\n",
       " 'frm': <pypcode.pypcode_native.Varnode at 0x76b60ba68030>,\n",
       " 'uie': <pypcode.pypcode_native.Varnode at 0x76b60ba6a8e0>,\n",
       " 'uip': <pypcode.pypcode_native.Varnode at 0x76b60b63d1d0>,\n",
       " 'sie': <pypcode.pypcode_native.Varnode at 0x76b60ba757d0>,\n",
       " 'sip': <pypcode.pypcode_native.Varnode at 0x76b60ba76f70>,\n",
       " 'mie': <pypcode.pypcode_native.Varnode at 0x76b60ba7e610>,\n",
       " 'mip': <pypcode.pypcode_native.Varnode at 0x76b60ba7d3e0>,\n",
       " 'hie': <pypcode.pypcode_native.Varnode at 0x76b60b6d0270>,\n",
       " 'hip': <pypcode.pypcode_native.Varnode at 0x76b60b6d19e0>,\n",
       " 'dpc': <pypcode.pypcode_native.Varnode at 0x76b60ba91d40>,\n",
       " 'vl': <pypcode.pypcode_native.Varnode at 0x76b60ba4fd50>}"
      ]
     },
     "execution_count": 10,
     "metadata": {},
     "output_type": "execute_result"
    }
   ],
   "source": [
    "import pypcode\n",
    "ctx = pypcode.Context(\"RISCV:LE:64:default\")\n",
    "#ctx.registers\n",
    "# Trim mem_init to just the good stuff somehow?\n",
    "# Maybe in archinfo\n",
    "{name: vnode for name, vnode in ctx.registers.items() if (vnode.size == 8 or vnode.size == 4) and len(name) <= 3}"
   ]
  },
  {
   "cell_type": "code",
   "execution_count": 3,
   "id": "d7a8c74f",
   "metadata": {},
   "outputs": [
    {
     "data": {
      "text/html": [
       "RAX!1506"
      ],
      "text/plain": [
       "RAX!1506"
      ]
     },
     "execution_count": 3,
     "metadata": {},
     "output_type": "execute_result"
    }
   ],
   "source": [
    "from kdrag.all import *\n",
    "import kdrag.contrib.pcode as pcode\n",
    "\n",
    "ctx = pcode.BinaryContext()\n",
    "memstate = ctx.init_mem()\n",
    "ctx.get_reg(memstate, \"RAX\")\n",
    "\n"
   ]
  },
  {
   "cell_type": "code",
   "execution_count": null,
   "id": "dac998ce",
   "metadata": {},
   "outputs": [],
   "source": [
    "! sudo apt install gcc-riscv64-linux-gnu g++-riscv64-linux-gnu  binutils-riscv64-linux-gnu"
   ]
  },
  {
   "cell_type": "code",
   "execution_count": 16,
   "id": "39635c65",
   "metadata": {},
   "outputs": [
    {
     "data": {
      "text/plain": [
       "['__annotations__',\n",
       " '__class__',\n",
       " '__delattr__',\n",
       " '__dict__',\n",
       " '__dir__',\n",
       " '__doc__',\n",
       " '__eq__',\n",
       " '__format__',\n",
       " '__ge__',\n",
       " '__getattribute__',\n",
       " '__getstate__',\n",
       " '__gt__',\n",
       " '__hash__',\n",
       " '__init__',\n",
       " '__init_subclass__',\n",
       " '__le__',\n",
       " '__lt__',\n",
       " '__module__',\n",
       " '__ne__',\n",
       " '__new__',\n",
       " '__reduce__',\n",
       " '__reduce_ex__',\n",
       " '__repr__',\n",
       " '__setattr__',\n",
       " '__setstate__',\n",
       " '__sizeof__',\n",
       " '__str__',\n",
       " '__subclasshook__',\n",
       " '__weakref__',\n",
       " '_configure_capstone',\n",
       " '_configure_keystone',\n",
       " '_cs',\n",
       " '_cs_x86_syntax',\n",
       " '_get_register_dict',\n",
       " '_ks',\n",
       " '_ks_x86_syntax',\n",
       " 'address_types',\n",
       " 'argument_register_positions',\n",
       " 'argument_registers',\n",
       " 'artificial_registers',\n",
       " 'artificial_registers_offsets',\n",
       " 'asm',\n",
       " 'bits',\n",
       " 'bp_offset',\n",
       " 'branch_delay_slot',\n",
       " 'byte_width',\n",
       " 'bytes',\n",
       " 'cache_irsb',\n",
       " 'call_pushes_ret',\n",
       " 'call_sp_fix',\n",
       " 'capstone',\n",
       " 'capstone_support',\n",
       " 'capstone_x86_syntax',\n",
       " 'concretize_unique_registers',\n",
       " 'copy',\n",
       " 'cpu_flag_register_offsets_and_bitmasks_map',\n",
       " 'cs_arch',\n",
       " 'cs_mode',\n",
       " 'default_endness',\n",
       " 'default_register_values',\n",
       " 'default_symbolic_registers',\n",
       " 'disasm',\n",
       " 'dwarf_registers',\n",
       " 'dynamic_tag_translation',\n",
       " 'elf_tls',\n",
       " 'entry_register_values',\n",
       " 'fp_ret_offset',\n",
       " 'function_address_types',\n",
       " 'function_epilogs',\n",
       " 'function_prologs',\n",
       " 'get_base_register',\n",
       " 'get_default_reg_value',\n",
       " 'get_register_by_name',\n",
       " 'get_register_offset',\n",
       " 'got_section_name',\n",
       " 'ida_processor',\n",
       " 'initial_sp',\n",
       " 'instruction_alignment',\n",
       " 'instruction_endness',\n",
       " 'ip_offset',\n",
       " 'is_artificial_register',\n",
       " 'is_thumb',\n",
       " 'keystone',\n",
       " 'keystone_support',\n",
       " 'keystone_x86_syntax',\n",
       " 'ks_arch',\n",
       " 'ks_mode',\n",
       " 'ld_linux_name',\n",
       " 'lib_paths',\n",
       " 'library_search_path',\n",
       " 'linux_name',\n",
       " 'lr_offset',\n",
       " 'm_addr',\n",
       " 'max_inst_bytes',\n",
       " 'memory_endness',\n",
       " 'name',\n",
       " 'nop_instruction',\n",
       " 'persistent_regs',\n",
       " 'qemu_name',\n",
       " 'reg_blacklist',\n",
       " 'reg_blacklist_offsets',\n",
       " 'register_endness',\n",
       " 'register_list',\n",
       " 'register_names',\n",
       " 'register_size_names',\n",
       " 'registers',\n",
       " 'reloc_b_a',\n",
       " 'reloc_copy',\n",
       " 'reloc_s',\n",
       " 'reloc_s_a',\n",
       " 'reloc_tls_doffset',\n",
       " 'reloc_tls_mod_id',\n",
       " 'reloc_tls_offset',\n",
       " 'ret_instruction',\n",
       " 'ret_offset',\n",
       " 'sizeof',\n",
       " 'sp_offset',\n",
       " 'stack_change',\n",
       " 'stack_size',\n",
       " 'struct_fmt',\n",
       " 'subregister_map',\n",
       " 'symbol_type_translation',\n",
       " 'syscall_num_offset',\n",
       " 'translate_dynamic_tag',\n",
       " 'translate_register_name',\n",
       " 'translate_symbol_type',\n",
       " 'triplet',\n",
       " 'uc_arch',\n",
       " 'uc_const',\n",
       " 'uc_mode',\n",
       " 'uc_prefix',\n",
       " 'uc_regs',\n",
       " 'unicorn',\n",
       " 'unicorn_support',\n",
       " 'vex_arch',\n",
       " 'vex_archinfo',\n",
       " 'vex_cc_regs',\n",
       " 'vex_conditional_helpers',\n",
       " 'vex_endness',\n",
       " 'vex_support',\n",
       " 'vex_to_unicorn_map',\n",
       " 'x_addr']"
      ]
     },
     "execution_count": 16,
     "metadata": {},
     "output_type": "execute_result"
    }
   ],
   "source": [
    "import cle\n",
    "loader = cle.loader.Loader(\"/tmp/myfunc.o\")\n",
    "dir(loader.all_elf_objects[0].arch)"
   ]
  },
  {
   "cell_type": "code",
   "execution_count": null,
   "id": "be6b2c23",
   "metadata": {},
   "outputs": [],
   "source": []
  }
 ],
 "metadata": {
  "kernelspec": {
   "display_name": "philzook58.github.io",
   "language": "python",
   "name": "python3"
  },
  "language_info": {
   "codemirror_mode": {
    "name": "ipython",
    "version": 3
   },
   "file_extension": ".py",
   "mimetype": "text/x-python",
   "name": "python",
   "nbconvert_exporter": "python",
   "pygments_lexer": "ipython3",
   "version": "3.12.3"
  }
 },
 "nbformat": 4,
 "nbformat_minor": 5
}
