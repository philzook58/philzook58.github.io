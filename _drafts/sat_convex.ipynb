{
 "cells": [
  {
   "cell_type": "markdown",
   "metadata": {},
   "source": [
    "https://dl.acm.org/doi/10.1145/3049797.3049819 SMC: Satisfiability Modulo Convex Optimization\n",
    "\n",
    "https://arxiv.org/pdf/1802.04408  ReaS: Combining Numerical Optimization with SAT Solving\n",
    "\n",
    "dreal\n",
    "\n",
    "my interval post https://www.philipzucker.com/z3-cegar-interval/\n",
    "\n",
    "cody's thing\n",
    "\n",
    "metitarski\n",
    "\n",
    "coin-or had some stuff\n",
    "\n"
   ]
  },
  {
   "cell_type": "code",
   "execution_count": null,
   "metadata": {
    "vscode": {
     "languageId": "plaintext"
    }
   },
   "outputs": [],
   "source": [
    "class MegaSolver():\n",
    "    def __init__(self):\n",
    "        self.z3solver = Solver()\n",
    "        #self.cvc5solver = Solver()\n",
    "        def contraints():\n",
    "    def add(self, constraint):\n",
    "    # dig for multiplications. Turn into log\n",
    "    # put in basic bounds of stuff.\n",
    "    def check():\n",
    "        # get model\n",
    "        # test in flint.\n",
    "        # add in bounds centered at that point metitarksi style \n",
    "\n",
    "\n",
    "\n",
    "\n",
    "\n"
   ]
  }
 ],
 "metadata": {
  "language_info": {
   "name": "python"
  }
 },
 "nbformat": 4,
 "nbformat_minor": 2
}
