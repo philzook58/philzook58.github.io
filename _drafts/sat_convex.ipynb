{
 "cells": [
  {
   "cell_type": "markdown",
   "metadata": {},
   "source": [
    "https://dl.acm.org/doi/10.1145/3049797.3049819 SMC: Satisfiability Modulo Convex Optimization\n",
    "\n",
    "https://arxiv.org/pdf/1802.04408  ReaS: Combining Numerical Optimization with SAT Solving\n",
    "\n",
    "dreal\n",
    "\n",
    "my interval post https://www.philipzucker.com/z3-cegar-interval/\n",
    "\n",
    "cody's thing\n",
    "\n",
    "metitarski\n",
    "\n",
    "coin-or had some stuff\n",
    "\n"
   ]
  },
  {
   "cell_type": "code",
   "execution_count": null,
   "metadata": {
    "vscode": {
     "languageId": "plaintext"
    }
   },
   "outputs": [],
   "source": [
    "class MegaSolver():\n",
    "    def __init__(self):\n",
    "        self.z3solver = Solver()\n",
    "        #self.cvc5solver = Solver()\n",
    "        def contraints():\n",
    "    def add(self, constraint):\n",
    "    # dig for multiplications. Turn into log\n",
    "    # put in basic bounds of stuff.\n",
    "    def check():\n",
    "        # get model\n",
    "        # test in flint.\n",
    "        # add in bounds centered at that point metitarksi style \n",
    "\n",
    "\n",
    "\n",
    "\n",
    "\n"
   ]
  },
  {
   "cell_type": "markdown",
   "metadata": {},
   "source": [
    "user propagate using arb\n",
    "https://microsoft.github.io/z3guide/programming/Example%20Programs/User%20Propagator/\n",
    "\n",
    "https://z3prover.github.io/api/html/namespacez3py.html#adf9a9a6b33a83c8fcdab3e98632f09cd\n",
    "\n",
    "UserPropagatorBase makes a special solver.\n",
    "user_prop does like an ambient thing?\n",
    "\n",
    "https://z3prover.github.io/api/html/z3py_8py_source.html#l11561\n",
    "\n",
    "def \tensure_prop_closures ()\n",
    "def \tuser_prop_push (ctx, cb)\n",
    "def \tuser_prop_pop (ctx, cb, num_scopes)\n",
    "def \tuser_prop_fresh (ctx, _new_ctx)\n",
    "def \tuser_prop_fixed (ctx, cb, id, value)\n",
    "def \tuser_prop_created (ctx, cb, id)\n",
    "def \tuser_prop_final (ctx, cb)\n",
    "def \tuser_prop_eq (ctx, cb, x, y)\n",
    "def \tuser_prop_diseq (ctx, cb, x, y)\n",
    "def \tuser_prop_decide (ctx, cb, t, idx, phase)\n",
    "def \tPropagateFunction (name, *sig)"
   ]
  },
  {
   "cell_type": "code",
   "execution_count": null,
   "metadata": {
    "vscode": {
     "languageId": "plaintext"
    }
   },
   "outputs": [],
   "source": [
    "from z3 import *\n",
    "\n",
    "x = PropagateFunction(\"x\", RealSort(), RealSort())\n",
    "sin = PropagateFunction(\"sin\", RealSort(), RealSort())\n",
    "\n",
    "class Arb(UserPropagateBase):\n",
    "    def __init__(self, s=None, ctx=None):\n",
    "        UserPropagateBase.__init__(self, s, ctx)\n",
    "        self.add_final(lambda : self._final())\n",
    "    def _final(self):\n",
    "\n",
    "\n",
    "\n",
    "\n"
   ]
  }
 ],
 "metadata": {
  "language_info": {
   "name": "python"
  }
 },
 "nbformat": 4,
 "nbformat_minor": 2
}
