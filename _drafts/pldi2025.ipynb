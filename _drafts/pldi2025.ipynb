{
 "cells": [
  {
   "cell_type": "markdown",
   "id": "1392c1d5",
   "metadata": {},
   "source": [
    "Cargo install egglog experiments\n",
    "\n",
    "https://egraphs-good.github.io/egglog-demo/\n",
    "\n",
    "https://github.com/egraphs-good/egglog-tutorial\n",
    "\n",
    "Wrappung primitives is kind of a bummer.\n"
   ]
  },
  {
   "cell_type": "markdown",
   "id": "885dba31",
   "metadata": {},
   "source": [
    "! cargo install --git https://github.com/egraphs-good/egglog-experimental.git"
   ]
  },
  {
   "cell_type": "code",
   "execution_count": 19,
   "id": "dded0dc5",
   "metadata": {},
   "outputs": [
    {
     "name": "stdout",
     "output_type": "stream",
     "text": [
      "Overwriting /tmp/hello.egg\n"
     ]
    }
   ],
   "source": [
    "%%file /tmp/hello.egg\n",
    "\n",
    "(datatype Math\n",
    "    (add Math Math)\n",
    "    (lit i64)\n",
    ")\n",
    "\n",
    "(extract \"hello-word\")\n",
    "(let t1 (lit 3))\n",
    "\n",
    "(extract t1)\n",
    "\n",
    "(check (= ?x t1))\n",
    "\n",
    "(let t2 (add t1 t1))\n",
    "(rewrite (add x y) (add y x))\n",
    "\n",
    "(run 10)\n",
    "\n",
    "\n"
   ]
  },
  {
   "cell_type": "code",
   "execution_count": 20,
   "id": "02c4cd42",
   "metadata": {},
   "outputs": [
    {
     "name": "stdout",
     "output_type": "stream",
     "text": [
      "\u001b[90m[\u001b[0m\u001b[32mINFO \u001b[0m\u001b[90m]\u001b[0m Declared sort Math.\n",
      "\u001b[90m[\u001b[0m\u001b[32mINFO \u001b[0m\u001b[90m]\u001b[0m Declared function add.\n",
      "\u001b[90m[\u001b[0m\u001b[32mINFO \u001b[0m\u001b[90m]\u001b[0m Declared function lit.\n",
      "\u001b[90m[\u001b[0m\u001b[32mINFO \u001b[0m\u001b[90m]\u001b[0m extracted with cost 1: \"hello-word\"\n",
      "\u001b[90m[\u001b[0m\u001b[32mINFO \u001b[0m\u001b[90m]\u001b[0m Declared function t1.\n",
      "\u001b[90m[\u001b[0m\u001b[32mINFO \u001b[0m\u001b[90m]\u001b[0m extracted with cost 2: (lit 3)\n",
      "\u001b[90m[\u001b[0m\u001b[32mINFO \u001b[0m\u001b[90m]\u001b[0m Checked fact [Eq(In 12:8-16 of /tmp/hello.egg: (= ?x t1), Var(In 12:11-12 of /tmp/hello.egg: ?x, ResolvedVar { name: \"?x\", sort: EqSort { name: \"Math\" }, is_global_ref: false }), Call(In 12:14-15 of /tmp/hello.egg: t1, Func(FuncType { name: \"t1\", subtype: Custom, input: [], output: EqSort { name: \"Math\" } }), []))].\n",
      "\u001b[90m[\u001b[0m\u001b[32mINFO \u001b[0m\u001b[90m]\u001b[0m Declared function t2.\n",
      "\u001b[90m[\u001b[0m\u001b[32mINFO \u001b[0m\u001b[90m]\u001b[0m Declared rule (rewrite (add x y) (add y x)).\n",
      "\u001b[90m[\u001b[0m\u001b[32mINFO \u001b[0m\u001b[90m]\u001b[0m Ran schedule (repeat 10 (run)).\n",
      "\u001b[90m[\u001b[0m\u001b[32mINFO \u001b[0m\u001b[90m]\u001b[0m Report: Rule (rewrite (add x y) (add y x)): search and apply 0.000s, num matches 1\n",
      "    Ruleset : search 0.000s, merge 0.000s, rebuild 0.000s\n",
      "    \n",
      "\"hello-word\"\n",
      "(lit 3)\n"
     ]
    }
   ],
   "source": [
    "! egglog-experimental /tmp/hello.egg"
   ]
  },
  {
   "cell_type": "markdown",
   "id": "1b26f62a",
   "metadata": {},
   "source": []
  }
 ],
 "metadata": {
  "kernelspec": {
   "display_name": ".venv",
   "language": "python",
   "name": "python3"
  },
  "language_info": {
   "codemirror_mode": {
    "name": "ipython",
    "version": 3
   },
   "file_extension": ".py",
   "mimetype": "text/x-python",
   "name": "python",
   "nbconvert_exporter": "python",
   "pygments_lexer": "ipython3",
   "version": "3.12.3"
  }
 },
 "nbformat": 4,
 "nbformat_minor": 5
}
