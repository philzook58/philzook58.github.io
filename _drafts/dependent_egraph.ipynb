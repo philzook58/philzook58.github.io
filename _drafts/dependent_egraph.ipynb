{
 "cells": [
  {
   "cell_type": "markdown",
   "id": "1604ad96",
   "metadata": {},
   "source": [
    "\n",
    "Talia\n",
    "\n",
    "Congruence closure Leo\n",
    "\n",
    "GATs\n",
    "\n",
    "Bildingmaier\n",
    "\n",
    "\n"
   ]
  }
 ],
 "metadata": {
  "language_info": {
   "name": "python"
  }
 },
 "nbformat": 4,
 "nbformat_minor": 5
}
