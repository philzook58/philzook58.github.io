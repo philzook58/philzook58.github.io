{
 "cells": [
  {
   "cell_type": "markdown",
   "id": "1604ad96",
   "metadata": {},
   "source": [
    "\n",
    "Talia\n",
    "\n",
    "Congruence closure Leo\n",
    "\n",
    "GATs\n",
    "\n",
    "Bildingmaier\n",
    "\n",
    "https://arxiv.org/pdf/2505.08496  Weighted Rewriting: Semiring Semantics for\n",
    "Abstract Reduction Systems\n",
    "Provenance / semiring semantics is an interesting variant of proof objects. Having proof objects for ring like things makes proof theory truncate naturally (free resolution)\n",
    "Scallop. Max plus.\n",
    "\n",
    "\n",
    "Datalog for tensor equations. Let the compiler do the rearrangement. Linear Relations. Born approximation. Dyson. \n",
    "\n",
    "\n",
    "\n"
   ]
  },
  {
   "cell_type": "code",
   "execution_count": 22,
   "id": "ed61aaef",
   "metadata": {},
   "outputs": [
    {
     "name": "stdout",
     "output_type": "stream",
     "text": [
      "Fin(0)\n",
      "Fin(1)\n"
     ]
    },
    {
     "data": {
      "text/plain": [
       "DEGraph(roots=defaultdict(<class 'set'>, {Array(Int, Bool): {17, 39}, Int: {16, 35}}), terms={17: Fin(0), 16: 0, 39: Fin(1), 35: 1}, uf={}, solver=[], reasons={}, types={17: set(), 39: {16}})"
      ]
     },
     "execution_count": 22,
     "metadata": {},
     "output_type": "execute_result"
    }
   ],
   "source": [
    "from kdrag.solvers.egraph import EGraph\n",
    "from kdrag.all import *\n",
    "from dataclasses import dataclass\n",
    "@dataclass\n",
    "class DEGraph(EGraph):\n",
    "    types : dict[int, set[int]]\n",
    "    def __init__(self):\n",
    "        super().__init__()\n",
    "        self.types = {}\n",
    "    def add_type(self, S : smt.ExprRef):\n",
    "        # get held sort\n",
    "        assert smt.is_array(S)\n",
    "        self.add_term(S)\n",
    "        Sid = self.find(S)\n",
    "        if Sid not in self.types:\n",
    "            tids = set()\n",
    "            print(S)\n",
    "            T = S.domain()\n",
    "            for tid in self.roots[T]:\n",
    "                with self.solver:\n",
    "                    self.solver.add(smt.Not(S[self.terms[tid]]))\n",
    "                    if self.solver.check() == smt.unsat:\n",
    "                        tids.add(tid)\n",
    "            self.types[Sid] = tids\n",
    "    def assign_type(self, t, A):\n",
    "        tid, Aid = self.find(t), self.find(A)\n",
    "        self.types[Aid].add(tid)\n",
    "        \n",
    "\n",
    "\n",
    "\n",
    "\n",
    "\n",
    "E = DEGraph()\n",
    "Vec = smt.Function(\"Vec\", smt.IntSort(), smt.SetSort(smt.SeqSort(smt.BoolSort())))\n",
    "Vec(3).sort().domain()\n",
    "#n = smt.Int(\"n\")\n",
    "#l = smt.\n",
    "Fin = smt.Function(\"Fin\", smt.IntSort(), smt.SetSort(smt.IntSort()))\n",
    "E.add_type(Fin(0))\n",
    "E.add_type(Fin(1))\n",
    "E.assign_type(smt.IntVal(0), Fin(1))\n",
    "E\n"
   ]
  },
  {
   "cell_type": "code",
   "execution_count": 1,
   "id": "706c2bf9",
   "metadata": {},
   "outputs": [],
   "source": [
    "from kdrag.solvers.egraph import EGraph\n",
    "from kdrag.all import *\n",
    "class DependentEGraph(EGraph):\n",
    "    types : dict[smt.ExprRef, set[smt.ExprRef]]\n",
    "    def is_type(self, A: smt.ExprRef) -> bool:\n",
    "        return self.find(A) in self.sets\n",
    "    def make_type(self, expr: smt.ExprRef) -> None:\n",
    "        if expr not in self.sets:\n",
    "            self.sets[expr] = set()\n",
    "    def has_type(self, t : smt.ExprRef, A : smt.ExprRef) -> bool:\n",
    "        A = self.find(A)\n",
    "        if self.is_type(A):\n",
    "            return self.find(t) in self.sets[A]\n",
    "        else:\n",
    "            return False\n",
    "    def assign_type(self, t: smt.ExprRef, A: smt.ExprRef) -> None:\n",
    "        A = self.find(A)\n",
    "        if not self.is_type(A):\n",
    "            raise ValueError(f\"Cannot assign type {A} to {t}, {A} is not a type\")\n",
    "        t = self.find(t)\n",
    "        self.sets[A].add(t)\n",
    "    def is_def_eq(self, t1: smt.ExprRef, t2: smt.ExprRef, A : smt.ExprRef) -> bool:\n",
    "        return self.has_type(t1, A) and self.has_type(t2, A) and self.find(t1).eq(self.find(t2))\n",
    "    def assert_def_eq(self, t1: smt.ExprRef, t2: smt.ExprRef, A: smt.ExprRef) -> None:\n",
    "        A = self.find(A)\n",
    "        self.assign_type(t1, A)\n",
    "        self.assign_type(t2, A)\n",
    "        self.union(t1, t2)\n",
    "    def rebuild(self):\n",
    "        super().rebuild()\n",
    "        newsets = defaultdict(set)\n",
    "        for k, v in self.sets.items():\n",
    "            newsets[self.find(k)] |= {self.find(x) for x in v}\n",
    "        self.sets = newsets"
   ]
  }
 ],
 "metadata": {
  "kernelspec": {
   "display_name": ".venv",
   "language": "python",
   "name": "python3"
  },
  "language_info": {
   "codemirror_mode": {
    "name": "ipython",
    "version": 3
   },
   "file_extension": ".py",
   "mimetype": "text/x-python",
   "name": "python",
   "nbconvert_exporter": "python",
   "pygments_lexer": "ipython3",
   "version": "3.12.3"
  }
 },
 "nbformat": 4,
 "nbformat_minor": 5
}
