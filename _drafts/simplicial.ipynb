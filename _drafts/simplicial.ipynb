{
 "cells": [
  {
   "cell_type": "code",
   "execution_count": null,
   "metadata": {},
   "outputs": [],
   "source": []
  },
  {
   "cell_type": "markdown",
   "metadata": {},
   "source": [
    "https://ncatlab.org/nlab/show/cubical+set\n",
    "\n",
    "a dictionary of named cubes.\n",
    "https://www.cse.chalmers.se/~coquand/course3.pdf lectures on cubical sets coquand\n",
    "\n",
    "Rational labelled points?\n",
    "{(0,1/2) : 42}\n",
    "Boolean tuples? (0,1,0) ... \n",
    "\n",
    "\n",
    "I -> \n",
    "\n",
    "face maps\n",
    "degeneracy\n",
    "\n",
    "https://amelia.how/posts/cubical-sets.html\n",
    "\n",
    "Kan - horns are boundaries with one face removed. For every horn, it can be extended to a cube.\n",
    "\n",
    "So a filled in sqaure is a kan complex.\n",
    "A horn isn't (?)\n",
    "The bouindary of a sqaure isn't (?)\n",
    "https://mathoverflow.net/questions/81982/what-is-the-intuition-of-connections-for-cubical-sets\n",
    "https://ncatlab.org/nlab/show/connection+on+a+cubical+set\n",
    "connection is extra degeneracies.\n"
   ]
  },
  {
   "cell_type": "markdown",
   "metadata": {},
   "source": [
    "Simplicial sets are generalziations of direct graphs.\n",
    "\n",
    "\n",
    "Rewriting simplifcation of meshes? graph rewrite like\n",
    "\n",
    "\n",
    "Once you go above the dimension where there is any strucutre, it's all degernate simplices. So it is a ppair of (maximal simplex, multiset of duplications)\n",
    "\n",
    "multisets are pretty solvable. \n",
    "type SSet = Multiset (actual, degernacies)\n",
    "\n",
    "\n",
    "Rather than equaltional theorem proving, try on model-like thinking.\n",
    "\n",
    "https://en.wikipedia.org/wiki/Kan_fibration\n",
    "\n",
    "https://algebraicjulia.github.io/CombinatorialSpaces.jl/dev/simplicial_sets/\n",
    "\n",
    "1-dimensional\t n-dimensional\n",
    "straight-line embedded graph\tsimplicial complex\n",
    "simple graph\t abstract simplicial complex\n",
    "graph         \tsemi-simplicial set\n",
    "reflexive graph  \tsimplicial set\n",
    "symmetric graph\t     symmetric semi-simplicial set\n",
    "symmetric reflexive graph\tsymmetric simplicial set\n",
    "\n",
    "convert by picking order of vertices https://ncatlab.org/nlab/show/simplicial+complex#vsSSet\n",
    "Huh\n",
    "\n",
    "Should I be trying to write a C-Set?\n",
    "keyed dictionaries.\n",
    "\n",
    "type Kdict = dict[key, dict[dom,cod]]\n",
    "\n",
    "def is_graph(d):\n",
    "    #  E -- dom/cod -> V\n",
    "    assert set(d.keys()) == [\"cod\", \"dom\"] and set(d[\"cod\"].keys()) == set(d[\"dom\"].keys())\n",
    "\n",
    "def is_refl_graph(d):\n",
    "\n",
    "type Morphism = dict[kdict, kdict]\n",
    "\n",
    "def is_morphism(m):\n",
    "    # check naturalness conditions.\n",
    "\n",
    "\n"
   ]
  },
  {
   "cell_type": "code",
   "execution_count": null,
   "metadata": {},
   "outputs": [],
   "source": [
    "\n",
    "# checking the degeneracy map condition.\n",
    "{d[i] @ s[j]   == d[j-1] @ s[i] for j in range(N) for i in range(j)}"
   ]
  },
  {
   "cell_type": "code",
   "execution_count": null,
   "metadata": {},
   "outputs": [],
   "source": [
    "from frozendict import frozendict\n",
    "type SSet2D = tuple[frozendict[object,object], frozendict[object, object]] # map from edges to vertices. That obeys\n",
    "\n",
    "type SSet = frozendict[int, ] # The d mappings?\n",
    "\n",
    "class SSet():\n",
    "    d : list[]\n",
    "\n",
    "\n",
    "import networkx as nx\n",
    "\n",
    "nx.DiGraph()\n",
    "def sset_of_digraph(G: nx.DiGraph) -> SSet:\n",
    "    assert all(v in G.neighbors(v) for v in G) \n",
    "    return frozendict((u, v) : u for u, v in G.edges()), frozendict((u, v) : v for u, v in G.edges())\n",
    "\n",
    "# A reflexive multidigraph.\n",
    "\n",
    "\n"
   ]
  },
  {
   "cell_type": "markdown",
   "metadata": {},
   "source": [
    "graph rewriting"
   ]
  },
  {
   "cell_type": "code",
   "execution_count": null,
   "metadata": {},
   "outputs": [],
   "source": [
    "# square\n",
    "#  01 ---/-01\n",
    "#  |   /    |\n",
    "#  |/       |\n",
    "# 00 ----- 10\n",
    "V = [(0,0), (1,0), (0,1), (1,1)]\n",
    "E = [\"bot\", \"top\", \"left\", \"right\", \"diag\", *V] # self loops\n",
    "d11 = {E[0]: V[0], E[1]: }\n",
    " \n",
    "\n"
   ]
  },
  {
   "cell_type": "markdown",
   "metadata": {},
   "source": [
    "Use string rewriting stuff i did for simplcial set axiomatization\n",
    "(\"s\", )\n"
   ]
  },
  {
   "cell_type": "markdown",
   "metadata": {},
   "source": [
    "# Homotopy HOAS\n",
    "Simplicial, CW, delta, complexes require aribtrary labellings. Kind of goofy.\n",
    "This is one paradigm of daatastrucutre, roll your own \"graphs\" kind of.\n",
    "Trees are nice. We have build in goodies.\n",
    "HOAS _could_ be nice. It sometimers is, lambda prolog.\n",
    "\n",
    "\n",
    "\n",
    "https://amelia.how/posts/cubical-type-theory.html\n"
   ]
  },
  {
   "cell_type": "code",
   "execution_count": 5,
   "metadata": {},
   "outputs": [
    {
     "ename": "ModuleNotFoundError",
     "evalue": "No module named 'flint.pyca'",
     "output_type": "error",
     "traceback": [
      "\u001b[0;31m---------------------------------------------------------------------------\u001b[0m",
      "\u001b[0;31mModuleNotFoundError\u001b[0m                       Traceback (most recent call last)",
      "Cell \u001b[0;32mIn[5], line 4\u001b[0m\n\u001b[1;32m      2\u001b[0m \u001b[38;5;28;01mfrom\u001b[39;00m \u001b[38;5;21;01mfractions\u001b[39;00m \u001b[38;5;28;01mimport\u001b[39;00m Fraction\n\u001b[1;32m      3\u001b[0m \u001b[38;5;28;01mfrom\u001b[39;00m \u001b[38;5;21;01mtyping\u001b[39;00m \u001b[38;5;28;01mimport\u001b[39;00m Callable\n\u001b[0;32m----> 4\u001b[0m \u001b[38;5;28;01mfrom\u001b[39;00m \u001b[38;5;21;01mflint\u001b[39;00m\u001b[38;5;21;01m.\u001b[39;00m\u001b[38;5;21;01mpyca\u001b[39;00m \u001b[38;5;28;01mimport\u001b[39;00m \u001b[38;5;241m*\u001b[39m\n\u001b[1;32m      5\u001b[0m \u001b[38;5;28;01mclass\u001b[39;00m \u001b[38;5;21;01mPoint\u001b[39;00m(): \u001b[38;5;66;03m# Space?\u001b[39;00m\n\u001b[1;32m      6\u001b[0m     \u001b[38;5;28;01mdef\u001b[39;00m \u001b[38;5;21m__eq__\u001b[39m(\u001b[38;5;28mself\u001b[39m, other):\n",
      "\u001b[0;31mModuleNotFoundError\u001b[0m: No module named 'flint.pyca'"
     ]
    }
   ],
   "source": [
    "from dataclasses import dataclass\n",
    "from fractions import Fraction\n",
    "from typing import Callable\n",
    "from flint.pyca import *\n",
    "class Point(): # Space?\n",
    "    def __eq__(self, other):\n",
    "        pass\n",
    "\n",
    "@dataclass\n",
    "class PlanePoint(Point):\n",
    "    x : Fraction\n",
    "    y : Fraction\n",
    "\n",
    "@dataclass\n",
    "class Point3D(Point):\n",
    "    x : Fraction\n",
    "    y : Fraction\n",
    "    z : Fraction\n",
    "\n",
    "\n",
    "I = Fraction\n",
    "\n",
    "@dataclass\n",
    "class Path(Point):\n",
    "    p : Callable[I, Point]\n",
    "    def __call__(self, i):\n",
    "        return self.p(i) \n",
    "\n",
    "def constpath(a : Point) -> \"I -> Point\": return lambda i: a\n",
    "\n",
    "def comp(f : \"Path\", g : \"Path\") -> \"Path\":\n",
    "    assert f(0) == g(1)\n",
    "    return lambda i: f(i) if i <= 0.5 else g(2*i-1)\n",
    "\n",
    "def diag(square):\n",
    "    return lambda i: square(i,i)\n",
    "\n",
    "\n",
    "def examp_square(i,j):\n",
    "    return Point3D(i,j,0)\n",
    "\n",
    "\n",
    "\n"
   ]
  },
  {
   "cell_type": "markdown",
   "metadata": {},
   "source": [
    "racing numerical gap finder and vampire"
   ]
  },
  {
   "cell_type": "code",
   "execution_count": 12,
   "metadata": {},
   "outputs": [
    {
     "data": {
      "text/plain": [
       "<module 'flint.types' from '/home/philip/.local/lib/python3.10/site-packages/flint/types/__init__.py'>"
      ]
     },
     "execution_count": 12,
     "metadata": {},
     "output_type": "execute_result"
    }
   ],
   "source": [
    "import flint\n",
    "flint._gr."
   ]
  },
  {
   "cell_type": "code",
   "execution_count": 7,
   "metadata": {},
   "outputs": [
    {
     "name": "stdout",
     "output_type": "stream",
     "text": [
      "Help on package flint:\n",
      "\n",
      "NAME\n",
      "    flint\n",
      "\n",
      "PACKAGE CONTENTS\n",
      "    flint_base (package)\n",
      "    flintlib (package)\n",
      "    functions (package)\n",
      "    pyflint\n",
      "    test (package)\n",
      "    types (package)\n",
      "    utils (package)\n",
      "\n",
      "FUNCTIONS\n",
      "    coerce_fmpz_mpolys(...)\n",
      "    \n",
      "    good(...)\n",
      "        Evaluates *func*, automatically increasing the precision to get\n",
      "        a result accurate to the current working precision (or the\n",
      "        precision specified by *prec* or *dps*).\n",
      "        \n",
      "            >>> from flint import arb\n",
      "            >>> good(lambda: (arb.pi() + arb(\"1e-100\")).sin())\n",
      "            Traceback (most recent call last):\n",
      "              ...\n",
      "            ValueError: no convergence (maxprec=630, try higher maxprec)\n",
      "            >>> good(lambda: (arb.pi() + arb(\"1e-100\")).sin(), maxprec=1000)\n",
      "            [-1.00000000000000e-100 +/- 3e-119]\n",
      "        \n",
      "        The function *func* can return an *arb*, an *acb*, or a composite\n",
      "        object such as a tuple or a matrix. By default all real and\n",
      "        imaginary parts of all components must be accurate. This means\n",
      "        that convergence is not possible in case of inexact zeros.\n",
      "        This behavior can be overridden by setting *parts* to *False*.\n",
      "        \n",
      "            >>> from flint import acb\n",
      "            >>> good(lambda: (acb(0,-1) ** 0.5) ** 2)\n",
      "            Traceback (most recent call last):\n",
      "              ...\n",
      "            ValueError: no convergence (maxprec=630, try higher maxprec)\n",
      "            >>> good(lambda: (acb(0,-1) ** 0.5) ** 2, parts=False)\n",
      "            [+/- 4.50e-22] + [-1.00000000000000 +/- 3e-20]j\n",
      "    \n",
      "    showgood(...)\n",
      "        Evaluates *func* accurately with :func:`good`, printing the decimal\n",
      "        value of the result (without an explicit radius) instead\n",
      "        of returning it.\n",
      "        \n",
      "            >>> from flint import arb\n",
      "            >>> showgood(lambda: arb.pi())\n",
      "            3.14159265358979\n",
      "            >>> showgood(lambda: arb.pi(), dps=50)\n",
      "            3.1415926535897932384626433832795028841971693993751\n",
      "\n",
      "DATA\n",
      "    ctx = pretty = True      # pretty-print repr() output\n",
      "    ... 1        # m...\n",
      "\n",
      "VERSION\n",
      "    0.6.0\n",
      "\n",
      "FILE\n",
      "    /home/philip/.local/lib/python3.10/site-packages/flint/__init__.py\n",
      "\n",
      "\n"
     ]
    }
   ],
   "source": [
    "import flint\n",
    "import flint.\n",
    "help(flint)"
   ]
  },
  {
   "cell_type": "code",
   "execution_count": null,
   "metadata": {},
   "outputs": [],
   "source": [
    "\n",
    "class HIT():\n",
    "    def __init__(self, dmap):\n",
    "        self.dmap = dmap\n",
    "\n",
    "circle = HIT([{\"base\" : Point2D(1,0)}\n",
    "              {\"loop\" : lambda i: Point2D(cos(2*pi*i), sin(2*pi*i))}])\n",
    "             ])\n",
    "\n",
    "comp(circle[1][0], circle[1][0])"
   ]
  },
  {
   "cell_type": "code",
   "execution_count": null,
   "metadata": {},
   "outputs": [],
   "source": [
    "from z3 import *\n",
    "Point = DeclareSort(\"Point\")\n",
    "I = RealSort()\n",
    "Path = ArraySort(I, Point)\n"
   ]
  },
  {
   "cell_type": "markdown",
   "metadata": {},
   "source": [
    "Cubical\n",
    "\n",
    "The total order is deicdable right.\n",
    "\n",
    "I asked by index is not bool. Bool has only two elements. We can synthetically subdivide always.\n",
    "\n",
    "homotopy\n",
    "\n",
    "naive cubical theory\n",
    "https://arxiv.org/pdf/1911.05844\n",
    "naive type theory \n",
    "https://link.springer.com/chapter/10.1007/978-3-030-15655-8_5\n",
    "\n",
    "def comp(f,g):\n",
    "    def res(x):\n",
    "        if x < 1/2:\n",
    "            return f(2*x)\n",
    "        else:\n",
    "            return g(2*x - 1)\n",
    "\n",
    "exact reals? Interval arithemtic + homotopy.\n",
    "\n",
    "def f(i):\n",
    "    return openset interval maps to.\n",
    "\n",
    "cubes\n",
    "\n",
    "I = DeclareSort(\"I\")\n",
    "i0, i1 = Consts(\"i0 i1\", I)\n",
    "join = \n",
    "meet = \n",
    "\n",
    "box closure. Hmm.\n",
    "\n"
   ]
  },
  {
   "cell_type": "markdown",
   "metadata": {},
   "source": [
    "Simplicial Sets and Equational Rewriting\n",
    "\n",
    "Simplicial Sets are kind of what you get if you take a \"Categorical database\" approach to describing meshes.\n",
    "\n",
    "https://www.youtube.com/watch?v=uxaOJYxWy9k&t=1875s&pp=ygUOc2ltcGxpY2lhbCBzZXQ%3D An intro to simplicial sets Maru Sarazola. Very useful.\n",
    "\n",
    "https://arxiv.org/pdf/0809.4221.pdf  An elementary illustrated introduction to simplicial sets\n",
    "https://en.wikipedia.org/wiki/Simplicial_set\n",
    "https://ncatlab.org/nlab/show/simplicial+set\n",
    "\n",
    "Oh yeah, didn't catlab have a thing https://algebraicjulia.github.io/CombinatorialSpaces.jl/dev/simplicial_sets/\n",
    "https://doc.sagemath.org/html/en/reference/topology/sage/topology/simplicial_set.html\n",
    "Wow, sage has cool topology stuff. Model hott into in?\n",
    "def interp(hotterm) -> sage.SimplicialSet?\n",
    "\n",
    "https://leanprover-community.github.io/mathlib4_docs/Mathlib/AlgebraicTopology/SimplicialSet.html\n",
    "\n",
    "https://graphics.stanford.edu/courses/cs468-02-fall/projects/SimplicialSets.pdf Oh wow, this is great\n",
    "https://graphics.stanford.edu/courses/cs468-02-fall/projects/simplicial.ppt powerpoint\n",
    "\n",
    "\n",
    "di = delete vertex i\n",
    "si = repeat vertex i\n",
    "\n",
    "```\n",
    "di dj = d_{j−1} di if i < j,\n",
    "di sj = s_{j−1} di if i < j,\n",
    "dj sj = d_{j+1} sj = id,\n",
    "di sj = sj d_{i−1} if i > j + 1,\n",
    "si sj = s_{j+1} si if i <= j.\n",
    "```"
   ]
  },
  {
   "cell_type": "code",
   "execution_count": 12,
   "metadata": {},
   "outputs": [
    {
     "name": "stdout",
     "output_type": "stream",
     "text": [
      "Overwriting /tmp/simplicial.tptp\n"
     ]
    }
   ],
   "source": [
    "%%file /tmp/simplicial.tptp\n",
    "\n",
    "% This is a simple example of a simplicial complex in TPTP format.\n",
    "% v = 0, e = 1, f = 2 vertices edges faces dimensions\n",
    "tff( vert_type , type, vert : $tType ).\n",
    "tff( edge_type , type, edge : $tType ).\n",
    "tff( face_type , type, face : $tType ).\n",
    "\n",
    "% d0?\n",
    "tff( d1_type , type, d1 : edge > vert ).\n",
    "tff( d2_type , type, d2 : face > edge ).\n",
    "\n",
    "\n",
    "tff( s0_type, type,  s0 : vert > edge ).\n",
    "tff( s1_type, type,  s1 : edge > face ).\n",
    "% s2 ?\n",
    "\n",
    "% di dj = d_{j−1} di if i < j,\n",
    "% tff( d0d1 , axiom, d0(d1(X)) = d0(d0(X))).\n",
    "tff( d1d2 , axiom, ![X] : (d1(d2(X)) = d1(d1(X)))).\n",
    "% tff( d0d2 , axiom, d0(d2(X))) = d1(d0(X)).\n",
    "\n",
    "\n",
    "% di sj = s_{j−1} di if i < j,\n",
    "tff( d1s2, axiom, ![X] : (d1(s2(X)) = s1(d1(X)))).\n",
    "tff( d0s2, axiom, ![X] : (d0(s2(X)) = s1(d0(X)))).\n",
    "\n",
    "% dj sj = d_{j+1} sj = id \n",
    "%tff( d1s1, axiom, ![X] : (d1(s1(X)) = d2(s1(X)))).\n",
    "%tff( d2s2, )\n",
    "\n",
    "\n",
    "\n",
    "\n",
    "\n"
   ]
  },
  {
   "cell_type": "code",
   "execution_count": 13,
   "metadata": {},
   "outputs": [
    {
     "name": "stdout",
     "output_type": "stream",
     "text": [
      "Error in /tmp/simplicial.tptp (line 19, column 36):\n",
      "Type mismatch in term 'd2(X)': Constant d2 has type face > edge but was applied to an argument of type $i\n"
     ]
    }
   ],
   "source": [
    "!twee /tmp/simplicial.tptp"
   ]
  },
  {
   "cell_type": "code",
   "execution_count": 2,
   "metadata": {},
   "outputs": [
    {
     "name": "stdout",
     "output_type": "stream",
     "text": [
      "\n",
      "Problem               (null) \n",
      "CPs.gen                    0 \n",
      "CPs.reexp                  0 \n",
      "Select                     0 \n",
      "R                          0 \n",
      "E                          0 \n",
      "vsize                   4.4M \n",
      "rss                     1.2M \n",
      "process.time          0.004s \n",
      "wallclock.time  1709247466.740s \n",
      "status                     E\n",
      "\n",
      "\n",
      " ERROR: No specification specified! \n"
     ]
    }
   ],
   "source": [
    "!waldmeister /tmp/simplicial.tptp # ah I see. I need to use the tptp2X converter."
   ]
  },
  {
   "cell_type": "code",
   "execution_count": null,
   "metadata": {},
   "outputs": [],
   "source": []
  },
  {
   "cell_type": "markdown",
   "metadata": {},
   "source": []
  },
  {
   "cell_type": "markdown",
   "metadata": {},
   "source": [
    "Cubical sets\n",
    "https://ncatlab.org/nlab/show/cubical+set\n"
   ]
  },
  {
   "cell_type": "markdown",
   "metadata": {},
   "source": [
    "\n",
    "\n",
    "\n"
   ]
  },
  {
   "cell_type": "code",
   "execution_count": null,
   "metadata": {},
   "outputs": [],
   "source": [
    "h"
   ]
  },
  {
   "cell_type": "code",
   "execution_count": 3,
   "metadata": {},
   "outputs": [
    {
     "name": "stderr",
     "output_type": "stream",
     "text": [
      "/home/philip/.local/lib/python3.10/site-packages/pyvista/jupyter/notebook.py:34: UserWarning: Failed to use notebook backend: \n",
      "\n",
      "No module named 'trame'\n",
      "\n",
      "Falling back to a static output.\n",
      "  warnings.warn(\n"
     ]
    },
    {
     "data": {
      "image/png": "[encoded data removed]",
      "text/plain": [
       "<PIL.Image.Image image mode=RGB size=1024x768 at 0x7F531B525390>"
      ]
     },
     "metadata": {},
     "output_type": "display_data"
    }
   ],
   "source": [
    "\n"
   ]
  },
  {
   "cell_type": "code",
   "execution_count": 4,
   "metadata": {},
   "outputs": [
    {
     "ename": "ModuleNotFoundError",
     "evalue": "No module named 'tetgen'",
     "output_type": "error",
     "traceback": [
      "\u001b[0;31m---------------------------------------------------------------------------\u001b[0m",
      "\u001b[0;31mModuleNotFoundError\u001b[0m                       Traceback (most recent call last)",
      "Cell \u001b[0;32mIn [4], line 2\u001b[0m\n\u001b[1;32m      1\u001b[0m \u001b[38;5;28;01mimport\u001b[39;00m \u001b[38;5;21;01mpyvista\u001b[39;00m \u001b[38;5;28;01mas\u001b[39;00m \u001b[38;5;21;01mpv\u001b[39;00m\n\u001b[0;32m----> 2\u001b[0m \u001b[38;5;28;01mimport\u001b[39;00m \u001b[38;5;21;01mtetgen\u001b[39;00m\n\u001b[1;32m      3\u001b[0m \u001b[38;5;28;01mimport\u001b[39;00m \u001b[38;5;21;01mnumpy\u001b[39;00m \u001b[38;5;28;01mas\u001b[39;00m \u001b[38;5;21;01mnp\u001b[39;00m\n\u001b[1;32m      4\u001b[0m pv\u001b[38;5;241m.\u001b[39mset_plot_theme(\u001b[38;5;124m'\u001b[39m\u001b[38;5;124mdocument\u001b[39m\u001b[38;5;124m'\u001b[39m)\n",
      "\u001b[0;31mModuleNotFoundError\u001b[0m: No module named 'tetgen'"
     ]
    }
   ],
   "source": []
  }
 ],
 "metadata": {
  "kernelspec": {
   "display_name": "Python 3",
   "language": "python",
   "name": "python3"
  },
  "language_info": {
   "codemirror_mode": {
    "name": "ipython",
    "version": 3
   },
   "file_extension": ".py",
   "mimetype": "text/x-python",
   "name": "python",
   "nbconvert_exporter": "python",
   "pygments_lexer": "ipython3",
   "version": "3.12.3"
  }
 },
 "nbformat": 4,
 "nbformat_minor": 2
}
