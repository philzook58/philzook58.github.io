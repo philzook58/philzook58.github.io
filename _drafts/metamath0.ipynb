{
 "cells": [
  {
   "cell_type": "markdown",
   "metadata": {},
   "source": [
    "\n",
    "metamath0\n",
    "opentheory\n",
    "\n",
    "a binary format for smtlib\n"
   ]
  }
 ],
 "metadata": {
  "language_info": {
   "name": "python"
  }
 },
 "nbformat": 4,
 "nbformat_minor": 2
}
