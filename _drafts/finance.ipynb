{
 "cells": [
  {
   "cell_type": "markdown",
   "id": "48fab290",
   "metadata": {},
   "source": [
    "https://www.quantconnect.com/\n"
   ]
  }
 ],
 "metadata": {
  "language_info": {
   "name": "python"
  }
 },
 "nbformat": 4,
 "nbformat_minor": 5
}
