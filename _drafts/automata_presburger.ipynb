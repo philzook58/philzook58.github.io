{
 "cells": [
  {
   "cell_type": "code",
   "execution_count": null,
   "metadata": {},
   "outputs": [],
   "source": [
    "\n",
    "\n",
    "\n",
    "\n",
    "def div3(carry, str):\n",
    "    \n"
   ]
  },
  {
   "cell_type": "markdown",
   "metadata": {},
   "source": [
    "https://netkat.org/\n",
    "\n",
    "Solutions of eqautions lead to coinductive stuff (?)\n",
    "\n",
    "Linear relations and open linear systems\n",
    "Rectangular regex transition matrices and open auotmata\n",
    "a fully observed co-egraph really has no opaque variables in a sense. Freely presented in such a way that every constant is determined.\n",
    "\n",
    "< x,y,z | x + y = 0, y - z = 1, x + y = 2 >  Is a freely presented theory (vector subspace)\n",
    "\n",
    "\n",
    "\n",
    "\n",
    "\n"
   ]
  },
  {
   "cell_type": "code",
   "execution_count": null,
   "metadata": {},
   "outputs": [],
   "source": [
    "class "
   ]
  },
  {
   "cell_type": "code",
   "execution_count": 46,
   "metadata": {},
   "outputs": [
    {
     "name": "stdout",
     "output_type": "stream",
     "text": [
      "no solution\n",
      "[s = \"\"]\n"
     ]
    }
   ],
   "source": [
    "from kdrag.all import *\n",
    "from dataclasses import dataclass\n",
    "\n",
    "RE = smt.ReSort(smt.StringSort())\n",
    "smt.simplify(smt.Re(\"a\") + smt.Empty(RE))\n",
    "\n",
    "union_decl = smt.Union(smt.Re(\"a\"), smt.Re(\"b\")).decl()\n",
    "def is_union(e):\n",
    "    return e.decl() == union_decl\n",
    "concat_decl = smt.Concat(smt.Re(\"a\"), smt.Re(\"b\")).decl()\n",
    "def is_concat(e):\n",
    "    return e.decl() == concat_decl\n",
    "star_decl = smt.Star(smt.Re(\"a\")).decl()\n",
    "def is_star(e):\n",
    "    return e.decl() == star_decl\n",
    "assert is_union(smt.Re(\"a\") + smt.Re(\"b\"))\n",
    "assert is_concat(smt.Concat(smt.Re(\"a\"), smt.Re(\"b\")))\n",
    "assert is_star(smt.Star(smt.Re(\"a\")))\n",
    "\n",
    "re_decl = smt.Re(\"\").decl()\n",
    "def is_re_const(e):\n",
    "    return e.decl() == re_decl\n",
    "def string_val(e):\n",
    "    assert is_re_const(e)\n",
    "    return e.arg(0).as_string()\n",
    "\n",
    "type State = object\n",
    "type Action = smt.ReRef\n",
    "@dataclass\n",
    "class NFAObs():\n",
    "    start : bool\n",
    "    end : bool\n",
    "    next : set[tuple[Action, State]]\n",
    "# https://julesjacobs.com/notes/nfa/nfa.pdf\n",
    "type nfa = dict[State, NFAObs]\n",
    "\n",
    "def of_regex(regex) -> nfa:\n",
    "    return {\"start\" : NFAObs(start=True, end=False, next={(regex ,\"end\")}),\n",
    "            \"end\" : NFAObs(start=False, end=True, next=set())}\n",
    "\n",
    "\n",
    "assert smt.simplify(smt.Concat(smt.Re(\"a\"), smt.Re(\"b\"))).eq(smt.Re(\"ab\"))\n",
    "of_regex(smt.Re(\"ab\"))\n",
    "\"\"\"\n",
    "def split(nfa):\n",
    "    nfa1 = {}\n",
    "    for st1, obs in nfa.items():\n",
    "        for act, st2 in obs.next:\n",
    "            if is_concat(act):\n",
    "                a1, a2 = act.arg(0), act.arg(1)\n",
    "            else:\n",
    "\"\"\"\n",
    "\n",
    "empty = smt.Empty(RE)\n",
    "empty\n",
    "\n",
    "one = smt.Re(\"\")\n",
    "\n",
    "s = smt.String(\"s\")\n",
    "smt.solve(smt.InRe(s, empty))\n",
    "smt.solve(smt.InRe(s, one))\n",
    "\n"
   ]
  },
  {
   "cell_type": "markdown",
   "metadata": {},
   "source": [
    "https://en.wikipedia.org/wiki/Brzozowski_derivative\n",
    "\n",
    "modulo ACI to finitize. simplify might be enough"
   ]
  },
  {
   "cell_type": "code",
   "execution_count": 44,
   "metadata": {},
   "outputs": [
    {
     "data": {
      "text/html": [
       "Re"
      ],
      "text/plain": [
       "Re"
      ]
     },
     "execution_count": 44,
     "metadata": {},
     "output_type": "execute_result"
    }
   ],
   "source": [
    "smt.Re(\"abc\").decl()"
   ]
  },
  {
   "cell_type": "code",
   "execution_count": null,
   "metadata": {},
   "outputs": [],
   "source": [
    "# https://www.cs.uoregon.edu/research/summerschool/summer24/lectures/Silva1.pdf\n",
    "def E0(e : smt.ReRef):\n",
    "    # is final? Accepts empty\n",
    "    if is_concat(e):\n",
    "        return all(E(c) for c in e.children())\n",
    "    elif is_union(e):\n",
    "        return any(E(c) for c in e.children())\n",
    "    elif is_star(e) | e.eq(empty):\n",
    "        return True\n",
    "    elif is_re_const(e): # fail? Unmatched case\n",
    "        return False\n",
    "    else:\n",
    "        raise ValueError(\"Unexpected RE\", e)\n",
    "def E(e):\n",
    "    return one if E0(e) else empty\n",
    "\n",
    "def D(a : str, e : smt.ReRef) -> smt.ReRef:\n",
    "    if is_empty(e):\n",
    "        return empty\n",
    "    elif e.eq(one):\n",
    "        return empty\n",
    "    elif is_concat(e):\n",
    "        if Ee.arg(0)\n",
    "    elif is_union(e):\n",
    "        return smt.Union(D(a,c) for c in e.children())\n",
    "    elif is_star(e):\n",
    "        return smt.Concat(D(a,e.arg(0)),e)\n",
    "    if is_re_const(e):\n",
    "        v = string_val(e)\n",
    "        return one if v[0] == a else empty\n",
    "    else:\n",
    "        return empty\n",
    "\n",
    "def D(a : str, e : smt.ReRef) -> frozenset[smt.ReRef]:\n",
    "    if is_empty(e):\n",
    "        return frozenset()\n",
    "    elif e.eq(one):\n",
    "        return frozenset()\n",
    "    elif is_concat(e):\n",
    "        raise ValueError(\"Todo\")\n",
    "    elif is_union(e):\n",
    "        return frozenset(x for c in e.children() for x in D(a,c))\n",
    "    elif is_star(e):\n",
    "        return smt.Concat(D(a,e.arg(0)),e)\n",
    "    if e.eq(smt.Re(\"a\")):\n",
    "        return frozenset([one])\n",
    "    else:\n",
    "        return frozenset()\n",
    "    \n"
   ]
  },
  {
   "cell_type": "markdown",
   "metadata": {},
   "source": [
    "CFG / SSA conversion\n",
    "https://rosstate.org/publications/eqsat/\n",
    "\n",
    "Spiral to circle is as execution is to cfg ?\n",
    "\n",
    "CFA control flow automaton\n",
    "while loops -> KAT\n",
    "while b do c end =  (bc)* something\n",
    "\n",
    "\n"
   ]
  },
  {
   "cell_type": "code",
   "execution_count": null,
   "metadata": {},
   "outputs": [
    {
     "ename": "AttributeError",
     "evalue": "module 'z3' has no attribute 'RegexSort'",
     "output_type": "error",
     "traceback": [
      "\u001b[31m---------------------------------------------------------------------------\u001b[39m",
      "\u001b[31mAttributeError\u001b[39m                            Traceback (most recent call last)",
      "\u001b[36mCell\u001b[39m\u001b[36m \u001b[39m\u001b[32mIn[2]\u001b[39m\u001b[32m, line 2\u001b[39m\n\u001b[32m      1\u001b[39m \u001b[38;5;28;01mimport\u001b[39;00m\u001b[38;5;250m \u001b[39m\u001b[34;01mz3\u001b[39;00m\n\u001b[32m----> \u001b[39m\u001b[32m2\u001b[39m RE = \u001b[43mz3\u001b[49m\u001b[43m.\u001b[49m\u001b[43mRegexSort\u001b[49m()\n",
      "\u001b[31mAttributeError\u001b[39m: module 'z3' has no attribute 'RegexSort'"
     ]
    }
   ],
   "source": [
    "import z3\n",
    "RE = z3.RegexSort()\n",
    "\n",
    "type State = object\n",
    "type Action = object # smt.ReSort\n",
    "class NFAObs():\n",
    "    start : bool\n",
    "    end : bool\n",
    "    next : set[tuple[Action, State]]\n",
    "\n",
    "type nfa = dict[State, NFAObs]\n",
    "# https://julesjacobs.com/notes/nfa/nfa.pdf\n",
    "\n",
    "def of_regex(regex) -> nfa:\n",
    "    return {\"start\" : NFAObs(start=True, end=False, next={(regex ,\"end\")}),\n",
    "            \"end\" : NFAObs(start=False, end=True, next=set())}\n",
    "def split(nfa) -> nfa:\n",
    "\n",
    "def compact(obs):\n",
    "    # compact parallel edges\n",
    "\n",
    "\n",
    "\n",
    "\n",
    "def determinize(nfa: nfa) -> nfa: ...\n",
    "\n",
    "\n",
    "\n",
    "\n"
   ]
  },
  {
   "cell_type": "code",
   "execution_count": null,
   "metadata": {},
   "outputs": [],
   "source": [
    "import dfa\n"
   ]
  },
  {
   "cell_type": "markdown",
   "metadata": {},
   "source": [
    "https://www.philipzucker.com/naive_automata/ \n",
    "https://www.philipzucker.com/coegraph/\n",
    "https://www.philipzucker.com/bryzzowski_kat/\n",
    "https://www.philipzucker.com/notes/CS/regex-automata-coinduction-bisimulation/\n",
    "\n",
    "\n",
    "Do some of the operations. Automata with regex edges.\n",
    "Schur complement analogies. Can I use numpy? But it gets me like nothing? Well vectorization of ops for free I guess.\n",
    "Good elimination order -> nice regex. Maybe this is kind of like numerical stability of gaussian elim?\n",
    "Tridiagonal automata? Symmetric automata? Unitary? Circulant. Analog of fourier transform?\n",
    "Infinitary automata and differential equations. An infinite or semiinfinite transition matrix\n",
    "Feynman diagram like techniques?\n",
    "It's kind of \n",
    "Weight automata are markov processes?\n",
    "https://en.wikipedia.org/wiki/Weighted_automaton\n",
    "\n",
    "https://ems.press/books/standalone/174 Handbook of automata theory\n",
    "Handbook of weighted automata  https://link.springer.com/book/10.1007/978-3-642-01492-5\n",
    "\n",
    "https://dl.acm.org/doi/10.1145/2500365.2500613 Fun with semirings: a functional pearl on the abuse of linear algebra\n",
    "\n",
    "Open automata. ids of ports are observable. But then they are forgotten.\n",
    "minimal automata ~ rank?\n",
    "\n",
    "Model checking book.\n",
    "\n",
    "non Well founded sets. vicious circles\n",
    "Silva\n",
    "Regex -> atuiomata -> regex\n",
    "imp -> ssa -> imp\n",
    "KAT\n",
    "\n",
    "PEGs to and from\n",
    "\n",
    "\n",
    "f a -> a  == dict[tuple[str, int], int] is the data of a model\n",
    "a -> f a  = dict[int, tuple[str, int]] is data of comodel?\n",
    "\n",
    "What are the equations these things are models of?\n",
    "\n",
    "\n",
    "https://dl.acm.org/doi/abs/10.1145/3571245  https://julesjacobs.com/  \tFast Coalgebraic Bisimilarity Minimization\n",
    "\n",
    "https://julesjacobs.com/notes/nfa/nfa.pdf \n",
    "state elimination makes \n",
    "\n",
    "https://julesjacobs.com/notes/smartconstr/smartconstr.pdf \n",
    "\n",
    "matrix methods. kleene star and schur complement\n",
    "\n",
    "books on automata techniques\n",
    "\n",
    "SSA as abstract interpretation https://binsec.github.io/assets/publications/papers/2023-popl-full-with-appendices.pdf\n",
    "\n",
    "Relooper.\n"
   ]
  },
  {
   "cell_type": "code",
   "execution_count": null,
   "metadata": {},
   "outputs": [],
   "source": [
    "class Imp(): ...\n",
    "\n",
    "class SSA(): ..."
   ]
  },
  {
   "cell_type": "markdown",
   "metadata": {},
   "source": [
    "https://people.csail.mit.edu/mcarbin/papers/aplas05.pdf Using Datalog with Binary Decision Diagrams\n",
    "for Program Analysis\n",
    "\n",
    "https://drive.google.com/file/d/17ezRWes7OkszARizFBPOqwUUqrGj8h6Q/view automata and computability book ganesh  Gopalakrishnan\n",
    "\n",
    "\n",
    "Brozkowski minimization - reverse dfa to nfa, determinize, then that is minimal? But do it twice back to original language?\n",
    "NFA can have multiple start states.\n",
    "\n",
    "https://users.cs.utah.edu/~ganesh/Jove.html\n",
    "\n",
    "https://github.com/ganeshutah/Jove\n",
    "\n",
    "https://github.com/mvcisback/bdd2dfa\n",
    "\n",
    "https://github.com/tulip-control/dd\n",
    "\n",
    "\n",
    "remember I had some thing that bdds were applicative?\n",
    "\n",
    "bdddbbdd\n",
    "Iteratively add transition relation and eliminate to fixpoint. Set of reachable states\n",
    "\n",
    "Build a bdddbbd\n",
    "\n",
    "Extraction from a bdd?\n",
    "\n",
    "Interpolants from a bdd?\n",
    "\n",
    "K induction?\n",
    "\n",
    "Dfa for lists. Observations vs recursive components.\n",
    "\n"
   ]
  },
  {
   "cell_type": "code",
   "execution_count": null,
   "metadata": {},
   "outputs": [],
   "source": []
  },
  {
   "cell_type": "code",
   "execution_count": 44,
   "metadata": {},
   "outputs": [
    {
     "name": "stdout",
     "output_type": "stream",
     "text": [
      "{'x': True}\n",
      "1\n"
     ]
    },
    {
     "ename": "TypeError",
     "evalue": "bad operand type for abs(): 'Function'",
     "output_type": "error",
     "traceback": [
      "\u001b[31m---------------------------------------------------------------------------\u001b[39m",
      "\u001b[31mTypeError\u001b[39m                                 Traceback (most recent call last)",
      "\u001b[36mCell\u001b[39m\u001b[36m \u001b[39m\u001b[32mIn[44]\u001b[39m\u001b[32m, line 10\u001b[39m\n\u001b[32m      8\u001b[39m \u001b[38;5;28mprint\u001b[39m(bdd.count(x))\n\u001b[32m      9\u001b[39m \u001b[38;5;28mdir\u001b[39m(bdd)\n\u001b[32m---> \u001b[39m\u001b[32m10\u001b[39m \u001b[43mto_nx\u001b[49m\u001b[43m(\u001b[49m\u001b[43mbdd\u001b[49m\u001b[43m,\u001b[49m\u001b[43m \u001b[49m\u001b[43m[\u001b[49m\u001b[43mx\u001b[49m\u001b[43m]\u001b[49m\u001b[43m)\u001b[49m\n",
      "\u001b[36mFile \u001b[39m\u001b[32m~/philzook58.github.io/.venv/lib/python3.12/site-packages/dd/bdd.py:3240\u001b[39m, in \u001b[36mto_nx\u001b[39m\u001b[34m(bdd, roots)\u001b[39m\n\u001b[32m   3238\u001b[39m g = _nx.MultiDiGraph()\n\u001b[32m   3239\u001b[39m \u001b[38;5;28;01mfor\u001b[39;00m root \u001b[38;5;129;01min\u001b[39;00m roots:\n\u001b[32m-> \u001b[39m\u001b[32m3240\u001b[39m     \u001b[38;5;28;01mif\u001b[39;00m \u001b[38;5;28;43mabs\u001b[39;49m\u001b[43m(\u001b[49m\u001b[43mroot\u001b[49m\u001b[43m)\u001b[49m \u001b[38;5;129;01mnot\u001b[39;00m \u001b[38;5;129;01min\u001b[39;00m bdd:\n\u001b[32m   3241\u001b[39m         \u001b[38;5;28;01mraise\u001b[39;00m \u001b[38;5;167;01mValueError\u001b[39;00m(root)\n\u001b[32m   3242\u001b[39m     Q = {root}\n",
      "\u001b[31mTypeError\u001b[39m: bad operand type for abs(): 'Function'"
     ]
    }
   ],
   "source": [
    "from dd.autoref import BDD\n",
    "\n",
    "bdd = BDD()\n",
    "bdd.declare('x', 'y', 'z', 'w')\n",
    "x = bdd.var(\"x\")\n",
    "for model in bdd.pick_iter(x):\n",
    "    print(model)\n",
    "print(bdd.count(x))\n",
    "dir(bdd)\n",
    "to_nx(bdd, [x])"
   ]
  },
  {
   "cell_type": "code",
   "execution_count": 28,
   "metadata": {},
   "outputs": [
    {
     "ename": "ImportError",
     "evalue": "cannot import name 'to_nx' from 'dd.cudd' (/home/philip/philzook58.github.io/.venv/lib/python3.12/site-packages/dd/cudd.cpython-312-x86_64-linux-gnu.so)",
     "output_type": "error",
     "traceback": [
      "\u001b[31m---------------------------------------------------------------------------\u001b[39m",
      "\u001b[31mImportError\u001b[39m                               Traceback (most recent call last)",
      "\u001b[36mCell\u001b[39m\u001b[36m \u001b[39m\u001b[32mIn[28]\u001b[39m\u001b[32m, line 1\u001b[39m\n\u001b[32m----> \u001b[39m\u001b[32m1\u001b[39m \u001b[38;5;28;01mfrom\u001b[39;00m\u001b[38;5;250m \u001b[39m\u001b[34;01mdd\u001b[39;00m\u001b[34;01m.\u001b[39;00m\u001b[34;01mcudd\u001b[39;00m\u001b[38;5;250m \u001b[39m\u001b[38;5;28;01mimport\u001b[39;00m BDD, to_nx\n\u001b[32m      2\u001b[39m bdd = BDD()\n\u001b[32m      3\u001b[39m bdd.declare(\u001b[33m'\u001b[39m\u001b[33mx\u001b[39m\u001b[33m'\u001b[39m, \u001b[33m'\u001b[39m\u001b[33my\u001b[39m\u001b[33m'\u001b[39m, \u001b[33m'\u001b[39m\u001b[33mz\u001b[39m\u001b[33m'\u001b[39m, \u001b[33m'\u001b[39m\u001b[33mw\u001b[39m\u001b[33m'\u001b[39m)\n",
      "\u001b[31mImportError\u001b[39m: cannot import name 'to_nx' from 'dd.cudd' (/home/philip/philzook58.github.io/.venv/lib/python3.12/site-packages/dd/cudd.cpython-312-x86_64-linux-gnu.so)"
     ]
    }
   ],
   "source": [
    "from dd.cudd import BDD, to_nx\n",
    "bdd = BDD()\n",
    "bdd.declare('x', 'y', 'z', 'w')\n",
    "bdd.declare('x', 'y', 'z', 'w1')\n",
    "x = bdd.var(\"x\")\n",
    "dir(bdd)\n"
   ]
  },
  {
   "cell_type": "code",
   "execution_count": 36,
   "metadata": {},
   "outputs": [
    {
     "ename": "TypeError",
     "evalue": "bad operand type for abs(): 'dd.cudd.Function'",
     "output_type": "error",
     "traceback": [
      "\u001b[31m---------------------------------------------------------------------------\u001b[39m",
      "\u001b[31mTypeError\u001b[39m                                 Traceback (most recent call last)",
      "\u001b[36mCell\u001b[39m\u001b[36m \u001b[39m\u001b[32mIn[36]\u001b[39m\u001b[32m, line 2\u001b[39m\n\u001b[32m      1\u001b[39m \u001b[38;5;28;01mfrom\u001b[39;00m\u001b[38;5;250m \u001b[39m\u001b[34;01mdd\u001b[39;00m\u001b[34;01m.\u001b[39;00m\u001b[34;01mbdd\u001b[39;00m\u001b[38;5;250m \u001b[39m\u001b[38;5;28;01mimport\u001b[39;00m to_nx\n\u001b[32m----> \u001b[39m\u001b[32m2\u001b[39m \u001b[43mto_nx\u001b[49m\u001b[43m(\u001b[49m\u001b[43mbdd\u001b[49m\u001b[43m,\u001b[49m\u001b[43m \u001b[49m\u001b[43m[\u001b[49m\u001b[43mx\u001b[49m\u001b[43m]\u001b[49m\u001b[43m)\u001b[49m\n",
      "\u001b[36mFile \u001b[39m\u001b[32m~/philzook58.github.io/.venv/lib/python3.12/site-packages/dd/bdd.py:3240\u001b[39m, in \u001b[36mto_nx\u001b[39m\u001b[34m(bdd, roots)\u001b[39m\n\u001b[32m   3238\u001b[39m g = _nx.MultiDiGraph()\n\u001b[32m   3239\u001b[39m \u001b[38;5;28;01mfor\u001b[39;00m root \u001b[38;5;129;01min\u001b[39;00m roots:\n\u001b[32m-> \u001b[39m\u001b[32m3240\u001b[39m     \u001b[38;5;28;01mif\u001b[39;00m \u001b[38;5;28;43mabs\u001b[39;49m\u001b[43m(\u001b[49m\u001b[43mroot\u001b[49m\u001b[43m)\u001b[49m \u001b[38;5;129;01mnot\u001b[39;00m \u001b[38;5;129;01min\u001b[39;00m bdd:\n\u001b[32m   3241\u001b[39m         \u001b[38;5;28;01mraise\u001b[39;00m \u001b[38;5;167;01mValueError\u001b[39;00m(root)\n\u001b[32m   3242\u001b[39m     Q = {root}\n",
      "\u001b[31mTypeError\u001b[39m: bad operand type for abs(): 'dd.cudd.Function'"
     ]
    }
   ],
   "source": [
    "from dd.bdd import to_nx\n",
    "to_nx(bdd, [x])"
   ]
  },
  {
   "cell_type": "code",
   "execution_count": null,
   "metadata": {},
   "outputs": [],
   "source": [
    "class BDD():\n",
    "    def __init__(self):\n",
    "        self.table = {False: 0, True: 1}\n",
    "        self.vars = {}\n",
    "    def hashcons(self, node):\n",
    "        res = self.table.get(node)\n",
    "        if res is None:\n",
    "            id_ = len(self.table)\n",
    "            self.table[node] = id_\n",
    "            return id_\n",
    "        else:\n",
    "            return res\n",
    "    def Const(name):\n",
    "        \n",
    "\n",
    "\n"
   ]
  },
  {
   "cell_type": "markdown",
   "metadata": {},
   "source": [
    "presburger for ordinals?\n",
    "\n",
    "isl\n",
    "\n",
    "fast automata. new netkat\n",
    "\n",
    "barvinovik\n",
    "\n",
    "Falcon cache analysys\n",
    "\n"
   ]
  },
  {
   "cell_type": "markdown",
   "metadata": {},
   "source": [
    "Watch python function use automata learnign to discover dfa\n",
    "\n",
    "\n",
    "\n",
    "unary\n",
    "(1111)*  is divisible by 4\n",
    "ort 1+1+1+1 expressions\n",
    "\n",
    "Integer sets as regexes.\n",
    "\n",
    "\n",
    "Long division by given number ought to be expressible as a finite automata. with current carry as part of state\n",
    "\n",
    "3x+1\n",
    "\n",
    "sequences\n",
    "\n",
    "\n",
    "https://mblondin.espaceweb.usherbrooke.ca/automata/  automata theory and algorithmic approach\n",
    "https://dl.acm.org/doi/10.1145/3656452  Falcon: A Scalable Analytical Cache Model\n",
    "Hmmm. Egraphify it?\n",
    "MLIR prtesburger\n",
    "isl and barvinovik\n",
    "\n"
   ]
  },
  {
   "cell_type": "code",
   "execution_count": null,
   "metadata": {},
   "outputs": [],
   "source": [
    "import regex\n",
    "\n",
    "div1 = \"(0|1)*\"\n",
    "even = \"(0|1)*1\" # or zero I guess?\n",
    "even = div1 + \"1\" + \"|\"  fail + \"0\"\n",
    "div4 = \"(0|1)*10\"\n",
    "div8 = \"(0|1)*100\"\n",
    "\n",
    "div3 = [\"11\", \"110\", \"1001\", \"1100\"] \n",
    "\n",
    "     \" ( ()1 +()0 )1   | (   )0\"\n",
    "\n",
    "#div3 = div[(3-1)/2] + \"1\" | div[3/2] + \"0\"\n",
    "x = 3*n\n",
    "x = 1 + y\n",
    "1 + y = 3*n\n",
    "\n",
    "\n",
    "div3 = div2 + div1 + div3\n",
    "\n",
    "\n",
    "# a vector of regexes\n",
    "[even, div4]\n",
    "\n",
    "# we can squash by making combo symbols\n",
    "\n",
    "\n",
    "# a commmunicating vector\n",
    "\n",
    "\n",
    "\n",
    "\n",
    "\n"
   ]
  }
 ],
 "metadata": {
  "kernelspec": {
   "display_name": ".venv",
   "language": "python",
   "name": "python3"
  },
  "language_info": {
   "codemirror_mode": {
    "name": "ipython",
    "version": 3
   },
   "file_extension": ".py",
   "mimetype": "text/x-python",
   "name": "python",
   "nbconvert_exporter": "python",
   "pygments_lexer": "ipython3",
   "version": "3.12.3"
  }
 },
 "nbformat": 4,
 "nbformat_minor": 2
}
