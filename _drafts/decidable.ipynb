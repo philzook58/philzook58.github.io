{
 "cells": [
  {
   "cell_type": "code",
   "execution_count": null,
   "metadata": {},
   "outputs": [],
   "source": []
  },
  {
   "cell_type": "markdown",
   "metadata": {},
   "source": [
    "Harrison chapter. All kinds iof cool stuff\n",
    "\n",
    "quantifier elim.\n",
    "presburger\n",
    "\n",
    "cad\n",
    "sturm alternating signs\n",
    "\n",
    "Weispfenning\n",
    "\n",
    "Wu's method. More to it than I thought. Complex numbers important?\n",
    "\n",
    "shostak\n",
    "nelson oppen\n",
    "\n",
    "\n"
   ]
  }
 ],
 "metadata": {
  "language_info": {
   "name": "python"
  }
 },
 "nbformat": 4,
 "nbformat_minor": 2
}
