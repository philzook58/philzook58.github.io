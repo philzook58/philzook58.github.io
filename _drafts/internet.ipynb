{
 "cells": [
  {
   "cell_type": "markdown",
   "metadata": {},
   "source": [
    "DNS\n",
    "HTTP\n",
    "Networking\n",
    "\n",
    "Stanford course back in the day \n",
    "\n",
    "\n",
    "scapy https://scapy.net/\n",
    "https://nostarch.com/packetanalysis3 Practical Packet Analysis,\n"
   ]
  },
  {
   "cell_type": "code",
   "execution_count": 2,
   "metadata": {},
   "outputs": [
    {
     "name": "stdout",
     "output_type": "stream",
     "text": [
      "# This is /run/systemd/resolve/stub-resolv.conf managed by man:systemd-resolved(8).\n",
      "# Do not edit.\n",
      "#\n",
      "# This file might be symlinked as /etc/resolv.conf. If you're looking at\n",
      "# /etc/resolv.conf and seeing this text, you have followed the symlink.\n",
      "#\n",
      "# This is a dynamic resolv.conf file for connecting local clients to the\n",
      "# internal DNS stub resolver of systemd-resolved. This file lists all\n",
      "# configured search domains.\n",
      "#\n",
      "# Run \"resolvectl status\" to see details about the uplink DNS servers\n",
      "# currently in use.\n",
      "#\n",
      "# Third party programs should typically not access this file directly, but only\n",
      "# through the symlink at /etc/resolv.conf. To manage man:resolv.conf(5) in a\n",
      "# different way, replace this symlink by a static file or a different symlink.\n",
      "#\n",
      "# See man:systemd-resolved.service(8) for details about the supported modes of\n",
      "# operation for /etc/resolv.conf.\n",
      "\n",
      "nameserver 127.0.0.53\n",
      "options edns0 trust-ad\n",
      "search .\n"
     ]
    }
   ],
   "source": [
    "! cat /etc/resolv.conf"
   ]
  },
  {
   "cell_type": "code",
   "execution_count": 3,
   "metadata": {},
   "outputs": [
    {
     "name": "stdout",
     "output_type": "stream",
     "text": [
      "\u001b[0;1;39mGlobal\u001b[0m\n",
      "\u001b[0;94m         Protocols:\u001b[0m -LLMNR -mDNS -DNSOverTLS DNSSEC=no/unsupported\n",
      "\u001b[0;94m  resolv.conf mode:\u001b[0m stub\n",
      "\n",
      "\u001b[0;1;39mLink 2 (wlp1s0)\u001b[0m\n",
      "\u001b[0;94m    Current Scopes:\u001b[0m DNS\n",
      "\u001b[0;94m         Protocols:\u001b[0m +DefaultRoute -LLMNR -mDNS -DNSOverTLS DNSSEC=no/unsupported\n",
      "\u001b[0;94mCurrent DNS Server:\u001b[0m 192.168.0.1\n",
      "\u001b[0;94m       DNS Servers:\u001b[0m 192.168.0.1\n",
      "\n",
      "\u001b[0;1;39mLink 3 (docker0)\u001b[0m\n",
      "\u001b[0;94m    Current Scopes:\u001b[0m none\n",
      "\u001b[0;94m         Protocols:\u001b[0m -DefaultRoute -LLMNR -mDNS -DNSOverTLS DNSSEC=no/unsupported\n"
     ]
    }
   ],
   "source": [
    "! resolvectl status"
   ]
  },
  {
   "cell_type": "code",
   "execution_count": 4,
   "metadata": {},
   "outputs": [
    {
     "name": "stdout",
     "output_type": "stream",
     "text": [
      "\n",
      "; <<>> DiG 9.18.30-0ubuntu0.24.04.2-Ubuntu <<>> google.com\n",
      ";; global options: +cmd\n",
      ";; Got answer:\n",
      ";; ->>HEADER<<- opcode: QUERY, status: NOERROR, id: 52027\n",
      ";; flags: qr rd ra; QUERY: 1, ANSWER: 6, AUTHORITY: 0, ADDITIONAL: 1\n",
      "\n",
      ";; OPT PSEUDOSECTION:\n",
      "; EDNS: version: 0, flags:; udp: 65494\n",
      ";; QUESTION SECTION:\n",
      ";google.com.\t\t\tIN\tA\n",
      "\n",
      ";; ANSWER SECTION:\n",
      "google.com.\t\t54\tIN\tA\t142.251.163.102\n",
      "google.com.\t\t54\tIN\tA\t142.251.163.113\n",
      "google.com.\t\t54\tIN\tA\t142.251.163.138\n",
      "google.com.\t\t54\tIN\tA\t142.251.163.100\n",
      "google.com.\t\t54\tIN\tA\t142.251.163.101\n",
      "google.com.\t\t54\tIN\tA\t142.251.163.139\n",
      "\n",
      ";; Query time: 1 msec\n",
      ";; SERVER: 127.0.0.53#53(127.0.0.53) (UDP)\n",
      ";; WHEN: Thu Mar 20 21:49:27 EDT 2025\n",
      ";; MSG SIZE  rcvd: 135\n",
      "\n"
     ]
    }
   ],
   "source": [
    "! dig google.com"
   ]
  },
  {
   "cell_type": "code",
   "execution_count": 6,
   "metadata": {},
   "outputs": [
    {
     "name": "stdout",
     "output_type": "stream",
     "text": [
      "Server:\t\t127.0.0.53\n",
      "Address:\t127.0.0.53#53\n",
      "\n",
      "Non-authoritative answer:\n",
      "Name:\tgoogle.com\n",
      "Address: 142.251.163.139\n",
      "Name:\tgoogle.com\n",
      "Address: 142.251.163.100\n",
      "Name:\tgoogle.com\n",
      "Address: 142.251.163.113\n",
      "Name:\tgoogle.com\n",
      "Address: 142.251.163.101\n",
      "Name:\tgoogle.com\n",
      "Address: 142.251.163.138\n",
      "Name:\tgoogle.com\n",
      "Address: 142.251.163.102\n",
      "Name:\tgoogle.com\n",
      "Address: 2607:f8b0:4006:816::200e\n",
      "\n"
     ]
    }
   ],
   "source": [
    "! nslookup google.com"
   ]
  }
 ],
 "metadata": {
  "kernelspec": {
   "display_name": ".venv",
   "language": "python",
   "name": "python3"
  },
  "language_info": {
   "codemirror_mode": {
    "name": "ipython",
    "version": 3
   },
   "file_extension": ".py",
   "mimetype": "text/x-python",
   "name": "python",
   "nbconvert_exporter": "python",
   "pygments_lexer": "ipython3",
   "version": "3.12.3"
  }
 },
 "nbformat": 4,
 "nbformat_minor": 2
}
