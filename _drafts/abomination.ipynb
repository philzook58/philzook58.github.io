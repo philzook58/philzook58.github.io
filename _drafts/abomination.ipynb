{
 "cells": [
  {
   "cell_type": "code",
   "execution_count": null,
   "id": "43563df5",
   "metadata": {},
   "outputs": [],
   "source": [
    "\n"
   ]
  },
  {
   "cell_type": "markdown",
   "id": "cad9389e",
   "metadata": {},
   "source": [
    "\n",
    "\n",
    "Cody's version.\n",
    "I need names and signatures\n",
    "\n",
    "Maturin\n",
    "\n",
    "Alternative approach: write lean code to generate python code? Traverse module, find exports, convert to equivalent C versions.\n",
    "\n",
    "nanobind using cpp export?\n",
    "\n"
   ]
  },
  {
   "cell_type": "code",
   "execution_count": null,
   "id": "ce509135",
   "metadata": {},
   "outputs": [],
   "source": [
    "def lean_code():"
   ]
  },
  {
   "cell_type": "code",
   "execution_count": null,
   "id": "f93be009",
   "metadata": {},
   "outputs": [],
   "source": [
    "import cffi\n",
    "class LeanModuleGen():\n",
    "    def __init__(self, name):\n",
    "        self.name = name\n",
    "        self.ffi = cffi.FFI()\n",
    "        self.ffi.cdef(\"\"\"\n",
    "            typedef struct lean_object;\n",
    "            void lean_runtime_init();\n",
    "        \"\"\")\n",
    "    def lean_io_mk_world():\n",
    "    def lean_dec():\n",
    "    def lean_inc():\n",
    "    def lean_unbox():\n",
    "    def lean_box(): \n",
    "    def cdef(x):\n",
    "        self.ffi.cdef(x)\n",
    "    def compile(self, code):\n",
    "    def load(self, dylib):\n"
   ]
  },
  {
   "cell_type": "code",
   "execution_count": null,
   "id": "1255b969",
   "metadata": {},
   "outputs": [
    {
     "ename": "CDefError",
     "evalue": "cannot parse \"typedef lean_object * lean_obj_arg;\"\n<cdef source string>:3:29: before: *",
     "output_type": "error",
     "traceback": [
      "\u001b[31m---------------------------------------------------------------------------\u001b[39m",
      "\u001b[31mParseError\u001b[39m                                Traceback (most recent call last)",
      "\u001b[36mFile \u001b[39m\u001b[32m~/philzook58.github.io/.venv/lib/python3.12/site-packages/cffi/cparser.py:337\u001b[39m, in \u001b[36mParser._parse\u001b[39m\u001b[34m(self, csource)\u001b[39m\n\u001b[32m    336\u001b[39m \u001b[38;5;28;01mtry\u001b[39;00m:\n\u001b[32m--> \u001b[39m\u001b[32m337\u001b[39m     ast = \u001b[43m_get_parser\u001b[49m\u001b[43m(\u001b[49m\u001b[43m)\u001b[49m\u001b[43m.\u001b[49m\u001b[43mparse\u001b[49m\u001b[43m(\u001b[49m\u001b[43mfullcsource\u001b[49m\u001b[43m)\u001b[49m\n\u001b[32m    338\u001b[39m \u001b[38;5;28;01mexcept\u001b[39;00m pycparser.c_parser.ParseError \u001b[38;5;28;01mas\u001b[39;00m e:\n",
      "\u001b[36mFile \u001b[39m\u001b[32m~/philzook58.github.io/.venv/lib/python3.12/site-packages/pycparser/c_parser.py:147\u001b[39m, in \u001b[36mCParser.parse\u001b[39m\u001b[34m(self, text, filename, debug)\u001b[39m\n\u001b[32m    146\u001b[39m \u001b[38;5;28mself\u001b[39m._last_yielded_token = \u001b[38;5;28;01mNone\u001b[39;00m\n\u001b[32m--> \u001b[39m\u001b[32m147\u001b[39m \u001b[38;5;28;01mreturn\u001b[39;00m \u001b[38;5;28;43mself\u001b[39;49m\u001b[43m.\u001b[49m\u001b[43mcparser\u001b[49m\u001b[43m.\u001b[49m\u001b[43mparse\u001b[49m\u001b[43m(\u001b[49m\n\u001b[32m    148\u001b[39m \u001b[43m        \u001b[49m\u001b[38;5;28;43minput\u001b[39;49m\u001b[43m=\u001b[49m\u001b[43mtext\u001b[49m\u001b[43m,\u001b[49m\n\u001b[32m    149\u001b[39m \u001b[43m        \u001b[49m\u001b[43mlexer\u001b[49m\u001b[43m=\u001b[49m\u001b[38;5;28;43mself\u001b[39;49m\u001b[43m.\u001b[49m\u001b[43mclex\u001b[49m\u001b[43m,\u001b[49m\n\u001b[32m    150\u001b[39m \u001b[43m        \u001b[49m\u001b[43mdebug\u001b[49m\u001b[43m=\u001b[49m\u001b[43mdebug\u001b[49m\u001b[43m)\u001b[49m\n",
      "\u001b[36mFile \u001b[39m\u001b[32m~/philzook58.github.io/.venv/lib/python3.12/site-packages/pycparser/ply/yacc.py:331\u001b[39m, in \u001b[36mLRParser.parse\u001b[39m\u001b[34m(self, input, lexer, debug, tracking, tokenfunc)\u001b[39m\n\u001b[32m    330\u001b[39m \u001b[38;5;28;01melse\u001b[39;00m:\n\u001b[32m--> \u001b[39m\u001b[32m331\u001b[39m     \u001b[38;5;28;01mreturn\u001b[39;00m \u001b[38;5;28;43mself\u001b[39;49m\u001b[43m.\u001b[49m\u001b[43mparseopt_notrack\u001b[49m\u001b[43m(\u001b[49m\u001b[38;5;28;43minput\u001b[39;49m\u001b[43m,\u001b[49m\u001b[43m \u001b[49m\u001b[43mlexer\u001b[49m\u001b[43m,\u001b[49m\u001b[43m \u001b[49m\u001b[43mdebug\u001b[49m\u001b[43m,\u001b[49m\u001b[43m \u001b[49m\u001b[43mtracking\u001b[49m\u001b[43m,\u001b[49m\u001b[43m \u001b[49m\u001b[43mtokenfunc\u001b[49m\u001b[43m)\u001b[49m\n",
      "\u001b[36mFile \u001b[39m\u001b[32m~/philzook58.github.io/.venv/lib/python3.12/site-packages/pycparser/ply/yacc.py:1199\u001b[39m, in \u001b[36mLRParser.parseopt_notrack\u001b[39m\u001b[34m(self, input, lexer, debug, tracking, tokenfunc)\u001b[39m\n\u001b[32m   1198\u001b[39m \u001b[38;5;28mself\u001b[39m.state = state\n\u001b[32m-> \u001b[39m\u001b[32m1199\u001b[39m tok = \u001b[43mcall_errorfunc\u001b[49m\u001b[43m(\u001b[49m\u001b[38;5;28;43mself\u001b[39;49m\u001b[43m.\u001b[49m\u001b[43merrorfunc\u001b[49m\u001b[43m,\u001b[49m\u001b[43m \u001b[49m\u001b[43merrtoken\u001b[49m\u001b[43m,\u001b[49m\u001b[43m \u001b[49m\u001b[38;5;28;43mself\u001b[39;49m\u001b[43m)\u001b[49m\n\u001b[32m   1200\u001b[39m \u001b[38;5;28;01mif\u001b[39;00m \u001b[38;5;28mself\u001b[39m.errorok:\n\u001b[32m   1201\u001b[39m     \u001b[38;5;66;03m# User must have done some kind of panic\u001b[39;00m\n\u001b[32m   1202\u001b[39m     \u001b[38;5;66;03m# mode recovery on their own.  The\u001b[39;00m\n\u001b[32m   1203\u001b[39m     \u001b[38;5;66;03m# returned token is the next lookahead\u001b[39;00m\n",
      "\u001b[36mFile \u001b[39m\u001b[32m~/philzook58.github.io/.venv/lib/python3.12/site-packages/pycparser/ply/yacc.py:193\u001b[39m, in \u001b[36mcall_errorfunc\u001b[39m\u001b[34m(errorfunc, token, parser)\u001b[39m\n\u001b[32m    192\u001b[39m _restart = parser.restart\n\u001b[32m--> \u001b[39m\u001b[32m193\u001b[39m r = \u001b[43merrorfunc\u001b[49m\u001b[43m(\u001b[49m\u001b[43mtoken\u001b[49m\u001b[43m)\u001b[49m\n\u001b[32m    194\u001b[39m \u001b[38;5;28;01mtry\u001b[39;00m:\n",
      "\u001b[36mFile \u001b[39m\u001b[32m~/philzook58.github.io/.venv/lib/python3.12/site-packages/pycparser/c_parser.py:1945\u001b[39m, in \u001b[36mCParser.p_error\u001b[39m\u001b[34m(self, p)\u001b[39m\n\u001b[32m   1944\u001b[39m \u001b[38;5;28;01mif\u001b[39;00m p:\n\u001b[32m-> \u001b[39m\u001b[32m1945\u001b[39m     \u001b[38;5;28;43mself\u001b[39;49m\u001b[43m.\u001b[49m\u001b[43m_parse_error\u001b[49m\u001b[43m(\u001b[49m\n\u001b[32m   1946\u001b[39m \u001b[43m        \u001b[49m\u001b[33;43m'\u001b[39;49m\u001b[33;43mbefore: \u001b[39;49m\u001b[38;5;132;43;01m%s\u001b[39;49;00m\u001b[33;43m'\u001b[39;49m\u001b[43m \u001b[49m\u001b[43m%\u001b[49m\u001b[43m \u001b[49m\u001b[43mp\u001b[49m\u001b[43m.\u001b[49m\u001b[43mvalue\u001b[49m\u001b[43m,\u001b[49m\n\u001b[32m   1947\u001b[39m \u001b[43m        \u001b[49m\u001b[38;5;28;43mself\u001b[39;49m\u001b[43m.\u001b[49m\u001b[43m_coord\u001b[49m\u001b[43m(\u001b[49m\u001b[43mlineno\u001b[49m\u001b[43m=\u001b[49m\u001b[43mp\u001b[49m\u001b[43m.\u001b[49m\u001b[43mlineno\u001b[49m\u001b[43m,\u001b[49m\n\u001b[32m   1948\u001b[39m \u001b[43m                    \u001b[49m\u001b[43mcolumn\u001b[49m\u001b[43m=\u001b[49m\u001b[38;5;28;43mself\u001b[39;49m\u001b[43m.\u001b[49m\u001b[43mclex\u001b[49m\u001b[43m.\u001b[49m\u001b[43mfind_tok_column\u001b[49m\u001b[43m(\u001b[49m\u001b[43mp\u001b[49m\u001b[43m)\u001b[49m\u001b[43m)\u001b[49m\u001b[43m)\u001b[49m\n\u001b[32m   1949\u001b[39m \u001b[38;5;28;01melse\u001b[39;00m:\n",
      "\u001b[36mFile \u001b[39m\u001b[32m~/philzook58.github.io/.venv/lib/python3.12/site-packages/pycparser/plyparser.py:67\u001b[39m, in \u001b[36mPLYParser._parse_error\u001b[39m\u001b[34m(self, msg, coord)\u001b[39m\n\u001b[32m     66\u001b[39m \u001b[38;5;28;01mdef\u001b[39;00m\u001b[38;5;250m \u001b[39m\u001b[34m_parse_error\u001b[39m(\u001b[38;5;28mself\u001b[39m, msg, coord):\n\u001b[32m---> \u001b[39m\u001b[32m67\u001b[39m     \u001b[38;5;28;01mraise\u001b[39;00m ParseError(\u001b[33m\"\u001b[39m\u001b[38;5;132;01m%s\u001b[39;00m\u001b[33m: \u001b[39m\u001b[38;5;132;01m%s\u001b[39;00m\u001b[33m\"\u001b[39m % (coord, msg))\n",
      "\u001b[31mParseError\u001b[39m: <cdef source string>:3:29: before: *",
      "\nDuring handling of the above exception, another exception occurred:\n",
      "\u001b[31mCDefError\u001b[39m                                 Traceback (most recent call last)",
      "\u001b[36mCell\u001b[39m\u001b[36m \u001b[39m\u001b[32mIn[7]\u001b[39m\u001b[32m, line 44\u001b[39m\n\u001b[32m     39\u001b[39m     \u001b[38;5;28;01mreturn\u001b[39;00m ffi.dlopen(\u001b[33m\"\u001b[39m\u001b[33m/tmp/mylean.so\u001b[39m\u001b[33m\"\u001b[39m)\n\u001b[32m     41\u001b[39m     \u001b[38;5;66;03m#lean.my_add(1, 2)  # should return 3\u001b[39;00m\n\u001b[32m---> \u001b[39m\u001b[32m44\u001b[39m lean = \u001b[43mcompile_and_load_lean\u001b[49m\u001b[43m(\u001b[49m\u001b[43mcode\u001b[49m\u001b[43m)\u001b[49m\n\u001b[32m     45\u001b[39m lean.my_add(\u001b[32m1\u001b[39m,\u001b[32m2\u001b[39m)\n",
      "\u001b[36mCell\u001b[39m\u001b[36m \u001b[39m\u001b[32mIn[7]\u001b[39m\u001b[32m, line 31\u001b[39m, in \u001b[36mcompile_and_load_lean\u001b[39m\u001b[34m(code)\u001b[39m\n\u001b[32m     29\u001b[39m ffi = cffi.FFI()\n\u001b[32m     30\u001b[39m \u001b[38;5;66;03m# universal stuff\u001b[39;00m\n\u001b[32m---> \u001b[39m\u001b[32m31\u001b[39m \u001b[43mffi\u001b[49m\u001b[43m.\u001b[49m\u001b[43mcdef\u001b[49m\u001b[43m(\u001b[49m\u001b[33;43m\"\"\"\u001b[39;49m\n\u001b[32m     32\u001b[39m \u001b[33;43m    typedef struct lean_object;\u001b[39;49m\n\u001b[32m     33\u001b[39m \u001b[33;43m    typedef lean_object * lean_obj_arg;  \u001b[39;49m\n\u001b[32m     34\u001b[39m \n\u001b[32m     35\u001b[39m \u001b[33;43m\u001b[39;49m\u001b[33;43m\"\"\"\u001b[39;49m\u001b[43m)\u001b[49m\n\u001b[32m     36\u001b[39m ffi.cdef(\u001b[33m\"\"\"\u001b[39m\n\u001b[32m     37\u001b[39m \u001b[33m    uint64_t my_add(uint64_t, uint64_t);\u001b[39m\n\u001b[32m     38\u001b[39m \u001b[33m\u001b[39m\u001b[33m\"\"\"\u001b[39m)\n\u001b[32m     39\u001b[39m \u001b[38;5;28;01mreturn\u001b[39;00m ffi.dlopen(\u001b[33m\"\u001b[39m\u001b[33m/tmp/mylean.so\u001b[39m\u001b[33m\"\u001b[39m)\n",
      "\u001b[36mFile \u001b[39m\u001b[32m~/philzook58.github.io/.venv/lib/python3.12/site-packages/cffi/api.py:112\u001b[39m, in \u001b[36mFFI.cdef\u001b[39m\u001b[34m(self, csource, override, packed, pack)\u001b[39m\n\u001b[32m    101\u001b[39m \u001b[38;5;28;01mdef\u001b[39;00m\u001b[38;5;250m \u001b[39m\u001b[34mcdef\u001b[39m(\u001b[38;5;28mself\u001b[39m, csource, override=\u001b[38;5;28;01mFalse\u001b[39;00m, packed=\u001b[38;5;28;01mFalse\u001b[39;00m, pack=\u001b[38;5;28;01mNone\u001b[39;00m):\n\u001b[32m    102\u001b[39m \u001b[38;5;250m    \u001b[39m\u001b[33;03m\"\"\"Parse the given C source.  This registers all declared functions,\u001b[39;00m\n\u001b[32m    103\u001b[39m \u001b[33;03m    types, and global variables.  The functions and global variables can\u001b[39;00m\n\u001b[32m    104\u001b[39m \u001b[33;03m    then be accessed via either 'ffi.dlopen()' or 'ffi.verify()'.\u001b[39;00m\n\u001b[32m   (...)\u001b[39m\u001b[32m    110\u001b[39m \u001b[33;03m    packed=True).\u001b[39;00m\n\u001b[32m    111\u001b[39m \u001b[33;03m    \"\"\"\u001b[39;00m\n\u001b[32m--> \u001b[39m\u001b[32m112\u001b[39m     \u001b[38;5;28;43mself\u001b[39;49m\u001b[43m.\u001b[49m\u001b[43m_cdef\u001b[49m\u001b[43m(\u001b[49m\u001b[43mcsource\u001b[49m\u001b[43m,\u001b[49m\u001b[43m \u001b[49m\u001b[43moverride\u001b[49m\u001b[43m=\u001b[49m\u001b[43moverride\u001b[49m\u001b[43m,\u001b[49m\u001b[43m \u001b[49m\u001b[43mpacked\u001b[49m\u001b[43m=\u001b[49m\u001b[43mpacked\u001b[49m\u001b[43m,\u001b[49m\u001b[43m \u001b[49m\u001b[43mpack\u001b[49m\u001b[43m=\u001b[49m\u001b[43mpack\u001b[49m\u001b[43m)\u001b[49m\n",
      "\u001b[36mFile \u001b[39m\u001b[32m~/philzook58.github.io/.venv/lib/python3.12/site-packages/cffi/api.py:126\u001b[39m, in \u001b[36mFFI._cdef\u001b[39m\u001b[34m(self, csource, override, **options)\u001b[39m\n\u001b[32m    124\u001b[39m \u001b[38;5;28;01mwith\u001b[39;00m \u001b[38;5;28mself\u001b[39m._lock:\n\u001b[32m    125\u001b[39m     \u001b[38;5;28mself\u001b[39m._cdef_version = \u001b[38;5;28mobject\u001b[39m()\n\u001b[32m--> \u001b[39m\u001b[32m126\u001b[39m     \u001b[38;5;28;43mself\u001b[39;49m\u001b[43m.\u001b[49m\u001b[43m_parser\u001b[49m\u001b[43m.\u001b[49m\u001b[43mparse\u001b[49m\u001b[43m(\u001b[49m\u001b[43mcsource\u001b[49m\u001b[43m,\u001b[49m\u001b[43m \u001b[49m\u001b[43moverride\u001b[49m\u001b[43m=\u001b[49m\u001b[43moverride\u001b[49m\u001b[43m,\u001b[49m\u001b[43m \u001b[49m\u001b[43m*\u001b[49m\u001b[43m*\u001b[49m\u001b[43moptions\u001b[49m\u001b[43m)\u001b[49m\n\u001b[32m    127\u001b[39m     \u001b[38;5;28mself\u001b[39m._cdefsources.append(csource)\n\u001b[32m    128\u001b[39m     \u001b[38;5;28;01mif\u001b[39;00m override:\n",
      "\u001b[36mFile \u001b[39m\u001b[32m~/philzook58.github.io/.venv/lib/python3.12/site-packages/cffi/cparser.py:390\u001b[39m, in \u001b[36mParser.parse\u001b[39m\u001b[34m(self, csource, override, packed, pack, dllexport)\u001b[39m\n\u001b[32m    386\u001b[39m \u001b[38;5;28;01mtry\u001b[39;00m:\n\u001b[32m    387\u001b[39m     \u001b[38;5;28mself\u001b[39m._options = {\u001b[33m'\u001b[39m\u001b[33moverride\u001b[39m\u001b[33m'\u001b[39m: override,\n\u001b[32m    388\u001b[39m                      \u001b[33m'\u001b[39m\u001b[33mpacked\u001b[39m\u001b[33m'\u001b[39m: pack,\n\u001b[32m    389\u001b[39m                      \u001b[33m'\u001b[39m\u001b[33mdllexport\u001b[39m\u001b[33m'\u001b[39m: dllexport}\n\u001b[32m--> \u001b[39m\u001b[32m390\u001b[39m     \u001b[38;5;28;43mself\u001b[39;49m\u001b[43m.\u001b[49m\u001b[43m_internal_parse\u001b[49m\u001b[43m(\u001b[49m\u001b[43mcsource\u001b[49m\u001b[43m)\u001b[49m\n\u001b[32m    391\u001b[39m \u001b[38;5;28;01mfinally\u001b[39;00m:\n\u001b[32m    392\u001b[39m     \u001b[38;5;28mself\u001b[39m._options = prev_options\n",
      "\u001b[36mFile \u001b[39m\u001b[32m~/philzook58.github.io/.venv/lib/python3.12/site-packages/cffi/cparser.py:395\u001b[39m, in \u001b[36mParser._internal_parse\u001b[39m\u001b[34m(self, csource)\u001b[39m\n\u001b[32m    394\u001b[39m \u001b[38;5;28;01mdef\u001b[39;00m\u001b[38;5;250m \u001b[39m\u001b[34m_internal_parse\u001b[39m(\u001b[38;5;28mself\u001b[39m, csource):\n\u001b[32m--> \u001b[39m\u001b[32m395\u001b[39m     ast, macros, csource = \u001b[38;5;28;43mself\u001b[39;49m\u001b[43m.\u001b[49m\u001b[43m_parse\u001b[49m\u001b[43m(\u001b[49m\u001b[43mcsource\u001b[49m\u001b[43m)\u001b[49m\n\u001b[32m    396\u001b[39m     \u001b[38;5;66;03m# add the macros\u001b[39;00m\n\u001b[32m    397\u001b[39m     \u001b[38;5;28mself\u001b[39m._process_macros(macros)\n",
      "\u001b[36mFile \u001b[39m\u001b[32m~/philzook58.github.io/.venv/lib/python3.12/site-packages/cffi/cparser.py:339\u001b[39m, in \u001b[36mParser._parse\u001b[39m\u001b[34m(self, csource)\u001b[39m\n\u001b[32m    337\u001b[39m     ast = _get_parser().parse(fullcsource)\n\u001b[32m    338\u001b[39m \u001b[38;5;28;01mexcept\u001b[39;00m pycparser.c_parser.ParseError \u001b[38;5;28;01mas\u001b[39;00m e:\n\u001b[32m--> \u001b[39m\u001b[32m339\u001b[39m     \u001b[38;5;28;43mself\u001b[39;49m\u001b[43m.\u001b[49m\u001b[43mconvert_pycparser_error\u001b[49m\u001b[43m(\u001b[49m\u001b[43me\u001b[49m\u001b[43m,\u001b[49m\u001b[43m \u001b[49m\u001b[43mcsource\u001b[49m\u001b[43m)\u001b[49m\n\u001b[32m    340\u001b[39m \u001b[38;5;28;01mfinally\u001b[39;00m:\n\u001b[32m    341\u001b[39m     \u001b[38;5;28;01mif\u001b[39;00m lock \u001b[38;5;129;01mis\u001b[39;00m \u001b[38;5;129;01mnot\u001b[39;00m \u001b[38;5;28;01mNone\u001b[39;00m:\n",
      "\u001b[36mFile \u001b[39m\u001b[32m~/philzook58.github.io/.venv/lib/python3.12/site-packages/cffi/cparser.py:368\u001b[39m, in \u001b[36mParser.convert_pycparser_error\u001b[39m\u001b[34m(self, e, csource)\u001b[39m\n\u001b[32m    366\u001b[39m \u001b[38;5;28;01melse\u001b[39;00m:\n\u001b[32m    367\u001b[39m     msg = \u001b[33m'\u001b[39m\u001b[33mparse error\u001b[39m\u001b[38;5;130;01m\\n\u001b[39;00m\u001b[38;5;132;01m%s\u001b[39;00m\u001b[33m'\u001b[39m % (msg,)\n\u001b[32m--> \u001b[39m\u001b[32m368\u001b[39m \u001b[38;5;28;01mraise\u001b[39;00m CDefError(msg)\n",
      "\u001b[31mCDefError\u001b[39m: cannot parse \"typedef lean_object * lean_obj_arg;\"\n<cdef source string>:3:29: before: *"
     ]
    }
   ],
   "source": [
    "import subprocess\n",
    "import cffi\n",
    "def compile_lean(code):\n",
    "    with open(\"/tmp/mylean.lean\", \"w\") as f:\n",
    "        f.write(code)\n",
    "        f.flush()\n",
    "    leanlibpath = subprocess.run([\"lean\", \"--print-libdir\"], capture_output=True, text=True).stdout.strip()\n",
    "    subprocess.run([\"lean\", \"/tmp/mylean.lean\", \"-c\", \"/tmp/mylean.c\"])\n",
    "    subprocess.run([\"leanc\", \"-c\", \"-fPIC\", \"-o\", \"/tmp/mylean.o\", \"/tmp/mylean.c\", \"-DLEAN_EXPORTING\"])\n",
    "    subprocess.run([\"leanc\", \"-shared\", \"-o\", \"/tmp/mylean.so\", \n",
    "        \"/tmp/mylean.o\", \"-lleanshared_1\", \"-lleanshared\",\n",
    "        \"-Wl,-rpath=\" + leanlibpath])\n",
    "\n",
    "code = \"\"\"\n",
    "\n",
    "\n",
    "inductive Testo where\n",
    "    | mk : Nat → Testo\n",
    "\n",
    "@[export my_add]\n",
    "def my_add (x y : UInt64) : UInt64 :=\n",
    "    x + y\n",
    "\n",
    "\"\"\"\n",
    "\n",
    "\n",
    "def compile_and_load_lean(code):\n",
    "    compile_lean(code)\n",
    "    ffi = cffi.FFI()\n",
    "    # universal stuff\n",
    "    ffi.cdef(\"\"\"\n",
    "        typedef struct lean_object;\n",
    "        typedef lean_object * lean_obj_arg;  \n",
    "    \"\"\")\n",
    "    ffi.cdef(\"\"\"\n",
    "        uint64_t my_add(uint64_t, uint64_t);\n",
    "    \"\"\")\n",
    "    return ffi.dlopen(\"/tmp/mylean.so\")\n",
    "    \n",
    "    #lean.my_add(1, 2)  # should return 3\n",
    "\n",
    "\n",
    "lean = compile_and_load_lean(code)\n",
    "lean.my_add(1,2)"
   ]
  },
  {
   "cell_type": "markdown",
   "id": "940a63f4",
   "metadata": {},
   "source": [
    "https://github.com/dselsam/lean-python-bindings\n",
    "\n",
    "https://github.com/leanprover/lean4/tree/master/src/lake/examples/reverse-ffi\n",
    "\n",
    "https://docs.lean-lang.org/lean4/doc/dev/ffi.html#borrowing\n",
    "\n",
    "https://github.com/leanprover/lean4/tree/master/tests/compiler/foreign\n",
    "\n",
    "https://github.com/digama0/lean-sys \n",
    "Can i emscripten compile? Do DSL parser in lean.\n",
    "\n",
    "    libInit.a libLean.a  # static libraries of the Lean library\n",
    "    libleancpp.a  # a static library of the C++ sources of Lean\n",
    "    libleanshared.so  # a dynamic library including the static libraries above\n",
    "\n",
    "\n",
    "https://proofassistants.stackexchange.com/questions/4851/how-do-you-compile-and-link-a-lean-program-by-hand\n",
    "\n",
    "https://lean-lang.org/papers/lean4.pdf section 3 code generator\n",
    "@specialize and @inline\n",
    "\n",
    "\n",
    "\n",
    "\n",
    "- Lean.Declaration -0 different kinds of dewclarations tyo kernel. Hmmm.\n",
    "- Lean.CoreM\n",
    "- Lean.Envrionment - THis seems like the Kernel interface? Environment extesnsions?\n",
    "addDeclCore. Lean.Kernel.Environment. Lean.Enrvionement is wrapper.\n",
    "importModules\n",
    "evalConst\n",
    "\n",
    "\n",
    "- Lean.Expr\n",
    "- Lean.LoadDynLib\n",
    "\n",
    "- Lean.Elab https://leanprover-community.github.io/mathlib4_docs/Lean/Elab/Frontend.html#Lean.Elab.runFrontend\n",
    "\n",
    "lean plugins vs dybnlibs\n",
    "\n",
    "https://github.com/tydeu/lean4-alloy interesting. Embed C code inside lean files\n",
    "\n",
    "\n",
    "\n",
    "Using lean as a solver\n"
   ]
  },
  {
   "cell_type": "code",
   "execution_count": 6,
   "id": "54269ae6",
   "metadata": {},
   "outputs": [
    {
     "name": "stdout",
     "output_type": "stream",
     "text": [
      "config.h  lean_gmp.h  lean.h  lean_libuv.h  version.h\n"
     ]
    }
   ],
   "source": [
    "! ls $(lean --print-prefix)/include/lean"
   ]
  },
  {
   "cell_type": "markdown",
   "id": "0bbf7be3",
   "metadata": {},
   "source": [
    "libleanshared.so and libleanshared_1.so. I'm not sure what the _1.so does? There really isn't much in there. The bulk of stuff seems to be in the first.\n",
    "https://lean-lang.org/doc/reference/latest/releases/v4.12.0/?utm_source=chatgpt.com Ah, ok so maybe it's a workaround for Windows having a symbol limit, hence on my linux system it'as a null library\n",
    "\n",
    "\n",
    "lbInit_shared.so is a compiled version of the lean code in Init\n",
    "\n",
    "- The .a are stat8ic archive\n",
    "- .so is shared object\n",
    "- .ilean and .olean are lean stuff. I dunno what format they are\n",
    "\n",
    "\n",
    "\n",
    "libleanshared seems like it contains the entire Lean subproject, which makes sense. Lots of stuff has mangled-ish names. probably nothing is really labelled for @export.\n",
    "It also seems to have Init and Std in it on my system. \n",
    "\n",
    "https://github.com/leanprover/lean4/tree/master/src/kernel\n",
    "\n",
    "https://github.com/leanprover/lean4/blob/master/src/initialize/init.cpp wherea lean_initialize is.\n"
   ]
  },
  {
   "cell_type": "code",
   "execution_count": 29,
   "id": "d632f90d",
   "metadata": {},
   "outputs": [
    {
     "name": "stdout",
     "output_type": "stream",
     "text": [
      "00000000074a50f0 l     O .bss\t0000000000000008              l_Lean_Elab_runFrontend___lambda__4___closed__1\n",
      "00000000074a50f8 l     O .bss\t0000000000000008              l_Lean_Elab_runFrontend___lambda__4___closed__2\n",
      "00000000074a5100 l     O .bss\t0000000000000008              l_Lean_Elab_runFrontend___lambda__5___closed__1\n",
      "00000000074a5108 l     O .bss\t0000000000000008              l_Lean_Elab_runFrontend___closed__1\n",
      "00000000074a5110 l     O .bss\t0000000000000008              l_Lean_Elab_runFrontend___closed__2\n",
      "00000000074a5118 l     O .bss\t0000000000000008              l_Lean_Elab_runFrontend___closed__4\n",
      "00000000074a5120 l     O .bss\t0000000000000008              l_Lean_Elab_runFrontend___closed__3\n",
      "0000000002f57470 g     F .text\t00000000000000b4              l_Lean_Option_setIfNotSet___at_Lean_Elab_runFrontend___spec__1\n",
      "0000000002f57530 g     F .text\t0000000000000149              l_Array_mapMUnsafe_map___at_Lean_Elab_runFrontend___spec__2\n",
      "0000000002f57680 g     F .text\t00000000000001d1              l_Array_foldlMUnsafe_fold___at_Lean_Elab_runFrontend___spec__3\n",
      "0000000002f57860 g     F .text\t0000000000000070              l_Array_foldlMUnsafe_fold___at_Lean_Elab_runFrontend___spec__4\n",
      "0000000002f578d0 g     F .text\t00000000000000ad              l_Lean_Elab_runFrontend___lambda__1\n",
      "0000000002f57980 g     F .text\t00000000000002c7              l_Lean_Elab_runFrontend___lambda__2\n",
      "0000000002f57c50 g     F .text\t0000000000000003              l_Lean_Elab_runFrontend___lambda__3\n",
      "0000000002f57c60 g     F .text\t000000000000078c              l_Lean_Elab_runFrontend___lambda__4\n",
      "0000000002f583f0 g     F .text\t0000000000000636              l_Lean_Elab_runFrontend___lambda__5\n",
      "0000000002f5b310 g     F .text\t000000000000012a              l_Lean_Elab_runFrontend___lambda__1___boxed\n",
      "0000000002f5b440 g     F .text\t0000000000000041              l_Lean_Option_setIfNotSet___at_Lean_Elab_runFrontend___spec__1___boxed\n",
      "0000000002f5b490 g     F .text\t000000000000006c              l_Array_mapMUnsafe_map___at_Lean_Elab_runFrontend___spec__2___boxed\n",
      "0000000002f5b500 g     F .text\t000000000000009b              l_Array_foldlMUnsafe_fold___at_Lean_Elab_runFrontend___spec__3___boxed\n",
      "0000000002f5b5a0 g     F .text\t00000000000000fa              l_Array_foldlMUnsafe_fold___at_Lean_Elab_runFrontend___spec__4___boxed\n",
      "0000000002f5b6a0 g     F .text\t000000000000009e              l_Lean_Elab_runFrontend___lambda__2___boxed\n",
      "0000000002f5b740 g     F .text\t000000000000002c              l_Lean_Elab_runFrontend___lambda__3___boxed\n",
      "0000000002f5b770 g     F .text\t00000000000000ee              l_Lean_Elab_runFrontend___lambda__4___boxed\n",
      "0000000002f5b860 g     F .text\t00000000000000c8              l_Lean_Elab_runFrontend___boxed\n"
     ]
    }
   ],
   "source": [
    "! objdump -x $(lean --print-libdir)/libleanshared.so | grep runFront"
   ]
  },
  {
   "cell_type": "code",
   "execution_count": 1,
   "id": "49cf1217",
   "metadata": {},
   "outputs": [],
   "source": [
    "import cffi\n",
    "import subprocess\n",
    "ffi = cffi.FFI()\n",
    "ffi.cdef(\"\"\"\n",
    "typedef struct lean_object;\n",
    "void lean_initialize();\n",
    "\"\"\")\n",
    "lean_libdir = subprocess.check_output([\"lean\", \"--print-libdir\"]).decode().strip()\n",
    "lean = ffi.dlopen(lean_libdir + \"/libleanshared.so\")\n",
    "lean.lean_initialize() \n",
    "\n"
   ]
  },
  {
   "cell_type": "code",
   "execution_count": 10,
   "id": "e1fc53b4",
   "metadata": {},
   "outputs": [
    {
     "data": {
      "text/plain": [
       "<cdata 'struct lean_object *' 0x1>"
      ]
     },
     "execution_count": 10,
     "metadata": {},
     "output_type": "execute_result"
    }
   ],
   "source": [
    "#ffi.new(\"struct lean_object *\")\n",
    "def lean_box(n):\n",
    "    return ffi.cast(\"struct lean_object*\", (n << 1) | 1)\n",
    "def lean_unbox(obj):\n",
    "    return int(ffi.cast(\"uintptr_t\", obj)) >> 1\n",
    "def lean_io_mk_world():\n",
    "    return lean_box(0)\n",
    "lean_io_mk_world()"
   ]
  },
  {
   "cell_type": "code",
   "execution_count": 7,
   "id": "e7a989c4",
   "metadata": {},
   "outputs": [
    {
     "name": "stdout",
     "output_type": "stream",
     "text": [
      "Init\t\tLake.olean\t   libLake_shared.so   libStd.a\n",
      "Init.ilean\tLean\t\t   libLean.a\t       Std\n",
      "Init.olean\tLean.ilean\t   libleancpp.a        Std.ilean\n",
      "Lake\t\tLean.olean\t   libleanmanifest.a   Std.olean\n",
      "Lake.ilean\tlibInit.a\t   libleanrt.a\n",
      "LakeMain.ilean\tlibInit_shared.so  libleanshared_1.so\n",
      "LakeMain.olean\tlibLake.a\t   libleanshared.so\n"
     ]
    }
   ],
   "source": [
    "! ls $(lean --print-libdir)"
   ]
  },
  {
   "cell_type": "code",
   "execution_count": 5,
   "id": "466b203b",
   "metadata": {},
   "outputs": [
    {
     "name": "stdout",
     "output_type": "stream",
     "text": [
      "Overwriting /tmp/hello.lean\n"
     ]
    }
   ],
   "source": [
    "%%file /tmp/hello.lean\n",
    "\n",
    "@[export hello]\n",
    "def hello : String :=\n",
    "  \"Hello\"\n",
    "\n",
    "@[export my_length]\n",
    "def myLength (s : String) : UInt64 :=\n",
    "  s.length.toUInt64\n"
   ]
  },
  {
   "cell_type": "code",
   "execution_count": 16,
   "id": "ea3798f8",
   "metadata": {},
   "outputs": [
    {
     "name": "stdout",
     "output_type": "stream",
     "text": [
      "cumulative profiling times:\n",
      "\tattribute application 0.0431ms\n",
      "\tcompilation 0.489ms\n",
      "\telaboration 1ms\n",
      "\tfix level params 0.00801ms\n",
      "\timport 75.7ms\n",
      "\tinitialization 25.4ms\n",
      "\tinstantiate metavars 0.01ms\n",
      "\tinterpretation 1.84ms\n",
      "\tlinting 0.153ms\n",
      "\tparsing 0.367ms\n",
      "\tprocess pre-definitions 0.131ms\n",
      "\tshare common exprs 0.0122ms\n",
      "\ttype checking 0.0389ms\n"
     ]
    }
   ],
   "source": [
    "! lean /tmp/hello.lean  --profile"
   ]
  },
  {
   "cell_type": "markdown",
   "id": "32d670a5",
   "metadata": {},
   "source": [
    "https://leanprover-community.github.io/lean4-metaprogramming-book/extra/01_options.html\n",
    "-D let's you set options from the cli. Thats interesting.\n",
    "\n",
    "lcnf is function pres-ssa. lean compiler normal form.  https://leanprover-community.github.io/mathlib4_docs/Lean/Compiler/LCNF/Basic.html based on A normal form https://www.microsoft.com/en-us/research/wp-content/uploads/2016/11/compiling-without-continuations.pdf https://leanprover-community.github.io/mathlib4_docs/Lean/Compiler/LCNF/Types.html\n",
    "jp = join point\n",
    "\n"
   ]
  },
  {
   "cell_type": "code",
   "execution_count": 28,
   "id": "a4746243",
   "metadata": {},
   "outputs": [
    {
     "name": "stdout",
     "output_type": "stream",
     "text": [
      "[Meta.isDefEq] ✅️ Sort ?u.1 =?= Type\n",
      "[Meta.isDefEq] ✅️ String =?= String\n",
      "[compiler.lcnf] >> hello\n",
      "\"Hello\"\n",
      "\n",
      "[result]\n",
      "def hello._closed_1 : obj :=\n",
      "  let x_1 : obj := \"Hello\";\n",
      "  ret x_1\n",
      "def hello : obj :=\n",
      "  let x_1 : obj := hello._closed_1;\n",
      "  ret x_1\n",
      "[Meta.isDefEq] ✅️ Sort ?u.3 =?= Type\n",
      "[Meta.isDefEq] ✅️ Sort ?u.5 =?= Type\n",
      "[Meta.isDefEq] ✅️ String =?= String\n",
      "  [Meta.isDefEq] ✅️ String =?= String\n",
      "[Meta.isDefEq] ✅️ Nat =?= Nat\n",
      "  [Meta.isDefEq] ✅️ Nat =?= Nat\n",
      "[Meta.isDefEq] ✅️ UInt64 =?= UInt64\n",
      "[Meta.isDefEq] ✅️ UInt64 =?= UInt64\n",
      "[compiler.lcnf] >> myLength\n",
      "fun s =>\n",
      "  let _x_1 := s.length;\n",
      "  _x_1.toUInt64\n",
      "\n",
      "[result]\n",
      "def myLength (x_1 : obj) : u64 :=\n",
      "  let x_2 : obj := String.length x_1;\n",
      "  dec x_1;\n",
      "  let x_3 : u64 := UInt64.ofNat x_2;\n",
      "  dec x_2;\n",
      "  ret x_3\n",
      "def myLength._boxed (x_1 : obj) : obj :=\n",
      "  let x_2 : u64 := myLength x_1;\n",
      "  let x_3 : obj := box x_2;\n",
      "  ret x_3\n"
     ]
    }
   ],
   "source": [
    "! lean /tmp/hello.lean -Dtrace.Compiler.simp=true -Dtrace.Meta.synthInstance=true  -Dtrace.compiler.ir.result=true  -Dtrace.compiler.lcnf=true -Dtrace.Meta.isDefEq=true"
   ]
  },
  {
   "cell_type": "markdown",
   "id": "c229d37f",
   "metadata": {},
   "source": [
    "LEAN_EXPORTING to set visibility to default so variables aren't hidden?"
   ]
  },
  {
   "cell_type": "code",
   "execution_count": 21,
   "id": "27865ba1",
   "metadata": {},
   "outputs": [],
   "source": [
    "! cd /tmp && lean -c /tmp/hello.c  /tmp/hello.lean && leanc -o /tmp/hello.o -c /tmp/hello.c -DLEAN_EXPORTING"
   ]
  },
  {
   "cell_type": "code",
   "execution_count": 7,
   "id": "049399db",
   "metadata": {},
   "outputs": [
    {
     "name": "stdout",
     "output_type": "stream",
     "text": [
      "// Lean compiler output\n",
      "// Module: hello\n",
      "// Imports: Init\n",
      "#include <lean/lean.h>\n",
      "#if defined(__clang__)\n",
      "#pragma clang diagnostic ignored \"-Wunused-parameter\"\n",
      "#pragma clang diagnostic ignored \"-Wunused-label\"\n",
      "#elif defined(__GNUC__) && !defined(__CLANG__)\n",
      "#pragma GCC diagnostic ignored \"-Wunused-parameter\"\n",
      "#pragma GCC diagnostic ignored \"-Wunused-label\"\n",
      "#pragma GCC diagnostic ignored \"-Wunused-but-set-variable\"\n",
      "#endif\n",
      "#ifdef __cplusplus\n",
      "extern \"C\" {\n",
      "#endif\n",
      "uint64_t lean_uint64_of_nat(lean_object*);\n",
      "LEAN_EXPORT lean_object* hello;\n",
      "static lean_object* l_hello___closed__1;\n",
      "LEAN_EXPORT lean_object* l_myLength___boxed(lean_object*);\n",
      "lean_object* lean_string_length(lean_object*);\n",
      "LEAN_EXPORT uint64_t my_length(lean_object*);\n",
      "static lean_object* _init_l_hello___closed__1() {\n",
      "_start:\n",
      "{\n",
      "lean_object* x_1; \n",
      "x_1 = lean_mk_string_unchecked(\"Hello\", 5, 5);\n",
      "return x_1;\n",
      "}\n",
      "}\n",
      "static lean_object* _init_hello() {\n",
      "_start:\n",
      "{\n",
      "lean_object* x_1; \n",
      "x_1 = l_hello___closed__1;\n",
      "return x_1;\n",
      "}\n",
      "}\n",
      "LEAN_EXPORT uint64_t my_length(lean_object* x_1) {\n",
      "_start:\n",
      "{\n",
      "lean_object* x_2; uint64_t x_3; \n",
      "x_2 = lean_string_length(x_1);\n",
      "lean_dec(x_1);\n",
      "x_3 = lean_uint64_of_nat(x_2);\n",
      "lean_dec(x_2);\n",
      "return x_3;\n",
      "}\n",
      "}\n",
      "LEAN_EXPORT lean_object* l_myLength___boxed(lean_object* x_1) {\n",
      "_start:\n",
      "{\n",
      "uint64_t x_2; lean_object* x_3; \n",
      "x_2 = my_length(x_1);\n",
      "x_3 = lean_box_uint64(x_2);\n",
      "return x_3;\n",
      "}\n",
      "}\n",
      "lean_object* initialize_Init(uint8_t builtin, lean_object*);\n",
      "static bool _G_initialized = false;\n",
      "LEAN_EXPORT lean_object* initialize_hello(uint8_t builtin, lean_object* w) {\n",
      "lean_object * res;\n",
      "if (_G_initialized) return lean_io_result_mk_ok(lean_box(0));\n",
      "_G_initialized = true;\n",
      "res = initialize_Init(builtin, lean_io_mk_world());\n",
      "if (lean_io_result_is_error(res)) return res;\n",
      "lean_dec_ref(res);\n",
      "l_hello___closed__1 = _init_l_hello___closed__1();\n",
      "lean_mark_persistent(l_hello___closed__1);\n",
      "hello = _init_hello();\n",
      "lean_mark_persistent(hello);\n",
      "return lean_io_result_mk_ok(lean_box(0));\n",
      "}\n",
      "#ifdef __cplusplus\n",
      "}\n",
      "#endif\n"
     ]
    }
   ],
   "source": [
    "! cat /tmp/hello.c"
   ]
  },
  {
   "cell_type": "code",
   "execution_count": null,
   "id": "6f048e97",
   "metadata": {},
   "outputs": [
    {
     "data": {
      "text/plain": [
       "'/home/philip/.elan/toolchains/leanprover--lean4---v4.18.0/lib/lean'"
      ]
     },
     "execution_count": 96,
     "metadata": {},
     "output_type": "execute_result"
    }
   ],
   "source": []
  },
  {
   "cell_type": "code",
   "execution_count": 22,
   "id": "543edbc3",
   "metadata": {},
   "outputs": [],
   "source": [
    "! leanc -shared -o /tmp/hello.so /tmp/hello.o  -L $(lean --print-libdir) -lInit_shared -lleanshared_1 -lleanshared -I  -l /lib/x86_64-linux-gnu/libmimalloc.so -Wl,-rpath=$(lean --print-libdir) "
   ]
  },
  {
   "cell_type": "code",
   "execution_count": 24,
   "id": "aebf99c3",
   "metadata": {},
   "outputs": [],
   "source": [
    "! gcc -shared -o /tmp/hello.so /tmp/hello.o   -L $(lean --print-libdir) -lInit_shared -lleanshared_1 -lleanshared -lmimalloc -Wl,-rpath=$(lean --print-libdir) "
   ]
  },
  {
   "cell_type": "code",
   "execution_count": 14,
   "id": "13582040",
   "metadata": {},
   "outputs": [],
   "source": [
    "! gcc -shared -o /tmp/hello.so /tmp/hello.o   -L $(lean --print-libdir) -Wl,-rpath=$(lean --print-libdir) "
   ]
  },
  {
   "cell_type": "code",
   "execution_count": 12,
   "id": "4a0d46da",
   "metadata": {},
   "outputs": [],
   "source": [
    "import subprocess\n",
    "lean_prefix = subprocess.check_output([\"lean\", \"--print-prefix\"]).decode().strip()\n",
    "lean_prefix\n",
    "\n",
    "with open(lean_prefix + \"/include/lean/lean.h\", \"r\") as f:\n",
    "    lean_h_content = f.read()\n",
    "    with open(\"/tmp/leandummy.c\", \"w\") as f1:\n",
    "        f1.write(lean_h_content.replace(\"static inline \", \"\"))\n"
   ]
  },
  {
   "cell_type": "code",
   "execution_count": 20,
   "id": "a4dba192",
   "metadata": {},
   "outputs": [
    {
     "name": "stdout",
     "output_type": "stream",
     "text": [
      "\u001b[01m\u001b[K/tmp/leandummy.c:7:9:\u001b[m\u001b[K \u001b[01;35m\u001b[Kwarning: \u001b[m\u001b[K#pragma once in main file\n",
      "    7 | #pragma \u001b[01;35m\u001b[Konce\u001b[m\u001b[K\n",
      "      |         \u001b[01;35m\u001b[K^~~~\u001b[m\u001b[K\n"
     ]
    }
   ],
   "source": [
    "! gcc -fPIC -c -o /tmp/leandummy.o /tmp/leandummy.c -I $(lean --print-prefix)/include && gcc -shared -o /tmp/leandummy.so /tmp/leandummy.o -lleanshared_1 -lleanshared  -L $(lean --print-libdir) -Wl,-rpath=$(lean --print-libdir)"
   ]
  },
  {
   "cell_type": "markdown",
   "id": "7246d24d",
   "metadata": {},
   "source": []
  },
  {
   "cell_type": "code",
   "execution_count": 22,
   "id": "8b5cdfd1",
   "metadata": {},
   "outputs": [
    {
     "data": {
      "text/plain": [
       "<cdata 'struct lean_object *' 0x1>"
      ]
     },
     "execution_count": 22,
     "metadata": {},
     "output_type": "execute_result"
    }
   ],
   "source": [
    "import cffi\n",
    "ffi = cffi.FFI()\n",
    "ffi.cdef(\"\"\"\n",
    "typedef struct lean_object;\n",
    "struct lean_object * lean_io_mk_world();\n",
    "\"\"\")\n",
    "lib = ffi.dlopen(\"/tmp/leandummy.so\")\n",
    "lib.lean_io_mk_world()"
   ]
  },
  {
   "cell_type": "markdown",
   "id": "336e04f5",
   "metadata": {},
   "source": [
    "Ok, But this is crazy. I probably don't have to shim that much stuff,"
   ]
  },
  {
   "cell_type": "code",
   "execution_count": 44,
   "id": "da7be372",
   "metadata": {},
   "outputs": [
    {
     "name": "stdout",
     "output_type": "stream",
     "text": [
      "Overwriting /tmp/leanshim.c\n"
     ]
    }
   ],
   "source": [
    "%%file /tmp/leanshim.c\n",
    "\n",
    "#include <lean/lean.h>\n",
    "\n",
    "lean_obj_res leanshim_io_mk_world() {\n",
    "    return lean_io_mk_world();\n",
    "}\n",
    "\n",
    "char const * leanshim_string_cstr(b_lean_obj_arg o) {\n",
    "    return lean_string_cstr(o);\n",
    "}\n"
   ]
  },
  {
   "cell_type": "code",
   "execution_count": 45,
   "id": "cbcea585",
   "metadata": {},
   "outputs": [],
   "source": [
    "! gcc /tmp/leanshim.c -fPIC -c -o /tmp/leanshim.o -I $(lean --print-prefix)/include && gcc -shared -o /tmp/leanshim.so /tmp/leanshim.o -lleanshared_1 -lleanshared  -L $(lean --print-libdir) -Wl,-rpath=$(lean --print-libdir)"
   ]
  },
  {
   "cell_type": "code",
   "execution_count": null,
   "id": "7da9e358",
   "metadata": {},
   "outputs": [
    {
     "data": {
      "text/plain": [
       "<cdata 'struct lean_object *' 0x1>"
      ]
     },
     "execution_count": 33,
     "metadata": {},
     "output_type": "execute_result"
    }
   ],
   "source": [
    "import cffi\n",
    "ffi = cffi.FFI()\n",
    "ffi.cdef(\"\"\"\n",
    "typedef struct lean_object;\n",
    "typedef struct len_obj_res;\n",
    "struct lean_object * leanshim_io_mk_world();\n",
    "\"\"\")\n",
    "shim = ffi.dlopen(\"/tmp/leanshim.so\")\n",
    "shim.leanshim_io_mk_world()"
   ]
  },
  {
   "cell_type": "code",
   "execution_count": 3,
   "id": "33de5a9e",
   "metadata": {},
   "outputs": [
    {
     "data": {
      "text/plain": [
       "5"
      ]
     },
     "execution_count": 3,
     "metadata": {},
     "output_type": "execute_result"
    }
   ],
   "source": [
    "import cffi\n",
    "ffi = cffi.FFI()\n",
    "ffi.cdef(\"\"\"\n",
    "typedef struct lean_object;\n",
    "typedef struct len_obj_res;\n",
    "struct lean_object * leanshim_io_mk_world();\n",
    "char* leanshim_string_cstr(struct lean_object*);\n",
    "\"\"\")\n",
    "shim = ffi.dlopen(\"/tmp/leanshim.so\")\n",
    "shim.leanshim_io_mk_world()\n",
    "#ffi = cffi.FFI()\n",
    "ffi.cdef(\"\"\"\n",
    "typedef struct lean_object;\n",
    "extern struct lean_object * hello;\n",
    "uint64_t my_length(struct lean_object*);\n",
    "void lean_initialize_runtime_module();\n",
    "\"\"\")\n",
    "ffi.cdef(\"struct lean_object * initialize_hello(uint8_t builtin, struct lean_object *);\")\n",
    "\n",
    "lib = ffi.dlopen(\"/tmp/hello.so\")\n",
    "lib.lean_initialize_runtime_module()\n",
    "lib.initialize_hello(0, shim.leanshim_io_mk_world())\n",
    "ffi.string(shim.leanshim_string_cstr(lib.hello))\n",
    "lib.my_length(lib.hello)"
   ]
  },
  {
   "cell_type": "markdown",
   "id": "0a4b8535",
   "metadata": {},
   "source": [
    "Design choices\n",
    "\n",
    "- nanobind (c++ only?)\n",
    "- cffi abi mode\n",
    "- cffi api mode\n",
    "\n",
    "inline or out of line\n",
    "\n",
    "Do I bind everything in lean.h? Meh.\n",
    "\n",
    "\n",
    "\n",
    "What is leanmake for? Just to have CC set to leanc?\n",
    "\n",
    "\n",
    "src/runtime\n",
    "vs the expression datatype.\n",
    "\n"
   ]
  },
  {
   "cell_type": "code",
   "execution_count": null,
   "id": "74dda56c",
   "metadata": {},
   "outputs": [],
   "source": []
  },
  {
   "cell_type": "code",
   "execution_count": 7,
   "id": "ffead58d",
   "metadata": {},
   "outputs": [
    {
     "ename": "AttributeError",
     "evalue": "function/symbol 'lean_io_mk_world' not found in library '/home/philip/.elan/toolchains/leanprover--lean4---v4.18.0/lib/lean/libleanshared.so': /home/philip/.elan/toolchains/leanprover--lean4---v4.18.0/lib/lean/libleanshared.so: undefined symbol: lean_io_mk_world",
     "output_type": "error",
     "traceback": [
      "\u001b[31m---------------------------------------------------------------------------\u001b[39m",
      "\u001b[31mAttributeError\u001b[39m                            Traceback (most recent call last)",
      "\u001b[36mCell\u001b[39m\u001b[36m \u001b[39m\u001b[32mIn[7]\u001b[39m\u001b[32m, line 14\u001b[39m\n\u001b[32m      9\u001b[39m ffi.cdef(\u001b[33m\"\"\"\u001b[39m\n\u001b[32m     10\u001b[39m \u001b[33mtypedef struct lean_object;\u001b[39m\n\u001b[32m     11\u001b[39m \u001b[33mstruct lean_object * lean_io_mk_world();\u001b[39m\n\u001b[32m     12\u001b[39m \u001b[33m\"\"\"\u001b[39m)\n\u001b[32m     13\u001b[39m lib = ffi.dlopen(lean_libdir + \u001b[33m\"\u001b[39m\u001b[33m/libleanshared.so\u001b[39m\u001b[33m\"\u001b[39m)\n\u001b[32m---> \u001b[39m\u001b[32m14\u001b[39m \u001b[43mlib\u001b[49m\u001b[43m.\u001b[49m\u001b[43mlean_io_mk_world\u001b[49m()\n",
      "\u001b[36mFile \u001b[39m\u001b[32m~/philzook58.github.io/.venv/lib/python3.12/site-packages/cffi/api.py:914\u001b[39m, in \u001b[36m_make_ffi_library.<locals>.FFILibrary.__getattr__\u001b[39m\u001b[34m(self, name)\u001b[39m\n\u001b[32m    913\u001b[39m \u001b[38;5;28;01mdef\u001b[39;00m\u001b[38;5;250m \u001b[39m\u001b[34m__getattr__\u001b[39m(\u001b[38;5;28mself\u001b[39m, name):\n\u001b[32m--> \u001b[39m\u001b[32m914\u001b[39m     \u001b[43mmake_accessor\u001b[49m\u001b[43m(\u001b[49m\u001b[43mname\u001b[49m\u001b[43m)\u001b[49m\n\u001b[32m    915\u001b[39m     \u001b[38;5;28;01mreturn\u001b[39;00m \u001b[38;5;28mgetattr\u001b[39m(\u001b[38;5;28mself\u001b[39m, name)\n",
      "\u001b[36mFile \u001b[39m\u001b[32m~/philzook58.github.io/.venv/lib/python3.12/site-packages/cffi/api.py:910\u001b[39m, in \u001b[36m_make_ffi_library.<locals>.make_accessor\u001b[39m\u001b[34m(name)\u001b[39m\n\u001b[32m    908\u001b[39m     \u001b[38;5;28;01mif\u001b[39;00m name \u001b[38;5;129;01mnot\u001b[39;00m \u001b[38;5;129;01min\u001b[39;00m accessors:\n\u001b[32m    909\u001b[39m         \u001b[38;5;28;01mraise\u001b[39;00m \u001b[38;5;167;01mAttributeError\u001b[39;00m(name)\n\u001b[32m--> \u001b[39m\u001b[32m910\u001b[39m \u001b[43maccessors\u001b[49m\u001b[43m[\u001b[49m\u001b[43mname\u001b[49m\u001b[43m]\u001b[49m\u001b[43m(\u001b[49m\u001b[43mname\u001b[49m\u001b[43m)\u001b[49m\n",
      "\u001b[36mFile \u001b[39m\u001b[32m~/philzook58.github.io/.venv/lib/python3.12/site-packages/cffi/api.py:840\u001b[39m, in \u001b[36m_make_ffi_library.<locals>.accessor_function\u001b[39m\u001b[34m(name)\u001b[39m\n\u001b[32m    838\u001b[39m tp, _ = ffi._parser._declarations[key]\n\u001b[32m    839\u001b[39m BType = ffi._get_cached_btype(tp)\n\u001b[32m--> \u001b[39m\u001b[32m840\u001b[39m value = \u001b[43mbackendlib\u001b[49m\u001b[43m.\u001b[49m\u001b[43mload_function\u001b[49m\u001b[43m(\u001b[49m\u001b[43mBType\u001b[49m\u001b[43m,\u001b[49m\u001b[43m \u001b[49m\u001b[43mname\u001b[49m\u001b[43m)\u001b[49m\n\u001b[32m    841\u001b[39m library.\u001b[34m__dict__\u001b[39m[name] = value\n",
      "\u001b[31mAttributeError\u001b[39m: function/symbol 'lean_io_mk_world' not found in library '/home/philip/.elan/toolchains/leanprover--lean4---v4.18.0/lib/lean/libleanshared.so': /home/philip/.elan/toolchains/leanprover--lean4---v4.18.0/lib/lean/libleanshared.so: undefined symbol: lean_io_mk_world"
     ]
    }
   ],
   "source": [
    "import subprocess\n",
    "lean_prefix = subprocess.check_output([\"lean\", \"--print-prefix\"]).decode().strip()\n",
    "lean_prefix\n",
    "lean_libdir = subprocess.check_output([\"lean\", \"--print-libdir\"]).decode().strip()\n",
    "lean_libdir\n",
    "\n",
    "import cffi\n",
    "ffi = cffi.FFI()\n",
    "ffi.cdef(\"\"\"\n",
    "typedef struct lean_object;\n",
    "struct lean_object * lean_io_mk_world();\n",
    "\"\"\")\n",
    "lib = ffi.dlopen(lean_libdir + \"/libleanshared.so\")\n",
    "lib.lean_io_mk_world()"
   ]
  },
  {
   "cell_type": "code",
   "execution_count": 5,
   "id": "642b0c33",
   "metadata": {},
   "outputs": [
    {
     "ename": "AttributeError",
     "evalue": "function/symbol 'lean_io_mk_world' not found in library '/tmp/hello.so': /tmp/hello.so: undefined symbol: lean_io_mk_world",
     "output_type": "error",
     "traceback": [
      "\u001b[31m---------------------------------------------------------------------------\u001b[39m",
      "\u001b[31mAttributeError\u001b[39m                            Traceback (most recent call last)",
      "\u001b[36mCell\u001b[39m\u001b[36m \u001b[39m\u001b[32mIn[5]\u001b[39m\u001b[32m, line 16\u001b[39m\n\u001b[32m     13\u001b[39m lib.lean_initialize_runtime_module()\n\u001b[32m     14\u001b[39m lib.hello\n\u001b[32m---> \u001b[39m\u001b[32m16\u001b[39m \u001b[43mlib\u001b[49m\u001b[43m.\u001b[49m\u001b[43mlean_io_mk_world\u001b[49m()\n\u001b[32m     17\u001b[39m \u001b[38;5;66;03m#lib.lean_box(0)\u001b[39;00m\n",
      "\u001b[36mFile \u001b[39m\u001b[32m~/philzook58.github.io/.venv/lib/python3.12/site-packages/cffi/api.py:914\u001b[39m, in \u001b[36m_make_ffi_library.<locals>.FFILibrary.__getattr__\u001b[39m\u001b[34m(self, name)\u001b[39m\n\u001b[32m    913\u001b[39m \u001b[38;5;28;01mdef\u001b[39;00m\u001b[38;5;250m \u001b[39m\u001b[34m__getattr__\u001b[39m(\u001b[38;5;28mself\u001b[39m, name):\n\u001b[32m--> \u001b[39m\u001b[32m914\u001b[39m     \u001b[43mmake_accessor\u001b[49m\u001b[43m(\u001b[49m\u001b[43mname\u001b[49m\u001b[43m)\u001b[49m\n\u001b[32m    915\u001b[39m     \u001b[38;5;28;01mreturn\u001b[39;00m \u001b[38;5;28mgetattr\u001b[39m(\u001b[38;5;28mself\u001b[39m, name)\n",
      "\u001b[36mFile \u001b[39m\u001b[32m~/philzook58.github.io/.venv/lib/python3.12/site-packages/cffi/api.py:910\u001b[39m, in \u001b[36m_make_ffi_library.<locals>.make_accessor\u001b[39m\u001b[34m(name)\u001b[39m\n\u001b[32m    908\u001b[39m     \u001b[38;5;28;01mif\u001b[39;00m name \u001b[38;5;129;01mnot\u001b[39;00m \u001b[38;5;129;01min\u001b[39;00m accessors:\n\u001b[32m    909\u001b[39m         \u001b[38;5;28;01mraise\u001b[39;00m \u001b[38;5;167;01mAttributeError\u001b[39;00m(name)\n\u001b[32m--> \u001b[39m\u001b[32m910\u001b[39m \u001b[43maccessors\u001b[49m\u001b[43m[\u001b[49m\u001b[43mname\u001b[49m\u001b[43m]\u001b[49m\u001b[43m(\u001b[49m\u001b[43mname\u001b[49m\u001b[43m)\u001b[49m\n",
      "\u001b[36mFile \u001b[39m\u001b[32m~/philzook58.github.io/.venv/lib/python3.12/site-packages/cffi/api.py:840\u001b[39m, in \u001b[36m_make_ffi_library.<locals>.accessor_function\u001b[39m\u001b[34m(name)\u001b[39m\n\u001b[32m    838\u001b[39m tp, _ = ffi._parser._declarations[key]\n\u001b[32m    839\u001b[39m BType = ffi._get_cached_btype(tp)\n\u001b[32m--> \u001b[39m\u001b[32m840\u001b[39m value = \u001b[43mbackendlib\u001b[49m\u001b[43m.\u001b[49m\u001b[43mload_function\u001b[49m\u001b[43m(\u001b[49m\u001b[43mBType\u001b[49m\u001b[43m,\u001b[49m\u001b[43m \u001b[49m\u001b[43mname\u001b[49m\u001b[43m)\u001b[49m\n\u001b[32m    841\u001b[39m library.\u001b[34m__dict__\u001b[39m[name] = value\n",
      "\u001b[31mAttributeError\u001b[39m: function/symbol 'lean_io_mk_world' not found in library '/tmp/hello.so': /tmp/hello.so: undefined symbol: lean_io_mk_world"
     ]
    }
   ],
   "source": [
    "import cffi\n",
    "ffi = cffi.FFI()\n",
    "ffi.cdef(\"\"\"\n",
    "typedef struct lean_object;\n",
    "extern struct lean_object * hello;\n",
    "uint64_t my_length(struct lean_object*);\n",
    "void lean_initialize_runtime_module();\n",
    "struct lean_object * lean_io_mk_world();\n",
    "\n",
    "\"\"\")\n",
    "\n",
    "lib = ffi.dlopen(\"/tmp/hello.so\")\n",
    "lib.lean_initialize_runtime_module()\n",
    "lib.hello\n",
    "\n",
    "lib.lean_io_mk_world()\n",
    "#lib.lean_box(0)"
   ]
  },
  {
   "cell_type": "code",
   "execution_count": 3,
   "id": "569c337a",
   "metadata": {},
   "outputs": [
    {
     "ename": "OSError",
     "evalue": "cannot load library '/tmp/myadd.so': /tmp/myadd.so: undefined symbol: initialize_Init.  Additionally, ctypes.util.find_library() did not manage to locate a library called '/tmp/myadd.so'",
     "output_type": "error",
     "traceback": [
      "\u001b[31m---------------------------------------------------------------------------\u001b[39m",
      "\u001b[31mOSError\u001b[39m                                   Traceback (most recent call last)",
      "\u001b[36mCell\u001b[39m\u001b[36m \u001b[39m\u001b[32mIn[3]\u001b[39m\u001b[32m, line 6\u001b[39m\n\u001b[32m      4\u001b[39m ffi.cdef(\u001b[33m\"\u001b[39m\u001b[33mvoid lean_initialize_runtime_module();\u001b[39m\u001b[33m\"\u001b[39m)\n\u001b[32m      5\u001b[39m ffi.cdef(\u001b[33m\"\u001b[39m\u001b[33muint64_t myadd(uint64_t a, uint64_t b);\u001b[39m\u001b[33m\"\u001b[39m)\n\u001b[32m----> \u001b[39m\u001b[32m6\u001b[39m lib = \u001b[43mffi\u001b[49m\u001b[43m.\u001b[49m\u001b[43mdlopen\u001b[49m\u001b[43m(\u001b[49m\u001b[33;43m\"\u001b[39;49m\u001b[33;43m/tmp/myadd.so\u001b[39;49m\u001b[33;43m\"\u001b[39;49m\u001b[43m)\u001b[49m\n\u001b[32m      7\u001b[39m \u001b[38;5;66;03m#lib.initialize_myadd()\u001b[39;00m\n\u001b[32m      8\u001b[39m lib.initialize_lean_runtime_module()\n",
      "\u001b[36mFile \u001b[39m\u001b[32m~/philzook58.github.io/.venv/lib/python3.12/site-packages/cffi/api.py:150\u001b[39m, in \u001b[36mFFI.dlopen\u001b[39m\u001b[34m(self, name, flags)\u001b[39m\n\u001b[32m    147\u001b[39m     \u001b[38;5;28;01mraise\u001b[39;00m \u001b[38;5;167;01mTypeError\u001b[39;00m(\u001b[33m\"\u001b[39m\u001b[33mdlopen(name): name must be a file name, None, \u001b[39m\u001b[33m\"\u001b[39m\n\u001b[32m    148\u001b[39m                     \u001b[33m\"\u001b[39m\u001b[33mor an already-opened \u001b[39m\u001b[33m'\u001b[39m\u001b[33mvoid *\u001b[39m\u001b[33m'\u001b[39m\u001b[33m handle\u001b[39m\u001b[33m\"\u001b[39m)\n\u001b[32m    149\u001b[39m \u001b[38;5;28;01mwith\u001b[39;00m \u001b[38;5;28mself\u001b[39m._lock:\n\u001b[32m--> \u001b[39m\u001b[32m150\u001b[39m     lib, function_cache = \u001b[43m_make_ffi_library\u001b[49m\u001b[43m(\u001b[49m\u001b[38;5;28;43mself\u001b[39;49m\u001b[43m,\u001b[49m\u001b[43m \u001b[49m\u001b[43mname\u001b[49m\u001b[43m,\u001b[49m\u001b[43m \u001b[49m\u001b[43mflags\u001b[49m\u001b[43m)\u001b[49m\n\u001b[32m    151\u001b[39m     \u001b[38;5;28mself\u001b[39m._function_caches.append(function_cache)\n\u001b[32m    152\u001b[39m     \u001b[38;5;28mself\u001b[39m._libraries.append(lib)\n",
      "\u001b[36mFile \u001b[39m\u001b[32m~/philzook58.github.io/.venv/lib/python3.12/site-packages/cffi/api.py:834\u001b[39m, in \u001b[36m_make_ffi_library\u001b[39m\u001b[34m(ffi, libname, flags)\u001b[39m\n\u001b[32m    832\u001b[39m \u001b[38;5;28;01mdef\u001b[39;00m\u001b[38;5;250m \u001b[39m\u001b[34m_make_ffi_library\u001b[39m(ffi, libname, flags):\n\u001b[32m    833\u001b[39m     backend = ffi._backend\n\u001b[32m--> \u001b[39m\u001b[32m834\u001b[39m     backendlib = \u001b[43m_load_backend_lib\u001b[49m\u001b[43m(\u001b[49m\u001b[43mbackend\u001b[49m\u001b[43m,\u001b[49m\u001b[43m \u001b[49m\u001b[43mlibname\u001b[49m\u001b[43m,\u001b[49m\u001b[43m \u001b[49m\u001b[43mflags\u001b[49m\u001b[43m)\u001b[49m\n\u001b[32m    835\u001b[39m     \u001b[38;5;66;03m#\u001b[39;00m\n\u001b[32m    836\u001b[39m     \u001b[38;5;28;01mdef\u001b[39;00m\u001b[38;5;250m \u001b[39m\u001b[34maccessor_function\u001b[39m(name):\n",
      "\u001b[36mFile \u001b[39m\u001b[32m~/philzook58.github.io/.venv/lib/python3.12/site-packages/cffi/api.py:829\u001b[39m, in \u001b[36m_load_backend_lib\u001b[39m\u001b[34m(backend, name, flags)\u001b[39m\n\u001b[32m    827\u001b[39m     \u001b[38;5;28;01mif\u001b[39;00m first_error \u001b[38;5;129;01mis\u001b[39;00m \u001b[38;5;129;01mnot\u001b[39;00m \u001b[38;5;28;01mNone\u001b[39;00m:\n\u001b[32m    828\u001b[39m         msg = \u001b[33m\"\u001b[39m\u001b[38;5;132;01m%s\u001b[39;00m\u001b[33m.  Additionally, \u001b[39m\u001b[38;5;132;01m%s\u001b[39;00m\u001b[33m\"\u001b[39m % (first_error, msg)\n\u001b[32m--> \u001b[39m\u001b[32m829\u001b[39m     \u001b[38;5;28;01mraise\u001b[39;00m \u001b[38;5;167;01mOSError\u001b[39;00m(msg)\n\u001b[32m    830\u001b[39m \u001b[38;5;28;01mreturn\u001b[39;00m backend.load_library(path, flags)\n",
      "\u001b[31mOSError\u001b[39m: cannot load library '/tmp/myadd.so': /tmp/myadd.so: undefined symbol: initialize_Init.  Additionally, ctypes.util.find_library() did not manage to locate a library called '/tmp/myadd.so'"
     ]
    }
   ],
   "source": [
    "import cffi\n",
    "ffi = cffi.FFI()\n",
    "ffi.cdef(\"uint64_t initialize_myadd();\")\n",
    "ffi.cdef(\"void lean_initialize_runtime_module();\")\n",
    "ffi.cdef(\"uint64_t myadd(uint64_t a, uint64_t b);\")\n",
    "lib = ffi.dlopen(\"/tmp/myadd.so\")\n",
    "#lib.initialize_myadd()\n",
    "lib.initialize_lean_runtime_module()\n",
    "print(lib.myadd(5, 7))"
   ]
  },
  {
   "cell_type": "code",
   "execution_count": 4,
   "id": "7867b9e8",
   "metadata": {},
   "outputs": [
    {
     "name": "stdout",
     "output_type": "stream",
     "text": [
      "7db83ca00000-7db83dc17000 r--p 00000000 103:05 45388998                  /home/philip/.elan/toolchains/leanprover--lean4---v4.18.0/lib/lean/libleanshared.so\n",
      "7db83dc17000-7db843e56000 r-xp 01216000 103:05 45388998                  /home/philip/.elan/toolchains/leanprover--lean4---v4.18.0/lib/lean/libleanshared.so\n",
      "7db843e56000-7db843e60000 r--p 07454000 103:05 45388998                  /home/philip/.elan/toolchains/leanprover--lean4---v4.18.0/lib/lean/libleanshared.so\n",
      "7db843e60000-7db843e62000 rw-p 0745d000 103:05 45388998                  /home/philip/.elan/toolchains/leanprover--lean4---v4.18.0/lib/lean/libleanshared.so\n",
      "7db852f8a000-7db852f8f000 r--p 00000000 103:05 87039982                  /usr/lib/x86_64-linux-gnu/libmimalloc.so.2.1\n",
      "7db852f8f000-7db852f9d000 r-xp 00005000 103:05 87039982                  /usr/lib/x86_64-linux-gnu/libmimalloc.so.2.1\n",
      "7db852f9d000-7db852fa2000 r--p 00013000 103:05 87039982                  /usr/lib/x86_64-linux-gnu/libmimalloc.so.2.1\n",
      "7db852fa2000-7db852fa4000 r--p 00017000 103:05 87039982                  /usr/lib/x86_64-linux-gnu/libmimalloc.so.2.1\n",
      "7db852fa4000-7db852fa6000 rw-p 00019000 103:05 87039982                  /usr/lib/x86_64-linux-gnu/libmimalloc.so.2.1\n",
      "7db86800b000-7db86800c000 r--p 00000000 103:05 87057227                  /usr/lib/x86_64-linux-gnu/libdl.so.2\n",
      "7db86800c000-7db86800d000 r-xp 00001000 103:05 87057227                  /usr/lib/x86_64-linux-gnu/libdl.so.2\n",
      "7db86800d000-7db86800e000 r--p 00002000 103:05 87057227                  /usr/lib/x86_64-linux-gnu/libdl.so.2\n",
      "7db86800e000-7db86800f000 r--p 00002000 103:05 87057227                  /usr/lib/x86_64-linux-gnu/libdl.so.2\n",
      "7db86800f000-7db868010000 rw-p 00003000 103:05 87057227                  /usr/lib/x86_64-linux-gnu/libdl.so.2\n",
      "7db868010000-7db868018000 r--p 00000000 103:05 53100635                  /home/philip/philzook58.github.io/.venv/lib/python3.12/site-packages/_cffi_backend.cpython-312-x86_64-linux-gnu.so\n",
      "7db868018000-7db86803c000 r-xp 00008000 103:05 53100635                  /home/philip/philzook58.github.io/.venv/lib/python3.12/site-packages/_cffi_backend.cpython-312-x86_64-linux-gnu.so\n",
      "7db86803c000-7db868049000 r--p 0002c000 103:05 53100635                  /home/philip/philzook58.github.io/.venv/lib/python3.12/site-packages/_cffi_backend.cpython-312-x86_64-linux-gnu.so\n",
      "7db868049000-7db86804a000 r--p 00038000 103:05 53100635                  /home/philip/philzook58.github.io/.venv/lib/python3.12/site-packages/_cffi_backend.cpython-312-x86_64-linux-gnu.so\n",
      "7db86804a000-7db86804e000 rw-p 00039000 103:05 53100635                  /home/philip/philzook58.github.io/.venv/lib/python3.12/site-packages/_cffi_backend.cpython-312-x86_64-linux-gnu.so\n",
      "7db868150000-7db868155000 r--p 00000000 103:05 58724174                  /home/philip/philzook58.github.io/.venv/lib/python3.12/site-packages/debugpy/_vendored/pydevd/_pydevd_sys_monitoring/_pydevd_sys_monitoring_cython.cpython-312-x86_64-linux-gnu.so\n",
      "7db868155000-7db8681be000 r-xp 00005000 103:05 58724174                  /home/philip/philzook58.github.io/.venv/lib/python3.12/site-packages/debugpy/_vendored/pydevd/_pydevd_sys_monitoring/_pydevd_sys_monitoring_cython.cpython-312-x86_64-linux-gnu.so\n",
      "7db8681be000-7db8681c7000 r--p 0006e000 103:05 58724174                  /home/philip/philzook58.github.io/.venv/lib/python3.12/site-packages/debugpy/_vendored/pydevd/_pydevd_sys_monitoring/_pydevd_sys_monitoring_cython.cpython-312-x86_64-linux-gnu.so\n",
      "7db8681c7000-7db8681c8000 r--p 00076000 103:05 58724174                  /home/philip/philzook58.github.io/.venv/lib/python3.12/site-packages/debugpy/_vendored/pydevd/_pydevd_sys_monitoring/_pydevd_sys_monitoring_cython.cpython-312-x86_64-linux-gnu.so\n",
      "7db8681c8000-7db8681ca000 rw-p 00077000 103:05 58724174                  /home/philip/philzook58.github.io/.venv/lib/python3.12/site-packages/debugpy/_vendored/pydevd/_pydevd_sys_monitoring/_pydevd_sys_monitoring_cython.cpython-312-x86_64-linux-gnu.so\n",
      "7db8681cb000-7db8681d1000 r--p 00000000 103:05 58723341                  /home/philip/philzook58.github.io/.venv/lib/python3.12/site-packages/debugpy/_vendored/pydevd/_pydevd_bundle/pydevd_cython.cpython-312-x86_64-linux-gnu.so\n",
      "7db8681d1000-7db868259000 r-xp 00006000 103:05 58723341                  /home/philip/philzook58.github.io/.venv/lib/python3.12/site-packages/debugpy/_vendored/pydevd/_pydevd_bundle/pydevd_cython.cpython-312-x86_64-linux-gnu.so\n",
      "7db868259000-7db868265000 r--p 0008e000 103:05 58723341                  /home/philip/philzook58.github.io/.venv/lib/python3.12/site-packages/debugpy/_vendored/pydevd/_pydevd_bundle/pydevd_cython.cpython-312-x86_64-linux-gnu.so\n",
      "7db868265000-7db868266000 r--p 00099000 103:05 58723341                  /home/philip/philzook58.github.io/.venv/lib/python3.12/site-packages/debugpy/_vendored/pydevd/_pydevd_bundle/pydevd_cython.cpython-312-x86_64-linux-gnu.so\n",
      "7db868266000-7db868269000 rw-p 0009a000 103:05 58723341                  /home/philip/philzook58.github.io/.venv/lib/python3.12/site-packages/debugpy/_vendored/pydevd/_pydevd_bundle/pydevd_cython.cpython-312-x86_64-linux-gnu.so\n",
      "7db86c671000-7db86c691000 r--p 00000000 103:05 87041587                  /usr/lib/x86_64-linux-gnu/libsqlite3.so.0.8.6\n",
      "7db86c691000-7db86c79c000 r-xp 00020000 103:05 87041587                  /usr/lib/x86_64-linux-gnu/libsqlite3.so.0.8.6\n",
      "7db86c79c000-7db86c7d0000 r--p 0012b000 103:05 87041587                  /usr/lib/x86_64-linux-gnu/libsqlite3.so.0.8.6\n",
      "7db86c7d0000-7db86c7d4000 r--p 0015e000 103:05 87041587                  /usr/lib/x86_64-linux-gnu/libsqlite3.so.0.8.6\n",
      "7db86c7d4000-7db86c7d8000 rw-p 00162000 103:05 87041587                  /usr/lib/x86_64-linux-gnu/libsqlite3.so.0.8.6\n",
      "7db86cec4000-7db86cec7000 r--p 00000000 103:05 87033108                  /usr/lib/x86_64-linux-gnu/liblzma.so.5.4.5\n",
      "7db86cec7000-7db86cee9000 r-xp 00003000 103:05 87033108                  /usr/lib/x86_64-linux-gnu/liblzma.so.5.4.5\n",
      "7db86cee9000-7db86cef4000 r--p 00025000 103:05 87033108                  /usr/lib/x86_64-linux-gnu/liblzma.so.5.4.5\n",
      "7db86cef4000-7db86cef5000 r--p 00030000 103:05 87033108                  /usr/lib/x86_64-linux-gnu/liblzma.so.5.4.5\n",
      "7db86cef5000-7db86cef6000 rw-p 00031000 103:05 87033108                  /usr/lib/x86_64-linux-gnu/liblzma.so.5.4.5\n",
      "7db86cef6000-7db86cef8000 r--p 00000000 103:05 87031935                  /usr/lib/x86_64-linux-gnu/libbz2.so.1.0.4\n",
      "7db86cef8000-7db86cf06000 r-xp 00002000 103:05 87031935                  /usr/lib/x86_64-linux-gnu/libbz2.so.1.0.4\n",
      "7db86cf06000-7db86cf08000 r--p 00010000 103:05 87031935                  /usr/lib/x86_64-linux-gnu/libbz2.so.1.0.4\n",
      "7db86cf08000-7db86cf09000 r--p 00011000 103:05 87031935                  /usr/lib/x86_64-linux-gnu/libbz2.so.1.0.4\n",
      "7db86cf09000-7db86cf0a000 rw-p 00012000 103:05 87031935                  /usr/lib/x86_64-linux-gnu/libbz2.so.1.0.4\n",
      "7db86cf0a000-7db86cf11000 r--p 00000000 103:05 87059425                  /usr/lib/python3.12/lib-dynload/_decimal.cpython-312-x86_64-linux-gnu.so\n",
      "7db86cf11000-7db86cf51000 r-xp 00007000 103:05 87059425                  /usr/lib/python3.12/lib-dynload/_decimal.cpython-312-x86_64-linux-gnu.so\n",
      "7db86cf51000-7db86cf62000 r--p 00047000 103:05 87059425                  /usr/lib/python3.12/lib-dynload/_decimal.cpython-312-x86_64-linux-gnu.so\n",
      "7db86cf62000-7db86cf63000 r--p 00057000 103:05 87059425                  /usr/lib/python3.12/lib-dynload/_decimal.cpython-312-x86_64-linux-gnu.so\n",
      "7db86cf63000-7db86cf66000 rw-p 00058000 103:05 87059425                  /usr/lib/python3.12/lib-dynload/_decimal.cpython-312-x86_64-linux-gnu.so\n",
      "7db86d066000-7db86d074000 r--p 00000000 103:05 87058191                  /usr/lib/x86_64-linux-gnu/libtinfo.so.6.4\n",
      "7db86d074000-7db86d087000 r-xp 0000e000 103:05 87058191                  /usr/lib/x86_64-linux-gnu/libtinfo.so.6.4\n",
      "7db86d087000-7db86d095000 r--p 00021000 103:05 87058191                  /usr/lib/x86_64-linux-gnu/libtinfo.so.6.4\n",
      "7db86d095000-7db86d099000 r--p 0002e000 103:05 87058191                  /usr/lib/x86_64-linux-gnu/libtinfo.so.6.4\n",
      "7db86d099000-7db86d09a000 rw-p 00032000 103:05 87058191                  /usr/lib/x86_64-linux-gnu/libtinfo.so.6.4\n",
      "7db86d19a000-7db86d19c000 r--p 00000000 103:05 87035529                  /usr/lib/x86_64-linux-gnu/libffi.so.8.1.4\n",
      "7db86d19c000-7db86d1a3000 r-xp 00002000 103:05 87035529                  /usr/lib/x86_64-linux-gnu/libffi.so.8.1.4\n",
      "7db86d1a3000-7db86d1a4000 r--p 00009000 103:05 87035529                  /usr/lib/x86_64-linux-gnu/libffi.so.8.1.4\n",
      "7db86d1a4000-7db86d1a5000 r--p 0000a000 103:05 87035529                  /usr/lib/x86_64-linux-gnu/libffi.so.8.1.4\n",
      "7db86d1a5000-7db86d1a6000 rw-p 0000b000 103:05 87035529                  /usr/lib/x86_64-linux-gnu/libffi.so.8.1.4\n",
      "7db86d1a9000-7db86d1aa000 r--p 00000000 103:05 45388927                  /home/philip/.elan/toolchains/leanprover--lean4---v4.18.0/lib/lean/libleanshared_1.so\n",
      "7db86d1aa000-7db86d1ab000 r-xp 00000000 103:05 45388927                  /home/philip/.elan/toolchains/leanprover--lean4---v4.18.0/lib/lean/libleanshared_1.so\n",
      "7db86d1ab000-7db86d1ac000 r--p 00000000 103:05 45388927                  /home/philip/.elan/toolchains/leanprover--lean4---v4.18.0/lib/lean/libleanshared_1.so\n",
      "7db86d1ac000-7db86d1ad000 rw-p 00000000 103:05 45388927                  /home/philip/.elan/toolchains/leanprover--lean4---v4.18.0/lib/lean/libleanshared_1.so\n",
      "7db86d1ad000-7db86d1ae000 r--p 00000000 103:05 45389000                  /home/philip/.elan/toolchains/leanprover--lean4---v4.18.0/lib/lean/libInit_shared.so\n",
      "7db86d1ae000-7db86d1af000 r-xp 00000000 103:05 45389000                  /home/philip/.elan/toolchains/leanprover--lean4---v4.18.0/lib/lean/libInit_shared.so\n",
      "7db86d1af000-7db86d1b0000 r--p 00000000 103:05 45389000                  /home/philip/.elan/toolchains/leanprover--lean4---v4.18.0/lib/lean/libInit_shared.so\n",
      "7db86d1b0000-7db86d1b1000 rw-p 00000000 103:05 45389000                  /home/philip/.elan/toolchains/leanprover--lean4---v4.18.0/lib/lean/libInit_shared.so\n",
      "7db86d1b1000-7db86d1b2000 r--p 00000000 103:05 41418880                  /tmp/hello.so\n",
      "7db86d1b2000-7db86d1b4000 r-xp 00000000 103:05 41418880                  /tmp/hello.so\n",
      "7db86d1b4000-7db86d1b5000 r--p 00001000 103:05 41418880                  /tmp/hello.so\n",
      "7db86d1b5000-7db86d1b6000 rw-p 00001000 103:05 41418880                  /tmp/hello.so\n",
      "7db86d1ce000-7db86d1d4000 r--p 00000000 103:05 87059336                  /usr/lib/python3.12/lib-dynload/_ctypes.cpython-312-x86_64-linux-gnu.so\n",
      "7db86d1d4000-7db86d1e6000 r-xp 00006000 103:05 87059336                  /usr/lib/python3.12/lib-dynload/_ctypes.cpython-312-x86_64-linux-gnu.so\n",
      "7db86d1e6000-7db86d1ec000 r--p 00018000 103:05 87059336                  /usr/lib/python3.12/lib-dynload/_ctypes.cpython-312-x86_64-linux-gnu.so\n",
      "7db86d1ec000-7db86d1ed000 r--p 0001d000 103:05 87059336                  /usr/lib/python3.12/lib-dynload/_ctypes.cpython-312-x86_64-linux-gnu.so\n",
      "7db86d1ed000-7db86d1f1000 rw-p 0001e000 103:05 87059336                  /usr/lib/python3.12/lib-dynload/_ctypes.cpython-312-x86_64-linux-gnu.so\n",
      "7db86d1f1000-7db86d1f3000 r--p 00000000 103:05 55224141                  /home/philip/philzook58.github.io/.venv/lib/python3.12/site-packages/psutil/_psutil_posix.abi3.so\n",
      "7db86d1f3000-7db86d1f5000 r-xp 00002000 103:05 55224141                  /home/philip/philzook58.github.io/.venv/lib/python3.12/site-packages/psutil/_psutil_posix.abi3.so\n",
      "7db86d1f5000-7db86d1f6000 r--p 00004000 103:05 55224141                  /home/philip/philzook58.github.io/.venv/lib/python3.12/site-packages/psutil/_psutil_posix.abi3.so\n",
      "7db86d1f6000-7db86d1f7000 r--p 00004000 103:05 55224141                  /home/philip/philzook58.github.io/.venv/lib/python3.12/site-packages/psutil/_psutil_posix.abi3.so\n",
      "7db86d1f7000-7db86d1f8000 rw-p 00005000 103:05 55224141                  /home/philip/philzook58.github.io/.venv/lib/python3.12/site-packages/psutil/_psutil_posix.abi3.so\n",
      "7db86d1f8000-7db86d1fa000 r--p 00000000 103:05 55224004                  /home/philip/philzook58.github.io/.venv/lib/python3.12/site-packages/psutil/_psutil_linux.abi3.so\n",
      "7db86d1fa000-7db86d1fd000 r-xp 00002000 103:05 55224004                  /home/philip/philzook58.github.io/.venv/lib/python3.12/site-packages/psutil/_psutil_linux.abi3.so\n",
      "7db86d1fd000-7db86d1fe000 r--p 00005000 103:05 55224004                  /home/philip/philzook58.github.io/.venv/lib/python3.12/site-packages/psutil/_psutil_linux.abi3.so\n",
      "7db86d1fe000-7db86d1ff000 r--p 00005000 103:05 55224004                  /home/philip/philzook58.github.io/.venv/lib/python3.12/site-packages/psutil/_psutil_linux.abi3.so\n",
      "7db86d1ff000-7db86d200000 rw-p 00006000 103:05 55224004                  /home/philip/philzook58.github.io/.venv/lib/python3.12/site-packages/psutil/_psutil_linux.abi3.so\n",
      "7db86d400000-7db86d4b3000 r--p 00000000 103:05 87033803                  /usr/lib/x86_64-linux-gnu/libcrypto.so.3\n",
      "7db86d4b3000-7db86d7e6000 r-xp 000b3000 103:05 87033803                  /usr/lib/x86_64-linux-gnu/libcrypto.so.3\n",
      "7db86d7e6000-7db86d8b1000 r--p 003e6000 103:05 87033803                  /usr/lib/x86_64-linux-gnu/libcrypto.so.3\n",
      "7db86d8b1000-7db86d90d000 r--p 004b0000 103:05 87033803                  /usr/lib/x86_64-linux-gnu/libcrypto.so.3\n",
      "7db86d90d000-7db86d910000 rw-p 0050c000 103:05 87033803                  /usr/lib/x86_64-linux-gnu/libcrypto.so.3\n",
      "7db86d914000-7db86d916000 r--p 00000000 103:05 87059798                  /usr/lib/python3.12/lib-dynload/resource.cpython-312-x86_64-linux-gnu.so\n",
      "7db86d916000-7db86d917000 r-xp 00002000 103:05 87059798                  /usr/lib/python3.12/lib-dynload/resource.cpython-312-x86_64-linux-gnu.so\n",
      "7db86d917000-7db86d918000 r--p 00003000 103:05 87059798                  /usr/lib/python3.12/lib-dynload/resource.cpython-312-x86_64-linux-gnu.so\n",
      "7db86d918000-7db86d919000 r--p 00003000 103:05 87059798                  /usr/lib/python3.12/lib-dynload/resource.cpython-312-x86_64-linux-gnu.so\n",
      "7db86d919000-7db86d91a000 rw-p 00004000 103:05 87059798                  /usr/lib/python3.12/lib-dynload/resource.cpython-312-x86_64-linux-gnu.so\n",
      "7db86d91a000-7db86d923000 r--p 00000000 103:05 87058073                  /usr/lib/x86_64-linux-gnu/libncursesw.so.6.4\n",
      "7db86d923000-7db86d94d000 r-xp 00009000 103:05 87058073                  /usr/lib/x86_64-linux-gnu/libncursesw.so.6.4\n",
      "7db86d94d000-7db86d954000 r--p 00033000 103:05 87058073                  /usr/lib/x86_64-linux-gnu/libncursesw.so.6.4\n",
      "7db86d954000-7db86d955000 r--p 00039000 103:05 87058073                  /usr/lib/x86_64-linux-gnu/libncursesw.so.6.4\n",
      "7db86d955000-7db86d956000 rw-p 0003a000 103:05 87058073                  /usr/lib/x86_64-linux-gnu/libncursesw.so.6.4\n",
      "7db86da56000-7db86da74000 r--p 00000000 103:05 87033804                  /usr/lib/x86_64-linux-gnu/libssl.so.3\n",
      "7db86da74000-7db86dad6000 r-xp 0001e000 103:05 87033804                  /usr/lib/x86_64-linux-gnu/libssl.so.3\n",
      "7db86dad6000-7db86daf2000 r--p 00080000 103:05 87033804                  /usr/lib/x86_64-linux-gnu/libssl.so.3\n",
      "7db86daf2000-7db86dafc000 r--p 0009c000 103:05 87033804                  /usr/lib/x86_64-linux-gnu/libssl.so.3\n",
      "7db86dafc000-7db86db00000 rw-p 000a6000 103:05 87033804                  /usr/lib/x86_64-linux-gnu/libssl.so.3\n",
      "7db86dc00000-7db86dc9d000 r--p 00000000 103:05 87035298                  /usr/lib/x86_64-linux-gnu/libstdc++.so.6.0.33\n",
      "7db86dc9d000-7db86dde5000 r-xp 0009d000 103:05 87035298                  /usr/lib/x86_64-linux-gnu/libstdc++.so.6.0.33\n",
      "7db86dde5000-7db86de6c000 r--p 001e5000 103:05 87035298                  /usr/lib/x86_64-linux-gnu/libstdc++.so.6.0.33\n",
      "7db86de6c000-7db86de77000 r--p 0026b000 103:05 87035298                  /usr/lib/x86_64-linux-gnu/libstdc++.so.6.0.33\n",
      "7db86de77000-7db86de7a000 rw-p 00276000 103:05 87035298                  /usr/lib/x86_64-linux-gnu/libstdc++.so.6.0.33\n",
      "7db86de7f000-7db86de81000 r--p 00000000 103:05 87059452                  /usr/lib/python3.12/lib-dynload/_lsprof.cpython-312-x86_64-linux-gnu.so\n",
      "7db86de81000-7db86de84000 r-xp 00002000 103:05 87059452                  /usr/lib/python3.12/lib-dynload/_lsprof.cpython-312-x86_64-linux-gnu.so\n",
      "7db86de84000-7db86de86000 r--p 00005000 103:05 87059452                  /usr/lib/python3.12/lib-dynload/_lsprof.cpython-312-x86_64-linux-gnu.so\n",
      "7db86de86000-7db86de87000 r--p 00006000 103:05 87059452                  /usr/lib/python3.12/lib-dynload/_lsprof.cpython-312-x86_64-linux-gnu.so\n",
      "7db86de87000-7db86de88000 rw-p 00007000 103:05 87059452                  /usr/lib/python3.12/lib-dynload/_lsprof.cpython-312-x86_64-linux-gnu.so\n",
      "7db86de88000-7db86de8f000 r--p 00000000 103:05 87059546                  /usr/lib/python3.12/lib-dynload/_sqlite3.cpython-312-x86_64-linux-gnu.so\n",
      "7db86de8f000-7db86dea1000 r-xp 00007000 103:05 87059546                  /usr/lib/python3.12/lib-dynload/_sqlite3.cpython-312-x86_64-linux-gnu.so\n",
      "7db86dea1000-7db86dea8000 r--p 00019000 103:05 87059546                  /usr/lib/python3.12/lib-dynload/_sqlite3.cpython-312-x86_64-linux-gnu.so\n",
      "7db86dea8000-7db86dea9000 r--p 00020000 103:05 87059546                  /usr/lib/python3.12/lib-dynload/_sqlite3.cpython-312-x86_64-linux-gnu.so\n",
      "7db86dea9000-7db86deab000 rw-p 00021000 103:05 87059546                  /usr/lib/python3.12/lib-dynload/_sqlite3.cpython-312-x86_64-linux-gnu.so\n",
      "7db86deab000-7db86deae000 r--p 00000000 103:05 87059468                  /usr/lib/python3.12/lib-dynload/_lzma.cpython-312-x86_64-linux-gnu.so\n",
      "7db86deae000-7db86deb3000 r-xp 00003000 103:05 87059468                  /usr/lib/python3.12/lib-dynload/_lzma.cpython-312-x86_64-linux-gnu.so\n",
      "7db86deb3000-7db86deb6000 r--p 00008000 103:05 87059468                  /usr/lib/python3.12/lib-dynload/_lzma.cpython-312-x86_64-linux-gnu.so\n",
      "7db86deb6000-7db86deb7000 r--p 0000a000 103:05 87059468                  /usr/lib/python3.12/lib-dynload/_lzma.cpython-312-x86_64-linux-gnu.so\n",
      "7db86deb7000-7db86deb8000 rw-p 0000b000 103:05 87059468                  /usr/lib/python3.12/lib-dynload/_lzma.cpython-312-x86_64-linux-gnu.so\n",
      "7db86deb8000-7db86debc000 r--p 00000000 103:05 87061004                  /usr/lib/python3.12/lib-dynload/_hashlib.cpython-312-x86_64-linux-gnu.so\n",
      "7db86debc000-7db86dec2000 r-xp 00004000 103:05 87061004                  /usr/lib/python3.12/lib-dynload/_hashlib.cpython-312-x86_64-linux-gnu.so\n",
      "7db86dec2000-7db86dec6000 r--p 0000a000 103:05 87061004                  /usr/lib/python3.12/lib-dynload/_hashlib.cpython-312-x86_64-linux-gnu.so\n",
      "7db86dec6000-7db86dec7000 r--p 0000d000 103:05 87061004                  /usr/lib/python3.12/lib-dynload/_hashlib.cpython-312-x86_64-linux-gnu.so\n",
      "7db86dec7000-7db86dec9000 rw-p 0000e000 103:05 87061004                  /usr/lib/python3.12/lib-dynload/_hashlib.cpython-312-x86_64-linux-gnu.so\n",
      "7db86dec9000-7db86dedc000 r--p 00000000 103:05 87061006                  /usr/lib/python3.12/lib-dynload/_ssl.cpython-312-x86_64-linux-gnu.so\n",
      "7db86dedc000-7db86dee9000 r-xp 00013000 103:05 87061006                  /usr/lib/python3.12/lib-dynload/_ssl.cpython-312-x86_64-linux-gnu.so\n",
      "7db86dee9000-7db86def7000 r--p 00020000 103:05 87061006                  /usr/lib/python3.12/lib-dynload/_ssl.cpython-312-x86_64-linux-gnu.so\n",
      "7db86def7000-7db86def8000 r--p 0002d000 103:05 87061006                  /usr/lib/python3.12/lib-dynload/_ssl.cpython-312-x86_64-linux-gnu.so\n",
      "7db86def8000-7db86df01000 rw-p 0002e000 103:05 87061006                  /usr/lib/python3.12/lib-dynload/_ssl.cpython-312-x86_64-linux-gnu.so\n",
      "7db86df01000-7db86df03000 r--p 00000000 103:05 87059295                  /usr/lib/python3.12/lib-dynload/_bz2.cpython-312-x86_64-linux-gnu.so\n",
      "7db86df03000-7db86df06000 r-xp 00002000 103:05 87059295                  /usr/lib/python3.12/lib-dynload/_bz2.cpython-312-x86_64-linux-gnu.so\n",
      "7db86df06000-7db86df08000 r--p 00005000 103:05 87059295                  /usr/lib/python3.12/lib-dynload/_bz2.cpython-312-x86_64-linux-gnu.so\n",
      "7db86df08000-7db86df09000 r--p 00006000 103:05 87059295                  /usr/lib/python3.12/lib-dynload/_bz2.cpython-312-x86_64-linux-gnu.so\n",
      "7db86df09000-7db86df0a000 rw-p 00007000 103:05 87059295                  /usr/lib/python3.12/lib-dynload/_bz2.cpython-312-x86_64-linux-gnu.so\n",
      "7db86df0a000-7db86df0d000 r--p 00000000 103:05 87059810                  /usr/lib/python3.12/lib-dynload/termios.cpython-312-x86_64-linux-gnu.so\n",
      "7db86df0d000-7db86df0f000 r-xp 00003000 103:05 87059810                  /usr/lib/python3.12/lib-dynload/termios.cpython-312-x86_64-linux-gnu.so\n",
      "7db86df0f000-7db86df11000 r--p 00005000 103:05 87059810                  /usr/lib/python3.12/lib-dynload/termios.cpython-312-x86_64-linux-gnu.so\n",
      "7db86df11000-7db86df12000 r--p 00006000 103:05 87059810                  /usr/lib/python3.12/lib-dynload/termios.cpython-312-x86_64-linux-gnu.so\n",
      "7db86df12000-7db86df14000 rw-p 00007000 103:05 87059810                  /usr/lib/python3.12/lib-dynload/termios.cpython-312-x86_64-linux-gnu.so\n",
      "7db86df14000-7db86df1b000 r--p 00000000 103:05 87059368                  /usr/lib/python3.12/lib-dynload/_curses.cpython-312-x86_64-linux-gnu.so\n",
      "7db86df1b000-7db86df26000 r-xp 00007000 103:05 87059368                  /usr/lib/python3.12/lib-dynload/_curses.cpython-312-x86_64-linux-gnu.so\n",
      "7db86df26000-7db86df31000 r--p 00012000 103:05 87059368                  /usr/lib/python3.12/lib-dynload/_curses.cpython-312-x86_64-linux-gnu.so\n",
      "7db86df31000-7db86df32000 r--p 0001c000 103:05 87059368                  /usr/lib/python3.12/lib-dynload/_curses.cpython-312-x86_64-linux-gnu.so\n",
      "7db86df32000-7db86df34000 rw-p 0001d000 103:05 87059368                  /usr/lib/python3.12/lib-dynload/_curses.cpython-312-x86_64-linux-gnu.so\n",
      "7db86df34000-7db86df38000 r--p 00000000 103:05 87035534                  /usr/lib/x86_64-linux-gnu/libgcc_s.so.1\n",
      "7db86df38000-7db86df5c000 r-xp 00004000 103:05 87035534                  /usr/lib/x86_64-linux-gnu/libgcc_s.so.1\n",
      "7db86df5c000-7db86df60000 r--p 00028000 103:05 87035534                  /usr/lib/x86_64-linux-gnu/libgcc_s.so.1\n",
      "7db86df60000-7db86df61000 r--p 0002b000 103:05 87035534                  /usr/lib/x86_64-linux-gnu/libgcc_s.so.1\n",
      "7db86df61000-7db86df62000 rw-p 0002c000 103:05 87035534                  /usr/lib/x86_64-linux-gnu/libgcc_s.so.1\n",
      "7db86df62000-7db86df63000 r--p 00000000 103:05 87057241                  /usr/lib/x86_64-linux-gnu/librt.so.1\n",
      "7db86df63000-7db86df64000 r-xp 00001000 103:05 87057241                  /usr/lib/x86_64-linux-gnu/librt.so.1\n",
      "7db86df64000-7db86df65000 r--p 00002000 103:05 87057241                  /usr/lib/x86_64-linux-gnu/librt.so.1\n",
      "7db86df65000-7db86df66000 r--p 00002000 103:05 87057241                  /usr/lib/x86_64-linux-gnu/librt.so.1\n",
      "7db86df66000-7db86df67000 rw-p 00003000 103:05 87057241                  /usr/lib/x86_64-linux-gnu/librt.so.1\n",
      "7db86df67000-7db86df74000 r--p 00000000 103:05 60165874                  /home/philip/philzook58.github.io/.venv/lib/python3.12/site-packages/pyzmq.libs/libsodium-14725a37.so.26.2.0\n",
      "7db86df74000-7db86e06a000 r-xp 0000d000 103:05 60165874                  /home/philip/philzook58.github.io/.venv/lib/python3.12/site-packages/pyzmq.libs/libsodium-14725a37.so.26.2.0\n",
      "7db86e06a000-7db86e07f000 r--p 00103000 103:05 60165874                  /home/philip/philzook58.github.io/.venv/lib/python3.12/site-packages/pyzmq.libs/libsodium-14725a37.so.26.2.0\n",
      "7db86e07f000-7db86e080000 r--p 00118000 103:05 60165874                  /home/philip/philzook58.github.io/.venv/lib/python3.12/site-packages/pyzmq.libs/libsodium-14725a37.so.26.2.0\n",
      "7db86e080000-7db86e081000 rw-p 00119000 103:05 60165874                  /home/philip/philzook58.github.io/.venv/lib/python3.12/site-packages/pyzmq.libs/libsodium-14725a37.so.26.2.0\n",
      "7db86e081000-7db86e08e000 rw-p 0011b000 103:05 60165874                  /home/philip/philzook58.github.io/.venv/lib/python3.12/site-packages/pyzmq.libs/libsodium-14725a37.so.26.2.0\n",
      "7db86e08e000-7db86e08f000 r--p 00000000 103:05 87057239                  /usr/lib/x86_64-linux-gnu/libpthread.so.0\n",
      "7db86e08f000-7db86e090000 r-xp 00001000 103:05 87057239                  /usr/lib/x86_64-linux-gnu/libpthread.so.0\n",
      "7db86e090000-7db86e091000 r--p 00002000 103:05 87057239                  /usr/lib/x86_64-linux-gnu/libpthread.so.0\n",
      "7db86e091000-7db86e092000 r--p 00002000 103:05 87057239                  /usr/lib/x86_64-linux-gnu/libpthread.so.0\n",
      "7db86e092000-7db86e093000 rw-p 00003000 103:05 87057239                  /usr/lib/x86_64-linux-gnu/libpthread.so.0\n",
      "7db86e095000-7db86e096000 r--p 00000000 103:05 53101485                  /home/philip/philzook58.github.io/.venv/lib/python3.12/site-packages/tornado/speedups.abi3.so\n",
      "7db86e096000-7db86e097000 r-xp 00001000 103:05 53101485                  /home/philip/philzook58.github.io/.venv/lib/python3.12/site-packages/tornado/speedups.abi3.so\n",
      "7db86e097000-7db86e098000 r--p 00002000 103:05 53101485                  /home/philip/philzook58.github.io/.venv/lib/python3.12/site-packages/tornado/speedups.abi3.so\n",
      "7db86e098000-7db86e099000 r--p 00002000 103:05 53101485                  /home/philip/philzook58.github.io/.venv/lib/python3.12/site-packages/tornado/speedups.abi3.so\n",
      "7db86e099000-7db86e09a000 rw-p 00003000 103:05 53101485                  /home/philip/philzook58.github.io/.venv/lib/python3.12/site-packages/tornado/speedups.abi3.so\n",
      "7db86e09a000-7db86e09c000 r--p 00000000 103:05 87059530                  /usr/lib/python3.12/lib-dynload/_queue.cpython-312-x86_64-linux-gnu.so\n",
      "7db86e09c000-7db86e09e000 r-xp 00002000 103:05 87059530                  /usr/lib/python3.12/lib-dynload/_queue.cpython-312-x86_64-linux-gnu.so\n",
      "7db86e09e000-7db86e09f000 r--p 00004000 103:05 87059530                  /usr/lib/python3.12/lib-dynload/_queue.cpython-312-x86_64-linux-gnu.so\n",
      "7db86e09f000-7db86e0a0000 r--p 00004000 103:05 87059530                  /usr/lib/python3.12/lib-dynload/_queue.cpython-312-x86_64-linux-gnu.so\n",
      "7db86e0a0000-7db86e0a1000 rw-p 00005000 103:05 87059530                  /usr/lib/python3.12/lib-dynload/_queue.cpython-312-x86_64-linux-gnu.so\n",
      "7db86e0a1000-7db86e0a5000 r--p 00000000 103:05 87059291                  /usr/lib/python3.12/lib-dynload/_asyncio.cpython-312-x86_64-linux-gnu.so\n",
      "7db86e0a5000-7db86e0ae000 r-xp 00004000 103:05 87059291                  /usr/lib/python3.12/lib-dynload/_asyncio.cpython-312-x86_64-linux-gnu.so\n",
      "7db86e0ae000-7db86e0b3000 r--p 0000d000 103:05 87059291                  /usr/lib/python3.12/lib-dynload/_asyncio.cpython-312-x86_64-linux-gnu.so\n",
      "7db86e0b3000-7db86e0b4000 r--p 00011000 103:05 87059291                  /usr/lib/python3.12/lib-dynload/_asyncio.cpython-312-x86_64-linux-gnu.so\n",
      "7db86e0b4000-7db86e0b6000 rw-p 00012000 103:05 87059291                  /usr/lib/python3.12/lib-dynload/_asyncio.cpython-312-x86_64-linux-gnu.so\n",
      "7db86e0b6000-7db86e0b7000 r--p 00000000 103:05 87059323                  /usr/lib/python3.12/lib-dynload/_contextvars.cpython-312-x86_64-linux-gnu.so\n",
      "7db86e0b7000-7db86e0b8000 r-xp 00001000 103:05 87059323                  /usr/lib/python3.12/lib-dynload/_contextvars.cpython-312-x86_64-linux-gnu.so\n",
      "7db86e0b8000-7db86e0b9000 r--p 00002000 103:05 87059323                  /usr/lib/python3.12/lib-dynload/_contextvars.cpython-312-x86_64-linux-gnu.so\n",
      "7db86e0b9000-7db86e0ba000 r--p 00002000 103:05 87059323                  /usr/lib/python3.12/lib-dynload/_contextvars.cpython-312-x86_64-linux-gnu.so\n",
      "7db86e0ba000-7db86e0bb000 rw-p 00003000 103:05 87059323                  /usr/lib/python3.12/lib-dynload/_contextvars.cpython-312-x86_64-linux-gnu.so\n",
      "7db86e0bb000-7db86e0d3000 r--p 00000000 103:05 60166449                  /home/philip/philzook58.github.io/.venv/lib/python3.12/site-packages/pyzmq.libs/libzmq-56587b1b.so.5.2.5\n",
      "7db86e0d3000-7db86e15d000 r-xp 00018000 103:05 60166449                  /home/philip/philzook58.github.io/.venv/lib/python3.12/site-packages/pyzmq.libs/libzmq-56587b1b.so.5.2.5\n",
      "7db86e15d000-7db86e192000 r--p 000a2000 103:05 60166449                  /home/philip/philzook58.github.io/.venv/lib/python3.12/site-packages/pyzmq.libs/libzmq-56587b1b.so.5.2.5\n",
      "7db86e192000-7db86e199000 r--p 000d7000 103:05 60166449                  /home/philip/philzook58.github.io/.venv/lib/python3.12/site-packages/pyzmq.libs/libzmq-56587b1b.so.5.2.5\n",
      "7db86e199000-7db86e19a000 rw-p 000de000 103:05 60166449                  /home/philip/philzook58.github.io/.venv/lib/python3.12/site-packages/pyzmq.libs/libzmq-56587b1b.so.5.2.5\n",
      "7db86e19a000-7db86e1a3000 rw-p 000e0000 103:05 60166449                  /home/philip/philzook58.github.io/.venv/lib/python3.12/site-packages/pyzmq.libs/libzmq-56587b1b.so.5.2.5\n",
      "7db86e1a3000-7db86e1ab000 r--p 00000000 103:05 60166638                  /home/philip/philzook58.github.io/.venv/lib/python3.12/site-packages/zmq/backend/cython/_zmq.cpython-312-x86_64-linux-gnu.so\n",
      "7db86e1ab000-7db86e1db000 r-xp 00008000 103:05 60166638                  /home/philip/philzook58.github.io/.venv/lib/python3.12/site-packages/zmq/backend/cython/_zmq.cpython-312-x86_64-linux-gnu.so\n",
      "7db86e1db000-7db86e1e6000 r--p 00038000 103:05 60166638                  /home/philip/philzook58.github.io/.venv/lib/python3.12/site-packages/zmq/backend/cython/_zmq.cpython-312-x86_64-linux-gnu.so\n",
      "7db86e1e6000-7db86e1e7000 r--p 00042000 103:05 60166638                  /home/philip/philzook58.github.io/.venv/lib/python3.12/site-packages/zmq/backend/cython/_zmq.cpython-312-x86_64-linux-gnu.so\n",
      "7db86e1e7000-7db86e1e9000 rw-p 00043000 103:05 60166638                  /home/philip/philzook58.github.io/.venv/lib/python3.12/site-packages/zmq/backend/cython/_zmq.cpython-312-x86_64-linux-gnu.so\n",
      "7db86e1ea000-7db86e1ef000 rw-p 00046000 103:05 60166638                  /home/philip/philzook58.github.io/.venv/lib/python3.12/site-packages/zmq/backend/cython/_zmq.cpython-312-x86_64-linux-gnu.so\n",
      "7db86e2ef000-7db86e2f1000 r--p 00000000 103:05 87059437                  /usr/lib/python3.12/lib-dynload/_json.cpython-312-x86_64-linux-gnu.so\n",
      "7db86e2f1000-7db86e2f8000 r-xp 00002000 103:05 87059437                  /usr/lib/python3.12/lib-dynload/_json.cpython-312-x86_64-linux-gnu.so\n",
      "7db86e2f8000-7db86e2fa000 r--p 00009000 103:05 87059437                  /usr/lib/python3.12/lib-dynload/_json.cpython-312-x86_64-linux-gnu.so\n",
      "7db86e2fa000-7db86e2fb000 r--p 0000a000 103:05 87059437                  /usr/lib/python3.12/lib-dynload/_json.cpython-312-x86_64-linux-gnu.so\n",
      "7db86e2fb000-7db86e2fc000 rw-p 0000b000 103:05 87059437                  /usr/lib/python3.12/lib-dynload/_json.cpython-312-x86_64-linux-gnu.so\n",
      "7db86e600000-7db86e628000 r--p 00000000 103:05 87057224                  /usr/lib/x86_64-linux-gnu/libc.so.6\n",
      "7db86e628000-7db86e7b0000 r-xp 00028000 103:05 87057224                  /usr/lib/x86_64-linux-gnu/libc.so.6\n",
      "7db86e7b0000-7db86e7ff000 r--p 001b0000 103:05 87057224                  /usr/lib/x86_64-linux-gnu/libc.so.6\n",
      "7db86e7ff000-7db86e803000 r--p 001fe000 103:05 87057224                  /usr/lib/x86_64-linux-gnu/libc.so.6\n",
      "7db86e803000-7db86e805000 rw-p 00202000 103:05 87057224                  /usr/lib/x86_64-linux-gnu/libc.so.6\n",
      "7db86e8a9000-7db86e8ad000 r--p 00000000 103:05 87040599                  /usr/lib/x86_64-linux-gnu/libexpat.so.1.9.1\n",
      "7db86e8ad000-7db86e8ca000 r-xp 00004000 103:05 87040599                  /usr/lib/x86_64-linux-gnu/libexpat.so.1.9.1\n",
      "7db86e8ca000-7db86e8d2000 r--p 00021000 103:05 87040599                  /usr/lib/x86_64-linux-gnu/libexpat.so.1.9.1\n",
      "7db86e8d2000-7db86e8d4000 r--p 00028000 103:05 87040599                  /usr/lib/x86_64-linux-gnu/libexpat.so.1.9.1\n",
      "7db86e8d4000-7db86e8d5000 rw-p 0002a000 103:05 87040599                  /usr/lib/x86_64-linux-gnu/libexpat.so.1.9.1\n",
      "7db86e8d5000-7db86e8d7000 r--p 00000000 103:05 87037565                  /usr/lib/x86_64-linux-gnu/libz.so.1.3\n",
      "7db86e8d7000-7db86e8e9000 r-xp 00002000 103:05 87037565                  /usr/lib/x86_64-linux-gnu/libz.so.1.3\n",
      "7db86e8e9000-7db86e8ef000 r--p 00014000 103:05 87037565                  /usr/lib/x86_64-linux-gnu/libz.so.1.3\n",
      "7db86e8ef000-7db86e8f0000 r--p 0001a000 103:05 87037565                  /usr/lib/x86_64-linux-gnu/libz.so.1.3\n",
      "7db86e8f0000-7db86e8f1000 rw-p 0001b000 103:05 87037565                  /usr/lib/x86_64-linux-gnu/libz.so.1.3\n",
      "7db86e8f1000-7db86e901000 r--p 00000000 103:05 87057228                  /usr/lib/x86_64-linux-gnu/libm.so.6\n",
      "7db86e901000-7db86e980000 r-xp 00010000 103:05 87057228                  /usr/lib/x86_64-linux-gnu/libm.so.6\n",
      "7db86e980000-7db86e9d8000 r--p 0008f000 103:05 87057228                  /usr/lib/x86_64-linux-gnu/libm.so.6\n",
      "7db86e9d8000-7db86e9d9000 r--p 000e7000 103:05 87057228                  /usr/lib/x86_64-linux-gnu/libm.so.6\n",
      "7db86e9d9000-7db86e9da000 rw-p 000e8000 103:05 87057228                  /usr/lib/x86_64-linux-gnu/libm.so.6\n",
      "7db86ea0a000-7db86ea0b000 r--p 00000000 103:05 87057221                  /usr/lib/x86_64-linux-gnu/ld-linux-x86-64.so.2\n",
      "7db86ea0b000-7db86ea36000 r-xp 00001000 103:05 87057221                  /usr/lib/x86_64-linux-gnu/ld-linux-x86-64.so.2\n",
      "7db86ea36000-7db86ea40000 r--p 0002c000 103:05 87057221                  /usr/lib/x86_64-linux-gnu/ld-linux-x86-64.so.2\n",
      "7db86ea40000-7db86ea42000 r--p 00036000 103:05 87057221                  /usr/lib/x86_64-linux-gnu/ld-linux-x86-64.so.2\n",
      "7db86ea42000-7db86ea44000 rw-p 00038000 103:05 87057221                  /usr/lib/x86_64-linux-gnu/ld-linux-x86-64.so.2\n"
     ]
    }
   ],
   "source": [
    "with open(\"/proc/self/maps\") as f:\n",
    "    for line in f:\n",
    "        if \".so\" in line:\n",
    "            print(line.strip())\n"
   ]
  },
  {
   "cell_type": "code",
   "execution_count": null,
   "id": "d13da5ef",
   "metadata": {},
   "outputs": [],
   "source": []
  },
  {
   "cell_type": "code",
   "execution_count": null,
   "id": "31fc8742",
   "metadata": {},
   "outputs": [
    {
     "ename": "CDefError",
     "evalue": "cannot parse \"typedef lean_object;\"\n<cdef source string>:1:9: Missing type in declaration",
     "output_type": "error",
     "traceback": [
      "\u001b[31m---------------------------------------------------------------------------\u001b[39m",
      "\u001b[31mParseError\u001b[39m                                Traceback (most recent call last)",
      "\u001b[36mFile \u001b[39m\u001b[32m~/philzook58.github.io/.venv/lib/python3.12/site-packages/cffi/cparser.py:337\u001b[39m, in \u001b[36mParser._parse\u001b[39m\u001b[34m(self, csource)\u001b[39m\n\u001b[32m    336\u001b[39m \u001b[38;5;28;01mtry\u001b[39;00m:\n\u001b[32m--> \u001b[39m\u001b[32m337\u001b[39m     ast = \u001b[43m_get_parser\u001b[49m\u001b[43m(\u001b[49m\u001b[43m)\u001b[49m\u001b[43m.\u001b[49m\u001b[43mparse\u001b[49m\u001b[43m(\u001b[49m\u001b[43mfullcsource\u001b[49m\u001b[43m)\u001b[49m\n\u001b[32m    338\u001b[39m \u001b[38;5;28;01mexcept\u001b[39;00m pycparser.c_parser.ParseError \u001b[38;5;28;01mas\u001b[39;00m e:\n",
      "\u001b[36mFile \u001b[39m\u001b[32m~/philzook58.github.io/.venv/lib/python3.12/site-packages/pycparser/c_parser.py:147\u001b[39m, in \u001b[36mCParser.parse\u001b[39m\u001b[34m(self, text, filename, debug)\u001b[39m\n\u001b[32m    146\u001b[39m \u001b[38;5;28mself\u001b[39m._last_yielded_token = \u001b[38;5;28;01mNone\u001b[39;00m\n\u001b[32m--> \u001b[39m\u001b[32m147\u001b[39m \u001b[38;5;28;01mreturn\u001b[39;00m \u001b[38;5;28;43mself\u001b[39;49m\u001b[43m.\u001b[49m\u001b[43mcparser\u001b[49m\u001b[43m.\u001b[49m\u001b[43mparse\u001b[49m\u001b[43m(\u001b[49m\n\u001b[32m    148\u001b[39m \u001b[43m        \u001b[49m\u001b[38;5;28;43minput\u001b[39;49m\u001b[43m=\u001b[49m\u001b[43mtext\u001b[49m\u001b[43m,\u001b[49m\n\u001b[32m    149\u001b[39m \u001b[43m        \u001b[49m\u001b[43mlexer\u001b[49m\u001b[43m=\u001b[49m\u001b[38;5;28;43mself\u001b[39;49m\u001b[43m.\u001b[49m\u001b[43mclex\u001b[49m\u001b[43m,\u001b[49m\n\u001b[32m    150\u001b[39m \u001b[43m        \u001b[49m\u001b[43mdebug\u001b[49m\u001b[43m=\u001b[49m\u001b[43mdebug\u001b[49m\u001b[43m)\u001b[49m\n",
      "\u001b[36mFile \u001b[39m\u001b[32m~/philzook58.github.io/.venv/lib/python3.12/site-packages/pycparser/ply/yacc.py:331\u001b[39m, in \u001b[36mLRParser.parse\u001b[39m\u001b[34m(self, input, lexer, debug, tracking, tokenfunc)\u001b[39m\n\u001b[32m    330\u001b[39m \u001b[38;5;28;01melse\u001b[39;00m:\n\u001b[32m--> \u001b[39m\u001b[32m331\u001b[39m     \u001b[38;5;28;01mreturn\u001b[39;00m \u001b[38;5;28;43mself\u001b[39;49m\u001b[43m.\u001b[49m\u001b[43mparseopt_notrack\u001b[49m\u001b[43m(\u001b[49m\u001b[38;5;28;43minput\u001b[39;49m\u001b[43m,\u001b[49m\u001b[43m \u001b[49m\u001b[43mlexer\u001b[49m\u001b[43m,\u001b[49m\u001b[43m \u001b[49m\u001b[43mdebug\u001b[49m\u001b[43m,\u001b[49m\u001b[43m \u001b[49m\u001b[43mtracking\u001b[49m\u001b[43m,\u001b[49m\u001b[43m \u001b[49m\u001b[43mtokenfunc\u001b[49m\u001b[43m)\u001b[49m\n",
      "\u001b[36mFile \u001b[39m\u001b[32m~/philzook58.github.io/.venv/lib/python3.12/site-packages/pycparser/ply/yacc.py:1118\u001b[39m, in \u001b[36mLRParser.parseopt_notrack\u001b[39m\u001b[34m(self, input, lexer, debug, tracking, tokenfunc)\u001b[39m\n\u001b[32m   1117\u001b[39m \u001b[38;5;28mself\u001b[39m.state = state\n\u001b[32m-> \u001b[39m\u001b[32m1118\u001b[39m \u001b[43mp\u001b[49m\u001b[43m.\u001b[49m\u001b[43mcallable\u001b[49m\u001b[43m(\u001b[49m\u001b[43mpslice\u001b[49m\u001b[43m)\u001b[49m\n\u001b[32m   1119\u001b[39m \u001b[38;5;28;01mdel\u001b[39;00m statestack[-plen:]\n",
      "\u001b[36mFile \u001b[39m\u001b[32m~/philzook58.github.io/.venv/lib/python3.12/site-packages/pycparser/c_parser.py:746\u001b[39m, in \u001b[36mCParser.p_decl_body\u001b[39m\u001b[34m(self, p)\u001b[39m\n\u001b[32m    745\u001b[39m \u001b[38;5;28;01melse\u001b[39;00m:\n\u001b[32m--> \u001b[39m\u001b[32m746\u001b[39m     decls = \u001b[38;5;28;43mself\u001b[39;49m\u001b[43m.\u001b[49m\u001b[43m_build_declarations\u001b[49m\u001b[43m(\u001b[49m\n\u001b[32m    747\u001b[39m \u001b[43m        \u001b[49m\u001b[43mspec\u001b[49m\u001b[43m=\u001b[49m\u001b[43mspec\u001b[49m\u001b[43m,\u001b[49m\n\u001b[32m    748\u001b[39m \u001b[43m        \u001b[49m\u001b[43mdecls\u001b[49m\u001b[43m=\u001b[49m\u001b[43mp\u001b[49m\u001b[43m[\u001b[49m\u001b[32;43m2\u001b[39;49m\u001b[43m]\u001b[49m\u001b[43m,\u001b[49m\n\u001b[32m    749\u001b[39m \u001b[43m        \u001b[49m\u001b[43mtypedef_namespace\u001b[49m\u001b[43m=\u001b[49m\u001b[38;5;28;43;01mTrue\u001b[39;49;00m\u001b[43m)\u001b[49m\n\u001b[32m    751\u001b[39m p[\u001b[32m0\u001b[39m] = decls\n",
      "\u001b[36mFile \u001b[39m\u001b[32m~/philzook58.github.io/.venv/lib/python3.12/site-packages/pycparser/c_parser.py:442\u001b[39m, in \u001b[36mCParser._build_declarations\u001b[39m\u001b[34m(self, spec, decls, typedef_namespace)\u001b[39m\n\u001b[32m    441\u001b[39m \u001b[38;5;28;01melse\u001b[39;00m:\n\u001b[32m--> \u001b[39m\u001b[32m442\u001b[39m     fixed_decl = \u001b[38;5;28;43mself\u001b[39;49m\u001b[43m.\u001b[49m\u001b[43m_fix_decl_name_type\u001b[49m\u001b[43m(\u001b[49m\u001b[43mdeclaration\u001b[49m\u001b[43m,\u001b[49m\u001b[43m \u001b[49m\u001b[43mspec\u001b[49m\u001b[43m[\u001b[49m\u001b[33;43m'\u001b[39;49m\u001b[33;43mtype\u001b[39;49m\u001b[33;43m'\u001b[39;49m\u001b[43m]\u001b[49m\u001b[43m)\u001b[49m\n\u001b[32m    444\u001b[39m \u001b[38;5;66;03m# Add the type name defined by typedef to a\u001b[39;00m\n\u001b[32m    445\u001b[39m \u001b[38;5;66;03m# symbol table (for usage in the lexer)\u001b[39;00m\n",
      "\u001b[36mFile \u001b[39m\u001b[32m~/philzook58.github.io/.venv/lib/python3.12/site-packages/pycparser/c_parser.py:329\u001b[39m, in \u001b[36mCParser._fix_decl_name_type\u001b[39m\u001b[34m(self, decl, typename)\u001b[39m\n\u001b[32m    328\u001b[39m \u001b[38;5;28;01mif\u001b[39;00m \u001b[38;5;129;01mnot\u001b[39;00m \u001b[38;5;28misinstance\u001b[39m(decl.type, c_ast.FuncDecl):\n\u001b[32m--> \u001b[39m\u001b[32m329\u001b[39m     \u001b[38;5;28;43mself\u001b[39;49m\u001b[43m.\u001b[49m\u001b[43m_parse_error\u001b[49m\u001b[43m(\u001b[49m\n\u001b[32m    330\u001b[39m \u001b[43m            \u001b[49m\u001b[33;43m\"\u001b[39;49m\u001b[33;43mMissing type in declaration\u001b[39;49m\u001b[33;43m\"\u001b[39;49m\u001b[43m,\u001b[49m\u001b[43m \u001b[49m\u001b[43mdecl\u001b[49m\u001b[43m.\u001b[49m\u001b[43mcoord\u001b[49m\u001b[43m)\u001b[49m\n\u001b[32m    331\u001b[39m \u001b[38;5;28mtype\u001b[39m.type = c_ast.IdentifierType(\n\u001b[32m    332\u001b[39m         [\u001b[33m'\u001b[39m\u001b[33mint\u001b[39m\u001b[33m'\u001b[39m],\n\u001b[32m    333\u001b[39m         coord=decl.coord)\n",
      "\u001b[36mFile \u001b[39m\u001b[32m~/philzook58.github.io/.venv/lib/python3.12/site-packages/pycparser/plyparser.py:67\u001b[39m, in \u001b[36mPLYParser._parse_error\u001b[39m\u001b[34m(self, msg, coord)\u001b[39m\n\u001b[32m     66\u001b[39m \u001b[38;5;28;01mdef\u001b[39;00m\u001b[38;5;250m \u001b[39m\u001b[34m_parse_error\u001b[39m(\u001b[38;5;28mself\u001b[39m, msg, coord):\n\u001b[32m---> \u001b[39m\u001b[32m67\u001b[39m     \u001b[38;5;28;01mraise\u001b[39;00m ParseError(\u001b[33m\"\u001b[39m\u001b[38;5;132;01m%s\u001b[39;00m\u001b[33m: \u001b[39m\u001b[38;5;132;01m%s\u001b[39;00m\u001b[33m\"\u001b[39m % (coord, msg))\n",
      "\u001b[31mParseError\u001b[39m: <cdef source string>:1:9: Missing type in declaration",
      "\nDuring handling of the above exception, another exception occurred:\n",
      "\u001b[31mCDefError\u001b[39m                                 Traceback (most recent call last)",
      "\u001b[36mCell\u001b[39m\u001b[36m \u001b[39m\u001b[32mIn[93]\u001b[39m\u001b[32m, line 4\u001b[39m\n\u001b[32m      1\u001b[39m \u001b[38;5;28;01mimport\u001b[39;00m\u001b[38;5;250m \u001b[39m\u001b[34;01mcffi\u001b[39;00m\n\u001b[32m      3\u001b[39m ffi = cffi.FFI()\n\u001b[32m----> \u001b[39m\u001b[32m4\u001b[39m \u001b[43mffi\u001b[49m\u001b[43m.\u001b[49m\u001b[43mcdef\u001b[49m\u001b[43m(\u001b[49m\u001b[33;43m\"\u001b[39;49m\u001b[33;43mtypedef lean_object;\u001b[39;49m\u001b[33;43m\"\u001b[39;49m\u001b[43m)\u001b[49m\n\u001b[32m      5\u001b[39m ffi.cdef(\u001b[33m\"\u001b[39m\u001b[33muint64_t my_length(lean_object);\u001b[39m\u001b[33m\"\u001b[39m)\n\u001b[32m      6\u001b[39m ffi.cdef(\u001b[33m\"\u001b[39m\u001b[33mvoid lean_initialize_runtime_module();\u001b[39m\u001b[33m\"\u001b[39m)\n",
      "\u001b[36mFile \u001b[39m\u001b[32m~/philzook58.github.io/.venv/lib/python3.12/site-packages/cffi/api.py:112\u001b[39m, in \u001b[36mFFI.cdef\u001b[39m\u001b[34m(self, csource, override, packed, pack)\u001b[39m\n\u001b[32m    101\u001b[39m \u001b[38;5;28;01mdef\u001b[39;00m\u001b[38;5;250m \u001b[39m\u001b[34mcdef\u001b[39m(\u001b[38;5;28mself\u001b[39m, csource, override=\u001b[38;5;28;01mFalse\u001b[39;00m, packed=\u001b[38;5;28;01mFalse\u001b[39;00m, pack=\u001b[38;5;28;01mNone\u001b[39;00m):\n\u001b[32m    102\u001b[39m \u001b[38;5;250m    \u001b[39m\u001b[33;03m\"\"\"Parse the given C source.  This registers all declared functions,\u001b[39;00m\n\u001b[32m    103\u001b[39m \u001b[33;03m    types, and global variables.  The functions and global variables can\u001b[39;00m\n\u001b[32m    104\u001b[39m \u001b[33;03m    then be accessed via either 'ffi.dlopen()' or 'ffi.verify()'.\u001b[39;00m\n\u001b[32m   (...)\u001b[39m\u001b[32m    110\u001b[39m \u001b[33;03m    packed=True).\u001b[39;00m\n\u001b[32m    111\u001b[39m \u001b[33;03m    \"\"\"\u001b[39;00m\n\u001b[32m--> \u001b[39m\u001b[32m112\u001b[39m     \u001b[38;5;28;43mself\u001b[39;49m\u001b[43m.\u001b[49m\u001b[43m_cdef\u001b[49m\u001b[43m(\u001b[49m\u001b[43mcsource\u001b[49m\u001b[43m,\u001b[49m\u001b[43m \u001b[49m\u001b[43moverride\u001b[49m\u001b[43m=\u001b[49m\u001b[43moverride\u001b[49m\u001b[43m,\u001b[49m\u001b[43m \u001b[49m\u001b[43mpacked\u001b[49m\u001b[43m=\u001b[49m\u001b[43mpacked\u001b[49m\u001b[43m,\u001b[49m\u001b[43m \u001b[49m\u001b[43mpack\u001b[49m\u001b[43m=\u001b[49m\u001b[43mpack\u001b[49m\u001b[43m)\u001b[49m\n",
      "\u001b[36mFile \u001b[39m\u001b[32m~/philzook58.github.io/.venv/lib/python3.12/site-packages/cffi/api.py:126\u001b[39m, in \u001b[36mFFI._cdef\u001b[39m\u001b[34m(self, csource, override, **options)\u001b[39m\n\u001b[32m    124\u001b[39m \u001b[38;5;28;01mwith\u001b[39;00m \u001b[38;5;28mself\u001b[39m._lock:\n\u001b[32m    125\u001b[39m     \u001b[38;5;28mself\u001b[39m._cdef_version = \u001b[38;5;28mobject\u001b[39m()\n\u001b[32m--> \u001b[39m\u001b[32m126\u001b[39m     \u001b[38;5;28;43mself\u001b[39;49m\u001b[43m.\u001b[49m\u001b[43m_parser\u001b[49m\u001b[43m.\u001b[49m\u001b[43mparse\u001b[49m\u001b[43m(\u001b[49m\u001b[43mcsource\u001b[49m\u001b[43m,\u001b[49m\u001b[43m \u001b[49m\u001b[43moverride\u001b[49m\u001b[43m=\u001b[49m\u001b[43moverride\u001b[49m\u001b[43m,\u001b[49m\u001b[43m \u001b[49m\u001b[43m*\u001b[49m\u001b[43m*\u001b[49m\u001b[43moptions\u001b[49m\u001b[43m)\u001b[49m\n\u001b[32m    127\u001b[39m     \u001b[38;5;28mself\u001b[39m._cdefsources.append(csource)\n\u001b[32m    128\u001b[39m     \u001b[38;5;28;01mif\u001b[39;00m override:\n",
      "\u001b[36mFile \u001b[39m\u001b[32m~/philzook58.github.io/.venv/lib/python3.12/site-packages/cffi/cparser.py:390\u001b[39m, in \u001b[36mParser.parse\u001b[39m\u001b[34m(self, csource, override, packed, pack, dllexport)\u001b[39m\n\u001b[32m    386\u001b[39m \u001b[38;5;28;01mtry\u001b[39;00m:\n\u001b[32m    387\u001b[39m     \u001b[38;5;28mself\u001b[39m._options = {\u001b[33m'\u001b[39m\u001b[33moverride\u001b[39m\u001b[33m'\u001b[39m: override,\n\u001b[32m    388\u001b[39m                      \u001b[33m'\u001b[39m\u001b[33mpacked\u001b[39m\u001b[33m'\u001b[39m: pack,\n\u001b[32m    389\u001b[39m                      \u001b[33m'\u001b[39m\u001b[33mdllexport\u001b[39m\u001b[33m'\u001b[39m: dllexport}\n\u001b[32m--> \u001b[39m\u001b[32m390\u001b[39m     \u001b[38;5;28;43mself\u001b[39;49m\u001b[43m.\u001b[49m\u001b[43m_internal_parse\u001b[49m\u001b[43m(\u001b[49m\u001b[43mcsource\u001b[49m\u001b[43m)\u001b[49m\n\u001b[32m    391\u001b[39m \u001b[38;5;28;01mfinally\u001b[39;00m:\n\u001b[32m    392\u001b[39m     \u001b[38;5;28mself\u001b[39m._options = prev_options\n",
      "\u001b[36mFile \u001b[39m\u001b[32m~/philzook58.github.io/.venv/lib/python3.12/site-packages/cffi/cparser.py:395\u001b[39m, in \u001b[36mParser._internal_parse\u001b[39m\u001b[34m(self, csource)\u001b[39m\n\u001b[32m    394\u001b[39m \u001b[38;5;28;01mdef\u001b[39;00m\u001b[38;5;250m \u001b[39m\u001b[34m_internal_parse\u001b[39m(\u001b[38;5;28mself\u001b[39m, csource):\n\u001b[32m--> \u001b[39m\u001b[32m395\u001b[39m     ast, macros, csource = \u001b[38;5;28;43mself\u001b[39;49m\u001b[43m.\u001b[49m\u001b[43m_parse\u001b[49m\u001b[43m(\u001b[49m\u001b[43mcsource\u001b[49m\u001b[43m)\u001b[49m\n\u001b[32m    396\u001b[39m     \u001b[38;5;66;03m# add the macros\u001b[39;00m\n\u001b[32m    397\u001b[39m     \u001b[38;5;28mself\u001b[39m._process_macros(macros)\n",
      "\u001b[36mFile \u001b[39m\u001b[32m~/philzook58.github.io/.venv/lib/python3.12/site-packages/cffi/cparser.py:339\u001b[39m, in \u001b[36mParser._parse\u001b[39m\u001b[34m(self, csource)\u001b[39m\n\u001b[32m    337\u001b[39m     ast = _get_parser().parse(fullcsource)\n\u001b[32m    338\u001b[39m \u001b[38;5;28;01mexcept\u001b[39;00m pycparser.c_parser.ParseError \u001b[38;5;28;01mas\u001b[39;00m e:\n\u001b[32m--> \u001b[39m\u001b[32m339\u001b[39m     \u001b[38;5;28;43mself\u001b[39;49m\u001b[43m.\u001b[49m\u001b[43mconvert_pycparser_error\u001b[49m\u001b[43m(\u001b[49m\u001b[43me\u001b[49m\u001b[43m,\u001b[49m\u001b[43m \u001b[49m\u001b[43mcsource\u001b[49m\u001b[43m)\u001b[49m\n\u001b[32m    340\u001b[39m \u001b[38;5;28;01mfinally\u001b[39;00m:\n\u001b[32m    341\u001b[39m     \u001b[38;5;28;01mif\u001b[39;00m lock \u001b[38;5;129;01mis\u001b[39;00m \u001b[38;5;129;01mnot\u001b[39;00m \u001b[38;5;28;01mNone\u001b[39;00m:\n",
      "\u001b[36mFile \u001b[39m\u001b[32m~/philzook58.github.io/.venv/lib/python3.12/site-packages/cffi/cparser.py:368\u001b[39m, in \u001b[36mParser.convert_pycparser_error\u001b[39m\u001b[34m(self, e, csource)\u001b[39m\n\u001b[32m    366\u001b[39m \u001b[38;5;28;01melse\u001b[39;00m:\n\u001b[32m    367\u001b[39m     msg = \u001b[33m'\u001b[39m\u001b[33mparse error\u001b[39m\u001b[38;5;130;01m\\n\u001b[39;00m\u001b[38;5;132;01m%s\u001b[39;00m\u001b[33m'\u001b[39m % (msg,)\n\u001b[32m--> \u001b[39m\u001b[32m368\u001b[39m \u001b[38;5;28;01mraise\u001b[39;00m CDefError(msg)\n",
      "\u001b[31mCDefError\u001b[39m: cannot parse \"typedef lean_object;\"\n<cdef source string>:1:9: Missing type in declaration"
     ]
    }
   ],
   "source": [
    "import cffi\n",
    "\n",
    "ffi = cffi.FFI()\n",
    "\n",
    "\n",
    "ffi.cdef(\"void lean_initialize_runtime_module();\")\n",
    "ffi.cdef(\"void lean_io_mark_end_initialization();\")\n",
    "ffi.cdef(\"lean_object * lean_io_mk_world();\")\n",
    "ffi.cdef(\"lean_object * initialize_hello(uint8_t builtin, lean_object *);\")\n",
    "\n",
    "lib = ffi.dlopen(\"liblean.so\")\n",
    "\n"
   ]
  },
  {
   "cell_type": "code",
   "execution_count": 58,
   "id": "80b9a8e9",
   "metadata": {},
   "outputs": [
    {
     "name": "stdout",
     "output_type": "stream",
     "text": [
      "Overwriting /tmp/leanffi.c\n"
     ]
    }
   ],
   "source": [
    "%%file /tmp/leanffi.c\n",
    "#include <stdio.h>\n",
    "#include <lean/lean.h>\n",
    "uint64_t my_length(lean_obj_arg);\n",
    "\n",
    "extern void lean_initialize_runtime_module();\n",
    "//extern void lean_initialize();\n",
    "extern void lean_io_mark_end_initialization();\n",
    "extern lean_object * initialize_hello(uint8_t builtin, lean_object *);\n",
    "\n",
    "int main() {\n",
    "  lean_initialize_runtime_module();\n",
    "  uint8_t builtin = 1;\n",
    "  lean_object* res = initialize_hello(builtin, lean_io_mk_world());\n",
    "\n",
    "  \n",
    "  lean_object * s = lean_mk_string(\"hello!\");\n",
    "  uint64_t l = my_length(s);\n",
    "  printf(\"output: %ld\\n\", l);\n",
    "\n",
    "\n",
    "  lean_io_mark_end_initialization();\n",
    "\n",
    "}"
   ]
  },
  {
   "cell_type": "code",
   "execution_count": 57,
   "id": "cc3c39c6",
   "metadata": {},
   "outputs": [
    {
     "name": "stdout",
     "output_type": "stream",
     "text": [
      "\u001b[1m/tmp/leanffi.c:1:10: \u001b[0m\u001b[0;1;31mfatal error: \u001b[0m\u001b[1m'stdio.h' file not found\u001b[0m\n",
      "#include <stdio.h>\n",
      "\u001b[0;1;32m         ^~~~~~~~~\n",
      "\u001b[0m1 error generated.\n"
     ]
    }
   ],
   "source": [
    "! leanc /tmp/hello.o /tmp/leanffi.c -lmimalloc"
   ]
  },
  {
   "cell_type": "code",
   "execution_count": 34,
   "id": "777eb3ac",
   "metadata": {},
   "outputs": [
    {
     "name": "stdout",
     "output_type": "stream",
     "text": [
      "/home/philip/.elan/toolchains/leanprover--lean4---v4.18.0/bin/clang -I /home/philip/.elan/toolchains/leanprover--lean4---v4.18.0/include -fstack-clash-protection -fwrapv -fPIC -fvisibility=hidden --sysroot /home/philip/.elan/toolchains/leanprover--lean4---v4.18.0 -nostdinc -isystem /home/philip/.elan/toolchains/leanprover--lean4---v4.18.0/include/clang -xc -E -v - --sysroot /home/philip/.elan/toolchains/leanprover--lean4---v4.18.0 -L /home/philip/.elan/toolchains/leanprover--lean4---v4.18.0/lib -L /home/philip/.elan/toolchains/leanprover--lean4---v4.18.0/lib/glibc /home/philip/.elan/toolchains/leanprover--lean4---v4.18.0/lib/glibc/libc_nonshared.a /home/philip/.elan/toolchains/leanprover--lean4---v4.18.0/lib/glibc/libpthread_nonshared.a -Wl,--as-needed -Wl,-Bstatic -lgmp -lunwind -luv -Wl,-Bdynamic -Wl,--no-as-needed -fuse-ld=lld -L /home/philip/.elan/toolchains/leanprover--lean4---v4.18.0/lib/lean -Wl,--start-group -lleancpp -lLean -Wl,--end-group -lStd -Wl,--start-group -lInit -lleanrt -Wl,--end-group -Wl,-Bstatic -lc++ -lc++abi -Wl,-Bdynamic -lLake -Wl,--as-needed -lgmp -luv -lpthread -ldl -lrt -Wl,--no-as-needed -lm -ldl -pthread -Wno-unused-command-line-argument\n",
      "clang version 15.0.1 (https://github.com/llvm/llvm-project b73d2c8c720a8c8e6e73b11be4e27afa6cb75bdf)\n",
      "Target: x86_64-unknown-linux-gnu\n",
      "Thread model: posix\n",
      "InstalledDir: /home/philip/.elan/toolchains/leanprover--lean4---v4.18.0/bin\n",
      " \"/home/philip/.elan/toolchains/leanprover--lean4---v4.18.0/bin/clang\" -cc1 -triple x86_64-unknown-linux-gnu -E -disable-free -clear-ast-before-backend -disable-llvm-verifier -discard-value-names -main-file-name - -mrelocation-model pic -pic-level 2 -fhalf-no-semantic-interposition -mframe-pointer=all -fmath-errno -ffp-contract=on -fno-rounding-math -mconstructor-aliases -funwind-tables=2 -target-cpu x86-64 -tune-cpu generic -debugger-tuning=gdb -v -fcoverage-compilation-dir=/home/philip/philzook58.github.io/_drafts -nostdsysteminc -nobuiltininc -resource-dir /home/philip/.elan/toolchains/leanprover--lean4---v4.18.0/lib/clang/15.0.1 -isystem /home/philip/.elan/toolchains/leanprover--lean4---v4.18.0/include/clang -I /home/philip/.elan/toolchains/leanprover--lean4---v4.18.0/include -isysroot /home/philip/.elan/toolchains/leanprover--lean4---v4.18.0 -Wno-unused-command-line-argument -fdebug-compilation-dir=/home/philip/philzook58.github.io/_drafts -ferror-limit 19 -fvisibility hidden -fwrapv -pthread -fstack-clash-protection -fgnuc-version=4.2.1 -fcolor-diagnostics -faddrsig -D__GCC_HAVE_DWARF2_CFI_ASM=1 -o - -x c -\n",
      "clang -cc1 version 15.0.1 based upon LLVM 15.0.1 default target x86_64-unknown-linux-gnu\n",
      "#include \"...\" search starts here:\n",
      "#include <...> search starts here:\n",
      " /home/philip/.elan/toolchains/leanprover--lean4---v4.18.0/include\n",
      " /home/philip/.elan/toolchains/leanprover--lean4---v4.18.0/include/clang\n",
      "End of search list.\n",
      "^C\n"
     ]
    }
   ],
   "source": [
    "! leanc -xc -E -v -"
   ]
  },
  {
   "cell_type": "markdown",
   "id": "cbeffcf0",
   "metadata": {},
   "source": [
    "The -Wl,-rpath stuff adds libs to rpath in bianry so I don't have to LD_LIBRARY_PATH "
   ]
  },
  {
   "cell_type": "code",
   "execution_count": 72,
   "id": "89cd21a9",
   "metadata": {},
   "outputs": [],
   "source": [
    "! gcc /tmp/hello.o /tmp/leanffi.c -o /tmp/leanffi -I $(lean --print-prefix)/include -L $(lean --print-libdir) -lInit_shared -lleanshared_1 -lleanshared -lmimalloc -Wl,-rpath=$(lean --print-libdir) "
   ]
  },
  {
   "cell_type": "code",
   "execution_count": 61,
   "id": "a98c8ae7",
   "metadata": {},
   "outputs": [
    {
     "name": "stdout",
     "output_type": "stream",
     "text": [
      "output: 6\n"
     ]
    }
   ],
   "source": [
    "!/tmp/leanffi"
   ]
  },
  {
   "cell_type": "code",
   "execution_count": 85,
   "id": "c2f11f89",
   "metadata": {},
   "outputs": [
    {
     "name": "stdout",
     "output_type": "stream",
     "text": [
      "/usr/bin/ld: cannot find -lc++: No such file or directory\n",
      "/usr/bin/ld: cannot find -lc++abi: No such file or directory\n",
      "clang: \u001b[0;1;31merror: \u001b[0m\u001b[1mlinker command failed with exit code 1 (use -v to see invocation)\u001b[0m\n"
     ]
    }
   ],
   "source": [
    "! clang /tmp/hello.o /tmp/leanffi.c -o /tmp/leanffi -I $(lean --print-prefix)/include -L $(lean --print-libdir) -Wl,--start-group -lleancpp -lLean -Wl,--end-group -lStd -Wl,--start-group -lInit -lleanrt -Wl,--end-group  -lc++ -lc++abi -lmimalloc -Wl,-rpath=$(lean --print-libdir)"
   ]
  },
  {
   "cell_type": "code",
   "execution_count": 27,
   "id": "9fffdd94",
   "metadata": {},
   "outputs": [],
   "source": [
    "! cd /tmp && lake new rffi"
   ]
  },
  {
   "cell_type": "code",
   "execution_count": 86,
   "id": "20904abf",
   "metadata": {},
   "outputs": [
    {
     "name": "stdout",
     "output_type": "stream",
     "text": [
      "\u001b[1;34minfo:\u001b[m rffi: no previous manifest, creating one from scratch\n",
      "\u001b[1;34minfo:\u001b[m toolchain not updated; already up-to-date\n",
      "\u001b[1;34mℹ [2/8] Built Rffi.Basic\u001b[mre)more)\u001b[2K\u001b[2K\n",
      "\u001b[1;34mtrace:\u001b[m .> LEAN_PATH=/tmp/rffi/.lake/build/lib/lean /home/philip/.elan/toolchains/leanprover--lean4---v4.20.1/bin/lean /tmp/rffi/Rffi/Basic.lean -R /tmp/rffi -o /tmp/rffi/.lake/build/lib/lean/Rffi/Basic.olean -i /tmp/rffi/.lake/build/lib/lean/Rffi/Basic.ilean -c /tmp/rffi/.lake/build/ir/Rffi/Basic.c --json\n",
      "\u001b[1;34mℹ [3/8] Built Rffi.Basic:c.o (with exports)\u001b[mre)\u001b[2K\n",
      "\u001b[1;34mtrace:\u001b[m .> /home/philip/.elan/toolchains/leanprover--lean4---v4.20.1/bin/clang -c -o /tmp/rffi/.lake/build/ir/Rffi/Basic.c.o.export /tmp/rffi/.lake/build/ir/Rffi/Basic.c -I /home/philip/.elan/toolchains/leanprover--lean4---v4.20.1/include -fstack-clash-protection -fwrapv -fPIC -fvisibility=hidden -Wno-unused-command-line-argument --sysroot /home/philip/.elan/toolchains/leanprover--lean4---v4.20.1 -nostdinc -isystem /home/philip/.elan/toolchains/leanprover--lean4---v4.20.1/include/clang -O3 -DNDEBUG -DLEAN_EXPORTING\n",
      "\u001b[1;34mℹ [4/8] Built Rffi\u001b[mre)\u001b[2K\n",
      "\u001b[1;34mtrace:\u001b[m .> LEAN_PATH=/tmp/rffi/.lake/build/lib/lean /home/philip/.elan/toolchains/leanprover--lean4---v4.20.1/bin/lean /tmp/rffi/Rffi.lean -R /tmp/rffi -o /tmp/rffi/.lake/build/lib/lean/Rffi.olean -i /tmp/rffi/.lake/build/lib/lean/Rffi.ilean -c /tmp/rffi/.lake/build/ir/Rffi.c --json\n",
      "\u001b[1;34mℹ [5/8] Built Rffi:c.o (with exports)\u001b[m\n",
      "\u001b[1;34mtrace:\u001b[m .> /home/philip/.elan/toolchains/leanprover--lean4---v4.20.1/bin/clang -c -o /tmp/rffi/.lake/build/ir/Rffi.c.o.export /tmp/rffi/.lake/build/ir/Rffi.c -I /home/philip/.elan/toolchains/leanprover--lean4---v4.20.1/include -fstack-clash-protection -fwrapv -fPIC -fvisibility=hidden -Wno-unused-command-line-argument --sysroot /home/philip/.elan/toolchains/leanprover--lean4---v4.20.1 -nostdinc -isystem /home/philip/.elan/toolchains/leanprover--lean4---v4.20.1/include/clang -O3 -DNDEBUG -DLEAN_EXPORTING\n",
      "\u001b[1;34mℹ [6/8] Built Main\u001b[mre)\u001b[2K\n",
      "\u001b[1;34mtrace:\u001b[m .> LEAN_PATH=/tmp/rffi/.lake/build/lib/lean /home/philip/.elan/toolchains/leanprover--lean4---v4.20.1/bin/lean /tmp/rffi/Main.lean -R /tmp/rffi -o /tmp/rffi/.lake/build/lib/lean/Main.olean -i /tmp/rffi/.lake/build/lib/lean/Main.ilean -c /tmp/rffi/.lake/build/ir/Main.c --json\n",
      "\u001b[1;34mℹ [7/8] Built Main:c.o (with exports)\u001b[mre)\u001b[2K\n",
      "\u001b[1;34mtrace:\u001b[m .> /home/philip/.elan/toolchains/leanprover--lean4---v4.20.1/bin/clang -c -o /tmp/rffi/.lake/build/ir/Main.c.o.export /tmp/rffi/.lake/build/ir/Main.c -I /home/philip/.elan/toolchains/leanprover--lean4---v4.20.1/include -fstack-clash-protection -fwrapv -fPIC -fvisibility=hidden -Wno-unused-command-line-argument --sysroot /home/philip/.elan/toolchains/leanprover--lean4---v4.20.1 -nostdinc -isystem /home/philip/.elan/toolchains/leanprover--lean4---v4.20.1/include/clang -O3 -DNDEBUG -DLEAN_EXPORTING\n",
      "\u001b[1;34mℹ [8/8] Built rffi\u001b[mre)\u001b[2K\n",
      "\u001b[1;34mtrace:\u001b[m .> /home/philip/.elan/toolchains/leanprover--lean4---v4.20.1/bin/clang -o /tmp/rffi/.lake/build/bin/rffi /tmp/rffi/.lake/build/ir/Main.c.o.export /tmp/rffi/.lake/build/ir/Rffi/Basic.c.o.export /tmp/rffi/.lake/build/ir/Rffi.c.o.export -L /home/philip/.elan/toolchains/leanprover--lean4---v4.20.1/lib/lean --sysroot /home/philip/.elan/toolchains/leanprover--lean4---v4.20.1 -L /home/philip/.elan/toolchains/leanprover--lean4---v4.20.1/lib -L /home/philip/.elan/toolchains/leanprover--lean4---v4.20.1/lib/glibc -lc -lc_nonshared -Wl,--as-needed -l:ld.so -Wl,--no-as-needed -lpthread_nonshared -Wl,--as-needed -Wl,-Bstatic -lgmp -lunwind -luv -Wl,-Bdynamic -Wl,--no-as-needed -fuse-ld=lld -Wl,--start-group -lleancpp -lLean -Wl,--end-group -lStd -Wl,--start-group -lInit -lleanrt -Wl,--end-group -Wl,-Bstatic -lc++ -lc++abi -Wl,-Bdynamic -lLake -Wl,--as-needed -lgmp -luv -lpthread -ldl -lrt -Wl,--no-as-needed -lm -ldl -pthread\n",
      "Build completed successfully.\n"
     ]
    }
   ],
   "source": [
    "! cd /tmp/rffi && lake build -v"
   ]
  },
  {
   "cell_type": "code",
   "execution_count": null,
   "id": "2af0d627",
   "metadata": {},
   "outputs": [
    {
     "name": "stdout",
     "output_type": "stream",
     "text": [
      "\u001b[1minfo: \u001b[mVersion 4.1.2 of elan is available! Use `elan self update` to update.\n",
      "\u001b[1minfo: \u001b[mdownloading https://github.com/leanprover/lean4/releases/download/v4.20.1/lean-4.20.0-linux.tar.zst\n",
      "347.5 MiB / 347.5 MiB (100 %)  10.4 MiB/s ETA:   0 s\n",
      "\u001b[1minfo: \u001b[minstalling /home/philip/.elan/toolchains/leanprover--lean4---v4.20.1\n",
      "ld.lld: \u001b[0;31merror: \u001b[0mundefined symbol: main\n",
      ">>> referenced by start.S:104 (../sysdeps/x86_64/start.S:104)\n",
      ">>>               /home/philip/.elan/toolchains/leanprover--lean4---v4.20.1/lib/Scrt1.o:(_start)\n",
      "clang: \u001b[0;1;31merror: \u001b[0m\u001b[1mlinker command failed with exit code 1 (use -v to see invocation)\u001b[0m\n"
     ]
    }
   ],
   "source": []
  },
  {
   "cell_type": "code",
   "execution_count": null,
   "id": "9d2d5626",
   "metadata": {},
   "outputs": [
    {
     "ename": "ModuleNotFoundError",
     "evalue": "No module named 'leandojo'",
     "output_type": "error",
     "traceback": [
      "\u001b[31m---------------------------------------------------------------------------\u001b[39m",
      "\u001b[31mModuleNotFoundError\u001b[39m                       Traceback (most recent call last)",
      "\u001b[36mCell\u001b[39m\u001b[36m \u001b[39m\u001b[32mIn[1]\u001b[39m\u001b[32m, line 1\u001b[39m\n\u001b[32m----> \u001b[39m\u001b[32m1\u001b[39m \u001b[38;5;28;01mimport\u001b[39;00m\u001b[38;5;250m \u001b[39m\u001b[34;01mleandojo\u001b[39;00m\n",
      "\u001b[31mModuleNotFoundError\u001b[39m: No module named 'leandojo'"
     ]
    }
   ],
   "source": []
  },
  {
   "cell_type": "code",
   "execution_count": null,
   "id": "04e0db73",
   "metadata": {},
   "outputs": [],
   "source": [
    ".global myforty\n",
    "myforty:\n",
    "movq 42, %rax\n",
    "ret"
   ]
  },
  {
   "cell_type": "code",
   "execution_count": 1,
   "id": "c9bbfbc9",
   "metadata": {},
   "outputs": [
    {
     "ename": "",
     "evalue": "",
     "output_type": "error",
     "traceback": [
      "\u001b[1;31mThe Kernel crashed while executing code in the current cell or a previous cell. \n",
      "\u001b[1;31mPlease review the code in the cell(s) to identify a possible cause of the failure. \n",
      "\u001b[1;31mClick <a href='https://aka.ms/vscodeJupyterKernelCrash'>here</a> for more info. \n",
      "\u001b[1;31mView Jupyter <a href='command:jupyter.viewOutput'>log</a> for further details."
     ]
    }
   ],
   "source": [
    "import cffi\n",
    "ffi = cffi.FFI()\n",
    "ffi.cdef(\"uint32_t myforty();\")\n",
    "lib = ffi.dlopen(\"/tmp/fortytwo.so\")\n",
    "print(43490)\n",
    "lib.myforty()"
   ]
  }
 ],
 "metadata": {
  "kernelspec": {
   "display_name": "philzook58.github.io",
   "language": "python",
   "name": "python3"
  },
  "language_info": {
   "codemirror_mode": {
    "name": "ipython",
    "version": 3
   },
   "file_extension": ".py",
   "mimetype": "text/x-python",
   "name": "python",
   "nbconvert_exporter": "python",
   "pygments_lexer": "ipython3",
   "version": "3.12.3"
  }
 },
 "nbformat": 4,
 "nbformat_minor": 5
}
