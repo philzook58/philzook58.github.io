{
 "cells": [
  {
   "cell_type": "code",
   "execution_count": null,
   "id": "43563df5",
   "metadata": {},
   "outputs": [],
   "source": [
    "import cffi\n",
    "\n",
    "ffi = cffi.FFI()\n",
    "ffi.cdef(\"uint64_t my_length(lean_obj_arg);\")\n",
    "\n",
    "lib = ffi.dlopen(\"liblean.so\")\n"
   ]
  },
  {
   "cell_type": "markdown",
   "id": "940a63f4",
   "metadata": {},
   "source": [
    "https://github.com/dselsam/lean-python-bindings\n",
    "\n",
    "https://github.com/leanprover/lean4/tree/master/src/lake/examples/reverse-ffi\n",
    "\n",
    "https://docs.lean-lang.org/lean4/doc/dev/ffi.html#borrowing\n",
    "\n",
    "https://github.com/leanprover/lean4/tree/master/tests/compiler/foreign"
   ]
  },
  {
   "cell_type": "code",
   "execution_count": 3,
   "id": "466b203b",
   "metadata": {},
   "outputs": [
    {
     "name": "stdout",
     "output_type": "stream",
     "text": [
      "Overwriting /tmp/hello.lean\n"
     ]
    }
   ],
   "source": [
    "%%file /tmp/hello.lean\n",
    "\n",
    "@[export my_length]\n",
    "def myLength (s : String) : UInt64 :=\n",
    "  s.length.toUInt64\n"
   ]
  },
  {
   "cell_type": "code",
   "execution_count": null,
   "id": "20904abf",
   "metadata": {},
   "outputs": [],
   "source": []
  },
  {
   "cell_type": "code",
   "execution_count": 9,
   "id": "2af0d627",
   "metadata": {},
   "outputs": [
    {
     "name": "stdout",
     "output_type": "stream",
     "text": [
      "\u001b[1minfo: \u001b[mVersion 4.1.2 of elan is available! Use `elan self update` to update.\n",
      "\u001b[1minfo: \u001b[mdownloading https://github.com/leanprover/lean4/releases/download/v4.20.1/lean-4.20.0-linux.tar.zst\n",
      "347.5 MiB / 347.5 MiB (100 %)  10.4 MiB/s ETA:   0 s\n",
      "\u001b[1minfo: \u001b[minstalling /home/philip/.elan/toolchains/leanprover--lean4---v4.20.1\n",
      "ld.lld: \u001b[0;31merror: \u001b[0mundefined symbol: main\n",
      ">>> referenced by start.S:104 (../sysdeps/x86_64/start.S:104)\n",
      ">>>               /home/philip/.elan/toolchains/leanprover--lean4---v4.20.1/lib/Scrt1.o:(_start)\n",
      "clang: \u001b[0;1;31merror: \u001b[0m\u001b[1mlinker command failed with exit code 1 (use -v to see invocation)\u001b[0m\n"
     ]
    }
   ],
   "source": [
    "! cd /tmp && lean -c /tmp/hello.c  /tmp/hello.lean && leanc  -o /tmp/hello.o /tmp/hello.c"
   ]
  },
  {
   "cell_type": "code",
   "execution_count": null,
   "id": "9d2d5626",
   "metadata": {},
   "outputs": [
    {
     "ename": "ModuleNotFoundError",
     "evalue": "No module named 'leandojo'",
     "output_type": "error",
     "traceback": [
      "\u001b[31m---------------------------------------------------------------------------\u001b[39m",
      "\u001b[31mModuleNotFoundError\u001b[39m                       Traceback (most recent call last)",
      "\u001b[36mCell\u001b[39m\u001b[36m \u001b[39m\u001b[32mIn[1]\u001b[39m\u001b[32m, line 1\u001b[39m\n\u001b[32m----> \u001b[39m\u001b[32m1\u001b[39m \u001b[38;5;28;01mimport\u001b[39;00m\u001b[38;5;250m \u001b[39m\u001b[34;01mleandojo\u001b[39;00m\n",
      "\u001b[31mModuleNotFoundError\u001b[39m: No module named 'leandojo'"
     ]
    }
   ],
   "source": []
  }
 ],
 "metadata": {
  "kernelspec": {
   "display_name": ".venv",
   "language": "python",
   "name": "python3"
  },
  "language_info": {
   "codemirror_mode": {
    "name": "ipython",
    "version": 3
   },
   "file_extension": ".py",
   "mimetype": "text/x-python",
   "name": "python",
   "nbconvert_exporter": "python",
   "pygments_lexer": "ipython3",
   "version": "3.12.3"
  }
 },
 "nbformat": 4,
 "nbformat_minor": 5
}
