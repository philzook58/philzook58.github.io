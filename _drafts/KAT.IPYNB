{
 "cells": [
  {
   "cell_type": "markdown",
   "id": "cdc07f77",
   "metadata": {},
   "source": [
    "Implement Kleene algerba mod tests\n",
    "\n",
    "An Egraph modulo theories with KAT is maybe KLAT modulo theories?\n",
    "\n",
    "\n",
    "KAT equivalence checking?\n",
    "\n",
    "Hashing automata (minimize sure, but then what? Sort the s -> f s dict based on obersvations?)\n",
    "\n"
   ]
  }
 ],
 "metadata": {
  "language_info": {
   "name": "python"
  }
 },
 "nbformat": 4,
 "nbformat_minor": 5
}
