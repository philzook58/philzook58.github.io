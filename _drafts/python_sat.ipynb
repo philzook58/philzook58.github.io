{
 "cells": [
  {
   "cell_type": "code",
   "execution_count": null,
   "metadata": {},
   "outputs": [],
   "source": []
  },
  {
   "cell_type": "markdown",
   "metadata": {},
   "source": [
    "There is a dpll1 and dpll2 in sympy.logic.algorithms\n",
    "Also lra. also interface to z3 (!)\n",
    "\n",
    "\n",
    "cadical 2023 - SBVA strcutured blcoked clause addition\n",
    "https://cca.informatik.uni-freiburg.de/papers/BiereFallerFazekasFleuryFroleyksPollitt-SAT-Competition-2024-solvers.pdf kissat\n",
    "\n",
    "VMTF variable move to front - verified sat solvers seem to use because doesn't need floats like vsids\n",
    "VSIDS\n",
    "\n",
    "kissat 2024 - clausal congruence closure https://github.com/arminbiere/kissat/blob/master/src/congruence.c https://cca.informatik.uni-freiburg.de/papers/BiereFazekasFleuryFroleyks-SAT24-preprint.pdf\n",
    "\n",
    "\"SAT-sweeping technique using our embedded SAT solver Kitten\" Kitten is a smaller sat solver inside kissat?\n",
    "\n",
    "average glue LBD. glucose\n",
    "\n",
    "'vivification\"\n",
    "instantiation\n",
    "\n",
    "binary reason jumping\n",
    "lucky phase detection\n",
    "SLUR lookahead\n",
    "\n",
    "Blocked clauses\n",
    "- blocking literals 2008 JSAT paper by Chu, Harwood and Stuckey\n",
    "- Finally, for long clauses we save the position of the last watch replacement in 'pos', which in turn reduces certain quadratic accumulated propagation costs (2013 JAIR article by Ian Gent\n",
    "\n",
    "https://cca.informatik.uni-freiburg.de/papers/BiereFallerFazekasFleuryFroleyksPollitt-CAV24.pdf cadical 2\n",
    "- `cdcl_loop_with_inrpcoessing` is core in Internal https://github.com/arminbiere/cadical/blob/31f9aae44947c673dc6190c9beb399acb9ffec6a/src/internal.cpp#L246\n",
    "\n",
    "```\n",
    "mode = PROPAGATE\n",
    "def analyze():\n",
    "def propagate():\n",
    "def decide():\n",
    "\n",
    "while True:\n",
    "    match mode:\n",
    "        case PROPAGATE:\n",
    "        case DECIDE:\n",
    "\n",
    "```\n",
    "\n",
    "\n",
    "- propagate https://github.com/arminbiere/cadical/blob/master/src/propagate.cpp#L227 \n",
    "- watch https://github.com/arminbiere/cadical/blob/master/src/watch.hpp\n",
    "- analyze conflict https://github.com/arminbiere/cadical/blob/31f9aae44947c673dc6190c9beb399acb9ffec6a/src/analyze.cpp#L860 \n",
    "- decide https://github.com/arminbiere/cadical/blob/31f9aae44947c673dc6190c9beb399acb9ffec6a/src/decide.cpp#L122\n",
    "- trail is vector of in https://github.com/arminbiere/cadical/blob/31f9aae44947c673dc6190c9beb399acb9ffec6a/src/internal.hpp#L236 . control is also kind of part of trail https://github.com/arminbiere/cadical/blob/31f9aae44947c673dc6190c9beb399acb9ffec6a/src/internal.hpp#L254 . backtracking the trail https://github.com/arminbiere/cadical/blob/master/src/backtrack.cpp\n",
    "\n",
    "```\n",
    "control : list[tupel[level, unitlitnum]] # control only push on decisions\n",
    "trail : # every literal assigned is on trail \n",
    "```\n",
    "\n",
    "- clause https://github.com/arminbiere/cadical/blob/master/src/clause.hpp glucose L53  See the IJCAI'09 paper by Audemard & Simon for more details\n",
    "\n",
    "```\n",
    "Clause:\n",
    "    #id : maybe\n",
    "    lits : list[int]\n",
    "    glue: int\n",
    "\n",
    "```\n",
    "\n",
    "satsifiability modulo symmettries\n",
    "\n",
    "Partik Simons et al Alg. 4 in his JAIR article from 2002. smodels. lookeahead. probing\n",
    "\n",
    "\n",
    "https://m-fleury.github.io/\n",
    "\n",
    "https://github.com/IsaFoL/IsaFoL/\n",
    "\n",
    "\n",
    "sat competition benchmarks descriptions\n",
    "- replacing riscv\n",
    "- circuit equiv checking\n",
    "\n",
    "bounded varaible elimination - important preprocessing. Most important maybe?\n",
    "\n",
    "phase saving - easy to implement, nice jump in perf.\n",
    "\n",
    "avatar\n"
   ]
  },
  {
   "cell_type": "markdown",
   "metadata": {},
   "source": [
    "https://x.com/krismicinski/status/1856341897331003842  \"Trying to turn in my class material into a few recorded lectures on CDCL. I have seen some good talks on CDCL history by experts (e.g., Armin Biere's Simmons institute talk), but think there is still room for more discussion that starts from a as-functional-as-possible style.\"\n",
    "\n",
    "2 watched literal is related to simplex tableau method?\n",
    "https://types.pl/@krismicinski/113470474347084554\n",
    "\n",
    "Jules Jacobs - Retconning out DPLL and treat it as iterative clause learning from the start?\n",
    "\n",
    "\n",
    "We could enumerate all models.\n",
    "Upon each model failure, perhaps we can determinate a backjump skip instead of just go to next one.\n",
    "Or we could clause learn.\n",
    "This might be especially useful if we're trying to get minimal model according to variable ordering.\n",
    "\n",
    "Ordered resolution and CDCL\n",
    "Given a resolution state, we can start to build a partial model.\n",
    "The literal ordering means that the \"datalog\" rules are unit propagations, we've already assigned all the other bits by the time we consider each rule.\n",
    "The trail is the current partial model.\n",
    "\n",
    "Decision vs propapgation clauses...\n",
    "\n",
    "The conflict clause should be resolved with a previous one.\n",
    "\n",
    "CDCL is kind of pivoting on useful literal orderings. The current ordering _is_ the trail.\n",
    "But even if we had the best ordering a priori, it wouldn't be as good because it is \n",
    "\n",
    "avatar. Maybe an avatar loop would be smart\n"
   ]
  },
  {
   "cell_type": "code",
   "execution_count": null,
   "metadata": {},
   "outputs": [],
   "source": [
    "%%file /tmp/sat.c\n",
    "\n",
    "#define VAR(n) ((1 << n) & model)\n",
    "//bool var(int model, int i){\n",
    "//\n",
    "//}\n",
    "\n",
    "bool clause1(int model){\n",
    "    return VAR(3) | VAR(4) | VAR(5);\n",
    "}\n",
    "\n",
    "#define VNUM 4\n",
    "int main(){\n",
    "    for(int model = 0; model < 2**VNUM; model++){\n",
    "        if(clause1(model) && clause2(model) && clause3(model)){\n",
    "            printf(\"%d\\n\", model);\n",
    "            return 0;\n",
    "        }\n",
    "    }\n",
    "    printf(\"unsat\");\n",
    "    return 1;\n",
    "}"
   ]
  },
  {
   "cell_type": "markdown",
   "metadata": {},
   "source": []
  },
  {
   "cell_type": "code",
   "execution_count": null,
   "metadata": {},
   "outputs": [],
   "source": [
    "# two watched literal\n",
    "Lit = int\n",
    "clauses = []\n",
    "from collections import defaultdict\n",
    "vmap = defaultdict(list)\n",
    "\n",
    "def unit(cnum):\n",
    "    for lit in clauses[cnum]:\n",
    "        v = model[lit]\n",
    "        if v is None:\n",
    "            \n",
    "        \n",
    "\n",
    "\n",
    "def propagate(lit):\n",
    "    queue = [lit]\n",
    "    while queue:\n",
    "        lit = queue.pop()\n",
    "        for cid in vmap[lit]:\n",
    "            #cls = clauses[cid]\n",
    "\n",
    "            for l2 in cid:\n",
    "                v2 = model[l2]\n",
    "                if v2 is True:\n",
    "                    break # clause true\n",
    "                elif v2 is None:\n",
    "                    if cid in vmap[l2]: # other watched literal\n",
    "                        continue\n",
    "                    else:\n",
    "                        vmap[l2].append(cid)\n",
    "                        break\n",
    "            \n",
    "\n",
    "\n",
    "\n",
    "            l2 = unit(cid)\n",
    "            if l2 is not None:\n",
    "                queue.append(l2)\n",
    "            \n",
    "\n",
    "\n",
    "\n",
    "\n",
    "\n",
    "\n",
    "\n",
    "\n",
    "\n"
   ]
  },
  {
   "cell_type": "markdown",
   "metadata": {},
   "source": [
    "rapid restart might make for a simple implementation.\n",
    "Restart fully after each conflict.\n",
    "Don't have to clean trail or model.\n"
   ]
  },
  {
   "cell_type": "code",
   "execution_count": null,
   "metadata": {},
   "outputs": [],
   "source": [
    "def solve():\n",
    "    trail = []\n",
    "    clauses = []\n",
    "    def clause(n):\n",
    "        c = clauses[n]\n",
    "        for lit in c:\n",
    "\n",
    "    while True:\n",
    "        # propagate\n",
    "        # decided\n",
    "        # backjump\n",
    "        # learn\n",
    "        # forget\n",
    "class Solver():\n",
    "    model : dict[int, bool]\n",
    "    trail : list[tuple[bool, int, int]]\n",
    "    twl : dict[int, list[int]]\n",
    "\n",
    "    def eval_clause(self, nc):\n",
    "        c = self.clauses[c]\n",
    "        done = True\n",
    "        for l in c:\n",
    "\n",
    "            v = self.model.get(l)\n",
    "            if v is True:\n",
    "                return True\n",
    "            if v is None:\n",
    "                done = False\n",
    "                continue\n",
    "        if done:\n",
    "            return False # conflict\n",
    "        else:\n",
    "            return None # undecided\n",
    "    def decide(self, l):\n",
    "        self.trail.append((True, l))\n",
    "        self.model[l] = True\n",
    "        \n",
    "    def backjump(self, n):\n",
    "        for i in range(n):\n",
    "            l = self.trail.pop()\n",
    "            del self.model[l]\n"
   ]
  },
  {
   "cell_type": "markdown",
   "metadata": {},
   "source": [
    "# SAT\n",
    "\n",
    "https://en.wikipedia.org/wiki/DPLL_algorithm\n",
    "https://chatgpt.com/c/66e9eb94-8984-8008-9db9-c0190f98e25c"
   ]
  },
  {
   "cell_type": "code",
   "execution_count": null,
   "metadata": {},
   "outputs": [],
   "source": [
    "from typing import NamedTuple\n",
    "\n",
    "Literal = NamedTuple('Literal', [('idx', int), ('polarity', bool)])\n",
    "Clause = NamedTuple('Clause', [('literals', list)])\n",
    "Formula = NamedTuple('Formula', [('clauses', list[Clause]), ('num_vars', int)])\n",
    "\n",
    "Assignment = NamedTuple('Assignment', [('values', list[bool])])\n",
    "Pasn = NamedTuple('Pasn', [('assignment', Assignment), ('satisfiable', bool)])\n"
   ]
  },
  {
   "cell_type": "markdown",
   "metadata": {},
   "source": [
    "Can we use z3 to do cnf transformation?\n",
    "https://microsoft.github.io/z3guide/docs/strategies/summary#tactic-tseitin-cnf\n",
    "\n",
    "def dimacs(self, include_names=True): also apparently solver has a dimacs printer...\n",
    "\n",
    "https://stackoverflow.com/questions/13059096/z3-and-dimacs-output\n",
    "https://github.com/RobinDavid/pydimacs\n",
    "\n",
    "I put it into knuckeldragger\n"
   ]
  },
  {
   "cell_type": "code",
   "execution_count": 32,
   "metadata": {},
   "outputs": [
    {
     "name": "stdout",
     "output_type": "stream",
     "text": [
      "[Or(z, Not(x)), Or(w, Not(x)), Or(x, z, Not(y))]\n",
      "p cnf 4 3\n",
      "1 -2 0\n",
      "3 -2 0\n",
      "2 1 -4 0\n",
      "c 2 x\n",
      "c 4 y\n",
      "c 1 z\n",
      "c 3 w\n"
     ]
    }
   ],
   "source": [
    "from z3 import *\n",
    "\n",
    "x,y,z,w = Bools(\"x y z w\")\n",
    "G = Goal()\n",
    "G.add(Implies(x, And(z,w)))\n",
    "G.add(Implies(y, Or(x,z)))\n",
    "t1 = Tactic('tseitin-cnf')\n",
    "tactic = z3.Then('simplify', 'bit-blast', 'tseitin-cnf')\n",
    "for c in tactic(G):\n",
    "    print(c)\n",
    "    print(c.dimacs())\n",
    "\n",
    "import subprocess\n",
    "class SATSolver():\n",
    "    def __init__(self):\n",
    "        self.G = z3.Goal()\n",
    "    def add(self, clause):\n",
    "        self.G.add(clause)\n",
    "    def check(self, debug=False):\n",
    "        t = z3.Then('simplify', 'bit-blast', 'tseitin-cnf')\n",
    "        c = t(self.G)\n",
    "        assert(len(c) == 1)\n",
    "        with open(\"/tmp/sat.cnf\", \"w\") as f:\n",
    "            f.write(c[0].dimacs())\n",
    "            f.flush()\n",
    "        self.res = subprocess.run([\"kissat\", \"--relaxed\", \"/tmp/sat.cnf\"], capture_output=True)\n",
    "        res = self.res.stdout.decode()\n",
    "        if \"s SATISFIABLE\" in res:\n",
    "            return z3.sat\n",
    "        elif \"s UNSATISFIABLE\" in res:\n",
    "            return z3.unsat\n",
    "        else:\n",
    "            return z3.unknown\n",
    "\n",
    "s = SATSolver()\n",
    "s.add(Implies(x, And(z,w)))\n",
    "s.add(Implies(y, Or(x,z)))\n",
    "assert s.check() == z3.sat\n",
    "#print(s.res.stdout.decode())\n",
    "\n"
   ]
  },
  {
   "cell_type": "code",
   "execution_count": 26,
   "metadata": {},
   "outputs": [
    {
     "name": "stdout",
     "output_type": "stream",
     "text": [
      "p cnf 12 29\n",
      "52 -48 -49 0\n",
      "52 -48 0\n",
      "52 -49 0\n",
      "48 49 -52 0\n",
      "52 50 46 -53 0\n",
      "50 -53 -52 -46 0\n",
      "52 -50 -53 -46 0\n",
      "46 -50 -53 -52 0\n",
      "-50 -52 53 -46 0\n",
      "52 46 -50 53 0\n",
      "50 46 -52 53 0\n",
      "52 50 53 -46 0\n",
      "-53 0\n",
      "48 -54 -44 0\n",
      "44 -48 -54 0\n",
      "-48 54 -44 0\n",
      "44 48 54 0\n",
      "-54 0\n",
      "50 55 0\n",
      "52 55 0\n",
      "-50 -52 -55 0\n",
      "47 51 55 0\n",
      "47 -51 -55 0\n",
      "51 -47 -55 0\n",
      "-51 -47 55 0\n",
      "45 48 49 0\n",
      "45 -48 -49 0\n",
      "-48 49 -45 0\n",
      "48 -49 -45 0"
     ]
    }
   ],
   "source": [
    "! cat /tmp/sat.cnf"
   ]
  },
  {
   "cell_type": "code",
   "execution_count": 34,
   "metadata": {},
   "outputs": [],
   "source": [
    "x = BitVec('x', 4)\n",
    "y = BitVec('y', 4)\n",
    "s = SATSolver()\n",
    "s.add(x == y + 3)\n",
    "assert s.check() == z3.sat\n",
    "#print(s.res.stdout.decode())\n",
    "\n",
    "s = SATSolver()\n",
    "s.add(x == x + y)\n",
    "s.add(y != z3.BitVecVal(0, 4))\n",
    "assert s.check() == z3.unsat\n"
   ]
  },
  {
   "cell_type": "code",
   "execution_count": 15,
   "metadata": {},
   "outputs": [
    {
     "name": "stdout",
     "output_type": "stream",
     "text": [
      "[b, b, b]\n"
     ]
    },
    {
     "data": {
      "text/plain": [
       "[b, c, a]"
      ]
     },
     "execution_count": 15,
     "metadata": {},
     "output_type": "execute_result"
    }
   ],
   "source": [
    "from z3 import *\n",
    "a,b,c = Ints(\"a b c\")\n",
    "s = SimpleSolver()\n",
    "s.add(a == b)\n",
    "s.add(b == c)\n",
    "s.check()\n",
    "print([s.root(x) for x in [a,b,c]])\n",
    "[s.next(x) for x in [a,b,c]]    \n",
    "#s.next(b)"
   ]
  },
  {
   "cell_type": "code",
   "execution_count": null,
   "metadata": {},
   "outputs": [],
   "source": [
    "from z3 import *\n",
    "s = SimpleSolver()\n",
    "x, y, z = Ints('x y z')\n",
    "s.add(x == y)\n",
    "s.add(y == z)\n",
    "s.check()\n",
    "print(s.root(x), s.root(y), s.root(z))\n",
    "print(s.next(x), s.next(y), s.next(z))"
   ]
  },
  {
   "cell_type": "code",
   "execution_count": 2,
   "metadata": {},
   "outputs": [
    {
     "data": {
      "text/html": [
       "[[z &or; &not;x, w &or; &not;x]]"
      ],
      "text/plain": [
       "[[Or(z, Not(x)), Or(w, Not(x))]]"
      ]
     },
     "execution_count": 2,
     "metadata": {},
     "output_type": "execute_result"
    }
   ],
   "source": [
    "from z3 import *\n",
    "\n",
    "x,y,z,w = Bools(\"x y z w\")\n",
    "G = Goal()\n",
    "G.add(Implies(x, And(z,w)))\n",
    "t1 = Tactic('tseitin-cnf')\n",
    "t1(G)\n"
   ]
  },
  {
   "cell_type": "markdown",
   "metadata": {},
   "source": [
    "Match the z3 api "
   ]
  },
  {
   "cell_type": "code",
   "execution_count": null,
   "metadata": {},
   "outputs": [],
   "source": [
    "from dataclass import dataclass\n",
    "\n",
    "Id = int\n",
    "\n",
    "@dataclass\n",
    "class Context():\n",
    "    hashcons : dict[tuple[Id] | str | int, Id]\n",
    "    def intern(self, x : tuple[Id] | str | int) -> Id:\n",
    "        if x in self.hashcons:\n",
    "            return self.hashcons[x]\n",
    "        else:\n",
    "            id = len(self.hashcons)\n",
    "            self.hashcons[x] = id\n",
    "            return id\n",
    "\n",
    "  \n",
    "\n",
    "\n",
    "@dataclass(frozen=True)\n",
    "class AstRef():\n",
    "    ctx : Context\n",
    "    ast : Id\n",
    "    def __eq__(self, other : AstRef) -> bool:\n",
    "        assert self.cxt == other.ctx\n",
    "        return self.ast == other.ast\n",
    "    def __hash__(self) -> int:\n",
    "        return hash(self.ast)\n",
    "    \n",
    "    # fill in\n",
    "_main_ctx : Context = Context({})\n",
    "def get_ctx(ctx):\n",
    "    if ctx is None:\n",
    "        return _main_ctx\n",
    "    return ctx\n",
    "\n",
    "def to_symbol(x : int | str, ctx=None) -> int:\n",
    "    ctx = get_ctx(ctx)\n",
    "    return ctx.intern(x)\n",
    "    \n",
    "def is_ast(x):\n",
    "    return isinstance(x, AstRef)\n",
    "\n",
    "@dataclass(frozen=True)\n",
    "class SortRef(AstRef):\n",
    "\n",
    "@dataclass(frozen=True)\n",
    "class ExprRef(AstRef):\n",
    "    # fill in\n",
    "    ast : AstRef"
   ]
  },
  {
   "cell_type": "markdown",
   "metadata": {},
   "source": [
    "With my egraph, if i wrote a sat solver, I'd have a mini\n",
    "Put in SAT comp?\n",
    "\n",
    "[The silent revolution of sat](https://news.ycombinator.com/item?id=36079115#36081904)\n",
    "\n",
    "[creusat](https://sarsko.github.io/_pages/SarekSkot%C3%A5m_thesis.pdf) <https://github.com/sarsko/CreuSAT>\n",
    "\n",
    "https://fmv.jku.at/fleury/papers/Fleury-thesis.pdf\n",
    "\n",
    "https://github.com/marijnheule/microsat\n",
    "\n",
    "https://github.com/msoos/minisat-v1.14\n",
    "\n",
    "https://x.com/SoosMate/status/1760817528236818456?s=20 phind know sat solvers\n",
    "\"Yes (about the role of Kitten in Kissat) but the explanation is still bogus. It sounds like a weak student who does not understand anything but tries to pass the exam by randomly arguing about concepts discussed in this context. I probably would let it pass (but just).\"\n",
    "\n",
    "https://sahandsaba.com/understanding-sat-by-implementing-a-simple-sat-solver-in-python.html\n",
    "wait this blog is sweet\n",
    "\n",
    "https://easychair.org/publications/open/b7Cr CDCL as rewrite syste,\n"
   ]
  },
  {
   "cell_type": "code",
   "execution_count": null,
   "metadata": {},
   "outputs": [],
   "source": []
  },
  {
   "cell_type": "code",
   "execution_count": null,
   "metadata": {},
   "outputs": [],
   "source": [
    "# parsing DIMACS\n",
    "def parse_dimacs(filename):\n",
    "    with open(filename, 'r') as f:\n",
    "        lines = f.readlines()\n",
    "    clauses = []\n",
    "    for line in lines:\n",
    "        if line[0] == 'c':\n",
    "            continue\n",
    "        if line[0] == 'p':\n",
    "            n_vars = int(line.split()[2])\n",
    "            continue\n",
    "        clause = [int(x) for x in line.split()[:-1]]\n",
    "        clauses.append(clause)\n",
    "    return n_vars, clauses"
   ]
  },
  {
   "cell_type": "code",
   "execution_count": null,
   "metadata": {},
   "outputs": [],
   "source": [
    "import numpy\n",
    "nclauses = 10\n",
    "clause_size = \n",
    "np.zeros((len(clauses), ) , dtype=np.uint8)\n",
    "\n"
   ]
  },
  {
   "cell_type": "code",
   "execution_count": null,
   "metadata": {},
   "outputs": [],
   "source": [
    "def unit_prop(solution, clauses):\n",
    "    while True:\n",
    "        unit_clauses = [c for c in clauses if len(c) == 1]\n",
    "        if len(unit_clauses) == 0:\n",
    "            break\n",
    "        unit_clause = unit_clauses[0]\n",
    "        unit_literal = unit_clause[0]\n",
    "        solution[abs(unit_literal)] = 1 if unit_literal > 0 else 0\n",
    "        clauses = [c for c in clauses if unit_literal not in c]\n",
    "    return solution, clauses\n",
    "\n",
    "\n",
    "\n"
   ]
  },
  {
   "cell_type": "code",
   "execution_count": null,
   "metadata": {},
   "outputs": [],
   "source": [
    "def CDCL():\n",
    "    while True:\n",
    "        if [] in clauses: return UNSAT\n",
    "        elif in_conflict(): learn(); backtrack()\n",
    "        elif not free_vars: return SAT\n",
    "        elif should_propagate(): propagate()\n",
    "        elif should_simplify(): simplify()\n",
    "        elif should_restarty(): restart()\n",
    "        elif: should_prune(): prune*()\n",
    "        else:\n",
    "            var= chooce_var()\n",
    "            sign = choose_sign()\n",
    "            assign(var,sign)\n"
   ]
  },
  {
   "cell_type": "markdown",
   "metadata": {},
   "source": [
    "Metatarki\n",
    "https://z3prover.github.io/papers/z3internals.html\n",
    "\n",
    "https://github.com/sarsko/CreuSAT/blob/master/Friday/src/lib.rs Friday"
   ]
  },
  {
   "cell_type": "code",
   "execution_count": null,
   "metadata": {},
   "outputs": [],
   "source": [
    "assignment= list[bool]\n",
    "lit = tuple[int, bool]\n",
    "clause = list[lit]\n",
    "\n",
    "\n",
    "def eval(formula, assignment):\n",
    "    pass\n",
    "\n",
    "def solve(formula):\n",
    "    assignment = [[None] * f.num_vars]\n",
    "    ix = 0\n",
    "    while True:\n",
    "        if ix == f.num_vars:\n",
    "\n",
    "\n",
    "# \n",
    "assignment = 0\n",
    "\n",
    "while True:\n",
    "    assignment += 1\n",
    "    eval(formula, assignment)\n",
    "\n"
   ]
  },
  {
   "cell_type": "markdown",
   "metadata": {},
   "source": [
    "# SMT\n",
    "difference logic\n",
    "https://docs.scipy.org/doc/scipy/reference/generated/scipy.sparse.csgraph.shortest_path.html\n",
    "\n",
    "\n",
    "Engineering DPLL(T) + sautriation\n",
    "https://leodemoura.github.io/files/z3spc.pdf\n",
    "\n",
    "https://homepage.cs.uiowa.edu/~tinelli/papers/NieOT-JACM-06.pdf Solving SAT and SAT Modulo Theories: from an\n",
    "Abstract Davis-Putnam-Logemann-Loveland\n",
    "Procedure to DPLL(T)\n",
    "\n",
    "https://citeseerx.ist.psu.edu/document?repid=rep1&type=pdf&doi=45036ae8e05d71ea39253f863cfa270b6cdd9aa2 simplify paper\n",
    "\n"
   ]
  },
  {
   "cell_type": "code",
   "execution_count": 6,
   "metadata": {},
   "outputs": [
    {
     "ename": "TypeError",
     "evalue": "isinstance() arg 2 must be a type, a tuple of types, or a union",
     "output_type": "error",
     "traceback": [
      "\u001b[0;31m---------------------------------------------------------------------------\u001b[0m",
      "\u001b[0;31mTypeError\u001b[0m                                 Traceback (most recent call last)",
      "Cell \u001b[0;32mIn[6], line 34\u001b[0m\n\u001b[1;32m     31\u001b[0m \u001b[38;5;28;01mdef\u001b[39;00m \u001b[38;5;21mBoolSort\u001b[39m():\n\u001b[1;32m     32\u001b[0m     \u001b[38;5;28;01mreturn\u001b[39;00m BoolSortRef()\n\u001b[0;32m---> 34\u001b[0m \u001b[38;5;28;43misinstance\u001b[39;49m\u001b[43m(\u001b[49m\u001b[43mBoolSort\u001b[49m\u001b[43m(\u001b[49m\u001b[43m)\u001b[49m\u001b[43m,\u001b[49m\u001b[43mNamedTuple\u001b[49m\u001b[43m)\u001b[49m\n",
      "\u001b[0;31mTypeError\u001b[0m: isinstance() arg 2 must be a type, a tuple of types, or a union"
     ]
    }
   ],
   "source": [
    "from typing import NamedTuple\n",
    "\n",
    "\n",
    "ctx = {}\n",
    "\n",
    "#@dataclass\n",
    "class AstRef(NamedTuple):\n",
    "    #head : str\n",
    "    #sort : AstRef\n",
    "    #children : tuple[AstRef, ...]\n",
    "    def eq(self, other):\n",
    "        return self == other\n",
    "    def sexpr(self):\n",
    "        return \n",
    "\n",
    "\n",
    "\n",
    "class SortRef(AstRef):\n",
    "    name : str\n",
    "\n",
    "# smtlib3\n",
    "class TVarRef(SortRef):\n",
    "    pass\n",
    "\n",
    "class TForAll(SortRef):\n",
    "    pass\n",
    "\n",
    "    \n",
    "class FuncDeclRef(AstRef):\n",
    "    name : str\n",
    "    dom : tuple[SortRef, ...]\n",
    "    cod : SortRef\n",
    "    def range(self):\n",
    "        return self.cod\n",
    "    def arity(self):\n",
    "        return len(self.dom)\n",
    "    def __call__(self, *args):\n",
    "        return ExprRef(self, args)   \n",
    "\n",
    "class ExprRef(AstRef):\n",
    "    _decl : FuncDeclRef\n",
    "    _args : tuple[ExprRef, ...]\n",
    "    def decl(self):\n",
    "        return self._decl\n",
    "    def arg(self, i):\n",
    "        return self._args[i]\n",
    "    def children(self):\n",
    "        return self._args\n",
    "    def sort(self):\n",
    "        return self._decl.cod\n",
    "\n",
    "\n",
    "class BoolSortRef(SortRef):\n",
    "    name = \"Bool\"\n",
    "\n",
    "def BoolSort():\n",
    "    return BoolSortRef()\n",
    "\n",
    "class VarRef(AstRef):\n",
    "    ind : int\n",
    "#def QuantifierRef(ExprRef):\n",
    "\n",
    "\n",
    "#isinstance(BoolSort(),NamedTuple)\n",
    "\n",
    "def is_app(x):\n",
    "    return isinstance(x, ExprRef)\n",
    "def is_var(x): return isinstance(x, VarRef)\n",
    "def Function(name, *args):\n",
    "    return FuncDeclRef(name, args[:-1], args[-1])\n",
    "\n",
    "def And(*args):\n",
    "    AndDecl = Function(\"And\", *args)\n",
    "    #return AndDecl(*args)\n"
   ]
  },
  {
   "cell_type": "code",
   "execution_count": 9,
   "metadata": {},
   "outputs": [
    {
     "ename": "Z3Exception",
     "evalue": "Z3 application expected",
     "output_type": "error",
     "traceback": [
      "\u001b[0;31m---------------------------------------------------------------------------\u001b[0m",
      "\u001b[0;31mZ3Exception\u001b[0m                               Traceback (most recent call last)",
      "\u001b[0;32m/tmp/ipykernel_81342/923796132.py\u001b[0m in \u001b[0;36m?\u001b[0;34m()\u001b[0m\n\u001b[1;32m      1\u001b[0m \u001b[0;32mimport\u001b[0m \u001b[0mz3\u001b[0m\u001b[0;34m\u001b[0m\u001b[0;34m\u001b[0m\u001b[0m\n\u001b[1;32m      2\u001b[0m \u001b[0mx\u001b[0m\u001b[0;34m,\u001b[0m\u001b[0my\u001b[0m \u001b[0;34m=\u001b[0m \u001b[0mz3\u001b[0m\u001b[0;34m.\u001b[0m\u001b[0mBools\u001b[0m\u001b[0;34m(\u001b[0m\u001b[0;34m\"x y\"\u001b[0m\u001b[0;34m)\u001b[0m\u001b[0;34m\u001b[0m\u001b[0;34m\u001b[0m\u001b[0m\n\u001b[0;32m----> 3\u001b[0;31m \u001b[0mz3\u001b[0m\u001b[0;34m.\u001b[0m\u001b[0mForAll\u001b[0m\u001b[0;34m(\u001b[0m\u001b[0;34m[\u001b[0m\u001b[0mx\u001b[0m\u001b[0;34m,\u001b[0m\u001b[0my\u001b[0m\u001b[0;34m]\u001b[0m\u001b[0;34m,\u001b[0m \u001b[0mz3\u001b[0m\u001b[0;34m.\u001b[0m\u001b[0mAnd\u001b[0m\u001b[0;34m(\u001b[0m\u001b[0mx\u001b[0m\u001b[0;34m,\u001b[0m\u001b[0my\u001b[0m\u001b[0;34m)\u001b[0m\u001b[0;34m)\u001b[0m\u001b[0;34m.\u001b[0m\u001b[0mdecl\u001b[0m\u001b[0;34m(\u001b[0m\u001b[0;34m)\u001b[0m\u001b[0;34m\u001b[0m\u001b[0;34m\u001b[0m\u001b[0m\n\u001b[0m",
      "\u001b[0;32m~/.local/lib/python3.10/site-packages/z3/z3.py\u001b[0m in \u001b[0;36m?\u001b[0;34m(self)\u001b[0m\n\u001b[1;32m   1069\u001b[0m         \u001b[0;34m>>\u001b[0m\u001b[0;34m>\u001b[0m \u001b[0;34m(\u001b[0m\u001b[0ma\u001b[0m \u001b[0;34m+\u001b[0m \u001b[0;36m1\u001b[0m\u001b[0;34m)\u001b[0m\u001b[0;34m.\u001b[0m\u001b[0mdecl\u001b[0m\u001b[0;34m(\u001b[0m\u001b[0;34m)\u001b[0m\u001b[0;34m\u001b[0m\u001b[0;34m\u001b[0m\u001b[0m\n\u001b[1;32m   1070\u001b[0m         \u001b[0;34m+\u001b[0m\u001b[0;34m\u001b[0m\u001b[0;34m\u001b[0m\u001b[0m\n\u001b[1;32m   1071\u001b[0m         \"\"\"\n\u001b[1;32m   1072\u001b[0m         \u001b[0;32mif\u001b[0m \u001b[0mz3_debug\u001b[0m\u001b[0;34m(\u001b[0m\u001b[0;34m)\u001b[0m\u001b[0;34m:\u001b[0m\u001b[0;34m\u001b[0m\u001b[0;34m\u001b[0m\u001b[0m\n\u001b[0;32m-> 1073\u001b[0;31m             \u001b[0m_z3_assert\u001b[0m\u001b[0;34m(\u001b[0m\u001b[0mis_app\u001b[0m\u001b[0;34m(\u001b[0m\u001b[0mself\u001b[0m\u001b[0;34m)\u001b[0m\u001b[0;34m,\u001b[0m \u001b[0;34m\"Z3 application expected\"\u001b[0m\u001b[0;34m)\u001b[0m\u001b[0;34m\u001b[0m\u001b[0;34m\u001b[0m\u001b[0m\n\u001b[0m\u001b[1;32m   1074\u001b[0m         \u001b[0;32mreturn\u001b[0m \u001b[0mFuncDeclRef\u001b[0m\u001b[0;34m(\u001b[0m\u001b[0mZ3_get_app_decl\u001b[0m\u001b[0;34m(\u001b[0m\u001b[0mself\u001b[0m\u001b[0;34m.\u001b[0m\u001b[0mctx_ref\u001b[0m\u001b[0;34m(\u001b[0m\u001b[0;34m)\u001b[0m\u001b[0;34m,\u001b[0m \u001b[0mself\u001b[0m\u001b[0;34m.\u001b[0m\u001b[0mas_ast\u001b[0m\u001b[0;34m(\u001b[0m\u001b[0;34m)\u001b[0m\u001b[0;34m)\u001b[0m\u001b[0;34m,\u001b[0m \u001b[0mself\u001b[0m\u001b[0;34m.\u001b[0m\u001b[0mctx\u001b[0m\u001b[0;34m)\u001b[0m\u001b[0;34m\u001b[0m\u001b[0;34m\u001b[0m\u001b[0m\n",
      "\u001b[0;32m~/.local/lib/python3.10/site-packages/z3/z3.py\u001b[0m in \u001b[0;36m?\u001b[0;34m(cond, msg)\u001b[0m\n\u001b[1;32m    105\u001b[0m \u001b[0;32mdef\u001b[0m \u001b[0m_z3_assert\u001b[0m\u001b[0;34m(\u001b[0m\u001b[0mcond\u001b[0m\u001b[0;34m,\u001b[0m \u001b[0mmsg\u001b[0m\u001b[0;34m)\u001b[0m\u001b[0;34m:\u001b[0m\u001b[0;34m\u001b[0m\u001b[0;34m\u001b[0m\u001b[0m\n\u001b[1;32m    106\u001b[0m     \u001b[0;32mif\u001b[0m \u001b[0;32mnot\u001b[0m \u001b[0mcond\u001b[0m\u001b[0;34m:\u001b[0m\u001b[0;34m\u001b[0m\u001b[0;34m\u001b[0m\u001b[0m\n\u001b[0;32m--> 107\u001b[0;31m         \u001b[0;32mraise\u001b[0m \u001b[0mZ3Exception\u001b[0m\u001b[0;34m(\u001b[0m\u001b[0mmsg\u001b[0m\u001b[0;34m)\u001b[0m\u001b[0;34m\u001b[0m\u001b[0;34m\u001b[0m\u001b[0m\n\u001b[0m",
      "\u001b[0;31mZ3Exception\u001b[0m: Z3 application expected"
     ]
    }
   ],
   "source": [
    "import z3\n",
    "x,y = z3.Bools(\"x y\")\n",
    "z3.ForAll([x,y], z3.And(x,y)).decl()"
   ]
  },
  {
   "cell_type": "code",
   "execution_count": 34,
   "metadata": {},
   "outputs": [
    {
     "name": "stdout",
     "output_type": "stream",
     "text": [
      "Overwriting /tmp/test.lean\n"
     ]
    }
   ],
   "source": [
    "%%file /tmp/test.lean\n",
    "\n",
    "inductive Expr : Type\n",
    "| UVar : String -> Expr\n",
    "| App : String -> List Expr -> Expr\n",
    "\n",
    "deriving instance BEq, Hashable, Inhabited, Repr for Expr\n",
    "\n",
    "def main : IO Unit :=\n",
    "    do\n",
    "        IO.println \"Hello, world!\"\n",
    "        IO.println \"hi\"\n",
    "        IO.println (repr (Expr.App \"c\" []))"
   ]
  },
  {
   "cell_type": "code",
   "execution_count": 35,
   "metadata": {},
   "outputs": [
    {
     "name": "stdout",
     "output_type": "stream",
     "text": [
      "Hello, world!\n",
      "hi\n",
      "Expr.App \"c\" []\n"
     ]
    }
   ],
   "source": [
    "!lean --run /tmp/test.lean"
   ]
  }
 ],
 "metadata": {
  "kernelspec": {
   "display_name": "Python 3",
   "language": "python",
   "name": "python3"
  },
  "language_info": {
   "codemirror_mode": {
    "name": "ipython",
    "version": 3
   },
   "file_extension": ".py",
   "mimetype": "text/x-python",
   "name": "python",
   "nbconvert_exporter": "python",
   "pygments_lexer": "ipython3",
   "version": "3.10.12"
  }
 },
 "nbformat": 4,
 "nbformat_minor": 2
}
