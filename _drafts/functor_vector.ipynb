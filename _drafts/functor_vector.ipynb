{
 "cells": [
  {
   "cell_type": "markdown",
   "id": "140370e0",
   "metadata": {},
   "source": [
    "\n",
    "Dict vects\n",
    "\n",
    "A return to form.\n",
    "\n",
    "Birdtracks\n",
    "Feynman diagrams\n",
    "\n",
    "Piponi style.\n",
    "Free style. explicit things as indices is the point. Don't compile down to integers\n",
    "\n",
    "2Vect\n",
    "2017 - 2020\n",
    "\n",
    "Preskill notes https://www.preskill.caltech.edu/ph219/topological.pdf\n",
    "\n",
    "https://repository.library.brown.edu/storage/bdr:733585/PDF/\n",
    "\n",
    "http://math.ucr.edu/home/baez/rosetta/rose3.pdf rosetta stone\n",
    "\n",
    "https://www.philipzucker.com/functor-vector-basis/\n",
    "https://www.philipzucker.com/functor-vector-number3/\n",
    "https://www.philipzucker.com/functors-and-vectors/\n",
    "\n",
    "Linear relations and circuits https://www.philipzucker.com/linear-relation-algebra-of-circuits-with-hmatrix/\n",
    "\n",
    "purescript libs?\n",
    "\n",
    "https://www.philipzucker.com/a-touch-of-topological-quantum-computation-in-haskell-pt-i/\n",
    "\n",
    "Just going through my posts and extracting code might be interesting.\n",
    "\n",
    "https://en.wikipedia.org/wiki/Monoidal_category\n",
    "\n",
    "enriched? dependent families of vector spaces (?)\n",
    "https://en.wikipedia.org/wiki/Tensor_product\n",
    "\n",
    "\n",
    "https://arxiv.org/abs/0707.1889  Non-Abelian Anyons and Topological Quantum Computation\n",
    "\n",
    "https://www.sciencedirect.com/science/article/abs/pii/S0370157324003302 Circuit realization of topological physics\n",
    "\n",
    "\n",
    "abelian categories\n",
    "string rewriting and quantum operators?\n",
    "KB does give us power over infinite domains. To what degree can we solve infinite D linear systems using this?\n",
    "\n",
    "\n",
    "\n",
    "varitational methods\n",
    "hierarchical matrices\n",
    "\n",
    "https://nucleartalent.github.io/ManyBody2018/doc/pub/secondquant/html/secondquant-bs.html\n",
    "https://github.com/jhauschild/lecture_comp_methods\n",
    "\n",
    "https://www.philipzucker.com/many-body-physics-part-1/"
   ]
  },
  {
   "cell_type": "markdown",
   "id": "03cf008b",
   "metadata": {},
   "source": [
    "I have the finset category post https://www.philipzucker.com/computational-category-theory-in-python-i-dictionaries-for-finset/ and the https://www.philipzucker.com/frozenset_dtt/\n",
    "\n",
    "https://www.philipzucker.com/computational-category-theory-in-python-ii-numpy-for-finvect/ is to ?\n",
    "\n",
    "\n",
    "Linear types? `i : Ind, j : Ind |- 0.7 , (i,j) : Ind2`\n",
    "represents `\\i j -> [(0.7, (i,j))]` in some sense.\n",
    "\\i -> [(i,i)] is a linear function though. Not a good linear type... Hmm.\n",
    "\n",
    "\n",
    "Remora dependent types.\n",
    "Bounded Model check them?\n",
    "\n"
   ]
  },
  {
   "cell_type": "code",
   "execution_count": null,
   "id": "eb0e2ed0",
   "metadata": {},
   "outputs": [
    {
     "data": {
      "text/plain": [
       "{'foo': {'bar': 1, 'biz': 2}}"
      ]
     },
     "execution_count": 22,
     "metadata": {},
     "output_type": "execute_result"
    }
   ],
   "source": [
    "from dataclasses import dataclass\n",
    "\n",
    "class Vect(dict):\n",
    "    def __add__(self, other):\n",
    "        res = Vect(self)\n",
    "        for k,v in other.items():\n",
    "            res[k] += v\n",
    "        return res\n",
    "    def __getitem__(self, k):\n",
    "        return self.get(k, 0)\n",
    "    def __hash__(self):\n",
    "        return hash(tuple(sorted(self.items())))\n",
    "\n",
    "#type LinOp = Vect([I], Vect[J])\n",
    "\n",
    "# Quotient\n",
    "\n",
    "def Kron(v : Vect, w : Vect) -> Vect:\n",
    "    return Vect({(i,j) : v1 * v2 for i, v1 in v.items() for j, v2 in w.items()})\n",
    "def inj1(v : Vect) -> Vect:\n",
    "    return Vect({(\"inl\", i) : v1 for i, v1 in v.items()})\n",
    "def inj2(v : Vect) -> Vect:\n",
    "    return Vect({(\"inr\", i) : v1 for i, v1 in v.items()})\n",
    "#def DSum(v : Vect, w : Vect) -> Vect: #?\n",
    "#    return inj1(v) + inj2(w)\n",
    "\n",
    "def lassoc(v):\n",
    "    return Vect({((i,j), k) : v1 for (i, (j, k)), v1 in v.items()})\n",
    "def rassoc(v):\n",
    "    return Vect({(i, (j, k)) : v1 for ((i, j), k), v1 in v.items()})\n",
    "\n",
    "\n",
    "def Kron2(v : Vect, w : Vect) -> Vect: # on the nose monoidal\n",
    "    return Vect({ i + j : v1 * v2 for i, v1 in v.items() for j, v2 in w.items()})\n",
    "\n",
    "v = Vect()     \n",
    "v[1] = 1 + 1.j\n",
    "w = Vect({2 : 3})\n",
    "v + v + v + w + v\n",
    "\n",
    "set([v,v,w, v + w])\n",
    "\n",
    "Kron(v, w)\n",
    "\n",
    "\n",
    "# nesting form. Trie vects\n",
    "Vect({\"foo\" : Vect({\"bar\" : 1})}) + Vect({\"foo\" : Vect({\"biz\" : 2})})\n"
   ]
  },
  {
   "cell_type": "code",
   "execution_count": null,
   "id": "5c272612",
   "metadata": {},
   "outputs": [
    {
     "data": {
      "text/plain": [
       "{i: {1/i}}"
      ]
     },
     "execution_count": 28,
     "metadata": {},
     "output_type": "execute_result"
    }
   ],
   "source": [
    "import sympy\n",
    "i,j,k,n = sympy.symbols(\"i j k n\")\n",
    "Vect({(\"a\", i) : {1/ i}})\n",
    "\n",
    "def dot(v,w):\n",
    "    return sympy.summation(v * w, (i, 0, sympy.oo)) for i,v in v.items() for j,w in w.items()\n",
    "Vect({i : {1/ i}})\n",
    "\n",
    "class Vect():\n",
    "    bound: list[Symbol]\n",
    "    terms: \n",
    "\n",
    "def compress(v):\n",
    "    new = Vect()\n",
    "    for k, v1 in v.items():\n",
    "        for k1 in v1.keys():\n",
    "            if (k - k1).is_zero"
   ]
  },
  {
   "cell_type": "code",
   "execution_count": null,
   "id": "e24557cb",
   "metadata": {},
   "outputs": [
    {
     "data": {
      "text/plain": [
       "array([[-2.,  1.,  0., ...,  0.,  0.,  0.],\n",
       "       [ 1., -2.,  1., ...,  0.,  0.,  0.],\n",
       "       [ 0.,  1., -2., ...,  0.,  0.,  0.],\n",
       "       ...,\n",
       "       [ 0.,  0.,  0., ..., -2.,  1.,  0.],\n",
       "       [ 0.,  0.,  0., ...,  1., -2.,  1.],\n",
       "       [ 0.,  0.,  0., ...,  0.,  1., -2.]], shape=(100, 100))"
      ]
     },
     "execution_count": 25,
     "metadata": {},
     "output_type": "execute_result"
    }
   ],
   "source": [
    "import numpy as np\n",
    "from scipy.linalg import toeplitz\n",
    "N = 100\n",
    "dx = 1.0 / N\n",
    "row0 = np.zeros(N)\n",
    "row0[0] = -2\n",
    "row0[1] = 1\n",
    "K = toeplitz(row0)\n",
    "K\n",
    "\n",
    "import scipy.optimize as opt\n",
    "# variational method.\n",
    "#opt.minimize( lambda v: v @ K @ v + v * v )\n"
   ]
  }
 ],
 "metadata": {
  "kernelspec": {
   "display_name": ".venv",
   "language": "python",
   "name": "python3"
  },
  "language_info": {
   "codemirror_mode": {
    "name": "ipython",
    "version": 3
   },
   "file_extension": ".py",
   "mimetype": "text/x-python",
   "name": "python",
   "nbconvert_exporter": "python",
   "pygments_lexer": "ipython3",
   "version": "3.12.3"
  }
 },
 "nbformat": 4,
 "nbformat_minor": 5
}
