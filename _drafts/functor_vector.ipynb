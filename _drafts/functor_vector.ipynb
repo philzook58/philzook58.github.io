{
 "cells": [
  {
   "cell_type": "markdown",
   "id": "140370e0",
   "metadata": {},
   "source": [
    "A return to form.\n",
    "\n",
    "Birdtracks\n",
    "Feynman diagrams\n",
    "\n",
    "Piponi style.\n",
    "Free style. explicit things as indices is the point. Don't compile down to integers\n",
    "\n",
    "2Vect\n",
    "2017 - 2020\n",
    "\n",
    "https://www.philipzucker.com/functor-vector-basis/\n",
    "https://www.philipzucker.com/functor-vector-number3/\n",
    "https://www.philipzucker.com/functors-and-vectors/\n",
    "\n",
    "Linear relations and circuits https://www.philipzucker.com/linear-relation-algebra-of-circuits-with-hmatrix/\n",
    "\n",
    "purescript libs?\n",
    "\n",
    "https://www.philipzucker.com/a-touch-of-topological-quantum-computation-in-haskell-pt-i/\n",
    "\n",
    "Just going through my posts and extracting code might be interesting.\n",
    "\n"
   ]
  },
  {
   "cell_type": "code",
   "execution_count": null,
   "id": "eb0e2ed0",
   "metadata": {},
   "outputs": [
    {
     "data": {
      "text/plain": [
       "{'foo': {'bar': 1, 'biz': 2}}"
      ]
     },
     "execution_count": 22,
     "metadata": {},
     "output_type": "execute_result"
    }
   ],
   "source": [
    "from dataclasses import dataclass\n",
    "\n",
    "class Vect(dict):\n",
    "    def __add__(self, other):\n",
    "        res = Vect(self)\n",
    "        for k,v in other.items():\n",
    "            res[k] += v\n",
    "        return res\n",
    "    def __getitem__(self, k):\n",
    "        return self.get(k, 0)\n",
    "    def __hash__(self):\n",
    "        return hash(tuple(sorted(self.items())))\n",
    "\n",
    "#type LinOp = Vect([I], Vect[J])\n",
    "\n",
    "\n",
    "def Kron(v : Vect, w : Vect) -> Vect:\n",
    "    return Vect({(i,j) : v1 * v2 for i, v1 in v.items() for j, v2 in w.items()})\n",
    "def inj1(v : Vect) -> Vect:\n",
    "    return Vect({(\"inl\", i) : v1 for i, v1 in v.items()})\n",
    "def inj2(v : Vect) -> Vect:\n",
    "    return Vect({(\"inr\", i) : v1 for i, v1 in v.items()})\n",
    "#def DSum(v : Vect, w : Vect) -> Vect: #?\n",
    "#    return inj1(v) + inj2(w)\n",
    "\n",
    "def lassoc(v):\n",
    "    return Vect({((i,j), k) : v1 for (i, (j, k)), v1 in v.items()})\n",
    "def rassoc(v):\n",
    "    return Vect({(i, (j, k)) : v1 for ((i, j), k), v1 in v.items()})\n",
    "\n",
    "\n",
    "def Kron2(v : Vect, w : Vect) -> Vect: # on the nose monoidal\n",
    "    return Vect({ i + j : v1 * v2 for i, v1 in v.items() for j, v2 in w.items()})\n",
    "\n",
    "v = Vect()     \n",
    "v[1] = 1 + 1.j\n",
    "w = Vect({2 : 3})\n",
    "v + v + v + w + v\n",
    "\n",
    "set([v,v,w, v + w])\n",
    "\n",
    "Kron(v, w)\n",
    "\n",
    "\n",
    "# nesting form. Trie vects\n",
    "Vect({\"foo\" : Vect({\"bar\" : 1})}) + Vect({\"foo\" : Vect({\"biz\" : 2})})\n"
   ]
  }
 ],
 "metadata": {
  "kernelspec": {
   "display_name": ".venv",
   "language": "python",
   "name": "python3"
  },
  "language_info": {
   "codemirror_mode": {
    "name": "ipython",
    "version": 3
   },
   "file_extension": ".py",
   "mimetype": "text/x-python",
   "name": "python",
   "nbconvert_exporter": "python",
   "pygments_lexer": "ipython3",
   "version": "3.12.3"
  }
 },
 "nbformat": 4,
 "nbformat_minor": 5
}
