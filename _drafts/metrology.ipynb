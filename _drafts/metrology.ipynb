{
 "cells": [
  {
   "cell_type": "markdown",
   "metadata": {},
   "source": [
    "Units.\n",
    "Dimensional Analysis\n",
    "Buckingham Pi theorem\n",
    "\n",
    "It's surprisingly like euclidean geometry.\n",
    "Scales let us compare masses in ratios to each other via comparing arm lengths. Only to degree that local gravitational field is constant.\n",
    "\n",
    "Kibble Scale\n",
    "\n",
    "Josephson Effect\n",
    "\n",
    "Quantum Hall Effect\n",
    "\n",
    "NIST\n",
    "\n",
    "Precision measurement\n"
   ]
  },
  {
   "cell_type": "markdown",
   "metadata": {},
   "source": [
    "# experiment\n",
    "physics experiments for adults\n",
    "\n",
    "building scientific apparatus\n",
    "physics exp[eirment with arduino and smartphoners]\n"
   ]
  },
  {
   "cell_type": "markdown",
   "metadata": {},
   "source": [
    "# Kibble Balance\n",
    "Watt Balance\n",
    "\n",
    "\n",
    "2025-01-06\n",
    "Speaker coils\n",
    "Will slumped at 9.\n",
    "Sheperd's pi\n",
    "Started balance base out of cedar\n",
    "Razor edge\n",
    "\n",
    "Should the coils be on the arm or not?\n",
    "Pushing magnet ~mV ~mA. 1 m/s.\n",
    "The coil did twitch.\n",
    "\n",
    "What is expected force?\n",
    "\n",
    "Does it balance? Is there a force minimnum?\n",
    "\n",
    "\n",
    "\n",
    "\n",
    "\n",
    "\n",
    "\n"
   ]
  }
 ],
 "metadata": {
  "language_info": {
   "name": "python"
  }
 },
 "nbformat": 4,
 "nbformat_minor": 2
}
