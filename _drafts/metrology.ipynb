{
 "cells": [
  {
   "cell_type": "markdown",
   "metadata": {},
   "source": [
    "Units.\n",
    "Dimensional Analysis\n",
    "Buckingham Pi theorem\n",
    "\n",
    "It's surprisingly like euclidean geometry.\n",
    "Scales let us compare masses in ratios to each other via comparing arm lengths. Only to degree that local gravitational field is constant.\n",
    "\n",
    "Kibble Scale\n",
    "\n",
    "Josephson Effect\n",
    "\n",
    "Quantum Hall Effect\n",
    "\n",
    "NIST\n",
    "\n",
    "Precision measurement\n"
   ]
  },
  {
   "cell_type": "markdown",
   "metadata": {},
   "source": [
    "# experiment\n"
   ]
  }
 ],
 "metadata": {
  "language_info": {
   "name": "python"
  }
 },
 "nbformat": 4,
 "nbformat_minor": 2
}
