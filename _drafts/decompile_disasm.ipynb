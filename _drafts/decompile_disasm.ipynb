{
 "cells": [
  {
   "cell_type": "markdown",
   "metadata": {},
   "source": [
    "\n",
    "Datalog dissassembly https://github.com/GrammaTech/ddisasm\n",
    "\n",
    "ctadl https://github.com/sandialabs/ctadl\n",
    "\n",
    "goblin\n",
    "\n",
    "\n",
    "/home/philip/philzook58.github.io/_drafts/old/2024-01/2023-01-27-binary-metadata.md\n",
    "/home/philip/philzook58.github.io/_notes/CyberSecurity/CTF_stuff.md\n",
    "/home/philip/philzook58.github.io/_notes/CyberSecurity/ghidra.md\n",
    "/home/philip/philzook58.github.io/_notes/CyberSecurity/angr.md\n",
    "/home/philip/philzook58.github.io/_notes/CyberSecurity/bap.md\n",
    "/home/philip/philzook58.github.io/_notes/Docket/binary-patching.md\n",
    "/home/philip/philzook58.github.io/_posts/2022-04-19-dwarf-patching.md\n",
    "/home/philip/philzook58.github.io/_drafts/old/2024-07/typecheck_pcode_DATALLLLLLLLLLOG.IPYNB\n",
    "/home/philip/philzook58.github.io/_drafts/old/2024-12/egraph_compiler_talk.md\n",
    "\n",
    "\n",
    "\n",
    "\n",
    "VAX assembly\n",
    "masm\n",
    "\n",
    "Tsoding on FASM https://www.youtube.com/watch?v=hzjBdIJ9Ycs"
   ]
  },
  {
   "cell_type": "markdown",
   "metadata": {},
   "source": [
    "# Decompilation as macrodisassembly\n",
    "\n",
    "Refolding facilities? Rewrite\n",
    "\n",
    "\n",
    "Separation logic?\n",
    "\n",
    "Partial mwerge operation\n",
    "valid : Array Bool\n",
    "mem \n",
    "merge = kd.define(\"merge\", smt.Lambda([i], kd.cond(\n",
    "    (valid1[i] & valid2[i], undefined(a,b,c,d))\n",
    "    (valid[i])\n",
    ")"
   ]
  },
  {
   "cell_type": "code",
   "execution_count": null,
   "metadata": {},
   "outputs": [],
   "source": [
    "from kdrag.all import *\n",
    "import kdrag.theories.bitvec as bv\n",
    "mem = smt.Array(\"mem\", smt.BitVecSort(64), smt.BitVecSort(8))\n",
    "\n",
    "# Consider the loaded binary program.\n",
    "smt.Store(smt.Store(mem, 0,0), 1,1)\n",
    "\n",
    "# labels can be abstracted as names\n",
    "Label = smt.BitVecSort(64)\n",
    "myentry = kd.define(\"myentry\", [], smt.BitVecVal(0,64))\n",
    "\n",
    "#kd.reflect.dt(\"type Reg = RAX | RBX | RCX | RDX | RSI | RDI | RSP | RBP | RIP\")\n",
    "Reg = kd.Enum(\"Reg\", [\"RAX\", \"RBX\", \"RCX\", \"RDX\", \"RSI\", \"RDI\", \"RSP\", \"RBP\", \"RIP\"])\n",
    "\n",
    "src,dst = bv.BitVec(\"src\",64), bv.BitVec(\"dst\",64)\n",
    "# assembler\n",
    "movRR = kd.define(\"movRR\", [dst,src], smt.Concat(smt.BitVecVal(0x48,8),smt.BitVecVal(0x89,8),dst,src))\n",
    "#kd.define(\"for1\", [])\n",
    "\n"
   ]
  },
  {
   "cell_type": "markdown",
   "metadata": {},
   "source": [
    "\n",
    "# 2024-05\n",
    "\n",
    "https://ssrg-vt.github.io/FoxDec/\n",
    "Cifuentes\n",
    "\n",
    "Loop restructuring. Is there a declarative formulation? Connection to tree decomposition\n",
    "\n",
    "Dead stuff elimination\n",
    "\n",
    "type reconstruction. Decompiling FOL to Typed logic. Typed assembly\n",
    "branches are bools.\n",
    "\n",
    "Bisimulation driven?\n",
    "Macro decompilation. Contextual?"
   ]
  }
 ],
 "metadata": {
  "kernelspec": {
   "display_name": "philzook58.github.io",
   "language": "python",
   "name": "python3"
  },
  "language_info": {
   "codemirror_mode": {
    "name": "ipython",
    "version": 3
   },
   "file_extension": ".py",
   "mimetype": "text/x-python",
   "name": "python",
   "nbconvert_exporter": "python",
   "pygments_lexer": "ipython3",
   "version": "3.12.3"
  }
 },
 "nbformat": 4,
 "nbformat_minor": 2
}
