{
 "cells": [
  {
   "cell_type": "markdown",
   "metadata": {},
   "source": [
    "\n",
    "functional logic programming\n",
    "https://dl.acm.org/doi/pdf/10.1145/1721654.1721675 review article\n",
    "\n",
    "flattening. append(x,y) = z --> append(x,y,z) Different orderings of flattenings make different eval strategies\n",
    "`t = e` :- \n",
    "\n",
    "flp minikanren?\n",
    "curry\n",
    "verse\n",
    "\n",
    "lambda flp?\n",
    "\n",
    "narrowing\n",
    "residuization\\\n"
   ]
  },
  {
   "cell_type": "code",
   "execution_count": 1,
   "metadata": {},
   "outputs": [
    {
     "name": "stderr",
     "output_type": "stream",
     "text": [
      "Kernel starting.\n",
      "user break\n",
      "  context...:\n",
      "   /home/philip/.local/share/racket/8.13/pkgs/iracket/private/jupyter.rkt:466:0: run-worker\n",
      "   /home/philip/.local/share/racket/8.13/pkgs/iracket/private/jupyter.rkt:321:0: call-with-services\n",
      "   /home/philip/.local/share/racket/8.13/pkgs/iracket/iracket.rkt:12:0: start-kernel\n",
      "   body of (submod \"/home/philip/.local/share/racket/8.13/pkgs/iracket/iracket.rkt\" main)\n"
     ]
    },
    {
     "name": "stdout",
     "output_type": "stream",
     "text": [
      "[{'text/html': '<code>2</code>', 'text/plain': '2'}]\n"
     ]
    }
   ],
   "source": [
    "from jupyter_client import KernelManager\n",
    "import time\n",
    "\n",
    "# Start the kernel\n",
    "km = KernelManager(kernel_name='racket')  # Change 'ir' to the appropriate kernel name\n",
    "km.start_kernel()\n",
    "kc = km.client()\n",
    "kc.start_channels()\n",
    "\n",
    "# Define a function to send code to the kernel and get the result\n",
    "def run_code_in_kernel(code):\n",
    "    kc.execute(code)\n",
    "    \n",
    "    # Wait for the execute_reply message\n",
    "    reply = kc.get_shell_msg(timeout=5)\n",
    "    \n",
    "    if reply['content']['status'] != 'ok':\n",
    "        raise Exception('Kernel error: {}'.format(reply['content']))\n",
    "\n",
    "    # Initialize a list to capture output messages\n",
    "    outputs = []\n",
    "\n",
    "    # Poll the IOPub channel for messages\n",
    "    while True:\n",
    "        try:\n",
    "            msg = kc.get_iopub_msg(timeout=5)\n",
    "            msg_type = msg['msg_type']\n",
    "            content = msg['content']\n",
    "            \n",
    "            if msg_type == 'execute_result' or msg_type == 'display_data':\n",
    "                outputs.append(content['data'])\n",
    "            elif msg_type == 'stream':\n",
    "                outputs.append(content['text'])\n",
    "            elif msg_type == 'error':\n",
    "                outputs.append({\n",
    "                    'status': 'error',\n",
    "                    'ename': content['ename'],\n",
    "                    'evalue': content['evalue'],\n",
    "                    'traceback': content['traceback']\n",
    "                })\n",
    "            # Break the loop if we receive a status: idle message\n",
    "            if msg_type == 'status' and content['execution_state'] == 'idle':\n",
    "                break\n",
    "        except Exception as e:\n",
    "            break\n",
    "    \n",
    "    return outputs\n",
    "\n",
    "# Example: Running R code\n",
    "code = '(+ 1 1)'\n",
    "result = run_code_in_kernel(code)\n",
    "print(result)\n",
    "\n",
    "# Don't forget to stop the kernel when done\n",
    "kc.stop_channels()\n",
    "km.shutdown_kernel()\n"
   ]
  },
  {
   "cell_type": "markdown",
   "metadata": {},
   "source": []
  }
 ],
 "metadata": {
  "kernelspec": {
   "display_name": "Python 3",
   "language": "python",
   "name": "python3"
  },
  "language_info": {
   "codemirror_mode": {
    "name": "ipython",
    "version": 3
   },
   "file_extension": ".py",
   "mimetype": "text/x-python",
   "name": "python",
   "nbconvert_exporter": "python",
   "pygments_lexer": "ipython3",
   "version": "3.10.12"
  }
 },
 "nbformat": 4,
 "nbformat_minor": 2
}
