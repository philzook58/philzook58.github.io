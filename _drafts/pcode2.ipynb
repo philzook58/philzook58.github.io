{
 "cells": [
  {
   "cell_type": "markdown",
   "id": "bc65f624",
   "metadata": {},
   "source": [
    "Fold up definitions to make more readable\n",
    "axiom schema\n",
    "\n",
    "write_data assembly example.\n",
    "\n",
    "sym exec\n",
    "datalog disassembly, abstract interpretations. control flow recovery\n",
    "fill out more instructions in ghidra\n",
    "\n",
    "print to rust? print to C?\n",
    "\n",
    "\n",
    "rpython ghidra? symqemu style?\n",
    "\n"
   ]
  },
  {
   "cell_type": "markdown",
   "id": "0a584f0c",
   "metadata": {},
   "source": [
    "# dwarf\n",
    "pyefltools maybe\n",
    "llvm has a dwarg interpreter in it\n",
    "https://github.com/llvm/llvm-project/blob/main/lldb/packages/Python/lldbsuite/test/lldbdwarf.py\n",
    "https://github.com/llvm/llvm-project/blob/f989db5745b88cd72f2af7f67ff96071f5059922/lldb/source/Expression/DWARFExpression.cpp#L881\n",
    "https://github.com/angr/angr/issues/2402\n",
    "https://docs.angr.io/en/stable/advanced-topics/debug_var.html\n",
    "https://api.angr.io/projects/cle/en/latest/api/backends/elf.html#cle.backends.elf.variable.Variable\n",
    "https://github.com/angr/cle/blob/master/cle/backends/elf/variable.py\n",
    "\n",
    "\n",
    "dwarf represents translation validation targets. Could automatically discharge \n"
   ]
  }
 ],
 "metadata": {
  "language_info": {
   "name": "python"
  }
 },
 "nbformat": 4,
 "nbformat_minor": 5
}
