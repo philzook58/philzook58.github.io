{
 "cells": [
  {
   "cell_type": "markdown",
   "id": "49b1eff0",
   "metadata": {},
   "source": [
    "https://github.com/ftsrg/chc2c\n",
    "extraction\n",
    "\n"
   ]
  },
  {
   "cell_type": "code",
   "execution_count": null,
   "id": "6c2cf0dd",
   "metadata": {},
   "outputs": [],
   "source": [
    "# diff"
   ]
  },
  {
   "cell_type": "markdown",
   "id": "aaa1ff0d",
   "metadata": {},
   "source": [
    "# pysmt\n",
    "I never _really_ gave pysmt a fair shake.\n",
    "It doesn't support lambda. That is a pretty tough blow\n",
    "\n"
   ]
  },
  {
   "cell_type": "code",
   "execution_count": 31,
   "id": "6c807787",
   "metadata": {},
   "outputs": [
    {
     "data": {
      "text/plain": [
       "False"
      ]
     },
     "execution_count": 31,
     "metadata": {},
     "output_type": "execute_result"
    }
   ],
   "source": [
    "from pysmt.shortcuts import Symbol, And, Not, is_sat\n",
    "\n",
    "varA = Symbol(\"A\") # Default type is Boolean\n",
    "varB = Symbol(\"B\")\n",
    "f = And(varA, Not(varB))\n",
    "is_sat(f)\n",
    "g = f.substitute({varB: varA})\n",
    "is_sat(g)"
   ]
  },
  {
   "cell_type": "markdown",
   "id": "ca139021",
   "metadata": {},
   "source": [
    "# lambda unify\n"
   ]
  },
  {
   "cell_type": "code",
   "execution_count": null,
   "id": "0fc66f95",
   "metadata": {},
   "outputs": [],
   "source": [
    "def unify_huet():\n",
    "    todo = []\n",
    "    frozen = [] #flexflex?\n",
    "    subst = {}\n",
    "    while True:\n",
    "        while todo:\n",
    "            current = todo.pop()\n",
    "            # do unification.\n",
    "\n",
    "        for p in frozen:\n",
    "            if flexflex(p):\n",
    "                continue\n",
    "            else:\n",
    "                frozen.remove(p)\n",
    "                todo.append(p)\n",
    "                break\n",
    "        else:\n",
    "            return subst, frozen\n",
    "    \n",
    "        \n",
    "\n",
    "    "
   ]
  },
  {
   "cell_type": "markdown",
   "id": "f54be818",
   "metadata": {},
   "source": [
    "# GAT / refinement\n",
    "see types.ipynb also\n",
    "\n",
    "\n",
    "The property of being a proper telescoping mapping requires an smt solve?\n",
    "\n",
    "why bother teelscoping? Isabelle pure has no telescoping effect? CVody says that helps build model but did not elaborate\n",
    "https://argo.matf.bg.ac.rs/events/2009/fatpa2009/slides/Wenzel_PureLogicalReasoning%20in%20Isabelle-Isar.pdf\n",
    "\n",
    "https://arxiv.org/pdf/1911.00399 hott in pure\n",
    "https://arxiv.org/pdf/cs/9301105 pualson foundation of generic theorem prover\n",
    "\n",
    "\n",
    "So a conditional judgement can be seen as a fiber just as much as types can (?)\n",
    "A /\\ B /\\ C ===> D\n",
    "\n",
    "|- goal(p)  as a marker. Always provable goal(p) == True\n",
    " \n",
    "unify(pf1, pf2)\n",
    "\n",
    "Rather than an equalizer, a pullback. t1 as a substituion mapping anyway?\n",
    "G1 -> G2\n",
    "G3 -> G2\n",
    "Two telescope mappings that go to common context G2. Can I build a pullback?\n",
    "\n",
    "\n"
   ]
  },
  {
   "cell_type": "code",
   "execution_count": null,
   "id": "4b8d0d98",
   "metadata": {},
   "outputs": [
    {
     "name": "stdout",
     "output_type": "stream",
     "text": [
      "[y] [y >= -1] y + 1 >= 0\n",
      "[y] [y >= -1] y + 10 >= y + 1\n"
     ]
    },
    {
     "data": {
      "text/plain": [
       "[|- ForAll(y, Implies(And(y >= -1), y + 1 >= 0)),\n",
       " |- ForAll(y, Implies(And(y >= -1), y + 10 >= y + 1))]"
      ]
     },
     "execution_count": 28,
     "metadata": {},
     "output_type": "execute_result"
    }
   ],
   "source": [
    "from dataclasses import dataclass\n",
    "\n",
    "@dataclass\n",
    "class Telescope():\n",
    "    \"\"\" x | A(x), y | B(x,y), ... \"\"\"\n",
    "    vs : list[smt.ExprRef]\n",
    "    preds : list[smt.BoolRef]\n",
    "    # preds : list[kd.Proof] ? |- ForAll([x], P1), ForAll([x,y], P1 => P2), ...  \n",
    "    # No but the context should be proof recievining, not proof producing.\n",
    "\n",
    "    def expr(self, P):\n",
    "        print(self.vs, self.preds, P)\n",
    "        return kd.QForAll(self.vs, smt.And(self.preds), P)\n",
    "    \n",
    "\n",
    "\n",
    "x,y,z = smt.Reals(\"x y z\")\n",
    "Telescope([x,y], [x > 0, y > x])\n",
    "\n",
    "@dataclass\n",
    "class TeleSubst():\n",
    "    dom : Telescope\n",
    "    cod : Telescope\n",
    "    subst: dict[smt.ExprRef, smt.ExprRef]\n",
    "    # pf : list[smt.Proof] # same length as dom.preds\n",
    "\n",
    "    def check(self,by=[]):\n",
    "        pfs = []\n",
    "        pfs.extend(by)\n",
    "        for P in self.dom.preds:\n",
    "            pfs.append(kd.prove(self.cod.expr(smt.substitute(P, *self.subst.items())), by=pfs))\n",
    "        return pfs\n",
    "    def __call__(self, P):\n",
    "        # P is in context dom\n",
    "        return smt.substitute(P, *self.subst.items())\n",
    "    def __matmul__(self, other):\n",
    "        # substutition forms a category\n",
    "        assert self.dom == other.cod\n",
    "        TeleSubst(other.dom, self.cod, {smt.substitute(...)})\n",
    "\n",
    "# allows subtype weakening.\n",
    "# if it only allowed syntactic substitutions, then we don't really need the proofs\n",
    "\n",
    "ctx1 = Telescope([x,z], [x >= 0, z >= x])\n",
    "ctx2 = Telescope([y], [y >= -1])\n",
    "TeleSubst(ctx1, ctx2, {x: y + 1, z : y + 10}).check()\n",
    "\n",
    "\n",
    "# is there a unification procedure for making TeleSubst?\n",
    "# G1 |- t1 =? t2 -| G2\n",
    "# result is G1 -> G2 substitution? It's assymmetric?\n",
    "# doesn't seem like the right shape.\n",
    "\n"
   ]
  },
  {
   "cell_type": "code",
   "execution_count": null,
   "id": "5b9f6a8f",
   "metadata": {},
   "outputs": [
    {
     "data": {
      "text/html": [
       "&#8870;ForAll([y, z], And(z == z, y + 1 == y + 1))"
      ],
      "text/plain": [
       "|- ForAll([y, z], And(z == z, y + 1 == y + 1))"
      ]
     },
     "execution_count": 19,
     "metadata": {},
     "output_type": "execute_result"
    }
   ],
   "source": [
    "from kdrag.all import *\n",
    "\n",
    "def subst(pf : kd.Proof, vs : list[smt.ExprRef], subst : list[smt.ExprRef]) -> kd.Proof:\n",
    "    vs1, ab = kd.kernel.herb(smt.ForAll(vs, smt.substitute_vars(pf.thm.body(), *reversed(subst))))\n",
    "    a = kd.kernel.instan([smt.substitute(t, *zip(vs, vs1)) for t in subst], pf)\n",
    "    return kd.kernel.modus(ab, a)\n",
    "x,y,z = smt.Reals(\"x y z\")\n",
    "p = kd.prove(smt.ForAll([x,z], smt.And(z == z, x == x)))\n",
    "subst(p, [y, z], [y + 1, z])\n",
    "\n",
    "def weaken(pf, x):\n",
    "\n",
    "\n",
    "def unify(pf1, pf2) -> Optional[kd.Proof]:\n",
    "    # unify the two proofs forall x, p1(x) and forall y, p2(y)\n",
    "    # return a new proof\n",
    "    vs1, p1 = kd.utils.open_binder(pf1.thm)\n",
    "    vs2, p2 = kd.utils.open_binder(pf2.thm)\n",
    "    vs = vs1 + vs2\n",
    "    subst = kd.utils.unify(vs1+vs2,p1,p2)\n",
    "    if subst is not None:\n",
    "        vs = set(vs) - set(subst.keys()) # maybe keep 'em ordered\n",
    "        return subst_tac(pf1, vs, )\n",
    "\n",
    "def build_telescope(pf : kd.Proof, vs, hyps, conc):\n",
    "    # find a substitution based on unifying conc\n",
    "\n",
    "\n",
    "        \n",
    "\n",
    "def chain(pf1, pf2):\n",
    "    # decompose into rules.\n",
    "    # unify\n",
    "    # rebuild\n",
    "\n",
    "\n",
    "\n",
    "\n"
   ]
  },
  {
   "cell_type": "code",
   "execution_count": 3,
   "id": "41112098",
   "metadata": {},
   "outputs": [
    {
     "data": {
      "text/html": [
       "&#8870;ForAll(x, fact(x) == If(0 >= x, 1, x*fact(x - 1)))"
      ],
      "text/plain": [
       "|- ForAll(x, fact(x) == If(0 >= x, 1, x*fact(x - 1)))"
      ]
     },
     "execution_count": 3,
     "metadata": {},
     "output_type": "execute_result"
    }
   ],
   "source": [
    "import kdrag.reflect as reflect\n",
    "from kdrag.all import *\n",
    "x = smt.Bool(\"x\")\n",
    "@reflect.reflect\n",
    "def fact(x : int) -> int:\n",
    "    if x <= 0:\n",
    "        return 1\n",
    "    else:\n",
    "        return x*fact(x-1)\n",
    "fact.defn"
   ]
  },
  {
   "cell_type": "markdown",
   "id": "c7f19366",
   "metadata": {},
   "source": [
    "# verilog extract\n",
    "\n",
    "Silviu makes a good point.\n",
    "If you're going to be comparing test case outputs,\n",
    "No need to \n",
    "\n"
   ]
  },
  {
   "cell_type": "code",
   "execution_count": null,
   "id": "f69d6744",
   "metadata": {},
   "outputs": [
    {
     "name": "stdout",
     "output_type": "stream",
     "text": [
      "// Generated by knuckledragger\n",
      "module test (\n",
      "   input x,\n",
      "   input y,\n",
      "   output z\n",
      ");\n",
      "assign z = (x && y);\n",
      "endmodule\n",
      "\n",
      "// Generated by knuckledragger\n",
      "module test (\n",
      "   input [7:0] a,\n",
      "   input [7:0] b,\n",
      "   output z\n",
      ");\n",
      "assign z = ((a & (b + 8'd7)) != b);\n",
      "endmodule\n",
      "\n"
     ]
    }
   ],
   "source": [
    "\n",
    "\n",
    "x,y,z = smt.Bools(\"x y z\")\n",
    "a,b,c = smt.BitVecs(\"a b c\", 8)\n",
    "print(to_verilog(\"test\", [x,y], {z : x & y}))\n",
    "print(to_verilog(\"test\", [a,b], {z : a & b + 7 != b}))\n",
    "#(a & b != b).decl().name()\n",
    "\n",
    "def test():\n",
    "    with open(\"/tmp/test.v\", \"w\") as f:\n",
    "        f.write(to_verilog(\"test\", [x,y], {z : x & y}))\n",
    "    \n"
   ]
  },
  {
   "cell_type": "markdown",
   "id": "53a48664",
   "metadata": {},
   "source": [
    "To say that a verilog file has a property is an axiom schema?"
   ]
  },
  {
   "cell_type": "code",
   "execution_count": null,
   "id": "592dbe43",
   "metadata": {},
   "outputs": [],
   "source": [
    "def sby_axiom(modfile, name, ins, outs):\n",
    "    \n"
   ]
  },
  {
   "cell_type": "markdown",
   "id": "69c384cc",
   "metadata": {},
   "source": [
    "# diff\n",
    "\n",
    "\n"
   ]
  },
  {
   "cell_type": "code",
   "execution_count": null,
   "id": "84bad30e",
   "metadata": {},
   "outputs": [],
   "source": [
    "from kdrag.all import *\n",
    "\n",
    "def diff(e, x):\n",
    "    if e.eq(x):\n",
    "        return 1\n",
    "    elif smt.is_value(e):\n",
    "        return 0\n",
    "    elif smt.is_add(e):\n",
    "        return smt.Sum([diff(c,x) for c in e.children()])\n",
    "    elif e.decl() == real.sin:\n",
    "        return real.cos(e) * diff(e, x)\n",
    "    elif e.decl() == real.cos:\n",
    "        return -real.sin(e) * diff(e, x)\n",
    "    elif e.decl() == real.exp:\n",
    "        return real.exp(e) * diff(e, x)\n",
    "    \n",
    "    \n"
   ]
  },
  {
   "cell_type": "markdown",
   "id": "884b9aa2",
   "metadata": {},
   "source": [
    "# knuckelproblems\n"
   ]
  },
  {
   "cell_type": "code",
   "execution_count": 6,
   "id": "06bcd4ce",
   "metadata": {},
   "outputs": [
    {
     "data": {
      "text/html": [
       "&#8870;ForAll([n, m],\n",
       "       add(n, m) ==\n",
       "       If(is(Zero, n),\n",
       "          m,\n",
       "          If(is(Succ, n),\n",
       "             Succ(add(pred(n), m)),\n",
       "             unreachable!6)))"
      ],
      "text/plain": [
       "|- ForAll([n, m],\n",
       "       add(n, m) ==\n",
       "       If(is(Zero, n),\n",
       "          m,\n",
       "          If(is(Succ, n),\n",
       "             Succ(add(pred(n), m)),\n",
       "             unreachable!6)))"
      ]
     },
     "execution_count": 6,
     "metadata": {},
     "output_type": "execute_result"
    }
   ],
   "source": [
    "\n",
    "\n",
    "from kdrag.all import *\n",
    "# Knuckledragger support algebraic datatypes and induction\n",
    "Nat = kd.Inductive(\"MyNat\")\n",
    "Zero = Nat.declare(\"Zero\")\n",
    "Succ = Nat.declare(\"Succ\", (\"pred\", Nat))\n",
    "Nat = Nat.create()\n",
    "# We can define an addition function by cases\n",
    "n,m = smt.Consts(\"n m\", Nat)\n",
    "add = smt.Function(\"add\", Nat, Nat, Nat)\n",
    "add = kd.define(\"add\", [n,m], \n",
    "    kd.cond(\n",
    "        (n.is_Zero, m),\n",
    "        (n.is_Succ, Nat.Succ(add(n.pred, m)))\n",
    "))\n",
    "\n",
    "\"\"\"\n",
    "add = kd.define(\"add\", [n,m], \n",
    "    n.match_(\n",
    "        (Nat.Zero, m),\n",
    "        (Nat.Succ(n), Nat.Succ(add(n, m)))\n",
    "))\n",
    "add.defn\n",
    "\"\"\"\n",
    "add.defn\n"
   ]
  },
  {
   "cell_type": "code",
   "execution_count": 9,
   "id": "0831560e",
   "metadata": {},
   "outputs": [
    {
     "data": {
      "text/html": [
       "&#8870;ForAll(x, fact(x) == If(0 >= x, 1, x*fact(x - 1)))"
      ],
      "text/plain": [
       "|- ForAll(x, fact(x) == If(0 >= x, 1, x*fact(x - 1)))"
      ]
     },
     "execution_count": 9,
     "metadata": {},
     "output_type": "execute_result"
    }
   ],
   "source": [
    "import kdrag.reflect as reflect\n",
    "\n",
    "@reflect.reflect\n",
    "def fact(x : int) -> int:\n",
    "    if x <= 0:\n",
    "        return 1\n",
    "    else:\n",
    "        return x*fact(x-1)\n",
    "fact.defn"
   ]
  },
  {
   "cell_type": "markdown",
   "id": "a2daa3cb",
   "metadata": {},
   "source": [
    "# vectors\n",
    "\n",
    "Bitvector operations\n",
    "\n",
    "V4 style of \n"
   ]
  },
  {
   "cell_type": "code",
   "execution_count": null,
   "id": "6d38e7ff",
   "metadata": {},
   "outputs": [],
   "source": [
    "BV32 = smt.BitVecSort(32)\n",
    "\n",
    "\n"
   ]
  },
  {
   "cell_type": "markdown",
   "id": "6c68ba81",
   "metadata": {},
   "source": [
    "# Type resgistry\n",
    "\n",
    "Some \n",
    "\n",
    "add_assoc\n",
    "add_comm\n",
    "mul_assoc\n",
    "mul_comm\n",
    "\n",
    "\n",
    "COuld reaplce sortdispatch using T.add, T.mul and just have ExprRef.__add__ = lambda x,y: x.sort().add(x,y)\n",
    "\n",
    "\n",
    "\n",
    "BoolSort\n",
    "RealSort\n",
    "StringSort\n",
    "etc\n"
   ]
  },
  {
   "cell_type": "code",
   "execution_count": null,
   "id": "38ca8125",
   "metadata": {},
   "outputs": [],
   "source": [
    "# hash cons the types so that we can tag useful stuff on them\n",
    "types = {}\n",
    "\n",
    "def DeclareSort(name):\n",
    "    if name not in types:\n",
    "        types[name] = type(name, (object,), {})\n",
    "    return types[name]\n"
   ]
  },
  {
   "cell_type": "markdown",
   "id": "71a5313e",
   "metadata": {},
   "source": [
    "# Schematic Vars\n",
    "Explicitly pulling schematic variables out, may let me refer to them in subproofs (How?)\n",
    "\n",
    "   G |- A\n",
    "------------- weaken\n",
    "     G, v fresh |- A\n",
    "Well that's annoying.\n",
    "\n",
    "app(forall x, A, t)\n",
    "\n",
    "\n",
    "\n",
    "\n",
    "forall x, A  \n",
    "\n",
    "Maybe I should consider this as A Proof extension rather than proof replacement, likke refinement types\n",
    "\n",
    "\n",
    "```\n",
    "Gam |- t   x not in t\n",
    "-----------\n",
    "Gam, x |- t \n",
    "\n",
    "```\n",
    "\n",
    "\n",
    "If I merged forall intro and removal\n",
    "\n",
    "\n",
    "This is just |- forall x, P(x) but with some extra junk.\n",
    "\n",
    "capture avoiding\n",
    "\n",
    "https://ncatlab.org/nlab/show/substitution\n",
    "\n",
    "https://en.wikipedia.org/wiki/Admissible_rule\n",
    "https://cstheory.stackexchange.com/questions/54600/admissible-rules-in-dependent-type-theory\n",
    "\n",
    "Gam |- A then sigma Gam |- sigma A\n",
    "\n",
    "\n",
    "The point was that\n",
    "\n",
    "prove(t, )\n",
    "\n",
    "def cprove(vs, p, by=)\n",
    "\n",
    "\n",
    "a curried form of backward proof tracking.\n",
    "modus for leaves\n",
    "comp for moves.\n",
    "but yeah, split\n",
    "A /\\ B\n",
    "(A => B => A /\\ B)\n",
    "(A => A \\/ B)\n",
    "(B => A \\/ B)\n",
    "\n",
    "A => B => C\n",
    "\n",
    "but then aplpying move in context is annoying. Hmm.\n",
    "And I don't give a shit about anything except quantifier moves so it's wasteful effort.\n",
    "\n",
    "Maybe the callback method is easier. But it'll have so many expensive calls\n",
    "\n",
    "\n",
    "def intros():\n",
    "   \n",
    "\n",
    "\n"
   ]
  },
  {
   "cell_type": "code",
   "execution_count": null,
   "id": "66c7b4b1",
   "metadata": {},
   "outputs": [],
   "source": [
    "def modus(ab, a):\n",
    "    assert smt.is_implies(ab) and ab.arg(0).eq(a)\n",
    "    assert isinstance(ab, Proof) and isinstance(a, Proof)\n",
    "    return Proof(ab.arg(1), reasons=[ab, a])\n",
    "\n",
    "def impl_refl(a):\n",
    "    return Proof(smt.Implies(a,a))\n",
    "\n",
    "def comp(ab, bc): # cut sort of\n",
    "    assert smt.is_implies(ab) and smt.is_implies(bc) and ab.arg(1).eq(bc.arg(0))\n",
    "    assert isinstance(ab, Proof) and isinstance(bc, Proof)\n",
    "    return Proof(smt.Implies(ab.arg(0), bc.arg(1)), reasons=[ab, bc])\n",
    "\n",
    "\n",
    "class Lemma():\n",
    "    self.backward_proof = impl_refl(goal)\n",
    "    self.topgoal = goal\n",
    "    self.curgoal = goal\n",
    "    \n",
    "\n",
    "def qed():\n",
    "    assert self.backwardproof.thm.eq(self.topgoal)\n",
    "    return self.backwardproof\n",
    "def fixes():\n",
    "    herb(self.topgoal)\n",
    "    self.backwardproof = comp(  , self.backwardproof)(modus(ab,a)))\n",
    "def prove():\n",
    "    p = self.prove(curgoal)\n",
    "    self.backwardproof = modus(self.backwardproof, self.proof)\n",
    "def intros():\n",
    "    self.curgoal = self.curgoal.arg(0)\n",
    "    # goal is unchanged?\n",
    "    # (a -> b) -> topgoal. uhhh. G -> \n",
    "    # \n",
    "    # /\\ (forall vs, hyps => conc) -> topgoal\n",
    "    # (hyp1 => conc1) => (hyp2 => conc2) => hyp3 => topgoal\n",
    "    # goal1 => goal2 => topgoal\n",
    "\n",
    "\n",
    "\n",
    "Goal\n",
    "  def to_expr\n",
    "   \n",
    "\n",
    "                                                \n"
   ]
  },
  {
   "cell_type": "code",
   "execution_count": null,
   "id": "32936903",
   "metadata": {},
   "outputs": [],
   "source": [
    "def deinstan(pf):\n",
    "    # get substution if last thing was an instan?\n",
    "    # Super weird idea.\n",
    "\n",
    "def cprove(\n",
    "    vs : list[smt.ExprRef],\n",
    "    thm: smt.BoolRef,\n",
    "    by = lambda *args: [] #Callable[smt.ExprRefglist[kd.Proof],\n",
    "    **kwargs\n",
    ") -> kd.kernel.Proof:\n",
    "    \"\"\"Contextual proof. Open up variable binders and give by lemmas access to them in callback\"\"\"\n",
    "    goal = smt.ForAll(vs, thm)\n",
    "    vs1, pf = kd.kernel.herb(goal)\n",
    "    subproof = kd.prove(pf.thm.arg(0), by(*vs1))\n",
    "    return kd.kernel.modus(subproof, pf)\n",
    "\n",
    "\n",
    "\n",
    "def indprove(v, thm):\n",
    "    \"\"\"Inductive proof. Open up variable binders and give by lemmas access to them in callback\"\"\"\n",
    "    goal = smt.ForAll(v, thm)\n",
    "    vs1, pf = kd.kernel.herb(goal)\n",
    "    subproof = kd.prove(pf.thm.arg(0), by(*vs1))\n",
    "    return kd.kernel.modus(subproof, pf)\n",
    "\n",
    "def indprove(v : smt.ExprRef, thm, by=None, using=None):\n",
    "    l = kd.Lemma(smt.ForAll(v, thm))\n",
    "    v1 = l.fix()\n",
    "    l.induct(v1, using=using)\n",
    "    l.auto(by=by)\n",
    "    return l.qed()"
   ]
  },
  {
   "cell_type": "code",
   "execution_count": null,
   "id": "46e2c644",
   "metadata": {},
   "outputs": [],
   "source": [
    "def subst(vs, p : kd.Proof, subst):\n",
    "    assert isinstance(p, kd.Proof)\n",
    "    vs1, body = kd.utils.open_binder_unhygienic(p.fm)\n",
    "    assert kd.utils.free_in(vs - vs1, body)\n",
    "\n",
    "# vs\n",
    "\n",
    "# ok so we can achieve of substutiton by combining herb and instan.\n",
    "def subst(vs, p : kd.Proof, subst):\n",
    "    goal = smt.ForAll(vs, smt.substitute(p.fm, *subst.items()))\n",
    "    l = kd.Lemma(goal)\n",
    "    vs = l.fixes()\n",
    "    l.qed(by=p(subst[v] for v in vs))\n",
    "    #vs, pf = kd.kernel.herb(p)\n",
    "\n"
   ]
  },
  {
   "cell_type": "code",
   "execution_count": null,
   "id": "fdf5837c",
   "metadata": {},
   "outputs": [],
   "source": [
    "class Proof():\n",
    "    ctx : dict[smt.SortRef, int] # How many de bruijn indices are allowed?\n",
    "    fm : smt.BoolRef\n",
    "    "
   ]
  },
  {
   "cell_type": "code",
   "execution_count": null,
   "id": "b6262110",
   "metadata": {},
   "outputs": [],
   "source": [
    "class Proof():\n",
    "    vs : list[smt.ExprRef] # ctx\n",
    "    fm : smt.BoolRef | smt.QuantifierRef\n",
    "    reasons : list[object]\n",
    "    def __call__(self, *args, vs=[]):\n",
    "        smt.substitute(self.fm, *zip(self.vs, args))\n",
    "\n",
    "def free(vs, fm):\n",
    "    #fm2 = smt.substitute(fm, *[(v, smt.FreshConst(v.sort())) for v in vs])\n",
    "    return smt.Lambda(vs, fm).body().eq(fm)\n",
    "    #return fm2.eq(fm)\n",
    "\n",
    "def lift(p : kd.Proof) -> Proof:\n",
    "    assert isinstance(p, kd.Proof)\n",
    "    return Proof(\n",
    "        vs = [],\n",
    "        fm = p.fm,\n",
    "        reasons = [p]\n",
    "    )\n",
    "def lift_forall(p : kd.Proof) -> Proof:\n",
    "    assert isinstance(p, kd.Proof)\n",
    "    vs, fm = kd.utils.open_binder_unhiegenic(p.fm)\n",
    "    return Proof(\n",
    "        vs = vs,\n",
    "        fm = fm,\n",
    "        reasons = [p]\n",
    "    )\n",
    "def lift_free(ctx, p : kd.Proof) -> Proof:\n",
    "    assert isinstance(p, kd.Proof)\n",
    "    assert all(v in ctx for v in p.vs)\n",
    "    assert free(ctx, p.fm)\n",
    "    return Proof(\n",
    "        vs = ctx,\n",
    "        fm = p.fm,\n",
    "        reasons = [p]\n",
    "    )\n",
    "\n",
    "\"\"\"\n",
    "  Gam |- forall x, P\n",
    "---------------\n",
    " Gam, x |- P\n",
    "\n",
    " This is reversed intro rule. Feels odd.\n",
    "\"\"\"\n",
    "def open(p : Proof) -> Proof:\n",
    "    vs, fm = kd.utils.open_binder_unhiegenic(p.fm)\n",
    "    Proof(p.vs + vs, fm, [p])\n",
    "\n",
    "def intro(n, p : Proof):\n",
    "    return Proof(p.vs[n:], smt.ForAll(p.vs[:n], p.fm), [p])\n",
    "\n",
    "def extend(vs, p : Proof) -> Proof:\n",
    "    s = smt.Solver()\n",
    "    s.add(smt.ForAll(p.vs, p.fm))\n",
    "    s.add(smt.Not(smt.ForAll(p.vs + vs, p.fm)))\n",
    "    res = s.check()\n",
    "    if res == smt.unsat:\n",
    "        return Proof(\n",
    "            vs = p.vs + vs,\n",
    "            fm = p.fm,\n",
    "            reasons = [p]\n",
    "        )\n",
    "    else:\n",
    "        raise Exception(\"Unknown result from solver\")\n",
    "\n",
    "\n",
    "def subst(p : Proof, ctx : list[smt.ExprRef], subst : dict[smt.ExprRef, smt.ExprRef]):\n",
    "    assert isinstance(p, Proof)\n",
    "    assert all(v in p.vs for v in  subst.keys())\n",
    "    assert free(ctx - p.ctx, p.fm)\n",
    "    #fm = smt.substitute(p.fm, *[(v, smt.FreshConst(v.sort())) for v in ctx])\n",
    "    fm = smt.substitute(p.fm, *subst.items())\n",
    "    # I need to check that ctx2 does not appear in fm. Otherwise I could |- even(zero) ---> zero |- even(zero)\n",
    "    return Proof(\n",
    "        vs = ctx,\n",
    "        fm = fm,\n",
    "        reasons = [p]\n",
    "    )\n",
    "\n",
    "\n",
    "\"\"\"\n",
    "G |- p1    G |- p2 ... \n",
    "-------\n",
    "    G |- p\n",
    "\n",
    "\"\"\"\n",
    "\n",
    "def prove(ctx, expr, by=None):\n",
    "    allctx = set(ctx)\n",
    "    for p in by:\n",
    "        assert isinstance(p, Proof)\n",
    "        assert p.ctx == ctx\n",
    "    s.add(smt.Not(smt.ForAll([ctx], smt.Implies(smt.And(hyp.fm for hyp in by), expr))))\n",
    "    s.check()\n",
    "\n",
    "\n"
   ]
  },
  {
   "cell_type": "markdown",
   "id": "5e114fb5",
   "metadata": {},
   "source": [
    "Ok so yes, any forall infecting the lemmas is a problem.\n",
    "And some things get foralls because its hard an annoying \n",
    "\n",
    "qed should \n"
   ]
  },
  {
   "cell_type": "code",
   "execution_count": 6,
   "id": "fe69def9",
   "metadata": {},
   "outputs": [],
   "source": [
    "from kdrag.all import *\n",
    "import kdrag.theories.real as real\n",
    "x,y = smt.Reals(\"x y\")\n",
    "cos = real.cos\n",
    "sin = real.sin\n",
    "#os_diff = kd.prove(smt.ForAll([x,y], cos(x - y) == cos(x)*cos(y) + sin(x)*sin(y)), [real.cos_add, real.cos_neg, real.sin_neg])\n",
    "\n",
    "_l = kd.Lemma(smt.ForAll([x,y], cos(x - y) == cos(x)*cos(y) + sin(x)*sin(y)))\n",
    "_x, _y = _l.fixes()\n",
    "_l.symm()\n",
    "_l.eq(cos(_x + (-_y)))\n",
    "#_l.rw(kd.prove(cos(_x - _y) == cos(_x + (-_y))))\n",
    "#_l.rw(kd.prove(smt.ForAll([x,y], x - y == (x + (-y))))(_x, _y))\n",
    "_l.rw(real.cos_add(_x, -_y))\n",
    "#_l.auto(by=[real.cos_add, real.sin_add])\n",
    "_l.auto(by=[real.cos_neg(_y), real.sin_neg(_y)])\n",
    "_l.lemmas\n",
    "_l.qed()\n",
    "cos_diff = _l.lemmas\n"
   ]
  },
  {
   "cell_type": "markdown",
   "id": "1cd2f219",
   "metadata": {},
   "source": [
    "# Homomorphism theorems\n"
   ]
  },
  {
   "cell_type": "code",
   "execution_count": null,
   "id": "4c8dd031",
   "metadata": {},
   "outputs": [
    {
     "ename": "ValueError",
     "evalue": "('Not registered in typeclass', (A,))",
     "output_type": "error",
     "traceback": [
      "\u001b[31m---------------------------------------------------------------------------\u001b[39m",
      "\u001b[31mValueError\u001b[39m                                Traceback (most recent call last)",
      "\u001b[36mCell\u001b[39m\u001b[36m \u001b[39m\u001b[32mIn[6]\u001b[39m\u001b[32m, line 20\u001b[39m\n\u001b[32m     16\u001b[39m     \u001b[38;5;28;01mreturn\u001b[39;00m id_, assoc, id_left, inv_left\n\u001b[32m     19\u001b[39m B = smt.DeclareSort(\u001b[33m'\u001b[39m\u001b[33mB\u001b[39m\u001b[33m'\u001b[39m)\n\u001b[32m---> \u001b[39m\u001b[32m20\u001b[39m \u001b[43mgroup\u001b[49m\u001b[43m.\u001b[49m\u001b[43mGroup\u001b[49m\u001b[43m.\u001b[49m\u001b[43mregister\u001b[49m\u001b[43m(\u001b[49m\u001b[43mA\u001b[49m\u001b[43m)\u001b[49m\n\u001b[32m     21\u001b[39m idA, assocA, id_leftA, inv_leftA = Group(A)\n\u001b[32m     22\u001b[39m idB, assocB, id_leftB, inv_leftB = Group(B)\n",
      "\u001b[36mFile \u001b[39m\u001b[32m~/Documents/python/knuckledragger/kdrag/property.py:66\u001b[39m, in \u001b[36mTypeClass.register\u001b[39m\u001b[34m(cls, *L, **kwargs)\u001b[39m\n\u001b[32m     64\u001b[39m     \u001b[38;5;28;01mraise\u001b[39;00m \u001b[38;5;167;01mValueError\u001b[39;00m(\u001b[33m\"\u001b[39m\u001b[33mAlready registered key\u001b[39m\u001b[33m\"\u001b[39m, L)\n\u001b[32m     65\u001b[39m registry[L] = kwargs\n\u001b[32m---> \u001b[39m\u001b[32m66\u001b[39m \u001b[38;5;28;01massert\u001b[39;00m \u001b[38;5;28;43mcls\u001b[39;49m\u001b[43m(\u001b[49m\u001b[43m*\u001b[49m\u001b[43mL\u001b[49m\u001b[43m)\u001b[49m \u001b[38;5;129;01mis\u001b[39;00m \u001b[38;5;129;01mnot\u001b[39;00m \u001b[38;5;28;01mNone\u001b[39;00m\n",
      "\u001b[36mFile \u001b[39m\u001b[32m~/Documents/python/knuckledragger/kdrag/property.py:42\u001b[39m, in \u001b[36mTypeClass.__init__\u001b[39m\u001b[34m(self, *L)\u001b[39m\n\u001b[32m     40\u001b[39m     \u001b[38;5;28msetattr\u001b[39m(\u001b[38;5;28mself\u001b[39m, k, v)\n\u001b[32m     41\u001b[39m \u001b[38;5;28;01mif\u001b[39;00m \u001b[38;5;28mhasattr\u001b[39m(\u001b[38;5;28mself\u001b[39m, \u001b[33m\"\u001b[39m\u001b[33mcheck\u001b[39m\u001b[33m\"\u001b[39m):\n\u001b[32m---> \u001b[39m\u001b[32m42\u001b[39m     \u001b[38;5;28;43mself\u001b[39;49m\u001b[43m.\u001b[49m\u001b[43mcheck\u001b[49m\u001b[43m(\u001b[49m\u001b[43m*\u001b[49m\u001b[43mL\u001b[49m\u001b[43m)\u001b[49m\n",
      "\u001b[36mFile \u001b[39m\u001b[32m~/Documents/python/knuckledragger/kdrag/theories/algebra/group.py:74\u001b[39m, in \u001b[36mGroup.check\u001b[39m\u001b[34m(self, T)\u001b[39m\n\u001b[32m     73\u001b[39m \u001b[38;5;28;01mdef\u001b[39;00m\u001b[38;5;250m \u001b[39m\u001b[34mcheck\u001b[39m(\u001b[38;5;28mself\u001b[39m, T):\n\u001b[32m---> \u001b[39m\u001b[32m74\u001b[39m     \u001b[38;5;28mself\u001b[39m.Monoid = \u001b[43mMonoid\u001b[49m\u001b[43m(\u001b[49m\u001b[43mT\u001b[49m\u001b[43m)\u001b[49m\n\u001b[32m     75\u001b[39m     \u001b[38;5;28mself\u001b[39m.e = \u001b[38;5;28mself\u001b[39m.Monoid.e\n\u001b[32m     76\u001b[39m     \u001b[38;5;28mself\u001b[39m.assoc = \u001b[38;5;28mself\u001b[39m.Monoid.assoc\n",
      "\u001b[36mFile \u001b[39m\u001b[32m~/Documents/python/knuckledragger/kdrag/property.py:38\u001b[39m, in \u001b[36mTypeClass.__init__\u001b[39m\u001b[34m(self, *L)\u001b[39m\n\u001b[32m     36\u001b[39m registry = \u001b[38;5;28mself\u001b[39m.get_registry()\n\u001b[32m     37\u001b[39m \u001b[38;5;28;01mif\u001b[39;00m L \u001b[38;5;129;01mnot\u001b[39;00m \u001b[38;5;129;01min\u001b[39;00m registry:\n\u001b[32m---> \u001b[39m\u001b[32m38\u001b[39m     \u001b[38;5;28;01mraise\u001b[39;00m \u001b[38;5;167;01mValueError\u001b[39;00m(\u001b[33m\"\u001b[39m\u001b[33mNot registered in typeclass\u001b[39m\u001b[33m\"\u001b[39m, L)\n\u001b[32m     39\u001b[39m \u001b[38;5;28;01mfor\u001b[39;00m k, v \u001b[38;5;129;01min\u001b[39;00m registry[L].items():\n\u001b[32m     40\u001b[39m     \u001b[38;5;28msetattr\u001b[39m(\u001b[38;5;28mself\u001b[39m, k, v)\n",
      "\u001b[31mValueError\u001b[39m: ('Not registered in typeclass', (A,))"
     ]
    }
   ],
   "source": [
    "from kdrag.all import *\n",
    "import kdrag.property as prop\n",
    "import kdrag.theories.algebra.group as group\n",
    "\n",
    "A = smt.DeclareSort('A')\n",
    "def Group(A):\n",
    "    mul = smt.Function('mul', A, A, A)\n",
    "    inv = smt.Function('inv', A, A)\n",
    "    id_ = smt.Const('id', A)\n",
    "    x,y,z = smt.Consts('x y z', A)\n",
    "    kd.notation.mul.register(A, mul)\n",
    "    kd.notation.invert.register(A, inv)\n",
    "    assoc = kd.axiom(smt.ForAll([x,y,z], x * (y * z) == (x * y) * z))\n",
    "    id_left = kd.axiom(smt.ForAll([x], id_ * x == x))\n",
    "    inv_left = kd.axiom(smt.ForAll([x], inv(x) * x == id_))\n",
    "    return id_, assoc, id_left, inv_left\n",
    "\n",
    "\n",
    "B = smt.DeclareSort('B')\n",
    "group.Group.register(A)\n",
    "idA, assocA, id_leftA, inv_leftA = Group(A)\n",
    "idB, assocB, id_leftB, inv_leftB = Group(B)\n",
    "\n",
    "h = smt.Function('h', A, B)\n",
    "def homo(id_, h):\n",
    "    A = h.domain(0)\n",
    "    B = h.range()\n",
    "    x,y,z = smt.Consts(\"x y z\", A)\n",
    "    mul = smt.ForAll([x,y], h(x * y) == h(x) * h(y))\n",
    "    id_ = h(idA) == idB\n",
    "    inv = smt.ForAll([x], h(~x) == ~h(x))\n",
    "    return mul, id_, inv\n",
    "homo(h)\n",
    "\n",
    "\n",
    "\n"
   ]
  },
  {
   "cell_type": "markdown",
   "id": "59eb2f2b",
   "metadata": {},
   "source": [
    "Universe of groups.\n",
    "\n",
    "I was saying construct it as permuations  Int -> Int\n",
    "\n",
    "Nontrivial\n",
    "But we could also driectly axiomatize\n",
    "\n",
    "* is composition\n",
    "id is  x -> x\n",
    "homomorphisms need to... be careful here. Only push homo through on particular Group?\n",
    "SetGrp \n",
    "\n",
    "\n",
    "\n"
   ]
  },
  {
   "cell_type": "code",
   "execution_count": null,
   "id": "c038585b",
   "metadata": {},
   "outputs": [],
   "source": [
    "\n",
    "Grp = smt.DeclareSort(\"Grp\")\n",
    "SetGrp = set_.SetSort(Grp)\n",
    "inv = smt.Function(\"inv\", Grp, Grp)\n",
    "# inv = smt.Function(\"inv\", GrpSet, GrpSet)\n",
    "mul = smt.Function(\"mul\", Grp, Grp) # We just leave mul un\n",
    "\n",
    "Closed = smt.QForAll([x,y, S], S[x], S[y], S[x * y], S[inv(x)])\n",
    "\n",
    "smt.QForAll([S], Closed[S], S[x], S[y], S[z],  x*(y*z) == (x * y) * z) # Is there a model where mul can be associative and always defined? \n",
    "smt.QForAll([S], Closed[S], S[x], inv(x) * x == x)  # maybe unconditionally actually\n",
    "smt.QForAll([S], id_ * x == x) # also unconditiojnality"
   ]
  }
 ],
 "metadata": {
  "kernelspec": {
   "display_name": ".venv",
   "language": "python",
   "name": "python3"
  },
  "language_info": {
   "codemirror_mode": {
    "name": "ipython",
    "version": 3
   },
   "file_extension": ".py",
   "mimetype": "text/x-python",
   "name": "python",
   "nbconvert_exporter": "python",
   "pygments_lexer": "ipython3",
   "version": "3.12.3"
  }
 },
 "nbformat": 4,
 "nbformat_minor": 5
}
