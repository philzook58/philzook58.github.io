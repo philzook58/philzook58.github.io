{
 "cells": [
  {
   "cell_type": "markdown",
   "id": "49b1eff0",
   "metadata": {},
   "source": [
    "\n",
    "TODO:\n",
    "better lemma. Ok did a tiny bit of this. Could support unification variables now too.\n",
    "\n",
    "Protocol based generic reasoning\n",
    "Do software foundations.\n",
    "Semantical Refinement typing\n",
    "Hoare\n",
    "\n",
    "Proof certs\n",
    "\n",
    "Look at all the stuff I got stumped on. Is it easy somehow it Lean?\n",
    "Using lean as smt\n",
    "\n",
    "\n",
    "https://github.com/ftsrg/chc2c\n",
    "extraction\n",
    "\n",
    "https://arxiv.org/abs/2505.13454 pyeb: A Python Implementation of Event-B Refinement Calculus https://github.com/ncatanoc/pyeb\n",
    "\n",
    "Compete in smtlib / cade?\n",
    "\n",
    "TPTP parser? \n",
    "\n",
    "Try ingesting all of TPTP problem set. Egraph?\n",
    "\n",
    "\n",
    "float16 in numpy. Brute force check properties of floats.\n",
    "float8 would be a lookup table maybe.\n",
    "\n",
    "\n",
    "\n",
    "Should I be doing more with triggers?"
   ]
  },
  {
   "cell_type": "markdown",
   "id": "af4a6074",
   "metadata": {},
   "source": [
    "# curry howard\n"
   ]
  },
  {
   "cell_type": "markdown",
   "id": "87729e17",
   "metadata": {},
   "source": [
    "# monad modules\n",
    "\n",
    "algerbaic effects?\n",
    "\n",
    "\n",
    "https://www.isa-afp.org/browser_info/current/AFP/Monomorphic_Monad/outline.pdf  Effect Polymorphism in Higher-Order Logic\n",
    "Andreas Lochbihler http://www.andreas-lochbihler.de/pub/lochbihler2017itp.pdf\n",
    "\n",
    "\n"
   ]
  },
  {
   "cell_type": "code",
   "execution_count": null,
   "id": "6cdd829a",
   "metadata": {},
   "outputs": [],
   "source": [
    "class OfInt(Protocol):\n",
    "    T : smt.SortRef\n",
    "    from_int : smt.FuncDeclRef\n",
    "class OfReal(Protocol):\n",
    "    T : smt.SortRef\n",
    "    from_real : smt.FuncDeclRef\n",
    "class OfBool(Protocol):\n",
    "    T : smt.SortRef\n",
    "    from_bool : smt.FuncDeclRef\n",
    "class Container(Protocol): # better name?\n",
    "    T : smt.SortRef\n",
    "    Elt : smt.SortRef\n",
    "class Monad(Protocol, Applicative): # monomorphic monad\n",
    "    T : smt.SortRef\n",
    "    Elt : smt.SortRef\n",
    "    bind : smt.FuncDeclRef # (T, Elt -> T) -> T\n",
    "class Functor(Protocol):\n",
    "    T : smt.SortRef\n",
    "    Elt : smt.SortRef\n",
    "    fmap : smt.FuncDeclRef # (Elt -> Elt) -> T -> T\n",
    "class Applicative(Protocol, Functor):\n",
    "    T : smt.SortRef\n",
    "    Elt : smt.SortRef\n",
    "    pure : smt.FuncDeclRef # Elt -> T\n",
    "    ap : smt.FuncDeclRef # (T, T) -> T'\n",
    "\n",
    "class LawfulMonad(Protocol, Monad):\n",
    "    T : smt.SortRef\n",
    "    Elt : smt.SortRef\n",
    "    bind_assoc : kd.Proof  # bind (bind m f) g == bind m (x -> bind (f x) g)\n",
    "    return_bind : kd.Proof # bind (pure x) f == f x\n",
    "    bind_return : kd.Proof # bind m pure == m"
   ]
  },
  {
   "cell_type": "markdown",
   "id": "1efd16f9",
   "metadata": {},
   "source": [
    "# Z3 Arena\n",
    "I think that rebuilding the wrapper costs a lot of time.\n",
    "If i had a managed thing that didn't do that\n",
    "\n"
   ]
  },
  {
   "cell_type": "code",
   "execution_count": 3,
   "id": "d944e649",
   "metadata": {},
   "outputs": [],
   "source": [
    "import z3\n",
    "x = z3.Int(\"x\")"
   ]
  },
  {
   "cell_type": "code",
   "execution_count": 4,
   "id": "b0a5afeb",
   "metadata": {},
   "outputs": [
    {
     "name": "stdout",
     "output_type": "stream",
     "text": [
      "716 ns ± 5.02 ns per loop (mean ± std. dev. of 7 runs, 1,000,000 loops each)\n"
     ]
    }
   ],
   "source": [
    "%%timeit\n",
    "x.eq(x)"
   ]
  },
  {
   "cell_type": "code",
   "execution_count": 5,
   "id": "ed68124c",
   "metadata": {},
   "outputs": [
    {
     "name": "stdout",
     "output_type": "stream",
     "text": [
      "20.8 μs ± 142 ns per loop (mean ± std. dev. of 7 runs, 10,000 loops each)\n"
     ]
    }
   ],
   "source": [
    "%%timeit\n",
    "x == x"
   ]
  },
  {
   "cell_type": "code",
   "execution_count": 17,
   "id": "0445388d",
   "metadata": {},
   "outputs": [
    {
     "data": {
      "text/plain": [
       "<ContextObj object at 0x7fdc022a8c50>"
      ]
     },
     "execution_count": 17,
     "metadata": {},
     "output_type": "execute_result"
    }
   ],
   "source": [
    "x.ctx.ctx"
   ]
  },
  {
   "cell_type": "code",
   "execution_count": 19,
   "id": "832ae311",
   "metadata": {},
   "outputs": [
    {
     "name": "stdout",
     "output_type": "stream",
     "text": [
      "768 ns ± 3.55 ns per loop (mean ± std. dev. of 7 runs, 1,000,000 loops each)\n"
     ]
    }
   ],
   "source": [
    "%%timeit\n",
    "z3.Z3_mk_eq(x.ctx.ctx, x.as_ast(), x.as_ast())"
   ]
  },
  {
   "cell_type": "code",
   "execution_count": null,
   "id": "3133bbe9",
   "metadata": {},
   "outputs": [],
   "source": [
    "class Arena():\n",
    "    def __init__(self, ctx=None):\n",
    "        if ctx is not None:\n",
    "            self.ctx = ctx.ctx\n",
    "        else:\n",
    "            self.ctx = z3.main_ctx().ctx\n",
    "        self.exprs = []\n",
    "        self.ids = {}\n",
    "        # funcdecls, sorts\n",
    "    def add(self, expr : smt.ExprRef) -> int:\n",
    "        assert isinstance(expr, z3.ExprRef)\n",
    "        z3_id = expr.get_id()\n",
    "        eid = self.ids.get(z3_id)\n",
    "        if z3_id is None:\n",
    "            eid = len(self.exprs)\n",
    "            z3.Z3_inc_ref(self.ctx, expr.as_ast())\n",
    "            self.exprs.append(expr)\n",
    "            self.ids[z3_id] = eid\n",
    "            return eid\n",
    "        else:\n",
    "            return eid\n",
    "    def __del__(self):\n",
    "        for z3_id in self.exprs:\n",
    "            z3.Z3_dec_ref(self.ctx, z3_id)\n",
    "    def get_id(self, eid : int) -> int:\n",
    "        return self.exprs[eid]\n",
    "    def eq(self, a : int, b : int) -> bool:\n",
    "        return a == b\n",
    "    def mk_true(self):\n",
    "        t = z3.Z3_mk_true(self.ctx)\n",
    "        z3_id = z3.Z3_get_id(t)\n",
    "        if z3_id in self.ids:\n",
    "            return self.ids[z3_id]\n",
    "        else:\n",
    "            eid = len(self.exprs)\n",
    "            z3.Z3_inc_ref(self.ctx, t)\n",
    "            self.exprs.append(t)\n",
    "            self.ids[z3_id] = eid\n",
    "            return eid\n",
    "\n",
    "class Arena():\n",
    "    def __init__(self):\n",
    "        # make a new context\n",
    "        self.ctx = z3.Context()\n",
    "    def add(self, expr : smt.ExprRef) -> int:\n",
    "        e = expr.translate(self.ctx)\n",
    "        self.exprs\n",
    "        \n"
   ]
  },
  {
   "cell_type": "markdown",
   "id": "431d3e34",
   "metadata": {},
   "source": [
    "# Linear knuckledragger\n",
    "Graham:\n",
    "Yep! https://www.math.tau.ac.il/~aa/articles/linear_tcs.pdf\n",
    "\n",
    "tldr; it's most straightforward if you focus on just proofs of theorems - no assumptions allowed. Then the main modification you need is that each line except the last needs to be used exactly once. Your axioms for -> are reflexivity, transitivity, and  (A->(B->C)) ->(B->(A->C)) (these are the combinators for a combinatory linear lambda calculus I think). Add double negation elimination and transposition, and define the multiplicative conjunction as ~(A->~B) to get the multiplicative fragment. For the additive connectives, you need and-introduction as a rule, not as an axiom, and you need an unusual axiom ((A->B)/\\(A->C))->(A->B/\\C). That's basically because additive and-introduction fuses the assumptions used to prove the left and right half of the conjunction, so in a Hilbert system you either need to introduce a conjunction using two statements that have been proven without any assumptions (that'd be the rule form, if you're working in a context with no assumptions), or via that unusual axiom.\n",
    "\n",
    "philzook — 9/14/25, 4:42 PM\n",
    "Interesting. My secret wondering was if somehow I could use python inference rule functions that del the incoming judgements to somehow implement a linear logic. Knuckledragger is a hilbert style system.  Somehow using meta linearity to impose object linearity. Something like this\n",
    "def linear_modus(A : Proof, AlolliB : Proof):\n",
    "  assert is_proof(A) and is_proof(AlolliB)\n",
    "  assert is_lolli(AlolliB.thm) and AlloliB.thm.arg(0).eq(A.thm)\n",
    "  B = AlolliB.thm.arg(1)\n",
    "  del A\n",
    "  del AlolliB\n",
    "  return Proof(B)\n"
   ]
  },
  {
   "cell_type": "markdown",
   "id": "e0e5fe3a",
   "metadata": {},
   "source": [
    "# refined python\n",
    "\n",
    "\n",
    "Ramana:\n",
    "@check\n",
    "def foo(n: int, m: 'p : int | p > 0') -> 'z : int | z > n':\n",
    "    return m + n\n",
    "Refinement types in Python \n",
    "@check raises an exception if the function fails to typecheck\n",
    "https://gist.github.com/rnagasam/457d0000c07dbc4b441671cfdaa14c80\n",
    "\n",
    "\n",
    "We're always circling back to my stringly typed language idea\n",
    "\n",
    "What’s stringly typed? All types are strings? Is this a serious idea?\n",
    "Whats the type of type? “Str”?\n",
    "“Type”\n",
    "Sounds kind of like linking a quotation hierarchy to a type hierarchy\n",
    "Which kind of happens in that tarski universe thing https://ncatlab.org/nlab/show/Tarski+universe\n",
    "Dis association — 9/12/25, 2:57 PM\n",
    "It's a SIGBOVIK paper idea, so definitely \"serious\"\n",
    "And types are regular expressions but with regex \"vars\" for function types"
   ]
  },
  {
   "cell_type": "code",
   "execution_count": 2,
   "id": "36d13c26",
   "metadata": {},
   "outputs": [],
   "source": [
    "def vadd(n : int, u : \"Vec(n)\", v : \"Vec(n)\") -> \"Vec(n)\":\n",
    "    match u, v:\n",
    "        case Cons(x,xs), Cons(y,ys): return Cons(x + y, vadd(n-1, xs, ys))\n",
    "        case Nil(), Nil(): return Nil()"
   ]
  },
  {
   "cell_type": "markdown",
   "id": "82f9c60f",
   "metadata": {},
   "source": [
    "# Countermodel search\n",
    "Something Sequenty? A prover and counterprover. Something intuitionistic?\n",
    "\n",
    "|= phi  == forall M, M |= phi\n",
    "!|= phi == Not(forall M, M |= phi)  == Exists M, Not(M |= phi) == Exists M, M |= Not(phi)\n",
    "|= Not(phi)\n",
    "\n",
    "It's kind of modal logic feeling over models? Is that an insane thing to say?\n",
    "\n",
    "M |= phi\n",
    "M |= Not(phi)\n",
    "\n",
    "!|= phi <-> M |= Not(phi)\n",
    "\n",
    "It is not the case that exactly one of |= phi or |= Not(phi) hold.\n",
    "\n",
    "Gam |= phi\n",
    "BigGam |= phi\n",
    "\n",
    "by |= phi\n",
    "all |= phi\n"
   ]
  },
  {
   "cell_type": "markdown",
   "id": "1625f06e",
   "metadata": {},
   "source": [
    "# Primtive recursion\n",
    "guardfed recursion?\n",
    "Lexicographic recursion?\n",
    "\n",
    "https://en.wikipedia.org/wiki/Primitive_recursive_function \"pure recursion\" access to parameters and subcalls but not item itself.\n",
    "The analog of a fold.\n",
    "\n",
    "define_fold\n",
    "\n",
    "Attach a motive? \n",
    "\n",
    "define_rec(name, vs, motive, **cases):\n",
    "\n",
    "https://bentnib.org/posts/2011-04-28-folds-and-induction.html\n",
    "\n",
    "Hmm. Subsume induction?\n",
    "https://people.cs.nott.ac.uk/pszgmh/fold.pdf ackermann is primtiive recursive if we have higher order fold\n",
    "\n",
    "https://stackoverflow.com/questions/30419419/what-is-the-difference-between-primrec-and-fun-in-isabelle-hol\n",
    "https://isabelle.in.tum.de/doc/functions.pdf"
   ]
  },
  {
   "cell_type": "code",
   "execution_count": null,
   "id": "0decc03a",
   "metadata": {},
   "outputs": [],
   "source": [
    "\n",
    "def is_accessor(e, l):\n",
    "    if e.eq(l):\n",
    "        return True\n",
    "    else:\n",
    "        is_accessor()\n",
    "\n",
    "def define_fix()\n",
    "    # check recusrive calls are only accessor chains.\n",
    "    # guarded recursion."
   ]
  },
  {
   "cell_type": "code",
   "execution_count": null,
   "id": "7d5fbf0d",
   "metadata": {},
   "outputs": [
    {
     "name": "stdout",
     "output_type": "stream",
     "text": [
      "WARNING: Redefining function id from |= ForAll(n,\n",
      "       id(n) ==\n",
      "       If(is(S, n), S(id(pred(n))), If(is(Z, n), Z, c!102))) to ForAll(n, id(n) == If(is(S, n), S(id(pred(n))), Z))\n",
      "WARNING: Redefining function plus from |= ForAll([n, m],\n",
      "       plus(n, m) ==\n",
      "       If(is(S, n),\n",
      "          S(plus(pred(n), m)),\n",
      "          If(is(Z, n), m, c!103))) to ForAll([n, m],\n",
      "       plus(n, m) == If(is(S, n), S(plus(pred(n), m)), m))\n"
     ]
    },
    {
     "data": {
      "text/html": [
       "&#8870;ForAll([n, m],\n",
       "       plus(n, m) == If(is(S, n), S(plus(pred(n), m)), m))"
      ],
      "text/plain": [
       "|= ForAll([n, m],\n",
       "       plus(n, m) == If(is(S, n), S(plus(pred(n), m)), m))"
      ]
     },
     "execution_count": 21,
     "metadata": {},
     "output_type": "execute_result"
    }
   ],
   "source": [
    "from kdrag.all import *\n",
    "import kdrag.theories.nat as nat\n",
    "def define_primrec(fun_name, vs : list[smt.ExprRef], res_type : smt.SortRef, **cases):\n",
    "    l = vs[0]\n",
    "    assert isinstance(l, smt.DatatypeRef)\n",
    "    params = vs[1:]\n",
    "    sort = l.sort()\n",
    "    f = smt.Function(fun_name, *[v.sort() for v in vs], res_type)\n",
    "    acc = None\n",
    "    for i in range(sort.num_constructors()):\n",
    "        constr = sort.constructor(i)\n",
    "        name = constr.name()\n",
    "        args = [sort.accessor(i, j)(l) if constr.domain(j) != sort else f(sort.accessor(i, j)(l), *params) for j in range(constr.arity())]\n",
    "        if acc is None:\n",
    "            acc = cases[name](*args)\n",
    "        else:\n",
    "            acc = smt.If(sort.recognizer(i)(l), cases[name](*args), acc)\n",
    "        del cases[name]\n",
    "    if len(cases) != 0:\n",
    "        raise ValueError(\"unused cases\", cases)\n",
    "    return kd.define(fun_name, vs, acc)\n",
    "\n",
    "n = smt.Const(\"n\", nat.Nat)\n",
    "id_ = define_primrec(\"id\", [n], nat.Nat, S=lambda pred: nat.Nat.S(pred), Z=lambda: nat.Nat.Z)\n",
    "id_.defn\n",
    "m = smt.Const(\"m\", nat.Nat)\n",
    "plus = define_primrec(\"plus\", [n, m], nat.Nat, S=lambda psum: nat.Nat.S(psum), Z=lambda: m)\n",
    "plus.defn"
   ]
  },
  {
   "cell_type": "markdown",
   "id": "528932c0",
   "metadata": {},
   "source": [
    "# Modules\n",
    "\n",
    "Maude obj\n",
    "https://www.mimuw.edu.pl/~chrzaszcz/papers/Chrzaszcz-Jouannaud_From-OBJ-to-ML-to-Coq.pdf From OBJ to ML to Coq\n",
    "\n",
    "https://cafeobj.org/\n",
    "maude\n",
    "\n",
    "Ramana days PVS is moduly. Does PVS not have polymorphism?\n",
    "\n",
    "Yeah, maybe the mayude family is subsort oriented but nevertheless not polymorphic.\n",
    "\n",
    "My notes on egglog modules\n",
    "\n",
    "https://arxiv.org/abs/2101.02690 Theorem Proving and Algebra\n",
    "https://cseweb.ucsd.edu/~goguen/pubs/asbk.html Algebraic Semantics of Imperative Programs\n",
    "Sheaves and Structures of Transition Systems  https://link.springer.com/chapter/10.1007/11780274_21\n",
    "https://web.archive.org/web/20160303201750/http://formal.cs.uiuc.edu/goguenFest/\n",
    "\n",
    "```python\n",
    "def define_rec(name, l : smt.ExprRef, res_type : smt.SortRef, **cases):\n",
    "    assert isinstance(l, smt.DatatypeRef)\n",
    "    sort = l.sort()\n",
    "    f = smt.Function(name, sort, res_type)\n",
    "    acc = smt.FreshConst(res_type)\n",
    "    for i in range(sort.num_constructors()):\n",
    "        constr = sort.constructor(i)\n",
    "        name = constr.name()\n",
    "        args = [sort.accessor(i, j)(l) if constr.domain(j) != sort else f(sort.accessor(i, j)(l)) for k in constr.arity()]\n",
    "        acc = smt.If(sort.recognizer(i)(l), cases[name](*args), acc)\n",
    "        del cases[name]\n",
    "    if len(cases) != 0:\n",
    "        raise ValueError(\"unused cases\", cases)\n",
    "    return kd.define(name, [l], acc)\n",
    "\n",
    "define_rec(\"add\", Succ=lambda pred: smt.Lambda([y], ))\n",
    "```\n",
    "\n",
    "Open enums\n",
    "open datatypes\n",
    "A module with Int tag\n",
    "\n",
    "\n",
    "Goguen\n",
    "combining modules\n",
    "Module of a ctagoery in goguen?\n",
    "\n",
    "(SortRef, Lambda) pair\n",
    "type SubSort = tuple[SortRef, ]\n"
   ]
  },
  {
   "cell_type": "code",
   "execution_count": null,
   "id": "10f59bab",
   "metadata": {},
   "outputs": [],
   "source": [
    "class AutoM(Protocol):\n",
    "    State : smt.SortRef\n",
    "    Input : smt.SortRef\n",
    "    Output : smt.SortRef\n",
    "    start : smt.ExprRef\n",
    "    f : smt.FuncDeclRef # Input State -> STate\n",
    "    g : smt.FuncDeclRef # State -> Output\n",
    "\n",
    "class Graph(Protocol):\n",
    "    Edge : smt.SortRef\n",
    "    Node : smt.SortRef\n",
    "    src : smt.FuncDeclRef # Edge -> Node\n",
    "    dst : smt.FuncDeclRef # Edge -> Node\n",
    "\n",
    "class HomoMorphism(Protocol):\n",
    "    "
   ]
  },
  {
   "cell_type": "code",
   "execution_count": null,
   "id": "7d4f5da8",
   "metadata": {},
   "outputs": [],
   "source": [
    "class Sequence(Protocol): # protocol is like module signature\n",
    "    T : smt.SortRef\n",
    "    Elt : smt.SortRef\n",
    "    length : smt.FuncDeclRef\n",
    "    Nil : smt.ExprRef\n",
    "    Cons : smt.FuncDeclRef\n",
    "    hd : smt.FuncDeclRef\n",
    "    tl : smt.FuncDeclRef\n",
    "    nth : smt.FuncDeclRef\n",
    "    mem : smt.FuncDeclRef\n",
    "    rev : smt.FuncDeclRef\n",
    "    append : smt.FuncDeclRef\n",
    "\n",
    "\n",
    "#https://ocaml.org/manual/5.3/api/Set.S.html\n",
    "class List(Sequence):\n",
    "    def __init__(self, Elt):\n",
    "        self.T = self.Datatype(\"List\")\n",
    "        self.Elt = Elt\n",
    "        x,y,z = self.FreshVars(\"x y z\", self.T)\n",
    "        self.length = kd.define(\"length\", [x], smt.If(x.is_nil, 0, 1 + self.length(x.tail)))\n",
    "        self.is_empty = self.T.is_nil\n",
    "        self.cons = self.T.Cons\n",
    "        self.hd = self.T.hd\n",
    "        self.tl = self.T.tl\n",
    "        nth = smt.Function(\"nth\", self.T, smt.IntSort(), self.Elt)\n",
    "        self.nth = kd.define(\"nth\", [x,n], smt.If(n <= 0, x.hd, nth(x.tl, n-1)))\n",
    "        mem = smt.Function(\"mem\", self.Elt, self.T, smt.BoolSort())\n",
    "        self.mem = kd.define(\"mem\", [y,x], smt.If(x.is_nil, False, smt.Or(x.hd == y, self.mem(y, x.tl))))\n",
    "        self.rev = kd.define(\"rev\", [x], smt.If(x.is_nil, x, self.rev(x.tail).cons(x.head)))\n",
    "        self.append = kd.define(\"append\", [x,y], smt.If(x.is_nil, y, self.append(x.tail, y).cons(x.head)))\n",
    "\n",
    "        # self.length_nil = kd.prove(length(T.Nil) == 0, unfold=1)\n",
    "        self.length_nil = self._length_nil()\n",
    "\n",
    "    def _length_nil(self) -> kd.Proof:\n",
    "        l = smt.Const(\"l\", self.T)\n",
    "        l = kd.Lemma(smt.ForAll([l], (self.length(l) == 0) == (l == self.Nil)))\n",
    "        x = l.fix()\n",
    "        l.induct(x)\n",
    "        l.auto(unfold=1)\n",
    "        print(l)\n",
    "        l.auto(by=self.length.defn)\n",
    "        return l.qed()\n",
    "\n",
    "class LawfulList():\n",
    "    def __init__(self, L: List):\n",
    "        self.L = L\n",
    "        x,y,z = L.FreshVars(\"x y z\", L.T)\n",
    "        self.append_nil = kd.prove(L.append(x, L.Nil) == x, unfold=1)\n",
    "        self.append_assoc = kd.prove(L.append(L.append(x,y), z) == L.append(x, L.append(y,z)), unfold=2)\n",
    "        self.length_append = kd.prove(L.length(L.append(x,y)) == L.length(x) + L.length(y), unfold=2)\n",
    "        self.mem_append = kd.prove(smt.ForAll([L.Elt], smt.ForAll([x,y], L.mem(z, L.append(x,y)) == smt.Or(L.mem(z,x), L.mem(z,y)))), unfold=2)\n",
    "\n",
    "\n",
    "class Set(Protocol):\n",
    "    T : smt.SortRef\n",
    "    Elt : smt.SortRef\n",
    "    Empty : smt.ExprRef\n",
    "    Full : smt.ExprRef\n",
    "\n",
    "class Nat(Protocol):\n",
    "    subset : smt.QuantifierRef # subsort? Something. Maude has subsort looking stuff\n",
    "\n"
   ]
  },
  {
   "cell_type": "code",
   "execution_count": 35,
   "id": "a40cf77b",
   "metadata": {},
   "outputs": [
    {
     "name": "stdout",
     "output_type": "stream",
     "text": [
      "new\n",
      "new\n"
     ]
    },
    {
     "data": {
      "text/plain": [
       "False"
      ]
     },
     "execution_count": 35,
     "metadata": {},
     "output_type": "execute_result"
    }
   ],
   "source": [
    "import functools\n",
    "from dataclasses import dataclass\n",
    "class Foo():\n",
    "    table = {}\n",
    "    @functools.cache\n",
    "    def __new__(cls, x):\n",
    "        print(\"new\")\n",
    "        self = super().__new__(cls)\n",
    "        self.x = x\n",
    "        return self\n",
    "\n",
    "x = Foo(1)\n",
    "y = Foo(1)\n",
    "assert x is y\n",
    "z = Foo(2)\n",
    "x is z"
   ]
  },
  {
   "cell_type": "markdown",
   "id": "bf6e94fa",
   "metadata": {},
   "source": [
    "# smt eggbench\n",
    "Random scramblnig / walk to generate big terms?\n",
    "\n",
    "Do set equations also.\n",
    "\n",
    "\n",
    "\n",
    "\n"
   ]
  },
  {
   "cell_type": "code",
   "execution_count": 10,
   "id": "971d780d",
   "metadata": {},
   "outputs": [
    {
     "name": "stdout",
     "output_type": "stream",
     "text": [
      "(assert (forall ((x (_ BitVec 8)) (y (_ BitVec 8))) (= (bvadd x y) (bvadd y x))))\n",
      "(assert (forall ((x (_ BitVec 8)) (y (_ BitVec 8)) (z (_ BitVec 8)))\n",
      "  (= (bvadd x y z) (bvadd x y z))))\n",
      "(assert (forall ((x (_ BitVec 8))) (= (bvadd x #x00) x)))\n",
      "(assert (forall ((x (_ BitVec 8))) (= #x00 (bvadd x (bvneg x)))))\n",
      "(assert (forall ((x (_ BitVec 8))) (= #x00 (bvsub x x))))\n",
      "(assert (forall ((x (_ BitVec 8)) (y (_ BitVec 8))) (= (bvsub x y) (bvadd x (bvneg y)))))\n",
      "(assert (forall ((x (_ BitVec 8)) (y (_ BitVec 8))) (= (bvmul x y) (bvmul y x))))\n",
      "(assert (forall ((x (_ BitVec 8)) (y (_ BitVec 8)) (z (_ BitVec 8)))\n",
      "  (= (bvmul x y z) (bvmul x y z))))\n",
      "(assert (forall ((x (_ BitVec 8))) (= (bvmul x #x01) x)))\n",
      "(assert (forall ((x (_ BitVec 8))) (= #x00 (bvmul x #x00))))\n",
      "(assert (forall ((x (_ BitVec 8)) (y (_ BitVec 8))) (= (bvand x y) (bvand y x))))\n",
      "(assert (forall ((x (_ BitVec 8)) (y (_ BitVec 8)) (z (_ BitVec 8)))\n",
      "  (= (bvand x y z) (bvand x y z))))\n",
      "(assert (forall ((x (_ BitVec 8))) (= (bvand x #xff) x)))\n",
      "(assert (forall ((x (_ BitVec 8))) (= #x00 (bvand x #x00))))\n",
      "(assert (forall ((x (_ BitVec 8)) (y (_ BitVec 8))) (= (bvor x y) (bvor y x))))\n",
      "(assert (forall ((x (_ BitVec 8)) (y (_ BitVec 8)) (z (_ BitVec 8)))\n",
      "  (= (bvor x y z) (bvor x y z))))\n",
      "(assert (forall ((x (_ BitVec 8))) (= (bvor x #x00) x)))\n",
      "(assert (forall ((x (_ BitVec 8))) (= #xff (bvor x (bvnot x)))))\n",
      "(assert (forall ((x (_ BitVec 8)) (y (_ BitVec 8))) (= (bvxor x y) (bvxor y x))))\n",
      "(assert (forall ((x (_ BitVec 8)) (y (_ BitVec 8)) (z (_ BitVec 8)))\n",
      "  (= (bvxor x y z) (bvxor x y z))))\n",
      "(assert (forall ((x (_ BitVec 8))) (= (bvxor x #x00) x)))\n",
      "(assert (forall ((x (_ BitVec 8))) (= #x00 (bvxor x x))))\n",
      "(assert (forall ((x (_ BitVec 8))) (= (bvshl x #x00) x)))\n",
      "(assert (forall ((x (_ BitVec 8))) (= (bvlshr x #x00) x)))\n",
      "(assert (forall ((x (_ BitVec 8))) (= (bvand x x) x)))\n",
      "(assert (forall ((x (_ BitVec 8))) (= (bvor x x) x)))\n",
      "(assert (forall ((x (_ BitVec 8))) (= (bvxor x #x00) x)))\n",
      "(assert (forall ((x (_ BitVec 8))) (= (bvnot x) (bvsub (bvneg x) #x01))))\n",
      "(assert (forall ((x (_ BitVec 8)) (y (_ BitVec 8)))\n",
      "  (= (bvshl x y) (bvmul x (bvshl #x01 y)))))\n",
      "(assert (forall ((x (_ BitVec 8))) (= (bvsub x #x00) x)))\n",
      "(assert (forall ((x (_ BitVec 8))) (= (bvsub #x00 x) (bvneg x))))\n",
      "(assert (forall ((x (_ BitVec 8)) (y (_ BitVec 8))) (= (bvadd x (bvneg y)) (bvsub x y))))\n",
      "(assert (forall ((x (_ BitVec 8)) (y (_ BitVec 8))) (= (bvsub x (bvneg y)) (bvadd x y))))\n",
      "(assert (forall ((x (_ BitVec 8))) (= (bvand x #xff) x)))\n",
      "(assert (forall ((x (_ BitVec 8))) (= (bvor x #x00) x)))\n",
      "(assert (forall ((x (_ BitVec 8))) (= (bvxor x #x00) x)))\n",
      "(assert (forall ((x (_ BitVec 8)) (y (_ BitVec 8)) (z (_ BitVec 8)))\n",
      "  (= (bvand x (bvor y z)) (bvor (bvand x y) (bvand x z)))))\n",
      "(assert (forall ((x (_ BitVec 8)) (y (_ BitVec 8)) (z (_ BitVec 8)))\n",
      "  (= (bvor x (bvand y z)) (bvand (bvor x y) (bvor x z)))))\n",
      "(assert (forall ((x (_ BitVec 8)) (y (_ BitVec 8))) (= (bvand x (bvor x y)) x)))\n",
      "(assert (forall ((x (_ BitVec 8)) (y (_ BitVec 8))) (= (bvor x (bvand x y)) x)))\n",
      "(assert (forall ((x (_ BitVec 8))) (= (bvshl x #x00) x)))\n",
      "(assert (forall ((x (_ BitVec 8))) (= (bvlshr x #x00) x)))\n",
      "(assert (forall ((y (_ BitVec 8))) (= #x00 (bvshl #x00 y))))\n",
      "(assert (forall ((y (_ BitVec 8))) (= #x00 (bvlshr #x00 y))))\n",
      "(assert (forall ((x (_ BitVec 8)) (y (_ BitVec 8)))\n",
      "  (= (bvor (bvand x y) (bvand x (bvnot y))) x)))\n",
      "(assert (forall ((x (_ BitVec 8)) (y (_ BitVec 8)) (z (_ BitVec 8)))\n",
      "  (= (bvshl (bvand x y) z) (bvand (bvshl x z) (bvshl y z)))))\n",
      "(assert (forall ((x (_ BitVec 8)) (y (_ BitVec 8)) (z (_ BitVec 8)))\n",
      "  (= (bvlshr (bvand x y) z) (bvand (bvlshr x z) (bvlshr y z)))))\n"
     ]
    }
   ],
   "source": [
    "import kdrag.theories.bitvec as bv\n",
    "from kdrag.all import *\n",
    "for k,v in bv.BV8.__dict__.items():\n",
    "    if kd.kernel.is_proof(v):\n",
    "        print(\"(assert \" + v.thm.sexpr() + \")\")\n"
   ]
  },
  {
   "cell_type": "markdown",
   "id": "5362b362",
   "metadata": {},
   "source": [
    "# transfer functions\n"
   ]
  },
  {
   "cell_type": "code",
   "execution_count": null,
   "id": "78204b1b",
   "metadata": {},
   "outputs": [],
   "source": [
    "\n",
    "\n"
   ]
  },
  {
   "cell_type": "markdown",
   "id": "a5e7443f",
   "metadata": {},
   "source": [
    "# Transition relations\n",
    "I should do more with transition relations\n",
    "transitive closure\n",
    "\n",
    "prove verilog counter example.\n",
    "\n",
    "\n",
    "\n",
    "\n",
    "\n"
   ]
  },
  {
   "cell_type": "code",
   "execution_count": null,
   "id": "c2622831",
   "metadata": {},
   "outputs": [],
   "source": [
    "import kdrag.theories.nat as nat\n",
    "n = smt.Const(\"n\", nat.Nat)\n",
    "kd.define(\"trans_close\", [n, R], smt.If(n.is_Z, smt.Lambda([x,z], x == z), smt.Lambda([x,z], smt.Exists([y], R[x,y], trans_close(n.pred, R)[y,z])))"
   ]
  },
  {
   "cell_type": "markdown",
   "id": "525b8578",
   "metadata": {},
   "source": [
    "# cffi speed"
   ]
  },
  {
   "cell_type": "code",
   "execution_count": 3,
   "id": "5a4fa3b6",
   "metadata": {},
   "outputs": [
    {
     "data": {
      "text/plain": [
       "'(declare-fun F (Real) Bool)\\n(declare-fun y () Real)\\n(assert (F y))\\n'"
      ]
     },
     "execution_count": 3,
     "metadata": {},
     "output_type": "execute_result"
    }
   ],
   "source": [
    "import z3\n",
    "x = z3.Int(\"x\")\n",
    "x.serialize()\n",
    "y = z3.Real(\"y\")\n",
    "y.serialize()"
   ]
  },
  {
   "cell_type": "code",
   "execution_count": 1,
   "id": "df50c765",
   "metadata": {},
   "outputs": [],
   "source": [
    "import z3\n",
    "\n",
    "x = z3.Int(\"x\")"
   ]
  },
  {
   "cell_type": "code",
   "execution_count": 3,
   "id": "f43edb99",
   "metadata": {},
   "outputs": [
    {
     "name": "stdout",
     "output_type": "stream",
     "text": [
      "1.13 μs ± 210 ns per loop (mean ± std. dev. of 7 runs, 1,000,000 loops each)\n"
     ]
    }
   ],
   "source": [
    "%%timeit\n",
    "x.get_id()"
   ]
  },
  {
   "cell_type": "code",
   "execution_count": 46,
   "id": "d0e61bbb",
   "metadata": {},
   "outputs": [
    {
     "data": {
      "text/plain": [
       "'/home/philip/philzook58.github.io/.venv/lib/python3.12/site-packages/z3/include'"
      ]
     },
     "execution_count": 46,
     "metadata": {},
     "output_type": "execute_result"
    }
   ],
   "source": [
    "os.path.join(os.path.dirname(z3.__file__), \"include\")"
   ]
  },
  {
   "cell_type": "code",
   "execution_count": 6,
   "id": "e1ebcdd6",
   "metadata": {},
   "outputs": [
    {
     "name": "stdout",
     "output_type": "stream",
     "text": [
      "generating ./_z3_cffi.c\n",
      "the current directory is '/home/philip/philzook58.github.io/_drafts'\n"
     ]
    },
    {
     "data": {
      "text/plain": [
       "'/home/philip/philzook58.github.io/_drafts/_z3_cffi.cpython-312-x86_64-linux-gnu.so'"
      ]
     },
     "execution_count": 6,
     "metadata": {},
     "output_type": "execute_result"
    }
   ],
   "source": [
    "from cffi import FFI\n",
    "ffibuilder = FFI()\n",
    "\n",
    "import os\n",
    "header_path = os.path.join(os.path.dirname(z3.__file__), \"include\") #, \"z3_api.h\")\n",
    "so_path = os.path.join(os.path.dirname(z3.__file__), \"lib\") #, \"libz3.so\") # there are actually two files?\n",
    "\n",
    "# cdef() expects a single string declaring the C types, functions and\n",
    "# globals needed to use the shared object. It must be in valid C syntax.\n",
    "ffibuilder.cdef(\"\"\"\n",
    "    unsigned Z3_get_ast_id(void * c, void * t);\n",
    "    void * Z3_mk_eq(void * c, void * a1, void * a2);\n",
    "\n",
    "\"\"\")\n",
    "\n",
    "# set_source() gives the name of the python extension module to\n",
    "# produce, and some C source code as a string.  This C code needs\n",
    "# to make the declared functions, types and globals available,\n",
    "# so it is often just the \"#include\".\n",
    "ffibuilder.set_source(\"_z3_cffi\",\n",
    "\"\"\"\n",
    "     #include \"z3.h\"   // the C header of the library\n",
    "\"\"\",\n",
    "     libraries=['z3'], library_dirs=[so_path], include_dirs=[header_path])   # library name, for the linker\n",
    "\n",
    "ffibuilder.compile(verbose=True)"
   ]
  },
  {
   "cell_type": "code",
   "execution_count": 6,
   "id": "934e59f4",
   "metadata": {},
   "outputs": [
    {
     "data": {
      "text/plain": [
       "809229680"
      ]
     },
     "execution_count": 6,
     "metadata": {},
     "output_type": "execute_result"
    }
   ],
   "source": [
    "x.ctx_ref(), x.as_ast()\n",
    "x.ctx_ref().value"
   ]
  },
  {
   "cell_type": "code",
   "execution_count": null,
   "id": "7fbf8aa4",
   "metadata": {},
   "outputs": [],
   "source": [
    "dir(x)\n"
   ]
  },
  {
   "cell_type": "code",
   "execution_count": 3,
   "id": "d7c019f5",
   "metadata": {},
   "outputs": [
    {
     "data": {
      "text/plain": [
       "5"
      ]
     },
     "execution_count": 3,
     "metadata": {},
     "output_type": "execute_result"
    }
   ],
   "source": [
    "from _z3_cffi import ffi, lib\n",
    "ctx = ffi.cast(\"void *\", x.ctx_ref().value)\n",
    "lib.Z3_get_ast_id(ctx, ffi.cast(\"void *\", x.as_ast().value))"
   ]
  },
  {
   "cell_type": "code",
   "execution_count": 8,
   "id": "aa343df0",
   "metadata": {},
   "outputs": [
    {
     "name": "stdout",
     "output_type": "stream",
     "text": [
      "00400000-00420000 r--p 00000000 103:05 87031863                          /usr/bin/python3.12\n",
      "00420000-00703000 r-xp 00020000 103:05 87031863                          /usr/bin/python3.12\n",
      "00703000-00a28000 r--p 00303000 103:05 87031863                          /usr/bin/python3.12\n",
      "00a28000-00a29000 r--p 00627000 103:05 87031863                          /usr/bin/python3.12\n",
      "00a29000-00ba7000 rw-p 00628000 103:05 87031863                          /usr/bin/python3.12\n",
      "00ba7000-00bab000 rw-p 00000000 00:00 0 \n",
      "30c54000-31e57000 rw-p 00000000 00:00 0                                  [heap]\n",
      "7bed10000000-7bed10021000 rw-p 00000000 00:00 0 \n",
      "7bed10021000-7bed14000000 ---p 00000000 00:00 0 \n",
      "7bed18000000-7bed18043000 rw-p 00000000 00:00 0 \n",
      "7bed18043000-7bed1c000000 ---p 00000000 00:00 0 \n",
      "7bed1c000000-7bed1c029000 rw-p 00000000 00:00 0 \n",
      "7bed1c029000-7bed20000000 ---p 00000000 00:00 0 \n",
      "7bed229de000-7bed229df000 ---p 00000000 00:00 0 \n",
      "7bed229df000-7bed231df000 rw-p 00000000 00:00 0 \n",
      "7bed231df000-7bed24021000 rw-p 00000000 00:00 0 \n",
      "7bed24021000-7bed28000000 ---p 00000000 00:00 0 \n",
      "7bed28000000-7bed28021000 rw-p 00000000 00:00 0 \n",
      "7bed28021000-7bed2c000000 ---p 00000000 00:00 0 \n",
      "7bed2c000000-7bed2c021000 rw-p 00000000 00:00 0 \n",
      "7bed2c021000-7bed30000000 ---p 00000000 00:00 0 \n",
      "7bed30000000-7bed30021000 rw-p 00000000 00:00 0 \n",
      "7bed30021000-7bed34000000 ---p 00000000 00:00 0 \n",
      "7bed340df000-7bed34a00000 rw-p 00000000 00:00 0 \n",
      "7bed34a00000-7bed34a99000 r--p 00000000 103:05 58591027                  /home/philip/philzook58.github.io/.venv/lib/python3.12/site-packages/z3/lib/libz3.so\n",
      "7bed34a99000-7bed35a03000 r-xp 00099000 103:05 58591027                  /home/philip/philzook58.github.io/.venv/lib/python3.12/site-packages/z3/lib/libz3.so\n",
      "7bed35a03000-7bed35c76000 r--p 01003000 103:05 58591027                  /home/philip/philzook58.github.io/.venv/lib/python3.12/site-packages/z3/lib/libz3.so\n",
      "7bed35c76000-7bed35c77000 ---p 01276000 103:05 58591027                  /home/philip/philzook58.github.io/.venv/lib/python3.12/site-packages/z3/lib/libz3.so\n",
      "7bed35c77000-7bed35ca5000 r--p 01276000 103:05 58591027                  /home/philip/philzook58.github.io/.venv/lib/python3.12/site-packages/z3/lib/libz3.so\n",
      "7bed35ca5000-7bed35ca7000 rw-p 012a4000 103:05 58591027                  /home/philip/philzook58.github.io/.venv/lib/python3.12/site-packages/z3/lib/libz3.so\n",
      "7bed35cfc000-7bed35ffc000 rw-p 00000000 00:00 0 \n",
      "7bed35ffc000-7bed35ffd000 ---p 00000000 00:00 0 \n",
      "7bed35ffd000-7bed367fd000 rw-p 00000000 00:00 0 \n",
      "7bed367fd000-7bed367fe000 ---p 00000000 00:00 0 \n",
      "7bed367fe000-7bed36ffe000 rw-p 00000000 00:00 0 \n",
      "7bed36ffe000-7bed36fff000 ---p 00000000 00:00 0 \n",
      "7bed36fff000-7bed377ff000 rw-p 00000000 00:00 0 \n",
      "7bed377ff000-7bed37800000 ---p 00000000 00:00 0 \n",
      "7bed37800000-7bed38000000 rw-p 00000000 00:00 0 \n",
      "7bed38000000-7bed38021000 rw-p 00000000 00:00 0 \n",
      "7bed38021000-7bed3c000000 ---p 00000000 00:00 0 \n",
      "7bed3c000000-7bed3c021000 rw-p 00000000 00:00 0 \n",
      "7bed3c021000-7bed40000000 ---p 00000000 00:00 0 \n",
      "7bed40000000-7bed4005f000 rw-p 00000000 00:00 0 \n",
      "7bed4005f000-7bed44000000 ---p 00000000 00:00 0 \n",
      "7bed44026000-7bed44226000 rw-p 00000000 00:00 0 \n",
      "7bed4427f000-7bed44287000 r--p 00000000 103:05 53100635                  /home/philip/philzook58.github.io/.venv/lib/python3.12/site-packages/_cffi_backend.cpython-312-x86_64-linux-gnu.so\n",
      "7bed44287000-7bed442ab000 r-xp 00008000 103:05 53100635                  /home/philip/philzook58.github.io/.venv/lib/python3.12/site-packages/_cffi_backend.cpython-312-x86_64-linux-gnu.so\n",
      "7bed442ab000-7bed442b8000 r--p 0002c000 103:05 53100635                  /home/philip/philzook58.github.io/.venv/lib/python3.12/site-packages/_cffi_backend.cpython-312-x86_64-linux-gnu.so\n",
      "7bed442b8000-7bed442b9000 r--p 00038000 103:05 53100635                  /home/philip/philzook58.github.io/.venv/lib/python3.12/site-packages/_cffi_backend.cpython-312-x86_64-linux-gnu.so\n",
      "7bed442b9000-7bed442bd000 rw-p 00039000 103:05 53100635                  /home/philip/philzook58.github.io/.venv/lib/python3.12/site-packages/_cffi_backend.cpython-312-x86_64-linux-gnu.so\n",
      "7bed442bd000-7bed443bf000 rw-p 00000000 00:00 0 \n",
      "7bed443bf000-7bed443c4000 r--p 00000000 103:05 58724174                  /home/philip/philzook58.github.io/.venv/lib/python3.12/site-packages/debugpy/_vendored/pydevd/_pydevd_sys_monitoring/_pydevd_sys_monitoring_cython.cpython-312-x86_64-linux-gnu.so\n",
      "7bed443c4000-7bed4442d000 r-xp 00005000 103:05 58724174                  /home/philip/philzook58.github.io/.venv/lib/python3.12/site-packages/debugpy/_vendored/pydevd/_pydevd_sys_monitoring/_pydevd_sys_monitoring_cython.cpython-312-x86_64-linux-gnu.so\n",
      "7bed4442d000-7bed44436000 r--p 0006e000 103:05 58724174                  /home/philip/philzook58.github.io/.venv/lib/python3.12/site-packages/debugpy/_vendored/pydevd/_pydevd_sys_monitoring/_pydevd_sys_monitoring_cython.cpython-312-x86_64-linux-gnu.so\n",
      "7bed44436000-7bed44437000 r--p 00076000 103:05 58724174                  /home/philip/philzook58.github.io/.venv/lib/python3.12/site-packages/debugpy/_vendored/pydevd/_pydevd_sys_monitoring/_pydevd_sys_monitoring_cython.cpython-312-x86_64-linux-gnu.so\n",
      "7bed44437000-7bed44439000 rw-p 00077000 103:05 58724174                  /home/philip/philzook58.github.io/.venv/lib/python3.12/site-packages/debugpy/_vendored/pydevd/_pydevd_sys_monitoring/_pydevd_sys_monitoring_cython.cpython-312-x86_64-linux-gnu.so\n",
      "7bed44439000-7bed4443a000 rw-p 00000000 00:00 0 \n",
      "7bed4443a000-7bed44440000 r--p 00000000 103:05 58723341                  /home/philip/philzook58.github.io/.venv/lib/python3.12/site-packages/debugpy/_vendored/pydevd/_pydevd_bundle/pydevd_cython.cpython-312-x86_64-linux-gnu.so\n",
      "7bed44440000-7bed444c8000 r-xp 00006000 103:05 58723341                  /home/philip/philzook58.github.io/.venv/lib/python3.12/site-packages/debugpy/_vendored/pydevd/_pydevd_bundle/pydevd_cython.cpython-312-x86_64-linux-gnu.so\n",
      "7bed444c8000-7bed444d4000 r--p 0008e000 103:05 58723341                  /home/philip/philzook58.github.io/.venv/lib/python3.12/site-packages/debugpy/_vendored/pydevd/_pydevd_bundle/pydevd_cython.cpython-312-x86_64-linux-gnu.so\n",
      "7bed444d4000-7bed444d5000 r--p 00099000 103:05 58723341                  /home/philip/philzook58.github.io/.venv/lib/python3.12/site-packages/debugpy/_vendored/pydevd/_pydevd_bundle/pydevd_cython.cpython-312-x86_64-linux-gnu.so\n",
      "7bed444d5000-7bed444d8000 rw-p 0009a000 103:05 58723341                  /home/philip/philzook58.github.io/.venv/lib/python3.12/site-packages/debugpy/_vendored/pydevd/_pydevd_bundle/pydevd_cython.cpython-312-x86_64-linux-gnu.so\n",
      "7bed444d8000-7bed445d9000 rw-p 00000000 00:00 0 \n",
      "7bed445d9000-7bed445da000 ---p 00000000 00:00 0 \n",
      "7bed445da000-7bed44dda000 rw-p 00000000 00:00 0 \n",
      "7bed44dda000-7bed44ddb000 ---p 00000000 00:00 0 \n",
      "7bed44ddb000-7bed455db000 rw-p 00000000 00:00 0 \n",
      "7bed455db000-7bed455dc000 ---p 00000000 00:00 0 \n",
      "7bed455dc000-7bed45ddc000 rw-p 00000000 00:00 0 \n",
      "7bed45ddc000-7bed45ddd000 ---p 00000000 00:00 0 \n",
      "7bed45ddd000-7bed465dd000 rw-p 00000000 00:00 0 \n",
      "7bed465dd000-7bed465de000 ---p 00000000 00:00 0 \n",
      "7bed465de000-7bed46dde000 rw-p 00000000 00:00 0 \n",
      "7bed46dde000-7bed46ddf000 ---p 00000000 00:00 0 \n",
      "7bed46ddf000-7bed475df000 rw-p 00000000 00:00 0 \n",
      "7bed475df000-7bed476df000 rw-p 00000000 00:00 0 \n",
      "7bed476df000-7bed476e1000 r--p 00000000 103:05 87035529                  /usr/lib/x86_64-linux-gnu/libffi.so.8.1.4\n",
      "7bed476e1000-7bed476e8000 r-xp 00002000 103:05 87035529                  /usr/lib/x86_64-linux-gnu/libffi.so.8.1.4\n",
      "7bed476e8000-7bed476e9000 r--p 00009000 103:05 87035529                  /usr/lib/x86_64-linux-gnu/libffi.so.8.1.4\n",
      "7bed476e9000-7bed476ea000 r--p 0000a000 103:05 87035529                  /usr/lib/x86_64-linux-gnu/libffi.so.8.1.4\n",
      "7bed476ea000-7bed476eb000 rw-p 0000b000 103:05 87035529                  /usr/lib/x86_64-linux-gnu/libffi.so.8.1.4\n",
      "7bed476eb000-7bed480eb000 rw-p 00000000 00:00 0 \n",
      "7bed480eb000-7bed4810b000 r--p 00000000 103:05 87040112                  /usr/lib/x86_64-linux-gnu/libsqlite3.so.0.8.6\n",
      "7bed4810b000-7bed48216000 r-xp 00020000 103:05 87040112                  /usr/lib/x86_64-linux-gnu/libsqlite3.so.0.8.6\n",
      "7bed48216000-7bed4824a000 r--p 0012b000 103:05 87040112                  /usr/lib/x86_64-linux-gnu/libsqlite3.so.0.8.6\n",
      "7bed4824a000-7bed4824e000 r--p 0015e000 103:05 87040112                  /usr/lib/x86_64-linux-gnu/libsqlite3.so.0.8.6\n",
      "7bed4824e000-7bed48252000 rw-p 00162000 103:05 87040112                  /usr/lib/x86_64-linux-gnu/libsqlite3.so.0.8.6\n",
      "7bed48252000-7bed4893e000 rw-p 00000000 00:00 0 \n",
      "7bed4893e000-7bed48941000 r--p 00000000 103:05 87033108                  /usr/lib/x86_64-linux-gnu/liblzma.so.5.4.5\n",
      "7bed48941000-7bed48963000 r-xp 00003000 103:05 87033108                  /usr/lib/x86_64-linux-gnu/liblzma.so.5.4.5\n",
      "7bed48963000-7bed4896e000 r--p 00025000 103:05 87033108                  /usr/lib/x86_64-linux-gnu/liblzma.so.5.4.5\n",
      "7bed4896e000-7bed4896f000 r--p 00030000 103:05 87033108                  /usr/lib/x86_64-linux-gnu/liblzma.so.5.4.5\n",
      "7bed4896f000-7bed48970000 rw-p 00031000 103:05 87033108                  /usr/lib/x86_64-linux-gnu/liblzma.so.5.4.5\n",
      "7bed48970000-7bed48977000 r--p 00000000 103:05 87044426                  /usr/lib/python3.12/lib-dynload/_decimal.cpython-312-x86_64-linux-gnu.so\n",
      "7bed48977000-7bed489b7000 r-xp 00007000 103:05 87044426                  /usr/lib/python3.12/lib-dynload/_decimal.cpython-312-x86_64-linux-gnu.so\n",
      "7bed489b7000-7bed489c8000 r--p 00047000 103:05 87044426                  /usr/lib/python3.12/lib-dynload/_decimal.cpython-312-x86_64-linux-gnu.so\n",
      "7bed489c8000-7bed489c9000 r--p 00057000 103:05 87044426                  /usr/lib/python3.12/lib-dynload/_decimal.cpython-312-x86_64-linux-gnu.so\n",
      "7bed489c9000-7bed489cc000 rw-p 00058000 103:05 87044426                  /usr/lib/python3.12/lib-dynload/_decimal.cpython-312-x86_64-linux-gnu.so\n",
      "7bed489cc000-7bed48acc000 rw-p 00000000 00:00 0 \n",
      "7bed48acc000-7bed48ada000 r--p 00000000 103:05 87058191                  /usr/lib/x86_64-linux-gnu/libtinfo.so.6.4\n",
      "7bed48ada000-7bed48aed000 r-xp 0000e000 103:05 87058191                  /usr/lib/x86_64-linux-gnu/libtinfo.so.6.4\n",
      "7bed48aed000-7bed48afb000 r--p 00021000 103:05 87058191                  /usr/lib/x86_64-linux-gnu/libtinfo.so.6.4\n",
      "7bed48afb000-7bed48aff000 r--p 0002e000 103:05 87058191                  /usr/lib/x86_64-linux-gnu/libtinfo.so.6.4\n",
      "7bed48aff000-7bed48b00000 rw-p 00032000 103:05 87058191                  /usr/lib/x86_64-linux-gnu/libtinfo.so.6.4\n",
      "7bed48b00000-7bed48e00000 rw-p 00000000 00:00 0 \n",
      "7bed48e00000-7bed48eb3000 r--p 00000000 103:05 87033803                  /usr/lib/x86_64-linux-gnu/libcrypto.so.3\n",
      "7bed48eb3000-7bed491e6000 r-xp 000b3000 103:05 87033803                  /usr/lib/x86_64-linux-gnu/libcrypto.so.3\n",
      "7bed491e6000-7bed492b1000 r--p 003e6000 103:05 87033803                  /usr/lib/x86_64-linux-gnu/libcrypto.so.3\n",
      "7bed492b1000-7bed4930d000 r--p 004b0000 103:05 87033803                  /usr/lib/x86_64-linux-gnu/libcrypto.so.3\n",
      "7bed4930d000-7bed49310000 rw-p 0050c000 103:05 87033803                  /usr/lib/x86_64-linux-gnu/libcrypto.so.3\n",
      "7bed49310000-7bed49313000 rw-p 00000000 00:00 0 \n",
      "7bed49314000-7bed4931d000 r--p 00000000 103:05 87058073                  /usr/lib/x86_64-linux-gnu/libncursesw.so.6.4\n",
      "7bed4931d000-7bed49347000 r-xp 00009000 103:05 87058073                  /usr/lib/x86_64-linux-gnu/libncursesw.so.6.4\n",
      "7bed49347000-7bed4934e000 r--p 00033000 103:05 87058073                  /usr/lib/x86_64-linux-gnu/libncursesw.so.6.4\n",
      "7bed4934e000-7bed4934f000 r--p 00039000 103:05 87058073                  /usr/lib/x86_64-linux-gnu/libncursesw.so.6.4\n",
      "7bed4934f000-7bed49350000 rw-p 0003a000 103:05 87058073                  /usr/lib/x86_64-linux-gnu/libncursesw.so.6.4\n",
      "7bed49371000-7bed49372000 r--p 00000000 103:05 41945972                  /home/philip/philzook58.github.io/_drafts/_z3_cffi.cpython-312-x86_64-linux-gnu.so\n",
      "7bed49372000-7bed49373000 r-xp 00001000 103:05 41945972                  /home/philip/philzook58.github.io/_drafts/_z3_cffi.cpython-312-x86_64-linux-gnu.so\n",
      "7bed49373000-7bed49374000 r--p 00002000 103:05 41945972                  /home/philip/philzook58.github.io/_drafts/_z3_cffi.cpython-312-x86_64-linux-gnu.so\n",
      "7bed49374000-7bed49375000 r--p 00002000 103:05 41945972                  /home/philip/philzook58.github.io/_drafts/_z3_cffi.cpython-312-x86_64-linux-gnu.so\n",
      "7bed49375000-7bed49376000 rw-p 00003000 103:05 41945972                  /home/philip/philzook58.github.io/_drafts/_z3_cffi.cpython-312-x86_64-linux-gnu.so\n",
      "7bed49376000-7bed49386000 rw-p 00000000 00:00 0 \n",
      "7bed49386000-7bed4938c000 r--p 00000000 103:05 87044395                  /usr/lib/python3.12/lib-dynload/_ctypes.cpython-312-x86_64-linux-gnu.so\n",
      "7bed4938c000-7bed4939e000 r-xp 00006000 103:05 87044395                  /usr/lib/python3.12/lib-dynload/_ctypes.cpython-312-x86_64-linux-gnu.so\n",
      "7bed4939e000-7bed493a4000 r--p 00018000 103:05 87044395                  /usr/lib/python3.12/lib-dynload/_ctypes.cpython-312-x86_64-linux-gnu.so\n",
      "7bed493a4000-7bed493a5000 r--p 0001d000 103:05 87044395                  /usr/lib/python3.12/lib-dynload/_ctypes.cpython-312-x86_64-linux-gnu.so\n",
      "7bed493a5000-7bed493a9000 rw-p 0001e000 103:05 87044395                  /usr/lib/python3.12/lib-dynload/_ctypes.cpython-312-x86_64-linux-gnu.so\n",
      "7bed493a9000-7bed493ab000 r--p 00000000 103:05 55224141                  /home/philip/philzook58.github.io/.venv/lib/python3.12/site-packages/psutil/_psutil_posix.abi3.so\n",
      "7bed493ab000-7bed493ad000 r-xp 00002000 103:05 55224141                  /home/philip/philzook58.github.io/.venv/lib/python3.12/site-packages/psutil/_psutil_posix.abi3.so\n",
      "7bed493ad000-7bed493ae000 r--p 00004000 103:05 55224141                  /home/philip/philzook58.github.io/.venv/lib/python3.12/site-packages/psutil/_psutil_posix.abi3.so\n",
      "7bed493ae000-7bed493af000 r--p 00004000 103:05 55224141                  /home/philip/philzook58.github.io/.venv/lib/python3.12/site-packages/psutil/_psutil_posix.abi3.so\n",
      "7bed493af000-7bed493b0000 rw-p 00005000 103:05 55224141                  /home/philip/philzook58.github.io/.venv/lib/python3.12/site-packages/psutil/_psutil_posix.abi3.so\n",
      "7bed493b0000-7bed493b2000 r--p 00000000 103:05 55224004                  /home/philip/philzook58.github.io/.venv/lib/python3.12/site-packages/psutil/_psutil_linux.abi3.so\n",
      "7bed493b2000-7bed493b5000 r-xp 00002000 103:05 55224004                  /home/philip/philzook58.github.io/.venv/lib/python3.12/site-packages/psutil/_psutil_linux.abi3.so\n",
      "7bed493b5000-7bed493b6000 r--p 00005000 103:05 55224004                  /home/philip/philzook58.github.io/.venv/lib/python3.12/site-packages/psutil/_psutil_linux.abi3.so\n",
      "7bed493b6000-7bed493b7000 r--p 00005000 103:05 55224004                  /home/philip/philzook58.github.io/.venv/lib/python3.12/site-packages/psutil/_psutil_linux.abi3.so\n",
      "7bed493b7000-7bed493b8000 rw-p 00006000 103:05 55224004                  /home/philip/philzook58.github.io/.venv/lib/python3.12/site-packages/psutil/_psutil_linux.abi3.so\n",
      "7bed493b8000-7bed493ba000 r--p 00000000 103:05 87044488                  /usr/lib/python3.12/lib-dynload/resource.cpython-312-x86_64-linux-gnu.so\n",
      "7bed493ba000-7bed493bb000 r-xp 00002000 103:05 87044488                  /usr/lib/python3.12/lib-dynload/resource.cpython-312-x86_64-linux-gnu.so\n",
      "7bed493bb000-7bed493bc000 r--p 00003000 103:05 87044488                  /usr/lib/python3.12/lib-dynload/resource.cpython-312-x86_64-linux-gnu.so\n",
      "7bed493bc000-7bed493bd000 r--p 00003000 103:05 87044488                  /usr/lib/python3.12/lib-dynload/resource.cpython-312-x86_64-linux-gnu.so\n",
      "7bed493bd000-7bed493be000 rw-p 00004000 103:05 87044488                  /usr/lib/python3.12/lib-dynload/resource.cpython-312-x86_64-linux-gnu.so\n",
      "7bed493be000-7bed493c0000 r--p 00000000 103:05 87044450                  /usr/lib/python3.12/lib-dynload/_lsprof.cpython-312-x86_64-linux-gnu.so\n",
      "7bed493c0000-7bed493c3000 r-xp 00002000 103:05 87044450                  /usr/lib/python3.12/lib-dynload/_lsprof.cpython-312-x86_64-linux-gnu.so\n",
      "7bed493c3000-7bed493c5000 r--p 00005000 103:05 87044450                  /usr/lib/python3.12/lib-dynload/_lsprof.cpython-312-x86_64-linux-gnu.so\n",
      "7bed493c5000-7bed493c6000 r--p 00006000 103:05 87044450                  /usr/lib/python3.12/lib-dynload/_lsprof.cpython-312-x86_64-linux-gnu.so\n",
      "7bed493c6000-7bed493c7000 rw-p 00007000 103:05 87044450                  /usr/lib/python3.12/lib-dynload/_lsprof.cpython-312-x86_64-linux-gnu.so\n",
      "7bed493c7000-7bed493ce000 r--p 00000000 103:05 87044470                  /usr/lib/python3.12/lib-dynload/_sqlite3.cpython-312-x86_64-linux-gnu.so\n",
      "7bed493ce000-7bed493e0000 r-xp 00007000 103:05 87044470                  /usr/lib/python3.12/lib-dynload/_sqlite3.cpython-312-x86_64-linux-gnu.so\n",
      "7bed493e0000-7bed493e7000 r--p 00019000 103:05 87044470                  /usr/lib/python3.12/lib-dynload/_sqlite3.cpython-312-x86_64-linux-gnu.so\n",
      "7bed493e7000-7bed493e8000 r--p 00020000 103:05 87044470                  /usr/lib/python3.12/lib-dynload/_sqlite3.cpython-312-x86_64-linux-gnu.so\n",
      "7bed493e8000-7bed493ea000 rw-p 00021000 103:05 87044470                  /usr/lib/python3.12/lib-dynload/_sqlite3.cpython-312-x86_64-linux-gnu.so\n",
      "7bed493ea000-7bed494ea000 rw-p 00000000 00:00 0 \n",
      "7bed494ea000-7bed49508000 r--p 00000000 103:05 87033804                  /usr/lib/x86_64-linux-gnu/libssl.so.3\n",
      "7bed49508000-7bed4956a000 r-xp 0001e000 103:05 87033804                  /usr/lib/x86_64-linux-gnu/libssl.so.3\n",
      "7bed4956a000-7bed49586000 r--p 00080000 103:05 87033804                  /usr/lib/x86_64-linux-gnu/libssl.so.3\n",
      "7bed49586000-7bed49590000 r--p 0009c000 103:05 87033804                  /usr/lib/x86_64-linux-gnu/libssl.so.3\n",
      "7bed49590000-7bed49594000 rw-p 000a6000 103:05 87033804                  /usr/lib/x86_64-linux-gnu/libssl.so.3\n",
      "7bed49596000-7bed49599000 r--p 00000000 103:05 87044454                  /usr/lib/python3.12/lib-dynload/_lzma.cpython-312-x86_64-linux-gnu.so\n",
      "7bed49599000-7bed4959e000 r-xp 00003000 103:05 87044454                  /usr/lib/python3.12/lib-dynload/_lzma.cpython-312-x86_64-linux-gnu.so\n",
      "7bed4959e000-7bed495a1000 r--p 00008000 103:05 87044454                  /usr/lib/python3.12/lib-dynload/_lzma.cpython-312-x86_64-linux-gnu.so\n",
      "7bed495a1000-7bed495a2000 r--p 0000a000 103:05 87044454                  /usr/lib/python3.12/lib-dynload/_lzma.cpython-312-x86_64-linux-gnu.so\n",
      "7bed495a2000-7bed495a3000 rw-p 0000b000 103:05 87044454                  /usr/lib/python3.12/lib-dynload/_lzma.cpython-312-x86_64-linux-gnu.so\n",
      "7bed495a3000-7bed495a5000 r--p 00000000 103:05 87031935                  /usr/lib/x86_64-linux-gnu/libbz2.so.1.0.4\n",
      "7bed495a5000-7bed495b3000 r-xp 00002000 103:05 87031935                  /usr/lib/x86_64-linux-gnu/libbz2.so.1.0.4\n",
      "7bed495b3000-7bed495b5000 r--p 00010000 103:05 87031935                  /usr/lib/x86_64-linux-gnu/libbz2.so.1.0.4\n",
      "7bed495b5000-7bed495b6000 r--p 00011000 103:05 87031935                  /usr/lib/x86_64-linux-gnu/libbz2.so.1.0.4\n",
      "7bed495b6000-7bed495b7000 rw-p 00012000 103:05 87031935                  /usr/lib/x86_64-linux-gnu/libbz2.so.1.0.4\n",
      "7bed495b7000-7bed495bb000 r--p 00000000 103:05 87034381                  /usr/lib/python3.12/lib-dynload/_hashlib.cpython-312-x86_64-linux-gnu.so\n",
      "7bed495bb000-7bed495c1000 r-xp 00004000 103:05 87034381                  /usr/lib/python3.12/lib-dynload/_hashlib.cpython-312-x86_64-linux-gnu.so\n",
      "7bed495c1000-7bed495c5000 r--p 0000a000 103:05 87034381                  /usr/lib/python3.12/lib-dynload/_hashlib.cpython-312-x86_64-linux-gnu.so\n",
      "7bed495c5000-7bed495c6000 r--p 0000d000 103:05 87034381                  /usr/lib/python3.12/lib-dynload/_hashlib.cpython-312-x86_64-linux-gnu.so\n",
      "7bed495c6000-7bed495c8000 rw-p 0000e000 103:05 87034381                  /usr/lib/python3.12/lib-dynload/_hashlib.cpython-312-x86_64-linux-gnu.so\n",
      "7bed495c8000-7bed495db000 r--p 00000000 103:05 87034382                  /usr/lib/python3.12/lib-dynload/_ssl.cpython-312-x86_64-linux-gnu.so\n",
      "7bed495db000-7bed495e8000 r-xp 00013000 103:05 87034382                  /usr/lib/python3.12/lib-dynload/_ssl.cpython-312-x86_64-linux-gnu.so\n",
      "7bed495e8000-7bed495f6000 r--p 00020000 103:05 87034382                  /usr/lib/python3.12/lib-dynload/_ssl.cpython-312-x86_64-linux-gnu.so\n",
      "7bed495f6000-7bed495f7000 r--p 0002d000 103:05 87034382                  /usr/lib/python3.12/lib-dynload/_ssl.cpython-312-x86_64-linux-gnu.so\n",
      "7bed495f7000-7bed49600000 rw-p 0002e000 103:05 87034382                  /usr/lib/python3.12/lib-dynload/_ssl.cpython-312-x86_64-linux-gnu.so\n",
      "7bed49600000-7bed4969d000 r--p 00000000 103:05 87035298                  /usr/lib/x86_64-linux-gnu/libstdc++.so.6.0.33\n",
      "7bed4969d000-7bed497e5000 r-xp 0009d000 103:05 87035298                  /usr/lib/x86_64-linux-gnu/libstdc++.so.6.0.33\n",
      "7bed497e5000-7bed4986c000 r--p 001e5000 103:05 87035298                  /usr/lib/x86_64-linux-gnu/libstdc++.so.6.0.33\n",
      "7bed4986c000-7bed49877000 r--p 0026b000 103:05 87035298                  /usr/lib/x86_64-linux-gnu/libstdc++.so.6.0.33\n",
      "7bed49877000-7bed4987a000 rw-p 00276000 103:05 87035298                  /usr/lib/x86_64-linux-gnu/libstdc++.so.6.0.33\n",
      "7bed4987a000-7bed4987e000 rw-p 00000000 00:00 0 \n",
      "7bed4987f000-7bed49881000 r--p 00000000 103:05 87044386                  /usr/lib/python3.12/lib-dynload/_bz2.cpython-312-x86_64-linux-gnu.so\n",
      "7bed49881000-7bed49884000 r-xp 00002000 103:05 87044386                  /usr/lib/python3.12/lib-dynload/_bz2.cpython-312-x86_64-linux-gnu.so\n",
      "7bed49884000-7bed49886000 r--p 00005000 103:05 87044386                  /usr/lib/python3.12/lib-dynload/_bz2.cpython-312-x86_64-linux-gnu.so\n",
      "7bed49886000-7bed49887000 r--p 00006000 103:05 87044386                  /usr/lib/python3.12/lib-dynload/_bz2.cpython-312-x86_64-linux-gnu.so\n",
      "7bed49887000-7bed49888000 rw-p 00007000 103:05 87044386                  /usr/lib/python3.12/lib-dynload/_bz2.cpython-312-x86_64-linux-gnu.so\n",
      "7bed49888000-7bed4988a000 r--p 00000000 103:05 87044469                  /usr/lib/python3.12/lib-dynload/_queue.cpython-312-x86_64-linux-gnu.so\n",
      "7bed4988a000-7bed4988c000 r-xp 00002000 103:05 87044469                  /usr/lib/python3.12/lib-dynload/_queue.cpython-312-x86_64-linux-gnu.so\n",
      "7bed4988c000-7bed4988d000 r--p 00004000 103:05 87044469                  /usr/lib/python3.12/lib-dynload/_queue.cpython-312-x86_64-linux-gnu.so\n",
      "7bed4988d000-7bed4988e000 r--p 00004000 103:05 87044469                  /usr/lib/python3.12/lib-dynload/_queue.cpython-312-x86_64-linux-gnu.so\n",
      "7bed4988e000-7bed4988f000 rw-p 00005000 103:05 87044469                  /usr/lib/python3.12/lib-dynload/_queue.cpython-312-x86_64-linux-gnu.so\n",
      "7bed4988f000-7bed4998f000 rw-p 00000000 00:00 0 \n",
      "7bed4998f000-7bed49993000 r--p 00000000 103:05 87035534                  /usr/lib/x86_64-linux-gnu/libgcc_s.so.1\n",
      "7bed49993000-7bed499b7000 r-xp 00004000 103:05 87035534                  /usr/lib/x86_64-linux-gnu/libgcc_s.so.1\n",
      "7bed499b7000-7bed499bb000 r--p 00028000 103:05 87035534                  /usr/lib/x86_64-linux-gnu/libgcc_s.so.1\n",
      "7bed499bb000-7bed499bc000 r--p 0002b000 103:05 87035534                  /usr/lib/x86_64-linux-gnu/libgcc_s.so.1\n",
      "7bed499bc000-7bed499bd000 rw-p 0002c000 103:05 87035534                  /usr/lib/x86_64-linux-gnu/libgcc_s.so.1\n",
      "7bed499bd000-7bed499ca000 r--p 00000000 103:05 60165874                  /home/philip/philzook58.github.io/.venv/lib/python3.12/site-packages/pyzmq.libs/libsodium-14725a37.so.26.2.0\n",
      "7bed499ca000-7bed49ac0000 r-xp 0000d000 103:05 60165874                  /home/philip/philzook58.github.io/.venv/lib/python3.12/site-packages/pyzmq.libs/libsodium-14725a37.so.26.2.0\n",
      "7bed49ac0000-7bed49ad5000 r--p 00103000 103:05 60165874                  /home/philip/philzook58.github.io/.venv/lib/python3.12/site-packages/pyzmq.libs/libsodium-14725a37.so.26.2.0\n",
      "7bed49ad5000-7bed49ad6000 r--p 00118000 103:05 60165874                  /home/philip/philzook58.github.io/.venv/lib/python3.12/site-packages/pyzmq.libs/libsodium-14725a37.so.26.2.0\n",
      "7bed49ad6000-7bed49ad7000 rw-p 00119000 103:05 60165874                  /home/philip/philzook58.github.io/.venv/lib/python3.12/site-packages/pyzmq.libs/libsodium-14725a37.so.26.2.0\n",
      "7bed49ad7000-7bed49ae4000 rw-p 0011b000 103:05 60165874                  /home/philip/philzook58.github.io/.venv/lib/python3.12/site-packages/pyzmq.libs/libsodium-14725a37.so.26.2.0\n",
      "7bed49ae5000-7bed49ae9000 rw-p 00000000 00:00 0 \n",
      "7bed49ae9000-7bed49aec000 r--p 00000000 103:05 87044489                  /usr/lib/python3.12/lib-dynload/termios.cpython-312-x86_64-linux-gnu.so\n",
      "7bed49aec000-7bed49aee000 r-xp 00003000 103:05 87044489                  /usr/lib/python3.12/lib-dynload/termios.cpython-312-x86_64-linux-gnu.so\n",
      "7bed49aee000-7bed49af0000 r--p 00005000 103:05 87044489                  /usr/lib/python3.12/lib-dynload/termios.cpython-312-x86_64-linux-gnu.so\n",
      "7bed49af0000-7bed49af1000 r--p 00006000 103:05 87044489                  /usr/lib/python3.12/lib-dynload/termios.cpython-312-x86_64-linux-gnu.so\n",
      "7bed49af1000-7bed49af3000 rw-p 00007000 103:05 87044489                  /usr/lib/python3.12/lib-dynload/termios.cpython-312-x86_64-linux-gnu.so\n",
      "7bed49af3000-7bed49afa000 r--p 00000000 103:05 87044397                  /usr/lib/python3.12/lib-dynload/_curses.cpython-312-x86_64-linux-gnu.so\n",
      "7bed49afa000-7bed49b05000 r-xp 00007000 103:05 87044397                  /usr/lib/python3.12/lib-dynload/_curses.cpython-312-x86_64-linux-gnu.so\n",
      "7bed49b05000-7bed49b10000 r--p 00012000 103:05 87044397                  /usr/lib/python3.12/lib-dynload/_curses.cpython-312-x86_64-linux-gnu.so\n",
      "7bed49b10000-7bed49b11000 r--p 0001c000 103:05 87044397                  /usr/lib/python3.12/lib-dynload/_curses.cpython-312-x86_64-linux-gnu.so\n",
      "7bed49b11000-7bed49b13000 rw-p 0001d000 103:05 87044397                  /usr/lib/python3.12/lib-dynload/_curses.cpython-312-x86_64-linux-gnu.so\n",
      "7bed49b13000-7bed49b14000 r--p 00000000 103:05 53101485                  /home/philip/philzook58.github.io/.venv/lib/python3.12/site-packages/tornado/speedups.abi3.so\n",
      "7bed49b14000-7bed49b15000 r-xp 00001000 103:05 53101485                  /home/philip/philzook58.github.io/.venv/lib/python3.12/site-packages/tornado/speedups.abi3.so\n",
      "7bed49b15000-7bed49b16000 r--p 00002000 103:05 53101485                  /home/philip/philzook58.github.io/.venv/lib/python3.12/site-packages/tornado/speedups.abi3.so\n",
      "7bed49b16000-7bed49b17000 r--p 00002000 103:05 53101485                  /home/philip/philzook58.github.io/.venv/lib/python3.12/site-packages/tornado/speedups.abi3.so\n",
      "7bed49b17000-7bed49b18000 rw-p 00003000 103:05 53101485                  /home/philip/philzook58.github.io/.venv/lib/python3.12/site-packages/tornado/speedups.abi3.so\n",
      "7bed49b18000-7bed49b30000 r--p 00000000 103:05 60166449                  /home/philip/philzook58.github.io/.venv/lib/python3.12/site-packages/pyzmq.libs/libzmq-56587b1b.so.5.2.5\n",
      "7bed49b30000-7bed49bba000 r-xp 00018000 103:05 60166449                  /home/philip/philzook58.github.io/.venv/lib/python3.12/site-packages/pyzmq.libs/libzmq-56587b1b.so.5.2.5\n",
      "7bed49bba000-7bed49bef000 r--p 000a2000 103:05 60166449                  /home/philip/philzook58.github.io/.venv/lib/python3.12/site-packages/pyzmq.libs/libzmq-56587b1b.so.5.2.5\n",
      "7bed49bef000-7bed49bf6000 r--p 000d7000 103:05 60166449                  /home/philip/philzook58.github.io/.venv/lib/python3.12/site-packages/pyzmq.libs/libzmq-56587b1b.so.5.2.5\n",
      "7bed49bf6000-7bed49bf7000 rw-p 000de000 103:05 60166449                  /home/philip/philzook58.github.io/.venv/lib/python3.12/site-packages/pyzmq.libs/libzmq-56587b1b.so.5.2.5\n",
      "7bed49bf7000-7bed49c00000 rw-p 000e0000 103:05 60166449                  /home/philip/philzook58.github.io/.venv/lib/python3.12/site-packages/pyzmq.libs/libzmq-56587b1b.so.5.2.5\n",
      "7bed49c00000-7bed4a000000 rw-p 00000000 00:00 0 \n",
      "7bed4a000000-7bed4a028000 r--p 00000000 103:05 87066328                  /usr/lib/x86_64-linux-gnu/libc.so.6\n",
      "7bed4a028000-7bed4a1b0000 r-xp 00028000 103:05 87066328                  /usr/lib/x86_64-linux-gnu/libc.so.6\n",
      "7bed4a1b0000-7bed4a1ff000 r--p 001b0000 103:05 87066328                  /usr/lib/x86_64-linux-gnu/libc.so.6\n",
      "7bed4a1ff000-7bed4a203000 r--p 001fe000 103:05 87066328                  /usr/lib/x86_64-linux-gnu/libc.so.6\n",
      "7bed4a203000-7bed4a205000 rw-p 00202000 103:05 87066328                  /usr/lib/x86_64-linux-gnu/libc.so.6\n",
      "7bed4a205000-7bed4a216000 rw-p 00000000 00:00 0 \n",
      "7bed4a216000-7bed4a21a000 r--p 00000000 103:05 87044385                  /usr/lib/python3.12/lib-dynload/_asyncio.cpython-312-x86_64-linux-gnu.so\n",
      "7bed4a21a000-7bed4a223000 r-xp 00004000 103:05 87044385                  /usr/lib/python3.12/lib-dynload/_asyncio.cpython-312-x86_64-linux-gnu.so\n",
      "7bed4a223000-7bed4a228000 r--p 0000d000 103:05 87044385                  /usr/lib/python3.12/lib-dynload/_asyncio.cpython-312-x86_64-linux-gnu.so\n",
      "7bed4a228000-7bed4a229000 r--p 00011000 103:05 87044385                  /usr/lib/python3.12/lib-dynload/_asyncio.cpython-312-x86_64-linux-gnu.so\n",
      "7bed4a229000-7bed4a22b000 rw-p 00012000 103:05 87044385                  /usr/lib/python3.12/lib-dynload/_asyncio.cpython-312-x86_64-linux-gnu.so\n",
      "7bed4a22b000-7bed4a22c000 r--p 00000000 103:05 87044393                  /usr/lib/python3.12/lib-dynload/_contextvars.cpython-312-x86_64-linux-gnu.so\n",
      "7bed4a22c000-7bed4a22d000 r-xp 00001000 103:05 87044393                  /usr/lib/python3.12/lib-dynload/_contextvars.cpython-312-x86_64-linux-gnu.so\n",
      "7bed4a22d000-7bed4a22e000 r--p 00002000 103:05 87044393                  /usr/lib/python3.12/lib-dynload/_contextvars.cpython-312-x86_64-linux-gnu.so\n",
      "7bed4a22e000-7bed4a22f000 r--p 00002000 103:05 87044393                  /usr/lib/python3.12/lib-dynload/_contextvars.cpython-312-x86_64-linux-gnu.so\n",
      "7bed4a22f000-7bed4a230000 rw-p 00003000 103:05 87044393                  /usr/lib/python3.12/lib-dynload/_contextvars.cpython-312-x86_64-linux-gnu.so\n",
      "7bed4a230000-7bed4a231000 r--p 00000000 103:05 87066348                  /usr/lib/x86_64-linux-gnu/librt.so.1\n",
      "7bed4a231000-7bed4a232000 r-xp 00001000 103:05 87066348                  /usr/lib/x86_64-linux-gnu/librt.so.1\n",
      "7bed4a232000-7bed4a233000 r--p 00002000 103:05 87066348                  /usr/lib/x86_64-linux-gnu/librt.so.1\n",
      "7bed4a233000-7bed4a234000 r--p 00002000 103:05 87066348                  /usr/lib/x86_64-linux-gnu/librt.so.1\n",
      "7bed4a234000-7bed4a235000 rw-p 00003000 103:05 87066348                  /usr/lib/x86_64-linux-gnu/librt.so.1\n",
      "7bed4a235000-7bed4a23d000 r--p 00000000 103:05 60166638                  /home/philip/philzook58.github.io/.venv/lib/python3.12/site-packages/zmq/backend/cython/_zmq.cpython-312-x86_64-linux-gnu.so\n",
      "7bed4a23d000-7bed4a26d000 r-xp 00008000 103:05 60166638                  /home/philip/philzook58.github.io/.venv/lib/python3.12/site-packages/zmq/backend/cython/_zmq.cpython-312-x86_64-linux-gnu.so\n",
      "7bed4a26d000-7bed4a278000 r--p 00038000 103:05 60166638                  /home/philip/philzook58.github.io/.venv/lib/python3.12/site-packages/zmq/backend/cython/_zmq.cpython-312-x86_64-linux-gnu.so\n",
      "7bed4a278000-7bed4a279000 r--p 00042000 103:05 60166638                  /home/philip/philzook58.github.io/.venv/lib/python3.12/site-packages/zmq/backend/cython/_zmq.cpython-312-x86_64-linux-gnu.so\n",
      "7bed4a279000-7bed4a27b000 rw-p 00043000 103:05 60166638                  /home/philip/philzook58.github.io/.venv/lib/python3.12/site-packages/zmq/backend/cython/_zmq.cpython-312-x86_64-linux-gnu.so\n",
      "7bed4a27b000-7bed4a27c000 rw-p 00000000 00:00 0 \n",
      "7bed4a27c000-7bed4a281000 rw-p 00046000 103:05 60166638                  /home/philip/philzook58.github.io/.venv/lib/python3.12/site-packages/zmq/backend/cython/_zmq.cpython-312-x86_64-linux-gnu.so\n",
      "7bed4a281000-7bed4a283000 r--p 00000000 103:05 87044438                  /usr/lib/python3.12/lib-dynload/_json.cpython-312-x86_64-linux-gnu.so\n",
      "7bed4a283000-7bed4a28a000 r-xp 00002000 103:05 87044438                  /usr/lib/python3.12/lib-dynload/_json.cpython-312-x86_64-linux-gnu.so\n",
      "7bed4a28a000-7bed4a28c000 r--p 00009000 103:05 87044438                  /usr/lib/python3.12/lib-dynload/_json.cpython-312-x86_64-linux-gnu.so\n",
      "7bed4a28c000-7bed4a28d000 r--p 0000a000 103:05 87044438                  /usr/lib/python3.12/lib-dynload/_json.cpython-312-x86_64-linux-gnu.so\n",
      "7bed4a28d000-7bed4a28e000 rw-p 0000b000 103:05 87044438                  /usr/lib/python3.12/lib-dynload/_json.cpython-312-x86_64-linux-gnu.so\n",
      "7bed4a28e000-7bed4a2cf000 rw-p 00000000 00:00 0 \n",
      "7bed4a2cf000-7bed4a323000 r--p 00000000 07:02 189                        /snap/code/205/usr/lib/locale/aa_DJ.utf8/LC_CTYPE\n",
      "7bed4a323000-7bed4a325000 rw-p 00000000 00:00 0 \n",
      "7bed4a325000-7bed4a329000 r--p 00000000 103:05 87040599                  /usr/lib/x86_64-linux-gnu/libexpat.so.1.9.1\n",
      "7bed4a329000-7bed4a346000 r-xp 00004000 103:05 87040599                  /usr/lib/x86_64-linux-gnu/libexpat.so.1.9.1\n",
      "7bed4a346000-7bed4a34e000 r--p 00021000 103:05 87040599                  /usr/lib/x86_64-linux-gnu/libexpat.so.1.9.1\n",
      "7bed4a34e000-7bed4a350000 r--p 00028000 103:05 87040599                  /usr/lib/x86_64-linux-gnu/libexpat.so.1.9.1\n",
      "7bed4a350000-7bed4a351000 rw-p 0002a000 103:05 87040599                  /usr/lib/x86_64-linux-gnu/libexpat.so.1.9.1\n",
      "7bed4a351000-7bed4a353000 r--p 00000000 103:05 87037565                  /usr/lib/x86_64-linux-gnu/libz.so.1.3\n",
      "7bed4a353000-7bed4a365000 r-xp 00002000 103:05 87037565                  /usr/lib/x86_64-linux-gnu/libz.so.1.3\n",
      "7bed4a365000-7bed4a36b000 r--p 00014000 103:05 87037565                  /usr/lib/x86_64-linux-gnu/libz.so.1.3\n",
      "7bed4a36b000-7bed4a36c000 r--p 0001a000 103:05 87037565                  /usr/lib/x86_64-linux-gnu/libz.so.1.3\n",
      "7bed4a36c000-7bed4a36d000 rw-p 0001b000 103:05 87037565                  /usr/lib/x86_64-linux-gnu/libz.so.1.3\n",
      "7bed4a36d000-7bed4a37d000 r--p 00000000 103:05 87066333                  /usr/lib/x86_64-linux-gnu/libm.so.6\n",
      "7bed4a37d000-7bed4a3fc000 r-xp 00010000 103:05 87066333                  /usr/lib/x86_64-linux-gnu/libm.so.6\n",
      "7bed4a3fc000-7bed4a454000 r--p 0008f000 103:05 87066333                  /usr/lib/x86_64-linux-gnu/libm.so.6\n",
      "7bed4a454000-7bed4a455000 r--p 000e7000 103:05 87066333                  /usr/lib/x86_64-linux-gnu/libm.so.6\n",
      "7bed4a455000-7bed4a456000 rw-p 000e8000 103:05 87066333                  /usr/lib/x86_64-linux-gnu/libm.so.6\n",
      "7bed4a458000-7bed4a459000 rwxp 00000000 00:00 0 \n",
      "7bed4a459000-7bed4a45a000 r--p 00000000 103:05 87066346                  /usr/lib/x86_64-linux-gnu/libpthread.so.0\n",
      "7bed4a45a000-7bed4a45b000 r-xp 00001000 103:05 87066346                  /usr/lib/x86_64-linux-gnu/libpthread.so.0\n",
      "7bed4a45b000-7bed4a45c000 r--p 00002000 103:05 87066346                  /usr/lib/x86_64-linux-gnu/libpthread.so.0\n",
      "7bed4a45c000-7bed4a45d000 r--p 00002000 103:05 87066346                  /usr/lib/x86_64-linux-gnu/libpthread.so.0\n",
      "7bed4a45d000-7bed4a45e000 rw-p 00003000 103:05 87066346                  /usr/lib/x86_64-linux-gnu/libpthread.so.0\n",
      "7bed4a45e000-7bed4a483000 rw-p 00000000 00:00 0 \n",
      "7bed4a483000-7bed4a48a000 r--s 00000000 103:05 87066310                  /usr/lib/x86_64-linux-gnu/gconv/gconv-modules.cache\n",
      "7bed4a48a000-7bed4a48c000 rw-p 00000000 00:00 0 \n",
      "7bed4a48c000-7bed4a48e000 r--p 00000000 00:00 0                          [vvar]\n",
      "7bed4a48e000-7bed4a490000 r--p 00000000 00:00 0                          [vvar_vclock]\n",
      "7bed4a490000-7bed4a492000 r-xp 00000000 00:00 0                          [vdso]\n",
      "7bed4a492000-7bed4a493000 r--p 00000000 103:05 87066324                  /usr/lib/x86_64-linux-gnu/ld-linux-x86-64.so.2\n",
      "7bed4a493000-7bed4a4be000 r-xp 00001000 103:05 87066324                  /usr/lib/x86_64-linux-gnu/ld-linux-x86-64.so.2\n",
      "7bed4a4be000-7bed4a4c8000 r--p 0002c000 103:05 87066324                  /usr/lib/x86_64-linux-gnu/ld-linux-x86-64.so.2\n",
      "7bed4a4c8000-7bed4a4ca000 r--p 00036000 103:05 87066324                  /usr/lib/x86_64-linux-gnu/ld-linux-x86-64.so.2\n",
      "7bed4a4ca000-7bed4a4cc000 rw-p 00038000 103:05 87066324                  /usr/lib/x86_64-linux-gnu/ld-linux-x86-64.so.2\n",
      "7ffe02998000-7ffe029bb000 rw-p 00000000 00:00 0                          [stack]\n",
      "ffffffffff600000-ffffffffff601000 --xp 00000000 00:00 0                  [vsyscall]\n",
      "\n"
     ]
    }
   ],
   "source": [
    "import sys\n",
    "import os\n",
    "print(open(\"/proc/self/maps\").read())"
   ]
  },
  {
   "cell_type": "code",
   "execution_count": 5,
   "id": "d3b523f8",
   "metadata": {},
   "outputs": [],
   "source": [
    "# precasting and remove lib. indirection\n",
    "xptr = ffi.cast(\"void *\", x.as_ast().value)\n",
    "get_id = lib.Z3_get_ast_id\n",
    "mk_eq = lib.Z3_mk_eq"
   ]
  },
  {
   "cell_type": "code",
   "execution_count": 43,
   "id": "b94d6482",
   "metadata": {},
   "outputs": [
    {
     "name": "stdout",
     "output_type": "stream",
     "text": [
      "140 ns ± 2.35 ns per loop (mean ± std. dev. of 7 runs, 10,000,000 loops each)\n"
     ]
    }
   ],
   "source": [
    "%%timeit\n",
    "get_id(ctx, xptr)"
   ]
  },
  {
   "cell_type": "code",
   "execution_count": 6,
   "id": "23467bb9",
   "metadata": {},
   "outputs": [
    {
     "name": "stdout",
     "output_type": "stream",
     "text": [
      "254 ns ± 13.4 ns per loop (mean ± std. dev. of 7 runs, 1,000,000 loops each)\n"
     ]
    }
   ],
   "source": [
    "%%timeit\n",
    "mk_eq(ctx, xptr, xptr)"
   ]
  },
  {
   "cell_type": "code",
   "execution_count": 21,
   "id": "be9edefb",
   "metadata": {},
   "outputs": [],
   "source": [
    "ast1 = x.ast\n",
    "ctx1 = x.ctx_ref()\n",
    "z3.Z3_DEBUG = False"
   ]
  },
  {
   "cell_type": "code",
   "execution_count": null,
   "id": "1711c50b",
   "metadata": {},
   "outputs": [
    {
     "name": "stdout",
     "output_type": "stream",
     "text": [
      "752 ns ± 45.8 ns per loop (mean ± std. dev. of 7 runs, 1,000,000 loops each)\n"
     ]
    }
   ],
   "source": [
    "%%timeit\n",
    "z3.z3core.Z3_mk_eq(ctx1, ast1, ast1) "
   ]
  },
  {
   "cell_type": "markdown",
   "id": "3a55e3fd",
   "metadata": {},
   "source": [
    "So maybe a fast zipper is worth it.\n",
    "\n",
    "raw z3py - 30us, ctypes ~ 750ns, cffi ~250ns, c++ ~ 60ns\n",
    "\n",
    "numba jit?\n",
    "cython?\n",
    "reverse ffi to lean?\n"
   ]
  },
  {
   "cell_type": "code",
   "execution_count": null,
   "id": "1a2b6822",
   "metadata": {},
   "outputs": [
    {
     "ename": "SyntaxError",
     "evalue": "expected ':' (3970149753.py, line 10)",
     "output_type": "error",
     "traceback": [
      "  \u001b[36mCell\u001b[39m\u001b[36m \u001b[39m\u001b[32mIn[70]\u001b[39m\u001b[32m, line 10\u001b[39m\n\u001b[31m    \u001b[39m\u001b[31mfor level in self.trail\u001b[39m\n                           ^\n\u001b[31mSyntaxError\u001b[39m\u001b[31m:\u001b[39m expected ':'\n"
     ]
    }
   ],
   "source": [
    "class Zipper():\n",
    "    def __init__(self, e):\n",
    "        self.ctx = e.ctx\n",
    "        self.trail = []\n",
    "        self.e0 = e # keep alive\n",
    "        self.focus = e.as_ast\n",
    "    def child(self, n):\n",
    "        self.trail.append()\n",
    "    def up(self):\n",
    "        (decl, left, right) = self.trail.pop()\n",
    "        children = left + [self.focus] + right\n",
    "        self.focus = decl(self.ctx, *children)\n",
    "    def done(self):\n",
    "        while trail:\n",
    "            self.up()\n",
    "        return z3_ast_to_expr(self.ctx, self.focus)\n",
    "\n",
    "    def __del__(self):\n",
    "        for (decl, left, right) in self.trail:\n",
    "            for ast in left:\n",
    "                z3.z3core.Z3_dec_ref(self.ctx, ast)\n",
    "\n",
    "\n"
   ]
  },
  {
   "cell_type": "code",
   "execution_count": 46,
   "id": "5c84a055",
   "metadata": {},
   "outputs": [
    {
     "name": "stdout",
     "output_type": "stream",
     "text": [
      "23.1 ns ± 0.549 ns per loop (mean ± std. dev. of 7 runs, 10,000,000 loops each)\n"
     ]
    }
   ],
   "source": [
    "%%timeit\n",
    "x.ctx"
   ]
  },
  {
   "cell_type": "code",
   "execution_count": 53,
   "id": "513e55df",
   "metadata": {},
   "outputs": [
    {
     "name": "stdout",
     "output_type": "stream",
     "text": [
      "Writing /tmp/testpypy.py\n"
     ]
    }
   ],
   "source": [
    "%%file /tmp/testpypy.py\n",
    "import z3\n",
    "import timeit\n",
    "def equality_check():\n",
    "    c = z3.Context()\n",
    "    x = z3.Int(\"x\", ctx=c)\n",
    "    return x == x\n",
    "\n",
    "print(timeit.timeit(equality_check))"
   ]
  },
  {
   "cell_type": "code",
   "execution_count": 67,
   "id": "9a62f3f8",
   "metadata": {},
   "outputs": [
    {
     "name": "stdout",
     "output_type": "stream",
     "text": [
      "Overwriting /tmp/test_z3.cpp\n"
     ]
    }
   ],
   "source": [
    "%%file /tmp/test_z3.cpp\n",
    "\n",
    "#include <z3++.h>\n",
    "#include <benchmark/benchmark.h>\n",
    "\n",
    "// Create some sample Z3 expressions\n",
    "static void BM_Z3_EqualityCheck(benchmark::State& state) {\n",
    "    z3::context c;\n",
    "    z3::expr x = c.int_const(\"x\");\n",
    "    //z3::expr y = c.int_const(\"y\");\n",
    "    //z3::expr expr1 = x + y + 2;\n",
    "    //z3::expr expr2 = y + x + 2; // Structurally different but equivalent\n",
    "\n",
    "    for (auto _ : state) {\n",
    "        // benchmark::DoNotOptimize(x.id());\n",
    "        benchmark::DoNotOptimize(x == x);\n",
    "    }\n",
    "\n",
    "}\n",
    "\n",
    "// Register the benchmark function\n",
    "BENCHMARK(BM_Z3_EqualityCheck);\n",
    "\n",
    "int main(int argc, char** argv) {\n",
    "    ::benchmark::Initialize(&argc, argv);\n",
    "    ::benchmark::RunSpecifiedBenchmarks();\n",
    "    return 0;\n",
    "}"
   ]
  },
  {
   "cell_type": "code",
   "execution_count": 69,
   "id": "d5b6210a",
   "metadata": {},
   "outputs": [
    {
     "name": "stdout",
     "output_type": "stream",
     "text": [
      "2025-08-25T10:32:24-04:00\n",
      "Running /tmp/test_z3\n",
      "Run on (16 X 5134 MHz CPU s)\n",
      "CPU Caches:\n",
      "  L1 Data 32 KiB (x8)\n",
      "  L1 Instruction 32 KiB (x8)\n",
      "  L2 Unified 1024 KiB (x8)\n",
      "  L3 Unified 16384 KiB (x1)\n",
      "Load Average: 1.99, 1.07, 1.08\n",
      "***WARNING*** CPU scaling is enabled, the benchmark real time measurements may be noisy and will incur extra overhead.\n",
      "***WARNING*** Library was built as DEBUG. Timings may be affected.\n",
      "--------------------------------------------------------------\n",
      "Benchmark                    Time             CPU   Iterations\n",
      "--------------------------------------------------------------\n",
      "\u001b[0;32mBM_Z3_EqualityCheck \u001b[m\u001b[0;33m      62.6 ns         62.6 ns   \u001b[m\u001b[0;36m  10352946\u001b[m\n",
      "\u001b[m"
     ]
    }
   ],
   "source": [
    "! g++ -O3 -march=native -o /tmp/test_z3 /tmp/test_z3.cpp -lz3 -lbenchmark && /tmp/test_z3"
   ]
  },
  {
   "cell_type": "code",
   "execution_count": 126,
   "id": "1940c0d9",
   "metadata": {},
   "outputs": [
    {
     "name": "stdout",
     "output_type": "stream",
     "text": [
      "Overwriting /tmp/test.rs\n"
     ]
    }
   ],
   "source": [
    "%%file /tmp/test.rs\n",
    "---\n",
    "[profile.dev]\n",
    "opt-level = 3\n",
    "debug = false\n",
    "split-debuginfo = '...'  # Platform-specific.\n",
    "strip = \"none\"\n",
    "debug-assertions = false\n",
    "overflow-checks = false\n",
    "lto = false\n",
    "panic = 'unwind'\n",
    "incremental = false\n",
    "codegen-units = 16\n",
    "rpath = false\n",
    "[dependencies]\n",
    "z3 = \"0.16.1\"\n",
    "criterion = \"0.7\"\n",
    "---\n",
    "\n",
    "use criterion::{criterion_group, criterion_main, Criterion};\n",
    "use z3::{ast::Int, Config, Context, ast::Ast};\n",
    "use std::hint::black_box;\n",
    "\n",
    "fn mk_eq(c : &mut Criterion) {\n",
    "    let x = Int::new_const(\"x\");\n",
    "\n",
    "    c.bench_function(\"Z3: x == x (build equality AST)\", |b| {\n",
    "        b.iter(|| {\n",
    "            // `_eq` builds a Z3 equality; `black_box` ~ DoNotOptimize\n",
    "            let eq_ast : z3::ast::Bool = x._eq(&x);\n",
    "            black_box(eq_ast);\n",
    "        });\n",
    "    });\n",
    "}\n",
    "\n",
    "fn fibonacci(n: u64) -> u64 {\n",
    "    match n {\n",
    "        0 => 1,\n",
    "        1 => 1,\n",
    "        n => fibonacci(n-1) + fibonacci(n-2),\n",
    "    }\n",
    "}\n",
    "\n",
    "fn criterion_benchmark(c: &mut Criterion) {\n",
    "    c.bench_function(\"fib 20\", |b| b.iter(|| fibonacci(black_box(20))));\n",
    "}\n",
    "\n",
    "//criterion_group!(benches, criterion_benchmark);\n",
    "\n",
    "criterion_group!(benches, mk_eq);\n",
    "criterion_main!(benches);"
   ]
  },
  {
   "cell_type": "code",
   "execution_count": 127,
   "id": "f4145c35",
   "metadata": {},
   "outputs": [
    {
     "name": "stdout",
     "output_type": "stream",
     "text": [
      "\u001b[1m\u001b[33mwarning\u001b[0m\u001b[1m:\u001b[0m `package.edition` is unspecified, defaulting to `2024`\n",
      "\u001b[1m\u001b[32m   Compiling\u001b[0m test- v0.0.0 (/tmp/test.rs)\n",
      "\u001b[K\u001b[0m\u001b[1m\u001b[33mwarning\u001b[0m\u001b[0m\u001b[1m: unused imports: `Config` and `Context`\u001b[0m            \n",
      "\u001b[0m  \u001b[0m\u001b[0m\u001b[1m\u001b[38;5;12m--> \u001b[0m\u001b[0mtest.rs:20:20\u001b[0m\n",
      "\u001b[0m   \u001b[0m\u001b[0m\u001b[1m\u001b[38;5;12m|\u001b[0m\n",
      "\u001b[0m\u001b[1m\u001b[38;5;12m20\u001b[0m\u001b[0m \u001b[0m\u001b[0m\u001b[1m\u001b[38;5;12m|\u001b[0m\u001b[0m \u001b[0m\u001b[0muse z3::{ast::Int, Config, Context, ast::Ast};\u001b[0m\n",
      "\u001b[0m   \u001b[0m\u001b[0m\u001b[1m\u001b[38;5;12m|\u001b[0m\u001b[0m                    \u001b[0m\u001b[0m\u001b[1m\u001b[33m^^^^^^\u001b[0m\u001b[0m  \u001b[0m\u001b[0m\u001b[1m\u001b[33m^^^^^^^\u001b[0m\n",
      "\u001b[0m   \u001b[0m\u001b[0m\u001b[1m\u001b[38;5;12m|\u001b[0m\n",
      "\u001b[0m   \u001b[0m\u001b[0m\u001b[1m\u001b[38;5;12m= \u001b[0m\u001b[0m\u001b[1mnote\u001b[0m\u001b[0m: `#[warn(unused_imports)]` on by default\u001b[0m\n",
      "\n",
      "\u001b[K\u001b[0m\u001b[1m\u001b[33mwarning\u001b[0m\u001b[0m\u001b[1m: function `fibonacci` is never used\u001b[0m                \n",
      "\u001b[0m  \u001b[0m\u001b[0m\u001b[1m\u001b[38;5;12m--> \u001b[0m\u001b[0mtest.rs:35:4\u001b[0m\n",
      "\u001b[0m   \u001b[0m\u001b[0m\u001b[1m\u001b[38;5;12m|\u001b[0m\n",
      "\u001b[0m\u001b[1m\u001b[38;5;12m35\u001b[0m\u001b[0m \u001b[0m\u001b[0m\u001b[1m\u001b[38;5;12m|\u001b[0m\u001b[0m \u001b[0m\u001b[0mfn fibonacci(n: u64) -> u64 {\u001b[0m\n",
      "\u001b[0m   \u001b[0m\u001b[0m\u001b[1m\u001b[38;5;12m|\u001b[0m\u001b[0m    \u001b[0m\u001b[0m\u001b[1m\u001b[33m^^^^^^^^^\u001b[0m\n",
      "\u001b[0m   \u001b[0m\u001b[0m\u001b[1m\u001b[38;5;12m|\u001b[0m\n",
      "\u001b[0m   \u001b[0m\u001b[0m\u001b[1m\u001b[38;5;12m= \u001b[0m\u001b[0m\u001b[1mnote\u001b[0m\u001b[0m: `#[warn(dead_code)]` on by default\u001b[0m\n",
      "\n",
      "\u001b[0m\u001b[1m\u001b[33mwarning\u001b[0m\u001b[0m\u001b[1m: function `criterion_benchmark` is never used\u001b[0m\n",
      "\u001b[0m  \u001b[0m\u001b[0m\u001b[1m\u001b[38;5;12m--> \u001b[0m\u001b[0mtest.rs:43:4\u001b[0m\n",
      "\u001b[0m   \u001b[0m\u001b[0m\u001b[1m\u001b[38;5;12m|\u001b[0m\n",
      "\u001b[0m\u001b[1m\u001b[38;5;12m43\u001b[0m\u001b[0m \u001b[0m\u001b[0m\u001b[1m\u001b[38;5;12m|\u001b[0m\u001b[0m \u001b[0m\u001b[0mfn criterion_benchmark(c: &mut Criterion) {\u001b[0m\n",
      "\u001b[0m   \u001b[0m\u001b[0m\u001b[1m\u001b[38;5;12m|\u001b[0m\u001b[0m    \u001b[0m\u001b[0m\u001b[1m\u001b[33m^^^^^^^^^^^^^^^^^^^\u001b[0m\n",
      "\n",
      "\u001b[1m\u001b[36m    Building\u001b[0m [=========================> ] 90/91: test-(bin)                  \r"
     ]
    },
    {
     "name": "stdout",
     "output_type": "stream",
     "text": [
      "\u001b[K\u001b[1m\u001b[33mwarning\u001b[0m\u001b[1m:\u001b[0m `test-` (bin \"test-\") generated 3 warnings (run `cargo fix --bin \"test-\"` to apply 1 suggestion)\n",
      "\u001b[1m\u001b[32m    Finished\u001b[0m `dev` profile [optimized] target(s) in 1.72s\n",
      "\u001b[1m\u001b[32m     Running\u001b[0m `/home/philip/.cargo/target/e8/a8b1c02d8deab1/debug/test- --bench`\n",
      "\u001b[2K\u001b[38;5;2mZ3: x == x (build equality AST)\u001b[0m: Analyzingg 100 samples in estimated 5.0001 s (32M iterations)\n",
      "\u001b[38;5;2m\u001b[0m                        time:   [\u001b[2m151.30 ns\u001b[0m \u001b[1m158.00 ns\u001b[0m \u001b[2m166.03 ns\u001b[0m]\n",
      "                        change: [\u001b[2m+563.68%\u001b[0m \u001b[38;5;1m\u001b[1m+601.06%\u001b[0m\u001b[0m \u001b[2m+640.98%\u001b[0m] (p = 0.00 < 0.05)\n",
      "                        Performance has \u001b[38;5;1mregressed\u001b[0m.\n",
      "\u001b[38;5;3mFound 14 outliers among 100 measurements (14.00%)\u001b[0m\n",
      "  4 (4.00%) high mild\n",
      "  10 (10.00%) high severe\n",
      "\n"
     ]
    }
   ],
   "source": [
    "! cargo +nightly  -Zscript  /tmp/test.rs --bench"
   ]
  },
  {
   "cell_type": "markdown",
   "id": "79a51563",
   "metadata": {},
   "source": [
    "Ok, so more like a factor of 3-4\n",
    "That's maybe not worth doing a whole thing on.\n",
    "\n",
    "Arena pointers.\n",
    "deref gc when the thing dies.\n",
    "\n"
   ]
  },
  {
   "cell_type": "code",
   "execution_count": 7,
   "id": "841d8e67",
   "metadata": {},
   "outputs": [
    {
     "name": "stdout",
     "output_type": "stream",
     "text": [
      "39.6 μs ± 3.19 μs per loop (mean ± std. dev. of 7 runs, 10,000 loops each)\n"
     ]
    }
   ],
   "source": [
    "%%timeit\n",
    "x == x"
   ]
  },
  {
   "cell_type": "code",
   "execution_count": 32,
   "id": "27f95a79",
   "metadata": {},
   "outputs": [
    {
     "data": {
      "text/plain": [
       "<Ast object at 0x7ff0cf1d2550>"
      ]
     },
     "execution_count": 32,
     "metadata": {},
     "output_type": "execute_result"
    }
   ],
   "source": [
    "x.as_ast()"
   ]
  },
  {
   "cell_type": "code",
   "execution_count": null,
   "id": "ce0a5301",
   "metadata": {},
   "outputs": [
    {
     "ename": "TypeError",
     "evalue": "initializer for ctype 'void *' must be a cdata pointer, not int",
     "output_type": "error",
     "traceback": [
      "\u001b[31m---------------------------------------------------------------------------\u001b[39m",
      "\u001b[31mTypeError\u001b[39m                                 Traceback (most recent call last)",
      "\u001b[36mCell\u001b[39m\u001b[36m \u001b[39m\u001b[32mIn[37]\u001b[39m\u001b[32m, line 1\u001b[39m\n\u001b[32m----> \u001b[39m\u001b[32m1\u001b[39m \u001b[43mget_ipython\u001b[49m\u001b[43m(\u001b[49m\u001b[43m)\u001b[49m\u001b[43m.\u001b[49m\u001b[43mrun_cell_magic\u001b[49m\u001b[43m(\u001b[49m\u001b[33;43m'\u001b[39;49m\u001b[33;43mtimeit\u001b[39;49m\u001b[33;43m'\u001b[39;49m\u001b[43m,\u001b[49m\u001b[43m \u001b[49m\u001b[33;43m'\u001b[39;49m\u001b[33;43m'\u001b[39;49m\u001b[43m,\u001b[49m\u001b[43m \u001b[49m\u001b[33;43m'\u001b[39;49m\u001b[33;43mlib.Z3_get_ast_id(ctx, x.ast.value)\u001b[39;49m\u001b[38;5;130;43;01m\\n\u001b[39;49;00m\u001b[33;43m'\u001b[39;49m\u001b[43m)\u001b[49m\n",
      "\u001b[36mFile \u001b[39m\u001b[32m~/philzook58.github.io/.venv/lib/python3.12/site-packages/IPython/core/interactiveshell.py:2547\u001b[39m, in \u001b[36mInteractiveShell.run_cell_magic\u001b[39m\u001b[34m(self, magic_name, line, cell)\u001b[39m\n\u001b[32m   2545\u001b[39m \u001b[38;5;28;01mwith\u001b[39;00m \u001b[38;5;28mself\u001b[39m.builtin_trap:\n\u001b[32m   2546\u001b[39m     args = (magic_arg_s, cell)\n\u001b[32m-> \u001b[39m\u001b[32m2547\u001b[39m     result = \u001b[43mfn\u001b[49m\u001b[43m(\u001b[49m\u001b[43m*\u001b[49m\u001b[43margs\u001b[49m\u001b[43m,\u001b[49m\u001b[43m \u001b[49m\u001b[43m*\u001b[49m\u001b[43m*\u001b[49m\u001b[43mkwargs\u001b[49m\u001b[43m)\u001b[49m\n\u001b[32m   2549\u001b[39m \u001b[38;5;66;03m# The code below prevents the output from being displayed\u001b[39;00m\n\u001b[32m   2550\u001b[39m \u001b[38;5;66;03m# when using magics with decorator @output_can_be_silenced\u001b[39;00m\n\u001b[32m   2551\u001b[39m \u001b[38;5;66;03m# when the last Python token in the expression is a ';'.\u001b[39;00m\n\u001b[32m   2552\u001b[39m \u001b[38;5;28;01mif\u001b[39;00m \u001b[38;5;28mgetattr\u001b[39m(fn, magic.MAGIC_OUTPUT_CAN_BE_SILENCED, \u001b[38;5;28;01mFalse\u001b[39;00m):\n",
      "\u001b[36mFile \u001b[39m\u001b[32m~/philzook58.github.io/.venv/lib/python3.12/site-packages/IPython/core/magics/execution.py:1225\u001b[39m, in \u001b[36mExecutionMagics.timeit\u001b[39m\u001b[34m(self, line, cell, local_ns)\u001b[39m\n\u001b[32m   1223\u001b[39m \u001b[38;5;28;01mfor\u001b[39;00m index \u001b[38;5;129;01min\u001b[39;00m \u001b[38;5;28mrange\u001b[39m(\u001b[32m0\u001b[39m, \u001b[32m10\u001b[39m):\n\u001b[32m   1224\u001b[39m     number = \u001b[32m10\u001b[39m ** index\n\u001b[32m-> \u001b[39m\u001b[32m1225\u001b[39m     time_number = \u001b[43mtimer\u001b[49m\u001b[43m.\u001b[49m\u001b[43mtimeit\u001b[49m\u001b[43m(\u001b[49m\u001b[43mnumber\u001b[49m\u001b[43m)\u001b[49m\n\u001b[32m   1226\u001b[39m     \u001b[38;5;28;01mif\u001b[39;00m time_number >= \u001b[32m0.2\u001b[39m:\n\u001b[32m   1227\u001b[39m         \u001b[38;5;28;01mbreak\u001b[39;00m\n",
      "\u001b[36mFile \u001b[39m\u001b[32m~/philzook58.github.io/.venv/lib/python3.12/site-packages/IPython/core/magics/execution.py:182\u001b[39m, in \u001b[36mTimer.timeit\u001b[39m\u001b[34m(self, number)\u001b[39m\n\u001b[32m    180\u001b[39m gc.disable()\n\u001b[32m    181\u001b[39m \u001b[38;5;28;01mtry\u001b[39;00m:\n\u001b[32m--> \u001b[39m\u001b[32m182\u001b[39m     timing = \u001b[38;5;28;43mself\u001b[39;49m\u001b[43m.\u001b[49m\u001b[43minner\u001b[49m\u001b[43m(\u001b[49m\u001b[43mit\u001b[49m\u001b[43m,\u001b[49m\u001b[43m \u001b[49m\u001b[38;5;28;43mself\u001b[39;49m\u001b[43m.\u001b[49m\u001b[43mtimer\u001b[49m\u001b[43m)\u001b[49m\n\u001b[32m    183\u001b[39m \u001b[38;5;28;01mfinally\u001b[39;00m:\n\u001b[32m    184\u001b[39m     \u001b[38;5;28;01mif\u001b[39;00m gcold:\n",
      "\u001b[36mFile \u001b[39m\u001b[32m<magic-timeit>:1\u001b[39m, in \u001b[36minner\u001b[39m\u001b[34m(_it, _timer)\u001b[39m\n",
      "\u001b[31mTypeError\u001b[39m: initializer for ctype 'void *' must be a cdata pointer, not int"
     ]
    }
   ],
   "source": [
    "%%timeit\n",
    "lib.Z3_get_ast_id(ctx, ffi.cast(\"void *\", x.ast.value))"
   ]
  },
  {
   "cell_type": "code",
   "execution_count": 36,
   "id": "b93832d5",
   "metadata": {},
   "outputs": [
    {
     "name": "stdout",
     "output_type": "stream",
     "text": [
      "1.2 μs ± 100 ns per loop (mean ± std. dev. of 7 runs, 1,000,000 loops each)\n"
     ]
    }
   ],
   "source": [
    "%%timeit\n",
    "x.get_id()"
   ]
  },
  {
   "cell_type": "code",
   "execution_count": 11,
   "id": "fee5bc27",
   "metadata": {},
   "outputs": [
    {
     "data": {
      "text/plain": [
       "5"
      ]
     },
     "execution_count": 11,
     "metadata": {},
     "output_type": "execute_result"
    }
   ],
   "source": [
    "x.get_id()"
   ]
  },
  {
   "cell_type": "markdown",
   "id": "48733424",
   "metadata": {},
   "source": [
    "# Path\n",
    "\n",
    "pathmap for simp and others\n",
    "unfold\n",
    "\n",
    "Make a nice zipper?\n",
    "folds, get, set\n",
    "\n",
    "https://lean-lang.org/theorem_proving_in_lean4/The-Conversion-Tactic-Mode/ \n",
    "https://rocq-prover.org/doc/V8.9.1/refman/proof-engine/ssreflect-proof-language.html"
   ]
  },
  {
   "cell_type": "code",
   "execution_count": null,
   "id": "58d31970",
   "metadata": {},
   "outputs": [],
   "source": [
    "def pathmap(e, f, path : list[int]) -> smt.ExprRef:\n",
    "    if path:\n",
    "        args = e.children()\n",
    "        args = args[:path[0]] + [pathmap(e.arg(path[0]), f, path[1:])] + args[path[0]+1:] \n",
    "        return e.decl()(*args)\n",
    "    else:\n",
    "        return f(e)\n",
    "\n",
    "def getpath(e, path : list[int]) -> smt.ExprRef:\n",
    "    for i in path:\n",
    "        e = e.arg(i)\n",
    "    return e\n",
    "\n",
    "def setpath(e, t, path : list[int]) -> smt.ExprRef:\n",
    "    return pathmap(e, lambda : t, path)"
   ]
  },
  {
   "cell_type": "markdown",
   "id": "c6b8599d",
   "metadata": {},
   "source": [
    "# Tele\n",
    "Vec as subset of Functions.\n",
    "Should subsort take in known sets of previous entries also?\n",
    "x,Tx, y,Ty => Tf[f(x,y,z)]\n",
    "Useful to synthesize more tpye info?\n",
    "\n",
    "zero(n) vs zero\n",
    "argmin(n,v : Vec n)\n",
    "\n",
    "Vec n <= Vec m\n",
    "\n",
    "\n"
   ]
  },
  {
   "cell_type": "code",
   "execution_count": null,
   "id": "a825660a",
   "metadata": {},
   "outputs": [],
   "source": [
    "Arr = smt.DeclareSort(\"Arr\")\n",
    "Ob = smt.DeclareSort(\"Ob\")\n",
    "Hom = smt.Function(\"Hom\", Ob, Ob, set_.Set(Arr))\n",
    "#family.register(Hom, Hom)\n",
    "a,b,c,d = kd.FreshVars(\"a b c d\", Ob)\n",
    "f,g,h,k = kd.FreshVars(\"f g h k\", Arr)\n",
    "declare(\"comp\", [a, b, c, (f, Hom(a,b)), (g, Hom(b,c))], Hom(a,c))\n",
    "declare(\"id\", [a], Hom(a,a))\n",
    "kd.notation.matmul.register(Arr, comp)\n",
    "axiom(tele.TForAll([a,b,(f, Hom(a,b))], f @ id(b) == f))\n",
    "axiom(tele.TForAll([a,b,(f, Hom(a,b))], id(a) @ f == f))\n",
    "axiom(tele.TForAll([a,b,c,d,(f, Hom(a,b)), (g, Hom(b,c)), (h, Hom(c,d))], \n",
    "\n",
    "\n",
    "class Category(Protocol):\n",
    "    Hom : smt.FuncDeclRef\n",
    "    comp : smt.FuncDeclRef\n",
    "    id : smt.FuncDeclRef\n",
    "    right_id : kd.Proof\n",
    "    left_id : kd.Proof\n",
    "    assoc : kd.Proof\n",
    "\n",
    "class Functor(Protocol):\n",
    "    C : Category\n",
    "    D : Category\n",
    "    F_ob : smt.FuncDeclRef\n",
    "    F_hom : smt.FuncDeclRef\n",
    "    preserves_id : kd.Proof\n",
    "    preserves_comp : kd.Proof\n",
    "\n",
    "\n",
    "\n"
   ]
  },
  {
   "cell_type": "code",
   "execution_count": null,
   "id": "ae3a50c2",
   "metadata": {},
   "outputs": [
    {
     "name": "stdout",
     "output_type": "stream",
     "text": [
      "WARNING: Redefining function Vec from |= ForAll(n!394,\n",
      "       Vec(n!394) ==\n",
      "       (Lambda(a!390,\n",
      "               ForAll(i!395,\n",
      "                      Implies(Or(i!395 < 0, i!395 >= n!394),\n",
      "                              a!390[i!395] == 0))))) to ForAll(n!412,\n",
      "       Vec(n!412) ==\n",
      "       (Lambda(a!408,\n",
      "               ForAll(i!413,\n",
      "                      Implies(Or(i!413 < 0, i!413 >= n!412),\n",
      "                              a!408[i!413] == 0)))))\n",
      "WARNING: Redefining function zero from |= ForAll(n!394, zero(n!394) == (Lambda(i!395, 0))) to ForAll(n!412, zero(n!412) == (Lambda(i!413, 0)))\n",
      "Warning: Redefining function signature zero\n",
      "WARNING: Redefining function add from |= ForAll([n!394, a!390, b!391],\n",
      "       add(n!394, a!390, b!391) ==\n",
      "       (Lambda(i!395, a!390[i!395] + b!391[i!395]))) to ForAll([n!412, a!408, b!409],\n",
      "       add(n!412, a!408, b!409) ==\n",
      "       (Lambda(i!413, a!408[i!413] + b!409[i!413])))\n",
      "Warning: Redefining function signature add\n",
      "WARNING: Redefining function sum from |= ForAll([n!394, a!390],\n",
      "       sum(n!394, a!390) ==\n",
      "       If(n!394 < 0,\n",
      "          0,\n",
      "          a!390[n!394] + sum(n!394 - 1, a!390))) to ForAll([n!412, a!408],\n",
      "       sum(n!412, a!408) ==\n",
      "       If(n!412 <= 0,\n",
      "          0,\n",
      "          a!408[n!412 - 1] + sum(n!412 - 1, a!408)))\n"
     ]
    },
    {
     "data": {
      "text/html": [
       "2"
      ],
      "text/plain": [
       "2"
      ]
     },
     "execution_count": 23,
     "metadata": {},
     "output_type": "execute_result"
    }
   ],
   "source": [
    "from kdrag.all import *\n",
    "import kdrag.theories.real as real\n",
    "\n",
    "RSeqSet = set_.Set(real.RSeq)\n",
    "\n",
    "a,b,c = kd.FreshVars(\"a b c\", real.RSeq)\n",
    "m,n,i,j = kd.FreshVars(\"m n i j\", smt.IntSort())\n",
    "def Vec(n: int) -> kd.utils.FuncRef:\n",
    "    return smt.Lambda([a], kd.QForAll([i], smt.Or(i < 0, i >= n), a[i] == 0) )\n",
    "\n",
    "vec = kd.define(\"Vec\", [n], Vec(n))\n",
    "\n",
    "\n",
    "vec_mono = kd.prove(kd.QForAll([m,n], n <= m, tele.TForAll([(a, vec(n))], vec(m)[a])), unfold=1)\n",
    "\n",
    "zero = tele.define(\"zero\", [n], vec(n), smt.Lambda([i], smt.RealVal(0)), unfold=1)\n",
    "\n",
    "zero(3)\n",
    "\n",
    "def infer_type(e : smt.ExprRef) -> kd.utils.FuncRef: # ctx\n",
    "    return tele._tsig[e.decl()](*e.children())\n",
    "\n",
    "infer_type(zero(3))\n",
    "tele.has_type([], zero(3), vec(4), by=[vec_mono])\n",
    "\n",
    "#(n, tele.Pos)\n",
    "add = tele.define(\"add\", [n, (a, vec(n)), (b, vec(n))], vec(n), smt.Lambda([i], a[i] + b[i]), unfold=1)\n",
    "infer_type(add(3, zero(3), zero(3)))\n",
    "\n",
    "\n",
    "\n",
    "\n",
    "#dot = tele.define(\"dot\", [n, (a, vec(n)), (b, vec(n))], smt.RealSort(), smt.Sum([i], smt.And(i >= 0, i < n), a[i] * b[i]), unfold=1)\n",
    "\n"
   ]
  },
  {
   "cell_type": "code",
   "execution_count": null,
   "id": "a39ef7c7",
   "metadata": {},
   "outputs": [
    {
     "name": "stdout",
     "output_type": "stream",
     "text": [
      "WARNING: Redefining function sum from |= ForAll([n!628, a!408],\n",
      "       sum(n!628, a!408) ==\n",
      "       If(n!628 <= 0,\n",
      "          0,\n",
      "          a!408[n!628 - 1] + sum(n!628 - 1, a!408))) to ForAll([n!633, a!408],\n",
      "       sum(n!633, a!408) ==\n",
      "       If(n!633 <= 0,\n",
      "          0,\n",
      "          a!408[n!633 - 1] + sum(n!633 - 1, a!408)))\n",
      "WARNING: Redefining function argmin from |= ForAll([n!633, a!408],\n",
      "       argmin(n!633, a!408) ==\n",
      "       If(n!633 <= 0,\n",
      "          0,\n",
      "          If(a!408[n!633 - 1] <\n",
      "             a!408[argmin(n!633 - 1, a!408)],\n",
      "             n!633 - 1,\n",
      "             argmin(n!633 - 1, a!408)))) to ForAll([n!638, a!408],\n",
      "       argmin(n!638, a!408) ==\n",
      "       If(n!638 <= 0,\n",
      "          0,\n",
      "          If(a!408[n!638 - 1] <\n",
      "             a!408[argmin(n!638 - 1, a!408)],\n",
      "             n!638 - 1,\n",
      "             argmin(n!638 - 1, a!408))))\n"
     ]
    }
   ],
   "source": [
    "import kdrag.theories.int as int_\n",
    "\n",
    "sum = smt.Function(\"sum\", smt.IntSort(), real.RSeq, smt.RealSort())\n",
    "sum = kd.define(\"sum\", [n, a], smt.If(n <= 0, 0, a[n-1] + sum(n-1,a)))\n",
    "rw.full_simp(sum(2, smt.K(smt.IntSort(), smt.RealVal(1))))\n",
    "\n",
    "x = smt.Real(\"x\")\n",
    "l = kd.Lemma(kd.QForAll([n,x], n >= 0, sum(n, smt.K(smt.IntSort(), x)) == n * x))\n",
    "n,x = l.fixes()\n",
    "\n",
    "\"\"\"\n",
    "l.induct(n)\n",
    "l.auto()\n",
    "l.auto(unfold=1)\n",
    "n1 = l.fix()\n",
    "l.unfold(sum)\n",
    "l.simp()\n",
    "\"\"\"\n",
    "l.intros()\n",
    "l.induct(n, using=int_.induct_nat)\n",
    "l.auto(unfold=1)\n",
    "n = l.fix()\n",
    "l.intros()\n",
    "#l.intros()\n",
    "l.unfold(sum)\n",
    "l.simp()\n",
    "l.auto()\n",
    "l.auto()\n",
    "l.qed()\n",
    "\n",
    "\n",
    "argmin = smt.Function(\"argmin\", smt.IntSort(), real.RSeq, smt.IntSort())\n",
    "argmin = kd.define(\"argmin\", [n, a], smt.If(n <= 0, 0, smt.If(a[n-1] < a[argmin(n-1,a)], n-1, argmin(n-1,a))))\n",
    "\n",
    "l = kd.Lemma(kd.QForAll([n, x], n >= 0, argmin(n, smt.K(smt.IntSort(), x)) == 0))\n",
    "argmin = \n"
   ]
  },
  {
   "cell_type": "markdown",
   "id": "e8c5e6e1",
   "metadata": {},
   "source": [
    "# Knuckle core\n",
    "prove\n",
    "define unfold\n",
    "generalize, freshvar, instan\n",
    "exists_intro, exists extro\n"
   ]
  },
  {
   "cell_type": "markdown",
   "id": "bddffd44",
   "metadata": {},
   "source": [
    "# temp def\n",
    "\n",
    "Like `consider`\n",
    "\n",
    "__enter__ and __exit__ to clear out.\n",
    "Gide more from the solver. Useful inside lemma?\n",
    "\n"
   ]
  },
  {
   "cell_type": "markdown",
   "id": "475d0a1d",
   "metadata": {},
   "source": [
    "\n",
    "# Jules jacobs macros vs internal\n",
    "\n",
    "https://www.reddit.com/r/ProgrammingLanguages/comments/1aigns2/discussing_isabellehol_a_proof_assistant_for/kova7l5/\n",
    "\n",
    "\"This is a good question.\n",
    "\n",
    "The advantage of higher-order logic over first-order logic is that propositions (and predicates) become first-class objects that you can abstract over in the theory.\n",
    "\n",
    "Similarly, the advantage of type theory over higher-order logic is that types (and type constructors) become first-class objects that you can abstract over in the theory.\n",
    "\n",
    "In that sense, if you understand what higher order logic gives you over first order logic, then you can understand what type theory gives you over higher order logic by analogy.\n",
    "\n",
    "In both cases you can work around these limitations to some extent by using the meta-language as a macro system. For instance, if you only had first-order logic but you wanted to write a lemma that says something about a predicate (say, the strong induction lemma for natural numbers that is generic over some predicate P : nat -> prop), you could write the lemma as a macro that takes as input a predicate represented as a meta-level function that produces a formula, and write the proof of the lemma as a macro that generates a new proof for each new predicate P that the lemma is used on.\n",
    "\n",
    "Similarly, in HOL you cannot write down code that is generic over a type constructor, e.g. code generic over a monad. Nor can you write down lemmas about such generic code. You can write a meta-level macro that does it, similar to how you can work around the limitations of first-order logic regarding propositions and predicates.\n",
    "\n",
    "The big problem with this workaround is that now all your code and lemmas are checked at the use site instead of the definition site, similar to how C++ templates work. This also means that you can never write down and prove such a generic theorem; you can only generate and check instances of it.\n",
    "\n",
    "The other main way to work around these problems is to not work in first order logic, but instead work in some theory built on top of first order logic. That's what ZFC set theory does. You can do something analogous in HOL, by not really working with types at all, but rather work in some sufficiently general un(i)typed universe and always work with predicates/subsets of that.\"\n",
    "\n"
   ]
  },
  {
   "cell_type": "code",
   "execution_count": 11,
   "id": "6c2cf0dd",
   "metadata": {},
   "outputs": [],
   "source": [
    "# diff"
   ]
  },
  {
   "cell_type": "code",
   "execution_count": 1,
   "id": "7367c76c",
   "metadata": {},
   "outputs": [
    {
     "ename": "AttributeError",
     "evalue": "module 'kdrag.smt' has no attribute 'Tuple'",
     "output_type": "error",
     "traceback": [
      "\u001b[31m---------------------------------------------------------------------------\u001b[39m",
      "\u001b[31mAttributeError\u001b[39m                            Traceback (most recent call last)",
      "\u001b[36mCell\u001b[39m\u001b[36m \u001b[39m\u001b[32mIn[1]\u001b[39m\u001b[32m, line 3\u001b[39m\n\u001b[32m      1\u001b[39m \u001b[38;5;28;01mfrom\u001b[39;00m\u001b[38;5;250m \u001b[39m\u001b[34;01mkdrag\u001b[39;00m\u001b[34;01m.\u001b[39;00m\u001b[34;01mall\u001b[39;00m\u001b[38;5;250m \u001b[39m\u001b[38;5;28;01mimport\u001b[39;00m *\n\u001b[32m----> \u001b[39m\u001b[32m3\u001b[39m \u001b[43msmt\u001b[49m\u001b[43m.\u001b[49m\u001b[43mTuple\u001b[49m(smt.IntSort(), smt.IntSort())\n",
      "\u001b[31mAttributeError\u001b[39m: module 'kdrag.smt' has no attribute 'Tuple'"
     ]
    }
   ],
   "source": [
    "from kdrag.all import *\n",
    "\n",
    "smt.Tuple(smt.IntSort(), smt.IntSort())"
   ]
  },
  {
   "cell_type": "markdown",
   "id": "7028fcc2",
   "metadata": {},
   "source": [
    "# Schema Hypotheses\n",
    "I could make a freshvar inside a hypothesis.\n",
    "\n",
    "Given Exists([x], P(x)) -->  y, P(y) fresh_hypvar\n",
    "We get to associate a set to y by assumption\n",
    "\n",
    "|- Q(y)    y,P(y) fresh\n",
    "----------------------------\n",
    "      forall y, P(y) => Q(y)\n",
    "\n",
    "\n",
    "This is telescoped version of FreshVar\n",
    "TFreshVar\n",
    "\n",
    "\n",
    "\n",
    "BitVec(N)\n",
    "\n",
    "\n",
    "\n",
    "\n"
   ]
  },
  {
   "cell_type": "code",
   "execution_count": null,
   "id": "f07dc9fb",
   "metadata": {},
   "outputs": [
    {
     "ename": "ModuleNotFoundError",
     "evalue": "No module named 'kdrag.contrib.telescopes'",
     "output_type": "error",
     "traceback": [
      "\u001b[31m---------------------------------------------------------------------------\u001b[39m",
      "\u001b[31mModuleNotFoundError\u001b[39m                       Traceback (most recent call last)",
      "\u001b[36mCell\u001b[39m\u001b[36m \u001b[39m\u001b[32mIn[7]\u001b[39m\u001b[32m, line 1\u001b[39m\n\u001b[32m----> \u001b[39m\u001b[32m1\u001b[39m \u001b[38;5;28;01mimport\u001b[39;00m\u001b[38;5;250m \u001b[39m\u001b[34;01mkdrag\u001b[39;00m\u001b[34;01m.\u001b[39;00m\u001b[34;01mcontrib\u001b[39;00m\u001b[34;01m.\u001b[39;00m\u001b[34;01mtelescopes\u001b[39;00m\u001b[38;5;250m \u001b[39m\u001b[38;5;28;01mas\u001b[39;00m\u001b[38;5;250m \u001b[39m\u001b[34;01mtele\u001b[39;00m\n",
      "\u001b[31mModuleNotFoundError\u001b[39m: No module named 'kdrag.contrib.telescopes'"
     ]
    }
   ],
   "source": [
    "import kdrag.contrib.telescopes as tele\n",
    "import kdrag.theories.set as set_\n",
    "\n"
   ]
  },
  {
   "cell_type": "markdown",
   "id": "389a016c",
   "metadata": {},
   "source": [
    "`|- exists x, T(x) => T(yfresh)`\n",
    "\n",
    "`|- exists x, T(x) == T(yfresh)` ? I mean yea, but I don't know that this helps.\n",
    "\n",
    "p : 1 == 2"
   ]
  },
  {
   "cell_type": "code",
   "execution_count": null,
   "id": "7bc8cbda",
   "metadata": {},
   "outputs": [],
   "source": [
    "@dataclass(frozen=True)\n",
    "class FreshEvidence():\n",
    "    v : smt.ExprRef\n",
    "    hyp : smt.ExprRef\n",
    "\n",
    "def TFreshVar(prefix : str, subsort : smt.ArrayRef):\n",
    "    v = smt.FreshConst(subsort.domain(), prefix=prefix)\n",
    "    ev = FreshEvidence(v, subsort[v])\n",
    "    v.fresh = ev\n",
    "    return v, kd.axiom(smt.Exists([v], subsort[v]) == subsort[v], by=[\"tfreshvar\"])\n",
    "# Or pass in \n",
    "\n",
    "\n",
    "def generalize(v, e : kd.Proof):\n",
    "    assert isfresh(v) and is_proof(e)\n",
    "    return kd.axiom(smt.ForAll([v], v.hyp, e))\n",
    "\n"
   ]
  },
  {
   "cell_type": "markdown",
   "id": "c975e520",
   "metadata": {},
   "source": [
    "# Lean isabelle call\n",
    "IQ? MCP servers?\n",
    "I shouldn't be wrapping this stuff.\n",
    "PyPantograph?\n",
    "\n",
    "IQ \n",
    "\n",
    "https://github.com/stanford-centaur/PyPantograph"
   ]
  },
  {
   "cell_type": "code",
   "execution_count": 4,
   "id": "1180c10e",
   "metadata": {},
   "outputs": [
    {
     "data": {
      "text/plain": [
       "GoalState(#0, goals=[Goal(id=None, variables=[], target='forall (p q: Prop), Or p q -> Or q p', sibling_dep=None, name=None, mode=<TacticMode.TACTIC: 1>)], _sentinel=#0"
      ]
     },
     "execution_count": 4,
     "metadata": {},
     "output_type": "execute_result"
    }
   ],
   "source": [
    "from pantograph import Server\n",
    "from pantograph.expr import Site, TacticHave, TacticExpr, TacticMode\n",
    "\n",
    "server = await Server.create()\n",
    "state0 = await server.goal_start_async(\"forall (p q: Prop), Or p q -> Or q p\")\n",
    "state0"
   ]
  },
  {
   "cell_type": "code",
   "execution_count": null,
   "id": "aace74ba",
   "metadata": {},
   "outputs": [],
   "source": [
    "import io\n",
    "class LeanSolver(BaseSolver):\n",
    "    def __init__(self):\n",
    "        self.imports = []\n",
    "        self.tactic = \"grind\"  # can replace by bv_decide or even tactic script. The string is just spliced in.\\\n",
    "        # Lean version needs to be explicitly picked or else elan will check for version which is very slow.\n",
    "        self.lean_version = \"4.22.0-rc3\"\n",
    "        self.server = await pantograph.Server.create()\n",
    "        super().__init__()\n",
    "\n",
    "    def check(self):\n",
    "        with io.StringIO() as f:\n",
    "            for imp in self.imports:\n",
    "                f.write(f\"import {imp}\\n\")\n",
    "            f.write(\"set_option linter.unusedVariables false\\n\")  # To remove an warning\n",
    "            f.write(\"set_option grind.warning false\\n\")\n",
    "            predefined = set()\n",
    "            # make inductive datatype definitions\n",
    "            for sort in collect_sorts(\n",
    "                self.adds + [thm for thm, name in self.assert_tracks]\n",
    "            ):\n",
    "                if isinstance(sort, smt.DatatypeSortRef):\n",
    "                    f.write(lean.of_datatype(sort))\n",
    "                    f.write(\"open \" + sort.name() + \"\\n\")\n",
    "                    for n in range(sort.num_constructors()):\n",
    "                        cons = sort.constructor(n)\n",
    "                        predefined.add(cons)\n",
    "                        for i in range(cons.arity()):\n",
    "                            f.write(lean.accessor_def(sort, n, i))\n",
    "                            predefined.add(sort.accessor(n, i))\n",
    "                elif sort.name() not in self.predefined_sorts:\n",
    "                    f.write(lean.sort_axiom(sort))\n",
    "            # state axioms for all non predefined declarations\n",
    "            for decl in collect_decls(\n",
    "                self.adds + [thm for thm, name in self.assert_tracks]\n",
    "            ):\n",
    "                if decl not in predefined and decl.name() not in predefined_names:\n",
    "                    f.write(lean.decl_axiom(decl))\n",
    "            # Make the actual goal\n",
    "            f.write(\"theorem mythm : Not (True \")\n",
    "            for expr in self.adds + [thm for thm, name in self.assert_tracks]:\n",
    "                f.write(\"  /\\\\ \\n\")\n",
    "                f.write(lean.of_expr(expr))\n",
    "            f.write(f\") := by {self.tactic}\\n\")\n",
    "            f.write(\"#check mythm\\n\")\n",
    "            f.flush()\n",
    "        result = subprocess.run(\n",
    "            [\"elan\", \"run\", self.lean_version, \"lean\", \"--json\", \"/tmp/test.lean\"],\n",
    "            capture_output=True,\n",
    "            text=True,\n",
    "        )\n",
    "        if result.returncode != 0:\n",
    "            return smt.unknown\n",
    "        else:\n",
    "            result = json.loads(result.stdout)\n",
    "            assert result[\"severity\"] == \"information\"\n",
    "            assert \"mythm\" in result[\"data\"]\n",
    "            return smt.unsat"
   ]
  },
  {
   "cell_type": "markdown",
   "id": "ba0c4d88",
   "metadata": {},
   "source": [
    "\n",
    "https://github.com/ufmg-smite/lean-smt/blob/main/Test/Bool/Assoc.expected"
   ]
  },
  {
   "cell_type": "code",
   "execution_count": null,
   "id": "bd6c237b",
   "metadata": {},
   "outputs": [
    {
     "ename": "SyntaxError",
     "evalue": "incomplete input (2838448339.py, line 14)",
     "output_type": "error",
     "traceback": [
      "  \u001b[36mCell\u001b[39m\u001b[36m \u001b[39m\u001b[32mIn[6]\u001b[39m\u001b[32m, line 14\u001b[39m\n\u001b[31m    \u001b[39m\u001b[31mfile = \"\"\"\u001b[39m\n           ^\n\u001b[31mSyntaxError\u001b[39m\u001b[31m:\u001b[39m incomplete input\n"
     ]
    }
   ],
   "source": [
    "import z3\n",
    "\n",
    "z3.parse_smt2_string(\"\"\"\n",
    "(set-logic ALL)\n",
    "(declare-const q Bool)\n",
    "(declare-const r Bool)\n",
    "(declare-fun f (Bool Bool) Bool)\n",
    "(declare-const p Bool)\n",
    "(assert (not (= (= (f p (f q r)) (f (f p q) r)) true)))\n",
    "(check-sat)\n",
    "\"\"\")\n",
    "\n",
    "\n",
    "file = \"\"\"\n",
    "theorem addition (p q : Bool) : p → p || q = dummy := by\n",
    "  simp_all\n",
    "  smt_show\n",
    "\"\"\"\n",
    "\n",
    "\n",
    "subprocess.run([\"lean\"])\n"
   ]
  },
  {
   "cell_type": "code",
   "execution_count": null,
   "id": "3d8c75bc",
   "metadata": {},
   "outputs": [],
   "source": []
  },
  {
   "cell_type": "markdown",
   "id": "2375eebd",
   "metadata": {},
   "source": [
    "# Protocols\n",
    "\n",
    "https://leanprover-community.github.io/mathlib4_docs/Init/Core.html#Std.Associative"
   ]
  },
  {
   "cell_type": "code",
   "execution_count": null,
   "id": "8777f2f2",
   "metadata": {},
   "outputs": [],
   "source": [
    "from typing import Protocol, runtime_checkable\n",
    "from kdrag.all import *\n",
    "\n",
    "type SetRef = FuncRef\n",
    "\n",
    "@runtime_checkable\n",
    "class Assoc(Protocol):\n",
    "    S : SetRef\n",
    "    f : smt.FuncDeclRef\n",
    "    assoc : kd.Proof\n",
    "@runtime_checkable\n",
    "class Comm(Protocol):\n",
    "    f : smt.FuncDeclRef\n",
    "    comm : kd.Proof\n",
    "@runtime_checkable\n",
    "class Idem(Protocol):\n",
    "    f : smt.FuncDeclRef\n",
    "    idem : kd.Proof\n",
    "@runtime_checkable\n",
    "class LeftIdentity(Protocol):\n",
    "    f : smt.FuncDeclRef\n",
    "    left_id : kd.Proof\n",
    "@runtime_checkable\n",
    "class RightIdentity(Protocol):\n",
    "    f : smt.FuncDeclRef\n",
    "    right_id : kd.Proof\n",
    "@runtime_checkable\n",
    "class Identity(LeftIdentity, RightIdentity, Protocol): ...\n",
    "\n",
    "@runtime_checkable\n",
    "class Refl(Protocol):\n",
    "    \"\"\"\n",
    "    forall x, rel(x, x) \n",
    "    \"\"\"\n",
    "    rel : smt.FuncDeclRef\n",
    "    refl : kd.Proof\n",
    "\n",
    "@runtime_checkable\n",
    "class Antisymm(Protocol):\n",
    "    \"\"\"\n",
    "    forall x y, rel(x, y) and rel(y, x) implies x = y\n",
    "    \"\"\"\n",
    "    rel : smt.FuncDeclRef\n",
    "    antisymm : kd.Proof\n",
    "\n",
    "@runtime_checkable\n",
    "class Asymm(Protocol):\n",
    "    rel : smt.FuncDeclRef\n",
    "    asymm : kd.Proof\n",
    "\n",
    "@runtime_checkable\n",
    "class Total(Protocol):\n",
    "    rel : smt.FuncDeclRef\n",
    "    total : kd.Proof\n",
    "\n",
    "@runtime_checkable\n",
    "class Irrefl(Protocol):\n",
    "    rel : smt.FuncDeclRef\n",
    "    irrefl : kd.Proof\n",
    "\n",
    "class Or(Comm, Assoc, Identity):\n",
    "    _a, _b, _c = smt.Bools(\"a b c\")\n",
    "    f = smt.Or(_a, _b).decl()\n",
    "    comm = kd.prove(smt.ForAll([_a, _b], smt.Or(_a, _b) == smt.Or(_b, _a)))\n",
    "    assoc = kd.prove(smt.ForAll([_a, _b, _c], smt.Or(smt.Or(_a, _b), _c) == smt.Or(_a, smt.Or(_b, _c))))\n",
    "\n",
    "#class And()\n",
    "#Add\n",
    "#Mul\n",
    "# "
   ]
  },
  {
   "cell_type": "markdown",
   "id": "037d73f2",
   "metadata": {},
   "source": [
    "Do I _Need_ a S parameter?"
   ]
  },
  {
   "cell_type": "markdown",
   "id": "6d0c6754",
   "metadata": {},
   "source": [
    "# Implicits ?\n",
    "How?\n",
    "Macro\n"
   ]
  },
  {
   "cell_type": "markdown",
   "id": "0676d10f",
   "metadata": {},
   "source": [
    "# generalized rewriting calc\n",
    "https://rocq-prover.org/doc/V8.18.0/refman/addendum/generalized-rewriting.html\n",
    "contextual / telescoped calc\n",
    "\n",
    "\n",
    "No I need a cong close tactic.\n",
    "\n"
   ]
  },
  {
   "cell_type": "code",
   "execution_count": null,
   "id": "0dacc9cf",
   "metadata": {},
   "outputs": [],
   "source": [
    "\n",
    "def gen_cong(terms : list[smt.ExprRef], eqs : list[kd.Proof]):\n",
    "    ts = set()\n",
    "    ts.extend(kd.utils.)\n",
    "    while True:\n",
    "        for t1 in ts:\n",
    "            c1 = t1.children()\n",
    "            for t2 in ts:\n",
    "                c2 = t2.children()\n",
    "                if all((a1,a2) in eqs for a1,a2 zip(c1,c2)):\n",
    "                    \n",
    "\n",
    "\n",
    "\n",
    "\n"
   ]
  },
  {
   "cell_type": "code",
   "execution_count": null,
   "id": "f92af2cc",
   "metadata": {},
   "outputs": [],
   "source": [
    "import operator\n",
    "\n",
    "\n",
    "class ParamRelation():\n",
    "    rel : smt.FuncDeclRef\n",
    "    refl : kd.Proof\n",
    "    trans : kd.Proof\n",
    "\n",
    "    refl : Optional[kd.Proof] = None # forall x, rel(x,x)\n",
    "    symm : Optional[kd.Proof] = None # forall x y, rel(x,y) -> rel(y,x)\n",
    "    trans : kd.Proof # forall x y z, rel(x,y) and rel(y,z) -> rel(x,z)\n",
    "\n",
    "# diciontary from relation of interest -> funcdecl -> forall rel(a0,a1), rel(a1,a2), rel(a0,a2) -> rel(f(a0), f(a2))\n",
    "cong_db : dict[Rel, dict[smt.FuncDeclRef, kd.Proof]]= {}\n",
    "refl_db : \n",
    "symm_db \n",
    "trans\n",
    "\n",
    "# pretty expnsive\n",
    "def cong_tactic(rel, t1, t2, eqs):\n",
    "    goal = t1 == t2\n",
    "    if goal.get_id() in eqs:\n",
    "        return eqs[goal]\n",
    "    else:\n",
    "        if t1.decl() == t2.decl():\n",
    "           cong_tactic(rel,c1,c2,eqs) for c1,c2 in zip(t1.children(), t2.children()) \n",
    "\n",
    "    # zip down t1 t2 and apply cong\n",
    "    # only stop if \n",
    "\n",
    "\n",
    "def rewrite_tactic(rel, t1, t2, rule):\n",
    "\n",
    "\n",
    "\n",
    "class Calc2():\n",
    "    ctx = None\n",
    "    start : smt.ExprRef\n",
    "    t : smt.ExprRef\n",
    "    pf : kd.Proof\n",
    "    def __init__(self, start, rel=operator.eq, ctx=None):\n",
    "        self.start = start\n",
    "        self.rel\n",
    "        self.t = start\n",
    "        self.pf = kd.kernel.refl(start)\n",
    "    def eq(self, t2, by=[]):\n",
    "        pf = kd.prove(self.t == t2, self.start == t, by=by)\n",
    "        self.pf = kd.kernel.trans(self.pf, pf)\n",
    "        self.t = t2\n",
    "    def qed(self):\n",
    "        return self.pf\n",
    "    def gqed(self, *vs):\n",
    "        return self.pf.forall(vs)"
   ]
  },
  {
   "cell_type": "code",
   "execution_count": null,
   "id": "0b8e9230",
   "metadata": {},
   "outputs": [],
   "source": [
    "import operator\n",
    "class Calc2():\n",
    "    start : smt.ExprRef\n",
    "    t : smt.ExprRef\n",
    "    pf : kd.Proof\n",
    "    def __init__(self, start, rel=operator.eq, ctx=None):\n",
    "        self.start = start\n",
    "        self.rel\n",
    "        self.t = start\n",
    "        self.pf = kd.kernel.refl(start)\n",
    "    def eq(self, t2, by=[]):\n",
    "        pf = kd.prove(self.t == t2, self.start == t, by=by)\n",
    "        self.pf = kd.kernel.trans(self.pf, pf)\n",
    "        self.t = t2\n",
    "    def qed(self):\n",
    "        return self.pf\n",
    "    def gqed(self, *vs):\n",
    "        return self.pf.forall(vs)\n"
   ]
  },
  {
   "cell_type": "markdown",
   "id": "d580b66d",
   "metadata": {},
   "source": [
    "# leanexpr"
   ]
  },
  {
   "cell_type": "code",
   "execution_count": null,
   "id": "4fdaae57",
   "metadata": {},
   "outputs": [],
   "source": [
    "class LeanExpr: ...\n",
    "\n",
    "class BVar(LeanExpr):\n",
    "    idx : int\n",
    "class FVar(LeanExpr):\n",
    "    name : str\n",
    "class Mvar(LeanExpr):\n",
    "    name : str\n",
    "class Sort(LeanExpr):\n",
    "    level : int\n",
    "class Const(LeanExpr):\n",
    "    name : str\n",
    "    levels : List[int]\n",
    "class App(LeanExpr):\n",
    "    fn : LeanExpr\n",
    "    arg : LeanExpr\n",
    "class Lam(LeanExpr):\n",
    "    name : str\n",
    "    v : LeanExpr\n",
    "    body : LeanExpr\n",
    "    binderinfo : str\n",
    "class ForallE(LeanExpr):\n",
    "    name : str\n",
    "    v : LeanExpr\n",
    "    body : LeanExpr\n",
    "    binderinfo : str\n",
    "class LetE(LeanExpr):\n",
    "    name : str\n",
    "    v : LeanExpr\n",
    "    body : LeanExpr\n",
    "    binderinfo : str\n",
    "class Lit(LeanExpr):\n",
    "    value : Any\n",
    "class Mdata(LeanExpr):\n",
    "    expr : LeanExpr\n",
    "    data : Any\n",
    "class Proj(LeanExpr):\n",
    "    name : str\n",
    "    expr : LeanExpr\n",
    "    idx : int\n"
   ]
  },
  {
   "cell_type": "markdown",
   "id": "d90262ce",
   "metadata": {},
   "source": [
    "# datatypesort\n",
    "\n",
    "There has always been a DatatypeSort for Seq (and Array?)?\n",
    "\n",
    "\n"
   ]
  },
  {
   "cell_type": "markdown",
   "id": "9604e834",
   "metadata": {},
   "source": [
    "# Better unfold\n",
    "Make axiom schema that does substitute_fun\n",
    "auto_unfold collects up decls.\n",
    "\n",
    "\n",
    "The arguments of the decl fun aren't for granted.\n",
    "\n",
    "\n",
    "unifying / rewriting modulo z3.simplify"
   ]
  },
  {
   "cell_type": "code",
   "execution_count": null,
   "id": "bcf2e78c",
   "metadata": {},
   "outputs": [],
   "source": []
  },
  {
   "cell_type": "markdown",
   "id": "d26ca92b",
   "metadata": {},
   "source": [
    "# Lemma stack\n",
    "\n",
    "If self.lemmas was held in a stack, we could push pop it to make smaller lemma contexts.\n",
    "z3 might be a bit happier.\n",
    "\n",
    "We're emulating a runtime stack manually. Why?\n",
    "\n",
    "The return is allowed to be filled in by z3. How could a language runtime do this\n",
    "We are able to tag the thing we want in the answer.\n",
    "[l1,l2,l3, None,None], extra\n",
    "\n",
    "\n",
    "\n",
    "\n",
    "\n",
    "Lemma\n",
    "class GoalNode():\n",
    "class LeafGoal(GoalNode)\n",
    "class OpenGoal(lemmas, goals, cb):\n",
    "https://github.com/aqjune/hol-light-materials/blob/main/TacticDetails.md\n",
    "\n",
    "give fix vars user given names\n",
    "\n"
   ]
  },
  {
   "cell_type": "markdown",
   "id": "b1421b21",
   "metadata": {},
   "source": [
    "# eexists\n",
    "\n",
    "\n",
    "axiom forms of z3 operations. We do want reliable forms of everything.\n",
    "\n",
    "def rewrite(, eqs):\n",
    "    subst = eq.arg(0), eq.arg(1) \n",
    "    substitute()\n",
    "\n",
    "def unfold(t, defns):\n",
    "    substitute_funs(t, )\n",
    "\n",
    "\n",
    "\n",
    "\n"
   ]
  },
  {
   "cell_type": "code",
   "execution_count": null,
   "id": "edb499a8",
   "metadata": {},
   "outputs": [],
   "source": [
    "def rename_vars(vs, t):\n",
    "    assert isinstance(t, smt.QuantifierRef, smt.free_in(t,vs))\n",
    "    vs1, body = open_binder(t)\n",
    "    body = smt.substitute(body, zip(vs1,vs))\n",
    "    if t.is_forall():\n",
    "        t2 = smt.ForAll(vs, body)\n",
    "    elif t.is_exists():\n",
    "        t2 = smt.ForAll(vs, body)\n",
    "    elif t.is_lambda():\n",
    "        t2 = smt.Lambda(vs, body)\n",
    "    else:\n",
    "        raise ValueExecption()\n",
    "    return t2, kd.axiom(t == t2, by=[\"rename\", t, vs])"
   ]
  },
  {
   "cell_type": "code",
   "execution_count": null,
   "id": "00e13843",
   "metadata": {},
   "outputs": [],
   "source": [
    "def eexists(self):\n",
    "    goal = self.top_goal()\n",
    "    assert isinstance(goal.conc, smt.QuantifierRef) and goal.conc.is_eexists()\n",
    "    vs, body = open_binder(goal.conc)\n",
    "    self.uvars.add(vs)\n",
    "\n",
    "    return vs\n",
    "\n",
    "def solve_for(self, x): # They don't explicily have a solve for\n",
    "    # assign to variable in context\n",
    "    assert x in self.uvars\n",
    "\n",
    "    # Do branchjign search, try sympy, try other\n",
    "\n"
   ]
  },
  {
   "cell_type": "markdown",
   "id": "20c5e657",
   "metadata": {},
   "source": [
    "# Proof objects\n",
    "\n",
    "\"A format and standalone checker of Big Step SMTLIB proofs\"\n",
    "\n"
   ]
  },
  {
   "cell_type": "markdown",
   "id": "ca567722",
   "metadata": {},
   "source": [
    "# HOl light\n",
    "https://hol-light.github.io/tutorial.pdf\n",
    "opam install.\n",
    "They are making this more usable\n",
    "https://hol-light.github.io/\n",
    "https://github.com/aqjune/hol-light-materials/tree/main?tab=readme-ov-file"
   ]
  },
  {
   "cell_type": "code",
   "execution_count": null,
   "id": "55adc215",
   "metadata": {},
   "outputs": [],
   "source": [
    "%%script hol.sh\n",
    "print_endline \"hello world\";;;"
   ]
  },
  {
   "cell_type": "markdown",
   "id": "023d22c8",
   "metadata": {},
   "source": [
    "# Transitive Closure induction\n",
    "\n",
    "This is an alternative to InductiveRel. Similar idea though.\n",
    "We could be using an explicit Nat.\n",
    "\n",
    "trans(r, n) = cond(\n",
    "    n < 0, undefined,\n",
    "    n == 0, r(a,b),\n",
    "    n > 0, Exists([c], r(c,b), trans(r,n-1)(a,c)\n",
    ") \n",
    "\n",
    "\n",
    "https://mathoverflow.net/questions/238188/can-epsilon-induction-be-derived-from-the-transitive-closure-operator#:~:text=The%20induction%20of%20the%20transitive,P(x%2Cy).\n",
    "https://cs.stackexchange.com/questions/74449/induction-rules-for-reflexive-transitive-closure"
   ]
  },
  {
   "cell_type": "code",
   "execution_count": null,
   "id": "ba252b1d",
   "metadata": {},
   "outputs": [
    {
     "ename": "AttributeError",
     "evalue": "module 'kdrag.smt' has no attribute 'Transitive'",
     "output_type": "error",
     "traceback": [
      "\u001b[31m---------------------------------------------------------------------------\u001b[39m",
      "\u001b[31mAttributeError\u001b[39m                            Traceback (most recent call last)",
      "\u001b[36mCell\u001b[39m\u001b[36m \u001b[39m\u001b[32mIn[2]\u001b[39m\u001b[32m, line 3\u001b[39m\n\u001b[32m      1\u001b[39m \u001b[38;5;28;01mfrom\u001b[39;00m\u001b[38;5;250m \u001b[39m\u001b[34;01mkdrag\u001b[39;00m\u001b[34;01m.\u001b[39;00m\u001b[34;01mall\u001b[39;00m\u001b[38;5;250m \u001b[39m\u001b[38;5;28;01mimport\u001b[39;00m *\n\u001b[32m----> \u001b[39m\u001b[32m3\u001b[39m \u001b[43msmt\u001b[49m\u001b[43m.\u001b[49m\u001b[43mTransitive\u001b[49m\n",
      "\u001b[31mAttributeError\u001b[39m: module 'kdrag.smt' has no attribute 'Transitive'"
     ]
    }
   ],
   "source": [
    "from kdrag.all import *\n",
    "\n",
    "\n",
    "\n",
    "R = Function('R', A, A, B)\n",
    "TC_R = TransitiveClosure(R)\n",
    "\n",
    "# Induction over the the structure of the lcousre\n",
    "def trans_induct(R):\n",
    "    def transitive_schema(P,a,b):\n",
    "        return smt.Implies( smt.And( R[x,y] => P[x,y],  smt.And(P[x,y], R[y,z]) => P[x,z], TransitiveClosure(R)(a,b))\n",
    "                                                        P[a,b])\n",
    "\n"
   ]
  },
  {
   "cell_type": "markdown",
   "id": "e3380d52",
   "metadata": {},
   "source": [
    "# Calc2\n",
    "\n"
   ]
  },
  {
   "cell_type": "code",
   "execution_count": null,
   "id": "22c3377d",
   "metadata": {},
   "outputs": [],
   "source": [
    "\n",
    "\n"
   ]
  },
  {
   "cell_type": "markdown",
   "id": "39f73c55",
   "metadata": {},
   "source": [
    "# Set ZF\n",
    "Lamport was a proponent of.\n",
    "Operators vs functions as class functions\n",
    " https://lamport.azurewebsites.net/pubs/lamport-types.pdf Should Your Specification Language Be Typed?\n",
    "\n",
    "\n",
    "On a somewhat related note, when people say List or Stream are greatest or least fixed points, I don’t understand “in what?”\n",
    "https://lamport.azurewebsites.net/pubs/lamport-types.pdf\n",
    "Some interesting stuff in here\n",
    "Is List a class function?\n",
    "There’s something going on with parameters vs indices too\n",
    "https://leanprover.github.io/functional_programming_in_lean/dependent-types/indices-parameters-universes.html\n",
    "Parameters don’t need to bump universes, indices do\n",
    "What is the set theoretic analog of these principles\n",
    "I’m guessing bumping universes is very similar to class vs set distinction\n",
    "https://en.wikipedia.org/wiki/Reflection_principle\n",
    "Class vs set or universe bumping is a big concept that always titillates. I don’t know what I’d need to see to make it feel coherent.\n",
    "I think List/Stream being gfp vs lfp is in some implicit set theoretic model that 90% of the people who say it don’t know it in an actually precise way.\n",
    "Semantics of type theory\n",
    "Given a set A in zfc, using what principles and encodings can I construct something List(A) or Stream(A)?\n",
    "What unctions or class functions?\n",
    "What if A is a class?\n",
    "What if A is in some universe?\n",
    "I know I can construct kuratowski ordered pairs. I can construct the naturals and even some ordinals\n",
    "\n",
    "WRT the \"in what\" question - Yeah, it seems like usually classes or sets. It makes sense to talk about coalgebras over any category, and as long as it has products you can think about \"the lists of A in that category\", as the initial algebras of the functor X |-> A * X , if those exist. But at least some of the actual results need you to be more specific about the ambient category, like Aczel's theorem here: https://plato.stanford.edu/entries/nonwellfounded-set-theory/#4.5.\n",
    "\n",
    "It is somewhat strange that this article is the one with a good conception of this topic\n"
   ]
  },
  {
   "cell_type": "markdown",
   "id": "fabd8d7b",
   "metadata": {},
   "source": [
    "# Propositions as sets of proofs in python\n",
    "Pick a notion of proof object.\n",
    "\n",
    "\n"
   ]
  },
  {
   "cell_type": "code",
   "execution_count": null,
   "id": "e5a318ec",
   "metadata": {},
   "outputs": [],
   "source": [
    "class Prop():\n",
    "    formula: object\n",
    "    proofs : set[object]\n",
    "\n",
    "# or use python name layer to name my formula. Can't have structured names then?\n",
    "type Proof = object\n",
    "type Prop = set[Proof]\n",
    "def is_prop(x):\n",
    "    return isinstance(x, Prop)\n",
    "\n",
    "a_equals_b = set()\n",
    "is_prop(a_equals_b)\n",
    "\n",
    "# is_prop(a.eq.b)  # more structured?  is_prop(a.eq(b))\n",
    "\n",
    "# Proof irrelevance is a confusing axiom to ask.\n",
    "# Souffle style choice is one possilbiity\n",
    "class SingletonSet(set):\n",
    "    def add(self, item):\n",
    "        if len(self) == 0:\n",
    "            super().add(item)\n",
    "\n",
    "\n",
    "\n"
   ]
  },
  {
   "cell_type": "markdown",
   "id": "726816c7",
   "metadata": {},
   "source": [
    "# Transparent define\n",
    "\n",
    "\n",
    "If I used recfunction in reducible_define\n",
    "How much does this infect everything though?\n",
    "\n"
   ]
  },
  {
   "cell_type": "markdown",
   "id": "a4f05604",
   "metadata": {},
   "source": [
    "# schematic variables\n",
    "schematic variables via global tracking\n",
    "\n",
    "schematic vars are the analog of unify vars in prolog _answers_\n",
    "\n",
    "realtion to metamath vars?\n",
    "\n",
    "I don't love this makes the system a bit weirder\n",
    "\n",
    "I have a new scam for the knuckledragger kernel.\n",
    "I've dealt with proving foralls via a herband axiom schema. It's very awkward\n",
    "I've considered making my proof object more like a sequent, carrying a list of variables to be considered schematic\n",
    "But here's the new idea: Make a new judgement that x schematic\n",
    "And then I can add a forall around a proven thing if all the variables I want to quantify over are also proven schematic\n",
    "And the only way you introduce schematic is through calling FreshConst\n",
    "Part of the issue is that I have to use z3, so I can't add a constructor to my expression ast\n",
    "It's a funny shell game, but after 5 minutes of hot headed thinking I don't see how it breaks\n",
    "\n",
    "Instead of explicitly using a context list in Proof to know my schema vars, I am using the _python_ context and SchemaVar judgement objects\n",
    "\n",
    "Could I do the same with hypotheticals?\n",
    "Implies(A, B)\n",
    "\n",
    "hA = hypothetical(A)\n",
    "Doesn't give back...\n",
    "\n",
    "prove(yada, by=[])\n",
    "all(isisntance(p, Proof) or isinstance(p, Hypothetical))\n",
    "  hyps = []\n",
    "\n",
    "\n",
    "Proof()\n",
    "    hyps : set[smt.ExprRef]\n",
    "    conc : smt.ExprRef\n",
    "\n",
    "def implI(hyp, pf):\n",
    "    assert hyp in pf.hyps\n",
    "    axiom(smt.Implies(hyp, pf.conc), hyps=pf.hyps - {hyp})\n",
    "\n",
    "But if i do this, why not\n",
    "\n",
    "prove(thm ,by=[], schematic=vs)\n",
    "    smt.prove(smt.ForAll(vs, smt.And(by), thm))\n",
    "    Proof(vs, thm, reasons=by)\n",
    "\n",
    "but this is no good? This is just...\n",
    "Well, the vs float. That's the difference. I can use them in the by.\n",
    "\n",
    "Is this really\n",
    "\n",
    "https://en.wikipedia.org/wiki/Metavariable\n",
    "\n",
    "https://philpapers.org/archive/CORSTC.pdf  SCHEMATA: THE CONCEPT OF SCHEMA IN THE HISTORY OF\n",
    "LOGIC Corcoran\n",
    "\n",
    "https://en.wikipedia.org/wiki/Tarski%27s_undefinability_theorem\n",
    "\n",
    "\n",
    "Something I think is interesting about Knuckledragger is that the meta (python) is very different than the object language (HOL/SMTLIB). I think this makes the concepts easier to distinguish, whereas many systems try to make them look similar and easier to mistake. They manipulate math inside of math and distinguish meta from object by font if at all.\n",
    " ⊦ true(\"(> x 0)\") == (x > 0)\n",
    "\n",
    "\n",
    "Tag schema var evidence onto the variable. That's always a little more convenient.\n",
    "\n",
    "A dual idea is to mark Exists in goals as unif_vars instead of tracking a context inside Lemma.\n",
    "It is kind of deliciously direct\n",
    "\n",
    "def is_unif_var(x):\n",
    "    return has_attr(v, \"is_unif\")\n",
    "\n",
    "def UnifVar(prefix, sort):\n",
    "    v = smt.FreshConst(sort,prefix=prefix)\n",
    "    v.is_unif = True\n",
    "\n",
    "Uhh, but the unif property disappears if it comes out of a subterm. Ok nevermind.\n",
    "\n",
    "\n",
    "Could make a direct schematic var subtitution rule\n",
    "\n",
    "def substitute_schema(e : kd.Proof,  subst):\n",
    "    assert all(is_schema(v) for v,t in subst)\n",
    "\n",
    "\n"
   ]
  },
  {
   "cell_type": "code",
   "execution_count": null,
   "id": "92e151bc",
   "metadata": {},
   "outputs": [],
   "source": [
    "\n",
    "# hypothetical facts\n",
    "# A ypothetical fact doesn't mean much of antyhing.\n",
    "\n",
    "class Hyp():\n",
    "\n",
    "\n"
   ]
  },
  {
   "cell_type": "code",
   "execution_count": 9,
   "id": "685210f3",
   "metadata": {},
   "outputs": [
    {
     "data": {
      "text/html": [
       "&#8870;true(\"(> x 0)\") == (x > 0)"
      ],
      "text/plain": [
       "|- true(\"(> x 0)\") == (x > 0)"
      ]
     },
     "execution_count": 9,
     "metadata": {},
     "output_type": "execute_result"
    }
   ],
   "source": [
    "from kdrag.all import *\n",
    "true = smt.Function(\"true\", smt.StringSort(), smt.BoolSort())\n",
    "def tarski_schema(fm : smt.BoolRef) -> kd.Proof:\n",
    "    return kd.axiom(true(smt.StringVal(fm.sexpr())) == fm, by=[\"tarski\", fm])\n",
    "x = smt.Int(\"x\")\n",
    "tarski_schema(x > 0)"
   ]
  },
  {
   "cell_type": "code",
   "execution_count": null,
   "id": "6b3ce46a",
   "metadata": {},
   "outputs": [],
   "source": [
    "\n",
    "@dataclass(frozen=True)\n",
    "class SchemaVarEvidence():\n",
    "    \"\"\"\n",
    "    Do not instantiate this class directly. Use schema_var. It should always be created with a fresh variable\n",
    "    \"\"\"\n",
    "    v : smt.ExprRef\n",
    "\n",
    "def schema_var(sort : smt.SortRef, prefix: Optional[str] = None) -> smt.ExprRef:\n",
    "    v = smt.FreshConst(sort, prefix=prefix)\n",
    "    return SchemaVarEvidence(v)\n",
    "\n",
    "def SchemaVars(names : str, sort : smt.SortRef):\n",
    "    svs = [schema_var(sort, prefix=n) for n in names.split()]\n",
    "    vs = [sv.v for sv in svs]\n",
    "    return vs, svs\n"
   ]
  },
  {
   "cell_type": "code",
   "execution_count": null,
   "id": "c97669b4",
   "metadata": {},
   "outputs": [],
   "source": [
    "class SchematicVar(smt.ExprRef): ...\n",
    "    # kind of a proof that the variable is schematic. Meh\n",
    "\n",
    "@dataclass(frozen=True)\n",
    "class SchematicVarProof():\n",
    "    v : smt.ExprRef\n",
    "\n",
    "# This is database style proof kernel, which I tried to avoid.\n",
    "_schema_var_db = set()\n",
    "def schematic_var(sort, prefix=None):\n",
    "    v= smt.FreshConst(sort,prefix=prefix)\n",
    "    _schema_var_db.add(v)\n",
    "    return SchematicVarProof(v)\n",
    "\n",
    "def forallI(vs, body : Proof):\n",
    "    assert all(v in _schema_var_db for v in vs), \"Not all variables are schematic\"\n",
    "    assert isinstance(body, Proof), \"Body must be a Proof\"\n",
    "    # automatically drop all of vs from table?\n",
    "    return axiom(smt.ForAll(vs, body.thm), reason=[\"forallI\", vs, body])\n",
    "\n",
    "def forallI2(svs : list[SchemticVarProof], body : Proof):\n",
    "    assert all(isinstance(sv, SchematicVarProof) for sv in svs), \"All variables must be SchematicVarProof\"\n",
    "\n",
    "\n",
    "\n",
    "def grab_schema_var(sort):\n",
    "    # try and reuse existing schematic vasriable?\n",
    "    pass\n",
    "\n",
    "\n",
    "# To control size of _schema_var_db, we can forget variables\n",
    "# It is nice thought to probable at the start of an external proof file list all schema_var ever used.\n",
    "# it is sufficient to note them at forallI usages though. That's all they do.\n",
    "def forget_schematic_var(v):\n",
    "    del _schema_var_db[v]\n",
    "\n",
    "def clear_schematic_vars():\n",
    "    global _schema_var_db\n",
    "    _schema_var_db = set()\n",
    "\n",
    "\n",
    "def open_binder_schema(e):\n",
    "    svs = [schematic_var(e.var_sort(n), e.var_name(n)]\n",
    "    return svs, e(*[sv.v for sv in svs])\n",
    "\n",
    "# direct instantiation of a schematic cariable might be inconsistent. Maybe needs to be done globally? What about seeing through definitions?\n",
    "# If I amke a definition that holds a schematic var? foo : Bool = x == ?a, Well I don't think I'll be able to trick it.\n",
    "# But it's not obvious\n",
    "#   \n",
    "\n",
    "# foo(?x) == bar(?x)\n",
    "#--------------------------\n",
    "# lambda x foo(x) == lambda x bar(x)\n",
    "\n",
    "def lambda_cong(svs, eq : kd.Proof):\n",
    "    assert all(v.is_schematic() for v in vs), \"All variables must be schematic\"\n",
    "    assert isinstance(eq, kd.Proof), \"eq must be a Proof\"\n",
    "    assert eq.thm.is_eq(), \"eq must be an equality\"\n",
    "    lhs,rhs = eq.children()\n",
    "    axiom(Lambda([vs], lhs) == Lambda([vs], rhs), \n",
    "          reason=[\"lambda_cong\", vs, eq])\n",
    "    \n",
    "\n",
    "\n",
    "def schematic_funcdecl(*sorts):\n",
    "    smt.FreshFunction(*sort)\n",
    "\n",
    "def schematic_sort(prefix=None):\n",
    "    T = smt.FreshSort(\"schematic_sort\")\n",
    "\n",
    "def instan_sort(e : kd.Proof, A, T):\n",
    "    assert A.is_schematic(), \"A must be a schematic sort\"\n",
    "    assert not T.is_schematic(), \"T must not be a schematic sort\" # ? Maybe this is ok.\n",
    "\n",
    "\n"
   ]
  },
  {
   "cell_type": "markdown",
   "id": "63d41f12",
   "metadata": {},
   "source": [
    "# Matching modulo definitions\n",
    "\n",
    "Lean is rotten with this. Unification modulo execution or matching modulo definitions.\n",
    "A persepctive on higher order unification?\n",
    "\n",
    "whnf vs hnf\n"
   ]
  },
  {
   "cell_type": "code",
   "execution_count": null,
   "id": "687d405a",
   "metadata": {},
   "outputs": [],
   "source": [
    "def whnf(e):\n",
    "    while True:\n",
    "        if smt.is_app(e):\n",
    "            if smt.is_select(e):\n",
    "                f, *children = e.children()\n",
    "                if isintance(f, smt.QuantifierRef) and f.is_lambda():\n",
    "                # do subst\n",
    "                e = f(*children)\n",
    "            decl = e.decl()  \n",
    "            elif e.decl() in kernel.defns:\n",
    "                # do defn subst.\n",
    "            else:\n",
    "                # No more head reduction possible\n",
    "                return e\n",
    "        else:\n",
    "            return e\n"
   ]
  },
  {
   "cell_type": "markdown",
   "id": "2c1a9c79",
   "metadata": {},
   "source": [
    "## Lean\n",
    "If i could bulk export to lean, I could get entire theories for free kind of.\n",
    "Also if I can use mathlib\n",
    "Linear algebra\n",
    "\n"
   ]
  },
  {
   "cell_type": "markdown",
   "id": "cf43fbb0",
   "metadata": {},
   "source": [
    "# Graham's examples\n",
    "https://github.com/gleachkr/lean-automation-showcase\n",
    "\n"
   ]
  },
  {
   "cell_type": "markdown",
   "id": "c0337ee5",
   "metadata": {},
   "source": [
    "# SBV examples\n",
    "\n",
    "He's got some I don't have\n",
    "https://hackage.haskell.org/package/sbv\n",
    "Quicksort\n",
    "Reverse\n",
    "Sumreverse\n",
    "binarysearch\n",
    "majority\n",
    "macarthy91\n",
    "\n"
   ]
  },
  {
   "cell_type": "markdown",
   "id": "d138fadc",
   "metadata": {},
   "source": [
    "## Improveved lemma"
   ]
  },
  {
   "cell_type": "code",
   "execution_count": 1,
   "id": "f4e66866",
   "metadata": {},
   "outputs": [
    {
     "name": "stdout",
     "output_type": "stream",
     "text": [
      "ForAll(x, Implies(x >= 0, P!0[x]))\n",
      "ForAll(P,\n",
      "       Implies(And(P[0],\n",
      "                   ForAll(n,\n",
      "                          Implies(And(n >= 0, P[n]),\n",
      "                                  P[n + 1]))),\n",
      "               ForAll(x, Implies(x >= 0, P[x]))))\n"
     ]
    },
    {
     "data": {
      "text/plain": [
       "Nothing to do!"
      ]
     },
     "execution_count": 1,
     "metadata": {},
     "output_type": "execute_result"
    }
   ],
   "source": [
    "from kdrag.all import *\n",
    "\n",
    "def induct_nat(x, P):\n",
    "    n = smt.FreshConst(smt.IntSort(), prefix=\"n\")\n",
    "    return kd.axiom(\n",
    "        smt.Implies(\n",
    "            smt.And(P(0), kd.QForAll([n], n >= 0, P(n), P(n + 1)), x >= 0),\n",
    "            # ---------------------------------------------------\n",
    "            P(x),\n",
    "        )\n",
    "    )\n",
    "\n",
    "\n",
    "n, x = smt.Ints(\"n x\")\n",
    "P = smt.Array(\"P\", smt.IntSort(), smt.BoolSort())\n",
    "_l = kd.Lemma(\n",
    "    kd.QForAll(\n",
    "        [P],\n",
    "        P(0),\n",
    "        kd.QForAll([n], n >= 0, P(n), P(n + 1)),\n",
    "        kd.QForAll([x], x >= 0, P(x)),\n",
    "    ),\n",
    ")\n",
    "_P = _l.fix()\n",
    "_l.intros()\n",
    "_x = _l.fix()\n",
    "_l.intros()\n",
    "_l.induct(_x, using=induct_nat)\n",
    "_l.auto()\n",
    "_l.auto()\n",
    "#_l.lemmas\n",
    "_l.auto()\n",
    "#induct_nat_ax = _l.qed()"
   ]
  },
  {
   "cell_type": "markdown",
   "id": "11731f67",
   "metadata": {},
   "source": [
    "# Hoare\n",
    "\n"
   ]
  },
  {
   "cell_type": "code",
   "execution_count": null,
   "id": "ddbfc287",
   "metadata": {},
   "outputs": [
    {
     "data": {
      "text/plain": [
       "\"Module(body=[Assign(targets=[Tuple(elts=[Name(id='x', ctx=Store()), Name(id='y', ctx=Store())], ctx=Store())], value=Tuple(elts=[Constant(value=3), Constant(value=2)], ctx=Load())), Assign(targets=[Name(id='y', ctx=Store())], value=Constant(value=7))], type_ignores=[])\""
      ]
     },
     "execution_count": 15,
     "metadata": {},
     "output_type": "execute_result"
    }
   ],
   "source": [
    "ast.dump(ast.parse(\"x,y = 3,2; y = 7\"))"
   ]
  },
  {
   "cell_type": "code",
   "execution_count": null,
   "id": "3f80befb",
   "metadata": {},
   "outputs": [
    {
     "data": {
      "text/plain": [
       "{3 + 2 > 0} x = 3; y = x + 2; z = y + 1 {y > 0}"
      ]
     },
     "execution_count": 13,
     "metadata": {},
     "output_type": "execute_result"
    }
   ],
   "source": [
    "\n",
    "\n",
    "\n",
    "x,y,z = smt.Ints(\"x y z\")\n",
    "locals = {\"x\": x, \"y\": y, \"z\": z}\n",
    "wp_str(\"x = 3; y = x + 2; z = y + 1\", y > 0)\n",
    "\n"
   ]
  },
  {
   "cell_type": "markdown",
   "id": "bb1763ce",
   "metadata": {},
   "source": [
    "# python dsl\n"
   ]
  },
  {
   "cell_type": "code",
   "execution_count": null,
   "id": "92f34f09",
   "metadata": {},
   "outputs": [
    {
     "name": "stdout",
     "output_type": "stream",
     "text": [
      "TypeAlias(name=Name(id='Foo', ctx=Store()), type_params=[], value=BinOp(left=BinOp(left=BinOp(left=Name(id='Biz', ctx=Load()), op=BitOr(), right=Name(id='Bar', ctx=Load())), op=BitOr(), right=Call(func=Name(id='Baz', ctx=Load()), args=[Name(id='Int', ctx=Load()), Name(id='Int', ctx=Load())], keywords=[])), op=BitOr(), right=Call(func=Name(id='Boz', ctx=Load()), args=[], keywords=[keyword(arg='x', value=Name(id='Int', ctx=Load())), keyword(arg='y', value=Name(id='Int', ctx=Load()))])))\n"
     ]
    },
    {
     "data": {
      "text/html": [
       "Int"
      ],
      "text/plain": [
       "Int"
      ]
     },
     "execution_count": 39,
     "metadata": {},
     "output_type": "execute_result"
    }
   ],
   "source": [
    "import ast\n",
    "from kdrag.all import *\n",
    "import inspect\n",
    "def datatype(s : str, locals=None, globals=None) -> smt.DatatypeSortRef:\n",
    "    if locals is None:\n",
    "        locals = inspect.currentframe().f_back.f_locals\n",
    "    if globals is None:\n",
    "        globals = inspect.currentframe().f_back.f_globals\n",
    "    mod = ast.parse(s)\n",
    "    body = mod.body\n",
    "    if len(body) != 1:\n",
    "        raise ValueError(f\"Expected a single type alias, got {ast.unparse(mod)}\")\n",
    "    type_alias = body[0]\n",
    "    if not isinstance(body[0], ast.TypeAlias):\n",
    "        raise ValueError(f\"Expected a single type alias, got {ast.unparse(body[0])}\")\n",
    "    print(ast.dump(type_alias))\n",
    "    dt = kd.Inductive(type_alias.name.id)\n",
    "    todo = [type_alias.value]\n",
    "    while todo:\n",
    "        match todo.pop():\n",
    "            case ast.BinOp(op=ast.BitOr(), left=left, right=right):\n",
    "                todo.append(right)\n",
    "                todo.append(left)\n",
    "            case ast.Name(id=name):\n",
    "                dt.declare(name)\n",
    "            case ast.Call(func=ast.Name(id=name), args=args, keywords=[]):\n",
    "                dt.declare(name, *[( f\"{name}_{n}\" ,locals[arg.id]) for n,arg in enumerate(args)]) # caller_frame = inspect.currentframe().f_back\n",
    "            case ast.Call(func=ast.Name(id=name), args=[], keywords=keywords):\n",
    "                dt.declare(name, *[(kw.arg ,locals[kw.value.id]) for kw in keywords]) # caller_frame = inspect.currentframe().f_back\n",
    "            case _:\n",
    "                raise ValueError(f\"Unexpected subexpresison: {ast.unparse(type_alias.value)}\")\n",
    "    return dt.create()\n",
    "    \n",
    "\n",
    "\n",
    "\n",
    "\n",
    "Int = smt.IntSort()\n",
    "Real = smt.RealSort()\n",
    "Foo = datatype(\"type Foo = Biz | Bar | Baz(Int, Int) | Boz(x = Int, y = Int)\")\n",
    "# Foo = datatype(\"type Foo = Biz | Bar | Baz(Int, Int) | Boz(x = Int, y = {Int})\") explicitly mark the things that should be interpolate in?\n",
    "Foo.Biz\n",
    "Foo.Baz.domain(1)\n",
    "Foo.x.range()\n",
    "\n",
    "\n"
   ]
  },
  {
   "cell_type": "code",
   "execution_count": null,
   "id": "e97530ef",
   "metadata": {},
   "outputs": [],
   "source": [
    "def setcomp(s:str, locals=None, globals=None): ...\n",
    "\n",
    "ast.parse(\"{{x + 1 for x in A if x > 0}}\")\n",
    "#smt.Lambda([y], smt.Exists([x], y == x + 1))"
   ]
  },
  {
   "cell_type": "code",
   "execution_count": null,
   "id": "e2b1794e",
   "metadata": {},
   "outputs": [],
   "source": [
    "case ast.SetComp(elt=elt, generators=generators):\n",
    "    res = rec(elt)\n",
    "    y = smt.FreshConst(res.sort())\n",
    "    genvars = []\n",
    "    smt.Lambda([y], smt.Exists())\n",
    "    xs = [ast.unparse(x) for x in elt.generators[0].iter]"
   ]
  },
  {
   "cell_type": "code",
   "execution_count": null,
   "id": "ab6ef115",
   "metadata": {},
   "outputs": [
    {
     "name": "stdout",
     "output_type": "stream",
     "text": [
      "Module(\n",
      "    body=[\n",
      "        Expr(\n",
      "            value=SetComp(\n",
      "                elt=Name(id='x', ctx=Load()),\n",
      "                generators=[\n",
      "                    comprehension(\n",
      "                        target=Name(id='x', ctx=Store()),\n",
      "                        iter=Name(id='Int', ctx=Load()),\n",
      "                        ifs=[],\n",
      "                        is_async=0),\n",
      "                    comprehension(\n",
      "                        target=Name(id='y', ctx=Store()),\n",
      "                        iter=Name(id='Int', ctx=Load()),\n",
      "                        ifs=[\n",
      "                            BoolOp(\n",
      "                                op=And(),\n",
      "                                values=[\n",
      "                                    Compare(\n",
      "                                        left=Name(id='x', ctx=Load()),\n",
      "                                        ops=[\n",
      "                                            Gt()],\n",
      "                                        comparators=[\n",
      "                                            Constant(value=0)]),\n",
      "                                    Compare(\n",
      "                                        left=Name(id='y', ctx=Load()),\n",
      "                                        ops=[\n",
      "                                            Lt()],\n",
      "                                        comparators=[\n",
      "                                            Constant(value=0)])])],\n",
      "                        is_async=0)]))],\n",
      "    type_ignores=[])\n"
     ]
    }
   ],
   "source": [
    "import ast\n",
    "\n",
    "print(ast.dump(ast.parse(\"{x for x in Int for y in Int if x > 0 and y < 0}\"), indent=4))\n",
    "\n",
    "\n"
   ]
  },
  {
   "cell_type": "code",
   "execution_count": null,
   "id": "5b23f869",
   "metadata": {},
   "outputs": [
    {
     "ename": "ValueError",
     "evalue": "('Could not interpret expression', '{x for x in int if x > 0}', \"SetComp(elt=Name(id='x', ctx=Load()), generators=[comprehension(target=Name(id='x', ctx=Store()), iter=Name(id='int', ctx=Load()), ifs=[Compare(left=Name(id='x', ctx=Load()), ops=[Gt()], comparators=[Constant(value=0)])], is_async=0)])\")",
     "output_type": "error",
     "traceback": [
      "\u001b[31m---------------------------------------------------------------------------\u001b[39m",
      "\u001b[31mValueError\u001b[39m                                Traceback (most recent call last)",
      "\u001b[36mCell\u001b[39m\u001b[36m \u001b[39m\u001b[32mIn[2]\u001b[39m\u001b[32m, line 5\u001b[39m\n\u001b[32m      3\u001b[39m x = smt.Int(\u001b[33m\"\u001b[39m\u001b[33mx\u001b[39m\u001b[33m\"\u001b[39m)\n\u001b[32m      4\u001b[39m expr(\u001b[33m\"\u001b[39m\u001b[33mx + 1\u001b[39m\u001b[33m\"\u001b[39m)\n\u001b[32m----> \u001b[39m\u001b[32m5\u001b[39m \u001b[43mexpr\u001b[49m\u001b[43m(\u001b[49m\u001b[33;43m\"\u001b[39;49m\u001b[33;43m{\u001b[39;49m\u001b[33;43mx for x in int if x > 0}\u001b[39;49m\u001b[33;43m\"\u001b[39;49m\u001b[43m)\u001b[49m\n",
      "\u001b[36mFile \u001b[39m\u001b[32m~/Documents/python/knuckledragger/kdrag/reflect.py:554\u001b[39m, in \u001b[36mexpr\u001b[39m\u001b[34m(expr, globals, locals)\u001b[39m\n\u001b[32m    552\u001b[39m \u001b[38;5;28;01mif\u001b[39;00m \u001b[38;5;28mglobals\u001b[39m \u001b[38;5;129;01mis\u001b[39;00m \u001b[38;5;28;01mNone\u001b[39;00m:\n\u001b[32m    553\u001b[39m     \u001b[38;5;28mglobals\u001b[39m, _ = _calling_globals_locals()\n\u001b[32m--> \u001b[39m\u001b[32m554\u001b[39m \u001b[38;5;28;01mreturn\u001b[39;00m \u001b[43m_reflect_expr\u001b[49m\u001b[43m(\u001b[49m\n\u001b[32m    555\u001b[39m \u001b[43m    \u001b[49m\u001b[43mast\u001b[49m\u001b[43m.\u001b[49m\u001b[43mparse\u001b[49m\u001b[43m(\u001b[49m\u001b[43mexpr\u001b[49m\u001b[43m,\u001b[49m\u001b[43m \u001b[49m\u001b[43mmode\u001b[49m\u001b[43m=\u001b[49m\u001b[33;43m\"\u001b[39;49m\u001b[33;43meval\u001b[39;49m\u001b[33;43m\"\u001b[39;49m\u001b[43m)\u001b[49m\u001b[43m.\u001b[49m\u001b[43mbody\u001b[49m\u001b[43m,\u001b[49m\u001b[43m \u001b[49m\u001b[38;5;28;43mglobals\u001b[39;49m\u001b[43m=\u001b[49m\u001b[38;5;28;43mglobals\u001b[39;49m\u001b[43m,\u001b[49m\u001b[43m \u001b[49m\u001b[38;5;28;43mlocals\u001b[39;49m\u001b[43m=\u001b[49m\u001b[38;5;28;43mlocals\u001b[39;49m\n\u001b[32m    556\u001b[39m \u001b[43m\u001b[49m\u001b[43m)\u001b[49m\n",
      "\u001b[36mFile \u001b[39m\u001b[32m~/Documents/python/knuckledragger/kdrag/reflect.py:527\u001b[39m, in \u001b[36m_reflect_expr\u001b[39m\u001b[34m(expr, globals, locals)\u001b[39m\n\u001b[32m    522\u001b[39m         \u001b[38;5;28;01mcase\u001b[39;00m x:\n\u001b[32m    523\u001b[39m             \u001b[38;5;28;01mraise\u001b[39;00m \u001b[38;5;167;01mValueError\u001b[39;00m(\n\u001b[32m    524\u001b[39m                 \u001b[33m\"\u001b[39m\u001b[33mCould not interpret expression\u001b[39m\u001b[33m\"\u001b[39m, ast.unparse(x), ast.dump(x)\n\u001b[32m    525\u001b[39m             )\n\u001b[32m--> \u001b[39m\u001b[32m527\u001b[39m \u001b[38;5;28;01mreturn\u001b[39;00m \u001b[43mrec\u001b[49m\u001b[43m(\u001b[49m\u001b[43mexpr\u001b[49m\u001b[43m)\u001b[49m\n",
      "\u001b[36mFile \u001b[39m\u001b[32m~/Documents/python/knuckledragger/kdrag/reflect.py:523\u001b[39m, in \u001b[36m_reflect_expr.<locals>.rec\u001b[39m\u001b[34m(expr)\u001b[39m\n\u001b[32m    521\u001b[39m     \u001b[38;5;28;01mreturn\u001b[39;00m \u001b[38;5;28mgetattr\u001b[39m(rec(value), attr)\n\u001b[32m    522\u001b[39m \u001b[38;5;28;01mcase\u001b[39;00m x:\n\u001b[32m--> \u001b[39m\u001b[32m523\u001b[39m     \u001b[38;5;28;01mraise\u001b[39;00m \u001b[38;5;167;01mValueError\u001b[39;00m(\n\u001b[32m    524\u001b[39m         \u001b[33m\"\u001b[39m\u001b[33mCould not interpret expression\u001b[39m\u001b[33m\"\u001b[39m, ast.unparse(x), ast.dump(x)\n\u001b[32m    525\u001b[39m     )\n",
      "\u001b[31mValueError\u001b[39m: ('Could not interpret expression', '{x for x in int if x > 0}', \"SetComp(elt=Name(id='x', ctx=Load()), generators=[comprehension(target=Name(id='x', ctx=Store()), iter=Name(id='int', ctx=Load()), ifs=[Compare(left=Name(id='x', ctx=Load()), ops=[Gt()], comparators=[Constant(value=0)])], is_async=0)])\")"
     ]
    }
   ],
   "source": [
    "from kdrag.reflect import expr\n",
    "from kdrag.all import *\n",
    "x = smt.Int(\"x\")\n",
    "expr(\"x + 1\")\n",
    "expr(\"{x for x in int if x > 0}\")"
   ]
  },
  {
   "cell_type": "markdown",
   "id": "e3c74565",
   "metadata": {},
   "source": [
    "# unapply\n",
    "\n",
    "What about a table to register unapply patterns\n",
    "\n"
   ]
  },
  {
   "cell_type": "code",
   "execution_count": null,
   "id": "de889154",
   "metadata": {},
   "outputs": [],
   "source": [
    "unapply = {}\n",
    "\n",
    "def add_unapply(t):\n",
    "    \n",
    "#def add_unapply(pat, t): ?"
   ]
  },
  {
   "cell_type": "markdown",
   "id": "04e2907b",
   "metadata": {},
   "source": [
    "# recfunction translate\n",
    "\n",
    "Maybe I should just dump the definitions into the main ctx. Why not?\n",
    "Well, sometimes I want to hide them. I dunno.\n",
    "Be an interesting experiment."
   ]
  },
  {
   "cell_type": "code",
   "execution_count": null,
   "id": "f440a195",
   "metadata": {},
   "outputs": [],
   "source": [
    "smt.RecAddDefinition"
   ]
  },
  {
   "cell_type": "code",
   "execution_count": null,
   "id": "7934a641",
   "metadata": {},
   "outputs": [
    {
     "data": {
      "text/html": [
       "7"
      ],
      "text/plain": [
       "7"
      ]
     },
     "execution_count": 29,
     "metadata": {},
     "output_type": "execute_result"
    }
   ],
   "source": [
    "from kdrag.all import *\n",
    "def define_rec(name, args, body):\n",
    "    \"\"\"\n",
    "    Define a recursive function with the given name, arguments, and body.\n",
    "    \"\"\"\n",
    "    f_not_rec = kd.define(name, args, body)\n",
    "    f = smt.RecFunction(name, *[arg.sort() for arg in args], body.sort())\n",
    "    smt.RecAddDefinition(f, args, smt.substitute_funs(body, (f_not_rec, f(*[smt.Var(n, f.domain(n)) for n in range(f.arity())]))))\n",
    "    return f_not_rec #?\n",
    "n,m = smt.Ints(\"n m\")\n",
    "add = smt.RecFunction(\"add\", smt.IntSort(), smt.IntSort(), smt.IntSort())\n",
    "\n",
    "add1 = define_rec(\"add\", [n, m], smt.If(n <= 0, m, add(n - 1, m) + 1))\n",
    "\n",
    "smt.simplify(add(3,4))\n",
    "\n",
    "#smt.simplify(add1(3,4))\n"
   ]
  },
  {
   "cell_type": "code",
   "execution_count": null,
   "id": "23bddcba",
   "metadata": {},
   "outputs": [
    {
     "data": {
      "text/plain": [
       "<function z3.z3core.Z3_to_func_decl(a0, a1, _elems=<z3.z3core.Elementaries object at 0x7d4458071cd0>)>"
      ]
     },
     "execution_count": 2,
     "metadata": {},
     "output_type": "execute_result"
    }
   ],
   "source": [
    "import z3\n",
    "z3.z3core.Z3_to_func_decl"
   ]
  },
  {
   "cell_type": "code",
   "execution_count": null,
   "id": "b244db65",
   "metadata": {},
   "outputs": [
    {
     "name": "stdout",
     "output_type": "stream",
     "text": [
      "[(even, even(Var(0))), (odd, odd(Var(0))), (safe_pred, safe_pred(Var(0))), (from_int, from_int(Var(0))), (to_int, Var(0)), (double, double(Var(0))), (add, add(Var(1), Var(0)))]\n",
      "[Int]\n",
      "Int\n",
      "even\n",
      "[even]\n",
      "even [even] Exists(y, odd(even, 2*y))\n",
      "[Int]\n",
      "Int\n",
      "even\n",
      "[even]\n",
      "odd [even] Exists(y, odd(even, 2*y + 1))\n",
      "[n]\n",
      "n\n",
      "Select\n",
      "[Select]\n",
      "safe_pred [Select] If(is(Z, Select), x!1, pred(Select))\n",
      "[a]\n",
      "a\n",
      "a\n",
      "[a]\n",
      "from_int [a] If(a <= 0, x!1, S(from_int(a - 1)))\n",
      "[n]\n",
      "n\n",
      "n\n",
      "[n]\n",
      "to_int [n] If(is(Z, n), 0, 1 + (pred(n)))\n",
      "[n]\n",
      "n\n",
      "n\n",
      "[n]\n",
      "double [n] If(is(Z, n), x!1, S(S(double(pred(n)))))\n",
      "[x, y]\n",
      "x\n",
      "x\n",
      "y\n",
      "x\n",
      "[x, x]\n",
      "add [x, x] If(is(Z, x), x, S(add(x, pred(x))))\n"
     ]
    },
    {
     "ename": "Z3Exception",
     "evalue": "b'index out of bounds'",
     "output_type": "error",
     "traceback": [
      "\u001b[31m---------------------------------------------------------------------------\u001b[39m",
      "\u001b[31mZ3Exception\u001b[39m                               Traceback (most recent call last)",
      "\u001b[36mCell\u001b[39m\u001b[36m \u001b[39m\u001b[32mIn[19]\u001b[39m\u001b[32m, line 42\u001b[39m\n\u001b[32m     37\u001b[39m     \u001b[38;5;28mprint\u001b[39m(t)\n\u001b[32m     38\u001b[39m     \u001b[38;5;28;01mreturn\u001b[39;00m smt.simplify(smt.substitute_funs(t, *subst))\n\u001b[32m---> \u001b[39m\u001b[32m42\u001b[39m simp(\u001b[43mnat\u001b[49m\u001b[43m.\u001b[49m\u001b[43mdouble\u001b[49m\u001b[43m(\u001b[49m\u001b[43mnat\u001b[49m\u001b[43m.\u001b[49m\u001b[43mZ\u001b[49m\u001b[43m,\u001b[49m\u001b[43m \u001b[49m\u001b[43mnat\u001b[49m\u001b[43m.\u001b[49m\u001b[43mZ\u001b[49m\u001b[43m)\u001b[49m)\n",
      "\u001b[36mFile \u001b[39m\u001b[32m~/philzook58.github.io/.venv/lib/python3.12/site-packages/z3/z3.py:880\u001b[39m, in \u001b[36mFuncDeclRef.__call__\u001b[39m\u001b[34m(self, *args)\u001b[39m\n\u001b[32m    876\u001b[39m saved = []\n\u001b[32m    877\u001b[39m \u001b[38;5;28;01mfor\u001b[39;00m i \u001b[38;5;129;01min\u001b[39;00m \u001b[38;5;28mrange\u001b[39m(num):\n\u001b[32m    878\u001b[39m     \u001b[38;5;66;03m# self.domain(i).cast(args[i]) may create a new Z3 expression,\u001b[39;00m\n\u001b[32m    879\u001b[39m     \u001b[38;5;66;03m# then we must save in 'saved' to prevent it from being garbage collected.\u001b[39;00m\n\u001b[32m--> \u001b[39m\u001b[32m880\u001b[39m     tmp = \u001b[38;5;28;43mself\u001b[39;49m\u001b[43m.\u001b[49m\u001b[43mdomain\u001b[49m\u001b[43m(\u001b[49m\u001b[43mi\u001b[49m\u001b[43m)\u001b[49m.cast(args[i])\n\u001b[32m    881\u001b[39m     saved.append(tmp)\n\u001b[32m    882\u001b[39m     _args[i] = tmp.as_ast()\n",
      "\u001b[36mFile \u001b[39m\u001b[32m~/philzook58.github.io/.venv/lib/python3.12/site-packages/z3/z3.py:802\u001b[39m, in \u001b[36mFuncDeclRef.domain\u001b[39m\u001b[34m(self, i)\u001b[39m\n\u001b[32m    792\u001b[39m \u001b[38;5;28;01mdef\u001b[39;00m\u001b[38;5;250m \u001b[39m\u001b[34mdomain\u001b[39m(\u001b[38;5;28mself\u001b[39m, i):\n\u001b[32m    793\u001b[39m \u001b[38;5;250m    \u001b[39m\u001b[33;03m\"\"\"Return the sort of the argument `i` of a function declaration.\u001b[39;00m\n\u001b[32m    794\u001b[39m \u001b[33;03m    This method assumes that `0 <= i < self.arity()`.\u001b[39;00m\n\u001b[32m    795\u001b[39m \n\u001b[32m   (...)\u001b[39m\u001b[32m    800\u001b[39m \u001b[33;03m    Real\u001b[39;00m\n\u001b[32m    801\u001b[39m \u001b[33;03m    \"\"\"\u001b[39;00m\n\u001b[32m--> \u001b[39m\u001b[32m802\u001b[39m     \u001b[38;5;28;01mreturn\u001b[39;00m _to_sort_ref(\u001b[43mZ3_get_domain\u001b[49m\u001b[43m(\u001b[49m\u001b[38;5;28;43mself\u001b[39;49m\u001b[43m.\u001b[49m\u001b[43mctx_ref\u001b[49m\u001b[43m(\u001b[49m\u001b[43m)\u001b[49m\u001b[43m,\u001b[49m\u001b[43m \u001b[49m\u001b[38;5;28;43mself\u001b[39;49m\u001b[43m.\u001b[49m\u001b[43mast\u001b[49m\u001b[43m,\u001b[49m\u001b[43m \u001b[49m\u001b[43mi\u001b[49m\u001b[43m)\u001b[49m, \u001b[38;5;28mself\u001b[39m.ctx)\n",
      "\u001b[36mFile \u001b[39m\u001b[32m~/philzook58.github.io/.venv/lib/python3.12/site-packages/z3/z3core.py:3035\u001b[39m, in \u001b[36mZ3_get_domain\u001b[39m\u001b[34m(a0, a1, a2, _elems)\u001b[39m\n\u001b[32m   3033\u001b[39m \u001b[38;5;28;01mdef\u001b[39;00m\u001b[38;5;250m \u001b[39m\u001b[34mZ3_get_domain\u001b[39m(a0, a1, a2, _elems=Elementaries(_lib.Z3_get_domain)):\n\u001b[32m   3034\u001b[39m   r = _elems.f(a0, a1, a2)\n\u001b[32m-> \u001b[39m\u001b[32m3035\u001b[39m   \u001b[43m_elems\u001b[49m\u001b[43m.\u001b[49m\u001b[43mCheck\u001b[49m\u001b[43m(\u001b[49m\u001b[43ma0\u001b[49m\u001b[43m)\u001b[49m\n\u001b[32m   3036\u001b[39m   \u001b[38;5;28;01mreturn\u001b[39;00m r\n",
      "\u001b[36mFile \u001b[39m\u001b[32m~/philzook58.github.io/.venv/lib/python3.12/site-packages/z3/z3core.py:1579\u001b[39m, in \u001b[36mElementaries.Check\u001b[39m\u001b[34m(self, ctx)\u001b[39m\n\u001b[32m   1577\u001b[39m err = \u001b[38;5;28mself\u001b[39m.get_error_code(ctx)\n\u001b[32m   1578\u001b[39m \u001b[38;5;28;01mif\u001b[39;00m err != \u001b[38;5;28mself\u001b[39m.OK:\n\u001b[32m-> \u001b[39m\u001b[32m1579\u001b[39m     \u001b[38;5;28;01mraise\u001b[39;00m \u001b[38;5;28mself\u001b[39m.Exception(\u001b[38;5;28mself\u001b[39m.get_error_message(ctx, err))\n",
      "\u001b[31mZ3Exception\u001b[39m: b'index out of bounds'"
     ]
    }
   ],
   "source": [
    "from kdrag.all import *\n",
    "import kdrag.theories.nat as nat\n",
    "\n",
    "ctx = smt.Context()\n",
    "z3.ZE_DEBUG = False\n",
    "\n",
    "subst = []\n",
    "for f, defn in kd.kernel.defns.items():\n",
    "    #print(f)\n",
    "    f = f.translate(ctx)\n",
    "    f.ast = z3.z3core.Z3_to_func_decl(f.ctx.ref(), f.ast) #f.ast.translate(ctx)\n",
    "    args = [arg.translate(ctx) for arg in defn.args]\n",
    "    body = defn.body.translate(ctx)\n",
    "    frec = smt.RecFunction(f.name(), *[f.domain(i) for i in range(f.arity())] ,f.range())\n",
    "    #print(type(f), type(body))\n",
    "    subst.append((f, frec(*[smt.Var(f.arity() - n - 1, f.domain(n)) for n in range(f.arity())])))\n",
    "    subst[0][0].as_func_decl()\n",
    "    smt.substitute_funs(body, *subst)\n",
    "print(subst)\n",
    "for f, defn in kd.kernel.defns.items():\n",
    "    #print(f)\n",
    "    f = f.translate(ctx)\n",
    "    print(defn.args)\n",
    "    for arg in defn.args:\n",
    "        print(arg)\n",
    "        print(arg.translate(ctx))\n",
    "    args = [arg.translate(ctx) for arg in defn.args]\n",
    "    print(args)\n",
    "    body = defn.body.translate(ctx)\n",
    "    frec = smt.RecFunction(f.name(), *[f.domain(i) for i in range(f.arity())] ,f.range())\n",
    "    print(frec, args, smt.substitute_funs(body, *subst))\n",
    "    smt.RecAddDefinition(frec, args, smt.substitute_funs(body, *subst))\n",
    "\n",
    "\n",
    "def simp(t):\n",
    "    t = t.translate(ctx)\n",
    "    print(t)\n",
    "    return smt.simplify(smt.substitute_funs(t, *subst))\n",
    "\n",
    "\n",
    "\n",
    "simp(nat.double(nat.Z, nat.Z))\n",
    "\n",
    "\n",
    "\n",
    "\n",
    "\n"
   ]
  },
  {
   "cell_type": "markdown",
   "id": "9de0de2f",
   "metadata": {},
   "source": [
    "# Extract Langs\n",
    "C boehm GC\n",
    "Rust via maturin + RC\n",
    "Separate z3 context + recfunction\n",
    "Java py4j https://www.py4j.org/\n",
    "\n",
    "\n",
    "\n",
    "Maybe the rust version could lay some claim to\n",
    "Both fast and correct version of code.\n",
    "Output Kani conditions.\n",
    "\n",
    "\n",
    "https://docs.rs/numpy/latest/numpy/\n",
    "\n",
    "copilot inspired.\n",
    "State loop?\n",
    "\n",
    "\n",
    "\n",
    "\n",
    "\n"
   ]
  },
  {
   "cell_type": "markdown",
   "id": "477de7ae",
   "metadata": {},
   "source": [
    "## rust\n",
    "\n",
    "What about kdrag-rs? Just do it all in rust. Learning rust details could be fun\n",
    "\n",
    "\n",
    "Could macro the shit out of it I suppose?\n",
    "\n"
   ]
  },
  {
   "cell_type": "code",
   "execution_count": null,
   "id": "37b6e436",
   "metadata": {},
   "outputs": [
    {
     "name": "stdout",
     "output_type": "stream",
     "text": [
      "Overwriting /tmp/test.rs\n"
     ]
    }
   ],
   "source": [
    "%%file /tmp/test.rs\n",
    "---cargo\n",
    "[dependencies]\n",
    "z3 = \"0.12.1\"\n",
    "lazy_static = \"1.5.0\"\n",
    "---\n",
    "\n",
    "use z3::ast::Ast;\n",
    "/*\n",
    "\n",
    "use std::sync::LazyLock;\n",
    "\n",
    "lazy_static::lazy_static! {\n",
    "    static ref Z3_CTX: z3::Context = z3::Context::new(&z3::Config::new());\n",
    "}\n",
    "\n",
    "static Z3_CTX: LazyLock<z3::Context> = LazyLock::new(|| {\n",
    "    z3::Context::new(&z3::Config::new())\n",
    " });\n",
    "\n",
    "\n",
    "fn pmatch<'ctx>(ctx : &'ctx z3::Context, vs : , fm : &'ctx z3::ast::Dynamic<'ctx>, pat : &'ctx z3::ast::Dynamic<'ctx>) -> Vec<> {\n",
    "    let mut todo = vec![(fm, pat)];\n",
    "    while todo{\n",
    "\n",
    "    }\n",
    "}\n",
    "*/\n",
    "\n",
    "#[derive(Debug)]\n",
    "struct Proof<'ctx> {\n",
    "    fm : &'ctx z3::ast::Bool<'ctx>,\n",
    "}\n",
    "fn prove<'ctx>(ctx : &'ctx z3::Context, fm : &'ctx z3::ast::Bool) -> Proof<'ctx> {\n",
    "    let solver = z3::Solver::new(ctx);\n",
    "    solver.assert(&fm.not());\n",
    "    if solver.check() == z3::SatResult::Unsat {\n",
    "        Proof { fm }\n",
    "    } else {\n",
    "        panic!(\"Unsatisfiable\");\n",
    "    }\n",
    "}\n",
    "\n",
    "\n",
    "fn main(){\n",
    "    let ctx = z3::Context::new(&z3::Config::new());\n",
    "    let solver = z3::Solver::new(&ctx);\n",
    "    let x = z3::ast::Int::new_const(&ctx, \"x\");\n",
    "    let y = z3::ast::Int::new_const(&ctx, \"y\");\n",
    "    let z = z3::ast::Int::new_const(&ctx, \"z\");\n",
    "\n",
    "    let _true = z3::ast::Bool::from_bool(&ctx, true);\n",
    "    let p = prove(&ctx, &_true);\n",
    "    println!(\"Proof: {:?}\", p.fm);\n",
    "\n",
    "    let _T = z3::Sort::uninterpreted(&ctx, z3::Symbol::from(\"T\"));\n",
    "\n",
    "\n",
    "    solver.assert(&x._eq(&y));\n",
    "    solver.assert(&x._eq(&(y + z)));\n",
    "\n",
    "    if solver.check() == z3::SatResult::Sat {\n",
    "        println!(\"Satisfiable\");\n",
    "        println!(\"Model: {:?}\", solver.get_model());\n",
    "    } else {\n",
    "        println!(\"Unsatisfiable\");\n",
    "    }\n",
    "\n",
    "}"
   ]
  },
  {
   "cell_type": "code",
   "execution_count": null,
   "id": "92b98e93",
   "metadata": {},
   "outputs": [
    {
     "name": "stdout",
     "output_type": "stream",
     "text": [
      "\u001b[1m\u001b[33mwarning\u001b[0m\u001b[1m:\u001b[0m `package.edition` is unspecified, defaulting to `2024`\n",
      "\u001b[1m\u001b[32m   Compiling\u001b[0m test- v0.0.0 (/tmp/test.rs)\n",
      "\u001b[K\u001b[0m\u001b[1m\u001b[33mwarning\u001b[0m\u001b[0m\u001b[1m: variable `_T` should have a snake case name\u001b[0m       \n",
      "\u001b[0m  \u001b[0m\u001b[0m\u001b[1m\u001b[38;5;12m--> \u001b[0m\u001b[0mtest.rs:47:9\u001b[0m\n",
      "\u001b[0m   \u001b[0m\u001b[0m\u001b[1m\u001b[38;5;12m|\u001b[0m\n",
      "\u001b[0m\u001b[1m\u001b[38;5;12m47\u001b[0m\u001b[0m \u001b[0m\u001b[0m\u001b[1m\u001b[38;5;12m|\u001b[0m\u001b[0m \u001b[0m\u001b[0m    let _T = z3::Sort::uninterpreted(&ctx, z3::Symbol::from(\"T\"));\u001b[0m\n",
      "\u001b[0m   \u001b[0m\u001b[0m\u001b[1m\u001b[38;5;12m|\u001b[0m\u001b[0m         \u001b[0m\u001b[0m\u001b[1m\u001b[33m^^\u001b[0m\u001b[0m \u001b[0m\u001b[0m\u001b[1m\u001b[33mhelp: convert the identifier to snake case: `_t`\u001b[0m\n",
      "\u001b[0m   \u001b[0m\u001b[0m\u001b[1m\u001b[38;5;12m|\u001b[0m\n",
      "\u001b[0m   \u001b[0m\u001b[0m\u001b[1m\u001b[38;5;12m= \u001b[0m\u001b[0m\u001b[1mnote\u001b[0m\u001b[0m: `#[warn(non_snake_case)]` on by default\u001b[0m\n",
      "\n",
      "\u001b[K\u001b[1m\u001b[33mwarning\u001b[0m\u001b[1m:\u001b[0m `test-` (bin \"test-\") generated 1 warning                 \n",
      "\u001b[1m\u001b[32m    Finished\u001b[0m `dev` profile [unoptimized + debuginfo] target(s) in 0.10s\n",
      "\u001b[1m\u001b[32m     Running\u001b[0m `/home/philip/.cargo/target/e8/a8b1c02d8deab1/debug/test-`\n",
      "Proof: true\n",
      "Satisfiable\n",
      "Model: Some(z -> 0\n",
      "x -> 0\n",
      "y -> 0\n",
      ")\n"
     ]
    }
   ],
   "source": [
    "! cargo +nightly -Zscript /tmp/test.rs"
   ]
  },
  {
   "cell_type": "code",
   "execution_count": null,
   "id": "4e615406",
   "metadata": {},
   "outputs": [
    {
     "ename": "ModuleNotFoundError",
     "evalue": "No module named 'maturin'",
     "output_type": "error",
     "traceback": [
      "\u001b[31m---------------------------------------------------------------------------\u001b[39m",
      "\u001b[31mModuleNotFoundError\u001b[39m                       Traceback (most recent call last)",
      "\u001b[36mCell\u001b[39m\u001b[36m \u001b[39m\u001b[32mIn[30]\u001b[39m\u001b[32m, line 1\u001b[39m\n\u001b[32m----> \u001b[39m\u001b[32m1\u001b[39m \u001b[38;5;28;01mimport\u001b[39;00m\u001b[38;5;250m \u001b[39m\u001b[34;01mmaturin\u001b[39;00m\n",
      "\u001b[31mModuleNotFoundError\u001b[39m: No module named 'maturin'"
     ]
    }
   ],
   "source": [
    "import maturin"
   ]
  },
  {
   "cell_type": "code",
   "execution_count": null,
   "id": "5af8dff9",
   "metadata": {},
   "outputs": [
    {
     "name": "stdout",
     "output_type": "stream",
     "text": [
      "use pyo3::prelude::*;\n",
      "use pyo3::wrap_pyfunction;\n",
      "\n",
      "#[derive(FromPyObject, IntoPyObject)]\n",
      "struct MyType { field1: i32, field2: String }\n",
      "\n",
      "#[pyfunction]\n",
      "fn add(n: i32, m: i32) -> i32 {n + m}\n",
      "}\n",
      "\n",
      "#[pymodule]\n",
      "fn kdrag_smt(m: &Bound<'_, PyModule>) -> PyResult<()> {\n",
      "    m.add_function(wrap_pyfunction!(add, m)?)?;\n",
      "    Ok(())\n",
      "}\n",
      "\n"
     ]
    }
   ],
   "source": [
    "class RustModule():\n",
    "    def __init__(self, modname):\n",
    "        self.modname = modname\n",
    "        self.funcs = {}\n",
    "        self.types = []\n",
    "\n",
    "    def add_type(self, type_code):\n",
    "        self.types.append(type_code)\n",
    "    \n",
    "    def add_function(self, fun_name, fun_code):\n",
    "        \"\"\"\n",
    "        Add a function to the module with the given name and code.\n",
    "        \"\"\"\n",
    "        if fun_name in self.funcs:\n",
    "            raise ValueError(f\"Function {fun_name} already exists in module {self.modname}.\")\n",
    "        self.funcs[fun_name] = fun_code\n",
    "\n",
    "\n",
    "    def __str__(self):\n",
    "            types = \"\\n\".join(\"#[derive(FromPyObject, IntoPyObject)]\\n\" + type_code for type_code in self.types)\n",
    "            fun_code = \"\\n\".join(f\"#[pyfunction]\\n{fun_code}\" for fun_code in self.funcs.values())\n",
    "            add_funs = \"\\n\".join(f\"m.add_function(wrap_pyfunction!({fun_name}, m)?)?;\" for fun_name in self.funcs.keys())\n",
    "            return f\"\"\"\\\n",
    "use pyo3::prelude::*;\n",
    "use pyo3::wrap_pyfunction;\n",
    "use pyo3_ffi::c_str;\n",
    "\n",
    "{types}\n",
    "\n",
    "{fun_code}\n",
    "\n",
    "#[pymodule]\n",
    "fn {self.modname}(m: &Bound<'_, PyModule>) -> PyResult<()> {{\n",
    "    {add_funs}\n",
    "    Ok(())\n",
    "}}\n",
    "\"\"\"\n",
    "\n",
    "M = RustModule(\"kdrag_smt\")\n",
    "M.add_function(\"add\", \"fn add(n: i32, m: i32) -> i32 {n + m}\\n}\")\n",
    "M.add_type(\"struct MyType { field1: i32, field2: String }\")\n",
    "print(str(M))"
   ]
  },
  {
   "cell_type": "markdown",
   "id": "213dd113",
   "metadata": {},
   "source": [
    "## wasm\n",
    "\n",
    "Extract to wasm, run it./\n",
    "\n",
    "Hmm. wasmtime has gc... That sweetens the pie a lot.\n",
    "\n",
    "https://developer.mozilla.org/en-US/docs/WebAssembly\n",
    "https://developer.mozilla.org/en-US/docs/WebAssembly/Guides/Understanding_the_text_format\n",
    "\n",
    "https://github.com/WebAssembly/gc/blob/main/proposals/gc/Overview.md\n",
    "https://github.com/bytecodealliance/wasmtime-py\n",
    "\n",
    "https://tanishiking.github.io/posts/wasm-gc/\n",
    "\n",
    "Codegen an ematcher. We used to talk about this. Or codegenning actions.\n",
    "\n",
    "Hmm. But maybe one can hold external references to the host... so maybe structured objects could be dealt with that way. Using python.\n",
    "\n",
    "Or pretty print, process call wasmtime cli. Read output. Could be worse. Gets me ready for the day wasm_gc is avaiable in the bindings.\n",
    "wasmer?\n",
    "\n"
   ]
  },
  {
   "cell_type": "code",
   "execution_count": null,
   "id": "fbcdfffb",
   "metadata": {},
   "outputs": [
    {
     "name": "stdout",
     "output_type": "stream",
     "text": [
      "Hello from Python!\n"
     ]
    }
   ],
   "source": [
    "from wasmtime import Store, Module, Instance, Func, FuncType\n",
    "\n",
    "store = Store()\n",
    "module = Module(store.engine, \"\"\"\n",
    "  (module\n",
    "    (func $hello (import \"\" \"hello\"))\n",
    "    (func (export \"run\") (call $hello))\n",
    "  )\n",
    "\"\"\")\n",
    "\n",
    "def say_hello():\n",
    "    print(\"Hello from Python!\")\n",
    "hello = Func(store, FuncType([], []), say_hello)\n",
    "\n",
    "instance = Instance(store, module, [hello])\n",
    "run = instance.exports(store)[\"run\"]\n",
    "run(store)"
   ]
  },
  {
   "cell_type": "code",
   "execution_count": null,
   "id": "12896b3b",
   "metadata": {},
   "outputs": [
    {
     "data": {
      "text/plain": [
       "3"
      ]
     },
     "execution_count": 47,
     "metadata": {},
     "output_type": "execute_result"
    }
   ],
   "source": [
    "from wasmtime import Store, Module, Instance\n",
    "\n",
    "store = Store()\n",
    "module = Module(store.engine, \"\"\"\n",
    "  (module\n",
    "    (func $myadd (export \"myadd\") (param i32 i32) (result i32)\n",
    "    (local.get 0)\n",
    "    (local.get 1)\n",
    "    (i32.add)\n",
    "  )\n",
    "  )\n",
    "\"\"\")\n",
    "instance = Instance(store, module, [])\n",
    "myadd = instance.exports(store)[\"myadd\"]\n",
    "myadd(store,1,2)"
   ]
  },
  {
   "cell_type": "code",
   "execution_count": null,
   "id": "8ab3ac73",
   "metadata": {},
   "outputs": [
    {
     "name": "stdout",
     "output_type": "stream",
     "text": [
      "Writing /tmp/test.wat\n"
     ]
    }
   ],
   "source": [
    "%%file /tmp/test.wat\n",
    "\n",
    "  (module\n",
    "    (type $point (struct (field $x i64) (field $y i64)))\n",
    "    (func $myadd (export \"myadd\") (param i32 i32) (result i32)\n",
    "    (local.get 0)\n",
    "    (local.get 1)\n",
    "    (i32.add)\n",
    "  )\n",
    "  )\n",
    "  "
   ]
  },
  {
   "cell_type": "code",
   "execution_count": null,
   "id": "79111473",
   "metadata": {},
   "outputs": [
    {
     "name": "stdout",
     "output_type": "stream",
     "text": [
      "/bin/bash: line 1: wasmtime: command not found\n"
     ]
    }
   ],
   "source": [
    "! wasmtime compile --wasm gc /tmp/test.wat -o /tmp/test.wasm"
   ]
  },
  {
   "cell_type": "code",
   "execution_count": null,
   "id": "58b41bd9",
   "metadata": {},
   "outputs": [
    {
     "ename": "WasmtimeError",
     "evalue": "failed deserialization for: /tmp/test.wasm\n\nCaused by:\n    Module was compiled with support for WebAssembly feature `gc` but it is not enabled for the host",
     "output_type": "error",
     "traceback": [
      "\u001b[31m---------------------------------------------------------------------------\u001b[39m",
      "\u001b[31mWasmtimeError\u001b[39m                             Traceback (most recent call last)",
      "\u001b[36mCell\u001b[39m\u001b[36m \u001b[39m\u001b[32mIn[6]\u001b[39m\u001b[32m, line 6\u001b[39m\n\u001b[32m      4\u001b[39m engine = Engine(config)\n\u001b[32m      5\u001b[39m store = Store(engine)\n\u001b[32m----> \u001b[39m\u001b[32m6\u001b[39m module = \u001b[43mModule\u001b[49m\u001b[43m.\u001b[49m\u001b[43mdeserialize_file\u001b[49m\u001b[43m(\u001b[49m\u001b[43mstore\u001b[49m\u001b[43m.\u001b[49m\u001b[43mengine\u001b[49m\u001b[43m,\u001b[49m\u001b[43m \u001b[49m\u001b[33;43m\"\u001b[39;49m\u001b[33;43m/tmp/test.wasm\u001b[39;49m\u001b[33;43m\"\u001b[39;49m\u001b[43m)\u001b[49m\n",
      "\u001b[36mFile \u001b[39m\u001b[32m~/philzook58.github.io/.venv/lib/python3.12/site-packages/wasmtime/_module.py:104\u001b[39m, in \u001b[36mModule.deserialize_file\u001b[39m\u001b[34m(cls, engine, path)\u001b[39m\n\u001b[32m     99\u001b[39m error = ffi.wasmtime_module_deserialize_file(\n\u001b[32m    100\u001b[39m     engine.ptr(),\n\u001b[32m    101\u001b[39m     path_bytes,\n\u001b[32m    102\u001b[39m     byref(ptr))\n\u001b[32m    103\u001b[39m \u001b[38;5;28;01mif\u001b[39;00m error:\n\u001b[32m--> \u001b[39m\u001b[32m104\u001b[39m     \u001b[38;5;28;01mraise\u001b[39;00m WasmtimeError._from_ptr(error)\n\u001b[32m    105\u001b[39m ret: \u001b[33m\"\u001b[39m\u001b[33mModule\u001b[39m\u001b[33m\"\u001b[39m = \u001b[38;5;28mcls\u001b[39m.\u001b[34m__new__\u001b[39m(\u001b[38;5;28mcls\u001b[39m)\n\u001b[32m    106\u001b[39m ret._set_ptr(ptr)\n",
      "\u001b[31mWasmtimeError\u001b[39m: failed deserialization for: /tmp/test.wasm\n\nCaused by:\n    Module was compiled with support for WebAssembly feature `gc` but it is not enabled for the host"
     ]
    }
   ],
   "source": [
    "from wasmtime import Store, Module, Instance, Config, Engine\n",
    "config = Config()\n",
    "config.wasm_gc = True\n",
    "engine = Engine(config)\n",
    "store = Store(engine)\n",
    "module = Module.deserialize_file(store.engine, \"/tmp/test.wasm\")"
   ]
  },
  {
   "cell_type": "code",
   "execution_count": null,
   "id": "95c83d68",
   "metadata": {},
   "outputs": [
    {
     "ename": "WasmtimeError",
     "evalue": "failed to parse WebAssembly module\n\nCaused by:\n    struct indexed types not supported without the gc feature (at offset 0xb)",
     "output_type": "error",
     "traceback": [
      "\u001b[31m---------------------------------------------------------------------------\u001b[39m",
      "\u001b[31mWasmtimeError\u001b[39m                             Traceback (most recent call last)",
      "\u001b[36mCell\u001b[39m\u001b[36m \u001b[39m\u001b[32mIn[3]\u001b[39m\u001b[32m, line 6\u001b[39m\n\u001b[32m      4\u001b[39m engine = Engine(config)\n\u001b[32m      5\u001b[39m store = Store(engine)\n\u001b[32m----> \u001b[39m\u001b[32m6\u001b[39m module = \u001b[43mModule\u001b[49m\u001b[43m(\u001b[49m\u001b[43mstore\u001b[49m\u001b[43m.\u001b[49m\u001b[43mengine\u001b[49m\u001b[43m,\u001b[49m\u001b[43m \u001b[49m\u001b[33;43m\"\"\"\u001b[39;49m\n\u001b[32m      7\u001b[39m \u001b[33;43m  (module\u001b[39;49m\n\u001b[32m      8\u001b[39m \u001b[33;43m    (type $point (struct (field $x i64) (field $y i64)))\u001b[39;49m\n\u001b[32m      9\u001b[39m \u001b[33;43m    (func $myadd (export \u001b[39;49m\u001b[33;43m\"\u001b[39;49m\u001b[33;43mmyadd\u001b[39;49m\u001b[33;43m\"\u001b[39;49m\u001b[33;43m) (param i32 i32) (result i32)\u001b[39;49m\n\u001b[32m     10\u001b[39m \u001b[33;43m    (local.get 0)\u001b[39;49m\n\u001b[32m     11\u001b[39m \u001b[33;43m    (local.get 1)\u001b[39;49m\n\u001b[32m     12\u001b[39m \u001b[33;43m    (i32.add)\u001b[39;49m\n\u001b[32m     13\u001b[39m \u001b[33;43m  )\u001b[39;49m\n\u001b[32m     14\u001b[39m \u001b[33;43m  )\u001b[39;49m\n\u001b[32m     15\u001b[39m \u001b[33;43m\"\"\"\u001b[39;49m\u001b[43m)\u001b[49m\n\u001b[32m     16\u001b[39m instance = Instance(store, module, [])\n\u001b[32m     17\u001b[39m myadd = instance.exports(store)[\u001b[33m\"\u001b[39m\u001b[33mmyadd\u001b[39m\u001b[33m\"\u001b[39m]\n",
      "\u001b[36mFile \u001b[39m\u001b[32m~/philzook58.github.io/.venv/lib/python3.12/site-packages/wasmtime/_module.py:45\u001b[39m, in \u001b[36mModule.__init__\u001b[39m\u001b[34m(self, engine, wasm)\u001b[39m\n\u001b[32m     43\u001b[39m error = ffi.wasmtime_module_new(engine.ptr(), binary, \u001b[38;5;28mlen\u001b[39m(wasm), byref(ptr))\n\u001b[32m     44\u001b[39m \u001b[38;5;28;01mif\u001b[39;00m error:\n\u001b[32m---> \u001b[39m\u001b[32m45\u001b[39m     \u001b[38;5;28;01mraise\u001b[39;00m WasmtimeError._from_ptr(error)\n\u001b[32m     46\u001b[39m \u001b[38;5;28mself\u001b[39m._set_ptr(ptr)\n",
      "\u001b[31mWasmtimeError\u001b[39m: failed to parse WebAssembly module\n\nCaused by:\n    struct indexed types not supported without the gc feature (at offset 0xb)"
     ]
    }
   ],
   "source": [
    "from wasmtime import Store, Module, Instance, Config, Engine\n",
    "config = Config()\n",
    "config.wasm_gc = True\n",
    "engine = Engine(config)\n",
    "store = Store(engine)\n",
    "module = Module(store.engine, \"\"\"\n",
    "  (module\n",
    "    (type $point (struct (field $x i64) (field $y i64)))\n",
    "    (func $myadd (export \"myadd\") (param i32 i32) (result i32)\n",
    "    (local.get 0)\n",
    "    (local.get 1)\n",
    "    (i32.add)\n",
    "  )\n",
    "  )\n",
    "\"\"\")\n",
    "instance = Instance(store, module, [])\n",
    "myadd = instance.exports(store)[\"myadd\"]\n",
    "myadd(store,1,2)"
   ]
  },
  {
   "cell_type": "code",
   "execution_count": null,
   "id": "9f965079",
   "metadata": {},
   "outputs": [],
   "source": [
    "def struct_of_dt(d : DatatypeSortRef):\n",
    "    for c in d:\n",
    "        field = \" \".join(f\"(field ${f.name()} {f.sort()}\" for f in c.fields())\n",
    "        cons = f\"(struct ${d}.{c.name()} \"\n",
    "    return f\"\"\"\n",
    "    (rec\n",
    "        \n",
    "    )\n",
    "    \"\"\"\n",
    "\n",
    "\n"
   ]
  },
  {
   "cell_type": "code",
   "execution_count": null,
   "id": "3e1a5fc6",
   "metadata": {},
   "outputs": [],
   "source": [
    "def to_wasm_type(sort : smt.SortRef):\n",
    "    if sort == smt.BitVec(32):\n",
    "        return \"i32\"\n",
    "    elif sort == smt.BitVec(64):\n",
    "        return \"i64\"\n",
    "\n",
    "def wasm_of_expr(e : smt.ExprRef):\n",
    "    # recurse through\n",
    "    if \n",
    "\n",
    "    decl = e.decl()\n",
    "    if e.is_add()\n",
    "    \n",
    "\n",
    "\n",
    "\n",
    "def to_wasm(name, args, body : smt.ExprRef):\n",
    "    \"\"\"\n",
    "    Convert a SMT expression to a WebAssembly function.\n",
    "    \"\"\"\n",
    "    return f\"\"\"\n",
    "(module\n",
    "  (func ${name} (export {name}) {params} (result {to_wasm_type(body.sort())})\n",
    "    \n",
    "  )\n",
    "\n",
    "    \"\"\""
   ]
  },
  {
   "cell_type": "markdown",
   "id": "d34ca578",
   "metadata": {},
   "source": [
    "## C bump alloc\n",
    "https://nullprogram.com/blog/2023/09/27/  Arena allocator tips and tricks\n",
    "https://www.gnu.org/software/libc/manual/html_node/Obstacks.html obstacks?\n",
    "\n",
    "Interesintg example. I want this thing. How can I make it as bomb proof as possible.\n",
    "There are some discussions that make a type generic allocator is funky in waysy ou might noit expect.\n",
    "\n",
    "1. compile with fanalyzer and Wall Wextra\n",
    "2. ask chatgpt to critique\n",
    "3. Tests\n",
    "4. Sanitizers\n",
    "5. CBMC? undefinedness interpreters \n",
    "6. Frama-C? VST?\n",
    "7. Look at the assembly. is it meaningful?\n",
    "\n",
    "Some suggestions of using mmap and guard pages. But will this be annoying to make cross OS\n",
    "\n",
    "Some other things suggested: reset or checkpoint arenas"
   ]
  },
  {
   "cell_type": "code",
   "execution_count": null,
   "id": "088275fc",
   "metadata": {},
   "outputs": [
    {
     "name": "stdout",
     "output_type": "stream",
     "text": [
      "Overwriting /tmp/arena.c\n"
     ]
    }
   ],
   "source": [
    "%%file /tmp/arena.c\n",
    "#include <stddef.h>\n",
    "#include <stdlib.h>\n",
    "#include <stdio.h>\n",
    "\n",
    "typedef struct {\n",
    "    void *data;\n",
    "    size_t size;\n",
    "    size_t capacity;\n",
    "} arena_t;\n",
    "\n",
    "void *arena_alloc(arena_t *arena, size_t size) {\n",
    "    while (arena->size + size > arena->capacity) {\n",
    "        arena->capacity = (arena->capacity == 0) ? size : arena->capacity * 2;\n",
    "        arena->data = realloc(arena->data, arena->capacity);\n",
    "    }\n",
    "    void *ptr = (char *)arena->data + arena->size;\n",
    "    arena->size += size;\n",
    "    return ptr;\n",
    "}\n",
    "\n",
    "// arena_init instead?\n",
    "int arena_init(arena_t *arena) {\n",
    "    arena->data = malloc(256);\n",
    "    if (!arena->data) {\n",
    "        return -1;\n",
    "    }\n",
    "    arena->size = 0;\n",
    "    arena->capacity = 256;\n",
    "    return 0;\n",
    "}\n",
    "/*\n",
    "arena_t *arena_create() {\n",
    "    arena_t *arena = malloc(sizeof(arena_t));\n",
    "    if (!arena) {\n",
    "        return NULL; // Allocation failed\n",
    "    }\n",
    "    arena->data = malloc(256); // Initial capacity\n",
    "    arena->size = 0;\n",
    "    arena->capacity = 256;\n",
    "    return arena;\n",
    "}\n",
    "*/\n",
    "\n",
    "void *arena_deref(arena_t *arena, size_t offset) {\n",
    "    return (char *)arena->data + offset;\n",
    "}\n",
    "\n",
    "void arena_destroy(arena_t *arena) {\n",
    "    if (!arena) return;\n",
    "    if (arena->data) {\n",
    "        free(arena->data);\n",
    "    }\n",
    "}\n",
    "\n",
    "\n",
    "int main(){\n",
    "    arena_t arena;\n",
    "    if (arena_init(&arena) != 0) {\n",
    "        fprintf(stderr, \"Failed to initialize arena\\n\");\n",
    "        return 1;\n",
    "    }\n",
    "    int *x = arena_alloc(&arena, sizeof(int));\n",
    "    *x = 42;\n",
    "    printf(\"Allocated int: %d\\n\", *x);\n",
    "    arena_destroy(&arena);\n",
    "    return 0;\n",
    "}\n",
    "\n",
    "\n"
   ]
  },
  {
   "cell_type": "code",
   "execution_count": null,
   "id": "82a564f5",
   "metadata": {},
   "outputs": [
    {
     "name": "stdout",
     "output_type": "stream",
     "text": [
      "Allocated int: 42\n"
     ]
    }
   ],
   "source": [
    "! gcc /tmp/arena.c -O2 -Wall -Wextra -fanalyzer -o /tmp/arena && /tmp/arena "
   ]
  },
  {
   "cell_type": "code",
   "execution_count": null,
   "id": "18fd1e05",
   "metadata": {},
   "outputs": [],
   "source": [
    "\n",
    "\"\"\"\n",
    "typedef struct Arena\n",
    "\n",
    "\n",
    "\"\"\""
   ]
  },
  {
   "cell_type": "markdown",
   "id": "1ac897f5",
   "metadata": {},
   "source": [
    "# combinators\n",
    "\n",
    "A full set of combinators\n",
    "\n",
    "Proof terms that I translate?\n",
    "\n",
    "lambda([P], P)\n",
    "\n",
    "\n",
    "APL is master of the ocmbiunators. An APL knuckledragger would use a heavy combinator style.\n",
    "Knuckledragger numpy?\n",
    "vectorized proofs\n",
    "\n",
    "https://en.wikipedia.org/wiki/Combinatory_logic\n",
    "https://combinatorylogic.com/index.html\n",
    "\n",
    "\n",
    "forall xs, smt.And() => smt.Or()   normal form\n",
    "forall xs, smt.And() => conc   normal form\n",
    "\n",
    "@ * + ~ << >> combinators for Proofs? Hook and etc.\n",
    "Kind of a fun idea. ssreflect?\n",
    "\n",
    "\n",
    "\n",
    "Harrison book has some\n",
    "\n",
    "pluck And(xs) => P  ====>   x[n] => And(xs - x[n]) => P\n",
    "insert   x => And(xs) => P  ====> And(xs + x + xs) => P\n",
    "sort And(xs) => P ====> And(sorted(xs)) => P\n",
    "\n",
    "\n",
    "\n",
    "\n"
   ]
  },
  {
   "cell_type": "code",
   "execution_count": null,
   "id": "16af702a",
   "metadata": {},
   "outputs": [],
   "source": [
    "\n",
    "\n",
    "def cut(a, b):"
   ]
  },
  {
   "cell_type": "code",
   "execution_count": null,
   "id": "0b766740",
   "metadata": {},
   "outputs": [
    {
     "data": {
      "text/html": [
       "&#8870;Implies(And(And(a, b), c), a)"
      ],
      "text/plain": [
       "|- Implies(And(And(a, b), c), a)"
      ]
     },
     "execution_count": 42,
     "metadata": {},
     "output_type": "execute_result"
    }
   ],
   "source": [
    "def curry(pf : kd.Proof) -> kd.Proof:\n",
    "    assert isinstance(pf, kd.Proof)\n",
    "    assert smt.is_implies(pf.thm)\n",
    "    hyp, conc = pf.thm.children()\n",
    "    assert smt.is_and(hyp)\n",
    "    args = hyp.children()\n",
    "    return kd.axiom(smt.Implies(smt.And(args[:-1]), smt.Implies(args[-1], conc)), by=[\"curry\", pf])\n",
    "a,b,c = smt.Bools(\"a b c\")\n",
    "curry(kd.prove(smt.Implies(smt.And(a, b, c), a)))\n",
    "\n",
    "# curryn ?\n",
    "\n",
    "def uncurry(pf : kd.Proof) -> kd.Proof:\n",
    "    assert isinstance(pf, kd.Proof)\n",
    "    assert smt.is_implies(pf.thm)\n",
    "    hyp, conc = pf.thm.children()\n",
    "    assert smt.is_implies(conc)\n",
    "    hyp1, conc = conc.children() \n",
    "    return kd.axiom(smt.Implies(smt.And(hyp, hyp1), conc), by=[\"uncurry\", pf])\n",
    "uncurry(curry(kd.prove(smt.Implies(smt.And(a, b, c), a))))\n",
    "\n",
    "# modus is apply\n",
    "\n",
    "\n",
    "\n"
   ]
  },
  {
   "cell_type": "markdown",
   "id": "405b36d4",
   "metadata": {},
   "source": [
    "Design  as decorator?\n",
    "\n",
    "A little weird. Interesting looking patterns.\n",
    "\n",
    "```\n",
    "def Ex(vs, P):\n",
    "   def res(cb):\n",
    "\n",
    "def ExistsE(vs, P):\n",
    "    \n",
    "\n",
    "\n",
    "def ForAllI(vs, P):\n",
    "    vs, ab = kd.kernel.herb(smt.ForAll([vs], P))\n",
    "\n",
    "def Pi(vs, P):\n",
    "    def res(cb):\n",
    "        vs, ab = kd.kernel.herb(smt.ForAll(vs, P))\n",
    "        return modus(ab, cb(*vs))\n",
    "    return res\n",
    "\n",
    "@Pi([n], foo(n))\n",
    "def step1(goal, vs)\n",
    "\n",
    "\n",
    "@fixes(smt.ForAll([n], foo(n)))\n",
    "def foo(goal, n):\n",
    "    @fixes\n",
    "    def res(goal1, m):\n",
    "        return kd.prove(...)\n",
    "    return res\n",
    "```"
   ]
  },
  {
   "cell_type": "code",
   "execution_count": null,
   "id": "e6f69686",
   "metadata": {},
   "outputs": [
    {
     "data": {
      "text/html": [
       "&#8870;ForAll(n, foo(n))"
      ],
      "text/plain": [
       "|- ForAll(n, foo(n))"
      ]
     },
     "execution_count": 25,
     "metadata": {},
     "output_type": "execute_result"
    }
   ],
   "source": [
    "from typing import Callable\n",
    "from functools import partial\n",
    "#@partial\n",
    "def fixes(goal : smt.QuantifierRef, cb : Callable[[smt.ExprRef,...], kd.Proof]) -> kd.Proof:\n",
    "    vs, ab = kd.kernel.herb(goal)\n",
    "    a = cb(*vs) # ab.thm.arg(0) pass in?\n",
    "    pf = kd.kernel.modus(ab, a)\n",
    "    assert pf.thm.eq(goal)\n",
    "    return pf\n",
    "\n",
    "foo = smt.Function(\"foo\", smt.IntSort(), smt.BoolSort())\n",
    "n = smt.Int(\"n\")\n",
    "pf1 = kd.axiom(smt.ForAll([n], foo(n)))\n",
    "fixes(smt.ForAll([n], foo(n)), lambda n: pf1(n))\n",
    "\n"
   ]
  },
  {
   "cell_type": "code",
   "execution_count": null,
   "id": "72ef895e",
   "metadata": {},
   "outputs": [],
   "source": [
    "def aprove(goal, instans):\n",
    "    intros(goal, lambda goal1, *args: kd.prove(goal1, by=instans(*args)))"
   ]
  },
  {
   "cell_type": "markdown",
   "id": "cecf3949",
   "metadata": {},
   "source": [
    "# BHK \n",
    "simp is definitional equality.\n",
    "Model\n",
    "ForAllI(lambda x: f)\n",
    "Pi()\n",
    "ForAllI([x,y,z], lambda x,y,z: kd.prove(    ))\n",
    "\n",
    "def ForAllI(vs, prop):\n",
    "    def res(f):\n",
    "        vs, lemma = herb(ForAll(vs, prop))\n",
    "        p = f(lemma.arg(0), *vs)\n",
    "        return modus(lemma, p)\n",
    "    return res\n",
    "    #def res(goal, *vs):\n",
    "\n",
    "class CtxProof():\n",
    "    ctx : \n",
    "    thm : smt.\n",
    "    pf : kd.Proof\n",
    "class CtxExpr():\n",
    "\n",
    "\n",
    "def prove(fm):\n",
    "    if hasattr(fm, \"kdrag_ctx\"):\n",
    "        return prove(smt.ForAll(smt.Implies(fm.kdrag_ctx, fm)))\n",
    "    else:\n",
    "        return prove(fm)\n",
    "\n",
    "\n",
    "\n",
    "\n",
    "def ImplI(prop):\n",
    "    def res(f):\n",
    "        p = prop.arg(1)\n",
    "        p.kdrag_ctx = prop.arg(0) + prop.kdrag_ctx\n",
    "        f(p)\n",
    "\n",
    "        f(CtxProof())\n",
    "        ? = ?(prop)\n",
    "\n",
    "\n",
    "@ForAllI([x,y,z])\n",
    "def add_comm(x : int, y : int, z : int):\n",
    "    return kd.prove()\n",
    "\n",
    "def forall(f):\n",
    "    inspect()\n",
    "    kd.kernal.herb\n",
    "\n",
    "@forall\n",
    "def add_comm(x : int, y : int, z : int):\n",
    "\n",
    "type Prop = BoolRef\n",
    "def ind_eq(motive : Callable([ExprRef,ExprRef], BoolRef), a, b, p : kd.Proof):\n",
    "    t1 = motive(a,a)\n",
    "    assert p.thm.eq(t1)\n",
    "    t2 = motive(a,b)\n",
    "\n",
    "def ImplI()\n",
    "\n",
    "\n",
    "contextmanager\n",
    "generators for algerbaic effects\n",
    "\n",
    "def prove(p):\n",
    "    ctx = get_ctx()\n",
    "    kd.prove(ctx => )\n",
    "\n",
    "global? ctx\n",
    "\n",
    "l = Lemma(forall )\n",
    "with l.fix() as y:\n",
    "    with z.intros() as ih1:\n",
    "\n"
   ]
  },
  {
   "cell_type": "markdown",
   "id": "baebb63f",
   "metadata": {},
   "source": [
    "# protocol\n",
    "\n",
    "Protocls as replacement for some uses of typeclasses\n",
    "\n",
    "As replacement for ExprRef\n",
    "\n",
    "metatheory.jl had some interface.\n",
    "\n",
    "Lazy Expr\n",
    "def to_smt(self) -> smt.ExprRef: ...\n",
    "\n"
   ]
  },
  {
   "cell_type": "code",
   "execution_count": null,
   "id": "003edd99",
   "metadata": {},
   "outputs": [],
   "source": [
    "class Ast(Protocol):\n",
    "    def arg(self, i: int) -> 'Ast': ...\n",
    "    def children(self) -> list['Ast']: ...\n",
    "    def eq(self, other: 'Ast') -> bool: ...\n",
    "class Sort(Ast, Protocol):\n",
    "    def name(self) -> str: ...\n",
    "class FuncDecl(Ast, Protocol):\n",
    "    def name(self) -> str: ...\n",
    "    def arity(self) -> int: ...\n",
    "    def domain(self, i: int) -> 'Sort': ...\n",
    "    def range(self) -> 'Sort': ...\n",
    "class Expr(Ast, Protocol):\n",
    "    def __eq__(self, other: 'Expr') -> \"Expr\": ...\n",
    "    # all operations?\n",
    "    # is_add: ... operations. Hmm.\n",
    "\n",
    "\n"
   ]
  },
  {
   "cell_type": "code",
   "execution_count": null,
   "id": "60ee87bb",
   "metadata": {},
   "outputs": [],
   "source": [
    "from typing import Protocol, runtime_checkable\n",
    "from kdrag.all import *\n",
    "\n",
    "@runtime_checkable\n",
    "class Monoid(Protocol):\n",
    "    add: smt.FuncDeclRef\n",
    "    zero: smt.ExprRef\n",
    "    assoc: kd.Proof # |- forall x, y, z: add(add(x, y), z) == add(x, add(y, z))\n",
    "    lunit: kd.Proof # |- forall x: add(zero, x) == x\n",
    "    runit: kd.Proof # |- forall x: add(x, zero) == x\n",
    "\n",
    "@runtime_checkable\n",
    "class Group(Monoid, Protocol):\n",
    "    inv: smt.FuncDeclRef # inverse operation\n",
    "    inv_lunit: kd.Proof # |- forall x: add(inv(x), x) == zero\n",
    "    inv_runit: kd.Proof # |- forall x: add(x, inv(x)) == zero\n",
    "\n",
    "# alternative to SortDispatch\n",
    "ExprRef.__add__ = lambda x,y: x.sort().add(x,y)\n",
    "\n",
    "\n",
    "@runtime_checkable\n",
    "class Assoc(Protocol):\n",
    "    assoc: kd.Proof\n",
    "\n",
    "\n",
    "add = (x + y).decl()\n",
    "add.assoc = kd.prove(smt.ForAll([x, y, z], (x + y) + z == x + (y + z)))\n",
    "isinstance(add, Assoc)\n"
   ]
  },
  {
   "cell_type": "code",
   "execution_count": null,
   "id": "1cbf81af",
   "metadata": {},
   "outputs": [],
   "source": [
    "Lattice = smt.DeclareSort(\"Lattice\")\n",
    "meet = smt.Function(\"meet\", Lattice, Lattice, Lattice)\n",
    "kd.notation.and_.register(Lattice, meet)\n",
    "join = smt.Function(\"join\", Lattice, Lattice, Lattice)\n",
    "kd.notation.or_.register(Lattice, join)\n",
    "x,y,z = smt.Consts(\"x y z\", Lattice)\n",
    "meet_assoc = kd.axiom(smt.ForAll([x,y,z], x & (y & z) == (x & y) & z))\n",
    "meet_comm = kd.axiom(smt.ForAll([x,y], x & y == y & x))\n",
    "meet_idem = kd.axiom(smt.ForAll(x, x & x == x))\n",
    "join_assoc = kd.axiom(smt.ForAll([x,y,z], x | (y | z) == (x | y) | z))\n",
    "join_comm = kd.axiom(smt.ForAll([x,y], x | y == y | x))\n",
    "join_idem = kd.axiom(smt.ForAll(x, x | x == x))\n",
    "\n",
    "#kd.notation.le([x,y], x & y == x)\n",
    "\n",
    "\n",
    "# complete\n",
    "sup = smt.Function(\"sup\", set_.SetSort(Lattice), Lattice)\n",
    "inf = smt.Function(\"inf\", set_.SetSort(Lattice), Lattice)\n",
    "\n",
    "\n",
    "monotone = smt.Function(\"monotone\", smt.ArraySort(Lattice, Lattice), smt.BoolSort())\n",
    "\n",
    "\n",
    "# https://en.wikipedia.org/wiki/Knaster%E2%80%93Tarski_theorem\n",
    "gfp = sup(smt.Lambda([x], x <= f(x)))\n",
    "lfp = inf(smt.Lambda([x], f(x) <= x))\n",
    "\n",
    "\n",
    "\n",
    "\n"
   ]
  },
  {
   "cell_type": "markdown",
   "id": "f8a7f68b",
   "metadata": {},
   "source": [
    "# Fixed point\n",
    "\n",
    "Could spacer or BMC be a good \n",
    "\n",
    "Could I use this for a typeclass like system?\n",
    "\n",
    "for subtypes?"
   ]
  },
  {
   "cell_type": "markdown",
   "id": "2e2c4149",
   "metadata": {},
   "source": [
    "from kdrag.all import *\n",
    "\n",
    "fp = smt.FixedPoint()\n",
    "fp.set(engine=\"bmc\")\n",
    "\n"
   ]
  },
  {
   "cell_type": "markdown",
   "id": "14219484",
   "metadata": {},
   "source": [
    "# user propagators\n",
    "?\n",
    "I have some ideas about forall x, inj(proj(x)) = x\n",
    "User propagators good for that maybe? A simple application.\n",
    "is_set(smt.ArraySort())\n",
    "\n",
    "\n",
    "\n"
   ]
  },
  {
   "cell_type": "markdown",
   "id": "0511b9ae",
   "metadata": {},
   "source": [
    "# ProofSet\n",
    "A direct BHK interp.\n",
    "We can destructure formulas at the metalevel. Akin to quote in some respects.\n",
    "https://en.wikipedia.org/wiki/Brouwer%E2%80%93Heyting%E2%80%93Kolmogorov_interpretation\n",
    "\n",
    "But I struggled to do a Dialectica?\n"
   ]
  },
  {
   "cell_type": "code",
   "execution_count": null,
   "id": "f73306d0",
   "metadata": {},
   "outputs": [],
   "source": [
    "def ProofSet(p : smt.BoolRef) -> smt.QuantifierRef:\n",
    "    if isinstance(p, smt.QuantifierRef):\n",
    "        vs, body = open_binder(p)\n",
    "        if p.is_forall():\n",
    "            bset = ProofSet(body)\n",
    "            f = smt.FreshConst(smt.ArraySort(*[v.sort() for v in vs], blam.sort()))\n",
    "            return smt.Lambda([f], smt.ForAll(vs, bset(f(*vs))))\n",
    "        elif p.is_exists():\n",
    "            bset = ProofSet(body)\n",
    "            f = smt.FreshConst(smt.ArraySort(*[v.sort() for v in vs], blam.sort()))\n",
    "            return smt.Lambda([f], smt.Exists(vs, bset(f(*vs))))\n",
    "    elif smt.is_and(p):\n",
    "        subproofsets = [ ProofSet(c) for c in p.children()]\n",
    "        psorts = [p.sort() for p in subproofsets]\n",
    "        smt.Tuple(psorts)\n",
    "        smt.Lambda([p], smt.And(*[subproofset(p[n]) for subproofset in zip(subproofsets, range(len(subproofsets))) ]))\n",
    "    elif smt.is_or(p): ...\n",
    "        # which one\n",
    "    elif smt.implies(p):\n",
    "        hyp, conc = map(ProofSet, p.children())\n",
    "        f = smt.FreshConst(smt.ArraySort(hyp.domain(), conc.domain()))\n",
    "        x = smt.FreshConst(hyp.domain())\n",
    "        return smt.Lambda([f], kd.QForAll([x], hyp(x), conc(f(x))))"
   ]
  },
  {
   "cell_type": "markdown",
   "id": "d84aace2",
   "metadata": {},
   "source": [
    "\n",
    "\n",
    "\n",
    "\n"
   ]
  },
  {
   "cell_type": "markdown",
   "id": "00ca5408",
   "metadata": {},
   "source": [
    "# subtyping\n",
    "\n",
    "algebraic datatypes\n",
    "examples.\n",
    "Sigma combinator.\n",
    "Dependent records\n",
    "\n",
    "\n",
    "Non recursive structs actually would be easy\n",
    "\n",
    "\n",
    "https://isabelle.in.tum.de/dist/library/HOL/HOL-Algebra/Congruence.html#Congruence.partial_object|type partial_object / carrier\n",
    "https://isabelle.in.tum.de/dist/library/HOL/HOL-Library/FuncSet.html#FuncSet.funcset|const Pi\n",
    "https://isabelle.in.tum.de/dist/library/HOL/HOL/Finite_Set.html#Finite_Set.finite|const finite\n",
    "\n",
    "eq_class https://isabelle.in.tum.de/dist/library/HOL/HOL-Algebra/Congruence.html#Congruence.eq_classes|const\n",
    "\n",
    "https://pmc.ncbi.nlm.nih.gov/articles/PMC7324036/ Reasoning About Algebraic Structures with Implicit Carriers in Isabelle/HOL\n",
    "\n",
    "https://en.wikipedia.org/wiki/Concrete_category "
   ]
  },
  {
   "cell_type": "code",
   "execution_count": null,
   "id": "60a1bf87",
   "metadata": {},
   "outputs": [],
   "source": [
    "from typing import Protocol\n",
    "class PartialObject(Protocol):\n",
    "    carrier : smt.ArraySortRef\n",
    "\n",
    "class EqObject(PartialObject, Protocol):\n",
    "    eq : smt.FuncDeclRef\n",
    "\n",
    "    #? @classmethod. I don't need implementation to implement this\n",
    "    def elem(self, x, A):\n",
    "        y = smt.FreshConst(x.sort())\n",
    "        return smt.Exists([y], A[y], eq(x,y))\n",
    "\n",
    "    def set_eq(self, A, B):\n",
    "\n",
    "class EqObjectSection():\n",
    "    def elem(P : EqObject, x, A):\n",
    "    \n",
    "def elem(P : EqObject, x, A):\n",
    "    \"\"\"\n",
    "    Return a proof that x is an element of A.\n",
    "    \"\"\"\n",
    "    y = smt.FreshConst(x.sort())\n",
    "    return smt.Exists([y], A[y], P.eq(x,y))\n",
    "\n",
    "\n",
    "    "
   ]
  },
  {
   "cell_type": "code",
   "execution_count": null,
   "id": "7204eedc",
   "metadata": {},
   "outputs": [],
   "source": [
    "#def Lattice(A : SubSort):\n",
    "\n",
    "\n",
    "def FreshFromSet(A, prefix=\"c\"):\n",
    "    assert A.range() == smt.BoolSort(), \"A must be a set sort\"\n",
    "    return smt.FreshConst(A.domain(), prefix=prefix)\n",
    "\n",
    "def SetFreshVar(name, A):\n",
    "    assert A.range() == smt.BoolSort(), \"A must be a set sort\"\n",
    "    return kd.FreshVar(name, A.domain())\n",
    "\n",
    "def SetConst(name, A):\n",
    "    assert A.range() == smt.BoolSort(), \"A must be a set sort\"\n",
    "    return smt.Const(name, A.domain())\n",
    "\n",
    "def partial_object_lemmas(P : PartialObject):\n",
    "    SetFreshVar(\"f\")\n",
    "    P.carrier\n",
    "\n",
    "\n",
    "class \n",
    "\n",
    "\n",
    "\n",
    "class Lattice(Protocol):\n",
    "    carrier : smt.ArraySortRef # \n",
    "    meet : \n",
    "    join :\n"
   ]
  },
  {
   "cell_type": "code",
   "execution_count": null,
   "id": "74fa969e",
   "metadata": {},
   "outputs": [],
   "source": [
    "def Refine(dt : smt.SortRef, tele : Telescope, res_sort):\n",
    "    # register type as refined.\n",
    "    # if algebraic datatype, register constructors and recognizers as refining.\n",
    "    for i in range(dt.num_constructors()):\n",
    "        prove_sig(dt.constructor(i)),  \n",
    "        recognizer\n",
    "    datatype.call_dict[dt] = smt.Lambda(tele.vars, smt.Lambda([x], res_sort[x])) "
   ]
  },
  {
   "cell_type": "code",
   "execution_count": null,
   "id": "466345cf",
   "metadata": {},
   "outputs": [],
   "source": [
    "def TStruct(name, fields):\n",
    "    #sorts = [ isinstance()]\n",
    "    tele = normalize(fields)\n",
    "    dt = kd.Struct(name)\n",
    "    x = smt.FreshConst(dt.sort())\n",
    "    dt.family = smt.Lambda([x], )"
   ]
  },
  {
   "cell_type": "code",
   "execution_count": null,
   "id": "14209046",
   "metadata": {},
   "outputs": [],
   "source": []
  },
  {
   "cell_type": "code",
   "execution_count": null,
   "id": "0a0eeb99",
   "metadata": {},
   "outputs": [],
   "source": [
    "\n",
    "def InductiveRel(name: str, *params: smt.SortRef) -> smt.Datatype:\n",
    "    dt = Inductive(name)\n",
    "\n",
    "    relname = name.lower()\n",
    "    olddeclare = dt.declare\n",
    "    preds = []  # tuck away extra predicate\n",
    "\n",
    "    def declare(\n",
    "        name, *args, pred=None\n",
    "    ):  # TODO: would it ever make sense to not have a pred?\n",
    "        olddeclare(name, *args)\n",
    "        preds.append(pred)\n",
    "\n",
    "    dt.declare = declare\n",
    "\n",
    "    oldcreate = dt.create\n",
    "\n",
    "    def create_relation(dt):\n",
    "        \"\"\"\n",
    "        When inductive is done being defined, call this function\n",
    "        \"\"\"\n",
    "        ev = smt.FreshConst(dt, prefix=name.lower())\n",
    "        rel = smt.Function(relname, dt, *[x.sort() for x in params], smt.BoolSort())\n",
    "        cases = []\n",
    "        for i in range(dt.num_constructors()):\n",
    "            precond = dt.recognizer(i)(ev)  # recognize case of the evidence\n",
    "            pred = preds[i]  # In this case, this predicate should be true\n",
    "            if pred is None:\n",
    "                res = smt.BoolVal(True)\n",
    "            elif isinstance(pred, smt.ExprRef):\n",
    "                res = pred\n",
    "            else:\n",
    "                args = [dt.accessor(i, j)(ev) for j in range(dt.constructor(i).arity())]\n",
    "                res = pred(*args)\n",
    "            cases.append((precond, res))\n",
    "        args = [ev]\n",
    "        args.extend(params)\n",
    "        rel = kd.define(relname, args, kd.cond(*cases))\n",
    "        return rel\n",
    "\n",
    "    def create():\n",
    "        dt = oldcreate()\n",
    "        dtrel = smt.Function(relname, dt, *[x.sort() for x in params], smt.BoolSort())\n",
    "        rel.register(\n",
    "            dt, lambda *args: dtrel(*args)\n",
    "        )  # doing this here let's us tie the knot inside of lambdas and refer to the predicate.\n",
    "        dtrel = create_relation(dt)\n",
    "        dt.rel = dtrel\n",
    "        return dt\n",
    "\n",
    "    dt.create = create\n",
    "    return dt"
   ]
  },
  {
   "cell_type": "code",
   "execution_count": 1,
   "id": "52ecdacb",
   "metadata": {},
   "outputs": [
    {
     "data": {
      "text/plain": [
       "{is(Nil): |= ForAll(x!4,\n",
       "        Implies(And(rvec(x!4, n!0)),\n",
       "                Lambda(b,\n",
       "                       Implies(b,\n",
       "                               If(is(Nil, x!4),\n",
       "                                  n!0 == 0,\n",
       "                                  If(is(Cons, x!4),\n",
       "                                     rvec(tl(x!4), n!0 - 1),\n",
       "                                     unreachable!3))))[is(Nil,\n",
       "                     x!4)])),\n",
       " is(Cons): |= ForAll(x!4,\n",
       "        Implies(And(rvec(x!4, n!0)),\n",
       "                Lambda(b,\n",
       "                       Implies(b,\n",
       "                               If(is(Nil, x!4),\n",
       "                                  n!0 == 0,\n",
       "                                  If(is(Cons, x!4),\n",
       "                                     rvec(tl(x!4), n!0 - 1),\n",
       "                                     unreachable!3))))[is(Cons,\n",
       "                     x!4)]))}"
      ]
     },
     "execution_count": 1,
     "metadata": {},
     "output_type": "execute_result"
    }
   ],
   "source": []
  },
  {
   "cell_type": "code",
   "execution_count": 1,
   "id": "d6dba6c1",
   "metadata": {},
   "outputs": [
    {
     "data": {
      "text/html": [
       "&#8870;ForAll([rvec!0, n],\n",
       "       rvec(rvec!0, n) ==\n",
       "       If(is(Nil, rvec!0),\n",
       "          n == 0,\n",
       "          If(is(Cons, rvec!0),\n",
       "             rvec(tl(rvec!0), n - 1),\n",
       "             unreachable!1)))"
      ],
      "text/plain": [
       "|= ForAll([rvec!0, n],\n",
       "       rvec(rvec!0, n) ==\n",
       "       If(is(Nil, rvec!0),\n",
       "          n == 0,\n",
       "          If(is(Cons, rvec!0),\n",
       "             rvec(tl(rvec!0), n - 1),\n",
       "             unreachable!1)))"
      ]
     },
     "execution_count": 1,
     "metadata": {},
     "output_type": "execute_result"
    }
   ],
   "source": [
    "from kdrag.contrib.telescope import *\n",
    "from kdrag.all import *\n",
    "\n",
    "def register_inductive(T : SubSort):\n",
    "    dt = subsort_domain(T)\n",
    "    x = smt.FreshConst(dt, prefix=\"x\")\n",
    "    for i in dt.num_constructors():\n",
    "        recog = dt.recognizer(i)\n",
    "        constr = dt.constructor(n)\n",
    "        accs = [dt.accessort(i,j) for j in constr.arity()]\n",
    "        prove_sig(recog, [(x, T[x])], T.rel(x, *[acc(x) for acc in accs])) # abstract in the left, unfolded in the right.\n",
    "        # Then, If casing on the recognizer, we drive the well formedness condition forward one step.\n",
    "        #for j, acc in enumerate(accs):\n",
    "        #    prove_sig(acc, [(x,smt.And(T[x], dt.recognizer(i,j)(x))], case[j])\n",
    "n = smt.Int(\"n\")\n",
    "x = smt.Real(\"x\")\n",
    "RVec = kd.InductiveRel(\"RVec\", n)\n",
    "RVec.declare(\"Nil\", pred=n == 0)\n",
    "RVec.declare(\"Cons\", (\"hd\", smt.RealSort()), (\"tl\", RVec), pred=lambda hd, tl: tl.rel(n - 1))\n",
    "RVec = RVec.create()\n",
    "RVec.rel.defn"
   ]
  },
  {
   "cell_type": "code",
   "execution_count": 11,
   "id": "a463ec98",
   "metadata": {},
   "outputs": [
    {
     "name": "stdout",
     "output_type": "stream",
     "text": [
      "WARNING: Redefining function myappend from |= ForAll([n!31, m!32, u!34, v!35],\n",
      "       myappend(n!31, m!32, u!34, v!35) ==\n",
      "       Concat(u!34, v!35)) to ForAll([n!37, m!38, u!40, v!41],\n",
      "       myappend(n!37, m!38, u!40, v!41) ==\n",
      "       Concat(u!40, v!41))\n"
     ]
    },
    {
     "data": {
      "text/html": [
       "&#8870;Implies(And(Length(l!39) == x!36,\n",
       "            Length(v!41) == n!37,\n",
       "            Length(u!40) == m!38),\n",
       "        Lambda(l!39, Length(l!39) == n!37 + m!38 + x!36)[myappend(x!36,\n",
       "                   n!37 + m!38,\n",
       "                   l!39,\n",
       "                   myappend(n!37, m!38, v!41, u!40))])"
      ],
      "text/plain": [
       "|= Implies(And(Length(l!39) == x!36,\n",
       "            Length(v!41) == n!37,\n",
       "            Length(u!40) == m!38),\n",
       "        Lambda(l!39, Length(l!39) == n!37 + m!38 + x!36)[myappend(x!36,\n",
       "                   n!37 + m!38,\n",
       "                   l!39,\n",
       "                   myappend(n!37, m!38, v!41, u!40))])"
      ]
     },
     "execution_count": 11,
     "metadata": {},
     "output_type": "execute_result"
    }
   ],
   "source": [
    "\n"
   ]
  },
  {
   "cell_type": "code",
   "execution_count": null,
   "id": "ad16e126",
   "metadata": {},
   "outputs": [],
   "source": []
  },
  {
   "cell_type": "markdown",
   "id": "9207c51e",
   "metadata": {},
   "source": []
  },
  {
   "cell_type": "code",
   "execution_count": 15,
   "id": "94f11120",
   "metadata": {},
   "outputs": [
    {
     "data": {
      "text/html": [
       "&#8870;ForAll([u!40, v!41],\n",
       "       Implies(And(Length(u!40) == Length(u!40),\n",
       "                   Length(v!41) == Length(v!41)),\n",
       "               Lambda(l!39,\n",
       "                      Length(l!39) ==\n",
       "                      Length(u!40) + Length(v!41))[myappend(u!40,\n",
       "                          v!41)]))"
      ],
      "text/plain": [
       "|= ForAll([u!40, v!41],\n",
       "       Implies(And(Length(u!40) == Length(u!40),\n",
       "                   Length(v!41) == Length(v!41)),\n",
       "               Lambda(l!39,\n",
       "                      Length(l!39) ==\n",
       "                      Length(u!40) + Length(v!41))[myappend(u!40,\n",
       "                          v!41)]))"
      ]
     },
     "execution_count": 15,
     "metadata": {},
     "output_type": "execute_result"
    }
   ],
   "source": [
    "ulen = smt.Length(u)\n",
    "\n",
    "app = define(\"myappend\", [(u, Vec(ulen)), (v, Vec(smt.Length(v)))], Vec(ulen + smt.Length(v)), \n",
    "                    smt.Concat(u,v))\n",
    "app.pre_post"
   ]
  },
  {
   "cell_type": "code",
   "execution_count": null,
   "id": "4172f32f",
   "metadata": {},
   "outputs": [
    {
     "name": "stdout",
     "output_type": "stream",
     "text": [
      "Implies(And(n!57 >= 0), Lambda(n!57, n!57 > 0)[n!57 + 1])\n",
      "WARNING: Redefining function inc from |= ForAll(n!55, inc(n!55) == n!55 + 1) to ForAll(n!57, inc(n!57) == n!57 + 1)\n",
      "Implies(And(n!57 > 0), Lambda(n!57, n!57 >= 0)[n!57 - 1])\n",
      "WARNING: Redefining function pred from |= ForAll(n!55, pred(n!55) == n!55 - 1) to ForAll(n!57, pred(n!57) == n!57 - 1)\n",
      "Implies(And(n!57 >= 0),\n",
      "        Lambda(n!57, n!57 >= 0)[pred(inc(n!57))])\n",
      "WARNING: Redefining function myid from |= ForAll(n!55, myid(n!55) == pred(inc(n!55))) to ForAll(n!57, myid(n!57) == pred(inc(n!57)))\n"
     ]
    },
    {
     "ename": "LemmaError",
     "evalue": "(myid(n!57) == n!57, 'Countermodel', [n!57 = -1,\n myid = [-1 -> -2, else -> 0],\n pred = [else -> 0],\n inc = [else -> 2]])",
     "output_type": "error",
     "traceback": [
      "\u001b[31m---------------------------------------------------------------------------\u001b[39m",
      "\u001b[31mLemmaError\u001b[39m                                Traceback (most recent call last)",
      "\u001b[36mCell\u001b[39m\u001b[36m \u001b[39m\u001b[32mIn[53]\u001b[39m\u001b[32m, line 46\u001b[39m\n\u001b[32m     44\u001b[39m myid = define(\u001b[33m\"\u001b[39m\u001b[33mmyid\u001b[39m\u001b[33m\"\u001b[39m, [(n, Nat)], Nat, pred(inc(n)))\n\u001b[32m     45\u001b[39m kd.prove(myid(n) == n, by=[inc.defn, pred.defn, myid.defn])\n\u001b[32m---> \u001b[39m\u001b[32m46\u001b[39m \u001b[43mkd\u001b[49m\u001b[43m.\u001b[49m\u001b[43mprove\u001b[49m\u001b[43m(\u001b[49m\u001b[43mmyid\u001b[49m\u001b[43m(\u001b[49m\u001b[43mn\u001b[49m\u001b[43m)\u001b[49m\u001b[43m \u001b[49m\u001b[43m==\u001b[49m\u001b[43m \u001b[49m\u001b[43mn\u001b[49m\u001b[43m,\u001b[49m\u001b[43m \u001b[49m\u001b[43mby\u001b[49m\u001b[43m=\u001b[49m\u001b[43m[\u001b[49m\u001b[43minc\u001b[49m\u001b[43m.\u001b[49m\u001b[43mpre_post\u001b[49m\u001b[43m,\u001b[49m\u001b[43m \u001b[49m\u001b[43mpred\u001b[49m\u001b[43m.\u001b[49m\u001b[43mpre_post\u001b[49m\u001b[43m,\u001b[49m\u001b[43m \u001b[49m\u001b[43mmyid\u001b[49m\u001b[43m.\u001b[49m\u001b[43mpre_post\u001b[49m\u001b[43m]\u001b[49m\u001b[43m)\u001b[49m\n",
      "\u001b[36mFile \u001b[39m\u001b[32m~/Documents/python/knuckledragger/kdrag/tactics.py:286\u001b[39m, in \u001b[36mprove\u001b[39m\u001b[34m(thm, by, admit, timeout, dump, solver, instan, unfold)\u001b[39m\n\u001b[32m    282\u001b[39m         \u001b[38;5;28;01mraise\u001b[39;00m \u001b[38;5;167;01mException\u001b[39;00m(\n\u001b[32m    283\u001b[39m             \u001b[33m\"\u001b[39m\u001b[33mWorked with quantifier stripped. Something is going awry\u001b[39m\u001b[33m\"\u001b[39m, pf\n\u001b[32m    284\u001b[39m         )\n\u001b[32m    285\u001b[39m     \u001b[38;5;28;01melse\u001b[39;00m:\n\u001b[32m--> \u001b[39m\u001b[32m286\u001b[39m         \u001b[38;5;28;01mraise\u001b[39;00m e\n\u001b[32m    287\u001b[39m \u001b[38;5;28;01mexcept\u001b[39;00m \u001b[38;5;167;01mException\u001b[39;00m \u001b[38;5;28;01mas\u001b[39;00m e:\n\u001b[32m    288\u001b[39m     \u001b[38;5;28;01mraise\u001b[39;00m e\n",
      "\u001b[36mFile \u001b[39m\u001b[32m~/Documents/python/knuckledragger/kdrag/tactics.py:264\u001b[39m, in \u001b[36mprove\u001b[39m\u001b[34m(thm, by, admit, timeout, dump, solver, instan, unfold)\u001b[39m\n\u001b[32m    262\u001b[39m         by.append(kd.kernel.prove(thm == thm1, by=trace, timeout=timeout))  \u001b[38;5;66;03m# type: ignore\u001b[39;00m\n\u001b[32m    263\u001b[39m \u001b[38;5;28;01mtry\u001b[39;00m:\n\u001b[32m--> \u001b[39m\u001b[32m264\u001b[39m     pf = \u001b[43mkd\u001b[49m\u001b[43m.\u001b[49m\u001b[43mkernel\u001b[49m\u001b[43m.\u001b[49m\u001b[43mprove\u001b[49m\u001b[43m(\u001b[49m\n\u001b[32m    265\u001b[39m \u001b[43m        \u001b[49m\u001b[43mthm\u001b[49m\u001b[43m,\u001b[49m\u001b[43m \u001b[49m\u001b[43mby\u001b[49m\u001b[43m,\u001b[49m\u001b[43m \u001b[49m\u001b[43mtimeout\u001b[49m\u001b[43m=\u001b[49m\u001b[43mtimeout\u001b[49m\u001b[43m,\u001b[49m\u001b[43m \u001b[49m\u001b[43mdump\u001b[49m\u001b[43m=\u001b[49m\u001b[43mdump\u001b[49m\u001b[43m,\u001b[49m\u001b[43m \u001b[49m\u001b[43msolver\u001b[49m\u001b[43m=\u001b[49m\u001b[43msolver\u001b[49m\u001b[43m,\u001b[49m\u001b[43m \u001b[49m\u001b[43madmit\u001b[49m\u001b[43m=\u001b[49m\u001b[43madmit\u001b[49m\n\u001b[32m    266\u001b[39m \u001b[43m    \u001b[49m\u001b[43m)\u001b[49m\n\u001b[32m    267\u001b[39m     kdrag.config.perf_event(\u001b[33m\"\u001b[39m\u001b[33mprove\u001b[39m\u001b[33m\"\u001b[39m, thm, time.perf_counter() - start_time)\n\u001b[32m    268\u001b[39m     \u001b[38;5;28;01mreturn\u001b[39;00m pf\n",
      "\u001b[36mFile \u001b[39m\u001b[32m~/Documents/python/knuckledragger/kdrag/kernel.py:176\u001b[39m, in \u001b[36mprove\u001b[39m\u001b[34m(thm, by, admit, timeout, dump, solver)\u001b[39m\n\u001b[32m    174\u001b[39m \u001b[38;5;28;01mif\u001b[39;00m res != smt.unsat:\n\u001b[32m    175\u001b[39m     \u001b[38;5;28;01mif\u001b[39;00m res == smt.sat:\n\u001b[32m--> \u001b[39m\u001b[32m176\u001b[39m         \u001b[38;5;28;01mraise\u001b[39;00m LemmaError(thm, \u001b[33m\"\u001b[39m\u001b[33mCountermodel\u001b[39m\u001b[33m\"\u001b[39m, s.model())\n\u001b[32m    177\u001b[39m     \u001b[38;5;28;01mraise\u001b[39;00m LemmaError(\u001b[33m\"\u001b[39m\u001b[33mprove\u001b[39m\u001b[33m\"\u001b[39m, thm, res)\n\u001b[32m    178\u001b[39m \u001b[38;5;28;01melse\u001b[39;00m:\n",
      "\u001b[31mLemmaError\u001b[39m: (myid(n!57) == n!57, 'Countermodel', [n!57 = -1,\n myid = [-1 -> -2, else -> 0],\n pred = [else -> 0],\n inc = [else -> 2]])"
     ]
    }
   ],
   "source": [
    "from kdrag.contrib.telescope import *\n",
    "\n",
    "\n",
    "n = kd.kernel.SchemaVar(\"n\", smt.IntSort())#smt.Int(\"n\")\n",
    "m = smt.Int(\"m\")\n",
    "Nat = smt.Lambda([n], n >= 0)\n",
    "Pos = smt.Lambda([n], n > 0)\n",
    "inc = define(\"inc\", [(n,Nat)], Pos, n + 1)\n",
    "inc.pre_post\n",
    "\n",
    "pred = define(\"pred\", [(n, Pos)], Nat, n - 1)\n",
    "\n",
    "myid = define(\"myid\", [(n, Nat)], Nat, pred(inc(n)))\n",
    "kd.prove(myid(n) == n, by=[inc.defn, pred.defn, myid.defn])\n",
    "#kd.prove(myid(n) == n, by=[inc.pre_post, pred.pre_post, myid.pre_post])"
   ]
  },
  {
   "cell_type": "code",
   "execution_count": null,
   "id": "c85a4b0b",
   "metadata": {},
   "outputs": [],
   "source": [
    "def TImplies(ctx: Telescope, conc: smt.BoolRef) -> smt.BoolRef:\n",
    "    tele = normalize(ctx)\n",
    "    return smt.Implies(smt.And([P for _, P in tele]), conc)"
   ]
  },
  {
   "cell_type": "code",
   "execution_count": null,
   "id": "809747f3",
   "metadata": {},
   "outputs": [],
   "source": [
    "def tdefine(name, tele, subset, body):\n",
    "    "
   ]
  },
  {
   "cell_type": "code",
   "execution_count": null,
   "id": "b284febd",
   "metadata": {},
   "outputs": [],
   "source": [
    "def Id(x,y):\n",
    "    return smt.Lambda([p], x == y)\n",
    "n = smt.Int(\"n\")\n",
    "Nat = smt.Lambda([n], n >= 0)"
   ]
  },
  {
   "cell_type": "code",
   "execution_count": null,
   "id": "09b38008",
   "metadata": {},
   "outputs": [],
   "source": [
    "\n"
   ]
  },
  {
   "cell_type": "code",
   "execution_count": null,
   "id": "44767c49",
   "metadata": {},
   "outputs": [],
   "source": [
    "\n"
   ]
  },
  {
   "cell_type": "code",
   "execution_count": null,
   "id": "682c0883",
   "metadata": {},
   "outputs": [],
   "source": [
    "type Ctx = frozenset[tuple[smt.ExprRef, smt.BoolRef]]"
   ]
  },
  {
   "cell_type": "code",
   "execution_count": null,
   "id": "d75e2813",
   "metadata": {},
   "outputs": [],
   "source": []
  },
  {
   "cell_type": "markdown",
   "id": "6be94254",
   "metadata": {},
   "source": [
    "\n",
    "\n"
   ]
  },
  {
   "cell_type": "code",
   "execution_count": null,
   "id": "ac943dec",
   "metadata": {},
   "outputs": [],
   "source": [
    "ann.pre_post = smt.ForAll([x], T[x], ann(x, T) == x)"
   ]
  },
  {
   "cell_type": "markdown",
   "id": "0b9ef2f2",
   "metadata": {},
   "source": [
    "# quote"
   ]
  },
  {
   "cell_type": "code",
   "execution_count": null,
   "id": "845bafed",
   "metadata": {},
   "outputs": [
    {
     "data": {
      "text/html": [
       "x + y&middot;z"
      ],
      "text/plain": [
       "x + y*z"
      ]
     },
     "execution_count": 11,
     "metadata": {},
     "output_type": "execute_result"
    }
   ],
   "source": [
    "def quote_sort(s : smt.SortRef):\n",
    "    T = smt.DeclareSort(\"'\" + s.sexpr())\n",
    "    return T\n",
    "def quote(t : smt.ExprRef):\n",
    "    assert not isinstance(t, smt.QuantifierRef) # we could handle this though.\n",
    "    T = quote_sort(t.sort())\n",
    "    decl = t.decl()\n",
    "    children = [quote(c) for c in t.children()]\n",
    "    Targs = [c.sort() for c in children]\n",
    "    absdecl = smt.Function(decl.name(), *Targs, T)\n",
    "    qt = absdecl(*children)\n",
    "    qt.unquote = t\n",
    "\n",
    "    interp = smt.Function(\"unquote\", qt.sort(), t.sort())\n",
    "    qt.ax = kd.axiom(interp(qt) == t)\n",
    "\n",
    "    return qt\n",
    "\n",
    "x + y * z\n",
    "quote(x+y*z).unquote"
   ]
  },
  {
   "cell_type": "code",
   "execution_count": null,
   "id": "e3461659",
   "metadata": {},
   "outputs": [],
   "source": [
    "def reify(t : smt.ExprRef):\n",
    "    # maybe it should be a python value coming in? And use kdrag.reflect.reify?\n",
    "    assert smt.is_value(t)\n",
    "    qt = quote(t)\n",
    "    reify_decl = smt.Function(\"reify\", t.sort(), tq.sort())\n",
    "    return kd.axiom(reify_decl(t) == qt)\n",
    "\n",
    "def unquote_reify(t):\n",
    "    kd.axiom(reify(reflect(t)) == t)\n"
   ]
  },
  {
   "cell_type": "code",
   "execution_count": null,
   "id": "003e0acd",
   "metadata": {},
   "outputs": [
    {
     "data": {
      "text/html": [
       "x + y&middot;z"
      ],
      "text/plain": [
       "x + y*z"
      ]
     },
     "execution_count": 8,
     "metadata": {},
     "output_type": "execute_result"
    }
   ],
   "source": [
    "unquote_sort = {}\n",
    "\n",
    "\"\"\"\n",
    "def unquote_sort(T : smt.SortRef):\n",
    "    name = T.name()\n",
    "    assert name.startswith(\"'\")\n",
    "    name = name[1:]  # remove leading quote\n",
    "    if name.startswith(\"'\"):\n",
    "        return smt.DeclareSort(name)\n",
    "    elif name == \"Real\":\n",
    "        return smt.RealSort()\n",
    "    elif name == \"Int\":\n",
    "        return smt.IntSort()\n",
    "    elif name == \"Bool\":\n",
    "        return smt.BoolSort()\n",
    "    else:\n",
    "        raise ValueError(f\"Unimplemented sort name: {name}\")    \n",
    "\"\"\"\n",
    "def interp_ax(s : smt.SortRef):\n",
    "    T = quote_sort(s)\n",
    "    interp = smt.Function(\"interp\", T, s) \n",
    "    reify = smt.Function(\"reify\", s, T)\n",
    "    x = smt.Const(\"x\", s)\n",
    "    return kd.axiom(smt.ForAll([x], interp(reify(x)) == x))\n",
    "\n",
    "def interp_ax(e):\n",
    "    qe = quote(e)\n",
    "    interp = smt.Function(\"unquote\", e.sort(), unquote[e.sort()].sort())\n",
    "    return kd.axiom(interp(qe) == e)\n",
    "unquote = {}  # interp_table?\n",
    "# could save away mapping from quoted to unquoted. But then can't interpret anything new made?\n",
    "# But if I'm actually metaprogramming, just do it in python. This is for internalization.\n",
    "def quote_sort(s : smt.SortRef):\n",
    "    T = smt.DeclareSort(\"'\" + s.sexpr())\n",
    "    #unquote_sort[T] = s\n",
    "    return T\n",
    "def quote(t : smt.ExprRef):\n",
    "    assert not isinstance(t, smt.QuantifierRef)\n",
    "    T = quote_sort(t.sort())\n",
    "    decl, children = t.decl(), t.children()\n",
    "    Targs = [quote_sort(c.sort()) for c in children]\n",
    "    absdecl = smt.Function(decl.name(), *Targs, T)\n",
    "    t1 = absdecl(*[quote(c) for c in children])\n",
    "    interp = smt.Function(\"unquote\", t1.sort(), t.sort())\n",
    "    t1.ax = kd.axiom(interp(t1) == t)\n",
    "    t1.unquote = t\n",
    "    #unquote[t1] = t\n",
    "    return t1\n",
    "\n",
    "x + y * z\n",
    "quote(x+y*z).sort()\n",
    "\n",
    "#def interp(t : smt.ExprRef):\n",
    "\n",
    "is_true = smt.Function(\"is_sat\", quote_sort(smt.BoolSort()), smt.BoolSort())\n",
    "\n",
    "def is_true(t : smt.ExprRef, by=[]):\n",
    "    # is_true is negation is unsat.\n",
    "    #s = smt.Solver()\n",
    "    #s.add(smt.Not(interp(t)))\n",
    "    #if s.check() == smt.sat:\n",
    "    #    return kd.axiom(is_true(t) == False, reasons=[])\n",
    "    p = kd.prove(interp(t), by=by)\n",
    "    return kd.axiom(is_true(t) == True, reasons=[p])\n",
    "    \n",
    "\n",
    "unquote[quote(x+y*z)]\n",
    "\n"
   ]
  },
  {
   "cell_type": "markdown",
   "id": "5dc74b54",
   "metadata": {},
   "source": [
    "# smt parse\n",
    "Take all keywords, mangle them.\n",
    "Use regular parser\n",
    "turn \n",
    "sexp parse\n",
    "\n",
    "hmm. doesn't actually work.\n",
    "\n",
    "cmds = [\n",
    "    smt.Function(\"declare-fun\", name, args, )\n",
    "]\n",
    "\n",
    "\n",
    "define_fun\n"
   ]
  },
  {
   "cell_type": "markdown",
   "id": "4bb7dd92",
   "metadata": {},
   "source": [
    "# sequent extract\n",
    "\n"
   ]
  },
  {
   "cell_type": "code",
   "execution_count": null,
   "id": "97c6bf19",
   "metadata": {},
   "outputs": [],
   "source": [
    "from dataclass import dataclass\n",
    "@dataclass\n",
    "class Sequent():\n",
    "    hyps\n",
    "    concs\n",
    "def ProofTree():\n",
    "    judgement : Sequent\n",
    "    rule : object\n",
    "    children : list['ProofTree']\n",
    "\n",
    "\n",
    "\n",
    "def prove(e : smt.ExprRef):\n",
    "    \n",
    "    "
   ]
  },
  {
   "cell_type": "markdown",
   "id": "f0f178c1",
   "metadata": {},
   "source": [
    "# define_fun\n",
    "\n",
    "Maybe doing this could help me understand those early chapters in intro hott\n",
    "\n",
    "A primitve axiom style?\n",
    "\n",
    "\n",
    "Like does induction over Nat really require dependent type in some sense?\n",
    "Also acl2 like ?\n",
    "\n",
    "\n",
    "def_thm(eqs)\n",
    "    # define_fun (which deomnstrates termination)\n",
    "    # but then show it is always True using apporpriate induction principle\n",
    "\n",
    "\n",
    "https://www.cse.chalmers.se/~ulfn/papers/thesis.pdf\n",
    "inaccessible patterns\n",
    "\n",
    "Coquand 92 https://wonks.github.io/type-theory-reading-group/papers/proc92-coquand.pdf\n",
    "Guguen 2006 https://static.googleusercontent.com/media/research.google.com/en//pubs/archive/99.pdf  Eliminating Dependent Pattern Matching\n",
    "Mcbride 1999 https://ncatlab.org/nlab/files/conor-mcbride-thesis.pdf\n",
    "View from Left paper relevant?\n",
    "\n",
    "Hmm. Dependent pattern matching. indices become unification problems\n",
    "Case splitting tree. And finding the accessor patterns of the original guy. THis is like my implementation of Pattern match. But I suppose you could go into recursors. Hmm.\n",
    "Telescopes as tries makes sense because I was distinguishing by value. Hmm.\n",
    "Individual equations vs all equations\n",
    "\n",
    "Sozeau\n",
    "\n",
    "\n",
    "https://jesper.sikanda.be/files/pattern-matching-without-K.pdf pattern macthing wiuthout K. Jesper Cockx\n",
    "\n",
    "\n"
   ]
  },
  {
   "cell_type": "code",
   "execution_count": null,
   "id": "67ea4d2b",
   "metadata": {},
   "outputs": [
    {
     "name": "stdout",
     "output_type": "stream",
     "text": [
      "WARNING: Redefining function add from |- ForAll([c!319, c!320],\n",
      "       add(c!319, c!320) ==\n",
      "       If(And(is(Z, c!319)),\n",
      "          c!320,\n",
      "          If(And(is(S, c!319)),\n",
      "             S(add(pred(c!319), c!320)),\n",
      "             unreachable!321))) to ForAll([c!342, c!343],\n",
      "       add(c!342, c!343) ==\n",
      "       If(And(is(Z, c!342)),\n",
      "          c!343,\n",
      "          If(And(is(S, c!342)),\n",
      "             S(add(pred(c!342), c!343)),\n",
      "             unreachable!344)))\n",
      "WARNING: Redefining function append from |- ForAll([c!330, c!331],\n",
      "       append(c!330, c!331) ==\n",
      "       If(And(is(Nil, c!330)),\n",
      "          c!331,\n",
      "          If(And(is(Cons, c!330)),\n",
      "             Cons(head(c!330), append(tail(c!330), c!331)),\n",
      "             unreachable!332))) to ForAll([c!353, c!354],\n",
      "       append(c!353, c!354) ==\n",
      "       If(And(is(Nil, c!353)),\n",
      "          c!354,\n",
      "          If(And(is(Cons, c!353)),\n",
      "             Cons(head(c!353), append(tail(c!353), c!354)),\n",
      "             unreachable!355)))\n"
     ]
    },
    {
     "data": {
      "text/html": [
       "&#8870;ForAll([c, x, b],\n",
       "       append(Cons(x, c), b) == Cons(x, append(c, b)))"
      ],
      "text/plain": [
       "|- ForAll([c, x, b],\n",
       "       append(Cons(x, c), b) == Cons(x, append(c, b)))"
      ]
     },
     "execution_count": 27,
     "metadata": {},
     "output_type": "execute_result"
    }
   ],
   "source": [
    "\n",
    "\n",
    "import kdrag.theories.list as lst\n",
    "IntList = lst.List(smt.IntSort())\n",
    "a,b,c = smt.Consts(\"a b c\", IntList)\n",
    "#rev = smt.Function(\"rev\", IntList, IntList)\n",
    "#define_fun([rev(IntList.Nil) == IntList.Nil,\n",
    "#            rev(lst.Cons(a, lst.Cons(b, c))) == lst.Cons(rev(lst.Cons(b, c)), a)\n",
    "#            ])\n",
    "x = smt.Int(\"x\")\n",
    "append = smt.Function(\"append\", IntList, IntList, IntList)\n",
    "append = define_fun([append(IntList.Nil, b) == b,\n",
    "            append(lst.Cons(x, c), b) == lst.Cons(x, append(c, b))\n",
    "            ])\n",
    "append.case0\n",
    "append.case1"
   ]
  },
  {
   "cell_type": "markdown",
   "id": "36739949",
   "metadata": {},
   "source": [
    "# partial / extensible\n",
    "\n",
    "\n",
    "Open predicates gives me internalized prolog.\n",
    "Could this be useful for the things typeclasses are used for? Automated search?\n",
    "Extensible datatypes + open functions does help. The integer id is a witness in the \n",
    "https://ocaml.org/manual/5.3/extensiblevariants.html\n",
    "\n",
    "Open Predicates\n",
    "Open Functions\n",
    "Open datatypes\n",
    "https://www.cs.ox.ac.uk/people/ralf.hinze/talks/Open.pdf\n",
    "https://www.cs.ox.ac.uk/ralf.hinze/publications/PPDP06.pdf\n",
    "best fit matching... hmm.\n",
    "\n",
    "Open patterns.\n",
    "\n",
    "https://srfi.schemers.org/srfi-262/srfi-262.html#examples pattern matyching. Extensible pattern macthing / views. Hmm.\n",
    "https://arxiv.org/abs/1106.2578  Extensible Pattern Matching in an Extensible Language. Tobin\n",
    "Universes are open types.\n",
    "Views was kind of an interesting angle on isomorphism. Snoc Cons views. Different reps of nats, etc. Quotienting.\n",
    "\"The original proposal for extensible pattern matching is Wadler’s ”views” [25], presented in the context of Haskell. In this system, a view is a pair of an injection and projection from an abstract type to an algebraic datatype. Views are intended to support data abstraction in conjunction with pattern matching.\"\n",
    "\n",
    "https://learn.microsoft.com/en-us/dotnet/fsharp/language-reference/active-patterns active patterns in F# https://en.wikibooks.org/wiki/F_Sharp_Programming/Active_Patterns  https://stackoverflow.com/questions/56536157/what-is-the-main-point-of-active-patterns https://www.microsoft.com/en-us/research/wp-content/uploads/2016/02/p29-syme.pdf Extensible Pattern Matching Via a Lightweight Language Extension https://github.com/fsharp/fslang-suggestions/issues/968#issuecomment-764636595 https://github.com/dsyme/dsyme-presentations/blob/master/design-notes/notes-on-learning-fsharp-2.md\n",
    "Kind of reminds me of TypeIs type guards.\n",
    "\n",
    "To what degree can actual OO features be applied to a \"logical\" (pure?) system. There are coinductives. Subtyping. Inheritance. I think these are so confusing that boltiong them on the kernel is fraught with peril, but they can be compiled metafeatures.\n",
    "\n",
    "https://ghc.gitlab.haskell.org/ghc/doc/users_guide/exts/view_patterns.html \n",
    "\n",
    "Maybe views could work as a mechanism.  T <=> {head : int, tail : T} is kind of a view \n",
    "section vs retract.  f(g(x)) ~ x. Which equality ?  I guess ~ could be a permutation or something?\n",
    "\n",
    "I could maybe bolt views into user propagators.\n",
    "OTT is about making views invisible (?) Deriving the needed casts/coercions.\n",
    "call \n",
    "box(unbox(x))\n",
    "force(thunk(x))\n",
    "Lambda([n], T) won't work.\n",
    "\n",
    "\n",
    "{head = n, tail = box(view(repeat(n))) }  = view(repeat(n))\n",
    "\n",
    "\n",
    "\n",
    "unbox(box(x)) = x\n",
    "box(unbox(x)) =? x.  No probably not. What if you boxed it some other way\n",
    "\n",
    "```python\n",
    "\n",
    "views = {}\n",
    "\n",
    "def define_view(inj, proj, by=[]):\n",
    "views.append(inj,proj, kd.prove(proj(inj(x)) == x)) #? left or right \n",
    "\n",
    "```\n",
    "\n",
    "https://dl.acm.org/doi/abs/10.1145/3674627 Minikanren extensible patterns\n",
    "\n",
    "\n",
    "Somehow extesnibility veers into object oriented.\n",
    "\n",
    "https://dl.acm.org/doi/abs/10.1145/3649836 Persimmon: Nested Family Polymorphism with Extensible Variant Types . NEPLS poster. Interesting object orietned bibliography\n",
    "\n",
    "https://dl.acm.org/doi/10.1145/1159803.1159836  Extensible programming with first-class cases. extensible records and extensible sums are dual\n",
    "\n",
    "Familia: unifying interfaces, type classes, and family polymorphism  https://dl.acm.org/doi/10.1145/3133894\n",
    "\n",
    "virtual types Kresten Krab Thorup. 1997. Genericity in Java with virtual types. https://link.springer.com/chapter/10.1007/BFb0053390\n",
    "\n",
    "nested inheritance\n",
    "\n",
    "Mads Torgerson. Virtual types are statically safe.\n",
    "\n",
    "associated types  Chakravorty 2005\n",
    "\n",
    "Object-Oriented Programming in the Beta Programming Language - Madsen https://en.wikipedia.org/wiki/BETA_(programming_language) https://beta.cs.au.dk/ When why and how of beta https://dl.acm.org/doi/10.1145/1238844.1238854\n",
    "\n",
    "https://link.springer.com/chapter/10.1007/3-540-45337-7_17 ernst 2001  Family Polymorphism\n",
    "\n",
    "Scalable extensibility via nested inheritance https://dl.acm.org/doi/10.1145/1028976.1028986\n",
    "\n",
    "Cardelli badai https://www.amazon.com/Theory-Objects-Monographs-Computer-Science/dp/0387947752 1996 Theory of objects\n",
    "\n",
    "https://mitpress.mit.edu/9780262526326/theoretical-aspects-of-object-oriented-programming/ Theoretical Aspects of Object-Oriented Programming\n",
    "Types, Semantics, and Language Design - mitchell and Gunter\n",
    "\n",
    "could seal to create an actual function definition. Later seals create a different but related definition.\n",
    "Likewise could seal the cases... Hmm. So a global program compilation kind of thing. We can fullly defunctionalize if we do so.\n",
    "The results of the different seals have to be ocnsistent, so we could have an axiom:\n",
    "myfun_ver1(x) == y => myfun(inj(x)) == y\n",
    "\n",
    "\n",
    "\n",
    "\n",
    "\n",
    "```python\n",
    "class ExtensibleInductive():\n",
    "    current : int = 0\n",
    "    def __init__(self, name, *sorts):\n",
    "        self.T = self.Record(name, (\"index\", smt.IntSort()), *sorts)\n",
    "    def declare(self, name):\n",
    "\n",
    "\n",
    "Extsenbile(\"Stream\", (\"head\", IntSort()), (\"tail\", smt.Array( , ?))\n",
    "\n",
    "\n",
    "class ExtensibleFun(): # OpenFunction\n",
    "    decl :\n",
    "    args : \n",
    "    cases = []\n",
    "    def __init__(self, *args):\n",
    "        decl = smt.Function(name, smt.IntSort(), *args) # add tag\n",
    "    def extend(self, cond, body)\n",
    "    def extend(self, body):\n",
    "        kd.define(name + \"case\" + len(cases), args, smt.If(ind == len(cases), body, nextcase(*args))\n",
    "\n",
    "    # I could narrow the arguments, but not change them?\n",
    "\n",
    "\n",
    "# maybe code would want more data? You want to scope where the codes came from\n",
    "class Code():\n",
    "    current : int\n",
    "    decode = pdefine(\"decode\")\n",
    "\n",
    "\n",
    "\n",
    "```"
   ]
  },
  {
   "cell_type": "markdown",
   "id": "06d6c738",
   "metadata": {},
   "source": [
    "\n",
    "\n",
    "\n",
    "\n",
    "Override vs underride semantics vs enforce disjointness.\n",
    "It is weird and probably bad \n",
    "\n",
    "I have stale axiom around.\n",
    "\n",
    "Is the undefined version becoming more defined too?\n",
    "\n",
    "Hmm. COnsidered as a systematic way of making new undef function. Interesting.\n",
    "foo = if(c, e1, foo_undef1)\n",
    "\n",
    "It's kind of just a way to invert definition ordering then. Is this even useful?\n",
    "\n",
    "foo_undef1 = yada.\n",
    "\n",
    "Oh yeah and the unfolding mechanism still works. Huh.\n",
    "\n",
    "But for condictuvies or sets it will almost never be able to push through the conditionals. When are sets _not_ equal.\n",
    "\n",
    "\n",
    "open predicates like prolog. We can only prove True because of outer Or\n",
    "Or(\n",
    "    case1, case2, undef_case\n",
    ")\n",
    "\n",
    "How to make minikanren extensible like prolog. Need open functions.\n",
    "Re opening the clark completion form.\n",
    "\n",
    "Yes, how do you ever know something isn't in predicate? Seal off. Observations?\n",
    "undef == False would seal off forever. Hmm.\n",
    "partial seal off?\n",
    "\n",
    "```python\n",
    "class OpenPred():\n",
    "    pred : smt.FuncDeclRef\n",
    "    args : list[smt.ExprRef]\n",
    "    cases : list[smt.BoolRef]\n",
    "    _undef : smt.FuncDeclRef\n",
    "    #ax : kd.Proof\n",
    "\n",
    "    def extend(self, body):\n",
    "        new_undef = smt.FreshFunction()\n",
    "        kd.define(self.undef.name(), args, smt.Or(body, newundef(*args)))\n",
    "        self.undef = new_undef\n",
    "\n",
    "    def __call__(self, *args):\n",
    "        return self.pred(*args)\n",
    "```\n",
    "\n",
    "Hmm. Is this superior to closed function form using If?\n",
    "Or(Implies(cond, f(args)  == body1)\n",
    "   Implies(cond2, f(args) == body2)\n",
    "   Implies(cond3, f(args) == )\n",
    ")\n",
    "Or form can start allowing f to have multiple models if clauses overlap. Will we be able to ever prove anything? No I guess.\n",
    "\n",
    "vs\n",
    "\n",
    "And(Implies(cond, f(args)  == body1)\n",
    "   Implies(cond2, f(args) == body2)\n",
    "   Implies(cond3, f(args) == )\n",
    ")\n",
    "And form can have insistency if cond overlap\n",
    "Makes unfolding hard / impossible.\n",
    "\n",
    "\n",
    "elem(x,A) ==\n",
    "\n",
    "pdefine(\"elem\",[x,A], A == pair(y,z), Or(x == y, x == z))\n",
    "\n",
    "An open set of equations seems reasonable\n",
    "e\n",
    "\n",
    "pdefine(\"head\", [s],  s == repeat(n), n)\n",
    "pdefine(\"tail\", [s],  s == repeat(n), repeat(n))\n",
    "\n",
    "\n",
    "but it's hard to prove that streams are or aren't equal to other streams.\n",
    "\n",
    "head(repeate(n), n) == True\n",
    "\n"
   ]
  },
  {
   "cell_type": "code",
   "execution_count": null,
   "id": "02ae8c72",
   "metadata": {},
   "outputs": [],
   "source": [
    "def pdefine(name, args, cond, body):\n",
    "    sorts = [arg.sort() for arg in args] + [body.sort()]\n",
    "    f = smt.Function(name, *sorts)\n",
    "    undef = smt.FreshFunction(name + \"_undef\", *sorts)\n",
    "    newbody = smt.If(cond, body, undef(*args))\n",
    "    if f not in kd.kernel.defns:\n",
    "        return kd.define(name, args, newbody)\n",
    "    else:\n",
    "        defn = kd.kernel.defns[f]\n",
    "        #kd.prove(smt.Not(smt.And(cond, defn.defined))) # disjoint\n",
    "        #newbody = smt.substitute(newbody, *zip(args, defn.args))\n",
    "        old_undef = kd.define(defn.undef.name(), args, newbody)\n",
    "        newbody = smt.substitute(defn.body, (defn.undef, newbody))\n",
    "        defn._replace(body=smt.If(cond, body, defn.body))\n",
    "        # we don't _have_ to replace ax.\n",
    "        ax = kd.prove(smt.ForAll(args, f(*args) == newbody, by=[defn.ax, old_undef.defn]))\n",
    "        f.defn = ax\n",
    "        return f\n",
    "\n"
   ]
  },
  {
   "cell_type": "markdown",
   "id": "c18218f3",
   "metadata": {},
   "source": [
    "# termination\n",
    "\n",
    "Make a measure checking thing.\n",
    "structural recursion\n",
    "\n",
    "\n"
   ]
  },
  {
   "cell_type": "code",
   "execution_count": null,
   "id": "0d1ff867",
   "metadata": {},
   "outputs": [
    {
     "ename": "SyntaxError",
     "evalue": "invalid syntax. Perhaps you forgot a comma? (880595545.py, line 5)",
     "output_type": "error",
     "traceback": [
      "  \u001b[36mCell\u001b[39m\u001b[36m \u001b[39m\u001b[32mIn[28]\u001b[39m\u001b[32m, line 5\u001b[39m\n\u001b[31m    \u001b[39m\u001b[31mpatterns = [[kd.util.is_subterm(x,y) for x,y zip(arg,subargs)] for args,subargs in cases]\u001b[39m\n                                               ^\n\u001b[31mSyntaxError\u001b[39m\u001b[31m:\u001b[39m invalid syntax. Perhaps you forgot a comma?\n"
     ]
    }
   ],
   "source": [
    "#def lex_less(subargs, args):\n",
    "#    all( subargs[i] <= args[i] for i in range(len(subargs) - 1) ) and subargs[-1] < args[-1]\n",
    "\n",
    "def arg_dec(cases):\n",
    "    N = len(cases[0][0])\n",
    "    for i in range(N):\n",
    "        if all(kd.utils.is_strict_subterm(subargs[i], args[i]) for args,subargs in cases):\n",
    "            return i # ith argument is decreasing in all cases.\n",
    "    return False\n",
    "    #patterns = [[kd.util.is_subterm(x,y) for x,y zip(arg,subargs)] for args,subargs in cases]\n",
    "    #for perm in itertools.permutations(n):\n",
    "    #    if all(   )\n",
    "\n",
    "#(False, True) < (True, True, True)\n",
    "\n",
    "\n"
   ]
  },
  {
   "cell_type": "code",
   "execution_count": null,
   "id": "9493a9b3",
   "metadata": {},
   "outputs": [],
   "source": [
    "def lex_dec(vs, lhs, rhs):\n",
    "    if lhs.sort() == smt.IntSort():\n",
    "        kd.prove(smt.ForAll(vs, 0 <= lhs))\n",
    "        kd.prove(smt.ForAll(vs, lhs >= rhs))\n",
    "    else:\n",
    "        raise ValueError(\"Unsupported sort for lexicographic decision procedure\")\n",
    "x,y = smt.Ints(\"x y\")\n",
    "lex_dec([x], )\n",
    "\n",
    "# for a kd.define, we need to know every subcall is less than original.\n",
    "# \n"
   ]
  },
  {
   "cell_type": "markdown",
   "id": "7b61fa23",
   "metadata": {},
   "source": [
    "# copattern\n",
    "\n",
    "Extensible definitions\n",
    "Rewrite rules in simp?\n",
    "\n",
    "\n",
    "I guess a copattern is a simpler thing than full rewriting\n",
    "\n",
    "\n",
    "I guess non-deep matching is as simple\n",
    "\n",
    "add2(S(n)) = \n",
    "\n",
    "patterns[add2][S] = ([n], S(S(n)))\n",
    "\n",
    "https://wiki.c2.com/?ClosuresAndObjectsAreEquivalent\n",
    "objects and messages\n",
    "Message = Head | Tail\n",
    "Response = Int(n) | Stream(s)\n",
    "repeat(n)[Head] = \n",
    "\n",
    "define(\"repeat\", n, Lambda([Msg], If(msg == Head, n, msg==Tail, repeat(n))))\n",
    "\n",
    "A GADT could maybe make this work\n",
    "  Head : Msg Int\n",
    "  Tail : Msg Stream\n",
    "type Stream = Msg 'a -> 'a\n",
    "\n",
    "{\n",
    "    a : T # Code type?\n",
    "    head : T -> int\n",
    "    tail : T -> T\n",
    "}\n",
    "\n",
    "head = lambda x, If(stream(n) == x, n, undefined)\n",
    "But you can't extract n out of stream.\n",
    "\n",
    "\n",
    "\n"
   ]
  },
  {
   "cell_type": "code",
   "execution_count": null,
   "id": "3fe2314e",
   "metadata": {},
   "outputs": [],
   "source": [
    "coppatterns = {}\n",
    "coppatterns[head][repeat] = ([n], n)\n",
    "coppatterns[tail][repeat] = ([n], repeat(n))\n",
    "\n",
    "\n",
    "\n",
    "\n",
    "def copattern(pat, rhs, t):\n",
    "    assert pat.decl() == t.decl()\n",
    "    zip(pat.children(), t.chidren())"
   ]
  },
  {
   "cell_type": "code",
   "execution_count": null,
   "id": "56fe16d9",
   "metadata": {},
   "outputs": [],
   "source": [
    "constructors = {}\n",
    "\n",
    "# honestly it might be better to do things this way. Instead of searching through junk. I dunno.\n",
    "List = smt.DeclareSort()\n",
    "nil = smt.Const(\"nil\", List)\n",
    "cons = smt.Function(\"cons\", smt.IntSort(), List, List)\n",
    "\n",
    "constructors[List] = [nil, cons]"
   ]
  },
  {
   "cell_type": "code",
   "execution_count": null,
   "id": "beaf9138",
   "metadata": {},
   "outputs": [],
   "source": [
    "observations = {}\n",
    "\n",
    "Stream = smt.DeclareSort(\"Stream\")\n",
    "head = smt.Function(\"head\", Stream, smt.IntSort())\n",
    "tail = smt.Function(\"tail\", Stream, Stream)\n",
    "observations[Stream] = [head, tail]\n",
    "\n",
    "zeros = smt.Const(\"zeros\", Stream)\n",
    "\n",
    "codefns = {}\n",
    "def codefine(name, args, obs): # codefine is more like define_fun than it is like define.\n",
    "    T = obs[0].arg(0).arg(0).sort()\n",
    "    decl = smt.Function(name,  [arg.sort() for arg in args] ,T)\n",
    "    assert T in observations\n",
    "    axs = []\n",
    "    for n, obeq in enumerate(obs):\n",
    "        assert smt.is_eq(obeq)\n",
    "        lhs,rhs = obeq.children()\n",
    "        ob = lhs.decl()\n",
    "        assert ob == observations[T][n]\n",
    "        axs.append(smt.ForAll(args, ob))\n",
    "        codefns[(decl, ob)] = (vs, rhs)\n",
    "    return axs\n",
    "\n",
    "\n",
    "zeros = codefine(\"zeros\", [],\n",
    "         [head(zeros) == 0,\n",
    "          tail(zeros) == zeros])\n",
    "\n",
    "wrap = smt.Function(\"wrap\", StreamT, Stream)\n",
    "codefine(\"zeros\", wrap(StreamT(0, zeros)))\n",
    "\n",
    "\n",
    "#codefine"
   ]
  },
  {
   "cell_type": "markdown",
   "id": "12b265fe",
   "metadata": {},
   "source": [
    "Ok new idea.\n",
    "\n",
    "Inductive observcations\n",
    "\n",
    "Stream A ~ Nat -> A\n",
    "\n",
    "head f = f Z\n",
    "tail f = \\o -> f (S o)\n",
    "\n",
    "Stream2 A B = { ob1 : A, ob2 : B, next : stream2} -->  {ob1 : Nat -> A, ob2 : Nat -> B}\n",
    "\n",
    "\n",
    "\n",
    "ITree = {l : itree, r : itree, v : A}\n",
    "type Pos = L Pos | R Pos | Here\n",
    "type ITree = Pos -> A\n",
    "val x = x \n",
    "l x = \\p -> x (L p)\n",
    "r x = \\p -> x (R p)\n",
    "\n",
    "-> x (snoc L p)\n",
    "\n",
    "l (r x) = \\p -> x (L (R p))\n",
    "but this is probably inverted from what we want.\n",
    "But x is probably implemented as a fold over obs so \n",
    "Sequences of observations.\n",
    "\n",
    "double : s, inc: s, val : Nat\n",
    "doub (inc x)  = Inc Doub\n",
    "\n",
    "SeqSort(ObsEnum)\n",
    "\n",
    "head (all n) = n\n",
    "tail (all n) = all (n+1) \n",
    "\n",
    "all n = \\o -> rec (+1) n o\n",
    "\n",
    "\n",
    "l (doub n) = doub (2 * n)\n",
    "r (doub n) = doub (n + 1)\n",
    "v (doub n) = n\n",
    "\n",
    "v (l (r (doub 0))) = 1\n",
    "\n",
    "[L, R, Here]\n",
    "Hmm could even use seq.Fold\n",
    "\n",
    "doub n = seq.Fold n (\\ acc o -> | L ->  )\n",
    "\n",
    "\n",
    "generators can be turned into `nat -> A`.\n",
    "thermometer continuations\n",
    "\n",
    "\n",
    "If I have Seq[Obs] then I can intyernally use RegEx for some of them.\n",
    "\n",
    "\\o -> smt.If(RegEx(p)[0], 10, RegEx(p)(0))\n",
    "This is kind ofa way of encoding automata with output. Regex only https://en.wikipedia.org/wiki/Moore_machine . or is it a mealy where regex is i?\n",
    "\n",
    "\n",
    "https://inria.hal.science/hal-03671876\n",
    "https://inria.hal.science/hal-03689027v2/document toiwards corecursion in coq\n",
    "\n",
    "https://www.cl.cam.ac.uk/techreports/UCAM-CL-TR-304.pdf  Mechanizing Coinduction and Corecursion in Higher-order Logic\n",
    "\n",
    "\n",
    "BB(5)\n",
    "Renormalization of the cutoff of \"small number\". Elegant and inelegant methods. Stable and unstable properties?\n",
    "Probalistic logic?\n",
    "https://www.uvm.edu/~uvmsrc/archive/2015/abstracts/uvmsrc2015.pdf dummett wang's paradox\n",
    "induction should have a small epsilon reducing the truth. Induction is a form of difference equation.\n",
    "Renomralization of truth\n",
    "\n",
    "\n"
   ]
  },
  {
   "cell_type": "markdown",
   "id": "944b1e7b",
   "metadata": {},
   "source": [
    "# solver for\n",
    "\n",
    "Hmmm. Wait. This is a guassian eliminator?\n",
    "\n",
    "\n"
   ]
  },
  {
   "cell_type": "code",
   "execution_count": null,
   "id": "53b80b28",
   "metadata": {},
   "outputs": [
    {
     "data": {
      "text/plain": [
       "[]"
      ]
     },
     "execution_count": 68,
     "metadata": {},
     "output_type": "execute_result"
    }
   ],
   "source": [
    "import z3\n",
    "def solve(eqs, x):\n",
    "   s = z3.SimpleSolver()\n",
    "   s.add(eqs)\n",
    "   return s.solve_for([x])\n",
    "x,y,z = z3.Reals('x y z')\n",
    "solve([x + y == z], x)"
   ]
  },
  {
   "cell_type": "code",
   "execution_count": null,
   "id": "b6b9109c",
   "metadata": {},
   "outputs": [
    {
     "name": "stdout",
     "output_type": "stream",
     "text": [
      "4.15.0\n",
      "[]\n"
     ]
    }
   ],
   "source": [
    "import z3\n",
    "x,y,z = z3.Reals('x y z')\n",
    "s = z3.Solver()\n",
    "s.add(x + y == z)\n",
    "print(z3.get_version_string())\n",
    "print(s.solve_for([x]))\n",
    "#s.solve_for1(x)\n"
   ]
  },
  {
   "cell_type": "code",
   "execution_count": null,
   "id": "ec3f021b",
   "metadata": {},
   "outputs": [
    {
     "data": {
      "text/plain": [
       "3"
      ]
     },
     "execution_count": 9,
     "metadata": {},
     "output_type": "execute_result"
    }
   ],
   "source": [
    "z3.IntVal(3).py_value()"
   ]
  },
  {
   "cell_type": "code",
   "execution_count": null,
   "id": "e6410485",
   "metadata": {},
   "outputs": [
    {
     "data": {
      "text/plain": [
       "'4.15.0'"
      ]
     },
     "execution_count": 7,
     "metadata": {},
     "output_type": "execute_result"
    }
   ],
   "source": [
    "z3.get_version_string()"
   ]
  },
  {
   "cell_type": "code",
   "execution_count": null,
   "id": "de7d9cca",
   "metadata": {},
   "outputs": [
    {
     "name": "stdout",
     "output_type": "stream",
     "text": [
      "[(z, p + y + 5, And(y + -1*z + p <= -5, y + -1*z + p >= -5)), (x, z + -1*y, And(x + y + -1*z >= 0, x + y + -1*z <= 0))]\n"
     ]
    }
   ],
   "source": [
    "import z3\n",
    "x,y,z,p = z3.Reals('x y z p')\n",
    "s = z3.SimpleSolver()\n",
    "s.add(x + y == z)\n",
    "s.add(p + y + 5 == z)\n",
    "s.check()\n",
    "print(s.solve_for([x]))"
   ]
  },
  {
   "cell_type": "markdown",
   "id": "5fb49297",
   "metadata": {},
   "source": [
    "https://github.com/Z3Prover/doc/tree/master/synthesiz3\n",
    "https://github.com/Z3Prover/doc/commit/690d88ba43a7d706d174da2c48279a5d16810a92"
   ]
  },
  {
   "cell_type": "markdown",
   "id": "5a7e6ea9",
   "metadata": {},
   "source": []
  },
  {
   "cell_type": "markdown",
   "id": "b81c7516",
   "metadata": {},
   "source": [
    "# Proof\n",
    "z3 proof objects were an ast.\n",
    "They even had modus ponens?\n",
    "Hmm.\n",
    "Look at z3 and cvc5 proof objects\n",
    "\n",
    "https://ceur-ws.org/Vol-3185/paper9527.pdf simple proof format for SMT\n",
    "https://ceur-ws.org/Vol-3455/invited1.pdf Challenges in SMT Proof Production and Checking for\n",
    "Arithmetic Reasoning"
   ]
  },
  {
   "cell_type": "code",
   "execution_count": null,
   "id": "27b05c37",
   "metadata": {},
   "outputs": [
    {
     "name": "stdout",
     "output_type": "stream",
     "text": [
      "unsat\n"
     ]
    },
    {
     "data": {
      "text/plain": [
       "'(let ((a!1 (forall ((x Int)) (! (f x) :pattern ((f x))))))\\n(let ((a!2 (assumption (inst a!1 (not (f 1)) (bind 1) (gen 0))\\n                       (or (not a!1) (f 1)))))\\n  (proof-trail (assumption assumption a!1)\\n               (assumption assumption (not (f 1)))\\n               a!2\\n               false)))'"
      ]
     },
     "execution_count": 103,
     "metadata": {},
     "output_type": "execute_result"
    }
   ],
   "source": [
    "from kdrag.all import *\n",
    "s = smt.Solver()\n",
    "s.set(\"clause_proof\", True)\n",
    "f = smt.Function(\"f\", smt.IntSort(), smt.BoolSort())\n",
    "s.add(smt.ForAll([x], f(x)))\n",
    "s.add(smt.Not(f(1)))\n",
    "print(s.check())\n",
    "p = s.proof()\n",
    "p.decl()\n",
    "assert not p.sort() == smt.DeclareSort(\"Proof\")\n",
    "p.sexpr()"
   ]
  },
  {
   "cell_type": "code",
   "execution_count": null,
   "id": "f095d7e0",
   "metadata": {},
   "outputs": [],
   "source": [
    "Proof = smt.DeclareSort(\"Proof\")\n",
    "andI = smt.Function(\"andI\", Proof, Proof, Proof) # to build multicontext\n",
    "prove = smt.Function(\"prove\", smt.BoolSort(), Proof, Proof)\n",
    "axiom = smt.Function(\"axiom\", smt.BoolSort(), Proof)\n",
    "\n",
    "#instan = smt.Function(\"instan\", Proof, Proof)\n",
    "\n",
    "# both need to be multiarity / parametric\n",
    "#T = smt.TypeVar(\"T\")\n",
    "#herb = smt.Function(\"herb\", smt.ArraySort(), Proof)\n",
    "#instan = smt.Function(\"instan\", Proof, Proof)\n",
    "\n",
    "\n",
    "\n"
   ]
  },
  {
   "cell_type": "markdown",
   "id": "bcdde930",
   "metadata": {},
   "source": [
    "# cvxpy\n",
    "\n",
    "But really, doesn't z3 offer this? It's about scale.\n",
    "I guess it doesn't offer SDP\n",
    "We might also want to verify cvxpy transforms like that lean project?\n",
    "\n",
    "duality? "
   ]
  },
  {
   "cell_type": "code",
   "execution_count": null,
   "id": "70f2a39c",
   "metadata": {},
   "outputs": [
    {
     "data": {
      "text/plain": [
       "Variable((1,), x)"
      ]
     },
     "execution_count": 9,
     "metadata": {},
     "output_type": "execute_result"
    }
   ],
   "source": [
    "import cvxpy as cp\n",
    "from kdrag.all import *\n",
    "import operator\n",
    "\n",
    "x,y = smt.Reals(\"x y\")\n",
    "binop = {\n",
    "    (x <= y).decl() : operator.le,\n",
    "    (x >= y).decl() : operator.ge,\n",
    "    (x == y).decl() : operator.eq,\n",
    "}\n",
    "\n",
    "\n",
    "\n",
    "def tocvxpy(e : smt.ExprRef):\n",
    "    if isinstance(e, smt.BoolRef):\n",
    "        if e.decl() in binop:\n",
    "            return binop[e.decl()](tocvxpy(e.arg(0)), tocvxpy(e.arg(1)))\n",
    "        else:\n",
    "            return \n",
    "        return cvxpy.Constant(e.py_value())\n",
    "\n",
    "x = cp.Variable(1, name=\"x\")\n",
    "x\n"
   ]
  },
  {
   "cell_type": "markdown",
   "id": "e1e36cc2",
   "metadata": {},
   "source": [
    "https://en.wikipedia.org/wiki/Sum-of-squares_optimization"
   ]
  },
  {
   "cell_type": "code",
   "execution_count": null,
   "id": "06d176c9",
   "metadata": {},
   "outputs": [
    {
     "name": "stdout",
     "output_type": "stream",
     "text": [
      "proved\n"
     ]
    }
   ],
   "source": [
    "import z3\n",
    "x,y = smt.Reals(\"x y\")\n",
    "z3.prove(x**2 - 4*x*y + 7*y**2 >= 0)\n"
   ]
  },
  {
   "cell_type": "markdown",
   "id": "cd565b76",
   "metadata": {},
   "source": [
    "# sympy\n",
    "We're stuck. Just let soundness go\n",
    "\n",
    "Also tying together a solver could be fun\n",
    "\n",
    "taylor series\n",
    "\n",
    "\n",
    "\n"
   ]
  },
  {
   "cell_type": "code",
   "execution_count": null,
   "id": "dbf4ccdf",
   "metadata": {},
   "outputs": [],
   "source": []
  },
  {
   "cell_type": "code",
   "execution_count": null,
   "id": "5317702a",
   "metadata": {},
   "outputs": [
    {
     "name": "stdout",
     "output_type": "stream",
     "text": [
      "True\n"
     ]
    },
    {
     "data": {
      "text/html": [
       "&#8870;cos(x)**2 + sin(x)**2 == 1"
      ],
      "text/plain": [
       "|- cos(x)**2 + sin(x)**2 == 1"
      ]
     },
     "execution_count": 2,
     "metadata": {},
     "output_type": "execute_result"
    }
   ],
   "source": [
    "import kdrag as kd\n",
    "import kdrag.theories.real as real\n",
    "from kdrag.theories.real.sympy import sympify, simplify, solve, kdify\n",
    "from kdrag.all import *\n",
    "\n",
    "\n",
    "x,y,z = smt.Reals(\"x y z\")\n",
    "sympify(x + y == z)\n",
    "sympify(x + y <= z)\n",
    "#implify(real.cos(x)**2 + real.sin(x)**2 == z)\n",
    "simplify(real.cos(x) == 3)\n",
    "\n",
    "solve([real.cos(x) == 3], [x])\n",
    "#solve([real.exp(x) == x], [x])\n",
    "\n",
    "t = sympify(real.deriv(smt.Lambda([x], real.cos(real.sin(x)))))\n",
    "\n",
    "simplify(real.integrate(smt.Lambda([x], real.sin(x)), 0,x))\n",
    "\n",
    "\n",
    "sympify(real.summation(smt.Lambda([x], real.exp(-x)), 0, y)) # hmm\n",
    "simplify(real.deriv(smt.Lambda([x], real.cos(real.sin(x)))))\n",
    "import sympy\n",
    "a = sympy.Symbol('a')\n",
    "kdify(sympy.Lambda(a,a))\n",
    "simplify(smt.Lambda([x], 2 + x + 1))\n",
    "\n",
    "class Lemma(kd.Lemma):\n",
    "    def simp(self, at=None, unfold=False):\n",
    "        super().simp(at=at, unfold=unfold)\n",
    "        goalctx = self.top_goal()\n",
    "        goal = goalctx.goal\n",
    "        if at is None:\n",
    "            newgoal = simplify(goal)\n",
    "            print(newgoal)\n",
    "            self.lemmas.append(kd.axiom(goal == newgoal, by=[\"sympy simplify\"]))\n",
    "            self.goals[-1] = goalctx._replace(goal=newgoal)\n",
    "        return self.top_goal()\n",
    "    def solve(self, vs):\n",
    "        goalctx = self.goals.top_goal()\n",
    "        return solve(goalctx.ctx, vs)\n",
    "    #def solve_for(self, vs):\n",
    "    #    contraints = self.goals[-1].ctx\n",
    "    #    s = smt.SimpleSolver()\n",
    "    #    s.add(contraints)\n",
    "    #    return s.solve_for(vs)\n",
    "\n",
    "l = Lemma(real.cos(x)**2 + real.sin(x)**2 == 1)\n",
    "l.simp()\n",
    "l.qed()\n",
    "\n",
    "\n"
   ]
  },
  {
   "cell_type": "code",
   "execution_count": null,
   "id": "a0f3767f",
   "metadata": {},
   "outputs": [
    {
     "ename": "SympifyError",
     "evalue": "SympifyError: \"cannot sympify object of type <class 'kdrag.reflect.KnuckleClosure'>\"",
     "output_type": "error",
     "traceback": [
      "\u001b[31m---------------------------------------------------------------------------\u001b[39m",
      "\u001b[31mSympifyError\u001b[39m                              Traceback (most recent call last)",
      "\u001b[36mCell\u001b[39m\u001b[36m \u001b[39m\u001b[32mIn[3]\u001b[39m\u001b[32m, line 1\u001b[39m\n\u001b[32m----> \u001b[39m\u001b[32m1\u001b[39m \u001b[43msimplify\u001b[49m\u001b[43m(\u001b[49m\u001b[43msmt\u001b[49m\u001b[43m.\u001b[49m\u001b[43mLambda\u001b[49m\u001b[43m(\u001b[49m\u001b[43m[\u001b[49m\u001b[43mx\u001b[49m\u001b[43m]\u001b[49m\u001b[43m,\u001b[49m\u001b[43m \u001b[49m\u001b[43mx\u001b[49m\u001b[43m)\u001b[49m\u001b[43m)\u001b[49m\n",
      "\u001b[36mFile \u001b[39m\u001b[32m~/Documents/python/knuckledragger/kdrag/theories/real/sympy.py:173\u001b[39m, in \u001b[36msimplify\u001b[39m\u001b[34m(e)\u001b[39m\n\u001b[32m    164\u001b[39m \u001b[38;5;28;01mdef\u001b[39;00m\u001b[38;5;250m \u001b[39m\u001b[34msimplify\u001b[39m(e: smt.ExprRef) -> smt.ExprRef:\n\u001b[32m    165\u001b[39m \u001b[38;5;250m    \u001b[39m\u001b[33;03m\"\"\"\u001b[39;00m\n\u001b[32m    166\u001b[39m \u001b[33;03m    Simplify a z3 expression.\u001b[39;00m\n\u001b[32m    167\u001b[39m \u001b[33;03m    >>> x = smt.Real(\"x\")\u001b[39;00m\n\u001b[32m   (...)\u001b[39m\u001b[32m    171\u001b[39m \u001b[33;03m    1\u001b[39;00m\n\u001b[32m    172\u001b[39m \u001b[33;03m    \"\"\"\u001b[39;00m\n\u001b[32m--> \u001b[39m\u001b[32m173\u001b[39m     \u001b[38;5;28;01mreturn\u001b[39;00m kdify(\u001b[43msympy\u001b[49m\u001b[43m.\u001b[49m\u001b[43msimplify\u001b[49m\u001b[43m(\u001b[49m\u001b[43msympify\u001b[49m\u001b[43m(\u001b[49m\u001b[43me\u001b[49m\u001b[43m)\u001b[49m\u001b[43m)\u001b[49m)\n",
      "\u001b[36mFile \u001b[39m\u001b[32m~/philzook58.github.io/.venv/lib/python3.12/site-packages/sympy/simplify/simplify.py:588\u001b[39m, in \u001b[36msimplify\u001b[39m\u001b[34m(expr, ratio, measure, rational, inverse, doit, **kwargs)\u001b[39m\n\u001b[32m    585\u001b[39m     rv = e.doit() \u001b[38;5;28;01mif\u001b[39;00m doit \u001b[38;5;28;01melse\u001b[39;00m e\n\u001b[32m    586\u001b[39m     \u001b[38;5;28;01mreturn\u001b[39;00m shorter(rv, collect_abs(rv))\n\u001b[32m--> \u001b[39m\u001b[32m588\u001b[39m expr = \u001b[43msympify\u001b[49m\u001b[43m(\u001b[49m\u001b[43mexpr\u001b[49m\u001b[43m,\u001b[49m\u001b[43m \u001b[49m\u001b[43mrational\u001b[49m\u001b[43m=\u001b[49m\u001b[43mrational\u001b[49m\u001b[43m)\u001b[49m\n\u001b[32m    589\u001b[39m kwargs = {\n\u001b[32m    590\u001b[39m     \u001b[33m\"\u001b[39m\u001b[33mratio\u001b[39m\u001b[33m\"\u001b[39m: kwargs.get(\u001b[33m'\u001b[39m\u001b[33mratio\u001b[39m\u001b[33m'\u001b[39m, ratio),\n\u001b[32m    591\u001b[39m     \u001b[33m\"\u001b[39m\u001b[33mmeasure\u001b[39m\u001b[33m\"\u001b[39m: kwargs.get(\u001b[33m'\u001b[39m\u001b[33mmeasure\u001b[39m\u001b[33m'\u001b[39m, measure),\n\u001b[32m    592\u001b[39m     \u001b[33m\"\u001b[39m\u001b[33mrational\u001b[39m\u001b[33m\"\u001b[39m: kwargs.get(\u001b[33m'\u001b[39m\u001b[33mrational\u001b[39m\u001b[33m'\u001b[39m, rational),\n\u001b[32m    593\u001b[39m     \u001b[33m\"\u001b[39m\u001b[33minverse\u001b[39m\u001b[33m\"\u001b[39m: kwargs.get(\u001b[33m'\u001b[39m\u001b[33minverse\u001b[39m\u001b[33m'\u001b[39m, inverse),\n\u001b[32m    594\u001b[39m     \u001b[33m\"\u001b[39m\u001b[33mdoit\u001b[39m\u001b[33m\"\u001b[39m: kwargs.get(\u001b[33m'\u001b[39m\u001b[33mdoit\u001b[39m\u001b[33m'\u001b[39m, doit)}\n\u001b[32m    595\u001b[39m \u001b[38;5;66;03m# no routine for Expr needs to check for is_zero\u001b[39;00m\n",
      "\u001b[36mFile \u001b[39m\u001b[32m~/philzook58.github.io/.venv/lib/python3.12/site-packages/sympy/core/sympify.py:465\u001b[39m, in \u001b[36msympify\u001b[39m\u001b[34m(a, locals, convert_xor, strict, rational, evaluate)\u001b[39m\n\u001b[32m    462\u001b[39m         \u001b[38;5;28;01mpass\u001b[39;00m\n\u001b[32m    464\u001b[39m \u001b[38;5;28;01mif\u001b[39;00m \u001b[38;5;129;01mnot\u001b[39;00m \u001b[38;5;28misinstance\u001b[39m(a, \u001b[38;5;28mstr\u001b[39m):\n\u001b[32m--> \u001b[39m\u001b[32m465\u001b[39m     \u001b[38;5;28;01mraise\u001b[39;00m SympifyError(\u001b[33m'\u001b[39m\u001b[33mcannot sympify object of type \u001b[39m\u001b[38;5;132;01m%r\u001b[39;00m\u001b[33m'\u001b[39m % \u001b[38;5;28mtype\u001b[39m(a))\n\u001b[32m    467\u001b[39m \u001b[38;5;28;01mfrom\u001b[39;00m\u001b[38;5;250m \u001b[39m\u001b[34;01msympy\u001b[39;00m\u001b[34;01m.\u001b[39;00m\u001b[34;01mparsing\u001b[39;00m\u001b[34;01m.\u001b[39;00m\u001b[34;01msympy_parser\u001b[39;00m\u001b[38;5;250m \u001b[39m\u001b[38;5;28;01mimport\u001b[39;00m (parse_expr, TokenError,\n\u001b[32m    468\u001b[39m                                         standard_transformations)\n\u001b[32m    469\u001b[39m \u001b[38;5;28;01mfrom\u001b[39;00m\u001b[38;5;250m \u001b[39m\u001b[34;01msympy\u001b[39;00m\u001b[34;01m.\u001b[39;00m\u001b[34;01mparsing\u001b[39;00m\u001b[34;01m.\u001b[39;00m\u001b[34;01msympy_parser\u001b[39;00m\u001b[38;5;250m \u001b[39m\u001b[38;5;28;01mimport\u001b[39;00m convert_xor \u001b[38;5;28;01mas\u001b[39;00m t_convert_xor\n",
      "\u001b[31mSympifyError\u001b[39m: SympifyError: \"cannot sympify object of type <class 'kdrag.reflect.KnuckleClosure'>\""
     ]
    }
   ],
   "source": [
    "(smt.Lambda([x], x))"
   ]
  },
  {
   "cell_type": "code",
   "execution_count": null,
   "id": "60da85f7",
   "metadata": {},
   "outputs": [
    {
     "data": {
      "text/plain": [
       "520"
      ]
     },
     "execution_count": 7,
     "metadata": {},
     "output_type": "execute_result"
    }
   ],
   "source": [
    "(-x).decl().kind()"
   ]
  },
  {
   "cell_type": "code",
   "execution_count": null,
   "id": "c5f46cc2",
   "metadata": {},
   "outputs": [
    {
     "data": {
      "text/html": [
       "&lambda;x : x"
      ],
      "text/plain": [
       "Lambda(x, x)"
      ]
     },
     "execution_count": 2,
     "metadata": {},
     "output_type": "execute_result"
    }
   ],
   "source": [
    "dir(smt.Lambda([x], x))\n",
    "smt.Lambda(x,x)"
   ]
  },
  {
   "cell_type": "code",
   "execution_count": null,
   "id": "5fe9601d",
   "metadata": {},
   "outputs": [
    {
     "data": {
      "text/plain": [
       "(a,)"
      ]
     },
     "execution_count": 10,
     "metadata": {},
     "output_type": "execute_result"
    }
   ],
   "source": [
    "import sympy\n",
    "a = sympy.Symbol('a')\n",
    "a.name\n",
    "def Lambda(x,y): return x,y\n",
    "#sympy.lambdify([], sympy.Lambda(a, a), modules={\"Lambda\" : Lambda})()\n",
    "sympy.E\n",
    "isinstance(sympy.Lambda(a,2+a), sympy.Lambda)\n",
    "sympy.Lambda(a,2+a).variables"
   ]
  },
  {
   "cell_type": "code",
   "execution_count": null,
   "id": "fefc4730",
   "metadata": {},
   "outputs": [
    {
     "data": {
      "text/plain": [
       "{8, a}"
      ]
     },
     "execution_count": 8,
     "metadata": {},
     "output_type": "execute_result"
    }
   ],
   "source": [
    "sympy.Lambda(a, a + 7 * a).atoms()"
   ]
  },
  {
   "cell_type": "code",
   "execution_count": null,
   "id": "cbd80329",
   "metadata": {},
   "outputs": [
    {
     "ename": "NameError",
     "evalue": "name 'a' is not defined",
     "output_type": "error",
     "traceback": [
      "\u001b[31m---------------------------------------------------------------------------\u001b[39m",
      "\u001b[31mNameError\u001b[39m                                 Traceback (most recent call last)",
      "\u001b[36mCell\u001b[39m\u001b[36m \u001b[39m\u001b[32mIn[2]\u001b[39m\u001b[32m, line 1\u001b[39m\n\u001b[32m----> \u001b[39m\u001b[32m1\u001b[39m \u001b[43ma\u001b[49m\n",
      "\u001b[31mNameError\u001b[39m: name 'a' is not defined"
     ]
    }
   ],
   "source": [
    "a"
   ]
  },
  {
   "cell_type": "markdown",
   "id": "6c56145e",
   "metadata": {},
   "source": [
    "# eexists / uvars\n",
    "\n",
    "uvars realkly belong to the total goal state not Goals.\n",
    "tracking what is allowed in them uses the goal vars at the time.\n",
    "Yikeys.\n",
    "Can just collect junk to be included in prove(smt.Exists(uvars, ))\n",
    "\n",
    "prove(smt.Exist)\n",
    "\n",
    "kd.QExists(uvars, constraints, whatev)\n",
    "\n",
    "Kind of need uvars to use solve_for and sympy stuff?\n"
   ]
  },
  {
   "cell_type": "code",
   "execution_count": null,
   "id": "d5abe8a4",
   "metadata": {},
   "outputs": [],
   "source": [
    "class Lemma():\n",
    "    uvars : set[smt.ExprRef]\n",
    "    constraints : list[smt.BoolRef] # or go into lemmas?\n",
    "    \n",
    "\n",
    "\n",
    "\n",
    "def eexists()"
   ]
  },
  {
   "cell_type": "markdown",
   "id": "9ead3730",
   "metadata": {},
   "source": [
    "# spacer\n",
    "\n",
    "Can we use spacer for something? Inductive theorem proving?\n",
    "https://microsoft.github.io/z3guide/programming/Z3%20Python%20-%20Readonly/Fixedpoints\n",
    "https://github.com/Z3Prover/z3/discussions/5013\n",
    "https://github.com/agurfinkel/spacer-on-jupyter/blob/master/Dagstuhl2019.ipynb\n",
    "https://github.com/agurfinkel/spacer-on-jupyter/blob/master/FSU_2023.ipynb\n",
    "https://github.com/agurfinkel/spacer-on-jupyter/blob/master/src/spacer_tutorial/solve.py\n",
    "\n",
    "\n",
    "DIY IC3 solver?\n",
    "Needs interpolation right?\n",
    "Could just use spacer for interp\n",
    "\n",
    "https://github.com/Z3Prover/z3/blob/master/examples/python/mini_ic3.py\n",
    "https://github.com/pddenhar/Z3-IC3-PDR\n",
    "\n",
    "https://github.com/arbrad/IC3ref \n",
    "\n",
    "https://github.com/JakubSarnik/geyser\n",
    "https://github.com/gipsyh/rIC3\n",
    "\n",
    "aiger and btor2\n",
    "\n"
   ]
  },
  {
   "cell_type": "code",
   "execution_count": null,
   "id": "b4f07281",
   "metadata": {},
   "outputs": [],
   "source": [
    "from kdrag.all import *\n",
    "def solver_horn(chc):\n",
    "    # https://github.com/agurfinkel/spacer-on-jupyter/blob/master/src/spacer_tutorial/solve.py\n",
    "    s = z3.SolverFor('HORN')\n",
    "    s.set('engine', 'spacer')\n",
    "    s.set('spacer.order_children', 2)\n",
    "    s.add(chc)\n",
    "    res = s.check()\n",
    "    if res == z3.sat:\n",
    "        return res, s.model()\n",
    "    elif res == z3.unsat:\n",
    "        return res, s.proof()\n",
    "    else:\n",
    "        return res, None\n",
    "    \n",
    "def interpolate(As, A, Bs, B, shared):\n",
    "    # Uninterpreted predicate Itp over shared symbols\n",
    "    Itp = z3.Function('Itp', [s.sort() for s in shared] + [z3.BoolSort()])\n",
    "\n",
    "    # first CHC: A ==> Itp\n",
    "    left = z3.ForAll([a for a in As], z3.Implies(A, Itp(shared)))\n",
    "    # second CHC: Itp ==> !B\n",
    "    right = z3.ForAll([b for b in Bs], z3.Implies(Itp(shared), z3.Not(B)))\n",
    "\n",
    "    # run CHC solver\n",
    "    res, answer = solve_horn([left, right])\n",
    "\n",
    "    if res == z3.sat:\n",
    "        return answer.eval(Itp(shared))\n",
    "    else:\n",
    "        return None\n",
    "\n",
    "\n",
    "\n"
   ]
  },
  {
   "cell_type": "markdown",
   "id": "7f051a0d",
   "metadata": {},
   "source": [
    "https://microsoft.github.io/z3guide/docs/fixedpoints/engineforpdr"
   ]
  },
  {
   "cell_type": "code",
   "execution_count": null,
   "id": "e7878fd5",
   "metadata": {},
   "outputs": [
    {
     "data": {
      "text/plain": [
       "(sat, [mc = [else -> True], q1 = [else -> True]])"
      ]
     },
     "execution_count": 19,
     "metadata": {},
     "output_type": "execute_result"
    }
   ],
   "source": [
    "mc = smt.Function(\"mc\", smt.IntSort(), smt.IntSort(), smt.BoolSort())\n",
    "n,m,p = smt.Ints(\"n m p\")\n",
    "q1 = smt.Function(\"q1\", smt.IntSort(), smt.IntSort(), smt.BoolSort())\n",
    "clauses = [\n",
    "    kd.QForAll([m], m > 100, mc(m, m - 10)),\n",
    "    kd.QForAll([m,p,n], m <= 100, mc(m + 11, p), mc(p,n), mc(m,n)),\n",
    "    #kd.QForAll([m,n], mc(m,n), n < 91, q1(m,n)),\n",
    "]\n",
    "solver_horn(clauses)\n",
    "\n"
   ]
  },
  {
   "cell_type": "markdown",
   "id": "c1233c52",
   "metadata": {},
   "source": [
    "https://z3prover.github.io/papers/programmingz3.html#sec-horn-clause-solver"
   ]
  },
  {
   "cell_type": "code",
   "execution_count": null,
   "id": "b8158271",
   "metadata": {},
   "outputs": [
    {
     "name": "stdout",
     "output_type": "stream",
     "text": [
      "sat\n",
      "And(Not(y + -1*x <= -11),\n",
      "    Not(y <= 90),\n",
      "    Or(Not(y >= 92), Not(y + -1*x >= -9)))\n"
     ]
    }
   ],
   "source": [
    "s = smt.SolverFor(\"HORN\")\n",
    "Z = smt.IntSort()\n",
    "B = smt.BoolSort()\n",
    "mc = smt.Function('mc', Z, Z, B)\n",
    "x, y, z = smt.Ints('x y z')\n",
    "s.add(smt.ForAll(x, smt.Implies(x > 100, mc(x, x - 10))))\n",
    "s.add(smt.ForAll([x, y, z], \n",
    "             smt.Implies(smt.And(x <= 100, mc(x + 11, y), mc(y, z)), \n",
    "                     mc(x, z))))\n",
    "s.add(smt.ForAll([x, y], smt.Implies(smt.And(x <= 101, mc(x, y)), y == 91)))\n",
    "s.add(smt.ForAll([x, y], smt.Implies(smt.And(x >= 101, mc(x, y)), x == y + 10)))\n",
    "print(s.check())\n",
    "print(s.model().eval(mc(x, y)))"
   ]
  },
  {
   "cell_type": "markdown",
   "id": "9c3adfc2",
   "metadata": {},
   "source": [
    "## popper\n",
    "https://github.com/logic-and-learning-lab/Popper/\n",
    "\n",
    "Houdini\n",
    "\n",
    "Is invariant (?)\n",
    "\n",
    "def inv(P)\n",
    "    for P in candidates()\n",
    "        try:\n",
    "            kd.prove(induct(P).arg(0))\n",
    "\n",
    "\n",
    "\n"
   ]
  },
  {
   "cell_type": "markdown",
   "id": "e4d19ffa",
   "metadata": {},
   "source": [
    "# tableau / meson\n",
    "\n",
    "For modal logics might be nice\n",
    "Also smt boosted meson is interesting in and of itself.\n",
    "\n"
   ]
  },
  {
   "cell_type": "markdown",
   "id": "09dbd31f",
   "metadata": {},
   "source": [
    "# brute check\n",
    "For anything 32bit or less we ought to just brute check it.\n",
    "\n",
    "float16 for example. Would give me more confidence.\n",
    "single variable float32 ops\n",
    "\n"
   ]
  },
  {
   "cell_type": "markdown",
   "id": "0adbc6f4",
   "metadata": {},
   "source": []
  },
  {
   "cell_type": "markdown",
   "id": "ac37c2ab",
   "metadata": {},
   "source": [
    "# Solvers\n",
    "##  isabelle\n",
    "Graham was saying why not just download isabelle... Hmm.\n",
    "\n",
    "\n",
    "\n",
    "```bash\n",
    "emconfigure ./configure --enable-ho\n",
    "emmake make AR=\"/home/philip/Downloads/emsdk/upstream/emscripten/emar rcs\"\n",
    "```\n",
    "\n",
    " And had to comment out in Makefile.vars the forced CC and AR values\n",
    "\n",
    "\n",
    "https://github.com/philzook58/eprover/releases/download/E.3.2.5-ho/eprover-ho"
   ]
  },
  {
   "cell_type": "markdown",
   "id": "77514bd3",
   "metadata": {},
   "source": [
    "bitwuzla\n",
    "cvc5 \n",
    "ytices\n",
    "pysmt\n",
    "\n",
    "bto2\n",
    "moxi\n",
    "\n",
    "implement model checking algorithms?\n",
    "\n"
   ]
  },
  {
   "cell_type": "code",
   "execution_count": null,
   "id": "55a427ef",
   "metadata": {},
   "outputs": [],
   "source": [
    "import pyboolector as btor\n",
    "\n",
    "btor.Parse(\"example.btor\")\n",
    "\n"
   ]
  },
  {
   "cell_type": "code",
   "execution_count": null,
   "id": "d232c3da",
   "metadata": {},
   "outputs": [],
   "source": []
  },
  {
   "cell_type": "code",
   "execution_count": null,
   "id": "bd55d4fc",
   "metadata": {},
   "outputs": [],
   "source": [
    "import urllib.request\n",
    "import os\n",
    "import stat\n",
    "filename = \"eprover-ho\"\n",
    "#urllib.request.urlretrieve(\"https://github.com/philzook58/eprover/releases/download/E.3.2.5-ho/eprover-ho\", filename)\n",
    "st = os.stat(filename)\n",
    "    # Add execute permissions for user, group, and others\n",
    "os.chmod(filename, st.st_mode | stat.S_IXUSR | stat.S_IXGRP | stat.S_IXOTH)"
   ]
  },
  {
   "cell_type": "code",
   "execution_count": null,
   "id": "9add68db",
   "metadata": {},
   "outputs": [
    {
     "data": {
      "text/plain": [
       "b'# Preprocessing class: HSSSSMSSSSSNFFN.\\n# Scheduled 4 strats onto 8 cores with 300 seconds (2400 total)\\n# Starting new_ho_10 with 1500s (5) cores\\n# Starting ho_unfolding_6 with 300s (1) cores\\n# Starting sh4l with 300s (1) cores\\n# Starting ehoh_best_nonlift_rwall with 300s (1) cores\\n# new_ho_10 with pid 996928 completed with status 9\\n# ho_unfolding_6 with pid 996929 completed with status 9\\n# sh4l with pid 996930 completed with status 9\\n# ehoh_best_nonlift_rwall with pid 996931 completed with status 9\\n# Schedule exhausted\\n# SZS status GaveUp\\n'"
      ]
     },
     "execution_count": 77,
     "metadata": {},
     "output_type": "execute_result"
    }
   ],
   "source": [
    "from kdrag.solvers import EProverTHFSolver\n",
    "s = EProverTHFSolver()\n",
    "s.add(x == y)\n",
    "s.check()\n",
    "s.res.stdout"
   ]
  },
  {
   "cell_type": "code",
   "execution_count": null,
   "id": "eaebb343",
   "metadata": {},
   "outputs": [
    {
     "name": "stdout",
     "output_type": "stream",
     "text": [
      "\n",
      "E 3.2.5-ho \"Puttabong Moondrop\"\n",
      "\n",
      "Usage: eprover [options] [files]\n",
      "\n",
      "Read a set of first-order (or, in the -ho-version, higher-order)\n",
      "clauses and formulae and try to prove the conjecture (if given)\n",
      "or show the set unsatisfiable.\n",
      "\n",
      "Options:\n",
      "\n",
      "   -h\n",
      "  --help\n",
      "    Print a short description of program usage and options.\n",
      "\n",
      "   -V\n",
      "  --version\n",
      "    Print the version number of the prover. Please include this with all bug\n",
      "    reports (if any).\n",
      "\n",
      "   -v\n",
      "  --verbose[=<arg>]\n",
      "    Verbose comments on the progress of the program. This differs from the\n",
      "    output level (below) in that technical information is printed to stderr,\n",
      "    while the output level determines which logical manipulations of the\n",
      "    clauses are printed to stdout. The short form or the long form without\n",
      "    the optional argument is equivalent to --verbose=1.\n",
      "\n",
      "   -o <arg>\n",
      "  --output-file=<arg>\n",
      "    Redirect output into the named file.\n",
      "\n",
      "   -s\n",
      "  --silent\n",
      "    Equivalent to --output-level=0.\n",
      "\n",
      "   -l <arg>\n",
      "  --output-level=<arg>\n",
      "    Select an output level, greater values imply more verbose output. Level 0\n",
      "    produces nearly no output, level 1 will output each clause as it is\n",
      "    processed, level 2 will output generating inferences, level 3 will give a\n",
      "    full protocol including rewrite steps and level 4 will include some\n",
      "    internal clause renamings. Levels >= 2 also imply PCL2 or TSTP formats\n",
      "    (which can be post-processed with suitable tools).\n",
      "\n",
      "   -p\n",
      "  --proof-object[=<arg>]\n",
      "    Generate (and print, in case of success) an internal proof object. Level\n",
      "    0 will not print a proof object, level 1 will build asimple, compact\n",
      "    proof object that only contains inference rules and dependencies, level 2\n",
      "    will build a proof object where inferences are unambiguously described by\n",
      "    giving inference positions, and level 3 will expand this to a proof\n",
      "    object where all intermediate results are explicit. This feature is under\n",
      "    development, so far only level 0 and 1 are operational. The proof object\n",
      "    will be provided in TPTP-3 or PCL syntax, depending on input format and\n",
      "    explicit settings. The --proof-graph option will suppress normal output\n",
      "    of the proof object in favour of a graphial representation. The short\n",
      "    form or the long form without the optional argument is equivalent to\n",
      "    --proof-object=1.\n",
      "\n",
      "  --proof-graph[=<arg>]\n",
      "    Generate (and print, in case of success) an internal proof object in the\n",
      "    form of a GraphViz dot graph. The optional argument can be 1 (nodes are\n",
      "    labelled with just the name of the clause/formula), 2 (nodes are labelled\n",
      "    with the TPTP clause/formula) or 3  (nodes also labelled with\n",
      "    source/inference record. The option without the optional argument is\n",
      "    equivalent to --proof-graph=3.\n",
      "\n",
      "  --proof-statistics\n",
      "    Print various statistics of the proof object.\n",
      "\n",
      "   -d\n",
      "  --full-deriv\n",
      "    Include all derived formuas/clauses in the proof graph/proof object, not\n",
      "    just the ones contributing to the actual proof.\n",
      "\n",
      "  --force-deriv[=<arg>]\n",
      "    Force output of the derivation even in cases where the prover terminates\n",
      "    in an indeterminate state. By default, the deriviation of all processed\n",
      "    clauses is included in the derivation object. With argument 2, the\n",
      "    derivation of all clauses will be printed. The option without the\n",
      "    optional argument is equivalent to --force-deriv=1.\n",
      "\n",
      "  --record-gcs\n",
      "    Record given-clause selection as separate (pseudo-)inferences and\n",
      "    preserve the form of given clauses evaluated and selected via archiving\n",
      "    for analysis and possibly machine learning.\n",
      "\n",
      "  --training-examples[=<arg>]\n",
      "    Generate and process training examples from the proof search object.\n",
      "    Implies --record-gcs. The argument is a binary or of the desired\n",
      "    processing. Bit zero prints positive exampels. Bit 1 prints negative\n",
      "    examples. Additional selectors will be added later. The option without\n",
      "    the optional argument is equivalent to --training-examples=1.\n",
      "\n",
      "  --pcl-terms-compressed\n",
      "    Print terms in the PCL output in shared representation.\n",
      "\n",
      "  --pcl-compact\n",
      "    Print PCL steps without additional spaces for formatting (safes disk\n",
      "    space for large protocols).\n",
      "\n",
      "  --pcl-shell-level[=<arg>]\n",
      "    Determines level to which clauses and formulas are suppressed in the\n",
      "    output. Level 0 will print all, level 1 will only print initial\n",
      "    clauses/formulas, level 2 will print no clauses or axioms. All levels\n",
      "    will still print the dependency graph. The option without the optional\n",
      "    argument is equivalent to --pcl-shell-level=1.\n",
      "\n",
      "  --print-statistics\n",
      "    Print the inference statistics (only relevant for output level <=1,\n",
      "    otherwise they are printed automatically.\n",
      "\n",
      "   -0\n",
      "  --print-detailed-statistics\n",
      "    Print data about the proof state that is potentially expensive to\n",
      "    collect. Includes number of term cells and number of rewrite steps. This\n",
      "    implies the previous option.\n",
      "\n",
      "   -S\n",
      "  --print-saturated[=<arg>]\n",
      "    Print the (semi-) saturated clause sets after terminating the saturation\n",
      "    process. The argument given describes which parts should be printed in\n",
      "    which order. Legal characters are 'teigEIGaA', standing for type\n",
      "    declarations, processed positive units, processed negative units,\n",
      "    processed non-units, unprocessed positive units, unprocessed negative\n",
      "    units, unprocessed non-units, and two types of additional equality\n",
      "    axioms, respectively. Equality axioms will only be printed if the\n",
      "    original specification contained real equality. In this case, 'a'\n",
      "    requests axioms in which a separate substitutivity axiom is given for\n",
      "    each argument position of a function or predicate symbol, while 'A'\n",
      "    requests a single substitutivity axiom (covering all positions) for each\n",
      "    symbol. The short form or the long form without the optional argument is\n",
      "    equivalent to --print-saturated=eigEIG.\n",
      "\n",
      "  --print-sat-info\n",
      "    Print additional information (clause number, weight, etc) as a comment\n",
      "    for clauses from the semi-saturated end system.\n",
      "\n",
      "  --filter-saturated[=<arg>]\n",
      "    Filter the  (semi-) saturated clause sets after terminating the\n",
      "    saturation process. The argument is a string describing which operations\n",
      "    to take (and in which order). Options are 'u' (remove all clauses with\n",
      "    more than one literal), 'c' (delete all but one copy of identical\n",
      "    clauses, 'n', 'r', 'f' (forward contraction, unit-subsumption only, no\n",
      "    rewriting, rewriting with rules only, full rewriting, respectively), and\n",
      "    'N', 'R' and 'F' (as their lower case counterparts, but with\n",
      "    non-unit-subsumption enabled as well). The option without the optional\n",
      "    argument is equivalent to --filter-saturated=Fc.\n",
      "\n",
      "  --syntax-only\n",
      "    Stop after parsing, i.e. only check if the input can be parsed correcly.\n",
      "\n",
      "  --prune\n",
      "    Stop after relevancy pruning, SInE pruning, and output of the initial\n",
      "    clause- and formula set. This will automatically set output level to 4 so\n",
      "    that the pruned problem specification is printed. Note that the desired\n",
      "    pruning methods must still be specified (e.g. '--sine=Auto').\n",
      "\n",
      "  --cnf\n",
      "    Convert the input problem into clause normal form and print it. This is\n",
      "    (nearly) equivalent to '--print-saturated=eigEIG\n",
      "    --processed-clauses-limit=0' and will by default perform some usually\n",
      "    useful simplifications. You can additionally specify e.g.\n",
      "    '--no-preprocessing' if you want just the result of CNF translation.\n",
      "\n",
      "  --print-pid\n",
      "    Print the process id of the prover as a comment after option processing.\n",
      "\n",
      "  --print-version\n",
      "    Print the version number of the prover as a comment after option\n",
      "    processing. Note that unlike -version, the prover will not terminate, but\n",
      "    proceed normally.\n",
      "\n",
      "  --error-on-empty\n",
      "    Return with an error code if the input file contains no clauses.\n",
      "    Formally, the empty clause set (as an empty conjunction of clauses) is\n",
      "    trivially satisfiable, and E will treat any empty input set as\n",
      "    satisfiable. However, in composite systems this is more often a sign that\n",
      "    something went wrong. Use this option to catch such bugs.\n",
      "\n",
      "   -m <arg>\n",
      "  --memory-limit=<arg>\n",
      "    Limit the memory the prover may use. The argument is the allowed amount\n",
      "    of memory in MB. If you use the argument 'Auto', the system will try to\n",
      "    figure out the amount of physical memory of your machine and claim most\n",
      "    of it. This option may not work everywhere, due to broken and/or strange\n",
      "    behaviour of setrlimit() in some UNIX implementations, and due to the\n",
      "    fact that I know of no portable way to figure out the physical memory in\n",
      "    a machine. Both the option and the 'Auto' version do work under all\n",
      "    tested versions of Solaris and GNU/Linux. Due to problems with limit data\n",
      "    types, it is currently impossible to set a limit of more than 2 GB (2048\n",
      "    MB).\n",
      "\n",
      "  --cpu-limit[=<arg>]\n",
      "    Limit the (per core) cpu time the prover should run. The optional\n",
      "    argument is the CPU time in seconds. The prover will terminate\n",
      "    immediately after reaching the time limit, regardless of internal state.\n",
      "    As a side effect, this option will inhibit core file writing. Please note\n",
      "    that if you use both --cpu-limit and --soft-cpu-limit, the soft limit has\n",
      "    to be smaller than the hard limit to have any effect.  The option without\n",
      "    the optional argument is equivalent to --cpu-limit=300.\n",
      "\n",
      "  --soft-cpu-limit[=<arg>]\n",
      "    Limit the cpu time the prover should spend in the main saturation phase.\n",
      "    The prover will then terminate gracefully, i.e. it will perform\n",
      "    post-processing, filtering and printing of unprocessed clauses, if these\n",
      "    options are selected. Note that for some filtering options (in particular\n",
      "    those which perform full subsumption), the post-processing time may well\n",
      "    be larger than the saturation time. This option is particularly useful if\n",
      "    you want to use E as a preprocessor or lemma generator in a larger\n",
      "    system. The option without the optional argument is equivalent to\n",
      "    --soft-cpu-limit=290.\n",
      "\n",
      "   -R\n",
      "  --resources-info\n",
      "    Give some information about the resources used by the prover. You will\n",
      "    usually get CPU time information. On systems returning more information\n",
      "    with the rusage() system call, you will also get information about memory\n",
      "    consumption.\n",
      "\n",
      "  --select-strategy=<arg>\n",
      "    Select one of the built-in strategies and set all proof search parameters\n",
      "    accordingly.\n",
      "\n",
      "  --print-strategy[=<arg>]\n",
      "    Print a representation of all search parameters and their setting of a\n",
      "    given strategy, then terminate. If no argument is given, the current\n",
      "    strategy is printed. Use the reserved name '>all-strats<'to get a\n",
      "    description of all built-in strategies,  '>all-names<' to get a list of\n",
      "    all names of strategies. The option without the optional argument is\n",
      "    equivalent to --print-strategy=>current-strategy<.\n",
      "\n",
      "  --parse-strategy=<arg>\n",
      "    Parse the previously printed representation of strategy and set all proof\n",
      "    search parameters accordingly.\n",
      "\n",
      "   -C <arg>\n",
      "  --processed-clauses-limit=<arg>\n",
      "    Set the maximal number of clauses to process (i.e. the number of\n",
      "    traversals of the main-loop).\n",
      "\n",
      "   -P <arg>\n",
      "  --processed-set-limit=<arg>\n",
      "    Set the maximal size of the set of processed clauses. This differs from\n",
      "    the previous option in that redundant and back-simplified processed\n",
      "    clauses are not counted.\n",
      "\n",
      "   -U <arg>\n",
      "  --unprocessed-limit=<arg>\n",
      "    Set the maximal size of the set of unprocessed clauses. This is a\n",
      "    termination condition, not something to use to control the deletion of\n",
      "    bad clauses. Compare --delete-bad-limit.\n",
      "\n",
      "   -T <arg>\n",
      "  --total-clause-set-limit=<arg>\n",
      "    Set the maximal size of the set of all clauses. See previous option.\n",
      "\n",
      "  --generated-limit=<arg>\n",
      "    Set the maximal number of generated clauses before the proof search\n",
      "    stops. This is a reasonable (though not great) estimate of the work done.\n",
      "\n",
      "  --tb-insert-limit=<arg>\n",
      "    Set the maximal number of of term bank term top insertions. This is a\n",
      "    reasonable (though not great) estimate of the work done.\n",
      "\n",
      "  --answers[=<arg>]\n",
      "    Set the maximal number of answers to print for existentially quantified\n",
      "    questions. Without this option, the prover terminates after the first\n",
      "    answer found. If the value is different from 1, the prover is no longer\n",
      "    guaranteed to terminate, even if there is a finite number of answers. The\n",
      "    option without the optional argument is equivalent to\n",
      "    --answers=2147483647.\n",
      "\n",
      "  --conjectures-are-questions\n",
      "    Treat all conjectures as questions to be answered. This is a wart\n",
      "    necessary because CASC-J6 has categories requiring answers, but does not\n",
      "    yet support the 'question' type for formulas.\n",
      "\n",
      "   -n\n",
      "  --eqn-no-infix\n",
      "    In LOP, print equations in prefix notation equal(x,y).\n",
      "\n",
      "   -e\n",
      "  --full-equational-rep\n",
      "    In LOP. print all literals as equations, even non-equational ones.\n",
      "\n",
      "  --lop-in\n",
      "    Set E-LOP as the input format. If no input format is selected by this or\n",
      "    one of the following options, E will guess the input format based on the\n",
      "    first token. It will almost always correctly recognize TPTP-3, but it may\n",
      "    misidentify E-LOP files that use TPTP meta-identifiers as logical\n",
      "    symbols.\n",
      "\n",
      "  --pcl-out\n",
      "    Set PCL as the proof object output format.\n",
      "\n",
      "  --tptp-in\n",
      "    Set TPTP-2 as the input format (but note that includes are still handled\n",
      "    according to TPTP-3 semantics).\n",
      "\n",
      "  --tptp-out\n",
      "    Print TPTP format instead of E-LOP. Implies --eqn-no-infix and will\n",
      "    ignore --full-equational-rep.\n",
      "\n",
      "  --tptp-format\n",
      "    Equivalent to --tptp-in and --tptp-out.\n",
      "\n",
      "  --tptp2-in\n",
      "    Synonymous with --tptp-in.\n",
      "\n",
      "  --tptp2-out\n",
      "    Synonymous with --tptp-out.\n",
      "\n",
      "  --tptp2-format\n",
      "    Synonymous with --tptp-format.\n",
      "\n",
      "  --tstp-in\n",
      "    Set TPTP-3 as the input format TPTP-3 syntax is still under development,\n",
      "    and any given version in E may not be fully conforming at all times. E\n",
      "    works on all TPTP 8.2.0 FOF and CNF files (including includes).\n",
      "\n",
      "  --tstp-out\n",
      "    Print output clauses in TPTP-3 syntax. In particular, for output levels\n",
      "    >=2, write derivations as TPTP-3 derivations.\n",
      "\n",
      "  --tstp-format\n",
      "    Equivalent to --tstp-in and --tstp-out.\n",
      "\n",
      "  --tptp3-in\n",
      "    Synonymous with --tstp-in.\n",
      "\n",
      "  --tptp3-out\n",
      "    Synonymous with --tstp-out.\n",
      "\n",
      "  --tptp3-format\n",
      "    Synonymous with --tstp-format.\n",
      "\n",
      "  --auto\n",
      "    Automatically determine settings for proof search.\n",
      "\n",
      "  --auto-schedule[=<arg>]\n",
      "    Use the (experimental) strategy scheduling. This will try several\n",
      "    different fully specified search strategies (aka \"Auto-Modes\"), one after\n",
      "    the other, until a proof or saturation is found, or the time limit is\n",
      "    exceeded. The optional argument is the number of CPUs on which the\n",
      "    schedule is going to be executed on. By default, the schedule is executed\n",
      "    on a single core. To execute on all cores of a system, set the argument\n",
      "    to 'Auto', but note that this will use all reported cores (even\n",
      "    low-performance efficiency cores, if available on the hardware platform\n",
      "    and reported by the OS). The option without the optional argument is\n",
      "    equivalent to --auto-schedule=1.\n",
      "\n",
      "  --force-preproc-sched=<arg>\n",
      "    When autoscheduling is used, make sure that preprocessing schedule is\n",
      "    inserted in the search categories\n",
      "\n",
      "  --serialize-schedule=<arg>\n",
      "    Convert parallel auto-schedule into serialized one.\n",
      "\n",
      "  --satauto-schedule[=<arg>]\n",
      "    Use strategy scheduling without SInE, thus maintaining completeness. The\n",
      "    option without the optional argument is equivalent to\n",
      "    --satauto-schedule=1.\n",
      "\n",
      "  --no-preprocessing\n",
      "    Do not perform preprocessing on the initial clause set. Preprocessing\n",
      "    currently removes tautologies and orders terms, literals and clauses in a\n",
      "    certain (\"canonical\") way before anything else happens. Unless limited by\n",
      "    one of the following options, it will also unfold equational definitions.\n",
      "\n",
      "  --eq-unfold-limit=<arg>\n",
      "    During preprocessing, limit unfolding (and removing) of equational\n",
      "    definitions to those where the expanded definition is at most the given\n",
      "    limit bigger (in terms of standard weight) than the defined term.\n",
      "\n",
      "  --eq-unfold-maxclauses=<arg>\n",
      "    During preprocessing, don't try unfolding of equational definitions if\n",
      "    the problem has more than this limit of clauses.\n",
      "\n",
      "  --no-eq-unfolding\n",
      "    During preprocessing, abstain from unfolding (and removing) equational\n",
      "    definitions.\n",
      "\n",
      "  --goal-defs[=<arg>]\n",
      "    Introduce Twee-style equational definitions for ground terms in\n",
      "    conjecture clauses. The argument can be None, All or Neg, which will only\n",
      "    consider ground terms from negative literals in the CNF (to be\n",
      "    implemented). The option without the optional argument is equivalent to\n",
      "    --goal-defs=All.\n",
      "\n",
      "  --goal-subterm-defs\n",
      "    Introduce goal definitions for all conjecture ground subterms. The\n",
      "    default is to only introduce them for the maximal (with respect to the\n",
      "    subterm relation) ground terms in conjecture clauses (to be implemented).\n",
      "\n",
      "  --sine[=<arg>]\n",
      "    Apply SInE to prune the unprocessed axioms with the specified filter.\n",
      "    'Auto' will automatically pick a filter. The option without the optional\n",
      "    argument is equivalent to --sine=Auto.\n",
      "\n",
      "  --rel-pruning-level[=<arg>]\n",
      "    Perform relevancy pruning up to the given level on the unprocessed\n",
      "    axioms. The option without the optional argument is equivalent to\n",
      "    --rel-pruning-level=3.\n",
      "\n",
      "  --presat-simplify[=<arg>]\n",
      "    Before proper saturation do a complete interreduction of the proof state.\n",
      "    The option without the optional argument is equivalent to\n",
      "    --presat-simplify=true.\n",
      "\n",
      "  --ac-handling[=<arg>]\n",
      "    Select AC handling mode, i.e. determine what to do with redundant AC\n",
      "    tautologies. The default is equivalent to 'DiscardAll', the other\n",
      "    possible values are 'None' (to disable AC handling), 'KeepUnits', and\n",
      "    'KeepOrientable'. The option without the optional argument is equivalent\n",
      "    to --ac-handling=KeepUnits.\n",
      "\n",
      "  --ac-non-aggressive\n",
      "    Do AC resolution on negative literals only on processing (by default, AC\n",
      "    resolution is done after clause creation). Only effective if AC handling\n",
      "    is not disabled.\n",
      "\n",
      "   -W <arg>\n",
      "  --literal-selection-strategy=<arg>\n",
      "    Choose a strategy for selection of negative literals. There are two\n",
      "    special values for this option: NoSelection will select no literal (i.e.\n",
      "    perform normal superposition) and NoGeneration will inhibit all\n",
      "    generating inferences. For a list of the other (hopefully\n",
      "    self-documenting) values run 'eprover -W none'. There are two variants of\n",
      "    each strategy. The one prefixed with 'P' will allow paramodulation into\n",
      "    maximal positive literals in addition to paramodulation into maximal\n",
      "    selected negative literals.\n",
      "\n",
      "  --no-generation\n",
      "    Don't perform any generating inferences (equivalent to\n",
      "    --literal-selection-strategy=NoGeneration).\n",
      "\n",
      "  --select-on-processing-only\n",
      "    Perform literal selection at processing time only (i.e. select only in\n",
      "    the _given clause_), not before clause evaluation. This is relevant\n",
      "    because many clause selection heuristics give special consideration to\n",
      "    maximal or selected literals.\n",
      "\n",
      "   -i\n",
      "  --inherit-paramod-literals\n",
      "    Always select the negative literals a previous inference paramodulated\n",
      "    into (if possible). If no such literal exists, select as dictated by the\n",
      "    selection strategy.\n",
      "\n",
      "   -j\n",
      "  --inherit-goal-pm-literals\n",
      "    In a goal (all negative clause), always select the negative literals a\n",
      "    previous inference paramodulated into (if possible). If no such literal\n",
      "    exists, select as dictated by the selection strategy.\n",
      "\n",
      "  --inherit-conjecture-pm-literals\n",
      "    In a conjecture-derived clause, always select the negative literals a\n",
      "    previous inference paramodulated into (if possible). If no such literal\n",
      "    exists, select as dictated by the selection strategy.\n",
      "\n",
      "  --selection-pos-min=<arg>\n",
      "    Set a lower limit for the number of positive literals a clause must have\n",
      "    to be eligible for literal selection.\n",
      "\n",
      "  --selection-pos-max=<arg>\n",
      "    Set a upper limit for the number of positive literals a clause can have\n",
      "    to be eligible for literal selection.\n",
      "\n",
      "  --selection-neg-min=<arg>\n",
      "    Set a lower limit for the number of negative literals a clause must have\n",
      "    to be eligible for literal selection.\n",
      "\n",
      "  --selection-neg-max=<arg>\n",
      "    Set a upper limit for the number of negative literals a clause can have\n",
      "    to be eligible for literal selection.\n",
      "\n",
      "  --selection-all-min=<arg>\n",
      "    Set a lower limit for the number of literals a clause must have to be\n",
      "    eligible for literal selection.\n",
      "\n",
      "  --selection-all-max=<arg>\n",
      "    Set an upper limit for the number of literals a clause must have to be\n",
      "    eligible for literal selection.\n",
      "\n",
      "  --selection-weight-min=<arg>\n",
      "    Set the minimum weight a clause must have to be eligible for literal\n",
      "    selection.\n",
      "\n",
      "  --prefer-initial-clauses\n",
      "    Always process all initial clauses first.\n",
      "\n",
      "   -x <arg>\n",
      "  --expert-heuristic=<arg>\n",
      "    Select one of the clause selection heuristics. Currently at least\n",
      "    available: Auto, Weight, StandardWeight, RWeight, FIFO, LIFO, Uniq,\n",
      "    UseWatchlist. For a full list check HEURISTICS/che_proofcontrol.c. Auto\n",
      "    is recommended if you only want to find a proof. It is special in that it\n",
      "    will also set some additional options. To have optimal performance, you\n",
      "    also should specify -tAuto to select a good term ordering. LIFO is unfair\n",
      "    and will make the prover incomplete. Uniq is used internally and is not\n",
      "    very useful in most cases. You can define more heuristics using the\n",
      "    option -H (see below).\n",
      "\n",
      "  --filter-orphans-limit[=<arg>]\n",
      "    Orphans are unprocessed clauses where one of the parents has been removed\n",
      "    by back-simolification. They are redundant and usually removed lazily\n",
      "    (i.e. only when they are selected for processing). With this option you\n",
      "    can select a limit on back-simplified clauses  after which orphans will\n",
      "    be eagerly deleted. The option without the optional argument is\n",
      "    equivalent to --filter-orphans-limit=100.\n",
      "\n",
      "  --forward-contract-limit[=<arg>]\n",
      "    Set a limit on the number of processed clauses after which the\n",
      "    unprocessed clause set will be re-simplified and reweighted.  The option\n",
      "    without the optional argument is equivalent to\n",
      "    --forward-contract-limit=80000.\n",
      "\n",
      "  --delete-bad-limit[=<arg>]\n",
      "    Set the number of storage units after which bad clauses are deleted\n",
      "    without further consideration. This causes the prover to be potentially\n",
      "    incomplete, but will allow you to limit the maximum amount of memory used\n",
      "    fairly well. The prover will tell you if a proof attempt failed due to\n",
      "    the incompleteness introduced by this option. It is recommended to set\n",
      "    this limit significantly higher than --filter-limit or\n",
      "    --filter-copies-limit. If you select -xAuto and set a memory limit, the\n",
      "    prover will determine a good value automatically. The option without the\n",
      "    optional argument is equivalent to --delete-bad-limit=1500000.\n",
      "\n",
      "  --assume-completeness\n",
      "    There are various way (e.g. the next few options) to configure the prover\n",
      "    to be strongly incomplete in the general case. E will detect when such an\n",
      "    option is selected and return corresponding exit states (i.e. it will not\n",
      "    claim satisfiability just because it ran out of unprocessed clauses). If\n",
      "    you _know_ that for your class of problems the selected strategy is still\n",
      "    complete, use this option to tell the system that this is the case.\n",
      "\n",
      "  --assume-incompleteness\n",
      "    This option instructs the prover to assume incompleteness (typically\n",
      "    because the axiomatization already is incomplete because axioms have been\n",
      "    filtered before they are handed to the system.\n",
      "\n",
      "  --disable-eq-factoring\n",
      "    Disable equality factoring. This makes the prover incomplete for general\n",
      "    non-Horn problems, but helps for some specialized classes. It is not\n",
      "    necessary to disable equality factoring for Horn problems, as Horn\n",
      "    clauses are not factored anyways.\n",
      "\n",
      "  --disable-paramod-into-neg-units\n",
      "    Disable paramodulation into negative unit clause. This makes the prover\n",
      "    incomplete in the general case, but helps for some specialized classes.\n",
      "\n",
      "  --condense\n",
      "    Enable condensing for the given clause. Condensing replaces a clause by a\n",
      "    more general factor (if such a factor exists).\n",
      "\n",
      "  --condense-aggressive\n",
      "    Enable condensing for the given and newly generated clauses.\n",
      "\n",
      "  --disable-given-clause-fw-contraction\n",
      "    Disable simplification and subsumption of the newly selected given clause\n",
      "    (clauses are still simplified when they are generated). In general, this\n",
      "    breaks some basic assumptions of the DISCOUNT loop proof search\n",
      "    procedure. However, there are some problem classes in which  this\n",
      "    simplifications empirically never occurs. In such cases, we can save\n",
      "    significant overhead. The option _should_ work in all cases, but is not\n",
      "    expected to improve things in most cases.\n",
      "\n",
      "  --simul-paramod\n",
      "    Use simultaneous paramodulation to implement superposition. Default is to\n",
      "    use plain paramodulation.\n",
      "\n",
      "  --oriented-simul-paramod\n",
      "    Use simultaneous paramodulation for oriented from-literals. This is an\n",
      "    experimental feature.\n",
      "\n",
      "  --supersimul-paramod\n",
      "    Use supersimultaneous paramodulation to implement superposition. Default\n",
      "    is to use plain paramodulation.\n",
      "\n",
      "  --oriented-supersimul-paramod\n",
      "    Use supersimultaneous paramodulation for oriented from-literals. This is\n",
      "    an experimental feature.\n",
      "\n",
      "  --split-clauses[=<arg>]\n",
      "    Determine which clauses should be subject to splitting. The argument is\n",
      "    the binary 'OR' of values for the desired classes:\n",
      "         1:  Horn clauses\n",
      "         2:  Non-Horn clauses\n",
      "         4:  Negative clauses\n",
      "         8:  Positive clauses\n",
      "        16:  Clauses with both positive and negative literals\n",
      "    Each set bit adds that class to the set of clauses which will be split.\n",
      "    The option without the optional argument is equivalent to\n",
      "    --split-clauses=7.\n",
      "\n",
      "  --split-method=<arg>\n",
      "    Determine how to treat ground literals in splitting. The argument is\n",
      "    either '0' to denote no splitting of ground literals (they are all\n",
      "    assigned to the first split clause produced), '1' to denote that all\n",
      "    ground literals should form a single new clause, or '2', in which case\n",
      "    ground literals are treated as usual and are all split off into\n",
      "    individual clauses.\n",
      "\n",
      "  --split-aggressive\n",
      "    Apply splitting to new clauses (after simplification) and before\n",
      "    evaluation. By default, splitting (if activated) is only performed on\n",
      "    selected clauses. \n",
      "\n",
      "  --split-reuse-defs\n",
      "    If possible, reuse previous definitions for splitting.\n",
      "\n",
      "  --disequality-decomposition[=<arg>]\n",
      "    Enable the disequality decomposition inference. The optional argument is\n",
      "    the maximal literal number of clauses considered for the inference. The\n",
      "    option without the optional argument is equivalent to\n",
      "    --disequality-decomposition=1024.\n",
      "\n",
      "  --disequality-decomp-maxarity[=<arg>]\n",
      "    Limit disequality decomposition to function symbols of at most the given\n",
      "    arity. The option without the optional argument is equivalent to\n",
      "    --disequality-decomp-maxarity=1.\n",
      "\n",
      "   -t <arg>\n",
      "  --term-ordering=<arg>\n",
      "    Select an ordering type (currently Auto, LPO, LPO4, KBO or KBO6). -tAuto\n",
      "    is suggested, in particular with -xAuto. KBO and KBO6 are different\n",
      "    implementations of the same ordering, KBO6 is usually faster and has had\n",
      "    more testing. Similarly, LPO4 is a new, equivalent but superior\n",
      "    implementation of LPO.\n",
      "\n",
      "   -w <arg>\n",
      "  --order-weight-generation=<arg>\n",
      "    Select a method for the generation of weights for use with the term\n",
      "    ordering. Run 'eprover -w none' for a list of options.\n",
      "\n",
      "  --order-weights=<arg>\n",
      "    Describe a (partial) assignments of weights to function symbols for term\n",
      "    orderings (in particular, KBO). You can specify a list of weights of the\n",
      "    form 'f1:w1,f2:w2, ...'. Since a total weight assignment is needed, E\n",
      "    will _first_ apply any weight generation scheme specified (or the default\n",
      "    one), and then modify the weights as specified. Note that E performs only\n",
      "    very basic sanity checks, so you probably can specify weights that break\n",
      "    KBO constraints.\n",
      "\n",
      "   -G <arg>\n",
      "  --order-precedence-generation=<arg>\n",
      "    Select a method for the generation of a precedence for use with the term\n",
      "    ordering. Run 'eprover -G none' for a list of options.\n",
      "\n",
      "  --prec-pure-conj[=<arg>]\n",
      "    Set a weight for symbols that occur in conjectures only to determinewhere\n",
      "    to place it in the precedence. This value is used for a roughpre-order,\n",
      "    the normal schemes only sort within symbols with the sameoccurrence\n",
      "    modifier. The option without the optional argument is equivalent to\n",
      "    --prec-pure-conj=10.\n",
      "\n",
      "  --prec-conj-axiom[=<arg>]\n",
      "    Set a weight for symbols that occur in both conjectures and axiomsto\n",
      "    determine where to place it in the precedence. This value is used for a\n",
      "    rough pre-order, the normal schemes only sort within symbols with the\n",
      "    same occurrence modifier. The option without the optional argument is\n",
      "    equivalent to --prec-conj-axiom=5.\n",
      "\n",
      "  --prec-pure-axiom[=<arg>]\n",
      "    Set a weight for symbols that occur in axioms only to determine where to\n",
      "    place it in the precedence. This value is used for a rough pre-order, the\n",
      "    normal schemes only sort within symbols with the same occurrence\n",
      "    modifier. The option without the optional argument is equivalent to\n",
      "    --prec-pure-axiom=2.\n",
      "\n",
      "  --prec-skolem[=<arg>]\n",
      "    Set a weight for Skolem symbols to determine where to place it in the\n",
      "    precedence. This value is used for a rough pre-order, the normal schemes\n",
      "    only sort within symbols with the same occurrence modifier. The option\n",
      "    without the optional argument is equivalent to --prec-skolem=2.\n",
      "\n",
      "  --prec-defpred[=<arg>]\n",
      "    Set a weight for introduced predicate symbols (usually via definitional\n",
      "    CNF or clause splitting) to determine where to place it in the\n",
      "    precedence. This value is used for a rough pre-order, the normal schemes\n",
      "    only sort within symbols with the same occurrence modifier. The option\n",
      "    without the optional argument is equivalent to --prec-defpred=2.\n",
      "\n",
      "   -c <arg>\n",
      "  --order-constant-weight=<arg>\n",
      "    Set a special weight > 0 for constants in the term ordering. By default,\n",
      "    constants are treated like other function symbols.\n",
      "\n",
      "  --precedence[=<arg>]\n",
      "    Describe a (partial) precedence for the term ordering used for the proof\n",
      "    attempt. You can specify a comma-separated list of precedence chains,\n",
      "    where a precedence chain is a list of function symbols (which all have to\n",
      "    appear in the proof problem), connected by >, <, or =. If this option is\n",
      "    used in connection with --order-precedence-generation, the partial\n",
      "    ordering will be completed using the selected method, otherwise the\n",
      "    prover runs with a non-ground-total ordering. The option without the\n",
      "    optional argument is equivalent to --precedence=.\n",
      "\n",
      "  --lpo-recursion-limit[=<arg>]\n",
      "    Set a depth limit for LPO comparisons. Most comparisons do not need more\n",
      "    than 10 or 20 levels of recursion. By default, recursion depth is limited\n",
      "    to 1000 to avoid stack overflow problems. If the limit is reached, the\n",
      "    prover assumes that the terms are uncomparable. Smaller values make the\n",
      "    comparison attempts faster, but less exact. Larger values have the\n",
      "    opposite effect. Values up to 20000 should be save on most operating\n",
      "    systems. If you run into segmentation faults while using LPO or LPO4,\n",
      "    first try to set this limit to a reasonable value. If the problem\n",
      "    persists, send a bug report ;-) The option without the optional argument\n",
      "    is equivalent to --lpo-recursion-limit=100.\n",
      "\n",
      "  --restrict-literal-comparisons\n",
      "    Make all literals uncomparable in the term ordering (i.e. do not use the\n",
      "    term ordering to restrict paramodulation, equality resolution and\n",
      "    factoring to certain literals. This is necessary to make\n",
      "    Set-of-Support-strategies complete for the non-equational case (It still\n",
      "    is incomplete for the equational case, but pretty useless anyways).\n",
      "\n",
      "  --literal-comparison=<arg>\n",
      "    Modify how literal comparisons are done. 'None' is equivalent to the\n",
      "    previous option, 'Normal' uses the normal lifting of the term ordering,\n",
      "    'TFOEqMax' uses the equivalent of a transfinite ordering deciding on the\n",
      "    predicate symbol and making equational literals maximal (note that this\n",
      "    setting makes the prover incomplere), and 'TFOEqMin' modifies this by\n",
      "    making equational symbols minimal.\n",
      "\n",
      "  --sos-uses-input-types\n",
      "    If input is TPTP format, use TPTP conjectures for initializing the Set of\n",
      "    Support. If not in TPTP format, use E-LOP queries (clauses of the form\n",
      "    ?-l(X),...,m(Y)). Normally, all negative clauses are used. Please note\n",
      "    that most E heuristics do not use this information at all, it is\n",
      "    currently only useful for certain parameter settings (including the\n",
      "    SimulateSOS priority function).\n",
      "\n",
      "  --destructive-er\n",
      "    Allow destructive equality resolution inferences on pure-variable\n",
      "    literals of the form X!=Y, i.e. replace the original clause with the\n",
      "    result of an equality resolution inference on this literal.\n",
      "\n",
      "  --strong-destructive-er\n",
      "    Allow destructive equality resolution inferences on literals of the form\n",
      "    X!=t (where X does not occur in t), i.e. replace the original clause with\n",
      "    the result of an equality resolution inference on this literal. Unless I\n",
      "    am brain-dead, this maintains completeness, although the proof is rather\n",
      "    tricky.\n",
      "\n",
      "  --destructive-er-aggressive\n",
      "    Apply destructive equality resolution to all newly generated clauses, not\n",
      "    just to selected clauses. Implies --destructive-er.\n",
      "\n",
      "  --forward-context-sr\n",
      "    Apply contextual simplify-reflect with processed clauses to the given\n",
      "    clause.\n",
      "\n",
      "  --forward-context-sr-aggressive\n",
      "    Apply contextual simplify-reflect with processed clauses to new clauses.\n",
      "    Implies --forward-context-sr.\n",
      "\n",
      "  --backward-context-sr\n",
      "    Apply contextual simplify-reflect with the given clause to processed\n",
      "    clauses.\n",
      "\n",
      "   -g\n",
      "  --prefer-general-demodulators\n",
      "    Prefer general demodulators. By default, E prefers specialized\n",
      "    demodulators. This affects in which order the rewrite  index is\n",
      "    traversed.\n",
      "\n",
      "   -F <arg>\n",
      "  --forward-demod-level=<arg>\n",
      "    Set the desired level for rewriting of unprocessed clauses. A value of 0\n",
      "    means no rewriting, 1 indicates to use rules (orientable equations) only,\n",
      "    2 indicates full rewriting with rules and instances of unorientable\n",
      "    equations. Default behavior is 2.\n",
      "\n",
      "  --demod-under-lambda=<arg>\n",
      "    Demodulate *closed* subterms under lambdas.\n",
      "\n",
      "  --strong-rw-inst\n",
      "    Instantiate unbound variables in matching potential demodulators with a\n",
      "    small constant terms.\n",
      "\n",
      "   -u\n",
      "  --strong-forward-subsumption\n",
      "    Try multiple positions and unit-equations to try to equationally subsume\n",
      "    a single new clause. Default is to search for a single position.\n",
      "\n",
      "  --satcheck-proc-interval[=<arg>]\n",
      "    Enable periodic SAT checking at the given interval of main loop\n",
      "    non-trivial processed clauses. The option without the optional argument\n",
      "    is equivalent to --satcheck-proc-interval=5000.\n",
      "\n",
      "  --satcheck-gen-interval[=<arg>]\n",
      "    Enable periodic SAT checking whenever the total proof state size\n",
      "    increases by the given limit. The option without the optional argument is\n",
      "    equivalent to --satcheck-gen-interval=10000.\n",
      "\n",
      "  --satcheck-ttinsert-interval[=<arg>]\n",
      "    Enable periodic SAT checking whenever the number of term tops insertions\n",
      "    matches the given limit (which grows exponentially). The option without\n",
      "    the optional argument is equivalent to\n",
      "    --satcheck-ttinsert-interval=5000000.\n",
      "\n",
      "  --satcheck[=<arg>]\n",
      "    Set the grounding strategy for periodic SAT checking. Note that to enable\n",
      "    SAT checking, it is also necessary to set the interval with one of the\n",
      "    previous two options. The option without the optional argument is\n",
      "    equivalent to --satcheck=FirstConst.\n",
      "\n",
      "  --satcheck-decision-limit[=<arg>]\n",
      "    Set the number of decisions allowed for each run of the SAT solver. If\n",
      "    the option is not given, the built-in value is 10000. Use -1 to allow\n",
      "    unlimited decision. The option without the optional argument is\n",
      "    equivalent to --satcheck-decision-limit=100.\n",
      "\n",
      "  --satcheck-normalize-const\n",
      "    Use the current normal form (as recorded in the termbank rewrite cache)\n",
      "    of the selected constant as the term for the grounding substitution.\n",
      "\n",
      "  --satcheck-normalize-unproc\n",
      "    Enable re-simplification (heuristic re-revaluation) of unprocessed\n",
      "    clauses before grounding for SAT checking.\n",
      "\n",
      "  --watchlist[=<arg>]\n",
      "    Give the name for a file containing clauses to be watched for during the\n",
      "    saturation process. If a clause is generated that subsumes a watchlist\n",
      "    clause, the subsumed clause is removed from the watchlist. The prover\n",
      "    will terminate when the watchlist is empty. If you want to use the\n",
      "    watchlist for guiding the proof, put the empty clause onto the list and\n",
      "    use the built-in clause selection heuristic 'UseWatchlist' (or build a\n",
      "    heuristic yourself using the priority functions 'PreferWatchlist' and\n",
      "    'DeferWatchlist'). Use the argument 'Use inline watchlist type' (or no\n",
      "    argument) and the special clause type 'watchlist' if you want to put\n",
      "    watchlist clauses into the normal input stream. This is only supported\n",
      "    for TPTP input formats. The option without the optional argument is\n",
      "    equivalent to --watchlist='Use inline watchlist type'.\n",
      "\n",
      "  --static-watchlist[=<arg>]\n",
      "    This is identical to the previous option, but subsumed clauses willnot be\n",
      "    removed from the watchlist (and hence the prover will not terminate if\n",
      "    all watchlist clauses have been subsumed. This may be more useful for\n",
      "    heuristic guidance. The option without the optional argument is\n",
      "    equivalent to --static-watchlist='Use inline watchlist type'.\n",
      "\n",
      "  --no-watchlist-simplification\n",
      "    By default, the watchlist is brought into normal form with respect to the\n",
      "    current processed clause set and certain simplifications. This option\n",
      "    disables simplification for the watchlist.\n",
      "\n",
      "  --fw-subsumption-aggressive\n",
      "    Perform forward subsumption on newly generated clauses before they are\n",
      "    evaluated. This is particularly useful if heuristic evaluation is very\n",
      "    expensive, e.g. via externally connected neural networks.\n",
      "\n",
      "  --conventional-subsumption\n",
      "    Equivalent to --subsumption-indexing=None.\n",
      "\n",
      "  --subsumption-indexing=<arg>\n",
      "    Determine choice of indexing for (most) subsumption operations. Choices\n",
      "    are 'None' for naive subsumption, 'Direct' for direct mapped FV-Indexing,\n",
      "    'Perm' for permuted FV-Indexing and 'PermOpt' for permuted FV-Indexing\n",
      "    with deletion of (suspected) non-informative features. Default behaviour\n",
      "    is 'Perm'.\n",
      "\n",
      "  --fvindex-featuretypes=<arg>\n",
      "    Select the feature types used for indexing. Choices are \"None\" to disable\n",
      "    FV-indexing, \"AC\" for AC compatible features (the default) (literal\n",
      "    number and symbol counts), \"SS\" for set subsumption compatible features\n",
      "    (symbol depth), and \"All\" for all features.Unless you want to measure the\n",
      "    effects of the different features, I suggest you stick with the default.\n",
      "\n",
      "  --fvindex-maxfeatures[=<arg>]\n",
      "    Set the maximum initial number of symbols for feature computation.\n",
      "    Depending on the feature selection, a value of X here will convert into\n",
      "    2X+2 features (for set subsumption features), 2X+4 features (for\n",
      "    AC-compatible features) or 4X+6 features (if all features are used, the\n",
      "    default). Note that the actually used set of features may be smaller than\n",
      "    this if the signature does not contain enough symbols.For the Perm and\n",
      "    PermOpt version, this is _also_ used to set the maximum depth of the\n",
      "    feature vector index. Yes, I should probably make this into two separate\n",
      "    options. If you select a small value here, you should probably not use\n",
      "    \"Direct\" for the --subsumption-indexing option. The option without the\n",
      "    optional argument is equivalent to --fvindex-maxfeatures=200.\n",
      "\n",
      "  --fvindex-slack[=<arg>]\n",
      "    Set the number of slots reserved in the index for function symbols that\n",
      "    may be introduced into the signature later, e.g. by splitting. If no new\n",
      "    symbols are introduced, this just wastes time and memory. If PermOpt is\n",
      "    chosen, the slackness slots will be deleted from the index anyways, but\n",
      "    will still waste (a little) time in computing feature vectors. The option\n",
      "    without the optional argument is equivalent to --fvindex-slack=0.\n",
      "\n",
      "  --rw-bw-index[=<arg>]\n",
      "    Select fingerprint function for backwards rewrite index. \"NoIndex\" will\n",
      "    disable paramodulation indexing. For a list of the other values run\n",
      "    'eprover --pm-index=none'. FPX functions will use a fingerprint of X\n",
      "    positions, the letters disambiguate between different fingerprints with\n",
      "    the same sample size. The option without the optional argument is\n",
      "    equivalent to --rw-bw-index=FP7.\n",
      "\n",
      "  --pm-from-index[=<arg>]\n",
      "    Select fingerprint function for the index for paramodulation from indexed\n",
      "    clauses. \"NoIndex\" will disable paramodulation indexing. For a list of\n",
      "    the other values run 'eprover --pm-index=none'. FPX functionswill use a\n",
      "    fingerprint of X positions, the letters disambiguate between different\n",
      "    fingerprints with the same sample size. The option without the optional\n",
      "    argument is equivalent to --pm-from-index=FP7.\n",
      "\n",
      "  --pm-into-index[=<arg>]\n",
      "    Select fingerprint function for the index for paramodulation into the\n",
      "    indexed clauses. \"NoIndex\" will disable paramodulation indexing. For a\n",
      "    list of the other values run 'eprover --pm-index=none'. FPX functionswill\n",
      "    use a fingerprint of X positions, the letters disambiguate between\n",
      "    different fingerprints with the same sample size. The option without the\n",
      "    optional argument is equivalent to --pm-into-index=FP7.\n",
      "\n",
      "  --fp-index[=<arg>]\n",
      "    Select fingerprint function for all fingerprint indices. See above. The\n",
      "    option without the optional argument is equivalent to --fp-index=FP7.\n",
      "\n",
      "  --fp-no-size-constr\n",
      "    Disable usage of size constraints for matching with fingerprint indexing.\n",
      "\n",
      "  --pdt-no-size-constr\n",
      "    Disable usage of size constraints for matching with perfect\n",
      "    discrimination trees indexing.\n",
      "\n",
      "  --pdt-no-age-constr\n",
      "    Disable usage of age constraints for matching with perfect discrimination\n",
      "    trees indexing.\n",
      "\n",
      "  --detsort-rw\n",
      "    Sort set of clauses eliminated by backward rewriting using a total\n",
      "    syntactic ordering.\n",
      "\n",
      "  --detsort-new\n",
      "    Sort set of newly generated and backward simplified clauses using a total\n",
      "    syntactic ordering.\n",
      "\n",
      "   -D <arg>\n",
      "  --define-weight-function=<arg>\n",
      "    Define  a weight function (see manual for details). Later definitions\n",
      "    override previous definitions.\n",
      "\n",
      "   -H <arg>\n",
      "  --define-heuristic=<arg>\n",
      "    Define a clause selection heuristic (see manual for details). Later\n",
      "    definitions override previous definitions.\n",
      "\n",
      "  --free-numbers\n",
      "    Treat numbers (strings of decimal digits) as normal free function symbols\n",
      "    in the input. By default, number now are supposed to denote domain\n",
      "    constants and to be implicitly different from each other.\n",
      "\n",
      "  --free-objects\n",
      "    Treat object identifiers (strings in double quotes) as normal free\n",
      "    function symbols in the input. By default, object identifiers now\n",
      "    represent domain objects and are implicitly different from each other\n",
      "    (and from numbers, unless those are declared to be free).\n",
      "\n",
      "  --definitional-cnf[=<arg>]\n",
      "    Tune the clausification algorithm to introduces definitions for\n",
      "    subformulae to avoid exponential blow-up. The optional argument is a\n",
      "    fudge factor that determines when definitions are introduced. 0 disables\n",
      "    definitions completely. The default works well. The option without the\n",
      "    optional argument is equivalent to --definitional-cnf=24.\n",
      "\n",
      "  --fool-unroll=<arg>\n",
      "    Enable or disable FOOL unrolling. Useful for some SH problems.\n",
      "\n",
      "  --miniscope-limit[=<arg>]\n",
      "    Set the limit of sub-formula-size to miniscope. The build-indefault is\n",
      "    256. Only applies to the new (default) clausification algorithm The\n",
      "    option without the optional argument is equivalent to\n",
      "    --miniscope-limit=2147483648.\n",
      "\n",
      "  --print-types\n",
      "    Print the type of every term. Useful for debugging purposes.\n",
      "\n",
      "  --app-encode\n",
      "    Encodes terms in the proof state using applicative encoding, prints\n",
      "    encoded input problem and exits.\n",
      "\n",
      "  --arg-cong=<arg>\n",
      "    Turns on ArgCong inference rule. Excepts an argument \"all\" or \"max\" that\n",
      "    applies the rule to all or only literals that are eligible for\n",
      "    resolution.\n",
      "\n",
      "  --neg-ext=<arg>\n",
      "    Turns on NegExt inference rule. Excepts an argument \"all\" or \"max\" that\n",
      "    applies the rule to all or only literals that are eligible for\n",
      "    resolution.\n",
      "\n",
      "  --pos-ext=<arg>\n",
      "    Turns on PosExt inference rule. Excepts an argument \"all\" or \"max\" that\n",
      "    applies the rule to all or only literals that are eligible for\n",
      "    resolution.\n",
      "\n",
      "  --ext-sup-max-depth=<arg>\n",
      "    Sets the maximal proof depth of the clause which will be considered for \n",
      "    Ext-family of inferences. Negative value disables the rule.\n",
      "\n",
      "  --inverse-recognition\n",
      "    Enables the recognition of injective function symbols. If such a symbol\n",
      "    is recognized, existence of the inverse function is asserted by adding a\n",
      "    corresponding axiom.\n",
      "\n",
      "  --replace-inj-defs\n",
      "    After CNF and before saturation, replaces all clauses that are\n",
      "    definitions  of injectivity by axiomatization of inverse function.\n",
      "\n",
      "  --lift-lambdas=<arg>\n",
      "    Should the lambdas be replaced by named fuctions?\n",
      "\n",
      "  --eta-normalize=<arg>\n",
      "    Which form of eta normalization to perform?\n",
      "\n",
      "  --ho-order-kind=<arg>\n",
      "    Do we use simple LFHO order or a more advanced Boolean free lambda-KBO?\n",
      "\n",
      "  --cnf-lambda-to-forall=<arg>\n",
      "    Do we turn equations of the form ^X.s (!)= ^X.t into (?)!X. s (!)= t ?\n",
      "\n",
      "  --kbo-lam-weight=<arg>\n",
      "    Weight of lambda symbol in KBO.\n",
      "\n",
      "  --kbo-db-weight=<arg>\n",
      "    Weight of DB var in KBO.\n",
      "\n",
      "  --eliminate-leibniz-eq=<arg>\n",
      "    Maximal proof depth of the clause on which Leibniz equality elimination\n",
      "    should be applied; -1 disaables Leibniz equality elimination altogether\n",
      "\n",
      "  --unroll-formulas-only=<arg>\n",
      "    Set to true if you want only formulas to be recognized as definitions\n",
      "    during CNF. Default is true.\n",
      "\n",
      "  --prim-enum-mode=<arg>\n",
      "    Choose the mode of primitive enumeration \n",
      "\n",
      "  --prim-enum-max-depth=<arg>\n",
      "    Maximal proof depth of a clause on which primitive enumeration is\n",
      "    applied. -1 disables primitive enumeration\n",
      "\n",
      "  --inst-choice-max-depth=<arg>\n",
      "    Maximal proof depth of a clause which is going to be scanned for\n",
      "    occurrences of defined choice symbol -1 disables scanning for choice\n",
      "    symbols\n",
      "\n",
      "  --local-rw=<arg>\n",
      "    Enable/disable local rewriting: if the clause is of the form s != t |  C,\n",
      "    where s > t, rewrite all occurrences of s with t in C.\n",
      "\n",
      "  --prune-args=<arg>\n",
      "    Enable/disable pruning arguments of applied variables.\n",
      "\n",
      "  --func-proj-limit=<arg>\n",
      "    Maximal number of functional projections\n",
      "\n",
      "  --imit-limit=<arg>\n",
      "    Maximal number of imitations\n",
      "\n",
      "  --ident-limit=<arg>\n",
      "    Maximal number of identifications\n",
      "\n",
      "  --elim-limit=<arg>\n",
      "    Maximal number of eliminations\n",
      "\n",
      "  --unif-mode=<arg>\n",
      "    Set the mode of unification: either single or multi.\n",
      "\n",
      "  --pattern-oracle=<arg>\n",
      "    Turn the pattern oracle on or off.\n",
      "\n",
      "  --fixpoint-oracle=<arg>\n",
      "    Turn the pattern oracle on or off.\n",
      "\n",
      "  --max-unifiers=<arg>\n",
      "    Maximal number of imitations\n",
      "\n",
      "  --max-unif-steps=<arg>\n",
      "    Maximal number of variable bindings that can be done in one single call\n",
      "    to copmuting the next unifier.\n",
      "\n",
      "  --classification-timeout-portion=<arg>\n",
      "    Which percentage (from 1 to 99) of the total CPU time will be devoted to\n",
      "    problem classification?\n",
      "\n",
      "  --preinstantiate-induction=<arg>\n",
      "    Abstract unit clauses coming from conjecture and use the abstractions to\n",
      "    instantiate clauses that look like the ones coming from induction axioms.\n",
      "\n",
      "  --bce=<arg>\n",
      "    Turn blocked clause elimination on or off\n",
      "\n",
      "  --bce-max-occs=<arg>\n",
      "    Stop tracking symbol after it occurs in <arg> clauses Set <arg> to -1\n",
      "    disable this limit\n",
      "\n",
      "  --pred-elim=<arg>\n",
      "    Turn predicate elimination on or off\n",
      "\n",
      "  --pred-elim-max-occs=<arg>\n",
      "    Stop tracking symbol after it occurs in <arg> clauses Set <arg> to -1\n",
      "    disable this limit\n",
      "\n",
      "  --pred-elim-tolerance=<arg>\n",
      "    Tolerance for predicate elimination measures.\n",
      "\n",
      "  --pred-elim-recognize-gates=<arg>\n",
      "    Turn gate recognition for predicate elimination on or off\n",
      "\n",
      "  --pred-elim-force-mu-decrease=<arg>\n",
      "    Require that the square number of distinct free variables decreases when\n",
      "    doing predicate elimination. Helps avoid creating huge clauses.\n",
      "\n",
      "  --pred-elim-ignore-conj-syms=<arg>\n",
      "    Disable eliminating symbols that occur in the conjecture.\n",
      "\n",
      "\n",
      "\n",
      "Copyright 1998-2024 by Stephan Schulz, schulz@eprover.org,\n",
      "and the E contributors (see DOC/CONTRIBUTORS).\n",
      "\n",
      "This program is a part of the distribution of the equational theorem\n",
      "prover E. You can find the latest version of the E distribution\n",
      "as well as additional information at\n",
      "http://www.eprover.org\n",
      "\n",
      "This program is free software; you can redistribute it and/or modify\n",
      "it under the terms of the GNU General Public License as published by\n",
      "the Free Software Foundation; either version 2 of the License, or\n",
      "(at your option) any later version.\n",
      "\n",
      "This program is distributed in the hope that it will be useful,\n",
      "but WITHOUT ANY WARRANTY; without even the implied warranty of\n",
      "MERCHANTABILITY or FITNESS FOR A PARTICULAR PURPOSE.  See the\n",
      "GNU General Public License for more details.\n",
      "\n",
      "You should have received a copy of the GNU General Public License\n",
      "along with this program (it should be contained in the top level\n",
      "directory of the distribution in the file COPYING); if not, write to\n",
      "the Free Software Foundation, Inc., 59 Temple Place, Suite 330,\n",
      "Boston, MA  02111-1307 USA\n",
      "\n",
      "We welcome bug reports and even reasonable questions. If the prover\n",
      "behaves in an unexpected way, please include the following\n",
      "information:\n",
      "\n",
      "- What did you observe?\n",
      "- What did you expect?\n",
      "- The output of `eprover --version`\n",
      "- The full commandline that lead to the unexpected behaviour\n",
      "- The input file(s) that lead to the unexpected behaviour\n",
      "\n",
      "Most bug reports should be send to <schulz@eprover.org>. Bug reports with \n",
      "respect to the HO-version should be send to or at least copied to \n",
      "<jasmin.blanchette@gmail.com>. Please remember that this is an unpaid\n",
      "volunteer service.\n",
      "\n",
      "The original copyright holder can be contacted via email or as\n",
      "\n",
      "Stephan Schulz\n",
      "DHBW Stuttgart\n",
      "Fakultaet Technik\n",
      "Informatik\n",
      "Lerchenstrasse 1\n",
      "70174 Stuttgart\n",
      "Germany\n",
      "\n"
     ]
    },
    {
     "data": {
      "text/plain": [
       "CompletedProcess(args=['./eprover-ho', '--help'], returncode=0)"
      ]
     },
     "execution_count": 75,
     "metadata": {},
     "output_type": "execute_result"
    }
   ],
   "source": [
    "import subprocess\n",
    "subprocess.run([\"./eprover-ho\", \"--help\"], check=True)"
   ]
  },
  {
   "cell_type": "markdown",
   "id": "6f41943a",
   "metadata": {},
   "source": [
    "# egraph\n",
    "\n",
    "Accept prolog and smtlib syntax?\n",
    "like the good old days\n",
    "\n",
    "\n",
    "\n",
    "## Mixins vs subclassing\n",
    "\n",
    "GaussMixin()\n",
    "t = GaussTheory()\n",
    "EGraph(GaussTheory(), SympyTheory(), )\n",
    "\n",
    "self.theories = []\n",
    "\n",
    "def find(self, x):\n",
    "    for t in theories:\n",
    "        t.find(x)\n",
    "\n",
    "def union():\n",
    "    todo = []\n",
    "    for t in theories:\n",
    "        todo.extend(t.union())\n",
    "\n",
    "\n",
    "## Lambda\n",
    "alpha_norm before using add term.\n",
    "\n",
    "Recursively carry params down through?\n",
    "Eta long form.\n",
    "\n",
    "A normal form?\n",
    "\n",
    "Do slotted. Add some knd of permutation egraph?\n",
    "\n",
    "\n",
    "eta_maximal form"
   ]
  },
  {
   "cell_type": "code",
   "execution_count": null,
   "id": "8f0373cf",
   "metadata": {},
   "outputs": [],
   "source": [
    "def eta_long(ctx, t : smt.ExprRef):\n",
    "    if isinstance(t, smt.QuantifierRef):\n",
    "        "
   ]
  },
  {
   "cell_type": "markdown",
   "id": "dda89a9c",
   "metadata": {},
   "source": [
    "## coegraph\n",
    "\n",
    "Maybe use cvc5 codatypes\n",
    "Datatypes already achieve the cocongruence propagation\n",
    "\n"
   ]
  },
  {
   "cell_type": "markdown",
   "id": "2414d9fa",
   "metadata": {},
   "source": [
    "## aptroot\n",
    "https://mastodon.gamedev.place/@harold/114586279569895001\n",
    "\n",
    "\n"
   ]
  },
  {
   "cell_type": "code",
   "execution_count": null,
   "id": "e9de621b",
   "metadata": {},
   "outputs": [],
   "source": [
    "from kdrag.all import *\n",
    "Fruit = kd.Enum(\"Fruit\", [\"A\", \"B\"])\n",
    "import kdrag.theories.seq as seq_\n",
    "\n",
    "FString = seq_.SeqSort(Fruit)\n",
    "\n",
    "seq_.SeqVal([Fruit.A]*3) == seq_.SeqVal([Fruit.A, Fruit.B, Fruit.A])\n",
    "\n",
    "\n",
    "\n"
   ]
  },
  {
   "cell_type": "markdown",
   "id": "146db2a8",
   "metadata": {},
   "source": [
    "## ILP extract\n",
    "cvxpy translation?\n",
    "\n",
    "\n",
    "import extraction gym?\n",
    "\n"
   ]
  },
  {
   "cell_type": "markdown",
   "id": "316d1d19",
   "metadata": {},
   "source": [
    "## Gauss\n",
    "\n",
    "Sympy, solve_for, passaegmath msolve\n",
    "\n"
   ]
  },
  {
   "cell_type": "code",
   "execution_count": null,
   "id": "b16b9a94",
   "metadata": {},
   "outputs": [],
   "source": [
    "class GaussEGraph():\n",
    "    def __init__(self):\n",
    "        self.eqs = smt.SimpleSolver() # Or sympy grobner basis.\n",
    "    def union(self, x, y):\n",
    "        if isinstance(smt.ArithRef):\n",
    "            self.eqs\n",
    "\n",
    "class GrobnerEGraph(EGraph):\n"
   ]
  },
  {
   "cell_type": "code",
   "execution_count": null,
   "id": "8010392b",
   "metadata": {},
   "outputs": [],
   "source": [
    "\n",
    "def sympy_simplify(self):\n",
    "    for t in self.terms:\n",
    "        if t.sort() == smt.RealSort():\n",
    "\n"
   ]
  },
  {
   "cell_type": "markdown",
   "id": "63af2d2c",
   "metadata": {},
   "source": [
    "## Extract"
   ]
  },
  {
   "cell_type": "code",
   "execution_count": null,
   "id": "76265cdd",
   "metadata": {},
   "outputs": [],
   "source": [
    "\n",
    "from kdrag.all import *\n",
    "from kdrag.solvers.egraph import EGraph\n",
    "from collections import defaultdict\n",
    "def extract(self, t0 : smt.ExprRef, cost_fun = (lambda _: 1)):\n",
    "    inf = float(\"inf\")\n",
    "    best_cost = defaultdict(lambda: inf)\n",
    "    best = {}\n",
    "    while True:\n",
    "        done = True\n",
    "        # Terms are taking the place of enodes.\n",
    "        for t in self.terms.values():\n",
    "            eid = self.find(t)\n",
    "            cost = cost_fun(t) + sum([best_cost[self.find(c)] for c in t.children()]) # cost_fun(t.decl()) ?\n",
    "            if cost < best_cost[eid]:\n",
    "                best_cost[eid] = cost\n",
    "                best[eid] = t\n",
    "                done = False\n",
    "        if done:\n",
    "            break\n",
    "    #@functools.cache\n",
    "    def build_best(t):\n",
    "        t1 = best[self.find(t)]\n",
    "        return t1.decl()(*[build_best(c) for c in t1.children()])\n",
    "    return build_best(t0)\n",
    "\n",
    "E = EGraph()\n",
    "x,y,z = smt.Ints('x y z')\n",
    "E.add_term(x + y)\n",
    "E.rebuild()\n",
    "assert extract(E, x + y).eq(x + y)\n",
    "E.union(x + y, y)\n",
    "E.rebuild()\n",
    "assert extract(E, x + y).eq(y)\n",
    "\n",
    "\n"
   ]
  },
  {
   "cell_type": "code",
   "execution_count": null,
   "id": "63464a87",
   "metadata": {},
   "outputs": [
    {
     "data": {
      "text/plain": [
       "False"
      ]
     },
     "execution_count": 42,
     "metadata": {},
     "output_type": "execute_result"
    }
   ],
   "source": []
  },
  {
   "cell_type": "markdown",
   "id": "3f4a948c",
   "metadata": {},
   "source": [
    "## Proof"
   ]
  },
  {
   "cell_type": "code",
   "execution_count": null,
   "id": "209fb6b6",
   "metadata": {},
   "outputs": [
    {
     "data": {
      "text/plain": [
       "z3.z3.BoolRef"
      ]
     },
     "execution_count": 64,
     "metadata": {},
     "output_type": "execute_result"
    }
   ],
   "source": [
    "s = smt.Solver()\n",
    "s.set(unsat_core=True)\n",
    "a,b,c,d, e = smt.Ints('a b c d e')\n",
    "id_map = {}\n",
    "def tassert(a):\n",
    "    tid = a.get_id()\n",
    "    id_map[tid] = a\n",
    "    #s.assert_and_track(a, smt.Bool(str(a)))\n",
    "    s.assert_and_track(a, smt.Bool(str(tid)))\n",
    "def core():\n",
    "    core = s.unsat_core()\n",
    "    return [id_map[int(str(c))] for c in core]\n",
    "\n",
    "\n",
    "tassert(a == b)\n",
    "tassert(b == c)\n",
    "tassert(e == d)\n",
    "#s.add(a == b)\n",
    "#s.add(b == c)\n",
    "#s.assert_and_track(a == b)\n",
    "#s.assert_and_track(b == c, b == c)\n",
    "s.add(a != c)\n",
    "s.check()\n",
    "#s.unsat_core()\n",
    "type(core()[0])"
   ]
  },
  {
   "cell_type": "code",
   "execution_count": null,
   "id": "ba3b7b85",
   "metadata": {},
   "outputs": [],
   "source": [
    "class EgraphProof(EGraph):\n",
    "    def __init__(self):\n",
    "        super().__init__()\n",
    "        self.reasons = {}\n",
    "        self.solver.set(\"unsat_core\", True)\n",
    "    def union(self, e1, e2, reason=None):\n",
    "        super().union(e1, e2)\n",
    "        if reason is not None:\n",
    "            p = smt.FreshConst(smt.BoolSort())\n",
    "            self.reasons[p.get_id()] = (e1,e2,reason)\n",
    "            self.solver.assert_and_track(e1 == e2, p) \n",
    "    def add(self, expr, reason=None): # Use this indriectio nin Egrpha, so we can use assert and track\n",
    "        tid = expr.get_id()\n",
    "        self.terms[tid] = expr\n",
    "        p = smt.FreshConst(smt.BoolSort())\n",
    "        self.reasons[p.get_id()] = reason\n",
    "        self.solver.assert_and_track(expr, p)\n",
    "    def core(self):\n",
    "        core = self.solver.unsat_core()\n",
    "        return [self.terms[int(str(c))] for c in core]\n"
   ]
  },
  {
   "cell_type": "markdown",
   "id": "c1be3b65",
   "metadata": {},
   "source": [
    "Return instantiations of rules that make this possible\n",
    "(vs, rule, lhs = rhs)\n",
    "\n",
    "\n",
    "return ground rewrite system that'll do it? But then each rule needs to be itself dignified. bleh.\n",
    "\n",
    "I could also use the trick from the third post of using z3 ematcher and grab the instans\n",
    "\n",
    "Also it'd be neat to extract those into a reified proof object."
   ]
  },
  {
   "cell_type": "markdown",
   "id": "f856ca67",
   "metadata": {},
   "source": [
    "\n",
    "## Context\n",
    "Egraph does support hypothetical equalities?\n",
    "But I won't ematch unless I'm in that hypothetical situation\n",
    "\n",
    "ctxs = []\n",
    "ctx rebuilding - which ctx subsume, which \n",
    "Implies(ctx1, ctx2)\n",
    "Implies(ctx2, ctx1)  ---> \n",
    "\n",
    "contextual rewrite rules.\n",
    "\n",
    "Brute force contextual egraph\n",
    "\n",
    "Ok so i can build it.\n",
    "But then what is it for?\n",
    "Well, if then else is a good example.\n",
    "\n",
    "add_term(self, ctx, t):\n",
    "    if smt.is_ite(t):\n",
    "        ctx.append(t.arg(0)), t.arg(1)\n",
    "        ctx.append(smt.Not(t.arg(1))), t.arg(0)\n",
    "\n",
    "\n",
    "\n",
    "There's a lot of pruning possible in these queries."
   ]
  },
  {
   "cell_type": "code",
   "execution_count": null,
   "id": "29d847e2",
   "metadata": {},
   "outputs": [
    {
     "name": "stdout",
     "output_type": "stream",
     "text": [
      "unsat\n",
      "sat\n"
     ]
    }
   ],
   "source": [
    "from kdrag.all import *\n",
    "\n",
    "s = smt.Solver()\n",
    "with s:\n",
    "    s.add(False)\n",
    "    print(s.check())\n",
    "print(s.check())\n",
    "\n"
   ]
  },
  {
   "cell_type": "code",
   "execution_count": null,
   "id": "41a03701",
   "metadata": {},
   "outputs": [],
   "source": [
    "    def rebuild(self):\n",
    "        super().rebuild()\n",
    "        ctxs = self.roots[smt.BoolSort()] & self.ctxs\n",
    "        for ctx1 in ctxs:\n",
    "            for ctx2 in ctxs:\n",
    "                if ctx1 != ctx2 and self.subsumes(ctx1, ctx2):\n",
    "                    self.solver.add(smt.Not(smt.Implies(ctx1, ctx2)))"
   ]
  },
  {
   "cell_type": "code",
   "execution_count": null,
   "id": "5db50284",
   "metadata": {},
   "outputs": [],
   "source": [
    "from kdrag.all import *\n",
    "from kdrag.solvers.egraph import EGraph\n",
    "def ctx_order(ctxs):\n",
    "    s = smt.Solver()\n",
    "    eq = []\n",
    "    le = []\n",
    "    for ctx1 in ctxs:\n",
    "        for ctx2 in ctxs:\n",
    "            s.push()\n",
    "            s.add(smt.Not(ctx1 == ctx2))\n",
    "            res = s.check()\n",
    "            s.pop()\n",
    "            if res == smt.unsat:\n",
    "                eq.append((ctx1,ctx2))\n",
    "            s.push()\n",
    "            s.add(smt.Not(smt.Implies(ctx1, ctx2)))\n",
    "            res = s.check()\n",
    "            s.pop()\n",
    "            if res == smt.unsat:\n",
    "                le.append((ctx2,ctx1))\n",
    "\n",
    "def subsumes(ctx1, ctx2):\n",
    "    s = smt.Solver()\n",
    "    s.add(smt.Not(smt.Implies(ctx1, ctx2)))\n",
    "    return s.check() == smt.unsat\n",
    "def iff(ctx1, ctx2):\n",
    "    s = smt.Solver()\n",
    "    s.add(smt.Not(ctx1 == ctx2))\n",
    "    return s.check() == smt.unsat            \n",
    "\n",
    "\n",
    "x,y,z = smt.Ints('x y z')\n",
    "\n",
    "ctx1 = smt.And(x == y, y == z)\n",
    "ctx2 = x == z\n",
    "assert subsumes(ctx1, ctx2)\n",
    "assert not subsumes(ctx2, ctx1)\n",
    "iff(ctx1, ctx1)\n",
    "\n",
    "class CtxEGraph(EGraph):\n",
    "    ctxs : set[int]\n",
    "    subsume : dict[int, set[int]] # \"path\" transitive closure\n",
    "\n",
    "    # there's two versions. One where you have pattern vars in ctx or not. or if contexrt is pattern.\n",
    "    # suearch over all subsumed contexts.\n",
    "    # def ematch_ctx(self, vs, pctx, lhs):\n",
    "    def ematch_ctx(self, vs, lhs):\n",
    "        res = []\n",
    "        for ctx in self.ctxs:\n",
    "            #self.substitute(ctx, vs)\n",
    "            with self.solver: # takes the push?\n",
    "                self.solver.add(self.terms[ctx])\n",
    "                res.extend((ctx, match_) for match_ in self.ematch(vs, lhs))\n",
    "        return res\n",
    "    #def ctx_sub():\n",
    "    def rebuild(self):\n",
    "        super().rebuild()\n",
    "        oldctxs = self.ctxs\n",
    "        for ctx1 in self.ctxs:\n",
    "            for ctx2 in self.ctxs:\n",
    "                if ctx2 in self.subsume[ctx1]:\n",
    "                    continue\n",
    "                else:\n",
    "                    self.solver.push()\n",
    "                    self.solver.add(smt.Not(smt.Implies(ctx1, ctx2)))\n",
    "                    self.solver.pop()\n",
    "\n",
    "\n",
    "\n"
   ]
  },
  {
   "cell_type": "code",
   "execution_count": null,
   "id": "3d0d78c9",
   "metadata": {},
   "outputs": [],
   "source": []
  },
  {
   "cell_type": "code",
   "execution_count": null,
   "id": "15ceea45",
   "metadata": {},
   "outputs": [],
   "source": [
    "def add_term_quant(term):\n",
    "    t = alpha_norm(term)\n",
    "    todo = [([], t)]\n",
    "    while todo:\n",
    "        ctx, t = todo.pop()\n",
    "        \n",
    "\n"
   ]
  },
  {
   "cell_type": "markdown",
   "id": "d549a6a3",
   "metadata": {},
   "source": [
    "# datalog\n",
    "z3 has a datalog, but whatev. Take snakelog approach https://github.com/philzook58/snakelog\n",
    "\n",
    "Also homommorphism finder. A la CSP / sqlite blog post\n",
    "\n",
    "Pretty print into ASP?\n",
    "\n",
    "spacer?\n",
    "\n",
    "\n",
    "sqlite dump of binary\n",
    "sqlite dump of clang ast or treesitter\n",
    "\n",
    "\n"
   ]
  },
  {
   "cell_type": "code",
   "execution_count": null,
   "id": "c09f68cc",
   "metadata": {},
   "outputs": [
    {
     "name": "stdout",
     "output_type": "stream",
     "text": [
      "\n",
      "    INSERT OR IGNORE INTO path SELECT DISTINCT edge0.x0 AS x0, edge0.x1 AS x1\n",
      "    FROM edge AS edge0\n",
      "    \n",
      "    \n"
     ]
    },
    {
     "data": {
      "text/plain": [
       "'\\n    INSERT OR IGNORE INTO edge SELECT DISTINCT 1 AS x0, 2 AS x1\\n    \\n    \\n    '"
      ]
     },
     "execution_count": 59,
     "metadata": {},
     "output_type": "execute_result"
    }
   ],
   "source": [
    "from kdrag.all import *\n",
    "x,y,z = smt.Ints(\"x y z\")\n",
    "edge = smt.Function(\"edge\", smt.IntSort(), smt.IntSort(), smt.BoolSort())\n",
    "path = smt.Function(\"path\", smt.IntSort(), smt.IntSort(), smt.BoolSort())\n",
    "edgepath = rw.rule_of_expr(kd.QForAll([x,y], edge(x,y), path(x,y)))\n",
    "trans = rw.rule_of_expr(kd.QForAll([x,y,z], edge(x,y), path(y,z), path(x,z)))\n",
    "\n",
    "\n",
    "def compile_body(vs : list[smt.ExprRef], body : smt.BoolRef) -> str:\n",
    "    todo = [body]\n",
    "    env = {}\n",
    "    froms = []\n",
    "    wheres = []\n",
    "    counter = 0\n",
    "    while todo:\n",
    "        rel = todo.pop()\n",
    "        if smt.is_eq(rel):\n",
    "            raise ValueError(\"Equality not supported\")\n",
    "        elif smt.is_not(rel):\n",
    "            raise ValueError(\"Negation not supported\")\n",
    "        elif smt.is_or(rel):\n",
    "            raise ValueError(\"Disjunction not supported\")\n",
    "        elif smt.is_and(rel):\n",
    "            todo.extend(rel.children())\n",
    "        elif smt.is_true(rel):\n",
    "            continue\n",
    "        elif smt.is_app(rel):\n",
    "            name = rel.decl().name()\n",
    "            args = rel.children()\n",
    "            row_name = name + str(counter)\n",
    "            counter += 1 \n",
    "            froms.append(f\"{name} AS {row_name}\")\n",
    "            for n, arg in enumerate(args):\n",
    "                if arg in vs:\n",
    "                    if arg in env:\n",
    "                        wheres.append(f\"{env[arg]} = {row_name}.x{n}\")\n",
    "                    else:\n",
    "                        env[arg] = f\"{row_name}.x{n}\"\n",
    "                else:\n",
    "                    wheres.append(f\"{row_name}.x{n} = {str(arg)}\")\n",
    "        else:\n",
    "            raise ValueError(f\"Unsupported expression: {rel}\")\n",
    "    return env, froms, wheres\n",
    "\n",
    "def compile_rule(rule : kd.rewrite.Rule) -> str:\n",
    "    env, froms, wheres = compile_body(rule.vs, rule.hyp)\n",
    "    name = rule.conc.decl().name()\n",
    "    selects = []\n",
    "    for n,arg in  enumerate(rule.conc.children()):\n",
    "        if arg in rule.vs:\n",
    "            if arg in env:\n",
    "                selects.append(f\"{env[arg]} AS x{n}\") # maybe select as keyword\n",
    "            else:\n",
    "                raise ValueError(f\"Variable {arg} not found in body\")\n",
    "        else:\n",
    "            selects.append(f\"{arg} AS x{n}\")\n",
    "    froms = \", \".join(froms)\n",
    "    wheres = \" AND \".join(wheres)\n",
    "    selects = \", \".join(selects)\n",
    "    return f\"\"\"\n",
    "    INSERT OR IGNORE INTO {name} SELECT DISTINCT {selects}\n",
    "    {\"FROM \" + froms if froms else \"\"}\n",
    "    {\"WHERE \" + wheres if wheres else \"\"}\n",
    "    \"\"\"\n",
    "\n",
    "print(compile_rule(edgepath))\n",
    "compile_rule(kd.rewrite.rule_of_expr(edge(1,2)))\n"
   ]
  },
  {
   "cell_type": "code",
   "execution_count": null,
   "id": "8bbe97cf",
   "metadata": {},
   "outputs": [
    {
     "data": {
      "text/plain": [
       "[(1, 2), (2, 3), (1, 3)]"
      ]
     },
     "execution_count": 65,
     "metadata": {},
     "output_type": "execute_result"
    }
   ],
   "source": [
    "import sqlite3\n",
    "class Datalog():\n",
    "    def __init__(self):\n",
    "        self.db = sqlite3.connect(\":memory:\")\n",
    "    \n",
    "    def declare_sig(self, sig : list[smt.FuncDeclRef]):\n",
    "        for f in sig:\n",
    "            primkey = \"(\" + \", \".join([f\"x{i}\" for i in range(f.arity())]) + \")\"\n",
    "            self.db.execute(f\"\"\"CREATE TABLE IF NOT EXISTS {f.name()} \n",
    "                            ({', '.join([f'x{i} {f.range().name()}' for i in range(f.arity())])}, \n",
    "                             PRIMARY KEY {primkey})\"\"\")\n",
    "\n",
    "    def run(self, rule : kd.rewrite.Rule | smt.BoolRef):\n",
    "        if isinstance(rule, smt.BoolRef):\n",
    "            rule = kd.rewrite.rule_of_expr(rule)\n",
    "        sql = compile_rule(rule)\n",
    "        self.db.execute(sql)\n",
    "\n",
    "s = Datalog()\n",
    "s.declare_db([edge, path])\n",
    "s.run(edge(1,2))\n",
    "s.run(edge(2,3))\n",
    "s.run(edgepath)\n",
    "s.run(trans)\n",
    "s.run(trans)\n",
    "s.db.execute(\"SELECT * FROM path\").fetchall()\n",
    "        "
   ]
  },
  {
   "cell_type": "markdown",
   "id": "8aa779ea",
   "metadata": {},
   "source": [
    "# compile out of smt2\n",
    "\n",
    "Look at basic compiler books.\n",
    "Tiger\n",
    "Essentials\n",
    "nanopass\n",
    "\n",
    "smtcc :)\n",
    "prescheme\n",
    "\n",
    "undefined behavior.\n",
    "\n",
    "\n",
    "We can make a meta layer list\n",
    "https://pypy.org/posts/2024/07/toy-abstract-interpretation.html\n",
    "https://pypy.org/posts/2022/07/toy-optimizer.html"
   ]
  },
  {
   "cell_type": "code",
   "execution_count": null,
   "id": "73696c45",
   "metadata": {},
   "outputs": [],
   "source": [
    "\n",
    "def ret(x):\n",
    "    return \"mov rdi, \" + str(x) + \"\\n\" + \\\n"
   ]
  },
  {
   "cell_type": "code",
   "execution_count": null,
   "id": "61242393",
   "metadata": {},
   "outputs": [
    {
     "name": "stdout",
     "output_type": "stream",
     "text": [
      "Writing /tmp/test.c\n"
     ]
    }
   ],
   "source": [
    "%%file /tmp/test.c\n",
    "#include <stdint.h>\n",
    "uint64_t mytest(){\n",
    "    return 42;\n",
    "}\n"
   ]
  },
  {
   "cell_type": "code",
   "execution_count": null,
   "id": "e08681a4",
   "metadata": {},
   "outputs": [
    {
     "name": "stdout",
     "output_type": "stream",
     "text": [
      "\t.file\t\"test.c\"\n",
      "\t.text\n",
      "\t.globl\tmytest\n",
      "\t.type\tmytest, @function\n",
      "mytest:\n",
      ".LFB0:\n",
      "\t.cfi_startproc\n",
      "\tendbr64\n",
      "\tpushq\t%rbp\n",
      "\t.cfi_def_cfa_offset 16\n",
      "\t.cfi_offset 6, -16\n",
      "\tmovq\t%rsp, %rbp\n",
      "\t.cfi_def_cfa_register 6\n",
      "\tmovl\t$42, %eax\n",
      "\tpopq\t%rbp\n",
      "\t.cfi_def_cfa 7, 8\n",
      "\tret\n",
      "\t.cfi_endproc\n",
      ".LFE0:\n",
      "\t.size\tmytest, .-mytest\n",
      "\t.ident\t\"GCC: (Ubuntu 13.3.0-6ubuntu2~24.04) 13.3.0\"\n",
      "\t.section\t.note.GNU-stack,\"\",@progbits\n",
      "\t.section\t.note.gnu.property,\"a\"\n",
      "\t.align 8\n",
      "\t.long\t1f - 0f\n",
      "\t.long\t4f - 1f\n",
      "\t.long\t5\n",
      "0:\n",
      "\t.string\t\"GNU\"\n",
      "1:\n",
      "\t.align 8\n",
      "\t.long\t0xc0000002\n",
      "\t.long\t3f - 2f\n",
      "2:\n",
      "\t.long\t0x3\n",
      "3:\n",
      "\t.align 8\n",
      "4:\n"
     ]
    }
   ],
   "source": [
    "! gcc -S -o /tmp/test.s /tmp/test.c && cat /tmp/test.s"
   ]
  },
  {
   "cell_type": "code",
   "execution_count": null,
   "id": "29ca4c92",
   "metadata": {},
   "outputs": [],
   "source": []
  },
  {
   "cell_type": "code",
   "execution_count": null,
   "id": "87b048a0",
   "metadata": {},
   "outputs": [
    {
     "name": "stdout",
     "output_type": "stream",
     "text": [
      "Overwriting /tmp/test.S\n"
     ]
    }
   ],
   "source": [
    "%%file /tmp/test.S\n",
    "\n",
    ".globl mytest\n",
    "mytest:\n",
    "    mov $42, %rax\n",
    "    ret\n"
   ]
  },
  {
   "cell_type": "code",
   "execution_count": null,
   "id": "00bf8a35",
   "metadata": {},
   "outputs": [
    {
     "name": "stdout",
     "output_type": "stream",
     "text": [
      "\n",
      "/tmp/test.so:     file format elf64-x86-64\n",
      "\n",
      "\n",
      "Disassembly of section .text:\n",
      "\n",
      "0000000000001000 <mytest>:\n",
      "    1000:\t48 c7 c0 2a 00 00 00 \tmov    $0x2a,%rax\n",
      "    1007:\tc3                   \tret\n"
     ]
    }
   ],
   "source": [
    "!gcc -c -fPIC -o /tmp/test.o /tmp/test.S && ld -shared -o /tmp/test2.so /tmp/test.o && objdump -d /tmp/test.so"
   ]
  },
  {
   "cell_type": "code",
   "execution_count": null,
   "id": "83ddd434",
   "metadata": {},
   "outputs": [
    {
     "name": "stdout",
     "output_type": "stream",
     "text": [
      "42\n"
     ]
    }
   ],
   "source": [
    "import cffi\n",
    "\n",
    "ffi = cffi.FFI()\n",
    "ffi.cdef(\"\"\"uint64_t mytest();\"\"\")\n",
    "lib = ffi.dlopen(\"/tmp/test2.so\")\n",
    "dir(lib)\n",
    "print(lib.mytest())\n",
    "del lib\n",
    "\n",
    "def \n",
    "\n"
   ]
  },
  {
   "cell_type": "code",
   "execution_count": null,
   "id": "23a57841",
   "metadata": {},
   "outputs": [],
   "source": [
    "World = smt.DeclareSort(\"World\")\n",
    "BV64 = smt.BitVecSort(64)\n",
    "mem = smt.Function(\"mem\", World, smt.ArraySort(BV64, BV64))\n",
    "\n",
    "ret = smt.Function(\"ret\", BV64, World, World)\n",
    "\n",
    "\n",
    "type Block = list[smt.ExprRef]\n",
    "\n",
    "class Module():\n",
    "    \n",
    "\n",
    "#class Block():\n",
    "#   stmts : list[smt.ExprRef]\n",
    "\n"
   ]
  },
  {
   "cell_type": "code",
   "execution_count": null,
   "id": "b81ccef3",
   "metadata": {},
   "outputs": [
    {
     "data": {
      "text/plain": [
       "[x + y, x + y + z, x + y - (x + y + z)]"
      ]
     },
     "execution_count": 4,
     "metadata": {},
     "output_type": "execute_result"
    }
   ],
   "source": [
    "x,y,z = smt.BitVecs(\"x y z\", 64)\n",
    "getarg = smt.Function(\"getarg\", smt.IntSort(), smt.BitVecSort(64))\n",
    "copy = smt.Function(\"copy\", smt.BitVecSort(64), smt.BitVecSort(64)) # kd.define(\"copy\", [x], x)\n",
    "prog = [\n",
    "    a := x + y,\n",
    "    b := a + z,\n",
    "    c := a - b,\n",
    "]\n",
    "def address_code(prog):\n",
    "    seen = set()\n",
    "    for stmt in prog:\n",
    "        if all(c in seen for c in stmt.children()):\n",
    "            seen.add(stmt)\n",
    "        else:\n",
    "            return False\n",
    "    return True\n",
    "# path assumptions could be interesting.\n",
    "\n",
    "def esimplify(prog):\n",
    "    uf = {}\n",
    "    new_prog = []\n",
    "    for n,stmt in prog:\n",
    "        s = smt.Solver()\n",
    "\n",
    "\n",
    "def register(prog):\n",
    "    live = set()\n",
    "    regalloc = {}\n",
    "    availreg = [\"r8\", \"rsi\",\"rdi\",\"rax\"]\n",
    "    for stmt in reversed(prog):\n",
    "        availreg.append(regalloc[stmt])\n",
    "        live.remove(stmt)\n",
    "        for c in stmt.children():\n",
    "            if c not in live:\n",
    "                live.add(c)\n",
    "                if availreg:\n",
    "                    regalloc[c] = availreg.pop()\n",
    "                else:\n",
    "                    # spill\n",
    "                    raise Exception(\"No registers available\")\n",
    "\n",
    "    \n",
    "\n",
    "\n"
   ]
  },
  {
   "cell_type": "code",
   "execution_count": null,
   "id": "ec58a266",
   "metadata": {},
   "outputs": [
    {
     "data": {
      "text/html": [
       "1 + 0"
      ],
      "text/plain": [
       "1 + 0"
      ]
     },
     "execution_count": 2,
     "metadata": {},
     "output_type": "execute_result"
    }
   ],
   "source": [
    "from kdrag.all import *\n",
    "one = smt.BitVecVal(1, 64)\n",
    "zero = smt.BitVecVal(0, 64)\n",
    "\n",
    "one + zero\n",
    "\n",
    "def to_asm(e : smt.ExprRef):\n",
    "    if isinstance(e, smt.BitVecNumRef):\n",
    "        return \"mov rdi, %d\" % e.as_long()\n",
    "    elif smt.is_add(e):\n",
    "        to_asm(e.args[0])\n",
    "        return [\n",
    "            f\"pop %rdi\",\n",
    "            r\"add rdi, %d\" % e.args[1].as_long()\n",
    "        ]\n",
    "    \n",
    "\n",
    "\n",
    "\n",
    "\n"
   ]
  },
  {
   "cell_type": "markdown",
   "id": "b646e2ea",
   "metadata": {},
   "source": [
    "# vectorize\n",
    "\n",
    "pshufb\n",
    "pext pdep\n",
    "\n",
    "Aptroot's bot.\n",
    "\n",
    "These chess guys are nuts\n",
    "https://www.chessprogramming.org/BMI2#PEXTBitboards \n"
   ]
  },
  {
   "cell_type": "code",
   "execution_count": null,
   "id": "dd2c1032",
   "metadata": {},
   "outputs": [],
   "source": [
    "# https://jamesbornholt.com/papers/diospyros-asplos21.pdf\n",
    "BV16 = smt.BitVecSort(16)\n",
    "BV8 = smt.BitVecSort(8)\n",
    "\n",
    "x,y,z = smt.BitVecs(\"x y z\", 16)\n",
    "vadd = smt.Function('vadd', BV16, BV16, BV16)\n",
    "vsub = smt.Function('vsub', BV16, BV16, BV16)\n",
    "vmul = smt.Function('vmul', BV16, BV16, BV16)\n",
    "vneg = smt.Function('vneg', BV16, BV16)\n",
    "vmac = smt.Function('vmac', BV16, BV16, BV16, BV16)\n",
    "\n",
    "vadd(x,y) == smt.Concat(smt.Extract(15, 8, x) + smt.Extract(15, 8, y), \n",
    "                        smt.Extract(7, 0, x) + smt.Extract(7, 0, y))\n",
    "\n",
    "vsub(x,y) == smt.Concat(smt.Extract(15, 8, x) - smt.Extract(15, 8, y), \n",
    "                        smt.Extract(7, 0, x) - smt.Extract(7, 0, y))\n",
    "vmul(x,y) == smt.Concat(smt.Extract(15, 8, x) * smt.Extract(15, 8, y),\n",
    "                        smt.Extract(7, 0, x) * smt.Extract(7, 0, y))\n",
    "vneg(x) == smt.Concat(-smt.Extract(15, 8, x), -smt.Extract(7, 0, x))\n",
    "vmac(x,y,z) == smt.Concat(smt.Extract(15, 8, x) * smt.Extract(15, 8, y) + smt.Extract(15, 8, z),\n",
    "                        smt.Extract(7, 0, x) * smt.Extract(7, 0, y) + smt.Extract(7, 0, z))\n",
    "\n",
    "smt.prove(smt.Concat(smt.Extract(15, 8, x), smt.Extract(7, 0, x)) == x)\n",
    "\n",
    "vadd(vmul(x,y),z) == vmac(x,y,z)"
   ]
  },
  {
   "cell_type": "markdown",
   "id": "2c5a9556",
   "metadata": {},
   "source": [
    "# asymptotic\n",
    "\n",
    "https://github.com/teorth/estimates\n",
    "https://en.wikipedia.org/wiki/Big_O_notation \n",
    "https://www.andrew.cmu.edu/user/avigad/Papers/bigo.pdf  Formalizing O notation in Isabelle/HOL\n",
    "\n",
    "eqaulity isn't equality (unless it is?)\n",
    "\n",
    "f(x) = O(g(x)) is really\n",
    "O(g)[f]\n",
    "\n",
    "But to do this is to ignore the wisdom of the notation perhaps. because formalists can't fit a notation into their rigid paradgims doesn't mean its bad\n",
    "\n",
    "I could do custom overloading of == to mean asymptotic.\n",
    "Didn't I have some idea about O ~ id\n",
    "\n",
    "\n",
    "\n",
    "nonstandard reals\n",
    "Kind of a pain in the ass to do it this way. Is the injectivity it offers us even that useful?\n",
    "\n"
   ]
  },
  {
   "cell_type": "code",
   "execution_count": null,
   "id": "5ef76ac2",
   "metadata": {},
   "outputs": [],
   "source": [
    "NonR0 = smt.DeclareSort(\"NonR0\")\n",
    "NonR = kd.Inductive(\"NonR\")\n",
    "NonR.declare(\"Std\", (\"R\", smt.RealSort()))\n",
    "NonR.declare(\"NonStd\", (\"Nr\", NonR0))\n",
    "NonR = NonR.create()\n",
    "\n",
    "# std predicate is now is_Std\n",
    "x,y = smt.Consts(\"x y\", NonR)\n",
    "add = kd.notation.add.define([x,y],\n",
    "                             kd.cond(\n",
    "                                (smt.And(smt.is_Std(x), smt.is_Std(y)), x + y),\n",
    "                                (smt.And(smt.is_Std(x), smt.is_NonStd(y)), x + y),\n",
    "                                (smt.And(smt.is_NonStd(x), smt.is_Std(y)), x + y),\n",
    "                                (smt.And(smt.is_NonStd(x), smt.is_NonStd(y)), x + y\n",
    "                             )\n",
    "\n",
    "\n",
    "\n"
   ]
  },
  {
   "cell_type": "markdown",
   "id": "aaa1ff0d",
   "metadata": {},
   "source": [
    "# pysmt\n",
    "I never _really_ gave pysmt a fair shake.\n",
    "It doesn't support lambda. That is a pretty tough blow\n",
    "\n"
   ]
  },
  {
   "cell_type": "code",
   "execution_count": null,
   "id": "6c807787",
   "metadata": {},
   "outputs": [
    {
     "data": {
      "text/plain": [
       "False"
      ]
     },
     "execution_count": 31,
     "metadata": {},
     "output_type": "execute_result"
    }
   ],
   "source": [
    "from pysmt.shortcuts import Symbol, And, Not, is_sat\n",
    "\n",
    "varA = Symbol(\"A\") # Default type is Boolean\n",
    "varB = Symbol(\"B\")\n",
    "f = And(varA, Not(varB))\n",
    "is_sat(f)\n",
    "g = f.substitute({varB: varA})\n",
    "is_sat(g)"
   ]
  },
  {
   "cell_type": "markdown",
   "id": "ca139021",
   "metadata": {},
   "source": [
    "# lambda unify\n"
   ]
  },
  {
   "cell_type": "code",
   "execution_count": null,
   "id": "0fc66f95",
   "metadata": {},
   "outputs": [],
   "source": [
    "def unify_huet():\n",
    "    todo = []\n",
    "    frozen = [] #flexflex?\n",
    "    subst = {}\n",
    "    while True:\n",
    "        while todo:\n",
    "            current = todo.pop()\n",
    "            # do unification.\n",
    "\n",
    "        for p in frozen:\n",
    "            if flexflex(p):\n",
    "                continue\n",
    "            else:\n",
    "                frozen.remove(p)\n",
    "                todo.append(p)\n",
    "                break\n",
    "        else:\n",
    "            return subst, frozen\n",
    "    \n",
    "        \n",
    "\n",
    "    "
   ]
  },
  {
   "cell_type": "markdown",
   "id": "f54be818",
   "metadata": {},
   "source": [
    "# GAT / refinement\n",
    "see types.ipynb also\n",
    "\n",
    "\n",
    "The property of being a proper telescoping mapping requires an smt solve?\n",
    "\n",
    "why bother teelscoping? Isabelle pure has no telescoping effect? CVody says that helps build model but did not elaborate\n",
    "https://argo.matf.bg.ac.rs/events/2009/fatpa2009/slides/Wenzel_PureLogicalReasoning%20in%20Isabelle-Isar.pdf\n",
    "\n",
    "https://arxiv.org/pdf/1911.00399 hott in pure\n",
    "https://arxiv.org/pdf/cs/9301105 pualson foundation of generic theorem prover\n",
    "\n",
    "\n",
    "So a conditional judgement can be seen as a fiber just as much as types can (?)\n",
    "A /\\ B /\\ C ===> D\n",
    "\n",
    "|- goal(p)  as a marker. Always provable goal(p) == True\n",
    " \n",
    "unify(pf1, pf2)\n",
    "\n",
    "Rather than an equalizer, a pullback. t1 as a substituion mapping anyway?\n",
    "G1 -> G2\n",
    "G3 -> G2\n",
    "Two telescope mappings that go to common context G2. Can I build a pullback?\n",
    "\n",
    "\n"
   ]
  },
  {
   "cell_type": "code",
   "execution_count": null,
   "id": "4b8d0d98",
   "metadata": {},
   "outputs": [
    {
     "name": "stdout",
     "output_type": "stream",
     "text": [
      "[y] [y >= -1] y + 1 >= 0\n",
      "[y] [y >= -1] y + 10 >= y + 1\n"
     ]
    },
    {
     "data": {
      "text/plain": [
       "[|- ForAll(y, Implies(And(y >= -1), y + 1 >= 0)),\n",
       " |- ForAll(y, Implies(And(y >= -1), y + 10 >= y + 1))]"
      ]
     },
     "execution_count": 28,
     "metadata": {},
     "output_type": "execute_result"
    }
   ],
   "source": [
    "from dataclasses import dataclass\n",
    "\n",
    "@dataclass\n",
    "class Telescope():\n",
    "    \"\"\" x | A(x), y | B(x,y), ... \"\"\"\n",
    "    vs : list[smt.ExprRef]\n",
    "    preds : list[smt.BoolRef]\n",
    "    # preds : list[kd.Proof] ? |- ForAll([x], P1), ForAll([x,y], P1 => P2), ...  \n",
    "    # No but the context should be proof recievining, not proof producing.\n",
    "\n",
    "    def expr(self, P):\n",
    "        print(self.vs, self.preds, P)\n",
    "        return kd.QForAll(self.vs, smt.And(self.preds), P)\n",
    "    \n",
    "\n",
    "\n",
    "x,y,z = smt.Reals(\"x y z\")\n",
    "Telescope([x,y], [x > 0, y > x])\n",
    "\n",
    "@dataclass\n",
    "class TeleSubst():\n",
    "    dom : Telescope\n",
    "    cod : Telescope\n",
    "    subst: dict[smt.ExprRef, smt.ExprRef]\n",
    "    # pf : list[smt.Proof] # same length as dom.preds\n",
    "\n",
    "    def check(self,by=[]):\n",
    "        pfs = []\n",
    "        pfs.extend(by)\n",
    "        for P in self.dom.preds:\n",
    "            pfs.append(kd.prove(self.cod.expr(smt.substitute(P, *self.subst.items())), by=pfs))\n",
    "        return pfs\n",
    "    def __call__(self, P):\n",
    "        # P is in context dom\n",
    "        return smt.substitute(P, *self.subst.items())\n",
    "    def __matmul__(self, other):\n",
    "        # substutition forms a category\n",
    "        assert self.dom == other.cod\n",
    "        TeleSubst(other.dom, self.cod, {smt.substitute(...)})\n",
    "\n",
    "# allows subtype weakening.\n",
    "# if it only allowed syntactic substitutions, then we don't really need the proofs\n",
    "\n",
    "ctx1 = Telescope([x,z], [x >= 0, z >= x])\n",
    "ctx2 = Telescope([y], [y >= -1])\n",
    "TeleSubst(ctx1, ctx2, {x: y + 1, z : y + 10}).check()\n",
    "\n",
    "\n",
    "# is there a unification procedure for making TeleSubst?\n",
    "# G1 |- t1 =? t2 -| G2\n",
    "# result is G1 -> G2 substitution? It's assymmetric?\n",
    "# doesn't seem like the right shape.\n",
    "\n"
   ]
  },
  {
   "cell_type": "code",
   "execution_count": null,
   "id": "5b9f6a8f",
   "metadata": {},
   "outputs": [
    {
     "data": {
      "text/html": [
       "&#8870;ForAll([y, z], And(z == z, y + 1 == y + 1))"
      ],
      "text/plain": [
       "|- ForAll([y, z], And(z == z, y + 1 == y + 1))"
      ]
     },
     "execution_count": 19,
     "metadata": {},
     "output_type": "execute_result"
    }
   ],
   "source": [
    "from kdrag.all import *\n",
    "\n",
    "def subst(pf : kd.Proof, vs : list[smt.ExprRef], subst : list[smt.ExprRef]) -> kd.Proof:\n",
    "    vs1, ab = kd.kernel.herb(smt.ForAll(vs, smt.substitute_vars(pf.thm.body(), *reversed(subst))))\n",
    "    a = kd.kernel.instan([smt.substitute(t, *zip(vs, vs1)) for t in subst], pf)\n",
    "    return kd.kernel.modus(ab, a)\n",
    "x,y,z = smt.Reals(\"x y z\")\n",
    "p = kd.prove(smt.ForAll([x,z], smt.And(z == z, x == x)))\n",
    "subst(p, [y, z], [y + 1, z])\n",
    "\n",
    "def weaken(pf, x):\n",
    "\n",
    "\n",
    "def unify(pf1, pf2) -> Optional[kd.Proof]:\n",
    "    # unify the two proofs forall x, p1(x) and forall y, p2(y)\n",
    "    # return a new proof\n",
    "    vs1, p1 = kd.utils.open_binder(pf1.thm)\n",
    "    vs2, p2 = kd.utils.open_binder(pf2.thm)\n",
    "    vs = vs1 + vs2\n",
    "    subst = kd.utils.unify(vs1+vs2,p1,p2)\n",
    "    if subst is not None:\n",
    "        vs = set(vs) - set(subst.keys()) # maybe keep 'em ordered\n",
    "        return subst_tac(pf1, vs, )\n",
    "\n",
    "def build_telescope(pf : kd.Proof, vs, hyps, conc):\n",
    "    # find a substitution based on unifying conc\n",
    "\n",
    "\n",
    "        \n",
    "\n",
    "def chain(pf1, pf2):\n",
    "    # decompose into rules.\n",
    "    # unify\n",
    "    # rebuild\n",
    "\n",
    "\n",
    "\n",
    "\n"
   ]
  },
  {
   "cell_type": "code",
   "execution_count": null,
   "id": "41112098",
   "metadata": {},
   "outputs": [
    {
     "data": {
      "text/html": [
       "&#8870;ForAll(x, fact(x) == If(0 >= x, 1, x*fact(x - 1)))"
      ],
      "text/plain": [
       "|- ForAll(x, fact(x) == If(0 >= x, 1, x*fact(x - 1)))"
      ]
     },
     "execution_count": 3,
     "metadata": {},
     "output_type": "execute_result"
    }
   ],
   "source": [
    "import kdrag.reflect as reflect\n",
    "from kdrag.all import *\n",
    "x = smt.Bool(\"x\")\n",
    "@reflect.reflect\n",
    "def fact(x : int) -> int:\n",
    "    if x <= 0:\n",
    "        return 1\n",
    "    else:\n",
    "        return x*fact(x-1)\n",
    "fact.defn"
   ]
  },
  {
   "cell_type": "markdown",
   "id": "c7f19366",
   "metadata": {},
   "source": [
    "# verilog extract\n",
    "\n",
    "Silviu makes a good point.\n",
    "If you're going to be comparing test case outputs,\n",
    "No need to \n",
    "\n"
   ]
  },
  {
   "cell_type": "code",
   "execution_count": null,
   "id": "f69d6744",
   "metadata": {},
   "outputs": [
    {
     "name": "stdout",
     "output_type": "stream",
     "text": [
      "// Generated by knuckledragger\n",
      "module test (\n",
      "   input x,\n",
      "   input y,\n",
      "   output z\n",
      ");\n",
      "assign z = (x && y);\n",
      "endmodule\n",
      "\n",
      "// Generated by knuckledragger\n",
      "module test (\n",
      "   input [7:0] a,\n",
      "   input [7:0] b,\n",
      "   output z\n",
      ");\n",
      "assign z = ((a & (b + 8'd7)) != b);\n",
      "endmodule\n",
      "\n"
     ]
    }
   ],
   "source": [
    "\n",
    "\n",
    "x,y,z = smt.Bools(\"x y z\")\n",
    "a,b,c = smt.BitVecs(\"a b c\", 8)\n",
    "print(to_verilog(\"test\", [x,y], {z : x & y}))\n",
    "print(to_verilog(\"test\", [a,b], {z : a & b + 7 != b}))\n",
    "#(a & b != b).decl().name()\n",
    "\n",
    "def test():\n",
    "    with open(\"/tmp/test.v\", \"w\") as f:\n",
    "        f.write(to_verilog(\"test\", [x,y], {z : x & y}))\n",
    "    \n"
   ]
  },
  {
   "cell_type": "markdown",
   "id": "53a48664",
   "metadata": {},
   "source": [
    "To say that a verilog file has a property is an axiom schema?"
   ]
  },
  {
   "cell_type": "code",
   "execution_count": null,
   "id": "592dbe43",
   "metadata": {},
   "outputs": [],
   "source": [
    "def sby_axiom(modfile, name, ins, outs):\n",
    "    \n"
   ]
  },
  {
   "cell_type": "markdown",
   "id": "69c384cc",
   "metadata": {},
   "source": [
    "# diff\n",
    "\n",
    "\n"
   ]
  },
  {
   "cell_type": "code",
   "execution_count": null,
   "id": "84bad30e",
   "metadata": {},
   "outputs": [],
   "source": [
    "from kdrag.all import *\n",
    "\n",
    "def diff(e, x):\n",
    "    if e.eq(x):\n",
    "        return 1\n",
    "    elif smt.is_value(e):\n",
    "        return 0\n",
    "    elif smt.is_add(e):\n",
    "        return smt.Sum([diff(c,x) for c in e.children()])\n",
    "    elif e.decl() == real.sin:\n",
    "        return real.cos(e) * diff(e, x)\n",
    "    elif e.decl() == real.cos:\n",
    "        return -real.sin(e) * diff(e, x)\n",
    "    elif e.decl() == real.exp:\n",
    "        return real.exp(e) * diff(e, x)\n",
    "    \n",
    "    \n"
   ]
  },
  {
   "cell_type": "markdown",
   "id": "884b9aa2",
   "metadata": {},
   "source": [
    "# knuckelproblems\n"
   ]
  },
  {
   "cell_type": "code",
   "execution_count": null,
   "id": "06bcd4ce",
   "metadata": {},
   "outputs": [
    {
     "data": {
      "text/html": [
       "&#8870;ForAll([n, m],\n",
       "       add(n, m) ==\n",
       "       If(is(Zero, n),\n",
       "          m,\n",
       "          If(is(Succ, n),\n",
       "             Succ(add(pred(n), m)),\n",
       "             unreachable!6)))"
      ],
      "text/plain": [
       "|- ForAll([n, m],\n",
       "       add(n, m) ==\n",
       "       If(is(Zero, n),\n",
       "          m,\n",
       "          If(is(Succ, n),\n",
       "             Succ(add(pred(n), m)),\n",
       "             unreachable!6)))"
      ]
     },
     "execution_count": 6,
     "metadata": {},
     "output_type": "execute_result"
    }
   ],
   "source": [
    "\n",
    "\n",
    "from kdrag.all import *\n",
    "# Knuckledragger support algebraic datatypes and induction\n",
    "Nat = kd.Inductive(\"MyNat\")\n",
    "Zero = Nat.declare(\"Zero\")\n",
    "Succ = Nat.declare(\"Succ\", (\"pred\", Nat))\n",
    "Nat = Nat.create()\n",
    "# We can define an addition function by cases\n",
    "n,m = smt.Consts(\"n m\", Nat)\n",
    "add = smt.Function(\"add\", Nat, Nat, Nat)\n",
    "add = kd.define(\"add\", [n,m], \n",
    "    kd.cond(\n",
    "        (n.is_Zero, m),\n",
    "        (n.is_Succ, Nat.Succ(add(n.pred, m)))\n",
    "))\n",
    "\n",
    "\"\"\"\n",
    "add = kd.define(\"add\", [n,m], \n",
    "    n.match_(\n",
    "        (Nat.Zero, m),\n",
    "        (Nat.Succ(n), Nat.Succ(add(n, m)))\n",
    "))\n",
    "add.defn\n",
    "\"\"\"\n",
    "add.defn\n"
   ]
  },
  {
   "cell_type": "code",
   "execution_count": null,
   "id": "0831560e",
   "metadata": {},
   "outputs": [
    {
     "data": {
      "text/html": [
       "&#8870;ForAll(x, fact(x) == If(0 >= x, 1, x*fact(x - 1)))"
      ],
      "text/plain": [
       "|- ForAll(x, fact(x) == If(0 >= x, 1, x*fact(x - 1)))"
      ]
     },
     "execution_count": 9,
     "metadata": {},
     "output_type": "execute_result"
    }
   ],
   "source": [
    "import kdrag.reflect as reflect\n",
    "\n",
    "@reflect.reflect\n",
    "def fact(x : int) -> int:\n",
    "    if x <= 0:\n",
    "        return 1\n",
    "    else:\n",
    "        return x*fact(x-1)\n",
    "fact.defn"
   ]
  },
  {
   "cell_type": "markdown",
   "id": "a2daa3cb",
   "metadata": {},
   "source": [
    "# vectors\n",
    "\n",
    "Bitvector operations\n",
    "\n",
    "V4 style of \n"
   ]
  },
  {
   "cell_type": "code",
   "execution_count": null,
   "id": "6d38e7ff",
   "metadata": {},
   "outputs": [],
   "source": [
    "BV32 = smt.BitVecSort(32)\n",
    "\n",
    "\n"
   ]
  },
  {
   "cell_type": "markdown",
   "id": "6c68ba81",
   "metadata": {},
   "source": [
    "# Type resgistry\n",
    "\n",
    "Some \n",
    "\n",
    "add_assoc\n",
    "add_comm\n",
    "mul_assoc\n",
    "mul_comm\n",
    "\n",
    "\n",
    "COuld reaplce sortdispatch using T.add, T.mul and just have ExprRef.__add__ = lambda x,y: x.sort().add(x,y)\n",
    "\n",
    "\n",
    "\n",
    "BoolSort\n",
    "RealSort\n",
    "StringSort\n",
    "etc\n"
   ]
  },
  {
   "cell_type": "code",
   "execution_count": null,
   "id": "fabcc16f",
   "metadata": {},
   "outputs": [
    {
     "data": {
      "text/plain": [
       "True"
      ]
     },
     "execution_count": 82,
     "metadata": {},
     "output_type": "execute_result"
    }
   ],
   "source": [
    "from kdrag.all import *\n",
    "T = smt.DeclareSort(\"T\")\n",
    "T1 = smt.DeclareSort(\"T\")\n",
    "id(T1) == id(T)\n",
    "T1.get_id() == T.get_id()"
   ]
  },
  {
   "cell_type": "code",
   "execution_count": null,
   "id": "191cebbd",
   "metadata": {},
   "outputs": [
    {
     "data": {
      "text/plain": [
       "{2147483659: Int,\n",
       " 2147483648: Bool,\n",
       " 2147483658: Real,\n",
       " 2147483815: NatI,\n",
       " 2147483814: Nat,\n",
       " 2147483704: BitVec(1),\n",
       " 2147483711: BitVec(8),\n",
       " 2147483898: Seq(BitVec(1)),\n",
       " 2147483841: BitVecN}"
      ]
     },
     "execution_count": 5,
     "metadata": {},
     "output_type": "execute_result"
    }
   ],
   "source": [
    "from kdrag.all import *\n",
    "smt.sort_registry\n",
    "import kdrag.theories.nat as nat\n",
    "smt.sort_registry\n",
    "import kdrag.theories.bitvec as bv\n",
    "smt.sort_registry"
   ]
  },
  {
   "cell_type": "code",
   "execution_count": null,
   "id": "38ca8125",
   "metadata": {},
   "outputs": [],
   "source": [
    "# hash cons the types so that we can tag useful stuff on them\n",
    "types = {}\n",
    "\n",
    "def DeclareSort(name):\n",
    "    if name not in types:\n",
    "        types[name] = type(name, (object,), {})\n",
    "    return types[name]\n"
   ]
  },
  {
   "cell_type": "markdown",
   "id": "71a5313e",
   "metadata": {},
   "source": [
    "# Schematic Vars\n",
    "Explicitly pulling schematic variables out, may let me refer to them in subproofs (How?)\n",
    "\n",
    "   G |- A\n",
    "------------- weaken\n",
    "     G, v fresh |- A\n",
    "Well that's annoying.\n",
    "\n",
    "app(forall x, A, t)\n",
    "\n",
    "\n",
    "\n",
    "\n",
    "forall x, A  \n",
    "\n",
    "Maybe I should consider this as A Proof extension rather than proof replacement, likke refinement types\n",
    "\n",
    "\n",
    "```\n",
    "Gam |- t   x not in t\n",
    "-----------\n",
    "Gam, x |- t \n",
    "\n",
    "```\n",
    "\n",
    "\n",
    "If I merged forall intro and removal\n",
    "\n",
    "\n",
    "This is just |- forall x, P(x) but with some extra junk.\n",
    "\n",
    "capture avoiding\n",
    "\n",
    "https://ncatlab.org/nlab/show/substitution\n",
    "\n",
    "https://en.wikipedia.org/wiki/Admissible_rule\n",
    "https://cstheory.stackexchange.com/questions/54600/admissible-rules-in-dependent-type-theory\n",
    "\n",
    "Gam |- A then sigma Gam |- sigma A\n",
    "\n",
    "\n",
    "The point was that\n",
    "\n",
    "prove(t, )\n",
    "\n",
    "def cprove(vs, p, by=)\n",
    "\n",
    "\n",
    "a curried form of backward proof tracking.\n",
    "modus for leaves\n",
    "comp for moves.\n",
    "but yeah, split\n",
    "A /\\ B\n",
    "(A => B => A /\\ B)\n",
    "(A => A \\/ B)\n",
    "(B => A \\/ B)\n",
    "\n",
    "A => B => C\n",
    "\n",
    "but then aplpying move in context is annoying. Hmm.\n",
    "And I don't give a shit about anything except quantifier moves so it's wasteful effort.\n",
    "\n",
    "Maybe the callback method is easier. But it'll have so many expensive calls\n",
    "\n",
    "\n",
    "def intros():\n",
    "   \n",
    "\n",
    "\n"
   ]
  },
  {
   "cell_type": "code",
   "execution_count": null,
   "id": "66c7b4b1",
   "metadata": {},
   "outputs": [],
   "source": [
    "def modus(ab, a):\n",
    "    assert smt.is_implies(ab) and ab.arg(0).eq(a)\n",
    "    assert isinstance(ab, Proof) and isinstance(a, Proof)\n",
    "    return Proof(ab.arg(1), reasons=[ab, a])\n",
    "\n",
    "def impl_refl(a):\n",
    "    return Proof(smt.Implies(a,a))\n",
    "\n",
    "def comp(ab, bc): # cut sort of\n",
    "    assert smt.is_implies(ab) and smt.is_implies(bc) and ab.arg(1).eq(bc.arg(0))\n",
    "    assert isinstance(ab, Proof) and isinstance(bc, Proof)\n",
    "    return Proof(smt.Implies(ab.arg(0), bc.arg(1)), reasons=[ab, bc])\n",
    "\n",
    "\n",
    "class Lemma():\n",
    "    self.backward_proof = impl_refl(goal)\n",
    "    self.topgoal = goal\n",
    "    self.curgoal = goal\n",
    "    \n",
    "\n",
    "def qed():\n",
    "    assert self.backwardproof.thm.eq(self.topgoal)\n",
    "    return self.backwardproof\n",
    "def fixes():\n",
    "    herb(self.topgoal)\n",
    "    self.backwardproof = comp(  , self.backwardproof)(modus(ab,a)))\n",
    "def prove():\n",
    "    p = self.prove(curgoal)\n",
    "    self.backwardproof = modus(self.backwardproof, self.proof)\n",
    "def intros():\n",
    "    self.curgoal = self.curgoal.arg(0)\n",
    "    # goal is unchanged?\n",
    "    # (a -> b) -> topgoal. uhhh. G -> \n",
    "    # \n",
    "    # /\\ (forall vs, hyps => conc) -> topgoal\n",
    "    # (hyp1 => conc1) => (hyp2 => conc2) => hyp3 => topgoal\n",
    "    # goal1 => goal2 => topgoal\n",
    "\n",
    "\n",
    "\n",
    "Goal\n",
    "  def to_expr\n",
    "   \n",
    "\n",
    "                                                \n"
   ]
  },
  {
   "cell_type": "code",
   "execution_count": null,
   "id": "32936903",
   "metadata": {},
   "outputs": [],
   "source": [
    "def deinstan(pf):\n",
    "    # get substution if last thing was an instan?\n",
    "    # Super weird idea.\n",
    "\n",
    "def cprove(\n",
    "    vs : list[smt.ExprRef],\n",
    "    thm: smt.BoolRef,\n",
    "    by = lambda *args: [] #Callable[smt.ExprRefglist[kd.Proof],\n",
    "    **kwargs\n",
    ") -> kd.kernel.Proof:\n",
    "    \"\"\"Contextual proof. Open up variable binders and give by lemmas access to them in callback\"\"\"\n",
    "    goal = smt.ForAll(vs, thm)\n",
    "    vs1, pf = kd.kernel.herb(goal)\n",
    "    subproof = kd.prove(pf.thm.arg(0), by(*vs1))\n",
    "    return kd.kernel.modus(subproof, pf)\n",
    "\n",
    "\n",
    "\n",
    "def indprove(v, thm):\n",
    "    \"\"\"Inductive proof. Open up variable binders and give by lemmas access to them in callback\"\"\"\n",
    "    goal = smt.ForAll(v, thm)\n",
    "    vs1, pf = kd.kernel.herb(goal)\n",
    "    subproof = kd.prove(pf.thm.arg(0), by(*vs1))\n",
    "    return kd.kernel.modus(subproof, pf)\n",
    "\n",
    "def indprove(v : smt.ExprRef, thm, by=None, using=None):\n",
    "    l = kd.Lemma(smt.ForAll(v, thm))\n",
    "    v1 = l.fix()\n",
    "    l.induct(v1, using=using)\n",
    "    l.auto(by=by)\n",
    "    return l.qed()"
   ]
  },
  {
   "cell_type": "code",
   "execution_count": null,
   "id": "46e2c644",
   "metadata": {},
   "outputs": [],
   "source": [
    "def subst(vs, p : kd.Proof, subst):\n",
    "    assert isinstance(p, kd.Proof)\n",
    "    vs1, body = kd.utils.open_binder_unhygienic(p.fm)\n",
    "    assert kd.utils.free_in(vs - vs1, body)\n",
    "\n",
    "# vs\n",
    "\n",
    "# ok so we can achieve of substutiton by combining herb and instan.\n",
    "def subst(vs, p : kd.Proof, subst):\n",
    "    goal = smt.ForAll(vs, smt.substitute(p.fm, *subst.items()))\n",
    "    l = kd.Lemma(goal)\n",
    "    vs = l.fixes()\n",
    "    l.qed(by=p(subst[v] for v in vs))\n",
    "    #vs, pf = kd.kernel.herb(p)\n",
    "\n"
   ]
  },
  {
   "cell_type": "code",
   "execution_count": null,
   "id": "fdf5837c",
   "metadata": {},
   "outputs": [],
   "source": [
    "class Proof():\n",
    "    ctx : dict[smt.SortRef, int] # How many de bruijn indices are allowed?\n",
    "    fm : smt.BoolRef\n",
    "    "
   ]
  },
  {
   "cell_type": "code",
   "execution_count": null,
   "id": "b6262110",
   "metadata": {},
   "outputs": [],
   "source": [
    "class Proof():\n",
    "    vs : list[smt.ExprRef] # ctx\n",
    "    fm : smt.BoolRef | smt.QuantifierRef\n",
    "    reasons : list[object]\n",
    "    def __call__(self, *args, vs=[]):\n",
    "        smt.substitute(self.fm, *zip(self.vs, args))\n",
    "\n",
    "def free(vs, fm):\n",
    "    #fm2 = smt.substitute(fm, *[(v, smt.FreshConst(v.sort())) for v in vs])\n",
    "    return smt.Lambda(vs, fm).body().eq(fm)\n",
    "    #return fm2.eq(fm)\n",
    "\n",
    "def lift(p : kd.Proof) -> Proof:\n",
    "    assert isinstance(p, kd.Proof)\n",
    "    return Proof(\n",
    "        vs = [],\n",
    "        fm = p.fm,\n",
    "        reasons = [p]\n",
    "    )\n",
    "def lift_forall(p : kd.Proof) -> Proof:\n",
    "    assert isinstance(p, kd.Proof)\n",
    "    vs, fm = kd.utils.open_binder_unhiegenic(p.fm)\n",
    "    return Proof(\n",
    "        vs = vs,\n",
    "        fm = fm,\n",
    "        reasons = [p]\n",
    "    )\n",
    "def lift_free(ctx, p : kd.Proof) -> Proof:\n",
    "    assert isinstance(p, kd.Proof)\n",
    "    assert all(v in ctx for v in p.vs)\n",
    "    assert free(ctx, p.fm)\n",
    "    return Proof(\n",
    "        vs = ctx,\n",
    "        fm = p.fm,\n",
    "        reasons = [p]\n",
    "    )\n",
    "\n",
    "\"\"\"\n",
    "  Gam |- forall x, P\n",
    "---------------\n",
    " Gam, x |- P\n",
    "\n",
    " This is reversed intro rule. Feels odd.\n",
    "\"\"\"\n",
    "def open(p : Proof) -> Proof:\n",
    "    vs, fm = kd.utils.open_binder_unhiegenic(p.fm)\n",
    "    Proof(p.vs + vs, fm, [p])\n",
    "\n",
    "def intro(n, p : Proof):\n",
    "    return Proof(p.vs[n:], smt.ForAll(p.vs[:n], p.fm), [p])\n",
    "\n",
    "def extend(vs, p : Proof) -> Proof:\n",
    "    s = smt.Solver()\n",
    "    s.add(smt.ForAll(p.vs, p.fm))\n",
    "    s.add(smt.Not(smt.ForAll(p.vs + vs, p.fm)))\n",
    "    res = s.check()\n",
    "    if res == smt.unsat:\n",
    "        return Proof(\n",
    "            vs = p.vs + vs,\n",
    "            fm = p.fm,\n",
    "            reasons = [p]\n",
    "        )\n",
    "    else:\n",
    "        raise Exception(\"Unknown result from solver\")\n",
    "\n",
    "\n",
    "def subst(p : Proof, ctx : list[smt.ExprRef], subst : dict[smt.ExprRef, smt.ExprRef]):\n",
    "    assert isinstance(p, Proof)\n",
    "    assert all(v in p.vs for v in  subst.keys())\n",
    "    assert free(ctx - p.ctx, p.fm)\n",
    "    #fm = smt.substitute(p.fm, *[(v, smt.FreshConst(v.sort())) for v in ctx])\n",
    "    fm = smt.substitute(p.fm, *subst.items())\n",
    "    # I need to check that ctx2 does not appear in fm. Otherwise I could |- even(zero) ---> zero |- even(zero)\n",
    "    return Proof(\n",
    "        vs = ctx,\n",
    "        fm = fm,\n",
    "        reasons = [p]\n",
    "    )\n",
    "\n",
    "\n",
    "\"\"\"\n",
    "G |- p1    G |- p2 ... \n",
    "-------\n",
    "    G |- p\n",
    "\n",
    "\"\"\"\n",
    "\n",
    "def prove(ctx, expr, by=None):\n",
    "    allctx = set(ctx)\n",
    "    for p in by:\n",
    "        assert isinstance(p, Proof)\n",
    "        assert p.ctx == ctx\n",
    "    s.add(smt.Not(smt.ForAll([ctx], smt.Implies(smt.And(hyp.fm for hyp in by), expr))))\n",
    "    s.check()\n",
    "\n",
    "\n"
   ]
  },
  {
   "cell_type": "markdown",
   "id": "5e114fb5",
   "metadata": {},
   "source": [
    "Ok so yes, any forall infecting the lemmas is a problem.\n",
    "And some things get foralls because its hard an annoying \n",
    "\n",
    "qed should \n"
   ]
  },
  {
   "cell_type": "code",
   "execution_count": null,
   "id": "fe69def9",
   "metadata": {},
   "outputs": [],
   "source": [
    "from kdrag.all import *\n",
    "import kdrag.theories.real as real\n",
    "x,y = smt.Reals(\"x y\")\n",
    "cos = real.cos\n",
    "sin = real.sin\n",
    "#os_diff = kd.prove(smt.ForAll([x,y], cos(x - y) == cos(x)*cos(y) + sin(x)*sin(y)), [real.cos_add, real.cos_neg, real.sin_neg])\n",
    "\n",
    "_l = kd.Lemma(smt.ForAll([x,y], cos(x - y) == cos(x)*cos(y) + sin(x)*sin(y)))\n",
    "_x, _y = _l.fixes()\n",
    "_l.symm()\n",
    "_l.eq(cos(_x + (-_y)))\n",
    "#_l.rw(kd.prove(cos(_x - _y) == cos(_x + (-_y))))\n",
    "#_l.rw(kd.prove(smt.ForAll([x,y], x - y == (x + (-y))))(_x, _y))\n",
    "_l.rw(real.cos_add(_x, -_y))\n",
    "#_l.auto(by=[real.cos_add, real.sin_add])\n",
    "_l.auto(by=[real.cos_neg(_y), real.sin_neg(_y)])\n",
    "_l.lemmas\n",
    "_l.qed()\n",
    "cos_diff = _l.lemmas\n"
   ]
  },
  {
   "cell_type": "markdown",
   "id": "1cd2f219",
   "metadata": {},
   "source": [
    "# Homomorphism theorems\n"
   ]
  },
  {
   "cell_type": "code",
   "execution_count": null,
   "id": "4c8dd031",
   "metadata": {},
   "outputs": [
    {
     "ename": "ValueError",
     "evalue": "('Not registered in typeclass', (A,))",
     "output_type": "error",
     "traceback": [
      "\u001b[31m---------------------------------------------------------------------------\u001b[39m",
      "\u001b[31mValueError\u001b[39m                                Traceback (most recent call last)",
      "\u001b[36mCell\u001b[39m\u001b[36m \u001b[39m\u001b[32mIn[6]\u001b[39m\u001b[32m, line 20\u001b[39m\n\u001b[32m     16\u001b[39m     \u001b[38;5;28;01mreturn\u001b[39;00m id_, assoc, id_left, inv_left\n\u001b[32m     19\u001b[39m B = smt.DeclareSort(\u001b[33m'\u001b[39m\u001b[33mB\u001b[39m\u001b[33m'\u001b[39m)\n\u001b[32m---> \u001b[39m\u001b[32m20\u001b[39m \u001b[43mgroup\u001b[49m\u001b[43m.\u001b[49m\u001b[43mGroup\u001b[49m\u001b[43m.\u001b[49m\u001b[43mregister\u001b[49m\u001b[43m(\u001b[49m\u001b[43mA\u001b[49m\u001b[43m)\u001b[49m\n\u001b[32m     21\u001b[39m idA, assocA, id_leftA, inv_leftA = Group(A)\n\u001b[32m     22\u001b[39m idB, assocB, id_leftB, inv_leftB = Group(B)\n",
      "\u001b[36mFile \u001b[39m\u001b[32m~/Documents/python/knuckledragger/kdrag/property.py:66\u001b[39m, in \u001b[36mTypeClass.register\u001b[39m\u001b[34m(cls, *L, **kwargs)\u001b[39m\n\u001b[32m     64\u001b[39m     \u001b[38;5;28;01mraise\u001b[39;00m \u001b[38;5;167;01mValueError\u001b[39;00m(\u001b[33m\"\u001b[39m\u001b[33mAlready registered key\u001b[39m\u001b[33m\"\u001b[39m, L)\n\u001b[32m     65\u001b[39m registry[L] = kwargs\n\u001b[32m---> \u001b[39m\u001b[32m66\u001b[39m \u001b[38;5;28;01massert\u001b[39;00m \u001b[38;5;28;43mcls\u001b[39;49m\u001b[43m(\u001b[49m\u001b[43m*\u001b[49m\u001b[43mL\u001b[49m\u001b[43m)\u001b[49m \u001b[38;5;129;01mis\u001b[39;00m \u001b[38;5;129;01mnot\u001b[39;00m \u001b[38;5;28;01mNone\u001b[39;00m\n",
      "\u001b[36mFile \u001b[39m\u001b[32m~/Documents/python/knuckledragger/kdrag/property.py:42\u001b[39m, in \u001b[36mTypeClass.__init__\u001b[39m\u001b[34m(self, *L)\u001b[39m\n\u001b[32m     40\u001b[39m     \u001b[38;5;28msetattr\u001b[39m(\u001b[38;5;28mself\u001b[39m, k, v)\n\u001b[32m     41\u001b[39m \u001b[38;5;28;01mif\u001b[39;00m \u001b[38;5;28mhasattr\u001b[39m(\u001b[38;5;28mself\u001b[39m, \u001b[33m\"\u001b[39m\u001b[33mcheck\u001b[39m\u001b[33m\"\u001b[39m):\n\u001b[32m---> \u001b[39m\u001b[32m42\u001b[39m     \u001b[38;5;28;43mself\u001b[39;49m\u001b[43m.\u001b[49m\u001b[43mcheck\u001b[49m\u001b[43m(\u001b[49m\u001b[43m*\u001b[49m\u001b[43mL\u001b[49m\u001b[43m)\u001b[49m\n",
      "\u001b[36mFile \u001b[39m\u001b[32m~/Documents/python/knuckledragger/kdrag/theories/algebra/group.py:74\u001b[39m, in \u001b[36mGroup.check\u001b[39m\u001b[34m(self, T)\u001b[39m\n\u001b[32m     73\u001b[39m \u001b[38;5;28;01mdef\u001b[39;00m\u001b[38;5;250m \u001b[39m\u001b[34mcheck\u001b[39m(\u001b[38;5;28mself\u001b[39m, T):\n\u001b[32m---> \u001b[39m\u001b[32m74\u001b[39m     \u001b[38;5;28mself\u001b[39m.Monoid = \u001b[43mMonoid\u001b[49m\u001b[43m(\u001b[49m\u001b[43mT\u001b[49m\u001b[43m)\u001b[49m\n\u001b[32m     75\u001b[39m     \u001b[38;5;28mself\u001b[39m.e = \u001b[38;5;28mself\u001b[39m.Monoid.e\n\u001b[32m     76\u001b[39m     \u001b[38;5;28mself\u001b[39m.assoc = \u001b[38;5;28mself\u001b[39m.Monoid.assoc\n",
      "\u001b[36mFile \u001b[39m\u001b[32m~/Documents/python/knuckledragger/kdrag/property.py:38\u001b[39m, in \u001b[36mTypeClass.__init__\u001b[39m\u001b[34m(self, *L)\u001b[39m\n\u001b[32m     36\u001b[39m registry = \u001b[38;5;28mself\u001b[39m.get_registry()\n\u001b[32m     37\u001b[39m \u001b[38;5;28;01mif\u001b[39;00m L \u001b[38;5;129;01mnot\u001b[39;00m \u001b[38;5;129;01min\u001b[39;00m registry:\n\u001b[32m---> \u001b[39m\u001b[32m38\u001b[39m     \u001b[38;5;28;01mraise\u001b[39;00m \u001b[38;5;167;01mValueError\u001b[39;00m(\u001b[33m\"\u001b[39m\u001b[33mNot registered in typeclass\u001b[39m\u001b[33m\"\u001b[39m, L)\n\u001b[32m     39\u001b[39m \u001b[38;5;28;01mfor\u001b[39;00m k, v \u001b[38;5;129;01min\u001b[39;00m registry[L].items():\n\u001b[32m     40\u001b[39m     \u001b[38;5;28msetattr\u001b[39m(\u001b[38;5;28mself\u001b[39m, k, v)\n",
      "\u001b[31mValueError\u001b[39m: ('Not registered in typeclass', (A,))"
     ]
    }
   ],
   "source": [
    "from kdrag.all import *\n",
    "import kdrag.property as prop\n",
    "import kdrag.theories.algebra.group as group\n",
    "\n",
    "A = smt.DeclareSort('A')\n",
    "def Group(A):\n",
    "    mul = smt.Function('mul', A, A, A)\n",
    "    inv = smt.Function('inv', A, A)\n",
    "    id_ = smt.Const('id', A)\n",
    "    x,y,z = smt.Consts('x y z', A)\n",
    "    kd.notation.mul.register(A, mul)\n",
    "    kd.notation.invert.register(A, inv)\n",
    "    assoc = kd.axiom(smt.ForAll([x,y,z], x * (y * z) == (x * y) * z))\n",
    "    id_left = kd.axiom(smt.ForAll([x], id_ * x == x))\n",
    "    inv_left = kd.axiom(smt.ForAll([x], inv(x) * x == id_))\n",
    "    return id_, assoc, id_left, inv_left\n",
    "\n",
    "\n",
    "B = smt.DeclareSort('B')\n",
    "group.Group.register(A)\n",
    "idA, assocA, id_leftA, inv_leftA = Group(A)\n",
    "idB, assocB, id_leftB, inv_leftB = Group(B)\n",
    "\n",
    "h = smt.Function('h', A, B)\n",
    "def homo(id_, h):\n",
    "    A = h.domain(0)\n",
    "    B = h.range()\n",
    "    x,y,z = smt.Consts(\"x y z\", A)\n",
    "    mul = smt.ForAll([x,y], h(x * y) == h(x) * h(y))\n",
    "    id_ = h(idA) == idB\n",
    "    inv = smt.ForAll([x], h(~x) == ~h(x))\n",
    "    return mul, id_, inv\n",
    "homo(h)\n",
    "\n",
    "\n",
    "\n"
   ]
  },
  {
   "cell_type": "markdown",
   "id": "59eb2f2b",
   "metadata": {},
   "source": [
    "Universe of groups.\n",
    "\n",
    "I was saying construct it as permuations  Int -> Int\n",
    "\n",
    "Nontrivial\n",
    "But we could also driectly axiomatize\n",
    "\n",
    "* is composition\n",
    "id is  x -> x\n",
    "homomorphisms need to... be careful here. Only push homo through on particular Group?\n",
    "SetGrp \n",
    "\n",
    "\n",
    "\n"
   ]
  },
  {
   "cell_type": "code",
   "execution_count": null,
   "id": "c038585b",
   "metadata": {},
   "outputs": [],
   "source": [
    "\n",
    "Grp = smt.DeclareSort(\"Grp\")\n",
    "SetGrp = set_.SetSort(Grp)\n",
    "inv = smt.Function(\"inv\", Grp, Grp)\n",
    "# inv = smt.Function(\"inv\", GrpSet, GrpSet)\n",
    "mul = smt.Function(\"mul\", Grp, Grp) # We just leave mul un\n",
    "\n",
    "Closed = smt.QForAll([x,y, S], S[x], S[y], S[x * y], S[inv(x)])\n",
    "\n",
    "smt.QForAll([S], Closed[S], S[x], S[y], S[z],  x*(y*z) == (x * y) * z) # Is there a model where mul can be associative and always defined? \n",
    "smt.QForAll([S], Closed[S], S[x], inv(x) * x == x)  # maybe unconditionally actually\n",
    "smt.QForAll([S], id_ * x == x) # also unconditiojnality"
   ]
  }
 ],
 "metadata": {
  "kernelspec": {
   "display_name": "philzook58.github.io",
   "language": "python",
   "name": "python3"
  },
  "language_info": {
   "codemirror_mode": {
    "name": "ipython",
    "version": 3
   },
   "file_extension": ".py",
   "mimetype": "text/x-python",
   "name": "python",
   "nbconvert_exporter": "python",
   "pygments_lexer": "ipython3",
   "version": "3.12.3"
  }
 },
 "nbformat": 4,
 "nbformat_minor": 5
}
