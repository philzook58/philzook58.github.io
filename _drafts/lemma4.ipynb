{
 "cells": [
  {
   "cell_type": "markdown",
   "id": "49b1eff0",
   "metadata": {},
   "source": [
    "https://github.com/ftsrg/chc2c\n",
    "extraction\n",
    "\n"
   ]
  },
  {
   "cell_type": "markdown",
   "id": "71a5313e",
   "metadata": {},
   "source": [
    "# Schematic Vars\n",
    "Explicitly pulling schematic variables out, may let me refer to them in subproofs (How?)\n",
    "\n",
    "   G |- A\n",
    "------------- weaken\n",
    "     G, v fresh |- A\n",
    "Well that's annoying.\n",
    "\n",
    "app(forall x, A, t)\n",
    "\n",
    "\n",
    "\n",
    "\n",
    "forall x, A  \n"
   ]
  },
  {
   "cell_type": "code",
   "execution_count": null,
   "id": "b6262110",
   "metadata": {},
   "outputs": [],
   "source": [
    "class Proof():\n",
    "    vs : list[smt.ExprRef]\n",
    "    fm : smt.BoolRef | smt.QuantifierRef\n",
    "    reasons : list[object]\n",
    "\n"
   ]
  },
  {
   "cell_type": "markdown",
   "id": "5e114fb5",
   "metadata": {},
   "source": [
    "Ok so yes, any forall infecting the lemmas is a problem.\n",
    "And some things get foralls because its hard an annoying \n",
    "\n",
    "qed should \n"
   ]
  },
  {
   "cell_type": "code",
   "execution_count": 6,
   "id": "fe69def9",
   "metadata": {},
   "outputs": [],
   "source": [
    "from kdrag.all import *\n",
    "import kdrag.theories.real as real\n",
    "x,y = smt.Reals(\"x y\")\n",
    "cos = real.cos\n",
    "sin = real.sin\n",
    "#os_diff = kd.prove(smt.ForAll([x,y], cos(x - y) == cos(x)*cos(y) + sin(x)*sin(y)), [real.cos_add, real.cos_neg, real.sin_neg])\n",
    "\n",
    "_l = kd.Lemma(smt.ForAll([x,y], cos(x - y) == cos(x)*cos(y) + sin(x)*sin(y)))\n",
    "_x, _y = _l.fixes()\n",
    "_l.symm()\n",
    "_l.eq(cos(_x + (-_y)))\n",
    "#_l.rw(kd.prove(cos(_x - _y) == cos(_x + (-_y))))\n",
    "#_l.rw(kd.prove(smt.ForAll([x,y], x - y == (x + (-y))))(_x, _y))\n",
    "_l.rw(real.cos_add(_x, -_y))\n",
    "#_l.auto(by=[real.cos_add, real.sin_add])\n",
    "_l.auto(by=[real.cos_neg(_y), real.sin_neg(_y)])\n",
    "_l.lemmas\n",
    "_l.qed()\n",
    "cos_diff = _l.lemmas\n"
   ]
  },
  {
   "cell_type": "markdown",
   "id": "1cd2f219",
   "metadata": {},
   "source": [
    "# Homomorphism theorems\n"
   ]
  },
  {
   "cell_type": "code",
   "execution_count": null,
   "id": "4c8dd031",
   "metadata": {},
   "outputs": [
    {
     "ename": "ValueError",
     "evalue": "('Not registered in typeclass', (A,))",
     "output_type": "error",
     "traceback": [
      "\u001b[31m---------------------------------------------------------------------------\u001b[39m",
      "\u001b[31mValueError\u001b[39m                                Traceback (most recent call last)",
      "\u001b[36mCell\u001b[39m\u001b[36m \u001b[39m\u001b[32mIn[6]\u001b[39m\u001b[32m, line 20\u001b[39m\n\u001b[32m     16\u001b[39m     \u001b[38;5;28;01mreturn\u001b[39;00m id_, assoc, id_left, inv_left\n\u001b[32m     19\u001b[39m B = smt.DeclareSort(\u001b[33m'\u001b[39m\u001b[33mB\u001b[39m\u001b[33m'\u001b[39m)\n\u001b[32m---> \u001b[39m\u001b[32m20\u001b[39m \u001b[43mgroup\u001b[49m\u001b[43m.\u001b[49m\u001b[43mGroup\u001b[49m\u001b[43m.\u001b[49m\u001b[43mregister\u001b[49m\u001b[43m(\u001b[49m\u001b[43mA\u001b[49m\u001b[43m)\u001b[49m\n\u001b[32m     21\u001b[39m idA, assocA, id_leftA, inv_leftA = Group(A)\n\u001b[32m     22\u001b[39m idB, assocB, id_leftB, inv_leftB = Group(B)\n",
      "\u001b[36mFile \u001b[39m\u001b[32m~/Documents/python/knuckledragger/kdrag/property.py:66\u001b[39m, in \u001b[36mTypeClass.register\u001b[39m\u001b[34m(cls, *L, **kwargs)\u001b[39m\n\u001b[32m     64\u001b[39m     \u001b[38;5;28;01mraise\u001b[39;00m \u001b[38;5;167;01mValueError\u001b[39;00m(\u001b[33m\"\u001b[39m\u001b[33mAlready registered key\u001b[39m\u001b[33m\"\u001b[39m, L)\n\u001b[32m     65\u001b[39m registry[L] = kwargs\n\u001b[32m---> \u001b[39m\u001b[32m66\u001b[39m \u001b[38;5;28;01massert\u001b[39;00m \u001b[38;5;28;43mcls\u001b[39;49m\u001b[43m(\u001b[49m\u001b[43m*\u001b[49m\u001b[43mL\u001b[49m\u001b[43m)\u001b[49m \u001b[38;5;129;01mis\u001b[39;00m \u001b[38;5;129;01mnot\u001b[39;00m \u001b[38;5;28;01mNone\u001b[39;00m\n",
      "\u001b[36mFile \u001b[39m\u001b[32m~/Documents/python/knuckledragger/kdrag/property.py:42\u001b[39m, in \u001b[36mTypeClass.__init__\u001b[39m\u001b[34m(self, *L)\u001b[39m\n\u001b[32m     40\u001b[39m     \u001b[38;5;28msetattr\u001b[39m(\u001b[38;5;28mself\u001b[39m, k, v)\n\u001b[32m     41\u001b[39m \u001b[38;5;28;01mif\u001b[39;00m \u001b[38;5;28mhasattr\u001b[39m(\u001b[38;5;28mself\u001b[39m, \u001b[33m\"\u001b[39m\u001b[33mcheck\u001b[39m\u001b[33m\"\u001b[39m):\n\u001b[32m---> \u001b[39m\u001b[32m42\u001b[39m     \u001b[38;5;28;43mself\u001b[39;49m\u001b[43m.\u001b[49m\u001b[43mcheck\u001b[49m\u001b[43m(\u001b[49m\u001b[43m*\u001b[49m\u001b[43mL\u001b[49m\u001b[43m)\u001b[49m\n",
      "\u001b[36mFile \u001b[39m\u001b[32m~/Documents/python/knuckledragger/kdrag/theories/algebra/group.py:74\u001b[39m, in \u001b[36mGroup.check\u001b[39m\u001b[34m(self, T)\u001b[39m\n\u001b[32m     73\u001b[39m \u001b[38;5;28;01mdef\u001b[39;00m\u001b[38;5;250m \u001b[39m\u001b[34mcheck\u001b[39m(\u001b[38;5;28mself\u001b[39m, T):\n\u001b[32m---> \u001b[39m\u001b[32m74\u001b[39m     \u001b[38;5;28mself\u001b[39m.Monoid = \u001b[43mMonoid\u001b[49m\u001b[43m(\u001b[49m\u001b[43mT\u001b[49m\u001b[43m)\u001b[49m\n\u001b[32m     75\u001b[39m     \u001b[38;5;28mself\u001b[39m.e = \u001b[38;5;28mself\u001b[39m.Monoid.e\n\u001b[32m     76\u001b[39m     \u001b[38;5;28mself\u001b[39m.assoc = \u001b[38;5;28mself\u001b[39m.Monoid.assoc\n",
      "\u001b[36mFile \u001b[39m\u001b[32m~/Documents/python/knuckledragger/kdrag/property.py:38\u001b[39m, in \u001b[36mTypeClass.__init__\u001b[39m\u001b[34m(self, *L)\u001b[39m\n\u001b[32m     36\u001b[39m registry = \u001b[38;5;28mself\u001b[39m.get_registry()\n\u001b[32m     37\u001b[39m \u001b[38;5;28;01mif\u001b[39;00m L \u001b[38;5;129;01mnot\u001b[39;00m \u001b[38;5;129;01min\u001b[39;00m registry:\n\u001b[32m---> \u001b[39m\u001b[32m38\u001b[39m     \u001b[38;5;28;01mraise\u001b[39;00m \u001b[38;5;167;01mValueError\u001b[39;00m(\u001b[33m\"\u001b[39m\u001b[33mNot registered in typeclass\u001b[39m\u001b[33m\"\u001b[39m, L)\n\u001b[32m     39\u001b[39m \u001b[38;5;28;01mfor\u001b[39;00m k, v \u001b[38;5;129;01min\u001b[39;00m registry[L].items():\n\u001b[32m     40\u001b[39m     \u001b[38;5;28msetattr\u001b[39m(\u001b[38;5;28mself\u001b[39m, k, v)\n",
      "\u001b[31mValueError\u001b[39m: ('Not registered in typeclass', (A,))"
     ]
    }
   ],
   "source": [
    "from kdrag.all import *\n",
    "import kdrag.property as prop\n",
    "import kdrag.theories.algebra.group as group\n",
    "\n",
    "A = smt.DeclareSort('A')\n",
    "def Group(A):\n",
    "    mul = smt.Function('mul', A, A, A)\n",
    "    inv = smt.Function('inv', A, A)\n",
    "    id_ = smt.Const('id', A)\n",
    "    x,y,z = smt.Consts('x y z', A)\n",
    "    kd.notation.mul.register(A, mul)\n",
    "    kd.notation.invert.register(A, inv)\n",
    "    assoc = kd.axiom(smt.ForAll([x,y,z], x * (y * z) == (x * y) * z))\n",
    "    id_left = kd.axiom(smt.ForAll([x], id_ * x == x))\n",
    "    inv_left = kd.axiom(smt.ForAll([x], inv(x) * x == id_))\n",
    "    return id_, assoc, id_left, inv_left\n",
    "\n",
    "\n",
    "B = smt.DeclareSort('B')\n",
    "group.Group.register(A)\n",
    "idA, assocA, id_leftA, inv_leftA = Group(A)\n",
    "idB, assocB, id_leftB, inv_leftB = Group(B)\n",
    "\n",
    "h = smt.Function('h', A, B)\n",
    "def homo(id_, h):\n",
    "    A = h.domain(0)\n",
    "    B = h.range()\n",
    "    x,y,z = smt.Consts(\"x y z\", A)\n",
    "    mul = smt.ForAll([x,y], h(x * y) == h(x) * h(y))\n",
    "    id_ = h(idA) == idB\n",
    "    inv = smt.ForAll([x], h(~x) == ~h(x))\n",
    "    return mul, id_, inv\n",
    "homo(h)\n",
    "\n",
    "\n",
    "\n"
   ]
  },
  {
   "cell_type": "markdown",
   "id": "59eb2f2b",
   "metadata": {},
   "source": [
    "Universe of groups.\n",
    "\n",
    "I was saying construct it as permuations  Int -> Int\n",
    "\n",
    "Nontrivial\n",
    "But we could also driectly axiomatize\n",
    "\n",
    "* is composition\n",
    "id is  x -> x\n",
    "homomorphisms need to... be careful here. Only push homo through on particular Group?\n",
    "SetGrp \n",
    "\n",
    "\n",
    "\n"
   ]
  },
  {
   "cell_type": "code",
   "execution_count": null,
   "id": "c038585b",
   "metadata": {},
   "outputs": [],
   "source": [
    "\n",
    "Grp = smt.DeclareSort(\"Grp\")\n",
    "SetGrp = set_.SetSort(Grp)\n",
    "inv = smt.Function(\"inv\", Grp, Grp)\n",
    "# inv = smt.Function(\"inv\", GrpSet, GrpSet)\n",
    "mul = smt.Function(\"mul\", Grp, Grp) # We just leave mul un\n",
    "\n",
    "Closed = smt.QForAll([x,y, S], S[x], S[y], S[x * y], S[inv(x)])\n",
    "\n",
    "smt.QForAll([S], Closed[S], S[x], S[y], S[z],  x*(y*z) == (x * y) * z) # Is there a model where mul can be associative and always defined? \n",
    "smt.QForAll([S], Closed[S], S[x], inv(x) * x == x)  # maybe unconditionally actually\n",
    "smt.QForAll([S], id_ * x == x) # also unconditiojnality"
   ]
  }
 ],
 "metadata": {
  "kernelspec": {
   "display_name": ".venv",
   "language": "python",
   "name": "python3"
  },
  "language_info": {
   "codemirror_mode": {
    "name": "ipython",
    "version": 3
   },
   "file_extension": ".py",
   "mimetype": "text/x-python",
   "name": "python",
   "nbconvert_exporter": "python",
   "pygments_lexer": "ipython3",
   "version": "3.12.3"
  }
 },
 "nbformat": 4,
 "nbformat_minor": 5
}
