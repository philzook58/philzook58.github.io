{
 "cells": [
  {
   "cell_type": "markdown",
   "metadata": {},
   "source": [
    "Programmers of venice\n",
    "\n",
    "\n",
    "Bulding problem Solvers\n",
    "\n",
    "Jon Doyle 79. Thesis https://www.csc2.ncsu.edu/faculty/jdoyle2/publications/\n",
    " Mechanics and Mind https://www.amazon.com/Extending-Mechanics-Minds-Mechanical-Foundations/dp/0521861977\n",
    "\n",
    "Hacker Sussman\n",
    "MIT is anti-logic\n",
    "\n",
    "Programmer's assistant Howie Schrobe\n",
    "\n",
    "Doug Lenat Cuc\n",
    "Automated Reasoner\n",
    "https://en.wikipedia.org/wiki/Eurisko \n",
    "\n",
    "MIT lab had a version of CDCL. Dependency infomred back jumping\n",
    "Depednency directed backtracking https://dspace.mit.edu/handle/1721.1/6255\n",
    "\n",
    "Forward Reasoning and Dependency-Directed Backtracking in a System for Computer-Aided Circuit Analysis - stallman sussman\n",
    "http://unbox.org/wisp/doc/schemerAAAI87.pdf Non-Deterministic Lisp with Dependency-Directed Backtracking\n",
    "\n",
    "\n",
    "Lisp-3 https://github.com/nikitadanilov/3-lisp\n",
    "https://blog.sigplan.org/2021/08/12/reflective-towers-of-interpreters/\n",
    "\n",
    "Sussman propagatoirs\n",
    "Pro probabuility now. Cop sees smashed window and guy with jewels\n",
    "\n",
    "https://cdn.aaai.org/AAAI/1990/AAAI90-164.pdf Truth maintenance 1990 mcallester\n",
    "\n",
    "Mcallester reasoning utlities package. Congurence closure? https://home.ttic.edu/~dmcallester/\n",
    "RUP \n",
    "https://scholar.google.com/citations?view_op=view_citation&hl=en&user=nbpafUkAAAAJ&cstart=160&sortby=pubdate&citation_for_view=nbpafUkAAAAJ:roLk4NBRz8UC\n",
    "81 solving uninterpeewted equations\n",
    "Ther use of equality in deduction and knowledge representation\n",
    "https://home.ttic.edu/~dmcallester/ontic.html ontic https://apps.dtic.mil/sti/tr/pdf/ADA190553.pdf\n",
    "\n",
    "Ontic mentions using congrunce closure to perform unification. I suppose if you have a stateful persepctive that is doable with fresh().\n",
    "\n",
    "Ontic types - shankar\n",
    "\n",
    "https://engineering.purdue.edu/~givan/papers/addct13.pdf  Congruence closure with ACI function symbols\n",
    "\n",
    "McCarthy elephant 2000\n",
    "Advice taker https://en.wikipedia.org/wiki/Advice_taker\n",
    "\n",
    "Truth Management system TMS = SMT backwards! Holy SHIT\n",
    "\n",
    "\n"
   ]
  },
  {
   "cell_type": "markdown",
   "metadata": {},
   "source": [
    "# Rete\n",
    "Rete implementatyion of prolog?\n",
    "https://www.drdobbs.com/architecture-and-design/the-rete-matching-algorithm/184405218\n",
    "https://stackoverflow.com/questions/48486482/prolog-backtracking-vs-rete-backtracking\n",
    "\n",
    "https://staff.um.edu.mt/mcam1/Files/Dissertation.pdf Theoretical frameowkr and implementation of prolog interpreter\n",
    "\n",
    "http://haleyai.com/wordpress/2008/03/11/goals-and-backward-chaining-using-the-rete-algorithm/ \n",
    "Rete in Koppel and Rete in PEG\n",
    "\n",
    "https://swa.informatik.uni-hamburg.de/files/abschlussarbeiten/Diplomarbeit_Eryk_Lagun.pdf"
   ]
  },
  {
   "cell_type": "markdown",
   "metadata": {},
   "source": [
    "# Truth Maintenance\n",
    "\n",
    "https://en.wikipedia.org/wiki/Reason_maintenance\n",
    "\n",
    "justified truth maintennance\n",
    "\n",
    "https://plato.stanford.edu/entries/logic-nonmonotonic/\n",
    "\n",
    "http://haleyai.com/wordpress/2008/03/11/goals-and-backward-chaining-using-the-rete-algorithm/\n",
    "\n",
    "\n",
    "\n"
   ]
  },
  {
   "cell_type": "markdown",
   "metadata": {},
   "source": [
    "# CLIPS\n",
    "\n",
    "\n",
    "drools\n",
    "\n",
    "CLIPS is kind of like dastalog\n",
    "\n",
    "OPS5 \n",
    "\n",
    "https://www.clipsrules.net/\n",
    "\n",
    "https://news.ycombinator.com/item?id=40480242 \n",
    "https://github.com/bollu/rete\n",
    "Rete algorithm is some kind of semi naive hting\n",
    "\n",
    "Some egraph systems were rete based. Peggy and Jimmy's\n",
    "\n",
    "https://ryjo.codes/tour-of-clips.html tour of clips\n",
    "https://news.ycombinator.com/item?id=40201729\n",
    "\n",
    "https://www.drdobbs.com/cpp/symbolic-integration-using-clips/184410219\n",
    "\n",
    "\n",
    "https://github.com/noxdafox/clipspy \n",
    "https://github.com/ubarkai/rulu \n",
    "https://github.com/almostearthling/pyclips older?\n",
    "\n",
    "drools\n",
    "http://noolsjs.com/ javascript"
   ]
  },
  {
   "cell_type": "code",
   "execution_count": 1,
   "metadata": {},
   "outputs": [
    {
     "name": "stdout",
     "output_type": "stream",
     "text": [
      "Defaulting to user installation because normal site-packages is not writeable\n",
      "Collecting clipspy\n",
      "  Downloading clipspy-1.0.3-cp310-cp310-manylinux_2_17_x86_64.manylinux2014_x86_64.whl.metadata (3.7 kB)\n",
      "Requirement already satisfied: cffi>=1.0.0 in /home/philip/.local/lib/python3.10/site-packages (from clipspy) (1.16.0)\n",
      "Requirement already satisfied: pycparser in /home/philip/.local/lib/python3.10/site-packages (from cffi>=1.0.0->clipspy) (2.21)\n",
      "Downloading clipspy-1.0.3-cp310-cp310-manylinux_2_17_x86_64.manylinux2014_x86_64.whl (891 kB)\n",
      "\u001b[2K   \u001b[90m━━━━━━━━━━━━━━━━━━━━━━━━━━━━━━━━━━━━━━━━\u001b[0m \u001b[32m891.6/891.6 kB\u001b[0m \u001b[31m11.8 MB/s\u001b[0m eta \u001b[36m0:00:00\u001b[0ma \u001b[36m0:00:01\u001b[0m\n",
      "\u001b[?25hInstalling collected packages: clipspy\n",
      "Successfully installed clipspy-1.0.3\n"
     ]
    }
   ],
   "source": [
    "! pip install clipspy"
   ]
  }
 ],
 "metadata": {
  "kernelspec": {
   "display_name": "Python 3",
   "language": "python",
   "name": "python3"
  },
  "language_info": {
   "codemirror_mode": {
    "name": "ipython",
    "version": 3
   },
   "file_extension": ".py",
   "mimetype": "text/x-python",
   "name": "python",
   "nbconvert_exporter": "python",
   "pygments_lexer": "ipython3",
   "version": "3.10.12"
  }
 },
 "nbformat": 4,
 "nbformat_minor": 2
}
