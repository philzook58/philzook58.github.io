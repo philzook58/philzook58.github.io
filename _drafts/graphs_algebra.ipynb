{
 "cells": [
  {
   "cell_type": "code",
   "execution_count": null,
   "metadata": {},
   "outputs": [],
   "source": []
  },
  {
   "cell_type": "markdown",
   "metadata": {},
   "source": [
    "https://doisinkidney.com/posts/2024-11-08-formalising-graphs-coinduction.html"
   ]
  },
  {
   "cell_type": "markdown",
   "metadata": {},
   "source": [
    "What is a graph?\n",
    "\n",
    "What do you want to do on it?\n",
    "\n",
    "\n",
    "Search a graph\n",
    "spanning tree\n",
    "routing on a graph\n",
    "shortest path\n",
    "maximum flow\n",
    "minimum cut\n",
    "maximum matching\n",
    "minimum spanning tree\n",
    "strongly connected components\n",
    "biconnected components\n",
    "articulation points\n",
    "bridges\n",
    "2-edge connected components\n",
    "\n",
    "\n",
    "colorings\n",
    "covers\n",
    "\n",
    "# Tree Decomposition\n",
    "\n",
    "https://dl.acm.org/doi/10.1145/3689801  Fast and Optimal Extraction for Sparse Equality Graphs\n",
    "https://github.com/mabseher/htd hypertree decomposition\n",
    "https://github.com/PACE-challenge/Treewidth\n",
    "https://pypi.org/project/treedecomp/\n",
    "https://networkx.org/documentation/latest/reference/algorithms/approximation.html#module-networkx.algorithms.approximation.treewidth\n"
   ]
  },
  {
   "cell_type": "code",
   "execution_count": null,
   "metadata": {},
   "outputs": [],
   "source": [
    "# tree decomp\n",
    "class Node():\n",
    "    bag: set[V]\n",
    "    bagedges : set[E]\n",
    "    children: set[Node]\n",
    "\n",
    "    def treewidth(self):\n",
    "        return max(len(self.bag) - 1, max([c.treewidth() for c in self.children]))\n",
    "    \n",
    "\n",
    "class GraphTree():\n",
    "    here: set[V] # nodes only here\n",
    "    edges: set[E] #egdes between only here and children\n",
    "    children: set[tuple[set[V], GraphTree]]\n",
    "\n",
    "    def color(self, colors):\n",
    "       # take in a list of colors \n"
   ]
  },
  {
   "cell_type": "code",
   "execution_count": null,
   "metadata": {},
   "outputs": [],
   "source": [
    "V = int\n",
    "Edge = tuple[V,V]\n",
    "\n",
    "# flat reps\n",
    "Graph1 = set[Edge]\n",
    "Graph2 = list[Edge]\n",
    "Graph3 = dict[V, set[V]]\n",
    "\n",
    "\n",
    "# structured representations"
   ]
  },
  {
   "cell_type": "code",
   "execution_count": null,
   "metadata": {},
   "outputs": [],
   "source": [
    "# kerngihan Lin\n",
    "\n",
    "def kl(edges):\n",
    "    A = set()\n",
    "    B = set()\n",
    "    \n",
    "\n"
   ]
  },
  {
   "cell_type": "markdown",
   "metadata": {},
   "source": [
    "# Graph canonicalization\n",
    "\n",
    "## group theory\n",
    "This is neither here nor there kind of. It's \"just\" for symmettry breaking during search, which is especially painful in canonization search\n",
    "\n",
    "\n",
    "caonicalizing graphs  via brute force. Come up with a system of serialzing, sort those strings. Not necessarily stable in any sense though\n",
    "graph isomorphism\n",
    "Sims-schreiers\n",
    "\n",
    "schreir vectors = spanning tree. (?) store group element that would connect to previous node of spanning tree. \n",
    "This is the group union find? Huh.\n",
    "\n",
    "schreir sims - a canonical form of group element. https://en.wikipedia.org/wiki/Schreier%E2%80%93Sims_algorithm\n",
    "\n",
    "Stabilizer = subgroup defined as the the group elements that leave a particular elemement unchanged\n",
    "\n",
    "Schreir generators. If we pick representatives of the cosets of a subgroup, we can generate the subgroup using combined generators and repsdentatives as generators.\n",
    "\n",
    "Return stabilizer of initial point as collection of schreier generatoras. Orbit stabilizer algorithm\n",
    "\n",
    "https://en.wikipedia.org/wiki/Group_action\n",
    "\n",
    "undirected Graph where every neighborhood has the same moves = group action on vertex set. edge pattern is generators. \n",
    "https://en.wikipedia.org/wiki/Cayley_graph\n",
    "Origin is special or no?\n",
    "Stabilizer group of origin are loops.\n",
    "rubiks cube\n",
    "\n",
    "https://terrytao.wordpress.com/2010/07/10/cayley-graphs-and-the-geometry-of-groups/\n",
    "subgroups and bundles\n",
    "\n",
    "a base, special points.\n",
    "What if graph is disconnected?\n",
    "\n",
    "Consider general graphs as mangled cayley graphs.\n",
    "Even if I was given two cayley graphs is it obvious how to canonicaslize it?\n",
    "The point of gropup theory is to cut down on boring symmettry explosion. Where is this?\n",
    "\n",
    "cosets partition... partition refinement using group tags?\n",
    "\n",
    "g = (h, g')  where h is element of subgroup and g' is caonoical represdentiatvie of coset\n"
   ]
  },
  {
   "cell_type": "code",
   "execution_count": 14,
   "metadata": {},
   "outputs": [],
   "source": [
    "from dataclasses import dataclass\n",
    "@dataclass(frozen=True)\n",
    "class Perm():\n",
    "    perm : list[int]\n",
    "    @classmethod  \n",
    "    def e(self, n):\n",
    "        return Perm(list(range(n)))\n",
    "    def __mul__(self, other):\n",
    "        return Perm([self.perm[p] for p in other.perm])\n",
    "    \n",
    "e3 = Perm.e(3)\n",
    "assert e3 * e3 == e3\n",
    "p = Perm([1,0])\n",
    "assert p * p == Perm.e(2)\n",
    "assert Perm([1,2,0]) * Perm([2,0,1]) == Perm([0,1,2])\n",
    "\n",
    "\n",
    "def naive()\n"
   ]
  },
  {
   "cell_type": "markdown",
   "metadata": {},
   "source": [
    "Suppose I wanted the automorphism group.\n",
    "Can I generate it?"
   ]
  },
  {
   "cell_type": "markdown",
   "metadata": {},
   "source": [
    " swaps\n",
    "Generate permutation group. swaps\n",
    "\n",
    "Also, swaps are kind of an incrementalo strcturue which is good for functional programming maybe.\n",
    "\n",
    "note that this is a method to generate permutations too. swap to decide which element of remaining in in nth position.\n",
    "\n",
    "https://en.wikipedia.org/wiki/Steinhaus%E2%80%93Johnson%E2%80%93Trotter_algorithm  Steinhaus–Johnson–Trotter algorithm\n",
    "https://en.wikipedia.org/wiki/Heap%27s_algorithm\n",
    "https://en.wikipedia.org/wiki/Fisher%E2%80%93Yates_shuffle randomly genrate a permutation"
   ]
  },
  {
   "cell_type": "code",
   "execution_count": null,
   "metadata": {},
   "outputs": [],
   "source": [
    "\n",
    "\n",
    "def canon(G, N):\n",
    "    swaps = [(i,j) for i in range(N) for j in range(i)]\n",
    "    for \n",
    "    for p in permutations(range(3)):\n",
    "        yield perm_graph(p, G)"
   ]
  },
  {
   "cell_type": "markdown",
   "metadata": {},
   "source": [
    "If we do a more careful backtracking search, we can prune a lot.\n",
    "We learn partial order constraints as we go. Maybe a difference logic thing would be helpful.\n",
    "We get good strings by ordering the vertices by degree first.\n",
    "We can do a lot of propagation.\n",
    "We can do prefix comparison because we're being lexicographic.\n",
    "\n",
    "\n",
    "\n"
   ]
  },
  {
   "cell_type": "markdown",
   "metadata": {},
   "source": [
    "We could have other representations of graphs. A tree representation follows naturally from Tree Decomposition (kind of. We also need to create a unique tree decomp... or use an ordering that doesn't care which tree decomp we picked. Hmmmm. best Spanning tree? Again tie breaking here brings in graph canonization. These things need to be considered bolted together).\n",
    "We could then use total tree orderings instead of string orderings.\n",
    "\n",
    "\"Natrual graph orderings\" like that minor homomorphism thing. https://en.wikipedia.org/wiki/Robertson%E2%80%93Seymour_theorem\n",
    "\n",
    "Maybe this is more sensical for tree with backref ids. Which numbers do we put in the backref ids to make canonical. Then the tree structure exists a priori.\n"
   ]
  },
  {
   "cell_type": "markdown",
   "metadata": {},
   "source": []
  },
  {
   "cell_type": "code",
   "execution_count": 22,
   "metadata": {},
   "outputs": [
    {
     "data": {
      "text/plain": [
       "[[0, 1], [2]]"
      ]
     },
     "execution_count": 22,
     "metadata": {},
     "output_type": "execute_result"
    }
   ],
   "source": [
    "# to get cycles. Orbits under subgroup consisting of p^n. Generated by <p>\n",
    "def cycles(p):\n",
    "    found = set()\n",
    "    for i in range(len(p)):\n",
    "        if i not in found:\n",
    "            cycle = []\n",
    "            j = i\n",
    "            while j not in cycle:\n",
    "                cycle.append(j)\n",
    "                j = p[j]\n",
    "            yield cycle\n",
    "            found.update(cycle)\n",
    "\n",
    "list(cycles([1,0,2]))\n",
    "\n",
    "def inv(p):\n",
    "    inv = [0]*len(p)\n",
    "    for i in range(len(p)):\n",
    "        inv[p[i]] = i\n",
    "    return inv\n",
    "\n",
    "def orbit(ps, n):\n",
    "    found = set()\n",
    "    done = False\n",
    "    while not done:\n",
    "        done = False\n",
    "        for f in found:\n",
    "            for p in ps:\n",
    "                e = p[f]\n",
    "                if e not in found:\n",
    "                    done = False\n",
    "                    found.add(e)\n",
    "\n",
    "Perm = list[int]\n",
    "# orbit of is fixed point of this operation starting from {x}.\n",
    "def step(G : list[Perm], s : set[int]) -> set[int]: # G is list/set of permutations\n",
    "    return s | {p[i] for p in G for i in s}\n",
    "\n",
    "def is_inv(G,s):\n",
    "    return s == step(G,s)\n",
    "\n",
    "# can apply standard seminaive trick\n",
    "# can retain \"proof\" / path as group union find.\n",
    "\n",
    "# schreier vectors\n",
    "\n",
    "\n",
    "# base\n",
    "# strong generating set\n",
    "\n"
   ]
  },
  {
   "cell_type": "code",
   "execution_count": null,
   "metadata": {},
   "outputs": [],
   "source": [
    "def termact(p, t):\n",
    "    head,*args = t\n",
    "    return (head,*[termact(p,a) for a in args])\n",
    "def canon(t, N):\n",
    "    # a silly implementation.\n",
    "    min([ termact(p,t) for p in itertools.permutations(range(N))])\n",
    "\n"
   ]
  }
 ],
 "metadata": {
  "kernelspec": {
   "display_name": "Python 3",
   "language": "python",
   "name": "python3"
  },
  "language_info": {
   "codemirror_mode": {
    "name": "ipython",
    "version": 3
   },
   "file_extension": ".py",
   "mimetype": "text/x-python",
   "name": "python",
   "nbconvert_exporter": "python",
   "pygments_lexer": "ipython3",
   "version": "3.10.12"
  }
 },
 "nbformat": 4,
 "nbformat_minor": 2
}
