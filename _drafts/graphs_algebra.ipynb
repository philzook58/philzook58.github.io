{
 "cells": [
  {
   "cell_type": "code",
   "execution_count": null,
   "metadata": {},
   "outputs": [],
   "source": []
  },
  {
   "cell_type": "markdown",
   "metadata": {},
   "source": [
    "What is a graph?\n",
    "\n",
    "What do you want to do on it?\n",
    "\n",
    "\n",
    "Search a graph\n",
    "spanning tree\n",
    "routing on a graph\n",
    "shortest path\n",
    "maximum flow\n",
    "minimum cut\n",
    "maximum matching\n",
    "minimum spanning tree\n",
    "strongly connected components\n",
    "biconnected components\n",
    "articulation points\n",
    "bridges\n",
    "2-edge connected components\n",
    "\n",
    "\n",
    "colorings\n",
    "covers\n",
    "\n",
    "https://dl.acm.org/doi/10.1145/3689801  Fast and Optimal Extraction for Sparse Equality Graphs\n",
    "https://github.com/mabseher/htd hypertree decomposition\n",
    "https://github.com/PACE-challenge/Treewidth\n",
    "https://pypi.org/project/treedecomp/\n",
    "https://networkx.org/documentation/latest/reference/algorithms/approximation.html#module-networkx.algorithms.approximation.treewidth\n"
   ]
  },
  {
   "cell_type": "code",
   "execution_count": null,
   "metadata": {},
   "outputs": [],
   "source": [
    "# tree decomp\n",
    "class Node():\n",
    "    bag: set[V]\n",
    "    bagedges : set[E]\n",
    "    children: set[Node]\n",
    "\n",
    "    def treewidth(self):\n",
    "        return max(len(self.bag) - 1, max([c.treewidth() for c in self.children]))\n",
    "    \n",
    "\n",
    "class GraphTree():\n",
    "    here: set[V] # nodes only here\n",
    "    edges: set[E] #egdes between only here and children\n",
    "    children: set[tuple[set[V], GraphTree]]\n",
    "\n",
    "    def color(self, colors):\n",
    "       # take in a list of colors \n"
   ]
  },
  {
   "cell_type": "code",
   "execution_count": null,
   "metadata": {},
   "outputs": [],
   "source": [
    "V = int\n",
    "Edge = tuple[V,V]\n",
    "\n",
    "# flat reps\n",
    "Graph1 = set[Edge]\n",
    "Graph2 = list[Edge]\n",
    "Graph3 = dict[V, set[V]]\n",
    "\n",
    "\n",
    "# structured representations"
   ]
  },
  {
   "cell_type": "code",
   "execution_count": null,
   "metadata": {},
   "outputs": [],
   "source": [
    "# kerngihan Lin\n",
    "\n",
    "def kl(edges):\n",
    "    A = set()\n",
    "    B = set()\n",
    "    \n",
    "\n"
   ]
  }
 ],
 "metadata": {
  "language_info": {
   "name": "python"
  }
 },
 "nbformat": 4,
 "nbformat_minor": 2
}
