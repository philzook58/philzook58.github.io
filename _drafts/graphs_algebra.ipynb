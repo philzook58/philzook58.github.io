{
 "cells": [
  {
   "cell_type": "code",
   "execution_count": null,
   "metadata": {},
   "outputs": [],
   "source": []
  },
  {
   "cell_type": "markdown",
   "metadata": {},
   "source": [
    "https://doisinkidney.com/posts/2024-11-08-formalising-graphs-coinduction.html\n",
    "\n",
    "\n",
    "Graph homomorphisms are also acted on by the permutations of labels. left and right action. so... the slotted tensor thing maybe is like that? It's a graph homorphism from the symmetry graph of the slots to the labels...\n",
    "\n",
    "Substitutions vs term homomorphisms\n",
    "\n",
    "Catlab Csets. ALgerbaic rewriting DPO SPO.\n",
    "\n",
    "https://doc.sagemath.org/html/en/reference/graphs/sage/graphs/graph_decompositions/rankwidth.html rank width decomposition rw\n",
    "what's this all about?\n",
    "\n",
    "https://doc.sagemath.org/html/en/reference/graphs/sage/graphs/graph_decompositions/modular_decomposition.html modular decomposition\n",
    "https://doc.sagemath.org/html/en/reference/graphs/sage/graphs/graph_decompositions/tree_decomposition.html\n"
   ]
  },
  {
   "cell_type": "markdown",
   "metadata": {},
   "source": [
    "What is a graph?\n",
    "\n",
    "What do you want to do on it?\n",
    "\n",
    "\n",
    "Search a graph\n",
    "spanning tree\n",
    "routing on a graph\n",
    "shortest path\n",
    "maximum flow\n",
    "minimum cut\n",
    "maximum matching\n",
    "minimum spanning tree\n",
    "strongly connected components\n",
    "biconnected components\n",
    "articulation points\n",
    "bridges\n",
    "2-edge connected components\n",
    "\n",
    "\n",
    "colorings\n",
    "covers\n",
    "\n",
    "# Tree Decomposition\n",
    "\n",
    "https://dl.acm.org/doi/10.1145/3689801  Fast and Optimal Extraction for Sparse Equality Graphs\n",
    "https://github.com/mabseher/htd hypertree decomposition\n",
    "https://github.com/PACE-challenge/Treewidth\n",
    "https://pypi.org/project/treedecomp/\n",
    "https://networkx.org/documentation/latest/reference/algorithms/approximation.html#module-networkx.algorithms.approximation.treewidth\n"
   ]
  },
  {
   "cell_type": "code",
   "execution_count": null,
   "metadata": {},
   "outputs": [],
   "source": [
    "# brute force\n",
    "graph = [(1,2),(3,4), (4,5)]\n",
    "\n",
    "# https://docs.python.org/3/library/itertools.html#itertools-recipes\n",
    "def powerset(iterable):\n",
    "    \"powerset([1,2,3]) → () (1,) (2,) (3,) (1,2) (1,3) (2,3) (1,2,3)\"\n",
    "    s = list(iterable)\n",
    "    return chain.from_iterable(combinations(s, r) for r in range(len(s)+1))\n",
    "\n",
    "def all_tree_decomp(V,G):\n",
    "    #vertices = list(set(i for i,j in G) + set(j for i,j in G))\n",
    "    # pick some for this bag\n",
    "    # pick some edges\n",
    "    if len(V) == 0:\n",
    "        return () \n",
    "    for deledges in powerset(G):\n",
    "        bag = set([i for i,j in deledges] + [j for i,j in deledges])\n",
    "        # one or more children\n",
    "        # all ways of breaking up? multinomial?\n",
    "        # two overlapping subsets?\n",
    "        # Well ok, binary tree decompositions is possibly a different thing, but why not\n",
    "\n",
    "\n",
    "\n",
    "    for bag in powerset(V):\n",
    "        # how do I make progress?\n",
    "        # check if this bag is a separator\n",
    "        is_separator = True\n",
    "        for i,j in G:\n",
    "            if i in bag and j in bag:\n",
    "                is_separator = False\n",
    "                break\n",
    "        if is_separator:\n",
    "            # if it is a separator, then split the graph\n",
    "            #G1 = [(i,j) for i,j in G if i in bag or j in bag]\n",
    "            needed = [(i,j) for i,j in G if i not in bag and j not in bag]\n",
    "            # recursively call the function\n",
    "            for T1 in all_tree_decomp(G1):\n",
    "                for T2 in all_tree_decomp(G2):\n",
    "                    yield (bag, T1, T2)\n",
    "            break\n",
    "\n",
    "def all_tree(active_edge, bag, G):\n",
    "    \n",
    "\n",
    "# each bag will only appear once right?\n",
    "\n",
    "# eaiser to do bottom up maybe?\n",
    "\n",
    "for bag in powerset(V):\n",
    "    active = set( i,j for i,j in G if i in bag j not in bag)\n",
    "    dealt_with = set( i,j for i,j in G if i in bag and j in bag)\n",
    "    todo = [(active, dealt_with, bag)]\n",
    "passive = []\n",
    "while todo:\n",
    "    active, dealt_with, bag = todo.pop()\n",
    "    for d in passive: # search for other passive sibling bags\n",
    "        \n",
    "\n",
    "\n",
    "    passive.append((active, dealt_with, bag))\n",
    "\n",
    "\n",
    "todo = [(set(range(1,6)), graph)]\n",
    "while todo:\n",
    "    active, bag = todo.pop()\n",
    "    for newverts in powerset(V - bag) # but has to contain active + 1\n",
    "        for usedactive in powerset(active):\n",
    "            if len(usedactive) == 0:\n",
    "                continue\n",
    "            else:\n",
    "                newbag = usedactive | newverts\n",
    "                \n",
    "                todo.append((newverts, newbag, newgraph))\n",
    "\n",
    "for bag in powerset(V):\n",
    "\n",
    "\n",
    "def is_tree_decmp(d, G):\n",
    "\n"
   ]
  },
  {
   "cell_type": "code",
   "execution_count": null,
   "metadata": {},
   "outputs": [],
   "source": [
    "# tree decomp\n",
    "class Node():\n",
    "    bag: set[V]\n",
    "    bagedges : set[E]\n",
    "    children: set[Node]\n",
    "\n",
    "    def treewidth(self):\n",
    "        return max(len(self.bag) - 1, max([c.treewidth() for c in self.children]))\n",
    "    \n",
    "\n",
    "class GraphTree():\n",
    "    here: set[V] # nodes only here\n",
    "    edges: set[E] #egdes between only here and children\n",
    "    children: set[tuple[set[V], GraphTree]]\n",
    "\n",
    "    def color(self, colors):\n",
    "       # take in a list of colors \n"
   ]
  },
  {
   "cell_type": "code",
   "execution_count": null,
   "metadata": {},
   "outputs": [],
   "source": [
    "V = int\n",
    "Edge = tuple[V,V]\n",
    "\n",
    "# flat reps\n",
    "Graph1 = set[Edge]\n",
    "Graph2 = list[Edge]\n",
    "Graph3 = dict[V, set[V]]\n",
    "\n",
    "\n",
    "# structured representations"
   ]
  },
  {
   "cell_type": "code",
   "execution_count": null,
   "metadata": {},
   "outputs": [],
   "source": [
    "# kerngihan Lin\n",
    "\n",
    "def kl(edges):\n",
    "    A = set()\n",
    "    B = set()\n",
    "    \n",
    "\n"
   ]
  },
  {
   "cell_type": "markdown",
   "metadata": {},
   "source": [
    "# Graph canonicalization\n",
    "\n",
    "## group theory\n",
    "This is neither here nor there kind of. It's \"just\" for symmettry breaking during search, which is especially painful in canonization search\n",
    "\n",
    "\n",
    "caonicalizing graphs  via brute force. Come up with a system of serialzing, sort those strings. Not necessarily stable in any sense though\n",
    "graph isomorphism\n",
    "Sims-schreiers\n",
    "\n",
    "schreir vectors = spanning tree. (?) store group element that would connect to previous node of spanning tree. \n",
    "This is the group union find? Huh.\n",
    "\n",
    "schreir sims - a canonical form of group element. https://en.wikipedia.org/wiki/Schreier%E2%80%93Sims_algorithm\n",
    "\n",
    "Stabilizer = subgroup defined as the the group elements that leave a particular elemement unchanged\n",
    "\n",
    "Schreir generators. If we pick representatives of the cosets of a subgroup, we can generate the subgroup using combined generators and repsdentatives as generators.\n",
    "\n",
    "Return stabilizer of initial point as collection of schreier generatoras. Orbit stabilizer algorithm\n",
    "\n",
    "https://en.wikipedia.org/wiki/Group_action\n",
    "\n",
    "undirected Graph where every neighborhood has the same moves = group action on vertex set. edge pattern is generators. \n",
    "https://en.wikipedia.org/wiki/Cayley_graph\n",
    "Origin is special or no?\n",
    "Stabilizer group of origin are loops.\n",
    "rubiks cube\n",
    "\n",
    "https://terrytao.wordpress.com/2010/07/10/cayley-graphs-and-the-geometry-of-groups/\n",
    "subgroups and bundles\n",
    "\n",
    "a base, special points.\n",
    "What if graph is disconnected?\n",
    "\n",
    "Consider general graphs as mangled cayley graphs.\n",
    "Even if I was given two cayley graphs is it obvious how to canonicaslize it?\n",
    "The point of gropup theory is to cut down on boring symmettry explosion. Where is this?\n",
    "\n",
    "cosets partition... partition refinement using group tags?\n",
    "\n",
    "g = (h, g')  where h is element of subgroup and g' is caonoical represdentiatvie of coset\n"
   ]
  },
  {
   "cell_type": "code",
   "execution_count": 14,
   "metadata": {},
   "outputs": [],
   "source": [
    "from dataclasses import dataclass\n",
    "@dataclass(frozen=True)\n",
    "class Perm():\n",
    "    perm : list[int]\n",
    "    @classmethod  \n",
    "    def e(self, n):\n",
    "        return Perm(list(range(n)))\n",
    "    def __mul__(self, other):\n",
    "        return Perm([self.perm[p] for p in other.perm])\n",
    "    \n",
    "e3 = Perm.e(3)\n",
    "assert e3 * e3 == e3\n",
    "p = Perm([1,0])\n",
    "assert p * p == Perm.e(2)\n",
    "assert Perm([1,2,0]) * Perm([2,0,1]) == Perm([0,1,2])\n",
    "\n",
    "\n",
    "def naive()\n"
   ]
  },
  {
   "cell_type": "markdown",
   "metadata": {},
   "source": [
    "Suppose I wanted the automorphism group.\n",
    "Can I generate it?"
   ]
  },
  {
   "cell_type": "markdown",
   "metadata": {},
   "source": [
    " swaps\n",
    "Generate permutation group. swaps\n",
    "\n",
    "Also, swaps are kind of an incrementalo strcturue which is good for functional programming maybe.\n",
    "\n",
    "note that this is a method to generate permutations too. swap to decide which element of remaining in in nth position.\n",
    "\n",
    "https://en.wikipedia.org/wiki/Steinhaus%E2%80%93Johnson%E2%80%93Trotter_algorithm  Steinhaus–Johnson–Trotter algorithm\n",
    "https://en.wikipedia.org/wiki/Heap%27s_algorithm\n",
    "https://en.wikipedia.org/wiki/Fisher%E2%80%93Yates_shuffle randomly genrate a permutation"
   ]
  },
  {
   "cell_type": "code",
   "execution_count": null,
   "metadata": {},
   "outputs": [],
   "source": [
    "\n",
    "\n",
    "def canon(G, N):\n",
    "    swaps = [(i,j) for i in range(N) for j in range(i)]\n",
    "    for \n",
    "    for p in permutations(range(3)):\n",
    "        yield perm_graph(p, G)"
   ]
  },
  {
   "cell_type": "markdown",
   "metadata": {},
   "source": [
    "If we do a more careful backtracking search, we can prune a lot.\n",
    "We learn partial order constraints as we go. Maybe a difference logic thing would be helpful.\n",
    "We get good strings by ordering the vertices by degree first.\n",
    "We can do a lot of propagation.\n",
    "We can do prefix comparison because we're being lexicographic.\n",
    "\n",
    "\n",
    "\n"
   ]
  },
  {
   "cell_type": "markdown",
   "metadata": {},
   "source": [
    "We could have other representations of graphs. A tree representation follows naturally from Tree Decomposition (kind of. We also need to create a unique tree decomp... or use an ordering that doesn't care which tree decomp we picked. Hmmmm. best Spanning tree? Again tie breaking here brings in graph canonization. These things need to be considered bolted together).\n",
    "We could then use total tree orderings instead of string orderings.\n",
    "\n",
    "\"Natrual graph orderings\" like that minor homomorphism thing. https://en.wikipedia.org/wiki/Robertson%E2%80%93Seymour_theorem\n",
    "\n",
    "Maybe this is more sensical for tree with backref ids. Which numbers do we put in the backref ids to make canonical. Then the tree structure exists a priori.\n"
   ]
  },
  {
   "cell_type": "markdown",
   "metadata": {},
   "source": []
  },
  {
   "cell_type": "code",
   "execution_count": 22,
   "metadata": {},
   "outputs": [
    {
     "data": {
      "text/plain": [
       "[[0, 1], [2]]"
      ]
     },
     "execution_count": 22,
     "metadata": {},
     "output_type": "execute_result"
    }
   ],
   "source": [
    "# to get cycles. Orbits under subgroup consisting of p^n. Generated by <p>\n",
    "def cycles(p):\n",
    "    found = set()\n",
    "    for i in range(len(p)):\n",
    "        if i not in found:\n",
    "            cycle = []\n",
    "            j = i\n",
    "            while j not in cycle:\n",
    "                cycle.append(j)\n",
    "                j = p[j]\n",
    "            yield cycle\n",
    "            found.update(cycle)\n",
    "\n",
    "list(cycles([1,0,2]))\n",
    "\n",
    "def inv(p):\n",
    "    inv = [0]*len(p)\n",
    "    for i in range(len(p)):\n",
    "        inv[p[i]] = i\n",
    "    return inv\n",
    "\n",
    "def orbit(ps, n):\n",
    "    found = set()\n",
    "    done = False\n",
    "    while not done:\n",
    "        done = False\n",
    "        for f in found:\n",
    "            for p in ps:\n",
    "                e = p[f]\n",
    "                if e not in found:\n",
    "                    done = False\n",
    "                    found.add(e)\n",
    "\n",
    "Perm = list[int]\n",
    "# orbit of is fixed point of this operation starting from {x}.\n",
    "def step(G : list[Perm], s : set[int]) -> set[int]: # G is list/set of permutations\n",
    "    return s | {p[i] for p in G for i in s}\n",
    "\n",
    "def is_inv(G,s):\n",
    "    return s == step(G,s)\n",
    "\n",
    "# can apply standard seminaive trick\n",
    "# can retain \"proof\" / path as group union find.\n",
    "\n",
    "# schreier vectors\n",
    "\n",
    "\n",
    "# base\n",
    "# strong generating set\n",
    "\n"
   ]
  },
  {
   "cell_type": "code",
   "execution_count": null,
   "metadata": {},
   "outputs": [],
   "source": [
    "def termact(p, t):\n",
    "    head,*args = t\n",
    "    return (head,*[termact(p,a) for a in args])\n",
    "def canon(t, N):\n",
    "    # a silly implementation.\n",
    "    min([ termact(p,t) for p in itertools.permutations(range(N))])\n",
    "\n"
   ]
  },
  {
   "cell_type": "code",
   "execution_count": null,
   "metadata": {},
   "outputs": [],
   "source": [
    "\n",
    "import metis\n",
    "\n",
    "import networkx as nx\n",
    "G = nx.path_graph(7)\n",
    "edgecuts, parts = metis.part_graph(G,3)\n",
    "print(edgecuts, parts)\n",
    "\n",
    "print(nx.community.kernighan_lin_bisection(G)) # anneal a cut by node swapping\n",
    "print(list(nx.community.girvan_newman(G))) # remove edges from graph"
   ]
  },
  {
   "cell_type": "code",
   "execution_count": 22,
   "metadata": {},
   "outputs": [
    {
     "name": "stdout",
     "output_type": "stream",
     "text": [
      "[(0, 1, 2), (1, 2, 3), (2, 3, 4), (3, 4, 5), (4, 5, 6)]\n"
     ]
    }
   ],
   "source": [
    "\n",
    "import sqlite3\n",
    "import networkx as nx\n",
    "def db_of_graph(conn, G):\n",
    "    con.executemany(\"INSERT INTO nodes VALUES (?)\", map(lambda v : (v,),  G.nodes))\n",
    "    con.executemany(\"INSERT INTO edges VALUES (?, ?)\", G.edges)\n",
    "    if not G.is_directed():\n",
    "        con.executemany(\"INSERT INTO edges VALUES (?, ?)\", [(j,i) for i,j in G.edges])\n",
    "def graph_of_db(con):\n",
    "    G = nx.DiGraph()\n",
    "    res = con.execute(\"SELECT * FROM nodes\")\n",
    "    G.add_nodes_from(map(lambda x: x[0], res.fetchall()))\n",
    "    res = con.execute(\"SELECT * FROM edges\")\n",
    "    G.add_edges_from(res.fetchall())\n",
    "    return G\n",
    "def query_of_graph(G,unique=False):\n",
    "    \"\"\"Unique will give subgraph isomorphism\"\"\"\n",
    "    selects = []\n",
    "    froms = []\n",
    "    wheres = []\n",
    "    for node in G:\n",
    "        froms += [f\"nodes AS v{node}\"]\n",
    "        selects += [f\"v{node}.v AS v{node}\"]\n",
    "    for i, (a,b) in enumerate(G.edges):\n",
    "        froms += [f\"edges as e{i}\"]\n",
    "        wheres += [f\"e{i}.src = v{a}.v\"  , f\"e{i}.dst = v{b}.v\"]\n",
    "    if unique:\n",
    "        for node in G:\n",
    "            for node2 in G:\n",
    "                if node != node2:\n",
    "                    wheres += [f\"v{node} != v{node2}\"]\n",
    "    sql = \"SELECT \" + \", \".join(selects) + \\\n",
    "          \"\\nFROM \" +  \", \".join(froms) + \\\n",
    "          \"\\nWHERE \" + \" AND \".join(wheres)\n",
    "    return sql\n",
    "def clear_db(con):\n",
    "    con.execute(\"DELETE FROM nodes\")\n",
    "    con.execute(\"DELETE FROM edges\")\n",
    "G = nx.path_graph(7, create_using=nx.DiGraph)\n",
    "lhs = nx.path_graph(3, create_using=nx.DiGraph)\n",
    "con = sqlite3.connect(\":memory:\")\n",
    "\n",
    "con.execute(\"CREATE TABLE nodes(v)\")\n",
    "con.execute(\"CREATE TABLE edges(src,dst)\")\n",
    "db_of_graph(con, G)\n",
    "res = con.execute(query_of_graph(lhs))\n",
    "print(res.fetchall())\n",
    "# Result: [(0, 1, 2), (1, 2, 3), (2, 3, 4), (3, 4, 5), (4, 5, 6)]\n",
    "\n"
   ]
  },
  {
   "cell_type": "code",
   "execution_count": 13,
   "metadata": {},
   "outputs": [
    {
     "name": "stdout",
     "output_type": "stream",
     "text": [
      "SELECT v0.v AS v0, v1.v AS v1, v2.v AS v2, v3.v AS v3, v4.v AS v4, v5.v AS v5, v6.v AS v6\n",
      "FROM nodes AS v0, nodes AS v1, nodes AS v2, nodes AS v3, nodes AS v4, nodes AS v5, nodes AS v6, edges as e0, edges as e1, edges as e2, edges as e3, edges as e4, edges as e5\n",
      "WHERE e0.src = v0.v AND e0.dst = v1.v AND e1.src = v1.v AND e1.dst = v2.v AND e2.src = v2.v AND e2.dst = v3.v AND e3.src = v3.v AND e3.dst = v4.v AND e4.src = v4.v AND e4.dst = v5.v AND e5.src = v5.v AND e5.dst = v6.v\n"
     ]
    },
    {
     "data": {
      "text/plain": [
       "[(0, 1, 2, 3, 4, 5, 6)]"
      ]
     },
     "execution_count": 13,
     "metadata": {},
     "output_type": "execute_result"
    }
   ],
   "source": [
    "res = con.execute(query_of_graph(G))\n",
    "print(query_of_graph(G))\n",
    "res.fetchall()"
   ]
  },
  {
   "cell_type": "code",
   "execution_count": 11,
   "metadata": {},
   "outputs": [
    {
     "data": {
      "image/png": "[encoded data removed]",
      "text/plain": [
       "<Figure size 640x480 with 1 Axes>"
      ]
     },
     "metadata": {},
     "output_type": "display_data"
    }
   ],
   "source": [
    "nx.draw(G, with_labels=True)"
   ]
  },
  {
   "cell_type": "code",
   "execution_count": 26,
   "metadata": {},
   "outputs": [
    {
     "data": {
      "text/plain": [
       "[(1, 0, 1, 0),\n",
       " (1, 0, 1, 2),\n",
       " (0, 1, 0, 1),\n",
       " (0, 1, 2, 1),\n",
       " (0, 1, 2, 3),\n",
       " (2, 1, 0, 1),\n",
       " (2, 1, 2, 1),\n",
       " (2, 1, 2, 3),\n",
       " (1, 2, 1, 0),\n",
       " (1, 2, 1, 2),\n",
       " (1, 2, 3, 2),\n",
       " (3, 2, 1, 0),\n",
       " (3, 2, 1, 2),\n",
       " (3, 2, 3, 2),\n",
       " (2, 3, 2, 1),\n",
       " (2, 3, 2, 3)]"
      ]
     },
     "execution_count": 26,
     "metadata": {},
     "output_type": "execute_result"
    }
   ],
   "source": [
    "clear_db(con)\n",
    "G = nx.path_graph(4)\n",
    "db_of_graph(con, G)\n",
    "res = con.execute(query_of_graph(G))\n",
    "res.fetchall()\n",
    "# undirected graph\n"
   ]
  },
  {
   "cell_type": "markdown",
   "metadata": {},
   "source": [
    "The two isomorphisms of the path graph"
   ]
  },
  {
   "cell_type": "code",
   "execution_count": 27,
   "metadata": {},
   "outputs": [
    {
     "data": {
      "text/plain": [
       "[(0, 1, 2, 3), (3, 2, 1, 0)]"
      ]
     },
     "execution_count": 27,
     "metadata": {},
     "output_type": "execute_result"
    }
   ],
   "source": [
    "res = con.execute(query_of_graph(G,unique=True))\n",
    "res.fetchall()"
   ]
  },
  {
   "cell_type": "markdown",
   "metadata": {},
   "source": [
    "Here we find a mapping into a color table considered as a complete graph\n",
    "The lack of self edges in the color graph means no "
   ]
  },
  {
   "cell_type": "code",
   "execution_count": 28,
   "metadata": {},
   "outputs": [
    {
     "name": "stdout",
     "output_type": "stream",
     "text": [
      "DiGraph with 4 nodes and 6 edges\n",
      "[(0, 1), (1, 0)]\n",
      "[(1, 0, 1, 0), (0, 1, 0, 1)]\n"
     ]
    }
   ],
   "source": [
    "print(graph_of_db(con))\n",
    "\"DELETE FROM nodes WHERE nodes.v = ?\"\n",
    "\"DELETE FROM edges where edges.src = ? OR edges.dst = ?\"\n",
    "\n",
    "clear_db(con)\n",
    "colors = nx.complete_graph(2) # a two coloring\n",
    "db_of_graph(con,colors)\n",
    "# symmetrize. Maybe db_of_graph should do this. if not isinstanc(G,nx.DiGraph)\n",
    "#con.execute(\"INSERT INTO edges SELECT edges.dst, edges.src FROM edges\")\n",
    "res = con.execute(\"SELECT * FROM edges\")\n",
    "res = print(res.fetchall())\n",
    "res = con.execute(query_of_graph(G)) # two dimer colorings\n",
    "print(res.fetchall())\n",
    "# [(1, 0, 1, 0, 1, 0, 1), (0, 1, 0, 1, 0, 1, 0)]\n"
   ]
  }
 ],
 "metadata": {
  "kernelspec": {
   "display_name": "Python 3",
   "language": "python",
   "name": "python3"
  },
  "language_info": {
   "codemirror_mode": {
    "name": "ipython",
    "version": 3
   },
   "file_extension": ".py",
   "mimetype": "text/x-python",
   "name": "python",
   "nbconvert_exporter": "python",
   "pygments_lexer": "ipython3",
   "version": "3.10.12"
  }
 },
 "nbformat": 4,
 "nbformat_minor": 2
}
