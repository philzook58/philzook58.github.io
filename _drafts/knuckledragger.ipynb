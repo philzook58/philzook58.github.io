{
 "cells": [
  {
   "cell_type": "markdown",
   "id": "59b9d0f8",
   "metadata": {
    "slideshow": {
     "slide_type": "slide"
    }
   },
   "source": [
    "# Knuckledragger: A Low Barrier Proof Assistant\n",
    "## Philip Zucker\n",
    "### Draper Laboratory\n",
    "\n",
    "![](https://raw.githubusercontent.com/philzook58/knuckledragger/main/docs/logo.webp)\n"
   ]
  },
  {
   "cell_type": "markdown",
   "id": "f3643a50",
   "metadata": {},
   "source": [
    "# What is it?\n",
    "\n",
    "- A library\n",
    "- An interactive theorem prover in Python\n",
    "- Shallow wrapping around Z3\n",
    "- Tactics\n",
    "- Piles of little logical gizmos\n",
    "- "
   ]
  },
  {
   "cell_type": "markdown",
   "id": "7dfd23c1",
   "metadata": {},
   "source": [
    "# System Comparison\n",
    "\n",
    "- Isabelle\n",
    "- Lean/Coq\n",
    "- ACL2"
   ]
  },
  {
   "cell_type": "markdown",
   "id": "b6fc9796",
   "metadata": {},
   "source": [
    "# Inference Rules\n",
    "\n",
    "Proof Format"
   ]
  },
  {
   "cell_type": "markdown",
   "id": "cdec352e",
   "metadata": {},
   "source": [
    "# Demo\n",
    "\n"
   ]
  },
  {
   "cell_type": "markdown",
   "id": "2fd19dc2",
   "metadata": {
    "slideshow": {
     "slide_type": "slide"
    }
   },
   "source": [
    "# Subsystems\n",
    "\n",
    "- Reflection\n",
    "- Quickcheck\n",
    "- Typeclasses\n",
    "- Generics\n",
    "- Solvers. KB, Prolog, EProver"
   ]
  },
  {
   "cell_type": "markdown",
   "id": "714664b1",
   "metadata": {},
   "source": [
    "# Applications \n",
    "Examples? I want to talk about stuff that isn't just applications Sheffer stroke\n",
    "\n",
    "- Software foundations\n",
    "- Ghidra pypcode\n",
    "- Verilog - smt importing\n",
    "- Sympy\n",
    "- Arb"
   ]
  },
  {
   "cell_type": "markdown",
   "id": "6e709b37",
   "metadata": {},
   "source": [
    "# Bits and Bobbles\n",
    "\n",
    "\n",
    "The world is a big place. Part of how to work in it is to Jeet Kune Do on what already exists or is popular.\n",
    "\n",
    "Software and Hardware verification boils down to a bucnh of SMT queries with handwaving in between\n",
    "I found myself writing a sequence of smt calls and then knowing that I'm reusing previous proved stuff\n",
    "\n",
    "\n",
    "What is knuckeldragger 1 slide\n",
    "1. The shallowest possible layer over z3 to make it compsoablte a proof system\n",
    "The fumbest thing that could work\n",
    "\n",
    "\n",
    "z3 prove is\n",
    "def prove(e : smt.BoolRef) -> bool:\n",
    "    s = smt.Solver()\n",
    "    s.add(smt.Not(e))\n",
    "    smt.check()\n",
    "    if s.check() == smt.unsat:\n",
    "        return True\n",
    "    else:\n",
    "        return True\n",
    "boolean blindness\n",
    "Exhuastively failing to find counterexamples.\n",
    "\n",
    "\n",
    "LCF style theorem proving\n",
    "3/2 types formulas expressions and proof\n",
    "Anything goes on terms\n",
    "pf -> tm\n",
    "details of proof don't matter, but basically they are recording the call tree that produced them.\n",
    "inference rules ~ functions\n",
    "COmplete erasure pf ~ tm is fine\n",
    "\n",
    "\n",
    "The big inference rule is\n",
    "\n",
    "t1 proved  t2 proved ...     Not(t1 /\\ t2/\\ t3 => t)  z3unsat\n",
    "---------------------------------------------------------\n",
    "                      t proved\n",
    "mega modus ponens\n",
    "\n",
    "\n",
    "But not actually\n",
    "\n",
    "Definitions\n",
    "Quantifier Instantiation\n",
    "Induction\n",
    "\n",
    "Tactics\n",
    "\n",
    "Why python?\n",
    "What are proofs\n",
    "\n",
    "# Subsystems\n",
    "\n",
    "- Reflection\n",
    "- Quickcheck\n",
    "- Typeclasses\n",
    "- Generics\n",
    "\n",
    "# Applications\n",
    "\n"
   ]
  }
 ],
 "metadata": {
  "kernelspec": {
   "display_name": ".venv",
   "language": "python",
   "name": "python3"
  },
  "language_info": {
   "name": "python",
   "version": "3.12.3"
  }
 },
 "nbformat": 4,
 "nbformat_minor": 5
}
