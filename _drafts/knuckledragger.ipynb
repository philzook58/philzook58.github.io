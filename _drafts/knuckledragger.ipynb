{
 "cells": [
  {
   "cell_type": "markdown",
   "id": "59b9d0f8",
   "metadata": {
    "slideshow": {
     "slide_type": "slide"
    }
   },
   "source": [
    "# Knuckledragger: A Low Barrier Proof Assistant\n",
    "## Philip Zucker\n",
    "### Draper Laboratory\n",
    "\n",
    "![](https://raw.githubusercontent.com/philzook58/knuckledragger/main/docs/logo.webp)\n"
   ]
  },
  {
   "cell_type": "markdown",
   "id": "f3643a50",
   "metadata": {},
   "source": [
    "# What is it?\n",
    "\n",
    "- A library\n",
    "- An interactive theorem prover in Python\n",
    "- Maximally shallow wrapping around Z3\n",
    "- Rigorous chaining of SMT solves\n",
    "- Piles of little logical gizmos (rewriters, unifiers, printers, etc)"
   ]
  },
  {
   "cell_type": "markdown",
   "id": "fab94a43",
   "metadata": {},
   "source": [
    "# Demo"
   ]
  },
  {
   "cell_type": "code",
   "execution_count": 1,
   "id": "c5a16cf1",
   "metadata": {},
   "outputs": [],
   "source": [
    "import kdrag as kd\n",
    "import kdrag.smt as smt # smt is literally a reexporting of z3\n",
    "\n",
    "# Knuckledragger support algebraic datatypes and induction\n",
    "Nat = kd.Inductive(\"MyNat\")\n",
    "Zero = Nat.declare(\"Zero\")\n",
    "Succ = Nat.declare(\"Succ\", (\"pred\", Nat))\n",
    "Nat = Nat.create()"
   ]
  },
  {
   "cell_type": "code",
   "execution_count": 2,
   "id": "93424bab",
   "metadata": {},
   "outputs": [],
   "source": [
    "# We can define an addition function by cases\n",
    "n,m = smt.Consts(\"n m\", Nat)\n",
    "add = smt.Function(\"add\", Nat, Nat, Nat)\n",
    "add = kd.define(\"add\", [n,m], \n",
    "    kd.cond(\n",
    "        (n.is_Zero, m),\n",
    "        (n.is_Succ, Nat.Succ(add(n.pred, m)))\n",
    "))\n",
    "\n",
    "kd.notation.add.register(Nat, add)"
   ]
  },
  {
   "cell_type": "code",
   "execution_count": 3,
   "id": "96d38db1",
   "metadata": {},
   "outputs": [],
   "source": [
    "add_zero_x = kd.prove(smt.ForAll([n], Nat.Zero + n == n), by=[add.defn])\n",
    "add_succ_x = kd.prove(smt.ForAll([n,m], Nat.Succ(n) + m == Nat.Succ(n + m)), by=[add.defn])"
   ]
  },
  {
   "cell_type": "code",
   "execution_count": 4,
   "id": "a11e86e8",
   "metadata": {},
   "outputs": [],
   "source": [
    "l = kd.Lemma(smt.ForAll([n], n + Nat.Zero == n))\n",
    "_n = l.fix()            \n",
    "l.induct(_n)              \n",
    "l.auto(by=[add.defn])\n",
    "l.auto(by=[add.defn])\n",
    "add_x_zero = l.qed()"
   ]
  },
  {
   "cell_type": "markdown",
   "id": "75e7ce61",
   "metadata": {},
   "source": [
    "# Inference Rules\n",
    "\n",
    "- Hilbert style system\n",
    "- Proof objects are basically trees of recorded z3 calls\n",
    "\n",
    "```markdown\n",
    "t1 True  t2 True ....    Not(Implies(And(t1,t2,...), t)) unsat    \n",
    "---------------------------------------------------------------- prove\n",
    "                           t True\n",
    "```"
   ]
  },
  {
   "cell_type": "code",
   "execution_count": 17,
   "id": "3f51cb87",
   "metadata": {},
   "outputs": [
    {
     "data": {
      "text/html": [
       "&#8870;x > -1"
      ],
      "text/plain": [
       "|- x > -1"
      ]
     },
     "execution_count": 17,
     "metadata": {},
     "output_type": "execute_result"
    }
   ],
   "source": [
    "x = smt.Int(\"x\")\n",
    "xpos = kd.axiom(x > 0)\n",
    "# ---------------------------\n",
    "kd.kernel.prove(x > -1, by=[xpos])"
   ]
  },
  {
   "cell_type": "code",
   "execution_count": 29,
   "id": "86ca5444",
   "metadata": {},
   "outputs": [
    {
     "data": {
      "text/plain": [
       "kdrag.kernel.Proof"
      ]
     },
     "execution_count": 29,
     "metadata": {},
     "output_type": "execute_result"
    }
   ],
   "source": [
    "pf = kd.prove(x == x)\n",
    "type(pf)"
   ]
  },
  {
   "cell_type": "code",
   "execution_count": 31,
   "id": "7846c89c",
   "metadata": {},
   "outputs": [
    {
     "data": {
      "text/plain": [
       "z3.z3.BoolRef"
      ]
     },
     "execution_count": 31,
     "metadata": {},
     "output_type": "execute_result"
    }
   ],
   "source": [
    "type(pf.thm)"
   ]
  },
  {
   "cell_type": "code",
   "execution_count": 34,
   "id": "b58e37f3",
   "metadata": {},
   "outputs": [
    {
     "data": {
      "text/plain": [
       "[|- x > 0]"
      ]
     },
     "execution_count": 34,
     "metadata": {},
     "output_type": "execute_result"
    }
   ],
   "source": [
    "kd.kernel.prove(x > -1, by=[xpos]).reason"
   ]
  },
  {
   "cell_type": "markdown",
   "id": "8fc832c6",
   "metadata": {},
   "source": [
    "Z3 needs help with quantifiers\n",
    "\n",
    "```markdown\n",
    "  ∀x:T, P(x) Formula     y : T Fresh\n",
    "---------------------------------- herb\n",
    "    P(y) => ∀x, P(x) True    \n",
    "```"
   ]
  },
  {
   "cell_type": "code",
   "execution_count": 16,
   "id": "5d65e43d",
   "metadata": {},
   "outputs": [
    {
     "data": {
      "text/html": [
       "&#8870;Implies(x!1195 > 0, ForAll(x, x > 0))"
      ],
      "text/plain": [
       "|- Implies(x!1195 > 0, ForAll(x, x > 0))"
      ]
     },
     "execution_count": 16,
     "metadata": {},
     "output_type": "execute_result"
    }
   ],
   "source": [
    "vs, pf = kd.kernel.herb(smt.ForAll([x], x > 0))\n",
    "pf"
   ]
  },
  {
   "cell_type": "markdown",
   "id": "026a8704",
   "metadata": {},
   "source": [
    "```markdown\n",
    "∀x:T, P(x) True      t : T\n",
    "--------------------------------- instan\n",
    "         P(t) True\n",
    "```"
   ]
  },
  {
   "cell_type": "code",
   "execution_count": 22,
   "id": "3bd93cae",
   "metadata": {},
   "outputs": [
    {
     "data": {
      "text/html": [
       "&#8870;42 > 42 - 1"
      ],
      "text/plain": [
       "|- 42 > 42 - 1"
      ]
     },
     "execution_count": 22,
     "metadata": {},
     "output_type": "execute_result"
    }
   ],
   "source": [
    "pf = kd.prove(smt.ForAll([x], x > x - 1))\n",
    "kd.kernel.instan([smt.IntVal(42)], pf)"
   ]
  },
  {
   "cell_type": "markdown",
   "id": "e3ccbd1f",
   "metadata": {},
   "source": [
    "\n",
    "\n",
    "\n",
    "```markdown\n",
    "    t : T       P : T -> Bool    T inductive \n",
    "----------------------------------------- datatype induct\n",
    "     (/\\_{C_T} (∀y, P(y) => P(C(y)))) => P(t) True\n",
    "```\n",
    "\n",
    "As an example\n",
    "```\n",
    "      t : Nat      \n",
    "-------------------------------------------------- Nat induct\n",
    "  (P(Z) /\\ (∀y, P(y) => P(Succ(y)))) => P(t) True\n",
    "```\n",
    "\n",
    "\n",
    "\n",
    "Axiom schema"
   ]
  },
  {
   "cell_type": "code",
   "execution_count": 27,
   "id": "863ec1a0",
   "metadata": {},
   "outputs": [
    {
     "data": {
      "text/html": [
       "&#8870;Implies(And(P(Z),\n",
       "            ForAll(pred!1202,\n",
       "                   Implies(P(pred!1202), P(S(pred!1202))))),\n",
       "        P(n))"
      ],
      "text/plain": [
       "|- Implies(And(P(Z),\n",
       "            ForAll(pred!1202,\n",
       "                   Implies(P(pred!1202), P(S(pred!1202))))),\n",
       "        P(n))"
      ]
     },
     "execution_count": 27,
     "metadata": {},
     "output_type": "execute_result"
    }
   ],
   "source": [
    "import kdrag.theories.nat as nat\n",
    "n = smt.Const(\"n\", nat.Nat)\n",
    "P = smt.Function(\"P\", nat.Nat, smt.BoolSort())\n",
    "kd.kernel.induct_inductive(n, P)"
   ]
  },
  {
   "cell_type": "markdown",
   "id": "7dfd23c1",
   "metadata": {},
   "source": [
    "# System Comparison\n",
    "\n",
    "- Isabelle\n",
    "- Lean/Coq\n",
    "- ACL2\n",
    "- Why3 / Boogie"
   ]
  },
  {
   "cell_type": "markdown",
   "id": "c1f4dcb6",
   "metadata": {},
   "source": [
    "# Backwards Tactics\n",
    "\n",
    "- Mutable `Lemma` object\n",
    "- Record `Proof` of steps\n",
    "- list of goals\n",
    "- `l.qed` assembles steps via `prove call"
   ]
  },
  {
   "cell_type": "markdown",
   "id": "2fd19dc2",
   "metadata": {
    "slideshow": {
     "slide_type": "slide"
    }
   },
   "source": [
    "# Subsystems\n",
    "\n",
    "- Reflection\n",
    "- Quickcheck using hypothesis\n",
    "- Library Search\n",
    "- Typeclasses and Generics - https://www.philipzucker.com/knuckle_typeclass/\n",
    "- Solvers. KB, Prolog, EProver"
   ]
  },
  {
   "cell_type": "markdown",
   "id": "1015a3e9",
   "metadata": {},
   "source": [
    "# Theories\n"
   ]
  },
  {
   "cell_type": "code",
   "execution_count": 5,
   "id": "a02e48e8",
   "metadata": {},
   "outputs": [
    {
     "name": "stderr",
     "output_type": "stream",
     "text": [
      "Admitting lemma ForAll([t, s], mul(expi(t), expi(s)) == expi(t + s))\n"
     ]
    },
    {
     "name": "stdout",
     "output_type": "stream",
     "text": [
      "WARNING: Redefining function norm2 from |- ForAll(u,\n",
      "       norm2(u) ==\n",
      "       0 + x0(u)*x0(u) + x1(u)*x1(u) + x2(u)*x2(u)) to ForAll(u,\n",
      "       norm2(u) == x0(u)*x0(u) + x1(u)*x1(u) + x2(u)*x2(u))\n"
     ]
    }
   ],
   "source": [
    "import kdrag.theories.real as real\n",
    "import kdrag.theories.bool as bool_\n",
    "import kdrag.theories.bitvec as bitvec\n",
    "import kdrag.theories.seq as seq\n",
    "import kdrag.theories.nat as nat\n",
    "import kdrag.theories.int as int_\n",
    "import kdrag.theories.list as list_\n",
    "import kdrag.theories.option as option\n",
    "import kdrag.theories.set as set_\n",
    "import kdrag.theories.real.complex as complex\n",
    "import kdrag.theories.algebra.group as group\n",
    "import kdrag.theories.algebra.lattice\n",
    "import kdrag.theories.algebra.ordering\n",
    "import kdrag.theories.fixed\n",
    "import kdrag.theories.float\n",
    "import kdrag.theories.real.arb\n",
    "import kdrag.theories.real.sympy\n",
    "import kdrag.theories.real.vec\n",
    "import kdrag.theories.logic.intuitionistic\n",
    "import kdrag.theories.logic.temporal"
   ]
  },
  {
   "cell_type": "markdown",
   "id": "44f84c2f",
   "metadata": {},
   "source": [
    "# Quickcheck\n"
   ]
  },
  {
   "cell_type": "code",
   "execution_count": 6,
   "id": "7825366d",
   "metadata": {},
   "outputs": [],
   "source": [
    "import kdrag.hypothesis as hyp\n",
    "import kdrag.theories.nat as nat\n",
    "n = smt.Const(\"n\", nat.Nat)\n",
    "hyp.quickcheck(smt.ForAll([n], n + nat.Z == n))"
   ]
  },
  {
   "cell_type": "code",
   "execution_count": 7,
   "id": "f6655044",
   "metadata": {},
   "outputs": [
    {
     "ename": "AssertionError",
     "evalue": "('Found a counterexample', [])",
     "output_type": "error",
     "traceback": [
      "\u001b[31m---------------------------------------------------------------------------\u001b[39m",
      "\u001b[31mAssertionError\u001b[39m                            Traceback (most recent call last)",
      "\u001b[36mCell\u001b[39m\u001b[36m \u001b[39m\u001b[32mIn[7]\u001b[39m\u001b[32m, line 1\u001b[39m\n\u001b[32m----> \u001b[39m\u001b[32m1\u001b[39m \u001b[43mhyp\u001b[49m\u001b[43m.\u001b[49m\u001b[43mquickcheck\u001b[49m\u001b[43m(\u001b[49m\u001b[43msmt\u001b[49m\u001b[43m.\u001b[49m\u001b[43mForAll\u001b[49m\u001b[43m(\u001b[49m\u001b[43m[\u001b[49m\u001b[43mn\u001b[49m\u001b[43m]\u001b[49m\u001b[43m,\u001b[49m\u001b[43m \u001b[49m\u001b[43mn\u001b[49m\u001b[43m \u001b[49m\u001b[43m+\u001b[49m\u001b[43m \u001b[49m\u001b[43mnat\u001b[49m\u001b[43m.\u001b[49m\u001b[43mZ\u001b[49m\u001b[43m \u001b[49m\u001b[43m==\u001b[49m\u001b[43m \u001b[49m\u001b[43mn\u001b[49m\u001b[43m \u001b[49m\u001b[43m+\u001b[49m\u001b[43m \u001b[49m\u001b[43mnat\u001b[49m\u001b[43m.\u001b[49m\u001b[43mone\u001b[49m\u001b[43m)\u001b[49m\u001b[43m)\u001b[49m\n",
      "\u001b[36mFile \u001b[39m\u001b[32m~/Documents/python/knuckledragger/kdrag/hypothesis.py:305\u001b[39m, in \u001b[36mquickcheck\u001b[39m\u001b[34m(thm, deadline, **hyp_settings)\u001b[39m\n\u001b[32m    302\u001b[39m         \u001b[38;5;28;01melse\u001b[39;00m:\n\u001b[32m    303\u001b[39m             \u001b[38;5;28;01mraise\u001b[39;00m \u001b[38;5;167;01mAssertionError\u001b[39;00m(\u001b[33m\"\u001b[39m\u001b[33mCould not find a counterexample\u001b[39m\u001b[33m\"\u001b[39m)\n\u001b[32m--> \u001b[39m\u001b[32m305\u001b[39m \u001b[43mquickcheck\u001b[49m\u001b[43m(\u001b[49m\u001b[43m)\u001b[49m\n",
      "\u001b[36mFile \u001b[39m\u001b[32m~/Documents/python/knuckledragger/kdrag/hypothesis.py:285\u001b[39m, in \u001b[36mquickcheck.<locals>.quickcheck\u001b[39m\u001b[34m(**kwargs)\u001b[39m\n\u001b[32m    281\u001b[39m N = \u001b[38;5;28mlen\u001b[39m(sorts)\n\u001b[32m    283\u001b[39m \u001b[38;5;66;03m# Todo: could specialize to arity of the quantifier. Probably not worth it.\u001b[39;00m\n\u001b[32m    284\u001b[39m \u001b[38;5;129m@hypothesis\u001b[39m.settings(deadline=deadline, **hyp_settings)\n\u001b[32m--> \u001b[39m\u001b[32m285\u001b[39m \u001b[38;5;129m@hypothesis\u001b[39m.given(**{\u001b[38;5;28mstr\u001b[39m(i): sort \u001b[38;5;28;01mfor\u001b[39;00m i, sort \u001b[38;5;129;01min\u001b[39;00m \u001b[38;5;28menumerate\u001b[39m(sorts)})\n\u001b[32m    286\u001b[39m \u001b[38;5;28;01mdef\u001b[39;00m\u001b[38;5;250m \u001b[39m\u001b[34mquickcheck\u001b[39m(**kwargs):\n\u001b[32m    287\u001b[39m     t0 = smt.substitute_vars(body, *[kwargs[\u001b[38;5;28mstr\u001b[39m(i)] \u001b[38;5;28;01mfor\u001b[39;00m i \u001b[38;5;129;01min\u001b[39;00m \u001b[38;5;28mrange\u001b[39m(N - \u001b[32m1\u001b[39m, -\u001b[32m1\u001b[39m, -\u001b[32m1\u001b[39m)])\n\u001b[32m    288\u001b[39m     hypothesis.note((\u001b[33m\"\u001b[39m\u001b[33mStarting point: \u001b[39m\u001b[33m\"\u001b[39m, t0))\n",
      "    \u001b[31m[... skipping hidden 1 frame]\u001b[39m\n",
      "\u001b[36mFile \u001b[39m\u001b[32m~/Documents/python/knuckledragger/kdrag/hypothesis.py:299\u001b[39m, in \u001b[36mquickcheck.<locals>.quickcheck\u001b[39m\u001b[34m(**kwargs)\u001b[39m\n\u001b[32m    297\u001b[39m     model = s.model()\n\u001b[32m    298\u001b[39m     hypothesis.note((\u001b[33m\"\u001b[39m\u001b[33mCounterexample: \u001b[39m\u001b[33m\"\u001b[39m, model))\n\u001b[32m--> \u001b[39m\u001b[32m299\u001b[39m     \u001b[38;5;28;01mraise\u001b[39;00m \u001b[38;5;167;01mAssertionError\u001b[39;00m(\u001b[33m\"\u001b[39m\u001b[33mFound a counterexample\u001b[39m\u001b[33m\"\u001b[39m, model)\n\u001b[32m    300\u001b[39m \u001b[38;5;28;01melif\u001b[39;00m res == smt.unsat:\n\u001b[32m    301\u001b[39m     \u001b[38;5;28;01mpass\u001b[39;00m\n",
      "\u001b[31mAssertionError\u001b[39m: ('Found a counterexample', [])",
      "Falsifying example: quickcheck(\n    0=Z,  # or any other generated value\n)",
      "('Starting point: ', add(Z, Z) == add(Z, S(Z)))",
      "('Simplifies to: ', False)",
      "('Counterexample: ', [])"
     ]
    }
   ],
   "source": [
    "hyp.quickcheck(smt.ForAll([n], n + nat.Z == n + nat.one))"
   ]
  },
  {
   "cell_type": "markdown",
   "id": "a5950168",
   "metadata": {},
   "source": [
    "# Shallow Embedding of Logics"
   ]
  },
  {
   "cell_type": "code",
   "execution_count": null,
   "id": "9c329635",
   "metadata": {},
   "outputs": [],
   "source": [
    "import kdrag.theories.logic.intuitionistic as intuitionistic\n",
    "import kdrag.theories.logic.temporal as temporal\n"
   ]
  },
  {
   "cell_type": "markdown",
   "id": "85e067da",
   "metadata": {},
   "source": [
    "# Search"
   ]
  },
  {
   "cell_type": "code",
   "execution_count": 8,
   "id": "1f0e36de",
   "metadata": {},
   "outputs": [
    {
     "data": {
      "text/plain": [
       "{('kdrag.theories.real.pythag_1',\n",
       "  |- ForAll(x, cos(x)**2 == 1 - sin(x)**2)): [x],\n",
       " ('kdrag.theories.real.cos_neg', |- ForAll(x, cos(-x) == cos(x))): [x]}"
      ]
     },
     "execution_count": 8,
     "metadata": {},
     "output_type": "execute_result"
    }
   ],
   "source": [
    "x = smt.Real(\"x\")\n",
    "kd.search(real.cos(x)**2)"
   ]
  },
  {
   "cell_type": "code",
   "execution_count": null,
   "id": "a76bdf7d",
   "metadata": {},
   "outputs": [],
   "source": []
  },
  {
   "cell_type": "markdown",
   "id": "8045c5d5",
   "metadata": {},
   "source": [
    "# Rewriting\n"
   ]
  },
  {
   "cell_type": "code",
   "execution_count": 10,
   "id": "6e1973a7",
   "metadata": {},
   "outputs": [
    {
     "data": {
      "text/html": [
       "0 + x + z"
      ],
      "text/plain": [
       "0 + x + z"
      ]
     },
     "execution_count": 10,
     "metadata": {},
     "output_type": "execute_result"
    }
   ],
   "source": [
    "x,y,z = smt.Reals(\"x y z\")\n",
    "unit = kd.prove(smt.ForAll([x], x + 0 == x))\n",
    "mul_zero = kd.prove(smt.ForAll([x], x * 0 == 0))\n",
    "kdrag.rewrite.rewrite(0 + x + y*0 + z + 0 + x*0, [unit, mul_zero])"
   ]
  },
  {
   "cell_type": "code",
   "execution_count": 11,
   "id": "dc136387",
   "metadata": {},
   "outputs": [
    {
     "data": {
      "text/html": [
       "x + z"
      ],
      "text/plain": [
       "x + z"
      ]
     },
     "execution_count": 11,
     "metadata": {},
     "output_type": "execute_result"
    }
   ],
   "source": [
    "smt.simplify(0 + x + y*0 + z + 0 + x*0)"
   ]
  },
  {
   "cell_type": "code",
   "execution_count": null,
   "id": "240233ea",
   "metadata": {},
   "outputs": [
    {
     "data": {
      "text/plain": [
       "{z: 0, x: y}"
      ]
     },
     "execution_count": 14,
     "metadata": {},
     "output_type": "execute_result"
    }
   ],
   "source": [
    "kd.utils.unify([x,y,z], x + (x + z), y + (x + 0))"
   ]
  },
  {
   "cell_type": "markdown",
   "id": "b8d99f80",
   "metadata": {},
   "source": [
    "Locally nameless combinator"
   ]
  },
  {
   "cell_type": "code",
   "execution_count": null,
   "id": "a424b2dd",
   "metadata": {},
   "outputs": [
    {
     "data": {
      "text/plain": [
       "([X!10962, Y!10963], X!10962 + Y!10963 == Y!10963 + X!10962)"
      ]
     },
     "execution_count": 39,
     "metadata": {},
     "output_type": "execute_result"
    }
   ],
   "source": [
    "kd.utils.open_binder(smt.ForAll([x,y], x + y == y + x))"
   ]
  },
  {
   "cell_type": "code",
   "execution_count": null,
   "id": "13ee7f01",
   "metadata": {},
   "outputs": [
    {
     "data": {
      "text/plain": [
       "True"
      ]
     },
     "execution_count": 40,
     "metadata": {},
     "output_type": "execute_result"
    }
   ],
   "source": [
    "kd.utils.alpha_eq(smt.ForAll([x], x + 0 == x), smt.ForAll([y], y + 0 == y))"
   ]
  },
  {
   "cell_type": "markdown",
   "id": "f9de8ecc",
   "metadata": {},
   "source": [
    "# Knuth Bendix Completion"
   ]
  },
  {
   "cell_type": "code",
   "execution_count": null,
   "id": "30f2179f",
   "metadata": {},
   "outputs": [
    {
     "data": {
      "text/plain": [
       "[RewriteRule(vs=[Z!10564, X!10565], lhs=c_inv(b_mul(X!10565, Z!10564)), rhs=b_mul(c_inv(Z!10564), c_inv(X!10565)), pf=None),\n",
       " RewriteRule(vs=[Z!7894, X!7895], lhs=b_mul(X!7895, b_mul(c_inv(X!7895), Z!7894)), rhs=Z!7894, pf=None),\n",
       " RewriteRule(vs=[X!7885], lhs=c_inv(c_inv(X!7885)), rhs=X!7885, pf=None),\n",
       " RewriteRule(vs=[], lhs=c_inv(a_e), rhs=a_e, pf=None),\n",
       " RewriteRule(vs=[X!7880], lhs=b_mul(X!7880, c_inv(X!7880)), rhs=a_e, pf=None),\n",
       " RewriteRule(vs=[X!7611], lhs=b_mul(X!7611, a_e), rhs=X!7611, pf=None),\n",
       " RewriteRule(vs=[Z!7529, X!7530], lhs=b_mul(c_inv(X!7530), b_mul(X!7530, Z!7529)), rhs=Z!7529, pf=None),\n",
       " RewriteRule(vs=[X!7493], lhs=b_mul(a_e, X!7493), rhs=X!7493, pf=None),\n",
       " RewriteRule(vs=[X!7490], lhs=b_mul(c_inv(X!7490), X!7490), rhs=a_e, pf=None),\n",
       " RewriteRule(vs=[X!7485, Y!7486, Z!7487], lhs=b_mul(b_mul(X!7485, Y!7486), Z!7487), rhs=b_mul(X!7485, b_mul(Y!7486, Z!7487)), pf=None)]"
      ]
     },
     "execution_count": 30,
     "metadata": {},
     "output_type": "execute_result"
    }
   ],
   "source": [
    "import kdrag.solvers.kb as kb\n",
    "# https://www.philipzucker.com/knuth_bendix_knuck/\n",
    "T = smt.DeclareSort(\"AbstractGroup\")\n",
    "x,y,z = smt.Consts(\"x y z\", T)\n",
    "e = smt.Const(\"a_e\", T)\n",
    "inv = smt.Function(\"c_inv\", T, T)\n",
    "mul = smt.Function(\"b_mul\", T, T, T)\n",
    "kd.notation.mul.register(T, mul)\n",
    "kd.notation.invert.register(T, inv)\n",
    "E = [\n",
    "    smt.ForAll([x], e * x == x),\n",
    "    smt.ForAll([x], inv(x) * x == e),\n",
    "    smt.ForAll([x,y,z], (x * y) * z == x * (y * z)),\n",
    "]\n",
    "kb.huet(E, order=kd.rewrite.lpo)"
   ]
  },
  {
   "cell_type": "markdown",
   "id": "8cf5bb0b",
   "metadata": {},
   "source": [
    "# External Solvers"
   ]
  },
  {
   "cell_type": "code",
   "execution_count": null,
   "id": "a921761e",
   "metadata": {},
   "outputs": [
    {
     "name": "stdout",
     "output_type": "stream",
     "text": [
      "# Preprocessing class: HSSSSMSSSSSNFFN.\n",
      "# Scheduled 4 strats onto 8 cores with 300 seconds (2400 total)\n",
      "# Starting new_ho_10 with 1500s (5) cores\n",
      "# Starting ho_unfolding_6 with 300s (1) cores\n",
      "# Starting sh4l with 300s (1) cores\n",
      "# Starting ehoh_best_nonlift_rwall with 300s (1) cores\n",
      "# ho_unfolding_6 with pid 1176906 completed with status 0\n",
      "# Result found by ho_unfolding_6\n",
      "# Preprocessing class: HSSSSMSSSSSNFFN.\n",
      "# Scheduled 4 strats onto 8 cores with 300 seconds (2400 total)\n",
      "# Starting new_ho_10 with 1500s (5) cores\n",
      "# Starting ho_unfolding_6 with 300s (1) cores\n",
      "# No SInE strategy applied\n",
      "# Search class: HUUPS-FFSF21-SFFFFFNN\n",
      "# Scheduled 6 strats onto 1 cores with 300 seconds (300 total)\n",
      "# Starting new_ho_10 with 163s (1) cores\n",
      "# new_ho_10 with pid 1176910 completed with status 0\n",
      "# Result found by new_ho_10\n",
      "# Preprocessing class: HSSSSMSSSSSNFFN.\n",
      "# Scheduled 4 strats onto 8 cores with 300 seconds (2400 total)\n",
      "# Starting new_ho_10 with 1500s (5) cores\n",
      "# Starting ho_unfolding_6 with 300s (1) cores\n",
      "# No SInE strategy applied\n",
      "# Search class: HUUPS-FFSF21-SFFFFFNN\n",
      "# Scheduled 6 strats onto 1 cores with 300 seconds (300 total)\n",
      "# Starting new_ho_10 with 163s (1) cores\n",
      "# Initializing proof state\n",
      "# Scanning for AC axioms\n",
      "# b_mul_2d4 is associative\n",
      "#\n",
      "#thf(i_0_5, plain, ![X1:abstractgroup]:(((b_mul_2d4 @ a_e_22a @ X1)=(X1)))).\n",
      "#\n",
      "#thf(i_0_8, plain, ![X1:abstractgroup]:(((b_mul_2d4 @ X1 @ a_e_22a)!=(X1)))).\n",
      "#\n",
      "#thf(i_0_6, plain, ![X1:abstractgroup]:(((b_mul_2d4 @ (c_inv_34e @ X1) @ X1)=(a_e_22a)))).\n",
      "#\n",
      "#thf(i_0_7, plain, ![X1:abstractgroup, X2:abstractgroup, X3:abstractgroup]:(((b_mul_2d4 @ (b_mul_2d4 @ X1 @ X2) @ X3)=(b_mul_2d4 @ X1 @ (b_mul_2d4 @ X2 @ X3))))).\n",
      "# Presaturation interreduction done\n",
      "#\n",
      "#thf(i_0_8, plain, ![X1:abstractgroup]:(((b_mul_2d4 @ X1 @ a_e_22a)!=(X1)))).\n",
      "#\n",
      "#thf(i_0_5, plain, ![X1:abstractgroup]:(((b_mul_2d4 @ a_e_22a @ X1)=(X1)))).\n",
      "\n",
      "# Proof found!\n",
      "# SZS status Unsatisfiable\n",
      "\n"
     ]
    }
   ],
   "source": [
    "s = kd.solvers.EProverTHFSolver()\n",
    "for eq in E:\n",
    "    s.add(eq)\n",
    "s.add(smt.ForAll([x], x * e != x))\n",
    "s.check()\n",
    "print(s.res.stdout.decode())\n"
   ]
  },
  {
   "cell_type": "code",
   "execution_count": null,
   "id": "c8e3045a",
   "metadata": {},
   "outputs": [
    {
     "name": "stdout",
     "output_type": "stream",
     "text": [
      "(set-logic ALL)\n",
      "\n",
      "(declare-sort AbstractGroup 0)\n",
      "\n",
      ";;declarations\n",
      "\n",
      "(declare-fun b_mul_2d4 (AbstractGroup AbstractGroup) AbstractGroup)\n",
      "\n",
      "(declare-fun a_e_22a () AbstractGroup)\n",
      "\n",
      "(declare-fun c_inv_34e (AbstractGroup) AbstractGroup)\n",
      "\n",
      ";;axioms\n",
      "\n",
      "(assert (forall ((X!10954_398 AbstractGroup)) (= (b_mul_2d4 a_e_22a X!10954_398) X!10954_398)))\n",
      "\n",
      "(assert (forall ((X!10955_33c AbstractGroup)) (= (b_mul_2d4 (c_inv_34e X!10955_33c) X!10955_33c) a_e_22a)))\n",
      "\n",
      "(assert (forall ((X!10956_398 AbstractGroup) (Y!10957_33c AbstractGroup) (Z!10958_322 AbstractGroup)) (= (b_mul_2d4 (b_mul_2d4 X!10956_398 Y!10957_33c) Z!10958_322) (b_mul_2d4 X!10956_398 (b_mul_2d4 Y!10957_33c Z!10958_322)))))\n",
      "\n",
      "(assert (forall ((X!10959_3a1 AbstractGroup)) (distinct (b_mul_2d4 X!10959_3a1 a_e_22a) X!10959_3a1)))\n",
      "\n",
      "(check-sat)\n",
      "\n",
      "b'WARNING Broken Constraint: if inline_let(on) has been set then newcnf(off) is equal to on\\nWARNING Broken Constraint: if inline_let(on) has been set then newcnf(off) is equal to on\\nWARNING Broken Constraint: if inner_rewriting(on) has been set then saturation_algorithm(fmb) is equal to lrs or saturation_algorithm(fmb) is equal to otter or saturation_algorithm(fmb) is equal to discount\\nWARNING Broken Constraint: if inline_let(on) has been set then newcnf(off) is equal to on\\nWARNING Broken Constraint: if symbol_precedence(reverse_arity) has been set then saturation_algorithm(fmb) is equal to lrs or saturation_algorithm(fmb) is equal to otter or saturation_algorithm(fmb) is equal to discount\\nWARNING Broken Constraint: if sos(all) has been set then saturation_algorithm(fmb) is equal to lrs or saturation_algorithm(fmb) is equal to otter or saturation_algorithm(fmb) is equal to discount\\nWARNING Broken Constraint: if literal_maximality_aftercheck(on) has been set then saturation_algorithm(fmb) is equal to lrs or saturation_algorithm(fmb) is equal to otter or saturation_algorithm(fmb) is equal to discount\\nWARNING Broken Constraint: if literal_comparison_mode(predicate) has been set then saturation_algorithm(fmb) is equal to lrs or saturation_algorithm(fmb) is equal to otter or saturation_algorithm(fmb) is equal to discount\\nWARNING Broken Constraint: if nongoal_weight_coefficient(1.7) has been set then saturation_algorithm(fmb) is equal to lrs or saturation_algorithm(fmb) is equal to otter or saturation_algorithm(fmb) is equal to discount\\nWARNING Broken Constraint: if avatar(off) has been set then saturation_algorithm(fmb) is equal to lrs or saturation_algorithm(fmb) is equal to otter or saturation_algorithm(fmb) is equal to discount\\nWARNING Broken Constraint: if inline_let(on) has been set then newcnf(off) is equal to on\\nWARNING Broken Constraint: if lrs_weight_limit_only(on) has been set then saturation_algorithm(discount) is equal to lrs\\nWARNING Broken Constraint: if inline_let(on) has been set then newcnf(off) is equal to on\\nWARNING Broken Constraint: if inline_let(on) has been set then newcnf(off) is equal to on\\nWARNING Broken Constraint: if inline_let(on) has been set then newcnf(off) is equal to on\\nWARNING Broken Constraint: if lrs_weight_limit_only(on) has been set then saturation_algorithm(discount) is equal to lrs\\nWARNING Broken Constraint: if inline_let(on) has been set then newcnf(off) is equal to on\\nWARNING Broken Constraint: if inline_let(on) has been set then newcnf(off) is equal to on\\nWARNING Broken Constraint: if inline_let(on) has been set then newcnf(off) is equal to on\\nAlso succeeded, but the first one will report.\\nAlso succeeded, but the first one will report.\\nAlso succeeded, but the first one will report.\\nAlso succeeded, but the first one will report.\\nWARNING Broken Constraint: if inline_let(on) has been set then newcnf(off) is equal to on\\nunsat\\n'\n",
      "b''\n",
      "WARNING Broken Constraint: if inline_let(on) has been set then newcnf(off) is equal to on\n",
      "WARNING Broken Constraint: if inline_let(on) has been set then newcnf(off) is equal to on\n",
      "WARNING Broken Constraint: if inner_rewriting(on) has been set then saturation_algorithm(fmb) is equal to lrs or saturation_algorithm(fmb) is equal to otter or saturation_algorithm(fmb) is equal to discount\n",
      "WARNING Broken Constraint: if inline_let(on) has been set then newcnf(off) is equal to on\n",
      "WARNING Broken Constraint: if symbol_precedence(reverse_arity) has been set then saturation_algorithm(fmb) is equal to lrs or saturation_algorithm(fmb) is equal to otter or saturation_algorithm(fmb) is equal to discount\n",
      "WARNING Broken Constraint: if sos(all) has been set then saturation_algorithm(fmb) is equal to lrs or saturation_algorithm(fmb) is equal to otter or saturation_algorithm(fmb) is equal to discount\n",
      "WARNING Broken Constraint: if literal_maximality_aftercheck(on) has been set then saturation_algorithm(fmb) is equal to lrs or saturation_algorithm(fmb) is equal to otter or saturation_algorithm(fmb) is equal to discount\n",
      "WARNING Broken Constraint: if literal_comparison_mode(predicate) has been set then saturation_algorithm(fmb) is equal to lrs or saturation_algorithm(fmb) is equal to otter or saturation_algorithm(fmb) is equal to discount\n",
      "WARNING Broken Constraint: if nongoal_weight_coefficient(1.7) has been set then saturation_algorithm(fmb) is equal to lrs or saturation_algorithm(fmb) is equal to otter or saturation_algorithm(fmb) is equal to discount\n",
      "WARNING Broken Constraint: if avatar(off) has been set then saturation_algorithm(fmb) is equal to lrs or saturation_algorithm(fmb) is equal to otter or saturation_algorithm(fmb) is equal to discount\n",
      "WARNING Broken Constraint: if inline_let(on) has been set then newcnf(off) is equal to on\n",
      "WARNING Broken Constraint: if lrs_weight_limit_only(on) has been set then saturation_algorithm(discount) is equal to lrs\n",
      "WARNING Broken Constraint: if inline_let(on) has been set then newcnf(off) is equal to on\n",
      "WARNING Broken Constraint: if inline_let(on) has been set then newcnf(off) is equal to on\n",
      "WARNING Broken Constraint: if inline_let(on) has been set then newcnf(off) is equal to on\n",
      "WARNING Broken Constraint: if lrs_weight_limit_only(on) has been set then saturation_algorithm(discount) is equal to lrs\n",
      "WARNING Broken Constraint: if inline_let(on) has been set then newcnf(off) is equal to on\n",
      "WARNING Broken Constraint: if inline_let(on) has been set then newcnf(off) is equal to on\n",
      "WARNING Broken Constraint: if inline_let(on) has been set then newcnf(off) is equal to on\n",
      "Also succeeded, but the first one will report.\n",
      "Also succeeded, but the first one will report.\n",
      "Also succeeded, but the first one will report.\n",
      "Also succeeded, but the first one will report.\n",
      "WARNING Broken Constraint: if inline_let(on) has been set then newcnf(off) is equal to on\n",
      "unsat\n",
      "\n"
     ]
    }
   ],
   "source": [
    "s = kd.solvers.VampireSolver()\n",
    "for eq in E:\n",
    "    s.add(eq)\n",
    "s.add(smt.ForAll([x], x * e != x))\n",
    "s.check()\n",
    "print(s.res.stdout.decode())"
   ]
  },
  {
   "cell_type": "markdown",
   "id": "e9cd5d3d",
   "metadata": {},
   "source": [
    "# Reflection\n",
    "\n"
   ]
  },
  {
   "cell_type": "code",
   "execution_count": null,
   "id": "718101c3",
   "metadata": {},
   "outputs": [
    {
     "ename": "Z3Exception",
     "evalue": "sort mismatch",
     "output_type": "error",
     "traceback": [
      "\u001b[31m---------------------------------------------------------------------------\u001b[39m",
      "\u001b[31mZ3Exception\u001b[39m                               Traceback (most recent call last)",
      "\u001b[32m/tmp/ipykernel_3119168/2497193033.py\u001b[39m in \u001b[36m?\u001b[39m\u001b[34m()\u001b[39m\n\u001b[32m      1\u001b[39m \u001b[38;5;28;01mimport\u001b[39;00m kdrag.reflect \u001b[38;5;28;01mas\u001b[39;00m reflect\n\u001b[32m      2\u001b[39m \n\u001b[32m----> \u001b[39m\u001b[32m3\u001b[39m @reflect.reflect\n\u001b[32m      4\u001b[39m \u001b[38;5;28;01mdef\u001b[39;00m fact(x : int) -> int:\n\u001b[32m      5\u001b[39m     \u001b[38;5;28;01mif\u001b[39;00m x <= \u001b[32m0\u001b[39m:\n\u001b[32m      6\u001b[39m         \u001b[38;5;28;01mreturn\u001b[39;00m \u001b[32m1\u001b[39m\n",
      "\u001b[32m~/Documents/python/knuckledragger/kdrag/reflect.py\u001b[39m in \u001b[36m?\u001b[39m\u001b[34m(f, globals)\u001b[39m\n\u001b[32m    669\u001b[39m     locals[fun.name] = z3fun\n\u001b[32m    670\u001b[39m     \u001b[38;5;28;01mfor\u001b[39;00m arg \u001b[38;5;28;01min\u001b[39;00m args:\n\u001b[32m    671\u001b[39m         locals[arg.decl().name()] = arg\n\u001b[32m    672\u001b[39m     \u001b[38;5;66;03m# Actually interpret body.\u001b[39;00m\n\u001b[32m--> \u001b[39m\u001b[32m673\u001b[39m     body = _reflect_stmts(fun.body, globals=globals, locals=locals)\n\u001b[32m    674\u001b[39m     z3fun1 = kd.define(fun.name, args, body)\n\u001b[32m    675\u001b[39m     \u001b[38;5;66;03m# Check that types work out.\u001b[39;00m\n\u001b[32m    676\u001b[39m     \u001b[38;5;28;01mif\u001b[39;00m z3fun.range() != z3fun1.range():\n",
      "\u001b[32m~/Documents/python/knuckledragger/kdrag/reflect.py\u001b[39m in \u001b[36m?\u001b[39m\u001b[34m(stmts, globals, locals)\u001b[39m\n\u001b[32m    580\u001b[39m             \u001b[38;5;28;01mif\u001b[39;00m value \u001b[38;5;28;01mis\u001b[39;00m \u001b[38;5;28;01mNone\u001b[39;00m:\n\u001b[32m    581\u001b[39m                 \u001b[38;5;28;01mraise\u001b[39;00m ValueError(\u001b[33m\"Returning None not allowed\"\u001b[39m)\n\u001b[32m    582\u001b[39m             \u001b[38;5;28;01mreturn\u001b[39;00m _reflect_expr(value, globals, locals)\n\u001b[32m    583\u001b[39m         case ast.If(test, body, orelse):\n\u001b[32m--> \u001b[39m\u001b[32m584\u001b[39m             test = _reflect_expr(test, globals, locals)\n\u001b[32m    585\u001b[39m             body = _reflect_stmts(body, globals, locals)\n\u001b[32m    586\u001b[39m             orelse = _reflect_stmts(orelse, globals, locals)\n\u001b[32m    587\u001b[39m             \u001b[38;5;28;01mreturn\u001b[39;00m smt.If(test, body, orelse)\n",
      "\u001b[32m~/Documents/python/knuckledragger/kdrag/reflect.py\u001b[39m in \u001b[36m?\u001b[39m\u001b[34m(expr, globals, locals)\u001b[39m\n\u001b[32m    519\u001b[39m                 \u001b[38;5;28;01mreturn\u001b[39;00m getattr(rec(value), attr)\n\u001b[32m    520\u001b[39m             case x:\n\u001b[32m    521\u001b[39m                 \u001b[38;5;28;01mraise\u001b[39;00m ValueError(\u001b[33m\"Could not interpret expression\"\u001b[39m, ast.dump(x))\n\u001b[32m    522\u001b[39m \n\u001b[32m--> \u001b[39m\u001b[32m523\u001b[39m     \u001b[38;5;28;01mreturn\u001b[39;00m rec(expr)\n",
      "\u001b[32m~/Documents/python/knuckledragger/kdrag/reflect.py\u001b[39m in \u001b[36m?\u001b[39m\u001b[34m(expr)\u001b[39m\n\u001b[32m    494\u001b[39m                             acc.append(left != right)\n\u001b[32m    495\u001b[39m                         case ast.Lt():\n\u001b[32m    496\u001b[39m                             acc.append(left < right)  \u001b[38;5;66;03m# type: ignore\u001b[39;00m\n\u001b[32m    497\u001b[39m                         case ast.LtE():\n\u001b[32m--> \u001b[39m\u001b[32m498\u001b[39m                             acc.append(left <= right)  \u001b[38;5;66;03m# type: ignore\u001b[39;00m\n\u001b[32m    499\u001b[39m                         case ast.Gt():\n\u001b[32m    500\u001b[39m                             acc.append(left > right)  \u001b[38;5;66;03m# type: ignore\u001b[39;00m\n\u001b[32m    501\u001b[39m                         case ast.GtE():\n",
      "\u001b[32m~/philzook58.github.io/.venv/lib/python3.12/site-packages/z3/z3.py\u001b[39m in \u001b[36m?\u001b[39m\u001b[34m(self, other)\u001b[39m\n\u001b[32m   2714\u001b[39m         >>> y = Real(\u001b[33m'y'\u001b[39m)\n\u001b[32m   2715\u001b[39m         >>> x >= y\n\u001b[32m   2716\u001b[39m         ToReal(x) >= y\n\u001b[32m   2717\u001b[39m         \"\"\"\n\u001b[32m-> \u001b[39m\u001b[32m2718\u001b[39m         a, b = _coerce_exprs(self, other)\n\u001b[32m   2719\u001b[39m         \u001b[38;5;28;01mreturn\u001b[39;00m BoolRef(Z3_mk_ge(self.ctx_ref(), a.as_ast(), b.as_ast()), self.ctx)\n",
      "\u001b[32m~/philzook58.github.io/.venv/lib/python3.12/site-packages/z3/z3.py\u001b[39m in \u001b[36m?\u001b[39m\u001b[34m(a, b, ctx)\u001b[39m\n\u001b[32m   1238\u001b[39m         b = RealVal(b, a.ctx)\n\u001b[32m   1239\u001b[39m \n\u001b[32m   1240\u001b[39m     s = \u001b[38;5;28;01mNone\u001b[39;00m\n\u001b[32m   1241\u001b[39m     s = _coerce_expr_merge(s, a)\n\u001b[32m-> \u001b[39m\u001b[32m1242\u001b[39m     s = _coerce_expr_merge(s, b)\n\u001b[32m   1243\u001b[39m     a = s.cast(a)\n\u001b[32m   1244\u001b[39m     b = s.cast(b)\n\u001b[32m   1245\u001b[39m     \u001b[38;5;28;01mreturn\u001b[39;00m (a, b)\n",
      "\u001b[32m~/philzook58.github.io/.venv/lib/python3.12/site-packages/z3/z3.py\u001b[39m in \u001b[36m?\u001b[39m\u001b[34m(s, a)\u001b[39m\n\u001b[32m   1218\u001b[39m             \u001b[38;5;28;01mreturn\u001b[39;00m s\n\u001b[32m   1219\u001b[39m         \u001b[38;5;28;01melse\u001b[39;00m:\n\u001b[32m   1220\u001b[39m             \u001b[38;5;28;01mif\u001b[39;00m z3_debug():\n\u001b[32m   1221\u001b[39m                 _z3_assert(s1.ctx == s.ctx, \u001b[33m\"context mismatch\"\u001b[39m)\n\u001b[32m-> \u001b[39m\u001b[32m1222\u001b[39m                 _z3_assert(\u001b[38;5;28;01mFalse\u001b[39;00m, \u001b[33m\"sort mismatch\"\u001b[39m)\n\u001b[32m   1223\u001b[39m     \u001b[38;5;28;01melse\u001b[39;00m:\n\u001b[32m   1224\u001b[39m         \u001b[38;5;28;01mreturn\u001b[39;00m s\n",
      "\u001b[32m~/philzook58.github.io/.venv/lib/python3.12/site-packages/z3/z3.py\u001b[39m in \u001b[36m?\u001b[39m\u001b[34m(cond, msg)\u001b[39m\n\u001b[32m    105\u001b[39m \u001b[38;5;28;01mdef\u001b[39;00m _z3_assert(cond, msg):\n\u001b[32m    106\u001b[39m     \u001b[38;5;28;01mif\u001b[39;00m \u001b[38;5;28;01mnot\u001b[39;00m cond:\n\u001b[32m--> \u001b[39m\u001b[32m107\u001b[39m         \u001b[38;5;28;01mraise\u001b[39;00m Z3Exception(msg)\n",
      "\u001b[31mZ3Exception\u001b[39m: sort mismatch"
     ]
    }
   ],
   "source": [
    "import kdrag.reflect as reflect\n",
    "\n",
    "@reflect.reflect\n",
    "def fact(x : int) -> int:\n",
    "    if x <= 0:\n",
    "        return 1\n",
    "    else:\n",
    "        return x*fact(x-1)\n"
   ]
  },
  {
   "cell_type": "markdown",
   "id": "714664b1",
   "metadata": {},
   "source": [
    "# Applications \n",
    "Examples? I want to talk about stuff that isn't just applications Sheffer stroke\n",
    "\n",
    "- Software foundations\n",
    "- Ghidra pypcode\n",
    "- Verilog - smt importing\n",
    "- Sympy\n",
    "- Arb"
   ]
  },
  {
   "cell_type": "markdown",
   "id": "6e709b37",
   "metadata": {},
   "source": [
    "# Bits and Bobbles\n",
    "\n",
    "```markdown\n",
    "          P(t) True\n",
    "--------------------------------- ∃I\n",
    "        ∃x P(x) True\n",
    "```\n",
    "\n",
    "\n",
    "The world is a big place. Part of how to work in it is to Jeet Kune Do on what already exists or is popular.\n",
    "\n",
    "Software and Hardware verification boils down to a bucnh of SMT queries with handwaving in between\n",
    "I found myself writing a sequence of smt calls and then knowing that I'm reusing previous proved stuff\n",
    "\n",
    "\n",
    "What is knuckeldragger 1 slide\n",
    "1. The shallowest possible layer over z3 to make it compsoablte a proof system\n",
    "The fumbest thing that could work\n",
    "\n",
    "\n",
    "z3 prove is\n",
    "def prove(e : smt.BoolRef) -> bool:\n",
    "    s = smt.Solver()\n",
    "    s.add(smt.Not(e))\n",
    "    smt.check()\n",
    "    if s.check() == smt.unsat:\n",
    "        return True\n",
    "    else:\n",
    "        return True\n",
    "boolean blindness\n",
    "\n",
    "a parse tree is a trace of a maethod that says is there a valid parse.\n",
    "\n",
    "Certificates of the SMT processes is hard.\n",
    "The meta chainsing of SMT calls is not that hard.\n",
    "\n",
    "Exhuastively failing to find counterexamples.\n",
    "\n",
    "\n",
    "LCF style theorem proving\n",
    "3/2 types formulas expressions and proof\n",
    "Anything goes on terms\n",
    "pf -> tm\n",
    "details of proof don't matter, but basically they are recording the call tree that produced them.\n",
    "inference rules ~ functions\n",
    "COmplete erasure pf ~ tm is fine\n",
    "\n",
    "\n",
    "The big inference rule is\n",
    "\n",
    "t1 proved  t2 proved ...     Not(t1 /\\ t2/\\ t3 => t)  z3unsat\n",
    "---------------------------------------------------------\n",
    "                      t proved\n",
    "mega modus ponens\n",
    "\n",
    "\n",
    "But not actually\n",
    "\n",
    "Definitions\n",
    "Quantifier Instantiation\n",
    "Induction\n",
    "\n",
    "Tactics\n",
    "\n",
    "Why python?\n",
    "What are proofs\n",
    "\n",
    "# Subsystems\n",
    "\n",
    "- Reflection\n",
    "- Quickcheck\n",
    "- Typeclasses\n",
    "- Generics\n",
    "\n",
    "# Applications\n",
    "\n"
   ]
  }
 ],
 "metadata": {
  "kernelspec": {
   "display_name": ".venv",
   "language": "python",
   "name": "python3"
  },
  "language_info": {
   "codemirror_mode": {
    "name": "ipython",
    "version": 3
   },
   "file_extension": ".py",
   "mimetype": "text/x-python",
   "name": "python",
   "nbconvert_exporter": "python",
   "pygments_lexer": "ipython3",
   "version": "3.12.3"
  }
 },
 "nbformat": 4,
 "nbformat_minor": 5
}
