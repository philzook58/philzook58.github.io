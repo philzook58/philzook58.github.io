{
 "cells": [
  {
   "cell_type": "markdown",
   "id": "59b9d0f8",
   "metadata": {
    "slideshow": {
     "slide_type": "slide"
    }
   },
   "source": [
    "# Knuckledragger: A Low Barrier Proof Assistant\n",
    "## Philip Zucker\n",
    "### Draper Laboratory\n",
    "\n",
    "<img src=\"https://raw.githubusercontent.com/philzook58/knuckledragger/main/docs/logo.webp\" alt=\"drawing\" width=\"200\"/>\n",
    "\n",
    "Try it out: <https://colab.research.google.com/github/philzook58/philzook58.github.io/blob/master/_drafts/knuckledragger.ipynb>"
   ]
  },
  {
   "cell_type": "code",
   "execution_count": 1,
   "id": "4d2aa4a9",
   "metadata": {},
   "outputs": [],
   "source": [
    "#! python3 -m pip install git+https://github.com/philzook58/knuckledragger.git"
   ]
  },
  {
   "cell_type": "markdown",
   "id": "2a176d97",
   "metadata": {},
   "source": [
    "# Today\n",
    "- Z3 is Awesome\n",
    "- Z3 is not perfect\n",
    "- Enter Knuckledragger\n",
    "- The Core System\n",
    "- Feature Smorgasbord"
   ]
  },
  {
   "cell_type": "markdown",
   "id": "ef6e4340",
   "metadata": {},
   "source": [
    "# Motivation\n",
    "\n",
    "- Z3 is Great\n",
    "- Its python bindings are Great\n",
    "- Jupyter is a nice interactive environment"
   ]
  },
  {
   "cell_type": "code",
   "execution_count": 18,
   "id": "267cf6d0",
   "metadata": {},
   "outputs": [
    {
     "name": "stdout",
     "output_type": "stream",
     "text": [
      "proved\n"
     ]
    }
   ],
   "source": [
    "import z3\n",
    "x = z3.BitVec(\"x\", 64)\n",
    "z3.prove(z3.ForAll([x], x | x == x))"
   ]
  },
  {
   "cell_type": "code",
   "execution_count": 19,
   "id": "26e28083",
   "metadata": {},
   "outputs": [
    {
     "name": "stdout",
     "output_type": "stream",
     "text": [
      "proved\n"
     ]
    }
   ],
   "source": [
    "x = z3.Real(\"x\")\n",
    "z3.prove(z3.ForAll([x], z3.Or(x < 0, x == 0, x > 0)))"
   ]
  },
  {
   "cell_type": "code",
   "execution_count": 20,
   "id": "8fbaae9a",
   "metadata": {},
   "outputs": [
    {
     "name": "stdout",
     "output_type": "stream",
     "text": [
      "proved\n"
     ]
    }
   ],
   "source": [
    "Nat = z3.Datatype(\"MyNat\")\n",
    "Nat.declare(\"Zero\")\n",
    "Nat.declare(\"Succ\", (\"pred\", Nat))\n",
    "Nat = Nat.create()\n",
    "\n",
    "n,x,y = z3.Consts(\"n x y\", Nat)\n",
    "\n",
    "add = z3.Function(\"add\", Nat, Nat, Nat)\n",
    "add_def = z3.ForAll([x,y], add(x,y) == \n",
    "                    z3.If(Nat.is_Zero(x), \n",
    "                          y, \n",
    "                          Nat.Succ(add(Nat.pred(x), y))))\n",
    "\n",
    "add_zero_left = z3.ForAll([n], add(Nat.Zero, n) == n)\n",
    "z3.prove(z3.Implies(add_def, add_zero_left))"
   ]
  },
  {
   "cell_type": "markdown",
   "id": "b9473e46",
   "metadata": {},
   "source": [
    "## But it can't do everything.\n",
    "\n",
    "- Quantifiers are dicey\n",
    "- E-matching is incomplete\n",
    "- No built in induction\n",
    "- Shear scale"
   ]
  },
  {
   "cell_type": "code",
   "execution_count": 6,
   "id": "8d130747",
   "metadata": {},
   "outputs": [
    {
     "name": "stdout",
     "output_type": "stream",
     "text": [
      "failed to prove\n"
     ]
    },
    {
     "ename": "Z3Exception",
     "evalue": "model is not available",
     "output_type": "error",
     "traceback": [
      "\u001b[31m---------------------------------------------------------------------------\u001b[39m",
      "\u001b[31mZ3Exception\u001b[39m                               Traceback (most recent call last)",
      "\u001b[36mFile \u001b[39m\u001b[32m~/philzook58.github.io/.venv/lib/python3.12/site-packages/z3/z3.py:7226\u001b[39m, in \u001b[36mSolver.model\u001b[39m\u001b[34m(self)\u001b[39m\n\u001b[32m   7225\u001b[39m \u001b[38;5;28;01mtry\u001b[39;00m:\n\u001b[32m-> \u001b[39m\u001b[32m7226\u001b[39m     \u001b[38;5;28;01mreturn\u001b[39;00m ModelRef(\u001b[43mZ3_solver_get_model\u001b[49m\u001b[43m(\u001b[49m\u001b[38;5;28;43mself\u001b[39;49m\u001b[43m.\u001b[49m\u001b[43mctx\u001b[49m\u001b[43m.\u001b[49m\u001b[43mref\u001b[49m\u001b[43m(\u001b[49m\u001b[43m)\u001b[49m\u001b[43m,\u001b[49m\u001b[43m \u001b[49m\u001b[38;5;28;43mself\u001b[39;49m\u001b[43m.\u001b[49m\u001b[43msolver\u001b[49m\u001b[43m)\u001b[49m, \u001b[38;5;28mself\u001b[39m.ctx)\n\u001b[32m   7227\u001b[39m \u001b[38;5;28;01mexcept\u001b[39;00m Z3Exception:\n",
      "\u001b[36mFile \u001b[39m\u001b[32m~/philzook58.github.io/.venv/lib/python3.12/site-packages/z3/z3core.py:4306\u001b[39m, in \u001b[36mZ3_solver_get_model\u001b[39m\u001b[34m(a0, a1, _elems)\u001b[39m\n\u001b[32m   4305\u001b[39m r = _elems.f(a0, a1)\n\u001b[32m-> \u001b[39m\u001b[32m4306\u001b[39m \u001b[43m_elems\u001b[49m\u001b[43m.\u001b[49m\u001b[43mCheck\u001b[49m\u001b[43m(\u001b[49m\u001b[43ma0\u001b[49m\u001b[43m)\u001b[49m\n\u001b[32m   4307\u001b[39m \u001b[38;5;28;01mreturn\u001b[39;00m r\n",
      "\u001b[36mFile \u001b[39m\u001b[32m~/philzook58.github.io/.venv/lib/python3.12/site-packages/z3/z3core.py:1570\u001b[39m, in \u001b[36mElementaries.Check\u001b[39m\u001b[34m(self, ctx)\u001b[39m\n\u001b[32m   1569\u001b[39m \u001b[38;5;28;01mif\u001b[39;00m err != \u001b[38;5;28mself\u001b[39m.OK:\n\u001b[32m-> \u001b[39m\u001b[32m1570\u001b[39m     \u001b[38;5;28;01mraise\u001b[39;00m \u001b[38;5;28mself\u001b[39m.Exception(\u001b[38;5;28mself\u001b[39m.get_error_message(ctx, err))\n",
      "\u001b[31mZ3Exception\u001b[39m: b'there is no current model'",
      "\nDuring handling of the above exception, another exception occurred:\n",
      "\u001b[31mZ3Exception\u001b[39m                               Traceback (most recent call last)",
      "\u001b[32m/tmp/ipykernel_68008/80962761.py\u001b[39m in \u001b[36m?\u001b[39m\u001b[34m()\u001b[39m\n\u001b[32m      1\u001b[39m add_zero_right = z3.ForAll([n], add(n, Nat.Zero) == n)\n\u001b[32m----> \u001b[39m\u001b[32m2\u001b[39m z3.prove(z3.Implies(add_def, add_zero_right), timeout=\u001b[32m3000\u001b[39m)\n",
      "\u001b[32m~/philzook58.github.io/.venv/lib/python3.12/site-packages/z3/z3.py\u001b[39m in \u001b[36m?\u001b[39m\u001b[34m(claim, show, **keywords)\u001b[39m\n\u001b[32m   9292\u001b[39m     \u001b[38;5;28;01mif\u001b[39;00m r == unsat:\n\u001b[32m   9293\u001b[39m         print(\u001b[33m\"proved\"\u001b[39m)\n\u001b[32m   9294\u001b[39m     \u001b[38;5;28;01melif\u001b[39;00m r == unknown:\n\u001b[32m   9295\u001b[39m         print(\u001b[33m\"failed to prove\"\u001b[39m)\n\u001b[32m-> \u001b[39m\u001b[32m9296\u001b[39m         print(s.model())\n\u001b[32m   9297\u001b[39m     \u001b[38;5;28;01melse\u001b[39;00m:\n\u001b[32m   9298\u001b[39m         print(\u001b[33m\"counterexample\"\u001b[39m)\n\u001b[32m   9299\u001b[39m         print(s.model())\n",
      "\u001b[32m~/philzook58.github.io/.venv/lib/python3.12/site-packages/z3/z3.py\u001b[39m in \u001b[36m?\u001b[39m\u001b[34m(self)\u001b[39m\n\u001b[32m   7224\u001b[39m         \"\"\"\n\u001b[32m   7225\u001b[39m         \u001b[38;5;28;01mtry\u001b[39;00m:\n\u001b[32m   7226\u001b[39m             \u001b[38;5;28;01mreturn\u001b[39;00m ModelRef(Z3_solver_get_model(self.ctx.ref(), self.solver), self.ctx)\n\u001b[32m   7227\u001b[39m         \u001b[38;5;28;01mexcept\u001b[39;00m Z3Exception:\n\u001b[32m-> \u001b[39m\u001b[32m7228\u001b[39m             \u001b[38;5;28;01mraise\u001b[39;00m Z3Exception(\u001b[33m\"model is not available\"\u001b[39m)\n",
      "\u001b[31mZ3Exception\u001b[39m: model is not available"
     ]
    }
   ],
   "source": [
    "add_zero_right = z3.ForAll([n], add(n, Nat.Zero) == n)\n",
    "z3.prove(z3.Implies(add_def, add_zero_right), timeout=3000)"
   ]
  },
  {
   "cell_type": "markdown",
   "id": "fab94a43",
   "metadata": {},
   "source": [
    "# Enter Knuckledragger\n",
    "\n",
    "- Interactive theorem prover as a library in Python\n",
    "- Heavily and Shallowly based around Z3py\n",
    "- Proof Objects vs Formulas"
   ]
  },
  {
   "cell_type": "code",
   "execution_count": 26,
   "id": "c5a16cf1",
   "metadata": {},
   "outputs": [
    {
     "data": {
      "text/html": [
       "&#8870;ForAll(x, x | x == x)"
      ],
      "text/plain": [
       "|- ForAll(x, x | x == x)"
      ]
     },
     "execution_count": 26,
     "metadata": {},
     "output_type": "execute_result"
    }
   ],
   "source": [
    "import kdrag as kd\n",
    "import kdrag.smt as smt # smt is literally a reexporting of z3\n",
    "\n",
    "x = smt.BitVec(\"x\", 32)\n",
    "or_idem = kd.prove(smt.ForAll([x], x | x == x))\n",
    "or_idem\n",
    "#type(or_idem)\n",
    "#or_idem.thm\n"
   ]
  },
  {
   "cell_type": "code",
   "execution_count": null,
   "id": "b4c15c2e",
   "metadata": {},
   "outputs": [],
   "source": [
    "# Knuckledragger support algebraic datatypes and induction\n",
    "Nat = kd.Inductive(\"MyNat\")\n",
    "Zero = Nat.declare(\"Zero\")\n",
    "Succ = Nat.declare(\"Succ\", (\"pred\", Nat))\n",
    "Nat = Nat.create()"
   ]
  },
  {
   "cell_type": "code",
   "execution_count": null,
   "id": "93424bab",
   "metadata": {},
   "outputs": [],
   "source": [
    "# We can define an addition function by cases\n",
    "n,m = smt.Consts(\"n m\", Nat)\n",
    "add = smt.Function(\"add\", Nat, Nat, Nat)\n",
    "add = kd.define(\"add\", [n,m], \n",
    "    kd.cond(\n",
    "        (n.is_Zero, m),\n",
    "        (n.is_Succ, Nat.Succ(add(n.pred, m)))\n",
    "))\n",
    "\n",
    "kd.notation.add.register(Nat, add)"
   ]
  },
  {
   "cell_type": "code",
   "execution_count": 9,
   "id": "96d38db1",
   "metadata": {},
   "outputs": [],
   "source": [
    "add_zero_x = kd.prove(smt.ForAll([n], Nat.Zero + n == n), by=[add.defn])\n",
    "add_succ_x = kd.prove(smt.ForAll([n,m], Nat.Succ(n) + m == Nat.Succ(n + m)), by=[add.defn])"
   ]
  },
  {
   "cell_type": "code",
   "execution_count": null,
   "id": "a11e86e8",
   "metadata": {},
   "outputs": [],
   "source": [
    "l = kd.Lemma(smt.ForAll([n], n + Nat.Zero == n))\n",
    "#_n = l.fix()            \n",
    "#l.induct(_n)              \n",
    "#l.auto(by=[add.defn])\n",
    "#l.auto(by=[add.defn])\n",
    "#add_x_zero = l.qed()"
   ]
  },
  {
   "cell_type": "markdown",
   "id": "75e7ce61",
   "metadata": {},
   "source": [
    "# Inference Rules\n",
    "\n",
    "- Hilbert style proof system\n",
    "- LCF style kernel\n",
    "    + Proof datatype\n",
    "    + Small number of trusted constructors\n",
    "- Proof objects are basically trees of recorded z3 calls\n",
    "\n",
    "$$\n",
    "\\frac{\n",
    "  t_1\\ \\text{True} \\quad t_2\\ \\text{True} \\quad \\cdots \\quad \\lnot  (t_1 \\land t_2 \\land \\cdots) \\rightarrow t \\ \\text{unsat}\n",
    "}{\n",
    "  t\\ \\text{True}\n",
    "}\n",
    "\\quad \\text{prove}\n",
    "$$"
   ]
  },
  {
   "cell_type": "code",
   "execution_count": 12,
   "id": "3f51cb87",
   "metadata": {},
   "outputs": [
    {
     "data": {
      "text/html": [
       "&#8870;x > -1"
      ],
      "text/plain": [
       "|- x > -1"
      ]
     },
     "execution_count": 12,
     "metadata": {},
     "output_type": "execute_result"
    }
   ],
   "source": [
    "x = smt.Int(\"x\")\n",
    "xpos = kd.kernel.axiom(x > 0)\n",
    "# ---------------------------\n",
    "kd.kernel.prove(x > -1, by=[xpos])"
   ]
  },
  {
   "cell_type": "code",
   "execution_count": null,
   "id": "b58e37f3",
   "metadata": {},
   "outputs": [
    {
     "data": {
      "text/plain": [
       "[|- x > 0]"
      ]
     },
     "execution_count": 34,
     "metadata": {},
     "output_type": "execute_result"
    }
   ],
   "source": [
    "kd.kernel.prove(x > -1, by=[xpos]).reason"
   ]
  },
  {
   "cell_type": "markdown",
   "id": "8fc832c6",
   "metadata": {},
   "source": [
    "## But Not Quite the Whole Story\n",
    "- Quantifier axiom schema\n",
    "- Induction axiom schema\n",
    "- User and theory specific schema"
   ]
  },
  {
   "cell_type": "code",
   "execution_count": null,
   "id": "5d65e43d",
   "metadata": {},
   "outputs": [
    {
     "data": {
      "text/html": [
       "&#8870;Implies(x!1195 > 0, ForAll(x, x > 0))"
      ],
      "text/plain": [
       "|- Implies(x!1195 > 0, ForAll(x, x > 0))"
      ]
     },
     "execution_count": 16,
     "metadata": {},
     "output_type": "execute_result"
    }
   ],
   "source": [
    "vs, pf = kd.kernel.herb(smt.ForAll([x], x > 0))\n",
    "pf"
   ]
  },
  {
   "cell_type": "code",
   "execution_count": null,
   "id": "3bd93cae",
   "metadata": {},
   "outputs": [
    {
     "data": {
      "text/html": [
       "&#8870;42 > 42 - 1"
      ],
      "text/plain": [
       "|- 42 > 42 - 1"
      ]
     },
     "execution_count": 22,
     "metadata": {},
     "output_type": "execute_result"
    }
   ],
   "source": [
    "pf = kd.prove(smt.ForAll([x], x > x - 1))\n",
    "kd.kernel.instan([smt.IntVal(42)], pf)"
   ]
  },
  {
   "cell_type": "code",
   "execution_count": null,
   "id": "863ec1a0",
   "metadata": {},
   "outputs": [
    {
     "data": {
      "text/html": [
       "&#8870;Implies(And(P(Z),\n",
       "            ForAll(pred!1202,\n",
       "                   Implies(P(pred!1202), P(S(pred!1202))))),\n",
       "        P(n))"
      ],
      "text/plain": [
       "|- Implies(And(P(Z),\n",
       "            ForAll(pred!1202,\n",
       "                   Implies(P(pred!1202), P(S(pred!1202))))),\n",
       "        P(n))"
      ]
     },
     "execution_count": 27,
     "metadata": {},
     "output_type": "execute_result"
    }
   ],
   "source": [
    "import kdrag.theories.nat as nat\n",
    "n = smt.Const(\"n\", nat.Nat)\n",
    "P = smt.Function(\"P\", nat.Nat, smt.BoolSort())\n",
    "kd.kernel.induct_inductive(n, P)"
   ]
  },
  {
   "cell_type": "markdown",
   "id": "c1f4dcb6",
   "metadata": {},
   "source": [
    "# Backwards Tactics\n",
    "\n",
    "- Mutable `Lemma` object with list of goals\n",
    "- tactic methods\n",
    "    + Pop goal\n",
    "    + record `Proof` lemmas\n",
    "    + push new goals\n",
    "- `l.qed()` assembles lemmas via `prove` call"
   ]
  },
  {
   "cell_type": "markdown",
   "id": "7d03d070",
   "metadata": {},
   "source": [
    "# Smorgasbord\n"
   ]
  },
  {
   "cell_type": "markdown",
   "id": "1015a3e9",
   "metadata": {},
   "source": [
    "## Theories\n"
   ]
  },
  {
   "cell_type": "code",
   "execution_count": null,
   "id": "a02e48e8",
   "metadata": {},
   "outputs": [
    {
     "name": "stderr",
     "output_type": "stream",
     "text": [
      "Admitting lemma ForAll([t, s], mul(expi(t), expi(s)) == expi(t + s))\n"
     ]
    },
    {
     "name": "stdout",
     "output_type": "stream",
     "text": [
      "WARNING: Redefining function norm2 from |- ForAll(u,\n",
      "       norm2(u) ==\n",
      "       0 + x0(u)*x0(u) + x1(u)*x1(u) + x2(u)*x2(u)) to ForAll(u,\n",
      "       norm2(u) == x0(u)*x0(u) + x1(u)*x1(u) + x2(u)*x2(u))\n"
     ]
    }
   ],
   "source": [
    "import kdrag.theories.real as real\n",
    "import kdrag.theories.bool as bool_\n",
    "import kdrag.theories.bitvec as bitvec\n",
    "import kdrag.theories.seq as seq\n",
    "import kdrag.theories.nat as nat\n",
    "import kdrag.theories.int as int_\n",
    "import kdrag.theories.list as list_\n",
    "import kdrag.theories.option as option\n",
    "import kdrag.theories.set as set_\n",
    "import kdrag.theories.real.complex as complex\n",
    "import kdrag.theories.algebra.group as group\n",
    "import kdrag.theories.algebra.lattice\n",
    "import kdrag.theories.algebra.ordering\n",
    "import kdrag.theories.fixed\n",
    "import kdrag.theories.float\n",
    "import kdrag.theories.real.arb\n",
    "import kdrag.theories.real.sympy\n",
    "import kdrag.theories.real.vec\n",
    "\n",
    "# shallow embeddings of logics\n",
    "import kdrag.theories.logic.intuitionistic\n",
    "import kdrag.theories.logic.temporal"
   ]
  },
  {
   "cell_type": "markdown",
   "id": "44f84c2f",
   "metadata": {},
   "source": [
    "### Quickcheck\n",
    "\n",
    "- Uses python hypothesis to quickcheck goals"
   ]
  },
  {
   "cell_type": "code",
   "execution_count": null,
   "id": "7825366d",
   "metadata": {},
   "outputs": [],
   "source": [
    "import kdrag.hypothesis as hyp\n",
    "import kdrag.theories.nat as nat\n",
    "n = smt.Const(\"n\", nat.Nat)\n",
    "hyp.quickcheck(smt.ForAll([n], n + nat.Z == n))"
   ]
  },
  {
   "cell_type": "code",
   "execution_count": null,
   "id": "f6655044",
   "metadata": {},
   "outputs": [
    {
     "ename": "AssertionError",
     "evalue": "('Found a counterexample', [])",
     "output_type": "error",
     "traceback": [
      "\u001b[31m---------------------------------------------------------------------------\u001b[39m",
      "\u001b[31mAssertionError\u001b[39m                            Traceback (most recent call last)",
      "\u001b[36mCell\u001b[39m\u001b[36m \u001b[39m\u001b[32mIn[7]\u001b[39m\u001b[32m, line 1\u001b[39m\n\u001b[32m----> \u001b[39m\u001b[32m1\u001b[39m \u001b[43mhyp\u001b[49m\u001b[43m.\u001b[49m\u001b[43mquickcheck\u001b[49m\u001b[43m(\u001b[49m\u001b[43msmt\u001b[49m\u001b[43m.\u001b[49m\u001b[43mForAll\u001b[49m\u001b[43m(\u001b[49m\u001b[43m[\u001b[49m\u001b[43mn\u001b[49m\u001b[43m]\u001b[49m\u001b[43m,\u001b[49m\u001b[43m \u001b[49m\u001b[43mn\u001b[49m\u001b[43m \u001b[49m\u001b[43m+\u001b[49m\u001b[43m \u001b[49m\u001b[43mnat\u001b[49m\u001b[43m.\u001b[49m\u001b[43mZ\u001b[49m\u001b[43m \u001b[49m\u001b[43m==\u001b[49m\u001b[43m \u001b[49m\u001b[43mn\u001b[49m\u001b[43m \u001b[49m\u001b[43m+\u001b[49m\u001b[43m \u001b[49m\u001b[43mnat\u001b[49m\u001b[43m.\u001b[49m\u001b[43mone\u001b[49m\u001b[43m)\u001b[49m\u001b[43m)\u001b[49m\n",
      "\u001b[36mFile \u001b[39m\u001b[32m~/Documents/python/knuckledragger/kdrag/hypothesis.py:305\u001b[39m, in \u001b[36mquickcheck\u001b[39m\u001b[34m(thm, deadline, **hyp_settings)\u001b[39m\n\u001b[32m    302\u001b[39m         \u001b[38;5;28;01melse\u001b[39;00m:\n\u001b[32m    303\u001b[39m             \u001b[38;5;28;01mraise\u001b[39;00m \u001b[38;5;167;01mAssertionError\u001b[39;00m(\u001b[33m\"\u001b[39m\u001b[33mCould not find a counterexample\u001b[39m\u001b[33m\"\u001b[39m)\n\u001b[32m--> \u001b[39m\u001b[32m305\u001b[39m \u001b[43mquickcheck\u001b[49m\u001b[43m(\u001b[49m\u001b[43m)\u001b[49m\n",
      "\u001b[36mFile \u001b[39m\u001b[32m~/Documents/python/knuckledragger/kdrag/hypothesis.py:285\u001b[39m, in \u001b[36mquickcheck.<locals>.quickcheck\u001b[39m\u001b[34m(**kwargs)\u001b[39m\n\u001b[32m    281\u001b[39m N = \u001b[38;5;28mlen\u001b[39m(sorts)\n\u001b[32m    283\u001b[39m \u001b[38;5;66;03m# Todo: could specialize to arity of the quantifier. Probably not worth it.\u001b[39;00m\n\u001b[32m    284\u001b[39m \u001b[38;5;129m@hypothesis\u001b[39m.settings(deadline=deadline, **hyp_settings)\n\u001b[32m--> \u001b[39m\u001b[32m285\u001b[39m \u001b[38;5;129m@hypothesis\u001b[39m.given(**{\u001b[38;5;28mstr\u001b[39m(i): sort \u001b[38;5;28;01mfor\u001b[39;00m i, sort \u001b[38;5;129;01min\u001b[39;00m \u001b[38;5;28menumerate\u001b[39m(sorts)})\n\u001b[32m    286\u001b[39m \u001b[38;5;28;01mdef\u001b[39;00m\u001b[38;5;250m \u001b[39m\u001b[34mquickcheck\u001b[39m(**kwargs):\n\u001b[32m    287\u001b[39m     t0 = smt.substitute_vars(body, *[kwargs[\u001b[38;5;28mstr\u001b[39m(i)] \u001b[38;5;28;01mfor\u001b[39;00m i \u001b[38;5;129;01min\u001b[39;00m \u001b[38;5;28mrange\u001b[39m(N - \u001b[32m1\u001b[39m, -\u001b[32m1\u001b[39m, -\u001b[32m1\u001b[39m)])\n\u001b[32m    288\u001b[39m     hypothesis.note((\u001b[33m\"\u001b[39m\u001b[33mStarting point: \u001b[39m\u001b[33m\"\u001b[39m, t0))\n",
      "    \u001b[31m[... skipping hidden 1 frame]\u001b[39m\n",
      "\u001b[36mFile \u001b[39m\u001b[32m~/Documents/python/knuckledragger/kdrag/hypothesis.py:299\u001b[39m, in \u001b[36mquickcheck.<locals>.quickcheck\u001b[39m\u001b[34m(**kwargs)\u001b[39m\n\u001b[32m    297\u001b[39m     model = s.model()\n\u001b[32m    298\u001b[39m     hypothesis.note((\u001b[33m\"\u001b[39m\u001b[33mCounterexample: \u001b[39m\u001b[33m\"\u001b[39m, model))\n\u001b[32m--> \u001b[39m\u001b[32m299\u001b[39m     \u001b[38;5;28;01mraise\u001b[39;00m \u001b[38;5;167;01mAssertionError\u001b[39;00m(\u001b[33m\"\u001b[39m\u001b[33mFound a counterexample\u001b[39m\u001b[33m\"\u001b[39m, model)\n\u001b[32m    300\u001b[39m \u001b[38;5;28;01melif\u001b[39;00m res == smt.unsat:\n\u001b[32m    301\u001b[39m     \u001b[38;5;28;01mpass\u001b[39;00m\n",
      "\u001b[31mAssertionError\u001b[39m: ('Found a counterexample', [])",
      "Falsifying example: quickcheck(\n    0=Z,  # or any other generated value\n)",
      "('Starting point: ', add(Z, Z) == add(Z, S(Z)))",
      "('Simplifies to: ', False)",
      "('Counterexample: ', [])"
     ]
    }
   ],
   "source": [
    "hyp.quickcheck(smt.ForAll([n], n + nat.Z == n + nat.one))"
   ]
  },
  {
   "cell_type": "markdown",
   "id": "85e067da",
   "metadata": {},
   "source": [
    "## Search\n",
    "\n",
    "- Finding the right lemmas is half the battle"
   ]
  },
  {
   "cell_type": "code",
   "execution_count": null,
   "id": "1f0e36de",
   "metadata": {},
   "outputs": [
    {
     "data": {
      "text/plain": [
       "{('kdrag.theories.real.pythag_1',\n",
       "  |- ForAll(x, cos(x)**2 == 1 - sin(x)**2)): [x],\n",
       " ('kdrag.theories.real.cos_neg', |- ForAll(x, cos(-x) == cos(x))): [x]}"
      ]
     },
     "execution_count": 8,
     "metadata": {},
     "output_type": "execute_result"
    }
   ],
   "source": [
    "x = smt.Real(\"x\")\n",
    "kd.search(real.cos(x)**2)"
   ]
  },
  {
   "cell_type": "markdown",
   "id": "8045c5d5",
   "metadata": {},
   "source": [
    "## Rewriting\n"
   ]
  },
  {
   "cell_type": "code",
   "execution_count": null,
   "id": "6e1973a7",
   "metadata": {},
   "outputs": [
    {
     "data": {
      "text/html": [
       "0 + x + z"
      ],
      "text/plain": [
       "0 + x + z"
      ]
     },
     "execution_count": 10,
     "metadata": {},
     "output_type": "execute_result"
    }
   ],
   "source": [
    "x,y,z = smt.Reals(\"x y z\")\n",
    "unit = kd.prove(smt.ForAll([x], x + 0 == x))\n",
    "mul_zero = kd.prove(smt.ForAll([x], x * 0 == 0))\n",
    "kdrag.rewrite.rewrite(0 + x + y*0 + z + 0 + x*0, [unit, mul_zero])"
   ]
  },
  {
   "cell_type": "code",
   "execution_count": null,
   "id": "dc136387",
   "metadata": {},
   "outputs": [
    {
     "data": {
      "text/html": [
       "x + z"
      ],
      "text/plain": [
       "x + z"
      ]
     },
     "execution_count": 11,
     "metadata": {},
     "output_type": "execute_result"
    }
   ],
   "source": [
    "smt.simplify(0 + x + y*0 + z + 0 + x*0)"
   ]
  },
  {
   "cell_type": "markdown",
   "id": "0c7f011a",
   "metadata": {},
   "source": [
    "## Syntactic Utilities\n",
    "\n",
    "- Locally nameless combinators\n",
    "- Unification and pattern matching\n",
    "- "
   ]
  },
  {
   "cell_type": "code",
   "execution_count": 35,
   "id": "486184f0",
   "metadata": {},
   "outputs": [
    {
     "data": {
      "text/plain": [
       "([X!110, Y!111], X!110 + Y!111 == Y!111 + X!110)"
      ]
     },
     "execution_count": 35,
     "metadata": {},
     "output_type": "execute_result"
    }
   ],
   "source": [
    "x,y,z = smt.Ints(\"x y z\")\n",
    "kd.utils.open_binder(smt.ForAll([x,y], x + y == y + x))"
   ]
  },
  {
   "cell_type": "code",
   "execution_count": 36,
   "id": "240233ea",
   "metadata": {},
   "outputs": [
    {
     "data": {
      "text/plain": [
       "{z: 0, x: y}"
      ]
     },
     "execution_count": 36,
     "metadata": {},
     "output_type": "execute_result"
    }
   ],
   "source": [
    "kd.utils.unify([x,y,z], x + (x + z), y + (x + 0))"
   ]
  },
  {
   "cell_type": "markdown",
   "id": "f9de8ecc",
   "metadata": {},
   "source": [
    "## Knuth Bendix Completion"
   ]
  },
  {
   "cell_type": "code",
   "execution_count": null,
   "id": "30f2179f",
   "metadata": {},
   "outputs": [
    {
     "data": {
      "text/plain": [
       "[RewriteRule(vs=[Z!10564, X!10565], lhs=c_inv(b_mul(X!10565, Z!10564)), rhs=b_mul(c_inv(Z!10564), c_inv(X!10565)), pf=None),\n",
       " RewriteRule(vs=[Z!7894, X!7895], lhs=b_mul(X!7895, b_mul(c_inv(X!7895), Z!7894)), rhs=Z!7894, pf=None),\n",
       " RewriteRule(vs=[X!7885], lhs=c_inv(c_inv(X!7885)), rhs=X!7885, pf=None),\n",
       " RewriteRule(vs=[], lhs=c_inv(a_e), rhs=a_e, pf=None),\n",
       " RewriteRule(vs=[X!7880], lhs=b_mul(X!7880, c_inv(X!7880)), rhs=a_e, pf=None),\n",
       " RewriteRule(vs=[X!7611], lhs=b_mul(X!7611, a_e), rhs=X!7611, pf=None),\n",
       " RewriteRule(vs=[Z!7529, X!7530], lhs=b_mul(c_inv(X!7530), b_mul(X!7530, Z!7529)), rhs=Z!7529, pf=None),\n",
       " RewriteRule(vs=[X!7493], lhs=b_mul(a_e, X!7493), rhs=X!7493, pf=None),\n",
       " RewriteRule(vs=[X!7490], lhs=b_mul(c_inv(X!7490), X!7490), rhs=a_e, pf=None),\n",
       " RewriteRule(vs=[X!7485, Y!7486, Z!7487], lhs=b_mul(b_mul(X!7485, Y!7486), Z!7487), rhs=b_mul(X!7485, b_mul(Y!7486, Z!7487)), pf=None)]"
      ]
     },
     "execution_count": 30,
     "metadata": {},
     "output_type": "execute_result"
    }
   ],
   "source": [
    "import kdrag.solvers.kb as kb\n",
    "# https://www.philipzucker.com/knuth_bendix_knuck/\n",
    "T = smt.DeclareSort(\"AbstractGroup\")\n",
    "x,y,z = smt.Consts(\"x y z\", T)\n",
    "e = smt.Const(\"a_e\", T)\n",
    "inv = smt.Function(\"c_inv\", T, T)\n",
    "mul = smt.Function(\"b_mul\", T, T, T)\n",
    "kd.notation.mul.register(T, mul)\n",
    "kd.notation.invert.register(T, inv)\n",
    "E = [\n",
    "    smt.ForAll([x], e * x == x),\n",
    "    smt.ForAll([x], inv(x) * x == e),\n",
    "    smt.ForAll([x,y,z], (x * y) * z == x * (y * z)),\n",
    "]\n",
    "kb.huet(E, order=kd.rewrite.lpo)"
   ]
  },
  {
   "cell_type": "markdown",
   "id": "8cf5bb0b",
   "metadata": {},
   "source": [
    "## External Solvers"
   ]
  },
  {
   "cell_type": "code",
   "execution_count": null,
   "id": "a921761e",
   "metadata": {},
   "outputs": [
    {
     "name": "stdout",
     "output_type": "stream",
     "text": [
      "# Preprocessing class: HSSSSMSSSSSNFFN.\n",
      "# Scheduled 4 strats onto 8 cores with 300 seconds (2400 total)\n",
      "# Starting new_ho_10 with 1500s (5) cores\n",
      "# Starting ho_unfolding_6 with 300s (1) cores\n",
      "# Starting sh4l with 300s (1) cores\n",
      "# Starting ehoh_best_nonlift_rwall with 300s (1) cores\n",
      "# ho_unfolding_6 with pid 1176906 completed with status 0\n",
      "# Result found by ho_unfolding_6\n",
      "# Preprocessing class: HSSSSMSSSSSNFFN.\n",
      "# Scheduled 4 strats onto 8 cores with 300 seconds (2400 total)\n",
      "# Starting new_ho_10 with 1500s (5) cores\n",
      "# Starting ho_unfolding_6 with 300s (1) cores\n",
      "# No SInE strategy applied\n",
      "# Search class: HUUPS-FFSF21-SFFFFFNN\n",
      "# Scheduled 6 strats onto 1 cores with 300 seconds (300 total)\n",
      "# Starting new_ho_10 with 163s (1) cores\n",
      "# new_ho_10 with pid 1176910 completed with status 0\n",
      "# Result found by new_ho_10\n",
      "# Preprocessing class: HSSSSMSSSSSNFFN.\n",
      "# Scheduled 4 strats onto 8 cores with 300 seconds (2400 total)\n",
      "# Starting new_ho_10 with 1500s (5) cores\n",
      "# Starting ho_unfolding_6 with 300s (1) cores\n",
      "# No SInE strategy applied\n",
      "# Search class: HUUPS-FFSF21-SFFFFFNN\n",
      "# Scheduled 6 strats onto 1 cores with 300 seconds (300 total)\n",
      "# Starting new_ho_10 with 163s (1) cores\n",
      "# Initializing proof state\n",
      "# Scanning for AC axioms\n",
      "# b_mul_2d4 is associative\n",
      "#\n",
      "#thf(i_0_5, plain, ![X1:abstractgroup]:(((b_mul_2d4 @ a_e_22a @ X1)=(X1)))).\n",
      "#\n",
      "#thf(i_0_8, plain, ![X1:abstractgroup]:(((b_mul_2d4 @ X1 @ a_e_22a)!=(X1)))).\n",
      "#\n",
      "#thf(i_0_6, plain, ![X1:abstractgroup]:(((b_mul_2d4 @ (c_inv_34e @ X1) @ X1)=(a_e_22a)))).\n",
      "#\n",
      "#thf(i_0_7, plain, ![X1:abstractgroup, X2:abstractgroup, X3:abstractgroup]:(((b_mul_2d4 @ (b_mul_2d4 @ X1 @ X2) @ X3)=(b_mul_2d4 @ X1 @ (b_mul_2d4 @ X2 @ X3))))).\n",
      "# Presaturation interreduction done\n",
      "#\n",
      "#thf(i_0_8, plain, ![X1:abstractgroup]:(((b_mul_2d4 @ X1 @ a_e_22a)!=(X1)))).\n",
      "#\n",
      "#thf(i_0_5, plain, ![X1:abstractgroup]:(((b_mul_2d4 @ a_e_22a @ X1)=(X1)))).\n",
      "\n",
      "# Proof found!\n",
      "# SZS status Unsatisfiable\n",
      "\n"
     ]
    }
   ],
   "source": [
    "s = kd.solvers.EProverTHFSolver()\n",
    "for eq in E:\n",
    "    s.add(eq)\n",
    "s.add(smt.ForAll([x], x * e != x))\n",
    "s.check()\n",
    "print(s.res.stdout.decode())"
   ]
  },
  {
   "cell_type": "code",
   "execution_count": null,
   "id": "c8e3045a",
   "metadata": {},
   "outputs": [
    {
     "name": "stdout",
     "output_type": "stream",
     "text": [
      "(set-logic ALL)\n",
      "\n",
      "(declare-sort AbstractGroup 0)\n",
      "\n",
      ";;declarations\n",
      "\n",
      "(declare-fun b_mul_2d4 (AbstractGroup AbstractGroup) AbstractGroup)\n",
      "\n",
      "(declare-fun a_e_22a () AbstractGroup)\n",
      "\n",
      "(declare-fun c_inv_34e (AbstractGroup) AbstractGroup)\n",
      "\n",
      ";;axioms\n",
      "\n",
      "(assert (forall ((X!10954_398 AbstractGroup)) (= (b_mul_2d4 a_e_22a X!10954_398) X!10954_398)))\n",
      "\n",
      "(assert (forall ((X!10955_33c AbstractGroup)) (= (b_mul_2d4 (c_inv_34e X!10955_33c) X!10955_33c) a_e_22a)))\n",
      "\n",
      "(assert (forall ((X!10956_398 AbstractGroup) (Y!10957_33c AbstractGroup) (Z!10958_322 AbstractGroup)) (= (b_mul_2d4 (b_mul_2d4 X!10956_398 Y!10957_33c) Z!10958_322) (b_mul_2d4 X!10956_398 (b_mul_2d4 Y!10957_33c Z!10958_322)))))\n",
      "\n",
      "(assert (forall ((X!10959_3a1 AbstractGroup)) (distinct (b_mul_2d4 X!10959_3a1 a_e_22a) X!10959_3a1)))\n",
      "\n",
      "(check-sat)\n",
      "\n",
      "b'WARNING Broken Constraint: if inline_let(on) has been set then newcnf(off) is equal to on\\nWARNING Broken Constraint: if inline_let(on) has been set then newcnf(off) is equal to on\\nWARNING Broken Constraint: if inner_rewriting(on) has been set then saturation_algorithm(fmb) is equal to lrs or saturation_algorithm(fmb) is equal to otter or saturation_algorithm(fmb) is equal to discount\\nWARNING Broken Constraint: if inline_let(on) has been set then newcnf(off) is equal to on\\nWARNING Broken Constraint: if symbol_precedence(reverse_arity) has been set then saturation_algorithm(fmb) is equal to lrs or saturation_algorithm(fmb) is equal to otter or saturation_algorithm(fmb) is equal to discount\\nWARNING Broken Constraint: if sos(all) has been set then saturation_algorithm(fmb) is equal to lrs or saturation_algorithm(fmb) is equal to otter or saturation_algorithm(fmb) is equal to discount\\nWARNING Broken Constraint: if literal_maximality_aftercheck(on) has been set then saturation_algorithm(fmb) is equal to lrs or saturation_algorithm(fmb) is equal to otter or saturation_algorithm(fmb) is equal to discount\\nWARNING Broken Constraint: if literal_comparison_mode(predicate) has been set then saturation_algorithm(fmb) is equal to lrs or saturation_algorithm(fmb) is equal to otter or saturation_algorithm(fmb) is equal to discount\\nWARNING Broken Constraint: if nongoal_weight_coefficient(1.7) has been set then saturation_algorithm(fmb) is equal to lrs or saturation_algorithm(fmb) is equal to otter or saturation_algorithm(fmb) is equal to discount\\nWARNING Broken Constraint: if avatar(off) has been set then saturation_algorithm(fmb) is equal to lrs or saturation_algorithm(fmb) is equal to otter or saturation_algorithm(fmb) is equal to discount\\nWARNING Broken Constraint: if inline_let(on) has been set then newcnf(off) is equal to on\\nWARNING Broken Constraint: if lrs_weight_limit_only(on) has been set then saturation_algorithm(discount) is equal to lrs\\nWARNING Broken Constraint: if inline_let(on) has been set then newcnf(off) is equal to on\\nWARNING Broken Constraint: if inline_let(on) has been set then newcnf(off) is equal to on\\nWARNING Broken Constraint: if inline_let(on) has been set then newcnf(off) is equal to on\\nWARNING Broken Constraint: if lrs_weight_limit_only(on) has been set then saturation_algorithm(discount) is equal to lrs\\nWARNING Broken Constraint: if inline_let(on) has been set then newcnf(off) is equal to on\\nWARNING Broken Constraint: if inline_let(on) has been set then newcnf(off) is equal to on\\nWARNING Broken Constraint: if inline_let(on) has been set then newcnf(off) is equal to on\\nAlso succeeded, but the first one will report.\\nAlso succeeded, but the first one will report.\\nAlso succeeded, but the first one will report.\\nAlso succeeded, but the first one will report.\\nWARNING Broken Constraint: if inline_let(on) has been set then newcnf(off) is equal to on\\nunsat\\n'\n",
      "b''\n",
      "WARNING Broken Constraint: if inline_let(on) has been set then newcnf(off) is equal to on\n",
      "WARNING Broken Constraint: if inline_let(on) has been set then newcnf(off) is equal to on\n",
      "WARNING Broken Constraint: if inner_rewriting(on) has been set then saturation_algorithm(fmb) is equal to lrs or saturation_algorithm(fmb) is equal to otter or saturation_algorithm(fmb) is equal to discount\n",
      "WARNING Broken Constraint: if inline_let(on) has been set then newcnf(off) is equal to on\n",
      "WARNING Broken Constraint: if symbol_precedence(reverse_arity) has been set then saturation_algorithm(fmb) is equal to lrs or saturation_algorithm(fmb) is equal to otter or saturation_algorithm(fmb) is equal to discount\n",
      "WARNING Broken Constraint: if sos(all) has been set then saturation_algorithm(fmb) is equal to lrs or saturation_algorithm(fmb) is equal to otter or saturation_algorithm(fmb) is equal to discount\n",
      "WARNING Broken Constraint: if literal_maximality_aftercheck(on) has been set then saturation_algorithm(fmb) is equal to lrs or saturation_algorithm(fmb) is equal to otter or saturation_algorithm(fmb) is equal to discount\n",
      "WARNING Broken Constraint: if literal_comparison_mode(predicate) has been set then saturation_algorithm(fmb) is equal to lrs or saturation_algorithm(fmb) is equal to otter or saturation_algorithm(fmb) is equal to discount\n",
      "WARNING Broken Constraint: if nongoal_weight_coefficient(1.7) has been set then saturation_algorithm(fmb) is equal to lrs or saturation_algorithm(fmb) is equal to otter or saturation_algorithm(fmb) is equal to discount\n",
      "WARNING Broken Constraint: if avatar(off) has been set then saturation_algorithm(fmb) is equal to lrs or saturation_algorithm(fmb) is equal to otter or saturation_algorithm(fmb) is equal to discount\n",
      "WARNING Broken Constraint: if inline_let(on) has been set then newcnf(off) is equal to on\n",
      "WARNING Broken Constraint: if lrs_weight_limit_only(on) has been set then saturation_algorithm(discount) is equal to lrs\n",
      "WARNING Broken Constraint: if inline_let(on) has been set then newcnf(off) is equal to on\n",
      "WARNING Broken Constraint: if inline_let(on) has been set then newcnf(off) is equal to on\n",
      "WARNING Broken Constraint: if inline_let(on) has been set then newcnf(off) is equal to on\n",
      "WARNING Broken Constraint: if lrs_weight_limit_only(on) has been set then saturation_algorithm(discount) is equal to lrs\n",
      "WARNING Broken Constraint: if inline_let(on) has been set then newcnf(off) is equal to on\n",
      "WARNING Broken Constraint: if inline_let(on) has been set then newcnf(off) is equal to on\n",
      "WARNING Broken Constraint: if inline_let(on) has been set then newcnf(off) is equal to on\n",
      "Also succeeded, but the first one will report.\n",
      "Also succeeded, but the first one will report.\n",
      "Also succeeded, but the first one will report.\n",
      "Also succeeded, but the first one will report.\n",
      "WARNING Broken Constraint: if inline_let(on) has been set then newcnf(off) is equal to on\n",
      "unsat\n",
      "\n"
     ]
    }
   ],
   "source": [
    "s = kd.solvers.VampireSolver()\n",
    "for eq in E:\n",
    "    s.add(eq)\n",
    "s.add(smt.ForAll([x], x * e != x))\n",
    "s.check()\n",
    "print(s.res.stdout.decode())"
   ]
  },
  {
   "cell_type": "markdown",
   "id": "8d16157f",
   "metadata": {},
   "source": [
    "# Other Subsystems\n",
    "- Reflection\n",
    "- Typeclasses and Generics\n",
    "- Sympy interop\n",
    "- Arb\n",
    "- Inductive Relations\n",
    "- Prolog"
   ]
  },
  {
   "cell_type": "markdown",
   "id": "8415b8c1",
   "metadata": {},
   "source": [
    "# Future Work\n",
    "- Textual proof certificates and standalone checkers\n",
    "- Fill out more theories\n",
    "- Software Foundations\n",
    "- Applications\n",
    "    + Binary Verification via Ghidra\n",
    "    + Verilog importing via yosys"
   ]
  },
  {
   "cell_type": "markdown",
   "id": "32e291ea",
   "metadata": {},
   "source": [
    "# Conclusion\n",
    "- A low barrier interactive theorem prover based around z3\n",
    "- http://www.kdrag.com\n"
   ]
  }
 ],
 "metadata": {
  "kernelspec": {
   "display_name": ".venv",
   "language": "python",
   "name": "python3"
  },
  "language_info": {
   "codemirror_mode": {
    "name": "ipython",
    "version": 3
   },
   "file_extension": ".py",
   "mimetype": "text/x-python",
   "name": "python",
   "nbconvert_exporter": "python",
   "pygments_lexer": "ipython3",
   "version": "3.12.3"
  }
 },
 "nbformat": 4,
 "nbformat_minor": 5
}
