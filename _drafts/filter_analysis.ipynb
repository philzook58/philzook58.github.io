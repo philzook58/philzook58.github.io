{
 "cells": [
  {
   "cell_type": "code",
   "execution_count": null,
   "id": "0abb0f89",
   "metadata": {},
   "outputs": [],
   "source": [
    "from typing import Protocol\n",
    "from kdrag.all import *\n",
    "import kdrag.theories.set as set_\n",
    "\n",
    "class TopologicalSpace(Protocol):\n",
    "    T : smt.SortRef\n",
    "    open_ : smt.FuncDeclRef\n",
    "    open_full : kd.Proof\n",
    "    open_inter : kd.Proof\n",
    "    open_bigunion : kd.Proof\n",
    "\n",
    "def closed(space: TopologicalSpace, A: smt.ExprRef) -> smt.BoolRef:\n",
    "    return space.open_(smt.Complement(x))\n",
    "\n",
    "\n",
    "\n",
    "class TopT:\n",
    "    T = smt.DeclareSort(\"AbstractT\")\n",
    "    S = set_.Set(T)\n",
    "    open_ : smt.FuncDeclRef = smt.DeclareFunc(\"open\", T, smt.BoolSort())\n",
    "    open_full = kd.axiom(open_(S.full))\n",
    "    A,B = smt.Consts(\"A B\", S)\n",
    "    open_inter = kd.axiom(smt.ForAll([A,B], open_(A & B)))\n",
    "    open_bigunion = kd.axiom(smt.ForAll([A], open_(set_.bigunion(A))))\n",
    "\n",
    "class T0Space(TopologicalSpace, Protocol):\n",
    "    t0sep : kd.Proof\n",
    "\n",
    "class T1Space(T0Space, Protocol):\n",
    "    t1sep : kd.Proof\n",
    "\n",
    "class T2Space(T1Space, Protocol):\n",
    "    t2sep : kd.Proof\n",
    "\n",
    "class PerfectSpace(TopologicalSpace, Protocol):\n",
    "    singleton_not_open : kd.Proof\n",
    "\n",
    "\n",
    "\n"
   ]
  },
  {
   "cell_type": "code",
   "execution_count": null,
   "id": "7e0e99fb",
   "metadata": {},
   "outputs": [],
   "source": [
    "class Filter(Protocol):\n",
    "    T : smt.SortRef\n",
    "    F : smt.QuantifierRef\n",
    "    full : kd.Proof\n",
    "    inter : kd.Proof\n",
    "    mono : kd.Proof\n",
    "\n",
    "def eventually(filter: Filter, A: smt.ExprRef) -> smt.BoolRef:\n",
    "    return filter.F(A)\n",
    "\n",
    "def finer(F1 : Filter, F2: Filter) -> smt.BoolRef:\n",
    "    P = smt.FreshConst(set_.Set(F1.T), prefix=\"P\")\n",
    "    return smt.ForAll([P], smt.Implies(eventually(F1, P), eventually(F2, P)))\n",
    "\n"
   ]
  },
  {
   "cell_type": "markdown",
   "id": "1793b674",
   "metadata": {},
   "source": [
    "class Filter(Protocol):\n",
    "    T : smt.SortRef\n",
    "    F : smt.QuantifierRef"
   ]
  },
  {
   "cell_type": "markdown",
   "id": "8ca66c17",
   "metadata": {},
   "source": [
    "https://citeseerx.ist.psu.edu/document?repid=rep1&type=pdf&doi=ec19ee2c11191a94a5a6c78974b66476aa15f14e\n",
    "https://scholar.google.com/citations?user=HKLonc0AAAAJ&hl=en holzl\n",
    "\n",
    "Immler  https://link.springer.com/content/pdf/10.1007/s10817-017-9448-y.pdf A Verified ODE Solver and the Lorenz Attractor\n",
    "\n",
    "https://www.youtube.com/watch?v=KUJUalCyoZI Alex Kontorovich: Second Analysis Lecture \"Filter\" (June 17, 2025)\n",
    " \n",
    "Analysis \n",
    "https://github.com/teorth/analysis\n",
    "\n",
    "forall\n",
    "exists modelled in hol are (a -> bool) -> bool\n",
    "\n",
    "if filter ias generalized forall\n",
    "\n",
    "https://en.wikipedia.org/wiki/Filter_quantifier\n",
    "https://en.wikipedia.org/wiki/Generalized_quantifier\n",
    "\n",
    "bounded forall is filter\n",
    "\n",
    "hyperreals as equivalence classes of sequences\n",
    "\n",
    "Something kind of modal about this? It's kind of a box?\n",
    "\n",
    "filters show up in forcing.\n",
    "\n",
    "\n",
    "\n",
    "\n",
    "that is also sig of family\n",
    "\n",
    "choice (a -> bool) -> a\n"
   ]
  },
  {
   "cell_type": "code",
   "execution_count": null,
   "id": "b7117c83",
   "metadata": {},
   "outputs": [],
   "source": [
    "# vectors as cut out of lambda space rather that Seq.\n",
    "def Vec(n):\n",
    "    return smt.Lambda([v], kd.QForAll([m], m < 0, m < n, v[m] == 0))"
   ]
  }
 ],
 "metadata": {
  "language_info": {
   "name": "python"
  }
 },
 "nbformat": 4,
 "nbformat_minor": 5
}
