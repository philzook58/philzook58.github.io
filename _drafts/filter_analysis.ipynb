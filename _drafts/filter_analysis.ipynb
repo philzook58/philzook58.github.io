{
 "cells": [
  {
   "cell_type": "markdown",
   "id": "b11f9d3b",
   "metadata": {},
   "source": [
    "# Topology"
   ]
  },
  {
   "cell_type": "code",
   "execution_count": null,
   "id": "0abb0f89",
   "metadata": {},
   "outputs": [],
   "source": [
    "from typing import Protocol\n",
    "from kdrag.all import *\n",
    "import kdrag.theories.set as set_\n",
    "\n",
    "class TopologicalSpace(Protocol):\n",
    "    T : smt.SortRef\n",
    "    open_ : smt.FuncDeclRef\n",
    "    open_full : kd.Proof\n",
    "    open_inter : kd.Proof\n",
    "    open_bigunion : kd.Proof\n",
    "\n",
    "def closed(space: TopologicalSpace, A: smt.ExprRef) -> smt.BoolRef:\n",
    "    return space.open_(smt.Complement(x))\n",
    "\n",
    "\n",
    "\n",
    "class TopT:\n",
    "    T = smt.DeclareSort(\"AbstractT\")\n",
    "    S = set_.Set(T)\n",
    "    open_ : smt.FuncDeclRef = smt.DeclareFunc(\"open\", T, smt.BoolSort())\n",
    "    open_full = kd.axiom(open_(S.full))\n",
    "    A,B = smt.Consts(\"A B\", S)\n",
    "    open_inter = kd.axiom(smt.ForAll([A,B], open_(A & B)))\n",
    "    open_bigunion = kd.axiom(smt.ForAll([A], open_(set_.bigunion(A))))\n",
    "\n",
    "class T0Space(TopologicalSpace, Protocol):\n",
    "    t0sep : kd.Proof\n",
    "\n",
    "class T1Space(T0Space, Protocol):\n",
    "    t1sep : kd.Proof\n",
    "\n",
    "class T2Space(T1Space, Protocol):\n",
    "    t2sep : kd.Proof\n",
    "\n",
    "class PerfectSpace(TopologicalSpace, Protocol):\n",
    "    singleton_not_open : kd.Proof\n",
    "\n",
    "\n",
    "\n"
   ]
  },
  {
   "cell_type": "markdown",
   "id": "a4bfcf02",
   "metadata": {},
   "source": [
    "# neighborhood \n",
    "https://en.wikipedia.org/wiki/Neighbourhood_(mathematics)\n",
    "https://en.wikipedia.org/wiki/Neighbourhood_system\n",
    "\n",
    "https://stars.library.ucf.edu/cgi/viewcontent.cgi?article=1176&context=etd  The Use Of Filters In Topology\n",
    "Abdellatif Dasser \n",
    "\n",
    "Filters are\n",
    "closed under intersection\n",
    "closed upward (so yes, unions are also in them)\n",
    "\n",
    "base - every memeber of filter contains member of base\n"
   ]
  },
  {
   "cell_type": "code",
   "execution_count": null,
   "id": "3c8c5b57",
   "metadata": {},
   "outputs": [
    {
     "name": "stdout",
     "output_type": "stream",
     "text": [
      "WARNING: Redefining function nhbd from |= ForAll(x!187,\n",
      "       nhbd(x!187) ==\n",
      "       (Lambda(A!191,\n",
      "               Exists(r!190,\n",
      "                      And(r!190 > 0,\n",
      "                          subset(ball(x!187, r!190), A!191)))))) to ForAll(x,\n",
      "       nhbd(x) ==\n",
      "       (Lambda(A,\n",
      "               Exists(r, And(r > 0, subset(ball(x, r), A))))))\n"
     ]
    },
    {
     "data": {
      "text/html": [
       "&#8870;ForAll(x,\n",
       "       nhbd(x) ==\n",
       "       (Lambda(A,\n",
       "               Exists(r, And(r > 0, subset(ball(x, r), A))))))"
      ],
      "text/plain": [
       "|= ForAll(x,\n",
       "       nhbd(x) ==\n",
       "       (Lambda(A,\n",
       "               Exists(r, And(r > 0, subset(ball(x, r), A))))))"
      ]
     },
     "execution_count": 6,
     "metadata": {},
     "output_type": "execute_result"
    }
   ],
   "source": [
    "from kdrag.all import *\n",
    "import kdrag.theories.set as set_\n",
    "import kdrag.theories.real as real\n",
    "import kdrag.theories.real.analysis as anal\n",
    "\n",
    "x,y,z, r = smt.Consts(\"x y z r\", real.R)\n",
    "A,B,C = smt.Consts(\"A B C\", set_.Set(real.R))\n",
    "\n",
    "nhbd = kd.define(\"nhbd\", [x], smt.Lambda([A], kd.QExists([r], r > 0, anal.ball(x, r) <= A)))\n",
    "nhbd.defn\n",
    "\n",
    "\n",
    "class Nhbd(Filter):\n",
    "    def __init__(self, x : smt.ExprRef):\n",
    "        self.F = nhbd(x)\n",
    "        \n",
    "\n"
   ]
  },
  {
   "cell_type": "markdown",
   "id": "eaf15eb8",
   "metadata": {},
   "source": [
    "# Derivative\n",
    "https://leanprover-community.github.io/mathlib4_docs/Mathlib/Analysis/Calculus/Deriv/Basic.html"
   ]
  },
  {
   "cell_type": "code",
   "execution_count": null,
   "id": "056f56dc",
   "metadata": {},
   "outputs": [],
   "source": [
    "import kdrag.theories.real as real\n",
    "from kdrag.all import *\n",
    "x = kd.FreshVar(\"x\", smt.RealSort())\n",
    "f = kd.FreshVar(\"f\", real.RFun)\n",
    "df = kd.FreshVar(\"df\", smt.RealSort())\n",
    "\n",
    "x1 = kd.FreshVar(\"x1\", smt.RealSort())\n",
    "\n",
    "\n",
    "has_deriv_at = smt.Function(\"has_deriv_at\", real.RFun, real.R) #smt.ArraySort(smt.Rkd.define(\"hasderivat\", [f,df,x],  )\n",
    "\n",
    "\n",
    "\n",
    "def deriv_tac(e : smt.ExprRef):\n",
    "    real.deriv\n"
   ]
  },
  {
   "cell_type": "markdown",
   "id": "1d490f31",
   "metadata": {},
   "source": [
    "# Vec"
   ]
  },
  {
   "cell_type": "code",
   "execution_count": null,
   "id": "b29580d9",
   "metadata": {},
   "outputs": [
    {
     "name": "stdout",
     "output_type": "stream",
     "text": [
      "WARNING: Redefining function Vec from |= ForAll(i!93,\n",
      "       Vec(i!93) ==\n",
      "       (Lambda(v,\n",
      "               ForAll(i,\n",
      "                      Implies(Or(i < 0, i!93 <= i),\n",
      "                              v[i] == 0))))) to ForAll(i!94,\n",
      "       Vec(i!94) ==\n",
      "       (Lambda(v,\n",
      "               ForAll(i,\n",
      "                      Implies(Or(i < 0, i!94 <= i),\n",
      "                              v[i] == 0)))))\n"
     ]
    },
    {
     "data": {
      "text/html": [
       "&#8870;ForAll(i!94, Vec(i!94)[zero])"
      ],
      "text/plain": [
       "|= ForAll(i!94, Vec(i!94)[zero])"
      ]
     },
     "execution_count": 17,
     "metadata": {},
     "output_type": "execute_result"
    }
   ],
   "source": [
    "#def Matrix(*dims):\n",
    "#    smt.Lambda([A], kd.ForAll(xs, zip(),  )\n",
    "\n",
    "def Vec0(n):\n",
    "    v = smt.Array(\"v\", smt.IntSort(), smt.RealSort())\n",
    "    i = smt.Const(\"i\", smt.IntSort())\n",
    "    return smt.Lambda([v], kd.QForAll([i], smt.Or(i < 0, n <= i), v[i] == 0))\n",
    "i = kd.FreshVar(\"i\", smt.IntSort())\n",
    "Vec = kd.define(\"Vec\", [i],  Vec0(i))\n",
    "zero = kd.define(\"zero\", [], smt.K(smt.IntSort(), smt.RealVal(0)))\n",
    "kd.prove(Vec(i)[zero], unfold=1).forall([i])\n",
    "\n",
    "# have zero take in it's size for fun.\n",
    "#zero = tele.pdefine(\"zero\", [n], Vec(n), zero, unfold=1)\n",
    "\n",
    "# The rank polymorphic version would be  ArraySort(SeqSort(Int), Real)\n",
    "# Vec(n) == forall i < n. v[i] == 0\n",
    "\n",
    "# maybe subsort inference should take in sorts of underlying + vars. an implicit telescope of sorts.\n",
    "# forall a1 S1 a2 S2 ... \n",
    "# default set is just the collected one.\n",
    "\n"
   ]
  },
  {
   "cell_type": "markdown",
   "id": "ec0a21fb",
   "metadata": {},
   "source": [
    "# Filter"
   ]
  },
  {
   "cell_type": "code",
   "execution_count": null,
   "id": "01f57a96",
   "metadata": {},
   "outputs": [],
   "source": [
    "# https://leanprover-community.github.io/mathlib4_docs/Mathlib/Order/Filter/Defs.html#Filter\n",
    "class Filter(Protocol):\n",
    "    \"\"\"\n",
    "    \n",
    "    \"\"\"\n",
    "    sets : smt.ExprRef\n",
    "    univ_in : kd.Proof\n",
    "    sets_of_superset : kd.Proof\n",
    "    inter_sets : kd.Proof"
   ]
  },
  {
   "cell_type": "code",
   "execution_count": null,
   "id": "7e0e99fb",
   "metadata": {},
   "outputs": [],
   "source": [
    "class Filter(Protocol):\n",
    "    T : smt.SortRef\n",
    "    F : smt.QuantifierRef\n",
    "    full : kd.Proof\n",
    "    inter : kd.Proof\n",
    "    mono : kd.Proof\n",
    "\n",
    "def eventually(filter: Filter, A: smt.ExprRef) -> smt.BoolRef:\n",
    "    return filter.F(A)\n",
    "\n",
    "def finer(F1 : Filter, F2: Filter) -> smt.BoolRef:\n",
    "    P = smt.FreshConst(set_.Set(F1.T), prefix=\"P\")\n",
    "    return smt.ForAll([P], smt.Implies(eventually(F1, P), eventually(F2, P)))\n",
    "\n"
   ]
  },
  {
   "cell_type": "markdown",
   "id": "1793b674",
   "metadata": {},
   "source": [
    "class Filter(Protocol):\n",
    "    T : smt.SortRef\n",
    "    F : smt.QuantifierRef"
   ]
  },
  {
   "cell_type": "markdown",
   "id": "8ca66c17",
   "metadata": {},
   "source": [
    "https://citeseerx.ist.psu.edu/document?repid=rep1&type=pdf&doi=ec19ee2c11191a94a5a6c78974b66476aa15f14e\n",
    "https://scholar.google.com/citations?user=HKLonc0AAAAJ&hl=en holzl\n",
    "\n",
    "Immler  https://link.springer.com/content/pdf/10.1007/s10817-017-9448-y.pdf A Verified ODE Solver and the Lorenz Attractor\n",
    "\n",
    "https://www.youtube.com/watch?v=KUJUalCyoZI Alex Kontorovich: Second Analysis Lecture \"Filter\" (June 17, 2025)\n",
    " \n",
    "Analysis \n",
    "https://github.com/teorth/analysis\n",
    "\n",
    "forall\n",
    "exists modelled in hol are (a -> bool) -> bool\n",
    "\n",
    "if filter ias generalized forall\n",
    "\n",
    "https://en.wikipedia.org/wiki/Filter_quantifier\n",
    "https://en.wikipedia.org/wiki/Generalized_quantifier\n",
    "\n",
    "bounded forall is filter\n",
    "\n",
    "hyperreals as equivalence classes of sequences\n",
    "\n",
    "Something kind of modal about this? It's kind of a box?\n",
    "\n",
    "filters show up in forcing.\n",
    "\n",
    "\n",
    "\n",
    "\n",
    "that is also sig of family\n",
    "\n",
    "choice (a -> bool) -> a\n"
   ]
  },
  {
   "cell_type": "code",
   "execution_count": null,
   "id": "b7117c83",
   "metadata": {},
   "outputs": [],
   "source": [
    "# vectors as cut out of lambda space rather that Seq.\n",
    "def Vec(n):\n",
    "    return smt.Lambda([v], kd.QForAll([m], m < 0, m < n, v[m] == 0))"
   ]
  },
  {
   "cell_type": "markdown",
   "id": "8550ad1c",
   "metadata": {},
   "source": [
    "# derivative tactic\n",
    "\n",
    "\n"
   ]
  }
 ],
 "metadata": {
  "kernelspec": {
   "display_name": "philzook58.github.io",
   "language": "python",
   "name": "python3"
  },
  "language_info": {
   "codemirror_mode": {
    "name": "ipython",
    "version": 3
   },
   "file_extension": ".py",
   "mimetype": "text/x-python",
   "name": "python",
   "nbconvert_exporter": "python",
   "pygments_lexer": "ipython3",
   "version": "3.12.3"
  }
 },
 "nbformat": 4,
 "nbformat_minor": 5
}
