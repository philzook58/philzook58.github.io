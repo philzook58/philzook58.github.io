{
 "cells": [
  {
   "cell_type": "markdown",
   "id": "3b5149bb",
   "metadata": {},
   "source": [
    "\n",
    "\n",
    "MLIR\n",
    "\n",
    "Refinement type system\n",
    "\n",
    "`SeqSort(Int) -> Real` But with refinement types.\n",
    "\n",
    "python sexp frontend into xdsl?\n",
    "\n",
    "https://arxiv.org/abs/1912.13451  Introduction to Rank-polymorphic Programming in Remora (Draft)"
   ]
  }
 ],
 "metadata": {
  "language_info": {
   "name": "python"
  }
 },
 "nbformat": 4,
 "nbformat_minor": 5
}
