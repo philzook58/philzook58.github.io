{
 "cells": [
  {
   "cell_type": "markdown",
   "id": "3b5149bb",
   "metadata": {},
   "source": [
    "\n",
    "\n",
    "\n",
    "MLIR\n",
    "\n",
    "Refinement type system\n",
    "\n",
    "`SeqSort(Int) -> Real` But with refinement types.\n",
    "Reshaping scheduling operations as transformations on this.\n",
    "\n",
    "\n",
    "python sexp frontend into xdsl?\n",
    "\n",
    "https://arxiv.org/abs/1912.13451  Introduction to Rank-polymorphic Programming in Remora (Draft)\n",
    "\n",
    "https://github.com/remora-lang/interpreter\n",
    "\n",
    "\n",
    "Dialegg - where are dialegg's rules?\n",
    "eqsat\n",
    "\n",
    "\n",
    "\n",
    "\"scheduling\"\n",
    "Large and small scale\n",
    "\n",
    "\n",
    "smtlib macros\n",
    "\n",
    "(a -> b) -> c\n",
    "(int -> int) -> Real  (a sequuence of integer. Tail of sequence is ignored?)\n",
    "\n",
    "melior \n",
    "jlm rvsdg dialect. What makes rvsdg different from mlir itself?\n",
    "\n",
    "\n",
    "gradual typing\n"
   ]
  },
  {
   "cell_type": "markdown",
   "id": "b3755275",
   "metadata": {},
   "source": [
    "# F2\n",
    "https://arxiv.org/pdf/2505.23819 Linear Layouts: Robust Code Generation of Efficient Tensor Computation Using F2\n",
    "https://link.springer.com/article/10.1007/s11786-025-00602-8"
   ]
  },
  {
   "cell_type": "markdown",
   "id": "81745f99",
   "metadata": {},
   "source": [
    "# remora\n",
    "\n",
    "is (array [] 17) the same as (array [1] 17)\n"
   ]
  },
  {
   "cell_type": "markdown",
   "id": "21dd3994",
   "metadata": {},
   "source": [
    "# interpreter"
   ]
  },
  {
   "cell_type": "code",
   "execution_count": null,
   "id": "5002ab0d",
   "metadata": {},
   "outputs": [],
   "source": [
    "import re\n",
    "tokens = [\n",
    "    (\"WS\", r\"\\s+\"), \n",
    "    (\"COMMENT\", r\"%[^\\n\\r]*\"),\n",
    "    (\"LPAREN\", r\"\\(\"),\n",
    "    (\"RPAREN\", r\"\\)\"),\n",
    "    (\"COMMA\", r\",\"),\n",
    "    (\"PERIOD\", r\"\\.\"),\n",
    "    (\"IMPLY\", r\":-\"),\n",
    "    (\"IDENT\", r\"[A-Za-z\\-!=\\+\\*\\_<>][A-Za-z0-9\\-!=\\+\\*\\_<>]*\"),\n",
    "    (\"NUMBER\", r\"-?\\d+(?:\\.\\d+)?\")\n",
    "    #(\"QUOTE\", r\"\\|\")\n",
    "]\n",
    "\n",
    "regex = \"|\".join(f\"(?P<{name}>{regex})\" for name,regex in tokens)\n",
    "pattern = re.compile(regex)\n",
    "def parse(s : str):\n",
    "    it = pattern.finditer(s)\n",
    "    def args():\n",
    "        items = []\n",
    "        for match_ in it:\n",
    "            match match_.lastgroup:\n",
    "                case \"WS\" | \"COMMENT\":\n",
    "                    continue\n",
    "                case \"IDENT\" | \"NUMBER\":\n",
    "                    items.append([match_.group()] + expr())\n",
    "                case \"COMMA\":\n",
    "                    continue\n",
    "                case \"RPAREN\":\n",
    "                    return items\n",
    "                case _:\n",
    "                    raise ValueError(f\"unexpected token {match_.group()}\")\n",
    "        raise ValueError(\"unbalanced paren\")\n",
    "    def expr():\n",
    "        for match_ = next(it):\n",
    "            match match_.lastgroup:\n",
    "                case \"WS\" | \"COMMENT\":\n",
    "                    continue\n",
    "                case \"IDENT\":\n",
    "                    ident = match_.group()\n",
    "                    match_ = next(it)\n",
    "                    if match_.lastgroup == \"LPAREN\":\n",
    "                        return (ident, args())\n",
    "        raise ValueError(\"unbalanced paren\")\n",
    "    # match sexp*\n",
    "    out = []\n",
    "    for match_ in it:\n",
    "        match match_.lastgroup:\n",
    "            case \"WS\" | \"COMMENT\":\n",
    "                continue\n",
    "            case _:\n",
    "                out.append(expr())\n",
    "    return out"
   ]
  },
  {
   "cell_type": "code",
   "execution_count": 38,
   "id": "738d5f90",
   "metadata": {},
   "outputs": [
    {
     "name": "stdout",
     "output_type": "stream",
     "text": [
      "x 0\n",
      "y 1\n",
      "y 2\n",
      "y 3\n",
      "y 4\n"
     ]
    }
   ],
   "source": [
    "\n",
    "p = iter(range(5))\n",
    "for x in p:\n",
    "    print(\"x\", x)\n",
    "    for y in p:\n",
    "        print(\"y\", y)"
   ]
  },
  {
   "cell_type": "markdown",
   "id": "61e28a97",
   "metadata": {},
   "source": [
    "https://norvig.com/lispy.html\n",
    "https://github.com/dhilst/lis.py\n",
    "https://github.com/pavpanchekha/pylisp\n",
    "Make a numpy interpreter\n",
    "jax / pytorch\n",
    "compile to xdsl\n",
    "compile to llvm\n",
    "compile to smt"
   ]
  },
  {
   "cell_type": "code",
   "execution_count": 8,
   "id": "b993a545",
   "metadata": {},
   "outputs": [
    {
     "name": "stdout",
     "output_type": "stream",
     "text": [
      "60\n",
      "17\n",
      "None\n",
      "None\n",
      "11\n",
      "[1, 2, 3, 4]\n",
      "[2, 3, 4]\n",
      "1\n",
      "[2, 4, 6, 8, 10, 12, 14, 16, 18, 20]\n",
      "3\n",
      "[[ 1  2  3  4  5]\n",
      " [ 6  7  8  9 10]]\n",
      "17\n",
      "55\n",
      "None\n",
      "[]\n"
     ]
    },
    {
     "data": {
      "text/plain": [
       "{'+': <function __main__.stmts.<locals>.<lambda>(*args)>,\n",
       " 'print': <function print(*args, sep=' ', end='\\n', file=None, flush=False)>,\n",
       " 'assert': <function __main__.stmts.<locals>.myassert(x)>,\n",
       " 'nil': [],\n",
       " 'true': True,\n",
       " 'false': False,\n",
       " '-': <function _operator.sub(a, b, /)>,\n",
       " '*': <function __main__.stmts.<locals>.<lambda>(*args)>,\n",
       " '=': <function _operator.eq(a, b, /)>,\n",
       " '<': <function _operator.lt(a, b, /)>,\n",
       " '>': <function _operator.gt(a, b, /)>,\n",
       " '<=': <function _operator.le(a, b, /)>,\n",
       " '>=': <function _operator.ge(a, b, /)>,\n",
       " '/': <function _operator.truediv(a, b, /)>,\n",
       " 'car': <function __main__.stmts.<locals>.<lambda>(x)>,\n",
       " 'cdr': <function __main__.stmts.<locals>.<lambda>(x)>,\n",
       " 'cons': <function __main__.stmts.<locals>.<lambda>(x, xs)>,\n",
       " 'list': <function __main__.stmts.<locals>.<lambda>(*args)>,\n",
       " 'map': <function __main__.stmts.<locals>.<lambda>(f, lst)>,\n",
       " 'array': <function __main__.stmts.<locals>.<lambda>(shape, *vals)>,\n",
       " 'reduce': <function __main__.stmts.<locals>.<lambda>(f, arr)>,\n",
       " 'np': <module 'numpy' from '/home/philip/philzook58.github.io/.venv/lib/python3.12/site-packages/numpy/__init__.py'>,\n",
       " '__macros': {'when': <function __main__.expr.<locals>.<lambda>(*argvals)>},\n",
       " 'x': 10,\n",
       " 'y': 20}"
      ]
     },
     "execution_count": 8,
     "metadata": {},
     "output_type": "execute_result"
    }
   ],
   "source": [
    "from kdrag.parsers.sexp import parse\n",
    "import operator\n",
    "import functools\n",
    "import numpy as np\n",
    "parse(\"(+ 1 2 3 4)\")\n",
    "\n",
    "def expr(env, sexp):\n",
    "    match sexp:\n",
    "        case int() | float():\n",
    "            return sexp\n",
    "        case str():\n",
    "            return env[sexp]\n",
    "        case [\"if\", cond, then, otherwise]:\n",
    "            return expr(env, then) if expr(env, cond) else expr(env, otherwise)\n",
    "        case [\"set!\", name, value]:\n",
    "            env[name] = expr(env, value)\n",
    "        case [\"lambda\", [*args], body]:\n",
    "            return lambda *argvals: expr({**env, **dict(zip(args, argvals))}, body)\n",
    "        case [\"quote\", body]:\n",
    "            return body\n",
    "        case [\"define-macro\", name, [*args], body]:\n",
    "            env[\"__macros\"][name] = lambda *argvals: expr({**env, **dict(zip(args, argvals))}, body)\n",
    "        case [\"eval\", body]:\n",
    "            return expr(env, expr(env, body))\n",
    "        case [\".\", obj, attr]:\n",
    "            return getattr(expr(env, obj), attr) # attr is intrinsically quoted?\n",
    "        case [\"array\", shape, *vals]:\n",
    "            return np.array(vals).reshape(shape)\n",
    "        case [\"frame\", shape, *vals]:\n",
    "            raise NotImplementedError()\n",
    "        case [op, *args]:\n",
    "            if isinstance(op, str) and op in env[\"__macros\"]:\n",
    "                return expr(env, env[\"__macros\"][op](*args))\n",
    "            else:\n",
    "                return expr(env, op)(*(expr(env, arg) for arg in args))\n",
    "\n",
    "def stmt(env, sexp):\n",
    "    match sexp:\n",
    "        case [\"define\", name, value]:\n",
    "            env[name] = expr(env, value)\n",
    "        case _:\n",
    "            print(expr(env, sexp))\n",
    "\n",
    "def stmts(sexps):\n",
    "    def myassert(x):\n",
    "        assert x\n",
    "    env = {\"+\": lambda *args: functools.reduce(operator.add, args),\n",
    "           \"print\": print,\n",
    "           \"assert\": myassert,\n",
    "           \"nil\" : [],\n",
    "           \"true\": True,\n",
    "           \"false\": False,\n",
    "           \"-\": operator.sub,\n",
    "           \"*\": lambda *args: functools.reduce(operator.mul, args),\n",
    "           \"=\": operator.eq,\n",
    "           \"<\": operator.lt,\n",
    "           \">\": operator.gt,\n",
    "           \"<=\": operator.le,\n",
    "           \">=\": operator.ge,\n",
    "           \"/\": operator.truediv,\n",
    "           \"car\": lambda x: x[0],\n",
    "           \"cdr\": lambda x: x[1:],\n",
    "           \"cons\": lambda x, xs: [x] + xs,\n",
    "           \"list\": lambda *args: list(args),\n",
    "           \"map\": lambda f, lst: list(map(f, lst)),\n",
    "           \"array\": lambda shape, *vals: np.array(vals).reshape(shape),\n",
    "           \"reduce\": lambda f, arr: f.reduce(arr),\n",
    "           \"np\": np,\n",
    "           \"__macros\" : {}\n",
    "           }\n",
    "    for sexp in sexps:\n",
    "        stmt(env, sexp)\n",
    "    return env\n",
    "\n",
    "stmts(parse(\"\"\"\n",
    "(define x 10)\n",
    "(define y 20)\n",
    "(+ x y 30)\n",
    "(print 17)\n",
    "(assert true)\n",
    ";(assert false)\n",
    "((lambda (x) (+ x 1)) 10)\n",
    "(+ (quote (1 2)) (quote (3 4)))\n",
    "(cdr (quote (1 2 3 4)))\n",
    "(car (quote (1 2 3 4)))\n",
    "(map (lambda (x) (* x 2)) (quote (1 2 3 4 5 6 7 8 9 10)))\n",
    "(eval (quote (+ 1 2)))\n",
    "(array (2 5) 1 2 3 4 5 6 7 8 9 10)\n",
    "(array () 17)\n",
    "((. np sum) (array (2 5) 1 2 3 4 5 6 7 8 9 10))\n",
    "(define-macro when (cond body) (list (quote if) cond body (quote nil)))\n",
    "(when false (print (quote it_worked)))\n",
    "\n",
    "\"\"\"))\n"
   ]
  },
  {
   "cell_type": "code",
   "execution_count": 2,
   "id": "c61e177a",
   "metadata": {},
   "outputs": [
    {
     "data": {
      "text/plain": [
       "[['define', 'x', 10],\n",
       " ['define', 'y', 20],\n",
       " ['+', 'x', 'y', 30],\n",
       " ['print', 17],\n",
       " ['assert', 'true'],\n",
       " [['lambda', ['x'], ['+', 'x', 1]], 10],\n",
       " ['+', ['quote', [1, 2]], ['quote', [3, 4]]],\n",
       " ['cdr', ['quote', [1, 2, 3, 4]]],\n",
       " ['car', ['quote', [1, 2, 3, 4]]],\n",
       " ['map',\n",
       "  ['lambda', ['x'], ['*', 'x', 2]],\n",
       "  ['quote', [1, 2, 3, 4, 5, 6, 7, 8, 9, 10]]],\n",
       " ['eval', ['quote', ['+', 1, 2]]],\n",
       " ['array', [2, 5], 1, 2, 3, 4, 5, 6, 7, 8, 9, 10],\n",
       " ['array', [], 17],\n",
       " [['np', 'sum'], ['array', [2, 5], 1, 2, 3, 4, 5, 6, 7, 8, 9, 10]]]"
      ]
     },
     "execution_count": 2,
     "metadata": {},
     "output_type": "execute_result"
    }
   ],
   "source": [
    "parse(\"\"\"\n",
    "(define x 10)\n",
    "(define y 20)\n",
    "(+ x y 30)\n",
    "(print 17)\n",
    "(assert true)\n",
    ";(assert false)\n",
    "((lambda (x) (+ x 1)) 10)\n",
    "(+ (quote (1 2)) (quote (3 4)))\n",
    "(cdr (quote (1 2 3 4)))\n",
    "(car (quote (1 2 3 4)))\n",
    "(map (lambda (x) (* x 2)) (quote (1 2 3 4 5 6 7 8 9 10)))\n",
    "(eval (quote (+ 1 2)))\n",
    "(array (2 5) 1 2 3 4 5 6 7 8 9 10)\n",
    "(array () 17)\n",
    "((. np sum) (array (2 5) 1 2 3 4 5 6 7 8 9 10))\n",
    "\n",
    "\"\"\")"
   ]
  },
  {
   "cell_type": "code",
   "execution_count": 273,
   "id": "b596b816",
   "metadata": {},
   "outputs": [
    {
     "data": {
      "text/plain": [
       "<function sum at 0x760ee021d030>"
      ]
     },
     "execution_count": 273,
     "metadata": {},
     "output_type": "execute_result"
    }
   ],
   "source": [
    "np.sum"
   ]
  },
  {
   "cell_type": "code",
   "execution_count": null,
   "id": "78e10bc6",
   "metadata": {},
   "outputs": [],
   "source": [
    "def expr(env, builder, sexp):\n",
    "    "
   ]
  },
  {
   "cell_type": "code",
   "execution_count": null,
   "id": "8f695ff0",
   "metadata": {},
   "outputs": [],
   "source": [
    "import numpy as np\n",
    "\n",
    "np.ufunc.reduce()"
   ]
  },
  {
   "cell_type": "code",
   "execution_count": null,
   "id": "936a00e7",
   "metadata": {},
   "outputs": [],
   "source": []
  },
  {
   "cell_type": "markdown",
   "id": "8523c7a6",
   "metadata": {},
   "source": [
    "typed assembly language approach to bytecode?\n",
    "Kind of an odd idea\n",
    "overloading, tracing, ast sweep, bytecode, weird frame stuff (?), \n",
    "\n",
    "full sweep\n"
   ]
  },
  {
   "cell_type": "markdown",
   "id": "b8cf8f90",
   "metadata": {},
   "source": [
    "# dep types\n",
    "My stuff\n",
    "smt dialect go into attributes.. yada yada dependent mlir?\n",
    "good blog post\n",
    "https://rschenck.com/docs/array-props.pdf  Verifying Properties of Index Arrays in a Purely-Functional Data-Parallel Language\n"
   ]
  },
  {
   "cell_type": "markdown",
   "id": "08bba147",
   "metadata": {},
   "source": [
    "# cost models\n",
    "cache modeling\n",
    "scallop neuro learning of\n",
    "\n",
    "Roughly model of pipes?\n",
    "\n",
    "https://dl.acm.org/doi/10.1145/3656452 Falcon: A Scalable Analytical Cache Model\n",
    "\n",
    "\n",
    "Unison had a model.\n",
    "\n",
    "  resource\n",
    "insn(resource, time, )\n",
    "\n",
    "Given programn, write prolog program to compute the time it would take.\n",
    "\n",
    "pipeline_state()\n",
    "cache_state(t, )\n",
    "\n"
   ]
  },
  {
   "cell_type": "markdown",
   "id": "a4846070",
   "metadata": {},
   "source": [
    "# futhark\n"
   ]
  },
  {
   "cell_type": "markdown",
   "id": "98a17bd0",
   "metadata": {},
   "source": [
    "# klr\n",
    "https://github.com/leanprover/KLR\n",
    "https://github.com/leanprover/TensorLib"
   ]
  },
  {
   "cell_type": "code",
   "execution_count": 207,
   "id": "9a02ab52",
   "metadata": {},
   "outputs": [
    {
     "name": "stdout",
     "output_type": "stream",
     "text": [
      "klr [0.0.12]\n",
      "KLR is an IR for NKI and other tensor-like languages in Lean.\n",
      "\n",
      "USAGE:\n",
      "    klr [SUBCOMMAND] [FLAGS]\n",
      "\n",
      "FLAGS:\n",
      "    -h, --help  Prints this message.\n",
      "    --version   Prints the version.\n",
      "\n",
      "SUBCOMMANDS:\n",
      "    compile     Compile a NKI kernel\n",
      "    eval-klr    Evaluate a kernel using a pure-Lean KLR interpreter. Outputs one\n",
      "                npy file for each output.\n",
      "    gather      Gather Python sources into an AST file\n",
      "    info        Display information about a KLR file\n",
      "    nki-to-klr  Compile NKI kernel to KLR\n",
      "    trace       Trace Python to KLR\n",
      "    typecheck   Run the type checker on a Python AST file\n"
     ]
    }
   ],
   "source": [
    "! klr"
   ]
  },
  {
   "cell_type": "code",
   "execution_count": 214,
   "id": "d23ae0cc",
   "metadata": {},
   "outputs": [
    {
     "data": {
      "text/plain": [
       "Kernel(entry='__main__.kernel_function', funs=[Fun(name='__main__.kernel_function', file='unknown', line=2, body=[Stmt(stmt=Stmt_ret(e=Expr(expr=Expr_binOp(op=<BinOp.Add: 9>, left=Expr(expr=Expr_var(name='a'), pos=Pos(line=2, column=9, lineEnd=2, columnEnd=10)), right=Expr(expr=Expr_var(name='b'), pos=Pos(line=2, column=13, lineEnd=2, columnEnd=14))), pos=Pos(line=2, column=9, lineEnd=2, columnEnd=14))), pos=Pos(line=2, column=2, lineEnd=2, columnEnd=14))], args=[Param(name='a', dflt=None), Param(name='b', dflt=None)])], args=[Arg(name='b', value=Expr(expr=Expr_value(value=Value_int(value=2)), pos=Pos(line=0, column=0, lineEnd=None, columnEnd=None))), Arg(name='a', value=Expr(expr=Expr_value(value=Value_int(value=1)), pos=Pos(line=0, column=0, lineEnd=None, columnEnd=None)))], globals=[])"
      ]
     },
     "execution_count": 214,
     "metadata": {},
     "output_type": "execute_result"
    }
   ],
   "source": [
    "import klr.frontend as fe\n",
    "def kernel_function(a, b):\n",
    "  return a + b\n",
    "kernel = fe.Kernel(kernel_function)\n",
    "kernel.specialize(1, 2)\n",
    "# Serialize the result\n",
    "ba = kernel.serialize(\"/tmp/kernel.klr\")\n",
    "  # get a KLR abstract snytax tree\n",
    "import klr.ast_nki\n",
    "ast = fe.deserialize(ba)\n",
    "ast"
   ]
  },
  {
   "cell_type": "code",
   "execution_count": 213,
   "id": "dd4ae7cf",
   "metadata": {},
   "outputs": [
    {
     "name": "stdout",
     "output_type": "stream",
     "text": [
      "����\u0000\u0000\f��\u0000�cKLR��\u0001��\f\u0000�x\u0018__main__.kernel_function��\n",
      "\u0000�x\u0018__main__.kernel_functiongunknown\u0002��\u0007\u0000�\u0002��\u0003\u0000��\u0004\u0005����\u0003\u0000��\u0004\u0001�aa�d\u0000�\u0002\t��\u0001�\u0002��\u0001�\n",
      "��\u0001�\u0002��\u0001�\u000e�d\u0000�\u0002\t��\u0001�\u0002��\u0001�\u000e�d\u0000�\u0002\u0002��\u0001�\u0002��\u0001�\u000e��\t\u0000�aa��\u0000��\t\u0000�ab��\u0000���\u000b\u0000�ab�\u0003\u0000��\u0004\u0000��\u0001\u0002�\u0002�d\u0000�\u0000\u0000��\u0000���\u0000��\u000b\u0000�aa�\u0003\u0000��\u0004\u0000��\u0001\u0002�\u0001�d\u0000�\u0000\u0000��\u0000���\u0000��"
     ]
    }
   ],
   "source": [
    "! cat /tmp/kernel.klr"
   ]
  },
  {
   "cell_type": "markdown",
   "id": "b34abbce",
   "metadata": {},
   "source": [
    "# llvm\n",
    "\n",
    "\n",
    "\n",
    "llvmlite vs llvmpy\n"
   ]
  },
  {
   "cell_type": "code",
   "execution_count": null,
   "id": "f83da8f3",
   "metadata": {},
   "outputs": [
    {
     "name": "stdout",
     "output_type": "stream",
     "text": [
      "; ModuleID = \"testo\"\n",
      "target triple = \"unknown-unknown-unknown\"\n",
      "target datalayout = \"\"\n",
      "\n",
      "define double @\"fpadd\"(double %\".1\", double %\".2\")\n",
      "{\n",
      "entry:\n",
      "  %\"res\" = fadd double %\".1\", %\".2\"\n",
      "  ret double %\"res\"\n",
      "}\n",
      "\n"
     ]
    }
   ],
   "source": [
    "module = ir.Module(name=\"testo\")\n",
    "# and declare a function named \"fpadd\" inside it\n",
    "func = ir.Function(module, fnty, name=\"fpadd\")\n",
    "\n",
    "# Now implement the function\n",
    "block = func.append_basic_block(name=\"entry\")\n",
    "builder = ir.IRBuilder(block)\n",
    "a, b = func.args\n",
    "result = builder.fadd(a, b, name=\"res\")\n",
    "builder.ret(result)\n",
    "\n",
    "# Print the module IR\n",
    "print(module)"
   ]
  },
  {
   "cell_type": "code",
   "execution_count": null,
   "id": "73e3e8ad",
   "metadata": {},
   "outputs": [],
   "source": [
    "from kdrag.all import *\n",
    "import llvmlite\n",
    "def of_sort(s : smt.SortRef) -> llvmlite.ir.Type:\n",
    "    if s == smt.BoolSort():\n",
    "        return llvmlite.ir.IntType(1)\n",
    "    elif isinstance(s, smt.BitVecSortRef):\n",
    "        return llvmlite.ir.IntType(s.size())\n",
    "    else:\n",
    "        raise ValueError(f\"unsupported sort {s}\")\n",
    "\n",
    "of_sort(smt.BitVecSort(32))\n",
    "\n",
    "def of_expr(e : smt.ExprRef, env, builder) -> llvmlite.ir.Value:\n",
    "    if smt.is_app(e):\n",
    "        decl = e.decl()\n",
    "        children = e.children()\n",
    "        if decl.name() == \"bvadd\":\n",
    "            lhs, rhs = (of_expr(c, env, builder) for c in children)\n",
    "            return builder.add(lhs, rhs)\n",
    "        elif smt.is_const(e):\n",
    "            if smt.is_bv(e):\n",
    "                return llvmlite.ir.Constant(of_sort(e.sort()), e.as_long())\n",
    "        else:\n",
    "            raise ValueError(f\"unsupported decl {decl}\")\n",
    "    else:\n",
    "        raise ValueError(f\"unsupported expr {e}\")\n",
    "\n",
    "def func(name, args, e : smt.ExprRef):\n",
    "    module = ir.Module(name=\"testo\")\n",
    "    fnty = ir.FunctionType(of_sort(e.sort()), [of_sort(a) for a in args])\n",
    "    func = ir.Function(module, fnty, name=name)\n",
    "\n",
    "    # Now implement the function\n",
    "    block = func.append_basic_block(name=\"entry\")\n",
    "    builder = ir.IRBuilder(block)\n",
    "    env = dict(zip(args, func.args))\n",
    "    retval = of_expr(e, env, builder)\n",
    "    builder.ret(retval)\n",
    "    return module\n",
    "\n",
    "\n",
    "\n"
   ]
  },
  {
   "cell_type": "markdown",
   "id": "d90c7070",
   "metadata": {},
   "source": [
    "# mlir\n",
    "\n",
    "https://github.com/opencompl/lean-mlir?tab=readme-ov-file\n",
    "\n",
    "\"just\" printing the string.\n",
    "\n",
    "https://gitlab.inria.fr/snoiry/mlir-list list lang tutorial\n",
    "\n",
    "https://www.reddit.com/r/Compilers/comments/1nrj7gu/mlir_tutorial/\n",
    "Repository with the code: https://github.com/rafasumi/mlir-tutorial\n",
    "Lecture notes: https://github.com/rafasumi/mlir-tutorial/blob/main/assets/MLIR_tutorial_SBLP_2025.pdf\n",
    "\n",
    "sum all array\n",
    "vector add two arrays\n",
    "blur\n",
    "transpose (?)\n"
   ]
  },
  {
   "cell_type": "code",
   "execution_count": 180,
   "id": "776afa7a",
   "metadata": {},
   "outputs": [
    {
     "name": "stdout",
     "output_type": "stream",
     "text": [
      "Writing /tmp/myadd.mlir\n"
     ]
    }
   ],
   "source": [
    "%%file /tmp/myadd.mlir\n",
    "\n",
    "module {\n",
    "    func.func @myadd(%x : i32, %y : i32) -> i32 {\n",
    "        %z = arith.addi %x, %y : i32\n",
    "        return %z : i32\n",
    "    }\n",
    "}\n"
   ]
  },
  {
   "cell_type": "code",
   "execution_count": 182,
   "id": "e273d480",
   "metadata": {},
   "outputs": [
    {
     "name": "stdout",
     "output_type": "stream",
     "text": [
      "module {\n",
      "  llvm.func @myadd(%arg0: i32, %arg1: i32) -> i32 {\n",
      "    %0 = llvm.add %arg0, %arg1 : i32\n",
      "    llvm.return %0 : i32\n",
      "  }\n",
      "}\n",
      "\n"
     ]
    }
   ],
   "source": [
    "! mlir-opt-20 /tmp/myadd.mlir -convert-to-llvm -o /tmp/add_llvm.mlir && cat /tmp/add_llvm.mlir"
   ]
  },
  {
   "cell_type": "markdown",
   "id": "cbf32390",
   "metadata": {},
   "source": [
    "Hmm. Maybe I want an interpreter to z3\n"
   ]
  },
  {
   "cell_type": "code",
   "execution_count": 258,
   "id": "f3957c7d",
   "metadata": {},
   "outputs": [
    {
     "name": "stdout",
     "output_type": "stream",
     "text": [
      "\n",
      "^0(%0 : i32):\n",
      "  %1 = arith.constant 42 : i64\n",
      "  %2 = arith.addi %0, %1 : i32\n"
     ]
    },
    {
     "name": "stderr",
     "output_type": "stream",
     "text": [
      "/tmp/ipykernel_323901/3024886619.py:10: DeprecationWarning: Please use type-specific print methods\n",
      "  Printer().print(blk)\n"
     ]
    }
   ],
   "source": [
    "from xdsl.ir import Block, Region\n",
    "from xdsl.printer import Printer\n",
    "Block()\n",
    "\n",
    "blk = Block(arg_types=[IntegerType(32)])\n",
    "blk.args\n",
    "builder = Builder(InsertPoint.at_end(blk))\n",
    "i42 = builder.insert(ConstantOp(IntegerAttr(42, IntegerType(64))))\n",
    "builder.insert(arith.AddiOp(blk.args[0], i42))\n",
    "Printer().print(blk)"
   ]
  },
  {
   "cell_type": "code",
   "execution_count": 242,
   "id": "c5de142b",
   "metadata": {},
   "outputs": [
    {
     "data": {
      "text/plain": [
       "'(declare-datatypes ((Pair 2)) ((par (X Y) ((pair (first X) (second Y))))))\\n'"
      ]
     },
     "execution_count": 242,
     "metadata": {},
     "output_type": "execute_result"
    }
   ],
   "source": [
    "import xdsl.dialects.smt as smt\n",
    "from xdsl_smt.traits.smt_printer import print_to_smtlib\n",
    "dir(smt)\n",
    "smt.BoolType()\n",
    "smt.BitVectorType(32)\n",
    "smt.FuncType([smt.BoolType()], smt.BoolType())\n",
    "#print_to_smtlib()\n",
    "const = smt.BvConstantOp(smt.BitVectorAttr(42,32))\n",
    "import io\n",
    "\n",
    "    # Create an empty StringIO object\n",
    "string_buffer = io.StringIO()\n",
    "print_to_smtlib(ModuleOp([const]), string_buffer)\n",
    "string_buffer.getvalue()\n"
   ]
  },
  {
   "cell_type": "code",
   "execution_count": 124,
   "id": "bc94be98",
   "metadata": {},
   "outputs": [
    {
     "data": {
      "text/plain": [
       "ModuleOp(_operands=(), _operand_uses=(), results=(), _successors=(), _successor_uses=(), properties={}, attributes={}, regions=(Region(num_blocks=1),))"
      ]
     },
     "execution_count": 124,
     "metadata": {},
     "output_type": "execute_result"
    }
   ],
   "source": [
    "import xdsl\n",
    "from xdsl.builder import Builder, InsertPoint\n",
    "from xdsl.dialects.arith import AddiOp\n",
    "from xdsl.dialects.builtin import ModuleOp, IntegerType, IntegerAttr\n",
    "from xdsl.dialects.arith import ConstantOp\n",
    "\n",
    "c0 = ConstantOp(IntegerAttr(0, 64))\n",
    "c0\n",
    "addi = AddiOp(c0.result, c0.result)\n",
    "ModuleOp([addi])"
   ]
  },
  {
   "cell_type": "code",
   "execution_count": 178,
   "id": "f6634055",
   "metadata": {},
   "outputs": [
    {
     "data": {
      "text/plain": [
       "xdsl.ir.core.Block"
      ]
     },
     "execution_count": 178,
     "metadata": {},
     "output_type": "execute_result"
    }
   ],
   "source": [
    "import xdsl.dialects.builtin as builtin\n",
    "dir(builtin)\n",
    "builtin.Block"
   ]
  },
  {
   "cell_type": "code",
   "execution_count": 176,
   "id": "ab1572a1",
   "metadata": {},
   "outputs": [
    {
     "data": {
      "text/plain": [
       "['AddUIExtendedOp',\n",
       " 'AddfOp',\n",
       " 'AddiOp',\n",
       " 'AndIOp',\n",
       " 'AnyAttr',\n",
       " 'AnyFloat',\n",
       " 'AnyFloatConstr',\n",
       " 'AnyOf',\n",
       " 'Arith',\n",
       " 'Attribute',\n",
       " 'BitEnumAttribute',\n",
       " 'BitcastOp',\n",
       " 'CMPF_COMPARISON_OPERATIONS',\n",
       " 'CMPI_COMPARISON_OPERATIONS',\n",
       " 'CeilDivSIOp',\n",
       " 'CeilDivUIOp',\n",
       " 'ClassVar',\n",
       " 'CmpfOp',\n",
       " 'CmpiHasCanonicalizationPatterns',\n",
       " 'CmpiOp',\n",
       " 'Commutative',\n",
       " 'ComparisonOperation',\n",
       " 'ConditionallySpeculatable',\n",
       " 'ConstantLike',\n",
       " 'ConstantOp',\n",
       " 'ContainerOf',\n",
       " 'DenseIntOrFPElementsAttr',\n",
       " 'DenseResourceAttr',\n",
       " 'Dialect',\n",
       " 'DivSIOp',\n",
       " 'DivUIOp',\n",
       " 'DivUISpeculatable',\n",
       " 'DivfOp',\n",
       " 'ExtFOp',\n",
       " 'ExtSIOp',\n",
       " 'ExtUIOp',\n",
       " 'FPToSIOp',\n",
       " 'FPToUIOp',\n",
       " 'FastMathAttrBase',\n",
       " 'FastMathFlag',\n",
       " 'FastMathFlagsAttr',\n",
       " 'FixedBitwidthType',\n",
       " 'Float16Type',\n",
       " 'Float32Type',\n",
       " 'Float64Type',\n",
       " 'FloatAttr',\n",
       " 'FloatingPointLikeBinaryOpHasCanonicalizationPatternsTrait',\n",
       " 'FloatingPointLikeBinaryOpHasFastReassociativeCanonicalizationPatternsTrait',\n",
       " 'FloatingPointLikeBinaryOperation',\n",
       " 'FloatingPointToIntegerBaseOp',\n",
       " 'FloorDivSIOp',\n",
       " 'HasCanonicalizationPatternsTrait',\n",
       " 'IRDLOperation',\n",
       " 'IndexCastOp',\n",
       " 'IndexType',\n",
       " 'IndexTypeConstr',\n",
       " 'IntAttr',\n",
       " 'IntegerAttr',\n",
       " 'IntegerOverflowAttr',\n",
       " 'IntegerOverflowFlag',\n",
       " 'IntegerToFloatingPointBaseOp',\n",
       " 'IntegerType',\n",
       " 'Literal',\n",
       " 'Mapping',\n",
       " 'MaxSIOp',\n",
       " 'MaxUIOp',\n",
       " 'MaximumfOp',\n",
       " 'MaxnumfOp',\n",
       " 'MemRefType',\n",
       " 'MinSIOp',\n",
       " 'MinUIOp',\n",
       " 'MinimumfOp',\n",
       " 'MinnumfOp',\n",
       " 'MulExtendedBase',\n",
       " 'MulSIExtendedOp',\n",
       " 'MulUIExtendedOp',\n",
       " 'MulfOp',\n",
       " 'MuliOp',\n",
       " 'NegfOp',\n",
       " 'NoMemoryEffect',\n",
       " 'Operation',\n",
       " 'OrIOp',\n",
       " 'ParamAttrConstraint',\n",
       " 'Parser',\n",
       " 'Printer',\n",
       " 'Pure',\n",
       " 'RemSIOp',\n",
       " 'RemUIOp',\n",
       " 'RewritePattern',\n",
       " 'SIToFPOp',\n",
       " 'SSAValue',\n",
       " 'SelectHasCanonicalizationPatterns',\n",
       " 'SelectOp',\n",
       " 'Sequence',\n",
       " 'ShLIOp',\n",
       " 'ShRSIOp',\n",
       " 'ShRUIOp',\n",
       " 'SignlessIntegerBinaryOperation',\n",
       " 'SignlessIntegerBinaryOperationHasCanonicalizationPatternsTrait',\n",
       " 'SignlessIntegerBinaryOperationWithOverflow',\n",
       " 'SignlessIntegerConstraint',\n",
       " 'StrEnum',\n",
       " 'SubfOp',\n",
       " 'SubiOp',\n",
       " 'TensorType',\n",
       " 'TruncFOp',\n",
       " 'TruncIOp',\n",
       " 'UIToFPOp',\n",
       " 'UnrankedTensorType',\n",
       " 'VarConstraint',\n",
       " 'VectorType',\n",
       " 'VerifyException',\n",
       " 'XOrIOp',\n",
       " '__builtins__',\n",
       " '__cached__',\n",
       " '__doc__',\n",
       " '__file__',\n",
       " '__loader__',\n",
       " '__name__',\n",
       " '__package__',\n",
       " '__spec__',\n",
       " 'abc',\n",
       " 'annotations',\n",
       " 'base',\n",
       " 'boolLike',\n",
       " 'cast',\n",
       " 'floatingPointLike',\n",
       " 'get_element_type_or_self',\n",
       " 'have_compatible_shape',\n",
       " 'irdl_attr_definition',\n",
       " 'irdl_op_definition',\n",
       " 'operand_def',\n",
       " 'prop_def',\n",
       " 'result_def',\n",
       " 'signlessIntegerLike',\n",
       " 'traits_def']"
      ]
     },
     "execution_count": 176,
     "metadata": {},
     "output_type": "execute_result"
    }
   ],
   "source": [
    "dir(arith)"
   ]
  },
  {
   "cell_type": "code",
   "execution_count": null,
   "id": "2f1b3b2d",
   "metadata": {},
   "outputs": [
    {
     "name": "stdout",
     "output_type": "stream",
     "text": [
      "['builtin.module', 'func.func', 'arith.constant', 'arith.constant', 'scf.for', 'arith.muli', 'arith.addi', 'scf.yield', 'func.return']\n"
     ]
    }
   ],
   "source": [
    "from xdsl.context import Context\n",
    "from xdsl.parser import Parser\n",
    "from xdsl.ir import OpResult\n",
    "from xdsl.dialects import builtin, func, arith, scf\n",
    "ctx = Context()\n",
    "ctx.load_dialect(builtin.Builtin)\n",
    "ctx.load_dialect(func.Func)\n",
    "ctx.load_dialect(scf.Scf)\n",
    "ctx.load_dialect(arith.Arith)\n",
    "\n",
    "module_text = \"\"\"\n",
    "builtin.module {\n",
    "  func.func @sum_of_squares(%n : index) -> index {\n",
    "    %zero = arith.constant 0 : index\n",
    "    %one = arith.constant 1 : index\n",
    "    %res = scf.for %i = %zero to %n step %one iter_args(%acc_in = %zero) -> (index) {\n",
    "      %square = arith.muli %i, %i : index\n",
    "      %acc_out = arith.addi %acc_in, %square : index\n",
    "      scf.yield %acc_out : index\n",
    "    }\n",
    "    func.return %res : index\n",
    "  }\n",
    "}\n",
    "\"\"\"\n",
    "\n",
    "module = Parser(ctx, module_text).parse_module()\n",
    "module\n",
    "print([op.name for op in module.walk()])\n",
    "\n",
    "# PassPipeline"
   ]
  },
  {
   "cell_type": "code",
   "execution_count": 269,
   "id": "5a769097",
   "metadata": {},
   "outputs": [
    {
     "name": "stdout",
     "output_type": "stream",
     "text": [
      "builtin.module {\n",
      "  func.func @is_positive(%x : i32) -> i32 {\n",
      "    %c0 = arith.constant 0 : i32\n",
      "    %cond = arith.cmpi sgt, %x, %c0 : i32\n",
      "    %res = scf.if %cond -> (i32) {\n",
      "      %c1 = arith.constant 1 : i32\n",
      "      scf.yield %c1 : i32\n",
      "    } else {\n",
      "      scf.yield %c0 : i32\n",
      "    }\n",
      "    func.return %res : i32\n",
      "  }\n",
      "}\n",
      "builtin.module {\n",
      "  func.func @is_positive(%x : i32) -> i32 {\n",
      "    %c0 = arith.constant 0 : i32\n",
      "    %cond = arith.cmpi sgt, %x, %c0 : i32\n",
      "    cf.cond_br %cond, ^0, ^1\n",
      "  ^0:\n",
      "    %c1 = arith.constant 1 : i32\n",
      "    cf.br ^2(%c1 : i32)\n",
      "  ^1:\n",
      "    cf.br ^2(%c0 : i32)\n",
      "  ^2(%res : i32):\n",
      "    cf.br ^3\n",
      "  ^3:\n",
      "    func.return %res : i32\n",
      "  }\n",
      "}\n"
     ]
    }
   ],
   "source": [
    "modtext = r\"\"\"\n",
    "module {\n",
    "  func.func @is_positive(%x: i32) -> i32 {\n",
    "    %c0 = arith.constant 0 : i32\n",
    "    %cond = arith.cmpi sgt, %x, %c0 : i32\n",
    "    %res = scf.if %cond -> (i32) {\n",
    "      %c1 = arith.constant 1 : i32\n",
    "      scf.yield %c1 : i32\n",
    "    } else {\n",
    "      scf.yield %c0 : i32\n",
    "    }\n",
    "    return %res : i32\n",
    "  }\n",
    "}\n",
    "\"\"\"\n",
    "\n",
    "module = Parser(ctx, modtext).parse_module()\n",
    "print(module)\n",
    "module.verify()\n",
    "import xdsl.transforms.convert_scf_to_cf as scf2cf\n",
    "\n",
    "scf2cf.ConvertScfToCf().apply(ctx, module)\n",
    "module.verify()\n",
    "print(module)"
   ]
  },
  {
   "cell_type": "code",
   "execution_count": 237,
   "id": "1e8dc0b7",
   "metadata": {},
   "outputs": [
    {
     "ename": "VerifyException",
     "evalue": "Operation scf.if terminates block in single-block region but is not a terminator",
     "output_type": "error",
     "traceback": [
      "\u001b[31m---------------------------------------------------------------------------\u001b[39m",
      "\u001b[31mVerifyException\u001b[39m                           Traceback (most recent call last)",
      "\u001b[36mCell\u001b[39m\u001b[36m \u001b[39m\u001b[32mIn[237]\u001b[39m\u001b[32m, line 25\u001b[39m\n\u001b[32m     11\u001b[39m ctx.load_dialect(cf.Cf)\n\u001b[32m     12\u001b[39m mod = Parser(ctx, \u001b[33mr\u001b[39m\u001b[33m\"\"\"\u001b[39m\n\u001b[32m     13\u001b[39m \u001b[33mmodule \u001b[39m\u001b[33m{\u001b[39m\n\u001b[32m     14\u001b[39m \u001b[33m  func.func @main(\u001b[39m\u001b[38;5;132;01m%c\u001b[39;00m\u001b[33m: i1) -> i32 \u001b[39m\u001b[33m{\u001b[39m\n\u001b[32m   (...)\u001b[39m\u001b[32m     23\u001b[39m \u001b[33m}\u001b[39m\n\u001b[32m     24\u001b[39m \u001b[33m\"\"\"\u001b[39m).parse_op()\n\u001b[32m---> \u001b[39m\u001b[32m25\u001b[39m \u001b[43mmod\u001b[49m\u001b[43m.\u001b[49m\u001b[43mverify\u001b[49m\u001b[43m(\u001b[49m\u001b[43m)\u001b[49m\n\u001b[32m     26\u001b[39m \u001b[38;5;28mprint\u001b[39m(mod)\n\u001b[32m     27\u001b[39m CanonicalizePass().apply(ctx, mod)\n",
      "\u001b[36mFile \u001b[39m\u001b[32m~/philzook58.github.io/.venv/lib/python3.12/site-packages/xdsl/ir/core.py:1335\u001b[39m, in \u001b[36mOperation.verify\u001b[39m\u001b[34m(self, verify_nested_ops)\u001b[39m\n\u001b[32m   1333\u001b[39m \u001b[38;5;28;01mif\u001b[39;00m verify_nested_ops:\n\u001b[32m   1334\u001b[39m     \u001b[38;5;28;01mfor\u001b[39;00m region \u001b[38;5;129;01min\u001b[39;00m \u001b[38;5;28mself\u001b[39m.regions:\n\u001b[32m-> \u001b[39m\u001b[32m1335\u001b[39m         \u001b[43mregion\u001b[49m\u001b[43m.\u001b[49m\u001b[43mverify\u001b[49m\u001b[43m(\u001b[49m\u001b[43m)\u001b[49m\n\u001b[32m   1337\u001b[39m \u001b[38;5;66;03m# Custom verifier\u001b[39;00m\n\u001b[32m   1338\u001b[39m \u001b[38;5;28;01mtry\u001b[39;00m:\n",
      "\u001b[36mFile \u001b[39m\u001b[32m~/philzook58.github.io/.venv/lib/python3.12/site-packages/xdsl/ir/core.py:2578\u001b[39m, in \u001b[36mRegion.verify\u001b[39m\u001b[34m(self)\u001b[39m\n\u001b[32m   2576\u001b[39m \u001b[38;5;28;01mdef\u001b[39;00m\u001b[38;5;250m \u001b[39m\u001b[34mverify\u001b[39m(\u001b[38;5;28mself\u001b[39m) -> \u001b[38;5;28;01mNone\u001b[39;00m:\n\u001b[32m   2577\u001b[39m     \u001b[38;5;28;01mfor\u001b[39;00m block \u001b[38;5;129;01min\u001b[39;00m \u001b[38;5;28mself\u001b[39m.blocks:\n\u001b[32m-> \u001b[39m\u001b[32m2578\u001b[39m         \u001b[43mblock\u001b[49m\u001b[43m.\u001b[49m\u001b[43mverify\u001b[49m\u001b[43m(\u001b[49m\u001b[43m)\u001b[49m\n\u001b[32m   2579\u001b[39m         \u001b[38;5;28;01mif\u001b[39;00m block.parent != \u001b[38;5;28mself\u001b[39m:\n\u001b[32m   2580\u001b[39m             \u001b[38;5;28;01mraise\u001b[39;00m \u001b[38;5;167;01mValueError\u001b[39;00m(\n\u001b[32m   2581\u001b[39m                 \u001b[33m\"\u001b[39m\u001b[33mParent pointer of block does not refer to containing region\u001b[39m\u001b[33m\"\u001b[39m\n\u001b[32m   2582\u001b[39m             )\n",
      "\u001b[36mFile \u001b[39m\u001b[32m~/philzook58.github.io/.venv/lib/python3.12/site-packages/xdsl/ir/core.py:1993\u001b[39m, in \u001b[36mBlock.verify\u001b[39m\u001b[34m(self)\u001b[39m\n\u001b[32m   1989\u001b[39m     \u001b[38;5;28;01mif\u001b[39;00m operation.parent != \u001b[38;5;28mself\u001b[39m:\n\u001b[32m   1990\u001b[39m         \u001b[38;5;28;01mraise\u001b[39;00m \u001b[38;5;167;01mValueError\u001b[39;00m(\n\u001b[32m   1991\u001b[39m             \u001b[33m\"\u001b[39m\u001b[33mParent pointer of operation does not refer to containing region\u001b[39m\u001b[33m\"\u001b[39m\n\u001b[32m   1992\u001b[39m         )\n\u001b[32m-> \u001b[39m\u001b[32m1993\u001b[39m     \u001b[43moperation\u001b[49m\u001b[43m.\u001b[49m\u001b[43mverify\u001b[49m\u001b[43m(\u001b[49m\u001b[43m)\u001b[49m\n\u001b[32m   1995\u001b[39m \u001b[38;5;28;01mif\u001b[39;00m \u001b[38;5;28mlen\u001b[39m(\u001b[38;5;28mself\u001b[39m.ops) == \u001b[32m0\u001b[39m:\n\u001b[32m   1996\u001b[39m     \u001b[38;5;28;01mif\u001b[39;00m (region_parent := \u001b[38;5;28mself\u001b[39m.parent) \u001b[38;5;129;01mis\u001b[39;00m \u001b[38;5;129;01mnot\u001b[39;00m \u001b[38;5;28;01mNone\u001b[39;00m \u001b[38;5;129;01mand\u001b[39;00m (\n\u001b[32m   1997\u001b[39m         parent_op := region_parent.parent\n\u001b[32m   1998\u001b[39m     ) \u001b[38;5;129;01mis\u001b[39;00m \u001b[38;5;129;01mnot\u001b[39;00m \u001b[38;5;28;01mNone\u001b[39;00m:\n",
      "\u001b[36mFile \u001b[39m\u001b[32m~/philzook58.github.io/.venv/lib/python3.12/site-packages/xdsl/ir/core.py:1335\u001b[39m, in \u001b[36mOperation.verify\u001b[39m\u001b[34m(self, verify_nested_ops)\u001b[39m\n\u001b[32m   1333\u001b[39m \u001b[38;5;28;01mif\u001b[39;00m verify_nested_ops:\n\u001b[32m   1334\u001b[39m     \u001b[38;5;28;01mfor\u001b[39;00m region \u001b[38;5;129;01min\u001b[39;00m \u001b[38;5;28mself\u001b[39m.regions:\n\u001b[32m-> \u001b[39m\u001b[32m1335\u001b[39m         \u001b[43mregion\u001b[49m\u001b[43m.\u001b[49m\u001b[43mverify\u001b[49m\u001b[43m(\u001b[49m\u001b[43m)\u001b[49m\n\u001b[32m   1337\u001b[39m \u001b[38;5;66;03m# Custom verifier\u001b[39;00m\n\u001b[32m   1338\u001b[39m \u001b[38;5;28;01mtry\u001b[39;00m:\n",
      "\u001b[36mFile \u001b[39m\u001b[32m~/philzook58.github.io/.venv/lib/python3.12/site-packages/xdsl/ir/core.py:2578\u001b[39m, in \u001b[36mRegion.verify\u001b[39m\u001b[34m(self)\u001b[39m\n\u001b[32m   2576\u001b[39m \u001b[38;5;28;01mdef\u001b[39;00m\u001b[38;5;250m \u001b[39m\u001b[34mverify\u001b[39m(\u001b[38;5;28mself\u001b[39m) -> \u001b[38;5;28;01mNone\u001b[39;00m:\n\u001b[32m   2577\u001b[39m     \u001b[38;5;28;01mfor\u001b[39;00m block \u001b[38;5;129;01min\u001b[39;00m \u001b[38;5;28mself\u001b[39m.blocks:\n\u001b[32m-> \u001b[39m\u001b[32m2578\u001b[39m         \u001b[43mblock\u001b[49m\u001b[43m.\u001b[49m\u001b[43mverify\u001b[49m\u001b[43m(\u001b[49m\u001b[43m)\u001b[49m\n\u001b[32m   2579\u001b[39m         \u001b[38;5;28;01mif\u001b[39;00m block.parent != \u001b[38;5;28mself\u001b[39m:\n\u001b[32m   2580\u001b[39m             \u001b[38;5;28;01mraise\u001b[39;00m \u001b[38;5;167;01mValueError\u001b[39;00m(\n\u001b[32m   2581\u001b[39m                 \u001b[33m\"\u001b[39m\u001b[33mParent pointer of block does not refer to containing region\u001b[39m\u001b[33m\"\u001b[39m\n\u001b[32m   2582\u001b[39m             )\n",
      "\u001b[36mFile \u001b[39m\u001b[32m~/philzook58.github.io/.venv/lib/python3.12/site-packages/xdsl/ir/core.py:1993\u001b[39m, in \u001b[36mBlock.verify\u001b[39m\u001b[34m(self)\u001b[39m\n\u001b[32m   1989\u001b[39m     \u001b[38;5;28;01mif\u001b[39;00m operation.parent != \u001b[38;5;28mself\u001b[39m:\n\u001b[32m   1990\u001b[39m         \u001b[38;5;28;01mraise\u001b[39;00m \u001b[38;5;167;01mValueError\u001b[39;00m(\n\u001b[32m   1991\u001b[39m             \u001b[33m\"\u001b[39m\u001b[33mParent pointer of operation does not refer to containing region\u001b[39m\u001b[33m\"\u001b[39m\n\u001b[32m   1992\u001b[39m         )\n\u001b[32m-> \u001b[39m\u001b[32m1993\u001b[39m     \u001b[43moperation\u001b[49m\u001b[43m.\u001b[49m\u001b[43mverify\u001b[49m\u001b[43m(\u001b[49m\u001b[43m)\u001b[49m\n\u001b[32m   1995\u001b[39m \u001b[38;5;28;01mif\u001b[39;00m \u001b[38;5;28mlen\u001b[39m(\u001b[38;5;28mself\u001b[39m.ops) == \u001b[32m0\u001b[39m:\n\u001b[32m   1996\u001b[39m     \u001b[38;5;28;01mif\u001b[39;00m (region_parent := \u001b[38;5;28mself\u001b[39m.parent) \u001b[38;5;129;01mis\u001b[39;00m \u001b[38;5;129;01mnot\u001b[39;00m \u001b[38;5;28;01mNone\u001b[39;00m \u001b[38;5;129;01mand\u001b[39;00m (\n\u001b[32m   1997\u001b[39m         parent_op := region_parent.parent\n\u001b[32m   1998\u001b[39m     ) \u001b[38;5;129;01mis\u001b[39;00m \u001b[38;5;129;01mnot\u001b[39;00m \u001b[38;5;28;01mNone\u001b[39;00m:\n",
      "\u001b[36mFile \u001b[39m\u001b[32m~/philzook58.github.io/.venv/lib/python3.12/site-packages/xdsl/ir/core.py:1322\u001b[39m, in \u001b[36mOperation.verify\u001b[39m\u001b[34m(self, verify_nested_ops)\u001b[39m\n\u001b[32m   1318\u001b[39m     \u001b[38;5;28;01mif\u001b[39;00m (\n\u001b[32m   1319\u001b[39m         parent_op := parent_region.parent\n\u001b[32m   1320\u001b[39m     ) \u001b[38;5;129;01mis\u001b[39;00m \u001b[38;5;129;01mnot\u001b[39;00m \u001b[38;5;28;01mNone\u001b[39;00m \u001b[38;5;129;01mand\u001b[39;00m \u001b[38;5;129;01mnot\u001b[39;00m parent_op.has_trait(NoTerminator):\n\u001b[32m   1321\u001b[39m         \u001b[38;5;28;01mif\u001b[39;00m \u001b[38;5;129;01mnot\u001b[39;00m \u001b[38;5;28mself\u001b[39m.has_trait(IsTerminator):\n\u001b[32m-> \u001b[39m\u001b[32m1322\u001b[39m             \u001b[38;5;28;01mraise\u001b[39;00m VerifyException(\n\u001b[32m   1323\u001b[39m                 \u001b[33mf\u001b[39m\u001b[33m\"\u001b[39m\u001b[33mOperation \u001b[39m\u001b[38;5;132;01m{\u001b[39;00m\u001b[38;5;28mself\u001b[39m.name\u001b[38;5;132;01m}\u001b[39;00m\u001b[33m terminates block in \u001b[39m\u001b[33m\"\u001b[39m\n\u001b[32m   1324\u001b[39m                 \u001b[33m\"\u001b[39m\u001b[33msingle-block region but is not a terminator\u001b[39m\u001b[33m\"\u001b[39m\n\u001b[32m   1325\u001b[39m             )\n\u001b[32m   1326\u001b[39m \u001b[38;5;28;01melif\u001b[39;00m \u001b[38;5;28mlen\u001b[39m(parent_region.blocks) > \u001b[32m1\u001b[39m:\n\u001b[32m   1327\u001b[39m     \u001b[38;5;28;01mif\u001b[39;00m \u001b[38;5;129;01mnot\u001b[39;00m \u001b[38;5;28mself\u001b[39m.has_trait(IsTerminator):\n",
      "\u001b[31mVerifyException\u001b[39m: Operation scf.if terminates block in single-block region but is not a terminator"
     ]
    }
   ],
   "source": [
    "# https://github.com/xdslproject/xdsl/blob/main/docs/Toy/toy/compiler.py\n",
    "ctx = Context()\n",
    "from xdsl.dialects import builtin, func, arith, scf, cf, affine\n",
    "from xdsl.transforms.canonicalize import CanonicalizePass\n",
    "from xdsl.transforms.dead_code_elimination import DeadCodeElimination\n",
    "ctx.load_dialect(affine.Affine)\n",
    "ctx.load_dialect(arith.Arith)\n",
    "ctx.load_dialect(builtin.Builtin)\n",
    "ctx.load_dialect(func.Func)\n",
    "ctx.load_dialect(scf.Scf)\n",
    "ctx.load_dialect(cf.Cf)\n",
    "mod = Parser(ctx, r\"\"\"\n",
    "module {\n",
    "  func.func @main(%c: i1) -> i32 {\n",
    "    scf.if %c {\n",
    "      %x = arith.constant 0 : i32\n",
    "      return %x : i32\n",
    "    } else {\n",
    "      %y = arith.constant 1 : i32\n",
    "      return %y : i32\n",
    "    }\n",
    "  }\n",
    "}\n",
    "\"\"\").parse_op()\n",
    "mod.verify()\n",
    "print(mod)\n",
    "CanonicalizePass().apply(ctx, mod)\n",
    "print(mod)\n",
    "mod.verify()"
   ]
  },
  {
   "cell_type": "code",
   "execution_count": 147,
   "id": "4d6941e2",
   "metadata": {},
   "outputs": [
    {
     "data": {
      "text/plain": [
       "Block(_args=(), num_ops=0)"
      ]
     },
     "execution_count": 147,
     "metadata": {},
     "output_type": "execute_result"
    }
   ],
   "source": [
    "mod.body.block"
   ]
  },
  {
   "cell_type": "code",
   "execution_count": 153,
   "id": "19ee515f",
   "metadata": {},
   "outputs": [
    {
     "data": {
      "text/plain": [
       "ConstantOp(_operands=(), _operand_uses=(), results=(<OpResult[i64] index: 0, operation: arith.constant, uses: 0>,), _successors=(), _successor_uses=(), properties={'value': IntegerAttr(value=IntAttr(data=42), type=IntegerType(64))}, attributes={}, regions=())"
      ]
     },
     "execution_count": 153,
     "metadata": {},
     "output_type": "execute_result"
    }
   ],
   "source": [
    "mod = ModuleOp([])\n",
    "builder = Builder(InsertPoint.at_end(mod.body.block))\n",
    "builder.insert(ConstantOp(IntegerAttr(42, 64)))"
   ]
  },
  {
   "cell_type": "code",
   "execution_count": 162,
   "id": "99fb435d",
   "metadata": {},
   "outputs": [
    {
     "name": "stdout",
     "output_type": "stream",
     "text": [
      "builtin.module {\n",
      "  %0 = arith.constant 42 : i64\n",
      "}\n"
     ]
    }
   ],
   "source": [
    "print(mod)"
   ]
  },
  {
   "cell_type": "code",
   "execution_count": 163,
   "id": "db55bcaa",
   "metadata": {},
   "outputs": [
    {
     "name": "stdout",
     "output_type": "stream",
     "text": [
      "Writing /tmp/add.mlir\n"
     ]
    }
   ],
   "source": [
    "%%file /tmp/add.mlir\n",
    "module {\n",
    "  func.func @main() -> i32 {\n",
    "    %c2 = arith.constant 2 : i32\n",
    "    %c3 = arith.constant 3 : i32\n",
    "    %sum = arith.addi %c2, %c3 : i32\n",
    "    return %sum : i32\n",
    "  }\n",
    "}\n"
   ]
  },
  {
   "cell_type": "code",
   "execution_count": 175,
   "id": "5128bc26",
   "metadata": {},
   "outputs": [],
   "source": [
    "! mlir-opt-20 /tmp/add.mlir \\\n",
    "  -convert-to-llvm \\\n",
    "  -reconcile-unrealized-casts \\\n",
    "  -o /tmp/add_llvm.mlir"
   ]
  },
  {
   "cell_type": "code",
   "execution_count": 173,
   "id": "985c6b05",
   "metadata": {},
   "outputs": [
    {
     "name": "stdout",
     "output_type": "stream",
     "text": [
      "module {\n",
      "  llvm.func @main() -> i32 {\n",
      "    %0 = llvm.mlir.constant(2 : i32) : i32\n",
      "    %1 = llvm.mlir.constant(3 : i32) : i32\n",
      "    %2 = llvm.mlir.constant(5 : i32) : i32\n",
      "    llvm.return %2 : i32\n",
      "  }\n",
      "}\n",
      "\n"
     ]
    }
   ],
   "source": [
    "! cat /tmp/add_llvm.mlir"
   ]
  },
  {
   "cell_type": "code",
   "execution_count": 174,
   "id": "c5fc4ae6",
   "metadata": {},
   "outputs": [],
   "source": [
    "! mlir-translate-20 --mlir-to-llvmir /tmp/add_llvm.mlir -o /tmp/add.ll"
   ]
  },
  {
   "cell_type": "code",
   "execution_count": null,
   "id": "c6cbcc72",
   "metadata": {},
   "outputs": [],
   "source": []
  },
  {
   "cell_type": "markdown",
   "id": "4251c487",
   "metadata": {},
   "source": [
    "## linalg\n",
    "https://www.stephendiehl.com/posts/mlir_linear_algebra/\n",
    "https://mlir.llvm.org/docs/Dialects/Linalg/\n",
    "https://mlir.llvm.org/docs/Tutorials/transform/Ch0/"
   ]
  },
  {
   "cell_type": "code",
   "execution_count": null,
   "id": "09c834f4",
   "metadata": {},
   "outputs": [
    {
     "name": "stdout",
     "output_type": "stream",
     "text": [
      "Overwriting /tmp/matmul.mlir\n"
     ]
    }
   ],
   "source": [
    "%%file /tmp/matmul.mlir\n",
    "\n",
    "\n",
    "module {\n",
    "    func.func @mymatmul(%A: memref<4x4xf32>, %B: memref<4x4xf32>, %C: memref<4x4xf32>) {\n",
    "        linalg.matmul \n",
    "            ins(%A, %B : memref<4x4xf32>, memref<4x4xf32>)\n",
    "            outs(%C : memref<4x4xf32>) -> memref<4x4xf32>\n",
    "        return \n",
    "    }\n",
    "}\n"
   ]
  },
  {
   "cell_type": "code",
   "execution_count": 15,
   "id": "480b8c3e",
   "metadata": {},
   "outputs": [
    {
     "name": "stdout",
     "output_type": "stream",
     "text": [
      "Overwriting /tmp/matmul.mlir\n"
     ]
    }
   ],
   "source": [
    "%%file /tmp/matmul.mlir\n",
    "\n",
    "module {\n",
    "    func.func @matmul(\n",
    "    %A: memref<8x10xf32>,\n",
    "    %B: memref<10x16xf32>,\n",
    "    %C: memref<8x16xf32>\n",
    ") {\n",
    "    linalg.matmul ins(%A, %B : memref<8x10xf32>, memref<10x16xf32>) outs(%C : memref<8x16xf32>)\n",
    "    return\n",
    "}\n",
    "}"
   ]
  },
  {
   "cell_type": "markdown",
   "id": "539c678e",
   "metadata": {},
   "source": [
    "-convert-linalg-to-loops  -convert-linalg-to-affine"
   ]
  },
  {
   "cell_type": "code",
   "execution_count": 16,
   "id": "3e60dae2",
   "metadata": {},
   "outputs": [
    {
     "name": "stdout",
     "output_type": "stream",
     "text": [
      "module {\n",
      "  func.func @matmul(%arg0: memref<8x10xf32>, %arg1: memref<10x16xf32>, %arg2: memref<8x16xf32>) {\n",
      "    %c0 = arith.constant 0 : index\n",
      "    %c8 = arith.constant 8 : index\n",
      "    %c1 = arith.constant 1 : index\n",
      "    %c16 = arith.constant 16 : index\n",
      "    %c10 = arith.constant 10 : index\n",
      "    scf.for %arg3 = %c0 to %c8 step %c1 {\n",
      "      scf.for %arg4 = %c0 to %c16 step %c1 {\n",
      "        scf.for %arg5 = %c0 to %c10 step %c1 {\n",
      "          %0 = memref.load %arg0[%arg3, %arg5] : memref<8x10xf32>\n",
      "          %1 = memref.load %arg1[%arg5, %arg4] : memref<10x16xf32>\n",
      "          %2 = memref.load %arg2[%arg3, %arg4] : memref<8x16xf32>\n",
      "          %3 = arith.mulf %0, %1 : f32\n",
      "          %4 = arith.addf %2, %3 : f32\n",
      "          memref.store %4, %arg2[%arg3, %arg4] : memref<8x16xf32>\n",
      "        }\n",
      "      }\n",
      "    }\n",
      "    return\n",
      "  }\n",
      "}\n",
      "\n"
     ]
    }
   ],
   "source": [
    "! mlir-opt-20 /tmp/matmul.mlir -convert-linalg-to-loops -o /tmp/matmul_loops.mlir && cat /tmp/matmul_loops.mlir"
   ]
  },
  {
   "cell_type": "markdown",
   "id": "6c176b4e",
   "metadata": {},
   "source": [
    "Affine manipulations"
   ]
  },
  {
   "cell_type": "code",
   "execution_count": null,
   "id": "32110414",
   "metadata": {},
   "outputs": [],
   "source": [
    "\n",
    "from kdrag.all import *\n",
    "\n",
    "# integer set\n",
    "Loop2 = smt.ArraySort(smt.IntSort(), smt.IntSort(), smt.BoolSort())\n",
    "\n",
    "# loop swapping\n",
    "\n",
    "def Interval(start,end):\n",
    "    return smt.Lambda([i], smt.And(start <= i, i < end))\n",
    "\n",
    "smt.Lambda([i,j], Interval(0,10)(i) * Interval(0,i)[j])\n",
    "\n",
    "Family = smt.ArraySort(smt.IntSort(), smt.ArraySort(smt.IntSort(), smt.IntSort()))\n",
    "\n",
    "smt.Tuple(smt.IntSort(), smt.IntSort())\n",
    "\n",
    "\n",
    "def is_family(): ...\n",
    "def is_set(): ...\n",
    "\n",
    "def lift(s1 : Family) -> Loop2 : # uncurry\n",
    "    return smt.Lambda([i,j], s[i][j])\n",
    "\n",
    "\n",
    "\n",
    "\n"
   ]
  }
 ],
 "metadata": {
  "kernelspec": {
   "display_name": "philzook58.github.io",
   "language": "python",
   "name": "python3"
  },
  "language_info": {
   "codemirror_mode": {
    "name": "ipython",
    "version": 3
   },
   "file_extension": ".py",
   "mimetype": "text/x-python",
   "name": "python",
   "nbconvert_exporter": "python",
   "pygments_lexer": "ipython3",
   "version": "3.12.3"
  }
 },
 "nbformat": 4,
 "nbformat_minor": 5
}
