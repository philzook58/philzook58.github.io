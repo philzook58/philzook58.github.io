{
 "cells": [
  {
   "cell_type": "markdown",
   "id": "c6a356b5",
   "metadata": {},
   "source": [
    "# C#\n",
    "C sharp\n",
    "People kind of rave about C#. THey actually kind of like it.\n",
    "\n",
    "\n"
   ]
  }
 ],
 "metadata": {
  "language_info": {
   "name": "python"
  }
 },
 "nbformat": 4,
 "nbformat_minor": 5
}
