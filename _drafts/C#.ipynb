{
 "cells": [
  {
   "cell_type": "markdown",
   "id": "c6a356b5",
   "metadata": {},
   "source": [
    "# C#\n",
    "C sharp\n",
    "People kind of rave about C#. THey actually kind of like it.\n",
    "\n",
    "Don't do this? sudo snap install dotnet --classic\n",
    "Use apt get\n",
    "\n",
    ".NET what a weird fucking name\n",
    "\n",
    "linq \n",
    "blazor\n",
    "f#\n",
    "\n",
    "https://devblogs.microsoft.com/dotnet/announcing-dotnet-run-app/ dotnet sciprt on 10. `dotnet run foo.cs`\n",
    "https://cakebuild.net/ a build tool\n",
    "cs-script https://github.com/oleg-shilo/cs-script dotnet tool install --global cs-script.cli\n",
    "https://github.com/dotnet-script/dotnet-script\n",
    "dotnet tool install -g dotnet-script\n",
    "\n",
    "\n",
    "https://www.nuget.org/"
   ]
  },
  {
   "cell_type": "code",
   "execution_count": 6,
   "id": "10c39926",
   "metadata": {},
   "outputs": [
    {
     "name": "stdout",
     "output_type": "stream",
     "text": [
      "Overwriting /tmp/hello.csx\n"
     ]
    }
   ],
   "source": [
    "%%file /tmp/hello.csx\n",
    "using System;\n",
    "Console.WriteLine(\"Hello world!\");"
   ]
  },
  {
   "cell_type": "code",
   "execution_count": 1,
   "id": "1822d4a5",
   "metadata": {},
   "outputs": [
    {
     "name": "stdout",
     "output_type": "stream",
     "text": [
      "\u001b[?1h\u001b=\u001b[m\u001b[31mCould not execute because the specified command or file was not found.\n",
      "Possible reasons for this include:\n",
      "  * You misspelled a built-in dotnet command.\n",
      "  * You intended to execute a .NET program, but dotnet-script does not exist.\n",
      "  * You intended to run a global tool, but a dotnet-prefixed executable with this name could not be found on the PATH.\u001b[m\n"
     ]
    }
   ],
   "source": [
    "! dotnet script /tmp/hello.csx"
   ]
  },
  {
   "cell_type": "markdown",
   "id": "845a9906",
   "metadata": {},
   "source": [
    "# fsharp\n",
    "https://learn.microsoft.com/en-us/dotnet/fsharp/get-started/\n",
    "\n",
    "dotnet fsi\n",
    "dotnet new console --language F# -o MyFSharpApp\n",
    "\n",
    "polyglot notebooks\n",
    "https://marketplace.visualstudio.com/items?itemName=ms-dotnettools.dotnet-interactive-vscode \n",
    "https://github.com/dotnet/interactive/#net-interactive-\n",
    "\n",
    "https://diffsharp.github.io/ differentiable programming\n",
    "\n"
   ]
  },
  {
   "cell_type": "code",
   "execution_count": 3,
   "id": "fc880b4d",
   "metadata": {},
   "outputs": [
    {
     "name": "stdout",
     "output_type": "stream",
     "text": [
      "Writing /tmp/hello.fsx\n"
     ]
    }
   ],
   "source": [
    "%%file /tmp/hello.fsx\n",
    "printfn \"Hello World!\"\n"
   ]
  },
  {
   "cell_type": "code",
   "execution_count": 5,
   "id": "ce9ef0c4",
   "metadata": {},
   "outputs": [
    {
     "name": "stdout",
     "output_type": "stream",
     "text": [
      "\u001b[?1h\u001b=\u001b[?1h\u001b=\u001b[6n\u001b[?1h\u001b=^C\n"
     ]
    }
   ],
   "source": [
    "! dotnet fsi /tmp/hello.fsx"
   ]
  },
  {
   "cell_type": "code",
   "execution_count": null,
   "id": "d51e4745",
   "metadata": {},
   "outputs": [],
   "source": []
  },
  {
   "cell_type": "markdown",
   "id": "0f4b925b",
   "metadata": {},
   "source": [
    "\n",
    "# Pythonnet\n",
    "\n",
    "https://pythonnet.github.io/\n",
    "v pip install pythonnet\n",
    "\n",
    "https://ironpython.net/ uhhhh. python 3.4? Are you joking?\n",
    "\n",
    "https://www.py4j.org/\n",
    "https://jpype.readthedocs.io/en/latest/userguide.html"
   ]
  },
  {
   "cell_type": "code",
   "execution_count": 7,
   "id": "783c8c7c",
   "metadata": {},
   "outputs": [
    {
     "ename": "RuntimeError",
     "evalue": "Failed to create a default .NET runtime, which would\n                    have been \"mono\" on this system. Either install a\n                    compatible runtime or configure it explicitly via\n                    `set_runtime` or the `PYTHONNET_*` environment variables\n                    (see set_runtime_from_env).",
     "output_type": "error",
     "traceback": [
      "\u001b[31m---------------------------------------------------------------------------\u001b[39m",
      "\u001b[31mRuntimeError\u001b[39m                              Traceback (most recent call last)",
      "\u001b[36mFile \u001b[39m\u001b[32m~/philzook58.github.io/.venv/lib/python3.12/site-packages/pythonnet/__init__.py:75\u001b[39m, in \u001b[36m_create_runtime_from_spec\u001b[39m\u001b[34m(spec, params)\u001b[39m\n\u001b[32m     74\u001b[39m \u001b[38;5;28;01melif\u001b[39;00m spec == \u001b[33m\"\u001b[39m\u001b[33mmono\u001b[39m\u001b[33m\"\u001b[39m:\n\u001b[32m---> \u001b[39m\u001b[32m75\u001b[39m     \u001b[38;5;28;01mreturn\u001b[39;00m \u001b[43mclr_loader\u001b[49m\u001b[43m.\u001b[49m\u001b[43mget_mono\u001b[49m\u001b[43m(\u001b[49m\u001b[43m*\u001b[49m\u001b[43m*\u001b[49m\u001b[43mparams\u001b[49m\u001b[43m)\u001b[49m\n\u001b[32m     76\u001b[39m \u001b[38;5;28;01melif\u001b[39;00m spec == \u001b[33m\"\u001b[39m\u001b[33mcoreclr\u001b[39m\u001b[33m\"\u001b[39m:\n",
      "\u001b[36mFile \u001b[39m\u001b[32m~/philzook58.github.io/.venv/lib/python3.12/site-packages/clr_loader/__init__.py:73\u001b[39m, in \u001b[36mget_mono\u001b[39m\u001b[34m(config_file, global_config_file, libmono, sgen, debug, jit_options, assembly_dir, config_dir, set_signal_chaining)\u001b[39m\n\u001b[32m     72\u001b[39m \u001b[38;5;28;01mif\u001b[39;00m libmono \u001b[38;5;129;01mis\u001b[39;00m \u001b[38;5;28;01mNone\u001b[39;00m:\n\u001b[32m---> \u001b[39m\u001b[32m73\u001b[39m     libmono = \u001b[43mfind_libmono\u001b[49m\u001b[43m(\u001b[49m\u001b[43msgen\u001b[49m\u001b[43m=\u001b[49m\u001b[43msgen\u001b[49m\u001b[43m,\u001b[49m\u001b[43m \u001b[49m\u001b[43massembly_dir\u001b[49m\u001b[43m=\u001b[49m\u001b[43massembly_dir\u001b[49m\u001b[43m)\u001b[49m\n\u001b[32m     75\u001b[39m impl = Mono(\n\u001b[32m     76\u001b[39m     \u001b[38;5;66;03m# domain=domain,\u001b[39;00m\n\u001b[32m     77\u001b[39m     debug=debug,\n\u001b[32m   (...)\u001b[39m\u001b[32m     84\u001b[39m     set_signal_chaining=set_signal_chaining,\n\u001b[32m     85\u001b[39m )\n",
      "\u001b[36mFile \u001b[39m\u001b[32m~/philzook58.github.io/.venv/lib/python3.12/site-packages/clr_loader/util/find.py:149\u001b[39m, in \u001b[36mfind_libmono\u001b[39m\u001b[34m(assembly_dir, sgen)\u001b[39m\n\u001b[32m    148\u001b[39m \u001b[38;5;28;01mif\u001b[39;00m path \u001b[38;5;129;01mis\u001b[39;00m \u001b[38;5;28;01mNone\u001b[39;00m:\n\u001b[32m--> \u001b[39m\u001b[32m149\u001b[39m     \u001b[38;5;28;01mraise\u001b[39;00m \u001b[38;5;167;01mRuntimeError\u001b[39;00m(\u001b[33m\"\u001b[39m\u001b[33mCould not find libmono\u001b[39m\u001b[33m\"\u001b[39m)\n\u001b[32m    151\u001b[39m \u001b[38;5;28;01mreturn\u001b[39;00m Path(path)\n",
      "\u001b[31mRuntimeError\u001b[39m: Could not find libmono",
      "\nThe above exception was the direct cause of the following exception:\n",
      "\u001b[31mRuntimeError\u001b[39m                              Traceback (most recent call last)",
      "\u001b[36mCell\u001b[39m\u001b[36m \u001b[39m\u001b[32mIn[7]\u001b[39m\u001b[32m, line 1\u001b[39m\n\u001b[32m----> \u001b[39m\u001b[32m1\u001b[39m \u001b[38;5;28;01mimport\u001b[39;00m\u001b[38;5;250m \u001b[39m\u001b[34;01mclr\u001b[39;00m\n\u001b[32m      2\u001b[39m \u001b[38;5;28;01mfrom\u001b[39;00m\u001b[38;5;250m \u001b[39m\u001b[34;01mSystem\u001b[39;00m\u001b[38;5;250m \u001b[39m\u001b[38;5;28;01mimport\u001b[39;00m String\n\u001b[32m      3\u001b[39m \u001b[38;5;28;01mfrom\u001b[39;00m\u001b[38;5;250m \u001b[39m\u001b[34;01mSystem\u001b[39;00m\u001b[34;01m.\u001b[39;00m\u001b[34;01mCollections\u001b[39;00m\u001b[38;5;250m \u001b[39m\u001b[38;5;28;01mimport\u001b[39;00m *\n",
      "\u001b[36mFile \u001b[39m\u001b[32m~/philzook58.github.io/.venv/lib/python3.12/site-packages/clr.py:6\u001b[39m\n\u001b[32m      1\u001b[39m \u001b[33;03m\"\"\"\u001b[39;00m\n\u001b[32m      2\u001b[39m \u001b[33;03mLegacy Python.NET loader for backwards compatibility\u001b[39;00m\n\u001b[32m      3\u001b[39m \u001b[33;03m\"\"\"\u001b[39;00m\n\u001b[32m      5\u001b[39m \u001b[38;5;28;01mfrom\u001b[39;00m\u001b[38;5;250m \u001b[39m\u001b[34;01mpythonnet\u001b[39;00m\u001b[38;5;250m \u001b[39m\u001b[38;5;28;01mimport\u001b[39;00m load\n\u001b[32m----> \u001b[39m\u001b[32m6\u001b[39m \u001b[43mload\u001b[49m\u001b[43m(\u001b[49m\u001b[43m)\u001b[49m\n",
      "\u001b[36mFile \u001b[39m\u001b[32m~/philzook58.github.io/.venv/lib/python3.12/site-packages/pythonnet/__init__.py:133\u001b[39m, in \u001b[36mload\u001b[39m\u001b[34m(runtime, **params)\u001b[39m\n\u001b[32m    131\u001b[39m \u001b[38;5;28;01mif\u001b[39;00m _RUNTIME \u001b[38;5;129;01mis\u001b[39;00m \u001b[38;5;28;01mNone\u001b[39;00m:\n\u001b[32m    132\u001b[39m     \u001b[38;5;28;01mif\u001b[39;00m runtime \u001b[38;5;129;01mis\u001b[39;00m \u001b[38;5;28;01mNone\u001b[39;00m:\n\u001b[32m--> \u001b[39m\u001b[32m133\u001b[39m         \u001b[43mset_runtime_from_env\u001b[49m\u001b[43m(\u001b[49m\u001b[43m)\u001b[49m\n\u001b[32m    134\u001b[39m     \u001b[38;5;28;01melse\u001b[39;00m:\n\u001b[32m    135\u001b[39m         set_runtime(runtime, **params)\n",
      "\u001b[36mFile \u001b[39m\u001b[32m~/philzook58.github.io/.venv/lib/python3.12/site-packages/pythonnet/__init__.py:114\u001b[39m, in \u001b[36mset_runtime_from_env\u001b[39m\u001b[34m()\u001b[39m\n\u001b[32m    111\u001b[39m \u001b[38;5;28;01mfrom\u001b[39;00m\u001b[38;5;250m \u001b[39m\u001b[34;01mos\u001b[39;00m\u001b[38;5;250m \u001b[39m\u001b[38;5;28;01mimport\u001b[39;00m environ\n\u001b[32m    113\u001b[39m spec = environ.get(\u001b[33m\"\u001b[39m\u001b[33mPYTHONNET_RUNTIME\u001b[39m\u001b[33m\"\u001b[39m, \u001b[33m\"\u001b[39m\u001b[33mdefault\u001b[39m\u001b[33m\"\u001b[39m)\n\u001b[32m--> \u001b[39m\u001b[32m114\u001b[39m runtime = \u001b[43m_create_runtime_from_spec\u001b[49m\u001b[43m(\u001b[49m\u001b[43mspec\u001b[49m\u001b[43m)\u001b[49m\n\u001b[32m    115\u001b[39m set_runtime(runtime)\n",
      "\u001b[36mFile \u001b[39m\u001b[32m~/philzook58.github.io/.venv/lib/python3.12/site-packages/pythonnet/__init__.py:82\u001b[39m, in \u001b[36m_create_runtime_from_spec\u001b[39m\u001b[34m(spec, params)\u001b[39m\n\u001b[32m     80\u001b[39m \u001b[38;5;28;01mexcept\u001b[39;00m \u001b[38;5;167;01mException\u001b[39;00m \u001b[38;5;28;01mas\u001b[39;00m exc:\n\u001b[32m     81\u001b[39m     \u001b[38;5;28;01mif\u001b[39;00m was_default:\n\u001b[32m---> \u001b[39m\u001b[32m82\u001b[39m         \u001b[38;5;28;01mraise\u001b[39;00m \u001b[38;5;167;01mRuntimeError\u001b[39;00m(\n\u001b[32m     83\u001b[39m             \u001b[33mf\u001b[39m\u001b[33m\"\"\"\u001b[39m\u001b[33mFailed to create a default .NET runtime, which would\u001b[39m\n\u001b[32m     84\u001b[39m \u001b[33m                have been \u001b[39m\u001b[33m\"\u001b[39m\u001b[38;5;132;01m{\u001b[39;00mspec\u001b[38;5;132;01m}\u001b[39;00m\u001b[33m\"\u001b[39m\u001b[33m on this system. Either install a\u001b[39m\n\u001b[32m     85\u001b[39m \u001b[33m                compatible runtime or configure it explicitly via\u001b[39m\n\u001b[32m     86\u001b[39m \u001b[33m                `set_runtime` or the `PYTHONNET_*` environment variables\u001b[39m\n\u001b[32m     87\u001b[39m \u001b[33m                (see set_runtime_from_env).\u001b[39m\u001b[33m\"\"\"\u001b[39m\n\u001b[32m     88\u001b[39m         ) \u001b[38;5;28;01mfrom\u001b[39;00m\u001b[38;5;250m \u001b[39m\u001b[34;01mexc\u001b[39;00m\n\u001b[32m     89\u001b[39m     \u001b[38;5;28;01melse\u001b[39;00m:\n\u001b[32m     90\u001b[39m         \u001b[38;5;28;01mraise\u001b[39;00m \u001b[38;5;167;01mRuntimeError\u001b[39;00m(\n\u001b[32m     91\u001b[39m             \u001b[33mf\u001b[39m\u001b[33m\"\"\"\u001b[39m\u001b[33mFailed to create a .NET runtime (\u001b[39m\u001b[38;5;132;01m{\u001b[39;00mspec\u001b[38;5;132;01m}\u001b[39;00m\u001b[33m) using the\u001b[39m\n\u001b[32m     92\u001b[39m \u001b[33m            parameters \u001b[39m\u001b[38;5;132;01m{\u001b[39;00mparams\u001b[38;5;132;01m}\u001b[39;00m\u001b[33m.\u001b[39m\u001b[33m\"\"\"\u001b[39m\n\u001b[32m     93\u001b[39m         ) \u001b[38;5;28;01mfrom\u001b[39;00m\u001b[38;5;250m \u001b[39m\u001b[34;01mexc\u001b[39;00m\n",
      "\u001b[31mRuntimeError\u001b[39m: Failed to create a default .NET runtime, which would\n                    have been \"mono\" on this system. Either install a\n                    compatible runtime or configure it explicitly via\n                    `set_runtime` or the `PYTHONNET_*` environment variables\n                    (see set_runtime_from_env)."
     ]
    }
   ],
   "source": [
    "import clr\n",
    "from System import String\n",
    "from System.Collections import *"
   ]
  },
  {
   "cell_type": "code",
   "execution_count": null,
   "id": "e006aa5e",
   "metadata": {},
   "outputs": [
    {
     "ename": "RuntimeError",
     "evalue": "Failed to create a default .NET runtime, which would\n                    have been \"mono\" on this system. Either install a\n                    compatible runtime or configure it explicitly via\n                    `set_runtime` or the `PYTHONNET_*` environment variables\n                    (see set_runtime_from_env).",
     "output_type": "error",
     "traceback": [
      "\u001b[31m---------------------------------------------------------------------------\u001b[39m",
      "\u001b[31mRuntimeError\u001b[39m                              Traceback (most recent call last)",
      "\u001b[36mFile \u001b[39m\u001b[32m~/philzook58.github.io/.venv/lib/python3.12/site-packages/pythonnet/__init__.py:75\u001b[39m, in \u001b[36m_create_runtime_from_spec\u001b[39m\u001b[34m(spec, params)\u001b[39m\n\u001b[32m     74\u001b[39m \u001b[38;5;28;01melif\u001b[39;00m spec == \u001b[33m\"\u001b[39m\u001b[33mmono\u001b[39m\u001b[33m\"\u001b[39m:\n\u001b[32m---> \u001b[39m\u001b[32m75\u001b[39m     \u001b[38;5;28;01mreturn\u001b[39;00m \u001b[43mclr_loader\u001b[49m\u001b[43m.\u001b[49m\u001b[43mget_mono\u001b[49m\u001b[43m(\u001b[49m\u001b[43m*\u001b[49m\u001b[43m*\u001b[49m\u001b[43mparams\u001b[49m\u001b[43m)\u001b[49m\n\u001b[32m     76\u001b[39m \u001b[38;5;28;01melif\u001b[39;00m spec == \u001b[33m\"\u001b[39m\u001b[33mcoreclr\u001b[39m\u001b[33m\"\u001b[39m:\n",
      "\u001b[36mFile \u001b[39m\u001b[32m~/philzook58.github.io/.venv/lib/python3.12/site-packages/clr_loader/__init__.py:73\u001b[39m, in \u001b[36mget_mono\u001b[39m\u001b[34m(config_file, global_config_file, libmono, sgen, debug, jit_options, assembly_dir, config_dir, set_signal_chaining)\u001b[39m\n\u001b[32m     72\u001b[39m \u001b[38;5;28;01mif\u001b[39;00m libmono \u001b[38;5;129;01mis\u001b[39;00m \u001b[38;5;28;01mNone\u001b[39;00m:\n\u001b[32m---> \u001b[39m\u001b[32m73\u001b[39m     libmono = \u001b[43mfind_libmono\u001b[49m\u001b[43m(\u001b[49m\u001b[43msgen\u001b[49m\u001b[43m=\u001b[49m\u001b[43msgen\u001b[49m\u001b[43m,\u001b[49m\u001b[43m \u001b[49m\u001b[43massembly_dir\u001b[49m\u001b[43m=\u001b[49m\u001b[43massembly_dir\u001b[49m\u001b[43m)\u001b[49m\n\u001b[32m     75\u001b[39m impl = Mono(\n\u001b[32m     76\u001b[39m     \u001b[38;5;66;03m# domain=domain,\u001b[39;00m\n\u001b[32m     77\u001b[39m     debug=debug,\n\u001b[32m   (...)\u001b[39m\u001b[32m     84\u001b[39m     set_signal_chaining=set_signal_chaining,\n\u001b[32m     85\u001b[39m )\n",
      "\u001b[36mFile \u001b[39m\u001b[32m~/philzook58.github.io/.venv/lib/python3.12/site-packages/clr_loader/util/find.py:149\u001b[39m, in \u001b[36mfind_libmono\u001b[39m\u001b[34m(assembly_dir, sgen)\u001b[39m\n\u001b[32m    148\u001b[39m \u001b[38;5;28;01mif\u001b[39;00m path \u001b[38;5;129;01mis\u001b[39;00m \u001b[38;5;28;01mNone\u001b[39;00m:\n\u001b[32m--> \u001b[39m\u001b[32m149\u001b[39m     \u001b[38;5;28;01mraise\u001b[39;00m \u001b[38;5;167;01mRuntimeError\u001b[39;00m(\u001b[33m\"\u001b[39m\u001b[33mCould not find libmono\u001b[39m\u001b[33m\"\u001b[39m)\n\u001b[32m    151\u001b[39m \u001b[38;5;28;01mreturn\u001b[39;00m Path(path)\n",
      "\u001b[31mRuntimeError\u001b[39m: Could not find libmono",
      "\nThe above exception was the direct cause of the following exception:\n",
      "\u001b[31mRuntimeError\u001b[39m                              Traceback (most recent call last)",
      "\u001b[36mCell\u001b[39m\u001b[36m \u001b[39m\u001b[32mIn[6]\u001b[39m\u001b[32m, line 1\u001b[39m\n\u001b[32m----> \u001b[39m\u001b[32m1\u001b[39m \u001b[38;5;28;01mimport\u001b[39;00m\u001b[38;5;250m \u001b[39m\u001b[34;01mclr\u001b[39;00m\n",
      "\u001b[36mFile \u001b[39m\u001b[32m~/philzook58.github.io/.venv/lib/python3.12/site-packages/clr.py:6\u001b[39m\n\u001b[32m      1\u001b[39m \u001b[33;03m\"\"\"\u001b[39;00m\n\u001b[32m      2\u001b[39m \u001b[33;03mLegacy Python.NET loader for backwards compatibility\u001b[39;00m\n\u001b[32m      3\u001b[39m \u001b[33;03m\"\"\"\u001b[39;00m\n\u001b[32m      5\u001b[39m \u001b[38;5;28;01mfrom\u001b[39;00m\u001b[38;5;250m \u001b[39m\u001b[34;01mpythonnet\u001b[39;00m\u001b[38;5;250m \u001b[39m\u001b[38;5;28;01mimport\u001b[39;00m load\n\u001b[32m----> \u001b[39m\u001b[32m6\u001b[39m \u001b[43mload\u001b[49m\u001b[43m(\u001b[49m\u001b[43m)\u001b[49m\n",
      "\u001b[36mFile \u001b[39m\u001b[32m~/philzook58.github.io/.venv/lib/python3.12/site-packages/pythonnet/__init__.py:133\u001b[39m, in \u001b[36mload\u001b[39m\u001b[34m(runtime, **params)\u001b[39m\n\u001b[32m    131\u001b[39m \u001b[38;5;28;01mif\u001b[39;00m _RUNTIME \u001b[38;5;129;01mis\u001b[39;00m \u001b[38;5;28;01mNone\u001b[39;00m:\n\u001b[32m    132\u001b[39m     \u001b[38;5;28;01mif\u001b[39;00m runtime \u001b[38;5;129;01mis\u001b[39;00m \u001b[38;5;28;01mNone\u001b[39;00m:\n\u001b[32m--> \u001b[39m\u001b[32m133\u001b[39m         \u001b[43mset_runtime_from_env\u001b[49m\u001b[43m(\u001b[49m\u001b[43m)\u001b[49m\n\u001b[32m    134\u001b[39m     \u001b[38;5;28;01melse\u001b[39;00m:\n\u001b[32m    135\u001b[39m         set_runtime(runtime, **params)\n",
      "\u001b[36mFile \u001b[39m\u001b[32m~/philzook58.github.io/.venv/lib/python3.12/site-packages/pythonnet/__init__.py:114\u001b[39m, in \u001b[36mset_runtime_from_env\u001b[39m\u001b[34m()\u001b[39m\n\u001b[32m    111\u001b[39m \u001b[38;5;28;01mfrom\u001b[39;00m\u001b[38;5;250m \u001b[39m\u001b[34;01mos\u001b[39;00m\u001b[38;5;250m \u001b[39m\u001b[38;5;28;01mimport\u001b[39;00m environ\n\u001b[32m    113\u001b[39m spec = environ.get(\u001b[33m\"\u001b[39m\u001b[33mPYTHONNET_RUNTIME\u001b[39m\u001b[33m\"\u001b[39m, \u001b[33m\"\u001b[39m\u001b[33mdefault\u001b[39m\u001b[33m\"\u001b[39m)\n\u001b[32m--> \u001b[39m\u001b[32m114\u001b[39m runtime = \u001b[43m_create_runtime_from_spec\u001b[49m\u001b[43m(\u001b[49m\u001b[43mspec\u001b[49m\u001b[43m)\u001b[49m\n\u001b[32m    115\u001b[39m set_runtime(runtime)\n",
      "\u001b[36mFile \u001b[39m\u001b[32m~/philzook58.github.io/.venv/lib/python3.12/site-packages/pythonnet/__init__.py:82\u001b[39m, in \u001b[36m_create_runtime_from_spec\u001b[39m\u001b[34m(spec, params)\u001b[39m\n\u001b[32m     80\u001b[39m \u001b[38;5;28;01mexcept\u001b[39;00m \u001b[38;5;167;01mException\u001b[39;00m \u001b[38;5;28;01mas\u001b[39;00m exc:\n\u001b[32m     81\u001b[39m     \u001b[38;5;28;01mif\u001b[39;00m was_default:\n\u001b[32m---> \u001b[39m\u001b[32m82\u001b[39m         \u001b[38;5;28;01mraise\u001b[39;00m \u001b[38;5;167;01mRuntimeError\u001b[39;00m(\n\u001b[32m     83\u001b[39m             \u001b[33mf\u001b[39m\u001b[33m\"\"\"\u001b[39m\u001b[33mFailed to create a default .NET runtime, which would\u001b[39m\n\u001b[32m     84\u001b[39m \u001b[33m                have been \u001b[39m\u001b[33m\"\u001b[39m\u001b[38;5;132;01m{\u001b[39;00mspec\u001b[38;5;132;01m}\u001b[39;00m\u001b[33m\"\u001b[39m\u001b[33m on this system. Either install a\u001b[39m\n\u001b[32m     85\u001b[39m \u001b[33m                compatible runtime or configure it explicitly via\u001b[39m\n\u001b[32m     86\u001b[39m \u001b[33m                `set_runtime` or the `PYTHONNET_*` environment variables\u001b[39m\n\u001b[32m     87\u001b[39m \u001b[33m                (see set_runtime_from_env).\u001b[39m\u001b[33m\"\"\"\u001b[39m\n\u001b[32m     88\u001b[39m         ) \u001b[38;5;28;01mfrom\u001b[39;00m\u001b[38;5;250m \u001b[39m\u001b[34;01mexc\u001b[39;00m\n\u001b[32m     89\u001b[39m     \u001b[38;5;28;01melse\u001b[39;00m:\n\u001b[32m     90\u001b[39m         \u001b[38;5;28;01mraise\u001b[39;00m \u001b[38;5;167;01mRuntimeError\u001b[39;00m(\n\u001b[32m     91\u001b[39m             \u001b[33mf\u001b[39m\u001b[33m\"\"\"\u001b[39m\u001b[33mFailed to create a .NET runtime (\u001b[39m\u001b[38;5;132;01m{\u001b[39;00mspec\u001b[38;5;132;01m}\u001b[39;00m\u001b[33m) using the\u001b[39m\n\u001b[32m     92\u001b[39m \u001b[33m            parameters \u001b[39m\u001b[38;5;132;01m{\u001b[39;00mparams\u001b[38;5;132;01m}\u001b[39;00m\u001b[33m.\u001b[39m\u001b[33m\"\"\"\u001b[39m\n\u001b[32m     93\u001b[39m         ) \u001b[38;5;28;01mfrom\u001b[39;00m\u001b[38;5;250m \u001b[39m\u001b[34;01mexc\u001b[39;00m\n",
      "\u001b[31mRuntimeError\u001b[39m: Failed to create a default .NET runtime, which would\n                    have been \"mono\" on this system. Either install a\n                    compatible runtime or configure it explicitly via\n                    `set_runtime` or the `PYTHONNET_*` environment variables\n                    (see set_runtime_from_env)."
     ]
    }
   ],
   "source": [
    "import clr\n",
    "from System.Drawing import Point\n",
    "\n",
    "p = Point(5, 5)"
   ]
  }
 ],
 "metadata": {
  "kernelspec": {
   "display_name": "philzook58.github.io",
   "language": "python",
   "name": "python3"
  },
  "language_info": {
   "codemirror_mode": {
    "name": "ipython",
    "version": 3
   },
   "file_extension": ".py",
   "mimetype": "text/x-python",
   "name": "python",
   "nbconvert_exporter": "python",
   "pygments_lexer": "ipython3",
   "version": "3.12.3"
  }
 },
 "nbformat": 4,
 "nbformat_minor": 5
}
