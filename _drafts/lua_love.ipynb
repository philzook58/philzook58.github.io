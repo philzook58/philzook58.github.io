{
 "cells": [
  {
   "cell_type": "markdown",
   "metadata": {},
   "source": [
    "Building Game Prototypes with LÖVE \n",
    "https://news.ycombinator.com/item?id=42562175\n",
    "\n",
    "https://love2d.org/\n",
    "\n",
    "https://github.com/love2d-community/awesome-love2d\n",
    "\n",
    "https://schellingb.github.io/LoveWebBuilder/"
   ]
  },
  {
   "cell_type": "code",
   "execution_count": 3,
   "metadata": {},
   "outputs": [],
   "source": [
    "!mkdir /tmp/hello"
   ]
  },
  {
   "cell_type": "code",
   "execution_count": 16,
   "metadata": {},
   "outputs": [
    {
     "name": "stdout",
     "output_type": "stream",
     "text": [
      "Overwriting /tmp/hello/main.lua\n"
     ]
    }
   ],
   "source": [
    "%%file /tmp/hello/main.lua\n",
    "\n",
    "-- respond to keypresses\n",
    "posx = 400\n",
    "posy = 300\n",
    "\n",
    "function love.draw()\n",
    "    love.graphics.print(\"Hello World!\", posx,posy)\n",
    "end\n",
    "\n",
    "function love.keypressed(key, scancode, isrepeat)\n",
    "   local dx, dy = 0, 0\n",
    "   if scancode == \"d\" then -- move right\n",
    "      dx = 1\n",
    "   elseif scancode == \"a\" then -- move left\n",
    "      dx = -1\n",
    "   elseif scancode == \"s\" then -- move down\n",
    "      dy = 1\n",
    "   elseif scancode == \"w\" then -- move up\n",
    "      dy = -1\n",
    "   end\n",
    "   posx = posx + dx \n",
    "   posy = posy + dy \n",
    "   if key == \"escape\" then\n",
    "      love.event.quit()\n",
    "   end\n",
    "end\n"
   ]
  },
  {
   "cell_type": "code",
   "execution_count": 17,
   "metadata": {},
   "outputs": [],
   "source": [
    "!love /tmp/hello"
   ]
  },
  {
   "cell_type": "code",
   "execution_count": 8,
   "metadata": {},
   "outputs": [
    {
     "name": "stdout",
     "output_type": "stream",
     "text": [
      "hello\n",
      "3\n",
      "6\n"
     ]
    }
   ],
   "source": [
    "a=3\n",
    "print(\"hello\")\n",
    "print(a)\n",
    "function fact(n)\n",
    "    if n == 0 then\n",
    "        return 1\n",
    "    else\n",
    "        return n * fact(n-1)\n",
    "    end\n",
    "end\n",
    "print(fact(3))"
   ]
  },
  {
   "cell_type": "code",
   "execution_count": 9,
   "metadata": {},
   "outputs": [
    {
     "ename": "n/a",
     "evalue": "(ilua):1: unexpected symbol near '%'",
     "output_type": "error",
     "traceback": [
      "(ilua):1: unexpected symbol near '%'"
     ]
    }
   ],
   "source": [
    "%%file /tmp/lua.love\n",
    "\n",
    "print(\"hello world\")\n"
   ]
  }
 ],
 "metadata": {
  "kernelspec": {
   "display_name": "Python 3",
   "language": "python",
   "name": "python3"
  },
  "language_info": {
   "codemirror_mode": {
    "name": "ipython",
    "version": 3
   },
   "file_extension": ".py",
   "mimetype": "text/x-python",
   "name": "python",
   "nbconvert_exporter": "python",
   "pygments_lexer": "ipython3",
   "version": "3.10.12"
  }
 },
 "nbformat": 4,
 "nbformat_minor": 2
}
