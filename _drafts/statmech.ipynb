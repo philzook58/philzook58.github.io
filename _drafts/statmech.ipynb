{
 "cells": [
  {
   "cell_type": "code",
   "execution_count": 15,
   "metadata": {},
   "outputs": [
    {
     "data": {
      "text/latex": [
       "$\\displaystyle e^{- F \\beta} = e^{E \\beta} + e^{- E \\beta}$"
      ],
      "text/plain": [
       "Eq(exp(-F*beta), exp(E*beta) + exp(-E*beta))"
      ]
     },
     "execution_count": 15,
     "metadata": {},
     "output_type": "execute_result"
    }
   ],
   "source": [
    "from sympy import *\n",
    "\n",
    "E = symbols('E', real=True)\n",
    "beta,kb,T = symbols(\"beta kb T\", real=True, positive=True)\n",
    "\n",
    "Z = exp(-E/(kb*T)) + exp(E/(kb*T))\n",
    "Z.diff(T).simplify()\n",
    "\n",
    "Eavg = E*exp(-E/(kb*T))/Z + E*exp(E/(kb*T))/Z \n",
    "\n",
    "\n",
    "Z = exp(-beta*E) + exp(-beta*(-E))\n",
    "-ln(Z).diff(beta).simplify()\n",
    "F = symbols('F')\n",
    "Eq(exp(-beta*F), Z)"
   ]
  },
  {
   "cell_type": "code",
   "execution_count": 23,
   "metadata": {},
   "outputs": [
    {
     "data": {
      "text/latex": [
       "$\\displaystyle - \\frac{N}{V}$"
      ],
      "text/plain": [
       "-N/V"
      ]
     },
     "execution_count": 23,
     "metadata": {},
     "output_type": "execute_result"
    }
   ],
   "source": [
    "p = symbols('p', real=True)\n",
    "m,V,N = symbols('m V N', real=True, positive=True)\n",
    "Z0 = Integral(exp(-beta*p**2/2/m), (p,-oo,oo)).simplify().doit()\n",
    "Z = Z0**(3*N) * V**N\n",
    "-ln(Z).diff(beta).subs(beta, 1/(kb*T)).simplify()\n",
    "-ln(Z).diff(V).simplify()\n"
   ]
  },
  {
   "cell_type": "markdown",
   "metadata": {},
   "source": [
    "https://en.wikipedia.org/wiki/Statistical_mechanics\n",
    "Huang, Kerson (September 21, 2009). Introduction to Statistical Physics\n",
    "Pathria and Beale\n",
    "Reif\n",
    "https://www.youtube.com/watch?v=H1Zbp6__uNw&list=PLB72416C707D85AB0&index=2&ab_channel=Stanford susskind\n",
    "https://annaebair.github.io/files/Statistical_Mechanics_Notes.pdf\n",
    "\n",
    "https://en.wikipedia.org/wiki/Maxwell%E2%80%93Boltzmann_distribution\n",
    "How did maxwell do this.\n",
    "\n",
    "https://physics.stackexchange.com/questions/161269/how-can-i-intuitively-understand-the-boltzmann-factor\n",
    "\n",
    "https://web.stanford.edu/~peastman/statmech/\n",
    "\n",
    "Parisi\n",
    "Cardy\n",
    "\n",
    "Wick rotation.\n",
    "Quantum Statistical Mechanics\n",
    "\n",
    "$tr e^{-\\beta H}$ as an operator.\n",
    "\n",
    "\n",
    "Gaskell\n",
    "Lewis has a killer book? Dover has version\n",
    "\n",
    "Wien diusaplcement law\n",
    "blackbody radiation, axioms\n",
    "What was placnk thinking?\n",
    "\n",
    "\n",
    "van derwaals\n"
   ]
  },
  {
   "cell_type": "code",
   "execution_count": null,
   "metadata": {},
   "outputs": [
    {
     "data": {
      "text/latex": [
       "$\\displaystyle \\begin{cases} \\frac{1}{1 - z} & \\text{for}\\: \\left|{z}\\right| < 1 \\\\\\sum_{n=0}^{\\infty} z^{n} & \\text{otherwise} \\end{cases}$"
      ],
      "text/plain": [
       "Piecewise((1/(1 - z), Abs(z) < 1), (Sum(z**n, (n, 0, oo)), True))"
      ]
     },
     "execution_count": 37,
     "metadata": {},
     "output_type": "execute_result"
    }
   ],
   "source": [
    "n = symbols('n', real=True, positive=True)\n",
    "hbar, omega = symbols('hbar omega', real=True, positive=True)\n",
    "Z = Sum(exp(-beta*n*hbar*omega), (n,0,oo)).doit() # hmm can't actually get this one to go through\n",
    "z = symbols('z')\n",
    "Z.subs(beta*hbar*omega, ln(z))\n",
    "Sum(z**n, (n,0,oo)).doit()\n"
   ]
  },
  {
   "cell_type": "code",
   "execution_count": 38,
   "metadata": {},
   "outputs": [
    {
     "data": {
      "text/latex": [
       "$\\displaystyle 0$"
      ],
      "text/plain": [
       "0"
      ]
     },
     "execution_count": 38,
     "metadata": {},
     "output_type": "execute_result"
    }
   ],
   "source": [
    "E,H,P,V,S,T,F,G = symbols('E H P V S T F G', real=True)\n",
    "H = E + P*V\n",
    "F = E - T*S\n",
    "G = E + P*V - T*S\n",
    "\n",
    "\n"
   ]
  }
 ],
 "metadata": {
  "kernelspec": {
   "display_name": "Python 3",
   "language": "python",
   "name": "python3"
  },
  "language_info": {
   "codemirror_mode": {
    "name": "ipython",
    "version": 3
   },
   "file_extension": ".py",
   "mimetype": "text/x-python",
   "name": "python",
   "nbconvert_exporter": "python",
   "pygments_lexer": "ipython3",
   "version": "3.10.12"
  }
 },
 "nbformat": 4,
 "nbformat_minor": 2
}
