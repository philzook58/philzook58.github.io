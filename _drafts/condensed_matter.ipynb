{
 "cells": [
  {
   "cell_type": "markdown",
   "metadata": {},
   "source": [
    "https://en.wikipedia.org/wiki/Condensed_matter_physics\n",
    "\n",
    "Piers Colemna\n",
    "Altland and Simons\n",
    "\n",
    "\n",
    "\n",
    "Shankar renormlaization https://arxiv.org/abs/cond-mat/9307009\n",
    "https://www.youtube.com/watch?v=8fIgT4TqvGM \n",
    "\n",
    "fermi liquid\n",
    "\n",
    "Quantum hall\n",
    "\n",
    "Bose einstein condensate\n",
    "\n",
    "spintronics\n",
    "\n",
    "mesoscopic physics\n",
    "supriyo datta\n",
    "nanohub\n",
    "\n",
    "\n",
    "topological materials\n",
    "\n",
    "semiconductors\n",
    "all that level shifting shit\n",
    "britney spears guide\n",
    "That stuff made no sense.\n",
    "\n"
   ]
  }
 ],
 "metadata": {
  "language_info": {
   "name": "python"
  }
 },
 "nbformat": 4,
 "nbformat_minor": 2
}
