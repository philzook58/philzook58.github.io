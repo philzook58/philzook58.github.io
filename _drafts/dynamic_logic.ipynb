{
 "cells": [
  {
   "cell_type": "markdown",
   "metadata": {},
   "source": [
    "# dynamic logic\n",
    "https://plato.stanford.edu/entries/logic-dynamic/\n",
    "\n",
    "KAT\n",
    "I do have regex as built in theory.\n",
    "type ActionTest = {action, test}\n",
    "Regex()\n",
    "Greenberg Kat. How did it work.\n",
    "\n",
    "https://symbolaris.com/logic/dL.html\n",
    "https://www.key-project.org/\n",
    "\n",
    "\n",
    "Propistional dynamic logic.\n",
    "Propoistional hgoare \n",
    "loigic\n",
    "\n",
    "https://github.com/LS-Lab/Coq-dL\n",
    "\n",
    "\n",
    "shallow embedding\n",
    "Time = RealSort()\n",
    "RBool = ArraySort(Time, BoolSort())\n",
    "is_diff\n",
    "\n",
    "RReal = ArraySort(Time, RealSort())\n",
    "diff(x) == v\n",
    "\n",
    "https://en.wikipedia.org/wiki/Dynamic_logic_(modal_logic)\n",
    "\n",
    "\n",
    "\n",
    "small model property - only need tyo consider some bounded size of kripke model\n",
    "\n",
    "David Harel, Dexter Kozen, and Jerzy Tiuryn, \"Dynamic Logic\". MIT Press, 2000 (450 pp).\n",
    "\n",
    "https://logicinaction.org/\n",
    "\n",
    "https://www.cs.cmu.edu/~15414/s22/lectures/06-dynamiclogic.pdf\n",
    "\n",
    "Hmm.\n",
    "Could I use a kleene algerba solver to do presburger stuff?\n",
    "\n",
    "\n",
    "https://arxiv.org/abs/1710.10258 temporal type theory\n",
    "\n",
    "\n",
    "\n",
    "https://arxiv.org/html/2412.03310v1\n",
    "\n",
    "LTL + LLM\n",
    "\n",
    "https://www.sigarch.org/interactively-translating-unstructured-natural-language-to-temporal-logics-with-nl2spec/\n",
    "Interactively Translating Unstructured Natural Language to Temporal Logics with nl2spec\n",
    "\n",
    "\n",
    "https://arxiv.org/html/2305.07766v2\n",
    "https://cs.stanford.edu/~trippel/pubs/mendoza_FMCAD24.pdf\n",
    "https://github.com/UM-ARM-Lab/Efficient-Eng-2-LTL\n",
    "The associated repo for paper \"Data-Efficient Learning of Natural Language to Linear Temporal Logic Translators for Robot Task Specification\"\n",
    "\n",
    "\n",
    "https://openreview.net/pdf?id=VxfjGZzrdn\n",
    "https://scholar.google.com/scholar?q=caroline+ltl+llm+english+temporal+logic&hl=en&as_sdt=0&as_vis=1&oi=scholart\n",
    "https://yanweiw.github.io/tli/\n",
    "\n",
    "Temporal Logic Imitation: Learning Plan-Satisficing Motion Policies from Demonstrations\n",
    "\n",
    "\n",
    "\n",
    "a_spec =  a_prim (tests)*\n",
    "tests* a_prime tests*\n"
   ]
  },
  {
   "cell_type": "code",
   "execution_count": null,
   "metadata": {},
   "outputs": [],
   "source": [
    "ReSort( Pair(State, State) >> BoolSort()) # relational semantics. Each action is a step of transition relation\n",
    "# tests are subrelations of identity. Filters.\n",
    "seq.Seq(Trans)  # sequaences of transitions\n",
    "# interp of sequences\n",
    "interp(Unit(t))  = t\n",
    "interp(Concat(t1,t2)) = t1 @ t2\n",
    "interp(Empty) = EmptySet\n",
    "\n",
    "\n",
    "interp(Star(t)) = transitiveclosure(t)\n",
    "\n",
    "\n"
   ]
  },
  {
   "cell_type": "code",
   "execution_count": 13,
   "metadata": {},
   "outputs": [
    {
     "data": {
      "text/html": [
       "Star(Union(Re(\"a\"), Re(\"b\")))"
      ],
      "text/plain": [
       "Star(Union(Re(\"a\"), Re(\"b\")))"
      ]
     },
     "execution_count": 13,
     "metadata": {},
     "output_type": "execute_result"
    }
   ],
   "source": [
    "from kdrag.all import *\n",
    "\n",
    "ReStr = smt.ReSort(smt.StringSort())\n",
    "r1 = smt.Full(ReStr)\n",
    "smt.AllChar(ReStr)\n",
    "smt.Complement(r1)\n",
    "smt.Concat(r1, r1)\n",
    "smt.Diff(r1, r1)\n",
    "smt.Empty(ReStr)\n",
    "re = smt.Union(smt.Re(\"a\"),smt.Re(\"b\"))\n",
    "smt.simplify(smt.InRe(\"a\", re))\n",
    "smt.Intersect(re, re)\n",
    "smt.Loop(re, 0, 10)\n",
    "smt.Option(re)\n",
    "smt.Plus(re)\n",
    "smt.Range(\"a\", \"z\")\n",
    "smt.Re(\"abc\")\n",
    "smt.Re(smt.Unit(smt.BoolVal(True)))\n",
    "smt.Star(re)"
   ]
  },
  {
   "cell_type": "code",
   "execution_count": 17,
   "metadata": {},
   "outputs": [
    {
     "data": {
      "text/html": [
       "&#8870;re.++(Star(re), Star(re)) == Star(re)"
      ],
      "text/plain": [
       "|- re.++(Star(re), Star(re)) == Star(re)"
      ]
     },
     "execution_count": 17,
     "metadata": {},
     "output_type": "execute_result"
    }
   ],
   "source": [
    "re = smt.Const(\"re\", ReStr)\n",
    "kd.prove(smt.Star(smt.Star(re)) == smt.Star(re))\n",
    "kd.prove(smt.Concat(smt.Star(re), smt.Star(re)) == smt.Star(re))"
   ]
  }
 ],
 "metadata": {
  "kernelspec": {
   "display_name": ".venv",
   "language": "python",
   "name": "python3"
  },
  "language_info": {
   "codemirror_mode": {
    "name": "ipython",
    "version": 3
   },
   "file_extension": ".py",
   "mimetype": "text/x-python",
   "name": "python",
   "nbconvert_exporter": "python",
   "pygments_lexer": "ipython3",
   "version": "3.12.3"
  }
 },
 "nbformat": 4,
 "nbformat_minor": 2
}
