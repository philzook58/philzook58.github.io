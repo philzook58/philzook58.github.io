{
 "cells": [
  {
   "cell_type": "markdown",
   "metadata": {},
   "source": [
    "# dynamic logic\n",
    "https://plato.stanford.edu/entries/logic-dynamic/\n",
    "\n",
    "KAT\n",
    "I do have regex as built in theory.\n",
    "type ActionTest = {action, test}\n",
    "Regex()\n",
    "Greenberg Kat. How did it work.\n",
    "\n",
    "https://symbolaris.com/logic/dL.html\n",
    "https://www.key-project.org/\n",
    "\n",
    "\n",
    "Propistional dynamic logic.\n",
    "Propoistional hgoare \n",
    "loigic\n",
    "\n",
    "https://github.com/LS-Lab/Coq-dL\n",
    "\n",
    "\n",
    "shallow embedding\n",
    "Time = RealSort()\n",
    "RBool = ArraySort(Time, BoolSort())\n",
    "is_diff\n",
    "\n",
    "RReal = ArraySort(Time, RealSort())\n",
    "diff(x) == v\n",
    "\n",
    "https://en.wikipedia.org/wiki/Dynamic_logic_(modal_logic)\n",
    "\n",
    "\n",
    "\n",
    "small model property - only need tyo consider some bounded size of kripke model\n",
    "\n",
    "David Harel, Dexter Kozen, and Jerzy Tiuryn, \"Dynamic Logic\". MIT Press, 2000 (450 pp).\n",
    "\n",
    "https://logicinaction.org/\n",
    "\n",
    "https://www.cs.cmu.edu/~15414/s22/lectures/06-dynamiclogic.pdf\n",
    "\n",
    "Hmm.\n",
    "Could I use a kleene algerba solver to do presburger stuff?\n",
    "\n",
    "\n",
    "https://arxiv.org/abs/1710.10258 temporal type theory\n",
    "\n",
    "\n",
    "\n",
    "https://arxiv.org/html/2412.03310v1\n",
    "\n",
    "LTL + LLM\n",
    "\n",
    "https://www.sigarch.org/interactively-translating-unstructured-natural-language-to-temporal-logics-with-nl2spec/\n",
    "Interactively Translating Unstructured Natural Language to Temporal Logics with nl2spec\n",
    "\n",
    "\n",
    "https://arxiv.org/html/2305.07766v2\n",
    "https://cs.stanford.edu/~trippel/pubs/mendoza_FMCAD24.pdf\n",
    "https://github.com/UM-ARM-Lab/Efficient-Eng-2-LTL\n",
    "The associated repo for paper \"Data-Efficient Learning of Natural Language to Linear Temporal Logic Translators for Robot Task Specification\"\n",
    "\n",
    "\n",
    "https://openreview.net/pdf?id=VxfjGZzrdn\n",
    "https://scholar.google.com/scholar?q=caroline+ltl+llm+english+temporal+logic&hl=en&as_sdt=0&as_vis=1&oi=scholart\n",
    "https://yanweiw.github.io/tli/\n",
    "\n",
    "Temporal Logic Imitation: Learning Plan-Satisficing Motion Policies from Demonstrations\n",
    "\n",
    "\n",
    "\n",
    "a_spec =  a_prim (tests)*\n",
    "tests* a_prime tests*\n"
   ]
  },
  {
   "cell_type": "code",
   "execution_count": null,
   "metadata": {},
   "outputs": [],
   "source": [
    "ReSort( Pair(State, State) >> BoolSort()) # relational semantics. Each action is a step of transition relation\n",
    "# tests are subrelations of identity. Filters.\n",
    "seq.Seq(Trans)  # sequaences of transitions\n",
    "# interp of sequences\n",
    "interp(Unit(t))  = t\n",
    "interp(Concat(t1,t2)) = t1 @ t2\n",
    "interp(Empty) = EmptySet\n",
    "\n",
    "\n",
    "interp(Star(t)) = transitiveclosure(t)\n",
    "\n",
    "\n"
   ]
  },
  {
   "cell_type": "code",
   "execution_count": 1,
   "metadata": {},
   "outputs": [
    {
     "data": {
      "text/html": [
       "Star(Union(Re(\"a\"), Re(\"b\")))"
      ],
      "text/plain": [
       "Star(Union(Re(\"a\"), Re(\"b\")))"
      ]
     },
     "execution_count": 1,
     "metadata": {},
     "output_type": "execute_result"
    }
   ],
   "source": [
    "from kdrag.all import *\n",
    "\n",
    "ReStr = smt.ReSort(smt.StringSort())\n",
    "r1 = smt.Full(ReStr)\n",
    "smt.AllChar(ReStr)\n",
    "smt.Complement(r1)\n",
    "smt.Concat(r1, r1)\n",
    "smt.Diff(r1, r1)\n",
    "smt.Empty(ReStr)\n",
    "re = smt.Union(smt.Re(\"a\"),smt.Re(\"b\"))\n",
    "smt.simplify(smt.InRe(\"a\", re))\n",
    "smt.Intersect(re, re)\n",
    "smt.Loop(re, 0, 10)\n",
    "smt.Option(re)\n",
    "smt.Plus(re)\n",
    "smt.Range(\"a\", \"z\")\n",
    "smt.Re(\"abc\")\n",
    "smt.Re(smt.Unit(smt.BoolVal(True)))\n",
    "smt.Star(re)"
   ]
  },
  {
   "cell_type": "code",
   "execution_count": null,
   "metadata": {},
   "outputs": [],
   "source": [
    "s"
   ]
  },
  {
   "cell_type": "code",
   "execution_count": null,
   "metadata": {},
   "outputs": [],
   "source": [
    "smt.Concat()"
   ]
  },
  {
   "cell_type": "code",
   "execution_count": 12,
   "metadata": {},
   "outputs": [
    {
     "name": "stdout",
     "output_type": "stream",
     "text": [
      "no solution\n",
      "[x = Unit(2)]\n",
      "no solution\n"
     ]
    }
   ],
   "source": [
    "from kdrag.all import *\n",
    "\n",
    "ReStr = smt.ReSort(smt.SeqSort(smt.IntSort()))\n",
    "r1 = smt.Full(ReStr)\n",
    "smt.AllChar(ReStr)\n",
    "smt.Complement(r1)\n",
    "smt.Concat(r1, r1)\n",
    "smt.Diff(r1, r1)\n",
    "smt.Empty(ReStr)\n",
    "re = smt.Union(smt.Re(\"a\"),smt.Re(\"b\"))\n",
    "smt.simplify(smt.InRe(\"a\", re))\n",
    "smt.Intersect(re, re)\n",
    "smt.Loop(re, 0, 10)\n",
    "smt.Option(re)\n",
    "smt.Plus(re)\n",
    "smt.Range(\"a\", \"z\")\n",
    "smt.Re(\"abc\")\n",
    "smt.Re(smt.Unit(smt.BoolVal(True)))\n",
    "smt.Star(re)\n",
    "\n",
    "x = smt.Const(\"x\", smt.SeqSort(smt.IntSort()))\n",
    "smt.solve(smt.InRe(x, smt.Empty(ReStr)))\n",
    "smt.solve(smt.And(x != smt.Empty(smt.SeqSort(smt.IntSort())), smt.InRe(x, smt.Full(ReStr))))\n",
    "smt.solve(smt.And(x != smt.Empty(smt.SeqSort(smt.IntSort())), smt.InRe(x, smt.Re(smt.Empty(smt.SeqSort(smt.IntSort()))))))\n"
   ]
  },
  {
   "cell_type": "code",
   "execution_count": null,
   "metadata": {},
   "outputs": [
    {
     "ename": "Z3Exception",
     "evalue": "b\"Sort of polymorphic function 'str.<=' does not match the declared type. \\nGiven domain: (Seq Int) (Seq Int) \\nExpected domain: String String \"",
     "output_type": "error",
     "traceback": [
      "\u001b[0;31m---------------------------------------------------------------------------\u001b[0m",
      "\u001b[0;31mZ3Exception\u001b[0m                               Traceback (most recent call last)",
      "Cell \u001b[0;32mIn[13], line 1\u001b[0m\n\u001b[0;32m----> 1\u001b[0m \u001b[43mx\u001b[49m\u001b[43m \u001b[49m\u001b[38;5;241;43m<\u001b[39;49m\u001b[38;5;241;43m=\u001b[39;49m\u001b[43m \u001b[49m\u001b[43mx\u001b[49m\n",
      "File \u001b[0;32m~/philzook58.github.io/.venv/lib/python3.12/site-packages/z3/z3.py:10991\u001b[0m, in \u001b[0;36mSeqRef.__le__\u001b[0;34m(self, other)\u001b[0m\n\u001b[1;32m  10990\u001b[0m \u001b[38;5;28;01mdef\u001b[39;00m\u001b[38;5;250m \u001b[39m\u001b[38;5;21m__le__\u001b[39m(\u001b[38;5;28mself\u001b[39m, other):\n\u001b[0;32m> 10991\u001b[0m     \u001b[38;5;28;01mreturn\u001b[39;00m _to_expr_ref(\u001b[43mZ3_mk_str_le\u001b[49m\u001b[43m(\u001b[49m\u001b[38;5;28;43mself\u001b[39;49m\u001b[38;5;241;43m.\u001b[39;49m\u001b[43mctx_ref\u001b[49m\u001b[43m(\u001b[49m\u001b[43m)\u001b[49m\u001b[43m,\u001b[49m\u001b[43m \u001b[49m\u001b[38;5;28;43mself\u001b[39;49m\u001b[38;5;241;43m.\u001b[39;49m\u001b[43mas_ast\u001b[49m\u001b[43m(\u001b[49m\u001b[43m)\u001b[49m\u001b[43m,\u001b[49m\u001b[43m \u001b[49m\u001b[43mother\u001b[49m\u001b[38;5;241;43m.\u001b[39;49m\u001b[43mas_ast\u001b[49m\u001b[43m(\u001b[49m\u001b[43m)\u001b[49m\u001b[43m)\u001b[49m, \u001b[38;5;28mself\u001b[39m\u001b[38;5;241m.\u001b[39mctx)\n",
      "File \u001b[0;32m~/philzook58.github.io/.venv/lib/python3.12/site-packages/z3/z3core.py:2551\u001b[0m, in \u001b[0;36mZ3_mk_str_le\u001b[0;34m(a0, a1, a2, _elems)\u001b[0m\n\u001b[1;32m   2549\u001b[0m \u001b[38;5;28;01mdef\u001b[39;00m\u001b[38;5;250m \u001b[39m\u001b[38;5;21mZ3_mk_str_le\u001b[39m(a0, a1, a2, _elems\u001b[38;5;241m=\u001b[39mElementaries(_lib\u001b[38;5;241m.\u001b[39mZ3_mk_str_le)):\n\u001b[1;32m   2550\u001b[0m   r \u001b[38;5;241m=\u001b[39m _elems\u001b[38;5;241m.\u001b[39mf(a0, a1, a2)\n\u001b[0;32m-> 2551\u001b[0m   \u001b[43m_elems\u001b[49m\u001b[38;5;241;43m.\u001b[39;49m\u001b[43mCheck\u001b[49m\u001b[43m(\u001b[49m\u001b[43ma0\u001b[49m\u001b[43m)\u001b[49m\n\u001b[1;32m   2552\u001b[0m   \u001b[38;5;28;01mreturn\u001b[39;00m r\n",
      "File \u001b[0;32m~/philzook58.github.io/.venv/lib/python3.12/site-packages/z3/z3core.py:1570\u001b[0m, in \u001b[0;36mElementaries.Check\u001b[0;34m(self, ctx)\u001b[0m\n\u001b[1;32m   1568\u001b[0m err \u001b[38;5;241m=\u001b[39m \u001b[38;5;28mself\u001b[39m\u001b[38;5;241m.\u001b[39mget_error_code(ctx)\n\u001b[1;32m   1569\u001b[0m \u001b[38;5;28;01mif\u001b[39;00m err \u001b[38;5;241m!=\u001b[39m \u001b[38;5;28mself\u001b[39m\u001b[38;5;241m.\u001b[39mOK:\n\u001b[0;32m-> 1570\u001b[0m     \u001b[38;5;28;01mraise\u001b[39;00m \u001b[38;5;28mself\u001b[39m\u001b[38;5;241m.\u001b[39mException(\u001b[38;5;28mself\u001b[39m\u001b[38;5;241m.\u001b[39mget_error_message(ctx, err))\n",
      "\u001b[0;31mZ3Exception\u001b[0m: b\"Sort of polymorphic function 'str.<=' does not match the declared type. \\nGiven domain: (Seq Int) (Seq Int) \\nExpected domain: String String \""
     ]
    }
   ],
   "source": []
  },
  {
   "cell_type": "code",
   "execution_count": 4,
   "metadata": {},
   "outputs": [
    {
     "data": {
      "text/plain": [
       "z3.z3.ReRef"
      ]
     },
     "execution_count": 4,
     "metadata": {},
     "output_type": "execute_result"
    }
   ],
   "source": [
    "c = smt.Const(\"c\", ReStr)\n",
    "type(c)"
   ]
  },
  {
   "cell_type": "code",
   "execution_count": 17,
   "metadata": {},
   "outputs": [
    {
     "data": {
      "text/html": [
       "&#8870;re.++(Star(re), Star(re)) == Star(re)"
      ],
      "text/plain": [
       "|- re.++(Star(re), Star(re)) == Star(re)"
      ]
     },
     "execution_count": 17,
     "metadata": {},
     "output_type": "execute_result"
    }
   ],
   "source": [
    "re = smt.Const(\"re\", ReStr)\n",
    "kd.prove(smt.Star(smt.Star(re)) == smt.Star(re))\n",
    "kd.prove(smt.Concat(smt.Star(re), smt.Star(re)) == smt.Star(re))"
   ]
  }
 ],
 "metadata": {
  "kernelspec": {
   "display_name": ".venv",
   "language": "python",
   "name": "python3"
  },
  "language_info": {
   "codemirror_mode": {
    "name": "ipython",
    "version": 3
   },
   "file_extension": ".py",
   "mimetype": "text/x-python",
   "name": "python",
   "nbconvert_exporter": "python",
   "pygments_lexer": "ipython3",
   "version": "3.12.3"
  }
 },
 "nbformat": 4,
 "nbformat_minor": 2
}
