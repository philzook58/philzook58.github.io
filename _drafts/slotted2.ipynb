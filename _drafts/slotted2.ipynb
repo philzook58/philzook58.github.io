{
 "cells": [
  {
   "cell_type": "markdown",
   "id": "5ce018c4",
   "metadata": {},
   "source": []
  },
  {
   "cell_type": "markdown",
   "id": "7de6e6fd",
   "metadata": {},
   "source": [
    "https://egraphs.zulipchat.com/#narrow/channel/328972-general/topic/EGRAPHS.20Meeting.202025-03-20.3A.20Slotted.20E-Graphs/near/543099882\n",
    "\n",
    "\n",
    "\"Shouldn’t f(X, Y) = zero imply f(X,X) = zero?\n",
    "\n",
    "In FO this implication holds. But in slotted and nominal (correct me if I'm wrong) it does not.\n",
    "And with Zero I meant the number constant, so zeroif you prefer.\n",
    "\n",
    "By the FO embedding I mentioned above, f(X, Y) = zero would be embedded as ∀X, Y: X != Y -> f(X, Y) = zero,\n",
    "from which you can't get f(X,X) = zero.\n",
    "\"\n",
    "\n",
    "\"Rudi Schneider: Based on your stratified EPR idea:\n",
    "Maybe one can faithfully embed a slotted equation (eg. f(X, Y) = g(Y, X)) into multi-sorted FO\n",
    "simply as ∀ X, Y: Slot,  X != Y -> f(X,Y) = g(Y,X).Rudi Schneider: \n",
    "You seemed to think some restriction on the unification occuring during knuth bendix might be necessary?\n",
    "\n",
    "Yep, another reason to have the \"bijective renaming\" constraint that I mentioned before, is that otherwise\n",
    "∀ x, y, a, b:  λx. λy. x = λa. λb. a would imply\n",
    "∀ x, y, a: λx. λy. x = λa. λa. a which is unsound for typical binders.\n",
    "\"\n",
    "\n",
    "\n",
    "stratified knuth bendix. If variables only appear in a previous sort compared to the sort that occurs in the `=`\n",
    "\n",
    " Also all function symbols go from equal or lower sorts. T0 -> T1 -> T1 is ok, T2 -> T1 is not.\n",
    "\n",
    "Related to \"towers\" idea?\n",
    "\n",
    "\n",
    "Encoding nominal to vampire or eprover\n",
    "\n",
    "\n",
    "Could i use my knut bendix. Make it unfailing?\n",
    "Backwards and forwards subsumptions\n",
    "\n",
    "Just blast all permutations and narrowings?\n",
    "\n",
    "\n"
   ]
  },
  {
   "cell_type": "code",
   "execution_count": 1,
   "id": "57a47be8",
   "metadata": {},
   "outputs": [],
   "source": [
    "from kdrag.solvers import kb"
   ]
  },
  {
   "cell_type": "markdown",
   "id": "73d79188",
   "metadata": {},
   "source": [
    "## slotted union find\n",
    "Monomial Tensor Knuth Bendix\n",
    "a(i,j) = b(j) \n",
    "a(i,j) = a(j,i) \n",
    "a(j,j) = b(j) \n",
    "a(i,j) = c(j,i)\n",
    "\n",
    "a compact\n",
    "\n",
    "equlity is symmettricand set like\n",
    "\n",
    "{a(i,j), b(j)} canonize this set.\n",
    "\n",
    "It’s very evocative of superposition / knuth bendix, but variables aren’t Unification variables. They are rigid. ??? Is that true?\n",
    "\n",
    "Maybe I don’t want to canonize atoms out of context of the equality. There is almost no point? If we fuse the two renamings, we get a permutation\n",
    "\n",
    "The group/groupoid union find\n",
    "\n",
    "inequality union find arguably maybe only one direction should be allow? Eh. Nah a(i,j) -> b(j)\n",
    "\n",
    "def union()\n",
    "\n",
    "We need to look up the canonical form of the atom\n",
    "\n",
    "subsumptive matching. subsumptive uf = Inequality union find + variant union find\n",
    "\n",
    "There is an implicit up set in terms of all narrowings.\n",
    "\n",
    "\n",
    "summation, forall, and constacts\n",
    "rigid,   substitutable, and constants\n",
    "\n",
    "It isn't about the slotted atoms being single layer so much as it is about them being stratified. There should be no recursive structure in the thing.\n",
    "\n",
    "`a(X,Y) = b(Y)`  will always knuth bendix complete because there can't be non trivial overlaps more interesting than those that occur in ground case.\n",
    "\n",
    "a(i(X)) = b(j(X)) is also fine because the j and such are fine.\n",
    "Huh. Is that a slotted egraph then? Uhhhh.\n",
    "\n",
    "`a(e(i,j), e(k,m))`\n",
    "\n",
    "\n",
    "sum([i,j], a(i,j,m)) == sum([k], b(k,m))\n",
    "Hmm. No sum as model of rigid doesn't make much sense.\n",
    "\n",
    "- Lambda\n",
    "- Integrals\n",
    "- Einstein - forall, summed, 0\n",
    "\n",
    "foirall can be lowered to sum. Inequality union find-like\n",
    "\n",
    "We can enumerate all narrowins and generalizations\n",
    "\n",
    "stratified knuth bendix is analog of epr (a stratified typing discipline). There is an upper bound on possible overlaps we'll ever find.\n",
    "We can normalize lowest layer first, then this is stable.\n",
    "\n",
    "forall x, a(x) = b(x) goes above equality\n",
    "sum x a (x) = sum y b(y) goes below equality\n",
    "\n",
    "Analog of the  rename, shape view for sets is (perm, ordlist) pair. Dropping perm is sometimes what you want, to quotient. Sometimes not. Multiset. Hmm. The dedups?\n",
    "\n",
    "Equality ids and shape ids.\n",
    "shape -> \"perm\", shape is particular punning choice were eqid\n",
    "a(i) = b(j) is tiny two level alpha hash tree \n",
    "\n",
    "They just don't feel like permutations.\n",
    "\n",
    "Some kind of baked in saturation algorithm for a union find dict.\n",
    "\n",
    "But consider even deduplicating an alpha binary relation.\n",
    "\n",
    "\n",
    "two kinds of alpha ids.\n",
    "class ForAllId():\n",
    "class SumId():\n",
    "\n",
    "Could have a Sign group  shape -> rename, sign, shape\n",
    "levi civita, anti symmettry. Kind of nice.\n",
    "\n",
    "https://einx.readthedocs.io/en/stable/faq/universal.html\n",
    "\n",
    "Hmm. Kind of intriguing. I think if you have a sort stratified equations (an ordering on your sorts such that all function symbols only go from lower sort to higher sort) knuth bendix ought to work in some sense. This is by analogy with EPR and datalog\n",
    "There's only so many symbols to work with and overlaps are highly constrained in possibility\n",
    "Maybe this is exactly EPR?\n",
    "But like EPR with an equational focus \n",
    "effectively propsitional reasoning.  https://microsoft.github.io/ivy/decidability.html\n",
    "stratified terms are kind of interesting as another fragment besides ground terms that is decidable\n",
    "But is still like an extensible class of systems\n",
    "Knuth bendix could still fail, but some kind of unfailing variation ought to terminate / saturate\n",
    "c(X) = c(Y) seems like a perfectly legit equation that obviously can't be oriented. Also f(X,Y) = f(Y,X)\n",
    "Since epr is solvable by basically grounding it, maybe this is in some sense ground equations in disguise. Feels a little different though\n",
    "\n",
    "skoelmization... Could produce a new symbol... Hmm. (slotted) eids?\n",
    "e(X,Y) = f(e(,), e())\n",
    "var(X) terminates. var have no equatations.\n",
    "\n",
    "e(X) = var(X)\n",
    "or\n",
    "e(X) <- f(e(X),e(X),e(X))\n",
    "+\n",
    "e(X,Y) = e(Z,W). Sloted union find on it's own... Hmm.\n",
    "\n",
    "THe many equations correspond to the groups at the top. Not so sure that they are groups really though.\n",
    "\n",
    "\n",
    "forall x, exists e, ...\n",
    "forall x, lambda e, ...\n",
    "\n",
    "Could store e(X,Y) = e(Z) stuff to be insta saturated (baked in theory) by rebuilding\n",
    "\n",
    "What does a \"solution\" to e(X,Y) = e(Z) look like since it can't be completed?\n",
    "a ground rewrite system?\n",
    "a set of terms system?\n",
    "\n",
    "\n"
   ]
  },
  {
   "cell_type": "code",
   "execution_count": null,
   "id": "340b8ed9",
   "metadata": {},
   "outputs": [],
   "source": [
    "%%file /tmp/kb.p\n",
    "cnf(ax1, a(e1(X,Y)) = e3(X,Y)).\n",
    "cnf(ax1, a(e1(X,Y)) = e3(X,Y)).\n",
    "cnf(ax1, a(e1(X,Y)) = e3(X,Y)).\n",
    "cnf(goal, true != false)."
   ]
  },
  {
   "cell_type": "code",
   "execution_count": 33,
   "id": "f3ee042f",
   "metadata": {},
   "outputs": [
    {
     "name": "stdout",
     "output_type": "stream",
     "text": [
      "Overwriting /tmp/kb.p\n"
     ]
    }
   ],
   "source": [
    "%%file /tmp/kb.p\n",
    "cnf(ax1, axiom, a(I,J) = b(I,I)).\n",
    "cnf(ax1, axiom, a(I,J) = a(J,I)).\n",
    "cnf(ax2, axiom, true != false)."
   ]
  },
  {
   "cell_type": "code",
   "execution_count": 34,
   "id": "89a08315",
   "metadata": {},
   "outputs": [
    {
     "name": "stdout",
     "output_type": "stream",
     "text": [
      "Here is the input problem:\n",
      "  Axiom 1 (ax1): a(X, Y) = b(X, X).\n",
      "  Axiom 2 (ax1): a(X, Y) = a(Y, X).\n",
      "  Goal 1 (ax2): true = false.\n",
      "\n",
      "1. a(X, ?) = b(X, X)\n",
      "2. a(X, Y) ~> a(X, ?)\n",
      "3. a(X, ?) ~> a(?, ?)\n",
      "4. b(X, X) ~> b(?, ?)\n",
      "\n",
      "Ran out of critical pairs. This means the conjecture is not true.\n",
      "Here is the final rewrite system:\n",
      "  a(X, Y) ~> a(X, ?)\n",
      "  a(X, ?) ~> a(?, ?)\n",
      "  a(?, ?) -> b(?, ?)\n",
      "  b(X, X) ~> b(?, ?)\n",
      "\n",
      "RESULT: Satisfiable (the axioms are consistent).\n"
     ]
    }
   ],
   "source": [
    "! twee /tmp/kb.p "
   ]
  },
  {
   "cell_type": "markdown",
   "id": "0fec4041",
   "metadata": {},
   "source": [
    "And then run to knuth bendix totality. Using twee or whatnot. Rudi sent me something like like? No that was during dinner chat right?"
   ]
  },
  {
   "cell_type": "code",
   "execution_count": null,
   "id": "db9d9895",
   "metadata": {},
   "outputs": [
    {
     "name": "stdout",
     "output_type": "stream",
     "text": [
      "{('a', 0): ({0: 0}, ('b', 0))}\n",
      "('b', 'j')\n",
      "{('a', 0): ({0: 0}, ('b', 0)), ('b', 0): ({0: 1}, ('b', 0))}\n",
      "('b', 'j')\n",
      "{('a', 0, 1): ({0: 0, 1: 1}, ('b', 0, 1))}\n",
      "{('a', 0, 1): ({0: 0, 1: 1}, ('b', 0, 1)), ('b', 0, 1): ({0: 1, 1: 0}, ('b', 0, 1))}\n",
      "{('a', 0, 0): ({0: 0, 1: 1}, ('a', 0, 1))}\n"
     ]
    }
   ],
   "source": [
    "type name = str\n",
    "type uatom = tuple[str, name, ...]\n",
    "type shape = tuple[str, int, ...]\n",
    "type catom = tuple[rename, shape]\n",
    "def unname(uatom) -> catom:\n",
    "    env = {}\n",
    "    inds = []\n",
    "    for x in uatom[1:]:\n",
    "        if x not in env:\n",
    "            env[x] = len(env)\n",
    "        inds.append(env[x])\n",
    "    return env, (uatom[0], *inds)\n",
    "def to_atom(catom) -> uatom:\n",
    "    rename, shape = catom\n",
    "    env = {n : x for x,n in rename.items()}\n",
    "    names = [env[i] for i in shape[1:]]\n",
    "    return (shape[0], *names)\n",
    "\n",
    "\n",
    "type perm = dict[int, int]\n",
    "uf : dict[shape, tuple[perm, shape]] = {}\n",
    "perms = {}\n",
    "def find(x : uatom) -> catom:\n",
    "    rename, shape = unname(x)\n",
    "    seen = set()\n",
    "    while shape in uf and shape not in seen:\n",
    "        perm, shape = uf[shape]\n",
    "        seen.add(shape)\n",
    "        rename = {k : perm[v] for k,v in rename.items() if v in perm}\n",
    "    return to_atom((rename, shape))\n",
    "\n",
    "def union(x : uatom, y : uatom):\n",
    "    x = find(x)\n",
    "    y = find(y)\n",
    "    if x != y:\n",
    "        env, sx = unname(x)\n",
    "        rename, sy = unname(y)\n",
    "        perm = {}\n",
    "        for x,i in sorted(rename.items(), key=lambda x:x[1]):\n",
    "            if x not in env:\n",
    "                env[x] = len(env)\n",
    "            perm[i] = env[x]\n",
    "        uf[sx] = (perm, sy)\n",
    "\n",
    "def a(*args): return ('a', *args)\n",
    "def b(*args): return ('b', *args)\n",
    "def c(*args): return ('c', *args)\n",
    "i,j,k,l = \"i j k l\".split()\n",
    "\n",
    "union(a(i), b(i))\n",
    "print(uf)\n",
    "print(find(a(j)))\n",
    "union(a(j), b(i)) # non trivial self loop... hmm\n",
    "print(uf)\n",
    "print(find(a(j)))\n",
    "uf = {}\n",
    "\n",
    "union(a(i,j), b(i,j))\n",
    "print(uf)\n",
    "union(a(j,i), a(i,j)) \n",
    "print(uf)\n",
    "find(b(l, k))\n",
    "find(b(k, l))\n",
    "\n",
    "\n",
    "uf = {}\n",
    "union(a(i,i), a(i,j))\n",
    "print(uf)\n",
    "\n",
    "union(a(i,j) , a(i, k)) # no obviosly oreitable to greater or lesser\n",
    " "
   ]
  },
  {
   "cell_type": "markdown",
   "id": "fbacdce0",
   "metadata": {},
   "source": [
    "# knuth bendix\n",
    "\n",
    "a(X) = a(Y) can never be oriented... Hmm.\n",
    "\n",
    "a(X,Y) = b(X) can only possibly be oriented to b\n",
    "\n",
    "a(X,Y) = a(Y,X) is commutastivity. It can't be oreitned either\n",
    "\n",
    "\n",
    "a(i,j) = a(j,i)\n",
    "\n",
    "a(i) = a(j)\n",
    "a(i,j) = b(i)\n",
    "\n",
    "\n",
    "Wait but in the summation model\n",
    "a(i,j) = b(k)   nothing is shared between.\n",
    "\n"
   ]
  },
  {
   "cell_type": "code",
   "execution_count": null,
   "id": "229c4c1b",
   "metadata": {},
   "outputs": [],
   "source": [
    "{\"a\" : {(0,1) : (\"b\", (0,1))}}"
   ]
  },
  {
   "cell_type": "code",
   "execution_count": null,
   "id": "6a638e18",
   "metadata": {},
   "outputs": [],
   "source": [
    "from typing import NamedEnum\n",
    "\n",
    "class Var(NamedEnum):\n",
    "    name : object\n",
    "class SumInd(NamedEnum):\n",
    "    name : object\n",
    "class Const(NamedEnum):\n",
    "    value : int\n",
    "\n"
   ]
  },
  {
   "cell_type": "code",
   "execution_count": null,
   "id": "986efa88",
   "metadata": {},
   "outputs": [],
   "source": [
    "\n",
    "\n",
    "\n"
   ]
  },
  {
   "cell_type": "markdown",
   "id": "146820f9",
   "metadata": {},
   "source": [
    "# Modular Hash Cons\n",
    "\n",
    "classes ~ modules\n",
    "\n",
    "but it isn't type safe.\n",
    "\n",
    "Make a bdd\n",
    "\n"
   ]
  },
  {
   "cell_type": "code",
   "execution_count": null,
   "id": "029cb661",
   "metadata": {},
   "outputs": [
    {
     "name": "stdout",
     "output_type": "stream",
     "text": [
      "here\n",
      "hash ('a', 1, 2)\n",
      "hash ('a', 1, 2)\n",
      "there\n"
     ]
    },
    {
     "name": "stderr",
     "output_type": "stream",
     "text": [
      "<>:32: SyntaxWarning: \"is\" with 'tuple' literal. Did you mean \"==\"?\n",
      "<>:32: SyntaxWarning: \"is\" with 'tuple' literal. Did you mean \"==\"?\n",
      "/tmp/ipykernel_579529/1809799814.py:32: SyntaxWarning: \"is\" with 'tuple' literal. Did you mean \"==\"?\n",
      "  a is (\"a\", 1, 2)\n"
     ]
    }
   ],
   "source": [
    "\n"
   ]
  },
  {
   "cell_type": "code",
   "execution_count": null,
   "id": "c6e14b3d",
   "metadata": {},
   "outputs": [
    {
     "data": {
      "text/plain": [
       "array([ITE(var='a0', left=Const(val=True), right=Const(val=False)),\n",
       "       ITE(var='a1', left=Const(val=True), right=Const(val=False)),\n",
       "       ITE(var='a2', left=Const(val=True), right=Const(val=False)),\n",
       "       ITE(var='a3', left=Const(val=True), right=Const(val=False)),\n",
       "       ITE(var='a4', left=Const(val=True), right=Const(val=False)),\n",
       "       ITE(var='a5', left=Const(val=True), right=Const(val=False)),\n",
       "       ITE(var='a6', left=Const(val=True), right=Const(val=False)),\n",
       "       ITE(var='a7', left=Const(val=True), right=Const(val=False))],\n",
       "      dtype=object)"
      ]
     },
     "execution_count": 84,
     "metadata": {},
     "output_type": "execute_result"
    }
   ],
   "source": [
    "\n",
    "\n",
    "\n",
    "\n",
    "\n",
    "\n"
   ]
  },
  {
   "cell_type": "code",
   "execution_count": null,
   "id": "b6b627be",
   "metadata": {},
   "outputs": [
    {
     "data": {
      "text/plain": [
       "ITE(var='x1', left=Const(val=True), right=Const(val=False))"
      ]
     },
     "execution_count": 37,
     "metadata": {},
     "output_type": "execute_result"
    }
   ],
   "source": []
  },
  {
   "cell_type": "code",
   "execution_count": null,
   "id": "a6201ac6",
   "metadata": {},
   "outputs": [
    {
     "name": "stdout",
     "output_type": "stream",
     "text": [
      "done\n"
     ]
    },
    {
     "data": {
      "text/plain": [
       "3"
      ]
     },
     "execution_count": 40,
     "metadata": {},
     "output_type": "execute_result"
    }
   ],
   "source": [
    "x1 & x2\n",
    "print(\"done\")\n",
    "x1 & x2\n",
    "len(x1 & x2)"
   ]
  },
  {
   "cell_type": "code",
   "execution_count": null,
   "id": "731cb485",
   "metadata": {},
   "outputs": [],
   "source": []
  },
  {
   "cell_type": "code",
   "execution_count": null,
   "id": "67df4ed4",
   "metadata": {},
   "outputs": [],
   "source": [
    "        if isinstance(other, bool):\n",
    "            left = self.left & other\n",
    "            right = self.right & other\n",
    "            if left == right:\n",
    "                return left\n",
    "            else:\n",
    "                return ITE(self.var, left, right)\n",
    "        elif isinstance(other, ITE):\n",
    "            if other.var == self.var:\n",
    "                left = self.left.liftA2(op, other.left)\n",
    "                right = self.right & other.right\n",
    "                if left == right:\n",
    "                    return left\n",
    "                else:\n",
    "                    return ITE(self.var, left, right)"
   ]
  },
  {
   "cell_type": "markdown",
   "id": "e3b006b9",
   "metadata": {},
   "source": []
  },
  {
   "cell_type": "code",
   "execution_count": null,
   "id": "599fc1dc",
   "metadata": {},
   "outputs": [],
   "source": [
    "\n"
   ]
  },
  {
   "cell_type": "code",
   "execution_count": null,
   "id": "3a66785f",
   "metadata": {},
   "outputs": [
    {
     "name": "stdout",
     "output_type": "stream",
     "text": [
      "hash ('a', 1, 2)\n"
     ]
    },
    {
     "data": {
      "text/plain": [
       "(('a', 1, 2),)"
      ]
     },
     "execution_count": 28,
     "metadata": {},
     "output_type": "execute_result"
    }
   ],
   "source": []
  },
  {
   "cell_type": "code",
   "execution_count": null,
   "id": "6be65820",
   "metadata": {},
   "outputs": [],
   "source": [
    "table = {}\n",
    "def hashcons(x : tuple[...]) -> tuple[...]:\n",
    "    \"\"\"\n",
    "    hashcons returns the actual memory of a canonical tuple assuming that all subterms have already been hashconsed.\n",
    "    Now one can use `is` to compare canonical terms for equality, which is pointer equality and fast.\n",
    "    \"\"\"\n",
    "    assert isinstance(x, tuple)\n",
    "    key = tuple(id(t) if isinstance(t, tuple) else t for t in x) # avoids recursion into inner tuples during hashing and equality check internal to table.get\n",
    "    res = table.get(key)\n",
    "    if res is None:\n",
    "        table[key] = x\n",
    "        return x\n",
    "    return res"
   ]
  }
 ],
 "metadata": {
  "kernelspec": {
   "display_name": "philzook58.github.io",
   "language": "python",
   "name": "python3"
  },
  "language_info": {
   "codemirror_mode": {
    "name": "ipython",
    "version": 3
   },
   "file_extension": ".py",
   "mimetype": "text/x-python",
   "name": "python",
   "nbconvert_exporter": "python",
   "pygments_lexer": "ipython3",
   "version": "3.12.3"
  }
 },
 "nbformat": 4,
 "nbformat_minor": 5
}
