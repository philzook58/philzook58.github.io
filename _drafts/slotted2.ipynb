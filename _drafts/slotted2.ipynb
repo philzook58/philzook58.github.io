{
 "cells": [
  {
   "cell_type": "markdown",
   "id": "5ce018c4",
   "metadata": {},
   "source": []
  },
  {
   "cell_type": "markdown",
   "id": "73d79188",
   "metadata": {},
   "source": [
    "## slotted union find\n",
    "Monomial Tensor Knuth Bendix\n",
    "a(i,j) = b(j) \n",
    "a(i,j) = a(j,i) \n",
    "a(j,j) = b(j) \n",
    "a(i,j) = c(j,i)\n",
    "\n",
    "a compact\n",
    "\n",
    "equlity is symmettricand set like\n",
    "\n",
    "{a(i,j), b(j)} canonize this set.\n",
    "\n",
    "It’s very evocative of superposition / knuth bendix, but variables aren’t Unification variables. They are rigid. ??? Is that true?\n",
    "\n",
    "Maybe I don’t want to canonize atoms out of context of the equality. There is almost no point? If we fuse the two renamings, we get a permutation\n",
    "\n",
    "The group/groupoid union find\n",
    "\n",
    "inequality union find arguably maybe only one direction should be allow? Eh. Nah a(i,j) -> b(j)\n",
    "\n",
    "def union()\n",
    "\n",
    "We need to look up the canonical form of the atom\n",
    "\n",
    "subsumptive matching. subsumptive uf = Inequality union find + variant union find\n",
    "\n",
    "There is an implicit up set in terms of all narrowings.\n",
    "\n",
    "\n",
    "summation, forall, and constacts\n",
    "rigid,   substitutable, and constants\n",
    "\n",
    "It isn't about the slotted atoms being single layer so much as it is about them being stratified. There should be no recursive structure in the thing.\n",
    "\n",
    "`a(X,Y) = b(Y)`  will always knuth bendix complete because there can't be non trivial overlaps more interesting than those that occur in ground case.\n",
    "\n",
    "a(i(X)) = b(j(X)) is also fine because the j and such are fine.\n",
    "Huh. Is that a slotted egraph then? Uhhhh.\n",
    "\n",
    "`a(e(i,j), e(k,m))`\n",
    "\n",
    "\n",
    "sum([i,j], a(i,j,m)) == sum([k], b(k,m))\n",
    "Hmm. No sum as model of rigid doesn't make much sense.\n"
   ]
  },
  {
   "cell_type": "code",
   "execution_count": null,
   "id": "340b8ed9",
   "metadata": {},
   "outputs": [],
   "source": [
    "cnf(ax1, a(e1(X,Y)) = e3(X,Y)).\n",
    "cnf(ax1, a(e1(X,Y)) = e3(X,Y)).\n",
    "cnf(ax1, a(e1(X,Y)) = e3(X,Y))."
   ]
  },
  {
   "cell_type": "markdown",
   "id": "0fec4041",
   "metadata": {},
   "source": [
    "And then run to knuth bendix totality. Using twee or whatnot. Rudi sent me something like like? No that was during dinner chat right?"
   ]
  },
  {
   "cell_type": "code",
   "execution_count": null,
   "id": "db9d9895",
   "metadata": {},
   "outputs": [],
   "source": [
    "type uatom = tuple[str, names, ...]\n",
    "type shape = tuple[str, int, ...]\n",
    "type catom = tuple[rename, shape]\n",
    "def unname(uatom) -> catom:\n",
    "    env = {}\n",
    "    inds = []\n",
    "    for x in uatom[1:]:\n",
    "        if x not in env:\n",
    "            env[x] = len(env)\n",
    "        inds.append(env[x])\n",
    "    return env, (uatom[0], *inds)\n",
    "def to_atom(catom) -> uatom:\n",
    "    rename, shape = catom\n",
    "    env = {n : x for x,n in rename.items()}\n",
    "    names = [env[i] for i in shape[1:]]\n",
    "    return (shape[0], *names)\n",
    "\n",
    "\n",
    "uf = {}\n",
    "def find(x : uatom) -> catom:\n",
    "    rename, shape = unname(x)\n",
    "    while shape in uf:\n",
    "        perm, shape = uf[shape]\n",
    "        rename = {k : perm[v] for k,v in rename.items() if v in perm}\n",
    "    return to_atom((rename, shape))\n",
    "\n",
    "def union(x : uatom, y : uatom):\n",
    "    x = find(x)\n",
    "    y = find(y)\n",
    "    if x != y:\n",
    "        rx, sx = unname(x)\n",
    "        ry, sy = unname(y)"
   ]
  }
 ],
 "metadata": {
  "kernelspec": {
   "display_name": "philzook58.github.io",
   "language": "python",
   "name": "python3"
  },
  "language_info": {
   "name": "python",
   "version": "3.12.3"
  }
 },
 "nbformat": 4,
 "nbformat_minor": 5
}
