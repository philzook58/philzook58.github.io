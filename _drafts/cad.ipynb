{
 "cells": [
  {
   "cell_type": "markdown",
   "id": "03ccdca6",
   "metadata": {},
   "source": [
    "https://github.com/fogleman/sdf\n",
    "https://github.com/fogleman\n",
    "https://www.michaelfogleman.com/projects/\n",
    "\n",
    "https://www.mattkeeter.com/\n",
    "https://www.mattkeeter.com/projects/fidget/\n",
    "https://mattkeeter.com/projects/kokopelli\n",
    "https://libfive.com/\n",
    "\n",
    "https://github.com/libfive/libfive\n",
    "https://github.com/openscad/openscad/\n",
    "\n",
    "https://www.cs.cmu.edu/~kmcrane/index.html#teaching\n",
    "https://mathstodon.xyz/@keenancrane/114501180005588569 monte cartlo dissretation\n",
    "https://rohan-sawhney.github.io/mcgp-resources/ Resources on Monte Carlo Geometry Processing\n",
    "https://www.youtube.com/watch?v=cmgNqCwaPYc&ab_channel=RohanSawhney\n",
    "\n",
    "\n",
    "\n",
    "https://lobste.rs/s/i84ous/fornjot_early_stage_b_rep_cad_kernel \n",
    "https://github.com/elalish/manifold \n",
    "https://github.com/elalish/manifold/wiki/Manifold-Library#road-map\n",
    "https://github.com/google/model-viewer\n",
    "\n",
    "https://github.com/elalish/manifold/blob/master/docs/RobustBoolean.pdf julian smityh thesis\n",
    "\n",
    "https://github.com/gumyr/build123d\n",
    "https://github.com/bernhard-42/vscode-ocp-cad-viewer\n",
    "\n",
    "https://github.com/DSchroer/dslcad"
   ]
  }
 ],
 "metadata": {
  "language_info": {
   "name": "python"
  }
 },
 "nbformat": 4,
 "nbformat_minor": 5
}
