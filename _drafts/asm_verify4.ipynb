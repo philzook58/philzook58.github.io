{
 "cells": [
  {
   "cell_type": "markdown",
   "id": "2a3f8f76",
   "metadata": {},
   "source": [
    "Battle Plan:\n",
    "\n",
    "\n",
    "\n",
    "\n",
    "\n",
    "\n",
    "Done:\n",
    "- allow easier python specdefinition\n",
    "- %reg syntax for cool inline asm demos\n",
    "- \n",
    "\n",
    "\n",
    "\n",
    "def add_subst\n",
    "def add_state_var\n",
    "def add_cb\n",
    "\n",
    "\n",
    "syscalls?\n",
    "\n",
    "\n",
    "Interrupt preludes\n",
    "It got a lot slower?\n",
    "pi pico\n",
    "More examples from frama-c, s2n-bignum\n",
    "simd\n",
    "reads/writes\n",
    "kd_always. Some interrupt bug?\n",
    "\n",
    "Change register names to enable true inline assembly.\n",
    "\n",
    "Can I use unicorn to validate against that easily?\n",
    "\n",
    "\n",
    "spacer? I'd be shocked if useful.\n",
    "\n",
    "\n",
    "\n",
    "sizex <= x - y <= -sizey \\/  sizey <= y - x <= -sizex\n",
    "\n",
    "We can say exactly when the or happens\n",
    "if x > y \n",
    "then\n",
    "    sizey <= x - y <= -sizex\n",
    "else\n",
    "    sizey <= y - x <= -sizex\n",
    "\n",
    "inequality and addition / diff son't play the same as the ints.\n",
    "\n",
    "https://mcyoung.xyz/2023/11/27/simd-base64/  simd\n",
    "\n",
    "Would I want to state from particular entry? or even address\n",
    "\n",
    "kd_reachable from_label here_label\n",
    "kd_reachable here_label\n",
    "kd_unreachable from_label here_label\n",
    "\n",
    "address expressions. Literal address for label, or `<foo+0x7>` relative addressing. I guess not necessary if this is mainly for textual assembly we have no control over. In that case just use programmatic bindings\n",
    "\n",
    "https://github.com/toolCHAINZ/jingle\n",
    "\n",
    "\n",
    "https://github.com/m4b/goblin  An impish, cross-platform binary parsing crate, written in Rust\n",
    "https://github.com/m4b/bingrep\n",
    "https://github.com/m4b/faerie\n",
    "\n",
    "\n",
    "https://ruor.uottawa.ca/server/api/core/bitstreams/86cc22d7-4517-4744-9cf7-4b1745a6c029/content race conditions and memory models. AMusing because that _is_ what sail is for. Could be fun.\n",
    "\n",
    "https://news.ycombinator.com/item?id=40185065 https://alastairreid.github.io/riscv-spec-issues/\n",
    "https://github.com/riscv/riscv-opcodes just the opcodes\n",
    "\n",
    "https://cs.ru.nl/~mschool/pub/vstte-why3-avr-revised.pdf why3 avr\n",
    "\n",
    "https://antmicro.com/blog/2025/09/girdl-ghidra-renode-integration/ https://github.com/antmicro/girdl pull in svd files? That's a good idea. I doubt I can directly use this"
   ]
  },
  {
   "cell_type": "code",
   "execution_count": null,
   "id": "bda8f708",
   "metadata": {},
   "outputs": [],
   "source": [
    "kd_prelude \"(define-fun nonoverlap ((a (_ BitVec 64)) (sa (_ BitVec 64)) (b (_ BitVec 64)) (sb (_ BitVec 64))))\"\n",
    "kd_prelude \"(define-const bvone (_ bv1 64))\"\n",
    "kd_prelude \"(define-const bvtwo (_ bv2 64))\"\n",
    "kd_prelude \"(define-fun select32 ...)\""
   ]
  },
  {
   "cell_type": "code",
   "execution_count": 18,
   "id": "9ad6307d",
   "metadata": {},
   "outputs": [
    {
     "ename": "LemmaError",
     "evalue": "(Implies(Distinct(x, x + 1, y, y + 1, y + 2),\n        no_overlap(x, 2, y, 3)), 'Countermodel', [y = 18446744073709551613,\n x = 18446744073709551611,\n no_overlap = [else -> False]])",
     "output_type": "error",
     "traceback": [
      "\u001b[31m---------------------------------------------------------------------------\u001b[39m",
      "\u001b[31mLemmaError\u001b[39m                                Traceback (most recent call last)",
      "\u001b[36mCell\u001b[39m\u001b[36m \u001b[39m\u001b[32mIn[18]\u001b[39m\u001b[32m, line 14\u001b[39m\n\u001b[32m      7\u001b[39m maxint = smt.BitVecVal(\u001b[32m2\u001b[39m**\u001b[32m64\u001b[39m-\u001b[32m1\u001b[39m, \u001b[32m64\u001b[39m)\n\u001b[32m      8\u001b[39m no_overlap = kd.define(\u001b[33m\"\u001b[39m\u001b[33mno_overlap\u001b[39m\u001b[33m\"\u001b[39m, [x,sizex,y,sizey], \n\u001b[32m      9\u001b[39m     smt.If( smt.ULE(x,y),\n\u001b[32m     10\u001b[39m        smt.And( smt.ULT(bsizex , y - x), smt.ULE(bsizey, maxint - (y - x))),\n\u001b[32m     11\u001b[39m        smt.And( smt.ULT(bsizey , x - y), smt.ULE(bsizex, maxint - (x - y)))\n\u001b[32m     12\u001b[39m   ))\n\u001b[32m---> \u001b[39m\u001b[32m14\u001b[39m \u001b[43mkd\u001b[49m\u001b[43m.\u001b[49m\u001b[43mprove\u001b[49m\u001b[43m(\u001b[49m\u001b[43msmt\u001b[49m\u001b[43m.\u001b[49m\u001b[43mImplies\u001b[49m\u001b[43m(\u001b[49m\u001b[43msmt\u001b[49m\u001b[43m.\u001b[49m\u001b[43mDistinct\u001b[49m\u001b[43m(\u001b[49m\u001b[43mx\u001b[49m\u001b[43m,\u001b[49m\u001b[43m \u001b[49m\u001b[43mx\u001b[49m\u001b[43m+\u001b[49m\u001b[32;43m1\u001b[39;49m\u001b[43m,\u001b[49m\u001b[43m \u001b[49m\u001b[43my\u001b[49m\u001b[43m,\u001b[49m\u001b[43m \u001b[49m\u001b[43my\u001b[49m\u001b[43m+\u001b[49m\u001b[32;43m1\u001b[39;49m\u001b[43m,\u001b[49m\u001b[43m \u001b[49m\u001b[43my\u001b[49m\u001b[43m+\u001b[49m\u001b[32;43m2\u001b[39;49m\u001b[43m)\u001b[49m\u001b[43m,\u001b[49m\u001b[43m \u001b[49m\u001b[43mno_overlap\u001b[49m\u001b[43m(\u001b[49m\u001b[43mx\u001b[49m\u001b[43m,\u001b[49m\u001b[32;43m2\u001b[39;49m\u001b[43m,\u001b[49m\u001b[43my\u001b[49m\u001b[43m,\u001b[49m\u001b[32;43m3\u001b[39;49m\u001b[43m)\u001b[49m\u001b[43m)\u001b[49m\u001b[43m,\u001b[49m\u001b[43m \u001b[49m\u001b[43munfold\u001b[49m\u001b[43m=\u001b[49m\u001b[32;43m1\u001b[39;49m\u001b[43m)\u001b[49m\n",
      "\u001b[36mFile \u001b[39m\u001b[32m~/Documents/python/knuckledragger/kdrag/tactics.py:286\u001b[39m, in \u001b[36mprove\u001b[39m\u001b[34m(thm, by, admit, timeout, dump, solver, instan, unfold)\u001b[39m\n\u001b[32m    282\u001b[39m         \u001b[38;5;28;01mraise\u001b[39;00m \u001b[38;5;167;01mException\u001b[39;00m(\n\u001b[32m    283\u001b[39m             \u001b[33m\"\u001b[39m\u001b[33mWorked with quantifier stripped. Something is going awry\u001b[39m\u001b[33m\"\u001b[39m, pf\n\u001b[32m    284\u001b[39m         )\n\u001b[32m    285\u001b[39m     \u001b[38;5;28;01melse\u001b[39;00m:\n\u001b[32m--> \u001b[39m\u001b[32m286\u001b[39m         \u001b[38;5;28;01mraise\u001b[39;00m e\n\u001b[32m    287\u001b[39m \u001b[38;5;28;01mexcept\u001b[39;00m \u001b[38;5;167;01mException\u001b[39;00m \u001b[38;5;28;01mas\u001b[39;00m e:\n\u001b[32m    288\u001b[39m     \u001b[38;5;28;01mraise\u001b[39;00m e\n",
      "\u001b[36mFile \u001b[39m\u001b[32m~/Documents/python/knuckledragger/kdrag/tactics.py:264\u001b[39m, in \u001b[36mprove\u001b[39m\u001b[34m(thm, by, admit, timeout, dump, solver, instan, unfold)\u001b[39m\n\u001b[32m    262\u001b[39m         by.append(kd.kernel.prove(thm == thm1, by=trace, timeout=timeout))  \u001b[38;5;66;03m# type: ignore\u001b[39;00m\n\u001b[32m    263\u001b[39m \u001b[38;5;28;01mtry\u001b[39;00m:\n\u001b[32m--> \u001b[39m\u001b[32m264\u001b[39m     pf = \u001b[43mkd\u001b[49m\u001b[43m.\u001b[49m\u001b[43mkernel\u001b[49m\u001b[43m.\u001b[49m\u001b[43mprove\u001b[49m\u001b[43m(\u001b[49m\n\u001b[32m    265\u001b[39m \u001b[43m        \u001b[49m\u001b[43mthm\u001b[49m\u001b[43m,\u001b[49m\u001b[43m \u001b[49m\u001b[43mby\u001b[49m\u001b[43m,\u001b[49m\u001b[43m \u001b[49m\u001b[43mtimeout\u001b[49m\u001b[43m=\u001b[49m\u001b[43mtimeout\u001b[49m\u001b[43m,\u001b[49m\u001b[43m \u001b[49m\u001b[43mdump\u001b[49m\u001b[43m=\u001b[49m\u001b[43mdump\u001b[49m\u001b[43m,\u001b[49m\u001b[43m \u001b[49m\u001b[43msolver\u001b[49m\u001b[43m=\u001b[49m\u001b[43msolver\u001b[49m\u001b[43m,\u001b[49m\u001b[43m \u001b[49m\u001b[43madmit\u001b[49m\u001b[43m=\u001b[49m\u001b[43madmit\u001b[49m\n\u001b[32m    266\u001b[39m \u001b[43m    \u001b[49m\u001b[43m)\u001b[49m\n\u001b[32m    267\u001b[39m     kdrag.config.perf_event(\u001b[33m\"\u001b[39m\u001b[33mprove\u001b[39m\u001b[33m\"\u001b[39m, thm, time.perf_counter() - start_time)\n\u001b[32m    268\u001b[39m     \u001b[38;5;28;01mreturn\u001b[39;00m pf\n",
      "\u001b[36mFile \u001b[39m\u001b[32m~/Documents/python/knuckledragger/kdrag/kernel.py:176\u001b[39m, in \u001b[36mprove\u001b[39m\u001b[34m(thm, by, admit, timeout, dump, solver)\u001b[39m\n\u001b[32m    174\u001b[39m \u001b[38;5;28;01mif\u001b[39;00m res != smt.unsat:\n\u001b[32m    175\u001b[39m     \u001b[38;5;28;01mif\u001b[39;00m res == smt.sat:\n\u001b[32m--> \u001b[39m\u001b[32m176\u001b[39m         \u001b[38;5;28;01mraise\u001b[39;00m LemmaError(thm, \u001b[33m\"\u001b[39m\u001b[33mCountermodel\u001b[39m\u001b[33m\"\u001b[39m, s.model())\n\u001b[32m    177\u001b[39m     \u001b[38;5;28;01mraise\u001b[39;00m LemmaError(\u001b[33m\"\u001b[39m\u001b[33mprove\u001b[39m\u001b[33m\"\u001b[39m, thm, res)\n\u001b[32m    178\u001b[39m \u001b[38;5;28;01melse\u001b[39;00m:\n",
      "\u001b[31mLemmaError\u001b[39m: (Implies(Distinct(x, x + 1, y, y + 1, y + 2),\n        no_overlap(x, 2, y, 3)), 'Countermodel', [y = 18446744073709551613,\n x = 18446744073709551611,\n no_overlap = [else -> False]])"
     ]
    }
   ],
   "source": [
    "from kdrag.all import *\n",
    "\n",
    "x,y = smt.BitVecs(\"x y\", 64)\n",
    "sizex, sizey = smt.Ints(\"sizex, sizey\")\n",
    "bsizex = smt.Int2BV(sizex, 64)\n",
    "bsizey = smt.Int2BV(sizey, 64)\n",
    "maxint = smt.BitVecVal(2**64-1, 64)\n",
    "no_overlap = kd.define(\"no_overlap\", [x,sizex,y,sizey], \n",
    "    smt.If( smt.ULE(x,y),\n",
    "       smt.And( smt.ULT(bsizex , y - x), smt.ULE(bsizey, maxint - (y - x))),\n",
    "       smt.And( smt.ULT(bsizey , x - y), smt.ULE(bsizex, maxint - (x - y)))\n",
    "  ))\n",
    "\n",
    "kd.prove(smt.Implies(smt.Distinct(x, x+1, y, y+1, y+2), no_overlap(x,2,y,3)), unfold=1)\n",
    "\n"
   ]
  },
  {
   "cell_type": "code",
   "execution_count": 17,
   "id": "f0061cc9",
   "metadata": {},
   "outputs": [
    {
     "data": {
      "text/plain": [
       "18446744073709551615"
      ]
     },
     "execution_count": 17,
     "metadata": {},
     "output_type": "execute_result"
    }
   ],
   "source": [
    "2**64-1"
   ]
  },
  {
   "cell_type": "markdown",
   "id": "efa9bcb0",
   "metadata": {},
   "source": [
    "# TraceFragmentBundle\n",
    "\n",
    "It's interesting to be able to run code to use in specs\n",
    "\n",
    "list[TraceBundleFragment] could be the return type of run_all_paths. Collected up by common entry or\n",
    "\n",
    "\n"
   ]
  },
  {
   "cell_type": "code",
   "execution_count": null,
   "id": "7a90b82a",
   "metadata": {},
   "outputs": [],
   "source": [
    "@dataclass\n",
    "class TraceFragmentBundle:\n",
    "    \"\"\"\n",
    "    A bundle is a set of pathways\n",
    "    \"\"\"\n",
    "    start_addr : int # all at same start addr? Not necesarily all end at same exit addr\n",
    "    ctx : pcode.BinaryContext\n",
    "    args : # or is args a mapping from initial ghost state? #list[smt.ExprRef] # ghost vars?\n",
    "    vcs: list[VerificationCondition]\n",
    "    rets : list[smt.ExprRef] # ghost vars?\n",
    "\n",
    "    @staticmethod\n",
    "    def from_entry_exit(ctx: pcode.BinaryContext, entry_addr: int, exit_addr: int):\n",
    "        spec = AsmSpec()\n",
    "        spec.add_entry(\"entry\", entry_addr, smt.BoolVal(True))\n",
    "        spec.add_exit(\"exit\", exit_addr, smt.BoolVal(True))\n",
    "        return TraceFragmentBundle(ctx, run_all_paths(ctx, spec))\n",
    "\n",
    "    def __call__(self, memstate : pcode.MemState) -> smt.BoolRef:\n",
    "        \"\"\"\n",
    "        The bundle considered as a Function.\n",
    "        Joined together.\n",
    "\n",
    "        \"\"\"\n",
    "        # But a function from ghost to ghost or from memstate to memstate? or memstate to ghost?\n",
    "        acc = memstate.Const(\"undef\", bits=ctx.bits)\n",
    "        for vc in vcs:\n",
    "            smt.If(vc.path_cond, vc.memstate, acc)\n",
    "        return acc"
   ]
  },
  {
   "cell_type": "markdown",
   "id": "5db86c95",
   "metadata": {},
   "source": [
    "# compile aexpr\n",
    "\n",
    "type aexpr = I64 i64 | Add aexpr aexpr\n",
    "eval(compile(e)) == \n",
    "\n",
    "Or even a model of some kind of hack\n",
    "\n",
    "virtual machine\n",
    "\n",
    "\n",
    "I kind of did the conrete version\n",
    "\n",
    "\n",
    "But the btecode interpreter version is interesting.\n",
    "\n",
    "\n",
    "\n",
    "\n"
   ]
  },
  {
   "cell_type": "markdown",
   "id": "cbe942ce",
   "metadata": {},
   "source": [
    "# memset\n",
    "interpreted memset\n",
    "\n",
    "Swtich on type is also intereting.\n",
    "Interpreter\n",
    "\n",
    "\n",
    "Is this overwrought compared to what we have to do though?\n",
    "\n",
    "type MemLang = SetList list (addr * value) | SetMany int addr value (* iterate the construction *)\n",
    "\n",
    "do finite  unroll\n",
    "\n",
    "Compare to my high level versions? Output of ocmpiler\n",
    "oct 7 demo\n",
    "\n",
    "get riscv32 toolchain in ci\n",
    "\n",
    "get small snippets\n",
    "\n",
    "\n",
    "\n",
    "\n"
   ]
  },
  {
   "cell_type": "code",
   "execution_count": 130,
   "id": "bfd2de73",
   "metadata": {},
   "outputs": [
    {
     "name": "stdout",
     "output_type": "stream",
     "text": [
      "Overwriting /tmp/mymemset.s\n"
     ]
    }
   ],
   "source": [
    "%%file /tmp/mymemset.s\n",
    "\n",
    "# kd_entry mymemset \"true\"\n",
    "\n",
    ".globl mymemset\n",
    "mymemset:\n",
    "    lw t1, 0(a0) # load dst ptr\n",
    "    lw t2, 4(a0) # load value\n",
    "    lw t3, 8(a0) # load length\n",
    "    sw t2, 0(t1) # store value\n",
    "    ret"
   ]
  },
  {
   "cell_type": "code",
   "execution_count": 131,
   "id": "014ad8dd",
   "metadata": {},
   "outputs": [
    {
     "name": "stdout",
     "output_type": "stream",
     "text": [
      "\n",
      "/tmp/mymemset.o:     file format elf32-littleriscv\n",
      "\n",
      "\n",
      "Disassembly of section .text:\n",
      "\n",
      "00000000 <mymemset>:\n",
      "   0:\t00052303          \tlw\tt1,0(a0)\n",
      "   4:\t00452383          \tlw\tt2,4(a0)\n",
      "   8:\t00852e03          \tlw\tt3,8(a0)\n",
      "   c:\t00732023          \tsw\tt2,0(t1)\n",
      "  10:\t00008067          \tret\n"
     ]
    }
   ],
   "source": [
    "! nix-shell -p pkgsCross.riscv32-embedded.buildPackages.gcc --run \"riscv32-none-elf-as /tmp/mymemset.s -o /tmp/mymemset.o && riscv32-none-elf-objdump -d /tmp/mymemset.o\""
   ]
  },
  {
   "cell_type": "code",
   "execution_count": null,
   "id": "b3bd8353",
   "metadata": {},
   "outputs": [
    {
     "name": "stdout",
     "output_type": "stream",
     "text": [
      "conmsts\n",
      "don\n",
      "Executing SpecStmt: Assign(label='mymemset', addr=4194304, name='dst', expr=ram32[a0])\n",
      "conmsts\n",
      "don\n",
      "Executing SpecStmt: Assign(label='mymemset', addr=4194304, name='value', expr=ram32[a0 + 4])\n",
      "conmsts\n",
      "don\n",
      "Executing 0x400000/4: lw t1,0x0(a0) at (4194304, 0) PCODE IMARK ram[400000:4]\n",
      "Executing 0x400000/4: lw t1,0x0(a0) at (4194304, 1) PCODE unique[580:4] = 0x0\n",
      "Executing 0x400000/4: lw t1,0x0(a0) at (4194304, 2) PCODE unique[3080:4] = a0 + unique[580:4]\n",
      "Executing 0x400000/4: lw t1,0x0(a0) at (4194304, 3) PCODE t1 = *[ram]unique[3080:4]\n",
      "Executing 0x400004/4: lw t2,0x4(a0) at (4194308, 0) PCODE IMARK ram[400004:4]\n",
      "Executing 0x400004/4: lw t2,0x4(a0) at (4194308, 1) PCODE unique[580:4] = 0x4\n",
      "Executing 0x400004/4: lw t2,0x4(a0) at (4194308, 2) PCODE unique[3080:4] = a0 + unique[580:4]\n",
      "Executing 0x400004/4: lw t2,0x4(a0) at (4194308, 3) PCODE t2 = *[ram]unique[3080:4]\n",
      "Executing 0x400008/4: lw t3,0x8(a0) at (4194312, 0) PCODE IMARK ram[400008:4]\n",
      "Executing 0x400008/4: lw t3,0x8(a0) at (4194312, 1) PCODE unique[580:4] = 0x8\n",
      "Executing 0x400008/4: lw t3,0x8(a0) at (4194312, 2) PCODE unique[3080:4] = a0 + unique[580:4]\n",
      "Executing 0x400008/4: lw t3,0x8(a0) at (4194312, 3) PCODE t3 = *[ram]unique[3080:4]\n",
      "Executing 0x40000c/4: sw t2,0x0(t1) at (4194316, 0) PCODE IMARK ram[40000c:4]\n",
      "Executing 0x40000c/4: sw t2,0x0(t1) at (4194316, 1) PCODE unique[600:4] = 0x0\n",
      "Executing 0x40000c/4: sw t2,0x0(t1) at (4194316, 2) PCODE unique[4180:4] = t1 + unique[600:4]\n",
      "Executing 0x40000c/4: sw t2,0x0(t1) at (4194316, 3) PCODE *[ram]unique[4180:4] = t2\n",
      "Executing SpecStmt: Exit(myexit, 0x400010, ram32[dst] == value)\n",
      "conmsts\n",
      "don\n"
     ]
    }
   ],
   "source": [
    "import kdrag.contrib.pcode as pcode\n",
    "import kdrag.contrib.pcode.asmspec as asmspec\n",
    "import kdrag.smt as smt\n",
    "spec = asmspec.AsmSpec()\n",
    "ctx = ctx = pcode.BinaryContext(\"/tmp/mymemset.o\", langid=\"RISCV:LE:32:default\")\n",
    "startaddr = ctx.loader.find_symbol(\"mymemset\").rebased_addr\n",
    "\n",
    "# TODO: actually this is something that should be exposed.\n",
    "ram32 = ctx._subst_decls['ram32']\n",
    "t0 = ctx._subst_decls['t0']\n",
    "a0 = ctx._subst_decls['a0']\n",
    "\n",
    "\n",
    "spec.add_entry(\"mymemset\",  startaddr , smt.BoolVal(True))\n",
    "spec.add_assign(\"mymemset\", startaddr, \"dst\", ram32[a0])\n",
    "spec.add_assign(\"mymemset\", startaddr, \"value\", ram32[a0 + 4])\n",
    "dst, value = smt.BitVecs('dst value', 32)\n",
    "spec.add_exit(\"myexit\", startaddr + 16, ram32[dst] == value)\n",
    "\n",
    "vcs = asmspec.run_all_paths(ctx, spec)\n",
    "for vc in vcs:\n",
    "    #print(vc)\n",
    "    # ok ctx.substitute is very slow because gathering constants is slow. Worth persuing?\n",
    "    vc.verify(ctx)\n"
   ]
  },
  {
   "cell_type": "code",
   "execution_count": 3,
   "id": "abf40873",
   "metadata": {},
   "outputs": [
    {
     "name": "stdout",
     "output_type": "stream",
     "text": [
      "Writing /tmp/mymemcpy.c\n"
     ]
    }
   ],
   "source": [
    "%%file /tmp/mymemcpy.c\n",
    "#include <stddef.h>\n",
    "void mymemcpy(int *dst, const int *src, size_t n) {\n",
    "    for (size_t i = 0; i < n; i++) {\n",
    "        dst[i] = src[i];\n",
    "    }\n",
    "    return;\n",
    "}"
   ]
  },
  {
   "cell_type": "code",
   "execution_count": 6,
   "id": "7ce2476d",
   "metadata": {},
   "outputs": [
    {
     "name": "stdout",
     "output_type": "stream",
     "text": [
      "\n",
      "/tmp/mymemcpy.o:     file format elf32-littleriscv\n",
      "\n",
      "\n",
      "Disassembly of section .text:\n",
      "\n",
      "00000000 <mymemcpy>:\n",
      "   0:\tca11                \tbeqz\ta2,14 <.L1>\n",
      "   2:\t87ae                \tmv\ta5,a1\n",
      "   4:\t060a                \tslli\ta2,a2,0x2\n",
      "   6:\t95b2                \tadd\ta1,a1,a2\n",
      "\n",
      "00000008 <.L3>:\n",
      "   8:\t4398                \tlw\ta4,0(a5)\n",
      "   a:\tc118                \tsw\ta4,0(a0)\n",
      "   c:\t0791                \taddi\ta5,a5,4\n",
      "   e:\t0511                \taddi\ta0,a0,4\n",
      "  10:\tfeb79ce3          \tbne\ta5,a1,8 <.L3>\n",
      "\n",
      "00000014 <.L1>:\n",
      "  14:\t8082                \tret\n"
     ]
    }
   ],
   "source": [
    "! nix-shell -p pkgsCross.riscv32-embedded.buildPackages.gcc --run \"riscv32-none-elf-gcc -O1 -c /tmp/mymemcpy.c -o /tmp/mymemcpy.o && riscv32-none-elf-objdump -d /tmp/mymemcpy.o\""
   ]
  },
  {
   "cell_type": "code",
   "execution_count": 9,
   "id": "73263b5a",
   "metadata": {},
   "outputs": [
    {
     "name": "stdout",
     "output_type": "stream",
     "text": [
      "conmsts\n",
      "don\n",
      "Executing 0x400000/2: c.beqz a2,0x400014 at (4194304, 0) PCODE IMARK ram[400000:2]\n",
      "Executing 0x400000/2: c.beqz a2,0x400014 at (4194304, 1) PCODE unique[10800:1] = a2 == 0x0\n",
      "Executing 0x400000/2: c.beqz a2,0x400014 at (4194304, 2) PCODE if (unique[10800:1]) goto ram[400014:4]\n",
      "Executing 0x400014/2: ret  at (4194324, 0) PCODE IMARK ram[400014:2]\n",
      "Executing 0x400014/2: ret  at (4194324, 1) PCODE return ra\n"
     ]
    },
    {
     "ename": "NotImplementedError",
     "evalue": "('Opcode not implemented: ', OpCode.RETURN)",
     "output_type": "error",
     "traceback": [
      "\u001b[31m---------------------------------------------------------------------------\u001b[39m",
      "\u001b[31mNotImplementedError\u001b[39m                       Traceback (most recent call last)",
      "\u001b[36mCell\u001b[39m\u001b[36m \u001b[39m\u001b[32mIn[9]\u001b[39m\u001b[32m, line 27\u001b[39m\n\u001b[32m     16\u001b[39m \u001b[38;5;66;03m# kd_cut mycut \"(and (= RDI (_ bv0 64)) (= RSI (_ bv1024 64)) (bvuge RDX (_ bv0 64)) (bvult RDX (_ bv32 64)) (bvult RAX RDX) \u001b[39;00m\n\u001b[32m     17\u001b[39m \u001b[38;5;66;03m# (forall ((offset (_ BitVec 64))) (=> (and (bvuge offset (_ bv0 64)) (bvult offset RAX)) (= (select ram32 (bvadd RDI (bvshl offset (_ bv2 64)))) \u001b[39;00m\n\u001b[32m     18\u001b[39m \u001b[38;5;66;03m# (select ram32 (bvadd RSI (bvshl offset (_ bv2 64))))))))\"\u001b[39;00m\n\u001b[32m   (...)\u001b[39m\u001b[32m     23\u001b[39m \u001b[38;5;66;03m# kd_exit myexit \"(=> (and (bvuge offset (_ bv0 64)) (bvult offset RDX)) (= (select ram32 (bvadd RDI (bvshl offset (_ bv2 64)))) \u001b[39;00m\n\u001b[32m     24\u001b[39m \u001b[38;5;66;03m# (select ram32 (bvadd RSI (bvshl offset (_ bv2 64))))))\"\u001b[39;00m\n\u001b[32m     25\u001b[39m spec.add_exit(\u001b[33m\"\u001b[39m\u001b[33mmymemset_exit\u001b[39m\u001b[33m\"\u001b[39m, startaddr + \u001b[32m14\u001b[39m, smt.And(\u001b[38;5;28;01mTrue\u001b[39;00m))\n\u001b[32m---> \u001b[39m\u001b[32m27\u001b[39m vcs = \u001b[43masmspec\u001b[49m\u001b[43m.\u001b[49m\u001b[43mrun_all_paths\u001b[49m\u001b[43m(\u001b[49m\u001b[43mctx\u001b[49m\u001b[43m,\u001b[49m\u001b[43m \u001b[49m\u001b[43mspec\u001b[49m\u001b[43m)\u001b[49m\n\u001b[32m     28\u001b[39m \u001b[38;5;28;01mfor\u001b[39;00m vc \u001b[38;5;129;01min\u001b[39;00m vcs:\n\u001b[32m     29\u001b[39m     \u001b[38;5;66;03m#print(vc)\u001b[39;00m\n\u001b[32m     30\u001b[39m     \u001b[38;5;66;03m# ok ctx.substitute is very slow because gathering constants is slow. Worth perusing?\u001b[39;00m\n\u001b[32m     31\u001b[39m     vc.verify(ctx)\n",
      "\u001b[36mFile \u001b[39m\u001b[32m~/Documents/python/knuckledragger/src/kdrag/contrib/pcode/asmspec.py:458\u001b[39m, in \u001b[36mrun_all_paths\u001b[39m\u001b[34m(ctx, spec, mem, verbose)\u001b[39m\n\u001b[32m    456\u001b[39m     vcs.extend(new_vcs)\n\u001b[32m    457\u001b[39m     \u001b[38;5;28;01mif\u001b[39;00m tracestate \u001b[38;5;129;01mis\u001b[39;00m \u001b[38;5;129;01mnot\u001b[39;00m \u001b[38;5;28;01mNone\u001b[39;00m:\n\u001b[32m--> \u001b[39m\u001b[32m458\u001b[39m         todo.extend(\u001b[43mexecute_insn\u001b[49m\u001b[43m(\u001b[49m\u001b[43mtracestate\u001b[49m\u001b[43m,\u001b[49m\u001b[43m \u001b[49m\u001b[43mctx\u001b[49m\u001b[43m,\u001b[49m\u001b[43m \u001b[49m\u001b[43mverbose\u001b[49m\u001b[43m=\u001b[49m\u001b[43mverbose\u001b[49m\u001b[43m)\u001b[49m)\n\u001b[32m    459\u001b[39m \u001b[38;5;28;01mreturn\u001b[39;00m vcs\n",
      "\u001b[36mFile \u001b[39m\u001b[32m~/Documents/python/knuckledragger/src/kdrag/contrib/pcode/asmspec.py:411\u001b[39m, in \u001b[36mexecute_insn\u001b[39m\u001b[34m(tracestate, ctx, verbose)\u001b[39m\n\u001b[32m    402\u001b[39m \u001b[38;5;28;01mif\u001b[39;00m pc != \u001b[32m0\u001b[39m:\n\u001b[32m    403\u001b[39m     \u001b[38;5;28;01mraise\u001b[39;00m \u001b[38;5;167;01mException\u001b[39;00m(\u001b[33mf\u001b[39m\u001b[33m\"\u001b[39m\u001b[33mUnexpected program counter \u001b[39m\u001b[38;5;132;01m{\u001b[39;00mpc\u001b[38;5;132;01m}\u001b[39;00m\u001b[33m at address \u001b[39m\u001b[38;5;132;01m{\u001b[39;00m\u001b[38;5;28mhex\u001b[39m(addr)\u001b[38;5;132;01m}\u001b[39;00m\u001b[33m\"\u001b[39m)\n\u001b[32m    404\u001b[39m \u001b[38;5;28;01mreturn\u001b[39;00m [\n\u001b[32m    405\u001b[39m     TraceState(\n\u001b[32m    406\u001b[39m         start=tracestate.start,\n\u001b[32m    407\u001b[39m         trace=tracestate.trace + [state0.pc[\u001b[32m0\u001b[39m]],\n\u001b[32m    408\u001b[39m         state=state,\n\u001b[32m    409\u001b[39m         ghost_env=tracestate.ghost_env,\n\u001b[32m    410\u001b[39m     )\n\u001b[32m--> \u001b[39m\u001b[32m411\u001b[39m     \u001b[38;5;28;01mfor\u001b[39;00m state \u001b[38;5;129;01min\u001b[39;00m \u001b[43mctx\u001b[49m\u001b[43m.\u001b[49m\u001b[43msym_execute\u001b[49m\u001b[43m(\u001b[49m\n\u001b[32m    412\u001b[39m \u001b[43m        \u001b[49m\u001b[43mstate0\u001b[49m\u001b[43m.\u001b[49m\u001b[43mmemstate\u001b[49m\u001b[43m,\u001b[49m\n\u001b[32m    413\u001b[39m \u001b[43m        \u001b[49m\u001b[43maddr\u001b[49m\u001b[43m,\u001b[49m\n\u001b[32m    414\u001b[39m \u001b[43m        \u001b[49m\u001b[43mpath_cond\u001b[49m\u001b[43m=\u001b[49m\u001b[43mstate0\u001b[49m\u001b[43m.\u001b[49m\u001b[43mpath_cond\u001b[49m\u001b[43m,\u001b[49m\n\u001b[32m    415\u001b[39m \u001b[43m        \u001b[49m\u001b[43mmax_insns\u001b[49m\u001b[43m=\u001b[49m\u001b[32;43m1\u001b[39;49m\u001b[43m,\u001b[49m\n\u001b[32m    416\u001b[39m \u001b[43m        \u001b[49m\u001b[43mverbose\u001b[49m\u001b[43m=\u001b[49m\u001b[43mverbose\u001b[49m\u001b[43m,\u001b[49m\n\u001b[32m    417\u001b[39m \u001b[43m    \u001b[49m\u001b[43m)\u001b[49m\n\u001b[32m    418\u001b[39m ]\n",
      "\u001b[36mFile \u001b[39m\u001b[32m~/Documents/python/knuckledragger/src/kdrag/contrib/pcode/__init__.py:516\u001b[39m, in \u001b[36mBinaryContext.sym_execute\u001b[39m\u001b[34m(self, memstate, addr, path_cond, max_insns, breakpoints, verbose)\u001b[39m\n\u001b[32m    512\u001b[39m \u001b[38;5;28;01mif\u001b[39;00m verbose:\n\u001b[32m    513\u001b[39m     \u001b[38;5;28mprint\u001b[39m(\n\u001b[32m    514\u001b[39m         \u001b[33mf\u001b[39m\u001b[33m\"\u001b[39m\u001b[33mExecuting \u001b[39m\u001b[38;5;132;01m{\u001b[39;00mpretty_insn(\u001b[38;5;28mself\u001b[39m.disassemble(pc[\u001b[32m0\u001b[39m]))\u001b[38;5;132;01m}\u001b[39;00m\u001b[33m at \u001b[39m\u001b[38;5;132;01m{\u001b[39;00mpc\u001b[38;5;132;01m}\u001b[39;00m\u001b[33m PCODE \u001b[39m\u001b[38;5;132;01m{\u001b[39;00mpretty_op(\u001b[38;5;28mself\u001b[39m.translate(pc[\u001b[32m0\u001b[39m])[pc[\u001b[32m1\u001b[39m]])\u001b[38;5;132;01m}\u001b[39;00m\u001b[33m\"\u001b[39m\n\u001b[32m    515\u001b[39m     )\n\u001b[32m--> \u001b[39m\u001b[32m516\u001b[39m memstate1, pc1 = \u001b[38;5;28;43mself\u001b[39;49m\u001b[43m.\u001b[49m\u001b[43mexecute1\u001b[49m\u001b[43m(\u001b[49m\u001b[43mmemstate\u001b[49m\u001b[43m,\u001b[49m\u001b[43m \u001b[49m\u001b[43mpc\u001b[49m\u001b[43m)\u001b[49m\n\u001b[32m    517\u001b[39m \u001b[38;5;28;01mif\u001b[39;00m \u001b[38;5;28misinstance\u001b[39m(\n\u001b[32m    518\u001b[39m     pc1[\u001b[32m0\u001b[39m], smt.ExprRef\n\u001b[32m    519\u001b[39m ):  \u001b[38;5;66;03m# PC has become symbolic, requiring branching\u001b[39;00m\n\u001b[32m    520\u001b[39m     \u001b[38;5;28;01massert\u001b[39;00m \u001b[38;5;28misinstance\u001b[39m(pc1[\u001b[32m1\u001b[39m], smt.ExprRef)\n",
      "\u001b[36mFile \u001b[39m\u001b[32m~/Documents/python/knuckledragger/src/kdrag/contrib/pcode/__init__.py:425\u001b[39m, in \u001b[36mBinaryContext.execute1\u001b[39m\u001b[34m(self, memstate, pc)\u001b[39m\n\u001b[32m    423\u001b[39m addr = pc[\u001b[32m0\u001b[39m]\n\u001b[32m    424\u001b[39m op = \u001b[38;5;28mself\u001b[39m.translate(addr)[pc[\u001b[32m1\u001b[39m]]\n\u001b[32m--> \u001b[39m\u001b[32m425\u001b[39m \u001b[38;5;28;01mreturn\u001b[39;00m \u001b[38;5;28;43mself\u001b[39;49m\u001b[43m.\u001b[49m\u001b[43mexecuteCurrentOp\u001b[49m\u001b[43m(\u001b[49m\u001b[43mop\u001b[49m\u001b[43m,\u001b[49m\u001b[43m \u001b[49m\u001b[43mmemstate\u001b[49m\u001b[43m,\u001b[49m\u001b[43m \u001b[49m\u001b[43mpc\u001b[49m\u001b[43m)\u001b[49m\n",
      "\u001b[36mFile \u001b[39m\u001b[32m~/Documents/python/knuckledragger/src/kdrag/contrib/pcode/__init__.py:390\u001b[39m, in \u001b[36mBinaryContext.executeCurrentOp\u001b[39m\u001b[34m(self, op, memstate, pc)\u001b[39m\n\u001b[32m    388\u001b[39m     \u001b[38;5;28;01mreturn\u001b[39;00m executeBinary(op, memstate), \u001b[38;5;28mself\u001b[39m.fallthruOp(pc)\n\u001b[32m    389\u001b[39m \u001b[38;5;28;01melse\u001b[39;00m:\n\u001b[32m--> \u001b[39m\u001b[32m390\u001b[39m     \u001b[38;5;28;01mraise\u001b[39;00m \u001b[38;5;167;01mNotImplementedError\u001b[39;00m(\u001b[33m\"\u001b[39m\u001b[33mOpcode not implemented: \u001b[39m\u001b[33m\"\u001b[39m, op.opcode)\n",
      "\u001b[31mNotImplementedError\u001b[39m: ('Opcode not implemented: ', OpCode.RETURN)"
     ]
    }
   ],
   "source": [
    "import kdrag.contrib.pcode as pcode\n",
    "import kdrag.contrib.pcode.asmspec as asmspec\n",
    "import kdrag.smt as smt\n",
    "spec = asmspec.AsmSpec()\n",
    "ctx = ctx = pcode.BinaryContext(\"/tmp/mymemcpy.o\", langid=\"RISCV:LE:32:default\")\n",
    "startaddr = ctx.loader.find_symbol(\"mymemcpy\").rebased_addr\n",
    "\n",
    "# TODO: actually this is something that should be exposed.\n",
    "ram32 = ctx._subst_decls['ram32']\n",
    "dstptr = ctx._subst_decls['a0']\n",
    "srcptr = ctx._subst_decls['a1']\n",
    "n = ctx._subst_decls['a2']\n",
    "\n",
    "#  \"(and (= RDI (_ bv0 64)) (= RSI (_ bv1024 64)) (bvuge RDX (_ bv0 64)) (bvult RDX (_ bv32 64)))\"\n",
    "spec.add_entry(\"mymemcpy\",  startaddr , smt.And(n == 0))\n",
    "# kd_cut mycut \"(and (= RDI (_ bv0 64)) (= RSI (_ bv1024 64)) (bvuge RDX (_ bv0 64)) (bvult RDX (_ bv32 64)) (bvult RAX RDX) \n",
    "# (forall ((offset (_ BitVec 64))) (=> (and (bvuge offset (_ bv0 64)) (bvult offset RAX)) (= (select ram32 (bvadd RDI (bvshl offset (_ bv2 64)))) \n",
    "# (select ram32 (bvadd RSI (bvshl offset (_ bv2 64))))))))\"\n",
    "\n",
    "#spec.add_cut(\"loopstart\", startaddr + 8, smt.And(True))\n",
    "\n",
    "\n",
    "# kd_exit myexit \"(=> (and (bvuge offset (_ bv0 64)) (bvult offset RDX)) (= (select ram32 (bvadd RDI (bvshl offset (_ bv2 64)))) \n",
    "# (select ram32 (bvadd RSI (bvshl offset (_ bv2 64))))))\"\n",
    "spec.add_exit(\"mymemset_exit\", startaddr + 14, smt.And(True))\n",
    "\n",
    "vcs = asmspec.run_all_paths(ctx, spec)\n",
    "for vc in vcs:\n",
    "    #print(vc)\n",
    "    # ok ctx.substitute is very slow because gathering constants is slow. Worth perusing?\n",
    "    vc.verify(ctx)\n"
   ]
  },
  {
   "cell_type": "markdown",
   "id": "65f04be8",
   "metadata": {},
   "source": [
    "Track better which trace fragment we're on.\n",
    "Trace bundles\n"
   ]
  },
  {
   "cell_type": "code",
   "execution_count": 150,
   "id": "7e782443",
   "metadata": {},
   "outputs": [
    {
     "data": {
      "text/html": [
       "t0"
      ],
      "text/plain": [
       "t0"
      ]
     },
     "execution_count": 150,
     "metadata": {},
     "output_type": "execute_result"
    }
   ],
   "source": [
    "ctx._subst_decls['t0']"
   ]
  },
  {
   "cell_type": "markdown",
   "id": "035a4d29",
   "metadata": {},
   "source": []
  },
  {
   "cell_type": "code",
   "execution_count": 112,
   "id": "3cfa5735",
   "metadata": {},
   "outputs": [
    {
     "name": "stdout",
     "output_type": "stream",
     "text": [
      "Overwriting /tmp/tag.c\n"
     ]
    }
   ],
   "source": [
    "%%file /tmp/tag.c\n",
    "\n",
    "enum Op {Inc1, Inc2, Inc3};\n",
    "\n",
    "int doop(enum Op op, int x) {\n",
    "    switch(op) {\n",
    "        case Inc1: return x + 1;\n",
    "        case Inc2: return x + 2;\n",
    "        case Inc3: return x + 3;\n",
    "    }\n",
    "    return -1;\n",
    "}\n",
    "\n",
    "\n"
   ]
  },
  {
   "cell_type": "code",
   "execution_count": 115,
   "id": "b0a34e74",
   "metadata": {},
   "outputs": [
    {
     "name": "stdout",
     "output_type": "stream",
     "text": [
      "\t.file\t\"tag.c\"\n",
      "\t.option nopic\n",
      "\t.attribute arch, \"rv32i2p1_m2p0_a2p1_f2p2_d2p2_c2p0_zicsr2p0_zifencei2p0\"\n",
      "\t.attribute unaligned_access, 0\n",
      "\t.attribute stack_align, 16\n",
      "\t.text\n",
      "\t.align\t1\n",
      "\t.globl\tdoop\n",
      "\t.type\tdoop, @function\n",
      "doop:\n",
      "\tli\ta4,1\n",
      "\tmv\ta5,a0\n",
      "\tbeq\ta0,a4,.L2\n",
      "\tli\ta4,2\n",
      "\taddi\ta0,a1,3\n",
      "\tbeq\ta5,a4,.L1\n",
      "\tli\ta0,-1\n",
      "\tbne\ta5,zero,.L1\n",
      "\taddi\ta0,a1,1\n",
      "\tret\n",
      ".L2:\n",
      "\taddi\ta0,a1,2\n",
      ".L1:\n",
      "\tret\n",
      "\t.size\tdoop, .-doop\n",
      "\t.ident\t\"GCC: (GNU) 13.3.0\"\n"
     ]
    }
   ],
   "source": [
    "! nix-shell -p pkgsCross.riscv32-embedded.buildPackages.{gcc,binutils} --run \"riscv32-none-elf-gcc -O2 -S /tmp/tag.c -o /tmp/tag.s && cat /tmp/tag.s\""
   ]
  },
  {
   "cell_type": "code",
   "execution_count": 110,
   "id": "31805f16",
   "metadata": {},
   "outputs": [],
   "source": [
    "! ! /home/philip/Downloads/lowrisc-toolchain-gcc-rv32imcb-x86_64-20250710-1/bin/riscv32-unknown-elf-gcc -W -c -S -o /tmp/tag.s -O1   /tmp/tag.c"
   ]
  },
  {
   "cell_type": "code",
   "execution_count": null,
   "id": "9a9aeec2",
   "metadata": {},
   "outputs": [
    {
     "name": "stdout",
     "output_type": "stream",
     "text": [
      "\t.file\t\"tag.c\"\n",
      "\t.option nopic\n",
      "\t.attribute arch, \"rv32i2p0_m2p0_c2p0\"\n",
      "\t.attribute unaligned_access, 0\n",
      "\t.attribute stack_align, 16\n",
      "\t.text\n",
      "\t.align\t1\n",
      "\t.globl\tdoop\n",
      "\t.type\tdoop, @function\n",
      "doop:\n",
      "\tmv\ta5,a0\n",
      "\tli\ta4,1\n",
      "\tbeq\ta0,a4,.L2\n",
      "\tli\ta4,2\n",
      "\taddi\ta0,a1,3\n",
      "\tbeq\ta5,a4,.L1\n",
      "\tli\ta0,-1\n",
      "\tbeq\ta5,zero,.L6\n",
      ".L1:\n",
      "\tret\n",
      ".L6:\n",
      "\taddi\ta0,a1,1\n",
      "\tret\n",
      ".L2:\n",
      "\taddi\ta0,a1,2\n",
      "\tj\t.L1\n",
      "\t.size\tdoop, .-doop\n",
      "\t.ident\t\"GCC: (crosstool-NG 1.26.0_rc1) 10.2.0\"\n"
     ]
    }
   ],
   "source": [
    "! cat /tmp/tag.s "
   ]
  },
  {
   "cell_type": "code",
   "execution_count": 103,
   "id": "a3d1bb15",
   "metadata": {},
   "outputs": [
    {
     "name": "stdout",
     "output_type": "stream",
     "text": [
      "Overwriting /tmp/memset.c\n"
     ]
    }
   ],
   "source": [
    "%%file /tmp/memset.c\n",
    "#include <stddef.h>\n",
    "const int myflags[] = {1 << 0, 1 << 1, 1 << 2};\n",
    "\n",
    "typedef struct {\n",
    "    size_t ind;\n",
    "    int *dst;\n",
    "    size_t n;\n",
    "} config;\n",
    "\n",
    "void mymemset(config *cfg) {\n",
    "    int color = myflags[cfg->ind];\n",
    "    int *dst = cfg->dst;\n",
    "    for(size_t i = 0; i < cfg->n; i++)\n",
    "        dst[i] = color;\n",
    "}\n",
    "\n"
   ]
  },
  {
   "cell_type": "code",
   "execution_count": 104,
   "id": "ba657941",
   "metadata": {},
   "outputs": [],
   "source": [
    "! gcc -W -c -S -o /tmp/memset.s -O1   /tmp/memset.c"
   ]
  },
  {
   "cell_type": "code",
   "execution_count": 105,
   "id": "9d7b3335",
   "metadata": {},
   "outputs": [],
   "source": [
    "! /home/philip/Downloads/lowrisc-toolchain-gcc-rv32imcb-x86_64-20250710-1/bin/riscv32-unknown-elf-gcc -W -c -S -o /tmp/memset.s -O1   /tmp/memset.c"
   ]
  },
  {
   "cell_type": "code",
   "execution_count": 106,
   "id": "f89286c2",
   "metadata": {},
   "outputs": [
    {
     "name": "stdout",
     "output_type": "stream",
     "text": [
      "\t.file\t\"memset.c\"\n",
      "\t.option nopic\n",
      "\t.attribute arch, \"rv32i2p0_m2p0_c2p0\"\n",
      "\t.attribute unaligned_access, 0\n",
      "\t.attribute stack_align, 16\n",
      "\t.text\n",
      "\t.align\t1\n",
      "\t.globl\tmymemset\n",
      "\t.type\tmymemset, @function\n",
      "mymemset:\n",
      "\tlw\ta5,0(a0)\n",
      "\tslli\ta4,a5,2\n",
      "\tlui\ta5,%hi(.LANCHOR0)\n",
      "\taddi\ta5,a5,%lo(.LANCHOR0)\n",
      "\tadd\ta5,a5,a4\n",
      "\tlw\ta2,0(a5)\n",
      "\tlw\ta5,4(a0)\n",
      "\tlw\ta4,8(a0)\n",
      "\tbeq\ta4,zero,.L1\n",
      "\tli\ta4,0\n",
      ".L3:\n",
      "\tsw\ta2,0(a5)\n",
      "\taddi\ta4,a4,1\n",
      "\taddi\ta5,a5,4\n",
      "\tlw\ta3,8(a0)\n",
      "\tbgtu\ta3,a4,.L3\n",
      ".L1:\n",
      "\tret\n",
      "\t.size\tmymemset, .-mymemset\n",
      "\t.globl\tmyflags\n",
      "\t.section\t.rodata\n",
      "\t.align\t2\n",
      "\t.set\t.LANCHOR0,. + 0\n",
      "\t.type\tmyflags, @object\n",
      "\t.size\tmyflags, 12\n",
      "myflags:\n",
      "\t.word\t1\n",
      "\t.word\t2\n",
      "\t.word\t4\n",
      "\t.ident\t\"GCC: (crosstool-NG 1.26.0_rc1) 10.2.0\"\n"
     ]
    }
   ],
   "source": [
    "! cat /tmp/memset.s"
   ]
  },
  {
   "cell_type": "code",
   "execution_count": 63,
   "id": "beb1b40d",
   "metadata": {},
   "outputs": [
    {
     "name": "stdout",
     "output_type": "stream",
     "text": [
      "Overwriting /tmp/mov42.s\n"
     ]
    }
   ],
   "source": [
    "%%file /tmp/mov42.s\n",
    ".include \"/tmp/knuckle.s\"\n",
    "    .text\n",
    "    .globl  myfunc\n",
    "kd_entry myfunc, \"(= true true)\"\n",
    "    addi    sp, sp, -4       # make room on the stack\n",
    "    li      t0, 42           # t0 ← 42\n",
    "    sw      t0, 0(sp)        # [sp] = 42\n",
    "kd_exit myfunc_end,  \"(= (select ram32 sp) (_ bv42 32))\"\n",
    "    ret"
   ]
  },
  {
   "cell_type": "code",
   "execution_count": 72,
   "id": "4efc561f",
   "metadata": {},
   "outputs": [
    {
     "name": "stdout",
     "output_type": "stream",
     "text": [
      "Processing /tmp/mov42.s with language ID RISCV:LE:32:default using assembler /home/philip/Downloads/lowrisc-toolchain-gcc-rv32imcb-x86_64-20250710-1/bin/riscv32-unknown-elf-as\n",
      "Constructing Trace Fragments...\n",
      "Executing 0x400000/4: addi sp,sp,-0x4 at (4194304, 0) PCODE IMARK ram[400000:4]\n",
      "Executing 0x400000/4: addi sp,sp,-0x4 at (4194304, 1) PCODE unique[580:4] = 0xfffffffc\n",
      "Executing 0x400000/4: addi sp,sp,-0x4 at (4194304, 2) PCODE sp = sp + unique[580:4]\n",
      "Executing 0x400004/4: li t0,0x2a at (4194308, 0) PCODE IMARK ram[400004:4]\n",
      "Executing 0x400004/4: li t0,0x2a at (4194308, 1) PCODE unique[580:4] = 0x2a\n",
      "Executing 0x400004/4: li t0,0x2a at (4194308, 2) PCODE t0 = unique[580:4]\n",
      "Executing 0x400008/4: sw t0,0x0(sp) at (4194312, 0) PCODE IMARK ram[400008:4]\n",
      "Executing 0x400008/4: sw t0,0x0(sp) at (4194312, 1) PCODE unique[600:4] = 0x0\n",
      "Executing 0x400008/4: sw t0,0x0(sp) at (4194312, 2) PCODE unique[4180:4] = sp + unique[600:4]\n",
      "Executing 0x400008/4: sw t0,0x0(sp) at (4194312, 3) PCODE *[ram]unique[4180:4] = t0\n",
      "Executing SpecStmt: Exit(myfunc_end, 0x40000c, ram32[sp] == 42)\n",
      "Checking verification conditions...\n",
      "[✅] Exit(myfunc_end, 0x40000c, ram32[sp] == 42)\n",
      "✅✅✅✅ All 1 verification conditions passed! ✅✅✅✅\n"
     ]
    }
   ],
   "source": [
    "! python3 -m kdrag.contrib.pcode --langid=\"RISCV:LE:32:default\" --asm /home/philip/Downloads/lowrisc-toolchain-gcc-rv32imcb-x86_64-20250710-1/bin/riscv32-unknown-elf-as /tmp/mov42.s"
   ]
  },
  {
   "cell_type": "code",
   "execution_count": null,
   "id": "d97c5096",
   "metadata": {},
   "outputs": [],
   "source": []
  },
  {
   "cell_type": "markdown",
   "id": "24a62352",
   "metadata": {},
   "source": [
    "# ghost call\n",
    "Figuring out how to access members of structs, offsets etc.\n",
    "Shouldn't change state, can read it. Changed real state is thrown away (stored as var?). Changed ghost state is not.\n",
    "How to setup frame?\n",
    "More like a subroutine, since we odn't setup a stack (?).\n",
    "In ghost code, read from named coroutine params.\n",
    "Or give fresh\n",
    "Know the abi somehow?\n",
    "\n",
    "```\n",
    "struct biz\n",
    "get param(&biz) {\n",
    "    return biz->a->b->c;\n",
    "}\n",
    "```\n",
    "\n",
    "My dishonesty about ram32 ram64 rax bites now?\n",
    "(RAX reg) (RDI reg)\n",
    "%rdi == (select32 reg RDI)\n",
    "(store32 reg RDI 0x42)\n",
    "`kd_reify \"memstate_name\"` # freeze current state into ghost.\n",
    "`kd_assign \"memstate\" \"(store RAX  )\"\n",
    "`kd_ghost_call \"res_memstate\" \"myfun\" \" \"`\n",
    "`kd_assign  \"foo\"  \"res_memstate\""
   ]
  },
  {
   "cell_type": "markdown",
   "id": "651511b9",
   "metadata": {},
   "source": [
    "# read write\n",
    "I should unpack the state datatype. No reason to bring datatypes into it.\n",
    "Could use store_view instead of explciit write field?\n",
    "Jankier"
   ]
  },
  {
   "cell_type": "markdown",
   "id": "d2c614aa",
   "metadata": {},
   "source": [
    "# verilog / sail\n",
    "Pcode is not that trustworthy. Vet against other semantics.\n",
    "(And why not just use those semantics instead ?)\n",
    "\n",
    "\n",
    "https://docs.pydrofoil.org/en/latest/scripting-api.html\n",
    "\n",
    "rpython\n",
    "https://mssun.github.io/rpython-by-example/\n",
    "So rpython itself is a bit like cython? But not exporting python libs. Using rpython on it's own like this is perhaps odd\n",
    "\n",
    "\n",
    "smtlib interpreter in rpython?\n",
    "Lean expr interpreter?\n",
    "\n"
   ]
  },
  {
   "cell_type": "code",
   "execution_count": 1,
   "id": "96b06e5c",
   "metadata": {},
   "outputs": [
    {
     "name": "stdout",
     "output_type": "stream",
     "text": [
      "\u001b[K34;1m1\u001b[0m/\u001b[32;1m18\u001b[0m/19 built, \u001b[32;1m159\u001b[0m copied (\u001b[32;1m1102.1\u001b[0m/1102.7 MiB), \u001b[32;1m270.7\u001b[0m MiB DL] building \u001b[1mpydrofoil\u001b[0m\u001b[Km\u001b[K\u001b[0m\u001b[K"
     ]
    }
   ],
   "source": [
    "! nix build github:rpypkgs/rpypkgs#pydrofoil-riscv"
   ]
  },
  {
   "cell_type": "code",
   "execution_count": 3,
   "id": "e7ca93a1",
   "metadata": {},
   "outputs": [
    {
     "name": "stdout",
     "output_type": "stream",
     "text": [
      "\u001b[Kpydrofoil-riscv 0.0.1-alpha0 (Sail model version: 0.5-273-g87f8bb34d6)\n"
     ]
    }
   ],
   "source": [
    "! nix run github:rpypkgs/rpypkgs#pydrofoil-riscv -- --version"
   ]
  },
  {
   "cell_type": "code",
   "execution_count": null,
   "id": "08ecde1b",
   "metadata": {},
   "outputs": [],
   "source": [
    "%%file /tmp/hello.py\n",
    "\n",
    "def entry_point(argv):\n",
    "    print \"Hello, World!\"\n",
    "    return 0\n",
    "\n",
    "# The target function is the main function of a RPython program. It takes\n",
    "# command line arguments as inputs and return an entry point function.\n",
    "def target(*args):\n",
    "    return entry_point"
   ]
  },
  {
   "cell_type": "markdown",
   "id": "b0062cbb",
   "metadata": {},
   "source": [
    "# python properties\n"
   ]
  },
  {
   "cell_type": "markdown",
   "id": "5c471191",
   "metadata": {},
   "source": [
    "# Inline asm Reg names\n",
    "Also memory locations?\n",
    "\n"
   ]
  },
  {
   "cell_type": "code",
   "execution_count": 4,
   "id": "ecea2b58",
   "metadata": {},
   "outputs": [
    {
     "data": {
      "text/html": [
       "[%rdi = 0]"
      ],
      "text/plain": [
       "[%rdi == 0]"
      ]
     },
     "execution_count": 4,
     "metadata": {},
     "output_type": "execute_result"
    }
   ],
   "source": [
    "import z3\n",
    "z3.parse_smt2_string(r\"\"\"\n",
    "(declare-const %rdi (_ BitVec 64))\n",
    "(assert (= %rdi (_ bv0 64)))\n",
    "\"\"\")\n"
   ]
  },
  {
   "cell_type": "code",
   "execution_count": null,
   "id": "8b711bda",
   "metadata": {},
   "outputs": [
    {
     "name": "stdout",
     "output_type": "stream",
     "text": [
      "Overwriting /tmp/hello.c\n"
     ]
    }
   ],
   "source": [
    "%%file /tmp/hello.c\n",
    "#include <stddef.h>\n",
    "__asm__(\".include \\\"knuckle.S\\\"\");\n",
    "__asm__(\"kd_prelude \\\"(declare-const x (_ BitVec 64))\\\"\");\n",
    "int foo(int x){\n",
    "    __asm__(\"kd_entry myentry \\\"true\\\"\");\n",
    "    __asm__(\"kd_assign x %0\" : : \"r\"(x));\n",
    "\n",
    "    int y = x + 42;\n",
    "    __asm__(\"kd_exit myentry \\\"(assert (= %0 (bvadd x (_ bv42 64)))\\\"\" : : \"r\"(y));\n",
    "    return y;\n",
    "}\n"
   ]
  },
  {
   "cell_type": "code",
   "execution_count": 9,
   "id": "5282719f",
   "metadata": {},
   "outputs": [
    {
     "name": "stdout",
     "output_type": "stream",
     "text": [
      "\t.file\t\"hello.c\"\n",
      "\t.text\n",
      "\t.globl\tfoo\n",
      "\t.type\tfoo, @function\n",
      "foo:\n",
      ".LFB0:\n",
      "\t.cfi_startproc\n",
      "\tendbr64\n",
      "#APP\n",
      "# 3 \"/tmp/hello.c\" 1\n",
      "\tkd_prelude \"(assert (= %edi 42))\"\n",
      "# 0 \"\" 2\n",
      "#NO_APP\n",
      "\tret\n",
      "\t.cfi_endproc\n",
      ".LFE0:\n",
      "\t.size\tfoo, .-foo\n",
      "\t.ident\t\"GCC: (Ubuntu 13.3.0-6ubuntu2~24.04) 13.3.0\"\n",
      "\t.section\t.note.GNU-stack,\"\",@progbits\n",
      "\t.section\t.note.gnu.property,\"a\"\n",
      "\t.align 8\n",
      "\t.long\t1f - 0f\n",
      "\t.long\t4f - 1f\n",
      "\t.long\t5\n",
      "0:\n",
      "\t.string\t\"GNU\"\n",
      "1:\n",
      "\t.align 8\n",
      "\t.long\t0xc0000002\n",
      "\t.long\t3f - 2f\n",
      "2:\n",
      "\t.long\t0x3\n",
      "3:\n",
      "\t.align 8\n",
      "4:\n"
     ]
    }
   ],
   "source": [
    "! gcc -O1 -S -c /tmp/hello.c -o /tmp/hello.S && cat /tmp/hello.S"
   ]
  },
  {
   "cell_type": "markdown",
   "id": "5b0bfcd6",
   "metadata": {},
   "source": [
    "# CN\n",
    "https://github.com/rems-project/cn\n",
    "https://rems-project.github.io/cn-tutorial/getting-started/tutorials/welcome/\n",
    "https://www.galois.com/articles/escaping-isla-nublar-coming-around-to-llms-for-formal-methods"
   ]
  },
  {
   "cell_type": "code",
   "execution_count": null,
   "id": "26cd20ee",
   "metadata": {},
   "outputs": [],
   "source": []
  },
  {
   "cell_type": "code",
   "execution_count": null,
   "id": "f69fd62a",
   "metadata": {},
   "outputs": [],
   "source": []
  },
  {
   "cell_type": "markdown",
   "id": "f8ad8d9a",
   "metadata": {},
   "source": [
    "# cfg reconstruction\n",
    "\n",
    "Takes VCs\n",
    "\n",
    "Any unreached specstmt, warn\n",
    "reachable_from\n",
    "\n",
    "Join specstmts\n",
    "\n",
    "Print CFG as ascii?\n",
    "Output it?\n",
    "\n"
   ]
  },
  {
   "cell_type": "code",
   "execution_count": null,
   "id": "c4d83684",
   "metadata": {},
   "outputs": [],
   "source": [
    "\n",
    "reachable = set().union(*[vc.trace for vc in vcs])"
   ]
  },
  {
   "cell_type": "markdown",
   "id": "92685abe",
   "metadata": {},
   "source": [
    "# Hyperproperties / Relational\n",
    "\n",
    "Synchro points?\n",
    "\n",
    "entry exit labels pairs.\n",
    "kd_sync\n",
    "\n",
    "kd_rel entry exit property\n",
    "kd_rel entry_exit property\n",
    "\n",
    "kd_channels\n",
    "monotonic channels?\n",
    "\n",
    "Finely interleaved product programs\n",
    "\n",
    "A syncrhonzination / scheudling program?\n",
    "ram_2\n",
    "\n",
    "Multiram executor? Channels\n",
    "\n",
    "Same program twice is easy to synchrnoize.\n",
    "High low variables\n",
    "\n",
    "havoc statement\n",
    "kd_havoc_ghost ghost_var\n",
    "kd_havoc_reg reg\n",
    "kd_havoc_mem memexpr  \n",
    "interrupt havocs touched stuff every cycle. So we do want to enable havor\n",
    "\n",
    "https://docs.certora.com/en/latest/docs/cvl/statements.html\n",
    "\n",
    "kd_join\n",
    "collect up all trace fragements with common start and ends.\n",
    "Maybe I should anyhow?\n",
    "\n",
    "Useful for the using assembly as spec idea.\n",
    "\n",
    "trace fragment bundle. Yikes\n",
    "\n",
    "thread_id as a way of knowing which program you're in?\n",
    "\n",
    "\n",
    "\n"
   ]
  },
  {
   "cell_type": "markdown",
   "id": "9e9f0d1d",
   "metadata": {},
   "source": [
    "# Unicorn\n",
    "Running stuff in pcode2c was clutch.\n",
    "What about just a nice running environemnt that ingests asmspec.\n",
    "Unicorn, gdb, qemu. Something.\n",
    "\n",
    "\n",
    "\n"
   ]
  },
  {
   "cell_type": "markdown",
   "id": "3756c27a",
   "metadata": {},
   "source": [
    "chat\n",
    "missing vex optimziationd via z3\n",
    "\n",
    "p4-=\n",
    "\n",
    "Concerns - user to \n"
   ]
  },
  {
   "cell_type": "markdown",
   "id": "28ac8bbe",
   "metadata": {},
   "source": [
    "# New Sleigh\n",
    "https://github.com/nneonneo/ghidra-wasm-plugin/tree/master\n",
    "\n",
    "https://spinsel.dev/2020/06/17/ghidra-brainfuck-processor-1.html\n",
    "\n",
    "3 roads to go down: https://github.com/rbran/sleigh-rs/tree/main try to reuse this sleigh parser of nebulous quality, try to hack onto ghidra's sleigh parser https://github.com/NationalSecurityAgency/ghidra/blob/master/Ghidra/Features/Decompiler/src/decompile/cpp/slghparse.y , or try to rebuild the grammar in a custom parser (edited) \n",
    "Ok actually a fourth is to consume the compiled .sla files. I don't even really know how their format works\n",
    "Why? Well, because using ghidra off the shelf only lets you turn concrete bits into pcode (edited) \n",
    "But the Sleigh format is kind of more like the analog of sail. You could use it to compile or assemble forward (which ghidra does use it to generate assemblers but I haven't seen that rewrapped to be usable anywhere except in the gui)\n",
    "https://github.com/NationalSecurityAgency/ghidra/blob/master/Ghidra/Framework/SoftwareModeling/src/main/java/ghidra/app/plugin/assembler/sleigh/SleighAssemblerBuilder.java\n",
    "\n",
    "\n",
    "https://github.com/CTSRD-CHERI/ghidra cheri modelled in ghidra?\n",
    "https://github.com/Cherified/cheriot-abstract-spec  https://github.com/Cherified/cheriot-program-logic\n",
    "https://github.com/CTSRD-CHERI/ghidra/blob/morello/main/Ghidra/Processors/AARCH64/data/languages/AARCH64_MorelloInstructions.sinc\n",
    "\n",
    "Hmm generate sleigh from yosys akin to how C backend works maybe?\n"
   ]
  },
  {
   "cell_type": "code",
   "execution_count": 4,
   "id": "24b2a4df",
   "metadata": {},
   "outputs": [
    {
     "name": "stdout",
     "output_type": "stream",
     "text": [
      "mkdir: cannot create directory ‘/tmp/Hack’: File exists\n",
      "mkdir: cannot create directory ‘/tmp/Hack/data’: File exists\n"
     ]
    }
   ],
   "source": [
    "! mkdir /tmp/Hack || mkdir /tmp/Hack/data"
   ]
  },
  {
   "cell_type": "code",
   "execution_count": 51,
   "id": "338673b9",
   "metadata": {},
   "outputs": [
    {
     "name": "stdout",
     "output_type": "stream",
     "text": [
      "Overwriting /tmp/Hack/Module.manifest\n"
     ]
    }
   ],
   "source": [
    "%%file /tmp/Hack/Module.manifest\n",
    "<module>\n",
    "  <name>Hack</name>\n",
    "  <description>nand2tetris Hack CPU</description>\n",
    "  <version>1.0</version>\n",
    "</module>\n"
   ]
  },
  {
   "cell_type": "code",
   "execution_count": 52,
   "id": "3f4d980b",
   "metadata": {},
   "outputs": [
    {
     "name": "stdout",
     "output_type": "stream",
     "text": [
      "Writing /tmp/Hack/data/hack.pspec\n"
     ]
    }
   ],
   "source": [
    "%%file /tmp/Hack/data/hack.pspec\n",
    "<?xml version=\"1.0\" encoding=\"UTF-8\"?>\n",
    "<processor_spec>\n",
    "  <programcounter register=\"PC\"/>\n",
    "  <default_symbols>\n",
    "    <function name=\"entry\" entry=\"true\" address=\"0x0000\"/>\n",
    "  </default_symbols>\n",
    "</processor_spec>"
   ]
  },
  {
   "cell_type": "code",
   "execution_count": 53,
   "id": "9220b17e",
   "metadata": {},
   "outputs": [
    {
     "name": "stdout",
     "output_type": "stream",
     "text": [
      "Writing /tmp/Hack/data/hack.ldefs\n"
     ]
    }
   ],
   "source": [
    "%%file /tmp/Hack/data/hack.ldefs\n",
    "<?xml version=\"1.0\" encoding=\"UTF-8\"?>\n",
    "<language_definitions>\n",
    "  <language processor=\"Hack\" endian=\"big\" size=\"16\" variant=\"default\"\n",
    "            version=\"1\" slafile=\"hack.sla\" processorspec=\"hack.pspec\"\n",
    "            description=\"Hack (nand2tetris) 16-bit\"/>\n",
    "  <compiler name=\"default\" spec=\"hack.cspec\" id=\"default\"/>\n",
    "</language_definitions>"
   ]
  },
  {
   "cell_type": "code",
   "execution_count": null,
   "id": "ee16f309",
   "metadata": {},
   "outputs": [],
   "source": []
  },
  {
   "cell_type": "code",
   "execution_count": null,
   "id": "9b82d6ed",
   "metadata": {},
   "outputs": [
    {
     "name": "stdout",
     "output_type": "stream",
     "text": [
      "Overwriting /tmp/Hack/data/hack.slaspec\n"
     ]
    }
   ],
   "source": [
    "%%file /tmp/Hack/data/hack.slaspec\n",
    "define endian=big;\n",
    "define alignment=2;\n",
    "\n",
    "define space ram     type=ram_space   size=2  default;\n",
    "define space register type=register_space size=1;\n",
    "\n",
    "define register offset=0x00 size=2  [PC D A];\n",
    "define token instr(16)\n",
    "  b15 = (15,15)             # 0 = A-instr, 1 = C-instr\n",
    "  cxx = (13,14)             # the conventional \"11\" in Hack C-instr\n",
    "  a   = (12,12)\n",
    "  c1  = (11,11)\n",
    "  c2  = (10,10)\n",
    "  c3  = (9,9)\n",
    "  c4  = (8,8)\n",
    "  c5  = (7,7)\n",
    "  c6  = (6,6)\n",
    "  d1  = (5,5)               # A dest\n",
    "  d2  = (4,4)               # D dest\n",
    "  d3  = (3,3)               # M dest\n",
    "  j1  = (2,2)\n",
    "  j2  = (1,1)\n",
    "  j3  = (0,0)\n",
    "  aimm = (0,14)             # 15-bit literal for A-instruction\n",
    ";\n",
    "#OP1: \"#\"aimm    is b15=0; aimm\t\t\t{ tmp:2 = aimm; export tmp; }\n",
    ":a_inst aimm is b15=0 & aimm {\n",
    "  A = aimm;          # zero-extend 15-bit literal\n",
    "  PC = PC + 2;\n",
    "}"
   ]
  },
  {
   "cell_type": "code",
   "execution_count": 95,
   "id": "22286e75",
   "metadata": {},
   "outputs": [
    {
     "name": "stdout",
     "output_type": "stream",
     "text": [
      "openjdk version \"21.0.8\" 2025-07-15\n",
      "OpenJDK Runtime Environment (build 21.0.8+9-Ubuntu-0ubuntu124.04.1)\n",
      "OpenJDK 64-Bit Server VM (build 21.0.8+9-Ubuntu-0ubuntu124.04.1, mixed mode)\n",
      "INFO  Using log config file: jar:file:/home/philip/Downloads/ghidra_11.4.2_PUBLIC_20250826/ghidra_11.4.2_PUBLIC/Ghidra/Framework/Generic/lib/Generic.jar!/generic.log4j.xml (LoggingInitialization)  \n",
      "INFO  Using log file: /home/philip/.config/ghidra/ghidra_11.4.2_PUBLIC/application.log (LoggingInitialization)  \n"
     ]
    }
   ],
   "source": [
    "! /home/philip/Downloads/ghidra_11.4.2_PUBLIC_20250826/ghidra_11.4.2_PUBLIC/support/sleigh /tmp/Hack/data/hack.slaspec"
   ]
  },
  {
   "cell_type": "code",
   "execution_count": 108,
   "id": "ff82a6c3",
   "metadata": {},
   "outputs": [
    {
     "name": "stdout",
     "output_type": "stream",
     "text": [
      "a_inst\n",
      "0x0/2: a_inst 0x1f00\n",
      "[IMARK ram[0:2], A = 0x1f00, PC = PC + 0x2]\n"
     ]
    },
    {
     "data": {
      "text/plain": [
       "2"
      ]
     },
     "execution_count": 108,
     "metadata": {},
     "output_type": "execute_result"
    }
   ],
   "source": [
    "import kdrag.contrib.pcode as pcode\n",
    "import pypcode\n",
    "lang = pypcode.Arch(\"Hack\", \"/tmp/Hack/data/hack.ldefs\").languages[0]\n",
    "ctx = pypcode.Context(lang)\n",
    "tx = ctx.disassemble(bytes.fromhex(\"1f\"))\n",
    "print(tx.instructions[0].mnem)\n",
    "print(pcode.pretty_insn(tx.instructions[0]))\n",
    "tx = ctx.translate(bytes.fromhex(\"1f\"))\n",
    "print(tx.ops)\n",
    "pcode.pretty_op(tx.ops[1])\n",
    "tx.ops[1].inputs[0].size"
   ]
  },
  {
   "cell_type": "markdown",
   "id": "c9bd5108",
   "metadata": {},
   "source": [
    "# sail\n",
    "Give sail another shake. Comparing and constrasting to sleigh is kind of interesting.\n",
    "\n"
   ]
  },
  {
   "cell_type": "code",
   "execution_count": null,
   "id": "7f718e00",
   "metadata": {},
   "outputs": [],
   "source": []
  },
  {
   "cell_type": "markdown",
   "id": "b0c8c797",
   "metadata": {},
   "source": [
    "# vec\n",
    "https://en.algorithmica.org/hpc/simd/"
   ]
  },
  {
   "cell_type": "code",
   "execution_count": 13,
   "id": "c37c2aeb",
   "metadata": {},
   "outputs": [
    {
     "name": "stdout",
     "output_type": "stream",
     "text": [
      "Overwriting /tmp/sum.c\n"
     ]
    }
   ],
   "source": [
    "%%file /tmp/sum.c\n",
    "//#pragma GCC target(\"avx2\")\n",
    "const int n = 1e5;\n",
    "int a[n], s = 0;\n",
    "\n",
    "int main() {\n",
    "    for (int t = 0; t < 100000; t++)\n",
    "        for (int i = 0; i < n; i++)\n",
    "            s += a[i];\n",
    "\n",
    "    return 0;\n",
    "}"
   ]
  },
  {
   "cell_type": "code",
   "execution_count": 15,
   "id": "45d2f899",
   "metadata": {},
   "outputs": [
    {
     "name": "stdout",
     "output_type": "stream",
     "text": [
      "\n",
      "real\t0m0.526s\n",
      "user\t0m0.522s\n",
      "sys\t0m0.001s\n"
     ]
    }
   ],
   "source": [
    "! g++ -O3 /tmp/sum.c -o /tmp/sum && time /tmp/sum"
   ]
  },
  {
   "cell_type": "code",
   "execution_count": 14,
   "id": "bd10f694",
   "metadata": {},
   "outputs": [
    {
     "name": "stdout",
     "output_type": "stream",
     "text": [
      "\n",
      "real\t0m0.137s\n",
      "user\t0m0.136s\n",
      "sys\t0m0.000s\n"
     ]
    }
   ],
   "source": [
    "! g++ -march=native -O3 /tmp/sum.c -o /tmp/sum && time /tmp/sum"
   ]
  },
  {
   "cell_type": "code",
   "execution_count": null,
   "id": "6303af2e",
   "metadata": {},
   "outputs": [
    {
     "name": "stdout",
     "output_type": "stream",
     "text": [
      "usage: pypcode [-h] [-l] [-o OFFSET] [-s LENGTH] [-i MAX_INSTRUCTIONS] [-b]\n",
      "               langid binary [base]\n",
      "pypcode: error: the following arguments are required: langid, binary\n"
     ]
    }
   ],
   "source": [
    "! python3 -m pypcode  "
   ]
  },
  {
   "cell_type": "code",
   "execution_count": 16,
   "id": "250b39d0",
   "metadata": {},
   "outputs": [
    {
     "name": "stdout",
     "output_type": "stream",
     "text": [
      "\t.file\t\"sum.c\"\n",
      "\t.intel_syntax noprefix\n",
      "\t.text\n",
      "\t.section\t.text.startup,\"ax\",@progbits\n",
      "\t.p2align 4\n",
      "\t.globl\tmain\n",
      "\t.type\tmain, @function\n",
      "main:\n",
      ".LFB0:\n",
      "\t.cfi_startproc\n",
      "\tendbr64\n",
      "\tlea\trdx, a[rip]\n",
      "\tmovd\txmm0, DWORD PTR s[rip]\n",
      "\tlea\trcx, 400000[rdx]\n",
      ".L2:\n",
      "\tmovdqa\txmm1, XMMWORD PTR [rdx]\n",
      "\tmov\teax, 100000\n",
      "\t.p2align 4,,10\n",
      "\t.p2align 3\n",
      ".L3:\n",
      "\tpaddd\txmm0, xmm1\n",
      "\tpaddd\txmm0, xmm1\n",
      "\tsub\teax, 2\n",
      "\tjne\t.L3\n",
      "\tadd\trdx, 16\n",
      "\tcmp\trcx, rdx\n",
      "\tjne\t.L2\n",
      "\tmovdqa\txmm1, xmm0\n",
      "\txor\teax, eax\n",
      "\tpsrldq\txmm1, 8\n",
      "\tpaddd\txmm0, xmm1\n",
      "\tmovdqa\txmm1, xmm0\n",
      "\tpsrldq\txmm1, 4\n",
      "\tpaddd\txmm0, xmm1\n",
      "\tmovd\tDWORD PTR s[rip], xmm0\n",
      "\tret\n",
      "\t.cfi_endproc\n",
      ".LFE0:\n",
      "\t.size\tmain, .-main\n",
      "\t.globl\ts\n"
     ]
    }
   ],
   "source": [
    "! g++ -O3 /tmp/sum.c -o /tmp/sum.S -S -masm=intel && head -40 /tmp/sum.S"
   ]
  },
  {
   "cell_type": "code",
   "execution_count": 18,
   "id": "1c871748",
   "metadata": {},
   "outputs": [
    {
     "name": "stdout",
     "output_type": "stream",
     "text": [
      "\t.file\t\"sum.c\"\n",
      "\t.intel_syntax noprefix\n",
      "\t.text\n",
      "\t.section\t.text.startup,\"ax\",@progbits\n",
      "\t.p2align 4\n",
      "\t.globl\tmain\n",
      "\t.type\tmain, @function\n",
      "main:\n",
      ".LFB0:\n",
      "\t.cfi_startproc\n",
      "\tendbr64\n",
      "\tlea\trdx, a[rip]\n",
      "\tvmovd\txmm0, DWORD PTR s[rip]\n",
      "\tlea\trcx, 400000[rdx]\n",
      ".L2:\n",
      "\tvmovdqa32\tzmm1, ZMMWORD PTR [rdx]\n",
      "\tmov\teax, 100000\n",
      "\t.p2align 4\n",
      "\t.p2align 3\n",
      ".L3:\n",
      "\tvpaddd\tzmm0, zmm0, zmm1\n",
      "\tsub\teax, 2\n",
      "\tvpaddd\tzmm0, zmm0, zmm1\n",
      "\tjne\t.L3\n",
      "\tadd\trdx, 64\n",
      "\tcmp\trcx, rdx\n",
      "\tjne\t.L2\n",
      "\tvmovdqa\tymm1, ymm0\n",
      "\tvextracti32x8\tymm0, zmm0, 0x1\n",
      "\txor\teax, eax\n",
      "\tvpaddd\tymm1, ymm1, ymm0\n",
      "\tvmovdqa\txmm0, xmm1\n",
      "\tvextracti128\txmm1, ymm1, 0x1\n",
      "\tvpaddd\txmm0, xmm0, xmm1\n",
      "\tvpsrldq\txmm1, xmm0, 8\n",
      "\tvpaddd\txmm0, xmm0, xmm1\n",
      "\tvpsrldq\txmm1, xmm0, 4\n",
      "\tvpaddd\txmm0, xmm0, xmm1\n",
      "\tvmovd\tDWORD PTR s[rip], xmm0\n",
      "\tvzeroupper\n",
      "\tret\n",
      "\t.cfi_endproc\n",
      ".LFE0:\n",
      "\t.size\tmain, .-main\n",
      "\t.globl\ts\n",
      "\t.bss\n",
      "\t.align 4\n",
      "\t.type\ts, @object\n",
      "\t.size\ts, 4\n",
      "s:\n",
      "\t.zero\t4\n",
      "\t.globl\ta\n",
      "\t.align 64\n",
      "\t.type\ta, @object\n",
      "\t.size\ta, 400000\n",
      "a:\n",
      "\t.zero\t400000\n",
      "\t.ident\t\"GCC: (Ubuntu 13.3.0-6ubuntu2~24.04) 13.3.0\"\n",
      "\t.section\t.note.GNU-stack,\"\",@progbits\n",
      "\t.section\t.note.gnu.property,\"a\"\n"
     ]
    }
   ],
   "source": [
    "! g++ -march=native -O3 /tmp/sum.c -o /tmp/sum.S -S -masm=intel && head -60 /tmp/sum.S"
   ]
  },
  {
   "cell_type": "code",
   "execution_count": 21,
   "id": "318d8bd0",
   "metadata": {},
   "outputs": [
    {
     "name": "stdout",
     "output_type": "stream",
     "text": [
      "Writing /tmp/support.cpp\n"
     ]
    }
   ],
   "source": [
    "%%file /tmp/support.cpp\n",
    "#include <iostream>\n",
    "using namespace std;\n",
    "\n",
    "int main() {\n",
    "    cout << __builtin_cpu_supports(\"sse\") << endl;\n",
    "    cout << __builtin_cpu_supports(\"sse2\") << endl;\n",
    "    cout << __builtin_cpu_supports(\"avx\") << endl;\n",
    "    cout << __builtin_cpu_supports(\"avx2\") << endl;\n",
    "    cout << __builtin_cpu_supports(\"avx512f\") << endl;\n",
    "\n",
    "    return 0;\n",
    "}"
   ]
  },
  {
   "cell_type": "code",
   "execution_count": 23,
   "id": "5cfa00a4",
   "metadata": {},
   "outputs": [
    {
     "name": "stdout",
     "output_type": "stream",
     "text": [
      "8\n",
      "16\n",
      "512\n",
      "1024\n",
      "32768\n"
     ]
    }
   ],
   "source": [
    "! g++ -O3 /tmp/support.cpp -o /tmp/support && /tmp/support"
   ]
  },
  {
   "cell_type": "code",
   "execution_count": 25,
   "id": "dd461b4c",
   "metadata": {},
   "outputs": [
    {
     "name": "stdout",
     "output_type": "stream",
     "text": [
      "processor\t: 0\n",
      "vendor_id\t: AuthenticAMD\n",
      "cpu family\t: 25\n",
      "model\t\t: 116\n",
      "model name\t: AMD Ryzen 7 PRO 7840U w/ Radeon 780M Graphics\n",
      "stepping\t: 1\n",
      "microcode\t: 0xa704107\n",
      "cpu MHz\t\t: 4707.835\n",
      "cache size\t: 1024 KB\n",
      "physical id\t: 0\n",
      "siblings\t: 16\n",
      "core id\t\t: 0\n",
      "cpu cores\t: 8\n",
      "apicid\t\t: 0\n",
      "initial apicid\t: 0\n",
      "fpu\t\t: yes\n",
      "fpu_exception\t: yes\n",
      "cpuid level\t: 16\n",
      "wp\t\t: yes\n",
      "flags\t\t: fpu vme de pse tsc msr pae mce cx8 apic sep mtrr pge mca cmov pat pse36 clflush mmx fxsr sse sse2 ht syscall nx mmxext fxsr_opt pdpe1gb rdtscp lm constant_tsc rep_good amd_lbr_v2 nopl xtopology nonstop_tsc cpuid extd_apicid aperfmperf rapl pni pclmulqdq monitor ssse3 fma cx16 sse4_1 sse4_2 x2apic movbe popcnt aes xsave avx f16c rdrand lahf_lm cmp_legacy svm extapic cr8_legacy abm sse4a misalignsse 3dnowprefetch osvw ibs skinit wdt tce topoext perfctr_core perfctr_nb bpext perfctr_llc mwaitx cpb cat_l3 cdp_l3 hw_pstate ssbd mba perfmon_v2 ibrs ibpb stibp ibrs_enhanced vmmcall fsgsbase bmi1 avx2 smep bmi2 erms invpcid cqm rdt_a avx512f avx512dq rdseed adx smap avx512ifma clflushopt clwb avx512cd sha_ni avx512bw avx512vl xsaveopt xsavec xgetbv1 xsaves cqm_llc cqm_occup_llc cqm_mbm_total cqm_mbm_local user_shstk avx512_bf16 clzero irperf xsaveerptr rdpru wbnoinvd cppc arat npt lbrv svm_lock nrip_save tsc_scale vmcb_clean flushbyasid decodeassists pausefilter pfthreshold vgif x2avic v_spec_ctrl vnmi avx512vbmi umip pku ospke avx512_vbmi2 gfni vaes vpclmulqdq avx512_vnni avx512_bitalg avx512_vpopcntdq rdpid overflow_recov succor smca fsrm flush_l1d amd_lbr_pmc_freeze\n",
      "bugs\t\t: sysret_ss_attrs spectre_v1 spectre_v2 spec_store_bypass srso\n",
      "bogomips\t: 6587.30\n",
      "TLB size\t: 3584 4K pages\n",
      "clflush size\t: 64\n",
      "cache_alignment\t: 64\n",
      "address sizes\t: 48 bits physical, 48 bits virtual\n",
      "power management: ts ttp tm hwpstate cpb eff_freq_ro [13] [14] [15]\n",
      "\n",
      "processor\t: 1\n",
      "vendor_id\t: AuthenticAMD\n",
      "cpu family\t: 25\n",
      "model\t\t: 116\n",
      "model name\t: AMD Ryzen 7 PRO 7840U w/ Radeon 780M Graphics\n",
      "stepping\t: 1\n",
      "microcode\t: 0xa704107\n",
      "cpu MHz\t\t: 3370.201\n",
      "cache size\t: 1024 KB\n",
      "physical id\t: 0\n",
      "siblings\t: 16\n",
      "core id\t\t: 0\n",
      "cpu cores\t: 8\n",
      "apicid\t\t: 1\n",
      "initial apicid\t: 1\n",
      "fpu\t\t: yes\n",
      "fpu_exception\t: yes\n",
      "cpuid level\t: 16\n",
      "wp\t\t: yes\n",
      "flags\t\t: fpu vme de pse tsc msr pae mce cx8 apic sep mtrr pge mca cmov pat pse36 clflush mmx fxsr sse sse2 ht syscall nx mmxext fxsr_opt pdpe1gb rdtscp lm constant_tsc rep_good amd_lbr_v2 nopl xtopology nonstop_tsc cpuid extd_apicid aperfmperf rapl pni pclmulqdq monitor ssse3 fma cx16 sse4_1 sse4_2 x2apic movbe popcnt aes xsave avx f16c rdrand lahf_lm cmp_legacy svm extapic cr8_legacy abm sse4a misalignsse 3dnowprefetch osvw ibs skinit wdt tce topoext perfctr_core perfctr_nb bpext perfctr_llc mwaitx cpb cat_l3 cdp_l3 hw_pstate ssbd mba perfmon_v2 ibrs ibpb stibp ibrs_enhanced vmmcall fsgsbase bmi1 avx2 smep bmi2 erms invpcid cqm rdt_a avx512f avx512dq rdseed adx smap avx512ifma clflushopt clwb avx512cd sha_ni avx512bw avx512vl xsaveopt xsavec xgetbv1 xsaves cqm_llc cqm_occup_llc cqm_mbm_total cqm_mbm_local user_shstk avx512_bf16 clzero irperf xsaveerptr rdpru wbnoinvd cppc arat npt lbrv svm_lock nrip_save tsc_scale vmcb_clean flushbyasid decodeassists pausefilter pfthreshold vgif x2avic v_spec_ctrl vnmi avx512vbmi umip pku ospke avx512_vbmi2 gfni vaes vpclmulqdq avx512_vnni avx512_bitalg avx512_vpopcntdq rdpid overflow_recov succor smca fsrm flush_l1d amd_lbr_pmc_freeze\n",
      "bugs\t\t: sysret_ss_attrs spectre_v1 spectre_v2 spec_store_bypass srso\n",
      "bogomips\t: 6587.30\n",
      "TLB size\t: 3584 4K pages\n",
      "clflush size\t: 64\n",
      "cache_alignment\t: 64\n",
      "address sizes\t: 48 bits physical, 48 bits virtual\n",
      "power management: ts ttp tm hwpstate cpb eff_freq_ro [13] [14] [15]\n",
      "\n",
      "processor\t: 2\n",
      "vendor_id\t: AuthenticAMD\n",
      "cpu family\t: 25\n",
      "model\t\t: 116\n",
      "model name\t: AMD Ryzen 7 PRO 7840U w/ Radeon 780M Graphics\n",
      "stepping\t: 1\n",
      "microcode\t: 0xa704107\n",
      "cpu MHz\t\t: 4580.854\n",
      "cache size\t: 1024 KB\n",
      "physical id\t: 0\n",
      "siblings\t: 16\n",
      "core id\t\t: 1\n",
      "cpu cores\t: 8\n",
      "apicid\t\t: 2\n",
      "initial apicid\t: 2\n",
      "fpu\t\t: yes\n",
      "fpu_exception\t: yes\n",
      "cpuid level\t: 16\n",
      "wp\t\t: yes\n",
      "flags\t\t: fpu vme de pse tsc msr pae mce cx8 apic sep mtrr pge mca cmov pat pse36 clflush mmx fxsr sse sse2 ht syscall nx mmxext fxsr_opt pdpe1gb rdtscp lm constant_tsc rep_good amd_lbr_v2 nopl xtopology nonstop_tsc cpuid extd_apicid aperfmperf rapl pni pclmulqdq monitor ssse3 fma cx16 sse4_1 sse4_2 x2apic movbe popcnt aes xsave avx f16c rdrand lahf_lm cmp_legacy svm extapic cr8_legacy abm sse4a misalignsse 3dnowprefetch osvw ibs skinit wdt tce topoext perfctr_core perfctr_nb bpext perfctr_llc mwaitx cpb cat_l3 cdp_l3 hw_pstate ssbd mba perfmon_v2 ibrs ibpb stibp ibrs_enhanced vmmcall fsgsbase bmi1 avx2 smep bmi2 erms invpcid cqm rdt_a avx512f avx512dq rdseed adx smap avx512ifma clflushopt clwb avx512cd sha_ni avx512bw avx512vl xsaveopt xsavec xgetbv1 xsaves cqm_llc cqm_occup_llc cqm_mbm_total cqm_mbm_local user_shstk avx512_bf16 clzero irperf xsaveerptr rdpru wbnoinvd cppc arat npt lbrv svm_lock nrip_save tsc_scale vmcb_clean flushbyasid decodeassists pausefilter pfthreshold vgif x2avic v_spec_ctrl vnmi avx512vbmi umip pku ospke avx512_vbmi2 gfni vaes vpclmulqdq avx512_vnni avx512_bitalg avx512_vpopcntdq rdpid overflow_recov succor smca fsrm flush_l1d amd_lbr_pmc_freeze\n",
      "bugs\t\t: sysret_ss_attrs spectre_v1 spectre_v2 spec_store_bypass srso\n",
      "bogomips\t: 6587.30\n",
      "TLB size\t: 3584 4K pages\n",
      "clflush size\t: 64\n",
      "cache_alignment\t: 64\n",
      "address sizes\t: 48 bits physical, 48 bits virtual\n",
      "power management: ts ttp tm hwpstate cpb eff_freq_ro [13] [14] [15]\n",
      "\n",
      "processor\t: 3\n",
      "vendor_id\t: AuthenticAMD\n",
      "cpu family\t: 25\n",
      "model\t\t: 116\n",
      "model name\t: AMD Ryzen 7 PRO 7840U w/ Radeon 780M Graphics\n",
      "stepping\t: 1\n",
      "microcode\t: 0xa704107\n",
      "cpu MHz\t\t: 4839.870\n",
      "cache size\t: 1024 KB\n",
      "physical id\t: 0\n",
      "siblings\t: 16\n",
      "core id\t\t: 1\n",
      "cpu cores\t: 8\n",
      "apicid\t\t: 3\n",
      "initial apicid\t: 3\n",
      "fpu\t\t: yes\n",
      "fpu_exception\t: yes\n",
      "cpuid level\t: 16\n",
      "wp\t\t: yes\n",
      "flags\t\t: fpu vme de pse tsc msr pae mce cx8 apic sep mtrr pge mca cmov pat pse36 clflush mmx fxsr sse sse2 ht syscall nx mmxext fxsr_opt pdpe1gb rdtscp lm constant_tsc rep_good amd_lbr_v2 nopl xtopology nonstop_tsc cpuid extd_apicid aperfmperf rapl pni pclmulqdq monitor ssse3 fma cx16 sse4_1 sse4_2 x2apic movbe popcnt aes xsave avx f16c rdrand lahf_lm cmp_legacy svm extapic cr8_legacy abm sse4a misalignsse 3dnowprefetch osvw ibs skinit wdt tce topoext perfctr_core perfctr_nb bpext perfctr_llc mwaitx cpb cat_l3 cdp_l3 hw_pstate ssbd mba perfmon_v2 ibrs ibpb stibp ibrs_enhanced vmmcall fsgsbase bmi1 avx2 smep bmi2 erms invpcid cqm rdt_a avx512f avx512dq rdseed adx smap avx512ifma clflushopt clwb avx512cd sha_ni avx512bw avx512vl xsaveopt xsavec xgetbv1 xsaves cqm_llc cqm_occup_llc cqm_mbm_total cqm_mbm_local user_shstk avx512_bf16 clzero irperf xsaveerptr rdpru wbnoinvd cppc arat npt lbrv svm_lock nrip_save tsc_scale vmcb_clean flushbyasid decodeassists pausefilter pfthreshold vgif x2avic v_spec_ctrl vnmi avx512vbmi umip pku ospke avx512_vbmi2 gfni vaes vpclmulqdq avx512_vnni avx512_bitalg avx512_vpopcntdq rdpid overflow_recov succor smca fsrm flush_l1d amd_lbr_pmc_freeze\n",
      "bugs\t\t: sysret_ss_attrs spectre_v1 spectre_v2 spec_store_bypass srso\n",
      "bogomips\t: 6587.30\n",
      "TLB size\t: 3584 4K pages\n",
      "clflush size\t: 64\n",
      "cache_alignment\t: 64\n",
      "address sizes\t: 48 bits physical, 48 bits virtual\n",
      "power management: ts ttp tm hwpstate cpb eff_freq_ro [13] [14] [15]\n",
      "\n",
      "processor\t: 4\n",
      "vendor_id\t: AuthenticAMD\n",
      "cpu family\t: 25\n",
      "model\t\t: 116\n",
      "model name\t: AMD Ryzen 7 PRO 7840U w/ Radeon 780M Graphics\n",
      "stepping\t: 1\n",
      "microcode\t: 0xa704107\n",
      "cpu MHz\t\t: 4831.547\n",
      "cache size\t: 1024 KB\n",
      "physical id\t: 0\n",
      "siblings\t: 16\n",
      "core id\t\t: 2\n",
      "cpu cores\t: 8\n",
      "apicid\t\t: 4\n",
      "initial apicid\t: 4\n",
      "fpu\t\t: yes\n",
      "fpu_exception\t: yes\n",
      "cpuid level\t: 16\n",
      "wp\t\t: yes\n",
      "flags\t\t: fpu vme de pse tsc msr pae mce cx8 apic sep mtrr pge mca cmov pat pse36 clflush mmx fxsr sse sse2 ht syscall nx mmxext fxsr_opt pdpe1gb rdtscp lm constant_tsc rep_good amd_lbr_v2 nopl xtopology nonstop_tsc cpuid extd_apicid aperfmperf rapl pni pclmulqdq monitor ssse3 fma cx16 sse4_1 sse4_2 x2apic movbe popcnt aes xsave avx f16c rdrand lahf_lm cmp_legacy svm extapic cr8_legacy abm sse4a misalignsse 3dnowprefetch osvw ibs skinit wdt tce topoext perfctr_core perfctr_nb bpext perfctr_llc mwaitx cpb cat_l3 cdp_l3 hw_pstate ssbd mba perfmon_v2 ibrs ibpb stibp ibrs_enhanced vmmcall fsgsbase bmi1 avx2 smep bmi2 erms invpcid cqm rdt_a avx512f avx512dq rdseed adx smap avx512ifma clflushopt clwb avx512cd sha_ni avx512bw avx512vl xsaveopt xsavec xgetbv1 xsaves cqm_llc cqm_occup_llc cqm_mbm_total cqm_mbm_local user_shstk avx512_bf16 clzero irperf xsaveerptr rdpru wbnoinvd cppc arat npt lbrv svm_lock nrip_save tsc_scale vmcb_clean flushbyasid decodeassists pausefilter pfthreshold vgif x2avic v_spec_ctrl vnmi avx512vbmi umip pku ospke avx512_vbmi2 gfni vaes vpclmulqdq avx512_vnni avx512_bitalg avx512_vpopcntdq rdpid overflow_recov succor smca fsrm flush_l1d amd_lbr_pmc_freeze\n",
      "bugs\t\t: sysret_ss_attrs spectre_v1 spectre_v2 spec_store_bypass srso\n",
      "bogomips\t: 6587.30\n",
      "TLB size\t: 3584 4K pages\n",
      "clflush size\t: 64\n",
      "cache_alignment\t: 64\n",
      "address sizes\t: 48 bits physical, 48 bits virtual\n",
      "power management: ts ttp tm hwpstate cpb eff_freq_ro [13] [14] [15]\n",
      "\n",
      "processor\t: 5\n",
      "vendor_id\t: AuthenticAMD\n",
      "cpu family\t: 25\n",
      "model\t\t: 116\n",
      "model name\t: AMD Ryzen 7 PRO 7840U w/ Radeon 780M Graphics\n",
      "stepping\t: 1\n",
      "microcode\t: 0xa704107\n",
      "cpu MHz\t\t: 4852.717\n",
      "cache size\t: 1024 KB\n",
      "physical id\t: 0\n",
      "siblings\t: 16\n",
      "core id\t\t: 2\n",
      "cpu cores\t: 8\n",
      "apicid\t\t: 5\n",
      "initial apicid\t: 5\n",
      "fpu\t\t: yes\n",
      "fpu_exception\t: yes\n",
      "cpuid level\t: 16\n",
      "wp\t\t: yes\n",
      "flags\t\t: fpu vme de pse tsc msr pae mce cx8 apic sep mtrr pge mca cmov pat pse36 clflush mmx fxsr sse sse2 ht syscall nx mmxext fxsr_opt pdpe1gb rdtscp lm constant_tsc rep_good amd_lbr_v2 nopl xtopology nonstop_tsc cpuid extd_apicid aperfmperf rapl pni pclmulqdq monitor ssse3 fma cx16 sse4_1 sse4_2 x2apic movbe popcnt aes xsave avx f16c rdrand lahf_lm cmp_legacy svm extapic cr8_legacy abm sse4a misalignsse 3dnowprefetch osvw ibs skinit wdt tce topoext perfctr_core perfctr_nb bpext perfctr_llc mwaitx cpb cat_l3 cdp_l3 hw_pstate ssbd mba perfmon_v2 ibrs ibpb stibp ibrs_enhanced vmmcall fsgsbase bmi1 avx2 smep bmi2 erms invpcid cqm rdt_a avx512f avx512dq rdseed adx smap avx512ifma clflushopt clwb avx512cd sha_ni avx512bw avx512vl xsaveopt xsavec xgetbv1 xsaves cqm_llc cqm_occup_llc cqm_mbm_total cqm_mbm_local user_shstk avx512_bf16 clzero irperf xsaveerptr rdpru wbnoinvd cppc arat npt lbrv svm_lock nrip_save tsc_scale vmcb_clean flushbyasid decodeassists pausefilter pfthreshold vgif x2avic v_spec_ctrl vnmi avx512vbmi umip pku ospke avx512_vbmi2 gfni vaes vpclmulqdq avx512_vnni avx512_bitalg avx512_vpopcntdq rdpid overflow_recov succor smca fsrm flush_l1d amd_lbr_pmc_freeze\n",
      "bugs\t\t: sysret_ss_attrs spectre_v1 spectre_v2 spec_store_bypass srso\n",
      "bogomips\t: 6587.30\n",
      "TLB size\t: 3584 4K pages\n",
      "clflush size\t: 64\n",
      "cache_alignment\t: 64\n",
      "address sizes\t: 48 bits physical, 48 bits virtual\n",
      "power management: ts ttp tm hwpstate cpb eff_freq_ro [13] [14] [15]\n",
      "\n",
      "processor\t: 6\n",
      "vendor_id\t: AuthenticAMD\n",
      "cpu family\t: 25\n",
      "model\t\t: 116\n",
      "model name\t: AMD Ryzen 7 PRO 7840U w/ Radeon 780M Graphics\n",
      "stepping\t: 1\n",
      "microcode\t: 0xa704107\n",
      "cpu MHz\t\t: 4838.696\n",
      "cache size\t: 1024 KB\n",
      "physical id\t: 0\n",
      "siblings\t: 16\n",
      "core id\t\t: 3\n",
      "cpu cores\t: 8\n",
      "apicid\t\t: 6\n",
      "initial apicid\t: 6\n",
      "fpu\t\t: yes\n",
      "fpu_exception\t: yes\n",
      "cpuid level\t: 16\n",
      "wp\t\t: yes\n",
      "flags\t\t: fpu vme de pse tsc msr pae mce cx8 apic sep mtrr pge mca cmov pat pse36 clflush mmx fxsr sse sse2 ht syscall nx mmxext fxsr_opt pdpe1gb rdtscp lm constant_tsc rep_good amd_lbr_v2 nopl xtopology nonstop_tsc cpuid extd_apicid aperfmperf rapl pni pclmulqdq monitor ssse3 fma cx16 sse4_1 sse4_2 x2apic movbe popcnt aes xsave avx f16c rdrand lahf_lm cmp_legacy svm extapic cr8_legacy abm sse4a misalignsse 3dnowprefetch osvw ibs skinit wdt tce topoext perfctr_core perfctr_nb bpext perfctr_llc mwaitx cpb cat_l3 cdp_l3 hw_pstate ssbd mba perfmon_v2 ibrs ibpb stibp ibrs_enhanced vmmcall fsgsbase bmi1 avx2 smep bmi2 erms invpcid cqm rdt_a avx512f avx512dq rdseed adx smap avx512ifma clflushopt clwb avx512cd sha_ni avx512bw avx512vl xsaveopt xsavec xgetbv1 xsaves cqm_llc cqm_occup_llc cqm_mbm_total cqm_mbm_local user_shstk avx512_bf16 clzero irperf xsaveerptr rdpru wbnoinvd cppc arat npt lbrv svm_lock nrip_save tsc_scale vmcb_clean flushbyasid decodeassists pausefilter pfthreshold vgif x2avic v_spec_ctrl vnmi avx512vbmi umip pku ospke avx512_vbmi2 gfni vaes vpclmulqdq avx512_vnni avx512_bitalg avx512_vpopcntdq rdpid overflow_recov succor smca fsrm flush_l1d amd_lbr_pmc_freeze\n",
      "bugs\t\t: sysret_ss_attrs spectre_v1 spectre_v2 spec_store_bypass srso\n",
      "bogomips\t: 6587.30\n",
      "TLB size\t: 3584 4K pages\n",
      "clflush size\t: 64\n",
      "cache_alignment\t: 64\n",
      "address sizes\t: 48 bits physical, 48 bits virtual\n",
      "power management: ts ttp tm hwpstate cpb eff_freq_ro [13] [14] [15]\n",
      "\n",
      "processor\t: 7\n",
      "vendor_id\t: AuthenticAMD\n",
      "cpu family\t: 25\n",
      "model\t\t: 116\n",
      "model name\t: AMD Ryzen 7 PRO 7840U w/ Radeon 780M Graphics\n",
      "stepping\t: 1\n",
      "microcode\t: 0xa704107\n",
      "cpu MHz\t\t: 1100.000\n",
      "cache size\t: 1024 KB\n",
      "physical id\t: 0\n",
      "siblings\t: 16\n",
      "core id\t\t: 3\n",
      "cpu cores\t: 8\n",
      "apicid\t\t: 7\n",
      "initial apicid\t: 7\n",
      "fpu\t\t: yes\n",
      "fpu_exception\t: yes\n",
      "cpuid level\t: 16\n",
      "wp\t\t: yes\n",
      "flags\t\t: fpu vme de pse tsc msr pae mce cx8 apic sep mtrr pge mca cmov pat pse36 clflush mmx fxsr sse sse2 ht syscall nx mmxext fxsr_opt pdpe1gb rdtscp lm constant_tsc rep_good amd_lbr_v2 nopl xtopology nonstop_tsc cpuid extd_apicid aperfmperf rapl pni pclmulqdq monitor ssse3 fma cx16 sse4_1 sse4_2 x2apic movbe popcnt aes xsave avx f16c rdrand lahf_lm cmp_legacy svm extapic cr8_legacy abm sse4a misalignsse 3dnowprefetch osvw ibs skinit wdt tce topoext perfctr_core perfctr_nb bpext perfctr_llc mwaitx cpb cat_l3 cdp_l3 hw_pstate ssbd mba perfmon_v2 ibrs ibpb stibp ibrs_enhanced vmmcall fsgsbase bmi1 avx2 smep bmi2 erms invpcid cqm rdt_a avx512f avx512dq rdseed adx smap avx512ifma clflushopt clwb avx512cd sha_ni avx512bw avx512vl xsaveopt xsavec xgetbv1 xsaves cqm_llc cqm_occup_llc cqm_mbm_total cqm_mbm_local user_shstk avx512_bf16 clzero irperf xsaveerptr rdpru wbnoinvd cppc arat npt lbrv svm_lock nrip_save tsc_scale vmcb_clean flushbyasid decodeassists pausefilter pfthreshold vgif x2avic v_spec_ctrl vnmi avx512vbmi umip pku ospke avx512_vbmi2 gfni vaes vpclmulqdq avx512_vnni avx512_bitalg avx512_vpopcntdq rdpid overflow_recov succor smca fsrm flush_l1d amd_lbr_pmc_freeze\n",
      "bugs\t\t: sysret_ss_attrs spectre_v1 spectre_v2 spec_store_bypass srso\n",
      "bogomips\t: 6587.30\n",
      "TLB size\t: 3584 4K pages\n",
      "clflush size\t: 64\n",
      "cache_alignment\t: 64\n",
      "address sizes\t: 48 bits physical, 48 bits virtual\n",
      "power management: ts ttp tm hwpstate cpb eff_freq_ro [13] [14] [15]\n",
      "\n",
      "processor\t: 8\n",
      "vendor_id\t: AuthenticAMD\n",
      "cpu family\t: 25\n",
      "model\t\t: 116\n",
      "model name\t: AMD Ryzen 7 PRO 7840U w/ Radeon 780M Graphics\n",
      "stepping\t: 1\n",
      "microcode\t: 0xa704107\n",
      "cpu MHz\t\t: 3832.831\n",
      "cache size\t: 1024 KB\n",
      "physical id\t: 0\n",
      "siblings\t: 16\n",
      "core id\t\t: 4\n",
      "cpu cores\t: 8\n",
      "apicid\t\t: 8\n",
      "initial apicid\t: 8\n",
      "fpu\t\t: yes\n",
      "fpu_exception\t: yes\n",
      "cpuid level\t: 16\n",
      "wp\t\t: yes\n",
      "flags\t\t: fpu vme de pse tsc msr pae mce cx8 apic sep mtrr pge mca cmov pat pse36 clflush mmx fxsr sse sse2 ht syscall nx mmxext fxsr_opt pdpe1gb rdtscp lm constant_tsc rep_good amd_lbr_v2 nopl xtopology nonstop_tsc cpuid extd_apicid aperfmperf rapl pni pclmulqdq monitor ssse3 fma cx16 sse4_1 sse4_2 x2apic movbe popcnt aes xsave avx f16c rdrand lahf_lm cmp_legacy svm extapic cr8_legacy abm sse4a misalignsse 3dnowprefetch osvw ibs skinit wdt tce topoext perfctr_core perfctr_nb bpext perfctr_llc mwaitx cpb cat_l3 cdp_l3 hw_pstate ssbd mba perfmon_v2 ibrs ibpb stibp ibrs_enhanced vmmcall fsgsbase bmi1 avx2 smep bmi2 erms invpcid cqm rdt_a avx512f avx512dq rdseed adx smap avx512ifma clflushopt clwb avx512cd sha_ni avx512bw avx512vl xsaveopt xsavec xgetbv1 xsaves cqm_llc cqm_occup_llc cqm_mbm_total cqm_mbm_local user_shstk avx512_bf16 clzero irperf xsaveerptr rdpru wbnoinvd cppc arat npt lbrv svm_lock nrip_save tsc_scale vmcb_clean flushbyasid decodeassists pausefilter pfthreshold vgif x2avic v_spec_ctrl vnmi avx512vbmi umip pku ospke avx512_vbmi2 gfni vaes vpclmulqdq avx512_vnni avx512_bitalg avx512_vpopcntdq rdpid overflow_recov succor smca fsrm flush_l1d amd_lbr_pmc_freeze\n",
      "bugs\t\t: sysret_ss_attrs spectre_v1 spectre_v2 spec_store_bypass srso\n",
      "bogomips\t: 6587.30\n",
      "TLB size\t: 3584 4K pages\n",
      "clflush size\t: 64\n",
      "cache_alignment\t: 64\n",
      "address sizes\t: 48 bits physical, 48 bits virtual\n",
      "power management: ts ttp tm hwpstate cpb eff_freq_ro [13] [14] [15]\n",
      "\n",
      "processor\t: 9\n",
      "vendor_id\t: AuthenticAMD\n",
      "cpu family\t: 25\n",
      "model\t\t: 116\n",
      "model name\t: AMD Ryzen 7 PRO 7840U w/ Radeon 780M Graphics\n",
      "stepping\t: 1\n",
      "microcode\t: 0xa704107\n",
      "cpu MHz\t\t: 4840.665\n",
      "cache size\t: 1024 KB\n",
      "physical id\t: 0\n",
      "siblings\t: 16\n",
      "core id\t\t: 4\n",
      "cpu cores\t: 8\n",
      "apicid\t\t: 9\n",
      "initial apicid\t: 9\n",
      "fpu\t\t: yes\n",
      "fpu_exception\t: yes\n",
      "cpuid level\t: 16\n",
      "wp\t\t: yes\n",
      "flags\t\t: fpu vme de pse tsc msr pae mce cx8 apic sep mtrr pge mca cmov pat pse36 clflush mmx fxsr sse sse2 ht syscall nx mmxext fxsr_opt pdpe1gb rdtscp lm constant_tsc rep_good amd_lbr_v2 nopl xtopology nonstop_tsc cpuid extd_apicid aperfmperf rapl pni pclmulqdq monitor ssse3 fma cx16 sse4_1 sse4_2 x2apic movbe popcnt aes xsave avx f16c rdrand lahf_lm cmp_legacy svm extapic cr8_legacy abm sse4a misalignsse 3dnowprefetch osvw ibs skinit wdt tce topoext perfctr_core perfctr_nb bpext perfctr_llc mwaitx cpb cat_l3 cdp_l3 hw_pstate ssbd mba perfmon_v2 ibrs ibpb stibp ibrs_enhanced vmmcall fsgsbase bmi1 avx2 smep bmi2 erms invpcid cqm rdt_a avx512f avx512dq rdseed adx smap avx512ifma clflushopt clwb avx512cd sha_ni avx512bw avx512vl xsaveopt xsavec xgetbv1 xsaves cqm_llc cqm_occup_llc cqm_mbm_total cqm_mbm_local user_shstk avx512_bf16 clzero irperf xsaveerptr rdpru wbnoinvd cppc arat npt lbrv svm_lock nrip_save tsc_scale vmcb_clean flushbyasid decodeassists pausefilter pfthreshold vgif x2avic v_spec_ctrl vnmi avx512vbmi umip pku ospke avx512_vbmi2 gfni vaes vpclmulqdq avx512_vnni avx512_bitalg avx512_vpopcntdq rdpid overflow_recov succor smca fsrm flush_l1d amd_lbr_pmc_freeze\n",
      "bugs\t\t: sysret_ss_attrs spectre_v1 spectre_v2 spec_store_bypass srso\n",
      "bogomips\t: 6587.30\n",
      "TLB size\t: 3584 4K pages\n",
      "clflush size\t: 64\n",
      "cache_alignment\t: 64\n",
      "address sizes\t: 48 bits physical, 48 bits virtual\n",
      "power management: ts ttp tm hwpstate cpb eff_freq_ro [13] [14] [15]\n",
      "\n",
      "processor\t: 10\n",
      "vendor_id\t: AuthenticAMD\n",
      "cpu family\t: 25\n",
      "model\t\t: 116\n",
      "model name\t: AMD Ryzen 7 PRO 7840U w/ Radeon 780M Graphics\n",
      "stepping\t: 1\n",
      "microcode\t: 0xa704107\n",
      "cpu MHz\t\t: 4845.693\n",
      "cache size\t: 1024 KB\n",
      "physical id\t: 0\n",
      "siblings\t: 16\n",
      "core id\t\t: 5\n",
      "cpu cores\t: 8\n",
      "apicid\t\t: 10\n",
      "initial apicid\t: 10\n",
      "fpu\t\t: yes\n",
      "fpu_exception\t: yes\n",
      "cpuid level\t: 16\n",
      "wp\t\t: yes\n",
      "flags\t\t: fpu vme de pse tsc msr pae mce cx8 apic sep mtrr pge mca cmov pat pse36 clflush mmx fxsr sse sse2 ht syscall nx mmxext fxsr_opt pdpe1gb rdtscp lm constant_tsc rep_good amd_lbr_v2 nopl xtopology nonstop_tsc cpuid extd_apicid aperfmperf rapl pni pclmulqdq monitor ssse3 fma cx16 sse4_1 sse4_2 x2apic movbe popcnt aes xsave avx f16c rdrand lahf_lm cmp_legacy svm extapic cr8_legacy abm sse4a misalignsse 3dnowprefetch osvw ibs skinit wdt tce topoext perfctr_core perfctr_nb bpext perfctr_llc mwaitx cpb cat_l3 cdp_l3 hw_pstate ssbd mba perfmon_v2 ibrs ibpb stibp ibrs_enhanced vmmcall fsgsbase bmi1 avx2 smep bmi2 erms invpcid cqm rdt_a avx512f avx512dq rdseed adx smap avx512ifma clflushopt clwb avx512cd sha_ni avx512bw avx512vl xsaveopt xsavec xgetbv1 xsaves cqm_llc cqm_occup_llc cqm_mbm_total cqm_mbm_local user_shstk avx512_bf16 clzero irperf xsaveerptr rdpru wbnoinvd cppc arat npt lbrv svm_lock nrip_save tsc_scale vmcb_clean flushbyasid decodeassists pausefilter pfthreshold vgif x2avic v_spec_ctrl vnmi avx512vbmi umip pku ospke avx512_vbmi2 gfni vaes vpclmulqdq avx512_vnni avx512_bitalg avx512_vpopcntdq rdpid overflow_recov succor smca fsrm flush_l1d amd_lbr_pmc_freeze\n",
      "bugs\t\t: sysret_ss_attrs spectre_v1 spectre_v2 spec_store_bypass srso\n",
      "bogomips\t: 6587.30\n",
      "TLB size\t: 3584 4K pages\n",
      "clflush size\t: 64\n",
      "cache_alignment\t: 64\n",
      "address sizes\t: 48 bits physical, 48 bits virtual\n",
      "power management: ts ttp tm hwpstate cpb eff_freq_ro [13] [14] [15]\n",
      "\n",
      "processor\t: 11\n",
      "vendor_id\t: AuthenticAMD\n",
      "cpu family\t: 25\n",
      "model\t\t: 116\n",
      "model name\t: AMD Ryzen 7 PRO 7840U w/ Radeon 780M Graphics\n",
      "stepping\t: 1\n",
      "microcode\t: 0xa704107\n",
      "cpu MHz\t\t: 4865.670\n",
      "cache size\t: 1024 KB\n",
      "physical id\t: 0\n",
      "siblings\t: 16\n",
      "core id\t\t: 5\n",
      "cpu cores\t: 8\n",
      "apicid\t\t: 11\n",
      "initial apicid\t: 11\n",
      "fpu\t\t: yes\n",
      "fpu_exception\t: yes\n",
      "cpuid level\t: 16\n",
      "wp\t\t: yes\n",
      "flags\t\t: fpu vme de pse tsc msr pae mce cx8 apic sep mtrr pge mca cmov pat pse36 clflush mmx fxsr sse sse2 ht syscall nx mmxext fxsr_opt pdpe1gb rdtscp lm constant_tsc rep_good amd_lbr_v2 nopl xtopology nonstop_tsc cpuid extd_apicid aperfmperf rapl pni pclmulqdq monitor ssse3 fma cx16 sse4_1 sse4_2 x2apic movbe popcnt aes xsave avx f16c rdrand lahf_lm cmp_legacy svm extapic cr8_legacy abm sse4a misalignsse 3dnowprefetch osvw ibs skinit wdt tce topoext perfctr_core perfctr_nb bpext perfctr_llc mwaitx cpb cat_l3 cdp_l3 hw_pstate ssbd mba perfmon_v2 ibrs ibpb stibp ibrs_enhanced vmmcall fsgsbase bmi1 avx2 smep bmi2 erms invpcid cqm rdt_a avx512f avx512dq rdseed adx smap avx512ifma clflushopt clwb avx512cd sha_ni avx512bw avx512vl xsaveopt xsavec xgetbv1 xsaves cqm_llc cqm_occup_llc cqm_mbm_total cqm_mbm_local user_shstk avx512_bf16 clzero irperf xsaveerptr rdpru wbnoinvd cppc arat npt lbrv svm_lock nrip_save tsc_scale vmcb_clean flushbyasid decodeassists pausefilter pfthreshold vgif x2avic v_spec_ctrl vnmi avx512vbmi umip pku ospke avx512_vbmi2 gfni vaes vpclmulqdq avx512_vnni avx512_bitalg avx512_vpopcntdq rdpid overflow_recov succor smca fsrm flush_l1d amd_lbr_pmc_freeze\n",
      "bugs\t\t: sysret_ss_attrs spectre_v1 spectre_v2 spec_store_bypass srso\n",
      "bogomips\t: 6587.30\n",
      "TLB size\t: 3584 4K pages\n",
      "clflush size\t: 64\n",
      "cache_alignment\t: 64\n",
      "address sizes\t: 48 bits physical, 48 bits virtual\n",
      "power management: ts ttp tm hwpstate cpb eff_freq_ro [13] [14] [15]\n",
      "\n",
      "processor\t: 12\n",
      "vendor_id\t: AuthenticAMD\n",
      "cpu family\t: 25\n",
      "model\t\t: 116\n",
      "model name\t: AMD Ryzen 7 PRO 7840U w/ Radeon 780M Graphics\n",
      "stepping\t: 1\n",
      "microcode\t: 0xa704107\n",
      "cpu MHz\t\t: 3242.524\n",
      "cache size\t: 1024 KB\n",
      "physical id\t: 0\n",
      "siblings\t: 16\n",
      "core id\t\t: 6\n",
      "cpu cores\t: 8\n",
      "apicid\t\t: 12\n",
      "initial apicid\t: 12\n",
      "fpu\t\t: yes\n",
      "fpu_exception\t: yes\n",
      "cpuid level\t: 16\n",
      "wp\t\t: yes\n",
      "flags\t\t: fpu vme de pse tsc msr pae mce cx8 apic sep mtrr pge mca cmov pat pse36 clflush mmx fxsr sse sse2 ht syscall nx mmxext fxsr_opt pdpe1gb rdtscp lm constant_tsc rep_good amd_lbr_v2 nopl xtopology nonstop_tsc cpuid extd_apicid aperfmperf rapl pni pclmulqdq monitor ssse3 fma cx16 sse4_1 sse4_2 x2apic movbe popcnt aes xsave avx f16c rdrand lahf_lm cmp_legacy svm extapic cr8_legacy abm sse4a misalignsse 3dnowprefetch osvw ibs skinit wdt tce topoext perfctr_core perfctr_nb bpext perfctr_llc mwaitx cpb cat_l3 cdp_l3 hw_pstate ssbd mba perfmon_v2 ibrs ibpb stibp ibrs_enhanced vmmcall fsgsbase bmi1 avx2 smep bmi2 erms invpcid cqm rdt_a avx512f avx512dq rdseed adx smap avx512ifma clflushopt clwb avx512cd sha_ni avx512bw avx512vl xsaveopt xsavec xgetbv1 xsaves cqm_llc cqm_occup_llc cqm_mbm_total cqm_mbm_local user_shstk avx512_bf16 clzero irperf xsaveerptr rdpru wbnoinvd cppc arat npt lbrv svm_lock nrip_save tsc_scale vmcb_clean flushbyasid decodeassists pausefilter pfthreshold vgif x2avic v_spec_ctrl vnmi avx512vbmi umip pku ospke avx512_vbmi2 gfni vaes vpclmulqdq avx512_vnni avx512_bitalg avx512_vpopcntdq rdpid overflow_recov succor smca fsrm flush_l1d amd_lbr_pmc_freeze\n",
      "bugs\t\t: sysret_ss_attrs spectre_v1 spectre_v2 spec_store_bypass srso\n",
      "bogomips\t: 6587.30\n",
      "TLB size\t: 3584 4K pages\n",
      "clflush size\t: 64\n",
      "cache_alignment\t: 64\n",
      "address sizes\t: 48 bits physical, 48 bits virtual\n",
      "power management: ts ttp tm hwpstate cpb eff_freq_ro [13] [14] [15]\n",
      "\n",
      "processor\t: 13\n",
      "vendor_id\t: AuthenticAMD\n",
      "cpu family\t: 25\n",
      "model\t\t: 116\n",
      "model name\t: AMD Ryzen 7 PRO 7840U w/ Radeon 780M Graphics\n",
      "stepping\t: 1\n",
      "microcode\t: 0xa704107\n",
      "cpu MHz\t\t: 1100.000\n",
      "cache size\t: 1024 KB\n",
      "physical id\t: 0\n",
      "siblings\t: 16\n",
      "core id\t\t: 6\n",
      "cpu cores\t: 8\n",
      "apicid\t\t: 13\n",
      "initial apicid\t: 13\n",
      "fpu\t\t: yes\n",
      "fpu_exception\t: yes\n",
      "cpuid level\t: 16\n",
      "wp\t\t: yes\n",
      "flags\t\t: fpu vme de pse tsc msr pae mce cx8 apic sep mtrr pge mca cmov pat pse36 clflush mmx fxsr sse sse2 ht syscall nx mmxext fxsr_opt pdpe1gb rdtscp lm constant_tsc rep_good amd_lbr_v2 nopl xtopology nonstop_tsc cpuid extd_apicid aperfmperf rapl pni pclmulqdq monitor ssse3 fma cx16 sse4_1 sse4_2 x2apic movbe popcnt aes xsave avx f16c rdrand lahf_lm cmp_legacy svm extapic cr8_legacy abm sse4a misalignsse 3dnowprefetch osvw ibs skinit wdt tce topoext perfctr_core perfctr_nb bpext perfctr_llc mwaitx cpb cat_l3 cdp_l3 hw_pstate ssbd mba perfmon_v2 ibrs ibpb stibp ibrs_enhanced vmmcall fsgsbase bmi1 avx2 smep bmi2 erms invpcid cqm rdt_a avx512f avx512dq rdseed adx smap avx512ifma clflushopt clwb avx512cd sha_ni avx512bw avx512vl xsaveopt xsavec xgetbv1 xsaves cqm_llc cqm_occup_llc cqm_mbm_total cqm_mbm_local user_shstk avx512_bf16 clzero irperf xsaveerptr rdpru wbnoinvd cppc arat npt lbrv svm_lock nrip_save tsc_scale vmcb_clean flushbyasid decodeassists pausefilter pfthreshold vgif x2avic v_spec_ctrl vnmi avx512vbmi umip pku ospke avx512_vbmi2 gfni vaes vpclmulqdq avx512_vnni avx512_bitalg avx512_vpopcntdq rdpid overflow_recov succor smca fsrm flush_l1d amd_lbr_pmc_freeze\n",
      "bugs\t\t: sysret_ss_attrs spectre_v1 spectre_v2 spec_store_bypass srso\n",
      "bogomips\t: 6587.30\n",
      "TLB size\t: 3584 4K pages\n",
      "clflush size\t: 64\n",
      "cache_alignment\t: 64\n",
      "address sizes\t: 48 bits physical, 48 bits virtual\n",
      "power management: ts ttp tm hwpstate cpb eff_freq_ro [13] [14] [15]\n",
      "\n",
      "processor\t: 14\n",
      "vendor_id\t: AuthenticAMD\n",
      "cpu family\t: 25\n",
      "model\t\t: 116\n",
      "model name\t: AMD Ryzen 7 PRO 7840U w/ Radeon 780M Graphics\n",
      "stepping\t: 1\n",
      "microcode\t: 0xa704107\n",
      "cpu MHz\t\t: 4312.794\n",
      "cache size\t: 1024 KB\n",
      "physical id\t: 0\n",
      "siblings\t: 16\n",
      "core id\t\t: 7\n",
      "cpu cores\t: 8\n",
      "apicid\t\t: 14\n",
      "initial apicid\t: 14\n",
      "fpu\t\t: yes\n",
      "fpu_exception\t: yes\n",
      "cpuid level\t: 16\n",
      "wp\t\t: yes\n",
      "flags\t\t: fpu vme de pse tsc msr pae mce cx8 apic sep mtrr pge mca cmov pat pse36 clflush mmx fxsr sse sse2 ht syscall nx mmxext fxsr_opt pdpe1gb rdtscp lm constant_tsc rep_good amd_lbr_v2 nopl xtopology nonstop_tsc cpuid extd_apicid aperfmperf rapl pni pclmulqdq monitor ssse3 fma cx16 sse4_1 sse4_2 x2apic movbe popcnt aes xsave avx f16c rdrand lahf_lm cmp_legacy svm extapic cr8_legacy abm sse4a misalignsse 3dnowprefetch osvw ibs skinit wdt tce topoext perfctr_core perfctr_nb bpext perfctr_llc mwaitx cpb cat_l3 cdp_l3 hw_pstate ssbd mba perfmon_v2 ibrs ibpb stibp ibrs_enhanced vmmcall fsgsbase bmi1 avx2 smep bmi2 erms invpcid cqm rdt_a avx512f avx512dq rdseed adx smap avx512ifma clflushopt clwb avx512cd sha_ni avx512bw avx512vl xsaveopt xsavec xgetbv1 xsaves cqm_llc cqm_occup_llc cqm_mbm_total cqm_mbm_local user_shstk avx512_bf16 clzero irperf xsaveerptr rdpru wbnoinvd cppc arat npt lbrv svm_lock nrip_save tsc_scale vmcb_clean flushbyasid decodeassists pausefilter pfthreshold vgif x2avic v_spec_ctrl vnmi avx512vbmi umip pku ospke avx512_vbmi2 gfni vaes vpclmulqdq avx512_vnni avx512_bitalg avx512_vpopcntdq rdpid overflow_recov succor smca fsrm flush_l1d amd_lbr_pmc_freeze\n",
      "bugs\t\t: sysret_ss_attrs spectre_v1 spectre_v2 spec_store_bypass srso\n",
      "bogomips\t: 6587.30\n",
      "TLB size\t: 3584 4K pages\n",
      "clflush size\t: 64\n",
      "cache_alignment\t: 64\n",
      "address sizes\t: 48 bits physical, 48 bits virtual\n",
      "power management: ts ttp tm hwpstate cpb eff_freq_ro [13] [14] [15]\n",
      "\n",
      "processor\t: 15\n",
      "vendor_id\t: AuthenticAMD\n",
      "cpu family\t: 25\n",
      "model\t\t: 116\n",
      "model name\t: AMD Ryzen 7 PRO 7840U w/ Radeon 780M Graphics\n",
      "stepping\t: 1\n",
      "microcode\t: 0xa704107\n",
      "cpu MHz\t\t: 1305.556\n",
      "cache size\t: 1024 KB\n",
      "physical id\t: 0\n",
      "siblings\t: 16\n",
      "core id\t\t: 7\n",
      "cpu cores\t: 8\n",
      "apicid\t\t: 15\n",
      "initial apicid\t: 15\n",
      "fpu\t\t: yes\n",
      "fpu_exception\t: yes\n",
      "cpuid level\t: 16\n",
      "wp\t\t: yes\n",
      "flags\t\t: fpu vme de pse tsc msr pae mce cx8 apic sep mtrr pge mca cmov pat pse36 clflush mmx fxsr sse sse2 ht syscall nx mmxext fxsr_opt pdpe1gb rdtscp lm constant_tsc rep_good amd_lbr_v2 nopl xtopology nonstop_tsc cpuid extd_apicid aperfmperf rapl pni pclmulqdq monitor ssse3 fma cx16 sse4_1 sse4_2 x2apic movbe popcnt aes xsave avx f16c rdrand lahf_lm cmp_legacy svm extapic cr8_legacy abm sse4a misalignsse 3dnowprefetch osvw ibs skinit wdt tce topoext perfctr_core perfctr_nb bpext perfctr_llc mwaitx cpb cat_l3 cdp_l3 hw_pstate ssbd mba perfmon_v2 ibrs ibpb stibp ibrs_enhanced vmmcall fsgsbase bmi1 avx2 smep bmi2 erms invpcid cqm rdt_a avx512f avx512dq rdseed adx smap avx512ifma clflushopt clwb avx512cd sha_ni avx512bw avx512vl xsaveopt xsavec xgetbv1 xsaves cqm_llc cqm_occup_llc cqm_mbm_total cqm_mbm_local user_shstk avx512_bf16 clzero irperf xsaveerptr rdpru wbnoinvd cppc arat npt lbrv svm_lock nrip_save tsc_scale vmcb_clean flushbyasid decodeassists pausefilter pfthreshold vgif x2avic v_spec_ctrl vnmi avx512vbmi umip pku ospke avx512_vbmi2 gfni vaes vpclmulqdq avx512_vnni avx512_bitalg avx512_vpopcntdq rdpid overflow_recov succor smca fsrm flush_l1d amd_lbr_pmc_freeze\n",
      "bugs\t\t: sysret_ss_attrs spectre_v1 spectre_v2 spec_store_bypass srso\n",
      "bogomips\t: 6587.30\n",
      "TLB size\t: 3584 4K pages\n",
      "clflush size\t: 64\n",
      "cache_alignment\t: 64\n",
      "address sizes\t: 48 bits physical, 48 bits virtual\n",
      "power management: ts ttp tm hwpstate cpb eff_freq_ro [13] [14] [15]\n",
      "\n"
     ]
    }
   ],
   "source": [
    "! cat /proc/cpuinfo"
   ]
  }
 ],
 "metadata": {
  "kernelspec": {
   "display_name": "philzook58.github.io",
   "language": "python",
   "name": "python3"
  },
  "language_info": {
   "codemirror_mode": {
    "name": "ipython",
    "version": 3
   },
   "file_extension": ".py",
   "mimetype": "text/x-python",
   "name": "python",
   "nbconvert_exporter": "python",
   "pygments_lexer": "ipython3",
   "version": "3.12.3"
  }
 },
 "nbformat": 4,
 "nbformat_minor": 5
}
