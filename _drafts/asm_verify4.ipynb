{
 "cells": [
  {
   "cell_type": "markdown",
   "id": "2a3f8f76",
   "metadata": {},
   "source": [
    "Done:\n",
    "- allow easier python specdefinition\n",
    "- %reg syntax for cool inline asm demos\n",
    "- \n",
    "\n",
    "\n",
    "syscalls?\n",
    "\n",
    "\n",
    "Interrupt preludes\n",
    "It got a lot slower?\n",
    "pi pico\n",
    "More examples from frama-c, s2n-bignum\n",
    "simd\n",
    "reads/writes\n",
    "kd_always. Some interrupt bug?\n",
    "\n",
    "Change register names to enable true inline assembly.\n",
    "\n",
    "Can I use unicorn to validate against that easily?\n",
    "\n",
    "\n",
    "spacer? I'd be shocked if useful.\n",
    "\n",
    "\n",
    "\n",
    "sizex <= x - y <= -sizey \\/  sizey <= y - x <= -sizex\n",
    "\n",
    "We can say exactly when the or happens\n",
    "if x > y \n",
    "then\n",
    "    sizey <= x - y <= -sizex\n",
    "else\n",
    "    sizey <= y - x <= -sizex\n",
    "\n",
    "inequality and addition / diff son't play the same as the ints.\n",
    "\n",
    "https://mcyoung.xyz/2023/11/27/simd-base64/  simd\n",
    "\n",
    "Would I want to state from particular entry? or even address\n",
    "\n",
    "kd_reachable from_label here_label\n",
    "kd_reachable here_label\n",
    "kd_unreachable from_label here_label\n",
    "\n",
    "address expressions. Literal address for label, or `<foo+0x7>` relative addressing. I guess not necessary if this is mainly for textual assembly we have no control over. In that case just use programmatic bindings\n",
    "\n",
    "https://github.com/toolCHAINZ/jingle\n",
    "\n",
    "\n",
    "https://github.com/m4b/goblin \n",
    "https://github.com/m4b/bingrep\n",
    "https://github.com/m4b/faerie\n",
    "\n",
    "\n",
    "https://ruor.uottawa.ca/server/api/core/bitstreams/86cc22d7-4517-4744-9cf7-4b1745a6c029/content race conditions and memory models. AMusing because that _is_ what sail is for. Could be fun."
   ]
  },
  {
   "cell_type": "code",
   "execution_count": null,
   "id": "bda8f708",
   "metadata": {},
   "outputs": [],
   "source": [
    "kd_prelude \"(define-fun nonoverlap ((a (_ BitVec 64)) (sa (_ BitVec 64)) (b (_ BitVec 64)) (sb (_ BitVec 64))))\"\n",
    "kd_prelude \"(define-const bvone (_ bv1 64))\"\n",
    "kd_prelude \"(define-const bvtwo (_ bv2 64))\"\n",
    "kd_prelude \"(define-fun select32 ...)\""
   ]
  },
  {
   "cell_type": "code",
   "execution_count": 18,
   "id": "9ad6307d",
   "metadata": {},
   "outputs": [
    {
     "ename": "LemmaError",
     "evalue": "(Implies(Distinct(x, x + 1, y, y + 1, y + 2),\n        no_overlap(x, 2, y, 3)), 'Countermodel', [y = 18446744073709551613,\n x = 18446744073709551611,\n no_overlap = [else -> False]])",
     "output_type": "error",
     "traceback": [
      "\u001b[31m---------------------------------------------------------------------------\u001b[39m",
      "\u001b[31mLemmaError\u001b[39m                                Traceback (most recent call last)",
      "\u001b[36mCell\u001b[39m\u001b[36m \u001b[39m\u001b[32mIn[18]\u001b[39m\u001b[32m, line 14\u001b[39m\n\u001b[32m      7\u001b[39m maxint = smt.BitVecVal(\u001b[32m2\u001b[39m**\u001b[32m64\u001b[39m-\u001b[32m1\u001b[39m, \u001b[32m64\u001b[39m)\n\u001b[32m      8\u001b[39m no_overlap = kd.define(\u001b[33m\"\u001b[39m\u001b[33mno_overlap\u001b[39m\u001b[33m\"\u001b[39m, [x,sizex,y,sizey], \n\u001b[32m      9\u001b[39m     smt.If( smt.ULE(x,y),\n\u001b[32m     10\u001b[39m        smt.And( smt.ULT(bsizex , y - x), smt.ULE(bsizey, maxint - (y - x))),\n\u001b[32m     11\u001b[39m        smt.And( smt.ULT(bsizey , x - y), smt.ULE(bsizex, maxint - (x - y)))\n\u001b[32m     12\u001b[39m   ))\n\u001b[32m---> \u001b[39m\u001b[32m14\u001b[39m \u001b[43mkd\u001b[49m\u001b[43m.\u001b[49m\u001b[43mprove\u001b[49m\u001b[43m(\u001b[49m\u001b[43msmt\u001b[49m\u001b[43m.\u001b[49m\u001b[43mImplies\u001b[49m\u001b[43m(\u001b[49m\u001b[43msmt\u001b[49m\u001b[43m.\u001b[49m\u001b[43mDistinct\u001b[49m\u001b[43m(\u001b[49m\u001b[43mx\u001b[49m\u001b[43m,\u001b[49m\u001b[43m \u001b[49m\u001b[43mx\u001b[49m\u001b[43m+\u001b[49m\u001b[32;43m1\u001b[39;49m\u001b[43m,\u001b[49m\u001b[43m \u001b[49m\u001b[43my\u001b[49m\u001b[43m,\u001b[49m\u001b[43m \u001b[49m\u001b[43my\u001b[49m\u001b[43m+\u001b[49m\u001b[32;43m1\u001b[39;49m\u001b[43m,\u001b[49m\u001b[43m \u001b[49m\u001b[43my\u001b[49m\u001b[43m+\u001b[49m\u001b[32;43m2\u001b[39;49m\u001b[43m)\u001b[49m\u001b[43m,\u001b[49m\u001b[43m \u001b[49m\u001b[43mno_overlap\u001b[49m\u001b[43m(\u001b[49m\u001b[43mx\u001b[49m\u001b[43m,\u001b[49m\u001b[32;43m2\u001b[39;49m\u001b[43m,\u001b[49m\u001b[43my\u001b[49m\u001b[43m,\u001b[49m\u001b[32;43m3\u001b[39;49m\u001b[43m)\u001b[49m\u001b[43m)\u001b[49m\u001b[43m,\u001b[49m\u001b[43m \u001b[49m\u001b[43munfold\u001b[49m\u001b[43m=\u001b[49m\u001b[32;43m1\u001b[39;49m\u001b[43m)\u001b[49m\n",
      "\u001b[36mFile \u001b[39m\u001b[32m~/Documents/python/knuckledragger/kdrag/tactics.py:286\u001b[39m, in \u001b[36mprove\u001b[39m\u001b[34m(thm, by, admit, timeout, dump, solver, instan, unfold)\u001b[39m\n\u001b[32m    282\u001b[39m         \u001b[38;5;28;01mraise\u001b[39;00m \u001b[38;5;167;01mException\u001b[39;00m(\n\u001b[32m    283\u001b[39m             \u001b[33m\"\u001b[39m\u001b[33mWorked with quantifier stripped. Something is going awry\u001b[39m\u001b[33m\"\u001b[39m, pf\n\u001b[32m    284\u001b[39m         )\n\u001b[32m    285\u001b[39m     \u001b[38;5;28;01melse\u001b[39;00m:\n\u001b[32m--> \u001b[39m\u001b[32m286\u001b[39m         \u001b[38;5;28;01mraise\u001b[39;00m e\n\u001b[32m    287\u001b[39m \u001b[38;5;28;01mexcept\u001b[39;00m \u001b[38;5;167;01mException\u001b[39;00m \u001b[38;5;28;01mas\u001b[39;00m e:\n\u001b[32m    288\u001b[39m     \u001b[38;5;28;01mraise\u001b[39;00m e\n",
      "\u001b[36mFile \u001b[39m\u001b[32m~/Documents/python/knuckledragger/kdrag/tactics.py:264\u001b[39m, in \u001b[36mprove\u001b[39m\u001b[34m(thm, by, admit, timeout, dump, solver, instan, unfold)\u001b[39m\n\u001b[32m    262\u001b[39m         by.append(kd.kernel.prove(thm == thm1, by=trace, timeout=timeout))  \u001b[38;5;66;03m# type: ignore\u001b[39;00m\n\u001b[32m    263\u001b[39m \u001b[38;5;28;01mtry\u001b[39;00m:\n\u001b[32m--> \u001b[39m\u001b[32m264\u001b[39m     pf = \u001b[43mkd\u001b[49m\u001b[43m.\u001b[49m\u001b[43mkernel\u001b[49m\u001b[43m.\u001b[49m\u001b[43mprove\u001b[49m\u001b[43m(\u001b[49m\n\u001b[32m    265\u001b[39m \u001b[43m        \u001b[49m\u001b[43mthm\u001b[49m\u001b[43m,\u001b[49m\u001b[43m \u001b[49m\u001b[43mby\u001b[49m\u001b[43m,\u001b[49m\u001b[43m \u001b[49m\u001b[43mtimeout\u001b[49m\u001b[43m=\u001b[49m\u001b[43mtimeout\u001b[49m\u001b[43m,\u001b[49m\u001b[43m \u001b[49m\u001b[43mdump\u001b[49m\u001b[43m=\u001b[49m\u001b[43mdump\u001b[49m\u001b[43m,\u001b[49m\u001b[43m \u001b[49m\u001b[43msolver\u001b[49m\u001b[43m=\u001b[49m\u001b[43msolver\u001b[49m\u001b[43m,\u001b[49m\u001b[43m \u001b[49m\u001b[43madmit\u001b[49m\u001b[43m=\u001b[49m\u001b[43madmit\u001b[49m\n\u001b[32m    266\u001b[39m \u001b[43m    \u001b[49m\u001b[43m)\u001b[49m\n\u001b[32m    267\u001b[39m     kdrag.config.perf_event(\u001b[33m\"\u001b[39m\u001b[33mprove\u001b[39m\u001b[33m\"\u001b[39m, thm, time.perf_counter() - start_time)\n\u001b[32m    268\u001b[39m     \u001b[38;5;28;01mreturn\u001b[39;00m pf\n",
      "\u001b[36mFile \u001b[39m\u001b[32m~/Documents/python/knuckledragger/kdrag/kernel.py:176\u001b[39m, in \u001b[36mprove\u001b[39m\u001b[34m(thm, by, admit, timeout, dump, solver)\u001b[39m\n\u001b[32m    174\u001b[39m \u001b[38;5;28;01mif\u001b[39;00m res != smt.unsat:\n\u001b[32m    175\u001b[39m     \u001b[38;5;28;01mif\u001b[39;00m res == smt.sat:\n\u001b[32m--> \u001b[39m\u001b[32m176\u001b[39m         \u001b[38;5;28;01mraise\u001b[39;00m LemmaError(thm, \u001b[33m\"\u001b[39m\u001b[33mCountermodel\u001b[39m\u001b[33m\"\u001b[39m, s.model())\n\u001b[32m    177\u001b[39m     \u001b[38;5;28;01mraise\u001b[39;00m LemmaError(\u001b[33m\"\u001b[39m\u001b[33mprove\u001b[39m\u001b[33m\"\u001b[39m, thm, res)\n\u001b[32m    178\u001b[39m \u001b[38;5;28;01melse\u001b[39;00m:\n",
      "\u001b[31mLemmaError\u001b[39m: (Implies(Distinct(x, x + 1, y, y + 1, y + 2),\n        no_overlap(x, 2, y, 3)), 'Countermodel', [y = 18446744073709551613,\n x = 18446744073709551611,\n no_overlap = [else -> False]])"
     ]
    }
   ],
   "source": [
    "from kdrag.all import *\n",
    "\n",
    "x,y = smt.BitVecs(\"x y\", 64)\n",
    "sizex, sizey = smt.Ints(\"sizex, sizey\")\n",
    "bsizex = smt.Int2BV(sizex, 64)\n",
    "bsizey = smt.Int2BV(sizey, 64)\n",
    "maxint = smt.BitVecVal(2**64-1, 64)\n",
    "no_overlap = kd.define(\"no_overlap\", [x,sizex,y,sizey], \n",
    "    smt.If( smt.ULE(x,y),\n",
    "       smt.And( smt.ULT(bsizex , y - x), smt.ULE(bsizey, maxint - (y - x))),\n",
    "       smt.And( smt.ULT(bsizey , x - y), smt.ULE(bsizex, maxint - (x - y)))\n",
    "  ))\n",
    "\n",
    "kd.prove(smt.Implies(smt.Distinct(x, x+1, y, y+1, y+2), no_overlap(x,2,y,3)), unfold=1)\n",
    "\n"
   ]
  },
  {
   "cell_type": "code",
   "execution_count": 17,
   "id": "f0061cc9",
   "metadata": {},
   "outputs": [
    {
     "data": {
      "text/plain": [
       "18446744073709551615"
      ]
     },
     "execution_count": 17,
     "metadata": {},
     "output_type": "execute_result"
    }
   ],
   "source": [
    "2**64-1"
   ]
  },
  {
   "cell_type": "markdown",
   "id": "24a62352",
   "metadata": {},
   "source": [
    "# ghost call\n",
    "Figuring out how to access members of structs, offsets etc.\n",
    "Shouldn't change state, can read it. Changed real state is thrown away (stored as var?). Changed ghost state is not.\n",
    "How to setup frame?\n",
    "More like a subroutine, since we odn't setup a stack (?).\n",
    "In ghost code, read from named coroutine params.\n",
    "Or give fresh\n",
    "Know the abi somehow?\n",
    "\n",
    "```\n",
    "struct biz\n",
    "get param(&biz) {\n",
    "    return biz->a->b->c;\n",
    "}\n",
    "```\n",
    "\n",
    "My dishonesty about ram32 ram64 rax bites now?\n",
    "(RAX reg) (RDI reg)\n",
    "%rdi == (select32 reg RDI)\n",
    "(store32 reg RDI 0x42)\n",
    "`kd_reify \"memstate_name\"` # freeze current state into ghost.\n",
    "`kd_assign \"memstate\" \"(store RAX  )\"\n",
    "`kd_ghost_call \"res_memstate\" \"myfun\" \" \"`\n",
    "`kd_assign  \"foo\"  \"res_memstate\""
   ]
  },
  {
   "cell_type": "markdown",
   "id": "651511b9",
   "metadata": {},
   "source": [
    "# read write\n",
    "I should unpack the state datatype. No reason to bring datatypes into it.\n",
    "Could use store_view instead of explciit write field?\n",
    "Jankier"
   ]
  },
  {
   "cell_type": "markdown",
   "id": "d2c614aa",
   "metadata": {},
   "source": [
    "# verilog / sail\n",
    "Pcode is not that trustworthy. Vet against other semantics.\n",
    "(And why not just use those semantics instead ?)\n",
    "\n",
    "\n",
    "https://docs.pydrofoil.org/en/latest/scripting-api.html\n",
    "\n",
    "rpython\n",
    "https://mssun.github.io/rpython-by-example/\n",
    "So rpython itself is a bit like cython? But not exporting python libs. Using rpython on it's own like this is perhaps odd\n",
    "\n",
    "\n",
    "smtlib interpreter in rpython?\n",
    "Lean expr interpreter?\n",
    "\n"
   ]
  },
  {
   "cell_type": "code",
   "execution_count": 1,
   "id": "96b06e5c",
   "metadata": {},
   "outputs": [
    {
     "name": "stdout",
     "output_type": "stream",
     "text": [
      "\u001b[K34;1m1\u001b[0m/\u001b[32;1m18\u001b[0m/19 built, \u001b[32;1m159\u001b[0m copied (\u001b[32;1m1102.1\u001b[0m/1102.7 MiB), \u001b[32;1m270.7\u001b[0m MiB DL] building \u001b[1mpydrofoil\u001b[0m\u001b[Km\u001b[K\u001b[0m\u001b[K"
     ]
    }
   ],
   "source": [
    "! nix build github:rpypkgs/rpypkgs#pydrofoil-riscv"
   ]
  },
  {
   "cell_type": "code",
   "execution_count": 3,
   "id": "e7ca93a1",
   "metadata": {},
   "outputs": [
    {
     "name": "stdout",
     "output_type": "stream",
     "text": [
      "\u001b[Kpydrofoil-riscv 0.0.1-alpha0 (Sail model version: 0.5-273-g87f8bb34d6)\n"
     ]
    }
   ],
   "source": [
    "! nix run github:rpypkgs/rpypkgs#pydrofoil-riscv -- --version"
   ]
  },
  {
   "cell_type": "code",
   "execution_count": null,
   "id": "08ecde1b",
   "metadata": {},
   "outputs": [],
   "source": [
    "%%file /tmp/hello.py\n",
    "\n",
    "def entry_point(argv):\n",
    "    print \"Hello, World!\"\n",
    "    return 0\n",
    "\n",
    "# The target function is the main function of a RPython program. It takes\n",
    "# command line arguments as inputs and return an entry point function.\n",
    "def target(*args):\n",
    "    return entry_point"
   ]
  },
  {
   "cell_type": "markdown",
   "id": "b0062cbb",
   "metadata": {},
   "source": [
    "# python properties\n"
   ]
  },
  {
   "cell_type": "markdown",
   "id": "5c471191",
   "metadata": {},
   "source": [
    "# Inline asm Reg names\n",
    "Also memory locations?\n",
    "\n"
   ]
  },
  {
   "cell_type": "code",
   "execution_count": 4,
   "id": "ecea2b58",
   "metadata": {},
   "outputs": [
    {
     "data": {
      "text/html": [
       "[%rdi = 0]"
      ],
      "text/plain": [
       "[%rdi == 0]"
      ]
     },
     "execution_count": 4,
     "metadata": {},
     "output_type": "execute_result"
    }
   ],
   "source": [
    "import z3\n",
    "z3.parse_smt2_string(r\"\"\"\n",
    "(declare-const %rdi (_ BitVec 64))\n",
    "(assert (= %rdi (_ bv0 64)))\n",
    "\"\"\")\n"
   ]
  },
  {
   "cell_type": "code",
   "execution_count": null,
   "id": "8b711bda",
   "metadata": {},
   "outputs": [
    {
     "name": "stdout",
     "output_type": "stream",
     "text": [
      "Overwriting /tmp/hello.c\n"
     ]
    }
   ],
   "source": [
    "%%file /tmp/hello.c\n",
    "#include <stddef.h>\n",
    "__asm__(\".include \\\"knuckle.S\\\"\");\n",
    "__asm__(\"kd_prelude \\\"(declare-const x (_ BitVec 64))\\\"\");\n",
    "int foo(int x){\n",
    "    __asm__(\"kd_entry myentry \\\"true\\\"\");\n",
    "    __asm__(\"kd_assign x %0\" : : \"r\"(x));\n",
    "\n",
    "    int y = x + 42;\n",
    "    __asm__(\"kd_exit myentry \\\"(assert (= %0 (bvadd x (_ bv42 64)))\\\"\" : : \"r\"(y));\n",
    "    return y;\n",
    "}\n"
   ]
  },
  {
   "cell_type": "code",
   "execution_count": 9,
   "id": "5282719f",
   "metadata": {},
   "outputs": [
    {
     "name": "stdout",
     "output_type": "stream",
     "text": [
      "\t.file\t\"hello.c\"\n",
      "\t.text\n",
      "\t.globl\tfoo\n",
      "\t.type\tfoo, @function\n",
      "foo:\n",
      ".LFB0:\n",
      "\t.cfi_startproc\n",
      "\tendbr64\n",
      "#APP\n",
      "# 3 \"/tmp/hello.c\" 1\n",
      "\tkd_prelude \"(assert (= %edi 42))\"\n",
      "# 0 \"\" 2\n",
      "#NO_APP\n",
      "\tret\n",
      "\t.cfi_endproc\n",
      ".LFE0:\n",
      "\t.size\tfoo, .-foo\n",
      "\t.ident\t\"GCC: (Ubuntu 13.3.0-6ubuntu2~24.04) 13.3.0\"\n",
      "\t.section\t.note.GNU-stack,\"\",@progbits\n",
      "\t.section\t.note.gnu.property,\"a\"\n",
      "\t.align 8\n",
      "\t.long\t1f - 0f\n",
      "\t.long\t4f - 1f\n",
      "\t.long\t5\n",
      "0:\n",
      "\t.string\t\"GNU\"\n",
      "1:\n",
      "\t.align 8\n",
      "\t.long\t0xc0000002\n",
      "\t.long\t3f - 2f\n",
      "2:\n",
      "\t.long\t0x3\n",
      "3:\n",
      "\t.align 8\n",
      "4:\n"
     ]
    }
   ],
   "source": [
    "! gcc -O1 -S -c /tmp/hello.c -o /tmp/hello.S && cat /tmp/hello.S"
   ]
  },
  {
   "cell_type": "markdown",
   "id": "5b0bfcd6",
   "metadata": {},
   "source": [
    "# CN\n",
    "https://github.com/rems-project/cn\n",
    "https://rems-project.github.io/cn-tutorial/getting-started/tutorials/welcome/\n",
    "https://www.galois.com/articles/escaping-isla-nublar-coming-around-to-llms-for-formal-methods"
   ]
  },
  {
   "cell_type": "code",
   "execution_count": null,
   "id": "26cd20ee",
   "metadata": {},
   "outputs": [],
   "source": []
  },
  {
   "cell_type": "code",
   "execution_count": null,
   "id": "f69fd62a",
   "metadata": {},
   "outputs": [],
   "source": []
  },
  {
   "cell_type": "markdown",
   "id": "f8ad8d9a",
   "metadata": {},
   "source": [
    "# cfg reconstruction\n",
    "\n",
    "Takes VCs\n",
    "\n",
    "Any unreached specstmt, warn\n",
    "reachable_from\n",
    "\n",
    "Join specstmts\n",
    "\n",
    "Print CFG as ascii?\n",
    "Output it?\n",
    "\n"
   ]
  },
  {
   "cell_type": "code",
   "execution_count": null,
   "id": "c4d83684",
   "metadata": {},
   "outputs": [],
   "source": [
    "\n",
    "reachable = set().union(*[vc.trace for vc in vcs])"
   ]
  },
  {
   "cell_type": "markdown",
   "id": "92685abe",
   "metadata": {},
   "source": [
    "# Hyperproperties / Relational\n",
    "\n",
    "Synchro points?\n",
    "\n",
    "entry exit labels pairs.\n",
    "kd_sync\n",
    "\n",
    "kd_rel entry exit property\n",
    "kd_rel entry_exit property\n",
    "\n",
    "kd_channels\n",
    "monotonic channels?\n",
    "\n",
    "Finely interleaved product programs\n",
    "\n",
    "A syncrhonzination / scheudling program?\n",
    "ram_2\n",
    "\n",
    "Multiram executor? Channels\n",
    "\n",
    "Same program twice is easy to synchrnoize.\n",
    "High low variables\n",
    "\n",
    "havoc statement\n",
    "kd_havoc_ghost ghost_var\n",
    "kd_havoc_reg reg\n",
    "kd_havoc_mem memexpr  \n",
    "interrupt havocs touched stuff every cycle. So we do want to enable havor\n",
    "\n",
    "https://docs.certora.com/en/latest/docs/cvl/statements.html\n",
    "\n",
    "kd_join\n",
    "collect up all trace fragements with common start and ends.\n",
    "Maybe I should anyhow?\n",
    "\n",
    "Useful for the using assembly as spec idea.\n",
    "\n",
    "trace fragment bundle. Yikes\n",
    "\n",
    "thread_id as a way of knowing which program you're in?\n",
    "\n",
    "\n",
    "\n"
   ]
  },
  {
   "cell_type": "markdown",
   "id": "9e9f0d1d",
   "metadata": {},
   "source": [
    "# Unicorn\n",
    "Running stuff in pcode2c was clutch.\n",
    "What about just a nice running environemnt that ingests asmspec.\n",
    "Unicorn, gdb, qemu. Something.\n",
    "\n",
    "\n",
    "\n"
   ]
  }
 ],
 "metadata": {
  "kernelspec": {
   "display_name": "philzook58.github.io",
   "language": "python",
   "name": "python3"
  },
  "language_info": {
   "codemirror_mode": {
    "name": "ipython",
    "version": 3
   },
   "file_extension": ".py",
   "mimetype": "text/x-python",
   "name": "python",
   "nbconvert_exporter": "python",
   "pygments_lexer": "ipython3",
   "version": "3.12.3"
  }
 },
 "nbformat": 4,
 "nbformat_minor": 5
}
