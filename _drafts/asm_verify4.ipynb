{
 "cells": [
  {
   "cell_type": "markdown",
   "id": "2a3f8f76",
   "metadata": {},
   "source": [
    "\n",
    "Interrupt preludes\n",
    "It got a lot slower?\n",
    "pi pico\n",
    "More examples from frama-c, s2n-bignum\n",
    "simd\n",
    "reads/writes\n",
    "\n",
    "\n",
    "sizex <= x - y <= -sizey \\/  sizey <= y - x <= -sizex\n",
    "\n",
    "We can say exactly when the or happens\n",
    "if x > y \n",
    "then\n",
    "    sizey <= x - y <= -sizex\n",
    "else\n",
    "    sizey <= y - x <= -sizex\n",
    "\n",
    "inequality and addition / diff son't play the same as the ints.\n"
   ]
  }
 ],
 "metadata": {
  "language_info": {
   "name": "python"
  }
 },
 "nbformat": 4,
 "nbformat_minor": 5
}
