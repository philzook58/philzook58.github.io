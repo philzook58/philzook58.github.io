{
 "cells": [
  {
   "cell_type": "markdown",
   "id": "2a3f8f76",
   "metadata": {},
   "source": [
    "Battle Plan:\n",
    "\n",
    "\n",
    "\n",
    "\n",
    "\n",
    "\n",
    "Done:\n",
    "- allow easier python specdefinition\n",
    "- %reg syntax for cool inline asm demos\n",
    "- \n",
    "\n",
    "\n",
    "\n",
    "def add_subst\n",
    "def add_state_var\n",
    "def add_cb\n",
    "\n",
    "\n",
    "syscalls?\n",
    "\n",
    "\n",
    "Interrupt preludes\n",
    "It got a lot slower?\n",
    "pi pico\n",
    "More examples from frama-c, s2n-bignum\n",
    "simd\n",
    "reads/writes\n",
    "kd_always. Some interrupt bug?\n",
    "\n",
    "Change register names to enable true inline assembly.\n",
    "\n",
    "Can I use unicorn to validate against that easily?\n",
    "\n",
    "\n",
    "spacer? I'd be shocked if useful.\n",
    "\n",
    "\n",
    "\n",
    "sizex <= x - y <= -sizey \\/  sizey <= y - x <= -sizex\n",
    "\n",
    "We can say exactly when the or happens\n",
    "if x > y \n",
    "then\n",
    "    sizey <= x - y <= -sizex\n",
    "else\n",
    "    sizey <= y - x <= -sizex\n",
    "\n",
    "inequality and addition / diff son't play the same as the ints.\n",
    "\n",
    "https://mcyoung.xyz/2023/11/27/simd-base64/  simd\n",
    "\n",
    "Would I want to state from particular entry? or even address\n",
    "\n",
    "kd_reachable from_label here_label\n",
    "kd_reachable here_label\n",
    "kd_unreachable from_label here_label\n",
    "\n",
    "address expressions. Literal address for label, or `<foo+0x7>` relative addressing. I guess not necessary if this is mainly for textual assembly we have no control over. In that case just use programmatic bindings\n",
    "\n",
    "https://github.com/toolCHAINZ/jingle\n",
    "\n",
    "\n",
    "https://github.com/m4b/goblin  An impish, cross-platform binary parsing crate, written in Rust\n",
    "https://github.com/m4b/bingrep\n",
    "https://github.com/m4b/faerie\n",
    "\n",
    "\n",
    "https://ruor.uottawa.ca/server/api/core/bitstreams/86cc22d7-4517-4744-9cf7-4b1745a6c029/content race conditions and memory models. AMusing because that _is_ what sail is for. Could be fun.\n",
    "\n",
    "https://news.ycombinator.com/item?id=40185065 https://alastairreid.github.io/riscv-spec-issues/\n",
    "https://github.com/riscv/riscv-opcodes just the opcodes\n",
    "\n",
    "https://cs.ru.nl/~mschool/pub/vstte-why3-avr-revised.pdf why3 avr\n",
    "\n",
    "https://antmicro.com/blog/2025/09/girdl-ghidra-renode-integration/ https://github.com/antmicro/girdl pull in svd files? That's a good idea. I doubt I can directly use this"
   ]
  },
  {
   "cell_type": "code",
   "execution_count": null,
   "id": "bda8f708",
   "metadata": {},
   "outputs": [],
   "source": [
    "kd_prelude \"(define-fun nonoverlap ((a (_ BitVec 64)) (sa (_ BitVec 64)) (b (_ BitVec 64)) (sb (_ BitVec 64))))\"\n",
    "kd_prelude \"(define-const bvone (_ bv1 64))\"\n",
    "kd_prelude \"(define-const bvtwo (_ bv2 64))\"\n",
    "kd_prelude \"(define-fun select32 ...)\""
   ]
  },
  {
   "cell_type": "code",
   "execution_count": 18,
   "id": "9ad6307d",
   "metadata": {},
   "outputs": [
    {
     "ename": "LemmaError",
     "evalue": "(Implies(Distinct(x, x + 1, y, y + 1, y + 2),\n        no_overlap(x, 2, y, 3)), 'Countermodel', [y = 18446744073709551613,\n x = 18446744073709551611,\n no_overlap = [else -> False]])",
     "output_type": "error",
     "traceback": [
      "\u001b[31m---------------------------------------------------------------------------\u001b[39m",
      "\u001b[31mLemmaError\u001b[39m                                Traceback (most recent call last)",
      "\u001b[36mCell\u001b[39m\u001b[36m \u001b[39m\u001b[32mIn[18]\u001b[39m\u001b[32m, line 14\u001b[39m\n\u001b[32m      7\u001b[39m maxint = smt.BitVecVal(\u001b[32m2\u001b[39m**\u001b[32m64\u001b[39m-\u001b[32m1\u001b[39m, \u001b[32m64\u001b[39m)\n\u001b[32m      8\u001b[39m no_overlap = kd.define(\u001b[33m\"\u001b[39m\u001b[33mno_overlap\u001b[39m\u001b[33m\"\u001b[39m, [x,sizex,y,sizey], \n\u001b[32m      9\u001b[39m     smt.If( smt.ULE(x,y),\n\u001b[32m     10\u001b[39m        smt.And( smt.ULT(bsizex , y - x), smt.ULE(bsizey, maxint - (y - x))),\n\u001b[32m     11\u001b[39m        smt.And( smt.ULT(bsizey , x - y), smt.ULE(bsizex, maxint - (x - y)))\n\u001b[32m     12\u001b[39m   ))\n\u001b[32m---> \u001b[39m\u001b[32m14\u001b[39m \u001b[43mkd\u001b[49m\u001b[43m.\u001b[49m\u001b[43mprove\u001b[49m\u001b[43m(\u001b[49m\u001b[43msmt\u001b[49m\u001b[43m.\u001b[49m\u001b[43mImplies\u001b[49m\u001b[43m(\u001b[49m\u001b[43msmt\u001b[49m\u001b[43m.\u001b[49m\u001b[43mDistinct\u001b[49m\u001b[43m(\u001b[49m\u001b[43mx\u001b[49m\u001b[43m,\u001b[49m\u001b[43m \u001b[49m\u001b[43mx\u001b[49m\u001b[43m+\u001b[49m\u001b[32;43m1\u001b[39;49m\u001b[43m,\u001b[49m\u001b[43m \u001b[49m\u001b[43my\u001b[49m\u001b[43m,\u001b[49m\u001b[43m \u001b[49m\u001b[43my\u001b[49m\u001b[43m+\u001b[49m\u001b[32;43m1\u001b[39;49m\u001b[43m,\u001b[49m\u001b[43m \u001b[49m\u001b[43my\u001b[49m\u001b[43m+\u001b[49m\u001b[32;43m2\u001b[39;49m\u001b[43m)\u001b[49m\u001b[43m,\u001b[49m\u001b[43m \u001b[49m\u001b[43mno_overlap\u001b[49m\u001b[43m(\u001b[49m\u001b[43mx\u001b[49m\u001b[43m,\u001b[49m\u001b[32;43m2\u001b[39;49m\u001b[43m,\u001b[49m\u001b[43my\u001b[49m\u001b[43m,\u001b[49m\u001b[32;43m3\u001b[39;49m\u001b[43m)\u001b[49m\u001b[43m)\u001b[49m\u001b[43m,\u001b[49m\u001b[43m \u001b[49m\u001b[43munfold\u001b[49m\u001b[43m=\u001b[49m\u001b[32;43m1\u001b[39;49m\u001b[43m)\u001b[49m\n",
      "\u001b[36mFile \u001b[39m\u001b[32m~/Documents/python/knuckledragger/kdrag/tactics.py:286\u001b[39m, in \u001b[36mprove\u001b[39m\u001b[34m(thm, by, admit, timeout, dump, solver, instan, unfold)\u001b[39m\n\u001b[32m    282\u001b[39m         \u001b[38;5;28;01mraise\u001b[39;00m \u001b[38;5;167;01mException\u001b[39;00m(\n\u001b[32m    283\u001b[39m             \u001b[33m\"\u001b[39m\u001b[33mWorked with quantifier stripped. Something is going awry\u001b[39m\u001b[33m\"\u001b[39m, pf\n\u001b[32m    284\u001b[39m         )\n\u001b[32m    285\u001b[39m     \u001b[38;5;28;01melse\u001b[39;00m:\n\u001b[32m--> \u001b[39m\u001b[32m286\u001b[39m         \u001b[38;5;28;01mraise\u001b[39;00m e\n\u001b[32m    287\u001b[39m \u001b[38;5;28;01mexcept\u001b[39;00m \u001b[38;5;167;01mException\u001b[39;00m \u001b[38;5;28;01mas\u001b[39;00m e:\n\u001b[32m    288\u001b[39m     \u001b[38;5;28;01mraise\u001b[39;00m e\n",
      "\u001b[36mFile \u001b[39m\u001b[32m~/Documents/python/knuckledragger/kdrag/tactics.py:264\u001b[39m, in \u001b[36mprove\u001b[39m\u001b[34m(thm, by, admit, timeout, dump, solver, instan, unfold)\u001b[39m\n\u001b[32m    262\u001b[39m         by.append(kd.kernel.prove(thm == thm1, by=trace, timeout=timeout))  \u001b[38;5;66;03m# type: ignore\u001b[39;00m\n\u001b[32m    263\u001b[39m \u001b[38;5;28;01mtry\u001b[39;00m:\n\u001b[32m--> \u001b[39m\u001b[32m264\u001b[39m     pf = \u001b[43mkd\u001b[49m\u001b[43m.\u001b[49m\u001b[43mkernel\u001b[49m\u001b[43m.\u001b[49m\u001b[43mprove\u001b[49m\u001b[43m(\u001b[49m\n\u001b[32m    265\u001b[39m \u001b[43m        \u001b[49m\u001b[43mthm\u001b[49m\u001b[43m,\u001b[49m\u001b[43m \u001b[49m\u001b[43mby\u001b[49m\u001b[43m,\u001b[49m\u001b[43m \u001b[49m\u001b[43mtimeout\u001b[49m\u001b[43m=\u001b[49m\u001b[43mtimeout\u001b[49m\u001b[43m,\u001b[49m\u001b[43m \u001b[49m\u001b[43mdump\u001b[49m\u001b[43m=\u001b[49m\u001b[43mdump\u001b[49m\u001b[43m,\u001b[49m\u001b[43m \u001b[49m\u001b[43msolver\u001b[49m\u001b[43m=\u001b[49m\u001b[43msolver\u001b[49m\u001b[43m,\u001b[49m\u001b[43m \u001b[49m\u001b[43madmit\u001b[49m\u001b[43m=\u001b[49m\u001b[43madmit\u001b[49m\n\u001b[32m    266\u001b[39m \u001b[43m    \u001b[49m\u001b[43m)\u001b[49m\n\u001b[32m    267\u001b[39m     kdrag.config.perf_event(\u001b[33m\"\u001b[39m\u001b[33mprove\u001b[39m\u001b[33m\"\u001b[39m, thm, time.perf_counter() - start_time)\n\u001b[32m    268\u001b[39m     \u001b[38;5;28;01mreturn\u001b[39;00m pf\n",
      "\u001b[36mFile \u001b[39m\u001b[32m~/Documents/python/knuckledragger/kdrag/kernel.py:176\u001b[39m, in \u001b[36mprove\u001b[39m\u001b[34m(thm, by, admit, timeout, dump, solver)\u001b[39m\n\u001b[32m    174\u001b[39m \u001b[38;5;28;01mif\u001b[39;00m res != smt.unsat:\n\u001b[32m    175\u001b[39m     \u001b[38;5;28;01mif\u001b[39;00m res == smt.sat:\n\u001b[32m--> \u001b[39m\u001b[32m176\u001b[39m         \u001b[38;5;28;01mraise\u001b[39;00m LemmaError(thm, \u001b[33m\"\u001b[39m\u001b[33mCountermodel\u001b[39m\u001b[33m\"\u001b[39m, s.model())\n\u001b[32m    177\u001b[39m     \u001b[38;5;28;01mraise\u001b[39;00m LemmaError(\u001b[33m\"\u001b[39m\u001b[33mprove\u001b[39m\u001b[33m\"\u001b[39m, thm, res)\n\u001b[32m    178\u001b[39m \u001b[38;5;28;01melse\u001b[39;00m:\n",
      "\u001b[31mLemmaError\u001b[39m: (Implies(Distinct(x, x + 1, y, y + 1, y + 2),\n        no_overlap(x, 2, y, 3)), 'Countermodel', [y = 18446744073709551613,\n x = 18446744073709551611,\n no_overlap = [else -> False]])"
     ]
    }
   ],
   "source": [
    "from kdrag.all import *\n",
    "\n",
    "x,y = smt.BitVecs(\"x y\", 64)\n",
    "sizex, sizey = smt.Ints(\"sizex, sizey\")\n",
    "bsizex = smt.Int2BV(sizex, 64)\n",
    "bsizey = smt.Int2BV(sizey, 64)\n",
    "maxint = smt.BitVecVal(2**64-1, 64)\n",
    "no_overlap = kd.define(\"no_overlap\", [x,sizex,y,sizey], \n",
    "    smt.If( smt.ULE(x,y),\n",
    "       smt.And( smt.ULT(bsizex , y - x), smt.ULE(bsizey, maxint - (y - x))),\n",
    "       smt.And( smt.ULT(bsizey , x - y), smt.ULE(bsizex, maxint - (x - y)))\n",
    "  ))\n",
    "\n",
    "kd.prove(smt.Implies(smt.Distinct(x, x+1, y, y+1, y+2), no_overlap(x,2,y,3)), unfold=1)\n",
    "\n"
   ]
  },
  {
   "cell_type": "code",
   "execution_count": 17,
   "id": "f0061cc9",
   "metadata": {},
   "outputs": [
    {
     "data": {
      "text/plain": [
       "18446744073709551615"
      ]
     },
     "execution_count": 17,
     "metadata": {},
     "output_type": "execute_result"
    }
   ],
   "source": [
    "2**64-1"
   ]
  },
  {
   "cell_type": "markdown",
   "id": "cbe942ce",
   "metadata": {},
   "source": [
    "# memset\n",
    "interpreted memset\n",
    "\n",
    "\n"
   ]
  },
  {
   "cell_type": "code",
   "execution_count": null,
   "id": "a3d1bb15",
   "metadata": {},
   "outputs": [],
   "source": [
    "%%file /tmp/memset.c\n",
    "\n",
    "enum Color {Red, Green, Blue};\n",
    "const int myconsts[] = {1 << Red, 1 << Green, 1 << Blue}\n",
    "\n",
    "struct config {\n",
    "    size_t ind,\n",
    "    void *dst,\n",
    "    size_t n\n",
    "}\n",
    "\n",
    "void mymemset(config *cfg) {\n",
    "    int color = mycolors[cfg->ind];\n",
    "    void *dst = cfg->dst;\n",
    "    for(int i = 0; i < cfg->n; i++)\n",
    "        dst[i] = color;\n",
    "}\n",
    "\n"
   ]
  },
  {
   "cell_type": "code",
   "execution_count": null,
   "id": "beb1b40d",
   "metadata": {},
   "outputs": [],
   "source": []
  },
  {
   "cell_type": "markdown",
   "id": "24a62352",
   "metadata": {},
   "source": [
    "# ghost call\n",
    "Figuring out how to access members of structs, offsets etc.\n",
    "Shouldn't change state, can read it. Changed real state is thrown away (stored as var?). Changed ghost state is not.\n",
    "How to setup frame?\n",
    "More like a subroutine, since we odn't setup a stack (?).\n",
    "In ghost code, read from named coroutine params.\n",
    "Or give fresh\n",
    "Know the abi somehow?\n",
    "\n",
    "```\n",
    "struct biz\n",
    "get param(&biz) {\n",
    "    return biz->a->b->c;\n",
    "}\n",
    "```\n",
    "\n",
    "My dishonesty about ram32 ram64 rax bites now?\n",
    "(RAX reg) (RDI reg)\n",
    "%rdi == (select32 reg RDI)\n",
    "(store32 reg RDI 0x42)\n",
    "`kd_reify \"memstate_name\"` # freeze current state into ghost.\n",
    "`kd_assign \"memstate\" \"(store RAX  )\"\n",
    "`kd_ghost_call \"res_memstate\" \"myfun\" \" \"`\n",
    "`kd_assign  \"foo\"  \"res_memstate\""
   ]
  },
  {
   "cell_type": "markdown",
   "id": "651511b9",
   "metadata": {},
   "source": [
    "# read write\n",
    "I should unpack the state datatype. No reason to bring datatypes into it.\n",
    "Could use store_view instead of explciit write field?\n",
    "Jankier"
   ]
  },
  {
   "cell_type": "markdown",
   "id": "d2c614aa",
   "metadata": {},
   "source": [
    "# verilog / sail\n",
    "Pcode is not that trustworthy. Vet against other semantics.\n",
    "(And why not just use those semantics instead ?)\n",
    "\n",
    "\n",
    "https://docs.pydrofoil.org/en/latest/scripting-api.html\n",
    "\n",
    "rpython\n",
    "https://mssun.github.io/rpython-by-example/\n",
    "So rpython itself is a bit like cython? But not exporting python libs. Using rpython on it's own like this is perhaps odd\n",
    "\n",
    "\n",
    "smtlib interpreter in rpython?\n",
    "Lean expr interpreter?\n",
    "\n"
   ]
  },
  {
   "cell_type": "code",
   "execution_count": 1,
   "id": "96b06e5c",
   "metadata": {},
   "outputs": [
    {
     "name": "stdout",
     "output_type": "stream",
     "text": [
      "\u001b[K34;1m1\u001b[0m/\u001b[32;1m18\u001b[0m/19 built, \u001b[32;1m159\u001b[0m copied (\u001b[32;1m1102.1\u001b[0m/1102.7 MiB), \u001b[32;1m270.7\u001b[0m MiB DL] building \u001b[1mpydrofoil\u001b[0m\u001b[Km\u001b[K\u001b[0m\u001b[K"
     ]
    }
   ],
   "source": [
    "! nix build github:rpypkgs/rpypkgs#pydrofoil-riscv"
   ]
  },
  {
   "cell_type": "code",
   "execution_count": 3,
   "id": "e7ca93a1",
   "metadata": {},
   "outputs": [
    {
     "name": "stdout",
     "output_type": "stream",
     "text": [
      "\u001b[Kpydrofoil-riscv 0.0.1-alpha0 (Sail model version: 0.5-273-g87f8bb34d6)\n"
     ]
    }
   ],
   "source": [
    "! nix run github:rpypkgs/rpypkgs#pydrofoil-riscv -- --version"
   ]
  },
  {
   "cell_type": "code",
   "execution_count": null,
   "id": "08ecde1b",
   "metadata": {},
   "outputs": [],
   "source": [
    "%%file /tmp/hello.py\n",
    "\n",
    "def entry_point(argv):\n",
    "    print \"Hello, World!\"\n",
    "    return 0\n",
    "\n",
    "# The target function is the main function of a RPython program. It takes\n",
    "# command line arguments as inputs and return an entry point function.\n",
    "def target(*args):\n",
    "    return entry_point"
   ]
  },
  {
   "cell_type": "markdown",
   "id": "b0062cbb",
   "metadata": {},
   "source": [
    "# python properties\n"
   ]
  },
  {
   "cell_type": "markdown",
   "id": "5c471191",
   "metadata": {},
   "source": [
    "# Inline asm Reg names\n",
    "Also memory locations?\n",
    "\n"
   ]
  },
  {
   "cell_type": "code",
   "execution_count": 4,
   "id": "ecea2b58",
   "metadata": {},
   "outputs": [
    {
     "data": {
      "text/html": [
       "[%rdi = 0]"
      ],
      "text/plain": [
       "[%rdi == 0]"
      ]
     },
     "execution_count": 4,
     "metadata": {},
     "output_type": "execute_result"
    }
   ],
   "source": [
    "import z3\n",
    "z3.parse_smt2_string(r\"\"\"\n",
    "(declare-const %rdi (_ BitVec 64))\n",
    "(assert (= %rdi (_ bv0 64)))\n",
    "\"\"\")\n"
   ]
  },
  {
   "cell_type": "code",
   "execution_count": null,
   "id": "8b711bda",
   "metadata": {},
   "outputs": [
    {
     "name": "stdout",
     "output_type": "stream",
     "text": [
      "Overwriting /tmp/hello.c\n"
     ]
    }
   ],
   "source": [
    "%%file /tmp/hello.c\n",
    "#include <stddef.h>\n",
    "__asm__(\".include \\\"knuckle.S\\\"\");\n",
    "__asm__(\"kd_prelude \\\"(declare-const x (_ BitVec 64))\\\"\");\n",
    "int foo(int x){\n",
    "    __asm__(\"kd_entry myentry \\\"true\\\"\");\n",
    "    __asm__(\"kd_assign x %0\" : : \"r\"(x));\n",
    "\n",
    "    int y = x + 42;\n",
    "    __asm__(\"kd_exit myentry \\\"(assert (= %0 (bvadd x (_ bv42 64)))\\\"\" : : \"r\"(y));\n",
    "    return y;\n",
    "}\n"
   ]
  },
  {
   "cell_type": "code",
   "execution_count": 9,
   "id": "5282719f",
   "metadata": {},
   "outputs": [
    {
     "name": "stdout",
     "output_type": "stream",
     "text": [
      "\t.file\t\"hello.c\"\n",
      "\t.text\n",
      "\t.globl\tfoo\n",
      "\t.type\tfoo, @function\n",
      "foo:\n",
      ".LFB0:\n",
      "\t.cfi_startproc\n",
      "\tendbr64\n",
      "#APP\n",
      "# 3 \"/tmp/hello.c\" 1\n",
      "\tkd_prelude \"(assert (= %edi 42))\"\n",
      "# 0 \"\" 2\n",
      "#NO_APP\n",
      "\tret\n",
      "\t.cfi_endproc\n",
      ".LFE0:\n",
      "\t.size\tfoo, .-foo\n",
      "\t.ident\t\"GCC: (Ubuntu 13.3.0-6ubuntu2~24.04) 13.3.0\"\n",
      "\t.section\t.note.GNU-stack,\"\",@progbits\n",
      "\t.section\t.note.gnu.property,\"a\"\n",
      "\t.align 8\n",
      "\t.long\t1f - 0f\n",
      "\t.long\t4f - 1f\n",
      "\t.long\t5\n",
      "0:\n",
      "\t.string\t\"GNU\"\n",
      "1:\n",
      "\t.align 8\n",
      "\t.long\t0xc0000002\n",
      "\t.long\t3f - 2f\n",
      "2:\n",
      "\t.long\t0x3\n",
      "3:\n",
      "\t.align 8\n",
      "4:\n"
     ]
    }
   ],
   "source": [
    "! gcc -O1 -S -c /tmp/hello.c -o /tmp/hello.S && cat /tmp/hello.S"
   ]
  },
  {
   "cell_type": "markdown",
   "id": "5b0bfcd6",
   "metadata": {},
   "source": [
    "# CN\n",
    "https://github.com/rems-project/cn\n",
    "https://rems-project.github.io/cn-tutorial/getting-started/tutorials/welcome/\n",
    "https://www.galois.com/articles/escaping-isla-nublar-coming-around-to-llms-for-formal-methods"
   ]
  },
  {
   "cell_type": "code",
   "execution_count": null,
   "id": "26cd20ee",
   "metadata": {},
   "outputs": [],
   "source": []
  },
  {
   "cell_type": "code",
   "execution_count": null,
   "id": "f69fd62a",
   "metadata": {},
   "outputs": [],
   "source": []
  },
  {
   "cell_type": "markdown",
   "id": "f8ad8d9a",
   "metadata": {},
   "source": [
    "# cfg reconstruction\n",
    "\n",
    "Takes VCs\n",
    "\n",
    "Any unreached specstmt, warn\n",
    "reachable_from\n",
    "\n",
    "Join specstmts\n",
    "\n",
    "Print CFG as ascii?\n",
    "Output it?\n",
    "\n"
   ]
  },
  {
   "cell_type": "code",
   "execution_count": null,
   "id": "c4d83684",
   "metadata": {},
   "outputs": [],
   "source": [
    "\n",
    "reachable = set().union(*[vc.trace for vc in vcs])"
   ]
  },
  {
   "cell_type": "markdown",
   "id": "92685abe",
   "metadata": {},
   "source": [
    "# Hyperproperties / Relational\n",
    "\n",
    "Synchro points?\n",
    "\n",
    "entry exit labels pairs.\n",
    "kd_sync\n",
    "\n",
    "kd_rel entry exit property\n",
    "kd_rel entry_exit property\n",
    "\n",
    "kd_channels\n",
    "monotonic channels?\n",
    "\n",
    "Finely interleaved product programs\n",
    "\n",
    "A syncrhonzination / scheudling program?\n",
    "ram_2\n",
    "\n",
    "Multiram executor? Channels\n",
    "\n",
    "Same program twice is easy to synchrnoize.\n",
    "High low variables\n",
    "\n",
    "havoc statement\n",
    "kd_havoc_ghost ghost_var\n",
    "kd_havoc_reg reg\n",
    "kd_havoc_mem memexpr  \n",
    "interrupt havocs touched stuff every cycle. So we do want to enable havor\n",
    "\n",
    "https://docs.certora.com/en/latest/docs/cvl/statements.html\n",
    "\n",
    "kd_join\n",
    "collect up all trace fragements with common start and ends.\n",
    "Maybe I should anyhow?\n",
    "\n",
    "Useful for the using assembly as spec idea.\n",
    "\n",
    "trace fragment bundle. Yikes\n",
    "\n",
    "thread_id as a way of knowing which program you're in?\n",
    "\n",
    "\n",
    "\n"
   ]
  },
  {
   "cell_type": "markdown",
   "id": "9e9f0d1d",
   "metadata": {},
   "source": [
    "# Unicorn\n",
    "Running stuff in pcode2c was clutch.\n",
    "What about just a nice running environemnt that ingests asmspec.\n",
    "Unicorn, gdb, qemu. Something.\n",
    "\n",
    "\n",
    "\n"
   ]
  },
  {
   "cell_type": "markdown",
   "id": "3756c27a",
   "metadata": {},
   "source": [
    "chat\n",
    "missing vex optimziationd via z3\n",
    "\n",
    "p4-=\n",
    "\n",
    "Concerns - user to \n"
   ]
  },
  {
   "cell_type": "markdown",
   "id": "28ac8bbe",
   "metadata": {},
   "source": [
    "# New Sleigh\n",
    "https://github.com/nneonneo/ghidra-wasm-plugin/tree/master\n",
    "\n",
    "https://spinsel.dev/2020/06/17/ghidra-brainfuck-processor-1.html\n",
    "\n",
    "3 roads to go down: https://github.com/rbran/sleigh-rs/tree/main try to reuse this sleigh parser of nebulous quality, try to hack onto ghidra's sleigh parser https://github.com/NationalSecurityAgency/ghidra/blob/master/Ghidra/Features/Decompiler/src/decompile/cpp/slghparse.y , or try to rebuild the grammar in a custom parser (edited) \n",
    "Ok actually a fourth is to consume the compiled .sla files. I don't even really know how their format works\n",
    "Why? Well, because using ghidra off the shelf only lets you turn concrete bits into pcode (edited) \n",
    "But the Sleigh format is kind of more like the analog of sail. You could use it to compile or assemble forward (which ghidra does use it to generate assemblers but I haven't seen that rewrapped to be usable anywhere except in the gui)\n",
    "https://github.com/NationalSecurityAgency/ghidra/blob/master/Ghidra/Framework/SoftwareModeling/src/main/java/ghidra/app/plugin/assembler/sleigh/SleighAssemblerBuilder.java\n",
    "\n",
    "\n",
    "https://github.com/CTSRD-CHERI/ghidra cheri modelled in ghidra?\n",
    "https://github.com/Cherified/cheriot-abstract-spec  https://github.com/Cherified/cheriot-program-logic\n",
    "https://github.com/CTSRD-CHERI/ghidra/blob/morello/main/Ghidra/Processors/AARCH64/data/languages/AARCH64_MorelloInstructions.sinc\n"
   ]
  },
  {
   "cell_type": "code",
   "execution_count": 4,
   "id": "24b2a4df",
   "metadata": {},
   "outputs": [
    {
     "name": "stdout",
     "output_type": "stream",
     "text": [
      "mkdir: cannot create directory ‘/tmp/Hack’: File exists\n",
      "mkdir: cannot create directory ‘/tmp/Hack/data’: File exists\n"
     ]
    }
   ],
   "source": [
    "! mkdir /tmp/Hack || mkdir /tmp/Hack/data"
   ]
  },
  {
   "cell_type": "code",
   "execution_count": 51,
   "id": "338673b9",
   "metadata": {},
   "outputs": [
    {
     "name": "stdout",
     "output_type": "stream",
     "text": [
      "Overwriting /tmp/Hack/Module.manifest\n"
     ]
    }
   ],
   "source": [
    "%%file /tmp/Hack/Module.manifest\n",
    "<module>\n",
    "  <name>Hack</name>\n",
    "  <description>nand2tetris Hack CPU</description>\n",
    "  <version>1.0</version>\n",
    "</module>\n"
   ]
  },
  {
   "cell_type": "code",
   "execution_count": 52,
   "id": "3f4d980b",
   "metadata": {},
   "outputs": [
    {
     "name": "stdout",
     "output_type": "stream",
     "text": [
      "Writing /tmp/Hack/data/hack.pspec\n"
     ]
    }
   ],
   "source": [
    "%%file /tmp/Hack/data/hack.pspec\n",
    "<?xml version=\"1.0\" encoding=\"UTF-8\"?>\n",
    "<processor_spec>\n",
    "  <programcounter register=\"PC\"/>\n",
    "  <default_symbols>\n",
    "    <function name=\"entry\" entry=\"true\" address=\"0x0000\"/>\n",
    "  </default_symbols>\n",
    "</processor_spec>"
   ]
  },
  {
   "cell_type": "code",
   "execution_count": 53,
   "id": "9220b17e",
   "metadata": {},
   "outputs": [
    {
     "name": "stdout",
     "output_type": "stream",
     "text": [
      "Writing /tmp/Hack/data/hack.ldefs\n"
     ]
    }
   ],
   "source": [
    "%%file /tmp/Hack/data/hack.ldefs\n",
    "<?xml version=\"1.0\" encoding=\"UTF-8\"?>\n",
    "<language_definitions>\n",
    "  <language processor=\"Hack\" endian=\"big\" size=\"16\" variant=\"default\"\n",
    "            version=\"1\" slafile=\"hack.sla\" processorspec=\"hack.pspec\"\n",
    "            description=\"Hack (nand2tetris) 16-bit\"/>\n",
    "  <compiler name=\"default\" spec=\"hack.cspec\" id=\"default\"/>\n",
    "</language_definitions>"
   ]
  },
  {
   "cell_type": "code",
   "execution_count": null,
   "id": "ee16f309",
   "metadata": {},
   "outputs": [],
   "source": []
  },
  {
   "cell_type": "code",
   "execution_count": null,
   "id": "9b82d6ed",
   "metadata": {},
   "outputs": [
    {
     "name": "stdout",
     "output_type": "stream",
     "text": [
      "Overwriting /tmp/Hack/data/hack.slaspec\n"
     ]
    }
   ],
   "source": [
    "%%file /tmp/Hack/data/hack.slaspec\n",
    "define endian=big;\n",
    "define alignment=2;\n",
    "\n",
    "define space ram     type=ram_space   size=2  default;\n",
    "define space register type=register_space size=1;\n",
    "\n",
    "define register offset=0x00 size=2  [PC D A];\n",
    "define token instr(16)\n",
    "  b15 = (15,15)             # 0 = A-instr, 1 = C-instr\n",
    "  cxx = (13,14)             # the conventional \"11\" in Hack C-instr\n",
    "  a   = (12,12)\n",
    "  c1  = (11,11)\n",
    "  c2  = (10,10)\n",
    "  c3  = (9,9)\n",
    "  c4  = (8,8)\n",
    "  c5  = (7,7)\n",
    "  c6  = (6,6)\n",
    "  d1  = (5,5)               # A dest\n",
    "  d2  = (4,4)               # D dest\n",
    "  d3  = (3,3)               # M dest\n",
    "  j1  = (2,2)\n",
    "  j2  = (1,1)\n",
    "  j3  = (0,0)\n",
    "  aimm = (0,14)             # 15-bit literal for A-instruction\n",
    ";\n",
    "#OP1: \"#\"aimm    is b15=0; aimm\t\t\t{ tmp:2 = aimm; export tmp; }\n",
    ":a_inst aimm is b15=0 & aimm {\n",
    "  A = aimm;          # zero-extend 15-bit literal\n",
    "  PC = PC + 2;\n",
    "}"
   ]
  },
  {
   "cell_type": "code",
   "execution_count": 95,
   "id": "22286e75",
   "metadata": {},
   "outputs": [
    {
     "name": "stdout",
     "output_type": "stream",
     "text": [
      "openjdk version \"21.0.8\" 2025-07-15\n",
      "OpenJDK Runtime Environment (build 21.0.8+9-Ubuntu-0ubuntu124.04.1)\n",
      "OpenJDK 64-Bit Server VM (build 21.0.8+9-Ubuntu-0ubuntu124.04.1, mixed mode)\n",
      "INFO  Using log config file: jar:file:/home/philip/Downloads/ghidra_11.4.2_PUBLIC_20250826/ghidra_11.4.2_PUBLIC/Ghidra/Framework/Generic/lib/Generic.jar!/generic.log4j.xml (LoggingInitialization)  \n",
      "INFO  Using log file: /home/philip/.config/ghidra/ghidra_11.4.2_PUBLIC/application.log (LoggingInitialization)  \n"
     ]
    }
   ],
   "source": [
    "! /home/philip/Downloads/ghidra_11.4.2_PUBLIC_20250826/ghidra_11.4.2_PUBLIC/support/sleigh /tmp/Hack/data/hack.slaspec"
   ]
  },
  {
   "cell_type": "code",
   "execution_count": 108,
   "id": "ff82a6c3",
   "metadata": {},
   "outputs": [
    {
     "name": "stdout",
     "output_type": "stream",
     "text": [
      "a_inst\n",
      "0x0/2: a_inst 0x1f00\n",
      "[IMARK ram[0:2], A = 0x1f00, PC = PC + 0x2]\n"
     ]
    },
    {
     "data": {
      "text/plain": [
       "2"
      ]
     },
     "execution_count": 108,
     "metadata": {},
     "output_type": "execute_result"
    }
   ],
   "source": [
    "import kdrag.contrib.pcode as pcode\n",
    "import pypcode\n",
    "lang = pypcode.Arch(\"Hack\", \"/tmp/Hack/data/hack.ldefs\").languages[0]\n",
    "ctx = pypcode.Context(lang)\n",
    "tx = ctx.disassemble(bytes.fromhex(\"1f\"))\n",
    "print(tx.instructions[0].mnem)\n",
    "print(pcode.pretty_insn(tx.instructions[0]))\n",
    "tx = ctx.translate(bytes.fromhex(\"1f\"))\n",
    "print(tx.ops)\n",
    "pcode.pretty_op(tx.ops[1])\n",
    "tx.ops[1].inputs[0].size"
   ]
  },
  {
   "cell_type": "markdown",
   "id": "c9bd5108",
   "metadata": {},
   "source": [
    "# sail\n",
    "Give sail another shake. Comparing and constrasting to sleigh is kind of interesting.\n",
    "\n"
   ]
  },
  {
   "cell_type": "code",
   "execution_count": null,
   "id": "7f718e00",
   "metadata": {},
   "outputs": [],
   "source": []
  },
  {
   "cell_type": "markdown",
   "id": "b0c8c797",
   "metadata": {},
   "source": [
    "# vec\n",
    "https://en.algorithmica.org/hpc/simd/"
   ]
  },
  {
   "cell_type": "code",
   "execution_count": 13,
   "id": "c37c2aeb",
   "metadata": {},
   "outputs": [
    {
     "name": "stdout",
     "output_type": "stream",
     "text": [
      "Overwriting /tmp/sum.c\n"
     ]
    }
   ],
   "source": [
    "%%file /tmp/sum.c\n",
    "//#pragma GCC target(\"avx2\")\n",
    "const int n = 1e5;\n",
    "int a[n], s = 0;\n",
    "\n",
    "int main() {\n",
    "    for (int t = 0; t < 100000; t++)\n",
    "        for (int i = 0; i < n; i++)\n",
    "            s += a[i];\n",
    "\n",
    "    return 0;\n",
    "}"
   ]
  },
  {
   "cell_type": "code",
   "execution_count": 15,
   "id": "45d2f899",
   "metadata": {},
   "outputs": [
    {
     "name": "stdout",
     "output_type": "stream",
     "text": [
      "\n",
      "real\t0m0.526s\n",
      "user\t0m0.522s\n",
      "sys\t0m0.001s\n"
     ]
    }
   ],
   "source": [
    "! g++ -O3 /tmp/sum.c -o /tmp/sum && time /tmp/sum"
   ]
  },
  {
   "cell_type": "code",
   "execution_count": 14,
   "id": "bd10f694",
   "metadata": {},
   "outputs": [
    {
     "name": "stdout",
     "output_type": "stream",
     "text": [
      "\n",
      "real\t0m0.137s\n",
      "user\t0m0.136s\n",
      "sys\t0m0.000s\n"
     ]
    }
   ],
   "source": [
    "! g++ -march=native -O3 /tmp/sum.c -o /tmp/sum && time /tmp/sum"
   ]
  },
  {
   "cell_type": "code",
   "execution_count": null,
   "id": "6303af2e",
   "metadata": {},
   "outputs": [
    {
     "name": "stdout",
     "output_type": "stream",
     "text": [
      "usage: pypcode [-h] [-l] [-o OFFSET] [-s LENGTH] [-i MAX_INSTRUCTIONS] [-b]\n",
      "               langid binary [base]\n",
      "pypcode: error: the following arguments are required: langid, binary\n"
     ]
    }
   ],
   "source": [
    "! python3 -m pypcode  "
   ]
  },
  {
   "cell_type": "code",
   "execution_count": 16,
   "id": "250b39d0",
   "metadata": {},
   "outputs": [
    {
     "name": "stdout",
     "output_type": "stream",
     "text": [
      "\t.file\t\"sum.c\"\n",
      "\t.intel_syntax noprefix\n",
      "\t.text\n",
      "\t.section\t.text.startup,\"ax\",@progbits\n",
      "\t.p2align 4\n",
      "\t.globl\tmain\n",
      "\t.type\tmain, @function\n",
      "main:\n",
      ".LFB0:\n",
      "\t.cfi_startproc\n",
      "\tendbr64\n",
      "\tlea\trdx, a[rip]\n",
      "\tmovd\txmm0, DWORD PTR s[rip]\n",
      "\tlea\trcx, 400000[rdx]\n",
      ".L2:\n",
      "\tmovdqa\txmm1, XMMWORD PTR [rdx]\n",
      "\tmov\teax, 100000\n",
      "\t.p2align 4,,10\n",
      "\t.p2align 3\n",
      ".L3:\n",
      "\tpaddd\txmm0, xmm1\n",
      "\tpaddd\txmm0, xmm1\n",
      "\tsub\teax, 2\n",
      "\tjne\t.L3\n",
      "\tadd\trdx, 16\n",
      "\tcmp\trcx, rdx\n",
      "\tjne\t.L2\n",
      "\tmovdqa\txmm1, xmm0\n",
      "\txor\teax, eax\n",
      "\tpsrldq\txmm1, 8\n",
      "\tpaddd\txmm0, xmm1\n",
      "\tmovdqa\txmm1, xmm0\n",
      "\tpsrldq\txmm1, 4\n",
      "\tpaddd\txmm0, xmm1\n",
      "\tmovd\tDWORD PTR s[rip], xmm0\n",
      "\tret\n",
      "\t.cfi_endproc\n",
      ".LFE0:\n",
      "\t.size\tmain, .-main\n",
      "\t.globl\ts\n"
     ]
    }
   ],
   "source": [
    "! g++ -O3 /tmp/sum.c -o /tmp/sum.S -S -masm=intel && head -40 /tmp/sum.S"
   ]
  },
  {
   "cell_type": "code",
   "execution_count": 18,
   "id": "1c871748",
   "metadata": {},
   "outputs": [
    {
     "name": "stdout",
     "output_type": "stream",
     "text": [
      "\t.file\t\"sum.c\"\n",
      "\t.intel_syntax noprefix\n",
      "\t.text\n",
      "\t.section\t.text.startup,\"ax\",@progbits\n",
      "\t.p2align 4\n",
      "\t.globl\tmain\n",
      "\t.type\tmain, @function\n",
      "main:\n",
      ".LFB0:\n",
      "\t.cfi_startproc\n",
      "\tendbr64\n",
      "\tlea\trdx, a[rip]\n",
      "\tvmovd\txmm0, DWORD PTR s[rip]\n",
      "\tlea\trcx, 400000[rdx]\n",
      ".L2:\n",
      "\tvmovdqa32\tzmm1, ZMMWORD PTR [rdx]\n",
      "\tmov\teax, 100000\n",
      "\t.p2align 4\n",
      "\t.p2align 3\n",
      ".L3:\n",
      "\tvpaddd\tzmm0, zmm0, zmm1\n",
      "\tsub\teax, 2\n",
      "\tvpaddd\tzmm0, zmm0, zmm1\n",
      "\tjne\t.L3\n",
      "\tadd\trdx, 64\n",
      "\tcmp\trcx, rdx\n",
      "\tjne\t.L2\n",
      "\tvmovdqa\tymm1, ymm0\n",
      "\tvextracti32x8\tymm0, zmm0, 0x1\n",
      "\txor\teax, eax\n",
      "\tvpaddd\tymm1, ymm1, ymm0\n",
      "\tvmovdqa\txmm0, xmm1\n",
      "\tvextracti128\txmm1, ymm1, 0x1\n",
      "\tvpaddd\txmm0, xmm0, xmm1\n",
      "\tvpsrldq\txmm1, xmm0, 8\n",
      "\tvpaddd\txmm0, xmm0, xmm1\n",
      "\tvpsrldq\txmm1, xmm0, 4\n",
      "\tvpaddd\txmm0, xmm0, xmm1\n",
      "\tvmovd\tDWORD PTR s[rip], xmm0\n",
      "\tvzeroupper\n",
      "\tret\n",
      "\t.cfi_endproc\n",
      ".LFE0:\n",
      "\t.size\tmain, .-main\n",
      "\t.globl\ts\n",
      "\t.bss\n",
      "\t.align 4\n",
      "\t.type\ts, @object\n",
      "\t.size\ts, 4\n",
      "s:\n",
      "\t.zero\t4\n",
      "\t.globl\ta\n",
      "\t.align 64\n",
      "\t.type\ta, @object\n",
      "\t.size\ta, 400000\n",
      "a:\n",
      "\t.zero\t400000\n",
      "\t.ident\t\"GCC: (Ubuntu 13.3.0-6ubuntu2~24.04) 13.3.0\"\n",
      "\t.section\t.note.GNU-stack,\"\",@progbits\n",
      "\t.section\t.note.gnu.property,\"a\"\n"
     ]
    }
   ],
   "source": [
    "! g++ -march=native -O3 /tmp/sum.c -o /tmp/sum.S -S -masm=intel && head -60 /tmp/sum.S"
   ]
  },
  {
   "cell_type": "code",
   "execution_count": 21,
   "id": "318d8bd0",
   "metadata": {},
   "outputs": [
    {
     "name": "stdout",
     "output_type": "stream",
     "text": [
      "Writing /tmp/support.cpp\n"
     ]
    }
   ],
   "source": [
    "%%file /tmp/support.cpp\n",
    "#include <iostream>\n",
    "using namespace std;\n",
    "\n",
    "int main() {\n",
    "    cout << __builtin_cpu_supports(\"sse\") << endl;\n",
    "    cout << __builtin_cpu_supports(\"sse2\") << endl;\n",
    "    cout << __builtin_cpu_supports(\"avx\") << endl;\n",
    "    cout << __builtin_cpu_supports(\"avx2\") << endl;\n",
    "    cout << __builtin_cpu_supports(\"avx512f\") << endl;\n",
    "\n",
    "    return 0;\n",
    "}"
   ]
  },
  {
   "cell_type": "code",
   "execution_count": 23,
   "id": "5cfa00a4",
   "metadata": {},
   "outputs": [
    {
     "name": "stdout",
     "output_type": "stream",
     "text": [
      "8\n",
      "16\n",
      "512\n",
      "1024\n",
      "32768\n"
     ]
    }
   ],
   "source": [
    "! g++ -O3 /tmp/support.cpp -o /tmp/support && /tmp/support"
   ]
  },
  {
   "cell_type": "code",
   "execution_count": 25,
   "id": "dd461b4c",
   "metadata": {},
   "outputs": [
    {
     "name": "stdout",
     "output_type": "stream",
     "text": [
      "processor\t: 0\n",
      "vendor_id\t: AuthenticAMD\n",
      "cpu family\t: 25\n",
      "model\t\t: 116\n",
      "model name\t: AMD Ryzen 7 PRO 7840U w/ Radeon 780M Graphics\n",
      "stepping\t: 1\n",
      "microcode\t: 0xa704107\n",
      "cpu MHz\t\t: 4707.835\n",
      "cache size\t: 1024 KB\n",
      "physical id\t: 0\n",
      "siblings\t: 16\n",
      "core id\t\t: 0\n",
      "cpu cores\t: 8\n",
      "apicid\t\t: 0\n",
      "initial apicid\t: 0\n",
      "fpu\t\t: yes\n",
      "fpu_exception\t: yes\n",
      "cpuid level\t: 16\n",
      "wp\t\t: yes\n",
      "flags\t\t: fpu vme de pse tsc msr pae mce cx8 apic sep mtrr pge mca cmov pat pse36 clflush mmx fxsr sse sse2 ht syscall nx mmxext fxsr_opt pdpe1gb rdtscp lm constant_tsc rep_good amd_lbr_v2 nopl xtopology nonstop_tsc cpuid extd_apicid aperfmperf rapl pni pclmulqdq monitor ssse3 fma cx16 sse4_1 sse4_2 x2apic movbe popcnt aes xsave avx f16c rdrand lahf_lm cmp_legacy svm extapic cr8_legacy abm sse4a misalignsse 3dnowprefetch osvw ibs skinit wdt tce topoext perfctr_core perfctr_nb bpext perfctr_llc mwaitx cpb cat_l3 cdp_l3 hw_pstate ssbd mba perfmon_v2 ibrs ibpb stibp ibrs_enhanced vmmcall fsgsbase bmi1 avx2 smep bmi2 erms invpcid cqm rdt_a avx512f avx512dq rdseed adx smap avx512ifma clflushopt clwb avx512cd sha_ni avx512bw avx512vl xsaveopt xsavec xgetbv1 xsaves cqm_llc cqm_occup_llc cqm_mbm_total cqm_mbm_local user_shstk avx512_bf16 clzero irperf xsaveerptr rdpru wbnoinvd cppc arat npt lbrv svm_lock nrip_save tsc_scale vmcb_clean flushbyasid decodeassists pausefilter pfthreshold vgif x2avic v_spec_ctrl vnmi avx512vbmi umip pku ospke avx512_vbmi2 gfni vaes vpclmulqdq avx512_vnni avx512_bitalg avx512_vpopcntdq rdpid overflow_recov succor smca fsrm flush_l1d amd_lbr_pmc_freeze\n",
      "bugs\t\t: sysret_ss_attrs spectre_v1 spectre_v2 spec_store_bypass srso\n",
      "bogomips\t: 6587.30\n",
      "TLB size\t: 3584 4K pages\n",
      "clflush size\t: 64\n",
      "cache_alignment\t: 64\n",
      "address sizes\t: 48 bits physical, 48 bits virtual\n",
      "power management: ts ttp tm hwpstate cpb eff_freq_ro [13] [14] [15]\n",
      "\n",
      "processor\t: 1\n",
      "vendor_id\t: AuthenticAMD\n",
      "cpu family\t: 25\n",
      "model\t\t: 116\n",
      "model name\t: AMD Ryzen 7 PRO 7840U w/ Radeon 780M Graphics\n",
      "stepping\t: 1\n",
      "microcode\t: 0xa704107\n",
      "cpu MHz\t\t: 3370.201\n",
      "cache size\t: 1024 KB\n",
      "physical id\t: 0\n",
      "siblings\t: 16\n",
      "core id\t\t: 0\n",
      "cpu cores\t: 8\n",
      "apicid\t\t: 1\n",
      "initial apicid\t: 1\n",
      "fpu\t\t: yes\n",
      "fpu_exception\t: yes\n",
      "cpuid level\t: 16\n",
      "wp\t\t: yes\n",
      "flags\t\t: fpu vme de pse tsc msr pae mce cx8 apic sep mtrr pge mca cmov pat pse36 clflush mmx fxsr sse sse2 ht syscall nx mmxext fxsr_opt pdpe1gb rdtscp lm constant_tsc rep_good amd_lbr_v2 nopl xtopology nonstop_tsc cpuid extd_apicid aperfmperf rapl pni pclmulqdq monitor ssse3 fma cx16 sse4_1 sse4_2 x2apic movbe popcnt aes xsave avx f16c rdrand lahf_lm cmp_legacy svm extapic cr8_legacy abm sse4a misalignsse 3dnowprefetch osvw ibs skinit wdt tce topoext perfctr_core perfctr_nb bpext perfctr_llc mwaitx cpb cat_l3 cdp_l3 hw_pstate ssbd mba perfmon_v2 ibrs ibpb stibp ibrs_enhanced vmmcall fsgsbase bmi1 avx2 smep bmi2 erms invpcid cqm rdt_a avx512f avx512dq rdseed adx smap avx512ifma clflushopt clwb avx512cd sha_ni avx512bw avx512vl xsaveopt xsavec xgetbv1 xsaves cqm_llc cqm_occup_llc cqm_mbm_total cqm_mbm_local user_shstk avx512_bf16 clzero irperf xsaveerptr rdpru wbnoinvd cppc arat npt lbrv svm_lock nrip_save tsc_scale vmcb_clean flushbyasid decodeassists pausefilter pfthreshold vgif x2avic v_spec_ctrl vnmi avx512vbmi umip pku ospke avx512_vbmi2 gfni vaes vpclmulqdq avx512_vnni avx512_bitalg avx512_vpopcntdq rdpid overflow_recov succor smca fsrm flush_l1d amd_lbr_pmc_freeze\n",
      "bugs\t\t: sysret_ss_attrs spectre_v1 spectre_v2 spec_store_bypass srso\n",
      "bogomips\t: 6587.30\n",
      "TLB size\t: 3584 4K pages\n",
      "clflush size\t: 64\n",
      "cache_alignment\t: 64\n",
      "address sizes\t: 48 bits physical, 48 bits virtual\n",
      "power management: ts ttp tm hwpstate cpb eff_freq_ro [13] [14] [15]\n",
      "\n",
      "processor\t: 2\n",
      "vendor_id\t: AuthenticAMD\n",
      "cpu family\t: 25\n",
      "model\t\t: 116\n",
      "model name\t: AMD Ryzen 7 PRO 7840U w/ Radeon 780M Graphics\n",
      "stepping\t: 1\n",
      "microcode\t: 0xa704107\n",
      "cpu MHz\t\t: 4580.854\n",
      "cache size\t: 1024 KB\n",
      "physical id\t: 0\n",
      "siblings\t: 16\n",
      "core id\t\t: 1\n",
      "cpu cores\t: 8\n",
      "apicid\t\t: 2\n",
      "initial apicid\t: 2\n",
      "fpu\t\t: yes\n",
      "fpu_exception\t: yes\n",
      "cpuid level\t: 16\n",
      "wp\t\t: yes\n",
      "flags\t\t: fpu vme de pse tsc msr pae mce cx8 apic sep mtrr pge mca cmov pat pse36 clflush mmx fxsr sse sse2 ht syscall nx mmxext fxsr_opt pdpe1gb rdtscp lm constant_tsc rep_good amd_lbr_v2 nopl xtopology nonstop_tsc cpuid extd_apicid aperfmperf rapl pni pclmulqdq monitor ssse3 fma cx16 sse4_1 sse4_2 x2apic movbe popcnt aes xsave avx f16c rdrand lahf_lm cmp_legacy svm extapic cr8_legacy abm sse4a misalignsse 3dnowprefetch osvw ibs skinit wdt tce topoext perfctr_core perfctr_nb bpext perfctr_llc mwaitx cpb cat_l3 cdp_l3 hw_pstate ssbd mba perfmon_v2 ibrs ibpb stibp ibrs_enhanced vmmcall fsgsbase bmi1 avx2 smep bmi2 erms invpcid cqm rdt_a avx512f avx512dq rdseed adx smap avx512ifma clflushopt clwb avx512cd sha_ni avx512bw avx512vl xsaveopt xsavec xgetbv1 xsaves cqm_llc cqm_occup_llc cqm_mbm_total cqm_mbm_local user_shstk avx512_bf16 clzero irperf xsaveerptr rdpru wbnoinvd cppc arat npt lbrv svm_lock nrip_save tsc_scale vmcb_clean flushbyasid decodeassists pausefilter pfthreshold vgif x2avic v_spec_ctrl vnmi avx512vbmi umip pku ospke avx512_vbmi2 gfni vaes vpclmulqdq avx512_vnni avx512_bitalg avx512_vpopcntdq rdpid overflow_recov succor smca fsrm flush_l1d amd_lbr_pmc_freeze\n",
      "bugs\t\t: sysret_ss_attrs spectre_v1 spectre_v2 spec_store_bypass srso\n",
      "bogomips\t: 6587.30\n",
      "TLB size\t: 3584 4K pages\n",
      "clflush size\t: 64\n",
      "cache_alignment\t: 64\n",
      "address sizes\t: 48 bits physical, 48 bits virtual\n",
      "power management: ts ttp tm hwpstate cpb eff_freq_ro [13] [14] [15]\n",
      "\n",
      "processor\t: 3\n",
      "vendor_id\t: AuthenticAMD\n",
      "cpu family\t: 25\n",
      "model\t\t: 116\n",
      "model name\t: AMD Ryzen 7 PRO 7840U w/ Radeon 780M Graphics\n",
      "stepping\t: 1\n",
      "microcode\t: 0xa704107\n",
      "cpu MHz\t\t: 4839.870\n",
      "cache size\t: 1024 KB\n",
      "physical id\t: 0\n",
      "siblings\t: 16\n",
      "core id\t\t: 1\n",
      "cpu cores\t: 8\n",
      "apicid\t\t: 3\n",
      "initial apicid\t: 3\n",
      "fpu\t\t: yes\n",
      "fpu_exception\t: yes\n",
      "cpuid level\t: 16\n",
      "wp\t\t: yes\n",
      "flags\t\t: fpu vme de pse tsc msr pae mce cx8 apic sep mtrr pge mca cmov pat pse36 clflush mmx fxsr sse sse2 ht syscall nx mmxext fxsr_opt pdpe1gb rdtscp lm constant_tsc rep_good amd_lbr_v2 nopl xtopology nonstop_tsc cpuid extd_apicid aperfmperf rapl pni pclmulqdq monitor ssse3 fma cx16 sse4_1 sse4_2 x2apic movbe popcnt aes xsave avx f16c rdrand lahf_lm cmp_legacy svm extapic cr8_legacy abm sse4a misalignsse 3dnowprefetch osvw ibs skinit wdt tce topoext perfctr_core perfctr_nb bpext perfctr_llc mwaitx cpb cat_l3 cdp_l3 hw_pstate ssbd mba perfmon_v2 ibrs ibpb stibp ibrs_enhanced vmmcall fsgsbase bmi1 avx2 smep bmi2 erms invpcid cqm rdt_a avx512f avx512dq rdseed adx smap avx512ifma clflushopt clwb avx512cd sha_ni avx512bw avx512vl xsaveopt xsavec xgetbv1 xsaves cqm_llc cqm_occup_llc cqm_mbm_total cqm_mbm_local user_shstk avx512_bf16 clzero irperf xsaveerptr rdpru wbnoinvd cppc arat npt lbrv svm_lock nrip_save tsc_scale vmcb_clean flushbyasid decodeassists pausefilter pfthreshold vgif x2avic v_spec_ctrl vnmi avx512vbmi umip pku ospke avx512_vbmi2 gfni vaes vpclmulqdq avx512_vnni avx512_bitalg avx512_vpopcntdq rdpid overflow_recov succor smca fsrm flush_l1d amd_lbr_pmc_freeze\n",
      "bugs\t\t: sysret_ss_attrs spectre_v1 spectre_v2 spec_store_bypass srso\n",
      "bogomips\t: 6587.30\n",
      "TLB size\t: 3584 4K pages\n",
      "clflush size\t: 64\n",
      "cache_alignment\t: 64\n",
      "address sizes\t: 48 bits physical, 48 bits virtual\n",
      "power management: ts ttp tm hwpstate cpb eff_freq_ro [13] [14] [15]\n",
      "\n",
      "processor\t: 4\n",
      "vendor_id\t: AuthenticAMD\n",
      "cpu family\t: 25\n",
      "model\t\t: 116\n",
      "model name\t: AMD Ryzen 7 PRO 7840U w/ Radeon 780M Graphics\n",
      "stepping\t: 1\n",
      "microcode\t: 0xa704107\n",
      "cpu MHz\t\t: 4831.547\n",
      "cache size\t: 1024 KB\n",
      "physical id\t: 0\n",
      "siblings\t: 16\n",
      "core id\t\t: 2\n",
      "cpu cores\t: 8\n",
      "apicid\t\t: 4\n",
      "initial apicid\t: 4\n",
      "fpu\t\t: yes\n",
      "fpu_exception\t: yes\n",
      "cpuid level\t: 16\n",
      "wp\t\t: yes\n",
      "flags\t\t: fpu vme de pse tsc msr pae mce cx8 apic sep mtrr pge mca cmov pat pse36 clflush mmx fxsr sse sse2 ht syscall nx mmxext fxsr_opt pdpe1gb rdtscp lm constant_tsc rep_good amd_lbr_v2 nopl xtopology nonstop_tsc cpuid extd_apicid aperfmperf rapl pni pclmulqdq monitor ssse3 fma cx16 sse4_1 sse4_2 x2apic movbe popcnt aes xsave avx f16c rdrand lahf_lm cmp_legacy svm extapic cr8_legacy abm sse4a misalignsse 3dnowprefetch osvw ibs skinit wdt tce topoext perfctr_core perfctr_nb bpext perfctr_llc mwaitx cpb cat_l3 cdp_l3 hw_pstate ssbd mba perfmon_v2 ibrs ibpb stibp ibrs_enhanced vmmcall fsgsbase bmi1 avx2 smep bmi2 erms invpcid cqm rdt_a avx512f avx512dq rdseed adx smap avx512ifma clflushopt clwb avx512cd sha_ni avx512bw avx512vl xsaveopt xsavec xgetbv1 xsaves cqm_llc cqm_occup_llc cqm_mbm_total cqm_mbm_local user_shstk avx512_bf16 clzero irperf xsaveerptr rdpru wbnoinvd cppc arat npt lbrv svm_lock nrip_save tsc_scale vmcb_clean flushbyasid decodeassists pausefilter pfthreshold vgif x2avic v_spec_ctrl vnmi avx512vbmi umip pku ospke avx512_vbmi2 gfni vaes vpclmulqdq avx512_vnni avx512_bitalg avx512_vpopcntdq rdpid overflow_recov succor smca fsrm flush_l1d amd_lbr_pmc_freeze\n",
      "bugs\t\t: sysret_ss_attrs spectre_v1 spectre_v2 spec_store_bypass srso\n",
      "bogomips\t: 6587.30\n",
      "TLB size\t: 3584 4K pages\n",
      "clflush size\t: 64\n",
      "cache_alignment\t: 64\n",
      "address sizes\t: 48 bits physical, 48 bits virtual\n",
      "power management: ts ttp tm hwpstate cpb eff_freq_ro [13] [14] [15]\n",
      "\n",
      "processor\t: 5\n",
      "vendor_id\t: AuthenticAMD\n",
      "cpu family\t: 25\n",
      "model\t\t: 116\n",
      "model name\t: AMD Ryzen 7 PRO 7840U w/ Radeon 780M Graphics\n",
      "stepping\t: 1\n",
      "microcode\t: 0xa704107\n",
      "cpu MHz\t\t: 4852.717\n",
      "cache size\t: 1024 KB\n",
      "physical id\t: 0\n",
      "siblings\t: 16\n",
      "core id\t\t: 2\n",
      "cpu cores\t: 8\n",
      "apicid\t\t: 5\n",
      "initial apicid\t: 5\n",
      "fpu\t\t: yes\n",
      "fpu_exception\t: yes\n",
      "cpuid level\t: 16\n",
      "wp\t\t: yes\n",
      "flags\t\t: fpu vme de pse tsc msr pae mce cx8 apic sep mtrr pge mca cmov pat pse36 clflush mmx fxsr sse sse2 ht syscall nx mmxext fxsr_opt pdpe1gb rdtscp lm constant_tsc rep_good amd_lbr_v2 nopl xtopology nonstop_tsc cpuid extd_apicid aperfmperf rapl pni pclmulqdq monitor ssse3 fma cx16 sse4_1 sse4_2 x2apic movbe popcnt aes xsave avx f16c rdrand lahf_lm cmp_legacy svm extapic cr8_legacy abm sse4a misalignsse 3dnowprefetch osvw ibs skinit wdt tce topoext perfctr_core perfctr_nb bpext perfctr_llc mwaitx cpb cat_l3 cdp_l3 hw_pstate ssbd mba perfmon_v2 ibrs ibpb stibp ibrs_enhanced vmmcall fsgsbase bmi1 avx2 smep bmi2 erms invpcid cqm rdt_a avx512f avx512dq rdseed adx smap avx512ifma clflushopt clwb avx512cd sha_ni avx512bw avx512vl xsaveopt xsavec xgetbv1 xsaves cqm_llc cqm_occup_llc cqm_mbm_total cqm_mbm_local user_shstk avx512_bf16 clzero irperf xsaveerptr rdpru wbnoinvd cppc arat npt lbrv svm_lock nrip_save tsc_scale vmcb_clean flushbyasid decodeassists pausefilter pfthreshold vgif x2avic v_spec_ctrl vnmi avx512vbmi umip pku ospke avx512_vbmi2 gfni vaes vpclmulqdq avx512_vnni avx512_bitalg avx512_vpopcntdq rdpid overflow_recov succor smca fsrm flush_l1d amd_lbr_pmc_freeze\n",
      "bugs\t\t: sysret_ss_attrs spectre_v1 spectre_v2 spec_store_bypass srso\n",
      "bogomips\t: 6587.30\n",
      "TLB size\t: 3584 4K pages\n",
      "clflush size\t: 64\n",
      "cache_alignment\t: 64\n",
      "address sizes\t: 48 bits physical, 48 bits virtual\n",
      "power management: ts ttp tm hwpstate cpb eff_freq_ro [13] [14] [15]\n",
      "\n",
      "processor\t: 6\n",
      "vendor_id\t: AuthenticAMD\n",
      "cpu family\t: 25\n",
      "model\t\t: 116\n",
      "model name\t: AMD Ryzen 7 PRO 7840U w/ Radeon 780M Graphics\n",
      "stepping\t: 1\n",
      "microcode\t: 0xa704107\n",
      "cpu MHz\t\t: 4838.696\n",
      "cache size\t: 1024 KB\n",
      "physical id\t: 0\n",
      "siblings\t: 16\n",
      "core id\t\t: 3\n",
      "cpu cores\t: 8\n",
      "apicid\t\t: 6\n",
      "initial apicid\t: 6\n",
      "fpu\t\t: yes\n",
      "fpu_exception\t: yes\n",
      "cpuid level\t: 16\n",
      "wp\t\t: yes\n",
      "flags\t\t: fpu vme de pse tsc msr pae mce cx8 apic sep mtrr pge mca cmov pat pse36 clflush mmx fxsr sse sse2 ht syscall nx mmxext fxsr_opt pdpe1gb rdtscp lm constant_tsc rep_good amd_lbr_v2 nopl xtopology nonstop_tsc cpuid extd_apicid aperfmperf rapl pni pclmulqdq monitor ssse3 fma cx16 sse4_1 sse4_2 x2apic movbe popcnt aes xsave avx f16c rdrand lahf_lm cmp_legacy svm extapic cr8_legacy abm sse4a misalignsse 3dnowprefetch osvw ibs skinit wdt tce topoext perfctr_core perfctr_nb bpext perfctr_llc mwaitx cpb cat_l3 cdp_l3 hw_pstate ssbd mba perfmon_v2 ibrs ibpb stibp ibrs_enhanced vmmcall fsgsbase bmi1 avx2 smep bmi2 erms invpcid cqm rdt_a avx512f avx512dq rdseed adx smap avx512ifma clflushopt clwb avx512cd sha_ni avx512bw avx512vl xsaveopt xsavec xgetbv1 xsaves cqm_llc cqm_occup_llc cqm_mbm_total cqm_mbm_local user_shstk avx512_bf16 clzero irperf xsaveerptr rdpru wbnoinvd cppc arat npt lbrv svm_lock nrip_save tsc_scale vmcb_clean flushbyasid decodeassists pausefilter pfthreshold vgif x2avic v_spec_ctrl vnmi avx512vbmi umip pku ospke avx512_vbmi2 gfni vaes vpclmulqdq avx512_vnni avx512_bitalg avx512_vpopcntdq rdpid overflow_recov succor smca fsrm flush_l1d amd_lbr_pmc_freeze\n",
      "bugs\t\t: sysret_ss_attrs spectre_v1 spectre_v2 spec_store_bypass srso\n",
      "bogomips\t: 6587.30\n",
      "TLB size\t: 3584 4K pages\n",
      "clflush size\t: 64\n",
      "cache_alignment\t: 64\n",
      "address sizes\t: 48 bits physical, 48 bits virtual\n",
      "power management: ts ttp tm hwpstate cpb eff_freq_ro [13] [14] [15]\n",
      "\n",
      "processor\t: 7\n",
      "vendor_id\t: AuthenticAMD\n",
      "cpu family\t: 25\n",
      "model\t\t: 116\n",
      "model name\t: AMD Ryzen 7 PRO 7840U w/ Radeon 780M Graphics\n",
      "stepping\t: 1\n",
      "microcode\t: 0xa704107\n",
      "cpu MHz\t\t: 1100.000\n",
      "cache size\t: 1024 KB\n",
      "physical id\t: 0\n",
      "siblings\t: 16\n",
      "core id\t\t: 3\n",
      "cpu cores\t: 8\n",
      "apicid\t\t: 7\n",
      "initial apicid\t: 7\n",
      "fpu\t\t: yes\n",
      "fpu_exception\t: yes\n",
      "cpuid level\t: 16\n",
      "wp\t\t: yes\n",
      "flags\t\t: fpu vme de pse tsc msr pae mce cx8 apic sep mtrr pge mca cmov pat pse36 clflush mmx fxsr sse sse2 ht syscall nx mmxext fxsr_opt pdpe1gb rdtscp lm constant_tsc rep_good amd_lbr_v2 nopl xtopology nonstop_tsc cpuid extd_apicid aperfmperf rapl pni pclmulqdq monitor ssse3 fma cx16 sse4_1 sse4_2 x2apic movbe popcnt aes xsave avx f16c rdrand lahf_lm cmp_legacy svm extapic cr8_legacy abm sse4a misalignsse 3dnowprefetch osvw ibs skinit wdt tce topoext perfctr_core perfctr_nb bpext perfctr_llc mwaitx cpb cat_l3 cdp_l3 hw_pstate ssbd mba perfmon_v2 ibrs ibpb stibp ibrs_enhanced vmmcall fsgsbase bmi1 avx2 smep bmi2 erms invpcid cqm rdt_a avx512f avx512dq rdseed adx smap avx512ifma clflushopt clwb avx512cd sha_ni avx512bw avx512vl xsaveopt xsavec xgetbv1 xsaves cqm_llc cqm_occup_llc cqm_mbm_total cqm_mbm_local user_shstk avx512_bf16 clzero irperf xsaveerptr rdpru wbnoinvd cppc arat npt lbrv svm_lock nrip_save tsc_scale vmcb_clean flushbyasid decodeassists pausefilter pfthreshold vgif x2avic v_spec_ctrl vnmi avx512vbmi umip pku ospke avx512_vbmi2 gfni vaes vpclmulqdq avx512_vnni avx512_bitalg avx512_vpopcntdq rdpid overflow_recov succor smca fsrm flush_l1d amd_lbr_pmc_freeze\n",
      "bugs\t\t: sysret_ss_attrs spectre_v1 spectre_v2 spec_store_bypass srso\n",
      "bogomips\t: 6587.30\n",
      "TLB size\t: 3584 4K pages\n",
      "clflush size\t: 64\n",
      "cache_alignment\t: 64\n",
      "address sizes\t: 48 bits physical, 48 bits virtual\n",
      "power management: ts ttp tm hwpstate cpb eff_freq_ro [13] [14] [15]\n",
      "\n",
      "processor\t: 8\n",
      "vendor_id\t: AuthenticAMD\n",
      "cpu family\t: 25\n",
      "model\t\t: 116\n",
      "model name\t: AMD Ryzen 7 PRO 7840U w/ Radeon 780M Graphics\n",
      "stepping\t: 1\n",
      "microcode\t: 0xa704107\n",
      "cpu MHz\t\t: 3832.831\n",
      "cache size\t: 1024 KB\n",
      "physical id\t: 0\n",
      "siblings\t: 16\n",
      "core id\t\t: 4\n",
      "cpu cores\t: 8\n",
      "apicid\t\t: 8\n",
      "initial apicid\t: 8\n",
      "fpu\t\t: yes\n",
      "fpu_exception\t: yes\n",
      "cpuid level\t: 16\n",
      "wp\t\t: yes\n",
      "flags\t\t: fpu vme de pse tsc msr pae mce cx8 apic sep mtrr pge mca cmov pat pse36 clflush mmx fxsr sse sse2 ht syscall nx mmxext fxsr_opt pdpe1gb rdtscp lm constant_tsc rep_good amd_lbr_v2 nopl xtopology nonstop_tsc cpuid extd_apicid aperfmperf rapl pni pclmulqdq monitor ssse3 fma cx16 sse4_1 sse4_2 x2apic movbe popcnt aes xsave avx f16c rdrand lahf_lm cmp_legacy svm extapic cr8_legacy abm sse4a misalignsse 3dnowprefetch osvw ibs skinit wdt tce topoext perfctr_core perfctr_nb bpext perfctr_llc mwaitx cpb cat_l3 cdp_l3 hw_pstate ssbd mba perfmon_v2 ibrs ibpb stibp ibrs_enhanced vmmcall fsgsbase bmi1 avx2 smep bmi2 erms invpcid cqm rdt_a avx512f avx512dq rdseed adx smap avx512ifma clflushopt clwb avx512cd sha_ni avx512bw avx512vl xsaveopt xsavec xgetbv1 xsaves cqm_llc cqm_occup_llc cqm_mbm_total cqm_mbm_local user_shstk avx512_bf16 clzero irperf xsaveerptr rdpru wbnoinvd cppc arat npt lbrv svm_lock nrip_save tsc_scale vmcb_clean flushbyasid decodeassists pausefilter pfthreshold vgif x2avic v_spec_ctrl vnmi avx512vbmi umip pku ospke avx512_vbmi2 gfni vaes vpclmulqdq avx512_vnni avx512_bitalg avx512_vpopcntdq rdpid overflow_recov succor smca fsrm flush_l1d amd_lbr_pmc_freeze\n",
      "bugs\t\t: sysret_ss_attrs spectre_v1 spectre_v2 spec_store_bypass srso\n",
      "bogomips\t: 6587.30\n",
      "TLB size\t: 3584 4K pages\n",
      "clflush size\t: 64\n",
      "cache_alignment\t: 64\n",
      "address sizes\t: 48 bits physical, 48 bits virtual\n",
      "power management: ts ttp tm hwpstate cpb eff_freq_ro [13] [14] [15]\n",
      "\n",
      "processor\t: 9\n",
      "vendor_id\t: AuthenticAMD\n",
      "cpu family\t: 25\n",
      "model\t\t: 116\n",
      "model name\t: AMD Ryzen 7 PRO 7840U w/ Radeon 780M Graphics\n",
      "stepping\t: 1\n",
      "microcode\t: 0xa704107\n",
      "cpu MHz\t\t: 4840.665\n",
      "cache size\t: 1024 KB\n",
      "physical id\t: 0\n",
      "siblings\t: 16\n",
      "core id\t\t: 4\n",
      "cpu cores\t: 8\n",
      "apicid\t\t: 9\n",
      "initial apicid\t: 9\n",
      "fpu\t\t: yes\n",
      "fpu_exception\t: yes\n",
      "cpuid level\t: 16\n",
      "wp\t\t: yes\n",
      "flags\t\t: fpu vme de pse tsc msr pae mce cx8 apic sep mtrr pge mca cmov pat pse36 clflush mmx fxsr sse sse2 ht syscall nx mmxext fxsr_opt pdpe1gb rdtscp lm constant_tsc rep_good amd_lbr_v2 nopl xtopology nonstop_tsc cpuid extd_apicid aperfmperf rapl pni pclmulqdq monitor ssse3 fma cx16 sse4_1 sse4_2 x2apic movbe popcnt aes xsave avx f16c rdrand lahf_lm cmp_legacy svm extapic cr8_legacy abm sse4a misalignsse 3dnowprefetch osvw ibs skinit wdt tce topoext perfctr_core perfctr_nb bpext perfctr_llc mwaitx cpb cat_l3 cdp_l3 hw_pstate ssbd mba perfmon_v2 ibrs ibpb stibp ibrs_enhanced vmmcall fsgsbase bmi1 avx2 smep bmi2 erms invpcid cqm rdt_a avx512f avx512dq rdseed adx smap avx512ifma clflushopt clwb avx512cd sha_ni avx512bw avx512vl xsaveopt xsavec xgetbv1 xsaves cqm_llc cqm_occup_llc cqm_mbm_total cqm_mbm_local user_shstk avx512_bf16 clzero irperf xsaveerptr rdpru wbnoinvd cppc arat npt lbrv svm_lock nrip_save tsc_scale vmcb_clean flushbyasid decodeassists pausefilter pfthreshold vgif x2avic v_spec_ctrl vnmi avx512vbmi umip pku ospke avx512_vbmi2 gfni vaes vpclmulqdq avx512_vnni avx512_bitalg avx512_vpopcntdq rdpid overflow_recov succor smca fsrm flush_l1d amd_lbr_pmc_freeze\n",
      "bugs\t\t: sysret_ss_attrs spectre_v1 spectre_v2 spec_store_bypass srso\n",
      "bogomips\t: 6587.30\n",
      "TLB size\t: 3584 4K pages\n",
      "clflush size\t: 64\n",
      "cache_alignment\t: 64\n",
      "address sizes\t: 48 bits physical, 48 bits virtual\n",
      "power management: ts ttp tm hwpstate cpb eff_freq_ro [13] [14] [15]\n",
      "\n",
      "processor\t: 10\n",
      "vendor_id\t: AuthenticAMD\n",
      "cpu family\t: 25\n",
      "model\t\t: 116\n",
      "model name\t: AMD Ryzen 7 PRO 7840U w/ Radeon 780M Graphics\n",
      "stepping\t: 1\n",
      "microcode\t: 0xa704107\n",
      "cpu MHz\t\t: 4845.693\n",
      "cache size\t: 1024 KB\n",
      "physical id\t: 0\n",
      "siblings\t: 16\n",
      "core id\t\t: 5\n",
      "cpu cores\t: 8\n",
      "apicid\t\t: 10\n",
      "initial apicid\t: 10\n",
      "fpu\t\t: yes\n",
      "fpu_exception\t: yes\n",
      "cpuid level\t: 16\n",
      "wp\t\t: yes\n",
      "flags\t\t: fpu vme de pse tsc msr pae mce cx8 apic sep mtrr pge mca cmov pat pse36 clflush mmx fxsr sse sse2 ht syscall nx mmxext fxsr_opt pdpe1gb rdtscp lm constant_tsc rep_good amd_lbr_v2 nopl xtopology nonstop_tsc cpuid extd_apicid aperfmperf rapl pni pclmulqdq monitor ssse3 fma cx16 sse4_1 sse4_2 x2apic movbe popcnt aes xsave avx f16c rdrand lahf_lm cmp_legacy svm extapic cr8_legacy abm sse4a misalignsse 3dnowprefetch osvw ibs skinit wdt tce topoext perfctr_core perfctr_nb bpext perfctr_llc mwaitx cpb cat_l3 cdp_l3 hw_pstate ssbd mba perfmon_v2 ibrs ibpb stibp ibrs_enhanced vmmcall fsgsbase bmi1 avx2 smep bmi2 erms invpcid cqm rdt_a avx512f avx512dq rdseed adx smap avx512ifma clflushopt clwb avx512cd sha_ni avx512bw avx512vl xsaveopt xsavec xgetbv1 xsaves cqm_llc cqm_occup_llc cqm_mbm_total cqm_mbm_local user_shstk avx512_bf16 clzero irperf xsaveerptr rdpru wbnoinvd cppc arat npt lbrv svm_lock nrip_save tsc_scale vmcb_clean flushbyasid decodeassists pausefilter pfthreshold vgif x2avic v_spec_ctrl vnmi avx512vbmi umip pku ospke avx512_vbmi2 gfni vaes vpclmulqdq avx512_vnni avx512_bitalg avx512_vpopcntdq rdpid overflow_recov succor smca fsrm flush_l1d amd_lbr_pmc_freeze\n",
      "bugs\t\t: sysret_ss_attrs spectre_v1 spectre_v2 spec_store_bypass srso\n",
      "bogomips\t: 6587.30\n",
      "TLB size\t: 3584 4K pages\n",
      "clflush size\t: 64\n",
      "cache_alignment\t: 64\n",
      "address sizes\t: 48 bits physical, 48 bits virtual\n",
      "power management: ts ttp tm hwpstate cpb eff_freq_ro [13] [14] [15]\n",
      "\n",
      "processor\t: 11\n",
      "vendor_id\t: AuthenticAMD\n",
      "cpu family\t: 25\n",
      "model\t\t: 116\n",
      "model name\t: AMD Ryzen 7 PRO 7840U w/ Radeon 780M Graphics\n",
      "stepping\t: 1\n",
      "microcode\t: 0xa704107\n",
      "cpu MHz\t\t: 4865.670\n",
      "cache size\t: 1024 KB\n",
      "physical id\t: 0\n",
      "siblings\t: 16\n",
      "core id\t\t: 5\n",
      "cpu cores\t: 8\n",
      "apicid\t\t: 11\n",
      "initial apicid\t: 11\n",
      "fpu\t\t: yes\n",
      "fpu_exception\t: yes\n",
      "cpuid level\t: 16\n",
      "wp\t\t: yes\n",
      "flags\t\t: fpu vme de pse tsc msr pae mce cx8 apic sep mtrr pge mca cmov pat pse36 clflush mmx fxsr sse sse2 ht syscall nx mmxext fxsr_opt pdpe1gb rdtscp lm constant_tsc rep_good amd_lbr_v2 nopl xtopology nonstop_tsc cpuid extd_apicid aperfmperf rapl pni pclmulqdq monitor ssse3 fma cx16 sse4_1 sse4_2 x2apic movbe popcnt aes xsave avx f16c rdrand lahf_lm cmp_legacy svm extapic cr8_legacy abm sse4a misalignsse 3dnowprefetch osvw ibs skinit wdt tce topoext perfctr_core perfctr_nb bpext perfctr_llc mwaitx cpb cat_l3 cdp_l3 hw_pstate ssbd mba perfmon_v2 ibrs ibpb stibp ibrs_enhanced vmmcall fsgsbase bmi1 avx2 smep bmi2 erms invpcid cqm rdt_a avx512f avx512dq rdseed adx smap avx512ifma clflushopt clwb avx512cd sha_ni avx512bw avx512vl xsaveopt xsavec xgetbv1 xsaves cqm_llc cqm_occup_llc cqm_mbm_total cqm_mbm_local user_shstk avx512_bf16 clzero irperf xsaveerptr rdpru wbnoinvd cppc arat npt lbrv svm_lock nrip_save tsc_scale vmcb_clean flushbyasid decodeassists pausefilter pfthreshold vgif x2avic v_spec_ctrl vnmi avx512vbmi umip pku ospke avx512_vbmi2 gfni vaes vpclmulqdq avx512_vnni avx512_bitalg avx512_vpopcntdq rdpid overflow_recov succor smca fsrm flush_l1d amd_lbr_pmc_freeze\n",
      "bugs\t\t: sysret_ss_attrs spectre_v1 spectre_v2 spec_store_bypass srso\n",
      "bogomips\t: 6587.30\n",
      "TLB size\t: 3584 4K pages\n",
      "clflush size\t: 64\n",
      "cache_alignment\t: 64\n",
      "address sizes\t: 48 bits physical, 48 bits virtual\n",
      "power management: ts ttp tm hwpstate cpb eff_freq_ro [13] [14] [15]\n",
      "\n",
      "processor\t: 12\n",
      "vendor_id\t: AuthenticAMD\n",
      "cpu family\t: 25\n",
      "model\t\t: 116\n",
      "model name\t: AMD Ryzen 7 PRO 7840U w/ Radeon 780M Graphics\n",
      "stepping\t: 1\n",
      "microcode\t: 0xa704107\n",
      "cpu MHz\t\t: 3242.524\n",
      "cache size\t: 1024 KB\n",
      "physical id\t: 0\n",
      "siblings\t: 16\n",
      "core id\t\t: 6\n",
      "cpu cores\t: 8\n",
      "apicid\t\t: 12\n",
      "initial apicid\t: 12\n",
      "fpu\t\t: yes\n",
      "fpu_exception\t: yes\n",
      "cpuid level\t: 16\n",
      "wp\t\t: yes\n",
      "flags\t\t: fpu vme de pse tsc msr pae mce cx8 apic sep mtrr pge mca cmov pat pse36 clflush mmx fxsr sse sse2 ht syscall nx mmxext fxsr_opt pdpe1gb rdtscp lm constant_tsc rep_good amd_lbr_v2 nopl xtopology nonstop_tsc cpuid extd_apicid aperfmperf rapl pni pclmulqdq monitor ssse3 fma cx16 sse4_1 sse4_2 x2apic movbe popcnt aes xsave avx f16c rdrand lahf_lm cmp_legacy svm extapic cr8_legacy abm sse4a misalignsse 3dnowprefetch osvw ibs skinit wdt tce topoext perfctr_core perfctr_nb bpext perfctr_llc mwaitx cpb cat_l3 cdp_l3 hw_pstate ssbd mba perfmon_v2 ibrs ibpb stibp ibrs_enhanced vmmcall fsgsbase bmi1 avx2 smep bmi2 erms invpcid cqm rdt_a avx512f avx512dq rdseed adx smap avx512ifma clflushopt clwb avx512cd sha_ni avx512bw avx512vl xsaveopt xsavec xgetbv1 xsaves cqm_llc cqm_occup_llc cqm_mbm_total cqm_mbm_local user_shstk avx512_bf16 clzero irperf xsaveerptr rdpru wbnoinvd cppc arat npt lbrv svm_lock nrip_save tsc_scale vmcb_clean flushbyasid decodeassists pausefilter pfthreshold vgif x2avic v_spec_ctrl vnmi avx512vbmi umip pku ospke avx512_vbmi2 gfni vaes vpclmulqdq avx512_vnni avx512_bitalg avx512_vpopcntdq rdpid overflow_recov succor smca fsrm flush_l1d amd_lbr_pmc_freeze\n",
      "bugs\t\t: sysret_ss_attrs spectre_v1 spectre_v2 spec_store_bypass srso\n",
      "bogomips\t: 6587.30\n",
      "TLB size\t: 3584 4K pages\n",
      "clflush size\t: 64\n",
      "cache_alignment\t: 64\n",
      "address sizes\t: 48 bits physical, 48 bits virtual\n",
      "power management: ts ttp tm hwpstate cpb eff_freq_ro [13] [14] [15]\n",
      "\n",
      "processor\t: 13\n",
      "vendor_id\t: AuthenticAMD\n",
      "cpu family\t: 25\n",
      "model\t\t: 116\n",
      "model name\t: AMD Ryzen 7 PRO 7840U w/ Radeon 780M Graphics\n",
      "stepping\t: 1\n",
      "microcode\t: 0xa704107\n",
      "cpu MHz\t\t: 1100.000\n",
      "cache size\t: 1024 KB\n",
      "physical id\t: 0\n",
      "siblings\t: 16\n",
      "core id\t\t: 6\n",
      "cpu cores\t: 8\n",
      "apicid\t\t: 13\n",
      "initial apicid\t: 13\n",
      "fpu\t\t: yes\n",
      "fpu_exception\t: yes\n",
      "cpuid level\t: 16\n",
      "wp\t\t: yes\n",
      "flags\t\t: fpu vme de pse tsc msr pae mce cx8 apic sep mtrr pge mca cmov pat pse36 clflush mmx fxsr sse sse2 ht syscall nx mmxext fxsr_opt pdpe1gb rdtscp lm constant_tsc rep_good amd_lbr_v2 nopl xtopology nonstop_tsc cpuid extd_apicid aperfmperf rapl pni pclmulqdq monitor ssse3 fma cx16 sse4_1 sse4_2 x2apic movbe popcnt aes xsave avx f16c rdrand lahf_lm cmp_legacy svm extapic cr8_legacy abm sse4a misalignsse 3dnowprefetch osvw ibs skinit wdt tce topoext perfctr_core perfctr_nb bpext perfctr_llc mwaitx cpb cat_l3 cdp_l3 hw_pstate ssbd mba perfmon_v2 ibrs ibpb stibp ibrs_enhanced vmmcall fsgsbase bmi1 avx2 smep bmi2 erms invpcid cqm rdt_a avx512f avx512dq rdseed adx smap avx512ifma clflushopt clwb avx512cd sha_ni avx512bw avx512vl xsaveopt xsavec xgetbv1 xsaves cqm_llc cqm_occup_llc cqm_mbm_total cqm_mbm_local user_shstk avx512_bf16 clzero irperf xsaveerptr rdpru wbnoinvd cppc arat npt lbrv svm_lock nrip_save tsc_scale vmcb_clean flushbyasid decodeassists pausefilter pfthreshold vgif x2avic v_spec_ctrl vnmi avx512vbmi umip pku ospke avx512_vbmi2 gfni vaes vpclmulqdq avx512_vnni avx512_bitalg avx512_vpopcntdq rdpid overflow_recov succor smca fsrm flush_l1d amd_lbr_pmc_freeze\n",
      "bugs\t\t: sysret_ss_attrs spectre_v1 spectre_v2 spec_store_bypass srso\n",
      "bogomips\t: 6587.30\n",
      "TLB size\t: 3584 4K pages\n",
      "clflush size\t: 64\n",
      "cache_alignment\t: 64\n",
      "address sizes\t: 48 bits physical, 48 bits virtual\n",
      "power management: ts ttp tm hwpstate cpb eff_freq_ro [13] [14] [15]\n",
      "\n",
      "processor\t: 14\n",
      "vendor_id\t: AuthenticAMD\n",
      "cpu family\t: 25\n",
      "model\t\t: 116\n",
      "model name\t: AMD Ryzen 7 PRO 7840U w/ Radeon 780M Graphics\n",
      "stepping\t: 1\n",
      "microcode\t: 0xa704107\n",
      "cpu MHz\t\t: 4312.794\n",
      "cache size\t: 1024 KB\n",
      "physical id\t: 0\n",
      "siblings\t: 16\n",
      "core id\t\t: 7\n",
      "cpu cores\t: 8\n",
      "apicid\t\t: 14\n",
      "initial apicid\t: 14\n",
      "fpu\t\t: yes\n",
      "fpu_exception\t: yes\n",
      "cpuid level\t: 16\n",
      "wp\t\t: yes\n",
      "flags\t\t: fpu vme de pse tsc msr pae mce cx8 apic sep mtrr pge mca cmov pat pse36 clflush mmx fxsr sse sse2 ht syscall nx mmxext fxsr_opt pdpe1gb rdtscp lm constant_tsc rep_good amd_lbr_v2 nopl xtopology nonstop_tsc cpuid extd_apicid aperfmperf rapl pni pclmulqdq monitor ssse3 fma cx16 sse4_1 sse4_2 x2apic movbe popcnt aes xsave avx f16c rdrand lahf_lm cmp_legacy svm extapic cr8_legacy abm sse4a misalignsse 3dnowprefetch osvw ibs skinit wdt tce topoext perfctr_core perfctr_nb bpext perfctr_llc mwaitx cpb cat_l3 cdp_l3 hw_pstate ssbd mba perfmon_v2 ibrs ibpb stibp ibrs_enhanced vmmcall fsgsbase bmi1 avx2 smep bmi2 erms invpcid cqm rdt_a avx512f avx512dq rdseed adx smap avx512ifma clflushopt clwb avx512cd sha_ni avx512bw avx512vl xsaveopt xsavec xgetbv1 xsaves cqm_llc cqm_occup_llc cqm_mbm_total cqm_mbm_local user_shstk avx512_bf16 clzero irperf xsaveerptr rdpru wbnoinvd cppc arat npt lbrv svm_lock nrip_save tsc_scale vmcb_clean flushbyasid decodeassists pausefilter pfthreshold vgif x2avic v_spec_ctrl vnmi avx512vbmi umip pku ospke avx512_vbmi2 gfni vaes vpclmulqdq avx512_vnni avx512_bitalg avx512_vpopcntdq rdpid overflow_recov succor smca fsrm flush_l1d amd_lbr_pmc_freeze\n",
      "bugs\t\t: sysret_ss_attrs spectre_v1 spectre_v2 spec_store_bypass srso\n",
      "bogomips\t: 6587.30\n",
      "TLB size\t: 3584 4K pages\n",
      "clflush size\t: 64\n",
      "cache_alignment\t: 64\n",
      "address sizes\t: 48 bits physical, 48 bits virtual\n",
      "power management: ts ttp tm hwpstate cpb eff_freq_ro [13] [14] [15]\n",
      "\n",
      "processor\t: 15\n",
      "vendor_id\t: AuthenticAMD\n",
      "cpu family\t: 25\n",
      "model\t\t: 116\n",
      "model name\t: AMD Ryzen 7 PRO 7840U w/ Radeon 780M Graphics\n",
      "stepping\t: 1\n",
      "microcode\t: 0xa704107\n",
      "cpu MHz\t\t: 1305.556\n",
      "cache size\t: 1024 KB\n",
      "physical id\t: 0\n",
      "siblings\t: 16\n",
      "core id\t\t: 7\n",
      "cpu cores\t: 8\n",
      "apicid\t\t: 15\n",
      "initial apicid\t: 15\n",
      "fpu\t\t: yes\n",
      "fpu_exception\t: yes\n",
      "cpuid level\t: 16\n",
      "wp\t\t: yes\n",
      "flags\t\t: fpu vme de pse tsc msr pae mce cx8 apic sep mtrr pge mca cmov pat pse36 clflush mmx fxsr sse sse2 ht syscall nx mmxext fxsr_opt pdpe1gb rdtscp lm constant_tsc rep_good amd_lbr_v2 nopl xtopology nonstop_tsc cpuid extd_apicid aperfmperf rapl pni pclmulqdq monitor ssse3 fma cx16 sse4_1 sse4_2 x2apic movbe popcnt aes xsave avx f16c rdrand lahf_lm cmp_legacy svm extapic cr8_legacy abm sse4a misalignsse 3dnowprefetch osvw ibs skinit wdt tce topoext perfctr_core perfctr_nb bpext perfctr_llc mwaitx cpb cat_l3 cdp_l3 hw_pstate ssbd mba perfmon_v2 ibrs ibpb stibp ibrs_enhanced vmmcall fsgsbase bmi1 avx2 smep bmi2 erms invpcid cqm rdt_a avx512f avx512dq rdseed adx smap avx512ifma clflushopt clwb avx512cd sha_ni avx512bw avx512vl xsaveopt xsavec xgetbv1 xsaves cqm_llc cqm_occup_llc cqm_mbm_total cqm_mbm_local user_shstk avx512_bf16 clzero irperf xsaveerptr rdpru wbnoinvd cppc arat npt lbrv svm_lock nrip_save tsc_scale vmcb_clean flushbyasid decodeassists pausefilter pfthreshold vgif x2avic v_spec_ctrl vnmi avx512vbmi umip pku ospke avx512_vbmi2 gfni vaes vpclmulqdq avx512_vnni avx512_bitalg avx512_vpopcntdq rdpid overflow_recov succor smca fsrm flush_l1d amd_lbr_pmc_freeze\n",
      "bugs\t\t: sysret_ss_attrs spectre_v1 spectre_v2 spec_store_bypass srso\n",
      "bogomips\t: 6587.30\n",
      "TLB size\t: 3584 4K pages\n",
      "clflush size\t: 64\n",
      "cache_alignment\t: 64\n",
      "address sizes\t: 48 bits physical, 48 bits virtual\n",
      "power management: ts ttp tm hwpstate cpb eff_freq_ro [13] [14] [15]\n",
      "\n"
     ]
    }
   ],
   "source": [
    "! cat /proc/cpuinfo"
   ]
  }
 ],
 "metadata": {
  "kernelspec": {
   "display_name": "philzook58.github.io",
   "language": "python",
   "name": "python3"
  },
  "language_info": {
   "codemirror_mode": {
    "name": "ipython",
    "version": 3
   },
   "file_extension": ".py",
   "mimetype": "text/x-python",
   "name": "python",
   "nbconvert_exporter": "python",
   "pygments_lexer": "ipython3",
   "version": "3.12.3"
  }
 },
 "nbformat": 4,
 "nbformat_minor": 5
}
