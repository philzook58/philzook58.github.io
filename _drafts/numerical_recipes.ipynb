{
 "cells": [
  {
   "cell_type": "markdown",
   "id": "16d1c79b",
   "metadata": {},
   "source": [
    "Strang\n",
    "\n",
    "Numerical recipes\n",
    "\n",
    "Do in lean? C?\n",
    "\n",
    "Hamming book? Not pseudo code.\n",
    "\n",
    "\n",
    "Jax numpy torch\n",
    "fortran could be fun. Never learned it\n",
    "\n",
    "Julia.\n",
    "\n",
    "https://projectlovelace.net/problems/ dead as a doornail for sure\n",
    "https://www.physik.uzh.ch/~psaha/teach/42probs.pdf 42 problems in scietnfific computation\n",
    "\n",
    "https://ocw.mit.edu/courses/18-336-numerical-methods-for-partial-differential-equations-spring-2009/pages/lecture-notes/\n",
    "\n",
    "https://ocw.mit.edu/search/?t=Numerical+Simulation\n",
    "\n",
    "\n",
    "Singularities in complex integrals\n",
    "\n",
    "https://hypothesis.readthedocs.io/en/latest/reference/strategies.html#hypothesis-numpy"
   ]
  },
  {
   "cell_type": "code",
   "execution_count": 4,
   "id": "0ff2deef",
   "metadata": {},
   "outputs": [
    {
     "data": {
      "text/plain": [
       "array([[-5.96046448e-008,              nan],\n",
       "       [ 1.17549435e-038, -1.11253693e-308]])"
      ]
     },
     "execution_count": 4,
     "metadata": {},
     "output_type": "execute_result"
    }
   ],
   "source": [
    "import hypothesis.strategies as st\n",
    "import hypothesis.extra.numpy as hnp\n",
    "import numpy as np\n",
    "hnp.arrays(np.float64, (2,2)).example()"
   ]
  },
  {
   "cell_type": "markdown",
   "id": "6d4356aa",
   "metadata": {},
   "source": [
    "# Fortran\n",
    "https://fortran-lang.org/learn/quickstart/\n",
    "\n",
    "Huh is numpy more like fortran? Or did fortran learn from other stuff?"
   ]
  },
  {
   "cell_type": "code",
   "execution_count": 41,
   "id": "9cbda810",
   "metadata": {},
   "outputs": [
    {
     "name": "stdout",
     "output_type": "stream",
     "text": [
      "Overwriting /tmp/hello.f90\n"
     ]
    }
   ],
   "source": [
    "%%file /tmp/hello.f90\n",
    "program hello\n",
    "implicit none\n",
    "    integer :: a(3)\n",
    "    integer :: y\n",
    "    print *, \"Hello, world!\"   \n",
    "    ! This is a comment\n",
    "    a = [1,2,3]\n",
    "    print *, a, size(a), shape(a), maxval(a), minval(a)\n",
    "    y = a(1)\n",
    "    ! pretty interesting indexful mapping syntax\n",
    "    where (a > 2)\n",
    "        a = 78\n",
    "    elsewhere (a > 1)\n",
    "        a = 42\n",
    "    end where\n",
    "    print *, a\n",
    "end program hello"
   ]
  },
  {
   "cell_type": "code",
   "execution_count": 42,
   "id": "c46cf3f1",
   "metadata": {},
   "outputs": [
    {
     "name": "stdout",
     "output_type": "stream",
     "text": [
      " Hello, world!\n",
      "           1           2           3           3           3           3           1\n",
      "           1          42          78\n"
     ]
    }
   ],
   "source": [
    "! gfortran /tmp/hello.f90 -o /tmp/hello && /tmp/hello"
   ]
  },
  {
   "cell_type": "code",
   "execution_count": null,
   "id": "b6e1b149",
   "metadata": {},
   "outputs": [],
   "source": []
  },
  {
   "cell_type": "markdown",
   "id": "9e8f75f8",
   "metadata": {},
   "source": [
    "# What's new in numpy\n",
    "\n",
    "I mean, who knows what state of mind I was in last I looked at it\n",
    "\n",
    "array_function interface  https://numpy.org/doc/stable/reference/arrays.interface.html\n",
    "\n",
    "https://docs.scipy.org/doc/scipy/reference/generated/scipy.signal.find_peaks.html \n",
    "\n",
    "numpy.random.generator pulggable bitGenerators\n",
    "\n",
    "numpy.typing. ArrayLike and DTypeLike https://numpy.org/devdocs/reference/typing.html\n",
    "\n",
    "\n",
    "sliding_window_view\n",
    "\n",
    "Reduction by `where`\n",
    "\n"
   ]
  },
  {
   "cell_type": "markdown",
   "id": "65ab828c",
   "metadata": {},
   "source": [
    "ipywebrtc interesting. Maybe good to see how they did this for accelerometer / magnet data"
   ]
  },
  {
   "cell_type": "code",
   "execution_count": 4,
   "id": "a1cbc9c6",
   "metadata": {},
   "outputs": [
    {
     "data": {
      "application/vnd.jupyter.widget-view+json": {
       "model_id": "1a8891b4694b4709b7a274c429e1c317",
       "version_major": 2,
       "version_minor": 0
      },
      "text/plain": [
       "CameraStream(constraints={'facing_mode': 'user', 'audio': False, 'video': {'width': 640, 'height': 480}})"
      ]
     },
     "execution_count": 4,
     "metadata": {},
     "output_type": "execute_result"
    }
   ],
   "source": [
    "from ipywebrtc import CameraStream, ImageRecorder\n",
    "camera = CameraStream(constraints=\n",
    "                      {'facing_mode': 'user',\n",
    "                       'audio': False,\n",
    "                       'video': { 'width': 640, 'height': 480 }\n",
    "                       })\n",
    "camera"
   ]
  },
  {
   "cell_type": "markdown",
   "id": "8a7e6a1d",
   "metadata": {},
   "source": [
    "pyaudio"
   ]
  },
  {
   "cell_type": "code",
   "execution_count": null,
   "id": "8f74755a",
   "metadata": {},
   "outputs": [],
   "source": [
    "import wave\n",
    "import sys\n",
    "\n",
    "import pyaudio\n",
    "\n",
    "CHUNK = 1024\n",
    "FORMAT = pyaudio.paInt16\n",
    "CHANNELS = 1 if sys.platform == 'darwin' else 2\n",
    "RATE = 44100\n",
    "RECORD_SECONDS = 5\n",
    "\n",
    "def record\n",
    "with wave.open('output.wav', 'wb') as wf:\n",
    "    p = pyaudio.PyAudio()\n",
    "    wf.setnchannels(CHANNELS)\n",
    "    wf.setsampwidth(p.get_sample_size(FORMAT))\n",
    "    wf.setframerate(RATE)\n",
    "\n",
    "    stream = p.open(format=FORMAT, channels=CHANNELS, rate=RATE, input=True)\n",
    "\n",
    "    print('Recording...')\n",
    "    for _ in range(0, RATE // CHUNK * RECORD_SECONDS):\n",
    "        wf.writeframes(stream.read(CHUNK))\n",
    "    print('Done')\n",
    "\n",
    "    stream.close()\n",
    "    p.terminate()"
   ]
  },
  {
   "cell_type": "markdown",
   "id": "e882e3bf",
   "metadata": {},
   "source": [
    "https://github.com/spatialaudio/python-sounddevice/\n",
    "\n",
    "Record. Also seems like it can do it streaming\n",
    "Also use cocotb to expierment using fpga?\n",
    "image processing on fpga also. hmmm."
   ]
  },
  {
   "cell_type": "code",
   "execution_count": 4,
   "id": "382df872",
   "metadata": {},
   "outputs": [
    {
     "data": {
      "text/plain": [
       "[<matplotlib.lines.Line2D at 0x7f00338c6300>]"
      ]
     },
     "execution_count": 4,
     "metadata": {},
     "output_type": "execute_result"
    },
    {
     "data": {
      "image/png": "[encoded data removed]",
      "text/plain": [
       "<Figure size 640x480 with 1 Axes>"
      ]
     },
     "metadata": {},
     "output_type": "display_data"
    }
   ],
   "source": [
    "import sounddevice as sd\n",
    "import numpy as np\n",
    "import soundfile as sf \n",
    "RATE = 44100\n",
    "seconds = 1  # Duration of recording\n",
    "audio = sd.rec(int(seconds * RATE), samplerate=RATE, channels=1, dtype=\"float32\")\n",
    "sd.wait()   \n",
    "sf.write(\"/tmp/test.wav\", audio, RATE)\n",
    "import matplotlib.pyplot as plt\n",
    "\n",
    "t = np.linspace(0, seconds, int(RATE * seconds), endpoint=False)\n",
    "audio = audio.squeeze()\n",
    "plt.plot(t, audio)"
   ]
  },
  {
   "cell_type": "code",
   "execution_count": 10,
   "id": "78eb312c",
   "metadata": {},
   "outputs": [],
   "source": [
    "from IPython.display import Audio\n",
    "#Audio(10*audio, rate=44_100, autoplay=True)"
   ]
  },
  {
   "cell_type": "code",
   "execution_count": 7,
   "id": "27024a35",
   "metadata": {},
   "outputs": [
    {
     "name": "stderr",
     "output_type": "stream",
     "text": [
      "play WARN alsa: can't encode 0-bit Unknown or not applicable\n",
      "\n",
      "/tmp/test.wav:\n",
      "\n",
      " File Size: 88.2k     Bit Rate: 706k\n",
      "  Encoding: Signed PCM    \n",
      "  Channels: 1 @ 16-bit   \n",
      "Samplerate: 44100Hz      \n",
      "Replaygain: off         \n",
      "  Duration: 00:00:01.00  \n",
      "\n",
      "In:100%  00:00:01.00 [00:00:00.00] Out:44.1k [      |      ] Hd:0.0 Clip:0    \n",
      "Done.\n"
     ]
    }
   ],
   "source": [
    "import subprocess\n",
    "def play(audio):\n",
    "    sf.write(\"/tmp/test.wav\", audio, 44100)\n",
    "    subprocess.run([\"play\", \"/tmp/test.wav\"])\n",
    "play(audio)"
   ]
  },
  {
   "cell_type": "markdown",
   "id": "f808bb8a",
   "metadata": {},
   "source": []
  },
  {
   "cell_type": "code",
   "execution_count": 2,
   "id": "4585d486",
   "metadata": {},
   "outputs": [
    {
     "name": "stdout",
     "output_type": "stream",
     "text": [
      "play WARN alsa: can't encode 0-bit Unknown or not applicable\n",
      "\n",
      "/tmp/test.wav:\n",
      "\n",
      " File Size: 88.2k     Bit Rate: 706k\n",
      "  Encoding: Signed PCM    \n",
      "  Channels: 1 @ 16-bit   \n",
      "Samplerate: 44100Hz      \n",
      "Replaygain: off         \n",
      "  Duration: 00:00:01.00  \n",
      "\n",
      "In:100%  00:00:01.00 [00:00:00.00] Out:44.1k [      |      ] Hd:0.0 Clip:0    \n",
      "Done.\n"
     ]
    }
   ],
   "source": [
    "! play /tmp/test.wav"
   ]
  },
  {
   "cell_type": "markdown",
   "id": "9033509a",
   "metadata": {},
   "source": [
    "Not working in vs code. Not sure why"
   ]
  },
  {
   "cell_type": "code",
   "execution_count": 9,
   "id": "4f8cda52",
   "metadata": {},
   "outputs": [],
   "source": [
    "import numpy as np\n",
    "from IPython.display import Audio, display\n",
    "\n",
    "fs = 44_100          # sample rate\n",
    "t  = np.linspace(0, 2, 2*fs, endpoint=False)  # 2-second clip\n",
    "tone = 0.2*np.sin(2*np.pi*440*t).astype(np.float32)\n",
    "\n",
    "#display(Audio(tone, rate=fs, autoplay=True))"
   ]
  },
  {
   "cell_type": "markdown",
   "id": "f807bff8",
   "metadata": {},
   "source": [
    "Modulating my audio would involve upscaling it a lot (?) Well, I'm probably in the 400Hz range. Could filter out the higher stuff.\n",
    "\n",
    "https://superuser.com/questions/1570333/how-can-i-record-audio-output-from-command-line-in-linux\n",
    "Lean read audio from file?\n",
    "pipewire or arecord\n",
    "pulseaudio\n",
    "arecord https://linux.die.net/man/1/arecord\n",
    "pw-cat https://linuxcommandlibrary.com/man/pw-cat\n",
    "\n"
   ]
  },
  {
   "cell_type": "code",
   "execution_count": 18,
   "id": "362958af",
   "metadata": {},
   "outputs": [
    {
     "data": {
      "text/plain": [
       "<matplotlib.image.AxesImage at 0x7f00032eb9b0>"
      ]
     },
     "execution_count": 18,
     "metadata": {},
     "output_type": "execute_result"
    },
    {
     "data": {
      "image/png": "[encoded data removed]",
      "text/plain": [
       "<Figure size 640x480 with 1 Axes>"
      ]
     },
     "metadata": {},
     "output_type": "display_data"
    }
   ],
   "source": [
    "import scipy.signal as signal\n",
    "#plt.plot(signal.periodogram(tone, fs=RATE, scaling='spectrum', nfft=1024))\n",
    "tone2 = 0.2*np.sin(2*np.pi*1000*t).astype(np.float32)\n",
    "plt.imshow(signal.spectrogram(tone + tone2, fs=RATE, nfft=1024)[2], aspect='auto', origin='lower')\n"
   ]
  },
  {
   "cell_type": "code",
   "execution_count": null,
   "id": "3df7f6e5",
   "metadata": {},
   "outputs": [],
   "source": []
  },
  {
   "cell_type": "markdown",
   "id": "7c6eeb35",
   "metadata": {},
   "source": [
    "https://pysdr.org/ \n",
    "\n",
    "# statistical optics\n",
    "\n",
    "Goodman statistical optics\n",
    "2d. I always liked this one. Monte carlo\n",
    "https://www.philipzucker.com/aesthetic-javascript-eduction/\n",
    "Geometry + random sources\n",
    "\n",
    "Citert van Zernike\n",
    "Etendue from random configs.\n",
    "\n",
    "Hypothesis testing of etendue conservation\n",
    "\n",
    "PPL ray tracing. huh. rough surfaces. statistical phase.\n",
    "\n",
    "PPL gaussian expansion. feynman diagrams automattically.\n",
    "PPL marshall. x > 0 is some erf.\n",
    "\n",
    "Actually put in the number for white light and a light bulb across the room.\n",
    "Arago spot\n",
    "\n"
   ]
  },
  {
   "cell_type": "code",
   "execution_count": null,
   "id": "5c3b5189",
   "metadata": {},
   "outputs": [
    {
     "data": {
      "text/plain": [
       "[<matplotlib.lines.Line2D at 0x7f000258a360>]"
      ]
     },
     "execution_count": 31,
     "metadata": {},
     "output_type": "execute_result"
    },
    {
     "data": {
      "image/png": "[encoded data removed]",
      "text/plain": [
       "<Figure size 640x480 with 1 Axes>"
      ]
     },
     "metadata": {},
     "output_type": "display_data"
    }
   ],
   "source": [
    "srcx, srcy = np.meshgrid(np.arange(0, 1, 0.1), np.arange(0, 1, 0.1))\n",
    "#obs_pos = \n",
    "# filter out into a circle?\n",
    "# line src?\n",
    "j = np.random.normal(0, 0.1, srcx.shape)\n",
    "plt.plot(srcx.flatten(), srcy.flatten(), 'o', markersize=2, color='black')\n",
    "\n",
    "\n",
    "\n",
    "\n",
    "\n",
    "screenx = np.linspace(0, 100, 100)\n",
    "screeny = np.zeros(100)\n",
    "\n",
    "plt.plot(screenx, screeny, 'x', markersize=2, color='red')\n"
   ]
  },
  {
   "cell_type": "markdown",
   "id": "0d22a8a2",
   "metadata": {},
   "source": [
    "# method of images\n",
    "\n",
    "     |\n",
    "x    |     o\n",
    "     |\n",
    "\n"
   ]
  },
  {
   "cell_type": "code",
   "execution_count": null,
   "id": "25c53f88",
   "metadata": {},
   "outputs": [],
   "source": [
    "x,y = np.meshgrid(np.linspace(-10,10,100), np.linspace(-10,10,100))\n",
    "# positions on metal\n",
    "x = x.flatten()\n",
    "y = y.flatten()\n",
    "z = np.zeros(x.shape)\n",
    "\n",
    "# V is const on surface\n",
    "# surface chage = Q\n",
    "# A surf = Q\n",
    "\n",
    "# Q at position (0,0,1)\n",
    "Qdist = np.sqrt(x**2 + y**2 + 1)\n",
    "V0 = 1/Qdist\n",
    "\n",
    "x1 = x.reshape(1, x.size)\n",
    "y1 = y.reshape(1, y.size)\n",
    "x = x.reshape(x.size, 1)\n",
    "y = y.reshape(y.size, 1)\n",
    "\n",
    "#z1 = z.reshape(1, z.shape)\n",
    "\n",
    "surfdist = np.sqrt((x - x1)**2 + (y - y1)**2)\n",
    "np.fill_diagonal(surfdist, 1)  # avoid division by zero\n",
    "V = 1/surfdist\n",
    "np.fill_diagonal(V, 1)  # avoid division by zero in the matrix equation\n",
    "# 1/surfdist @ Qsurf + V0 = const\n",
    "# sum Q = 1?\n",
    "\n",
    "\n",
    "Qsurf = np.linalg.solve(V, V0)"
   ]
  },
  {
   "cell_type": "markdown",
   "id": "7e5adda9",
   "metadata": {},
   "source": [
    "measuring along an axis and comparing to field from virtual charge.\n",
    "\n",
    "How do I package this all up in an interface?\n",
    "The axe reshapings are confusing.\n",
    "\n",
    "Edge effects.\n",
    "\n",
    "Incoming: surface points.\n",
    "Masks of equal V?\n",
    "\n",
    "Incmoign: A set of surfaces? Break up into fragments. Integrate to get Cij coefficients.\n",
    "self capacitance\n",
    "\n",
    "type VSurf = list[tuple[float, Bspline]]\n",
    "\n",
    "def EMSolve(Qpoints, Vsurf):\n",
    "    VSurf = [(V, surf)\n",
    "\n",
    "https://docs.scipy.org/doc/scipy/reference/generated/scipy.integrate.nsum.html#scipy.integrate.nsum\n",
    "\n",
    "type Fun[A,B] = Callable[[A], B]\n",
    "\n",
    "type Surf = Callable[]\n"
   ]
  },
  {
   "cell_type": "code",
   "execution_count": 71,
   "id": "edbfebf5",
   "metadata": {},
   "outputs": [
    {
     "data": {
      "text/plain": [
       "<matplotlib.legend.Legend at 0x7effd03d4ef0>"
      ]
     },
     "execution_count": 71,
     "metadata": {},
     "output_type": "execute_result"
    },
    {
     "data": {
      "image/png": "[encoded data removed]",
      "text/plain": [
       "<Figure size 640x480 with 1 Axes>"
      ]
     },
     "metadata": {},
     "output_type": "display_data"
    }
   ],
   "source": [
    "zmeas = np.linspace(0.1,1, 100).reshape(1, -1)\n",
    "plt.plot(np.dot(Qsurf, 1/np.sqrt(x**2 + y**2 + zmeas**2)), label='solvedfield')\n",
    "plt.plot(1/(zmeas + 1).flatten() + 0.1)\n",
    "plt.legend()"
   ]
  },
  {
   "cell_type": "code",
   "execution_count": 70,
   "id": "0f9c84c3",
   "metadata": {},
   "outputs": [
    {
     "data": {
      "text/plain": [
       "<matplotlib.legend.Legend at 0x7effd0343e00>"
      ]
     },
     "execution_count": 70,
     "metadata": {},
     "output_type": "execute_result"
    },
    {
     "data": {
      "image/png": "[encoded data removed]",
      "text/plain": [
       "<Figure size 640x480 with 1 Axes>"
      ]
     },
     "metadata": {},
     "output_type": "display_data"
    }
   ],
   "source": [
    "plt.plot(np.log(1+zmeas).flatten(), np.log(np.dot(Qsurf, 1/np.sqrt(x**2 + y**2 + zmeas**2))), label='solvedfield')\n",
    "plt.plot(np.log(1+zmeas).flatten(), np.log(1/(zmeas + 1).flatten()))\n",
    "plt.legend()"
   ]
  },
  {
   "cell_type": "markdown",
   "id": "cedf7cbc",
   "metadata": {},
   "source": [
    "# Fast multiple method\n",
    "\n",
    "https://arxiv.org/html/2508.02626v1  Boosting the Efficiency of the Differential Algebra-based Fast Multipole Method Using Symbolic Differential Algebra\n",
    "TPSA trunacated power series algebra\n"
   ]
  },
  {
   "cell_type": "code",
   "execution_count": null,
   "id": "827442c9",
   "metadata": {},
   "outputs": [
    {
     "data": {
      "text/latex": [
       "$\\displaystyle e^{x + 1}$"
      ],
      "text/plain": [
       "exp(x + 1)"
      ]
     },
     "execution_count": 5,
     "metadata": {},
     "output_type": "execute_result"
    }
   ],
   "source": [
    "import sympy as sym\n",
    "from sympy.abc import *\n",
    "# shift function\n",
    "def shift(t, x, a):\n",
    "    return t.subs(x, x + a)\n",
    "shift(sym.exp(x), x, 1)\n",
    "\n",
    "def multipole():\n",
    "    pass\n",
    "\n",
    "\n",
    "\n"
   ]
  },
  {
   "cell_type": "markdown",
   "id": "43ac6d46",
   "metadata": {},
   "source": [
    "# Randomized Linear Algebra\n",
    "https://www.siam.org/publications/siam-news/articles/randomized-linear-algebra-in-scientific-computing/"
   ]
  },
  {
   "cell_type": "markdown",
   "id": "017515b4",
   "metadata": {},
   "source": [
    "# Numerical verification\n",
    "https://discourse.julialang.org/t/tools-for-computer-assisted-proofs-in-analysis/113479/12"
   ]
  },
  {
   "cell_type": "code",
   "execution_count": 1,
   "id": "009a5cf0",
   "metadata": {},
   "outputs": [],
   "source": [
    "from kdrag.all import *\n",
    "from typing import Protocol, runtime_checkable\n",
    "\n",
    "@runtime_checkable\n",
    "class MetricSpace(Protocol):\n",
    "    M : smt.ArrayRef\n",
    "    dist : smt.FuncDeclRef\n",
    "    refl : kd.Proof\n",
    "    pos : kd.Proof\n",
    "    symm : kd.Proof\n",
    "    tri : kd.Proof\n",
    "\n",
    "x,y,z = smt.Reals(\"x y z\")\n",
    "# Slightly odd usage of class. Don't instantiate. Everything is class member\n",
    "class MetricR:\n",
    "    M = smt.RealSort()\n",
    "    dist = smt.Lambda([x,y], smt.Abs(x - y))\n",
    "    refl = kd.prove(smt.ForAll([x], dist(x, x) == 0))\n",
    "    pos = kd.prove(smt.ForAll([x, y], dist(x, y) >= 0))\n",
    "    symm = kd.prove(smt.ForAll([x, y], dist(x, y) == dist(y, x)))\n",
    "    tri = kd.prove(smt.ForAll([x,y,z] , dist(x, z) <= dist(x, y) + dist(y, z)))\n",
    "\n",
    "assert isinstance(MetricR, MetricSpace)\n",
    "\n",
    "M = smt.DeclareSort(\"AbstractM\")\n",
    "x,y,z = kd.tactics.FreshVars(\"x y z\", M)\n",
    "class AbstractMetric:\n",
    "    M = M\n",
    "    dist = smt.Function(\"dist\", M, M, smt.RealSort())\n",
    "    refl = kd.axiom(smt.ForAll([x], dist(x, x) == 0))\n",
    "    pos = kd.axiom(smt.ForAll([x, y], dist(x, y) >= 0))\n",
    "    symm = kd.axiom(smt.ForAll([x, y], dist(x, y) == dist(y, x)))\n",
    "    tri = kd.axiom(smt.ForAll([x,y,z] , dist(x, z) <= dist(x, y) + dist(y, z)))\n",
    "\n",
    "\n",
    "def Ball(M : MetricSpace, r, x):\n",
    "    \"\"\"Return the ball of radius r around the origin in M.\"\"\"\n",
    "    y = smt.FreshConst(\"y\", M.M)\n",
    "    return smt.Lambda([y], M.dist(x, y) < r)\n",
    "\n",
    "\n",
    "\n",
    "def converge(M : MetricSpace, seq, x):\n",
    "    \"\"\"Return the convergence of a sequence in M.\"\"\"\n",
    "    eps = smt.Const(\"eps\", smt.RealSort())\n",
    "    n, N = smt.Ints(\"n N\")\n",
    "    return kd.QForAll([eps], eps > 0, smt.Exists([N], kd.QForAll([n], n > N, M.dist(seq(n), x) < eps)))"
   ]
  },
  {
   "cell_type": "code",
   "execution_count": 2,
   "id": "eb4a1b52",
   "metadata": {},
   "outputs": [
    {
     "data": {
      "text/html": [
       "&#8870;ForAll(eps,\n",
       "       Implies(eps > 0,\n",
       "               Exists(N,\n",
       "                      ForAll(n,\n",
       "                             Implies(n > N,\n",
       "                                     If(1/ToReal(n) -\n",
       "                                        ToReal(0) >\n",
       "                                        0,\n",
       "                                        1/ToReal(n) -\n",
       "                                        ToReal(0),\n",
       "                                        -(1/ToReal(n) -\n",
       "                                        ToReal(0))) <\n",
       "                                     eps)))))"
      ],
      "text/plain": [
       "|= ForAll(eps,\n",
       "       Implies(eps > 0,\n",
       "               Exists(N,\n",
       "                      ForAll(n,\n",
       "                             Implies(n > N,\n",
       "                                     If(1/ToReal(n) -\n",
       "                                        ToReal(0) >\n",
       "                                        0,\n",
       "                                        1/ToReal(n) -\n",
       "                                        ToReal(0),\n",
       "                                        -(1/ToReal(n) -\n",
       "                                        ToReal(0))) <\n",
       "                                     eps)))))"
      ]
     },
     "execution_count": 2,
     "metadata": {},
     "output_type": "execute_result"
    }
   ],
   "source": [
    "n = smt.Int(\"n\")\n",
    "l = kd.Lemma(converge(MetricR, smt.Lambda([n], 1 / smt.ToReal(n)), 0))\n",
    "eps = l.fix()\n",
    "l.intros()\n",
    "l.exists(smt.ToInt(1/eps) + 1)\n",
    "n = l.fix()\n",
    "l.intros()\n",
    "l.auto()\n",
    "l.qed()"
   ]
  },
  {
   "cell_type": "code",
   "execution_count": 3,
   "id": "9930e12c",
   "metadata": {},
   "outputs": [
    {
     "data": {
      "text/html": [
       "&#8870;ForAll(eps,\n",
       "       Implies(eps > 0,\n",
       "               Exists(N,\n",
       "                      ForAll(n,\n",
       "                             Implies(n > N,\n",
       "                                     If(1/ToReal(n) -\n",
       "                                        ToReal(0) >\n",
       "                                        0,\n",
       "                                        1/ToReal(n) -\n",
       "                                        ToReal(0),\n",
       "                                        -(1/ToReal(n) -\n",
       "                                        ToReal(0))) <\n",
       "                                     eps)))))"
      ],
      "text/plain": [
       "|= ForAll(eps,\n",
       "       Implies(eps > 0,\n",
       "               Exists(N,\n",
       "                      ForAll(n,\n",
       "                             Implies(n > N,\n",
       "                                     If(1/ToReal(n) -\n",
       "                                        ToReal(0) >\n",
       "                                        0,\n",
       "                                        1/ToReal(n) -\n",
       "                                        ToReal(0),\n",
       "                                        -(1/ToReal(n) -\n",
       "                                        ToReal(0))) <\n",
       "                                     eps)))))"
      ]
     },
     "execution_count": 3,
     "metadata": {},
     "output_type": "execute_result"
    }
   ],
   "source": [
    "n = smt.Int(\"n\")\n",
    "l = kd.Lemma(converge(MetricR, smt.Lambda([n], 1 / smt.ToReal(n)), 0))\n",
    "eps = l.fix()\n",
    "l.intros()\n",
    "l.exists(smt.ToInt(1/eps) + 1)\n",
    "n = l.fix()\n",
    "l.intros()\n",
    "l.auto()\n",
    "l.qed()"
   ]
  },
  {
   "cell_type": "code",
   "execution_count": 5,
   "id": "6b3c80fa",
   "metadata": {},
   "outputs": [
    {
     "ename": "AttributeError",
     "evalue": "'SortRef' object has no attribute 'is_int'",
     "output_type": "error",
     "traceback": [
      "\u001b[31m---------------------------------------------------------------------------\u001b[39m",
      "\u001b[31mAttributeError\u001b[39m                            Traceback (most recent call last)",
      "\u001b[32m/tmp/ipykernel_131055/3693777963.py\u001b[39m in \u001b[36m?\u001b[39m\u001b[34m()\u001b[39m\n\u001b[32m      5\u001b[39m     return kd.QForAll([q], q >= 0, q < 1, M.dist(f(x), f(y)) <= q * M.dist(x, y),\n\u001b[32m      6\u001b[39m                 smt.Exists([z], f(z) == z)\n\u001b[32m      7\u001b[39m     )\n\u001b[32m      8\u001b[39m \n\u001b[32m----> \u001b[39m\u001b[32m9\u001b[39m banach(MetricR)\n",
      "\u001b[32m/tmp/ipykernel_131055/3693777963.py\u001b[39m in \u001b[36m?\u001b[39m\u001b[34m(M)\u001b[39m\n\u001b[32m      2\u001b[39m     x,y = kd.FreshVars(\u001b[33m\"x y\"\u001b[39m, M.M)\n\u001b[32m      3\u001b[39m     q = smt.Real(\u001b[33m\"q\"\u001b[39m)\n\u001b[32m      4\u001b[39m     f = smt.Const(\u001b[33m\"f\"\u001b[39m, smt.ArraySort(M.M, M.M))\n\u001b[32m      5\u001b[39m     return kd.QForAll([q], q >= 0, q < 1, M.dist(f(x), f(y)) <= q * M.dist(x, y),\n\u001b[32m----> \u001b[39m\u001b[32m6\u001b[39m                 smt.Exists([z], f(z) == z)\n\u001b[32m      7\u001b[39m     )\n",
      "\u001b[32m~/Documents/python/knuckledragger/kdrag/notation.py\u001b[39m in \u001b[36m?\u001b[39m\u001b[34m(self, *arg)\u001b[39m\n\u001b[32m---> \u001b[39m\u001b[32m28\u001b[39m smt.ArrayRef.__call__ = \u001b[38;5;28;01mlambda\u001b[39;00m self, *arg: self[arg]\n",
      "\u001b[32m~/philzook58.github.io/.venv/lib/python3.12/site-packages/z3/z3.py\u001b[39m in \u001b[36m?\u001b[39m\u001b[34m(self, arg)\u001b[39m\n\u001b[32m   4678\u001b[39m         a[i]\n\u001b[32m   4679\u001b[39m         >>> a[i].sexpr()\n\u001b[32m   4680\u001b[39m         \u001b[33m'(select a i)'\u001b[39m\n\u001b[32m   4681\u001b[39m         \"\"\"\n\u001b[32m-> \u001b[39m\u001b[32m4682\u001b[39m         \u001b[38;5;28;01mreturn\u001b[39;00m _array_select(self, arg)\n",
      "\u001b[32m~/philzook58.github.io/.venv/lib/python3.12/site-packages/z3/z3.py\u001b[39m in \u001b[36m?\u001b[39m\u001b[34m(ar, arg)\u001b[39m\n\u001b[32m   4688\u001b[39m \u001b[38;5;28;01mdef\u001b[39;00m _array_select(ar, arg):\n\u001b[32m   4689\u001b[39m     \u001b[38;5;28;01mif\u001b[39;00m isinstance(arg, tuple):\n\u001b[32m-> \u001b[39m\u001b[32m4690\u001b[39m         args = [ar.sort().domain_n(i).cast(arg[i]) \u001b[38;5;28;01mfor\u001b[39;00m i \u001b[38;5;28;01min\u001b[39;00m range(len(arg))]\n\u001b[32m   4691\u001b[39m         _args, sz = _to_ast_array(args)\n\u001b[32m   4692\u001b[39m         \u001b[38;5;28;01mreturn\u001b[39;00m _to_expr_ref(Z3_mk_select_n(ar.ctx_ref(), ar.as_ast(), sz, _args), ar.ctx)\n\u001b[32m   4693\u001b[39m     arg = ar.sort().domain().cast(arg)\n",
      "\u001b[32m~/philzook58.github.io/.venv/lib/python3.12/site-packages/z3/z3.py\u001b[39m in \u001b[36m?\u001b[39m\u001b[34m(self, val)\u001b[39m\n\u001b[32m   2423\u001b[39m                 _z3_assert(self.ctx == val.ctx, \u001b[33m\"Context mismatch\"\u001b[39m)\n\u001b[32m   2424\u001b[39m             val_s = val.sort()\n\u001b[32m   2425\u001b[39m             \u001b[38;5;28;01mif\u001b[39;00m self.eq(val_s):\n\u001b[32m   2426\u001b[39m                 \u001b[38;5;28;01mreturn\u001b[39;00m val\n\u001b[32m-> \u001b[39m\u001b[32m2427\u001b[39m             \u001b[38;5;28;01mif\u001b[39;00m val_s.is_int() \u001b[38;5;28;01mand\u001b[39;00m self.is_real():\n\u001b[32m   2428\u001b[39m                 \u001b[38;5;28;01mreturn\u001b[39;00m ToReal(val)\n\u001b[32m   2429\u001b[39m             \u001b[38;5;28;01mif\u001b[39;00m val_s.is_bool() \u001b[38;5;28;01mand\u001b[39;00m self.is_int():\n\u001b[32m   2430\u001b[39m                 \u001b[38;5;28;01mreturn\u001b[39;00m If(val, \u001b[32m1\u001b[39m, \u001b[32m0\u001b[39m)\n",
      "\u001b[31mAttributeError\u001b[39m: 'SortRef' object has no attribute 'is_int'"
     ]
    }
   ],
   "source": [
    "def banach(M):\n",
    "    x,y = kd.FreshVars(\"x y\", M.M)\n",
    "    q = smt.Real(\"q\")\n",
    "    f = smt.Const(\"f\", smt.ArraySort(M.M, M.M))\n",
    "    return kd.QForAll([q], q >= 0, q < 1, M.dist(f(x), f(y)) <= q * M.dist(x, y),\n",
    "                smt.Exists([z], f(z) == z)\n",
    "    )\n",
    "\n",
    "banach(MetricR)"
   ]
  },
  {
   "cell_type": "code",
   "execution_count": null,
   "id": "8f26e6c8",
   "metadata": {},
   "outputs": [
    {
     "name": "stdout",
     "output_type": "stream",
     "text": [
      "WARNING: Redefining function filter from |= ForAll(N,\n",
      "       filter(N) ==\n",
      "       And(N[K(AbstractA, True)],\n",
      "           Not(N[K(AbstractA, False)]),\n",
      "           ForAll([U!106, V!107],\n",
      "                  Implies(And(N[V!107],\n",
      "                              subset(V!107, U!106)),\n",
      "                          N[U!106])),\n",
      "           ForAll([U!106, V!107],\n",
      "                  Implies(And(N[U!106], N[V!107]),\n",
      "                          N[intersection(U!106, V!107)])))) to ForAll(N,\n",
      "       filter(N) ==\n",
      "       And(N[K(AbstractA, True)],\n",
      "           Not(N[K(AbstractA, False)]),\n",
      "           ForAll([U, V],\n",
      "                  Implies(And(N[V], subset(V, U)), N[U])),\n",
      "           ForAll([U, V],\n",
      "                  Implies(And(N[U], N[V]),\n",
      "                          N[intersection(U, V)]))))\n"
     ]
    },
    {
     "data": {
      "text/html": [
       "&#8870;ForAll(N,\n",
       "       filter(N) ==\n",
       "       And(N[K(AbstractA, True)],\n",
       "           Not(N[K(AbstractA, False)]),\n",
       "           ForAll([U, V],\n",
       "                  Implies(And(N[V], subset(V, U)), N[U])),\n",
       "           ForAll([U, V],\n",
       "                  Implies(And(N[U], N[V]),\n",
       "                          N[intersection(U, V)]))))"
      ],
      "text/plain": [
       "|= ForAll(N,\n",
       "       filter(N) ==\n",
       "       And(N[K(AbstractA, True)],\n",
       "           Not(N[K(AbstractA, False)]),\n",
       "           ForAll([U, V],\n",
       "                  Implies(And(N[V], subset(V, U)), N[U])),\n",
       "           ForAll([U, V],\n",
       "                  Implies(And(N[U], N[V]),\n",
       "                          N[intersection(U, V)]))))"
      ]
     },
     "execution_count": 12,
     "metadata": {},
     "output_type": "execute_result"
    }
   ],
   "source": [
    "from kdrag.all import *\n",
    "import kdrag.theories.set as set_\n",
    "def Filter(X):\n",
    "    SetX = set_.Set(X)\n",
    "    U,V = smt.Consts(\"U V\", SetX)\n",
    "    N = smt.Const(\"N\", set_.Set(set_.Set(X)))\n",
    "    return kd.define(\"filter\", [N],\n",
    "    smt.And(\n",
    "        N[SetX.full],\n",
    "        smt.Not(N[SetX.empty]),\n",
    "        kd.QForAll([U,V], N[V], V <= U, N[U]),\n",
    "        kd.QForAll([U,V], N[U], N[V], N[U & V])\n",
    "    ))\n",
    "\n",
    "A = smt.DeclareSort(\"AbstractA\")\n",
    "Filter(A).defn\n",
    "\n",
    "\n",
    "def upclose(X):\n",
    "    Y = kd.FreshVar(\"Y\", X.sort())\n",
    "    smt.Lambda([Y],  )\n"
   ]
  },
  {
   "cell_type": "markdown",
   "id": "fa0eb6a0",
   "metadata": {},
   "source": [
    "A big And can be packed and unpacked.\n"
   ]
  },
  {
   "cell_type": "code",
   "execution_count": null,
   "id": "d134e85e",
   "metadata": {},
   "outputs": [
    {
     "ename": "TimeoutError",
     "evalue": "Timeout. Maybe you have given `prove` too many or not enough lemmas?",
     "output_type": "error",
     "traceback": [
      "\u001b[31m---------------------------------------------------------------------------\u001b[39m",
      "\u001b[31mLemmaError\u001b[39m                                Traceback (most recent call last)",
      "\u001b[36mFile \u001b[39m\u001b[32m~/Documents/python/knuckledragger/kdrag/tactics.py:264\u001b[39m, in \u001b[36mprove\u001b[39m\u001b[34m(thm, by, admit, timeout, dump, solver, instan, unfold)\u001b[39m\n\u001b[32m    263\u001b[39m \u001b[38;5;28;01mtry\u001b[39;00m:\n\u001b[32m--> \u001b[39m\u001b[32m264\u001b[39m     pf = \u001b[43mkd\u001b[49m\u001b[43m.\u001b[49m\u001b[43mkernel\u001b[49m\u001b[43m.\u001b[49m\u001b[43mprove\u001b[49m\u001b[43m(\u001b[49m\n\u001b[32m    265\u001b[39m \u001b[43m        \u001b[49m\u001b[43mthm\u001b[49m\u001b[43m,\u001b[49m\u001b[43m \u001b[49m\u001b[43mby\u001b[49m\u001b[43m,\u001b[49m\u001b[43m \u001b[49m\u001b[43mtimeout\u001b[49m\u001b[43m=\u001b[49m\u001b[43mtimeout\u001b[49m\u001b[43m,\u001b[49m\u001b[43m \u001b[49m\u001b[43mdump\u001b[49m\u001b[43m=\u001b[49m\u001b[43mdump\u001b[49m\u001b[43m,\u001b[49m\u001b[43m \u001b[49m\u001b[43msolver\u001b[49m\u001b[43m=\u001b[49m\u001b[43msolver\u001b[49m\u001b[43m,\u001b[49m\u001b[43m \u001b[49m\u001b[43madmit\u001b[49m\u001b[43m=\u001b[49m\u001b[43madmit\u001b[49m\n\u001b[32m    266\u001b[39m \u001b[43m    \u001b[49m\u001b[43m)\u001b[49m\n\u001b[32m    267\u001b[39m     kdrag.config.perf_event(\u001b[33m\"\u001b[39m\u001b[33mprove\u001b[39m\u001b[33m\"\u001b[39m, thm, time.perf_counter() - start_time)\n",
      "\u001b[36mFile \u001b[39m\u001b[32m~/Documents/python/knuckledragger/kdrag/kernel.py:177\u001b[39m, in \u001b[36mprove\u001b[39m\u001b[34m(thm, by, admit, timeout, dump, solver)\u001b[39m\n\u001b[32m    176\u001b[39m         \u001b[38;5;28;01mraise\u001b[39;00m LemmaError(thm, \u001b[33m\"\u001b[39m\u001b[33mCountermodel\u001b[39m\u001b[33m\"\u001b[39m, s.model())\n\u001b[32m--> \u001b[39m\u001b[32m177\u001b[39m     \u001b[38;5;28;01mraise\u001b[39;00m LemmaError(\u001b[33m\"\u001b[39m\u001b[33mprove\u001b[39m\u001b[33m\"\u001b[39m, thm, res)\n\u001b[32m    178\u001b[39m \u001b[38;5;28;01melse\u001b[39;00m:\n",
      "\u001b[31mLemmaError\u001b[39m: ('prove', Implies(And(ForAll(x,\n                   Implies(A!3481[x],\n                           Exists(r,\n                                  And(r > 0,\n                                      subset(Lambda(y,\n                                        If(x - y > 0,\n                                        x - y,\n                                        -(x - y)) <\n                                        r),\n                                        A!3481))))),\n            ForAll(x,\n                   Implies(B!3482[x],\n                           Exists(r,\n                                  And(r > 0,\n                                      subset(Lambda(y,\n                                        If(x - y > 0,\n                                        x - y,\n                                        -(x - y)) <\n                                        r),\n                                        B!3482)))))),\n        ForAll(x,\n               Implies(union(A!3481, B!3482)[x],\n                       Exists(r,\n                              And(r > 0,\n                                  subset(Lambda(y,\n                                        If(x - y > 0,\n                                        x - y,\n                                        -(x - y)) <\n                                        r),\n                                        union(A!3481,\n                                        B!3482))))))), unknown)",
      "\nDuring handling of the above exception, another exception occurred:\n",
      "\u001b[31mTimeoutError\u001b[39m                              Traceback (most recent call last)",
      "\u001b[36mCell\u001b[39m\u001b[36m \u001b[39m\u001b[32mIn[137]\u001b[39m\u001b[32m, line 42\u001b[39m\n\u001b[32m     40\u001b[39m kd.prove(kd.QForAll([y,r], r > \u001b[32m0\u001b[39m, real_open(Ball(y, r))))\n\u001b[32m     41\u001b[39m A,B = kd.FreshVars(\u001b[33m\"\u001b[39m\u001b[33mA B\u001b[39m\u001b[33m\"\u001b[39m, RSet)\n\u001b[32m---> \u001b[39m\u001b[32m42\u001b[39m \u001b[43mkd\u001b[49m\u001b[43m.\u001b[49m\u001b[43mprove\u001b[49m\u001b[43m(\u001b[49m\u001b[43msmt\u001b[49m\u001b[43m.\u001b[49m\u001b[43mImplies\u001b[49m\u001b[43m(\u001b[49m\u001b[43mreal_open\u001b[49m\u001b[43m(\u001b[49m\u001b[43mA\u001b[49m\u001b[43m)\u001b[49m\u001b[43m \u001b[49m\u001b[43m&\u001b[49m\u001b[43m \u001b[49m\u001b[43mreal_open\u001b[49m\u001b[43m(\u001b[49m\u001b[43mB\u001b[49m\u001b[43m)\u001b[49m\u001b[43m,\u001b[49m\u001b[43m \u001b[49m\u001b[43mreal_open\u001b[49m\u001b[43m(\u001b[49m\u001b[43mA\u001b[49m\u001b[43m \u001b[49m\u001b[43m|\u001b[49m\u001b[43m \u001b[49m\u001b[43mB\u001b[49m\u001b[43m)\u001b[49m\u001b[43m)\u001b[49m\u001b[43m)\u001b[49m\n",
      "\u001b[36mFile \u001b[39m\u001b[32m~/Documents/python/knuckledragger/kdrag/tactics.py:271\u001b[39m, in \u001b[36mprove\u001b[39m\u001b[34m(thm, by, admit, timeout, dump, solver, instan, unfold)\u001b[39m\n\u001b[32m    269\u001b[39m \u001b[38;5;28;01mexcept\u001b[39;00m kd.kernel.LemmaError \u001b[38;5;28;01mas\u001b[39;00m e:\n\u001b[32m    270\u001b[39m     \u001b[38;5;28;01mif\u001b[39;00m time.perf_counter() - start_time > timeout / \u001b[32m1000\u001b[39m:\n\u001b[32m--> \u001b[39m\u001b[32m271\u001b[39m         \u001b[38;5;28;01mraise\u001b[39;00m \u001b[38;5;167;01mTimeoutError\u001b[39;00m(\n\u001b[32m    272\u001b[39m             \u001b[33m\"\u001b[39m\u001b[33mTimeout. Maybe you have given `prove` too many or not enough lemmas?\u001b[39m\u001b[33m\"\u001b[39m\n\u001b[32m    273\u001b[39m         )\n\u001b[32m    274\u001b[39m     \u001b[38;5;28;01melif\u001b[39;00m \u001b[38;5;28misinstance\u001b[39m(thm, smt.QuantifierRef):\n\u001b[32m    275\u001b[39m         \u001b[38;5;28;01mwhile\u001b[39;00m \u001b[38;5;28misinstance\u001b[39m(thm, smt.QuantifierRef) \u001b[38;5;129;01mand\u001b[39;00m thm.is_forall():\n",
      "\u001b[31mTimeoutError\u001b[39m: Timeout. Maybe you have given `prove` too many or not enough lemmas?"
     ]
    }
   ],
   "source": [
    "class Filter(Protocol):\n",
    "    pass\n",
    "type Family = smt.ArrayRef\n",
    "class Topology(Protocol):\n",
    "    X : smt.SortRef\n",
    "    T : Family # open[T]\n",
    "    empty_open : kd.Proof\n",
    "    full_open : kd.Proof\n",
    "    bigunion_open : kd.Proof\n",
    "    intersect_open : kd.Proof\n",
    "\n",
    "class RealTop(Topology):\n",
    "    X = smt.RealSort()\n",
    "    T = smt.ArraySort(X, smt.BoolSort())\n",
    "\n",
    "\n",
    "RSet = set_.Set(smt.RealSort())\n",
    "def Ball(x,r):\n",
    "    \"\"\"Return the ball of radius r around x in R.\"\"\"\n",
    "    y = smt.Real(\"y\")\n",
    "    return smt.Lambda([y], smt.Abs(x - smt.Real(\"y\")) < r)\n",
    "A = smt.Const(\"A\", RSet)\n",
    "x,r = smt.Reals(\"x r\")\n",
    "real_open = smt.Lambda([A], \n",
    "    kd.QForAll([x], A[x], \n",
    "    kd.QExists([r], r > 0,\n",
    "        Ball(x,r) <= A\n",
    "    )\n",
    "))\n",
    "real_open\n",
    "\n",
    "full_open = kd.prove(real_open[RSet.full])\n",
    "empty_open = kd.prove(real_open[RSet.empty])\n",
    "kd.prove(real_open(smt.Lambda([x], x > 0)))\n",
    "kd.prove(real_open(smt.Lambda([x], smt.And(x > 0, x < 1))))\n",
    "y = smt.Real(\"y\")\n",
    "kd.prove(real_open(smt.Lambda([x], smt.Or(x < 7, smt.And(x > 0, x < 1)))))\n",
    "#kd.prove(real_open(smt.Lambda([x], smt.And(x > 0, x <= 1))))\n",
    "kd.prove(smt.ForAll([y], real_open(smt.Lambda([x], x < y))))\n",
    "kd.prove(kd.QForAll([y,r], r > 0, real_open(Ball(y, r))))\n",
    "A,B = kd.FreshVars(\"A B\", RSet)\n",
    "kd.prove(smt.Implies(real_open(A) & real_open(B), real_open(A | B)))\n",
    "\n"
   ]
  },
  {
   "cell_type": "code",
   "execution_count": 143,
   "id": "d340d276",
   "metadata": {},
   "outputs": [
    {
     "data": {
      "text/plain": [
       "[x!5093];\n",
       "[And(ForAll(x,\n",
       "           Implies(A!3481[x],\n",
       "                   Exists(r,\n",
       "                          And(r > 0,\n",
       "                              subset(Lambda(y,\n",
       "                                        If(x - y > 0,\n",
       "                                        x - y,\n",
       "                                        -(x - y)) <\n",
       "                                        r),\n",
       "                                     A!3481))))),\n",
       "    ForAll(x,\n",
       "           Implies(B!3482[x],\n",
       "                   Exists(r,\n",
       "                          And(r > 0,\n",
       "                              subset(Lambda(y,\n",
       "                                        If(x - y > 0,\n",
       "                                        x - y,\n",
       "                                        -(x - y)) <\n",
       "                                        r),\n",
       "                                     B!3482)))))),\n",
       " union(A!3481, B!3482)[x!5093],\n",
       " A!3481[x!5093] == False]\n",
       "?|= Exists(r,\n",
       "       And(r > 0,\n",
       "           subset(Lambda(y,\n",
       "                         If(x!5093 - y > 0,\n",
       "                            x!5093 - y,\n",
       "                            -(x!5093 - y)) <\n",
       "                         r),\n",
       "                  union(A!3481, B!3482))))"
      ]
     },
     "execution_count": 143,
     "metadata": {},
     "output_type": "execute_result"
    }
   ],
   "source": [
    "l = kd.Lemma(smt.Implies(real_open(A) & real_open(B), real_open(A | B)))\n",
    "l.intros()\n",
    "x = l.fix()\n",
    "l.intros()\n",
    "l.cases(A[x])\n"
   ]
  },
  {
   "cell_type": "code",
   "execution_count": 59,
   "id": "e42a3408",
   "metadata": {},
   "outputs": [
    {
     "data": {
      "text/html": [
       "subset(&lambda;y : If(x - y &gt; 0, x - y, -(x - y)) &lt; r, A) &and;\n",
       "(&lambda;y : If(x - y &gt; 0, x - y, -(x - y)) &lt; r) &ne; A"
      ],
      "text/plain": [
       "And(subset(Lambda(y, If(x - y > 0, x - y, -(x - y)) < r), A),\n",
       "    (Lambda(y, If(x - y > 0, x - y, -(x - y)) < r)) != A)"
      ]
     },
     "execution_count": 59,
     "metadata": {},
     "output_type": "execute_result"
    }
   ],
   "source": [
    "Ball(x,r) < A"
   ]
  },
  {
   "cell_type": "code",
   "execution_count": 9,
   "id": "ba29c665",
   "metadata": {},
   "outputs": [
    {
     "ename": "ValueError",
     "evalue": "('Eq tactic failed. Not an equality', (Lambda(y, absR(x!154 - y) < x!154/3)) != (Lambda(x, x > 0)))",
     "output_type": "error",
     "traceback": [
      "\u001b[31m---------------------------------------------------------------------------\u001b[39m",
      "\u001b[31mValueError\u001b[39m                                Traceback (most recent call last)",
      "\u001b[36mCell\u001b[39m\u001b[36m \u001b[39m\u001b[32mIn[9]\u001b[39m\u001b[32m, line 47\u001b[39m\n\u001b[32m     43\u001b[39m     \u001b[38;5;28;01mreturn\u001b[39;00m kd.kernel.axiom((f != g) == smt.Exists(xs, f[*xs] != g[*xs]), [\u001b[33m\"\u001b[39m\u001b[33mext_diseq\u001b[39m\u001b[33m\"\u001b[39m, f, g])\n\u001b[32m     46\u001b[39m \u001b[38;5;66;03m#l.apply(ineq_lift(t.arg(0), t.arg(1), x/10))\u001b[39;00m\n\u001b[32m---> \u001b[39m\u001b[32m47\u001b[39m \u001b[43ml\u001b[49m\u001b[43m.\u001b[49m\u001b[43meq\u001b[49m\u001b[43m(\u001b[49m\u001b[43mext_diseq\u001b[49m\u001b[43m(\u001b[49m\u001b[43mt\u001b[49m\u001b[43m.\u001b[49m\u001b[43marg\u001b[49m\u001b[43m(\u001b[49m\u001b[32;43m0\u001b[39;49m\u001b[43m)\u001b[49m\u001b[43m,\u001b[49m\u001b[43m \u001b[49m\u001b[43mt\u001b[49m\u001b[43m.\u001b[49m\u001b[43marg\u001b[49m\u001b[43m(\u001b[49m\u001b[32;43m1\u001b[39;49m\u001b[43m)\u001b[49m\u001b[43m)\u001b[49m\u001b[43m)\u001b[49m\n\u001b[32m     48\u001b[39m \u001b[38;5;66;03m#l.lemmas\u001b[39;00m\n\u001b[32m     49\u001b[39m \u001b[38;5;66;03m#l.auto(by=[real.abs.defn])\u001b[39;00m\n\u001b[32m     50\u001b[39m \u001b[38;5;66;03m#l.qed()\u001b[39;00m\n\u001b[32m   (...)\u001b[39m\u001b[32m     56\u001b[39m \u001b[38;5;66;03m#l.auto()\u001b[39;00m\n\u001b[32m     57\u001b[39m \u001b[38;5;66;03m#l.simp()\u001b[39;00m\n",
      "\u001b[36mFile \u001b[39m\u001b[32m~/Documents/python/knuckledragger/kdrag/tactics.py:951\u001b[39m, in \u001b[36mLemma.eq\u001b[39m\u001b[34m(self, rhs, **kwargs)\u001b[39m\n\u001b[32m    949\u001b[39m     \u001b[38;5;28;01mreturn\u001b[39;00m \u001b[38;5;28mself\u001b[39m.top_goal()\n\u001b[32m    950\u001b[39m \u001b[38;5;28;01melse\u001b[39;00m:\n\u001b[32m--> \u001b[39m\u001b[32m951\u001b[39m     \u001b[38;5;28;01mraise\u001b[39;00m \u001b[38;5;167;01mValueError\u001b[39;00m(\u001b[33m\"\u001b[39m\u001b[33mEq tactic failed. Not an equality\u001b[39m\u001b[33m\"\u001b[39m, ctxgoal.goal)\n",
      "\u001b[31mValueError\u001b[39m: ('Eq tactic failed. Not an equality', (Lambda(y, absR(x!154 - y) < x!154/3)) != (Lambda(x, x > 0)))"
     ]
    }
   ],
   "source": [
    "from kdrag.all import *\n",
    "import kdrag.theories.real as real\n",
    "def Ball(x,r):\n",
    "    \"\"\"Return the ball of radius r around x in R.\"\"\"\n",
    "    y = smt.Real(\"y\")\n",
    "    return smt.Lambda([y], real.abs(x - smt.Real(\"y\")) < r)\n",
    "RSet = set_.Set(smt.RealSort())\n",
    "def Ball(x,r):\n",
    "    \"\"\"Return the ball of radius r around x in R.\"\"\"\n",
    "    y = smt.Real(\"y\")\n",
    "    return smt.Lambda([y], real.abs(x - smt.Real(\"y\")) < r)\n",
    "A = smt.Const(\"A\", RSet)\n",
    "x,r = smt.Reals(\"x r\")\n",
    "real_open = smt.Lambda([A], \n",
    "    kd.QForAll([x], A[x], \n",
    "    kd.QExists([r], r > 0,\n",
    "        Ball(x,r) < A\n",
    "    )\n",
    "))\n",
    "\n",
    "x = smt.Real(\"x\")\n",
    "l = kd.Lemma(real_open(smt.Lambda([x], x > 0)))\n",
    "#l.simp()\n",
    "x = l.fix()\n",
    "l.intros()\n",
    "l.exists(x/3)\n",
    "l.split()\n",
    "l.auto()\n",
    "l.split()\n",
    "#l.simp()\n",
    "l.auto(unfold=1)\n",
    "t = l.top_goal().goal\n",
    "#l.auto(by=[kd.prove(smt.Exists([y], t.arg(0)[y] != t.arg(1)[y]))])\n",
    "def ineq_lift(lhs,rhs, x):\n",
    "    return kd.axiom(smt.Implies(lhs[x] != rhs[x], lhs != rhs))\n",
    "\n",
    "def ext_diseq(f, g):\n",
    "    assert (isinstance(f, smt.QuantifierRef) and f.is_lambda())\n",
    "    assert (isinstance(g, smt.QuantifierRef) and g.is_lambda())\n",
    "    assert f.num_vars() == g.num_vars(), \"Functions must have the same arity\"\n",
    "    assert all(f.var_sort(i) == g.var_sort(i) for i in range(f.num_vars())), \"Functions must have the same domain\"\n",
    "    xs = [smt.FreshConst(f.var_sort(i), prefix=f.var_name(i)) for i in range(f.num_vars())]\n",
    "    return kd.kernel.axiom((f != g) == smt.Exists(xs, f[*xs] != g[*xs]), [\"ext_diseq\", f, g])\n",
    "\n",
    "\n",
    "#l.apply(ineq_lift(t.arg(0), t.arg(1), x/10))\n",
    "l.eq(ext_diseq(t.arg(0), t.arg(1)))\n",
    "#l.lemmas\n",
    "#l.auto(by=[real.abs.defn])\n",
    "#l.qed()\n",
    "#l.auto()\n",
    "#l.lemmas\n",
    "#l.qed(admit=True)\n",
    "#l.goals\n",
    "#kd.prove(l.thm, admit=True)\n",
    "#l.auto()\n",
    "#l.simp()"
   ]
  },
  {
   "cell_type": "code",
   "execution_count": null,
   "id": "d34de3df",
   "metadata": {},
   "outputs": [],
   "source": [
    "def ineq_lift(lhs,rhs):\n",
    "    return kd.axiom(smt.Implies(smt.Exists([x], lhs[x] != rhs[x]), lhs != rhs))"
   ]
  },
  {
   "cell_type": "code",
   "execution_count": null,
   "id": "0295b602",
   "metadata": {},
   "outputs": [],
   "source": [
    "def lift_ineq(eq):\n",
    "    assert eq.decl().name() == \"distinct\" and eq.num_args() == 2\n",
    "    lhs,rhs = eq.children()\n",
    "    assert "
   ]
  },
  {
   "cell_type": "code",
   "execution_count": 93,
   "id": "35d9e918",
   "metadata": {},
   "outputs": [
    {
     "ename": "LemmaError",
     "evalue": "(Lambda(y,\n       If(x!451 - y > 0, x!451 - y, -(x!451 - y)) < x!451/3)[-1] !=\nLambda(x, x > 0)[-1], 'Countermodel', [x!451 = -7/8])",
     "output_type": "error",
     "traceback": [
      "\u001b[31m---------------------------------------------------------------------------\u001b[39m",
      "\u001b[31mLemmaError\u001b[39m                                Traceback (most recent call last)",
      "\u001b[36mCell\u001b[39m\u001b[36m \u001b[39m\u001b[32mIn[93]\u001b[39m\u001b[32m, line 4\u001b[39m\n\u001b[32m      2\u001b[39m y = smt.Real(\u001b[33m\"\u001b[39m\u001b[33my\u001b[39m\u001b[33m\"\u001b[39m)\n\u001b[32m      3\u001b[39m kd.prove(smt.Exists([y], t.arg(\u001b[32m0\u001b[39m)[y] != t.arg(\u001b[32m1\u001b[39m)[y]))\n\u001b[32m----> \u001b[39m\u001b[32m4\u001b[39m \u001b[43mkd\u001b[49m\u001b[43m.\u001b[49m\u001b[43mprove\u001b[49m\u001b[43m(\u001b[49m\u001b[43mt\u001b[49m\u001b[43m.\u001b[49m\u001b[43marg\u001b[49m\u001b[43m(\u001b[49m\u001b[32;43m0\u001b[39;49m\u001b[43m)\u001b[49m\u001b[43m[\u001b[49m\u001b[43m-\u001b[49m\u001b[32;43m1\u001b[39;49m\u001b[43m]\u001b[49m\u001b[43m \u001b[49m\u001b[43m!=\u001b[49m\u001b[43m \u001b[49m\u001b[43mt\u001b[49m\u001b[43m.\u001b[49m\u001b[43marg\u001b[49m\u001b[43m(\u001b[49m\u001b[32;43m1\u001b[39;49m\u001b[43m)\u001b[49m\u001b[43m[\u001b[49m\u001b[43m-\u001b[49m\u001b[32;43m1\u001b[39;49m\u001b[43m]\u001b[49m\u001b[43m)\u001b[49m\n",
      "\u001b[36mFile \u001b[39m\u001b[32m~/Documents/python/knuckledragger/kdrag/tactics.py:286\u001b[39m, in \u001b[36mprove\u001b[39m\u001b[34m(thm, by, admit, timeout, dump, solver, instan, unfold)\u001b[39m\n\u001b[32m    282\u001b[39m         \u001b[38;5;28;01mraise\u001b[39;00m \u001b[38;5;167;01mException\u001b[39;00m(\n\u001b[32m    283\u001b[39m             \u001b[33m\"\u001b[39m\u001b[33mWorked with quantifier stripped. Something is going awry\u001b[39m\u001b[33m\"\u001b[39m, pf\n\u001b[32m    284\u001b[39m         )\n\u001b[32m    285\u001b[39m     \u001b[38;5;28;01melse\u001b[39;00m:\n\u001b[32m--> \u001b[39m\u001b[32m286\u001b[39m         \u001b[38;5;28;01mraise\u001b[39;00m e\n\u001b[32m    287\u001b[39m \u001b[38;5;28;01mexcept\u001b[39;00m \u001b[38;5;167;01mException\u001b[39;00m \u001b[38;5;28;01mas\u001b[39;00m e:\n\u001b[32m    288\u001b[39m     \u001b[38;5;28;01mraise\u001b[39;00m e\n",
      "\u001b[36mFile \u001b[39m\u001b[32m~/Documents/python/knuckledragger/kdrag/tactics.py:264\u001b[39m, in \u001b[36mprove\u001b[39m\u001b[34m(thm, by, admit, timeout, dump, solver, instan, unfold)\u001b[39m\n\u001b[32m    262\u001b[39m         by.append(kd.kernel.prove(thm == thm1, by=trace, timeout=timeout))  \u001b[38;5;66;03m# type: ignore\u001b[39;00m\n\u001b[32m    263\u001b[39m \u001b[38;5;28;01mtry\u001b[39;00m:\n\u001b[32m--> \u001b[39m\u001b[32m264\u001b[39m     pf = \u001b[43mkd\u001b[49m\u001b[43m.\u001b[49m\u001b[43mkernel\u001b[49m\u001b[43m.\u001b[49m\u001b[43mprove\u001b[49m\u001b[43m(\u001b[49m\n\u001b[32m    265\u001b[39m \u001b[43m        \u001b[49m\u001b[43mthm\u001b[49m\u001b[43m,\u001b[49m\u001b[43m \u001b[49m\u001b[43mby\u001b[49m\u001b[43m,\u001b[49m\u001b[43m \u001b[49m\u001b[43mtimeout\u001b[49m\u001b[43m=\u001b[49m\u001b[43mtimeout\u001b[49m\u001b[43m,\u001b[49m\u001b[43m \u001b[49m\u001b[43mdump\u001b[49m\u001b[43m=\u001b[49m\u001b[43mdump\u001b[49m\u001b[43m,\u001b[49m\u001b[43m \u001b[49m\u001b[43msolver\u001b[49m\u001b[43m=\u001b[49m\u001b[43msolver\u001b[49m\u001b[43m,\u001b[49m\u001b[43m \u001b[49m\u001b[43madmit\u001b[49m\u001b[43m=\u001b[49m\u001b[43madmit\u001b[49m\n\u001b[32m    266\u001b[39m \u001b[43m    \u001b[49m\u001b[43m)\u001b[49m\n\u001b[32m    267\u001b[39m     kdrag.config.perf_event(\u001b[33m\"\u001b[39m\u001b[33mprove\u001b[39m\u001b[33m\"\u001b[39m, thm, time.perf_counter() - start_time)\n\u001b[32m    268\u001b[39m     \u001b[38;5;28;01mreturn\u001b[39;00m pf\n",
      "\u001b[36mFile \u001b[39m\u001b[32m~/Documents/python/knuckledragger/kdrag/kernel.py:176\u001b[39m, in \u001b[36mprove\u001b[39m\u001b[34m(thm, by, admit, timeout, dump, solver)\u001b[39m\n\u001b[32m    174\u001b[39m \u001b[38;5;28;01mif\u001b[39;00m res != smt.unsat:\n\u001b[32m    175\u001b[39m     \u001b[38;5;28;01mif\u001b[39;00m res == smt.sat:\n\u001b[32m--> \u001b[39m\u001b[32m176\u001b[39m         \u001b[38;5;28;01mraise\u001b[39;00m LemmaError(thm, \u001b[33m\"\u001b[39m\u001b[33mCountermodel\u001b[39m\u001b[33m\"\u001b[39m, s.model())\n\u001b[32m    177\u001b[39m     \u001b[38;5;28;01mraise\u001b[39;00m LemmaError(\u001b[33m\"\u001b[39m\u001b[33mprove\u001b[39m\u001b[33m\"\u001b[39m, thm, res)\n\u001b[32m    178\u001b[39m \u001b[38;5;28;01melse\u001b[39;00m:\n",
      "\u001b[31mLemmaError\u001b[39m: (Lambda(y,\n       If(x!451 - y > 0, x!451 - y, -(x!451 - y)) < x!451/3)[-1] !=\nLambda(x, x > 0)[-1], 'Countermodel', [x!451 = -7/8])"
     ]
    }
   ],
   "source": [
    "#x = smt.Ext(t.arg(0), t.arg(1))\n",
    "y = smt.Real(\"y\")\n",
    "kd.prove(smt.Exists([y], t.arg(0)[y] != t.arg(1)[y]))\n",
    "kd.prove(t.arg(0)[-1] != t.arg(1)[-1])"
   ]
  },
  {
   "cell_type": "code",
   "execution_count": null,
   "id": "fbb576af",
   "metadata": {},
   "outputs": [],
   "source": []
  }
 ],
 "metadata": {
  "kernelspec": {
   "display_name": "philzook58.github.io",
   "language": "python",
   "name": "python3"
  },
  "language_info": {
   "codemirror_mode": {
    "name": "ipython",
    "version": 3
   },
   "file_extension": ".py",
   "mimetype": "text/x-python",
   "name": "python",
   "nbconvert_exporter": "python",
   "pygments_lexer": "ipython3",
   "version": "3.12.3"
  }
 },
 "nbformat": 4,
 "nbformat_minor": 5
}
