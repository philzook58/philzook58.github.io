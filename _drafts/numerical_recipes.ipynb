{
 "cells": [
  {
   "cell_type": "markdown",
   "id": "16d1c79b",
   "metadata": {},
   "source": [
    "Strang\n",
    "\n",
    "Numerical recipes\n",
    "\n",
    "Do in lean? C?\n",
    "\n",
    "Hamming book? Not pseudo code.\n",
    "\n",
    "\n",
    "Jax numpy torch\n",
    "fortran could be fun. Never learned it\n",
    "\n",
    "Julia.\n",
    "\n",
    "https://projectlovelace.net/problems/ dead as a doornail for sure\n",
    "https://www.physik.uzh.ch/~psaha/teach/42probs.pdf 42 problems in scietnfific computation\n",
    "\n",
    "https://ocw.mit.edu/courses/18-336-numerical-methods-for-partial-differential-equations-spring-2009/pages/lecture-notes/\n",
    "\n",
    "https://ocw.mit.edu/search/?t=Numerical+Simulation\n",
    "\n",
    "\n",
    "Singularities in complex integrals\n",
    "\n",
    "https://hypothesis.readthedocs.io/en/latest/reference/strategies.html#hypothesis-numpy"
   ]
  },
  {
   "cell_type": "code",
   "execution_count": 4,
   "id": "0ff2deef",
   "metadata": {},
   "outputs": [
    {
     "data": {
      "text/plain": [
       "array([[-5.96046448e-008,              nan],\n",
       "       [ 1.17549435e-038, -1.11253693e-308]])"
      ]
     },
     "execution_count": 4,
     "metadata": {},
     "output_type": "execute_result"
    }
   ],
   "source": [
    "import hypothesis.strategies as st\n",
    "import hypothesis.extra.numpy as hnp\n",
    "import numpy as np\n",
    "hnp.arrays(np.float64, (2,2)).example()"
   ]
  },
  {
   "cell_type": "markdown",
   "id": "6d4356aa",
   "metadata": {},
   "source": [
    "# Fortran\n",
    "https://fortran-lang.org/learn/quickstart/\n",
    "\n",
    "Huh is numpy more like fortran? Or did fortran learn from other stuff?"
   ]
  },
  {
   "cell_type": "code",
   "execution_count": 41,
   "id": "9cbda810",
   "metadata": {},
   "outputs": [
    {
     "name": "stdout",
     "output_type": "stream",
     "text": [
      "Overwriting /tmp/hello.f90\n"
     ]
    }
   ],
   "source": [
    "%%file /tmp/hello.f90\n",
    "program hello\n",
    "implicit none\n",
    "    integer :: a(3)\n",
    "    integer :: y\n",
    "    print *, \"Hello, world!\"   \n",
    "    ! This is a comment\n",
    "    a = [1,2,3]\n",
    "    print *, a, size(a), shape(a), maxval(a), minval(a)\n",
    "    y = a(1)\n",
    "    ! pretty interesting indexful mapping syntax\n",
    "    where (a > 2)\n",
    "        a = 78\n",
    "    elsewhere (a > 1)\n",
    "        a = 42\n",
    "    end where\n",
    "    print *, a\n",
    "end program hello"
   ]
  },
  {
   "cell_type": "code",
   "execution_count": 42,
   "id": "c46cf3f1",
   "metadata": {},
   "outputs": [
    {
     "name": "stdout",
     "output_type": "stream",
     "text": [
      " Hello, world!\n",
      "           1           2           3           3           3           3           1\n",
      "           1          42          78\n"
     ]
    }
   ],
   "source": [
    "! gfortran /tmp/hello.f90 -o /tmp/hello && /tmp/hello"
   ]
  },
  {
   "cell_type": "code",
   "execution_count": null,
   "id": "b6e1b149",
   "metadata": {},
   "outputs": [],
   "source": []
  }
 ],
 "metadata": {
  "kernelspec": {
   "display_name": "philzook58.github.io",
   "language": "python",
   "name": "python3"
  },
  "language_info": {
   "codemirror_mode": {
    "name": "ipython",
    "version": 3
   },
   "file_extension": ".py",
   "mimetype": "text/x-python",
   "name": "python",
   "nbconvert_exporter": "python",
   "pygments_lexer": "ipython3",
   "version": "3.12.3"
  }
 },
 "nbformat": 4,
 "nbformat_minor": 5
}
