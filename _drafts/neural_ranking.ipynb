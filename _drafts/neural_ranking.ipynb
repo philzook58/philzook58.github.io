{
 "cells": [
  {
   "cell_type": "markdown",
   "metadata": {},
   "source": [
    "https://www.amazon.science/publications/neural-model-checking\n",
    "\n",
    "https://github.com/aiverification/neuralmc\n",
    "\n",
    "Use pytorch to build neural ranking function\n",
    "\n",
    "tiny neural networks\n",
    "\n",
    "Quantize heavily to make amenable to SAT.\n",
    "How do you make quantization good? That's a whole field.\n",
    "\n",
    "Learn Invariants? \n",
    "\n",
    "\n",
    "Theory of abirtary bit length\n",
    "\n",
    "BDD based fixedpoint checking.\n",
    "\n",
    "pytorch to egglog / egraph fiddling?\n"
   ]
  }
 ],
 "metadata": {
  "language_info": {
   "name": "python"
  }
 },
 "nbformat": 4,
 "nbformat_minor": 2
}
