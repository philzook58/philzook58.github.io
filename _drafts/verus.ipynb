{
 "cells": [
  {
   "cell_type": "markdown",
   "id": "70f2a98b",
   "metadata": {},
   "source": [
    "Vest - verified parsers generated\n",
    "\n",
    "https://mars-research.github.io/projects/atmo/\n",
    "NPL nested permission language.\n",
    "A linear ghost map of permissions + Raw pointers. Somehow this works well? maps are maintained disjoint somehow? I guess linear keys must be disjoint if putting them in map consumes them. Hmm.\n",
    "\n",
    "\n",
    "can I apply verus style something to assembly?\n",
    "Can I have linearity at meta level in knuckeldragger?\n",
    "\"derivative is constant\" ?\n",
    "https://ncatlab.org/nlab/files/Zdancewic-LinearLogicAlgebra.pdf\n",
    "\n",
    "\"Depedent type\" judgements get translated in a different way.\n",
    "\n",
    "\n",
    "Linear dafny\n",
    "\n",
    "compare to\n",
    "creusot\n",
    "aeneas\n",
    "flux\n",
    "prusti\n",
    "\n",
    "https://verus-lang.github.io/event-sites/2024-sosp/\n",
    "\n"
   ]
  },
  {
   "cell_type": "code",
   "execution_count": 2,
   "id": "8d0ba190",
   "metadata": {},
   "outputs": [
    {
     "name": "stdout",
     "output_type": "stream",
     "text": [
      "Writing /tmp/myverus.rs\n"
     ]
    }
   ],
   "source": [
    "%%file /tmp/myverus.rs\n",
    "use vstd::prelude::*;\n",
    "\n",
    "verus! {\n",
    "\n",
    "spec fn min(x: int, y: int) -> int {\n",
    "    if x <= y {\n",
    "        x\n",
    "    } else {\n",
    "        y\n",
    "    }\n",
    "}\n",
    "\n",
    "fn main() {\n",
    "    assert(min(10, 20) == 10);\n",
    "    assert(min(-10, -20) == -20);\n",
    "    assert(forall|i: int, j: int| min(i, j) <= i && min(i, j) <= j);\n",
    "    assert(forall|i: int, j: int| min(i, j) == i || min(i, j) == j);\n",
    "    assert(forall|i: int, j: int| min(i, j) == min(j, i));\n",
    "}\n",
    "\n",
    "} // verus!"
   ]
  },
  {
   "cell_type": "code",
   "execution_count": 3,
   "id": "b2135f3d",
   "metadata": {},
   "outputs": [
    {
     "name": "stdout",
     "output_type": "stream",
     "text": [
      "verification results:: 1 verified, 0 errors\n"
     ]
    }
   ],
   "source": [
    "! ~/Downloads/verus/verus /tmp/myverus.rs"
   ]
  }
 ],
 "metadata": {
  "kernelspec": {
   "display_name": "philzook58.github.io",
   "language": "python",
   "name": "python3"
  },
  "language_info": {
   "codemirror_mode": {
    "name": "ipython",
    "version": 3
   },
   "file_extension": ".py",
   "mimetype": "text/x-python",
   "name": "python",
   "nbconvert_exporter": "python",
   "pygments_lexer": "ipython3",
   "version": "3.12.3"
  }
 },
 "nbformat": 4,
 "nbformat_minor": 5
}
