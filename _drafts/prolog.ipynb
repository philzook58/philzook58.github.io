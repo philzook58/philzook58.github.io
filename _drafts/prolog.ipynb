{
 "cells": [
  {
   "cell_type": "markdown",
   "id": "01b44bd5",
   "metadata": {},
   "source": [
    "\n",
    "\n",
    "egraph that person sent\n",
    "\n",
    "\n",
    "grpah rewriting chr\n",
    "\n",
    "Fair interleaving\n",
    "\n",
    "Stack lookup\n",
    "do a condiuctive lp\n",
    "meson pttp\n"
   ]
  },
  {
   "cell_type": "markdown",
   "id": "09d4dc76",
   "metadata": {},
   "source": [
    "https://www.scryer.pl/"
   ]
  },
  {
   "cell_type": "code",
   "execution_count": 2,
   "id": "b99bee71",
   "metadata": {},
   "outputs": [
    {
     "name": "stdout",
     "output_type": "stream",
     "text": [
      "Writing /tmp/test.pl\n"
     ]
    }
   ],
   "source": [
    "%%file /tmp/test.pl\n",
    "\n",
    "hello(world).\n"
   ]
  },
  {
   "cell_type": "code",
   "execution_count": 4,
   "id": "474b3c71",
   "metadata": {},
   "outputs": [
    {
     "name": "stdout",
     "output_type": "stream",
     "text": [
      "world"
     ]
    }
   ],
   "source": [
    "! scryer-prolog /tmp/test.pl -g 'hello(X), write(X), halt.'"
   ]
  },
  {
   "cell_type": "code",
   "execution_count": 17,
   "id": "da205815",
   "metadata": {},
   "outputs": [
    {
     "name": "stdout",
     "output_type": "stream",
     "text": [
      "world"
     ]
    }
   ],
   "source": [
    "! swipl -g \"hello(X), write(X), halt.\" /tmp/test.pl"
   ]
  },
  {
   "cell_type": "code",
   "execution_count": null,
   "id": "823c9f21",
   "metadata": {},
   "outputs": [],
   "source": []
  },
  {
   "cell_type": "markdown",
   "id": "8d4f3d49",
   "metadata": {},
   "source": [
    "## Why Prolog?\n",
    "https://news.ycombinator.com/item?id=31210466\n",
    "https://github.com/mitsuchi/copl-in-prolog/\n",
    "https://github.com/hsk/simpletapl/blob/master/prolog5/fullupdate.pl\n",
    "Norvig\n",
    "Bratko\n",
    "Art of prolog https://cliplab.org/~logalg/doc/The_Art_of_Prolog.pdf\n",
    "Power of prolog  https://www.metalevel.at/prolog\n",
    "Clocksin and Mellish\n",
    "lambda prolog examples (?)\n",
    "minikanren stuff\n",
    "\n",
    "Type checkers\n",
    "evaluation semantics\n",
    "\n",
    "Typeclass resolution.\n",
    "\n",
    "Leantap\n",
    "Leancop\n",
    "nanocop\n",
    "PTTP\n",
    "\n",
    "\n",
    "term rewriting, e-unification\n",
    "KB\n",
    "\n",
    "\n",
    "I don't find sudokus compelling. I think you're better off with other techniques."
   ]
  },
  {
   "cell_type": "markdown",
   "id": "eaf308c4",
   "metadata": {},
   "source": [
    "# CLP\n",
    "freeze(X,goals)\n",
    "-->\n",
    "state has mapping Var -> suspgoals\n",
    "\n",
    "CLP(set) using CLP(B) keys trie\n",
    "or sorted lists of CLP(Z). disjoint union. separation.\n",
    "\n",
    "CLP vs eager e-unify\n"
   ]
  },
  {
   "cell_type": "code",
   "execution_count": null,
   "id": "d603102c",
   "metadata": {},
   "outputs": [],
   "source": [
    "decls = {\n",
    "    \n",
    "}"
   ]
  },
  {
   "cell_type": "markdown",
   "id": "3dc15582",
   "metadata": {},
   "source": [
    "# Lambda\n",
    "https://github.com/LPCIC/elpi"
   ]
  },
  {
   "cell_type": "code",
   "execution_count": 15,
   "id": "bbf32cf6",
   "metadata": {},
   "outputs": [
    {
     "name": "stdout",
     "output_type": "stream",
     "text": [
      "Overwriting /tmp/lam.elpi\n"
     ]
    }
   ],
   "source": [
    "%%file /tmp/lam.elpi\n",
    "pred a o:int.\n",
    "a 1.\n",
    "\n",
    "main :- a X, print X."
   ]
  },
  {
   "cell_type": "code",
   "execution_count": 16,
   "id": "3e332c5c",
   "metadata": {},
   "outputs": [
    {
     "name": "stdout",
     "output_type": "stream",
     "text": [
      "\n",
      "Parsing time: 0.000\n",
      "\n",
      "Compilation time: 0.000\n",
      "\n",
      "Typechecking time: 0.004\n",
      "Determinacy checking time: 0.004\n",
      "1\n",
      "\n",
      "Success:\n",
      "\n",
      "Time: 0.000\n",
      "\n",
      "Constraints:\n",
      "\n",
      "\n",
      "State:\n",
      "\n"
     ]
    }
   ],
   "source": [
    "! elpi -test /tmp/lam.elpi"
   ]
  },
  {
   "cell_type": "markdown",
   "id": "888c4b94",
   "metadata": {},
   "source": [
    "# FLP"
   ]
  }
 ],
 "metadata": {
  "kernelspec": {
   "display_name": "philzook58.github.io",
   "language": "python",
   "name": "python3"
  },
  "language_info": {
   "codemirror_mode": {
    "name": "ipython",
    "version": 3
   },
   "file_extension": ".py",
   "mimetype": "text/x-python",
   "name": "python",
   "nbconvert_exporter": "python",
   "pygments_lexer": "ipython3",
   "version": "3.12.3"
  }
 },
 "nbformat": 4,
 "nbformat_minor": 5
}
