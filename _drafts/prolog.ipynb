{
 "cells": [
  {
   "cell_type": "markdown",
   "id": "01b44bd5",
   "metadata": {},
   "source": [
    "\n",
    "\n",
    "egraph that person sent\n",
    "\n",
    "\n",
    "grpah rewriting chr\n",
    "\n",
    "Fair interleaving\n",
    "\n",
    "Stack lookup\n",
    "do a condiuctive lp\n",
    "meson pttp\n",
    "\n",
    "\n",
    "https://hsd-pbsa.de/veranstaltung/scryer-prolog-meetup-2025/"
   ]
  },
  {
   "cell_type": "markdown",
   "id": "09d4dc76",
   "metadata": {},
   "source": [
    "https://www.scryer.pl/"
   ]
  },
  {
   "cell_type": "code",
   "execution_count": 2,
   "id": "b99bee71",
   "metadata": {},
   "outputs": [
    {
     "name": "stdout",
     "output_type": "stream",
     "text": [
      "Writing /tmp/test.pl\n"
     ]
    }
   ],
   "source": [
    "%%file /tmp/test.pl\n",
    "\n",
    "hello(world).\n"
   ]
  },
  {
   "cell_type": "code",
   "execution_count": 4,
   "id": "474b3c71",
   "metadata": {},
   "outputs": [
    {
     "name": "stdout",
     "output_type": "stream",
     "text": [
      "world"
     ]
    }
   ],
   "source": [
    "! scryer-prolog /tmp/test.pl -g 'hello(X), write(X), halt.'"
   ]
  },
  {
   "cell_type": "code",
   "execution_count": 17,
   "id": "da205815",
   "metadata": {},
   "outputs": [
    {
     "name": "stdout",
     "output_type": "stream",
     "text": [
      "world"
     ]
    }
   ],
   "source": [
    "! swipl -g \"hello(X), write(X), halt.\" /tmp/test.pl"
   ]
  },
  {
   "cell_type": "code",
   "execution_count": null,
   "id": "823c9f21",
   "metadata": {},
   "outputs": [],
   "source": []
  },
  {
   "cell_type": "markdown",
   "id": "8d4f3d49",
   "metadata": {},
   "source": [
    "## Why Prolog?\n",
    "https://news.ycombinator.com/item?id=31210466\n",
    "https://github.com/mitsuchi/copl-in-prolog/\n",
    "https://github.com/hsk/simpletapl/blob/master/prolog5/fullupdate.pl\n",
    "Norvig\n",
    "Bratko\n",
    "Art of prolog https://cliplab.org/~logalg/doc/The_Art_of_Prolog.pdf\n",
    "Power of prolog  https://www.metalevel.at/prolog\n",
    "Clocksin and Mellish\n",
    "lambda prolog examples (?)\n",
    "minikanren stuff\n",
    "\n",
    "Type checkers\n",
    "evaluation semantics\n",
    "\n",
    "Typeclass resolution.\n",
    "\n",
    "Leantap\n",
    "Leancop\n",
    "nanocop\n",
    "PTTP\n",
    "\n",
    "\n",
    "term rewriting, e-unification\n",
    "KB\n",
    "\n",
    "\n",
    "I don't find sudokus compelling. I think you're better off with other techniques."
   ]
  },
  {
   "cell_type": "markdown",
   "id": "eaf308c4",
   "metadata": {},
   "source": [
    "# CLP\n",
    "freeze(X,goals)\n",
    "-->\n",
    "state has mapping Var -> suspgoals\n",
    "\n",
    "CLP(set) using CLP(B) keys trie\n",
    "or sorted lists of CLP(Z). disjoint union. separation.\n",
    "\n",
    "CLP vs eager e-unify\n"
   ]
  },
  {
   "cell_type": "code",
   "execution_count": null,
   "id": "ac697259",
   "metadata": {},
   "outputs": [],
   "source": [
    "from typing import NamedTuple\n",
    "\n",
    "class State(NamedTuple):\n",
    "    vs  : list[smt.ExprRef]\n",
    "    goals : list[smt.BoolRef]\n",
    "    subst : dict[smt.ExprRef, smt.ExprRef]\n",
    "    constrs : list[smt.BoolRef]\n",
    "\n",
    "    def is_sat(self) -> bool:\n",
    "        s = smt.Solver()\n",
    "        s.add(*self.goals)\n",
    "        s.add(*self.constrs)\n",
    "        s.add(*[k == v for k, v in self.subst.items()])\n",
    "        return s.check() == smt.sat\n",
    "    def propagate(self):\n",
    "        s = smt.Solver()\n",
    "        s.add(*self.goals)\n",
    "        s.add(*self.constrs)\n",
    "        s.add(*[k == v for k, v in self.subst.items()])\n",
    "        if s.check() == smt.sat:\n",
    "            m = s.model()\n",
    "            for d in m.consts():\n",
    "                with s:\n",
    "                    s.add(d == m.eval(d))\n",
    "                    if s.check() == smt.unsat:\n",
    "                        #do substitution \n",
    "                        lhs = d()\n",
    "                        rhs = m[d]\n",
    "                        if lhs in self.subst:\n",
    "                            assert self.subst[lhs] == rhs\n",
    "                        self.subst[lhs] = rhs\n",
    "        else:\n",
    "            return None\n",
    "    def subst_add(self, x, t):\n",
    "        new_vs = [v for v in self.vs if not v.eq(x)]\n",
    "        assert len(new_vs) + 1 == len(self.vs)\n",
    "        new_subst = {**{v: smt.substitute(e, (x,t)) for v,e in self.subst.items()}, x: t}\n",
    "        new_goals = [smt.substitute(g, (x, t)) for g in self.goals]\n",
    "        new_constrs = [smt.substitute(c, (x, t)) for c in self.constrs]\n",
    "        return State(new_vs, new_goals, new_subst, new_constrs)\n",
    "\n",
    "\n",
    "def horn(prog, goal):\n",
    "    states : list[State] = [] # fifo, lifo, other\n",
    "    while states:\n",
    "        state = states.pop()\n",
    "        if state.is_sat() is False:\n",
    "            continue\n",
    "        if not state.goals:\n",
    "            yield state\n",
    "            continue\n",
    "        else:\n",
    "            goal = state.goals.pop()\n",
    "            if smt.is_and(goal):\n",
    "                state.goals.extend(smt.children(goal))\n",
    "                states.append(state)\n",
    "                continue\n",
    "            elif smt.is_or(goal):\n",
    "                for disj in smt.children(goal):\n",
    "                    new_state = State(state.goals + [disj], state.subst.copy(), state.constrs.copy())\n",
    "                    states.append(new_state)\n",
    "                continue\n",
    "            elif goal.decl() in clp_preds:\n",
    "                    # constraint logic predicate\n",
    "                    state.constrs.append(goal)\n",
    "                    states.append(state)\n",
    "                    continue\n",
    "                for prog in progs:\n",
    "                    # unify\n",
    "                    # do subst into everything\n",
    "\n"
   ]
  },
  {
   "cell_type": "markdown",
   "id": "c8b67793",
   "metadata": {},
   "source": [
    "eunify"
   ]
  },
  {
   "cell_type": "code",
   "execution_count": null,
   "id": "d603102c",
   "metadata": {},
   "outputs": [],
   "source": [
    "decls = {\n",
    "    \n",
    "}"
   ]
  },
  {
   "cell_type": "markdown",
   "id": "11f8b417",
   "metadata": {},
   "source": [
    "## CLP(Egraph)\n",
    "Use CHR union find. Local state. Why didn't I use chr here?\n",
    "https://www.philipzucker.com/harrop-checkpoint/\n",
    "\n",
    "```\n",
    "impl(eq(A,B),G) :- chr_add(A,B), G.  \n",
    "unify_egraph(T1,T2) :- T1 = T2.\n",
    "unify_egraph(T1,T2) :- find(T1) = find(T2). # ematch(T1), ematch(T1).\n",
    "\n",
    "```\n"
   ]
  },
  {
   "cell_type": "markdown",
   "id": "3dc15582",
   "metadata": {},
   "source": [
    "# Lambda\n",
    "https://github.com/LPCIC/elpi"
   ]
  },
  {
   "cell_type": "code",
   "execution_count": 15,
   "id": "bbf32cf6",
   "metadata": {},
   "outputs": [
    {
     "name": "stdout",
     "output_type": "stream",
     "text": [
      "Overwriting /tmp/lam.elpi\n"
     ]
    }
   ],
   "source": [
    "%%file /tmp/lam.elpi\n",
    "pred a o:int.\n",
    "a 1.\n",
    "\n",
    "main :- a X, print X."
   ]
  },
  {
   "cell_type": "code",
   "execution_count": 16,
   "id": "3e332c5c",
   "metadata": {},
   "outputs": [
    {
     "name": "stdout",
     "output_type": "stream",
     "text": [
      "\n",
      "Parsing time: 0.000\n",
      "\n",
      "Compilation time: 0.000\n",
      "\n",
      "Typechecking time: 0.004\n",
      "Determinacy checking time: 0.004\n",
      "1\n",
      "\n",
      "Success:\n",
      "\n",
      "Time: 0.000\n",
      "\n",
      "Constraints:\n",
      "\n",
      "\n",
      "State:\n",
      "\n"
     ]
    }
   ],
   "source": [
    "! elpi -test /tmp/lam.elpi"
   ]
  },
  {
   "cell_type": "markdown",
   "id": "04415734",
   "metadata": {},
   "source": [
    "# Coinductive and PTTP\n",
    "Stack inspection is key to coinductive logic programming, PTTP"
   ]
  },
  {
   "cell_type": "markdown",
   "id": "888c4b94",
   "metadata": {},
   "source": [
    "# FLP"
   ]
  }
 ],
 "metadata": {
  "kernelspec": {
   "display_name": "philzook58.github.io",
   "language": "python",
   "name": "python3"
  },
  "language_info": {
   "codemirror_mode": {
    "name": "ipython",
    "version": 3
   },
   "file_extension": ".py",
   "mimetype": "text/x-python",
   "name": "python",
   "nbconvert_exporter": "python",
   "pygments_lexer": "ipython3",
   "version": "3.12.3"
  }
 },
 "nbformat": 4,
 "nbformat_minor": 5
}
