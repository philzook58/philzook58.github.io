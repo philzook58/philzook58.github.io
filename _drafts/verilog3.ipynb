{
 "cells": [
  {
   "cell_type": "markdown",
   "id": "7e9fbb79",
   "metadata": {},
   "source": [
    "https://itsembedded.com/dhd/vivado_sim_1/ Vivado Simulator scripted flow Part 1: Basic CLI usage\n",
    "Using vivado.\n",
    "\n",
    "\n",
    "Lean to verilog? Lean as a cocotb callback?\n",
    "Glue via python coctb?\n",
    "\n",
    "See also\n",
    "- 2025/3 Hardware\n",
    "- verilog_td4\n",
    "\n",
    "\n",
    "https://github.com/mb-sat/ulx3s-longwave-sdr FPGA Stream Software Defined Radio https://codeberg.org/Mecrisp/ulx3s-longwave-sdr\n",
    "\n",
    "\n",
    "\n",
    "\n",
    "\n",
    "https://www2.imm.dtu.dk/pubdb/edoc/imm855.pdf Asynchronous Circuit Design A Tutorial. Jens Sparsø\n",
    "https://dl.acm.org/doi/pdf/10.1145/63526.63532  MICROPIPELINES - IVAN E. SUTHERLAND \n",
    "\n",
    "Analog stuff in circuits.ipynb verilog-a \n",
    "\n",
    "https://journal.hep.com.cn/fcs/EN/10.1007/s11704-024-40127-0  PyABV: a framework for enhancing PyRTL with assertion-based verification"
   ]
  },
  {
   "cell_type": "markdown",
   "id": "eae8ccfe",
   "metadata": {},
   "source": [
    "# Cocotb\n",
    "\n",
    "UVM pyuvm https://github.com/pyuvm/pyuvm\n",
    "https://arxiv.org/abs/2407.10317  Towards Efficient Design Verification -- Constrained Random Verification using PyUVM\n",
    "cocotb. How does it work. Triggers.\n",
    "Cocotb but lean\n",
    "\n"
   ]
  },
  {
   "cell_type": "markdown",
   "id": "4a13caba",
   "metadata": {},
   "source": [
    "# Bluespec\n",
    "Bluespec  https://www.cs.uoregon.edu/research/summerschool/summer18/lectures/L3-BSV_ConcurrencyAndSemantics.pdf as rewrite rules? https://types.pl/@sandmouth/114937308721349573\n",
    "\n",
    "So Augustsson worked on bluepsec at some point?\n",
    "\n",
    "https://github.com/B-Lang-org/bsc compiled release\n",
    "\n",
    "https://github.com/rsnikhil/Bluespec_BSV_Tutorial\n",
    "https://github.com/rsnikhil/ICFP2020_Bluespec_Tutorial/blob/master/ICFP2020_Bluespec_Tutorial.adoc\n",
    "\n",
    "https://dl.acm.org/doi/10.1145/3385412.3385965  The essence of Bluespec: a core language for rule-based hardware design. Koika\n",
    "\n",
    "https://cas.ee.ic.ac.uk/people/ssingh/bluespec_l3l4.pdf\n",
    "\n",
    "https://yehowshuaimmanuel.com/posts/getting-started-with-bluespec/\n",
    "\n",
    "https://www.youtube.com/watch?v=ff0eDTN8ckM  OPLSS'24: Thomas Bourgeat https://www.cs.uoregon.edu/research/summerschool/summer24/lectures/Bourgeat1.pdf\n",
    "\n",
    "clash\n",
    "rachit stuff\n",
    "spinal chisel\n"
   ]
  },
  {
   "cell_type": "code",
   "execution_count": 1,
   "id": "ae5f625b",
   "metadata": {},
   "outputs": [
    {
     "name": "stdout",
     "output_type": "stream",
     "text": [
      "Usage:\n",
      "  bsc -help                                to get help\n",
      "  bsc [flags] file.bsv                     to partially compile a Bluespec file\n",
      "  bsc [flags] -verilog -g mod file.bsv     to compile a module to Verilog\n",
      "  bsc [flags] -verilog -g mod -u file.bsv  to recursively compile modules to Verilog\n",
      "  bsc [flags] -verilog -e topmodule        to link Verilog into a simulation model\n",
      "  bsc [flags] -sim -g mod file.bsv         to compile to a Bluesim object\n",
      "  bsc [flags] -sim -g mod -u file.bsv      to recursively compile to Bluesim objects\n",
      "  bsc [flags] -sim -e topmodule            to link objects into a Bluesim binary\n",
      "  bsc [flags] -systemc -e topmodule        to link objects into a SystemC model\n",
      "\n",
      "Compiler flags:\n",
      "-D macro                define a macro for the BSV or Verilog preprocessor\n",
      "-E                      run just the preprocessor, dumping result to stdout\n",
      "-I path                 include path for compiling foreign C/C++ source\n",
      "-L path                 library path for linking foreign C/C++ objects\n",
      "-Xc arg                 pass argument to the C compiler\n",
      "-Xc++ arg               pass argument to the C++ compiler\n",
      "-Xcpp arg               pass argument to the C preprocessor\n",
      "-Xl arg                 pass argument to the C/C++ linker\n",
      "-Xv arg                 pass argument to the Verilog link process\n",
      "-aggressive-conditions  construct implicit conditions aggressively\n",
      "-bdir dir               output directory for .bo and .ba files\n",
      "-check-assert           test assertions with the Assert library\n",
      "-continue-after-errors  aggressively continue compilation after an error has been detected\n",
      "-cpp                    preprocess the source with the C preprocessor\n",
      "-demote-errors list     treat a list of errors as warnings (`:' sep list of tags)\n",
      "-e module               top-level module for simulation\n",
      "-elab                   generate a .ba file after elaboration and scheduling\n",
      "-fdir dir               working directory for relative file paths during elaboration\n",
      "-g module               generate code for `module' (requires -sim or -verilog)\n",
      "-help                   generate help message\n",
      "-i dir                  override $BLUESPECDIR\n",
      "-info-dir dir           output directory for informational files\n",
      "-keep-fires             preserve CAN_FIRE and WILL_FIRE signals\n",
      "-keep-inlined-boundaries preserve inlined register and wire boundaries\n",
      "-l library              library to use when linking foreign C/C++ objects\n",
      "-lift                   lift method calls in \"if\" actions\n",
      "-o name                 name of generated executable\n",
      "-opt-undetermined-vals  aggressive optimization of undetermined values\n",
      "-p path                 directory path (`:' sep.) for source and intermediate files\n",
      "-parallel-sim-link jobs specify the # of simultaneous jobs when linking Bluesim\n",
      "-print-flags            print flag values after command-line parsing\n",
      "-promote-warnings list  treat a list of warnings as errors (`:' sep list of tags)\n",
      "-q                      same as -quiet\n",
      "-quiet                  be less talkative\n",
      "-remove-dollar          remove dollar signs from Verilog identifiers\n",
      "-remove-empty-rules     remove rules whose bodies have no actions\n",
      "-remove-false-rules     remove rules whose condition is provably false\n",
      "-remove-starved-rules   remove rules that are never fired by the generated schedule\n",
      "-remove-unused-modules  remove unconnected modules from the Verilog\n",
      "-reset-prefix name      reset name or prefix for generated modules\n",
      "-resource-off           fail on insufficient resources\n",
      "-resource-simple        reschedule on insufficient resources\n",
      "-sat-stp                use STP SMT for disjoint testing and SAT\n",
      "-sat-yices              use Yices SMT for disjoint testing and SAT\n",
      "-sched-dot              generate .dot files with schedule information\n",
      "-show-compiles          show recompilations\n",
      "-show-elab-progress     display trace as modules, rules, methods are elaborated\n",
      "-show-method-bvi        show BVI format method schedule information in the generated code\n",
      "-show-method-conf       show method conflict information in the generated code\n",
      "-show-module-use        output instantiated Verilog modules names\n",
      "-show-range-conflict    show predicates when reporting a parallel-composability error\n",
      "-show-rule-rel r1 r2    display scheduling information about rules r1 and r2\n",
      "-show-schedule          show generated schedule\n",
      "-show-stats             show package statistics\n",
      "-show-timestamps        include timestamps in generated files\n",
      "-show-version           include compiler version in generated files\n",
      "-sim                    compile BSV generating Bluesim object\n",
      "-simdir dir             output directory for Bluesim intermediate files\n",
      "-split-if               split \"if\" in actions\n",
      "-steps n                terminate elaboration after this many function unfolding steps\n",
      "-steps-max-intervals n  terminate elaboration after this number of unfolding messages\n",
      "-steps-warn-interval n  issue a warning each time this many unfolding steps are executed\n",
      "-suppress-warnings list ignore a list of warnings (`:' sep list of tags)\n",
      "-systemc                generate a SystemC model\n",
      "-u                      check and recompile packages that are not up to date\n",
      "-unspecified-to val     remaining unspecified values are set to: 'X', '0', '1', 'Z', or 'A'\n",
      "-use-dpi                use DPI instead of VPI in generated Verilog\n",
      "-v                      same as -verbose\n",
      "-v95                    generate strict Verilog 95 code\n",
      "-vdir dir               output directory for .v files\n",
      "-verbose                be more talkative\n",
      "-verilog                compile BSV generating Verilog file\n",
      "-verilog-filter cmd     invoke a command to post-process the generated Verilog\n",
      "-vsearch path           search path (`:' sep.) for Verilog files\n",
      "-vsim simulator         specify which Verilog simulator to use\n",
      "-warn-action-shadowing  warn when a rule's action is overwritten by a later rule\n",
      "-warn-method-urgency    warn when a method's urgency is arbitrarily chosen\n",
      "\n",
      "Most flags may be preceded by a `no-' to reverse the effect.\n",
      "Flags later on the command line override earlier ones.\n",
      "Path strings such as the import path may contain the character\n",
      "`%' representing the current Bluespec directory, as well as\n",
      "`+' representing the current value of the path.\n",
      "Lists of error or warning tags may take the values `ALL' and `NONE'.\n",
      "\n",
      "Default flags:\n",
      "Bluespec directory: /home/philip/Downloads/bsc-2025.01.1-ubuntu-24.04/lib\n",
      "import path: .:/home/philip/Downloads/bsc-2025.01.1-ubuntu-24.04/lib/Libraries\n",
      "\n"
     ]
    }
   ],
   "source": [
    "! /home/philip/Downloads/bsc-2025.01.1-ubuntu-24.04/bin/bsc --help"
   ]
  },
  {
   "cell_type": "code",
   "execution_count": 2,
   "id": "e45fca47",
   "metadata": {},
   "outputs": [
    {
     "name": "stdout",
     "output_type": "stream",
     "text": [
      "Writing /tmp/hello.bs\n"
     ]
    }
   ],
   "source": [
    "%%file /tmp/hello.bs\n",
    "mkTop :: Module Empty\n",
    "mkTop =\n",
    "  module\n",
    "    rules\n",
    "      \"rl_print_answer\": when True ==> do\n",
    "          $display \"\\n\\n***** Deep Thought says: Hello, World! *****\"\n",
    "          $display \"      And the answer is: %0d (or, in hex: 0x%0h)\\n\"  42  42\n",
    "          $finish\n"
   ]
  },
  {
   "cell_type": "code",
   "execution_count": 4,
   "id": "376eb409",
   "metadata": {},
   "outputs": [
    {
     "name": "stdout",
     "output_type": "stream",
     "text": [
      "Error: \"/tmp/hello.bs\", line 1, column 0: (P0005)\n",
      "  Unexpected \"mkTop\"; expected \"package\"\n"
     ]
    }
   ],
   "source": [
    "! /home/philip/Downloads/bsc-2025.01.1-ubuntu-24.04/bin/bsc -sim -g mkTop /tmp/hello.bs "
   ]
  }
 ],
 "metadata": {
  "kernelspec": {
   "display_name": "philzook58.github.io",
   "language": "python",
   "name": "python3"
  },
  "language_info": {
   "codemirror_mode": {
    "name": "ipython",
    "version": 3
   },
   "file_extension": ".py",
   "mimetype": "text/x-python",
   "name": "python",
   "nbconvert_exporter": "python",
   "pygments_lexer": "ipython3",
   "version": "3.12.3"
  }
 },
 "nbformat": 4,
 "nbformat_minor": 5
}
