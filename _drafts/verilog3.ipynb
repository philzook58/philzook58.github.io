{
 "cells": [
  {
   "cell_type": "markdown",
   "id": "7e9fbb79",
   "metadata": {},
   "source": [
    "https://itsembedded.com/dhd/vivado_sim_1/ Vivado Simulator scripted flow Part 1: Basic CLI usage\n",
    "Using vivado.\n",
    "\n",
    "\n",
    "Lean to verilog? Lean as a cocotb callback?\n",
    "Glue via python coctb?\n",
    "\n",
    "See also\n",
    "- 2025/3 Hardware\n",
    "- verilog_td4\n",
    "\n",
    "\n",
    "https://github.com/mb-sat/ulx3s-longwave-sdr FPGA Stream Software Defined Radio https://codeberg.org/Mecrisp/ulx3s-longwave-sdr\n",
    "\n",
    "\n",
    "\n",
    "\n",
    "\n",
    "https://www2.imm.dtu.dk/pubdb/edoc/imm855.pdf Asynchronous Circuit Design A Tutorial. Jens Sparsø\n",
    "https://dl.acm.org/doi/pdf/10.1145/63526.63532  MICROPIPELINES - IVAN E. SUTHERLAND \n",
    "\n",
    "Analog stuff in circuits.ipynb verilog-a \n",
    "\n",
    "https://journal.hep.com.cn/fcs/EN/10.1007/s11704-024-40127-0  PyABV: a framework for enhancing PyRTL with assertion-based verification\n",
    "\n",
    "https://kastner.ucsd.edu/hlsbook/ Parallel Programming for FPGAs\n",
    "https://pp4fpgas.readthedocs.io/en/latest/ labs\n",
    "\n",
    "HLS\n",
    "\n",
    "HDL tookit matlab\n",
    "\n",
    "\n",
    "Call verilator as a single shot? We could call simulator with input vector and parse output vector. This is kind of what Silviu was saying. Just print your output and compare. For analyzing a hypothetical sound processing or video, this is much easier.\n",
    "\n",
    "Discrete events systems. https://en.wikipedia.org/wiki/Discrete-event_dynamic_system  https://en.wikipedia.org/wiki/Discrete-event_simulation Simulators systems \n",
    "\n",
    "https://www.cs.princeton.edu/~ad4048/pdfs/formal-verification-of-hardware-using-mlir.pdf"
   ]
  },
  {
   "cell_type": "markdown",
   "id": "eae8ccfe",
   "metadata": {},
   "source": [
    "# Cocotb\n",
    "\n",
    "UVM pyuvm https://github.com/pyuvm/pyuvm\n",
    "https://arxiv.org/abs/2407.10317  Towards Efficient Design Verification -- Constrained Random Verification using PyUVM\n",
    "cocotb. How does it work. Triggers.\n",
    "Cocotb but lean\n",
    "\n",
    "Lean cocotb? ffi out of pytho nto lean or directly make verilog libraries from lean code.\n",
    "\n",
    "Gotta get oss-cad off my path. I dunno where it is though.\n",
    "\n",
    "Ugh. I guess the makefile is the way to go. 3 files, verilog, python bench code and makefile? Sickening. I mean it makes sense. There has to be code running in inner interpreter, it needs rtl, and you gotta run it. I guess there could be 2 files + a command line program.\n"
   ]
  },
  {
   "cell_type": "code",
   "execution_count": 1,
   "id": "a6078af7",
   "metadata": {},
   "outputs": [
    {
     "name": "stdout",
     "output_type": "stream",
     "text": [
      "Writing /tmp/halfadd.v\n"
     ]
    }
   ],
   "source": [
    "%%file /tmp/halfadd.v\n",
    "module halfadd(\n",
    "    input a,\n",
    "    input b,\n",
    "    output sum,\n",
    "    output carry\n",
    ");\n",
    "    assign sum = a ^ b;\n",
    "    assign carry = a & b;\n",
    "endmodule\n"
   ]
  },
  {
   "cell_type": "code",
   "execution_count": 33,
   "id": "b5dacb45",
   "metadata": {},
   "outputs": [
    {
     "name": "stdout",
     "output_type": "stream",
     "text": [
      "Writing /tmp/test_my_design.py\n"
     ]
    }
   ],
   "source": [
    "%%file /tmp/test_my_design.py\n",
    "\n",
    "import cocotb\n",
    "from cocotb.triggers import FallingEdge, Timer\n",
    "\n",
    "\n",
    "async def generate_clock(dut):\n",
    "    \"\"\"Generate clock pulses.\"\"\"\n",
    "\n",
    "    for cycle in range(10):\n",
    "        dut.clk.value = 0\n",
    "        await Timer(1, units=\"ns\")\n",
    "        dut.clk.value = 1\n",
    "        await Timer(1, units=\"ns\")\n",
    "\n",
    "\n",
    "@cocotb.test()\n",
    "async def my_second_test(dut):\n",
    "    \"\"\"Try accessing the design.\"\"\"\n",
    "\n",
    "    await cocotb.start(generate_clock(dut))  # run the clock \"in the background\"\n",
    "\n",
    "    await Timer(5, units=\"ns\")  # wait a bit\n",
    "    await FallingEdge(dut.clk)  # wait for falling edge/\"negedge\"\n",
    "\n",
    "    dut._log.info(\"my_signal_1 is %s\", dut.my_signal_1.value)\n",
    "    assert dut.my_signal_2.value[0] == 0, \"my_signal_2[0] is not 0!\""
   ]
  },
  {
   "cell_type": "code",
   "execution_count": null,
   "id": "a9d6e394",
   "metadata": {},
   "outputs": [
    {
     "name": "stdout",
     "output_type": "stream",
     "text": [
      "Overwriting /tmp/Makefile\n"
     ]
    }
   ],
   "source": [
    "%%file /tmp/Makefile\n",
    "SIM ?= icarus\n",
    "TOPLEVEL_LANG ?= verilog\n",
    "VERILOG_SOURCES += $(PWD)/halfadd.v\n",
    "TOPLEVEL = halfadd\n",
    "MODULE = test_my_design\n",
    "include $(shell cocotb-config --makefiles)/Makefile.sim"
   ]
  },
  {
   "cell_type": "code",
   "execution_count": 34,
   "id": "abf3c762",
   "metadata": {},
   "outputs": [
    {
     "name": "stdout",
     "output_type": "stream",
     "text": [
      "rm -f results.xml\n",
      "\"make\" -f Makefile results.xml\n",
      "make[1]: Entering directory '/tmp'\n",
      "rm -f results.xml\n",
      "MODULE=test_my_design TESTCASE= TOPLEVEL=halfadd TOPLEVEL_LANG=verilog \\\n",
      "         /usr/bin/vvp -M /home/philip/philzook58.github.io/.venv/lib/python3.12/site-packages/cocotb/libs -m libcocotbvpi_icarus   sim_build/sim.vvp  \n",
      "     -.--ns INFO     gpi                                ..mbed/gpi_embed.cpp:108  in set_program_name_in_venv        Using Python virtual environment interpreter at /home/philip/philzook58.github.io/.venv/bin/python\n",
      "     -.--ns INFO     gpi                                ../gpi/GpiCommon.cpp:101  in gpi_print_registered_impl       VPI registered\n",
      "     0.00ns INFO     cocotb                             Running on Icarus Verilog version 12.0 (stable)\n",
      "     0.00ns INFO     cocotb                             Running tests with cocotb v1.9.2 from /home/philip/philzook58.github.io/.venv/lib/python3.12/site-packages/cocotb\n",
      "     0.00ns INFO     cocotb                             Seeding Python random module with 1754450448\n",
      "     0.00ns INFO     cocotb.regression                  Found test test_my_design.my_second_test\n",
      "     0.00ns INFO     cocotb.regression                  \u001b[34mrunning\u001b[49m\u001b[39m my_second_test (1/1)\n",
      "                                                          Try accessing the design.\n",
      "     0.00ns \u001b[31mERROR   \u001b[49m\u001b[39m cocotb.Task 0.generate_clock       \u001b[31mException raised by this forked coroutine\u001b[49m\u001b[39m\n",
      "     0.00ns INFO     cocotb.regression                  my_second_test \u001b[31mfailed\u001b[49m\u001b[39m\n",
      "                                                        Traceback (most recent call last):\n",
      "                                                          File \"/tmp/test_my_design.py\", line 10, in generate_clock\n",
      "                                                            dut.clk.value = 0\n",
      "                                                            ^^^^^^^\n",
      "                                                          File \"/home/philip/philzook58.github.io/.venv/lib/python3.12/site-packages/cocotb/handle.py\", line 370, in __getattr__\n",
      "                                                            raise AttributeError(f\"{self._name} contains no object named {name}\")\n",
      "                                                        AttributeError: halfadd contains no object named clk\n",
      "     0.00ns INFO     cocotb.regression                  ***************************************************************************************\n",
      "                                                        ** TEST                           STATUS  SIM TIME (ns)  REAL TIME (s)  RATIO (ns/s) **\n",
      "                                                        ***************************************************************************************\n",
      "                                                        ** test_my_design.my_second_test  \u001b[31m FAIL \u001b[49m\u001b[39m          0.00           0.00          0.47  **\n",
      "                                                        ***************************************************************************************\n",
      "                                                        ** TESTS=1 PASS=0 FAIL=1 SKIP=0                   0.00           0.65          0.00  **\n",
      "                                                        ***************************************************************************************\n",
      "                                                        \n",
      "make[1]: Leaving directory '/tmp'\n"
     ]
    }
   ],
   "source": [
    "! cd /tmp && make"
   ]
  },
  {
   "cell_type": "code",
   "execution_count": 52,
   "id": "e15dc538",
   "metadata": {},
   "outputs": [
    {
     "name": "stdout",
     "output_type": "stream",
     "text": [
      "Overwriting /tmp/mytest.py\n"
     ]
    }
   ],
   "source": [
    "%%file /tmp/mytest.py\n",
    "import cocotb\n",
    "from cocotb.clock import Clock\n",
    "from cocotb.triggers import RisingEdge\n",
    "from cocotb.runner import get_runner\n",
    "#from cocotb_tools.runner import get_runner\n",
    "\n",
    "@cocotb.test()\n",
    "async def dff_simple_test(dut):\n",
    "    \"\"\"Test that d propagates to q\"\"\"\n",
    "\n",
    "    print(dut)\n",
    "    print(\"HHEHEEYEY\")\n",
    "    dut._log.info(\"my_signal_1 is hohohoo\")\n",
    "    assert False, \"hey there\"\n",
    "\n",
    "def test_simple_dff_runner():\n",
    "    runner = get_runner(\"icarus\")\n",
    "    runner.build(\n",
    "        verilog_sources=[\"/tmp/halfadd.v\"],\n",
    "        hdl_toplevel=\"halfadd\",\n",
    "        always=True,\n",
    "    )\n",
    "\n",
    "    runner.test(hdl_toplevel=\"halfadd\", test_module=\"mytest\",testcase=\"dff_simple_test\")\n",
    "\n",
    "if __name__ == \"__main__\":\n",
    "    test_simple_dff_runner()"
   ]
  },
  {
   "cell_type": "code",
   "execution_count": 53,
   "id": "0ed894fe",
   "metadata": {},
   "outputs": [
    {
     "name": "stdout",
     "output_type": "stream",
     "text": [
      "/tmp/mytest.py:4: UserWarning: Python runners and associated APIs are an experimental feature and subject to change.\n",
      "  from cocotb.runner import get_runner\n",
      "INFO: Running command iverilog -o /tmp/sim_build/sim.vvp -D COCOTB_SIM=1 -s halfadd -g2012 /tmp/halfadd.v in directory /tmp/sim_build\n",
      "INFO: Running command vvp -M /home/philip/philzook58.github.io/.venv/lib/python3.12/site-packages/cocotb/libs -m libcocotbvpi_icarus /tmp/sim_build/sim.vvp in directory /tmp/sim_build\n",
      "     -.--ns INFO     gpi                                ..mbed/gpi_embed.cpp:108  in set_program_name_in_venv        Using Python virtual environment interpreter at /home/philip/philzook58.github.io/.venv/bin/python\n",
      "     -.--ns INFO     gpi                                ../gpi/GpiCommon.cpp:101  in gpi_print_registered_impl       VPI registered\n",
      "     0.00ns INFO     cocotb                             Running on Icarus Verilog version 12.0 (stable)\n",
      "     0.00ns INFO     cocotb                             Running tests with cocotb v1.9.2 from /home/philip/philzook58.github.io/.venv/lib/python3.12/site-packages/cocotb\n",
      "     0.00ns INFO     cocotb                             Seeding Python random module with 1754450883\n",
      "/home/philip/philzook58.github.io/.venv/lib/python3.12/site-packages/_pytest/assertion/rewrite.py:184: UserWarning: Python runners and associated APIs are an experimental feature and subject to change.\n",
      "  exec(co, module.__dict__)\n",
      "     0.00ns INFO     cocotb.regression                  Found test mytest.dff_simple_test\n",
      "     0.00ns INFO     cocotb.regression                  \u001b[34mrunning\u001b[49m\u001b[39m dff_simple_test (1/1)\n",
      "                                                          Test that d propagates to q\n",
      "halfadd\n",
      "HHEHEEYEY\n",
      "     0.00ns INFO     cocotb.halfadd                     my_signal_1 is hohohoo\n",
      "1000000000.00ns INFO     cocotb.regression                  dff_simple_test \u001b[31mfailed\u001b[49m\u001b[39m\n",
      "                                                            Traceback (most recent call last):\n",
      "                                                              File \"/tmp/mytest.py\", line 14, in dff_simple_test\n",
      "                                                                assert False, \"hey there\"\n",
      "                                                            AssertionError: hey there\n",
      "                                                            assert False\n",
      "1000000000.00ns INFO     cocotb.regression                  **************************************************************************************\n",
      "                                                            ** TEST                          STATUS  SIM TIME (ns)  REAL TIME (s)  RATIO (ns/s) **\n",
      "                                                            **************************************************************************************\n",
      "                                                            ** mytest.dff_simple_test        \u001b[31m FAIL \u001b[49m\u001b[39m  1000000000.00           0.00   5329484116899.62  **\n",
      "                                                            **************************************************************************************\n",
      "                                                            ** TESTS=1 PASS=0 FAIL=1 SKIP=0          1000000000.00           0.65   1528402206.66  **\n",
      "                                                            **************************************************************************************\n",
      "                                                            \n",
      "INFO: Results file: /tmp/sim_build/results.xml\n"
     ]
    }
   ],
   "source": [
    "! cd /tmp && python /tmp/mytest.py"
   ]
  },
  {
   "cell_type": "markdown",
   "id": "e5a2299d",
   "metadata": {},
   "source": []
  },
  {
   "cell_type": "markdown",
   "id": "25f45197",
   "metadata": {},
   "source": [
    "# Alt Verilog Binding\n",
    "\n",
    "pyverilator\n",
    "https://github.com/csail-csg/pyverilator\n",
    "https://github.com/bat52/pyverilator\n",
    "\n",
    "https://github.com/namin/bluespec-sandbox hmm.\n",
    "https://github.com/mit-plv/koika/blob/master/examples/rv/etc/rvcore.pyverilator.py hmmmm"
   ]
  },
  {
   "cell_type": "markdown",
   "id": "4a13caba",
   "metadata": {},
   "source": [
    "# Bluespec\n",
    "\n",
    "enable and ready wires. Similar to network / bus?\n",
    "\n",
    "\n",
    "Bluespec  https://www.cs.uoregon.edu/research/summerschool/summer18/lectures/L3-BSV_ConcurrencyAndSemantics.pdf as rewrite rules? https://types.pl/@sandmouth/114937308721349573\n",
    "\n",
    "So Augustsson worked on bluepsec at some point?\n",
    "\n",
    "https://github.com/B-Lang-org/bsc compiled release\n",
    "\n",
    "https://github.com/rsnikhil/Bluespec_BSV_Tutorial\n",
    "https://github.com/rsnikhil/ICFP2020_Bluespec_Tutorial/blob/master/ICFP2020_Bluespec_Tutorial.adoc\n",
    "\n",
    "https://dl.acm.org/doi/10.1145/3385412.3385965  The essence of Bluespec: a core language for rule-based hardware design. Koika\n",
    "\n",
    "https://cas.ee.ic.ac.uk/people/ssingh/bluespec_l3l4.pdf\n",
    "\n",
    "https://yehowshuaimmanuel.com/posts/getting-started-with-bluespec/\n",
    "\n",
    "https://www.youtube.com/watch?v=ff0eDTN8ckM  OPLSS'24: Thomas Bourgeat https://www.cs.uoregon.edu/research/summerschool/summer24/lectures/Bourgeat1.pdf\n",
    "\n",
    "clash\n",
    "rachit stuff\n",
    "spinal chisel\n"
   ]
  },
  {
   "cell_type": "code",
   "execution_count": 1,
   "id": "ae5f625b",
   "metadata": {},
   "outputs": [
    {
     "name": "stdout",
     "output_type": "stream",
     "text": [
      "Usage:\n",
      "  bsc -help                                to get help\n",
      "  bsc [flags] file.bsv                     to partially compile a Bluespec file\n",
      "  bsc [flags] -verilog -g mod file.bsv     to compile a module to Verilog\n",
      "  bsc [flags] -verilog -g mod -u file.bsv  to recursively compile modules to Verilog\n",
      "  bsc [flags] -verilog -e topmodule        to link Verilog into a simulation model\n",
      "  bsc [flags] -sim -g mod file.bsv         to compile to a Bluesim object\n",
      "  bsc [flags] -sim -g mod -u file.bsv      to recursively compile to Bluesim objects\n",
      "  bsc [flags] -sim -e topmodule            to link objects into a Bluesim binary\n",
      "  bsc [flags] -systemc -e topmodule        to link objects into a SystemC model\n",
      "\n",
      "Compiler flags:\n",
      "-D macro                define a macro for the BSV or Verilog preprocessor\n",
      "-E                      run just the preprocessor, dumping result to stdout\n",
      "-I path                 include path for compiling foreign C/C++ source\n",
      "-L path                 library path for linking foreign C/C++ objects\n",
      "-Xc arg                 pass argument to the C compiler\n",
      "-Xc++ arg               pass argument to the C++ compiler\n",
      "-Xcpp arg               pass argument to the C preprocessor\n",
      "-Xl arg                 pass argument to the C/C++ linker\n",
      "-Xv arg                 pass argument to the Verilog link process\n",
      "-aggressive-conditions  construct implicit conditions aggressively\n",
      "-bdir dir               output directory for .bo and .ba files\n",
      "-check-assert           test assertions with the Assert library\n",
      "-continue-after-errors  aggressively continue compilation after an error has been detected\n",
      "-cpp                    preprocess the source with the C preprocessor\n",
      "-demote-errors list     treat a list of errors as warnings (`:' sep list of tags)\n",
      "-e module               top-level module for simulation\n",
      "-elab                   generate a .ba file after elaboration and scheduling\n",
      "-fdir dir               working directory for relative file paths during elaboration\n",
      "-g module               generate code for `module' (requires -sim or -verilog)\n",
      "-help                   generate help message\n",
      "-i dir                  override $BLUESPECDIR\n",
      "-info-dir dir           output directory for informational files\n",
      "-keep-fires             preserve CAN_FIRE and WILL_FIRE signals\n",
      "-keep-inlined-boundaries preserve inlined register and wire boundaries\n",
      "-l library              library to use when linking foreign C/C++ objects\n",
      "-lift                   lift method calls in \"if\" actions\n",
      "-o name                 name of generated executable\n",
      "-opt-undetermined-vals  aggressive optimization of undetermined values\n",
      "-p path                 directory path (`:' sep.) for source and intermediate files\n",
      "-parallel-sim-link jobs specify the # of simultaneous jobs when linking Bluesim\n",
      "-print-flags            print flag values after command-line parsing\n",
      "-promote-warnings list  treat a list of warnings as errors (`:' sep list of tags)\n",
      "-q                      same as -quiet\n",
      "-quiet                  be less talkative\n",
      "-remove-dollar          remove dollar signs from Verilog identifiers\n",
      "-remove-empty-rules     remove rules whose bodies have no actions\n",
      "-remove-false-rules     remove rules whose condition is provably false\n",
      "-remove-starved-rules   remove rules that are never fired by the generated schedule\n",
      "-remove-unused-modules  remove unconnected modules from the Verilog\n",
      "-reset-prefix name      reset name or prefix for generated modules\n",
      "-resource-off           fail on insufficient resources\n",
      "-resource-simple        reschedule on insufficient resources\n",
      "-sat-stp                use STP SMT for disjoint testing and SAT\n",
      "-sat-yices              use Yices SMT for disjoint testing and SAT\n",
      "-sched-dot              generate .dot files with schedule information\n",
      "-show-compiles          show recompilations\n",
      "-show-elab-progress     display trace as modules, rules, methods are elaborated\n",
      "-show-method-bvi        show BVI format method schedule information in the generated code\n",
      "-show-method-conf       show method conflict information in the generated code\n",
      "-show-module-use        output instantiated Verilog modules names\n",
      "-show-range-conflict    show predicates when reporting a parallel-composability error\n",
      "-show-rule-rel r1 r2    display scheduling information about rules r1 and r2\n",
      "-show-schedule          show generated schedule\n",
      "-show-stats             show package statistics\n",
      "-show-timestamps        include timestamps in generated files\n",
      "-show-version           include compiler version in generated files\n",
      "-sim                    compile BSV generating Bluesim object\n",
      "-simdir dir             output directory for Bluesim intermediate files\n",
      "-split-if               split \"if\" in actions\n",
      "-steps n                terminate elaboration after this many function unfolding steps\n",
      "-steps-max-intervals n  terminate elaboration after this number of unfolding messages\n",
      "-steps-warn-interval n  issue a warning each time this many unfolding steps are executed\n",
      "-suppress-warnings list ignore a list of warnings (`:' sep list of tags)\n",
      "-systemc                generate a SystemC model\n",
      "-u                      check and recompile packages that are not up to date\n",
      "-unspecified-to val     remaining unspecified values are set to: 'X', '0', '1', 'Z', or 'A'\n",
      "-use-dpi                use DPI instead of VPI in generated Verilog\n",
      "-v                      same as -verbose\n",
      "-v95                    generate strict Verilog 95 code\n",
      "-vdir dir               output directory for .v files\n",
      "-verbose                be more talkative\n",
      "-verilog                compile BSV generating Verilog file\n",
      "-verilog-filter cmd     invoke a command to post-process the generated Verilog\n",
      "-vsearch path           search path (`:' sep.) for Verilog files\n",
      "-vsim simulator         specify which Verilog simulator to use\n",
      "-warn-action-shadowing  warn when a rule's action is overwritten by a later rule\n",
      "-warn-method-urgency    warn when a method's urgency is arbitrarily chosen\n",
      "\n",
      "Most flags may be preceded by a `no-' to reverse the effect.\n",
      "Flags later on the command line override earlier ones.\n",
      "Path strings such as the import path may contain the character\n",
      "`%' representing the current Bluespec directory, as well as\n",
      "`+' representing the current value of the path.\n",
      "Lists of error or warning tags may take the values `ALL' and `NONE'.\n",
      "\n",
      "Default flags:\n",
      "Bluespec directory: /home/philip/Downloads/bsc-2025.01.1-ubuntu-24.04/lib\n",
      "import path: .:/home/philip/Downloads/bsc-2025.01.1-ubuntu-24.04/lib/Libraries\n",
      "\n"
     ]
    }
   ],
   "source": [
    "! /home/philip/Downloads/bsc-2025.01.1-ubuntu-24.04/bin/bsc --help"
   ]
  },
  {
   "cell_type": "code",
   "execution_count": 2,
   "id": "e45fca47",
   "metadata": {},
   "outputs": [
    {
     "name": "stdout",
     "output_type": "stream",
     "text": [
      "Writing /tmp/hello.bs\n"
     ]
    }
   ],
   "source": [
    "%%file /tmp/hello.bs\n",
    "mkTop :: Module Empty\n",
    "mkTop =\n",
    "  module\n",
    "    rules\n",
    "      \"rl_print_answer\": when True ==> do\n",
    "          $display \"\\n\\n***** Deep Thought says: Hello, World! *****\"\n",
    "          $display \"      And the answer is: %0d (or, in hex: 0x%0h)\\n\"  42  42\n",
    "          $finish\n"
   ]
  },
  {
   "cell_type": "code",
   "execution_count": 4,
   "id": "376eb409",
   "metadata": {},
   "outputs": [
    {
     "name": "stdout",
     "output_type": "stream",
     "text": [
      "Error: \"/tmp/hello.bs\", line 1, column 0: (P0005)\n",
      "  Unexpected \"mkTop\"; expected \"package\"\n"
     ]
    }
   ],
   "source": [
    "! /home/philip/Downloads/bsc-2025.01.1-ubuntu-24.04/bin/bsc -sim -g mkTop /tmp/hello.bs "
   ]
  },
  {
   "cell_type": "markdown",
   "id": "7b218d79",
   "metadata": {},
   "source": [
    "# Simulators\n",
    "\n",
    "hwil\n",
    "\n",
    "systemc \n",
    "https://en.wikipedia.org/wiki/SystemC\n",
    "https://github.com/denisgav/v2sc\n",
    "verilator exports systemc?\n",
    "https://www.cprover.org/hardware/v2c/\n",
    "\n",
    "gen5\n",
    "simics\n",
    "renode\n",
    "\n",
    "cache coherence\n",
    "determinsim cycle accuracy\n",
    "\n",
    "\n"
   ]
  },
  {
   "cell_type": "markdown",
   "id": "14dc14bf",
   "metadata": {},
   "source": [
    "# Logic Syntehsis\n",
    "https://en.wikipedia.org/wiki/Logic_synthesis\n",
    "\n",
    "https://link.springer.com/book/10.1007/b117060 \n",
    "Logic Synthesis and Verification Algorithms\n",
    "\n",
    "Hmm. If I could get an fpga simulator or circuit simulator working, that could be a virtuous cycle.\n",
    "https://www.coursera.org/learn/vlsi-cad-logic \n",
    "https://www.youtube.com/playlist?list=PLUGkvWkzb6cUkOqCfMIsbMzdSLl9CBLRy\n"
   ]
  }
 ],
 "metadata": {
  "kernelspec": {
   "display_name": "philzook58.github.io",
   "language": "python",
   "name": "python3"
  },
  "language_info": {
   "codemirror_mode": {
    "name": "ipython",
    "version": 3
   },
   "file_extension": ".py",
   "mimetype": "text/x-python",
   "name": "python",
   "nbconvert_exporter": "python",
   "pygments_lexer": "ipython3",
   "version": "3.12.3"
  }
 },
 "nbformat": 4,
 "nbformat_minor": 5
}
