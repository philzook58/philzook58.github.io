{
 "cells": [
  {
   "cell_type": "markdown",
   "metadata": {},
   "source": [
    "\n",
    "# concurrent seperation logic\n",
    "CSL\n",
    "https://read.seas.harvard.edu/~kohler/class/cs260r-17/brookes16concurrent.pdf\n",
    "\n",
    "How to mix temporal and separation logic. Statements about heap over time, processes.\n",
    "Propsotional dynamic logic but with separating conjunction?\n",
    "\n",
    "owicki and gries \n",
    "\n",
    "Higher order separation logic.\n"
   ]
  },
  {
   "cell_type": "markdown",
   "metadata": {},
   "source": [
    "# Separation Logic\n",
    "Pulse\n",
    "https://www.youtube.com/watch?v=jCqTVSSV_ao  - swami overview of pulse\n",
    "\n",
    "Wait, DICE? Bootloader?\n",
    "\n",
    "https://www.youtube.com/watch?v=mBkzziLPOl8  [PLDI'25] PulseCore: An Impredicative Concurrent Separation Logic for Dependently Typed Programs\n",
    "\n",
    "Skip navigation\n",
    "Search\n",
    "\n",
    "\n",
    "\n",
    "Create\n",
    "\n",
    "1\n",
    "\n",
    "Avatar image\n",
    "Pulse: Proof-oriented Programming with Concurrent Separation Logic in F*\n",
    "\n",
    "separation\n",
    "linear\n",
    "dynamic logic\n",
    "https://www.philipzucker.com/shallow_logic_knuckle/\n"
   ]
  },
  {
   "cell_type": "markdown",
   "metadata": {},
   "source": [
    "Maybe instead make it parametric over the heap kind\n"
   ]
  },
  {
   "cell_type": "code",
   "execution_count": null,
   "metadata": {},
   "outputs": [
    {
     "data": {
      "text/html": [
       "&#8870;ForAll(h,\n",
       "       Lambda(h,\n",
       "              Exists(k,\n",
       "                     And(subset(k, h),\n",
       "                         And(p[setminus(h, k)],\n",
       "                             Lambda(h,\n",
       "                                    h == K(BitVec(8), False))[k]))))[h] ==\n",
       "       p[h])"
      ],
      "text/plain": [
       "|= ForAll(h,\n",
       "       Lambda(h,\n",
       "              Exists(k,\n",
       "                     And(subset(k, h),\n",
       "                         And(p[setminus(h, k)],\n",
       "                             Lambda(h,\n",
       "                                    h == K(BitVec(8), False))[k]))))[h] ==\n",
       "       p[h])"
      ]
     },
     "execution_count": 27,
     "metadata": {},
     "output_type": "execute_result"
    }
   ],
   "source": [
    "import kdrag.theories.set as set_\n",
    "from kdrag.all import *\n",
    "class Sep:\n",
    "    def __init__(self, KeySort : smt.SortRef):\n",
    "        self.KeySort = KeySort\n",
    "        key = smt.Const(\"key\", KeySort)\n",
    "        self.AllocSort = set_.Set(KeySort)\n",
    "        h,k,l = smt.Consts(\"h k l\", self.AllocSort)\n",
    "        self.h = h\n",
    "        self.k = k\n",
    "        self.l = l\n",
    "        self.Prop = smt.ArraySort(self.AllocSort, smt.BoolSort())\n",
    "        self.emp = smt.Lambda([h], h == self.AllocSort.empty)\n",
    "        p,q,r = smt.Consts(\"p q r\", self.Prop)\n",
    "        self.sep = kd.define(\"sep\", [p,q], self.Sep(p, q))\n",
    "        self.alloc = kd.define(\"alloc\", [key], self.Alloc(key))\n",
    "        self.true = smt.Lambda([h], smt.BoolVal(True))\n",
    "        self.false = smt.Lambda([h], smt.BoolVal(False))\n",
    "        #self.wand\n",
    "    def Lift(self, expr):\n",
    "        return smt.Lambda([self.h], expr) # Const\n",
    "    def Alloc(self, key):\n",
    "        h = self.h\n",
    "        return smt.Lambda([h], h == smt.Store(self.AllocSort.empty, key, True))\n",
    "    def Pto(self, key, v):\n",
    "        h = self.h\n",
    "        heap = smt.Const(\"heap\", self.KeySort, v.sort())\n",
    "        return self.And(self.Alloc(key), self.Lift(heap[k] == v))\n",
    "    def Sep(self, a, b): # multistar *args?\n",
    "        h = self.h\n",
    "        k = self.k\n",
    "        return smt.Lambda([h], kd.QExists([k], k <= h, a[h - k] & b[k]))\n",
    "    def Wand(self, a, b):\n",
    "        h = self.h\n",
    "        k = self.k\n",
    "        return smt.Lambda([h], kd.QForAll([k], k & h == self.Alloc.empty, a[k], b[k | h]))\n",
    "    def And(self, *args):\n",
    "        h = self.h\n",
    "        return smt.Lambda([h], smt.And([a[h] for a in args]))\n",
    "    def Or(self, *args):\n",
    "        h = self.h\n",
    "        return smt.Lambda([h], smt.Or([a[h] for a in args]))\n",
    "    def Bool(self, name):\n",
    "        return smt.Const(name, self.Prop)\n",
    "    def Bools(self, names):\n",
    "        return smt.Consts(names, self.Prop)\n",
    "    def Valid(self, prop):\n",
    "        h = smt.FreshConst(self.Alloc, prefix=\"h\")\n",
    "        return smt.ForAll([h], prop[h])\n",
    "\n",
    "\n",
    "Sep8 = Sep(smt.BitVecSort(8))\n",
    "p,q = Sep8.Bools(\"p q\")\n",
    "\n",
    "kd.prove(smt.ForAll([Sep8.h], Sep8.Star(p,q)[Sep8.h] == Sep8.Star(q,p)[Sep8.h]))\n",
    "kd.prove(smt.ForAll([Sep8.h], Sep8.Star(p,Sep8.emp)[Sep8.h] == p[Sep8.h]))\n",
    "\n",
    "\n",
    "# sep_assoc\n",
    "\n",
    "# wand curry\n",
    "\n",
    "# frame  P -* Q -> P * R -* Q * R\n",
    "\n",
    "# P /\\ P -* Q -> Q\n",
    "\n",
    "#\n",
    "\n"
   ]
  },
  {
   "cell_type": "code",
   "execution_count": null,
   "metadata": {},
   "outputs": [],
   "source": [
    "import kdrag.theories.logic.sep as sep\n",
    "from kdrag.all import *\n",
    "import kdrag.theories.logic.axioms as ax"
   ]
  },
  {
   "cell_type": "code",
   "execution_count": null,
   "metadata": {},
   "outputs": [
    {
     "data": {
      "text/plain": [
       "False"
      ]
     },
     "execution_count": 52,
     "metadata": {},
     "output_type": "execute_result"
    }
   ],
   "source": [
    "x = smt.Int(\"x\")\n",
    "smt.is_array(smt.Lambda([x], x > 0))"
   ]
  },
  {
   "cell_type": "code",
   "execution_count": null,
   "metadata": {},
   "outputs": [],
   "source": [
    "type FuncRef = smt.ArrayRef | smt.QuantifierRef\n",
    "def domain(f : FuncRef) -> list[smt.SortRef]:\n",
    "    if isinstance(f, smt.ArrayRef):\n",
    "        res = []\n",
    "        i = 0\n",
    "        try:\n",
    "            while True:\n",
    "                res.append(f.domain_n(i))\n",
    "                i += 1\n",
    "        except smt.Z3Exception:\n",
    "            return res\n",
    "    elif isinstance(f, smt.QuantifierRef) and f.is_lambda():\n",
    "        return [v.sort() for v in range(f.num_vars())]\n",
    "    else:\n",
    "        raise TypeError(f\"Expected ArrayRef or Lambda, got {f}\")\n",
    "\n",
    "def range_(f : FuncRef) -> smt.SortRef:\n",
    "    if isinstance(f, smt.ArrayRef):\n",
    "        return f.range()\n",
    "    elif isinstance(f, smt.QuantifierRef) and f.is_lambda():\n",
    "        return f.body().sort()\n",
    "    else:\n",
    "        raise TypeError(f\"Expected ArrayRef or Lambda, got {f}\")"
   ]
  },
  {
   "cell_type": "code",
   "execution_count": null,
   "metadata": {},
   "outputs": [
    {
     "data": {
      "text/html": [
       "&#8870;ForAll([p!42, q!43], sep(p!42, q!43) == sep(q!43, p!42))"
      ],
      "text/plain": [
       "|= ForAll([p!42, q!43], sep(p!42, q!43) == sep(q!43, p!42))"
      ]
     },
     "execution_count": 2,
     "metadata": {},
     "output_type": "execute_result"
    }
   ],
   "source": [
    "import kdrag.theories.logic.sep as sep\n",
    "from kdrag.all import *\n",
    "import kdrag.theories.logic.axioms as ax\n",
    "Sep8 = sep.make_sep(smt.BitVecSort(8))\n",
    "p,q,r = kd.FreshVars(\"p q r\", Sep8.PropSort)\n",
    "l = kd.Lemma(Sep8.sep(p,q) == Sep8.sep(q,p))\n",
    "l.unfold(Sep8.sep)\n",
    "l.rw(ax.ext(Sep8.AllocSort, smt.BoolSort()))\n",
    "l.auto()\n",
    "l.qed().forall([p,q])"
   ]
  },
  {
   "cell_type": "code",
   "execution_count": 1,
   "metadata": {},
   "outputs": [
    {
     "data": {
      "text/html": [
       "&#8870;ForAll(p!42, sep(p!42, emp) == p!42)"
      ],
      "text/plain": [
       "|= ForAll(p!42, sep(p!42, emp) == p!42)"
      ]
     },
     "execution_count": 1,
     "metadata": {},
     "output_type": "execute_result"
    }
   ],
   "source": [
    "import kdrag.theories.logic.sep as sep\n",
    "from kdrag.all import *\n",
    "import kdrag.theories.logic.axioms as ax\n",
    "Sep8 = sep.make_sep(smt.BitVecSort(8))\n",
    "p,q,r = kd.FreshVars(\"p q r\", Sep8.PropSort)\n",
    "l = kd.Lemma(Sep8.sep(p,Sep8.emp) == p)\n",
    "l.unfold(Sep8.sep, Sep8.emp.decl())\n",
    "l.rw(ax.ext(Sep8.AllocSort, smt.BoolSort()))\n",
    "l.auto()\n",
    "l.qed().forall([p])"
   ]
  },
  {
   "cell_type": "markdown",
   "metadata": {},
   "source": [
    "# separation\n",
    "https://www.philipzucker.com/executable-seperation/\n",
    "\n",
    "appell paper https://www.cs.princeton.edu/~appel/papers/bringing-order.pdf/\n",
    "\n",
    "\"And here's the paper with a nice clean separation logic semantics, with explicit connections to Kripke frames: https://www.cs.princeton.edu/~appel/papers/bringing-order.pdf/. The corresponding models of relevance logic are Routley-Myers models. The distinctive feature of the signature is the same in both cases (a three-place relation R), and the semantics for the relevant conditional are exactly Cao-Culler-Appel's weak semantics for the wand. But there are a lot of other constraints that are different (Routley-Meyers assumes a distinguished element 0 s.t. R0ab iff a<b, so they don't have < as an extra part of a model's signature. Cao-Culler-Appel makes < part of the signature. Cao-Culler-Appel assumes that Rabc implies Rbac, and this isn't built in to all relevance logics).\"\n",
    "\n",
    "https://iris-project.org/tutorial-pdfs/iris-lecture-notes.pdf"
   ]
  },
  {
   "cell_type": "code",
   "execution_count": null,
   "metadata": {},
   "outputs": [
    {
     "ename": "IndentationError",
     "evalue": "expected an indented block after function definition on line 44 (2905299801.py, line 47)",
     "output_type": "error",
     "traceback": [
      "\u001b[0;36m  Cell \u001b[0;32mIn[32], line 47\u001b[0;36m\u001b[0m\n\u001b[0;31m    def Valid(p):\u001b[0m\n\u001b[0m    ^\u001b[0m\n\u001b[0;31mIndentationError\u001b[0m\u001b[0;31m:\u001b[0m expected an indented block after function definition on line 44\n"
     ]
    }
   ],
   "source": [
    "from kdrag.all import *\n",
    "import kdrag.theories.set as set_\n",
    "\n",
    "Addr = smt.DeclareSort(\"Addr\") # smt.IntSort()\n",
    "AddrSet = set_.Set(Addr)\n",
    "addrs = smt.Const(\"addrs\", AddrSet)\n",
    "Prop = kd.NewType('Prop', smt.ArraySort(AddrSet, smt.BoolSort()))\n",
    "\n",
    "p,q,r = smt.Consts(\"p q r\", Prop)\n",
    "\n",
    "Emp = Prop(smt.Lambda([addrs], addrs == ValidAddr.empty))\n",
    "emp = kd.define(\"emp\", [], Emp)\n",
    "\n",
    "def heap(S):\n",
    "    return smt.Const(\"heap\", smt.ArraySort(smt.IntSort(), S))\n",
    "\n",
    "#def PTo(p, x):\n",
    "#    return Prop(smt.Lambda([addrs], smt.And(addrs == smt.Store(ValidAddr.empty, p, True) , heap(x.sort())[p] == x)))\n",
    "\n",
    "n = smt.Int(\"n\")\n",
    "def Alloc(p):\n",
    "    return Prop(smt.Lambda([addrs], addrs == smt.Store(ValidAddr.empty, p, True)))\n",
    "alloc = kd.define(\"alloc\", [n], Alloc(n))\n",
    "\n",
    "# needs to be polymorhic. On second argument :(\n",
    "#pto = kd.define(\"pto\", [\"p\", \"x\"], PTo(p, x))\n",
    "\n",
    "def And(*args):\n",
    "    return Prop(smt.Lambda([addrs], smt.And(*[arg.val(addrs) for arg in args])))\n",
    "\n",
    "and_ = kd.define(\"and_\", [p,q], And(p, q))\n",
    "\n",
    "def Or(*args):\n",
    "    return Prop(smt.Lambda([addrs], smt.Or(*[arg.val(addrs) for arg in args])))\n",
    "\n",
    "or_ = kd.define(\"or_\", [p,q], Or(p, q))\n",
    "\n",
    "def Sep(a, b):\n",
    "    addrs1, addrs2 = smt.Consts(\"addrs1 addrs2\", ValidAddr) # Freshconst?\n",
    "    return Prop(smt.Lambda([addrs], smt.Exists([addrs1, addrs2], smt.And(addrs1 & addrs2 == ValidAddr.empty, addrs1 | addrs2 == addrs, a.val[addrs1], b.val[addrs2] ))))\n",
    "\n",
    "sep = kd.define(\"sep\", [p,q], Sep(p, q))\n",
    "\n",
    "def Wand(p,q):\n",
    "    \n",
    "\n",
    "\n",
    "def Valid(p):\n",
    "    return smt.Exists([addrs], p.val[addrs])\n",
    "\n",
    "valid = kd.define(\"valid\", [p], Valid(p))\n",
    "\n",
    "kd.prove(Valid(emp), unfold=1)    #)y=emp.defn)\n",
    "kd.prove(Valid(Sep(Emp, Emp)))\n",
    "kd.prove(valid(sep(emp,emp)), unfold=1)\n",
    "\n",
    "x = smt.BitVec(\"x\", 32)\n",
    "\n",
    "#smt.simplify(Valid(Sep(PTo(1, x), PTo(2, x))))\n",
    "kd.prove(valid(sep(alloc(1), alloc(2))), unfold=1)\n",
    "#kd.prove(valid(sep(alloc(n), alloc(n))), unfold=1)\n"
   ]
  },
  {
   "cell_type": "markdown",
   "metadata": {},
   "source": [
    "https://en.wikipedia.org/wiki/Bunched_logic\n",
    "\n",
    "https://en.wikipedia.org/wiki/Relevance_logic\n",
    "https://plato.stanford.edu/entries/logic-relevance/\n"
   ]
  },
  {
   "cell_type": "code",
   "execution_count": null,
   "metadata": {},
   "outputs": [],
   "source": [
    "from kdrag.all import *\n",
    "import functools\n",
    "@functools.cache\n",
    "def MultiSet(T): # Bag\n",
    "    S = kd.NewType(\"Bag\", smt.ArraySort(T, smt.IntSort()), pred=lambda x: smt.ForAll([k], k[n] >= 0))\n",
    "    def Sum(a, b):\n",
    "        return smt.Map(plus, a.val, b.val)\n",
    "    #kd.notation.add.define([])\n",
    "    return S\n",
    "n,m = Ints(\"n m\")\n",
    "plus = (n + m).decl()\n",
    "def Sum(a, b):\n",
    "    return smt.Map(plus, a.val, b.val)\n"
   ]
  },
  {
   "cell_type": "code",
   "execution_count": null,
   "metadata": {},
   "outputs": [],
   "source": [
    "\n",
    "\n",
    "def Empty(T):\n",
    "    return smt.K(T, smt.IntVal(0))\n",
    "\n",
    "\n",
    "\n",
    "def Sum(a, b):\n",
    "    return smt.Map( a, b)\n",
    "\n",
    "def Union():\n",
    "    return max\n",
    "def Inter():\n",
    "    return min\n",
    "\n",
    "def Diff(a, b):\n",
    "    # floor 0\n",
    "\n",
    "\n",
    "card = smt.Function(\"card\", )\n",
    "card = \n",
    "\n",
    "\n",
    "Resource = smt.DeclareSort(\"Resource\")\n",
    "ResourceBag = Bag(Resource)\n",
    "\n",
    "Prop = kd.NewType('Prop', smt.ArraySort(ResourceBag, smt.BoolSort()))\n",
    "\n",
    "def Sep(p,q):\n",
    "    res1, res2 = smt.Consts(\"res1 res2\", ResourceBag)\n",
    "    return smt.Lambda([res], kd.QExists([res1, res2], smt.And(Sum(res1,res2) == res), p.val[res1], q.val[res2]))\n",
    "\n"
   ]
  },
  {
   "cell_type": "markdown",
   "metadata": {},
   "source": [
    "# Modal\n",
    "https://en.wikipedia.org/wiki/Modal_logic#Frames_and_completeness"
   ]
  },
  {
   "cell_type": "code",
   "execution_count": null,
   "metadata": {},
   "outputs": [],
   "source": [
    "World = smt.DeclareSort(\"World\")\n",
    "acc = smt.Function(\"acc\", World, World, BoolSort())\n",
    "\n",
    "w, v = amt.Consts(\"w v\")\n",
    "refl = kd.axiom(smt.ForAll([w], acc(w, w)))\n",
    "symm = kd.axiom(smt.ForAll([w, v], smt.Implies(acc(w, v), acc(v, w))))\n",
    "trans = kd.axiom(smt.ForAll([w,u,v], smt.Implies(smt.And(acc(w, u), acc(u, v)), acc(w, v))))\n",
    "serial = kd.axiom(smt.ForAll([w], smt.Exists([u], acc(w,u))))\n",
    "euclidean = kd.axiom(kd.QForAll([w,u,v], acc(w, u), acc(w,v), acc(u, v)))\n",
    "\n",
    "\n",
    "K = []\n",
    "D = [serial]\n",
    "T = [refl]\n",
    "B = [refl,symm]\n",
    "S4 = [refl, trans]\n",
    "S5 = [refl, euclidean]\n"
   ]
  },
  {
   "cell_type": "markdown",
   "metadata": {},
   "source": [
    "# ctl\n",
    "https://en.wikipedia.org/wiki/Computation_tree_logic#Semantics_of_CTL"
   ]
  },
  {
   "cell_type": "code",
   "execution_count": null,
   "metadata": {},
   "outputs": [],
   "source": []
  },
  {
   "cell_type": "code",
   "execution_count": null,
   "metadata": {},
   "outputs": [],
   "source": []
  },
  {
   "cell_type": "markdown",
   "metadata": {},
   "source": [
    "# intuitonistinc\n",
    "\n",
    "Reals a truth values.\n",
    "\n",
    "Instead of single ereal\n",
    "Maybve minimal logic could avoid ereal. Doesn't need a bottom\n",
    "\n",
    "inifnite union.\n",
    "\n",
    "Lex Positive. (0,0,0, eps, eps, eps) is still lex positive?\n",
    "(eps,eps,eps, 0,0,0,0,...) is lex positive?\n",
    "\n",
    "\n",
    "\n",
    "False => phi\n",
    "uhhhhhh. phi - NegInt > 0\n",
    "NegInf - NegInf > 0 is undef...\n",
    "\n",
    "\n",
    "a > 0 is saying that a > eps1, a > eps2, a > eps3, ... must eventually become true."
   ]
  },
  {
   "cell_type": "code",
   "execution_count": null,
   "metadata": {},
   "outputs": [],
   "source": [
    "import kdrag.theories.real.extended as ereal\n",
    "Prop = ereal.EReal #smt.RealSort()\n",
    "# ereal is topologically the same as unit closed interval\n",
    "TRUE = ereal.EReal.Inf\n",
    "FALSE = ereal.EReal.NegInf\n",
    "\n",
    "def And(x,y):\n",
    "    return smt.If(x <= y, x, y)\n",
    "def Or(x,y):\n",
    "    return smt.If(x <= y, y, x)\n",
    "def Implies(x,y):\n",
    "    return y - x\n",
    "def Models(phi):\n",
    "    return phi > EReal.Fin(0) # in open set\n",
    "\n"
   ]
  },
  {
   "cell_type": "markdown",
   "metadata": {},
   "source": [
    "# free logic\n",
    "\n",
    "\n"
   ]
  }
 ],
 "metadata": {
  "kernelspec": {
   "display_name": "philzook58.github.io",
   "language": "python",
   "name": "python3"
  },
  "language_info": {
   "codemirror_mode": {
    "name": "ipython",
    "version": 3
   },
   "file_extension": ".py",
   "mimetype": "text/x-python",
   "name": "python",
   "nbconvert_exporter": "python",
   "pygments_lexer": "ipython3",
   "version": "3.12.3"
  }
 },
 "nbformat": 4,
 "nbformat_minor": 2
}
