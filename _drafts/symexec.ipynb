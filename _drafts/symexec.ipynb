{
 "cells": [
  {
   "cell_type": "code",
   "execution_count": null,
   "metadata": {},
   "outputs": [],
   "source": []
  },
  {
   "cell_type": "markdown",
   "metadata": {},
   "source": [
    "\n",
    "follow on to https://www.philipzucker.com/overload_bool/\n",
    "\n",
    "Crosshair. Can I symexec an interpreter (riscv?) using crosshair?\n",
    "Or via my thing\n",
    "\n",
    "CF mentioned JIT is doing same thing. Build a toy jit on that principle?\n",
    "output wasm maybe? use wasmtime?\n",
    "\n",
    "\n",
    "fork based nondeterminsims\n",
    "fork based continuations\n",
    "https://discuss.systems/@pkhuong/113715738939174491\n",
    "fork based continuations to implement closures. Need some kind of pipe mechanism\n",
    "https://mainisusuallyafunction.blogspot.com/2012/02/continuations-in-c-with-fork.html\n",
    "https://web.archive.org/web/20071101050321/http://homepage.mac.com/sigfpe/Computing/continuations.html old sigfpe site?\n",
    "https://github.com/trishume/telefork\n",
    "\n",
    "https://github.com/kmcallister/forkallcc\n",
    "https://archive.jlongster.com/Whats-in-a-Continuation\n",
    "https://news.ycombinator.com/item?id=42510696 into cps never to return\n",
    "\n",
    "cps and destination passing style. Hmm.\n",
    "\n",
    "https://stackoverflow.com/questions/48526687/call-cc-in-python-possible\n",
    "https://github.com/python-greenlet/greenlet\n",
    "https://gist.github.com/apg/1151419 revised callcc\n",
    "https://wiki.c2.com/?StacklessPython https://en.wikipedia.org/wiki/Stackless_Python\n",
    "https://doc.pypy.org/en/latest/stackless.html pypy implements this?\n",
    "https://pavpanchekha.com/esp/continuations.html\n",
    "http://blog.sigfpe.com/2007/02/exceptions-disjunctions-and.html\n",
    "\n",
    "Count number of usages. Linearity garbage collection. Local garbage collection in C.\n",
    "\n",
    "http://www.popcornlinux.org/ \n",
    "https://news.ycombinator.com/item?id=40751468 CRIU, a project to implement checkpoint/restore functionality for Linux.  https://criu.org/Main_Page checkpoint restore in userspace\n",
    " \n",
    "https://en.wikipedia.org/wiki/Express_Data_Path XDP\n",
    "\n",
    "microvms firecracker kata containers\n",
    "https://github.com/infracloudio/awesome-microvm\n",
    "https://www.qemu.org/docs/master/system/i386/microvm.html\n",
    "\n",
    "unikernels\n",
    "\n",
    "Data plane acceleration\n",
    "\n",
    "https://www.cl.cam.ac.uk/teaching/2324/R277/handout-delimited-continuations.pdf jeremy yallop note on delimited continuation\n",
    "https://news.ycombinator.com/item?id=28287312 all you need is call/cc . Suggestion that effect handlers are the more mdern thin\n",
    "\"You can implement delimited continuations with regular call/cc and a mutable cell. Of course, like all abstractions based on raw call/cc, it's not modular: you can't do that and use the result inside, for example, a multitasking scheduler that itself uses raw call/cc as well.\n",
    "http://okmij.org/ftp/continuations/against-callcc.html#traps\n",
    "Closer to your point, there are a few other implementations that offer delimited continuations natively. See https://wingolog.org/archives/2010/02/26/guile-and-delimited... for a 11 year old post on adding them to guile scheme.\"\n",
    "https://news.ycombinator.com/threads?id=pkhuong\n",
    "\n",
    "\n",
    "Could use my simple symexec to symexec an interpreter.\n",
    "\n",
    "buildit\n",
    "\n",
    "What does rosette offer really?\n",
    "\n",
    "Klee\n",
    "\n",
    "Actually reifying\n",
    "\n",
    "Making a version that works in C++ or Rust as library.\n",
    "\n",
    "\n"
   ]
  },
  {
   "cell_type": "markdown",
   "metadata": {},
   "source": [
    "# Reflection\n",
    "\n",
    "If I kept a strucutred path tree could be nice. Would need to keep maybe some cotinuation. Blech\n",
    "\n",
    "We could choose to not record conditions.\n"
   ]
  },
  {
   "cell_type": "code",
   "execution_count": 37,
   "metadata": {},
   "outputs": [
    {
     "data": {
      "text/plain": [
       "[([(True, x > 3), (True, x == 4)], x),\n",
       " ([(True, x > 3), (False, x == 4)], x - 2),\n",
       " ([(False, x > 3)], x*3)]"
      ]
     },
     "execution_count": 37,
     "metadata": {},
     "output_type": "execute_result"
    }
   ],
   "source": [
    "import random\n",
    "from z3 import *\n",
    "def symexec(*vs, limit=100):\n",
    "    def wrapper(f):\n",
    "        trace = []\n",
    "        traces = []\n",
    "        # a shared solver being pushed and popped is probably more efficient\n",
    "        s = Solver()\n",
    "        def branch(self):\n",
    "            # branch gets called on every branch (every time a z3 expression is asked to be converted to a concrete bool)\n",
    "            s.push()\n",
    "            s.add(And([ cond == take for (take, cond) in trace])) # TODO: I could move push pop around to avoid this full push\n",
    "            s.add(self)\n",
    "            res = s.check()\n",
    "            s.pop()\n",
    "            if res == sat:\n",
    "                trace.append((True, self))\n",
    "                return True\n",
    "            else:\n",
    "                # it was not possible to take the branch\n",
    "                trace.append((False, self)) # keep tuple of (cond, take)?\n",
    "                return False\n",
    "        BoolRef.__bool__ = branch # monkey patch in the __bool__ overload\n",
    "        for i in range(limit):\n",
    "            if s.check() == unsat: # If no more branches possible, stop\n",
    "                break\n",
    "            trace = [] # reset the trace\n",
    "            res = f(*vs) # run the function\n",
    "            # res = z3.simplify(res) # might be nice.\n",
    "            if res is None:\n",
    "                del BoolRef.__bool__\n",
    "                raise ValueError(\"Function returns None on path\", trace)\n",
    "            traces.append((trace,res)) # record the result of the run\n",
    "            s.add(Not(And([ cond == take for (take, cond) in trace]))) # disallow exact trace again\n",
    "        del BoolRef.__bool__\n",
    "        return traces\n",
    "    return wrapper\n",
    "\n",
    "\n",
    "\n",
    "\n",
    "@symexec(z3.Int(\"x\"))\n",
    "def foo(x):\n",
    "    if x > 3:\n",
    "        if x == 4:\n",
    "            return x\n",
    "        else:\n",
    "            return x - 2\n",
    "    else:\n",
    "        return x*3\n",
    "    \n",
    "foo\n"
   ]
  },
  {
   "cell_type": "code",
   "execution_count": 45,
   "metadata": {},
   "outputs": [
    {
     "name": "stdout",
     "output_type": "stream",
     "text": [
      "[([(True, x > 3), (True, x == 4)], x), ([(True, x > 3), (False, x == 4)], x - 2), ([(False, x > 3)], x*3)]\n",
      "x > 3\n",
      "[([(True, x == 4)], x), ([(False, x == 4)], x - 2)]\n",
      "x == 4\n",
      "[([], x)]\n",
      "[([], x - 2)]\n",
      "[([], x*3)]\n"
     ]
    },
    {
     "data": {
      "text/html": [
       "If(x &gt; 3, If(x = 4, x, x - 2), x&middot;3)"
      ],
      "text/plain": [
       "If(x > 3, If(x == 4, x, x - 2), x*3)"
      ]
     },
     "execution_count": 45,
     "metadata": {},
     "output_type": "execute_result"
    }
   ],
   "source": [
    "def compile(traces):\n",
    "    print(traces)\n",
    "    if len(traces) == 1:\n",
    "        trace, res = traces[0]\n",
    "        assert len(trace) == 0\n",
    "        return res\n",
    "    cond = traces[0][0][0][1]\n",
    "    print(cond)\n",
    "    assert all(trace[0][0][1].eq(cond) for trace in traces)\n",
    "    trues =  [(trace[1:],res) for trace, res in traces if trace[0][0]]\n",
    "    falses = [(trace[1:],res) for trace, res in traces if not trace[0][0]]\n",
    "    return z3.If(cond, compile(trues), compile(falses))\n",
    "compile(foo)"
   ]
  },
  {
   "cell_type": "code",
   "execution_count": 7,
   "metadata": {},
   "outputs": [
    {
     "data": {
      "text/plain": [
       "[([x == 3], x),\n",
       " ([Not(x == 3), x == 4], x + 1),\n",
       " ([Not(x == 3), Not(x == 4)], x - 1)]"
      ]
     },
     "execution_count": 7,
     "metadata": {},
     "output_type": "execute_result"
    }
   ],
   "source": [
    "@symexec(z3.Int(\"x\"))\n",
    "def foo(x):\n",
    "    if x == 3:\n",
    "        return x\n",
    "    elif x == 4:\n",
    "        return x + 1\n",
    "    else:\n",
    "        return x - 1\n",
    "    \n",
    "foo"
   ]
  },
  {
   "cell_type": "markdown",
   "metadata": {},
   "source": [
    "continuation is manually captured in the todo_trace\n"
   ]
  },
  {
   "cell_type": "code",
   "execution_count": null,
   "metadata": {},
   "outputs": [],
   "source": [
    "from z3 import *\n",
    "def symexec(*vs, limit=100):\n",
    "    def wrapper(f):\n",
    "        trace = []\n",
    "        traces = []\n",
    "        todo = [[]]\n",
    "        todo_trace = None\n",
    "        # a shared solver being pushed and popped is probably more efficient\n",
    "        s = Solver()\n",
    "        def branch(self):\n",
    "            # branch gets called on every branch (every time a z3 expression is asked to be converted to a concrete bool)\n",
    "            if len(todo_trace) != 0:\n",
    "                take = todo_trace.pop()\n",
    "                trace.add(take)\n",
    "\n",
    "            res = s.check()\n",
    "            s.pop()\n",
    "            if res == sat:\n",
    "                trace.append(self)\n",
    "                return True\n",
    "            else:\n",
    "                # it was not possible to take the branch\n",
    "                trace.append(z3.Not(self)) # keep tuple of (cond, take)?\n",
    "                return False\n",
    "        BoolRef.__bool__ = branch # monkey patch in the __bool__ overload\n",
    "        for i in range(limit):\n",
    "            if s.check() == unsat: # If no more branches possible, stop\n",
    "                break\n",
    "            trace = [] # reset the trace\n",
    "            res = f(*vs) # run the function\n",
    "            # res = z3.simplify(res) # might be nice.\n",
    "            if res is None:\n",
    "                BoolRef.__bool__ = None\n",
    "                raise ValueError(\"Function returns None on path\", trace)\n",
    "            traces.append((trace,res)) # record the result of the run\n",
    "        BoolRef.__bool__ = None\n",
    "        return traces\n",
    "    return wrapper\n",
    "\n",
    "\n",
    "\n",
    "\n",
    "@symexec(z3.Int(\"x\"))\n",
    "def foo(x):\n",
    "    if x > 3:\n",
    "        if x == 4:\n",
    "            return x\n",
    "        else:\n",
    "            return x - 2\n",
    "    else:\n",
    "        return x*3\n",
    "    \n",
    "foo"
   ]
  },
  {
   "cell_type": "code",
   "execution_count": 4,
   "metadata": {},
   "outputs": [
    {
     "data": {
      "text/html": [
       "If(x &gt; 3 &and; x = 4,\n",
       "   x,\n",
       "   If(x &gt; 3 &and; &not;(x = 4),\n",
       "      x - 2,\n",
       "      If(&not;(x &gt; 3), x&middot;3, undefined!0)))"
      ],
      "text/plain": [
       "If(And(x > 3, x == 4),\n",
       "   x,\n",
       "   If(And(x > 3, Not(x == 4)),\n",
       "      x - 2,\n",
       "      If(And(Not(x > 3)), x*3, undefined!0)))"
      ]
     },
     "execution_count": 4,
     "metadata": {},
     "output_type": "execute_result"
    }
   ],
   "source": [
    "def traces_to_fn(traces, sort):\n",
    "    if len(traces) == 0:\n",
    "        return z3.FreshConst(sort, prefix=\"undefined\")\n",
    "    pathcond, res = traces[0]\n",
    "    return z3.If(z3.And( pathcond), res, traces_to_fn(traces[1:], sort))\n",
    "traces_to_fn(foo, z3.IntSort())"
   ]
  },
  {
   "cell_type": "code",
   "execution_count": null,
   "metadata": {},
   "outputs": [],
   "source": [
    "def simplify_traces(traces):\n",
    "    for pathcond, res in traces:\n",
    "\n",
    "    return z3.If(z3.And( pathcond), res, traces_to_fn(traces[1:], sort))\n",
    "traces_to_fn(foo, z3.IntSort())"
   ]
  },
  {
   "cell_type": "code",
   "execution_count": null,
   "metadata": {},
   "outputs": [],
   "source": [
    "from typing import NamedTuple\n",
    "from dataclasses import dataclass\n",
    "\n",
    "@dataclass\n",
    "class Trie():\n",
    "    cond : z3.BoolRef\n",
    "    true : 'Trie'\n",
    "    false : 'Trie'\n",
    "\n",
    "def insert(trie, pathcond, res):\n",
    "    if len(pathcond) == 0:\n",
    "        return res\n",
    "\n",
    "    for cond in pathcond:\n",
    "        if trie is None:\n",
    "            trie = Trie(cond, None, None)\n",
    "\n",
    "    if cond in trie:\n",
    "        return Trie(cond, insert(trie[cond], rest, res), trie[cond].false)\n",
    "    else:\n",
    "        return Trie(cond, insert({}, rest, res), insert({}, rest, res))\n",
    "\n",
    "def trie_of_traces(traces):\n",
    "    z3.is_not(p)\n",
    "\n"
   ]
  },
  {
   "cell_type": "code",
   "execution_count": null,
   "metadata": {},
   "outputs": [],
   "source": [
    "im"
   ]
  },
  {
   "cell_type": "code",
   "execution_count": 36,
   "metadata": {},
   "outputs": [
    {
     "name": "stdout",
     "output_type": "stream",
     "text": [
      "{} [x == 3] x\n",
      "{x == 3: x} [Not(x == 3), x == 4] x + 1\n",
      "Not(x == 3)\n",
      "{x == 3: x, Not(x == 3): {x == 4: x + 1}} [Not(x == 3), Not(x == 4)] x - 1\n",
      "Not(x == 3)\n"
     ]
    },
    {
     "data": {
      "text/plain": [
       "{x == 3: x, Not(x == 3): {x == 4: x + 1, Not(x == 4): x - 1}}"
      ]
     },
     "execution_count": 36,
     "metadata": {},
     "output_type": "execute_result"
    }
   ],
   "source": [
    "\n",
    "\n",
    "def lookup_trie(trie, key):\n",
    "    node = trie\n",
    "    for k in key:\n",
    "        #k = (k.get_id(), k)\n",
    "        node = node.get(k)\n",
    "        if node is None:\n",
    "            return None\n",
    "    return node\n",
    "\n",
    "def store_trie(trie, key, value):\n",
    "    node = trie\n",
    "    for k in key[:-1]:\n",
    "        #k = (k.get_id(), k)\n",
    "        print(k)\n",
    "        if k not in node:\n",
    "            node[k] = {}\n",
    "        node = node[k]\n",
    "    node[key[-1]] = value\n",
    "\n",
    "def trace_trie(traces):\n",
    "    trie = {}\n",
    "    for trace,res in traces:\n",
    "        print(trie, trace, res)\n",
    "        store_trie(trie, trace, res)\n",
    "    return trie\n",
    "\n",
    "def compress_trie(traces):\n",
    "    # If only one path, compress away that node\n",
    "    # If all paths have same result, compress away.\n",
    "    # probably best to do bottom up\n",
    "    pass\n",
    "\n",
    "t = {}\n",
    "#store_trie(t, \"abc\" ,3 )\n",
    "#print(foo)\n",
    "#del BoolRef.__bool__\n",
    "ctrie = trace_trie(foo)\n",
    "\n",
    "def compile(ctrie):\n",
    "    if isinstance(ctrie,dict):\n",
    "        assert len(ctrie) == 2\n",
    "        cond = [c for c in ctrie.items() ]\n",
    "        z3.If()\n",
    "    else:\n",
    "        return ctrie\n",
    "\n",
    "#t"
   ]
  },
  {
   "cell_type": "code",
   "execution_count": 21,
   "metadata": {},
   "outputs": [
    {
     "ename": "TypeError",
     "evalue": "'NoneType' object is not callable",
     "output_type": "error",
     "traceback": [
      "\u001b[0;31m---------------------------------------------------------------------------\u001b[0m",
      "\u001b[0;31mTypeError\u001b[0m                                 Traceback (most recent call last)",
      "Cell \u001b[0;32mIn[21], line 3\u001b[0m\n\u001b[1;32m      1\u001b[0m x \u001b[38;5;241m=\u001b[39m z3\u001b[38;5;241m.\u001b[39mInt(\u001b[38;5;124m\"\u001b[39m\u001b[38;5;124mx\u001b[39m\u001b[38;5;124m\"\u001b[39m)\n\u001b[1;32m      2\u001b[0m d \u001b[38;5;241m=\u001b[39m {x  \u001b[38;5;241m==\u001b[39m \u001b[38;5;241m3\u001b[39m: \u001b[38;5;28;01mNone\u001b[39;00m}\n\u001b[0;32m----> 3\u001b[0m \u001b[43m(\u001b[49m\u001b[43mx\u001b[49m\u001b[43m \u001b[49m\u001b[38;5;241;43m==\u001b[39;49m\u001b[43m \u001b[49m\u001b[38;5;241;43m3\u001b[39;49m\u001b[43m)\u001b[49m\u001b[43m \u001b[49m\u001b[38;5;129;43;01min\u001b[39;49;00m\u001b[43m \u001b[49m\u001b[43md\u001b[49m\n",
      "\u001b[0;31mTypeError\u001b[0m: 'NoneType' object is not callable"
     ]
    }
   ],
   "source": [
    "x = z3.Int(\"x\")\n",
    "d = {x  == 3: None}\n",
    "(x == 3) in d"
   ]
  },
  {
   "cell_type": "markdown",
   "metadata": {},
   "source": [
    "# Buildit"
   ]
  },
  {
   "cell_type": "markdown",
   "metadata": {},
   "source": [
    "# Cross Hair\n",
    "Cross uses audit hooks to save you from some possible side effects. That's interesting\n",
    "\n",
    "Hmm. This is really not setup or documented to be a library\n",
    "\n",
    "Nah. This is not what I want.\n"
   ]
  },
  {
   "cell_type": "code",
   "execution_count": 4,
   "metadata": {},
   "outputs": [
    {
     "data": {
      "text/plain": [
       "[]"
      ]
     },
     "execution_count": 4,
     "metadata": {},
     "output_type": "execute_result"
    }
   ],
   "source": [
    "from crosshair.core_and_libs import analyze_function\n",
    "\n",
    "def toy_function(x: int) -> int:\n",
    "    if x > 0:\n",
    "        return x + 1\n",
    "    elif x < 0:\n",
    "        return x - 1\n",
    "    else:\n",
    "        return 0\n",
    "\n",
    "analyze_function(toy_function)"
   ]
  },
  {
   "cell_type": "code",
   "execution_count": null,
   "metadata": {},
   "outputs": [
    {
     "ename": "TypeError",
     "evalue": "explore_paths() missing 2 required positional arguments: 'options' and 'search_root'",
     "output_type": "error",
     "traceback": [
      "\u001b[0;31m---------------------------------------------------------------------------\u001b[0m",
      "\u001b[0;31mTypeError\u001b[0m                                 Traceback (most recent call last)",
      "Cell \u001b[0;32mIn[7], line 3\u001b[0m\n\u001b[1;32m      1\u001b[0m \u001b[38;5;28;01mimport\u001b[39;00m \u001b[38;5;21;01mcrosshair\u001b[39;00m\u001b[38;5;21;01m.\u001b[39;00m\u001b[38;5;21;01mcore\u001b[39;00m \u001b[38;5;28;01mas\u001b[39;00m \u001b[38;5;21;01mcore\u001b[39;00m\n\u001b[1;32m      2\u001b[0m core\u001b[38;5;241m.\u001b[39manalyze_function(toy_function)\n\u001b[0;32m----> 3\u001b[0m \u001b[43mcore\u001b[49m\u001b[38;5;241;43m.\u001b[39;49m\u001b[43mexplore_paths\u001b[49m\u001b[43m(\u001b[49m\u001b[43mtoy_function\u001b[49m\u001b[43m,\u001b[49m\u001b[43m \u001b[49m\u001b[43m[\u001b[49m\u001b[38;5;241;43m0\u001b[39;49m\u001b[43m,\u001b[49m\u001b[43m \u001b[49m\u001b[38;5;241;43m1\u001b[39;49m\u001b[43m,\u001b[49m\u001b[43m \u001b[49m\u001b[38;5;241;43m-\u001b[39;49m\u001b[38;5;241;43m1\u001b[39;49m\u001b[43m]\u001b[49m\u001b[43m)\u001b[49m\n",
      "\u001b[0;31mTypeError\u001b[0m: explore_paths() missing 2 required positional arguments: 'options' and 'search_root'"
     ]
    }
   ],
   "source": [
    "import crosshair.core as core\n",
    "core.analyze_function(toy_function)\n"
   ]
  },
  {
   "cell_type": "code",
   "execution_count": 1,
   "metadata": {},
   "outputs": [
    {
     "data": {
      "text/plain": [
       "['IgnoreAttempt',\n",
       " 'NoTracing',\n",
       " 'ResumedTracing',\n",
       " 'StateSpace',\n",
       " 'SymbolicFactory',\n",
       " '__all__',\n",
       " '__author__',\n",
       " '__builtins__',\n",
       " '__cached__',\n",
       " '__doc__',\n",
       " '__file__',\n",
       " '__license__',\n",
       " '__loader__',\n",
       " '__name__',\n",
       " '__package__',\n",
       " '__path__',\n",
       " '__spec__',\n",
       " '__status__',\n",
       " '__version__',\n",
       " 'auditwall',\n",
       " 'codeconfig',\n",
       " 'condition_parser',\n",
       " 'copyext',\n",
       " 'core',\n",
       " 'debug',\n",
       " 'deep_realize',\n",
       " 'dynamic_typing',\n",
       " 'enforce',\n",
       " 'env_info',\n",
       " 'fnutil',\n",
       " 'options',\n",
       " 'patch_to_return',\n",
       " 'realize',\n",
       " 'register_contract',\n",
       " 'register_patch',\n",
       " 'register_type',\n",
       " 'smtlib',\n",
       " 'statespace',\n",
       " 'stubs_parser',\n",
       " 'sys',\n",
       " 'tracers',\n",
       " 'type_repo',\n",
       " 'util',\n",
       " 'with_realized_args',\n",
       " 'z3util']"
      ]
     },
     "execution_count": 1,
     "metadata": {},
     "output_type": "execute_result"
    }
   ],
   "source": [
    "import crosshair\n",
    "dir(crosshair)"
   ]
  },
  {
   "cell_type": "markdown",
   "metadata": {},
   "source": [
    "# Klee\n",
    "Alastair was trying to get Klee on Rust.\n",
    "Klee is in llvm 13? that's insane.\n",
    "\n"
   ]
  },
  {
   "cell_type": "code",
   "execution_count": null,
   "metadata": {},
   "outputs": [],
   "source": [
    " docker pull klee/klee\n",
    " docker run --rm -ti --ulimit='stack=-1:-1' klee/klee"
   ]
  }
 ],
 "metadata": {
  "kernelspec": {
   "display_name": "Python 3",
   "language": "python",
   "name": "python3"
  },
  "language_info": {
   "codemirror_mode": {
    "name": "ipython",
    "version": 3
   },
   "file_extension": ".py",
   "mimetype": "text/x-python",
   "name": "python",
   "nbconvert_exporter": "python",
   "pygments_lexer": "ipython3",
   "version": "3.10.12"
  }
 },
 "nbformat": 4,
 "nbformat_minor": 2
}
