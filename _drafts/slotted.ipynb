{
 "cells": [
  {
   "cell_type": "markdown",
   "metadata": {},
   "source": [
    "\n",
    "Slotted hash cons\n",
    "Atomic slotted knuth bendix\n",
    "\n",
    "foo(x,y) = bar(x)\n",
    "\n",
    "f(x,y) != foo(z,w)   this is not the case.\n",
    "\n",
    "It really does come from a naively named persepctive.\n",
    "\n",
    "Multiarity by keyword lambdas.\n",
    "\n",
    "\n",
    "hmmm groupoid rename is neater than perm because I don't need to double everything.\n",
    "\n"
   ]
  },
  {
   "cell_type": "code",
   "execution_count": null,
   "metadata": {},
   "outputs": [],
   "source": [
    "type rename_id = tuple[dict,int]\n",
    "\n",
    "def overlap(t1 : rename_id, t2: rename_id) -> Optional[dict]:\n",
    "    if t1[1] != t2[1]:\n",
    "        return None\n",
    "    \n"
   ]
  },
  {
   "cell_type": "code",
   "execution_count": null,
   "metadata": {},
   "outputs": [],
   "source": [
    "table = {}\n",
    "def hashcons(x):\n",
    "    if x in table:\n",
    "        return table[x]\n",
    "    else:\n",
    "        table[x] = x\n",
    "        return x\n",
    "\n",
    "type rename = dict[object, object]\n",
    "type renamed = tuple[rename, object]\n",
    "def var(x : str) -> renamed:\n",
    "    return {0 : x}, hashcons(('var', 0))\n",
    "\n",
    "def app1(f : str, x : renamed) -> renamed:\n",
    "    rename, x1 = x\n",
    "    return rename, hashcons((f, x1))\n",
    "type perm = dict[int, int]\n",
    "\n",
    "def app2(f : str, x : renamed, y : renamed) -> renamed:\n",
    "    rename, x1 = x\n",
    "    rename2, y1 = y\n",
    "    inv =  {v: k for k, v in rename.items()}\n",
    "    inv2 = {v: k for k, v in rename2.items()}\n",
    "    swaps_xs = set(rename2.values()) - set(rename.values())\n",
    "    nfv_x = len(rename)\n",
    "    vs = set(rename.values()) |  set(rename2.values())\n",
    "    for n in range(len(vs)):\n",
    "        \n",
    "    #perm = nfv_x :  len(swap_xs)\n",
    "\n",
    "    perm = {}\n",
    "    renameout = rename.copy()\n",
    "    curr = len(rename)\n",
    "    for n in range(len(rename1)):\n",
    "        yv = rename2[n]\n",
    "        if yv in swap_xs:\n",
    "            perm[curr] = n\n",
    "            curr += 1\n",
    "\n",
    "        #yv is in y but not in x:\n",
    "\n",
    "    perm = { len(rename)}\n",
    "\n",
    "    if rename is rename2:\n",
    "        return rename, hashcons((f, x1, y1))\n",
    "    else:\n",
    "        new_rename = rename.copy()\n",
    "        new_rename.update(rename2)\n",
    "        return new_rename, hashcons((f, x1, y1))\n",
    "\n",
    "\n",
    "\n",
    "\n"
   ]
  },
  {
   "cell_type": "markdown",
   "metadata": {},
   "source": [
    "# Old\n",
    "\n",
    "\n",
    "https://www.philipzucker.com/union-find-groupoid/\n",
    "\n",
    "https://www.philipzucker.com/canon_search/\n",
    "\n",
    "\n",
    "I was fiddling with a canonized for for z3 get_id. FOr a second I thought it might be easy?\n",
    "\n",
    "f(X,Y,X) can be relablled by a traversal.\n",
    "g(t1,t2) where t1 and t2 have been traversal labelled may need relabelling. Traversals are non compositional.\n",
    "\n",
    "Be lazy pushing the relabellings down. Maintain label permutations at nodes.\n",
    "\n",
    "Now different uses can share the same \"shape\". When you recurse into the term, your can collect up permutations along the way.\n",
    "\n",
    "[\"x\", \"y\", \"z\"]\n",
    "\n",
    "But is this a cup game? What do you actually do\n",
    "\n",
    "\n",
    "can you make a slotted hash cons?\n",
    "Do you have to have the union find piece?\n",
    "Maybe you do.\n",
    "\n",
    "I guess everything has alpha symmettry, so you can always pull permutation through to normalize a node. Like a rotational symmettric function.\n",
    "\n",
    "f((p1,x1), (p2,x2))  -->  p f((1, x1), (p2', x2), )\n",
    "\n",
    "Variable are represented as\n",
    "0<->2, Vva\n",
    "\n",
    "\n",
    "eids are   (ident, [1,4,2]) tuples?\n",
    "\n",
    "Sequences can be acted upon by variable permutations and slot permuations, which are interrleated\n",
    "(ident, [1,4,2]) =P,Q= (ident, [6,2,4])\n",
    "\n",
    "(v, [1])\n",
    "\n",
    "(v, [2,3,4]) ???\n",
    "\n",
    "I don't see the point of slot permutations then. I guess they boil down to different naming strategies on a particular term. \n",
    "(v, [1,2,3])\n",
    "\n",
    "(P, v, [x,y,z])\n",
    "\n",
    "\n",
    "e(i,j,k) = f(e1(i,j), e2(k,m))\n",
    "I don't feel like there is an issue here.\n",
    "\n",
    "Oh, if normal form is expensive to produce, then top down actually might have it cached for you in a nice way. Hmmm.\n",
    "\n",
    "\n",
    "ground KB using miller matching / equality. beta0\n",
    "You need beta zero to flatten\n",
    "\n",
    "The ordering of flat form doesn't matter because e is always less than symbols. So you are always decreasing in size. Kind of a weird transformation? Or very normal? Make new definitions, new system may be easier to orient. Dependency pair method invented symbols. hmm. Is there a relationship?\n",
    "\n",
    "P1 @ e(1,2,3) = P2 @ f(P3 @ e1(7,5) , P4 @ e2(3,4))\n",
    "\n",
    "or\n",
    "\n",
    "e(i,j,k) = (lam x y z, f(e1(x,y), e2(y,z)))(i,j,k)\n",
    "\n",
    "a bit more uninform. eta expanded. let expanded?\n",
    "\n",
    "e(i,j,k) = let x = i let y = j let z = k in f(e1(x,y), e2(y,z))\n",
    "\n",
    "\n",
    "```ocaml\n",
    "type slot_term = \n",
    "    | Var\n",
    "    | Fun of string * args\n",
    "and args = (slot_term * int list) list\n",
    "\n",
    "type term = {vs : int list; t : slot_term}\n",
    "\n",
    "let var n : term = {vs = [n]; t = Var}\n",
    "let fun (head : string) (args : term list) : term = \n",
    "\n",
    "let children (t : term) : term list =\n",
    "\n",
    "\n",
    "\n",
    "type slot_term = \n",
    "    | Var\n",
    "    | Fun of string * term list\n",
    "and term = {vs : int list; t : slot_term}\n",
    "\n",
    "```\n",
    "\n",
    "terms are not hash consed. They are dealth with structurally.\n",
    "or two types of term. One hash consed the ther not?\n",
    "\n",
    "typesafe modular hashconsing\n",
    "\n",
    "```\n",
    "type 'a slot_term = \n",
    "    | Var\n",
    "    | Fun of string * 'a list\n",
    "and 'a term = {vs : int list; t : 'a slot_term}\n",
    "\n",
    "```\n",
    "\n",
    "```\n",
    "type slot_term = \n",
    "    \n",
    "\n",
    "\n",
    "```\n",
    "\n",
    "\n",
    "I had an ast for HOpatterns\n",
    "\n",
    "```\n",
    "type miller = \n",
    "    | Var of int (* de bruijn var *)\n",
    "    | App of miller * int list  (* multi appl)\n",
    "    | Lam of int * miller (* multiarity lambda *)\n",
    "    | Const of string * miller list\n",
    "\n",
    "\n",
    "```\n",
    "\n",
    "\n",
    "https://jesper.sikanda.be/posts/1001-syntax-representations.html\n",
    "\n",
    "\n",
    "```\n",
    "(* intersperse succ inside. Oleg style. Also Pavel post. Also explicit subtitution? *)\n",
    "type float_db = \n",
    "  | Succ of float_db (* instead of Var int *)\n",
    "  | Zero\n",
    "  | App of float_db * float_db\n",
    "  | Lam of float_db\n",
    "\n",
    "```\n",
    "\n",
    "\n",
    "arxiv.org/abs/2412.16206 information aware telescopic constraint rewess Cowderoy\n",
    " https://arxiv.org/abs/1807.04085 everybody gotta be someherre\n",
    "  https://arxiv.org/abs/2105.02856 hash modulo alpha\n",
    "\n",
    "```ocaml\n",
    "type vmap = \n",
    "  | Left of vmap\n",
    "  | Right of vmap\n",
    "  | Both of vmap * vmap\n",
    "  | Here\n",
    "  (* | None ? *)\n",
    "\n",
    "| None\n",
    "| Here\n",
    "| Node of vmap * vmap\n",
    "\n",
    "\n",
    "type co_db = \n",
    "    | Var\n",
    "    | App of co_db * co_db\n",
    "    | Lam of vmap * co_db\n",
    "\n",
    "type open_term = {vs : (string * vmap) list; t : co_db}\n",
    "\n",
    "let var (name : str) : term = {vs = [name , Here]; t = Var} -- Hmm.\n",
    "let app f x = {vs = map app_combine f.vs x.vs ; t = App (f.t, x.t)}\n",
    "let lam name body = {vs = remove name body.vs; t = Lam (lookup name body.vs, body.t)} \n",
    "\n",
    "\n",
    "(* more interspersed? This feels better for egraph since we need nodes entangled *)\n",
    "type co_db2 = \n",
    "    | Var of list vmap\n",
    "    | App of list vmap * co_db2 * co_db2\n",
    "    | Lam of vmap * list vmap * co_db2\n",
    "```\n",
    "\n"
   ]
  },
  {
   "cell_type": "code",
   "execution_count": null,
   "metadata": {},
   "outputs": [],
   "source": [
    "from kdrag.all import *\n",
    "\n",
    "def alpha_canon(e):\n",
    "    todo = [e] \\\n",
    "    # seen = set()\n",
    "    vs = []\n",
    "    while todo:\n",
    "        e = todo.pop()\n",
    "        if smt.is_var(e):\n",
    "            if e not in vs:\n",
    "                vs.append(e)\n",
    "                return \n",
    "        else:\n",
    "            todo.extend(reversed(e.children())) # reversed? doesn't really matter.\n",
    "    return vs\n",
    "# smt.substitute_var(e, *vs)\n",
    "\n",
    "# but you can also do this while you're constructing\n",
    "\n",
    "def Var(n):\n",
    "    return [smt.Var(n)], smt.Var(0)\n",
    "def apply(decl, *args):\n",
    "    newvs = []\n",
    "    cs = []\n",
    "    for vs, c in args:\n",
    "        for v in vs:\n",
    "            if v not in newvs:\n",
    "                newvs.append(v)\n",
    "        cs.append(smt.substitute(c, *newvs)) # sometyhing here. Not this\n",
    "    newvs, decl(*cs)\n",
    "    \n",
    "\n",
    "\n",
    "\n"
   ]
  },
  {
   "cell_type": "code",
   "execution_count": null,
   "metadata": {},
   "outputs": [],
   "source": [
    "(e, [])"
   ]
  },
  {
   "cell_type": "code",
   "execution_count": null,
   "metadata": {},
   "outputs": [],
   "source": []
  },
  {
   "cell_type": "code",
   "execution_count": null,
   "metadata": {},
   "outputs": [
    {
     "data": {
      "text/plain": [
       "(Perm(data={0: 3, 3: 0}), 'VAR')"
      ]
     },
     "execution_count": 33,
     "metadata": {},
     "output_type": "execute_result"
    }
   ],
   "source": [
    "from dataclasses import dataclass\n",
    "\n",
    "@dataclass\n",
    "class Perm():\n",
    "    data : dict\n",
    "    def __init__(self, data):\n",
    "        assert set(data.keys()) == set(data.values())\n",
    "        self.data = {k : v for k,v in data.items() if k != v} # compress away self mappings\n",
    "    def __matmul__(self, other):\n",
    "        p1 = self.data\n",
    "        p2 = other.data\n",
    "        meets = set(p2.values()).intersection(set(p1.keys()))\n",
    "        ip2 = ~p2\n",
    "        pass2 = { k : v for k,v in p2.items() if v not in meets }\n",
    "        pass1 = { k : v for k,v in p1.items() if k not in meets }\n",
    "        compo = {ip2[m] : p1[m]  for m in meets}\n",
    "        return Perm({**pass1, **compo, **pass2})\n",
    "    def __invert__(self):\n",
    "        return Perm({v : k for k, v in self.data.items()})\n",
    "    def support(self):\n",
    "        return set(self.data.keys())\n",
    "    #def __call__(self, x):\n",
    "id_ = Perm({})\n",
    "\n",
    "def Var(n):\n",
    "    return (Perm({0 : n, n : 0}), \"VAR\")\n",
    "\n",
    "Var(3)\n",
    "\n",
    "def Const(x):\n",
    "    return (id_, x)\n",
    "\n",
    "\n",
    "def Fun(f, *args):\n",
    "    pf = Perm({})\n",
    "    norm_args = []\n",
    "    for p,x in args:\n",
    "        unfixed_vars = p.support() - pf.support()\n",
    "        \n",
    "        norm_args.append(( , x))\n",
    "\n",
    "    return (id_, (f, args))\n",
    "\n",
    "\n",
    "def min_perm(p, vs):\n",
    "    # given permuation p and permutable variables vs, find a minimum permutation that only moves non-vs ? Is this cogent?\n"
   ]
  },
  {
   "cell_type": "markdown",
   "metadata": {},
   "source": [
    "\n",
    "We can replace (P, eid) pairs everywhere.\n",
    "f applied to `(p1, eid)` `(p2, eid)`\n",
    "p3, f((p1',eid), (p2',eid))\n",
    "\n",
    "1. compress to 0,1,2,3\n",
    "2. search over all permutations.\n",
    "3. apply them to (p1, p2) pair. Take least one.\n",
    "\n",
    "This is not the traversal algorithm.\n",
    "\n"
   ]
  },
  {
   "cell_type": "code",
   "execution_count": null,
   "metadata": {},
   "outputs": [],
   "source": [
    "(perm, eid)"
   ]
  },
  {
   "cell_type": "markdown",
   "metadata": {},
   "source": [
    "I'm trying to lex minimize a sequence of permutations.\n",
    "\n",
    "nat -> nat, maybe permutations could be seen as multisets\n",
    "But I want id to be minimal.\n",
    "I want smaller support to be smaller\n",
    "And I want the support\n",
    "\n",
    "maybe I do need to have number of vars at play to not be implicit.\n",
    "\n",
    "search over all permutations? maybe this is close to an intractable problem.\n",
    "\n",
    "Yea, I feel like we're pushing the traversal up. We don't actually have to sweep the term. We can just work on the permutations.\n",
    "So the first n vars\n",
    "\n",
    "If you do hashconsing of actual sweeping, you need to relabel the term when you come down again. Or you could cache it I suppose.\n",
    "But why store both. Really you should store the swept term + a relabeling. Does the relabeling have to be a permutation?\n",
    "\n",
    "\n",
    "Nominal hash consing\n",
    "\n",
    "Leaving a term partially un hashconsed. Some symbols are not hashconsed and become part of the identifier. That's EMT - union find. HashCons Modulo Theories.\n",
    "This is basically the msart constructor idea. You don't intern until you know the rewrite rules are done.\n",
    "\n",
    "ground tags is nice optimization\n",
    "\n",
    "Find the relabelling. Don't do it though. carry it up. Isomorphic kind of to just storing canonical and noncanonical form.\n",
    "\n",
    "\n",
    "Maybe take the hash cons out.\n",
    "PermTerms\n",
    "\n",
    "Maybe I do need to pass the vars down to subargs? Another level of Perm indirection?\n",
    "\n",
    "@dataclass\n",
    "class Fn(Term):\n",
    "    name : str\n",
    "    args : tuple[tuple[Perm,Term],...]\n",
    "\n",
    "\n",
    "lam x,y,z. f(e1(x,y), e2(y,z))\n",
    "\n",
    "lam x,y. e1(x,y) = lambd x1, y1. f(e3(x1))\n",
    "\n",
    "Non ground, But at pretty special positions.\n",
    "e(X,Y) = f()\n",
    "Hmm.\n",
    "what about protecting with a v constructor. v constructors have no rules...\n",
    "v(X)\n",
    "But I want v(X) != v(Y) for alpha... Rigidity.\n",
    "X != Y -> v(X) != v(Y) injectivity.\n",
    "\n",
    "collect ineq constraints.\n",
    "X != Y | f(v(X), v(Y)) \n",
    "~$distinct(X,Y,Z) | \n",
    "If we leave off distinct, the v fail to be rigid. Which makes them less like free vars and more like schmatic vars.\n",
    "This might work. An encoding of a notion of nominality.\n",
    "v always being at the leaves means some overlaps can't happen. And it all Vars occurs in v, then it is is quasi ground in a sense.\n",
    "app(lam(v(X), v(X)), E) = E\n",
    "Nah. This isn't going to work. We need to somehow know about renaming, and we don't get that we are distinct from some other thing... right?\n",
    "\n",
    "SHould these be capable of overlap or not? ... Yessss.... ?\n",
    "f(v(X)) = p\n",
    "f(v(Y)) = q\n",
    "\n",
    "constructor-ground. All non grounds are surrounded by constructors?\n",
    "This might be terminating.\n",
    "\n",
    "X != Y ->\n",
    "v(X) = v(Y). This can't be oriented.\n",
    "plus(V(X), V(Y)) = plus(V(Y), V(X)). This can't be oriented.\n",
    "But ground completeable\n",
    "X < Y -> plus(v(Y), v(X)) --> plus(v(X), v(Y))\n",
    "\n",
    "resolution provers have _some_ method baked in to deal with var symmettries.\n",
    "\n",
    "what about de bruijn. What's wrong with that?\n",
    "app(lam(v0), x) = x\n",
    "\n",
    "app(app(lam(lam(vs(vz)))),p,q) = q\n",
    "\n",
    "\n",
    "\n"
   ]
  },
  {
   "cell_type": "code",
   "execution_count": null,
   "metadata": {},
   "outputs": [
    {
     "data": {
      "text/plain": [
       "Var(perm=Perm(data={3: 0, 0: 3}))"
      ]
     },
     "execution_count": 45,
     "metadata": {},
     "output_type": "execute_result"
    }
   ],
   "source": [
    "@dataclass\n",
    "class Term:\n",
    "    perm : Perm\n",
    "\n",
    "@dataclass\n",
    "class Fn(Term):\n",
    "    name : str\n",
    "    args : tuple[Term,...]\n",
    "\n",
    "@dataclass\n",
    "class Var(Term):\n",
    "    pass    \n",
    "\n",
    "def V(n):\n",
    "    return Var(Perm({n : 0, 0 : n}))\n",
    "V(3)\n",
    "\n",
    "\n"
   ]
  },
  {
   "cell_type": "code",
   "execution_count": null,
   "metadata": {},
   "outputs": [],
   "source": [
    "class DoubleTerm():\n",
    "    uncanon\n",
    "    canon"
   ]
  },
  {
   "cell_type": "code",
   "execution_count": 42,
   "metadata": {},
   "outputs": [],
   "source": [
    "class Fn():\n",
    "    _instances = {}\n",
    "    def __init__(self, name, *args):\n",
    "        self.name = name\n",
    "        self.args = args\n",
    "    def __new__(cls, name, *args):\n",
    "        if (name, args) in cls._instances:\n",
    "            return cls._instances[(name, args)]\n",
    "        else:\n",
    "            instance = super(Fn, cls).__new__(cls)\n",
    "            cls._instances[(name, args)] = instance\n",
    "            return instance\n",
    "    # maybe this is defulat?\n",
    "    def __hash__(self):\n",
    "       return hash(id(self)) #return hash((self.name, self.args))\n",
    "    def __eq__(self, other):\n",
    "        return self is other\n",
    "    def __repr__(self):\n",
    "        return f\"Fn({self.name}, {self.args})\"\n",
    "\n",
    "x = Fn(\"F\")\n",
    "y = Fn(\"F\")\n",
    "assert x is y\n",
    "z = Fn(\"F\", 1)\n",
    "w = Fn(\"F\", 1)\n",
    "assert z is w\n",
    "assert not z is y\n",
    "q = Fn(\"F\", x, x)\n",
    "q2 = Fn(\"F\", x, x)\n",
    "assert q is q2"
   ]
  },
  {
   "cell_type": "code",
   "execution_count": 19,
   "metadata": {},
   "outputs": [
    {
     "data": {
      "text/plain": [
       "{}"
      ]
     },
     "execution_count": 19,
     "metadata": {},
     "output_type": "execute_result"
    }
   ],
   "source": [
    "from kdrag.all import *\n",
    "from dataclasses import dataclass\n",
    "\n",
    "def inv(p):\n",
    "    return {v : k for k, v in p.items()}    \n",
    "\n",
    "def comp(p1,p2):\n",
    "    meets = set(p2.values()).intersection(set(p1.keys()))\n",
    "    ip2 = inv(p2)\n",
    "    pass2 = { k : v for k,v in p2.items() if v not in meets }\n",
    "    pass1 = { k : v for k,v in p1.items() if k not in meets }\n",
    "    compo = {ip2[m] : p1[m]  for m in meets}\n",
    "    compo = {k : v for k,v in compo.items() if not k.eq(v)} # compress away self mappings\n",
    "    return {**pass1, **compo, **pass2}\n",
    "\n",
    "def act(p, t):\n",
    "    return smt.substitute(p, *t.items())\n",
    "\n",
    "a,b,c,d,e,f,g,h = smt.Ints(\"a b c d e f g h\")\n",
    "\n",
    "p1 = {a : b, b : c, c : a}\n",
    "p2 = {d : e, e : f, f : d}\n",
    "assert comp(p1,p2) == {**p1, **p2}\n",
    "p3 = {a : d, d : a}\n",
    "assert comp(p1,p3) == {b : c, c : a, d : b, a : d}\n",
    "\n",
    "comp(inv(p1),p1)"
   ]
  },
  {
   "cell_type": "markdown",
   "metadata": {},
   "source": [
    "The set of keys and values have to be the same right? Yes.\n",
    "\n",
    "but what if then further canon make x be self mapped?\n",
    "\n",
    "\n",
    "maybe no compress.\n",
    "Just brute force the entire space of the current 0-n\n",
    "\n",
    "https://en.wikipedia.org/wiki/Group_action\n",
    "\n",
    "slotted egraphs may be using both extended enodes and extended eids.\n",
    "\n",
    "\n"
   ]
  },
  {
   "cell_type": "code",
   "execution_count": null,
   "metadata": {},
   "outputs": [
    {
     "data": {
      "text/plain": [
       "[]"
      ]
     },
     "execution_count": 77,
     "metadata": {},
     "output_type": "execute_result"
    }
   ],
   "source": [
    "import itertools\n",
    "# permutations of 0.len(p) represented as dense lists.\n",
    "\n",
    "def mul(p1, p2): # multiply\n",
    "    return trim([p1[j] if j < len(p1) else j for j in p2] + p1[len(p2):])\n",
    "\n",
    "def act(p,q):\n",
    "    return mul(p,q)\n",
    "#def act(p, q):\n",
    "#    return mul(mul(p, q), inv(p))\n",
    "# conjugate?\n",
    "\n",
    "def inv(p):\n",
    "    q = [0]*len(p)\n",
    "    for i,j in enumerate(p):\n",
    "        q[j] = i\n",
    "    return q\n",
    "\n",
    "def id_(n):\n",
    "    return list(range(n))\n",
    "\n",
    "act(id_(1), id_(3))\n",
    "act([1,0], [1,0,2])\n",
    "\n",
    "\n",
    "def trim(p):\n",
    "    # removed tail which is just identity permutation\n",
    "    p = list(p)\n",
    "    while p and p[-1] == len(p)-1:\n",
    "        p.pop()\n",
    "    return p\n",
    "\n",
    "def swap(i,j):\n",
    "    if i == j:\n",
    "        return []\n",
    "    else:\n",
    "        p = list(range(max(i,j)+1))\n",
    "        p[i], p[j] = j, i\n",
    "        return p\n",
    "\n",
    "trim(id_(3))\n",
    "trim([1,0,2])\n",
    "\n",
    "# sup = len(trim(p))\n",
    "\n",
    "def canon(*ps):\n",
    "    ps = [trim(p) for p in ps]\n",
    "    sup = max(len(p) for p in ps)\n",
    "    return trim(min(itertools.permutations(range(sup)), key=lambda a: [act(list(a), p) for p in ps]))\n",
    "\n",
    "act(canon([2,0,1]), [2,0,1]) # This should always be the identity.\n",
    "# in turn, we can always make the first argument the identity. THen the rest have to search over things that make the first invariant.\n"
   ]
  },
  {
   "cell_type": "code",
   "execution_count": null,
   "metadata": {},
   "outputs": [],
   "source": [
    "table = {}\n",
    "nodes = []\n",
    "def hashcons(t):\n",
    "    if t in table:\n",
    "        return table[t]\n",
    "    else:\n",
    "        e = len(nodes)\n",
    "        table[t] = e #len(nodes)\n",
    "        nodes.append(t)\n",
    "        return e\n",
    "\n",
    "def fn(name):\n",
    "    def res(*args):\n",
    "        ps = [arg[0] for arg in args]\n",
    "        a = canon(*ps)\n",
    "        args = tuple((tuple(act(a,p)),eid) for p,eid in args)\n",
    "        return (a, hashcons((name, args)))\n",
    "    return res\n",
    "def var(n): # maybe make these negative?\n",
    "    return swap(0,n), hashcons(None)\n",
    "def const(x):\n",
    "    return (), hashcons(x)\n",
    "\n",
    "v0,v1,v2 = [var(x) for x in range(3)]\n",
    "a,b,c = [const(x) for x in \"abc\"]\n",
    "\n",
    "v0\n",
    "v1\n",
    "v2\n",
    "f = fn(\"f\")\n",
    "f(v1,v0,v1)\n",
    "table\n",
    "#f(a,b,c)\n",
    "def arg(pid, n):\n",
    "    p, eid = pid\n",
    "    name, args = nodes[eid]\n",
    "    (q, argid) = args[n]\n",
    "    return act(p,q), argid\n",
    "\n",
    "assert arg(f(v1,v0,v1), 0) == v1\n",
    "assert arg(f(v1,v0,v1), 1) == v0\n",
    "assert arg(f(v1,v0,v1), 2) == v1\n",
    "\n",
    "print(\"102\", f(v1,v0,v2)) #== \n",
    "print(\"210\", f(v2,v1,v0))\n",
    "print(f(v0, v1, v2))\n",
    "print(f(v0,v0,v0))\n",
    "print(f(v1,v1,v1))\n",
    "print(\"001\", f(v0,v0, v1))\n",
    "print(\"110\", f(v1,v1,v0))\n",
    "table"
   ]
  },
  {
   "cell_type": "code",
   "execution_count": 83,
   "metadata": {},
   "outputs": [
    {
     "name": "stdout",
     "output_type": "stream",
     "text": [
      "[[], [1, 0], [2, 1, 0]]\n"
     ]
    },
    {
     "data": {
      "text/plain": [
       "[[[], [1, 0], [2, 1, 0]],\n",
       " [[0, 2, 1], [2, 0, 1], [1, 2, 0]],\n",
       " [[1, 0], [], [2, 0, 1]],\n",
       " [[1, 2, 0], [2, 1, 0], [0, 2, 1]],\n",
       " [[2, 0, 1], [0, 2, 1], [1, 0]],\n",
       " [[2, 1, 0], [1, 2, 0], []]]"
      ]
     },
     "execution_count": 83,
     "metadata": {},
     "output_type": "execute_result"
    }
   ],
   "source": [
    "ps = [v0[0], v1[0], v2[0]]\n",
    "c = [[act(list(a), p) for p in ps]  for a in itertools.permutations(range(3))]\n",
    "print(min(c))\n",
    "c"
   ]
  },
  {
   "cell_type": "code",
   "execution_count": 85,
   "metadata": {},
   "outputs": [
    {
     "name": "stdout",
     "output_type": "stream",
     "text": [
      "[[], [2, 0, 1], [1, 0]]\n"
     ]
    },
    {
     "data": {
      "text/plain": [
       "[[[1, 0], [2, 1, 0], []],\n",
       " [[2, 0, 1], [1, 2, 0], [0, 2, 1]],\n",
       " [[], [2, 0, 1], [1, 0]],\n",
       " [[2, 1, 0], [0, 2, 1], [1, 2, 0]],\n",
       " [[0, 2, 1], [1, 0], [2, 0, 1]],\n",
       " [[1, 2, 0], [], [2, 1, 0]]]"
      ]
     },
     "execution_count": 85,
     "metadata": {},
     "output_type": "execute_result"
    }
   ],
   "source": [
    "ps = [v1[0], v2[0], v0[0]]\n",
    "c = [[act(list(a), p) for p in ps]  for a in itertools.permutations(range(3))]\n",
    "print(min(c))\n",
    "c"
   ]
  },
  {
   "cell_type": "code",
   "execution_count": 71,
   "metadata": {},
   "outputs": [
    {
     "data": {
      "text/plain": [
       "[1, 0, 2]"
      ]
     },
     "execution_count": 71,
     "metadata": {},
     "output_type": "execute_result"
    }
   ],
   "source": [
    "inv([1,0,2])"
   ]
  },
  {
   "cell_type": "code",
   "execution_count": 36,
   "metadata": {},
   "outputs": [
    {
     "data": {
      "text/plain": [
       "[0, 1, 2, 4, 3]"
      ]
     },
     "execution_count": 36,
     "metadata": {},
     "output_type": "execute_result"
    }
   ],
   "source": [
    "swap(1,2)\n",
    "swap(3,4)"
   ]
  },
  {
   "cell_type": "code",
   "execution_count": null,
   "metadata": {},
   "outputs": [],
   "source": [
    "def canon(G):\n",
    "    N = max(max(e) for e in G) + 1 # number of vertices\n",
    "    return min([act(perm,G) for perm in itertools.permutations(range(N))]) "
   ]
  },
  {
   "cell_type": "code",
   "execution_count": null,
   "metadata": {},
   "outputs": [],
   "source": [
    "def compress(p):\n",
    "    return {i : k for i,k in enumerate(p.keys())}\n",
    "\n",
    "p * q * inv(p) # compresses to 0-n\n",
    "\n"
   ]
  },
  {
   "cell_type": "markdown",
   "metadata": {},
   "source": [
    "# Hash cons"
   ]
  },
  {
   "cell_type": "code",
   "execution_count": 49,
   "metadata": {},
   "outputs": [
    {
     "data": {
      "text/plain": [
       "3"
      ]
     },
     "execution_count": 49,
     "metadata": {},
     "output_type": "execute_result"
    }
   ],
   "source": [
    "table = {}\n",
    "nodes = []\n",
    "def hashcons(t):\n",
    "    if t in table:\n",
    "        return table[t]\n",
    "    else:\n",
    "        e = len(nodes)\n",
    "        table[t] = e #len(nodes)\n",
    "        nodes.append(t)\n",
    "        return e\n",
    "\n",
    "def fn(name):\n",
    "    def res(*args):\n",
    "        return hashcons((name, args))\n",
    "    return res\n",
    "def var(n): # maybe make these negative?\n",
    "    return hashcons(n)\n",
    "\n",
    "a,b,c = [hashcons(x) for x in \"abc\"]\n",
    "f = fn(\"f\")\n",
    "f(a,b,c)\n",
    "\n",
    "\n"
   ]
  },
  {
   "cell_type": "markdown",
   "metadata": {},
   "source": [
    "eids are now pairs of (perm, id)\n",
    "\n",
    "Yes I've acehive nothing.\n",
    "(perm, id, perm)  ?"
   ]
  },
  {
   "cell_type": "code",
   "execution_count": 78,
   "metadata": {},
   "outputs": [
    {
     "name": "stdout",
     "output_type": "stream",
     "text": [
      "102 ([1, 0], 5)\n",
      "210 ([2, 1, 0], 6)\n",
      "([], 7)\n",
      "([], 8)\n",
      "([1, 0], 8)\n",
      "001 ([], 9)\n",
      "110 ([1, 0], 9)\n"
     ]
    },
    {
     "data": {
      "text/plain": [
       "{None: 0,\n",
       " 'a': 1,\n",
       " 'b': 2,\n",
       " 'c': 3,\n",
       " ('f', (((), 0), ((1, 0), 0), ((), 0))): 4,\n",
       " ('f', (((), 0), ((1, 0), 0), ((2, 0, 1), 0))): 5,\n",
       " ('f', (((), 0), ((1, 2, 0), 0), ((2, 1, 0), 0))): 6,\n",
       " ('f', (((), 0), ((1, 0), 0), ((2, 1, 0), 0))): 7,\n",
       " ('f', (((), 0), ((), 0), ((), 0))): 8,\n",
       " ('f', (((), 0), ((), 0), ((1, 0), 0))): 9}"
      ]
     },
     "execution_count": 78,
     "metadata": {},
     "output_type": "execute_result"
    }
   ],
   "source": [
    "table = {}\n",
    "nodes = []\n",
    "def hashcons(t):\n",
    "    if t in table:\n",
    "        return table[t]\n",
    "    else:\n",
    "        e = len(nodes)\n",
    "        table[t] = e #len(nodes)\n",
    "        nodes.append(t)\n",
    "        return e\n",
    "\n",
    "def fn(name):\n",
    "    def res(*args):\n",
    "        ps = [arg[0] for arg in args]\n",
    "        a = canon(*ps)\n",
    "        args = tuple((tuple(act(a,p)),eid) for p,eid in args)\n",
    "        return (a, hashcons((name, args)))\n",
    "    return res\n",
    "def var(n): # maybe make these negative?\n",
    "    return swap(0,n), hashcons(None)\n",
    "def const(x):\n",
    "    return (), hashcons(x)\n",
    "\n",
    "v0,v1,v2 = [var(x) for x in range(3)]\n",
    "a,b,c = [const(x) for x in \"abc\"]\n",
    "\n",
    "v0\n",
    "v1\n",
    "v2\n",
    "f = fn(\"f\")\n",
    "f(v1,v0,v1)\n",
    "table\n",
    "#f(a,b,c)\n",
    "def arg(pid, n):\n",
    "    p, eid = pid\n",
    "    name, args = nodes[eid]\n",
    "    (q, argid) = args[n]\n",
    "    return act(p,q), argid\n",
    "\n",
    "assert arg(f(v1,v0,v1), 0) == v1\n",
    "assert arg(f(v1,v0,v1), 1) == v0\n",
    "assert arg(f(v1,v0,v1), 2) == v1\n",
    "\n",
    "print(\"102\", f(v1,v0,v2)) #== \n",
    "print(\"210\", f(v2,v1,v0))\n",
    "print(f(v0, v1, v2))\n",
    "print(f(v0,v0,v0))\n",
    "print(f(v1,v1,v1))\n",
    "print(\"001\", f(v0,v0, v1))\n",
    "print(\"110\", f(v1,v1,v0))\n",
    "table"
   ]
  },
  {
   "cell_type": "markdown",
   "metadata": {},
   "source": [
    "A slotted hash cons. ()"
   ]
  },
  {
   "cell_type": "code",
   "execution_count": null,
   "metadata": {},
   "outputs": [],
   "source": [
    "table = {}\n",
    "def hashcons(c):\n",
    "    if c in table: # This part is doing an unnesarily slow recursive hashing\n",
    "        return table[c] # and this\n",
    "    else:\n",
    "        table[c] = c\n",
    "        return c\n",
    "\n",
    "x = (4,(8,6))    \n",
    "y = hashcons(x)\n",
    "\n",
    "z = (4,(8,6))\n",
    "assert not z is y\n",
    "q = hashcons(z)\n",
    "assert q is y\n",
    "\n",
    "\n",
    "\n",
    "\n"
   ]
  },
  {
   "cell_type": "code",
   "execution_count": null,
   "metadata": {},
   "outputs": [],
   "source": [
    "id_table = {}\n",
    "child_table = {}\n",
    "def hashcons(c):    \n",
    "    v = id_table.get(id(c), None)\n",
    "    if v is not None:\n",
    "        return v\n",
    "    else:\n",
    "        v = child_table.get(tuple(id(child) for child in c))\n",
    "        if v is not None:\n",
    "            return v\n",
    "        else:\n",
    "            id_table[id(c)] = c\n",
    "            child_table[tuple(id(child) for child in c)] = c\n",
    "            return c\n",
    "\n"
   ]
  },
  {
   "cell_type": "code",
   "execution_count": null,
   "metadata": {},
   "outputs": [],
   "source": [
    "child_table = {}\n",
    "def hashcons(c):    \n",
    "    v = child_table.get(type(c) + tuple(id(child) for child in c))\n",
    "    if v is not None:\n",
    "        return v\n",
    "    else:\n",
    "        child_table[tuple(id(child) for child in c)] = c\n",
    "        return c"
   ]
  },
  {
   "cell_type": "markdown",
   "metadata": {},
   "source": [
    "https://www.geeksforgeeks.org/object-interning-in-python/ This is also kind of reminiscent of \"typeclasses\"\n",
    "\n",
    "\n"
   ]
  },
  {
   "cell_type": "code",
   "execution_count": null,
   "metadata": {},
   "outputs": [],
   "source": [
    "class MyClass:\n",
    "    _instances = {}\n",
    "    def __new__(cls, value):\n",
    "        if value in cls._instances:\n",
    "            return cls._instances[value]\n",
    "        else:\n",
    "            instance = super().__new__(cls)\n",
    "            cls._instances[value] = instance\n",
    "            return instance\n",
    "\n",
    "    def __init__(self, value):\n",
    "        self.value = value\n",
    "a = MyClass(20)\n",
    "b = MyClass(50)\n",
    "print(a is b)"
   ]
  },
  {
   "cell_type": "code",
   "execution_count": null,
   "metadata": {},
   "outputs": [],
   "source": [
    "class HashTuple(tuple):\n",
    "    \n",
    "    def __hash__(self):\n",
    "        for "
   ]
  },
  {
   "cell_type": "code",
   "execution_count": 31,
   "metadata": {},
   "outputs": [
    {
     "ename": "AttributeError",
     "evalue": "'tuple' object has no attribute 'interned'",
     "output_type": "error",
     "traceback": [
      "\u001b[0;31m---------------------------------------------------------------------------\u001b[0m",
      "\u001b[0;31mAttributeError\u001b[0m                            Traceback (most recent call last)",
      "Cell \u001b[0;32mIn[31], line 2\u001b[0m\n\u001b[1;32m      1\u001b[0m x \u001b[38;5;241m=\u001b[39m (\u001b[38;5;241m1\u001b[39m,\u001b[38;5;241m2\u001b[39m,\u001b[38;5;241m3\u001b[39m)\n\u001b[0;32m----> 2\u001b[0m \u001b[43mx\u001b[49m\u001b[38;5;241;43m.\u001b[39;49m\u001b[43minterned\u001b[49m \u001b[38;5;241m=\u001b[39m \u001b[38;5;28;01mTrue\u001b[39;00m\n",
      "\u001b[0;31mAttributeError\u001b[0m: 'tuple' object has no attribute 'interned'"
     ]
    }
   ],
   "source": [
    "x = (1,2,3)\n",
    "x.interned = True"
   ]
  },
  {
   "cell_type": "code",
   "execution_count": null,
   "metadata": {},
   "outputs": [],
   "source": [
    "table = {}\n",
    "def hashcons(c):\n",
    "    p,x = c\n",
    "    if x in table: # This part is doing an unnesarily slow recursive hashing\n",
    "        return p, table[x] # and this\n",
    "        # p1,x = table[x]\n",
    "    else:\n",
    "        table[x] = x\n",
    "        return p, x\n",
    "\n",
    "x = (4,(8,6))    \n",
    "y = hashcons(x)\n",
    "\n",
    "z = (4,(8,6))\n",
    "assert not z is y\n",
    "q = hashcons(z)\n",
    "assert q is y\n",
    "\n"
   ]
  },
  {
   "cell_type": "code",
   "execution_count": 30,
   "metadata": {},
   "outputs": [
    {
     "name": "stdout",
     "output_type": "stream",
     "text": [
      "hashcheck\n",
      "done\n",
      "hashcheck\n",
      "hashcheck\n",
      "hashcheck\n",
      "hashcheck\n",
      "hashcheck\n",
      "hashcheck\n"
     ]
    },
    {
     "data": {
      "text/plain": [
       "True"
      ]
     },
     "execution_count": 30,
     "metadata": {},
     "output_type": "execute_result"
    }
   ],
   "source": [
    "class Testo():\n",
    "    def __hash__(self):\n",
    "        print(\"hashcheck\")\n",
    "        return object.__hash__(self)\n",
    "    \n",
    "x = Testo()\n",
    "p = {x : 1}\n",
    "print(\"done\")\n",
    "p = {(x,(x,x)) : 1}\n",
    "(x,(x,x)) in p"
   ]
  },
  {
   "cell_type": "code",
   "execution_count": 14,
   "metadata": {},
   "outputs": [
    {
     "data": {
      "text/plain": [
       "3"
      ]
     },
     "execution_count": 14,
     "metadata": {},
     "output_type": "execute_result"
    }
   ],
   "source": [
    "smt.Sum(a*b, b*c, c*a).num_args()"
   ]
  },
  {
   "cell_type": "code",
   "execution_count": null,
   "metadata": {},
   "outputs": [
    {
     "data": {
      "text/plain": [
       "[eid!0 == eid!1 + eid!2,\n",
       " eid!2 == c,\n",
       " eid!1 == eid!3*eid!4,\n",
       " eid!4 == b,\n",
       " eid!3 == a]"
      ]
     },
     "execution_count": 10,
     "metadata": {},
     "output_type": "execute_result"
    }
   ],
   "source": [
    "def flatten(t):\n",
    "    todo = [(smt.FreshConst(t.sort(), prefix=\"eid\"), t)]\n",
    "    res = []\n",
    "    while todo:\n",
    "        eid, t = todo.pop()\n",
    "        fresh = [smt.FreshConst(c.sort() , prefix=\"eid\") for c in t.children()]\n",
    "        res.append(eid == t.decl()(*fresh))\n",
    "        todo.extend(zip(fresh, t.children()))\n",
    "    return res\n",
    "\n",
    "flatten(a * b + c)\n",
    "\n",
    "# unionfind of eids\n"
   ]
  },
  {
   "cell_type": "code",
   "execution_count": null,
   "metadata": {},
   "outputs": [],
   "source": [
    "class Perm(dict):\n",
    "    def __matmal__(self, other):\n",
    "        return comp(self, other)\n",
    "    def __invert__(self):\n",
    "        return inv(self)\n",
    "    def __add__(self, other):\n",
    "        return comp(self, other)\n",
    "    def __negate__(self):\n",
    "        return inv(self)\n",
    "    \n",
    "id_ = {}\n",
    "\n",
    "class GroupUF:\n",
    "    uf : []\n",
    "    grp : []\n",
    "\n",
    "    def find(self, px):\n",
    "        (p,x) = px\n",
    "        while self.uf[x] != x:\n",
    "            p = p + self.grp[x]\n",
    "            x = self.uf[x]\n",
    "        return (p, x)\n",
    "    def union(self, px1, px2):\n",
    "        (p1,x1) = self.find(px1)\n",
    "        (p2,x2) = self.find(px2)\n",
    "        if x1 != x2:\n",
    "            self.uf[x1] = x2\n",
    "            self.grp[x1] = (-p2) + p1\n",
    "        elif x1 == x2 and p1 != p2:\n",
    "            raise Exception(\"Inconsistent union\")\n",
    "\n",
    "\n",
    "class EGraph:\n",
    "    enodes :\n",
    "    eclasses : \n",
    "    "
   ]
  }
 ],
 "metadata": {
  "kernelspec": {
   "display_name": ".venv",
   "language": "python",
   "name": "python3"
  },
  "language_info": {
   "codemirror_mode": {
    "name": "ipython",
    "version": 3
   },
   "file_extension": ".py",
   "mimetype": "text/x-python",
   "name": "python",
   "nbconvert_exporter": "python",
   "pygments_lexer": "ipython3",
   "version": "3.12.3"
  }
 },
 "nbformat": 4,
 "nbformat_minor": 2
}
