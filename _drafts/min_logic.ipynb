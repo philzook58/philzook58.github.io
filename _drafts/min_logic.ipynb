{
 "cells": [
  {
   "cell_type": "markdown",
   "metadata": {},
   "source": [
    "\n",
    "\n",
    "Nate was talking about quantifier alternation\n",
    "min, max, exists, forall\n",
    "\n",
    "If your source lnaguage doesn't include min, yeah, you can encode it using some more quantifiers\n",
    "It's a natrual primtivie notion\n",
    "\n",
    "MaxSat + QBF?\n",
    "https://sat.inesc-id.pt/~mikolas/sat13-mxqbf-preprint.pdf  Quantified Maximum Satisfiability:\n",
    "A Core-Guided Approach\n",
    "MAX-QSAT\n",
    "\n",
    "fixed point logic. Kozen u-calculus\n",
    "mcrl2 boolean equation systems\n",
    "\n",
    "He mentioned shape types at oopsla\n",
    "\n",
    "https://dl.acm.org/doi/pdf/10.1145/3689774 AUTOMAP: Inferring Rank-Polymorphic Function\n",
    "Applications with Integer Linear Programming\n",
    "\n",
    "https://github.com/FlorentAvellaneda/EvalMaxSAT\n",
    "https://github.com/sat-group/open-wbo\n",
    "https://github.com/jezberg/loandra this has ioen-wbo in it\n",
    "\n",
    "https://bitbucket.org/coreo-group/maxpre2/src/master/  maxpre2\n",
    "\n",
    "https://en.wikipedia.org/wiki/%CE%9C_operator  μ operator"
   ]
  },
  {
   "cell_type": "code",
   "execution_count": null,
   "metadata": {},
   "outputs": [],
   "source": [
    "def mu(R):\n",
    "    def res(*args):\n",
    "        i = 0\n",
    "        while True:\n",
    "            if R(i, *args):\n",
    "                return i\n",
    "            i += 1\n",
    "    return res\n",
    "\n",
    "def bany(y,f):\n",
    "    def res(*args):\n",
    "        for i in range(y):\n",
    "            if f(i, *args):\n",
    "                return True\n",
    "        return False\n",
    "    return res\n",
    "def ball(y,f):\n",
    "    def res(*args):\n",
    "        for i in range(y):\n",
    "            if not f(i, *args):\n",
    "                return False\n",
    "        return True\n",
    "    return res\n",
    "def all():\n",
    "    #unbounded all search\n",
    "    return p(mu(p))\n",
    "def bmu(y,f):\n",
    "    pass\n",
    "def rec(f):\n",
    "    pass\n",
    "    #def res(*args):\n",
    "    #    return f(res, *args)\n",
    "    #return res"
   ]
  },
  {
   "cell_type": "markdown",
   "metadata": {},
   "source": [
    "symbolic reasoning\n",
    "\n",
    "\n",
    "import z3\n",
    "\n",
    "Exists([x], )"
   ]
  },
  {
   "cell_type": "markdown",
   "metadata": {},
   "source": [
    "boolean equation systems https://mcrl2.org/web/user_manual/language_reference/bes.html\n",
    "similar to QBF in that one can brute force expand at the cost of expotnential increasing formula size.\n",
    "https://cs.stackexchange.com/questions/141254/definition-and-use-of-a-boolean-equation-system should answer this one"
   ]
  },
  {
   "cell_type": "code",
   "execution_count": null,
   "metadata": {},
   "outputs": [],
   "source": [
    "def mu(f):\n",
    "    if not f(False): # False is minimum fixed point\n",
    "        return False\n",
    "    else: # are we gauranteed True is a fixed point? No I'd think.\n",
    "        return True\n"
   ]
  },
  {
   "cell_type": "markdown",
   "metadata": {},
   "source": []
  },
  {
   "cell_type": "markdown",
   "metadata": {},
   "source": [
    "Bressham program as mixed integer program. Fill in pixels to best approimxate line somehow.\n",
    "https://en.wikipedia.org/wiki/Bresenham%27s_line_algorithm That's a fun idea\n",
    "\n",
    "\n",
    "maxsat\n",
    "comparing MIP, maxsat, csp, asp.\n",
    "Give it a whirl\n",
    "\n"
   ]
  }
 ],
 "metadata": {
  "kernelspec": {
   "display_name": "Python 3",
   "language": "python",
   "name": "python3"
  },
  "language_info": {
   "name": "python",
   "version": "3.10.12"
  }
 },
 "nbformat": 4,
 "nbformat_minor": 2
}
