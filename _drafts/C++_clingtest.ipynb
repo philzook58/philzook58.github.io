{
 "cells": [
  {
   "cell_type": "code",
   "execution_count": 1,
   "metadata": {},
   "outputs": [
    {
     "name": "stdout",
     "output_type": "stream",
     "text": [
      "Hello, World!\n"
     ]
    }
   ],
   "source": [
    "#include <iostream>\n",
    "std::cout << \"Hello, World!\" << std::endl;"
   ]
  },
  {
   "cell_type": "markdown",
   "metadata": {},
   "source": [
    "So I did use conda.\n",
    "And a special cling conda env.\n",
    "`conda config --set auto_activate_base false`\n",
    "https://stackoverflow.com/questions/54429210/how-do-i-prevent-conda-from-activating-the-base-environment-by-default\n",
    "\n",
    "Why in god's green earth would going to base be the default\n",
    "\n",
    "https://xeus-cling.readthedocs.io/en/latest/build_options.html\n",
    "#pragma cling add_include_path(\"inc_directory\")\n",
    "#pragma cling add_library_path(\"lib_directory\")\n",
    "\n",
    "#pragma cling load(\"libname\")"
   ]
  },
  {
   "cell_type": "markdown",
   "metadata": {},
   "source": [
    "https://cppyy.readthedocs.io/en/latest/"
   ]
  },
  {
   "cell_type": "code",
   "execution_count": 1,
   "metadata": {},
   "outputs": [
    {
     "name": "stdout",
     "output_type": "stream",
     "text": [
      "Hello, World!\n"
     ]
    },
    {
     "name": "stderr",
     "output_type": "stream",
     "text": [
      "/home/philip/philzook58.github.io/.venv/lib/python3.12/site-packages/cppyy/__init__.py:383: UserWarning: CPyCppyy API not found (tried: /home/philip/philzook58.github.io/.venv/lib/python3.12/site-packages/../../../include/site/python3.12); set CPPYY_API_PATH envar to the 'CPyCppyy' API directory to fix\n",
      "  warnings.warn(\"CPyCppyy API not found (tried: %s); \"\n"
     ]
    }
   ],
   "source": [
    "import cppyy\n",
    "cppyy.cppdef(r\"\"\"\\\n",
    "void hello() {\n",
    "    std::cout << \"Hello, World!\" << std::endl;\n",
    "}\"\"\")\n",
    "cppyy.gbl.hello()"
   ]
  },
  {
   "cell_type": "code",
   "execution_count": 1,
   "metadata": {},
   "outputs": [
    {
     "name": "stdout",
     "output_type": "stream",
     "text": [
      "Writing /tmp/test.cpp\n"
     ]
    }
   ],
   "source": [
    "%%file /tmp/test.cpp\n",
    "\n",
    "#include <algorithm>\n",
    "#include <chrono>\n",
    "#include <iostream>\n",
    "#include <random>\n",
    "#include <vector>\n",
    "\n",
    "int main() {\n",
    "  std::vector<int> v(1<<20);\n",
    "  std::mt19937 rng(123);\n",
    "  std::generate(v.begin(), v.end(), [&]{ return (int)rng(); });\n",
    "\n",
    "  auto t0 = std::chrono::high_resolution_clock::now();\n",
    "  std::sort(v.begin(), v.end());\n",
    "  auto t1 = std::chrono::high_resolution_clock::now();\n",
    "\n",
    "  double ms = std::chrono::duration<double,std::milli>(t1 - t0).count();\n",
    "  std::cout << \"sort(2^20) took \" << ms << \" ms\\n\";\n",
    "}\n"
   ]
  },
  {
   "cell_type": "code",
   "execution_count": 4,
   "metadata": {},
   "outputs": [
    {
     "name": "stdout",
     "output_type": "stream",
     "text": [
      "\u001b[0m\u001b[K"
     ]
    },
    {
     "name": "stdout",
     "output_type": "stream",
     "text": [
      "\u001b[K\u001b[31;1merror:\u001b[0m path '\u001b[35;1m/nix/store/jiivm432bvnzhrnsf8xr9115z7b2l5x2-gcc-wrapper-14.3.0-man\u001b[0m' is a symlink\u001b[0m\n"
     ]
    }
   ],
   "source": [
    "! nix shell nixpkgs#gcc --command bash -lc \"g++ -O3 -march=native -std=c++20 bench.cpp -o bench && ./bench\""
   ]
  },
  {
   "cell_type": "markdown",
   "metadata": {},
   "source": [
    "# C++26\n",
    "\n",
    "reflection\n",
    "C++23\n",
    "\n",
    "\n"
   ]
  },
  {
   "cell_type": "markdown",
   "metadata": {},
   "source": [
    "https://en.cppreference.com/w/cpp/language/coroutines.html"
   ]
  },
  {
   "cell_type": "code",
   "execution_count": 2,
   "metadata": {},
   "outputs": [
    {
     "name": "stdout",
     "output_type": "stream",
     "text": [
      "Writing /tmp/gen.cpp\n"
     ]
    }
   ],
   "source": [
    "%%file /tmp/gen.cpp\n",
    "#include <iostream>\n",
    "#include <coroutine>\n",
    "generator<unsigned int> iota(unsigned int n = 0)\n",
    "{\n",
    "    while (true)\n",
    "        co_yield n++;\n",
    "}\n",
    "\n",
    "int main(){\n",
    "    for (auto i : iota(0)) {\n",
    "        std::cout << i << std::endl;\n",
    "        if (i >= 10) break; // Limit to 10 for demonstration\n",
    "    }\n",
    "    return 0;\n",
    "}\n"
   ]
  },
  {
   "cell_type": "code",
   "execution_count": 3,
   "metadata": {},
   "outputs": [
    {
     "name": "stdout",
     "output_type": "stream",
     "text": [
      "\u001b[01m\u001b[K/tmp/gen.cpp:3:1:\u001b[m\u001b[K \u001b[01;31m\u001b[Kerror: \u001b[m\u001b[K‘\u001b[01m\u001b[Kgenerator\u001b[m\u001b[K’ does not name a type\n",
      "    3 | \u001b[01;31m\u001b[Kgenerator\u001b[m\u001b[K<unsigned int> iota(unsigned int n = 0)\n",
      "      | \u001b[01;31m\u001b[K^~~~~~~~~\u001b[m\u001b[K\n",
      "\u001b[01m\u001b[K/tmp/gen.cpp:\u001b[m\u001b[K In function ‘\u001b[01m\u001b[Kint\u001b[01;32m\u001b[K main\u001b[m\u001b[K()\u001b[m\u001b[K’:\n",
      "\u001b[01m\u001b[K/tmp/gen.cpp:10:19:\u001b[m\u001b[K \u001b[01;31m\u001b[Kerror: \u001b[m\u001b[K‘\u001b[01m\u001b[Kiota\u001b[m\u001b[K’ was not declared in this scope\n",
      "   10 |     for (auto i : \u001b[01;31m\u001b[Kiota\u001b[m\u001b[K(0)) {\n",
      "      |                   \u001b[01;31m\u001b[K^~~~\u001b[m\u001b[K\n"
     ]
    }
   ],
   "source": [
    "! g++ -std=c++23 -o /tmp/gen /tmp/gen.cpp"
   ]
  },
  {
   "cell_type": "code",
   "execution_count": null,
   "metadata": {},
   "outputs": [],
   "source": []
  },
  {
   "cell_type": "markdown",
   "metadata": {},
   "source": [
    "# algorithmica\n",
    "https://en.algorithmica.org/"
   ]
  }
 ],
 "metadata": {
  "kernelspec": {
   "display_name": "philzook58.github.io",
   "language": "python",
   "name": "python3"
  },
  "language_info": {
   "codemirror_mode": {
    "name": "ipython",
    "version": 3
   },
   "file_extension": ".py",
   "mimetype": "text/x-python",
   "name": "python",
   "nbconvert_exporter": "python",
   "pygments_lexer": "ipython3",
   "version": "3.12.3"
  }
 },
 "nbformat": 4,
 "nbformat_minor": 2
}
