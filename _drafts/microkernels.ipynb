{
 "cells": [
  {
   "cell_type": "markdown",
   "id": "2555729e",
   "metadata": {},
   "source": [
    "Atmosphere in rust Anton https://mars-research.github.io/projects/atmo/\n",
    "\n",
    "\n",
    "Safe kill the last instruction\n",
    "https://cacm.acm.org/research/safe-to-the-last-instruction/\n",
    "Safe to the Last Instruction: Automated Verification of a Type-Safe Operating System\n",
    "\n",
    "\n",
    "Noah kept talking about Nemesis and exokernels?\n",
    "\n",
    "Derviation trees in sel4\n",
    "self paging\n",
    "capability\n",
    "cornucopia reloaded\n",
    "\n",
    "aws nitro\n",
    "\n"
   ]
  }
 ],
 "metadata": {
  "language_info": {
   "name": "python"
  }
 },
 "nbformat": 4,
 "nbformat_minor": 5
}
