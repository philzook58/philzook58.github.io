{
 "cells": [
  {
   "cell_type": "code",
   "execution_count": null,
   "metadata": {},
   "outputs": [],
   "source": []
  },
  {
   "cell_type": "markdown",
   "metadata": {},
   "source": [
    "A thing I could do in knuckeldragger is implement some useful asbtract domains, and show correctness.\n",
    "Kind of interesting.\n",
    "Show they obey lattice laws.\n",
    "\n",
    "Intervals\n",
    "Hexagons.\n",
    "Polytopes.\n",
    "parity\n",
    "\n",
    "value analysis angr\n",
    "known bits\n",
    "https://bernsteinbear.com/blog/toy-abstract-interpretation/\n",
    "\n",
    "https://pypy.org/posts/2024/08/toy-knownbits.html oh wow. This is a goldmine. There is a  z3 version, and challenges (maximal precision) for which z3 alone fails but there is an existing proof.\n",
    "\n",
    "Actually copy and paste their code. Already in python and z3. We're golden. I can convert the python layer KnownBits to knuckeldragger KnownBits\n",
    "\n",
    "\n",
    "Hmm. Actually the C pretty printer could be useful here..."
   ]
  },
  {
   "cell_type": "code",
   "execution_count": null,
   "metadata": {},
   "outputs": [],
   "source": [
    "from kdrag.all import *\n",
    "\n",
    "KnownBits = kd.Struct(\"KnownBits\", [(\"ones\", smt.BitVecSort(64)), (\"unknowns\", smt.BitVecSort(64))])\n",
    "x,y,z = smt.Consts(\"x y z\", KnownBits)\n",
    "a,b,c = smt.Consts(\"a b c\", smt.BitVecSort(64))\n",
    "to_set = kd.define(\n",
    "    \"to_set\",[x],\n",
    "    smt.Lambda([a],\n",
    "                \n",
    "               ))\n",
    "\n",
    "sum_ones = x.ones + y.ones\n",
    "sum_unknowns = x.unknowns + y.unknowns\n",
    "all_carries = x.ones + y.ones\n",
    "ones_carries = all_carries ^ sum_ones\n",
    "unknowns =  x.unknowns | y.unknowns | ones_carries\n",
    "kbadd = kd.notation.add.define([x,y],\n",
    "                        KnownBits(\n",
    "                            ones = sum_ones & ~unknowns,\n",
    "                            unknowns = unknowns)\n",
    "                        )\n",
    "\n",
    "kbsub = kd.notation.sub.define([x,y],\n",
    "                \n",
    "                       )\n",
    "\n",
    "kd.notation.or_.define([x,y],\n",
    "                        KnownBits(\n",
    "                            ones = x.ones | y.ones,\n",
    "                            unknowns = x.unknowns | y.unknowns\n",
    "                        )\n",
    "                        ))\n",
    "\n",
    "contains = kd.define(\"contains\", [x, a], x.to_set()(a))\n",
    "\n",
    "@kd.reflect\n",
    "def (x):\n",
    "    return KnownBits(\n",
    "        ones = x.ones,\n",
    "        unknowns = x.unknowns\n",
    "    )\n"
   ]
  },
  {
   "cell_type": "markdown",
   "metadata": {},
   "source": [
    "https://www.microsoft.com/en-us/research/wp-content/uploads/2009/01/pentagons.pdf \n",
    "https://mastodon.social/@cfbolz/113017389946004834\n",
    "https://microsoft.github.io/z3guide/docs/theories/Special%20Relations/\n",
    "\n",
    "\n",
    "Bellman ford\n",
    "https://docs.scipy.org/doc/scipy/reference/sparse.csgraph.html\n",
    "https://networkx.org/documentation/stable/reference/algorithms/shortest_paths.html"
   ]
  },
  {
   "cell_type": "code",
   "execution_count": null,
   "metadata": {},
   "outputs": [],
   "source": [
    "class Octagon():\n",
    "    def __init__(self):\n",
    "        self.G = nx.DiGraph()\n",
    "    def add_ineq(x, y, c):\n",
    "        # x - y <= c\n",
    "\n",
    "    def eq(x,y,c):\n",
    "        # x = y + c\n",
    "        self.add_ineq(x,y,c)\n",
    "        self.add_ineq(y,x,-c)"
   ]
  },
  {
   "cell_type": "markdown",
   "metadata": {},
   "source": [
    "Python smt solver. Fully lazy smt\n",
    "https://pysathq.github.io/usage/\n",
    "I mean really is there much point to building a python smt solver? Eh.\n",
    "\n",
    "\n",
    "Using z3 as my sat solver is the easieest thing though.\n",
    "Kind of analogous to externalizing the egraph?"
   ]
  },
  {
   "cell_type": "code",
   "execution_count": 1,
   "metadata": {},
   "outputs": [
    {
     "ename": "ModuleNotFoundError",
     "evalue": "No module named 'pysat'",
     "output_type": "error",
     "traceback": [
      "\u001b[0;31m---------------------------------------------------------------------------\u001b[0m",
      "\u001b[0;31mModuleNotFoundError\u001b[0m                       Traceback (most recent call last)",
      "Cell \u001b[0;32mIn[1], line 1\u001b[0m\n\u001b[0;32m----> 1\u001b[0m \u001b[38;5;28;01mfrom\u001b[39;00m \u001b[38;5;21;01mpysat\u001b[39;00m\u001b[38;5;21;01m.\u001b[39;00m\u001b[38;5;21;01msolvers\u001b[39;00m \u001b[38;5;28;01mimport\u001b[39;00m Cadical\n",
      "\u001b[0;31mModuleNotFoundError\u001b[0m: No module named 'pysat'"
     ]
    }
   ],
   "source": [
    "from pysat.solvers import Cadical"
   ]
  },
  {
   "cell_type": "code",
   "execution_count": null,
   "metadata": {},
   "outputs": [],
   "source": [
    "class BoolRef():\n",
    "\n",
    "class Solver():\n",
    "    def add(self, constraint):"
   ]
  }
 ],
 "metadata": {
  "kernelspec": {
   "display_name": "Python 3",
   "language": "python",
   "name": "python3"
  },
  "language_info": {
   "codemirror_mode": {
    "name": "ipython",
    "version": 3
   },
   "file_extension": ".py",
   "mimetype": "text/x-python",
   "name": "python",
   "nbconvert_exporter": "python",
   "pygments_lexer": "ipython3",
   "version": "3.12.3"
  }
 },
 "nbformat": 4,
 "nbformat_minor": 2
}
