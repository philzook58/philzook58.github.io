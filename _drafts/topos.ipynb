{
 "cells": [
  {
   "cell_type": "code",
   "execution_count": null,
   "metadata": {},
   "outputs": [],
   "source": []
  },
  {
   "cell_type": "markdown",
   "metadata": {},
   "source": [
    "Open sets where things are true as truth values.\n",
    "What are functions then? Restrictions?\n",
    "\n",
    "\n",
    "Sierpinski set\n",
    "\n",
    "\n",
    "sheaves. But that begs the question\n",
    "\n",
    "Scott and Lambek\n",
    "Maclane moerdijk\n",
    "\n",
    "\n",
    "\n"
   ]
  },
  {
   "cell_type": "code",
   "execution_count": null,
   "metadata": {},
   "outputs": [],
   "source": [
    "import kdrag as kd\n",
    "import kdrag.smt as smt\n",
    "\n",
    "@dataclass(frozen=True)\n",
    "class Category():\n",
    "    Morph : smt.SortRef\n",
    "    Ob : smt.SortRef\n",
    "    cod : smt.FuncDeclRef\n",
    "    dom : smt.FuncDeclRef\n",
    "    id : smt.FuncDeclRef\n",
    "    compose : smt.FuncDeclRef\n",
    "    id_type : kd.Proof\n",
    "    compose_type : kd.Proof\n",
    "    id_unit : kd.Proof\n",
    "    compose_assoc : kd.Proof\n",
    "    compose_id_left : kd.Proof\n",
    "    compose_id_right : kd.Proof\n",
    "    def __post_init__(self):\n",
    "        Morph, Ob, cod, dom, id, compose = self.Morph, self.Ob, self.cod, self.dom, self.id, self.compose\n",
    "        assert id.sort() == Morph and compose.domain(0) == Morph and compose.domain(1) == Morph and compose.range() == Morph\n",
    "        assert cod.domain() == Morph and cod.range() == Ob\n",
    "        assert dom.domain() == Morph and dom.range() == Ob\n",
    "        kd.lemma(kd.QForAll([a], dom(id(a)) == a), by=[self.id_type])\n",
    "        kd.lemma(kd.QForAll([a], cod(id(a)) == a), by=[self.id_type])\n",
    "        kd.lemma(kd.QForAll([f], d,dom(f) == dom(compose(f,g))), by=[self.compose_type])\n",
    "        kd.lemma(kd.QForAll([f], , cod(f) == cod(compose(g,f))), by=[self.compose_type])\n",
    "        kd.lemma(kd.QForAll([f,g,h], dom(f) == cod(g), dom(h) == cod(f), compose(h,compose(f,g)) == compose(h,compose(f,g))), by=[self.compose_assoc])\n",
    "        kd.lemma(kd.QForAll([f], compose(f,id(cod(f))) == f), by=[self.compose_id_left])\n",
    "        kd.lemma(kd.QForAll([f], compose(id(dom(f)),f) == f), by=[self.compose_id_right])\n",
    "\n",
    "\n",
    "        \n",
    "\n",
    "\n",
    "\n"
   ]
  },
  {
   "cell_type": "markdown",
   "metadata": {},
   "source": [
    "https://www.isa-afp.org/entries/Category_Set.html ETCS in isabelle.\n",
    "Pretty similar lines.\n",
    "Halvorson https://www.amazon.com/Logic-Philosophy-Science-Hans-Halvorson/dp/1107527740\n",
    "\n",
    "\n"
   ]
  },
  {
   "cell_type": "code",
   "execution_count": null,
   "metadata": {},
   "outputs": [],
   "source": [
    "# ETCS\n",
    "Morph = smt.DeclareSort(\"Morph\") #  Func\n",
    "Ob = smt.DeclareSort(\"Ob\") # Set\n",
    "\n",
    "cod = smt.DeclareFunc(\"cod\", Morph, Ob)\n",
    "dom = smt.DeclareFunc(\"dom\", Morph, Ob)\n",
    "id = smt.DeclareFunc(\"id\", Ob, Morph)\n",
    "a,b,c,d = smt.Consts(\"a b c d\", Ob)\n",
    "f,g,h,k = smt.Consts(\"f g h k\", Morph)\n",
    "dom_id = kd.axiom(smt.ForAll([a], dom(id(a)) == a))\n",
    "cod_id = kd.axiom(smt.ForAll([a], cod(id(a)) == a))\n",
    "\n",
    "compose = smt.DeclareFunc(\"compose\", Morph, Morph, Morph)\n",
    "matmul = kd.notation.matmul.define([f,g], compose(f,g))\n",
    "\n",
    "id_type = kd.lemma(smt.ForAll([a], smt.And(dom(id(a)) == a, cod(id(a)) == a)), by=[dom_id, cod_id])\n",
    "compose_type = kd.axiom(kd.QForAll([f,g], dom(f) == cod(g), smt.And(dom(compose(f,g)) == dom(g), cod(compose(f,g)) == cod(f))))\n",
    "\n",
    "compose_assoc = kd.axiom(kd.QForAll([f,g,h], dom(f) == cod(g), dom(h) == cod(f), compose(h,compose(f,g)) == compose(h,compose(f,g))))\n",
    "compose_id_left = kd.lemma(kd.QForAll([f], compose(f,id(dom(f))) == f))\n",
    "compose_id_right = kd.lemma(kd.QForAll([f], compose(id(cod(f)),f) == f))\n",
    "\n",
    "hastype = kd.define(\"hastype\", [f,a,b], smt.And(dom(f) == a, cod(f) == b))\n",
    "\n",
    "comp_type = kd.lemma(kd.QForAll([f,g,a,b,c], hastype(f,a,b), hastype(g,b,c), hastype(compose(f,g), a, b), by=[compose_type, hastype.defn])\n",
    "comp_assoc2 = kd.lemma(kd.QForAll([f,g,h,a,b,c,d], hastype(f,a,b), hastype(g,b,c), hastype(h,c,d), \n",
    "                                  compose(h,compose(f,g)) == compose(h,compose(f,g)), by=[compose_assoc, hastype.defn, compose_type]))\n",
    "\n",
    "\n",
    "\n",
    "\n"
   ]
  },
  {
   "cell_type": "markdown",
   "metadata": {},
   "source": [
    "https://ncatlab.org/nlab/show/SEAR"
   ]
  },
  {
   "cell_type": "code",
   "execution_count": null,
   "metadata": {},
   "outputs": [],
   "source": [
    "Elem = smt.DeclareSort(\"Elem\")\n",
    "Set = smt.DeclareSort(\"Set\")\n",
    "Rel = smt.DeclareSort(\"Rel\")\n",
    "elem = smt.Function(\"elem\", Elem, Set)\n",
    "cod = smt.Function(\"cod\", Rel, Set)\n",
    "dom = smt.Function(\"dom\", Rel, Set)\n",
    "elem2 = smt.Function(\"elem2\", Elem, Elem, Rel, BoolSort())\n",
    "elem2_ax = kd.axiom(smt.QForAll([a,b,R], elem2(a,b,R), elem(a, dom(R)) & elem(b, cod(R))))\n",
    "\n",
    "Property =  Elem >> (Elem >> BoolSort())\n",
    "comp = smt.Function(\"comp\", Property, Set, Set, Rel)\n",
    "comprehend = kd.axiom(smt.ForAll([P, x, y, A, B], ))\n",
    "\n",
    "\n",
    "# Is there a point to the following construction?\n",
    "#Rel = Record((\"rel\", PrimRel), (\"dom\", Set), (\"cod\", Set))\n",
    "\n"
   ]
  }
 ],
 "metadata": {
  "language_info": {
   "name": "python"
  }
 },
 "nbformat": 4,
 "nbformat_minor": 2
}
