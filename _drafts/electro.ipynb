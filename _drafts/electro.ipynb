{
 "cells": [
  {
   "cell_type": "markdown",
   "metadata": {},
   "source": [
    "meep https://meep.readthedocs.io/en/latest/\n",
    "\n",
    "empy\n",
    "\n",
    "lenzs law\n"
   ]
  },
  {
   "cell_type": "code",
   "execution_count": 1,
   "metadata": {},
   "outputs": [
    {
     "ename": "AttributeError",
     "evalue": "module 'meep' has no attribute 'Vector3'",
     "output_type": "error",
     "traceback": [
      "\u001b[0;31m---------------------------------------------------------------------------\u001b[0m",
      "\u001b[0;31mAttributeError\u001b[0m                            Traceback (most recent call last)",
      "Cell \u001b[0;32mIn[1], line 2\u001b[0m\n\u001b[1;32m      1\u001b[0m \u001b[38;5;28;01mimport\u001b[39;00m \u001b[38;5;21;01mmeep\u001b[39;00m \u001b[38;5;28;01mas\u001b[39;00m \u001b[38;5;21;01mmp\u001b[39;00m\n\u001b[0;32m----> 2\u001b[0m cell \u001b[38;5;241m=\u001b[39m \u001b[43mmp\u001b[49m\u001b[38;5;241;43m.\u001b[39;49m\u001b[43mVector3\u001b[49m(\u001b[38;5;241m16\u001b[39m,\u001b[38;5;241m8\u001b[39m,\u001b[38;5;241m0\u001b[39m)\n\u001b[1;32m      3\u001b[0m geometry \u001b[38;5;241m=\u001b[39m [mp\u001b[38;5;241m.\u001b[39mBlock(mp\u001b[38;5;241m.\u001b[39mVector3(mp\u001b[38;5;241m.\u001b[39minf,\u001b[38;5;241m1\u001b[39m,mp\u001b[38;5;241m.\u001b[39minf),\n\u001b[1;32m      4\u001b[0m                      center\u001b[38;5;241m=\u001b[39mmp\u001b[38;5;241m.\u001b[39mVector3(),\n\u001b[1;32m      5\u001b[0m                      material\u001b[38;5;241m=\u001b[39mmp\u001b[38;5;241m.\u001b[39mMedium(epsilon\u001b[38;5;241m=\u001b[39m\u001b[38;5;241m12\u001b[39m))]\n\u001b[1;32m      6\u001b[0m sources \u001b[38;5;241m=\u001b[39m [mp\u001b[38;5;241m.\u001b[39mSource(mp\u001b[38;5;241m.\u001b[39mContinuousSource(frequency\u001b[38;5;241m=\u001b[39m\u001b[38;5;241m0.15\u001b[39m),\n\u001b[1;32m      7\u001b[0m                      component\u001b[38;5;241m=\u001b[39mmp\u001b[38;5;241m.\u001b[39mEz,\n\u001b[1;32m      8\u001b[0m                      center\u001b[38;5;241m=\u001b[39mmp\u001b[38;5;241m.\u001b[39mVector3(\u001b[38;5;241m-\u001b[39m\u001b[38;5;241m7\u001b[39m,\u001b[38;5;241m0\u001b[39m))]\n",
      "\u001b[0;31mAttributeError\u001b[0m: module 'meep' has no attribute 'Vector3'"
     ]
    }
   ],
   "source": [
    "import meep as mp\n",
    "cell = mp.Vector3(16,8,0)\n",
    "geometry = [mp.Block(mp.Vector3(mp.inf,1,mp.inf),\n",
    "                     center=mp.Vector3(),\n",
    "                     material=mp.Medium(epsilon=12))]\n",
    "sources = [mp.Source(mp.ContinuousSource(frequency=0.15),\n",
    "                     component=mp.Ez,\n",
    "                     center=mp.Vector3(-7,0))]\n",
    "pml_layers = [mp.PML(1.0)]\n",
    "resolution = 10\n",
    "sim = mp.Simulation(cell_size=cell,\n",
    "                    boundary_layers=pml_layers,\n",
    "                    geometry=geometry,\n",
    "                    sources=sources,\n",
    "                    resolution=resolution)\n",
    "sim.run(until=200)\n",
    "sim.plot2D(fields=mp.Ez)\n",
    "\n"
   ]
  }
 ],
 "metadata": {
  "kernelspec": {
   "display_name": "Python 3",
   "language": "python",
   "name": "python3"
  },
  "language_info": {
   "codemirror_mode": {
    "name": "ipython",
    "version": 3
   },
   "file_extension": ".py",
   "mimetype": "text/x-python",
   "name": "python",
   "nbconvert_exporter": "python",
   "pygments_lexer": "ipython3",
   "version": "3.10.12"
  }
 },
 "nbformat": 4,
 "nbformat_minor": 2
}
