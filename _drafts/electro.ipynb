{
 "cells": [
  {
   "cell_type": "markdown",
   "metadata": {},
   "source": [
    "# Magnetic Field\n",
    "\n",
    "From magnet.\n",
    "From finite solenoid\n",
    "\n",
    "Infinite solenoid\n",
    "\n",
    "$\\nabla \\times H = J + \\frac{\\partial D}{\\partial t}$\n",
    "\n",
    "loop intergal form\n",
    "$ \\oint H \\cdot dl = I_{enc}$\n",
    "\n",
    "$ H = \\frac{B}{\\mu}$\n",
    "\n",
    "$ B = \\mu_0 (H + M)$\n",
    "\n",
    "How do we make magnets? We put them in strong magnetic field and anneal. It locks in. Probably uniform magnetization.\n",
    "\n",
    "\n",
    "Magnetic potential\n",
    "Long solenoid behaves like monopoles.\n",
    "\n",
    "It would be cool to predict and measure the force from magnets based on size and material.\n",
    "\n",
    "\n",
    "A closed integral considering the magnet to be made of little dipoles.\n",
    "https://en.wikipedia.org/wiki/Magnetic_dipole\n",
    "The field of a dipole can be derived from 1/r^2 using two charges close together. It can also be considered to be a primitve topic. Also term in multipole expansion.\n",
    "\n",
    "$dA dl M = dm$ dipole moment.\n",
    "$A(r) = \\mu_0 $ vector potential\n",
    "magnetic scalar potential $ \\frac{m \\cdot r}{4 \\pi r^3}$ \n",
    "\n",
    "Fixed magnetization vs response. Self consistent response too.\n",
    "\n",
    "If you drill a little hole into a magnet, what do you measure\n",
    "\n",
    "A cylinder maggnet should have pretty unifrom field in it\n",
    "\n",
    "Helmholtz coils.\n",
    "\n",
    "\n"
   ]
  },
  {
   "cell_type": "code",
   "execution_count": null,
   "metadata": {},
   "outputs": [
    {
     "data": {
      "text/plain": [
       "grad(x=('norm', ('r',)))"
      ]
     },
     "execution_count": 10,
     "metadata": {},
     "output_type": "execute_result"
    }
   ],
   "source": [
    "from collections import namedtuple\n",
    "def grad(x): return (\"grad\", x)\n",
    "grad = namedtuple(\"grad\", \"x\")\n",
    "def div(x): return (\"div\", x)\n",
    "def curl(x): return (\"curl\", x)\n",
    "r = (\"r\",)\n",
    "def norm(x): return (\"norm\", x)\n",
    "grad(norm(r))\n",
    "def vadd(x, y): return (\"vadd\", x, y)\n",
    "\n",
    "\n",
    "\n",
    "def do_grad(x):\n",
    "    match x:\n",
    "        case Dot(x, y):\n",
    "            return Dot(do_grad(x), y) + Dot(x, do_grad(y))\n",
    "\n"
   ]
  },
  {
   "cell_type": "code",
   "execution_count": 91,
   "metadata": {},
   "outputs": [
    {
     "data": {
      "text/latex": [
       "$\\displaystyle - \\frac{2 \\mathbf{{x}_{N}} a}{\\left(\\mathbf{{x}_{N}}^{2} + \\mathbf{{y}_{N}}^{2} + \\mathbf{{z}_{N}}^{2}\\right)^{\\frac{3}{2}}} + O\\left(a^{2}\\right)$"
      ],
      "text/plain": [
       "-2*N.x*a/(N.x**2 + N.y**2 + N.z**2)**(3/2) + O(a**2)"
      ]
     },
     "execution_count": 91,
     "metadata": {},
     "output_type": "execute_result"
    }
   ],
   "source": [
    "from sympy import *\n",
    "from sympy.vector import CoordSys3D, Del\n",
    "N = CoordSys3D('N')\n",
    "v = 3*N.i + 4*N.j + 5*N.k\n",
    "d = Del()\n",
    "def v3(name):\n",
    "    x,y,z = symbols(\"{name}_x {name}_y {name}_z\".format(name=name))\n",
    "    return x*N.i + y*N.j + z*N.k\n",
    "m = v3(\"m\")\n",
    "rvec = N.x*N.i + N.y*N.j + N.z*N.k\n",
    "rvec\n",
    "rsym = symbols(\"r\")\n",
    "def norm(v): return sqrt(v.dot(v))\n",
    "r = sqrt(rvec.dot(rvec))\n",
    "rhat = rvec/r\n",
    "scalar = m.dot(rvec) / r**3\n",
    "d(scalar).doit().simplify().subs(r, rsym).subs(r**2, rsym**2)\n",
    "\n",
    "A = m.cross(rvec) / r**3 \n",
    "d.cross(A).doit().simplify()\n",
    "\n",
    "a = symbols(\"a\")\n",
    "avec = a*N.i\n",
    "#avec = v3(\"a\")\n",
    "V = 1/norm(rvec+avec) - 1/norm(rvec-avec)\n",
    "limit(V.diff(a).simplify(),a,0)\n",
    "series(V,a,0,n=2)\n"
   ]
  },
  {
   "cell_type": "markdown",
   "metadata": {},
   "source": [
    "Tough to control rewriting. Pattern matching in sympy is too smart.\n",
    "Could make dumber matcher.\n",
    "Dumber mul, add\n"
   ]
  },
  {
   "cell_type": "code",
   "execution_count": 106,
   "metadata": {},
   "outputs": [
    {
     "ename": "TypeError",
     "evalue": "Symbol.__new__() missing 1 required positional argument: 'name'",
     "output_type": "error",
     "traceback": [
      "\u001b[0;31m---------------------------------------------------------------------------\u001b[0m",
      "\u001b[0;31mTypeError\u001b[0m                                 Traceback (most recent call last)",
      "Cell \u001b[0;32mIn[106], line 31\u001b[0m\n\u001b[1;32m     28\u001b[0m     \u001b[38;5;28;01melse\u001b[39;00m:\n\u001b[1;32m     29\u001b[0m         \u001b[38;5;28;01mreturn\u001b[39;00m e\n\u001b[0;32m---> 31\u001b[0m \u001b[43mreplace1\u001b[49m\u001b[43m(\u001b[49m\u001b[43mx\u001b[49m\u001b[43m \u001b[49m\u001b[38;5;241;43m+\u001b[39;49m\u001b[43m \u001b[49m\u001b[43my\u001b[49m\u001b[43m,\u001b[49m\u001b[43m \u001b[49m\u001b[43ma\u001b[49m\u001b[43m \u001b[49m\u001b[38;5;241;43m+\u001b[39;49m\u001b[43m \u001b[49m\u001b[43mb\u001b[49m\u001b[43m,\u001b[49m\u001b[43m \u001b[49m\u001b[43mb\u001b[49m\u001b[43m)\u001b[49m\n",
      "Cell \u001b[0;32mIn[106], line 24\u001b[0m, in \u001b[0;36mreplace1\u001b[0;34m(e, lhs, rhs)\u001b[0m\n\u001b[1;32m     23\u001b[0m \u001b[38;5;28;01mdef\u001b[39;00m \u001b[38;5;21mreplace1\u001b[39m(e, lhs, rhs):\n\u001b[0;32m---> 24\u001b[0m     e \u001b[38;5;241m=\u001b[39m e\u001b[38;5;241m.\u001b[39mfunc(\u001b[38;5;241m*\u001b[39m[replace1(a, lhs, rhs) \u001b[38;5;28;01mfor\u001b[39;00m a \u001b[38;5;129;01min\u001b[39;00m e\u001b[38;5;241m.\u001b[39margs])\n\u001b[1;32m     25\u001b[0m     m \u001b[38;5;241m=\u001b[39m match1(e, lhs)\n\u001b[1;32m     26\u001b[0m     \u001b[38;5;28;01mif\u001b[39;00m m \u001b[38;5;129;01mis\u001b[39;00m \u001b[38;5;129;01mnot\u001b[39;00m \u001b[38;5;28;01mNone\u001b[39;00m:\n",
      "Cell \u001b[0;32mIn[106], line 24\u001b[0m, in \u001b[0;36m<listcomp>\u001b[0;34m(.0)\u001b[0m\n\u001b[1;32m     23\u001b[0m \u001b[38;5;28;01mdef\u001b[39;00m \u001b[38;5;21mreplace1\u001b[39m(e, lhs, rhs):\n\u001b[0;32m---> 24\u001b[0m     e \u001b[38;5;241m=\u001b[39m e\u001b[38;5;241m.\u001b[39mfunc(\u001b[38;5;241m*\u001b[39m[\u001b[43mreplace1\u001b[49m\u001b[43m(\u001b[49m\u001b[43ma\u001b[49m\u001b[43m,\u001b[49m\u001b[43m \u001b[49m\u001b[43mlhs\u001b[49m\u001b[43m,\u001b[49m\u001b[43m \u001b[49m\u001b[43mrhs\u001b[49m\u001b[43m)\u001b[49m \u001b[38;5;28;01mfor\u001b[39;00m a \u001b[38;5;129;01min\u001b[39;00m e\u001b[38;5;241m.\u001b[39margs])\n\u001b[1;32m     25\u001b[0m     m \u001b[38;5;241m=\u001b[39m match1(e, lhs)\n\u001b[1;32m     26\u001b[0m     \u001b[38;5;28;01mif\u001b[39;00m m \u001b[38;5;129;01mis\u001b[39;00m \u001b[38;5;129;01mnot\u001b[39;00m \u001b[38;5;28;01mNone\u001b[39;00m:\n",
      "Cell \u001b[0;32mIn[106], line 24\u001b[0m, in \u001b[0;36mreplace1\u001b[0;34m(e, lhs, rhs)\u001b[0m\n\u001b[1;32m     23\u001b[0m \u001b[38;5;28;01mdef\u001b[39;00m \u001b[38;5;21mreplace1\u001b[39m(e, lhs, rhs):\n\u001b[0;32m---> 24\u001b[0m     e \u001b[38;5;241m=\u001b[39m \u001b[43me\u001b[49m\u001b[38;5;241;43m.\u001b[39;49m\u001b[43mfunc\u001b[49m\u001b[43m(\u001b[49m\u001b[38;5;241;43m*\u001b[39;49m\u001b[43m[\u001b[49m\u001b[43mreplace1\u001b[49m\u001b[43m(\u001b[49m\u001b[43ma\u001b[49m\u001b[43m,\u001b[49m\u001b[43m \u001b[49m\u001b[43mlhs\u001b[49m\u001b[43m,\u001b[49m\u001b[43m \u001b[49m\u001b[43mrhs\u001b[49m\u001b[43m)\u001b[49m\u001b[43m \u001b[49m\u001b[38;5;28;43;01mfor\u001b[39;49;00m\u001b[43m \u001b[49m\u001b[43ma\u001b[49m\u001b[43m \u001b[49m\u001b[38;5;129;43;01min\u001b[39;49;00m\u001b[43m \u001b[49m\u001b[43me\u001b[49m\u001b[38;5;241;43m.\u001b[39;49m\u001b[43margs\u001b[49m\u001b[43m]\u001b[49m\u001b[43m)\u001b[49m\n\u001b[1;32m     25\u001b[0m     m \u001b[38;5;241m=\u001b[39m match1(e, lhs)\n\u001b[1;32m     26\u001b[0m     \u001b[38;5;28;01mif\u001b[39;00m m \u001b[38;5;129;01mis\u001b[39;00m \u001b[38;5;129;01mnot\u001b[39;00m \u001b[38;5;28;01mNone\u001b[39;00m:\n",
      "\u001b[0;31mTypeError\u001b[0m: Symbol.__new__() missing 1 required positional argument: 'name'"
     ]
    }
   ],
   "source": [
    "def match1(e, p):\n",
    "    todo = [(e,p)]\n",
    "    subst = {}\n",
    "    while todo:\n",
    "        e,p = todo.pop()\n",
    "        if e == p:\n",
    "            continue\n",
    "        if isinstance(p, Wild):\n",
    "            if p in subst:\n",
    "                if subst[p] != e:\n",
    "                    return None\n",
    "            else:\n",
    "                subst[p] = e\n",
    "        elif e.func == p.func and len(e.args) == len(p.args):\n",
    "            todo.extend(zip(e.args, p.args))\n",
    "        else:\n",
    "            return None\n",
    "    return subst\n",
    "\n",
    "assert match1(x + y, a + b) == {a:x, b:y}\n",
    "assert match1(x*y, a + b) is None\n",
    "\n",
    "def replace1(e, lhs, rhs):\n",
    "    e = e.func(*[replace1(a, lhs, rhs) for a in e.args])\n",
    "    m = match1(e, lhs)\n",
    "    if m is not None:\n",
    "        return rhs.subs(m)\n",
    "    else:\n",
    "        return e\n",
    "    \n",
    "replace1(x + y, a + b, b)\n",
    "\n"
   ]
  },
  {
   "cell_type": "code",
   "execution_count": null,
   "metadata": {},
   "outputs": [],
   "source": [
    "# sympy eq search using axioms\n",
    "# kdrag?\n",
    "def to_tptp(e):\n",
    "    if isinstance(e, Wild):\n",
    "        return str(e).upper()\n",
    "    return f\"{str(e.func)}({\",\".join([to_tptp(a) for a in e.args])})\"\n",
    "def axiom(lhs,rhs):\n",
    "    return \"cnf({}, axiom, ({} = {})).\".format(lhs, to_tptp(lhs), to_tptp(rhs))\n",
    "\n",
    "def eq_search(e, rules):\n",
    "    for lhs,rhs in rules:\n",
    "        m = match1(e, lhs)\n",
    "        if m is not None:\n",
    "            return rhs.subs(m)\n",
    "    return e\n",
    "\n"
   ]
  },
  {
   "cell_type": "code",
   "execution_count": null,
   "metadata": {},
   "outputs": [],
   "source": [
    "from kdrag.all import *\n",
    "import kdrag.theories.vec as vec\n",
    "import kdrag.theories.real as real\n",
    "\n",
    "m,r = smt.Consts(\"m r\", vec.Vec3)\n",
    "vec.cross(m,r)\n",
    "vec.dot(r,r)\n",
    "vec.norm2(r)\n",
    "rlen = real.sqrt(vec.norm2(r))\n",
    "rlen\n",
    "\n",
    "ScalarField = ArraySort(vec3.Vec3, real.R)\n",
    "VecField = ArraySort(vec3.Vec3, vec3.Vec3)\n",
    "kd.notation.add.define([f,g], Lambda([x], f(x) + g(x)))\n",
    "\n",
    "\n",
    "\n",
    "d = smt.Function(\"d\", ScalarField, VecField)\n",
    "#kd.axiom(ForAll([v,u], d(dot(v,y)) == dot(d(v),y) + dot(v,d(y))))\n",
    "\n",
    "\n"
   ]
  },
  {
   "cell_type": "code",
   "execution_count": 101,
   "metadata": {},
   "outputs": [
    {
     "data": {
      "text/latex": [
       "$\\displaystyle d{\\left(2 x d{\\left(x \\right)} \\right)} + d{\\left(y^{2} \\left(\\frac{d{\\left(z \\right)}}{x} + \\frac{4 z d{\\left(\\frac{1}{\\sqrt[4]{x}} \\right)}}{x^{\\frac{3}{4}}}\\right) \\right)} + d{\\left(\\frac{2 y z d{\\left(y \\right)}}{x} \\right)}$"
      ],
      "text/plain": [
       "d(2*x*d(x)) + d(y**2*(d(z_)/x + 4*z_*d(x**(-1/4))/x**(3/4))) + d(2*y*z_*d(y)/x)"
      ]
     },
     "execution_count": 101,
     "metadata": {},
     "output_type": "execute_result"
    }
   ],
   "source": [
    "d = Function(\"d\", commutative=False)\n",
    "smul = Function(\"smul\")\n",
    "a,b,c = Wild(\"a\"), Wild(\"b\"), Wild(\"c\")\n",
    "\n",
    "\n",
    "rules = [\n",
    "    (d(a+b), d(a) + d(b)),\n",
    "    (d(a-b), d(a) - d(b)),\n",
    "    (d(a*b), a*d(b) + b*d(a)),\n",
    "    #(d(a/b), (b*d(a) - a*d(b))/(b**2)),\n",
    "    #(d(1/a), -d(a)/a**2),\n",
    "    (d(a**2), 2*a*d(a)),\n",
    "    (d(sqrt(a)), d(a)/(2*sqrt(a))),\n",
    "    (d(1), 0),\n",
    "    (d(0), 0),\n",
    "    (d(d(a)), 0),\n",
    "    (d(cos(a)), -sin(a)*d(a)),\n",
    "    (d(sin(a)), cos(a)*d(a)),\n",
    "    #(d(a**3), 3*a**2*d(a)),\n",
    "]\n",
    "x,y = symbols(\"x y\")\n",
    "d(x**2).replace(d(a**2), 2*a*d(a))\n",
    "d(x + y).replace(d(a+b), d(a) + d(b))\n",
    "\n",
    "def dsimp(e):\n",
    "    for rule in rules:\n",
    "        e = e.replace(*rule)\n",
    "    return e\n",
    "dsimp(d(x**2 + z*y**2 / x))\n",
    "dsimp(dsimp(dsimp(d(d(x**2 + z*y**2 / x)))))"
   ]
  },
  {
   "cell_type": "code",
   "execution_count": 79,
   "metadata": {},
   "outputs": [
    {
     "data": {
      "text/latex": [
       "$\\displaystyle x^{2} DifferentialOperator\\left(\\frac{\\partial}{\\partial x} f{\\left(x,y,z \\right)},x\\right)$"
      ],
      "text/plain": [
       "x**2*DifferentialOperator(Derivative(f(x, y, z_), x),x)"
      ]
     },
     "execution_count": 79,
     "metadata": {},
     "output_type": "execute_result"
    }
   ],
   "source": [
    "from sympy.physics.quantum.operator import DifferentialOperator\n",
    "f = Function(\"f\")\n",
    "x * DifferentialOperator(f(x,y,z).diff(x), x) * x"
   ]
  },
  {
   "cell_type": "markdown",
   "metadata": {},
   "source": [
    "# Maxwell Eq\n",
    "https://en.wikipedia.org/wiki/Maxwell%27s_equations \n",
    "displacement current\n",
    "D and E\n",
    "\n",
    "```\n",
    "% diff is exteriori derivative or some kind of geometric derrivative\n",
    "diff(d) = rho\n",
    "diff(b) = zero\n",
    "diff(h) = \n",
    "diff(e)\n",
    "\n",
    "```\n",
    "\n",
    "https://en.wikipedia.org/wiki/Flux_tube\n",
    "\"Counting\" flux lines / tubes. An interesting integration variation. Set flux size. Relax boundaries to get balanced/equal flux.\n",
    "Or set number of tubes (well, if we know the tube source, kind of same thing.)\n",
    "\n",
    "Riemann\n",
    "Riemann stieljes\n",
    "Lebesgue - find size of level sets.\n",
    "\n",
    "\n",
    "\n",
    "The charge in a resistive medium. The continuous RC problem\n",
    "\n",
    "\n",
    "Charge on wire kinks. Is that real?\n",
    "Fringe field. Dielectric insertion. That's an insane cheat.\n",
    "\n",
    "Idealizations and paradoxes.\n",
    "Some tempting idealizations make you want to put this or that out at ininifty and not care. Some conclusions are paradoxical. An effect becomes small as something geometrically becomes large\n",
    "\n",
    "A magnetic monopole can be made by a long solenoid.\n",
    "\n",
    "\n",
    "Dimensionality reductions\n",
    "\n",
    "\n",
    "\n",
    "magnetohydrodynamiucs https://en.wikipedia.org/wiki/Magnetohydrodynamics\n",
    "There were some kind domains where like the magnetic field gets locked in\n",
    "\n",
    "eddy currents\n",
    "satelite loop rotating around earth\n",
    "\n",
    "\n",
    "\"magnets don't do work\"\n",
    "$F = q(E + v \\times B)$\n",
    "\n",
    "$F = Il \\times B$\n",
    "$F = J \\times B$ force desnity?\n",
    "\n",
    "EMF. https://en.wikipedia.org/wiki/Electromotive_force What a confusing concept. \"Effective force\" $\\nabla \\times E = -\\partial_t B$ means that only a change magnetic field can create E. But battery does it too. The only thing that pushes electrons on some level (?) is electric field. No also entropic forces like gas being in one side of a piston.\n",
    "Quantum \"forces\" if that is even the right semantic category to put them in. Quantum effects can be modelled somewhat cl;assicaly if we fit fake fictious terms in our equations of motion.\n",
    "\n",
    "\n",
    "meep https://meep.readthedocs.io/en/latest/\n",
    "\n",
    "empy\n",
    "\n",
    "lenzs law\n",
    "\n",
    "\n",
    "charge vortex duality\n",
    "coninuity in 2d is like curl in 2d\n",
    "\n"
   ]
  },
  {
   "cell_type": "code",
   "execution_count": null,
   "metadata": {},
   "outputs": [],
   "source": [
    "from z3 import *\n",
    "M = DeclareSort('M')\n",
    "ScalarField = ArraySort(M, RealSort())\n",
    "Vec3Field = DeclareSort('Vec3Field')\n",
    "E,B = Consts('E B', Vec3Field)\n",
    "rho = Const('rho', ScalarField)\n",
    "\n",
    "div = Function('div', Vec3Field, ScalarField)\n",
    "grad = Function('grad', ScalarField, Vec3Field)\n",
    "curl = Function('curl', Vec3Field, Vec3Field)\n",
    "\n",
    "vzero = Const('vzero', Vec3Field)\n",
    "szero = Const(\"szero\", ScalarField)\n",
    "div(E) == szero\n",
    "\n",
    "laplacian = Function('laplacian', ScalarField, ScalarField)\n",
    "hodge = Function('hodge', Vec3Field, Vec3Field)\n",
    "curl(curl(E)) = grad(div(E)) - laplacian(E)\n",
    "\n"
   ]
  },
  {
   "cell_type": "code",
   "execution_count": 6,
   "metadata": {},
   "outputs": [
    {
     "ename": "AttributeError",
     "evalue": "'list' object has no attribute 'diff'",
     "output_type": "error",
     "traceback": [
      "\u001b[0;31m---------------------------------------------------------------------------\u001b[0m",
      "\u001b[0;31mAttributeError\u001b[0m                            Traceback (most recent call last)",
      "Cell \u001b[0;32mIn[6], line 19\u001b[0m\n\u001b[1;32m     16\u001b[0m \u001b[38;5;28;01mdef\u001b[39;00m \u001b[38;5;21mcont\u001b[39m(rho,J):\n\u001b[1;32m     17\u001b[0m     \u001b[38;5;28;01mreturn\u001b[39;00m sp\u001b[38;5;241m.\u001b[39mEq(rho\u001b[38;5;241m.\u001b[39mdiff(t), div(J))\n\u001b[0;32m---> 19\u001b[0m sp\u001b[38;5;241m.\u001b[39mEq(curl(E), [B\u001b[38;5;241m.\u001b[39mdiff(t) \u001b[38;5;28;01mfor\u001b[39;00m Bx \u001b[38;5;129;01min\u001b[39;00m B])\n",
      "Cell \u001b[0;32mIn[6], line 19\u001b[0m, in \u001b[0;36m<listcomp>\u001b[0;34m(.0)\u001b[0m\n\u001b[1;32m     16\u001b[0m \u001b[38;5;28;01mdef\u001b[39;00m \u001b[38;5;21mcont\u001b[39m(rho,J):\n\u001b[1;32m     17\u001b[0m     \u001b[38;5;28;01mreturn\u001b[39;00m sp\u001b[38;5;241m.\u001b[39mEq(rho\u001b[38;5;241m.\u001b[39mdiff(t), div(J))\n\u001b[0;32m---> 19\u001b[0m sp\u001b[38;5;241m.\u001b[39mEq(curl(E), [\u001b[43mB\u001b[49m\u001b[38;5;241;43m.\u001b[39;49m\u001b[43mdiff\u001b[49m(t) \u001b[38;5;28;01mfor\u001b[39;00m Bx \u001b[38;5;129;01min\u001b[39;00m B])\n",
      "\u001b[0;31mAttributeError\u001b[0m: 'list' object has no attribute 'diff'"
     ]
    }
   ],
   "source": [
    "import sympy as sp\n",
    "x,y,z,t = sp.symbols(\"x y z t\")\n",
    "def VecField(name):\n",
    "    return [sp.Function(name+\"{n}\")(x,y,z,t) for n in range(3)]\n",
    "def curl(f):\n",
    "    return [f[1].diff(z) - f[2].diff(y),\n",
    "            f[2].diff(x) - f[0].diff(z),\n",
    "            f[0].diff(y) - f[1].diff(x)]\n",
    "E = VecField(\"E\")\n",
    "B = VecField(\"B\")\n",
    "J = VecField(\"J\")\n",
    "rho = sp.Function(\"rho\")(x,y,z,t)\n",
    "def div(f):\n",
    "    return f[0].diff(x) + f[1].diff(y) + f[2].diff(z)\n",
    "\n",
    "def cont(rho,J):\n",
    "    return sp.Eq(rho.diff(t), div(J))\n",
    "\n",
    "sp.Eq(curl(E), [B.diff(t) for Bx in B])\n"
   ]
  },
  {
   "cell_type": "code",
   "execution_count": null,
   "metadata": {},
   "outputs": [],
   "source": [
    "# https://docs.scipy.org/doc/scipy/reference/optimize.html\n",
    "# integrate some polynomials\n",
    "# sin, cos, exp, log, etc.\n",
    "# maybe some \n",
    "\n",
    "def tube_integ(f,N):\n",
    "    h = 1/N\n",
    "    x = 0\n",
    "    for i in range(N):\n",
    "        x += f(i*h)*h\n",
    "    return x"
   ]
  },
  {
   "cell_type": "code",
   "execution_count": 1,
   "metadata": {},
   "outputs": [
    {
     "ename": "AttributeError",
     "evalue": "module 'meep' has no attribute 'Vector3'",
     "output_type": "error",
     "traceback": [
      "\u001b[0;31m---------------------------------------------------------------------------\u001b[0m",
      "\u001b[0;31mAttributeError\u001b[0m                            Traceback (most recent call last)",
      "Cell \u001b[0;32mIn[1], line 2\u001b[0m\n\u001b[1;32m      1\u001b[0m \u001b[38;5;28;01mimport\u001b[39;00m \u001b[38;5;21;01mmeep\u001b[39;00m \u001b[38;5;28;01mas\u001b[39;00m \u001b[38;5;21;01mmp\u001b[39;00m\n\u001b[0;32m----> 2\u001b[0m cell \u001b[38;5;241m=\u001b[39m \u001b[43mmp\u001b[49m\u001b[38;5;241;43m.\u001b[39;49m\u001b[43mVector3\u001b[49m(\u001b[38;5;241m16\u001b[39m,\u001b[38;5;241m8\u001b[39m,\u001b[38;5;241m0\u001b[39m)\n\u001b[1;32m      3\u001b[0m geometry \u001b[38;5;241m=\u001b[39m [mp\u001b[38;5;241m.\u001b[39mBlock(mp\u001b[38;5;241m.\u001b[39mVector3(mp\u001b[38;5;241m.\u001b[39minf,\u001b[38;5;241m1\u001b[39m,mp\u001b[38;5;241m.\u001b[39minf),\n\u001b[1;32m      4\u001b[0m                      center\u001b[38;5;241m=\u001b[39mmp\u001b[38;5;241m.\u001b[39mVector3(),\n\u001b[1;32m      5\u001b[0m                      material\u001b[38;5;241m=\u001b[39mmp\u001b[38;5;241m.\u001b[39mMedium(epsilon\u001b[38;5;241m=\u001b[39m\u001b[38;5;241m12\u001b[39m))]\n\u001b[1;32m      6\u001b[0m sources \u001b[38;5;241m=\u001b[39m [mp\u001b[38;5;241m.\u001b[39mSource(mp\u001b[38;5;241m.\u001b[39mContinuousSource(frequency\u001b[38;5;241m=\u001b[39m\u001b[38;5;241m0.15\u001b[39m),\n\u001b[1;32m      7\u001b[0m                      component\u001b[38;5;241m=\u001b[39mmp\u001b[38;5;241m.\u001b[39mEz,\n\u001b[1;32m      8\u001b[0m                      center\u001b[38;5;241m=\u001b[39mmp\u001b[38;5;241m.\u001b[39mVector3(\u001b[38;5;241m-\u001b[39m\u001b[38;5;241m7\u001b[39m,\u001b[38;5;241m0\u001b[39m))]\n",
      "\u001b[0;31mAttributeError\u001b[0m: module 'meep' has no attribute 'Vector3'"
     ]
    }
   ],
   "source": [
    "import meep as mp\n",
    "cell = mp.Vector3(16,8,0)\n",
    "geometry = [mp.Block(mp.Vector3(mp.inf,1,mp.inf),\n",
    "                     center=mp.Vector3(),\n",
    "                     material=mp.Medium(epsilon=12))]\n",
    "sources = [mp.Source(mp.ContinuousSource(frequency=0.15),\n",
    "                     component=mp.Ez,\n",
    "                     center=mp.Vector3(-7,0))]\n",
    "pml_layers = [mp.PML(1.0)]\n",
    "resolution = 10\n",
    "sim = mp.Simulation(cell_size=cell,\n",
    "                    boundary_layers=pml_layers,\n",
    "                    geometry=geometry,\n",
    "                    sources=sources,\n",
    "                    resolution=resolution)\n",
    "sim.run(until=200)\n",
    "sim.plot2D(fields=mp.Ez)\n",
    "\n"
   ]
  }
 ],
 "metadata": {
  "kernelspec": {
   "display_name": "Python 3",
   "language": "python",
   "name": "python3"
  },
  "language_info": {
   "codemirror_mode": {
    "name": "ipython",
    "version": 3
   },
   "file_extension": ".py",
   "mimetype": "text/x-python",
   "name": "python",
   "nbconvert_exporter": "python",
   "pygments_lexer": "ipython3",
   "version": "3.10.12"
  }
 },
 "nbformat": 4,
 "nbformat_minor": 2
}
