{
 "cells": [
  {
   "cell_type": "markdown",
   "metadata": {},
   "source": [
    "displacement current\n",
    "D and E\n",
    "\n",
    "```\n",
    "% diff is exteriori derivative or some kind of geometric derrivative\n",
    "diff(d) = rho\n",
    "diff(b) = zero\n",
    "diff(h) = \n",
    "diff(e)\n",
    "\n",
    "```\n",
    "\n",
    "https://en.wikipedia.org/wiki/Flux_tube\n",
    "\"Counting\" flux lines / tubes. An interesting integration variation. Set flux size. Relax boundaries to get balanced/equal flux.\n",
    "Or set number of tubes (well, if we know the tube source, kind of same thing.)\n",
    "\n",
    "Riemann\n",
    "Riemann stieljes\n",
    "Lebesgue - find size of level sets.\n",
    "\n",
    "\n",
    "\n",
    "The charge in a resistive medium. The continuous RC problem\n",
    "\n",
    "\n",
    "Charge on wire kinks. Is that real?\n",
    "Fringe field. Dielectric insertion. That's an insane cheat.\n",
    "\n",
    "Idealizations and paradoxes.\n",
    "Some tempting idealizations make you want to put this or that out at ininifty and not care. Some conclusions are paradoxical. An effect becomes small as something geometrically becomes large\n",
    "\n",
    "A magnetic monopole can be made by a long solenoid.\n",
    "\n",
    "\n",
    "Dimensionality reductions\n",
    "\n",
    "\n",
    "\n",
    "magnetohydrodynamiucs https://en.wikipedia.org/wiki/Magnetohydrodynamics\n",
    "There were some kind domains where like the magnetic field gets locked in\n",
    "\n",
    "\n",
    "\n",
    "\n",
    "meep https://meep.readthedocs.io/en/latest/\n",
    "\n",
    "empy\n",
    "\n",
    "lenzs law\n",
    "\n",
    "\n",
    "charge vortex duality\n",
    "coninuity in 2d is like curl in 2d\n",
    "\n"
   ]
  },
  {
   "cell_type": "code",
   "execution_count": null,
   "metadata": {},
   "outputs": [],
   "source": [
    "from z3 import *\n",
    "M = DeclareSort('M')\n",
    "ScalarField = ArraySort(M, RealSort())\n",
    "Vec3Field = DeclareSort('Vec3Field')\n",
    "E,B = Consts('E B', Vec3Field)\n",
    "rho = Const('rho', ScalarField)\n",
    "\n",
    "div = Function('div', Vec3Field, ScalarField)\n",
    "grad = Function('grad', ScalarField, Vec3Field)\n",
    "curl = Function('curl', Vec3Field, Vec3Field)\n",
    "\n",
    "vzero = Const('vzero', Vec3Field)\n",
    "szero = Const(\"szero\", ScalarField)\n",
    "div(E) == szero\n",
    "\n",
    "laplacian = Function('laplacian', ScalarField, ScalarField)\n",
    "hodge = Function('hodge', Vec3Field, Vec3Field)\n",
    "curl(curl(E)) = grad(div(E)) - laplacian(E)\n",
    "\n"
   ]
  },
  {
   "cell_type": "code",
   "execution_count": 6,
   "metadata": {},
   "outputs": [
    {
     "ename": "AttributeError",
     "evalue": "'list' object has no attribute 'diff'",
     "output_type": "error",
     "traceback": [
      "\u001b[0;31m---------------------------------------------------------------------------\u001b[0m",
      "\u001b[0;31mAttributeError\u001b[0m                            Traceback (most recent call last)",
      "Cell \u001b[0;32mIn[6], line 19\u001b[0m\n\u001b[1;32m     16\u001b[0m \u001b[38;5;28;01mdef\u001b[39;00m \u001b[38;5;21mcont\u001b[39m(rho,J):\n\u001b[1;32m     17\u001b[0m     \u001b[38;5;28;01mreturn\u001b[39;00m sp\u001b[38;5;241m.\u001b[39mEq(rho\u001b[38;5;241m.\u001b[39mdiff(t), div(J))\n\u001b[0;32m---> 19\u001b[0m sp\u001b[38;5;241m.\u001b[39mEq(curl(E), [B\u001b[38;5;241m.\u001b[39mdiff(t) \u001b[38;5;28;01mfor\u001b[39;00m Bx \u001b[38;5;129;01min\u001b[39;00m B])\n",
      "Cell \u001b[0;32mIn[6], line 19\u001b[0m, in \u001b[0;36m<listcomp>\u001b[0;34m(.0)\u001b[0m\n\u001b[1;32m     16\u001b[0m \u001b[38;5;28;01mdef\u001b[39;00m \u001b[38;5;21mcont\u001b[39m(rho,J):\n\u001b[1;32m     17\u001b[0m     \u001b[38;5;28;01mreturn\u001b[39;00m sp\u001b[38;5;241m.\u001b[39mEq(rho\u001b[38;5;241m.\u001b[39mdiff(t), div(J))\n\u001b[0;32m---> 19\u001b[0m sp\u001b[38;5;241m.\u001b[39mEq(curl(E), [\u001b[43mB\u001b[49m\u001b[38;5;241;43m.\u001b[39;49m\u001b[43mdiff\u001b[49m(t) \u001b[38;5;28;01mfor\u001b[39;00m Bx \u001b[38;5;129;01min\u001b[39;00m B])\n",
      "\u001b[0;31mAttributeError\u001b[0m: 'list' object has no attribute 'diff'"
     ]
    }
   ],
   "source": [
    "import sympy as sp\n",
    "x,y,z,t = sp.symbols(\"x y z t\")\n",
    "def VecField(name):\n",
    "    return [sp.Function(name+\"{n}\")(x,y,z,t) for n in range(3)]\n",
    "def curl(f):\n",
    "    return [f[1].diff(z) - f[2].diff(y),\n",
    "            f[2].diff(x) - f[0].diff(z),\n",
    "            f[0].diff(y) - f[1].diff(x)]\n",
    "E = VecField(\"E\")\n",
    "B = VecField(\"B\")\n",
    "J = VecField(\"J\")\n",
    "rho = sp.Function(\"rho\")(x,y,z,t)\n",
    "def div(f):\n",
    "    return f[0].diff(x) + f[1].diff(y) + f[2].diff(z)\n",
    "\n",
    "def cont(rho,J):\n",
    "    return sp.Eq(rho.diff(t), div(J))\n",
    "\n",
    "sp.Eq(curl(E), [B.diff(t) for Bx in B])\n"
   ]
  },
  {
   "cell_type": "code",
   "execution_count": null,
   "metadata": {},
   "outputs": [],
   "source": [
    "# https://docs.scipy.org/doc/scipy/reference/optimize.html\n",
    "# integrate some polynomials\n",
    "# sin, cos, exp, log, etc.\n",
    "# maybe some \n",
    "\n",
    "def tube_integ(f,N):\n",
    "    h = 1/N\n",
    "    x = 0\n",
    "    for i in range(N):\n",
    "        x += f(i*h)*h\n",
    "    return x"
   ]
  },
  {
   "cell_type": "code",
   "execution_count": 1,
   "metadata": {},
   "outputs": [
    {
     "ename": "AttributeError",
     "evalue": "module 'meep' has no attribute 'Vector3'",
     "output_type": "error",
     "traceback": [
      "\u001b[0;31m---------------------------------------------------------------------------\u001b[0m",
      "\u001b[0;31mAttributeError\u001b[0m                            Traceback (most recent call last)",
      "Cell \u001b[0;32mIn[1], line 2\u001b[0m\n\u001b[1;32m      1\u001b[0m \u001b[38;5;28;01mimport\u001b[39;00m \u001b[38;5;21;01mmeep\u001b[39;00m \u001b[38;5;28;01mas\u001b[39;00m \u001b[38;5;21;01mmp\u001b[39;00m\n\u001b[0;32m----> 2\u001b[0m cell \u001b[38;5;241m=\u001b[39m \u001b[43mmp\u001b[49m\u001b[38;5;241;43m.\u001b[39;49m\u001b[43mVector3\u001b[49m(\u001b[38;5;241m16\u001b[39m,\u001b[38;5;241m8\u001b[39m,\u001b[38;5;241m0\u001b[39m)\n\u001b[1;32m      3\u001b[0m geometry \u001b[38;5;241m=\u001b[39m [mp\u001b[38;5;241m.\u001b[39mBlock(mp\u001b[38;5;241m.\u001b[39mVector3(mp\u001b[38;5;241m.\u001b[39minf,\u001b[38;5;241m1\u001b[39m,mp\u001b[38;5;241m.\u001b[39minf),\n\u001b[1;32m      4\u001b[0m                      center\u001b[38;5;241m=\u001b[39mmp\u001b[38;5;241m.\u001b[39mVector3(),\n\u001b[1;32m      5\u001b[0m                      material\u001b[38;5;241m=\u001b[39mmp\u001b[38;5;241m.\u001b[39mMedium(epsilon\u001b[38;5;241m=\u001b[39m\u001b[38;5;241m12\u001b[39m))]\n\u001b[1;32m      6\u001b[0m sources \u001b[38;5;241m=\u001b[39m [mp\u001b[38;5;241m.\u001b[39mSource(mp\u001b[38;5;241m.\u001b[39mContinuousSource(frequency\u001b[38;5;241m=\u001b[39m\u001b[38;5;241m0.15\u001b[39m),\n\u001b[1;32m      7\u001b[0m                      component\u001b[38;5;241m=\u001b[39mmp\u001b[38;5;241m.\u001b[39mEz,\n\u001b[1;32m      8\u001b[0m                      center\u001b[38;5;241m=\u001b[39mmp\u001b[38;5;241m.\u001b[39mVector3(\u001b[38;5;241m-\u001b[39m\u001b[38;5;241m7\u001b[39m,\u001b[38;5;241m0\u001b[39m))]\n",
      "\u001b[0;31mAttributeError\u001b[0m: module 'meep' has no attribute 'Vector3'"
     ]
    }
   ],
   "source": [
    "import meep as mp\n",
    "cell = mp.Vector3(16,8,0)\n",
    "geometry = [mp.Block(mp.Vector3(mp.inf,1,mp.inf),\n",
    "                     center=mp.Vector3(),\n",
    "                     material=mp.Medium(epsilon=12))]\n",
    "sources = [mp.Source(mp.ContinuousSource(frequency=0.15),\n",
    "                     component=mp.Ez,\n",
    "                     center=mp.Vector3(-7,0))]\n",
    "pml_layers = [mp.PML(1.0)]\n",
    "resolution = 10\n",
    "sim = mp.Simulation(cell_size=cell,\n",
    "                    boundary_layers=pml_layers,\n",
    "                    geometry=geometry,\n",
    "                    sources=sources,\n",
    "                    resolution=resolution)\n",
    "sim.run(until=200)\n",
    "sim.plot2D(fields=mp.Ez)\n",
    "\n"
   ]
  }
 ],
 "metadata": {
  "kernelspec": {
   "display_name": "Python 3",
   "language": "python",
   "name": "python3"
  },
  "language_info": {
   "codemirror_mode": {
    "name": "ipython",
    "version": 3
   },
   "file_extension": ".py",
   "mimetype": "text/x-python",
   "name": "python",
   "nbconvert_exporter": "python",
   "pygments_lexer": "ipython3",
   "version": "3.10.12"
  }
 },
 "nbformat": 4,
 "nbformat_minor": 2
}
