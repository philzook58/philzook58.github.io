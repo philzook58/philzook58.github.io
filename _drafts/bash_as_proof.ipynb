{
 "cells": [
  {
   "cell_type": "markdown",
   "id": "22b33902",
   "metadata": {},
   "source": [
    "---\n",
    "title: Bash as a Proof Assistant\n",
    "---\n",
    "\n",
    "This is a cyber punk proof assistatnt. This is the proof assistant mutants in the wasteland\n",
    "\n",
    "In LCF style, existential types are a programming language level construct for access control to the innards. Most (all?) mechanisms for access control and trust can be used for building a proof system. Cryptography, permissions, etc. You can have a secret key to sign things that have gone through a trusted verifier. You can merkle tree them. A folder called \"proven\" with write permissions only given to a verifier user also works. A web server with a simple endpoint. Process isolation. These are all mechanisms you can use to build a proof system\n",
    "\n",
    "\n",
    "\n",
    "\n",
    "\n",
    "\n"
   ]
  },
  {
   "cell_type": "code",
   "execution_count": null,
   "id": "1afc6963",
   "metadata": {},
   "outputs": [],
   "source": [
    "! mkdir /tmp/proven\n",
    "! chown -R 1000:1000 /tmp/proven"
   ]
  }
 ],
 "metadata": {
  "kernelspec": {
   "display_name": ".venv",
   "language": "python",
   "name": "python3"
  },
  "language_info": {
   "name": "python",
   "version": "3.12.3"
  }
 },
 "nbformat": 4,
 "nbformat_minor": 5
}
