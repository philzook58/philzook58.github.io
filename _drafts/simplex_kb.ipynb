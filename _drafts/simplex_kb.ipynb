{
 "cells": [
  {
   "cell_type": "code",
   "execution_count": null,
   "metadata": {},
   "outputs": [],
   "source": []
  },
  {
   "cell_type": "markdown",
   "metadata": {},
   "source": [
    "The simplex method. Ok we are crawling around between vertices on a simplex. sure.\n",
    "\n",
    "Normal form\n",
    "\n",
    "\n",
    "dual vs not. Hilbert and graver felt primal. Grobner andm multiset felt dual...\n",
    "\n",
    "\n",
    "\n",
    "Fourier motzkin is KB.\n",
    "x + 3y = 4 + 2z\n",
    "\n",
    "Overlap is 3x overlaps 4x. \n",
    "3x matches 4x pattern but not vice versa? Kind of a GCD action (LLL was gcd?)\n",
    "eliminate variables.\n",
    "\n",
    "c.x cost function as goal expression. reduce reduce reduce to minimum constant cost. Proof trace is dual vector.\n",
    "\n",
    "\n",
    "simplex is goal driven KB (set of support?)\n",
    "E,E',R,t\n",
    "\n",
    "E is starting set of equatiosn, t is best term\n",
    "move from E -> E' if either side unifies with t. Feels like we'd quickly activate everything though.\n",
    "Or maybe a restriction on deduce? Only seek critical pairs coming from t (?)\n",
    "\n",
    "\n"
   ]
  },
  {
   "cell_type": "code",
   "execution_count": null,
   "metadata": {},
   "outputs": [],
   "source": [
    "\n",
    "def simplex(A,b,c):\n",
    "    # maximize c^T x subject to Ax <= b.\n",
    "\n",
    "def overlap(x,y)\n",
    "\n",
    "def order(x,y):\n",
    "\n",
    "\n"
   ]
  }
 ],
 "metadata": {
  "language_info": {
   "name": "python"
  }
 },
 "nbformat": 4,
 "nbformat_minor": 2
}
