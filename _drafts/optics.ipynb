{
 "cells": [
  {
   "cell_type": "code",
   "execution_count": null,
   "metadata": {},
   "outputs": [],
   "source": []
  },
  {
   "cell_type": "markdown",
   "metadata": {},
   "source": [
    "Laser\n",
    "\n",
    "M2 parameter?\n",
    "Thorlabs laser diode quotes a angular spread parameter.\n",
    "\n",
    "Fresnel. Geometric mean of ratio of distances.\n",
    "Odd\n",
    "That sommerfeld dish experiment'\n",
    "line width\n",
    "fourier optics\n",
    "statstical optics\n",
    "\n",
    "single mode laser\n",
    "dpss laser\n",
    "\n",
    "haken laser book\n",
    "https://en.wikipedia.org/wiki/Gaussian_optics\n",
    "guassian beams\n",
    "https://en.wikipedia.org/wiki/Cardinal_point_(optics)\n",
    "\n",
    " Field Guide to Geometrical Optics. Field guide series\n",
    " hecht\n",
    "\n",
    " https://spie.org/education/online-courses#_=_ SPIE"
   ]
  }
 ],
 "metadata": {
  "kernelspec": {
   "display_name": "Python 3",
   "language": "python",
   "name": "python3"
  },
  "language_info": {
   "name": "python",
   "version": "3.10.12"
  }
 },
 "nbformat": 4,
 "nbformat_minor": 2
}
