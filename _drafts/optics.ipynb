{
 "cells": [
  {
   "cell_type": "code",
   "execution_count": null,
   "metadata": {},
   "outputs": [],
   "source": []
  },
  {
   "cell_type": "markdown",
   "metadata": {},
   "source": [
    "Laser\n",
    "\n",
    "M2 parameter?\n",
    "Thorlabs laser diode quotes a angular spread parameter.\n",
    "\n",
    "Fresnel. Geometric mean of ratio of distances.\n",
    "Odd\n",
    "That sommerfeld dish experiment'\n",
    "line width\n",
    "fourier optics\n",
    "statstical optics\n",
    "\n",
    "single mode laser\n",
    "dpss laser\n",
    "\n",
    "haken laser book\n",
    "https://en.wikipedia.org/wiki/Gaussian_optics\n",
    "guassian beams\n",
    "https://en.wikipedia.org/wiki/Cardinal_point_(optics)\n",
    "\n",
    " Field Guide to Geometrical Optics. Field guide series\n",
    " hecht\n",
    "\n",
    " https://spie.org/education/online-courses#_=_ SPIE\n",
    "\n",
    "\n",
    " Kirckhfff  https://en.wikipedia.org/wiki/Kirchhoff%27s_diffraction_formula\n",
    "\n",
    " The obliquity factor\n",
    "\n",
    "\n",
    "lagrange invariant. etendue\n",
    "\n",
    "\n",
    " Electron optics\n",
    "\n",
    "https://en.wikipedia.org/wiki/Thin_lens\n",
    "https://en.wikipedia.org/wiki/Paraxial_approximation"
   ]
  },
  {
   "cell_type": "markdown",
   "metadata": {},
   "source": [
    "# matrix analysis\n",
    "https://en.wikipedia.org/wiki/Ray_transfer_matrix_analysis\n",
    "\n",
    "Not any matrix is possible.\n",
    "only those of fixed determinant (retain etendue)\n",
    "Almost everything has at least one zero on off diaghonal\n",
    "\n"
   ]
  },
  {
   "cell_type": "code",
   "execution_count": 10,
   "metadata": {},
   "outputs": [
    {
     "data": {
      "text/latex": [
       "$\\displaystyle \\frac{n_{1} \\theta_{1}}{n_{2}} + O\\left(\\theta_{1}^{2}\\right)$"
      ],
      "text/plain": [
       "n1*theta1/n2 + O(theta1**2)"
      ]
     },
     "execution_count": 10,
     "metadata": {},
     "output_type": "execute_result"
    }
   ],
   "source": [
    "import sympy as sp\n",
    "n1,n2,theta1,theta2,x1,x2 = sp.symbols('n1 n2 theta1 theta2 x1 x2')\n",
    "snell = sp.Eq(n1*sp.sin(theta1),  \n",
    "              n2*sp.sin(theta2))\n",
    "th2 = sp.solve(snell, theta2)[1]\n",
    "sp.series(th2, theta1, n=2)\n"
   ]
  },
  {
   "cell_type": "code",
   "execution_count": null,
   "metadata": {},
   "outputs": [],
   "source": [
    "f, d = sp.symbols(\"f d\")\n",
    "thinlens = sp.Eq(1/x1 + 1/(x1+d), \n",
    "                 1/f)"
   ]
  },
  {
   "cell_type": "code",
   "execution_count": null,
   "metadata": {},
   "outputs": [],
   "source": [
    "import numpy as np\n",
    "\n",
    "# in free space, x = x + tan(theta) *d ~  x + theta * d\n",
    "# theta stays same\n",
    "def fs(d):\n",
    "    return np.array([[1, d],\n",
    "                     [0, 1]])\n",
    "\n",
    "def thinlens(f):\n",
    "    return np.array([[1, 0],\n",
    "                     [-1/f, 1]])\n",
    "\n",
    "# n1 sin(theta1) = n2 sin(theta2) ~ n1 theta1 = n2 theta2\n",
    "def refract(n1, n2):\n",
    "    return np.array([[1, 0],\n",
    "                     [0, n1/n2]])\n"
   ]
  },
  {
   "cell_type": "markdown",
   "metadata": {},
   "source": [
    "Maybe an optimization problem is interesting. Given 2 lenses, what ds achieve some focus.\n",
    "Discrete search over ordering (?) Or can I use -d. I think I can."
   ]
  }
 ],
 "metadata": {
  "kernelspec": {
   "display_name": "Python 3",
   "language": "python",
   "name": "python3"
  },
  "language_info": {
   "codemirror_mode": {
    "name": "ipython",
    "version": 3
   },
   "file_extension": ".py",
   "mimetype": "text/x-python",
   "name": "python",
   "nbconvert_exporter": "python",
   "pygments_lexer": "ipython3",
   "version": "3.10.12"
  }
 },
 "nbformat": 4,
 "nbformat_minor": 2
}
