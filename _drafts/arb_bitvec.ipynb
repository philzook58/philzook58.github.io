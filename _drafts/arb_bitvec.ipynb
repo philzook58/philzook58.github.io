{
 "cells": [
  {
   "cell_type": "code",
   "execution_count": null,
   "id": "d3a61b12",
   "metadata": {},
   "outputs": [
    {
     "ename": "AttributeError",
     "evalue": "module 'kdrag.smt' has no attribute 'Rev'",
     "output_type": "error",
     "traceback": [
      "\u001b[31m---------------------------------------------------------------------------\u001b[39m",
      "\u001b[31mAttributeError\u001b[39m                            Traceback (most recent call last)",
      "\u001b[36mCell\u001b[39m\u001b[36m \u001b[39m\u001b[32mIn[9]\u001b[39m\u001b[32m, line 19\u001b[39m\n\u001b[32m     12\u001b[39m kd.axiom(smt.ForAll([x], seqbool(smt.Length(x), signed(x)) == x))\n\u001b[32m     14\u001b[39m \u001b[38;5;66;03m#kd.notation.define(\"add\")\u001b[39;00m\n\u001b[32m     15\u001b[39m \n\u001b[32m     16\u001b[39m \n\u001b[32m     17\u001b[39m \u001b[38;5;66;03m#snoc = smt.Function(\"snoc\")\u001b[39;00m\n\u001b[32m---> \u001b[39m\u001b[32m19\u001b[39m \u001b[43msmt\u001b[49m\u001b[43m.\u001b[49m\u001b[43mRev\u001b[49m\n",
      "\u001b[31mAttributeError\u001b[39m: module 'kdrag.smt' has no attribute 'Rev'"
     ]
    }
   ],
   "source": [
    "from kdrag.all import *\n",
    "import kdrag.theories.bitvec as bv\n",
    "import kdrag.theories.seq as seq\n",
    "\n",
    "SeqBool = seq.Seq(smt.BoolSort())\n",
    "BitVecMP = kd.Struct(\"BitVecMP\", (\"length\", smt.IntSort()), (\"val\", smt.IntSort()))# multiprecision. Like a len + GMP\n",
    "\n",
    "signed = smt.Function(\"signed\", SeqBool, smt.IntSort())\n",
    "#smt.Function(\"unsigned\", SeqBool, smt.IntSort())\n",
    "seqbool = smt.Function(\"seqbool\", smt.IntSort(), smt.IntSort(), SeqBool)\n",
    "x = smt.Const(\"x\", SeqBool)\n",
    "kd.axiom(smt.ForAll([x], seqbool(smt.Length(x), signed(x)) == x))\n",
    "\n",
    "#kd.notation.define(\"add\")\n",
    "\n",
    "rev = smt.Function(\"rev\", SeqBool, SeqBool)\n",
    "revrev = kd.axiom(smt.ForAll([x], rev(rev(x)) == x))\n",
    "\n",
    "\n",
    "#snoc = smt.Function(\"snoc\")\n",
    "\n",
    "smt.Rev\n",
    "\n"
   ]
  },
  {
   "cell_type": "markdown",
   "id": "286d2818",
   "metadata": {},
   "source": [
    "Mixed binary arithmetic\n"
   ]
  },
  {
   "cell_type": "markdown",
   "id": "2d3eb466",
   "metadata": {},
   "source": [
    "to from asbtract functions\n",
    "\n",
    "There is an isomorphism here. A useful one.\n",
    "To ints it's not an isomorphim. We lose the ends.\n",
    "to the tuple of int and int for length not iso because we there are bad elements.\n",
    "Under assupmtion of goodness\n",
    "\n",
    "\n",
    "CF says just add bitwise ops. Nonsense/undefined on negative numbers?\n",
    "\n",
    "The totalized version is unspecified behavior, not undefined. Apply the same thing twice will get same results. Uh not it has to anyway... Hmm.\n",
    "\n",
    "\n",
    "| BVOnes int    inverted\n",
    "| BVZeros int   normal\n",
    "\n",
    "but then what does arithemtic do on the inverted one?\n",
    "\n",
    "what about bitwise negation?\n",
    "\n",
    "\n",
    "oh twos complement. duh\n",
    "\n",
    "invert add 1\n",
    "\n",
    "8 = 1000 ->   111110111 + 1 = 11111111000\n",
    "\n",
    "7 = 0111 -> 11111000 + 1 = 11111001\n"
   ]
  },
  {
   "cell_type": "code",
   "execution_count": 11,
   "id": "032859fa",
   "metadata": {},
   "outputs": [
    {
     "data": {
      "text/plain": [
       "1"
      ]
     },
     "execution_count": 11,
     "metadata": {},
     "output_type": "execute_result"
    }
   ],
   "source": [
    "-8 ^ -7"
   ]
  },
  {
   "cell_type": "code",
   "execution_count": null,
   "id": "c55e89c4",
   "metadata": {},
   "outputs": [],
   "source": [
    "bvxor = smt.Function(\"xor\", smt.IntSort(), smt.IntSort(), smt.IntSort())\n",
    "bvand = smt.Function(\"band\", smt.IntSort(), smt.IntSort(), smt.IntSort())\n",
    "bvor = smt.Function(\"bor\", smt.IntSort(), smt.IntSort(), smt.IntSort())\n",
    "\n",
    "bvand_comm = kd.axiom(smt.ForAll([x, y], bvand(x, y) == bvand(y, x)))\n",
    "bvand_assoc = kd.axiom(smt.ForAll([x, y, z], bvand(x, bvand(y, z)) == bvand(bvand(x, y), z)))\n",
    "\n",
    "# copy over all the rules from the bitvec theory\n",
    "\n",
    "def schema(n):\n",
    "    pass\n",
    "    # ToBitVec(bvxor(x,y)) == ToBitVec(x) ^ ToBitVec(y)\n",
    "    # and so on.\n",
    "\n",
    "bvxorpos\n",
    "bvxor = kd.define(\"bvxor\", [x,y],\n",
    "    kd.cond(\n",
    "        (smt.And(x < 0, y < 0), bvxorpos(-x, -y)),\n",
    "        (smt.And(x < 0, y >= 0), -bvxorpos(-x, y)),\n",
    "        (smt.And(x >= 0, y < 0), -bvxorpos(x, -y)),\n",
    "        (smt.And(x >= 0, y >= 0), bvxorpos(x, y)\n",
    "    )\n",
    ")"
   ]
  }
 ],
 "metadata": {
  "kernelspec": {
   "display_name": ".venv",
   "language": "python",
   "name": "python3"
  },
  "language_info": {
   "codemirror_mode": {
    "name": "ipython",
    "version": 3
   },
   "file_extension": ".py",
   "mimetype": "text/x-python",
   "name": "python",
   "nbconvert_exporter": "python",
   "pygments_lexer": "ipython3",
   "version": "3.12.3"
  }
 },
 "nbformat": 4,
 "nbformat_minor": 5
}
