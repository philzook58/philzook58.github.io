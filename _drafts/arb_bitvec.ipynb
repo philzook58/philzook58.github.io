{
 "cells": [
  {
   "cell_type": "code",
   "execution_count": null,
   "id": "d3a61b12",
   "metadata": {},
   "outputs": [
    {
     "ename": "AttributeError",
     "evalue": "module 'kdrag.smt' has no attribute 'Rev'",
     "output_type": "error",
     "traceback": [
      "\u001b[31m---------------------------------------------------------------------------\u001b[39m",
      "\u001b[31mAttributeError\u001b[39m                            Traceback (most recent call last)",
      "\u001b[36mCell\u001b[39m\u001b[36m \u001b[39m\u001b[32mIn[9]\u001b[39m\u001b[32m, line 19\u001b[39m\n\u001b[32m     12\u001b[39m kd.axiom(smt.ForAll([x], seqbool(smt.Length(x), signed(x)) == x))\n\u001b[32m     14\u001b[39m \u001b[38;5;66;03m#kd.notation.define(\"add\")\u001b[39;00m\n\u001b[32m     15\u001b[39m \n\u001b[32m     16\u001b[39m \n\u001b[32m     17\u001b[39m \u001b[38;5;66;03m#snoc = smt.Function(\"snoc\")\u001b[39;00m\n\u001b[32m---> \u001b[39m\u001b[32m19\u001b[39m \u001b[43msmt\u001b[49m\u001b[43m.\u001b[49m\u001b[43mRev\u001b[49m\n",
      "\u001b[31mAttributeError\u001b[39m: module 'kdrag.smt' has no attribute 'Rev'"
     ]
    }
   ],
   "source": [
    "from kdrag.all import *\n",
    "import kdrag.theories.bitvec as bv\n",
    "import kdrag.theories.seq as seq\n",
    "\n",
    "SeqBool = seq.Seq(smt.BoolSort())\n",
    "BitVecMP = kd.Struct(\"BitVecMP\", (\"length\", smt.IntSort()), (\"val\", smt.IntSort()))# multiprecision. Like a len + GMP\n",
    "\n",
    "signed = smt.Function(\"signed\", SeqBool, smt.IntSort())\n",
    "#smt.Function(\"unsigned\", SeqBool, smt.IntSort())\n",
    "seqbool = smt.Function(\"seqbool\", smt.IntSort(), smt.IntSort(), SeqBool)\n",
    "x = smt.Const(\"x\", SeqBool)\n",
    "kd.axiom(smt.ForAll([x], seqbool(smt.Length(x), signed(x)) == x))\n",
    "\n",
    "#kd.notation.define(\"add\")\n",
    "\n",
    "rev = smt.Function(\"rev\", SeqBool, SeqBool)\n",
    "revrev = kd.axiom(smt.ForAll([x], rev(rev(x)) == x))\n",
    "\n",
    "\n",
    "#snoc = smt.Function(\"snoc\")\n",
    "\n",
    "smt.Rev\n",
    "\n"
   ]
  },
  {
   "cell_type": "markdown",
   "id": "40f7af36",
   "metadata": {},
   "source": [
    "Use smt egraph.\n",
    "\n",
    "Use BitVec(8) or whatever.\n",
    "We have a pile of equiational rules we trust (?) work polymorphically. Could also prove them inductively manually in knuckeldragger or lean.\n",
    "https://gitlab.com/haroldaptroot/haroldbot/-/blob/main/prooffinder.js\n",
    "Kind of the goal is to extract an equational proof out of the concrete case. An explanation that only uses parametric rules.\n",
    "We can get clues in so far as what subexpressions might equal others\n",
    "\n",
    "Maybe this is a general issue. Proof extraction via SMT query. I think I've talk about this before in terms of \n",
    "constraint guided prolog\n",
    "or extracting serquent proof from smt.\n",
    "\n",
    "\n",
    "Equality proof extraction. Even though we have theories teleporting, maybe we really do want an equational proof extracted.\n",
    "\n",
    "The codes/semantics distinction is one used all the time in egglog etc. For example extraction as a datalog program. We usually called them terms.\n",
    "\n"
   ]
  },
  {
   "cell_type": "code",
   "execution_count": null,
   "id": "b1ad1ad9",
   "metadata": {},
   "outputs": [],
   "source": []
  },
  {
   "cell_type": "code",
   "execution_count": null,
   "id": "83864d43",
   "metadata": {},
   "outputs": [
    {
     "data": {
      "text/html": [
       "bvadd(bvadd(x, y), z)"
      ],
      "text/plain": [
       "bvadd(bvadd(x, y), z)"
      ]
     },
     "execution_count": 7,
     "metadata": {},
     "output_type": "execute_result"
    }
   ],
   "source": [
    "from kdrag.all import *\n",
    "\n",
    "# compare to abstract reals\n",
    "# Kind of an interesting technique. \n",
    "# The transfer principle says that everything true over R is true over R*.\n",
    "# https://en.wikipedia.org/wiki/Transfer_principle\n",
    "# giving an\n",
    "\n",
    "def transfer(pf : smt.Proof):\n",
    "    assert isinstance(thm, kd.Proof)\n",
    "    return kd.axiom(abstract(thm.thm))\n",
    "\n",
    "# but in our case we don't want that.\n",
    "# we want the opposite direction that everything provable in abstract bitvec is provable for specific ones.\n",
    "\n",
    "def abstract(t : smt.ExprRef): #quote\n",
    "    T = smt.DeclareSort(\"abs_\" + t.sort().name())\n",
    "    to = smt.Function(\"to\", t.sort(), T )  # reflect? quote\n",
    "    fro = smt.Function(\"fro\", T, t.sort()) # interp, std\n",
    "    # forall x, fro(to(x)) == x\n",
    "    absdecl = smt.Function(t.decl().name(), *([T]*t.num_args()), T)\n",
    "    return absdecl(*[abstract(c) for c in t.children()]) # abstract the children\n",
    "    #return to(fro(t.decl()(*[abstract(c) for c in t.children()])))\n",
    "    \n",
    "\n",
    "def extract_eq(t1, t2):\n",
    "    kd.prove(t1 == t2)\n",
    "    E1 = EGraph()\n",
    "    E2 = EGraph()\n",
    "    #abstract(t1) == t\n",
    "    # to/from pairs everywhere? it's a galois connection\n",
    "    E1.add(t1)\n",
    "    E2.add(t2)\n",
    "    E.rebuild()\n",
    "x,y,z = smt.BitVecs(\"x y z\", 8)\n",
    "abstract(x + y + z)\n"
   ]
  },
  {
   "cell_type": "code",
   "execution_count": null,
   "id": "433be90a",
   "metadata": {},
   "outputs": [
    {
     "data": {
      "text/html": [
       "Code<(_ BitVec 8)>"
      ],
      "text/plain": [
       "Code<(_ BitVec 8)>"
      ]
     },
     "execution_count": 25,
     "metadata": {},
     "output_type": "execute_result"
    }
   ],
   "source": [
    "sorts = {}\n",
    "def quote_sort(s : smt.SortRef):\n",
    "    T = smt.DeclareSort(\"Code<\" + s.sexpr() + \">\")\n",
    "    sorts[T] = s\n",
    "    return T\n",
    "def interp_ax(s : smt.SortRef):\n",
    "    T = quote_sort(s)\n",
    "    interp = smt.Function(\"interp\", T, s) \n",
    "    reify = smt.Function(\"reify\", s, T)\n",
    "    x = smt.Const(\"x\", s)\n",
    "    return kd.axiom(smt.ForAll([x], interp(reify(x)) == x))\n",
    "def quote(t : smt.ExprRef):\n",
    "    assert not isinstance(t, smt.QuantifierRef)\n",
    "    T = quote_sort(t.sort())\n",
    "    decl, children = t.decl(), t.children()\n",
    "    Targs = [quote_sort(c.sort()) for c in children]\n",
    "    absdecl = smt.Function(decl.name(), *Targs, T)\n",
    "    return absdecl(*[quote(c) for c in children])\n",
    "x + y * z\n",
    "quote(x+y*z).sort()\n",
    "\n",
    "#def interp(t : smt.ExprRef):\n",
    "\n",
    "is_true = smt.Function(\"is_sat\", quote_sort(smt.BoolSort()), smt.BoolSort())\n",
    "\n",
    "def is_true(t : smt.ExprRef, by=[]):\n",
    "    # is_true is negation is unsat.\n",
    "    #s = smt.Solver()\n",
    "    #s.add(smt.Not(interp(t)))\n",
    "    #if s.check() == smt.sat:\n",
    "    #    return kd.axiom(is_true(t) == False, reasons=[])\n",
    "    p = kd.prove(interp(t), by=by)\n",
    "    return kd.axiom(is_true(t) == True, reasons=[p])\n",
    "    \n",
    "\n",
    "\n",
    "\n",
    "\n",
    "\n",
    "\n",
    "\n",
    "\n",
    "\n",
    "\n",
    "    "
   ]
  },
  {
   "cell_type": "markdown",
   "id": "d48bf928",
   "metadata": {},
   "source": [
    "https://theory.stanford.edu/~barrett/pubs/NPR+21c.pdf Towards Satisfiability Modulo Parametric Bit-vectors\n",
    "https://youtu.be/WtsInfbzxjs?si=6yXUK1kb_xy4XcEQ 2025 EuroLLVM - How to trust your peephole rewrites: automatically verifying for arbitrary width!\n",
    "https://michaelblondin.com/automata/files/book_authors.pdf chapter 9 presburger arithmetic\n",
    "\n",
    "https://dl.acm.org/doi/pdf/10.1145/3485539 FPL: Fast Presburger Arithmetic through Transprecision https://grosser.science/FPL/ \n",
    "https://johnwickerson.github.io/papers/luigi_LATTE25.pdf"
   ]
  },
  {
   "cell_type": "markdown",
   "id": "5b7df5be",
   "metadata": {},
   "source": [
    "Try some examples modelling arbitrary bitwidth using streaming algorithms.\n",
    "\n",
    "Concat is a problem. Liveness somehow gets involved.\n",
    "\n",
    "\n",
    "I think it does make sense to make zequence 0\n",
    "\n",
    "Bitvec1 vs Bool. BitVec1 has slightly less impedance mismatch I think.\n",
    "\n",
    "Maybe I can actually do this by \n",
    "SeqFoldI basically."
   ]
  },
  {
   "cell_type": "code",
   "execution_count": null,
   "id": "e89f259d",
   "metadata": {},
   "outputs": [],
   "source": [
    "from kdrag.all import *\n",
    "import kdrag.theories.bitvec as bitvec\n",
    "import kdrag.theories.seq as seq\n",
    "\n",
    "BV = seq.Seq(smt.BoolSort())\n",
    "\n",
    "x,y,z = smt.Consts(\"x y z\", BV)\n",
    "\n",
    "#kd.prove(smt.ForAll([x], smt.Concat(x[0], smt.SubSeq(x, 1, smt.Length(x)-1)) == x))\n",
    "\n",
    "to_int = smt.Function(\"to_int\", BV, smt.IntSort())\n",
    "to_int = kd.notation.to_int.define([x], \n",
    "smt.If(smt.Length(x) == 0, \n",
    "       smt.IntVal(0), \n",
    "    x[0] + \n",
    "    2 * to_int(smt.SubSeq(x, 1, smt.Length(x)-1))\n",
    "))\n",
    "\n",
    "\n",
    "is_empty = kd.define(\"is_empty\", [x], smt.Length(x) == 0)\n",
    "\n",
    "to_bv = kd.notation.SortDispatch(name=\"to_bv\")\n",
    "#to_bv.register(smt.BitVecSort(8), )\n",
    "BV1 = smt.BitVecSort(1)\n",
    "\n",
    "z = smt.BitVecVal(0,1)\n",
    "\n",
    "def ToBitVecN(x : smt.BitVecRef) -> smt.SeqRef:\n",
    "    return smt.Concat(x[i]  for i in range(x.size()))\n",
    "\n",
    "\n",
    "ToBitVecN(z)\n",
    "\n",
    "#kd.notation.add.define([x,y], \n",
    "#    smt.If(smt.Length(x) == 0, y)\n",
    "#)\n"
   ]
  },
  {
   "cell_type": "markdown",
   "id": "286d2818",
   "metadata": {},
   "source": [
    "Mixed binary arithmetic\n"
   ]
  },
  {
   "cell_type": "markdown",
   "id": "2d3eb466",
   "metadata": {},
   "source": [
    "to from asbtract functions\n",
    "\n",
    "There is an isomorphism here. A useful one.\n",
    "To ints it's not an isomorphim. We lose the ends.\n",
    "to the tuple of int and int for length not iso because we there are bad elements.\n",
    "Under assupmtion of goodness\n",
    "\n",
    "\n",
    "CF says just add bitwise ops. Nonsense/undefined on negative numbers?\n",
    "\n",
    "The totalized version is unspecified behavior, not undefined. Apply the same thing twice will get same results. Uh not it has to anyway... Hmm.\n",
    "\n",
    "\n",
    "| BVOnes int    inverted\n",
    "| BVZeros int   normal\n",
    "\n",
    "but then what does arithemtic do on the inverted one?\n",
    "\n",
    "what about bitwise negation?\n",
    "\n",
    "\n",
    "oh twos complement. duh\n",
    "\n",
    "invert add 1\n",
    "\n",
    "8 = 1000 ->   111110111 + 1 = 11111111000\n",
    "\n",
    "7 = 0111 -> 11111000 + 1 = 11111001\n"
   ]
  },
  {
   "cell_type": "code",
   "execution_count": 11,
   "id": "032859fa",
   "metadata": {},
   "outputs": [
    {
     "data": {
      "text/plain": [
       "1"
      ]
     },
     "execution_count": 11,
     "metadata": {},
     "output_type": "execute_result"
    }
   ],
   "source": [
    "-8 ^ -7"
   ]
  },
  {
   "cell_type": "code",
   "execution_count": null,
   "id": "c55e89c4",
   "metadata": {},
   "outputs": [],
   "source": [
    "bvxor = smt.Function(\"xor\", smt.IntSort(), smt.IntSort(), smt.IntSort())\n",
    "bvand = smt.Function(\"band\", smt.IntSort(), smt.IntSort(), smt.IntSort())\n",
    "bvor = smt.Function(\"bor\", smt.IntSort(), smt.IntSort(), smt.IntSort())\n",
    "\n",
    "bvand_comm = kd.axiom(smt.ForAll([x, y], bvand(x, y) == bvand(y, x)))\n",
    "bvand_assoc = kd.axiom(smt.ForAll([x, y, z], bvand(x, bvand(y, z)) == bvand(bvand(x, y), z)))\n",
    "\n",
    "# copy over all the rules from the bitvec theory\n",
    "\n",
    "def schema(n):\n",
    "    pass\n",
    "    # ToBitVec(bvxor(x,y)) == ToBitVec(x) ^ ToBitVec(y)\n",
    "    # and so on.\n",
    "\n",
    "bvxorpos\n",
    "bvxor = kd.define(\"bvxor\", [x,y],\n",
    "    kd.cond(\n",
    "        (smt.And(x < 0, y < 0), bvxorpos(-x, -y)),\n",
    "        (smt.And(x < 0, y >= 0), -bvxorpos(-x, y)),\n",
    "        (smt.And(x >= 0, y < 0), -bvxorpos(x, -y)),\n",
    "        (smt.And(x >= 0, y >= 0), bvxorpos(x, y)\n",
    "    )\n",
    ")"
   ]
  }
 ],
 "metadata": {
  "kernelspec": {
   "display_name": ".venv",
   "language": "python",
   "name": "python3"
  },
  "language_info": {
   "codemirror_mode": {
    "name": "ipython",
    "version": 3
   },
   "file_extension": ".py",
   "mimetype": "text/x-python",
   "name": "python",
   "nbconvert_exporter": "python",
   "pygments_lexer": "ipython3",
   "version": "3.12.3"
  }
 },
 "nbformat": 4,
 "nbformat_minor": 5
}
