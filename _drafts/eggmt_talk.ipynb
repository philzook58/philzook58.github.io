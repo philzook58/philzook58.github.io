{
 "cells": [
  {
   "cell_type": "markdown",
   "id": "67cc2a1d",
   "metadata": {},
   "source": [
    "\n",
    "# Omelets need Onions\n",
    "\n",
    "### E-graphs Modulo Theories via Bottom Up E-Matching\n",
    "\n",
    "Philip Zucker (Draper Labs)\n"
   ]
  },
  {
   "cell_type": "markdown",
   "id": "8a82ba1c",
   "metadata": {},
   "source": [
    "# Overview\n",
    "\n",
    "- Bottom-up E-matching\n",
    "  - Terms Modulo Theories\n",
    "  - Patterns\n",
    "- Semantic E-ids\n",
    "  - E-graphs are models\n",
    "  - UF is canonizer for atomic equations\n",
    "  - Linear expressions, polynomials, multisets also have canonizers\n",
    "  - Undecidable canonizers\n"
   ]
  },
  {
   "cell_type": "markdown",
   "id": "fc42757d",
   "metadata": {},
   "source": []
  },
  {
   "cell_type": "markdown",
   "id": "fda557d3",
   "metadata": {},
   "source": [
    "# Bits and Bobbles\n",
    "\n",
    "Should I do a jupyter talk?\n",
    "\n",
    "Show sympy version of \n"
   ]
  },
  {
   "cell_type": "code",
   "execution_count": 11,
   "id": "408d2909",
   "metadata": {},
   "outputs": [
    {
     "data": {
      "text/html": [
       "If(b = T!val!2, T!val!0, If(b = T!val!1, T!val!2, T!val!1))"
      ],
      "text/plain": [
       "If(b == T!val!2,\n",
       "   T!val!0,\n",
       "   If(b == T!val!1, T!val!2, T!val!1))"
      ]
     },
     "execution_count": 11,
     "metadata": {},
     "output_type": "execute_result"
    }
   ],
   "source": [
    "from z3 import *\n",
    "\n",
    "T = DeclareSort(\"T\")\n",
    "foo = Function(\"foo\", T, T)\n",
    "a = Const(\"a\", T)\n",
    "b = Const(\"b\", T)\n",
    "s = SimpleSolver()\n",
    "s.add(foo(foo(foo(a))) == a)\n",
    "s.check()\n",
    "m = s.model()\n",
    "m.eval(foo(b))\n"
   ]
  },
  {
   "cell_type": "code",
   "execution_count": 9,
   "id": "aa7d984b",
   "metadata": {},
   "outputs": [
    {
     "data": {
      "text/html": [
       "[a = T!val!0,\n",
       " foo = [T!val!1 &rarr; T!val!2, T!val!2 &rarr; T!val!0, else &rarr; T!val!1]]"
      ],
      "text/plain": [
       "[a = T!val!0,\n",
       " foo = [T!val!1 -> T!val!2,\n",
       "        T!val!2 -> T!val!0,\n",
       "        else -> T!val!1]]"
      ]
     },
     "execution_count": 9,
     "metadata": {},
     "output_type": "execute_result"
    }
   ],
   "source": [
    "from z3 import *\n",
    "\n",
    "T = DeclareSort(\"T\")\n",
    "foo = Function(\"foo\", T, T)\n",
    "a = Const(\"a\", T)\n",
    "s = Solver()\n",
    "s.add(foo(foo(foo(a))) == a)\n",
    "#s.add(foo(a) == a)\n",
    "s.check()\n",
    "s.model()"
   ]
  },
  {
   "cell_type": "code",
   "execution_count": null,
   "id": "b71aef68",
   "metadata": {},
   "outputs": [
    {
     "data": {
      "text/latex": [
       "$\\displaystyle \\sin^{2}{\\left(x \\right)} + \\cos^{2}{\\left(x \\right)}$"
      ],
      "text/plain": [
       "sin(x)**2 + cos(x)**2"
      ]
     },
     "execution_count": 1,
     "metadata": {},
     "output_type": "execute_result"
    }
   ],
   "source": [
    "from sympy import *\n",
    "from sympy.abc import *\n",
    "from dataclasses import dataclass\n",
    "\n",
    "\n",
    "@dataclass\n",
    "class TermBank():\n",
    "    terms : set[Basic]\n",
    "    def is_eq(self, lhs, rhs):\n",
    "        return simplify(lhs - rhs).is_zero\n",
    "    def add_term(self.term):\n",
    "        if t not in self.terms:\n",
    "            self.terms.add(term)\n",
    "            for e in term.args:\n",
    "                add_term(e)\n",
    "    def ematch(self, vs, lhs):\n",
    "term_bank.add(sin(x)**2 + cos(x)**2)"
   ]
  },
  {
   "cell_type": "code",
   "execution_count": null,
   "id": "5546e2ce",
   "metadata": {},
   "outputs": [],
   "source": [
    "from kdrag.all import *\n",
    "import sympy\n",
    "class UnifyUF(): # build a union find that unifies on conflict\n",
    "\n",
    "\n",
    "class UFSolver()\n",
    "\n",
    "class LinSolver():\n",
    "    eqs\n",
    "\n",
    "\n",
    "\n",
    "class PolySolver()\n",
    "\n",
    "\n",
    "SympySolver()\n"
   ]
  },
  {
   "cell_type": "code",
   "execution_count": 18,
   "id": "8e9bde3e",
   "metadata": {},
   "outputs": [],
   "source": [
    "from kdrag.solvers.egraph import EGraph\n",
    "from kdrag.all import *\n",
    "import itertools\n",
    "import functools\n",
    "import operator\n",
    "xs = [smt.Int(f\"x{n}\") for n in range(5)]\n",
    "\n",
    "\n",
    "E = EGraph()\n",
    "for xs1 in itertools.permutations(xs):\n",
    "    E.add_term(functools.reduce(operator.add, xs1))\n",
    "#E.rebuild()\n",
    "#E.dot()\n"
   ]
  },
  {
   "cell_type": "code",
   "execution_count": 10,
   "id": "a931cde2",
   "metadata": {},
   "outputs": [],
   "source": [
    "d = E.dot()"
   ]
  },
  {
   "cell_type": "code",
   "execution_count": 11,
   "id": "f970eca3",
   "metadata": {},
   "outputs": [
    {
     "data": {
      "text/plain": [
       "'egraph.gv.svg'"
      ]
     },
     "execution_count": 11,
     "metadata": {},
     "output_type": "execute_result"
    }
   ],
   "source": [
    "d.render(format=\"svg\")"
   ]
  },
  {
   "cell_type": "code",
   "execution_count": 24,
   "id": "32635338",
   "metadata": {},
   "outputs": [],
   "source": [
    "E.rebuild()"
   ]
  },
  {
   "cell_type": "code",
   "execution_count": 23,
   "id": "6367e679",
   "metadata": {},
   "outputs": [
    {
     "data": {
      "text/plain": [
       "'egraph.gv.svg'"
      ]
     },
     "execution_count": 23,
     "metadata": {},
     "output_type": "execute_result"
    }
   ],
   "source": [
    "from kdrag.solvers.egraph import EGraph\n",
    "E = EGraph()\n",
    "x,y = smt.Ints(\"x y\")\n",
    "E.add_term(x + y)\n",
    "E.rebuild()\n",
    "E.dot().render(format=\"svg\")"
   ]
  },
  {
   "cell_type": "markdown",
   "id": "76a8c8b1",
   "metadata": {},
   "source": [
    "# Term graph vis\n",
    "\n",
    "\n",
    "\n"
   ]
  },
  {
   "cell_type": "code",
   "execution_count": null,
   "id": "e374b445",
   "metadata": {},
   "outputs": [],
   "source": []
  },
  {
   "cell_type": "markdown",
   "id": "974a658f",
   "metadata": {},
   "source": [
    "# it is a term bank\n"
   ]
  },
  {
   "cell_type": "code",
   "execution_count": 38,
   "id": "ae9feb57",
   "metadata": {},
   "outputs": [
    {
     "data": {
      "image/svg+xml": [
       "<?xml version=\"1.0\" encoding=\"UTF-8\" standalone=\"no\"?>\n",
       "<!DOCTYPE svg PUBLIC \"-//W3C//DTD SVG 1.1//EN\"\n",
       " \"http://www.w3.org/Graphics/SVG/1.1/DTD/svg11.dtd\">\n",
       "<!-- Generated by graphviz version 2.43.20190912.0211 (20190912.0211)\n",
       " -->\n",
       "<!-- Title: egraph Pages: 1 -->\n",
       "<svg width=\"188pt\" height=\"148pt\"\n",
       " viewBox=\"0.00 0.00 188.00 148.00\" xmlns=\"http://www.w3.org/2000/svg\" xmlns:xlink=\"http://www.w3.org/1999/xlink\">\n",
       "<g id=\"graph0\" class=\"graph\" transform=\"scale(1 1) rotate(0) translate(4 144)\">\n",
       "<title>egraph</title>\n",
       "<polygon fill=\"white\" stroke=\"transparent\" points=\"-4,4 -4,-144 184,-144 184,4 -4,4\"/>\n",
       "<g id=\"clust1\" class=\"cluster\">\n",
       "<title>cluster_15</title>\n",
       "<path fill=\"none\" stroke=\"black\" stroke-dasharray=\"1,5\" d=\"M20,-80C20,-80 160,-80 160,-80 166,-80 172,-86 172,-92 172,-92 172,-120 172,-120 172,-126 166,-132 160,-132 160,-132 20,-132 20,-132 14,-132 8,-126 8,-120 8,-120 8,-92 8,-92 8,-86 14,-80 20,-80\"/>\n",
       "</g>\n",
       "<g id=\"clust2\" class=\"cluster\">\n",
       "<title>cluster_10</title>\n",
       "<path fill=\"none\" stroke=\"black\" stroke-dasharray=\"1,5\" d=\"M67,-8C67,-8 135,-8 135,-8 141,-8 147,-14 147,-20 147,-20 147,-48 147,-48 147,-54 141,-60 135,-60 135,-60 67,-60 67,-60 61,-60 55,-54 55,-48 55,-48 55,-20 55,-20 55,-14 61,-8 67,-8\"/>\n",
       "</g>\n",
       "<!-- 15_foo_10 -->\n",
       "<g id=\"node1\" class=\"node\">\n",
       "<title>15_foo_10</title>\n",
       "<path fill=\"none\" stroke=\"black\" d=\"M152,-124C152,-124 122,-124 122,-124 116,-124 110,-118 110,-112 110,-112 110,-100 110,-100 110,-94 116,-88 122,-88 122,-88 152,-88 152,-88 158,-88 164,-94 164,-100 164,-100 164,-112 164,-112 164,-118 158,-124 152,-124\"/>\n",
       "<text text-anchor=\"middle\" x=\"137\" y=\"-102.3\" font-family=\"Times,serif\" font-size=\"14.00\">foo</text>\n",
       "</g>\n",
       "<!-- e_rep_10 -->\n",
       "<!-- 15_foo_10&#45;&gt;e_rep_10 -->\n",
       "<g id=\"edge1\" class=\"edge\">\n",
       "<title>15_foo_10&#45;&gt;e_rep_10</title>\n",
       "<path fill=\"none\" stroke=\"black\" d=\"M137,-87.7C137,-74.63 137,-57.11 137,-45.93\"/>\n",
       "<polygon fill=\"black\" stroke=\"black\" points=\"140.5,-45.81 137,-35.81 133.5,-45.81 140.5,-45.81\"/>\n",
       "</g>\n",
       "<!-- e_rep_15 -->\n",
       "<!-- 15_b_ -->\n",
       "<g id=\"node4\" class=\"node\">\n",
       "<title>15_b_</title>\n",
       "<path fill=\"none\" stroke=\"black\" d=\"M58,-124C58,-124 28,-124 28,-124 22,-124 16,-118 16,-112 16,-112 16,-100 16,-100 16,-94 22,-88 28,-88 28,-88 58,-88 58,-88 64,-88 70,-94 70,-100 70,-100 70,-112 70,-112 70,-118 64,-124 58,-124\"/>\n",
       "<text text-anchor=\"middle\" x=\"43\" y=\"-102.3\" font-family=\"Times,serif\" font-size=\"14.00\">b</text>\n",
       "</g>\n",
       "<!-- 10_a_ -->\n",
       "<g id=\"node5\" class=\"node\">\n",
       "<title>10_a_</title>\n",
       "<path fill=\"none\" stroke=\"black\" d=\"M105,-52C105,-52 75,-52 75,-52 69,-52 63,-46 63,-40 63,-40 63,-28 63,-28 63,-22 69,-16 75,-16 75,-16 105,-16 105,-16 111,-16 117,-22 117,-28 117,-28 117,-40 117,-40 117,-46 111,-52 105,-52\"/>\n",
       "<text text-anchor=\"middle\" x=\"90\" y=\"-30.3\" font-family=\"Times,serif\" font-size=\"14.00\">a</text>\n",
       "</g>\n",
       "</g>\n",
       "</svg>\n"
      ],
      "text/plain": [
       "<graphviz.graphs.Digraph at 0x7fbdf93b5460>"
      ]
     },
     "execution_count": 38,
     "metadata": {},
     "output_type": "execute_result"
    }
   ],
   "source": [
    "E = EGraph()\n",
    "E.union(foo(a),b)\n",
    "E.rebuild()\n",
    "E.dot()\n"
   ]
  },
  {
   "cell_type": "code",
   "execution_count": 40,
   "id": "0426a8f0",
   "metadata": {},
   "outputs": [
    {
     "data": {
      "image/svg+xml": [
       "<?xml version=\"1.0\" encoding=\"UTF-8\" standalone=\"no\"?>\n",
       "<!DOCTYPE svg PUBLIC \"-//W3C//DTD SVG 1.1//EN\"\n",
       " \"http://www.w3.org/Graphics/SVG/1.1/DTD/svg11.dtd\">\n",
       "<!-- Generated by graphviz version 2.43.20190912.0211 (20190912.0211)\n",
       " -->\n",
       "<!-- Title: egraph Pages: 1 -->\n",
       "<svg width=\"288pt\" height=\"148pt\"\n",
       " viewBox=\"0.00 0.00 288.00 148.00\" xmlns=\"http://www.w3.org/2000/svg\" xmlns:xlink=\"http://www.w3.org/1999/xlink\">\n",
       "<g id=\"graph0\" class=\"graph\" transform=\"scale(1 1) rotate(0) translate(4 144)\">\n",
       "<title>egraph</title>\n",
       "<polygon fill=\"white\" stroke=\"transparent\" points=\"-4,4 -4,-144 284,-144 284,4 -4,4\"/>\n",
       "<g id=\"clust1\" class=\"cluster\">\n",
       "<title>cluster_15</title>\n",
       "<path fill=\"none\" stroke=\"black\" stroke-dasharray=\"1,5\" d=\"M20,-80C20,-80 160,-80 160,-80 166,-80 172,-86 172,-92 172,-92 172,-120 172,-120 172,-126 166,-132 160,-132 160,-132 20,-132 20,-132 14,-132 8,-126 8,-120 8,-120 8,-92 8,-92 8,-86 14,-80 20,-80\"/>\n",
       "</g>\n",
       "<g id=\"clust2\" class=\"cluster\">\n",
       "<title>cluster_10</title>\n",
       "<path fill=\"none\" stroke=\"black\" stroke-dasharray=\"1,5\" d=\"M67,-8C67,-8 135,-8 135,-8 141,-8 147,-14 147,-20 147,-20 147,-48 147,-48 147,-54 141,-60 135,-60 135,-60 67,-60 67,-60 61,-60 55,-54 55,-48 55,-48 55,-20 55,-20 55,-14 61,-8 67,-8\"/>\n",
       "</g>\n",
       "<g id=\"clust3\" class=\"cluster\">\n",
       "<title>cluster_397</title>\n",
       "<path fill=\"none\" stroke=\"black\" stroke-dasharray=\"1,5\" d=\"M192,-80C192,-80 260,-80 260,-80 266,-80 272,-86 272,-92 272,-92 272,-120 272,-120 272,-126 266,-132 260,-132 260,-132 192,-132 192,-132 186,-132 180,-126 180,-120 180,-120 180,-92 180,-92 180,-86 186,-80 192,-80\"/>\n",
       "</g>\n",
       "<!-- 15_foo_10 -->\n",
       "<g id=\"node1\" class=\"node\">\n",
       "<title>15_foo_10</title>\n",
       "<path fill=\"none\" stroke=\"black\" d=\"M152,-124C152,-124 122,-124 122,-124 116,-124 110,-118 110,-112 110,-112 110,-100 110,-100 110,-94 116,-88 122,-88 122,-88 152,-88 152,-88 158,-88 164,-94 164,-100 164,-100 164,-112 164,-112 164,-118 158,-124 152,-124\"/>\n",
       "<text text-anchor=\"middle\" x=\"137\" y=\"-102.3\" font-family=\"Times,serif\" font-size=\"14.00\">foo</text>\n",
       "</g>\n",
       "<!-- e_rep_10 -->\n",
       "<!-- 15_foo_10&#45;&gt;e_rep_10 -->\n",
       "<g id=\"edge1\" class=\"edge\">\n",
       "<title>15_foo_10&#45;&gt;e_rep_10</title>\n",
       "<path fill=\"none\" stroke=\"black\" d=\"M137,-87.7C137,-74.63 137,-57.11 137,-45.93\"/>\n",
       "<polygon fill=\"black\" stroke=\"black\" points=\"140.5,-45.81 137,-35.81 133.5,-45.81 140.5,-45.81\"/>\n",
       "</g>\n",
       "<!-- e_rep_15 -->\n",
       "<!-- 15_b_ -->\n",
       "<g id=\"node4\" class=\"node\">\n",
       "<title>15_b_</title>\n",
       "<path fill=\"none\" stroke=\"black\" d=\"M58,-124C58,-124 28,-124 28,-124 22,-124 16,-118 16,-112 16,-112 16,-100 16,-100 16,-94 22,-88 28,-88 28,-88 58,-88 58,-88 64,-88 70,-94 70,-100 70,-100 70,-112 70,-112 70,-118 64,-124 58,-124\"/>\n",
       "<text text-anchor=\"middle\" x=\"43\" y=\"-102.3\" font-family=\"Times,serif\" font-size=\"14.00\">b</text>\n",
       "</g>\n",
       "<!-- 10_a_ -->\n",
       "<g id=\"node5\" class=\"node\">\n",
       "<title>10_a_</title>\n",
       "<path fill=\"none\" stroke=\"black\" d=\"M105,-52C105,-52 75,-52 75,-52 69,-52 63,-46 63,-40 63,-40 63,-28 63,-28 63,-22 69,-16 75,-16 75,-16 105,-16 105,-16 111,-16 117,-22 117,-28 117,-28 117,-40 117,-40 117,-46 111,-52 105,-52\"/>\n",
       "<text text-anchor=\"middle\" x=\"90\" y=\"-30.3\" font-family=\"Times,serif\" font-size=\"14.00\">a</text>\n",
       "</g>\n",
       "<!-- e_rep_397 -->\n",
       "<!-- 397_c_ -->\n",
       "<g id=\"node7\" class=\"node\">\n",
       "<title>397_c_</title>\n",
       "<path fill=\"none\" stroke=\"black\" d=\"M230,-124C230,-124 200,-124 200,-124 194,-124 188,-118 188,-112 188,-112 188,-100 188,-100 188,-94 194,-88 200,-88 200,-88 230,-88 230,-88 236,-88 242,-94 242,-100 242,-100 242,-112 242,-112 242,-118 236,-124 230,-124\"/>\n",
       "<text text-anchor=\"middle\" x=\"215\" y=\"-102.3\" font-family=\"Times,serif\" font-size=\"14.00\">c</text>\n",
       "</g>\n",
       "</g>\n",
       "</svg>\n"
      ],
      "text/plain": [
       "<graphviz.graphs.Digraph at 0x7fbdfb72e3c0>"
      ]
     },
     "execution_count": 40,
     "metadata": {},
     "output_type": "execute_result"
    }
   ],
   "source": [
    "#E = EGraph()\n",
    "c = smt.Int(\"c\")\n",
    "E.union(c,c)\n",
    "E.dot()"
   ]
  },
  {
   "cell_type": "code",
   "execution_count": null,
   "id": "b0b2823a",
   "metadata": {},
   "outputs": [],
   "source": []
  },
  {
   "cell_type": "markdown",
   "id": "0f51b1e2",
   "metadata": {},
   "source": []
  },
  {
   "cell_type": "markdown",
   "id": "6385f54d",
   "metadata": {},
   "source": [
    "Solver interface onb sympy\n",
    "\n",
    "Does one:\n",
    "simplify before adding to term bank. Add unsimp and simplified form?\n",
    "During rebuild does one redo\n",
    "\n",
    "Count number of ematches in an example. Show don't tell.\n",
    "\n",
    "\n",
    "Show brute force version\n",
    "Maintain eq tuple relation\n",
    "\n",
    "knuckledragger protocol\n",
    "\n",
    "\n",
    "\n"
   ]
  },
  {
   "cell_type": "markdown",
   "id": "40391765",
   "metadata": {},
   "source": [
    "Examples\n",
    "Don't want it to be complicated. A single line of explanation.\n",
    "Int\n",
    "Real\n",
    "\n",
    "\n",
    "\n",
    "pure AC\n",
    "x + junk + (-x)\n",
    "Can bottom up even find this? No. Well it can find Z + -Z. but it won't know it is relevant.\n",
    "\n",
    "x + -x\n",
    "\n",
    "AC sucks.\n",
    "\n",
    "\n",
    "\n",
    "\n",
    "sets\n"
   ]
  }
 ],
 "metadata": {
  "kernelspec": {
   "display_name": ".venv",
   "language": "python",
   "name": "python3"
  },
  "language_info": {
   "codemirror_mode": {
    "name": "ipython",
    "version": 3
   },
   "file_extension": ".py",
   "mimetype": "text/x-python",
   "name": "python",
   "nbconvert_exporter": "python",
   "pygments_lexer": "ipython3",
   "version": "3.12.3"
  }
 },
 "nbformat": 4,
 "nbformat_minor": 5
}
