{
 "cells": [
  {
   "cell_type": "markdown",
   "metadata": {},
   "source": [
    "https://www.amd.com/content/dam/amd/en/documents/radeon-tech-docs/instruction-set-architectures/rdna4-instruction-set-architecture.pdf\n",
    "rdna4 https://en.wikipedia.org/wiki/RDNA_(microarchitecture)\n",
    "\n",
    "rocm\n",
    "\n",
    "drm dri direct rendering interface linux\n",
    "\n",
    "libdrm\n",
    "libhsakmt\n",
    "\n",
    "hsa\n",
    "hsaco code object\n",
    "a runtime\n",
    "https://github.com/ROCm/ROCR-Runtime\n",
    "\n",
    "\n",
    "\n",
    "docker? https://rocm.docs.amd.com/projects/install-on-linux/en/latest/how-to/docker.html /dev/kfd /dev/dri\n",
    "`docker run --device /dev/kfd --device /dev/dri --security-opt seccomp=unconfined <image>`\n",
    "https://github.com/ROCm/ROCm-docker \n",
    "\n",
    "\n",
    "\n",
    "ioctl\n",
    "\n",
    "https://www.gem5.org/documentation/general_docs/gpu_models/vega vega gem5\n",
    "\n",
    "https://chatgpt.com/share/67f1a424-6344-8008-a1d9-a936f5740bc5"
   ]
  },
  {
   "cell_type": "code",
   "execution_count": null,
   "metadata": {},
   "outputs": [
    {
     "name": "stdout",
     "output_type": "stream",
     "text": [
      "Ubuntu LLVM version 20.0.0\n",
      "  Optimized build.\n",
      "  Default target: x86_64-pc-linux-gnu\n",
      "  Host CPU: znver4\n",
      "\n",
      "  Registered Targets:\n",
      "    aarch64     - AArch64 (little endian)\n",
      "    aarch64_32  - AArch64 (little endian ILP32)\n",
      "    aarch64_be  - AArch64 (big endian)\n",
      "    amdgcn      - AMD GCN GPUs\n",
      "    arm         - ARM\n",
      "    arm64       - ARM64 (little endian)\n",
      "    arm64_32    - ARM64 (little endian ILP32)\n",
      "    armeb       - ARM (big endian)\n",
      "    avr         - Atmel AVR Microcontroller\n",
      "    bpf         - BPF (host endian)\n",
      "    bpfeb       - BPF (big endian)\n",
      "    bpfel       - BPF (little endian)\n",
      "    hexagon     - Hexagon\n",
      "    lanai       - Lanai\n",
      "    loongarch32 - 32-bit LoongArch\n",
      "    loongarch64 - 64-bit LoongArch\n",
      "    m68k        - Motorola 68000 family\n",
      "    mips        - MIPS (32-bit big endian)\n",
      "    mips64      - MIPS (64-bit big endian)\n",
      "    mips64el    - MIPS (64-bit little endian)\n",
      "    mipsel      - MIPS (32-bit little endian)\n",
      "    msp430      - MSP430 [experimental]\n",
      "    nvptx       - NVIDIA PTX 32-bit\n",
      "    nvptx64     - NVIDIA PTX 64-bit\n",
      "    ppc32       - PowerPC 32\n",
      "    ppc32le     - PowerPC 32 LE\n",
      "    ppc64       - PowerPC 64\n",
      "    ppc64le     - PowerPC 64 LE\n",
      "    r600        - AMD GPUs HD2XXX-HD6XXX\n",
      "    riscv32     - 32-bit RISC-V\n",
      "    riscv64     - 64-bit RISC-V\n",
      "    sparc       - Sparc\n",
      "    sparcel     - Sparc LE\n",
      "    sparcv9     - Sparc V9\n",
      "    systemz     - SystemZ\n",
      "    thumb       - Thumb\n",
      "    thumbeb     - Thumb (big endian)\n",
      "    ve          - VE\n",
      "    wasm32      - WebAssembly 32-bit\n",
      "    wasm64      - WebAssembly 64-bit\n",
      "    x86         - 32-bit X86: Pentium-Pro and above\n",
      "    x86-64      - 64-bit X86: EM64T and AMD64\n",
      "    xcore       - XCore\n",
      "    xtensa      - Xtensa 32\n"
     ]
    }
   ],
   "source": [
    "! llc-20 --version # amdgcn target"
   ]
  },
  {
   "cell_type": "code",
   "execution_count": 1,
   "metadata": {},
   "outputs": [
    {
     "name": "stdout",
     "output_type": "stream",
     "text": [
      "amdgpu              20017152  81\n",
      "amdxcp                 12288  1 amdgpu\n",
      "drm_exec               12288  1 amdgpu\n",
      "gpu_sched              61440  1 amdgpu\n",
      "drm_buddy              24576  1 amdgpu\n",
      "drm_suballoc_helper    20480  1 amdgpu\n",
      "drm_ttm_helper         16384  1 amdgpu\n",
      "ttm                   110592  2 amdgpu,drm_ttm_helper\n",
      "drm_display_helper    278528  1 amdgpu\n",
      "i2c_algo_bit           16384  1 amdgpu\n",
      "video                  77824  2 thinkpad_acpi,amdgpu\n"
     ]
    }
   ],
   "source": [
    "! lsmod | grep amdgpu\n"
   ]
  },
  {
   "cell_type": "code",
   "execution_count": 4,
   "metadata": {},
   "outputs": [
    {
     "name": "stdout",
     "output_type": "stream",
     "text": [
      "filename:       /lib/modules/6.11.0-21-generic/kernel/drivers/gpu/drm/amd/amdgpu/amdgpu.ko.zst\n",
      "license:        GPL and additional rights\n",
      "description:    AMD GPU\n",
      "author:         AMD linux driver team\n",
      "firmware:       amdgpu/navi12_gpu_info.bin\n",
      "firmware:       amdgpu/arcturus_gpu_info.bin\n",
      "firmware:       amdgpu/raven2_gpu_info.bin\n",
      "firmware:       amdgpu/picasso_gpu_info.bin\n",
      "firmware:       amdgpu/raven_gpu_info.bin\n",
      "firmware:       amdgpu/vega12_gpu_info.bin\n",
      "firmware:       amdgpu/vega10_gpu_info.bin\n",
      "import_ns:      DMA_BUF\n",
      "firmware:       amdgpu/ip_discovery.bin\n",
      "firmware:       amdgpu/mullins_mec.bin\n",
      "firmware:       amdgpu/mullins_rlc.bin\n",
      "firmware:       amdgpu/mullins_ce.bin\n",
      "firmware:       amdgpu/mullins_me.bin\n",
      "firmware:       amdgpu/mullins_pfp.bin\n",
      "firmware:       amdgpu/kabini_mec.bin\n",
      "firmware:       amdgpu/kabini_rlc.bin\n"
     ]
    }
   ],
   "source": [
    "! modinfo amdgpu | head -n 20\n"
   ]
  },
  {
   "cell_type": "code",
   "execution_count": null,
   "metadata": {},
   "outputs": [],
   "source": [
    "! sudo lsof /dev/dri/renderD128 # which processes are using gpu\n"
   ]
  },
  {
   "cell_type": "code",
   "execution_count": 6,
   "metadata": {},
   "outputs": [
    {
     "name": "stdout",
     "output_type": "stream",
     "text": [
      "total 0\n",
      "lrwxrwxrwx 1 root root  8 Apr  5 14:22 pci-0000:c3:00.0-card -> ../card1\n",
      "lrwxrwxrwx 1 root root 13 Apr  5 14:22 pci-0000:c3:00.0-render -> ../renderD128\n"
     ]
    }
   ],
   "source": [
    "! ls -l /dev/dri/by-path\n"
   ]
  },
  {
   "cell_type": "code",
   "execution_count": null,
   "metadata": {},
   "outputs": [],
   "source": [
    "! lspci -nn | grep VGA"
   ]
  },
  {
   "cell_type": "code",
   "execution_count": null,
   "metadata": {},
   "outputs": [],
   "source": [
    "! udevadm info /dev/dri/renderD128\n"
   ]
  },
  {
   "cell_type": "code",
   "execution_count": 8,
   "metadata": {},
   "outputs": [
    {
     "name": "stdout",
     "output_type": "stream",
     "text": [
      "total 0\n",
      "lrwxrwxrwx 1 root root    0 Apr  5 14:22 card1 -> ../../devices/pci0000:00/0000:00:08.1/0000:c3:00.0/drm/card1\n",
      "lrwxrwxrwx 1 root root    0 Apr  5 14:22 card1-DP-1 -> ../../devices/pci0000:00/0000:00:08.1/0000:c3:00.0/drm/card1/card1-DP-1\n",
      "lrwxrwxrwx 1 root root    0 Apr  5 17:48 card1-DP-10 -> ../../devices/pci0000:00/0000:00:08.1/0000:c3:00.0/drm/card1/card1-DP-10\n",
      "lrwxrwxrwx 1 root root    0 Apr  5 14:22 card1-DP-2 -> ../../devices/pci0000:00/0000:00:08.1/0000:c3:00.0/drm/card1/card1-DP-2\n",
      "lrwxrwxrwx 1 root root    0 Apr  5 14:22 card1-DP-3 -> ../../devices/pci0000:00/0000:00:08.1/0000:c3:00.0/drm/card1/card1-DP-3\n",
      "lrwxrwxrwx 1 root root    0 Apr  5 14:22 card1-DP-4 -> ../../devices/pci0000:00/0000:00:08.1/0000:c3:00.0/drm/card1/card1-DP-4\n",
      "lrwxrwxrwx 1 root root    0 Apr  5 14:22 card1-DP-5 -> ../../devices/pci0000:00/0000:00:08.1/0000:c3:00.0/drm/card1/card1-DP-5\n",
      "lrwxrwxrwx 1 root root    0 Apr  5 14:22 card1-DP-6 -> ../../devices/pci0000:00/0000:00:08.1/0000:c3:00.0/drm/card1/card1-DP-6\n",
      "lrwxrwxrwx 1 root root    0 Apr  5 14:22 card1-DP-7 -> ../../devices/pci0000:00/0000:00:08.1/0000:c3:00.0/drm/card1/card1-DP-7\n",
      "lrwxrwxrwx 1 root root    0 Apr  5 17:48 card1-DP-8 -> ../../devices/pci0000:00/0000:00:08.1/0000:c3:00.0/drm/card1/card1-DP-8\n",
      "lrwxrwxrwx 1 root root    0 Apr  5 17:48 card1-DP-9 -> ../../devices/pci0000:00/0000:00:08.1/0000:c3:00.0/drm/card1/card1-DP-9\n",
      "lrwxrwxrwx 1 root root    0 Apr  5 14:22 card1-eDP-1 -> ../../devices/pci0000:00/0000:00:08.1/0000:c3:00.0/drm/card1/card1-eDP-1\n",
      "lrwxrwxrwx 1 root root    0 Apr  5 14:22 card1-Writeback-1 -> ../../devices/pci0000:00/0000:00:08.1/0000:c3:00.0/drm/card1/card1-Writeback-1\n",
      "lrwxrwxrwx 1 root root    0 Apr  5 14:22 renderD128 -> ../../devices/pci0000:00/0000:00:08.1/0000:c3:00.0/drm/renderD128\n",
      "-r--r--r-- 1 root root 4096 Apr  5 17:02 version\n"
     ]
    }
   ],
   "source": [
    "! ls -l /sys/class/drm/\n"
   ]
  },
  {
   "cell_type": "code",
   "execution_count": null,
   "metadata": {},
   "outputs": [],
   "source": [
    "! readlink -f /sys/class/drm/renderD128/device # read underling device\n"
   ]
  },
  {
   "cell_type": "markdown",
   "metadata": {},
   "source": []
  }
 ],
 "metadata": {
  "kernelspec": {
   "display_name": ".venv",
   "language": "python",
   "name": "python3"
  },
  "language_info": {
   "codemirror_mode": {
    "name": "ipython",
    "version": 3
   },
   "file_extension": ".py",
   "mimetype": "text/x-python",
   "name": "python",
   "nbconvert_exporter": "python",
   "pygments_lexer": "ipython3",
   "version": "3.12.3"
  }
 },
 "nbformat": 4,
 "nbformat_minor": 2
}
