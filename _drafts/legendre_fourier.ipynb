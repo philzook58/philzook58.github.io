{
 "cells": [
  {
   "cell_type": "markdown",
   "metadata": {},
   "source": [
    "# Fourier"
   ]
  },
  {
   "cell_type": "markdown",
   "metadata": {},
   "source": [
    "# FFT\n",
    "\n"
   ]
  },
  {
   "cell_type": "markdown",
   "metadata": {},
   "source": [
    "# Laplace\n",
    "https://mpmath.org/doc/current/calculus/inverselaplace.html numerical inverse lalpace transform\n",
    "Talbot stehfast, de hoog, cohen\n",
    "\n",
    "Bromwich contour\n",
    "\n",
    "Difference between laplace and fourier transform. Nate was asking.\n",
    "\n",
    "Laplace is used in initial value problem ocntexts. It seems more careful about initial conditions.\n",
    "Transfer functions. Causality.\n",
    "\n",
    "No physical interpretation into sums of sines.\n",
    "Maybe could think of decaying physical processes and how one might\n",
    "\n",
    "Inverting laplace is more bizarre because it doesn't even see x < 0. Some kind of continuation process\n"
   ]
  },
  {
   "cell_type": "markdown",
   "metadata": {},
   "source": [
    "# Lie Groups\n",
    "Numerical lie groups.\n",
    "Grids don't have rotational symmettry\n",
    "They can have translation symmettry if you loop them.\n",
    "But also compressive trnasformations, which aren't invertible still kind of work (minus like a low rank component we lose?)\n",
    "\n",
    "Can we take a computational group theory lens on this? Permutations of grid points\n",
    "The action of permutations on the grid\n",
    "\n",
    "\n",
    "\n",
    "The Peter Weyl Theorem.\n",
    "https://en.wikipedia.org/wiki/Peter%E2%80%93Weyl_theorem\n",
    "Topological groups\n",
    "https://www.math.columbia.edu/~woit/RepThy/repthynotes3.pdf\n",
    "https://terrytao.wordpress.com/2011/01/23/the-peter-weyl-theorem-and-non-abelian-fourier-analysis-on-compact-groups/\n",
    "Lie groups.\n",
    "generalization of characters from finite to infinite groups.\n",
    "Fourier on non abliean space was relevant in quantum computing?\n",
    "\n",
    "\n",
    "Lie groups\n",
    "\n",
    "The matrix exponential is a cool idea\n",
    "\n",
    "What else is interesting here?\n",
    "Rotation is interesting. Affine, linear transformations. Conformal maps are interesting\n",
    "The whole definition is that lie groups are differentiable. That does probably add a lot of rigidity\n",
    "Of course rotations are differentiable as functions of their coordinates. Its a bunch of cosine and sine entries\n",
    "Time evolution in quantum mechanics is a rotation. That’s schrodinger’s equation.\n",
    "I feel like you want some math thing\n",
    "Lots of physical systems have rotational invariance. That factors some part of their dynamics to be very constrained\n",
    "And in quantum mechanics the properties of representatiosn of rotations force certain things to be possible /not\n",
    "https://en.m.wikipedia.org/wiki/Wigner–Eckart_theorem\n",
    "\n",
    "Its a variation of the method of separation of variables to solve a spheically symmetric pde\n",
    "Its a central dogma of physics that symmetry are connected to invariants (noether’s theorem, which is more important as a vibe than anything i think)\n",
    "So mathematics of rotation leads to properties of angular momentum. Particles have spins, light carries some spin, this restricts what transitions atoms can take\n",
    "At a more abstract level, gauge invariance is a basically non intuitive symmetry that is required of the description of fields for some reason\n",
    "Electromagnetism is best described by a vector potential who’s derivatives matter, but who’s value does not\n",
    "Generalize this a couple times and you end up at the standard model\n",
    "And the eightfold way\n",
    "But the standard model is just a pile of mud\n",
    "And reveals very little about our lives\n",
    "Atoms reveal more\n",
    "At least like they’re involved in colors and chemistry and stuff\n",
    "The vector potential is a highly mysterious bit unavoidable entity. I don’t know why\n",
    "There is some evidence that it is physical in a sense\n",
    "https://en.m.wikipedia.org/wiki/Aharonov–Bohm_effect\n",
    "\n",
    "https://en.m.wikipedia.org/wiki/Gimbal_lock\n",
    "\n",
    "Oh yeah this was some wacky shit https://en.m.wikipedia.org/wiki/Spin–statistics_theorem\n",
    "\n",
    "scattering\n",
    "\n",
    "\n",
    "\n",
    "### Lie algerba method\n",
    "https://www.philipzucker.com/fiddling-around-with-validated-ode-integration-sum-of-squares-taylor-models/ \n",
    "\n",
    "https://www.researchgate.net/publication/233653257_Solving_Differential_Equations_by_Symmetry_Groups sympy links this paper. Sympy has some lie algebra stuff in there\n",
    "\n",
    "https://www-users.math.umn.edu/~olver/sm.html Peter Olver tutorial\n",
    "\n",
    "http://www-users.math.umn.edu/~olver/talk.html olver talks\n",
    "\n",
    "https://www-sop.inria.fr/members/Evelyne.Hubert/publications/PDF/Hubert_HDR.pdf\n",
    "\n",
    "https://www.cs.cmu.edu/~aplatzer/logic/diffinv.html andre platzer. Zach says Darboux polynomials?\n",
    "\n",
    "https://sylph.io/blog/math.html\n",
    "\n",
    "Books: Birhoff and Rota, Guggenheimer, different Olver books, prwctical guide to invaraints https://www.amazon.com/Practical-Invariant-Monographs-Computational-Mathematics/dp/0521857015"
   ]
  },
  {
   "cell_type": "markdown",
   "metadata": {},
   "source": []
  },
  {
   "cell_type": "markdown",
   "metadata": {},
   "source": [
    "# Numeric Exact Fourier\n",
    "\n",
    "The fourier transform of a box is a sinc function.\n",
    "\n",
    "\n",
    "This is also true in 2d or 3d.\n",
    "\n",
    "Also a linear spike is integrable\n",
    "\n",
    "We also have the shift theorem that `F[f(x-a)] = e^ika F[f(x)]`\n",
    "\n",
    "Obviously any function that is a finite sum of shifted boxes can be decomposed precisely\n",
    "\n",
    "There is an approximation by boxes or ramps also. There is a residual\n",
    "\n",
    "F[f] = F[approx + (f - approx)] = F[approx] + F[f - approx]\n",
    "\n",
    "F[f] - F[approx] = F[f - approx]\n",
    "|F[f] - F[approx] |max = F[f - apprxo] <= int |err exp | = int |err|\n",
    "\n",
    "f = \\sum f_n box(x - na)\n",
    "\\sum_n e^ikna * sinc(k) = (sum f_n e^ikna) * sinc(k)\n",
    "This is the fft of f_n kind of.\n",
    "f_n w^n\n",
    "w = e^ika\n",
    "ka = m / N a fraction\n",
    "\n",
    "\n",
    "\n"
   ]
  },
  {
   "cell_type": "code",
   "execution_count": 10,
   "metadata": {},
   "outputs": [
    {
     "data": {
      "text/latex": [
       "$\\displaystyle \\int\\limits_{-\\infty}^{\\infty} \\begin{cases} \\left(- \\frac{i e^{i k}}{k} + \\frac{i e^{- i k}}{k}\\right) e^{- i k x} & \\text{for}\\: k \\neq 0 \\\\2 e^{- i k x} & \\text{otherwise} \\end{cases}\\, dk$"
      ],
      "text/plain": [
       "Integral(Piecewise(((-I*exp(I*k)/k + I*exp(-I*k)/k)*exp(-I*k*x), Ne(k, 0)), (2*exp(-I*k*x), True)), (k, -oo, oo))"
      ]
     },
     "execution_count": 10,
     "metadata": {},
     "output_type": "execute_result"
    }
   ],
   "source": [
    "from sympy import *\n",
    "x,k = symbols(\"x k\", real = True)\n",
    "s = integrate(exp(I*k *x), (x,-1,1))\n",
    "integrate(exp(-I*x*k)*s, (k, -oo, oo)) # hmm. Can't do it?\n",
    "\n"
   ]
  },
  {
   "cell_type": "code",
   "execution_count": null,
   "metadata": {},
   "outputs": [],
   "source": []
  },
  {
   "cell_type": "markdown",
   "metadata": {},
   "source": [
    "# Legendre Steepest Descent\n",
    "\n",
    "A white whale.\n",
    "\n",
    "Legendre is steepest descent of Fourier transformation\n",
    "\n",
    "\n",
    "\n",
    "stroargtz\n",
    "https://www.youtube.com/playlist?list=PL5EH0ZJ7V0jV7kMYvPcZ7F9oaf_YAlfbI\n",
    "https://arxiv.org/abs/hep-th/9505166  A Geometrical Formulation of the Renormalization Group Method for Global Analysis"
   ]
  },
  {
   "cell_type": "markdown",
   "metadata": {},
   "source": [
    "https://claude.ai/chat/ae8868f3-fadc-4c33-a754-0119f25ab275"
   ]
  },
  {
   "cell_type": "markdown",
   "metadata": {},
   "source": [
    "I'll note that the legendre transform of a quadratic curve is another quadratic curve of inverse curvature.\n",
    "Lgenedre transforms are\n",
    "\n",
    "This is the analog of\n",
    "\n",
    "The thing that is hard is not gaussian vs non gaussian integrals. Its convex vs non convex probably. But I don't see people mention that noonconvex statistcal mechanics or quantum field theory are tractable (basically because despite being nonlinear, they are well treated semi classically). Maybe they aren't\n",
    "\n",
    "Linear programming. If we had an integral over a polytope with a exponential of a linear function, we could find it's classical point via linear programming\n",
    "\n",
    "Quadratic programming - We can integrate a guassian over a polytope by finding it's critical points.\n",
    "\n",
    "SDP - semidefinite programming... Hmmm. A polytope integral over a matrix variable where they are constrained to be positive semidefinite. $\\int_{AX \\ge 0, X >= 0}$. Maybe you could do something funky with that. \n"
   ]
  },
  {
   "cell_type": "code",
   "execution_count": null,
   "metadata": {},
   "outputs": [],
   "source": [
    "import sympy as sp\n",
    "\n",
    "def legendre_transform_symbolic(f, x, p):\n",
    "    # Define the Legendre transform\n",
    "    L = p * x - f\n",
    "    \n",
    "    # Find the stationary point\n",
    "    stationary = sp.solve(sp.diff(L, x), x)\n",
    "    \n",
    "    # Substitute the stationary point back into L\n",
    "    if len(stationary) > 0:\n",
    "        L_transformed = L.subs(x, stationary[0])\n",
    "        return sp.simplify(L_transformed)\n",
    "    else:\n",
    "        return \"No stationary point found\"\n",
    "\n",
    "# Example usage\n",
    "x, p = sp.symbols('x p')\n",
    "f = x**2  # Example function\n",
    "\n",
    "result = legendre_transform_symbolic(f, x, p)\n",
    "print(f\"Legendre transform of {f} is: {result}\")"
   ]
  },
  {
   "cell_type": "code",
   "execution_count": null,
   "metadata": {},
   "outputs": [],
   "source": [
    "import numpy as np\n",
    "from scipy.optimize import minimize_scalar\n",
    "\n",
    "def legendre_transform_numerical(f, x_range, p):\n",
    "    def negative_legendre(x):\n",
    "        return -(p * x - f(x))\n",
    "    \n",
    "    result = minimize_scalar(negative_legendre, bounds=x_range, method='bounded')\n",
    "    \n",
    "    if result.success:\n",
    "        x_star = result.x\n",
    "        return p * x_star - f(x_star)\n",
    "    else:\n",
    "        return None\n",
    "\n",
    "# Example usage\n",
    "def f(x):\n",
    "    return x**2\n",
    "\n",
    "x_range = (-10, 10)\n",
    "p_values = np.linspace(-5, 5, 100)\n",
    "\n",
    "transformed_values = [legendre_transform_numerical(f, x_range, p) for p in p_values]\n",
    "\n",
    "# You can plot the results using matplotlib if desired"
   ]
  }
 ],
 "metadata": {
  "kernelspec": {
   "display_name": "Python 3",
   "language": "python",
   "name": "python3"
  },
  "language_info": {
   "codemirror_mode": {
    "name": "ipython",
    "version": 3
   },
   "file_extension": ".py",
   "mimetype": "text/x-python",
   "name": "python",
   "nbconvert_exporter": "python",
   "pygments_lexer": "ipython3",
   "version": "3.10.12"
  }
 },
 "nbformat": 4,
 "nbformat_minor": 2
}
