{
 "cells": [
  {
   "cell_type": "markdown",
   "id": "06eb228c",
   "metadata": {},
   "source": [
    "---\n",
    "title: \"Telescopes Are Tries: A Dependent Type Shellac on SQLite\" \n",
    "date: 2025-06-19\n",
    "---\n",
    "\n",
    "\n",
    "It seems to me that telescopes, the dependently typed notion of context, is more central to the topic of dependent types than the dependent types are.\n",
    "\n",
    "A telescope is a sequence of variables and their type such that later types in the sequence can depend on the earlier variables.\n",
    "\n",
    "`[x : A, y : B(x), z : C(x,y)]`\n",
    "\n",
    "These are the things often written as `\\Gamma$ in a typing judgement $\\Gamma \\vash t : A$ if you've seen such a thing. Another example might be `[A : Type, n : Nat, x : Vec n A]`` for a having a list that is type constrained to be of length `n` in your current context.\n",
    "\n",
    "\n",
    "I have continued to think about this blog post https://www.philipzucker.com/frozenset_dtt/ which I rather like. By being vague and borrowing from the metalevel of python, I can kind of outline combinators that describe the simple finite set theoretic model of dependent type theory.\n",
    "\n",
    "The connection I made in that blog post is that this is very similar to the binding structure you can have with nested for loops\n",
    "\n",
    "```python\n",
    "for x in A:\n",
    "    for y in B(x):\n",
    "        for z in C(x,y):\n",
    "            pass\n",
    "```\n",
    "\n",
    "Then, somewhat vaguely, the set of python contexts that appear inside that loop represents of models the syntax of the telescope.\n",
    "\n",
    "On a walk I realized really that there is a more straightforward and less weird direct \"thing\" we can talk about to represent telescopes: Tries.\n",
    "\n",
    "Tries can be implemented multiple ways, but one way is as nested dictionaries. \n",
    "```python\n",
    "{ x : {  y : {z : () for z in C(x,y)}  for y in B(x) }  for x in A}\n",
    "```\n"
   ]
  },
  {
   "cell_type": "code",
   "execution_count": 24,
   "id": "fa5c20b1",
   "metadata": {},
   "outputs": [
    {
     "data": {
      "text/plain": [
       "{False: {(): '()'},\n",
       " True: {<RGB.R: 1>: 'RGB.R', <RGB.G: 2>: 'RGB.G', <RGB.B: 3>: 'RGB.B'}}"
      ]
     },
     "execution_count": 24,
     "metadata": {},
     "output_type": "execute_result"
    }
   ],
   "source": [
    "from enum import Enum\n",
    "Bool = frozenset([True, False])\n",
    "RGB = Enum(\"RGB\", \"R G B\")\n",
    "#RGB = frozenset(rgb)\n",
    "Unit = frozenset([()])\n",
    "\n",
    "ex1 = {x :{ y : str(y) for y in (RGB if x else Unit)} for x in Bool } \n",
    "ex1\n"
   ]
  },
  {
   "cell_type": "markdown",
   "id": "596c06bf",
   "metadata": {},
   "source": [
    "In Lean, this example written as a function might look like"
   ]
  },
  {
   "cell_type": "code",
   "execution_count": null,
   "id": "4f29db6c",
   "metadata": {},
   "outputs": [
    {
     "name": "stdout",
     "output_type": "stream",
     "text": [
      "Overwriting /tmp/tele.lean\n"
     ]
    }
   ],
   "source": [
    "%%file /tmp/tele.lean\n",
    "inductive RGB where\n",
    "    | R : RGB\n",
    "    | G : RGB\n",
    "    | B : RGB\n",
    "\n",
    "-- You would have a tough time writing this exact program in Haskell or Ocaml\n",
    "def ex1 (x : Bool) (y : if x then RGB else Unit) : String :=\n",
    "    match x with\n",
    "    | true => match y with\n",
    "        | RGB.R => \"Red\"\n",
    "        | RGB.G => \"Green\"\n",
    "        | RGB.B => \"Blue\"\n",
    "    | false => match y with\n",
    "        | () => \"Unit\"\n",
    "\n",
    "def main : IO Unit := do\n",
    "    IO.println (ex1 true RGB.R)\n",
    "    IO.println (ex1 true RGB.G)\n",
    "    IO.println (ex1 true RGB.B)\n",
    "    IO.println (ex1 false ())"
   ]
  },
  {
   "cell_type": "code",
   "execution_count": 29,
   "id": "4a4a98eb",
   "metadata": {},
   "outputs": [
    {
     "name": "stdout",
     "output_type": "stream",
     "text": [
      "Red\n",
      "Green\n",
      "Blue\n",
      "Unit\n"
     ]
    }
   ],
   "source": [
    "! lean --run /tmp/tele.lean"
   ]
  },
  {
   "cell_type": "markdown",
   "id": "ce024b38",
   "metadata": {},
   "source": [
    "Tries are mappings from their keys to their values. Tries are themselves kind of the set of their keys. Any mapping data structure is kind of a set if you just put `()` as the held value."
   ]
  },
  {
   "cell_type": "code",
   "execution_count": 6,
   "id": "0959ff7d",
   "metadata": {},
   "outputs": [
    {
     "data": {
      "text/plain": [
       "<RGB.R: 1>"
      ]
     },
     "execution_count": 6,
     "metadata": {},
     "output_type": "execute_result"
    }
   ],
   "source": [
    "def lookup(trie, key):\n",
    "    subtrie = trie\n",
    "    for v in key:\n",
    "        subtrie = subtrie.get(v)\n",
    "        if trie is None:\n",
    "            return None\n",
    "    return subtrie\n",
    "\n",
    "lookup( ex1 , [True, RGB.R])"
   ]
  },
  {
   "cell_type": "markdown",
   "id": "ef7e6ddb",
   "metadata": {},
   "source": [
    "## Category of Tries\n",
    "\n",
    "If we lookup a trie with an incomplete key, that's kind of like currying the trie. The value the trie mapping maps to from that perspective is another trie. \n",
    "\n",
    "If you makes tries map to trie keys, tries actually can be composed. They form a category. This category corresponds to context mappings in type theory https://www.philipzucker.com/tele/  https://proofassistants.stackexchange.com/questions/2557/what-is-a-context-mapping-in-dependent-type-checking\n"
   ]
  },
  {
   "cell_type": "code",
   "execution_count": null,
   "id": "a90bcddf",
   "metadata": {},
   "outputs": [],
   "source": [
    "#type trie_morph = tuple[\"trie\", int] # a trie morphism is a trie and an integer saying at which point the domain is separate from the codomain. Maybe carrying more dom/cod data would be better.\n",
    "type trie_morph = object\n",
    "\n",
    "def id_(trie0, n) -> trie_morph:\n",
    "    def worker(trie, curkey):\n",
    "        if trie == ():\n",
    "            return curkey\n",
    "        else:\n",
    "            return {k: worker(v, curkey + [k]) for k, v in trie.items()}\n",
    "\n",
    "def items(trie):\n",
    "    def worker(trie, curkey):\n",
    "        if not isinstance(trie, dict):\n",
    "            yield (curkey, trie)\n",
    "        else:\n",
    "            for k, v in trie.items():\n",
    "                yield from  worker(v, curkey + [k]) \n",
    "    return worker(trie, [])\n",
    "\n",
    "def trie_map(trie, f):\n",
    "    def worker(trie):\n",
    "        if not isinstance(trie, dict):\n",
    "            return f(trie)\n",
    "        else:\n",
    "            return {k: worker(v) for k, v in trie.items()}\n",
    "    return worker(trie)\n",
    "\n",
    "def trie_map_with_key(trie, f):\n",
    "    def worker(trie, curkey):\n",
    "        if not isinstance(trie, dict):\n",
    "            return f(curkey, trie)\n",
    "        else:\n",
    "            return {k: worker(v, curkey + [k]) for k, v in trie.items()}\n",
    "    return worker(trie, [])\n",
    "\n",
    "def id1(trie0): # alternative way of writing id\n",
    "    trie_map_with_key(trie0, lambda k, x: k)\n",
    "\n",
    "def compose(trie0 : trie_morph, trie1 : trie_morph) -> trie_morph:\n",
    "    return trie_map(trie0, lambda x: lookup(trie1, x))"
   ]
  },
  {
   "cell_type": "markdown",
   "id": "e19becbe",
   "metadata": {},
   "source": [
    "The judgements that go under a context are\n",
    "\n",
    "- $\\Gamma \\vdash A type$ - A trie with keys $\\Gamma$ that has a type (frozenset) as it's held value\n",
    "- $\\Gamma \\vdash t : A$ - A trie with keys $\\Gamma$ that has the pair of a type and a value in the type as it's held value.\n",
    "\n",
    "\n",
    "The things to the right of $\\vdash$ should be the values being held in the trie.\n",
    "\n",
    "This helps me reconcile for example that `True` and `False` aren't the only things in Bool if you're not in an empty context like `x : Bool |- t : Bool`. This is because there are tries that have `True` at every leaf, which is sort of the trie-lift or trie-const form of bool, but there are also tries of course who's value depends on which branch of the trie you're in. These trie correspond to terms `t` that depend on the context variables.\n"
   ]
  },
  {
   "cell_type": "code",
   "execution_count": null,
   "id": "56f77905",
   "metadata": {},
   "outputs": [
    {
     "data": {
      "text/plain": [
       "{False: {(): 42}, True: {<RGB.R: 1>: 42, <RGB.G: 2>: 42, <RGB.B: 3>: 42}}"
      ]
     },
     "execution_count": 7,
     "metadata": {},
     "output_type": "execute_result"
    }
   ],
   "source": [
    "def const_trie(trie, ntrie, value):\n",
    "    if ntrie <= 0:\n",
    "        return value\n",
    "    else:\n",
    "        return {k: const_trie(subtrie, ntrie - 1, value) for k,subtrie in trie.items()}\n",
    "const_trie(ex1, 2, 42)"
   ]
  },
  {
   "cell_type": "markdown",
   "id": "e12961cc",
   "metadata": {},
   "source": [
    "The thing that tries also triggers in my brain is database queries and worst case optimal join https://arxiv.org/pdf/2301.10841 which also are intimately connected to `for` loops.\n",
    "\n",
    "There is also strong correspondence between basic SQL queries and `for` loops. https://www.philipzucker.com/sql_graph_csp/\n",
    "\n",
    "Basically, the for loops correspond to the `FROM` statements, `if` statements correspond to `WHERE` clauses, and `yield` corresponds to `SELECT`"
   ]
  },
  {
   "cell_type": "markdown",
   "id": "ff736e26",
   "metadata": {},
   "source": [
    "Relations `Set (A,B)` are the same thing (isomorphic to) functions/dictionaries to sets aka multivalued functions."
   ]
  },
  {
   "cell_type": "code",
   "execution_count": 10,
   "id": "a4633113",
   "metadata": {},
   "outputs": [
    {
     "data": {
      "text/plain": [
       "defaultdict(set, {(2, False): {3, 4}, (1, True): {2}})"
      ]
     },
     "execution_count": 10,
     "metadata": {},
     "output_type": "execute_result"
    }
   ],
   "source": [
    "from collections import defaultdict\n",
    "rel1 = {(1,True,2), (2,False,3), (2,False,4)}\n",
    "fun1 = {(1,True) : {2},  (2,False) : {3, 4}}\n",
    "\n",
    "def rel_to_fun(rel):\n",
    "    fun = defaultdict(set)\n",
    "    for xs in rel:\n",
    "        key, res = xs[:-1], xs[-1]\n",
    "        fun[key].add(res)\n",
    "    return fun\n",
    "\n",
    "rel_to_fun(rel1)\n"
   ]
  },
  {
   "cell_type": "code",
   "execution_count": 11,
   "id": "f07ed924",
   "metadata": {},
   "outputs": [
    {
     "data": {
      "text/plain": [
       "{(1, True, 2), (2, False, 3), (2, False, 4)}"
      ]
     },
     "execution_count": 11,
     "metadata": {},
     "output_type": "execute_result"
    }
   ],
   "source": [
    "def fun_to_rel(fun):\n",
    "    rel = set()\n",
    "    for key, res in fun.items():\n",
    "        for r in res:\n",
    "            rel.add(key + (r,))\n",
    "    return rel\n",
    "fun_to_rel(fun1)"
   ]
  },
  {
   "cell_type": "markdown",
   "id": "e1f0b5e4",
   "metadata": {},
   "source": [
    "So we can take the convention on SQL tables that the table `C` with 3 columns is actually representing a multivalued function from the first 2 columns to the third.\n"
   ]
  },
  {
   "cell_type": "markdown",
   "id": "e60796b1",
   "metadata": {},
   "source": [
    "Any telescope can be rewritten as a conjunctive query.\n",
    "\n",
    "`[x : A, y : B(x), z : C(x,y)]` becomes $A(x) \\land B(x,y) \\land C(x,y,z)$.\n",
    "This can in turn can be written as the SQL query. SQL binds rows rather than the elements in the rows like a conjunctive query / datalog body does. It is however quite mechanical to translate them.  https://www.philipzucker.com/tiny-sqlite-datalog/\n",
    "\n",
    "```SQL\n",
    "FROM A as a \n",
    "FROM B as b \n",
    "FROM C as c \n",
    "WHERE\n",
    "a.v0 = b.v0 AND\n",
    "b.v1 = c.v1 AND\n",
    "a.v0 = c.v0\n",
    "```\n",
    "\n",
    "\n",
    "Vice versa can also be achieved in various ways.\n",
    "\n",
    "$T(x,y) \\land T(y,z) \\land T(z,x)$ becomes `[x : Int, y : Int, z : Int, p1 : T(x,y), p2 : T(y,z), p3 : T(z,x)]`  or we could try to move the telescope around a little, which corresponds to lifting up loop invariant code in a for loop to `[x : Int, y : Int, p1 : T(x,y), z : Int, p2 : T(y,z), p3 : T(z,x)]` \n",
    "\n",
    "It seems in general it is eaiser to convert a telescope to a nice conjunctive query form than vice versa. Conjuctive queries have no restrictions on there being a nice ordering to the variables. There may not be a nice ordering or finding it is a task.\n",
    "\n",
    "Telescopes and Conjucttive queries kind of correspond to two \"standard forms\" you might like your logical formulas to appear as\n",
    "\n",
    "- \"Sequent form\" $\\forall x y z ... , ( A \\land B \\land C ...)  \\implies P$\n",
    "- Telescope form $\\forall x, A(x) \\implies (\\forall y, B(x,y) \\implies (... \\implies P))$ \n",
    "\n",
    "Always working in these two forms let's you form Hilbert style combinators that corresponds to sequence calculus rules or rules that look more like dependent type theory rules.\n"
   ]
  },
  {
   "cell_type": "markdown",
   "id": "e7cc03e8",
   "metadata": {},
   "source": [
    "Subsingleton/Propositions https://ncatlab.org/nlab/show/subsingleton are tables with an actual functional dependency between the inputs and output. There is either no key or just one.\n",
    "\n",
    "This is kind of a cute way to replace an `if` statements with a `for` loop. \n",
    "\n",
    "Analogously, in SQL, a `WHERE` clause can be replaced by a table that is either empty or has one row for that key.\n",
    "\n",
    "\n",
    "\n"
   ]
  },
  {
   "cell_type": "code",
   "execution_count": 20,
   "id": "e6d11b74",
   "metadata": {},
   "outputs": [
    {
     "name": "stdout",
     "output_type": "stream",
     "text": [
      "its true\n"
     ]
    }
   ],
   "source": [
    "if True:\n",
    "    print(\"its true\")\n",
    "\n",
    "if False:\n",
    "    print(\"shouldn't print\")"
   ]
  },
  {
   "cell_type": "code",
   "execution_count": 21,
   "id": "ed086b4e",
   "metadata": {},
   "outputs": [
    {
     "name": "stdout",
     "output_type": "stream",
     "text": [
      "also true\n"
     ]
    }
   ],
   "source": [
    "for x in [\"just one thing\"]:\n",
    "    print(\"also true\")\n",
    "\n",
    "for x in []:\n",
    "    print(\"shouldn't print\")"
   ]
  },
  {
   "cell_type": "markdown",
   "id": "37f32a12",
   "metadata": {},
   "source": [
    "An interesting topic in datalog / database is provenance, knowing how a fact ended up in the database. This is a richer notion of truth value / proof object that just being in there or not.\n",
    "\n",
    "https://arxiv.org/abs/2202.10766\n",
    "https://souffle-lang.github.io/provenance\n"
   ]
  },
  {
   "cell_type": "code",
   "execution_count": null,
   "id": "72e4f399",
   "metadata": {},
   "outputs": [],
   "source": [
    "import sqlite3\n",
    "\n",
    "con = sqlite3.connect(\":memory:\")\n",
    "cur = con.cursor()\n",
    "cur.execute(\"CREATE TABLE rel1 (x,y,z)\")\n",
    "cur.executemany(\"INSERT INTO rel1 VALUES (?,?,?)\", rel1)\n",
    "cur.execute(\"SELECT * FROM rel1\").fetchall()"
   ]
  },
  {
   "cell_type": "code",
   "execution_count": 32,
   "id": "39506026",
   "metadata": {},
   "outputs": [
    {
     "data": {
      "text/plain": [
       "QQ[s,c]/<c**2 + s**2 - 1>"
      ]
     },
     "execution_count": 32,
     "metadata": {},
     "output_type": "execute_result"
    }
   ],
   "source": [
    "from sympy import *\n",
    "x, y, z = symbols('x y z')\n",
    "# make a semiring mod x**2 - 1\n",
    "from sympy.abc import x\n",
    "from sympy import QQ\n",
    "QQ.old_poly_ring(x).quotient_ring(QQ.old_poly_ring(x).ideal(x**2))\n",
    "QQ.old_poly_ring(x).quotient_ring([x**2])\n",
    "\n",
    "s, c = symbols('s, c')\n",
    "QQ.old_poly_ring(s, c) / [s**2 + c**2 - 1]"
   ]
  },
  {
   "cell_type": "markdown",
   "id": "b6dbc2f0",
   "metadata": {},
   "source": [
    "https://github.com/true-grue/python-dsls/blob/main/datalog/datalog_test.py"
   ]
  },
  {
   "cell_type": "code",
   "execution_count": 114,
   "id": "8dbb0fdd",
   "metadata": {},
   "outputs": [
    {
     "name": "stdout",
     "output_type": "stream",
     "text": [
      "Module(\n",
      "    body=[\n",
      "        AnnAssign(\n",
      "            target=Name(id='x', ctx=Store()),\n",
      "            annotation=Name(id='A', ctx=Load()),\n",
      "            simple=1),\n",
      "        AnnAssign(\n",
      "            target=Name(id='y', ctx=Store()),\n",
      "            annotation=Name(id='B', ctx=Load()),\n",
      "            simple=1),\n",
      "        Expr(\n",
      "            value=Compare(\n",
      "                left=Name(id='t', ctx=Load()),\n",
      "                ops=[\n",
      "                    Eq(),\n",
      "                    In()],\n",
      "                comparators=[\n",
      "                    Name(id='t1', ctx=Load()),\n",
      "                    Name(id='A', ctx=Load())]))],\n",
      "    type_ignores=[])\n"
     ]
    }
   ],
   "source": [
    "#def Tele(x, A, cb):\n",
    "import ast\n",
    "#print(ast.dump(ast.parse(\"[x in int, b in int] >= t in A\", mode=\"eval\"), indent=4))\n",
    "ast.dump(ast.parse(\"(x in A, y in B) -> t == t1 in A\", mode=\"func_type\"), indent=4)\n",
    "print(ast.dump(ast.parse(\"x : A; y : B; t == t1 in A\", mode=\"exec\"), indent=4)) # yield, asset\n",
    "#print(ast.dump(ast.parse(\"[x in int, b in int] => x in B\")))\n"
   ]
  },
  {
   "cell_type": "markdown",
   "id": "ad5d51d9",
   "metadata": {},
   "source": [
    "What does cross stage get us? We get to produce python code.\n"
   ]
  },
  {
   "cell_type": "code",
   "execution_count": 115,
   "id": "77116416",
   "metadata": {},
   "outputs": [
    {
     "data": {
      "text/html": [
       "x&middot;x&middot;x&middot;x"
      ],
      "text/plain": [
       "x*x*x*x"
      ]
     },
     "execution_count": 115,
     "metadata": {},
     "output_type": "execute_result"
    }
   ],
   "source": [
    "import z3\n",
    "# cross stage persistence\n",
    "def cross(e : z3.ExprRef) -> str:\n",
    "    return f\"z3.deserialize(\\\"{e.serialize()}\\\")\".replace(\"\\n\", \"\")\n",
    "\n",
    "def mypow(n : int, e : z3.ExprRef) -> str:\n",
    "    if n == 0:\n",
    "        return cross(e)\n",
    "    else:\n",
    "        return f\"{cross(e)} * {mypow(n - 1, e)}\"\n",
    "\n",
    "eval(cross(z3.Int('x')))\n",
    "eval(mypow(3, z3.Int('x')))\n",
    "\n",
    "def mypow1(n, e):\n",
    "    if n == 0:\n",
    "        return e\n",
    "    else:\n",
    "        return e * mypow1(n - 1, e)\n",
    "mypow1(3, z3.Int('x'))"
   ]
  },
  {
   "cell_type": "code",
   "execution_count": 96,
   "id": "013e42d0",
   "metadata": {},
   "outputs": [
    {
     "data": {
      "text/html": [
       "x"
      ],
      "text/plain": [
       "x"
      ]
     },
     "execution_count": 96,
     "metadata": {},
     "output_type": "execute_result"
    }
   ],
   "source": [
    "z3.deserialize(\"(declare-fun F (Int) Bool)\\n(declare-fun x () Int)\\n(assert (F x))\\n\")"
   ]
  },
  {
   "cell_type": "code",
   "execution_count": null,
   "id": "e899aaf0",
   "metadata": {},
   "outputs": [
    {
     "name": "stdout",
     "output_type": "stream",
     "text": [
      "Module(\n",
      "    body=[\n",
      "        For(\n",
      "            target=Name(id='x', ctx=Store()),\n",
      "            iter=Call(\n",
      "                func=Name(id='range', ctx=Load()),\n",
      "                args=[\n",
      "                    Constant(value=7)],\n",
      "                keywords=[]),\n",
      "            body=[\n",
      "                Expr(\n",
      "                    value=Call(\n",
      "                        func=Name(id='print', ctx=Load()),\n",
      "                        args=[\n",
      "                            Name(id='x', ctx=Load())],\n",
      "                        keywords=[]))],\n",
      "            orelse=[],\n",
      "            type_comment='int')],\n",
      "    type_ignores=[])\n"
     ]
    },
    {
     "data": {
      "text/plain": [
       "(1, 2)"
      ]
     },
     "execution_count": 54,
     "metadata": {},
     "output_type": "execute_result"
    }
   ],
   "source": [
    "print(ast.dump(ast.parse(\"\"\"\n",
    "for x in range(7): # type: int\n",
    "    print(x)\n",
    "\"\"\",type_comments=True), indent=4))\n",
    "ast.unparse\n",
    "ast.literal_eval(\"(1,2)\")\n",
    "ast.literal_eval(\"\")"
   ]
  }
 ],
 "metadata": {
  "kernelspec": {
   "display_name": ".venv",
   "language": "python",
   "name": "python3"
  },
  "language_info": {
   "codemirror_mode": {
    "name": "ipython",
    "version": 3
   },
   "file_extension": ".py",
   "mimetype": "text/x-python",
   "name": "python",
   "nbconvert_exporter": "python",
   "pygments_lexer": "ipython3",
   "version": "3.12.3"
  }
 },
 "nbformat": 4,
 "nbformat_minor": 5
}
