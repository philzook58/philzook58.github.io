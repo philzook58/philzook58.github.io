{
 "cells": [
  {
   "cell_type": "code",
   "execution_count": null,
   "id": "129892a5",
   "metadata": {},
   "outputs": [],
   "source": [
    "\n",
    "\n",
    "\n",
    "type goaly = (int,db) -> list[env]\n",
    "\n",
    "\n"
   ]
  },
  {
   "cell_type": "markdown",
   "id": "4c690620",
   "metadata": {},
   "source": [
    "Lazy Trie Join\n",
    "The simplest version just pushes completely.\n",
    "\n",
    "\n",
    "Minikanren has uniformity.\n",
    "\n",
    "https://dodisturb.me/posts/2018-12-25-The-Essence-of-Datalog.html\n",
    "https://stackoverflow.com/questions/28467011/what-are-the-main-technical-differences-between-prolog-and-minikanren-with-resp\n",
    "\n",
    "https://www.cambridge.org/core/journals/journal-of-functional-programming/article/sql-to-c-compiler-in-500-lines-of-code/C38B40C78B6A9C55232D4A850587FC64"
   ]
  },
  {
   "cell_type": "code",
   "execution_count": null,
   "id": "5f0e950c",
   "metadata": {},
   "outputs": [],
   "source": [
    "class Var():\n",
    "    ind : int\n",
    "#type Var = int\n",
    "type Env = dict[int, object]\n",
    "#type rel = Callable[[...], list[Env]]\n",
    "\n",
    "edge_table = {(1,2), (2,3)}\n",
    "def edge(x,y):\n",
    "    def res(db):\n",
    "        if x is Var:\n",
    "            return\n",
    "            \n",
    "def rel(name, *args):\n",
    "    def res(db):\n",
    "        R = db.get(name, {})\n",
    "        for row in R: ...\n",
    "\n",
    "def merge_env(e1,e2):\n",
    "    if len(e1) <= len(e2):\n",
    "        e1, e2 = e2, e1\n",
    "    res = e1.copy()\n",
    "    for k,v in e2:\n",
    "        if k in res:\n",
    "            if res[k] != v:\n",
    "                return\n",
    "        res[k] = v\n",
    "    return res\n",
    "\n",
    "#def bind(v, name):\n",
    "\n",
    "def forall(A, f):\n",
    "    def res(db):\n",
    "        for a in db[A]:\n",
    "            yield f(a)\n",
    "\n",
    "def forall(f):\n",
    "    def res(counter, db):\n",
    "        return f(counter)(counter+1, db)\n",
    "    return res\n",
    "\n",
    "\n",
    "\n",
    "\n",
    "    #for (n,a) in sorted(enumerate(args), key=lambda z: (z[1],z[0])):\n",
    "\n",
    "\n",
    "\n",
    "\n",
    "\n",
    "def prod(x,y): #  seminiave  ((x*y), x*dy + y * dx)\n",
    "    def res(db):\n",
    "        for a in x(db):\n",
    "            for b in y(db):\n",
    "                yield merge_env(a,b)\n",
    "    return res\n",
    "\n",
    "\n",
    "\n",
    "\n",
    "\n"
   ]
  },
  {
   "cell_type": "code",
   "execution_count": 26,
   "id": "ee6c302b",
   "metadata": {},
   "outputs": [
    {
     "data": {
      "text/plain": [
       "[(1, 2), (2, 3)]"
      ]
     },
     "execution_count": 26,
     "metadata": {},
     "output_type": "execute_result"
    }
   ],
   "source": [
    "import sqlite3\n",
    "\n",
    "\n",
    "db = sqlite3.connect(\":memory:\")\n",
    "db.execute(\"CREATE TABLE edge (x0 INTEGER, x1 INTEGER)\")\n",
    "db.executemany(\"INSERT INTO edge VALUES (?, ?)\", [(1,2),(2,3)])\n",
    "db.execute(\"CREATE TABLE path (x0 INTEGER, x1 INTEGER)\")\n",
    "db.execute(\"INSERT INTO path SELECT x as x0, y as x1 FROM (SELECT x0 as x, x1 as y FROM edge)\")\n",
    "db.execute(\"SELECT * FROM path\").fetchall()"
   ]
  },
  {
   "cell_type": "code",
   "execution_count": null,
   "id": "3322cdda",
   "metadata": {},
   "outputs": [
    {
     "ename": "IndentationError",
     "evalue": "unexpected indent (3530425379.py, line 2)",
     "output_type": "error",
     "traceback": [
      "  \u001b[36mCell\u001b[39m\u001b[36m \u001b[39m\u001b[32mIn[28]\u001b[39m\u001b[32m, line 2\u001b[39m\n\u001b[31m    \u001b[39m\u001b[31mdef sql():\u001b[39m\n    ^\n\u001b[31mIndentationError\u001b[39m\u001b[31m:\u001b[39m unexpected indent\n"
     ]
    }
   ],
   "source": [
    "class Rel(): ...\n",
    "    def sql():\n",
    "    def freevars():\n",
    "    def __mul__(self, other):\n",
    "        return Rel(f\"({self.sql} JOIN {other.sql})\")\n",
    "\n",
    "class BaseRelation():\n",
    "    def __init__(self, name, db):\n",
    "        self.name = name\n",
    "        self.db = db\n",
    "    def __call__(self, *args, **kwargs):\n",
    "        args = {\"x\" + str(n) : a for n,a in enumerate(args), **kwargs}\n",
    "        wheres = [\"TRUE\"]\n",
    "        env = {}\n",
    "        for k,v in args.items():\n",
    "            if isinstance(v, Var):\n",
    "                if v.ind in env:\n",
    "                    wheres.append(f\"{k} = {env[v.ind]}\")\n",
    "                else:\n",
    "                    env[v.ind] = k\n",
    "            else:\n",
    "                wheres.append(f\"{k} = {repr(v)}\")\n",
    "        return Rel(\n",
    "            f'(SELECT {\",\" .join([f\"{v} As {k}\" for k,v in env.items()])} \n",
    "                FROM {self.name} \n",
    "                WHERE {\" AND \".join(wheres)})', \n",
    "                env.keys())\n",
    "    def __getitem__(self, key): ...\n",
    "        "
   ]
  },
  {
   "cell_type": "markdown",
   "id": "dd04ddb9",
   "metadata": {},
   "source": [
    "I can translate datalog into relation algerbao f the body.\n",
    "Then i can directly interpet the relation algebra,\n",
    "do optimizations finally tagless style\n",
    "or interpret into SQL.\n",
    "\n",
    "The key is the senmantcs of the body is the relation of _environments\"\n",
    "\n",
    "Using dual numbers\n",
    "\"edge\", \"delta_edge\"\n",
    "\n",
    "\n"
   ]
  },
  {
   "cell_type": "code",
   "execution_count": null,
   "id": "e0b626e0",
   "metadata": {},
   "outputs": [
    {
     "ename": "SyntaxError",
     "evalue": "expected ':' (81940528.py, line 1)",
     "output_type": "error",
     "traceback": [
      "  \u001b[36mCell\u001b[39m\u001b[36m \u001b[39m\u001b[32mIn[79]\u001b[39m\u001b[32m, line 1\u001b[39m\n\u001b[31m    \u001b[39m\u001b[31mclass RelAlg()\u001b[39m\n                  ^\n\u001b[31mSyntaxError\u001b[39m\u001b[31m:\u001b[39m expected ':'\n"
     ]
    }
   ],
   "source": [
    "class RelAlg(Protocol):\n",
    "    def rename(self, **kwargs): ...\n",
    "    def project(self, *args): ...\n",
    "    def join(self, other): ...\n",
    "\n",
    "class RelAlgCode():\n",
    "    sql : str\n",
    "class RelAlgSet():\n",
    "\n",
    "\n",
    "\n",
    "\n",
    "\n",
    "\n",
    "\n",
    "def rel(R):\n",
    "    def res(*args, **kwargs):\n",
    "        args = {**{\"x\" + str(n) : a for n,a in enumerate(args)}, **kwargs}\n",
    "        Q = set()\n",
    "        for row in R:\n",
    "            env = {}\n",
    "            for k,v in args.items():\n",
    "                if isinstance(v, Var):\n",
    "                    if v in env:\n",
    "                        if env[v] != row[k]:\n",
    "                            break\n",
    "                    else:\n",
    "                        env[v] = row[k]\n",
    "                else:\n",
    "                    if row[k] != v:\n",
    "                        break\n",
    "            else:\n",
    "                Q.add(frozendict(env))\n",
    "        return Q\n",
    "    return res"
   ]
  },
  {
   "cell_type": "code",
   "execution_count": null,
   "id": "16186d2a",
   "metadata": {},
   "outputs": [
    {
     "data": {
      "text/plain": [
       "[(2, None, 2, None)]"
      ]
     },
     "execution_count": 78,
     "metadata": {},
     "output_type": "execute_result"
    }
   ],
   "source": [
    "\n",
    "@dataclass(frozen=True)\n",
    "class Var():\n",
    "    ind : str\n",
    "x,y,z = Var(\"x\"), Var(\"y\"), Var(\"z\")\n",
    "\n",
    "def rel(name):\n",
    "    def res(*args, **kwargs):\n",
    "        args = {**{\"x\" + str(n) : a for n,a in enumerate(args)}, **kwargs}\n",
    "        wheres = [\"TRUE\"]\n",
    "        env = {}\n",
    "        for k,v in args.items():\n",
    "            if isinstance(v, Var):\n",
    "                if v in env:\n",
    "                    wheres.append(f\"{k} = {env[v]}\")\n",
    "                else:\n",
    "                    env[v] = k\n",
    "            else:\n",
    "                wheres.append(f\"{k} = {repr(v)}\")\n",
    "        return f\"\"\"SELECT DISTINCT {\", \" .join([f\"{v} AS {k.ind}\" for k,v in env.items()] + [\"NULL\"])} \\\n",
    "                FROM {name} \\\n",
    "                WHERE {\" AND \".join(wheres)}\"\"\"\n",
    "    return res\n",
    "def conj(*args):\n",
    "    return \", \".join(\"(\" + arg + \")\" for arg in args)\n",
    "    #return \" INNER JOIN \".join(\"(\" + arg + \")\" for arg in args)\n",
    "#def \n",
    "\n",
    "edge = rel(\"edge\")\n",
    "edge(1,2)\n",
    "#db.execute(\"SELECT NULL, x0 as a FROM edge where true and x1 = 2\").fetchall()\n",
    "#db.execute(edge(3,4)).fetchall()\n",
    "\n",
    "db = sqlite3.connect(\":memory:\")\n",
    "db.execute(\"CREATE TABLE edge (x0 INTEGER, x1 INTEGER, PRIMARY KEY (x0, x1))\")\n",
    "db.executemany(\"INSERT OR IGNORE INTO edge VALUES (?, ?)\", [(1,2),(2,3),(2,4)])\n",
    "db.execute(\"CREATE TABLE path (x0 INTEGER, x1 INTEGER)\")\n",
    "db.execute(\"INSERT INTO path SELECT x as x0, y as x1 FROM (SELECT x0 as x, x1 as y FROM edge)\")\n",
    "db.execute(\"SELECT * FROM path\").fetchall()\n",
    "\n",
    "db.execute(\"SELECT * FROM\" + conj(edge(1, x), edge(x,3))).fetchall()\n",
    "#conj(edge(1, x), edge(x,3))\n",
    "#edge(1, x)\n",
    "#db.execute(\"SELECT * FROM edge\").fetchall()\n",
    "#conj(edge(1, x), edge(x,3))\n",
    "\n",
    "def insert(name)\n",
    "    def res(*args, **kwargs):\n",
    "        def res2(body):\n",
    "            args = {**{\"x\" + str(n) : a for n,a in enumerate(args)}, **kwargs}\n",
    "            selects = \", \".join([f\"{v} AS {k}\" for k,v in args.items()])\n",
    "            return f\"INSERT OR IGNORE INTO {name} SELECT {selects} FROM {body}\"\n",
    "        return res2\n",
    "    return res\n",
    "insert(\"path\")(1,2)() \n"
   ]
  },
  {
   "cell_type": "code",
   "execution_count": null,
   "id": "4a4fb033",
   "metadata": {},
   "outputs": [],
   "source": [
    "class State():\n",
    "    env : dict[int, key]\n",
    "    data : trie"
   ]
  },
  {
   "cell_type": "code",
   "execution_count": null,
   "id": "148fe918",
   "metadata": {},
   "outputs": [],
   "source": [
    "class State():\n",
    "    env : dict[int, string]\n",
    "    froms :list[str]\n",
    "    constrs : list[str]\n",
    "\n",
    "    def __mul__(self, other):\n",
    "        return State({**self.env, **self.other},\n",
    "            self.froms + other.froms,\n",
    "            self.constrs + other.constrs + [self.env[k] == other.env[k] for k in self.env if k in other.env])\n",
    "\n",
    "def rel(name, *args):\n",
    "    return State(  , [\"{name} as {row}\"], [])\n"
   ]
  },
  {
   "cell_type": "code",
   "execution_count": 8,
   "id": "71bc5991",
   "metadata": {},
   "outputs": [
    {
     "ename": "TypeError",
     "evalue": "'<' not supported between instances of 'int' and 'Var'",
     "output_type": "error",
     "traceback": [
      "\u001b[31m---------------------------------------------------------------------------\u001b[39m",
      "\u001b[31mTypeError\u001b[39m                                 Traceback (most recent call last)",
      "\u001b[36mCell\u001b[39m\u001b[36m \u001b[39m\u001b[32mIn[8]\u001b[39m\u001b[32m, line 32\u001b[39m\n\u001b[32m     30\u001b[39m     \u001b[38;5;28;01mreturn\u001b[39;00m worker(R, \u001b[38;5;28msorted\u001b[39m(\u001b[38;5;28menumerate\u001b[39m(args), key=\u001b[38;5;28;01mlambda\u001b[39;00m z: (z[\u001b[32m1\u001b[39m], z[\u001b[32m0\u001b[39m])))\n\u001b[32m     31\u001b[39m edge = {(\u001b[32m1\u001b[39m,\u001b[32m2\u001b[39m), (\u001b[32m2\u001b[39m,\u001b[32m3\u001b[39m), (\u001b[32m2\u001b[39m,\u001b[32m1\u001b[39m)}\n\u001b[32m---> \u001b[39m\u001b[32m32\u001b[39m \u001b[43mtrie\u001b[49m\u001b[43m(\u001b[49m\u001b[43medge\u001b[49m\u001b[43m,\u001b[49m\u001b[43m \u001b[49m\u001b[43mVar\u001b[49m\u001b[43m(\u001b[49m\u001b[32;43m0\u001b[39;49m\u001b[43m)\u001b[49m\u001b[43m,\u001b[49m\u001b[43m \u001b[49m\u001b[32;43m1\u001b[39;49m\u001b[43m)\u001b[49m\n",
      "\u001b[36mCell\u001b[39m\u001b[36m \u001b[39m\u001b[32mIn[8]\u001b[39m\u001b[32m, line 30\u001b[39m, in \u001b[36mtrie\u001b[39m\u001b[34m(R, *args)\u001b[39m\n\u001b[32m     28\u001b[39m         \u001b[38;5;28;01melse\u001b[39;00m:\n\u001b[32m     29\u001b[39m             \u001b[38;5;28;01mreturn\u001b[39;00m worker({v \u001b[38;5;28;01mfor\u001b[39;00m v \u001b[38;5;129;01min\u001b[39;00m S \u001b[38;5;28;01mif\u001b[39;00m v[n] == a}, nargs[\u001b[32m1\u001b[39m:])\n\u001b[32m---> \u001b[39m\u001b[32m30\u001b[39m \u001b[38;5;28;01mreturn\u001b[39;00m worker(R, \u001b[38;5;28;43msorted\u001b[39;49m\u001b[43m(\u001b[49m\u001b[38;5;28;43menumerate\u001b[39;49m\u001b[43m(\u001b[49m\u001b[43margs\u001b[49m\u001b[43m)\u001b[49m\u001b[43m,\u001b[49m\u001b[43m \u001b[49m\u001b[43mkey\u001b[49m\u001b[43m=\u001b[49m\u001b[38;5;28;43;01mlambda\u001b[39;49;00m\u001b[43m \u001b[49m\u001b[43mz\u001b[49m\u001b[43m:\u001b[49m\u001b[43m \u001b[49m\u001b[43m(\u001b[49m\u001b[43mz\u001b[49m\u001b[43m[\u001b[49m\u001b[32;43m1\u001b[39;49m\u001b[43m]\u001b[49m\u001b[43m,\u001b[49m\u001b[43m \u001b[49m\u001b[43mz\u001b[49m\u001b[43m[\u001b[49m\u001b[32;43m0\u001b[39;49m\u001b[43m]\u001b[49m\u001b[43m)\u001b[49m\u001b[43m)\u001b[49m)\n",
      "\u001b[31mTypeError\u001b[39m: '<' not supported between instances of 'int' and 'Var'"
     ]
    }
   ],
   "source": [
    "from dataclasses import dataclass\n",
    "from collections import defaultdict\n",
    "@dataclass\n",
    "class Var():\n",
    "    ind:int\n",
    "    def __le__(self, other):\n",
    "        if isinstance(other, Var):\n",
    "            return self.ind <= other.ind\n",
    "        return True\n",
    "    def __lt__(self, other):\n",
    "        if isinstance(other, Var):\n",
    "            return self.ind < other.ind\n",
    "        return True\n",
    "\n",
    "def trie(R, *args):\n",
    "    def worker(S, nargs):\n",
    "        if len(S) == 0:\n",
    "            return None\n",
    "        if len(nargs) == 0:\n",
    "            return () if S else None\n",
    "        else:\n",
    "            (n, a) = nargs[0]\n",
    "            if isinstance(a, Var):\n",
    "                q = defaultdict(set)\n",
    "                for v in S:\n",
    "                    q[v[n]].add(v)\n",
    "                return (n, {k : worker(v, nargs[1:]) for k, v in q.items()})\n",
    "            else:\n",
    "                return worker({v for v in S if v[n] == a}, nargs[1:])\n",
    "    return worker(R, sorted(enumerate(args), key=lambda z: (z[1], z[0])))\n",
    "edge = {(1,2), (2,3), (2,1)}\n",
    "trie(edge, Var(0), 1)\n"
   ]
  },
  {
   "cell_type": "code",
   "execution_count": 14,
   "id": "51bc28f7",
   "metadata": {},
   "outputs": [
    {
     "data": {
      "text/plain": [
       "{2: {1: (), 3: ()}, 1: {2: ()}}"
      ]
     },
     "execution_count": 14,
     "metadata": {},
     "output_type": "execute_result"
    }
   ],
   "source": [
    "def trie(R,n):\n",
    "    if n == 0:\n",
    "        return ()\n",
    "    elif n == 1:\n",
    "        return {k[0] : () for k in R}\n",
    "    else:\n",
    "        q = defaultdict(set)\n",
    "        for row in R:\n",
    "            if len(row) >= 2:\n",
    "                q[row[0]].add(row[1:])\n",
    "\n",
    "        return {k : trie(v,n-1) for k, v in q.items()}\n",
    "\n",
    "trie(edge, 2)\n",
    "\n",
    "\n"
   ]
  },
  {
   "cell_type": "code",
   "execution_count": 18,
   "id": "c3279025",
   "metadata": {},
   "outputs": [
    {
     "data": {
      "text/plain": [
       "{2: {3: {}, 1: {}}, 1: {2: {}}}"
      ]
     },
     "execution_count": 18,
     "metadata": {},
     "output_type": "execute_result"
    }
   ],
   "source": [
    "def trie(R):\n",
    "    root = {}\n",
    "    for row in R:\n",
    "        node = root\n",
    "        for v in row:\n",
    "            node = node.setdefault(v, {})\n",
    "    return root\n",
    "\n",
    "trie(edge)"
   ]
  },
  {
   "cell_type": "code",
   "execution_count": 21,
   "id": "9937bd84",
   "metadata": {},
   "outputs": [
    {
     "data": {
      "text/plain": [
       "{3: {2: {}}, 2: {1: {}}, 1: {2: {}}}"
      ]
     },
     "execution_count": 21,
     "metadata": {},
     "output_type": "execute_result"
    }
   ],
   "source": [
    "def trie(R, args):\n",
    "    root = {}\n",
    "    for row in R:\n",
    "        node = root\n",
    "        for n, v in sorted(zip(args, row)):\n",
    "            node = node.setdefault(v, {})\n",
    "    return root\n",
    "\n",
    "trie(edge, [0,1])\n",
    "trie(edge, [1,0])"
   ]
  },
  {
   "cell_type": "code",
   "execution_count": null,
   "id": "47ebe4d0",
   "metadata": {},
   "outputs": [],
   "source": [
    "def trie(R, pat):\n",
    "    root = {}\n",
    "    for row in R:\n",
    "        env = {}\n",
    "        for n, v in sorted(zip(pat, row)):\n",
    "            if isinstance(n,Var) and n in env:\n",
    "                if env[n] != v:\n",
    "                    break\n",
    "                else:\n",
    "                    env[n] = v\n",
    "            else:\n",
    "                if n != v: # literal pattern\n",
    "                    break\n",
    "        else:\n",
    "            node = root\n",
    "            for n, v in sorted(env.items()):\n",
    "                node = node.setdefault(v, {})\n",
    "    return root\n",
    "\n",
    "trie(edge, [0,1])\n",
    "trie(edge, [1,0])"
   ]
  },
  {
   "cell_type": "code",
   "execution_count": null,
   "id": "9e84c96b",
   "metadata": {},
   "outputs": [],
   "source": [
    "def run(db):\n",
    "    for x in db.V:\n",
    "        for y in db.V:\n",
    "            "
   ]
  }
 ],
 "metadata": {
  "kernelspec": {
   "display_name": "philzook58.github.io",
   "language": "python",
   "name": "python3"
  },
  "language_info": {
   "codemirror_mode": {
    "name": "ipython",
    "version": 3
   },
   "file_extension": ".py",
   "mimetype": "text/x-python",
   "name": "python",
   "nbconvert_exporter": "python",
   "pygments_lexer": "ipython3",
   "version": "3.12.3"
  }
 },
 "nbformat": 4,
 "nbformat_minor": 5
}
