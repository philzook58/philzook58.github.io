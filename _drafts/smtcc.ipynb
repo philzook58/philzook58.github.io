{
 "cells": [
  {
   "cell_type": "code",
   "execution_count": null,
   "id": "42f1bb3b",
   "metadata": {},
   "outputs": [],
   "source": []
  },
  {
   "cell_type": "markdown",
   "id": "a8427af7",
   "metadata": {},
   "source": [
    "Bril\n",
    "llvm\n",
    "xdsl\n",
    "\n",
    "nanopass\n",
    "\n",
    "vectorization\n",
    "\n",
    "mini python \n",
    "\n",
    "https://github.com/IUCompilerCourse/Essentials-of-Compilation\n",
    "https://github.com/IUCompilerCourse/python-student-support-code\n",
    "\n",
    "https://github.com/IUCompilerCourse/python-student-support-code/blob/main/interp_x86/parser_x86.py\n",
    "\n",
    "\n",
    "https://github.com/cslarsen/minijit\n",
    "https://github.com/zserge/tinylangs/blob/main/asm.py\n",
    "https://github.com/benhoyt/pyast64  https://benhoyt.com/writings/pyast64/\n",
    "https://github.com/Maratyszcza/PeachPy\n",
    "https://github.com/ssloy/tinycompiler\n",
    "\n",
    "https://news.ycombinator.com/item?id=14644576\n",
    "\n",
    "https://gitlab.com/tsoding/porth https://www.youtube.com/watch?v=QlKSCn-Al6Q&ab_channel=TsodingDaily\n",
    "\n",
    "\n",
    "Some mix of meta and internalized"
   ]
  },
  {
   "cell_type": "code",
   "execution_count": 17,
   "id": "d704e9f5",
   "metadata": {},
   "outputs": [],
   "source": [
    "from kdrag.all import *\n",
    "BV64 = smt.BitVecSort(64)\n",
    "getarg = smt.Function(\"getarg\", smt.IntSort(), BV64)\n",
    "\n",
    "def remove_complex_operands(e : smt.ExprRef):\n",
    "    todo = [e]\n",
    "    prog = []\n",
    "    while todo:\n",
    "        e = todo.pop()\n",
    "        prog.append(e)\n",
    "        if isinstance(e, smt.BitVecNumRef):\n",
    "            continue\n",
    "        if smt.is_app(e):\n",
    "            if e.decl() != getarg:\n",
    "                assert e.num_args() <= 2\n",
    "                todo.extend(e.children())\n",
    "        else:\n",
    "            raise ValueError(\"Expected an application, got: \", e)\n",
    "    return list(reversed(prog))\n",
    "prog = getarg(0) + 42 - getarg(1)\n",
    "prog1 = remove_complex_operands(prog)"
   ]
  },
  {
   "cell_type": "code",
   "execution_count": null,
   "id": "6f38cfad",
   "metadata": {},
   "outputs": [],
   "source": [
    "def remove_complex_correct(prog0, prog1):\n",
    "    # There's nothing much to say here.\n",
    "    pass"
   ]
  },
  {
   "cell_type": "code",
   "execution_count": null,
   "id": "13e18fd0",
   "metadata": {},
   "outputs": [
    {
     "data": {
      "text/plain": [
       "[(movq, RDI, getarg(0)),\n",
       " (movq, getarg(0), RAX),\n",
       " (addq, 42, RAX),\n",
       " (movq, RAX, getarg(0) + 42),\n",
       " (movq, RSI, getarg(1)),\n",
       " (movq, getarg(0) + 42, RAX),\n",
       " (subq, getarg(1), RAX),\n",
       " (movq, RAX, getarg(0) + 42 - getarg(1))]"
      ]
     },
     "execution_count": 20,
     "metadata": {},
     "output_type": "execute_result"
    }
   ],
   "source": [
    "movq = smt.Function(\"movq\", BV64, BV64)\n",
    "subq = smt.Function(\"subq\", BV64, BV64, BV64)\n",
    "addq = smt.Function(\"addq\", BV64, BV64, BV64)\n",
    "Reg = kd.Enum(\"Reg\", [\"RAX\", \"RBX\", \"RCX\", \"RDX\", \"RSI\", \"RDI\", \"RSP\", \"RBP\", \"R8\", \"R9\", \"R10\", \"R11\", \"R12\", \"R13\", \"R14\", \"R15\"])\n",
    "Insn = kd.Enum(\"Insn\", [\"movq\", \"addq\", \"subq\"])\n",
    "\n",
    "def instruction_select(prog : list[smt.ExprRef]):\n",
    "    res = []\n",
    "\n",
    "    for expr in prog:\n",
    "        if isinstance(expr, smt.BitVecNumRef):\n",
    "            continue\n",
    "        else:\n",
    "            match expr.decl().name():\n",
    "                case \"getarg\":\n",
    "                    i = expr.arg(0)\n",
    "                    assert isinstance(i, smt.IntNumRef)\n",
    "                    reg = [Reg.RDI, Reg.RSI, Reg.RDX, Reg.RCX, Reg.R8, Reg.R9][i.as_long()]\n",
    "                    res += [(movq, reg, expr)]\n",
    "                case \"bvadd\":\n",
    "                    arg1,arg2 = expr.children()\n",
    "                    res += [(movq, arg1, Reg.RAX),\n",
    "                            (addq, arg2, Reg.RAX),\n",
    "                            (movq, Reg.RAX, expr)]\n",
    "                case \"bvsub\":\n",
    "                    arg1,arg2 = expr.children()\n",
    "                    res += [(movq, arg1, Reg.RAX),\n",
    "                            (subq, arg2, Reg.RAX),\n",
    "                            (movq, Reg.RAX, expr)]\n",
    "                \n",
    "                case _:\n",
    "                    raise ValueError(\"Unexpected expression in instruction selection: \", expr)\n",
    "    return res\n",
    "\n",
    "\n",
    "prog2 = instruction_select(prog1)\n",
    "prog2 "
   ]
  },
  {
   "cell_type": "markdown",
   "id": "16aae5e9",
   "metadata": {},
   "source": []
  },
  {
   "cell_type": "code",
   "execution_count": null,
   "id": "f0c7d77f",
   "metadata": {},
   "outputs": [
    {
     "name": "stdout",
     "output_type": "stream",
     "text": [
      "movq RDI getarg(0)\n",
      "movq getarg(0) RAX\n",
      "addq 42 RAX\n",
      "movq RAX getarg(0) + 42\n",
      "movq RSI getarg(1)\n",
      "movq getarg(0) + 42 RAX\n",
      "subq getarg(1) RAX\n",
      "movq RAX getarg(0) + 42 - getarg(1)\n"
     ]
    }
   ],
   "source": [
    "rsp = smt.BitVec(\"rsp\", 64)\n",
    "\n",
    "def assign_home(prog):\n",
    "    res = []\n",
    "    stack = {}\n",
    "    for stmt in prog:\n",
    "        match stmt:\n",
    "            case (op, arg1, arg2):\n",
    "                print(f\"{op} {arg1} {arg2}\")\n",
    "                if arg1.sort() == BV64:\n",
    "                    if arg1 not in stack:\n",
    "                        stack[arg1] = rsp + len(stack) * 8\n",
    "                res.append((op, stack[arg1], stack[arg2]))\n",
    "            case _:\n",
    "                raise ValueError(\"Unexpected statement in assignment: \", stmt)\n",
    "    return res\n",
    "assign_home(prog2)"
   ]
  },
  {
   "cell_type": "code",
   "execution_count": null,
   "id": "a3c9c013",
   "metadata": {},
   "outputs": [],
   "source": [
    "    env = {}\n",
    "    regfile = smt.Const(\"undefined\", Regfile)\n",
    "regfile[[RDI, RDX][i.as_long()]]\n",
    "Regfile = smt.ArraySort(Reg, BV64)\n",
    "\n",
    "mov_to_rax = smt.Function(\"movq\", BV64, Regfile, Regfile)\n",
    "read_rax = smt.Function(\"read_rax\", Regfile, BV64)\n",
    "add_rax = smt.Function(\"add_rax\", BV64, Regfile, Regfile)\n",
    "\n",
    "\n"
   ]
  },
  {
   "cell_type": "code",
   "execution_count": null,
   "id": "966a334a",
   "metadata": {},
   "outputs": [],
   "source": [
    "Stmt = smt.ArraySort(State, State)\n",
    "RR = smt.Function(\"RR\", Insn, Reg,   Reg,       State, State) # Reg Reg insn\n",
    "smt.Function(\"MR\", Insn, Reg, BV64,  Reg,  State, State) # Mem Reg insn\n",
    "smt.Function(\"IR\", Insn, BV64,   Reg,      State, State) # Imm Reg insn\n",
    "smt.Function(\"RM\", Insn, Reg,  Reg, BV64,  State, State) # Reg Reg insn\n",
    "\n",
    "def from_tup(insn):\n",
    "    insn, op1, op2 = insn\n",
    "    s1,s2 = op1.sort(), op2.sort()\n",
    "    if s1 == Reg and s2 == Reg:\n",
    "        return RR(insn, op1, op2)\n",
    "    elif s1 == Reg and s2 == BV64:\n",
    "        return MR(insn, op1, op2)\n",
    "    elif s1 == BV64 and s2 == Reg:\n",
    "        return RM(insn, op1, op2)\n",
    "\n"
   ]
  },
  {
   "cell_type": "code",
   "execution_count": null,
   "id": "5f86201c",
   "metadata": {},
   "outputs": [
    {
     "ename": "TypeError",
     "evalue": "Enum() takes 2 positional arguments but 9 were given",
     "output_type": "error",
     "traceback": [
      "\u001b[31m---------------------------------------------------------------------------\u001b[39m",
      "\u001b[31mTypeError\u001b[39m                                 Traceback (most recent call last)",
      "\u001b[36mCell\u001b[39m\u001b[36m \u001b[39m\u001b[32mIn[9]\u001b[39m\u001b[32m, line 2\u001b[39m\n\u001b[32m      1\u001b[39m Stack = smt.ArraySort(smt.BitVecSort(\u001b[32m8\u001b[39m), BV64)\n\u001b[32m----> \u001b[39m\u001b[32m2\u001b[39m \u001b[43mkd\u001b[49m\u001b[43m.\u001b[49m\u001b[43mEnum\u001b[49m\u001b[43m(\u001b[49m\u001b[33;43m\"\u001b[39;49m\u001b[33;43mReg\u001b[39;49m\u001b[33;43m\"\u001b[39;49m\u001b[43m,\u001b[49m\u001b[43m \u001b[49m\u001b[33;43m\"\u001b[39;49m\u001b[33;43mRAX\u001b[39;49m\u001b[33;43m\"\u001b[39;49m\u001b[43m,\u001b[49m\u001b[43m \u001b[49m\u001b[33;43m\"\u001b[39;49m\u001b[33;43mRBX\u001b[39;49m\u001b[33;43m\"\u001b[39;49m\u001b[43m,\u001b[49m\u001b[43m \u001b[49m\u001b[33;43m\"\u001b[39;49m\u001b[33;43mRCX\u001b[39;49m\u001b[33;43m\"\u001b[39;49m\u001b[43m,\u001b[49m\u001b[43m \u001b[49m\u001b[33;43m\"\u001b[39;49m\u001b[33;43mRDX\u001b[39;49m\u001b[33;43m\"\u001b[39;49m\u001b[43m,\u001b[49m\u001b[43m \u001b[49m\u001b[33;43m\"\u001b[39;49m\u001b[33;43mRSI\u001b[39;49m\u001b[33;43m\"\u001b[39;49m\u001b[43m,\u001b[49m\u001b[43m \u001b[49m\u001b[33;43m\"\u001b[39;49m\u001b[33;43mRDI\u001b[39;49m\u001b[33;43m\"\u001b[39;49m\u001b[43m,\u001b[49m\u001b[43m \u001b[49m\u001b[33;43m\"\u001b[39;49m\u001b[33;43mRSP\u001b[39;49m\u001b[33;43m\"\u001b[39;49m\u001b[43m,\u001b[49m\u001b[43m \u001b[49m\u001b[33;43m\"\u001b[39;49m\u001b[33;43mRBP\u001b[39;49m\u001b[33;43m\"\u001b[39;49m\u001b[43m)\u001b[49m\n",
      "\u001b[31mTypeError\u001b[39m: Enum() takes 2 positional arguments but 9 were given"
     ]
    }
   ],
   "source": [
    "Stack = smt.ArraySort(smt.BitVecSort(8), BV64)\n",
    "Reg = kd.Enum(\"Reg\", [\"RAX\", \"RBX\", \"RCX\", \"RDX\", \"RSI\", \"RDI\", \"RSP\", \"RBP\"])\n",
    "Regfile = smt.ArraySort(Reg, BV64)\n",
    "movqrr = smt.Function(\"movqrr\", Reg, Reg,  Regfile, Regfile)\n",
    "movqlr = smt.Function(\"movqlr\", BV64, Reg, Regfile, Regfile)\n",
    "movqrl = smt.Function(\"movqrl\", BV64, Reg, Regfile, Regfile)\n",
    "movqsr = smt.Function(\"movqsr\", Reg, Stack, Regfile, Regfile)\n",
    "movqrs = smt.Function(\"movqrs\", Stack, Reg, Regfile, Stack)\n",
    "\n",
    "State = kd.Struct(\"x86State\", (\"regs\", Regfile), (\"stack\", Stack))\n"
   ]
  },
  {
   "cell_type": "markdown",
   "id": "0cad2358",
   "metadata": {},
   "source": [
    "target interpreter\n",
    "\n"
   ]
  },
  {
   "cell_type": "code",
   "execution_count": null,
   "id": "b1207a08",
   "metadata": {},
   "outputs": [],
   "source": [
    "%%file /tmp/test.S\n",
    "\n",
    ".globl mytest\n",
    "mytest:\n",
    "    mov $42, %rax\n",
    "    ret"
   ]
  },
  {
   "cell_type": "code",
   "execution_count": null,
   "id": "ddf19d09",
   "metadata": {},
   "outputs": [],
   "source": [
    "!gcc -c -fPIC -o /tmp/test.o /tmp/test.S && ld -shared -o /tmp/test2.so /tmp/test.o && objdump -d /tmp/test.so"
   ]
  },
  {
   "cell_type": "code",
   "execution_count": null,
   "id": "8f5f388d",
   "metadata": {},
   "outputs": [],
   "source": [
    "import cffi\n",
    "\n",
    "ffi = cffi.FFI()\n",
    "ffi.cdef(\"\"\"uint64_t mytest();\"\"\")\n",
    "lib = ffi.dlopen(\"/tmp/test2.so\")\n",
    "dir(lib)\n",
    "print(lib.mytest())\n",
    "del lib\n",
    "\n",
    "def "
   ]
  }
 ],
 "metadata": {
  "kernelspec": {
   "display_name": ".venv",
   "language": "python",
   "name": "python3"
  },
  "language_info": {
   "codemirror_mode": {
    "name": "ipython",
    "version": 3
   },
   "file_extension": ".py",
   "mimetype": "text/x-python",
   "name": "python",
   "nbconvert_exporter": "python",
   "pygments_lexer": "ipython3",
   "version": "3.12.3"
  }
 },
 "nbformat": 4,
 "nbformat_minor": 5
}
