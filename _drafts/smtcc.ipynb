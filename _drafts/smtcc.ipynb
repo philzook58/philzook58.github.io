{
 "cells": [
  {
   "cell_type": "code",
   "execution_count": null,
   "id": "42f1bb3b",
   "metadata": {},
   "outputs": [],
   "source": []
  },
  {
   "cell_type": "markdown",
   "id": "a8427af7",
   "metadata": {},
   "source": [
    "Bril\n",
    "llvm\n",
    "xdsl\n",
    "\n",
    "nanopass\n",
    "\n",
    "vectorization\n",
    "\n",
    "mini python \n",
    "\n",
    "https://github.com/IUCompilerCourse/Essentials-of-Compilation\n",
    "https://github.com/IUCompilerCourse/python-student-support-code\n",
    "\n",
    "https://github.com/IUCompilerCourse/python-student-support-code/blob/main/interp_x86/parser_x86.py\n",
    "\n",
    "\n",
    "https://github.com/cslarsen/minijit\n",
    "https://github.com/zserge/tinylangs/blob/main/asm.py\n",
    "https://github.com/benhoyt/pyast64  https://benhoyt.com/writings/pyast64/\n",
    "https://github.com/Maratyszcza/PeachPy\n",
    "https://github.com/ssloy/tinycompiler\n",
    "\n",
    "https://news.ycombinator.com/item?id=14644576\n",
    "\n",
    "https://gitlab.com/tsoding/porth https://www.youtube.com/watch?v=QlKSCn-Al6Q&ab_channel=TsodingDaily\n",
    "\n",
    "\n",
    "Some mix of meta and internalized\n",
    "\n",
    "https://github.com/slothy-optimizer/slothy/ https://eprint.iacr.org/2022/1303"
   ]
  },
  {
   "cell_type": "code",
   "execution_count": 17,
   "id": "d704e9f5",
   "metadata": {},
   "outputs": [],
   "source": [
    "from kdrag.all import *\n",
    "BV64 = smt.BitVecSort(64)\n",
    "getarg = smt.Function(\"getarg\", smt.IntSort(), BV64)\n",
    "\n",
    "def remove_complex_operands(e : smt.ExprRef):\n",
    "    todo = [e]\n",
    "    prog = []\n",
    "    while todo:\n",
    "        e = todo.pop()\n",
    "        prog.append(e)\n",
    "        if isinstance(e, smt.BitVecNumRef):\n",
    "            continue\n",
    "        if smt.is_app(e):\n",
    "            if e.decl() != getarg:\n",
    "                assert e.num_args() <= 2\n",
    "                todo.extend(e.children())\n",
    "        else:\n",
    "            raise ValueError(\"Expected an application, got: \", e)\n",
    "    return list(reversed(prog))\n",
    "prog = getarg(0) + 42 - getarg(1)\n",
    "prog1 = remove_complex_operands(prog)"
   ]
  },
  {
   "cell_type": "code",
   "execution_count": null,
   "id": "6f38cfad",
   "metadata": {},
   "outputs": [],
   "source": [
    "def remove_complex_correct(prog0, prog1):\n",
    "    # There's nothing much to say here.\n",
    "    pass"
   ]
  },
  {
   "cell_type": "code",
   "execution_count": null,
   "id": "13e18fd0",
   "metadata": {},
   "outputs": [
    {
     "data": {
      "text/plain": [
       "[(movq, RDI, getarg(0)),\n",
       " (movq, getarg(0), RAX),\n",
       " (addq, 42, RAX),\n",
       " (movq, RAX, getarg(0) + 42),\n",
       " (movq, RSI, getarg(1)),\n",
       " (movq, getarg(0) + 42, RAX),\n",
       " (subq, getarg(1), RAX),\n",
       " (movq, RAX, getarg(0) + 42 - getarg(1))]"
      ]
     },
     "execution_count": 20,
     "metadata": {},
     "output_type": "execute_result"
    }
   ],
   "source": [
    "movq = smt.Function(\"movq\", BV64, BV64)\n",
    "subq = smt.Function(\"subq\", BV64, BV64, BV64)\n",
    "addq = smt.Function(\"addq\", BV64, BV64, BV64)\n",
    "Reg = kd.Enum(\"Reg\", [\"RAX\", \"RBX\", \"RCX\", \"RDX\", \"RSI\", \"RDI\", \"RSP\", \"RBP\", \"R8\", \"R9\", \"R10\", \"R11\", \"R12\", \"R13\", \"R14\", \"R15\"])\n",
    "Insn = kd.Enum(\"Insn\", [\"movq\", \"addq\", \"subq\"])\n",
    "\n",
    "def instruction_select(prog : list[smt.ExprRef]):\n",
    "    res = []\n",
    "\n",
    "    for expr in prog:\n",
    "        if isinstance(expr, smt.BitVecNumRef):\n",
    "            continue\n",
    "        else:\n",
    "            match expr.decl().name():\n",
    "                case \"getarg\":\n",
    "                    i = expr.arg(0)\n",
    "                    assert isinstance(i, smt.IntNumRef)\n",
    "                    reg = [Reg.RDI, Reg.RSI, Reg.RDX, Reg.RCX, Reg.R8, Reg.R9][i.as_long()]\n",
    "                    res += [(movq, reg, expr)]\n",
    "                case \"bvadd\":\n",
    "                    arg1,arg2 = expr.children()\n",
    "                    res += [(movq, arg1, Reg.RAX),\n",
    "                            (addq, arg2, Reg.RAX),\n",
    "                            (movq, Reg.RAX, expr)]\n",
    "                case \"bvsub\":\n",
    "                    arg1,arg2 = expr.children()\n",
    "                    res += [(movq, arg1, Reg.RAX),\n",
    "                            (subq, arg2, Reg.RAX),\n",
    "                            (movq, Reg.RAX, expr)]\n",
    "                \n",
    "                case _:\n",
    "                    raise ValueError(\"Unexpected expression in instruction selection: \", expr)\n",
    "    return res\n",
    "\n",
    "\n",
    "prog2 = instruction_select(prog1)\n",
    "prog2 "
   ]
  },
  {
   "cell_type": "markdown",
   "id": "16aae5e9",
   "metadata": {},
   "source": []
  },
  {
   "cell_type": "code",
   "execution_count": null,
   "id": "f0c7d77f",
   "metadata": {},
   "outputs": [
    {
     "name": "stdout",
     "output_type": "stream",
     "text": [
      "movq RDI getarg(0)\n",
      "movq getarg(0) RAX\n",
      "addq 42 RAX\n",
      "movq RAX getarg(0) + 42\n",
      "movq RSI getarg(1)\n",
      "movq getarg(0) + 42 RAX\n",
      "subq getarg(1) RAX\n",
      "movq RAX getarg(0) + 42 - getarg(1)\n"
     ]
    }
   ],
   "source": [
    "rsp = smt.BitVec(\"rsp\", 64)\n",
    "\n",
    "def assign_home(prog):\n",
    "    res = []\n",
    "    stack = {}\n",
    "    for stmt in prog:\n",
    "        match stmt:\n",
    "            case (op, arg1, arg2):\n",
    "                print(f\"{op} {arg1} {arg2}\")\n",
    "                if arg1.sort() == BV64:\n",
    "                    if arg1 not in stack:\n",
    "                        stack[arg1] = rsp + len(stack) * 8\n",
    "                res.append((op, stack[arg1], stack[arg2]))\n",
    "            case _:\n",
    "                raise ValueError(\"Unexpected statement in assignment: \", stmt)\n",
    "    return res\n",
    "assign_home(prog2)"
   ]
  },
  {
   "cell_type": "code",
   "execution_count": null,
   "id": "a3c9c013",
   "metadata": {},
   "outputs": [],
   "source": [
    "    env = {}\n",
    "    regfile = smt.Const(\"undefined\", Regfile)\n",
    "regfile[[RDI, RDX][i.as_long()]]\n",
    "Regfile = smt.ArraySort(Reg, BV64)\n",
    "\n",
    "mov_to_rax = smt.Function(\"movq\", BV64, Regfile, Regfile)\n",
    "read_rax = smt.Function(\"read_rax\", Regfile, BV64)\n",
    "add_rax = smt.Function(\"add_rax\", BV64, Regfile, Regfile)\n",
    "\n",
    "\n"
   ]
  },
  {
   "cell_type": "code",
   "execution_count": null,
   "id": "966a334a",
   "metadata": {},
   "outputs": [],
   "source": [
    "Stmt = smt.ArraySort(State, State)\n",
    "RR = smt.Function(\"RR\", Insn, Reg,   Reg,       State, State) # Reg Reg insn\n",
    "smt.Function(\"MR\", Insn, Reg, BV64,  Reg,  State, State) # Mem Reg insn\n",
    "smt.Function(\"IR\", Insn, BV64,   Reg,      State, State) # Imm Reg insn\n",
    "smt.Function(\"RM\", Insn, Reg,  Reg, BV64,  State, State) # Reg Reg insn\n",
    "\n",
    "def from_tup(insn):\n",
    "    insn, op1, op2 = insn\n",
    "    s1,s2 = op1.sort(), op2.sort()\n",
    "    if s1 == Reg and s2 == Reg:\n",
    "        return RR(insn, op1, op2)\n",
    "    elif s1 == Reg and s2 == BV64:\n",
    "        return MR(insn, op1, op2)\n",
    "    elif s1 == BV64 and s2 == Reg:\n",
    "        return RM(insn, op1, op2)\n",
    "\n"
   ]
  },
  {
   "cell_type": "code",
   "execution_count": null,
   "id": "5f86201c",
   "metadata": {},
   "outputs": [
    {
     "ename": "TypeError",
     "evalue": "Enum() takes 2 positional arguments but 9 were given",
     "output_type": "error",
     "traceback": [
      "\u001b[31m---------------------------------------------------------------------------\u001b[39m",
      "\u001b[31mTypeError\u001b[39m                                 Traceback (most recent call last)",
      "\u001b[36mCell\u001b[39m\u001b[36m \u001b[39m\u001b[32mIn[9]\u001b[39m\u001b[32m, line 2\u001b[39m\n\u001b[32m      1\u001b[39m Stack = smt.ArraySort(smt.BitVecSort(\u001b[32m8\u001b[39m), BV64)\n\u001b[32m----> \u001b[39m\u001b[32m2\u001b[39m \u001b[43mkd\u001b[49m\u001b[43m.\u001b[49m\u001b[43mEnum\u001b[49m\u001b[43m(\u001b[49m\u001b[33;43m\"\u001b[39;49m\u001b[33;43mReg\u001b[39;49m\u001b[33;43m\"\u001b[39;49m\u001b[43m,\u001b[49m\u001b[43m \u001b[49m\u001b[33;43m\"\u001b[39;49m\u001b[33;43mRAX\u001b[39;49m\u001b[33;43m\"\u001b[39;49m\u001b[43m,\u001b[49m\u001b[43m \u001b[49m\u001b[33;43m\"\u001b[39;49m\u001b[33;43mRBX\u001b[39;49m\u001b[33;43m\"\u001b[39;49m\u001b[43m,\u001b[49m\u001b[43m \u001b[49m\u001b[33;43m\"\u001b[39;49m\u001b[33;43mRCX\u001b[39;49m\u001b[33;43m\"\u001b[39;49m\u001b[43m,\u001b[49m\u001b[43m \u001b[49m\u001b[33;43m\"\u001b[39;49m\u001b[33;43mRDX\u001b[39;49m\u001b[33;43m\"\u001b[39;49m\u001b[43m,\u001b[49m\u001b[43m \u001b[49m\u001b[33;43m\"\u001b[39;49m\u001b[33;43mRSI\u001b[39;49m\u001b[33;43m\"\u001b[39;49m\u001b[43m,\u001b[49m\u001b[43m \u001b[49m\u001b[33;43m\"\u001b[39;49m\u001b[33;43mRDI\u001b[39;49m\u001b[33;43m\"\u001b[39;49m\u001b[43m,\u001b[49m\u001b[43m \u001b[49m\u001b[33;43m\"\u001b[39;49m\u001b[33;43mRSP\u001b[39;49m\u001b[33;43m\"\u001b[39;49m\u001b[43m,\u001b[49m\u001b[43m \u001b[49m\u001b[33;43m\"\u001b[39;49m\u001b[33;43mRBP\u001b[39;49m\u001b[33;43m\"\u001b[39;49m\u001b[43m)\u001b[49m\n",
      "\u001b[31mTypeError\u001b[39m: Enum() takes 2 positional arguments but 9 were given"
     ]
    }
   ],
   "source": [
    "Stack = smt.ArraySort(smt.BitVecSort(8), BV64)\n",
    "Reg = kd.Enum(\"Reg\", [\"RAX\", \"RBX\", \"RCX\", \"RDX\", \"RSI\", \"RDI\", \"RSP\", \"RBP\"])\n",
    "Regfile = smt.ArraySort(Reg, BV64)\n",
    "movqrr = smt.Function(\"movqrr\", Reg, Reg,  Regfile, Regfile)\n",
    "movqlr = smt.Function(\"movqlr\", BV64, Reg, Regfile, Regfile)\n",
    "movqrl = smt.Function(\"movqrl\", BV64, Reg, Regfile, Regfile)\n",
    "movqsr = smt.Function(\"movqsr\", Reg, Stack, Regfile, Regfile)\n",
    "movqrs = smt.Function(\"movqrs\", Stack, Reg, Regfile, Stack)\n",
    "\n",
    "State = kd.Struct(\"x86State\", (\"regs\", Regfile), (\"stack\", Stack))\n"
   ]
  },
  {
   "cell_type": "markdown",
   "id": "0cad2358",
   "metadata": {},
   "source": [
    "target interpreter\n",
    "\n"
   ]
  },
  {
   "cell_type": "code",
   "execution_count": null,
   "id": "b1207a08",
   "metadata": {},
   "outputs": [],
   "source": [
    "%%file /tmp/test.S\n",
    "\n",
    ".globl mytest\n",
    "mytest:\n",
    "    mov $42, %rax\n",
    "    ret"
   ]
  },
  {
   "cell_type": "code",
   "execution_count": null,
   "id": "ddf19d09",
   "metadata": {},
   "outputs": [],
   "source": [
    "!gcc -c -fPIC -o /tmp/test.o /tmp/test.S && ld -shared -o /tmp/test2.so /tmp/test.o && objdump -d /tmp/test.so"
   ]
  },
  {
   "cell_type": "code",
   "execution_count": null,
   "id": "8f5f388d",
   "metadata": {},
   "outputs": [],
   "source": [
    "import cffi\n",
    "\n",
    "ffi = cffi.FFI()\n",
    "ffi.cdef(\"\"\"uint64_t mytest();\"\"\")\n",
    "lib = ffi.dlopen(\"/tmp/test2.so\")\n",
    "dir(lib)\n",
    "print(lib.mytest())\n",
    "del lib\n",
    "\n",
    "def "
   ]
  },
  {
   "cell_type": "markdown",
   "id": "86ac78cc",
   "metadata": {},
   "source": [
    "# Interactive Assembly\n",
    "\n",
    "Typed assembly language. I've been saying that type systems can be seen as tactics.\n",
    "https://dl.acm.org/doi/10.1007/978-3-031-74776-2_17 BinSub: The Simple Essence of Polymorphic Type Inference for Machine Code\n",
    "\n",
    "webassembly via ghidra? https://github.com/nneonneo/ghidra-wasm-plugin/\n",
    "\n",
    "\n",
    "dump into dwarf?\n",
    "https://github.com/pq-code-package/mlkem-native/tree/main/proofs/hol_light/arm \n",
    "https://github.com/awslabs/s2n-bignum\n",
    "https://github.com/awslabs/s2n-bignum/blob/main/x86/tutorial/simple.ml\n",
    "\n",
    "\n",
    "global invariants.\n",
    "Interrupt_enabled => \n",
    "\n",
    "\n",
    "Python smt assertions. just use eval. If smtlib turns you off\n",
    "Dwarf expr assertions\n",
    "assembly subprogram assertiosn - the most work. Natural in some sense.\n",
    "\n",
    "\n"
   ]
  },
  {
   "cell_type": "code",
   "execution_count": 1,
   "id": "357f714b",
   "metadata": {},
   "outputs": [
    {
     "name": "stdout",
     "output_type": "stream",
     "text": [
      "Writing /tmp/myfunc.s\n"
     ]
    }
   ],
   "source": [
    "%%file /tmp/myfunc.s\n",
    "\n",
    ".macro kd_assert label smt_expr\n",
    "\\label:\n",
    ".endm\n",
    "\n",
    ".macro kd_pre label smt_expr\n",
    ".endm\n",
    "\n",
    "\n",
    ".macro kd_post label smt_expr\n",
    ".endm\n",
    "\n",
    "# kd_entry?\n",
    "\n",
    "\n",
    "# myfunc.s\n",
    ".globl myfunc\n",
    "\n",
    ".text\n",
    "myfunc:\n",
    "    kd_pre myfunc \"(assert true)\"\n",
    "    kd_post myfunc \"(assert (= RAX (_ bv42 64)))\"\n",
    "    movq $42, %rax\n",
    "    kd_assert func_end \"(assert (= RAX (_ bv42 64)))\"\n",
    "    ret\n"
   ]
  },
  {
   "cell_type": "code",
   "execution_count": 2,
   "id": "5ba62d96",
   "metadata": {},
   "outputs": [
    {
     "name": "stdout",
     "output_type": "stream",
     "text": [
      "\n",
      "/tmp/myfunc.o:     file format elf64-x86-64\n",
      "\n",
      "\n",
      "Disassembly of section .text:\n",
      "\n",
      "0000000000000000 <myfunc>:\n",
      "   0:\t48 c7 c0 2a 00 00 00 \tmov    $0x2a,%rax\n",
      "\n",
      "0000000000000007 <func_end>:\n",
      "   7:\tc3                   \tret\n"
     ]
    }
   ],
   "source": [
    "! as -o /tmp/myfunc.o /tmp/myfunc.s && objdump -d /tmp/myfunc.o"
   ]
  },
  {
   "cell_type": "code",
   "execution_count": 3,
   "id": "cb4213d1",
   "metadata": {},
   "outputs": [
    {
     "name": "stdout",
     "output_type": "stream",
     "text": [
      "[(24, 'func_end', '(assert (= RAX (_ bv42 64)))')]\n"
     ]
    }
   ],
   "source": [
    "import re\n",
    "from kdrag.all import *\n",
    "def find_kdasserts(lines):\n",
    "    pattern = re.compile(r'^\\s*kd_assert\\s+(\\w+)\\s+\"([^\"]+)\"\\s*$')\n",
    "    results = []\n",
    "    for lineno, line in enumerate(lines, 1):\n",
    "        match = pattern.match(line)\n",
    "        if match:\n",
    "            label, smt_expr = match.groups()\n",
    "            #RAX = smt.BitVec(\"RAX\", 64)\n",
    "            #smt_expr = smt.parse_smt2_string(smt_expr, decls={\"RAX\": RAX})\n",
    "            results.append((lineno, label, smt_expr))\n",
    "    return results\n",
    "\n",
    "# Example usage:\n",
    "\n",
    "with open(\"/tmp/myfunc.s\") as f:\n",
    "    lines = f.readlines()\n",
    "    asserts = find_kdasserts(lines)\n",
    "    print(asserts)\n"
   ]
  },
  {
   "cell_type": "code",
   "execution_count": 4,
   "id": "0e247a6e",
   "metadata": {},
   "outputs": [],
   "source": [
    "def verify(asm_file : str):\n",
    "    with open(asm_file) as f:\n",
    "        lines = f.readlines()\n",
    "        asserts = find_kdasserts(lines)\n",
    "    subprocess.run([\"as\", \"-o\", \"/tmp/verify.o\", asm_file], check=True)\n",
    "    ctx = pcode.BinaryContext(\"/tmp/verify.o\")\n",
    "    \n",
    "    \n",
    "    \n"
   ]
  },
  {
   "cell_type": "code",
   "execution_count": 5,
   "id": "2e3b1e6c",
   "metadata": {},
   "outputs": [
    {
     "name": "stdout",
     "output_type": "stream",
     "text": [
      "func_end 4194311\n",
      "Executing 0x400000/7: MOV RAX,0x2a at (4194304, 0)\n",
      "Executing 0x400000/7: MOV RAX,0x2a at (4194304, 1)\n",
      "42\n",
      "[RAX == 42]\n"
     ]
    },
    {
     "data": {
      "text/plain": [
       "{4194311: RAX == 42}"
      ]
     },
     "execution_count": 5,
     "metadata": {},
     "output_type": "execute_result"
    }
   ],
   "source": [
    "import kdrag.contrib.pcode as pcode\n",
    "from kdrag.all import *\n",
    "ctx = pcode.BinaryContext(\"/tmp/myfunc.o\")\n",
    "#ctx.loader.symbols\n",
    "for (lineno, label, smt_expr) in asserts:\n",
    "    sym = ctx.loader.find_symbol(label)\n",
    "    print(sym.name, sym.rebased_addr)\n",
    "\n",
    "myfunc_sym = ctx.loader.find_symbol(\"myfunc\")\n",
    "mem = pcode.MemState.Const(\"mem\")\n",
    "symstates = ctx.sym_execute(mem, myfunc_sym.rebased_addr, max_insns=1, verbose=True)\n",
    "smt.simplify(symstates[0].memstate.getvalue(ctx.ctx.registers[\"RAX\"]))\n",
    "\n",
    "mem = symstates[0].memstate\n",
    "#{smt.BitVec(name, vnode.size*8) : smt.simplify(mem.getvalue(vnode)) for name,vnode in ctx.ctx.registers.items()}\n",
    "\n",
    "def get_reg(ctx : pcode.BinaryContext, mem : pcode.MemState, name : str):\n",
    "    vnode = ctx.ctx.registers[name]\n",
    "    return smt.simplify(mem.getvalue(vnode))\n",
    "\n",
    "print(get_reg(ctx, mem, \"RAX\"))\n",
    "\n",
    "decls = [smt.BitVec(name, vnode.size * 8) for name, vnode in ctx.ctx.registers.items()]\n",
    "#decls.append(smt.Array(\"mem\", smt.BitVecSort(64), smt.BitVecSort(8)))\n",
    "# select32\n",
    "# select64\n",
    "# old_mem? ghost state?  kd_ghost \"(define)\"    kd_assign  ghostname \"smt expr\"\n",
    "# yikes.\n",
    "\n",
    "decls # decls is for parsing \n",
    "for (lineno, label, smt_expr) in asserts:\n",
    "    print(smt.parse_smt2_string(smt_expr, decls={decl.decl().name(): decl for decl in decls}))\n",
    "\n",
    "def addr_assert_expr(ctx : pcode.BinaryContext, asserts) -> dict[int, smt.ExprRef]:\n",
    "    decls = [smt.BitVec(name, vnode.size * 8) for name, vnode in ctx.ctx.registers.items()]\n",
    "    decls.append(smt.Array(\"mem\", smt.BitVecSort(64), smt.BitVecSort(8)))\n",
    "    decls = {decl.decl().name(): decl for decl in decls}\n",
    "    return {\n",
    "            ctx.loader.find_symbol(label).rebased_addr:\n",
    "            smt.parse_smt2_string(smt_expr, decls=decls)[0] for lineno, label, smt_expr in asserts\n",
    "            }\n",
    "\n",
    "def eval_smt(smt_expr : smt.ExprRef, ctx : pcode.BinaryContext, mem : pcode.MemState):\n",
    "    substs = [(decl, get_reg(ctx, mem, decl.decl().name())) for decl in decls]\n",
    "    for v,v1 in substs:\n",
    "        assert v.sort() == v1.sort(), f\"Sort mismatch: {v.sort()} != {v1.sort()}\"\n",
    "        assert isinstance(v, smt.ExprRef), f\"Expected smt.ExprRef, got {type(v)}: {v}\"\n",
    "        assert isinstance(v1, smt.ExprRef), f\"Expected smt.ExprRef, got {type(v1)}: {v1}\"\n",
    "    # TODO: add in mem also\n",
    "    # TODO: also probably should pull instead of push all subtitutions.\n",
    "    #print(substs)\n",
    "    print(smt_expr.sort())\n",
    "    return smt.substitute(smt_expr, *substs)\n",
    "\n",
    "addr_assert_expr(ctx, asserts)"
   ]
  },
  {
   "cell_type": "code",
   "execution_count": 6,
   "id": "23cb1f41",
   "metadata": {},
   "outputs": [
    {
     "name": "stdout",
     "output_type": "stream",
     "text": [
      "{4194311: RAX == 42}\n",
      "(4194304, 0) [4194311]\n",
      "Executing 0x400000/7: MOV RAX,0x2a at (4194304, 0)\n",
      "Executing 0x400000/7: MOV RAX,0x2a at (4194304, 1)\n",
      "(4194311, 0) [4194311]\n",
      "assert reached 4194311 RAX == 42\n",
      "Bool\n",
      "42 == 42\n",
      "Bool\n",
      "|- Implies(And, 42 == 42)\n",
      "exit reached\n"
     ]
    }
   ],
   "source": [
    "def run_all_paths(ctx, entries=[], exits=[], asserts={}):\n",
    "    print(asserts)\n",
    "    todo = []\n",
    "    for entry in entries:\n",
    "        todo.append(pcode.SimState(mem, (entry, 0), []))\n",
    "    while todo:\n",
    "        state = todo.pop()\n",
    "        print(state.pc, exits)\n",
    "        addr, pc = state.pc\n",
    "        assert pc == 0\n",
    "        if addr in asserts:\n",
    "            print(\"assert reached\", addr, asserts[addr])\n",
    "            print(eval_smt(asserts[addr], ctx, state.memstate))\n",
    "            print(kd.prove(smt.Implies(smt.And(*state.path_cond), eval_smt(asserts[addr], ctx, state.memstate))))\n",
    "            # maybe prove form (state == current state => assert_expr) \n",
    "        if addr in exits:\n",
    "            print(\"exit reached\")\n",
    "            continue\n",
    "        else:\n",
    "            todo.extend(ctx.sym_execute(mem, addr, max_insns=1, verbose=True))\n",
    "\n",
    "run_all_paths(ctx, entries=[myfunc_sym.rebased_addr], exits=[myfunc_sym.rebased_addr + 7], asserts=addr_assert_expr(ctx, asserts))"
   ]
  },
  {
   "cell_type": "markdown",
   "id": "c6c280af",
   "metadata": {},
   "source": [
    "Use angr to get cfg\n",
    "Symexec blocks into semantics.\n",
    "\n",
    "How does angr do translation between registers and stuff\n",
    "\n",
    "Difference between an assertion and a cut / invariant. (?)\n",
    "\n",
    "\n",
    "Ideas: embed python script or bash commands to grep manuals for assumptions.\n",
    "Embed Verilog assertions? Read from svd files?\n",
    "Remember that idea about keeping docs in sync. A third yaml file?\n",
    "\n",
    "\n",
    "Reasoning about interrupts. Interrupt prempting interrupts. Not noticing you need to lock critical sections. How to detect?\n",
    "Yikes.\n",
    "\n",
    "\n",
    "Am I insane? What is really better about this than other systems. Is there some off the shlef binary verifier i could use?\n",
    "\n",
    "\n",
    "\n"
   ]
  },
  {
   "cell_type": "code",
   "execution_count": 18,
   "id": "4b80ee2d",
   "metadata": {},
   "outputs": [
    {
     "data": {
      "image/png": "[encoded data removed]",
      "text/plain": [
       "<Figure size 640x480 with 1 Axes>"
      ]
     },
     "metadata": {},
     "output_type": "display_data"
    }
   ],
   "source": [
    "import networkx as nx\n",
    "nx.draw(cfg.model.graph)\n",
    "#cfg.dbg_draw()\n",
    "f.dbg_draw(\"/tmp/fdbg.png\")"
   ]
  },
  {
   "cell_type": "code",
   "execution_count": 19,
   "id": "764f2782",
   "metadata": {},
   "outputs": [],
   "source": [
    "! open /tmp/fdbg.png"
   ]
  },
  {
   "cell_type": "code",
   "execution_count": null,
   "id": "f8a2693b",
   "metadata": {},
   "outputs": [
    {
     "name": "stdout",
     "output_type": "stream",
     "text": [
      "{4194311: [RAX == 42]}\n",
      "(4194304, 0) [4194311]\n",
      "Executing 0x400000/7: MOV RAX,0x2a at (4194304, 0)\n",
      "Executing 0x400000/7: MOV RAX,0x2a at (4194304, 1)\n",
      "(4194311, 0) [4194311]\n",
      "assert reached 4194311 [RAX == 42]\n"
     ]
    },
    {
     "ename": "Z3Exception",
     "evalue": "Z3 expression expected",
     "output_type": "error",
     "traceback": [
      "\u001b[31m---------------------------------------------------------------------------\u001b[39m",
      "\u001b[31mZ3Exception\u001b[39m                               Traceback (most recent call last)",
      "\u001b[32m/tmp/ipykernel_2594594/1005078803.py\u001b[39m in \u001b[36m?\u001b[39m\u001b[34m()\u001b[39m\n\u001b[32m     17\u001b[39m             \u001b[38;5;28;01mcontinue\u001b[39;00m\n\u001b[32m     18\u001b[39m         \u001b[38;5;28;01melse\u001b[39;00m:\n\u001b[32m     19\u001b[39m             todo.extend(ctx.sym_execute(mem, addr, max_insns=\u001b[32m1\u001b[39m, verbose=\u001b[38;5;28;01mTrue\u001b[39;00m))\n\u001b[32m     20\u001b[39m \n\u001b[32m---> \u001b[39m\u001b[32m21\u001b[39m run_all_paths(ctx, entries=[myfunc_sym.rebased_addr], exits=[myfunc_sym.rebased_addr + \u001b[32m7\u001b[39m], asserts=addr_assert_expr(ctx, asserts))\n",
      "\u001b[32m/tmp/ipykernel_2594594/1005078803.py\u001b[39m in \u001b[36m?\u001b[39m\u001b[34m(ctx, entries, exits, asserts)\u001b[39m\n\u001b[32m      9\u001b[39m         addr, pc = state.pc\n\u001b[32m     10\u001b[39m         \u001b[38;5;28;01massert\u001b[39;00m pc == \u001b[32m0\u001b[39m\n\u001b[32m     11\u001b[39m         \u001b[38;5;28;01mif\u001b[39;00m addr \u001b[38;5;28;01min\u001b[39;00m asserts:\n\u001b[32m     12\u001b[39m             print(\u001b[33m\"assert reached\"\u001b[39m, addr, asserts[addr])\n\u001b[32m---> \u001b[39m\u001b[32m13\u001b[39m             print(eval_smt(asserts[addr], ctx, state.memstate))\n\u001b[32m     14\u001b[39m             \u001b[38;5;66;03m#kd.prove(smt.Implies(smt.And(*state.path_cond), eval_smt(asserts[addr], ctx, state.memstate)))\u001b[39;00m\n\u001b[32m     15\u001b[39m         \u001b[38;5;28;01mif\u001b[39;00m addr \u001b[38;5;28;01min\u001b[39;00m exits:\n\u001b[32m     16\u001b[39m             print(\u001b[33m\"exit reached\"\u001b[39m)\n",
      "\u001b[32m/tmp/ipykernel_2594594/2704885341.py\u001b[39m in \u001b[36m?\u001b[39m\u001b[34m(smt_expr, ctx, mem)\u001b[39m\n\u001b[32m     44\u001b[39m     substs = [(decl, get_reg(ctx, mem, decl.decl().name())) \u001b[38;5;28;01mfor\u001b[39;00m decl \u001b[38;5;28;01min\u001b[39;00m decls]\n\u001b[32m     45\u001b[39m     \u001b[38;5;66;03m# TODO: add in mem also\u001b[39;00m\n\u001b[32m     46\u001b[39m     \u001b[38;5;66;03m# TODO: also probably should pull instead of push all subtitutions.\u001b[39;00m\n\u001b[32m     47\u001b[39m     \u001b[38;5;66;03m#print(substs)\u001b[39;00m\n\u001b[32m---> \u001b[39m\u001b[32m48\u001b[39m     \u001b[38;5;28;01mreturn\u001b[39;00m smt.substitute(smt_expr, *substs)\n",
      "\u001b[32m~/philzook58.github.io/.venv/lib/python3.12/site-packages/z3/z3.py\u001b[39m in \u001b[36m?\u001b[39m\u001b[34m(t, *m)\u001b[39m\n\u001b[32m   9054\u001b[39m         m1 = _get_args(m)\n\u001b[32m   9055\u001b[39m         \u001b[38;5;28;01mif\u001b[39;00m isinstance(m1, list) \u001b[38;5;28;01mand\u001b[39;00m all(isinstance(p, tuple) \u001b[38;5;28;01mfor\u001b[39;00m p \u001b[38;5;28;01min\u001b[39;00m m1):\n\u001b[32m   9056\u001b[39m             m = m1\n\u001b[32m   9057\u001b[39m     \u001b[38;5;28;01mif\u001b[39;00m z3_debug():\n\u001b[32m-> \u001b[39m\u001b[32m9058\u001b[39m         _z3_assert(is_expr(t), \u001b[33m\"Z3 expression expected\"\u001b[39m)\n\u001b[32m   9059\u001b[39m         _z3_assert(\n\u001b[32m   9060\u001b[39m             all([isinstance(p, tuple) \u001b[38;5;28;01mand\u001b[39;00m is_expr(p[\u001b[32m0\u001b[39m]) \u001b[38;5;28;01mand\u001b[39;00m is_expr(p[\u001b[32m1\u001b[39m]) \u001b[38;5;28;01mfor\u001b[39;00m p \u001b[38;5;28;01min\u001b[39;00m m]),\n\u001b[32m   9061\u001b[39m             \u001b[33m\"Z3 invalid substitution, expression pairs expected.\"\u001b[39m)\n",
      "\u001b[32m~/philzook58.github.io/.venv/lib/python3.12/site-packages/z3/z3.py\u001b[39m in \u001b[36m?\u001b[39m\u001b[34m(cond, msg)\u001b[39m\n\u001b[32m    113\u001b[39m \u001b[38;5;28;01mdef\u001b[39;00m _z3_assert(cond, msg):\n\u001b[32m    114\u001b[39m     \u001b[38;5;28;01mif\u001b[39;00m \u001b[38;5;28;01mnot\u001b[39;00m cond:\n\u001b[32m--> \u001b[39m\u001b[32m115\u001b[39m         \u001b[38;5;28;01mraise\u001b[39;00m Z3Exception(msg)\n",
      "\u001b[31mZ3Exception\u001b[39m: Z3 expression expected"
     ]
    }
   ],
   "source": [
    "\n"
   ]
  },
  {
   "cell_type": "code",
   "execution_count": 14,
   "id": "4f1aafc3",
   "metadata": {},
   "outputs": [
    {
     "data": {
      "text/plain": [
       "{<Symbol \"func_end\" in myfunc.o at 0x400007>: '(assert (= RAX (_ bv42 64)))'}"
      ]
     },
     "execution_count": 14,
     "metadata": {},
     "output_type": "execute_result"
    }
   ],
   "source": [
    "assert_dict = {\n",
    "    ctx.loader.find_symbol(label) : smt_expr for lineno, label, smt_expr in asserts }\n",
    "assert_dict"
   ]
  },
  {
   "cell_type": "markdown",
   "id": "9d5a1105",
   "metadata": {},
   "source": [
    "No wait. Why bother going through angr?\n",
    "\n",
    "VCs append or just discharge it.\n",
    "\n",
    "On the other hand, if I just used angr's symbolic executor I could still discharge the user experience of assembly assertions.\n",
    "Maybe smtlib wouldn't be the lowest hanging fruit anymore.\n",
    "Just something evaled\n",
    "\n",
    "Or even AFL or some other thing\n"
   ]
  },
  {
   "cell_type": "code",
   "execution_count": null,
   "id": "2a8353d5",
   "metadata": {},
   "outputs": [],
   "source": [
    "\n",
    "asserts = {}\n",
    "assumes = {}\n",
    "invariants = {} # global invariants and local tagged invariants.\n",
    "# maybe invariants and cuts should be distinguished?\n",
    "exits = {}\n",
    "mem = pcode.MemState.Const(\"mem\")\n",
    "entries = {} # path_cond0 = preconds\n",
    "todo = [pcode.SimState(mem, (myfunc_sym.rebased_addr, 0), [])]  # (addr, pc)\n",
    "VCs = []\n",
    "seen = set()\n",
    "while todo:\n",
    "    mem, pc, path_cond = todo.pop()\n",
    "    assert pc[1] == 0\n",
    "    addr = pc[0]\n",
    "    if addr in asserts:\n",
    "        VCs.append((path_cond, eval_smt(asserts[addr], ctx, mem)))\n",
    "        # possibly add to path_cond?\n",
    "        # kd.prove(smt.Implies(smt.And(path_cond), eval_smt(asserts[addr], ctx, mem)))\n",
    "    if addr in assumes:\n",
    "        path_cond = path_cond + [eval_smt(assumes[addr], ctx, mem)]\n",
    "    elif addr in invariants:\n",
    "        # If invariant, make sure we the invariant is satisfied when we reach it\n",
    "        VCs.append((path_cond, eval_smt(invariants[addr], ctx, mem)))\n",
    "        if addr in seen: # already started this invariant starting point\n",
    "            continue\n",
    "        else:\n",
    "            # start new search with only invariant as assumption about state\n",
    "            mem = pcode.MemState.Const(\"mem\")\n",
    "            todo.append(pcode.SimState(mem, (addr, 0), [eval_smt(invariants[addr], ctx, mem)]))\n",
    "            seen.add(addr)\n",
    "            continue\n",
    "    elif addr in exits:\n",
    "        # add function postcondition to VCs\n",
    "        continue\n",
    "    else:\n",
    "        # execute the actual instruction\n",
    "        todo.extend(ctx.sym_execute(mem, addr, max_insns=1, verbose=True))\n"
   ]
  },
  {
   "cell_type": "code",
   "execution_count": null,
   "id": "ce68b0c7",
   "metadata": {},
   "outputs": [
    {
     "name": "stdout",
     "output_type": "stream",
     "text": [
      "This is the graph: DiGraph with 1 nodes and 0 edges\n",
      "        myfunc:\n",
      "400000  mov     rax, 0x2a\n",
      "        func_end:\n",
      "400007  ret     \n",
      "Executing 0x400000/7: MOV RAX,0x2a at (4194304, 0)\n",
      "Executing 0x400000/7: MOV RAX,0x2a at (4194304, 1)\n",
      "[SimState(memstate=MemState(mem=MemState(ram(mem),\n",
      "         Store(Store(Store(Store(Store(Store(Store(Store(register(mem),\n",
      "                                        0 + 0,\n",
      "                                        Extract(7, 0, 42)),\n",
      "                                        0 + 1,\n",
      "                                        Extract(15, 8, 42)),\n",
      "                                        0 + 2,\n",
      "                                        Extract(23, 16, 42)),\n",
      "                                       0 + 3,\n",
      "                                       Extract(31, 24, 42)),\n",
      "                                 0 + 4,\n",
      "                                 Extract(39, 32, 42)),\n",
      "                           0 + 5,\n",
      "                           Extract(47, 40, 42)),\n",
      "                     0 + 6,\n",
      "                     Extract(55, 48, 42)),\n",
      "               0 + 7,\n",
      "               Extract(63, 56, 42)),\n",
      "         unique(mem))), pc=(4194311, 0), path_cond=[])]\n"
     ]
    },
    {
     "data": {
      "text/plain": [
       "(4194304, 4194311)"
      ]
     },
     "execution_count": 28,
     "metadata": {},
     "output_type": "execute_result"
    }
   ],
   "source": [
    "import angr\n",
    "proj = angr.Project(\"/tmp/myfunc.o\", auto_load_libs=False)\n",
    "cfg = proj.analyses.CFGFast()\n",
    "print(\"This is the graph:\", cfg.model.graph)\n",
    "f = cfg.kb.functions[myfunc_sym.rebased_addr]\n",
    "blk = list(f.blocks)[0] # transition _Graph, block_addrs, \n",
    "blk.instructions\n",
    "blk.addr\n",
    "\n",
    "asserts = {} # addr -> smt_expr\n",
    "blks = []\n",
    "VCs = []\n",
    "for blk in f.blocks:\n",
    "    blk.pp()\n",
    "    mem = pcode.MemState.Const(\"mem\")\n",
    "    for addr in blk.instruction_addrs:\n",
    "        if addr in breakpoints:\n",
    "            VCs.append(eval_smt(asserts[addr], ctx, mem))\n",
    "        print(f\"Breakpoint at {hex(addr)}\")\n",
    "        breakpoint = [addr]\n",
    "        break\n",
    "        res = ctx.sym_execute(mem, blk.addr, max_insns=blk.instructions-1, verbose=True)\n",
    "        assert len(res) == 1\n",
    "        mem = res[0]\n",
    "    print(res)\n",
    "    blks.append((blk, res))\n",
    "    \n",
    "\n",
    "\n",
    "blk.instruction_addrs\n",
    "\n",
    "#cfg.kb.functions[sym.rebased_addr]"
   ]
  },
  {
   "cell_type": "markdown",
   "id": "e5ab5404",
   "metadata": {},
   "source": [
    "Ok so somehow I need to assert at positions inside the code.\n",
    "angr symbolic exec has \n"
   ]
  },
  {
   "cell_type": "code",
   "execution_count": 27,
   "id": "8ad5aafb",
   "metadata": {},
   "outputs": [
    {
     "data": {
      "text/plain": [
       "['BLOCK_MAX_SIZE',\n",
       " '__class__',\n",
       " '__delattr__',\n",
       " '__dir__',\n",
       " '__doc__',\n",
       " '__eq__',\n",
       " '__format__',\n",
       " '__ge__',\n",
       " '__getattribute__',\n",
       " '__getstate__',\n",
       " '__gt__',\n",
       " '__hash__',\n",
       " '__init__',\n",
       " '__init_subclass__',\n",
       " '__le__',\n",
       " '__lt__',\n",
       " '__module__',\n",
       " '__ne__',\n",
       " '__new__',\n",
       " '__reduce__',\n",
       " '__reduce_ex__',\n",
       " '__repr__',\n",
       " '__setattr__',\n",
       " '__setstate__',\n",
       " '__sizeof__',\n",
       " '__slots__',\n",
       " '__str__',\n",
       " '__subclasshook__',\n",
       " '_bytes',\n",
       " '_capstone',\n",
       " '_collect_data_refs',\n",
       " '_const_prop',\n",
       " '_cross_insn_opt',\n",
       " '_disassembly',\n",
       " '_get_cmsg',\n",
       " '_initial_regs',\n",
       " '_instruction_addrs',\n",
       " '_instructions',\n",
       " '_load_from_ro_regions',\n",
       " '_opt_level',\n",
       " '_parse_vex_info',\n",
       " '_project',\n",
       " '_strict_block_end',\n",
       " '_using_pcode_engine',\n",
       " '_vex',\n",
       " '_vex_engine',\n",
       " '_vex_nostmt',\n",
       " 'addr',\n",
       " 'arch',\n",
       " 'bytes',\n",
       " 'capstone',\n",
       " 'codenode',\n",
       " 'disassembly',\n",
       " 'instruction_addrs',\n",
       " 'instructions',\n",
       " 'parse',\n",
       " 'parse_from_cmessage',\n",
       " 'pp',\n",
       " 'reset_initial_regs',\n",
       " 'serialize',\n",
       " 'serialize_to_cmessage',\n",
       " 'set_initial_regs',\n",
       " 'size',\n",
       " 'thumb',\n",
       " 'vex',\n",
       " 'vex_nostmt']"
      ]
     },
     "execution_count": 27,
     "metadata": {},
     "output_type": "execute_result"
    }
   ],
   "source": [
    "dir(blk)"
   ]
  },
  {
   "cell_type": "markdown",
   "id": "e7e904e7",
   "metadata": {},
   "source": [
    "def get_asserts(lines):\n",
    "    pattern = r'kdassert\\s+(\\w+)\\s+\"([^\"]+)\"'\n",
    "    matches = re.findall(pattern, text)\n",
    "    return matches:\n",
    "\n",
    "\n",
    "with open(\"myfunc.s\") as f:\n",
    "    get_asserts(f.readlines())"
   ]
  }
 ],
 "metadata": {
  "kernelspec": {
   "display_name": "philzook58.github.io",
   "language": "python",
   "name": "python3"
  },
  "language_info": {
   "codemirror_mode": {
    "name": "ipython",
    "version": 3
   },
   "file_extension": ".py",
   "mimetype": "text/x-python",
   "name": "python",
   "nbconvert_exporter": "python",
   "pygments_lexer": "ipython3",
   "version": "3.12.3"
  }
 },
 "nbformat": 4,
 "nbformat_minor": 5
}
