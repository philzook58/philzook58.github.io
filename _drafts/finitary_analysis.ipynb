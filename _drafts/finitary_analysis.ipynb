{
 "cells": [
  {
   "cell_type": "markdown",
   "metadata": {},
   "source": [
    "Decidable set\n",
    "arithmetic hierarchy\n",
    "\n",
    "\n",
    "\n",
    "Not arbitrary union\n",
    "\n",
    "\n",
    "Descrpitive set theory\n",
    "\n",
    "https://en.m.wikipedia.org/wiki/Pointclass\n",
    "https://plato.stanford.edu/entries/large-cardinals-determinacy/#BasNot\n",
    "\n"
   ]
  },
  {
   "cell_type": "markdown",
   "metadata": {},
   "source": [
    "second order arithmetic.\n"
   ]
  },
  {
   "cell_type": "code",
   "execution_count": null,
   "metadata": {},
   "outputs": [],
   "source": [
    "import z3\n",
    "#Nat = DeclareSort(\"Nat\")\n",
    "Nat = Datatype(\"Nat\")\n",
    "Nat.declare('zero')\n",
    "Nat.declare('succ', ('pred', Nat))\n",
    "Nat = Nat.create()\n",
    "\n",
    "Baire = z3.ArraySort(Nat, Nat)\n",
    "Cantor = z3.ArraySort(Nat, BoolSort())\n",
    "\n",
    "sigma = Function('sigma', IntSort(), Cantor, BoolSort())\n",
    "pi = Function('pi', IntSort(), Cantor, Nat)\n",
    "# If definable by a \n",
    "def comprehend(p):\n",
    "    # count quantifier nesting\n",
    "    axiom(sigma(n, x))\n",
    "\n"
   ]
  },
  {
   "cell_type": "code",
   "execution_count": null,
   "metadata": {},
   "outputs": [],
   "source": []
  },
  {
   "cell_type": "code",
   "execution_count": null,
   "metadata": {},
   "outputs": [],
   "source": [
    "def pigeonho"
   ]
  },
  {
   "cell_type": "markdown",
   "metadata": {},
   "source": [
    "from any set of numbers, we can find two 1/N apart\n",
    "from any sequence of numbers, we can find a \"converging\" subsequence https://en.wikipedia.org/wiki/Bolzano%E2%80%93Weierstrass_theorem\n",
    "https://en.wikipedia.org/wiki/Heine%E2%80%93Borel_theorem finite subcover. finite, we only need N\n",
    "\n",
    "\n",
    "Maybe use interval arith?\n",
    "\n",
    "\n",
    "\n"
   ]
  },
  {
   "cell_type": "code",
   "execution_count": null,
   "metadata": {},
   "outputs": [],
   "source": [
    "def "
   ]
  },
  {
   "cell_type": "code",
   "execution_count": null,
   "metadata": {},
   "outputs": [],
   "source": [
    "from any set of"
   ]
  },
  {
   "cell_type": "markdown",
   "metadata": {},
   "source": [
    "# Polish spaces\n",
    "\n",
    "https://mathoverflow.net/questions/159030/non-polish-lebesgue-probability-space\n",
    "https://en.m.wikipedia.org/wiki/Perfect_set_property\n",
    "\n",
    "https://en.m.wikipedia.org/wiki/Perfect_set \n",
    "https://en.m.wikipedia.org/wiki/Derived_set_(mathematics) The set of all limits points\n",
    "applying the derrive set op a ordinal number of times must eveutally be self equal\n",
    "S cup S' = cls(S)\n",
    "deriv(S) = \n",
    "\n",
    "https://en.m.wikipedia.org/wiki/Baire_category_theorem\n",
    "\n",
    "limit point - https://en.m.wikipedia.org/wiki/Accumulation_point all S in neihb(x), exists p, p != x /\\ p in S\n",
    "https://en.m.wikipedia.org/wiki/Condensation_point unocujtable many\n",
    "https://en.m.wikipedia.org/wiki/Isolated_point isolated point\n",
    "\n",
    "Image of a sequnece. ex n, y = f(n)\n",
    "\n",
    "\n",
    "Borel Set\n",
    "\n",
    "Cantor bendixson theorem\n",
    "Descriptive set theory https://en.wikipedia.org/wiki/Descriptive_set_theory\n",
    "https://homepages.math.uic.edu/~marker/math512/dst.pdf David marker notes\n",
    "Kechris’ Classical Descriptive Set Theory \n",
    "metrizable = exists a metric that would generate the topology... ?\n",
    "separable = has countable dense subset\n",
    "\n",
    "Hilbert cube I^N = a sequence of intervals\n",
    "\n",
    "Baire space = N^N. sequences of nats\n",
    "Cantor space = 2^N. sequences of bools\n",
    "\n",
    "Cantor bendixson derivative\n"
   ]
  },
  {
   "cell_type": "markdown",
   "metadata": {},
   "source": [
    "https://en.wikipedia.org/wiki/Sperner%27s_lemma a finite fixed point theorem analgous to brouwer's. 1-d case is intermediate value theorem? 2-d is WKL\n",
    "https://en.wikipedia.org/wiki/Knaster%E2%80%93Kuratowski%E2%80%93Mazurkiewicz_lemma\n",
    "\n",
    "There is a mix of ideas in settheory and validated.\n",
    "\n",
    "There are reasonable finitary versions of \n",
    "axiom of choice\n",
    "dependent choice\n",
    "ACw\n",
    "\n",
    "Konig's lemma\n",
    "Bolzano Weierstrauss\n",
    "\n",
    "Choice principles\n",
    "\n",
    "\n",
    "What if we treated finite sequences, where computing further pieces are costly. Then the number of posieces you need to expand contributes to the algorithmioc complexity of different questions.\n",
    "\n",
    "\n"
   ]
  }
 ],
 "metadata": {
  "language_info": {
   "name": "python"
  }
 },
 "nbformat": 4,
 "nbformat_minor": 2
}
