{
 "cells": [
  {
   "cell_type": "markdown",
   "metadata": {},
   "source": [
    "sympy tactics\n",
    "simp\n",
    "rw\n",
    "natural number game\n",
    "\n",
    "progress and preservation\n",
    "\n",
    "\n",
    "https://leanprover.github.io/theorem_proving_in_lean4/induction_and_recursion.html"
   ]
  },
  {
   "cell_type": "markdown",
   "metadata": {},
   "source": [
    "# Nats\n",
    "\n",
    "python -m doctest -v README.md\n"
   ]
  },
  {
   "cell_type": "code",
   "execution_count": 37,
   "metadata": {},
   "outputs": [
    {
     "name": "stdout",
     "output_type": "stream",
     "text": [
      "WARNING: Redefining function add from |- ForAll([n, m],\n",
      "       add(n, m) ==\n",
      "       If(is(Zero, n),\n",
      "          m,\n",
      "          If(is(Succ, n),\n",
      "             Succ(add(pred(n), m)),\n",
      "             unreachable!1904))) to ForAll([n, m],\n",
      "       add(n, m) ==\n",
      "       If(is(Zero, n),\n",
      "          m,\n",
      "          If(is(Succ, n),\n",
      "             Succ(add(pred(n), m)),\n",
      "             unreachable!2134)))\n"
     ]
    }
   ],
   "source": [
    "import kdrag as kd\n",
    "import kdrag.smt as smt\n",
    "\n",
    "# Anything Z3 can do on it's own, we can \"prove\" with no extra work\n",
    "p,q = smt.Bools(\"p q\")\n",
    "simple_taut = kd.lemma(smt.Implies(p, smt.Or(p, q)))\n",
    "\n",
    "# The returned objects are `Proof`, not smt.ExprRef` formulas\n",
    "assert kd.kernel.is_proof(simple_taut)\n",
    "assert not isinstance(simple_taut, smt.ExprRef)\n",
    "\n",
    "try:\n",
    "    false_lemma = kd.lemma(smt.Implies(p, smt.And(p, q)))\n",
    "    assert False # This will not be reached\n",
    "except kd.kernel.LemmaError as e:\n",
    "    pass\n",
    "\n",
    "# Z3 also supports things like Reals, Ints, BitVectors and strings\n",
    "x = smt.Real(\"x\")\n",
    "real_trich = kd.lemma(smt.ForAll([x], smt.Or(x < 0, x == 0, 0 < x)))\n",
    "\n",
    "x = smt.BitVec(\"x\", 32)\n",
    "or_idem = kd.lemma(smt.ForAll([x], x | x == x))\n",
    "\n",
    "################\n",
    "\n",
    "# Knuckledragger also support algebraic datatypes and induction\n",
    "Nat = kd.Inductive(\"Nat\", strict=False)\n",
    "Zero = Nat.declare(\"Zero\")\n",
    "Succ = Nat.declare(\"Succ\", (\"pred\", Nat))\n",
    "Nat = Nat.create()\n",
    "\n",
    "# We can define an addition function\n",
    "n,m = smt.Consts(\"n m\", Nat)\n",
    "add = smt.Function(\"add\", Nat, Nat, Nat)\n",
    "add = kd.define(\"add\", [n,m], kd.cond(\n",
    "    (n.is_Zero, m),\n",
    "    (n.is_Succ, Nat.Succ(add(n.pred, m)))\n",
    "))\n",
    "\n",
    "# There is a notation overloading mechanism modelled after python's singledispatch\n",
    "kd.notation.add.register(Nat, add)\n",
    "\n",
    "# The definitional lemma is not available to the solver unless you give it\n",
    "add_zero_x = kd.lemma(smt.ForAll([n], Nat.Zero + n == n), by=[add.defn])\n",
    "add_succ_x = kd.lemma(smt.ForAll([n,m], Nat.Succ(n) + m == Nat.Succ(n + m)), by=[add.defn])\n",
    "\n",
    "# More involved proofs can be more easily done in an interactive tactic\n",
    "l = kd.Lemma(smt.ForAll([n], n + Nat.Zero == n))\n",
    "_n = l.fixes()\n",
    "l.induct(_n)\n",
    "l.auto(by=[add.defn])\n",
    "l.auto(by=[add.defn])\n",
    "add_x_zero = l.qed()\n",
    "\n",
    "##############\n",
    "\n",
    "# But we can also build our own sorts and axiomatic theories.\n",
    "# https://en.wikipedia.org/wiki/Group_(mathematics)\n",
    "G = smt.DeclareSort(\"G\")\n",
    "mul = smt.Function(\"mul\", G, G, G)\n",
    "e = smt.Const(\"e\", G)\n",
    "inv = smt.Function(\"inv\", G, G)\n",
    "\n",
    "kd.notation.mul.register(G, mul)\n",
    "\n",
    "x, y, z = smt.Consts(\"x y z\", G)\n",
    "mul_assoc = kd.axiom(smt.ForAll([x, y, z], x * (y * z) == (x * y) * z))\n",
    "id_left = kd.axiom(smt.ForAll([x], e * x == x))\n",
    "inv_left = kd.axiom(smt.ForAll([x], inv(x) * x == e))\n",
    "\n",
    "# The Calc tactic can allow one to write explicit equational proofs\n",
    "c = kd.Calc([x], x * inv(x))\n",
    "c.eq(e * (x * inv(x)), by=[id_left])\n",
    "c.eq((inv(inv(x)) * inv(x)) * (x * inv(x)), by=[inv_left])\n",
    "c.eq(inv(inv(x)) * ((inv(x) * x) * inv(x)), by=[mul_assoc])\n",
    "c.eq(inv(inv(x)) * (e * inv(x)), by=[inv_left])\n",
    "c.eq(inv(inv(x)) * inv(x), by=[id_left])\n",
    "c.eq(e, by=[inv_left])\n",
    "inv_right = c.qed()\n",
    "\n"
   ]
  },
  {
   "cell_type": "code",
   "execution_count": 43,
   "metadata": {},
   "outputs": [
    {
     "name": "stdout",
     "output_type": "stream",
     "text": [
      "[] ?|- ForAll(n, add(n, Zero) == n)\n",
      "[] ?|- add(n!2239, Zero) == n!2239\n",
      "[] ?|- add(Zero, Zero) == Zero\n",
      "[] ?|- ForAll(a!2241,\n",
      "       Or(Not(add(a!2241, Zero) == a!2241),\n",
      "          add(Succ(a!2241), Zero) == Succ(a!2241)))\n"
     ]
    }
   ],
   "source": [
    "l = kd.Lemma(smt.ForAll([n], n + Nat.Zero == n))\n",
    "print(l)\n",
    "_n = l.fixes()\n",
    "print(l)\n",
    "l.induct(_n)\n",
    "print(l)\n",
    "l.auto(by=[add.defn])\n",
    "print(l)\n",
    "l.auto(by=[add.defn])\n",
    "add_x_zero = l.qed()\n",
    "#add_x_zero"
   ]
  },
  {
   "cell_type": "code",
   "execution_count": 21,
   "metadata": {},
   "outputs": [
    {
     "name": "stdout",
     "output_type": "stream",
     "text": [
      "Overwriting /tmp/README.md\n"
     ]
    }
   ],
   "source": [
    "%%file /tmp/README.md\n",
    "\n",
    "```python\n",
    "import kdrag as kd\n",
    "import kdrag.smt as smt\n",
    "\n",
    "smt.Reals(\"x y z\")\n",
    "real_trich = kd.lemma(smt.ForAll([x], smt.Or(x < 0, x == 0, 0 < x)))\n",
    "````"
   ]
  },
  {
   "cell_type": "code",
   "execution_count": 22,
   "metadata": {},
   "outputs": [],
   "source": [
    "import re\n",
    "\n",
    "def extract_and_run_python_blocks(readme_path):\n",
    "    with open(readme_path, 'r') as file:\n",
    "        content = file.read()\n",
    "\n",
    "    # Regular expression to match Python code blocks\n",
    "    python_code_blocks = re.findall(r'```python\\n(.*?)```', content, re.DOTALL)\n",
    "\n",
    "    if not python_code_blocks:\n",
    "        raise ValueError('No Python code blocks found in the README.md file.')\n",
    "\n",
    "    for i, block in enumerate(python_code_blocks, 1):\n",
    "        exec(block)\n",
    "extract_and_run_python_blocks('/tmp/README.md')"
   ]
  },
  {
   "cell_type": "code",
   "execution_count": 12,
   "metadata": {},
   "outputs": [
    {
     "name": "stdout",
     "output_type": "stream",
     "text": [
      "1 items had no tests:\n",
      "    README.md\n",
      "0 tests in 1 items.\n",
      "0 passed and 0 failed.\n",
      "Test passed.\n"
     ]
    }
   ],
   "source": [
    "! python3 -m doctest -v /tmp/README.md"
   ]
  },
  {
   "cell_type": "code",
   "execution_count": 16,
   "metadata": {},
   "outputs": [
    {
     "data": {
      "text/html": [
       "&#8870;ForAll(x, add(x, Z) == x)"
      ],
      "text/plain": [
       "|- ForAll(x, add(x, Z) == x)"
      ]
     },
     "execution_count": 16,
     "metadata": {},
     "output_type": "execute_result"
    }
   ],
   "source": [
    "from kdrag.all import *\n",
    "\n",
    "import kdrag.theories.datatypes as dt\n",
    "Nat = kd.Inductive(\"Nat\")\n",
    "Nat.declare(\"Z\")\n",
    "Nat.declare(\"S\", (\"pred\", Nat))\n",
    "Nat = Nat.create()\n",
    "x,y,z = smt.Consts(\"x y z\", Nat)\n",
    "add = smt.Function(\"add\", Nat, Nat, Nat)\n",
    "add = kd.define(\"add\", [x,y], smt.If(x.is_Z, y, Nat.S(add(x.pred, y))))\n",
    "\n",
    "l = kd.Lemma(smt.ForAll([x], add(x, Nat.Z) == x))\n",
    "[\n",
    "    x1 := l.intros(),\n",
    "    l.induct(x1),\n",
    "    #l.z3simp(),\n",
    "    l.auto(by=[add.defn]),\n",
    "    #l.z3simp(),\n",
    "    a := l.intros(),\n",
    "]\n",
    "l.auto(by=[add.defn])\n",
    "l.qed()\n"
   ]
  },
  {
   "cell_type": "code",
   "execution_count": 68,
   "metadata": {},
   "outputs": [],
   "source": [
    "add_z_l = kd.kernel.lemma(smt.ForAll([x], add(Nat.Z, x) == x), by=[add.defn])\n",
    "add_s_l = kd.kernel.lemma(smt.ForAll([x,y], add(Nat.S(x),y) == Nat.S(add(x,y))), by=[add.defn])\n"
   ]
  },
  {
   "cell_type": "markdown",
   "metadata": {},
   "source": [
    "induct is doing to much.\n",
    "It seems like kernel.lemma needs to be used more often. lemma is too clogged with junk,\n",
    "Or do pruning in lemma.\n",
    "rewriting is happening only at one position which feels weird and uncotrolled.\n"
   ]
  },
  {
   "cell_type": "code",
   "execution_count": 19,
   "metadata": {},
   "outputs": [
    {
     "ename": "NameError",
     "evalue": "name 'add_z_l' is not defined",
     "output_type": "error",
     "traceback": [
      "\u001b[0;31m---------------------------------------------------------------------------\u001b[0m",
      "\u001b[0;31mNameError\u001b[0m                                 Traceback (most recent call last)",
      "Cell \u001b[0;32mIn[19], line 31\u001b[0m\n\u001b[1;32m     29\u001b[0m x1,y1,z1 \u001b[38;5;241m=\u001b[39m l\u001b[38;5;241m.\u001b[39mintros()\n\u001b[1;32m     30\u001b[0m l\u001b[38;5;241m.\u001b[39minduct(x1)\n\u001b[0;32m---> 31\u001b[0m l\u001b[38;5;241m.\u001b[39mrw(\u001b[43madd_z_l\u001b[49m)\n\u001b[1;32m     32\u001b[0m l\u001b[38;5;241m.\u001b[39mrw(add_z_l)\n\u001b[1;32m     33\u001b[0m l\u001b[38;5;241m.\u001b[39mauto()\n",
      "\u001b[0;31mNameError\u001b[0m: name 'add_z_l' is not defined"
     ]
    }
   ],
   "source": [
    "l = kd.Lemma(smt.ForAll([x], add(x, Nat.Z) == x))\n",
    "x1 = l.intros()\n",
    "l.induct(x1)\n",
    "l.auto(by=[add.defn])\n",
    "l.auto(by=[add.defn])\n",
    "add_Z_r = l.qed()\n",
    "\n",
    "l = kd.Lemma(smt.ForAll([x,y], add(x, Nat.S(y)) == Nat.S(add(x, y))))\n",
    "x1,y1 = l.intros()\n",
    "l.induct(x1)\n",
    "l.rw(add.defn)\n",
    "l.z3simp()\n",
    "l.rw(add.defn)\n",
    "l.z3simp()\n",
    "l.auto()\n",
    "z1 = l.fixes()\n",
    "l.auto(by=[add.defn])\n",
    "add_s_r = l.qed()\n",
    "\n",
    "l = kd.Lemma(smt.ForAll([x,y], add(x, y) == add(y, x)))\n",
    "x1,y1 = l.intros()\n",
    "l.induct(x1)\n",
    "l.auto(by=[add.defn, add_Z_r])\n",
    "z1 = l.fixes()\n",
    "l.auto(by=[add.defn, add_s_r])\n",
    "add_comm = l.qed()\n",
    "\n",
    "l = kd.Lemma(smt.ForAll([x,y,z], add(x, add(y, z)) == add(add(x, y), z)))\n",
    "x1,y1,z1 = l.intros()\n",
    "l.induct(x1)\n",
    "l.rw(add_z_l)\n",
    "l.rw(add_z_l)\n",
    "l.auto()\n",
    "l.auto(by=[add.defn, add_comm])\n",
    "add_assoc = l.qed()\n",
    "#l.auto(by=[add.defn])\n",
    "\n"
   ]
  },
  {
   "cell_type": "code",
   "execution_count": 6,
   "metadata": {},
   "outputs": [
    {
     "data": {
      "text/html": [
       "&#8870;ForAll(P!211,\n",
       "       Implies(And(P!211[Z],\n",
       "                   ForAll(a!212,\n",
       "                          Implies(P!211[a!212],\n",
       "                                  P!211[S(a!212)]))),\n",
       "               P!211[x]))"
      ],
      "text/plain": [
       "|- ForAll(P!211,\n",
       "       Implies(And(P!211[Z],\n",
       "                   ForAll(a!212,\n",
       "                          Implies(P!211[a!212],\n",
       "                                  P!211[S(a!212)]))),\n",
       "               P!211[x]))"
      ]
     },
     "execution_count": 6,
     "metadata": {},
     "output_type": "execute_result"
    }
   ],
   "source": [
    "from kdrag.all import *\n",
    "import kdrag.theories.datatypes as dt\n",
    "\n",
    "Nat = dt.Inductive(\"Nat\")\n",
    "Nat.declare(\"Z\")\n",
    "Nat.declare(\"S\", (\"pred\", Nat))\n",
    "#Nat = Nat.create()\n",
    "Nat = Nat.create()\n",
    "x = smt.Const(\"x\", Nat)\n",
    "x.induct()\n",
    "\n"
   ]
  },
  {
   "cell_type": "code",
   "execution_count": 24,
   "metadata": {},
   "outputs": [],
   "source": [
    "from z3 import *\n",
    "IntVal(2) + IntVal(3) == IntVal(5)\n",
    "type(IntVal(5))\n",
    "type(IntVal(2) + IntVal(3))\n",
    "\n",
    "\n",
    "def Eq(x,y):\n",
    "    \"\"\"Python __eq__ resolution rules flips the order if y is a subclass of x. This function corrects that.\"\"\"\n",
    "    e = (x == y)\n",
    "    if type(x) != type(y) and issubclass(type(y), type(x)):\n",
    "        return e.decl()(e.arg(1), e.arg(0))\n",
    "    else:\n",
    "        return e\n",
    "\n",
    "assert Eq(IntVal(2) + IntVal(3), IntVal(5)).arg(1).eq(IntVal(5))\n",
    "Eq(IntVal(5), IntVal(2) + IntVal(3))\n",
    "x = Int(\"x\")\n",
    "y = Int(\"y\")\n",
    "assert Eq((x >= 14), z3.Exists([y], x == 2 * y)).arg(0).eq(x >= 14)\n",
    "assert Eq((x >= 14), x >= 13).arg(0).eq(x >= 14)\n"
   ]
  },
  {
   "cell_type": "code",
   "execution_count": 21,
   "metadata": {},
   "outputs": [
    {
     "data": {
      "text/plain": [
       "z3.z3.IntNumRef"
      ]
     },
     "execution_count": 21,
     "metadata": {},
     "output_type": "execute_result"
    }
   ],
   "source": [
    "type(IntVal(5))"
   ]
  },
  {
   "cell_type": "code",
   "execution_count": 11,
   "metadata": {},
   "outputs": [],
   "source": [
    "from kdrag.all import *\n",
    "List = kd.Inductive(\"List<Int>\", strict=False)\n",
    "List.declare(\"Nil\")\n",
    "List.declare(\"Cons\", (\"hd\", smt.IntSort()), (\"tl\", List))\n",
    "List = List.create()\n",
    "x,y,z = smt.Consts(\"x y z\", List)\n",
    "\n",
    "append = smt.Function(\"append\", List, List, List)\n",
    "append = kd.define(\"append\", [x,y], smt.If(x.is_Nil, y, List.Cons(x.hd, append(x.tl, y))))\n",
    "kd.notation.add.register(List, append)\n",
    "\n",
    "a = smt.Int(\"a\")\n",
    "append_nil_x = kd.lemma(smt.ForAll([x], append(List.Nil, x) == x), by=[append.defn])\n",
    "append_cons_x = kd.lemma(smt.ForAll([a,y,z], List.Cons(a, y) + z == List.Cons(a, y + z)), by=[append.defn])\n",
    "\n",
    "l = kd.Lemma(smt.ForAll([x], append(x, List.Nil) == x))\n",
    "_x = l.intros()\n",
    "l.induct(_x)\n",
    "l.auto(by=[append.defn])\n",
    "_a, = l.fixes()\n",
    "l.intros()\n",
    "l.auto(by=append.defn)\n",
    "l.qed()\n",
    "#l = kd.Lemma(smt.ForAll([x,y,z], append(List.Cons(a, y), z) == List.Cons(a, append(y, z))))\n",
    "#l\n",
    "\n",
    "l = kd.Lemma(smt.ForAll([x,y,z], append(x, append(y, z)) == append(append(x, y), z)))\n",
    "_x, _y, _z = l.intros()\n",
    "l.induct(_x)\n",
    "l.auto(by=[append_nil_x])\n",
    "l.auto(by=[append_cons_x])\n",
    "append_assoc = l.qed()\n",
    "\n",
    "\n",
    "\n",
    "\n"
   ]
  },
  {
   "cell_type": "code",
   "execution_count": 23,
   "metadata": {},
   "outputs": [
    {
     "data": {
      "text/plain": [
       "['__add__',\n",
       " '__and__',\n",
       " '__bool__',\n",
       " '__class__',\n",
       " '__copy__',\n",
       " '__deepcopy__',\n",
       " '__del__',\n",
       " '__delattr__',\n",
       " '__dict__',\n",
       " '__dir__',\n",
       " '__doc__',\n",
       " '__eq__',\n",
       " '__format__',\n",
       " '__ge__',\n",
       " '__getattribute__',\n",
       " '__getitem__',\n",
       " '__gt__',\n",
       " '__hash__',\n",
       " '__init__',\n",
       " '__init_subclass__',\n",
       " '__invert__',\n",
       " '__le__',\n",
       " '__lt__',\n",
       " '__matmul__',\n",
       " '__module__',\n",
       " '__mul__',\n",
       " '__ne__',\n",
       " '__neg__',\n",
       " '__new__',\n",
       " '__nonzero__',\n",
       " '__or__',\n",
       " '__radd__',\n",
       " '__reduce__',\n",
       " '__reduce_ex__',\n",
       " '__repr__',\n",
       " '__rmul__',\n",
       " '__setattr__',\n",
       " '__sizeof__',\n",
       " '__str__',\n",
       " '__sub__',\n",
       " '__subclasshook__',\n",
       " '__truediv__',\n",
       " '__weakref__',\n",
       " '__xor__',\n",
       " '_repr_html_',\n",
       " 'arg',\n",
       " 'as_ast',\n",
       " 'ast',\n",
       " 'children',\n",
       " 'ctx',\n",
       " 'ctx_ref',\n",
       " 'decl',\n",
       " 'defn',\n",
       " 'eq',\n",
       " 'from_string',\n",
       " 'get_id',\n",
       " 'hash',\n",
       " 'induct',\n",
       " 'num_args',\n",
       " 'params',\n",
       " 'serialize',\n",
       " 'sexpr',\n",
       " 'sort',\n",
       " 'sort_kind',\n",
       " 'translate',\n",
       " 'use_pp',\n",
       " 'wf']"
      ]
     },
     "execution_count": 23,
     "metadata": {},
     "output_type": "execute_result"
    }
   ],
   "source": [
    "dir(smt.Or(x==x,x==x,x==x))"
   ]
  },
  {
   "cell_type": "code",
   "execution_count": 6,
   "metadata": {},
   "outputs": [
    {
     "name": "stdout",
     "output_type": "stream",
     "text": [
      "19.9 ms ± 2.69 ms per loop (mean ± std. dev. of 7 runs, 10 loops each)\n"
     ]
    }
   ],
   "source": [
    "%%timeit\n",
    "l = kd.lemma(smt.ForAll([x], append(List.Nil, x) == x), by=[append.defn])"
   ]
  },
  {
   "cell_type": "code",
   "execution_count": 7,
   "metadata": {},
   "outputs": [
    {
     "name": "stdout",
     "output_type": "stream",
     "text": [
      "12.9 ms ± 894 µs per loop (mean ± std. dev. of 7 runs, 100 loops each)\n"
     ]
    }
   ],
   "source": [
    "%%timeit\n",
    "l = kd.kernel.lemma(smt.ForAll([x], append(List.Nil, x) == x), by=[append.defn])"
   ]
  },
  {
   "cell_type": "markdown",
   "metadata": {},
   "source": [
    "# inductive relation\n",
    "\n",
    "You can split these things up in lean also. Is this awkward?\n",
    "\n",
    "```\n",
    "inductive evidence where\n",
    "    le_n : evidence\n",
    "    le_s : evidence -> evidence\n",
    "\n",
    "def le n m : evidence -> Type := \n",
    "  | le_n => n = n\n",
    "  | le_s ev => ∃ m', m = m' + 1 ∧ le n' m' ev\n",
    "\n",
    "def le n m : evidence -> Bool := \n",
    "  | le_n => n == n\n",
    "  | le_s ev => is_succ m and le n' (pred m) ev\n",
    "\n",
    "e : evidence -> p : le n m e -> something\n",
    "\n",
    "def le n m := exists ev, le' n m ev\n",
    "\n",
    "```\n",
    "But if I can poroduce the evidence as a decision procedure...\n",
    "\n",
    "\n",
    "If I don't minify using evidence.\n",
    "Consider even and odd defined minikanren style.\n",
    "A model of either is then all true, or actual minimal\n",
    "even(x) -> odd(x+1)  \n",
    "But then in model where even = True, odd doesn't have to bve true of all x. Or the model could be x = 1, even=True, odd=actualodds. Then state is false. Too many models.\n",
    "even(x) = exists y, x = 2*y is fine though. y is not to disimilar form inductive structure of y\n",
    "\n",
    "likewise for le n m. exists z, m = n + z\n"
   ]
  },
  {
   "cell_type": "code",
   "execution_count": null,
   "metadata": {},
   "outputs": [],
   "source": [
    "\n",
    "def Inductive(name):\n",
    "    if name in records:\n",
    "        raise Exception(\"Record already defined\", name)\n",
    "    dt = smt.Datatype(name)\n",
    "    oldcreate = dt.create\n",
    "    # TODO: Should I make inductive predicates possible?\n",
    "    # olddeclare = dt.declare\n",
    "    # preds = []\n",
    "\n",
    "    def create():\n",
    "        dt = oldcreate()\n",
    "        x = smt.FreshConst(dt, prefix=\"x\")\n",
    "        kd.notation.induct.register(dt, lambda x: induct_inductive(dt, x=x))\n",
    "        # kd.define(name, [x], smt.BoolSort(), lambda P: induct(dt, x=P))\n",
    "        \"\"\"for i, pred in enumerate(preds):\n",
    "            if pred is not None:\n",
    "                smt.Implies(dt.recognizer(i)(x), pred(x))\n",
    "        \"\"\"\n",
    "        records[name] = dt\n",
    "        return dt\n",
    "\n",
    "    \"\"\"\n",
    "    def declare(*args, pred=None):\n",
    "        olddeclare(*args)\n",
    "        #preds.append(pred)\n",
    "    \"\"\"\n",
    "    dt.create = create\n",
    "    return dt"
   ]
  },
  {
   "cell_type": "code",
   "execution_count": 90,
   "metadata": {},
   "outputs": [
    {
     "ename": "NotImplementedError",
     "evalue": "",
     "output_type": "error",
     "traceback": [
      "\u001b[0;31m---------------------------------------------------------------------------\u001b[0m",
      "\u001b[0;31mNotImplementedError\u001b[0m                       Traceback (most recent call last)",
      "Cell \u001b[0;32mIn[90], line 1\u001b[0m\n\u001b[0;32m----> 1\u001b[0m le \u001b[38;5;241m=\u001b[39m kd\u001b[38;5;241m.\u001b[39mdefine(\u001b[38;5;124m\"\u001b[39m\u001b[38;5;124mle\u001b[39m\u001b[38;5;124m\"\u001b[39m, [x,y], smt\u001b[38;5;241m.\u001b[39mExists([z], \u001b[43mz\u001b[49m\u001b[43m \u001b[49m\u001b[38;5;241;43m+\u001b[39;49m\u001b[43m \u001b[49m\u001b[43mx\u001b[49m \u001b[38;5;241m==\u001b[39m y))\n\u001b[1;32m      2\u001b[0m l \u001b[38;5;241m=\u001b[39m kd\u001b[38;5;241m.\u001b[39mLemma(smt\u001b[38;5;241m.\u001b[39mForAll([x], le(x,x)))\n\u001b[1;32m      3\u001b[0m x1 \u001b[38;5;241m=\u001b[39m l\u001b[38;5;241m.\u001b[39mintros()\n",
      "File \u001b[0;32m~/Documents/python/knuckledragger/kdrag/notation.py:61\u001b[0m, in \u001b[0;36m<lambda>\u001b[0;34m(x, y)\u001b[0m\n\u001b[1;32m     57\u001b[0m         \u001b[38;5;28;01mreturn\u001b[39;00m defn\n\u001b[1;32m     60\u001b[0m add \u001b[38;5;241m=\u001b[39m SortDispatch(name\u001b[38;5;241m=\u001b[39m\u001b[38;5;124m\"\u001b[39m\u001b[38;5;124madd\u001b[39m\u001b[38;5;124m\"\u001b[39m)\n\u001b[0;32m---> 61\u001b[0m smt\u001b[38;5;241m.\u001b[39mExprRef\u001b[38;5;241m.\u001b[39m\u001b[38;5;21m__add__\u001b[39m \u001b[38;5;241m=\u001b[39m \u001b[38;5;28;01mlambda\u001b[39;00m x, y: \u001b[43madd\u001b[49m\u001b[43m(\u001b[49m\u001b[43mx\u001b[49m\u001b[43m,\u001b[49m\u001b[43m \u001b[49m\u001b[43my\u001b[49m\u001b[43m)\u001b[49m\n\u001b[1;32m     63\u001b[0m radd \u001b[38;5;241m=\u001b[39m SortDispatch(name\u001b[38;5;241m=\u001b[39m\u001b[38;5;124m\"\u001b[39m\u001b[38;5;124mradd\u001b[39m\u001b[38;5;124m\"\u001b[39m)\n\u001b[1;32m     64\u001b[0m smt\u001b[38;5;241m.\u001b[39mExprRef\u001b[38;5;241m.\u001b[39m\u001b[38;5;21m__radd__\u001b[39m \u001b[38;5;241m=\u001b[39m \u001b[38;5;28;01mlambda\u001b[39;00m x, y: radd(x, y)\n",
      "File \u001b[0;32m~/Documents/python/knuckledragger/kdrag/notation.py:50\u001b[0m, in \u001b[0;36mSortDispatch.__call__\u001b[0;34m(self, *args, **kwargs)\u001b[0m\n\u001b[1;32m     48\u001b[0m res \u001b[38;5;241m=\u001b[39m \u001b[38;5;28mself\u001b[39m\u001b[38;5;241m.\u001b[39mmethods\u001b[38;5;241m.\u001b[39mget(args[\u001b[38;5;241m0\u001b[39m]\u001b[38;5;241m.\u001b[39msort(), \u001b[38;5;28mself\u001b[39m\u001b[38;5;241m.\u001b[39mdefault)\n\u001b[1;32m     49\u001b[0m \u001b[38;5;28;01mif\u001b[39;00m res \u001b[38;5;129;01mis\u001b[39;00m \u001b[38;5;28;01mNone\u001b[39;00m:\n\u001b[0;32m---> 50\u001b[0m     \u001b[38;5;28;01mraise\u001b[39;00m \u001b[38;5;167;01mNotImplementedError\u001b[39;00m()\n\u001b[1;32m     51\u001b[0m \u001b[38;5;28;01mreturn\u001b[39;00m res(\u001b[38;5;241m*\u001b[39margs, \u001b[38;5;241m*\u001b[39m\u001b[38;5;241m*\u001b[39mkwargs)\n",
      "\u001b[0;31mNotImplementedError\u001b[0m: "
     ]
    }
   ],
   "source": [
    "le = kd.define(\"le\", [x,y], smt.Exists([z], z + x == y))\n",
    "l = kd.Lemma(smt.ForAll([x], le(x,x)))\n",
    "x1 = l.intros()\n",
    "l.unfold(le)\n",
    "l.exists(Nat.Z)\n",
    "l.auto(by=[add.defn])\n"
   ]
  },
  {
   "cell_type": "code",
   "execution_count": null,
   "metadata": {},
   "outputs": [],
   "source": [
    "\n",
    "leEv = dt.Inductive(\"leEv\")\n",
    "leEv.declare(\"le_n\")\n",
    "leEv.declare(\"le_s\", (\"pred\", leEv))\n",
    "leEv = leEv.create()\n",
    "ev = smt.Const(\"ev\", leEv)\n",
    "le = kd.define(\"le\", [n,m,ev], # open evidence form \n",
    "               smt.If(ev.is_le_n, n == 0,\n",
    "                      le(n.pred, m.pred, ev.pred)))\n",
    "le = kd.define(\"le\", [n,m], # closed evidence form\n",
    "               smt.Exists([ev], \n",
    "               smt.If(ev.is_le_n, n == 0,\n",
    "                      le(n.pred, m.pred)))_\n",
    "\n",
    "\n"
   ]
  },
  {
   "cell_type": "markdown",
   "metadata": {},
   "source": [
    "# even odd\n",
    "\n"
   ]
  },
  {
   "cell_type": "code",
   "execution_count": 1,
   "metadata": {},
   "outputs": [
    {
     "name": "stderr",
     "output_type": "stream",
     "text": [
      "Admitting lemma ForAll([x, y, z], mul(x, mul(y, z)) == mul(mul(x, y), z))\n",
      "Admitting lemma ForAll(x, Implies(x >= 0, sqrt(x) >= 0))\n",
      "Admitting lemma ForAll(x, Implies(x >= 0, sqrt(x)**2 == x))\n",
      "Admitting lemma ForAll(x, Implies(x >= 0, sqrt(sqr(x)) == x))\n"
     ]
    }
   ],
   "source": [
    "from kdrag.all import *\n",
    "import kdrag.theories.int as int_\n",
    "from kdrag.theories.int import even, odd\n",
    "x,y,z = smt.Ints(\"x y z\")\n",
    "even_odd = kd.lemma(smt.ForAll([x], even(x) == odd(x+1)), by=[even.defn, odd.defn])\n",
    "odd_even = kd.lemma(smt.ForAll([x], odd(x) == even(x-1)), by=[even.defn, odd.defn])\n",
    "\n",
    "l = kd.Lemma(smt.ForAll([x], even(x) == even(x+2)))\n",
    "_x = l.fixes()\n",
    "l.unfold(even)\n",
    "l.unfold(even)\n",
    "l.split()\n",
    "l.intros()\n",
    "_y = l.einstan(0)\n",
    "l.exists(_y-1)\n",
    "l.auto()\n",
    "l.intros()\n",
    "_y = l.einstan(0)\n",
    "l.exists(_y+1)\n",
    "l.auto()\n",
    "even_2 = l.qed()\n",
    "\n",
    "l = kd.Lemma(smt.ForAll([x], odd(x) == even(x+1)))\n",
    "_x = l.fixes()\n",
    "l.rw(odd_even)\n",
    "l.simp()\n",
    "l.auto(by=[even.defn, even_2])\n",
    "odd_even_1 = l.qed()\n",
    "#l.unfold(odd, even)\n",
    "\n",
    "odd_2 = kd.lemma(smt.ForAll([x], odd(x) == odd(x+2)), by=[odd_even_1, even_2])\n"
   ]
  },
  {
   "cell_type": "markdown",
   "metadata": {},
   "source": [
    "Hmm actually kind of fiddly.\n",
    "How "
   ]
  },
  {
   "cell_type": "code",
   "execution_count": 4,
   "metadata": {},
   "outputs": [
    {
     "data": {
      "text/plain": [
       "[And(n!385 >= 0, Not(even(n!385) == odd(n!385)))] ?|- Not(even(1 + n!385) == odd(1 + n!385))"
      ]
     },
     "execution_count": 4,
     "metadata": {},
     "output_type": "execute_result"
    }
   ],
   "source": [
    "l = kd.Lemma(smt.ForAll([x], even(x) != odd(x)))\n",
    "_x = l.fixes()\n",
    "l.induct(_x)\n",
    "l.auto(by=[even.defn, odd.defn])\n",
    "_n = l.fixes()\n",
    "l.intros()\n",
    "#l.rw(odd_even_1)\n",
    "#l.rw(kd.kernel.instan([_n], even_odd))\n",
    "#l.rw(odd_even,rev=True)\n",
    "#l.unfold(even,odd)\n",
    "\n",
    "#l.split()\n",
    "#l.induct(x)\n"
   ]
  },
  {
   "cell_type": "code",
   "execution_count": 41,
   "metadata": {},
   "outputs": [
    {
     "ename": "LemmaError",
     "evalue": "('lemma', ForAll(x, odd(x) == odd(x + 2)), [|- ForAll(x, even(x) == (Exists(y, x == 2*y))), |- ForAll(x, odd(x) == (Exists(y, x == 2*y + 1))), |- ForAll(x, even(x) == even(x + 2))], unknown)",
     "output_type": "error",
     "traceback": [
      "\u001b[0;31m---------------------------------------------------------------------------\u001b[0m",
      "\u001b[0;31mLemmaError\u001b[0m                                Traceback (most recent call last)",
      "Cell \u001b[0;32mIn[41], line 1\u001b[0m\n\u001b[0;32m----> 1\u001b[0m \u001b[43mkd\u001b[49m\u001b[38;5;241;43m.\u001b[39;49m\u001b[43mlemma\u001b[49m\u001b[43m(\u001b[49m\u001b[43msmt\u001b[49m\u001b[38;5;241;43m.\u001b[39;49m\u001b[43mForAll\u001b[49m\u001b[43m(\u001b[49m\u001b[43m[\u001b[49m\u001b[43mx\u001b[49m\u001b[43m]\u001b[49m\u001b[43m,\u001b[49m\u001b[43m \u001b[49m\u001b[43modd\u001b[49m\u001b[43m(\u001b[49m\u001b[43mx\u001b[49m\u001b[43m)\u001b[49m\u001b[43m \u001b[49m\u001b[38;5;241;43m==\u001b[39;49m\u001b[43m \u001b[49m\u001b[43modd\u001b[49m\u001b[43m(\u001b[49m\u001b[43mx\u001b[49m\u001b[38;5;241;43m+\u001b[39;49m\u001b[38;5;241;43m2\u001b[39;49m\u001b[43m)\u001b[49m\u001b[43m)\u001b[49m\u001b[43m,\u001b[49m\u001b[43m \u001b[49m\u001b[43mby\u001b[49m\u001b[38;5;241;43m=\u001b[39;49m\u001b[43m[\u001b[49m\u001b[43meven\u001b[49m\u001b[38;5;241;43m.\u001b[39;49m\u001b[43mdefn\u001b[49m\u001b[43m,\u001b[49m\u001b[43m \u001b[49m\u001b[43modd\u001b[49m\u001b[38;5;241;43m.\u001b[39;49m\u001b[43mdefn\u001b[49m\u001b[43m,\u001b[49m\u001b[43m \u001b[49m\u001b[43meven_2\u001b[49m\u001b[43m]\u001b[49m\u001b[43m)\u001b[49m\n",
      "File \u001b[0;32m~/Documents/python/knuckledragger/kdrag/tactics.py:185\u001b[0m, in \u001b[0;36mlemma\u001b[0;34m(thm, by, admit, timeout, dump, solver, defns, simps)\u001b[0m\n\u001b[1;32m    183\u001b[0m     \u001b[38;5;28;01mif\u001b[39;00m res \u001b[38;5;241m==\u001b[39m smt\u001b[38;5;241m.\u001b[39msat:\n\u001b[1;32m    184\u001b[0m         \u001b[38;5;28;01mraise\u001b[39;00m kd\u001b[38;5;241m.\u001b[39mkernel\u001b[38;5;241m.\u001b[39mLemmaError(thm, by, \u001b[38;5;124m\"\u001b[39m\u001b[38;5;124mCountermodel\u001b[39m\u001b[38;5;124m\"\u001b[39m, s\u001b[38;5;241m.\u001b[39mmodel())\n\u001b[0;32m--> 185\u001b[0m     \u001b[38;5;28;01mraise\u001b[39;00m kd\u001b[38;5;241m.\u001b[39mkernel\u001b[38;5;241m.\u001b[39mLemmaError(\u001b[38;5;124m\"\u001b[39m\u001b[38;5;124mlemma\u001b[39m\u001b[38;5;124m\"\u001b[39m, thm, by, res)\n\u001b[1;32m    186\u001b[0m \u001b[38;5;28;01melse\u001b[39;00m:\n\u001b[1;32m    187\u001b[0m     core \u001b[38;5;241m=\u001b[39m s\u001b[38;5;241m.\u001b[39munsat_core()\n",
      "\u001b[0;31mLemmaError\u001b[0m: ('lemma', ForAll(x, odd(x) == odd(x + 2)), [|- ForAll(x, even(x) == (Exists(y, x == 2*y))), |- ForAll(x, odd(x) == (Exists(y, x == 2*y + 1))), |- ForAll(x, even(x) == even(x + 2))], unknown)"
     ]
    }
   ],
   "source": [
    "kd.lemma(smt.ForAll([x], odd(x) == odd(x+2)), by=[even.defn, odd.defn, even_2])"
   ]
  },
  {
   "cell_type": "markdown",
   "metadata": {},
   "source": [
    "# limits\n",
    "\n",
    "\n",
    "The qed isn't going though.\n",
    "Vampire Can't do it in one shot?"
   ]
  },
  {
   "cell_type": "code",
   "execution_count": 10,
   "metadata": {},
   "outputs": [
    {
     "ename": "KeyboardInterrupt",
     "evalue": "",
     "output_type": "error",
     "traceback": [
      "\u001b[0;31m---------------------------------------------------------------------------\u001b[0m",
      "\u001b[0;31mKeyboardInterrupt\u001b[0m                         Traceback (most recent call last)",
      "Cell \u001b[0;32mIn[10], line 1\u001b[0m\n\u001b[0;32m----> 1\u001b[0m \u001b[43mkd\u001b[49m\u001b[38;5;241;43m.\u001b[39;49m\u001b[43mlemma\u001b[49m\u001b[43m(\u001b[49m\u001b[43mkd\u001b[49m\u001b[38;5;241;43m.\u001b[39;49m\u001b[43mQForAll\u001b[49m\u001b[43m(\u001b[49m\u001b[43m[\u001b[49m\u001b[43mf\u001b[49m\u001b[43m,\u001b[49m\u001b[43mx\u001b[49m\u001b[43m]\u001b[49m\u001b[43m,\u001b[49m\u001b[43m \u001b[49m\u001b[43mreal\u001b[49m\u001b[38;5;241;43m.\u001b[39;49m\u001b[43mhas_lim_at\u001b[49m\u001b[43m(\u001b[49m\u001b[43mf\u001b[49m\u001b[43m,\u001b[49m\u001b[43mx\u001b[49m\u001b[43m,\u001b[49m\u001b[43mf\u001b[49m\u001b[43m[\u001b[49m\u001b[43mx\u001b[49m\u001b[43m]\u001b[49m\u001b[43m)\u001b[49m\u001b[43m,\u001b[49m\u001b[43m \u001b[49m\u001b[43mreal\u001b[49m\u001b[38;5;241;43m.\u001b[39;49m\u001b[43mcont_at\u001b[49m\u001b[43m(\u001b[49m\u001b[43mf\u001b[49m\u001b[43m,\u001b[49m\u001b[43mx\u001b[49m\u001b[43m)\u001b[49m\u001b[43m)\u001b[49m\u001b[43m,\u001b[49m\u001b[43m \u001b[49m\u001b[43mby\u001b[49m\u001b[38;5;241;43m=\u001b[39;49m\u001b[43m[\u001b[49m\u001b[43mreal\u001b[49m\u001b[38;5;241;43m.\u001b[39;49m\u001b[43mcont_at\u001b[49m\u001b[38;5;241;43m.\u001b[39;49m\u001b[43mdefn\u001b[49m\u001b[43m,\u001b[49m\u001b[43m \u001b[49m\u001b[43mreal\u001b[49m\u001b[38;5;241;43m.\u001b[39;49m\u001b[43mhas_lim_at\u001b[49m\u001b[38;5;241;43m.\u001b[39;49m\u001b[43mdefn\u001b[49m\u001b[43m,\u001b[49m\u001b[43m \u001b[49m\u001b[43mreal\u001b[49m\u001b[38;5;241;43m.\u001b[39;49m\u001b[43mabs\u001b[49m\u001b[38;5;241;43m.\u001b[39;49m\u001b[43mdefn\u001b[49m\u001b[43m]\u001b[49m\u001b[43m,\u001b[49m\u001b[43m \u001b[49m\u001b[43msolver\u001b[49m\u001b[38;5;241;43m=\u001b[39;49m\u001b[43mVampireSolver\u001b[49m\u001b[43m)\u001b[49m\n",
      "File \u001b[0;32m~/Documents/python/knuckledragger/kdrag/tactics.py:183\u001b[0m, in \u001b[0;36mlemma\u001b[0;34m(thm, by, admit, timeout, dump, solver, defns, simps)\u001b[0m\n\u001b[1;32m    168\u001b[0m \u001b[38;5;250m        \u001b[39m\u001b[38;5;124;03m\"\"\"\u001b[39;00m\n\u001b[1;32m    169\u001b[0m \u001b[38;5;124;03m        def log_instance(pr, clause, myst):\u001b[39;00m\n\u001b[1;32m    170\u001b[0m \u001b[38;5;124;03m            print(type(pr))\u001b[39;00m\n\u001b[0;32m   (...)\u001b[0m\n\u001b[1;32m    180\u001b[0m \u001b[38;5;124;03m        onc = smt.OnClause(s, log_instance)\u001b[39;00m\n\u001b[1;32m    181\u001b[0m \u001b[38;5;124;03m        \"\"\"\u001b[39;00m\n\u001b[1;32m    182\u001b[0m         onc \u001b[38;5;241m=\u001b[39m smt\u001b[38;5;241m.\u001b[39mOnClause(s, \u001b[38;5;28;01mlambda\u001b[39;00m pr, clause, myst: \u001b[38;5;28mprint\u001b[39m(pr, clause, myst))\n\u001b[0;32m--> 183\u001b[0m res \u001b[38;5;241m=\u001b[39m \u001b[43ms\u001b[49m\u001b[38;5;241;43m.\u001b[39;49m\u001b[43mcheck\u001b[49m\u001b[43m(\u001b[49m\u001b[43m)\u001b[49m\n\u001b[1;32m    184\u001b[0m \u001b[38;5;28;01mif\u001b[39;00m res \u001b[38;5;241m!=\u001b[39m smt\u001b[38;5;241m.\u001b[39munsat:\n\u001b[1;32m    185\u001b[0m     \u001b[38;5;28;01mif\u001b[39;00m res \u001b[38;5;241m==\u001b[39m smt\u001b[38;5;241m.\u001b[39msat:\n",
      "File \u001b[0;32m~/Documents/python/knuckledragger/kdrag/solvers/__init__.py:486\u001b[0m, in \u001b[0;36mVampireSolver.check\u001b[0;34m(self)\u001b[0m\n\u001b[1;32m    483\u001b[0m     \u001b[38;5;28;01melse\u001b[39;00m:\n\u001b[1;32m    484\u001b[0m         cmd\u001b[38;5;241m.\u001b[39mextend([\u001b[38;5;124m\"\u001b[39m\u001b[38;5;124m--output_mode\u001b[39m\u001b[38;5;124m\"\u001b[39m, \u001b[38;5;124m\"\u001b[39m\u001b[38;5;124msmtcomp\u001b[39m\u001b[38;5;124m\"\u001b[39m])\n\u001b[0;32m--> 486\u001b[0m     \u001b[38;5;28mself\u001b[39m\u001b[38;5;241m.\u001b[39mres \u001b[38;5;241m=\u001b[39m \u001b[43msubprocess\u001b[49m\u001b[38;5;241;43m.\u001b[39;49m\u001b[43mrun\u001b[49m\u001b[43m(\u001b[49m\n\u001b[1;32m    487\u001b[0m \u001b[43m        \u001b[49m\u001b[43mcmd\u001b[49m\u001b[43m,\u001b[49m\u001b[43m \u001b[49m\u001b[43mstdout\u001b[49m\u001b[38;5;241;43m=\u001b[39;49m\u001b[43msubprocess\u001b[49m\u001b[38;5;241;43m.\u001b[39;49m\u001b[43mPIPE\u001b[49m\u001b[43m,\u001b[49m\u001b[43m \u001b[49m\u001b[43mstderr\u001b[49m\u001b[38;5;241;43m=\u001b[39;49m\u001b[43msubprocess\u001b[49m\u001b[38;5;241;43m.\u001b[39;49m\u001b[43mPIPE\u001b[49m\n\u001b[1;32m    488\u001b[0m \u001b[43m    \u001b[49m\u001b[43m)\u001b[49m\n\u001b[1;32m    489\u001b[0m \u001b[38;5;28;01mwith\u001b[39;00m \u001b[38;5;28mopen\u001b[39m(\u001b[38;5;124m\"\u001b[39m\u001b[38;5;124m/tmp/vampire.smt2\u001b[39m\u001b[38;5;124m\"\u001b[39m, \u001b[38;5;124m\"\u001b[39m\u001b[38;5;124mr\u001b[39m\u001b[38;5;124m\"\u001b[39m) \u001b[38;5;28;01mas\u001b[39;00m fp:\n\u001b[1;32m    490\u001b[0m     \u001b[38;5;28mprint\u001b[39m(\u001b[38;5;124m\"\u001b[39m\u001b[38;5;130;01m\\n\u001b[39;00m\u001b[38;5;124m\"\u001b[39m\u001b[38;5;241m.\u001b[39mjoin(fp\u001b[38;5;241m.\u001b[39mreadlines()))\n",
      "File \u001b[0;32m/usr/lib/python3.10/subprocess.py:505\u001b[0m, in \u001b[0;36mrun\u001b[0;34m(input, capture_output, timeout, check, *popenargs, **kwargs)\u001b[0m\n\u001b[1;32m    503\u001b[0m \u001b[38;5;28;01mwith\u001b[39;00m Popen(\u001b[38;5;241m*\u001b[39mpopenargs, \u001b[38;5;241m*\u001b[39m\u001b[38;5;241m*\u001b[39mkwargs) \u001b[38;5;28;01mas\u001b[39;00m process:\n\u001b[1;32m    504\u001b[0m     \u001b[38;5;28;01mtry\u001b[39;00m:\n\u001b[0;32m--> 505\u001b[0m         stdout, stderr \u001b[38;5;241m=\u001b[39m \u001b[43mprocess\u001b[49m\u001b[38;5;241;43m.\u001b[39;49m\u001b[43mcommunicate\u001b[49m\u001b[43m(\u001b[49m\u001b[38;5;28;43minput\u001b[39;49m\u001b[43m,\u001b[49m\u001b[43m \u001b[49m\u001b[43mtimeout\u001b[49m\u001b[38;5;241;43m=\u001b[39;49m\u001b[43mtimeout\u001b[49m\u001b[43m)\u001b[49m\n\u001b[1;32m    506\u001b[0m     \u001b[38;5;28;01mexcept\u001b[39;00m TimeoutExpired \u001b[38;5;28;01mas\u001b[39;00m exc:\n\u001b[1;32m    507\u001b[0m         process\u001b[38;5;241m.\u001b[39mkill()\n",
      "File \u001b[0;32m/usr/lib/python3.10/subprocess.py:1154\u001b[0m, in \u001b[0;36mPopen.communicate\u001b[0;34m(self, input, timeout)\u001b[0m\n\u001b[1;32m   1151\u001b[0m     endtime \u001b[38;5;241m=\u001b[39m \u001b[38;5;28;01mNone\u001b[39;00m\n\u001b[1;32m   1153\u001b[0m \u001b[38;5;28;01mtry\u001b[39;00m:\n\u001b[0;32m-> 1154\u001b[0m     stdout, stderr \u001b[38;5;241m=\u001b[39m \u001b[38;5;28;43mself\u001b[39;49m\u001b[38;5;241;43m.\u001b[39;49m\u001b[43m_communicate\u001b[49m\u001b[43m(\u001b[49m\u001b[38;5;28;43minput\u001b[39;49m\u001b[43m,\u001b[49m\u001b[43m \u001b[49m\u001b[43mendtime\u001b[49m\u001b[43m,\u001b[49m\u001b[43m \u001b[49m\u001b[43mtimeout\u001b[49m\u001b[43m)\u001b[49m\n\u001b[1;32m   1155\u001b[0m \u001b[38;5;28;01mexcept\u001b[39;00m \u001b[38;5;167;01mKeyboardInterrupt\u001b[39;00m:\n\u001b[1;32m   1156\u001b[0m     \u001b[38;5;66;03m# https://bugs.python.org/issue25942\u001b[39;00m\n\u001b[1;32m   1157\u001b[0m     \u001b[38;5;66;03m# See the detailed comment in .wait().\u001b[39;00m\n\u001b[1;32m   1158\u001b[0m     \u001b[38;5;28;01mif\u001b[39;00m timeout \u001b[38;5;129;01mis\u001b[39;00m \u001b[38;5;129;01mnot\u001b[39;00m \u001b[38;5;28;01mNone\u001b[39;00m:\n",
      "File \u001b[0;32m/usr/lib/python3.10/subprocess.py:2021\u001b[0m, in \u001b[0;36mPopen._communicate\u001b[0;34m(self, input, endtime, orig_timeout)\u001b[0m\n\u001b[1;32m   2014\u001b[0m     \u001b[38;5;28mself\u001b[39m\u001b[38;5;241m.\u001b[39m_check_timeout(endtime, orig_timeout,\n\u001b[1;32m   2015\u001b[0m                         stdout, stderr,\n\u001b[1;32m   2016\u001b[0m                         skip_check_and_raise\u001b[38;5;241m=\u001b[39m\u001b[38;5;28;01mTrue\u001b[39;00m)\n\u001b[1;32m   2017\u001b[0m     \u001b[38;5;28;01mraise\u001b[39;00m \u001b[38;5;167;01mRuntimeError\u001b[39;00m(  \u001b[38;5;66;03m# Impossible :)\u001b[39;00m\n\u001b[1;32m   2018\u001b[0m         \u001b[38;5;124m'\u001b[39m\u001b[38;5;124m_check_timeout(..., skip_check_and_raise=True) \u001b[39m\u001b[38;5;124m'\u001b[39m\n\u001b[1;32m   2019\u001b[0m         \u001b[38;5;124m'\u001b[39m\u001b[38;5;124mfailed to raise TimeoutExpired.\u001b[39m\u001b[38;5;124m'\u001b[39m)\n\u001b[0;32m-> 2021\u001b[0m ready \u001b[38;5;241m=\u001b[39m \u001b[43mselector\u001b[49m\u001b[38;5;241;43m.\u001b[39;49m\u001b[43mselect\u001b[49m\u001b[43m(\u001b[49m\u001b[43mtimeout\u001b[49m\u001b[43m)\u001b[49m\n\u001b[1;32m   2022\u001b[0m \u001b[38;5;28mself\u001b[39m\u001b[38;5;241m.\u001b[39m_check_timeout(endtime, orig_timeout, stdout, stderr)\n\u001b[1;32m   2024\u001b[0m \u001b[38;5;66;03m# XXX Rewrite these to use non-blocking I/O on the file\u001b[39;00m\n\u001b[1;32m   2025\u001b[0m \u001b[38;5;66;03m# objects; they are no longer using C stdio!\u001b[39;00m\n",
      "File \u001b[0;32m/usr/lib/python3.10/selectors.py:416\u001b[0m, in \u001b[0;36m_PollLikeSelector.select\u001b[0;34m(self, timeout)\u001b[0m\n\u001b[1;32m    414\u001b[0m ready \u001b[38;5;241m=\u001b[39m []\n\u001b[1;32m    415\u001b[0m \u001b[38;5;28;01mtry\u001b[39;00m:\n\u001b[0;32m--> 416\u001b[0m     fd_event_list \u001b[38;5;241m=\u001b[39m \u001b[38;5;28;43mself\u001b[39;49m\u001b[38;5;241;43m.\u001b[39;49m\u001b[43m_selector\u001b[49m\u001b[38;5;241;43m.\u001b[39;49m\u001b[43mpoll\u001b[49m\u001b[43m(\u001b[49m\u001b[43mtimeout\u001b[49m\u001b[43m)\u001b[49m\n\u001b[1;32m    417\u001b[0m \u001b[38;5;28;01mexcept\u001b[39;00m \u001b[38;5;167;01mInterruptedError\u001b[39;00m:\n\u001b[1;32m    418\u001b[0m     \u001b[38;5;28;01mreturn\u001b[39;00m ready\n",
      "\u001b[0;31mKeyboardInterrupt\u001b[0m: "
     ]
    }
   ],
   "source": [
    "kd.lemma(kd.QForAll([f,x], real.has_lim_at(f,x,f[x]), real.cont_at(f,x)), by=[real.cont_at.defn, real.has_lim_at.defn, real.abs.defn], solver=VampireSolver)"
   ]
  },
  {
   "cell_type": "code",
   "execution_count": null,
   "metadata": {},
   "outputs": [
    {
     "name": "stderr",
     "output_type": "stream",
     "text": [
      "WARNING:knuckledragger:Admitting lemma ForAll([f, x],\n",
      "       Implies(has_lim_at(f, x, f[x]), cont_at(f, x)))\n"
     ]
    },
    {
     "data": {
      "text/html": [
       "&#8870;ForAll([f, x],\n",
       "       Implies(has_lim_at(f, x, f[x]), cont_at(f, x)))"
      ],
      "text/plain": [
       "|- ForAll([f, x],\n",
       "       Implies(has_lim_at(f, x, f[x]), cont_at(f, x)))"
      ]
     },
     "execution_count": 9,
     "metadata": {},
     "output_type": "execute_result"
    }
   ],
   "source": [
    "from kdrag.all import *\n",
    "from kdrag.solvers import VampireSolver, EProverTHFSolver\n",
    "f = smt.Const(\"f\", real.RFun)\n",
    "x,y = smt.Reals(\"x y\")\n",
    "l = kd.Lemma(kd.QForAll([f,x], real.has_lim_at(f,x,f[x]), real.cont_at(f,x)))\n",
    "_f, _x, = l.fixes()\n",
    "l.intros()\n",
    "l.unfold(real.has_lim_at, at=0)\n",
    "l.unfold(real.cont_at)\n",
    "_eps = l.fixes()\n",
    "l.intros()\n",
    "l.instan(0, _eps)\n",
    "l.clear(0)\n",
    "#l.apply(1, at=0)\n",
    "delta = smt.Real(\"delta\")\n",
    "l.have(l.goals[-1].ctx[1].arg(1)) # forward apply might be nice\n",
    "l.clear(1)\n",
    "_delta = l.einstan(1)\n",
    "l.exists(_delta)\n",
    "l.auto()\n",
    "#l.lemmas\n",
    "assert len(l.goals) == 0\n",
    "l.qed(admit=True)\n",
    "#l.qed(solver=EProverTHFSolver) # This makes me sad\n",
    "#kd.kernel.lemma(l.thm, by=l.lemmas + [real.cont_at.defn, real.has_lim_at.defn])\n",
    "#l.lemmas\n",
    "#smt.prove(smt.Implies(smt.And(_eps > 0, l.goals[-1].ctx[1]), l.goals[-1].ctx[1]))\n",
    "# I need to instantiate with _eps\n",
    "# _delta = l.einstan(0)\n",
    "# l.exists(_delta)\n",
    "# l.auto()  #maybe. I might need to unfold or use property of abs that abs(x) == 0 -> x == 0 "
   ]
  },
  {
   "cell_type": "code",
   "execution_count": 39,
   "metadata": {},
   "outputs": [
    {
     "data": {
      "text/html": [
       "&#8870;has_lim_at(Lambda(x, x/2), 0, 0)"
      ],
      "text/plain": [
       "|- has_lim_at(Lambda(x, x/2), 0, 0)"
      ]
     },
     "execution_count": 39,
     "metadata": {},
     "output_type": "execute_result"
    }
   ],
   "source": [
    "from kdrag.all import *\n",
    "x = smt.Real(\"x\")\n",
    "\n",
    "l = kd.Lemma(real.has_lim_at(smt.Lambda([x], x), 0, 0))\n",
    "l.unfold(real.has_lim_at)\n",
    "_eps = l.fixes()\n",
    "l.intros()\n",
    "l.exists(_eps)\n",
    "l.auto()\n",
    "l.qed()\n",
    "\n",
    "l = kd.Lemma(real.has_lim_at(smt.Lambda([x], x / 2), 0, 0))\n",
    "l.unfold(real.has_lim_at)\n",
    "_eps = l.fixes()\n",
    "l.intros()\n",
    "l.exists(_eps*2)\n",
    "l.split()\n",
    "l.auto()\n",
    "l.fixes()\n",
    "for i in range(2):\n",
    "    l.unfold(real.abs)\n",
    "l.simp()\n",
    "l.auto(defns=False)\n",
    "l.qed()\n",
    "#l.unfold(real.abs)\n",
    "#l.auto()\n",
    "#l.qed()"
   ]
  },
  {
   "cell_type": "code",
   "execution_count": null,
   "metadata": {},
   "outputs": [],
   "source": [
    "l = kd.Lemma(real.has_lim_at(smt.Lambda([x], x / 2), 0, 0))\n",
    "l.unfold(real.has_lim_at)\n",
    "_eps = l.fixes()\n",
    "l.intros()\n",
    "l.exists(_eps*2)"
   ]
  },
  {
   "cell_type": "code",
   "execution_count": 16,
   "metadata": {},
   "outputs": [
    {
     "ename": "LemmaError",
     "evalue": "('lemma', has_lim_at(Lambda(x, x), 0, 0), [|- ForAll([f, p, L],\n       has_lim_at(f, p, L) ==\n       (ForAll(eps,\n               Implies(0 < eps,\n                       Exists(delta,\n                              And(delta > 0,\n                                  ForAll(x,\n                                        Implies(And(0 <\n                                        absR(x - p),\n                                        absR(x - p) < delta),\n                                        absR(f[x] - L) < eps)))))))), |- ForAll(x, absR(x) == If(x >= 0, x, -x))], unknown)",
     "output_type": "error",
     "traceback": [
      "\u001b[0;31m---------------------------------------------------------------------------\u001b[0m",
      "\u001b[0;31mLemmaError\u001b[0m                                Traceback (most recent call last)",
      "Cell \u001b[0;32mIn[16], line 1\u001b[0m\n\u001b[0;32m----> 1\u001b[0m l \u001b[38;5;241m=\u001b[39m \u001b[43mkd\u001b[49m\u001b[38;5;241;43m.\u001b[39;49m\u001b[43mlemma\u001b[49m\u001b[43m(\u001b[49m\u001b[43mreal\u001b[49m\u001b[38;5;241;43m.\u001b[39;49m\u001b[43mhas_lim_at\u001b[49m\u001b[43m(\u001b[49m\u001b[43msmt\u001b[49m\u001b[38;5;241;43m.\u001b[39;49m\u001b[43mLambda\u001b[49m\u001b[43m(\u001b[49m\u001b[43m[\u001b[49m\u001b[43mx\u001b[49m\u001b[43m]\u001b[49m\u001b[43m,\u001b[49m\u001b[43m \u001b[49m\u001b[43mx\u001b[49m\u001b[43m)\u001b[49m\u001b[43m,\u001b[49m\u001b[43m \u001b[49m\u001b[38;5;241;43m0\u001b[39;49m\u001b[43m,\u001b[49m\u001b[43m \u001b[49m\u001b[38;5;241;43m0\u001b[39;49m\u001b[43m)\u001b[49m\u001b[43m,\u001b[49m\u001b[43m \u001b[49m\u001b[43mby\u001b[49m\u001b[38;5;241;43m=\u001b[39;49m\u001b[43m[\u001b[49m\u001b[43mreal\u001b[49m\u001b[38;5;241;43m.\u001b[39;49m\u001b[43mhas_lim_at\u001b[49m\u001b[38;5;241;43m.\u001b[39;49m\u001b[43mdefn\u001b[49m\u001b[43m,\u001b[49m\u001b[43m \u001b[49m\u001b[43mreal\u001b[49m\u001b[38;5;241;43m.\u001b[39;49m\u001b[43mabs\u001b[49m\u001b[38;5;241;43m.\u001b[39;49m\u001b[43mdefn\u001b[49m\u001b[43m]\u001b[49m\u001b[43m)\u001b[49m\n",
      "File \u001b[0;32m~/Documents/python/knuckledragger/kdrag/tactics.py:185\u001b[0m, in \u001b[0;36mlemma\u001b[0;34m(thm, by, admit, timeout, dump, solver, defns, simps)\u001b[0m\n\u001b[1;32m    183\u001b[0m     \u001b[38;5;28;01mif\u001b[39;00m res \u001b[38;5;241m==\u001b[39m smt\u001b[38;5;241m.\u001b[39msat:\n\u001b[1;32m    184\u001b[0m         \u001b[38;5;28;01mraise\u001b[39;00m kd\u001b[38;5;241m.\u001b[39mkernel\u001b[38;5;241m.\u001b[39mLemmaError(thm, by, \u001b[38;5;124m\"\u001b[39m\u001b[38;5;124mCountermodel\u001b[39m\u001b[38;5;124m\"\u001b[39m, s\u001b[38;5;241m.\u001b[39mmodel())\n\u001b[0;32m--> 185\u001b[0m     \u001b[38;5;28;01mraise\u001b[39;00m kd\u001b[38;5;241m.\u001b[39mkernel\u001b[38;5;241m.\u001b[39mLemmaError(\u001b[38;5;124m\"\u001b[39m\u001b[38;5;124mlemma\u001b[39m\u001b[38;5;124m\"\u001b[39m, thm, by, res)\n\u001b[1;32m    186\u001b[0m \u001b[38;5;28;01melse\u001b[39;00m:\n\u001b[1;32m    187\u001b[0m     core \u001b[38;5;241m=\u001b[39m s\u001b[38;5;241m.\u001b[39munsat_core()\n",
      "\u001b[0;31mLemmaError\u001b[0m: ('lemma', has_lim_at(Lambda(x, x), 0, 0), [|- ForAll([f, p, L],\n       has_lim_at(f, p, L) ==\n       (ForAll(eps,\n               Implies(0 < eps,\n                       Exists(delta,\n                              And(delta > 0,\n                                  ForAll(x,\n                                        Implies(And(0 <\n                                        absR(x - p),\n                                        absR(x - p) < delta),\n                                        absR(f[x] - L) < eps)))))))), |- ForAll(x, absR(x) == If(x >= 0, x, -x))], unknown)"
     ]
    }
   ],
   "source": [
    "l = kd.lemma(real.has_lim_at(smt.Lambda([x], x), 0, 0), by=[real.has_lim_at.defn, real.abs.defn])"
   ]
  },
  {
   "cell_type": "markdown",
   "metadata": {},
   "source": [
    "# soft found typing\n",
    "https://softwarefoundations.cis.upenn.edu/plf-current/Types.html\n",
    "\n",
    "If I did SKI combinators, could I avoid the rigamorole of subsitution if done in this style?\n"
   ]
  },
  {
   "cell_type": "code",
   "execution_count": null,
   "metadata": {},
   "outputs": [
    {
     "name": "stdout",
     "output_type": "stream",
     "text": [
      "WARNING: Redefining function step0 from |- ForAll([tr, t1, t2],\n",
      "       step0(tr, t1, t2) ==\n",
      "       If(is(if_true, tr),\n",
      "          And(is(true, cond(t1)), t2 == then(t1)),\n",
      "          If(is(if_false, tr),\n",
      "             And(is(false, cond(t1)), t2 == else_(t1)),\n",
      "             If(is(if_cond, tr),\n",
      "                And(t1 == cond(t1), t2 == then(t1)),\n",
      "                unreachable!607)))) to ForAll([tr, t1, t2],\n",
      "       step0(tr, t1, t2) ==\n",
      "       If(is(if_true, tr),\n",
      "          And(is(true, cond(t1)), t2 == then(t1)),\n",
      "          If(is(if_false, tr),\n",
      "             And(is(false, cond(t1)), t2 == else_(t1)),\n",
      "             If(is(if_cond, tr),\n",
      "                And(step0(cond(tr), cond(t1), cond(t2)),\n",
      "                    then(t1) == then(t2),\n",
      "                    else_(t1) == else_(t2)),\n",
      "                unreachable!612))))\n"
     ]
    },
    {
     "data": {
      "text/html": [
       "&#8870;ForAll([tr, t1, t2],\n",
       "       step0(tr, t1, t2) ==\n",
       "       If(is(if_true, tr),\n",
       "          And(is(true, cond(t1)), t2 == then(t1)),\n",
       "          If(is(if_false, tr),\n",
       "             And(is(false, cond(t1)), t2 == else_(t1)),\n",
       "             If(is(if_cond, tr),\n",
       "                And(step0(cond(tr), cond(t1), cond(t2)),\n",
       "                    then(t1) == then(t2),\n",
       "                    else_(t1) == else_(t2)),\n",
       "                unreachable!612))))"
      ],
      "text/plain": [
       "|- ForAll([tr, t1, t2],\n",
       "       step0(tr, t1, t2) ==\n",
       "       If(is(if_true, tr),\n",
       "          And(is(true, cond(t1)), t2 == then(t1)),\n",
       "          If(is(if_false, tr),\n",
       "             And(is(false, cond(t1)), t2 == else_(t1)),\n",
       "             If(is(if_cond, tr),\n",
       "                And(step0(cond(tr), cond(t1), cond(t2)),\n",
       "                    then(t1) == then(t2),\n",
       "                    else_(t1) == else_(t2)),\n",
       "                unreachable!612))))"
      ]
     },
     "execution_count": 34,
     "metadata": {},
     "output_type": "execute_result"
    }
   ],
   "source": [
    "from kdrag.all import *\n",
    "import kdrag.theories.datatypes.nat as nat\n",
    "tm = kd.Inductive(\"tm\", strict=False)\n",
    "tm.declare(\"true\")\n",
    "tm.declare(\"false\")\n",
    "tm.declare(\"unit\") # maybe add in a non bool\n",
    "tm.declare(\"if\", (\"cond\", tm), (\"then\", tm), (\"else_\", tm))\n",
    "tm = tm.create()\n",
    "\n",
    "n,m, t1,t2 = smt.Consts(\"n m t1 t2\", tm)\n",
    "bvalue = kd.define(\"bvalue\", [n], smt.Or(n.is_true, n.is_false))\n",
    "uvalue = kd.define(\"uvalue\", [n], n == tm.unit)\n",
    "\n",
    "trace = kd.Inductive(\"trace\", strict=False)\n",
    "trace.declare(\"if_true\") # if true t1 t2 ~> t1\n",
    "trace.declare(\"if_false\") # if false t1 t2 ~> t2\n",
    "trace.declare(\"if_cond\", (\"cond\", trace)) # cond ~> cond' ->  if cond t1 t2 ~> if cond' t1 t2\n",
    "trace = trace.create()\n",
    "\n",
    "tr = smt.Const(\"tr\", trace)\n",
    "step0 = smt.Function(\"step0\", trace, tm, tm, smt.BoolSort())\n",
    "step0 = kd.define(\"step0\", [tr, t1, t2], \n",
    "                 kd.cond(\n",
    "                    (tr.is_if_true, smt.And( t1.cond.is_true , t2 == t1.then )), # hmm. maybe let cond accept multiple args\n",
    "                    (tr.is_if_false, smt.And( t1.cond.is_false , t2 == t1.else_ )),\n",
    "                    (tr.is_if_cond,  smt.And( step0(tr.cond, t1.cond, t2.cond), t1.then == t2.then,  t1.else_ == t2.else_))), \n",
    "                 )\n",
    "\n",
    "step = kd.define(\"step\", [t1,t2], smt.Exists([tr], step0(tr, t1, t2)))\n",
    "\n",
    "ty = kd.Inductive(\"ty\", strict=False)\n",
    "ty.declare(\"bool\")\n",
    "ty.declare(\"unit\")\n",
    "ty = ty.create()\n",
    "\n",
    "t = smt.Const(\"t\", ty)\n",
    "\n",
    "tderiv = kd.Inductive(\"tderiv\", strict=False)\n",
    "tderiv.declare(\"true_bool\")\n",
    "tderiv.declare(\"false_bool\")\n",
    "tderiv.declare(\"if_t\", (\"cond\", tderiv), (\"then\", tderiv), (\"else_\", tderiv))\n",
    "tderiv.declare(\"unit_unit\")\n",
    "\n",
    "# This is why a convention of \n",
    "# \n",
    "hastype0 = smt.Function(\"hastype0\", tderiv, tm, ty, smt.BoolSort())\n",
    "hastype0 = kd.define(\"hastype0\", [tdiv, tm, ty], \n",
    "                     kd.cond(\n",
    "                           (tdiv.is_true_bool, t == ty.bool),\n",
    "                           (tdiv.is_false_bool, t == ty.bool),\n",
    "                           (tdiv.is_if_t, smt.And(hastype0(tdiv.cond, tm.cond, ty.bool), hastype0(tdiv.then, tm.then, ty), hastype0(tdiv.else_, tm.else_, ty))),\n",
    "                           (tdiv.is_unit_unit, t == ty.unit)\n",
    "                     ))\n",
    "\n",
    "\n"
   ]
  },
  {
   "cell_type": "code",
   "execution_count": null,
   "metadata": {},
   "outputs": [
    {
     "name": "stdout",
     "output_type": "stream",
     "text": [
      "WARNING: Redefining function step0 from |- ForAll([tr, 1, t2],\n",
      "       step0(tr, 1, t2) ==\n",
      "       If(is(if_true, tr),\n",
      "          And(is(true, cond(1)), t2 == then(1)),\n",
      "          If(is(if_false, tr),\n",
      "             And(is(false, cond(1)), t2 == else_(1)),\n",
      "             If(is(if_cond, tr),\n",
      "                And(1 == cond(1), t2 == then(1)),\n",
      "                unreachable!604)))) to ForAll([tr, t1, t2],\n",
      "       step0(tr, t1, t2) ==\n",
      "       If(is(if_true, tr),\n",
      "          And(is(true, cond(t1)), t2 == then(t1)),\n",
      "          If(is(if_false, tr),\n",
      "             And(is(false, cond(t1)), t2 == else_(t1)),\n",
      "             If(is(if_cond, tr),\n",
      "                And(t1 == cond(t1), t2 == then(t1)),\n",
      "                unreachable!607))))\n"
     ]
    },
    {
     "data": {
      "text/html": [
       "&#8870;ForAll([tr, t1, t2],\n",
       "       step0(tr, t1, t2) ==\n",
       "       If(is(if_true, tr),\n",
       "          And(is(true, cond(t1)), t2 == then(t1)),\n",
       "          If(is(if_false, tr),\n",
       "             And(is(false, cond(t1)), t2 == else_(t1)),\n",
       "             If(is(if_cond, tr),\n",
       "                And(t1 == cond(t1), t2 == then(t1)),\n",
       "                unreachable!607))))"
      ],
      "text/plain": [
       "|- ForAll([tr, t1, t2],\n",
       "       step0(tr, t1, t2) ==\n",
       "       If(is(if_true, tr),\n",
       "          And(is(true, cond(t1)), t2 == then(t1)),\n",
       "          If(is(if_false, tr),\n",
       "             And(is(false, cond(t1)), t2 == else_(t1)),\n",
       "             If(is(if_cond, tr),\n",
       "                And(t1 == cond(t1), t2 == then(t1)),\n",
       "                unreachable!607))))"
      ]
     },
     "execution_count": 31,
     "metadata": {},
     "output_type": "execute_result"
    }
   ],
   "source": [
    "from kdrag.all import *\n",
    "import kdrag.theories.datatypes.nat as nat\n",
    "tm = kd.Inductive(\"tm\", strict=False)\n",
    "tm.declare(\"true\")\n",
    "tm.declare(\"false\")\n",
    "tm.declare(\"if\", (\"cond\", tm), (\"then\", tm), (\"else_\", tm))\n",
    "tm.declare(\"zero\")\n",
    "tm.declare(\"succ\", (\"succarg\", tm)) # ok this is interesting\n",
    "tm.declare(\"pred\", (\"predard\", tm))\n",
    "tm.declare(\"iszero\", (\"iszeroarg\", tm)) # also this might clash with \"zero\"ArithmeticError\n",
    "tm = tm.create()\n",
    "\n",
    "n,m, t1,t2 = smt.Consts(\"n m t1 t2\", tm)\n",
    "bvalue = kd.define(\"bvalue\", [n], smt.Or(n.is_true, n.is_false))\n",
    "\n",
    "x = smt.Const(\"x\", nat.Nat)\n",
    "to_term = smt.Function(\"to_term\", nat.Nat, tm)\n",
    "to_term = kd.define(\"to_term\", [x], smt.If(x.is_Z, tm.zero, tm.succ(to_term(x.pred))))\n",
    "\n",
    "nvalue = kd.define(\"nvalue\", [n], smt.Exists([x], n == to_term(x)))\n",
    "\n",
    "value = kd.define(\"value\", [n], smt.Or(bvalue(n), nvalue(n)))\n",
    "\n",
    "\n",
    "trace = kd.Inductive(\"trace\", strict=False)\n",
    "trace.declare(\"if_true\")\n",
    "trace.declare(\"if_false\")\n",
    "trace.declare(\"if_cond\")\n",
    "trace = trace.create()\n",
    "\n",
    "tr = smt.Const(\"tr\", trace)\n",
    "step0 = smt.Function(\"step0\", trace, tm, tm, smt.BoolSort())\n",
    "step0 = kd.define(\"step0\", [tr, t1, t2], \n",
    "                 kd.cond(\n",
    "                    (tr.is_if_true, smt.And( t1.cond.is_true , t2 == t1.then )), # hmm. maybe let cond accept multiple args\n",
    "                    (tr.is_if_false, smt.And( t1.cond.is_false , t2 == t1.else_ )),\n",
    "                    (tr.is_if_cond,  smt.And( t1 == t1.cond , t2 == t1.then )), \n",
    "                    # TODO: more cases\n",
    "                 )) \n",
    "\n",
    "step0.defn\n",
    "\n"
   ]
  },
  {
   "cell_type": "code",
   "execution_count": null,
   "metadata": {},
   "outputs": [],
   "source": [
    "\n",
    "\n",
    "ty = kd.Inductive(\"ty\")\n",
    "ty.declare(\"bool\")\n",
    "ty.declare(\"nat\")\n",
    "ty = ty.create()"
   ]
  },
  {
   "cell_type": "code",
   "execution_count": null,
   "metadata": {},
   "outputs": [],
   "source": [
    "def IndRel(name):\n",
    "    # make evidence\n",
    "    \n"
   ]
  },
  {
   "cell_type": "code",
   "execution_count": null,
   "metadata": {},
   "outputs": [],
   "source": [
    "top = len(l.goals)\n",
    "while len(l.goals) > top - 1:\n",
    "    pass\n",
    "    # do all the <;> chaining things."
   ]
  },
  {
   "cell_type": "markdown",
   "metadata": {},
   "source": [
    "# derivstive of tan(x)\n",
    "\n"
   ]
  },
  {
   "cell_type": "code",
   "execution_count": 95,
   "metadata": {},
   "outputs": [
    {
     "ename": "AttributeError",
     "evalue": "'DatatypeSortRef' object has no attribute 'is_int'",
     "output_type": "error",
     "traceback": [
      "\u001b[0;31m---------------------------------------------------------------------------\u001b[0m",
      "\u001b[0;31mAttributeError\u001b[0m                            Traceback (most recent call last)",
      "\u001b[0;32m/tmp/ipykernel_3893690/770978965.py\u001b[0m in \u001b[0;36m?\u001b[0;34m()\u001b[0m\n\u001b[1;32m     11\u001b[0m \u001b[0mapply\u001b[0m \u001b[0;34m=\u001b[0m \u001b[0msmt\u001b[0m\u001b[0;34m.\u001b[0m\u001b[0mFunction\u001b[0m\u001b[0;34m(\u001b[0m\u001b[0;34m\"apply\"\u001b[0m\u001b[0;34m,\u001b[0m \u001b[0mPoly\u001b[0m\u001b[0;34m,\u001b[0m \u001b[0mReal\u001b[0m\u001b[0;34m,\u001b[0m \u001b[0mReal\u001b[0m\u001b[0;34m)\u001b[0m\u001b[0;34m\u001b[0m\u001b[0;34m\u001b[0m\u001b[0m\n\u001b[1;32m     12\u001b[0m apply = kd.define(\"apply\", [p,x], \n\u001b[1;32m     13\u001b[0m                   kd.cond((p.is_X, x),\n\u001b[1;32m     14\u001b[0m                           \u001b[0;34m(\u001b[0m\u001b[0mp\u001b[0m\u001b[0;34m.\u001b[0m\u001b[0mis_real\u001b[0m\u001b[0;34m,\u001b[0m \u001b[0mp\u001b[0m\u001b[0;34m.\u001b[0m\u001b[0mval\u001b[0m\u001b[0;34m)\u001b[0m\u001b[0;34m,\u001b[0m\u001b[0;34m\u001b[0m\u001b[0;34m\u001b[0m\u001b[0m\n\u001b[0;32m---> 15\u001b[0;31m                           \u001b[0;34m(\u001b[0m\u001b[0mp\u001b[0m\u001b[0;34m.\u001b[0m\u001b[0mis_add\u001b[0m\u001b[0;34m,\u001b[0m \u001b[0mapply\u001b[0m\u001b[0;34m(\u001b[0m\u001b[0mp\u001b[0m\u001b[0;34m.\u001b[0m\u001b[0madd1\u001b[0m\u001b[0;34m,\u001b[0m \u001b[0mx\u001b[0m\u001b[0;34m)\u001b[0m \u001b[0;34m+\u001b[0m \u001b[0mapply\u001b[0m\u001b[0;34m(\u001b[0m\u001b[0mp\u001b[0m\u001b[0;34m.\u001b[0m\u001b[0madd2\u001b[0m\u001b[0;34m,\u001b[0m \u001b[0mx\u001b[0m\u001b[0;34m)\u001b[0m\u001b[0;34m)\u001b[0m\u001b[0;34m,\u001b[0m\u001b[0;34m\u001b[0m\u001b[0;34m\u001b[0m\u001b[0m\n\u001b[0m\u001b[1;32m     16\u001b[0m                           (p.is_mul, apply(p.mul1, x) * apply(p.mul2, x))))\n\u001b[1;32m     17\u001b[0m \u001b[0;34m\u001b[0m\u001b[0m\n",
      "\u001b[0;32m~/.local/lib/python3.10/site-packages/z3/z3.py\u001b[0m in \u001b[0;36m?\u001b[0;34m(self, *args)\u001b[0m\n\u001b[1;32m    858\u001b[0m         \u001b[0msaved\u001b[0m \u001b[0;34m=\u001b[0m \u001b[0;34m[\u001b[0m\u001b[0;34m]\u001b[0m\u001b[0;34m\u001b[0m\u001b[0;34m\u001b[0m\u001b[0m\n\u001b[1;32m    859\u001b[0m         \u001b[0;32mfor\u001b[0m \u001b[0mi\u001b[0m \u001b[0;32min\u001b[0m \u001b[0mrange\u001b[0m\u001b[0;34m(\u001b[0m\u001b[0mnum\u001b[0m\u001b[0;34m)\u001b[0m\u001b[0;34m:\u001b[0m\u001b[0;34m\u001b[0m\u001b[0;34m\u001b[0m\u001b[0m\n\u001b[1;32m    860\u001b[0m             \u001b[0;31m# self.domain(i).cast(args[i]) may create a new Z3 expression,\u001b[0m\u001b[0;34m\u001b[0m\u001b[0;34m\u001b[0m\u001b[0m\n\u001b[1;32m    861\u001b[0m             \u001b[0;31m# then we must save in 'saved' to prevent it from being garbage collected.\u001b[0m\u001b[0;34m\u001b[0m\u001b[0;34m\u001b[0m\u001b[0m\n\u001b[0;32m--> 862\u001b[0;31m             \u001b[0mtmp\u001b[0m \u001b[0;34m=\u001b[0m \u001b[0mself\u001b[0m\u001b[0;34m.\u001b[0m\u001b[0mdomain\u001b[0m\u001b[0;34m(\u001b[0m\u001b[0mi\u001b[0m\u001b[0;34m)\u001b[0m\u001b[0;34m.\u001b[0m\u001b[0mcast\u001b[0m\u001b[0;34m(\u001b[0m\u001b[0margs\u001b[0m\u001b[0;34m[\u001b[0m\u001b[0mi\u001b[0m\u001b[0;34m]\u001b[0m\u001b[0;34m)\u001b[0m\u001b[0;34m\u001b[0m\u001b[0;34m\u001b[0m\u001b[0m\n\u001b[0m\u001b[1;32m    863\u001b[0m             \u001b[0msaved\u001b[0m\u001b[0;34m.\u001b[0m\u001b[0mappend\u001b[0m\u001b[0;34m(\u001b[0m\u001b[0mtmp\u001b[0m\u001b[0;34m)\u001b[0m\u001b[0;34m\u001b[0m\u001b[0;34m\u001b[0m\u001b[0m\n\u001b[1;32m    864\u001b[0m             \u001b[0m_args\u001b[0m\u001b[0;34m[\u001b[0m\u001b[0mi\u001b[0m\u001b[0;34m]\u001b[0m \u001b[0;34m=\u001b[0m \u001b[0mtmp\u001b[0m\u001b[0;34m.\u001b[0m\u001b[0mas_ast\u001b[0m\u001b[0;34m(\u001b[0m\u001b[0;34m)\u001b[0m\u001b[0;34m\u001b[0m\u001b[0;34m\u001b[0m\u001b[0m\n\u001b[1;32m    865\u001b[0m         \u001b[0;32mreturn\u001b[0m \u001b[0m_to_expr_ref\u001b[0m\u001b[0;34m(\u001b[0m\u001b[0mZ3_mk_app\u001b[0m\u001b[0;34m(\u001b[0m\u001b[0mself\u001b[0m\u001b[0;34m.\u001b[0m\u001b[0mctx_ref\u001b[0m\u001b[0;34m(\u001b[0m\u001b[0;34m)\u001b[0m\u001b[0;34m,\u001b[0m \u001b[0mself\u001b[0m\u001b[0;34m.\u001b[0m\u001b[0mast\u001b[0m\u001b[0;34m,\u001b[0m \u001b[0mlen\u001b[0m\u001b[0;34m(\u001b[0m\u001b[0margs\u001b[0m\u001b[0;34m)\u001b[0m\u001b[0;34m,\u001b[0m \u001b[0m_args\u001b[0m\u001b[0;34m)\u001b[0m\u001b[0;34m,\u001b[0m \u001b[0mself\u001b[0m\u001b[0;34m.\u001b[0m\u001b[0mctx\u001b[0m\u001b[0;34m)\u001b[0m\u001b[0;34m\u001b[0m\u001b[0;34m\u001b[0m\u001b[0m\n",
      "\u001b[0;32m~/.local/lib/python3.10/site-packages/z3/z3.py\u001b[0m in \u001b[0;36m?\u001b[0;34m(self, val)\u001b[0m\n\u001b[1;32m   2392\u001b[0m                 \u001b[0m_z3_assert\u001b[0m\u001b[0;34m(\u001b[0m\u001b[0mself\u001b[0m\u001b[0;34m.\u001b[0m\u001b[0mctx\u001b[0m \u001b[0;34m==\u001b[0m \u001b[0mval\u001b[0m\u001b[0;34m.\u001b[0m\u001b[0mctx\u001b[0m\u001b[0;34m,\u001b[0m \u001b[0;34m\"Context mismatch\"\u001b[0m\u001b[0;34m)\u001b[0m\u001b[0;34m\u001b[0m\u001b[0;34m\u001b[0m\u001b[0m\n\u001b[1;32m   2393\u001b[0m             \u001b[0mval_s\u001b[0m \u001b[0;34m=\u001b[0m \u001b[0mval\u001b[0m\u001b[0;34m.\u001b[0m\u001b[0msort\u001b[0m\u001b[0;34m(\u001b[0m\u001b[0;34m)\u001b[0m\u001b[0;34m\u001b[0m\u001b[0;34m\u001b[0m\u001b[0m\n\u001b[1;32m   2394\u001b[0m             \u001b[0;32mif\u001b[0m \u001b[0mself\u001b[0m\u001b[0;34m.\u001b[0m\u001b[0meq\u001b[0m\u001b[0;34m(\u001b[0m\u001b[0mval_s\u001b[0m\u001b[0;34m)\u001b[0m\u001b[0;34m:\u001b[0m\u001b[0;34m\u001b[0m\u001b[0;34m\u001b[0m\u001b[0m\n\u001b[1;32m   2395\u001b[0m                 \u001b[0;32mreturn\u001b[0m \u001b[0mval\u001b[0m\u001b[0;34m\u001b[0m\u001b[0;34m\u001b[0m\u001b[0m\n\u001b[0;32m-> 2396\u001b[0;31m             \u001b[0;32mif\u001b[0m \u001b[0mval_s\u001b[0m\u001b[0;34m.\u001b[0m\u001b[0mis_int\u001b[0m\u001b[0;34m(\u001b[0m\u001b[0;34m)\u001b[0m \u001b[0;32mand\u001b[0m \u001b[0mself\u001b[0m\u001b[0;34m.\u001b[0m\u001b[0mis_real\u001b[0m\u001b[0;34m(\u001b[0m\u001b[0;34m)\u001b[0m\u001b[0;34m:\u001b[0m\u001b[0;34m\u001b[0m\u001b[0;34m\u001b[0m\u001b[0m\n\u001b[0m\u001b[1;32m   2397\u001b[0m                 \u001b[0;32mreturn\u001b[0m \u001b[0mToReal\u001b[0m\u001b[0;34m(\u001b[0m\u001b[0mval\u001b[0m\u001b[0;34m)\u001b[0m\u001b[0;34m\u001b[0m\u001b[0;34m\u001b[0m\u001b[0m\n\u001b[1;32m   2398\u001b[0m             \u001b[0;32mif\u001b[0m \u001b[0mval_s\u001b[0m\u001b[0;34m.\u001b[0m\u001b[0mis_bool\u001b[0m\u001b[0;34m(\u001b[0m\u001b[0;34m)\u001b[0m \u001b[0;32mand\u001b[0m \u001b[0mself\u001b[0m\u001b[0;34m.\u001b[0m\u001b[0mis_int\u001b[0m\u001b[0;34m(\u001b[0m\u001b[0;34m)\u001b[0m\u001b[0;34m:\u001b[0m\u001b[0;34m\u001b[0m\u001b[0;34m\u001b[0m\u001b[0m\n\u001b[1;32m   2399\u001b[0m                 \u001b[0;32mreturn\u001b[0m \u001b[0mIf\u001b[0m\u001b[0;34m(\u001b[0m\u001b[0mval\u001b[0m\u001b[0;34m,\u001b[0m \u001b[0;36m1\u001b[0m\u001b[0;34m,\u001b[0m \u001b[0;36m0\u001b[0m\u001b[0;34m)\u001b[0m\u001b[0;34m\u001b[0m\u001b[0;34m\u001b[0m\u001b[0m\n",
      "\u001b[0;31mAttributeError\u001b[0m: 'DatatypeSortRef' object has no attribute 'is_int'"
     ]
    }
   ],
   "source": [
    "from kdrag.all import *\n",
    "Real = smt.RealSort()\n",
    "Poly = dt.Inductive(\"Poly\")\n",
    "Poly.declare(\"X\")\n",
    "Poly.declare(\"real\", (\"val\", Real))\n",
    "Poly.declare(\"add\", (\"add1\", Poly), (\"add2\", Poly))\n",
    "Poly.declare(\"mul\", (\"mul1\", Poly), (\"mul2\", Poly))\n",
    "Poly = Poly.create()\n",
    "\n",
    "kd.notation.add.register(Poly, Poly.add)\n",
    "kd.notation.mul.register(Poly, Poly.mul)\n",
    "p = smt.Const(\"p\", Poly)\n",
    "apply = smt.Function(\"apply\", Poly, Real, Real)\n",
    "apply = kd.define(\"apply\", [p,x], \n",
    "                  kd.cond((p.is_X, x),\n",
    "                          (p.is_real, p.val),\n",
    "                          (p.is_add, apply(p.add1, x) + apply(p.add2, x)),\n",
    "                          (p.is_mul, apply(p.mul1, x) * apply(p.mul2, x))))\n",
    "\n",
    "kd.Lemma(smt.ForAll([p,q], apply(p + q, x) == apply(p, x) + apply(q, x)))\n",
    "\n"
   ]
  },
  {
   "cell_type": "code",
   "execution_count": 78,
   "metadata": {},
   "outputs": [
    {
     "data": {
      "text/html": [
       "&#8870;ForAll([f, g],\n",
       "       deriv(mul(f, g)) ==\n",
       "       add(mul(deriv(f), g), mul(f, deriv(g))))"
      ],
      "text/plain": [
       "|- ForAll([f, g],\n",
       "       deriv(mul(f, g)) ==\n",
       "       add(mul(deriv(f), g), mul(f, deriv(g))))"
      ]
     },
     "execution_count": 78,
     "metadata": {},
     "output_type": "execute_result"
    }
   ],
   "source": [
    "import kdrag.theories.real as real\n",
    "real.deriv\n",
    "real.deriv_add\n",
    "real.deriv_mul"
   ]
  },
  {
   "cell_type": "code",
   "execution_count": 89,
   "metadata": {},
   "outputs": [
    {
     "data": {
      "text/html": [
       "mul(const(2), ident)"
      ],
      "text/plain": [
       "mul(const(2), ident)"
      ]
     },
     "execution_count": 89,
     "metadata": {},
     "output_type": "execute_result"
    }
   ],
   "source": [
    "X = real.X\n",
    "#kd.Lemma(real.deriv(X*X) == 2*X)\n",
    "real.deriv(X*X)\n",
    "real.const(2)*X"
   ]
  },
  {
   "cell_type": "code",
   "execution_count": null,
   "metadata": {},
   "outputs": [],
   "source": [
    "deriv(tan(X)) == sec(X)**2    # Derivative of tan(x) is sec(x)^2                                                                                      "
   ]
  },
  {
   "cell_type": "markdown",
   "metadata": {},
   "source": [
    "# Calculating compiler"
   ]
  },
  {
   "cell_type": "markdown",
   "metadata": {},
   "source": [
    "# knuck nat\n",
    "```python\n",
    "from kdrag.all import *\n",
    "\"\"\"\n",
    "import kdrag as kd\n",
    "import kdrag.theories.nat as nat\n",
    "import kdrag.smt as smt\n",
    "from kdrag.theories.nat import Nat, add\n",
    "\"\"\"\n",
    "Nat = nat.Nat\n",
    "add = nat.add\n",
    "n,m = smt.Consts(\"n m\", Nat)\n",
    "\n",
    "Lemma2 = kd.tactics.Lemma2\n",
    "\n",
    "\n",
    "l = Lemma2(smt.ForAll([n], n + Nat.zero == n))\n",
    "n1 = l.intros()\n",
    "l.apply(nat.induct)\n",
    "\n",
    "\n",
    "\n",
    "\n",
    "```\n",
    "\n",
    "\n",
    "\n",
    "\n",
    "    ?|- add(n!384, zero) == n!384\n",
    "\n",
    "\n",
    "\n",
    "Can vampire just do the induction?\n",
    "\n",
    "\n",
    "```python\n",
    "#solvers.VampireSolver()\n",
    "from kdrag.all import *\n",
    "add_n_0 = kd.kernel.lemma(smt.ForAll([n], n + Nat.zero == n), \n",
    "                          by=[nat.add.defn], \n",
    "                          solver=solvers.VampireSolver)\n",
    "add_comm = kd.kernel.lemma(smt.ForAll([n,m], n + m == m + n), \n",
    "                           by=[nat.add.defn, add_n_0], \n",
    "                           solver=solvers.VampireSolver)\n",
    "```\n",
    "\n",
    "\n",
    "```python\n",
    "add_comm = kd.kernel.lemma(smt.ForAll([n,m], n + m == m + n), \n",
    "                           by=[nat.add.defn], \n",
    "                           solver=solvers.VampireSolver)\n",
    "```\n",
    "\n",
    "\n",
    "```python\n",
    "! cat /tmp/vampire.smt2\n",
    "```\n",
    "\n",
    "    (set-logic ALL)\n",
    "    (declare-datatypes ((Nat 0)) (((zero) (succ (pred Nat)))))\n",
    "    (assert\n",
    "     (exists ((x Nat) )(= x x))\n",
    "    )\n",
    "    \n",
    "    ;;declarations\n",
    "    (declare-fun add (Nat Nat) Nat)\n",
    "    ;;axioms\n",
    "    (assert (forall ((n Nat) (m Nat))\n",
    "      (let ((a!1 (ite ((_ is zero) n) m (succ (add (pred n) m)))))\n",
    "        (= (add n m) a!1))))\n",
    "    (assert (forall ((n Nat)) (= (add n zero) n)))\n",
    "    (assert (not (forall ((n Nat) (m Nat)) (= (add n m) (add m n)))))\n",
    "    (check-sat)\n",
    "\n",
    "\n",
    "\n",
    "```python\n",
    "\n",
    "```\n",
    "\n",
    "\n",
    "\n",
    "\n",
    "&#8870;ForAll([n, m], add(n, m) == add(m, n))\n",
    "\n",
    "\n",
    "\n",
    "\n",
    "```python\n",
    "kd.kernel.lemma(smt.ForAll([n], n + Nat.zero == n), by=[nat.add.defn])\n",
    "```\n",
    "\n",
    "\n",
    "    ---------------------------------------------------------------------------\n",
    "\n",
    "    LemmaError                                Traceback (most recent call last)\n",
    "\n",
    "    Cell In[4], line 1\n",
    "    ----> 1 kd.kernel.lemma(smt.ForAll([n], n + Nat.zero == n), by=[nat.add.defn])\n",
    "\n",
    "\n",
    "    File ~/Documents/python/knuckledragger/kdrag/kernel.py:82, in lemma(thm, by, admit, timeout, dump, solver)\n",
    "         80     if res == smt.sat:\n",
    "         81         raise LemmaError(thm, \"Countermodel\", s.model())\n",
    "    ---> 82     raise LemmaError(\"lemma\", thm, res)\n",
    "         83 else:\n",
    "         84     return __Proof(thm, by, False)\n",
    "\n",
    "\n",
    "    LemmaError: ('lemma', ForAll(n, add(n, zero) == n), unknown)\n",
    "\n"
   ]
  }
 ],
 "metadata": {
  "kernelspec": {
   "display_name": "Python 3",
   "language": "python",
   "name": "python3"
  },
  "language_info": {
   "codemirror_mode": {
    "name": "ipython",
    "version": 3
   },
   "file_extension": ".py",
   "mimetype": "text/x-python",
   "name": "python",
   "nbconvert_exporter": "python",
   "pygments_lexer": "ipython3",
   "version": "3.10.12"
  }
 },
 "nbformat": 4,
 "nbformat_minor": 2
}
