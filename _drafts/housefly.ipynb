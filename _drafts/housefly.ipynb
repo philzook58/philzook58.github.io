{
 "cells": [
  {
   "cell_type": "markdown",
   "id": "2938919d",
   "metadata": {},
   "source": [
    "The housefly architecture.\n",
    "\n",
    "One way to do verification is find ways of importing all sorts of stuff into your proof system. You build a reference interpreter or logical specification of how the thing works. A bunch of arrows coming inward to a central point of Coq.\n",
    "\n",
    "A different approach is to vomit your guts out. This pushes everything foreign out of the core system. Other coimputer systems have developed their own methodology for fuzzing and verification. Inside your core verification system, you can transform your pretty spec in an assurred way to a form that can be pretty printed / extracted to the native syntax. Then bespoke verification / validation can be done, comparing the extracted version and an implementation.\n",
    "\n",
    "The arrows point out from the core system, and then there is an arrow between your extracted version and the natively written version.\n",
    "\n",
    "- yosys sby, ebmc, vendor specific verification stuff\n",
    "- cbmc, frama-c for C\n",
    "- AFL, symQemu, angr, etc for binary\n",
    "- Ocaml and haskell stuff like\n",
    "- Rust creusot, Kani, aeneas https://arxiv.org/pdf/2410.01981\n",
    "\n",
    "You do sort of have to implement twice, but maybe that's the least of our worries.\n",
    "\n",
    "\n",
    "\n",
    "In either case, you don't have to support extracting or ingesting aribitrary code. You can just bail.\n",
    "\n",
    "Pollack inconsistency. You could try to have the full loop to get more assruance.\n",
    "\n",
    "\n",
    "\n",
    "\n"
   ]
  }
 ],
 "metadata": {
  "language_info": {
   "name": "python"
  }
 },
 "nbformat": 4,
 "nbformat_minor": 5
}
