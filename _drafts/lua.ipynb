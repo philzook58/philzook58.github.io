{
 "cells": [
  {
   "cell_type": "code",
   "execution_count": 14,
   "id": "c95a0cec",
   "metadata": {},
   "outputs": [
    {
     "name": "stdout",
     "output_type": "stream",
     "text": [
      "hello world\n",
      "3\n",
      "string\n",
      "0.00265\n",
      "11\n"
     ]
    }
   ],
   "source": [
    "%%script bash -c \"cat > /tmp/test.lua && luajit /tmp/test.lua\"\n",
    "\n",
    "print(\"hello world\")\n",
    "t = {1,2,3}\n",
    "print(#t) -- prints 3\n",
    "print(type(type(t)))\n",
    "print(os.clock())\n",
    "\n",
    "function f(x)\n",
    "    return x + 1\n",
    "end\n",
    "\n",
    "print(f(10)) -- prints 11\n",
    "\n"
   ]
  },
  {
   "cell_type": "markdown",
   "id": "38ddfcdb",
   "metadata": {},
   "source": [
    "http://lua-users.org/files/wiki_insecure/users/thomasl/luarefv51single.pdf"
   ]
  }
 ],
 "metadata": {
  "kernelspec": {
   "display_name": "philzook58.github.io",
   "language": "python",
   "name": "python3"
  },
  "language_info": {
   "codemirror_mode": {
    "name": "ipython",
    "version": 3
   },
   "file_extension": ".py",
   "mimetype": "text/x-python",
   "name": "python",
   "nbconvert_exporter": "python",
   "pygments_lexer": "ipython3",
   "version": "3.12.3"
  }
 },
 "nbformat": 4,
 "nbformat_minor": 5
}
