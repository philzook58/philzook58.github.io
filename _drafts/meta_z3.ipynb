{
 "cells": [
  {
   "cell_type": "markdown",
   "metadata": {},
   "source": [
    "\n",
    "```                                                                        \n",
    "(declare-datatypes ((C 0)) (((C (re Real) (im Real)))))\n",
    "(declare-fun sin (Real) Real)\n",
    "(declare-fun cos (Real) Real)\n",
    "(declare-fun mul (C C) C)\n",
    "(declare-fun expi (Real) C)\n",
    "(assert (forall ((t Real) (s Real))\n",
    "  (let ((a!1 (C (- (* (cos t) (cos s)) (* (sin t) (sin s)))\n",
    "                (+ (* (cos t) (sin s)) (* (sin t) (cos s))))))\n",
    "    (= a!1 (C (cos (+ t s)) (sin (+ t s)))))))\n",
    "(assert (forall ((t Real) (s Real))\n",
    "  (let ((a!1 (C (- (* (cos t) (cos s)) (* (sin t) (sin s)))\n",
    "                (+ (* (cos t) (sin s)) (* (sin t) (cos s))))))\n",
    "    (= (mul (expi t) (expi s)) a!1))))\n",
    "(assert (let ((a!1 (forall ((t Real) (s Real))\n",
    "             (= (mul (expi t) (expi s)) (C (cos (+ t s)) (sin (+ t s)))))))\n",
    "  (not a!1)))\n",
    "(check-sat)\n",
    "\n",
    "```\n",
    "z3 can't do this one. vampire can. Porbably an ematching through + * problem\n",
    "\n",
    "# Staged Metaprogramming\n",
    "I had a post somewehre on this point. That programming z3 in python is staged metaprogramming.\n",
    "The meta system python can do partial evaluation.\n",
    "\n",
    "\n",
    "Can I eval z3 expressions in python metalayer? the other options is quoting \n",
    "Getting more homicornicity\n",
    "\n",
    "\n"
   ]
  },
  {
   "cell_type": "code",
   "execution_count": 1,
   "metadata": {},
   "outputs": [],
   "source": [
    "from z3 import *"
   ]
  },
  {
   "cell_type": "code",
   "execution_count": null,
   "metadata": {},
   "outputs": [],
   "source": [
    "def mypow(x:int,n:int) -> int:\n",
    "    assert n >= 0\n",
    "    if n == 0:\n",
    "        return 1\n",
    "    else:\n",
    "        x * mypow(x,n-1)\n",
    "\n",
    "# accumulator version?\n",
    "\n",
    "# string version\n",
    "# strings are a universal but somewhat structure free rep of code.\n",
    "Code = str\n",
    "def mypow2(n:int, x:Code) -> Code:\n",
    "    if x == 0:\n",
    "        return \"1\"\n",
    "    else:\n",
    "        f\"{x} * {mypow2(x,n-1)}\"\n",
    "\n",
    "mypow = lambda x,n: 1 if n <= 0 else x * mypow(x,n-1)\n",
    "\n",
    "mypow = Function(\"mypow\", IntSort(), IntSort(), IntSort())\n",
    "mypow_def = ForAll([x,n], mypow(n, x) == If(n <= 0, 1, x * mypow(n-1, x)))\n",
    "\n",
    "# Partially evaled\n",
    "def mypow(x:ExprRef, n:int) -> ExprRef:\n",
    "    if n == 0:\n",
    "        return IntVal(1)\n",
    "    else:\n",
    "        return x * mypow(x,n-1)\n",
    "\n",
    "\n"
   ]
  },
  {
   "cell_type": "markdown",
   "metadata": {},
   "source": [
    "They could be named in previous stages maybe?\n",
    "\n",
    "Am I pushing the choose operation to meta level instead of internalizing?\n",
    "\n",
    "The idea was a genheralization of typing problems. I want typing discharged before dealing with the actual problem (at static time). typing should be easy and typing failure should be noted as distinct from theorem failure."
   ]
  },
  {
   "cell_type": "code",
   "execution_count": null,
   "metadata": {},
   "outputs": [],
   "source": [
    "class StagedTheorem():\n",
    "    stages : list[BoolRef]\n",
    "\n",
    "    stages : list[dict[BoolRef, BoolRef]]\n",
    "\n",
    "    dict[ExprRef,ExprRef] # definitions exposed at different stages?\n",
    "\n",
    "\n"
   ]
  },
  {
   "cell_type": "code",
   "execution_count": null,
   "metadata": {},
   "outputs": [],
   "source": [
    "class StagedCegar():\n",
    "    static: dict[BoolRef, BoolRef] # mapping of opaque booleans variables b0 abstracting out details in dynamic program\n",
    "    dynamic: BoolRef  # contains references to b0 \n",
    "\n",
    "def quote(x : ExprRef):\n",
    "    x = FreshConst(e.sort())\n",
    "    ctx[x] = e\n",
    "    return x\n",
    "\n",
    "def unquote(x : ExprRef):\n",
    "    return ctx[x]\n",
    "\n",
    "pow(x) = quote()\n",
    "\n",
    "class QuoteExpr():\n",
    "    def __init__(self, e):\n",
    "    def __call__(self, *args):\n",
    "        return quote(self.f(*args))\n",
    "    def __add__(self, other):\n",
    "    def __get_attr__(self, name):\n",
    "        self.e.get_attr(name)\n",
    "        def res(*args):\n",
    "            return quote(e(*args))\n",
    "        return res\n",
    "    "
   ]
  },
  {
   "cell_type": "code",
   "execution_count": null,
   "metadata": {},
   "outputs": [],
   "source": []
  },
  {
   "cell_type": "markdown",
   "metadata": {},
   "source": [
    "# Def Eq\n",
    "We are maintaining a definition thing.\n",
    "\n",
    "\n",
    "\n",
    "Function(\"def_eq\")?\n",
    "Obviously too slippery (althoguh it is kind of meaningful if we so happen to hide the definition axioms)\n",
    "but better is the quoted version. We can kind of reflect definitional equality as an axiom schema into quoted terms.\n",
    "Function(\"def_eq\", z3_term, z3_term)\n",
    "\n",
    "Universes and metaprogramming layers feel similar ish. They're both a hiearchy of meta stuff.\n",
    "Relation to justified smt?\n",
    "\n"
   ]
  },
  {
   "cell_type": "code",
   "execution_count": null,
   "metadata": {},
   "outputs": [],
   "source": [
    "def defeq(t):\n",
    "    if in kernel.defns[t.decl()]"
   ]
  },
  {
   "cell_type": "markdown",
   "metadata": {},
   "source": [
    "# Quote\n",
    "\n",
    "\n",
    "\"oracle\"\n",
    "\n",
    "hilbert epsilon. \"choice function\". maybe that's more accurate? in the sense a formula is a set?\n",
    "\n",
    "\n",
    "\n",
    "self mutating sat\n",
    "\n",
    "continuations. self cegis\n",
    "\n",
    "Related to the above, we can also build a replication of some of z3's ast inside itself. The `quote` function is a metalevel python notion.\n",
    "\n",
    "https://arxiv.org/abs/1802.00405\n",
    "qe hol-light\n",
    "\n",
    "Quotation is rife with paradox, but I'm not sure that the way I've done it here can be? Since I haven't internalized quote into my logic.\n",
    "\n",
    "\n",
    "What about having an internalized Formula and solver functions. Similar to formulog but more homoiconic. So it makes sense to have 3 layers or more.\n",
    "Maybe a way of formulating \n",
    "\n",
    "smtlib macro\n",
    "Homoiconic. Who's to say there isn't a higher level z3 in which we are formulas embedded into. Is there a way to request things of this higher z3?\n",
    "python3 -m smtpp \n",
    "A magic # or something as a tick?\n",
    "\n",
    "This is also like clingo metaprogramming.\n",
    "\n",
    "TPTP could for serious use prolog as a preprecossor since it is iu the form of a prolog fact base.\n"
   ]
  },
  {
   "cell_type": "code",
   "execution_count": null,
   "metadata": {},
   "outputs": [],
   "source": [
    "from z3 import *\n",
    "#if __name__ == \"main\":\n",
    "#    # read string\n",
    "ast = from_smt2_string(\"(declare-const x Int) (declare-const n Int) (assert (forall ((x Int) (n Int)) (= (mypow x n) (ite (<= n 0) 1 (* x (mypow x (- n 1)))))))\")\n",
    "# separate out define-macros?\n",
    "# macros are just functions from syntax to syntax.\n",
    "# separate out asserts, check-sat, get-model, other commands, declare-const, declare-fun\n",
    "# define-fun, define-fun-rec, define-const, declare-const, declare-fun, declare-sort, define-sort, declare-datatypes, define-datatypes,\n",
    "\n",
    "s = Solver()\n",
    "macroexpand = DefineRecFunction(macroexpand)\n",
    "runtime_prog = Const(\"runtime_prog\", Code)\n",
    "s.add(runtime_prog == macroexpand(quote()))\n",
    "res = s.check()\n",
    "if res == sat:\n",
    "    unquote(s.model()[runtime_prog])\n",
    "# can I do staged asserts?\n",
    "\n",
    "\n",
    "\n",
    "\n"
   ]
  },
  {
   "cell_type": "code",
   "execution_count": null,
   "metadata": {},
   "outputs": [],
   "source": [
    "BoolExpr = Datatype(\"BoolExpr\")\n",
    "BoolExpr.declare(\"BoolVal\", (\"val\", BoolSort())) # splice kind of\n",
    "BoolExpr.declare(\"Var\", (\"name\", StringSort()))\n",
    "BoolExpr.declare(\"And\", (\"lhs\", BoolExpr), (\"rhs\", BoolExpr))\n",
    "BoolExpr.declare(\"Or\", (\"lhs\", BoolExpr), (\"rhs\", BoolExpr))\n",
    "BoolExpr.declare(\"Not\", (\"arg\", BoolExpr))\n",
    "BoolExpr.declare(\"Quote\", (\"arg\", BoolExpr))\n",
    "BoolExpr = BoolExpr.create()\n",
    "\n",
    "Model = ArraySort(StringSort(), BoolSort())\n",
    "sat = Function(\"sat\", BoolExpr, BoolSort()) # sat ~ exists model, interp(form, model)\n",
    "eps = Function(\"eps\", BoolExpr, Model) # eps ~ model, interp(form, model) = True\n",
    "satisfies = Function(\"satisifies\", BoolExpr, Model, BoolSort()) # M |= phi   relation.\n",
    "\n",
    "# satisfies(f, eps(f)) = sat(f)\n",
    "def cegis_loop(s : Solver):\n",
    "    res = s.check()\n",
    "    if = \n",
    "    m = s.model()\n"
   ]
  },
  {
   "cell_type": "code",
   "execution_count": 1,
   "metadata": {},
   "outputs": [
    {
     "ename": "SyntaxError",
     "evalue": "'(' was never closed (3140188254.py, line 22)",
     "output_type": "error",
     "traceback": [
      "\u001b[0;36m  Cell \u001b[0;32mIn[1], line 22\u001b[0;36m\u001b[0m\n\u001b[0;31m    IntExpr.declare(\"Quote\", (\"expr\", IntExpr)\u001b[0m\n\u001b[0m                   ^\u001b[0m\n\u001b[0;31mSyntaxError\u001b[0m\u001b[0;31m:\u001b[0m '(' was never closed\n"
     ]
    }
   ],
   "source": [
    "\"\"\"\n",
    "unityped\n",
    "Z3Expr = Datatype(\"Z3Expr\")\n",
    "Z3Expr.declare(\"IntVal\", (\"val\", IntSort()))\n",
    "Z3Expr.declare(\"Var\", (\"name\", StringSort()))\n",
    "Z3Expr.declare(\"And\", (\"lhs\", Z3Expr), (\"rhs\", Z3Expr))\n",
    "Z3Expr.declare(\"Or\", (\"lhs\", Z3Expr), (\"rhs\", Z3Expr))\n",
    "\"\"\"\n",
    "BoolExpr = Datatype(\"BoolExpr\")\n",
    "BoolExpr.declare(\"BoolVal\", (\"val\", BoolSort()))\n",
    "BoolExpr.declare(\"Var\", (\"name\", StringSort()))\n",
    "BoolExpr.declare(\"And\", (\"lhs\", BoolExpr), (\"rhs\", BoolExpr))\n",
    "BoolExpr.declare(\"Or\", (\"lhs\", BoolExpr), (\"rhs\", BoolExpr))\n",
    "BoolExpr.declare(\"Not\", (\"arg\", BoolExpr))\n",
    "BoolExpr = BoolExpr.create()\n",
    "# maybe reals is better\n",
    "IntExpr = Datatype(\"IntExpr\")\n",
    "IntExpr.declare(\"IntVal\", (\"val\", IntSort()))\n",
    "IntExpr.declare(\"Var\", (\"name\", StringSort()))\n",
    "IntExpr.declare(\"Add\", (\"lhs\", IntExpr), (\"rhs\", IntExpr))\n",
    "IntExpr.declare(\"Sub\", (\"lhs\", IntExpr), (\"rhs\", IntExpr))\n",
    "IntExpr.declare(\"Quote\", (\"expr\", IntExpr)\n",
    "IntExpr = IntExpr.create()\n",
    "\n",
    "\n",
    "Result = Datatype(\"Result\")\n",
    "Result.declare(\"sat\")\n",
    "Result.declare(\"unsat\")\n",
    "Result.declare(\"unknown\")\n",
    "Function(\"check-sat\" BoolSort())\n",
    "\n",
    "Value = Datatype(\"Value\")\n",
    "Value.declare(\"Int\", (\"int\", IntSort()))\n",
    "Value.declare(\"Bool\", (\"bool\", BoolSort()))\n",
    "Value = Value.create()\n",
    "Model = ArraySort(Id, Value) # Or refactor to (ArraySort(id, Bool), ArraySort(Id, Real))\n",
    "# Very similar to hilbert epsilon\n",
    "Function(\"get-model\", BoolExpr, Model)\n",
    "booleval = Function(\"booleval\", BoolExpr, Model)\n",
    "\n",
    "\n",
    "def quote(e : ExprRef)-> ExprRef:\n",
    "    match e.decl().name():\n",
    "        case \"IntVal\": return Z3Expr.IntVal(e)\n",
    "        #case \"Var\": return Z3Expr.Var(e)\n",
    "        case \"and\": return Z3Expr.And(quote(e.arg(0)), quote(e.arg(1)))\n",
    "        case \"or\": return Z3Expr.Or(quote(e.arg(0)), quote(e.arg(1)))\n",
    "        case _: raise Exception(f\"Unknown decl: {e.decl().name()}\")\n",
    "\n",
    "# eval = Function(Z3Expr, ArraySort(StringSort(), BoolSort()), BoolSort())\n",
    "# eval_def = ForAll([e,env], eval(e) == If( ... ))"
   ]
  },
  {
   "cell_type": "markdown",
   "metadata": {},
   "source": [
    "# User defined propagators\n",
    "https://microsoft.github.io/z3guide/programming/Example%20Programs/User%20Propagator/\n",
    "\n",
    "If I have some things I've proven, can I reflect them into z3's mechanisms?\n",
    "\n",
    " plant config paper https://web.ist.utl.pt/nuno.lopes/pubs/plantconfig-cpaior.pdf\n",
    "\n",
    "https://dl.acm.org/doi/abs/10.1007/978-3-031-24950-1_5 sat modulo custom thoeires\n",
    "\n",
    "But putting regular solving in a loop and looking at models to see if secret constraints are violated is just as viable? It may not be performant.\n",
    "\n",
    "\n",
    "Refinement typing via user propagator\n",
    "\n",
    "https://link.springer.com/chapter/10.1007/978-3-031-43513-3_2 Non-Classical Logics in Satisfiability Modulo Theories https://github.com/CEisenhofer/ModalZ3\n"
   ]
  },
  {
   "cell_type": "markdown",
   "metadata": {},
   "source": [
    "# Pattern matching on z3 asts\n"
   ]
  },
  {
   "cell_type": "code",
   "execution_count": 13,
   "metadata": {},
   "outputs": [
    {
     "data": {
      "text/plain": [
       "True"
      ]
     },
     "execution_count": 13,
     "metadata": {},
     "output_type": "execute_result"
    }
   ],
   "source": [
    "from typing import Optional, Iterable, Dict\n",
    "def match_(t : AstRef, pat : AstRef, vars : Iterable[ExprRef] = []) -> Optional[Dict[ExprRef,ExprRef]]:\n",
    "    subst = {}\n",
    "    todo = [(t,pat)]\n",
    "    while todo:\n",
    "        t,pat = todo.pop()\n",
    "        if pat in vars or is_var(pat): # allow var as pattern?\n",
    "            if pat in subst:\n",
    "                if subst[pat].eq(t):\n",
    "                    pass\n",
    "                else:\n",
    "                    return None\n",
    "            else:\n",
    "                subst[pat] = t\n",
    "        elif isinstance(t, QuantifierRef) or isinstance(pat, QuantifierRef):\n",
    "            raise NotImplementedError\n",
    "        else:\n",
    "            thead, targs = t.decl(), t.children()\n",
    "            phead, pargs = pat.decl(), pat.children()\n",
    "            if thead != phead or len(targs) != len(pargs): # check sorts here? The decl might check that\n",
    "                return None\n",
    "            todo.extend(zip(targs, pargs))\n",
    "    return subst\n",
    "\n",
    "E = DeclareSort(\"Expr\")\n",
    "foo = Function(\"foo\", E, E, E)\n",
    "bar = Function(\"bar\", E, E)\n",
    "a,b,c = Consts(\"a b c\", E)\n",
    "x,y,z = Consts(\"x y z\", E)\n",
    "vars = {x,y,z}\n",
    "\n",
    "assert match_(foo(x, bar(y)), foo(a, bar(b)), vars) == None\n",
    "assert match_(foo(a, bar(b)), foo(x, bar(y)), vars) == {x:a, y:b}\n",
    "assert match_(foo(a, bar(b)), foo(a, bar(b)), vars) == {}\n",
    "assert match_(foo(a, bar(b)), foo(x,x), vars) == None\n",
    "assert match_(foo(a, bar(a)), foo(x,bar(x)), vars) == {x:a}\n",
    "match_(foo(a, bar(a)), Lambda([x],foo(x,bar(x))).body()) == {Var(0, E):a}\n"
   ]
  },
  {
   "cell_type": "markdown",
   "metadata": {},
   "source": [
    "matching as an internalized construct.\n",
    "\n",
    "Note in my 2019 blog post I used an interesting keyword arg based desing\n"
   ]
  },
  {
   "cell_type": "code",
   "execution_count": null,
   "metadata": {},
   "outputs": [],
   "source": [
    "z3.DatatypeRef.match = lambda self, **kwargs: "
   ]
  },
  {
   "cell_type": "code",
   "execution_count": 8,
   "metadata": {},
   "outputs": [
    {
     "ename": "AttributeError",
     "evalue": "'ArithRef' object has no attribute 'body'",
     "output_type": "error",
     "traceback": [
      "\u001b[0;31m---------------------------------------------------------------------------\u001b[0m",
      "\u001b[0;31mAttributeError\u001b[0m                            Traceback (most recent call last)",
      "Cell \u001b[0;32mIn[8], line 1\u001b[0m\n\u001b[0;32m----> 1\u001b[0m \u001b[43mVar\u001b[49m\u001b[43m(\u001b[49m\u001b[38;5;241;43m0\u001b[39;49m\u001b[43m,\u001b[49m\u001b[43m \u001b[49m\u001b[43mIntSort\u001b[49m\u001b[43m(\u001b[49m\u001b[43m)\u001b[49m\u001b[43m)\u001b[49m\u001b[38;5;241;43m.\u001b[39;49m\u001b[43mbody\u001b[49m()\n",
      "\u001b[0;31mAttributeError\u001b[0m: 'ArithRef' object has no attribute 'body'"
     ]
    }
   ],
   "source": [
    "Var(0, IntSort())"
   ]
  },
  {
   "cell_type": "markdown",
   "metadata": {},
   "source": [
    "# Proof Display"
   ]
  },
  {
   "cell_type": "code",
   "execution_count": 8,
   "metadata": {},
   "outputs": [
    {
     "name": "stderr",
     "output_type": "stream",
     "text": [
      "/tmp/ipykernel_1070664/3665299815.py:1: DeprecationWarning: Importing display from IPython.core.display is deprecated since IPython 7.14, please import from IPython display\n",
      "  from IPython.core.display import display, HTML\n"
     ]
    },
    {
     "data": {
      "text/html": [
       "<div width=\"100px\"><hr></div>&forall;x"
      ],
      "text/plain": [
       "<IPython.core.display.HTML object>"
      ]
     },
     "metadata": {},
     "output_type": "display_data"
    }
   ],
   "source": [
    "from IPython.core.display import display, HTML\n",
    "display(HTML('<div width=\"100px\"><hr></div>&forall;x'))"
   ]
  },
  {
   "cell_type": "code",
   "execution_count": 26,
   "metadata": {},
   "outputs": [
    {
     "data": {
      "text/html": [
       "\n",
       "<style>\n",
       "  .proof-tree {\n",
       "    font-family: 'DejaVu Sans', Arial, sans-serif;\n",
       "    line-height: 1.5;\n",
       "    color: white; /* Set text color to white for dark background */\n",
       "  }\n",
       "  .rule {\n",
       "    display: flex;\n",
       "    flex-direction: column;\n",
       "    align-items: center;\n",
       "    margin-bottom: 20px;\n",
       "  }\n",
       "  .premises {\n",
       "    display: flex;\n",
       "    justify-content: bottom;\n",
       "    align-items: flex-end; \n",
       "  }\n",
       "  .premises div {\n",
       "    margin: 0 10px;\n",
       "  }\n",
       "  .conclusion {\n",
       "    border-top: 1px solid white; /* Set border color to white for visibility */\n",
       "    padding-top: 5px;\n",
       "    text-align: bottom;\n",
       "  }\n",
       "</style>\n",
       "\n",
       "<div class=\"proof-tree\">\n",
       "\n",
       "  <div class=\"rule\">\n",
       "    <div class=\"premises\">\n",
       "        <div class=\"rule\">\n",
       "        <div class=\"premises\">\n",
       "           <div class=\"conclusion\">A</div>\n",
       "           <div class=\"conclusion\">B</div>\n",
       "       </div>\n",
       "       <div class=\"conclusion\">A &#x2227; B</div>\n",
       "    </div>\n",
       "      <div class=\"conclusion\">C</div>\n",
       "    </div>\n",
       "    <div class=\"conclusion\">(A &#x2227; B) &#x2227; C</div>\n",
       "  </div>\n",
       "</div>\n"
      ],
      "text/plain": [
       "<IPython.core.display.HTML object>"
      ]
     },
     "execution_count": 26,
     "metadata": {},
     "output_type": "execute_result"
    }
   ],
   "source": [
    "from IPython.core.display import HTML\n",
    "\n",
    "html_content = \"\"\"\n",
    "<style>\n",
    "  .proof-tree {\n",
    "    font-family: 'DejaVu Sans', Arial, sans-serif;\n",
    "    line-height: 1.5;\n",
    "    color: white; /* Set text color to white for dark background */\n",
    "  }\n",
    "  .rule {\n",
    "    display: flex;\n",
    "    flex-direction: column;\n",
    "    align-items: center;\n",
    "    margin-bottom: 20px;\n",
    "  }\n",
    "  .premises {\n",
    "    display: flex;\n",
    "    justify-content: bottom;\n",
    "    align-items: flex-end; \n",
    "  }\n",
    "  .premises div {\n",
    "    margin: 0 10px;\n",
    "  }\n",
    "  .conclusion {\n",
    "    border-top: 1px solid white; /* Set border color to white for visibility */\n",
    "    padding-top: 5px;\n",
    "    text-align: bottom;\n",
    "  }\n",
    "</style>\n",
    "\n",
    "<div class=\"proof-tree\">\n",
    "\n",
    "  <div class=\"rule\">\n",
    "    <div class=\"premises\">\n",
    "        <div class=\"rule\">\n",
    "        <div class=\"premises\">\n",
    "           <div class=\"conclusion\">A</div>\n",
    "           <div class=\"conclusion\">B</div>\n",
    "       </div>\n",
    "       <div class=\"conclusion\">A &#x2227; B</div>\n",
    "    </div>\n",
    "      <div class=\"conclusion\">C</div>\n",
    "    </div>\n",
    "    <div class=\"conclusion\">(A &#x2227; B) &#x2227; C</div>\n",
    "  </div>\n",
    "</div>\n",
    "\"\"\"\n",
    "\n",
    "HTML(html_content)\n",
    "\n",
    "\n",
    "class Proof():\n",
    "    def tree(self, depth=3):\n",
    "        if depth <= 0:\n",
    "            return \"<div>...</div>\"\n",
    "        return f\"\"\"\n",
    "        <div class=\"premises\">\n",
    "          {\"\\n\".join(r.tree(depth-1) for r in self.reasons)}\n",
    "        </div>\n",
    "        <div class=\"conclusion\">{repr(self.thm)}</div>\n",
    "        \"\"\"\n",
    "\n"
   ]
  },
  {
   "cell_type": "markdown",
   "metadata": {},
   "source": [
    "# Python \n",
    "\n",
    "## typing\n",
    "My monkeypatching is not a great solution. It's janky. \n",
    "\n",
    "A registry connecting sorts to classes\n",
    "\n",
    "\n",
    "in z3py AstRef has __init__\n",
    "it takes ast reference and ctx\n",
    "\n",
    "cvc5 has ast reference and context in ExprRef, there is no ASTRef\n",
    "\n",
    "Using registries means python will never infer types well.\n",
    "I could put in a smart if then else for my most important builtins and leave the rest up to the registry\n",
    "\n",
    "if sort() == IntSort()\n",
    "\n",
    "If I were to just grab the pieces that would not be chill.\n",
    "\n",
    "What did Saul do?\n",
    "I could make kd.Record a decorator.\n",
    "\n",
    "classmethod\n",
    "\n",
    "@kd.Record\n",
    "\n",
    "@kd.Record\n",
    "class Foo:\n",
    "    x: Int (?)\n",
    "    y: Int\n",
    "\n",
    "This is a whole shithole I'm going down. Why am I doing it?\n"
   ]
  },
  {
   "cell_type": "code",
   "execution_count": 32,
   "metadata": {},
   "outputs": [
    {
     "ename": "TypeError",
     "evalue": "'NoneType' object is not subscriptable",
     "output_type": "error",
     "traceback": [
      "\u001b[0;31m---------------------------------------------------------------------------\u001b[0m",
      "\u001b[0;31mTypeError\u001b[0m                                 Traceback (most recent call last)",
      "Cell \u001b[0;32mIn[32], line 3\u001b[0m\n\u001b[1;32m      1\u001b[0m \u001b[38;5;28;01mimport\u001b[39;00m \u001b[38;5;21;01mknuckledragger\u001b[39;00m \u001b[38;5;28;01mas\u001b[39;00m \u001b[38;5;21;01mkd\u001b[39;00m\n\u001b[0;32m----> 3\u001b[0m \u001b[43mkd\u001b[49m\u001b[38;5;241;43m.\u001b[39;49m\u001b[43mkernel\u001b[49m\u001b[38;5;241;43m.\u001b[39;49m\u001b[43mProof\u001b[49m\u001b[43m[\u001b[49m\u001b[38;5;124;43m\"\u001b[39;49m\u001b[38;5;124;43mHello world\u001b[39;49m\u001b[38;5;124;43m\"\u001b[39;49m\u001b[43m]\u001b[49m\n",
      "\u001b[0;31mTypeError\u001b[0m: 'NoneType' object is not subscriptable"
     ]
    }
   ],
   "source": [
    "import knuckledragger as kd\n",
    "\n",
    "kd.kernel.Proof[\"Hello world\"]"
   ]
  },
  {
   "cell_type": "code",
   "execution_count": null,
   "metadata": {},
   "outputs": [],
   "source": [
    "\n",
    "class ExprRef(ExprRef):\n",
    "    \"\"\"Only for improved type checking. Need more full rewrapping of FuncDecl etc if we really want to go this way.\"\"\"\n",
    "    def __add__(self, other):\n",
    "        pass"
   ]
  },
  {
   "cell_type": "code",
   "execution_count": null,
   "metadata": {},
   "outputs": [],
   "source": [
    "# I guess os could go tyhe other way or be one-to-many, many to many?\n",
    "# This seems natrual though\n",
    "#sort_registry : dict[SortRef, type] = {}\n",
    "\n",
    "# hmm it's not quite the same, because I want the wrap to return the wrapped value\n",
    "class_ : Callable[ExprRef, type] = kd.notation.SortDispatch() #$ returns class\n",
    "def wrap(x : ExprRef) -> class_[x.sort()]:\n",
    "    x.__class__ = class_(x)\n",
    "    return x\n",
    "ExprRef.wrap = wrap\n",
    "\n",
    "old_Const = Const\n",
    "def Const(name, sort):\n",
    "    x = old_Const(name, sort)\n",
    "    if sort in class_:\n",
    "        return wrap(x)\n",
    "    else:\n",
    "        return x\n"
   ]
  },
  {
   "cell_type": "markdown",
   "metadata": {},
   "source": [
    "### pyi file\n",
    "https://mypy.readthedocs.io/en/stable/stubs.html\n"
   ]
  },
  {
   "cell_type": "code",
   "execution_count": null,
   "metadata": {},
   "outputs": [],
   "source": [
    "import knuckledragger as kd\n",
    "\n",
    "class AstRef: ...\n",
    "\n",
    "class ExprRef(AstRef):\n",
    "    def __add__(self, other: ExprRef) -> ExprRef: ...\n",
    "    def __radd__(self, other: ExprRef) -> ExprRef: ...\n",
    "    def __sub__(self, other: ExprRef) -> ExprRef: ...\n",
    "\n",
    "class FuncDeclRef:\n",
    "    defn: kd.kernel.Proof\n"
   ]
  },
  {
   "cell_type": "code",
   "execution_count": null,
   "metadata": {},
   "outputs": [],
   "source": []
  },
  {
   "cell_type": "code",
   "execution_count": null,
   "metadata": {},
   "outputs": [],
   "source": [
    "class MyRecordSort(DatatypeSortRef):\n",
    "\n",
    "class MyRecord(DatatypeRef):\n",
    "    def __init__(self, name):\n",
    "        self = Const(name, MyRecordSort)\n",
    "    @property\n",
    "    def x(self):\n",
    "        return MyRecordSort.x(self)\n",
    "class MyRecordVal(DatatypeRef):\n",
    "    def __init__(self, *args):\n",
    "        self = MyRecordSort(*args)\n",
    "    @property\n",
    "    def x(self):\n",
    "        return MyRecordSort.x(self)\n",
    "\n",
    "def Const(name, sort : SortRef):\n"
   ]
  },
  {
   "cell_type": "code",
   "execution_count": null,
   "metadata": {},
   "outputs": [],
   "source": [
    "@dataclass(frozen=True)\n",
    "class Nat(DatatypeRef):\n",
    "    wf_pf : kd.Proof\n",
    "# but the proof is usually contextual?\n"
   ]
  },
  {
   "cell_type": "markdown",
   "metadata": {},
   "source": [
    "## python syntax / applicative python\n",
    "https://docs.python.org/3/library/codecs.html#codecs.register\n",
    "https://docs.python.org/3/reference/import.html\n",
    "https://news.ycombinator.com/item?id=41322758 python's preprocessor. Fiendish macros.\n",
    "\n",
    "I have seen people do special stuff in jupyter. I don't rerally liek any of that\n",
    "\n",
    "Nelli\n",
    "Ast. Rewrite if elif else -> If\n",
    "rewrite return to null?\n",
    "Overloading kind of works, except \n",
    "and or not to And Or Not\n",
    "If\n",
    "rewrite x <= y <= z\n",
    "\n",
    "\n",
    "could convert ifthenelse to `x if c else`.\n",
    "Nah.\n",
    "\n",
    "chococpy\n",
    "codon\n",
    "mypyc\n",
    "\n",
    "\n",
    "buildit style\n",
    "\n"
   ]
  },
  {
   "cell_type": "code",
   "execution_count": 1,
   "metadata": {},
   "outputs": [
    {
     "name": "stdout",
     "output_type": "stream",
     "text": [
      "asked\n",
      "yes\n"
     ]
    }
   ],
   "source": [
    "class Bool():\n",
    "    def __bool__(self):\n",
    "        print(\"asked\")\n",
    "        return True\n",
    "    \n",
    "\n",
    "b = Bool()\n",
    "if b:\n",
    "    print(\"yes\")\n",
    "else:\n",
    "    print(\"no\")\n",
    "\n",
    "import z3\n",
    "\n",
    "ctx = None\n",
    "path = []\n",
    "s = Solver()\n",
    "def record_bool():\n",
    "    s.check()\n",
    "    path.append()\n",
    "\n",
    "z3.BoolRef.__bool__ = lambda self, \n",
    "def reify(f, vs):\n",
    "    global ctx\n",
    "    ctx = [m]\n",
    "    while True:\n",
    "        retval = f(vs)\n",
    "        \n",
    "    ctx = None\n",
    "\n",
    "@reify\n",
    "def example(x):\n",
    "    if x == 7:\n",
    "        return 3\n",
    "    else:\n",
    "        if x > 14:\n",
    "            return 4\n",
    "        else:\n",
    "            return 5\n"
   ]
  },
  {
   "cell_type": "markdown",
   "metadata": {},
   "source": [
    "# Lark notation\n",
    "\n",
    "https://claude.ai/chat/6ddab7ff-d1ba-40d2-9b9c-1a64b5cebd71\n",
    "\n",
    "Hmm. I really need type inference to make this pleasant\n",
    "foo == bar makes it hard to know what foo is.\n",
    "\n",
    "What if I used the python env.\n",
    "Any constqnt is just looked up in the caller's env\n",
    "\n",
    "lark has a python grammar.\n",
    "\n",
    "I kind of want python, but with different function call syntax and implices, forall, exists.\n",
    "https://github.com/lark-parser/lark/blob/master/lark/grammars/python.lark\n"
   ]
  },
  {
   "cell_type": "code",
   "execution_count": 26,
   "metadata": {},
   "outputs": [
    {
     "ename": "GrammarError",
     "evalue": "Reduce/Reduce collision in Terminal('__ANON_6') between the following rules: \n\t- <atom : >\n\t- <atom_expr : __atom_expr_plus_9>\n\nReduce/Reduce collision in Terminal('$END') between the following rules: \n\t- <atom : >\n\t- <atom_expr : __atom_expr_plus_9>\n\nReduce/Reduce collision in Terminal('OR') between the following rules: \n\t- <atom : >\n\t- <atom_expr : __atom_expr_plus_9>\n\nReduce/Reduce collision in Terminal('IF') between the following rules: \n\t- <atom : >\n\t- <atom_expr : __atom_expr_plus_9>\n\nReduce/Reduce collision in Terminal('IS') between the following rules: \n\t- <atom : >\n\t- <atom_expr : __atom_expr_plus_9>\n\nReduce/Reduce collision in Terminal('PERCENT') between the following rules: \n\t- <atom : >\n\t- <atom_expr : __atom_expr_plus_9>\n\nReduce/Reduce collision in Terminal('IN') between the following rules: \n\t- <atom : >\n\t- <atom_expr : __atom_expr_plus_9>\n\nReduce/Reduce collision in Terminal('__ANON_0') between the following rules: \n\t- <atom : >\n\t- <atom_expr : __atom_expr_plus_9>\n\nReduce/Reduce collision in Terminal('LESSTHAN') between the following rules: \n\t- <atom : >\n\t- <atom_expr : __atom_expr_plus_9>\n\nReduce/Reduce collision in Terminal('__ANON_3') between the following rules: \n\t- <atom : >\n\t- <atom_expr : __atom_expr_plus_9>\n\nReduce/Reduce collision in Terminal('RPAR') between the following rules: \n\t- <atom : >\n\t- <atom_expr : __atom_expr_plus_9>\n\nReduce/Reduce collision in Terminal('__ANON_1') between the following rules: \n\t- <atom : >\n\t- <atom_expr : __atom_expr_plus_9>\n\nReduce/Reduce collision in Terminal('VBAR') between the following rules: \n\t- <atom : >\n\t- <atom_expr : __atom_expr_plus_9>\n\nReduce/Reduce collision in Terminal('__ANON_2') between the following rules: \n\t- <atom : >\n\t- <atom_expr : __atom_expr_plus_9>\n\nReduce/Reduce collision in Terminal('AMPERSAND') between the following rules: \n\t- <atom : >\n\t- <atom_expr : __atom_expr_plus_9>\n\nReduce/Reduce collision in Terminal('AND') between the following rules: \n\t- <atom : >\n\t- <atom_expr : __atom_expr_plus_9>\n\nReduce/Reduce collision in Terminal('__ANON_5') between the following rules: \n\t- <atom : >\n\t- <atom_expr : __atom_expr_plus_9>\n\nReduce/Reduce collision in Terminal('__ANON_7') between the following rules: \n\t- <atom : >\n\t- <atom_expr : __atom_expr_plus_9>\n\nReduce/Reduce collision in Terminal('STAR') between the following rules: \n\t- <atom : >\n\t- <atom_expr : __atom_expr_plus_9>\n\nReduce/Reduce collision in Terminal('__ANON_4') between the following rules: \n\t- <atom : >\n\t- <atom_expr : __atom_expr_plus_9>\n\nReduce/Reduce collision in Terminal('PLUS') between the following rules: \n\t- <atom : >\n\t- <atom_expr : __atom_expr_plus_9>\n\nReduce/Reduce collision in Terminal('MORETHAN') between the following rules: \n\t- <atom : >\n\t- <atom_expr : __atom_expr_plus_9>\n\nReduce/Reduce collision in Terminal('MINUS') between the following rules: \n\t- <atom : >\n\t- <atom_expr : __atom_expr_plus_9>\n\nReduce/Reduce collision in Terminal('__ANON_8') between the following rules: \n\t- <atom : >\n\t- <atom_expr : __atom_expr_plus_9>\n\nReduce/Reduce collision in Terminal('NOT') between the following rules: \n\t- <atom : >\n\t- <atom_expr : __atom_expr_plus_9>\n\nReduce/Reduce collision in Terminal('CIRCUMFLEX') between the following rules: \n\t- <atom : >\n\t- <atom_expr : __atom_expr_plus_9>\n\nReduce/Reduce collision in Terminal('AT') between the following rules: \n\t- <atom : >\n\t- <atom_expr : __atom_expr_plus_9>\n\nReduce/Reduce collision in Terminal('SLASH') between the following rules: \n\t- <atom : >\n\t- <atom_expr : __atom_expr_plus_9>\n\nReduce/Reduce collision in Terminal('ELSE') between the following rules: \n\t- <atom : >\n\t- <atom_expr : __atom_expr_plus_9>",
     "output_type": "error",
     "traceback": [
      "\u001b[0;31m---------------------------------------------------------------------------\u001b[0m",
      "\u001b[0;31mGrammarError\u001b[0m                              Traceback (most recent call last)",
      "Cell \u001b[0;32mIn[26], line 66\u001b[0m\n\u001b[1;32m      1\u001b[0m \u001b[38;5;28;01mfrom\u001b[39;00m \u001b[38;5;21;01mlark\u001b[39;00m \u001b[38;5;28;01mimport\u001b[39;00m Lark, Transformer, v_args\n\u001b[1;32m      2\u001b[0m pyexpr \u001b[38;5;241m=\u001b[39m \u001b[38;5;124m\"\"\"\u001b[39m\n\u001b[1;32m      3\u001b[0m \u001b[38;5;124m?test: or_test (\u001b[39m\u001b[38;5;124m\"\u001b[39m\u001b[38;5;124mif\u001b[39m\u001b[38;5;124m\"\u001b[39m\u001b[38;5;124m or_test \u001b[39m\u001b[38;5;124m\"\u001b[39m\u001b[38;5;124melse\u001b[39m\u001b[38;5;124m\"\u001b[39m\u001b[38;5;124m test)?\u001b[39m\n\u001b[1;32m      4\u001b[0m \n\u001b[0;32m   (...)\u001b[0m\n\u001b[1;32m     63\u001b[0m \u001b[38;5;124mIMAG_NUMBER.2: (_SPECIAL_DEC      | FLOAT_NUMBER) (\u001b[39m\u001b[38;5;124m\"\u001b[39m\u001b[38;5;124mJ\u001b[39m\u001b[38;5;124m\"\u001b[39m\u001b[38;5;124m | \u001b[39m\u001b[38;5;124m\"\u001b[39m\u001b[38;5;124mj\u001b[39m\u001b[38;5;124m\"\u001b[39m\u001b[38;5;124m)\u001b[39m\n\u001b[1;32m     64\u001b[0m \u001b[38;5;124m\"\"\"\u001b[39m\n\u001b[0;32m---> 66\u001b[0m \u001b[43mLark\u001b[49m\u001b[43m(\u001b[49m\u001b[43mpyexpr\u001b[49m\u001b[43m,\u001b[49m\u001b[43m \u001b[49m\u001b[43mstart\u001b[49m\u001b[38;5;241;43m=\u001b[39;49m\u001b[38;5;124;43m\"\u001b[39;49m\u001b[38;5;124;43mtest\u001b[39;49m\u001b[38;5;124;43m\"\u001b[39;49m\u001b[43m,\u001b[49m\u001b[43m \u001b[49m\u001b[43mparser\u001b[49m\u001b[38;5;241;43m=\u001b[39;49m\u001b[38;5;124;43m\"\u001b[39;49m\u001b[38;5;124;43mlalr\u001b[39;49m\u001b[38;5;124;43m\"\u001b[39;49m\u001b[43m)\u001b[49m\u001b[38;5;241m.\u001b[39mparse(\u001b[38;5;124m\"\u001b[39m\u001b[38;5;124mx + 1\u001b[39m\u001b[38;5;124m\"\u001b[39m)\n",
      "File \u001b[0;32m~/.local/lib/python3.10/site-packages/lark/lark.py:380\u001b[0m, in \u001b[0;36mLark.__init__\u001b[0;34m(self, grammar, **options)\u001b[0m\n\u001b[1;32m    374\u001b[0m \u001b[38;5;28mself\u001b[39m\u001b[38;5;241m.\u001b[39mlexer_conf \u001b[38;5;241m=\u001b[39m LexerConf(\n\u001b[1;32m    375\u001b[0m         \u001b[38;5;28mself\u001b[39m\u001b[38;5;241m.\u001b[39mterminals, re_module, \u001b[38;5;28mself\u001b[39m\u001b[38;5;241m.\u001b[39mignore_tokens, \u001b[38;5;28mself\u001b[39m\u001b[38;5;241m.\u001b[39moptions\u001b[38;5;241m.\u001b[39mpostlex,\n\u001b[1;32m    376\u001b[0m         \u001b[38;5;28mself\u001b[39m\u001b[38;5;241m.\u001b[39moptions\u001b[38;5;241m.\u001b[39mlexer_callbacks, \u001b[38;5;28mself\u001b[39m\u001b[38;5;241m.\u001b[39moptions\u001b[38;5;241m.\u001b[39mg_regex_flags, use_bytes\u001b[38;5;241m=\u001b[39m\u001b[38;5;28mself\u001b[39m\u001b[38;5;241m.\u001b[39moptions\u001b[38;5;241m.\u001b[39muse_bytes\n\u001b[1;32m    377\u001b[0m     )\n\u001b[1;32m    379\u001b[0m \u001b[38;5;28;01mif\u001b[39;00m \u001b[38;5;28mself\u001b[39m\u001b[38;5;241m.\u001b[39moptions\u001b[38;5;241m.\u001b[39mparser:\n\u001b[0;32m--> 380\u001b[0m     \u001b[38;5;28mself\u001b[39m\u001b[38;5;241m.\u001b[39mparser \u001b[38;5;241m=\u001b[39m \u001b[38;5;28;43mself\u001b[39;49m\u001b[38;5;241;43m.\u001b[39;49m\u001b[43m_build_parser\u001b[49m\u001b[43m(\u001b[49m\u001b[43m)\u001b[49m\n\u001b[1;32m    381\u001b[0m \u001b[38;5;28;01melif\u001b[39;00m lexer:\n\u001b[1;32m    382\u001b[0m     \u001b[38;5;28mself\u001b[39m\u001b[38;5;241m.\u001b[39mlexer \u001b[38;5;241m=\u001b[39m \u001b[38;5;28mself\u001b[39m\u001b[38;5;241m.\u001b[39m_build_lexer()\n",
      "File \u001b[0;32m~/.local/lib/python3.10/site-packages/lark/lark.py:422\u001b[0m, in \u001b[0;36mLark._build_parser\u001b[0;34m(self)\u001b[0m\n\u001b[1;32m    420\u001b[0m parser_class \u001b[38;5;241m=\u001b[39m get_frontend(\u001b[38;5;28mself\u001b[39m\u001b[38;5;241m.\u001b[39moptions\u001b[38;5;241m.\u001b[39mparser, \u001b[38;5;28mself\u001b[39m\u001b[38;5;241m.\u001b[39moptions\u001b[38;5;241m.\u001b[39mlexer)\n\u001b[1;32m    421\u001b[0m parser_conf \u001b[38;5;241m=\u001b[39m ParserConf(\u001b[38;5;28mself\u001b[39m\u001b[38;5;241m.\u001b[39mrules, \u001b[38;5;28mself\u001b[39m\u001b[38;5;241m.\u001b[39m_callbacks, \u001b[38;5;28mself\u001b[39m\u001b[38;5;241m.\u001b[39moptions\u001b[38;5;241m.\u001b[39mstart)\n\u001b[0;32m--> 422\u001b[0m \u001b[38;5;28;01mreturn\u001b[39;00m \u001b[43mparser_class\u001b[49m\u001b[43m(\u001b[49m\u001b[38;5;28;43mself\u001b[39;49m\u001b[38;5;241;43m.\u001b[39;49m\u001b[43mlexer_conf\u001b[49m\u001b[43m,\u001b[49m\u001b[43m \u001b[49m\u001b[43mparser_conf\u001b[49m\u001b[43m,\u001b[49m\u001b[43m \u001b[49m\u001b[43moptions\u001b[49m\u001b[38;5;241;43m=\u001b[39;49m\u001b[38;5;28;43mself\u001b[39;49m\u001b[38;5;241;43m.\u001b[39;49m\u001b[43moptions\u001b[49m\u001b[43m)\u001b[49m\n",
      "File \u001b[0;32m~/.local/lib/python3.10/site-packages/lark/parser_frontends.py:40\u001b[0m, in \u001b[0;36mMakeParsingFrontend.__call__\u001b[0;34m(self, lexer_conf, parser_conf, options)\u001b[0m\n\u001b[1;32m     38\u001b[0m parser_conf\u001b[38;5;241m.\u001b[39mparser_type \u001b[38;5;241m=\u001b[39m \u001b[38;5;28mself\u001b[39m\u001b[38;5;241m.\u001b[39mparser_type\n\u001b[1;32m     39\u001b[0m lexer_conf\u001b[38;5;241m.\u001b[39mlexer_type \u001b[38;5;241m=\u001b[39m \u001b[38;5;28mself\u001b[39m\u001b[38;5;241m.\u001b[39mlexer_type\n\u001b[0;32m---> 40\u001b[0m \u001b[38;5;28;01mreturn\u001b[39;00m \u001b[43mParsingFrontend\u001b[49m\u001b[43m(\u001b[49m\u001b[43mlexer_conf\u001b[49m\u001b[43m,\u001b[49m\u001b[43m \u001b[49m\u001b[43mparser_conf\u001b[49m\u001b[43m,\u001b[49m\u001b[43m \u001b[49m\u001b[43moptions\u001b[49m\u001b[43m)\u001b[49m\n",
      "File \u001b[0;32m~/.local/lib/python3.10/site-packages/lark/parser_frontends.py:68\u001b[0m, in \u001b[0;36mParsingFrontend.__init__\u001b[0;34m(self, lexer_conf, parser_conf, options, parser)\u001b[0m\n\u001b[1;32m     62\u001b[0m \u001b[38;5;28;01melse\u001b[39;00m:\n\u001b[1;32m     63\u001b[0m     create_parser \u001b[38;5;241m=\u001b[39m {\n\u001b[1;32m     64\u001b[0m         \u001b[38;5;124m'\u001b[39m\u001b[38;5;124mlalr\u001b[39m\u001b[38;5;124m'\u001b[39m: create_lalr_parser,\n\u001b[1;32m     65\u001b[0m         \u001b[38;5;124m'\u001b[39m\u001b[38;5;124mearley\u001b[39m\u001b[38;5;124m'\u001b[39m: create_earley_parser,\n\u001b[1;32m     66\u001b[0m         \u001b[38;5;124m'\u001b[39m\u001b[38;5;124mcyk\u001b[39m\u001b[38;5;124m'\u001b[39m: CYK_FrontEnd,\n\u001b[1;32m     67\u001b[0m     }[parser_conf\u001b[38;5;241m.\u001b[39mparser_type]\n\u001b[0;32m---> 68\u001b[0m     \u001b[38;5;28mself\u001b[39m\u001b[38;5;241m.\u001b[39mparser \u001b[38;5;241m=\u001b[39m \u001b[43mcreate_parser\u001b[49m\u001b[43m(\u001b[49m\u001b[43mlexer_conf\u001b[49m\u001b[43m,\u001b[49m\u001b[43m \u001b[49m\u001b[43mparser_conf\u001b[49m\u001b[43m,\u001b[49m\u001b[43m \u001b[49m\u001b[43moptions\u001b[49m\u001b[43m)\u001b[49m\n\u001b[1;32m     70\u001b[0m \u001b[38;5;66;03m# Set-up lexer\u001b[39;00m\n\u001b[1;32m     71\u001b[0m lexer_type \u001b[38;5;241m=\u001b[39m lexer_conf\u001b[38;5;241m.\u001b[39mlexer_type\n",
      "File \u001b[0;32m~/.local/lib/python3.10/site-packages/lark/parser_frontends.py:161\u001b[0m, in \u001b[0;36mcreate_lalr_parser\u001b[0;34m(lexer_conf, parser_conf, options)\u001b[0m\n\u001b[1;32m    159\u001b[0m \u001b[38;5;28;01mdef\u001b[39;00m \u001b[38;5;21mcreate_lalr_parser\u001b[39m(lexer_conf, parser_conf, options\u001b[38;5;241m=\u001b[39m\u001b[38;5;28;01mNone\u001b[39;00m):\n\u001b[1;32m    160\u001b[0m     debug \u001b[38;5;241m=\u001b[39m options\u001b[38;5;241m.\u001b[39mdebug \u001b[38;5;28;01mif\u001b[39;00m options \u001b[38;5;28;01melse\u001b[39;00m \u001b[38;5;28;01mFalse\u001b[39;00m\n\u001b[0;32m--> 161\u001b[0m     \u001b[38;5;28;01mreturn\u001b[39;00m \u001b[43mLALR_Parser\u001b[49m\u001b[43m(\u001b[49m\u001b[43mparser_conf\u001b[49m\u001b[43m,\u001b[49m\u001b[43m \u001b[49m\u001b[43mdebug\u001b[49m\u001b[38;5;241;43m=\u001b[39;49m\u001b[43mdebug\u001b[49m\u001b[43m)\u001b[49m\n",
      "File \u001b[0;32m~/.local/lib/python3.10/site-packages/lark/parsers/lalr_parser.py:19\u001b[0m, in \u001b[0;36mLALR_Parser.__init__\u001b[0;34m(self, parser_conf, debug)\u001b[0m\n\u001b[1;32m     17\u001b[0m \u001b[38;5;28;01mdef\u001b[39;00m \u001b[38;5;21m__init__\u001b[39m(\u001b[38;5;28mself\u001b[39m, parser_conf, debug\u001b[38;5;241m=\u001b[39m\u001b[38;5;28;01mFalse\u001b[39;00m):\n\u001b[1;32m     18\u001b[0m     analysis \u001b[38;5;241m=\u001b[39m LALR_Analyzer(parser_conf, debug\u001b[38;5;241m=\u001b[39mdebug)\n\u001b[0;32m---> 19\u001b[0m     \u001b[43manalysis\u001b[49m\u001b[38;5;241;43m.\u001b[39;49m\u001b[43mcompute_lalr\u001b[49m\u001b[43m(\u001b[49m\u001b[43m)\u001b[49m\n\u001b[1;32m     20\u001b[0m     callbacks \u001b[38;5;241m=\u001b[39m parser_conf\u001b[38;5;241m.\u001b[39mcallbacks\n\u001b[1;32m     22\u001b[0m     \u001b[38;5;28mself\u001b[39m\u001b[38;5;241m.\u001b[39m_parse_table \u001b[38;5;241m=\u001b[39m analysis\u001b[38;5;241m.\u001b[39mparse_table\n",
      "File \u001b[0;32m~/.local/lib/python3.10/site-packages/lark/parsers/lalr_analysis.py:304\u001b[0m, in \u001b[0;36mLALR_Analyzer.compute_lalr\u001b[0;34m(self)\u001b[0m\n\u001b[1;32m    302\u001b[0m \u001b[38;5;28mself\u001b[39m\u001b[38;5;241m.\u001b[39mcompute_includes_lookback()\n\u001b[1;32m    303\u001b[0m \u001b[38;5;28mself\u001b[39m\u001b[38;5;241m.\u001b[39mcompute_lookaheads()\n\u001b[0;32m--> 304\u001b[0m \u001b[38;5;28;43mself\u001b[39;49m\u001b[38;5;241;43m.\u001b[39;49m\u001b[43mcompute_lalr1_states\u001b[49m\u001b[43m(\u001b[49m\u001b[43m)\u001b[49m\n",
      "File \u001b[0;32m~/.local/lib/python3.10/site-packages/lark/parsers/lalr_analysis.py:279\u001b[0m, in \u001b[0;36mLALR_Analyzer.compute_lalr1_states\u001b[0;34m(self)\u001b[0m\n\u001b[1;32m    277\u001b[0m             msg \u001b[38;5;241m+\u001b[39m\u001b[38;5;241m=\u001b[39m \u001b[38;5;124m'\u001b[39m\u001b[38;5;130;01m\\n\u001b[39;00m\u001b[38;5;124m    collision occurred in state: \u001b[39m\u001b[38;5;124m{\u001b[39m\u001b[38;5;132;01m%s\u001b[39;00m\u001b[38;5;130;01m\\n\u001b[39;00m\u001b[38;5;124m    }\u001b[39m\u001b[38;5;124m'\u001b[39m \u001b[38;5;241m%\u001b[39m \u001b[38;5;124m'\u001b[39m\u001b[38;5;124m'\u001b[39m\u001b[38;5;241m.\u001b[39mjoin([\u001b[38;5;124m'\u001b[39m\u001b[38;5;130;01m\\n\u001b[39;00m\u001b[38;5;130;01m\\t\u001b[39;00m\u001b[38;5;124m'\u001b[39m \u001b[38;5;241m+\u001b[39m \u001b[38;5;28mstr\u001b[39m(x) \u001b[38;5;28;01mfor\u001b[39;00m x \u001b[38;5;129;01min\u001b[39;00m state\u001b[38;5;241m.\u001b[39mclosure])\n\u001b[1;32m    278\u001b[0m         msgs\u001b[38;5;241m.\u001b[39mappend(msg)\n\u001b[0;32m--> 279\u001b[0m     \u001b[38;5;28;01mraise\u001b[39;00m GrammarError(\u001b[38;5;124m'\u001b[39m\u001b[38;5;130;01m\\n\u001b[39;00m\u001b[38;5;130;01m\\n\u001b[39;00m\u001b[38;5;124m'\u001b[39m\u001b[38;5;241m.\u001b[39mjoin(msgs))\n\u001b[1;32m    281\u001b[0m states \u001b[38;5;241m=\u001b[39m { k\u001b[38;5;241m.\u001b[39mclosure: v \u001b[38;5;28;01mfor\u001b[39;00m k, v \u001b[38;5;129;01min\u001b[39;00m m\u001b[38;5;241m.\u001b[39mitems() }\n\u001b[1;32m    283\u001b[0m \u001b[38;5;66;03m# compute end states\u001b[39;00m\n",
      "\u001b[0;31mGrammarError\u001b[0m: Reduce/Reduce collision in Terminal('__ANON_6') between the following rules: \n\t- <atom : >\n\t- <atom_expr : __atom_expr_plus_9>\n\nReduce/Reduce collision in Terminal('$END') between the following rules: \n\t- <atom : >\n\t- <atom_expr : __atom_expr_plus_9>\n\nReduce/Reduce collision in Terminal('OR') between the following rules: \n\t- <atom : >\n\t- <atom_expr : __atom_expr_plus_9>\n\nReduce/Reduce collision in Terminal('IF') between the following rules: \n\t- <atom : >\n\t- <atom_expr : __atom_expr_plus_9>\n\nReduce/Reduce collision in Terminal('IS') between the following rules: \n\t- <atom : >\n\t- <atom_expr : __atom_expr_plus_9>\n\nReduce/Reduce collision in Terminal('PERCENT') between the following rules: \n\t- <atom : >\n\t- <atom_expr : __atom_expr_plus_9>\n\nReduce/Reduce collision in Terminal('IN') between the following rules: \n\t- <atom : >\n\t- <atom_expr : __atom_expr_plus_9>\n\nReduce/Reduce collision in Terminal('__ANON_0') between the following rules: \n\t- <atom : >\n\t- <atom_expr : __atom_expr_plus_9>\n\nReduce/Reduce collision in Terminal('LESSTHAN') between the following rules: \n\t- <atom : >\n\t- <atom_expr : __atom_expr_plus_9>\n\nReduce/Reduce collision in Terminal('__ANON_3') between the following rules: \n\t- <atom : >\n\t- <atom_expr : __atom_expr_plus_9>\n\nReduce/Reduce collision in Terminal('RPAR') between the following rules: \n\t- <atom : >\n\t- <atom_expr : __atom_expr_plus_9>\n\nReduce/Reduce collision in Terminal('__ANON_1') between the following rules: \n\t- <atom : >\n\t- <atom_expr : __atom_expr_plus_9>\n\nReduce/Reduce collision in Terminal('VBAR') between the following rules: \n\t- <atom : >\n\t- <atom_expr : __atom_expr_plus_9>\n\nReduce/Reduce collision in Terminal('__ANON_2') between the following rules: \n\t- <atom : >\n\t- <atom_expr : __atom_expr_plus_9>\n\nReduce/Reduce collision in Terminal('AMPERSAND') between the following rules: \n\t- <atom : >\n\t- <atom_expr : __atom_expr_plus_9>\n\nReduce/Reduce collision in Terminal('AND') between the following rules: \n\t- <atom : >\n\t- <atom_expr : __atom_expr_plus_9>\n\nReduce/Reduce collision in Terminal('__ANON_5') between the following rules: \n\t- <atom : >\n\t- <atom_expr : __atom_expr_plus_9>\n\nReduce/Reduce collision in Terminal('__ANON_7') between the following rules: \n\t- <atom : >\n\t- <atom_expr : __atom_expr_plus_9>\n\nReduce/Reduce collision in Terminal('STAR') between the following rules: \n\t- <atom : >\n\t- <atom_expr : __atom_expr_plus_9>\n\nReduce/Reduce collision in Terminal('__ANON_4') between the following rules: \n\t- <atom : >\n\t- <atom_expr : __atom_expr_plus_9>\n\nReduce/Reduce collision in Terminal('PLUS') between the following rules: \n\t- <atom : >\n\t- <atom_expr : __atom_expr_plus_9>\n\nReduce/Reduce collision in Terminal('MORETHAN') between the following rules: \n\t- <atom : >\n\t- <atom_expr : __atom_expr_plus_9>\n\nReduce/Reduce collision in Terminal('MINUS') between the following rules: \n\t- <atom : >\n\t- <atom_expr : __atom_expr_plus_9>\n\nReduce/Reduce collision in Terminal('__ANON_8') between the following rules: \n\t- <atom : >\n\t- <atom_expr : __atom_expr_plus_9>\n\nReduce/Reduce collision in Terminal('NOT') between the following rules: \n\t- <atom : >\n\t- <atom_expr : __atom_expr_plus_9>\n\nReduce/Reduce collision in Terminal('CIRCUMFLEX') between the following rules: \n\t- <atom : >\n\t- <atom_expr : __atom_expr_plus_9>\n\nReduce/Reduce collision in Terminal('AT') between the following rules: \n\t- <atom : >\n\t- <atom_expr : __atom_expr_plus_9>\n\nReduce/Reduce collision in Terminal('SLASH') between the following rules: \n\t- <atom : >\n\t- <atom_expr : __atom_expr_plus_9>\n\nReduce/Reduce collision in Terminal('ELSE') between the following rules: \n\t- <atom : >\n\t- <atom_expr : __atom_expr_plus_9>"
     ]
    }
   ],
   "source": [
    "from lark import Lark, Transformer, v_args\n",
    "pyexpr = \"\"\"\n",
    "\n",
    "// quant: \"forall\" bvar \",\" quant -> forall | \"exists\" name+ \",\" quant -> exists | \"lambda\" name+ \":\" quant -> lambda | test\n",
    "// bvar: \"(\" name+  \":\" name \")\" -> type_annot | name -> var\n",
    "?test: or_test (\"if\" or_test \"else\" test)?\n",
    "\n",
    "?or_test: and_test (\"or\" and_test)*\n",
    "?and_test: not_test_ (\"and\" not_test_)*\n",
    "?not_test_: \"not\" not_test_ -> not_test\n",
    "         | comparison\n",
    "?comparison: expr (comp_op expr)*\n",
    "\n",
    "?expr: or_expr\n",
    "?or_expr: xor_expr (\"|\" xor_expr)*\n",
    "?xor_expr: and_expr (\"^\" and_expr)*\n",
    "?and_expr: shift_expr (\"&\" shift_expr)*\n",
    "?shift_expr: arith_expr (_shift_op arith_expr)*\n",
    "?arith_expr: term (_add_op term)*\n",
    "?term: factor (_mul_op factor)*\n",
    "?factor: _unary_op factor | power\n",
    "\n",
    "\n",
    "!_unary_op: \"+\"|\"-\"|\"~\"\n",
    "!_add_op: \"+\"|\"-\"\n",
    "!_shift_op: \"<<\"|\">>\"\n",
    "!_mul_op: \"*\"|\"@\"|\"/\"|\"%\"|\"//\"\n",
    "// <> isn't actually a valid comparison operator in Python. It's here for the\n",
    "// sake of a __future__ import described in PEP 401 (which really works :-)\n",
    "!comp_op: \"<\"|\">\"|\"==\"|\">=\"|\"<=\"|\"<>\"|\"!=\"|\"in\"|\"not\" \"in\"|\"is\"|\"is\" \"not\"\n",
    "\n",
    "?power: await_expr (\"**\" factor)?\n",
    "?await_expr: atom_expr\n",
    "\n",
    "?atom_expr:  atom+ -> funccall\n",
    "// atom_expr \"(\" [arguments] \")\"      -> funccall\n",
    "//          | atom_expr \"[\" subscriptlist \"]\"  -> getitem\n",
    "//          | atom_expr \".\" name               -> getattr\n",
    "//          | atom\n",
    "\n",
    "?atom: \n",
    "     | name -> var\n",
    "     | number\n",
    "     | \"(\" test \")\"\n",
    "     | \"True\"    -> const_true\n",
    "     | \"False\"   -> const_false\n",
    "          \n",
    "!name: NAME | \"match\" | \"case\"\n",
    "NAME: /[^\\W\\d]\\w*/\n",
    "\n",
    "number: DEC_NUMBER | HEX_NUMBER | BIN_NUMBER | OCT_NUMBER | FLOAT_NUMBER | IMAG_NUMBER\n",
    "// string: STRING \n",
    "\n",
    "//STRING: /([ubf]?r?|r[ubf])(\"(?!\"\").*?(?<!\\\\)(\\\\\\\\)*?\"|'(?!'').*?(?<!\\\\)(\\\\\\\\)*?')/i\n",
    "\n",
    "_SPECIAL_DEC: \"0\"..\"9\"        (\"_\"?  \"0\"..\"9\"                       )*\n",
    "DEC_NUMBER:   \"1\"..\"9\"        (\"_\"?  \"0\"..\"9\"                       )*\n",
    "          |   \"0\"             (\"_\"?  \"0\"                            )* /(?![1-9])/\n",
    "HEX_NUMBER.2: \"0\" (\"x\" | \"X\") (\"_\"? (\"0\"..\"9\" | \"a\"..\"f\" | \"A\"..\"F\"))+\n",
    "OCT_NUMBER.2: \"0\" (\"o\" | \"O\") (\"_\"?  \"0\"..\"7\"                       )+\n",
    "BIN_NUMBER.2: \"0\" (\"b\" | \"B\") (\"_\"?  \"0\"..\"1\"                       )+\n",
    "\n",
    "_EXP: (\"e\"|\"E\") [\"+\" | \"-\"] _SPECIAL_DEC\n",
    "DECIMAL: \".\" _SPECIAL_DEC | _SPECIAL_DEC \".\" _SPECIAL_DEC?\n",
    "FLOAT_NUMBER.2: _SPECIAL_DEC _EXP | DECIMAL _EXP?\n",
    "IMAG_NUMBER.2: (_SPECIAL_DEC      | FLOAT_NUMBER) (\"J\" | \"j\")\n",
    "\"\"\"\n",
    "\n",
    "Lark(pyexpr, start=\"test\", parser=\"lalr\").parse(\"x + 1\")"
   ]
  },
  {
   "cell_type": "code",
   "execution_count": 20,
   "metadata": {},
   "outputs": [
    {
     "ename": "GrammarError",
     "evalue": "Rule 'sliceop' used but not defined (in rule subscript)",
     "output_type": "error",
     "traceback": [
      "\u001b[0;31m---------------------------------------------------------------------------\u001b[0m",
      "\u001b[0;31mGrammarError\u001b[0m                              Traceback (most recent call last)",
      "Cell \u001b[0;32mIn[20], line 94\u001b[0m\n\u001b[1;32m      1\u001b[0m \u001b[38;5;28;01mfrom\u001b[39;00m \u001b[38;5;21;01mlark\u001b[39;00m \u001b[38;5;28;01mimport\u001b[39;00m Lark, Transformer, v_args\n\u001b[1;32m      2\u001b[0m pyexpr \u001b[38;5;241m=\u001b[39m \u001b[38;5;124m\"\"\"\u001b[39m\n\u001b[1;32m      3\u001b[0m \n\u001b[1;32m      4\u001b[0m \n\u001b[0;32m   (...)\u001b[0m\n\u001b[1;32m     91\u001b[0m \n\u001b[1;32m     92\u001b[0m \u001b[38;5;124m\"\"\"\u001b[39m\n\u001b[0;32m---> 94\u001b[0m \u001b[43mLark\u001b[49m\u001b[43m(\u001b[49m\u001b[43mpyexpr\u001b[49m\u001b[43m)\u001b[49m\u001b[38;5;241m.\u001b[39mparse(\u001b[38;5;124m\"\u001b[39m\u001b[38;5;124mx + 1\u001b[39m\u001b[38;5;124m\"\u001b[39m)\n",
      "File \u001b[0;32m~/.local/lib/python3.10/site-packages/lark/lark.py:300\u001b[0m, in \u001b[0;36mLark.__init__\u001b[0;34m(self, grammar, **options)\u001b[0m\n\u001b[1;32m    296\u001b[0m                     \u001b[38;5;28mself\u001b[39m\u001b[38;5;241m.\u001b[39moptions \u001b[38;5;241m=\u001b[39m old_options\n\u001b[1;32m    299\u001b[0m     \u001b[38;5;66;03m# Parse the grammar file and compose the grammars\u001b[39;00m\n\u001b[0;32m--> 300\u001b[0m     \u001b[38;5;28mself\u001b[39m\u001b[38;5;241m.\u001b[39mgrammar, used_files \u001b[38;5;241m=\u001b[39m \u001b[43mload_grammar\u001b[49m\u001b[43m(\u001b[49m\u001b[43mgrammar\u001b[49m\u001b[43m,\u001b[49m\u001b[43m \u001b[49m\u001b[38;5;28;43mself\u001b[39;49m\u001b[38;5;241;43m.\u001b[39;49m\u001b[43msource_path\u001b[49m\u001b[43m,\u001b[49m\u001b[43m \u001b[49m\u001b[38;5;28;43mself\u001b[39;49m\u001b[38;5;241;43m.\u001b[39;49m\u001b[43moptions\u001b[49m\u001b[38;5;241;43m.\u001b[39;49m\u001b[43mimport_paths\u001b[49m\u001b[43m,\u001b[49m\u001b[43m \u001b[49m\u001b[38;5;28;43mself\u001b[39;49m\u001b[38;5;241;43m.\u001b[39;49m\u001b[43moptions\u001b[49m\u001b[38;5;241;43m.\u001b[39;49m\u001b[43mkeep_all_tokens\u001b[49m\u001b[43m)\u001b[49m\n\u001b[1;32m    301\u001b[0m \u001b[38;5;28;01melse\u001b[39;00m:\n\u001b[1;32m    302\u001b[0m     \u001b[38;5;28;01massert\u001b[39;00m \u001b[38;5;28misinstance\u001b[39m(grammar, Grammar)\n",
      "File \u001b[0;32m~/.local/lib/python3.10/site-packages/lark/load_grammar.py:1353\u001b[0m, in \u001b[0;36mload_grammar\u001b[0;34m(grammar, source, import_paths, global_keep_all_tokens)\u001b[0m\n\u001b[1;32m   1351\u001b[0m builder \u001b[38;5;241m=\u001b[39m GrammarBuilder(global_keep_all_tokens, import_paths)\n\u001b[1;32m   1352\u001b[0m builder\u001b[38;5;241m.\u001b[39mload_grammar(grammar, source)\n\u001b[0;32m-> 1353\u001b[0m \u001b[38;5;28;01mreturn\u001b[39;00m \u001b[43mbuilder\u001b[49m\u001b[38;5;241;43m.\u001b[39;49m\u001b[43mbuild\u001b[49m\u001b[43m(\u001b[49m\u001b[43m)\u001b[49m, builder\u001b[38;5;241m.\u001b[39mused_files\n",
      "File \u001b[0;32m~/.local/lib/python3.10/site-packages/lark/load_grammar.py:1313\u001b[0m, in \u001b[0;36mGrammarBuilder.build\u001b[0;34m(self)\u001b[0m\n\u001b[1;32m   1312\u001b[0m \u001b[38;5;28;01mdef\u001b[39;00m \u001b[38;5;21mbuild\u001b[39m(\u001b[38;5;28mself\u001b[39m):\n\u001b[0;32m-> 1313\u001b[0m     \u001b[38;5;28;43mself\u001b[39;49m\u001b[38;5;241;43m.\u001b[39;49m\u001b[43mvalidate\u001b[49m\u001b[43m(\u001b[49m\u001b[43m)\u001b[49m\n\u001b[1;32m   1314\u001b[0m     rule_defs \u001b[38;5;241m=\u001b[39m []\n\u001b[1;32m   1315\u001b[0m     term_defs \u001b[38;5;241m=\u001b[39m []\n",
      "File \u001b[0;32m~/.local/lib/python3.10/site-packages/lark/load_grammar.py:1307\u001b[0m, in \u001b[0;36mGrammarBuilder.validate\u001b[0;34m(self)\u001b[0m\n\u001b[1;32m   1305\u001b[0m     \u001b[38;5;28;01mfor\u001b[39;00m sym \u001b[38;5;129;01min\u001b[39;00m _find_used_symbols(exp):\n\u001b[1;32m   1306\u001b[0m         \u001b[38;5;28;01mif\u001b[39;00m sym \u001b[38;5;129;01mnot\u001b[39;00m \u001b[38;5;129;01min\u001b[39;00m \u001b[38;5;28mself\u001b[39m\u001b[38;5;241m.\u001b[39m_definitions \u001b[38;5;129;01mand\u001b[39;00m sym \u001b[38;5;129;01mnot\u001b[39;00m \u001b[38;5;129;01min\u001b[39;00m params:\n\u001b[0;32m-> 1307\u001b[0m             \u001b[38;5;28;43mself\u001b[39;49m\u001b[38;5;241;43m.\u001b[39;49m\u001b[43m_grammar_error\u001b[49m\u001b[43m(\u001b[49m\u001b[38;5;124;43m\"\u001b[39;49m\u001b[38;5;132;43;01m{Type}\u001b[39;49;00m\u001b[38;5;124;43m \u001b[39;49m\u001b[38;5;124;43m'\u001b[39;49m\u001b[38;5;132;43;01m{name}\u001b[39;49;00m\u001b[38;5;124;43m'\u001b[39;49m\u001b[38;5;124;43m used but not defined (in \u001b[39;49m\u001b[38;5;132;43;01m{type2}\u001b[39;49;00m\u001b[38;5;124;43m \u001b[39;49m\u001b[38;5;132;43;01m{name2}\u001b[39;49;00m\u001b[38;5;124;43m)\u001b[39;49m\u001b[38;5;124;43m\"\u001b[39;49m\u001b[43m,\u001b[49m\u001b[43m \u001b[49m\u001b[43msym\u001b[49m\u001b[43m,\u001b[49m\u001b[43m \u001b[49m\u001b[43mname\u001b[49m\u001b[43m)\u001b[49m\n\u001b[1;32m   1309\u001b[0m \u001b[38;5;28;01mif\u001b[39;00m \u001b[38;5;129;01mnot\u001b[39;00m \u001b[38;5;28mset\u001b[39m(\u001b[38;5;28mself\u001b[39m\u001b[38;5;241m.\u001b[39m_definitions)\u001b[38;5;241m.\u001b[39missuperset(\u001b[38;5;28mself\u001b[39m\u001b[38;5;241m.\u001b[39m_ignore_names):\n\u001b[1;32m   1310\u001b[0m     \u001b[38;5;28;01mraise\u001b[39;00m GrammarError(\u001b[38;5;124m\"\u001b[39m\u001b[38;5;124mTerminals \u001b[39m\u001b[38;5;132;01m%s\u001b[39;00m\u001b[38;5;124m were marked to ignore but were not defined!\u001b[39m\u001b[38;5;124m\"\u001b[39m \u001b[38;5;241m%\u001b[39m (\u001b[38;5;28mset\u001b[39m(\u001b[38;5;28mself\u001b[39m\u001b[38;5;241m.\u001b[39m_ignore_names) \u001b[38;5;241m-\u001b[39m \u001b[38;5;28mset\u001b[39m(\u001b[38;5;28mself\u001b[39m\u001b[38;5;241m.\u001b[39m_definitions)))\n",
      "File \u001b[0;32m~/.local/lib/python3.10/site-packages/lark/load_grammar.py:1062\u001b[0m, in \u001b[0;36mGrammarBuilder._grammar_error\u001b[0;34m(self, msg, *names)\u001b[0m\n\u001b[1;32m   1060\u001b[0m     args[\u001b[38;5;124m'\u001b[39m\u001b[38;5;124mtype\u001b[39m\u001b[38;5;124m'\u001b[39m \u001b[38;5;241m+\u001b[39m postfix] \u001b[38;5;241m=\u001b[39m lowercase_type \u001b[38;5;241m=\u001b[39m (\u001b[38;5;124m\"\u001b[39m\u001b[38;5;124mrule\u001b[39m\u001b[38;5;124m\"\u001b[39m, \u001b[38;5;124m\"\u001b[39m\u001b[38;5;124mterminal\u001b[39m\u001b[38;5;124m\"\u001b[39m)[\u001b[38;5;28mself\u001b[39m\u001b[38;5;241m.\u001b[39m_is_term(name)]\n\u001b[1;32m   1061\u001b[0m     args[\u001b[38;5;124m'\u001b[39m\u001b[38;5;124mType\u001b[39m\u001b[38;5;124m'\u001b[39m \u001b[38;5;241m+\u001b[39m postfix] \u001b[38;5;241m=\u001b[39m lowercase_type\u001b[38;5;241m.\u001b[39mtitle()\n\u001b[0;32m-> 1062\u001b[0m \u001b[38;5;28;01mraise\u001b[39;00m GrammarError(msg\u001b[38;5;241m.\u001b[39mformat(\u001b[38;5;241m*\u001b[39m\u001b[38;5;241m*\u001b[39margs))\n",
      "\u001b[0;31mGrammarError\u001b[0m: Rule 'sliceop' used but not defined (in rule subscript)"
     ]
    }
   ],
   "source": [
    "from lark import Lark, Transformer, v_args\n",
    "pyexpr = \"\"\"\n",
    "\n",
    "\n",
    "?test: or_test (\"if\" or_test \"else\" test)?\n",
    "//     | lambdef\n",
    "     | assign_expr\n",
    "\n",
    "assign_expr: name \":=\" test\n",
    "\n",
    "// ?test_nocond: or_test | lambdef_nocond\n",
    "\n",
    "?or_test: and_test (\"or\" and_test)*\n",
    "?and_test: not_test_ (\"and\" not_test_)*\n",
    "?not_test_: \"not\" not_test_ -> not_test\n",
    "         | comparison\n",
    "?comparison: expr (comp_op expr)*\n",
    "\n",
    "?expr: or_expr\n",
    "?or_expr: xor_expr (\"|\" xor_expr)*\n",
    "?xor_expr: and_expr (\"^\" and_expr)*\n",
    "?and_expr: shift_expr (\"&\" shift_expr)*\n",
    "?shift_expr: arith_expr (_shift_op arith_expr)*\n",
    "?arith_expr: term (_add_op term)*\n",
    "?term: factor (_mul_op factor)*\n",
    "?factor: _unary_op factor | power\n",
    "\n",
    "!_unary_op: \"+\"|\"-\"|\"~\"\n",
    "!_add_op: \"+\"|\"-\"\n",
    "!_shift_op: \"<<\"|\">>\"\n",
    "!_mul_op: \"*\"|\"@\"|\"/\"|\"%\"|\"//\"\n",
    "// <> isn't actually a valid comparison operator in Python. It's here for the\n",
    "// sake of a __future__ import described in PEP 401 (which really works :-)\n",
    "!comp_op: \"<\"|\">\"|\"==\"|\">=\"|\"<=\"|\"<>\"|\"!=\"|\"in\"|\"not\" \"in\"|\"is\"|\"is\" \"not\"\n",
    "\n",
    "?power: await_expr (\"**\" factor)?\n",
    "?await_expr: AWAIT? atom_expr\n",
    "AWAIT: \"await\"\n",
    "\n",
    "?atom_expr:  atom+ -> funccall\n",
    "//atom_expr \"(\" [arguments] \")\"      -> funccall\n",
    "//         | atom_expr \"[\" subscriptlist \"]\"  -> getitem\n",
    "//          | atom_expr \".\" name               -> getattr\n",
    "//          | atom\n",
    "\n",
    "?atom: \n",
    "// \"(\" yield_expr \")\"\n",
    "//     | \"(\" _tuple_inner? \")\" -> tuple\n",
    "//     | \"(\" comprehension{test_or_star_expr} \")\" -> tuple_comprehension\n",
    "//     | \"[\" _exprlist? \"]\"  -> list\n",
    "//     | \"[\" comprehension{test_or_star_expr} \"]\"  -> list_comprehension\n",
    "//     | \"{\" _dict_exprlist? \"}\" -> dict\n",
    "//     | \"{\" comprehension{key_value} \"}\" -> dict_comprehension\n",
    "//     | \"{\" _exprlist \"}\" -> set\n",
    "//     | \"{\" comprehension{test} \"}\" -> set_comprehension\n",
    "     | name -> var\n",
    "     | number\n",
    "//     | string_concat\n",
    "     | \"(\" test \")\"\n",
    "     | \"...\" -> ellipsis\n",
    "     | \"None\"    -> const_none\n",
    "     | \"True\"    -> const_true\n",
    "     | \"False\"   -> const_false\n",
    "\n",
    "?subscriptlist: subscript\n",
    "              | subscript ((\",\" subscript)+ [\",\"] | \",\") -> subscript_tuple\n",
    "?subscript: test | ([test] \":\" [test] [sliceop]) -> slice\n",
    "     \n",
    "arguments: argvalue (\",\" argvalue)*  (\",\" [ starargs | kwargs])?\n",
    "    | starargs\n",
    "    | kwargs\n",
    "    | comprehension{test}\n",
    "\n",
    "!name: NAME | \"match\" | \"case\"\n",
    "NAME: /[^\\W\\d]\\w*/\n",
    "\n",
    "number: DEC_NUMBER | HEX_NUMBER | BIN_NUMBER | OCT_NUMBER | FLOAT_NUMBER | IMAG_NUMBER\n",
    "string: STRING | LONG_STRING\n",
    "\n",
    "_SPECIAL_DEC: \"0\"..\"9\"        (\"_\"?  \"0\"..\"9\"                       )*\n",
    "DEC_NUMBER:   \"1\"..\"9\"        (\"_\"?  \"0\"..\"9\"                       )*\n",
    "          |   \"0\"             (\"_\"?  \"0\"                            )* /(?![1-9])/\n",
    "HEX_NUMBER.2: \"0\" (\"x\" | \"X\") (\"_\"? (\"0\"..\"9\" | \"a\"..\"f\" | \"A\"..\"F\"))+\n",
    "OCT_NUMBER.2: \"0\" (\"o\" | \"O\") (\"_\"?  \"0\"..\"7\"                       )+\n",
    "BIN_NUMBER.2: \"0\" (\"b\" | \"B\") (\"_\"?  \"0\"..\"1\"                       )+\n",
    "\n",
    "_EXP: (\"e\"|\"E\") [\"+\" | \"-\"] _SPECIAL_DEC\n",
    "DECIMAL: \".\" _SPECIAL_DEC | _SPECIAL_DEC \".\" _SPECIAL_DEC?\n",
    "FLOAT_NUMBER.2: _SPECIAL_DEC _EXP | DECIMAL _EXP?\n",
    "IMAG_NUMBER.2: (_SPECIAL_DEC      | FLOAT_NUMBER) (\"J\" | \"j\")\n",
    "\n",
    "\"\"\"\n",
    "\n",
    "Lark(pyexpr).parse(\"x + 1\")"
   ]
  },
  {
   "cell_type": "code",
   "execution_count": null,
   "metadata": {},
   "outputs": [],
   "source": [
    "\n",
    "logic = \"\"\"\n",
    "?expr:  expr*  | \"(\" expr \")\" | expr binop expr | \n",
    "?formula: forall idens* \",\" formula | exists idens* \",\" formula | \"fun\" idens* \"=>\" formula | expr   \n",
    "?iden: CNAME | CNAME \":\" CNAME\n",
    "?unop: \"-\" | \"~\"\n",
    "?binop: \"+\" | \"-\" | \"*\" | \"/\" | \"<\" | \">\" | \"=\" | \"!=\" | \"<=\" | \">=\" | \"and\" | \"or\"\n",
    "\n",
    "\n",
    "\"\"\"\n"
   ]
  },
  {
   "cell_type": "code",
   "execution_count": 30,
   "metadata": {},
   "outputs": [
    {
     "ename": "UnexpectedCharacters",
     "evalue": "No terminal matches ' ' in the current parser context, at line 1 col 5\n\ntrue and false\n    ^\nExpected one of: \n\t* OR\n\t* AND\n",
     "output_type": "error",
     "traceback": [
      "\u001b[0;31m---------------------------------------------------------------------------\u001b[0m",
      "\u001b[0;31mUnexpectedCharacters\u001b[0m                      Traceback (most recent call last)",
      "Cell \u001b[0;32mIn[30], line 12\u001b[0m\n\u001b[1;32m      3\u001b[0m basic_logic \u001b[38;5;241m=\u001b[39m \u001b[38;5;124m\"\"\"\u001b[39m\n\u001b[1;32m      4\u001b[0m \u001b[38;5;124m?start: formula\u001b[39m\n\u001b[1;32m      5\u001b[0m \u001b[38;5;124m?formula: \u001b[39m\u001b[38;5;124m\"\u001b[39m\u001b[38;5;124mtrue\u001b[39m\u001b[38;5;124m\"\u001b[39m\u001b[38;5;124m | \u001b[39m\u001b[38;5;124m\"\u001b[39m\u001b[38;5;124mfalse\u001b[39m\u001b[38;5;124m\"\u001b[39m\u001b[38;5;124m | \u001b[39m\u001b[38;5;124m\"\u001b[39m\u001b[38;5;124mnot\u001b[39m\u001b[38;5;124m\"\u001b[39m\u001b[38;5;124m formula | formula \u001b[39m\u001b[38;5;124m\"\u001b[39m\u001b[38;5;124mand\u001b[39m\u001b[38;5;124m\"\u001b[39m\u001b[38;5;124m formula | formula \u001b[39m\u001b[38;5;124m\"\u001b[39m\u001b[38;5;124mor\u001b[39m\u001b[38;5;124m\"\u001b[39m\u001b[38;5;124m formula | \u001b[39m\u001b[38;5;124m\"\u001b[39m\u001b[38;5;124m(\u001b[39m\u001b[38;5;124m\"\u001b[39m\u001b[38;5;124m formula \u001b[39m\u001b[38;5;124m\"\u001b[39m\u001b[38;5;124m)\u001b[39m\u001b[38;5;124m\"\u001b[39m\n\u001b[0;32m   (...)\u001b[0m\n\u001b[1;32m      8\u001b[0m \n\u001b[1;32m      9\u001b[0m \u001b[38;5;124m\"\"\"\u001b[39m\n\u001b[1;32m     11\u001b[0m parser \u001b[38;5;241m=\u001b[39m lark\u001b[38;5;241m.\u001b[39mLark(basic_logic)\n\u001b[0;32m---> 12\u001b[0m \u001b[43mparser\u001b[49m\u001b[38;5;241;43m.\u001b[39;49m\u001b[43mparse\u001b[49m\u001b[43m(\u001b[49m\u001b[38;5;124;43m\"\u001b[39;49m\u001b[38;5;124;43mtrue and false\u001b[39;49m\u001b[38;5;124;43m\"\u001b[39;49m\u001b[43m)\u001b[49m\n",
      "File \u001b[0;32m~/.local/lib/python3.10/site-packages/lark/lark.py:658\u001b[0m, in \u001b[0;36mLark.parse\u001b[0;34m(self, text, start, on_error)\u001b[0m\n\u001b[1;32m    640\u001b[0m \u001b[38;5;28;01mdef\u001b[39;00m \u001b[38;5;21mparse\u001b[39m(\u001b[38;5;28mself\u001b[39m, text: \u001b[38;5;28mstr\u001b[39m, start: Optional[\u001b[38;5;28mstr\u001b[39m]\u001b[38;5;241m=\u001b[39m\u001b[38;5;28;01mNone\u001b[39;00m, on_error: \u001b[38;5;124m'\u001b[39m\u001b[38;5;124mOptional[Callable[[UnexpectedInput], bool]]\u001b[39m\u001b[38;5;124m'\u001b[39m\u001b[38;5;241m=\u001b[39m\u001b[38;5;28;01mNone\u001b[39;00m) \u001b[38;5;241m-\u001b[39m\u001b[38;5;241m>\u001b[39m \u001b[38;5;124m'\u001b[39m\u001b[38;5;124mParseTree\u001b[39m\u001b[38;5;124m'\u001b[39m:\n\u001b[1;32m    641\u001b[0m \u001b[38;5;250m    \u001b[39m\u001b[38;5;124;03m\"\"\"Parse the given text, according to the options provided.\u001b[39;00m\n\u001b[1;32m    642\u001b[0m \n\u001b[1;32m    643\u001b[0m \u001b[38;5;124;03m    Parameters:\u001b[39;00m\n\u001b[0;32m   (...)\u001b[0m\n\u001b[1;32m    656\u001b[0m \n\u001b[1;32m    657\u001b[0m \u001b[38;5;124;03m    \"\"\"\u001b[39;00m\n\u001b[0;32m--> 658\u001b[0m     \u001b[38;5;28;01mreturn\u001b[39;00m \u001b[38;5;28;43mself\u001b[39;49m\u001b[38;5;241;43m.\u001b[39;49m\u001b[43mparser\u001b[49m\u001b[38;5;241;43m.\u001b[39;49m\u001b[43mparse\u001b[49m\u001b[43m(\u001b[49m\u001b[43mtext\u001b[49m\u001b[43m,\u001b[49m\u001b[43m \u001b[49m\u001b[43mstart\u001b[49m\u001b[38;5;241;43m=\u001b[39;49m\u001b[43mstart\u001b[49m\u001b[43m,\u001b[49m\u001b[43m \u001b[49m\u001b[43mon_error\u001b[49m\u001b[38;5;241;43m=\u001b[39;49m\u001b[43mon_error\u001b[49m\u001b[43m)\u001b[49m\n",
      "File \u001b[0;32m~/.local/lib/python3.10/site-packages/lark/parser_frontends.py:104\u001b[0m, in \u001b[0;36mParsingFrontend.parse\u001b[0;34m(self, text, start, on_error)\u001b[0m\n\u001b[1;32m    102\u001b[0m kw \u001b[38;5;241m=\u001b[39m {} \u001b[38;5;28;01mif\u001b[39;00m on_error \u001b[38;5;129;01mis\u001b[39;00m \u001b[38;5;28;01mNone\u001b[39;00m \u001b[38;5;28;01melse\u001b[39;00m {\u001b[38;5;124m'\u001b[39m\u001b[38;5;124mon_error\u001b[39m\u001b[38;5;124m'\u001b[39m: on_error}\n\u001b[1;32m    103\u001b[0m stream \u001b[38;5;241m=\u001b[39m \u001b[38;5;28mself\u001b[39m\u001b[38;5;241m.\u001b[39m_make_lexer_thread(text)\n\u001b[0;32m--> 104\u001b[0m \u001b[38;5;28;01mreturn\u001b[39;00m \u001b[38;5;28;43mself\u001b[39;49m\u001b[38;5;241;43m.\u001b[39;49m\u001b[43mparser\u001b[49m\u001b[38;5;241;43m.\u001b[39;49m\u001b[43mparse\u001b[49m\u001b[43m(\u001b[49m\u001b[43mstream\u001b[49m\u001b[43m,\u001b[49m\u001b[43m \u001b[49m\u001b[43mchosen_start\u001b[49m\u001b[43m,\u001b[49m\u001b[43m \u001b[49m\u001b[38;5;241;43m*\u001b[39;49m\u001b[38;5;241;43m*\u001b[39;49m\u001b[43mkw\u001b[49m\u001b[43m)\u001b[49m\n",
      "File \u001b[0;32m~/.local/lib/python3.10/site-packages/lark/parsers/earley.py:279\u001b[0m, in \u001b[0;36mParser.parse\u001b[0;34m(self, lexer, start)\u001b[0m\n\u001b[1;32m    276\u001b[0m     \u001b[38;5;28;01melse\u001b[39;00m:\n\u001b[1;32m    277\u001b[0m         columns[\u001b[38;5;241m0\u001b[39m]\u001b[38;5;241m.\u001b[39madd(item)\n\u001b[0;32m--> 279\u001b[0m to_scan \u001b[38;5;241m=\u001b[39m \u001b[38;5;28;43mself\u001b[39;49m\u001b[38;5;241;43m.\u001b[39;49m\u001b[43m_parse\u001b[49m\u001b[43m(\u001b[49m\u001b[43mlexer\u001b[49m\u001b[43m,\u001b[49m\u001b[43m \u001b[49m\u001b[43mcolumns\u001b[49m\u001b[43m,\u001b[49m\u001b[43m \u001b[49m\u001b[43mto_scan\u001b[49m\u001b[43m,\u001b[49m\u001b[43m \u001b[49m\u001b[43mstart_symbol\u001b[49m\u001b[43m)\u001b[49m\n\u001b[1;32m    281\u001b[0m \u001b[38;5;66;03m# If the parse was successful, the start\u001b[39;00m\n\u001b[1;32m    282\u001b[0m \u001b[38;5;66;03m# symbol should have been completed in the last step of the Earley cycle, and will be in\u001b[39;00m\n\u001b[1;32m    283\u001b[0m \u001b[38;5;66;03m# this column. Find the item for the start_symbol, which is the root of the SPPF tree.\u001b[39;00m\n\u001b[1;32m    284\u001b[0m solutions \u001b[38;5;241m=\u001b[39m [n\u001b[38;5;241m.\u001b[39mnode \u001b[38;5;28;01mfor\u001b[39;00m n \u001b[38;5;129;01min\u001b[39;00m columns[\u001b[38;5;241m-\u001b[39m\u001b[38;5;241m1\u001b[39m] \u001b[38;5;28;01mif\u001b[39;00m n\u001b[38;5;241m.\u001b[39mis_complete \u001b[38;5;129;01mand\u001b[39;00m n\u001b[38;5;241m.\u001b[39mnode \u001b[38;5;129;01mis\u001b[39;00m \u001b[38;5;129;01mnot\u001b[39;00m \u001b[38;5;28;01mNone\u001b[39;00m \u001b[38;5;129;01mand\u001b[39;00m n\u001b[38;5;241m.\u001b[39ms \u001b[38;5;241m==\u001b[39m start_symbol \u001b[38;5;129;01mand\u001b[39;00m n\u001b[38;5;241m.\u001b[39mstart \u001b[38;5;241m==\u001b[39m \u001b[38;5;241m0\u001b[39m]\n",
      "File \u001b[0;32m~/.local/lib/python3.10/site-packages/lark/parsers/xearley.py:152\u001b[0m, in \u001b[0;36mParser._parse\u001b[0;34m(self, stream, columns, to_scan, start_symbol)\u001b[0m\n\u001b[1;32m    149\u001b[0m \u001b[38;5;28;01mfor\u001b[39;00m token \u001b[38;5;129;01min\u001b[39;00m stream:\n\u001b[1;32m    150\u001b[0m     \u001b[38;5;28mself\u001b[39m\u001b[38;5;241m.\u001b[39mpredict_and_complete(i, to_scan, columns, transitives)\n\u001b[0;32m--> 152\u001b[0m     to_scan \u001b[38;5;241m=\u001b[39m \u001b[43mscan\u001b[49m\u001b[43m(\u001b[49m\u001b[43mi\u001b[49m\u001b[43m,\u001b[49m\u001b[43m \u001b[49m\u001b[43mto_scan\u001b[49m\u001b[43m)\u001b[49m\n\u001b[1;32m    154\u001b[0m     \u001b[38;5;28;01mif\u001b[39;00m token \u001b[38;5;241m==\u001b[39m \u001b[38;5;124m'\u001b[39m\u001b[38;5;130;01m\\n\u001b[39;00m\u001b[38;5;124m'\u001b[39m:\n\u001b[1;32m    155\u001b[0m         text_line \u001b[38;5;241m+\u001b[39m\u001b[38;5;241m=\u001b[39m \u001b[38;5;241m1\u001b[39m\n",
      "File \u001b[0;32m~/.local/lib/python3.10/site-packages/lark/parsers/xearley.py:125\u001b[0m, in \u001b[0;36mParser._parse.<locals>.scan\u001b[0;34m(i, to_scan)\u001b[0m\n\u001b[1;32m    123\u001b[0m \u001b[38;5;28;01mif\u001b[39;00m \u001b[38;5;129;01mnot\u001b[39;00m next_set \u001b[38;5;129;01mand\u001b[39;00m \u001b[38;5;129;01mnot\u001b[39;00m delayed_matches \u001b[38;5;129;01mand\u001b[39;00m \u001b[38;5;129;01mnot\u001b[39;00m next_to_scan:\n\u001b[1;32m    124\u001b[0m     considered_rules \u001b[38;5;241m=\u001b[39m \u001b[38;5;28mlist\u001b[39m(\u001b[38;5;28msorted\u001b[39m(to_scan, key\u001b[38;5;241m=\u001b[39m\u001b[38;5;28;01mlambda\u001b[39;00m key: key\u001b[38;5;241m.\u001b[39mrule\u001b[38;5;241m.\u001b[39morigin\u001b[38;5;241m.\u001b[39mname))\n\u001b[0;32m--> 125\u001b[0m     \u001b[38;5;28;01mraise\u001b[39;00m UnexpectedCharacters(stream, i, text_line, text_column, {item\u001b[38;5;241m.\u001b[39mexpect\u001b[38;5;241m.\u001b[39mname \u001b[38;5;28;01mfor\u001b[39;00m item \u001b[38;5;129;01min\u001b[39;00m to_scan},\n\u001b[1;32m    126\u001b[0m                                \u001b[38;5;28mset\u001b[39m(to_scan), state\u001b[38;5;241m=\u001b[39m\u001b[38;5;28mfrozenset\u001b[39m(i\u001b[38;5;241m.\u001b[39ms \u001b[38;5;28;01mfor\u001b[39;00m i \u001b[38;5;129;01min\u001b[39;00m to_scan),\n\u001b[1;32m    127\u001b[0m                                considered_rules\u001b[38;5;241m=\u001b[39mconsidered_rules\n\u001b[1;32m    128\u001b[0m                                )\n\u001b[1;32m    130\u001b[0m \u001b[38;5;28;01mreturn\u001b[39;00m next_to_scan\n",
      "\u001b[0;31mUnexpectedCharacters\u001b[0m: No terminal matches ' ' in the current parser context, at line 1 col 5\n\ntrue and false\n    ^\nExpected one of: \n\t* OR\n\t* AND\n"
     ]
    }
   ],
   "source": [
    "import lark\n",
    "\n",
    "basic_logic = \"\"\"\n",
    "?start: formula\n",
    "?formula: \"true\" | \"false\" | \"not\" formula | formula \"and\" formula | formula \"or\" formula | \"(\" formula \")\"\n",
    "?not: \"not\" | \"!\" | \"~\"\n",
    "?and: \"and\" | \"&\" | \"&&\" | \"/\\\\\"\n",
    "?or: \"or\" | \"|\" | \"||\" | \"\\\\/\"\n",
    "\"\"\"\n",
    "\n",
    "expr = \"\"\"\n",
    "\n",
    "\"\"\"\n",
    "\n",
    "set_logic = \"\"\"\n",
    "?builder: \"{\" expr \"|\" formula \"}\"\n",
    "\"\"\"\n",
    "\n",
    "sum_expr = \"\"\"\n",
    "\n",
    "\"\"\"\n",
    "\n",
    "parser = lark.Lark(basic_logic)\n",
    "parser.parse(\"true and false\")"
   ]
  },
  {
   "cell_type": "markdown",
   "metadata": {},
   "source": [
    "# Well Formed\n",
    "check()\n",
    "## Inductives\n",
    "\n",
    "## Refinement\n",
    "projection\n",
    "\n",
    "## Quotient\n",
    "canon\n",
    "\n",
    "## Coinductives"
   ]
  },
  {
   "cell_type": "markdown",
   "metadata": {},
   "source": [
    "# Interfaces / Algerbaic Hierarchy\n",
    "\n",
    "ABS abstract base classes vs Protocol\n",
    "\n",
    "`Proof[\"forall x, x >= 0\"]` or `Proof[ForAll([x], x >= 0)]`\n",
    "\n",
    "can I tag proof objects with what they should kind of contain? Nice for interfaces\n",
    "\n",
    "https://www.why3.org/stdlib/algebra.html\n"
   ]
  },
  {
   "cell_type": "markdown",
   "metadata": {},
   "source": [
    "\n",
    "\n",
    "\n"
   ]
  },
  {
   "cell_type": "code",
   "execution_count": 1,
   "metadata": {},
   "outputs": [
    {
     "ename": "NameError",
     "evalue": "name 'dataclass' is not defined",
     "output_type": "error",
     "traceback": [
      "\u001b[0;31m---------------------------------------------------------------------------\u001b[0m",
      "\u001b[0;31mNameError\u001b[0m                                 Traceback (most recent call last)",
      "Cell \u001b[0;32mIn[1], line 2\u001b[0m\n\u001b[1;32m      1\u001b[0m \u001b[38;5;66;03m# this is a metalevel depdent record.\u001b[39;00m\n\u001b[0;32m----> 2\u001b[0m \u001b[38;5;129m@dataclass\u001b[39m(frozen\u001b[38;5;241m=\u001b[39m\u001b[38;5;28;01mTrue\u001b[39;00m)\n\u001b[1;32m      3\u001b[0m \u001b[38;5;28;01mclass\u001b[39;00m \u001b[38;5;21;01mGroup\u001b[39;00m():\n\u001b[1;32m      4\u001b[0m     G : SortRef\n\u001b[1;32m      5\u001b[0m     e : ConstRef\n",
      "\u001b[0;31mNameError\u001b[0m: name 'dataclass' is not defined"
     ]
    }
   ],
   "source": [
    "# this is a metalevel depdent record.\n",
    "@dataclass(frozen=True)\n",
    "class Group():\n",
    "    G : SortRef\n",
    "    e : ConstRef\n",
    "    mul : FuncDeclRef\n",
    "    inv : FuncDeclRef\n",
    "    assoc : Proof\n",
    "    inv_unit : Proof\n",
    "    unit : Proof\n",
    "    def check(self):\n",
    "        kd.lemma(ForAll([x], mul(x, inv(x)) == e), by=[unit])\n",
    "        kd.lemma(ForAll([x], mul(x, e) == x), by=[unit])\n",
    "    def __post_init(self):\n",
    "        self.check()\n",
    "# metalevel record creation\n",
    "#def Group_G(G):\n",
    "#   kd.Record(\"Group){G}\", (G, e, , mul))\n",
    "#   notation.check()\n",
    "\n",
    "def GroupLemmas(G : Group):\n",
    "    pass\n",
    "\n",
    "\n",
    "G = DeclareSort(\"G\")\n",
    "e = Const(\"e\", G)\n",
    "mul = Function(\"mul\", G, G, G)\n",
    "inv = Function(\"inv\", G, G)\n",
    "assoc = kd.axiom(ForAll([x,y,z], mul(mul(x,y),z) == mul(x,mul(y,z))))\n",
    "inv = kd.axiom(ForAll([x], mul(x, inv(x)) == e))\n",
    "unit = kd.axiom(ForAll([x], mul(x,e) == x))\n",
    "\n",
    "# free group over what?\n",
    "FreeGroup = Group(G, e, mul, inv, assoc, inv_unit, unit)\n",
    "GroupLemmas(FreeGroup)\n",
    "\n",
    "Set(G)\n",
    "\n",
    "@dataclass(frozen=True)\n",
    "class Ring():\n",
    "    G : Group\n",
    "    def check(self):\n",
    "        G.G == self.T\n"
   ]
  },
  {
   "cell_type": "code",
   "execution_count": null,
   "metadata": {},
   "outputs": [],
   "source": [
    "find . -type f -name 'f*'"
   ]
  },
  {
   "cell_type": "code",
   "execution_count": null,
   "metadata": {},
   "outputs": [],
   "source": [
    "class R():\n",
    "    T = RealSort()\n",
    "    add = kd.define(\"add\", T, T, T)\n",
    "    mul = kd.define(\"mul\", T, T, T)\n",
    "\n",
    "#vs\n",
    "class R(ExprRef):\n",
    "\n",
    "#vs\n",
    "class R(SortRef)\n",
    "    \n",
    "\n"
   ]
  },
  {
   "cell_type": "code",
   "execution_count": null,
   "metadata": {},
   "outputs": [],
   "source": [
    "class RMonoid(algebra.Monoid):\n",
    "    munit = \n",
    "\n",
    "\n",
    "\n",
    "RMonoid = Monoid(munit=RealVal(0),\n",
    "            mplus=add, iden=add_zero, assoc=add_assoc)\n",
    "\n",
    "@dataclass\n",
    "class RRing(algebra.Ring):\n",
    "\n"
   ]
  },
  {
   "cell_type": "code",
   "execution_count": null,
   "metadata": {},
   "outputs": [],
   "source": [
    "def Metric(Protocol):\n",
    "    T : SortRef\n",
    "    dist : FuncDeclRef | ArrayRef\n",
    "    def dist(x,y):\n",
    "        pass\n",
    "    pos = None\n",
    "    sym = None\n",
    "    refl = None\n",
    "    triangle = None"
   ]
  },
  {
   "cell_type": "markdown",
   "metadata": {},
   "source": [
    "Modules in ocaml let's say are records that contain values and types.\n",
    "It is not an issue since we are in a metalanguage to have sorts in our records.\n",
    "dataclasses are reasonable.\n",
    "\n",
    "They also should contain proofs.\n",
    "Kind of dependent records.\n",
    "Compare with isabelle locales.\n"
   ]
  },
  {
   "cell_type": "code",
   "execution_count": null,
   "metadata": {},
   "outputs": [],
   "source": [
    "from z3 import *\n",
    "from dataclasses import dataclass\n",
    "\n",
    "# since we don't have polymorphism, we need to do module style for any container.\n",
    "@dataclass(frozen=True)\n",
    "class OrderedType():\n",
    "    t : SortRef\n",
    "    le : FuncDeclRef\n",
    "    le_total : BoolRef # Proof\n",
    "__OrderedType = OrderedType\n",
    "def OrderedType(elem : ):\n",
    "    return __OrderedType(elem[0], elem[1], elem[2])\n",
    "# https://v2.ocaml.org/api/Set.Make.html\n",
    "@dataclass(frozen=True)\n",
    "class SetModule():\n",
    "    t : SortRef\n",
    "    elt: SortRef\n",
    "    cons : FuncDeclRef\n",
    "    nil : FuncDeclRef\n",
    "    head : FuncDeclRef\n",
    "__SetModule = SetModule\n",
    "# smart constructor\n",
    "def SetModule(elem : ):"
   ]
  },
  {
   "cell_type": "code",
   "execution_count": null,
   "metadata": {},
   "outputs": [],
   "source": [
    "def monoid(S):\n",
    "    return {\n",
    "        \"set\": S,\n",
    "        \"op\": Function(\"op\", S, S, S),\n",
    "        \"unit\": Const(\"unit\", S),\n",
    "        \"assoc\": ForAll([x,y,z], op(op(x,y),z) == op(x,op(y,z))),\n",
    "        \"unitl\": ForAll([x], op(unit,x) == x),\n",
    "        \"unitr\": ForAll([x], op(x,unit) == x),\n",
    "    }    \n",
    "\n",
    "def monoid(S,op,unit, hyps):\n",
    "    assoc = ForAll([x,y,z], op(op(x,y),z) == op(x,op(y,z)))\n",
    "    prove(assoc)\n",
    "    unitl = ForAll([x], op(unit,x) == x)\n",
    "    prove(unitl)\n",
    "    unitr = ForAll([x], op(x,unit) == x)\n",
    "    prove(unitr)\n",
    "    return {\n",
    "        \"set\": S,\n",
    "        \"op\": op,\n",
    "        \"unit\": unit,\n",
    "        \"assoc\": assoc,\n",
    "        \"unitl\": unitl,\n",
    "        \"unitr\": unitr,\n",
    "    }\n",
    "\n",
    "# check parametric stuff on fresh sorts, but then can trust."
   ]
  },
  {
   "cell_type": "markdown",
   "metadata": {},
   "source": [
    "A Section or locale or module mechanims is pretty similar to an Isar proof. We tend t make things stored whereas proofs have anonymus\n",
    "\n",
    "```python\n",
    "class Section(): # locale?\n",
    "    def _init__(self, name, type_params=[A]):\n",
    "        self.fixes = []\n",
    "        self.assumes = []\n",
    "        self.defs = []\n",
    "    def fix(self, x):\n",
    "        self.fixes.append(x)\n",
    "        return self\n",
    "    def assume(self, x):\n",
    "        self.assumes.append(x)\n",
    "        return self\n",
    "    def define(self, x):\n",
    "        self.defs.append(x)\n",
    "        return self\n",
    "    def instance(self, fixes,assumes):\n",
    "    def sublocale(self):\n",
    "        # extend a locale\n",
    "\n",
    "\n",
    "lattice = Section(\"lattice\")\\\n",
    "    .fixes(\"x\", )\\\n",
    "    .fixes(\"meet\", ArraySort())\\\n",
    "    .fixes(\"join\", )\\\n",
    "    \n",
    "\n",
    "```\n",
    "\n",
    "<https://isabelle.in.tum.de/library/HOL/HOL/Orderings.html>\n",
    "Is a decent root\n",
    "locale partial_preordering =\n",
    "  fixes less_eq :: ‹'a ⇒ 'a ⇒ bool› (infix ‹❙≤› 50)\n",
    "  assumes refl: ‹a ❙≤ a› ― ‹not ‹iff›: makes problems due to multiple (dual) interpretations›\n",
    "    and trans: ‹a ❙≤ b ⟹ b ❙≤ c ⟹ a ❙≤ c›\n",
    "\n",
    "locale preordering = partial_preordering +\n",
    "  fixes less :: ‹'a ⇒ 'a ⇒ bool› (infix ‹❙<› 50)\n",
    "  assumes strict_iff_not: ‹a ❙< b ⟷ a ❙≤ b ∧ ¬ b ❙≤ a›\n",
    "begin\n",
    "\n",
    "Hmm. Obvously isabelle uses it's parametricity.\n",
    "I guess the only thing to do is use meta parametricity.\n",
    "Could instantiate with sort to sanity check def and then run all proofs at instnatiation. Or could elide checking process if we _really_ trust this meta reasoning\n",
    "\n",
    "There's just so much boiler plate. Ugh\n",
    "\n",
    "Another option is to pick a universal sort. And have injections in and out\n",
    "\n",
    "```python\n",
    "# locales as functions. But how do we sanity check at definition time?\n",
    "def partial_ordering(A,leq,axioms):\n",
    "    x = FreshConst(A, prefix=\"x\")\n",
    "    refl = infer( axioms, ForAll([x], leq(x,x)))\n",
    "\n",
    "def partial_ordering(sorts, sig, axioms):\n",
    "    A = sorts[\"A\"]\n",
    "    leq = sig[\"leq\"]\n",
    "    x = FreshConst(sorts[\"A\"], prefix=\"x\")\n",
    "    refl = infer()\n",
    "\n",
    "def partial_ordering(ctx):\n",
    "    x = FreshConst(ctx.A, prefix=\"x\")\n",
    "    refl = infer( axioms, ForAll([x], leq(x,x)))\n",
    "\n",
    "class Partial_Ordering():\n",
    "    sig = # fixes \n",
    "    axioms = # assumes\n",
    "    def instan(self):\n",
    "        pass\n",
    "\n",
    "```\n",
    "\n",
    "```python\n",
    "# Can we embed shallower into python class system?\n",
    "# it becomes a pattern rather than a library?\n",
    "# Ughh. I just know this is getting hairy and silly for no reason\n",
    "class Locale():\n",
    "    def __init__(cls,name,bases,clsdict) -> None:\n",
    "        super().__init__(name,bases,clsdict)\n",
    "        cls.fixes = []\n",
    "        cls.assumes = []\n",
    "        cls.defs = []\n",
    "\n",
    "# use decorator\n",
    "@locale\n",
    "class Partial_Preordering(metaclass=Locale): # metaclass is so funky.\n",
    "    leq = Function(\"leq\",A,A,BoolSort())\n",
    "    fixes = [Function(\"leq\", A, A, BoolSort())]\n",
    "    assumes = {\"refl\":   }\n",
    "    def __init__(self, A, leq):\n",
    "        leq = Function(\"leq\",A,A,BoolSort())\n",
    "        fixes = [Function(\"leq\", A, A, BoolSort())]\n",
    "        assumes = {\"refl\":   }\n",
    "\n",
    "# is initializing the class the same and intepreting the locale?\n",
    "# How \n",
    "class Preordering(Partial_Preordering):\n",
    "    def __init__(self, A, leq, ):\n",
    "        assert leq.sort() == ArraySort(A,A,BoolSort())\n",
    "\n",
    "\n",
    "```\n",
    "\n",
    "```python\n",
    "z3.simplify(IntVal(3) / 2)\n",
    "```\n",
    "\n",
    "1"
   ]
  },
  {
   "cell_type": "code",
   "execution_count": null,
   "metadata": {},
   "outputs": [],
   "source": []
  },
  {
   "cell_type": "markdown",
   "metadata": {},
   "source": [
    "# Any / Generics / SMTLib3\n",
    "Maybe \"Any\" is ~ ZF set.\n",
    "\n",
    "https://github.com/Z3Prover/z3/blob/11218154391d5137ab35a3281fb6283587c08ba0/src/api/python/z3/z3.py#L713 z3 apparently has alpha support for type variables\n",
    "\n",
    "\n",
    "First kind of generics is top use python metaprogramming.\n",
    "`lambda T: Lambda([Const(\"x\", T)], Const(\"x\", T))`    is the same as the system T term  `Lam T. \\x : T. x`\n",
    "\n",
    "Internalized generics are interesting though.\n",
    "\n",
    "Can we make a shallow embedding of generic types or \n",
    "\n",
    "https://smt-lib.org/version3.shtml\n",
    "\n",
    "\n",
    "We might want a typechecker running at the python layer. But typechecking is an approximation to some semantic property of interest? So maybe we could directly check that\n",
    "\n",
    "Internalize modules.\n",
    "\n"
   ]
  },
  {
   "cell_type": "code",
   "execution_count": 212,
   "metadata": {},
   "outputs": [
    {
     "ename": "Z3Exception",
     "evalue": "Invalid bounded variable(s)",
     "output_type": "error",
     "traceback": [
      "\u001b[0;31m---------------------------------------------------------------------------\u001b[0m",
      "\u001b[0;31mZ3Exception\u001b[0m                               Traceback (most recent call last)",
      "\u001b[0;32m/tmp/ipykernel_2970182/86554357.py\u001b[0m in \u001b[0;36m?\u001b[0;34m()\u001b[0m\n\u001b[1;32m     35\u001b[0m \u001b[0mid_\u001b[0m \u001b[0;34m=\u001b[0m \u001b[0mkd\u001b[0m\u001b[0;34m.\u001b[0m\u001b[0mdefine\u001b[0m\u001b[0;34m(\u001b[0m\u001b[0;34m\"id\"\u001b[0m\u001b[0;34m,\u001b[0m \u001b[0;34m[\u001b[0m\u001b[0mx\u001b[0m\u001b[0;34m]\u001b[0m\u001b[0;34m,\u001b[0m \u001b[0mx\u001b[0m\u001b[0;34m)\u001b[0m\u001b[0;34m\u001b[0m\u001b[0;34m\u001b[0m\u001b[0m\n\u001b[1;32m     36\u001b[0m \u001b[0mid_int\u001b[0m \u001b[0;34m=\u001b[0m \u001b[0minstantiate_decl\u001b[0m\u001b[0;34m(\u001b[0m\u001b[0mid_\u001b[0m\u001b[0;34m,\u001b[0m \u001b[0;34m{\u001b[0m\u001b[0mAny0\u001b[0m\u001b[0;34m:\u001b[0m \u001b[0mIntSort\u001b[0m\u001b[0;34m(\u001b[0m\u001b[0;34m)\u001b[0m\u001b[0;34m}\u001b[0m\u001b[0;34m)\u001b[0m\u001b[0;34m\u001b[0m\u001b[0;34m\u001b[0m\u001b[0m\n\u001b[1;32m     37\u001b[0m \u001b[0;31m#dir(id_)\u001b[0m\u001b[0;34m\u001b[0m\u001b[0;34m\u001b[0m\u001b[0m\n\u001b[1;32m     38\u001b[0m \u001b[0mid_int\u001b[0m\u001b[0;34m\u001b[0m\u001b[0;34m\u001b[0m\u001b[0m\n\u001b[0;32m---> 39\u001b[0;31m \u001b[0mid_int_def\u001b[0m \u001b[0;34m=\u001b[0m \u001b[0minstantiate_sorts_schema\u001b[0m\u001b[0;34m(\u001b[0m\u001b[0mid_\u001b[0m\u001b[0;34m.\u001b[0m\u001b[0mdefn\u001b[0m\u001b[0;34m,\u001b[0m \u001b[0;34m(\u001b[0m\u001b[0mAny0\u001b[0m\u001b[0;34m,\u001b[0m \u001b[0mIntSort\u001b[0m\u001b[0;34m(\u001b[0m\u001b[0;34m)\u001b[0m\u001b[0;34m)\u001b[0m\u001b[0;34m)\u001b[0m\u001b[0;34m\u001b[0m\u001b[0;34m\u001b[0m\u001b[0m\n\u001b[0m",
      "\u001b[0;32m/tmp/ipykernel_2970182/86554357.py\u001b[0m in \u001b[0;36m?\u001b[0;34m(pf, *sort_subst)\u001b[0m\n\u001b[1;32m     26\u001b[0m \u001b[0;32mdef\u001b[0m \u001b[0minstantiate_sorts_schema\u001b[0m\u001b[0;34m(\u001b[0m\u001b[0mpf\u001b[0m \u001b[0;34m:\u001b[0m \u001b[0mkd\u001b[0m\u001b[0;34m.\u001b[0m\u001b[0mkernel\u001b[0m\u001b[0;34m.\u001b[0m\u001b[0mProof\u001b[0m\u001b[0;34m,\u001b[0m \u001b[0;34m*\u001b[0m\u001b[0msort_subst\u001b[0m\u001b[0;34m)\u001b[0m \u001b[0;34m->\u001b[0m \u001b[0mkd\u001b[0m\u001b[0;34m.\u001b[0m\u001b[0mkernel\u001b[0m\u001b[0;34m.\u001b[0m\u001b[0mProof\u001b[0m\u001b[0;34m:\u001b[0m\u001b[0;34m\u001b[0m\u001b[0;34m\u001b[0m\u001b[0m\n\u001b[1;32m     27\u001b[0m     \u001b[0;32massert\u001b[0m \u001b[0mkd\u001b[0m\u001b[0;34m.\u001b[0m\u001b[0mkernel\u001b[0m\u001b[0;34m.\u001b[0m\u001b[0mis_proof\u001b[0m\u001b[0;34m(\u001b[0m\u001b[0mpf\u001b[0m\u001b[0;34m)\u001b[0m\u001b[0;34m\u001b[0m\u001b[0;34m\u001b[0m\u001b[0m\n\u001b[1;32m     28\u001b[0m     \u001b[0msort_subst\u001b[0m \u001b[0;34m=\u001b[0m \u001b[0;34m{\u001b[0m\u001b[0mk\u001b[0m\u001b[0;34m:\u001b[0m\u001b[0mv\u001b[0m \u001b[0;32mfor\u001b[0m \u001b[0mk\u001b[0m\u001b[0;34m,\u001b[0m\u001b[0mv\u001b[0m \u001b[0;32min\u001b[0m \u001b[0msort_subst\u001b[0m\u001b[0;34m}\u001b[0m\u001b[0;34m\u001b[0m\u001b[0;34m\u001b[0m\u001b[0m\n\u001b[1;32m     29\u001b[0m     \u001b[0;32massert\u001b[0m \u001b[0mall\u001b[0m\u001b[0;34m(\u001b[0m\u001b[0mk\u001b[0m \u001b[0;32min\u001b[0m \u001b[0mAnys\u001b[0m \u001b[0;32mfor\u001b[0m \u001b[0mk\u001b[0m \u001b[0;32min\u001b[0m \u001b[0msort_subst\u001b[0m\u001b[0;34m.\u001b[0m\u001b[0mkeys\u001b[0m\u001b[0;34m(\u001b[0m\u001b[0;34m)\u001b[0m\u001b[0;34m)\u001b[0m\u001b[0;34m\u001b[0m\u001b[0;34m\u001b[0m\u001b[0m\n\u001b[0;32m---> 30\u001b[0;31m     \u001b[0;32mreturn\u001b[0m \u001b[0mkd\u001b[0m\u001b[0;34m.\u001b[0m\u001b[0maxiom\u001b[0m\u001b[0;34m(\u001b[0m\u001b[0minstantiate_sorts_expr\u001b[0m\u001b[0;34m(\u001b[0m\u001b[0mpf\u001b[0m\u001b[0;34m.\u001b[0m\u001b[0mthm\u001b[0m\u001b[0;34m,\u001b[0m \u001b[0msort_subst\u001b[0m\u001b[0;34m)\u001b[0m\u001b[0;34m,\u001b[0m \u001b[0mreasons\u001b[0m\u001b[0;34m=\u001b[0m\u001b[0;34m[\u001b[0m\u001b[0mp\u001b[0m\u001b[0;34m,\u001b[0m \u001b[0msort_subst\u001b[0m\u001b[0;34m]\u001b[0m\u001b[0;34m)\u001b[0m\u001b[0;34m\u001b[0m\u001b[0;34m\u001b[0m\u001b[0m\n\u001b[0m",
      "\u001b[0;32m/tmp/ipykernel_2970182/86554357.py\u001b[0m in \u001b[0;36m?\u001b[0;34m(t, sort_subst)\u001b[0m\n\u001b[1;32m     14\u001b[0m         \u001b[0mdecl\u001b[0m \u001b[0;34m=\u001b[0m \u001b[0minstantiate_sorts_decl\u001b[0m\u001b[0;34m(\u001b[0m\u001b[0mt\u001b[0m\u001b[0;34m.\u001b[0m\u001b[0mdecl\u001b[0m\u001b[0;34m(\u001b[0m\u001b[0;34m)\u001b[0m\u001b[0;34m,\u001b[0m \u001b[0msort_subst\u001b[0m\u001b[0;34m)\u001b[0m\u001b[0;34m\u001b[0m\u001b[0;34m\u001b[0m\u001b[0m\n\u001b[1;32m     15\u001b[0m         \u001b[0;32mreturn\u001b[0m \u001b[0mdecl\u001b[0m\u001b[0;34m(\u001b[0m\u001b[0;34m*\u001b[0m\u001b[0;34m[\u001b[0m\u001b[0minstantiate_sorts_expr\u001b[0m\u001b[0;34m(\u001b[0m\u001b[0ma\u001b[0m\u001b[0;34m,\u001b[0m \u001b[0msort_subst\u001b[0m\u001b[0;34m)\u001b[0m \u001b[0;32mfor\u001b[0m \u001b[0ma\u001b[0m \u001b[0;32min\u001b[0m \u001b[0mt\u001b[0m\u001b[0;34m.\u001b[0m\u001b[0mchildren\u001b[0m\u001b[0;34m(\u001b[0m\u001b[0;34m)\u001b[0m\u001b[0;34m]\u001b[0m\u001b[0;34m)\u001b[0m\u001b[0;34m\u001b[0m\u001b[0;34m\u001b[0m\u001b[0m\n\u001b[1;32m     16\u001b[0m     \u001b[0;32melif\u001b[0m \u001b[0mz3\u001b[0m\u001b[0;34m.\u001b[0m\u001b[0mis_quantifier\u001b[0m\u001b[0;34m(\u001b[0m\u001b[0mt\u001b[0m\u001b[0;34m)\u001b[0m\u001b[0;34m:\u001b[0m\u001b[0;34m\u001b[0m\u001b[0;34m\u001b[0m\u001b[0m\n\u001b[1;32m     17\u001b[0m         \u001b[0;32mif\u001b[0m \u001b[0mt\u001b[0m\u001b[0;34m.\u001b[0m\u001b[0mis_forall\u001b[0m\u001b[0;34m(\u001b[0m\u001b[0;34m)\u001b[0m\u001b[0;34m:\u001b[0m\u001b[0;34m\u001b[0m\u001b[0;34m\u001b[0m\u001b[0m\n\u001b[0;32m---> 18\u001b[0;31m             \u001b[0;32mreturn\u001b[0m \u001b[0mz3\u001b[0m\u001b[0;34m.\u001b[0m\u001b[0mForAll\u001b[0m\u001b[0;34m(\u001b[0m\u001b[0;34m[\u001b[0m\u001b[0minstantiate_sorts_expr\u001b[0m\u001b[0;34m(\u001b[0m\u001b[0mv\u001b[0m\u001b[0;34m,\u001b[0m \u001b[0msort_subst\u001b[0m\u001b[0;34m)\u001b[0m \u001b[0;32mfor\u001b[0m \u001b[0mv\u001b[0m \u001b[0;32min\u001b[0m \u001b[0mt\u001b[0m\u001b[0;34m.\u001b[0m\u001b[0mchildren\u001b[0m\u001b[0;34m(\u001b[0m\u001b[0;34m)\u001b[0m\u001b[0;34m]\u001b[0m\u001b[0;34m,\u001b[0m \u001b[0minstantiate_sorts_expr\u001b[0m\u001b[0;34m(\u001b[0m\u001b[0mt\u001b[0m\u001b[0;34m.\u001b[0m\u001b[0mbody\u001b[0m\u001b[0;34m(\u001b[0m\u001b[0;34m)\u001b[0m\u001b[0;34m,\u001b[0m \u001b[0msort_subst\u001b[0m\u001b[0;34m)\u001b[0m\u001b[0;34m)\u001b[0m\u001b[0;34m\u001b[0m\u001b[0;34m\u001b[0m\u001b[0m\n\u001b[0m\u001b[1;32m     19\u001b[0m         \u001b[0;32melse\u001b[0m\u001b[0;34m:\u001b[0m\u001b[0;34m\u001b[0m\u001b[0;34m\u001b[0m\u001b[0m\n\u001b[1;32m     20\u001b[0m             \u001b[0;32mraise\u001b[0m \u001b[0mNotImplementedError\u001b[0m\u001b[0;34m\u001b[0m\u001b[0;34m\u001b[0m\u001b[0m\n\u001b[1;32m     21\u001b[0m     \u001b[0;32melif\u001b[0m \u001b[0mz3\u001b[0m\u001b[0;34m.\u001b[0m\u001b[0mis_var\u001b[0m\u001b[0;34m(\u001b[0m\u001b[0mt\u001b[0m\u001b[0;34m)\u001b[0m\u001b[0;34m:\u001b[0m\u001b[0;34m\u001b[0m\u001b[0;34m\u001b[0m\u001b[0m\n",
      "\u001b[0;32m~/.local/lib/python3.10/site-packages/z3/z3.py\u001b[0m in \u001b[0;36m?\u001b[0;34m(vs, body, weight, qid, skid, patterns, no_patterns)\u001b[0m\n\u001b[1;32m   2283\u001b[0m     \u001b[0mForAll\u001b[0m\u001b[0;34m(\u001b[0m\u001b[0;34m[\u001b[0m\u001b[0mx\u001b[0m\u001b[0;34m,\u001b[0m \u001b[0my\u001b[0m\u001b[0;34m]\u001b[0m\u001b[0;34m,\u001b[0m \u001b[0mf\u001b[0m\u001b[0;34m(\u001b[0m\u001b[0mx\u001b[0m\u001b[0;34m,\u001b[0m \u001b[0my\u001b[0m\u001b[0;34m)\u001b[0m \u001b[0;34m>=\u001b[0m \u001b[0mx\u001b[0m\u001b[0;34m)\u001b[0m\u001b[0;34m\u001b[0m\u001b[0;34m\u001b[0m\u001b[0m\n\u001b[1;32m   2284\u001b[0m     \u001b[0;34m>>\u001b[0m\u001b[0;34m>\u001b[0m \u001b[0mForAll\u001b[0m\u001b[0;34m(\u001b[0m\u001b[0;34m[\u001b[0m\u001b[0mx\u001b[0m\u001b[0;34m,\u001b[0m \u001b[0my\u001b[0m\u001b[0;34m]\u001b[0m\u001b[0;34m,\u001b[0m \u001b[0mf\u001b[0m\u001b[0;34m(\u001b[0m\u001b[0mx\u001b[0m\u001b[0;34m,\u001b[0m \u001b[0my\u001b[0m\u001b[0;34m)\u001b[0m \u001b[0;34m>=\u001b[0m \u001b[0mx\u001b[0m\u001b[0;34m,\u001b[0m \u001b[0mweight\u001b[0m\u001b[0;34m=\u001b[0m\u001b[0;36m10\u001b[0m\u001b[0;34m)\u001b[0m\u001b[0;34m\u001b[0m\u001b[0;34m\u001b[0m\u001b[0m\n\u001b[1;32m   2285\u001b[0m     \u001b[0mForAll\u001b[0m\u001b[0;34m(\u001b[0m\u001b[0;34m[\u001b[0m\u001b[0mx\u001b[0m\u001b[0;34m,\u001b[0m \u001b[0my\u001b[0m\u001b[0;34m]\u001b[0m\u001b[0;34m,\u001b[0m \u001b[0mf\u001b[0m\u001b[0;34m(\u001b[0m\u001b[0mx\u001b[0m\u001b[0;34m,\u001b[0m \u001b[0my\u001b[0m\u001b[0;34m)\u001b[0m \u001b[0;34m>=\u001b[0m \u001b[0mx\u001b[0m\u001b[0;34m)\u001b[0m\u001b[0;34m\u001b[0m\u001b[0;34m\u001b[0m\u001b[0m\n\u001b[1;32m   2286\u001b[0m     \"\"\"\n\u001b[0;32m-> 2287\u001b[0;31m     \u001b[0;32mreturn\u001b[0m \u001b[0m_mk_quantifier\u001b[0m\u001b[0;34m(\u001b[0m\u001b[0;32mTrue\u001b[0m\u001b[0;34m,\u001b[0m \u001b[0mvs\u001b[0m\u001b[0;34m,\u001b[0m \u001b[0mbody\u001b[0m\u001b[0;34m,\u001b[0m \u001b[0mweight\u001b[0m\u001b[0;34m,\u001b[0m \u001b[0mqid\u001b[0m\u001b[0;34m,\u001b[0m \u001b[0mskid\u001b[0m\u001b[0;34m,\u001b[0m \u001b[0mpatterns\u001b[0m\u001b[0;34m,\u001b[0m \u001b[0mno_patterns\u001b[0m\u001b[0;34m)\u001b[0m\u001b[0;34m\u001b[0m\u001b[0;34m\u001b[0m\u001b[0m\n\u001b[0m",
      "\u001b[0;32m~/.local/lib/python3.10/site-packages/z3/z3.py\u001b[0m in \u001b[0;36m?\u001b[0;34m(is_forall, vs, body, weight, qid, skid, patterns, no_patterns)\u001b[0m\n\u001b[1;32m   2237\u001b[0m \u001b[0;32mdef\u001b[0m \u001b[0m_mk_quantifier\u001b[0m\u001b[0;34m(\u001b[0m\u001b[0mis_forall\u001b[0m\u001b[0;34m,\u001b[0m \u001b[0mvs\u001b[0m\u001b[0;34m,\u001b[0m \u001b[0mbody\u001b[0m\u001b[0;34m,\u001b[0m \u001b[0mweight\u001b[0m\u001b[0;34m=\u001b[0m\u001b[0;36m1\u001b[0m\u001b[0;34m,\u001b[0m \u001b[0mqid\u001b[0m\u001b[0;34m=\u001b[0m\u001b[0;34m\"\"\u001b[0m\u001b[0;34m,\u001b[0m \u001b[0mskid\u001b[0m\u001b[0;34m=\u001b[0m\u001b[0;34m\"\"\u001b[0m\u001b[0;34m,\u001b[0m \u001b[0mpatterns\u001b[0m\u001b[0;34m=\u001b[0m\u001b[0;34m[\u001b[0m\u001b[0;34m]\u001b[0m\u001b[0;34m,\u001b[0m \u001b[0mno_patterns\u001b[0m\u001b[0;34m=\u001b[0m\u001b[0;34m[\u001b[0m\u001b[0;34m]\u001b[0m\u001b[0;34m)\u001b[0m\u001b[0;34m:\u001b[0m\u001b[0;34m\u001b[0m\u001b[0;34m\u001b[0m\u001b[0m\n\u001b[1;32m   2238\u001b[0m     \u001b[0;32mif\u001b[0m \u001b[0mz3_debug\u001b[0m\u001b[0;34m(\u001b[0m\u001b[0;34m)\u001b[0m\u001b[0;34m:\u001b[0m\u001b[0;34m\u001b[0m\u001b[0;34m\u001b[0m\u001b[0m\n\u001b[1;32m   2239\u001b[0m         \u001b[0m_z3_assert\u001b[0m\u001b[0;34m(\u001b[0m\u001b[0mis_bool\u001b[0m\u001b[0;34m(\u001b[0m\u001b[0mbody\u001b[0m\u001b[0;34m)\u001b[0m \u001b[0;32mor\u001b[0m \u001b[0mis_app\u001b[0m\u001b[0;34m(\u001b[0m\u001b[0mvs\u001b[0m\u001b[0;34m)\u001b[0m \u001b[0;32mor\u001b[0m \u001b[0;34m(\u001b[0m\u001b[0mlen\u001b[0m\u001b[0;34m(\u001b[0m\u001b[0mvs\u001b[0m\u001b[0;34m)\u001b[0m \u001b[0;34m>\u001b[0m \u001b[0;36m0\u001b[0m \u001b[0;32mand\u001b[0m \u001b[0mis_app\u001b[0m\u001b[0;34m(\u001b[0m\u001b[0mvs\u001b[0m\u001b[0;34m[\u001b[0m\u001b[0;36m0\u001b[0m\u001b[0;34m]\u001b[0m\u001b[0;34m)\u001b[0m\u001b[0;34m)\u001b[0m\u001b[0;34m,\u001b[0m \u001b[0;34m\"Z3 expression expected\"\u001b[0m\u001b[0;34m)\u001b[0m\u001b[0;34m\u001b[0m\u001b[0;34m\u001b[0m\u001b[0m\n\u001b[0;32m-> 2240\u001b[0;31m         \u001b[0m_z3_assert\u001b[0m\u001b[0;34m(\u001b[0m\u001b[0mis_const\u001b[0m\u001b[0;34m(\u001b[0m\u001b[0mvs\u001b[0m\u001b[0;34m)\u001b[0m \u001b[0;32mor\u001b[0m \u001b[0;34m(\u001b[0m\u001b[0mlen\u001b[0m\u001b[0;34m(\u001b[0m\u001b[0mvs\u001b[0m\u001b[0;34m)\u001b[0m \u001b[0;34m>\u001b[0m \u001b[0;36m0\u001b[0m \u001b[0;32mand\u001b[0m \u001b[0mall\u001b[0m\u001b[0;34m(\u001b[0m\u001b[0;34m[\u001b[0m\u001b[0mis_const\u001b[0m\u001b[0;34m(\u001b[0m\u001b[0mv\u001b[0m\u001b[0;34m)\u001b[0m \u001b[0;32mfor\u001b[0m \u001b[0mv\u001b[0m \u001b[0;32min\u001b[0m \u001b[0mvs\u001b[0m\u001b[0;34m]\u001b[0m\u001b[0;34m)\u001b[0m\u001b[0;34m)\u001b[0m\u001b[0;34m,\u001b[0m \u001b[0;34m\"Invalid bounded variable(s)\"\u001b[0m\u001b[0;34m)\u001b[0m\u001b[0;34m\u001b[0m\u001b[0;34m\u001b[0m\u001b[0m\n\u001b[0m\u001b[1;32m   2241\u001b[0m         \u001b[0m_z3_assert\u001b[0m\u001b[0;34m(\u001b[0m\u001b[0mall\u001b[0m\u001b[0;34m(\u001b[0m\u001b[0;34m[\u001b[0m\u001b[0mis_pattern\u001b[0m\u001b[0;34m(\u001b[0m\u001b[0ma\u001b[0m\u001b[0;34m)\u001b[0m \u001b[0;32mor\u001b[0m \u001b[0mis_expr\u001b[0m\u001b[0;34m(\u001b[0m\u001b[0ma\u001b[0m\u001b[0;34m)\u001b[0m \u001b[0;32mfor\u001b[0m \u001b[0ma\u001b[0m \u001b[0;32min\u001b[0m \u001b[0mpatterns\u001b[0m\u001b[0;34m]\u001b[0m\u001b[0;34m)\u001b[0m\u001b[0;34m,\u001b[0m \u001b[0;34m\"Z3 patterns expected\"\u001b[0m\u001b[0;34m)\u001b[0m\u001b[0;34m\u001b[0m\u001b[0;34m\u001b[0m\u001b[0m\n\u001b[1;32m   2242\u001b[0m         \u001b[0m_z3_assert\u001b[0m\u001b[0;34m(\u001b[0m\u001b[0mall\u001b[0m\u001b[0;34m(\u001b[0m\u001b[0;34m[\u001b[0m\u001b[0mis_expr\u001b[0m\u001b[0;34m(\u001b[0m\u001b[0mp\u001b[0m\u001b[0;34m)\u001b[0m \u001b[0;32mfor\u001b[0m \u001b[0mp\u001b[0m \u001b[0;32min\u001b[0m \u001b[0mno_patterns\u001b[0m\u001b[0;34m]\u001b[0m\u001b[0;34m)\u001b[0m\u001b[0;34m,\u001b[0m \u001b[0;34m\"no patterns are Z3 expressions\"\u001b[0m\u001b[0;34m)\u001b[0m\u001b[0;34m\u001b[0m\u001b[0;34m\u001b[0m\u001b[0m\n\u001b[1;32m   2243\u001b[0m     \u001b[0;32mif\u001b[0m \u001b[0mis_app\u001b[0m\u001b[0;34m(\u001b[0m\u001b[0mvs\u001b[0m\u001b[0;34m)\u001b[0m\u001b[0;34m:\u001b[0m\u001b[0;34m\u001b[0m\u001b[0;34m\u001b[0m\u001b[0m\n",
      "\u001b[0;32m~/.local/lib/python3.10/site-packages/z3/z3.py\u001b[0m in \u001b[0;36m?\u001b[0;34m(cond, msg)\u001b[0m\n\u001b[1;32m    105\u001b[0m \u001b[0;32mdef\u001b[0m \u001b[0m_z3_assert\u001b[0m\u001b[0;34m(\u001b[0m\u001b[0mcond\u001b[0m\u001b[0;34m,\u001b[0m \u001b[0mmsg\u001b[0m\u001b[0;34m)\u001b[0m\u001b[0;34m:\u001b[0m\u001b[0;34m\u001b[0m\u001b[0;34m\u001b[0m\u001b[0m\n\u001b[1;32m    106\u001b[0m     \u001b[0;32mif\u001b[0m \u001b[0;32mnot\u001b[0m \u001b[0mcond\u001b[0m\u001b[0;34m:\u001b[0m\u001b[0;34m\u001b[0m\u001b[0;34m\u001b[0m\u001b[0m\n\u001b[0;32m--> 107\u001b[0;31m         \u001b[0;32mraise\u001b[0m \u001b[0mZ3Exception\u001b[0m\u001b[0;34m(\u001b[0m\u001b[0mmsg\u001b[0m\u001b[0;34m)\u001b[0m\u001b[0;34m\u001b[0m\u001b[0;34m\u001b[0m\u001b[0m\n\u001b[0m",
      "\u001b[0;31mZ3Exception\u001b[0m: Invalid bounded variable(s)"
     ]
    }
   ],
   "source": [
    "Any0 = DeclareSort(\"KD_Any0\")\n",
    "Any1 = DeclareSort(\"KD_Any1\")\n",
    "Any2 = DeclareSort(\"KD_Any2\")\n",
    "Anys = [Any0, Any1, Any2]\n",
    "\n",
    "def instantiate_sorts_decl(f : z3.FuncDecl, sort_subst) -> z3.FuncDecl:\n",
    "    assert all(k in Anys for k in sort_subst.keys())\n",
    "    return Function(f.name(), *[sort_subst.get(f.domain(i), f.domain(i)) for i in range(f.arity())], sort_subst.get(f.range(), f.range()))\n",
    "\n",
    "def instantiate_sorts_expr(t : z3.ExprRef, sort_subst):\n",
    "    #assert kd.kernel.is_proof(thm)\n",
    "    #assert all(k in Anys for k in sort_subst.keys())\n",
    "    if z3.is_app(t):\n",
    "        decl = instantiate_sorts_decl(t.decl(), sort_subst)\n",
    "        return decl(*[instantiate_sorts_expr(a, sort_subst) for a in t.children()])\n",
    "    elif z3.is_quantifier(t):\n",
    "        if t.is_forall():\n",
    "            return z3.ForAll([instantiate_sorts_expr(v, sort_subst) for v in t.children()], instantiate_sorts_expr(t.body(), sort_subst))\n",
    "        else:\n",
    "            raise NotImplementedError\n",
    "    elif z3.is_var(t):\n",
    "        return z3.Var(z3.get_var_index(t), sort_subst.get(t.sort(), t.sort()))\n",
    "    else:\n",
    "        raise NotImplementedError\n",
    "\n",
    "def instantiate_sorts_schema(pf : kd.kernel.Proof, *sort_subst) -> kd.kernel.Proof:\n",
    "    assert kd.kernel.is_proof(pf)\n",
    "    sort_subst = {k:v for k,v in sort_subst}\n",
    "    assert all(k in Anys for k in sort_subst.keys())\n",
    "    return kd.axiom(instantiate_sorts_expr(pf.thm, sort_subst), reasons=[p, sort_subst])  \n",
    "\n",
    "x,y,z = z3.Consts(\"x y z\", Any0)\n",
    "#id_ = Function(\"id\", Any0, Any0)\n",
    "#kd.axiom(z3.ForAll([x], id_(x) == x))\n",
    "id_ = kd.define(\"id\", [x], x)\n",
    "id_int = instantiate_decl(id_, {Any0: IntSort()})\n",
    "#dir(id_)\n",
    "id_int\n",
    "id_int_def = instantiate_sorts_schema(id_.defn, (Any0, IntSort()))\n"
   ]
  },
  {
   "cell_type": "code",
   "execution_count": 44,
   "metadata": {},
   "outputs": [
    {
     "name": "stdout",
     "output_type": "stream",
     "text": [
      "Overwriting /tmp/test.smt2\n"
     ]
    }
   ],
   "source": [
    "%%file /tmp/test.smt2\n",
    "(declare-datatypes () ((MyT (Nil) (MyConstr (v Bool) (hd (Array Bool MyT))))))\n",
    "(declare-const x MyT)\n",
    "(check-sat)\n",
    "(get-model)"
   ]
  },
  {
   "cell_type": "code",
   "execution_count": 59,
   "metadata": {},
   "outputs": [
    {
     "name": "stdout",
     "output_type": "stream",
     "text": [
      "^C\n",
      "unknown\n",
      "(error \"line 7 column 10: model is not available\")\n"
     ]
    }
   ],
   "source": [
    "!z3 /tmp/test.smt2"
   ]
  },
  {
   "cell_type": "code",
   "execution_count": 58,
   "metadata": {},
   "outputs": [
    {
     "name": "stdout",
     "output_type": "stream",
     "text": [
      "Overwriting /tmp/test.smt2\n"
     ]
    }
   ],
   "source": [
    "%%file /tmp/test.smt2\n",
    "(declare-datatypes ((MyT 0)) (((Nil) \n",
    "                               (MyConstr (hd (Array Int MyT))))))\n",
    "(declare-const x MyT)\n",
    "(assert (distinct x Nil))\n",
    ";(assert (distinct (select (hd x) 7) Nil))\n",
    "(check-sat)\n",
    "(get-model)"
   ]
  },
  {
   "cell_type": "code",
   "execution_count": 76,
   "metadata": {},
   "outputs": [
    {
     "data": {
      "text/html": [
       "[[i = 3]]"
      ],
      "text/plain": [
       "[[i == 3]]"
      ]
     },
     "execution_count": 76,
     "metadata": {},
     "output_type": "execute_result"
    }
   ],
   "source": [
    "\n",
    "import z3\n",
    "i = z3.Int('i')\n",
    "g = z3.Goal()\n",
    "g.add(i > 2)\n",
    "g.add(i < 4)\n",
    "z3.Then('simplify', 'propagate-ineqs').apply(g)"
   ]
  },
  {
   "cell_type": "code",
   "execution_count": 29,
   "metadata": {},
   "outputs": [
    {
     "name": "stdout",
     "output_type": "stream",
     "text": [
      "Writing /tmp/test3.smt2\n"
     ]
    }
   ],
   "source": [
    "%%file /tmp/test3.smt2\n",
    "(declare-sort Expr)\n",
    "(declare-sort Var)\n",
    "(declare-datatypes ((Stmt 0)) \n",
    "  (((Assignment (lval Var) (rval Expr)) \n",
    "    (If (cond Expr) (th Stmt) (el Stmt)) \n",
    "    (Seq (stmts (Seq Stmt))))))\n",
    "\n",
    "(declare-const s Stmt)\n",
    "(declare-const t Stmt)\n",
    "\n",
    "(assert ((_ is Seq) t))\n",
    "(assert ((_ is Seq) s))\n",
    "(assert (= s (seq.nth (stmts t) 2)))\n",
    "(assert (>= (seq.len (stmts s)) 5))\n",
    "(check-sat)\n",
    "(get-model)\n",
    "(assert (= s (Seq (seq.unit s))))\n",
    "(check-sat)"
   ]
  },
  {
   "cell_type": "code",
   "execution_count": 30,
   "metadata": {},
   "outputs": [
    {
     "name": "stdout",
     "output_type": "stream",
     "text": [
      "sat\n",
      "(\n",
      "  ;; universe for Expr:\n",
      "  ;;   Expr!val!7 Expr!val!3 Expr!val!1 Expr!val!4 Expr!val!0 Expr!val!6 Expr!val!5 Expr!val!2 \n",
      "  ;; -----------\n",
      "  ;; definitions for universe elements:\n",
      "  (declare-fun Expr!val!7 () Expr)\n",
      "  (declare-fun Expr!val!3 () Expr)\n",
      "  (declare-fun Expr!val!1 () Expr)\n",
      "  (declare-fun Expr!val!4 () Expr)\n",
      "  (declare-fun Expr!val!0 () Expr)\n",
      "  (declare-fun Expr!val!6 () Expr)\n",
      "  (declare-fun Expr!val!5 () Expr)\n",
      "  (declare-fun Expr!val!2 () Expr)\n",
      "  ;; cardinality constraint:\n",
      "  (forall ((x Expr))\n",
      "          (or (= x Expr!val!7)\n",
      "              (= x Expr!val!3)\n",
      "              (= x Expr!val!1)\n",
      "              (= x Expr!val!4)\n",
      "              (= x Expr!val!0)\n",
      "              (= x Expr!val!6)\n",
      "              (= x Expr!val!5)\n",
      "              (= x Expr!val!2)))\n",
      "  ;; -----------\n",
      "  ;; universe for Var:\n",
      "  ;;   Var!val!2 Var!val!0 Var!val!3 Var!val!4 Var!val!5 Var!val!6 Var!val!7 Var!val!1 \n",
      "  ;; -----------\n",
      "  ;; definitions for universe elements:\n",
      "  (declare-fun Var!val!2 () Var)\n",
      "  (declare-fun Var!val!0 () Var)\n",
      "  (declare-fun Var!val!3 () Var)\n",
      "  (declare-fun Var!val!4 () Var)\n",
      "  (declare-fun Var!val!5 () Var)\n",
      "  (declare-fun Var!val!6 () Var)\n",
      "  (declare-fun Var!val!7 () Var)\n",
      "  (declare-fun Var!val!1 () Var)\n",
      "  ;; cardinality constraint:\n",
      "  (forall ((x Var))\n",
      "          (or (= x Var!val!2)\n",
      "              (= x Var!val!0)\n",
      "              (= x Var!val!3)\n",
      "              (= x Var!val!4)\n",
      "              (= x Var!val!5)\n",
      "              (= x Var!val!6)\n",
      "              (= x Var!val!7)\n",
      "              (= x Var!val!1)))\n",
      "  ;; -----------\n",
      "  (define-fun t () Stmt\n",
      "    (Seq (as seq.empty (Seq Stmt))))\n",
      "  (define-fun s () Stmt\n",
      "    (Seq (seq.++ (seq.unit (Assignment Var!val!1 Expr!val!1))\n",
      "             (seq.unit (Assignment Var!val!0 Expr!val!0))\n",
      "             (seq.unit (Assignment Var!val!5 Expr!val!5))\n",
      "             (seq.unit (Assignment Var!val!2 Expr!val!2))\n",
      "             (seq.unit (Assignment Var!val!4 Expr!val!4)))))\n",
      "  (define-fun seq.nth_u ((x!0 (Seq Stmt)) (x!1 Int)) Stmt\n",
      "    (Seq (seq.++ (seq.unit (Assignment Var!val!1 Expr!val!1))\n",
      "                 (seq.unit (Assignment Var!val!0 Expr!val!0))\n",
      "                 (seq.unit (Assignment Var!val!5 Expr!val!5))\n",
      "                 (seq.unit (Assignment Var!val!2 Expr!val!2))\n",
      "                 (seq.unit (Assignment Var!val!4 Expr!val!4)))))\n",
      ")\n",
      "unsat\n"
     ]
    }
   ],
   "source": [
    "! z3 /tmp/test3.smt2"
   ]
  },
  {
   "cell_type": "code",
   "execution_count": 28,
   "metadata": {},
   "outputs": [
    {
     "name": "stdout",
     "output_type": "stream",
     "text": [
      "(error \"line 1 column 63: unknown sort 'MyT'\")\n",
      "(error \"line 2 column 17: Invalid constant declaration: unknown sort 'MyT'\")\n",
      "sat\n",
      "(\n",
      ")\n"
     ]
    }
   ],
   "source": []
  },
  {
   "cell_type": "markdown",
   "metadata": {},
   "source": [
    "a typeclass system?\n",
    "Sort level unification. unify up0on application\n",
    "\n",
    "class GenericDecl(z3.FuncDecl):\n",
    "    def __call__(self, *args):\n",
    "        unify(self.domain(), )\n",
    "        unify(self.range(),  )\n",
    "        f = instantiate_decl(self, subst)\n",
    "        args = instantiate_args(args, subst)\n",
    "        return f(*args)\n",
    "class \n",
    "\n",
    "def TVar(prefix=\"\"):\n",
    "    counter += 1\n",
    "    return DeclareSort(\"prefix + \"_KDGEN\" +str(counter))\n",
    "\n",
    "Backtick or some other sigil? # ` ' __\n",
    "\n",
    "Yeah, that tvars are alpha invariant can lead to some goody behavior in principle.\n",
    "I think it's not thta big a deal. You muight accidentally be less generic than you thought.\n",
    "Gensyming them might help a little\n",
    "\n",
    "\n",
    "def TLambda(ts, body):\n",
    "def TLambda(n, f):\n",
    "    f(*[KDGernetic(i) for i in range(n)]\n",
    "\n",
    "\n",
    "Parametricity theorems\n"
   ]
  },
  {
   "cell_type": "code",
   "execution_count": null,
   "metadata": {},
   "outputs": [],
   "source": [
    "def unify_sorts(s : SortRef, t : SortRef):\n",
    "    todo = [(s,t)]\n",
    "    while len(todo) > 0\n",
    "        s,t = todo.pop()\n",
    "        if s == t:\n",
    "            continue\n",
    "        if s in Anys:\n",
    "            if s == t:\n",
    "                pass\n",
    "            else:\n",
    "                return None\n",
    "\n",
    "        if s.kind() == z3.Z3_INT_SORT and t.kind() == z3.Z3_INT_SORT:\n",
    "            return {}\n",
    "        if s.kind() == z3.Z3_BOOL_SORT and t.kind() == z3.Z3_BOOL_SORT:\n",
    "            return {}\n",
    "        if s.kind() == z3.Z3_ARRAY_SORT and t.kind() == z3.Z3_ARRAY_SORT:\n",
    "            return unify_sorts(s.domain(), t.domain()) + unify_sorts(s.range(), t.range())\n",
    "        if s.kind() == z3.Z3_DATATYPE_SORT and t.kind() == z3.Z3_DATATYPE_SORT:\n",
    "            return {}\n",
    "        if s.kind() == z3.Z3_UNINTERPRETED_SORT and t.kind() == z3.Z3_UNINTERPRETED_SORT:\n",
    "            return {s:t}\n",
    "        return None"
   ]
  },
  {
   "cell_type": "code",
   "execution_count": 193,
   "metadata": {},
   "outputs": [
    {
     "data": {
      "text/plain": [
       "['__add__',\n",
       " '__and__',\n",
       " '__bool__',\n",
       " '__class__',\n",
       " '__copy__',\n",
       " '__deepcopy__',\n",
       " '__del__',\n",
       " '__delattr__',\n",
       " '__dict__',\n",
       " '__dir__',\n",
       " '__div__',\n",
       " '__doc__',\n",
       " '__eq__',\n",
       " '__format__',\n",
       " '__ge__',\n",
       " '__getattribute__',\n",
       " '__gt__',\n",
       " '__hash__',\n",
       " '__init__',\n",
       " '__init_subclass__',\n",
       " '__le__',\n",
       " '__lt__',\n",
       " '__mod__',\n",
       " '__module__',\n",
       " '__mul__',\n",
       " '__ne__',\n",
       " '__neg__',\n",
       " '__new__',\n",
       " '__nonzero__',\n",
       " '__or__',\n",
       " '__pos__',\n",
       " '__pow__',\n",
       " '__radd__',\n",
       " '__rdiv__',\n",
       " '__reduce__',\n",
       " '__reduce_ex__',\n",
       " '__repr__',\n",
       " '__rmod__',\n",
       " '__rmul__',\n",
       " '__rpow__',\n",
       " '__rsub__',\n",
       " '__rtruediv__',\n",
       " '__setattr__',\n",
       " '__sizeof__',\n",
       " '__str__',\n",
       " '__sub__',\n",
       " '__subclasshook__',\n",
       " '__truediv__',\n",
       " '__weakref__',\n",
       " '_repr_html_',\n",
       " 'arg',\n",
       " 'as_ast',\n",
       " 'ast',\n",
       " 'children',\n",
       " 'ctx',\n",
       " 'ctx_ref',\n",
       " 'decl',\n",
       " 'eq',\n",
       " 'from_string',\n",
       " 'get_id',\n",
       " 'hash',\n",
       " 'is_int',\n",
       " 'is_real',\n",
       " 'num_args',\n",
       " 'params',\n",
       " 'serialize',\n",
       " 'sexpr',\n",
       " 'sort',\n",
       " 'sort_kind',\n",
       " 'tptp',\n",
       " 'translate',\n",
       " 'use_pp']"
      ]
     },
     "execution_count": 193,
     "metadata": {},
     "output_type": "execute_result"
    }
   ],
   "source": [
    "v = z3.Var(0, IntSort())\n",
    "v1 = z3.Var(1, IntSort())\n",
    "dir(v)"
   ]
  },
  {
   "cell_type": "markdown",
   "metadata": {},
   "source": [
    "# z3 tvar\n"
   ]
  },
  {
   "cell_type": "code",
   "execution_count": 37,
   "metadata": {},
   "outputs": [
    {
     "data": {
      "text/html": [
       "id(z)"
      ],
      "text/plain": [
       "id(z)"
      ]
     },
     "execution_count": 37,
     "metadata": {},
     "output_type": "execute_result"
    }
   ],
   "source": [
    "from z3 import *\n",
    "\n",
    "T = DeclareTypeVar(\"T\")\n",
    "f = Function(\"id\", T, T)\n",
    "x = Const(\"x\", T)\n",
    "t = ForAll([x], f(x) == x)\n",
    "y = Int(\"y\")\n",
    "f(y).sort()\n",
    "z = Real(\"z\")\n",
    "f(z).sort()\n",
    "s = Solver()\n",
    "s.add(t)\n",
    "s.add(f(z) != z)\n",
    "s.check()\n",
    "s.model()\n",
    "ArraySort(IntSort(), IntSort()).subsort(ArraySort(T,T))\n",
    "\n",
    "from z3 import *\n",
    "T = DeclareTypeVar(\"T\")\n",
    "List = Datatype(\"List\")\n",
    "List.declare(\"nil\")\n",
    "List.declare(\"cons\", (\"car\", T), (\"cdr\", List))\n",
    "List = List.create()\n",
    "ilist = List.cons(IntVal(3), List.nil)\n",
    "rlist = List.cons(RealVal(3), List.nil)\n",
    "assert ilist.sort() == rlist.sort() # same sort\n",
    "assert not ilist.eq(rlist)\n",
    "s = Solver()\n",
    "s.add(ilist == rlist)\n",
    "assert s.check() == unsat\n",
    "\n",
    "assert List.car(ilist).sort() == T\n",
    "assert List.car(rlist).sort() == T\n",
    "\n",
    "# fails to even type check... ok.\n",
    "# s = Solver()\n",
    "#s.add(List.car(ilist) == IntVal(3))\n",
    "#s.check()\n",
    "\n",
    "s = Solver()\n",
    "s.add(ilist ==  List.cons(IntVal(1) + IntVal(2), List.nil))\n",
    "s.check()\n",
    "f(z).sort()\n",
    "\n",
    "# once applied, it becomes a different thing.\n",
    "f(z).decl() == f\n",
    "f(x).decl()(z)\n"
   ]
  },
  {
   "cell_type": "markdown",
   "metadata": {},
   "source": [
    "Even if I made a List type using this, the induction principle and others would not be ergonomic."
   ]
  },
  {
   "cell_type": "markdown",
   "metadata": {},
   "source": [
    "### Closed Any\n",
    "closed any is a bit more like ACL2 in the sense there is thiis global big honker dataytype\n",
    "isomorphism from/to uit\n",
    "Maybe more like GHC generics? Tuple, Sum, \n",
    "extensible variants by keeping a registry of what tags we've handed out?\n",
    "\n",
    "Base = Real | Int | String | Bool | BitVec8-64 | \n",
    "\n",
    "type Any = \n",
    "| Base of Base\n",
    "| Tag(Int, AnyC)\n",
    "| Tuple(AnyC, AnyC)\n",
    "| Arrayow(Base, Any)\n",
    "| Seq(Any)\n",
    "\n"
   ]
  },
  {
   "cell_type": "code",
   "execution_count": null,
   "metadata": {},
   "outputs": [],
   "source": [
    "from z3 import *\n",
    "Any = DeclareSort(\"Any\") # AnyO. Any Open\n",
    "\n",
    "anys = {}\n",
    "def register(T):\n",
    "    # maybe just memoize?\n",
    "    assert T not in anys\n",
    "    inj = Function(\"inj\", T, Any)\n",
    "    proj = Function(\"proj\", Any, T)\n",
    "    ax = kd.axiom(ForAll([x], proj(inj(x)) == x))\n",
    "    # could have disjointness axioms, but don't need them.\n",
    "    anys[T] = inj, proj, ax\n",
    "    return inj, proj, ax\n",
    "\n",
    "to_any = SortDispatch(name=\"to_any\")\n",
    "ExprRef.to_any = lambda self: anys[self.sort()][0](self)\n",
    "ExprRef.to_real.register(Any, Function(\"proj\", Any, RealSort()))\n",
    "ExprRef.to_int.register(Any, Function(\"proj\", Any, IntSort()))\n",
    "ExprRef.to_bool.register(Any, Function(\"proj\", Any, BoolSort()))\n",
    "ExprRef.to_string.register(Any, Function(\"proj\", Any, StringSort()))\n",
    "ExprRef.to_seq.register(Any, Function(\"proj\", Any, SeqSort(Any)))\n",
    "ExprRef.to_set.register(Any, Function(\"proj\", Any, SetSort(Any)))\n",
    "\n",
    "\n",
    "\n",
    "# closed Any\n",
    "# is a rich any more useful than a minimal any?\n",
    "AnyC = Datatype(\"AnyC\")\n",
    "AnyC.declare(\"nil\")\n",
    "AnyC.declare(\"Bool\", (\"bool\", BoolSort()))\n",
    "AnyC.declare(\"Int\", (\"int\", IntSort()))\n",
    "AnyC.declare(\"Real\", (\"real\", RealSort()))\n",
    "AnyC.declare(\"String\", (\"string\", StringSort()))\n",
    "#AnyC.declare(\"Seq\", (\"seq\", SeqSort(AnyC)))\n",
    "#AnyC.declare(\"Set\", (\"set\", SetSort(AnyC))) # actually, does this way lie unsoundness? I think z3 will stop me... This is ok?\n",
    "AnyC.declare(\"AnySeq\", (\"anyseq\", ArraySort(IntSort(), AnyC))) # This should be logically ok. But it doesn't fly because of some error.\n",
    "AnyC.declare(\"RSeq\", (\"rseq\", ArraySort(IntSort(), RealSort())))\n",
    "AnyC.declare(\"RSet\", (\"rset\", ArraySort(RealSort(), BoolSort())))\n",
    "AnyC.declare(\"pair\", (\"fst\", AnyC), (\"snd\", AnyC))\n",
    "AnyC = AnyC.create()\n",
    "\n",
    "\n",
    "ExprRef.to_anyc.register(RealSort(), AnyC.Real) # = lambda self: anys[self.sort()][0](self)\n",
    "ExprRef.to_real.register(AnyC, AnyC.real)\n",
    "\n",
    "ExprRef.to_int.register(RealSort(), z3.ToInt)\n",
    "ExprRef.to_real.register(IntSort(), z3.ToReal)\n",
    "\n",
    "\"\"\"\n",
    "and so on.\n",
    "ExprRef.to_int.register(Any, Function(\"proj\", Any, IntSort()))\n",
    "ExprRef.to_bool.register(Any, Function(\"proj\", Any, BoolSort()))\n",
    "ExprRef.to_string.register(Any, Function(\"proj\", Any, StringSort()))\n",
    "ExprRef.to_seq.register(Any, Function(\"proj\", Any, SeqSort(Any)))\n",
    "ExprRef.to_set.register(Any, Function(\"proj\", Any, SetSort(Any)))\n",
    "\"\"\"\n",
    "\n",
    "\"\"\"\n",
    "Set = Datatype(\"Set\")\n",
    "Set.declare(\"mk\", (\"set\", SetSort(Set))) \n",
    "Set = Set.create()\n",
    "\"\"\"\n"
   ]
  },
  {
   "cell_type": "code",
   "execution_count": null,
   "metadata": {},
   "outputs": [],
   "source": [
    "from z3 import *\n",
    "#open any type. Which is more of interest\n",
    "Any = DeclareSort(\"Any\") # Value? Term?\n",
    "Type = DeclareSort(\"Sort\")\n",
    "T, U = Consts(\"T U\", Sort)\n",
    "Lambda([T, x], annot(x, T)) # hmm. no way to express x is a T.\n",
    "\n",
    "annot = Function(\"annot\", Any, Sort, Any)\n",
    "ofbool = Function(\"ofbool\", BoolSort(), Any)\n",
    "\n",
    "\n",
    "BitVec = Function(\"BitVec\", IntSort(), Sort)\n",
    "Lambda([x], BitVec(annot(x)))\n",
    "\n",
    "\n",
    "# but we can also collect at the end a closed form of any\n",
    "\n",
    "\n",
    "# Parametricity becomes a theorem"
   ]
  },
  {
   "cell_type": "code",
   "execution_count": 11,
   "metadata": {},
   "outputs": [
    {
     "ename": "SyntaxError",
     "evalue": "unmatched ')' (1249398328.py, line 1)",
     "output_type": "error",
     "traceback": [
      "\u001b[0;36m  Cell \u001b[0;32mIn[11], line 1\u001b[0;36m\u001b[0m\n\u001b[0;31m    OrderMod = Datatype)\"\"\u001b[0m\n\u001b[0m                       ^\u001b[0m\n\u001b[0;31mSyntaxError\u001b[0m\u001b[0;31m:\u001b[0m unmatched ')'\n"
     ]
    }
   ],
   "source": [
    "OrderMod = Datatype(\"OrderMod\")\n",
    "OrderMod.declare(\"ORDMAKE\", (\"T\", Type), (\"ord\", Function(\"ord\", Any, Any, BoolSort())))\n",
    "OrderMod = OrderMod.create()\n",
    "\n",
    "BoolOrd = OrderMod.ORDMAKE(BoolSort(), Lambda([x,y], x == y))\n",
    "def wf(mod):\n",
    "    typeof(mod.ord) \n"
   ]
  },
  {
   "cell_type": "markdown",
   "metadata": {},
   "source": [
    "# Sanity and Countermodels\n",
    "Sanity:\n",
    "axiom creation facilities should have ways of random testing. basic sanity\n",
    "\n",
    "\n",
    "\n",
    "Nitpick\n",
    "\n",
    "strip off out forall\n",
    "upon failure of lemma do:\n",
    "- search\n",
    "- stronger nitpick. (tactics that mayb produce models that don't actually work?)\n",
    "- \n",
    "\n",
    "\n",
    "## Manual FOL axioms\n",
    "I can't get \n",
    "maybe backup axioms or vampire\n",
    "\n",
    "## Hypothesis\n",
    "https://hypothesis.readthedocs.io/en/latest/numpy.html"
   ]
  },
  {
   "cell_type": "markdown",
   "metadata": {},
   "source": [
    "# MultiSovler Sledge\n",
    "\n",
    "\n",
    "\n",
    "cvc5 has suport for trasncendtals\n",
    "\n",
    "How could I support multiple solvers?\n",
    "1. export from z3 ast.\n",
    "\n",
    "\n",
    "Calc(lemma=cvc5_lemma)\n",
    "\n",
    "\n",
    "Lemma()\n",
    "\n",
    "nitpick counterexample generation.\n",
    "\n",
    "dreal\n",
    "https://cvc5.github.io/docs/cvc5-1.0.2/theories/transcendentals.html\n",
    "\n"
   ]
  },
  {
   "cell_type": "code",
   "execution_count": null,
   "metadata": {},
   "outputs": [],
   "source": [
    "# https://courses.grainger.illinois.edu/cs576/sp2015/doc/isar-overview.pdf\n",
    "# https://isabelle.in.tum.de/doc/isar-ref.pdf\n",
    "class Lemma: # Isar?\n",
    "    def __init__(self, goal):\n",
    "        self.assume = []\n",
    "        self.vars = []\n",
    "        self.lemmas = []\n",
    "        self.goal = goal\n",
    "    def fix(self, var):\n",
    "        self.vars.append(var)\n",
    "    def assume(self, thm):\n",
    "        self.assume.append(thm)\n",
    "    def ornament(self, thm):\n",
    "        return ForAll(vars, Implies(And(self.assume), thm))\n",
    "    def have(self, thm, by=[]):\n",
    "        self.lemmas.append(kd.lemma(self.ornament(thm), by=by+self.lemmas))\n",
    "        return self\n",
    "    def qed(self):\n",
    "        return kd.lemma(self.goal, by=self.lemmas)\n",
    "\n",
    "\n",
    "def sledge(thm, by=[]):\n",
    "    # traverse theorem, get definitions recursively.\n",
    "    # get helpful lemmas per theorem\n",
    "    # call z3, call cvc5, call vampire\n",
    "    # reduce output to needed bits.\n",
    "    # find them in global theorem db"
   ]
  },
  {
   "cell_type": "code",
   "execution_count": 1,
   "metadata": {},
   "outputs": [
    {
     "ename": "NameError",
     "evalue": "name 'smtlib_datatypes' is not defined",
     "output_type": "error",
     "traceback": [
      "\u001b[0;31m---------------------------------------------------------------------------\u001b[0m",
      "\u001b[0;31mNameError\u001b[0m                                 Traceback (most recent call last)",
      "Cell \u001b[0;32mIn[1], line 73\u001b[0m\n\u001b[1;32m     71\u001b[0m s\u001b[38;5;241m.\u001b[39massert_and_track(z3\u001b[38;5;241m.\u001b[39mRealVal(\u001b[38;5;241m1\u001b[39m) \u001b[38;5;241m!=\u001b[39m z3\u001b[38;5;241m.\u001b[39mRealVal(\u001b[38;5;241m1\u001b[39m), \u001b[38;5;124m\"\u001b[39m\u001b[38;5;124mknuckle_goal\u001b[39m\u001b[38;5;124m\"\u001b[39m)\n\u001b[1;32m     72\u001b[0m s\u001b[38;5;241m.\u001b[39mset(\u001b[38;5;124m\"\u001b[39m\u001b[38;5;124mtimeout\u001b[39m\u001b[38;5;124m\"\u001b[39m, \u001b[38;5;241m1000\u001b[39m)\n\u001b[0;32m---> 73\u001b[0m \u001b[43ms\u001b[49m\u001b[38;5;241;43m.\u001b[39;49m\u001b[43mcheck\u001b[49m\u001b[43m(\u001b[49m\u001b[43m)\u001b[49m\n\u001b[1;32m     74\u001b[0m s\u001b[38;5;241m.\u001b[39munsat_core()[\u001b[38;5;241m0\u001b[39m]\n",
      "Cell \u001b[0;32mIn[1], line 30\u001b[0m, in \u001b[0;36mVampireSolver.check\u001b[0;34m(self)\u001b[0m\n\u001b[1;32m     28\u001b[0m \u001b[38;5;28;01mdef\u001b[39;00m \u001b[38;5;21mcheck\u001b[39m(\u001b[38;5;28mself\u001b[39m):\n\u001b[1;32m     29\u001b[0m     \u001b[38;5;28;01mwith\u001b[39;00m \u001b[38;5;28mopen\u001b[39m(\u001b[38;5;124m\"\u001b[39m\u001b[38;5;124m/tmp/vampire.smt2\u001b[39m\u001b[38;5;124m\"\u001b[39m, \u001b[38;5;124m\"\u001b[39m\u001b[38;5;124mw\u001b[39m\u001b[38;5;124m\"\u001b[39m) \u001b[38;5;28;01mas\u001b[39;00m fp: \u001b[38;5;66;03m#tempfile.NamedTemporaryFile() \u001b[39;00m\n\u001b[0;32m---> 30\u001b[0m         fp\u001b[38;5;241m.\u001b[39mwrite((\u001b[43msmtlib_datatypes\u001b[49m([kd\u001b[38;5;241m.\u001b[39mtheories\u001b[38;5;241m.\u001b[39mInterval\u001b[38;5;241m.\u001b[39mInterval])))\n\u001b[1;32m     31\u001b[0m         fp\u001b[38;5;241m.\u001b[39mwrite(\u001b[38;5;124m\"\u001b[39m\u001b[38;5;124m;;declarations\u001b[39m\u001b[38;5;130;01m\\n\u001b[39;00m\u001b[38;5;124m\"\u001b[39m)\n\u001b[1;32m     32\u001b[0m         \u001b[38;5;28;01mfor\u001b[39;00m f \u001b[38;5;129;01min\u001b[39;00m kd\u001b[38;5;241m.\u001b[39mkernel\u001b[38;5;241m.\u001b[39mdefns\u001b[38;5;241m.\u001b[39mkeys():\n",
      "\u001b[0;31mNameError\u001b[0m: name 'smtlib_datatypes' is not defined"
     ]
    }
   ],
   "source": [
    "import z3\n",
    "import knuckledragger as kd\n",
    "class BaseSolver():\n",
    "    def __init__(self):\n",
    "        self.adds = []\n",
    "        self.assert_tracks = []\n",
    "        self.options = {}\n",
    "    def add(self, thm):\n",
    "        self.adds.append(thm)\n",
    "    def assert_and_track(self, thm, name):\n",
    "        self.assert_tracks.append((thm, name))\n",
    "    def check(self):\n",
    "        raise NotImplementedError\n",
    "    def unsat_core(self):\n",
    "        raise NotImplementedError\n",
    "    def set(self, option, value):\n",
    "        self.options[option] = value\n",
    "\n",
    "\n",
    "import tempfile\n",
    "import subprocess\n",
    "class VampireSolver(BaseSolver):\n",
    "    predefined = [\n",
    "        z3.Function(\"abs\", z3.RealSort(), z3.RealSort()),\n",
    "    ]\n",
    "    def __init__(self):\n",
    "        super().__init__()\n",
    "    def check(self):\n",
    "        with open(\"/tmp/vampire.smt2\", \"w\") as fp: #tempfile.NamedTemporaryFile() \n",
    "            fp.write((smtlib_datatypes([kd.theories.Interval.Interval])))\n",
    "            fp.write(\";;declarations\\n\")\n",
    "            for f in kd.kernel.defns.keys():\n",
    "                assert isinstance(f, z3.FuncDeclRef)\n",
    "                if f not in self.predefined:\n",
    "                    fp.write(f.sexpr())\n",
    "                    fp.write(\"\\n\")\n",
    "            fp.write(\";;axioms\\n\")\n",
    "            for e in self.adds:\n",
    "                fp.write(\"(assert \" + e.sexpr() + \")\\n\")\n",
    "            for (thm,name) in self.assert_tracks:\n",
    "                fp.write(\"(assert (! \" + thm.sexpr() + \" :named \" + name + \"))\\n\")\n",
    "            fp.write(\"(check-sat)\\n\")\n",
    "            fp.flush()\n",
    "            #print(fp.readlines())\n",
    "            cmd = [\"vampire\", fp.name, \"--input_syntax\", \n",
    "                   \"smtlib2\", #\"--ignore_unrecognized_logic\", \"on\",\n",
    "                   \"-t\", str(self.options[\"timeout\"] // 100) +\"d\", ]\n",
    "            if len(self.assert_tracks) > 0:\n",
    "                cmd.extend([\"--output_mode\", \"ucore\"])\n",
    "            else:\n",
    "                cmd.extend([\"--output_mode\", \"smtcomp\"])\n",
    "            \n",
    "            self.res = subprocess.run(cmd, stdout=subprocess.PIPE, stderr=subprocess.PIPE)\n",
    "        res = self.res.stdout\n",
    "        if b\"unsat\\n\" in res or b\"% SZS status Unsatisfiable\" in res:\n",
    "            self.status = z3.unsat\n",
    "            return z3.unsat\n",
    "        elif res == \"sat\":\n",
    "            return z3.sat\n",
    "        else:\n",
    "            return z3.unknown\n",
    "    def unsat_core(self):\n",
    "        assert self.status == z3.unsat\n",
    "        cores = self.res.stdout.decode().replace(\"unsat\\n\", \"\").replace(\"(\", \"\").replace(\")\", \"\")\n",
    "        cores = z3.Bools(cores)\n",
    "        return cores\n",
    "\n",
    "\n",
    "s = VampireSolver()\n",
    "s.add(z3.RealVal(1) != z3.RealVal(1))\n",
    "s.assert_and_track(z3.RealVal(1) != z3.RealVal(1), \"knuckle_goal\")\n",
    "s.set(\"timeout\", 1000)\n",
    "s.check()\n",
    "s.unsat_core()[0]"
   ]
  },
  {
   "cell_type": "code",
   "execution_count": 130,
   "metadata": {},
   "outputs": [
    {
     "name": "stdout",
     "output_type": "stream",
     "text": [
      "(declare-sort foo 0)\n",
      " (declare-datatypes ((Interval 0)) (((mk (lo Real) (hi Real)))))\n",
      " (assert\n",
      " (exists ((x foo) )(= x x))\n",
      " )\n",
      "(assert\n",
      " (exists ((x Interval) )(= x x))\n",
      " )\n",
      "\n",
      "\n"
     ]
    }
   ],
   "source": [
    "def smtlib_datatypes(dts : list[DatatypeSortRef]) -> str:\n",
    "    s = Solver()\n",
    "    for dt in dts:\n",
    "        x = Const('x', dt)\n",
    "        s.add(Exists([x], x == x)) # trivial constraint\n",
    "    return s.to_smt2().replace(\"(check-sat)\",\"\").replace(\"\"\"; benchmark generated from python API\\n(set-info :status unknown)\\n\"\"\",\"\")\n",
    "\n",
    "foo = DeclareSort(\"foo\")\n",
    "print(smtlib_datatypes([foo, kd.theories.Interval.Interval]))"
   ]
  },
  {
   "cell_type": "code",
   "execution_count": 116,
   "metadata": {},
   "outputs": [
    {
     "data": {
      "text/plain": [
       "<Symbol object at 0x704a8d825140>"
      ]
     },
     "execution_count": 116,
     "metadata": {},
     "output_type": "execute_result"
    }
   ],
   "source": [
    "\"\"\"\n",
    "    d.name()\n",
    "    for i in range(d.num_constructors()):\n",
    "        cons = d.constructor(i)\n",
    "        for j in range(cons.arity()):\n",
    "            acc = cons.accessor(i,j)\n",
    "\"\"\"\n",
    "\n",
    "dir(kd.theories.Interval.Interval.constructor(0))\n",
    "kd.theories.Interval.Interval.constructor(0)"
   ]
  },
  {
   "cell_type": "code",
   "execution_count": 127,
   "metadata": {},
   "outputs": [
    {
     "name": "stdout",
     "output_type": "stream",
     "text": [
      "(declare-datatypes ((MyType 0)) (((mk_mytype (children (Array Int Int))))))\n",
      " (assert\n",
      " (exists ((x MyType) )(= x x))\n",
      " )\n",
      "\n",
      "\n"
     ]
    }
   ],
   "source": [
    "from z3 import *\n",
    "\n",
    "# Create a new Z3 context\n",
    "ctx = Context()\n",
    "\n",
    "# Define the recursive type\n",
    "MyType = Datatype('MyType')\n",
    "\n",
    "# Add fields to the datatype\n",
    "MyType.declare('mk_mytype', ('children', ArraySort(IntSort(), IntSort())))\n",
    "MyType = MyType.create()\n",
    "\n",
    "# Create a Z3 solver\n",
    "solver = Solver()\n",
    "\n",
    "# Add an instance of the datatype to the solver\n",
    "x = Const('x', MyType)\n",
    "solver.add(Exists([x], x == x))\n",
    "\n",
    "# Print the SMT-LIB declaration of the datatype\n",
    "#print(MyType)\n",
    "\n",
    "# Print the SMT-LIB representation of the solver's assertions\n",
    "print(solver.to_smt2().replace(\"(check-sat)\",\"\").replace(\"\"\"; benchmark generated from python API\\n(set-info :status unknown)\\n\"\"\",\"\"))\n",
    "def print(datatype):\n"
   ]
  },
  {
   "cell_type": "code",
   "execution_count": null,
   "metadata": {},
   "outputs": [],
   "source": [
    "; benchmark generated from python API\n",
    "(set-info :status unknown)"
   ]
  },
  {
   "cell_type": "code",
   "execution_count": null,
   "metadata": {},
   "outputs": [],
   "source": []
  },
  {
   "cell_type": "markdown",
   "metadata": {},
   "source": [
    "## Better Triggers\n",
    "Maybe a lighter weight thing to do is push a little extra bullshit into z3 to overcome it's barriers.\n",
    "\n",
    "Lemma injection\n",
    "Trigger injection\n",
    "\n",
    "knuckeldummies. trigger terms\n",
    "https://smt-workshop.cs.uiowa.edu/2023/slides/paper_11.pdf complkete trigger selection in satasifiability modulo theories https://ceur-ws.org/Vol-3429/paper11.pdf\n",
    "https://dl.acm.org/doi/full/10.1145/3571748 Identifying Overly Restrictive Matching Patterns in SMT-based Program Verifiers (Extended Version)\n",
    "https://mmoskal.github.io/smt/e-matching.pdf  E-matching for Fun and Prof\n",
    "\n",
    "This is like what cody was talking about\n",
    "interesting_terms =[]\n",
    "dummy = FreshConst(  , prefix=\"knuckledummy)\n",
    "for itemr in interesting_terms:\n",
    "    s.add(Exists([dummy], dummy == iterm))\n",
    "\n",
    "I should see if this is sufficient.\n"
   ]
  },
  {
   "cell_type": "markdown",
   "metadata": {},
   "source": [
    "# Extraction Lambidfy\n",
    "A good point is that we may want to extract python code, C code, numpy, pytorch, etc.\n",
    "\n",
    "Codegen a string and eval it?\n",
    "\n",
    "\n",
    "lambdafiy\n",
    "https://docs.sympy.org/latest/modules/utilities/lambdify.html\n",
    "\n",
    "\n",
    "numpy\n",
    "pandas/polars\n",
    "\n",
    "smt theory of dataframes.\n",
    "https://arxiv.org/abs/2405.03057"
   ]
  },
  {
   "cell_type": "markdown",
   "metadata": {},
   "source": [
    "I feel the need to havbe all kinds of trasnaltors. Register sine function as going to this and that. dreal, arb, calcium.\n",
    "\n",
    "Lambdify is so hacky, I don't really trust it.\n",
    "Shims for names.\n"
   ]
  },
  {
   "cell_type": "code",
   "execution_count": null,
   "metadata": {},
   "outputs": [],
   "source": [
    "import sympy as sp\n",
    "import knuckledragger.theories.Real as R\n",
    "\n",
    "sp.lamdbify([x], sp.exp(sp.exp(x)))\n"
   ]
  },
  {
   "cell_type": "code",
   "execution_count": 78,
   "metadata": {},
   "outputs": [
    {
     "name": "stdout",
     "output_type": "stream",
     "text": [
      "\n",
      "def _knuckle_lambdifygenerated(x):\n",
      "    return x**2 + 2*x + 1\n",
      "    \n"
     ]
    },
    {
     "data": {
      "text/latex": [
       "$\\displaystyle \\left(x_{1} + 1\\right)^{2}$"
      ],
      "text/plain": [
       "(x1 + 1)**2"
      ]
     },
     "execution_count": 78,
     "metadata": {},
     "output_type": "execute_result"
    }
   ],
   "source": [
    "import sympy\n",
    "_lambdify_generated_counter = 0\n",
    "def lambdify(xs, body):\n",
    "    xs = (xs,) if isinstance(x, z3.ExprRef) else xs\n",
    "    xs = map(str,xs)\n",
    "    funcname = '_knuckle_lambdifygenerated'\n",
    "    funcstr = f\"\"\"\n",
    "def {funcname}({','.join(xs)}):\n",
    "    return {body}\n",
    "    \"\"\"\n",
    "    print(funcstr)\n",
    "    global _lambdify_generated_counter\n",
    "    filename = '<lambdifygenerated-%s>' % _lambdify_generated_counter\n",
    "    _lambdify_generated_counter += 1\n",
    "    c = compile(funcstr, filename, 'exec')\n",
    "    namespace = {\"sympy\": sympy}\n",
    "    funclocals = {}\n",
    "    exec(c, namespace, funclocals)\n",
    "    return funclocals[funcname]\n",
    "\n",
    "from z3 import *\n",
    "x = Real(\"x\")\n",
    "x1 = sp.symbols(\"x1\")\n",
    "lambdify(x, x**2 + 2*x + 1)(x1).factor()\n"
   ]
  },
  {
   "cell_type": "code",
   "execution_count": null,
   "metadata": {},
   "outputs": [],
   "source": [
    "\n",
    "def lambdify_defns():\n",
    "    code = []\n",
    "    for defn in kernel.defns:\n",
    "        code.append(f\"\"\"\n",
    "                    \n",
    "                    defns.args\"\"\"\n"
   ]
  },
  {
   "cell_type": "code",
   "execution_count": 50,
   "metadata": {},
   "outputs": [
    {
     "data": {
      "text/html": [
       "&exist;Real : exp(exp(Real))"
      ],
      "text/plain": [
       "Lambda(Real, exp(exp(Real)))"
      ]
     },
     "execution_count": 50,
     "metadata": {},
     "output_type": "execute_result"
    }
   ],
   "source": [
    "from sympy import lambdify\n",
    "import sympy.abc\n",
    "import knuckledragger.theories.Real as R\n",
    "import knuckledragger as kd\n",
    "import sympy as sp\n",
    "import knuckledragger.smt as smt\n",
    "\n",
    "x = sp.symbols(\"x\")\n",
    "f = sp.Lambda(x, sp.exp(sp.exp(x)))\n",
    "lambdify([sp.abc.x], f, [smt, R])(smt.RealVal(1))"
   ]
  },
  {
   "cell_type": "code",
   "execution_count": 61,
   "metadata": {},
   "outputs": [
    {
     "name": "stdout",
     "output_type": "stream",
     "text": [
      "[x + 1 == 0]\n"
     ]
    },
    {
     "data": {
      "text/html": [
       "x + 1"
      ],
      "text/plain": [
       "x + 1"
      ]
     },
     "execution_count": 61,
     "metadata": {},
     "output_type": "execute_result"
    }
   ],
   "source": [
    "def factor(t: smt.ExprRef) -> smt.ExprRef:\n",
    "    expr = smt.FreshConst(t.sort(), prefix=\"knuckle_goal\")\n",
    "    G = smt.Goal()\n",
    "    #for v in kd.kernel.defns.values():\n",
    "    #    G.add(v.ax.thm)\n",
    "    G.add(t == 0)\n",
    "    G2 = smt.Tactic(\"factor\").apply(G)[0]\n",
    "    print(G2)\n",
    "    return G2[len(G2) - 1].children()[0]\n",
    "\n",
    "x, y = smt.Reals(\"x y\")\n",
    "factor(x**2 + 2*x + 1)"
   ]
  },
  {
   "cell_type": "code",
   "execution_count": 96,
   "metadata": {},
   "outputs": [
    {
     "data": {
      "text/latex": [
       "$\\displaystyle \\left\\{0\\right\\}$"
      ],
      "text/plain": [
       "{0}"
      ]
     },
     "execution_count": 96,
     "metadata": {},
     "output_type": "execute_result"
    }
   ],
   "source": [
    "import sympy as sp\n",
    "def mvt(t, x, a, b):\n",
    "    eps = sp.symbols(\"\\epsilon\")\n",
    "    dt = t.subs(x,eps).diff(eps)\n",
    "    sol = sp.solve(sp.Eq(t.subs(x,a), t.subs(x,b) + dt * (b - a)), eps)\n",
    "    return dt.subs(eps,sol[0])\n",
    "x,a,b = sp.symbols(\"x a b\")\n",
    "\n",
    "mvt(x**2, x, a, b)*(b-a)\n",
    "\n",
    "sp.singularities(mvt(sp.exp(x), x, a, b), (b-a))\n",
    "\n",
    "    "
   ]
  },
  {
   "cell_type": "code",
   "execution_count": null,
   "metadata": {},
   "outputs": [],
   "source": [
    "def singularity_removal(t):\n",
    "    \n"
   ]
  },
  {
   "cell_type": "code",
   "execution_count": 62,
   "metadata": {},
   "outputs": [
    {
     "data": {
      "text/latex": [
       "$\\displaystyle x^{2} + 3 x + 1$"
      ],
      "text/plain": [
       "x**2 + 3*x + 1"
      ]
     },
     "execution_count": 62,
     "metadata": {},
     "output_type": "execute_result"
    }
   ],
   "source": [
    "x = sp.symbols(\"x\")\n",
    "sp.factor(x**2 + 3*x + 1)"
   ]
  },
  {
   "cell_type": "code",
   "execution_count": null,
   "metadata": {},
   "outputs": [],
   "source": [
    "ExprRef.to_sympy\n",
    "def to_sympy(t : smt.ExprRef):\n",
    "    \n",
    "\n",
    "def from_sympy(x, t):\n",
    "    return sp.lambdify([x], t, [kd.smt, R])(x)"
   ]
  },
  {
   "cell_type": "markdown",
   "metadata": {},
   "source": [
    "factor, trigsimp, expand_trig, hyperexpand, \n",
    "\n",
    "diff\n",
    "\n"
   ]
  },
  {
   "cell_type": "markdown",
   "metadata": {},
   "source": [
    "# Cond\n",
    "Pattern matching\n",
    "Chaining via If sucks,\n",
    "\n",
    "Ben suggests pandas interfave as preexisting\n"
   ]
  },
  {
   "cell_type": "code",
   "execution_count": 19,
   "metadata": {},
   "outputs": [
    {
     "ename": "Exception",
     "evalue": "('Cases not exhaustive. Fix or give default', [x = 0])",
     "output_type": "error",
     "traceback": [
      "\u001b[0;31m---------------------------------------------------------------------------\u001b[0m",
      "\u001b[0;31mException\u001b[0m                                 Traceback (most recent call last)",
      "Cell \u001b[0;32mIn[19], line 36\u001b[0m\n\u001b[1;32m     32\u001b[0m x \u001b[38;5;241m=\u001b[39m z3\u001b[38;5;241m.\u001b[39mReal(\u001b[38;5;124m\"\u001b[39m\u001b[38;5;124mx\u001b[39m\u001b[38;5;124m\"\u001b[39m)\n\u001b[1;32m     33\u001b[0m cond((x \u001b[38;5;241m>\u001b[39m \u001b[38;5;241m0\u001b[39m,  \u001b[38;5;241m3\u001b[39m\u001b[38;5;241m*\u001b[39mx),\n\u001b[1;32m     34\u001b[0m      (x \u001b[38;5;241m<\u001b[39m \u001b[38;5;241m0\u001b[39m,  \u001b[38;5;241m2\u001b[39m\u001b[38;5;241m*\u001b[39mx),\n\u001b[1;32m     35\u001b[0m      (x \u001b[38;5;241m==\u001b[39m \u001b[38;5;241m0\u001b[39m, \u001b[38;5;241m5\u001b[39m\u001b[38;5;241m*\u001b[39mx))\n\u001b[0;32m---> 36\u001b[0m \u001b[43mcond\u001b[49m\u001b[43m(\u001b[49m\u001b[43m(\u001b[49m\u001b[43mx\u001b[49m\u001b[43m \u001b[49m\u001b[38;5;241;43m<\u001b[39;49m\u001b[43m \u001b[49m\u001b[38;5;241;43m0\u001b[39;49m\u001b[43m,\u001b[49m\u001b[43m \u001b[49m\u001b[38;5;241;43m2\u001b[39;49m\u001b[38;5;241;43m*\u001b[39;49m\u001b[43mx\u001b[49m\u001b[43m)\u001b[49m\u001b[43m,\u001b[49m\n\u001b[1;32m     37\u001b[0m \u001b[43m     \u001b[49m\u001b[43m(\u001b[49m\u001b[43mx\u001b[49m\u001b[43m \u001b[49m\u001b[38;5;241;43m>\u001b[39;49m\u001b[43m \u001b[49m\u001b[38;5;241;43m0\u001b[39;49m\u001b[43m,\u001b[49m\u001b[43m  \u001b[49m\u001b[38;5;241;43m3\u001b[39;49m\u001b[38;5;241;43m*\u001b[39;49m\u001b[43mx\u001b[49m\u001b[43m)\u001b[49m\u001b[43m)\u001b[49m\n",
      "Cell \u001b[0;32mIn[19], line 10\u001b[0m, in \u001b[0;36mcond\u001b[0;34m(default, *cases)\u001b[0m\n\u001b[1;32m      8\u001b[0m res \u001b[38;5;241m=\u001b[39m s\u001b[38;5;241m.\u001b[39mcheck()\n\u001b[1;32m      9\u001b[0m \u001b[38;5;28;01mif\u001b[39;00m res \u001b[38;5;241m==\u001b[39m z3\u001b[38;5;241m.\u001b[39msat:\n\u001b[0;32m---> 10\u001b[0m     \u001b[38;5;28;01mraise\u001b[39;00m \u001b[38;5;167;01mException\u001b[39;00m(\u001b[38;5;124m\"\u001b[39m\u001b[38;5;124mCases not exhaustive. Fix or give default\u001b[39m\u001b[38;5;124m\"\u001b[39m, s\u001b[38;5;241m.\u001b[39mmodel())\n\u001b[1;32m     11\u001b[0m \u001b[38;5;28;01melif\u001b[39;00m res \u001b[38;5;241m!=\u001b[39m z3\u001b[38;5;241m.\u001b[39munsat:\n\u001b[1;32m     12\u001b[0m     \u001b[38;5;28;01mraise\u001b[39;00m \u001b[38;5;167;01mException\u001b[39;00m(\u001b[38;5;124m\"\u001b[39m\u001b[38;5;124mSolver error. Give default\u001b[39m\u001b[38;5;124m\"\u001b[39m, res)\n",
      "\u001b[0;31mException\u001b[0m: ('Cases not exhaustive. Fix or give default', [x = 0])"
     ]
    }
   ],
   "source": [
    "import z3\n",
    "# but still that class form might format better under ruff\n",
    "def cond(*cases, default=None):\n",
    "    sort = cases[0][1].sort()\n",
    "    if default is None:\n",
    "        s = z3.Solver()\n",
    "        s.add(z3.Not(z3.Or([c for c, t in cases])))\n",
    "        res = s.check()\n",
    "        if res == z3.sat:\n",
    "            raise Exception(\"Cases not exhaustive. Fix or give default\", s.model())\n",
    "        elif res != z3.unsat:\n",
    "            raise Exception(\"Solver error. Give default\", res)\n",
    "        else:\n",
    "            default = z3.FreshConst(sort,prefix=\"unreachable\")\n",
    "    acc = default\n",
    "    for (c, t) in reversed(cases):\n",
    "        if t.sort() != sort:\n",
    "            raise Exception(\"Sort mismatch in cond\", t, sort)\n",
    "        acc = z3.If(c, t, acc)\n",
    "    return acc\n",
    "\n",
    "# Calc also has benefit of throwing error at right line, picking le lt, simp. etc.\n",
    "# but maybe calc is still good for one liners?\n",
    "# Calc can be chained as @=?\n",
    "\"\"\"\n",
    "def calc(vs, *cases):\n",
    "    for v in vs:\n",
    "        if v in cases:\n",
    "            return cases[v]\n",
    "    return None\n",
    "\"\"\"\n",
    "x = z3.Real(\"x\")\n",
    "cond((x > 0,  3*x),\n",
    "     (x < 0,  2*x),\n",
    "     (x == 0, 5*x))\n",
    "cond((x < 0, 2*x),\n",
    "     (x > 0,  3*x))\n"
   ]
  },
  {
   "cell_type": "code",
   "execution_count": null,
   "metadata": {},
   "outputs": [],
   "source": [
    "class Cond:\n",
    "    \"\"\"\n",
    "    Cond is a useful way to build up giant if-then-else expressions.\n",
    "    \"\"\"\n",
    "\n",
    "    def __init__(self):\n",
    "        self.clauses = []\n",
    "        self.cur_case = None\n",
    "        self.other = None\n",
    "        self.sort = None\n",
    "        self.default = None\n",
    "\n",
    "    def when(self, c: smt.BoolRef) -> \"Cond\":\n",
    "        assert self.cur_case is None\n",
    "        assert isinstance(c, smt.BoolRef)\n",
    "        self.cur_case = c\n",
    "        return self\n",
    "\n",
    "    def then(self, e: smt.ExprRef) -> \"Cond\":\n",
    "        assert self.cur_case is not None\n",
    "        if self.sort is not None:\n",
    "            assert e.sort() == self.sort\n",
    "        else:\n",
    "            self.sort = e.sort()\n",
    "        self.clauses.append((self.cur_case, e))\n",
    "        self.cur_case = None\n",
    "        return self\n",
    "\n",
    "    def otherwise(self, e: smt.ExprRef) -> smt.ExprRef:\n",
    "        assert self.default is None\n",
    "        assert self.sort == e.sort()\n",
    "        self.default = e\n",
    "        return self.expr()\n",
    "\n",
    "    def expr(self) -> smt.ExprRef:\n",
    "        assert self.default is not None\n",
    "        assert self.cur_case is None\n",
    "        acc = self.default\n",
    "        for c, e in reversed(self.clauses):\n",
    "            acc = smt.If(c, e, acc)\n",
    "        return acc"
   ]
  },
  {
   "cell_type": "code",
   "execution_count": 11,
   "metadata": {},
   "outputs": [
    {
     "ename": "SyntaxError",
     "evalue": "invalid syntax (2554044391.py, line 6)",
     "output_type": "error",
     "traceback": [
      "\u001b[0;36m  Cell \u001b[0;32mIn[11], line 6\u001b[0;36m\u001b[0m\n\u001b[0;31m    (c &= x + 0) &= x + 0 + 0\u001b[0m\n\u001b[0m       ^\u001b[0m\n\u001b[0;31mSyntaxError\u001b[0m\u001b[0;31m:\u001b[0m invalid syntax\n"
     ]
    }
   ],
   "source": [
    "import knuckledragger as kd\n",
    "Calc.__iand__ = Calc.eq\n",
    "\n",
    "x = Real(\"x\")\n",
    "c = Calc([x], x) \n",
    "c &= x + 0 &= x + 0 + 0\n",
    "# ah no such luck. Oh well. It's for the best probably. Too cute by half.\n"
   ]
  },
  {
   "cell_type": "markdown",
   "metadata": {},
   "source": [
    "# z3 Parameters\n",
    "\n",
    "\n",
    "https://microsoft.github.io/z3guide/programming/Parameters/\n",
    "\n"
   ]
  },
  {
   "cell_type": "code",
   "execution_count": 27,
   "metadata": {},
   "outputs": [
    {
     "data": {
      "text/html": [
       "<b>unsat</b>"
      ],
      "text/plain": [
       "unsat"
      ]
     },
     "execution_count": 27,
     "metadata": {},
     "output_type": "execute_result"
    }
   ],
   "source": [
    "from z3 import *\n",
    "cos = Function(\"cos\", RealSort(), RealSort())\n",
    "sin = Function(\"sin\", RealSort(), RealSort())\n",
    "x, y = Reals(\"x y\")\n",
    "sin_sum = ForAll([x,y], sin(x+y) == sin(x) * cos(y) + cos(x) * sin(y), qid=\"sin_sum\")\n",
    "l = sin(x + x) == 2 * sin(x) * cos(x)\n",
    "s = Solver()\n",
    "s.set(\"timeout\", 1000)\n",
    "s.set(\"instantiations2console\", True)\n",
    "#s.set(\"qi.max_multi_patterns\", 3)\n",
    "#s.set(\"lemmas2console\", True)\n",
    "#s.set(\"arith.solver\", 5)\n",
    "s.add(sin_sum)\n",
    "s.add(Not(l))\n",
    "s.check()"
   ]
  },
  {
   "cell_type": "markdown",
   "metadata": {},
   "source": [
    "# Termination checking\n",
    "\n",
    "Surely I have notes somewhere else?\n",
    "\n",
    "Lex ordering of integers shouldn't be that bad\n",
    "Could even use\n",
    "V1 Nat\n",
    "V2 Nat\n",
    "v3 Nat\n",
    "\n",
    "And V10 being well ordered ought the prove V1-9 are\n",
    "\n",
    "Any algorithm running in less that N^10 ought to be provably terminating?\n",
    "\n"
   ]
  },
  {
   "cell_type": "code",
   "execution_count": null,
   "metadata": {},
   "outputs": [],
   "source": [
    "V2 = kd.Record(\"V2\", (\"x\", Nat), (\"y\", Nat))\n",
    "\n"
   ]
  },
  {
   "cell_type": "markdown",
   "metadata": {},
   "source": [
    "# serialization\n",
    "\n",
    "metamath import export?\n"
   ]
  },
  {
   "cell_type": "code",
   "execution_count": 214,
   "metadata": {},
   "outputs": [
    {
     "name": "stdout",
     "output_type": "stream",
     "text": [
      "Bool\n",
      "Array(Int, Bool)\n"
     ]
    },
    {
     "ename": "SMTException",
     "evalue": "sort mismatch",
     "output_type": "error",
     "traceback": [
      "\u001b[0;31m---------------------------------------------------------------------------\u001b[0m",
      "\u001b[0;31mSMTException\u001b[0m                              Traceback (most recent call last)",
      "Cell \u001b[0;32mIn[214], line 9\u001b[0m\n\u001b[1;32m      7\u001b[0m \u001b[38;5;28mprint\u001b[39m(l\u001b[38;5;241m.\u001b[39msort())\n\u001b[1;32m      8\u001b[0m \u001b[38;5;28mprint\u001b[39m(foo\u001b[38;5;241m.\u001b[39msort())\n\u001b[0;32m----> 9\u001b[0m \u001b[43mfoo\u001b[49m\u001b[43m \u001b[49m\u001b[38;5;241;43m==\u001b[39;49m\u001b[43m \u001b[49m\u001b[43ml\u001b[49m\n\u001b[1;32m     10\u001b[0m \u001b[38;5;66;03m#foo == \u001b[39;00m\n",
      "File \u001b[0;32m~/.local/lib/python3.10/site-packages/cvc5/pythonic/cvc5_pythonic.py:373\u001b[0m, in \u001b[0;36mExprRef.__eq__\u001b[0;34m(self, other)\u001b[0m\n\u001b[1;32m    371\u001b[0m \u001b[38;5;28;01mif\u001b[39;00m other \u001b[38;5;129;01mis\u001b[39;00m \u001b[38;5;28;01mNone\u001b[39;00m:\n\u001b[1;32m    372\u001b[0m     \u001b[38;5;28;01mreturn\u001b[39;00m \u001b[38;5;28;01mFalse\u001b[39;00m\n\u001b[0;32m--> 373\u001b[0m a, b \u001b[38;5;241m=\u001b[39m \u001b[43m_coerce_exprs\u001b[49m\u001b[43m(\u001b[49m\u001b[38;5;28;43mself\u001b[39;49m\u001b[43m,\u001b[49m\u001b[43m \u001b[49m\u001b[43mother\u001b[49m\u001b[43m)\u001b[49m\n\u001b[1;32m    374\u001b[0m c \u001b[38;5;241m=\u001b[39m \u001b[38;5;28mself\u001b[39m\u001b[38;5;241m.\u001b[39mctx\n\u001b[1;32m    375\u001b[0m \u001b[38;5;28;01mreturn\u001b[39;00m BoolRef(c\u001b[38;5;241m.\u001b[39msolver\u001b[38;5;241m.\u001b[39mmkTerm(Kind\u001b[38;5;241m.\u001b[39mEQUAL, a\u001b[38;5;241m.\u001b[39mas_ast(), b\u001b[38;5;241m.\u001b[39mas_ast()), c)\n",
      "File \u001b[0;32m~/.local/lib/python3.10/site-packages/cvc5/pythonic/cvc5_pythonic.py:1066\u001b[0m, in \u001b[0;36m_coerce_exprs\u001b[0;34m(a, b, ctx)\u001b[0m\n\u001b[1;32m   1064\u001b[0m s \u001b[38;5;241m=\u001b[39m \u001b[38;5;28;01mNone\u001b[39;00m\n\u001b[1;32m   1065\u001b[0m s \u001b[38;5;241m=\u001b[39m _coerce_expr_merge(s, a)\n\u001b[0;32m-> 1066\u001b[0m s \u001b[38;5;241m=\u001b[39m \u001b[43m_coerce_expr_merge\u001b[49m\u001b[43m(\u001b[49m\u001b[43ms\u001b[49m\u001b[43m,\u001b[49m\u001b[43m \u001b[49m\u001b[43mb\u001b[49m\u001b[43m)\u001b[49m\n\u001b[1;32m   1067\u001b[0m a \u001b[38;5;241m=\u001b[39m s\u001b[38;5;241m.\u001b[39mcast(a)\n\u001b[1;32m   1068\u001b[0m b \u001b[38;5;241m=\u001b[39m s\u001b[38;5;241m.\u001b[39mcast(b)\n",
      "File \u001b[0;32m~/.local/lib/python3.10/site-packages/cvc5/pythonic/cvc5_pythonic.py:1037\u001b[0m, in \u001b[0;36m_coerce_expr_merge\u001b[0;34m(s, a)\u001b[0m\n\u001b[1;32m   1035\u001b[0m         \u001b[38;5;28;01mif\u001b[39;00m debugging():\n\u001b[1;32m   1036\u001b[0m             _assert(s1\u001b[38;5;241m.\u001b[39mctx \u001b[38;5;241m==\u001b[39m s\u001b[38;5;241m.\u001b[39mctx, \u001b[38;5;124m\"\u001b[39m\u001b[38;5;124mcontext mismatch\u001b[39m\u001b[38;5;124m\"\u001b[39m)\n\u001b[0;32m-> 1037\u001b[0m             \u001b[43m_assert\u001b[49m\u001b[43m(\u001b[49m\u001b[38;5;28;43;01mFalse\u001b[39;49;00m\u001b[43m,\u001b[49m\u001b[43m \u001b[49m\u001b[38;5;124;43m\"\u001b[39;49m\u001b[38;5;124;43msort mismatch\u001b[39;49m\u001b[38;5;124;43m\"\u001b[39;49m\u001b[43m)\u001b[49m\n\u001b[1;32m   1038\u001b[0m \u001b[38;5;28;01melse\u001b[39;00m:\n\u001b[1;32m   1039\u001b[0m     \u001b[38;5;28;01mreturn\u001b[39;00m s\n",
      "File \u001b[0;32m~/.local/lib/python3.10/site-packages/cvc5/pythonic/cvc5_pythonic.py:114\u001b[0m, in \u001b[0;36m_assert\u001b[0;34m(cond, msg)\u001b[0m\n\u001b[1;32m    112\u001b[0m \u001b[38;5;28;01mdef\u001b[39;00m \u001b[38;5;21m_assert\u001b[39m(cond, msg):\n\u001b[1;32m    113\u001b[0m     \u001b[38;5;28;01mif\u001b[39;00m \u001b[38;5;129;01mnot\u001b[39;00m cond:\n\u001b[0;32m--> 114\u001b[0m         \u001b[38;5;28;01mraise\u001b[39;00m SMTException(msg)\n",
      "\u001b[0;31mSMTException\u001b[0m: sort mismatch"
     ]
    }
   ],
   "source": [
    "from cvc5.pythonic import *\n",
    "\n",
    "foo = Const(\"foo\", ArraySort(IntSort(), BoolSort()))\n",
    "x = Bool(\"x\")\n",
    "y = Int(\"y\")\n",
    "l = Lambda([y], BoolVal(True))\n",
    "print(l.sort())\n",
    "print(foo.sort())\n",
    "foo == l\n",
    "#foo == \n"
   ]
  },
  {
   "cell_type": "code",
   "execution_count": null,
   "metadata": {},
   "outputs": [],
   "source": [
    "def proof_to_json(pfs: list[kd.kernel.Proof]):\n",
    "    hashcons = {}\n",
    "    pf_array = pfs\n",
    "    i = 0\n",
    "    while len(pfs) > i\n",
    "        p = pf_array[i]\n",
    "        len(pf_array)\n",
    "\n",
    "        \n",
    "\n",
    "def json_to_proof(j):\n",
    "    for i in j:\n",
    "        "
   ]
  },
  {
   "cell_type": "markdown",
   "metadata": {},
   "source": [
    "# Database\n",
    "Lemma search is super important. Also docs\n",
    "\n",
    "Maybe I should make some kind of auto scraper.\n",
    "\n",
    "Use AI to generate summaries\n",
    "\n",
    "RAG\n",
    "\n",
    "\n",
    "Smart lemma should return some guesses on failure of what may have gone wrong:\n",
    "\n",
    "- definitions missing\n",
    "- possibly useful theorems. by pattern match, by fingerprint index, ai query.\n",
    "- countermodel - nitpick\n",
    "\n",
    "I can't search induction lemmas or other schema. That's bad.\n",
    "or `apply` a schema.\n",
    "Maybe a Schema registry system.\n",
    "\n",
    "lemma(  ,  ,apply=, auto=True, simp=True)\n",
    "\n",
    "\n",
    "\n",
    "\n",
    "\n"
   ]
  },
  {
   "cell_type": "code",
   "execution_count": 7,
   "metadata": {},
   "outputs": [
    {
     "data": {
      "text/plain": [
       "[|- ForAll([x, y], plus(x, y) == x + y),\n",
       " |- ForAll(x, plus(x, 0) == x),\n",
       " |- ForAll([x, y], plus(x, y) == plus(y, x)),\n",
       " |- ForAll([x, y, z],\n",
       "        plus(x, plus(y, z)) == plus(plus(x, y), z)),\n",
       " |- ForAll([x, y], mul(x, y) == x*y),\n",
       " |- ForAll(x, mul(x, 0) == 0),\n",
       " |- ForAll(x, mul(x, 1) == x),\n",
       " |- ForAll([x, y], mul(x, y) == mul(y, x)),\n",
       " |- ForAll([x, y, z], mul(x, mul(y, z)) == mul(mul(x, y), z)),\n",
       " |- ForAll([x, y, z],\n",
       "        mul(x, plus(y, z)) == plus(mul(x, y), mul(x, z))),\n",
       " |- ForAll(x, abs(abs(x)) == abs(x)),\n",
       " |- ForAll(x, abs(-x) == abs(x)),\n",
       " |- ForAll(x, abs(x) >= 0),\n",
       " |- ForAll(x, nonneg(x) == (x >= 0)),\n",
       " |- ForAll([x, y], max(x, y) == max(y, x)),\n",
       " |- ForAll([x, y, z], max(x, max(y, z)) == max(max(x, y), z)),\n",
       " |- ForAll(x, max(x, x) == x),\n",
       " |- ForAll([x, y], max(x, y) >= x),\n",
       " |- ForAll([x, y], max(x, y) >= y),\n",
       " |- ForAll([x, y], min(x, y) == min(y, x)),\n",
       " |- ForAll([x, y, z], min(x, min(y, z)) == min(min(x, y), z)),\n",
       " |- ForAll(x, min(x, x) == x),\n",
       " |- ForAll([x, y], min(x, y) <= x),\n",
       " |- ForAll([x, y], min(x, y) <= y),\n",
       " |- ForAll(x, nonneg(x) == (abs(x) == x)),\n",
       " |- ForAll([x, y], max(x, y) == If(x >= y, x, y)),\n",
       " |- ForAll([x, y], min(x, y) == If(x <= y, x, y)),\n",
       " |- ForAll(x, abs(x) == If(x >= 0, x, -x))]"
      ]
     },
     "execution_count": 7,
     "metadata": {},
     "output_type": "execute_result"
    }
   ],
   "source": [
    "#https://stackoverflow.com/questions/328851/printing-all-instances-of-a-class\n",
    "import gc\n",
    "import knuckledragger as kd\n",
    "import knuckledragger.theories.Real as R\n",
    "db = [obj for obj in gc.get_objects() if kd.kernel.is_proof(obj)]\n",
    "db\n",
    "\n",
    "def blast(thm):\n",
    "    return kd.kernel.lemma(thm,by=[obj for obj in gc.get_objects() if kd.kernel.is_proof(obj)])\n"
   ]
  },
  {
   "cell_type": "code",
   "execution_count": null,
   "metadata": {},
   "outputs": [],
   "source": [
    "\n",
    "\n",
    "def search_decl(f : z3.FuncDeclRef):\n",
    "    yield from filter(lambda thm: f in map(ts.decl() thms)\n",
    "def search_pat(pat : z3.ExprRef):\n",
    "    yield from filter(lambda thm: pat in thm.children(), thms)\n",
    "def search_text():\n",
    "    pass\n",
    "\n",
    "\n"
   ]
  },
  {
   "cell_type": "markdown",
   "metadata": {},
   "source": [
    "We shouldn't find anything with sorts that aren't in our expression (?) Uh, I dunno. Maybe we should\n"
   ]
  },
  {
   "cell_type": "code",
   "execution_count": 98,
   "metadata": {},
   "outputs": [
    {
     "name": "stdout",
     "output_type": "stream",
     "text": [
      "Counter({+: 2, max: 2, q: 2, abs: 1, r: 1, x: 1, p: 1})\n",
      "[('_', |- ForAll(x, abs(x) >= 0)), ('foo', |- ForAll(x, abs(x) >= 0)), ('_89', |- ForAll(x, abs(x) >= 0))]\n",
      "dict_keys(['__name__', '__doc__', '__package__', '__loader__', '__spec__', '__builtin__', '__builtins__', '_ih', '_oh', '_dh', 'In', 'Out', 'get_ipython', 'exit', 'quit', 'open', '_', '__', '___', '__vsc_ipynb_file__', '_i', '_ii', '_iii', '_i1', 'gc', 'db', 'obj', '_i2', 'kd', '_2', '_i3', '_3', '_i4', '_i5', '_5', '_i6', 'R', '_6', '_i7', '_7', '_i8', '_i9', '_i10', '_i11', '_i12', 'cond', '_12', '_i13', '_i14', '_i15', 'z3', 'x', '_i16', '_i17', '_i18', '_18', '_i19', '_i20', '_i21', '_i22', 'Counter', 'subterms', 'feature_vector', 'dot', 'search', '_i23', '_i24', 'y', 'z', '_i25', 'sys', '_i26', '_i27', '_i28', '_i29', '_i30', '_i31', '_i32', '_32', '_i33', '_33', '_i34', '_34', '_i35', '_i36', '_36', '_i37', '_37', '_i38', '_38', '_i39', '_i40', '_40', '_i41', '_i42', '_42', '_i43', '_43', '_i44', '_44', '_i45', '_45', '_i46', '_46', '_i47', 'inspect', '_47', '_i48', '_i49', '_i50', '_i51', '_51', '_i52', 'p', 'q', 'r', '_52', '_i53', '_53', '_i54', 'I', '_54', '_i55', '_i56', '_56', '_i57', '_i58', 'subterm_set', 'defns', '_58', '_i59', '_59', '_i60', '_60', '_i61', '_61', '_i62', '_i63', '_63', '_i64', '_64', '_i65', '_i66', '_i67', '_i68', '_i69', '_i70', '_i71', '_71', '_i72', 'decls', '_i73', '_73', '_i74', '_i75', '_i76', '_76', '_i77', '_i78', '_i79', 'knuckledragger', '_i80', '_80', '_i81', '_81', '_i82', 'search_locals', '_i83', '_i84', '_i85', '_i86', 'foo', '_i87', '_i88', '_i89', '_89', '_i90', '_i91', '_i92', '_i93', '_i94', '_i95', '_i96', '_i97', '_i98'])\n"
     ]
    }
   ],
   "source": [
    "from collections import Counter\n",
    "import sys\n",
    "def subterm_set(x):\n",
    "    s = set()\n",
    "    todo = [x]\n",
    "    for x in todo:\n",
    "        if x in s:\n",
    "            continue\n",
    "        s.add(x)\n",
    "        todo.extend(x.children())        \n",
    "    return s\n",
    "def subterms(x):\n",
    "    todo = [x]\n",
    "    for x in todo:\n",
    "        yield x\n",
    "        todo.extend(x.children())\n",
    "\n",
    "def decls(t):\n",
    "    return {f.decl() for f in subterm_set(t) if z3.is_app(f)}\n",
    "\n",
    "def defns(t):\n",
    "    return {kd.kernel.defns[decl].ax for decl in decls(t) if decl in kd.kernel.defns}\n",
    "\n",
    "def feature_vector(thm):\n",
    "    #sterms = subterms(thm)\n",
    "    #decls = Counter(s.decl() for s in sterms) # count?\n",
    "    decls = Counter(s.decl() for s in subterms(thm) if z3.is_app(s))\n",
    "    #sorts = Counter(s.sort() for s in subterms(thm) if z3.is_app(s))\n",
    "    #sys.getrefcount(thm) # or of proof?\n",
    "    # has name? also useful feature\n",
    "    #print(decls, sorts)\n",
    "    return decls #+ sorts\n",
    "    #words = Counter(s.decl().name() for s in sterms)\n",
    "    # pretty print\n",
    "\n",
    "# We should not\n",
    "def dot(x : Counter,y : Counter) -> float:\n",
    "    xnorm = sum(v**2 for v in x.values())**0.5\n",
    "    ynorm = sum(v**2 for v in y.values())**0.5\n",
    "    common_keys = x.keys() & y.keys()\n",
    "    #return len(common_keys)\n",
    "    return sum(x[k] * y[k] for k in common_keys) / xnorm / ynorm\n",
    "        \n",
    "import gc\n",
    "import knuckledragger as kd\n",
    "import knuckledragger.theories.Real as R\n",
    "import knuckledragger.theories.Interval as I\n",
    "import knuckledragger.utils\n",
    "import inspect\n",
    "def search(thm):\n",
    "    fv = feature_vector(thm)\n",
    "    print(fv)\n",
    "    pfs = [(modname, modname + \".\" + thmname, thm) for modname, mod in kd.utils.lemma_db().items() for thmname, thm in mod.items()]\n",
    "    return sorted([(dot(fv, feature_vector(obj.thm)) , thmname, obj) for modname, thmname, obj in pfs if kd.kernel.is_proof(obj)], key=lambda x: -x[0])\n",
    "    #return sorted([(dot(fv, feature_vector(obj.thm)) , obj) for obj in gc.get_objects() if kd.kernel.is_proof(obj)], key=lambda x: -x[0])\n",
    "def search_locals(thm):\n",
    "    #print(locals())\n",
    "    # Get the current call stack\n",
    "    stack = inspect.stack()\n",
    "    \n",
    "    # The caller's frame is the second in the stack (index 1)\n",
    "    caller_frame = stack[1].frame\n",
    "    \n",
    "    # Get the local variables of the caller's frame\n",
    "    caller_locals = caller_frame.f_locals\n",
    "    print([(name, x) for name, x in caller_locals.items() if kd.kernel.is_proof(x)]) \n",
    "    print(caller_locals.keys())\n",
    "p,q,r = z3.Reals(\"p q r\")\n",
    "search(R.abs(x) + R.max(p,q) + R.max(r,q))\n",
    "#defns(R.abs(x) + R.max(p,q) + R.max(r,q))\n",
    "#decls(z3.ForAll([x], 0 <=  R.abs(x) + R.max(p,q) + R.max(r,q)))\n",
    "foo = R.abs_ge_0\n",
    "search_locals(R.abs(x) + R.max(p,q) + R.max(r,q))"
   ]
  },
  {
   "cell_type": "code",
   "execution_count": 94,
   "metadata": {},
   "outputs": [],
   "source": [
    "foo = R.abs_ge_0"
   ]
  },
  {
   "cell_type": "markdown",
   "metadata": {},
   "source": []
  },
  {
   "cell_type": "code",
   "execution_count": 6,
   "metadata": {},
   "outputs": [
    {
     "name": "stdout",
     "output_type": "stream",
     "text": [
      "Here are a few ideas for natural theories or theorems you could add to the Knuckledragger project. Each of these comes with Python code that builds upon existing structures and lays out axioms, definitions, and lemmas.\n",
      "\n",
      "### 1. Basic Properties of Even and Odd Numbers\n",
      "\n",
      "This theory will provide definitions for even and odd integers, along with some basic properties.\n",
      "\n",
      "```python\n",
      "# --- /home/philip/Documents/python/knuckledragger/kdrag/theories/even_odd.py\n",
      "\n",
      "import kdrag as kd\n",
      "import kdrag.smt as smt\n",
      "\n",
      "Z = smt.IntSort()\n",
      "\n",
      "# Define the even and odd predicates\n",
      "even = smt.Function(\"even\", Z, smt.BoolSort())\n",
      "odd = smt.Function(\"odd\", Z, smt.BoolSort())\n",
      "\n",
      "# A number is even if it can be expressed as 2k for some integer k\n",
      "kd.axiom(smt.ForAll([n], even(n) == smt.Exists([k], n == 2 * k)))\n",
      "\n",
      "# A number is odd if it can be expressed as 2k + 1 for some integer k\n",
      "kd.axiom(smt.ForAll([n], odd(n) == smt.Exists([k], n == 2 * k + 1)))\n",
      "\n",
      "# Basic properties\n",
      "even_zero = kd.lemma(smt.ForAll([], even(0)), by=[])\n",
      "odd_one = kd.lemma(smt.ForAll([], odd(1)), by=[])\n",
      "\n",
      "# Adding even and odd numbers\n",
      "even_plus_even = kd.lemma(\n",
      "    smt.ForAll([a, b], even(a) & even(b) >> even(a + b)),\n",
      "    by=[smt.ForAll([a, b], smt.Exists([k1, k2], (a == 2*k1) & (b == 2*k2)), (a + b == 2*(k1 + k2)))]\n",
      ")\n",
      "\n",
      "odd_plus_odd = kd.lemma(\n",
      "    smt.ForAll([a, b], odd(a) & odd(b) >> even(a + b)),\n",
      "    by=[smt.ForAll([a, b], smt.Exists([k1, k2], (a == 2*k1 + 1) & (b == 2*k2 + 1)), (a + b == 2*(k1 + k2 + 1)))]\n",
      ")\n",
      "\n",
      "even_plus_odd = kd.lemma(\n",
      "    smt.ForAll([a, b], even(a) & odd(b) >> odd(a + b)),\n",
      "    by=[smt.ForAll([a, b], smt.Exists([k], (a == 2*k) & (b == 2* (k1) + 1)), (a + b == 2*k + 1))]\n",
      ")\n",
      "```\n",
      "\n",
      "### 2. Properties of Prime Numbers\n",
      "\n",
      "This theory covers the definition of prime numbers and their basic properties.\n",
      "\n",
      "```python\n",
      "# --- /home/philip/Documents/python/knuckledragger/kdrag/theories/primes.py\n",
      "\n",
      "import kdrag as kd\n",
      "import kdrag.smt as smt\n",
      "\n",
      "Z = smt.IntSort()\n",
      "\n",
      "is_prime = smt.Function(\"is_prime\", Z, smt.BoolSort())\n",
      "\n",
      "# A prime number is greater than 1 and has no positive divisors other than 1 and itself.\n",
      "kd.axiom(smt.ForAll(\n",
      "    [n], \n",
      "    is_prime(n) == (n > 1 & smt.Not(smt.Exists([d], (d > 1) & (d < n) & (n % d == 0))))\n",
      "))\n",
      "\n",
      "# Define some basic properties of primes\n",
      "prime_two = kd.lemma(smt.ForAll([], is_prime(2)), by=[])\n",
      "\n",
      "not_prime_even = kd.lemma(\n",
      "    smt.ForAll([n], (n > 2 & is_prime(n)) >> smt.Not(is_prime(n + 2))),\n",
      "    by=[smt.ForAll([n], (is_prime(n) >> (n % 2 != 0)))],\n",
      ")\n",
      "\n",
      "# There are infinitely many primes (We could introduce a proof of that, but this is just a pair of examples)\n",
      "inf_primes = kd.lemma(smt.Not(exists([])))\n",
      "```\n",
      "\n",
      "### 3. Basic Properties of Set Theory\n",
      "\n",
      "This theory could introduce the basic axioms of set theory, such as union, intersection, and subsets.\n",
      "\n",
      "```python\n",
      "# --- /home/philip/Documents/python/knuckledragger/kdrag/theories/set_theory.py\n",
      "\n",
      "import kdrag as kd\n",
      "import kdrag.smt as smt\n",
      "\n",
      "Set = smt.DeclareSort(\"Set\")\n",
      "\n",
      "# Define functions for union, intersection, and subset\n",
      "union = smt.Function(\"union\", Set, Set, Set)\n",
      "intersect = smt.Function(\"intersect\", Set, Set, Set)\n",
      "subset = smt.Function(\"subset\", Set, Set, smt.BoolSort())\n",
      "\n",
      "# A definition of union\n",
      "kd.axiom(smt.ForAll(\n",
      "    [A, B, C],\n",
      "    union(A, B, C) == smt.ForAll([x], smt.Or(elem(x, A), elem(x, B)))\n",
      "))\n",
      "\n",
      "# A definition of intersection\n",
      "kd.axiom(smt.ForAll(\n",
      "    [A, B, C],\n",
      "    intersect(A, B, C) == smt.ForAll([x], smt.And(elem(x, A), elem(x, B)))\n",
      "))\n",
      "\n",
      "# A definition of subset\n",
      "kd.axiom(smt.ForAll(\n",
      "    [A, B],\n",
      "    subset(A, B) == smt.ForAll([x], smt.Implies(elem(x, A), elem(x, B)))\n",
      "))\n",
      "\n",
      "# Basic properties\n",
      "empty_set = kd.axiom(smt.ForAll([x], smt.Not(elem(x, empty_set))))\n",
      "```\n",
      "\n",
      "### Conclusion\n",
      "\n",
      "These three small proposals for new theories provide opportunities for further exploration in the Knuckledragger framework. You can expand on these ideas and add more complex properties, proofs, and even connections between different number systems or set constructs. Each of these ideas aligns with the project's goal of establishing a sound theoretical foundation for various mathematical constructs.\n"
     ]
    }
   ],
   "source": [
    "from kdrag.utils import prompt\n",
    "from openai import OpenAI\n",
    "import os\n",
    "def openai_chat(q):\n",
    "    client = OpenAI(\n",
    "        api_key=os.environ.get(\"OPENAI_API_KEY\"),\n",
    "    )\n",
    "\n",
    "    chat_completion = client.chat.completions.create(\n",
    "        messages=[\n",
    "            {\n",
    "                \"role\": \"user\",\n",
    "                \"content\": prompt(q),\n",
    "            }\n",
    "        ],\n",
    "        model=\"gpt-4o-mini\",\n",
    "    )\n",
    "    return chat_completion.choices[0].message.content\n",
    "\n",
    "res = openai_chat(\"What would be some natural theories or theorems to add next? Please give code\")\n",
    "print(res)\n",
    "# it's slow because it's not streaming"
   ]
  },
  {
   "cell_type": "code",
   "execution_count": 5,
   "metadata": {},
   "outputs": [
    {
     "name": "stdout",
     "output_type": "stream",
     "text": [
      "Given the wide array of existing theories and theorems in the Knuckledragger project, a natural next step could be to explore extending it with additional mathematical and logical concepts. Here are some suggestions for new theories or theorems, along with sample code to implement them:\n",
      "\n",
      "---\n",
      "\n",
      "### 1. Group Theory\n",
      "\n",
      "Group theory is foundational to many areas of mathematics. Here, we define a simple group and prove some properties.\n",
      "\n",
      "```python\n",
      "import kdrag as kd\n",
      "import kdrag.smt as smt\n",
      "\n",
      "# Defining the Group structure\n",
      "Group = kd.notation.Record(\"Group\", (\"G\", smt.SetSort(smt.IntSort())), (\"op\", smt.FunctionSort(smt.IntSort(), smt.IntSort(), smt.IntSort())))\n",
      "g, h, k = smt.Ints(\"g h k\")\n",
      "G = smt.Const(\"G\", Group)\n",
      "\n",
      "# Defining the group operation\n",
      "op = G.op\n",
      "\n",
      "# Defining group axioms\n",
      "assoc = kd.axiom(smt.ForAll([g, h, k], op(op(g, h), k) == op(g, op(h, k))))\n",
      "identity = smt.Const(\"identity\", smt.IntSort())\n",
      "identity_axiom = kd.axiom(smt.Exists([identity], smt.ForAll([g], smt.And(op(identity, g) == g, op(g, identity) == g))))\n",
      "inverse = smt.Function(\"inverse\", smt.IntSort(), smt.IntSort())\n",
      "inverse_axiom = kd.axiom(smt.ForAll([g], op(g, inverse(g)) == identity))\n",
      "\n",
      "# Proving that the identity element is unique\n",
      "unique_identity = kd.lemma(smt.ForAll([identity, h], smt.Implies(identity_axiom(identity) & identity_axiom(h), identity == h)))\n",
      "```\n",
      "\n",
      "### 2. Ring Theory\n",
      "\n",
      "Building on group theory, you can define rings and prove some basic properties.\n",
      "\n",
      "```python\n",
      "import kdrag as kd\n",
      "import kdrag.smt as smt\n",
      "\n",
      "# Defining the Ring structure\n",
      "Ring = kd.notation.Record(\"Ring\", (\"R\", smt.SetSort(smt.IntSort())), (\"add\", smt.FunctionSort(smt.IntSort(), smt.IntSort(), smt.IntSort())), (\"mul\", smt.FunctionSort(smt.IntSort(), smt.IntSort(), smt.IntSort())))\n",
      "r, s, t = smt.Ints(\"r s t\")\n",
      "R = smt.Const(\"R\", Ring)\n",
      "\n",
      "# Ring operations\n",
      "add = R.add\n",
      "mul = R.mul\n",
      "\n",
      "# Axioms for Ring\n",
      "add_assoc = kd.axiom(smt.ForAll([r, s, t], add(add(r, s), t) == add(r, add(s, t))))\n",
      "add_comm = kd.axiom(smt.ForAll([r, s], add(r, s) == add(s, r)))\n",
      "add_id = smt.Const(\"add_id\", smt.IntSort())\n",
      "add_id_axiom = kd.axiom(smt.Exists([add_id], smt.ForAll([r], add(r, add_id) == r)))\n",
      "\n",
      "# Proving some properties\n",
      "mul_assoc = kd.axiom(smt.ForAll([r, s, t], mul(mul(r, s), t) == mul(r, mul(s, t))))\n",
      "distrib = kd.axiom(smt.ForAll([r, s, t], mul(r, add(s, t)) == add(mul(r, s), mul(r, t))))\n",
      "zero_mul = smt.Const(\"zero_mul\", smt.IntSort())\n",
      "zero_mul_axiom = kd.axiom(smt.Exists([zero_mul], smt.ForAll([r], mul(r, zero_mul) == zero_mul)))\n",
      "```\n",
      "\n",
      "### 3. Set Theory: Powerset and Union\n",
      "\n",
      "Extending set theory definitions to include powerset and union.\n",
      "\n",
      "```python\n",
      "import kdrag as kd\n",
      "import kdrag.smt as smt\n",
      "\n",
      "# Defining Sets and Powersets\n",
      "SetSort = smt.SetSort(smt.IntSort())\n",
      "X, Y, Z = smt.Consts(\"X Y Z\", SetSort)\n",
      "\n",
      "powerset = kd.define(\"powerset\", [X], smt.SetSort(smt.SetSort(X)))\n",
      "\n",
      "# Axiom for Union\n",
      "union = kd.define(\"union\", [X, Y], smt.Lambda(Z, smt.Or(smt.SetMember(Z, X), smt.SetMember(Z, Y))))\n",
      "\n",
      "# Proving properties of the union\n",
      "union_comm = kd.lemma(smt.ForAll([X, Y, Z], union(X, Y) == union(Y, X)), by=[union.defn])\n",
      "union_assoc = kd.lemma(smt.ForAll([X, Y, Z], union(union(X, Y), Z) == union(X, union(Y, Z))), by=[union.defn])\n",
      "```\n",
      "\n",
      "### 4. Real Analysis: Continuity\n",
      "\n",
      "Define a basic setup for proving the continuity of functions in real analysis.\n",
      "\n",
      "```python\n",
      "import kdrag as kd\n",
      "import kdrag.smt as smt\n",
      "import kdrag.theories.real as real\n",
      "\n",
      "x, y = smt.Reals(\"x y\")\n",
      "epsilon, delta = smt.Reals(\"epsilon delta\")\n",
      "\n",
      "# Definition of continuity at a point c\n",
      "c = smt.Const(\"c\", smt.RealSort())\n",
      "f = smt.Function(\"f\", kd.R, kd.R)\n",
      "continuous_at_c = kd.define(\"continuous_at_c\", [f, c], smt.ForAll([epsilon], smt.Implies(epsilon > 0, smt.Exists([delta], delta > 0 & smt.ForAll([x], smt.Implies(abs(x - c) < delta, abs(f(x) - f(c)) < epsilon)))))\n",
      "\n",
      "# Proving simple properties about continuity\n",
      "continuous_sum = kd.lemma(smt.ForAll([f, x, y], continuous_at_c(f, c) & continuous_at_c(g, c), continuous_at_c(lambda x: f(x) + g(x), c)))\n",
      "```\n",
      "\n",
      "These examples should give you ample starting points for expanding the Knuckledragger project with additional theories and theorems. Each of these new theories will require rigor in defining axioms and constructing proofs, much like the existing work, ensuring the correctness and utility of the proofs.\n"
     ]
    }
   ],
   "source": [
    "print(res.choices[0].message.content)"
   ]
  },
  {
   "cell_type": "code",
   "execution_count": null,
   "metadata": {},
   "outputs": [],
   "source": []
  },
  {
   "cell_type": "code",
   "execution_count": 22,
   "metadata": {},
   "outputs": [
    {
     "data": {
      "text/plain": [
       "ChatCompletion(id='chatcmpl-9t5gIlah6Bm0WcEdCVYPYTmCPACLA', choices=[Choice(finish_reason='stop', index=0, logprobs=None, message=ChatCompletionMessage(content=\"To build a foundational module for dealing with complex numbers in your `knuckledragger` proof assistant, you can leverage the properties of real numbers and extend them accordingly. A comprehensive `Complex` module can incorporate definitions and properties of complex arithmetic, similar to what you have in the `Real` module.\\n\\nHere's an initial implementation:\\n\\n```python\\n##### knuckledragger.theories.Complex\\n\\nimport z3\\nfrom z3 import ForAll, Function, And, Not\\nimport knuckledragger as kd\\n\\n# Define the sort for complex numbers\\nComplexSort = z3.Datatype('Complex')\\nComplexSort.declare('mk_complex', ('real', z3.RealSort()), ('imag', z3.RealSort()))\\nComplexSort = ComplexSort.create()\\n\\nC = ComplexSort\\nR = z3.RealSort()\\nx, y, z = z3.Reals('x y z')\\na, b, c = z3.Consts('a b c', C)\\n\\n# Define the operations for complex numbers\\nreal_part = Function('real_part', C, R)\\nimag_part = Function('imag_part', C, R)\\n\\nreal_part_def = kd.axiom(ForAll([a], real_part(a) == ComplexSort.real(a)), 'definition')\\nimag_part_def = kd.axiom(ForAll([a], imag_part(a) == ComplexSort.imag(a)), 'definition')\\n\\n# Define addition for complex numbers\\nplus = Function('cplus', C, C, C)\\ncplus_def = kd.axiom(\\n    ForAll([a, b], \\n           plus(a, b) == ComplexSort.mk_complex(\\n               real_part(a) + real_part(b),\\n               imag_part(a) + imag_part(b)\\n           )),\\n    'definition'\\n)\\n\\n# Define multiplication for complex numbers\\nmul = Function('cmul', C, C, C)\\ncmul_def = kd.axiom(\\n    ForAll([a, b], \\n           mul(a, b) == ComplexSort.mk_complex(\\n               real_part(a) * real_part(b) - imag_part(a) * imag_part(b),\\n               real_part(a) * imag_part(b) + imag_part(a) * real_part(b)\\n           )),\\n    'definition'\\n)\\n\\n# Define the conjugate of a complex number\\nconj = Function('conj', C, C)\\nconj_def = kd.axiom(\\n    ForAll([a], \\n           conj(a) == ComplexSort.mk_complex(\\n               real_part(a),\\n               -imag_part(a)\\n           )),\\n    'definition'\\n)\\n\\n# Define the magnitude of a complex number\\nmagnitude = Function('magnitude', C, R)\\nmagnitude_def = kd.axiom(\\n    ForAll([a], \\n           magnitude(a) == \\n           z3.Sqrt(real_part(a) * real_part(a) + imag_part(a) * imag_part(a))),\\n    'definition'\\n)\\n\\n# Define properties of complex addition\\ncplus_comm = kd.lemma(ForAll([a, b], plus(a, b) == plus(b, a)), by=[cplus_def])\\ncplus_assoc = kd.lemma(\\n    ForAll([a, b, c], plus(a, plus(b, c)) == plus(plus(a, b), c)), \\n    by=[cplus_def]\\n)\\n\\n# Define properties of complex multiplication\\ncmul_comm = kd.lemma(ForAll([a, b], mul(a, b) == mul(b, a)), by=[cmul_def])\\ncmul_assoc = kd.lemma(\\n    ForAll([a, b, c], mul(a, mul(b, c)) == mul(mul(a, b), c)), \\n    by=[cmul_def]\\n)\\n\\ncmul_distrib = kd.lemma(\\n    ForAll([a, b, c], mul(a, plus(b, c)) == plus(mul(a, b), mul(a, c))), \\n    by=[cmul_def, cplus_def],\\n)\\n\\n# Define the field properties for complex numbers (addition and multiplication identities)\\nzero = ComplexSort.mk_complex(0, 0)\\none = ComplexSort.mk_complex(1, 0)\\n\\nadd_identity = kd.lemma(ForAll([a], plus(a, zero) == a), by=[cplus_def, real_part_def, imag_part_def])\\nmul_identity = kd.lemma(ForAll([a], mul(a, one) == a), by=[cmul_def, real_part_def, imag_part_def])\\n\\n# Define the norm of a complex number\\nnorm = Function('norm', C, R)\\nnorm_def = kd.axiom(\\n    ForAll([a], \\n           norm(a) == \\n           real_part(a) * real_part(a) + imag_part(a) * imag_part(a)),\\n    'definition'\\n)\\n\\n# Define the polar form of a complex number\\n# Here we define rho (magnitude) and theta (angle)\\nrho = Function('rho', C, R)\\ntheta = Function('theta', C, R)\\n\\nrho_def = kd.axiom(\\n    ForAll([a], \\n           rho(a) == magnitude(a)),\\n    'definition'\\n)\\n\\ntheta_def = kd.axiom(\\n    ForAll([a], \\n           theta(a) == z3.Atan(imag_part(a) / real_part(a))),\\n    'definition'\\n)\\n\\n# Ensure that rho and theta define the original complex number through Euler's formula\\npolar_form = Function('polar_form', C, R, R, C)\\npolar_form_def = kd.axiom(\\n    ForAll([rho, theta], \\n           polar_form(rho, theta) == ComplexSort.mk_complex(\\n               rho * z3.Cos(theta),\\n               rho * z3.Sin(theta)\\n           )),\\n    'definition'\\n)\\n\\npolar_reconstruction = kd.lemma(\\n    ForAll([a], \\n           a == polar_form(rho(a), theta(a))),\\n    by=[polar_form_def, rho_def, theta_def]\\n)\\n```\\n\\nThis implementation covers:\\n\\n1. **Complex Number Definition**: Introduces `Complex` as a datatype with real and imaginary parts.\\n2. **Real and Imaginary Parts**: Defines functions to extract the real and imaginary parts of a complex number.\\n3. **Arithmetic Operations**: Implements addition and multiplication for complex numbers, complete with their properties.\\n4. **Conjugation**: Adds functionality to find the conjugate of a complex number.\\n5. **Magnitude and Norm**: Defines the magnitude (or norm) of a complex number.\\n6. **Field Properties**: Validates the additive and multiplicative identities.\\n7. **Polar Representation**: Introduces polar form representation for complex numbers and ensures it matches the rectangular form.\\n\\nThese implementations would form a solid foundation for handling complex numbers within your proof assistant leveraging Z3 SMT solver and the `knuckledragger` framework. You can expand this module further with specific theorems and properties as needed.\", role='assistant', function_call=None, tool_calls=None))], created=1722916906, model='gpt-4o-2024-05-13', object='chat.completion', system_fingerprint='fp_3aa7262c27', usage=CompletionUsage(completion_tokens=1426, prompt_tokens=2126, total_tokens=3552))"
      ]
     },
     "execution_count": 22,
     "metadata": {},
     "output_type": "execute_result"
    }
   ],
   "source": [
    "import knuckledragger.theories.Real as Real\n",
    "import knuckledragger.theories.Complex as Complex\n",
    "import knuckledragger.theories.Interval as Interval\n",
    "import knuckledragger.theories.Int as Int\n",
    "import knuckledragger.theories.Nat as Nat\n",
    "import knuckledragger as kd\n",
    "from openai import OpenAI\n",
    "def ai(thm):\n",
    "    mods = [\n",
    "    Real,\n",
    "    Complex,\n",
    "    Interval,\n",
    "    Int,\n",
    "    Nat\n",
    "    ]\n",
    "    kd.theories.__dict__\n",
    "    prompt = [\"\"\"\n",
    "    This is the source of a library called knuckledragger, a python proof assistant. It uses Z3.\n",
    "    \"\"\"]\n",
    "    for mod in mods:\n",
    "        with open(mod.__file__) as f:\n",
    "            prompt.append(\"##### \" + mod.__name__ + \"\\n\")\n",
    "            prompt.append(f.read())\n",
    "        \n",
    "    prompt.append(\"I'm trying to prove the following lemma:\")\n",
    "    prompt.append(str(thm))\n",
    "    prompt.append(\"Do you have suggestions for what I should write. Please be as succinct as possible. Only show code. You may define lemmas if you need to.\")\n",
    "    #prompt.append(\"what do you think I should write next?\")\n",
    "    #prompt.append(\"Write more stuff to go in the Complex module.\")\n",
    "\n",
    "    client = OpenAI(\n",
    "        # This is the default and can be omitted\n",
    "        api_key=os.environ.get(\"OPENAI_API_KEY\"),\n",
    "    )\n",
    "\n",
    "    chat_completion = client.chat.completions.create(\n",
    "        messages=[\n",
    "            {\n",
    "                \"role\": \"user\",\n",
    "                \"content\": \"\\n\".join(prompt),\n",
    "            }\n",
    "        ],\n",
    "        model=\"gpt-4o\",\n",
    "    )\n",
    "    return chat_completion\n",
    "\n",
    "res = ai(ForAll([]))\n",
    "res\n"
   ]
  },
  {
   "cell_type": "code",
   "execution_count": 30,
   "metadata": {},
   "outputs": [
    {
     "name": "stdout",
     "output_type": "stream",
     "text": [
      "Caller function: FrameInfo(frame=<frame at 0x57ce1b99a8e0, file '/tmp/ipykernel_3779874/2569732049.py', line 18, code <module>>, filename='/tmp/ipykernel_3779874/2569732049.py', lineno=18, function='<module>', code_context=['auto_register()\\n'], index=0)\n",
      "['__class__', '__delattr__', '__dir__', '__doc__', '__eq__', '__format__', '__ge__', '__getattribute__', '__gt__', '__hash__', '__init__', '__init_subclass__', '__le__', '__lt__', '__ne__', '__new__', '__reduce__', '__reduce_ex__', '__repr__', '__setattr__', '__sizeof__', '__str__', '__subclasshook__', 'clear', 'f_back', 'f_builtins', 'f_code', 'f_globals', 'f_lasti', 'f_lineno', 'f_locals', 'f_trace', 'f_trace_lines', 'f_trace_opcodes']\n",
      "/tmp/ipykernel_3779874/2569732049.py\n",
      "18\n",
      "Caller module not found\n"
     ]
    }
   ],
   "source": [
    "__name__\n",
    "\n",
    "# Access the current module\n",
    "import inspect\n",
    "def auto_register():\n",
    "    stack = inspect.stack()\n",
    "    caller_frame = stack[1]\n",
    "    print(\"Caller function:\", caller_frame)\n",
    "    print(dir(caller_frame[0]))\n",
    "    print(caller_frame[1])\n",
    "    print(caller_frame[2])\n",
    "    caller_module = inspect.getmodule(caller_frame[0])\n",
    "    if caller_module:\n",
    "        print(\"Caller module:\", caller_module.__name__)\n",
    "    else:\n",
    "        print(\"Caller module not found\")\n",
    "\n",
    "auto_register()"
   ]
  },
  {
   "cell_type": "code",
   "execution_count": 54,
   "metadata": {},
   "outputs": [
    {
     "data": {
      "text/plain": [
       "'plus_def'"
      ]
     },
     "metadata": {},
     "output_type": "display_data"
    },
    {
     "data": {
      "text/html": [
       "&#8870;&forall;x, y : plus(x, y) = x + y"
      ],
      "text/plain": [
       "<IPython.core.display.HTML object>"
      ]
     },
     "metadata": {},
     "output_type": "display_data"
    },
    {
     "data": {
      "text/plain": [
       "'plus_0'"
      ]
     },
     "metadata": {},
     "output_type": "display_data"
    },
    {
     "data": {
      "text/html": [
       "&#8870;&forall;x : plus(x, 0) = x"
      ],
      "text/plain": [
       "<IPython.core.display.HTML object>"
      ]
     },
     "metadata": {},
     "output_type": "display_data"
    },
    {
     "data": {
      "text/plain": [
       "'plus_comm'"
      ]
     },
     "metadata": {},
     "output_type": "display_data"
    },
    {
     "data": {
      "text/html": [
       "&#8870;&forall;x, y : plus(x, y) = plus(y, x)"
      ],
      "text/plain": [
       "<IPython.core.display.HTML object>"
      ]
     },
     "metadata": {},
     "output_type": "display_data"
    },
    {
     "data": {
      "text/plain": [
       "'plus_assoc'"
      ]
     },
     "metadata": {},
     "output_type": "display_data"
    },
    {
     "data": {
      "text/html": [
       "&#8870;&forall;x, y, z : plus(x, plus(y, z)) = plus(plus(x, y), z)"
      ],
      "text/plain": [
       "<IPython.core.display.HTML object>"
      ]
     },
     "metadata": {},
     "output_type": "display_data"
    },
    {
     "data": {
      "text/plain": [
       "'mul_def'"
      ]
     },
     "metadata": {},
     "output_type": "display_data"
    },
    {
     "data": {
      "text/html": [
       "&#8870;&forall;x, y : mul(x, y) = x&middot;y"
      ],
      "text/plain": [
       "<IPython.core.display.HTML object>"
      ]
     },
     "metadata": {},
     "output_type": "display_data"
    },
    {
     "data": {
      "text/plain": [
       "'mul_zero'"
      ]
     },
     "metadata": {},
     "output_type": "display_data"
    },
    {
     "data": {
      "text/html": [
       "&#8870;&forall;x : mul(x, 0) = 0"
      ],
      "text/plain": [
       "<IPython.core.display.HTML object>"
      ]
     },
     "metadata": {},
     "output_type": "display_data"
    },
    {
     "data": {
      "text/plain": [
       "'mul_1'"
      ]
     },
     "metadata": {},
     "output_type": "display_data"
    },
    {
     "data": {
      "text/html": [
       "&#8870;&forall;x : mul(x, 1) = x"
      ],
      "text/plain": [
       "<IPython.core.display.HTML object>"
      ]
     },
     "metadata": {},
     "output_type": "display_data"
    },
    {
     "data": {
      "text/plain": [
       "'mul_comm'"
      ]
     },
     "metadata": {},
     "output_type": "display_data"
    },
    {
     "data": {
      "text/html": [
       "&#8870;&forall;x, y : mul(x, y) = mul(y, x)"
      ],
      "text/plain": [
       "<IPython.core.display.HTML object>"
      ]
     },
     "metadata": {},
     "output_type": "display_data"
    },
    {
     "data": {
      "text/plain": [
       "'mul_assoc'"
      ]
     },
     "metadata": {},
     "output_type": "display_data"
    },
    {
     "data": {
      "text/html": [
       "&#8870;&forall;x, y, z : mul(x, mul(y, z)) = mul(mul(x, y), z)"
      ],
      "text/plain": [
       "<IPython.core.display.HTML object>"
      ]
     },
     "metadata": {},
     "output_type": "display_data"
    },
    {
     "data": {
      "text/plain": [
       "'mul_distrib'"
      ]
     },
     "metadata": {},
     "output_type": "display_data"
    },
    {
     "data": {
      "text/html": [
       "&#8870;&forall;x, y, z : mul(x, plus(y, z)) = plus(mul(x, y), mul(x, z))"
      ],
      "text/plain": [
       "<IPython.core.display.HTML object>"
      ]
     },
     "metadata": {},
     "output_type": "display_data"
    },
    {
     "data": {
      "text/plain": [
       "'abs_def'"
      ]
     },
     "metadata": {},
     "output_type": "display_data"
    },
    {
     "data": {
      "text/html": [
       "&#8870;&forall;x : abs(x) = If(x &ge; 0, x, -x)"
      ],
      "text/plain": [
       "<IPython.core.display.HTML object>"
      ]
     },
     "metadata": {},
     "output_type": "display_data"
    },
    {
     "data": {
      "text/plain": [
       "['__add__',\n",
       " '__and__',\n",
       " '__bool__',\n",
       " '__class__',\n",
       " '__copy__',\n",
       " '__deepcopy__',\n",
       " '__del__',\n",
       " '__delattr__',\n",
       " '__dict__',\n",
       " '__dir__',\n",
       " '__doc__',\n",
       " '__eq__',\n",
       " '__format__',\n",
       " '__ge__',\n",
       " '__getattribute__',\n",
       " '__getitem__',\n",
       " '__gt__',\n",
       " '__hash__',\n",
       " '__init__',\n",
       " '__init_subclass__',\n",
       " '__invert__',\n",
       " '__le__',\n",
       " '__lt__',\n",
       " '__module__',\n",
       " '__mul__',\n",
       " '__ne__',\n",
       " '__new__',\n",
       " '__nonzero__',\n",
       " '__or__',\n",
       " '__radd__',\n",
       " '__reduce__',\n",
       " '__reduce_ex__',\n",
       " '__repr__',\n",
       " '__rmul__',\n",
       " '__setattr__',\n",
       " '__sizeof__',\n",
       " '__str__',\n",
       " '__subclasshook__',\n",
       " '__weakref__',\n",
       " '__xor__',\n",
       " '_repr_html_',\n",
       " 'arg',\n",
       " 'as_ast',\n",
       " 'ast',\n",
       " 'body',\n",
       " 'children',\n",
       " 'ctx',\n",
       " 'ctx_ref',\n",
       " 'decl',\n",
       " 'eq',\n",
       " 'from_string',\n",
       " 'get_id',\n",
       " 'hash',\n",
       " 'is_exists',\n",
       " 'is_forall',\n",
       " 'is_lambda',\n",
       " 'no_pattern',\n",
       " 'num_args',\n",
       " 'num_no_patterns',\n",
       " 'num_patterns',\n",
       " 'num_vars',\n",
       " 'params',\n",
       " 'pattern',\n",
       " 'qid',\n",
       " 'serialize',\n",
       " 'sexpr',\n",
       " 'skolem_id',\n",
       " 'sort',\n",
       " 'sort_kind',\n",
       " 'translate',\n",
       " 'use_pp',\n",
       " 'var_name',\n",
       " 'var_sort',\n",
       " 'weight']"
      ]
     },
     "execution_count": 54,
     "metadata": {},
     "output_type": "execute_result"
    }
   ],
   "source": [
    "import knuckledragger.theories.Real as Real\n",
    "from knuckledragger.kernel import is_proof\n",
    "for n, p in Real.__dict__.items():\n",
    "    if is_proof(p):\n",
    "       display(n, HTML(p._repr_html_()))\n",
    "\n",
    "dir(Real.plus_def.thm)\n"
   ]
  },
  {
   "cell_type": "code",
   "execution_count": 43,
   "metadata": {},
   "outputs": [
    {
     "data": {
      "text/plain": [
       "'&#8870;&forall;x, y : plus(x, y) = x + y'"
      ]
     },
     "execution_count": 43,
     "metadata": {},
     "output_type": "execute_result"
    }
   ],
   "source": [
    "Real.plus_def.thm.use_pp()\n",
    "repr(Real.plus_def.thm)\n",
    "Real.plus_def._repr_html_()"
   ]
  },
  {
   "cell_type": "code",
   "execution_count": 8,
   "metadata": {},
   "outputs": [
    {
     "ename": "AttributeError",
     "evalue": "module 'knuckledragger.kernel' has no attribute 'defns'",
     "output_type": "error",
     "traceback": [
      "\u001b[0;31m---------------------------------------------------------------------------\u001b[0m",
      "\u001b[0;31mAttributeError\u001b[0m                            Traceback (most recent call last)",
      "Cell \u001b[0;32mIn[8], line 4\u001b[0m\n\u001b[1;32m      2\u001b[0m \u001b[38;5;28;01mimport\u001b[39;00m \u001b[38;5;21;01mknuckledragger\u001b[39;00m \u001b[38;5;28;01mas\u001b[39;00m \u001b[38;5;21;01mkd\u001b[39;00m\n\u001b[1;32m      3\u001b[0m \u001b[38;5;28;01mimport\u001b[39;00m \u001b[38;5;21;01mknuckledragger\u001b[39;00m\u001b[38;5;21;01m.\u001b[39;00m\u001b[38;5;21;01mtheories\u001b[39;00m\u001b[38;5;21;01m.\u001b[39;00m\u001b[38;5;21;01mReal\u001b[39;00m \u001b[38;5;28;01mas\u001b[39;00m \u001b[38;5;21;01mReal\u001b[39;00m\n\u001b[0;32m----> 4\u001b[0m lemma_db \u001b[38;5;241m=\u001b[39m {\u001b[38;5;124m\"\u001b[39m\u001b[38;5;124mdefns\u001b[39m\u001b[38;5;124m\"\u001b[39m: \u001b[43mkd\u001b[49m\u001b[38;5;241;43m.\u001b[39;49m\u001b[43mkernel\u001b[49m\u001b[38;5;241;43m.\u001b[39;49m\u001b[43mdefns\u001b[49m}\n\u001b[1;32m      6\u001b[0m \u001b[38;5;28;01mdef\u001b[39;00m \u001b[38;5;21mbuild_lemma_db\u001b[39m():\n\u001b[1;32m      7\u001b[0m     \u001b[38;5;28;01mfor\u001b[39;00m modname,mod \u001b[38;5;129;01min\u001b[39;00m sys\u001b[38;5;241m.\u001b[39mmodules\u001b[38;5;241m.\u001b[39mitems():\n",
      "\u001b[0;31mAttributeError\u001b[0m: module 'knuckledragger.kernel' has no attribute 'defns'"
     ]
    }
   ],
   "source": [
    "import sys\n",
    "import knuckledragger as kd\n",
    "import knuckledragger.theories.Real as Real\n",
    "lemma_db = {\"defns\": kd.kernel.defns}\n",
    "\n",
    "def build_lemma_db():\n",
    "    for modname,mod in sys.modules.items():\n",
    "        thms = {name : thm for name,thm in mod.__dict__.items() if kd.kernel.is_proof(thm)}\n",
    "        if len(thms) > 0:\n",
    "            lemma_db[modname] = thms\n",
    "build_lemma_db()\n",
    "lemma_db\n",
    "\n"
   ]
  },
  {
   "cell_type": "markdown",
   "metadata": {},
   "source": [
    "Caching might be nice\n",
    "Could blacklist dumb modules"
   ]
  },
  {
   "cell_type": "code",
   "execution_count": 10,
   "metadata": {},
   "outputs": [
    {
     "data": {
      "text/plain": [
       "{'knuckledragger.theories.Real': {'plus_def': |- ForAll([x, y], plus(x, y) == x + y),\n",
       "  'plus_0': |- ForAll(x, plus(x, 0) == x),\n",
       "  'plus_comm': |- ForAll([x, y], plus(x, y) == plus(y, x)),\n",
       "  'plus_assoc': |- ForAll([x, y, z],\n",
       "         plus(x, plus(y, z)) == plus(plus(x, y), z)),\n",
       "  'mul_def': |- ForAll([x, y], mul(x, y) == x*y),\n",
       "  'mul_zero': |- ForAll(x, mul(x, 0) == 0),\n",
       "  'mul_1': |- ForAll(x, mul(x, 1) == x),\n",
       "  'mul_comm': |- ForAll([x, y], mul(x, y) == mul(y, x)),\n",
       "  'mul_assoc': |- ForAll([x, y, z], mul(x, mul(y, z)) == mul(mul(x, y), z)),\n",
       "  'mul_distrib': |- ForAll([x, y, z],\n",
       "         mul(x, plus(y, z)) == plus(mul(x, y), mul(x, z))),\n",
       "  'abs_def': |- ForAll(x, abs(x) == If(x >= 0, x, -x))}}"
      ]
     },
     "execution_count": 10,
     "metadata": {},
     "output_type": "execute_result"
    }
   ],
   "source": [
    "import sys\n",
    "import knuckledragger as kd\n",
    "import knuckledragger.theories.Real as Real\n",
    "def lemma_db():\n",
    "    db = {}\n",
    "    for modname,mod in sys.modules.items():\n",
    "        thms = {name : thm for name,thm in mod.__dict__.items() if kd.kernel.is_proof(thm)}\n",
    "        if len(thms) > 0:\n",
    "            db[modname] = thms\n",
    "    return db\n",
    "lemma_db()"
   ]
  },
  {
   "cell_type": "code",
   "execution_count": 88,
   "metadata": {},
   "outputs": [
    {
     "name": "stdout",
     "output_type": "stream",
     "text": [
      "__editable___knuckledragger_0_1_1_finder\n",
      "knuckledragger.kernel\n",
      "knuckledragger\n",
      "knuckledragger.theories\n",
      "knuckledragger.theories.Real\n"
     ]
    },
    {
     "data": {
      "text/plain": [
       "'plus_def'"
      ]
     },
     "metadata": {},
     "output_type": "display_data"
    },
    {
     "data": {
      "text/html": [
       "&#8870;&forall;x, y : plus(x, y) = x + y"
      ],
      "text/plain": [
       "<IPython.core.display.HTML object>"
      ]
     },
     "metadata": {},
     "output_type": "display_data"
    },
    {
     "data": {
      "text/plain": [
       "'plus_0'"
      ]
     },
     "metadata": {},
     "output_type": "display_data"
    },
    {
     "data": {
      "text/html": [
       "&#8870;&forall;x : plus(x, 0) = x"
      ],
      "text/plain": [
       "<IPython.core.display.HTML object>"
      ]
     },
     "metadata": {},
     "output_type": "display_data"
    },
    {
     "data": {
      "text/plain": [
       "'plus_comm'"
      ]
     },
     "metadata": {},
     "output_type": "display_data"
    },
    {
     "data": {
      "text/html": [
       "&#8870;&forall;x, y : plus(x, y) = plus(y, x)"
      ],
      "text/plain": [
       "<IPython.core.display.HTML object>"
      ]
     },
     "metadata": {},
     "output_type": "display_data"
    },
    {
     "data": {
      "text/plain": [
       "'plus_assoc'"
      ]
     },
     "metadata": {},
     "output_type": "display_data"
    },
    {
     "data": {
      "text/html": [
       "&#8870;&forall;x, y, z : plus(x, plus(y, z)) = plus(plus(x, y), z)"
      ],
      "text/plain": [
       "<IPython.core.display.HTML object>"
      ]
     },
     "metadata": {},
     "output_type": "display_data"
    },
    {
     "data": {
      "text/plain": [
       "'mul_def'"
      ]
     },
     "metadata": {},
     "output_type": "display_data"
    },
    {
     "data": {
      "text/html": [
       "&#8870;&forall;x, y : mul(x, y) = x&middot;y"
      ],
      "text/plain": [
       "<IPython.core.display.HTML object>"
      ]
     },
     "metadata": {},
     "output_type": "display_data"
    },
    {
     "data": {
      "text/plain": [
       "'mul_zero'"
      ]
     },
     "metadata": {},
     "output_type": "display_data"
    },
    {
     "data": {
      "text/html": [
       "&#8870;&forall;x : mul(x, 0) = 0"
      ],
      "text/plain": [
       "<IPython.core.display.HTML object>"
      ]
     },
     "metadata": {},
     "output_type": "display_data"
    },
    {
     "data": {
      "text/plain": [
       "'mul_1'"
      ]
     },
     "metadata": {},
     "output_type": "display_data"
    },
    {
     "data": {
      "text/html": [
       "&#8870;&forall;x : mul(x, 1) = x"
      ],
      "text/plain": [
       "<IPython.core.display.HTML object>"
      ]
     },
     "metadata": {},
     "output_type": "display_data"
    },
    {
     "data": {
      "text/plain": [
       "'mul_comm'"
      ]
     },
     "metadata": {},
     "output_type": "display_data"
    },
    {
     "data": {
      "text/html": [
       "&#8870;&forall;x, y : mul(x, y) = mul(y, x)"
      ],
      "text/plain": [
       "<IPython.core.display.HTML object>"
      ]
     },
     "metadata": {},
     "output_type": "display_data"
    },
    {
     "data": {
      "text/plain": [
       "'mul_assoc'"
      ]
     },
     "metadata": {},
     "output_type": "display_data"
    },
    {
     "data": {
      "text/html": [
       "&#8870;&forall;x, y, z : mul(x, mul(y, z)) = mul(mul(x, y), z)"
      ],
      "text/plain": [
       "<IPython.core.display.HTML object>"
      ]
     },
     "metadata": {},
     "output_type": "display_data"
    },
    {
     "data": {
      "text/plain": [
       "'mul_distrib'"
      ]
     },
     "metadata": {},
     "output_type": "display_data"
    },
    {
     "data": {
      "text/html": [
       "&#8870;&forall;x, y, z : mul(x, plus(y, z)) = plus(mul(x, y), mul(x, z))"
      ],
      "text/plain": [
       "<IPython.core.display.HTML object>"
      ]
     },
     "metadata": {},
     "output_type": "display_data"
    },
    {
     "data": {
      "text/plain": [
       "'abs_def'"
      ]
     },
     "metadata": {},
     "output_type": "display_data"
    },
    {
     "data": {
      "text/html": [
       "&#8870;&forall;x : abs(x) = If(x &ge; 0, x, -x)"
      ],
      "text/plain": [
       "<IPython.core.display.HTML object>"
      ]
     },
     "metadata": {},
     "output_type": "display_data"
    }
   ],
   "source": [
    "import sys\n",
    "lemma_db = {}\n",
    "for modname,mod in sys.modules.items():\n",
    "    if \"knuckledragger\" in modname:\n",
    "        print(modname)\n",
    "        for thmname, proof in mod.__dict__.items():\n",
    "            if is_proof(proof):\n",
    "                display(thmname, HTML(proof._repr_html_()))"
   ]
  },
  {
   "cell_type": "markdown",
   "metadata": {},
   "source": [
    "# Simp\n",
    "Use eggmt \n",
    "\n",
    "We can use match_ to do a simp routine, knuckledragger tactic.\n",
    "\n",
    "Idea: use eggllg\n",
    "https://egglog-python.readthedocs.io/latest/reference/bindings.html\n",
    "\n",
    "https://fadoss.github.io/maude-bindings/\n",
    "\n",
    "to prolog?\n",
    "\n",
    "Old simpler pmatches"
   ]
  },
  {
   "cell_type": "code",
   "execution_count": null,
   "metadata": {},
   "outputs": [],
   "source": [
    "def pmatch_db(\n",
    "    t: smt.ExprRef, pat: smt.ExprRef\n",
    ") -> Optional[dict[smt.ExprRef, smt.ExprRef]]:\n",
    "    \"\"\"\n",
    "    Pattern match t against pat. Variables are constructed as `smt.Var(i, sort)`.\n",
    "    Returns substitution dict if match succeeds.\n",
    "    Returns None if match fails.\n",
    "    Outer quantifier (Exists, ForAll, Lambda) in pat is ignored.\n",
    "    \"\"\"\n",
    "    if smt.is_quantifier(pat):\n",
    "        pat = pat.body()\n",
    "    subst = {}\n",
    "    todo = [(t, pat)]\n",
    "    while len(todo) > 0:\n",
    "        t, pat = todo.pop()\n",
    "        if t.eq(pat):\n",
    "            continue\n",
    "        if smt.is_var(pat):\n",
    "            if pat in subst:\n",
    "                if not subst[pat].eq(t):\n",
    "                    return None\n",
    "            else:\n",
    "                subst[pat] = t\n",
    "        elif smt.is_app(t) and smt.is_app(pat):\n",
    "            if pat.decl() == t.decl():\n",
    "                todo.extend(zip(t.children(), pat.children()))\n",
    "            else:\n",
    "                return None\n",
    "        else:\n",
    "            raise Exception(\"Unexpected subterm or subpattern\", t, pat)\n",
    "    return subst\n",
    "\n",
    "\n",
    "def pmatch(\n",
    "    t: smt.ExprRef, vs: list[smt.ExprRef], pat: smt.ExprRef\n",
    ") -> Optional[dict[smt.ExprRef, smt.ExprRef]]:\n",
    "    \"\"\"Pattern match t against pat considering vs as variables. Returns substitution dictionary if succeeds\"\"\"\n",
    "    subst = {}\n",
    "    todo = [(t, pat)]\n",
    "    while len(todo) > 0:\n",
    "        t, pat = todo.pop()\n",
    "        if t.eq(pat):\n",
    "            continue\n",
    "        if any(pat.eq(v) for v in vs):\n",
    "            if pat in subst:\n",
    "                if not subst[pat].eq(t):\n",
    "                    return None\n",
    "            else:\n",
    "                subst[pat] = t\n",
    "        elif smt.is_app(pat):\n",
    "            if smt.is_app(t) and pat.decl() == t.decl():\n",
    "                todo.extend(zip(t.children(), pat.children()))\n",
    "            else:\n",
    "                return None\n",
    "        else:\n",
    "            raise Exception(\"Unexpected subterm or subpattern in pmatch\", t, pat)\n",
    "    return subst"
   ]
  },
  {
   "cell_type": "code",
   "execution_count": 29,
   "metadata": {},
   "outputs": [
    {
     "data": {
      "text/html": [
       "z!17 = x"
      ],
      "text/plain": [
       "z!17 == x"
      ]
     },
     "execution_count": 29,
     "metadata": {},
     "output_type": "execute_result"
    }
   ],
   "source": [
    "# hmm. There's an interesting z3 tactic\n",
    "# https://microsoft.github.io/z3guide/docs/strategies/summary/#tactic-demodulator\n",
    "# https://github.com/draperlaboratory/cozy/blob/main/cozy/claripy_ext.py#L10\n",
    "from z3 import *\n",
    "g  = Goal()\n",
    "f = Function(\"f\", IntSort(), IntSort())\n",
    "x= Int(\"x\")\n",
    "z = FreshInt(\"z\")\n",
    "g.add(ForAll([x], f(f(x)) == x))\n",
    "g.add(z == f(f(x)))\n",
    "g2 = Tactic(\"demodulator\").apply(g)\n",
    "len(g2[0])\n",
    "g2[0][1]\n",
    "\n",
    "def knuck_tact(t, name, **kwargs):\n",
    "    g = Goal()\n",
    "    g.add(t)\n",
    "    res = Tactic(name, **kwargs).apply(g)\n",
    "    t1 = res[0]\n",
    "    l = kd.lemma(t == res[0])# kd.lemma Implies(t, res[0]), Implies(res[0], t)\n",
    "    t1.pf = l\n",
    "    return t1\n",
    "\n",
    "knuck_tact(t, \"demodulator\")\n",
    "knuck_tact(t, \"macro-finder\")\n",
    "knuck_tact(t, \"simplify\")\n",
    "# ctx-simplify euf-completion\n",
    "# solve-eqs\n",
    "\n",
    "# elim-rpedicates subsumes\n",
    "\n"
   ]
  },
  {
   "cell_type": "code",
   "execution_count": 22,
   "metadata": {},
   "outputs": [
    {
     "name": "stdout",
     "output_type": "stream",
     "text": [
      "[ForAll(x, abs(x) == If(x >= 0, x, -x)),\n",
      " ForAll(x, nonneg(x) == (abs(x) == x)),\n",
      " ForAll([x, y], max(x, y) == If(x >= y, x, y)),\n",
      " myexpr(max(3, 4)),\n",
      " x == max(3, 4)]\n",
      "simplify [[ForAll(x, abs(x) == If(x >= 0, x, -1*x)),\n",
      "  ForAll(x, nonneg(x) == (abs(x) == x)),\n",
      "  ForAll([x, y], max(x, y) == If(x >= y, x, y)),\n",
      "  myexpr(max(3, 4)),\n",
      "  x == max(3, 4)]]\n",
      "demodulator [[ForAll(x, abs(x) == If(x >= 0, x, -x)),\n",
      "  ForAll([x, y], max(x, y) == If(x >= y, x, y)),\n",
      "  myexpr(If(3 >= 4, 3, 4)),\n",
      "  x == If(3 >= 4, 3, 4)]]\n",
      "ctx-solver-simplify [[ForAll(x, abs(x) == If(x >= 0, x, -x)),\n",
      "  ForAll(x, nonneg(x) == (abs(x) == x)),\n",
      "  ForAll([x, y], max(x, y) == If(x >= y, x, y)),\n",
      "  myexpr(max(3, 4)),\n",
      "  x == max(3, 4)]]\n",
      "propagate-values [[ForAll(x, abs(x) == If(x >= 0, x, -x)),\n",
      "  ForAll(x, nonneg(x) == (abs(x) == x)),\n",
      "  ForAll([x, y], max(x, y) == If(x >= y, x, y)),\n",
      "  myexpr(max(3, 4)),\n",
      "  x == max(3, 4)]]\n",
      "macro-finder [[myexpr(4), x == 4]]\n",
      "solve-eqs [[ForAll(x, abs(x) == If(x >= 0, x, -1*x)),\n",
      "  ForAll(x, nonneg(x) == (abs(x) == x)),\n",
      "  ForAll([x, y], max(x, y) == If(x >= y, x, y)),\n",
      "  myexpr(max(3, 4))]]\n",
      "ctx-simplify [[ForAll(x, abs(x) == If(x >= 0, x, -x)),\n",
      "  ForAll(x, nonneg(x) == (abs(x) == x)),\n",
      "  ForAll([x, y], max(x, y) == If(x >= y, x, y)),\n",
      "  myexpr(max(3, 4)),\n",
      "  x == max(3, 4)]]\n",
      "elim-predicates [[ForAll(x, nonneg(x) == (If(x >= 0, x, -1*x) == x)),\n",
      "  x == 4]]\n"
     ]
    },
    {
     "ename": "AttributeError",
     "evalue": "'str' object has no attribute 'ctx'",
     "output_type": "error",
     "traceback": [
      "\u001b[0;31m---------------------------------------------------------------------------\u001b[0m",
      "\u001b[0;31mAttributeError\u001b[0m                            Traceback (most recent call last)",
      "\u001b[0;32m/tmp/ipykernel_1070061/2021177791.py\u001b[0m in \u001b[0;36m?\u001b[0;34m()\u001b[0m\n\u001b[1;32m     22\u001b[0m         \u001b[0mG\u001b[0m\u001b[0;34m.\u001b[0m\u001b[0madd\u001b[0m\u001b[0;34m(\u001b[0m\u001b[0mv\u001b[0m\u001b[0;34m.\u001b[0m\u001b[0max\u001b[0m\u001b[0;34m.\u001b[0m\u001b[0mthm\u001b[0m\u001b[0;34m)\u001b[0m\u001b[0;34m\u001b[0m\u001b[0;34m\u001b[0m\u001b[0m\n\u001b[1;32m     23\u001b[0m     \u001b[0mG2\u001b[0m \u001b[0;34m=\u001b[0m \u001b[0mTactic\u001b[0m\u001b[0;34m(\u001b[0m\u001b[0;34m\"elim-predicates\"\u001b[0m\u001b[0;34m)\u001b[0m\u001b[0;34m.\u001b[0m\u001b[0mapply\u001b[0m\u001b[0;34m(\u001b[0m\u001b[0mG\u001b[0m\u001b[0;34m)\u001b[0m\u001b[0;34m\u001b[0m\u001b[0;34m\u001b[0m\u001b[0m\n\u001b[1;32m     24\u001b[0m     \u001b[0;32mreturn\u001b[0m \u001b[0mG2\u001b[0m\u001b[0;34m[\u001b[0m\u001b[0;36m0\u001b[0m\u001b[0;34m]\u001b[0m\u001b[0;34m\u001b[0m\u001b[0;34m\u001b[0m\u001b[0m\n\u001b[1;32m     25\u001b[0m \u001b[0;34m\u001b[0m\u001b[0m\n\u001b[0;32m---> 26\u001b[0;31m \u001b[0msimp\u001b[0m\u001b[0;34m(\u001b[0m\u001b[0mR\u001b[0m\u001b[0;34m.\u001b[0m\u001b[0mmax\u001b[0m\u001b[0;34m(\u001b[0m\u001b[0mx\u001b[0m\u001b[0;34m,\u001b[0m \u001b[0mx\u001b[0m \u001b[0;34m+\u001b[0m \u001b[0;36m1\u001b[0m\u001b[0;34m)\u001b[0m\u001b[0;34m)\u001b[0m\u001b[0;34m\u001b[0m\u001b[0;34m\u001b[0m\u001b[0m\n\u001b[0m",
      "\u001b[0;32m/tmp/ipykernel_1070061/2021177791.py\u001b[0m in \u001b[0;36m?\u001b[0;34m(t)\u001b[0m\n\u001b[1;32m     17\u001b[0m \u001b[0;32mdef\u001b[0m \u001b[0msimp\u001b[0m\u001b[0;34m(\u001b[0m\u001b[0mt\u001b[0m\u001b[0;34m)\u001b[0m\u001b[0;34m:\u001b[0m\u001b[0;34m\u001b[0m\u001b[0;34m\u001b[0m\u001b[0m\n\u001b[0;32m---> 18\u001b[0;31m     \u001b[0mFreshConst\u001b[0m\u001b[0;34m(\u001b[0m\u001b[0;34m\"knuckle_goal\"\u001b[0m\u001b[0;34m,\u001b[0m \u001b[0mt\u001b[0m\u001b[0;34m.\u001b[0m\u001b[0msort\u001b[0m\u001b[0;34m(\u001b[0m\u001b[0;34m)\u001b[0m\u001b[0;34m)\u001b[0m\u001b[0;34m\u001b[0m\u001b[0;34m\u001b[0m\u001b[0m\n\u001b[0m\u001b[1;32m     19\u001b[0m     \u001b[0mG\u001b[0m \u001b[0;34m=\u001b[0m \u001b[0mGoal\u001b[0m\u001b[0;34m(\u001b[0m\u001b[0;34m)\u001b[0m\u001b[0;34m\u001b[0m\u001b[0;34m\u001b[0m\u001b[0m\n\u001b[1;32m     20\u001b[0m     \u001b[0mG\u001b[0m\u001b[0;34m.\u001b[0m\u001b[0madd\u001b[0m\u001b[0;34m(\u001b[0m\u001b[0mt\u001b[0m\u001b[0;34m)\u001b[0m\u001b[0;34m\u001b[0m\u001b[0;34m\u001b[0m\u001b[0m\n\u001b[1;32m     21\u001b[0m     \u001b[0;32mfor\u001b[0m \u001b[0mv\u001b[0m \u001b[0;32min\u001b[0m \u001b[0mkd\u001b[0m\u001b[0;34m.\u001b[0m\u001b[0mkernel\u001b[0m\u001b[0;34m.\u001b[0m\u001b[0mdefns\u001b[0m\u001b[0;34m.\u001b[0m\u001b[0mvalues\u001b[0m\u001b[0;34m(\u001b[0m\u001b[0;34m)\u001b[0m\u001b[0;34m:\u001b[0m\u001b[0;34m\u001b[0m\u001b[0;34m\u001b[0m\u001b[0m\n",
      "\u001b[0;32m~/.local/lib/python3.10/site-packages/z3/z3.py\u001b[0m in \u001b[0;36m?\u001b[0;34m(sort, prefix)\u001b[0m\n\u001b[1;32m   1482\u001b[0m \u001b[0;32mdef\u001b[0m \u001b[0mFreshConst\u001b[0m\u001b[0;34m(\u001b[0m\u001b[0msort\u001b[0m\u001b[0;34m,\u001b[0m \u001b[0mprefix\u001b[0m\u001b[0;34m=\u001b[0m\u001b[0;34m\"c\"\u001b[0m\u001b[0;34m)\u001b[0m\u001b[0;34m:\u001b[0m\u001b[0;34m\u001b[0m\u001b[0;34m\u001b[0m\u001b[0m\n\u001b[1;32m   1483\u001b[0m     \u001b[0;34m\"\"\"Create a fresh constant of a specified sort\"\"\"\u001b[0m\u001b[0;34m\u001b[0m\u001b[0;34m\u001b[0m\u001b[0m\n\u001b[0;32m-> 1484\u001b[0;31m     \u001b[0mctx\u001b[0m \u001b[0;34m=\u001b[0m \u001b[0m_get_ctx\u001b[0m\u001b[0;34m(\u001b[0m\u001b[0msort\u001b[0m\u001b[0;34m.\u001b[0m\u001b[0mctx\u001b[0m\u001b[0;34m)\u001b[0m\u001b[0;34m\u001b[0m\u001b[0;34m\u001b[0m\u001b[0m\n\u001b[0m\u001b[1;32m   1485\u001b[0m     \u001b[0;32mreturn\u001b[0m \u001b[0m_to_expr_ref\u001b[0m\u001b[0;34m(\u001b[0m\u001b[0mZ3_mk_fresh_const\u001b[0m\u001b[0;34m(\u001b[0m\u001b[0mctx\u001b[0m\u001b[0;34m.\u001b[0m\u001b[0mref\u001b[0m\u001b[0;34m(\u001b[0m\u001b[0;34m)\u001b[0m\u001b[0;34m,\u001b[0m \u001b[0mprefix\u001b[0m\u001b[0;34m,\u001b[0m \u001b[0msort\u001b[0m\u001b[0;34m.\u001b[0m\u001b[0mast\u001b[0m\u001b[0;34m)\u001b[0m\u001b[0;34m,\u001b[0m \u001b[0mctx\u001b[0m\u001b[0;34m)\u001b[0m\u001b[0;34m\u001b[0m\u001b[0;34m\u001b[0m\u001b[0m\n",
      "\u001b[0;31mAttributeError\u001b[0m: 'str' object has no attribute 'ctx'"
     ]
    }
   ],
   "source": [
    "import knuckledragger as kd\n",
    "import knuckledragger.theories.Real as R\n",
    "from z3 import *\n",
    "G = Goal()\n",
    "for k,v in kd.kernel.defns.items():\n",
    "    G.add(v.ax.thm)\n",
    "\n",
    "myexpr = Function(\"myexpr\", RealSort(), BoolSort())\n",
    "G.add(myexpr(R.max(3,4)))\n",
    "G.add(x == R.max(3,4))\n",
    "print(G)\n",
    "for tac in [\"simplify\", \"demodulator\", \"ctx-solver-simplify\", \"propagate-values\", \"macro-finder\", \"solve-eqs\", \"ctx-simplify\", \"elim-predicates\"]:\n",
    "    G2 = Tactic(tac).apply(G)\n",
    "    print(tac, G2)\n",
    "\n",
    "\n",
    "\n"
   ]
  },
  {
   "cell_type": "code",
   "execution_count": 54,
   "metadata": {},
   "outputs": [
    {
     "data": {
      "text/html": [
       "If(8 &ge; If(x &ge; 4, x, 4), 8, If(x &ge; 4, x, 4))"
      ],
      "text/plain": [
       "If(8 >= If(x >= 4, x, 4), 8, If(x >= 4, x, 4))"
      ]
     },
     "execution_count": 54,
     "metadata": {},
     "output_type": "execute_result"
    }
   ],
   "source": [
    "def simp(t):\n",
    "    expr = FreshConst(t.sort(), prefix=\"knuckle_goal\")\n",
    "    G = Goal()\n",
    "    for v in kd.kernel.defns.values():\n",
    "        G.add(v.ax.thm)\n",
    "    G.add(expr == t)\n",
    "    G2 = Tactic(\"elim-predicates\").apply(G)[0]\n",
    "    return G2[len(G2)-1].children()[1]\n",
    "\n",
    "simp(R.max(8, R.max(,4)))"
   ]
  },
  {
   "cell_type": "code",
   "execution_count": 1,
   "metadata": {},
   "outputs": [
    {
     "name": "stdout",
     "output_type": "stream",
     "text": [
      "6\n"
     ]
    }
   ],
   "source": [
    "import maude\n",
    "maude.init()\n",
    "m = maude.getModule('NAT')\n",
    "t = m.parseTerm('2 * 3')\n",
    "t.reduce()\n",
    "print(t)"
   ]
  },
  {
   "cell_type": "code",
   "execution_count": 6,
   "metadata": {},
   "outputs": [
    {
     "data": {
      "text/plain": [
       "'s_'"
      ]
     },
     "execution_count": 6,
     "metadata": {},
     "output_type": "execute_result"
    }
   ],
   "source": [
    "sy = t.symbol()\n",
    "str(sy)"
   ]
  },
  {
   "cell_type": "code",
   "execution_count": null,
   "metadata": {},
   "outputs": [],
   "source": [
    "def maude_sort_to_z3_sort()\n",
    "\n",
    "def maude_to_z3(t) -> ExprRef:\n",
    "    f = t.symbol()\n",
    "    Function(str(f), *[f.f.domainKind(i) for i in range(f.arity())], f.rangeSort())\n",
    "    maude_to_z3(arg) for arg in t.arguments()\n",
    "\n",
    "def z3_to_maude(t) -> maude.Term:\n",
    "    # very similar to tptp"
   ]
  },
  {
   "cell_type": "code",
   "execution_count": 1,
   "metadata": {},
   "outputs": [
    {
     "name": "stderr",
     "output_type": "stream",
     "text": [
      "Admitting lemma ForAll([x, y, z], mul(x, mul(y, z)) == mul(mul(x, y), z))\n",
      "Admitting lemma ForAll(x, Implies(x >= 0, sqrt(x) >= 0))\n",
      "Admitting lemma ForAll(x, Implies(x >= 0, sqrt(x)**2 == x))\n",
      "Admitting lemma ForAll(x, Implies(x >= 0, sqrt(sqr(x)) == x))\n"
     ]
    }
   ],
   "source": [
    "from kdrag.all import *\n",
    "\n",
    "def maude_of_expr(e):\n",
    "    fp.write(\"fmod KNUCKLE is\\n\")\n",
    "    for decl in decls:\n",
    "        fp.write(f\"op {decl.name()} : {\" -> \"join(decl.domain(i) for i in range(decl.arity())} -> {decl.range()} .\")\n",
    "    for t in thms:\n",
    "        body, vs = open_binders(t)\n",
    "        for v in vs:\n",
    "            fp.write(f\"var {v} : {v.sort()} .\")\n",
    "        fp.write(f\"eq {body} .\")\n",
    "    fp.write(\"endfm\")\n",
    "\n",
    "\n"
   ]
  },
  {
   "cell_type": "code",
   "execution_count": null,
   "metadata": {},
   "outputs": [],
   "source": [
    "Nat = DeclareSort(\"NAT\")\n",
    "zero = Function(\"zero\", Nat)\n",
    "succ = Function(\"succ\", Nat, Nat)\n",
    "add = Function(\"add\", Nat, Nat, Nat)\n",
    "x,y,z = Consts(\"x y z\", Nat)\n",
    "ForAll([x], add(zero(), x) == x))"
   ]
  },
  {
   "cell_type": "markdown",
   "metadata": {},
   "source": [
    "https://fadoss.github.io/maude-bindings/"
   ]
  },
  {
   "cell_type": "code",
   "execution_count": 21,
   "metadata": {},
   "outputs": [],
   "source": [
    "c = 0"
   ]
  },
  {
   "cell_type": "code",
   "execution_count": 46,
   "metadata": {},
   "outputs": [
    {
     "data": {
      "text/plain": [
       "<maude.ArgumentIterator; proxy of <Swig Object of type 'EasyArgumentIterator *' at 0x7066e0536d90> >"
      ]
     },
     "execution_count": 46,
     "metadata": {},
     "output_type": "execute_result"
    }
   ],
   "source": [
    "import maude\n",
    "c += 1 \n",
    "code = f\"\"\"\n",
    "fmod KNUCKLE{c} is\n",
    "sort Nat .\n",
    "op zero : -> Nat .\n",
    "op s_ : Nat -> Nat .\n",
    "op _+_ : Nat Nat -> Nat .\n",
    "vars N M : Nat .\n",
    "eq zero + N = N .\n",
    "eq s N + M = s (N + M) .\n",
    "endfm\\n\"\"\"\n",
    "maude.init()\n",
    "maude.input(code)\n",
    "#maude.input(\"red zero + (s zero + s zero) .\\n\")\n",
    "#maude.input(\"show sorts KNUCKLE4 .\")\n",
    "#maude.getModules()\n",
    "m = maude.getModule(f'KNUCKLE{c}')\n",
    "t = m.parseTerm(\"zero + (s zero + s zero)\")\n",
    "t.reduce()\n",
    "t.arguments()\n"
   ]
  },
  {
   "cell_type": "code",
   "execution_count": 55,
   "metadata": {},
   "outputs": [
    {
     "name": "stdout",
     "output_type": "stream",
     "text": [
      "X + 0 == X\n"
     ]
    },
    {
     "ename": "AssertionError",
     "evalue": "",
     "output_type": "error",
     "traceback": [
      "\u001b[0;31m---------------------------------------------------------------------------\u001b[0m",
      "\u001b[0;31mAssertionError\u001b[0m                            Traceback (most recent call last)",
      "Cell \u001b[0;32mIn[55], line 19\u001b[0m\n\u001b[1;32m     17\u001b[0m     \u001b[38;5;28;01mreturn\u001b[39;00m vs ,lhs, rhs\n\u001b[1;32m     18\u001b[0m vs, lhs, rhs \u001b[38;5;241m=\u001b[39m rule_of_theorem(succ_0)\n\u001b[0;32m---> 19\u001b[0m \u001b[38;5;28;01massert\u001b[39;00m succ_0\u001b[38;5;241m.\u001b[39meq(smt\u001b[38;5;241m.\u001b[39mForAll(vs, lhs \u001b[38;5;241m==\u001b[39m rhs))\n",
      "\u001b[0;31mAssertionError\u001b[0m: "
     ]
    }
   ],
   "source": [
    "import kdrag\n",
    "from kdrag.all import *\n",
    "x,y,z = kdrag.smt.Reals(\"x y z\")\n",
    "succ_0 = smt.ForAll([x], x + 0 == x)\n",
    "\n",
    "\n",
    "def rule_of_theorem(thm):\n",
    "    if smt.is_quantifier(thm):\n",
    "        if thm.is_forall():\n",
    "            vs, body = kdrag.utils.open_binder(thm)\n",
    "    else:\n",
    "        vs = []\n",
    "    print(body)\n",
    "    if not smt.is_eq(body):\n",
    "        raise Exception(\"Not an equation\")\n",
    "    lhs, rhs = body.children()\n",
    "    return vs ,lhs, rhs\n",
    "vs, lhs, rhs = rule_of_theorem(succ_0)\n",
    "#assert succ_0.eq(smt.ForAll(vs, lhs == rhs))"
   ]
  },
  {
   "cell_type": "code",
   "execution_count": 63,
   "metadata": {},
   "outputs": [
    {
     "name": "stdout",
     "output_type": "stream",
     "text": [
      "X + 0 == X\n"
     ]
    },
    {
     "data": {
      "text/html": [
       "y"
      ],
      "text/plain": [
       "y"
      ]
     },
     "execution_count": 63,
     "metadata": {},
     "output_type": "execute_result"
    }
   ],
   "source": [
    "from typing import Optional\n",
    "def pmatch(\n",
    "    t: smt.ExprRef, vs : list[smt.ExprRef], pat: smt.ExprRef\n",
    ") -> Optional[dict[smt.ExprRef, smt.ExprRef]]:\n",
    "    subst = {}\n",
    "    todo = [(t, pat)]\n",
    "    while len(todo) > 0:\n",
    "        t, pat = todo.pop()\n",
    "        if t.eq(pat):\n",
    "            continue\n",
    "        if pat in vs:\n",
    "            if pat in subst:\n",
    "                if not subst[pat].eq(t):\n",
    "                    return None\n",
    "            else:\n",
    "                subst[pat] = t\n",
    "        elif smt.is_app(t) and smt.is_app(pat):\n",
    "            if pat.decl() == t.decl():\n",
    "                todo.extend(zip(t.children(), pat.children()))\n",
    "            else:\n",
    "                return None\n",
    "        else:\n",
    "            raise Exception(\"Unexpected subterm or subpattern in pmatch\", t, pat)\n",
    "    return subst\n",
    "\n",
    "def rewrite1(t, vs, lhs, rhs):\n",
    "    subst = pmatch(t, vs, lhs)    \n",
    "    if subst is not None:\n",
    "        return smt.substitute(rhs, *subst.items())\n",
    "    return None\n",
    "\n",
    "vs, lhs, rhs = rule_of_theorem(succ_0)\n",
    "rewrite1(y + 0, vs, lhs, rhs)\n",
    "        "
   ]
  },
  {
   "cell_type": "code",
   "execution_count": 74,
   "metadata": {},
   "outputs": [
    {
     "name": "stdout",
     "output_type": "stream",
     "text": [
      "X + 0 == X\n"
     ]
    },
    {
     "data": {
      "text/html": [
       "y"
      ],
      "text/plain": [
       "y"
      ]
     },
     "execution_count": 74,
     "metadata": {},
     "output_type": "execute_result"
    }
   ],
   "source": [
    "def rewrite_star(t, rules):\n",
    "    if smt.is_app(t):\n",
    "        t = t.decl()(*[rewrite(arg, rules) for arg in t.children()])\n",
    "        # TODO: index by decl\n",
    "        while True:\n",
    "            done = True\n",
    "            for vs, lhs, rhs in rules:\n",
    "                res = rewrite1(t, vs, lhs, rhs)\n",
    "                if res is not None:\n",
    "                    print(t, \"-->\", res)\n",
    "                    # proof.append(t,res, rulen)\n",
    "                    t = res\n",
    "                    done = False\n",
    "            if done:\n",
    "                return t\n",
    "    else:\n",
    "        return t\n",
    "\n",
    "def rewrite(t, rules):\n",
    "    if smt.is_app(t):\n",
    "        t = t.decl()(*[rewrite(arg, rules) for arg in t.children()])\n",
    "        for vs, lhs, rhs in rules:\n",
    "            res = rewrite1(t, vs, lhs, rhs)\n",
    "            if res is not None:\n",
    "                return res\n",
    "    return t\n",
    "\n",
    "# a different evaluation pattern\n",
    "def rewrite_star2(t,rules):\n",
    "    while True:\n",
    "        t2 = rewrite(t, rules)\n",
    "        if t2.eq(t):\n",
    "            return t2\n",
    "        t = t2\n",
    "\n",
    "t = (y + 0) + 0\n",
    "rewrite(t, [rule_of_theorem(succ_0)])\n",
    "rewrite_star(t, [rule_of_theorem(succ_0)])\n",
    "\n",
    "def decl_index(rules):\n",
    "    return {lhs.decl() : (vs, lhs, rhs) for vs, lhs, rhs in rules}\n"
   ]
  },
  {
   "cell_type": "code",
   "execution_count": 39,
   "metadata": {},
   "outputs": [
    {
     "data": {
      "text/plain": [
       "True"
      ]
     },
     "execution_count": 39,
     "metadata": {},
     "output_type": "execute_result"
    }
   ],
   "source": [
    "# rewrite exactly once\n",
    "Rule = tuple[list[smt.ExprRef], smt.ExprRef, smt.ExprRef]\n",
    "def rewrite(t, rules : dict[smt.FuncDeclRef, list[Rule]]):\n",
    "    if smt.is_app(t):\n",
    "        decl = t.decl()\n",
    "        c = t.children()\n",
    "        for i in range(len(c)):\n",
    "            res = rewrite(c[i], rules)\n",
    "            if res is not None:\n",
    "                c[i] = res\n",
    "                return decl(*c)\n",
    "        for rule in rules[decl]:\n",
    "            res = rewrite1(t,vs,lhs,rhs)\n",
    "            if res is not None:\n",
    "                return res\n",
    "# or reorder loops to rewrte as close to root as possible.\n",
    "def rewrite(t, rules : dict[smt.FuncDeclRef, list[Rule]]):\n",
    "    if smt.is_app(t):\n",
    "        decl = t.decl()\n",
    "        for rule in rules[decl]:\n",
    "            res = rewrite1(t,vs,lhs,rhs)\n",
    "            if res is not None:\n",
    "                return res\n",
    "        c = t.children()\n",
    "        for i in range(len(c)):\n",
    "            res = rewrite(c[i], rules)\n",
    "            if res is not None:\n",
    "                c[i] = res\n",
    "                return decl(*c)\n",
    "# decl zippers\n",
    "Zipper = tuple(FuncDeclRef, list[ExprRef], list[ExprRef])\n"
   ]
  },
  {
   "cell_type": "code",
   "execution_count": null,
   "metadata": {},
   "outputs": [],
   "source": [
    "def build_index(rules):\n",
    "    index = defaultdict(list)\n",
    "    if not isinstance(rules, list):\n",
    "        rules = [rules]\n",
    "    for rule in rules:\n",
    "        if isinstance(rule, Rule) or isinstance(rule, tuple):\n",
    "            vs,lhs,rhs = rule\n",
    "            index[lhs.decl()].append(rule)\n",
    "        elif kdrag.is_proof(rule):\n",
    "            vs,lhs,rhs = rule_of_theorem(rule.thm)\n",
    "        elif isinstance(rule, smt.BoolRef):\n",
    "            vs,lhs,rhs = rule_of_theorem(rule)\n",
    "        else:\n",
    "            raise Exception(\"Unexpected rule format\", rule)\n",
    "        index[lhs.decl()].append(Rule(vs,lhs,rhs))\n",
    "    return index\n",
    "\n",
    "def rewrite(t, rules):\n",
    "    if not isinstance(rules,dict):\n",
    "        rules = build_index(rules)\n",
    "    return rewrite(t, rules) # just inline it here.\n",
    " "
   ]
  },
  {
   "cell_type": "markdown",
   "metadata": {},
   "source": [
    "There are at least 3 versions of what we may want our rules to be.\n",
    "vs,lhs,rhs\n",
    "forall x, lhs == rhs\n",
    "Proof(forall x, lhs == rhs)"
   ]
  },
  {
   "cell_type": "code",
   "execution_count": null,
   "metadata": {},
   "outputs": [],
   "source": []
  },
  {
   "cell_type": "code",
   "execution_count": 17,
   "metadata": {},
   "outputs": [
    {
     "data": {
      "text/plain": [
       "(fmod BOOL,\n",
       " fmod TRUTH-VALUE,\n",
       " fmod BOOL-OPS,\n",
       " fmod TRUTH,\n",
       " fmod EXT-BOOL,\n",
       " fmod INITIAL-EQUALITY-PREDICATE,\n",
       " fmod NAT,\n",
       " fmod INT,\n",
       " fmod RAT,\n",
       " fmod FLOAT,\n",
       " fmod STRING,\n",
       " fmod CONVERSION,\n",
       " fmod RANDOM,\n",
       " fmod BOUND,\n",
       " fmod QID,\n",
       " fth TRIV,\n",
       " fth STRICT-WEAK-ORDER,\n",
       " fth STRICT-TOTAL-ORDER,\n",
       " fth TOTAL-PREORDER,\n",
       " fth TOTAL-ORDER,\n",
       " fth DEFAULT,\n",
       " fmod LIST,\n",
       " fmod WEAKLY-SORTABLE-LIST,\n",
       " fmod SORTABLE-LIST,\n",
       " fmod WEAKLY-SORTABLE-LIST',\n",
       " fmod SORTABLE-LIST',\n",
       " fmod SET,\n",
       " fmod LIST-AND-SET,\n",
       " fmod SORTABLE-LIST-AND-SET,\n",
       " fmod SORTABLE-LIST-AND-SET',\n",
       " fmod LIST*,\n",
       " fmod SET*,\n",
       " fmod MAP,\n",
       " fmod ARRAY,\n",
       " fmod NAT-LIST,\n",
       " fmod QID-LIST,\n",
       " fmod QID-SET,\n",
       " fmod META-TERM,\n",
       " fmod META-CONDITION,\n",
       " fmod META-STRATEGY,\n",
       " fmod META-MODULE,\n",
       " fmod META-VIEW,\n",
       " fmod META-LEVEL,\n",
       " fmod LEXICAL,\n",
       " mod COUNTER,\n",
       " mod LOOP-MODE,\n",
       " mod CONFIGURATION,\n",
       " fmod KNUCKLE,\n",
       " fmod KNUCKLE2,\n",
       " fmod KNUCKLE3,\n",
       " fmod KNUCKLE4)"
      ]
     },
     "execution_count": 17,
     "metadata": {},
     "output_type": "execute_result"
    }
   ],
   "source": [
    "maude.getModules()"
   ]
  },
  {
   "cell_type": "code",
   "execution_count": 98,
   "metadata": {},
   "outputs": [
    {
     "data": {
      "text/plain": [
       "'='"
      ]
     },
     "execution_count": 98,
     "metadata": {},
     "output_type": "execute_result"
    }
   ],
   "source": [
    "from z3 import *\n",
    "\n",
    "Math = DeclareSort(\"Math\")\n",
    "add = Function(\"add\", Math, Math, Math)\n",
    "dir(add(x,y) == x)\n",
    "(add(x,y) == x).decl().name()"
   ]
  },
  {
   "cell_type": "code",
   "execution_count": 121,
   "metadata": {},
   "outputs": [
    {
     "name": "stdout",
     "output_type": "stream",
     "text": [
      "(datatype Math)\n",
      "(function add  (Math Math) Math)\n",
      "(function zero () Math)\n",
      "(function one () Math)\n",
      "(rewrite (add X (zero )) X)\n",
      "(rewrite (add X Y) (add Y X))\n",
      "(let knuck_e (add (zero ) (one )))\n",
      "(run 10)\n",
      "(extract knuck_e)\n",
      "['(one)']\n"
     ]
    }
   ],
   "source": [
    "import egglog.bindings as eggbnd\n",
    "from z3 import *\n",
    "\n",
    "Math = DeclareSort(\"Math\")\n",
    "add = Function(\"add\", Math, Math, Math)\n",
    "zero = Const(\"zero\", Math)\n",
    "one =  Const(\"one\", Math)\n",
    "\n",
    "sig = [Math, add, zero, one]\n",
    "\n",
    "x,y = Consts(\"x y\", Math)\n",
    "add(zero,one) == one\n",
    "rules =[\n",
    "ForAll([x], add(x,zero) == x),\n",
    "ForAll([x,y], add(x,y) == add(y,x)),\n",
    "]\n",
    "\n",
    "def z3_to_egglog(e, vars=[]):\n",
    "    if e in vars:\n",
    "        return e.sexpr()\n",
    "    else:\n",
    "        head, args = e.decl(), e.children()\n",
    "        return f\"({head.name()} {' '.join(z3_to_egglog(a, vars) for a in args)})\"\n",
    "\n",
    "from knuckledragger.utils import open_binder\n",
    "def simp(e, rules, sig, n=10):\n",
    "    output = []\n",
    "    #output.append(\"(declare-sort TERM)\")\n",
    "    for f in sig:\n",
    "        if isinstance(f, z3.FuncDeclRef):\n",
    "            dom = \" \".join([f.domain(i).name() for i in range(f.arity())])\n",
    "            output.append(f\"(function {f.name()}  ({dom}) {f.range().name()})\")\n",
    "        elif isinstance(f, z3.SortRef):\n",
    "            output.append(f\"(datatype {f.name()})\")\n",
    "        elif isinstance(f, z3.ExprRef):\n",
    "            output.append(f\"(function {f.sexpr()} () {f.sort().name()})\")\n",
    "    for r in rules:\n",
    "        assert r.is_forall()\n",
    "        vs, r = open_binder(r)\n",
    "        assert r.decl().name() == \"=\"\n",
    "        lhs, rhs = r.children()\n",
    "        output.append(f\"(rewrite {z3_to_egglog(lhs,vars=vs)} {z3_to_egglog(rhs, vars=vs)})\")\n",
    "    output.append(f\"(let knuck_e {z3_to_egglog(e)})\")\n",
    "    output.append(f\"(run {n})\")\n",
    "    output.append(\"(extract knuck_e)\")\n",
    "    return output\n",
    "\n",
    "\n",
    "egraph = eggbnd.EGraph()\n",
    "for c in simp(add(zero,one), rules, sig):\n",
    "    print(c)\n",
    "    commands = egraph.parse_program(c)\n",
    "    res = egraph.run_program(*commands)\n",
    "print(res)\n"
   ]
  },
  {
   "cell_type": "markdown",
   "metadata": {},
   "source": [
    "## By Definitions\n",
    "\n",
    "delta expansion.\n",
    "Also a simp routine doing this would be nice.\n",
    "\n",
    "\n",
    "Should I make a db of everything that comes through?\n",
    "Maybe some config parameters?\n",
    "\n",
    "I could also make the Kernel entities objects instead of global.\n",
    "\n",
    "\n",
    "\n",
    "It's too bad that we lose the nice type definition of the manual style.\n",
    "fact = define(  , lambda fact: If  , fix=True)\n",
    "\n",
    "Scan for symbol being in rhs\n",
    "aprove? NaTT?\n",
    "\n",
    "Maybe lemma should not do the clever checking and that should be in a util wrapper.\n",
    "\n"
   ]
  },
  {
   "cell_type": "code",
   "execution_count": null,
   "metadata": {},
   "outputs": [],
   "source": [
    "\n",
    "def decls(e : ExprRef): #get_sig. get_sig might also collect the types?\n",
    "    if is_var(e):\n",
    "        return\n",
    "    else:\n",
    "        yield e.decl()\n",
    "        yield from c in e.children() for d in decls(c)\n",
    "def by_defn(thm: z3.BoolRef, by=[]) -> Proof:  # delta expansion\n",
    "    lemma(thm, by=[kernel.defn[decls(thm)]] + by)\n",
    "    "
   ]
  },
  {
   "cell_type": "markdown",
   "metadata": {},
   "source": [
    "\n"
   ]
  },
  {
   "cell_type": "markdown",
   "metadata": {},
   "source": [
    "## Lambda Eval\n",
    "\n",
    "I've complained a bit before that it's crazy python doesn't have a good lambda library.\n",
    "Well, it kind of does.\n",
    "\n",
    "\n",
    "Lambda eval.\n",
    "Z3 does do capture avoinding substitution. It can take care of de bruijn indices.\n",
    "vs z3 simplify\n",
    "\n",
    "Locally nameless matching. FreshConst + substitute makes this easy\n",
    "\n",
    "Then we can use regular python pattern matching for lambda matching. Pretty cool!\n",
    "I don't understand how the property mechanism works.\n",
    "\n",
    "https://chargueraud.org/research/2009/ln/main.pdf "
   ]
  },
  {
   "cell_type": "code",
   "execution_count": 51,
   "metadata": {},
   "outputs": [
    {
     "data": {
      "text/html": [
       "foo(a, bar(bar(b))) = bar(bar(c))"
      ],
      "text/plain": [
       "foo(a, bar(bar(b))) == bar(bar(c))"
      ]
     },
     "execution_count": 51,
     "metadata": {},
     "output_type": "execute_result"
    }
   ],
   "source": [
    "\"\"\"\n",
    "z3.ExprRef.head = property(lambda self: self.decl().kind())\n",
    "z3.ExprRef.args = property(lambda self: [self.arg(i) for i in range(self.num_args())])\n",
    "z3.ExprRef.__match_args__ = [\"head\", \"args\"]\n",
    "z3.QuantifierRef.open_term = property(lambda self: vars = FreshConst() (return vars, subst(self.body, []))) \n",
    "z3.QuantifierRef.__match_args__ = [\"open_term\"]\n",
    "\n",
    "z3.QuantifierRef.__matmul__ = lambda self, other: z3.substitute(self.body, zip([z3.Var(n) for n in range(len(other)) , other]))\n",
    "\"\"\"\n",
    "def open_binder(l : QuantifierRef):\n",
    "    vars = []\n",
    "    nvars = l.num_vars()\n",
    "    for i in range(nvars):\n",
    "        sort = l.var_sort(i)\n",
    "        vars.append((Var(nvars - i - 1, sort) , FreshConst(sort, prefix=l.var_name(i))))\n",
    "    return [x for (_,x) in vars], substitute(l.body(), vars)\n",
    "\n",
    "\n",
    "\n",
    "open_binder(Lambda([x, y, z], foo(x,bar(bar(y)))))\n",
    "open_binder(ForAll([x, y, z], foo(x,bar(bar(y))) == bar(z)))\n",
    "\n",
    "def instan(f : QuantifierRef, *x):\n",
    "    nvars = f.num_vars()\n",
    "    assert len(x) == nvars\n",
    "    vars = []\n",
    "    for i in range(nvars):\n",
    "        sort = f.var_sort(i)\n",
    "        vars.append((Var(nvars - i - 1, sort), x[i]))\n",
    "    return substitute(f.body(), *vars)\n",
    "\n",
    "instan(ForAll([x, y, z], foo(x,bar(bar(y))) == bar(z)), a, b, bar(c))\n",
    "\n",
    "# instn is substutie_vars?\n",
    "# how much of this is also available from cvc5"
   ]
  },
  {
   "cell_type": "code",
   "execution_count": 53,
   "metadata": {},
   "outputs": [
    {
     "name": "stdout",
     "output_type": "stream",
     "text": [
      "algebraic_number_evaluator (bool) simplify/evaluate expressions containing (algebraic) irrational numbers. (default: true)\n",
      "arith_ineq_lhs (bool) rewrite inequalities so that right-hand-side is a constant. (default: false)\n",
      "arith_lhs (bool) all monomials are moved to the left-hand-side, and the right-hand-side is just a constant. (default: false)\n",
      "bit2bool (bool) try to convert bit-vector terms of size 1 into Boolean terms (default: true)\n",
      "blast_distinct (bool) expand a distinct predicate into a quadratic number of disequalities (default: false)\n",
      "blast_distinct_threshold (unsigned int) when blast_distinct is true, only distinct expressions with less than this number of arguments are blasted (default: 4294967295)\n",
      "blast_eq_value (bool) blast (some) Bit-vector equalities into bits (default: false)\n",
      "blast_select_store (bool) eagerly replace all (select (store ..) ..) term by an if-then-else term (default: false)\n",
      "bv_extract_prop (bool) attempt to partially propagate extraction inwards (default: false)\n",
      "bv_ineq_consistency_test_max (unsigned int) max size of conjunctions on which to perform consistency test based on inequalities on bitvectors. (default: 0)\n",
      "bv_ite2id (bool) rewrite ite that can be simplified to identity (default: false)\n",
      "bv_le2extract (bool) disassemble bvule to extract (default: true)\n",
      "bv_le_extra (bool) additional bu_(u/s)le simplifications (default: false)\n",
      "bv_not_simpl (bool) apply simplifications for bvnot (default: false)\n",
      "bv_sort_ac (bool) sort the arguments of all AC operators (default: false)\n",
      "cache_all (bool) cache all intermediate results. (default: false)\n",
      "elim_and (bool) conjunctions are rewritten using negation and disjunctions (default: false)\n",
      "elim_ite (bool) eliminate ite in favor of and/or (default: true)\n",
      "elim_rem (bool) replace (rem x y) with (ite (>= y 0) (mod x y) (- (mod x y))). (default: false)\n",
      "elim_sign_ext (bool) expand sign-ext operator using concat and extract (default: true)\n",
      "elim_to_real (bool) eliminate to_real from arithmetic predicates that contain only integers. (default: false)\n",
      "eq2ineq (bool) expand equalities into two inequalities (default: false)\n",
      "expand_nested_stores (bool) replace nested stores by a lambda expression (default: false)\n",
      "expand_power (bool) expand (^ t k) into (* t ... t) if  1 < k <= max_degree. (default: false)\n",
      "expand_select_ite (bool) expand select over ite expressions (default: false)\n",
      "expand_select_store (bool) conservatively replace a (select (store ...) ...) term by an if-then-else term (default: false)\n",
      "expand_store_eq (bool) reduce (store ...) = (store ...) with a common base into selects (default: false)\n",
      "expand_tan (bool) replace (tan x) with (/ (sin x) (cos x)). (default: false)\n",
      "flat (bool) create nary applications for and,or,+,*,bvadd,bvmul,bvand,bvor,bvxor (default: true)\n",
      "gcd_rounding (bool) use gcd rounding on integer arithmetic atoms. (default: false)\n",
      "hi_div0 (bool) use the 'hardware interpretation' for division by zero (for bit-vector terms) (default: true)\n",
      "hoist_ite (bool) hoist shared summands under ite expressions (default: false)\n",
      "hoist_mul (bool) hoist multiplication over summation to minimize number of multiplications (default: false)\n",
      "ignore_patterns_on_ground_qbody (bool) ignores patterns on quantifiers that don't mention their bound variables. (default: true)\n",
      "ite_extra_rules (bool) extra ite simplifications, these additional simplifications may reduce size locally but increase globally (default: false)\n",
      "local_ctx (bool) perform local (i.e., cheap) context simplifications (default: false)\n",
      "local_ctx_limit (unsigned int) limit for applying local context simplifier (default: 4294967295)\n",
      "max_degree (unsigned int) max degree of algebraic numbers (and power operators) processed by simplifier. (default: 64)\n",
      "max_memory (unsigned int) maximum amount of memory in megabytes (default: 4294967295)\n",
      "max_steps (unsigned int) maximum number of steps (default: 4294967295)\n",
      "mul2concat (bool) replace multiplication by a power of two into a concatenation (default: false)\n",
      "mul_to_power (bool) collpase (* t ... t) into (^ t k), it is ignored if expand_power is true. (default: false)\n",
      "pull_cheap_ite (bool) pull if-then-else terms when cheap. (default: false)\n",
      "push_ite_arith (bool) push if-then-else over arithmetic terms. (default: false)\n",
      "push_ite_bv (bool) push if-then-else over bit-vector terms. (default: false)\n",
      "push_to_real (bool) distribute to_real over * and +. (default: true)\n",
      "rewrite_patterns (bool) rewrite patterns. (default: false)\n",
      "som (bool) put polynomials in sum-of-monomials form (default: false)\n",
      "som_blowup (unsigned int) maximum increase of monomials generated when putting a polynomial in sum-of-monomials normal form (default: 10)\n",
      "sort_store (bool) sort nested stores when the indices are known to be different (default: false)\n",
      "sort_sums (bool) sort the arguments of + application. (default: false)\n",
      "split_concat_eq (bool) split equalities of the form (= (concat t1 t2) t3) (default: false)\n",
      "\n"
     ]
    }
   ],
   "source": [
    "help_simplify()"
   ]
  },
  {
   "cell_type": "code",
   "execution_count": 48,
   "metadata": {},
   "outputs": [
    {
     "data": {
      "text/plain": [
       "[3, 2, 1]"
      ]
     },
     "execution_count": 48,
     "metadata": {},
     "output_type": "execute_result"
    }
   ],
   "source": [
    "list(range(3,0,-1))"
   ]
  },
  {
   "cell_type": "code",
   "execution_count": 1,
   "metadata": {},
   "outputs": [
    {
     "name": "stdout",
     "output_type": "stream",
     "text": [
      "42\n"
     ]
    }
   ],
   "source": [
    "# It isn't all roses. Python's scoping rules are bonkers. It's intrinsically an imperative language.\n",
    "match 42:\n",
    "    case a:\n",
    "        pass\n",
    "print(a)"
   ]
  },
  {
   "cell_type": "code",
   "execution_count": null,
   "metadata": {},
   "outputs": [],
   "source": [
    "def unify(a : AstRef, b : AstRef, vars):\n",
    "    # or take in an existential equation.\n",
    "    eqs = [(a,b)]\n",
    "    subst = []\n",
    "    sig = [] # miller unify?\n",
    "    while eqs:\n",
    "        a,b = eqs.pop()\n",
    "        if a in vars:\n",
    "            subst.append((a,b))\n",
    "            map(lambda x: substitute(subst), eqs)\n",
    "        elif b in vars:\n",
    "            subst.append((b,a))\n",
    "            map(lambda x: substitute(subst), eqs)\n",
    "        \n"
   ]
  },
  {
   "cell_type": "markdown",
   "metadata": {},
   "source": [
    "convert z3 ast to egglog for conditional simplification.\n",
    "\n",
    "simp taking in z3 formula\n",
    "\n",
    "https://microsoft.github.io/z3guide/programming/Example%20Programs/Formula%20Simplification/ examples of simplifying z3 expressions.\n",
    "\n",
    "\n",
    "rules = []\n",
    "def simp1(t, rules):\n",
    "    for r in rules:\n",
    "        match r:\n",
    "            case ForAll(vars,l == r):\n",
    "                subst = unify(l, r, vars)\n",
    "                if subst != None:\n",
    "\n",
    "def simp():\n",
    "\n",
    "\n",
    "\n"
   ]
  },
  {
   "cell_type": "markdown",
   "metadata": {},
   "source": [
    "Term orderings\n"
   ]
  },
  {
   "cell_type": "code",
   "execution_count": 21,
   "metadata": {},
   "outputs": [
    {
     "data": {
      "text/plain": [
       "<Order.GT: 4>"
      ]
     },
     "execution_count": 21,
     "metadata": {},
     "output_type": "execute_result"
    }
   ],
   "source": [
    "\n",
    "\n",
    "\n",
    "\n"
   ]
  },
  {
   "cell_type": "markdown",
   "metadata": {},
   "source": [
    "ast vector and ast map are interesting.\n",
    "\n",
    "class UnionFind():\n",
    "    pass\n",
    "\n",
    "The thing that kills me is too many design decisions. The great thing about just taking the z3 ast is it just is what it is. It is a pretty goodc design alkbeit imperfetc. In fact, it's so good it kind of inspired this whole line of thinking on my part.\n",
    "\n",
    "\n",
    "https://www.philipzucker.com/programming-and-interactive-proving-with-z3py/\n",
    "\n",
    "https://stackoverflow.com/questions/76270483/is-there-a-way-to-draw-bussproof-style-tree-diagram-in-jupyter-notebook\n",
    "\n"
   ]
  },
  {
   "cell_type": "code",
   "execution_count": 54,
   "metadata": {},
   "outputs": [],
   "source": [
    "from dataclasses import dataclass\n",
    "\n",
    "@dataclass(frozen=True)\n",
    "class Theorem():\n",
    "    pass\n",
    "__Theorem = Theorem\n",
    "Theorem = None\n",
    "\n",
    "@dataclass(frozen=True)\n",
    "class Axiom(__Theorem):\n",
    "    thm : BoolRef\n",
    "#Axiom = None. # Actually. Go ahead\n",
    "\n",
    "@dataclass(frozen=True)\n",
    "class Lemma(__Theorem):\n",
    "    thm : BoolRef\n",
    "    by : list[Theorem]\n",
    "    admit : bool\n",
    "__Lemma = Lemma #This is silly? You can still get at it.\n",
    "Lemma = None\n",
    "\n",
    "def lemma(fm : BoolRef, by = [], admit = False):\n",
    "    if admit:\n",
    "        return __Lemma(fm, by, True)\n",
    "    else:\n",
    "        s = Solver()\n",
    "        for n, h in enumerate(by):\n",
    "            assert isinstance(h, __Theorem)\n",
    "            s.add(h.thm)\n",
    "            s.assert_and_track(h, f\"by_{n}\")\n",
    "         \n",
    "        s.assert_and_track(Not(fm), \"goal\")\n",
    "        s.set(\"unsat_core\", True)\n",
    "        s.set(\"timeout\", 1000)\n",
    "        res = s.check()\n",
    "        if res == unsat:\n",
    "            # check the unsat core. Check it include goals\n",
    "            core = s.unsat_core()\n",
    "            return __Lemma(fm, by, False)\n",
    "        elif res == sat:\n",
    "            raise Exception(\"Lemma failed to prove\", s.get_model())\n",
    "\n"
   ]
  },
  {
   "cell_type": "code",
   "execution_count": null,
   "metadata": {},
   "outputs": [],
   "source": [
    "# a protocol style.\n",
    "class Proof():\n",
    "    thm : BoolRef\n",
    "    reasons : list[Any]\n",
    "    def check(self):\n",
    "        pass\n",
    "\n",
    "class Z3Lemma():\n",
    "    def check(self):\n",
    "        for i in self.reasons:\n",
    "            i.check()\n",
    "        lemma(self.thm, self.reasons)"
   ]
  },
  {
   "cell_type": "code",
   "execution_count": null,
   "metadata": {},
   "outputs": [],
   "source": [
    "Theorem"
   ]
  },
  {
   "cell_type": "markdown",
   "metadata": {},
   "source": [
    "# Proof Output Lean\n",
    "\n",
    "There is aso that lean gym thing https://github.com/lean-dojo/LeanDojo\n"
   ]
  },
  {
   "cell_type": "code",
   "execution_count": 2,
   "metadata": {},
   "outputs": [
    {
     "name": "stdout",
     "output_type": "stream",
     "text": [
      "Writing /tmp/toy.lean\n"
     ]
    }
   ],
   "source": [
    "%%file /tmp/toy.lean\n",
    "def main : IO Unit :=\n",
    "  IO.println \"Hello, world!\""
   ]
  },
  {
   "cell_type": "code",
   "execution_count": 4,
   "metadata": {},
   "outputs": [
    {
     "name": "stdout",
     "output_type": "stream",
     "text": [
      "Hello, world!\n"
     ]
    }
   ],
   "source": [
    "! lean /tmp/toy.lean --run"
   ]
  },
  {
   "cell_type": "code",
   "execution_count": null,
   "metadata": {},
   "outputs": [
    {
     "data": {
      "text/plain": [
       "'∀ (X!14 : Real) (Y!15 : Real), X!14  ≥ 7 ∧ Y!15  ≤ 3'"
      ]
     },
     "execution_count": 11,
     "metadata": {},
     "output_type": "execute_result"
    }
   ],
   "source": [
    "import kdrag.smt as smt\n",
    "import kdrag as kd\n",
    "\n",
    "def expr_to_lean(t : smt.ExprRef) -> str:\n",
    "    if smt.is_quantifier(t):\n",
    "        vs, body = kd.utils.open_binder(t)\n",
    "        vs = [f\"({v.decl().name()} : {v.sort()})\" for v in vs]\n",
    "        if t.is_forall():  \n",
    "            return f\"∀ {' '.join(vs)}, {expr_to_lean(body)}\"\n",
    "        elif t.is_exists():\n",
    "            return f\"∃ {' '.join(vs)}, {expr_to_lean(body)}\"\n",
    "        elif t.is_lambda():\n",
    "            return f\"λ {' '.join(vs)} => {expr_to_lean(body)}\"\n",
    "    elif smt.is_eq(t):\n",
    "        lhs, rhs = t.children()\n",
    "        return f\"{expr_to_lean(lhs)} = {expr_to_lean(rhs)}\"\n",
    "    elif smt.is_int_value(t):\n",
    "        return str(t.as_long())\n",
    "    elif smt.is_rational_value(t):    \n",
    "        if t.denominator() == 1:\n",
    "            return str(t.numerator())\n",
    "        else:\n",
    "            return f\"({t.numerator()} / {t.denominator()})\"\n",
    "    elif smt.is_and(t):\n",
    "        return f\"{' ∧ '.join(expr_to_lean(c) for c in t.children())}\"\n",
    "    elif smt.is_or(t):\n",
    "        return f\"{' ∨ '.join(expr_to_lean(c) for c in t.children())}\"\n",
    "    elif smt.is_not(t):\n",
    "        return f\"¬ {expr_to_lean(t.children()[0])}\"\n",
    "    elif smt.is_implies(t):\n",
    "        return f\"{expr_to_lean(t.children()[0])} → {expr_to_lean(t.children()[1])}\"\n",
    "    elif smt.is_true(t):\n",
    "        return \"⊤\"\n",
    "    elif smt.is_false(t):\n",
    "        return \"⊥\"\n",
    "    elif smt.is_le(t):\n",
    "        return f\"{expr_to_lean(t.children()[0])} ≤ {expr_to_lean(t.children()[1])}\"\n",
    "    elif smt.is_lt(t):\n",
    "        return f\"{expr_to_lean(t.children()[0])} < {expr_to_lean(t.children()[1])}\"\n",
    "    elif smt.is_ge(t):\n",
    "        return f\"{expr_to_lean(t.children()[0])} ≥ {expr_to_lean(t.children()[1])}\"\n",
    "    elif smt.is_gt(t):\n",
    "        return f\"{expr_to_lean(t.children()[0])} > {expr_to_lean(t.children()[1])}\"\n",
    "    elif smt.is_add(t):\n",
    "        return f\"{' + '.join(expr_to_lean(c) for c in t.children())}\"\n",
    "    elif smt.is_sub(t):\n",
    "        return f\"{' - '.join(expr_to_lean(c) for c in t.children())}\"\n",
    "    elif smt.is_mul(t):\n",
    "        return f\"{' * '.join(expr_to_lean(c) for c in t.children())}\"\n",
    "    elif smt.is_div(t):\n",
    "        return f\"{' / '.join(expr_to_lean(c) for c in t.children())}\"\n",
    "    elif smt.is_app(t):\n",
    "        decl = t.decl()\n",
    "        args = [expr_to_lean(a) for a in t.children()]\n",
    "        return f\"{decl.name()} {' '.join(args)}\"\n",
    "    else:\n",
    "        raise ValueError(f\"Unexpected expression in expr_to_lean {t}\")\n",
    "\n",
    "    \n",
    "x,y = smt.Reals(\"x y\")\n",
    "e = smt.ForAll([x,y], smt.And(x >= 7, y <= 3))\n",
    "expr_to_lean(e)\n",
    "\n",
    "\n",
    "def call_lean(s):\n",
    "    with open(\"/tmp/toy.lean\", \"w\") as f:\n",
    "        f.write(s)\n",
    "    return subprocess.run([\"lean\", \"/tmp/toy.lean\"], check=True)\n",
    "\n",
    "\n",
    "class LeanSolver(kd.solvers.BaseSolver):\n",
    "    def check(self, proof_script=None):\n",
    "        # collect up all the sorts and such. \n",
    "        with open(\"/tmp/toy.lean\", \"w\") as f:\n",
    "            f.write(s)\n",
    "            f.wrtie()\n",
    "        return subprocess.run([\"lean\", \"/tmp/toy.lean\"], check=True)\n",
    "\n",
    "\n",
    "\n"
   ]
  },
  {
   "cell_type": "markdown",
   "metadata": {},
   "source": [
    "isabelle printer?\n",
    "coq printer?\n",
    "agda\n",
    "haskell? (extraction?)\n"
   ]
  },
  {
   "cell_type": "markdown",
   "metadata": {},
   "source": [
    "# Proof formats\n",
    "https://www.gilith.com/opentheory/\n",
    "metamath\n",
    "dedukti\n",
    "alethe\n",
    "LF something that other cvc5\n",
    "\n",
    "JSON using some kind of schema\n",
    "hilbert style. akin to metamath\n",
    "```\n",
    "l # () ; comment\n",
    "d     ; define\n",
    "a name (a b c)\n",
    "l 1 \n",
    "```\n",
    "\n",
    "proof carrying code.\n",
    "I was suggesting something like this could work.\n",
    "\n",
    "DW_ASSERT\n",
    "\n",
    "extended smtlib format.\n",
    "(define-lemma bar :by      )\n",
    "(define-lemma foo :by a b c)\n",
    "\n",
    "\n"
   ]
  },
  {
   "cell_type": "markdown",
   "metadata": {},
   "source": [
    "# Converting to TPTP\n"
   ]
  },
  {
   "cell_type": "code",
   "execution_count": 42,
   "metadata": {},
   "outputs": [],
   "source": []
  },
  {
   "cell_type": "code",
   "execution_count": 53,
   "metadata": {},
   "outputs": [
    {
     "data": {
      "text/plain": [
       "{==, And, w, z}"
      ]
     },
     "execution_count": 53,
     "metadata": {},
     "output_type": "execute_result"
    }
   ],
   "source": [
    "def collect_sig(e : ExprRef):\n",
    "    sig = set()\n",
    "    todo = [e]\n",
    "    while todo:\n",
    "        e = todo.pop()\n",
    "        if is_var(e):\n",
    "            continue\n",
    "        elif isinstance(e, QuantifierRef):\n",
    "            todo.extend(e.body())\n",
    "        else:    \n",
    "          sig.add(e.decl())\n",
    "          todo.extend(e.children())\n",
    "    return sig\n",
    "\n",
    "E = DeclareSort(\"E\")\n",
    "x,y,z = Ints(\"x y z\")\n",
    "z,w = Consts(\"z w\", E)\n",
    "collect_sig(And(z == w, w == z))"
   ]
  },
  {
   "cell_type": "code",
   "execution_count": 67,
   "metadata": {},
   "outputs": [
    {
     "name": "stdout",
     "output_type": "stream",
     "text": [
      ";;declarations\n",
      "(declare-fun f (Int) Int)\n",
      ";;axioms\n",
      ";;goal\n",
      "(assert (not (= x x)))\n",
      "(check-set)\n"
     ]
    },
    {
     "ename": "NameError",
     "evalue": "name 'even_pf' is not defined",
     "output_type": "error",
     "traceback": [
      "\u001b[0;31m---------------------------------------------------------------------------\u001b[0m",
      "\u001b[0;31mNameError\u001b[0m                                 Traceback (most recent call last)",
      "Cell \u001b[0;32mIn[67], line 19\u001b[0m\n\u001b[1;32m     16\u001b[0m     \u001b[38;5;28mprint\u001b[39m(\u001b[38;5;124m\"\u001b[39m\u001b[38;5;124m(check-set)\u001b[39m\u001b[38;5;124m\"\u001b[39m)\n\u001b[1;32m     17\u001b[0m smt_print([f] , x \u001b[38;5;241m==\u001b[39m x)\n\u001b[0;32m---> 19\u001b[0m \u001b[43meven_pf\u001b[49m\u001b[38;5;241m.\u001b[39msexpr()\n",
      "\u001b[0;31mNameError\u001b[0m: name 'even_pf' is not defined"
     ]
    }
   ],
   "source": [
    "\n",
    "\n"
   ]
  },
  {
   "cell_type": "code",
   "execution_count": 57,
   "metadata": {},
   "outputs": [
    {
     "ename": "Z3Exception",
     "evalue": "sort mismatch",
     "output_type": "error",
     "traceback": [
      "\u001b[0;31m---------------------------------------------------------------------------\u001b[0m",
      "\u001b[0;31mZ3Exception\u001b[0m                               Traceback (most recent call last)",
      "\u001b[0;32m/tmp/ipykernel_1075501/3895065939.py\u001b[0m in \u001b[0;36m?\u001b[0;34m()\u001b[0m\n\u001b[1;32m      3\u001b[0m     \u001b[0;32mif\u001b[0m \u001b[0mname\u001b[0m \u001b[0;32min\u001b[0m \u001b[0;34m[\u001b[0m\u001b[0;34m\"and\"\u001b[0m\u001b[0;34m,\u001b[0m \u001b[0;34m\"or\"\u001b[0m\u001b[0;34m,\u001b[0m \u001b[0;34m\"=>\"\u001b[0m\u001b[0;34m,\u001b[0m \u001b[0;34m\"=\"\u001b[0m\u001b[0;34m,\u001b[0m \u001b[0;34m\"ite\"\u001b[0m\u001b[0;34m,\u001b[0m \u001b[0;34m\"not\"\u001b[0m\u001b[0;34m]\u001b[0m\u001b[0;34m:\u001b[0m\u001b[0;34m\u001b[0m\u001b[0;34m\u001b[0m\u001b[0m\n\u001b[1;32m      4\u001b[0m         \u001b[0;32mreturn\u001b[0m \u001b[0;32mNone\u001b[0m\u001b[0;34m\u001b[0m\u001b[0;34m\u001b[0m\u001b[0m\n\u001b[1;32m      5\u001b[0m     \u001b[0;32mreturn\u001b[0m \u001b[0;34m\"thf(typedecl, type, {} : {}).\"\u001b[0m\u001b[0;34m.\u001b[0m\u001b[0mformat\u001b[0m\u001b[0;34m(\u001b[0m\u001b[0mname\u001b[0m\u001b[0;34m,\u001b[0m \u001b[0mz3_sort_tptp\u001b[0m\u001b[0;34m(\u001b[0m\u001b[0mdecl\u001b[0m\u001b[0;34m.\u001b[0m\u001b[0msort\u001b[0m\u001b[0;34m(\u001b[0m\u001b[0;34m)\u001b[0m\u001b[0;34m)\u001b[0m\u001b[0;34m)\u001b[0m\u001b[0;34m\u001b[0m\u001b[0;34m\u001b[0m\u001b[0m\n\u001b[1;32m      6\u001b[0m \u001b[0;34m\u001b[0m\u001b[0m\n\u001b[0;32m----> 7\u001b[0;31m \u001b[0;32mfor\u001b[0m \u001b[0mdecl\u001b[0m \u001b[0;32min\u001b[0m \u001b[0mcollect_sig\u001b[0m\u001b[0;34m(\u001b[0m\u001b[0mAnd\u001b[0m\u001b[0;34m(\u001b[0m\u001b[0mz\u001b[0m \u001b[0;34m==\u001b[0m \u001b[0mw\u001b[0m\u001b[0;34m,\u001b[0m \u001b[0mw\u001b[0m \u001b[0;34m==\u001b[0m \u001b[0mz\u001b[0m\u001b[0;34m)\u001b[0m\u001b[0;34m)\u001b[0m\u001b[0;34m:\u001b[0m\u001b[0;34m\u001b[0m\u001b[0;34m\u001b[0m\u001b[0m\n\u001b[0m\u001b[1;32m      8\u001b[0m     \u001b[0mprint\u001b[0m\u001b[0;34m(\u001b[0m\u001b[0mdecl\u001b[0m\u001b[0;34m)\u001b[0m\u001b[0;34m\u001b[0m\u001b[0;34m\u001b[0m\u001b[0m\n\u001b[1;32m      9\u001b[0m     \u001b[0mprint\u001b[0m\u001b[0;34m(\u001b[0m\u001b[0msig_tptp_decl\u001b[0m\u001b[0;34m(\u001b[0m\u001b[0mdecl\u001b[0m\u001b[0;34m)\u001b[0m\u001b[0;34m)\u001b[0m\u001b[0;34m\u001b[0m\u001b[0;34m\u001b[0m\u001b[0m\n",
      "\u001b[0;32m~/.local/lib/python3.10/site-packages/z3/z3.py\u001b[0m in \u001b[0;36m?\u001b[0;34m(self, other)\u001b[0m\n\u001b[1;32m   1029\u001b[0m         \u001b[0;32mFalse\u001b[0m\u001b[0;34m\u001b[0m\u001b[0;34m\u001b[0m\u001b[0m\n\u001b[1;32m   1030\u001b[0m         \"\"\"\n\u001b[1;32m   1031\u001b[0m         \u001b[0;32mif\u001b[0m \u001b[0mother\u001b[0m \u001b[0;32mis\u001b[0m \u001b[0;32mNone\u001b[0m\u001b[0;34m:\u001b[0m\u001b[0;34m\u001b[0m\u001b[0;34m\u001b[0m\u001b[0m\n\u001b[1;32m   1032\u001b[0m             \u001b[0;32mreturn\u001b[0m \u001b[0;32mFalse\u001b[0m\u001b[0;34m\u001b[0m\u001b[0;34m\u001b[0m\u001b[0m\n\u001b[0;32m-> 1033\u001b[0;31m         \u001b[0ma\u001b[0m\u001b[0;34m,\u001b[0m \u001b[0mb\u001b[0m \u001b[0;34m=\u001b[0m \u001b[0m_coerce_exprs\u001b[0m\u001b[0;34m(\u001b[0m\u001b[0mself\u001b[0m\u001b[0;34m,\u001b[0m \u001b[0mother\u001b[0m\u001b[0;34m)\u001b[0m\u001b[0;34m\u001b[0m\u001b[0;34m\u001b[0m\u001b[0m\n\u001b[0m\u001b[1;32m   1034\u001b[0m         \u001b[0;32mreturn\u001b[0m \u001b[0mBoolRef\u001b[0m\u001b[0;34m(\u001b[0m\u001b[0mZ3_mk_eq\u001b[0m\u001b[0;34m(\u001b[0m\u001b[0mself\u001b[0m\u001b[0;34m.\u001b[0m\u001b[0mctx_ref\u001b[0m\u001b[0;34m(\u001b[0m\u001b[0;34m)\u001b[0m\u001b[0;34m,\u001b[0m \u001b[0ma\u001b[0m\u001b[0;34m.\u001b[0m\u001b[0mas_ast\u001b[0m\u001b[0;34m(\u001b[0m\u001b[0;34m)\u001b[0m\u001b[0;34m,\u001b[0m \u001b[0mb\u001b[0m\u001b[0;34m.\u001b[0m\u001b[0mas_ast\u001b[0m\u001b[0;34m(\u001b[0m\u001b[0;34m)\u001b[0m\u001b[0;34m)\u001b[0m\u001b[0;34m,\u001b[0m \u001b[0mself\u001b[0m\u001b[0;34m.\u001b[0m\u001b[0mctx\u001b[0m\u001b[0;34m)\u001b[0m\u001b[0;34m\u001b[0m\u001b[0;34m\u001b[0m\u001b[0m\n",
      "\u001b[0;32m~/.local/lib/python3.10/site-packages/z3/z3.py\u001b[0m in \u001b[0;36m?\u001b[0;34m(a, b, ctx)\u001b[0m\n\u001b[1;32m   1231\u001b[0m         \u001b[0mb\u001b[0m \u001b[0;34m=\u001b[0m \u001b[0mRealVal\u001b[0m\u001b[0;34m(\u001b[0m\u001b[0mb\u001b[0m\u001b[0;34m,\u001b[0m \u001b[0ma\u001b[0m\u001b[0;34m.\u001b[0m\u001b[0mctx\u001b[0m\u001b[0;34m)\u001b[0m\u001b[0;34m\u001b[0m\u001b[0;34m\u001b[0m\u001b[0m\n\u001b[1;32m   1232\u001b[0m \u001b[0;34m\u001b[0m\u001b[0m\n\u001b[1;32m   1233\u001b[0m     \u001b[0ms\u001b[0m \u001b[0;34m=\u001b[0m \u001b[0;32mNone\u001b[0m\u001b[0;34m\u001b[0m\u001b[0;34m\u001b[0m\u001b[0m\n\u001b[1;32m   1234\u001b[0m     \u001b[0ms\u001b[0m \u001b[0;34m=\u001b[0m \u001b[0m_coerce_expr_merge\u001b[0m\u001b[0;34m(\u001b[0m\u001b[0ms\u001b[0m\u001b[0;34m,\u001b[0m \u001b[0ma\u001b[0m\u001b[0;34m)\u001b[0m\u001b[0;34m\u001b[0m\u001b[0;34m\u001b[0m\u001b[0m\n\u001b[0;32m-> 1235\u001b[0;31m     \u001b[0ms\u001b[0m \u001b[0;34m=\u001b[0m \u001b[0m_coerce_expr_merge\u001b[0m\u001b[0;34m(\u001b[0m\u001b[0ms\u001b[0m\u001b[0;34m,\u001b[0m \u001b[0mb\u001b[0m\u001b[0;34m)\u001b[0m\u001b[0;34m\u001b[0m\u001b[0;34m\u001b[0m\u001b[0m\n\u001b[0m\u001b[1;32m   1236\u001b[0m     \u001b[0ma\u001b[0m \u001b[0;34m=\u001b[0m \u001b[0ms\u001b[0m\u001b[0;34m.\u001b[0m\u001b[0mcast\u001b[0m\u001b[0;34m(\u001b[0m\u001b[0ma\u001b[0m\u001b[0;34m)\u001b[0m\u001b[0;34m\u001b[0m\u001b[0;34m\u001b[0m\u001b[0m\n\u001b[1;32m   1237\u001b[0m     \u001b[0mb\u001b[0m \u001b[0;34m=\u001b[0m \u001b[0ms\u001b[0m\u001b[0;34m.\u001b[0m\u001b[0mcast\u001b[0m\u001b[0;34m(\u001b[0m\u001b[0mb\u001b[0m\u001b[0;34m)\u001b[0m\u001b[0;34m\u001b[0m\u001b[0;34m\u001b[0m\u001b[0m\n\u001b[1;32m   1238\u001b[0m     \u001b[0;32mreturn\u001b[0m \u001b[0;34m(\u001b[0m\u001b[0ma\u001b[0m\u001b[0;34m,\u001b[0m \u001b[0mb\u001b[0m\u001b[0;34m)\u001b[0m\u001b[0;34m\u001b[0m\u001b[0;34m\u001b[0m\u001b[0m\n",
      "\u001b[0;32m~/.local/lib/python3.10/site-packages/z3/z3.py\u001b[0m in \u001b[0;36m?\u001b[0;34m(s, a)\u001b[0m\n\u001b[1;32m   1211\u001b[0m             \u001b[0;32mreturn\u001b[0m \u001b[0ms\u001b[0m\u001b[0;34m\u001b[0m\u001b[0;34m\u001b[0m\u001b[0m\n\u001b[1;32m   1212\u001b[0m         \u001b[0;32melse\u001b[0m\u001b[0;34m:\u001b[0m\u001b[0;34m\u001b[0m\u001b[0;34m\u001b[0m\u001b[0m\n\u001b[1;32m   1213\u001b[0m             \u001b[0;32mif\u001b[0m \u001b[0mz3_debug\u001b[0m\u001b[0;34m(\u001b[0m\u001b[0;34m)\u001b[0m\u001b[0;34m:\u001b[0m\u001b[0;34m\u001b[0m\u001b[0;34m\u001b[0m\u001b[0m\n\u001b[1;32m   1214\u001b[0m                 \u001b[0m_z3_assert\u001b[0m\u001b[0;34m(\u001b[0m\u001b[0ms1\u001b[0m\u001b[0;34m.\u001b[0m\u001b[0mctx\u001b[0m \u001b[0;34m==\u001b[0m \u001b[0ms\u001b[0m\u001b[0;34m.\u001b[0m\u001b[0mctx\u001b[0m\u001b[0;34m,\u001b[0m \u001b[0;34m\"context mismatch\"\u001b[0m\u001b[0;34m)\u001b[0m\u001b[0;34m\u001b[0m\u001b[0;34m\u001b[0m\u001b[0m\n\u001b[0;32m-> 1215\u001b[0;31m                 \u001b[0m_z3_assert\u001b[0m\u001b[0;34m(\u001b[0m\u001b[0;32mFalse\u001b[0m\u001b[0;34m,\u001b[0m \u001b[0;34m\"sort mismatch\"\u001b[0m\u001b[0;34m)\u001b[0m\u001b[0;34m\u001b[0m\u001b[0;34m\u001b[0m\u001b[0m\n\u001b[0m\u001b[1;32m   1216\u001b[0m     \u001b[0;32melse\u001b[0m\u001b[0;34m:\u001b[0m\u001b[0;34m\u001b[0m\u001b[0;34m\u001b[0m\u001b[0m\n\u001b[1;32m   1217\u001b[0m         \u001b[0;32mreturn\u001b[0m \u001b[0ms\u001b[0m\u001b[0;34m\u001b[0m\u001b[0;34m\u001b[0m\u001b[0m\n",
      "\u001b[0;32m~/.local/lib/python3.10/site-packages/z3/z3.py\u001b[0m in \u001b[0;36m?\u001b[0;34m(cond, msg)\u001b[0m\n\u001b[1;32m    105\u001b[0m \u001b[0;32mdef\u001b[0m \u001b[0m_z3_assert\u001b[0m\u001b[0;34m(\u001b[0m\u001b[0mcond\u001b[0m\u001b[0;34m,\u001b[0m \u001b[0mmsg\u001b[0m\u001b[0;34m)\u001b[0m\u001b[0;34m:\u001b[0m\u001b[0;34m\u001b[0m\u001b[0;34m\u001b[0m\u001b[0m\n\u001b[1;32m    106\u001b[0m     \u001b[0;32mif\u001b[0m \u001b[0;32mnot\u001b[0m \u001b[0mcond\u001b[0m\u001b[0;34m:\u001b[0m\u001b[0;34m\u001b[0m\u001b[0;34m\u001b[0m\u001b[0m\n\u001b[0;32m--> 107\u001b[0;31m         \u001b[0;32mraise\u001b[0m \u001b[0mZ3Exception\u001b[0m\u001b[0;34m(\u001b[0m\u001b[0mmsg\u001b[0m\u001b[0;34m)\u001b[0m\u001b[0;34m\u001b[0m\u001b[0;34m\u001b[0m\u001b[0m\n\u001b[0m",
      "\u001b[0;31mZ3Exception\u001b[0m: sort mismatch"
     ]
    }
   ],
   "source": [
    "def sig_tptp_decl(decl):\n",
    "    name = decl.name()\n",
    "    if name in [\"and\", \"or\", \"=>\", \"=\", \"ite\", \"not\"]:\n",
    "        return None\n",
    "    return \"thf(typedecl, type, {} : {}).\".format(name, z3_sort_tptp(decl.sort()))\n",
    "\n",
    "for decl in collect_sig(And(z == w, w == z)):\n",
    "    print(decl)\n",
    "    print(sig_tptp_decl(decl))\n"
   ]
  },
  {
   "cell_type": "code",
   "execution_count": 54,
   "metadata": {},
   "outputs": [
    {
     "data": {
      "text/plain": [
       "'((x = 1) & (y = 2))'"
      ]
     },
     "execution_count": 54,
     "metadata": {},
     "output_type": "execute_result"
    }
   ],
   "source": [
    "\n",
    "\n",
    "\n",
    "\n",
    "x, y = Ints(\"x y\")\n",
    "z3_to_tptp(And(x == 1, y == 2))"
   ]
  },
  {
   "cell_type": "code",
   "execution_count": 85,
   "metadata": {},
   "outputs": [
    {
     "data": {
      "text/plain": [
       "True"
      ]
     },
     "execution_count": 85,
     "metadata": {},
     "output_type": "execute_result"
    }
   ],
   "source": [
    "e= Not(BoolVal(False))\n",
    "e.sort_kind()\n",
    "e.decl().kind() == z3.Z3_OP_NOT\n",
    "f(x).decl().kind() == z3.Z3_OP_UNINTERPRETED\n",
    "BoolVal(False).decl().kind() == z3.Z3_OP_FALSE"
   ]
  },
  {
   "cell_type": "code",
   "execution_count": null,
   "metadata": {},
   "outputs": [],
   "source": [
    "_z3_op_to_tptp = {\n",
    "    Z3_OP_TRUE: \"$true\",\n",
    "    Z3_OP_FALSE: \"$false\",\n",
    "    Z3_OP_EQ: \"=\",\n",
    "    Z3_OP_DISTINCT: \"Distinct\",\n",
    "    Z3_OP_ITE: \"$ite\",\n",
    "    Z3_OP_AND: \"&\",\n",
    "    Z3_OP_OR: \"|\",\n",
    "    Z3_OP_IFF: \"<=>\",\n",
    "    Z3_OP_XOR: \"Xor\",\n",
    "    Z3_OP_NOT: \"~\",\n",
    "    Z3_OP_IMPLIES: \"=>\",\n",
    "\n",
    "    Z3_OP_IDIV: \"/\",\n",
    "    Z3_OP_MOD: \"%\",\n",
    "    Z3_OP_TO_REAL: \"ToReal\",\n",
    "    Z3_OP_TO_INT: \"ToInt\",\n",
    "    Z3_OP_POWER: \"**\",\n",
    "    Z3_OP_IS_INT: \"IsInt\",\n",
    "    Z3_OP_BADD: \"+\",\n",
    "    Z3_OP_BSUB: \"-\",\n",
    "    Z3_OP_BMUL: \"*\",\n",
    "    Z3_OP_BOR: \"|\",\n",
    "    Z3_OP_BAND: \"&\",\n",
    "    Z3_OP_BNOT: \"~\",\n",
    "    Z3_OP_BXOR: \"^\",\n",
    "    Z3_OP_BNEG: \"-\",\n",
    "    Z3_OP_BUDIV: \"UDiv\",\n",
    "    Z3_OP_BSDIV: \"/\",\n",
    "    Z3_OP_BSMOD: \"%\",\n",
    "    Z3_OP_BSREM: \"SRem\",\n",
    "    Z3_OP_BUREM: \"URem\",\n",
    "\n",
    "    Z3_OP_EXT_ROTATE_LEFT: \"RotateLeft\",\n",
    "    Z3_OP_EXT_ROTATE_RIGHT: \"RotateRight\",\n",
    "\n",
    "    Z3_OP_SLEQ: \"<=\",\n",
    "    Z3_OP_SLT: \"<\",\n",
    "    Z3_OP_SGEQ: \">=\",\n",
    "    Z3_OP_SGT: \">\",\n",
    "\n",
    "    Z3_OP_ULEQ: \"ULE\",\n",
    "    Z3_OP_ULT: \"ULT\",\n",
    "    Z3_OP_UGEQ: \"UGE\",\n",
    "    Z3_OP_UGT: \"UGT\",\n",
    "    Z3_OP_SIGN_EXT: \"SignExt\",\n",
    "    Z3_OP_ZERO_EXT: \"ZeroExt\",\n",
    "\n",
    "    Z3_OP_REPEAT: \"RepeatBitVec\",\n",
    "    Z3_OP_BASHR: \">>\",\n",
    "    Z3_OP_BSHL: \"<<\",\n",
    "    Z3_OP_BLSHR: \"LShR\",\n",
    "\n",
    "    Z3_OP_CONCAT: \"Concat\",\n",
    "    Z3_OP_EXTRACT: \"Extract\",\n",
    "    Z3_OP_BV2INT: \"BV2Int\",\n",
    "    Z3_OP_ARRAY_MAP: \"Map\",\n",
    "    Z3_OP_SELECT: \"Select\",\n",
    "    Z3_OP_STORE: \"Store\",\n",
    "    Z3_OP_CONST_ARRAY: \"K\",\n",
    "    Z3_OP_ARRAY_EXT: \"Ext\",\n",
    "\n",
    "    Z3_OP_PB_AT_MOST: \"AtMost\",\n",
    "    Z3_OP_PB_AT_LEAST: \"AtLeast\",\n",
    "    Z3_OP_PB_LE: \"PbLe\",\n",
    "    Z3_OP_PB_GE: \"PbGe\",\n",
    "    Z3_OP_PB_EQ: \"PbEq\",\n",
    "\n",
    "    Z3_OP_SEQ_CONCAT: \"Concat\",\n",
    "    Z3_OP_SEQ_PREFIX: \"PrefixOf\",\n",
    "    Z3_OP_SEQ_SUFFIX: \"SuffixOf\",\n",
    "    Z3_OP_SEQ_UNIT: \"Unit\",\n",
    "    Z3_OP_SEQ_CONTAINS: \"Contains\",\n",
    "    Z3_OP_SEQ_REPLACE: \"Replace\",\n",
    "    Z3_OP_SEQ_AT: \"At\",\n",
    "    Z3_OP_SEQ_NTH: \"Nth\",\n",
    "    Z3_OP_SEQ_INDEX: \"IndexOf\",\n",
    "    Z3_OP_SEQ_LAST_INDEX: \"LastIndexOf\",\n",
    "    Z3_OP_SEQ_LENGTH: \"Length\",\n",
    "    Z3_OP_STR_TO_INT: \"StrToInt\",\n",
    "    Z3_OP_INT_TO_STR: \"IntToStr\",\n",
    "\n",
    "    Z3_OP_SEQ_IN_RE: \"InRe\",\n",
    "    Z3_OP_SEQ_TO_RE: \"Re\",\n",
    "    Z3_OP_RE_PLUS: \"Plus\",\n",
    "    Z3_OP_RE_STAR: \"Star\",\n",
    "    Z3_OP_RE_OPTION: \"Option\",\n",
    "    Z3_OP_RE_UNION: \"Union\",\n",
    "    Z3_OP_RE_RANGE: \"Range\",\n",
    "    Z3_OP_RE_INTERSECT: \"Intersect\",\n",
    "    Z3_OP_RE_COMPLEMENT: \"Complement\",\n",
    "\n",
    "    Z3_OP_FPA_IS_NAN: \"fpIsNaN\",\n",
    "    Z3_OP_FPA_IS_INF: \"fpIsInf\",\n",
    "    Z3_OP_FPA_IS_ZERO: \"fpIsZero\",\n",
    "    Z3_OP_FPA_IS_NORMAL: \"fpIsNormal\",\n",
    "    Z3_OP_FPA_IS_SUBNORMAL: \"fpIsSubnormal\",\n",
    "    Z3_OP_FPA_IS_NEGATIVE: \"fpIsNegative\",\n",
    "    Z3_OP_FPA_IS_POSITIVE: \"fpIsPositive\",\n",
    "}"
   ]
  },
  {
   "cell_type": "code",
   "execution_count": 55,
   "metadata": {},
   "outputs": [
    {
     "ename": "AttributeError",
     "evalue": "'FuncDeclRef' object has no attribute 'sort'",
     "output_type": "error",
     "traceback": [
      "\u001b[0;31m---------------------------------------------------------------------------\u001b[0m",
      "\u001b[0;31mAttributeError\u001b[0m                            Traceback (most recent call last)",
      "Cell \u001b[0;32mIn[55], line 9\u001b[0m\n\u001b[1;32m      6\u001b[0m     \u001b[38;5;28;01mreturn\u001b[39;00m tptp\n\u001b[1;32m      8\u001b[0m x, y, z \u001b[38;5;241m=\u001b[39m Ints(\u001b[38;5;124m\"\u001b[39m\u001b[38;5;124mx y z\u001b[39m\u001b[38;5;124m\"\u001b[39m)\n\u001b[0;32m----> 9\u001b[0m \u001b[43mz3_problem_to_tptp\u001b[49m\u001b[43m(\u001b[49m\u001b[43m[\u001b[49m\u001b[43mx\u001b[49m\u001b[43m \u001b[49m\u001b[38;5;241;43m==\u001b[39;49m\u001b[43m \u001b[49m\u001b[43my\u001b[49m\u001b[43m,\u001b[49m\u001b[43m \u001b[49m\u001b[43my\u001b[49m\u001b[43m \u001b[49m\u001b[38;5;241;43m==\u001b[39;49m\u001b[43m \u001b[49m\u001b[43mz\u001b[49m\u001b[43m]\u001b[49m\u001b[43m)\u001b[49m\n",
      "Cell \u001b[0;32mIn[55], line 4\u001b[0m, in \u001b[0;36mz3_problem_to_tptp\u001b[0;34m(probs)\u001b[0m\n\u001b[1;32m      2\u001b[0m tptp \u001b[38;5;241m=\u001b[39m []\n\u001b[1;32m      3\u001b[0m sig \u001b[38;5;241m=\u001b[39m {d \u001b[38;5;28;01mfor\u001b[39;00m prob \u001b[38;5;129;01min\u001b[39;00m probs \u001b[38;5;28;01mfor\u001b[39;00m d \u001b[38;5;129;01min\u001b[39;00m collect_sig(prob)}\n\u001b[0;32m----> 4\u001b[0m \u001b[43mtptp\u001b[49m\u001b[38;5;241;43m.\u001b[39;49m\u001b[43mextend\u001b[49m\u001b[43m(\u001b[49m\u001b[38;5;28;43mmap\u001b[39;49m\u001b[43m(\u001b[49m\u001b[43msig_tptp_decl\u001b[49m\u001b[43m,\u001b[49m\u001b[43m \u001b[49m\u001b[43msig\u001b[49m\u001b[43m)\u001b[49m\u001b[43m)\u001b[49m\n\u001b[1;32m      5\u001b[0m tptp\u001b[38;5;241m.\u001b[39mextend(\u001b[38;5;28mmap\u001b[39m(z3_to_tptp, probs))\n\u001b[1;32m      6\u001b[0m \u001b[38;5;28;01mreturn\u001b[39;00m tptp\n",
      "Cell \u001b[0;32mIn[51], line 5\u001b[0m, in \u001b[0;36msig_tptp_decl\u001b[0;34m(decl)\u001b[0m\n\u001b[1;32m      3\u001b[0m \u001b[38;5;28;01mif\u001b[39;00m name \u001b[38;5;129;01min\u001b[39;00m [\u001b[38;5;124m\"\u001b[39m\u001b[38;5;124mand\u001b[39m\u001b[38;5;124m\"\u001b[39m, \u001b[38;5;124m\"\u001b[39m\u001b[38;5;124mor\u001b[39m\u001b[38;5;124m\"\u001b[39m, \u001b[38;5;124m\"\u001b[39m\u001b[38;5;124m=>\u001b[39m\u001b[38;5;124m\"\u001b[39m, \u001b[38;5;124m\"\u001b[39m\u001b[38;5;124m=\u001b[39m\u001b[38;5;124m\"\u001b[39m, \u001b[38;5;124m\"\u001b[39m\u001b[38;5;124mite\u001b[39m\u001b[38;5;124m\"\u001b[39m, \u001b[38;5;124m\"\u001b[39m\u001b[38;5;124mnot\u001b[39m\u001b[38;5;124m\"\u001b[39m]:\n\u001b[1;32m      4\u001b[0m     \u001b[38;5;28;01mreturn\u001b[39;00m \u001b[38;5;28;01mNone\u001b[39;00m\n\u001b[0;32m----> 5\u001b[0m \u001b[38;5;28;01mreturn\u001b[39;00m \u001b[38;5;124m\"\u001b[39m\u001b[38;5;124mthf(typedecl, type, \u001b[39m\u001b[38;5;132;01m{}\u001b[39;00m\u001b[38;5;124m : \u001b[39m\u001b[38;5;132;01m{}\u001b[39;00m\u001b[38;5;124m).\u001b[39m\u001b[38;5;124m\"\u001b[39m\u001b[38;5;241m.\u001b[39mformat(name, z3_sort_tptp(\u001b[43mdecl\u001b[49m\u001b[38;5;241;43m.\u001b[39;49m\u001b[43msort\u001b[49m()))\n",
      "\u001b[0;31mAttributeError\u001b[0m: 'FuncDeclRef' object has no attribute 'sort'"
     ]
    }
   ],
   "source": [
    "def z3_problem_to_tptp(probs : list[BoolRef]):\n",
    "    tptp = []\n",
    "    sig = {d for prob in probs for d in collect_sig(prob)}\n",
    "    tptp.extend(map(sig_tptp_decl, sig))\n",
    "    tptp.extend(map(z3_to_tptp, probs))\n",
    "    return tptp\n",
    "\n",
    "x, y, z = Ints(\"x y z\")\n",
    "z3_problem_to_tptp([x == y, y == z])\n",
    "\n",
    "    \n"
   ]
  },
  {
   "cell_type": "code",
   "execution_count": 112,
   "metadata": {},
   "outputs": [
    {
     "ename": "AttributeError",
     "evalue": "'QuantifierRef' object has no attribute 'domain_n'",
     "output_type": "error",
     "traceback": [
      "\u001b[0;31m---------------------------------------------------------------------------\u001b[0m",
      "\u001b[0;31mAttributeError\u001b[0m                            Traceback (most recent call last)",
      "\u001b[0;32m/tmp/ipykernel_822462/2189143964.py\u001b[0m in \u001b[0;36m?\u001b[0;34m()\u001b[0m\n\u001b[1;32m      1\u001b[0m \u001b[0mExists\u001b[0m\u001b[0;34m(\u001b[0m\u001b[0;34m[\u001b[0m\u001b[0mx\u001b[0m\u001b[0;34m]\u001b[0m\u001b[0;34m,\u001b[0m \u001b[0mx\u001b[0m \u001b[0;34m==\u001b[0m \u001b[0mx\u001b[0m\u001b[0;34m)\u001b[0m\u001b[0;34m.\u001b[0m\u001b[0mis_exists\u001b[0m\u001b[0;34m(\u001b[0m\u001b[0;34m)\u001b[0m\u001b[0;34m\u001b[0m\u001b[0;34m\u001b[0m\u001b[0m\n\u001b[1;32m      2\u001b[0m \u001b[0msubstitute_vars\u001b[0m\u001b[0;34m(\u001b[0m\u001b[0mLambda\u001b[0m\u001b[0;34m(\u001b[0m\u001b[0;34m[\u001b[0m\u001b[0mx\u001b[0m\u001b[0;34m,\u001b[0m\u001b[0my\u001b[0m\u001b[0;34m]\u001b[0m\u001b[0;34m,\u001b[0m \u001b[0mx\u001b[0m \u001b[0;34m+\u001b[0m \u001b[0my\u001b[0m\u001b[0;34m)\u001b[0m\u001b[0;34m.\u001b[0m\u001b[0mbody\u001b[0m\u001b[0;34m(\u001b[0m\u001b[0;34m)\u001b[0m\u001b[0;34m,\u001b[0m \u001b[0mIntVal\u001b[0m\u001b[0;34m(\u001b[0m\u001b[0;36m3\u001b[0m\u001b[0;34m)\u001b[0m\u001b[0;34m)\u001b[0m\u001b[0;34m\u001b[0m\u001b[0;34m\u001b[0m\u001b[0m\n\u001b[0;32m----> 3\u001b[0;31m \u001b[0mSelect\u001b[0m\u001b[0;34m(\u001b[0m\u001b[0mLambda\u001b[0m\u001b[0;34m(\u001b[0m\u001b[0;34m[\u001b[0m\u001b[0mx\u001b[0m\u001b[0;34m]\u001b[0m\u001b[0;34m,\u001b[0m \u001b[0mx\u001b[0m \u001b[0;34m+\u001b[0m \u001b[0;36m1\u001b[0m\u001b[0;34m)\u001b[0m\u001b[0;34m,\u001b[0m \u001b[0;36m10\u001b[0m\u001b[0;34m)\u001b[0m\u001b[0;34m\u001b[0m\u001b[0;34m\u001b[0m\u001b[0m\n\u001b[0m",
      "\u001b[0;32m~/.local/lib/python3.10/site-packages/z3/z3.py\u001b[0m in \u001b[0;36m?\u001b[0;34m(a, *args)\u001b[0m\n\u001b[1;32m   4807\u001b[0m     \u001b[0mproved\u001b[0m\u001b[0;34m\u001b[0m\u001b[0;34m\u001b[0m\u001b[0m\n\u001b[1;32m   4808\u001b[0m     \u001b[0;34m>>\u001b[0m\u001b[0;34m>\u001b[0m \u001b[0mj\u001b[0m    \u001b[0;34m=\u001b[0m \u001b[0mInt\u001b[0m\u001b[0;34m(\u001b[0m\u001b[0;34m'j'\u001b[0m\u001b[0;34m)\u001b[0m\u001b[0;34m\u001b[0m\u001b[0;34m\u001b[0m\u001b[0m\n\u001b[1;32m   4809\u001b[0m     \u001b[0;34m>>\u001b[0m\u001b[0;34m>\u001b[0m \u001b[0mprove\u001b[0m\u001b[0;34m(\u001b[0m\u001b[0mImplies\u001b[0m\u001b[0;34m(\u001b[0m\u001b[0mi\u001b[0m \u001b[0;34m!=\u001b[0m \u001b[0mj\u001b[0m\u001b[0;34m,\u001b[0m \u001b[0ms\u001b[0m\u001b[0;34m[\u001b[0m\u001b[0mj\u001b[0m\u001b[0;34m]\u001b[0m \u001b[0;34m==\u001b[0m \u001b[0ma\u001b[0m\u001b[0;34m[\u001b[0m\u001b[0mj\u001b[0m\u001b[0;34m]\u001b[0m\u001b[0;34m)\u001b[0m\u001b[0;34m)\u001b[0m\u001b[0;34m\u001b[0m\u001b[0;34m\u001b[0m\u001b[0m\n\u001b[1;32m   4810\u001b[0m     \u001b[0mproved\u001b[0m\u001b[0;34m\u001b[0m\u001b[0;34m\u001b[0m\u001b[0m\n\u001b[0;32m-> 4811\u001b[0;31m     \"\"\"\n\u001b[0m\u001b[1;32m   4812\u001b[0m     \u001b[0;32mif\u001b[0m \u001b[0mz3_debug\u001b[0m\u001b[0;34m(\u001b[0m\u001b[0;34m)\u001b[0m\u001b[0;34m:\u001b[0m\u001b[0;34m\u001b[0m\u001b[0;34m\u001b[0m\u001b[0m\n\u001b[1;32m   4813\u001b[0m         \u001b[0m_z3_assert\u001b[0m\u001b[0;34m(\u001b[0m\u001b[0mis_array_sort\u001b[0m\u001b[0;34m(\u001b[0m\u001b[0ma\u001b[0m\u001b[0;34m)\u001b[0m\u001b[0;34m,\u001b[0m \u001b[0;34m\"First argument must be a Z3 array expression\"\u001b[0m\u001b[0;34m)\u001b[0m\u001b[0;34m\u001b[0m\u001b[0;34m\u001b[0m\u001b[0m\n\u001b[1;32m   4814\u001b[0m     \u001b[0margs\u001b[0m \u001b[0;34m=\u001b[0m \u001b[0m_get_args\u001b[0m\u001b[0;34m(\u001b[0m\u001b[0margs\u001b[0m\u001b[0;34m)\u001b[0m\u001b[0;34m\u001b[0m\u001b[0;34m\u001b[0m\u001b[0m\n",
      "\u001b[0;32m~/.local/lib/python3.10/site-packages/z3/z3.py\u001b[0m in \u001b[0;36m?\u001b[0;34m(self, arg)\u001b[0m\n\u001b[1;32m   2037\u001b[0m         \u001b[0;32mreturn\u001b[0m \u001b[0mZ3_get_ast_id\u001b[0m\u001b[0;34m(\u001b[0m\u001b[0mself\u001b[0m\u001b[0;34m.\u001b[0m\u001b[0mctx_ref\u001b[0m\u001b[0;34m(\u001b[0m\u001b[0;34m)\u001b[0m\u001b[0;34m,\u001b[0m \u001b[0mself\u001b[0m\u001b[0;34m.\u001b[0m\u001b[0mas_ast\u001b[0m\u001b[0;34m(\u001b[0m\u001b[0;34m)\u001b[0m\u001b[0;34m)\u001b[0m\u001b[0;34m\u001b[0m\u001b[0;34m\u001b[0m\u001b[0m\n",
      "\u001b[0;32m~/.local/lib/python3.10/site-packages/z3/z3.py\u001b[0m in \u001b[0;36m?\u001b[0;34m(ar, arg)\u001b[0m\n\u001b[1;32m   4589\u001b[0m     \u001b[0;32mdef\u001b[0m \u001b[0mrange\u001b[0m\u001b[0;34m(\u001b[0m\u001b[0mself\u001b[0m\u001b[0;34m)\u001b[0m\u001b[0;34m:\u001b[0m\u001b[0;34m\u001b[0m\u001b[0;34m\u001b[0m\u001b[0m\n\u001b[1;32m   4590\u001b[0m         \"\"\"Return the range of the array sort `self`.\n\u001b[0;32m-> 4591\u001b[0;31m \u001b[0;34m\u001b[0m\u001b[0m\n\u001b[0m\u001b[1;32m   4592\u001b[0m         \u001b[0;34m>>\u001b[0m\u001b[0;34m>\u001b[0m \u001b[0mA\u001b[0m \u001b[0;34m=\u001b[0m \u001b[0mArraySort\u001b[0m\u001b[0;34m(\u001b[0m\u001b[0mIntSort\u001b[0m\u001b[0;34m(\u001b[0m\u001b[0;34m)\u001b[0m\u001b[0;34m,\u001b[0m \u001b[0mBoolSort\u001b[0m\u001b[0;34m(\u001b[0m\u001b[0;34m)\u001b[0m\u001b[0;34m)\u001b[0m\u001b[0;34m\u001b[0m\u001b[0;34m\u001b[0m\u001b[0m\n\u001b[1;32m   4593\u001b[0m         \u001b[0;34m>>\u001b[0m\u001b[0;34m>\u001b[0m \u001b[0mA\u001b[0m\u001b[0;34m.\u001b[0m\u001b[0mrange\u001b[0m\u001b[0;34m(\u001b[0m\u001b[0;34m)\u001b[0m\u001b[0;34m\u001b[0m\u001b[0;34m\u001b[0m\u001b[0m\n\u001b[1;32m   4594\u001b[0m         \u001b[0mBool\u001b[0m\u001b[0;34m\u001b[0m\u001b[0;34m\u001b[0m\u001b[0m\n",
      "\u001b[0;32m~/.local/lib/python3.10/site-packages/z3/z3.py\u001b[0m in \u001b[0;36m?\u001b[0;34m(.0)\u001b[0m\n\u001b[0;32m-> 4591\u001b[0;31m     \u001b[0;32mdef\u001b[0m \u001b[0mrange\u001b[0m\u001b[0;34m(\u001b[0m\u001b[0mself\u001b[0m\u001b[0;34m)\u001b[0m\u001b[0;34m:\u001b[0m\u001b[0;34m\u001b[0m\u001b[0;34m\u001b[0m\u001b[0m\n\u001b[0m\u001b[1;32m   4592\u001b[0m         \"\"\"Return the range of the array sort `self`.\n\u001b[1;32m   4593\u001b[0m \u001b[0;34m\u001b[0m\u001b[0m\n\u001b[1;32m   4594\u001b[0m         \u001b[0;34m>>\u001b[0m\u001b[0;34m>\u001b[0m \u001b[0mA\u001b[0m \u001b[0;34m=\u001b[0m \u001b[0mArraySort\u001b[0m\u001b[0;34m(\u001b[0m\u001b[0mIntSort\u001b[0m\u001b[0;34m(\u001b[0m\u001b[0;34m)\u001b[0m\u001b[0;34m,\u001b[0m \u001b[0mBoolSort\u001b[0m\u001b[0;34m(\u001b[0m\u001b[0;34m)\u001b[0m\u001b[0;34m)\u001b[0m\u001b[0;34m\u001b[0m\u001b[0;34m\u001b[0m\u001b[0m\n",
      "\u001b[0;31mAttributeError\u001b[0m: 'QuantifierRef' object has no attribute 'domain_n'"
     ]
    }
   ],
   "source": [
    "Exists([x], x == x).is_exists()\n",
    "substitute_vars(Lambda([x,y], x + y).body(), IntVal(3))\n",
    "Select(Lambda([x], x + 1), 10)"
   ]
  },
  {
   "cell_type": "code",
   "execution_count": 69,
   "metadata": {},
   "outputs": [
    {
     "data": {
      "text/plain": [
       "'x'"
      ]
     },
     "execution_count": 69,
     "metadata": {},
     "output_type": "execute_result"
    }
   ],
   "source": [
    "x.decl().name()"
   ]
  },
  {
   "cell_type": "code",
   "execution_count": 73,
   "metadata": {},
   "outputs": [
    {
     "name": "stdout",
     "output_type": "stream",
     "text": [
      ";;declarations\n",
      "(declare-fun f (Int) Int)\n",
      ";;axioms\n",
      ";;goal\n",
      "(assert (not (= x x)))\n",
      "(check-set)\n"
     ]
    },
    {
     "data": {
      "text/plain": [
       "b'Running in auto input_syntax mode. Trying SMTLIB2\\nsat\\n'"
      ]
     },
     "execution_count": 73,
     "metadata": {},
     "output_type": "execute_result"
    }
   ],
   "source": [
    "# nice smt printing. Using solver kind of mangles it\n",
    "from z3 import *\n",
    "x = Int(\"x\")\n",
    "f = Function(\"f\", IntSort(), IntSort())\n",
    "x.decl().sexpr()\n",
    "\n",
    "def sexpr_datatype(dt):\n",
    "    print(f\"(declare-datatypes ({dt.name()}))\")\n",
    "    for c in dt.constructor():\n",
    "        print(f\"({c.name()} {c.sort()})\")\n",
    "    #print(f\"(declare-fun is_{dt.name()} (E) Bool)\")\n",
    "    #print(f\"(assert (forall ((x E)) (= (is_{dt.name()} x) (or {c.name()} x))))\")\n",
    "\n",
    "\n",
    "import subprocess\n",
    "\n",
    "def lemma_smt(thm, by=[], sig=[]):\n",
    "    output = []\n",
    "    output.append(\";;declarations\")\n",
    "    for f in sig:\n",
    "        output.append(f.sexpr())\n",
    "    output.append(\";;axioms\")\n",
    "    for e in by:\n",
    "        output.append(\"(assert \" + e.sexpr() + \")\")\n",
    "    output.append(\";;goal\")\n",
    "    output.append(\"(assert \" + Not(thm).sexpr() + \")\")\n",
    "    output.append(\"(check-set)\")\n",
    "    return output\n",
    "\n",
    "def lemma_ext(thm, by=[], sig=[], command=None, timeout=1000):\n",
    "    # TODO use better temporary file\n",
    "    with open(\"/tmp/temp.smt2\", \"w\") as f:\n",
    "        smt = lemma_smt(thm, by=by, sig=sig)\n",
    "        f.writelines(smt)\n",
    "    command.append(\"/tmp/temp.smt2\")\n",
    "    res = subprocess.run(\n",
    "        command,\n",
    "        timeout=1.0,\n",
    "        capture_output=True,\n",
    "    )\n",
    "    return res\n",
    "\n",
    "def lemma_vampire(thm, by=[], sig=[], timeout=1000):\n",
    "    return lemma_ext(thm, by=by, sig=sig, command=[\"vampire\", \"--output_mode\", \"smtcomp\"], timeout=timeout)\n",
    "\n",
    "lemma_vampire(f(7) == 7, sig=[f]).stdout"
   ]
  }
 ],
 "metadata": {
  "kernelspec": {
   "display_name": "Python 3",
   "language": "python",
   "name": "python3"
  },
  "language_info": {
   "codemirror_mode": {
    "name": "ipython",
    "version": 3
   },
   "file_extension": ".py",
   "mimetype": "text/x-python",
   "name": "python",
   "nbconvert_exporter": "python",
   "pygments_lexer": "ipython3",
   "version": "3.10.12"
  }
 },
 "nbformat": 4,
 "nbformat_minor": 2
}
