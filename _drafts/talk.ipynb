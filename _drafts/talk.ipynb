{
 "cells": [
  {
   "cell_type": "code",
   "execution_count": null,
   "metadata": {},
   "outputs": [],
   "source": []
  },
  {
   "cell_type": "markdown",
   "metadata": {},
   "source": [
    "# Egraphs and Compilers\n",
    "\n",
    "## Greedy Simplification\n",
    "\n",
    "## Egraphs\n",
    "\n",
    "\n",
    "## Other Work\n",
    "\n",
    "## What are compilers.\n",
    "\n",
    "\n",
    "\n",
    "\n"
   ]
  }
 ],
 "metadata": {
  "language_info": {
   "name": "python"
  }
 },
 "nbformat": 4,
 "nbformat_minor": 2
}
