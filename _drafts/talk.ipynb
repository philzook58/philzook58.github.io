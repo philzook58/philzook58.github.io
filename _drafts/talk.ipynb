{
 "cells": [
  {
   "cell_type": "code",
   "execution_count": null,
   "metadata": {},
   "outputs": [],
   "source": []
  },
  {
   "cell_type": "markdown",
   "metadata": {},
   "source": [
    "# Egraphs and Compilers: A Tapas\n",
    "\n",
    "## Greedy Simplification\n",
    "\n",
    "## Egraphs\n",
    "\n",
    "\n",
    "## Egglog\n",
    "Program analysis and datalog\n",
    "What is datalog\n",
    "Program analsyis\n",
    "Fixed points\n",
    "graphs\n",
    "\n",
    "\n",
    "\n",
    "\n",
    "## What are compilers.\n",
    "\n",
    "general purpose IRs\n",
    "\n",
    "cranelift - gvn\n",
    "\n",
    "pegs\n",
    "\n",
    "IR types: rvsdg, ssa cfg\n",
    "\n",
    "speciality IRs\n",
    "diospyros\n",
    "genslide\n",
    "\n",
    "# What am I excited about\n",
    "\n",
    "Egraphs modulo theories\n",
    "Knuth bendix for compilers\n",
    "\n",
    "\n",
    "\n",
    "\n"
   ]
  }
 ],
 "metadata": {
  "language_info": {
   "name": "python"
  }
 },
 "nbformat": 4,
 "nbformat_minor": 2
}
