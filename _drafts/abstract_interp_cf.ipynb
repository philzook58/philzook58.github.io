{
 "cells": [
  {
   "cell_type": "markdown",
   "id": "cf23d7c8",
   "metadata": {},
   "source": [
    "syntehsize fast ones?\n",
    "\n",
    "Known bits.\n",
    "https://pypy.org/posts/2024/08/toy-knownbits.html\n",
    "https://arxiv.org/pdf/2105.05398"
   ]
  },
  {
   "cell_type": "code",
   "execution_count": null,
   "id": "a1cbccfc",
   "metadata": {},
   "outputs": [],
   "source": [
    "from kdrag.all import *\n",
    "Interval = kd.Struct(\"Interval\", (\"start\", smt.IntSort()), (\"end\", smt.IntSort()))#), pred=lambda i: i.start <= i.end)\n",
    "x,y,z = smt.Ints(\"x y z\")\n",
    "i1,i2 = smt.Consts(\"i1 i2\", Interval)\n",
    "elem = kd.define(\"elem\", [x,i1], smt.And(i1.start <= x, x <= i1.end))\n",
    "to_set = kd.define(\"to_set\", [i1], smt.Lambda([x], smt.And(i1.start <= x, x <= i1.end)))\n",
    "int_add = kd.notation.add.define([i1,i2], Interval(i1.start + i2.start, i1.end + i2.end))\n",
    "kd.notation.le.define([i1,i2], smt.And(i1.start <= i2.start, i1.end <= i2.end))\n",
    "le_set = kd.prove(smt.ForALl([i1,i2], kd.Implies(i1 <= i2, smt.ForAll([x], elem(x,i1), elem(x,i2)))))\n",
    "\n",
    "correct = smt.QForAll([i1,i2], smt.QForAll([x,y], elem(x,i1), elem(y,i2), elem(x + y, i1 + i2)))\n",
    "best = kd.QForAll([i1,i2,i3], kd.QForAll([x], elem(x,i1), elem(x,i2), elem(x,i3),) i1 + i2 <= i3)\n",
    "\n",
    "smt.Implies(i.start <= i.end , from_set(to_set(i)) == i) # ? What about\n",
    "smt.Implies()\n",
    "\n"
   ]
  },
  {
   "cell_type": "code",
   "execution_count": null,
   "id": "c36efb48",
   "metadata": {},
   "outputs": [
    {
     "data": {
      "text/plain": [
       "-6"
      ]
     },
     "execution_count": 6,
     "metadata": {},
     "output_type": "execute_result"
    }
   ],
   "source": [
    "from dataclasses import dataclass\n",
    "\n",
    "@dataclass(eq=False)\n",
    "class KnownBits:\n",
    "    ones : int\n",
    "    unknowns : int\n",
    "\n",
    "    def __post_init__(self):\n",
    "        if isinstance(self.ones, int):\n",
    "            assert self.is_well_formed()\n",
    "    def is_well_formed(self):\n",
    "        return self.ones & self.unknowns == 0\n",
    "    @staticmethod\n",
    "    def from_constant(const : int):\n",
    "        return KnownBits(const, 0)\n",
    "    def is_constant(self):\n",
    "        return self.unknowns == 0\n",
    "    @property\n",
    "    def knowns(self):\n",
    "        return ~self.unknowns\n",
    "    @property\n",
    "    def zeros(self):\n",
    "        return self.knowns & ~self.ones\n",
    "    def contains(self, value : int):\n",
    "        return value & self.knowns == self.ones\n",
    "    def __invert__(self):\n",
    "        return KnownBits(self.zeros, self.unknowns)\n",
    "    def __and__(self, other):\n",
    "        ones = self.ones & other.ones # known ones\n",
    "        knowns = self.zeros | other.zeros | ones\n",
    "        return KnownBits(ones, ~knowns)\n",
    "    #def join(self, other):\n",
    "    #    return KnownBits( &) , self.unknowns | other.unknowns | (self.ones ^ other.ones))\n",
    "\n",
    "~KnownBits.from_constant(5)\n",
    "~5"
   ]
  },
  {
   "cell_type": "code",
   "execution_count": null,
   "id": "4ad9dac5",
   "metadata": {},
   "outputs": [],
   "source": [
    "from Enum import Enum, auto\n",
    "class TriState(Enum):\n",
    "    TRUE = auto()\n",
    "    FALSE = auto()\n",
    "    UNKNOWN = auto()\n"
   ]
  }
 ],
 "metadata": {
  "kernelspec": {
   "display_name": "philzook58.github.io",
   "language": "python",
   "name": "python3"
  },
  "language_info": {
   "codemirror_mode": {
    "name": "ipython",
    "version": 3
   },
   "file_extension": ".py",
   "mimetype": "text/x-python",
   "name": "python",
   "nbconvert_exporter": "python",
   "pygments_lexer": "ipython3",
   "version": "3.12.3"
  }
 },
 "nbformat": 4,
 "nbformat_minor": 5
}
