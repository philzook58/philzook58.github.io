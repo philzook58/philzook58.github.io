{
 "cells": [
  {
   "cell_type": "code",
   "execution_count": null,
   "metadata": {},
   "outputs": [],
   "source": []
  },
  {
   "cell_type": "markdown",
   "metadata": {},
   "source": [
    "I feel like I must have  some notes somewhere\n",
    "\n",
    "https://williamjbowman.com/tmp/nbe-four-ways/\n",
    "\n",
    "nbe of z3 expressions\n",
    "\n",
    "https://www.andres-loeh.de/LambdaPi/ A Tutorial Implementation of a Dependently Typed Lambda Calculus \n",
    "https://github.com/AndrasKovacs/elaboration-zoo \n",
    "https://github.com/andrejbauer/spartan-type-theory\n",
    "https://math.andrej.com/2012/11/29/how-to-implement-dependent-type-theory-iii/\n",
    "That jon sterling tutorial\n",
    "https://github.com/stars/brendanzab/lists/elaboration\n",
    "\n",
    "\n",
    "https://proofassistants.stackexchange.com/questions/4336/toy-proof-assistants-with-very-small-codebases\n",
    "\n",
    "def nbe(e : ExprRef):\n",
    "    s = e.sort()\n",
    "\n",
    "normalization by evaluation of arith expressions.\n",
    "Easy.\n",
    "\n",
    "nbe of monoids\n",
    "\n",
    "nbe vs partial eval...\n",
    "\n",
    "\n",
    "yoneda\n",
    "\n",
    "Krivine machine. Closures.\n",
    "\n"
   ]
  },
  {
   "cell_type": "code",
   "execution_count": 7,
   "metadata": {},
   "outputs": [
    {
     "name": "stdout",
     "output_type": "stream",
     "text": [
      "Overwriting /tmp/nbe.ml\n"
     ]
    }
   ],
   "source": [
    "%%file /tmp/nbe.ml\n",
    "\n",
    "type term = \n",
    "    | Var of int\n",
    "    | App of term * term\n",
    "    | Lam of term\n",
    "\n",
    "let rec eval t env = match t with\n",
    "    | Var x -> List.nth env x\n",
    "    | App (t1, t2) -> (\n",
    "        let f = eval t1 env in\n",
    "        let arg = eval t2 env in\n",
    "        match f with\n",
    "        | Lam body -> eval body (arg :: env)\n",
    "        | _ -> failwith \"Application to a non-function\")\n",
    "    | Lam body -> Lam body\n",
    "\n",
    "let rec to_string = function\n",
    "    | Var x -> Printf.sprintf \"Var(%d)\" x\n",
    "    | App (t1, t2) -> Printf.sprintf \"App(%s, %s)\" (to_string t1) (to_string t2)\n",
    "    | Lam body -> Printf.sprintf \"Lam(%s)\" (to_string body)\n",
    "\n",
    "print_endline (to_string (Lam (Var 0)))\n"
   ]
  },
  {
   "cell_type": "code",
   "execution_count": 8,
   "metadata": {},
   "outputs": [
    {
     "name": "stdout",
     "output_type": "stream",
     "text": [
      "\u001b[1mFile \"/tmp/nbe.ml\", line 20, characters 33-42\u001b[0m:\n",
      "20 |     | Lam body -> Printf.sprintf \"Lam(%s)\" (to_string body)\n",
      "                                      \u001b[1;31m^^^^^^^^^\u001b[0m\n",
      "\u001b[1;31mError\u001b[0m: This expression has type\n",
      "         ('a -> 'b -> 'c, unit, string, string, string, 'a -> 'b -> 'c)\n",
      "         CamlinternalFormatBasics.fmt\n",
      "       but an expression was expected of type\n",
      "         ('a -> 'b -> 'c, unit, string, string, string, string)\n",
      "         CamlinternalFormatBasics.fmt\n",
      "       Type 'a -> 'b -> 'c is not compatible with type string\n"
     ]
    }
   ],
   "source": [
    "! ocaml /tmp/nbe.ml"
   ]
  },
  {
   "cell_type": "code",
   "execution_count": null,
   "metadata": {},
   "outputs": [
    {
     "name": "stdout",
     "output_type": "stream",
     "text": [
      "Overwriting /tmp/nbe.lean\n"
     ]
    }
   ],
   "source": [
    "%%file /tmp/nbe.lean\n",
    "\n",
    "inductive term where\n",
    "| var : Nat → term\n",
    "| app : term → term → term\n",
    "| lam : term → term\n",
    "deriving Inhabited, Repr, DecidableEq\n",
    "\n",
    "def main : IO Unit := do\n",
    "  let t := term.lam (term.var 0)\n",
    "  IO.println t\n"
   ]
  },
  {
   "cell_type": "code",
   "execution_count": 24,
   "metadata": {},
   "outputs": [
    {
     "name": "stdout",
     "output_type": "stream",
     "text": [
      "/tmp/nbe.lean:10:2: error: unknown constant 'IO.println!'\n"
     ]
    }
   ],
   "source": [
    "! lean /tmp/nbe.lean"
   ]
  }
 ],
 "metadata": {
  "kernelspec": {
   "display_name": ".venv",
   "language": "python",
   "name": "python3"
  },
  "language_info": {
   "codemirror_mode": {
    "name": "ipython",
    "version": 3
   },
   "file_extension": ".py",
   "mimetype": "text/x-python",
   "name": "python",
   "nbconvert_exporter": "python",
   "pygments_lexer": "ipython3",
   "version": "3.12.3"
  }
 },
 "nbformat": 4,
 "nbformat_minor": 2
}
