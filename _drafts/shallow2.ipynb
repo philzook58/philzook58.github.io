{
 "cells": [
  {
   "cell_type": "markdown",
   "metadata": {},
   "source": [
    "separation\n",
    "linear\n",
    "dynamic logic\n",
    "https://www.philipzucker.com/shallow_logic_knuckle/\n",
    "\n"
   ]
  },
  {
   "cell_type": "markdown",
   "metadata": {},
   "source": [
    "# separation\n",
    "https://www.philipzucker.com/executable-seperation/\n",
    "\n",
    "appell paper https://www.cs.princeton.edu/~appel/papers/bringing-order.pdf/\n",
    "\n",
    "\"And here's the paper with a nice clean separation logic semantics, with explicit connections to Kripke frames: https://www.cs.princeton.edu/~appel/papers/bringing-order.pdf/. The corresponding models of relevance logic are Routley-Myers models. The distinctive feature of the signature is the same in both cases (a three-place relation R), and the semantics for the relevant conditional are exactly Cao-Culler-Appel's weak semantics for the wand. But there are a lot of other constraints that are different (Routley-Meyers assumes a distinguished element 0 s.t. R0ab iff a<b, so they don't have < as an extra part of a model's signature. Cao-Culler-Appel makes < part of the signature. Cao-Culler-Appel assumes that Rabc implies Rbac, and this isn't built in to all relevance logics).\"\n",
    "\n",
    "https://iris-project.org/tutorial-pdfs/iris-lecture-notes.pdf"
   ]
  },
  {
   "cell_type": "code",
   "execution_count": null,
   "metadata": {},
   "outputs": [
    {
     "ename": "IndentationError",
     "evalue": "expected an indented block after function definition on line 44 (2905299801.py, line 47)",
     "output_type": "error",
     "traceback": [
      "\u001b[0;36m  Cell \u001b[0;32mIn[32], line 47\u001b[0;36m\u001b[0m\n\u001b[0;31m    def Valid(p):\u001b[0m\n\u001b[0m    ^\u001b[0m\n\u001b[0;31mIndentationError\u001b[0m\u001b[0;31m:\u001b[0m expected an indented block after function definition on line 44\n"
     ]
    }
   ],
   "source": [
    "from kdrag.all import *\n",
    "import kdrag.theories.set as set_\n",
    "\n",
    "Addr = smt.DeclareSort(\"Addr\") # smt.IntSort()\n",
    "AddrSet = set_.Set(Addr)\n",
    "addrs = smt.Const(\"addrs\", AddrSet)\n",
    "Prop = kd.NewType('Prop', smt.ArraySort(AddrSet, smt.BoolSort()))\n",
    "\n",
    "p,q,r = smt.Consts(\"p q r\", Prop)\n",
    "\n",
    "Emp = Prop(smt.Lambda([addrs], addrs == ValidAddr.empty))\n",
    "emp = kd.define(\"emp\", [], Emp)\n",
    "\n",
    "def heap(S):\n",
    "    return smt.Const(\"heap\", smt.ArraySort(smt.IntSort(), S))\n",
    "\n",
    "#def PTo(p, x):\n",
    "#    return Prop(smt.Lambda([addrs], smt.And(addrs == smt.Store(ValidAddr.empty, p, True) , heap(x.sort())[p] == x)))\n",
    "\n",
    "n = smt.Int(\"n\")\n",
    "def Alloc(p):\n",
    "    return Prop(smt.Lambda([addrs], addrs == smt.Store(ValidAddr.empty, p, True)))\n",
    "alloc = kd.define(\"alloc\", [n], Alloc(n))\n",
    "\n",
    "# needs to be polymorhic. On second argument :(\n",
    "#pto = kd.define(\"pto\", [\"p\", \"x\"], PTo(p, x))\n",
    "\n",
    "def And(*args):\n",
    "    return Prop(smt.Lambda([addrs], smt.And(*[arg.val(addrs) for arg in args])))\n",
    "\n",
    "and_ = kd.define(\"and_\", [p,q], And(p, q))\n",
    "\n",
    "def Or(*args):\n",
    "    return Prop(smt.Lambda([addrs], smt.Or(*[arg.val(addrs) for arg in args])))\n",
    "\n",
    "or_ = kd.define(\"or_\", [p,q], Or(p, q))\n",
    "\n",
    "def Sep(a, b):\n",
    "    addrs1, addrs2 = smt.Consts(\"addrs1 addrs2\", ValidAddr) # Freshconst?\n",
    "    return Prop(smt.Lambda([addrs], smt.Exists([addrs1, addrs2], smt.And(addrs1 & addrs2 == ValidAddr.empty, addrs1 | addrs2 == addrs, a.val[addrs1], b.val[addrs2] ))))\n",
    "\n",
    "sep = kd.define(\"sep\", [p,q], Sep(p, q))\n",
    "\n",
    "def Wand(p,q):\n",
    "    \n",
    "\n",
    "\n",
    "def Valid(p):\n",
    "    return smt.Exists([addrs], p.val[addrs])\n",
    "\n",
    "valid = kd.define(\"valid\", [p], Valid(p))\n",
    "\n",
    "kd.prove(Valid(emp), unfold=1)    #)y=emp.defn)\n",
    "kd.prove(Valid(Sep(Emp, Emp)))\n",
    "kd.prove(valid(sep(emp,emp)), unfold=1)\n",
    "\n",
    "x = smt.BitVec(\"x\", 32)\n",
    "\n",
    "#smt.simplify(Valid(Sep(PTo(1, x), PTo(2, x))))\n",
    "kd.prove(valid(sep(alloc(1), alloc(2))), unfold=1)\n",
    "#kd.prove(valid(sep(alloc(n), alloc(n))), unfold=1)\n"
   ]
  },
  {
   "cell_type": "markdown",
   "metadata": {},
   "source": [
    "https://en.wikipedia.org/wiki/Bunched_logic\n",
    "\n",
    "https://en.wikipedia.org/wiki/Relevance_logic\n",
    "https://plato.stanford.edu/entries/logic-relevance/\n"
   ]
  },
  {
   "cell_type": "code",
   "execution_count": null,
   "metadata": {},
   "outputs": [],
   "source": [
    "from kdrag.all import *\n",
    "import functools\n",
    "@functools.cache\n",
    "def MultiSet(T): # Bag\n",
    "    S = kd.NewType(\"Bag\", smt.ArraySort(T, smt.IntSort()), pred=lambda x: smt.ForAll([k], k[n] >= 0))\n",
    "    def Sum(a, b):\n",
    "        return smt.Map(plus, a.val, b.val)\n",
    "    #kd.notation.add.define([])\n",
    "    return S\n",
    "n,m = Ints(\"n m\")\n",
    "plus = (n + m).decl()\n",
    "def Sum(a, b):\n",
    "    return smt.Map(plus, a.val, b.val)\n"
   ]
  },
  {
   "cell_type": "code",
   "execution_count": null,
   "metadata": {},
   "outputs": [],
   "source": [
    "\n",
    "\n",
    "def Empty(T):\n",
    "    return smt.K(T, smt.IntVal(0))\n",
    "\n",
    "\n",
    "\n",
    "def Sum(a, b):\n",
    "    return smt.Map( a, b)\n",
    "\n",
    "def Union():\n",
    "    return max\n",
    "def Inter():\n",
    "    return min\n",
    "\n",
    "def Diff(a, b):\n",
    "    # floor 0\n",
    "\n",
    "\n",
    "card = smt.Function(\"card\", )\n",
    "card = \n",
    "\n",
    "\n",
    "Resource = smt.DeclareSort(\"Resource\")\n",
    "ResourceBag = Bag(Resource)\n",
    "\n",
    "Prop = kd.NewType('Prop', smt.ArraySort(ResourceBag, smt.BoolSort()))\n",
    "\n",
    "def Sep(p,q):\n",
    "    res1, res2 = smt.Consts(\"res1 res2\", ResourceBag)\n",
    "    return smt.Lambda([res], kd.QExists([res1, res2], smt.And(Sum(res1,res2) == res), p.val[res1], q.val[res2]))\n",
    "\n"
   ]
  },
  {
   "cell_type": "markdown",
   "metadata": {},
   "source": [
    "# Modal\n",
    "https://en.wikipedia.org/wiki/Modal_logic#Frames_and_completeness"
   ]
  },
  {
   "cell_type": "code",
   "execution_count": null,
   "metadata": {},
   "outputs": [],
   "source": [
    "World = smt.DeclareSort(\"World\")\n",
    "acc = smt.Function(\"acc\", World, World, BoolSort())\n",
    "\n",
    "w, v = amt.Consts(\"w v\")\n",
    "refl = kd.axiom(smt.ForAll([w], acc(w, w)))\n",
    "symm = kd.axiom(smt.ForAll([w, v], smt.Implies(acc(w, v), acc(v, w))))\n",
    "trans = kd.axiom(smt.ForAll([w,u,v], smt.Implies(smt.And(acc(w, u), acc(u, v)), acc(w, v))))\n",
    "serial = kd.axiom(smt.ForAll([w], smt.Exists([u], acc(w,u))))\n",
    "euclidean = kd.axiom(kd.QForAll([w,u,v], acc(w, u), acc(w,v), acc(u, v)))\n",
    "\n",
    "\n",
    "K = []\n",
    "D = [serial]\n",
    "T = [refl]\n",
    "B = [refl,symm]\n",
    "S4 = [refl, trans]\n",
    "S5 = [refl, euclidean]\n"
   ]
  },
  {
   "cell_type": "markdown",
   "metadata": {},
   "source": [
    "# ctl\n",
    "https://en.wikipedia.org/wiki/Computation_tree_logic#Semantics_of_CTL"
   ]
  },
  {
   "cell_type": "code",
   "execution_count": null,
   "metadata": {},
   "outputs": [],
   "source": []
  },
  {
   "cell_type": "code",
   "execution_count": null,
   "metadata": {},
   "outputs": [],
   "source": []
  },
  {
   "cell_type": "markdown",
   "metadata": {},
   "source": [
    "# free logic\n",
    "\n",
    "\n"
   ]
  }
 ],
 "metadata": {
  "kernelspec": {
   "display_name": ".venv",
   "language": "python",
   "name": "python3"
  },
  "language_info": {
   "codemirror_mode": {
    "name": "ipython",
    "version": 3
   },
   "file_extension": ".py",
   "mimetype": "text/x-python",
   "name": "python",
   "nbconvert_exporter": "python",
   "pygments_lexer": "ipython3",
   "version": "3.12.3"
  }
 },
 "nbformat": 4,
 "nbformat_minor": 2
}
