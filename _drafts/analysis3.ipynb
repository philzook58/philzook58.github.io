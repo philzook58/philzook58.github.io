{
 "cells": [
  {
   "cell_type": "markdown",
   "metadata": {},
   "source": [
    "https://isabelle.in.tum.de/library/HOL/HOL/Deriv.html\n",
    "https://isabelle.in.tum.de/library/HOL/HOL/Limits.html\n",
    "\n",
    "https://guillaume.melquiond.fr/doc/14-mscs.pdf Real analysis formalization comparison\n",
    "\n",
    "https://link.springer.com/epdf/10.1007/s10817-012-9250-9?sharing_token=6nzQoOkN5pG9Y091mWDoAPe4RwlQNchNByi7wbcMAY6JcMCFBxY4_tA5xyf86Jin_5FlGs6hw_t2rHTDUpWP0aoFz0S4zpSBogGey5bWIBYJLqkqx5UXNgn97mjVK9_8DgIBfD7TVdR533YzHpBkThPd6qBgw4bC9PP4UEs2qdc%3D harrison hol light theory of euclidean space\n",
    "\n",
    "https://dl.acm.org/doi/10.1007/978-3-642-39634-2_21 Type classes and filters for mathematical analysis in Isabelle/HOL\n",
    "\n",
    "filters are often ntions of quantifier. Huh\n"
   ]
  },
  {
   "cell_type": "code",
   "execution_count": 7,
   "metadata": {},
   "outputs": [],
   "source": [
    "from kdrag.all import *\n",
    "import kdrag.theories.real as real\n",
    "import kdrag.theories.set as set_\n",
    "\n",
    "x,y,z = smt.Reals(\"x y z\")\n",
    "RSet = set_.Set(smt.RealSort())\n",
    "RFun = real.RFun\n",
    "RSeq = real.RSeq\n",
    "\n",
    "\n",
    "A,B = smt.Consts(\"A B\", RSet)\n",
    "\n",
    "upper_bound = kd.define(\"upper_bound\", [A,x], kd.QForAll([y], A[y], y <= x))\n",
    "lower_bound = kd.define(\"lower_bound\", [A,x], kd.QForAll([y], A[y], y >= x))\n",
    "upper_bounded = kd.define(\"upper_bounded\", [A], smt.Exists([x], kd.QForAll([y], A[y], y <= x)))\n",
    "lower_bounded = kd.define(\"lower_bounded\", [A], smt.Exists([x], kd.QForAll([y], A[y], y >= x)))\n",
    "\n",
    "# sequences and Functions\n",
    "\n",
    "lub = smt.Function(\"lub\", RSet, real.R)\n",
    "lub_is_bound = kd.axiom(kd.QForAll([A], upper_bounded(A), upper_bound(A, lub(A))))\n",
    "lub_is_least = kd.axiom(kd.QForAll([A, x], upper_bound(A, x), lub(A) <= x))\n",
    "\n",
    "\n",
    "BSet = kd.NewType(\"BSet\", RSet, pred=lambda x: upper_bounded(x))\n",
    "#BSeq = kd.NewType(\"BSeq\", RSeq, pred=lambda x: upper_bounded(x))\n",
    "\n",
    "# closed under union, inter, comprehension.\n",
    "# Points are bounded.\n",
    "# Addition of constant is bounded\n",
    "\n",
    "\n"
   ]
  },
  {
   "cell_type": "code",
   "execution_count": null,
   "metadata": {},
   "outputs": [],
   "source": [
    "\n",
    "def lim_tac():\n",
    "def bnd_tac"
   ]
  },
  {
   "cell_type": "code",
   "execution_count": null,
   "metadata": {},
   "outputs": [],
   "source": [
    "ZFun = kd.NewType(\"ZFun\", RFun, pred=lambda f: converges_to_zero(f))"
   ]
  },
  {
   "cell_type": "markdown",
   "metadata": {},
   "source": [
    "Could make set inherit add sub etc from underyling sort.\n",
    "\n",
    "\n",
    "\n",
    "I should make SortDispatch auto lift liftable stuff.\n",
    "\n",
    "of_int\n",
    "of_str\n",
    "of_\n",
    "\n",
    "of_\n",
    "\n",
    "\n",
    "is filter a useful concept?\n",
    "https://isabelle.in.tum.de/library/HOL/HOL/Filter.html\n",
    "\n",
    "I really want it to be generic over the sort...\n",
    "\n",
    "\n",
    "The signature is generic, but the proofs are GenericProof.\n",
    "\n",
    "\n"
   ]
  },
  {
   "cell_type": "code",
   "execution_count": null,
   "metadata": {},
   "outputs": [],
   "source": [
    "\n",
    "TRUE = kd.notation.SortDispatch(\"TRUE\")\n",
    "\n",
    "is_filter = kd.define(\"is_filter\", [A], kd.QForAll([x,y], A[x] & A[y], A[x & y]))\n",
    "\n",
    "\n",
    "a = smt.TypeVar(\"a\")\n",
    "Fsort = (a >> B) >> B\n",
    "is_filter = smt.Function(\"is_filter\", FSort, B)\n",
    "\n",
    "@GenericProof\n",
    "def TRUE(A):\n",
    "    \n",
    "\n"
   ]
  },
  {
   "cell_type": "code",
   "execution_count": 9,
   "metadata": {},
   "outputs": [
    {
     "ename": "AttributeError",
     "evalue": "module 'kdrag.smt' has no attribute 'TypeVar'",
     "output_type": "error",
     "traceback": [
      "\u001b[0;31m---------------------------------------------------------------------------\u001b[0m",
      "\u001b[0;31mAttributeError\u001b[0m                            Traceback (most recent call last)",
      "Cell \u001b[0;32mIn[9], line 1\u001b[0m\n\u001b[0;32m----> 1\u001b[0m \u001b[43msmt\u001b[49m\u001b[38;5;241;43m.\u001b[39;49m\u001b[43mTypeVar\u001b[49m(\u001b[38;5;124m\"\u001b[39m\u001b[38;5;124ma\u001b[39m\u001b[38;5;124m\"\u001b[39m)\n",
      "\u001b[0;31mAttributeError\u001b[0m: module 'kdrag.smt' has no attribute 'TypeVar'"
     ]
    }
   ],
   "source": [
    "smt.TypeVar(\"a\")"
   ]
  },
  {
   "cell_type": "markdown",
   "metadata": {},
   "source": [
    "# deriv\n",
    "https://isabelle.in.tum.de/library/HOL/HOL/Deriv.html"
   ]
  },
  {
   "cell_type": "code",
   "execution_count": null,
   "metadata": {},
   "outputs": [],
   "source": [
    "real.diff_at\n",
    "real.deriv\n",
    "real.has_diff_at\n",
    "real."
   ]
  },
  {
   "cell_type": "code",
   "execution_count": 25,
   "metadata": {},
   "outputs": [
    {
     "data": {
      "text/html": [
       "&#8870;(Lambda(x, sin[x])) == sin"
      ],
      "text/plain": [
       "|- (Lambda(x, sin[x])) == sin"
      ]
     },
     "execution_count": 25,
     "metadata": {},
     "output_type": "execute_result"
    }
   ],
   "source": []
  },
  {
   "cell_type": "markdown",
   "metadata": {},
   "source": [
    "We could check if free vars arte in the expressions.\n",
    "\n",
    "Or seal the freew vars off once \n",
    "Or we could herbandize when we enter.\n",
    "\n",
    "Could just add the definition intyo the trace.\n",
    "\n"
   ]
  },
  {
   "cell_type": "code",
   "execution_count": null,
   "metadata": {},
   "outputs": [],
   "source": []
  },
  {
   "cell_type": "code",
   "execution_count": 9,
   "metadata": {},
   "outputs": [
    {
     "data": {
      "text/html": [
       "&#8870;deriv(Lambda(x, sin(x))) == (Lambda(x, cos(x)))"
      ],
      "text/plain": [
       "|- deriv(Lambda(x, sin(x))) == (Lambda(x, cos(x)))"
      ]
     },
     "execution_count": 9,
     "metadata": {},
     "output_type": "execute_result"
    }
   ],
   "source": [
    "from kdrag.all import *\n",
    "import kdrag.theories.real as real\n",
    "x = smt.Real(\"x\")\n",
    "sin = kd.define(\"sin\", [x], real.sin(x))\n",
    "cos = kd.define(\"cos\", [x], real.cos(x))\n",
    "l = kd.Lemma(real.deriv(smt.Lambda([x], sin(x))) == smt.Lambda([x], cos(x)))\n",
    "l.unfold()\n",
    "l.search()\n",
    "y = smt.Real(\"y\")\n",
    "l.rw(kd.prove(smt.Lambda([y], real.sin[y]) == real.sin))\n",
    "#l.search()\n",
    "l.rw(real.deriv_sin)\n",
    "l.auto()\n",
    "#l.lemmas\n",
    "l.qed()\n",
    "\n",
    "#l.qed(by=[sin.defn,cos.defn])\n",
    "\n",
    "\n"
   ]
  },
  {
   "cell_type": "code",
   "execution_count": 15,
   "metadata": {},
   "outputs": [
    {
     "name": "stdout",
     "output_type": "stream",
     "text": [
      "[] ?|- deriv(Lambda(x, sin(sin(x)))) ==\n",
      "(Lambda(x, cos(sin(x))*cos(x)))\n"
     ]
    },
    {
     "data": {
      "text/plain": [
       "[|- Implies(ForAll(F,\n",
       "                deriv(Lambda(x, sin(F[x]))) ==\n",
       "                (Lambda(x, cos(x)*deriv(F)[x]))),\n",
       "         deriv(Lambda(x, sin(Lambda(X!594, sin(X!594))[x]))) ==\n",
       "         (Lambda(x,\n",
       "                 cos(x)*deriv(Lambda(X!594, sin(X!594)))[x]))),\n",
       " |- ForAll(F,\n",
       "        deriv(Lambda(x, sin(F[x]))) ==\n",
       "        (Lambda(x, cos(x)*deriv(F)[x])))]"
      ]
     },
     "execution_count": 15,
     "metadata": {},
     "output_type": "execute_result"
    }
   ],
   "source": [
    "from kdrag.all import *\n",
    "import kdrag.theories.real as real\n",
    "x = smt.Real(\"x\")\n",
    "sin = kd.define(\"sin\", [x], real.sin(x))\n",
    "cos = kd.define(\"cos\", [x], real.cos(x))\n",
    "F = smt.Const(\"F\", real.RFun)\n",
    "# explicit chain rule form.\n",
    "deriv_sin = kd.axiom(smt.ForAll([F], real.deriv(smt.Lambda([x], sin(F(x)))) == smt.Lambda([x], cos(x)*real.deriv(F)[x])))\n",
    "\n",
    "l = kd.Lemma(real.deriv(smt.Lambda([x], sin(sin(x)))) == smt.Lambda([x], cos(sin(x))*cos(x)))\n",
    "print(l)\n",
    "l.rw(deriv_sin)\n",
    "l.lemmas\n",
    "\n",
    "#l.rw(deriv_sin(smt.Lambda([x], sin(x))))\n"
   ]
  },
  {
   "cell_type": "markdown",
   "metadata": {},
   "source": [
    "Ok, so when we substitute in, we no longer match because substitue does not work modulo simple beta reduction. The higher order thing shows up... I see."
   ]
  },
  {
   "cell_type": "markdown",
   "metadata": {},
   "source": [
    "It should be possible for deriv_tac to mostly be just applying a pile of rewrite rules."
   ]
  },
  {
   "cell_type": "code",
   "execution_count": null,
   "metadata": {},
   "outputs": [],
   "source": [
    "def deriv_tac(f, trace=None):\n",
    "    if isinstance(f, smt.QuantifierRef) and f.is_lambda():\n",
    "        vs, body = kd.utils.open_binder_unhygienieic(f)\n",
    "        deriv_tac_x(vs[0], body, trace)\n",
    "    elif f.eq(real.sin):\n",
    "        trace.append(deriv_sin)\n",
    "        return real.cos\n",
    "    elif f.eq(real.cos):\n",
    "        trace.append(deriv_cos)\n",
    "        return -real.sin\n",
    "\n",
    "def deriv_tac(x, e, trace=None):\n",
    "    def is_app(e):\n",
    "        decl = e.decl()\n",
    "        if smt.is_select(e): #apply\n",
    "            if e.args(1) == x:\n",
    "                deriv_tac(e.args(0), trace)\n",
    "        elif decl == sin:\n",
    "            \n",
    "\n",
    "\n",
    "\n",
    "\n",
    "\n"
   ]
  },
  {
   "cell_type": "markdown",
   "metadata": {},
   "source": [
    "## Complete Lattice\n"
   ]
  },
  {
   "cell_type": "code",
   "execution_count": 30,
   "metadata": {},
   "outputs": [
    {
     "data": {
      "text/plain": [
       "True"
      ]
     },
     "execution_count": 30,
     "metadata": {},
     "output_type": "execute_result"
    }
   ],
   "source": [
    "a = smt.DeclareTypeVar(\"a\")\n",
    "is_lattice = smt.Function(\"is_lattice\", a, smt.BoolSort())\n",
    "# or maybe this should take in a Set if it needs to take in something anway. FullSet for entire type\n",
    "\n",
    "assert is_lattice(smt.BoolVal(True)).decl() != is_lattice(smt.IntVal(1)).decl()\n",
    "is_latticeb = smt.Function(\"is_lattice\", smt.BoolSort(), smt.BoolSort())\n",
    "is_lattice(smt.BoolVal(True)).decl() == is_latticeb #hmm. Also not equal.\n",
    "is_lattice(smt.BoolVal(True)).decl() == is_lattice\n",
    "q = smt.Const(\"q\", a)\n",
    "is_lattice(q).decl() == is_lattice"
   ]
  },
  {
   "cell_type": "code",
   "execution_count": 16,
   "metadata": {},
   "outputs": [
    {
     "data": {
      "text/html": [
       "car(cons(3, nil))"
      ],
      "text/plain": [
       "car(cons(3, nil))"
      ]
     },
     "execution_count": 16,
     "metadata": {},
     "output_type": "execute_result"
    }
   ],
   "source": [
    "from z3 import *\n",
    "T = DeclareTypeVar(\"T\")\n",
    "List = Datatype(\"List\")\n",
    "List.declare(\"nil\")\n",
    "List.declare(\"cons\", (\"car\", T), (\"cdr\", List))\n",
    "List = List.create()\n",
    "ilist = List.cons(IntVal(3), List.nil)\n",
    "rlist = List.cons(RealVal(3), List.nil)\n",
    "assert ilist.sort() == rlist.sort() \n",
    "assert List.car(ilist).sort() == List.car(rlist).sort() # same sort. Odd."
   ]
  },
  {
   "cell_type": "code",
   "execution_count": null,
   "metadata": {},
   "outputs": [],
   "source": [
    "parse_smt2_file"
   ]
  },
  {
   "cell_type": "code",
   "execution_count": 10,
   "metadata": {},
   "outputs": [
    {
     "ename": "AssertionError",
     "evalue": "",
     "output_type": "error",
     "traceback": [
      "\u001b[0;31m---------------------------------------------------------------------------\u001b[0m",
      "\u001b[0;31mAssertionError\u001b[0m                            Traceback (most recent call last)",
      "Cell \u001b[0;32mIn[10], line 10\u001b[0m\n\u001b[1;32m      8\u001b[0m rlist \u001b[38;5;241m=\u001b[39m List\u001b[38;5;241m.\u001b[39mcons(RealVal(\u001b[38;5;241m3\u001b[39m), List\u001b[38;5;241m.\u001b[39mnil)\n\u001b[1;32m      9\u001b[0m \u001b[38;5;28;01massert\u001b[39;00m ilist\u001b[38;5;241m.\u001b[39msort() \u001b[38;5;241m==\u001b[39m rlist\u001b[38;5;241m.\u001b[39msort() \u001b[38;5;66;03m# same sort. Odd.\u001b[39;00m\n\u001b[0;32m---> 10\u001b[0m \u001b[38;5;28;01massert\u001b[39;00m simplify(List\u001b[38;5;241m.\u001b[39mcdr(ilist))\u001b[38;5;241m.\u001b[39meq(simplify(List\u001b[38;5;241m.\u001b[39mcdr(rlist)))\n\u001b[1;32m     11\u001b[0m \u001b[38;5;28;01massert\u001b[39;00m \u001b[38;5;129;01mnot\u001b[39;00m ilist\u001b[38;5;241m.\u001b[39meq(rlist)\n\u001b[1;32m     12\u001b[0m s \u001b[38;5;241m=\u001b[39m Solver()\n",
      "\u001b[0;31mAssertionError\u001b[0m: "
     ]
    }
   ],
   "source": [
    "from z3 import *\n",
    "T = DeclareTypeVar(\"T\")\n",
    "List = Datatype(\"List\")\n",
    "List.declare(\"nil\")\n",
    "List.declare(\"cons\", (\"car\", T), (\"cdr\", List))\n",
    "List = List.create()\n",
    "ilist = List.cons(IntVal(3), List.nil)\n",
    "rlist = List.cons(RealVal(3), List.nil)\n",
    "assert ilist.sort() == rlist.sort() # same sort. Odd.\n",
    "assert simplify(List.cdr(ilist)).eq(simplify(List.cdr(rlist)))\n",
    "assert not ilist.eq(rlist)\n",
    "s = Solver()\n",
    "s.add(List.car(ilist) == List.car(rlist))\n",
    "s.check()\n",
    "#assert List.car(ilist).sort() == T\n",
    "#assert List.car(rlist).sort() == T\n",
    "s = Solver()\n",
    "ilist2 = List.cons(IntVal(4), List.nil)\n",
    "#s.add(List.car(ilist) == List.car(ilist2))\n",
    "#s.add(List.car(ilist) == List.car(rlist))\n",
    "x = Int(\"x\")\n",
    "s.add(List.car(ilist) == x) \n",
    "s.check()"
   ]
  },
  {
   "cell_type": "code",
   "execution_count": 48,
   "metadata": {},
   "outputs": [
    {
     "data": {
      "text/plain": [
       "False"
      ]
     },
     "execution_count": 48,
     "metadata": {},
     "output_type": "execute_result"
    }
   ],
   "source": [
    "from z3 import *\n",
    "T = DeclareTypeVar(\"T\")\n",
    "List = Datatype(\"List\")\n",
    "List.declare(\"nil\")\n",
    "List.declare(\"cons\", (\"car\", T), (\"cdr\", List))\n",
    "List = List.create()\n",
    "ilist = List.cons(IntVal(3), List.nil)\n",
    "rlist = List.cons(RealVal(3), List.nil)\n",
    "assert ilist.sort() == rlist.sort() # same sort\n",
    "assert not ilist.eq(rlist)\n",
    "s = Solver()\n",
    "s.add(List.car(ilist) == List.car(rlist))\n",
    "s.check()\n",
    "assert List.car(ilist).sort() == T\n",
    "assert List.car(rlist).sort() == T\n",
    "s = Solver()\n",
    "ilist2 = List.cons(IntVal(4), List.nil)\n",
    "#s.add(List.car(ilist) == List.car(ilist2))\n",
    "#s.add(List.car(ilist) == List.car(rlist))\n",
    "x = Int(\"x\")\n",
    "#s.add(List.car(ilist) == x) \n",
    "s.check()\n",
    "ilist.decl() == rlist.decl()"
   ]
  },
  {
   "cell_type": "code",
   "execution_count": null,
   "metadata": {},
   "outputs": [],
   "source": [
    "\n",
    "\n"
   ]
  },
  {
   "cell_type": "code",
   "execution_count": 18,
   "metadata": {},
   "outputs": [],
   "source": [
    "import kdrag.theories.set as set_\n",
    "L = smt.DeclareSort(\"L\")\n",
    "LSet = set_.Set(L)\n",
    "a,b,c = smt.Consts(\"a b c\", L)\n",
    "le = smt.Function(\"le\", L, L, smt.BoolSort())\n",
    "le_refl = kd.axiom(kd.QForAll([a], le(a,a)))\n",
    "le_trans = kd.axiom(kd.QForAll([a,b,c], le(a,b), le(b,c), le(a,c)))\n",
    "\n",
    "\n",
    "kd.notation.le.register(L,le)\n",
    "A = smt.Const(\"A\", LSet)\n",
    "inf = smt.Function(\"inf\", LSet, L)\n",
    "inf_le = kd.axiom(kd.QForAll([A], A[a], inf(A) <= a))\n",
    "inf_is_least = kd.axiom(kd.QForAll([A, b], kd.QForAll([a], A[a], b <= a), b <= a))\n",
    "\n",
    "\n",
    "f = smt.Function(\"f\", L, L)\n",
    "f_monotone = kd.axiom(kd.QForAll([a,b], le(a,b), le(f(a), f(b))))\n",
    "\n",
    "fp = kd.define(\"fp\", [a], f(a) == a)\n",
    "\n",
    "\n",
    "\n",
    "\n"
   ]
  },
  {
   "cell_type": "code",
   "execution_count": null,
   "metadata": {},
   "outputs": [],
   "source": [
    "\n",
    "@GenericProof\n",
    "def inf_le(L):\n",
    "    LSet = set_.Set(L) \n",
    "    A = smt.Const(\"A\", LSet)\n",
    "    a = smt.Const(\"a\", L)\n",
    "    inf = smt.Function(\"inf\", L, L)\n",
    "    return kd.QForAll([A], A[a], inf(A) <= a)\n",
    "\n",
    "\n",
    "\n",
    "\n",
    "#@KnuckleClass\n",
    "class CompleteLattice():\n",
    "    def __init__(self, L):\n",
    "        self.L = L\n",
    "        self.LSet = set_.Set(L)\n",
    "        self.le = kd.notation.le[L]\n",
    "        self.inf = inf[L]\n",
    "        self.inf_le = inf_le[L] #kd.axiom(kd.QForAll([A], A[a], inf(A) <= a))\n",
    "        self.inf_is_least = inf_is_least[L] #kd.axiom(kd.QForAll([A, b], kd.QForAll([a], A[a], b <= a), b <= a))\n",
    "\n",
    "    \n",
    "class CompleteLattice():\n",
    "    def __init__(self, L):\n",
    "        self.L = L\n",
    "        self.LSet = set_.Set(L)\n",
    "        self.le = kd.notation.le[L]\n",
    "        self.inf = inf[L]\n",
    "        self.inf_le = inf_le[L] #kd.axiom(kd.QForAll([A], A[a], inf(A) <= a))\n",
    "        self.inf_is_least = inf_is_least[L] #kd.axiom(kd.QForAll([A, b], kd.QForAll([a], A[a], b <= a), b <= a))\n",
    "\n",
    "    @classmethod\n",
    "    def register(self, L, le, inf, inf_le, inf_is_least):\n",
    "        # do the checks\n",
    "        self.L = L\n",
    "        self.LSet = set_.Set(L)\n",
    "        self.le = le\n",
    "        self.inf = inf\n",
    "        self.inf_le = inf_le\n",
    "        self.inf_is_least = inf_is_least\n",
    "\n",
    "\n",
    "# we could memoize but whats the point?\n",
    "\n",
    "\n"
   ]
  },
  {
   "cell_type": "markdown",
   "metadata": {},
   "source": [
    "That I need to make GenericProof and then rewrap is dupolication of effort.\n",
    "I could make a decorator that goes through all BoolRef properties and looks up the theorems.\n",
    "\n",
    "Maintain a mapping of \n",
    "\n",
    "{L : ( ,  ,  )}\n",
    "\n",
    "Non decorated form. Use subclass mechanics intead.\n",
    "dataclass decorator justy to avoid boilerplate?\n"
   ]
  },
  {
   "cell_type": "code",
   "execution_count": null,
   "metadata": {},
   "outputs": [],
   "source": [
    "class SortClass():\n",
    "    _registry = {}\n",
    "    def lookup(self, L):\n",
    "        return self.registry[L]\n",
    "    @classmethod\n",
    "    def __getitem__(x):\n",
    "\n",
    "    @classmethod\n",
    "    def register(self, *args, **kwargs):\n",
    "        self.registry[self.L] = self(*args, **kwargs)\n",
    "        return  self.\n",
    "\n",
    "\n",
    "\n",
    "#@SortClass # typeclass?\n",
    "class Lattice(SortClass):\n",
    "    def __init__(self, L):\n",
    "        self.L = L\n",
    "        self.LSet = set_.Set(L)\n",
    "        self.le = kd.notation.le[L]\n",
    "        self.inf = inf[L]\n",
    "        self.inf_le = inf_le[L]\n",
    "        self.inf_le = Lattice.lookup(L, ForAll([], ...))\n",
    "        d = Lattice[L]\n",
    "        assert alpha_eq(d.inf_le, smt.ForAll([x,y,z], ...))\n",
    "        Lattice[L].inf_le\n",
    "    def check(self):\n",
    "        assert self.inf_le == smt.ForAll([x,y,z], ...)\n",
    "        assert self.inf_is_least == smt.ForAll([x,y,z], ...)\n",
    "        \n",
    "    "
   ]
  },
  {
   "cell_type": "markdown",
   "metadata": {},
   "source": [
    "https://okmij.org/ftp/Computation/typeclass.html\n",
    "https://okmij.org/ftp/Haskell/TypeClass.html\n",
    "https://okmij.org/ftp/ML/canonical.html\n",
    "So I could also have a registry for rules. rules could either return None or throw.\n",
    "Try them one by one.\n",
    "\n",
    "\n",
    "def register_rule(cls, rule):\n",
    "\n",
    "https://lawrencecpaulson.github.io/2022/03/02/Type_classes.html\n",
    "https://lawrencecpaulson.github.io/2022/03/23/Locales.html\n",
    "\n",
    "https://link.springer.com/chapter/10.1007/978-3-642-39634-2_5  Canonical Structures for the Working Coq User"
   ]
  },
  {
   "cell_type": "code",
   "execution_count": null,
   "metadata": {},
   "outputs": [],
   "source": [
    "class SortClass():\n",
    "    def __init__(self, *L):\n",
    "        for k,v in self._registry[L].items():\n",
    "            setattr(self, k, v)\n",
    "    @classmethod\n",
    "    def get_registry(cls):\n",
    "        hasattr(cls, \"_registry\") or setattr(cls, \"_registry\", {})\n",
    "        return cls._registry\n",
    "    @classmethod\n",
    "    def lookup(cls, *L):\n",
    "        return cls.get_registry()[L]\n",
    "    @classmethod\n",
    "    def register(cls, *L, **kwargs):\n",
    "        cls.get_registry()[L] = kwargs\n",
    "        cls(*L).check()\n",
    "\n",
    "class Group(SortClass):\n",
    "    def check(self, L):\n",
    "        x,y,z = smt.Consts(\"x y z\", L)\n",
    "    @classmethod\n",
    "    def lookup(cls, L):\n",
    "        try:\n",
    "            # recurse into type yada yada.\n",
    "            # rules akin to  (Group A, Group B) => Group tuple(A,B)\n",
    "        except :\n",
    "            return cls.get_registry()[L]\n",
    "        \n"
   ]
  },
  {
   "cell_type": "markdown",
   "metadata": {},
   "source": [
    "# real vector\n",
    "\n",
    "https://isabelle.in.tum.de/library/HOL/HOL/Real_Vector_Spaces.html"
   ]
  },
  {
   "cell_type": "code",
   "execution_count": null,
   "metadata": {},
   "outputs": [],
   "source": [
    "from kdrag.all import *\n",
    "import kdrag.theories.real as real\n",
    "\n",
    "a = smt.DeclareTypeVar(\"a\")\n",
    "scaleR = smt.Function(\"scaleR\", real.R, a, real.R)\n",
    "\n",
    "def divideR(x, r):\n",
    "    return scaleR(1 / r, x)\n",
    "\n",
    "\n",
    "class RealVector():\n",
    "    registry = {}\n",
    "    def __init__(self, L):\n",
    "\n",
    "\n",
    "\n"
   ]
  },
  {
   "cell_type": "markdown",
   "metadata": {},
   "source": [
    "Maybe having a higher order notion of sum isn't always good.\n",
    "Just specialize the sum to named version.\n"
   ]
  },
  {
   "cell_type": "code",
   "execution_count": null,
   "metadata": {},
   "outputs": [
    {
     "name": "stdout",
     "output_type": "stream",
     "text": [
      "WARNING: Redefining function Sum from |- ForAll([f, n, m],\n",
      "       Sum(f, n, m) ==\n",
      "       If(n == m,\n",
      "          0,\n",
      "          If(n < m,\n",
      "             f[m] + Sum(f, n, m - 1),\n",
      "             If(n > m,\n",
      "                -f[n] + Sum(f, n - 1, m),\n",
      "                unreachable!645)))) to ForAll([f, n, m],\n",
      "       Sum(f, n, m) ==\n",
      "       If(n == m,\n",
      "          0,\n",
      "          If(n < m,\n",
      "             f[m] + Sum(f, n, m - 1),\n",
      "             If(n > m,\n",
      "                -f[n] + Sum(f, n - 1, m),\n",
      "                unreachable!650))))\n"
     ]
    },
    {
     "ename": "LemmaError",
     "evalue": "(Implies(And,\n        If(m!653 == n!652,\n           0,\n           If(m!653 < n!652,\n              f!651[n!652] + Sum(f!651, m!653, n!652 - 1),\n              If(m!653 > n!652,\n                 -f!651[m!653] +\n                 Sum(f!651, m!653 - 1, n!652),\n                 unreachable!650))) ==\n        If(m!653 == k!654,\n           0,\n           If(m!653 < k!654,\n              f!651[k!654] + Sum(f!651, m!653, k!654 - 1),\n              If(m!653 > k!654,\n                 -f!651[m!653] +\n                 Sum(f!651, m!653 - 1, k!654),\n                 unreachable!650))) +\n        If(k!654 == n!652,\n           0,\n           If(k!654 < n!652,\n              f!651[n!652] + Sum(f!651, k!654, n!652 - 1),\n              If(k!654 > n!652,\n                 -f!651[k!654] +\n                 Sum(f!651, k!654 - 1, n!652),\n                 unreachable!650)))), 'Countermodel', [f!651 = K(Int, 0),\n k!654 = 71692,\n m!653 = 71690,\n n!652 = 71693,\n k!656 = [else -> 0],\n Sum = [(as-array, 71690, 71691) -> 20537,\n        (as-array, 71692, 71692) -> 0,\n        else -> 41075/2]])",
     "output_type": "error",
     "traceback": [
      "\u001b[0;31m---------------------------------------------------------------------------\u001b[0m",
      "\u001b[0;31mLemmaError\u001b[0m                                Traceback (most recent call last)",
      "Cell \u001b[0;32mIn[62], line 15\u001b[0m\n\u001b[1;32m     13\u001b[0m _f, _m, _n, _k \u001b[38;5;241m=\u001b[39m l\u001b[38;5;241m.\u001b[39mfixes()\n\u001b[1;32m     14\u001b[0m l\u001b[38;5;241m.\u001b[39munfold()\n\u001b[0;32m---> 15\u001b[0m \u001b[43ml\u001b[49m\u001b[38;5;241;43m.\u001b[39;49m\u001b[43mauto\u001b[49m\u001b[43m(\u001b[49m\u001b[43m)\u001b[49m\n",
      "File \u001b[0;32m~/Documents/python/knuckledragger/kdrag/tactics.py:493\u001b[0m, in \u001b[0;36mLemma.auto\u001b[0;34m(self, **kwargs)\u001b[0m\n\u001b[1;32m    491\u001b[0m goalctx \u001b[38;5;241m=\u001b[39m \u001b[38;5;28mself\u001b[39m\u001b[38;5;241m.\u001b[39mgoals[\u001b[38;5;241m-\u001b[39m\u001b[38;5;241m1\u001b[39m]\n\u001b[1;32m    492\u001b[0m ctx, goal \u001b[38;5;241m=\u001b[39m goalctx\u001b[38;5;241m.\u001b[39mctx, goalctx\u001b[38;5;241m.\u001b[39mgoal\n\u001b[0;32m--> 493\u001b[0m \u001b[38;5;28mself\u001b[39m\u001b[38;5;241m.\u001b[39mlemmas\u001b[38;5;241m.\u001b[39mappend(\u001b[43mkd\u001b[49m\u001b[38;5;241;43m.\u001b[39;49m\u001b[43mkernel\u001b[49m\u001b[38;5;241;43m.\u001b[39;49m\u001b[43mprove\u001b[49m\u001b[43m(\u001b[49m\u001b[43msmt\u001b[49m\u001b[38;5;241;43m.\u001b[39;49m\u001b[43mImplies\u001b[49m\u001b[43m(\u001b[49m\u001b[43msmt\u001b[49m\u001b[38;5;241;43m.\u001b[39;49m\u001b[43mAnd\u001b[49m\u001b[43m(\u001b[49m\u001b[43mctx\u001b[49m\u001b[43m)\u001b[49m\u001b[43m,\u001b[49m\u001b[43m \u001b[49m\u001b[43mgoal\u001b[49m\u001b[43m)\u001b[49m\u001b[43m,\u001b[49m\u001b[43m \u001b[49m\u001b[38;5;241;43m*\u001b[39;49m\u001b[38;5;241;43m*\u001b[39;49m\u001b[43mkwargs\u001b[49m\u001b[43m)\u001b[49m)\n\u001b[1;32m    494\u001b[0m \u001b[38;5;28mself\u001b[39m\u001b[38;5;241m.\u001b[39mgoals\u001b[38;5;241m.\u001b[39mpop()\n\u001b[1;32m    495\u001b[0m \u001b[38;5;28;01mreturn\u001b[39;00m \u001b[38;5;28mself\u001b[39m\u001b[38;5;241m.\u001b[39mtop_goal()\n",
      "File \u001b[0;32m~/Documents/python/knuckledragger/kdrag/kernel.py:117\u001b[0m, in \u001b[0;36mprove\u001b[0;34m(thm, by, admit, timeout, dump, solver)\u001b[0m\n\u001b[1;32m    115\u001b[0m \u001b[38;5;28;01mif\u001b[39;00m res \u001b[38;5;241m!=\u001b[39m smt\u001b[38;5;241m.\u001b[39munsat:\n\u001b[1;32m    116\u001b[0m     \u001b[38;5;28;01mif\u001b[39;00m res \u001b[38;5;241m==\u001b[39m smt\u001b[38;5;241m.\u001b[39msat:\n\u001b[0;32m--> 117\u001b[0m         \u001b[38;5;28;01mraise\u001b[39;00m LemmaError(thm, \u001b[38;5;124m\"\u001b[39m\u001b[38;5;124mCountermodel\u001b[39m\u001b[38;5;124m\"\u001b[39m, s\u001b[38;5;241m.\u001b[39mmodel())\n\u001b[1;32m    118\u001b[0m     \u001b[38;5;28;01mraise\u001b[39;00m LemmaError(\u001b[38;5;124m\"\u001b[39m\u001b[38;5;124mprove\u001b[39m\u001b[38;5;124m\"\u001b[39m, thm, res)\n\u001b[1;32m    119\u001b[0m \u001b[38;5;28;01melse\u001b[39;00m:\n",
      "\u001b[0;31mLemmaError\u001b[0m: (Implies(And,\n        If(m!653 == n!652,\n           0,\n           If(m!653 < n!652,\n              f!651[n!652] + Sum(f!651, m!653, n!652 - 1),\n              If(m!653 > n!652,\n                 -f!651[m!653] +\n                 Sum(f!651, m!653 - 1, n!652),\n                 unreachable!650))) ==\n        If(m!653 == k!654,\n           0,\n           If(m!653 < k!654,\n              f!651[k!654] + Sum(f!651, m!653, k!654 - 1),\n              If(m!653 > k!654,\n                 -f!651[m!653] +\n                 Sum(f!651, m!653 - 1, k!654),\n                 unreachable!650))) +\n        If(k!654 == n!652,\n           0,\n           If(k!654 < n!652,\n              f!651[n!652] + Sum(f!651, k!654, n!652 - 1),\n              If(k!654 > n!652,\n                 -f!651[k!654] +\n                 Sum(f!651, k!654 - 1, n!652),\n                 unreachable!650)))), 'Countermodel', [f!651 = K(Int, 0),\n k!654 = 71692,\n m!653 = 71690,\n n!652 = 71693,\n k!656 = [else -> 0],\n Sum = [(as-array, 71690, 71691) -> 20537,\n        (as-array, 71692, 71692) -> 0,\n        else -> 41075/2]])"
     ]
    }
   ],
   "source": [
    "from kdrag.all import *\n",
    "import kdrag.theories.real as real\n",
    "n, m, k = smt.Ints(\"n m k\")\n",
    "f = smt.Const(\"f\", real.RSeq)\n",
    "Sum = smt.Function(\"Sum\", real.RSeq, smt.IntSort(), smt.IntSort(), real.R)\n",
    "Sum = kd.define(\"Sum\", [f,n,m], \n",
    "                kd.cond((n == m, smt.RealVal(0)),\n",
    "                        (n < m,  f[m] + Sum(f, n, m-1)),\n",
    "                        (n > m, -f[m] + Sum(f, n, m+1))))\n",
    "\n",
    "\n",
    "Lemma(Sum(f, n, m) == -Sum(f, m, n)\n"
   ]
  },
  {
   "cell_type": "code",
   "execution_count": null,
   "metadata": {},
   "outputs": [],
   "source": [
    "l = kd.Lemma(smt.ForAll([f,n,m,k], Sum(f,m,n) == Sum(f,m,k) + Sum(f,k,n)))\n",
    "_f, _m, _n, _k = l.fixes()\n",
    "l.induct(_m - _n)"
   ]
  },
  {
   "cell_type": "code",
   "execution_count": null,
   "metadata": {},
   "outputs": [],
   "source": [
    "l = kd.Lemma(smt.ForAll([f,start,size,size2], Sum(f,start, start + size1 + size2) == Sum(f,start,size1) + Sum(f,k,size2)))"
   ]
  }
 ],
 "metadata": {
  "kernelspec": {
   "display_name": ".venv",
   "language": "python",
   "name": "python3"
  },
  "language_info": {
   "codemirror_mode": {
    "name": "ipython",
    "version": 3
   },
   "file_extension": ".py",
   "mimetype": "text/x-python",
   "name": "python",
   "nbconvert_exporter": "python",
   "pygments_lexer": "ipython3",
   "version": "3.12.3"
  }
 },
 "nbformat": 4,
 "nbformat_minor": 2
}
