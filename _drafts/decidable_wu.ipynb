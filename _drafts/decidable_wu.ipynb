{
 "cells": [
  {
   "cell_type": "code",
   "execution_count": null,
   "metadata": {},
   "outputs": [],
   "source": []
  },
  {
   "cell_type": "markdown",
   "metadata": {},
   "source": [
    "Harrison chapter. All kinds iof cool stuff\n",
    "\n",
    "quantifier elim.\n",
    "presburger\n",
    "\n",
    "cad\n",
    "sturm alternating signs\n",
    "\n",
    "Weispfenning\n",
    "\n",
    "Wu's method. More to it than I thought. Complex numbers important?\n",
    "\n",
    "shostak\n",
    "nelson oppen\n",
    "\n",
    "\n"
   ]
  },
  {
   "cell_type": "markdown",
   "metadata": {},
   "source": [
    "\n",
    "Wu's method infers sufficient conditions.\n",
    "An abductiion method\n",
    "nondegweneracy conditions are often missed.,\n",
    "\n",
    "Chou's article.\n",
    "Harrison book\n",
    "\n"
   ]
  },
  {
   "cell_type": "code",
   "execution_count": null,
   "metadata": {},
   "outputs": [],
   "source": []
  },
  {
   "cell_type": "code",
   "execution_count": null,
   "metadata": {},
   "outputs": [],
   "source": [
    "from sympy import *\n",
    "from dataclasses import dataclass\n",
    "\n",
    "# sympy has a geometry mopdule btw\n",
    "@dataclass\n",
    "class Point():\n",
    "    x : Expr\n",
    "    y : Expr\n",
    "\n",
    "    def on(self, p : Point):\n",
    "        return [self.x - p.x, self.y - p.y]\n",
    "    def __sub__(self, p : Point) -> Vector:\n",
    "        assert isinstance(p, Point)\n",
    "        return Point(self.x - p.x, self.y - p.y)\n",
    "    def __add__(self, v : Vector) -> Point:\n",
    "        assert isinstance(v, Vector)\n",
    "        return Point(self.x + v.x, self.y + v.y)\n",
    "\n",
    "@dataclass\n",
    "class Vector():\n",
    "    x : Expr\n",
    "    y : Expr\n",
    "    def _add__(self, v : Vector | Point):\n",
    "        return Vector(self.x + v.x, self.y + v.y)\n",
    "    def _sub__(self, v : Vector):\n",
    "        return Vector(self.x - v.x, self.y - v.y)\n",
    "    def cross(self, v : Vector):\n",
    "        return self.x * v.y - self.y * v.x\n",
    "\n",
    "Constraint = list[Expr]\n",
    "@dataclass\n",
    "class PointLine():\n",
    "    p1 : Point\n",
    "    p2 : Point\n",
    "    def dir(self) -> Vector:\n",
    "        return self.p2 - self.p1\n",
    "    def perp(self,l2) -> Constraint:\n",
    "        return [self.dir().cross(l2.dir())]\n",
    "    def on(self, p : Point) -> Constraint:\n",
    "        return [self.dir().cross(p - self.p1)]\n",
    "\n",
    "class Circle():\n",
    "    p1 : Point\n",
    "    p2 : Point\n",
    "    p3 : Point\n",
    "    \n",
    "\n",
    "origin = Point(0,0)\n",
    "x1 = Point(1,0)\n",
    "y1 = Point(0,1)\n",
    "\n",
    "\n",
    "\n",
    "\n",
    "\n"
   ]
  }
 ],
 "metadata": {
  "language_info": {
   "name": "python"
  }
 },
 "nbformat": 4,
 "nbformat_minor": 2
}
