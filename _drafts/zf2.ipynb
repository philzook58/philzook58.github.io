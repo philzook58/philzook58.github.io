{
 "cells": [
  {
   "cell_type": "code",
   "execution_count": null,
   "id": "6c297570",
   "metadata": {},
   "outputs": [],
   "source": [
    "from kdrag.all import *\n",
    "import kdrag.theories.set as set_\n",
    "\n",
    "Set = smt.DeclareSort(\"Set\")\n",
    "Class = set_.Set(Set) #smt.ArraySort(Set, smt.IntSort())\n",
    "elem = smt.Function(\"elem\", Set, Class)\n",
    "\n",
    "x,y,z,a,b,c = kd.tactics.SchemaVars(\"x y z a b c\", Set)\n",
    "P,Q,R = kd.tactics.SchemaVars(\"P Q R\", Class)\n",
    "\n",
    "empty = smt.Const(\"empty\", Set)\n",
    "empty.ax = kd.axiom(smt.Not(elem(empty)[x])).forall([x])\n",
    "empty.ax\n",
    "\n",
    "union = smt.Function(\"union\", Set, Set, Set)\n",
    "union.ax = kd.axiom(smt.ForAll([x,y,z], elem(union(x,y))[z] == smt.Or(elem(x)[z], elem(y)[z])))\n",
    "union.ax\n",
    "\n",
    "sep = smt.Function(\"sep\", Set, Class, Set)\n",
    "sep.ax = kd.axiom(smt.ForAll([a,P], smt.ForAll([x], elem(sep(a,P))[x] == smt.And(P[x], elem(a)[x]))))\n"
   ]
  },
  {
   "cell_type": "code",
   "execution_count": null,
   "id": "84d05c2a",
   "metadata": {},
   "outputs": [],
   "source": [
    "fst"
   ]
  }
 ],
 "metadata": {
  "kernelspec": {
   "display_name": "philzook58.github.io",
   "language": "python",
   "name": "python3"
  },
  "language_info": {
   "codemirror_mode": {
    "name": "ipython",
    "version": 3
   },
   "file_extension": ".py",
   "mimetype": "text/x-python",
   "name": "python",
   "nbconvert_exporter": "python",
   "pygments_lexer": "ipython3",
   "version": "3.12.3"
  }
 },
 "nbformat": 4,
 "nbformat_minor": 5
}
