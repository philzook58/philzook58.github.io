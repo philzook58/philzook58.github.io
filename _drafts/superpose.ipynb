{
 "cells": [
  {
   "cell_type": "markdown",
   "metadata": {},
   "source": [
    "atomic ground superposition - a contextual union find\n",
    "ground superposition\n",
    "\n",
    "colored egraphs\n",
    "\n",
    "brainiac\n",
    "\n",
    "cruanes slides https://simon.cedeela.fr/assets/jetbrains_2021.pdf\n",
    "blanchette slides https://www.tcs.ifi.lmu.de/lehre/ws-2024-25/atp/slides12-superposition.pdf\n",
    "\n",
    "model is ground rewrite rules = egraph?\n",
    "\n",
    "\n",
    "\n",
    "\n"
   ]
  },
  {
   "cell_type": "code",
   "execution_count": null,
   "metadata": {},
   "outputs": [],
   "source": [
    "\n",
    "# Horn\n",
    "class Clause():\n",
    "    hyps : list[tuple[int,int]] # negative literals\n",
    "    conc : tuple[int,int]\n",
    "\n",
    "\n",
    "\n",
    "def superpose(c1 : Clause, c2 : Clause):\n",
    "    if c1.conc[0] == c2.conc[0]:\n",
    "        x,y = c1.conc[1], c2.conc[1]\n",
    "        if x < y:\n",
    "            x,y = y,x\n",
    "        return Clause(sorted(set(c1.hyps + c2.hyps)), (x,y))\n",
    "\n",
    "def neg_superpose(c1 : Clause, c2 : Clause):\n",
    "\n",
    "def equality_res():\n",
    "    # delete all hyps of the form x=x\n",
    "\n",
    "def factor():\n",
    "\n",
    "\n"
   ]
  },
  {
   "cell_type": "markdown",
   "metadata": {},
   "source": [
    "# Ordered Ground Resolution\n",
    "Bachmair and ganzinger in handbook\n",
    "https://www.isa-afp.org/entries/Functional_Ordered_Resolution_Prover.html\n",
    "\n",
    "hypothetical datalog?\n",
    " |- \n",
    "Ground database\n",
    "\n",
    "We want to pick a particular herbrand model. There are many. Pick an ordering.\n",
    "\n",
    "Minimal herbrand makes sense in the context of datalog / horn clauses...\n",
    "\n",
    "minimal proofs\n",
    "\n",
    "\n",
    "https://rg1-teaching.mpi-inf.mpg.de/autrea-ws21/notes-3d.pdf ordered resolution with selection waldemann.\n",
    "\n",
    "https://dl.acm.org/doi/pdf/10.1145/321420.321428 slagle 1967\n",
    "\n",
    "Building a model from a saturation.\n",
    "\n",
    "switching from ground to nonground makes > become !<=\n",
    "\n",
    "sequent calculus and resolution. Cut or macro rules?\n",
    "The multiset chjaracter of alsues makes permutation symettry\n",
    "\n",
    "\n",
    "\n"
   ]
  },
  {
   "cell_type": "code",
   "execution_count": null,
   "metadata": {},
   "outputs": [],
   "source": [
    "# clauses as sorted list\n",
    "# use integer ids. negative for negative literals if we want those to come first?\n",
    "atoms = []\n",
    "\n",
    "\n",
    "\n",
    "\n"
   ]
  },
  {
   "cell_type": "markdown",
   "metadata": {},
   "source": [
    "# METIS\n",
    "https://www.gilith.com/metis/\n",
    "ordered paramodulation\n",
    "https://github.com/gilith/metis"
   ]
  }
 ],
 "metadata": {
  "kernelspec": {
   "display_name": "Python 3",
   "language": "python",
   "name": "python3"
  },
  "language_info": {
   "name": "python",
   "version": "3.10.12"
  }
 },
 "nbformat": 4,
 "nbformat_minor": 2
}
