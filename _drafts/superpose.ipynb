{
 "cells": [
  {
   "cell_type": "markdown",
   "metadata": {},
   "source": [
    "atomic ground superposition - a contextual union find\n",
    "ground superposition\n",
    "\n",
    "colored egraphs\n"
   ]
  },
  {
   "cell_type": "code",
   "execution_count": null,
   "metadata": {},
   "outputs": [],
   "source": [
    "\n",
    "class Clause():\n",
    "    hyps : list[tuple[int,int]] # negative literals\n",
    "    conc : tuple[int,int]\n",
    "\n",
    "\n",
    "\n",
    "def superpose(c1 : Clause, c2 : Clause):\n",
    "    if c1.conc[0] == c2.conc[0]:\n",
    "        x,y = c1.conc[1], c2.conc[1]\n",
    "        if x < y:\n",
    "            x,y = y,x\n",
    "        return Clause(sorted(set(c1.hyps + c2.hyps)), (x,y))\n",
    "\n",
    "def neg_superpose(c1 : Clause, c2 : Clause):\n",
    "\n",
    "\n",
    "def factor():\n",
    "\n",
    "\n"
   ]
  }
 ],
 "metadata": {
  "kernelspec": {
   "display_name": "Python 3",
   "language": "python",
   "name": "python3"
  },
  "language_info": {
   "name": "python",
   "version": "3.10.12"
  }
 },
 "nbformat": 4,
 "nbformat_minor": 2
}
