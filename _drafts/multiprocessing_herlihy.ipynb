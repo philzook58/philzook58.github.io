{
 "cells": [
  {
   "cell_type": "markdown",
   "id": "1ea17f12",
   "metadata": {},
   "source": [
    "https://groups.google.com/g/the-art-of-multiprocessor-programming-2nd-edition\n",
    "\n",
    "[](/_notes/CS/Concurrency.md)\n",
    "https://lobste.rs/s/va2mvi/without_futex_it_s_futile\n",
    "\n",
    "\n",
    "Lamport book  https://lamport.azurewebsites.net/tla/book-21-07-04.pdf   https://lamport.azurewebsites.net/tla/high-level-view.html\n",
    "https://eatonphil.com/bookclub.html\n",
    "\n",
    "Lynch distributed algorithms\n",
    "\n",
    "https://cs.brown.edu/courses/cs176/ \n",
    "\n",
    "https://harmony.cs.cornell.edu/book/ https://harmony.cs.cornell.edu/ https://github.com/harmonylang/harmony\n",
    "\n",
    "https://github.com/fizzbee-io/fizzbee\n",
    "alloy https://practicalalloy.github.io/chapters/behavioral-modeling/index.html\n",
    "ivy?\n",
    "quint\n"
   ]
  },
  {
   "cell_type": "markdown",
   "id": "5d1aca86",
   "metadata": {},
   "source": [
    "# chapter 1 intro\n",
    "Alice and Bob cats and Dogs\n",
    "\n",
    "Prdoucer consumer\n"
   ]
  },
  {
   "cell_type": "code",
   "execution_count": null,
   "id": "00dcb2e5",
   "metadata": {},
   "outputs": [],
   "source": [
    "%%file /tmp/configfile.cfg\n",
    "SPECIFICATION Spec\n",
    "\n",
    "INVARIANT Inv1, Inv2\n",
    "PROPERTY Prop1"
   ]
  },
  {
   "cell_type": "code",
   "execution_count": null,
   "id": "82ce98c6",
   "metadata": {},
   "outputs": [],
   "source": [
    "%%file /tmp/alias.tla\n",
    "---- MODULE aliases ----\n",
    "EXTENDS Integers\n",
    "\n",
    "VARIABLE x\n",
    "Init ==\n",
    "  x = 0\n",
    "\n",
    "Next == x' = x + 1\n",
    "Inv == x < 10\n",
    "Spec == Init /\\ [][Next]_x\n",
    "\n",
    "Alias ==\n",
    "  [x |-> x,\n",
    "   nextx |-> x',\n",
    "   incx |-> x + 1]\n",
    "====="
   ]
  },
  {
   "cell_type": "code",
   "execution_count": 15,
   "id": "f2681434",
   "metadata": {},
   "outputs": [
    {
     "name": "stdout",
     "output_type": "stream",
     "text": [
      "Writing /tmp/hello.java\n"
     ]
    }
   ],
   "source": [
    "%%file /tmp/hello.java\n",
    "\n",
    "void main() {\n",
    "    System.out.println(\"Hello, World!\");\n",
    "}"
   ]
  },
  {
   "cell_type": "markdown",
   "id": "afd85cfd",
   "metadata": {},
   "source": [
    "Amdahl's law\n",
    "\n",
    "fraction that can be aprallized p\n",
    "1 - p + p/n"
   ]
  },
  {
   "cell_type": "code",
   "execution_count": 22,
   "id": "2ccecd81",
   "metadata": {},
   "outputs": [
    {
     "name": "stdout",
     "output_type": "stream",
     "text": [
      "Note: /tmp/hello.java uses preview features of Java SE 21.\n",
      "Note: Recompile with -Xlint:preview for details.\n",
      "Hello, World!\n"
     ]
    }
   ],
   "source": [
    "! java --enable-preview --source 21 /tmp/hello.java"
   ]
  },
  {
   "cell_type": "markdown",
   "id": "9c946970",
   "metadata": {},
   "source": [
    "https://docs.oracle.com/javase/8/docs/api/java/util/concurrent/package-summary.html"
   ]
  },
  {
   "cell_type": "code",
   "execution_count": null,
   "id": "b67669e3",
   "metadata": {},
   "outputs": [
    {
     "name": "stdout",
     "output_type": "stream",
     "text": [
      "Overwriting /tmp/primePrint.java\n"
     ]
    }
   ],
   "source": [
    "%%file /tmp/primePrint.java\n",
    "\n",
    "   void main() {\n",
    "      int i = ThreadID.get(); // thread IDs are in {0..9}\n",
    "      long block = power(10, 9);\n",
    "      for ( long j = (i * block) + 1; j <= (i + 1) * block; j++) {\n",
    "   if (isPrime(j))\n",
    "      print(j);\n",
    "   }\n",
    "   }\n",
    "\n"
   ]
  },
  {
   "cell_type": "code",
   "execution_count": 23,
   "id": "5abd6e94",
   "metadata": {},
   "outputs": [
    {
     "name": "stdout",
     "output_type": "stream",
     "text": [
      "/tmp/primePrint.java:4: error: cannot find symbol\n",
      "      int i = ThreadID.get(); // thread IDs are in {0..9}\n",
      "              ^\n",
      "  symbol:   variable ThreadID\n",
      "  location: class primePrint\n",
      "/tmp/primePrint.java:5: error: cannot find symbol\n",
      "      long block = power(10, 9);\n",
      "                   ^\n",
      "  symbol:   method power(int,int)\n",
      "  location: class primePrint\n",
      "/tmp/primePrint.java:7: error: cannot find symbol\n",
      "   if (isPrime(j))\n",
      "       ^\n",
      "  symbol:   method isPrime(long)\n",
      "  location: class primePrint\n",
      "/tmp/primePrint.java:8: error: cannot find symbol\n",
      "      print(j);\n",
      "      ^\n",
      "  symbol:   method print(long)\n",
      "  location: class primePrint\n",
      "4 errors\n",
      "error: compilation failed\n"
     ]
    }
   ],
   "source": [
    "! java --enable-preview --source 21 /tmp/primePrint.java "
   ]
  },
  {
   "cell_type": "code",
   "execution_count": null,
   "id": "8471d694",
   "metadata": {},
   "outputs": [],
   "source": []
  },
  {
   "cell_type": "markdown",
   "id": "52ca1543",
   "metadata": {},
   "source": [
    "# chapter 2 Mutual Exclusion\n",
    "Bakery algorithm\n",
    "Peterson Lock\n",
    "\n",
    "https://en.wikipedia.org/wiki/Peterson%27s_algorithm\n",
    "\n",
    "https://jamesrwilcox.com/SharedMem.html proof of peterson in coq\n",
    "https://homes.cs.washington.edu/~mernst/pubs/verify-distsystem-pldi2015.pdf verdi\n",
    "\n",
    "https://harmony.cs.cornell.edu/book/#sec-33\n",
    "\n",
    "https://cs.brown.edu/~tbn/publications/peterson.pdf alloy peterson\n",
    "\n",
    "https://forge-fm.org/\n",
    "\n",
    "ivy?\n",
    "Transitive clousre vs int parametrized.\n",
    "\n",
    "https://stackoverflow.com/questions/11588514/a-tested-implementation-of-peterson-lock-algorithm\n",
    "https://bartoszmilewski.com/2008/11/05/who-ordered-memory-fences-on-an-x86/\n",
    "\n",
    "https://ocw.mit.edu/courses/6-172-performance-engineering-of-software-systems-fall-2018/resources/lecture-17-synchronization-without-locks/\n",
    "\n",
    "mutual exclusion\n",
    "no deadlock - if multuple try, at least one succeeds\n",
    "no starvation - if attempt, must eventually succeed"
   ]
  },
  {
   "cell_type": "code",
   "execution_count": 3,
   "id": "0c1b30f8",
   "metadata": {},
   "outputs": [
    {
     "name": "stdout",
     "output_type": "stream",
     "text": [
      "Writing /tmp/lock1.pml\n"
     ]
    }
   ],
   "source": [
    "%%file /tmp/lock1.pml\n",
    "\n",
    "bool flag[2];\n",
    "byte ncrit;\n",
    "\n",
    "active [2] proctype user()\n",
    "{\n",
    "\tassert(_pid == 0 || _pid == 1);\n",
    "again:\n",
    "\tflag[_pid] = 1;\n",
    "\tflag[1 - _pid] == 0;\n",
    "\n",
    "\tncrit++;\n",
    "\tassert(ncrit == 1);\t/* critical section */\n",
    "\tncrit--;\n",
    "\n",
    "\tflag[_pid] = 0;\n",
    "\tgoto again\n",
    "}"
   ]
  },
  {
   "cell_type": "code",
   "execution_count": 5,
   "id": "003a21e6",
   "metadata": {},
   "outputs": [
    {
     "name": "stdout",
     "output_type": "stream",
     "text": [
      "  1:\tproc  0 (user:1) /tmp/lock1.pml:7 (state 1)\t[assert(((_pid==0)||(_pid==1)))]\n",
      "  2:\tproc  1 (user:1) /tmp/lock1.pml:7 (state 1)\t[assert(((_pid==0)||(_pid==1)))]\n",
      "  3:\tproc  1 (user:1) /tmp/lock1.pml:9 (state 2)\t[flag[_pid] = 1]\n",
      "  4:\tproc  1 (user:1) /tmp/lock1.pml:10 (state 3)\t[((flag[(1-_pid)]==0))]\n",
      "  5:\tproc  0 (user:1) /tmp/lock1.pml:9 (state 2)\t[flag[_pid] = 1]\n",
      "  6:\tproc  1 (user:1) /tmp/lock1.pml:12 (state 4)\t[ncrit = (ncrit+1)]\n",
      "  7:\tproc  1 (user:1) /tmp/lock1.pml:13 (state 5)\t[assert((ncrit==1))]\n",
      "  8:\tproc  1 (user:1) /tmp/lock1.pml:14 (state 6)\t[ncrit = (ncrit-1)]\n",
      "  9:\tproc  1 (user:1) /tmp/lock1.pml:16 (state 7)\t[flag[_pid] = 0]\n",
      " 10:\tproc  1 (user:1) /tmp/lock1.pml:17 (state 8)\t[goto again]\n",
      " 11:\tproc  0 (user:1) /tmp/lock1.pml:10 (state 3)\t[((flag[(1-_pid)]==0))]\n",
      " 12:\tproc  0 (user:1) /tmp/lock1.pml:12 (state 4)\t[ncrit = (ncrit+1)]\n",
      " 13:\tproc  1 (user:1) /tmp/lock1.pml:9 (state 2)\t[flag[_pid] = 1]\n",
      " 14:\tproc  0 (user:1) /tmp/lock1.pml:13 (state 5)\t[assert((ncrit==1))]\n",
      " 15:\tproc  0 (user:1) /tmp/lock1.pml:14 (state 6)\t[ncrit = (ncrit-1)]\n",
      " 16:\tproc  0 (user:1) /tmp/lock1.pml:16 (state 7)\t[flag[_pid] = 0]\n",
      " 17:\tproc  1 (user:1) /tmp/lock1.pml:10 (state 3)\t[((flag[(1-_pid)]==0))]\n",
      " 18:\tproc  1 (user:1) /tmp/lock1.pml:12 (state 4)\t[ncrit = (ncrit+1)]\n",
      " 19:\tproc  1 (user:1) /tmp/lock1.pml:13 (state 5)\t[assert((ncrit==1))]\n",
      " 20:\tproc  0 (user:1) /tmp/lock1.pml:17 (state 8)\t[goto again]\n",
      " 21:\tproc  0 (user:1) /tmp/lock1.pml:9 (state 2)\t[flag[_pid] = 1]\n",
      " 22:\tproc  1 (user:1) /tmp/lock1.pml:14 (state 6)\t[ncrit = (ncrit-1)]\n",
      " 23:\tproc  1 (user:1) /tmp/lock1.pml:16 (state 7)\t[flag[_pid] = 0]\n",
      " 24:\tproc  1 (user:1) /tmp/lock1.pml:17 (state 8)\t[goto again]\n",
      " 25:\tproc  0 (user:1) /tmp/lock1.pml:10 (state 3)\t[((flag[(1-_pid)]==0))]\n",
      " 26:\tproc  0 (user:1) /tmp/lock1.pml:12 (state 4)\t[ncrit = (ncrit+1)]\n",
      " 27:\tproc  0 (user:1) /tmp/lock1.pml:13 (state 5)\t[assert((ncrit==1))]\n",
      " 28:\tproc  1 (user:1) /tmp/lock1.pml:9 (state 2)\t[flag[_pid] = 1]\n",
      " 29:\tproc  0 (user:1) /tmp/lock1.pml:14 (state 6)\t[ncrit = (ncrit-1)]\n",
      " 30:\tproc  0 (user:1) /tmp/lock1.pml:16 (state 7)\t[flag[_pid] = 0]\n",
      " 31:\tproc  0 (user:1) /tmp/lock1.pml:17 (state 8)\t[goto again]\n",
      " 32:\tproc  0 (user:1) /tmp/lock1.pml:9 (state 2)\t[flag[_pid] = 1]\n",
      "      timeout\n",
      "#processes: 2\n",
      "\t\tflag[0] = 1\n",
      "\t\tflag[1] = 1\n",
      "\t\tncrit = 0\n",
      " 32:\tproc  1 (user:1) /tmp/lock1.pml:10 (state 3)\n",
      " 32:\tproc  0 (user:1) /tmp/lock1.pml:10 (state 3)\n",
      "2 processes created\n"
     ]
    }
   ],
   "source": [
    "! spin -v /tmp/lock1.pml"
   ]
  },
  {
   "cell_type": "code",
   "execution_count": 1,
   "id": "2bebc465",
   "metadata": {},
   "outputs": [
    {
     "name": "stdout",
     "output_type": "stream",
     "text": [
      "Writing /tmp/peterson.pml\n"
     ]
    }
   ],
   "source": [
    "%%file /tmp/peterson.pml\n",
    "// https://github.com/nimble-code/Spin/blob/master/Examples/peterson.pml\n",
    "/* Peterson's solution to the mutual exclusion problem - 1981 */\n",
    "\n",
    "bool turn, flag[2];\n",
    "byte ncrit;\n",
    "\n",
    "active [2] proctype user()\n",
    "{\n",
    "\tassert(_pid == 0 || _pid == 1);\n",
    "again:\n",
    "\tflag[_pid] = 1;\n",
    "\tturn = _pid;\n",
    "\t(flag[1 - _pid] == 0 || turn == 1 - _pid);\n",
    "\n",
    "\tncrit++;\n",
    "\tassert(ncrit == 1);\t/* critical section */\n",
    "\tncrit--;\n",
    "\n",
    "\tflag[_pid] = 0;\n",
    "\tgoto again\n",
    "}"
   ]
  },
  {
   "cell_type": "code",
   "execution_count": 17,
   "id": "23e23942",
   "metadata": {},
   "outputs": [
    {
     "name": "stdout",
     "output_type": "stream",
     "text": [
      "Overwriting /tmp/Peterson.tla\n"
     ]
    }
   ],
   "source": [
    "%%file /tmp/Peterson.tla\n",
    "---- MODULE Peterson ----\n",
    "EXTENDS Integers\n",
    "(*\n",
    "--algorithm Peterson {\n",
    "    variables flag = [i \\in {0, 1} |-> FALSE],  turn = 0;\n",
    "        \\* Declares the global variables flag and turn and their initial values;\n",
    "        \\* flag is a 2-element array with initially flag[0] = flag[1] = FALSE.\n",
    "    fair process (proc \\in {0,1}) {\n",
    "    \\* Declares two processes with identifier self equal to 0 and 1.\n",
    "    \\* The keyword fair means that no process can stop forever if it can\n",
    "    \\* always take a step.\n",
    "    a1: while (TRUE) {\n",
    "            skip ;  \\* the noncritical section\n",
    "    a2:  flag[self] := TRUE ;\n",
    "    a3:  turn := 1 - self ;   \n",
    "    a4:  await (flag[1-self] = FALSE) \\/ (turn = self); \\* \\/ is written || in C.\n",
    "    cs:  skip ;  \\* the critical section\n",
    "    a5:  flag[self] := FALSE               }     }     }\n",
    "*)\n",
    "===="
   ]
  },
  {
   "cell_type": "code",
   "execution_count": 18,
   "id": "10eee8bc",
   "metadata": {},
   "outputs": [
    {
     "name": "stdout",
     "output_type": "stream",
     "text": [
      "pcal.trans Version 1.11 of 31 December 2020\n",
      "Parsing completed.\n",
      "Translation completed.\n",
      "New file /tmp/Peterson.tla written.\n",
      "New file /tmp/Peterson.cfg written.\n",
      "---- MODULE Peterson ----\n",
      "EXTENDS Integers\n",
      "(*\n",
      "--algorithm Peterson {\n",
      "    variables flag = [i \\in {0, 1} |-> FALSE],  turn = 0;\n",
      "        \\* Declares the global variables flag and turn and their initial values;\n",
      "        \\* flag is a 2-element array with initially flag[0] = flag[1] = FALSE.\n",
      "    fair process (proc \\in {0,1}) {\n",
      "    \\* Declares two processes with identifier self equal to 0 and 1.\n",
      "    \\* The keyword fair means that no process can stop forever if it can\n",
      "    \\* always take a step.\n",
      "    a1: while (TRUE) {\n",
      "            skip ;  \\* the noncritical section\n",
      "    a2:  flag[self] := TRUE ;\n",
      "    a3:  turn := 1 - self ;   \n",
      "    a4:  await (flag[1-self] = FALSE) \\/ (turn = self); \\* \\/ is written || in C.\n",
      "    cs:  skip ;  \\* the critical section\n",
      "    a5:  flag[self] := FALSE               }     }     }\n",
      "*)\n",
      "\\* BEGIN TRANSLATION (chksum(pcal) = \"90a768df\" /\\ chksum(tla) = \"7df2e81a\")\n",
      "VARIABLES flag, turn, pc\n",
      "\n",
      "vars == << flag, turn, pc >>\n",
      "\n",
      "ProcSet == ({0,1})\n",
      "\n",
      "Init == (* Global variables *)\n",
      "        /\\ flag = [i \\in {0, 1} |-> FALSE]\n",
      "        /\\ turn = 0\n",
      "        /\\ pc = [self \\in ProcSet |-> \"a1\"]\n",
      "\n",
      "a1(self) == /\\ pc[self] = \"a1\"\n",
      "            /\\ TRUE\n",
      "            /\\ pc' = [pc EXCEPT ![self] = \"a2\"]\n",
      "            /\\ UNCHANGED << flag, turn >>\n",
      "\n",
      "a2(self) == /\\ pc[self] = \"a2\"\n",
      "            /\\ flag' = [flag EXCEPT ![self] = TRUE]\n",
      "            /\\ pc' = [pc EXCEPT ![self] = \"a3\"]\n",
      "            /\\ turn' = turn\n",
      "\n",
      "a3(self) == /\\ pc[self] = \"a3\"\n",
      "            /\\ turn' = 1 - self\n",
      "            /\\ pc' = [pc EXCEPT ![self] = \"a4\"]\n",
      "            /\\ flag' = flag\n",
      "\n",
      "a4(self) == /\\ pc[self] = \"a4\"\n",
      "            /\\ (flag[1-self] = FALSE) \\/ (turn = self)\n",
      "            /\\ pc' = [pc EXCEPT ![self] = \"cs\"]\n",
      "            /\\ UNCHANGED << flag, turn >>\n",
      "\n",
      "cs(self) == /\\ pc[self] = \"cs\"\n",
      "            /\\ TRUE\n",
      "            /\\ pc' = [pc EXCEPT ![self] = \"a5\"]\n",
      "            /\\ UNCHANGED << flag, turn >>\n",
      "\n",
      "a5(self) == /\\ pc[self] = \"a5\"\n",
      "            /\\ flag' = [flag EXCEPT ![self] = FALSE]\n",
      "            /\\ pc' = [pc EXCEPT ![self] = \"a1\"]\n",
      "            /\\ turn' = turn\n",
      "\n",
      "proc(self) == a1(self) \\/ a2(self) \\/ a3(self) \\/ a4(self) \\/ cs(self)\n",
      "                 \\/ a5(self)\n",
      "\n",
      "Next == (\\E self \\in {0,1}: proc(self))\n",
      "\n",
      "Spec == /\\ Init /\\ [][Next]_vars\n",
      "        /\\ \\A self \\in {0,1} : WF_vars(proc(self))\n",
      "\n",
      "\\* END TRANSLATION \n",
      "====\n"
     ]
    }
   ],
   "source": [
    "! java -cp ~/Downloads/tla2tools.jar pcal.trans /tmp/Peterson.tla && cat /tmp/Peterson.tla"
   ]
  },
  {
   "cell_type": "code",
   "execution_count": 19,
   "id": "c601d6f8",
   "metadata": {},
   "outputs": [
    {
     "name": "stdout",
     "output_type": "stream",
     "text": [
      "TLC2 Version 2.19 of 08 August 2024 (rev: 5a47802)\n"
     ]
    },
    {
     "name": "stdout",
     "output_type": "stream",
     "text": [
      "Warning: Please run the Java VM which executes TLC with a throughput optimized garbage collector by passing the \"-XX:+UseParallelGC\" property.\n",
      "(Use the -nowarning option to disable this warning.)\n",
      "Running breadth-first search Model-Checking with fp 111 and seed -1918630056517602505 with 1 worker on 16 cores with 15736MB heap and 64MB offheap memory [pid: 3180596] (Linux 6.14.0-28-generic amd64, Ubuntu 21.0.8 x86_64, MSBDiskFPSet, DiskStateQueue).\n",
      "Parsing file /tmp/Peterson.tla\n",
      "Parsing file /tmp/Integers.tla\n",
      "Parsing file /tmp/Naturals.tla\n",
      "Semantic processing of module Naturals\n",
      "Semantic processing of module Integers\n",
      "Semantic processing of module Peterson\n",
      "Starting... (2025-09-03 09:28:41)\n",
      "Computing initial states...\n",
      "Finished computing initial states: 1 distinct state generated at 2025-09-03 09:28:41.\n",
      "Model checking completed. No error has been found.\n",
      "  Estimates of the probability that TLC did not check all reachable states\n",
      "  because two distinct states had the same fingerprint:\n",
      "  calculated (optimistic):  val = 8.0E-17\n",
      "77 states generated, 42 distinct states found, 0 states left on queue.\n",
      "The depth of the complete state graph search is 11.\n",
      "The average outdegree of the complete state graph is 1 (minimum is 0, the maximum 2 and the 95th percentile is 2).\n",
      "Finished in 00s at (2025-09-03 09:28:41)\n"
     ]
    }
   ],
   "source": [
    "! java -cp ~/Downloads/tla2tools.jar tlc2.TLC /tmp/Peterson.tla"
   ]
  },
  {
   "cell_type": "code",
   "execution_count": 20,
   "id": "41047fca",
   "metadata": {},
   "outputs": [
    {
     "name": "stdout",
     "output_type": "stream",
     "text": [
      "Writing /tmp/lock1.tla\n"
     ]
    }
   ],
   "source": [
    "%%file /tmp/lock1.tla\n",
    "---- MODULE lock1 ----\n",
    "EXTENDS Integers\n",
    "(*\n",
    "\n",
    "--algorithm Lock1 {\n",
    "    variables flag = [i \\in {0, 1} |-> FALSE];\n",
    "    fair process (proc \\in {0,1}) {\n",
    "    a1: while (TRUE) {\n",
    "            skip ;  \\* the noncritical section\n",
    "    a2:  flag[self] := TRUE ;\n",
    "    a4:  await (flag[1-self] = FALSE);\n",
    "    cs:  skip ;  \\* the critical section\n",
    "    a5:  flag[self] := FALSE               }     }     }\n",
    "*)\n",
    "====\n",
    "\n"
   ]
  },
  {
   "cell_type": "code",
   "execution_count": 21,
   "id": "6def621c",
   "metadata": {},
   "outputs": [
    {
     "name": "stdout",
     "output_type": "stream",
     "text": [
      "pcal.trans Version 1.11 of 31 December 2020\n",
      "Parsing completed.\n",
      "Translation completed.\n",
      "New file /tmp/lock1.tla written.\n",
      "New file /tmp/lock1.cfg written.\n",
      "TLC2 Version 2.19 of 08 August 2024 (rev: 5a47802)\n",
      "Warning: Please run the Java VM which executes TLC with a throughput optimized garbage collector by passing the \"-XX:+UseParallelGC\" property.\n",
      "(Use the -nowarning option to disable this warning.)\n",
      "Running breadth-first search Model-Checking with fp 77 and seed -3099753534938489767 with 1 worker on 16 cores with 15736MB heap and 64MB offheap memory [pid: 3187713] (Linux 6.14.0-28-generic amd64, Ubuntu 21.0.8 x86_64, MSBDiskFPSet, DiskStateQueue).\n",
      "Parsing file /tmp/lock1.tla\n",
      "Parsing file /tmp/Integers.tla\n",
      "Parsing file /tmp/Naturals.tla\n",
      "Semantic processing of module Naturals\n",
      "Semantic processing of module Integers\n",
      "Semantic processing of module lock1\n",
      "Starting... (2025-09-03 09:32:10)\n",
      "Computing initial states...\n",
      "Finished computing initial states: 1 distinct state generated at 2025-09-03 09:32:10.\n",
      "Error: Deadlock reached.\n",
      "Error: The behavior up to this point is:\n",
      "State 1: <Initial predicate>\n",
      "/\\ flag = (0 :> FALSE @@ 1 :> FALSE)\n",
      "/\\ pc = (0 :> \"a1\" @@ 1 :> \"a1\")\n",
      "\n",
      "State 2: <a1 line 26, col 13 to line 29, col 27 of module lock1>\n",
      "/\\ flag = (0 :> FALSE @@ 1 :> FALSE)\n",
      "/\\ pc = (0 :> \"a2\" @@ 1 :> \"a1\")\n",
      "\n",
      "State 3: <a2 line 31, col 13 to line 33, col 47 of module lock1>\n",
      "/\\ flag = (0 :> TRUE @@ 1 :> FALSE)\n",
      "/\\ pc = (0 :> \"a4\" @@ 1 :> \"a1\")\n",
      "\n",
      "State 4: <a1 line 26, col 13 to line 29, col 27 of module lock1>\n",
      "/\\ flag = (0 :> TRUE @@ 1 :> FALSE)\n",
      "/\\ pc = (0 :> \"a4\" @@ 1 :> \"a2\")\n",
      "\n",
      "State 5: <a2 line 31, col 13 to line 33, col 47 of module lock1>\n",
      "/\\ flag = (0 :> TRUE @@ 1 :> TRUE)\n",
      "/\\ pc = (0 :> \"a4\" @@ 1 :> \"a4\")\n",
      "\n",
      "25 states generated, 17 distinct states found, 4 states left on queue.\n",
      "The depth of the complete state graph search is 6.\n",
      "The average outdegree of the complete state graph is 1 (minimum is 0, the maximum 2 and the 95th percentile is 2).\n",
      "Finished in 00s at (2025-09-03 09:32:10)\n"
     ]
    }
   ],
   "source": [
    "! java -cp ~/Downloads/tla2tools.jar pcal.trans /tmp/lock1.tla && java -cp ~/Downloads/tla2tools.jar tlc2.TLC /tmp/lock1.tla"
   ]
  },
  {
   "cell_type": "markdown",
   "id": "45fa512e",
   "metadata": {},
   "source": [
    "python. Use yield or await?\n",
    "hypotehsis? Take cue from rust yarn libs\n",
    "https://hypothesis.readthedocs.io/en/latest/stateful.html\n",
    "https://hypothesis.works/articles/how-not-to-die-hard-with-hypothesis/\n",
    "https://hypothesis.works/articles/rule-based-stateful-testing/ \n",
    "Seems more painful than is worth.\n",
    "\n",
    "\n",
    "\n",
    "esbmc actually supports python. Hmmm.\n",
    "\n",
    "\n",
    "pcode execution with \n"
   ]
  },
  {
   "cell_type": "code",
   "execution_count": null,
   "id": "37096e87",
   "metadata": {},
   "outputs": [],
   "source": [
    "from hypothesis.stateful import RuleBasedStateMachine, precondition, rule\n",
    "class PC(Enum):\n",
    "    Init = 0\n",
    "    Next = 1\n",
    "    Inc = 2\n",
    "    CRIT = 3\n",
    "\n",
    "class Peterson(RuleBasedStateMachine):\n",
    "    pc = [PC.Init, PC.Init]\n",
    "    flag = [False, False]\n",
    "    turn = 0\n",
    "\n",
    "    @precondition(lambda self: self.pc[0] == PC.Init and self.pc[1] == PC.Init)\n",
    "    @rule()\n",
    "    def set_flag(self):"
   ]
  },
  {
   "cell_type": "code",
   "execution_count": null,
   "id": "58741b55",
   "metadata": {},
   "outputs": [],
   "source": [
    "ProcID = kd.Enum(\"ProcID\", [\"P0\", \"P1\"])\n",
    "PC = kd.Enum(\"PC\", [\"Init\", \"Flag1\", \"Flag2\", \"Crit\", \"Exit\"])\n",
    "Spec = smt.Function(\"Spec\", smt.ArraySort(ProcID, smt.BoolSort()), smt.ArraySort(ProcID, smt.BoolSort()))\n",
    "Spec = kd.define(\"Spec\", [flag, pc, flag1, pc1], \n",
    "    smt.Or(\n",
    "        smt.And(pc[n] == PC.Init),\n",
    "        smt.And(pc[n] == PC.Flag1, flag[n] == True, pc1[n] == PC.Flag2),\n",
    "    )\n",
    ")\n",
    "\n",
    "smt.TransitiveClosure(Spec)"
   ]
  },
  {
   "cell_type": "code",
   "execution_count": null,
   "id": "1f32b5b8",
   "metadata": {},
   "outputs": [],
   "source": [
    "%%file /tmp/peterson.sv\n",
    "module peterson(\n",
    "    input clk,\n",
    "    input pid,\n",
    "    output reg flag[2],\n",
    "    output reg pc[2]\n",
    ")\n",
    "@always @(posedge clk) begin\n",
    "    switch pc[pid]\n",
    "        PC.Init: begin\n",
    "            flag[pid] <= 0;\n",
    "            pc[pid] <= PC.Flag1;\n",
    "        end\n",
    "        PC.Flag1: begin\n",
    "            flag[pid] <= 1;\n",
    "            pc[pid] <= PC.Flag2;\n",
    "        end\n",
    "        PC.Flag2: begin\n",
    "            if (flag[1 - pid] == 0) begin\n",
    "                pc[pid] <= PC.Crit;\n",
    "            end else begin\n",
    "                pc[pid] <= PC.Flag2; // wait\n",
    "            end\n",
    "        end\n",
    "        PC.Crit: begin\n",
    "            // Critical section logic here\n",
    "            pc[pid] <= PC.Exit;\n",
    "        end\n",
    "        PC.Exit: begin\n",
    "            flag[pid] <= 0;\n",
    "            pc[pid] <= PC.Init;\n",
    "        end\n",
    "\n",
    "        assert property !(pc[0] == PC.Crit && pc[1] == PC.Crit);\n",
    "endmodule"
   ]
  },
  {
   "cell_type": "code",
   "execution_count": null,
   "id": "35362029",
   "metadata": {},
   "outputs": [],
   "source": [
    "\n",
    "# \n",
    "def lock1(pid, flag):\n",
    "    assert pid == 0 or pid == 1\n",
    "    while True:\n",
    "        yield \"a0\"\n",
    "        flag[pid] = True\n",
    "        yield \"a1\"\n",
    "        flag[1 - pid] = False\n",
    "        yield \"a2\"\n",
    "\n",
    "        yield \"a3\"\n",
    "        ncrit += 1\n",
    "        yield \"a4\"\n",
    "        assert ncrit == 1  # critical section\n",
    "        yield \"a5\"\n",
    "        ncrit -= 1\n",
    "\n",
    "        flag[pid] = False\n",
    "# use hypothesis?\n",
    "def search():\n",
    "    while True:\n",
    "        flag = [False, False]\n",
    "        procs = [lock1(0, flag), lock1(1, flag)]\n",
    "        trace = []\n",
    "        for i in range(10): # 10 steps\n",
    "            try:\n",
    "                trace.append(flags.copy(), next(random.choice(procs)))\n",
    "        \n",
    "\n",
    "\n",
    "\n",
    "\n"
   ]
  },
  {
   "cell_type": "code",
   "execution_count": null,
   "id": "0064307a",
   "metadata": {},
   "outputs": [],
   "source": [
    "@dataclass\n",
    "class State:\n",
    "    flag: Tuple[bool,bool] = (False, False)\n",
    "    ncrit: int = 0\n",
    "\n",
    "def lock(pid):\n",
    "    assert pid == 0 or pid == 1\n",
    "    while True:\n",
    "        yield \"a0\"; st.flag[pid] = True\n",
    "        yield \"a1\"; st.flag[1 - pid] = False \n",
    "        yield \"a3\": st.ncrit += 1\n",
    "        yield \"a4\": assert st.ncrit == 1  # critical section\n",
    "        yield \"a5\": st.ncrit -= 1\n",
    "        yield \"a6\": st.flag[pid] = False\n",
    "\n",
    "@given(st.lists(st.sampled_from([0,1]), min_size=1, max_size=60))\n",
    "def test_protocol(sched):\n",
    "    st = State()\n",
    "    procs = [lock(pid) for pid in range(2)]\n",
    "    trace = []\n",
    "    for step in sched:\n",
    "        trace.append((step, next(procs[step])))\n"
   ]
  },
  {
   "cell_type": "code",
   "execution_count": null,
   "id": "b6618bb5",
   "metadata": {},
   "outputs": [],
   "source": [
    "def t0(pid, st):\n",
    "    return st\n",
    "def t1(pid, st):\n",
    "    return st\n",
    "def t2(pid, st):\n",
    "\n",
    "{\n",
    "    \"t0\": lambda pid, st: st,\n",
    "    \"t1\": lambda pid, st: st,\n",
    "    \"t2\": lambda pid, st: st,\n",
    "}\n",
    "\n",
    "proc = [t0,t1,t2,t3]\n"
   ]
  },
  {
   "cell_type": "markdown",
   "id": "f32d6ac8",
   "metadata": {},
   "source": [
    "Spacer. datalog. prolog\n",
    "\n",
    "Why is a one sided reachablity ok now?"
   ]
  },
  {
   "cell_type": "code",
   "execution_count": null,
   "id": "aab0deb9",
   "metadata": {},
   "outputs": [],
   "source": [
    "smt.QForAll([flags, pc], \n",
    "       , step()\n",
    ")\n",
    "\n",
    "def horn(vs, head, *bodies):\n",
    "    return [\n",
    "        smt.ForAll(vs, smt.Implies(smt.And(body), head))\n",
    "        for body in bodies\n",
    "    ]\n",
    "def horn([flag, pc], spec(flags, pc), \n",
    "         smt.And(pc[0] == PC.Init, spec() )\n",
    "         smt.And(pc[0] == PC.Flag1, flag[0] == True, pc1[0] == PC.Flag2) \n",
    "         ,\n",
    "         )"
   ]
  },
  {
   "cell_type": "markdown",
   "id": "3fa141ac",
   "metadata": {},
   "source": [
    "Memory models: Starting point is PC is totally random.\n",
    "Starting point is everyone has their own copy of memory and PC is random? Or that everyone else's PC is random.\n",
    "\n",
    "https://github.com/heidihoward/distributed-consensus-reading-list?tab=readme-ov-file#correctness-of-consensus-algorithms\n",
    "\n",
    "https://github.com/PirateshipOrg/pirateship-tla wha?\n"
   ]
  }
 ],
 "metadata": {
  "kernelspec": {
   "display_name": "philzook58.github.io",
   "language": "python",
   "name": "python3"
  },
  "language_info": {
   "codemirror_mode": {
    "name": "ipython",
    "version": 3
   },
   "file_extension": ".py",
   "mimetype": "text/x-python",
   "name": "python",
   "nbconvert_exporter": "python",
   "pygments_lexer": "ipython3",
   "version": "3.12.3"
  }
 },
 "nbformat": 4,
 "nbformat_minor": 5
}
