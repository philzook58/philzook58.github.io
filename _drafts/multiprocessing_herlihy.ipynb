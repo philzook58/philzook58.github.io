{
 "cells": [
  {
   "cell_type": "markdown",
   "id": "1ea17f12",
   "metadata": {},
   "source": [
    "https://groups.google.com/g/the-art-of-multiprocessor-programming-2nd-edition\n",
    "\n",
    "[](/_notes/CS/Concurrency.md)\n",
    "https://lobste.rs/s/va2mvi/without_futex_it_s_futile\n",
    "\n",
    "\n",
    "Lamport book  https://lamport.azurewebsites.net/tla/book-21-07-04.pdf   https://lamport.azurewebsites.net/tla/high-level-view.html\n",
    "https://eatonphil.com/bookclub.html\n"
   ]
  },
  {
   "cell_type": "markdown",
   "id": "5d1aca86",
   "metadata": {},
   "source": [
    "# chapter 1 intro\n",
    "Alice and Bob cats and Dogs\n",
    "\n",
    "Prdoucer consumer\n"
   ]
  },
  {
   "cell_type": "code",
   "execution_count": 15,
   "id": "f2681434",
   "metadata": {},
   "outputs": [
    {
     "name": "stdout",
     "output_type": "stream",
     "text": [
      "Writing /tmp/hello.java\n"
     ]
    }
   ],
   "source": [
    "%%file /tmp/hello.java\n",
    "\n",
    "void main() {\n",
    "    System.out.println(\"Hello, World!\");\n",
    "}"
   ]
  },
  {
   "cell_type": "markdown",
   "id": "afd85cfd",
   "metadata": {},
   "source": [
    "Amdahl's law\n",
    "\n",
    "fraction that can be aprallized p\n",
    "1 - p + p/n"
   ]
  },
  {
   "cell_type": "code",
   "execution_count": 22,
   "id": "2ccecd81",
   "metadata": {},
   "outputs": [
    {
     "name": "stdout",
     "output_type": "stream",
     "text": [
      "Note: /tmp/hello.java uses preview features of Java SE 21.\n",
      "Note: Recompile with -Xlint:preview for details.\n",
      "Hello, World!\n"
     ]
    }
   ],
   "source": [
    "! java --enable-preview --source 21 /tmp/hello.java"
   ]
  },
  {
   "cell_type": "markdown",
   "id": "9c946970",
   "metadata": {},
   "source": [
    "https://docs.oracle.com/javase/8/docs/api/java/util/concurrent/package-summary.html"
   ]
  },
  {
   "cell_type": "code",
   "execution_count": null,
   "id": "b67669e3",
   "metadata": {},
   "outputs": [
    {
     "name": "stdout",
     "output_type": "stream",
     "text": [
      "Overwriting /tmp/primePrint.java\n"
     ]
    }
   ],
   "source": [
    "%%file /tmp/primePrint.java\n",
    "\n",
    "   void main() {\n",
    "      int i = ThreadID.get(); // thread IDs are in {0..9}\n",
    "      long block = power(10, 9);\n",
    "      for ( long j = (i * block) + 1; j <= (i + 1) * block; j++) {\n",
    "   if (isPrime(j))\n",
    "      print(j);\n",
    "   }\n",
    "   }\n",
    "\n"
   ]
  },
  {
   "cell_type": "code",
   "execution_count": 23,
   "id": "5abd6e94",
   "metadata": {},
   "outputs": [
    {
     "name": "stdout",
     "output_type": "stream",
     "text": [
      "/tmp/primePrint.java:4: error: cannot find symbol\n",
      "      int i = ThreadID.get(); // thread IDs are in {0..9}\n",
      "              ^\n",
      "  symbol:   variable ThreadID\n",
      "  location: class primePrint\n",
      "/tmp/primePrint.java:5: error: cannot find symbol\n",
      "      long block = power(10, 9);\n",
      "                   ^\n",
      "  symbol:   method power(int,int)\n",
      "  location: class primePrint\n",
      "/tmp/primePrint.java:7: error: cannot find symbol\n",
      "   if (isPrime(j))\n",
      "       ^\n",
      "  symbol:   method isPrime(long)\n",
      "  location: class primePrint\n",
      "/tmp/primePrint.java:8: error: cannot find symbol\n",
      "      print(j);\n",
      "      ^\n",
      "  symbol:   method print(long)\n",
      "  location: class primePrint\n",
      "4 errors\n",
      "error: compilation failed\n"
     ]
    }
   ],
   "source": [
    "! java --enable-preview --source 21 /tmp/primePrint.java "
   ]
  },
  {
   "cell_type": "code",
   "execution_count": null,
   "id": "8471d694",
   "metadata": {},
   "outputs": [],
   "source": []
  },
  {
   "cell_type": "markdown",
   "id": "52ca1543",
   "metadata": {},
   "source": [
    "# chapter 2 Mutual Exclusion\n",
    "Bakery algorithm\n",
    "Peterson Lock\n",
    "\n"
   ]
  }
 ],
 "metadata": {
  "kernelspec": {
   "display_name": "philzook58.github.io",
   "language": "python",
   "name": "python3"
  },
  "language_info": {
   "codemirror_mode": {
    "name": "ipython",
    "version": 3
   },
   "file_extension": ".py",
   "mimetype": "text/x-python",
   "name": "python",
   "nbconvert_exporter": "python",
   "pygments_lexer": "ipython3",
   "version": "3.12.3"
  }
 },
 "nbformat": 4,
 "nbformat_minor": 5
}
