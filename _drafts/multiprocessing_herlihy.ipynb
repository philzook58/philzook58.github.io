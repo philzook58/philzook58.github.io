{
 "cells": [
  {
   "cell_type": "markdown",
   "id": "1ea17f12",
   "metadata": {},
   "source": [
    "https://groups.google.com/g/the-art-of-multiprocessor-programming-2nd-edition\n",
    "\n",
    "[](/_notes/CS/Concurrency.md)\n",
    "https://lobste.rs/s/va2mvi/without_futex_it_s_futile\n",
    "\n",
    "\n",
    "Lamport book  https://lamport.azurewebsites.net/tla/book-21-07-04.pdf   https://lamport.azurewebsites.net/tla/high-level-view.html\n",
    "https://eatonphil.com/bookclub.html\n",
    "\n",
    "Lynch distributed algorithms\n",
    "\n",
    "https://cs.brown.edu/courses/cs176/ \n",
    "\n",
    "https://harmony.cs.cornell.edu/book/ https://harmony.cs.cornell.edu/ https://github.com/harmonylang/harmony\n",
    "\n",
    "https://github.com/fizzbee-io/fizzbee\n",
    "alloy https://practicalalloy.github.io/chapters/behavioral-modeling/index.html\n",
    "ivy?\n",
    "quint https://quint-lang.org/\n"
   ]
  },
  {
   "cell_type": "markdown",
   "id": "5d1aca86",
   "metadata": {},
   "source": [
    "# chapter 1 intro\n",
    "Alice and Bob cats and Dogs https://lamport.azurewebsites.net/pubs/solved-and-unsolved.pdf\n",
    "\n",
    "Prdoucer consumer\n",
    "\n",
    "Dining philosphers\n",
    "https://cocotec.io/fdr/ \n",
    "```\n",
    "N = 8\n",
    "\n",
    "PHILNAMES = {0..N-1}\n",
    "FORKNAMES = {0..N-1}\n",
    "\n",
    "channel thinks, sits, eats, getsup : PHILNAMES\n",
    "\n",
    "channel picks, putsdown : PHILNAMES.FORKNAMES\n",
    "\n",
    "-- A philosopher thinks, sits down, picks up two forks,\n",
    "-- eats, puts down forks and gets up, in an unending\n",
    "-- cycle.\n",
    "\n",
    "PHIL(i) =\n",
    "  thinks.i -> sits!i -> picks!i!i ->\n",
    "  picks!i!((i+1)%N) -> eats!i -> putsdown!i!((i+1)%N) ->\n",
    "  putsdown!i!i -> getsup!i -> PHIL(i)\n",
    "\n",
    "assert PHIL(0) :[deadlock free [F]]\n",
    "```\n",
    "\n",
    "\n",
    "A shared counter\n",
    "\n"
   ]
  },
  {
   "cell_type": "code",
   "execution_count": null,
   "id": "00dcb2e5",
   "metadata": {},
   "outputs": [],
   "source": [
    "%%file /tmp/configfile.cfg\n",
    "SPECIFICATION Spec\n",
    "\n",
    "INVARIANT Inv1, Inv2\n",
    "PROPERTY Prop1"
   ]
  },
  {
   "cell_type": "code",
   "execution_count": null,
   "id": "82ce98c6",
   "metadata": {},
   "outputs": [],
   "source": [
    "%%file /tmp/alias.tla\n",
    "---- MODULE aliases ----\n",
    "EXTENDS Integers\n",
    "\n",
    "VARIABLE x\n",
    "Init ==\n",
    "  x = 0\n",
    "\n",
    "Next == x' = x + 1\n",
    "Inv == x < 10\n",
    "Spec == Init /\\ [][Next]_x\n",
    "\n",
    "Alias ==\n",
    "  [x |-> x,\n",
    "   nextx |-> x',\n",
    "   incx |-> x + 1]\n",
    "====="
   ]
  },
  {
   "cell_type": "code",
   "execution_count": 15,
   "id": "f2681434",
   "metadata": {},
   "outputs": [
    {
     "name": "stdout",
     "output_type": "stream",
     "text": [
      "Writing /tmp/hello.java\n"
     ]
    }
   ],
   "source": [
    "%%file /tmp/hello.java\n",
    "\n",
    "void main() {\n",
    "    System.out.println(\"Hello, World!\");\n",
    "}"
   ]
  },
  {
   "cell_type": "markdown",
   "id": "afd85cfd",
   "metadata": {},
   "source": [
    "Amdahl's law\n",
    "\n",
    "fraction that can be aprallized p\n",
    "1 - p + p/n"
   ]
  },
  {
   "cell_type": "code",
   "execution_count": 22,
   "id": "2ccecd81",
   "metadata": {},
   "outputs": [
    {
     "name": "stdout",
     "output_type": "stream",
     "text": [
      "Note: /tmp/hello.java uses preview features of Java SE 21.\n",
      "Note: Recompile with -Xlint:preview for details.\n",
      "Hello, World!\n"
     ]
    }
   ],
   "source": [
    "! java --enable-preview --source 21 /tmp/hello.java"
   ]
  },
  {
   "cell_type": "markdown",
   "id": "9c946970",
   "metadata": {},
   "source": [
    "https://docs.oracle.com/javase/8/docs/api/java/util/concurrent/package-summary.html"
   ]
  },
  {
   "cell_type": "code",
   "execution_count": null,
   "id": "b67669e3",
   "metadata": {},
   "outputs": [
    {
     "name": "stdout",
     "output_type": "stream",
     "text": [
      "Overwriting /tmp/primePrint.java\n"
     ]
    }
   ],
   "source": [
    "%%file /tmp/primePrint.java\n",
    "\n",
    "   void main() {\n",
    "      int i = ThreadID.get(); // thread IDs are in {0..9}\n",
    "      long block = power(10, 9);\n",
    "      for ( long j = (i * block) + 1; j <= (i + 1) * block; j++) {\n",
    "   if (isPrime(j))\n",
    "      print(j);\n",
    "   }\n",
    "   }\n",
    "\n"
   ]
  },
  {
   "cell_type": "code",
   "execution_count": 23,
   "id": "5abd6e94",
   "metadata": {},
   "outputs": [
    {
     "name": "stdout",
     "output_type": "stream",
     "text": [
      "/tmp/primePrint.java:4: error: cannot find symbol\n",
      "      int i = ThreadID.get(); // thread IDs are in {0..9}\n",
      "              ^\n",
      "  symbol:   variable ThreadID\n",
      "  location: class primePrint\n",
      "/tmp/primePrint.java:5: error: cannot find symbol\n",
      "      long block = power(10, 9);\n",
      "                   ^\n",
      "  symbol:   method power(int,int)\n",
      "  location: class primePrint\n",
      "/tmp/primePrint.java:7: error: cannot find symbol\n",
      "   if (isPrime(j))\n",
      "       ^\n",
      "  symbol:   method isPrime(long)\n",
      "  location: class primePrint\n",
      "/tmp/primePrint.java:8: error: cannot find symbol\n",
      "      print(j);\n",
      "      ^\n",
      "  symbol:   method print(long)\n",
      "  location: class primePrint\n",
      "4 errors\n",
      "error: compilation failed\n"
     ]
    }
   ],
   "source": [
    "! java --enable-preview --source 21 /tmp/primePrint.java "
   ]
  },
  {
   "cell_type": "code",
   "execution_count": null,
   "id": "8471d694",
   "metadata": {},
   "outputs": [],
   "source": []
  },
  {
   "cell_type": "markdown",
   "id": "52ca1543",
   "metadata": {},
   "source": [
    "# chapter 2 Mutual Exclusion\n",
    "Bakery algorithm\n",
    "Peterson Lock\n",
    "\n",
    "https://en.wikipedia.org/wiki/Peterson%27s_algorithm\n",
    "\n",
    "https://jamesrwilcox.com/SharedMem.html proof of peterson in coq\n",
    "https://homes.cs.washington.edu/~mernst/pubs/verify-distsystem-pldi2015.pdf verdi\n",
    "\n",
    "https://harmony.cs.cornell.edu/book/#sec-33\n",
    "\n",
    "https://cs.brown.edu/~tbn/publications/peterson.pdf alloy peterson\n",
    "\n",
    "https://forge-fm.org/\n",
    "\n",
    "ivy?\n",
    "Transitive clousre vs int parametrized.\n",
    "\n",
    "https://stackoverflow.com/questions/11588514/a-tested-implementation-of-peterson-lock-algorithm\n",
    "https://bartoszmilewski.com/2008/11/05/who-ordered-memory-fences-on-an-x86/\n",
    "\n",
    "https://ocw.mit.edu/courses/6-172-performance-engineering-of-software-systems-fall-2018/resources/lecture-17-synchronization-without-locks/\n",
    "\n",
    "mutual exclusion\n",
    "no deadlock - if multuple try, at least one succeeds\n",
    "no starvation - if attempt, must eventually succeed\n",
    "\n",
    "Loom / shuttle https://github.com/awslabs/shuttle\n",
    "https://matklad.github.io/2024/07/05/properly-testing-concurrent-data-structures.html https://news.ycombinator.com/item?id=40890035\n",
    "\n",
    "https://github.com/dvyukov/relacy\n",
    "\n",
    "https://plv.mpi-sws.org/genmc/ https://github.com/mpi-sws/genmc/ Generic model checker for concurrent C programs\n",
    "\n",
    "https://github.com/microsoft/coyote/ C# https://microsoft.github.io/coyote/\n",
    "\n",
    "https://arxiv.org/abs/2501.12618 Fray Java https://github.com/cmu-pasta/fray\n",
    "\n",
    "https://p-org.github.io/P/whatisP/"
   ]
  },
  {
   "cell_type": "markdown",
   "id": "f4db6a15",
   "metadata": {},
   "source": [
    "## Spin"
   ]
  },
  {
   "cell_type": "code",
   "execution_count": 3,
   "id": "0c1b30f8",
   "metadata": {},
   "outputs": [
    {
     "name": "stdout",
     "output_type": "stream",
     "text": [
      "Writing /tmp/lock1.pml\n"
     ]
    }
   ],
   "source": [
    "%%file /tmp/lock1.pml\n",
    "\n",
    "bool flag[2];\n",
    "byte ncrit;\n",
    "\n",
    "active [2] proctype user()\n",
    "{\n",
    "\tassert(_pid == 0 || _pid == 1);\n",
    "again:\n",
    "\tflag[_pid] = 1;\n",
    "\tflag[1 - _pid] == 0;\n",
    "\n",
    "\tncrit++;\n",
    "\tassert(ncrit == 1);\t/* critical section */\n",
    "\tncrit--;\n",
    "\n",
    "\tflag[_pid] = 0;\n",
    "\tgoto again\n",
    "}"
   ]
  },
  {
   "cell_type": "code",
   "execution_count": 5,
   "id": "003a21e6",
   "metadata": {},
   "outputs": [
    {
     "name": "stdout",
     "output_type": "stream",
     "text": [
      "  1:\tproc  0 (user:1) /tmp/lock1.pml:7 (state 1)\t[assert(((_pid==0)||(_pid==1)))]\n",
      "  2:\tproc  1 (user:1) /tmp/lock1.pml:7 (state 1)\t[assert(((_pid==0)||(_pid==1)))]\n",
      "  3:\tproc  1 (user:1) /tmp/lock1.pml:9 (state 2)\t[flag[_pid] = 1]\n",
      "  4:\tproc  1 (user:1) /tmp/lock1.pml:10 (state 3)\t[((flag[(1-_pid)]==0))]\n",
      "  5:\tproc  0 (user:1) /tmp/lock1.pml:9 (state 2)\t[flag[_pid] = 1]\n",
      "  6:\tproc  1 (user:1) /tmp/lock1.pml:12 (state 4)\t[ncrit = (ncrit+1)]\n",
      "  7:\tproc  1 (user:1) /tmp/lock1.pml:13 (state 5)\t[assert((ncrit==1))]\n",
      "  8:\tproc  1 (user:1) /tmp/lock1.pml:14 (state 6)\t[ncrit = (ncrit-1)]\n",
      "  9:\tproc  1 (user:1) /tmp/lock1.pml:16 (state 7)\t[flag[_pid] = 0]\n",
      " 10:\tproc  1 (user:1) /tmp/lock1.pml:17 (state 8)\t[goto again]\n",
      " 11:\tproc  0 (user:1) /tmp/lock1.pml:10 (state 3)\t[((flag[(1-_pid)]==0))]\n",
      " 12:\tproc  0 (user:1) /tmp/lock1.pml:12 (state 4)\t[ncrit = (ncrit+1)]\n",
      " 13:\tproc  1 (user:1) /tmp/lock1.pml:9 (state 2)\t[flag[_pid] = 1]\n",
      " 14:\tproc  0 (user:1) /tmp/lock1.pml:13 (state 5)\t[assert((ncrit==1))]\n",
      " 15:\tproc  0 (user:1) /tmp/lock1.pml:14 (state 6)\t[ncrit = (ncrit-1)]\n",
      " 16:\tproc  0 (user:1) /tmp/lock1.pml:16 (state 7)\t[flag[_pid] = 0]\n",
      " 17:\tproc  1 (user:1) /tmp/lock1.pml:10 (state 3)\t[((flag[(1-_pid)]==0))]\n",
      " 18:\tproc  1 (user:1) /tmp/lock1.pml:12 (state 4)\t[ncrit = (ncrit+1)]\n",
      " 19:\tproc  1 (user:1) /tmp/lock1.pml:13 (state 5)\t[assert((ncrit==1))]\n",
      " 20:\tproc  0 (user:1) /tmp/lock1.pml:17 (state 8)\t[goto again]\n",
      " 21:\tproc  0 (user:1) /tmp/lock1.pml:9 (state 2)\t[flag[_pid] = 1]\n",
      " 22:\tproc  1 (user:1) /tmp/lock1.pml:14 (state 6)\t[ncrit = (ncrit-1)]\n",
      " 23:\tproc  1 (user:1) /tmp/lock1.pml:16 (state 7)\t[flag[_pid] = 0]\n",
      " 24:\tproc  1 (user:1) /tmp/lock1.pml:17 (state 8)\t[goto again]\n",
      " 25:\tproc  0 (user:1) /tmp/lock1.pml:10 (state 3)\t[((flag[(1-_pid)]==0))]\n",
      " 26:\tproc  0 (user:1) /tmp/lock1.pml:12 (state 4)\t[ncrit = (ncrit+1)]\n",
      " 27:\tproc  0 (user:1) /tmp/lock1.pml:13 (state 5)\t[assert((ncrit==1))]\n",
      " 28:\tproc  1 (user:1) /tmp/lock1.pml:9 (state 2)\t[flag[_pid] = 1]\n",
      " 29:\tproc  0 (user:1) /tmp/lock1.pml:14 (state 6)\t[ncrit = (ncrit-1)]\n",
      " 30:\tproc  0 (user:1) /tmp/lock1.pml:16 (state 7)\t[flag[_pid] = 0]\n",
      " 31:\tproc  0 (user:1) /tmp/lock1.pml:17 (state 8)\t[goto again]\n",
      " 32:\tproc  0 (user:1) /tmp/lock1.pml:9 (state 2)\t[flag[_pid] = 1]\n",
      "      timeout\n",
      "#processes: 2\n",
      "\t\tflag[0] = 1\n",
      "\t\tflag[1] = 1\n",
      "\t\tncrit = 0\n",
      " 32:\tproc  1 (user:1) /tmp/lock1.pml:10 (state 3)\n",
      " 32:\tproc  0 (user:1) /tmp/lock1.pml:10 (state 3)\n",
      "2 processes created\n"
     ]
    }
   ],
   "source": [
    "! spin -v /tmp/lock1.pml"
   ]
  },
  {
   "cell_type": "code",
   "execution_count": 1,
   "id": "2bebc465",
   "metadata": {},
   "outputs": [
    {
     "name": "stdout",
     "output_type": "stream",
     "text": [
      "Writing /tmp/peterson.pml\n"
     ]
    }
   ],
   "source": [
    "%%file /tmp/peterson.pml\n",
    "// https://github.com/nimble-code/Spin/blob/master/Examples/peterson.pml\n",
    "/* Peterson's solution to the mutual exclusion problem - 1981 */\n",
    "\n",
    "bool turn, flag[2];\n",
    "byte ncrit;\n",
    "\n",
    "active [2] proctype user()\n",
    "{\n",
    "\tassert(_pid == 0 || _pid == 1);\n",
    "again:\n",
    "\tflag[_pid] = 1;\n",
    "\tturn = _pid;\n",
    "\t(flag[1 - _pid] == 0 || turn == 1 - _pid);\n",
    "\n",
    "\tncrit++;\n",
    "\tassert(ncrit == 1);\t/* critical section */\n",
    "\tncrit--;\n",
    "\n",
    "\tflag[_pid] = 0;\n",
    "\tgoto again\n",
    "}"
   ]
  },
  {
   "cell_type": "markdown",
   "id": "19e0bc61",
   "metadata": {},
   "source": [
    "## tla"
   ]
  },
  {
   "cell_type": "code",
   "execution_count": 17,
   "id": "23e23942",
   "metadata": {},
   "outputs": [
    {
     "name": "stdout",
     "output_type": "stream",
     "text": [
      "Overwriting /tmp/Peterson.tla\n"
     ]
    }
   ],
   "source": [
    "%%file /tmp/Peterson.tla\n",
    "---- MODULE Peterson ----\n",
    "EXTENDS Integers\n",
    "(*\n",
    "--algorithm Peterson {\n",
    "    variables flag = [i \\in {0, 1} |-> FALSE],  turn = 0;\n",
    "        \\* Declares the global variables flag and turn and their initial values;\n",
    "        \\* flag is a 2-element array with initially flag[0] = flag[1] = FALSE.\n",
    "    fair process (proc \\in {0,1}) {\n",
    "    \\* Declares two processes with identifier self equal to 0 and 1.\n",
    "    \\* The keyword fair means that no process can stop forever if it can\n",
    "    \\* always take a step.\n",
    "    a1: while (TRUE) {\n",
    "            skip ;  \\* the noncritical section\n",
    "    a2:  flag[self] := TRUE ;\n",
    "    a3:  turn := 1 - self ;   \n",
    "    a4:  await (flag[1-self] = FALSE) \\/ (turn = self); \\* \\/ is written || in C.\n",
    "    cs:  skip ;  \\* the critical section\n",
    "    a5:  flag[self] := FALSE               }     }     }\n",
    "*)\n",
    "===="
   ]
  },
  {
   "cell_type": "code",
   "execution_count": 18,
   "id": "10eee8bc",
   "metadata": {},
   "outputs": [
    {
     "name": "stdout",
     "output_type": "stream",
     "text": [
      "pcal.trans Version 1.11 of 31 December 2020\n",
      "Parsing completed.\n",
      "Translation completed.\n",
      "New file /tmp/Peterson.tla written.\n",
      "New file /tmp/Peterson.cfg written.\n",
      "---- MODULE Peterson ----\n",
      "EXTENDS Integers\n",
      "(*\n",
      "--algorithm Peterson {\n",
      "    variables flag = [i \\in {0, 1} |-> FALSE],  turn = 0;\n",
      "        \\* Declares the global variables flag and turn and their initial values;\n",
      "        \\* flag is a 2-element array with initially flag[0] = flag[1] = FALSE.\n",
      "    fair process (proc \\in {0,1}) {\n",
      "    \\* Declares two processes with identifier self equal to 0 and 1.\n",
      "    \\* The keyword fair means that no process can stop forever if it can\n",
      "    \\* always take a step.\n",
      "    a1: while (TRUE) {\n",
      "            skip ;  \\* the noncritical section\n",
      "    a2:  flag[self] := TRUE ;\n",
      "    a3:  turn := 1 - self ;   \n",
      "    a4:  await (flag[1-self] = FALSE) \\/ (turn = self); \\* \\/ is written || in C.\n",
      "    cs:  skip ;  \\* the critical section\n",
      "    a5:  flag[self] := FALSE               }     }     }\n",
      "*)\n",
      "\\* BEGIN TRANSLATION (chksum(pcal) = \"90a768df\" /\\ chksum(tla) = \"7df2e81a\")\n",
      "VARIABLES flag, turn, pc\n",
      "\n",
      "vars == << flag, turn, pc >>\n",
      "\n",
      "ProcSet == ({0,1})\n",
      "\n",
      "Init == (* Global variables *)\n",
      "        /\\ flag = [i \\in {0, 1} |-> FALSE]\n",
      "        /\\ turn = 0\n",
      "        /\\ pc = [self \\in ProcSet |-> \"a1\"]\n",
      "\n",
      "a1(self) == /\\ pc[self] = \"a1\"\n",
      "            /\\ TRUE\n",
      "            /\\ pc' = [pc EXCEPT ![self] = \"a2\"]\n",
      "            /\\ UNCHANGED << flag, turn >>\n",
      "\n",
      "a2(self) == /\\ pc[self] = \"a2\"\n",
      "            /\\ flag' = [flag EXCEPT ![self] = TRUE]\n",
      "            /\\ pc' = [pc EXCEPT ![self] = \"a3\"]\n",
      "            /\\ turn' = turn\n",
      "\n",
      "a3(self) == /\\ pc[self] = \"a3\"\n",
      "            /\\ turn' = 1 - self\n",
      "            /\\ pc' = [pc EXCEPT ![self] = \"a4\"]\n",
      "            /\\ flag' = flag\n",
      "\n",
      "a4(self) == /\\ pc[self] = \"a4\"\n",
      "            /\\ (flag[1-self] = FALSE) \\/ (turn = self)\n",
      "            /\\ pc' = [pc EXCEPT ![self] = \"cs\"]\n",
      "            /\\ UNCHANGED << flag, turn >>\n",
      "\n",
      "cs(self) == /\\ pc[self] = \"cs\"\n",
      "            /\\ TRUE\n",
      "            /\\ pc' = [pc EXCEPT ![self] = \"a5\"]\n",
      "            /\\ UNCHANGED << flag, turn >>\n",
      "\n",
      "a5(self) == /\\ pc[self] = \"a5\"\n",
      "            /\\ flag' = [flag EXCEPT ![self] = FALSE]\n",
      "            /\\ pc' = [pc EXCEPT ![self] = \"a1\"]\n",
      "            /\\ turn' = turn\n",
      "\n",
      "proc(self) == a1(self) \\/ a2(self) \\/ a3(self) \\/ a4(self) \\/ cs(self)\n",
      "                 \\/ a5(self)\n",
      "\n",
      "Next == (\\E self \\in {0,1}: proc(self))\n",
      "\n",
      "Spec == /\\ Init /\\ [][Next]_vars\n",
      "        /\\ \\A self \\in {0,1} : WF_vars(proc(self))\n",
      "\n",
      "\\* END TRANSLATION \n",
      "====\n"
     ]
    }
   ],
   "source": [
    "! java -cp ~/Downloads/tla2tools.jar pcal.trans /tmp/Peterson.tla && cat /tmp/Peterson.tla"
   ]
  },
  {
   "cell_type": "code",
   "execution_count": 19,
   "id": "c601d6f8",
   "metadata": {},
   "outputs": [
    {
     "name": "stdout",
     "output_type": "stream",
     "text": [
      "TLC2 Version 2.19 of 08 August 2024 (rev: 5a47802)\n"
     ]
    },
    {
     "name": "stdout",
     "output_type": "stream",
     "text": [
      "Warning: Please run the Java VM which executes TLC with a throughput optimized garbage collector by passing the \"-XX:+UseParallelGC\" property.\n",
      "(Use the -nowarning option to disable this warning.)\n",
      "Running breadth-first search Model-Checking with fp 111 and seed -1918630056517602505 with 1 worker on 16 cores with 15736MB heap and 64MB offheap memory [pid: 3180596] (Linux 6.14.0-28-generic amd64, Ubuntu 21.0.8 x86_64, MSBDiskFPSet, DiskStateQueue).\n",
      "Parsing file /tmp/Peterson.tla\n",
      "Parsing file /tmp/Integers.tla\n",
      "Parsing file /tmp/Naturals.tla\n",
      "Semantic processing of module Naturals\n",
      "Semantic processing of module Integers\n",
      "Semantic processing of module Peterson\n",
      "Starting... (2025-09-03 09:28:41)\n",
      "Computing initial states...\n",
      "Finished computing initial states: 1 distinct state generated at 2025-09-03 09:28:41.\n",
      "Model checking completed. No error has been found.\n",
      "  Estimates of the probability that TLC did not check all reachable states\n",
      "  because two distinct states had the same fingerprint:\n",
      "  calculated (optimistic):  val = 8.0E-17\n",
      "77 states generated, 42 distinct states found, 0 states left on queue.\n",
      "The depth of the complete state graph search is 11.\n",
      "The average outdegree of the complete state graph is 1 (minimum is 0, the maximum 2 and the 95th percentile is 2).\n",
      "Finished in 00s at (2025-09-03 09:28:41)\n"
     ]
    }
   ],
   "source": [
    "! java -cp ~/Downloads/tla2tools.jar tlc2.TLC /tmp/Peterson.tla"
   ]
  },
  {
   "cell_type": "code",
   "execution_count": 20,
   "id": "41047fca",
   "metadata": {},
   "outputs": [
    {
     "name": "stdout",
     "output_type": "stream",
     "text": [
      "Writing /tmp/lock1.tla\n"
     ]
    }
   ],
   "source": [
    "%%file /tmp/lock1.tla\n",
    "---- MODULE lock1 ----\n",
    "EXTENDS Integers\n",
    "(*\n",
    "\n",
    "--algorithm Lock1 {\n",
    "    variables flag = [i \\in {0, 1} |-> FALSE];\n",
    "    fair process (proc \\in {0,1}) {\n",
    "    a1: while (TRUE) {\n",
    "            skip ;  \\* the noncritical section\n",
    "    a2:  flag[self] := TRUE ;\n",
    "    a4:  await (flag[1-self] = FALSE);\n",
    "    cs:  skip ;  \\* the critical section\n",
    "    a5:  flag[self] := FALSE               }     }     }\n",
    "*)\n",
    "====\n",
    "\n"
   ]
  },
  {
   "cell_type": "code",
   "execution_count": 21,
   "id": "6def621c",
   "metadata": {},
   "outputs": [
    {
     "name": "stdout",
     "output_type": "stream",
     "text": [
      "pcal.trans Version 1.11 of 31 December 2020\n",
      "Parsing completed.\n",
      "Translation completed.\n",
      "New file /tmp/lock1.tla written.\n",
      "New file /tmp/lock1.cfg written.\n",
      "TLC2 Version 2.19 of 08 August 2024 (rev: 5a47802)\n",
      "Warning: Please run the Java VM which executes TLC with a throughput optimized garbage collector by passing the \"-XX:+UseParallelGC\" property.\n",
      "(Use the -nowarning option to disable this warning.)\n",
      "Running breadth-first search Model-Checking with fp 77 and seed -3099753534938489767 with 1 worker on 16 cores with 15736MB heap and 64MB offheap memory [pid: 3187713] (Linux 6.14.0-28-generic amd64, Ubuntu 21.0.8 x86_64, MSBDiskFPSet, DiskStateQueue).\n",
      "Parsing file /tmp/lock1.tla\n",
      "Parsing file /tmp/Integers.tla\n",
      "Parsing file /tmp/Naturals.tla\n",
      "Semantic processing of module Naturals\n",
      "Semantic processing of module Integers\n",
      "Semantic processing of module lock1\n",
      "Starting... (2025-09-03 09:32:10)\n",
      "Computing initial states...\n",
      "Finished computing initial states: 1 distinct state generated at 2025-09-03 09:32:10.\n",
      "Error: Deadlock reached.\n",
      "Error: The behavior up to this point is:\n",
      "State 1: <Initial predicate>\n",
      "/\\ flag = (0 :> FALSE @@ 1 :> FALSE)\n",
      "/\\ pc = (0 :> \"a1\" @@ 1 :> \"a1\")\n",
      "\n",
      "State 2: <a1 line 26, col 13 to line 29, col 27 of module lock1>\n",
      "/\\ flag = (0 :> FALSE @@ 1 :> FALSE)\n",
      "/\\ pc = (0 :> \"a2\" @@ 1 :> \"a1\")\n",
      "\n",
      "State 3: <a2 line 31, col 13 to line 33, col 47 of module lock1>\n",
      "/\\ flag = (0 :> TRUE @@ 1 :> FALSE)\n",
      "/\\ pc = (0 :> \"a4\" @@ 1 :> \"a1\")\n",
      "\n",
      "State 4: <a1 line 26, col 13 to line 29, col 27 of module lock1>\n",
      "/\\ flag = (0 :> TRUE @@ 1 :> FALSE)\n",
      "/\\ pc = (0 :> \"a4\" @@ 1 :> \"a2\")\n",
      "\n",
      "State 5: <a2 line 31, col 13 to line 33, col 47 of module lock1>\n",
      "/\\ flag = (0 :> TRUE @@ 1 :> TRUE)\n",
      "/\\ pc = (0 :> \"a4\" @@ 1 :> \"a4\")\n",
      "\n",
      "25 states generated, 17 distinct states found, 4 states left on queue.\n",
      "The depth of the complete state graph search is 6.\n",
      "The average outdegree of the complete state graph is 1 (minimum is 0, the maximum 2 and the 95th percentile is 2).\n",
      "Finished in 00s at (2025-09-03 09:32:10)\n"
     ]
    }
   ],
   "source": [
    "! java -cp ~/Downloads/tla2tools.jar pcal.trans /tmp/lock1.tla && java -cp ~/Downloads/tla2tools.jar tlc2.TLC /tmp/lock1.tla"
   ]
  },
  {
   "cell_type": "markdown",
   "id": "1d651e53",
   "metadata": {},
   "source": [
    "### apalache\n",
    "What if I could use apalache to literally export tla to smt.\n",
    "\n",
    "https://apalache-mc.org/docs/apalache/example.html\n",
    "\n",
    "check\n",
    "simulate\n",
    "trnaspile\n"
   ]
  },
  {
   "cell_type": "code",
   "execution_count": 14,
   "id": "3453b2c6",
   "metadata": {},
   "outputs": [
    {
     "name": "stdout",
     "output_type": "stream",
     "text": [
      "Overwriting /tmp/y2k.tla\n"
     ]
    }
   ],
   "source": [
    "%%file /tmp/y2k.tla\n",
    "-------------------------------- MODULE y2k --------------------------------\n",
    "EXTENDS Integers\n",
    " \n",
    "CONSTANT\n",
    "    \\* @type: Int;\n",
    "    BIRTH_YEAR, \\* the year to start with, between 0 and 99\n",
    "    \\* @type: Int;\n",
    "    LICENSE_AGE    \\* the minimum age to obtain a license\n",
    "         \n",
    "ASSUME(BIRTH_YEAR \\in 0..99)              \n",
    "ASSUME(LICENSE_AGE \\in 1..99)              \n",
    " \n",
    "VARIABLE\n",
    "    \\* @type: Int;\n",
    "    year,\n",
    "    \\* @type: Bool;\n",
    "    hasLicense\n",
    "\n",
    "Age == year - BIRTH_YEAR \n",
    "\n",
    "Init ==\n",
    "    /\\ year = BIRTH_YEAR\n",
    "    /\\ hasLicense = FALSE\n",
    "    \n",
    "NewYear ==\n",
    "    /\\ year' = (year + 1) % 100 \\* the programmers decided to use two digits\n",
    "    /\\ UNCHANGED hasLicense\n",
    "    \n",
    "IssueLicense ==\n",
    "    /\\ Age >= LICENSE_AGE\n",
    "    /\\ hasLicense' = TRUE\n",
    "    /\\ UNCHANGED year\n",
    "    \n",
    "Next ==\n",
    "    \\/ NewYear\n",
    "    \\/ IssueLicense\n",
    "\n",
    "\\* The somewhat \"obvious\" invariant, which is violated    \n",
    "Safety ==\n",
    "    hasLicense => (Age >= LICENSE_AGE)\n",
    "\\* This is probably the only invariant we can formulate, usually, it is called TypeOK    \n",
    "Inv ==\n",
    "    /\\ year \\in 0..99\n",
    "    /\\ hasLicense \\in BOOLEAN\n",
    "==================="
   ]
  },
  {
   "cell_type": "code",
   "execution_count": 34,
   "id": "ad397e21",
   "metadata": {},
   "outputs": [
    {
     "name": "stdout",
     "output_type": "stream",
     "text": [
      "Overwriting /tmp/HourClock.tla\n"
     ]
    }
   ],
   "source": [
    "%%file /tmp/HourClock.tla\n",
    "---------------------- MODULE HourClock ----------------------\n",
    "EXTENDS Naturals\n",
    "VARIABLE \n",
    "    \\* @type: Int;\n",
    "    hr\n",
    "Init  ==  hr \\in (1 .. 12)\n",
    "Next  ==  hr' = IF hr # 13 THEN hr + 1 ELSE 1\n",
    "Inv == Init\n",
    "=============================================================="
   ]
  },
  {
   "cell_type": "code",
   "execution_count": 35,
   "id": "4479133a",
   "metadata": {},
   "outputs": [
    {
     "name": "stdout",
     "output_type": "stream",
     "text": [
      "# Usage statistics is OFF. We care about your privacy.\n",
      "# If you want to help our project, consider enabling statistics with config --enable-stats=true.\n",
      "\n",
      "Output directory: /home/philip/philzook58.github.io/_drafts/_apalache-out/HourClock.tla/2025-09-11T11-55-02_10050244532456205326\n",
      "# APALACHE version: 0.50.3 | build: be35470                       I@11:55:02.490\n",
      "Tuning: search.outputTraces=false                                 I@11:55:02.510\n",
      "PASS #0: SanyParser                                               I@11:55:02.638\n",
      "Parsing file /tmp/HourClock.tla\n",
      "Parsing file /tmp/SANYPBHwvecSS3/Naturals.tla\n",
      "PASS #1: TypeCheckerSnowcat                                       I@11:55:02.785\n",
      " > Running Snowcat .::.                                           I@11:55:02.785\n",
      " > Your types are purrfect!                                       I@11:55:02.846\n",
      " > All expressions are typed                                      I@11:55:02.846\n",
      "PASS #2: ConfigurationPass                                        I@11:55:02.846\n",
      "  > Set the initialization predicate to Init                      I@11:55:02.848\n",
      "  > Set the transition predicate to Next                          I@11:55:02.848\n",
      "  > Set an invariant to Inv                                       I@11:55:02.848\n",
      "PASS #3: DesugarerPass                                            I@11:55:02.850\n",
      "  > Desugaring...                                                 I@11:55:02.850\n",
      "PASS #4: InlinePass                                               I@11:55:02.853\n",
      "Leaving only relevant operators: CInitPrimed, Init, InitPrimed, Inv, Next I@11:55:02.853\n",
      "PASS #5: TemporalPass                                             I@11:55:02.863\n",
      "  > Rewriting temporal operators...                               I@11:55:02.863\n",
      "  > No temporal property specified, nothing to encode             I@11:55:02.863\n",
      "PASS #6: InlinePass                                               I@11:55:02.863\n",
      "Leaving only relevant operators: CInitPrimed, Init, InitPrimed, Inv, Next I@11:55:02.863\n",
      "PASS #7: PrimingPass                                              I@11:55:02.865\n",
      "  > Introducing InitPrimed for Init'                              I@11:55:02.866\n",
      "PASS #8: VCGen                                                    I@11:55:02.984\n",
      "  > Producing verification conditions from the invariant Inv      I@11:55:02.984\n",
      "  > VCGen produced 1 verification condition(s)                    I@11:55:02.988\n",
      "PASS #9: PreprocessingPass                                        I@11:55:02.993\n",
      "  > Before preprocessing: unique renaming                         I@11:55:02.993\n",
      " > Applying standard transformations:                             I@11:55:02.997\n",
      "  > PrimePropagation                                              I@11:55:02.997\n",
      "  > Desugarer                                                     I@11:55:02.998\n",
      "  > UniqueRenamer                                                 I@11:55:02.998\n",
      "  > Normalizer                                                    I@11:55:02.999\n",
      "  > Keramelizer                                                   I@11:55:03.001\n",
      "  > After preprocessing: UniqueRenamer                            I@11:55:03.002\n",
      "PASS #10: TransitionFinderPass                                    I@11:55:03.004\n",
      "  > Found 1 initializing transitions                              I@11:55:03.017\n",
      "  > Found 1 transitions                                           I@11:55:03.018\n",
      "  > No constant initializer                                       I@11:55:03.018\n",
      "  > Applying unique renaming                                      I@11:55:03.019\n",
      "PASS #11: OptimizationPass                                        I@11:55:03.020\n",
      " > Applying optimizations:                                        I@11:55:03.023\n",
      "  > ConstSimplifier                                               I@11:55:03.024\n",
      "  > ExprOptimizer                                                 I@11:55:03.025\n",
      "  > SetMembershipSimplifier                                       I@11:55:03.026\n",
      "  > ConstSimplifier                                               I@11:55:03.026\n",
      "PASS #12: AnalysisPass                                            I@11:55:03.028\n",
      " > Marking skolemizable existentials and sets to be expanded...   I@11:55:03.029\n",
      "  > Skolemization                                                 I@11:55:03.029\n",
      "  > Expansion                                                     I@11:55:03.030\n",
      "  > Remove unused let-in defs                                     I@11:55:03.031\n",
      " > Running analyzers...                                           I@11:55:03.032\n",
      "  > Introduced expression grades                                  I@11:55:03.033\n",
      "PASS #13: BoundedChecker                                          I@11:55:03.033\n",
      "State 0: Checking 1 state invariants                              I@11:55:03.263\n",
      "State 0: state invariant 0 holds.                                 I@11:55:03.266\n",
      "Step 0: picking a transition out of 1 transition(s)               I@11:55:03.268\n",
      "State 1: Checking 1 state invariants                              I@11:55:03.275\n",
      "Check the trace in: /home/philip/philzook58.github.io/_drafts/_apalache-out/HourClock.tla/2025-09-11T11-55-02_10050244532456205326/violation1.tla, /home/philip/philzook58.github.io/_drafts/_apalache-out/HourClock.tla/2025-09-11T11-55-02_10050244532456205326/MCviolation1.out, /home/philip/philzook58.github.io/_drafts/_apalache-out/HourClock.tla/2025-09-11T11-55-02_10050244532456205326/violation1.json, /home/philip/philzook58.github.io/_drafts/_apalache-out/HourClock.tla/2025-09-11T11-55-02_10050244532456205326/violation1.itf.json I@11:55:03.354\n",
      "State 1: state invariant 0 violated.                              I@11:55:03.354\n",
      "Found 1 error(s)                                                  I@11:55:03.354\n",
      "The outcome is: Error                                             I@11:55:03.356\n",
      "Checker has found an error                                        I@11:55:03.359\n",
      "It took me 0 days  0 hours  0 min  0 sec                          I@11:55:03.359\n",
      "Total time: 0.867 sec                                             I@11:55:03.359\n",
      "EXITCODE: ERROR (12)\n"
     ]
    }
   ],
   "source": [
    "! ~/Downloads/apalache/bin/apalache-mc check --length=10  --inv=Inv /tmp/HourClock.tla"
   ]
  },
  {
   "cell_type": "code",
   "execution_count": 41,
   "id": "e36de234",
   "metadata": {},
   "outputs": [
    {
     "name": "stdout",
     "output_type": "stream",
     "text": [
      "# Tool home: /home/philip/Downloads/apalache/bin\n",
      "# Package:   /home/philip/Downloads/apalache/bin/../lib/apalache.jar\n",
      "# JVM args:  -Xmx4096m\n",
      "# -Djava.io.tmpdir: /tmp/SANYDqFvTjI3F5\n",
      "#\n",
      "# Usage statistics is OFF. We care about your privacy.\n",
      "# If you want to help our project, consider enabling statistics with config --enable-stats=true.\n",
      "\n",
      "Output directory: /home/philip/philzook58.github.io/_drafts/_apalache-out/HourClock.tla/2025-09-11T12-06-51_16913358135050887983\n",
      "# APALACHE version: 0.50.3 | build: be35470                       I@12:06:51.058\n",
      "Tuning: search.outputTraces=false                                 I@12:06:51.074\n",
      "PASS #0: SanyParser                                               I@12:06:51.213\n",
      "Parsing file /tmp/HourClock.tla\n",
      "Parsing file /tmp/SANYDqFvTjI3F5/Naturals.tla\n",
      "PASS #1: TypeCheckerSnowcat                                       I@12:06:51.408\n",
      " > Running Snowcat .::.                                           I@12:06:51.408\n",
      " > Your types are purrfect!                                       I@12:06:51.465\n",
      " > All expressions are typed                                      I@12:06:51.466\n",
      "PASS #2: ConfigurationPass                                        I@12:06:51.474\n",
      "  > Set the initialization predicate to Init                      I@12:06:51.476\n",
      "  > Set the transition predicate to Next                          I@12:06:51.476\n",
      "PASS #3: DesugarerPass                                            I@12:06:51.485\n",
      "  > Desugaring...                                                 I@12:06:51.485\n",
      "PASS #4: InlinePass                                               I@12:06:51.492\n",
      "Leaving only relevant operators: CInitPrimed, Init, InitPrimed, Next I@12:06:51.493\n",
      "PASS #5: TemporalPass                                             I@12:06:51.508\n",
      "  > Rewriting temporal operators...                               I@12:06:51.508\n",
      "  > No temporal property specified, nothing to encode             I@12:06:51.508\n",
      "PASS #6: InlinePass                                               I@12:06:51.512\n",
      "Leaving only relevant operators: CInitPrimed, Init, InitPrimed, Next I@12:06:51.512\n",
      "PASS #7: PrimingPass                                              I@12:06:51.517\n",
      "  > Introducing InitPrimed for Init'                              I@12:06:51.519\n",
      "PASS #8: VCGen                                                    I@12:06:51.683\n",
      "  > No invariant given. Only deadlocks will be checked            I@12:06:51.684\n",
      "PASS #9: PreprocessingPass                                        I@12:06:51.689\n",
      "  > Before preprocessing: unique renaming                         I@12:06:51.689\n",
      " > Applying standard transformations:                             I@12:06:51.695\n",
      "  > PrimePropagation                                              I@12:06:51.695\n",
      "  > Desugarer                                                     I@12:06:51.700\n",
      "  > UniqueRenamer                                                 I@12:06:51.706\n",
      "  > Normalizer                                                    I@12:06:51.714\n",
      "  > Keramelizer                                                   I@12:06:51.719\n",
      "  > After preprocessing: UniqueRenamer                            I@12:06:51.729\n",
      "PASS #10: TransitionFinderPass                                    I@12:06:51.735\n",
      "  > Found 1 initializing transitions                              I@12:06:51.740\n",
      "  > Found 1 transitions                                           I@12:06:51.741\n",
      "  > No constant initializer                                       I@12:06:51.741\n",
      "  > Applying unique renaming                                      I@12:06:51.742\n",
      "PASS #11: OptimizationPass                                        I@12:06:51.746\n",
      " > Applying optimizations:                                        I@12:06:51.750\n",
      "  > ConstSimplifier                                               I@12:06:51.751\n",
      "  > ExprOptimizer                                                 I@12:06:51.752\n",
      "  > SetMembershipSimplifier                                       I@12:06:51.752\n",
      "  > ConstSimplifier                                               I@12:06:51.752\n",
      "PASS #12: AnalysisPass                                            I@12:06:51.756\n",
      " > Marking skolemizable existentials and sets to be expanded...   I@12:06:51.758\n",
      "  > Skolemization                                                 I@12:06:51.758\n",
      "  > Expansion                                                     I@12:06:51.759\n",
      "  > Remove unused let-in defs                                     I@12:06:51.759\n",
      " > Running analyzers...                                           I@12:06:51.760\n",
      "  > Introduced expression grades                                  I@12:06:51.765\n",
      "PASS #13: BoundedChecker                                          I@12:06:51.765\n",
      "Step 0: picking a transition out of 1 transition(s)               I@12:06:52.005\n",
      "Step 1: picking a transition out of 1 transition(s)               I@12:06:52.017\n",
      "Z3 statistics for context 0...                                    I@12:06:52.018\n",
      "conflicts=1,decisions=5,propagations=14,final checks=2,added eqs=10,mk clause=22,del clause=6,num checks=2,mk bool var=29,arith eq adapter=4,arith-lower=8,arith-upper=4,arith-conflicts=1,arith-diseq=8,arith-make-feasible=9,arith-max-columns=9,arith-max-rows=1,num allocs=14025,rlimit count=702,max memory=17.33,memory=17.33\n",
      " I@12:06:52.019\n",
      "The outcome is: NoError                                           I@12:06:52.021\n",
      "Checker reports no error up to computation length 1               I@12:06:52.022\n",
      "It took me 0 days  0 hours  0 min  0 sec                          I@12:06:52.022\n",
      "Total time: 0.961 sec                                             I@12:06:52.022\n",
      "EXITCODE: OK\n"
     ]
    }
   ],
   "source": [
    "! ~/Downloads/apalache/bin/apalache-mc check --length=1 --smt-encoding=funArrays --debug --write-intermediate /tmp/HourClock.tla"
   ]
  },
  {
   "cell_type": "markdown",
   "id": "2dfbceeb",
   "metadata": {},
   "source": [
    "## quint\n",
    "npm i @informalsystems/quint -g\n",
    "\n",
    "uses apalache. Can I dump apalache smt?"
   ]
  },
  {
   "cell_type": "code",
   "execution_count": null,
   "id": "cdcb33d1",
   "metadata": {},
   "outputs": [],
   "source": [
    "%%file /tmp/test.qnt\n",
    "\n",
    "var x: int\n",
    " \n",
    "action init = x' = 1\n",
    " \n",
    "action step = x' = x + 1\n"
   ]
  },
  {
   "cell_type": "code",
   "execution_count": 9,
   "id": "c5c137ba",
   "metadata": {},
   "outputs": [
    {
     "name": "stdout",
     "output_type": "stream",
     "text": [
      "\u001b[90mQuint REPL 0.27.0\u001b[39m\n",
      "\u001b[90m\u001b[39m\u001b[90mType \".exit\" to exit, or \".help\" for more information\u001b[39m\n",
      "\u001b[90m\u001b[39m\u001b[1G\u001b[0J>>> \u001b[5G^C\n"
     ]
    }
   ],
   "source": [
    "! quint"
   ]
  },
  {
   "cell_type": "markdown",
   "id": "f8304873",
   "metadata": {},
   "source": [
    "## alloy\n",
    "https://github.com/AlloyTools/org.alloytools.alloy/blob/master/org.alloytools.alloy.extra/extra/models/examples/algorithms/peterson.als"
   ]
  },
  {
   "cell_type": "code",
   "execution_count": 5,
   "id": "32894fcc",
   "metadata": {},
   "outputs": [
    {
     "name": "stdout",
     "output_type": "stream",
     "text": [
      "Overwriting /tmp/lock.als\n"
     ]
    }
   ],
   "source": [
    "%%file /tmp/lock.als\n",
    "module examples/algorithms/peterson\n",
    "\n",
    "open util/ordering[priority] as po\n",
    "// open util/ordering[State] as so\n",
    "\n",
    "sig pid {\n",
    "}\n",
    "\n",
    "sig priority {\n",
    "}\n",
    "\n",
    "fact {\n",
    "  # priority = # pid + 1\n",
    "}"
   ]
  },
  {
   "cell_type": "code",
   "execution_count": 6,
   "id": "32685922",
   "metadata": {},
   "outputs": [
    {
     "name": "stdout",
     "output_type": "stream",
     "text": [
      "Error\n",
      "  0. The output directory /tmp/lock contains files. Delete them or use the -f option\n"
     ]
    }
   ],
   "source": [
    "! cd /tmp && /home/philip/Downloads/alloy-6.2.0/bin/alloy exec /tmp/lock.als"
   ]
  },
  {
   "cell_type": "code",
   "execution_count": 7,
   "id": "6c4ae170",
   "metadata": {},
   "outputs": [
    {
     "name": "stdout",
     "output_type": "stream",
     "text": [
      "Writing /tmp/file.als\n"
     ]
    }
   ],
   "source": [
    "%%file /tmp/file.als\n",
    "sig Object {}\n",
    "sig Dir in Object {}\n",
    "sig File in Object {}\n",
    "\n",
    "run example {}"
   ]
  },
  {
   "cell_type": "code",
   "execution_count": 8,
   "id": "5e8c6395",
   "metadata": {},
   "outputs": [
    {
     "name": "stdout",
     "output_type": "stream",
     "text": [
      "00. run   example                      1/1     SAT\n"
     ]
    }
   ],
   "source": [
    "! cd /tmp && /home/philip/Downloads/alloy-6.2.0/bin/alloy exec /tmp/file.als"
   ]
  },
  {
   "cell_type": "markdown",
   "id": "fd76e3ea",
   "metadata": {},
   "source": []
  },
  {
   "cell_type": "markdown",
   "id": "45fa512e",
   "metadata": {},
   "source": [
    "## python. \n",
    "Use yield or await?\n",
    "hypotehsis? Take cue from rust yarn libs\n",
    "https://hypothesis.readthedocs.io/en/latest/stateful.html\n",
    "https://hypothesis.works/articles/how-not-to-die-hard-with-hypothesis/\n",
    "https://hypothesis.works/articles/rule-based-stateful-testing/ \n",
    "Seems more painful than is worth.\n",
    "\n",
    "\n",
    "\n",
    "esbmc actually supports python. Hmmm.\n",
    "\n",
    "\n",
    "pcode execution with \n"
   ]
  },
  {
   "cell_type": "code",
   "execution_count": null,
   "id": "37096e87",
   "metadata": {},
   "outputs": [],
   "source": [
    "from hypothesis.stateful import RuleBasedStateMachine, precondition, rule\n",
    "class PC(Enum):\n",
    "    Init = 0\n",
    "    Next = 1\n",
    "    Inc = 2\n",
    "    CRIT = 3\n",
    "\n",
    "class Peterson(RuleBasedStateMachine):\n",
    "    pc = [PC.Init, PC.Init]\n",
    "    flag = [False, False]\n",
    "    turn = 0\n",
    "\n",
    "    @precondition(lambda self: self.pc[0] == PC.Init and self.pc[1] == PC.Init)\n",
    "    @rule()\n",
    "    def set_flag(self):"
   ]
  },
  {
   "cell_type": "code",
   "execution_count": null,
   "id": "58741b55",
   "metadata": {},
   "outputs": [],
   "source": [
    "ProcID = kd.Enum(\"ProcID\", [\"P0\", \"P1\"])\n",
    "PC = kd.Enum(\"PC\", [\"Init\", \"Flag1\", \"Flag2\", \"Crit\", \"Exit\"])\n",
    "Spec = smt.Function(\"Spec\", smt.ArraySort(ProcID, smt.BoolSort()), smt.ArraySort(ProcID, smt.BoolSort()))\n",
    "Spec = kd.define(\"Spec\", [flag, pc, flag1, pc1], \n",
    "    smt.Or(\n",
    "        smt.And(pc[n] == PC.Init),\n",
    "        smt.And(pc[n] == PC.Flag1, flag[n] == True, pc1[n] == PC.Flag2),\n",
    "    )\n",
    ")\n",
    "\n",
    "smt.TransitiveClosure(Spec)"
   ]
  },
  {
   "cell_type": "code",
   "execution_count": null,
   "id": "1f32b5b8",
   "metadata": {},
   "outputs": [],
   "source": [
    "%%file /tmp/peterson.sv\n",
    "module peterson(\n",
    "    input clk,\n",
    "    input pid,\n",
    "    output reg flag[2],\n",
    "    output reg pc[2]\n",
    ")\n",
    "@always @(posedge clk) begin\n",
    "    switch pc[pid]\n",
    "        PC.Init: begin\n",
    "            flag[pid] <= 0;\n",
    "            pc[pid] <= PC.Flag1;\n",
    "        end\n",
    "        PC.Flag1: begin\n",
    "            flag[pid] <= 1;\n",
    "            pc[pid] <= PC.Flag2;\n",
    "        end\n",
    "        PC.Flag2: begin\n",
    "            if (flag[1 - pid] == 0) begin\n",
    "                pc[pid] <= PC.Crit;\n",
    "            end else begin\n",
    "                pc[pid] <= PC.Flag2; // wait\n",
    "            end\n",
    "        end\n",
    "        PC.Crit: begin\n",
    "            // Critical section logic here\n",
    "            pc[pid] <= PC.Exit;\n",
    "        end\n",
    "        PC.Exit: begin\n",
    "            flag[pid] <= 0;\n",
    "            pc[pid] <= PC.Init;\n",
    "        end\n",
    "\n",
    "        assert property !(pc[0] == PC.Crit && pc[1] == PC.Crit);\n",
    "endmodule"
   ]
  },
  {
   "cell_type": "code",
   "execution_count": null,
   "id": "35362029",
   "metadata": {},
   "outputs": [],
   "source": [
    "\n",
    "# \n",
    "def lock1(pid, flag):\n",
    "    assert pid == 0 or pid == 1\n",
    "    while True:\n",
    "        yield \"a0\"\n",
    "        flag[pid] = True\n",
    "        yield \"a1\"\n",
    "        flag[1 - pid] = False\n",
    "        yield \"a2\"\n",
    "\n",
    "        yield \"a3\"\n",
    "        ncrit += 1\n",
    "        yield \"a4\"\n",
    "        assert ncrit == 1  # critical section\n",
    "        yield \"a5\"\n",
    "        ncrit -= 1\n",
    "\n",
    "        flag[pid] = False\n",
    "# use hypothesis?\n",
    "def search():\n",
    "    while True:\n",
    "        flag = [False, False]\n",
    "        procs = [lock1(0, flag), lock1(1, flag)]\n",
    "        trace = []\n",
    "        for i in range(10): # 10 steps\n",
    "            try:\n",
    "                trace.append(flags.copy(), next(random.choice(procs)))\n",
    "        \n",
    "\n",
    "\n",
    "\n",
    "\n"
   ]
  },
  {
   "cell_type": "code",
   "execution_count": null,
   "id": "0064307a",
   "metadata": {},
   "outputs": [],
   "source": [
    "@dataclass\n",
    "class State:\n",
    "    flag: Tuple[bool,bool] = (False, False)\n",
    "    ncrit: int = 0\n",
    "\n",
    "def lock(pid):\n",
    "    assert pid == 0 or pid == 1\n",
    "    while True:\n",
    "        yield \"a0\"; st.flag[pid] = True\n",
    "        yield \"a1\"; st.flag[1 - pid] = False \n",
    "        yield \"a3\": st.ncrit += 1\n",
    "        yield \"a4\": assert st.ncrit == 1  # critical section\n",
    "        yield \"a5\": st.ncrit -= 1\n",
    "        yield \"a6\": st.flag[pid] = False\n",
    "\n",
    "@given(st.lists(st.sampled_from([0,1]), min_size=1, max_size=60))\n",
    "def test_protocol(sched):\n",
    "    st = State()\n",
    "    procs = [lock(pid) for pid in range(2)]\n",
    "    trace = []\n",
    "    for step in sched:\n",
    "        trace.append((step, next(procs[step])))\n"
   ]
  },
  {
   "cell_type": "code",
   "execution_count": null,
   "id": "b6618bb5",
   "metadata": {},
   "outputs": [],
   "source": [
    "def t0(pid, st):\n",
    "    return st\n",
    "def t1(pid, st):\n",
    "    return st\n",
    "def t2(pid, st):\n",
    "\n",
    "{\n",
    "    \"t0\": lambda pid, st: st,\n",
    "    \"t1\": lambda pid, st: st,\n",
    "    \"t2\": lambda pid, st: st,\n",
    "}\n",
    "\n",
    "proc = [t0,t1,t2,t3]\n"
   ]
  },
  {
   "cell_type": "markdown",
   "id": "f32d6ac8",
   "metadata": {},
   "source": [
    "Spacer. datalog. prolog\n",
    "\n",
    "Why is a one sided reachablity ok now?"
   ]
  },
  {
   "cell_type": "code",
   "execution_count": null,
   "id": "aab0deb9",
   "metadata": {},
   "outputs": [],
   "source": [
    "smt.QForAll([flags, pc], \n",
    "       , step()\n",
    ")\n",
    "\n",
    "def horn(vs, head, *bodies):\n",
    "    return [\n",
    "        smt.ForAll(vs, smt.Implies(smt.And(body), head))\n",
    "        for body in bodies\n",
    "    ]\n",
    "def horn([flag, pc], spec(flags, pc), \n",
    "         smt.And(pc[0] == PC.Init, spec() )\n",
    "         smt.And(pc[0] == PC.Flag1, flag[0] == True, pc1[0] == PC.Flag2) \n",
    "         ,\n",
    "         )"
   ]
  },
  {
   "cell_type": "markdown",
   "id": "3fa141ac",
   "metadata": {},
   "source": [
    "Memory models: Starting point is PC is totally random.\n",
    "Starting point is everyone has their own copy of memory and PC is random? Or that everyone else's PC is random.\n",
    "\n",
    "https://github.com/heidihoward/distributed-consensus-reading-list?tab=readme-ov-file#correctness-of-consensus-algorithms\n",
    "\n",
    "https://github.com/PirateshipOrg/pirateship-tla wha?\n"
   ]
  },
  {
   "cell_type": "markdown",
   "id": "a178d7cf",
   "metadata": {},
   "source": [
    "# Chapter 3 Concurrent objects\n",
    "realted?\n",
    "https://en.wikipedia.org/wiki/Input/output_automaton\n",
    "https://en.wikipedia.org/wiki/Actor_model\n",
    "\n",
    "\n",
    "A strange formal model.\n",
    "Objects, times.\n",
    "Why is the method invocation vs completion time the thing?\n",
    "A single global timeline?\n",
    "\n",
    "https://www.youtube.com/watch?v=nrUszqrlvi8  Concurrent Objects - The Art of Multiprocessor Programming - Part 1\n",
    "\n",
    "squential consystency\n",
    "linearizability\n",
    "queisecnet consistency\n",
    "\n",
    "histories\n",
    "\n",
    "FIFO\n",
    "q.deq()\n",
    "pointer to head and tail of circular\n",
    "\n",
    "no locks\n",
    "one queue thread, one deque\n",
    "\n",
    "safety and liverness properties\n",
    "state. has fields.\n",
    "set of methods.\n",
    "\n",
    "DeclareSort(\"queue\")\n",
    "algerbaic spec?\n",
    "deq(enq(x, emp)) = \n",
    "enq_end(enq_start(x))\n",
    "\n",
    "methods take time\n",
    "\n",
    "https://dl.acm.org/doi/10.1145/78969.78972 Linearizability: a correctness condition for concurrent objects\n",
    "\n",
    "https://surfingcomplexity.blog/2024/09/22/linearizability-refinement-prophecy/\n",
    "https://github.com/lorin/tla-linearizability\n",
    "https://github.com/lorin/tla-prophecy/blob/master/LinearizableQueue.tla\n",
    "\n",
    "\n",
    "\n",
    "\n",
    "https://lamport.azurewebsites.net/pubs/pubs.html#simple prophecy made simple - merz and lamport\n",
    "refinement mappings. proj(impl) = specstate\n",
    "https://lamport.azurewebsites.net/tla/hiding-and-refinement.pdf rerad before auxiliary paper?\n",
    "Auxilialty variables in TLA https://lamport.azurewebsites.net/pubs/auxiliary.pdf\n",
    "remenmber full history vs remember only largest smnallest.\n",
    "(∃∃ y : Spec1) ≡ (∃∃ min, max : Spec2)\n",
    "\n",
    "\"A history variable remembers the past.\n",
    "It is needed to find a refinement mapping to show that Spec1 implements Spec2\n",
    "when Spec2 remembers previous events longer than it has to. A prophecy variable is one that predicts the future. It is needed to find a refinement mapping\n",
    "to show that Spec1 implements Spec2 when Spec2 makes decisions before it has\n",
    "to.\"\n",
    "\n",
    "\n",
    "Refinement and model order reduction. renormalization\n",
    "https://faculty.kfupm.edu.sa/phys/imnasser/Phase_transition/Maris_Kadanoff.pdf\n",
    "exact partition functions via SDD?\n",
    "Hmm. Maybe it could stay auto differentiable? Tree decompositions. Domain decompositions.\n",
    "Transform variables to coarse grain votes and prune?\n",
    "Compress the sdd somehow and track loss of accuracy?\n",
    "I guess like, pick an add structure and fit with respect to it.\n",
    "But then you could fix the params and optimize over new structures too. Wasn't declan doing something like this that I was skeptical of. https://declanoller.github.io/2019-01-25-beating-openai-games-with-neuroevolution-agents-pretty-neat \"neuroevoluation\" NEAT https://en.wikipedia.org/wiki/Neuroevolution_of_augmenting_topologies\n",
    "\n",
    "e^{beta F} = sum e^{ H}. Effective energy while coarse grainiing.\n",
    "The sdd variable ordering tree should probably map to some spatial partitioning.\n",
    "A method to describe `(Bool...) -> R` which if `Bool(pos) -> R` that's a functional on a field.\n",
    "I guess in my ILP for ising thing, I discussed finding a minimum state in the presence of sources. I had a whole CSP ~ something.\n",
    "Topological fields ~ frustration globality something something. Spin Ice. Dimer models.\n",
    "\n",
    "\n",
    "\"\n",
    "Something that tickles some part of my brain is the relationship of all this to dynamical systems, controls systems, classical mechanics etc. Time being of essence makes sense. The distinction between internal states and observations is a common on in kalman filters for example. Invariants (energy, momentum) are a nice method to say something about a dynamical system. Termination measures and lyapunov functions are pretty similar things. know lamport took cues from physics for the clock ideas and a focus on invariants. Something about prophecy variables reminds me of https://en.wikipedia.org/wiki/Green%27s_function#Advanced_and_retarded_Green's_functions a non intuitive variety of green's function for which the influence propagates backwards in time. The more intuitive thing to propagate backwards is kalman filter like stuff, where you use future observations to infer a past state rather than integrate applied forces/control inputs to propagate states forward, but I think it's similar math.\n",
    "This feels like one of those things that is hard to do anything with except pass over in silence\n",
    "https://en.wikipedia.org/wiki/Observability\n",
    "There is something about kalman filters or https://en.wikipedia.org/wiki/Alpha_beta_filter where you store only a little bit of state, whereas in principle you might store the entire history you've seen and run a big honking online opitmization/fit over the entire history\n",
    "The filtering dual of an mpc https://en.wikipedia.org/wiki/Model_predictive_control\n",
    "https://en.wikipedia.org/wiki/Moving_horizon_estimation\n",
    "Refinement kind of reminds me of https://en.wikipedia.org/wiki/Model_order_reduction\n",
    "\"\n",
    "\n",
    "\n",
    "prophecy - wasn't this part of borrowing tricks in https://www.riec.tohoku.ac.jp/~unno/papers/pldi2025.pdf creusot aeneas\n",
    "Something is tickling in my brain about green's functions. Advanced / ret / feynman prescription\n",
    "https://dl.acm.org/doi/10.1145/3371113  The future is ours: prophecy variables in separation logic\n",
    "\n",
    "refinement of nondet container to fifo or lifo. for every fifo we can describe a container (set). For every container there is more than one fifo quee. We've forgotten something. The set is the list quotiented. A canonical one. Or a sorted list as set. `canon(fifo) = set`. If canon12(state1) = state2 and canon21(state2) = state1 we have a equivalence (?)\n",
    "\n",
    "\n",
    "Transfer function/ Propagator vs Requirement function (where must this thing be in order to receive a force and end up there (at 0). Observation function? Inference function? )\n",
    "\n",
    "\n",
    "Specifying Systems uses an example of a linearizable memory in Section 5.3\n",
    "\n",
    "https://surfingcomplexity.blog/2023/12/31/consistency/\n",
    "\n",
    "https://muratbuffalo.blogspot.com/2024/08/linearizability-correctness-condition.html failing responses - differerentiated histories trick https://arxiv.org/pdf/1611.00580\n",
    "\n",
    "https://surfingcomplexity.blog/2024/10/28/serializability-and-tla/\n",
    "\n",
    "https://davecturner.github.io/2018/02/12/tla-in-isabelle.html\n",
    "\n",
    "\"Consistency properties\" https://jepsen.io/consistency/models https://jepsen.io/consistency/models/linearizable\n",
    "\"isolation properties\"\n",
    "\n",
    "https://arxiv.org/pdf/1512.00168  Consistency in Non-Transactional Distributed Storage Systems\n",
    "\n",
    "There's something analytic feeling about this method interval model. We want to be able to treat intervals as if they were points = linearizable.\n",
    "Is there a model of the formula   xstart <= x <= xend. A model is a refinement of a kind. Adjunction between syntax and semantics\n",
    "rays are bad. etendue bundles are good. classical to quantum transition etendue ~ hbar.\n",
    "volumes not points.\n",
    "\n",
    "how to distinguish acceptable and unaccpetable siutations.\n",
    "\n"
   ]
  },
  {
   "cell_type": "code",
   "execution_count": null,
   "id": "cc3a3e92",
   "metadata": {},
   "outputs": [],
   "source": [
    "Event = kd.Inductive(\"Event\")\n",
    "Event.declare(\"enq\", ())\n",
    "Event.declare(\"deq\")\n",
    "\n",
    "Event = kd.datatype(\"type Event = Enq(int, int) | Deq(int, int)\")\n",
    "SeqSort(Event)"
   ]
  },
  {
   "cell_type": "code",
   "execution_count": null,
   "id": "3eefa953",
   "metadata": {},
   "outputs": [],
   "source": [
    "%%file /tmp/fifo.java\n",
    "\n"
   ]
  },
  {
   "cell_type": "code",
   "execution_count": null,
   "id": "a83fd81b",
   "metadata": {},
   "outputs": [],
   "source": [
    "import kdrag.theories.logic.temporal as tla\n",
    "\n",
    "def BigExists(xs, P):\n",
    "    return smt.Exists(xs, P)\n",
    "def LittleExists(xs, P): # TExists\n",
    "    return smt.Lambda([t], smt.Exists([x], P(t)))\n",
    "\n"
   ]
  },
  {
   "cell_type": "markdown",
   "id": "ac0b48d1",
   "metadata": {},
   "source": [
    "What is an interface for a logic?\n"
   ]
  },
  {
   "cell_type": "code",
   "execution_count": null,
   "id": "40ac3ef4",
   "metadata": {},
   "outputs": [],
   "source": [
    "from typing import Protocol\n",
    "\n",
    "class Logic(Protocol):\n",
    "    def Prop(self, name: str) -> smt.Expr: ...\n",
    "    and_ : smt.FuncDeclRef\n",
    "    or_ : smt.FuncDeclRef\n",
    "    not_ : smt.FuncDeclRef\n",
    "    implies : smt.FuncDeclRef # Prop -> Prop -> Prop\n",
    "    valid : smt.FuncDeclRef # Prop -> Bool. A Set?\n",
    "\n",
    "# interesting...\n",
    "tele = pdefine(\"andi\", [(p, valid), (q,valid)], valid,\n",
    "                        and_(p, q), by=[])\n",
    "\n",
    "\n",
    "\n",
    "\n"
   ]
  },
  {
   "cell_type": "markdown",
   "id": "0e760ca5",
   "metadata": {},
   "source": [
    "### Prophecy\n",
    "\n",
    "\n",
    "Notes on Prophecy Variables\n",
    "---------------------------\n",
    "A system's behavior is a sequence of states\n",
    "Not all states are always visible; states can be internal. So a behavior is really a sequence of pairs of states, a visible state and an internal state.\n",
    "A specification should describe only visible state.\n",
    "A specification should not distinguish between behaviors that differ only with respect to internal states.\n",
    "A change solely in in internal state causes a \"stutter\" in the behavior that results from attending to only the visible states; a stutter is a repetition of a visible state.\n",
    "Let Γs be the set of behaviors that are like s, differing only with respect to stuttering - adding and deleting finite runs of repeated state.\n",
    "A specification that permits s should permit anything in Γs.[^1]\n",
    "A low level specification L implements another higher level specification H if they're talking about the same kind of visible state (but maybe specify systems with different internal state. E.g. a algorithm that involves an internal counter vs a hardware implementation of that algorithm), and for every sequence\n",
    "(v₁,i₁), (v₂,i₂), …\n",
    "that L allows, there's a corresponding behavior\n",
    "(v₁,i'₁), (v₂,i'₂), …\n",
    "with the same visible behavior (up to stuttering), allowed by H. (so if you throw away the internal state on both sides, then closing the behaviors allowed by H under stuttering will include all the behaviors allowed by L). One nice way to prove implementation is to find a refinement mapping f such that if\n",
    "(v₁,i₁), (v₂,i₂), …\n",
    "is allowed by L, then\n",
    "f(v₁,i₁), f(v₂,i₂), …\n",
    "is allowed by H. Even if L implements H though, the existence of a mapping like this isn't guaranteed.\n",
    "A refinement mapping might not exist, first of all, because the internal state of H might be more fine-grained than L in a way that it unrecoverable from the state of L. For example, if the visible state is the low order bit, and H is a three bit clock, then H could be implemented by an L with no internal state, and just alternating 1,0 for visible state.\n",
    "The fix for this sort of situation is to add history variables to L, which basically record what's already happened to L, but don't interact otherwise, so in the case above, you might add a counter n to L's state so that when you need to map an L state to an H state, you can read the value of H's counter off of L's history variable.\n",
    "You might also have non-determinism that happens at different times, leading to a different kind of non-recoverability. For example, L might pick a random number at each tick of the clock, throwing the first away and displaying the rest, while H might pick one, and display the pick on the next round. So L's behaviors would be like:\n",
    "    (•,()), (1,()), (50,()), (42,()) …\n",
    "and H's would be like:\n",
    "    (•,1), (1,50), (50,42), (42,75) …\n",
    "In this case, you can't produce a refinement map to recover a corresponding state of H from a state of L, even though they both implement each other. And you can't figure out that the last state in the sequence should be (42,75), no matter how much additional historical information you pack into (42,()). In this case you need to enrich the behaviors of L with prophecy variables. A prophecy variable decides, in advance, what non-deterministic choices L is going to make. In the example above, H is just L plus a prophecy variable.\n",
    "There's also an extra move where you pack extra stuttering into prophecy variable changes, by not just adding them alongside the existing behaviors of L but by getting the behaviors of the new system by also replacing individual states of L with runs of state in which the L part doesn't change but the prophecy variable bounces around. So prophecy variables can be abused to take care of the scenario where H \"runs slower\" than L, for example if the visible state is the hour hand of a clock, and H includes minute and second hands, while L includes just the minute hand.\n",
    "If you define everything *way* more precisely, then the big theorem is, I think, that, subject to reasonable constraints on H, L, if L implements H, then there's an L' obtained from L by adding a prophecy and a history variable such that there's a refinement mapping from L' to H.\n",
    "[^1]: Such a specification will always be the conjunction of a safety and a liveness property!\n",
    "If you think of the sequences as topologized like Baire space, where basic clopens are Sᵨ where ρ is a finite sequence, then  a safety property is a closed set, since its complement is defined to be sequences that have certain initial segments, and a liveness property is a dense set, since a liveness property can always happen, so no matter what prefix you chose, some element of the liveness property lives in the corresponding basic open. So actually any set S of behaviors at all is the conjunction of a safety and a liveness property: take the topological closure C of S. The consider the union U of S and the complement of C. I claim U is dense: consider any nonempty open set O. If O does not intersect S, then O's complement contains S, and is closed, and therefore contains C. But then O lies in (and intersects) the complement of C. However U intersect C = S, so S is the intersection of a closed and a dense set"
   ]
  },
  {
   "cell_type": "markdown",
   "id": "5d8d3107",
   "metadata": {},
   "source": [
    "# Chapter 4 Foundations of Shared Memory"
   ]
  },
  {
   "cell_type": "markdown",
   "id": "5f19f7d2",
   "metadata": {},
   "source": [
    "# Rust Atomics\n",
    "https://marabos.nl/atomics/\n",
    "\n",
    "A processort\n",
    "\n"
   ]
  }
 ],
 "metadata": {
  "kernelspec": {
   "display_name": "philzook58.github.io",
   "language": "python",
   "name": "python3"
  },
  "language_info": {
   "codemirror_mode": {
    "name": "ipython",
    "version": 3
   },
   "file_extension": ".py",
   "mimetype": "text/x-python",
   "name": "python",
   "nbconvert_exporter": "python",
   "pygments_lexer": "ipython3",
   "version": "3.12.3"
  }
 },
 "nbformat": 4,
 "nbformat_minor": 5
}
