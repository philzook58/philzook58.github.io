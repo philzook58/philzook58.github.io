{
 "cells": [
  {
   "cell_type": "code",
   "execution_count": null,
   "metadata": {},
   "outputs": [],
   "source": [
    "from z3 import * \n",
    "\n",
    "\n",
    "\n",
    "\n",
    "\n"
   ]
  },
  {
   "cell_type": "markdown",
   "metadata": {},
   "source": [
    "https://kristerw.github.io/2022/11/01/verifying-optimizations/#fn:memory\n",
    "https://lawrencecpaulson.github.io/2021/12/01/Undefined.html\n",
    "https://xenaproject.wordpress.com/2020/07/05/division-by-zero-in-type-theory-a-faq/\n",
    "https://proofassistants.stackexchange.com/questions/602/how-to-represent-mathematical-partial-functions-in-a-type-theory-based-proof-ass\n"
   ]
  },
  {
   "cell_type": "code",
   "execution_count": null,
   "metadata": {},
   "outputs": [],
   "source": []
  },
  {
   "cell_type": "code",
   "execution_count": null,
   "metadata": {},
   "outputs": [],
   "source": []
  },
  {
   "cell_type": "code",
   "execution_count": null,
   "metadata": {},
   "outputs": [],
   "source": []
  },
  {
   "cell_type": "markdown",
   "metadata": {},
   "source": [
    "https://www.cs.cornell.edu/courses/cs6120/2020fa/blog/alive/\n",
    "https://blog.regehr.org/archives/1170\n",
    "\n",
    "```\n",
    "%a = sdiv %X, C \n",
    "%r = sub 0, %a \n",
    "  =>\n",
    "%r = sdiv %X, -C\n",
    "```\n",
    "Overflow is also undefined behavior. That can really bite ya\n",
    "\n",
    "\n",
    "```\n",
    "Pre: C1 & C2 == 0 && MaskedValueIsZero(%V, ∼C1)\n",
    "%t0 = or   %B,  %V\n",
    "%t1 = and %t0,  C1\n",
    "%t2 = and  %B,  C2\n",
    "%R  = or  %t1, %t2\n",
    "=>\n",
    "%R  = and %t0, (C1 | C2)\n",
    "```\n",
    "\n",
    "Undefined behavior.\n",
    "state -> option state. model 1. In the none case, nothing is returned\n",
    "\n",
    "A different undefined / partial function model. \n",
    "\n",
    "\n",
    "## Pure Partiality Modelling\n",
    "Division by zero is \n",
    "\n",
    "Which of these models is preferred:\n",
    "- The one that does the least surprising things\n",
    "- The one that allows the most desirable optimizations\n",
    "\n",
    "\n",
    "Things that we think of as undefined even in a pure-ish context (we might mean by pure)\n",
    "- Division by zero\n",
    "- Non termination\n",
    "- Ill typed combinations of terms. Occurs in categorical modelling, lowering stronger type systems (Coq) to weaker typed (z3).\n",
    "\n",
    "THese are not orthogonal. A type `{x | x != 0}` might show up in coq and we just erase it, but now we need to deal with div-0\n",
    "\n",
    "This is all a general quotienting/refinement phenomenon. We make a free mathemtical theory having more stuff than we watn and we try to cut away things via equations and preconditions of usage. It's often hard  (impossible?) to have a system that only expresses the things we want in a very deep sense by construction. I suppose this is the appeal of dependent types, but they are a distaster in their own way, and in another sense are still just this cutting phenomneon. The proof objligations of usage are the result of the non trivial quotienting / refinmenet.\n",
    "\n",
    "\n",
    "The big idea of denotational semantics is to reify nontermination as a kind of partiality or special value. \n",
    "\n",
    "Consistent return values. In this example x/0 returns the same thing every time.\n",
    "\n",
    "This is more like implementation defined behavior. The pure form of this is `impl_record -> value`. So the semantics of expressions that include divide by zero is `R -> R` whre we take in an implementation defined div 0.\n",
    "\n",
    "\n",
    "We merely do not speak of what the function returns when it ecueives inappropriate stuff.\n",
    "Undefinedness is self consistent in a single model, but can vary across models."
   ]
  },
  {
   "cell_type": "code",
   "execution_count": 9,
   "metadata": {},
   "outputs": [
    {
     "name": "stdout",
     "output_type": "stream",
     "text": [
      "proved\n",
      "[x = 7719, /0 = [else -> 0]]\n",
      "[x = 7719, /0 = [else -> 11]]\n"
     ]
    }
   ],
   "source": [
    "from z3 import *\n",
    "x = Real(\"x\")\n",
    "prove(x/0 == x / 0)\n",
    "\n",
    "solve(x / 0 <=  10) # here /0 \n",
    "solve(x / 0 >  10)\n"
   ]
  },
  {
   "cell_type": "markdown",
   "metadata": {},
   "source": [
    "A different model is kind of turning x into a source of randomness. The randomness is samles at every use\n",
    "\n",
    "We kind of want hilbert epslilon, but we don't even, because we want epsilon to choose something idfferent every time. I'm not sure if epsilon is required to always pick the same thing given the same predicate\n",
    "\n",
    "We can also treat this relationally to compare with the previous method. If we constrain inputs to be equal of two freshly named programs, \n",
    "Optimizations are allowed that preserve correspondence or are allowed if the original program did not preserve correspondence.\n",
    "This method is typical in information security modelling.\n",
    "\n",
    "The \"high\" variables are the undefined ones and the \"low\" ones are the defined ones. We do not want high data leaking into low data. WHat is high vs low is intertwined with what happens, and not just particular variables. Things become high. Some I suppose maybe it's a 3 or 4 relation. 2 copies of original, 2 copies of modified.\n",
    "\n",
    "We could also do a probablistic model of undefined behavior. It'd be surprising if this helped us. Maybe we could start to use pyro beysian update stuff for finding optimizations? Me dunno.\n",
    "\n",
    "\n",
    "A lot of the endeavors  of programing language semantics is try and make sense of undefined beahvior. The most classic version of this is non termination, which has been with us since the dawn of theory of computation\n",
    "\n"
   ]
  },
  {
   "cell_type": "markdown",
   "metadata": {},
   "source": [
    "This is kind of like unpacking an ADT into union struct form. We have tags that say which case we're in, but we keep around all the stuff."
   ]
  },
  {
   "cell_type": "code",
   "execution_count": null,
   "metadata": {},
   "outputs": [],
   "source": [
    "from dataclasses import dataclass\n",
    "\n",
    "@dataclass \n",
    "class Var():\n",
    "    is_undef : BoolRef\n",
    "    is_poison : BoolRef\n",
    "    val: ExprRef\n",
    "    sort : SortRef\n",
    "\n",
    "    def __init__(self):\n",
    "        self.is_undef = FreshBool(\"undef\")\n",
    "        self.is_poison = FreshBool() \n",
    "\n",
    "    def read(self):\n",
    "        # Hmm. Read needs to return poison, so it's a Maybe(Int). Maybe we should move this stuff into \n",
    "        return If(self.is_undef, FreshConst(self.sort),\n",
    "               If(self.is_poison, \n",
    "                   \n",
    "# us the CF/Max style output\n",
    "\n",
    "    def __add__(x: Var, y : Var):\n",
    "        return Var(\n",
    "        Or(x.is_undef, y.is_undef, x.val + y.val > int_max, x.val + y.val < int_min), #overflow causes undef\n",
    "        Or(x.is_poison, y.is_poison),\n",
    "        If(x.is_undef, FreshConst(\"x\", x.val.sort()), x.val) + If(y.is_undef, FreshConst(\"y\", y.val.sort()), y.val),\n",
    "        )\n",
    "\n",
    "    def __div__()\n",
    "\n",
    "\n",
    "\n",
    "class Block():\n",
    "    pass\n",
    "    "
   ]
  },
  {
   "cell_type": "code",
   "execution_count": 3,
   "metadata": {},
   "outputs": [
    {
     "name": "stdout",
     "output_type": "stream",
     "text": [
      "counterexample\n",
      "[x = K(Real, True), y = 3, z = 2]\n"
     ]
    }
   ],
   "source": [
    "x = Const(\"x\", SetSort(RealSort()))\n",
    "\n",
    "z,y = Reals(\"z y\")\n",
    "\n",
    "# no true obviosuly\n",
    "prove(Implies(And(x[z], x[y]), z == y))\n",
    "\n",
    "def undef(x):\n",
    "    return Size(x) != 1\n",
    "\n"
   ]
  },
  {
   "cell_type": "code",
   "execution_count": null,
   "metadata": {},
   "outputs": [],
   "source": [
    "class State():\n",
    "    ub : BoolRef\n",
    "    regfile : dict[str, Var]\n",
    "\n",
    "\n",
    "class Block():\n",
    "    "
   ]
  },
  {
   "cell_type": "markdown",
   "metadata": {},
   "source": [
    "Another model of \"pure\" undefinedness is to use an option type\n"
   ]
  },
  {
   "cell_type": "code",
   "execution_count": 4,
   "metadata": {},
   "outputs": [
    {
     "name": "stdout",
     "output_type": "stream",
     "text": [
      "proved\n"
     ]
    }
   ],
   "source": [
    "MaybeReal = Datatype(\"Maybe<Real>\")\n",
    "MaybeReal.declare(\"none\")\n",
    "MaybeReal.declare(\"Some\", (\"getsome\", RealSort()))\n",
    "MaybeReal = MaybeReal.create()\n",
    "x = Const(\"x\", MaybeReal)\n",
    "prove(x == x)\n",
    "\n",
    "def undef(x):\n",
    "    return MaybeReal.is_none(x)\n"
   ]
  },
  {
   "cell_type": "markdown",
   "metadata": {},
   "source": [
    "I've been using the theory of Real. If you have an undefined sort, there is also the option of putting the none into the reals itself. This is a kind of extended reals with a `NaN` value. Alternaitvely, you could do the /0 verion that says that dividing by zero is merely not a \"standard\" real / a nonstandard rwal, of which there may be many. You could think of this as multiple `NaN` values or perhaps something more exotic headed towards the hyperreals.\n"
   ]
  },
  {
   "cell_type": "markdown",
   "metadata": {},
   "source": [
    "## Stateful Models\n",
    "\n",
    "We can purely model state using functions that take in states and output states. The pure dependence then tracks the temporal dependence.\n",
    "The state i have in mind is a env/store. A heap may be more complicated.\n",
    "\n",
    "`State -> Option state`\n",
    "\n",
    "`State -> list state` # non determinsim style undef\n",
    "\n",
    "We can mix them `state -> option list state` or `state -> list option state`\n",
    "\n",
    "Both of these can be embedded in the transition relation model. Partial functions and multisvlaue functions are both relations.\n",
    "Which is quite close to modelling a tranistion relation\n",
    "`State -> State -> Bool`.\n",
    "\n",
    "\n",
    "We could define the values to depend on the state variable for undefined behavior like div zero. Then every \"pure' function becomes impure. This seems harsh.\n",
    "\n",
    "\n",
    "We might also just reject the entire idea tha purified models of stateful processes is a valid endeavor. Perhaps for some, reasoning about state is more intutitive than reasoning about more static mathematical things.\n",
    "Hoare logic maybe. I don't know if you'd count this a a pure model or not. It is methematical. Predicate transformer semantics.\n",
    "\n",
    "Writing list append iterativly vs recursviely. Familiarty  can trump other qualities of specification\n",
    "\n",
    "\n",
    "\n",
    "\n",
    "\n",
    "\n"
   ]
  },
  {
   "cell_type": "markdown",
   "metadata": {},
   "source": [
    "# Refinement reasoning\n",
    "\n",
    "In what sense is `x/0 -> 42` acceptable?"
   ]
  },
  {
   "cell_type": "markdown",
   "metadata": {},
   "source": [
    "https://www.pypy.org/posts/2022/12/jit-bug-finding-smt-fuzzing.html\n",
    "https://users.cs.utah.edu/~regehr/alive2-pldi21.pdf\n",
    "\n",
    "gimple\n",
    "\n",
    "refinement reasoning. How?\n",
    "\n",
    "There's a python alive somwehe\n",
    "\n",
    "https://github.com/AliveToolkit/alive2\n",
    "https://alive2.llvm.org/ce/"
   ]
  },
  {
   "cell_type": "code",
   "execution_count": null,
   "metadata": {},
   "outputs": [],
   "source": [
    "from z3 import *\n",
    "import llvmlite\n",
    "Value = Datatype(\"Value\")\n",
    "#Value.declare(\"undef\")\n",
    "Value.declare(\"Power\", (\"set\", Set(BitVecSort(64))))\n",
    "Value.declare(\"poison\")\n",
    "Value.declare(\"bv64\", (\"v\", BitVecSort(64)))\n",
    "Value = Value.create()\n",
    "\n",
    "\n",
    "def plus(x,y):\n",
    "    return If(Or(Value.is_undef(x), Value.is_undef(y)), Value.undef,\n",
    "            If(Or(Value.is_point(x), Value.is_poison(y), Value.poison,\n",
    "                  Value.bv64(Value.v(x) +  Value.v(y))))\n",
    "\n",
    "\n",
    "\n",
    "\n",
    "\n"
   ]
  }
 ],
 "metadata": {
  "kernelspec": {
   "display_name": "Python 3",
   "language": "python",
   "name": "python3"
  },
  "language_info": {
   "codemirror_mode": {
    "name": "ipython",
    "version": 3
   },
   "file_extension": ".py",
   "mimetype": "text/x-python",
   "name": "python",
   "nbconvert_exporter": "python",
   "pygments_lexer": "ipython3",
   "version": "3.10.12"
  }
 },
 "nbformat": 4,
 "nbformat_minor": 2
}
