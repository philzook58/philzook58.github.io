{
 "cells": [
  {
   "cell_type": "markdown",
   "metadata": {},
   "source": [
    "authentication logic\n",
    "Oso\n",
    "Polar\n",
    "\n",
    "Infer from data the rules? Ben's problem\n",
    "\n",
    "\n"
   ]
  }
 ],
 "metadata": {
  "language_info": {
   "name": "python"
  }
 },
 "nbformat": 4,
 "nbformat_minor": 2
}
