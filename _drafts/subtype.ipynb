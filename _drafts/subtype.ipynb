{
 "cells": [
  {
   "cell_type": "markdown",
   "id": "988bbc05",
   "metadata": {},
   "source": [
    "Biuniification\n",
    "\n",
    "I should implement a hinldey milner. On some level I think of it as what happens naturally as you use prolog to perform type checking.\n",
    "But it also has a flavor of CLP where there is a side carried constraint store.\n",
    "\n",
    "It's interesting that the two subjects are \n",
    "\n",
    "Try elpi.\n",
    "\n",
    "\n",
    "pottier. constraint graph\n",
    "simple essence\n",
    "\n",
    "\n",
    "Parse python and hindley milner it?\n",
    "\n",
    "Use relationship to second order logic?\n",
    "\n",
    "\n",
    "\n",
    "\n",
    "https://en.wikipedia.org/wiki/Bounded_quantification#F-bounded_quantification\n",
    "\n",
    "https://en.wikipedia.org/wiki/Hindley%E2%80%93Milner_type_system\n",
    "\n",
    "https://www.youtube.com/watch?v=NkAt9eApGSw\n",
    "\n",
    "https://counterexamples.org/title.html\n",
    "\n",
    "https://okmij.org/ftp/ML/generalization.html\n",
    "regions.\n",
    "What about using a vector based union find?\n",
    "\n",
    "\n",
    "https://www.microsoft.com/en-us/research/wp-content/uploads/2016/02/tldi10-vytiniotis.pdf Let should not be generalized\n",
    "\n",
    "https://citeseerx.ist.psu.edu/document?repid=rep1&type=pdf&doi=dbe447bae9782dac976de8ef028f3324c53d6414 type inference and equational theoires\n",
    "\n",
    "\n",
    "https://bernsteinbear.com/blog/type-inference/\n",
    "\n",
    "\n",
    "Type checking as a programming language.\n",
    "hm()\n",
    "Typeclass prolog is known to be a way to program at the typelevel.\n",
    "\n",
    "Undecidable typechecking becomes reasonable.\n",
    "\n",
    "\n",
    "```\n",
    "type schema = var list * \n",
    "```\n",
    "\n",
    "\n",
    "https://okmij.org/ftp/Haskell/AlgorithmsH.html#teval interpreting types as abstract values\n",
    "\n",
    "https://byorgey.wordpress.com/2021/09/08/implementing-hindley-milner-with-the-unification-fd-library/\n",
    "\n",
    "Didier Remy and Pottier in ATAPL https://pauillac.inria.fr/~fpottier/publis/emlti-final.pdf essence of hinldye milder\n",
    "\n",
    "\n",
    "Can I just yolo making an inequality union\n",
    "\n",
    "For lattices `a <= b` is the same thing as `a = join(a,b)`. Lattices are an equational theory.\n",
    "It is an extensible theory too. Are finitely presented lattices solvable? https://www.jstor.org/stable/2042634 Yes. Hmm. In marche there was ACI. Is that a lattice theory?\n",
    "This is kind of just another view on mainting the sets of things you're less than and greater to. The obvious thing.\n",
    "Basically transiitive cloure.\n",
    "\n",
    "monotonicity means f(a cup b) = f(a) cup f(b)\n",
    "The analog of group invariant.\n",
    "\n",
    "\n",
    "What about extensible groups? No, that is the word problem.\n",
    "\n",
    "What about free kleene algebra? Ought to be ok.\n",
    "Hmm. What about adding KAT to egraph as a theory.\n",
    "\n",
    "\n",
    "Even bottom up has a search character if subvariant. Hmm. You can jump to any of your upper or lower bounds depending if you're \n",
    "contra covariant.\n",
    "The applier only knows this and should decide to expand upward or not.\n",
    "\n",
    "The top level of \n",
    "a  <= b  implicitly says that all lowers of a are below uppers of b. So <= is kind of covariant also in first are and contra in second at top level of rule.\n"
   ]
  },
  {
   "cell_type": "code",
   "execution_count": null,
   "id": "5a581a51",
   "metadata": {},
   "outputs": [],
   "source": [
    "class LEFind():\n",
    "    def __init__(self):\n",
    "        self.parents = {}\n",
    "        self.upper = {}\n",
    "        self.lower = {}"
   ]
  },
  {
   "cell_type": "code",
   "execution_count": null,
   "id": "2b8c6bab",
   "metadata": {},
   "outputs": [
    {
     "name": "stdout",
     "output_type": "stream",
     "text": [
      "Overwriting /tmp/test.ml\n"
     ]
    }
   ],
   "source": [
    "%%file /tmp/test.ml\n",
    "#use \"topfind\";;\n",
    "#require \"core.kernel\";;\n",
    "print_endline \"Hello, World!\";;\n",
    "\n"
   ]
  },
  {
   "cell_type": "code",
   "execution_count": 34,
   "id": "f13cd059",
   "metadata": {},
   "outputs": [
    {
     "name": "stdout",
     "output_type": "stream",
     "text": [
      "No such package: core.kernel\n",
      "Hello, World!\n"
     ]
    }
   ],
   "source": [
    "! ocaml /tmp/test.ml"
   ]
  },
  {
   "cell_type": "code",
   "execution_count": 50,
   "id": "e0c19593",
   "metadata": {},
   "outputs": [
    {
     "name": "stdout",
     "output_type": "stream",
     "text": [
      "Overwriting /tmp/test\n"
     ]
    }
   ],
   "source": [
    "%%file /tmp/test\n",
    "#!/usr/bin/env cabal\n",
    "{- cabal:\n",
    "build-depends:\n",
    "  base >=4.19.0.0,\n",
    "  haskell-say ^>=1.0.0.0\n",
    "-}\n",
    "\n",
    "import HaskellSay (haskellSay)\n",
    "\n",
    "main :: IO ()\n",
    "main = haskellSay \"Hello, Haskell!\"\n",
    "\n",
    "\n",
    "-- https://cabal.readthedocs.io/en/stable/getting-started.html#running-a-single-file-haskell-script\n"
   ]
  },
  {
   "cell_type": "code",
   "execution_count": 51,
   "id": "1e35c3b5",
   "metadata": {},
   "outputs": [
    {
     "name": "stdout",
     "output_type": "stream",
     "text": [
      "  ________________________________________________________\n",
      " /                                                        \\\n",
      "| Hello, Haskell!                                          |\n",
      " \\____       _____________________________________________/\n",
      "      \\    /\n",
      "       \\  /\n",
      "        \\/\n",
      "  _____   _____\n",
      "  \\    \\  \\    \\\n",
      "   \\    \\  \\    \\\n",
      "    \\    \\  \\    \\\n",
      "     \\    \\  \\    \\  \\-----------|\n",
      "      \\    \\  \\    \\  \\          |\n",
      "       \\    \\  \\    \\  \\---------|\n",
      "       /    /  /     \\\n",
      "      /    /  /       \\  \\-------|\n",
      "     /    /  /    ^    \\  \\      |\n",
      "    /    /  /    / \\    \\  \\ ----|\n",
      "   /    /  /    /   \\    \\\n",
      "  /____/  /____/     \\____\\\n"
     ]
    }
   ],
   "source": [
    "! cabal run /tmp/test"
   ]
  },
  {
   "cell_type": "code",
   "execution_count": null,
   "id": "478dbbdd",
   "metadata": {},
   "outputs": [],
   "source": [
    "# not a good combinator, but writing all this junk is quite labrosome.\n",
    "def declare_theory(ts):\n",
    "    ms = []\n",
    "    for t in ts:\n",
    "        name = t[0]\n",
    "        typs = t[1:]\n",
    "        ms.append(smt.Function(name, *typs))\n",
    "    return ms\n"
   ]
  },
  {
   "cell_type": "code",
   "execution_count": null,
   "id": "87fc6d1e",
   "metadata": {},
   "outputs": [],
   "source": [
    "from kdrag.all import *\n",
    "Term = DeclareSort(\"Term\")\n",
    "Var = DeclareSort(\"Var\")\n",
    "\n",
    "lam = smt.Function(\"lam\", smt.ArraySort(Var, Term), Term)\n",
    "var = smt.Function(\"var\", Var, Term)\n",
    "app = smt.Function(\"app\", Term, Term, Term)\n",
    "\n",
    "tt = smt.Const(\"tt\", Term)\n",
    "\n",
    "ForAll([x,t], app(lam(x, var(x), t)) == t)\n",
    "\n",
    "Type = DeclareSort(\"Type\")\n",
    "Bool = smt.Const(\"Bool\", Type)\n",
    "Arr = smt.Function(\"Arr\", Type, Type, Type)\n",
    "Unit = smt.Const(\"Unit\", Type)\n",
    "\n",
    "TEnv = smt.ArraySort(Var, Type)\n",
    "G = smt.Const(\"G\", TEnv)\n",
    "hastype = smt.Function(\"hastype\", TEnv, Term, Type, smt.BoolSort()) # Gamma |- t : A\n",
    "tt_unit = kd.axiom(smt.ForAll([G], hastype(G, tt,Unit)))\n",
    "kd.QForAll([G,t,A,B, v], hastype(Store(G,v,A), l(v), B),   \n",
    "                hastype(G, lam(l), Arr(A,B))\n",
    ")\n",
    "kd.QForAll([G, f, t,A,B],\n",
    "    hastype(G, f, Arr(A,B)), hastype(G, t, A),\n",
    "    hastype(G, app(f, t), B)\n",
    ")\n",
    "\n",
    "injBool = smt.Function(\"injBool\", smt.BoolSort(), Term)\n",
    "hastype(G, t, Bool), castBool(injBool(t)) == t # castbool is a partial function.\n",
    "\n",
    "#smt.ForAll(tvs, hastype())\n",
    "\n",
    "# HM as a proof producing procedure.\n",
    "def hm(vs, tenv, t : smt.ExprRef):\n",
    "    decl = t.decl()\n",
    "    if t.eq(tt):\n",
    "        return Unit, [], tt_unit(tenv)\n",
    "    elif decl == lam:\n",
    "        (v,),body = open_binder(lam.arg(0))\n",
    "        a = smt.FreshConst(Type)\n",
    "        vs.append(v)\n",
    "        tenv1 = hm({vs, **tenv, v: a}, body)\n",
    "    elif decl == var:\n",
    "        return tenv[t.arg(0)] \n",
    "    elif decl == app:"
   ]
  },
  {
   "cell_type": "code",
   "execution_count": null,
   "id": "4d9e3a57",
   "metadata": {},
   "outputs": [
    {
     "data": {
      "text/plain": [
       "{(1, 2), (1, 3), (2, 3)}"
      ]
     },
     "execution_count": 22,
     "metadata": {},
     "output_type": "execute_result"
    }
   ],
   "source": [
    "edge = {(1,2), (2,3)}\n",
    "path = set()\n",
    "for i in range(10):\n",
    "    # path(x,y) :- edge(x,y).\n",
    "    path |= edge\n",
    "    # path(x,z) :- edge(x,y), path(y,z).\n",
    "    path |= {(x,z) for x,y in edge for (y1,z) in path if y == y1}\n",
    "print(path)\n",
    "\n"
   ]
  },
  {
   "cell_type": "code",
   "execution_count": null,
   "id": "a02adf4c",
   "metadata": {},
   "outputs": [
    {
     "name": "stdout",
     "output_type": "stream",
     "text": [
      "Hello world!\n",
      "arr(_4308,_4308)\n"
     ]
    },
    {
     "data": {
      "text/plain": [
       "{'truth': False}"
      ]
     },
     "execution_count": 17,
     "metadata": {},
     "output_type": "execute_result"
    }
   ],
   "source": [
    "from janus_swi import *\n",
    "query_once(\"writeln('Hello world!')\")\n",
    "\n",
    "\n",
    "janus.consult(\"hm\", \"\"\n",
    "\"\"\"\n",
    "%:- library(assoc).\n",
    "%typeof(Env, lam(X, T), arr(A, B)) :- put_assoc(X, Env, A, Env1), typeof(Env1, T, B).\n",
    "typeof(Env, lam(X, T), arr(A, B)) :- typeof([X-A | Env], T, B).\n",
    "typeof(Env, var(X), Ty) :- member(X-Ty, Env).\n",
    "typeof(_, true, bool).\n",
    "typeof(_, false, bool).\n",
    "\"\"\")\n",
    "\n",
    "assert query_once(\"typeof(_, true, bool)\")[\"truth\"]\n",
    "assert query_once(\"typeof(_, false, bool)\")[\"truth\"]\n",
    "query_once(\"typeof(_, lam(x, var(x)), _T), writeln(_T)\")\n",
    "query_once(\"typeof(_, lam(x, var(y)), _T), writeln(_T)\") # hmm succeeds in unspecified context That's interesting.\n",
    "\n"
   ]
  }
 ],
 "metadata": {
  "kernelspec": {
   "display_name": ".venv",
   "language": "python",
   "name": "python3"
  },
  "language_info": {
   "codemirror_mode": {
    "name": "ipython",
    "version": 3
   },
   "file_extension": ".py",
   "mimetype": "text/x-python",
   "name": "python",
   "nbconvert_exporter": "python",
   "pygments_lexer": "ipython3",
   "version": "3.12.3"
  }
 },
 "nbformat": 4,
 "nbformat_minor": 5
}
