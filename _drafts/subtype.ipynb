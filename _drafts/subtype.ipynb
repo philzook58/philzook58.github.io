{
 "cells": [
  {
   "cell_type": "markdown",
   "id": "988bbc05",
   "metadata": {},
   "source": [
    "Biuniification\n",
    "\n",
    "I should implement a hinldey milner. On some level I think of it as what happens naturally as you use prolog to perform type checking.\n",
    "But it also has a flavor of CLP where there is a side carried constraint store.\n",
    "\n",
    "It's interesting that the two subjects are \n",
    "\n",
    "Try elpi.\n",
    "\n",
    "\n",
    "pottier. constraint graph\n",
    "simple essence\n",
    "\n",
    "\n",
    "Parse python and hindley milner it?\n",
    "\n",
    "Use relationship to second order logic?\n",
    "\n",
    "\n",
    "\n",
    "\n",
    "https://en.wikipedia.org/wiki/Bounded_quantification#F-bounded_quantification\n",
    "\n",
    "https://en.wikipedia.org/wiki/Hindley%E2%80%93Milner_type_system\n",
    "\n",
    "https://www.youtube.com/watch?v=NkAt9eApGSw\n",
    "\n",
    "https://counterexamples.org/title.html\n",
    "\n",
    "https://okmij.org/ftp/ML/generalization.html\n",
    "regions.\n",
    "What about using a vector based union find?\n",
    "\n",
    "\n",
    "https://www.microsoft.com/en-us/research/wp-content/uploads/2016/02/tldi10-vytiniotis.pdf Let should not be generalized\n",
    "\n",
    "https://citeseerx.ist.psu.edu/document?repid=rep1&type=pdf&doi=dbe447bae9782dac976de8ef028f3324c53d6414 type inference and equational theoires\n",
    "\n",
    "\n",
    "https://bernsteinbear.com/blog/type-inference/\n",
    "\n",
    "\n",
    "Type checking as a programming language.\n",
    "hm()\n",
    "Typeclass prolog is known to be a way to program at the typelevel.\n",
    "\n",
    "Undecidable typechecking becomes reasonable.\n",
    "\n",
    "\n",
    "```\n",
    "type schema = var list * \n",
    "```\n",
    "\n",
    "\n",
    "https://okmij.org/ftp/Haskell/AlgorithmsH.html#teval interpreting types as abstract values\n",
    "\n",
    "https://byorgey.wordpress.com/2021/09/08/implementing-hindley-milner-with-the-unification-fd-library/\n",
    "\n",
    "Didier Remy and Pottier in ATAPL https://pauillac.inria.fr/~fpottier/publis/emlti-final.pdf essence of hinldye milder\n",
    "\n",
    "\n",
    "Can I just yolo making an inequality union\n",
    "\n",
    "For lattices `a <= b` is the same thing as `a = join(a,b)`. Lattices are an equational theory.\n",
    "It is an extensible theory too. Are finitely presented lattices solvable? https://www.jstor.org/stable/2042634 Yes. Hmm. In marche there was ACI. Is that a lattice theory?\n",
    "This is kind of just another view on mainting the sets of things you're less than and greater to. The obvious thing.\n",
    "Basically transiitive cloure.\n",
    "\n",
    "monotonicity means f(a cup b) = f(a) cup f(b)\n",
    "The analog of group invariant.\n",
    "\n",
    "\n",
    "What about extensible groups? No, that is the word problem.\n",
    "\n",
    "What about free kleene algebra? Ought to be ok.\n",
    "Hmm. What about adding KAT to egraph as a theory.\n",
    "\n",
    "\n",
    "Even bottom up has a search character if subvariant. Hmm. You can jump to any of your upper or lower bounds depending if you're \n",
    "contra covariant.\n",
    "The applier only knows this and should decide to expand upward or not.\n",
    "\n",
    "The top level of \n",
    "a  <= b  implicitly says that all lowers of a are below uppers of b. So <= is kind of covariant also in first are and contra in second at top level of rule.\n",
    "\n",
    "\n",
    "\n",
    "Flattening foo(bar(X)) to foo(Y), bar(X,Y). And then having the ability to implcitily mediate by other relations.\n",
    "\n",
    "foo(Y), eq(Y,Y1), bar(X,Y1)\n",
    "\n",
    "foo(Y), le(Y,Y1), bar(X,Y1)\n",
    "\n",
    "\n",
    "subsumption ordering if we have non ground terms in our termbank. Foall vs exists is covariant vs contratvariant.\n",
    "\n",
    "\n",
    "lattice is kind of equational theory that is normalizable.\n",
    "\n",
    "in EMT, non normalizability iasn't that bad. You just miss stuiff.\n",
    "\n"
   ]
  },
  {
   "cell_type": "markdown",
   "id": "a98259bc",
   "metadata": {},
   "source": [
    "## Inequality Union Find\n",
    "\n"
   ]
  },
  {
   "cell_type": "code",
   "execution_count": null,
   "id": "54e39e73",
   "metadata": {},
   "outputs": [
    {
     "data": {
      "text/plain": [
       "LEFindRebuild(parents={}, upper=defaultdict(<class 'set'>, {1: {2}, 2: {3}}))"
      ]
     },
     "execution_count": 48,
     "metadata": {},
     "output_type": "execute_result"
    }
   ],
   "source": [
    "\n",
    "    "
   ]
  },
  {
   "cell_type": "code",
   "execution_count": null,
   "id": "786e9f62",
   "metadata": {},
   "outputs": [],
   "source": []
  },
  {
   "cell_type": "markdown",
   "id": "bf4d31ef",
   "metadata": {},
   "source": []
  },
  {
   "cell_type": "code",
   "execution_count": null,
   "id": "06182e5d",
   "metadata": {},
   "outputs": [
    {
     "data": {
      "text/plain": [
       "LEFind(parents={3: 1, 1: 2}, upper=defaultdict(<class 'set'>, {2: {1, 3}, 1: {2, 3}, 3: set()}))"
      ]
     },
     "execution_count": 63,
     "metadata": {},
     "output_type": "execute_result"
    }
   ],
   "source": [
    "     "
   ]
  },
  {
   "cell_type": "code",
   "execution_count": 41,
   "id": "5a581a51",
   "metadata": {},
   "outputs": [
    {
     "data": {
      "text/plain": [
       "LEFind(parents={3: 1, 1: 2}, upper=defaultdict(<class 'set'>, {2: {3}, 1: {2}, 3: {1}}))"
      ]
     },
     "execution_count": 41,
     "metadata": {},
     "output_type": "execute_result"
    }
   ],
   "source": [
    "from collections import defaultdict\n",
    "from dataclasses import dataclass\n",
    "@dataclass\n",
    "class LEFind():\n",
    "    parents : dict\n",
    "    upper : defaultdict(set)\n",
    "    #lower : defaultdict(set)\n",
    "    def __init__(self):\n",
    "        self.parents = {}\n",
    "        self.upper = defaultdict(set)\n",
    "        #self.lower = defaultdict(set)\n",
    "    def assert_le(self, x, y):\n",
    "        x,y = self.find(x), self.find(y)\n",
    "        if x == y:\n",
    "            return\n",
    "        elif self.is_le(y, x):\n",
    "            self.parents[x] = y\n",
    "            #self.union(x, y)\n",
    "        elif not self.is_le(x, y): # avoid redundant additions.\n",
    "            #self.lower[y].add(x)\n",
    "            self.upper[x].add(y)\n",
    "    def union(self, x, y):\n",
    "        x, y = self.find(x), self.find(y)\n",
    "        if x != y:\n",
    "            # self.assert_le(x,y); self.assert_le(y,x)  # make union subservient to assert_le?\n",
    "            self.upper[y].add(x)\n",
    "            #self.assert_le(y, x)\n",
    "            for z in self.le_set(x): # union find dict action. We merge their upper sets.\n",
    "                self.assert_le(y, z)\n",
    "            for z in self.le_set(y): # union find dict action. We merge their upper sets.\n",
    "                self.assert_le(x, z)\n",
    "            #self.parents[x] = y\n",
    "                #self.upper[y].add(z)\n",
    "    def find(self, x):\n",
    "        while x in self.parents:\n",
    "            x = self.parents[x]\n",
    "        return x\n",
    "    def is_le(self, x, y):\n",
    "        x, y = self.find(x), self.find(y)\n",
    "        todo = [x]\n",
    "        seen = set([x])\n",
    "        while todo:\n",
    "            x = todo.pop()\n",
    "            for x in self.upper[x]:\n",
    "                x = self.find(x)\n",
    "                if x == y:\n",
    "                    return True\n",
    "                elif x in seen:\n",
    "                    continue\n",
    "                else:\n",
    "                    seen.add(x)\n",
    "                    todo.append(x)\n",
    "        #self.upper[x] = seen\n",
    "        return False\n",
    "\n",
    "    def le_set(self, x): # \"le_find\" splits into two functions since it isn't as cheap anymore.\n",
    "        x = self.find(x)\n",
    "        todo = [x]\n",
    "        seen = set([x]) # or could even set seen = self.upper[x]\n",
    "        while todo:\n",
    "            x = todo.pop()\n",
    "            for x in self.upper[x]:\n",
    "                x = self.find(x) # \"path compression\" would modify in place and \n",
    "                if x in seen:\n",
    "                    continue\n",
    "                else:\n",
    "                    seen.add(x)\n",
    "                    todo.append(x)\n",
    "        #self.upper[x] = seen\n",
    "        return seen\n",
    "    #def rebuild(self):\n",
    "    #    for s in self.upper.items():\n",
    "    #        s = {self.find(x) for x in s}\n",
    "\n",
    "le = LEFind()\n",
    "le.assert_le(1, 2)\n",
    "le.assert_le(2, 3)\n",
    "assert le.le_set(1) == {1, 2, 3}\n",
    "assert le.le_set(2) == {2, 3}\n",
    "assert le.le_set(3) == {3}\n",
    "assert le.is_le(1,3)\n",
    "assert not le.is_le(3,1)\n",
    "le.union(1,3)\n",
    "le\n"
   ]
  },
  {
   "cell_type": "markdown",
   "id": "5032a26e",
   "metadata": {},
   "source": [
    "Type checking hindley milner the python ast. But how do I represent anything?"
   ]
  },
  {
   "cell_type": "code",
   "execution_count": 2,
   "id": "4bcabf31",
   "metadata": {},
   "outputs": [
    {
     "data": {
      "text/plain": [
       "([], Arr(c!4, Arr(c!5, c!4)))"
      ]
     },
     "execution_count": 2,
     "metadata": {},
     "output_type": "execute_result"
    }
   ],
   "source": [
    "import ast\n",
    "from kdrag.all import *\n",
    "Type = smt.DeclareSort(\"Type\")\n",
    "Arr = smt.Function(\"Arr\", Type, Type, Type)\n",
    "Bool = smt.Const(\"Bool\", Type)\n",
    "Int = smt.Const(\"Int\", Type)\n",
    "\n",
    "def infer(env, t : ast.AST) -> tuple[list[smt.BoolRef], smt.ExprRef]:\n",
    "    match t:\n",
    "        case ast.Lambda(ast.arguments(args=[x]), body):\n",
    "            A = smt.FreshConst(Type)\n",
    "            env1 = {x.arg : A, **env}\n",
    "            constrs, B = infer(env1, body)\n",
    "            return constrs, Arr(A,B)\n",
    "        case ast.Call(func, [x]):\n",
    "            c1, AB = ftyinfer(env, func)\n",
    "            c2, A = infer(env, x)\n",
    "            assert AB.decl() == Arr\n",
    "            return c1 + c2 + [AB.arg(0) == A], AB.arg(1)\n",
    "            \"\"\"for t, x in zip(fty, args):\n",
    "                c, t1 = infer(env, x)\n",
    "                constrs.append((t, t1))\n",
    "                constrs.extend(c)\n",
    "            return constrs, fty.res\n",
    "            \"\"\"\n",
    "        case ast.Name(id=v):\n",
    "            return [], env[v]\n",
    "        case _:\n",
    "            raise NotImplementedError(f\"Unsupported AST node: {ast.dump(t)}\")\n",
    "\n",
    "def infer1(t : str):\n",
    "    return infer({}, ast.parse(t, mode=\"eval\").body)\n",
    "\n",
    "infer1(\"lambda x: x\")\n",
    "infer1(\"lambda x: lambda y: x\")\n",
    "\n"
   ]
  },
  {
   "cell_type": "code",
   "execution_count": 2,
   "id": "90321261",
   "metadata": {},
   "outputs": [
    {
     "data": {
      "text/plain": [
       "\"Module(body=[Expr(value=Lambda(args=arguments(posonlyargs=[], args=[arg(arg='x')], kwonlyargs=[], kw_defaults=[], defaults=[]), body=BinOp(left=Name(id='x', ctx=Load()), op=Add(), right=Constant(value=1))))], type_ignores=[])\""
      ]
     },
     "execution_count": 2,
     "metadata": {},
     "output_type": "execute_result"
    }
   ],
   "source": [
    "import ast\n",
    "ast.dump(ast.parse(\"lambda x: x + 1\"))"
   ]
  },
  {
   "cell_type": "code",
   "execution_count": null,
   "id": "2b8c6bab",
   "metadata": {},
   "outputs": [
    {
     "name": "stdout",
     "output_type": "stream",
     "text": [
      "Overwriting /tmp/test.ml\n"
     ]
    }
   ],
   "source": [
    "%%file /tmp/test.ml\n",
    "#use \"topfind\";;\n",
    "#require \"core.kernel\";;\n",
    "print_endline \"Hello, World!\";;\n",
    "\n"
   ]
  },
  {
   "cell_type": "code",
   "execution_count": 34,
   "id": "f13cd059",
   "metadata": {},
   "outputs": [
    {
     "name": "stdout",
     "output_type": "stream",
     "text": [
      "No such package: core.kernel\n",
      "Hello, World!\n"
     ]
    }
   ],
   "source": [
    "! ocaml /tmp/test.ml"
   ]
  },
  {
   "cell_type": "code",
   "execution_count": 50,
   "id": "e0c19593",
   "metadata": {},
   "outputs": [
    {
     "name": "stdout",
     "output_type": "stream",
     "text": [
      "Overwriting /tmp/test\n"
     ]
    }
   ],
   "source": [
    "%%file /tmp/test\n",
    "#!/usr/bin/env cabal\n",
    "{- cabal:\n",
    "build-depends:\n",
    "  base >=4.19.0.0,\n",
    "  haskell-say ^>=1.0.0.0\n",
    "-}\n",
    "\n",
    "import HaskellSay (haskellSay)\n",
    "\n",
    "main :: IO ()\n",
    "main = haskellSay \"Hello, Haskell!\"\n",
    "\n",
    "\n",
    "-- https://cabal.readthedocs.io/en/stable/getting-started.html#running-a-single-file-haskell-script\n"
   ]
  },
  {
   "cell_type": "code",
   "execution_count": 51,
   "id": "1e35c3b5",
   "metadata": {},
   "outputs": [
    {
     "name": "stdout",
     "output_type": "stream",
     "text": [
      "  ________________________________________________________\n",
      " /                                                        \\\n",
      "| Hello, Haskell!                                          |\n",
      " \\____       _____________________________________________/\n",
      "      \\    /\n",
      "       \\  /\n",
      "        \\/\n",
      "  _____   _____\n",
      "  \\    \\  \\    \\\n",
      "   \\    \\  \\    \\\n",
      "    \\    \\  \\    \\\n",
      "     \\    \\  \\    \\  \\-----------|\n",
      "      \\    \\  \\    \\  \\          |\n",
      "       \\    \\  \\    \\  \\---------|\n",
      "       /    /  /     \\\n",
      "      /    /  /       \\  \\-------|\n",
      "     /    /  /    ^    \\  \\      |\n",
      "    /    /  /    / \\    \\  \\ ----|\n",
      "   /    /  /    /   \\    \\\n",
      "  /____/  /____/     \\____\\\n"
     ]
    }
   ],
   "source": [
    "! cabal run /tmp/test"
   ]
  },
  {
   "cell_type": "code",
   "execution_count": null,
   "id": "478dbbdd",
   "metadata": {},
   "outputs": [],
   "source": [
    "# not a good combinator, but writing all this junk is quite labrosome.\n",
    "def declare_theory(ts):\n",
    "    ms = []\n",
    "    for t in ts:\n",
    "        name = t[0]\n",
    "        typs = t[1:]\n",
    "        ms.append(smt.Function(name, *typs))\n",
    "    return ms\n"
   ]
  },
  {
   "cell_type": "code",
   "execution_count": null,
   "id": "87fc6d1e",
   "metadata": {},
   "outputs": [],
   "source": [
    "from kdrag.all import *\n",
    "Term = DeclareSort(\"Term\")\n",
    "Var = DeclareSort(\"Var\")\n",
    "\n",
    "lam = smt.Function(\"lam\", smt.ArraySort(Var, Term), Term)\n",
    "var = smt.Function(\"var\", Var, Term)\n",
    "app = smt.Function(\"app\", Term, Term, Term)\n",
    "\n",
    "tt = smt.Const(\"tt\", Term)\n",
    "\n",
    "ForAll([x,t], app(lam(x, var(x), t)) == t)\n",
    "\n",
    "Type = DeclareSort(\"Type\")\n",
    "Bool = smt.Const(\"Bool\", Type)\n",
    "Arr = smt.Function(\"Arr\", Type, Type, Type)\n",
    "Unit = smt.Const(\"Unit\", Type)\n",
    "\n",
    "TEnv = smt.ArraySort(Var, Type)\n",
    "G = smt.Const(\"G\", TEnv)\n",
    "hastype = smt.Function(\"hastype\", TEnv, Term, Type, smt.BoolSort()) # Gamma |- t : A\n",
    "tt_unit = kd.axiom(smt.ForAll([G], hastype(G, tt,Unit)))\n",
    "kd.QForAll([G,t,A,B, v], hastype(Store(G,v,A), l(v), B),   \n",
    "                hastype(G, lam(l), Arr(A,B))\n",
    ")\n",
    "kd.QForAll([G, f, t,A,B],\n",
    "    hastype(G, f, Arr(A,B)), hastype(G, t, A),\n",
    "    hastype(G, app(f, t), B)\n",
    ")\n",
    "\n",
    "injBool = smt.Function(\"injBool\", smt.BoolSort(), Term)\n",
    "hastype(G, t, Bool), castBool(injBool(t)) == t # castbool is a partial function.\n",
    "\n",
    "#smt.ForAll(tvs, hastype())\n",
    "\n",
    "# HM as a proof producing procedure.\n",
    "def hm(vs, tenv, t : smt.ExprRef):\n",
    "    decl = t.decl()\n",
    "    if t.eq(tt):\n",
    "        return Unit, [], tt_unit(tenv)\n",
    "    elif decl == lam:\n",
    "        (v,),body = open_binder(lam.arg(0))\n",
    "        a = smt.FreshConst(Type)\n",
    "        vs.append(v)\n",
    "        tenv1 = hm({vs, **tenv, v: a}, body)\n",
    "    elif decl == var:\n",
    "        return tenv[t.arg(0)] \n",
    "    elif decl == app:"
   ]
  },
  {
   "cell_type": "code",
   "execution_count": null,
   "id": "4d9e3a57",
   "metadata": {},
   "outputs": [
    {
     "data": {
      "text/plain": [
       "{(1, 2), (1, 3), (2, 3)}"
      ]
     },
     "execution_count": 22,
     "metadata": {},
     "output_type": "execute_result"
    }
   ],
   "source": [
    "edge = {(1,2), (2,3)}\n",
    "path = set()\n",
    "for i in range(10):\n",
    "    # path(x,y) :- edge(x,y).\n",
    "    path |= edge\n",
    "    # path(x,z) :- edge(x,y), path(y,z).\n",
    "    path |= {(x,z) for x,y in edge for (y1,z) in path if y == y1}\n",
    "print(path)\n",
    "\n"
   ]
  },
  {
   "cell_type": "code",
   "execution_count": null,
   "id": "a02adf4c",
   "metadata": {},
   "outputs": [
    {
     "name": "stdout",
     "output_type": "stream",
     "text": [
      "Hello world!\n",
      "arr(_4308,_4308)\n"
     ]
    },
    {
     "data": {
      "text/plain": [
       "{'truth': False}"
      ]
     },
     "execution_count": 17,
     "metadata": {},
     "output_type": "execute_result"
    }
   ],
   "source": [
    "from janus_swi import *\n",
    "query_once(\"writeln('Hello world!')\")\n",
    "\n",
    "\n",
    "janus.consult(\"hm\", \"\"\n",
    "\"\"\"\n",
    "%:- library(assoc).\n",
    "%typeof(Env, lam(X, T), arr(A, B)) :- put_assoc(X, Env, A, Env1), typeof(Env1, T, B).\n",
    "typeof(Env, lam(X, T), arr(A, B)) :- typeof([X-A | Env], T, B).\n",
    "typeof(Env, var(X), Ty) :- member(X-Ty, Env).\n",
    "typeof(_, true, bool).\n",
    "typeof(_, false, bool).\n",
    "\"\"\")\n",
    "\n",
    "assert query_once(\"typeof(_, true, bool)\")[\"truth\"]\n",
    "assert query_once(\"typeof(_, false, bool)\")[\"truth\"]\n",
    "query_once(\"typeof(_, lam(x, var(x)), _T), writeln(_T)\")\n",
    "query_once(\"typeof(_, lam(x, var(y)), _T), writeln(_T)\") # hmm succeeds in unspecified context That's interesting.\n",
    "\n"
   ]
  }
 ],
 "metadata": {
  "kernelspec": {
   "display_name": "philzook58.github.io",
   "language": "python",
   "name": "python3"
  },
  "language_info": {
   "codemirror_mode": {
    "name": "ipython",
    "version": 3
   },
   "file_extension": ".py",
   "mimetype": "text/x-python",
   "name": "python",
   "nbconvert_exporter": "python",
   "pygments_lexer": "ipython3",
   "version": "3.12.3"
  }
 },
 "nbformat": 4,
 "nbformat_minor": 5
}
