{
 "cells": [
  {
   "cell_type": "markdown",
   "id": "988bbc05",
   "metadata": {},
   "source": [
    "Biuniification\n",
    "\n",
    "I should implement a hinldey milner. On some level I think of it as what happens naturally as you use prolog to perform type checking.\n",
    "But it also has a flavor of CLP where there is a side carried constraint store.\n",
    "\n",
    "It's interesting that the two subjects are \n",
    "\n",
    "Try elpi.\n",
    "\n",
    "\n",
    "pottier. constraint graph\n",
    "simple essence\n",
    "\n",
    "\n",
    "\n"
   ]
  },
  {
   "cell_type": "code",
   "execution_count": null,
   "id": "4d9e3a57",
   "metadata": {},
   "outputs": [
    {
     "data": {
      "text/plain": [
       "{(1, 2), (1, 3), (2, 3)}"
      ]
     },
     "execution_count": 22,
     "metadata": {},
     "output_type": "execute_result"
    }
   ],
   "source": [
    "edge = {(1,2), (2,3)}\n",
    "path = set()\n",
    "for i in range(10):\n",
    "    # path(x,y) :- edge(x,y).\n",
    "    path |= edge\n",
    "    # path(x,z) :- edge(x,y), path(y,z).\n",
    "    path |= {(x,z) for x,y in edge for (y1,z) in path if y == y1}\n",
    "print(path)\n",
    "\n"
   ]
  },
  {
   "cell_type": "code",
   "execution_count": null,
   "id": "a02adf4c",
   "metadata": {},
   "outputs": [
    {
     "name": "stdout",
     "output_type": "stream",
     "text": [
      "Hello world!\n",
      "arr(_4308,_4308)\n"
     ]
    },
    {
     "data": {
      "text/plain": [
       "{'truth': False}"
      ]
     },
     "execution_count": 17,
     "metadata": {},
     "output_type": "execute_result"
    }
   ],
   "source": [
    "from janus_swi import *\n",
    "query_once(\"writeln('Hello world!')\")\n",
    "\n",
    "\n",
    "janus.consult(\"hm\", \"\"\n",
    "\"\"\"\n",
    "%:- library(assoc).\n",
    "%typeof(Env, lam(X, T), arr(A, B)) :- put_assoc(X, Env, A, Env1), typeof(Env1, T, B).\n",
    "typeof(Env, lam(X, T), arr(A, B)) :- typeof([X-A | Env], T, B).\n",
    "typeof(Env, var(X), Ty) :- member(X-Ty, Env).\n",
    "typeof(_, true, bool).\n",
    "typeof(_, false, bool).\n",
    "\"\"\")\n",
    "\n",
    "assert query_once(\"typeof(_, true, bool)\")[\"truth\"]\n",
    "assert query_once(\"typeof(_, false, bool)\")[\"truth\"]\n",
    "query_once(\"typeof(_, lam(x, var(x)), _T), writeln(_T)\")\n",
    "query_once(\"typeof(_, lam(x, var(y)), _T), writeln(_T)\") # hmm succeeds in unspecified context That's interesting.\n",
    "\n"
   ]
  }
 ],
 "metadata": {
  "kernelspec": {
   "display_name": ".venv",
   "language": "python",
   "name": "python3"
  },
  "language_info": {
   "codemirror_mode": {
    "name": "ipython",
    "version": 3
   },
   "file_extension": ".py",
   "mimetype": "text/x-python",
   "name": "python",
   "nbconvert_exporter": "python",
   "pygments_lexer": "ipython3",
   "version": "3.12.3"
  }
 },
 "nbformat": 4,
 "nbformat_minor": 5
}
