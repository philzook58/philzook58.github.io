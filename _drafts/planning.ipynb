{
 "cells": [
  {
   "cell_type": "markdown",
   "id": "82038d03",
   "metadata": {},
   "source": []
  },
  {
   "cell_type": "markdown",
   "id": "6a4e95a4",
   "metadata": {},
   "source": [
    "https://www.youtube.com/watch?v=UCxcyUD8iwk&ab_channel=JeremyMaurer  ntroduction to Mission Planning for UAVs\n",
    "\n",
    "ground control points\n",
    "\n",
    "\n",
    "ROS https://docs.ros.org/en/foxy/index.html\n",
    "https://classic.gazebosim.org/ \n",
    "\n",
    "annoying installation. bodes well.\n",
    "\n",
    "https://github.com/kiloreux/awesome-robotics\n",
    "https://github.com/AtsushiSakai/PythonRobotics"
   ]
  },
  {
   "cell_type": "code",
   "execution_count": null,
   "id": "998130cf",
   "metadata": {
    "vscode": {
     "languageId": "plaintext"
    }
   },
   "outputs": [],
   "source": [
    "! ros2 run turtlesim turtlesim_node"
   ]
  }
 ],
 "metadata": {
  "language_info": {
   "name": "python"
  }
 },
 "nbformat": 4,
 "nbformat_minor": 5
}
