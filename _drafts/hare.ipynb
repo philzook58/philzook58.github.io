{
 "cells": [
  {
   "cell_type": "markdown",
   "id": "d6f047de",
   "metadata": {},
   "source": [
    "https://harelang.org/documentation/install/index.html\n",
    "https://harelang.org/documentation/install/bootstrap.html#bootstrap\n",
    "\n",
    "Nope. THis is way too old. sudo snap install hare --edge\n",
    "\n",
    "git clone git://c9x.me/qbe.git\n",
    "cd qbe\n",
    "make\n",
    "sudo make install\n",
    "\n",
    "\n",
    "git clone https://git.sr.ht/~sircmpwn/harec && cd harec\n",
    "make\n",
    "sudo make install\n",
    "\n",
    "\n",
    "\n",
    "https://sr.ht/ sourcehut?\n",
    "\n",
    "https://harelang.org/tutorials/introduction/\n",
    "https://harelang.org/tutorials/stdlib/\n",
    "\n",
    "https://c9x.me/compile/code.html qbe is intriguing\n",
    "\n",
    "cproc https://sr.ht/~mcf/cproc/\n",
    "\n",
    "python bindings to qbe? cffi. Hmm.\n",
    "\n",
    "\n",
    "\n",
    "\n",
    "Hmmm. Pretty nice.\n",
    "\n",
    "\n",
    "\n",
    "virtual tables? https://en.wikipedia.org/wiki/Virtual_method_table\n",
    "implementing multimethods.\n",
    "rust dyn\n",
    "My lazy tuples thing?\n",
    "\n",
    "https://git.sr.ht/~ecs/lfrg/tree/main/item/ecs/compile/compile.ha#L63"
   ]
  },
  {
   "cell_type": "code",
   "execution_count": 1,
   "id": "71c177e7",
   "metadata": {},
   "outputs": [
    {
     "name": "stdout",
     "output_type": "stream",
     "text": [
      "Usage: harec [-a arch] [-D ident[:type]=value] [-M path] [-m symbol] [-N namespace] [-o output] [-T] [-t typedefs] [-v] input.ha...\n",
      "\n",
      "-a: set target architecture\n",
      "-D: define a constant\n",
      "-h: print this help text\n",
      "-M: set module path prefix, to be stripped from error messages\n",
      "-m: set symbol of hosted main function\n",
      "-N: override namespace for module\n",
      "-o: set output file name\n",
      "-T: emit tests\n",
      "-t: emit typedefs to file\n",
      "-v: print version and exit\n"
     ]
    }
   ],
   "source": [
    "! harec"
   ]
  },
  {
   "cell_type": "code",
   "execution_count": 2,
   "id": "43ca1f8c",
   "metadata": {},
   "outputs": [
    {
     "name": "stdout",
     "output_type": "stream",
     "text": [
      "Writing /tmp/hello.ha\n"
     ]
    }
   ],
   "source": [
    "%%file /tmp/hello.ha\n",
    "use fmt;\n",
    "\n",
    "export fn main() void = {\n",
    "\tfmt::println(\"Hello world!\")!;\n",
    "};"
   ]
  },
  {
   "cell_type": "code",
   "execution_count": 4,
   "id": "0ddb5f52",
   "metadata": {},
   "outputs": [
    {
     "name": "stdout",
     "output_type": "stream",
     "text": [
      "\u001b[G\u001b[2K0/97 tasks completed (0%)\u001b[G\u001b[2K1/97 tasks completed (1%)\u001b[G\u001b[2K2/97 tasks completed (2%)\u001b[G\u001b[2K3/97 tasks completed (3%)\u001b[G\u001b[2K4/97 tasks completed (4%)\u001b[G\u001b[2K5/97 tasks completed (5%)\u001b[G\u001b[2K6/97 tasks completed (6%)\u001b[G\u001b[2K7/97 tasks completed (7%)\u001b[G\u001b[2K8/97 tasks completed (8%)\u001b[G\u001b[2K9/97 tasks completed (9%)\u001b[G\u001b[2K10/97 tasks completed (10%)\u001b[G\u001b[2K11/97 tasks completed (11%)\u001b[G\u001b[2K12/97 tasks completed (12%)\u001b[G\u001b[2K13/97 tasks completed (13%)\u001b[G\u001b[2K14/97 tasks completed (14%)\u001b[G\u001b[2K15/97 tasks completed (15%)\u001b[G\u001b[2K16/97 tasks completed (16%)\u001b[G\u001b[2K17/97 tasks completed (17%)\u001b[G\u001b[2K18/97 tasks completed (18%)\u001b[G\u001b[2K19/97 tasks completed (19%)\u001b[G\u001b[2K20/97 tasks completed (20%)\u001b[G\u001b[2K21/97 tasks completed (21%)\u001b[G\u001b[2K22/97 tasks completed (22%)\u001b[G\u001b[2K23/97 tasks completed (23%)\u001b[G\u001b[2K24/97 tasks completed (24%)\u001b[G\u001b[2K25/97 tasks completed (25%)\u001b[G\u001b[2K26/97 tasks completed (26%)\u001b[G\u001b[2K27/97 tasks completed (27%)\u001b[G\u001b[2K28/97 tasks completed (28%)\u001b[G\u001b[2K29/97 tasks completed (29%)\u001b[G\u001b[2K30/97 tasks completed (30%)\u001b[G\u001b[2K31/97 tasks completed (31%)\u001b[G\u001b[2K32/97 tasks completed (32%)\u001b[G\u001b[2K33/97 tasks completed (34%)\u001b[G\u001b[2K34/97 tasks completed (35%)\u001b[G\u001b[2K35/97 tasks completed (36%)\u001b[G\u001b[2K36/97 tasks completed (37%)\u001b[G\u001b[2K37/97 tasks completed (38%)\u001b[G\u001b[2K38/97 tasks completed (39%)\u001b[G\u001b[2K39/97 tasks completed (40%)\u001b[G\u001b[2K40/97 tasks completed (41%)\u001b[G\u001b[2K41/97 tasks completed (42%)\u001b[G\u001b[2K42/97 tasks completed (43%)\u001b[G\u001b[2K43/97 tasks completed (44%)\u001b[G\u001b[2K44/97 tasks completed (45%)\u001b[G\u001b[2K45/97 tasks completed (46%)\u001b[G\u001b[2K46/97 tasks completed (47%)\u001b[G\u001b[2K47/97 tasks completed (48%)\u001b[G\u001b[2K48/97 tasks completed (49%)\u001b[G\u001b[2K49/97 tasks completed (50%)\u001b[G\u001b[2K50/97 tasks completed (51%)\u001b[G\u001b[2K51/97 tasks completed (52%)\u001b[G\u001b[2K52/97 tasks completed (53%)\u001b[G\u001b[2K53/97 tasks completed (54%)\u001b[G\u001b[2K54/97 tasks completed (55%)\u001b[G\u001b[2K55/97 tasks completed (56%)\u001b[G\u001b[2K56/97 tasks completed (57%)\u001b[G\u001b[2K57/97 tasks completed (58%)\u001b[G\u001b[2K58/97 tasks completed (59%)\u001b[G\u001b[2K59/97 tasks completed (60%)\u001b[G\u001b[2K60/97 tasks completed (61%)\u001b[G\u001b[2K61/97 tasks completed (62%)\u001b[G\u001b[2K62/97 tasks completed (63%)\u001b[G\u001b[2K63/97 tasks completed (64%)\u001b[G\u001b[2K64/97 tasks completed (65%)\u001b[G\u001b[2K65/97 tasks completed (67%)\u001b[G\u001b[2K66/97 tasks completed (68%)\u001b[G\u001b[2K67/97 tasks completed (69%)\u001b[G\u001b[2K68/97 tasks completed (70%)\u001b[G\u001b[2K69/97 tasks completed (71%)\u001b[G\u001b[2K70/97 tasks completed (72%)\u001b[G\u001b[2K71/97 tasks completed (73%)\u001b[G\u001b[2K72/97 tasks completed (74%)\u001b[G\u001b[2K73/97 tasks completed (75%)\u001b[G\u001b[2K74/97 tasks completed (76%)\u001b[G\u001b[2K75/97 tasks completed (77%)\u001b[G\u001b[2K76/97 tasks completed (78%)\u001b[G\u001b[2K77/97 tasks completed (79%)\u001b[G\u001b[2K78/97 tasks completed (80%)\u001b[G\u001b[2K79/97 tasks completed (81%)\u001b[G\u001b[2K80/97 tasks completed (82%)\u001b[G\u001b[2K81/97 tasks completed (83%)\u001b[G\u001b[2K82/97 tasks completed (84%)\u001b[G\u001b[2K83/97 tasks completed (85%)\u001b[G\u001b[2K84/97 tasks completed (86%)\u001b[G\u001b[2K85/97 tasks completed (87%)\u001b[G\u001b[2K86/97 tasks completed (88%)\u001b[G\u001b[2K87/97 tasks completed (89%)\u001b[G\u001b[2K88/97 tasks completed (90%)\u001b[G\u001b[2K89/97 tasks completed (91%)\u001b[G\u001b[2K90/97 tasks completed (92%)\u001b[G\u001b[2K91/97 tasks completed (93%)\u001b[G\u001b[2K92/97 tasks completed (94%)\u001b[G\u001b[2K93/97 tasks completed (95%)\u001b[G\u001b[2K94/97 tasks completed (96%)\u001b[G\u001b[2K95/97 tasks completed (97%)\u001b[G\u001b[2K96/97 tasks completed (98%)\u001b[G\u001b[2K97/97 tasks completed (100%)\n",
      "Hello world!\n"
     ]
    }
   ],
   "source": [
    "! hare run /tmp/hello.ha"
   ]
  },
  {
   "cell_type": "markdown",
   "id": "d9ca78f9",
   "metadata": {},
   "source": [
    "# QBE\n",
    "https://c9x.me/compile/doc/il.html\n",
    "w l s d \n",
    "word long singkle double\n"
   ]
  },
  {
   "cell_type": "code",
   "execution_count": 6,
   "id": "9618cef5",
   "metadata": {},
   "outputs": [
    {
     "name": "stdout",
     "output_type": "stream",
     "text": [
      "Writing /tmp/hello.qbe\n"
     ]
    }
   ],
   "source": [
    "%%file /tmp/hello.qbe\n",
    "# hello.qbe\n",
    "data $str = { b \"hello world\", b 0 }\n",
    "\n",
    "export function w $main() {\n",
    "@start\n",
    "        %r =w call $puts(l $str)\n",
    "        ret 0\n",
    "}\n",
    "\n"
   ]
  },
  {
   "cell_type": "code",
   "execution_count": 9,
   "id": "c16eded6",
   "metadata": {},
   "outputs": [
    {
     "name": "stdout",
     "output_type": "stream",
     "text": [
      "hello world\n"
     ]
    }
   ],
   "source": [
    "! qbe -o /tmp/hello.s /tmp/hello.qbe && cc /tmp/hello.s -o /tmp/hello && /tmp/hello"
   ]
  },
  {
   "cell_type": "code",
   "execution_count": 10,
   "id": "2ebe4145",
   "metadata": {},
   "outputs": [
    {
     "name": "stdout",
     "output_type": "stream",
     "text": [
      ".data\n",
      ".balign 8\n",
      "str:\n",
      "\t.ascii \"hello world\"\n",
      "\t.byte 0\n",
      "/* end data */\n",
      "\n",
      ".text\n",
      ".balign 16\n",
      ".globl main\n",
      "main:\n",
      "\tendbr64\n",
      "\tpushq %rbp\n",
      "\tmovq %rsp, %rbp\n",
      "\tleaq str(%rip), %rdi\n",
      "\tcallq puts\n",
      "\tmovl $0, %eax\n",
      "\tleave\n",
      "\tret\n",
      ".type main, @function\n",
      ".size main, .-main\n",
      "/* end function main */\n",
      "\n",
      ".section .note.GNU-stack,\"\",@progbits\n"
     ]
    }
   ],
   "source": [
    "!cat /tmp/hello.s"
   ]
  },
  {
   "cell_type": "code",
   "execution_count": 11,
   "id": "b5f9943a",
   "metadata": {},
   "outputs": [
    {
     "name": "stdout",
     "output_type": "stream",
     "text": [
      "Writing /tmp/file.ssa\n"
     ]
    }
   ],
   "source": [
    "%%file /tmp/file.ssa\n",
    "function w $add(w %a, w %b) {              # Define a function add\n",
    "@start\n",
    "\t%c =w add %a, %b                   # Adds the 2 arguments\n",
    "\tret %c                             # Return the result\n",
    "}\n",
    "export function w $main() {                # Main function\n",
    "@start\n",
    "\t%r =w call $add(w 1, w 1)          # Call add(1, 1)\n",
    "\tcall $printf(l $fmt, ..., w %r)    # Show the result\n",
    "\tret 0\n",
    "}\n",
    "data $fmt = { b \"One and one make %d!\\n\", b 0 }"
   ]
  },
  {
   "cell_type": "code",
   "execution_count": 12,
   "id": "760307fb",
   "metadata": {},
   "outputs": [
    {
     "name": "stdout",
     "output_type": "stream",
     "text": [
      "One and one make 2!\n"
     ]
    }
   ],
   "source": [
    "! qbe -o /tmp/out.s /tmp/file.ssa && cc /tmp/out.s -o /tmp/out && /tmp/out"
   ]
  },
  {
   "cell_type": "code",
   "execution_count": null,
   "id": "33738fd0",
   "metadata": {},
   "outputs": [],
   "source": [
    "import lark\n",
    "from lark import Lark, Transformer, v_args\n",
    "\n",
    "grammar = \"\"\"\n",
    "NL : \"\\n\"+\n",
    "\n",
    "BASETY : \"w\" | \"l\" | \"s\" | \"d\"\n",
    "EXTTY : BASETY | \"b\" | \"h\"\n",
    "\n",
    "CONST : \n",
    "\n",
    "FUNCDEF : \"function\" ABITY? \"$\" IDENT \"(\" PARAM \")\" \n",
    "\n",
    "\"\"\"\n",
    "\n"
   ]
  },
  {
   "cell_type": "markdown",
   "id": "9cdabea9",
   "metadata": {},
   "source": [
    "https://docs.python.org/3/library/re.html#writing-a-tokenizer\n",
    "\n",
    "Sexp -> \"(\" Sexp \")\" | \"()\" | eps\n"
   ]
  },
  {
   "cell_type": "code",
   "execution_count": null,
   "id": "e2d99462",
   "metadata": {},
   "outputs": [
    {
     "name": "stdout",
     "output_type": "stream",
     "text": [
      "<re.Match object; span=(0, 1), match='('>\n",
      "<re.Match object; span=(1, 2), match='('>\n",
      "<re.Match object; span=(2, 3), match='('>\n",
      "<re.Match object; span=(4, 5), match=')'>\n",
      "<re.Match object; span=(5, 6), match=')'>\n"
     ]
    },
    {
     "ename": "StopIteration",
     "evalue": "",
     "output_type": "error",
     "traceback": [
      "\u001b[31m---------------------------------------------------------------------------\u001b[39m",
      "\u001b[31mStopIteration\u001b[39m                             Traceback (most recent call last)",
      "\u001b[36mCell\u001b[39m\u001b[36m \u001b[39m\u001b[32mIn[27]\u001b[39m\u001b[32m, line 31\u001b[39m\n\u001b[32m     27\u001b[39m     \u001b[38;5;28;01melse\u001b[39;00m:\n\u001b[32m     28\u001b[39m         \u001b[38;5;28;01mreturn\u001b[39;00m \u001b[32m0\u001b[39m\n\u001b[32m---> \u001b[39m\u001b[32m31\u001b[39m \u001b[43msexp\u001b[49m\u001b[43m(\u001b[49m\u001b[43mre\u001b[49m\u001b[43m.\u001b[49m\u001b[43mfinditer\u001b[49m\u001b[43m(\u001b[49m\u001b[43mtok_regex\u001b[49m\u001b[43m,\u001b[49m\u001b[43m \u001b[49m\u001b[33;43m\"\u001b[39;49m\u001b[33;43m((()))\u001b[39;49m\u001b[33;43m\"\u001b[39;49m\u001b[43m)\u001b[49m\u001b[43m)\u001b[49m\n",
      "\u001b[36mCell\u001b[39m\u001b[36m \u001b[39m\u001b[32mIn[27]\u001b[39m\u001b[32m, line 22\u001b[39m, in \u001b[36msexp\u001b[39m\u001b[34m(tokens)\u001b[39m\n\u001b[32m     20\u001b[39m \u001b[38;5;28mprint\u001b[39m(mo)\n\u001b[32m     21\u001b[39m n = sexp(tokens)\n\u001b[32m---> \u001b[39m\u001b[32m22\u001b[39m mo = \u001b[38;5;28;43mnext\u001b[39;49m\u001b[43m(\u001b[49m\u001b[43mtokens\u001b[49m\u001b[43m)\u001b[49m\n\u001b[32m     23\u001b[39m \u001b[38;5;28mprint\u001b[39m(mo)\n\u001b[32m     24\u001b[39m kind = mo.lastgroup\n",
      "\u001b[31mStopIteration\u001b[39m: "
     ]
    }
   ],
   "source": [
    "import re\n",
    "import itertools\n",
    "token_specification = [\n",
    "    ('LPAREN', r'\\('),\n",
    "    ('RPAREN', r'\\)'),\n",
    "    (\"NL\", r'\\n+'),\n",
    "]\n",
    "tok_regex = '|'.join('(?P<%s>%s)' % pair for pair in token_specification)\n",
    "\n",
    "\n",
    "#def peek(it):\n",
    "#    a = next(it)\n",
    "#    return a, itertools.chain([a], it)\n",
    "\n",
    "\n",
    "def sexp(tokens):\n",
    "    mo, tokens = peek(tokens)\n",
    "    kind = mo.lastgroup\n",
    "    if kind == 'LPAREN':\n",
    "        mo = next(tokens)\n",
    "        print(mo)\n",
    "        n = sexp(tokens)\n",
    "        mo = next(tokens)\n",
    "        print(mo)\n",
    "        kind = mo.lastgroup\n",
    "        assert kind == 'RPAREN'\n",
    "        return n + 1\n",
    "    else:\n",
    "        return 0\n",
    "\n",
    "\n",
    "sexp(re.finditer(tok_regex, \"((()))\"))\n",
    "\n",
    "\n",
    "\n",
    "\n"
   ]
  }
 ],
 "metadata": {
  "kernelspec": {
   "display_name": "philzook58.github.io",
   "language": "python",
   "name": "python3"
  },
  "language_info": {
   "codemirror_mode": {
    "name": "ipython",
    "version": 3
   },
   "file_extension": ".py",
   "mimetype": "text/x-python",
   "name": "python",
   "nbconvert_exporter": "python",
   "pygments_lexer": "ipython3",
   "version": "3.12.3"
  }
 },
 "nbformat": 4,
 "nbformat_minor": 5
}
