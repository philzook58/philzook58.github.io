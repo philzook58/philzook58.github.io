{
 "cells": [
  {
   "cell_type": "markdown",
   "id": "49435b13",
   "metadata": {},
   "source": []
  },
  {
   "cell_type": "markdown",
   "id": "0a9031ef",
   "metadata": {},
   "source": [
    "\n",
    "- kd_load for constants that need to be loaded into ram. kd_end_load\n",
    "- objcopy into biary data. pushsection popsection. local labels https://discuss.systems/@pkhuong/114939754477593015\n",
    "- kd_always\n",
    "- Checking memory reads and writes aren't really state functions. Hmm.\n",
    "- equivalence checking. kd_sync mylabel \"(rax + 7)\"  kd_sync mylabel \"(select ram 17)\"  Two expressions that should be equal. kd_sync_all? ghost_channels? kd_send mylabel \"expr\". kd_recv varname mylabel. Could just enable reading the ghost vars of the other one. And give a fixed composition ordering. Or just tying all labels? kd_sync_cut ?\n",
    "- bigger more interesting examples. simd?\n",
    "- Still unclear if hitting Entry should be something like hitting a sealed precondition (whether entry is also a trace killer). I'd need to track which entry can reach which exits to make this work.\n",
    "- true / false shortcuts\n",
    "- trace limit, step bounds\n",
    "- Interactive VC\n",
    "\n",
    "- 32 bit arch\n",
    "- Make CLI.\n",
    "- better countermodel presentation. could always be btter\n",
    "\n",
    "Memcopy example\n",
    "Play with devices on pico or arduino or something. esp32?\n",
    "\n",
    "Build toy compiler to output\n",
    "\n",
    "Floyd flowcharts https://userweb.cs.txstate.edu/~rp31/papersSQ/Floyd.pdf \n",
    "Very interesting. Quite similar to what I've been doing. The labelled flowchart is the proof object? Akin to cyclic proofs. What if we took non well founded set something? Then well foundedness is less of a concern. The tree nature of ordinary proofs is like comitting to structured programming. Maybe we're missing out on something here.\n",
    "\n",
    "verilog co-verification\n",
    "\n",
    "https://www.philipzucker.com/assembly_verify/\n",
    "https://www.philipzucker.com/asm_verify2/\n",
    "\n",
    "Local labels and pushsection popsection\n",
    "\n",
    "euclids algo. Sum 1 - n\n",
    "Knuth stuff?\n",
    "list reversal. memcpy\n",
    "s2n examples\n",
    "frama-c\n",
    "vst examples\n",
    "\n",
    "https://vst.cs.princeton.edu/veric/ vst book. interesting\n",
    "\n",
    "https://xavierleroy.org/CdF/2023-2024/8.pdf \n",
    "https://xavierleroy.org/CdF/2020-2021/ program logics\n",
    "https://github.com/xavierleroy/cdf-program-logics\n",
    "https://github.com/xavierleroy/cdf-mech-sem\n",
    "\n",
    "Annotated flochart --> VCs as a semantics. That's an interesting persepctive.\n",
    "\n",
    "https://github.com/NationalSecurityAgency/ghidra/tree/master/Ghidra/Extensions/SymbolicSummaryZ3/src/main/java/ghidra/pcode/emu/symz3\n",
    "\n",
    "\n",
    "gries science of programming\n",
    "\n",
    "typed assembly \n",
    "pcc - knuckeldragger proof objects\n",
    "foundational pcc\n"
   ]
  },
  {
   "cell_type": "markdown",
   "id": "8dbcc7bc",
   "metadata": {},
   "source": [
    "# Bigger Examples\n",
    "\n",
    "\n",
    "wp-manual\n",
    "hoare model, typed model, bytes model, region model\n",
    "\n",
    "assigns\n",
    "foundational pcc\n",
    "\n",
    "inject helpers?\n",
    "\n",
    "writeable\n",
    "readable\n",
    "tagged memory"
   ]
  },
  {
   "cell_type": "markdown",
   "id": "d08851ab",
   "metadata": {},
   "source": [
    "## Swap"
   ]
  },
  {
   "cell_type": "code",
   "execution_count": null,
   "id": "0c667800",
   "metadata": {},
   "outputs": [
    {
     "name": "stdout",
     "output_type": "stream",
     "text": [
      "Overwriting /tmp/swap.c\n"
     ]
    }
   ],
   "source": [
    "%%file /tmp/swap.c\n",
    "\n",
    "/*@ requires \\valid(a) && \\valid(b);\n",
    "@ ensures A: *a == \\old(*b) ;\n",
    "@ ensures B: *b == \\old(*a) ;\n",
    "@ assigns *a,*b ;\n",
    "@*/\n",
    "void swap(int *a,int *b);\n",
    "\n",
    "void swap(int *a,int *b)\n",
    "{\n",
    "    int tmp = *a ;\n",
    "    *a = *b ;\n",
    "    *b = tmp ;\n",
    "    return ;\n",
    "}\n"
   ]
  },
  {
   "cell_type": "code",
   "execution_count": 8,
   "id": "3e56888c",
   "metadata": {},
   "outputs": [
    {
     "name": "stdout",
     "output_type": "stream",
     "text": [
      "[kernel] Parsing /tmp/swap.c (with preprocessing)\n",
      "[rte:annot] annotating function swap\n",
      "[report] Computing properties status...\n",
      "\n",
      "--------------------------------------------------------------------------------\n",
      "--- Properties of Function 'swap'\n",
      "--------------------------------------------------------------------------------\n",
      "\n",
      "[  Valid  ] Post-condition 'A'\n",
      "            by Wp.typed.\n",
      "[  Valid  ] Post-condition 'B'\n",
      "            by Wp.typed.\n",
      "[  Valid  ] Exit-condition (generated)\n",
      "            by Unreachable Annotations.\n",
      "[  Valid  ] Termination-condition (generated)\n",
      "            by Trivial Termination.\n",
      "[  Valid  ] Assigns (file /tmp/swap.c, line 5)\n",
      "            by Wp.typed.\n",
      "[  Valid  ] Assertion 'rte,mem_access' (file /tmp/swap.c, line 11)\n",
      "            by Wp.typed.\n",
      "[  Valid  ] Assertion 'rte,mem_access' (file /tmp/swap.c, line 12)\n",
      "            by Wp.typed.\n",
      "[  Valid  ] Assertion 'rte,mem_access' (file /tmp/swap.c, line 12)\n",
      "            by Wp.typed.\n",
      "[  Valid  ] Assertion 'rte,mem_access' (file /tmp/swap.c, line 13)\n",
      "            by Wp.typed.\n",
      "[  Valid  ] Default behavior\n",
      "            by Frama-C kernel.\n",
      "\n",
      "--------------------------------------------------------------------------------\n",
      "--- Status Report Summary\n",
      "--------------------------------------------------------------------------------\n",
      "    10 Completely validated\n",
      "    10 Total\n",
      "--------------------------------------------------------------------------------\n"
     ]
    }
   ],
   "source": [
    "! frama-c -wp -wp-verbose 0 -wp-rte /tmp/swap.c -then -report"
   ]
  },
  {
   "cell_type": "code",
   "execution_count": 10,
   "id": "ba2532dd",
   "metadata": {},
   "outputs": [
    {
     "name": "stdout",
     "output_type": "stream",
     "text": [
      "\t.file\t\"swap.c\"\n",
      "\t.text\n",
      "\t.globl\tswap\n",
      "\t.type\tswap, @function\n",
      "swap:\n",
      ".LFB0:\n",
      "\t.cfi_startproc\n",
      "\tendbr64\n",
      "\tmovl\t(%rdi), %eax\n",
      "\tmovl\t(%rsi), %edx\n",
      "\tmovl\t%edx, (%rdi)\n",
      "\tmovl\t%eax, (%rsi)\n",
      "\tret\n",
      "\t.cfi_endproc\n",
      ".LFE0:\n",
      "\t.size\tswap, .-swap\n",
      "\t.ident\t\"GCC: (Ubuntu 13.3.0-6ubuntu2~24.04) 13.3.0\"\n",
      "\t.section\t.note.GNU-stack,\"\",@progbits\n",
      "\t.section\t.note.gnu.property,\"a\"\n",
      "\t.align 8\n",
      "\t.long\t1f - 0f\n",
      "\t.long\t4f - 1f\n",
      "\t.long\t5\n",
      "0:\n",
      "\t.string\t\"GNU\"\n",
      "1:\n",
      "\t.align 8\n",
      "\t.long\t0xc0000002\n",
      "\t.long\t3f - 2f\n",
      "2:\n",
      "\t.long\t0x3\n",
      "3:\n",
      "\t.align 8\n",
      "4:\n"
     ]
    }
   ],
   "source": [
    "! gcc -c -O1 -S /tmp/swap.c -o /tmp/swap.s && cat /tmp/swap.s"
   ]
  },
  {
   "cell_type": "markdown",
   "id": "0afd23b3",
   "metadata": {},
   "source": [
    "Maybe allowing global assumes would be useful for declaring intermediate constants? global asserts also?\n",
    "This is kind of too nice.\n",
    "\n",
    "I would also like to see the ghost assignments in the trace\n"
   ]
  },
  {
   "cell_type": "code",
   "execution_count": null,
   "id": "eb85ef3f",
   "metadata": {},
   "outputs": [
    {
     "name": "stdout",
     "output_type": "stream",
     "text": [
      "Overwriting /tmp/swap2.s\n"
     ]
    }
   ],
   "source": [
    "%%file /tmp/swap2.s\n",
    ".include \"/tmp/knuckle.s\"\n",
    "kd_prelude \"(declare-const olda (_ BitVec 32))\"\n",
    "kd_prelude \"(declare-const oldb (_ BitVec 32))\"\n",
    "kd_prelude \"(declare-const gap (_ BitVec 64))\"\n",
    "#kd_prelude \"(define-const mybv16 (_ bv16 64))\" # seems to thrash bv16 notation\n",
    "#kd_prelude \"(define-fun has_gap ((x (_ BitVec 64)) (y (_ BitVec 64)) (g (_ BitVec 64))) (or (bvule (bvadd x y) g) \"\n",
    "#kd_prelude \"(define-fun bvgap ((x (_ BitVec 64)) (y (_ BitVec 64)) (g (_ BitVec 64))) (distinct x (bvadd x 1) (bvadd x 2) (bvadd x 3) y (bvadd y 1) (bvadd y 2) (bvadd y 3))\"\n",
    "\n",
    "\t.globl\tswap\n",
    "\t.type\tswap, @function\n",
    "kd_entry swap \"(and (= RDI (_ bv16 64)) (bvuge RSI (_ bv32 64)))\"\n",
    "#kd_entry swap \"(and (bvule gap (_ (= (bvadd))\"\n",
    ".LFB0:\n",
    "kd_assign save_olda olda \"(select ram32 RDI)\"\n",
    "kd_assign save_oldb oldb \"(select ram32 RSI)\"\n",
    "\t.cfi_startproc\n",
    "\tendbr64\n",
    "\tmovl\t(%rdi), %eax\n",
    "\tmovl\t(%rsi), %edx\n",
    "\tmovl\t%edx, (%rdi)\n",
    "\tmovl\t%eax, (%rsi)\n",
    "kd_exit myexit \"(and (= (select ram32 RSI) olda) (= (select ram32 RDI) oldb))\"\n",
    "\tret\n",
    "\t.cfi_endproc\n"
   ]
  },
  {
   "cell_type": "code",
   "execution_count": 45,
   "id": "090fbc9e",
   "metadata": {},
   "outputs": [
    {
     "name": "stdout",
     "output_type": "stream",
     "text": [
      "Processing /tmp/swap2.s with language ID x86:LE:64:default using assembler as\n",
      "Constructing Trace Fragments...\n",
      "Unexpected SP conflict\n",
      "Executing SpecStmt: Assign(label='save_olda', addr=4194304, name='olda', expr=ram32[RDI])\n",
      "Executing SpecStmt: Assign(label='save_oldb', addr=4194304, name='oldb', expr=ram32[RSI])\n",
      "Executing 0x400000/4: ENDBR64  at (4194304, 0) PCODE IMARK ram[400000:4]\n",
      "Executing 0x400004/2: MOV EAX,dword ptr [RDI] at (4194308, 0) PCODE IMARK ram[400004:2]\n",
      "Executing 0x400004/2: MOV EAX,dword ptr [RDI] at (4194308, 1) PCODE unique[de00:4] = *[ram]RDI\n",
      "Executing 0x400004/2: MOV EAX,dword ptr [RDI] at (4194308, 2) PCODE EAX = unique[de00:4]\n",
      "Executing 0x400004/2: MOV EAX,dword ptr [RDI] at (4194308, 3) PCODE RAX = zext(EAX)\n",
      "Executing 0x400006/2: MOV EDX,dword ptr [RSI] at (4194310, 0) PCODE IMARK ram[400006:2]\n",
      "Executing 0x400006/2: MOV EDX,dword ptr [RSI] at (4194310, 1) PCODE unique[de00:4] = *[ram]RSI\n",
      "Executing 0x400006/2: MOV EDX,dword ptr [RSI] at (4194310, 2) PCODE EDX = unique[de00:4]\n",
      "Executing 0x400006/2: MOV EDX,dword ptr [RSI] at (4194310, 3) PCODE RDX = zext(EDX)\n",
      "Executing 0x400008/2: MOV dword ptr [RDI],EDX at (4194312, 0) PCODE IMARK ram[400008:2]\n",
      "Executing 0x400008/2: MOV dword ptr [RDI],EDX at (4194312, 1) PCODE unique[6a80:4] = EDX\n",
      "Executing 0x400008/2: MOV dword ptr [RDI],EDX at (4194312, 2) PCODE *[ram]RDI = unique[6a80:4]\n",
      "Executing 0x40000a/2: MOV dword ptr [RSI],EAX at (4194314, 0) PCODE IMARK ram[40000a:2]\n",
      "Executing 0x40000a/2: MOV dword ptr [RSI],EAX at (4194314, 1) PCODE unique[6a80:4] = EAX\n",
      "Executing 0x40000a/2: MOV dword ptr [RSI],EAX at (4194314, 2) PCODE *[ram]RSI = unique[6a80:4]\n",
      "Executing SpecStmt: Exit(myexit, 0x40000c, And(ram32[RSI] == olda, ram32[RDI] == oldb))\n",
      "Checking verification conditions...\n",
      "[✅] Exit(myexit, 0x40000c, And(ram32[RSI] == olda, ram32[RDI] == oldb))\n",
      "✅✅✅✅ All 1 verification conditions passed! ✅✅✅✅\n"
     ]
    }
   ],
   "source": [
    "! python3 -m kdrag.contrib.pcode /tmp/swap2.s"
   ]
  },
  {
   "cell_type": "code",
   "execution_count": 15,
   "id": "0ecaa4a8",
   "metadata": {},
   "outputs": [
    {
     "name": "stdout",
     "output_type": "stream",
     "text": [
      "/tmp/swap2.s: Assembler messages:\n",
      "/tmp/swap2.s:1: Error: can't open /tmp/knuckle.s for reading: No such file or directory\n",
      "/tmp/swap2.s:2: Error: no such instruction: `kd_prelude \"(declare-const olda (_ BitVec 32))\"'\n",
      "/tmp/swap2.s:3: Error: no such instruction: `kd_prelude \"(declare-const oldb (_ BitVec 32))\"'\n",
      "/tmp/swap2.s:7: Error: no such instruction: `kd_entry swap \"true\"'\n",
      "/tmp/swap2.s:9: Error: no such instruction: `kd_assign olda \"(select ram32 RDI)\"'\n",
      "/tmp/swap2.s:10: Error: no such instruction: `kd_assign oldb \"(select ram32 RSI)\"'\n",
      "/tmp/swap2.s:17: Error: no such instruction: `kd_exit myexit \"(and (= (select ram32 RSI) olda)) (= (select ram32 RDI) oldb))\"'\n"
     ]
    }
   ],
   "source": [
    "! gcc -c /tmp/swap2.s -o /tmp/swap2.o"
   ]
  },
  {
   "cell_type": "markdown",
   "id": "4797fc5e",
   "metadata": {},
   "source": [
    "## copy1\n"
   ]
  },
  {
   "cell_type": "code",
   "execution_count": 50,
   "id": "f7c1bab7",
   "metadata": {},
   "outputs": [
    {
     "name": "stdout",
     "output_type": "stream",
     "text": [
      "Overwriting /tmp/copy1.c\n"
     ]
    }
   ],
   "source": [
    "%%file /tmp/copy1.c\n",
    "\n",
    "void copy1(int *src, int *dst){\n",
    "    *dst = *src;\n",
    "    return;\n",
    "}"
   ]
  },
  {
   "cell_type": "code",
   "execution_count": 51,
   "id": "4c63a6f5",
   "metadata": {},
   "outputs": [
    {
     "name": "stdout",
     "output_type": "stream",
     "text": [
      "\t.file\t\"copy1.c\"\n",
      "\t.text\n",
      "\t.globl\tcopy1\n",
      "\t.type\tcopy1, @function\n",
      "copy1:\n",
      ".LFB0:\n",
      "\t.cfi_startproc\n",
      "\tendbr64\n",
      "\tmovl\t(%rdi), %eax\n",
      "\tmovl\t%eax, (%rsi)\n",
      "\tret\n",
      "\t.cfi_endproc\n",
      ".LFE0:\n",
      "\t.size\tcopy1, .-copy1\n",
      "\t.ident\t\"GCC: (Ubuntu 13.3.0-6ubuntu2~24.04) 13.3.0\"\n",
      "\t.section\t.note.GNU-stack,\"\",@progbits\n",
      "\t.section\t.note.gnu.property,\"a\"\n",
      "\t.align 8\n",
      "\t.long\t1f - 0f\n",
      "\t.long\t4f - 1f\n",
      "\t.long\t5\n",
      "0:\n",
      "\t.string\t\"GNU\"\n",
      "1:\n",
      "\t.align 8\n",
      "\t.long\t0xc0000002\n",
      "\t.long\t3f - 2f\n",
      "2:\n",
      "\t.long\t0x3\n",
      "3:\n",
      "\t.align 8\n",
      "4:\n"
     ]
    }
   ],
   "source": [
    "! gcc -c -O1 -S /tmp/copy1.c -o /tmp/copy1.s && cat /tmp/copy1.s"
   ]
  },
  {
   "cell_type": "code",
   "execution_count": 9,
   "id": "a62c6e58",
   "metadata": {},
   "outputs": [
    {
     "name": "stdout",
     "output_type": "stream",
     "text": [
      "Overwriting /tmp/copy1.s\n"
     ]
    }
   ],
   "source": [
    "%%file /tmp/copy1.s\n",
    ".include \"/tmp/knuckle.s\"\n",
    "\t.text\n",
    "\t.globl\tcopy1\n",
    "\t.type\tcopy1, @function\n",
    "# Property fails if you comment this out. RDI and RSI cannot alias.\n",
    "kd_entry copy1 \"(distinct  (bvadd RDI (_ bv1 64)) (bvadd RDI (_ bv2 64)) (bvadd RDI (_ bv3 64)) RSI (bvadd RSI (_ bv1 64)) (bvadd RSI (_ bv2 64)) (bvadd RSI (_ bv3 64)))\"\n",
    "\n",
    ".LFB0:\n",
    "\t.cfi_startproc\n",
    "\tendbr64\n",
    "\tmovl\t(%rdi), %eax\n",
    "\tmovl\t%eax, (%rsi)\n",
    "kd_exit myexit \"(= (select ram32 RSI) (select ram32 RDI))\"\n",
    "\tret\n",
    "\t.cfi_endproc"
   ]
  },
  {
   "cell_type": "code",
   "execution_count": 12,
   "id": "9ae763d5",
   "metadata": {},
   "outputs": [
    {
     "name": "stdout",
     "output_type": "stream",
     "text": [
      "Processing /tmp/copy1.s with language ID x86:LE:64:default using assembler as\n",
      "Constructing Trace Fragments...\n",
      "Unexpected SP conflict\n",
      "Executing 0x400000/4: ENDBR64  at (4194304, 0) PCODE IMARK ram[400000:4]\n",
      "Executing 0x400004/2: MOV EAX,dword ptr [RDI] at (4194308, 0) PCODE IMARK ram[400004:2]\n",
      "Executing 0x400004/2: MOV EAX,dword ptr [RDI] at (4194308, 1) PCODE unique[de00:4] = *[ram]RDI\n",
      "Executing 0x400004/2: MOV EAX,dword ptr [RDI] at (4194308, 2) PCODE EAX = unique[de00:4]\n",
      "Executing 0x400004/2: MOV EAX,dword ptr [RDI] at (4194308, 3) PCODE RAX = zext(EAX)\n",
      "Executing 0x400006/2: MOV dword ptr [RSI],EAX at (4194310, 0) PCODE IMARK ram[400006:2]\n",
      "Executing 0x400006/2: MOV dword ptr [RSI],EAX at (4194310, 1) PCODE unique[6a80:4] = EAX\n",
      "Executing 0x400006/2: MOV dword ptr [RSI],EAX at (4194310, 2) PCODE *[ram]RSI = unique[6a80:4]\n",
      "Executing SpecStmt: Exit(myexit, 0x400008, ram32[RSI] == ram32[RDI])\n",
      "Checking verification conditions...\n",
      "[❌] Exit(myexit, 0x400008, ram32[RSI] == ram32[RDI])\n",
      "---------------------------------------------\n",
      "Trace:\n",
      "Entry(copy1, 0x400000, Distinct(RDI + 1,\n",
      "         RDI + 2,\n",
      "         RDI + 3,\n",
      "         RSI,\n",
      "         RSI + 1,\n",
      "         RSI + 2,\n",
      "         RSI + 3))\n",
      "0x400000/4: ENDBR64 \n",
      "0x400004/2: MOV EAX,dword ptr [RDI]\n",
      "0x400006/2: MOV dword ptr [RSI],EAX\n",
      "Exit(myexit, 0x400008, ram32[RSI] == ram32[RDI])\n",
      "\n",
      "Countermodel:\n",
      "{ram32[RSI]: 513,\n",
      " ram32[RDI]: 512,\n",
      " RSI: 144118647135587461,\n",
      " RDI: 144118647135587464}\n",
      "---------------------------------------------\n",
      "❌❌❌❌ Some verification conditions failed. ❌❌❌❌\n"
     ]
    }
   ],
   "source": [
    "! python3 -m kdrag.contrib.pcode /tmp/copy1.s"
   ]
  },
  {
   "cell_type": "markdown",
   "id": "46c02cf6",
   "metadata": {},
   "source": [
    "## Memcopy\n",
    "\n"
   ]
  },
  {
   "cell_type": "code",
   "execution_count": 58,
   "id": "1e1763eb",
   "metadata": {},
   "outputs": [
    {
     "name": "stdout",
     "output_type": "stream",
     "text": [
      "Writing /tmp/mymemcpy.c\n"
     ]
    }
   ],
   "source": [
    "%%file /tmp/mymemcpy.c\n",
    "#include <stddef.h>\n",
    "void mymemcpy(int *dst, const int *src, size_t n) {\n",
    "    for (size_t i = 0; i < n; i++) {\n",
    "        dst[i] = src[i];\n",
    "    }\n",
    "    return;\n",
    "}\n"
   ]
  },
  {
   "cell_type": "markdown",
   "id": "f85edaf9",
   "metadata": {},
   "source": []
  },
  {
   "cell_type": "code",
   "execution_count": 61,
   "id": "7b9bb9c3",
   "metadata": {},
   "outputs": [
    {
     "name": "stdout",
     "output_type": "stream",
     "text": [
      "\t.file\t\"mymemcpy.c\"\n",
      "\t.text\n",
      "\t.globl\tmymemcpy\n",
      "\t.type\tmymemcpy, @function\n",
      "mymemcpy:\n",
      ".LFB0:\n",
      "\t.cfi_startproc\n",
      "\tendbr64\n",
      "\ttestq\t%rdx, %rdx\n",
      "\tje\t.L1\n",
      "\tmovl\t$0, %eax\n",
      ".L3:\n",
      "\tmovl\t(%rsi,%rax,4), %ecx\n",
      "\tmovl\t%ecx, (%rdi,%rax,4)\n",
      "\taddq\t$1, %rax\n",
      "\tcmpq\t%rax, %rdx\n",
      "\tjne\t.L3\n",
      ".L1:\n",
      "\tret\n",
      "\t.cfi_endproc\n",
      ".LFE0:\n",
      "\t.size\tmymemcpy, .-mymemcpy\n",
      "\t.ident\t\"GCC: (Ubuntu 13.3.0-6ubuntu2~24.04) 13.3.0\"\n",
      "\t.section\t.note.GNU-stack,\"\",@progbits\n",
      "\t.section\t.note.gnu.property,\"a\"\n",
      "\t.align 8\n",
      "\t.long\t1f - 0f\n",
      "\t.long\t4f - 1f\n",
      "\t.long\t5\n",
      "0:\n",
      "\t.string\t\"GNU\"\n",
      "1:\n",
      "\t.align 8\n",
      "\t.long\t0xc0000002\n",
      "\t.long\t3f - 2f\n",
      "2:\n",
      "\t.long\t0x3\n",
      "3:\n",
      "\t.align 8\n",
      "4:\n"
     ]
    }
   ],
   "source": [
    "! gcc -c -O1 -S /tmp/mymemcpy.c -o /tmp/mymemcpy.s && cat /tmp/mymemcpy.s"
   ]
  },
  {
   "cell_type": "code",
   "execution_count": null,
   "id": "81ccb8d2",
   "metadata": {},
   "outputs": [],
   "source": [
    "%%file /tmp/mymemcpy.s\n",
    ".include \"/tmp/knuckle.s\"\n",
    "\t.text\n",
    "\t.globl\tmymemcpy\n",
    "\t.type\tmymemcpy, @function\n",
    "kd_entry mymemcpy \"(and (bvuge RDI (_ bv0 64)) (bvule RDI (_ bv2 64)))\" # limit size\n",
    ".LFB0:\n",
    "\t.cfi_startproc\n",
    "\tendbr64\n",
    "\ttestq\t%rdx, %rdx\n",
    "\tje\t.L1\n",
    "\tmovl\t$0, %eax\n",
    ".L3:\n",
    "kd_cut mycut \"(EAX)\"\n",
    "\tmovl\t(%rsi,%rax,4), %ecx\n",
    "\tmovl\t%ecx, (%rdi,%rax,4)\n",
    "\taddq\t$1, %rax\n",
    "\tcmpq\t%rax, %rdx\n",
    "\tjne\t.L3\n",
    ".L1:\n",
    "kd_exit myexit \"(forall ((offset (_ BitVec 64)) (=> (select ram (bvadd RDI offset) (bvadd RSI offset)))\"\n",
    "\tret\n",
    "\t.cfi_endproc"
   ]
  },
  {
   "cell_type": "markdown",
   "id": "d078c677",
   "metadata": {},
   "source": []
  },
  {
   "cell_type": "code",
   "execution_count": 5,
   "id": "818fdc8b",
   "metadata": {},
   "outputs": [
    {
     "name": "stderr",
     "output_type": "stream",
     "text": [
      "Unexpected SP conflict\n"
     ]
    },
    {
     "name": "stdout",
     "output_type": "stream",
     "text": [
      "Executing SpecStmt: Assign(label='save_olda', addr=4194304, name='olda', expr=ram32[RDI])\n",
      "Executing SpecStmt: Assign(label='save_oldb', addr=4194304, name='oldb', expr=ram32[RSI])\n",
      "Executing 0x400000/4: ENDBR64  at (4194304, 0) PCODE IMARK ram[400000:4]\n",
      "Executing 0x400004/2: MOV EAX,dword ptr [RDI] at (4194308, 0) PCODE IMARK ram[400004:2]\n",
      "Executing 0x400004/2: MOV EAX,dword ptr [RDI] at (4194308, 1) PCODE unique[de00:4] = *[ram]RDI\n",
      "Executing 0x400004/2: MOV EAX,dword ptr [RDI] at (4194308, 2) PCODE EAX = unique[de00:4]\n",
      "Executing 0x400004/2: MOV EAX,dword ptr [RDI] at (4194308, 3) PCODE RAX = zext(EAX)\n",
      "Executing 0x400006/2: MOV EDX,dword ptr [RSI] at (4194310, 0) PCODE IMARK ram[400006:2]\n",
      "Executing 0x400006/2: MOV EDX,dword ptr [RSI] at (4194310, 1) PCODE unique[de00:4] = *[ram]RSI\n",
      "Executing 0x400006/2: MOV EDX,dword ptr [RSI] at (4194310, 2) PCODE EDX = unique[de00:4]\n",
      "Executing 0x400006/2: MOV EDX,dword ptr [RSI] at (4194310, 3) PCODE RDX = zext(EDX)\n",
      "Executing 0x400008/2: MOV dword ptr [RDI],EDX at (4194312, 0) PCODE IMARK ram[400008:2]\n",
      "Executing 0x400008/2: MOV dword ptr [RDI],EDX at (4194312, 1) PCODE unique[6a80:4] = EDX\n",
      "Executing 0x400008/2: MOV dword ptr [RDI],EDX at (4194312, 2) PCODE *[ram]RDI = unique[6a80:4]\n",
      "Executing 0x40000a/2: MOV dword ptr [RSI],EAX at (4194314, 0) PCODE IMARK ram[40000a:2]\n",
      "Executing 0x40000a/2: MOV dword ptr [RSI],EAX at (4194314, 1) PCODE unique[6a80:4] = EAX\n",
      "Executing 0x40000a/2: MOV dword ptr [RSI],EAX at (4194314, 2) PCODE *[ram]RSI = unique[6a80:4]\n",
      "Executing SpecStmt: Exit(myexit, 0x40000c, And(ram32[RSI] == olda, ram32[RDI] == oldb))\n",
      "And(Store(Store(Store(Store(Store(Store(Store(Store(ram(mem0),\n",
      "                                        RDI!539,\n",
      "                                        ram(mem0)[RSI!538]),\n",
      "                                        1 + RDI!539,\n",
      "                                        ram(mem0)[1 +\n",
      "                                        RSI!538]),\n",
      "                                        2 + RDI!539,\n",
      "                                        ram(mem0)[2 +\n",
      "                                        RSI!538]),\n",
      "                                  3 + RDI!539,\n",
      "                                  ram(mem0)[3 + RSI!538]),\n",
      "                            RSI!538,\n",
      "                            ram(mem0)[RDI!539]),\n",
      "                      1 + RSI!538,\n",
      "                      ram(mem0)[1 + RDI!539]),\n",
      "                2 + RSI!538,\n",
      "                ram(mem0)[2 + RDI!539]),\n",
      "          3 + RSI!538,\n",
      "          ram(mem0)[3 + RDI!539])[RDI!539] ==\n",
      "    ram(mem0)[RSI!538],\n",
      "    Store(Store(Store(Store(Store(Store(Store(Store(ram(mem0),\n",
      "                                        RDI!539,\n",
      "                                        ram(mem0)[RSI!538]),\n",
      "                                        1 + RDI!539,\n",
      "                                        ram(mem0)[1 +\n",
      "                                        RSI!538]),\n",
      "                                        2 + RDI!539,\n",
      "                                        ram(mem0)[2 +\n",
      "                                        RSI!538]),\n",
      "                                  3 + RDI!539,\n",
      "                                  ram(mem0)[3 + RSI!538]),\n",
      "                            RSI!538,\n",
      "                            ram(mem0)[RDI!539]),\n",
      "                      1 + RSI!538,\n",
      "                      ram(mem0)[1 + RDI!539]),\n",
      "                2 + RSI!538,\n",
      "                ram(mem0)[2 + RDI!539]),\n",
      "          3 + RSI!538,\n",
      "          ram(mem0)[3 + RDI!539])[1 + RDI!539] ==\n",
      "    ram(mem0)[1 + RSI!538],\n",
      "    Store(Store(Store(Store(Store(Store(Store(Store(ram(mem0),\n",
      "                                        RDI!539,\n",
      "                                        ram(mem0)[RSI!538]),\n",
      "                                        1 + RDI!539,\n",
      "                                        ram(mem0)[1 +\n",
      "                                        RSI!538]),\n",
      "                                        2 + RDI!539,\n",
      "                                        ram(mem0)[2 +\n",
      "                                        RSI!538]),\n",
      "                                  3 + RDI!539,\n",
      "                                  ram(mem0)[3 + RSI!538]),\n",
      "                            RSI!538,\n",
      "                            ram(mem0)[RDI!539]),\n",
      "                      1 + RSI!538,\n",
      "                      ram(mem0)[1 + RDI!539]),\n",
      "                2 + RSI!538,\n",
      "                ram(mem0)[2 + RDI!539]),\n",
      "          3 + RSI!538,\n",
      "          ram(mem0)[3 + RDI!539])[2 + RDI!539] ==\n",
      "    ram(mem0)[2 + RSI!538],\n",
      "    Store(Store(Store(Store(Store(Store(Store(Store(ram(mem0),\n",
      "                                        RDI!539,\n",
      "                                        ram(mem0)[RSI!538]),\n",
      "                                        1 + RDI!539,\n",
      "                                        ram(mem0)[1 +\n",
      "                                        RSI!538]),\n",
      "                                        2 + RDI!539,\n",
      "                                        ram(mem0)[2 +\n",
      "                                        RSI!538]),\n",
      "                                  3 + RDI!539,\n",
      "                                  ram(mem0)[3 + RSI!538]),\n",
      "                            RSI!538,\n",
      "                            ram(mem0)[RDI!539]),\n",
      "                      1 + RSI!538,\n",
      "                      ram(mem0)[1 + RDI!539]),\n",
      "                2 + RSI!538,\n",
      "                ram(mem0)[2 + RDI!539]),\n",
      "          3 + RSI!538,\n",
      "          ram(mem0)[3 + RDI!539])[3 + RDI!539] ==\n",
      "    ram(mem0)[3 + RSI!538])\n"
     ]
    }
   ],
   "source": [
    "from kdrag.all import *\n",
    "from kdrag.contrib.pcode.asmspec import assemble_and_gen_vcs\n",
    "\n",
    "ctx, vcs = assemble_and_gen_vcs(\"/tmp/swap2.s\")\n",
    "vc = vcs[0]\n",
    "print(str(smt.simplify(vc.vc(ctx).arg(1))))"
   ]
  },
  {
   "cell_type": "markdown",
   "id": "0d87d565",
   "metadata": {},
   "source": [
    "Cleanup the verification condition.\n",
    "If we need to go manual, or debug, this is unacceptable.\n",
    "\n",
    "kd_alias RAX \n",
    "kd_size \"RAX\" 4   # ?\n",
    "kd_object RAX 4\n",
    "kd_separated\n",
    "kd_type RAX ctype\n",
    "\n",
    "maybe ram32 is too cute. It is a weird construct. The different pieceso f the ram are aliased in an unpexected way\n",
    "(select32 ram RDI)\n",
    "(select16 )\n",
    "(select8 )\n"
   ]
  },
  {
   "cell_type": "code",
   "execution_count": null,
   "id": "521d8b53",
   "metadata": {},
   "outputs": [],
   "source": [
    "smt.substitute(vc.vc(ctx).arg(1), (MemState.Const(\"mem0\").mem.ram, smt.Lambda([addr], Select(ram64[addr], addr % 8, addr % 8 + 1)))"
   ]
  },
  {
   "cell_type": "code",
   "execution_count": null,
   "id": "66305b3e",
   "metadata": {},
   "outputs": [],
   "source": [
    "offset = 0\n",
    "for name, vnode in ctx.vnodes.items():\n",
    "    if vnode.offset >= offset and len(name) < 4:\n",
    "        \n",
    "    offset = vnode.offset + vnode.size"
   ]
  },
  {
   "cell_type": "code",
   "execution_count": null,
   "id": "5f566f3f",
   "metadata": {},
   "outputs": [],
   "source": [
    "regfile = smt.FreshConst(\"regfile\", smt.ArraySort(self.bits, self.bits))\n",
    "ram = smt.FreshConsts( smt.ArraySort(self.bits, self.bits))"
   ]
  },
  {
   "cell_type": "markdown",
   "id": "ef2dfaa9",
   "metadata": {},
   "source": [
    "## Sumn"
   ]
  },
  {
   "cell_type": "code",
   "execution_count": 108,
   "id": "7fce3de9",
   "metadata": {},
   "outputs": [
    {
     "name": "stdout",
     "output_type": "stream",
     "text": [
      "Writing /tmp/sumn.c\n"
     ]
    }
   ],
   "source": [
    "%%file /tmp/sumn.c\n",
    "\n",
    "#include <stdio.h>\n",
    "#include <stdlib.h>\n",
    "int sumn(int n) {\n",
    "    int sum = 0;\n",
    "    for (int i = 1; i <= n; i++) {\n",
    "        sum += i;\n",
    "    }\n",
    "    return sum;\n",
    "}"
   ]
  },
  {
   "cell_type": "code",
   "execution_count": null,
   "id": "4ca543e0",
   "metadata": {},
   "outputs": [
    {
     "name": "stdout",
     "output_type": "stream",
     "text": [
      "/bin/bash: line 1: framac: command not found\n"
     ]
    }
   ],
   "source": [
    "! frama-c -eva /tmp/sumn.c "
   ]
  },
  {
   "cell_type": "code",
   "execution_count": 112,
   "id": "32b4c62f",
   "metadata": {},
   "outputs": [
    {
     "name": "stdout",
     "output_type": "stream",
     "text": [
      "\t.file\t\"sumn.c\"\n",
      "\t.text\n",
      "\t.globl\tsumn\n",
      "\t.type\tsumn, @function\n",
      "sumn:\n",
      ".LFB39:\n",
      "\t.cfi_startproc\n",
      "\tendbr64\n",
      "\ttestl\t%edi, %edi\n",
      "\tjle\t.L4\n",
      "\taddl\t$1, %edi\n",
      "\tmovl\t$1, %eax\n",
      "\tmovl\t$0, %edx\n",
      ".L3:\n",
      "\taddl\t%eax, %edx\n",
      "\taddl\t$1, %eax\n",
      "\tcmpl\t%edi, %eax\n",
      "\tjne\t.L3\n",
      ".L1:\n",
      "\tmovl\t%edx, %eax\n",
      "\tret\n",
      ".L4:\n",
      "\tmovl\t$0, %edx\n",
      "\tjmp\t.L1\n",
      "\t.cfi_endproc\n",
      ".LFE39:\n",
      "\t.size\tsumn, .-sumn\n",
      "\t.ident\t\"GCC: (Ubuntu 13.3.0-6ubuntu2~24.04) 13.3.0\"\n",
      "\t.section\t.note.GNU-stack,\"\",@progbits\n",
      "\t.section\t.note.gnu.property,\"a\"\n",
      "\t.align 8\n",
      "\t.long\t1f - 0f\n",
      "\t.long\t4f - 1f\n",
      "\t.long\t5\n",
      "0:\n",
      "\t.string\t\"GNU\"\n",
      "1:\n",
      "\t.align 8\n",
      "\t.long\t0xc0000002\n",
      "\t.long\t3f - 2f\n",
      "2:\n",
      "\t.long\t0x3\n",
      "3:\n",
      "\t.align 8\n",
      "4:\n"
     ]
    }
   ],
   "source": [
    "! gcc -c -O1 -S -o /tmp/sumn.s /tmp/sumn.c && cat /tmp/sumn.s"
   ]
  },
  {
   "cell_type": "code",
   "execution_count": 104,
   "id": "3d06ab90",
   "metadata": {},
   "outputs": [
    {
     "name": "stdout",
     "output_type": "stream",
     "text": [
      "Writing /tmp/sumarray.c\n"
     ]
    }
   ],
   "source": [
    "%%file /tmp/sumarray.c\n",
    "#include <stddef.h>\n",
    "int sumarray(int *arr, size_t n) {\n",
    "    int sum = 0;\n",
    "    for (size_t i = 0; i < n; i++) {\n",
    "        sum += arr[i];\n",
    "    }\n",
    "    return sum;\n",
    "}\n"
   ]
  },
  {
   "cell_type": "code",
   "execution_count": null,
   "id": "5f830492",
   "metadata": {},
   "outputs": [],
   "source": [
    "! frama-c "
   ]
  },
  {
   "cell_type": "code",
   "execution_count": 107,
   "id": "be1bbcdb",
   "metadata": {},
   "outputs": [
    {
     "name": "stdout",
     "output_type": "stream",
     "text": [
      "\t.file\t\"sumarray.c\"\n",
      "# GNU C17 (Ubuntu 13.3.0-6ubuntu2~24.04) version 13.3.0 (x86_64-linux-gnu)\n",
      "#\tcompiled by GNU C version 13.3.0, GMP version 6.3.0, MPFR version 4.2.1, MPC version 1.3.1, isl version isl-0.26-GMP\n",
      "\n",
      "# GGC heuristics: --param ggc-min-expand=100 --param ggc-min-heapsize=131072\n",
      "# options passed: -mtune=generic -march=x86-64 -O1 -fasynchronous-unwind-tables -fstack-protector-strong -fstack-clash-protection -fcf-protection\n",
      "\t.text\n",
      "\t.globl\tsumarray\n",
      "\t.type\tsumarray, @function\n",
      "sumarray:\n",
      ".LFB0:\n",
      "\t.cfi_startproc\n",
      "\tendbr64\t\n",
      "# /tmp/sumarray.c:4:     for (size_t i = 0; i < n; i++) {\n",
      "\ttestq\t%rsi, %rsi\t# n\n",
      "\tje\t.L4\t#,\n",
      "\tmovq\t%rdi, %rax\t# arr, ivtmp.6\n",
      "\tleaq\t(%rdi,%rsi,4), %rcx\t#, _19\n",
      "# /tmp/sumarray.c:3:     int sum = 0;\n",
      "\tmovl\t$0, %edx\t#, <retval>\n",
      ".L3:\n",
      "# /tmp/sumarray.c:5:         sum += arr[i];\n",
      "\taddl\t(%rax), %edx\t# MEM[(int *)_16], <retval>\n",
      "# /tmp/sumarray.c:4:     for (size_t i = 0; i < n; i++) {\n",
      "\taddq\t$4, %rax\t#, ivtmp.6\n",
      "\tcmpq\t%rcx, %rax\t# _19, ivtmp.6\n",
      "\tjne\t.L3\t#,\n",
      ".L1:\n",
      "# /tmp/sumarray.c:8: }\n",
      "\tmovl\t%edx, %eax\t# <retval>,\n",
      "\tret\t\n",
      ".L4:\n",
      "# /tmp/sumarray.c:3:     int sum = 0;\n",
      "\tmovl\t$0, %edx\t#, <retval>\n",
      "# /tmp/sumarray.c:7:     return sum;\n",
      "\tjmp\t.L1\t#\n",
      "\t.cfi_endproc\n",
      ".LFE0:\n",
      "\t.size\tsumarray, .-sumarray\n",
      "\t.ident\t\"GCC: (Ubuntu 13.3.0-6ubuntu2~24.04) 13.3.0\"\n",
      "\t.section\t.note.GNU-stack,\"\",@progbits\n",
      "\t.section\t.note.gnu.property,\"a\"\n",
      "\t.align 8\n",
      "\t.long\t1f - 0f\n",
      "\t.long\t4f - 1f\n",
      "\t.long\t5\n",
      "0:\n",
      "\t.string\t\"GNU\"\n",
      "1:\n",
      "\t.align 8\n",
      "\t.long\t0xc0000002\n",
      "\t.long\t3f - 2f\n",
      "2:\n",
      "\t.long\t0x3\n",
      "3:\n",
      "\t.align 8\n",
      "4:\n"
     ]
    }
   ],
   "source": [
    "! gcc /tmp/sumarray.c -c -fverbose-asm -S -o /tmp/sumarray.s -O1 && cat /tmp/sumarray.s"
   ]
  },
  {
   "cell_type": "code",
   "execution_count": 96,
   "id": "cfacf400",
   "metadata": {},
   "outputs": [
    {
     "name": "stdout",
     "output_type": "stream",
     "text": [
      "Overwriting /tmp/copy.c\n"
     ]
    }
   ],
   "source": [
    "%%file /tmp/copy.c\n",
    "#include <stddef.h>\n",
    "void mycopy(int *dest, const int *src, size_t n) {\n",
    "    for (size_t i = 0; i < n; i++) {\n",
    "        dest[i] = src[i];\n",
    "    }\n",
    "}"
   ]
  },
  {
   "cell_type": "code",
   "execution_count": 103,
   "id": "0736defa",
   "metadata": {},
   "outputs": [
    {
     "name": "stdout",
     "output_type": "stream",
     "text": [
      "\t.file\t\"copy.c\"\n",
      "\t.text\n",
      "\t.globl\tmycopy\n",
      "\t.type\tmycopy, @function\n",
      "mycopy:\n",
      ".LFB0:\n",
      "\t.cfi_startproc\n",
      "\tendbr64\n",
      "\ttestq\t%rdx, %rdx\n",
      "\tje\t.L1\n",
      "\tmovl\t$0, %eax\n",
      ".L3:\n",
      "\tmovl\t(%rsi,%rax,4), %ecx\n",
      "\tmovl\t%ecx, (%rdi,%rax,4)\n",
      "\taddq\t$1, %rax\n",
      "\tcmpq\t%rax, %rdx\n",
      "\tjne\t.L3\n",
      ".L1:\n",
      "\tret\n",
      "\t.cfi_endproc\n",
      ".LFE0:\n",
      "\t.size\tmycopy, .-mycopy\n",
      "\t.ident\t\"GCC: (Ubuntu 13.3.0-6ubuntu2~24.04) 13.3.0\"\n",
      "\t.section\t.note.GNU-stack,\"\",@progbits\n",
      "\t.section\t.note.gnu.property,\"a\"\n",
      "\t.align 8\n",
      "\t.long\t1f - 0f\n",
      "\t.long\t4f - 1f\n",
      "\t.long\t5\n",
      "0:\n",
      "\t.string\t\"GNU\"\n",
      "1:\n",
      "\t.align 8\n",
      "\t.long\t0xc0000002\n",
      "\t.long\t3f - 2f\n",
      "2:\n",
      "\t.long\t0x3\n",
      "3:\n",
      "\t.align 8\n",
      "4:\n"
     ]
    }
   ],
   "source": [
    "! gcc /tmp/copy.c -c -S -o /tmp/copy.s -O1 && cat /tmp/copy.s"
   ]
  },
  {
   "cell_type": "markdown",
   "id": "51b758ba",
   "metadata": {},
   "source": [
    "# Better Countermodel\n",
    "Maybe also print all ghost var\n",
    "or just add dummy conditions\n",
    "\n",
    "kd_print \"expr\"\n",
    "kd_watch\n",
    "\n",
    "Maybe suggest that some things may be aliasing. Suspicious looking numbers that are too close, or show up in selects.\n",
    "\n",
    "\n",
    "\n"
   ]
  },
  {
   "cell_type": "code",
   "execution_count": 82,
   "id": "e7fa4752",
   "metadata": {},
   "outputs": [
    {
     "name": "stdout",
     "output_type": "stream",
     "text": [
      "Overwriting /tmp/mov42.s\n"
     ]
    }
   ],
   "source": [
    "%%file /tmp/mov42.s\n",
    ".include \"/tmp/knuckle.s\"\n",
    ".global  _start\n",
    "kd_entry _start \"true\"\n",
    "    movq     $42, 8(%rsp)\n",
    "kd_exit _start_end \"(= (select ram (bvadd RSP (_ bv8 64))) (_ bv43 8))\"\n",
    "    ret"
   ]
  },
  {
   "cell_type": "code",
   "execution_count": 90,
   "id": "ad61c157",
   "metadata": {},
   "outputs": [
    {
     "name": "stdout",
     "output_type": "stream",
     "text": [
      "Processing /tmp/mov42.s with language ID x86:LE:64:default using assembler as\n",
      "Constructing Trace Fragments...\n",
      "Unexpected SP conflict\n",
      "Executing 0x400000/9: MOV qword ptr [RSP + 0x8],0x2a at (4194304, 0) PCODE IMARK ram[400000:9]\n",
      "Executing 0x400000/9: MOV qword ptr [RSP + 0x8],0x2a at (4194304, 1) PCODE unique[4e00:8] = 0x8 + RSP\n",
      "Executing 0x400000/9: MOV qword ptr [RSP + 0x8],0x2a at (4194304, 2) PCODE unique[6e80:8] = 0x2a\n",
      "Executing 0x400000/9: MOV qword ptr [RSP + 0x8],0x2a at (4194304, 3) PCODE *[ram]unique[4e00:8] = unique[6e80:8]\n",
      "Executing SpecStmt: Exit(_start_end, 0x400009, ram[RSP + 8] == 43)\n",
      "Checking verification conditions...\n",
      "[❌] Exit(_start_end, 0x400009, ram[RSP + 8] == 43)\n",
      "---------------------------------------------\n",
      "Trace:\n",
      "\t Entry(_start, 0x400000, True)\n",
      "\t 0x400000/9: MOV qword ptr [RSP + 0x8],0x2a\n",
      "\t Exit(_start_end, 0x400009, ram[RSP + 8] == 43)\n",
      "\n",
      "Countermodel:\n",
      "{ram[RSP + 8]: 42, RSP: 18446744073709551608}\n",
      "---------------------------------------------\n",
      "❌❌❌❌ Some verification conditions failed. ❌❌❌❌\n"
     ]
    }
   ],
   "source": [
    "! python3 -m kdrag.contrib.pcode /tmp/mov42.s"
   ]
  },
  {
   "cell_type": "markdown",
   "id": "103e29dd",
   "metadata": {},
   "source": [
    "## 32 bit"
   ]
  },
  {
   "cell_type": "code",
   "execution_count": 16,
   "id": "03df03f8",
   "metadata": {},
   "outputs": [
    {
     "name": "stdout",
     "output_type": "stream",
     "text": [
      "Overwriting /tmp/mov42.s\n"
     ]
    }
   ],
   "source": [
    "%%file /tmp/mov42.s\n",
    ".include \"/tmp/knuckle.s\"\n",
    "    .text\n",
    "    .globl  myfunc\n",
    "kd_entry myfunc \"true\"\n",
    "    addi    sp, sp, -4       # make room on the stack\n",
    "    li      t0, 42           # t0 ← 42\n",
    "    sw      t0, 0(sp)        # [sp] = 42\n",
    "kd_exit myfunc_end \"(= (select ram32 sp) (_ bv42 32))\"\n",
    "    ret\n",
    "\n"
   ]
  },
  {
   "cell_type": "code",
   "execution_count": 27,
   "id": "e8083676",
   "metadata": {},
   "outputs": [
    {
     "name": "stdout",
     "output_type": "stream",
     "text": [
      "Usage: python -m kdrag.contrib.pcode [OPTIONS] FILENAME\n",
      "\n",
      "  Simple program that greets NAME for a total of COUNT times.\n",
      "\n",
      "Options:\n",
      "  --langid TEXT  PCode language ID. Run `python3 -m pypcode --list` for\n",
      "                 options\n",
      "  --asm TEXT     Assembler to use. Default is 'as'.\n",
      "  --help         Show this message and exit.\n"
     ]
    }
   ],
   "source": [
    "! python3 -m kdrag.contrib.pcode --help"
   ]
  },
  {
   "cell_type": "code",
   "execution_count": 33,
   "id": "2fbe0c9b",
   "metadata": {},
   "outputs": [
    {
     "name": "stdout",
     "output_type": "stream",
     "text": [
      "Processing /tmp/mov42.s with language ID RISCV:LE:32:default using assembler /home/philip/Downloads/lowrisc-toolchain-gcc-rv32imcb-x86_64-20250710-1/bin/riscv32-unknown-elf-as\n",
      "Constructing Trace Fragments\n",
      "Executing 0x400000/4: addi sp,sp,-0x4 at (4194304, 0) PCODE IMARK ram[400000:4]\n",
      "Executing 0x400000/4: addi sp,sp,-0x4 at (4194304, 1) PCODE unique[580:4] = 0xfffffffc\n",
      "Executing 0x400000/4: addi sp,sp,-0x4 at (4194304, 2) PCODE sp = sp + unique[580:4]\n",
      "Executing 0x400004/4: li t0,0x2a at (4194308, 0) PCODE IMARK ram[400004:4]\n",
      "Executing 0x400004/4: li t0,0x2a at (4194308, 1) PCODE unique[580:4] = 0x2a\n",
      "Executing 0x400004/4: li t0,0x2a at (4194308, 2) PCODE t0 = unique[580:4]\n",
      "Executing 0x400008/4: sw t0,0x0(sp) at (4194312, 0) PCODE IMARK ram[400008:4]\n",
      "Executing 0x400008/4: sw t0,0x0(sp) at (4194312, 1) PCODE unique[600:4] = 0x0\n",
      "Executing 0x400008/4: sw t0,0x0(sp) at (4194312, 2) PCODE unique[4180:4] = sp + unique[600:4]\n",
      "Executing 0x400008/4: sw t0,0x0(sp) at (4194312, 3) PCODE *[ram]unique[4180:4] = t0\n",
      "finish Exit(label='myfunc_end', addr=4194316, expr=ram32[sp] == 42) 0x40000c\n",
      "[✅] VC(Entry(label='myfunc', addr=4194304, expr=True), ['0x400000', '0x400004', '0x400008'], Exit(label='myfunc_end', addr=4194316, expr=ram32[sp] == 42), {})\n",
      "✅✅✅✅ All 1 verification conditions passed! ✅✅✅✅\n"
     ]
    }
   ],
   "source": [
    "! python3 -m kdrag.contrib.pcode --langid=\"RISCV:LE:32:default\" --asm /home/philip/Downloads/lowrisc-toolchain-gcc-rv32imcb-x86_64-20250710-1/bin/riscv32-unknown-elf-as /tmp/mov42.s"
   ]
  },
  {
   "cell_type": "code",
   "execution_count": 8,
   "id": "166b8901",
   "metadata": {},
   "outputs": [
    {
     "ename": "FileNotFoundError",
     "evalue": "[Errno 2] No such file or directory: 'riscv32-linux-gnu-as'",
     "output_type": "error",
     "traceback": [
      "\u001b[31m---------------------------------------------------------------------------\u001b[39m",
      "\u001b[31mFileNotFoundError\u001b[39m                         Traceback (most recent call last)",
      "\u001b[36mCell\u001b[39m\u001b[36m \u001b[39m\u001b[32mIn[8]\u001b[39m\u001b[32m, line 2\u001b[39m\n\u001b[32m      1\u001b[39m \u001b[38;5;28;01mfrom\u001b[39;00m\u001b[38;5;250m \u001b[39m\u001b[34;01mkdrag\u001b[39;00m\u001b[34;01m.\u001b[39;00m\u001b[34;01mcontrib\u001b[39;00m\u001b[34;01m.\u001b[39;00m\u001b[34;01mpcode\u001b[39;00m\u001b[34;01m.\u001b[39;00m\u001b[34;01masmspec\u001b[39;00m\u001b[38;5;250m \u001b[39m\u001b[38;5;28;01mimport\u001b[39;00m assemble_and_check\n\u001b[32m----> \u001b[39m\u001b[32m2\u001b[39m \u001b[43massemble_and_check\u001b[49m\u001b[43m(\u001b[49m\u001b[33;43m\"\u001b[39;49m\u001b[33;43m/tmp/mov42.s\u001b[39;49m\u001b[33;43m\"\u001b[39;49m\u001b[43m,\u001b[49m\u001b[43m \u001b[49m\u001b[43mlangid\u001b[49m\u001b[43m=\u001b[49m\u001b[33;43m\"\u001b[39;49m\u001b[33;43mRISCV:LE:32:default\u001b[39;49m\u001b[33;43m\"\u001b[39;49m\u001b[43m,\u001b[49m\u001b[43m \u001b[49m\u001b[43mas_bin\u001b[49m\u001b[43m=\u001b[49m\u001b[33;43m\"\u001b[39;49m\u001b[33;43mriscv32-linux-gnu-as\u001b[39;49m\u001b[33;43m\"\u001b[39;49m\u001b[43m)\u001b[49m.successes\n",
      "\u001b[36mFile \u001b[39m\u001b[32m~/Documents/python/knuckledragger/kdrag/contrib/pcode/asmspec.py:366\u001b[39m, in \u001b[36massemble_and_check\u001b[39m\u001b[34m(filename, langid, as_bin)\u001b[39m\n\u001b[32m    363\u001b[39m \u001b[38;5;28;01mdef\u001b[39;00m\u001b[38;5;250m \u001b[39m\u001b[34massemble_and_check\u001b[39m(\n\u001b[32m    364\u001b[39m     filename: \u001b[38;5;28mstr\u001b[39m, langid=\u001b[33m\"\u001b[39m\u001b[33mx86:LE:64:default\u001b[39m\u001b[33m\"\u001b[39m, as_bin=\u001b[33m\"\u001b[39m\u001b[33mas\u001b[39m\u001b[33m\"\u001b[39m\n\u001b[32m    365\u001b[39m ) -> Results:\n\u001b[32m--> \u001b[39m\u001b[32m366\u001b[39m     ctx, vcs = \u001b[43massemble_and_gen_vcs\u001b[49m\u001b[43m(\u001b[49m\u001b[43mfilename\u001b[49m\u001b[43m,\u001b[49m\u001b[43m \u001b[49m\u001b[43mlangid\u001b[49m\u001b[43m,\u001b[49m\u001b[43m \u001b[49m\u001b[43mas_bin\u001b[49m\u001b[43m)\u001b[49m\n\u001b[32m    367\u001b[39m     res = Results()\n\u001b[32m    368\u001b[39m     \u001b[38;5;28;01mfor\u001b[39;00m vc \u001b[38;5;129;01min\u001b[39;00m vcs:\n",
      "\u001b[36mFile \u001b[39m\u001b[32m~/Documents/python/knuckledragger/kdrag/contrib/pcode/asmspec.py:357\u001b[39m, in \u001b[36massemble_and_gen_vcs\u001b[39m\u001b[34m(filename, langid, as_bin)\u001b[39m\n\u001b[32m    355\u001b[39m     f.write(kd_macro)\n\u001b[32m    356\u001b[39m     f.flush()\n\u001b[32m--> \u001b[39m\u001b[32m357\u001b[39m \u001b[43msubprocess\u001b[49m\u001b[43m.\u001b[49m\u001b[43mrun\u001b[49m\u001b[43m(\u001b[49m\u001b[43m[\u001b[49m\u001b[43mas_bin\u001b[49m\u001b[43m,\u001b[49m\u001b[43m \u001b[49m\u001b[43mfilename\u001b[49m\u001b[43m,\u001b[49m\u001b[43m \u001b[49m\u001b[33;43m\"\u001b[39;49m\u001b[33;43m-o\u001b[39;49m\u001b[33;43m\"\u001b[39;49m\u001b[43m,\u001b[49m\u001b[43m \u001b[49m\u001b[33;43m\"\u001b[39;49m\u001b[33;43m/tmp/kdrag_temp.o\u001b[39;49m\u001b[33;43m\"\u001b[39;49m\u001b[43m]\u001b[49m\u001b[43m,\u001b[49m\u001b[43m \u001b[49m\u001b[43mcheck\u001b[49m\u001b[43m=\u001b[49m\u001b[38;5;28;43;01mTrue\u001b[39;49;00m\u001b[43m)\u001b[49m\n\u001b[32m    358\u001b[39m ctx = pcode.BinaryContext(\u001b[33m\"\u001b[39m\u001b[33m/tmp/kdrag_temp.o\u001b[39m\u001b[33m\"\u001b[39m, langid=langid)\n\u001b[32m    359\u001b[39m spec = AsmSpec.of_file(filename, ctx)\n",
      "\u001b[36mFile \u001b[39m\u001b[32m/usr/lib/python3.12/subprocess.py:548\u001b[39m, in \u001b[36mrun\u001b[39m\u001b[34m(input, capture_output, timeout, check, *popenargs, **kwargs)\u001b[39m\n\u001b[32m    545\u001b[39m     kwargs[\u001b[33m'\u001b[39m\u001b[33mstdout\u001b[39m\u001b[33m'\u001b[39m] = PIPE\n\u001b[32m    546\u001b[39m     kwargs[\u001b[33m'\u001b[39m\u001b[33mstderr\u001b[39m\u001b[33m'\u001b[39m] = PIPE\n\u001b[32m--> \u001b[39m\u001b[32m548\u001b[39m \u001b[38;5;28;01mwith\u001b[39;00m \u001b[43mPopen\u001b[49m\u001b[43m(\u001b[49m\u001b[43m*\u001b[49m\u001b[43mpopenargs\u001b[49m\u001b[43m,\u001b[49m\u001b[43m \u001b[49m\u001b[43m*\u001b[49m\u001b[43m*\u001b[49m\u001b[43mkwargs\u001b[49m\u001b[43m)\u001b[49m \u001b[38;5;28;01mas\u001b[39;00m process:\n\u001b[32m    549\u001b[39m     \u001b[38;5;28;01mtry\u001b[39;00m:\n\u001b[32m    550\u001b[39m         stdout, stderr = process.communicate(\u001b[38;5;28minput\u001b[39m, timeout=timeout)\n",
      "\u001b[36mFile \u001b[39m\u001b[32m/usr/lib/python3.12/subprocess.py:1026\u001b[39m, in \u001b[36mPopen.__init__\u001b[39m\u001b[34m(self, args, bufsize, executable, stdin, stdout, stderr, preexec_fn, close_fds, shell, cwd, env, universal_newlines, startupinfo, creationflags, restore_signals, start_new_session, pass_fds, user, group, extra_groups, encoding, errors, text, umask, pipesize, process_group)\u001b[39m\n\u001b[32m   1022\u001b[39m         \u001b[38;5;28;01mif\u001b[39;00m \u001b[38;5;28mself\u001b[39m.text_mode:\n\u001b[32m   1023\u001b[39m             \u001b[38;5;28mself\u001b[39m.stderr = io.TextIOWrapper(\u001b[38;5;28mself\u001b[39m.stderr,\n\u001b[32m   1024\u001b[39m                     encoding=encoding, errors=errors)\n\u001b[32m-> \u001b[39m\u001b[32m1026\u001b[39m     \u001b[38;5;28;43mself\u001b[39;49m\u001b[43m.\u001b[49m\u001b[43m_execute_child\u001b[49m\u001b[43m(\u001b[49m\u001b[43margs\u001b[49m\u001b[43m,\u001b[49m\u001b[43m \u001b[49m\u001b[43mexecutable\u001b[49m\u001b[43m,\u001b[49m\u001b[43m \u001b[49m\u001b[43mpreexec_fn\u001b[49m\u001b[43m,\u001b[49m\u001b[43m \u001b[49m\u001b[43mclose_fds\u001b[49m\u001b[43m,\u001b[49m\n\u001b[32m   1027\u001b[39m \u001b[43m                        \u001b[49m\u001b[43mpass_fds\u001b[49m\u001b[43m,\u001b[49m\u001b[43m \u001b[49m\u001b[43mcwd\u001b[49m\u001b[43m,\u001b[49m\u001b[43m \u001b[49m\u001b[43menv\u001b[49m\u001b[43m,\u001b[49m\n\u001b[32m   1028\u001b[39m \u001b[43m                        \u001b[49m\u001b[43mstartupinfo\u001b[49m\u001b[43m,\u001b[49m\u001b[43m \u001b[49m\u001b[43mcreationflags\u001b[49m\u001b[43m,\u001b[49m\u001b[43m \u001b[49m\u001b[43mshell\u001b[49m\u001b[43m,\u001b[49m\n\u001b[32m   1029\u001b[39m \u001b[43m                        \u001b[49m\u001b[43mp2cread\u001b[49m\u001b[43m,\u001b[49m\u001b[43m \u001b[49m\u001b[43mp2cwrite\u001b[49m\u001b[43m,\u001b[49m\n\u001b[32m   1030\u001b[39m \u001b[43m                        \u001b[49m\u001b[43mc2pread\u001b[49m\u001b[43m,\u001b[49m\u001b[43m \u001b[49m\u001b[43mc2pwrite\u001b[49m\u001b[43m,\u001b[49m\n\u001b[32m   1031\u001b[39m \u001b[43m                        \u001b[49m\u001b[43merrread\u001b[49m\u001b[43m,\u001b[49m\u001b[43m \u001b[49m\u001b[43merrwrite\u001b[49m\u001b[43m,\u001b[49m\n\u001b[32m   1032\u001b[39m \u001b[43m                        \u001b[49m\u001b[43mrestore_signals\u001b[49m\u001b[43m,\u001b[49m\n\u001b[32m   1033\u001b[39m \u001b[43m                        \u001b[49m\u001b[43mgid\u001b[49m\u001b[43m,\u001b[49m\u001b[43m \u001b[49m\u001b[43mgids\u001b[49m\u001b[43m,\u001b[49m\u001b[43m \u001b[49m\u001b[43muid\u001b[49m\u001b[43m,\u001b[49m\u001b[43m \u001b[49m\u001b[43mumask\u001b[49m\u001b[43m,\u001b[49m\n\u001b[32m   1034\u001b[39m \u001b[43m                        \u001b[49m\u001b[43mstart_new_session\u001b[49m\u001b[43m,\u001b[49m\u001b[43m \u001b[49m\u001b[43mprocess_group\u001b[49m\u001b[43m)\u001b[49m\n\u001b[32m   1035\u001b[39m \u001b[38;5;28;01mexcept\u001b[39;00m:\n\u001b[32m   1036\u001b[39m     \u001b[38;5;66;03m# Cleanup if the child failed starting.\u001b[39;00m\n\u001b[32m   1037\u001b[39m     \u001b[38;5;28;01mfor\u001b[39;00m f \u001b[38;5;129;01min\u001b[39;00m \u001b[38;5;28mfilter\u001b[39m(\u001b[38;5;28;01mNone\u001b[39;00m, (\u001b[38;5;28mself\u001b[39m.stdin, \u001b[38;5;28mself\u001b[39m.stdout, \u001b[38;5;28mself\u001b[39m.stderr)):\n",
      "\u001b[36mFile \u001b[39m\u001b[32m/usr/lib/python3.12/subprocess.py:1955\u001b[39m, in \u001b[36mPopen._execute_child\u001b[39m\u001b[34m(self, args, executable, preexec_fn, close_fds, pass_fds, cwd, env, startupinfo, creationflags, shell, p2cread, p2cwrite, c2pread, c2pwrite, errread, errwrite, restore_signals, gid, gids, uid, umask, start_new_session, process_group)\u001b[39m\n\u001b[32m   1953\u001b[39m     err_msg = os.strerror(errno_num)\n\u001b[32m   1954\u001b[39m \u001b[38;5;28;01mif\u001b[39;00m err_filename \u001b[38;5;129;01mis\u001b[39;00m \u001b[38;5;129;01mnot\u001b[39;00m \u001b[38;5;28;01mNone\u001b[39;00m:\n\u001b[32m-> \u001b[39m\u001b[32m1955\u001b[39m     \u001b[38;5;28;01mraise\u001b[39;00m child_exception_type(errno_num, err_msg, err_filename)\n\u001b[32m   1956\u001b[39m \u001b[38;5;28;01melse\u001b[39;00m:\n\u001b[32m   1957\u001b[39m     \u001b[38;5;28;01mraise\u001b[39;00m child_exception_type(errno_num, err_msg)\n",
      "\u001b[31mFileNotFoundError\u001b[39m: [Errno 2] No such file or directory: 'riscv32-linux-gnu-as'"
     ]
    }
   ],
   "source": [
    "from kdrag.contrib.pcode.asmspec import assemble_and_check\n",
    "assemble_and_check(\"/tmp/mov42.s\", langid=\"RISCV:LE:32:default\", as_bin=\"riscv32-linux-gnu-as\").successes"
   ]
  },
  {
   "cell_type": "markdown",
   "id": "cea51a59",
   "metadata": {},
   "source": [
    "\n"
   ]
  },
  {
   "cell_type": "code",
   "execution_count": 5,
   "id": "efd4abc3",
   "metadata": {},
   "outputs": [
    {
     "data": {
      "text/plain": [
       "32"
      ]
     },
     "execution_count": 5,
     "metadata": {},
     "output_type": "execute_result"
    }
   ],
   "source": [
    "import archinfo\n",
    "\n",
    "info = archinfo.ArchPcode(\"RISCV:LE:32:default\")\n",
    "info.bits"
   ]
  }
 ],
 "metadata": {
  "kernelspec": {
   "display_name": "philzook58.github.io",
   "language": "python",
   "name": "python3"
  },
  "language_info": {
   "codemirror_mode": {
    "name": "ipython",
    "version": 3
   },
   "file_extension": ".py",
   "mimetype": "text/x-python",
   "name": "python",
   "nbconvert_exporter": "python",
   "pygments_lexer": "ipython3",
   "version": "3.12.3"
  }
 },
 "nbformat": 4,
 "nbformat_minor": 5
}
