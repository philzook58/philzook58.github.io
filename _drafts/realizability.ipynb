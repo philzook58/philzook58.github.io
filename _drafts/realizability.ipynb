{
 "cells": [
  {
   "cell_type": "markdown",
   "metadata": {},
   "source": [
    "# Realizability\n",
    "Proofs aren't programs. Proofs are related to programs\n",
    "https://www.typetheoryforall.com/episodes/realizability-bhk-cps-translation-dialectica\n",
    "https://dspace.library.uu.nl/bitstream/handle/1874/1945/1131.pdf\n",
    "\n",
    "https://arxiv.org/abs/2210.05346 Stateful Realizers for Nonstandard Analysis\n",
    "\n",
    "https://ncatlab.org/nlab/show/realizability\n",
    "https://arxiv.org/abs/2307.13563 A Guide to Krivine Realizability for Set Theory\n",
    "\n",
    "https://www.xn--pdrot-bsa.fr/montevideo2016/miquel-slides-krivine-2.pdf \n",
    "https://link.springer.com/chapter/10.1007/978-3-642-21691-6_1 sruvey of classical realizability\n",
    "\n",
    "https://www.irif.fr/~krivine/articles/Luminy04.pdf relaizability in classcial logic\n",
    "\n",
    "What is it.\n",
    "A way of formalizing (informal) BHK \n",
    "\n",
    "\n",
    "https://cstheory.stackexchange.com/questions/1117/realizability-theory-difference-in-power-between-lambda-calculus-and-turing-mac/1118#1118\n",
    "codings as calling convnetions. godel encoding can look at the code, but lambda calculus style can only probe by application. Interesting. If you need to run the ocde of a turing maschine, you casn test how long it took to compute and answer.\n",
    "\n",
    "https://cstheory.stackexchange.com/questions/625/relationship-between-turing-machine-and-lambda-calculus/715#715\n",
    "formal church thesis. \n",
    "\n",
    "Curry Howard aproaches already bring BHK to forefront.\n",
    "\n",
    "partial combinatory algebras\n",
    "Kleene T predicate\n",
    "\n",
    "\n",
    "https://mathoverflow.net/questions/459683/how-exactly-are-realizability-and-the-curry-howard-correspondence-related\n",
    "Markov principle is \"ability to seach both sides of or in parallel\"\n",
    "\n",
    "Classical logic is somehow pierce's law. CallCC. Ability to \"trvael backward in time\"\n",
    "\n",
    "Intuiionistic forcing is global monotonic state\n",
    "\n",
    "Dialectica is ability to measure (count) variable usage. A strage an not particular effectful effect. I've seen Oleg do this in algerbaic effects.\n",
    "\n",
    "\"Realizability is extraction\"\n",
    "\n",
    "Type theory forall with Pierre-Maire Pedrot. His thesis https://www.xn--pdrot-bsa.fr/\n",
    "\n",
    "Realizability notes streicher https://www2.mathematik.tu-darmstadt.de/~streicher/REAL/REAL.pdf\n",
    "\"ASM\"\n",
    "\n",
    "Realizability notes bauer https://www.andrej.com/zapiski/MGS-2022/notes-on-realizability.pdf https://github.com/andrejbauer/notes-on-realizability\n",
    "\n",
    "\n",
    "Kleene\n",
    "Kreisel - intepret into typed lambda calc\n",
    "Krivine\n",
    "\n",
    "https://andrejbauer.github.io/partial-combinatory-algebras/blueprint/\n"
   ]
  },
  {
   "cell_type": "markdown",
   "metadata": {},
   "source": [
    "\n",
    "## Computability Theory\n",
    "\n",
    "Kleene T, U predciate. kleene application. kleene equality.\n",
    "Recursive function theory\n",
    "cutland - an introduction to recursive fgunction thoery\n",
    "hartley\n",
    "Soares\n",
    "Minksy\n",
    "\n",
    "https://arxiv.org/abs/1810.08380 Formalizing computability theory via partial recursive functions - carneiro\n",
    "\n",
    "https://en.wikipedia.org/wiki/Computability_theory\n",
    "handbook of recursive mathematics\n",
    "https://en.wikipedia.org/wiki/Computability_theory\n",
    "\n",
    "https://www.xn--pdrot-bsa.fr/articles/quotett.pdf  “Upon This Quote I Will Build My Church Thesis” internal church thesios.\n",
    "forall f : N -> N, not not (exists m, f(m) = 0) => exists m, f(m) = 0\n",
    "double negation but restricted to this kind of computation case\n",
    "\n",
    "https://arxiv.org/abs/1611.03714  Computational Interpretations of Markov's principle\n",
    "https://en.wikipedia.org/wiki/Markov%27s_principle\n",
    "\n",
    "\n",
    "unlimited register machine\n",
    "\n",
    "codings https://en.wikipedia.org/wiki/G%C3%B6del_numbering\n",
    "https://en.wikipedia.org/wiki/G%C3%B6del_numbering_for_sequences\n",
    "\n",
    "Numbers are silly - hereitraily finite set theory\n",
    "multiset theory - How many are there in the multiset?\n",
    "sequence theory. How do you index into a sequence?\n",
    "\n",
    "https://plato.stanford.edu/entries/recursive-functions/\n",
    "\n",
    "ski machines\n",
    "or krivine / secd machines\n"
   ]
  },
  {
   "cell_type": "code",
   "execution_count": null,
   "metadata": {},
   "outputs": [],
   "source": [
    "%%file /tmp/machine.tptp\n",
    "\n",
    "cnf(axiom,  ,  t(  ) | ~t()).\n",
    "cnf(axiom2,  ,      t() | ~t())."
   ]
  },
  {
   "cell_type": "markdown",
   "metadata": {},
   "source": [
    "# SAT solver as sequent proofs\n",
    "\n",
    "A list of backtracking continuations\n",
    "specializing a sat solver to particular problem generates a proof of that problem.\n",
    "That code _is_ a proof.\n",
    "\n"
   ]
  },
  {
   "cell_type": "code",
   "execution_count": null,
   "metadata": {},
   "outputs": [],
   "source": [
    "def conts, ):\n"
   ]
  },
  {
   "cell_type": "markdown",
   "metadata": {},
   "source": [
    "intuitionsitic logic\n",
    "https://en.wikipedia.org/wiki/Intuitionistic_logic"
   ]
  },
  {
   "cell_type": "code",
   "execution_count": 1,
   "metadata": {},
   "outputs": [],
   "source": [
    "from typing import NamedTuple\n",
    "import z3\n",
    "import kdrag.smt as smt\n",
    "#Proof = NamedTuple('Proof', )\n",
    "class Proof(NamedTuple):\n",
    "    thm : z3.BoolRef\n",
    "\n",
    "def modus(pf1, pf2):\n",
    "    assert smt.is_implies(pf1.thm) and pf1.thm.arg(0).eq(pf2.thm)\n",
    "    return Proof(pf1.thm.arg(1))\n",
    "\n",
    "\n",
    "\n"
   ]
  },
  {
   "cell_type": "code",
   "execution_count": null,
   "metadata": {},
   "outputs": [],
   "source": [
    "from typing import NamedTuple\n",
    "import z3\n",
    "import kdrag.smt as smt\n",
    "#Proof = NamedTuple('Proof', )\n",
    "class Proof(NamedTuple):\n",
    "    ctx : list[z3.ExprRef]\n",
    "    thm : z3.BoolRef\n",
    "\n",
    "def ax(thm):\n",
    "    return Proof([thm], thm)\n",
    "def weaken(pf, thm):\n",
    "    return Proof(pf.ctx + [thm], pf.thm)\n",
    "def impE(pfab,pfa): # application\n",
    "    assert smt.is_implies(pfab.thm) and pfa.thm.eq(pfab.thm.arg(1))\n",
    "    return Proof(pfab.ctx, z3.Implies(pfab.thm, pfa.thm))\n",
    "def impI(thm, pf):\n",
    "    assert thm in pf.ctx\n",
    "    return Proof(pf.ctx.remove(thm), z3.Implies(thm, pf.thm))\n",
    "def andI(pf1, pf2):\n",
    "    return Proof(pf1.ctx + pf2.ctx, z3.And(pf1.thm, pf2.thm))\n",
    "\n",
    "\n",
    "\n"
   ]
  }
 ],
 "metadata": {
  "kernelspec": {
   "display_name": "Python 3",
   "language": "python",
   "name": "python3"
  },
  "language_info": {
   "codemirror_mode": {
    "name": "ipython",
    "version": 3
   },
   "file_extension": ".py",
   "mimetype": "text/x-python",
   "name": "python",
   "nbconvert_exporter": "python",
   "pygments_lexer": "ipython3",
   "version": "3.10.12"
  }
 },
 "nbformat": 4,
 "nbformat_minor": 2
}
