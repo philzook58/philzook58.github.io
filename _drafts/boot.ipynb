{
 "cells": [
  {
   "cell_type": "markdown",
   "metadata": {},
   "source": []
  },
  {
   "cell_type": "markdown",
   "metadata": {},
   "source": [
    "https://projekter.aau.dk/projekter/files/422795280/P10__23_.pdf CBMC master's thesis\n",
    "https://projekter.aau.dk/projekter/files/422795285/P10__24_.pdf the upaal version\n",
    "\n",
    "What do bootloaders do?\n",
    "\n",
    "Memory safety\n",
    "\n",
    "rtlv - deterministic start\n",
    "\n",
    "A/B system update\n",
    "\n",
    "monotonic update.\n",
    "\n",
    "https://arxiv.org/html/2209.07936v2 DICE\n",
    "\n",
    "https://github.com/gilhooleyd/CBMC-Vboot\n",
    "https://d1.awsstatic.com/Security/pdfs/Model_Checking_Boot_Code_From_AWS_Data_Centers.pdf\n",
    "\n",
    "https://arxiv.org/abs/2209.07936v2  PA-Boot: A Formally Verified Authentication Protocol for Multiprocessor Secure Boot\n",
    "\n",
    "https://binsec.github.io/assets/publications/slides/2023-esop.pdf"
   ]
  }
 ],
 "metadata": {
  "language_info": {
   "name": "python"
  }
 },
 "nbformat": 4,
 "nbformat_minor": 2
}
