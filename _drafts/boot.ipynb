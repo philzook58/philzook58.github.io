{
 "cells": [
  {
   "cell_type": "markdown",
   "metadata": {},
   "source": []
  },
  {
   "cell_type": "markdown",
   "metadata": {},
   "source": [
    "https://projekter.aau.dk/projekter/files/422795280/P10__23_.pdf CBMC master's thesis\n",
    "https://projekter.aau.dk/projekter/files/422795285/P10__24_.pdf the upaal version\n",
    "\n",
    "What do bootloaders do?\n",
    "\n",
    "Memory safety\n",
    "\n",
    "rtlv - deterministic start\n",
    "\n",
    "A/B system update\n",
    "\n",
    "monotonic update.\n",
    "\n",
    "https://arxiv.org/html/2209.07936v2 DICE\n",
    "\n",
    "https://github.com/gilhooleyd/CBMC-Vboot\n",
    "https://d1.awsstatic.com/Security/pdfs/Model_Checking_Boot_Code_From_AWS_Data_Centers.pdf\n",
    "\n",
    "https://arxiv.org/abs/2209.07936v2  PA-Boot: A Formally Verified Authentication Protocol for Multiprocessor Secure Boot\n",
    "\n",
    "https://binsec.github.io/assets/publications/slides/2023-esop.pdf\n",
    "\n",
    "https://github.com/raspberrypi/pico-bootrom-rp2350 \n",
    "https://github.com/raspberrypi/rp2350_hacking_challenge secure boot, trusdtzone, rcp (redundancy coprocessor), glitch detectors\n",
    "\n",
    "https://www.newae.com/chipwhisperer\n",
    "\n",
    "At the high level, there is an application that a computer is supporting.\n",
    "In many cases, it is more desirable to have a system that works at all, or cheaply, or performantly than to have the highest level of security.\n",
    "For some applications this may not be the case or security may be completely intertwined with \"working\"\n",
    "\n",
    "\n",
    "At the highest level, the bootloader should\n",
    "1. protect the information contained within the boot image\n",
    "2. ensure the system boots as the designer intended\n",
    "\n",
    "\n",
    "What are the intentions of the designer?\n",
    "1. Integrity: The bootloader should verify that the boot image has not been tampered with or corrupted. This can be achieved through cryptographic signatures or checksums.\n",
    "2. Authenticity: The bootloader should ensure that the boot image comes from a trusted source. This can be done by verifying digital signatures or using secure channels for transmission.\n",
    "3. Confidentiality: The bootloader should protect sensitive information within the boot image from unauthorized access. This can involve encryption of the boot image or secure storage of sensitive data.\n",
    "4. Availability: The bootloader should ensure that the system can boot successfully and reliably. This includes handling errors, providing recovery mechanisms, and ensuring that the boot process is not easily disrupted.\n",
    "13. Performance: The bootloader should be optimized for speed and efficiency, minimizing the time it takes to boot the system and ensuring that resources are used effectively. This can involve optimizing code, reducing unnecessary operations, and leveraging hardware acceleration where available.\n",
    "\n",
    "\n",
    "5. Non-repudiation: The bootloader should provide mechanisms to prove that a specific boot image was used, preventing denial of its usage. This can involve logging or secure auditing mechanisms.\n",
    "6. Accountability: The bootloader should ensure that actions taken during the boot process can be traced back to specific entities or events. This can involve logging and monitoring mechanisms to track the boot process and any changes made.\n",
    "7. Compliance: The bootloader should adhere to relevant standards, regulations, and best practices for security and reliability. This can involve following industry standards for cryptographic algorithms, secure coding practices, and compliance with regulatory requirements.\n",
    "8. Resilience: The bootloader should be designed to withstand various attacks and failures, ensuring that the system can recover and continue operating even in the face of adversity. This can involve implementing redundancy, error detection, and self-healing mechanisms.\n",
    "9.  Scalability: The bootloader should be able to adapt to different hardware configurations and system requirements, allowing for easy deployment across various devices and platforms. This can involve modular design, configuration options, and support for different hardware architectures.\n",
    "10. Maintainability: The bootloader should be designed for easy updates and maintenance, allowing for bug fixes, security patches, and feature enhancements without disrupting the boot process. This can involve modular code, clear documentation, and version control mechanisms.\n",
    "11. Interoperability: The bootloader should be able to work seamlessly with other components of the system, such as the operating system, hardware drivers, and application software. This can involve adhering to standard interfaces, protocols, and APIs to ensure compatibility and smooth integration.\n",
    "12. User Experience: The bootloader should provide a smooth and user-friendly experience during the boot process, minimizing delays, providing clear feedback, and ensuring that users can easily understand and interact with the system. This can involve intuitive error messages, progress indicators, and user-friendly recovery options.\n",
    "13. Performance: The bootloader should be optimized for speed and efficiency, minimizing the time it takes to boot the system and ensuring that resources are used effectively. This can involve optimizing code, reducing unnecessary operations, and leveraging hardware acceleration where available.\n",
    "14. Flexibility: The bootloader should be adaptable to different use cases and requirements, allowing for customization and configuration based on specific needs. This can involve providing options for different boot modes, configurations, and user preferences.\n",
    "15. Robustness: The bootloader should be able to handle unexpected situations, such as power failures or hardware malfunctions, without causing damage to the system or data. This can involve implementing fail-safe mechanisms, error recovery procedures, and thorough testing under various conditions.\n",
    "16. Documentation: The bootloader should be well-documented, providing clear instructions for developers, maintainers, and users. This can involve detailed comments in the code, user manuals, and online resources to support understanding and troubleshooting.\n",
    "17. Testing: The bootloader should undergo rigorous testing to ensure its reliability and security. This can involve unit tests, integration tests, and security audits to identify and address potential issues before deployment.\n",
    "18. Community Support: The bootloader should have a strong community or support network, providing resources, forums, and assistance for developers and users. This can involve active online communities, documentation, and support channels to help with troubleshooting and development.\n",
    "19. Innovation: The bootloader should embrace innovation, exploring new technologies, techniques, and approaches to improve its functionality, security, and performance. This can involve staying up-to-date with industry trends, participating in research, and adopting emerging best practices.\n",
    "20. Sustainability: The bootloader should be designed with sustainability in mind, considering the environmental impact of its development, deployment, and operation. This can involve using energy-efficient algorithms, minimizing resource consumption, and promoting longevity through maintainability and upgradability.\n",
    "21. Ethical Considerations: The bootloader should be developed and used in an ethical manner, respecting user privacy, data protection, and ethical guidelines for technology development. This can involve transparent data practices, user consent for data collection, and adherence to ethical standards in software development.\n",
    "22. Legal Compliance: The bootloader should comply with relevant laws and regulations, such as data protection laws, intellectual property rights, and export control regulations. This can involve ensuring that the bootloader does not infringe on patents, respects user rights, and adheres to legal requirements in different jurisdictions.\n",
    "23. Risk Management: The bootloader should incorporate risk management practices, identifying potential risks and implementing strategies to mitigate them. This can involve conducting risk assessments, implementing security controls, and regularly reviewing and updating risk management plans.\n",
    "24. Incident Response: The bootloader should have an incident response plan in place, outlining procedures for detecting, responding to, and recovering from security incidents or system failures. This can involve establishing communication channels, defining roles and responsibilities, and conducting regular drills to ensure preparedness.\n",
    "25. Backup and Recovery: The bootloader should support backup and recovery mechanisms, allowing for the restoration of the system to a previous state in case of failure or corruption. This can involve creating backup images, providing recovery options, and ensuring that critical data can be restored quickly and efficiently.\n",
    "26. Monitoring and Logging: The bootloader should implement monitoring and logging capabilities, tracking system events, errors, and security incidents. This can involve capturing logs for analysis, setting up alerts for critical events, and providing tools for auditing and reviewing system activity.\n",
    "27. User Education: The bootloader should provide resources and education for users, helping them understand the boot process, security features, and how to troubleshoot common issues. This can involve creating user guides, online tutorials, and providing support channels for user inquiries.\n",
    "28. Vendor Support: The bootloader should have support from the vendor or development team, ensuring that users have access to updates, bug fixes, and technical assistance when needed. This can involve establishing a support system, providing regular updates, and maintaining open communication with users.\n",
    "29. Customization: The bootloader should allow for customization based on specific user or device requirements, enabling users to tailor the boot process to their needs. This can involve providing configuration options, allowing for user-defined settings, and supporting different boot modes or features.\n",
    "\n",
    "\n",
    "\n"
   ]
  },
  {
   "cell_type": "code",
   "execution_count": null,
   "metadata": {
    "vscode": {
     "languageId": "plaintext"
    }
   },
   "outputs": [],
   "source": [
    "%%file /tmp/loader.c\n",
    "\n",
    "\n",
    "int main(){\n",
    "    // mmap in file\n",
    "\n",
    "    // jump to entry point\n",
    "}\n"
   ]
  }
 ],
 "metadata": {
  "language_info": {
   "name": "python"
  }
 },
 "nbformat": 4,
 "nbformat_minor": 2
}
