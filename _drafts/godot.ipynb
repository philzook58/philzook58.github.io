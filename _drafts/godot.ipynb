{
 "cells": [
  {
   "cell_type": "code",
   "execution_count": null,
   "metadata": {},
   "outputs": [],
   "source": []
  },
  {
   "cell_type": "markdown",
   "metadata": {},
   "source": [
    "https://github.com/godotengine/awesome-godot\n",
    "\n",
    "https://github.com/Alzter/TuxBuilder\n",
    "https://github.com/godotvr/godot-xr-tools\n",
    "https://github.com/GodotVR/godot_openxr\n",
    "https://github.com/2shady4u/godot-sqlite\n",
    "\n",
    "https://news.ycombinator.com/item?id=41800764 game programming in prolog\n",
    "ECS as a database \n",
    "Adventures in Rule-Based Programming: A CLIPS Tutorial\n",
    "\n",
    "\n",
    "https://github.com/stevearc/godot_parser parse scenes in python\n",
    "\n",
    "https://bitbucket.org/arlez80/gdpeg/src/master/ gdscript PEG grammar\n",
    "https://bitbucket.org/arlez80/workspace/repositories/\n",
    "\n",
    "\n",
    "https://forum.godotengine.org/t/is-it-possible-to-only-use-gdscript-and-completely-avoid-the-gui/20943/3\n",
    "https://docs.godotengine.org/en/stable/tutorials/editor/command_line_tutorial.html#command-line-tutorial\n",
    "\n",
    "https://godotengine.org/asset-library/asset/2068 large linear algebra using \n",
    "https://godotengine.org/asset-library/asset/3351 numdot tesnor math \n",
    "https://godotengine.org/asset-library/asset/3401 godot wasm\n",
    "https://godotengine.org/asset-library/asset/1572 aseprite wizard\n",
    "https://godotengine.org/asset-library/asset/1477 godot ai kit. RL styff\n",
    "https://godotengine.org/asset-library/asset/3129 repl\n",
    "https://godotengine.org/asset-library/asset/3095 scrath block coding\n",
    "https://godotengine.org/asset-library/asset/3234 python?\n",
    "https://godotengine.org/asset-library/asset/3005 duckdb\n",
    "https://godotengine.org/asset-library/asset/3081 2d liquid sim\n",
    "\n",
    "gotdot mpc / rl. flappybird. moon lander\n",
    "\n",
    "https://github.com/lettier/3d-game-shaders-for-beginners game shaders for beginner\n",
    "https://github.com/godot-rust/gdext?tab=readme-ov-file godot rust\n",
    "\n",
    "blockbench\n",
    "https://github.com/Orama-Interactive/Pixelorama\n",
    "\n",
    "\n",
    "godot + gpt\n",
    "godot animation\n",
    "\n"
   ]
  },
  {
   "cell_type": "code",
   "execution_count": 21,
   "metadata": {},
   "outputs": [
    {
     "name": "stdout",
     "output_type": "stream",
     "text": [
      "Overwriting /tmp/hello.gd\n"
     ]
    }
   ],
   "source": [
    "%%file /tmp/hello.gd\n",
    "extends MainLoop # SceneTree might also be good?\n",
    "\n",
    "func _initialize():\n",
    "    print(\"Hello, Godot!\")\n",
    "\n",
    "func _process(delta : float) -> bool:\n",
    "    print(\"Running main loop\")\n",
    "    return true  # true kills it"
   ]
  },
  {
   "cell_type": "code",
   "execution_count": 23,
   "metadata": {},
   "outputs": [
    {
     "name": "stdout",
     "output_type": "stream",
     "text": [
      "Overwriting /tmp/hello.gd\n"
     ]
    }
   ],
   "source": [
    "%%file /tmp/hello.gd\n",
    "#!/usr/bin/env -S godot -s\n",
    "extends SceneTree\n",
    "\n",
    "func _init():\n",
    "    print(\"Hello!\")\n",
    "    quit()"
   ]
  },
  {
   "cell_type": "code",
   "execution_count": 24,
   "metadata": {},
   "outputs": [
    {
     "name": "stdout",
     "output_type": "stream",
     "text": [
      "Godot Engine v4.3.stable.official.77dcf97d8 - https://godotengine.org\n",
      "\n"
     ]
    },
    {
     "name": "stdout",
     "output_type": "stream",
     "text": [
      "Hello!\n"
     ]
    }
   ],
   "source": [
    "!~/Godot --headless -s /tmp/hello.gd"
   ]
  }
 ],
 "metadata": {
  "kernelspec": {
   "display_name": "Python 3",
   "language": "python",
   "name": "python3"
  },
  "language_info": {
   "codemirror_mode": {
    "name": "ipython",
    "version": 3
   },
   "file_extension": ".py",
   "mimetype": "text/x-python",
   "name": "python",
   "nbconvert_exporter": "python",
   "pygments_lexer": "ipython3",
   "version": "3.10.12"
  }
 },
 "nbformat": 4,
 "nbformat_minor": 2
}
