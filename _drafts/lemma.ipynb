{
 "cells": [
  {
   "cell_type": "markdown",
   "metadata": {},
   "source": [
    "Prove some of those lemmas follow each other\n",
    "\n",
    "The modulus vs non modulus version.\n",
    "\n",
    "\n"
   ]
  },
  {
   "cell_type": "code",
   "execution_count": null,
   "metadata": {},
   "outputs": [
    {
     "name": "stderr",
     "output_type": "stream",
     "text": [
      "Admitting lemma ForAll([x, y, z], mul(x, mul(y, z)) == mul(mul(x, y), z))\n",
      "Admitting lemma ForAll(x, Implies(x >= 0, sqrt(x) >= 0))\n",
      "Admitting lemma ForAll(x, Implies(x >= 0, sqrt(x)**2 == x))\n",
      "Admitting lemma ForAll(x, Implies(x >= 0, sqrt(sqr(x)) == x))\n"
     ]
    }
   ],
   "source": [
    "from kdrag.all import *\n"
   ]
  }
 ],
 "metadata": {
  "kernelspec": {
   "display_name": "Python 3",
   "language": "python",
   "name": "python3"
  },
  "language_info": {
   "codemirror_mode": {
    "name": "ipython",
    "version": 3
   },
   "file_extension": ".py",
   "mimetype": "text/x-python",
   "name": "python",
   "nbconvert_exporter": "python",
   "pygments_lexer": "ipython3",
   "version": "3.10.12"
  }
 },
 "nbformat": 4,
 "nbformat_minor": 2
}
