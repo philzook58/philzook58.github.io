{
 "cells": [
  {
   "cell_type": "code",
   "execution_count": null,
   "metadata": {},
   "outputs": [],
   "source": []
  },
  {
   "cell_type": "markdown",
   "metadata": {},
   "source": [
    "Harrison chapter. All kinds iof cool stuff\n",
    "\n",
    "quantifier elim.\n",
    "presburger\n",
    "\n",
    "cad\n",
    "sturm alternating signs\n",
    "\n",
    "Weispfenning\n",
    "\n",
    "Wu's method. More to it than I thought. Complex numbers important?\n",
    "\n",
    "shostak\n",
    "nelson oppen\n",
    "\n",
    "\n"
   ]
  },
  {
   "cell_type": "markdown",
   "metadata": {},
   "source": [
    "# Commutative Algebra\n",
    "## Modules\n",
    "singulariities\n",
    "\n",
    "cox little shea\n",
    "using algerbaic geometry\n",
    "nonlinear algerba notes\n",
    "\n",
    "free resolution\n",
    "https://doc.sagemath.org/html/en/reference/resolutions/sage/homology/free_resolution.html\n",
    "\n",
    "https://en.wikipedia.org/wiki/Algebraic_geometry\n",
    "\n",
    "Tor and Ext\n",
    "properties of the surfaces\n",
    "x^2 vs x as fat lines\n",
    "\n",
    "Polynomials in omega for open circuits\n",
    "Polynomials in k for topological periodic  \n",
    "\n",
    "\n",
    "relations between generators\n",
    "relations between relations\n",
    "my modules post\n",
    "\n",
    "\n"
   ]
  },
  {
   "cell_type": "markdown",
   "metadata": {},
   "source": [
    "# CAD\n",
    "\n"
   ]
  },
  {
   "cell_type": "markdown",
   "metadata": {},
   "source": [
    "# Geometrical Theorem Proving\n",
    "https://sites.google.com/view/aips2  AIPS: An Olympiad-level AI System for  Algebraic Inequalities\n",
    "\n",
    "\n",
    "https://github.com/kovzol/Java-Geometry-Expert\n",
    "http://www.mmrc.iss.ac.cn/~xgao/paper/jgex.pdf intro the java geometry expert\n",
    "https://link.springer.com/article/10.1007/s10817-015-9326-4 Automated Theorem Proving in GeoGebra: Current Achievements\n",
    "geogebra\n",
    "\n",
    "deductive database prover.\n",
    "https://github.com/opengeometryprover/GDDM/tree/master/provers/ogpgddm \n",
    "https://github.com/opengeometryprover/GDDMlite\n",
    "I have souffle and egglog tucked away somewhere.\n",
    "\n",
    "The area method https://hal.science/hal-00426563/document The area method a recpaiturlation\n",
    "https://poincare.matf.bg.ac.rs/~janicic/gclc/ https://github.com/janicicpredrag/gclc\n",
    "https://github.com/coq-contribs/area-method https://www.irif.fr/~narboux/area_method.html\n",
    "\n",
    "\n",
    "the half angle method\n",
    "\n",
    "https://arxiv.org/pdf/0810.4315 a formal system for euclids elements\n",
    "\n",
    "quaife tarski\n",
    "\n",
    "Where actually are Chou's reference 500 theorems or whatever? In his books\n",
    "\n",
    "geometric contraint solving handbook\n",
    "\n",
    "https://github.com/GeoCoq/GeoCoq\n",
    "https://github.com/cheuktingli/psitip automated theorem prover for information theory https://arxiv.org/pdf/2101.12370 crazy stuff\n",
    "\n",
    "GATP\n",
    "TGTP http://hilbert.mat.uc.pt/TGTP/ not working\n",
    "https://github.com/opengeometryprover/GDDM\n",
    "\n",
    " coherent logic  prover https://github.com/janicicpredrag/Larus\n",
    "\n",
    "## gclc\n",
    "https://poincare.matf.bg.ac.rs/~janicic//gclc/\n",
    "https://github.com/janicicpredrag/gclc/blob/master/manual/gclc_man.pdf\n",
    "https://poincare.matf.bg.ac.rs/~predrag.janicic/gclc/gclc-web/\n",
    "\n",
    "number\n",
    "point\n",
    "line\n",
    "circle \n",
    "conic\n",
    "set_equal\n",
    "intersec newpoint     p11 p12      p21 p22\n",
    "intersec2 newpoint newpoint2  circ line\n",
    "prove\n",
    "prooflevel\n",
    "prooflimit\n",
    "prove { parallel A B A_1 B_1 }\n",
    "identical, colliinear, perpendicular, midpoint, same_length, harmonic"
   ]
  },
  {
   "cell_type": "code",
   "execution_count": 3,
   "metadata": {},
   "outputs": [
    {
     "name": "stdout",
     "output_type": "stream",
     "text": [
      "Error in command line. Input file not specified.\n",
      "Usage: gclc FILENAME [-a|w|g] [-d] [-pic|tikz|pst|eps|svg|xml] [-help] [-version]\n",
      "\n",
      "Theorem prover options:\n",
      "  -a,       use prover based on the area method\n",
      "  -w,       use prover based on Wu's method\n",
      "  -g,       use prover based on the Grobner bases method\n",
      "  -d,       enable deduction control\n",
      "\n",
      "Output format options:\n",
      "  -pic,     simple LaTeX\n",
      "  -tikz,    LaTeX TikZ\n",
      "  -pst,     LaTeX PStrics\n",
      "  -eps,     encapsulated postScript\n",
      "  -svg,     scalable vector graphics\n",
      "  -xml,\n",
      "\n",
      "Input format options:\n",
      "  -b,       batch mode\n",
      "\n",
      "  -help,    print this help\n",
      "  -version, print version info\n"
     ]
    }
   ],
   "source": [
    "! gclc"
   ]
  },
  {
   "cell_type": "markdown",
   "metadata": {},
   "source": [
    "geometry explorer \n",
    "\n",
    "dynamic geometry software\n",
    "https://github.com/yezheng1981/Java-Geometry-Expert\n"
   ]
  },
  {
   "cell_type": "markdown",
   "metadata": {},
   "source": [
    "## Wu's method\n",
    "\n",
    "\n",
    "\n",
    "Wu's method infers sufficient conditions.\n",
    "An abductiion method\n",
    "nondegweneracy conditions are often missed.,\n",
    "\n",
    "Chou's article.\n",
    "Harrison book\n",
    "\n",
    "https://link.springer.com/article/10.1007/BF00244942\n",
    "An introduction to Wu's method for mechanical theorem proving in geometry\n",
    "\n",
    "\n",
    "https://en.wikipedia.org/wiki/Wu%27s_method_of_characteristic_set\n",
    "\n",
    "\n",
    "https://www.regularchains.org/ maple\n",
    "https://en.wikipedia.org/wiki/Regular_chain\n",
    "\n",
    "https://macaulay2.com/doc/Macaulay2/share/doc/Macaulay2/TriangularSets/html/index.html\n",
    "\n",
    "https://en.wikipedia.org/wiki/Triangular_decomposition\n",
    "\n",
    "\n",
    "http://www-sop.inria.fr/members/Evelyne.Hubert/publications/sncsp.pdf Notes on Triangular Sets and Triangulation-Decomposition Algorithms I: Polynomial Systems\n",
    "\n",
    "\n",
    "https://karczmarczuk.users.greyc.fr/arpap/diffalg.pdf jerzy differential algerba. wkb lots of other good examples. Tower of derivatives with relations? I saw this many moons ago...\n",
    "\n",
    "The radical ideal. https://en.wikipedia.org/wiki/Radical_of_an_ideal g^s is in ideal. Trick of 1-gy adding into grobner set.\n",
    "\n",
    "Parameters vs variables.\n",
    "Grobner cover https://www.singular.uni-kl.de/Manual/4-0-3/sing_956.htm break up parameter space into different grobner bases. \n",
    "https://www.researchgate.net/publication/345035017_The_Grobner_Cover book. antonio Montes\n",
    "Weispfenning’s introduction of Comprehensive Gröbner Systems (CGS) in 1992\n",
    "\n",
    "\n",
    "Optics and mechanics problems in knuckeldragger\n",
    "\n",
    "kovacs\n",
    "weispfenning\n",
    "d kapur\n",
    "P Quaresma\n",
    "CS Chou\n",
    "XS Gao\n",
    "\n"
   ]
  },
  {
   "cell_type": "markdown",
   "metadata": {},
   "source": []
  },
  {
   "cell_type": "code",
   "execution_count": 7,
   "metadata": {},
   "outputs": [
    {
     "data": {
      "text/latex": [
       "$\\displaystyle 4 x^{2} + 4$"
      ],
      "text/plain": [
       "4*x**2 + 4"
      ]
     },
     "execution_count": 7,
     "metadata": {},
     "output_type": "execute_result"
    }
   ],
   "source": [
    "from sympy import pdiv\n",
    "from sympy import *\n",
    "from sympy.abc import x\n",
    "(d,r) = pdiv(x**2 + 1, 2*x - 4) # in what sense is the peduodivision?\n",
    "simplify(d * (2*x - 4) + r)"
   ]
  },
  {
   "cell_type": "code",
   "execution_count": 18,
   "metadata": {},
   "outputs": [
    {
     "data": {
      "text/plain": [
       "([0, 0, 0, 0, 0, 0], -u2**2 + 2*u2*x3 - u3**2 + 2*u3*x2)"
      ]
     },
     "execution_count": 18,
     "metadata": {},
     "output_type": "execute_result"
    }
   ],
   "source": [
    "import numpy as np\n",
    "x1,x2,x3,u1,u2,u3 = symbols('x1 x2 x3 u1 u2 u3')\n",
    "def p(x,y):\n",
    "    return np.array([x,y])\n",
    "A = p(0,0)\n",
    "B = p(u1,0)\n",
    "C = p(u2,u3)\n",
    "D = p(x1,u3)\n",
    "E = p(x3,x2)\n",
    "\n",
    "\n",
    "def parallel(l1,l2):\n",
    "    p1,p2 = l1\n",
    "    q1,q2 = l2\n",
    "    v1 = p1 - p2\n",
    "    v2 = q1 - q2\n",
    "    return np.cross(v1,v2)\n",
    "# ax + by + c = 0 is a line\n",
    "def collinear(p,q,r):\n",
    "    np.det(np.array([a,b,c]))\n",
    "\n",
    "\n",
    "h1 = u3*x1 - (u2 - u1)* u3 # DA is parallel to CB\n",
    "h2 = u3*x3 - (x1 - u1) * x2 - u1 * u3 # E B D are collinear\n",
    "h3 = u3*x3 - u2*x2 # \n",
    "\n",
    "g = 2*u2*x3 + 2*u3*x2 - u3**2 - u2**2 \n",
    "\n",
    "G = groebner([h1,h2,h3],u1,u2,u3,x1,x2,x3)\n",
    "def trisolve(g, G):\n",
    "    r = g\n",
    "    I = []\n",
    "    for f in reversed(G):\n",
    "        d,r = pdiv(r,f)\n",
    "        I.append(d)\n",
    "    return r, I\n",
    "\n",
    "trisolve(g,G)\n",
    "#reduced(g,G)"
   ]
  },
  {
   "cell_type": "code",
   "execution_count": 24,
   "metadata": {},
   "outputs": [
    {
     "data": {
      "text/plain": [
       "(0, [2*u2, 2*u2**2 + 2*u3**2, -u2**2*u3**2 - u3**4])"
      ]
     },
     "execution_count": 24,
     "metadata": {},
     "output_type": "execute_result"
    }
   ],
   "source": [
    "f1 = h1\n",
    "f3 = h3\n",
    "f2 = prem(h3,h2,x3)\n",
    "\n",
    "def trisolve(g, G, gens):\n",
    "    r = g\n",
    "    I = []\n",
    "    for f,x in reversed(list(zip(G,gens))):\n",
    "        d,r = pdiv(r,f,x)\n",
    "        I.append(d)\n",
    "    return r, I\n",
    "trisolve(g, [f1,f2,f3], [x1,x2,x3])"
   ]
  },
  {
   "cell_type": "code",
   "execution_count": 16,
   "metadata": {},
   "outputs": [
    {
     "data": {
      "text/latex": [
       "$\\displaystyle \\operatorname{GroebnerBasis}\\left(\\left( u_{1} u_{3} - 2 u_{3} x_{3} + 2 x_{1} x_{2}, \\  u_{1} x_{2} - u_{3} x_{3} + x_{1} x_{2}, \\  u_{2}^{2} y + u_{3}^{2} y - 2 u_{3} x_{1} y - 2 u_{3} x_{2} y - 4 u_{3} x_{3} y + 4 x_{1} x_{2} y + 1, \\  u_{2} u_{3} - u_{3} x_{1} - 2 u_{3} x_{3} + 2 x_{1} x_{2}, \\  u_{2} x_{2} - u_{3} x_{3}, \\  u_{3}^{3} y - 2 u_{3}^{2} x_{1} y + u_{3} x_{1}^{2} y - 4 u_{3} x_{1} x_{2} y + 4 u_{3} x_{1} x_{3} y - 4 u_{3} x_{2}^{2} y - 16 u_{3} x_{2} x_{3} y + 8 u_{3} x_{3}^{2} y + u_{3} - 2 x_{1}^{2} x_{2} y + 16 x_{1} x_{2}^{2} y - 8 x_{1} x_{2} x_{3} y + 2 x_{2}, \\  u_{3}^{2} x_{2} y - 2 u_{3} x_{1} x_{2} y + u_{3} x_{1} x_{3} y - 2 u_{3} x_{2}^{2} y - 4 u_{3} x_{2} x_{3} y + 2 u_{3} x_{3}^{2} y + 4 x_{1} x_{2}^{2} y - 2 x_{1} x_{2} x_{3} y + x_{2}, \\  u_{3}^{2} x_{3} - u_{3} x_{1} x_{2} - 2 u_{3} x_{2} x_{3} + 2 x_{1} x_{2}^{2}, \\  2 u_{3} x_{1} x_{2}^{2} y - 4 u_{3} x_{1} x_{2} x_{3} y + 2 u_{3} x_{1} x_{3}^{2} y - u_{3} x_{3} - 4 x_{1} x_{2}^{3} y + x_{1} x_{2} + 2 x_{2} x_{3}, \\  2 u_{3} x_{1} x_{2} x_{3} + 4 u_{3} x_{1} x_{3}^{4} y - 3 u_{3} x_{1} x_{3}^{2} - 8 u_{3} x_{3}^{3} + 16 x_{1}^{2} x_{2}^{3} x_{3} y - 32 x_{1}^{2} x_{2}^{2} x_{3}^{2} y - 2 x_{1}^{2} x_{2}^{2} + 12 x_{1}^{2} x_{2} x_{3}^{3} y + 3 x_{1}^{2} x_{2} x_{3} - 32 x_{1} x_{2}^{3} x_{3}^{2} y + 8 x_{1} x_{2} x_{3}^{2} + 16 x_{2} x_{3}^{3}, \\  8 u_{3} x_{2} x_{3}^{2} y - 4 u_{3} x_{3}^{3} y - u_{3} x_{3} - 8 x_{1} x_{2}^{2} x_{3} y + 4 x_{1} x_{2} x_{3}^{2} y + x_{1} x_{2}, \\  u_{3} x_{1} x_{2}^{2} x_{3} - 2 u_{3} x_{1} x_{2} x_{3}^{2} + u_{3} x_{1} x_{3}^{3} - 4 u_{3} x_{2} x_{3}^{3} + 2 u_{3} x_{3}^{4} + 8 x_{1}^{2} x_{2}^{4} x_{3} y - 20 x_{1}^{2} x_{2}^{3} x_{3}^{2} y - x_{1}^{2} x_{2}^{3} + 16 x_{1}^{2} x_{2}^{2} x_{3}^{3} y + 2 x_{1}^{2} x_{2}^{2} x_{3} - 4 x_{1}^{2} x_{2} x_{3}^{4} y - x_{1}^{2} x_{2} x_{3}^{2} - 16 x_{1} x_{2}^{4} x_{3}^{2} y + 8 x_{1} x_{2}^{3} x_{3}^{3} y + 4 x_{1} x_{2}^{2} x_{3}^{2} - 2 x_{1} x_{2} x_{3}^{3} + 8 x_{2}^{2} x_{3}^{3} - 4 x_{2} x_{3}^{4}, \\  8 x_{1}^{2} x_{2}^{4} x_{3} y^{2} - 20 x_{1}^{2} x_{2}^{3} x_{3}^{2} y^{2} - x_{1}^{2} x_{2}^{3} y + 16 x_{1}^{2} x_{2}^{2} x_{3}^{3} y^{2} + 2 x_{1}^{2} x_{2}^{2} x_{3} y - 4 x_{1}^{2} x_{2} x_{3}^{4} y^{2} - x_{1}^{2} x_{2} x_{3}^{2} y - 16 x_{1} x_{2}^{4} x_{3}^{2} y^{2} + 8 x_{1} x_{2}^{3} x_{3}^{3} y^{2} + 2 x_{1} x_{2}^{3} x_{3} y + 8 x_{2}^{2} x_{3}^{3} y - 4 x_{2} x_{3}^{4} y - x_{2} x_{3}^{2}\\right), \\left( u_{1}, \\  u_{2}, \\  u_{3}, \\  y, \\  x_{1}, \\  x_{2}, \\  x_{3}\\right)\\right)$"
      ],
      "text/plain": [
       "GroebnerBasis([u1*u3 - 2*u3*x3 + 2*x1*x2, u1*x2 - u3*x3 + x1*x2, u2**2*y + u3**2*y - 2*u3*x1*y - 2*u3*x2*y - 4*u3*x3*y + 4*x1*x2*y + 1, u2*u3 - u3*x1 - 2*u3*x3 + 2*x1*x2, u2*x2 - u3*x3, u3**3*y - 2*u3**2*x1*y + u3*x1**2*y - 4*u3*x1*x2*y + 4*u3*x1*x3*y - 4*u3*x2**2*y - 16*u3*x2*x3*y + 8*u3*x3**2*y + u3 - 2*x1**2*x2*y + 16*x1*x2**2*y - 8*x1*x2*x3*y + 2*x2, u3**2*x2*y - 2*u3*x1*x2*y + u3*x1*x3*y - 2*u3*x2**2*y - 4*u3*x2*x3*y + 2*u3*x3**2*y + 4*x1*x2**2*y - 2*x1*x2*x3*y + x2, u3**2*x3 - u3*x1*x2 - 2*u3*x2*x3 + 2*x1*x2**2, 2*u3*x1*x2**2*y - 4*u3*x1*x2*x3*y + 2*u3*x1*x3**2*y - u3*x3 - 4*x1*x2**3*y + x1*x2 + 2*x2*x3, 2*u3*x1*x2*x3 + 4*u3*x1*x3**4*y - 3*u3*x1*x3**2 - 8*u3*x3**3 + 16*x1**2*x2**3*x3*y - 32*x1**2*x2**2*x3**2*y - 2*x1**2*x2**2 + 12*x1**2*x2*x3**3*y + 3*x1**2*x2*x3 - 32*x1*x2**3*x3**2*y + 8*x1*x2*x3**2 + 16*x2*x3**3, 8*u3*x2*x3**2*y - 4*u3*x3**3*y - u3*x3 - 8*x1*x2**2*x3*y + 4*x1*x2*x3**2*y + x1*x2, u3*x1*x2**2*x3 - 2*u3*x1*x2*x3**2 + u3*x1*x3**3 - 4*u3*x2*x3**3 + 2*u3*x3**4 + 8*x1**2*x2**4*x3*y - 20*x1**2*x2**3*x3**2*y - x1**2*x2**3 + 16*x1**2*x2**2*x3**3*y + 2*x1**2*x2**2*x3 - 4*x1**2*x2*x3**4*y - x1**2*x2*x3**2 - 16*x1*x2**4*x3**2*y + 8*x1*x2**3*x3**3*y + 4*x1*x2**2*x3**2 - 2*x1*x2*x3**3 + 8*x2**2*x3**3 - 4*x2*x3**4, 8*x1**2*x2**4*x3*y**2 - 20*x1**2*x2**3*x3**2*y**2 - x1**2*x2**3*y + 16*x1**2*x2**2*x3**3*y**2 + 2*x1**2*x2**2*x3*y - 4*x1**2*x2*x3**4*y**2 - x1**2*x2*x3**2*y - 16*x1*x2**4*x3**2*y**2 + 8*x1*x2**3*x3**3*y**2 + 2*x1*x2**3*x3*y + 8*x2**2*x3**3*y - 4*x2*x3**4*y - x2*x3**2], u1, u2, u3, y, x1, x2, x3, domain='ZZ', order='lex')"
      ]
     },
     "execution_count": 16,
     "metadata": {},
     "output_type": "execute_result"
    }
   ],
   "source": [
    "y = symbols('y')\n",
    "G = groebner([h1,h2,h3, 1-g*y],u1,u2,u3,y,x1,x2,x3)\n"
   ]
  },
  {
   "cell_type": "code",
   "execution_count": null,
   "metadata": {},
   "outputs": [],
   "source": [
    "https://docs.sympy.org/latest/modules/geometry/index.html"
   ]
  },
  {
   "cell_type": "code",
   "execution_count": null,
   "metadata": {},
   "outputs": [],
   "source": [
    "# https://docs.sympy.org/latest/modules/geometry/index.html\n",
    "from sympy import symbols\n",
    "from sympy.geometry import Point, Triangle, intersection"
   ]
  },
  {
   "cell_type": "code",
   "execution_count": null,
   "metadata": {},
   "outputs": [],
   "source": [
    "\n",
    "fresh = 0\n",
    "def freshvar(name):\n",
    "    global fresh\n",
    "    fresh += 1\n",
    "    return symbols(f\"v{fresh}_{name}\")\n",
    "def GenericPoint(name):\n",
    "    x = freshvar(name+\"x\")\n",
    "    y = freshvar(name+\"y\")\n",
    "    return Point(name,x,y)\n",
    "\n",
    "# just append variables as constructed.\n",
    "# maybe in blocks?\n",
    "construction_order = []\n",
    "\n",
    "\n",
    "def GenericPoint(name):\n",
    "    x = freshvar(name+\"x\")\n",
    "    y = freshvar(name+\"y\")\n",
    "    construction_order.append(x)\n",
    "    construction_order.append(y)\n",
    "    #corder.append([x,y]) # block. No expectatin that y or x is prior.\n",
    "    return Point(name,x,y)\n",
    "\n"
   ]
  },
  {
   "cell_type": "code",
   "execution_count": null,
   "metadata": {},
   "outputs": [],
   "source": [
    "from sympy import *\n",
    "from dataclasses import dataclass\n",
    "\n",
    "# sympy has a geometry mopdule btw\n",
    "@dataclass\n",
    "class Point():\n",
    "    name: str\n",
    "    x : Expr\n",
    "    y : Expr\n",
    "\n",
    "    def on(self, p : Point):\n",
    "        return [self.x - p.x, self.y - p.y]\n",
    "    def __sub__(self, p : Point) -> Vector:\n",
    "        assert isinstance(p, Point)\n",
    "        return Point(self.x - p.x, self.y - p.y)\n",
    "    def __add__(self, v : Vector) -> Point:\n",
    "        assert isinstance(v, Vector)\n",
    "        return Point(self.x + v.x, self.y + v.y)\n",
    "\n",
    "@dataclass\n",
    "class Vector():\n",
    "    x : Expr\n",
    "    y : Expr\n",
    "    def _add__(self, v : Vector | Point):\n",
    "        return Vector(self.x + v.x, self.y + v.y)\n",
    "    def _sub__(self, v : Vector):\n",
    "        return Vector(self.x - v.x, self.y - v.y)\n",
    "    def cross(self, v : Vector):\n",
    "        return self.x * v.y - self.y * v.x\n",
    "\n",
    "Constraint = list[Expr]\n",
    "@dataclass\n",
    "class PointLine():\n",
    "    p1 : Point\n",
    "    p2 : Point\n",
    "    def dir(self) -> Vector:\n",
    "        return self.p2 - self.p1\n",
    "    def perp(self,l2) -> Constraint:\n",
    "        return [self.dir().cross(l2.dir())]\n",
    "    def on(self, p : Point) -> Constraint:\n",
    "        return [self.dir().cross(p - self.p1)]\n",
    "\n",
    "class Circle():\n",
    "    p1 : Point\n",
    "    p2 : Point\n",
    "    p3 : Point\n",
    "    \n",
    "\n",
    "origin = Point(0,0)\n",
    "x1 = Point(1,0)\n",
    "y1 = Point(0,1)\n",
    "\n",
    "\n",
    "\n",
    "\n",
    "\n"
   ]
  },
  {
   "cell_type": "markdown",
   "metadata": {},
   "source": [
    "\n",
    "## Differential\n",
    "proving ellipse kepler from newton laws.\n",
    "\n",
    "\n",
    " Differential Algerba\n",
    "kolchin and ritt books\n",
    "differential elimination\n",
    "vs\n",
    "integration\n",
    "Sato\n",
    "https://codeberg.org/francois.boulier/DifferentialAlgebra\n",
    "Interesting slides. I have no idea what I'm looking at.\n",
    "I guess we could pull the grobner egraph trick?\n",
    "Ok, brachistochrone kind of makes sense. Sqrt can be removed.\n",
    "Rosenfeld-grobner \n",
    "https://www.kent.ac.uk/ims/personal/elm2/liz/papers/thesis.pdf.gz differentail grobner mansfield\n",
    "pesudo reduction.\n",
    "\n",
    "\n",
    "https://www-sop.inria.fr/members/Evelyne.Hubert/diffalg/ maple\n",
    "https://macaulay2.com/doc/Macaulay2/share/doc/Macaulay2/DiffAlg/html/index.html\n",
    "\n",
    "\n",
    "olver. prolongation. codazzi relations. symmettry based solution methods. lie's method. https://www-users.cse.umn.edu/~olver/sm.html symmetrry methods. moving framesa\n",
    "\n",
    "If I took my polynomial equations and forget that the derivatitve means anything, I can grobner\n",
    "Then I can differentiate that to derive new equations (probablky increasing number of vars)\n",
    "This is a way of developing a taylor series solution from a differential equation.\n",
    "The grobner basis is a kind of evolving machine.\n",
    "I guess pushing the differential all the way through to the right is a term ordering. Obviously this is a method to normalize differentials. Normal order of annihilation creation = term order on noncommutative monomials.  annihilation equations adag a = 0 . Hmm.\n",
    "\n",
    "\n",
    "What is the critical pair of two idfferential terms?\n",
    "\n",
    "Geralnik inversion all those years ago?\n",
    "\n",
    "Sum of squares inferences.\n",
    "\n",
    "https://dl.acm.org/doi/10.1145/3666000.3669695 Faster Groebner bases for Lie derivatives of ODE systems via monomial orderings\n",
    "Peter E. Hydon, Symmetry methods for differential equations, C https://www.kent.ac.uk/smsas/personal/ph282/teach.htm\n",
    "https://openworks.wooster.edu/cgi/viewcontent.cgi?article=1948&context=independentstudy Solving Differential Equations With Symmetry Methods"
   ]
  }
 ],
 "metadata": {
  "kernelspec": {
   "display_name": "Python 3",
   "language": "python",
   "name": "python3"
  },
  "language_info": {
   "codemirror_mode": {
    "name": "ipython",
    "version": 3
   },
   "file_extension": ".py",
   "mimetype": "text/x-python",
   "name": "python",
   "nbconvert_exporter": "python",
   "pygments_lexer": "ipython3",
   "version": "3.10.12"
  }
 },
 "nbformat": 4,
 "nbformat_minor": 2
}
