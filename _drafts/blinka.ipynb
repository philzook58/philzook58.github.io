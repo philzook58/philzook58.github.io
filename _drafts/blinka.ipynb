{
 "cells": [
  {
   "cell_type": "code",
   "execution_count": null,
   "metadata": {},
   "outputs": [],
   "source": []
  },
  {
   "cell_type": "markdown",
   "metadata": {},
   "source": [
    "pip install hid\n",
    "pip install adafruit-blinka"
   ]
  },
  {
   "cell_type": "code",
   "execution_count": 1,
   "metadata": {},
   "outputs": [
    {
     "name": "stdout",
     "output_type": "stream",
     "text": [
      "env: BLINKA_MCP2221=\"1\"\n"
     ]
    }
   ],
   "source": [
    "%env BLINKA_MCP2221=\"1\""
   ]
  },
  {
   "cell_type": "code",
   "execution_count": 2,
   "metadata": {},
   "outputs": [
    {
     "ename": "RuntimeError",
     "evalue": "BLINKA_MCP2221 environment variable set, but no MCP2221 device found",
     "output_type": "error",
     "traceback": [
      "\u001b[0;31m---------------------------------------------------------------------------\u001b[0m",
      "\u001b[0;31mRuntimeError\u001b[0m                              Traceback (most recent call last)",
      "Cell \u001b[0;32mIn[2], line 1\u001b[0m\n\u001b[0;32m----> 1\u001b[0m \u001b[38;5;28;01mimport\u001b[39;00m\u001b[38;5;250m \u001b[39m\u001b[38;5;21;01mboard\u001b[39;00m\n\u001b[1;32m      2\u001b[0m board\n",
      "File \u001b[0;32m~/philzook58.github.io/.venv/lib/python3.12/site-packages/board.py:21\u001b[0m\n\u001b[1;32m     19\u001b[0m \u001b[38;5;28;01mimport\u001b[39;00m\u001b[38;5;250m \u001b[39m\u001b[38;5;21;01msys\u001b[39;00m\n\u001b[1;32m     20\u001b[0m \u001b[38;5;28;01mimport\u001b[39;00m\u001b[38;5;250m \u001b[39m\u001b[38;5;21;01madafruit_platformdetect\u001b[39;00m\u001b[38;5;21;01m.\u001b[39;00m\u001b[38;5;21;01mconstants\u001b[39;00m\u001b[38;5;21;01m.\u001b[39;00m\u001b[38;5;21;01mboards\u001b[39;00m\u001b[38;5;250m \u001b[39m\u001b[38;5;28;01mas\u001b[39;00m\u001b[38;5;250m \u001b[39m\u001b[38;5;21;01map_board\u001b[39;00m\n\u001b[0;32m---> 21\u001b[0m \u001b[38;5;28;01mfrom\u001b[39;00m\u001b[38;5;250m \u001b[39m\u001b[38;5;21;01madafruit_blinka\u001b[39;00m\u001b[38;5;21;01m.\u001b[39;00m\u001b[38;5;21;01magnostic\u001b[39;00m\u001b[38;5;250m \u001b[39m\u001b[38;5;28;01mimport\u001b[39;00m board_id, detector\n\u001b[1;32m     23\u001b[0m \u001b[38;5;66;03m# pylint: disable=wildcard-import,unused-wildcard-import,ungrouped-imports\u001b[39;00m\n\u001b[1;32m     24\u001b[0m \u001b[38;5;66;03m# pylint: disable=import-outside-toplevel\u001b[39;00m\n\u001b[1;32m     26\u001b[0m \u001b[38;5;28;01mif\u001b[39;00m board_id \u001b[38;5;241m==\u001b[39m ap_board\u001b[38;5;241m.\u001b[39mFEATHER_HUZZAH:\n",
      "File \u001b[0;32m~/philzook58.github.io/.venv/lib/python3.12/site-packages/adafruit_blinka/agnostic/__init__.py:21\u001b[0m\n\u001b[1;32m     13\u001b[0m \u001b[38;5;66;03m# We intentionally are patching into this namespace as module names so skip the name check.\u001b[39;00m\n\u001b[1;32m     14\u001b[0m \u001b[38;5;66;03m# pylint: disable=invalid-name\u001b[39;00m\n\u001b[1;32m     15\u001b[0m \n\u001b[1;32m     16\u001b[0m \u001b[38;5;66;03m# We'll define board and chip id values in agnostic rather than accessing\u001b[39;00m\n\u001b[1;32m     17\u001b[0m \u001b[38;5;66;03m# detector directly elsewhere, just in case additional indirection is necessary\u001b[39;00m\n\u001b[1;32m     18\u001b[0m \u001b[38;5;66;03m# at some later point:\u001b[39;00m\n\u001b[1;32m     20\u001b[0m detector \u001b[38;5;241m=\u001b[39m adafruit_platformdetect\u001b[38;5;241m.\u001b[39mDetector()\n\u001b[0;32m---> 21\u001b[0m chip_id \u001b[38;5;241m=\u001b[39m \u001b[43mdetector\u001b[49m\u001b[38;5;241;43m.\u001b[39;49m\u001b[43mchip\u001b[49m\u001b[38;5;241;43m.\u001b[39;49m\u001b[43mid\u001b[49m\n\u001b[1;32m     22\u001b[0m board_id \u001b[38;5;241m=\u001b[39m detector\u001b[38;5;241m.\u001b[39mboard\u001b[38;5;241m.\u001b[39mid\n\u001b[1;32m     24\u001b[0m implementation \u001b[38;5;241m=\u001b[39m sys\u001b[38;5;241m.\u001b[39mimplementation\u001b[38;5;241m.\u001b[39mname\n",
      "File \u001b[0;32m~/philzook58.github.io/.venv/lib/python3.12/site-packages/adafruit_platformdetect/chip.py:95\u001b[0m, in \u001b[0;36mChip.id\u001b[0;34m(self)\u001b[0m\n\u001b[1;32m     93\u001b[0m             \u001b[38;5;28mself\u001b[39m\u001b[38;5;241m.\u001b[39m_chip_id \u001b[38;5;241m=\u001b[39m chips\u001b[38;5;241m.\u001b[39mMCP2221\n\u001b[1;32m     94\u001b[0m             \u001b[38;5;28;01mreturn\u001b[39;00m \u001b[38;5;28mself\u001b[39m\u001b[38;5;241m.\u001b[39m_chip_id\n\u001b[0;32m---> 95\u001b[0m     \u001b[38;5;28;01mraise\u001b[39;00m \u001b[38;5;167;01mRuntimeError\u001b[39;00m(\n\u001b[1;32m     96\u001b[0m         \u001b[38;5;124m\"\u001b[39m\u001b[38;5;124mBLINKA_MCP2221 environment variable \u001b[39m\u001b[38;5;124m\"\u001b[39m\n\u001b[1;32m     97\u001b[0m         \u001b[38;5;241m+\u001b[39m \u001b[38;5;124m\"\u001b[39m\u001b[38;5;124mset, but no MCP2221 device found\u001b[39m\u001b[38;5;124m\"\u001b[39m\n\u001b[1;32m     98\u001b[0m     )\n\u001b[1;32m     99\u001b[0m \u001b[38;5;28;01mif\u001b[39;00m os\u001b[38;5;241m.\u001b[39menviron\u001b[38;5;241m.\u001b[39mget(\u001b[38;5;124m\"\u001b[39m\u001b[38;5;124mBLINKA_OS_AGNOSTIC\u001b[39m\u001b[38;5;124m\"\u001b[39m):\n\u001b[1;32m    100\u001b[0m     \u001b[38;5;66;03m# we don't need to look for this chip, it's just a flag\u001b[39;00m\n\u001b[1;32m    101\u001b[0m     \u001b[38;5;28mself\u001b[39m\u001b[38;5;241m.\u001b[39m_chip_id \u001b[38;5;241m=\u001b[39m chips\u001b[38;5;241m.\u001b[39mOS_AGNOSTIC\n",
      "\u001b[0;31mRuntimeError\u001b[0m: BLINKA_MCP2221 environment variable set, but no MCP2221 device found"
     ]
    }
   ],
   "source": [
    "import board\n",
    "board\n"
   ]
  }
 ],
 "metadata": {
  "kernelspec": {
   "display_name": ".venv",
   "language": "python",
   "name": "python3"
  },
  "language_info": {
   "codemirror_mode": {
    "name": "ipython",
    "version": 3
   },
   "file_extension": ".py",
   "mimetype": "text/x-python",
   "name": "python",
   "nbconvert_exporter": "python",
   "pygments_lexer": "ipython3",
   "version": "3.12.3"
  }
 },
 "nbformat": 4,
 "nbformat_minor": 2
}
