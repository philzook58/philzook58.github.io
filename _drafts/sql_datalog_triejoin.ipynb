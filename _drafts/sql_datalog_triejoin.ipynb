{
 "cells": [
  {
   "cell_type": "markdown",
   "id": "aa473d0b",
   "metadata": {},
   "source": [
    "https://www.philipzucker.com/compose_datalog/\n",
    "\n",
    "Bdddbbdd\n",
    "Or using SDD?\n",
    "\n",
    "datakanren should use tries\n",
    "\n",
    "\n",
    "CLP using z3 guards\n",
    "Bottom up CLP https://en.wikipedia.org/wiki/Constraint_logic_programming#Bottom-up_evaluation\n",
    "A(0).\n",
    "A(X):-X>0.\n",
    "A(X):-X=Y+1, A(Y).\n",
    "fomrulog\n",
    "Generation loops\n",
    "\n",
    "\n",
    "\n",
    "revive snakelog for benchmarks\n",
    "\n",
    "\n",
    "Negation - Fancy forall negation. Where did we talk about that? arntzenius?\n",
    "Aggregates\n",
    "\n",
    "LAttice / semiring\n",
    "https://duckdb.org/2025/05/23/using-key.html\n",
    "https://sqlite.org/lang_conflict.html\n",
    "\n",
    "provenance?\n",
    "\n",
    "Egglog / SLOG via \n",
    "`==` is at the same level as <= ?\n",
    "\n",
    "extension of env\n",
    "\n",
    "inject comments into.\n",
    "Tuple together DatalogQuery\n",
    "\n",
    "class DatalogQuery():\n",
    "    q : str\n",
    "    def \n",
    "\n",
    "env.pretty\n",
    "edge(x,y) & edge(y,z)\n",
    "\n",
    "\n",
    "class Env[A]:\n",
    "    # Gamma |- A\n",
    "    value : A \n",
    "    cols\n",
    "    code\n",
    "\n",
    "\n",
    "greatest fixpoint for deleting rules. DELETE FROM insterad of INSERT INTO. The delta is reversed?\n",
    "Still insert into new\n",
    "\n",
    "\n",
    "Monotonic graph rewriting.\n",
    "\n",
    "\n",
    "Postgres has more powerful recusrive ctes? https://www.postgresql.org/docs/current/queries-with.html#QUERIES-WITH-RECURSIVE\n",
    "https://news.ycombinator.com/item?id=45035618  https://vadimtropashko.wordpress.com/%e2%80%9csql-design-patterns%e2%80%9d-book/about/ some interesting tree and graph encodings. path strings"
   ]
  },
  {
   "cell_type": "code",
   "execution_count": 1,
   "id": "ccdf06a9",
   "metadata": {},
   "outputs": [
    {
     "ename": "OperationalError",
     "evalue": "connection to server on socket \"/var/run/postgresql/.s.PGSQL.5432\" failed: No such file or directory\n\tIs the server running locally and accepting connections on that socket?\n",
     "output_type": "error",
     "traceback": [
      "\u001b[31m---------------------------------------------------------------------------\u001b[39m",
      "\u001b[31mOperationalError\u001b[39m                          Traceback (most recent call last)",
      "\u001b[36mCell\u001b[39m\u001b[36m \u001b[39m\u001b[32mIn[1]\u001b[39m\u001b[32m, line 2\u001b[39m\n\u001b[32m      1\u001b[39m \u001b[38;5;28;01mimport\u001b[39;00m\u001b[38;5;250m \u001b[39m\u001b[34;01mpsycopg2\u001b[39;00m\n\u001b[32m----> \u001b[39m\u001b[32m2\u001b[39m conn = \u001b[43mpsycopg2\u001b[49m\u001b[43m.\u001b[49m\u001b[43mconnect\u001b[49m\u001b[43m(\u001b[49m\u001b[33;43m\"\u001b[39;49m\u001b[33;43mdbname=test user=postgres\u001b[39;49m\u001b[33;43m\"\u001b[39;49m\u001b[43m)\u001b[49m\n\u001b[32m      3\u001b[39m conn.close()\n",
      "\u001b[36mFile \u001b[39m\u001b[32m~/philzook58.github.io/.venv/lib/python3.12/site-packages/psycopg2/__init__.py:122\u001b[39m, in \u001b[36mconnect\u001b[39m\u001b[34m(dsn, connection_factory, cursor_factory, **kwargs)\u001b[39m\n\u001b[32m    119\u001b[39m     kwasync[\u001b[33m'\u001b[39m\u001b[33masync_\u001b[39m\u001b[33m'\u001b[39m] = kwargs.pop(\u001b[33m'\u001b[39m\u001b[33masync_\u001b[39m\u001b[33m'\u001b[39m)\n\u001b[32m    121\u001b[39m dsn = _ext.make_dsn(dsn, **kwargs)\n\u001b[32m--> \u001b[39m\u001b[32m122\u001b[39m conn = \u001b[43m_connect\u001b[49m\u001b[43m(\u001b[49m\u001b[43mdsn\u001b[49m\u001b[43m,\u001b[49m\u001b[43m \u001b[49m\u001b[43mconnection_factory\u001b[49m\u001b[43m=\u001b[49m\u001b[43mconnection_factory\u001b[49m\u001b[43m,\u001b[49m\u001b[43m \u001b[49m\u001b[43m*\u001b[49m\u001b[43m*\u001b[49m\u001b[43mkwasync\u001b[49m\u001b[43m)\u001b[49m\n\u001b[32m    123\u001b[39m \u001b[38;5;28;01mif\u001b[39;00m cursor_factory \u001b[38;5;129;01mis\u001b[39;00m \u001b[38;5;129;01mnot\u001b[39;00m \u001b[38;5;28;01mNone\u001b[39;00m:\n\u001b[32m    124\u001b[39m     conn.cursor_factory = cursor_factory\n",
      "\u001b[31mOperationalError\u001b[39m: connection to server on socket \"/var/run/postgresql/.s.PGSQL.5432\" failed: No such file or directory\n\tIs the server running locally and accepting connections on that socket?\n"
     ]
    }
   ],
   "source": [
    "import psycopg2\n",
    "conn = psycopg2.connect(\"dbname=test user=postgres\")\n",
    "conn.close()"
   ]
  },
  {
   "cell_type": "markdown",
   "id": "c870ff87",
   "metadata": {},
   "source": [
    "You know, honestly the pyuthon impl is more flexible for prototyping. I'm not going to be making big stuff."
   ]
  },
  {
   "cell_type": "code",
   "execution_count": null,
   "id": "39539980",
   "metadata": {},
   "outputs": [],
   "source": [
    "from typing import Callable\n",
    "type Var = str\n",
    "type Env = dict[Var, object]\n",
    "type DB = dict[str, set[tuple(object,...)]]\n",
    "type Query = Callable[[DB], list[Env]]\n",
    "from dataclasses import dataclass\n",
    "\n",
    "@dataclass(frozen=True)\n",
    "class Var():\n",
    "    name : str\n",
    "\n",
    "def reldecl(name: str) -> Callable[..., Query]:\n",
    "    def rel(*args) -> Query:\n",
    "        def res(db: DB) -> list[Env]:\n",
    "            R = db[name]\n",
    "            envs = []\n",
    "            for row in R:\n",
    "                env = {}\n",
    "                for arg, val in zip(args, row):\n",
    "                    if isinstance(arg, Var):\n",
    "                        if arg in env and env[arg] != val:\n",
    "                            break\n",
    "                        env[arg] = val\n",
    "                    else:\n",
    "                        if arg != val:\n",
    "                            break\n",
    "                else:\n",
    "                    envs.append(env)\n",
    "            return envs\n",
    "        return res\n",
    "    return rel\n",
    "\n",
    "def conj(*queries: Query) -> Query:\n",
    "    def res(db : DB) -> list[Env]:\n",
    "        envs = [{}]\n",
    "        for query in queries:\n",
    "            R = query(db)\n",
    "            newenvs = []        \n",
    "            for env1 in R:\n",
    "                for env2 in envs:\n",
    "                    if all(env1[k] == env2[k] for k in set(env1.keys()) & set(env2.keys())):\n",
    "                        newenvs.append(env1 | env2)\n",
    "            envs = newenvs\n",
    "        return envs\n",
    "    return res\n",
    "\n",
    "type Action = Callable[[DB, Query], DB]\n",
    "\n",
    "def headdecl(name : str):\n",
    "    def rel(*args) -> Action:\n",
    "        def res(query : Query, db : DB) -> DB:\n",
    "            envs = query(db)\n",
    "            Rold = db.get(name, set())\n",
    "            Rnew = {tuple(env[arg] if isinstance(arg,Var) else arg for arg in args) for env in envs}\n",
    "            return {**db, **{name : Rnew | Rold}}\n",
    "        return res\n",
    "    return rel"
   ]
  },
  {
   "cell_type": "code",
   "execution_count": null,
   "id": "b69951ad",
   "metadata": {},
   "outputs": [],
   "source": [
    "path = set()\n",
    "edge = {(1,2), (2,3), (3,4)}\n",
    "\n",
    "def fix(*rels):\n",
    "    def res(strata):\n",
    "        while True:\n",
    "            sizes = [len(rel) for rel in rels]\n",
    "            new_rels = [set() for _ in rels]\n",
    "            strata(*new_rels)\n",
    "            if sizes == [len(rel) for rel in rels]:\n",
    "                return\n",
    "    return res\n",
    "\n",
    "@fix(path, edge)\n",
    "def strata(newpath, newedge):\n",
    "    newpath |= edge\n",
    "    newpath |= {(x,z) for (x,y) in edge for (y1,z) in path if y == y1}\n",
    "# nah, but there is no easy way to inject the delta in there."
   ]
  },
  {
   "cell_type": "code",
   "execution_count": null,
   "id": "e66c6168",
   "metadata": {},
   "outputs": [
    {
     "data": {
      "text/plain": [
       "{(1, 2), (1, 3), (1, 4), (2, 3), (2, 4), (3, 4)}"
      ]
     },
     "execution_count": 15,
     "metadata": {},
     "output_type": "execute_result"
    }
   ],
   "source": [
    "path = set()\n",
    "edge = {(1,2), (2,3), (3,4)}\n",
    "\n",
    "def fix(*rels):\n",
    "    def res(strata):\n",
    "        while True:\n",
    "            sizes = [len(rel) for rel in rels]\n",
    "            strata(*rels)\n",
    "            if sizes == [len(rel) for rel in rels]:\n",
    "                return\n",
    "    return res\n",
    "\n",
    "@fix(path, edge)\n",
    "def strata(path, edge):\n",
    "    path |= edge\n",
    "    path |= {(x,z) for (x,y) in edge for (y1,z) in path if y == y1}\n",
    "\n",
    "\n",
    "\n",
    "    #global path, edge # choice between passing in or using global\n",
    "path\n",
    "\n",
    "class Rel():\n",
    "    data: set[tuple]\n",
    "    def __call__():\n",
    "        pass\n"
   ]
  },
  {
   "cell_type": "markdown",
   "id": "c35fbbe8",
   "metadata": {},
   "source": [
    "# Lattice\n",
    "Use ON CONFLICT REPLACE\n",
    "https://sqlite.org/lang_conflict.html\n",
    "Subsumption\n",
    "https://sqlite.org/lang_upsert.html"
   ]
  },
  {
   "cell_type": "code",
   "execution_count": 6,
   "id": "22a2dd43",
   "metadata": {},
   "outputs": [
    {
     "name": "stdout",
     "output_type": "stream",
     "text": [
      "[(1, 2, 3), (2, 3, 4), (1, 3, 10)]\n",
      "[(1, 2, 3), (2, 3, 4), (1, 3, 7)]\n"
     ]
    }
   ],
   "source": [
    "import sqlite3\n",
    "db = sqlite3.connect(':memory:')\n",
    "db.execute(\"CREATE TABLE edge (a NUMBER, b NUMBER, cost NUMBER, PRIMARY KEY (a,b))\")\n",
    "db.execute(\"CREATE TABLE path (a NUMBER, b NUMBER, cost NUMBER, PRIMARY KEY (a,b))\")\n",
    "db.execute(\"INSERT INTO edge VALUES (1,2,3), (2,3,4), (1,3,10)\")\n",
    "db.execute(\"INSERT INTO path SELECT * FROM edge\")\n",
    "print(list(db.execute(\"SELECT * FROM path\")))\n",
    "db.execute(\"INSERT INTO path SELECT p.a, e.b, p.cost + e.cost FROM path p, edge e WHERE p.b = e.a ON CONFLICT(a,b) DO UPDATE SET cost=min(excluded.cost, path.cost)\")\n",
    "print(list(db.execute(\"SELECT * FROM path\")))"
   ]
  },
  {
   "cell_type": "code",
   "execution_count": 9,
   "id": "65ada0b3",
   "metadata": {},
   "outputs": [
    {
     "name": "stdout",
     "output_type": "stream",
     "text": [
      "[(1, 2, 3), (2, 3, 4), (1, 3, 10)]\n",
      "[(1, 2, 3), (2, 3, 4), (1, 3, 10), (1, 3, 7)]\n",
      "[(1, 2, 3), (2, 3, 4), (1, 3, 7)]\n"
     ]
    }
   ],
   "source": [
    "import sqlite3\n",
    "db = sqlite3.connect(':memory:')\n",
    "db.execute(\"CREATE TABLE edge (a NUMBER, b NUMBER, cost NUMBER, PRIMARY KEY (a,b,cost))\")\n",
    "db.execute(\"CREATE TABLE path (a NUMBER, b NUMBER, cost NUMBER, PRIMARY KEY (a,b,cost))\")\n",
    "db.execute(\"INSERT INTO edge VALUES (1,2,3), (2,3,4), (1,3,10)\")\n",
    "db.execute(\"INSERT INTO path SELECT * FROM edge\")\n",
    "print(list(db.execute(\"SELECT * FROM path\")))\n",
    "db.execute(\"INSERT OR IGNORE INTO path SELECT p.a, e.b, p.cost + e.cost FROM path p, edge e WHERE p.b = e.a\")\n",
    "print(list(db.execute(\"SELECT * FROM path\")))\n",
    "db.execute(\"DELETE FROM path WHERE EXISTS (SELECT 1 FROM path p2 WHERE p2.a=path.a AND p2.b=path.b AND p2.cost<path.cost)\")\n",
    "print(list(db.execute(\"SELECT * FROM path\")))"
   ]
  },
  {
   "cell_type": "code",
   "execution_count": null,
   "id": "babee299",
   "metadata": {},
   "outputs": [],
   "source": []
  },
  {
   "cell_type": "markdown",
   "id": "6c9b3ac5",
   "metadata": {},
   "source": [
    "# Dynamic Stratification\n",
    "Exampels that need flexible relation\n",
    "\n",
    "Kind of like seminaive.\n",
    "a :- b,c,not d.  \n",
    "if frontier > d, then do it.\n",
    "if d > frontier then save minimal set.\n",
    "if delta = 0, move frontier to minimal set.\n",
    "(set delta := frontier ?)\n",
    "\n",
    "loop:\n",
    "delta\n",
    "swaparooni\n",
    "if delta = 0\n",
    "    swaparooni of frontier\n",
    "\n",
    "\n",
    "\n",
    "Or perhaps we could mash frontier into a massive query using all rules.\n",
    "\n",
    "\n",
    "In resolution, we are trying to show that something is unsatisfiable.\n",
    "We do this by trying to generate a model.\n",
    "Ordered resolution picks an ordering on models. If there is no best model, then there is no model. This cuts down on search space.\n",
    "\n",
    "positive Datalog programs have a unique minimal model. Negation goes into ASP, with multiple stable models.\n",
    "If we pick an ordering, we can again have a minimal model (ASP optimization?)\n",
    "\n",
    "So stratified datalog infers a (partial) ordering amongst relations. We can have a finer ordering relation though, we just need to give it.\n",
    "\n",
    "\n",
    "If we want to use negation but with a generic Hilog style rel2 predicate\n",
    "```\n",
    "rel1\n",
    "rel2(\"edge\", A,B) :- \n",
    "rel2(\"path\", )\n",
    "\n",
    "\n",
    "```\n",
    "This is a move of static data to dynamic data, so it makes sense we might need another styatic to dynamic.\n",
    "The relation ordering becomes data orderings a la LPO.\n",
    "\n",
    "Well foundedness of the ordering is unneccesary.\n",
    "Is totality of the ordering unnecessary?\n",
    "\n",
    "Maybe stating a well foundedness could be used to make nonterminating datalog terminating again. Some intermixing of the datalog termination argumeny\n",
    "\n",
    "Really cool thesis. https://www.repository.cam.ac.uk/bitstreams/6ef091ab-d041-4baa-93d3-f6c9bbb16f94/download  Furthering Datalog in the pursuit of program analysis Joseph Owen Sutherland Isaacs\n",
    "Assign kind of a \"sealing\" relation. seal(x) > rel(x) ?\n",
    "\n",
    "Perfect model semantics\n",
    "Stefano Ceri, Georg Gottlob, and Letizia Tanca. “Extensions of Pure Datalog”. In:\n",
    "Logic Programming and Databases (1990).\n",
    "\n",
    "Closed sets is an example. Huh. So maybe this is a solution to extensional vs intensional sets?\n",
    "\n"
   ]
  },
  {
   "cell_type": "markdown",
   "id": "5f7f3ddf",
   "metadata": {},
   "source": [
    "# Why Datalog?\n",
    "What is the point of all this?\n",
    "https://github.com/souffle-lang/souffle/tree/master/tests/example\n",
    "My junk in notes\n",
    "examples in ascent? Flix?\n",
    "https://github.com/HarvardPL/formulog/tree/master/examples Hmm. Not that many\n",
    "\n",
    "https://github.com/s-arash/ascent/tree/master/ascent/examples\n",
    "\n",
    "\n"
   ]
  },
  {
   "cell_type": "markdown",
   "id": "a7a0223a",
   "metadata": {},
   "source": [
    "# Bdddbbdd\n"
   ]
  }
 ],
 "metadata": {
  "kernelspec": {
   "display_name": "philzook58.github.io",
   "language": "python",
   "name": "python3"
  },
  "language_info": {
   "codemirror_mode": {
    "name": "ipython",
    "version": 3
   },
   "file_extension": ".py",
   "mimetype": "text/x-python",
   "name": "python",
   "nbconvert_exporter": "python",
   "pygments_lexer": "ipython3",
   "version": "3.12.3"
  }
 },
 "nbformat": 4,
 "nbformat_minor": 5
}
