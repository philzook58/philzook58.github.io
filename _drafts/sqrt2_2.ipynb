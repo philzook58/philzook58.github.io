{
 "cells": [
  {
   "cell_type": "markdown",
   "id": "27fa5886",
   "metadata": {},
   "source": []
  },
  {
   "cell_type": "code",
   "execution_count": 1,
   "id": "5da82995",
   "metadata": {},
   "outputs": [
    {
     "name": "stdout",
     "output_type": "stream",
     "text": [
      "WARNING: Redefining function even from |= ForAll(x, even(x) == (Exists(y, x == 2*y))) to ForAll(n, even(n) == (Exists(k, n == 2*k)))\n",
      "WARNING: Redefining function odd from |= ForAll(x, odd(x) == (Exists(y, x == 2*y + 1))) to ForAll(n, odd(n) == (Exists(k, n == 2*k + 1)))\n",
      "[N!38] ; [Exists(k, N!38 + 1 == 2*k + 1)] ?|= Exists(k, N!38 == 2*k)\n"
     ]
    }
   ],
   "source": [
    "from kdrag.all import *\n",
    "import kdrag.theories.int as int_\n",
    "n,m,k,p,q = smt.Ints(\"n q k p q\")\n",
    "\n",
    "even = kd.define(\"even\", [n], smt.Exists([k], n == 2*k))\n",
    "odd = kd.define(\"odd\", [n], smt.Exists([k], n == 2*k + 1))\n",
    "\n",
    "N,M,K = kd.FreshVars(\"N M K\", smt.IntSort())\n",
    "\n",
    "with kd.tactics.Goal(sig=[N],ctx=[odd(N-1)],goal=even(N)).proof() as l:\n",
    "    l.unfold(odd, at=0)\n",
    "    l.unfold(even)\n",
    "    _k = l.obtain(-1)\n",
    "    l.exists(1 + _k)\n",
    "    l.auto()\n",
    "    odd_dec_even = l.qed().forall([N])\n",
    "\n",
    "with kd.tactics.Goal(sig=[N],ctx=[even(N-1)],goal=odd(N)).proof() as l:\n",
    "    l.unfold(even, at=0)\n",
    "    l.unfold(odd)\n",
    "    _k = l.obtain(-1)\n",
    "    l.exists(_k)\n",
    "    l.auto()\n",
    "    even_dec_odd = l.qed().forall([N])\n",
    "\n",
    "with kd.tactics.Goal(sig=[N],ctx=[odd(N+1)],goal=even(N)).proof() as l:\n",
    "    l.unfold(odd, at=0)\n",
    "    l.unfold(even)\n",
    "    print(l)\n",
    "    _k = l.obtain(-1)\n",
    "    l.exists(_k)\n",
    "    l.auto()\n",
    "    odd_inc_even = l.qed().forall([N])\n",
    "\n",
    "with kd.tactics.Goal(sig=[N],ctx=[even(N+1)],goal=odd(N)).proof() as l:\n",
    "    l.unfold(even, at=0)\n",
    "    l.unfold(odd)\n",
    "    _k = l.obtain(-1)\n",
    "    l.exists(_k - 1)\n",
    "    l.auto()\n",
    "    even_inc_odd = l.qed().forall([N])\n",
    "\n"
   ]
  },
  {
   "cell_type": "code",
   "execution_count": 2,
   "id": "afbbe1a3",
   "metadata": {},
   "outputs": [
    {
     "data": {
      "text/html": [
       "&#x22A8;ForAll(N!38, Or(even(N!38), odd(N!38)))"
      ],
      "text/plain": [
       "|= ForAll(N!38, Or(even(N!38), odd(N!38)))"
      ]
     },
     "execution_count": 2,
     "metadata": {},
     "output_type": "execute_result"
    }
   ],
   "source": [
    "with kd.tactics.Goal(\n",
    "        sig=[N],\n",
    "        ctx=[],\n",
    "        goal=smt.Or(even(N), odd(N))).proof() as l:\n",
    "    l.induct(N)\n",
    "    _n = l.fix()\n",
    "    #l.simp()\n",
    "    #l.auto(by=[odd_even(_n+1), even_odd(_n+1)])\n",
    "    #print(l)\n",
    "    l.intros()\n",
    "    l.simp()\n",
    "    l.left()\n",
    "    #l.apply(odd_even(_n)) # shouldn't fail. What's up?\n",
    "    l.apply(odd_inc_even)\n",
    "    l.simp(at=0)\n",
    "    l.split(at=0)\n",
    "    l.cases(odd(_n))\n",
    "    l.auto()\n",
    "    l.have(even(_n), by=[])\n",
    "    l.apply(2)\n",
    "    l.apply(even_inc_odd)\n",
    "    l.auto()\n",
    "    # case 0\n",
    "    l.auto(unfold=1)\n",
    "    # case n > 0\n",
    "    _n = l.fix()\n",
    "    l.intros()\n",
    "    l.simp()\n",
    "    l.left()\n",
    "    l.apply(odd_dec_even)\n",
    "    l.cases(odd(_n))\n",
    "    l.auto()\n",
    "    l.have(even(_n), by=[])\n",
    "    l.apply(1)\n",
    "    l.apply(even_dec_odd)\n",
    "    l.auto()\n",
    "    even_or_odd = l.qed().forall([N])\n",
    "\n",
    "    # l.apply(-1) # todo make apply not work.\n",
    "    #l.auto()\n",
    "even_or_odd"
   ]
  },
  {
   "cell_type": "code",
   "execution_count": null,
   "id": "cf43e8f3",
   "metadata": {},
   "outputs": [
    {
     "name": "stdout",
     "output_type": "stream",
     "text": [
      "Goal [And(le(A!203, B!204), le(B!204, C!205)),\n",
      " A!203 == mul(A!203, B!204),\n",
      " B!204 == mul(B!204, C!205),\n",
      " A!203 == mul(A!203, mul(B!204, C!205)),\n",
      " A!203 == mul(mul(A!203, B!204), C!205),\n",
      " A!203 == mul(A!203, C!205),\n",
      " le(A!203, C!205)]\n",
      "?|= le(A!203, C!205)\n"
     ]
    },
    {
     "data": {
      "text/html": [
       "&#x22A8;ForAll([A!203, B!204, C!205],\n",
       "       Implies(And(le(A!203, B!204), le(B!204, C!205)),\n",
       "               le(A!203, C!205)))"
      ],
      "text/plain": [
       "|= ForAll([A!203, B!204, C!205],\n",
       "       Implies(And(le(A!203, B!204), le(B!204, C!205)),\n",
       "               le(A!203, C!205)))"
      ]
     },
     "execution_count": 45,
     "metadata": {},
     "output_type": "execute_result"
    }
   ],
   "source": [
    "from functools import cached_property\n",
    "\n",
    "class AbstractGroup():\n",
    "    G = smt.DeclareSort(\"AbstractGroup\")\n",
    "    A,B,C = kd.FreshVars(\"A B C\", G)\n",
    "    a,b,c = smt.Consts(\"a b c\", G)\n",
    "    mul = smt.Function(\"mul\", G, G, G)\n",
    "    kd.notation.mul.register(G, mul)\n",
    "    mul_assoc = kd.axiom(smt.ForAll([a,b,c], (a * b) * c == a * (b * c)))\n",
    "    \n",
    "    mul_comm = kd.axiom(smt.ForAll([a,b], a * b == b * a))\n",
    "\n",
    "\n",
    "    #with kd.tactics.Goal(fixes=[A,B,C],\n",
    "    #    shows\n",
    "    with kd.Lemma(A * (B * C) == B * (A * C)) as l:\n",
    "        l.have((B * A) * C == (A * B) * C, by=[mul_comm(A,B)])\n",
    "        l.auto(by=[mul_assoc(B,A,C), mul_assoc(A,B,C)])\n",
    "        left_commute = l.qed().forall([A,B,C])\n",
    "\n",
    "    e = smt.Const(\"e\", G)\n",
    "    inv = smt.Function(\"inv\", G, G)\n",
    "    group_left_neutral = kd.axiom(smt.ForAll([a], e * a == a))\n",
    "    left_inverse = kd.axiom(smt.ForAll([a], inv(a) * a == e))\n",
    "\n",
    "    with kd.Lemma((A * B == A * C) == (B == C)) as l:\n",
    "        l.split()\n",
    "        l.intros() #(A * B == A * C)\n",
    "        l.have(inv(A) * (A * B) == inv(A) * (A * C), by=[])\n",
    "        l.have((inv(A) * A) * B == (inv(A) * A) * C, by=[mul_assoc(inv(A), A, B), mul_assoc(inv(A), A, C)])\n",
    "        l.show(B == C, by=[left_inverse, group_left_neutral])\n",
    "        #l.show(B == C, by=[left_inverse(A), group_left_neutral(B), group_left_neutral(C)])\n",
    "        l.auto()\n",
    "        left_cancel = l.qed().forall([A,B,C])\n",
    "\n",
    "    idem = kd.axiom(smt.ForAll([a], a * a == a))\n",
    "\n",
    "    left_idem = kd.prove(A * (A * B) == A * B, by=[idem(A), mul_assoc(A,A,B)]).forall([A,B])\n",
    "    right_idem = kd.prove((B * A) * A == B * A, by=[idem(A), mul_assoc(B,A,A)]).forall([A,B])\n",
    "\n",
    "    le = kd.notation.le.define([a,b], a == a * b)\n",
    "    lt = kd.notation.lt.define([a,b], smt.And(a != b, a == a * b))\n",
    "    order_iff = le.defn\n",
    "    strict_order_iff = lt.defn\n",
    "\n",
    "    refl = kd.prove(A <= A, unfold=1, by=[idem(A)]).forall([A])\n",
    "    \n",
    "    strict_iff_order = kd.prove((A < B) == smt.And(A <= B, A != B), unfold=1)\n",
    "   \n",
    "    with kd.Lemma(kd.QImplies(A <= B, B <= A, A == B)) as l:\n",
    "        l.intros()\n",
    "        l.have(A == A * B, unfold=1)\n",
    "        l.have(A * B == B, unfold=1, by=[mul_comm])\n",
    "        l.show(A == B, by=[])\n",
    "        antisymm = l.qed().forall([A,B])\n",
    "    \n",
    "    with kd.Lemma(kd.QImplies(A <= B, B <= C, A <= C)) as l:\n",
    "        l.intros()\n",
    "        l.have(A == A * B, unfold=1)\n",
    "        l.have(B == B * C, unfold=1)\n",
    "        l.have(A == A * (B * C), by=[])\n",
    "        l.have(A == (A * B) * C, by=[mul_assoc])\n",
    "        l.have(A == A * C, by=[])\n",
    "        l.have(A <= C, unfold=1)\n",
    "        trans = l.qed().forall([A,B,C])\n",
    "\n",
    "    cobounded1 = kd.prove(A * B <= B, unfold=1, by=[mul_assoc, idem(B), mul_comm]).forall([A,B])\n",
    "    cobounded2 = kd.prove(B * A <= B, unfold=1, by=[mul_comm(A,B), cobounded1(A,B)]).forall([A,B])\n",
    "\n",
    "\n",
    "\n",
    "\n",
    "\n",
    "    \n",
    "\n",
    "\n",
    "\n",
    "AbstractGroup.left_commute\n",
    "AbstractGroup.left_cancel\n",
    "AbstractGroup.trans\n"
   ]
  }
 ],
 "metadata": {
  "kernelspec": {
   "display_name": "philzook58.github.io",
   "language": "python",
   "name": "python3"
  },
  "language_info": {
   "codemirror_mode": {
    "name": "ipython",
    "version": 3
   },
   "file_extension": ".py",
   "mimetype": "text/x-python",
   "name": "python",
   "nbconvert_exporter": "python",
   "pygments_lexer": "ipython3",
   "version": "3.12.3"
  }
 },
 "nbformat": 4,
 "nbformat_minor": 5
}
