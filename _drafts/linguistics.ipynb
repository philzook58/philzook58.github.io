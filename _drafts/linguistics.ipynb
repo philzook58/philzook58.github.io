{
 "cells": [
  {
   "cell_type": "markdown",
   "id": "106a3445",
   "metadata": {},
   "source": [
    "https://plato.stanford.edu/entries/montague-semantics/\n",
    "https://en.wikipedia.org/wiki/Formal_semantics_(natural_language) an interesting subsection of wikipedia\n",
    "https://okmij.org/ftp/gengo/LambekACG.pdf\n",
    "https://en.wikipedia.org/wiki/Categorial_grammar\n",
    "\n",
    "\n",
    "Ben said something about worlds + time. Possibility and eventually combining.\n",
    "\n",
    "https://naproche.github.io/\n",
    "\n",
    "It's like a whole world\n",
    "\n",
    "type shifter\n"
   ]
  }
 ],
 "metadata": {
  "language_info": {
   "name": "python"
  }
 },
 "nbformat": 4,
 "nbformat_minor": 5
}
