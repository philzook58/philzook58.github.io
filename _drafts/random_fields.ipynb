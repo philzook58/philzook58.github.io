{
 "cells": [
  {
   "cell_type": "markdown",
   "metadata": {},
   "source": [
    "Quantum electrostatics\n",
    "\n",
    "Electrons in disordered materials. Similar of sorts\n",
    "localization. anderson\n",
    "https://en.wikipedia.org/wiki/Anderson_localization\n",
    "https://en.wikipedia.org/wiki/Weak_localization\n",
    "amplitude for time reversed process builds up.\n",
    "\n",
    "Random media\n",
    " Goodman statistical optics\n",
    "Declan's problem\n",
    "\n",
    "Optics in random media.\n",
    "Ping https://www.amazon.com/SCATTERING-LOCALIZATION-CLASSICAL-DIRECTIONS-CONDENSED/dp/9971505398 Scattering and Localization of Classical Waves in Random Media\n",
    "Introduction to Wave Scattering, Localization and Mesoscopic Phenomena\n",
    "https://www.youtube.com/watch?v=xlhia3aNMb4&ab_channel=INISeminarRoom1  Wave propagation in random media: Gaussian and non-Gaussian wave.\n",
    "https://www.newton.ac.uk/event/mwsw02/  Theory of wave scattering in complex and random media\n",
    "\n",
    "Wave propagation and scattering in random media - akira ishimaru\n",
    "\n",
    "Electrostatics in random media\n",
    "speckle patterns\n",
    "\n",
    "imaging problems / inverse problems as a bayesian kind of thing.\n",
    "\n",
    "\n",
    "A distribution over fields. Kind of a complex entity. What is a function? If we come up with a particular parametrization of functions, this doesn't seem so bad.\n",
    "Statistical field theory\n",
    "Quantum field theory\n",
    "\n",
    "The saving grace is monte carlo sims, which doesn't save us for quantum.\n",
    "\n",
    "\n",
    "Man, some ideas are like a bad rash. They never go away, get tied off. Just rot on me until I die.\n",
    "\n",
    "\n"
   ]
  }
 ],
 "metadata": {
  "language_info": {
   "name": "python"
  }
 },
 "nbformat": 4,
 "nbformat_minor": 2
}
