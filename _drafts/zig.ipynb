{
 "cells": [
  {
   "cell_type": "markdown",
   "id": "e3f44d19",
   "metadata": {},
   "source": [
    "\n",
    "https://ziglang.org/learn/samples/\n",
    "\n",
    "<https://blog.logrocket.com/getting-started-zig-programming-language/>\n",
    "`snap install zig --classic --beta`\n",
    "\n",
    "`zig init-exe`\n",
    "`zig translate-c`\n",
    "\n",
    "```zig\n",
    "//re\n",
    "const std = @import(\"std\");\n",
    "\n",
    "pub fn main() void {\n",
    "    std.debug.print(\"Hello Zig!\\n\", .{});\n",
    "    std.debug.print(\"Hello {}\\n\", .{2023}); // Hello 2023\n",
    "    std.debug.print(\"Hello {s}! {d}\\n\", .{\"Zig\", 2023}); // Hello Zig! 2023\n",
    "\n",
    "    var x: i8 = -100;     // Signed 8-bit integer\n",
    "    var y: u8 = 120;      // Unsigned 8-bit integer\n",
    "    var z: f32 = 100.324; // 32-bit floating point\n",
    "\n",
    "    std.debug.print(\"x={}\\n\", .{x});        // x=-100\n",
    "    std.debug.print(\"y={}\\n\", .{y});        // y=120\n",
    "    std.debug.print(\"z={d:3.2}\\n\", .{z});   // z=100.32\n",
    "    \n",
    "    const LogType = enum {\n",
    "        info,\n",
    "        err,\n",
    "        warn\n",
    "    };\n",
    "\n",
    "    const ltInfo = LogType.info;\n",
    "    const ltErr = LogType.err;\n",
    "\n",
    "    std.debug.print(\"{}\\n\", .{ltInfo}); // main.main.LogType.info\n",
    "    std.debug.print(\"{}\\n\", .{ltErr});  // main.main.LogType.err\n",
    "\n",
    "}\n",
    "fn add(a: i8, b: i8) i8 {\n",
    "    return a + b;\n",
    "}\n",
    "```\n",
    "\n",
    "zigzap/zap: A micro-framework for building web backends\n",
    "JakubSzark/zig-string: A string library for Zig\n",
    "kooparse/zalgebra: Linear algebra library for games and real-time graphics\n",
    "zigimg/zigimg: Zig library for reading and writing different image formats\n",
    "ziglibs/ini: A simple INI parser for Zig\n",
    "\n",
    "<https://github.com/C-BJ/awesome-zig>\n",
    "\n",
    "Good C interop supposedly. Such that you don't really need to write bindings?\n",
    "`c_int`\n",
    "\n",
    "No libc by default but easy to add in\n",
    "\n",
    "```zig\n",
    "\n",
    "```\n",
    "\n",
    "ReleaseSafe mode detects undefined behavior.\n",
    "\n",
    "# Comptime\n",
    "\n",
    "Cool oppurtunirty for some staged metapgoramming stuff right?\n",
    "Like KMP, parsers, etc\n",
    "Generics are calculated types which feels a bit mindblowing (?)\n",
    "Maybe that is'nt that crazy from system f perspective\n",
    "\n",
    "# Allocators\n"
   ]
  },
  {
   "cell_type": "code",
   "execution_count": 8,
   "id": "4efc4f10",
   "metadata": {},
   "outputs": [
    {
     "name": "stdout",
     "output_type": "stream",
     "text": [
      "Usage: zig [command] [options]\n",
      "\n",
      "Commands:\n",
      "\n",
      "  build            Build project from build.zig\n",
      "  fetch            Copy a package into global cache and print its hash\n",
      "  init             Initialize a Zig package in the current directory\n",
      "\n",
      "  build-exe        Create executable from source or object files\n",
      "  build-lib        Create library from source or object files\n",
      "  build-obj        Create object from source or object files\n",
      "  test             Perform unit testing\n",
      "  run              Create executable and run immediately\n",
      "\n",
      "  ast-check        Look for simple compile errors in any set of files\n",
      "  fmt              Reformat Zig source into canonical form\n",
      "  reduce           Minimize a bug report\n",
      "  translate-c      Convert C code to Zig code\n",
      "\n",
      "  ar               Use Zig as a drop-in archiver\n",
      "  cc               Use Zig as a drop-in C compiler\n",
      "  c++              Use Zig as a drop-in C++ compiler\n",
      "  dlltool          Use Zig as a drop-in dlltool.exe\n",
      "  lib              Use Zig as a drop-in lib.exe\n",
      "  ranlib           Use Zig as a drop-in ranlib\n",
      "  objcopy          Use Zig as a drop-in objcopy\n",
      "  rc               Use Zig as a drop-in rc.exe\n",
      "\n",
      "  env              Print lib path, std path, cache directory, and version\n",
      "  help             Print this help and exit\n",
      "  std              View standard library documentation in a browser\n",
      "  libc             Display native libc paths file or validate one\n",
      "  targets          List available compilation targets\n",
      "  version          Print version number and exit\n",
      "  zen              Print Zen of Zig and exit\n",
      "\n",
      "General Options:\n",
      "\n",
      "  -h, --help       Print command-specific usage\n"
     ]
    }
   ],
   "source": [
    "! zig help"
   ]
  },
  {
   "cell_type": "code",
   "execution_count": 2,
   "id": "6692d8f2",
   "metadata": {},
   "outputs": [
    {
     "name": "stdout",
     "output_type": "stream",
     "text": [
      "Overwriting /tmp/hello.zig\n"
     ]
    }
   ],
   "source": [
    "%%file /tmp/hello.zig\n",
    "\n",
    "const std = @import(\"std\");\n",
    "\n",
    "pub fn main() !void {\n",
    "    std.debug.print(\"Hello World!\\n\", .{});\n",
    "}"
   ]
  },
  {
   "cell_type": "code",
   "execution_count": 4,
   "id": "74906b2a",
   "metadata": {},
   "outputs": [
    {
     "name": "stdout",
     "output_type": "stream",
     "text": [
      "Hello World!\n"
     ]
    }
   ],
   "source": [
    "! zig run /tmp/hello.zig "
   ]
  },
  {
   "cell_type": "code",
   "execution_count": 8,
   "id": "ff1c9de7",
   "metadata": {},
   "outputs": [
    {
     "name": "stdout",
     "output_type": "stream",
     "text": [
      "Overwriting /tmp/hello2.zig\n"
     ]
    }
   ],
   "source": [
    "%%file /tmp/hello2.zig\n",
    "const std = @import(\"std\");\n",
    "\n",
    "// longer form version. Actually zig has some stderr and stout distinction\n",
    "pub fn main() !void {\n",
    "    try std.fs.File.stdout().writeAll(\"hello world!\\n\");\n",
    "}"
   ]
  },
  {
   "cell_type": "code",
   "execution_count": 20,
   "id": "816de127",
   "metadata": {},
   "outputs": [
    {
     "name": "stdout",
     "output_type": "stream",
     "text": [
      "hello world!\n"
     ]
    }
   ],
   "source": [
    "! zig run /tmp/hello2.zig"
   ]
  },
  {
   "cell_type": "code",
   "execution_count": 21,
   "id": "663f3c9a",
   "metadata": {},
   "outputs": [
    {
     "name": "stdout",
     "output_type": "stream",
     "text": [
      "Writing /tmp/overflow.zig\n"
     ]
    }
   ],
   "source": [
    "%%file /tmp/overflow.zig\n",
    "test \"integer overflow at compile time\" {\n",
    "    const x: u8 = 255;\n",
    "    _ = x + 1;\n",
    "}"
   ]
  },
  {
   "cell_type": "code",
   "execution_count": 22,
   "id": "93173c80",
   "metadata": {},
   "outputs": [
    {
     "name": "stdout",
     "output_type": "stream",
     "text": [
      "  adding: tmp/overflow.zig (deflated 6%)\n"
     ]
    }
   ],
   "source": [
    "! zip test /tmp/overflow.zig"
   ]
  },
  {
   "cell_type": "code",
   "execution_count": 23,
   "id": "5644e0d3",
   "metadata": {},
   "outputs": [
    {
     "name": "stdout",
     "output_type": "stream",
     "text": [
      "Writing /tmp/memoryleak.zig\n"
     ]
    }
   ],
   "source": [
    "%%file /tmp/memoryleak.zig\n",
    "const std = @import(\"std\");\n",
    "\n",
    "pub fn main() !void {\n",
    "    var general_purpose_allocator = std.heap.GeneralPurposeAllocator(.{}){};\n",
    "    defer std.debug.assert(general_purpose_allocator.deinit() == .ok);\n",
    "\n",
    "    const gpa = general_purpose_allocator.allocator();\n",
    "\n",
    "    const u32_ptr = try gpa.create(u32);\n",
    "    _ = u32_ptr; // silences unused variable error\n",
    "\n",
    "    // oops I forgot to free!\n",
    "}"
   ]
  },
  {
   "cell_type": "code",
   "execution_count": 25,
   "id": "bdf49ff9",
   "metadata": {},
   "outputs": [
    {
     "name": "stdout",
     "output_type": "stream",
     "text": [
      "error(gpa): memory address 0x70f8583c0000 leaked: \n",
      "\u001b[1m/tmp/memoryleak.zig:9:35\u001b[0m: \u001b[2m0x113d457 in main (memoryleak.zig)\u001b[0m\n",
      "    const u32_ptr = try gpa.create(u32);\n",
      "                                  \u001b[32m^\u001b[0m\n",
      "\u001b[1m/snap/zig/14958/lib/std/start.zig:627:37\u001b[0m: \u001b[2m0x113dd49 in posixCallMainAndExit (std.zig)\u001b[0m\n",
      "            const result = root.main() catch |err| {\n",
      "                                    \u001b[32m^\u001b[0m\n",
      "\u001b[1m/snap/zig/14958/lib/std/start.zig:232:5\u001b[0m: \u001b[2m0x113d331 in _start (std.zig)\u001b[0m\n",
      "    asm volatile (switch (native_arch) {\n",
      "    \u001b[32m^\u001b[0m\n",
      "\n",
      "thread 146160 panic: reached unreachable code\n",
      "\u001b[1m/snap/zig/14958/lib/std/debug.zig:559:14\u001b[0m: \u001b[2m0x1044179 in assert (std.zig)\u001b[0m\n",
      "    if (!ok) unreachable; // assertion failure\n",
      "             \u001b[32m^\u001b[0m\n",
      "\u001b[1m/tmp/memoryleak.zig:5:27\u001b[0m: \u001b[2m0x113d526 in main (memoryleak.zig)\u001b[0m\n",
      "    defer std.debug.assert(general_purpose_allocator.deinit() == .ok);\n",
      "                          \u001b[32m^\u001b[0m\n",
      "\u001b[1m/snap/zig/14958/lib/std/start.zig:627:37\u001b[0m: \u001b[2m0x113dd49 in posixCallMainAndExit (std.zig)\u001b[0m\n",
      "            const result = root.main() catch |err| {\n",
      "                                    \u001b[32m^\u001b[0m\n",
      "\u001b[1m/snap/zig/14958/lib/std/start.zig:232:5\u001b[0m: \u001b[2m0x113d331 in _start (std.zig)\u001b[0m\n",
      "    asm volatile (switch (native_arch) {\n",
      "    \u001b[32m^\u001b[0m\n",
      "\u001b[1m???:?:?\u001b[0m: \u001b[2m0x0 in ??? (???)\u001b[0m\n"
     ]
    }
   ],
   "source": [
    "! zig run /tmp/memoryleak.zig"
   ]
  },
  {
   "cell_type": "code",
   "execution_count": null,
   "id": "d47d37ab",
   "metadata": {},
   "outputs": [
    {
     "name": "stdout",
     "output_type": "stream",
     "text": [
      "Writing /tmp/raylib.zig\n"
     ]
    }
   ],
   "source": [
    "%%file /tmp/raylib.zig\n",
    "const ray = @cImport({\n",
    "    @cInclude(\"raylib.h\");\n",
    "});\n",
    "\n",
    "pub fn main() void {\n",
    "    const screenWidth = 800;\n",
    "    const screenHeight = 450;\n",
    "\n",
    "    ray.InitWindow(screenWidth, screenHeight, \"raylib [core] example - basic window\");\n",
    "    defer ray.CloseWindow();\n",
    "\n",
    "    ray.SetTargetFPS(60);\n",
    "\n",
    "    while (!ray.WindowShouldClose()) {\n",
    "        ray.BeginDrawing();\n",
    "        defer ray.EndDrawing();\n",
    "\n",
    "        ray.ClearBackground(ray.RAYWHITE);\n",
    "        ray.DrawText(\"Hello, World!\", 190, 200, 20, ray.LIGHTGRAY);\n",
    "    }\n",
    "}"
   ]
  },
  {
   "cell_type": "code",
   "execution_count": 29,
   "id": "df43ec64",
   "metadata": {},
   "outputs": [
    {
     "name": "stdout",
     "output_type": "stream",
     "text": [
      "INFO: Initializing raylib 5.6-dev\n",
      "INFO: Platform backend: DESKTOP (GLFW)\n",
      "INFO: Supported raylib modules:\n",
      "INFO:     > rcore:..... loaded (mandatory)\n",
      "INFO:     > rlgl:...... loaded (mandatory)\n",
      "INFO:     > rshapes:... loaded (optional)\n",
      "INFO:     > rtextures:. loaded (optional)\n",
      "INFO:     > rtext:..... loaded (optional)\n",
      "INFO:     > rmodels:... loaded (optional)\n",
      "INFO:     > raudio:.... loaded (optional)\n",
      "INFO: DISPLAY: Device initialized successfully\n",
      "INFO:     > Display size: 1920 x 1080\n",
      "INFO:     > Screen size:  800 x 450\n",
      "INFO:     > Render size:  800 x 450\n",
      "INFO:     > Viewport offsets: 0, 0\n",
      "INFO: GLAD: OpenGL extensions loaded successfully\n",
      "INFO: GL: Supported extensions count: 238\n",
      "INFO: GL: OpenGL device information:\n",
      "INFO:     > Vendor:   AMD\n",
      "INFO:     > Renderer: AMD Radeon 780M (radeonsi, gfx1103_r1, LLVM 19.1.1, DRM 3.61, 6.14.0-27-generic)\n",
      "INFO:     > Version:  4.6 (Core Profile) Mesa 24.2.8-1ubuntu1~24.04.1\n",
      "INFO:     > GLSL:     4.60\n",
      "INFO: GL: VAO extension detected, VAO functions loaded successfully\n",
      "INFO: GL: NPOT textures extension detected, full NPOT textures supported\n",
      "INFO: GL: DXT compressed textures supported\n",
      "INFO: GL: ETC2/EAC compressed textures supported\n",
      "INFO: PLATFORM: DESKTOP (GLFW - X11): Initialized successfully\n",
      "INFO: TEXTURE: [ID 1] Texture loaded successfully (1x1 | R8G8B8A8 | 1 mipmaps)\n",
      "INFO: TEXTURE: [ID 1] Default texture loaded successfully\n",
      "INFO: SHADER: [ID 1] Vertex shader compiled successfully\n",
      "INFO: SHADER: [ID 2] Fragment shader compiled successfully\n",
      "INFO: SHADER: [ID 3] Program shader loaded successfully\n",
      "INFO: SHADER: [ID 3] Default shader loaded successfully\n",
      "INFO: RLGL: Render batch vertex buffers loaded successfully in RAM (CPU)\n",
      "INFO: RLGL: Render batch vertex buffers loaded successfully in VRAM (GPU)\n",
      "INFO: RLGL: Default OpenGL state initialized successfully\n",
      "INFO: TEXTURE: [ID 2] Texture loaded successfully (128x128 | GRAY_ALPHA | 1 mipmaps)\n",
      "INFO: FONT: Default font loaded successfully (224 glyphs)\n",
      "INFO: SYSTEM: Working Directory: /home/philip/philzook58.github.io/_drafts\n",
      "INFO: TIMER: Target time per frame: 16.667 milliseconds\n",
      "INFO: TEXTURE: [ID 2] Unloaded texture data from VRAM (GPU)\n",
      "INFO: SHADER: [ID 3] Default shader unloaded successfully\n",
      "INFO: TEXTURE: [ID 1] Default texture unloaded successfully\n",
      "INFO: Window closed successfully\n"
     ]
    }
   ],
   "source": [
    "! zig run /tmp/raylib.zig -lc -lraylib"
   ]
  },
  {
   "cell_type": "code",
   "execution_count": 17,
   "id": "5cd10950",
   "metadata": {},
   "outputs": [
    {
     "name": "stdout",
     "output_type": "stream",
     "text": [
      "Overwriting /tmp/z3.zig\n"
     ]
    }
   ],
   "source": [
    "%%file /tmp/z3.zig\n",
    "\n",
    "const std = @import(\"std\");\n",
    "const z3 = @cImport({\n",
    "    @cInclude(\"z3.h\");\n",
    "});\n",
    "\n",
    "pub fn main() !void {\n",
    "    const ctx = z3.Z3_mk_context(null);\n",
    "    const solver = z3.Z3_mk_solver(ctx);\n",
    "    const xsym = z3.Z3_mk_string_symbol(ctx, \"x\");\n",
    "    const ysym = z3.Z3_mk_string_symbol(ctx, \"y\");\n",
    "    const intsort = z3.Z3_mk_int_sort(ctx);\n",
    "    const x = z3.Z3_mk_const(ctx, xsym, intsort);\n",
    "    const y = z3.Z3_mk_const(ctx, ysym, intsort);\n",
    "    const constraint = z3.Z3_mk_eq(ctx, x, y);\n",
    "    z3.Z3_solver_assert(ctx, solver, constraint);\n",
    "    const result = z3.Z3_solver_check(ctx, solver);\n",
    "    if (result == z3.Z3_L_TRUE) {\n",
    "        std.debug.print(\"Satisfiable\\n\", .{});\n",
    "    } else {\n",
    "        std.debug.print(\"Unsatisfiable\\n\", .{});\n",
    "    }\n",
    "}\n"
   ]
  },
  {
   "cell_type": "code",
   "execution_count": 19,
   "id": "efdf148f",
   "metadata": {},
   "outputs": [
    {
     "name": "stdout",
     "output_type": "stream",
     "text": [
      "Satisfiable\n"
     ]
    }
   ],
   "source": [
    "! zig run /tmp/z3.zig -lc -lz3"
   ]
  },
  {
   "cell_type": "code",
   "execution_count": 30,
   "id": "3566d4ef",
   "metadata": {},
   "outputs": [
    {
     "name": "stdout",
     "output_type": "stream",
     "text": [
      "Writing /tmp/leantest.lean\n"
     ]
    }
   ],
   "source": [
    "%%file /tmp/leantest.lean\n",
    "\n",
    "@[export myadd]\n",
    "def myadd (x y : UInt64) : UInt64 := x + y"
   ]
  },
  {
   "cell_type": "markdown",
   "id": "d018003e",
   "metadata": {},
   "source": []
  },
  {
   "cell_type": "code",
   "execution_count": 31,
   "id": "88b50d4a",
   "metadata": {},
   "outputs": [],
   "source": [
    "! lean -c /tmp/myadd.c /tmp/leantest.lean"
   ]
  },
  {
   "cell_type": "code",
   "execution_count": 44,
   "id": "16d2fba3",
   "metadata": {},
   "outputs": [
    {
     "name": "stdout",
     "output_type": "stream",
     "text": [
      "Overwriting /tmp/lean.zig\n"
     ]
    }
   ],
   "source": [
    "%%file /tmp/lean.zig\n",
    "const std = @import(\"std\");\n",
    "const lean = @cImport({\n",
    "    @cInclude(\"lean/lean.h\");\n",
    "});\n",
    "//const leantest = @cImport({\n",
    "//    @cInclude(\"/tmp/myadd.c\");\n",
    "//});\n",
    "\n",
    "pub fn main() !void {\n",
    "    lean.lean_initialize();\n",
    "    defer lean.lean_finalize();\n",
    "    //const x: u64 = 3;\n",
    "    //const y: u64 = 4;\n",
    "    //const result = leantest.myadd(x, y);\n",
    "    //std.debug.print(\"myadd({},{}) = {}\\n\", .{x, y, result});\n",
    "}   "
   ]
  },
  {
   "cell_type": "code",
   "execution_count": 45,
   "id": "a30f8a3e",
   "metadata": {},
   "outputs": [
    {
     "name": "stdout",
     "output_type": "stream",
     "text": [
      "\u001b[?2026h\u001b[J[49/1200] Linking\n",
      "[1505] Semantic Analysis\n",
      "\u001b(0mq\u001b(B Io.Writer.print__anon_3010\n",
      "[42/119] Code Generation\n",
      "\u001bM\u001bM\u001bM\u001bM\u001b[?2026l\u001b[?2026h\u001b[J[270/2998] Linking\n",
      "\u001b(0mq\u001b(B debug.Dwarf.LineNumberProgram.addRow\n",
      "[3811] Semantic Analysis\n",
      "\u001b(0mq\u001b(B heap.arena_allocator.ArenaAllocator.allo\n",
      "[305/447] Code Generation\n",
      "\u001bM\u001bM\u001bM\u001bM\u001bM\u001b[?2026l\u001b[?2026h\u001b[J[738/4208] Linking\n",
      "\u001b(0mq\u001b(B posix.getenvZ\n",
      "[5145] Semantic Analysis\n",
      "\u001b(0mq\u001b(B array_hash_map.ArrayHashMapUnmanaged(u64\n",
      "[900/957] Code Generation\n",
      "\u001bM\u001bM\u001bM\u001bM\u001bM\u001b[?2026l\u001b[?2026h\u001b[J[4510/4824] Linking\n",
      "\u001b(0mq\u001b(B os.windows.TEB\n",
      "\u001bM\u001bM\u001b[?2026l\u001b[J\u001b]9;4;0\u0007\u001b[1m/tmp/lean.zig:10:9: \u001b[31merror: \u001b[0m\u001b[1mroot source file struct 'cimport' has no member named 'lean_initialize'\n",
      "\u001b[0m    lean.lean_initialize();\n",
      "    \u001b[32m~~~~^~~~~~~~~~~~~~~~\n",
      "\u001b[0m\u001b[1m/home/philip/.cache/zig/o/fb5ee03badfa89d213f1780069b63ab0/cimport.zig:1:1: \u001b[36mnote: \u001b[0m\u001b[1mstruct declared here\n",
      "\u001b[0mpub const __builtin_bswap16 = @import(\"std\").zig.c_builtins.__builtin_bswap16;\n",
      "\u001b[32m^~~\n",
      "\u001b[0m\u001b[0m\u001b[2mreferenced by:\n",
      "    callMain [inlined]: /snap/zig/14958/lib/std/start.zig:627:37\n",
      "    callMainWithArgs [inlined]: /snap/zig/14958/lib/std/start.zig:587:20\n",
      "    main: /snap/zig/14958/lib/std/start.zig:602:28\n",
      "    1 reference(s) hidden; use '-freference-trace=4' to see all references\n",
      "\u001b[0m"
     ]
    }
   ],
   "source": [
    "! zig run /tmp/lean.zig -lc -I$(lean --print-prefix)/include -L$(lean --print-libdir) -lleanshared -lleanshared_1"
   ]
  },
  {
   "cell_type": "markdown",
   "id": "9f279ca1",
   "metadata": {},
   "source": [
    "D? https://news.ycombinator.com/item?id=43744591\n",
    "Man I dunno, somehow \n",
    "\n",
    "https://github.com/PiIsRational/zat sat solver\n",
    "\n",
    "https://www.openmymind.net/Zig-Interfaces/"
   ]
  },
  {
   "cell_type": "code",
   "execution_count": null,
   "id": "5185baeb",
   "metadata": {},
   "outputs": [],
   "source": []
  },
  {
   "cell_type": "code",
   "execution_count": null,
   "id": "385b9fe8",
   "metadata": {},
   "outputs": [],
   "source": []
  },
  {
   "cell_type": "markdown",
   "id": "1e50750a",
   "metadata": {},
   "source": [
    "https://github.com/githwxi/ATS-Postiats\n",
    "go\n",
    "nim\n",
    "crystal\n",
    "ada\n",
    "common lisp\n",
    "\n",
    "hare\n",
    "gleam https://github.com/gleam-lang/gleam erlang variant\n",
    "odin https://odin-lang.org/\n",
    "\n",
    "verse\n",
    "mojo \n",
    "\n",
    "ispc https://pharr.org/matt/blog/2018/04/18/ispc-origins\n",
    "\n",
    "https://vine.dev/docs/  interaction nets\n",
    "\n",
    "roc https://www.roc-lang.org/\n",
    "neut https://vekatze.github.io/neut/overview.html\n",
    "\n",
    "june https://github.com/sophiajt/june/tree/main\n",
    "MaPLe https://github.com/MPLLang/mpl https://www.cs.cmu.edu/~swestric/24/popl24-par-manage.pdf\n",
    "\n",
    "hazel https://arxiv.org/abs/2212.06321 Data Layout from a Type-Theoretic Perspective https://hazel.org/\n",
    "jai\n",
    "c3 https://github.com/c3lang/c3c\n",
    "\n",
    "https://nova-lang.net/  more of a rule DSL\n",
    "https://cuelang.org/ configruation and schema\n",
    "\n",
    "carbon - next gen c++\n",
    "koka\n",
    "https://vale.dev/  probably dead\n",
    "\n",
    "unison\n",
    "\n",
    "\n",
    "better bash\n",
    "https://oils.pub/\n",
    "https://bpp.sh/\n",
    "\n",
    "https://www.uiua.org/\n",
    "https://mlochbaum.github.io/BQN/\n",
    "\n",
    "https://www.hylo-lang.org/\n",
    "\n",
    "https://bsky.app/profile/steveklabnik.com/post/3lj3perkaws2x klabnik asking\n",
    "\n",
    "https://github.com/ChessMax/awesome-programming-languages"
   ]
  }
 ],
 "metadata": {
  "kernelspec": {
   "display_name": "philzook58.github.io",
   "language": "python",
   "name": "python3"
  },
  "language_info": {
   "codemirror_mode": {
    "name": "ipython",
    "version": 3
   },
   "file_extension": ".py",
   "mimetype": "text/x-python",
   "name": "python",
   "nbconvert_exporter": "python",
   "pygments_lexer": "ipython3",
   "version": "3.12.3"
  }
 },
 "nbformat": 4,
 "nbformat_minor": 5
}
