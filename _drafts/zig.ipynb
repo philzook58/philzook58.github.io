{
 "cells": [
  {
   "cell_type": "markdown",
   "id": "e3f44d19",
   "metadata": {},
   "source": [
    "\n",
    "<https://blog.logrocket.com/getting-started-zig-programming-language/>\n",
    "`snap install zig --classic --beta`\n",
    "\n",
    "`zig init-exe`\n",
    "`zig translate-c`\n",
    "\n",
    "```zig\n",
    "//re\n",
    "const std = @import(\"std\");\n",
    "\n",
    "pub fn main() void {\n",
    "    std.debug.print(\"Hello Zig!\\n\", .{});\n",
    "    std.debug.print(\"Hello {}\\n\", .{2023}); // Hello 2023\n",
    "    std.debug.print(\"Hello {s}! {d}\\n\", .{\"Zig\", 2023}); // Hello Zig! 2023\n",
    "\n",
    "    var x: i8 = -100;     // Signed 8-bit integer\n",
    "    var y: u8 = 120;      // Unsigned 8-bit integer\n",
    "    var z: f32 = 100.324; // 32-bit floating point\n",
    "\n",
    "    std.debug.print(\"x={}\\n\", .{x});        // x=-100\n",
    "    std.debug.print(\"y={}\\n\", .{y});        // y=120\n",
    "    std.debug.print(\"z={d:3.2}\\n\", .{z});   // z=100.32\n",
    "    \n",
    "    const LogType = enum {\n",
    "        info,\n",
    "        err,\n",
    "        warn\n",
    "    };\n",
    "\n",
    "    const ltInfo = LogType.info;\n",
    "    const ltErr = LogType.err;\n",
    "\n",
    "    std.debug.print(\"{}\\n\", .{ltInfo}); // main.main.LogType.info\n",
    "    std.debug.print(\"{}\\n\", .{ltErr});  // main.main.LogType.err\n",
    "\n",
    "}\n",
    "fn add(a: i8, b: i8) i8 {\n",
    "    return a + b;\n",
    "}\n",
    "```\n",
    "\n",
    "zigzap/zap: A micro-framework for building web backends\n",
    "JakubSzark/zig-string: A string library for Zig\n",
    "kooparse/zalgebra: Linear algebra library for games and real-time graphics\n",
    "zigimg/zigimg: Zig library for reading and writing different image formats\n",
    "ziglibs/ini: A simple INI parser for Zig\n",
    "\n",
    "<https://github.com/C-BJ/awesome-zig>\n",
    "\n",
    "Good C interop supposedly. Such that you don't really need to write bindings?\n",
    "`c_int`\n",
    "\n",
    "No libc by default but easy to add in\n",
    "\n",
    "```zig\n",
    "\n",
    "```\n",
    "\n",
    "ReleaseSafe mode detects undefined behavior.\n",
    "\n",
    "# Comptime\n",
    "\n",
    "Cool oppurtunirty for some staged metapgoramming stuff right?\n",
    "Like KMP, parsers, etc\n",
    "Generics are calculated types which feels a bit mindblowing (?)\n",
    "Maybe that is'nt that crazy from system f perspective\n",
    "\n",
    "# Allocators\n"
   ]
  },
  {
   "cell_type": "code",
   "execution_count": 8,
   "id": "4efc4f10",
   "metadata": {},
   "outputs": [
    {
     "name": "stdout",
     "output_type": "stream",
     "text": [
      "Usage: zig [command] [options]\n",
      "\n",
      "Commands:\n",
      "\n",
      "  build            Build project from build.zig\n",
      "  fetch            Copy a package into global cache and print its hash\n",
      "  init             Initialize a Zig package in the current directory\n",
      "\n",
      "  build-exe        Create executable from source or object files\n",
      "  build-lib        Create library from source or object files\n",
      "  build-obj        Create object from source or object files\n",
      "  test             Perform unit testing\n",
      "  run              Create executable and run immediately\n",
      "\n",
      "  ast-check        Look for simple compile errors in any set of files\n",
      "  fmt              Reformat Zig source into canonical form\n",
      "  reduce           Minimize a bug report\n",
      "  translate-c      Convert C code to Zig code\n",
      "\n",
      "  ar               Use Zig as a drop-in archiver\n",
      "  cc               Use Zig as a drop-in C compiler\n",
      "  c++              Use Zig as a drop-in C++ compiler\n",
      "  dlltool          Use Zig as a drop-in dlltool.exe\n",
      "  lib              Use Zig as a drop-in lib.exe\n",
      "  ranlib           Use Zig as a drop-in ranlib\n",
      "  objcopy          Use Zig as a drop-in objcopy\n",
      "  rc               Use Zig as a drop-in rc.exe\n",
      "\n",
      "  env              Print lib path, std path, cache directory, and version\n",
      "  help             Print this help and exit\n",
      "  std              View standard library documentation in a browser\n",
      "  libc             Display native libc paths file or validate one\n",
      "  targets          List available compilation targets\n",
      "  version          Print version number and exit\n",
      "  zen              Print Zen of Zig and exit\n",
      "\n",
      "General Options:\n",
      "\n",
      "  -h, --help       Print command-specific usage\n"
     ]
    }
   ],
   "source": [
    "! zig help"
   ]
  },
  {
   "cell_type": "code",
   "execution_count": 1,
   "id": "6692d8f2",
   "metadata": {},
   "outputs": [
    {
     "name": "stdout",
     "output_type": "stream",
     "text": [
      "Writing /tmp/hello.zig\n"
     ]
    }
   ],
   "source": [
    "%%file /tmp/hello.zig\n",
    "\n",
    "const std = @import(\"std\");\n",
    "\n",
    "pub fn main() !void {\n",
    "    std.debug.print(\"Hello World!\\n\", .{});\n",
    "}"
   ]
  },
  {
   "cell_type": "code",
   "execution_count": 7,
   "id": "74906b2a",
   "metadata": {},
   "outputs": [
    {
     "name": "stdout",
     "output_type": "stream",
     "text": [
      "\u001b[?2026h\u001b[J[2460] Semantic Analysis\n",
      "\u001b(0mq\u001b(B fmt.format__anon_11890\n",
      "[334] Code Generation\n",
      "\u001bM\u001bM\u001bM\u001b[?2026l\u001b[?2026h\u001b[J[3261] Semantic Analysis\n",
      "[597] Code Generation\n",
      "\u001b(0mq\u001b(B posix.dl_iterate_phdr__anon_14353\n",
      "\u001bM\u001bM\u001bM\u001b[?2026l\u001b[?2026h\u001b[J[3948] Semantic Analysis\n",
      "[1085] Code Generation\n",
      "\u001b(0mq\u001b(B array_list.ArrayListAlignedUnmanaged(deb\n",
      "\u001bM\u001bM\u001bM\u001b[?2026l\u001b[?2026h\u001b[JLLVM Emit Object\n",
      "\u001bM\u001b[?2026l\u001b[?2026h\u001b[JLLVM Emit Object\n",
      "\u001bM\u001b[?2026l\u001b[?2026h\u001b[JLLVM Emit Object\n",
      "\u001bM\u001b[?2026l\u001b[?2026h\u001b[JLLVM Emit Object\n",
      "\u001bM\u001b[?2026l\u001b[?2026h\u001b[JLLVM Emit Object\n",
      "\u001bM\u001b[?2026l\u001b[?2026h\u001b[JLLVM Emit Object\n",
      "\u001bM\u001b[?2026l\u001b[?2026h\u001b[JLLVM Emit Object\n",
      "\u001bM\u001b[?2026l\u001b[?2026h\u001b[JLLVM Emit Object\n",
      "\u001bM\u001b[?2026l\u001b[?2026h\u001b[JLLVM Emit Object\n",
      "\u001bM\u001b[?2026l\u001b[?2026h\u001b[JLLVM Emit Object\n",
      "\u001bM\u001b[?2026l\u001b[?2026h\u001b[JLLVM Emit Object\n",
      "\u001bM\u001b[?2026l\u001b[?2026h\u001b[JLLVM Emit Object\n",
      "\u001bM\u001b[?2026l\u001b[?2026h\u001b[JLLVM Emit Object\n",
      "\u001bM\u001b[?2026l\u001b[?2026h\u001b[JLLVM Emit Object\n",
      "\u001bM\u001b[?2026l\u001b[JHello World!\n"
     ]
    }
   ],
   "source": [
    "! zig run /tmp/hello.zig "
   ]
  },
  {
   "cell_type": "code",
   "execution_count": 3,
   "id": "663f3c9a",
   "metadata": {},
   "outputs": [
    {
     "name": "stdout",
     "output_type": "stream",
     "text": [
      "Writing /tmp/overflow.zig\n"
     ]
    }
   ],
   "source": [
    "%%file /tmp/overflow.zig\n",
    "test \"integer overflow at compile time\" {\n",
    "    const x: u8 = 255;\n",
    "    _ = x + 1;\n",
    "}"
   ]
  },
  {
   "cell_type": "code",
   "execution_count": 4,
   "id": "93173c80",
   "metadata": {},
   "outputs": [
    {
     "name": "stdout",
     "output_type": "stream",
     "text": [
      "  adding: tmp/overflow.zig (deflated 6%)\n"
     ]
    }
   ],
   "source": [
    "! zip test /tmp/overflow.zig"
   ]
  },
  {
   "cell_type": "code",
   "execution_count": 14,
   "id": "5cd10950",
   "metadata": {},
   "outputs": [
    {
     "name": "stdout",
     "output_type": "stream",
     "text": [
      "Overwriting /tmp/z3.zig\n"
     ]
    }
   ],
   "source": [
    "%%file /tmp/z3.zig\n",
    "\n",
    "const std = @import(\"std\");\n",
    "const z3 = @cImport({\n",
    "    @cInclude(\"z3.h\");\n",
    "});\n",
    "\n",
    "pub fn main() !void {\n",
    "    const ctx = z3.Z3_mk_context(null);\n",
    "    const solver = z3.Z3_mk_solver(ctx);\n",
    "    const x = z3.Z3_mk_int_const(ctx, \"x\");\n",
    "    const y = z3.Z3_mk_int_const(ctx, \"y\");\n",
    "    const constraint = z3.Z3_mk_eq(ctx, x, y);\n",
    "    z3.Z3_solver_assert(solver, constraint);\n",
    "    const result = z3.Z3_solver_check(solver);\n",
    "    if (result == z3.Z3_L_TRUE) {\n",
    "        std.debug.print(\"Satisfiable\\n\", .{});\n",
    "    } else {\n",
    "        std.debug.print(\"Unsatisfiable\\n\", .{});\n",
    "    }\n",
    "}\n"
   ]
  },
  {
   "cell_type": "code",
   "execution_count": 15,
   "id": "efdf148f",
   "metadata": {},
   "outputs": [
    {
     "name": "stdout",
     "output_type": "stream",
     "text": [
      "\u001b[?2026h\u001b[J[1847] Semantic Analysis\n",
      "\u001b(0mq\u001b(B fmt.format__anon_9327\n",
      "[227] Code Generation\n",
      "\u001bM\u001bM\u001bM\u001b[?2026l\u001b[?2026h\u001b[J[2658] Semantic Analysis\n",
      "\u001b(0tq\u001b(B io.counting_writer.CountingWriter(io.Gen\n",
      "\u001b(0tq\u001b(B io.counting_writer.CountingWriter(io.Gen\n",
      "\u001b(0tq\u001b(B fmt.count__anon_12860\n",
      "\u001b(0mq\u001b(B io.counting_writer.CountingWriter(io.Gen\n",
      "[413] Code Generation\n",
      "\u001bM\u001bM\u001bM\u001bM\u001bM\u001bM\u001b[?2026l\u001b[?2026h\u001b[J[3450] Semantic Analysis\n",
      "\u001b(0tq\u001b(B compress.flate.Token.match_distances\n",
      "\u001b(0mq\u001b(B compress.flate.Token.matchDistance\n",
      "[703] Code Generation\n",
      "\u001bM\u001bM\u001bM\u001bM\u001b[?2026l\u001b[?2026h\u001b[J[4043] Semantic Analysis\n",
      "\u001b(0mq\u001b(B Target.x86.cpu.znver4\n",
      "[1175] Code Generation\n",
      "\u001bM\u001bM\u001bM\u001b[?2026l\u001b[J\u001b[1m/tmp/z3.zig:10:17: \u001b[31merror: \u001b[0m\u001b[1mroot source file struct 'cimport' has no member named 'Z3_mk_int_const'\n",
      "\u001b[0m    const x = z3.Z3_mk_int_const(ctx, \"x\");\n",
      "              \u001b[32m~~^~~~~~~~~~~~~~~~\n",
      "\u001b[0m\u001b[1m/home/philip/.cache/zig/o/855aa6701d936e1ffd9ba4a69ecf18a9/cimport.zig:1:1: \u001b[36mnote: \u001b[0m\u001b[1mstruct declared here\n",
      "\u001b[0mpub const __builtin_bswap16 = @import(\"std\").zig.c_builtins.__builtin_bswap16;\n",
      "\u001b[32m^~~\n",
      "\u001b[0m\u001b[0m\u001b[2mreferenced by:\n",
      "    main: /snap/zig/14179/lib/std/start.zig:671:37\n",
      "    comptime: /snap/zig/14179/lib/std/start.zig:58:30\n",
      "    2 reference(s) hidden; use '-freference-trace=4' to see all references\n",
      "\u001b[0m"
     ]
    }
   ],
   "source": [
    "! zig run /tmp/z3.zig -lc -lz3"
   ]
  },
  {
   "cell_type": "markdown",
   "id": "9f279ca1",
   "metadata": {},
   "source": [
    "D? https://news.ycombinator.com/item?id=43744591\n",
    "Man I dunno, somehow \n",
    "\n",
    "https://github.com/PiIsRational/zat sat solver\n",
    "\n",
    "https://www.openmymind.net/Zig-Interfaces/"
   ]
  },
  {
   "cell_type": "code",
   "execution_count": null,
   "id": "385b9fe8",
   "metadata": {},
   "outputs": [],
   "source": []
  },
  {
   "cell_type": "markdown",
   "id": "1e50750a",
   "metadata": {},
   "source": [
    "https://github.com/githwxi/ATS-Postiats\n",
    "go\n",
    "nim\n",
    "crystal\n",
    "ada\n",
    "common lisp\n",
    "\n",
    "hare\n",
    "gleam https://github.com/gleam-lang/gleam erlang variant\n",
    "odin https://odin-lang.org/\n",
    "\n",
    "verse\n",
    "mojo \n",
    "\n",
    "ispc https://pharr.org/matt/blog/2018/04/18/ispc-origins\n",
    "\n",
    "https://vine.dev/docs/  interaction nets\n",
    "\n",
    "roc https://www.roc-lang.org/\n",
    "neut https://vekatze.github.io/neut/overview.html\n",
    "\n",
    "june https://github.com/sophiajt/june/tree/main\n",
    "MaPLe https://github.com/MPLLang/mpl https://www.cs.cmu.edu/~swestric/24/popl24-par-manage.pdf\n",
    "\n",
    "hazel https://arxiv.org/abs/2212.06321 Data Layout from a Type-Theoretic Perspective https://hazel.org/\n",
    "jai\n",
    "c3 https://github.com/c3lang/c3c\n",
    "\n",
    "https://nova-lang.net/  more of a rule DSL\n",
    "https://cuelang.org/ configruation and schema\n",
    "\n",
    "carbon - next gen c++\n",
    "koka\n",
    "https://vale.dev/  probably dead\n",
    "\n",
    "unison\n",
    "\n",
    "\n",
    "better bash\n",
    "https://oils.pub/\n",
    "https://bpp.sh/\n",
    "\n",
    "https://www.uiua.org/\n",
    "https://mlochbaum.github.io/BQN/\n",
    "\n",
    "https://www.hylo-lang.org/\n",
    "\n",
    "https://bsky.app/profile/steveklabnik.com/post/3lj3perkaws2x klabnik asking\n",
    "\n",
    "https://github.com/ChessMax/awesome-programming-languages"
   ]
  }
 ],
 "metadata": {
  "kernelspec": {
   "display_name": ".venv",
   "language": "python",
   "name": "python3"
  },
  "language_info": {
   "codemirror_mode": {
    "name": "ipython",
    "version": 3
   },
   "file_extension": ".py",
   "mimetype": "text/x-python",
   "name": "python",
   "nbconvert_exporter": "python",
   "pygments_lexer": "ipython3",
   "version": "3.12.3"
  }
 },
 "nbformat": 4,
 "nbformat_minor": 5
}
