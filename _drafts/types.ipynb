{
 "cells": [
  {
   "cell_type": "markdown",
   "metadata": {},
   "source": [
    "LF\n",
    "\n"
   ]
  },
  {
   "cell_type": "markdown",
   "metadata": {},
   "source": [
    "# NBE\n",
    "I feel like I must have  some notes somewhere\n",
    "\n",
    "\n",
    "nbe of z3 expressions\n",
    "\n",
    "https://www.andres-loeh.de/LambdaPi/ A Tutorial Implementation of a Dependently Typed Lambda Calculus \n",
    "https://github.com/AndrasKovacs/elaboration-zoo \n",
    "https://github.com/andrejbauer/spartan-type-theory\n",
    "\n",
    "That jon sterling tutorial\n",
    "\n",
    "https://proofassistants.stackexchange.com/questions/4336/toy-proof-assistants-with-very-small-codebases\n",
    "\n",
    "def nbe(e : ExprRef):\n",
    "    s = e.sort()\n",
    "\n",
    "normalization by evaluation of arith expressions.\n",
    "Easy.\n",
    "\n",
    "nbe of monoids\n",
    "\n",
    "nbe vs partial eval...\n",
    "\n",
    "\n",
    "yoneda\n",
    "\n",
    "Krivine machine. Closures.\n",
    "\n"
   ]
  },
  {
   "cell_type": "markdown",
   "metadata": {},
   "source": [
    "# types"
   ]
  },
  {
   "cell_type": "code",
   "execution_count": null,
   "metadata": {},
   "outputs": [],
   "source": [
    "import z3\n",
    "TYPE = z3.DeclareSort(\"TYPE\")\n",
    "TERM = z3.DeclareSort(\"TERM\")\n",
    "\n",
    "def check(ctx, term,typ):\n",
    "    is_app()"
   ]
  },
  {
   "cell_type": "code",
   "execution_count": null,
   "metadata": {},
   "outputs": [],
   "source": []
  },
  {
   "cell_type": "code",
   "execution_count": 12,
   "metadata": {},
   "outputs": [],
   "source": [
    "from typing import Literal\n",
    "from typing import Callable\n",
    "\"\"\"\n",
    "def C(tag, *args):\n",
    "    return tuple[Literal(tag), *args]\n",
    "\n",
    "type L[A] = Literal[A] # not allowed\n",
    "type app = Literal[\"app\"]\n",
    "type Arr[A,B] = Callable[[A],B]\n",
    "type typ = C[\"arr\", typ, typ] | C(\"unit\")\n",
    "type term = C[App, term, term] | C[\"lam\", term] | C[\"var\", int]\n",
    "\"\"\"\n",
    "# This is about as short as I can go. The system doesn't enable abstraction over types. it's pretty rigid\n",
    "\n",
    "type term = tuple[Literal[\"app\"], term, term] | \\\n",
    "            tuple[Literal[\"lam\"], term] | \\\n",
    "            tuple[Literal[\"var\"], int]\n",
    "\n",
    "type typ = tuple[Literal[\"arr\"], typ, typ] | \\\n",
    "           tuple[Literal[\"unit\"]]\n",
    "\n",
    "def pprint(t : term) -> str:\n",
    "    match t:\n",
    "        case (\"barf\",):\n",
    "            return \"barf\"\n",
    "        case (\"app\", f, x):\n",
    "            return f\"{pprint(f)} {pprint(x)}\"\n",
    "        case (\"lam\", x):\n",
    "            return f\"λ{pprint(x)}\"\n",
    "        #case (\"var\", x):\n",
    "        #    return f\"x{x}\"\n",
    "\n",
    "def poo(x : int) -> term:\n",
    "    return x\n",
    "\n"
   ]
  },
  {
   "cell_type": "code",
   "execution_count": 14,
   "metadata": {},
   "outputs": [],
   "source": [
    "type aexpr = tuple[Literal[\"var\"], str] | \\\n",
    "             tuple[Literal[\"lit\"], int] | \\\n",
    "             tuple[Literal[\"add\"], aexpr, aexpr]\n",
    "\n",
    "def eval(e : aexpr, env : dict[str,int]) -> int:\n",
    "    match e:\n",
    "        case (\"var\", x):\n",
    "            return env[x]\n",
    "        case (\"lit\", x):\n",
    "            return x\n",
    "        case (\"add\", x, y):\n",
    "            return eval(x, env) + eval(y, env)\n",
    "\n",
    "assert eval((\"add\", (\"lit\", 1), (\"var\", \"x\")), {\"x\" : 2}) == 3"
   ]
  },
  {
   "cell_type": "code",
   "execution_count": null,
   "metadata": {},
   "outputs": [],
   "source": [
    "import lark\n"
   ]
  },
  {
   "cell_type": "markdown",
   "metadata": {},
   "source": [
    "\n",
    "[](old/2024-07/typecheck_pcode_DATALLLLLLLLLLOG.IPYNB)\n",
    "\n",
    "\n",
    "System F\n",
    "\n",
    "types\n",
    "\n",
    "Programming in Martin Lof type theory\n",
    "\n",
    "HOTT - john sterling stuff\n",
    "\n",
    "\n",
    " \n",
    "\n",
    "\n",
    "\n"
   ]
  },
  {
   "cell_type": "code",
   "execution_count": 4,
   "metadata": {},
   "outputs": [],
   "source": [
    "type Foo[A] = tuple[A,A]"
   ]
  }
 ],
 "metadata": {
  "kernelspec": {
   "display_name": "sage",
   "language": "python",
   "name": "python3"
  },
  "language_info": {
   "codemirror_mode": {
    "name": "ipython",
    "version": 3
   },
   "file_extension": ".py",
   "mimetype": "text/x-python",
   "name": "python",
   "nbconvert_exporter": "python",
   "pygments_lexer": "ipython3",
   "version": "3.12.4"
  }
 },
 "nbformat": 4,
 "nbformat_minor": 2
}
