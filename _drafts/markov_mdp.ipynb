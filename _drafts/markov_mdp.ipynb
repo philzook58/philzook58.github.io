{
 "cells": [
  {
   "cell_type": "markdown",
   "metadata": {},
   "source": [
    "I was thinking about markov decision processes while playing that cat game\n",
    "\n",
    "Would be fun to open this up again\n",
    "\n",
    "open games\n",
    "\n",
    "give declan a good fucking\n",
    "\n"
   ]
  },
  {
   "cell_type": "markdown",
   "metadata": {},
   "source": [
    "Kalman filtering\n",
    "LQR\n",
    "\n",
    "\n"
   ]
  }
 ],
 "metadata": {
  "language_info": {
   "name": "python"
  }
 },
 "nbformat": 4,
 "nbformat_minor": 2
}
