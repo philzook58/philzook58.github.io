{
 "cells": [
  {
   "cell_type": "code",
   "execution_count": null,
   "metadata": {
    "vscode": {
     "languageId": "plaintext"
    }
   },
   "outputs": [],
   "source": []
  },
  {
   "cell_type": "markdown",
   "metadata": {},
   "source": [
    "Threads:\n",
    "\n",
    "https://www.cs.bu.edu/fac/snyder/publications/UnifChapter.pdf chapter from handbook\n",
    "huh. wayne snyder is in boston\n",
    "[Jouannaud and Kirchner 1991, \n",
    "Baader and Siekmann 1994 https://dl.acm.org/doi/abs/10.5555/185705.185711\n",
    "\n",
    "approximate unification - we can minsat the multiequations. Or consider Least squares solutions as an anlogy. Put some kind of metric on how badly an equation is viotlated rather that descirtee 0 1. maybe go neural. neural logic pgroamming. neural unification\n",
    "\n",
    "\n",
    "Bottom up eunification - Guess over a database what you'll unify on.\n",
    "\n",
    "E-unification and narrowing\n",
    "HO pattern unify\n",
    "Full HO unify\n",
    "\n",
    "I've said that higher order != has syntactic lambdas. Higher order unification could maybe seen as E-unify modulo combinator equations?\n",
    "\n",
    "Unification modulo egraphs\n",
    "\n",
    "\n",
    "boolean unification\n",
    "\n",
    "Rational tree unification. Non well founded equations. Rationals themselves as coalgebra?\n",
    "\n",
    "most general unifier as a greatest fixed point? Greatest something.\n",
    "\n",
    "Categorical perspectives on substitutions.\n",
    "Arrows. sure. between what? Variable sets? Term sets? Something else?\n",
    "\n",
    "\n",
    "Guassian elimination means two things.\n",
    "Add rows. - This is more like knuth bendix. ForAll uvars and bottom up, forward chaining\n",
    "isolate variable and subst. More like unify. Exists uvars and top down, back chaining\n",
    "\n",
    "\n",
    "equation breakdown. We could keep the old equations in a saturation process.\n",
    "sin(x) = y --> x = arcsin(y)\n",
    "\n",
    "\n",
    "\n",
    "Unify with branching as clauses?\n",
    "\n",
    "\n",
    "https://www.cs.cmu.edu/Groups/fox/people/fp/papers/ppcp93.pdf  Higher-Order Logic Programming as Constraint Logic Programming\n",
    "flex flex pairs as constraints\n",
    "\n",
    "\n",
    "e-unify via ATP\n",
    "factoring rules do the analog of solving unification (?) in a prolog\n",
    "```\n",
    "cnf(axiom, plus(X,Y) = plus(Y,X)). % The E-ness\n",
    "cnf(conjecture, ~(f(X) = g(Y))).\n",
    "```\n",
    "\n",
    "ATP already unifies E-unification with knuth bendix\n",
    "facotring rules\n",
    "```\n",
    "t != s | u = v\n",
    "----------------\n",
    "   s[u] = s[v]\n",
    "\n",
    "```\n",
    "\n",
    "\n",
    "Traat chapter uses something akin to multiset knuth bendix for Ac-unify\n",
    "\n",
    "higher order unification vs higher order atp vs lambda prolog\n",
    "\n",
    "\n",
    "As awlays \n",
    "\n",
    "\n",
    "I was suggesting in co-egraphs\n",
    "\n",
    "unification modulo derivatives?\n",
    "That plotkin thing\n",
    "integrals?\n",
    "trig?\n",
    "\n",
    "\n"
   ]
  },
  {
   "cell_type": "code",
   "execution_count": null,
   "metadata": {
    "vscode": {
     "languageId": "plaintext"
    }
   },
   "outputs": [],
   "source": [
    "def comm_unify(vs,t1, t2):\n",
    "    # todo quee is not in DNF. An and of ors...\n",
    "    # Hmm. Not sufficient.\n",
    "    # ok so an or of and ands\n",
    "    todo = [[(t1,t2)]]\n",
    "    if is_add(t):\n",
    "        if is_add(s):\n",
    "            if len(t.children()) = len(s.children())\n",
    "                # The chilrren choices are correlated here.\n",
    "                # ok, so we do need to\n",
    "                # probably here we should delay this unification as long as possible\n",
    "                todo = [todo.copy() + [(t[i], s[perm[i]])  for i in range(n) ] for perm in permutations(n)]\n",
    "                \n",
    "\n",
    "\n",
    "# unification arranged as a given clause algorithm\n",
    "def given_clause_unify():\n"
   ]
  },
  {
   "cell_type": "markdown",
   "metadata": {},
   "source": [
    "# Ematch\n",
    "As always, we should consider ematching first.\n",
    "Here again we get a flavor of unification's complication anyway and having a global queue to look at is useful.\n",
    "We can delay hard destructions until later\n",
    "prolog freeze\n",
    "\n",
    "\n",
    "\n"
   ]
  },
  {
   "cell_type": "markdown",
   "metadata": {},
   "source": [
    "## AC\n",
    "\n",
    "AC unify is exact opposite of AC KB?\n",
    "Multiset something\n",
    "\n",
    "\n",
    "matrices of subsitutions. \"multply\" is subst composition, add is multiset combine?\n"
   ]
  },
  {
   "cell_type": "markdown",
   "metadata": {},
   "source": [
    "## Boolean\n",
    "That recent typechekcing paper flix https://dl.acm.org/doi/10.1145/3485487 Relational nullable types with Boolean unification\n",
    "https://www.youtube.com/watch?v=BPW-92b7j7A&ab_channel=ACMSIGPLAN fast and efficient boolean unification for hindley milner\n",
    "\n",
    "boolean unification the sotry so far https://www.cs.rice.edu/~javaplt/411/23-spring/NewReadings/Unfication%20Theory/Boolean-unification---The-story-so-far_1989_Journal-of-Symbolic-Computation.pdf\n",
    "\n",
    "\n",
    "Reduce to f(x) = g(x) becomes f(x) + g(x) = 0.\n",
    "\n",
    "loweneim and booles method\n",
    "\n"
   ]
  },
  {
   "cell_type": "markdown",
   "metadata": {},
   "source": [
    "## Generic Narrowing\n"
   ]
  }
 ],
 "metadata": {
  "language_info": {
   "name": "python"
  }
 },
 "nbformat": 4,
 "nbformat_minor": 2
}
