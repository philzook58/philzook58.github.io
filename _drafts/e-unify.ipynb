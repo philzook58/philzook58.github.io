{
 "cells": [
  {
   "cell_type": "code",
   "execution_count": null,
   "metadata": {
    "vscode": {
     "languageId": "plaintext"
    }
   },
   "outputs": [],
   "source": []
  },
  {
   "cell_type": "markdown",
   "metadata": {},
   "source": [
    "Threads:\n",
    "\n",
    "Bottom up eunification - Guess over a database what you'll unify on.\n",
    "\n",
    "E-unification and narrowing\n",
    "HO pattern unify\n",
    "Full HO unify\n",
    "\n",
    "I've said that higher order != has syntactic lambdas. Higher order unification could maybe seen as E-unify modulo combinator equations?\n",
    "\n",
    "\n",
    "boolean unification\n",
    "\n",
    "Rational tree unification. Non well founded equations. Rationals themselves as coalgebra?\n",
    "\n",
    "most general unifier as a greatest fixed point? Greatest something.\n",
    "\n",
    "Categorical perspectives on substitutions.\n",
    "Arrows. sure. between what? Variable sets? Term sets? Something else?\n",
    "\n",
    "\n",
    "Guassian elimination means two things.\n",
    "Add rows. - This is more like knuth bendix. ForAll uvars and bottom up, forward chaining\n",
    "isolate variable and subst. More like unify. Exists uvars and top down, back chaining\n",
    "\n",
    "\n",
    "equation breakdown. We could keep the old equations in a saturation process.\n",
    "\n"
   ]
  }
 ],
 "metadata": {
  "language_info": {
   "name": "python"
  }
 },
 "nbformat": 4,
 "nbformat_minor": 2
}
