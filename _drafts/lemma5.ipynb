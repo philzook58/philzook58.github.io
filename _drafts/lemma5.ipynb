{
 "cells": [
  {
   "cell_type": "markdown",
   "id": "c9e77cee",
   "metadata": {},
   "source": []
  },
  {
   "cell_type": "markdown",
   "id": "c5ac5da2",
   "metadata": {},
   "source": [
    "# verilog\n",
    "\n",
    "Challenge problem:\n",
    "barrel shift multiplier performs multiplication\n"
   ]
  },
  {
   "cell_type": "markdown",
   "id": "5fd61d15",
   "metadata": {},
   "source": [
    "# effect handlers\n",
    "Hmm.\n",
    "do(Read, v)\n",
    "do(Write, a)\n",
    "\n",
    "How to keep the continuation straigth?\n",
    "\n",
    "bad idea prob: use sexp.\n",
    "\n"
   ]
  },
  {
   "cell_type": "markdown",
   "id": "a6adf7ba",
   "metadata": {},
   "source": [
    "# llvmlit jit\n",
    "Talk \n"
   ]
  },
  {
   "cell_type": "markdown",
   "id": "1b0127c7",
   "metadata": {},
   "source": [
    "# Instability\n",
    "\n",
    "Proofsmith - Michigan. Can mutate proofs to figure out what triggers you should have, try to simplify proofs. Try to be self improving. Dafny\n",
    "\n",
    "\n",
    "relevancy propagation is an improtant parameter?\n",
    "CVC5 sumit\n",
    "smt vs sat solver.\n",
    "Tactic choices\n",
    "\n",
    "I should collect my instability exmaples\n",
    "\n",
    "Triggers. I haven't been using them. Everything else smt based is all about them?\n",
    "\n",
    "simp.add()  should make lhs a trigger also.\n",
    "\n",
    "Tpot\n",
    "SMT25 a conjecture\n",
    "\n",
    "Can Cebeci disganosiung instability\n",
    "\n",
    "\n"
   ]
  },
  {
   "cell_type": "code",
   "execution_count": null,
   "id": "78d66e52",
   "metadata": {},
   "outputs": [],
   "source": [
    "def trigger(pf : kd.Proof, trigger : smt.Pattern) -> kd.Proof:\n",
    "    assert isinstance(pf, kd.Proof)\n",
    "    thm = pf.thm\n",
    "    assert isinstance(thm, smt.QuantifierRef) and thm.is_forall()\n",
    "    # something.\n",
    "\n",
    "# replace trigger? Have defn trigger by default on lhs.\n",
    "\n"
   ]
  },
  {
   "cell_type": "markdown",
   "id": "28b3d24b",
   "metadata": {},
   "source": [
    "# contextvars\n",
    "https://docs.python.org/3/library/contextvars.html\n",
    "\n",
    "Register a file local context, or explciitly hand it to Lemma or Goal\n",
    "\n",
    "\n",
    "ctx = kd.Ctx()\n",
    "\n",
    "x = ctx.add_freshvar(smt.FreshVar())\n",
    "x = ctx.FreshVar()\n",
    "  = ctx.FreshVars()\n",
    "\n",
    "\n",
    "ctx.Goal()\n",
    "\n",
    "ctx.Lemma()\n",
    "\n",
    "Locale()\n",
    "\n",
    "\n",
    "class Lemma\n",
    "    bigctx\n",
    "\n",
    "\n",
    "\n",
    "What a weird api.\n",
    "You can use this to do implicit returns also\n"
   ]
  },
  {
   "cell_type": "code",
   "execution_count": 31,
   "id": "4ea66e64",
   "metadata": {},
   "outputs": [
    {
     "name": "stdout",
     "output_type": "stream",
     "text": [
      "10\n",
      "[(<ContextVar name='foo' at 0x7d96463c0b80>, 10), (<ContextVar name='foo' at 0x7d96464e2980>, 10), (<ContextVar name='foo' at 0x7d964662a9d0>, 10), (<ContextVar name='foo' at 0x7d9646649350>, 10), (<ContextVar name='foo' at 0x7d964651d350>, 10), (<ContextVar name='foo' at 0x7d96463c6750>, 10), (<ContextVar name='foo' at 0x7d96463c0d60>, 10), (<ContextVar name='foo' at 0x7d9646381a80>, 10), (<ContextVar name='foo' at 0x7d964646b4c0>, 10), (<ContextVar name='foo' at 0x7d96463c04f0>, 10), (<ContextVar name='parent_header' at 0x7d9668c97e70>, {'date': datetime.datetime(2025, 10, 2, 22, 11, 19, 20000, tzinfo=tzutc()), 'msg_id': '42165bb4-4357-4931-8f6e-aec77afd02a0', 'msg_type': 'execute_request', 'session': '2e88a59e-ef1e-402b-bc45-caa34516e0f0', 'username': '194a7128-5aa1-46bf-b35f-239ed23844a2', 'version': '5.2'}), (<ContextVar name='foo' at 0x7d96464e3a10>, 10), (<ContextVar name='foo' at 0x7d96463c4220>, 10), (<ContextVar name='foo' at 0x7d9668c94c20>, 10), (<ContextVar name='foo' at 0x7d96463c7e20>, 10), (<ContextVar name='foo' at 0x7d96463c4a40>, 10), (<ContextVar name='foo' at 0x7d9646380a40>, 10), (<ContextVar name='foo' at 0x7d96463c1440>, 10), (<ContextVar name='foo' at 0x7d9646555440>, 10), (<ContextVar name='foo' at 0x7d9646468450>, 10), (<ContextVar name='parent_header' at 0x7d9668c97a10>, {'date': datetime.datetime(2025, 10, 2, 22, 11, 19, 20000, tzinfo=tzutc()), 'msg_id': '42165bb4-4357-4931-8f6e-aec77afd02a0', 'msg_type': 'execute_request', 'session': '2e88a59e-ef1e-402b-bc45-caa34516e0f0', 'username': '194a7128-5aa1-46bf-b35f-239ed23844a2', 'version': '5.2'})]\n",
      "10\n",
      "42\n",
      "42\n",
      "get 10\n"
     ]
    },
    {
     "data": {
      "text/plain": [
       "{'foo': <ContextVar name='foo' at 0x7d964662a9d0>}"
      ]
     },
     "execution_count": 31,
     "metadata": {},
     "output_type": "execute_result"
    }
   ],
   "source": [
    "import contextvars\n",
    "\n",
    "ctx = contextvars.Context()\n",
    "v1 = contextvars.ContextVar(\"foo\")\n",
    "list(ctx.keys())\n",
    "\n",
    "v1.set(10)\n",
    "print(v1.get())\n",
    "ctx = contextvars.copy_context()\n",
    "\n",
    "@ctx.run\n",
    "def _():\n",
    "    print(list(contextvars.copy_context().items()))\n",
    "    print(v1.get())\n",
    "    v1.set(42)\n",
    "    print(contextvars.copy_context()[v1])\n",
    "    print(ctx.get(v1))\n",
    "    assert v1.get() == 42\n",
    "\n",
    "print(\"get\", v1.get())\n",
    "list(ctx.keys())\n",
    "{\n",
    "    \"foo\": v1\n",
    "}"
   ]
  },
  {
   "cell_type": "markdown",
   "id": "55d76f07",
   "metadata": {},
   "source": [
    "# Locales\n",
    "\n",
    "So locales are like named contexts we can be in?\n",
    "That is different from named collections of truths, but related.\n",
    "Locales aren't proofs. They're like a second big context to be in?\n",
    "\n",
    "ctx = Locale()\n",
    "ctx\n",
    "\n",
    "https://proofassistants.stackexchange.com/questions/23/what-are-locales-in-isabelle\n",
    "https://lawrencecpaulson.github.io/2022/03/23/Locales.html locales are predicates?\n",
    "\n",
    "group()\n",
    "\n",
    "\n"
   ]
  },
  {
   "cell_type": "code",
   "execution_count": null,
   "id": "28c0944c",
   "metadata": {},
   "outputs": [],
   "source": [
    "@dataclass\n",
    "class Context():\n",
    "    fixes : list[smt.ExpRef]\n",
    "    assumes : list[smt.ExpRef]\n",
    "\n",
    "    def obtains(self, n): #?\n",
    "\n",
    "def obtains(vs, fm):\n",
    "    \n"
   ]
  },
  {
   "cell_type": "markdown",
   "id": "9865b1dc",
   "metadata": {},
   "source": [
    "# unsound\n",
    "\n",
    "Is the herb form also unsound?\n",
    "\n",
    "\n"
   ]
  },
  {
   "cell_type": "code",
   "execution_count": null,
   "id": "cef871f6",
   "metadata": {},
   "outputs": [],
   "source": [
    "from kdrag.all import *\n",
    "# Bascially I can't have the ability to skolem and universal var because they enable me to swap exists and forall.\n",
    "N = kd.FreshVar(\"N\", smt.IntSort())\n",
    "x = smt.Const(\"x\", smt.IntSort())\n",
    "pf1 = kd.prove(smt.Exists([x], x > N))\n",
    "xs, pf2 = kd.kernel.skolem(pf1)\n",
    "pf3 = pf2.forall([N])(xs[0] + 1)\n",
    "kd.prove(smt.BoolVal(False), by=[pf3])"
   ]
  },
  {
   "cell_type": "markdown",
   "id": "0b52aee7",
   "metadata": {},
   "source": [
    "# modules\n",
    "\n",
    "https://types.pl/@maxsnew/115305568271533541\n",
    "a module of a sginature os a model of the signature\n",
    "STLC[Sigma] parametrized lambda calculus\n",
    "functors are functors\n",
    "\n",
    "https://mathstodon.xyz/@olynch/115299725196735176\n",
    "\n",
    "https://dl.acm.org/doi/pdf/10.1145/800055.802036\n",
    "\n",
    "https://dl.acm.org/doi/pdf/10.1145/512644.512670  Using Dependent Types to Express Modu|ar Struetr~re\n",
    "\n",
    "https://link.springer.com/chapter/10.1007/3-540-55719-9_102 A proposed categorical semantics for Pure ML\n",
    "\n",
    "Currently knuckeldragger is C-like in that everything can clash. discipline can \n",
    "resgiter a name as _taken_ at the least.\n",
    "kd.DeclareFun()\n",
    "\n",
    "what if defns could be hierarchical? Theorems only apply in the right module? Seems kind of easy to puncture.\n",
    "Maybe this could also be used to organize simps and auto.\n",
    "\n",
    "I had notes on modules for egglog\n",
    "\n",
    "\n",
    "First class modules. If I could internalize a notion of genericity or sorts. The sexp model.\n",
    "\n",
    "https://pvs.csl.sri.com/doc/interpretations.pdf Interpretations in pvs\n",
    "\n",
    "\"parametric modules\" Is that that mnuch different\n"
   ]
  },
  {
   "cell_type": "markdown",
   "id": "bfa9b40c",
   "metadata": {},
   "source": [
    "# llvmlite compile\n",
    "https://github.com/sdiehl/numpile/blob/master/numpile.py\n",
    "\n"
   ]
  },
  {
   "cell_type": "markdown",
   "id": "c041cb59",
   "metadata": {},
   "source": [
    "# sexp\n",
    "\n",
    "Another idea - \n",
    "delaboration via sexp\n",
    "\n",
    "Also strangely enough, maybe syntactic manipulation might be faster via serialize -> sexp -> deserialize.\n",
    "Building z3py stuff is just so slow.\n",
    "\n",
    "Building rewriters over sexp is kind of interesting anyway\n",
    "\n",
    "The transfer principle?\n",
    "\n",
    "https://types.pl/@sandmouth/114904803899189629 What I did here is a little different.\n",
    "Hmm.\n"
   ]
  },
  {
   "cell_type": "code",
   "execution_count": null,
   "id": "2ab192ce",
   "metadata": {},
   "outputs": [],
   "source": [
    "Atom = Sexp1.constructor(0)\n",
    "List = Sexp1.constructor(1)\n",
    "_ax = smt.Unit(Sexp1.Atom(smt.StringVal(\"x\")))\n",
    "Unitdecl = _ax.decl()\n",
    "Concatdecl = smt.Concat(_ax, _ax).decl()\n",
    "Empty = smt.Empty(smt.SeqSort(Sexp1))\n",
    "\n",
    "\n",
    "def pprint(e: smt.ExprRef) -> str:\n",
    "    \"\"\"\n",
    "    Pretty print an s-expression.\n",
    "\n",
    "    >>> pprint(parse(\"(+ a (b c))\"))\n",
    "\n",
    "    \"\"\"\n",
    "    assert e.sort() == Sexp1\n",
    "    if e.decl() == Atom:\n",
    "        s = e.arg(0)\n",
    "        assert smt.is_string_value(s)\n",
    "        return s.as_string()\n",
    "    elif e.decl() == List:\n",
    "        seq = e.arg(0)\n",
    "        decl = seq.decl()\n",
    "        if e.eq(Empty):\n",
    "            return \"()\"\n",
    "        elif decl == Unitdecl:\n",
    "            return \"(\" + pprint(seq.arg(0)) + \")\"\n",
    "        elif decl == Concatdecl:\n",
    "            return \"(\" + \" \".join(pprint(c.arg(0)) for c in seq.children()) + \")\"\n",
    "        else:\n",
    "            raise TypeError(f\"Unexpected sequence {seq}\")\n",
    "    else:\n",
    "        raise TypeError(f\"Unexpected expression {e}, {e.decl().name()}\")"
   ]
  },
  {
   "cell_type": "markdown",
   "id": "77882801",
   "metadata": {},
   "source": [
    "# nominal\n",
    "How to do nominal knuckeldragger? Semantic model?\n",
    "\n",
    "Could help me understand slotted\n",
    "\n",
    "https://www.cl.cam.ac.uk/~amp12/papers/nomlfo/nomlfo-draft.pdf\n",
    "\n",
    "https://www.cl.cam.ac.uk/~amp12/talks/tacs01.pdf talk\n",
    "\n",
    "No, maybe Tuple(Prim, AtomSet)\n"
   ]
  },
  {
   "cell_type": "code",
   "execution_count": null,
   "id": "1b2d1263",
   "metadata": {},
   "outputs": [],
   "source": [
    "# oof this is unsopund in the presence on FreshVars. Huh. Subtle or obvious?\n",
    "def FreshAtom(xs, prefix=None):\n",
    "    \"\"\"\n",
    "    Axiom schema for there are always new constants.\n",
    "    >>> FreshAtom([a, b], prefix=\"fred\")\n",
    "    (fred!..., |= Distinct(fred!..., a, b))\n",
    "    \"\"\"\n",
    "    # TODO: might also need a Seq form of\n",
    "    z = smt.FreshConst(Atom, prefix=prefix)\n",
    "    return z, kd.axiom(smt.Distinct(z, *xs))\n",
    "\n",
    "# But this is the same thing. Uh oh.\n",
    "def DistinctN(n : int):\n",
    "    xs = [smt.Const(f\"x{i}\", Atom) for i in range(n)]\n",
    "    z = smt.Const(\"z\", Atom)\n",
    "    return kd.axiom(smt.ForAll([xs], smt.Exists([z], Distinct(z, *xs))))\n",
    "\n",
    "# Is FreshVar unsound?\n",
    "# I can prove something exists\n",
    "# forall exists does not imply exists forall\n",
    "\n",
    "\n",
    "\n",
    "\n",
    "\n",
    "\n"
   ]
  },
  {
   "cell_type": "code",
   "execution_count": null,
   "id": "34487fe1",
   "metadata": {},
   "outputs": [
    {
     "data": {
      "text/html": [
       "&#x22A8;False"
      ],
      "text/plain": [
       "|= False"
      ]
     },
     "execution_count": 14,
     "metadata": {},
     "output_type": "execute_result"
    }
   ],
   "source": [
    "\n"
   ]
  },
  {
   "cell_type": "code",
   "execution_count": null,
   "id": "786a9c54",
   "metadata": {},
   "outputs": [],
   "source": [
    "Atom = smt.DeclareSort(\"Atom\")\n",
    "\n",
    "\n",
    "x,y,z = smt.Consts(\"x y z\", Atom)\n",
    "kd.define(\"swap\", [x,y,z], \n",
    "    smt.If(x == z, y,\n",
    "    smt.If(y == z, x,\n",
    "    z))\n",
    ")\n",
    "\n",
    "swap = kd.notation.SortDispatch(name=\"swap\")\n",
    "free = kd.notation.SortDispatch(name=\"free\")\n",
    "\n",
    "swap.register()\n",
    "\n",
    "def NomSort(s : smt.SortRef) -> smt.SortRef:\n",
    "    dt = kd.Inductive(\"Nom_\" + s.name(), [s])\n",
    "    dt.declare(\"Atom\", (\"atom\", Atom)) # Set(Atom) ? Var?\n",
    "    dt.declare(\"Value\", (\"prim\", s))\n",
    "    dt = dt.create()\n",
    "    v = smt.Const(\"v\", dt)\n",
    "    swap.define([s,x,y], \n",
    "        smt.If(dt.is_Atom(v), dt.Atom(swap(x,y,dt.prim(v))),\n",
    "        dt.Value(v))\n",
    "    )\n",
    "    # v # t\n",
    "    distinct.define([s,x],\n",
    "        smt.If(dt.is_Atom(v), v != dt.atom(x),\n",
    "        smt.BoolVal(False)\n",
    "    ))\n",
    "\n",
    "    return dt.create(), swap, free\n",
    "\n",
    "\n",
    "\n",
    "#  ??????.  phi(x,y,z) ?    (Bool, Set(Atom)) ? Perm -> Bool ?  \n",
    "Bool = NormSort(smt.BoolSort())\n",
    "\n",
    "f = smt.ArrayConst(\"f\", Atom, Atom)\n",
    "is_iso = kd.define(\"is_iso\", [f], \n",
    "    smt.ForAll([x],\n",
    "        smt.Exists([y],\n",
    "            f[x] == y\n",
    "        )\n",
    "    )\n",
    ")\n",
    "compact = kd.define(\"compact\", [f],\n",
    "    smt.Exists([seq],\n",
    "        f[a] == smt.In(seq, a)\n",
    "    )\n",
    "    smt.ForAll([x,y,z],\n",
    "        smt.Implies(f[x] == f[y], x == y)\n",
    "    )\n",
    ")\n",
    "\n",
    "perm_inv = kd.define(\"perm_inv\", [a],\n",
    "    smt.ForAll([x,y],\n",
    "        smt.Implies(free(a,x) == free(a,y), x == y)\n",
    "    )\n",
    ")\n",
    "\n",
    "\n"
   ]
  },
  {
   "cell_type": "code",
   "execution_count": null,
   "id": "4f03d59a",
   "metadata": {},
   "outputs": [],
   "source": [
    "NomVar = smt.DeclareSort(\"NomVar\")\n",
    "\n",
    "def Nominal(S : smt.SortRef):\n",
    "    dt = kd.Inductive(\"Nom_\" + S.name())\n",
    "    dt.declare(\"Nom\", (\"var\", NomVar))\n",
    "    dt.declare(\"Const\", (\"val\", S))\n",
    "    return dt.create()\n",
    "\n",
    "# not good enoguh for recursive trees.\n",
    "\n",
    "def NomDT(name):\n",
    "    dt = kd.Inductive(\"name\")\n",
    "    dt.declare(\"Var\", (\"var\", NomVar))\n",
    "    return dt\n",
    "\n",
    "# but also it has a different "
   ]
  },
  {
   "cell_type": "markdown",
   "id": "93c107c4",
   "metadata": {},
   "source": [
    "# Conv\n",
    "\n",
    "Conv could be nice way to use zippers + amgnual congruence rules.\n",
    "Which in turn let's us maybe get a handle on generalized congruence.\n",
    "\n",
    "Lenses?\n",
    "\n",
    "\n",
    "https://pavpanchekha.com/blog/zippers/multi-zippers.html\n",
    "https://stackoverflow.com/questions/3436559/zipper-like-data-structure-with-more-than-one-cursor\n",
    "https://okmij.org/ftp/continuations/zipper.html#zipper2 zippers with several holes\n",
    "\n"
   ]
  },
  {
   "cell_type": "markdown",
   "id": "8d5e714d",
   "metadata": {},
   "source": [
    "# Knuckle Kernels\n",
    "a monorepo of knuckeldragger kernels\n",
    "\n"
   ]
  },
  {
   "cell_type": "markdown",
   "id": "90b4c3ce",
   "metadata": {},
   "source": [
    "# Delab\n",
    "\n",
    "lisp2tex?\n",
    "\n",
    "\n",
    "pprint?\n",
    "\n",
    "\n",
    "\n",
    "\n"
   ]
  },
  {
   "cell_type": "code",
   "execution_count": null,
   "id": "20be2d36",
   "metadata": {},
   "outputs": [],
   "source": [
    "\n",
    "pprint_binop = {\n",
    "    \"and\": r\"\\land\",\n",
    "    \"or\": r\"\\lor\",\n",
    "    \"not\": r\"\\lnot\",\n",
    "    \"=>\": r\"\\implies\",\n",
    "    \"=\": \"=\",\n",
    "    \"distinct\": r\"\\neq\",\n",
    "    \"+\": \"+\",\n",
    "    \"-\": \"-\",\n",
    "    \"*\": r\"\\cdot\",\n",
    "    \"/\": \"/\",\n",
    "    \"<\": \"<\",\n",
    "    \"<=\": r\"\\leq\",\n",
    "    \">\": \">\",\n",
    "    \">=\": r\"\\geq\",\n",
    "}\n",
    "pprint_unop = {\n",
    "    \"not\": r\"\\lnot\",\n",
    "    \"-\": \"-\",\n",
    "}\n",
    "\n",
    "\n",
    "\n",
    "#def pprint(sexp):\n",
    "def latex(sexp):\n",
    "    match sexp:\n",
    "        case [f, *args]:\n",
    "\n"
   ]
  },
  {
   "cell_type": "markdown",
   "id": "e58a51a1",
   "metadata": {},
   "source": [
    "# macro smt\n"
   ]
  },
  {
   "cell_type": "markdown",
   "id": "bd2bba7d",
   "metadata": {},
   "source": [
    "# parametrized solvers\n",
    "\n",
    "grind can take in theories\n"
   ]
  },
  {
   "cell_type": "code",
   "execution_count": null,
   "id": "30a1cb0f",
   "metadata": {},
   "outputs": [],
   "source": [
    "from typing import Protocol\n",
    "class Theory(Protocol):\n",
    "    decls : list[smt.FuncDeclRef]\n",
    "    def init(self) -> list[smt.BoolRef]: ...\n",
    "    def preprocess(self, formula : smt.BoolRef):\n",
    "        # callback from Solver.add\n",
    "\n",
    "class Ring(Protocol):\n",
    "    ...\n",
    "\n",
    "class RingTheory(Theory):\n",
    "    ring : Ring\n",
    "\n",
    "    def preprocess(self, formula): ...\n",
    "        # do ring normalization\n",
    "    def simplify(self, e : smt.ExprRef): ...\n",
    "\n",
    "class Ring(Protocol, Theory):\n",
    "\n",
    "\n",
    "\n",
    "class Solver():\n",
    "    solver : smt.Solver\n",
    "    theories : list[Theory]\n",
    "    def add_theory(self, t : Theory):\n",
    "        self.theories.add(t)\n",
    "        for e in t.init():\n",
    "            self.solver.add(e)\n",
    "    def add(self, formula):\n",
    "        self.solver.add(t)\n",
    "        for theory in theories:\n",
    "            for t in theory.preprocess(formula):\n",
    "                self.solver.add(t)\n",
    "    def check(self):\n",
    "        res = self.solver.check()\n",
    "        if res == smt.unsat:\n",
    "            return smt.unsat\n",
    "        elif res == smt.sat:\n",
    "            m = self.solver.get_model()\n",
    "            for theory in self.theories:\n",
    "                theory.check(m)\n",
    "\n",
    "\n"
   ]
  },
  {
   "cell_type": "markdown",
   "id": "b4cfb3e7",
   "metadata": {},
   "source": [
    "# delta satisfiability\n",
    "\n",
    "https://scungao.github.io/papers/delta_complete_decision_procedures.pdf\n",
    "\n",
    "nonstyandard reals\n",
    "lifting\n",
    "\n",
    "nate says maxmimize delta is nice."
   ]
  },
  {
   "cell_type": "code",
   "execution_count": null,
   "id": "bdcbf372",
   "metadata": {},
   "outputs": [],
   "source": []
  }
 ],
 "metadata": {
  "kernelspec": {
   "display_name": "philzook58.github.io",
   "language": "python",
   "name": "python3"
  },
  "language_info": {
   "codemirror_mode": {
    "name": "ipython",
    "version": 3
   },
   "file_extension": ".py",
   "mimetype": "text/x-python",
   "name": "python",
   "nbconvert_exporter": "python",
   "pygments_lexer": "ipython3",
   "version": "3.12.3"
  }
 },
 "nbformat": 4,
 "nbformat_minor": 5
}
