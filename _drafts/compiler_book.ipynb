{
 "cells": [
  {
   "cell_type": "markdown",
   "id": "7d0331f2",
   "metadata": {},
   "source": [
    "# Python\n",
    "\n",
    "\n",
    "\n",
    "\n"
   ]
  },
  {
   "cell_type": "code",
   "execution_count": null,
   "id": "6c78e95e",
   "metadata": {},
   "outputs": [],
   "source": [
    "import kdrag.parsers.sexp as sexp\n",
    "\n",
    "type sexp = list | int | str\n",
    "def interp_exp(env, s : sexp):\n",
    "    match s:\n",
    "        case int() | str():\n",
    "            return s\n",
    "        case [\"+\", *args]:\n",
    "            return sum(interp_exp(env, arg) for arg in args)\n",
    "        case [\"-\", a, b]:\n",
    "            return interp_exp(env, a) - interp_exp(env, b)\n",
    "        case [\"-\", x]:\n",
    "            return -interp_exp(env, x)\n",
    "\n",
    "\n",
    "\n"
   ]
  },
  {
   "cell_type": "code",
   "execution_count": null,
   "id": "41d33b9c",
   "metadata": {},
   "outputs": [],
   "source": [
    "def compile_expr(env, dst, s : sexp):\n",
    "    match s:\n",
    "        case int() | str():\n",
    "            return s\n",
    "        case [\"+\", *args]:\n",
    "            compiled_args = [compile_expr(arg) for arg in args]\n",
    "            return f\"({' + '.join(map(str, compiled_args))})\"\n",
    "        case [\"-\", a, b]:\n",
    "            compiled_a = compile_expr(a)\n",
    "            compiled_b = compile_expr(b)\n",
    "            return f\"({compiled_a} - {compiled_b})\"\n",
    "        case [\"-\", x]:\n",
    "            compiled_x = compile_expr(x)\n",
    "            return f\"(-{compiled_x})\""
   ]
  },
  {
   "cell_type": "markdown",
   "id": "5c31218c",
   "metadata": {},
   "source": [
    "# Old Racket\n",
    "https://github.com/IUCompilerCourse/Essentials-of-Compilation/releases/download/racket-october-2023/book.pdf\n",
    "https://github.com/IUCompilerCourse/Essentials-of-Compilation"
   ]
  },
  {
   "cell_type": "code",
   "execution_count": 31,
   "id": "6db3e632",
   "metadata": {},
   "outputs": [
    {
     "name": "stdout",
     "output_type": "stream",
     "text": [
      "Overwriting /tmp/ch1.rkt\n"
     ]
    }
   ],
   "source": [
    "%%file /tmp/ch1.rkt\n",
    "#lang racket\n",
    "(provide (all-defined-out))\n",
    ";(module ch1 racket\n",
    "(require rackunit)\n",
    "(struct Int (value))\n",
    "(struct Prim (op args))\n",
    "(struct Prog (info body))\n",
    "\n",
    "(define (leaf arith)\n",
    "    (match arith\n",
    "        [(Int v) #t]\n",
    "        [(Prim 'read '()) #t]\n",
    "        [(Prim '- (list e1)) #f]\n",
    "        [(Prim '+ (list e1 e2)) #f]\n",
    "        [(Prim '- (list e1 e2)) #f]\n",
    "))\n",
    "\n",
    "(check-true (leaf (Int 3)))\n",
    "(check-true (leaf (Prim 'read '())))\n",
    "\n",
    "\n",
    "(define (is_exp ast)\n",
    "    (match ast\n",
    "        [(Int v) #t]\n",
    "        [(Prim 'read '()) #t]\n",
    "        [(Prim '- (list e1)) (is_exp e1)]\n",
    "        [(Prim '+ (list e1 e2)) (and (is_exp e1) (is_exp e2))]\n",
    "        [(Prim '- (list e1 e2)) (and ( is_exp e1) (is_exp e2))]\n",
    "        [else #f]\n",
    "    )\n",
    ")\n",
    "\n",
    "(check-true (is_exp (Int 3)))\n",
    "(check-true (is_exp (Prim 'read '())))\n",
    "(check-true (is_exp (Prim '- (list (Int 3)))))\n",
    "(check-true (is_exp (Prim '+ (list (Int 3) (Int 4)))))\n",
    "(check-false (is_exp (Prim 'foo '())))\n",
    "\n",
    "(define (is_Lint ast)\n",
    "    (match ast\n",
    "        [(Prog info body) (and (string? info) (is_exp body))]\n",
    "        [else #f]\n",
    "    )\n",
    ")\n",
    "\n",
    "(define (interp_exp e)\n",
    "    (match e\n",
    "        [(Int v) v]\n",
    "        [(Prim 'read '()) (read)]\n",
    "        [(Prim '- (list e1)) (- (interp_exp e1))]\n",
    "        [(Prim '+ (list e1 e2)) (+ (interp_exp e1) (interp_exp e2))]\n",
    "        [(Prim '- (list e1 e2)) (- (interp_exp e1) (interp_exp e2))]\n",
    "        [else (error \"unknown expression\" e)]\n",
    "    )\n",
    ")\n",
    "(print \"load ch1\")\n",
    "\n",
    ";)"
   ]
  },
  {
   "cell_type": "code",
   "execution_count": 32,
   "id": "4e850c2c",
   "metadata": {},
   "outputs": [
    {
     "name": "stdout",
     "output_type": "stream",
     "text": [
      "\"load ch1\""
     ]
    }
   ],
   "source": [
    "! racket /tmp/ch1.rkt"
   ]
  },
  {
   "cell_type": "code",
   "execution_count": 33,
   "id": "60c3d748",
   "metadata": {},
   "outputs": [
    {
     "name": "stdout",
     "output_type": "stream",
     "text": [
      "Overwriting /tmp/imp.rkt\n"
     ]
    }
   ],
   "source": [
    "%%file /tmp/imp.rkt\n",
    "#lang racket\n",
    "(require (file \"/tmp/ch1.rkt\"))\n",
    "(is_exp (Int 3))"
   ]
  },
  {
   "cell_type": "code",
   "execution_count": 34,
   "id": "fdf4bb43",
   "metadata": {},
   "outputs": [
    {
     "name": "stdout",
     "output_type": "stream",
     "text": [
      "\"load ch1\"#t\n"
     ]
    }
   ],
   "source": [
    "! racket /tmp/imp.rkt"
   ]
  },
  {
   "cell_type": "code",
   "execution_count": null,
   "id": "8037b076",
   "metadata": {},
   "outputs": [],
   "source": []
  },
  {
   "cell_type": "markdown",
   "id": "9061593f",
   "metadata": {},
   "source": [
    "https://docs.racket-lang.org/rackunit/api.html\n",
    "\n",
    "\n",
    "Could do oleg ref cell\n",
    "open functions. typeclasses + tagless final something\n"
   ]
  },
  {
   "cell_type": "code",
   "execution_count": 92,
   "id": "6d79bb75",
   "metadata": {},
   "outputs": [
    {
     "name": "stdout",
     "output_type": "stream",
     "text": [
      "Overwriting /tmp/dt.rkt\n"
     ]
    }
   ],
   "source": [
    "%%file /tmp/dt.rkt\n",
    "#lang racket\n",
    "\n",
    "(hash 'a 1 'b 2 'c 3)\n",
    "(make-hash)\n",
    "'#hash((a . 1) (b . 2) (c . 3))\n",
    "(vector 1 2 3)\n",
    "(vector-immutable 1 2 3)\n",
    "(vector-length #(1 2 3))\n",
    "(define v (vector 1 2 3))\n",
    "(vector-set! v 0 10)\n",
    "v\n",
    "(vector->list v)\n",
    "(vector-map (lambda (x) (* x x)) v)\n",
    "(make-vector 2)\n",
    "(set-mutable? (set 1 2 3 1)) ; not mutable by default\n",
    "(mutable-set 1 2 3 1)"
   ]
  },
  {
   "cell_type": "code",
   "execution_count": 93,
   "id": "32822921",
   "metadata": {},
   "outputs": [
    {
     "name": "stdout",
     "output_type": "stream",
     "text": [
      "'#hash((a . 1) (b . 2) (c . 3))\n",
      "'#hash()\n",
      "'#hash((a . 1) (b . 2) (c . 3))\n",
      "'#(1 2 3)\n",
      "'#(1 2 3)\n",
      "3\n",
      "'#(10 2 3)\n",
      "'(10 2 3)\n",
      "'#(100 4 9)\n",
      "'#(0 0)\n",
      "#f\n",
      "(mutable-set 1 2 3)\n"
     ]
    }
   ],
   "source": [
    "! racket /tmp/dt.rkt"
   ]
  },
  {
   "cell_type": "markdown",
   "id": "0cbe579f",
   "metadata": {},
   "source": [
    "```clojure\n",
    "(define interp-Lint-class\n",
    "    (class object%\n",
    "        (super-new)\n",
    "        (define/public ((interp_exp env) e)\n",
    "            (match e\n",
    "            [(Int n) n]\n",
    "            [(Prim 'read '())\n",
    "                (define r (read))\n",
    "                (cond [(fixnum? r) r]\n",
    "                    [else (error 'interp_exp \"expected an integer\" r)])]\n",
    "            [(Prim '- (list e)) (fx- 0 ((interp_exp env) e))]\n",
    "            [(Prim '+ (list e1 e2))\n",
    "                (fx+ ((interp_exp env) e1) ((interp_exp env) e2))]\n",
    "            [(Prim '- (list e1 e2))\n",
    "                (fx- ((interp_exp env) e1) ((interp_exp env) e2))])\n",
    "        )\n",
    "            \n",
    "        \n",
    "        (define/public (interp_program p)\n",
    "            (match p\n",
    "            [(Program '() e) ((interp_exp '()) e)]))\n",
    "))\n",
    "```"
   ]
  },
  {
   "cell_type": "code",
   "execution_count": 41,
   "id": "3301ca1f",
   "metadata": {},
   "outputs": [
    {
     "name": "stdout",
     "output_type": "stream",
     "text": [
      "Overwriting /tmp/ch2.rkt\n"
     ]
    }
   ],
   "source": [
    "%%file /tmp/ch2.rkt\n",
    "#lang racket\n",
    "\n",
    " (require racket/fixnum)\n",
    "(require (file \"/tmp/ch1.rkt\"))\n",
    "\n",
    "(define interp-Lint-class\n",
    "    (class object%\n",
    "        (super-new)\n",
    "        (define/public ((interp_exp env) e)\n",
    "            (match e\n",
    "                [(Int n) n]\n",
    "            [(Prim 'read '())\n",
    "                (define r (read))\n",
    "                (cond [(fixnum? r) r]\n",
    "                    [else (error 'interp_exp \"expected an integer\" r)])]\n",
    "            [(Prim '- (list e)) (fx- 0 ((interp_exp env) e))]\n",
    "            [(Prim '+ (list e1 e2))\n",
    "                (fx+ ((interp_exp env) e1) ((interp_exp env) e2))]\n",
    "            [(Prim '- (list e1 e2))\n",
    "                (fx- ((interp_exp env) e1) ((interp_exp env) e2))]))\n",
    "        \n",
    "        (define/public (interp_program p)\n",
    "            (match p\n",
    "            [(Program '() e) ((interp_exp '()) e)]))\n",
    "))\n",
    "\n"
   ]
  },
  {
   "cell_type": "code",
   "execution_count": 42,
   "id": "bc6395b5",
   "metadata": {},
   "outputs": [
    {
     "name": "stdout",
     "output_type": "stream",
     "text": [
      "/tmp/ch2.rkt:24:13: match: syntax error in pattern\n",
      "  in: (Program (quote ()) e)\n",
      "  location...:\n",
      "   /tmp/ch2.rkt:24:13\n",
      "  context...:\n",
      "   /usr/racket/collects/racket/match/gen-match.rkt:56:11: mk\n",
      "   /usr/racket/collects/racket/match/../../syntax/parse/private/parse-interp.rkt:643:50\n",
      "   /usr/racket/collects/racket/match/gen-match.rkt:25:0: go\n",
      "   /usr/racket/collects/racket/private/stxparam.rkt:63:2\n",
      "   [repeats 3 more times]\n",
      "   /usr/racket/collects/racket/private/class-undef.rkt:35:0\n"
     ]
    }
   ],
   "source": [
    "! racket /tmp/ch2.rkt"
   ]
  },
  {
   "cell_type": "code",
   "execution_count": null,
   "id": "85192e62",
   "metadata": {},
   "outputs": [],
   "source": []
  },
  {
   "cell_type": "markdown",
   "id": "3ee7ab44",
   "metadata": {},
   "source": [
    "# Python\n"
   ]
  },
  {
   "cell_type": "code",
   "execution_count": null,
   "id": "55090d1f",
   "metadata": {},
   "outputs": [],
   "source": []
  }
 ],
 "metadata": {
  "kernelspec": {
   "display_name": "philzook58.github.io",
   "language": "python",
   "name": "python3"
  },
  "language_info": {
   "codemirror_mode": {
    "name": "ipython",
    "version": 3
   },
   "file_extension": ".py",
   "mimetype": "text/x-python",
   "name": "python",
   "nbconvert_exporter": "python",
   "pygments_lexer": "ipython3",
   "version": "3.12.3"
  }
 },
 "nbformat": 4,
 "nbformat_minor": 5
}
