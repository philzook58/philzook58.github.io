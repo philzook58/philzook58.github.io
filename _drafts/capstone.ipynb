{
 "cells": [
  {
   "cell_type": "markdown",
   "metadata": {},
   "source": [
    "captsone interpreter\n",
    "https://www.capstone-engine.org/"
   ]
  },
  {
   "cell_type": "code",
   "execution_count": 2,
   "metadata": {},
   "outputs": [
    {
     "name": "stdout",
     "output_type": "stream",
     "text": [
      "Writing /tmp/test.c\n"
     ]
    }
   ],
   "source": [
    "%%file /tmp/test.c\n",
    "\n",
    "int myadd(int a, int b) {\n",
    "    return a + b;\n",
    "}\n"
   ]
  },
  {
   "cell_type": "code",
   "execution_count": 3,
   "metadata": {},
   "outputs": [],
   "source": [
    "! gcc -c -o /tmp/test.so /tmp/test.c"
   ]
  },
  {
   "cell_type": "code",
   "execution_count": 4,
   "metadata": {},
   "outputs": [
    {
     "name": "stdout",
     "output_type": "stream",
     "text": [
      "0x1000:\tpush\trbp\n",
      "0x1001:\tmov\trax, qword ptr [rip + 0x13b8]\n"
     ]
    }
   ],
   "source": [
    "from capstone import *\n",
    "\n",
    "CODE = b\"\\x55\\x48\\x8b\\x05\\xb8\\x13\\x00\\x00\"\n",
    "\n",
    "md = Cs(CS_ARCH_X86, CS_MODE_64)\n",
    "for i in md.disasm(CODE, 0x1000):\n",
    "    print(\"0x%x:\\t%s\\t%s\" %(i.address, i.mnemonic, i.op_str))\n"
   ]
  },
  {
   "cell_type": "code",
   "execution_count": null,
   "metadata": {},
   "outputs": [
    {
     "name": "stdout",
     "output_type": "stream",
     "text": [
      "['_CsInsn__gen_detail', '__class__', '__delattr__', '__dict__', '__dir__', '__doc__', '__eq__', '__format__', '__ge__', '__getattr__', '__getattribute__', '__gt__', '__hash__', '__init__', '__init_subclass__', '__le__', '__lt__', '__module__', '__ne__', '__new__', '__reduce__', '__reduce_ex__', '__repr__', '__setattr__', '__sizeof__', '__str__', '__subclasshook__', '__weakref__', '_cs', '_raw', 'address', 'bytes', 'errno', 'group', 'group_name', 'groups', 'id', 'insn_name', 'mnemonic', 'op_count', 'op_find', 'op_str', 'reg_name', 'reg_read', 'reg_write', 'regs_access', 'regs_read', 'regs_write', 'size']\n",
      "['_CsInsn__gen_detail', '__class__', '__delattr__', '__dict__', '__dir__', '__doc__', '__eq__', '__format__', '__ge__', '__getattr__', '__getattribute__', '__gt__', '__hash__', '__init__', '__init_subclass__', '__le__', '__lt__', '__module__', '__ne__', '__new__', '__reduce__', '__reduce_ex__', '__repr__', '__setattr__', '__sizeof__', '__str__', '__subclasshook__', '__weakref__', '_cs', '_raw', 'address', 'bytes', 'errno', 'group', 'group_name', 'groups', 'id', 'insn_name', 'mnemonic', 'op_count', 'op_find', 'op_str', 'reg_name', 'reg_read', 'reg_write', 'regs_access', 'regs_read', 'regs_write', 'size']\n"
     ]
    },
    {
     "ename": "CsError",
     "evalue": "Details are unavailable (CS_ERR_DETAIL)",
     "output_type": "error",
     "traceback": [
      "\u001b[0;31m---------------------------------------------------------------------------\u001b[0m",
      "\u001b[0;31mCsError\u001b[0m                                   Traceback (most recent call last)",
      "Cell \u001b[0;32mIn[9], line 14\u001b[0m\n\u001b[1;32m     12\u001b[0m \u001b[38;5;28;01mfor\u001b[39;00m i \u001b[38;5;129;01min\u001b[39;00m md\u001b[38;5;241m.\u001b[39mdisasm(CODE, \u001b[38;5;241m0x1000\u001b[39m):\n\u001b[1;32m     13\u001b[0m     \u001b[38;5;28mprint\u001b[39m(\u001b[38;5;28mdir\u001b[39m(i))\n\u001b[0;32m---> 14\u001b[0m     \u001b[43minterp\u001b[49m\u001b[43m(\u001b[49m\u001b[43mi\u001b[49m\u001b[43m,\u001b[49m\u001b[43m \u001b[49m\u001b[43mstate\u001b[49m\u001b[43m)\u001b[49m\n",
      "Cell \u001b[0;32mIn[9], line 9\u001b[0m, in \u001b[0;36minterp\u001b[0;34m(op, state)\u001b[0m\n\u001b[1;32m      7\u001b[0m         state[op\u001b[38;5;241m.\u001b[39moperands[\u001b[38;5;241m0\u001b[39m]\u001b[38;5;241m.\u001b[39mreg] \u001b[38;5;241m-\u001b[39m\u001b[38;5;241m=\u001b[39m state[op\u001b[38;5;241m.\u001b[39moperands[\u001b[38;5;241m1\u001b[39m]\u001b[38;5;241m.\u001b[39mreg]\n\u001b[1;32m      8\u001b[0m     \u001b[38;5;28;01mcase\u001b[39;00m \u001b[38;5;124m\"\u001b[39m\u001b[38;5;124mmov\u001b[39m\u001b[38;5;124m\"\u001b[39m:\n\u001b[0;32m----> 9\u001b[0m         state[op\u001b[38;5;241m.\u001b[39moperands[\u001b[38;5;241m0\u001b[39m]\u001b[38;5;241m.\u001b[39mreg] \u001b[38;5;241m=\u001b[39m state[\u001b[43mop\u001b[49m\u001b[38;5;241;43m.\u001b[39;49m\u001b[43moperands\u001b[49m[\u001b[38;5;241m1\u001b[39m]\u001b[38;5;241m.\u001b[39mreg]\n\u001b[1;32m     10\u001b[0m \u001b[38;5;28;01mreturn\u001b[39;00m state\n",
      "File \u001b[0;32m~/.local/lib/python3.10/site-packages/capstone/__init__.py:777\u001b[0m, in \u001b[0;36mCsInsn.__getattr__\u001b[0;34m(self, name)\u001b[0m\n\u001b[1;32m    775\u001b[0m \u001b[38;5;28;01mdef\u001b[39;00m \u001b[38;5;21m__getattr__\u001b[39m(\u001b[38;5;28mself\u001b[39m, name):\n\u001b[1;32m    776\u001b[0m     \u001b[38;5;28;01mif\u001b[39;00m \u001b[38;5;129;01mnot\u001b[39;00m \u001b[38;5;28mself\u001b[39m\u001b[38;5;241m.\u001b[39m_cs\u001b[38;5;241m.\u001b[39m_detail:\n\u001b[0;32m--> 777\u001b[0m         \u001b[38;5;28;01mraise\u001b[39;00m CsError(CS_ERR_DETAIL)\n\u001b[1;32m    779\u001b[0m     attr \u001b[38;5;241m=\u001b[39m \u001b[38;5;28mobject\u001b[39m\u001b[38;5;241m.\u001b[39m\u001b[38;5;21m__getattribute__\u001b[39m\n\u001b[1;32m    780\u001b[0m     \u001b[38;5;28;01mif\u001b[39;00m \u001b[38;5;129;01mnot\u001b[39;00m attr(\u001b[38;5;28mself\u001b[39m, \u001b[38;5;124m'\u001b[39m\u001b[38;5;124m_cs\u001b[39m\u001b[38;5;124m'\u001b[39m)\u001b[38;5;241m.\u001b[39m_detail:\n",
      "\u001b[0;31mCsError\u001b[0m: Details are unavailable (CS_ERR_DETAIL)"
     ]
    }
   ],
   "source": [
    "from capstone import *\n",
    "\n",
    "CODE = b\"\\x55\\x48\\x8b\\x05\\xb8\\x13\\x00\\x00\"\n",
    "from collections import defaultdict\n",
    "class State():\n",
    "    mem = defaultdict(None)\n",
    "    reg = defaultdict(None)\n",
    "\n",
    "def interp(op, state):\n",
    "    \n",
    "    match op.mnemonic:\n",
    "        case \"add\":\n",
    "            state.reg[op.operands[0].reg] += state[op.operands[1].reg]\n",
    "        case \"sub\":\n",
    "            state[op.operands[0].reg] -= state[op.operands[1].reg]\n",
    "        case \"mov\":\n",
    "            if op.operands[0].type == X86_OP_IMM:\n",
    "                state[op.operands[0].reg] = op.operands[1].imm\n",
    "            elif op.operands[0].type == X86_OP_REG:\n",
    "                op.operands[0].reg = op.operands[1].reg\n",
    "            elif op.operands[0].type == X86_OP_MEM:\n",
    "                state[op.operands[0].reg] = mem[state[op.operands[1].reg + op.operands[1].disp]\n",
    "    return state\n",
    "state = defaultdict(None)\n",
    "for i in md.disasm(CODE, 0x1000):\n",
    "    print(dir(i))\n",
    "    interp(i, state)\n"
   ]
  },
  {
   "cell_type": "markdown",
   "metadata": {},
   "source": [
    "Ok so it gets hairier and harrier\n",
    "\n",
    "Getting the smeanuitcs\n",
    "\n"
   ]
  },
  {
   "cell_type": "code",
   "execution_count": null,
   "metadata": {},
   "outputs": [],
   "source": [
    "import pypcode\n",
    "class State():\n",
    "    space = defaultdict(defaultdict)\n",
    "\n",
    "def interp(insn, state):\n",
    "    match insn.op:\n",
    "        case pypcode.PcodeOp.INT_ADD:\n",
    "            \n"
   ]
  }
 ],
 "metadata": {
  "kernelspec": {
   "display_name": "Python 3",
   "language": "python",
   "name": "python3"
  },
  "language_info": {
   "codemirror_mode": {
    "name": "ipython",
    "version": 3
   },
   "file_extension": ".py",
   "mimetype": "text/x-python",
   "name": "python",
   "nbconvert_exporter": "python",
   "pygments_lexer": "ipython3",
   "version": "3.10.12"
  }
 },
 "nbformat": 4,
 "nbformat_minor": 2
}
