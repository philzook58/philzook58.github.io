{
 "cells": [
  {
   "cell_type": "markdown",
   "metadata": {},
   "source": [
    "Alexa van hattum talk:\n",
    "\n",
    "lightweight modular verification\n",
    "software enforced isolation\n",
    "unmapped guard pages\n",
    "\n",
    "lucet is precursor to cranelift\n",
    "veriwasm - static analysis of x86 to determine linar memory and don't go outside\n",
    "\n",
    "black boxing is infeasible. Cranelift is too efficiemt.\n",
    "\n",
    "crocus smt verified instruction lowerign\n",
    "\n",
    "isle\n",
    "cranelift ir\n",
    "machine code\n",
    "predciates\n",
    "intermiedtae temporary stuff\n",
    "\n",
    "\n",
    "load (shl x *i32const 3)\n",
    "\n",
    "mov (base , %x ,8)\n",
    "\n",
    "\n",
    "guest controlled out of bouds read/ write x86_64\n",
    "\n",
    "\n",
    "\n",
    "spectec\n",
    "\n",
    "utogenerated target instruction sepcs\n",
    "\n",
    "rule chaining\n",
    "\n",
    "cranelift ir representation\n",
    "\n",
    "ASLp tool. Lam 2023 . concrete smenatics. \n",
    "\n",
    "ASL arhcitectue specification alnggagues\n",
    "\n",
    "lift-off trustworhy binary lifter aslp. \n",
    "forked to support symbolic immeidates"
   ]
  }
 ],
 "metadata": {
  "language_info": {
   "name": "python"
  }
 },
 "nbformat": 4,
 "nbformat_minor": 2
}
