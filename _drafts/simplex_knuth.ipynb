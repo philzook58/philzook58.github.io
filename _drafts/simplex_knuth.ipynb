{
 "cells": [
  {
   "cell_type": "markdown",
   "id": "3f5b0cf8",
   "metadata": {},
   "source": [
    "I think fourier motzkin is a knuth bendix like procedure\n",
    "\n",
    "\n",
    "Consider the normal form \n",
    "Ax == 0\n",
    "x >= 0\n",
    "\n",
    "Then we can convert the matrix A into its position and negative parts `A = A+ - A-`\n",
    "\n",
    "A+x == A-x \n",
    "x >= 0\n",
    "\n",
    "Now we can just be working in R+. Absorb x >= 0 into the domain rather than as a constraint on R\n",
    "\n",
    "A+x == A-x\n",
    "x in R+\n",
    "\n",
    "Now you can never talk about subtraction or negation anywhere.\n",
    "\n",
    "\n",
    "\n",
    "Linear programming is like ordered rewriting? \n",
    "Take the objective `c^T x` and sperate it into $c_{+}^T x + c_{-}^T x` \n",
    "Or take the objective, and create a term ordering? \n",
    "Or a dual term ordering?\n",
    "\n",
    "\n",
    "Take the dual?\n",
    "Duals are proof objects in linear programming.\n",
    "\n",
    "Aplus x + y+ == Aminus x + y- \n",
    "x,y+,y- >= 0\n",
    "You can track how much of each constraint was used.\n",
    "\n",
    "Extended formulations can be used to track proof objects often (always?)\n",
    "Extended grobner from module blog post\n",
    "Extended term rewriting with proof param.\n",
    "\n",
    "max lam mu, min cx + lamAx + mu x \n",
    "\n",
    "\n",
    "lam A + mu = c\n",
    "mu >= 0\n",
    "\n",
    "\n",
    "There is also something going on with unimodular, smith forms, in both cases.\n",
    "Graver and Hilbert can be used to solve IP.\n",
    "\n",
    "\n",
    "Pavel seemed to agree that you might be able to encode inequalities into equations by generating new variables q >= 0 ---> p**2 = q\n",
    " In this sense maybe fourier motzein can be encoded to grobner bases?\n",
    "\n",
    "\n",
    "Inequality eliminiation. Lattices also enable this?\n"
   ]
  },
  {
   "cell_type": "code",
   "execution_count": null,
   "id": "704965ea",
   "metadata": {},
   "outputs": [],
   "source": [
    "from sympy import *\n",
    "x,y = symbols(\"a b\")\n",
    "\n"
   ]
  },
  {
   "cell_type": "markdown",
   "id": "ee08f4f9",
   "metadata": {},
   "source": [
    "We can split into `x = x+ + x-` with `x+ >= 0 and x- >= 0`\n",
    "\n",
    "(A+ - A-)(x+ - x-) >= 0\n",
    "\n",
    "if we add the constaint\n",
    "A+x- + A-x+ == 0\n",
    "\n",
    "A+x+ + A-x- >= 0\n",
    "\n",
    "\n"
   ]
  }
 ],
 "metadata": {
  "kernelspec": {
   "display_name": ".venv",
   "language": "python",
   "name": "python3"
  },
  "language_info": {
   "codemirror_mode": {
    "name": "ipython",
    "version": 3
   },
   "file_extension": ".py",
   "mimetype": "text/x-python",
   "name": "python",
   "nbconvert_exporter": "python",
   "pygments_lexer": "ipython3",
   "version": "3.12.3"
  }
 },
 "nbformat": 4,
 "nbformat_minor": 5
}
