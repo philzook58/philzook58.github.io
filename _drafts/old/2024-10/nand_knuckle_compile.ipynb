{
 "cells": [
  {
   "cell_type": "markdown",
   "metadata": {},
   "source": [
    "# Compiler Equational\n",
    "\n"
   ]
  },
  {
   "cell_type": "markdown",
   "metadata": {},
   "source": [
    "#  Nand2Knuck\n",
    "\n",
    "Mike Gordon https://arxiv.org/abs/1806.04002 obit\n",
    "use shallow HOL for circuits\n",
    "shallow hol for hoarse logic? State -> State -> Bool\n",
    "\n",
    "\n",
    "https://www.nand2tetris.org/course\n",
    "\n",
    "https://www.philipzucker.com/nand2tetris-chc/\n",
    "https://www.philipzucker.com/nand2tetris-cpu/\n",
    "https://www.philipzucker.com/nand2tetris-in-verilog-and-fpga-and-coq/\n",
    "https://github.com/philzook58/nand2coq"
   ]
  },
  {
   "cell_type": "code",
   "execution_count": 6,
   "metadata": {},
   "outputs": [
    {
     "ename": "SyntaxError",
     "evalue": "invalid syntax (3501921742.py, line 12)",
     "output_type": "error",
     "traceback": [
      "\u001b[0;36m  Cell \u001b[0;32mIn[6], line 12\u001b[0;36m\u001b[0m\n\u001b[0;31m    test_nand()_\u001b[0m\n\u001b[0m               ^\u001b[0m\n\u001b[0;31mSyntaxError\u001b[0m\u001b[0;31m:\u001b[0m invalid syntax\n"
     ]
    }
   ],
   "source": [
    "Nandtable = [\n",
    "    [1, 1, 0],\n",
    "    [1, 0, 1],\n",
    "    [0, 1, 1],\n",
    "    [0, 0, 1]\n",
    "]\n",
    "\n",
    "def test_nand():\n",
    "    for x,y,z in Nandtable:\n",
    "        assert not (x and y) == z\n",
    "\n",
    "test_nand()\n",
    "\n",
    "def fuzz_nand():\n",
    "    for testnum in range(1000):\n",
    "        x = random.randint()\n",
    "        y = random.randint()\n",
    "        z = nand(x, y)\n",
    "\n"
   ]
  },
  {
   "cell_type": "code",
   "execution_count": 1,
   "metadata": {},
   "outputs": [
    {
     "data": {
      "text/html": [
       "&#8870;ForAll([x, y, z], CNand(x, y, z) == (~(x & y) == z))"
      ],
      "text/plain": [
       "|- ForAll([x, y, z], CNand(x, y, z) == (~(x & y) == z))"
      ]
     },
     "execution_count": 1,
     "metadata": {},
     "output_type": "execute_result"
    }
   ],
   "source": [
    "import knuckledragger as kd\n",
    "from knuckledragger import lemma, axiom, define\n",
    "\n",
    "from z3 import *\n",
    "\n",
    "B = BoolSort()\n",
    "BV1 = BitVecSort(1)\n",
    "x,y,z,w,u,v = Consts(\"x y z w u v\", BV1)\n",
    "\"\"\"\n",
    "CNand = Function(\"Nand\", B,B,B,B)\n",
    "nand_def = axiom(ForAll([x,y,z], CNand(x,y,z) == \n",
    "     Or(And(x == True,  y == True,  z == False),\n",
    "        And(x == True,  y == False, z == True),\n",
    "        And(x == False, y == True,  z == True),\n",
    "        And(x == False, y == False, z == True))))\n",
    "\"\"\"\n",
    "\n",
    "CNand = define(\"CNand\", [x,y,z], Or(\n",
    "    And(x == 1, y == 1, z == 0),\n",
    "    And(x == 1, y == 0, z == 1),\n",
    "    And(x == 0, y == 1, z == 1),\n",
    "    And(x == 0, y == 0, z == 1)))\n",
    "\n",
    "\n",
    "test1 = lemma(CNand(True,True,False), by=[CNand.defn])\n",
    "\n",
    "nand_fun = lemma(ForAll([x,y,z], CNand(x,y,z) == (~(x & y) == z)), by=[CNand.defn])\n",
    "nand_fun"
   ]
  },
  {
   "cell_type": "code",
   "execution_count": 2,
   "metadata": {},
   "outputs": [
    {
     "ename": "LemmaError",
     "evalue": "(CNand(1, 1, 1), 'Countermodel', [knuckledragger_goal = True,\n by_0 = True,\n CNand = [(1, 1, 1) -> False,\n          else ->\n          Or(Not(Or(Not(Var(1) == 1),\n                    Not(Var(2) == 0),\n                    Not(Var(0) == 1))),\n             Not(Or(Not(Var(1) == 0),\n                    Not(Var(0) == 1),\n                    Not(Var(2) == 1))),\n             Not(Or(Not(Var(1) == 1),\n                    Not(Var(2) == 1),\n                    Not(Var(0) == 0))),\n             Not(Or(Not(Var(1) == 0),\n                    Not(Var(2) == 1),\n                    Not(Var(0) == 0))))]])",
     "output_type": "error",
     "traceback": [
      "\u001b[0;31m---------------------------------------------------------------------------\u001b[0m",
      "\u001b[0;31mLemmaError\u001b[0m                                Traceback (most recent call last)",
      "Cell \u001b[0;32mIn[2], line 1\u001b[0m\n\u001b[0;32m----> 1\u001b[0m test2 \u001b[38;5;241m=\u001b[39m \u001b[43mlemma\u001b[49m\u001b[43m(\u001b[49m\u001b[43mCNand\u001b[49m\u001b[43m(\u001b[49m\u001b[38;5;28;43;01mTrue\u001b[39;49;00m\u001b[43m,\u001b[49m\u001b[38;5;28;43;01mTrue\u001b[39;49;00m\u001b[43m,\u001b[49m\u001b[38;5;28;43;01mTrue\u001b[39;49;00m\u001b[43m)\u001b[49m\u001b[43m,\u001b[49m\u001b[43m \u001b[49m\u001b[43mby\u001b[49m\u001b[38;5;241;43m=\u001b[39;49m\u001b[43m[\u001b[49m\u001b[43mCNand\u001b[49m\u001b[38;5;241;43m.\u001b[39;49m\u001b[43mdefn\u001b[49m\u001b[43m]\u001b[49m\u001b[43m)\u001b[49m\n",
      "File \u001b[0;32m~/Documents/python/knuckledragger/knuckledragger/kernel.py:73\u001b[0m, in \u001b[0;36mlemma\u001b[0;34m(thm, by, admit, timeout, dump)\u001b[0m\n\u001b[1;32m     71\u001b[0m \u001b[38;5;28;01mif\u001b[39;00m res \u001b[38;5;241m!=\u001b[39m z3\u001b[38;5;241m.\u001b[39munsat:\n\u001b[1;32m     72\u001b[0m     \u001b[38;5;28;01mif\u001b[39;00m res \u001b[38;5;241m==\u001b[39m z3\u001b[38;5;241m.\u001b[39msat:\n\u001b[0;32m---> 73\u001b[0m         \u001b[38;5;28;01mraise\u001b[39;00m LemmaError(thm, \u001b[38;5;124m\"\u001b[39m\u001b[38;5;124mCountermodel\u001b[39m\u001b[38;5;124m\"\u001b[39m, s\u001b[38;5;241m.\u001b[39mmodel())\n\u001b[1;32m     74\u001b[0m     \u001b[38;5;28;01mraise\u001b[39;00m LemmaError(\u001b[38;5;124m\"\u001b[39m\u001b[38;5;124mlemma\u001b[39m\u001b[38;5;124m\"\u001b[39m, thm, res)\n\u001b[1;32m     75\u001b[0m \u001b[38;5;28;01melse\u001b[39;00m:\n",
      "\u001b[0;31mLemmaError\u001b[0m: (CNand(1, 1, 1), 'Countermodel', [knuckledragger_goal = True,\n by_0 = True,\n CNand = [(1, 1, 1) -> False,\n          else ->\n          Or(Not(Or(Not(Var(1) == 1),\n                    Not(Var(2) == 0),\n                    Not(Var(0) == 1))),\n             Not(Or(Not(Var(1) == 0),\n                    Not(Var(0) == 1),\n                    Not(Var(2) == 1))),\n             Not(Or(Not(Var(1) == 1),\n                    Not(Var(2) == 1),\n                    Not(Var(0) == 0))),\n             Not(Or(Not(Var(1) == 0),\n                    Not(Var(2) == 1),\n                    Not(Var(0) == 0))))]])"
     ]
    }
   ],
   "source": [
    "test2 = lemma(CNand(True,True,True), by=[CNand.defn])"
   ]
  },
  {
   "cell_type": "code",
   "execution_count": 3,
   "metadata": {},
   "outputs": [],
   "source": [
    "#CNot = Function(\"CNot\", B, B, B)\n",
    "#not_def = ForAll([x,y], CNot(x,y) == CNand(x,x,y))\n",
    "\n",
    "CNot = define(\"CNot\", [x,y], CNand(x,x,y))\n",
    "lemma(ForAll([x,y], CNot(x,y) == (~x == y)), by=[CNand.defn, CNot.defn])\n",
    "\n",
    "cnot_fun = lemma(ForAll([x,y], CNot(x,y) == (~x == y)), by=[nand_fun, CNot.defn])\n",
    "\n",
    "\n",
    "CAnd = define(\"CAnd\", [x,y,z], Exists([w], And(CNand(x,y,w), CNot(w,z))))\n",
    "\n",
    "cand_fun = lemma(ForAll([x,y,z], CAnd(x,y,z) == (x & y == z)), by=[cnot_fun, nand_fun, CAnd.defn])\n",
    "\n",
    "\n",
    "COr = define(\"COr\", [x,y,z], Exists([w,u], And(CNot(x,w), CNot(y,u), \n",
    "                                                   CNand(w,u,z))))\n",
    "\n",
    "cor_fun = lemma(ForAll([x,y,z], COr(x,y,z) == ((x | y) == z)), by=[cnot_fun, nand_fun, COr.defn])\n",
    "\n",
    "a,b,out,sel,sela,selb,notsel = Consts(\"a b out sel sela selb notsel\", BV1)\n",
    "Mux = define(\"Mux\", [a,b,sel,out], Exists([sela,selb,notsel], And(\n",
    "    CNot(sel, notsel), \n",
    "    CAnd(notsel, a, sela),\n",
    "    CAnd(sel, b, selb),\n",
    "    COr(sela, selb, out))))\n",
    "\n",
    "mux_fun = lemma(ForAll([a,b,sel,out], Mux(a,b,sel,out) == (out == If(sel == 0, a, b))), by=[Mux.defn, cnot_fun, cand_fun, cor_fun])\n",
    "\n"
   ]
  },
  {
   "cell_type": "code",
   "execution_count": 18,
   "metadata": {},
   "outputs": [],
   "source": [
    "BV1 = BitVecSort(1)\n",
    "BV2 = BitVecSort(2)\n",
    "BV4 = BitVecSort(4)\n",
    "BV8 = BitVecSort(8)\n",
    "BV16 = BitVecSort(16)\n",
    "\n",
    "#bool2bv = define(\"bool2bv\", [x], If(x, BitVecVal(1,1), BitVecVal(0,1)))\n",
    "#bv2bool = define(\"bv2bool\", [x], x != BitVecVal(0,1))\n",
    "\n",
    "# but maybe we hsould have never done Bool in the first place.\n",
    "x2,y2,z2 = Consts(\"x2 y2 z2\", BV2)\n",
    "CNand2 = define(\"CNand2\", [x2,y2,z2], CNand(Extract(0,0,x2), Extract(0,0,y2), Extract(0,0,z2)) &\n",
    "                                    CNand(Extract(1,1,x2), Extract(1,1,y2), Extract(1,1,z2)))\n",
    "\n",
    "nand2_fun = lemma(ForAll([x2,y2,z2], CNand2(x2,y2,z2) == (~(x2 & y2) == z2)), by=[nand_fun, CNand2.defn])\n",
    "\n",
    "\n",
    "\n",
    "\n",
    "\n"
   ]
  },
  {
   "cell_type": "markdown",
   "metadata": {},
   "source": [
    "## Chapter 2\n"
   ]
  },
  {
   "cell_type": "code",
   "execution_count": null,
   "metadata": {},
   "outputs": [],
   "source": [
    "half_adder = define(\"HalfAdder\", [a,b,c,s], \n",
    "    Or(\n",
    "        And(a == False, b == False, c == False, s == False),\n",
    "        And(a == False, b == True,  c == False, s == True),\n",
    "        And(a == True,  b == False, c == False, s == True),\n",
    "        And(a == True,  b == True,  c == True,  s == False)\n",
    "    ))\n",
    "\n",
    "\n",
    "# FullAdder\n",
    "\n",
    "\n",
    "# RippleCarryAdder\n",
    "\n",
    "\n",
    "# ALU\n"
   ]
  },
  {
   "cell_type": "markdown",
   "metadata": {},
   "source": [
    "https://lawrencecpaulson.github.io/2023/01/04/Hardware_Verification.html\n",
    "https://www.cl.cam.ac.uk/techreports/UCAM-CL-TR-77.html Why higher-order logic is a good formalisation for specifying and verifying hardware\n",
    "\n",
    "Use signals. Implicit clock.\n",
    "\n",
    "relational frp"
   ]
  },
  {
   "cell_type": "code",
   "execution_count": null,
   "metadata": {},
   "outputs": [],
   "source": [
    "def Signal(T): # a sequence\n",
    "     return ArraySort(IntSort(), T)\n",
    "# tla plus\n",
    "\n",
    "flipflip = kd.define(\"flipflip\", [in1, reset, out1], \n",
    "                     ForAll([t], If(reset[t], out1[t+1] == 0, out1[t+1] == in1[t])))\n",
    "\n",
    "\n",
    "def lift(f):\n",
    "    \"\"\" lift combinatorial relation to a signal relation\"\"\"\n",
    "    args = FreshConst(Signal(f.domain(i))) for i in f.arity()\n",
    "    return Lambda(args, ForAll([t], f(*[arg[t] for arg in args])))\n",
    "\n",
    "And16 = kd.define(\"And16\", lift(And16))"
   ]
  },
  {
   "cell_type": "code",
   "execution_count": null,
   "metadata": {},
   "outputs": [],
   "source": [
    "\n",
    "#yada yada\n",
    "\n",
    "\n",
    "flipflip == Function(\"D\",B,B,B,B)\n",
    "flip_flip_def = ForAll([x,y])\n"
   ]
  },
  {
   "cell_type": "markdown",
   "metadata": {},
   "source": [
    "## CPU Inns\n",
    "use simp as slow evaluator.\n",
    "\n"
   ]
  },
  {
   "cell_type": "code",
   "execution_count": 1,
   "metadata": {},
   "outputs": [],
   "source": [
    "from z3 import *\n",
    "import knuckledragger as kd\n",
    "Comp, comp = EnumSort(\"Comp\",  [\"ZERO\", \"ONE\", \"NEGONE\", \"D\", \"A\", \"M\", \"NOTD\", \"NOTA\", \"NOTM\", \"NEGD\", \"NEGA\", \"NEGM\", \"INCD\", \"INCA\", \"INCM\", \"DECD\", \"DECA\", \"DECM\", \"ADD_DA\", \"ADD_DM\", \"SUB_DA\", \"SUB_DM\", \"SUB_AD\", \"SUB_MD\", \"AND_DA\", \"AND_DM\", \"OR_DA\", \"OR_DM\"])\n",
    "Dest, dest = EnumSort(\"Dest\", [\"NULL\", \"M\", \"D\", \"MD\", \"A\", \"AM\", \"AD\", \"AMD\"])\n",
    "Jump, jump = EnumSort(\"Jump\", [\"NULL\", \"JGT\", \"JEQ\", \"JGE\", \"JLT\", \"JNE\", \"JLE\", \"JMP\"])"
   ]
  },
  {
   "cell_type": "code",
   "execution_count": 11,
   "metadata": {},
   "outputs": [],
   "source": [
    "Insn = Datatype(\"Insn\")\n",
    "Insn.declare(\"A\", (\"lit\", BitVecSort(15)))\n",
    "Insn.declare(\"C\", (\"comp\", Comp), (\"dest\", Dest), (\"jump\", Jump))\n",
    "Insn = Insn.create()\n",
    "\n",
    "BV16 = BitVecSort(16)\n",
    "CPUState = kd.notation.Record(\"CPUState\", (\"mem\", ArraySort(BV16, BV16)), (\"pc\", BV16), (\"a\", BV16), (\"d\", BV16))\n",
    "\n",
    "\n"
   ]
  },
  {
   "cell_type": "code",
   "execution_count": 17,
   "metadata": {},
   "outputs": [
    {
     "name": "stdout",
     "output_type": "stream",
     "text": [
      "WARNING: Redefining function exec_insn from |- ForAll([st, i],\n",
      "       exec_insn(st, i) ==\n",
      "       If(is(A, i),\n",
      "          mk(mem(st), pc(st), Concat(0, lit(i)), d(st)),\n",
      "          st)) to ForAll([st, i],\n",
      "       exec_insn(st, i) ==\n",
      "       If(is(A, i),\n",
      "          mk(mem(st), pc(st), Concat(0, lit(i)), d(st)),\n",
      "          If(is(C, i),\n",
      "             mk(mem(st), pc(st), a(st), d(st)),\n",
      "             st)))\n"
     ]
    },
    {
     "data": {
      "text/html": [
       "exec_insn"
      ],
      "text/plain": [
       "exec_insn"
      ]
     },
     "execution_count": 17,
     "metadata": {},
     "output_type": "execute_result"
    }
   ],
   "source": [
    "i = Const(\"i\", Insn)\n",
    "st = Const(\"st\", CPUState)\n",
    "c = kd.notation.Cond()\n",
    "#c.when(i.is_C).then(Cond().when(i.comp.is_ZERO).then())\n",
    "c.when(i.is_A).then(CPUState.mk(st.mem, st.pc, Concat(BitVecVal(0, 1), i.lit), st.d))\n",
    "\n",
    "c.when(i.is_C).then(kd.Cond()\n",
    "                    cond(i.comp.is_ZERO, CPUState.mk(st.mem, st.pc, st.a, st.d))\n",
    "                    .when().then().CPUState.mk(st.mem, st.pc, st.a, st.d))\n",
    "e = c.otherwise(st)\n",
    "kd.define(\"exec_insn\", [st, i], e)"
   ]
  },
  {
   "cell_type": "code",
   "execution_count": 9,
   "metadata": {},
   "outputs": [],
   "source": [
    "z3.Z3_DEBUG = True"
   ]
  },
  {
   "cell_type": "code",
   "execution_count": 10,
   "metadata": {},
   "outputs": [
    {
     "ename": "Z3Exception",
     "evalue": "Z3 sort expected",
     "output_type": "error",
     "traceback": [
      "\u001b[0;31m---------------------------------------------------------------------------\u001b[0m",
      "\u001b[0;31mZ3Exception\u001b[0m                               Traceback (most recent call last)",
      "\u001b[0;32m/tmp/ipykernel_2765546/2481600882.py\u001b[0m in \u001b[0;36m?\u001b[0;34m()\u001b[0m\n\u001b[1;32m      1\u001b[0m \u001b[0mMyType\u001b[0m \u001b[0;34m=\u001b[0m \u001b[0mDatatype\u001b[0m\u001b[0;34m(\u001b[0m\u001b[0;34m'MyType'\u001b[0m\u001b[0;34m)\u001b[0m\u001b[0;34m\u001b[0m\u001b[0;34m\u001b[0m\u001b[0m\n\u001b[0;32m----> 2\u001b[0;31m \u001b[0mMyType\u001b[0m\u001b[0;34m.\u001b[0m\u001b[0mdeclare\u001b[0m\u001b[0;34m(\u001b[0m\u001b[0;34m'mk_mytype'\u001b[0m\u001b[0;34m,\u001b[0m \u001b[0;34m(\u001b[0m\u001b[0;34m'children'\u001b[0m\u001b[0;34m,\u001b[0m \u001b[0mArraySort\u001b[0m\u001b[0;34m(\u001b[0m\u001b[0mIntSort\u001b[0m\u001b[0;34m(\u001b[0m\u001b[0;34m)\u001b[0m\u001b[0;34m,\u001b[0m \u001b[0mMyType\u001b[0m\u001b[0;34m)\u001b[0m\u001b[0;34m)\u001b[0m\u001b[0;34m)\u001b[0m\u001b[0;34m\u001b[0m\u001b[0;34m\u001b[0m\u001b[0m\n\u001b[0m\u001b[1;32m      3\u001b[0m \u001b[0mMyType\u001b[0m \u001b[0;34m=\u001b[0m \u001b[0mMyType\u001b[0m\u001b[0;34m.\u001b[0m\u001b[0mcreate\u001b[0m\u001b[0;34m(\u001b[0m\u001b[0;34m)\u001b[0m\u001b[0;34m\u001b[0m\u001b[0;34m\u001b[0m\u001b[0m\n",
      "\u001b[0;32m~/.local/lib/python3.10/site-packages/z3/z3.py\u001b[0m in \u001b[0;36m?\u001b[0;34m(*sig)\u001b[0m\n\u001b[1;32m   4764\u001b[0m     \u001b[0mr\u001b[0m \u001b[0;34m=\u001b[0m \u001b[0msig\u001b[0m\u001b[0;34m[\u001b[0m\u001b[0marity\u001b[0m\u001b[0;34m]\u001b[0m\u001b[0;34m\u001b[0m\u001b[0;34m\u001b[0m\u001b[0m\n\u001b[1;32m   4765\u001b[0m     \u001b[0md\u001b[0m \u001b[0;34m=\u001b[0m \u001b[0msig\u001b[0m\u001b[0;34m[\u001b[0m\u001b[0;36m0\u001b[0m\u001b[0;34m]\u001b[0m\u001b[0;34m\u001b[0m\u001b[0;34m\u001b[0m\u001b[0m\n\u001b[1;32m   4766\u001b[0m     \u001b[0;32mif\u001b[0m \u001b[0mz3_debug\u001b[0m\u001b[0;34m(\u001b[0m\u001b[0;34m)\u001b[0m\u001b[0;34m:\u001b[0m\u001b[0;34m\u001b[0m\u001b[0;34m\u001b[0m\u001b[0m\n\u001b[1;32m   4767\u001b[0m         \u001b[0;32mfor\u001b[0m \u001b[0ms\u001b[0m \u001b[0;32min\u001b[0m \u001b[0msig\u001b[0m\u001b[0;34m:\u001b[0m\u001b[0;34m\u001b[0m\u001b[0;34m\u001b[0m\u001b[0m\n\u001b[0;32m-> 4768\u001b[0;31m             \u001b[0m_z3_assert\u001b[0m\u001b[0;34m(\u001b[0m\u001b[0mis_sort\u001b[0m\u001b[0;34m(\u001b[0m\u001b[0ms\u001b[0m\u001b[0;34m)\u001b[0m\u001b[0;34m,\u001b[0m \u001b[0;34m\"Z3 sort expected\"\u001b[0m\u001b[0;34m)\u001b[0m\u001b[0;34m\u001b[0m\u001b[0;34m\u001b[0m\u001b[0m\n\u001b[0m\u001b[1;32m   4769\u001b[0m             \u001b[0m_z3_assert\u001b[0m\u001b[0;34m(\u001b[0m\u001b[0ms\u001b[0m\u001b[0;34m.\u001b[0m\u001b[0mctx\u001b[0m \u001b[0;34m==\u001b[0m \u001b[0mr\u001b[0m\u001b[0;34m.\u001b[0m\u001b[0mctx\u001b[0m\u001b[0;34m,\u001b[0m \u001b[0;34m\"Context mismatch\"\u001b[0m\u001b[0;34m)\u001b[0m\u001b[0;34m\u001b[0m\u001b[0;34m\u001b[0m\u001b[0m\n\u001b[1;32m   4770\u001b[0m     \u001b[0mctx\u001b[0m \u001b[0;34m=\u001b[0m \u001b[0md\u001b[0m\u001b[0;34m.\u001b[0m\u001b[0mctx\u001b[0m\u001b[0;34m\u001b[0m\u001b[0;34m\u001b[0m\u001b[0m\n\u001b[1;32m   4771\u001b[0m     \u001b[0;32mif\u001b[0m \u001b[0mlen\u001b[0m\u001b[0;34m(\u001b[0m\u001b[0msig\u001b[0m\u001b[0;34m)\u001b[0m \u001b[0;34m==\u001b[0m \u001b[0;36m2\u001b[0m\u001b[0;34m:\u001b[0m\u001b[0;34m\u001b[0m\u001b[0;34m\u001b[0m\u001b[0m\n",
      "\u001b[0;32m~/.local/lib/python3.10/site-packages/z3/z3.py\u001b[0m in \u001b[0;36m?\u001b[0;34m(cond, msg)\u001b[0m\n\u001b[1;32m    105\u001b[0m \u001b[0;32mdef\u001b[0m \u001b[0m_z3_assert\u001b[0m\u001b[0;34m(\u001b[0m\u001b[0mcond\u001b[0m\u001b[0;34m,\u001b[0m \u001b[0mmsg\u001b[0m\u001b[0;34m)\u001b[0m\u001b[0;34m:\u001b[0m\u001b[0;34m\u001b[0m\u001b[0;34m\u001b[0m\u001b[0m\n\u001b[1;32m    106\u001b[0m     \u001b[0;32mif\u001b[0m \u001b[0;32mnot\u001b[0m \u001b[0mcond\u001b[0m\u001b[0;34m:\u001b[0m\u001b[0;34m\u001b[0m\u001b[0;34m\u001b[0m\u001b[0m\n\u001b[0;32m--> 107\u001b[0;31m         \u001b[0;32mraise\u001b[0m \u001b[0mZ3Exception\u001b[0m\u001b[0;34m(\u001b[0m\u001b[0mmsg\u001b[0m\u001b[0;34m)\u001b[0m\u001b[0;34m\u001b[0m\u001b[0;34m\u001b[0m\u001b[0m\n\u001b[0m",
      "\u001b[0;31mZ3Exception\u001b[0m: Z3 sort expected"
     ]
    }
   ],
   "source": [
    "MyType = Datatype('MyType')\n",
    "MyType.declare('mk_mytype', ('children', ArraySort(IntSort(), MyType)))\n",
    "MyType = MyType.create()"
   ]
  },
  {
   "cell_type": "code",
   "execution_count": 7,
   "metadata": {},
   "outputs": [],
   "source": [
    "Vec3 = z3.Datatype(\"Vec3\")\n",
    "Vec3.declare(\"Vec3__init\",\n",
    "  (\"x\", z3.IntSort()),\n",
    "  (\"y\", z3.IntSort()),\n",
    "  (\"z\", z3.IntSort())\n",
    ")\n",
    "Vec3 = Vec3.create()\n",
    "\n",
    "PointerVec3 = z3.Datatype(\"Pointer__Vec3\")\n",
    "PointerVec3.declare(\"Pointer__Vec3__init\",\n",
    "  (\"data\", z3.ArraySort(z3.BitVecSort(32), Vec3)),\n",
    "  (\"nindices\", z3.IntSort()),\n",
    "  (\"indices\", z3.ArraySort(z3.IntSort(), z3.BitVecSort(32)))\n",
    ")\n",
    "PointerVec3 = PointerVec3.create()"
   ]
  },
  {
   "cell_type": "code",
   "execution_count": null,
   "metadata": {},
   "outputs": [],
   "source": [
    "from dataclasses import dataclass\n",
    "from enum import Enum       \n",
    "import typing\n",
    "from typing import List, Union\n",
    " \n",
    "Comp = Enum('Comp', '''ZERO ONE NEGONE D A M NOTD NOTA NOTM NEGD NEGA NEGM INCD INCA INCM DECD DECA DECM \n",
    "                         ADD_DA ADD_DM SUB_DA SUB_DM SUB_AD SUB_MD AND_DA AND_DM OR_DA OR_DM''') \n",
    "Dest = Enum('Dest', 'NULL M D MD A AM AD AMD') \n",
    "Jump = Enum('Jump', 'NULL JGT JEQ JGE JLT JNE JLE JMP') \n",
    " \n",
    "@dataclass\n",
    "class Ainstr:\n",
    "    lit: int\n",
    " \n",
    "@dataclass\n",
    "class Cinstr:\n",
    "    dest: Dest\n",
    "    comp: Comp\n",
    "    jump: Jump\n",
    " \n",
    "@dataclass\n",
    "class HackState:\n",
    "    rA: int\n",
    "    rD: int\n",
    "    pc: int\n",
    "    mem: List[int]\n",
    " \n",
    "def execute(instr : Cinstr, s : HackState):\n",
    "    A = s.rA\n",
    "    D = s.rD\n",
    "    pc = s.pc\n",
    "    M = s.mem[A]\n",
    "    \n",
    "    if instr.comp == Comp.ZERO:\n",
    "        comp = 0\n",
    "    elif instr.comp == Comp.ONE:\n",
    "        comp = 1\n",
    "    elif instr.comp == Comp.NEGONE:\n",
    "        comp = -1\n",
    "    elif instr.comp == Comp.D:\n",
    "        comp = D\n",
    "    elif instr.comp == Comp.A:\n",
    "        comp = A\n",
    "    elif instr.comp == Comp.M:\n",
    "        comp = M\n",
    "    elif instr.comp == Comp.NOTD:\n",
    "        comp = ~D\n",
    "    elif instr.comp == Comp.NOTA:\n",
    "        comp = ~A\n",
    "    elif instr.comp == Comp.NOTM:\n",
    "        comp = ~M\n",
    "    elif instr.comp == Comp.NEGD:\n",
    "        comp = -D\n",
    "    elif instr.comp == Comp.NEGA:\n",
    "        comp = -A\n",
    "    elif instr.comp == Comp.NEGM:\n",
    "        comp = -M\n",
    "    elif instr.comp == Comp.INCD:\n",
    "        comp = D + 1\n",
    "    elif instr.comp == Comp.INCA:\n",
    "        comp = A + 1\n",
    "    elif instr.comp == Comp.INCM:\n",
    "        comp = M + 1\n",
    "    elif instr.comp == Comp.DECD:\n",
    "        comp = D - 1\n",
    "    elif instr.comp == Comp.DECA:\n",
    "        comp = A - 1\n",
    "    elif instr.comp == Comp.DECM:\n",
    "        comp = M - 1\n",
    "    elif instr.comp == Comp.ADD_DA:\n",
    "        comp = D + A\n",
    "    elif instr.comp == Comp.ADD_DM:\n",
    "        comp = D + M\n",
    "    elif instr.comp == Comp.SUB_DA:\n",
    "        comp = D - A\n",
    "    elif instr.comp == Comp.SUB_DM:\n",
    "        comp = D - M\n",
    "    elif instr.comp == Comp.SUB_AD:\n",
    "        comp = A - D\n",
    "    elif instr.comp == Comp.SUB_MD:\n",
    "        comp = M - D\n",
    "    elif instr.comp == Comp.AND_DA:\n",
    "        comp = D & A\n",
    "    elif instr.comp == Comp.AND_DM:\n",
    "        comp = D & M\n",
    "    elif instr.comp == Comp.OR_DA:\n",
    "        comp = D | S\n",
    "    elif instr.comp == Comp.OR_DM:\n",
    "        comp = D | M\n",
    "    else:\n",
    "        assert False\n",
    "    \n",
    "    if instr.dest == Dest.NULL:\n",
    "        pass\n",
    "    elif instr.dest == Dest.M:\n",
    "        M = comp\n",
    "    elif instr.dest == Dest.D:\n",
    "        D = comp\n",
    "    elif instr.dest == Dest.MD:\n",
    "        M = comp\n",
    "        D = comp\n",
    "    elif instr.dest == Dest.A:\n",
    "        A = comp\n",
    "    elif instr.dest == Dest.AM:\n",
    "        A = comp\n",
    "        M = comp\n",
    "    elif instr.dest == Dest.AD:\n",
    "        A = comp\n",
    "        D = comp\n",
    "    elif instr.dest == Dest.AMD:\n",
    "        A = comp\n",
    "        M = comp\n",
    "        D = comp\n",
    "    else:\n",
    "        assert False\n",
    "        \n",
    "    if instr.jump == Jump.NULL:\n",
    "        jump = False\n",
    "    elif instr.jump == Jump.JGT:\n",
    "        jump = comp > 0\n",
    "    elif instr.jump == Jump.JEQ:\n",
    "        jump = comp == 0\n",
    "    elif instr.jump == Jump.JGE:\n",
    "        jump = comp >= 0\n",
    "    elif instr.jump == Jump.JLT:\n",
    "        jump = comp < 0\n",
    "    elif instr.jump == Jump.JNE:\n",
    "        jump = comp != 0\n",
    "    elif instr.jump == Jump.JLE:\n",
    "        jump = comp <= 0\n",
    "    elif instr.jump == Jump.JMP:\n",
    "        jump = True\n",
    "    else:\n",
    "        assert False\n",
    "    \n",
    "    # we may not want to mutate here.\n",
    "    # return comp, jump, dest instead?\n",
    "    if jump:\n",
    "        s.pc = s.rA\n",
    "    else:\n",
    "        s.pc = pc + 1\n",
    "    \n",
    "    s.mem[s.rA] = M #??? What is the order here?\n",
    "    s.rA = A\n",
    "    s.rD = D\n",
    " \n",
    "    # return A, D, M, jump ?\n",
    "    return s\n",
    " \n",
    "Instr = Union[Ainstr,Cinstr]\n",
    " \n",
    "def fetch(rom : List[Instr], s : HackState) -> Instr:\n",
    "    return rom[s.pc]\n",
    " \n",
    "def run(rom):\n",
    "    # hmm. We should make 16 bit vectors.\n",
    "    state = HackState(0,0,0,[0]*2**13)\n",
    "    while state.pc != -1:\n",
    "        instr = fetch(rom, state)\n",
    "        state = execute(instr, state)\n",
    "    return state"
   ]
  },
  {
   "cell_type": "markdown",
   "metadata": {},
   "source": [
    "# Extract\n",
    "In principle, extraction to verilog isn't that hard?\n",
    "We need to identify input and output.\n",
    "clk is implicit threaded everywhere\n",
    "flipflip is primitive\n",
    "\n",
    "\n"
   ]
  },
  {
   "cell_type": "markdown",
   "metadata": {},
   "source": [
    "# TD4 \n",
    "verilog\n",
    "vhdl\n",
    "knuckle\n"
   ]
  },
  {
   "cell_type": "code",
   "execution_count": null,
   "metadata": {},
   "outputs": [],
   "source": []
  },
  {
   "cell_type": "markdown",
   "metadata": {},
   "source": [
    "\n",
    "# Other\n",
    "Calculating compilers\n",
    "https://xavierleroy.org/courses/EUTypes-2019/\n"
   ]
  },
  {
   "cell_type": "code",
   "execution_count": 2,
   "metadata": {},
   "outputs": [],
   "source": [
    "def Switch(*cases):\n",
    "    if len(cases) == 1:\n",
    "        return cases[0]\n",
    "    assert len(cases) % 2 == 1\n",
    "    return If(case[0], cases[1], Switch(*cases[2:]))\n",
    "\n",
    "# Yeah, balancing all those parens isn't that bad.\n",
    "# maybe this abstraction isn't worth it\n",
    "\n",
    "\n",
    "#Switch(Aexpr.is_num(e), Aexpr.val(e),\n",
    "#       Aexpr.is_add(e), Aexpr.val(e[0]), Aexpr.val(e[1])),\n",
    "#       IntVal(42)\n",
    "#       )"
   ]
  },
  {
   "cell_type": "code",
   "execution_count": 25,
   "metadata": {},
   "outputs": [],
   "source": [
    "from z3 import *\n",
    "def lemma(thm, by=[], admit=False):\n",
    "    if admit:\n",
    "        print(\"Admitting\", thm)\n",
    "    else:\n",
    "        prove(Implies(And(by), thm))\n",
    "    return thm"
   ]
  },
  {
   "cell_type": "code",
   "execution_count": 27,
   "metadata": {},
   "outputs": [
    {
     "name": "stdout",
     "output_type": "stream",
     "text": [
      "proved\n",
      "proved\n",
      "Admitting ForAll([x, y, z],\n",
      "       append(x, append(y, z)) == append(append(x, y), z))\n"
     ]
    },
    {
     "data": {
      "text/plain": [
       "<__main__.List at 0x71ad245d6a70>"
      ]
     },
     "execution_count": 27,
     "metadata": {},
     "output_type": "execute_result"
    }
   ],
   "source": []
  },
  {
   "cell_type": "code",
   "execution_count": 28,
   "metadata": {},
   "outputs": [
    {
     "ename": "IndentationError",
     "evalue": "expected an indented block after class definition on line 4 (3081262896.py, line 7)",
     "output_type": "error",
     "traceback": [
      "\u001b[0;36m  Cell \u001b[0;32mIn[28], line 7\u001b[0;36m\u001b[0m\n\u001b[0;31m    class Any():\u001b[0m\n\u001b[0m    ^\u001b[0m\n\u001b[0;31mIndentationError\u001b[0m\u001b[0;31m:\u001b[0m expected an indented block after class definition on line 4\n"
     ]
    }
   ],
   "source": [
    "\n",
    "\n",
    "\n"
   ]
  },
  {
   "cell_type": "markdown",
   "metadata": {},
   "source": [
    "# Calculating Compilers\n"
   ]
  },
  {
   "cell_type": "code",
   "execution_count": 9,
   "metadata": {},
   "outputs": [],
   "source": [
    "import kdrag as kd\n",
    "import kdrag.smt as smt\n",
    "\n",
    "Aexpr = smt.Datatype(\"Aexpr\")\n",
    "Aexpr.declare(\"num\", (\"val\", smt.IntSort()))\n",
    "Aexpr.declare(\"add\", (\"left\", Aexpr), (\"right\", Aexpr))\n",
    "Aexpr = Aexpr.create()\n",
    "\n",
    "#kd.notation.induct = kd.utils.induct(Aexpr)\n",
    "kd.utils.induct(Aexpr)\n",
    "\n",
    "e = smt.Const(\"e\", Aexpr)\n",
    "eval = kd.kernel.define_fix(\"eval\", [e], smt.IntSort(), \n",
    "                     lambda ev: kd.cond(\n",
    "    (Aexpr.is_num(e), Aexpr.val(e)),\n",
    "    (Aexpr.is_add(e), ev(e.left) + ev(e.right))\n",
    "    ))\n"
   ]
  },
  {
   "cell_type": "markdown",
   "metadata": {},
   "source": [
    "First define arithmetic expressions"
   ]
  },
  {
   "cell_type": "code",
   "execution_count": 30,
   "metadata": {},
   "outputs": [],
   "source": [
    "\n",
    "Aexpr = Datatype(\"Aexpr\")\n",
    "Aexpr.declare(\"num\", (\"val\", IntSort()))\n",
    "Aexpr.declare(\"add\", (\"left\", Aexpr), (\"right\", Aexpr))\n",
    "Aexpr = Aexpr.create()\n",
    "n = Int(\"n\")\n",
    "e, e1, e2 = Consts('e e1 e2', Aexpr)\n",
    "def induct_aexpr(P):\n",
    "    return Implies(And(        \n",
    "        ForAll([n],     P(Aexpr.num(n))),\n",
    "        ForAll([e1,e2], \n",
    "               Implies(And(P(e1), P(e2)), \n",
    "                       P(Aexpr.add(e1, e2))))),\n",
    "        #-------------------------------------\n",
    "        ForAll([e], P(e)))\n",
    "\n",
    "eval = Function(\"eval\", Aexpr, IntSort())\n",
    "eval_def = ForAll([e], eval(e) == If(Aexpr.is_num(e), Aexpr.val(e),\n",
    "                                     eval(Aexpr.left(e)) + eval(Aexpr.right(e))))"
   ]
  },
  {
   "cell_type": "code",
   "execution_count": 38,
   "metadata": {},
   "outputs": [
    {
     "ename": "SyntaxError",
     "evalue": "incomplete input (2888385662.py, line 38)",
     "output_type": "error",
     "traceback": [
      "\u001b[0;36m  Cell \u001b[0;32mIn[38], line 38\u001b[0;36m\u001b[0m\n\u001b[0;31m    \u001b[0m\n\u001b[0m    ^\u001b[0m\n\u001b[0;31mSyntaxError\u001b[0m\u001b[0;31m:\u001b[0m incomplete input\n"
     ]
    }
   ],
   "source": [
    "op = Datatype(\"op\")\n",
    "op.declare(\"add\")\n",
    "op.declare(\"push\", (\"val\", IntSort()))\n",
    "op = op.create()\n",
    "\n",
    "def Option(s : SortRef):\n",
    "    O = Datatype(f\"Option_{s}\")\n",
    "    O.declare(\"none\")\n",
    "    O.declare(\"some\", (\"val\", s))\n",
    "    O = O.create()\n",
    "    return O\n",
    "\n",
    "IntList = List(IntSort())\n",
    "Stack = IntList.t\n",
    "\n",
    "exec = Function(\"exec\", op, IntList.t, IntList.t) # option?\n",
    "o = Const(\"o\", op)\n",
    "l = Const(\"l\", IntList.t)\n",
    "car = IntList.t.car\n",
    "cdr = IntList.t.cdr\n",
    "cons = IntList.t.cons\n",
    "exec_def = ForAll([o,l], exec(o,l) == If(op.is_push(o), cons(op.val(o), l),\n",
    "                                      #If(op.is_add(o),  \n",
    "                                         cons(car(l) + car(cdr(l)), cdr(cdr(l)))))\n",
    "                                     # )\n",
    "\n",
    "Prog = List(op)\n",
    "p = Const(\"p\", Prog.t)\n",
    "exec_prog = Function(\"exec_prog\", Prog.t, IntList.t, IntList.t)\n",
    "exec_prog_def = ForAll([p,l], exec_prog(p, l) == If(Prog.t.is_nil(p), l,\n",
    "                                                  exec_prog(Prog.t.cdr(p), exec(Prog.t.car(p), l)))\n",
    "                        )\n",
    "\n",
    "compile = Function(\"compile\", Aexpr, Prog.t)\n",
    "compile_def = ForAll([e], compile(e) == If(Aexpr.is_num(e), Prog.t.cons(op.push(Aexpr.val(e)), Prog.t.nil),\n",
    "                                           Prog.append(compile(Aexpr.left(e)), \n",
    "                                           Prog.append(compile(Aexpr.right(e)), \n",
    "                                                       Prog.t.cons(op.add, Prog.t.nil)))))\n",
    "\n",
    "\n"
   ]
  },
  {
   "cell_type": "code",
   "execution_count": 9,
   "metadata": {},
   "outputs": [
    {
     "data": {
      "text/plain": [
       "z3.z3.DatatypeSortRef"
      ]
     },
     "execution_count": 9,
     "metadata": {},
     "output_type": "execute_result"
    }
   ],
   "source": [
    "type(IntList)"
   ]
  },
  {
   "cell_type": "code",
   "execution_count": null,
   "metadata": {},
   "outputs": [],
   "source": [
    "class Nat():\n",
    "    def __init__(self):\n",
    "        pass\n",
    "class Pos():\n",
    "    \n",
    "# Any is not closed and therefor doesn't have an indeuction principle of proving something true forall x:Any, unless it uses pure first order reasoning.\n",
    "class Any():\n",
    "    def __init__(self):\n",
    "        self.t = DeclareSort(\"Any\")\n",
    "        self.sorts = {} # mapping from thing to Any injector,projector, tester\n",
    "    def add_sort(s):\n",
    "        self.sorts[s] = \n",
    "    def inj(self, sort):\n",
    "        return Function(f\"inj_{sort}\", sort, self.t)\n",
    "    def is_sort(self, sort):\n",
    "        is_sort_def = ForAll([x], is_sort(x) == Exists([t], self.inj(sort)(t) == x))\n",
    "        Function(f\"is_{sort}\", self.t, BoolSort())\n",
    "    def injective(self):\n",
    "        pass\n",
    "\n",
    "class Map():\n",
    "    pass\n",
    "class Set():\n",
    "    pass\n",
    "class Enum():\n",
    "    pass\n",
    "class Record():\n",
    "    pass"
   ]
  },
  {
   "cell_type": "markdown",
   "metadata": {},
   "source": [
    "Nand 2 tetris\n",
    "\n",
    "Maybe that's too agressive. How about a calculator\n",
    "\n",
    "Quoted aexpr. hmm.\n",
    "```ocaml\n",
    "type aexpr =\n",
    " | Int of int\n",
    " | Plus of aexpr * aexpr\n",
    " | Quote of aexpr\n",
    "```\n"
   ]
  },
  {
   "cell_type": "markdown",
   "metadata": {},
   "source": [
    "\n",
    "```lean\n",
    "-- import Mathlib\n",
    "import Mathlib.Data.Nat.Basic\n",
    "import Mathlib.Tactic.Basic\n",
    "import Mathlib.Tactic.LibrarySearch\n",
    "-- import Std.Data.List.Basic\n",
    "-- import Std.Data.Nat.Basic\n",
    "--open Nat\n",
    "--#print Nat.\n",
    "#eval 1 + 1\n",
    "inductive aexpr where\n",
    "  | num : ℕ → aexpr\n",
    "--| var : string → aexpr\n",
    "  |  add : aexpr → aexpr → aexpr\n",
    "\n",
    "def eval : aexpr → ℕ\n",
    "  | .num n => n\n",
    "  | .add e1 e2 => eval e1 + eval e2\n",
    "\n",
    "inductive op where\n",
    "  | add : op\n",
    "  | push : ℕ → op\n",
    "\n",
    "-- [@reducible]\n",
    "abbrev Prog := List op\n",
    "abbrev Stack := List ℕ\n",
    "\n",
    "def exec (p : Prog) (s : Stack) : Stack :=\n",
    "  match p with\n",
    "  | [] => s\n",
    "  | (op.add :: p') =>\n",
    "    match s with\n",
    "    | (n1 :: n2 :: s') => exec p' ((n1 + n2) :: s')\n",
    "    | _ => exec p' s\n",
    "  | (op.push n :: p') => exec p' (n :: s)\n",
    "\n",
    "def compile : aexpr → Prog\n",
    "  | .num n => [op.push n]\n",
    "  | .add e1 e2 => (compile e1) ++ (compile e2) ++ [op.add]\n",
    "#print List\n",
    "lemma exec_append : forall p1 p2 s, exec (p1 ++ p2) s = exec p2 (exec p1 s) := by\n",
    "  intros p1 p2\n",
    "  induction p1 with\n",
    "  | nil => simp [exec]\n",
    "  | cons h t ih =>\n",
    "    simp [exec]\n",
    "    cases h with\n",
    "    | add =>\n",
    "      intros s\n",
    "      cases s with\n",
    "      | nil => simp [exec, ih]\n",
    "      | cons n1 s' =>\n",
    "        cases s' with\n",
    "        | nil => simp [exec, ih]\n",
    "        | cons n2 s'' =>\n",
    "          simp [exec]\n",
    "          rw [ih]\n",
    "    | push n =>\n",
    "      simp [exec]\n",
    "      intros s\n",
    "      rw [ih]\n",
    "\n",
    "theorem exec_compile : ∀ e s, exec (compile e) s = eval e :: s := by\n",
    "  intros e\n",
    "  induction e with\n",
    "  | num n => simp [compile, exec, eval]\n",
    "  | add e1 e2 IHe1 IHe2 =>\n",
    "    intros s\n",
    "    --simp [eval, compile, exec_append, exec]\n",
    "    simp [eval]\n",
    "    have : exec [op.add] ((eval e2) :: (eval e1) :: s) = (eval e1 + eval e2) :: s := by\n",
    "      simp [exec, add_comm]\n",
    "    rw [<- this]\n",
    "    rw [<- IHe1]\n",
    "    rw [<- IHe2]\n",
    "    rw [<- exec_append]\n",
    "    simp [compile]\n",
    "    rw [exec_append]\n",
    "\n",
    "/-\n",
    "inductive fib : Nat -> Nat -> Type where\n",
    "  | base0 : fib 0 0\n",
    "  | base1 : fib 1 1\n",
    "  | step  : n > 1 -> fib (n-1) a\n",
    "                 -> fib (n-2) b -> fib n (a+b)\n",
    "\n",
    "-/\n",
    "\n",
    "```"
   ]
  },
  {
   "cell_type": "markdown",
   "metadata": {},
   "source": [
    "```lean\n",
    "-- import Mathlib\n",
    "import Mathlib.Data.Nat.Basic\n",
    "import Mathlib.Tactic.Basic\n",
    "import Mathlib.Tactic.LibrarySearch\n",
    "-- import Std.Data.List.Basic\n",
    "-- import Std.Data.Nat.Basic\n",
    "--open Nat\n",
    "--#print Nat.\n",
    "#eval 1 + 1\n",
    "inductive aexpr where\n",
    "  | num : ℕ → aexpr\n",
    "--| var : string → aexpr\n",
    "  |  add : aexpr → aexpr → aexpr\n",
    "\n",
    "def eval : aexpr → ℕ\n",
    "  | .num n => n\n",
    "  | .add e1 e2 => eval e1 + eval e2\n",
    "\n",
    "inductive op where\n",
    "  | add : op\n",
    "  | push : ℕ → op\n",
    "\n",
    "-- [@reducible]\n",
    "abbrev Prog := List op\n",
    "abbrev Stack := List ℕ\n",
    "\n",
    "def exec (p : Prog) (s : Stack) : Stack :=\n",
    "  match p with\n",
    "  | [] => s\n",
    "  | (op.add :: p') =>\n",
    "    match s with\n",
    "    | (n1 :: n2 :: s') => exec p' ((n1 + n2) :: s')\n",
    "    | _ => exec p' s\n",
    "  | (op.push n :: p') => exec p' (n :: s)\n",
    "\n",
    "def compile : aexpr → Prog\n",
    "  | .num n => [op.push n]\n",
    "  | .add e1 e2 => (compile e1) ++ (compile e2) ++ [op.add]\n",
    "#print List\n",
    "lemma exec_append : forall p1 p2 s, exec (p1 ++ p2) s = exec p2 (exec p1 s) := by\n",
    "  intros p1 p2\n",
    "  induction p1 with\n",
    "  | nil => simp [exec]\n",
    "  | cons h t ih =>\n",
    "    simp [exec]\n",
    "    cases h with\n",
    "    | add =>\n",
    "      intros s\n",
    "      cases s with\n",
    "      | nil => simp [exec, ih]\n",
    "      | cons n1 s' =>\n",
    "        cases s' with\n",
    "        | nil => simp [exec, ih]\n",
    "        | cons n2 s'' =>\n",
    "          simp [exec]\n",
    "          rw [ih]\n",
    "    | push n =>\n",
    "      simp [exec]\n",
    "      intros s\n",
    "      rw [ih]\n",
    "\n",
    "theorem exec_compile : ∀ e s, exec (compile e) s = eval e :: s := by\n",
    "  intros e\n",
    "  induction e with\n",
    "  | num n => simp [compile, exec, eval]\n",
    "  | add e1 e2 IHe1 IHe2 =>\n",
    "    intros s\n",
    "    --simp [eval, compile, exec_append, exec]\n",
    "    simp [eval]\n",
    "    have : exec [op.add] ((eval e2) :: (eval e1) :: s) = (eval e1 + eval e2) :: s := by\n",
    "      simp [exec, add_comm]\n",
    "    rw [<- this]\n",
    "    rw [<- IHe1]\n",
    "    rw [<- IHe2]\n",
    "    rw [<- exec_append]\n",
    "    simp [compile]\n",
    "    rw [exec_append]\n",
    "\n",
    "/-\n",
    "inductive fib : Nat -> Nat -> Type where\n",
    "  | base0 : fib 0 0\n",
    "  | base1 : fib 1 1\n",
    "  | step  : n > 1 -> fib (n-1) a\n",
    "                 -> fib (n-2) b -> fib n (a+b)\n",
    "\n",
    "-/\n",
    "```"
   ]
  }
 ],
 "metadata": {
  "kernelspec": {
   "display_name": "Python 3",
   "language": "python",
   "name": "python3"
  },
  "language_info": {
   "codemirror_mode": {
    "name": "ipython",
    "version": 3
   },
   "file_extension": ".py",
   "mimetype": "text/x-python",
   "name": "python",
   "nbconvert_exporter": "python",
   "pygments_lexer": "ipython3",
   "version": "3.10.12"
  }
 },
 "nbformat": 4,
 "nbformat_minor": 2
}
