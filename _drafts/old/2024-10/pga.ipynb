{
 "cells": [
  {
   "cell_type": "code",
   "execution_count": null,
   "metadata": {},
   "outputs": [],
   "source": []
  },
  {
   "cell_type": "markdown",
   "metadata": {},
   "source": [
    "https://projectivegeometricalgebra.org/\n",
    "https://github.com/EricLengyel/Terathon-Math-Library\n",
    "\n",
    "\n",
    "\n",
    "conformal stuff\n",
    "\n",
    "stereo vision\n",
    "\n",
    "\n",
    "\n",
    "\n",
    "\n",
    "dorst and valkenburg? Who'as that\n",
    "\n",
    "\n",
    "\n",
    "blades versors rotors spinors\n",
    "multivectors\n",
    "\n",
    "https://en.wikipedia.org/wiki/Exterior_algebra\n",
    "exterior algebra\n",
    "grassmann\n",
    "\n",
    "\n",
    "\n"
   ]
  },
  {
   "cell_type": "markdown",
   "metadata": {},
   "source": [
    "# Rotation\n",
    "\n",
    "\n",
    "Good old rotations\n",
    "rotating frames\n",
    "rigid body motion\n",
    "tops\n"
   ]
  },
  {
   "cell_type": "markdown",
   "metadata": {},
   "source": [
    "# quaternions\n",
    "qauternions\n",
    "https://github.com/topics/quaternions\n",
    "\n",
    "https://en.wikipedia.org/wiki/Quaternions_and_spatial_rotation\n",
    "\n",
    "https://github.com/JuliaGeometry/Rotations.jl\n",
    "\n",
    "https://github.com/felselva/mathc pure C\n",
    "\n",
    "https://github.com/Mayitzin/ahrs altitude eading and reference syste, in python"
   ]
  },
  {
   "cell_type": "markdown",
   "metadata": {},
   "source": [
    "# Projective \n",
    "projective geometry\n",
    "\n",
    "hartley and zisserman https://www.r-5.org/files/books/computers/algo-list/image-processing/vision/Richard_Hartley_Andrew_Zisserman-Multiple_View_Geometry_in_Computer_Vision-EN.pdf Multiple View goemetry\n",
    "epipolar geometry\n",
    "https://en.wikipedia.org/wiki/Epipolar_geometry\n",
    "pappus desargues\n",
    "plucker coordinates\n",
    "barycentric coordinates\n",
    "https://en.wikipedia.org/wiki/Barycentric_coordinate_system\n",
    "https://en.wikipedia.org/wiki/Pl%C3%BCcker_coordinates\n",
    "https://en.wikipedia.org/wiki/Pl%C3%BCcker_matrix\n",
    "https://en.wikipedia.org/wiki/Pl%C3%BCcker_relation\n",
    "https://en.wikipedia.org/wiki/Pl%C3%BCcker_conoid\n",
    "collineation\n",
    "duality\n",
    "pole and polar\n",
    "cross ratio\n",
    "\n",
    "contact geometry"
   ]
  },
  {
   "cell_type": "markdown",
   "metadata": {},
   "source": [
    "# Geometric Algebra\n",
    "clifford https://en.wikipedia.org/wiki/Clifford_algebra\n",
    "dirac https://en.wikipedia.org/wiki/Gamma_matrices feynman slash\n",
    "pauli matrices\n",
    "https://en.wikipedia.org/wiki/Geometric_algebra\n",
    "geometric product\n",
    "hestenes Hestenes, David (2015). Space-Time Algebra.\n",
    "differential geometric algerba\n",
    "https://peeterjoot.com/writing/geometric-algebra-for-electrical-engineers/\n",
    "Understanding Geometric Algebra for Electromagnetic Theory - John W. Arthur\n",
    "Doran, C. and Lasenby, A. (2003), Geometric algebra for physicists\n",
    "https://rigidgeometricalgebra.org/wiki/index.php?title=Main_Page \n",
    "\n",
    "https://github.com/pygae/clifford geometric lagerba for python\n",
    "https://github.com/pygae/galgebra symbolic for sympy\n",
    "https://github.com/pygae/lean-ga lean geometric algebra\n",
    "https://github.com/pygae/GAlgebra.jl\n",
    "\n",
    "https://awesome-geometric-algebra.readthedocs.io/en/latest/\n",
    "\n",
    "https://github.com/chakravala/Grassmann.jl\n",
    "\n",
    "https://github.com/jeremyong/klein simd geometric algebra\n",
    "https://github.com/jeremyong/gal C++ geometric algebra\n",
    "\n",
    "\n",
    "\n",
    "https://github.com/enkimute/ganja.js geometric algerba generator javascript into c++ rust python etc"
   ]
  },
  {
   "cell_type": "markdown",
   "metadata": {},
   "source": [
    "# Conformal Geometric Algebra\n",
    "https://en.wikipedia.org/wiki/Conformal_geometric_algebra\n",
    "https://link.springer.com/book/10.1007/978-0-85729-811-9 confromal geometric alegrba in proactice. dorst lasenby\n",
    "stereogrpahic projection\n",
    "https://en.wikipedia.org/wiki/Conformal_geometry\n",
    "mobius transformations\n",
    "https://conformalgeometricalgebra.org/wiki/index.php?title=Main_Page\n",
    "\n"
   ]
  }
 ],
 "metadata": {
  "language_info": {
   "name": "python"
  }
 },
 "nbformat": 4,
 "nbformat_minor": 2
}
