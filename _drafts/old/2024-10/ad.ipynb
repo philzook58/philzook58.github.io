{
 "cells": [
  {
   "cell_type": "code",
   "execution_count": null,
   "metadata": {},
   "outputs": [],
   "source": []
  },
  {
   "cell_type": "markdown",
   "metadata": {},
   "source": [
    "mosiac dex-lang\n",
    "stalingrad\n",
    "Higher orderr AD\n",
    "Julia ran into issues\n",
    "enzyme\n",
    "torch-mlir\n",
    "remora\n",
    "Aten https://pytorch.org/cppdocs/notes/tensor_basics.html\n",
    "pytorch7\n",
    "cudann\n",
    "alt backends? dsp cores?\n",
    "Memory model. No copy\n",
    "raytracer"
   ]
  },
  {
   "cell_type": "code",
   "execution_count": null,
   "metadata": {},
   "outputs": [],
   "source": [
    "%%file /tmp/pytorch.cpp"
   ]
  },
  {
   "cell_type": "markdown",
   "metadata": {},
   "source": [
    "\n"
   ]
  },
  {
   "cell_type": "markdown",
   "metadata": {},
   "source": []
  },
  {
   "cell_type": "markdown",
   "metadata": {},
   "source": [
    "\n"
   ]
  }
 ],
 "metadata": {
  "language_info": {
   "name": "python"
  }
 },
 "nbformat": 4,
 "nbformat_minor": 2
}
