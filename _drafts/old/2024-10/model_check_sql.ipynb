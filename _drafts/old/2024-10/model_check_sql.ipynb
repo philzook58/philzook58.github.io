{
 "cells": [
  {
   "cell_type": "code",
   "execution_count": null,
   "metadata": {},
   "outputs": [],
   "source": [
    "from z3 import *\n",
    "\n",
    "\n",
    "@dataclass\n",
    "class SQL():\n",
    "    selects :  str\n",
    "    froms : str\n",
    "    wheres : str\n",
    "    def __add__(self, other):\n",
    "        SQL(self.selects + other.selects, self.froms + other.froms, self.wheres + other.wheres)\n",
    "    def build(self):\n",
    "        return f\"SELECT 1 FROM {self.froms} WHERE {self.wheres}\"\n",
    "    \n",
    "counter = 0\n",
    "\n",
    "def model(env, t : z3.BoolRef) -> SQL:\n",
    "    if is_and(t):\n",
    "        print(\"And\")\n",
    "        for c in t.children():\n",
    "\n",
    "    elif is_or(t):\n",
    "    elif is_not(t):\n",
    "       sql = model(env, t.children()[0])\n",
    "       f \"NOT ({where})\"\n",
    "\n",
    "    elif is_quantifier(t):\n",
    "        if t.is_exists():\n",
    "            vs, body = open_binder(t.body())\n",
    "            sql = model(env,body)\n",
    "            f\"EXISTS {sql.build()}\"\n",
    "        if t.is_forall():\n",
    "            model(env, Not(Exists(t.body())))\n",
    "    elif is_app(t):\n",
    "        # base relation. look up in table\n",
    "        print(\"App\")\n",
    "        print(t.decl().name())\n",
    "        for c in t.children():\n",
    "            model(c)"
   ]
  },
  {
   "cell_type": "markdown",
   "metadata": {},
   "source": [
    "\n",
    "multiset semantics ought to mean that linear logic is appropriate\n",
    "\n",
    "higher order models for higher order databases?\n",
    "\n",
    "Fixed point logic\n",
    "\n",
    "cnf? (  \\/ ) \n",
    "dnf? dnf ought to be pretty easy.\n"
   ]
  }
 ],
 "metadata": {
  "language_info": {
   "name": "python"
  }
 },
 "nbformat": 4,
 "nbformat_minor": 2
}
