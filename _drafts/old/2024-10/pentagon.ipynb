{
 "cells": [
  {
   "cell_type": "code",
   "execution_count": null,
   "metadata": {},
   "outputs": [],
   "source": []
  },
  {
   "cell_type": "markdown",
   "metadata": {},
   "source": [
    "https://www.microsoft.com/en-us/research/wp-content/uploads/2009/01/pentagons.pdf \n",
    "https://mastodon.social/@cfbolz/113017389946004834\n",
    "https://microsoft.github.io/z3guide/docs/theories/Special%20Relations/\n",
    "\n",
    "\n",
    "Bellman ford\n",
    "https://docs.scipy.org/doc/scipy/reference/sparse.csgraph.html\n",
    "https://networkx.org/documentation/stable/reference/algorithms/shortest_paths.html"
   ]
  },
  {
   "cell_type": "code",
   "execution_count": null,
   "metadata": {},
   "outputs": [],
   "source": [
    "class Octagon():\n",
    "    def __init__(self):\n",
    "        self.G = nx.DiGraph()\n",
    "    def add_ineq(x, y, c):\n",
    "        # x - y <= c\n",
    "\n",
    "    def eq(x,y,c):\n",
    "        # x = y + c\n",
    "        self.add_ineq(x,y,c)\n",
    "        self.add_ineq(y,x,-c)"
   ]
  },
  {
   "cell_type": "markdown",
   "metadata": {},
   "source": [
    "Python smt solver. Fully lazy smt\n",
    "https://pysathq.github.io/usage/\n",
    "I mean really is there much point to building a python smt solver? Eh.\n",
    "\n",
    "\n",
    "Using z3 as my sat solver is the easieest thing though.\n",
    "Kind of analogous to externalizing the egraph?"
   ]
  },
  {
   "cell_type": "code",
   "execution_count": 1,
   "metadata": {},
   "outputs": [
    {
     "ename": "ModuleNotFoundError",
     "evalue": "No module named 'pysat'",
     "output_type": "error",
     "traceback": [
      "\u001b[0;31m---------------------------------------------------------------------------\u001b[0m",
      "\u001b[0;31mModuleNotFoundError\u001b[0m                       Traceback (most recent call last)",
      "Cell \u001b[0;32mIn[1], line 1\u001b[0m\n\u001b[0;32m----> 1\u001b[0m \u001b[38;5;28;01mfrom\u001b[39;00m \u001b[38;5;21;01mpysat\u001b[39;00m\u001b[38;5;21;01m.\u001b[39;00m\u001b[38;5;21;01msolvers\u001b[39;00m \u001b[38;5;28;01mimport\u001b[39;00m Cadical\n",
      "\u001b[0;31mModuleNotFoundError\u001b[0m: No module named 'pysat'"
     ]
    }
   ],
   "source": [
    "from pysat.solvers import Cadical"
   ]
  },
  {
   "cell_type": "code",
   "execution_count": null,
   "metadata": {},
   "outputs": [],
   "source": [
    "class BoolRef():\n",
    "\n",
    "class Solver():\n",
    "    def add(self, constraint):"
   ]
  }
 ],
 "metadata": {
  "kernelspec": {
   "display_name": "Python 3",
   "language": "python",
   "name": "python3"
  },
  "language_info": {
   "codemirror_mode": {
    "name": "ipython",
    "version": 3
   },
   "file_extension": ".py",
   "mimetype": "text/x-python",
   "name": "python",
   "nbconvert_exporter": "python",
   "pygments_lexer": "ipython3",
   "version": "3.10.12"
  }
 },
 "nbformat": 4,
 "nbformat_minor": 2
}
