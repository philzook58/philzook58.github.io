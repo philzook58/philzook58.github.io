{
 "cells": [
  {
   "cell_type": "code",
   "execution_count": null,
   "metadata": {},
   "outputs": [],
   "source": []
  },
  {
   "cell_type": "markdown",
   "metadata": {},
   "source": [
    "https://github.com/jebohndavida/KalmanFilter klamb filter inC for ARM, quaternion\n"
   ]
  },
  {
   "cell_type": "markdown",
   "metadata": {},
   "source": [
    "running sum filter\n",
    "Where did I learn klaman filtering from? Russ Tedrake?\n",
    "Maybe Stephen Boyd too?\n",
    "LQR more than kalman\n",
    "Klamn using python mouse reading\n",
    "Guassian Sympy\n",
    "\n",
    "\n",
    "Grewal and Andrew's *Kalman Filtering*\n",
    "Zarchan - Fundamentals of kalman filtering\n",
    "\n",
    "\n",
    "\n",
    "g-h filters / alpha-beta\n",
    "sensor fusion\n"
   ]
  },
  {
   "cell_type": "code",
   "execution_count": 10,
   "metadata": {},
   "outputs": [
    {
     "ename": "ValueError",
     "evalue": "n: Exponent must be a positive Integer",
     "output_type": "error",
     "traceback": [
      "\u001b[0;31m---------------------------------------------------------------------------\u001b[0m",
      "\u001b[0;31mValueError\u001b[0m                                Traceback (most recent call last)",
      "Cell \u001b[0;32mIn[10], line 11\u001b[0m\n\u001b[1;32m      9\u001b[0m obs \u001b[38;5;241m=\u001b[39m MatrixSymbol(\u001b[38;5;124m'\u001b[39m\u001b[38;5;124mobs\u001b[39m\u001b[38;5;124m'\u001b[39m, n, \u001b[38;5;241m1\u001b[39m)\n\u001b[1;32m     10\u001b[0m X \u001b[38;5;241m=\u001b[39m MultivariateNormal(\u001b[38;5;124m'\u001b[39m\u001b[38;5;124mX\u001b[39m\u001b[38;5;124m'\u001b[39m, mu, Sg)\n\u001b[0;32m---> 11\u001b[0m \u001b[43msp\u001b[49m\u001b[38;5;241;43m.\u001b[39;49m\u001b[43mstats\u001b[49m\u001b[38;5;241;43m.\u001b[39;49m\u001b[43mExpectation\u001b[49m\u001b[43m(\u001b[49m\u001b[43mX\u001b[49m\u001b[43m)\u001b[49m\u001b[38;5;241;43m.\u001b[39;49m\u001b[43mdoit\u001b[49m\u001b[43m(\u001b[49m\u001b[43m)\u001b[49m\u001b[38;5;66;03m#.rewrite(sp.stats.Probability) #.rewrite(sp.Integral)\u001b[39;00m\n",
      "File \u001b[0;32m~/.local/lib/python3.10/site-packages/sympy/stats/symbolic_probability.py:288\u001b[0m, in \u001b[0;36mExpectation.doit\u001b[0;34m(self, **hints)\u001b[0m\n\u001b[1;32m    286\u001b[0m     \u001b[38;5;28;01mreturn\u001b[39;00m \u001b[38;5;28mself\u001b[39m\u001b[38;5;241m.\u001b[39mfunc(expr)\n\u001b[1;32m    287\u001b[0m \u001b[38;5;66;03m# Otherwise case is simple, pass work off to the ProbabilitySpace\u001b[39;00m\n\u001b[0;32m--> 288\u001b[0m result \u001b[38;5;241m=\u001b[39m \u001b[43mpspace\u001b[49m\u001b[43m(\u001b[49m\u001b[43mexpr\u001b[49m\u001b[43m)\u001b[49m\u001b[38;5;241;43m.\u001b[39;49m\u001b[43mcompute_expectation\u001b[49m\u001b[43m(\u001b[49m\u001b[43mexpr\u001b[49m\u001b[43m,\u001b[49m\u001b[43m \u001b[49m\u001b[43mevaluate\u001b[49m\u001b[38;5;241;43m=\u001b[39;49m\u001b[43mevaluate\u001b[49m\u001b[43m)\u001b[49m\n\u001b[1;32m    289\u001b[0m \u001b[38;5;28;01mif\u001b[39;00m \u001b[38;5;28mhasattr\u001b[39m(result, \u001b[38;5;124m'\u001b[39m\u001b[38;5;124mdoit\u001b[39m\u001b[38;5;124m'\u001b[39m) \u001b[38;5;129;01mand\u001b[39;00m evaluate:\n\u001b[1;32m    290\u001b[0m     \u001b[38;5;28;01mreturn\u001b[39;00m result\u001b[38;5;241m.\u001b[39mdoit(\u001b[38;5;241m*\u001b[39m\u001b[38;5;241m*\u001b[39mhints)\n",
      "File \u001b[0;32m~/.local/lib/python3.10/site-packages/sympy/stats/joint_rv.py:112\u001b[0m, in \u001b[0;36mJointPSpace.compute_expectation\u001b[0;34m(self, expr, rvs, evaluate, **kwargs)\u001b[0m\n\u001b[1;32m    111\u001b[0m \u001b[38;5;28;01mdef\u001b[39;00m \u001b[38;5;21mcompute_expectation\u001b[39m(\u001b[38;5;28mself\u001b[39m, expr, rvs\u001b[38;5;241m=\u001b[39m\u001b[38;5;28;01mNone\u001b[39;00m, evaluate\u001b[38;5;241m=\u001b[39m\u001b[38;5;28;01mFalse\u001b[39;00m, \u001b[38;5;241m*\u001b[39m\u001b[38;5;241m*\u001b[39mkwargs):\n\u001b[0;32m--> 112\u001b[0m     syms \u001b[38;5;241m=\u001b[39m \u001b[38;5;28mtuple\u001b[39m(\u001b[38;5;28mself\u001b[39m\u001b[38;5;241m.\u001b[39mvalue[i] \u001b[38;5;28;01mfor\u001b[39;00m i \u001b[38;5;129;01min\u001b[39;00m \u001b[38;5;28mrange\u001b[39m(\u001b[38;5;28;43mself\u001b[39;49m\u001b[38;5;241;43m.\u001b[39;49m\u001b[43mcomponent_count\u001b[49m))\n\u001b[1;32m    113\u001b[0m     rvs \u001b[38;5;241m=\u001b[39m rvs \u001b[38;5;129;01mor\u001b[39;00m syms\n\u001b[1;32m    114\u001b[0m     \u001b[38;5;28;01mif\u001b[39;00m \u001b[38;5;129;01mnot\u001b[39;00m \u001b[38;5;28many\u001b[39m(i \u001b[38;5;129;01min\u001b[39;00m rvs \u001b[38;5;28;01mfor\u001b[39;00m i \u001b[38;5;129;01min\u001b[39;00m syms):\n",
      "File \u001b[0;32m~/.local/lib/python3.10/site-packages/sympy/stats/joint_rv.py:67\u001b[0m, in \u001b[0;36mJointPSpace.component_count\u001b[0;34m(self)\u001b[0m\n\u001b[1;32m     65\u001b[0m \u001b[38;5;129m@property\u001b[39m\n\u001b[1;32m     66\u001b[0m \u001b[38;5;28;01mdef\u001b[39;00m \u001b[38;5;21mcomponent_count\u001b[39m(\u001b[38;5;28mself\u001b[39m):\n\u001b[0;32m---> 67\u001b[0m     _set \u001b[38;5;241m=\u001b[39m \u001b[38;5;28;43mself\u001b[39;49m\u001b[38;5;241;43m.\u001b[39;49m\u001b[43mdistribution\u001b[49m\u001b[38;5;241;43m.\u001b[39;49m\u001b[43mset\u001b[49m\n\u001b[1;32m     68\u001b[0m     \u001b[38;5;28;01mif\u001b[39;00m \u001b[38;5;28misinstance\u001b[39m(_set, ProductSet):\n\u001b[1;32m     69\u001b[0m         \u001b[38;5;28;01mreturn\u001b[39;00m S(\u001b[38;5;28mlen\u001b[39m(_set\u001b[38;5;241m.\u001b[39margs))\n",
      "File \u001b[0;32m~/.local/lib/python3.10/site-packages/sympy/stats/joint_rv_types.py:160\u001b[0m, in \u001b[0;36mMultivariateNormalDistribution.set\u001b[0;34m(self)\u001b[0m\n\u001b[1;32m    157\u001b[0m \u001b[38;5;129m@property\u001b[39m\n\u001b[1;32m    158\u001b[0m \u001b[38;5;28;01mdef\u001b[39;00m \u001b[38;5;21mset\u001b[39m(\u001b[38;5;28mself\u001b[39m):\n\u001b[1;32m    159\u001b[0m     k \u001b[38;5;241m=\u001b[39m \u001b[38;5;28mself\u001b[39m\u001b[38;5;241m.\u001b[39mmu\u001b[38;5;241m.\u001b[39mshape[\u001b[38;5;241m0\u001b[39m]\n\u001b[0;32m--> 160\u001b[0m     \u001b[38;5;28;01mreturn\u001b[39;00m \u001b[43mS\u001b[49m\u001b[38;5;241;43m.\u001b[39;49m\u001b[43mReals\u001b[49m\u001b[38;5;241;43m*\u001b[39;49m\u001b[38;5;241;43m*\u001b[39;49m\u001b[43mk\u001b[49m\n",
      "File \u001b[0;32m~/.local/lib/python3.10/site-packages/sympy/core/decorators.py:236\u001b[0m, in \u001b[0;36m_SympifyWrapper.make_wrapped.<locals>._func\u001b[0;34m(self, other)\u001b[0m\n\u001b[1;32m    234\u001b[0m \u001b[38;5;28;01mif\u001b[39;00m \u001b[38;5;129;01mnot\u001b[39;00m \u001b[38;5;28misinstance\u001b[39m(other, expectedcls):\n\u001b[1;32m    235\u001b[0m     \u001b[38;5;28;01mreturn\u001b[39;00m retval\n\u001b[0;32m--> 236\u001b[0m \u001b[38;5;28;01mreturn\u001b[39;00m \u001b[43mfunc\u001b[49m\u001b[43m(\u001b[49m\u001b[38;5;28;43mself\u001b[39;49m\u001b[43m,\u001b[49m\u001b[43m \u001b[49m\u001b[43mother\u001b[49m\u001b[43m)\u001b[49m\n",
      "File \u001b[0;32m~/.local/lib/python3.10/site-packages/sympy/sets/sets.py:801\u001b[0m, in \u001b[0;36mSet.__pow__\u001b[0;34m(self, exp)\u001b[0m\n\u001b[1;32m    798\u001b[0m \u001b[38;5;129m@sympify_return\u001b[39m([(\u001b[38;5;124m'\u001b[39m\u001b[38;5;124mexp\u001b[39m\u001b[38;5;124m'\u001b[39m, Expr)], \u001b[38;5;28mNotImplemented\u001b[39m)\n\u001b[1;32m    799\u001b[0m \u001b[38;5;28;01mdef\u001b[39;00m \u001b[38;5;21m__pow__\u001b[39m(\u001b[38;5;28mself\u001b[39m, exp):\n\u001b[1;32m    800\u001b[0m     \u001b[38;5;28;01mif\u001b[39;00m \u001b[38;5;129;01mnot\u001b[39;00m (exp\u001b[38;5;241m.\u001b[39mis_Integer \u001b[38;5;129;01mand\u001b[39;00m exp \u001b[38;5;241m>\u001b[39m\u001b[38;5;241m=\u001b[39m \u001b[38;5;241m0\u001b[39m):\n\u001b[0;32m--> 801\u001b[0m         \u001b[38;5;28;01mraise\u001b[39;00m \u001b[38;5;167;01mValueError\u001b[39;00m(\u001b[38;5;124m\"\u001b[39m\u001b[38;5;132;01m%s\u001b[39;00m\u001b[38;5;124m: Exponent must be a positive Integer\u001b[39m\u001b[38;5;124m\"\u001b[39m \u001b[38;5;241m%\u001b[39m exp)\n\u001b[1;32m    802\u001b[0m     \u001b[38;5;28;01mreturn\u001b[39;00m ProductSet(\u001b[38;5;241m*\u001b[39m[\u001b[38;5;28mself\u001b[39m]\u001b[38;5;241m*\u001b[39mexp)\n",
      "\u001b[0;31mValueError\u001b[0m: n: Exponent must be a positive Integer"
     ]
    }
   ],
   "source": [
    "import sympy as sp\n",
    "from sympy.stats import MultivariateNormal, density, marginal_distribution\n",
    "from sympy import symbols, MatrixSymbol\n",
    "# https://docs.sympy.org/latest/modules/stats.html#sympy.stats.MultivariateNormal\n",
    "\n",
    "n = symbols('n', integer=True, positive=True)\n",
    "Sg = MatrixSymbol('Sg', n, n)\n",
    "mu = MatrixSymbol('mu', n, 1)\n",
    "obs = MatrixSymbol('obs', n, 1)\n",
    "X = MultivariateNormal('X', mu, Sg)\n",
    "sp.stats.Expectation(X).doit() ##.rewrite(sp.stats.Probability) #.rewrite(sp.Integral)"
   ]
  }
 ],
 "metadata": {
  "kernelspec": {
   "display_name": "Python 3",
   "language": "python",
   "name": "python3"
  },
  "language_info": {
   "codemirror_mode": {
    "name": "ipython",
    "version": 3
   },
   "file_extension": ".py",
   "mimetype": "text/x-python",
   "name": "python",
   "nbconvert_exporter": "python",
   "pygments_lexer": "ipython3",
   "version": "3.10.12"
  }
 },
 "nbformat": 4,
 "nbformat_minor": 2
}
