{
 "cells": [
  {
   "cell_type": "code",
   "execution_count": null,
   "metadata": {},
   "outputs": [],
   "source": []
  },
  {
   "cell_type": "markdown",
   "metadata": {},
   "source": [
    "Moving series expansion points.\n",
    "\n",
    "We can rebase a finite polynomial\n",
    "\n",
    "Rebasing an infinite polynomial is some kind of differential equation.\n",
    "\n",
    "since a_k = d^k f(t) / n!\n",
    "\n",
    "d a_k / t ~ d^{k+1} f(t)\n",
    "\n",
    "Kadanoff book\n",
    "\n",
    "\n",
    "fast multipole expansion"
   ]
  },
  {
   "cell_type": "code",
   "execution_count": 7,
   "metadata": {},
   "outputs": [
    {
     "name": "stdout",
     "output_type": "stream",
     "text": [
      "2*a + 2*y + (a + y)**2 + 1\n",
      "2*a + 2*y + (a + y)**2 + 1\n"
     ]
    },
    {
     "data": {
      "text/latex": [
       "$\\displaystyle x^{2} + 2 x + 1$"
      ],
      "text/plain": [
       "x**2 + 2*x + 1"
      ]
     },
     "execution_count": 7,
     "metadata": {},
     "output_type": "execute_result"
    }
   ],
   "source": [
    "from sympy import *\n",
    "x,a = symbols(\"x a\")\n",
    "def mov_poly(p, x, a):\n",
    "    y = symbols(\"y\")\n",
    "    p = p.subs(x, y + a)\n",
    "    print(p)\n",
    "    p = p.collect(y)\n",
    "    print(p)\n",
    "    p = p.subs(y, x - a, evaluate=False)\n",
    "    return p\n",
    "\n",
    "mov_poly(x**2 + 2*x + 1, x, a)\n",
    "\n"
   ]
  }
 ],
 "metadata": {
  "kernelspec": {
   "display_name": "Python 3",
   "language": "python",
   "name": "python3"
  },
  "language_info": {
   "codemirror_mode": {
    "name": "ipython",
    "version": 3
   },
   "file_extension": ".py",
   "mimetype": "text/x-python",
   "name": "python",
   "nbconvert_exporter": "python",
   "pygments_lexer": "ipython3",
   "version": "3.10.12"
  }
 },
 "nbformat": 4,
 "nbformat_minor": 2
}
