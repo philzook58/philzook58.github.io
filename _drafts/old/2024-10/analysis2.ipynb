{
 "cells": [
  {
   "cell_type": "code",
   "execution_count": null,
   "metadata": {},
   "outputs": [],
   "source": []
  },
  {
   "cell_type": "markdown",
   "metadata": {},
   "source": [
    "Universe of fin\n",
    "\n",
    "https://cvc5.github.io/docs/cvc5-1.0.2/options.html#additional-cvc5-options\n",
    "ho-elim \n",
    "https://www.gdr-gpl.cnrs.fr/sites/default/files/documentsGPL/JourneesNationales/GPL2024/tourret_hosmt_user.pdf\n",
    "ho-smt paper\n",
    "https://nekoka-project.github.io/"
   ]
  },
  {
   "cell_type": "code",
   "execution_count": 138,
   "metadata": {},
   "outputs": [],
   "source": [
    "import cvc5.pythonic as cvc5\n",
    "cvc5.\n"
   ]
  },
  {
   "cell_type": "code",
   "execution_count": 139,
   "metadata": {},
   "outputs": [
    {
     "ename": "AttributeError",
     "evalue": "module 'cvc5' has no attribute 'TermManager'",
     "output_type": "error",
     "traceback": [
      "\u001b[0;31m---------------------------------------------------------------------------\u001b[0m",
      "\u001b[0;31mAttributeError\u001b[0m                            Traceback (most recent call last)",
      "Cell \u001b[0;32mIn[139], line 5\u001b[0m\n\u001b[1;32m      2\u001b[0m \u001b[38;5;28;01mfrom\u001b[39;00m \u001b[38;5;21;01mcvc5\u001b[39;00m \u001b[38;5;28;01mimport\u001b[39;00m Kind\n\u001b[1;32m      4\u001b[0m \u001b[38;5;28;01mif\u001b[39;00m \u001b[38;5;18m__name__\u001b[39m \u001b[38;5;241m==\u001b[39m \u001b[38;5;124m\"\u001b[39m\u001b[38;5;124m__main__\u001b[39m\u001b[38;5;124m\"\u001b[39m:\n\u001b[0;32m----> 5\u001b[0m     tm \u001b[38;5;241m=\u001b[39m \u001b[43mcvc5\u001b[49m\u001b[38;5;241;43m.\u001b[39;49m\u001b[43mTermManager\u001b[49m()\n\u001b[1;32m      6\u001b[0m     slv \u001b[38;5;241m=\u001b[39m cvc5\u001b[38;5;241m.\u001b[39mSolver(tm)\n\u001b[1;32m      7\u001b[0m     slv\u001b[38;5;241m.\u001b[39msetLogic(\u001b[38;5;124m\"\u001b[39m\u001b[38;5;124mQF_NRAT\u001b[39m\u001b[38;5;124m\"\u001b[39m)\n",
      "\u001b[0;31mAttributeError\u001b[0m: module 'cvc5' has no attribute 'TermManager'"
     ]
    }
   ],
   "source": [
    "\n",
    "import cvc5\n",
    "from cvc5 import Kind\n",
    "\n",
    "tm = cvc5.TermManager()\n",
    "slv = cvc5.Solver(tm)\n",
    "slv.setLogic(\"QF_NRAT\")\n",
    "\n",
    "real = tm.getRealSort()\n",
    "\n",
    "# Variables\n",
    "x = tm.mkConst(real, \"x\")\n",
    "y = tm.mkConst(real, \"y\")\n",
    "\n",
    "# Helper terms\n",
    "two = tm.mkReal(2)\n",
    "pi = tm.mkPi()\n",
    "twopi = tm.mkTerm(Kind.MULT, two, pi)\n",
    "ysq = tm.mkTerm(Kind.MULT, y, y)\n",
    "sinx = tm.mkTerm(Kind.SINE, x)\n",
    "\n",
    "# Formulas\n",
    "x_gt_pi = tm.mkTerm(Kind.GT, x, pi)\n",
    "x_lt_tpi = tm.mkTerm(Kind.LT, x, twopi)\n",
    "ysq_lt_sinx = tm.mkTerm(Kind.LT, ysq, sinx)\n",
    "\n",
    "slv.assertFormula(x_gt_pi)\n",
    "slv.assertFormula(x_lt_tpi)\n",
    "slv.assertFormula(ysq_lt_sinx)\n",
    "\n",
    "print(\"cvc5 should report UNSAT\")\n",
    "print(\"Result from cvc5 is:\", slv.checkSat())"
   ]
  },
  {
   "cell_type": "code",
   "execution_count": null,
   "metadata": {},
   "outputs": [],
   "source": [
    "from z3 import *\n",
    "x = Real(\"x\")\n",
    "solve(x**0.5 < 0)\n",
    "solve(x**0.5 == 0)\n",
    "solve(x**0.5 >= 0)\n",
    "prove(Implies(x >= 0, x**0.5 >= 0))\n",
    "#prove(ForAll([x], Implies(x >= 0, x**0.5 >= 0)))"
   ]
  },
  {
   "cell_type": "code",
   "execution_count": 2,
   "metadata": {},
   "outputs": [
    {
     "name": "stdout",
     "output_type": "stream",
     "text": [
      "4.13.0\n",
      "unknown\n",
      "unknown\n",
      "unsat\n"
     ]
    }
   ],
   "source": [
    "from z3 import *\n",
    "print(get_version_string())\n",
    "x = Real(\"x\")\n",
    "s = Solver()\n",
    "s.add(Not(ForAll([x], Implies(x >= 0, x**0.5 >= 0))))\n",
    "print(s.check())\n",
    "\n",
    "s = Solver()\n",
    "s.add(Exists([x], Not(Implies(x >= 0, x**0.5 >= 0))))\n",
    "print(s.check())\n",
    "\n",
    "s = Solver()\n",
    "s.add(Not(Implies(x >= 0, x**0.5 >= 0)))\n",
    "print(s.check())\n"
   ]
  },
  {
   "cell_type": "code",
   "execution_count": 23,
   "metadata": {},
   "outputs": [
    {
     "name": "stdout",
     "output_type": "stream",
     "text": [
      "Defaulting to user installation because normal site-packages is not writeable\n",
      "Requirement already satisfied: z3-solver in /home/philip/.local/lib/python3.10/site-packages (4.12.4.0)\n",
      "Collecting z3-solver\n",
      "  Using cached z3_solver-4.13.0.0-py2.py3-none-manylinux2014_x86_64.whl.metadata (757 bytes)\n",
      "Using cached z3_solver-4.13.0.0-py2.py3-none-manylinux2014_x86_64.whl (57.3 MB)\n",
      "Installing collected packages: z3-solver\n",
      "  Attempting uninstall: z3-solver\n",
      "    Found existing installation: z3-solver 4.12.4.0\n",
      "    Uninstalling z3-solver-4.12.4.0:\n",
      "      Successfully uninstalled z3-solver-4.12.4.0\n",
      "\u001b[31mERROR: pip's dependency resolver does not currently take into account all the packages that are installed. This behaviour is the source of the following dependency conflicts.\n",
      "claripy 9.2.94 requires z3-solver==4.10.2.0, but you have z3-solver 4.13.0.0 which is incompatible.\n",
      "idp-engine 0.11.1 requires z3-solver==4.12.4.0, but you have z3-solver 4.13.0.0 which is incompatible.\u001b[0m\u001b[31m\n",
      "\u001b[0mSuccessfully installed z3-solver-4.13.0.0\n"
     ]
    }
   ],
   "source": [
    "!python3 -m pip install z3-solver --upgrade"
   ]
  },
  {
   "cell_type": "markdown",
   "metadata": {},
   "source": [
    "# Induction\n"
   ]
  },
  {
   "cell_type": "code",
   "execution_count": null,
   "metadata": {},
   "outputs": [],
   "source": [
    "import knuckledragger as kd\n",
    "\n",
    "def Nat(x):\n",
    "    x = Int(x)\n",
    "    x.wf = x >= 0\n",
    "    return x\n",
    "def Nats(xs):\n",
    "    return [Nat(x) for x in xs.split()]\n",
    "\n",
    "#\n",
    "def RInt(x):\n",
    "    x = Real(x)\n",
    "    x.wf = ToReal(ToInt(x)) == x\n",
    "    return x\n",
    "\n",
    "def RNat(x):\n",
    "    x = Real(x)\n",
    "    x.wf = x >= 0 & ToReal(x) == x\n",
    "    return x\n",
    "\n",
    "\n",
    "\n",
    "def pos_induct(P):\n",
    "    x = FreshInt(\"x\")\n",
    "    return kd.axiom(\n",
    "        Implies(And(kd.QForAll([x], x <= 0, P(x)), kd.QForAll([x],P(x),P(x+1))), \n",
    "        ForAll([x], P(x))))\n"
   ]
  },
  {
   "cell_type": "markdown",
   "metadata": {},
   "source": [
    "## Floor Ceil\n",
    "https://en.wikipedia.org/wiki/Floor_and_ceiling_functions\n",
    "https://stackoverflow.com/questions/42133675/get-fractional-part-of-real-in-qf-ufnra/42147549#42147549\n",
    "\n",
    "A surprising pain in the ass.\n",
    "\n",
    "floor is the least integer as a definition?\n"
   ]
  },
  {
   "cell_type": "code",
   "execution_count": 58,
   "metadata": {},
   "outputs": [
    {
     "name": "stdout",
     "output_type": "stream",
     "text": [
      "WARNING: Unneeded assumptions. Used [knuckledragger_goal, by_1] ForAll([n, x], (ToReal(n) <= x) == (ToReal(n) <= floor(x)))\n"
     ]
    },
    {
     "ename": "LemmaError",
     "evalue": "(ceil(ceil(x)) == ceil(x), 'Countermodel', [knuckledragger_goal = True,\n x = 0,\n by_1 = True,\n by_0 = True,\n ceil = [0 -> 1, 1 -> 2, else -> 1 + floor(Var(0))],\n floor = [0 -> 0, 1 -> 1, else -> ToReal(ToInt(Var(0)))]])",
     "output_type": "error",
     "traceback": [
      "\u001b[0;31m---------------------------------------------------------------------------\u001b[0m",
      "\u001b[0;31mLemmaError\u001b[0m                                Traceback (most recent call last)",
      "Cell \u001b[0;32mIn[58], line 47\u001b[0m\n\u001b[1;32m     32\u001b[0m floor_minint \u001b[38;5;241m=\u001b[39m c\u001b[38;5;241m.\u001b[39mqed()\n\u001b[1;32m     35\u001b[0m \u001b[38;5;124;03m\"\"\"\u001b[39;00m\n\u001b[1;32m     36\u001b[0m \u001b[38;5;124;03mceil = kd.define(\"ceil\", [x], floor(x) + 1) \u001b[39;00m\n\u001b[1;32m     37\u001b[0m \u001b[38;5;124;03m# actually this is probably wrong. Nice. See this is exactly why knuckledragger is kind of nice.\u001b[39;00m\n\u001b[0;32m   (...)\u001b[0m\n\u001b[1;32m     45\u001b[0m \u001b[38;5;124;03m#ceil_idem = kd.lemma(ForAll([x], ceil(ceil(x)) == ceil(x)), by=[ceil.defn, floor_idem, floor_plus_1, floor_1])\u001b[39;00m\n\u001b[1;32m     46\u001b[0m \u001b[38;5;124;03m\"\"\"\u001b[39;00m\n\u001b[0;32m---> 47\u001b[0m ceil_idem \u001b[38;5;241m=\u001b[39m \u001b[43mkd\u001b[49m\u001b[38;5;241;43m.\u001b[39;49m\u001b[43mlemma\u001b[49m\u001b[43m(\u001b[49m\u001b[43mceil\u001b[49m\u001b[43m(\u001b[49m\u001b[43mceil\u001b[49m\u001b[43m(\u001b[49m\u001b[43mx\u001b[49m\u001b[43m)\u001b[49m\u001b[43m)\u001b[49m\u001b[43m \u001b[49m\u001b[38;5;241;43m==\u001b[39;49m\u001b[43m \u001b[49m\u001b[43mceil\u001b[49m\u001b[43m(\u001b[49m\u001b[43mx\u001b[49m\u001b[43m)\u001b[49m\u001b[43m,\u001b[49m\u001b[43m \u001b[49m\u001b[43mby\u001b[49m\u001b[38;5;241;43m=\u001b[39;49m\u001b[43m[\u001b[49m\u001b[43mceil\u001b[49m\u001b[38;5;241;43m.\u001b[39;49m\u001b[43mdefn\u001b[49m\u001b[43m,\u001b[49m\u001b[43m \u001b[49m\u001b[43mfloor\u001b[49m\u001b[38;5;241;43m.\u001b[39;49m\u001b[43mdefn\u001b[49m\u001b[43m]\u001b[49m\u001b[43m)\u001b[49m\n",
      "File \u001b[0;32m~/Documents/python/knuckledragger/knuckledragger/tactics.py:80\u001b[0m, in \u001b[0;36mlemma\u001b[0;34m(thm, by, admit, timeout, dump, solver)\u001b[0m\n\u001b[1;32m     78\u001b[0m \u001b[38;5;28;01mif\u001b[39;00m res \u001b[38;5;241m!=\u001b[39m z3\u001b[38;5;241m.\u001b[39munsat:\n\u001b[1;32m     79\u001b[0m     \u001b[38;5;28;01mif\u001b[39;00m res \u001b[38;5;241m==\u001b[39m z3\u001b[38;5;241m.\u001b[39msat:\n\u001b[0;32m---> 80\u001b[0m         \u001b[38;5;28;01mraise\u001b[39;00m kd\u001b[38;5;241m.\u001b[39mkernel\u001b[38;5;241m.\u001b[39mLemmaError(thm, \u001b[38;5;124m\"\u001b[39m\u001b[38;5;124mCountermodel\u001b[39m\u001b[38;5;124m\"\u001b[39m, s\u001b[38;5;241m.\u001b[39mmodel())\n\u001b[1;32m     81\u001b[0m     \u001b[38;5;28;01mraise\u001b[39;00m kd\u001b[38;5;241m.\u001b[39mkernel\u001b[38;5;241m.\u001b[39mLemmaError(\u001b[38;5;124m\"\u001b[39m\u001b[38;5;124mlemma\u001b[39m\u001b[38;5;124m\"\u001b[39m, thm, res)\n\u001b[1;32m     82\u001b[0m \u001b[38;5;28;01melse\u001b[39;00m:\n",
      "\u001b[0;31mLemmaError\u001b[0m: (ceil(ceil(x)) == ceil(x), 'Countermodel', [knuckledragger_goal = True,\n x = 0,\n by_1 = True,\n by_0 = True,\n ceil = [0 -> 1, 1 -> 2, else -> 1 + floor(Var(0))],\n floor = [0 -> 0, 1 -> 1, else -> ToReal(ToInt(Var(0)))]])"
     ]
    }
   ],
   "source": [
    "import knuckledragger as kd\n",
    "from z3 import *\n",
    "x,y = Reals(\"x y\")\n",
    "floor = kd.define(\"floor\", [x], z3.ToReal(z3.ToInt(x)))\n",
    "#floor_idem = kd.lemma(ForAll([x], floor(floor(x)) <= floor(x)), by=[floor.defn], timeout=5000)\n",
    "#floor_idem = kd.lemma(ForAll([x], floor(floor(x)) == floor(x)), by=[floor.defn, floor_idem], timeout=5000)\n",
    "n, m = Ints(\"n m\")\n",
    "int_real_galois = kd.lemma(ForAll([x,n], (x < ToReal(n)) == (ToInt(x) < n)))\n",
    "int_real_galois_ge = kd.lemma(ForAll([x,n], (ToReal(n) <= x) == (n <= ToInt(x))))\n",
    "#_1 = kd.lemma(ForAll([n],z3.ToInt(z3.ToReal(n)) == n))\n",
    "_2 = kd.lemma(ForAll([x], z3.ToInt(floor(x)) == z3.ToInt(x)), by=[floor.defn])\n",
    "\n",
    "floor_idem = kd.lemma(ForAll([x], floor(floor(x)) == floor(x)), by=[floor.defn, _2]) # nice. got it. Needed lemma _2\n",
    "floor_le = kd.lemma(ForAll([x], floor(x) <= x), by=[floor.defn])\n",
    "floor_gt = kd.lemma(ForAll([x], x < floor(x) + 1), by=[floor.defn])\n",
    "\n",
    "\n",
    "\n",
    "#floor_mono = kd.lemma(kd.QForAll([x,y], x <= y, floor(x) <= floor(y)), by=[floor.defn, floor_idem])\n",
    "toreal_mono = kd.lemma(ForAll([n,m], (n <= m) == (z3.ToReal(n) <= z3.ToReal(m))))\n",
    "\n",
    "\n",
    "#floor_minint = kd.lemma(ForAll([x, n], Implies(ToReal(n) <= floor(x), ToReal(n) <= x)), by=[floor.defn])\n",
    "# maybe there is some wya to get this one?\n",
    "# should follow from falois_get + monotonicit if ToReal\n",
    "#floor_minint2 = kd.axiom(ForAll([x, n], Implies(ToReal(n) <= x, ToReal(n) <= floor(x))), by=[floor_minint])\n",
    "#floor_minint = kd.lemma(ForAll([x, n], (ToReal(n) <= floor(x)) == (ToReal(n) <= x)), by=[floor_minint2, floor_le])\n",
    "c = kd.Calc([n,x], z3.ToReal(n) <= x)\n",
    "c.eq(n <= z3.ToInt(x))\n",
    "#c.eq(z3.ToReal(n) <= z3.ToReal(z3.ToInt(x))) # monotonicty of ToReal. Doesn't need the hint\n",
    "c.eq(z3.ToReal(n) <= floor(x), by=[floor.defn])\n",
    "floor_minint = c.qed()\n",
    "\n",
    "\n",
    "\"\"\"\n",
    "ceil = kd.define(\"ceil\", [x], floor(x) + 1) \n",
    "# actually this is probably wrong. Nice. See this is exactly why knuckledragger is kind of nice.\n",
    "# a counterexample wou'dve been nice\n",
    "floor_plus_n = kd.lemma(ForAll([x,n], floor(x + ToReal(n)) == floor(x) + ToReal(n)), by=[floor.defn])\n",
    "floor_plus_1 = kd.lemma(ForAll([x], floor(x+1) == floor(x) + 1), by=[floor.defn])\n",
    "floor_1 = kd.lemma(floor(1) == 1, by=[floor.defn])\n",
    "c = kd.Calc([x], ceil(ceil(x)))\n",
    "c.eq(floor(floor(x) + 1) + 1, by=[ceil.defn])\n",
    "c.eq()\n",
    "#ceil_idem = kd.lemma(ForAll([x], ceil(ceil(x)) == ceil(x)), by=[ceil.defn, floor_idem, floor_plus_1, floor_1])\n",
    "\"\"\"\n",
    "\n",
    "ceil = kd.define(\"ceil\", [x], smt.If(floor(x) == x, floor(x), floor(x) + 1))\n",
    "\n",
    "ceil_floor = kd.lemma(ForAll([x], floor(x) <= ceil(x)), by=[ceil.defn])\n",
    "\n",
    "ceil_idem = kd.lemma(ceil(ceil(x)) == ceil(x), by=[ceil.defn, floor.defn])\n",
    "# hmm. so maybe the way to nitpick is to peel off the outer forall.\n"
   ]
  },
  {
   "cell_type": "code",
   "execution_count": 42,
   "metadata": {},
   "outputs": [
    {
     "name": "stdout",
     "output_type": "stream",
     "text": [
      "proved\n"
     ]
    }
   ],
   "source": [
    "prove(ToReal(ToInt(ToReal(ToInt(RealVal(3.8))))) == ToReal(ToInt(RealVal(3.4))))"
   ]
  },
  {
   "cell_type": "markdown",
   "metadata": {},
   "source": [
    "# Pow\n",
    "\n",
    "https://en.m.wikipedia.org/wiki/Tarski's_high_school_algebra_problem\n",
    "https://en.m.wikipedia.org/wiki/Exponential_field\n",
    "\n",
    "https://en.m.wikipedia.org/wiki/Exponentially_closed_field\n",
    "\n",
    "https://en.m.wikipedia.org/wiki/Schanuel%27s_conjecture\n",
    "https://en.m.wikipedia.org/wiki/Richardson%27s_theorem - \n",
    "\n",
    "\n",
    "The sum formula for expoentnation and hence log / sine seem to be nearly algebraic definitions\n",
    "https://math.stackexchange.com/questions/702414/what-is-exponentiation\n",
    "https://math.stackexchange.com/questions/3336/how-many-ways-are-there-to-define-sine-and-cosine\n",
    "https://math.stackexchange.com/questions/63102/how-to-prove-periodicity-of-sinx-or-cosx-starting-from-the-taylor-seri\n",
    "\n",
    "Rationalk exponentiation relation\n",
    "define(\"ratexp\", [x,y,n,m], pow(x,n) == pow(y,m))\n",
    "+ something that says exp is continuous.\n",
    "\n",
    "pow(x,y) * pow(x,z) == pow(x, y + z)\n",
    "pow(pow(x,y), z) == pow(x, y * z)\n",
    "\n",
    "\n",
    "\n",
    "Continuous recursion. How do we dignify our definitions?\n",
    "https://www.sciencedirect.com/science/article/pii/0304397595002480\n",
    "https://www.sciencedirect.com/science/article/pii/S0885064X16300255\n",
    "\n",
    "y(0) = \n",
    "\n",
    "this defines ln by quadrature\n",
    "t * y' = 1 \n",
    "Then exp is inverse/.\n",
    "\n",
    "https://math.stackexchange.com/questions/4202/induction-on-real-numbers\n",
    "https://arxiv.org/abs/1811.00284 First-Order Continuous Induction, and a Logical Study of Real Closed Fields\n",
    "\n",
    "https://en.m.wikipedia.org/wiki/Hahn_series\n",
    "https://en.m.wikipedia.org/wiki/Transseries https://arxiv.org/abs/0801.4877 transseries for beginners\n",
    "https://en.m.wikipedia.org/wiki/Formal_power_series"
   ]
  },
  {
   "cell_type": "code",
   "execution_count": 8,
   "metadata": {},
   "outputs": [],
   "source": [
    "import knuckledragger as kd\n",
    "from z3 import *\n",
    "x = Real(\"x\")\n",
    "pow2 = Function(\"pow2\", RealSort(), RealSort())\n",
    "pow2_mul = kd.axiom( ForAll([x], pow2(x) * pow2(y) == pow2(x + y)))\n",
    "pow2_one = kd.axiom(pow2(1) == 2)\n",
    "pow2_zero = kd.axiom(pow2(0) == 1)\n",
    "pow2_pow2 = kd.axiom(ForAll([x], pow2(pow2(x)) == pow2(2*x)))\n",
    "\n",
    "\n"
   ]
  },
  {
   "cell_type": "code",
   "execution_count": 9,
   "metadata": {},
   "outputs": [
    {
     "name": "stdout",
     "output_type": "stream",
     "text": [
      "WARNING: Unneeded assumptions. Used [by_1, knuckledragger_goal] ForAll(n, 2*2**n == pow2(1)*pow2(n))\n",
      "WARNING: Unneeded assumptions. Used [by_0, knuckledragger_goal, by_1] ForAll(n, pow2(n + 1) - pow2(n) == pow2(n))\n"
     ]
    }
   ],
   "source": [
    "import knuckledragger as kd\n",
    "from z3 import *\n",
    "\n",
    "x = Real(\"x\")\n",
    "n, m = Reals(\"n m\")\n",
    "pow2 = kd.define(\"pow2\", [x], 2 ** x)\n",
    "pow2_add_raw = kd.axiom(ForAll([n,m], (2**n) * (2 ** m)  == 2**(n + m)))\n",
    "pow2_add = kd.lemma(ForAll([n,m], pow2(n) * pow2(m) == pow2(n + m)), by=[pow2.defn, pow2_add_raw])\n",
    "pow2_1 = kd.lemma(ForAll([n], pow2(1) == 2), by=[pow2.defn])\n",
    "# kd.lemma(ForAll([x,n,m], (x**n) * (x ** m)  == x**(n + m)))\n",
    "#kd.lemma(ForAll([n,m], (2.1**n) * (2.1 ** m)  == 2.1**(n + m)))\n",
    "kd.lemma(ForAll([x], x**2 * x**3 == x ** 5))\n",
    "kd.lemma(ForAll([n,m], (2**(n + 1)) * (2 ** m)  == 2**(n + m + 1)), by=[pow2_add_raw])\n",
    "#pow2_one = kd.lemma(ForAll([n], 2 ** (n + 1) == 2 * (2 ** n)), by=[pow2_add])\n",
    "c = kd.Calc([n], 2 * 2 ** n)\n",
    "c.eq(RealVal(2) ** 1 * 2 ** n )\n",
    "c.eq(pow2(1) * pow2(n) , by=[pow2.defn])\n",
    "c.qed()\n",
    "c.eq(pow2(n + 1), by=[pow2_add])\n",
    "#c.qed() # fails\n",
    "c.eq(2 ** (n + 1), by=[pow2.defn])\n",
    "c.lemmas\n",
    "# c.qed() #fails. Yikes.\n",
    "\n",
    "c = kd.Calc([n], \n",
    "     pow2(n + 1) - pow2(n))\n",
    "c.eq(pow2(1) * pow2(n) - pow2(n), by=[pow2_add])\n",
    "c.eq(2 * pow2(n) - pow2(n),       by=[pow2_1])\n",
    "c.eq(pow2(n))\n",
    "pow2_diff = c.qed()\n",
    "\n",
    "# solve difference equation by induction\n",
    "\n",
    "# And(P(0), ForAll([n], P(n) == P(n+1))) == ForAll([n], P(n))\n",
    "\n",
    "#kd.lemma(pow2(n + 1) - pow2(n) == pow2(n), by=[pow2.defn])\n"
   ]
  },
  {
   "cell_type": "code",
   "execution_count": 89,
   "metadata": {},
   "outputs": [],
   "source": [
    "import knuckledragger as kd\n",
    "from knuckledragger.theories.Real import R\n",
    "from knuckledragger.utils import calc\n",
    "from z3 import *\n",
    "x,y,z = Reals('x y z')\n",
    "pow = Function(\"pow\", R, R, R)\n",
    "# I'm not sure pow should even be define for x < 0. Is this a bug?\n",
    "pow_add = kd.axiom(ForAll([x, y, z], pow(x, y + z) == pow(x, y) * pow(x, z)))\n",
    "pow_\n",
    "# not needed as axiom? But needs some kind of funky inductionlike thing to generally expression real mul in terms of real add\n",
    "pow_mul = kd.axiom(ForAll([x, y, z], pow(x, y * z) == pow(pow(x, y), z)))\n",
    "\n",
    "pow_pos = kd.axiom(ForAll([x,y], Implies(x >= 0, pow(x, y) >= 0)))\n",
    "\n",
    "mul_pow = kd.axiom(ForAll([x, y, z], pow(x * y, z) == pow(x, z) * pow(y, z)))\n",
    "pow_zero = kd.axiom(ForAll([x, y], pow(x, 0) == 1))\n",
    "pow_one = kd.axiom(ForAll([x], pow(x, 1) == x))\n",
    "_1 = kd.lemma(ForAll([x], pow(x, 1) * pow(x, 1) == x * x), by=[pow_one])\n",
    "_2 = kd.lemma(ForAll([x], pow(x, 2) == pow(x,1) * pow(x,1)), by=[pow_add])\n",
    "pow_two = kd.lemma(ForAll([x], pow(x, 2) == x * x), by=[_1, _2])\n",
    "\n",
    "pow_two = calc(\n",
    "    pow(x,2),            pow_add,\n",
    "    pow(x,1) * pow(x,1), pow_one,\n",
    "    x * x,\n",
    "    vars=x,\n",
    "    #by=[pow_add, pow_one]\n",
    "    )\n",
    "\n",
    "pow_three = calc(\n",
    "    pow(x,3),            pow_add,\n",
    "    pow(x,2) * pow(x,1), pow_one, pow_two,\n",
    "    x * x * x,\n",
    "    vars=x,\n",
    "    )\n",
    "\n"
   ]
  },
  {
   "cell_type": "markdown",
   "metadata": {},
   "source": [
    "Pow eval tactic\n",
    "For rational values of powers, we can build an exact polynomial that says what the solution is.\n",
    "Kind of part of a general simp tactic?\n"
   ]
  },
  {
   "cell_type": "code",
   "execution_count": 146,
   "metadata": {},
   "outputs": [],
   "source": [
    "c = Calc([x,y], pow(x,y))\n",
    "c.eq(pow(x,1) * pow(x,y-1), by=[pow_add])\n",
    "c.eq(x * pow(x,y-1), by=[pow_one])\n",
    "pow_pred = c.qed()\n",
    "#kd.lemma(ForAll([x, y], pow(x, y) == x * pow(x, y - 1)), by=[pow_add, pow_one])\n",
    "\n"
   ]
  },
  {
   "cell_type": "code",
   "execution_count": 149,
   "metadata": {},
   "outputs": [],
   "source": [
    "pow_rec = kd.lemma(ForAll([x, y], pow(x, y) == If(y == 0, 1, x * pow(x, y - 1))), by=[pow_pred, pow_zero])"
   ]
  },
  {
   "cell_type": "code",
   "execution_count": 45,
   "metadata": {},
   "outputs": [],
   "source": [
    "pow_mul_comm = kd.lemma(ForAll([x, y, z], pow(pow(x, z),y) == pow(pow(x, y), z)), by=[pow_mul])"
   ]
  },
  {
   "cell_type": "code",
   "execution_count": 137,
   "metadata": {},
   "outputs": [],
   "source": [
    "_1 = calc(\n",
    "    pow(x,-1) * pow(x,1),   pow_add,\n",
    "    pow(x,0),               pow_zero,\n",
    "    1,\n",
    "    vars=x,\n",
    "    )\n",
    "\n",
    "pow_none = kd.lemma(ForAll([x], pow(x, -1) == 1/x), by=[_1, pow_one])\n",
    "\n",
    "\n",
    "#pow_neg = #kd.lemma(ForAll([x, y], pow(x, -y) == 1/pow(x, y)), by=[pow_none, pow_mul])\n",
    "pow_neg_cancel = kd.lemma(ForAll([x,y], pow(x,y) * pow(x,-y) == 1), by=[pow_zero, pow_add])\n",
    "pow_neg = kd.lemma(ForAll([x,y], pow(x,-y) == 1/pow(x,y)), by=[pow_neg_cancel])"
   ]
  },
  {
   "cell_type": "code",
   "execution_count": null,
   "metadata": {},
   "outputs": [],
   "source": [
    "#ipshitz = kd.define(\"liphitz\", [f,C], ForAll([x], f() <= C[x]) )\n",
    "#diff = kd.define(\"diff\", [f,g], ForAll([x,dx], f(x+dx(eps)) - f(x) <= g(x) * dx(eps)) "
   ]
  },
  {
   "cell_type": "code",
   "execution_count": null,
   "metadata": {},
   "outputs": [],
   "source": []
  },
  {
   "cell_type": "code",
   "execution_count": 91,
   "metadata": {},
   "outputs": [
    {
     "data": {
      "text/html": [
       "&#8870;pow(2, 1/2) > 7/5"
      ],
      "text/plain": [
       "|- pow(2, 1/2) > 7/5"
      ]
     },
     "execution_count": 91,
     "metadata": {},
     "output_type": "execute_result"
    }
   ],
   "source": [
    "pow_sqrt = calc(\n",
    "    pow(x, 1/2) * pow(x, 1/2),            pow_add,\n",
    "    pow(x,1),                             pow_one,\n",
    "    x,\n",
    "    vars=x,\n",
    ")\n",
    "#kd.lemma(ForAll([x], pow(x, 1/2) * pow(x, 1/2) == x), by=[pow_mul])\n",
    "\n",
    "#kd.lemma(And(1.4 <= pow(2,1/2), pow(2,1/2) <= 1.42), by=[pow_sqrt])\n",
    "kd.lemma(pow(2,1/2) <= 1.42, by=[pow_sqrt])\n",
    "# Hmm. Can I prove pow is positive? I'm not sure.\n",
    "kd.lemma(-1.42 <= pow(2,1/2), by=[pow_sqrt])\n",
    "kd.lemma(1.4 < pow(2,1/2), by=[pow_sqrt, pow_pos])\n"
   ]
  },
  {
   "cell_type": "code",
   "execution_count": 61,
   "metadata": {},
   "outputs": [
    {
     "data": {
      "text/plain": [
       "1.4142135623730951"
      ]
     },
     "execution_count": 61,
     "metadata": {},
     "output_type": "execute_result"
    }
   ],
   "source": [
    "import numpy as np\n",
    "np.sqrt(2)"
   ]
  },
  {
   "cell_type": "code",
   "execution_count": 135,
   "metadata": {},
   "outputs": [],
   "source": [
    "def ForAll(vars, expr):\n",
    "    if len(vars) == 0:\n",
    "        return expr\n",
    "    else:\n",
    "        return z3.ForAll(vars,expr)\n",
    "\n",
    "# Hoh yeah, I should replace calc. This is way better\n",
    "\n",
    "#https://note.nkmk.me/en/python-method-chain-line-break/\n",
    "\n",
    "#class Lemma(): .have()."
   ]
  },
  {
   "cell_type": "code",
   "execution_count": null,
   "metadata": {},
   "outputs": [],
   "source": [
    "# old calc\n",
    "def calc(*args, vars=None, by=[], op=eq) -> Proof:\n",
    "    \"\"\"\n",
    "    calc is for equational reasoning.\n",
    "    One can write a sequence of formulas interspersed with useful lemmas.\n",
    "    Inequational chaining can be done via op=lambda x,y: x <= y\n",
    "    \"\"\"\n",
    "\n",
    "    def thm(lhs, rhs):\n",
    "        if vars == None:\n",
    "            return op(lhs, rhs)\n",
    "        else:\n",
    "            return z3.ForAll(vars, op(lhs, rhs))\n",
    "\n",
    "    lemmas = []\n",
    "    local_by = []\n",
    "    lhs = args[0]\n",
    "    for arg in args[1:]:\n",
    "        if is_proof(arg):\n",
    "            local_by.append(arg)\n",
    "        else:\n",
    "            lemmas.append(lemma(thm(lhs, arg), by=by + local_by))\n",
    "            lhs = arg\n",
    "            local_by = []\n",
    "    return lemma(thm(args[0], args[-1]), by=by + lemmas)\n"
   ]
  },
  {
   "cell_type": "code",
   "execution_count": 81,
   "metadata": {},
   "outputs": [],
   "source": [
    "\n",
    "# Yeah, I can prove pow pow examples\n",
    "pow_4 = (\n",
    "    Calc([x], pow(pow(x, 2), 2))\n",
    "    .eq(pow(pow(x, 2),1) * pow(pow(x, 2), 1), by=[pow_add])\n",
    "    .eq(pow(x, 2) * pow(x, 2),                by=[pow_one])\n",
    "    .eq(pow(x, 4),                            by=[pow_add])\n",
    "    .qed()\n",
    ")"
   ]
  },
  {
   "cell_type": "code",
   "execution_count": 86,
   "metadata": {},
   "outputs": [
    {
     "data": {
      "text/html": [
       "&#8870;ForAll(x, pow(pow(x, 2), 2) == pow(x, 4))"
      ],
      "text/plain": [
       "|- ForAll(x, pow(pow(x, 2), 2) == pow(x, 4))"
      ]
     },
     "execution_count": 86,
     "metadata": {},
     "output_type": "execute_result"
    }
   ],
   "source": [
    "c = Calc([x], pow(pow(x, 2), 2))\n",
    "c.eq(pow(pow(x, 2),1) * pow(pow(x, 2), 1), by=[pow_add])\n",
    "c.eq(pow(x, 2) * pow(x, 2),                by=[pow_one])\n",
    "c.eq(pow(x, 4),                            by=[pow_add])\n",
    "pow_4 = c.qed()"
   ]
  },
  {
   "cell_type": "markdown",
   "metadata": {},
   "source": [
    "# Exp"
   ]
  },
  {
   "cell_type": "code",
   "execution_count": 16,
   "metadata": {},
   "outputs": [
    {
     "ename": "LemmaError",
     "evalue": "('lemma', ForAll(x, exp(x) > 0), unknown)",
     "output_type": "error",
     "traceback": [
      "\u001b[0;31m---------------------------------------------------------------------------\u001b[0m",
      "\u001b[0;31mLemmaError\u001b[0m                                Traceback (most recent call last)",
      "Cell \u001b[0;32mIn[16], line 9\u001b[0m\n\u001b[1;32m      7\u001b[0m exp_add \u001b[38;5;241m=\u001b[39m kd\u001b[38;5;241m.\u001b[39maxiom(z3\u001b[38;5;241m.\u001b[39mForAll([x, y], exp(x \u001b[38;5;241m+\u001b[39m y) \u001b[38;5;241m==\u001b[39m exp(x) \u001b[38;5;241m*\u001b[39m exp(y)))\n\u001b[1;32m      8\u001b[0m exp_lower \u001b[38;5;241m=\u001b[39m kd\u001b[38;5;241m.\u001b[39maxiom(z3\u001b[38;5;241m.\u001b[39mForAll([x], exp(x) \u001b[38;5;241m>\u001b[39m\u001b[38;5;241m=\u001b[39m \u001b[38;5;241m1\u001b[39m \u001b[38;5;241m+\u001b[39m x)) \u001b[38;5;66;03m# tight low approximation at x = 0.\u001b[39;00m\n\u001b[0;32m----> 9\u001b[0m exp_pos \u001b[38;5;241m=\u001b[39m \u001b[43mkd\u001b[49m\u001b[38;5;241;43m.\u001b[39;49m\u001b[43mlemma\u001b[49m\u001b[43m(\u001b[49m\u001b[43mz3\u001b[49m\u001b[38;5;241;43m.\u001b[39;49m\u001b[43mForAll\u001b[49m\u001b[43m(\u001b[49m\u001b[43m[\u001b[49m\u001b[43mx\u001b[49m\u001b[43m]\u001b[49m\u001b[43m,\u001b[49m\u001b[43m \u001b[49m\u001b[43mexp\u001b[49m\u001b[43m(\u001b[49m\u001b[43mx\u001b[49m\u001b[43m)\u001b[49m\u001b[43m \u001b[49m\u001b[38;5;241;43m>\u001b[39;49m\u001b[43m \u001b[49m\u001b[38;5;241;43m0\u001b[39;49m\u001b[43m)\u001b[49m\u001b[43m,\u001b[49m\u001b[43m \u001b[49m\u001b[43mby\u001b[49m\u001b[38;5;241;43m=\u001b[39;49m\u001b[43m[\u001b[49m\u001b[43mexp_lower\u001b[49m\u001b[43m,\u001b[49m\u001b[43m \u001b[49m\u001b[43mexp_add\u001b[49m\u001b[43m]\u001b[49m\u001b[43m)\u001b[49m \u001b[38;5;66;03m# maybe we can derrive this one.\u001b[39;00m\n\u001b[1;32m     10\u001b[0m exp_pos \u001b[38;5;241m=\u001b[39m kd\u001b[38;5;241m.\u001b[39maxiom(z3\u001b[38;5;241m.\u001b[39mForAll([x], exp(x) \u001b[38;5;241m>\u001b[39m \u001b[38;5;241m0\u001b[39m)) \u001b[38;5;66;03m# maybe we can derrive this one.\u001b[39;00m\n\u001b[1;32m     11\u001b[0m exp_zero \u001b[38;5;241m=\u001b[39m kd\u001b[38;5;241m.\u001b[39mlemma(z3\u001b[38;5;241m.\u001b[39mForAll([x], exp(\u001b[38;5;241m0\u001b[39m) \u001b[38;5;241m==\u001b[39m \u001b[38;5;241m1\u001b[39m), by\u001b[38;5;241m=\u001b[39m[exp_add, exp_pos])\n",
      "File \u001b[0;32m~/Documents/python/knuckledragger/knuckledragger/tactics.py:146\u001b[0m, in \u001b[0;36mlemma\u001b[0;34m(thm, by, admit, timeout, dump, solver)\u001b[0m\n\u001b[1;32m    144\u001b[0m     \u001b[38;5;28;01mif\u001b[39;00m res \u001b[38;5;241m==\u001b[39m z3\u001b[38;5;241m.\u001b[39msat:\n\u001b[1;32m    145\u001b[0m         \u001b[38;5;28;01mraise\u001b[39;00m kd\u001b[38;5;241m.\u001b[39mkernel\u001b[38;5;241m.\u001b[39mLemmaError(thm, \u001b[38;5;124m\"\u001b[39m\u001b[38;5;124mCountermodel\u001b[39m\u001b[38;5;124m\"\u001b[39m, s\u001b[38;5;241m.\u001b[39mmodel())\n\u001b[0;32m--> 146\u001b[0m     \u001b[38;5;28;01mraise\u001b[39;00m kd\u001b[38;5;241m.\u001b[39mkernel\u001b[38;5;241m.\u001b[39mLemmaError(\u001b[38;5;124m\"\u001b[39m\u001b[38;5;124mlemma\u001b[39m\u001b[38;5;124m\"\u001b[39m, thm, res)\n\u001b[1;32m    147\u001b[0m \u001b[38;5;28;01melse\u001b[39;00m:\n\u001b[1;32m    148\u001b[0m     core \u001b[38;5;241m=\u001b[39m s\u001b[38;5;241m.\u001b[39munsat_core()\n",
      "\u001b[0;31mLemmaError\u001b[0m: ('lemma', ForAll(x, exp(x) > 0), unknown)"
     ]
    }
   ],
   "source": [
    "import knuckledragger as kd\n",
    "import z3\n",
    "exp = z3.Function(\"exp\", kd.R, kd.R)\n",
    "\n",
    "x,y,z = z3.Reals('x y z')\n",
    "#exp_zero = kd.axiom(exp(0) == 1)\n",
    "exp_add = kd.axiom(z3.ForAll([x, y], exp(x + y) == exp(x) * exp(y)))\n",
    "exp_lower = kd.axiom(z3.ForAll([x], exp(x) >= 1 + x)) # tight low approximation at x = 0.\n",
    "\n",
    "exp_pos = kd.axiom(z3.ForAll([x], exp(x) > 0)) # maybe we can derrive this one.\n",
    "exp_zero = kd.lemma(z3.ForAll([x], exp(0) == 1), by=[exp_add, exp_pos])\n",
    "\n",
    "# exp(0) = exp(0 + 0) = exp(0) * exp(0) ===> 1 = 1 * 1 or 0 = 0 * 0\n",
    "c = kd.Calc([], exp(0))\n",
    "c.eq(exp(0 + 0))\n",
    "c.eq(exp(0) * exp(0), by=[exp_add])\n",
    "_1 = kd.lemma(z3.Or(exp(0) == 0, exp(0) == 1), by=[c.qed()])\n",
    "exp_zero = kd.lemma(exp(0) == 1, by=[_1, exp_pos])\n",
    "\n",
    "exp_div = kd.lemma(z3.ForAll([x, y], exp(x)*exp(-x) == 1), by=[exp_add, exp_zero])\n",
    "exp_inv = kd.lemma(z3.ForAll([x], exp(-x) == 1/exp(x)), by=[exp_div])\n",
    "e = kd.define(\"e\", [], exp(1))\n",
    "\n",
    "\n",
    "exp_inv_lower = kd.lemma(z3.ForAll([x], exp(-x) >= 1 - x), by=[exp_lower])\n",
    "\n",
    "exp_upper = kd.lemma(z3.ForAll([x], exp(-x) * exp(x) >= (1-x) * exp(x)), by=[exp_inv_lower, exp_pos])\n",
    "exp_upper = kd.lemma(z3.ForAll([x], 1 >= (1 -x) * exp(x)), by=[exp_upper, exp_div])\n",
    "exp_upper = kd.lemma(kd.QForAll([x], x < 1, exp(x) <= 1/(1 - x)), by=[exp_upper])\n",
    "\n",
    "\n",
    "c = kd.Calc([x], 1)\n",
    "c.eq(exp(x) * exp(-x), by=[exp_div])\n",
    "c.ge((1 - x) * exp(x), by=[exp_inv_lower, exp_pos])\n",
    "c.qed()\n",
    "\n",
    "\n",
    "#kd.lemma(e() >= 2, by=[e.defn, exp_lower])\n",
    "\n",
    "#c = kd.Calc([x], exp(x))\n",
    "#c.eq(exp(x/2) * exp(x/2), by=[exp_add])\n",
    "#_1 = c.qed()\n",
    "\n",
    "#kd.lemma(e() >= 2.5, by=[e.defn, exp_lower, _1])\n",
    "#linapprox = exp(x) == exp(x + a - a) == exp(a)*exp(x - a) >= exp(a)*(1 + x - a)\n",
    "\n"
   ]
  },
  {
   "cell_type": "code",
   "execution_count": null,
   "metadata": {},
   "outputs": [],
   "source": [
    "#exp_pos = kd.lemma(z3.ForAll([x], exp(x) > 0), by=[exp_lower, exp_add]) # maybe we can derrive this one.\n",
    "# streatgey = reduced exp(x) ==>  y = n*x st  -1 < y, and then use taylor lower approx\n",
    "c = Calc([x], exp(x))\n",
    "#c.eq(exp(), by=[exp_add])"
   ]
  },
  {
   "cell_type": "code",
   "execution_count": 51,
   "metadata": {},
   "outputs": [
    {
     "name": "stdout",
     "output_type": "stream",
     "text": [
      "failed to prove\n",
      "[y = 3333333333333333/10000000000000000]\n"
     ]
    }
   ],
   "source": [
    "from z3 import *\n",
    "x,y,z = Reals('x y z')\n",
    "prove(Implies(And(y == 1/3, x > 1), (x**y) > 0))"
   ]
  },
  {
   "cell_type": "code",
   "execution_count": 57,
   "metadata": {},
   "outputs": [
    {
     "name": "stdout",
     "output_type": "stream",
     "text": [
      "failed to prove\n"
     ]
    },
    {
     "ename": "Z3Exception",
     "evalue": "model is not available",
     "output_type": "error",
     "traceback": [
      "\u001b[0;31m---------------------------------------------------------------------------\u001b[0m",
      "\u001b[0;31mZ3Exception\u001b[0m                               Traceback (most recent call last)",
      "File \u001b[0;32m~/.local/lib/python3.10/site-packages/z3/z3.py:7192\u001b[0m, in \u001b[0;36mSolver.model\u001b[0;34m(self)\u001b[0m\n\u001b[1;32m   7191\u001b[0m \u001b[38;5;28;01mtry\u001b[39;00m:\n\u001b[0;32m-> 7192\u001b[0m     \u001b[38;5;28;01mreturn\u001b[39;00m ModelRef(\u001b[43mZ3_solver_get_model\u001b[49m\u001b[43m(\u001b[49m\u001b[38;5;28;43mself\u001b[39;49m\u001b[38;5;241;43m.\u001b[39;49m\u001b[43mctx\u001b[49m\u001b[38;5;241;43m.\u001b[39;49m\u001b[43mref\u001b[49m\u001b[43m(\u001b[49m\u001b[43m)\u001b[49m\u001b[43m,\u001b[49m\u001b[43m \u001b[49m\u001b[38;5;28;43mself\u001b[39;49m\u001b[38;5;241;43m.\u001b[39;49m\u001b[43msolver\u001b[49m\u001b[43m)\u001b[49m, \u001b[38;5;28mself\u001b[39m\u001b[38;5;241m.\u001b[39mctx)\n\u001b[1;32m   7193\u001b[0m \u001b[38;5;28;01mexcept\u001b[39;00m Z3Exception:\n",
      "File \u001b[0;32m~/.local/lib/python3.10/site-packages/z3/z3core.py:4256\u001b[0m, in \u001b[0;36mZ3_solver_get_model\u001b[0;34m(a0, a1, _elems)\u001b[0m\n\u001b[1;32m   4255\u001b[0m r \u001b[38;5;241m=\u001b[39m _elems\u001b[38;5;241m.\u001b[39mf(a0, a1)\n\u001b[0;32m-> 4256\u001b[0m \u001b[43m_elems\u001b[49m\u001b[38;5;241;43m.\u001b[39;49m\u001b[43mCheck\u001b[49m\u001b[43m(\u001b[49m\u001b[43ma0\u001b[49m\u001b[43m)\u001b[49m\n\u001b[1;32m   4257\u001b[0m \u001b[38;5;28;01mreturn\u001b[39;00m r\n",
      "File \u001b[0;32m~/.local/lib/python3.10/site-packages/z3/z3core.py:1554\u001b[0m, in \u001b[0;36mElementaries.Check\u001b[0;34m(self, ctx)\u001b[0m\n\u001b[1;32m   1553\u001b[0m \u001b[38;5;28;01mif\u001b[39;00m err \u001b[38;5;241m!=\u001b[39m \u001b[38;5;28mself\u001b[39m\u001b[38;5;241m.\u001b[39mOK:\n\u001b[0;32m-> 1554\u001b[0m     \u001b[38;5;28;01mraise\u001b[39;00m \u001b[38;5;28mself\u001b[39m\u001b[38;5;241m.\u001b[39mException(\u001b[38;5;28mself\u001b[39m\u001b[38;5;241m.\u001b[39mget_error_message(ctx, err))\n",
      "\u001b[0;31mZ3Exception\u001b[0m: b'there is no current model'",
      "\nDuring handling of the above exception, another exception occurred:\n",
      "\u001b[0;31mZ3Exception\u001b[0m                               Traceback (most recent call last)",
      "\u001b[0;32m/tmp/ipykernel_2634747/1007591746.py\u001b[0m in \u001b[0;36m?\u001b[0;34m()\u001b[0m\n\u001b[0;32m----> 1\u001b[0;31m \u001b[0mprove\u001b[0m\u001b[0;34m(\u001b[0m\u001b[0mForAll\u001b[0m\u001b[0;34m(\u001b[0m\u001b[0;34m[\u001b[0m\u001b[0mx\u001b[0m\u001b[0;34m]\u001b[0m\u001b[0;34m,\u001b[0m \u001b[0mImplies\u001b[0m\u001b[0;34m(\u001b[0m\u001b[0mx\u001b[0m \u001b[0;34m>=\u001b[0m \u001b[0;36m0\u001b[0m\u001b[0;34m,\u001b[0m \u001b[0;34m(\u001b[0m\u001b[0mx\u001b[0m\u001b[0;34m**\u001b[0m\u001b[0;36m.5\u001b[0m\u001b[0;34m)\u001b[0m \u001b[0;34m**\u001b[0m\u001b[0;36m2\u001b[0m \u001b[0;34m==\u001b[0m \u001b[0mx\u001b[0m\u001b[0;34m)\u001b[0m\u001b[0;34m)\u001b[0m\u001b[0;34m)\u001b[0m\u001b[0;34m\u001b[0m\u001b[0;34m\u001b[0m\u001b[0m\n\u001b[0m",
      "\u001b[0;32m~/.local/lib/python3.10/site-packages/z3/z3.py\u001b[0m in \u001b[0;36m?\u001b[0;34m(claim, show, **keywords)\u001b[0m\n\u001b[1;32m   9228\u001b[0m     \u001b[0;32mif\u001b[0m \u001b[0mr\u001b[0m \u001b[0;34m==\u001b[0m \u001b[0munsat\u001b[0m\u001b[0;34m:\u001b[0m\u001b[0;34m\u001b[0m\u001b[0;34m\u001b[0m\u001b[0m\n\u001b[1;32m   9229\u001b[0m         \u001b[0mprint\u001b[0m\u001b[0;34m(\u001b[0m\u001b[0;34m\"proved\"\u001b[0m\u001b[0;34m)\u001b[0m\u001b[0;34m\u001b[0m\u001b[0;34m\u001b[0m\u001b[0m\n\u001b[1;32m   9230\u001b[0m     \u001b[0;32melif\u001b[0m \u001b[0mr\u001b[0m \u001b[0;34m==\u001b[0m \u001b[0munknown\u001b[0m\u001b[0;34m:\u001b[0m\u001b[0;34m\u001b[0m\u001b[0;34m\u001b[0m\u001b[0m\n\u001b[1;32m   9231\u001b[0m         \u001b[0mprint\u001b[0m\u001b[0;34m(\u001b[0m\u001b[0;34m\"failed to prove\"\u001b[0m\u001b[0;34m)\u001b[0m\u001b[0;34m\u001b[0m\u001b[0;34m\u001b[0m\u001b[0m\n\u001b[0;32m-> 9232\u001b[0;31m         \u001b[0mprint\u001b[0m\u001b[0;34m(\u001b[0m\u001b[0ms\u001b[0m\u001b[0;34m.\u001b[0m\u001b[0mmodel\u001b[0m\u001b[0;34m(\u001b[0m\u001b[0;34m)\u001b[0m\u001b[0;34m)\u001b[0m\u001b[0;34m\u001b[0m\u001b[0;34m\u001b[0m\u001b[0m\n\u001b[0m\u001b[1;32m   9233\u001b[0m     \u001b[0;32melse\u001b[0m\u001b[0;34m:\u001b[0m\u001b[0;34m\u001b[0m\u001b[0;34m\u001b[0m\u001b[0m\n\u001b[1;32m   9234\u001b[0m         \u001b[0mprint\u001b[0m\u001b[0;34m(\u001b[0m\u001b[0;34m\"counterexample\"\u001b[0m\u001b[0;34m)\u001b[0m\u001b[0;34m\u001b[0m\u001b[0;34m\u001b[0m\u001b[0m\n\u001b[1;32m   9235\u001b[0m         \u001b[0mprint\u001b[0m\u001b[0;34m(\u001b[0m\u001b[0ms\u001b[0m\u001b[0;34m.\u001b[0m\u001b[0mmodel\u001b[0m\u001b[0;34m(\u001b[0m\u001b[0;34m)\u001b[0m\u001b[0;34m)\u001b[0m\u001b[0;34m\u001b[0m\u001b[0;34m\u001b[0m\u001b[0m\n",
      "\u001b[0;32m~/.local/lib/python3.10/site-packages/z3/z3.py\u001b[0m in \u001b[0;36m?\u001b[0;34m(self)\u001b[0m\n\u001b[1;32m   7190\u001b[0m         \"\"\"\n\u001b[1;32m   7191\u001b[0m         \u001b[0;32mtry\u001b[0m\u001b[0;34m:\u001b[0m\u001b[0;34m\u001b[0m\u001b[0;34m\u001b[0m\u001b[0m\n\u001b[1;32m   7192\u001b[0m             \u001b[0;32mreturn\u001b[0m \u001b[0mModelRef\u001b[0m\u001b[0;34m(\u001b[0m\u001b[0mZ3_solver_get_model\u001b[0m\u001b[0;34m(\u001b[0m\u001b[0mself\u001b[0m\u001b[0;34m.\u001b[0m\u001b[0mctx\u001b[0m\u001b[0;34m.\u001b[0m\u001b[0mref\u001b[0m\u001b[0;34m(\u001b[0m\u001b[0;34m)\u001b[0m\u001b[0;34m,\u001b[0m \u001b[0mself\u001b[0m\u001b[0;34m.\u001b[0m\u001b[0msolver\u001b[0m\u001b[0;34m)\u001b[0m\u001b[0;34m,\u001b[0m \u001b[0mself\u001b[0m\u001b[0;34m.\u001b[0m\u001b[0mctx\u001b[0m\u001b[0;34m)\u001b[0m\u001b[0;34m\u001b[0m\u001b[0;34m\u001b[0m\u001b[0m\n\u001b[1;32m   7193\u001b[0m         \u001b[0;32mexcept\u001b[0m \u001b[0mZ3Exception\u001b[0m\u001b[0;34m:\u001b[0m\u001b[0;34m\u001b[0m\u001b[0;34m\u001b[0m\u001b[0m\n\u001b[0;32m-> 7194\u001b[0;31m             \u001b[0;32mraise\u001b[0m \u001b[0mZ3Exception\u001b[0m\u001b[0;34m(\u001b[0m\u001b[0;34m\"model is not available\"\u001b[0m\u001b[0;34m)\u001b[0m\u001b[0;34m\u001b[0m\u001b[0;34m\u001b[0m\u001b[0m\n\u001b[0m",
      "\u001b[0;31mZ3Exception\u001b[0m: model is not available"
     ]
    }
   ],
   "source": [
    "prove(ForAll([x], Implies(x >= 0, (x**.5) **2 == x)))"
   ]
  },
  {
   "cell_type": "code",
   "execution_count": 129,
   "metadata": {},
   "outputs": [],
   "source": [
    "#def exists_schema( name, args, body):\n",
    "\n",
    "sqrt = kd.define(\"sqrt\", [x], pow(x, 1/2))\n",
    "sqrt_square = kd.lemma(ForAll([x], sqrt(x) * sqrt(x) == x), by=[pow_sqrt, sqrt.defn])\n",
    "\n",
    "\n",
    "euler = Const(\"e\", R)\n",
    "euler_approx = kd.axiom(2.7 < euler, euler < 2.8)\n",
    "exp = kd.define(\"exp\", [x], pow(euler, x))\n",
    "exp_approx = kd.axiom(ForAll([x], exp(x) >= 1 + x))\n",
    "\n",
    "nexp_approx = kd.lemma(ForAll([x], exp(-x) >= 1 - x), by=[exp_approx])\n",
    "\n",
    "c = Calc([], exp(-1))\n",
    "c.eq(pow(euler, -1), by=[exp.defn])\n",
    "c.eq(1/euler,        by=[pow_none])\n",
    "c.eq(1/pow(euler,1), by=[pow_one])\n",
    "c.eq(1/exp(1),       by=[exp.defn])\n",
    "exp1_inv = c.qed()\n",
    "#kd.lemma(ForAll([x], exp(-1) == pow(euler,-1)), by=[exp.defn, pow_none, euler_approx])\n",
    "\n"
   ]
  },
  {
   "cell_type": "code",
   "execution_count": null,
   "metadata": {},
   "outputs": [],
   "source": [
    "import knuckledragger as kd\n",
    "import knuckledragger.theories.Real as R\n",
    "\n",
    "def exp_bound_n(m):\n",
    "    kd.lemma(exp(x / 2**m) >= 1 + x / 2**m, by=[exp_lower])\n",
    "    acc = 2**m\n",
    "    for i in range(m):\n",
    "        acc = acc / 2\n",
    "        kd.lemma(exp(x / acc) >= 1 + x / acc, by=[exp_lower])\n",
    "\n",
    "\n",
    "\n",
    "_1 = kd.lemma(exp(x / 4) * exp(x / 4) == exp(x / 2), by=[exp_add])\n",
    "_2 = kd.lemma(exp(x / 2) * exp(x / 2) == exp(x), by=[exp_add])\n",
    "_3 = kd.lemma(exp(x / 4) >= 1 + x / 4, by=[exp_lower])\n",
    "_4 = kd.lemma(exp(x / 4)**4 == exp(x), by=[_1, _2])\n",
    "(1 + x/4)**4 >= exp(x/4)**4 \n",
    "\n",
    "\n",
    "\n"
   ]
  },
  {
   "cell_type": "markdown",
   "metadata": {},
   "source": [
    "# Polynomials\n",
    "\n",
    "Lagrange interpolation\n",
    "falling factorials\n",
    "finite difference\n",
    "polynomial rolle\n",
    "\n",
    "Maybe don't try to encode a general concept at first.\n",
    "\n",
    "\n",
    "\n",
    "diff := f(x) = f(a) + something*(x - a)\n",
    "\n",
    "(f(x) - f(a)) / (x - a) _does not work_, because there is a divide by zero.\n",
    "The \n",
    "\n",
    "p(x) = p(0) + (p(x) - p(0) / x)*x\n",
    "\n",
    "p(x) - p(0) / x is true in a sense. It has to be. But not in the real function sense. Polynomial division.\n",
    "\n",
    "exp(x) = exp(a) + (exp(x) - exp(a) / (x - a)) * (x - a)\n",
    "but\n",
    "1 + x + x**2/2 - 1 + a + x**2\n",
    "exp(x) = e(a) + exp(a)(x - a) + exp(a)(x-a)**2/2 + ...\n",
    "exp(x) = exp(a) +  (exp(a) * (exp(x))  ) * (x - a)\n",
    "\n",
    "exp(x) - exp(a) / (x - a) = exp(y)\n",
    "exp(x) - exp(a) = exp(y) * (x - a) # no pole now.\n",
    "\n",
    "exp(x) = exp(a) + exp(y(x,a)) * (x - a)\n",
    "min(x,a) <= y(x,a) <= max(x,a)\n",
    "\n",
    "singularity removal. Only the right choice keeps the remainder function continuous\n",
    "y = If(x == a , exp(a), ln(exp(x) - exp(a)) - ln(x - a))\n",
    "\n",
    "\n",
    "exp(x) = exp(a) + exp(y)*(x-a)\n",
    "\n",
    "\n",
    "p(x) = p(0) + p'(eps(x))*x\n",
    "This is the lagrange form of the remainder based on intermeidtae value theorem.\n",
    "\n",
    "exact finite integration\n",
    " = p'(eps)(b - a) + p'(eps2)(c - b) + ...\n",
    "\n",
    "\n",
    "\n",
    " singularity removal using sympy limit features."
   ]
  },
  {
   "cell_type": "code",
   "execution_count": null,
   "metadata": {},
   "outputs": [],
   "source": [
    "horner "
   ]
  },
  {
   "cell_type": "markdown",
   "metadata": {},
   "source": [
    "# Ln\n",
    "\n",
    "$\\int 1/t = ln(t) $\n",
    "\n",
    "Mean value theorem? Extreme value theorem? Intermediate?\n",
    "\n",
    "\n"
   ]
  },
  {
   "cell_type": "code",
   "execution_count": null,
   "metadata": {},
   "outputs": [],
   "source": [
    "ln = z3.Function(\"ln\", RealSort(), RealSort())\n",
    "ln_def = kd.axiom(ForAll([x], ln(exp(x)) == x))\n",
    "# is this sufficient?"
   ]
  },
  {
   "cell_type": "markdown",
   "metadata": {},
   "source": [
    "# Geometric\n"
   ]
  },
  {
   "cell_type": "code",
   "execution_count": 19,
   "metadata": {},
   "outputs": [
    {
     "data": {
      "text/html": [
       "&#8870;ForAll(x, (1 - x)*(1 + x**1) == 1 - x**2)"
      ],
      "text/plain": [
       "|- ForAll(x, (1 - x)*(1 + x**1) == 1 - x**2)"
      ]
     },
     "execution_count": 19,
     "metadata": {},
     "output_type": "execute_result"
    }
   ],
   "source": [
    "def geom(n):\n",
    "    x = z3.Real(\"x\")\n",
    "    return kd.lemma(z3.ForAll([x], (1 - x) * (1 + z3.Sum([x**i for i in range(1,n)]) )== 1 - x**n))\n",
    "geom(2)\n",
    "\n",
    "\n",
    "\n",
    "\n",
    "\n",
    "#z3.prove((1 - x)*(1 + x**1) == 1 - x**2)"
   ]
  },
  {
   "cell_type": "code",
   "execution_count": null,
   "metadata": {},
   "outputs": [],
   "source": [
    "# singularity removal\n",
    "# singularty removal using sympy to do limits in closed form?\n",
    "# take closed form as defition. Summation formula as property.\n",
    "kd.define(\"geom\", [x,n], smt.If(x == 1, n, (1 - x**n) / (1 - x)))\n",
    "kd.lemma(ForAll([x,n], geom(x,n) == x**n + geom(x, n + 1)))"
   ]
  },
  {
   "cell_type": "code",
   "execution_count": 7,
   "metadata": {},
   "outputs": [
    {
     "data": {
      "text/plain": [
       "... == x**ToReal(n + 1) + x*geom(x, n - 1)"
      ]
     },
     "execution_count": 7,
     "metadata": {},
     "output_type": "execute_result"
    }
   ],
   "source": [
    "# maybe the generalized notion of sum is too much abstraction\n",
    "import knuckledragger as kd\n",
    "import z3\n",
    "n = z3.Int(\"n\")\n",
    "x = z3.Real(\"x\")\n",
    "geom = kd.kernel.define_fix(\"geom\", [x, n], kd.R, lambda geom: z3.If(n <= 0, 1, x**n + geom(x, n - 1)))\n",
    "pow_ax = kd.axiom(z3.ForAll([x,n], x*x**n == x**(n+1)))\n",
    "c = kd.Calc([x,n], x * geom(x,n), assume=[n > 0])\n",
    "c.eq(x*(x**n + geom(x,n-1)), by=[geom.defn])\n",
    "c.eq(x**(n+1) + x * geom(x,n-1), by=[pow_ax])\n",
    "#c.eq(geom(x,n+1), by=[geom.defn])\n",
    "\n"
   ]
  },
  {
   "cell_type": "markdown",
   "metadata": {},
   "source": [
    "# Binomial\n",
    "\n",
    "(1 + x)^n\n",
    "https://en.wikipedia.org/wiki/Binomial_theorem\n",
    "https://en.wikipedia.org/wiki/Binomial_series\n",
    "https://en.wikipedia.org/wiki/Falling_and_rising_factorials\n",
    "\n"
   ]
  },
  {
   "cell_type": "code",
   "execution_count": null,
   "metadata": {},
   "outputs": [],
   "source": [
    "n,m = Int(\"n m\")\n",
    "x = Real(\"x\")\n",
    "fact = kd.define(\"fact\", [n], If(n <= 0, 1, n * fact(n-1)))\n",
    "fallfact = kd.define(\"fallfact\", [x,m], If(m <= 0, 1, x * fallfact(x-1,m-1)))\n",
    "binom\n",
    "\n",
    "pow(x + y, n + 1) ==  x * pow(x + y, n) + y * pow(x + y, n)\n",
    "\n",
    "\n"
   ]
  },
  {
   "cell_type": "markdown",
   "metadata": {},
   "source": [
    "# Area\n",
    "\n",
    "\n"
   ]
  },
  {
   "cell_type": "code",
   "execution_count": null,
   "metadata": {},
   "outputs": [],
   "source": [
    "MeasureSet = Record(\"MSet\" Set(), pred=lambda x: measurable(x))\n",
    "OpenSet =  Record(\"Open\", )\n",
    "Closed = \n",
    "\n",
    "\n",
    "def CSeq(T): # countable sequence\n",
    "    return ArraySort(IntSort(), T)\n",
    "bigunion = Function(\"bigunion\", Set(Set(R)), R)\n",
    "countinter = Function(\"countinter\", ArraySort(IntSort(), Set(R)), Set(R))\n",
    "Implies(ForAll([x], Implies(s[x] , open(x))), open(bigunion(s)))\n",
    "runion = Function(\"runion\", ArraySort(R, Set(R)), Set(R)) \n",
    "# runion(f) == bigunion(Lambda([s], Exists([x], s[x] == f[x]))\n",
    "\n"
   ]
  },
  {
   "cell_type": "markdown",
   "metadata": {},
   "source": [
    "Just axiomatize the area of triangles."
   ]
  },
  {
   "cell_type": "code",
   "execution_count": null,
   "metadata": {},
   "outputs": [],
   "source": [
    "tri = kd.define()\n",
    "rect = SetUnion(tri(a,b,c), tri(d,b,c))\n",
    "area(tri(pq,q,r)) = 1/2 * abs((p - q).x * (p - r).y -  )\n",
    "\n",
    "area()\n",
    "\n",
    "def triangulate(S):\n",
    "\n",
    "def outer_inner(S,N):\n",
    "    Minimize()\n"
   ]
  },
  {
   "cell_type": "code",
   "execution_count": null,
   "metadata": {},
   "outputs": [],
   "source": [
    "S2 = SetSort(V2)\n",
    "A,B,C = Consts(\"A B C\", S2)\n",
    "\n",
    "kd.notation.le.define([A,B], IsSubset(A,B))\n",
    "kd.notation.add.define([A,B], Union(A,B))\n",
    "kd.notation.sub.define([A,B], Difference(A,B))\n",
    "kd.notation.mul.define([A,B], Intersection(A,B))\n",
    "\n",
    "Function(\"area\", S2, RealSort())\n",
    "p = Const(\"p\", V2)\n",
    "\n",
    "l,r,u,d = Reals(\"l r u d\")\n",
    "area_subset = kd.axiom(kd.QForAll([A,B], A <= B, area(A) <= area(B)))\n",
    "rect = kd.define(\"rect\", [l,r,u,d], Lambda([p],  And(l <= p.x, p.x <= r, u <= p.y, p.y <= d)))\n",
    "area_rect = kd.axiom(kd.ForAll([l,r,u,d], area(rect(l,r,u,d)) == If(And(r >= l, u >= d), (r - l) * (d - u), 0)))\n",
    "\n",
    "area_nonneg = kd.lemma(kd.QForAll([A], area(A) >= 0))\n",
    "area_union = kd.lemma(kd.ForAll([A,B], area(A + B) == area(A) + area(B) - area(A*B)), by=[area_subset])\n",
    "\n",
    "# area translate invartiant\n",
    "# area rotate\n",
    "# area affine\n",
    "\n",
    "circle = kd.define(\"circle\", [p, r], Lambda([q], (p.x - q.x)**2 + (p.y - q.y)**2 <= r**2))\n",
    "\n",
    "circle_outer = kd.lemma(kd.ForAll([p,r], circle(V0,1) <= rect(-1,1,-1,1)))\n",
    "circle_inner = kd.lemma(kd.ForAll([x], And(x**2 = 2, rect(-x,x,-x,x) <= circle(V0,1))))\n",
    "\n",
    "\n",
    "#area_parallogram = \n",
    "# area_righttriangle\n",
    "#area_triangle = \n",
    "translate = kd.define(\"translate\", [p, A], Lambda([q], A(q - p)))\n",
    "kd.axiom(kd.ForAll([p,A], area(translate(p,A)) == area(A))\n",
    "\n",
    "\n"
   ]
  },
  {
   "cell_type": "markdown",
   "metadata": {},
   "source": [
    "# Complex Exp\n"
   ]
  },
  {
   "cell_type": "code",
   "execution_count": null,
   "metadata": {},
   "outputs": [],
   "source": [
    "exp = z3.Function(\"exp\", kd.Complex, kd.Complex)"
   ]
  },
  {
   "cell_type": "markdown",
   "metadata": {},
   "source": [
    "# Trig\n",
    "Fu, Hongguang, Xiuqin Zhong, and Zhenbing Zeng. “Automated and readable simplification of trigonometric expressions.” Mathematical and computer modelling 44.11 (2006): 1169-1177. https://citeseerx.ist.psu.edu/viewdoc/download?doi=10.1.1.657.2478&rep=rep1&type=pdf\n",
    "https://docs.sympy.org/dev/modules/simplify/fu.html\n",
    "\n",
    "Chebyshev polynomials basically give a formula for the rational multiples of pi.\n",
    "Don't persay need to mention\n",
    "\n",
    "\n",
    "rational trignometry. https://web.maths.unsw.edu.au/~norman/Rational1.htm\n",
    "https://www.cut-the-knot.org/pythagoras/RationalTrig/CutTheKnot.shtml\n",
    "\"angles don't exist\" Only the combo sin(theta) not raw theta.\n",
    "\n",
    "\n",
    "https://en.wikipedia.org/wiki/List_of_trigonometric_identities\n",
    "\n",
    "\n",
    "Flint has arb and calcium now folded in\n",
    "<https://fredrikj.net/python-flint/>\n",
    "\n",
    "\n",
    "\n",
    "Use arb as knuckledragger style axiom schema.\n",
    "\n",
    "What about user defined propagator in z3?\n",
    "\n",
    "```python\n",
    "def cos_schema(x):\n",
    "    y = flint.cos(x)\n",
    "    z = FreshReal()\n",
    "    return ForAll([z], Implies(And(0 <= x. x <= ), And(y.lo <= cos(z), cos(z) <= y.hi)))\n",
    "\n",
    "def flint_to_interval(i):\n",
    "    return Interval.mk(RealVal(i.lo), RealVal(i.hi))\n",
    "\n",
    "def cos_schema(i : flint.interval) -> Proof:\n",
    "    j = Const(\"j\", Interval) #we don't need fresh here.\n",
    "    return axiom(QForAll([j], j <= i,  cos(j) <= flint.cos(j)))\n",
    "\n",
    "\n",
    "```\n",
    "\n",
    "The p(x) * f(x) >= q(x) is a nice way of getting an non conditional constraint. We can do it even for exp.\n",
    " https://en.wikipedia.org/wiki/Puiseux_series\n",
    " https://en.wikipedia.org/wiki/Pad%C3%A9_approximant\n",
    "\n",
    " For differential equations:\n",
    "\n",
    "d(p(x) * y(x)) >= d(q(x))\n",
    "sum of squares something. The p gives you a way of giving a region. This was akin to the S technique.\n",
    "p y' >= q \n",
    "\n",
    "These \"nice\" odes probably have closed hypergeomtric solutions or something.\n",
    "Maybe there's a general definitional property of hypergeometric.\n",
    "\n",
    "\n",
    "These mnatching on * - + are not workign frustratingly.\n",
    "1. use sympy / flint to validate\n",
    "2. use the hidden definitions plus,mul"
   ]
  },
  {
   "cell_type": "code",
   "execution_count": 6,
   "metadata": {},
   "outputs": [
    {
     "data": {
      "text/html": [
       "&#8870;ForAll(x, sin(x)**2 + cos(x)**2 == 1)"
      ],
      "text/plain": [
       "|- ForAll(x, sin(x)**2 + cos(x)**2 == 1)"
      ]
     },
     "execution_count": 6,
     "metadata": {},
     "output_type": "execute_result"
    }
   ],
   "source": [
    "import knuckledragger as kd\n",
    "import knuckledragger.theories.Real as R\n",
    "from z3 import *\n",
    "cos = Function(\"cos\", kd.R, kd.R)\n",
    "sin = Function(\"sin\", kd.R, kd.R)\n",
    "x,y,z = Reals(\"x y z\")\n",
    "cos_lower = kd.axiom(ForAll([x],cos(x) >= 1 - x**2))\n",
    "sin_approx = kd.axiom(ForAll([x], x * sin(x) <= x**2))\n",
    "\n",
    "sin_asym = kd.axiom(ForAll([x], sin(-x) == -sin(x)))\n",
    "sin_zero = kd.lemma(ForAll([x], sin(0) == 0), by=[sin_asym])\n",
    "sin_sub_x = kd.lemma(kd.QForAll([x], x >= 0, sin(x) <= x ), by=[sin_approx, sin_zero])\n",
    "#sin_zero = kd.axiom(sin(0) == 0)\n",
    "\n",
    "cos_sym = kd.axiom(ForAll([x], cos(-x) == cos(x)))\n",
    "\n",
    "\n",
    "cos_zero = kd.axiom(cos(0) == 1)\n",
    "\n",
    "sin_sum = kd.axiom(ForAll([x,y], sin(x+y) == sin(x) * cos(y) + cos(x) * sin(y)))\n",
    "cos_sum = kd.axiom(ForAll([x,y], cos(x+y) == cos(x) * cos(y) - sin(x) * sin(y)))\n",
    "\n",
    "#sin_cos_2 = kd.lemma(ForAll([x], sin(x)**2 + cos(x)**2 == cos(x) * cos(-x) - sin(-x) * sin(x)), by=[cos_sym, sin_asym])\n",
    "c = kd.Calc([x], sin(x)**2 + cos(x)**2)\n",
    "c.eq(cos(x) * cos(-x) - sin(-x) * sin(x), by=[cos_sym, sin_asym])\n",
    "c.eq(cos(x - x), by=[cos_sum])\n",
    "c.eq(1, by=[cos_zero])\n",
    "c.qed()\n",
    "#kd.lemma(ForAll([x], cos(x + y) == R.plus(R.mul(cos(x), cos(y)), R.mul(sin(x), sin(y)))), by=[cos_sum, R.mul.defn, R.plus.defn])\n",
    "\n",
    "#c.eq(cos(x - x), by=[cos_sum])\n",
    "\n",
    "#cos_symm = kd.lemma(ForAll([x], cos(x) == cos(-x)), by=[cos_sum, sin_sum, sin_zero, cos_zero])\n",
    "\n",
    "\n"
   ]
  },
  {
   "cell_type": "code",
   "execution_count": null,
   "metadata": {},
   "outputs": [],
   "source": [
    "import knuckledragger.theories.Complex as C\n",
    "cexp = Function(\"cexp\", R, Complex)\n",
    "kd.axiom(ForAll([x,y], cexp(x + y) == cexp(x) * cexp(y)))\n",
    "kd.axiom(cexp(0) == C1)\n",
    "pi = Real(\"pi\")\n",
    "kd.axiom(cexp(pi), -C1)\n",
    "sin = kd.define([t], cexp(t).im)\n",
    "cos = kd.define([t], cexp(t).re)\n",
    "\n",
    "sin_sum = kd.lemma()\n",
    "cos_sum = kd.lemma()\n"
   ]
  },
  {
   "cell_type": "code",
   "execution_count": null,
   "metadata": {},
   "outputs": [],
   "source": [
    "\"\"\"\n",
    "c = kd.Calc([x], sin(x))\n",
    "c.eq(sin(0 + x))\n",
    "c.eq(sin(0) * cos(x) + cos(0) * sin(x), by=[sin_sum])\n",
    "c.eq(0 * cos(x) + 1 * sin(x), by=[sin_zero, cos_zero])\n",
    "\"\"\"\n",
    "\"\"\"\n",
    "c = kd.Calc([x], sin(x - x))\n",
    "c.eq(sin(0))\n",
    "c.eq(0, by=[sin_zero])\n",
    "c.eq(sin(x) * cos(-x) + cos(x) * sin(-x), by=[sin_sum])\n",
    "c.eq()\n",
    "\n",
    "\n",
    "c = kd.Calc([x], cos(x-x))\n",
    "c.eq(cos(0))\n",
    "c.eq(1, by=[cos_zero])\n",
    "c.eq(cos(x) * cos(-x) - sin(x) * sin(-x), by=[cos_sum])\n",
    "\"\"\"\n"
   ]
  },
  {
   "cell_type": "code",
   "execution_count": null,
   "metadata": {},
   "outputs": [],
   "source": [
    "\n",
    "import flint\n",
    "x = flint.arb(mid=7, rad=1e-10)\n",
    "#dir(x)\n",
    "flint.arb_poly([x, 1]).integral().derivative()\n",
    "flint.arb_poly.interpolate([0, 1], [0, 1])\n",
    "\n"
   ]
  },
  {
   "cell_type": "code",
   "execution_count": 111,
   "metadata": {},
   "outputs": [
    {
     "data": {
      "text/html": [
       "3927/1250"
      ],
      "text/plain": [
       "3927/1250"
      ]
     },
     "execution_count": 111,
     "metadata": {},
     "output_type": "execute_result"
    }
   ],
   "source": [
    "pimid = RealVal(flint.arb.pi().mid().str(5, radius=False))\n",
    "pirad = RealVal(flint.arb.pi().rad().str(5, radius=False))\n",
    "pirad\n",
    "pimid"
   ]
  },
  {
   "cell_type": "code",
   "execution_count": 113,
   "metadata": {},
   "outputs": [
    {
     "data": {
      "text/plain": [
       "flint.types.arb.arb"
      ]
     },
     "execution_count": 113,
     "metadata": {},
     "output_type": "execute_result"
    }
   ],
   "source": [
    "type(flint.arb.pi())"
   ]
  },
  {
   "cell_type": "code",
   "execution_count": 115,
   "metadata": {},
   "outputs": [],
   "source": [
    "def z3_of_arb(x : flint.types.arb.arb) -> tuple[ExprRef, ExprRef]:\n",
    "    mid = RealVal(x.mid().str(5, radius=False))\n",
    "    rad = RealVal(x.rad().str(5, radius=False))\n",
    "    return mid, rad"
   ]
  },
  {
   "cell_type": "code",
   "execution_count": 105,
   "metadata": {},
   "outputs": [
    {
     "data": {
      "text/plain": [
       "[3.14159265358979 +/- 3.57e-15]"
      ]
     },
     "execution_count": 105,
     "metadata": {},
     "output_type": "execute_result"
    }
   ],
   "source": [
    "flint.arb.pi().upper()"
   ]
  },
  {
   "cell_type": "code",
   "execution_count": 104,
   "metadata": {},
   "outputs": [
    {
     "data": {
      "text/plain": [
       "'3.1416'"
      ]
     },
     "execution_count": 104,
     "metadata": {},
     "output_type": "execute_result"
    }
   ],
   "source": [
    "flint.arb.pi().lower().str(5, radius=False)"
   ]
  },
  {
   "cell_type": "code",
   "execution_count": 112,
   "metadata": {},
   "outputs": [
    {
     "data": {
      "text/html": [
       "&#8870;And(3927/1250 - 5551/25000000000000000000 < pi,\n",
       "    pi < 3927/1250 + 5551/25000000000000000000)"
      ],
      "text/plain": [
       "|- And(3927/1250 - 5551/25000000000000000000 < pi,\n",
       "    pi < 3927/1250 + 5551/25000000000000000000)"
      ]
     },
     "execution_count": 112,
     "metadata": {},
     "output_type": "execute_result"
    }
   ],
   "source": [
    "pi = Real(\"pi\")\n",
    "import flint\n",
    "pi_bnd = kd.axiom(And(pimid - pirad < pi, pi < pimid + pirad))\n",
    "pi_bnd"
   ]
  },
  {
   "cell_type": "code",
   "execution_count": 134,
   "metadata": {},
   "outputs": [
    {
     "ename": "Z3Exception",
     "evalue": "b'parser error'",
     "output_type": "error",
     "traceback": [
      "\u001b[0;31m---------------------------------------------------------------------------\u001b[0m",
      "\u001b[0;31mZ3Exception\u001b[0m                               Traceback (most recent call last)",
      "Cell \u001b[0;32mIn[134], line 16\u001b[0m\n\u001b[1;32m     13\u001b[0m     \u001b[38;5;28;01mreturn\u001b[39;00m res\n\u001b[1;32m     15\u001b[0m cos_bnd \u001b[38;5;241m=\u001b[39m flint_schema(cos, flint\u001b[38;5;241m.\u001b[39marb\u001b[38;5;241m.\u001b[39mcos)\n\u001b[0;32m---> 16\u001b[0m \u001b[43mcos_bnd\u001b[49m\u001b[43m(\u001b[49m\u001b[38;5;241;43m1\u001b[39;49m\u001b[43m)\u001b[49m\n",
      "Cell \u001b[0;32mIn[134], line 12\u001b[0m, in \u001b[0;36mflint_schema.<locals>.res\u001b[0;34m(x)\u001b[0m\n\u001b[1;32m     10\u001b[0m mid \u001b[38;5;241m=\u001b[39m RealVal(x\u001b[38;5;241m.\u001b[39mmid()\u001b[38;5;241m.\u001b[39mstr(\u001b[38;5;241m5\u001b[39m, radius\u001b[38;5;241m=\u001b[39m\u001b[38;5;28;01mFalse\u001b[39;00m))\n\u001b[1;32m     11\u001b[0m rad \u001b[38;5;241m=\u001b[39m RealVal(x\u001b[38;5;241m.\u001b[39mrad()\u001b[38;5;241m.\u001b[39mstr(\u001b[38;5;241m5\u001b[39m, radius\u001b[38;5;241m=\u001b[39m\u001b[38;5;28;01mFalse\u001b[39;00m))\n\u001b[0;32m---> 12\u001b[0m kd\u001b[38;5;241m.\u001b[39maxiom(And(mid \u001b[38;5;241m-\u001b[39m rad \u001b[38;5;241m<\u001b[39m z3_fun(\u001b[43mRealVal\u001b[49m\u001b[43m(\u001b[49m\u001b[43mx\u001b[49m\u001b[43m)\u001b[49m), z3_fun(RealVal(x)) \u001b[38;5;241m<\u001b[39m mid \u001b[38;5;241m+\u001b[39m rad))\n",
      "File \u001b[0;32m~/.local/lib/python3.10/site-packages/z3/z3.py:3262\u001b[0m, in \u001b[0;36mRealVal\u001b[0;34m(val, ctx)\u001b[0m\n\u001b[1;32m   3247\u001b[0m \u001b[38;5;250m\u001b[39m\u001b[38;5;124;03m\"\"\"Return a Z3 real value.\u001b[39;00m\n\u001b[1;32m   3248\u001b[0m \n\u001b[1;32m   3249\u001b[0m \u001b[38;5;124;03m`val` may be a Python int, long, float or string representing a number in decimal or rational notation.\u001b[39;00m\n\u001b[0;32m   (...)\u001b[0m\n\u001b[1;32m   3259\u001b[0m \u001b[38;5;124;03m3/2\u001b[39;00m\n\u001b[1;32m   3260\u001b[0m \u001b[38;5;124;03m\"\"\"\u001b[39;00m\n\u001b[1;32m   3261\u001b[0m ctx \u001b[38;5;241m=\u001b[39m _get_ctx(ctx)\n\u001b[0;32m-> 3262\u001b[0m \u001b[38;5;28;01mreturn\u001b[39;00m RatNumRef(\u001b[43mZ3_mk_numeral\u001b[49m\u001b[43m(\u001b[49m\u001b[43mctx\u001b[49m\u001b[38;5;241;43m.\u001b[39;49m\u001b[43mref\u001b[49m\u001b[43m(\u001b[49m\u001b[43m)\u001b[49m\u001b[43m,\u001b[49m\u001b[43m \u001b[49m\u001b[38;5;28;43mstr\u001b[39;49m\u001b[43m(\u001b[49m\u001b[43mval\u001b[49m\u001b[43m)\u001b[49m\u001b[43m,\u001b[49m\u001b[43m \u001b[49m\u001b[43mRealSort\u001b[49m\u001b[43m(\u001b[49m\u001b[43mctx\u001b[49m\u001b[43m)\u001b[49m\u001b[38;5;241;43m.\u001b[39;49m\u001b[43mast\u001b[49m\u001b[43m)\u001b[49m, ctx)\n",
      "File \u001b[0;32m~/.local/lib/python3.10/site-packages/z3/z3core.py:2361\u001b[0m, in \u001b[0;36mZ3_mk_numeral\u001b[0;34m(a0, a1, a2, _elems)\u001b[0m\n\u001b[1;32m   2359\u001b[0m \u001b[38;5;28;01mdef\u001b[39;00m \u001b[38;5;21mZ3_mk_numeral\u001b[39m(a0, a1, a2, _elems\u001b[38;5;241m=\u001b[39mElementaries(_lib\u001b[38;5;241m.\u001b[39mZ3_mk_numeral)):\n\u001b[1;32m   2360\u001b[0m   r \u001b[38;5;241m=\u001b[39m _elems\u001b[38;5;241m.\u001b[39mf(a0, _str_to_bytes(a1), a2)\n\u001b[0;32m-> 2361\u001b[0m   \u001b[43m_elems\u001b[49m\u001b[38;5;241;43m.\u001b[39;49m\u001b[43mCheck\u001b[49m\u001b[43m(\u001b[49m\u001b[43ma0\u001b[49m\u001b[43m)\u001b[49m\n\u001b[1;32m   2362\u001b[0m   \u001b[38;5;28;01mreturn\u001b[39;00m r\n",
      "File \u001b[0;32m~/.local/lib/python3.10/site-packages/z3/z3core.py:1554\u001b[0m, in \u001b[0;36mElementaries.Check\u001b[0;34m(self, ctx)\u001b[0m\n\u001b[1;32m   1552\u001b[0m err \u001b[38;5;241m=\u001b[39m \u001b[38;5;28mself\u001b[39m\u001b[38;5;241m.\u001b[39mget_error_code(ctx)\n\u001b[1;32m   1553\u001b[0m \u001b[38;5;28;01mif\u001b[39;00m err \u001b[38;5;241m!=\u001b[39m \u001b[38;5;28mself\u001b[39m\u001b[38;5;241m.\u001b[39mOK:\n\u001b[0;32m-> 1554\u001b[0m     \u001b[38;5;28;01mraise\u001b[39;00m \u001b[38;5;28mself\u001b[39m\u001b[38;5;241m.\u001b[39mException(\u001b[38;5;28mself\u001b[39m\u001b[38;5;241m.\u001b[39mget_error_message(ctx, err))\n",
      "\u001b[0;31mZ3Exception\u001b[0m: b'parser error'"
     ]
    }
   ],
   "source": [
    "def sin_bnd(x):\n",
    "    x = flint.arb(x).sin()\n",
    "    mid = RealVal(x.mid().str(5, radius=False))\n",
    "    rad = RealVal(x.rad().str(5, radius=False))\n",
    "    return mid, rad\n",
    "\n",
    "def flint_schema(z3_fun, flint_fun):\n",
    "    def res(x):\n",
    "        x = flint_fun(flint.arb(x))\n",
    "        mid = RealVal(x.mid().str(5, radius=False))\n",
    "        rad = RealVal(x.rad().str(5, radius=False))\n",
    "        kd.axiom(And(mid - rad < z3_fun(RealVal(x)), z3_fun(RealVal(x)) < mid + rad))\n",
    "    return res\n",
    "\n",
    "cos_bnd = flint_schema(cos, flint.arb.cos)\n",
    "cos_bnd(1)"
   ]
  },
  {
   "cell_type": "code",
   "execution_count": 117,
   "metadata": {},
   "outputs": [
    {
     "data": {
      "text/html": [
       "&#8870;ForAll(x, Implies(x >= 0, sin(x) - x <= (1/6)*x**3))"
      ],
      "text/plain": [
       "|- ForAll(x, Implies(x >= 0, sin(x) - x <= (1/6)*x**3))"
      ]
     },
     "execution_count": 117,
     "metadata": {},
     "output_type": "execute_result"
    }
   ],
   "source": [
    "# just bolting in the initial taylor series.\n",
    "sin_approx = kd.axiom(ForAll([x], Implies(x >= 0, sin(x) - x <= 1/RealVal(6) * x**3)))\n",
    "sin_approx"
   ]
  },
  {
   "cell_type": "code",
   "execution_count": 59,
   "metadata": {},
   "outputs": [
    {
     "ename": "NameError",
     "evalue": "name 'R' is not defined",
     "output_type": "error",
     "traceback": [
      "\u001b[0;31m---------------------------------------------------------------------------\u001b[0m",
      "\u001b[0;31mNameError\u001b[0m                                 Traceback (most recent call last)",
      "Cell \u001b[0;32mIn[59], line 1\u001b[0m\n\u001b[0;32m----> 1\u001b[0m sin \u001b[38;5;241m=\u001b[39m Function(\u001b[38;5;124m\"\u001b[39m\u001b[38;5;124msin\u001b[39m\u001b[38;5;124m\"\u001b[39m, \u001b[43mR\u001b[49m, R)\n\u001b[1;32m      2\u001b[0m sin_zero \u001b[38;5;241m=\u001b[39m kd\u001b[38;5;241m.\u001b[39maxiom(sin(\u001b[38;5;241m0\u001b[39m) \u001b[38;5;241m==\u001b[39m \u001b[38;5;241m0\u001b[39m)\n\u001b[1;32m      3\u001b[0m sin_90 \u001b[38;5;241m=\u001b[39m kd\u001b[38;5;241m.\u001b[39maxiom(sin(pi\u001b[38;5;241m/\u001b[39m\u001b[38;5;241m2\u001b[39m) \u001b[38;5;241m==\u001b[39m \u001b[38;5;241m1\u001b[39m)\n",
      "\u001b[0;31mNameError\u001b[0m: name 'R' is not defined"
     ]
    }
   ],
   "source": [
    "\n",
    "\n",
    "sin = Function(\"sin\", R, R)\n",
    "sin_zero = kd.axiom(sin(0) == 0)\n",
    "sin_90 = kd.axiom(sin(pi/2) == 1)\n",
    "\n",
    "cos = kd.define(\"cos\", [x], sin(x + pi/2))\n",
    "cos_zero = kd.lemma(cos(0) == 1, by=[sin_90, cos.defn])\n",
    "#cos = Function(\"cos\", R, R)\n",
    "#cos_zero = kd.axiom(cos(0) == 1)\n",
    "#\n",
    "\n",
    "#cos_sum = kd.axiom(ForAll([x,y], cos(x + y) == cos(x) * cos(y) - sin(x) * sin(y)))\n",
    "\n",
    "#cos_sin_sq = kd.axiom(ForAll([x], cos(x)**2 + sin(x)**2 == 1))\n",
    "\n",
    "#cos_doub = kd.lemma(ForAll([x], cos(2*x) == cos(x)**2 - sin(x)**2), by=[cos_sum])\n",
    "\n"
   ]
  },
  {
   "cell_type": "code",
   "execution_count": null,
   "metadata": {},
   "outputs": [],
   "source": []
  },
  {
   "cell_type": "markdown",
   "metadata": {},
   "source": [
    "# Quaternion\n",
    "Quaternions so we cna try the frama-C stuff.\n"
   ]
  },
  {
   "cell_type": "code",
   "execution_count": 20,
   "metadata": {},
   "outputs": [
    {
     "ename": "TypeError",
     "evalue": "'Proof' object is not iterable",
     "output_type": "error",
     "traceback": [
      "\u001b[0;31m---------------------------------------------------------------------------\u001b[0m",
      "\u001b[0;31mTypeError\u001b[0m                                 Traceback (most recent call last)",
      "Cell \u001b[0;32mIn[20], line 12\u001b[0m\n\u001b[1;32m     10\u001b[0m conj \u001b[38;5;241m=\u001b[39m kd\u001b[38;5;241m.\u001b[39mdefine(\u001b[38;5;124m\"\u001b[39m\u001b[38;5;124mconj\u001b[39m\u001b[38;5;124m\"\u001b[39m, [x], Q\u001b[38;5;241m.\u001b[39mmk(x\u001b[38;5;241m.\u001b[39mre, \u001b[38;5;241m-\u001b[39mx\u001b[38;5;241m.\u001b[39mi, \u001b[38;5;241m-\u001b[39mx\u001b[38;5;241m.\u001b[39mj, \u001b[38;5;241m-\u001b[39mx\u001b[38;5;241m.\u001b[39mk))\n\u001b[1;32m     11\u001b[0m norm2 \u001b[38;5;241m=\u001b[39m kd\u001b[38;5;241m.\u001b[39mdefine(\u001b[38;5;124m\"\u001b[39m\u001b[38;5;124mnorm2\u001b[39m\u001b[38;5;124m\"\u001b[39m, [x], x\u001b[38;5;241m.\u001b[39mre\u001b[38;5;241m*\u001b[39m\u001b[38;5;241m*\u001b[39m\u001b[38;5;241m2\u001b[39m \u001b[38;5;241m+\u001b[39m x\u001b[38;5;241m.\u001b[39mi\u001b[38;5;241m*\u001b[39m\u001b[38;5;241m*\u001b[39m\u001b[38;5;241m2\u001b[39m \u001b[38;5;241m+\u001b[39m x\u001b[38;5;241m.\u001b[39mj\u001b[38;5;241m*\u001b[39m\u001b[38;5;241m*\u001b[39m\u001b[38;5;241m2\u001b[39m \u001b[38;5;241m+\u001b[39m x\u001b[38;5;241m.\u001b[39mk\u001b[38;5;241m*\u001b[39m\u001b[38;5;241m*\u001b[39m\u001b[38;5;241m2\u001b[39m)\n\u001b[0;32m---> 12\u001b[0m norm2_pos \u001b[38;5;241m=\u001b[39m \u001b[43mkd\u001b[49m\u001b[38;5;241;43m.\u001b[39;49m\u001b[43mlemma\u001b[49m\u001b[43m(\u001b[49m\u001b[43mForAll\u001b[49m\u001b[43m(\u001b[49m\u001b[43m[\u001b[49m\u001b[43mx\u001b[49m\u001b[43m]\u001b[49m\u001b[43m,\u001b[49m\u001b[43m \u001b[49m\u001b[43mnorm2\u001b[49m\u001b[43m(\u001b[49m\u001b[43mx\u001b[49m\u001b[43m)\u001b[49m\u001b[43m \u001b[49m\u001b[38;5;241;43m>\u001b[39;49m\u001b[38;5;241;43m=\u001b[39;49m\u001b[43m \u001b[49m\u001b[38;5;241;43m0\u001b[39;49m\u001b[43m)\u001b[49m\u001b[43m,\u001b[49m\u001b[43m \u001b[49m\u001b[43mby\u001b[49m\u001b[38;5;241;43m=\u001b[39;49m\u001b[43mnorm2\u001b[49m\u001b[38;5;241;43m.\u001b[39;49m\u001b[43mdefn\u001b[49m\u001b[43m)\u001b[49m\n",
      "File \u001b[0;32m~/Documents/python/knuckledragger/knuckledragger/tactics.py:135\u001b[0m, in \u001b[0;36mlemma\u001b[0;34m(thm, by, admit, timeout, dump, solver)\u001b[0m\n\u001b[1;32m    133\u001b[0m s \u001b[38;5;241m=\u001b[39m solver()\n\u001b[1;32m    134\u001b[0m s\u001b[38;5;241m.\u001b[39mset(\u001b[38;5;124m\"\u001b[39m\u001b[38;5;124mtimeout\u001b[39m\u001b[38;5;124m\"\u001b[39m, timeout)\n\u001b[0;32m--> 135\u001b[0m \u001b[38;5;28;01mfor\u001b[39;00m n, p \u001b[38;5;129;01min\u001b[39;00m \u001b[38;5;28;43menumerate\u001b[39;49m\u001b[43m(\u001b[49m\u001b[43mby\u001b[49m\u001b[43m)\u001b[49m:\n\u001b[1;32m    136\u001b[0m     \u001b[38;5;28;01mif\u001b[39;00m \u001b[38;5;129;01mnot\u001b[39;00m kd\u001b[38;5;241m.\u001b[39mkernel\u001b[38;5;241m.\u001b[39mis_proof(p):\n\u001b[1;32m    137\u001b[0m         \u001b[38;5;28;01mraise\u001b[39;00m kd\u001b[38;5;241m.\u001b[39mkernel\u001b[38;5;241m.\u001b[39mLemmaError(\u001b[38;5;124m\"\u001b[39m\u001b[38;5;124mIn by reasons:\u001b[39m\u001b[38;5;124m\"\u001b[39m, p, \u001b[38;5;124m\"\u001b[39m\u001b[38;5;124mis not a Proof object\u001b[39m\u001b[38;5;124m\"\u001b[39m)\n",
      "\u001b[0;31mTypeError\u001b[0m: 'Proof' object is not iterable"
     ]
    }
   ],
   "source": [
    "import knuckledragger as kd\n",
    "from z3 import *\n",
    "Q = kd.Record(\"Quaternion\", (\"re\", kd.R), (\"i\", kd.R), (\"j\", kd.R), (\"k\", kd.R))\n",
    "x,y,z = Consts(\"x y z\", Q)\n",
    "kd.notation.add.define([x,y], Q.mk(x.re + y.re, x.i + y.i, x.j + y.j, x.k + y.k))\n",
    "kd.notation.mul.define([x,y], Q.mk(x.re * y.re - x.i * y.i - x.j * y.j - x.k * y.k, \n",
    "                                   x.re * y.i + x.i * y.re + x.j * y.k - x.k * y.j, \n",
    "                                   x.re * y.j - x.i * y.k + x.j * y.re + x.k * y.i, \n",
    "                                   x.re * y.k + x.i * y.j - x.j * y.i + x.k * y.re))\n",
    "conj = kd.define(\"conj\", [x], Q.mk(x.re, -x.i, -x.j, -x.k))\n",
    "norm2 = kd.define(\"norm2\", [x], x.re**2 + x.i**2 + x.j**2 + x.k**2)\n",
    "norm2_pos = kd.lemma(ForAll([x], norm2(x) >= 0), by=norm2.defn)\n",
    "\n",
    "\n",
    "\n"
   ]
  },
  {
   "cell_type": "markdown",
   "metadata": {},
   "source": [
    "# Convex\n",
    "Ectended reals and convex analysis\n",
    "\n",
    "https://francisbach.com/jensen-inequality/\n",
    "\n",
    "boyd\n",
    "\n"
   ]
  },
  {
   "cell_type": "code",
   "execution_count": 16,
   "metadata": {},
   "outputs": [
    {
     "name": "stdout",
     "output_type": "stream",
     "text": [
      "proved\n",
      "proved\n",
      "proved\n"
     ]
    }
   ],
   "source": [
    "from z3 import *\n",
    "a,b,c,x = Reals(\"a b c x\")\n",
    "f = Lambda([x], a * x**2 + b * x + c)\n",
    "prove(Implies(a != 0, a * x**2 + b * x + c == a * (x + b / 2 / a)**2 + c - b**2 / 4 / a))\n",
    "prove(Implies(a > 0, a * (x + b / 2 / a)**2 + c - b**2 / 4 / a >=  c - b**2 / 4 / a))\n",
    "prove(Implies(a > 0, a * x**2 + b * x + c >=  c - b**2 / 4 / a))\n",
    "\n",
    "#argmin = Function(\"argmin\", ArraySort(RealSort(), RealSort()), RealSort())"
   ]
  },
  {
   "cell_type": "code",
   "execution_count": 9,
   "metadata": {},
   "outputs": [
    {
     "data": {
      "text/html": [
       "a&middot;(x + (1/2&middot;b)/a)<sup>2</sup> + c + -1/4&middot;a&middot;b<sup>2</sup>"
      ],
      "text/plain": [
       "a*(x + (1/2*b)/a)**2 + c + -1/4*a*b**2"
      ]
     },
     "execution_count": 9,
     "metadata": {},
     "output_type": "execute_result"
    }
   ],
   "source": [
    "e = a * (x + b / 2 / a)**2 + c - a * b**2 / 4\n",
    "simplify(e)"
   ]
  },
  {
   "cell_type": "markdown",
   "metadata": {},
   "source": [
    "# Geometry\n",
    "\n",
    "Ok, maybe the fully symbolic method is idiotic. What about just coordinatizing things\n"
   ]
  },
  {
   "cell_type": "code",
   "execution_count": 10,
   "metadata": {},
   "outputs": [
    {
     "ename": "AttributeError",
     "evalue": "module 'knuckledragger' has no attribute 'utils'",
     "output_type": "error",
     "traceback": [
      "\u001b[0;31m---------------------------------------------------------------------------\u001b[0m",
      "\u001b[0;31mAttributeError\u001b[0m                            Traceback (most recent call last)",
      "Cell \u001b[0;32mIn[10], line 18\u001b[0m\n\u001b[1;32m     16\u001b[0m quadrance \u001b[38;5;241m=\u001b[39m kd\u001b[38;5;241m.\u001b[39mdefine(\u001b[38;5;124m\"\u001b[39m\u001b[38;5;124mquadrance\u001b[39m\u001b[38;5;124m\"\u001b[39m, [p,q], (p\u001b[38;5;241m.\u001b[39mx \u001b[38;5;241m-\u001b[39m q\u001b[38;5;241m.\u001b[39mx)\u001b[38;5;241m*\u001b[39m\u001b[38;5;241m*\u001b[39m\u001b[38;5;241m2\u001b[39m \u001b[38;5;241m+\u001b[39m (p\u001b[38;5;241m.\u001b[39my \u001b[38;5;241m-\u001b[39m q\u001b[38;5;241m.\u001b[39my)\u001b[38;5;241m*\u001b[39m\u001b[38;5;241m*\u001b[39m\u001b[38;5;241m2\u001b[39m)\n\u001b[1;32m     17\u001b[0m \u001b[38;5;66;03m#dist_quad = kd.lemma(z3.ForAll([p,q], dist(p,q)**2 == quadrance(p,q)), by=[dist.defn, quadrance.defn])\u001b[39;00m\n\u001b[0;32m---> 18\u001b[0m \u001b[43mkd\u001b[49m\u001b[38;5;241;43m.\u001b[39;49m\u001b[43mutils\u001b[49m\u001b[38;5;241m.\u001b[39msimp(dist\u001b[38;5;241m.\u001b[39mdefn)\n",
      "\u001b[0;31mAttributeError\u001b[0m: module 'knuckledragger' has no attribute 'utils'"
     ]
    }
   ],
   "source": [
    "import knuckledragger as kd\n",
    "import z3\n",
    "Point = kd.Record(\"Point\", (\"x\", kd.R), (\"y\", kd.R))\n",
    "Circle = kd.Record(\"Circle\", (\"center\", Point), (\"radius\", kd.R))\n",
    "p,q,r = z3.Consts(\"p q r\", Point)\n",
    "c = z3.Const(\"c\", Circle)\n",
    "on_circle = kd.define(\"on_circle\", [p,c], (p.x - c.center.x)**2 + (p.y - c.center.y)**2 == c.radius**2)\n",
    "\n",
    "Line = kd.Record(\"Line\", (\"a\", kd.R), (\"b\", kd.R), (\"c\", kd.R))\n",
    "l,l1,l2= z3.Consts(\"l l1 l2\", Line)\n",
    "on_line = kd.define(\"on_line\", [p,l], l.a * p.x + l.b * p.y + l.c == 0)\n",
    "\n",
    "line_equal = kd.define(\"line_equal\", [l1,l2], z3.ForAll([p], on_line(p,l1) == on_line(p, l2)))\n",
    "\n",
    "dist = kd.define(\"dist\", [p,q], ((p.x - q.x)**2 + (p.y - q.y)**2)**0.5)\n",
    "quadrance = kd.define(\"quadrance\", [p,q], (p.x - q.x)**2 + (p.y - q.y)**2)\n",
    "#dist_quad = kd.lemma(z3.ForAll([p,q], dist(p,q)**2 == quadrance(p,q)), by=[dist.defn, quadrance.defn])\n",
    "kd.utils.simp(dist.defn)"
   ]
  },
  {
   "cell_type": "code",
   "execution_count": 85,
   "metadata": {},
   "outputs": [
    {
     "ename": "Z3Exception",
     "evalue": "b'set-has-size is not supported'",
     "output_type": "error",
     "traceback": [
      "\u001b[0;31m---------------------------------------------------------------------------\u001b[0m",
      "\u001b[0;31mZ3Exception\u001b[0m                               Traceback (most recent call last)",
      "Cell \u001b[0;32mIn[85], line 16\u001b[0m\n\u001b[1;32m     14\u001b[0m \u001b[38;5;66;03m# triangle as set? 3 card set?\u001b[39;00m\n\u001b[1;32m     15\u001b[0m s \u001b[38;5;241m=\u001b[39m Const(\u001b[38;5;124m\"\u001b[39m\u001b[38;5;124ms\u001b[39m\u001b[38;5;124m\"\u001b[39m, SetSort(Point))\n\u001b[0;32m---> 16\u001b[0m istriangle \u001b[38;5;241m=\u001b[39m kd\u001b[38;5;241m.\u001b[39mdefine(\u001b[38;5;124m\"\u001b[39m\u001b[38;5;124mtriangleq\u001b[39m\u001b[38;5;124m\"\u001b[39m, [s], \u001b[43mSetHasSize\u001b[49m\u001b[43m(\u001b[49m\u001b[43ms\u001b[49m\u001b[43m,\u001b[49m\u001b[43m \u001b[49m\u001b[38;5;241;43m3\u001b[39;49m\u001b[43m)\u001b[49m)\n",
      "File \u001b[0;32m~/.local/lib/python3.10/site-packages/z3/z3.py:4929\u001b[0m, in \u001b[0;36mSetHasSize\u001b[0;34m(a, k)\u001b[0m\n\u001b[1;32m   4927\u001b[0m ctx \u001b[38;5;241m=\u001b[39m a\u001b[38;5;241m.\u001b[39mctx\n\u001b[1;32m   4928\u001b[0m k \u001b[38;5;241m=\u001b[39m _py2expr(k, ctx)\n\u001b[0;32m-> 4929\u001b[0m \u001b[38;5;28;01mreturn\u001b[39;00m _to_expr_ref(\u001b[43mZ3_mk_set_has_size\u001b[49m\u001b[43m(\u001b[49m\u001b[43mctx\u001b[49m\u001b[38;5;241;43m.\u001b[39;49m\u001b[43mref\u001b[49m\u001b[43m(\u001b[49m\u001b[43m)\u001b[49m\u001b[43m,\u001b[49m\u001b[43m \u001b[49m\u001b[43ma\u001b[49m\u001b[38;5;241;43m.\u001b[39;49m\u001b[43mas_ast\u001b[49m\u001b[43m(\u001b[49m\u001b[43m)\u001b[49m\u001b[43m,\u001b[49m\u001b[43m \u001b[49m\u001b[43mk\u001b[49m\u001b[38;5;241;43m.\u001b[39;49m\u001b[43mas_ast\u001b[49m\u001b[43m(\u001b[49m\u001b[43m)\u001b[49m\u001b[43m)\u001b[49m, ctx)\n",
      "File \u001b[0;32m~/.local/lib/python3.10/site-packages/z3/z3core.py:2296\u001b[0m, in \u001b[0;36mZ3_mk_set_has_size\u001b[0;34m(a0, a1, a2, _elems)\u001b[0m\n\u001b[1;32m   2294\u001b[0m \u001b[38;5;28;01mdef\u001b[39;00m \u001b[38;5;21mZ3_mk_set_has_size\u001b[39m(a0, a1, a2, _elems\u001b[38;5;241m=\u001b[39mElementaries(_lib\u001b[38;5;241m.\u001b[39mZ3_mk_set_has_size)):\n\u001b[1;32m   2295\u001b[0m   r \u001b[38;5;241m=\u001b[39m _elems\u001b[38;5;241m.\u001b[39mf(a0, a1, a2)\n\u001b[0;32m-> 2296\u001b[0m   \u001b[43m_elems\u001b[49m\u001b[38;5;241;43m.\u001b[39;49m\u001b[43mCheck\u001b[49m\u001b[43m(\u001b[49m\u001b[43ma0\u001b[49m\u001b[43m)\u001b[49m\n\u001b[1;32m   2297\u001b[0m   \u001b[38;5;28;01mreturn\u001b[39;00m r\n",
      "File \u001b[0;32m~/.local/lib/python3.10/site-packages/z3/z3core.py:1554\u001b[0m, in \u001b[0;36mElementaries.Check\u001b[0;34m(self, ctx)\u001b[0m\n\u001b[1;32m   1552\u001b[0m err \u001b[38;5;241m=\u001b[39m \u001b[38;5;28mself\u001b[39m\u001b[38;5;241m.\u001b[39mget_error_code(ctx)\n\u001b[1;32m   1553\u001b[0m \u001b[38;5;28;01mif\u001b[39;00m err \u001b[38;5;241m!=\u001b[39m \u001b[38;5;28mself\u001b[39m\u001b[38;5;241m.\u001b[39mOK:\n\u001b[0;32m-> 1554\u001b[0m     \u001b[38;5;28;01mraise\u001b[39;00m \u001b[38;5;28mself\u001b[39m\u001b[38;5;241m.\u001b[39mException(\u001b[38;5;28mself\u001b[39m\u001b[38;5;241m.\u001b[39mget_error_message(ctx, err))\n",
      "\u001b[0;31mZ3Exception\u001b[0m: b'set-has-size is not supported'"
     ]
    }
   ],
   "source": [
    "Point = Datatype(\"Point\")\n",
    "Point.declare(\"mk_point\", (\"x\", R), (\"y\", R))\n",
    "Point = Point.create()\n",
    "\n",
    "p,q,r = Consts(\"p q r\", Point)\n",
    "\n",
    "#quadrance\n",
    "\n",
    "# too fine though. Triangles are an equivalence class of 3 tuples.\n",
    "Triangle = Datatype(\"Triangle\")\n",
    "Triangle.declare(\"mk_triangle\", (\"p\", Point), (\"q\", Point), (\"r\", Point))\n",
    "Triangle = Triangle.create()\n",
    "\n",
    "tri_eq = kd.define(\"tri_eq\", [t1, t2], Or(\n",
    "    And(t1.p == t2.p, t1.q == t2.q, t1.r == t2.r),\n",
    "    And(t1.p == t2.q, t1.q == t2.r, t1.r == t2.p),\n",
    "    And(t1.p == t2.r, t1.q == t2.p, t1.r == t2.q),\n",
    "    And(t1.p == t2.r, t1.q == t2.q, t1.r == t2.p),\n",
    "    And(t1.p == t2.q, t1.q == t2.p, t1.r == t2.r),\n",
    "    And(t1.p == t2.p, t1.q == t2.r, t1.r == t2.q),\n",
    "))\n",
    "import knuckledragger.notation as notation\n",
    "notation.eq.register(Triangle, tri_eq)\n",
    "\n",
    "# triangle as set? 3 card set?\n",
    "#s = Const(\"s\", SetSort(Point))\n",
    "#istriangle = kd.define(\"triangleq\", [s], SetHasSize(s, 3))\n",
    "\n",
    "Line = SetSort(Point)\n",
    "isline = kd.define(\"isline\", [s], ForAll([p,q, x], Implies(s[p] & s[q], s[l*p + (1-l)*q])))\n",
    "# projective. A point is a scaling closed set\n",
    "projpoint = kd.define(\"isprojpoint\", [s], ForAll([p, x], Implies(x != 0, s[p] == s[x*p])))\n",
    "\n",
    "\n"
   ]
  },
  {
   "cell_type": "markdown",
   "metadata": {},
   "source": [
    "# Convergence\n",
    "https://en.wikipedia.org/wiki/Geometric_series\n",
    "https://en.wikipedia.org/wiki/Convergence_tests\n",
    "Alternating series test - gives bounds\n",
    "\n",
    "https://en.wikipedia.org/wiki/Ratio_test"
   ]
  },
  {
   "cell_type": "code",
   "execution_count": null,
   "metadata": {},
   "outputs": [],
   "source": [
    "from z3 import *\n",
    "RFun = ArraySort(RealSort(), RealSort())\n",
    "RSeq = ArraySort(IntSort(), RealSort())\n",
    "\n",
    "\n",
    "x,y,z,eps = Reals('x y z eps')\n",
    "\n",
    "f,g,h = Consts('f g h', RFun)\n",
    "\n",
    "Sum = Function('Sum', RSeq, IntSort(), RealSort())\n",
    "sum_def = ForAll([n], Sum(a, n) == If(x < 0, 0, a[n] + Sum(a, n-1))) \n",
    "\n",
    "def lemma(by=)\n",
    "\n",
    "\n",
    "\n",
    "\n",
    "\n"
   ]
  },
  {
   "cell_type": "markdown",
   "metadata": {},
   "source": [
    "So continous convergencew is eaiser really. I don't have to deal with int real interop then?\n",
    "\n",
    "limsup\n",
    "liminf\n",
    "+ extended reals\n",
    "Now always extists?\n"
   ]
  },
  {
   "cell_type": "code",
   "execution_count": null,
   "metadata": {},
   "outputs": [],
   "source": [
    "def lim0(f):\n",
    "    return ForAll([eps], Exists([delta], ForAll([x], And(0 < Abs(x) < delta, Abs(f(x)) < eps))))\n",
    "def modcont(f, eps):\n",
    "    return ForAll([x], Abs(f(x)) < eps(x))\n",
    "\n"
   ]
  },
  {
   "cell_type": "code",
   "execution_count": 48,
   "metadata": {},
   "outputs": [
    {
     "ename": "SyntaxError",
     "evalue": "positional argument follows keyword argument (3783932439.py, line 5)",
     "output_type": "error",
     "traceback": [
      "\u001b[0;36m  Cell \u001b[0;32mIn[48], line 5\u001b[0;36m\u001b[0m\n\u001b[0;31m    keytest(1,2,by=7, 14, x=18)\u001b[0m\n\u001b[0m                              ^\u001b[0m\n\u001b[0;31mSyntaxError\u001b[0m\u001b[0;31m:\u001b[0m positional argument follows keyword argument\n"
     ]
    }
   ],
   "source": [
    "def keytest(*args, **kwargs):\n",
    "    print(args)\n",
    "    print(kwargs)\n",
    "\n",
    "keytest(1,2,by=7, 14, x=18)"
   ]
  },
  {
   "cell_type": "code",
   "execution_count": 23,
   "metadata": {},
   "outputs": [
    {
     "name": "stdout",
     "output_type": "stream",
     "text": [
      "WARNING: Redefining function sum from |- ForAll([a, n],\n",
      "       sum(a, n) == If(n < 0, 0, a[n] + Sum(a, n - 1))) to ForAll([a, n],\n",
      "       sum(a, n) == If(n < 0, 0, a[n] + sum(a, n - 1)))\n"
     ]
    },
    {
     "data": {
      "text/html": [
       "&#8870;ForAll(n, sum(K(Int, 0), n) >= 0)"
      ],
      "text/plain": [
       "|- ForAll(n, sum(K(Int, 0), n) >= 0)"
      ]
     },
     "execution_count": 23,
     "metadata": {},
     "output_type": "execute_result"
    }
   ],
   "source": [
    "import knuckledragger as kd\n",
    "from z3 import *\n",
    "import knuckledragger.theories.Real as Real\n",
    "RSeq = Real.RSeq\n",
    "n,m,k,N = Ints('n m k N')\n",
    "a,b = Consts('a b', RSeq)\n",
    "def induct(P):\n",
    "    return kd.axiom(Implies(And(P(0), ForAll([n], Implies(And(n >= 0, P(n)), P(n+1)))),\n",
    "                         ForAll([n], Implies(n >= 0, P(n)))))\n",
    "\n",
    "induct(lambda n: n >= 0)\n",
    "\n",
    "sum = Function('sum', Real.RSeq, IntSort(), RealSort())\n",
    "sum = kd.define(\"sum\", [a,n], If(n < 0, 0, a[n] + sum(a,n-1)))\n",
    "#sum = kd.define_rec(\"sum\", [a,n], lambda sum: If(n < 0, 0, a[n] + sum(a,n-1)))\n",
    "\n",
    "\n",
    "def ForAll(vs, body):\n",
    "    if any(hasattr(v, \"wf\") for v in vs):\n",
    "        return z3.ForAll(vs, Implies(And(*[v.wf for v in vs if hasattr(v, \"wf\")]), body))\n",
    "    else:\n",
    "        return z3.ForAll([vs], body)\n",
    "\n",
    "def Nats(xs):\n",
    "    xs = Ints(xs)\n",
    "    for x in xs:\n",
    "        x.wf = x >= 0\n",
    "    return xs\n",
    "\n",
    "\n",
    "\n",
    "kd.lemma(ForAll([n], sum(K(IntSort(), RealVal(0)), n) >= 0), by=[sum.defn, induct(lambda n: sum(K(IntSort(), RealVal(0)), n) >= 0)])\n",
    "\n",
    "\n",
    "\n",
    "\n",
    "\n",
    "\n",
    "is_nat = kd.define(\"nat\", [x], ToReal(ToInt(x)) == x)\n",
    "\n",
    "def RInts(xs):\n",
    "    xs = Reals(xs)\n",
    "    for x in xs:\n",
    "        x.wf = is_nat(x) \n",
    "    return xs\n",
    "\n",
    "def RPlus(xs):\n",
    "    xs = Reals(xs)\n",
    "    for x in xs:\n",
    "        x.wf = x >= 0\n",
    "    return xs\n",
    "\n",
    "def pos_induct(P):\n",
    "    return kd.axiom(Implies(And(P(0), ForAll([x],Exists([eps], Implies(And(x >= 0, eps >= 0, P(n)), P(x+eps)))),\n",
    "                         ForAll([n], Implies(n >= 0, P(n))))\n",
    "\n",
    "def RNats(xs):\n",
    "    xs = Reals(xs)\n",
    "    for x in xs:\n",
    "        x.wf = And(is_nat(x), x >= 0)\n",
    "    return xs\n",
    "\n",
    "\n"
   ]
  },
  {
   "cell_type": "markdown",
   "metadata": {},
   "source": [
    "# Continuity\n",
    "https://lawrencecpaulson.github.io/2022/02/16/Irrationals.html\n",
    "\n",
    "https://www.philipzucker.com/analysis_knuckle/\n",
    "\n",
    "https://www.youtube.com/watch?v=BZjAghqKOjI Let's code math | Lean4 | Theorem prover\n",
    "\n",
    "https://leanprover-community.github.io/mathematics_in_lean/C10_Differential_Calculus.html?highlight=continuous"
   ]
  },
  {
   "cell_type": "code",
   "execution_count": null,
   "metadata": {},
   "outputs": [],
   "source": [
    "\"\"\"\n",
    "# wrong. delta needs to be > 0\n",
    "# two sided limit\n",
    "lim = smt.Function(\"lim\", RFun, R, R)\n",
    "eps, delta, l, p = smt.Reals(\"eps delta l p\")\n",
    "has_lim = kd.define(\n",
    "    \"has_lim\",\n",
    "    [f, p, l],\n",
    "    kd.QForAll(\n",
    "        [eps],\n",
    "        eps > 0,\n",
    "        smt.Exists([delta], kd.QForAll([x], abs(x - p) < delta, abs(f(x) - l) < eps)),\n",
    "    ),\n",
    ")\n",
    "delta = smt.Const(\"delta\", R >> R)\n",
    "has_lim_mod = kd.define(\n",
    "    \"has_lim_mod\",\n",
    "    [f, p, l, delta],\n",
    "    kd.QForAll([eps, x], eps > 0, abs(x - p) < delta(eps), abs(f(x) - l) < eps),\n",
    ")\n",
    "\n",
    "has_lim_seal = kd.lemma(\n",
    "    kd.QForAll([f, p, l, delta], has_lim_mod(f, p, l, delta), has_lim(f, p, l)),\n",
    "    by=[has_lim_mod.defn, has_lim.defn],\n",
    "    admit=True,\n",
    ")\n",
    "\n",
    "import kdrag.solvers\n",
    "\n",
    "l1 = smt.Real(\"l1\")\n",
    "delta1 = smt.Const(\"delta1\", R >> R)\n",
    "has_lim_add = kd.kernel.lemma(\n",
    "    kd.QForAll(\n",
    "        [f, g, p, l, l1, delta, delta1],\n",
    "        has_lim_mod(f, p, l, delta),\n",
    "        has_lim_mod(g, p, l, delta1),\n",
    "        has_lim_mod(\n",
    "            f + g, p, l + l1, smt.Lambda([eps], min(delta[eps / 2], delta1[eps / 2]))\n",
    "        ),\n",
    "    ),\n",
    "    by=[fadd.defn, has_lim_mod.defn, min.defn],\n",
    "    # solver=kd.solvers.VampireSolver,\n",
    ")\n",
    "\"\"\""
   ]
  },
  {
   "cell_type": "code",
   "execution_count": null,
   "metadata": {},
   "outputs": [],
   "source": [
    "IsContinuousAt = Function(\"IsContintuousAt\", RFun, kd.R, BoolSort())\n",
    "ContinuousOn = kd.define(\"ContinuousOn\", [f, A], QForAll([x], A[x], IsContinuousAt(f,x)))\n",
    "#Function(\"ContinuousOn\", RFun, RSet)\n",
    "HasDerivAt = Function(\"HasDerivAt\", RFun, kd.R, kd.R, BoolSort()) # value of derivative at\n",
    "deriv = Function(\"deriv\", RFun, RFun)\n"
   ]
  },
  {
   "cell_type": "code",
   "execution_count": 32,
   "metadata": {},
   "outputs": [
    {
     "name": "stdout",
     "output_type": "stream",
     "text": [
      "proved\n"
     ]
    }
   ],
   "source": [
    "import knuckledragger as kd\n",
    "import knuckledragger.theories.Real as R\n",
    "import knuckledragger.smt as smt\n",
    "\n",
    "x,y,z,eps = smt.Reals('x y z eps')\n",
    "f, delta = smt.Consts(\"f delta\", R.RFun)\n",
    "unicont = kd.define(\"unicont\", [f,delta], kd.QForAll([x,y,eps], eps > 0, R.abs(x - y) < delta[eps], \n",
    "                                                     R.abs(f[x] - f[y]) < eps))\n",
    "delta = Const(\"delta\", kd.R >> (kd.R >> kd.R))\n",
    "delta[x]\n",
    "cont = kd.define(\"cont\", [f,delta], kd.QForAll([x,y,eps], eps > 0, R.abs(x - y) < delta[x][eps], \n",
    "                                                               R.abs(f[x] - f[y]) < eps))\n",
    "\n",
    "# kd.lemma Implies(unicont(f,delta), cont(f,Lambda([x], delta)))\n",
    "kd.lemma(unicont(Lambda([x], x), Lambda([eps], eps)), by=[unicont.defn])\n",
    "#kd.lemma(cont(Lambda([x], x*x), Lambda([x], Lambda([eps], 10*x*eps))), by=[cont.defn])\n",
    "\n",
    "#delta = If(x == 0, )\n",
    "d = Real(\"d\")\n",
    "prove(Implies(And(smt.Abs(x - y) < d, eps > 0, eps == 2 * d * smt.Abs(x) + d*d), smt.Abs(x*x - y*y) < eps))\n"
   ]
  },
  {
   "cell_type": "markdown",
   "metadata": {},
   "source": [
    "(x**2 + y**2) == \n",
    "(x + y)(x - y) == \n",
    "abs(x - y)sgn(x - y)(x + y)"
   ]
  },
  {
   "cell_type": "markdown",
   "metadata": {},
   "source": [
    "## Defining cos\n",
    "cos(x) = sum(x**n)\n",
    "https://www.philipzucker.com/analysis_knuckle/\n",
    "\n",
    "c(0) = 1\n",
    "c'' = -c \n",
    "s(0) = 1\n",
    "s'' = -s\n",
    "\n",
    "s^2 + c^2 = 1 is invariant.\n",
    "s(0)^2 + c(0)^2 = 1\n",
    "2 s' s + 2 c' c = 0\n",
    "\n",
    "\n",
    "\n",
    "How to prove periodic? Youch.\n",
    "\n",
    "Going to summation form\n",
    "1 - x^2 /2 + ...\n",
    "alternating series.\n",
    "not monotonically decreasing until a certain n.\n",
    "\n",
    "\n"
   ]
  },
  {
   "cell_type": "code",
   "execution_count": 3,
   "metadata": {},
   "outputs": [
    {
     "name": "stdout",
     "output_type": "stream",
     "text": [
      "proved\n",
      "proved\n",
      "proved\n",
      "proved\n",
      "proved\n",
      "proved\n",
      "proved\n",
      "proved\n"
     ]
    }
   ],
   "source": [
    "from z3 import *\n",
    "\n",
    "B = BoolSort()\n",
    "Z = IntSort()\n",
    "R = RealSort()\n",
    "x,y,z = Reals('x y z')\n",
    "\n",
    "def lemma(thm, by=[], admit=False):\n",
    "    if not admit:\n",
    "        #print(Implies(And(by), thm).sexpr())\n",
    "        prove(Implies(And(by), thm))\n",
    "    else:\n",
    "        print(\"Admitted!!\", thm)\n",
    "    return thm\n",
    "    \n",
    "plus = Function(\"plus\", R,R,R)\n",
    "plus_def = ForAll([x, y], plus(x, y) == x + y)\n",
    "\n",
    "plus_0 = lemma(ForAll([x], plus(x, 0) == x), by=[plus_def])\n",
    "plus_comm = lemma(ForAll([x, y], plus(x, y) == plus(y, x)), by=[plus_def])\n",
    "plus_assoc = lemma(ForAll([x, y, z], plus(x, plus(y, z)) == plus(plus(x, y), z)), by=[plus_def])\n",
    "                   \n",
    "mul = Function(\"mul\", R,R,R)\n",
    "mul_def = ForAll([x, y], mul(x, y) == x * y)\n",
    "\n",
    "mul_zero = lemma(ForAll([x], mul(x, 0) == 0), by=[mul_def])\n",
    "mul_1 = lemma(ForAll([x], mul(x, 1) == x), by=[mul_def])\n",
    "mul_comm = lemma(ForAll([x, y], mul(x, y) == mul(y, x)), by=[mul_def])\n",
    "mul_assoc = lemma(ForAll([x, y, z], mul(x, mul(y, z)) == mul(mul(x, y), z)), by=[mul_def])\n",
    "mul_distrib = lemma(ForAll([x, y, z], mul(x, plus(y, z)) == plus(mul(x, y), mul(x, z))), by=[mul_def, plus_def])  \n",
    "\n",
    "Nat = Datatype(\"Nat\")\n",
    "Nat.declare('zero')\n",
    "Nat.declare('succ', ('pred', Nat))\n",
    "Nat = Nat.create()\n",
    "n,m,k = Consts('n m k', Nat)\n",
    "\n",
    "def induct(P):\n",
    "    return Implies(And(P(Nat.zero), ForAll([n], Implies(P(n), P(Nat.succ(n))))),\n",
    "                   #-----------------------------------------------------------\n",
    "                   ForAll([n], P(n)))\n",
    "\n",
    "real = Function(\"real\", Nat, R)\n",
    "real_def = ForAll([n], real(n) == If(Nat.is_zero(n), 0, plus(1, real(Nat.pred(n)))))\n",
    "\n",
    "ceil = Function(\"ceil\", R, Nat)\n",
    "ceil_def = ForAll([x], ceil(x) == If(x <= 0, Nat.zero, Nat.succ(ceil(x-1))))\n",
    "\n",
    "Seq = ArraySort(Nat, R)\n",
    "sum_ = Function(\"sum\", Seq, Nat, R)\n",
    "s = Const('s', Seq)\n",
    "sum_def = ForAll([s, n], sum_(s, n) == If(n == Nat.zero, 0, plus(s[Nat.pred(n)], sum_(s, Nat.pred(n)))))\n",
    "\n",
    "abs = Function(\"abs\", R, R)\n",
    "abs_def = ForAll([x], abs(x) == If(x >= 0, x, -x))"
   ]
  },
  {
   "cell_type": "code",
   "execution_count": null,
   "metadata": {},
   "outputs": [],
   "source": [
    "#https://en.wikipedia.org/wiki/Modulus_of_convergence\n",
    "Modulus = ArraySort(R, Nat)\n",
    "N = Const(\"N\", Modulus)\n",
    "eps = Real(\"eps\")\n",
    "cauchy = Function(Seq, Modulus, B)\n",
    "cauchy_def == ForAll([s,N], cauchy(s, N) == ForAll([eps,n,m], Implies(And(n > N(eps), m > N(eps)), \n",
    "                                                                       abs(s[n] - s[m]) < eps)))\n"
   ]
  },
  {
   "cell_type": "code",
   "execution_count": 11,
   "metadata": {},
   "outputs": [
    {
     "name": "stdout",
     "output_type": "stream",
     "text": [
      "proved\n"
     ]
    }
   ],
   "source": [
    "seq_sum = Function(\"seq_sum\", Seq, Seq, Seq)\n",
    "s,t = Consts(\"s t\", Seq)\n",
    "seq_sum_def = ForAll([s, t], seq_sum(s, t) == Lambda([n], plus(s[n], t[n])))\n",
    "\n",
    "seq_zero = K(Nat, RealVal(0))\n",
    "seq_zero.sort()\n",
    "seq_sum_zero = lemma(ForAll([s], seq_sum(s, seq_zero) == s), by=[seq_sum_def, plus_def])\n",
    "\n",
    "\n"
   ]
  },
  {
   "cell_type": "code",
   "execution_count": null,
   "metadata": {},
   "outputs": [],
   "source": [
    "# Bundling as a record\n",
    "# This is the reifnment problem.\n",
    "CSeq = Datatype(\"CSeq\")\n",
    "CSeq.declare(\"mk\", (\"seq\", Seq), (\"mod\", Modulus))\n",
    "CSeq = CSeq.create()\n",
    "\n",
    "cauchy = Function(\"cauchy\", CSeq, B)\n",
    "cauchy_def = ForAll([s], cauchy(s) == cauchy(s.seq, s.mod))\n",
    "\n",
    "\n",
    "Implies(And(cauchy(M), cauchy(N)))\n"
   ]
  },
  {
   "cell_type": "code",
   "execution_count": 21,
   "metadata": {},
   "outputs": [
    {
     "data": {
      "text/html": [
       "x + y"
      ],
      "text/plain": [
       "x + y"
      ]
     },
     "execution_count": 21,
     "metadata": {},
     "output_type": "execute_result"
    }
   ],
   "source": [
    "def myadd(x,y):\n",
    "    match x.sort():\n",
    "        case Seq:\n",
    "            return seq_sum(x,y)\n",
    "        case _:\n",
    "            print(s.sort().name())\n",
    "            assert False, s.sort().name()\n",
    "# containers are going to be annoying\n",
    "# \"List\" : Function(\"append\", x.sort(), x.sort(), x.sort())(x,y)\n",
    "ExprRef.__add__ = myadd\n",
    "s + t\n",
    "\n",
    "def mymul(x,y):\n",
    "    match x.sort():\n",
    "        case Seq:\n",
    "            return seq_mul(x,y)\n",
    "        case _:\n",
    "            print(s.sort().name())\n",
    "            assert False, s.sort().name()\n",
    "# containers are going to be annoying\n",
    "# \"List\" : Function(\"append\", x.sort(), x.sort(), x.sort())(x,y)\n",
    "ExprRef.__mul__ = mymul\n",
    "\n",
    "def myneg(x):\n",
    "    match x.sort():\n",
    "        case ArraySort(R,R):\n",
    "            z = FreshConst(R,prefix=\"z\")\n",
    "            return Lambda([z], -x[z])\n",
    "ExprRef.__negate__ = myneg"
   ]
  },
  {
   "cell_type": "code",
   "execution_count": 22,
   "metadata": {},
   "outputs": [
    {
     "data": {
      "text/html": [
       "seq_sum(s, t)"
      ],
      "text/plain": [
       "seq_sum(s, t)"
      ]
     },
     "execution_count": 22,
     "metadata": {},
     "output_type": "execute_result"
    }
   ],
   "source": [
    "#import multipledispatch # But we can't dispatch on the type.. so no go right?\n",
    "add_dict = {\n",
    "    Seq: seq_sum,\n",
    "}\n",
    "def myadd(x,y):\n",
    "    return add_dict[x.sort()](x,y)\n",
    "# what's the point of this indirection though.\n",
    "def register_add(s, f):\n",
    "    add_dict[s] = f\n",
    "\n",
    "ExprRef.__add__ = myadd\n",
    "s + t"
   ]
  },
  {
   "cell_type": "code",
   "execution_count": 19,
   "metadata": {},
   "outputs": [
    {
     "data": {
      "text/plain": [
       "'Array(Nat, Real)'"
      ]
     },
     "execution_count": 19,
     "metadata": {},
     "output_type": "execute_result"
    }
   ],
   "source": [
    "repr(s.sort())"
   ]
  },
  {
   "cell_type": "code",
   "execution_count": null,
   "metadata": {},
   "outputs": [],
   "source": [
    "\n",
    "lim = Function(\"lim\", CSeq, R)\n",
    "#lim_def = ForAll([s], lim(s) == If(cauchy(s), lim(s.seq), None))\n",
    "lim_def = Implies(cauchy(s), conv_to(s.seq, lim(s), s.mod))\n",
    "\n",
    "lim(s + t) == lim(s) + lim(t)\n",
    "lim(s * t) == lim(s) * lim(t)\n",
    "\n",
    "\n",
    "# if it converges\n",
    "infsum = Function(\"infsum\", Seq, R)\n",
    "\n",
    "Implies(Implies(cauchy(f, Nf), cauchy(g, Ng)), cauchy(add(f,g), Lambda([eps], Nf(eps/2) + Ng(eps/2)))) \n",
    "\n",
    "\n",
    "#= cauchy(f,Nf), cauchy(g,Ng) => \n",
    "cauchy_eq = zero(sub(g,f), N)"
   ]
  },
  {
   "cell_type": "code",
   "execution_count": null,
   "metadata": {},
   "outputs": [],
   "source": [
    "pow = Function(\"pow\", R, Nat, R)\n",
    "pow_def = ForAll([x,n], pow(x,n) == If(Nat.is_zero(n), RealVal(1), mul(x, pow(x,Nat.pred(n)))))\n",
    "\n",
    "\n"
   ]
  },
  {
   "cell_type": "markdown",
   "metadata": {},
   "source": [
    "# Streams\n",
    "\n",
    "cvc5 codatatype\n",
    "continued fractions\n",
    "digit/bit stream - but bad\n",
    "+-1 https://www.dcs.ed.ac.uk/home/mhe/plume/node26.html\n",
    "refining intervals\n",
    "But hence, refining sets? But a set could converge to multiple points ? Well so could intervals unless you guarantee a sufficient convergence conditions\n",
    "power of 2 rationals. dyadic?\n",
    "\n",
    "I have notes squirrelled away somehwere\n"
   ]
  },
  {
   "cell_type": "code",
   "execution_count": 150,
   "metadata": {},
   "outputs": [
    {
     "data": {
      "text/plain": [
       "[0, 1, [8, 3, 34, 3]]"
      ]
     },
     "execution_count": 150,
     "metadata": {},
     "output_type": "execute_result"
    }
   ],
   "source": [
    "#https://docs.sympy.org/latest/modules/ntheory.html#sympy.ntheory.continued_fraction.continued_fraction\n",
    "from sympy.ntheory.continued_fraction import continued_fraction\n",
    "from sympy import sqrt\n",
    "continued_fraction((1 + 2*sqrt(3))/5)"
   ]
  },
  {
   "cell_type": "code",
   "execution_count": null,
   "metadata": {},
   "outputs": [],
   "source": []
  },
  {
   "cell_type": "markdown",
   "metadata": {},
   "source": [
    "# Polynomials\n",
    "\n",
    "Finite polynomials\n",
    "Vec4 style\n",
    "\n",
    "SeqSort of coefficients\n",
    "\n",
    "Harrison\n",
    "Fundamental theorem of algerba.\n",
    "Complex numbers. Somehow roots is important?\n",
    "\n",
    "\n",
    "\n",
    "Finite support\n",
    "Make an inductive definition not baed on  built in inductions?\n",
    "\n",
    "\n",
    "finsup(v) == Or(v == vzero, finsup(single(x,y) + w))\n",
    "There will be models where finsup(ones) is true, but we won't be able to _prove_ its true.\n",
    "\n",
    "Or\n",
    "\n",
    "FinSup(v, n, m).wf == ForAll([k], Implies(And(n <= k, m < k), v(k) == 0))\n",
    "\n",
    "\n",
    "\n"
   ]
  },
  {
   "cell_type": "code",
   "execution_count": 70,
   "metadata": {},
   "outputs": [
    {
     "data": {
      "text/html": [
       "Store(Store(Store(Store(&exist;n : If(n = 3, 1, 0), 0, 0), 1, 0),\n",
       "            2,\n",
       "            0),\n",
       "      3,\n",
       "      1)"
      ],
      "text/plain": [
       "Store(Store(Store(Store(Lambda(n, If(n == 3, 1, 0)), 0, 0),\n",
       "                  1,\n",
       "                  0),\n",
       "            2,\n",
       "            0),\n",
       "      3,\n",
       "      1)"
      ]
     },
     "execution_count": 70,
     "metadata": {},
     "output_type": "execute_result"
    }
   ],
   "source": [
    "import knuckledragger as kd\n",
    "\n",
    "def store_reflect(x, n):\n",
    "    \"\"\"Keep the array the same, but extract into Store form\"\"\"\n",
    "    acc = x\n",
    "    for i in range(n):\n",
    "        acc = kd.smt.Store(acc, i, kd.smt.simplify(x[i]))\n",
    "    return acc\n",
    "\n",
    "def store_extract(x, n):\n",
    "    \"\"\"zero out non extracted pieces\"\"\"\n",
    "    acc = K(IntSort(), RealVal(0))\n",
    "    for i in range(n):\n",
    "        acc = kd.smt.Store(acc, i, kd.smt.simplify(x[i]))\n",
    "    return acc\n",
    "\n",
    "def sum_reflect(x,n):\n",
    "    acc = K(IntSort(), RealVal(0))\n",
    "    for i in range(n):\n",
    "        acc = kd.smt.simplify(acc + x[i])\n",
    "        x = kd.smt.Store(x, i, 0)\n",
    "    return acc\n",
    "\n",
    "def sum_extract(p, n):\n",
    "    \"\"\"return a sum of monomials\"\"\"\n",
    "    acc = K(IntSort(), RealVal(0))\n",
    "    for i in range(n):\n",
    "        acc = kd.smt.simplify(acc + mono(i, p[i]))\n",
    "    return acc\n",
    "\n",
    "p = Lambda([n], If(n == 3, RealVal(1), 0))\n",
    "kd.lemma(reflect(p, 4) == p)\n",
    "kd.lemma(extract(p, 4) == p)\n"
   ]
  },
  {
   "cell_type": "markdown",
   "metadata": {},
   "source": [
    "What but why am I not just working with polynomials?\n",
    "\n"
   ]
  },
  {
   "cell_type": "code",
   "execution_count": null,
   "metadata": {},
   "outputs": [],
   "source": [
    "\n",
    "    \n",
    "\n",
    "\n"
   ]
  },
  {
   "cell_type": "code",
   "execution_count": null,
   "metadata": {},
   "outputs": [],
   "source": [
    "converges = Function(\"converges\", RSeq, R, B)\n",
    "converge_zero = ForAll([x], converges(K(IntSort(), 0), x))\n",
    "converges_mono = ForAll([p,n,x], converges(mono(n), x)\n",
    "\n",
    "# formal addition is not convergence dependent\n",
    "# formal multiplication is.\n",
    "\n",
    "\n",
    "\n",
    "converge(a,x) & converge(b,x)\n",
    "\n",
    "# Take value of poweer series to be limsup? Then nonconvergence is eval(x) = Inf\n",
    "# Or projectivize it? Riemann spehre style?\n",
    "# supinf = \n",
    "#evalp(a,x) = EReal.inf\n"
   ]
  },
  {
   "cell_type": "markdown",
   "metadata": {},
   "source": [
    "# Powser\n",
    "recurrence relations\n",
    "formal power series\n",
    "https://www.cs.dartmouth.edu/~doug/powser.html\n",
    "https://doc.sagemath.org/html/en/reference/power_series/sage/rings/lazy_series.html\n",
    "cauchy product\n",
    "solving differential equations in R[[x]]\n",
    "\n",
    "\n",
    "head(fib_iter(a,b)) = a\n",
    "tail(fib_iter(a,b)) = fib_iter(a + b, a)\n",
    "\n",
    "prove fib_iter\n",
    "\n",
    "List[R] as a generic state?\n",
    "\n",
    "head([a,b]) = a\n",
    "tail([a,b]) = [a + b, a]\n",
    "\n",
    "\"Hm - I mean, I think that Nat->Nat can be made isomorphic to NatStream as an F-coalgebra by basically letting head(f)  be f(0), and tail(f) be \\x.f(x+1). Is that the sort of thing you're thinking about?\" So I could use Lambdas instead of first orderizing my streams?\n",
    "\n",
    "head(f) = f[0]\n",
    "tail(f) = Lambda([n], f[n-1])\n",
    "\n",
    "\n",
    "Use Nat->R as some kind of universe of stream states? Gives us as many tuples as we want...\n",
    "\n",
    "hd(sum(psum,f)) = psum\n",
    "tail(sum(psum, f)) = sum(psum + f[0], tail(f))\n",
    "\n",
    "\n",
    "An online grobner basis over powser could give us the ability to do coefficient matching problems.\n",
    "\n",
    "https://flintlib.org/applications.html\n",
    "https://fredrikj.net/python-flint/arb_series.html\n",
    "\n",
    "https://gitlab.com/feynmanintegrals/fire \n",
    "http://ianhenderson.org/similar-rectangles/ hmm addendum at bottom mentions error.\n",
    "https://github.com/mkauers/ore_algebra/ https://github.com/flintlib/flint/issues/1881\n",
    "https://gitlab.inria.fr/ricardo-thomas.buring/d-finite-fun\n",
    "holonomic function = d-finite\n",
    "https://docs.sympy.org/latest/modules/holonomic/about.html\n",
    "https://en.wikipedia.org/wiki/Holonomic_function\n",
    "https://algo.inria.fr/libraries/ algolib maple. gfun. mgfun, regexpcount, "
   ]
  },
  {
   "cell_type": "code",
   "execution_count": 24,
   "metadata": {},
   "outputs": [
    {
     "name": "stdout",
     "output_type": "stream",
     "text": [
      "Array(Int, Real)\n"
     ]
    }
   ],
   "source": [
    "import knuckledragger as kd\n",
    "from z3 import *\n",
    "Powser = IntSort() >> RealSort()\n",
    "n,m = Ints(\"n m\")\n",
    "a,b,c = Consts(\"a b c\", Powser)\n",
    "x,y,z = Reals(\"x y z\")\n",
    "fP0 = kd.define(\"P0\", [], K(IntSort(), RealVal(0)))\n",
    "P0 = fP0()\n",
    "P0.defn = fP0.defn\n",
    "print(P0.sort())\n",
    "series = kd.define(\"series\", [x], Store(P0, IntVal(0), x)) #Lambda([n], If(n == 0, x, 0))\n",
    "add = kd.define(\"add\", [a,b], Lambda([n], a[n] + b[n]))\n",
    "kd.notation.add.register(Powser, add)\n",
    "add_comm = kd.lemma(ForAll([a], a + P0 == a), by=[add.defn, P0.defn])\n",
    "add_assoc = kd.lemma(ForAll([a,b,c], a + (b + c) == (a + b) + c), by=[add.defn])\n",
    "add_series = kd.lemma(ForAll([x,y], series(x) + series(y) == series(x + y)), by=[add.defn, series.defn, P0.defn])\n",
    "\n",
    "\n",
    "# tail?\n",
    "shift = kd.define(\"shift\", [a], Lambda([n], a[n+1])) # Lambda([n], If(n >= 1, a[n + 1], 0))\n",
    "mul = Function(\"mul\", Powser, Powser, Powser)\n",
    "kd.notation.mul.register(Powser, mul)\n",
    "#mul = kd.define(\"mul\", [a,b], Lambda([n], If(n == 0, a[n] * b[n], \n",
    "#                                                     shift(a) * b + series(a[0]) * shift(b))))\n",
    "#mul = kd.define(\"mul\", [a,b], Lambda([n], Sum([m], a[m] * b[n-m]))\n",
    "# could use smul(a[0], b) instead of series(a[0]) * shift(b)\n",
    "\n",
    "# a projection\n",
    "powser = kd.define(\"powser\", [a], Lambda([n], If(m < 0, RealVal(0), a[m])))\n",
    "is_powser = kd.define(\"is_powser\", [a], powser(a) == a)\n",
    "powser_idem = kd.lemma(ForAll([a], powser(powser(a)) == powser(a)), by=[powser.defn])\n",
    "\n",
    "def powser_induct(P):\n",
    "    return kd.axiom(Implies( ForAll([a], Implies(is_powser(a) & P(a), P(shift(a)))),\n",
    "                             #----------------------------------\n",
    "                             ForAll([a], Implies(is_powser(a), P(a)))))\n",
    "\n",
    "\n"
   ]
  },
  {
   "cell_type": "code",
   "execution_count": 20,
   "metadata": {},
   "outputs": [
    {
     "data": {
      "text/html": [
       "f[3]"
      ],
      "text/plain": [
       "f[3]"
      ]
     },
     "execution_count": 20,
     "metadata": {},
     "output_type": "execute_result"
    }
   ],
   "source": [
    "ArrayRef.__call__ = lambda self, arg: self[arg]\n",
    "\n",
    "ArraySort(IntSort(), BoolSort(), RealSort())\n",
    "f = Const(\"f\", ArraySort(IntSort(), BoolSort()))\n",
    "f(3)"
   ]
  },
  {
   "cell_type": "code",
   "execution_count": 9,
   "metadata": {},
   "outputs": [
    {
     "ename": "SyntaxError",
     "evalue": "'(' was never closed (2901492272.py, line 7)",
     "output_type": "error",
     "traceback": [
      "\u001b[0;36m  Cell \u001b[0;32mIn[9], line 7\u001b[0;36m\u001b[0m\n\u001b[0;31m    cumsum = kd.define_fix(\"cumsum\", [a], Lambda([n], If(n < 0, 0, a[n] + cumsum(a)[n-1]))\u001b[0m\n\u001b[0m                          ^\u001b[0m\n\u001b[0;31mSyntaxError\u001b[0m\u001b[0;31m:\u001b[0m '(' was never closed\n"
     ]
    }
   ],
   "source": [
    "# min support\n",
    "minsup = kd.define(\"minsup\", [a], Lambda([n], Implies(n <= 0, a[n] == 0)))\n",
    "trim = kd.define(\"trim\", [a], Lambda([n], If(n < 0, 0, a[n])))\n",
    "\n",
    "minnnonzero\n",
    "\n",
    "\n",
    "# https://numpy.org/doc/stable/reference/routines.array-creation.html\n",
    "diff = kd.define(\"diff\", [a], Lambda([n], a[n+1] - a[n]))\n",
    "cumsum = kd.define_fix(\"cumsum\", [a], Lambda([n], If(n < 0, 0, a[n] + cumsum(a)[n-1])))\n",
    "zeros = kd.define(\"zeros\", [a], K(IntSort(), RealVal(0)))\n",
    "ones = kd.define(\"ones\", [a], K(IntSort(), RealVal(1)))\n",
    "\n"
   ]
  },
  {
   "cell_type": "code",
   "execution_count": 23,
   "metadata": {},
   "outputs": [
    {
     "data": {
      "text/html": [
       "Nth(a, 0)"
      ],
      "text/plain": [
       "Nth(a, 0)"
      ]
     },
     "execution_count": 23,
     "metadata": {},
     "output_type": "execute_result"
    }
   ],
   "source": [
    "polyval = kd.define(\"polyval\", [a,x], Lambda([n], If(n < 0, 0, a[n] * x**n + polyval(a,x)[n-1]))\n",
    "pows = kd.define(\"pows\", [x], Lambda([n], If(n < 0, 0, x ** n)) # or recusrive form.\n",
    "\n",
    "\n"
   ]
  },
  {
   "cell_type": "code",
   "execution_count": null,
   "metadata": {},
   "outputs": [],
   "source": [
    "\n",
    "# multiplication by keeping a fionite poylnimial eval function?\n",
    "f0 = kd.define(\"f0\", [], K(IntSort(), RealVal(0)))\n",
    "f1 = kd.define(\"f1\", [], K(RealSort(), RealVal(1)))\n",
    "X = kd.define(\"X\", [], Lambda([x], x))\n",
    "p = f1 + X + X * X\n",
    "\n",
    "# poly sueqence\n",
    "PSeq = IntSort() >> (RealSort() >> RealSort())\n",
    "# The partial sums of prefix polynomials\n",
    "cumpoly = kd.define(\"cumpoly\", [a], Lambda([n], If(n < 0, f0, Lambda([x], a[n]*x**n + cumpoly(a)[n-1]))))\n"
   ]
  },
  {
   "cell_type": "markdown",
   "metadata": {},
   "source": [
    "Polynomial functions. Externally, not syntactically charcterzied by finite diff chain or sampling N points determining the whole function via interpolation.\n",
    "\n",
    "interp(n,f) = 1 + f(0) + f(1) + ...\n",
    "\n",
    "interp is a projection from space of all functions to polynomials.\n",
    "\n",
    "is_poly(f,n) = interp(n,f) == f"
   ]
  },
  {
   "cell_type": "code",
   "execution_count": null,
   "metadata": {},
   "outputs": [],
   "source": [
    "x = Real(\"x\")"
   ]
  },
  {
   "cell_type": "code",
   "execution_count": null,
   "metadata": {},
   "outputs": [],
   "source": [
    "import knuckledragger as kd\n",
    "from z3 import *\n",
    "\n",
    "Function(\"taylor\", kd.RFun, kd.RSeq)\n",
    "Function(\"converges\", kd.RSeq, BoolSort()) # power series vs taylor series\n",
    "Function(\"lim\", kd.RSeq, RealSort())\n",
    "Function(\"CRadius\", kd.RSeq, RealSort())\n",
    "\n",
    "\n",
    "\n",
    "n = Int(\"n\")\n",
    "recip_n = kd.define(\"recip_n\", [], Lambda([n], If(n == 0, 0, 1/ToReal(n))))\n",
    "kd.axiom(converges(recip_n))\n",
    "kd.axiom(lim(recip_n) == 0)\n",
    "\n",
    "kd.notation.add.define([a,b], Lambda([n], a[n] + b[n]))\n",
    "converge_add = kd.axiom(kd.QForAll([a,b], converges(a), converges(b), converges(a + b)))\n",
    "lim_add = kd.axiom(kd.QForAll([a,b], converges(a), converges(b), lim(a + b) == lim(a) + lim(b)))\n",
    "\n",
    "CRadius\n",
    "\n",
    "taylor(Lambda([n], If(n < 0, 0, n)))\n",
    "\n",
    "\n",
    "\n",
    "mul = Function(\"mul\", kd.RSeq, kd.RSeq, RealSort())\n",
    "kd.notation.mul.register(kd.RSeq, mul)\n",
    "\n",
    "# Is multiplication for formal laurent series always defined? probably not. Defnitely not.\n",
    "is_power = kd.define(\"is_power\", [a], QForAll([n], n < 0, a[n] == 0))\n",
    "pow_proj = kd.define(\"pow_proj\", [a], Lambda([n], If(n < 0, 0, a[n])))\n",
    "pow_proj_idem = kd.lemma(kd.QForAll([a], pow_proj(pow_proj(a)) == pow_proj(a)))\n",
    "\n",
    "#monomial = kd.define(\"monomial\", [n], Lambda([m], If(n == m, 1, 0)))\n",
    "monomial = kd.define(\"monomial\", [n], Store(K(IntSort(), RealVal(0)), n, 1))\n",
    "p1 = kd.define(\"p1\", [], monomial(0))\n",
    "X = kd.define(\"X\", [], monomial(1))\n",
    "# maybe only one has to be a power series for it do be defined?\n",
    "kd.axiom(kd.QForall([a,b], mul(monomial(n), monomial(n)) == monomial(n + m))) # Implies(n >0, m > 0, ...\n",
    "const = kd.define(\"const\", [c], Store(K(IntSort(), 0), 0, c)) \n",
    "kd.lemma(const(1) == monomial(0))\n",
    "\n",
    "smul = kd.define(\"smul\", [c,a], Lambda([n], c * a[n])) \n",
    "kd.lemma(const(c) * a == smul(c,a))\n",
    "kd.lemma(smul(c, a + b) == smul(c,a) + smul(c,b))\n",
    "kd.lemma(smul(c + d, a) == smul(c,a) + smul(d,a))\n",
    "kd.lemma(smul(c, smul(d,a)) == smul(c*d, a))\n",
    "kd.lemma(smul(1, a) == a)\n",
    "kd.lemma(smul(0, a) == const(0))\n",
    "\n",
    "ExprRef.decl_prop = property(lambda self: self.decl())\n",
    "ExprRef.children_prop = property(lambda self: self.children())\n",
    "ExprRef.__match_args__ = [\"decl_prop\", \"children_prop\"]\n",
    "Fn = ExprRef\n",
    "def poly_norm(t):\n",
    "    # convert to sympy or convert to z3. call simplify. Get sorted form. Reify back.\n",
    "    if t.decl() == mul:\n",
    "        if is_app(t)L\n",
    "    match t:\n",
    "        ExprRef(mul, a , b):\n",
    "\n",
    "\n",
    "\n",
    "# if radius of convergence is >= 1, we can talk about a sequence convergeing to the valuie of the function at x == 1\n",
    "# it is highly suspect to be directly axiomatizinfg the notion of infinite summation like this. But maybe it's workable.\n",
    "\n",
    "# Is this well defined?\n",
    "# We could take mul to be the power seriers trunacating multuiplication = naive_mul(pow_porject(n), pow_project(m))\n",
    "\n",
    "#kd.axiom(kd.QForall([a,b], (a * b) * c == a * (b * c)))\n",
    "#kd.axiom(kd.QForall([a,b], a * b == b * a))\n",
    "#kd.axiom(kd.QForAll([a,b], is_power(a), is_power(b),  a*(b+c) == a*b + a*c))\n",
    "\n",
    "\n",
    "\n",
    "kd.axiom(kd.QForAll([a,b], converges(a), converges(b), converges(mul(a,b))))\n",
    "\n",
    "\n",
    "\n",
    "\n",
    "\n",
    "\n",
    "\n"
   ]
  },
  {
   "cell_type": "code",
   "execution_count": 26,
   "metadata": {},
   "outputs": [
    {
     "data": {
      "text/html": [
       "&exist;n : If(0 = n, 10, 0) + If(1 = n, 1, 0) + If(0 = n, 3, 0)"
      ],
      "text/plain": [
       "Lambda(n,\n",
       "       If(0 == n, 10, 0) +\n",
       "       If(1 == n, 1, 0) +\n",
       "       If(0 == n, 3, 0))"
      ]
     },
     "execution_count": 26,
     "metadata": {},
     "output_type": "execute_result"
    }
   ],
   "source": [
    "import knuckledragger as kd\n",
    "from z3 import *\n",
    "import knuckledragger.theories.Real as R\n",
    "\n",
    "x,y = Reals('x y')\n",
    "a,b,c = Consts('a b c', R.RSeq)\n",
    "n,m = Ints('n m')\n",
    "kd.notation.add.define([a,b], Lambda([n], a[n] + b[n]))\n",
    "monomial = kd.define(\"monomial\", [n], Store(K(IntSort(), RealVal(0)), n, 1))\n",
    "z = monomial(1)\n",
    "const = kd.define(\"const\", [x], Store(K(IntSort(), RealVal(0)), 0, x))\n",
    "smul = kd.define(\"smul\", [x,a], Lambda([n], x * a[n]))  # map\n",
    "\n",
    "mul = Function(\"mul\", R.RSeq, R.RSeq, R.RSeq)\n",
    "def rmul(self,other):\n",
    "    if isinstance(other, int) or isinstance(other, float) or other.sort() == RealSort():\n",
    "        return smul(other,self)\n",
    "    elif other.sort() == kd.RSeq:\n",
    "        return mul(self, other)\n",
    "    assert False\n",
    "kd.notation.rmul.register(R.RSeq, rmul)\n",
    "def mul_(self, other):\n",
    "    if other.sort() == RealSort():\n",
    "        return smul(other, self)\n",
    "    elif other.sort() == kd.RSeq:\n",
    "        return mul(self, other)\n",
    "kd.notation.mul.register(R.RSeq, rmul)\n",
    "def radd(self,other):\n",
    "    if isinstance(other, int) or isinstance(other, float) or other.sort() == RealSort():\n",
    "        return smul(other,self)\n",
    "    elif other.sort() == kd.RSeq:\n",
    "        return mul(other, self)\n",
    "    assert False\n",
    "\n",
    "3 * a\n",
    "\n",
    "3 * a * b + c\n",
    "kd.utils.simp2(const(10) + z + const(3))\n",
    "#smul(RealVal(4), (3 * a))\n",
    "\n"
   ]
  },
  {
   "cell_type": "markdown",
   "metadata": {},
   "source": [
    "# numpy\n",
    "\n",
    "curried Int indexed arrays\n",
    "Data array + shape\n",
    "\n",
    "Extraction is interesting.\n",
    "\n"
   ]
  },
  {
   "cell_type": "code",
   "execution_count": null,
   "metadata": {},
   "outputs": [],
   "source": [
    "import knuckledragger as kd\n",
    "ndarray = kd.notation.Record(\"ndarray\", (\"shape\", SeqSort(IntSort())), (\"data\", ArraySort(IntSort(), RealSort())))\n",
    "\n",
    "linspace = kd.define(\"linspace\", [a,b,n], ndarray.mk(Unit(IntVal(1)), Lambda([m], a + (b - a) * m / (n - 1))))\n",
    "zeros = kd.define(\"zeros\", [a], ndarray.mk(a, K(IntSort(), RealVal(0))))\n",
    "ones = kd.define(\"ones\", [a], ndarray.mk(a, K(IntSort(), RealVal(1))))\n",
    "eye = kd.define(\"eye\", [n], ndarray.mk(Concat(Unit(n), Unit(n)), Lambda([n], If(i == j, 1, 0))))\n",
    "\n",
    "# I almost feel like matrix dim match is something people would want.\n",
    "#dot = kd.define(\"dot\", [x,y], )\n",
    "\n",
    "# or just code gen a string.\n",
    "# \"lambdify\"                \n",
    "def numpy_extract(x, t):\n",
    "    if t.decl() == linspace.decl():\n",
    "        def res(x1):\n",
    "            np.linspace()\n",
    "    elif t.decl() == zeros.decl():\n",
    "\n",
    "\n",
    "\n"
   ]
  },
  {
   "cell_type": "markdown",
   "metadata": {},
   "source": [
    "BitVecSort()\n",
    "FiniteDomainSort()\n",
    "ArraySort(Tuple(Fin(2), Fin(3), ...))\n",
    "\n",
    "Do broadcasting\n",
    "\n",
    "sort could be \n",
    "\n",
    "V2(V2(V2(x))) could be useful for straitifying big vectors.\n",
    "\n",
    "It is possible for vector to go wrong at dim 189024, but cmon.\n",
    "Also maybe we only care about a particular calculation\n",
    "\n",
    "It's an interesting angle. DOesn't solve everything but could do a lot.\n",
    "Again, this is kind of in my z3 tutorial. I made a numpy array of z3 objects. Here I make a \n",
    "\n",
    "dot can just be blasted.\n",
    "\n",
    "\n",
    "BitVecs are ArraySort(FinDomain, Bool)\n",
    "\n",
    "\n",
    "What about just shape on it's own.\n",
    "Or an asbtract type NDArray I define equations over that I valdiate a bit using concrete stuff.\n",
    "\n",
    "\n"
   ]
  },
  {
   "cell_type": "code",
   "execution_count": null,
   "metadata": {},
   "outputs": [],
   "source": [
    "class Vec(z3.ArraySortRef):\n",
    "    def __init__(self, size, sort):\n",
    "        super().__init__\\*args)\n",
    "        self.shape = args\n",
    "        self.data = ArraySort(IntSort(), RealSort())\n",
    "    def __call__(self, *args):\n",
    "        return self.mk(*args)"
   ]
  },
  {
   "cell_type": "markdown",
   "metadata": {},
   "source": [
    "# Codatatype / Inf Tree / STream \n",
    "\n",
    "What does codatatypes even get you?\n",
    "\n",
    "\n",
    "define_obs(\"fib\", [], )\n",
    "a complete set of observations\n",
    "\n",
    "hd(x), tl(x)\n",
    "\n"
   ]
  },
  {
   "cell_type": "code",
   "execution_count": null,
   "metadata": {},
   "outputs": [],
   "source": [
    "#RSeq = SeqSort(RealSort())\n",
    "#a,b,c = Consts(\"a b c\", RSeq)\n",
    "#hd = kd.define(\"hd\", [a], )\n",
    "#tail = k.define(\"tail\", [])\n",
    "\n",
    "# definiing by fiat.\n",
    "# we don't get rational equivalence for free. Analog of well founedness condition for datatypes. Oddly.\n",
    "\n",
    "RStream = DeclareSort(\"RStream\")\n",
    "\n",
    "hd = Function(\"hd\", RStream, RealSort())\n",
    "tail = Function(\"tail\", RStream, RStream)\n",
    "zeros = Const(\"zeros\", RStream)\n",
    "\n",
    "hd_zeros = kd.axiom(hd(zeros) == 0)\n",
    "tail_zeros = kd.axiom(tail(zeros) == zeros)\n",
    "\n",
    "fib = Function(\"fib\", RealSort(),RealSort(), RStream)\n",
    "hd_fib = kd.axiom(ForAll([x,y], hd(fib(x, y)) == x))\n",
    "tail_fib = kd.axiom(ForAll([x,y], tail(fib(x, y)) == fib(y, x + y)))\n",
    "\n",
    "# first orderize the rep. Tag in first position.\n",
    "hd = Function(\"hd\", RSeq, RealSort())\n",
    "tail = Function(\"tail\", RSeq, RSeq)\n",
    "\n",
    "fib = kd.define(\"fib\", [a,b], Concat(Unit(0), Unit(a), Unit(b)))\n",
    "hd_fib = kd.axiom(hd(fib(a,b)) == a)\n",
    "tl_fib = kd.axiom(tail(fib(a,b)) == fib(b, a + b))\n",
    "\n",
    "zeros = kd.define(\"zeros\", [], Unit(1))\n",
    "hd_zeros = kd.axiom(hd(zeros) == 0)\n",
    "tl_zeros = kd.axiom(tail(zeros) == zeros)\n",
    "\n",
    "zeros1 = kd.define(\"zeros1\", [], Unit(2))\n",
    "hd_zeros1 = kd.axiom(hd(zeros1) == 0)\n",
    "tl_zeros1 = kd.axiom(tail(zeros1) == zeros1)\n",
    "\n",
    "# They aren't recognized as equal. Hmm.\n",
    "# An inifnite chain needs something funky (coinduction?), but finite/rational chain shouldn't really.\n",
    "\n",
    "\n",
    "#hd(zeros) == 0\n",
    "#tl(zeros) == zero\n",
    "\n",
    "tails = Function(\"tails\", IntSort(), RSeq())\n",
    "hds = Function(\"hds\", IntSort(), RealSort())\n",
    "\n",
    "# fibstate2 = \n",
    "#fibstate1 = Function(\"fibstate\", IntSort(), RSeq())\n",
    "kd.axiom(   fibstate1(n+1) == fibstate1(n) + fibstate2(n))\n",
    "            fibstate2(n+1) == fibstate1(n)\n",
    "\n",
    "fibhead = define(\"fibhead\", [n], fibstate0[n] )\n"
   ]
  },
  {
   "cell_type": "code",
   "execution_count": 3,
   "metadata": {},
   "outputs": [],
   "source": [
    "from cvc5.pythonic import *\n",
    "RStream = Datatype('RStream', isCoDatatype=True)\n",
    "RStream.declare('cons', ('val', RealSort()), ('tail', RStream))\n",
    "RStream = RStream.create()\n",
    "\n",
    "zeros, zeros1 = Consts(\"zeros zeros1\", RStream)\n",
    "s = Solver()\n",
    "s.add(RStream.val(zeros) == 0)\n",
    "s.add(RStream.tail(zeros) == zeros)\n",
    "s.add(RStream.val(zeros1) == 0)\n",
    "s.add(RStream.tail(zeros1) == zeros1)\n",
    "s.add(RStream.is_cons(zeros))\n",
    "s.add(RStream.is_cons(zeros1))\n",
    "s.add(zeros != zeros1)\n",
    "assert sat == s.check()\n",
    "m = s.model()\n",
    "assert m[zeros].eq(m[zeros1])"
   ]
  },
  {
   "cell_type": "code",
   "execution_count": 2,
   "metadata": {},
   "outputs": [
    {
     "data": {
      "text/plain": [
       "unsat"
      ]
     },
     "execution_count": 2,
     "metadata": {},
     "output_type": "execute_result"
    }
   ],
   "source": [
    "Stream = Datatype('Stream', isCoDatatype=True)\n",
    "Stream.declare('cons', ('car', IntSort()), ('cdr', Stream))\n",
    "Stream.declare('nil')\n",
    "Stream = Stream.create()\n",
    "a = Const('a', Stream)\n",
    "b = Const('b', Stream)\n",
    "s = Solver()\n",
    "s += a == Stream.cons(0, a)\n",
    "s.check()\n",
    "sat\n",
    "s = Solver()\n",
    "s += a == Stream.cons(0, a)\n",
    "s += b == Stream.cons(0, b)\n",
    "s += a != b\n",
    "s.check()"
   ]
  },
  {
   "cell_type": "code",
   "execution_count": 5,
   "metadata": {},
   "outputs": [
    {
     "data": {
      "text/plain": [
       "unsat"
      ]
     },
     "execution_count": 5,
     "metadata": {},
     "output_type": "execute_result"
    }
   ],
   "source": [
    "from cvc5.pythonic import *\n",
    "RStream = Datatype('RStream', isCoDatatype=True)\n",
    "RStream.declare('cons', ('car', IntSort()), ('tail', RStream))\n",
    "RStream.declare(\"nil\")\n",
    "RStream = RStream.create()\n",
    "\n",
    "zeros, zeros1 = Consts(\"zeros zeros1\", RStream)\n",
    "s = Solver()\n",
    "s.add(RStream.car(zeros) == 0)\n",
    "s.add(RStream.tail(zeros) == zeros)\n",
    "s.add(RStream.car(zeros1) == 0)\n",
    "s.add(RStream.tail(zeros1) == zeros1)\n",
    "s.add(RStream.is_cons(zeros))\n",
    "s.add(RStream.is_cons(zeros1))\n",
    "s.add(zeros != zeros1)\n",
    "s.check()\n",
    "#s.model()\n",
    "#assert sat == s.check()\n",
    "#m = s.model()\n",
    "#assert m[zeros].eq(m[zeros1])"
   ]
  },
  {
   "cell_type": "code",
   "execution_count": null,
   "metadata": {},
   "outputs": [],
   "source": [
    "ArraySort(IntSort(), BoolSort())\n",
    "\n",
    "# intermediate value theorem and bisection\n",
    "mid = (a + b) / 2\n",
    "bisect = Function(\"bisect\", RFun, RealSort(), RealSort(), RSeq())\n",
    "bisect(f,a,b) = If(f(mid) == 0, a + b / 2, If(f(mid) < 0, bisect(f, a, mid), bisect(f, mid, b)))\n",
    "# f(a) < 0, f(b) > 0\n",
    "# cont(f)"
   ]
  },
  {
   "cell_type": "markdown",
   "metadata": {},
   "source": [
    "# Eudocus\n",
    "If floor / real-int interop is such a pain maybe eudoxus is a way to go"
   ]
  },
  {
   "cell_type": "markdown",
   "metadata": {},
   "source": [
    "# Sup\n",
    "https://en.wikipedia.org/wiki/Infimum_and_supremum"
   ]
  },
  {
   "cell_type": "code",
   "execution_count": null,
   "metadata": {},
   "outputs": [],
   "source": [
    "sup = Function(\"sup\", RFun, R, R, R) # supermemum over (open?) range.\n",
    "sup_bnd = kd.axiom(QForAll([x], a < x, x < b, f(x) <= sup(f,a,b)))\n",
    "sup\n",
    "\n",
    "\n",
    "# a corollary of the mean value theorem / intergal bound\n",
    "# if b >= a\n",
    "#int dexp(x) = exp(b) - exp(a) <= (b - a) * sup(exp, a, b)\n",
    "# exp(x) <= 1 + x * sup(exp, 0, x) == 1 + x * exp(x)\n",
    "# sup(exp, a, b) == exp(b) # growing\n",
    "# exp(b) - exp(a) >= (b - a) * inf(exp, a , b) \n",
    "\n",
    "# exp(x + dx) - exp(x) / dx = exp(x) * (exp(dx) - 1) / dx ~ exp(x)\n",
    "\n",
    "# exact mean value form.  exp(x) = 1 + x * (exp(ln((exp(x) - 1) / x)))\n",
    "# ln ~ 0 + (x - 1) / x\n"
   ]
  },
  {
   "cell_type": "markdown",
   "metadata": {},
   "source": [
    "exact mean value form.  exp(x) = 1 + x * (exp(ln((exp(x) - 1) / x)))\n",
    "exp(x) = 1 + x * (1 + x * exp(ln((exp(x) - 1) / x)))\n",
    "\n",
    "exp(x) = 1 + x * (exp(ln(x * exp() / x))\n"
   ]
  },
  {
   "cell_type": "code",
   "execution_count": null,
   "metadata": {},
   "outputs": [],
   "source": [
    "\n",
    "RSet = R >> B\n",
    "RSeq = Nat >> R\n",
    "sup = Function(\"sup\", RSet, R)\n",
    "sup2 = Function(\"sup\", RSeq, R)\n",
    "\n",
    "ubound = Function(\"upper\", RSet, R, B)\n",
    "ubound_def = ForAll([S, x], ubound(S, x) == ForAll([y], S(y) <= x))\n",
    "\n",
    "bounded = Function(\"bounded\", RSet, B)\n",
    "bounded_def = ForAll([S], bounded(S) == Exists([x], ubound(S, x)))\n",
    "\n",
    "sup_ubound = axiom(QForAll([x], bounded(S), ubound(S, sup(S)))) # it is an upper bound\n",
    "sup_lub = axiom(QForAll([x, S], ubound(S,x), sup(S) <= x)) # it is the least upper bound\n",
    "\n",
    "# monotonic saequences mono(s), bounded(s) => sup2(s) = lim(s)\n",
    "\n",
    "\n",
    "# inf\n",
    "\n"
   ]
  },
  {
   "cell_type": "markdown",
   "metadata": {},
   "source": [
    "Infimum and superemum always exist over extended reals?\n",
    "\n",
    "For monotonic sequences inf/sup = limit"
   ]
  },
  {
   "cell_type": "code",
   "execution_count": null,
   "metadata": {},
   "outputs": [],
   "source": [
    "inf = Function(\"inf\", RSet, R)\n",
    "inf(SetUnion(A,B)) == min(inf(A), inf(B))\n",
    "inf(SetIntersect(A,B)) == max(inf(A), inf(B))\n",
    "\n",
    "inf(A) <= sup(A)\n",
    "\n",
    "minksum = kd.define(\"minksum\", [A,B], Lambda([z], Exists([x,y], A[x] & B[y] & x + y == z)))\n",
    "minkprod = Lambda([z], Exists([x,y], A[x] & B[y] & x * y == z))\n",
    "smul = kd.define(\"smul\", [c,a], Lambda([n], c * a[n]))\n",
    "\n",
    "lowcut = kd.define(\"lowcut\", [x], Lambda([y], If(y < x, True, False)))\n",
    "kd.lemma(sup(lowcut(x)) == x)\n",
    "\n"
   ]
  },
  {
   "cell_type": "code",
   "execution_count": null,
   "metadata": {},
   "outputs": [],
   "source": []
  },
  {
   "cell_type": "markdown",
   "metadata": {},
   "source": [
    "# Max\n"
   ]
  },
  {
   "cell_type": "code",
   "execution_count": null,
   "metadata": {},
   "outputs": [],
   "source": [
    "is_max = kd.define(\"is_max\", [f,x], ForAll([y], f[y] <= f[x]))\n",
    "is_min\n",
    "is_min(Lambda([x], x*x), 0)\n",
    "\n",
    "\n",
    "\n"
   ]
  },
  {
   "cell_type": "markdown",
   "metadata": {},
   "source": [
    "# Derivative Integral\n",
    "Maybe we hsould have two notions of derivative. The analytic and syntactic version.\n",
    "deriv() gives something\n",
    "but\n",
    "differentiable(f) => is_deriv(f,derive(f))\n",
    "\n",
    " https://www.philipzucker.com/z3_diff/\n",
    "\n",
    " The \"formalderivative\"\n",
    " The syntactic derivative\n",
    "\n",
    " https://en.wikipedia.org/wiki/Henstock%E2%80%93Kurzweil_integral\n",
    "\n",
    "The gauge is kind of like an adaptiuve integraiton scheme. The refinement of the partition can depend on x.\n",
    "If the inf of the gauge is not 0, you could just use\n",
    "\n",
    "Lebesgue inetrgation and foat summaiton\n",
    "\n",
    "\n"
   ]
  },
  {
   "cell_type": "code",
   "execution_count": null,
   "metadata": {},
   "outputs": [],
   "source": [
    "def yoneda(t):\n",
    "    if num_children() == 2:\n",
    "        return Lambda([f,g], )\n",
    "    \n",
    "\n",
    "kd.lemma(yoneda(f)(id_) == f)"
   ]
  },
  {
   "cell_type": "code",
   "execution_count": null,
   "metadata": {},
   "outputs": [],
   "source": [
    "\n",
    "RFun = ArraySort(R,R)\n",
    "derive = Function(\"derive\", RFun, RFun) #diff?\n",
    "sin,cos,exp = Consts(\"sin cos exp\", RFun)\n",
    "\n",
    "dsin = derive(sin) == cos\n",
    "dcos = derive(cos) == -sin\n",
    "dexp = derive(exp) == exp\n",
    "\n",
    "chain = ForAll([f,g], derive(comp(f,g)) == derive(g) * comp(derive(f),g))\n",
    "dsum = ForAll([f,g], derive(f + g) == derive(f) + derive(g))\n",
    "dmul = ForAll([f,g], derive(f * g) == derive(f) * derive(g))\n",
    "c = Real(\"c\")\n",
    "dconst = ForAll([c], derive(K(R,c)) == K(R,0))\n",
    "dx = derive(Lambda([x], x)) == K(R,1)\n",
    "\n",
    "integ = Function(\"integ\", RFun, RFun)\n",
    "integ_def = ForAll([f], deriv(integ(f)) == f)\n",
    "integ_deriv = ForAll([f], Implies(   , integ(deriv(f)) == f))\n",
    "\n",
    "\n",
    "\n",
    "\n"
   ]
  },
  {
   "cell_type": "markdown",
   "metadata": {},
   "source": [
    "If one recalls, thr partial application comp(cos,-) is another form of cosine that is also useful. This has something to do with the yoneda lemma if we want to be fancy.\n",
    "\n"
   ]
  },
  {
   "cell_type": "code",
   "execution_count": null,
   "metadata": {},
   "outputs": [],
   "source": [
    "integ = Function(\"integ\", RFun, R, R, R)\n",
    "max = Function(\"max\", RFun, R, R, R)\n",
    "min = Function(\"min\", RFun, R, R, R)\n",
    "\n",
    "max_def = ForAll([f,a,b], max(f,a,b) == If(a >= b, f(a), f(b)))\n",
    "\n",
    "max_def = ForAll([f,a,b], max(f,a,b,z) == QForAll([x], And(x <= b, x >= a),  f(x) <= f(z)))\n",
    "\n",
    "max(f,a,a) == f(a)\n",
    "\n",
    "max(max(f,a,c), max(f,c,b))\n",
    "max = Function(\"max\", R, R, R)\n",
    "\n",
    "\n",
    "\n",
    "integ(f,a,b) = integ(f,a,c) + integ(f,c,b)\n",
    "integ(f,a,b) <= max(f,a,b) * (b - a)\n",
    "integ(f,a,b) >= min(f,a,b) * (b - a)\n",
    "\n"
   ]
  },
  {
   "cell_type": "code",
   "execution_count": null,
   "metadata": {},
   "outputs": [],
   "source": [
    "M = DeclareSort(\"M\") # manifold\n",
    "RealField = ArraySort(M, R)\n",
    "d = Function(\"d\", RealField, ??)\n",
    "\n"
   ]
  },
  {
   "cell_type": "code",
   "execution_count": null,
   "metadata": {},
   "outputs": [],
   "source": [
    "\n",
    "\n",
    "```python\n",
    "from z3 import *\n",
    "def lemma(thm,by=[]):\n",
    "    prove(Implies(And(by), thm))\n",
    "    return thm\n",
    "\n",
    "R = RealSort()\n",
    "RR = ArraySort(R, R)\n",
    "\n",
    "class RealFun(ArrayRef):\n",
    "    def __add__(self, other):\n",
    "        r = plus(self,other)\n",
    "        r.__class__ = RealFun\n",
    "        return r\n",
    "\n",
    "def RealFuns(names):\n",
    "    xs = Consts(names, RR)\n",
    "    for x in xs:\n",
    "        x.__class__ = RealFun\n",
    "    return xs\n",
    "\n",
    "z = Real(\"z\")\n",
    "f,g,h = RealFuns(\"f g h\")\n",
    "plus = Function(\"plus\", RR, RR, RR)\n",
    "plus_def = ForAll([f, g], plus(f, g) == Lambda([z], f[z] + g[z]))\n",
    "\n",
    "plus_comm = lemma(ForAll([f, g], f + g == g + f), [plus_def])\n",
    "plus_assoc = lemma(ForAll([f, g, h], f + g + h == f + (g + h)), [plus_def])\n",
    "\n",
    "mul = Function(\"mul\", RR, RR, RR)\n",
    "mul_def = ForAll([f, g], mul(f, g) == Lambda([z], f[z] * g[z]))\n",
    "\n",
    "mul_comm = lemma(ForAll([f, g], f * g == g * f), [mul_def])\n",
    "mul_assoc = lemma(ForAll([f, g, h], f * g * h == f * (g * h)), [mul_def])\n",
    "\n",
    "x, cos, sin = RealFuns(\"x cos sin\")\n",
    "x_def = x == Lambda([z],z)\n",
    "\n",
    "\n",
    "\n",
    "integ = Function(\"integ\", RR, R, R, R)\n"
   ]
  },
  {
   "cell_type": "markdown",
   "metadata": {},
   "source": [
    "# Integral\n",
    "\n",
    "CVould maybe unifromly use 0,1 as integration region.\n",
    "\n",
    "\n",
    "local substituition foral a<x<=b -> f(x) == g(x) -> integ(f,a,b) == integ(g,a,b)\n",
    "\n",
    "Or just have it alweays be unbounded intergal, but the bounds go in mu\n",
    "\n",
    "clamp = \n",
    "integ(f, clamp(a,b,mu))\n",
    "\n",
    "\n",
    "If(x <= a, mu(a), If(x >= b, mu(b), mu(x)))\n",
    "\n",
    "integ( , -inf, inf)\n",
    "\n",
    "\n",
    "That riemann stieljes joins up sums is cool. Shadow calc <- stieljes -> calc\n",
    "\n",
    "discrete ext calc <stieljes?> ext calc\n",
    "Exterior calcuyluys. int dv = v(1) - v(0)\n",
    "\n",
    "integ(f, r) <= max(f) dot (r(b) - r(a))\n",
    "\n",
    "steiljes derivative\n",
    "\n",
    "\n",
    "(diff(f) == g)   == integ(g,x) == integ(1,f)\n",
    "\n",
    "integ(f, x) == f + integ()\n",
    "\n",
    "https://docs.sympy.org/latest/modules/integrals/integrals.html#sympy.integrals.manualintegrate.manualintegrate\n",
    "manual intergate\n",
    "\n",
    "Kurzweil henstock integral.\n",
    "\n"
   ]
  },
  {
   "cell_type": "code",
   "execution_count": null,
   "metadata": {},
   "outputs": [],
   "source": [
    "integrate = Function(\"integrate\", RFun, RFun, R, R, R) #Reimann stieljes . EReal? Int 1/x\n",
    "# linear both ways\n",
    "kd.axiom(integrate(f + g, u, a, b) == integrate(f, u, a, b) + integrate(g, u, a, b))\n",
    "intergate(const(1), g, a, b) == g(b) - g(a)\n",
    "integrate(u, v, a, b) == v(a)*u(a) - v(b) * u(b) - integrate(v, u, a, b)\n",
    "integrate(f, g*h, a, b) == integrate(f*g, h, a, b) + integrate(f*h, g, a, b) # product rule. So the above follows? f == const(1)\n",
    "\n",
    "#integrate(X, const(1), a , b) == \n",
    "\n",
    "intergate1 = kd.define(\"intergate\", [f,a, b], integrate(f , const(1), a, b))\n",
    "\n",
    "kd.axiom(integrate(smul(c,f), a, b) == integrate(f, a, b) * c)\n",
    "\n",
    "kd.axiom(integrate(K(R,c), a , b) == (b - a) * c)"
   ]
  },
  {
   "cell_type": "code",
   "execution_count": null,
   "metadata": {},
   "outputs": [],
   "source": [
    "integrate = Function(\"integrate\", RFun, R, R, R) # EReal? Int 1/x\n",
    "kd.axiom(integrate(f + g, a, b) == integrate(f, a, b) + integrate(g, a, b))\n",
    "kd.axiom(integrate(smul(c,f), a, b) == integrate(f, a, b) * c)\n",
    "kd.axiom(integrate(K(R,c), a , b) == (b - a) * c)\n",
    "u = Lambda([x], integrate(du, c, x))\n",
    "v = Lambda([x], integrate(dv, d, x))\n",
    "kd.axiom(ForAll([du,dv],integrate(u * dv, a, b) == u(b) * v(b) - u(a) * v(a) -  integrate(v * du, a, b)))    \n",
    "kd.axiom(QForAll(ForAll([x], b <= x, x <= a, f(x) <= eps), integrate(f(x), a, b) <= (b - a) * eps)\n",
    "\n",
    "# The formal derivative. It has no meaning except intergate(fdiff(f), a, b)  == f(a) - f(b)\n",
    "# The derivative is not a numerically good thing and thus should be viewed with a little suspciion.\n",
    "# You won't be able to bound fdiff unless you know an actual computation for it\n",
    "step = If(x <= 0, 0, 1)\n",
    "fdiff(step)\n",
    "#fdiff()"
   ]
  },
  {
   "cell_type": "markdown",
   "metadata": {},
   "source": [
    "\n",
    "https://ocw.mit.edu/courses/res-18-001-calculus-fall-2023/pages/textbook/\n",
    "\n",
    "f(b) - f(a)\n",
    "\n",
    "\n",
    "f(a) + f(b) + f(c) >= \n",
    "\n",
    "\n",
    "\n",
    "\n",
    "\n",
    "```python\n",
    "\n",
    "```\n",
    "\n",
    "Lebesgue integration\n",
    "Is there numerical version?\n",
    "What if we wrote a function that outputs the inverse multifunction\n",
    "\n",
    "\n",
    "\n",
    "If the problem of mosty interest is integration maybe I should attack that directly.The Risch algorithm supposedly does all intergals or something. How could that possibly be true. Maniuplating equations isn't done to my awareness?\n",
    "\n",
    "\n",
    "```python\n",
    "%%file /tmp/integ.p\n",
    "\n",
    "thf(int_decl, type, integ : ($real > $real) > $real).\n",
    "thf(int_linear, axiom, integ(F + G) = integ(F) + integ(G)).\n",
    "```\n",
    "\n",
    "    Overwriting /tmp/integ.p\n",
    "\n",
    "\n",
    "\n",
    "```python\n",
    "!zipperposition  /tmp/integ.p\n",
    "```\n",
    "\n",
    "    parse error: lexer fails on char +\n",
    "    \n",
    "        at file '/tmp/integ.p': line 3, col 31 to 32\n",
    "\n"
   ]
  },
  {
   "cell_type": "markdown",
   "metadata": {},
   "source": [
    "# Fixed Point\n",
    "Fixed point is a bit eaiser to know what we're talking about\n",
    "- Int * eps = Real\n",
    "- BitVec * eps = Real bounding\n",
    "\n",
    "https://soarlab.org/publications/2020_ijcar_bhlnr/#:~:text=Fixed%2Dpoint%20arithmetic%20is%20a,techniques%20or%20reuse%20the%20implementations. An smt theory of fixed point\n",
    "\n",
    "https://dl.acm.org/doi/10.1145/3524051 Tight Error Analysis in Fixed-point Arithmetic\n",
    "\n",
    "Yates Randy. 2009. Fixed-point arithmetic: An introduction. http://www.digitalsignallabs.com/fp.pdf\n",
    "\n",
    "https://theses.hal.science/tel-01158310/file/thesis.pdf Synthesis of certified programs in fixed-point arithmetic,\n",
    "and its application to linear algebra basic blocks"
   ]
  },
  {
   "cell_type": "code",
   "execution_count": null,
   "metadata": {},
   "outputs": [],
   "source": [
    "floor_eps = kd.define(\"floor_eps\", [x,eps], floor(x/eps) * eps)\n",
    "floor_eps_bnd = kd.lemma(ForAll([x,eps], And(x - eps <= floor_eps(x,eps), floor_eps(x,eps) <= x, by=[floor_bnd, floor_eps.defn])))\n",
    "\n",
    "def FixedN(eps):\n",
    "    R = kd.Record(f\"Floor_Eps_{eps}\", (\"val\", kd.R))\n",
    "    kd.notation.add.define(R, R.mk(floor_eps(x.val + y.val, eps)))\n",
    "    kd.notation.wf.define([x], floor_eps(x.val, eps) == x.val)\n",
    "    kd.notation.to_real.register(lambda x: R.val(x))\n",
    "    #kd.notation.sub.define()\n",
    "    #kd.notation.mul.define()\n",
    "    #kd.notation.div.define()\n",
    "\n",
    "\n",
    "\n"
   ]
  },
  {
   "cell_type": "code",
   "execution_count": 33,
   "metadata": {},
   "outputs": [
    {
     "name": "stdout",
     "output_type": "stream",
     "text": [
      "WARNING: Redefining function real2fixed from ForAll(z, real2fixed(z) == ToInt(ToReal(x)/1/65536)) to ForAll(z, real2fixed(z) == ToInt(z/1/65536))\n",
      "WARNING: Unneeded assumptions. Used [by_0, knuckledragger_goal, by_3]\n"
     ]
    }
   ],
   "source": [
    "from knuckledragger import *\n",
    "from z3 import *\n",
    "Fixed = Datatype(\"Fixed\")\n",
    "Fixed.declare(\"mk\", (\"x\", IntSort()), (\"eps\", RealSort()))\n",
    "Fixed = Fixed.create()\n",
    "\n",
    "x = Int(\"x\")\n",
    "eps = 2**-16\n",
    "z = Real(\"z\")\n",
    "fixed2real, fixed2real_def = define(\"fixed2real\", [x], ToReal(x) * eps )\n",
    "real2fixed, real2fixed_def = define(\"real2fixed\", [z], ToInt(z / eps))\n",
    "\n",
    "\n",
    "\n",
    "#lemma(ForAll([x], real2fixed(fixed2real(x)) <= 2*eps)\n",
    "             \n",
    "             # disparate eps kind of stinks. That starts the be kind of like floating point.\n",
    "#add = Function(\"add\", Fixed, Fixed, Fixed)\n",
    "#add_def = ForAll([x,y], real2fixed(fixed2real(x) + fixed2real(y)) == add(x,y))\n",
    "\n",
    "round, round_def = define(\"round\", [z], fixed2real(real2fixed(z)))\n",
    "\n",
    "\n",
    "round_down = lemma(ForAll([z], fixed2real(real2fixed(z)) <= z), by=[fixed2real_def, real2fixed_def])\n",
    "round_up = lemma(ForAll([z], fixed2real(real2fixed(z)) >= z - eps), by=[fixed2real_def, real2fixed_def])\n",
    "\n",
    "\n",
    "#round_idem = lemma(ForAll([z], round(round(z)) == round(z)), by=[round_def, fixed2real_def, real2fixed_def])\n",
    "#round_add = lemma(ForAll([x,y], round(x + y) <= round(x) + round(y)), by=[round_def, ]\n",
    "real_fixed_id = lemma(ForAll([x], real2fixed(fixed2real(x)) == x), by=[real2fixed_def, fixed2real_def])\n",
    "\n",
    "round_idem = lemma(ForAll([z], round(round(z)) == round(z)), by=[round_def, fixed2real_def, real2fixed_def, real_fixed_id])\n",
    "\n",
    "\n",
    "\n",
    "#prove(ToInt(ToReal(x)) == x)\n",
    "#solve(ToInt(RealVal(1.6))== x)\n"
   ]
  },
  {
   "cell_type": "markdown",
   "metadata": {},
   "source": [
    "# Float\n",
    "\n",
    "\n",
    "FPTalks\n",
    "fpbench\n",
    "fptools\n",
    "fpcore\n",
    "https://fpbench.org/education.html\n",
    "https://drive.google.com/drive/folders/1HkgMpxi6hsqLSZj9tSnuCxnFExPPjmvx notebooks\n",
    "\n",
    "https://fpbench.org/community.html toold\n",
    "https://fpanalysistools.org/\n",
    "\n",
    "\n",
    "Graded types. rounding error as a monad / computationa effect. Huh\n",
    "melquiond is nuts\n",
    "\n",
    "Hmm. For alternating series bound is easy\n",
    "\n",
    "“Accuracy and Stability of numerical algorithms higha\\ham\n",
    "ATOMU\n",
    "\n",
    "Pollard\n",
    "Verified kalman\n",
    "EKF\n",
    "1d up to to 3d.\n",
    "fpbench\n",
    "adapative\n",
    "full kalman lu\n",
    "https://proof.sandia.gov/\n",
    "Q frameowkr\n",
    "\n",
    "precisa\n",
    "calyx. fpcore. oiyutput systemverilog. function coalesiing. Make primitives for wacky regions of dataflow graph\n",
    "\n",
    "Kahan summation \n",
    "https://news.ycombinator.com/item?id=40477604  Taming floating-point sums \n",
    "https://www.philipzucker.com/stupid-is-as-stupid-does-floating-point-in-z3py/\n",
    "https://docs.oracle.com/cd/E19957-01/806-3568/ncg_goldberg.html\n",
    "https://stackoverflow.com/questions/32917672/how-to-determine-error-in-floating-point-calculations\n",
    "\n",
    "https://people.mpi-sws.org/~eva/papers/tacas18_daisy_toolpaper.pdf\n",
    "Basic flooat model\n",
    "op(x,y) = op(x,y)(1 + eps) + delta\n",
    "\n",
    "eps32 = 2^-24, delta32 = 2^-150\n",
    "eps64 = 2^-53 delta64  = 2^-1024\n",
    "\n",
    "I guess the analog for fixed point is  op(x,y) = op(x,y) + delta\n"
   ]
  },
  {
   "cell_type": "code",
   "execution_count": null,
   "metadata": {},
   "outputs": [],
   "source": [
    "x,y,z = Float(\"x y z\")\n",
    "subnormal\n",
    "normal\n",
    "\n",
    "\n",
    "lemma()"
   ]
  },
  {
   "cell_type": "code",
   "execution_count": 16,
   "metadata": {},
   "outputs": [
    {
     "name": "stdout",
     "output_type": "stream",
     "text": [
      "proved\n",
      "1.1920929e-07\n",
      "unknown\n"
     ]
    },
    {
     "ename": "AssertionError",
     "evalue": "",
     "output_type": "error",
     "traceback": [
      "\u001b[0;31m---------------------------------------------------------------------------\u001b[0m",
      "\u001b[0;31mAssertionError\u001b[0m                            Traceback (most recent call last)",
      "Cell \u001b[0;32mIn [16], line 42\u001b[0m\n\u001b[1;32m     40\u001b[0m \u001b[38;5;28;01mdef\u001b[39;00m \u001b[38;5;21mmyabs\u001b[39m(x):\n\u001b[1;32m     41\u001b[0m     \u001b[38;5;28;01mreturn\u001b[39;00m If(x \u001b[38;5;241m>\u001b[39m\u001b[38;5;241m=\u001b[39m \u001b[38;5;241m0\u001b[39m, x, \u001b[38;5;241m-\u001b[39mx)\n\u001b[0;32m---> 42\u001b[0m lemma(Implies(And(fpIsNormal(q1), q \u001b[38;5;241m>\u001b[39m \u001b[38;5;241m0\u001b[39m), (fpToReal(q1) \u001b[38;5;241m-\u001b[39m q) \u001b[38;5;241m<\u001b[39m \u001b[38;5;241m100\u001b[39m \u001b[38;5;241m*\u001b[39m eps \u001b[38;5;241m*\u001b[39m q ), tlimit\u001b[38;5;241m=\u001b[39m\u001b[38;5;241m100000\u001b[39m)\n",
      "Cell \u001b[0;32mIn [16], line 21\u001b[0m, in \u001b[0;36mlemma\u001b[0;34m(thm, by, tlimit)\u001b[0m\n\u001b[1;32m     19\u001b[0m \u001b[38;5;28;01melse\u001b[39;00m:\n\u001b[1;32m     20\u001b[0m     \u001b[38;5;28mprint\u001b[39m(res)\n\u001b[0;32m---> 21\u001b[0m     \u001b[38;5;28;01massert\u001b[39;00m \u001b[38;5;28;01mFalse\u001b[39;00m\n",
      "\u001b[0;31mAssertionError\u001b[0m: "
     ]
    }
   ],
   "source": [
    "from cvc5.pythonic import *\n",
    "import numpy as np\n",
    "def lemma(thm, by=[BoolVal(True)], tlimit=1000):\n",
    "    s = Solver()\n",
    "    # https://cvc5.github.io/docs/cvc5-1.0.2/resource-limits.html\n",
    "    # Ahhhhh. tlimit-per, not tlimit. That is very confusing\n",
    "    s.setOption(\"tlimit-per\", tlimit)\n",
    "    for hyp in by:\n",
    "        s.add(hyp)\n",
    "    s.add(Not(thm))\n",
    "    res = s.check()\n",
    "    if res == sat:\n",
    "        print(\"countermodel\", s.model())\n",
    "        return s.model()\n",
    "        assert False, \"Failed to prove\"\n",
    "    elif res == unsat:\n",
    "        print(\"proved\")\n",
    "        return thm\n",
    "    else:\n",
    "        print(res)\n",
    "        assert False\n",
    "\n",
    "x,y,z = FPs(\"x y z\", Float32())\n",
    "float16_plus_comm = lemma(ForAll([x,y], x + y == y + x))\n",
    "# fails\n",
    "#float64_plus_assoc = lemma(x + (y + z) == (x + y) + z)\n",
    "\n",
    "#lemma(x + y == fpRealToFP(RNE(), fpToReal(x) + fpToReal(y), Float32()))\n",
    "\n",
    "q = Real(\"q\")\n",
    "q1 = fpRealToFP(RNE(), q, Float32())\n",
    "eps = np.finfo(np.float32).eps\n",
    "print(eps)\n",
    "#lemma(Implies(And(fpIsNormal(q1), q >= 0), fpToReal(q1) <= q*2))\n",
    "\n",
    "q = Real(\"q\")\n",
    "q1 = fpRealToFP(RNE(), q, Float64())\n",
    "#eps = 1/2 * 2**(1-p) q\n",
    "eps = 2**(-10)\n",
    "def myabs(x):\n",
    "    return If(x >= 0, x, -x)\n",
    "lemma(Implies(And(fpIsNormal(q1), q > 0), (fpToReal(q1) - q) < 100 * eps * q ), tlimit=100000)\n"
   ]
  },
  {
   "cell_type": "code",
   "execution_count": null,
   "metadata": {},
   "outputs": [],
   "source": [
    "lemma(Implies(And(fpIsNormal(q1), q > 0), (fpToReal(q1) - q) < 100 * eps * q ), tlimit=100000)\n",
    "None"
   ]
  },
  {
   "cell_type": "code",
   "execution_count": 44,
   "metadata": {},
   "outputs": [
    {
     "data": {
      "text/plain": [
       "(340.9444274902344, 340.9444274902344)"
      ]
     },
     "execution_count": 44,
     "metadata": {},
     "output_type": "execute_result"
    }
   ],
   "source": [
    "(1.331814169883728*(2**8) -  11172067/32768) / "
   ]
  },
  {
   "cell_type": "code",
   "execution_count": 40,
   "metadata": {},
   "outputs": [
    {
     "data": {
      "text/plain": [
       "-3.973320116465344e-08"
      ]
     },
     "execution_count": 40,
     "metadata": {},
     "output_type": "execute_result"
    }
   ],
   "source": [
    "import numpy as np\n",
    "counter = 25167869/24576\n",
    "(counter - np.float32(counter)) / counter"
   ]
  },
  {
   "cell_type": "code",
   "execution_count": 58,
   "metadata": {},
   "outputs": [
    {
     "name": "stdout",
     "output_type": "stream",
     "text": [
      "proved\n",
      "proved\n",
      "proved\n"
     ]
    },
    {
     "data": {
      "text/html": [
       "&forall;x, y : fpMul(RTP(), x, y) = -fpMul(RTN(), -x, y)"
      ],
      "text/plain": [
       "ForAll([x, y], fpMul(RTP(), x, y) == -fpMul(RTN(), -x, y))"
      ]
     },
     "execution_count": 58,
     "metadata": {},
     "output_type": "execute_result"
    }
   ],
   "source": [
    "from z3 import *\n",
    "def lemma(thm, by=[]):\n",
    "    prove(Implies(And(by), thm))\n",
    "    return thm\n",
    "\n",
    "x,y,z = FPs(\"x y z\", Float16())\n",
    "#float32_plus_comm = lemma(x + y == y + x)\n",
    "#lemma(x + y == fpRealToFP(RNE(), fpToReal(x) + fpToReal(y), Float16()))\n",
    "\n",
    "#lemma(Implies(And( #fpIsNormal(x), fpIsNormal(y), \n",
    "#                  x >= 0.1, y >= 0.1, x <= 1, y <= 1), \n",
    "#                  fpToReal(x + y) <= fpToReal(x) + fpToReal(y) + 2))\n",
    "\n",
    "#plus_eps = Implies(And())\n",
    "#lemma(Implies(And(fpIsNormal(x), fpIsNormal(y), fpIsNormal(x + y)), \n",
    "#              fpToReal(x + y) <= fpToReal(x) + fpToReal(y) + 2))\n",
    "\n",
    "q = Real(\"q\")\n",
    "q1 = fpRealToFP(RNE(), q, Float16())\n",
    "#eps = np.finfo(np.float16).eps\n",
    "#lemma(Implies(And(fpIsNormal(q1), q >= 0), fpToReal(q1) <= q*(1 + RealVal(eps)/10000)))\n",
    "\n",
    "#p = Real(\"p\")\n",
    "#p1 = fpRealToFP(RNE(), p, Float16())\n",
    "#lemma(Implies(And( q1 < 1, p1 < 1), \n",
    "#              q1 + p1 < 2))\n",
    "\n",
    "# work with rounding float of reals or real of floats?\n",
    "\n",
    "#isNormal16_def = lemma(ForAll([x], fpIsNormal(x) == And(fpExp(x) != 0, fpExp(x) != 31)))\n",
    "lemma(ForAll([x], Not(And(fpIsNormal(x), fpIsSubnormal(x)))))\n",
    "#lemma(ForAll([x], And(AtMost(fpIsNormal(x), fpIsZero(x), fpIsInf(x), fpIsNaN(x), 1),\n",
    "#                      Or(fpIsNormal(x), fpIsZero(x), fpIsInf(x), fpIsNaN(x)))))\n",
    "RD = RoundTowardNegative\n",
    "RU = RoundTowardPositive\n",
    "\n",
    "lemma(ForAll([x,y], fpAdd(RU(), x,y) == -fpAdd(RD(), -x,-y,)))\n",
    "lemma(ForAll([x,y], fpMul(RU(), x,y) == -fpMul(RD(), -x,y)))\n",
    "\n"
   ]
  },
  {
   "cell_type": "code",
   "execution_count": 72,
   "metadata": {},
   "outputs": [
    {
     "name": "stdout",
     "output_type": "stream",
     "text": [
      "proved\n"
     ]
    },
    {
     "data": {
      "text/html": [
       "q &gt; 1 &and; q &lt; 2 &rArr;\n",
       "If(fp.to_real(fpToFP(RNE(), q)) - q &ge; 0,\n",
       "   fp.to_real(fpToFP(RNE(), q)) - q,\n",
       "   -(fp.to_real(fpToFP(RNE(), q)) - q)) &lt;\n",
       "If((1/1024&middot;q)/10000000 &ge; 0,\n",
       "   (1/1024&middot;q)/10000000,\n",
       "   -((1/1024&middot;q)/10000000))"
      ],
      "text/plain": [
       "Implies(And(q > 1, q < 2),\n",
       "        If(fp.to_real(fpToFP(RNE(), q)) - q >= 0,\n",
       "           fp.to_real(fpToFP(RNE(), q)) - q,\n",
       "           -(fp.to_real(fpToFP(RNE(), q)) - q)) <\n",
       "        If((1/1024*q)/10000000 >= 0,\n",
       "           (1/1024*q)/10000000,\n",
       "           -((1/1024*q)/10000000)))"
      ]
     },
     "execution_count": 72,
     "metadata": {},
     "output_type": "execute_result"
    }
   ],
   "source": [
    "q = Real(\"q\")\n",
    "q1 = fpRealToFP(RNE(), q, Float16())\n",
    "#eps = 1/2 * 2**(1-p) q\n",
    "eps = 2**(-10)\n",
    "def myabs(x):\n",
    "    return If(x >= 0, x, -x)\n",
    "lemma(Implies(And(q > 1, q < 2), myabs(fpToReal(q1) - q) < myabs(eps * q / 10000000)))"
   ]
  },
  {
   "cell_type": "code",
   "execution_count": 26,
   "metadata": {},
   "outputs": [
    {
     "name": "stdout",
     "output_type": "stream",
     "text": [
      "failed to solve\n"
     ]
    }
   ],
   "source": []
  },
  {
   "cell_type": "code",
   "execution_count": 61,
   "metadata": {},
   "outputs": [
    {
     "data": {
      "text/plain": [
       "0.000977"
      ]
     },
     "execution_count": 61,
     "metadata": {},
     "output_type": "execute_result"
    }
   ],
   "source": [
    "eps"
   ]
  },
  {
   "cell_type": "code",
   "execution_count": 17,
   "metadata": {},
   "outputs": [
    {
     "data": {
      "text/plain": [
       "0.0009765625"
      ]
     },
     "execution_count": 17,
     "metadata": {},
     "output_type": "execute_result"
    }
   ],
   "source": [
    "2**(-10)"
   ]
  },
  {
   "cell_type": "markdown",
   "metadata": {},
   "source": [
    "arb, gmp, numpy for bruteforce confirmation of core facts\n",
    "\n"
   ]
  },
  {
   "cell_type": "code",
   "execution_count": 34,
   "metadata": {},
   "outputs": [
    {
     "name": "stdout",
     "output_type": "stream",
     "text": [
      "nan: 2046\n",
      "inf: 2\n",
      "neginf: 1\n",
      "posinf: 1\n",
      "finite: 63488\n",
      "negative 31744\n",
      "index of zeros (array([    0, 32768]),)\n",
      "largest subnormal 6.1e-05 b'\\xff\\x03'\n",
      "smallest pos normal 6.104e-05 b'\\x00\\x04'\n"
     ]
    }
   ],
   "source": [
    "import numpy as np\n",
    "float16 = np.frombuffer(np.arange(2**16, dtype=np.uint16).tobytes(), dtype=np.float16)\n",
    "\n",
    "float16[10000:10010]\n",
    "# https://en.wikipedia.org/wiki/Half-precision_floating-point_format\n",
    "print(\"nan:\", np.count_nonzero(np.isnan(float16)))\n",
    "print(\"inf:\", np.count_nonzero(np.isinf(float16)))\n",
    "print(\"neginf:\", np.count_nonzero(np.isneginf(float16)))\n",
    "print(\"posinf:\", np.count_nonzero(np.isposinf(float16)))\n",
    "print(\"finite:\", np.count_nonzero(np.isfinite(float16)))\n",
    "print(\"negative\", np.count_nonzero(float16 < 0))\n",
    "print(\"index of zeros\", np.where(float16 == 0))\n",
    "print(\"largest subnormal\", float16[0x3ff], float16[0x3ff].tobytes())\n",
    "print(\"smallest pos normal\", float16[0x400], float16[0x400].tobytes())"
   ]
  },
  {
   "cell_type": "markdown",
   "metadata": {},
   "source": [
    "\n",
    "```racket\n",
    ";re\n",
    "\n",
    "; https://en.wikipedia.org/wiki/Machine_epsilon\n",
    "(define-const eps32 Real (^ 2 -23))\n",
    "\n",
    "\n",
    "\n",
    "; given eps > 0, abs-bound encodes |x| <= eps as conjunction of linear constraints\n",
    "(define-fun abs-bound ((x Real) (eps Real)) Bool\n",
    "    (and\n",
    "        (<= x eps)\n",
    "        (<= (- eps) x )\n",
    "))\n",
    "\n",
    "(declare-fun rnd-fun (Real) Real)\n",
    "\n",
    "; Describing operations relationally is nice because you can instantiate properties at use site.\n",
    "; We describe an overapproximation of the rounding operation\n",
    "(define-fun rnd ((x Real) (res Real)) Bool\n",
    "        (and (= res (rnd-fun x)) ; it is a functional relationship\n",
    "            (abs-bound (- x res) (* eps32 (abs x))) ; with |x - rnd(x)| <= eps32 * |x|\n",
    "        )\n",
    ")\n",
    "\n",
    "; floating point add is Real add then round.\n",
    "(define-fun fp-add ((x Real) (y Real) (res Real)) Bool\n",
    "    (rnd (+ x y) res)\n",
    ")\n",
    "\n",
    "(define-fun fp-mul ((x Real) (y Real) (res Real)) Bool\n",
    "    (rnd (* x y) res)\n",
    ")\n",
    "\n",
    "; box is useful shorthand for stating initial conditions\n",
    "(define-fun box ((x Real) (lower Real) (upper Real)) Bool\n",
    "    (and (<= lower x)\n",
    "         (<= x upper)\n",
    "    )\n",
    ")\n",
    "\n",
    "(declare-const x Real)\n",
    "(assert (box x 1 2))\n",
    "(declare-const y Real)\n",
    "(assert (box y 1 2))\n",
    "(declare-const y Real)\n",
    "(assert (box z 1 2))\n",
    "\n",
    "(declare-const xy Real)\n",
    "(assert (fp-add x y xy))\n",
    "(declare-const xyy Real)\n",
    "(assert (fp-add xy y xyy))\n",
    "\n",
    "(declare-const xyz Real)\n",
    "(assert (fp-mul xy z xyz))\n",
    "(check-sat)\n",
    "(get-model)\n",
    "(eval (abs -1))\n",
    "\n",
    "(push)\n",
    "(assert-not (<= (- xyy (+ x y y)) 0.0001))\n",
    "(check-sat)\n",
    "(pop)\n",
    "\n",
    "(push)\n",
    "(assert-not (>= (- xyy (+ x y y)) -0.00001))\n",
    "(check-sat)\n",
    "(pop)\n",
    "\n",
    "(push)\n",
    "(assert-not (>= (- xyy (+ x y y)) -0.001))\n",
    "(check-sat)\n",
    "(pop)\n",
    "\n",
    ";(get-model)\n",
    ";(eval (- xyy (+ x y y)))\n",
    "\n",
    "\n",
    "(define-fun myprog ((x Real) (y Real) (res Real)) Bool\n",
    "    (exists ; define local variables\n",
    "        ((xy Real) (fp73 Real))\n",
    "     (and ; res := 7/3 * (x + y)\n",
    "        (fp-add x y  xy)\n",
    "        (rnd (/ 7 3) fp73)\n",
    "        (fp-mul fp73 xy res)\n",
    "     )\n",
    "\n",
    "    )\n",
    ")\n",
    "\n",
    "(define-fun myprog-pre ((x Real) (y Real)) Bool\n",
    "\n",
    ")\n",
    "\n",
    "(define-fun myprog-post ((x Real) (y Real) (res Real))\n",
    "    \n",
    ")\n",
    "\n",
    "(assert-not (forall ((x Real) (y Real) (res Real))\n",
    "            (=> (myprog-pre x y)\n",
    "                (and (myprog x y res) (myprog-post x y res))\n",
    "            )\n",
    "))\n",
    "```\n",
    "\n",
    "```racket\n",
    ";re\n",
    "\n",
    "(define-fun is-normal ((x Real)) Bool\n",
    "    (or (and\n",
    "            (< x (^ 2 300))\n",
    "            (< (^ 2 -300) x)\n",
    "         )\n",
    "        (and\n",
    "            (< (- x) (^ 2 300))\n",
    "            (< (^ 2 -300) (- x))\n",
    "        )\n",
    "    )\n",
    ")\n",
    "\n",
    "(define-fun ulp ((x Real)) Real\n",
    "   \n",
    ")\n",
    "\n",
    "(declare-fun rnd (Real) Real)\n",
    "\n",
    "(assert (forall ((x Real)) \n",
    "    (=> (is-normal x)\n",
    "         yada\n",
    "    ) \n",
    "\n",
    "    (and (< (- (rnd x) x) (ulp x))\n",
    "            (< (- (ulp x)) (- (rnd x) x) (ulp x))\n",
    "))\n",
    "\n",
    "\n",
    "(assert (forall ((x Real))\n",
    "    (=>\n",
    "        (and (< 1 x)\n",
    "             (< x 2))\n",
    "        (=  ulp(x))\n",
    "    )\n",
    ")\n",
    "\n",
    "\n",
    "(define-fun-rec ulp ((x Real)) Real\n",
    "    (ite (and (< x 1) (< x 2)))\n",
    "         1\n",
    "    (ite (x < 1)\n",
    "        (/ (ulp (* x 2) 2)\n",
    "    (ite (x > 2)\n",
    "        (* 2 (ulp (/ x 2))\n",
    "    )\n",
    ")\n",
    "\n",
    ";(define-fun fp-mul ((x Real) (y Real))\n",
    ";    (rnd (* x y)))\n",
    "\n",
    "\n",
    "; better as a relation?\n",
    "; relations allow us to bundle in the lemmas we want\n",
    "; without resorting to forall\n",
    "\n",
    "; recipe: take a forall axiom, turn it into a define-fun\n",
    "; This is kind of taking a forall and making it an axiom schema.\n",
    "; You can still add the forall using (assert (forall ((x )) (my-pred x))\n",
    "; but it gives the ability to explicitly instantiate\n",
    "\n",
    "(define-fun rnd-ulp ((x Real)) Bool\n",
    "    (and (< (- (rnd x) x) (ulp x))\n",
    "        (< (- (ulp x)) (- (rnd x) x) (ulp x))\n",
    ")\n",
    "\n",
    "\n",
    "\n",
    "\n",
    "(define-fun rnd ((x Real) (res Real))\n",
    "    (and \n",
    "        (= res (rnd-fun x))\n",
    "        (rnd-ulp x)\n",
    "    )\n",
    ")\n",
    "\n",
    "\n",
    "; that these are functions is almost a side feature\n",
    "; Sometimes the functional nature is useful to the proof.\n",
    "; probably not that often though\n",
    "\n",
    "(define-fun ulp ((x Real) (y Real))\n",
    "    (and\n",
    "        (= y (ulp-fun x)))\n",
    ")\n",
    "\n",
    "(define-fun ulp-def ((x Real)) Bool\n",
    "\n",
    ")\n",
    "\n",
    "(define-fun fp-mul ((x Real) (y Real) (z Real))\n",
    "    (let ((z1 (* x y)))\n",
    "    (and \n",
    "        (= z z1)\n",
    "        (rnd-ulp z1)\n",
    "        (ulp-rel z1)\n",
    "\n",
    "    )\n",
    "\n",
    "(define-fun fp-sub ((x Real) (y Real) (res Real)) \n",
    "    (and\n",
    "        ...\n",
    "        (sterbenz x y)\n",
    "    )\n",
    "\n",
    ")\n",
    "\n",
    "```\n",
    "\n",
    "```racket\n",
    "(define-sort Var () String)\n",
    "(define-sort Env () (Array Var Int))\n",
    "(declare-datatypes ()(\n",
    "  (Term\n",
    "    (Var (var1 Var))\n",
    "    (Lit (lit1 Real))\n",
    "    (Add (add1 Term) (add2 Term))\n",
    "    (Mul (add1 Term) (add2 Term))\n",
    "    (Sub (sub1 Term) (sub2 Term))\n",
    "    ; And so on\n",
    "  )\n",
    "))\n",
    "\n",
    "(define-fun-rec interp ((e Expr) (rho Env)) Bool\n",
    "    (match e (\n",
    "        ((Lit x) x)\n",
    "        ((Var x) (select rho x))\n",
    "        ((Add x y) (+ (interp x rho) (interp y rho))\n",
    "\n",
    "    )\n",
    "    \n",
    "    )\n",
    "\n",
    ")\n",
    "\n",
    "; outer exists (exists ((rho Env))) is the same as (exists a b c d)\n",
    "; So we don't get blocked going under an exists.\n",
    "\n",
    "```\n",
    "\n",
    "```python\n",
    "from z3 import *\n",
    "rnd = Function(\"rnd\", RealSort(), RealSort)\n",
    "class MyFloat():\n",
    "    def __init__(self):\n",
    "        self.x = rnd(FreshReal())\n",
    "    def __add__(self,rhs):\n",
    "        return rnd(self.x * rhs.x)\n",
    "\n",
    "```"
   ]
  },
  {
   "cell_type": "markdown",
   "metadata": {},
   "source": [
    "Klaus Weihrauch (2000), Computable Analysis."
   ]
  },
  {
   "cell_type": "markdown",
   "metadata": {},
   "source": [
    "# COnstructive Real\n"
   ]
  },
  {
   "cell_type": "code",
   "execution_count": null,
   "metadata": {},
   "outputs": [],
   "source": [
    "# Constructive Real\n",
    "\n",
    "# Z3 reals are more like algebraic numbers, not reals.\n",
    "CReal = ArraySort(Nat, RealSort())\n",
    "eq = Function(\"eq\", CReal, CReal, BoolSort())\n",
    "ax_eq = trust(ForAll([x,y], eq(x,y) == (ForAll([n], x[n] - y[n] < 1/n))"
   ]
  },
  {
   "cell_type": "markdown",
   "metadata": {},
   "source": [
    "# Extended Reals\n",
    "newtype wrapper around Real might be better than the shadow versions. Then I don't have to delete + on the reals.\n",
    "\n",
    "Could also give myself the extneded reals while I'm at it?\n",
    "\n",
    "https://en.wikipedia.org/wiki/Extended_real_number_line\n",
    "https://en.wikipedia.org/wiki/Projectively_extended_real_line\n",
    "Real = Datatype(\"Real\")\n",
    "\"Nan\"\n",
    "\"+Inf\"\n",
    "\"-Inf\"\n",
    "Bounded(R)\n",
    "\n",
    "Maybe \n",
    "0+ \n",
    "0-\n",
    "Could also be interesting. Replictae the special behavior of float.\n",
    "Plus(Real)\n",
    "Minus(Real) \n"
   ]
  },
  {
   "cell_type": "code",
   "execution_count": null,
   "metadata": {},
   "outputs": [],
   "source": [
    "#R = Datatype(\"R\")\n",
    "#R.declare(\"wrap\", (\"real\", RealSort()))\n",
    "#R = R.create()\n",
    "\n",
    "EReal = Datatype(\"EReal\")\n",
    "EReal.declare(\"real\", (\"val\", RealSort()))\n",
    "EReal.declare(\"inf\")\n",
    "EReal.declare(\"neg_inf\")\n",
    "EReal.declare(\"NaN\")\n",
    "EReal = EReal.create()\n",
    "\n",
    "undefined = Function(\"add_undefined\", EReal, EReal, EReal)\n",
    "kd.notation.add.define([x,y], cond(\n",
    "    (Or(x.is_NaN, y.is_NaN), EReal.NaN), # propagate NaN\n",
    "    (And(x.is_real, y.is_real),       EReal.mk(x.val + y.val)),\n",
    "    (And(x.is_inf, Not(y.is_neg_inf)),         EReal.inf),\n",
    "    (And(x.is_neg_inf, Not(y.is_inf)),         EReal.neg_inf),\n",
    "    (And(x.is_neg_inf, y.is_neg_inf), EReal.neg_inf))),\n",
    "    default = EReal.NaN)\n",
    "\n",
    "kd.notation.sub.define([x,y], add_undefined(x, neg(y)))\n",
    "kd.notation.mul.define([x,y], add_undefined(x, y))\n",
    "\n",
    "#kd.le.\n",
    "\n",
    "kleene_eq = kd.define([x,y], Implies(Not(x.is_NaN), Not(y.is_NaN)))\n",
    "\n",
    "raw_eq = EReal.__eq__\n",
    "kd.notation.eq.register(EReal, kleene_eq)\n",
    "\n",
    "# algerbaic stuff becomes partial. What is inf + neg_inf?\n"
   ]
  },
  {
   "cell_type": "markdown",
   "metadata": {},
   "source": [
    "# Smooth Infinitesimal analysis\n",
    "https://www.cambridge.org/core/books/primer-of-infinitesimal-analysis/B0EF33F73CAF97C180897D2FD0AD1B6E\n",
    "\n",
    "https://publish.uwo.ca/~jbell/invitation%20to%20SIA.pdf\n",
    "\n",
    "https://dl.acm.org/doi/10.5555/1983702.1983729 bjorner modellign uitiotinstic inside smt\n",
    "\n",
    "https://gitlab.inria.fr/fbesson/itauto itauto\n",
    "\n",
    "https://drops.dagstuhl.de/entities/document/10.4230/LIPIcs.ITP.2021.9"
   ]
  },
  {
   "cell_type": "markdown",
   "metadata": {},
   "source": [
    "# Autodiff\n",
    "pair \n",
    "Dual(f,f').wf = f(x) ~ f(a) + f'(a)*(x - a)\n",
    "Question is, what is `~`?\n",
    "Global bounds are really nice.\n",
    "local bounds are ok.\n",
    "I can make a \n",
    "rationals can diverge, but then the divergence is kind of...\n",
    "Extended reals?\n",
    "\n",
    "\n",
    "\n",
    "epsilon **2 = 0\n",
    "Autodiff is coefficients of 1 and epsilon.\n",
    "\n",
    "\n",
    "\n"
   ]
  },
  {
   "cell_type": "code",
   "execution_count": null,
   "metadata": {},
   "outputs": [],
   "source": [
    "class DualFun:\n",
    "    pass"
   ]
  },
  {
   "cell_type": "markdown",
   "metadata": {},
   "source": [
    "# Function Records\n",
    "\n",
    "https://stackoverflow.com/questions/55881078/how-to-know-whether-a-function-is-continuous-with-sympy\n",
    "https://docs.sympy.org/latest/modules/calculus/index.html#sympy.calculus.util.continuous_domain\n",
    "https://docs.sympy.org/latest/modules/calculus/index.html#sympy.calculus.util.minimum\n",
    "\n",
    "fungrim\n",
    "\n",
    "continuous_domain\n",
    "singularities\n",
    "\n",
    "can I get sympy to give me a rigorous upper bound. If differentiable, do it. Then solve for error term. Maximum on domain\n",
    "I should be using stuff from elsewhere. That's the idea of knuckeldragger. I _have_ to be using the poython ecosystem\n",
    "\n",
    "\n",
    "\n",
    "\n",
    "There's a lot of data assoiated with real functions. Maybe I need a meta record system to manage it all.\n",
    "\n",
    "\n",
    "\n",
    "Maybe have everything optional"
   ]
  },
  {
   "cell_type": "code",
   "execution_count": null,
   "metadata": {},
   "outputs": [],
   "source": [
    "@dataclass\n",
    "class RFun():\n",
    "    f: R >> R\n",
    "    dom: SetSort(RealSort())\n",
    "    codom: SetSort(RealSort())\n",
    "    lipshitz : RealSort()\n",
    "    lip_pf : kd.Proof\n",
    "    modulus_cont : RealSort() >> RealSort()\n",
    "    modulus_cont_pf : kd.Proof\n",
    "    deriv : R >> R\n",
    "    deriv_pf : kd.Proof\n",
    "    flint_fun :\n",
    "    eval_method :\n",
    "    inv : RFun\n",
    "    float_fun : \n",
    "    \n",
    "\n",
    "    def comp():\n",
    "        pass\n",
    "    def add():\n",
    "        pass\n",
    "\n",
    "\n",
    "\n"
   ]
  },
  {
   "cell_type": "markdown",
   "metadata": {},
   "source": [
    "# Topology\n",
    "\n",
    "Kuratoswki axioms\n",
    "\n",
    "TPTP had some"
   ]
  },
  {
   "cell_type": "code",
   "execution_count": null,
   "metadata": {},
   "outputs": [],
   "source": [
    "import knuckledragger as kd\n",
    "RSet = Set(kd.R)\n",
    "cl = Function(\"closure\", RSet, RSet)\n",
    "cls_idem = kd.axiom(ForAll([S], cls(cls(S) == cls(S))))\n",
    "cls_union = kd.axiom(ForAll([S,T], cls(S) + cls(T) == cls(S + T)))\n",
    "cls_inter = kd.axiom()\n",
    "clos_mono = kd.axiom(ForAll([S,T], Implies(S <= T, cls(S) <= cls(T))))\n",
    "\n",
    "compl = kd.define(\"compl\", [S], Lambda([x], Not(S[x])))\n",
    "\n",
    "half_space = kd.define(\"half_space\", [], Lambda([x], x < 0))\n",
    "trans = kd.define(\"trans\", [x], Lambda([y], S[y - x]))\n",
    "\n",
    "\n",
    "\n",
    "close_open = kd.axiom(ForAll([S], cls(S) == cls(S - S)))\n",
    "interior = Function(\"interior\", RSet, RSet)\n",
    "\n",
    "\n",
    "\n",
    "\n"
   ]
  },
  {
   "cell_type": "markdown",
   "metadata": {},
   "source": [
    "# Convex\n"
   ]
  },
  {
   "cell_type": "markdown",
   "metadata": {},
   "source": [
    "# Hyperreal\n",
    "\n",
    "Supposedly, hyperreals are easier to prove stuff in.\n",
    "\n",
    "The chasing phenomeonon. I am tracking many terms being produced. I could in principle track them all. What if i defined eps and then I can back update it to maiontain constraint. Then program time ~ hyperreal sequence time. Actual reals are constant in time. Other stuff is changing. Hmm. That's fun. Maybe keep calling Z3 To reestablish values. And can keep record. It's not netirely unlike Marshal, except I don't require things to be converging and I keep everyone synced.\n",
    "\n",
    "\n",
    "Dense linear orfder https://math.stackexchange.com/questions/417900/complete-theories-dense-linear-order https://en.wikipedia.org/wiki/Back-and-forth_method\n",
    "Big-M and epsilons\n",
    "\n",
    "Wow, this is going to be a truly ungodly schema"
   ]
  },
  {
   "cell_type": "markdown",
   "metadata": {},
   "source": [
    "Cofinite. Ultrafilters.\n",
    "CVC5 has a theory of finite sets. There is a global universe of finite sets, which could be sequence. And then every finset has to be only made of elements in that.\n",
    "Hmm. That is a bit sticky sounding. This assume we only have finitely many finite sets to talk about.\n",
    "\n",
    "\n",
    "\n"
   ]
  },
  {
   "cell_type": "code",
   "execution_count": 1,
   "metadata": {},
   "outputs": [
    {
     "data": {
      "text/html": [
       "&#8870;ForAll([Y, X], =(plus(X, Y), plus(Y, X)))"
      ],
      "text/plain": [
       "|- ForAll([Y, X], =(plus(X, Y), plus(Y, X)))"
      ]
     },
     "execution_count": 1,
     "metadata": {},
     "output_type": "execute_result"
    }
   ],
   "source": [
    "from z3 import *\n",
    "import knuckledragger as kd\n",
    "from knuckledragger import *\n",
    "from knuckledragger.kernel import Proof, is_proof,axiom\n",
    "from knuckledragger.utils import open_binder\n",
    "\n",
    "HReal = DeclareSort(\"HReal\")\n",
    "\n",
    "class TransferException(Exception):\n",
    "    pass\n",
    "\n",
    "def transfer_sort(s : z3.SortRef):\n",
    "    if s == RealSort():\n",
    "        return HReal\n",
    "    elif s == BoolSort():\n",
    "        return BoolSort()\n",
    "    # check for arrays? compound sorts?\n",
    "    else:\n",
    "        raise TransferException(\"Unexpected Sort\", s)\n",
    "\n",
    "def transfer_term(t : z3.ExprRef) -> z3.ExprRef:\n",
    "    assert t.sort() == RealSort() or t.sort() == BoolSort()\n",
    "    if is_eq(t):\n",
    "    if is_app(t):\n",
    "        decl = t.decl()\n",
    "        f = Function(decl.name(), *[transfer_sort(decl.domain(i)) for i in range(decl.arity())], transfer_sort(decl.range()))\n",
    "        return f(*[transfer_term(t.arg(i)) for i in range(t.num_args())])\n",
    "    elif is_quantifier(t) and t.is_forall():\n",
    "        vs, body = open_binder(t)\n",
    "        return ForAll([transfer_term(v) for v in vs], transfer_term(body))\n",
    "    else:\n",
    "        raise TransferException(\"Unexpected Term\", t)\n",
    "\n",
    "def transfer_to_hreal(P : Proof) -> Proof:\n",
    "    assert is_proof(P)\n",
    "    return axiom(transfer_term(P.thm), by=[\"transfer\", P])\n",
    "\n",
    "import knuckledragger.theories.Real as Real\n",
    "transfer_to_hreal(Real.plus_comm)\n",
    "\n",
    "std = Function(\"std\", HReal, BoolSort())\n",
    "approx = Function(\"approx\", HReal, HReal, BoolSort())\n",
    "\n",
    "inf = Function(\"inf\", HReal, BoolSort())\n",
    "\n",
    "\n",
    "\n",
    "x,y = Consts(\"x y\", HReal)\n",
    "f = Const(\"f\", ArraySort(HReal, HReal))\n",
    "cont = define(\"cont\", [f], QForAll([x,y], approx(x,y), approx(f(x), f(y))))\n",
    "\n"
   ]
  },
  {
   "cell_type": "code",
   "execution_count": null,
   "metadata": {},
   "outputs": [],
   "source": [
    "# constructive approach\n",
    "# hypereals are quotient of Rsequences.\n",
    "RSeq\n",
    "\n",
    "# proof relevant cofinite equal. List holds all positions (finite because list ) that the two elements aren't equal\n",
    "eq = Function(\"eq\", RSeq, RSeq, NatList, BoolSort())\n",
    "eq_def = ForAll([x,y, n], eq(x,y,n) == ForAll([m], Implies(Not(elem(m,n)), x[m] == y[m])))\n",
    "\n",
    "\n",
    "# proof relevant finset predicate\n",
    "finset(s,l) = ForAll([x], s[x] == elem(x,l))\n",
    "# Exists([l], finset(s,l))\n",
    "\n",
    "# skolem axiom\n",
    "# finset(s) == finsetP(s, canon(s))\n"
   ]
  },
  {
   "cell_type": "markdown",
   "metadata": {},
   "source": [
    "https://en.wikipedia.org/wiki/Hyperreal_number\n",
    "\n",
    "Goldblatt\n",
    "\n",
    "Compactness is important here? Huh.\n",
    "\n",
    "Adding\n",
    "\n",
    "Trying to make infinitesimals rigorous\n",
    "\n",
    "Rings can have things like eps^2 = 0 by taking quotient rings.\n",
    "Something with R as a subfield.\n",
    "\n",
    "Constructing a model of hyperreals. Infinite sequences of reals. Quotient by equivlanec e relation of agreeing on cofinite set.\n",
    "\n",
    "A finite list of disagreement points\n",
    "\n",
    "```\n",
    "equiv(a,b,l) = forall n, a[n] = b[n] | n in l \n",
    "```\n",
    "\n",
    "More equational than classical presentation?\n",
    "\n",
    "R is unique complete ordered field. So R*\n",
    "\n",
    "Transfer principle\n",
    "\n",
    "Ultrafilter.\n",
    "What is a \"large\" set?\n",
    "\n",
    "Ultrafilter as a notion of truth. Relation to topos? Modal logic? Intuitionstic logic?\n",
    "\n",
    "Ultrapower.\n",
    "\n",
    "Internal set theory\n",
    "\n",
    "Adding a \"standard\" predicate to set theory. There is a notion of standard elements vs nonstandard elements.\n",
    "This has a connection to standard models of constructions like the reals or naturals, which by the weakness of power of description of first order logic, the axims often allow other models besides the standard one.\n",
    "\n",
    "This has some flavor of the method of \"junk\" elements used to model partial functions using total functions as I've played around with in category theory.\n",
    "\n",
    "Nonstandard elements are hard to grasp because whenever you get concrete hold f somthing, it tends (is always?) standard.\n",
    "\n",
    "I think I've seen it mentioned that maybe \"standard\" is somehow talking about a fluid boundary of described or construct elements. If I keep around an eps smaller than any number I've considered so far, and maybe go back and fix it up as I go should I ever bring in anything smaller? I do kind of feel like an approximate equality of finite difference is sufficient\n",
    "\n",
    "Nonstandard models of peano <https://en.wikipedia.org/wiki/Non-standard_model_of_arithmetic>\n",
    "We can keep adding x > n for any n to the axiom set and stay consistent. The forall n is in the metalogic. By compactness, we can add the forall n into the object logic and stay consistet?\n",
    "\n",
    "Hypernaturals - a construction of the hypernatural is sequences of naturals identified under a ultrafilter (a \"large set\"). It's weird that allowing just a little disagreement helps\n",
    "\n",
    "HyperRationals\n",
    "\n",
    "Naive Infinitesimals\n",
    "The reals are a subfield of the hyperreals.\n",
    "There exist infinittesimals which are smaller than\n",
    "\n",
    "The \"standard\" function behaves like a kind of rounding.\n",
    "\n",
    "Distincting between equality and approximation equality.\n",
    "a ~ b == st(a) = st(b)\n",
    "\n",
    "st pushes through regular operations (+, -, ...). So it is a homomorphsim of sorts.\n",
    "st(eps) = 0\n",
    "\n",
    "lim = x ~ c /\\ x != c -> lim(t(x)) = t(c)\n",
    "continuity is x ~ y -> f(x) ~ f(y)"
   ]
  },
  {
   "cell_type": "code",
   "execution_count": 9,
   "metadata": {},
   "outputs": [
    {
     "name": "stdout",
     "output_type": "stream",
     "text": [
      "proved\n"
     ]
    }
   ],
   "source": [
    "from z3 import *\n",
    "x,y = Ints(\"x y\")\n",
    "prove(Implies(And(x >= 0, y >= 0, x < 2**32, y < 2**32), x*y < 2**64))"
   ]
  },
  {
   "cell_type": "markdown",
   "metadata": {},
   "source": [
    "-- cody's proof\n",
    "\n",
    "Require Import Arith.\n",
    "\n",
    "Require Import Lia.\n",
    "\n",
    "Check 2^64.\n",
    "\n",
    "Search (_^(_ * _)).\n",
    "Search (_^(_ + _)).\n",
    "\n",
    "Search (_ * _ < _ * _).\n",
    "\n",
    "Goal forall a b, a < 2^32 -> b < 2^32 -> a * b < 2^64.\n",
    "Proof.\n",
    "  intros a b lt_a lt_b.\n",
    "  replace (64) with (32 + 32) by reflexivity.\n",
    "  rewrite Nat.pow_add_r.\n",
    "  apply Nat.mul_lt_mono_nonneg; lia.\n",
    "Qed."
   ]
  },
  {
   "cell_type": "code",
   "execution_count": 4,
   "metadata": {},
   "outputs": [
    {
     "name": "stdout",
     "output_type": "stream",
     "text": [
      "WARNING: Unneeded assumptions. Used [knuckledragger_goal]\n"
     ]
    },
    {
     "data": {
      "text/html": [
       "&#8870;(a*b < 18446744073709551616) == (a*b < 18446744073709551616)"
      ],
      "text/plain": [
       "|- (a*b < 18446744073709551616) == (a*b < 18446744073709551616)"
      ]
     },
     "execution_count": 4,
     "metadata": {},
     "output_type": "execute_result"
    }
   ],
   "source": [
    "import knuckledragger as kd\n",
    "from knuckledragger.kernel import *\n",
    "from z3 import *\n",
    "Z = IntSort()\n",
    "x,y = Ints(\"x y\")\n",
    "add = define(\"add\", [x,y], x + y) # hide to avoid cheating\n",
    "mul = define(\"mul\", [x,y], x * y)\n",
    "\n",
    "\n",
    "a,b = Ints(\"a b\")\n",
    "from knuckledragger.utils import calc\n",
    "\n",
    "#mul_mono = lemma(ForAll([a,b]))\n",
    "\n",
    "calc(a * b < 2**64,\n",
    "     a * b < 2**(32 + 32),\n",
    "     a * b < 2**32 * 2**32)"
   ]
  },
  {
   "cell_type": "code",
   "execution_count": null,
   "metadata": {},
   "outputs": [],
   "source": []
  },
  {
   "cell_type": "code",
   "execution_count": 8,
   "metadata": {},
   "outputs": [
    {
     "data": {
      "text/plain": [
       "False"
      ]
     },
     "execution_count": 8,
     "metadata": {},
     "output_type": "execute_result"
    }
   ],
   "source": [
    "\n"
   ]
  },
  {
   "cell_type": "markdown",
   "metadata": {},
   "source": [
    "# Complex\n",
    "Angles are a calculus notion?\n",
    "\n",
    "\n",
    "Maybe the angle addition formula is sufficient.\n",
    "z1 z1 = r1 r2 cis(theta1 + theta2)\n",
    "\n",
    "z1 z1_bar = r^2\n",
    "\n",
    "\n",
    "https://en.wikipedia.org/wiki/CORDIC\n",
    "\n",
    "Complex analysis should be more than gluing two real analyses together.\n",
    "\n"
   ]
  },
  {
   "cell_type": "code",
   "execution_count": 1,
   "metadata": {},
   "outputs": [],
   "source": [
    "import knuckledragger as kd\n",
    "from z3 import *\n",
    "C = Datatype(\"C\")\n",
    "C.declare(\"mk\", (\"re\", RealSort()), (\"im\", RealSort()))\n",
    "C = C.create()\n",
    "#DatatypeRef.im = property(lambda self: C.im(self))\n",
    "#DatatypeRef.re = property(lambda self: C.re(self))\n",
    "\n",
    "z,w,u,z1,z2 = Consts(\"z w u z1 z2\", C)\n",
    "add = kd.define(\"add\", [z1,z2], C.mk(z1.re + z2.re, z1.im + z2.im))\n",
    "kd.notation.add.register(C, add)\n",
    "mul = kd.define(\"mul\", [z1,z2], C.mk(z1.re*z2.re - z1.im*z2.im, z1.re*z2.im + z1.im*z2.re))\n",
    "kd.notation.mul.register(C, mul)\n",
    "conj = kd.define(\"conj\", [z], C.mk(z.re, -z.im))\n",
    "\n",
    "\n",
    "div = kd.define(\"div\", [z1,z2], C.mk((z1.re*z2.re + z1.im*z2.im)/(z2.re**2 + z2.im**2), (z1.im*z2.re - z1.re*z2.im)/(z2.re**2 + z2.im**2)))\n",
    "kd.notation.div.register(C, div)\n",
    "\n",
    "C0 = C.mk(0,0)\n",
    "C1 = C.mk(1,0)\n",
    "\n",
    "add_zero = kd.lemma(ForAll([z], z + C0 == z), by=[add.defn])\n",
    "mul_zero = kd.lemma(ForAll([z], z * C0 == C0), by=[mul.defn])\n",
    "mul_one = kd.lemma(ForAll([z], z * C1 == z), by=[mul.defn])\n",
    "add_comm = kd.lemma(ForAll([z,w], z + w == w + z), by=[add.defn])\n",
    "add_assoc = kd.lemma(ForAll([z,w,u], (z + (w + u)) == ((z + w) + u)), by=[add.defn])\n",
    "mul_comm = kd.lemma(ForAll([z,w], z * w == w * z), by=[mul.defn])\n",
    "\n",
    "\n",
    "#unstable perfoamnce.\n",
    "#mul_div = kd.lemma(ForAll([z,w], Implies(w != C0, z == z * w / w)), by=[div.defn, mul.defn], timeout=1000)\n",
    "##mul_div = Calc()\n",
    "div_one = kd.lemma(ForAll([z], z / C1 == z), by=[div.defn])\n",
    "div_inv = kd.lemma(ForAll([z], Implies(z != C0, z / z == C1)), by=[div.defn])\n",
    "\n",
    "#inv = kd.define(\"inv\", [z], )\n",
    "\n",
    "# conjugate\n",
    "# polar\n",
    "norm2 = kd.define(\"norm2\", [z], z * conj(z))\n",
    "\n",
    "#kd.lemma(ForAll([z,w], div(z,w) == div(z*conj(w), norm2(w))), by=[div.defn, mul.defn, conj.defn, norm2.defn])\n",
    "\n",
    "# fundamental theorem... hmm. Z3 does understand real solutions to polys\n",
    "# https://en.wikipedia.org/wiki/Fundamental_theorem_of_algebra"
   ]
  },
  {
   "cell_type": "code",
   "execution_count": null,
   "metadata": {},
   "outputs": [],
   "source": [
    "lim = Function(\"lim\", ArraySort(C,C), C)\n",
    "CFun = ArraySort(C,C)\n",
    "limit00 = kd.define(\"limit0\", [f, eps], [delta], ForAll([x], Implies(x <= delta, f(delta) <= eps)))\n"
   ]
  },
  {
   "cell_type": "code",
   "execution_count": null,
   "metadata": {},
   "outputs": [],
   "source": [
    "nitpick.register(C, [C0, C1, C.mk(1,1), C.mk(0,1), C.mk(23,8, 100.4), C.mk(-1,0), C.mk(0,0)])\n",
    "\n",
    "nitpick\n"
   ]
  },
  {
   "cell_type": "markdown",
   "metadata": {},
   "source": [
    "# Interval\n",
    "\n",
    "\n",
    " \n",
    "- <https://www.philipzucker.com/z3_diff/>\n",
    "- <https://www.philipzucker.com/z3-cegar-interval/>\n",
    "- https://www.philipzucker.com/more-stupid-z3py-tricks-simple-proofs/\n",
    "\n",
    "\n",
    "- Computational Functional Analysis by Moore <https://www.amazon.com/Computational-Functional-Analysis-Mathematics-Applications/dp/1904275249>\n",
    "- Introduction to Interval Analysis  <https://epubs.siam.org/doi/10.1137/1.9780898717716> http://www-sbras.nsc.ru/interval/Library/InteBooks/IntroIntervAn.pdf\n",
    "- methods and applications of inverval analysis <https://epubs.siam.org/doi/book/10.1137/1.9781611970906>\n",
    "- Interval Analysis: Application in the Optimal Control Problems\n",
    "- Real Analysis: A Constructive Approach Through Interval Arithmetic - bridger\n",
    "- Interval Methods for Systems of Equations\n",
    "- https://fab.cba.mit.edu/classes/S62.12/docs/Hickey_interval.pdf\n",
    "- bishop\n",
    "- Constructive functional analysis\n",
    "\n",
    "\n"
   ]
  },
  {
   "cell_type": "code",
   "execution_count": 3,
   "metadata": {},
   "outputs": [
    {
     "ename": "NameError",
     "evalue": "name 'Record' is not defined",
     "output_type": "error",
     "traceback": [
      "\u001b[0;31m---------------------------------------------------------------------------\u001b[0m",
      "\u001b[0;31mNameError\u001b[0m                                 Traceback (most recent call last)",
      "Cell \u001b[0;32mIn[3], line 1\u001b[0m\n\u001b[0;32m----> 1\u001b[0m \u001b[43mRecord\u001b[49m(\u001b[38;5;124m\"\u001b[39m\u001b[38;5;124mTaylorModel\u001b[39m\u001b[38;5;124m\"\u001b[39m, (\u001b[38;5;124m\"\u001b[39m\u001b[38;5;124mf\u001b[39m\u001b[38;5;124m\"\u001b[39m, RFun), ())\n",
      "\u001b[0;31mNameError\u001b[0m: name 'Record' is not defined"
     ]
    }
   ],
   "source": [
    "Record(\"TaylorModel\", (\"f\", RFun), (\"width\", RealSort()))"
   ]
  },
  {
   "cell_type": "code",
   "execution_count": 5,
   "metadata": {},
   "outputs": [
    {
     "ename": "TypeError",
     "evalue": "descriptor 'exp' for 'flint.types.arb_series.arb_series' objects doesn't apply to a 'int' object",
     "output_type": "error",
     "traceback": [
      "\u001b[0;31m---------------------------------------------------------------------------\u001b[0m",
      "\u001b[0;31mTypeError\u001b[0m                                 Traceback (most recent call last)",
      "Cell \u001b[0;32mIn[5], line 2\u001b[0m\n\u001b[1;32m      1\u001b[0m \u001b[38;5;28;01mimport\u001b[39;00m \u001b[38;5;21;01mflint\u001b[39;00m\n\u001b[0;32m----> 2\u001b[0m \u001b[43mflint\u001b[49m\u001b[38;5;241;43m.\u001b[39;49m\u001b[43marb_series\u001b[49m\u001b[38;5;241;43m.\u001b[39;49m\u001b[43mexp\u001b[49m\u001b[43m(\u001b[49m\u001b[38;5;241;43m0\u001b[39;49m\u001b[43m)\u001b[49m\n",
      "\u001b[0;31mTypeError\u001b[0m: descriptor 'exp' for 'flint.types.arb_series.arb_series' objects doesn't apply to a 'int' object"
     ]
    }
   ],
   "source": [
    "import flint\n",
    "flint.arb_series.exp(0)"
   ]
  },
  {
   "cell_type": "code",
   "execution_count": 1,
   "metadata": {},
   "outputs": [],
   "source": [
    "from knuckledragger import *\n",
    "import knuckledragger.notation as notation\n",
    "from knuckledragger.theories.Real import *\n",
    "#from knuckledragger.theories.Bool import *\n",
    "from z3 import *\n",
    "B = BoolSort()\n",
    "RSet = R >> B\n",
    "\n",
    "Interval = Datatype(\"Interval\")\n",
    "Interval.declare(\"inf\") # could also use seminfinite. We'll see. Or could use extended reals.\n",
    "Interval.declare(\"mk\", (\"lo\", R), (\"hi\", R))\n",
    "Interval = Interval.create()\n",
    "\n",
    "x,y,z = Reals(\"x y z\")\n",
    "i,j,k = Consts(\"i j k\", Interval)\n",
    "\n",
    "# Ok so i could do a SortDisopatch on DatatypeRef overload.\n",
    "DatatypeRef.hi = property(lambda self: Interval.hi(self))\n",
    "DatatypeRef.lo = property(lambda self: Interval.lo(self))\n",
    "DatatypeRef.is_inf = property(lambda self: Interval.is_inf(self))\n"
   ]
  },
  {
   "cell_type": "code",
   "execution_count": 2,
   "metadata": {},
   "outputs": [],
   "source": [
    "max = define(\"max\", [x,y], If(x <= y, y, x))\n",
    "min = define(\"min\", [x,y], If(x <= y, x, y))\n",
    "abs = define(\"abs\", [x], If(x <= 0, -x, x))\n",
    "\n",
    "min_comm = lemma(ForAll([x,y], min(x,y) == min(y,x)), by=[min.defn])\n",
    "min_assoc = kd.lemma(ForAll([x,y,z], min(x,min(y,z)) == min(min(x,y),z)), by=[min.defn])\n",
    "\n",
    "\n",
    "abs_max = lemma(ForAll([x], abs(x) == max(x,-x)), by=[abs.defn, max.defn])\n"
   ]
  },
  {
   "cell_type": "code",
   "execution_count": 3,
   "metadata": {},
   "outputs": [],
   "source": [
    "setof = define(\"setof\", [i], Lambda([x], If(Interval.is_inf(i), BoolVal(True), And(i.lo <= x, x <= i.hi))))"
   ]
  },
  {
   "cell_type": "code",
   "execution_count": 4,
   "metadata": {},
   "outputs": [
    {
     "data": {
      "text/html": [
       "is(inf, j)"
      ],
      "text/plain": [
       "is(inf, j)"
      ]
     },
     "execution_count": 4,
     "metadata": {},
     "output_type": "execute_result"
    }
   ],
   "source": [
    "j.is_inf"
   ]
  },
  {
   "cell_type": "code",
   "execution_count": 5,
   "metadata": {},
   "outputs": [],
   "source": [
    "meet = define(\"meet\", [i,j], If(i.is_inf, j,\n",
    "                                      If(j.is_inf, i,\n",
    "                                         \n",
    "                                    Interval.mk(max(i.lo, j.lo), min(i.hi, j.hi)))))\n",
    "\n",
    "\n",
    "meet_intersect = lemma(ForAll([i,j], \n",
    "                           SetIntersect(setof(i), setof(j)) == \n",
    "                           setof(meet(i,j))), \n",
    "                                by=[setof.defn, meet.defn, min.defn, max.defn])\n",
    "\n",
    "# DatatypeRef.__and__ = meet"
   ]
  },
  {
   "cell_type": "code",
   "execution_count": 6,
   "metadata": {},
   "outputs": [],
   "source": [
    "import knuckledragger.notation as notation\n",
    "\n",
    "notation.le.register(RSet, IsSubset)"
   ]
  },
  {
   "cell_type": "code",
   "execution_count": 7,
   "metadata": {},
   "outputs": [],
   "source": [
    "join = define(\"join\", [i,j], If(Or(i.is_inf, j.is_inf), Interval.inf, Interval.mk(min(i.lo, j.lo), max(i.hi, j.hi))))\n",
    "\n",
    "join_union = lemma(ForAll([i,j], \n",
    "                    IsSubset(SetUnion(setof(i), setof(j)), setof(join(i,j)))),\n",
    "                          by=[join.defn, setof.defn, min.defn, max.defn])\n"
   ]
  },
  {
   "cell_type": "code",
   "execution_count": 8,
   "metadata": {},
   "outputs": [],
   "source": [
    "# These are not well defined for infinite intervals\n",
    "width = define(\"width\", [i], i.hi - i.lo)\n",
    "mid = define(\"mid\", [i], (i.hi + i.lo) / 2)\n",
    "\n"
   ]
  },
  {
   "cell_type": "code",
   "execution_count": 9,
   "metadata": {},
   "outputs": [],
   "source": [
    "lt1 = define(\"lt1\", [i,j], And(Not(i.is_inf), Not(j.is_inf), \n",
    "                               i.lo <= i.hi, j.lo <= j.hi, \n",
    "                               i.hi < j.lo))\n",
    "\n",
    "# Do i also want interval to be well formed?\n",
    "lt1_trans = lemma(ForAll([i,j,k], \n",
    "                         Implies(And(lt1(i,j), lt1(j,k)),\n",
    "                                  lt1(i,k))),\n",
    "                 by=[lt1.defn])"
   ]
  },
  {
   "cell_type": "code",
   "execution_count": 10,
   "metadata": {},
   "outputs": [],
   "source": [
    "lt2 = define(\"lt2\", [i,j], And(Not(i.is_inf), Not(j.is_inf), \n",
    "                            i.lo < j.lo, i.hi < j.hi))\n",
    "\n",
    "#lt2_subset = lemma(ForAll([i,j], \n",
    "#                          Implies(i != j,\n",
    "#                          lt2(i,j) == IsSubset(setof(i), setof(j)))),\n",
    "#                          by = [lt2.defn, setof.defn])\n",
    "lt2_trans = lemma(ForAll([i,j,k], \n",
    "                         Implies(And(lt2(i,j), lt2(j,k)),\n",
    "                                  lt2(i,k))),\n",
    "                 by=[lt2.defn])\n"
   ]
  },
  {
   "cell_type": "code",
   "execution_count": 11,
   "metadata": {},
   "outputs": [],
   "source": [
    "import knuckledragger.notation as notation\n",
    "add = define(\"add\", [i,j], \n",
    "                      If(Or(i.is_inf, j.is_inf), Interval.inf, Interval.mk(i.lo + j.lo, i.hi + j.hi)))\n",
    "\n",
    "notation.add.register(Interval, add)\n",
    "\n",
    "\n",
    "add_set = lemma(ForAll([x,y,i,j], Implies(setof(i)[x] & setof(j)[y],  \n",
    "                                      setof(i + j)[x + y])), \n",
    "                                      by=[setof.defn, add.defn])\n"
   ]
  },
  {
   "cell_type": "code",
   "execution_count": 12,
   "metadata": {},
   "outputs": [],
   "source": [
    "sub = define(\"sub\", [i,j], \n",
    "                      If(Or(i.is_inf, j.is_inf), Interval.inf,\n",
    "                          Interval.mk(i.lo - j.hi, i.hi - j.lo)))\n",
    "\n",
    "notation.sub.register(Interval, sub)\n",
    "\n",
    "\n",
    "sub_set = lemma(ForAll([x,y,i,j], Implies(setof(i)[x] & setof(j)[y],  \n",
    "                                      setof(i - j)[x - y])), \n",
    "                                      by=[setof.defn, sub.defn])"
   ]
  },
  {
   "cell_type": "code",
   "execution_count": 26,
   "metadata": {},
   "outputs": [
    {
     "name": "stdout",
     "output_type": "stream",
     "text": [
      "WARNING: Redefining function mul from |- ForAll([i, j],\n",
      "       mul(i, j) ==\n",
      "       If(Or(is(inf, i), is(inf, j)),\n",
      "          inf,\n",
      "          If(Or(lo(i) > hi(i), lo(j) > hi(j)),\n",
      "             mk(1, -1),\n",
      "             mk(min(min(min(lo(i)*lo(j), lo(i)*hi(j)),\n",
      "                        hi(i)*lo(j)),\n",
      "                    hi(i)*hi(j)),\n",
      "                max(max(max(lo(i)*lo(j), lo(i)*hi(j)),\n",
      "                        hi(i)*lo(j)),\n",
      "                    hi(i)*hi(j)))))) to ForAll([i, j],\n",
      "       mul(i, j) ==\n",
      "       If(Or(is(inf, i), is(inf, j)),\n",
      "          inf,\n",
      "          If(And(lo(i) > hi(i), lo(j) > hi(j)),\n",
      "             mk(1, -1),\n",
      "             If(lo(i) > hi(i),\n",
      "                i,\n",
      "                If(lo(j) > hi(j),\n",
      "                   j,\n",
      "                   mk(min(min(min(lo(i)*lo(j), lo(i)*hi(j)),\n",
      "                              hi(i)*lo(j)),\n",
      "                          hi(i)*hi(j)),\n",
      "                      max(max(max(lo(i)*lo(j), lo(i)*hi(j)),\n",
      "                              hi(i)*lo(j)),\n",
      "                          hi(i)*hi(j))))))))\n"
     ]
    }
   ],
   "source": [
    "prods = [i.lo *j.lo, i.lo*j.hi, i.hi * j.lo, i.hi*j.hi]\n",
    "from functools import reduce\n",
    "\n",
    "# Wow. I don't know about this patchup\n",
    "mul = define(\"mul\", [i,j], \n",
    "                      If(Or(i.is_inf, j.is_inf), Interval.inf,\n",
    "                      If(And(i.lo > i.hi, j.lo > j.hi), Interval.mk(1,-1),\n",
    "                      If(i.lo > i.hi, i,\n",
    "                      If(j.lo > j.hi, j,\n",
    "                        Interval.mk(reduce(min,prods), reduce(max, prods)))))))\n",
    "\n",
    "notation.mul.register(Interval, mul)\n",
    "\n",
    "#mul_set = lemma(ForAll([x,y,i,j], Implies(setof(i)[x] & setof(j)[y],  \n",
    "#                                      setof(i * j)[x * y])), \n",
    "#                                      by=[min.defn, max.defn, setof.defn, mul.defn], timeout=15000)\n",
    "mul.defn\n",
    "# should largely follow from monotonicity of mul.\n",
    "\n",
    "x1 = Real(\"x1\")\n",
    "mul_pos_mono = lemma(ForAll([x,y,x1], Implies(And(x1 >= x, y >= 0), x1 * y >= x * y)))\n",
    "mul_neg_mono = lemma(ForAll([x,y,x1], Implies(And(x1 >= x, y <= 0), x1 * y <= x * y)))\n"
   ]
  },
  {
   "cell_type": "code",
   "execution_count": 14,
   "metadata": {},
   "outputs": [],
   "source": [
    "\n",
    "\n",
    "l = Interval.mk(0.9995, 1.0005)\n",
    "w = Interval.mk(1.9995, 2.0005)\n",
    "\n"
   ]
  },
  {
   "cell_type": "code",
   "execution_count": 30,
   "metadata": {},
   "outputs": [],
   "source": [
    "wf = define(\"wf\", [i], Or(i.is_inf, i.lo <= i.hi))\n",
    "\n",
    "is_real = define(\"is_real\", [i], And(Not(i.is_inf, i.lo == i.hi)))"
   ]
  },
  {
   "cell_type": "code",
   "execution_count": 27,
   "metadata": {},
   "outputs": [],
   "source": [
    "add_comm = lemma(ForAll([i,j], i + j == j + i), by=[add.defn])\n",
    "add_assoc = lemma(ForAll([i,j,k], i + (j + k) == (i + j) + k), by=[add.defn])\n",
    "\n",
    "mul_comm = lemma(ForAll([i,j], i * j == j * i), \n",
    "                 by=[mul.defn, max.defn, min.defn]) # or use max_comm, min_comm\n",
    "\n",
    "#mul_assoc = lemma(ForAll([i,j,k], i * (j * k) == (i * j) * k), by=[mul.defn, max.defn,min.defn])\n",
    "\n",
    "zero = define(\"zero\", [] , Interval.mk(0,0))\n",
    "one = define(\"one\", [], Interval.mk(1,1))\n",
    "\n",
    "add_zero = lemma(ForAll([i], zero() + i == i), by=[zero.defn, add.defn])\n",
    "mul_one = lemma(ForAll([i], one() * i == i), by=[one.defn, mul.defn, min.defn, max.defn])"
   ]
  },
  {
   "cell_type": "code",
   "execution_count": 32,
   "metadata": {},
   "outputs": [
    {
     "ename": "LemmaError",
     "evalue": "(ForAll([i, j, k],\n       Implies(And(wf(i), wf(j), wf(k)),\n               lt2(mul(i, add(j, k)),\n                   add(mul(i, j), mul(i, k))))), 'Countermodel', [knuckledragger_goal = True,\n by_0 = True,\n by_2 = True,\n by_1 = True,\n by_4 = True,\n by_5 = True,\n by_3 = True,\n lo = [mk(1, -1) -> 1,\n       mk(3/32, 11/16) -> 3/32,\n       mk(-11/32, -3/16) -> -11/32,\n       mk(-2, -1/2) -> -2,\n       else -> 1/8],\n max = [(11/16, 3/8) -> 11/16,\n        (11/16, 11/64) -> 11/16,\n        (11/16, 3/32) -> 11/16,\n        else -> If(Var(0) + -1*Var(1) <= 0, Var(1), Var(0))],\n add = [(inf, mk(-11/32, -3/16)) -> inf,\n        (inf, mk(3/32, 11/16)) -> inf,\n        else ->\n        If(Or(is(inf, Var(0)), is(inf, Var(1))),\n           inf,\n           mk(lo(Var(0)) + lo(Var(1)),\n              hi(Var(0)) + hi(Var(1))))],\n hi = [mk(1, -1) -> -1,\n       mk(3/32, 11/16) -> 11/16,\n       mk(-11/32, -3/16) -> -3/16,\n       mk(-2, -1/2) -> -1/2,\n       else -> 1/2],\n wf = [mk(-2, -1/2) -> True,\n       mk(-11/32, -3/16) -> True,\n       mk(1, -1) -> False,\n       inf -> True,\n       mk(3/32, 11/16) -> True,\n       else ->\n       Or(is(inf, Var(0)), hi(Var(0)) + -1*lo(Var(0)) >= 0)],\n mul = [(mk(-2, -1/2), inf) -> inf,\n        (mk(-2, -1/2), mk(-11/32, -3/16)) -> mk(3/32, 11/16),\n        else ->\n        If(Or(is(inf, Var(0)), is(inf, Var(1))),\n           inf,\n           If(Or(lo(Var(0)) + -1*hi(Var(0)) <= 0,\n                 hi(Var(1)) + -1*lo(Var(1)) >= 0),\n              If(lo(Var(0)) + -1*hi(Var(0)) <= 0,\n                 If(hi(Var(1)) + -1*lo(Var(1)) >= 0,\n                    mk(min(min(min(lo(Var(0))*lo(Var(1)),\n                                   hi(Var(1))*lo(Var(0))),\n                               hi(Var(0))*lo(Var(1))),\n                           hi(Var(0))*hi(Var(1))),\n                       max(max(max(lo(Var(0))*lo(Var(1)),\n                                   hi(Var(1))*lo(Var(0))),\n                               hi(Var(0))*lo(Var(1))),\n                           hi(Var(0))*hi(Var(1)))),\n                    Var(1)),\n                 Var(0)),\n              mk(1, -1)))],\n lt2 = [(inf, inf) -> False,\n        else ->\n        Not(Or(is(inf, Var(1)),\n               is(inf, Var(0)),\n               lo(Var(0)) + -1*lo(Var(1)) >= 0,\n               hi(Var(0)) + -1*hi(Var(1)) >= 0))],\n min = [(11/16, 3/8) -> 3/8,\n        (3/8, 11/64) -> 11/64,\n        (11/64, 3/32) -> 3/32,\n        else -> If(Var(0) + -1*Var(1) <= 0, Var(0), Var(1))]])",
     "output_type": "error",
     "traceback": [
      "\u001b[0;31m---------------------------------------------------------------------------\u001b[0m",
      "\u001b[0;31mLemmaError\u001b[0m                                Traceback (most recent call last)",
      "Cell \u001b[0;32mIn[32], line 1\u001b[0m\n\u001b[0;32m----> 1\u001b[0m subdistr \u001b[38;5;241m=\u001b[39m \u001b[43mlemma\u001b[49m\u001b[43m(\u001b[49m\u001b[43mForAll\u001b[49m\u001b[43m(\u001b[49m\u001b[43m[\u001b[49m\u001b[43mi\u001b[49m\u001b[43m,\u001b[49m\u001b[43mj\u001b[49m\u001b[43m,\u001b[49m\u001b[43mk\u001b[49m\u001b[43m]\u001b[49m\u001b[43m,\u001b[49m\u001b[43m \u001b[49m\n\u001b[1;32m      2\u001b[0m \u001b[43m                        \u001b[49m\u001b[43mImplies\u001b[49m\u001b[43m(\u001b[49m\u001b[43mAnd\u001b[49m\u001b[43m(\u001b[49m\u001b[43mwf\u001b[49m\u001b[43m(\u001b[49m\u001b[43mi\u001b[49m\u001b[43m)\u001b[49m\u001b[43m,\u001b[49m\u001b[43m \u001b[49m\u001b[43mwf\u001b[49m\u001b[43m(\u001b[49m\u001b[43mj\u001b[49m\u001b[43m)\u001b[49m\u001b[43m,\u001b[49m\u001b[43m \u001b[49m\u001b[43mwf\u001b[49m\u001b[43m(\u001b[49m\u001b[43mk\u001b[49m\u001b[43m)\u001b[49m\u001b[43m)\u001b[49m\u001b[43m,\u001b[49m\n\u001b[1;32m      3\u001b[0m \u001b[43m                        \u001b[49m\u001b[43mlt2\u001b[49m\u001b[43m(\u001b[49m\u001b[43mi\u001b[49m\u001b[43m \u001b[49m\u001b[38;5;241;43m*\u001b[39;49m\u001b[43m \u001b[49m\u001b[43m(\u001b[49m\u001b[43mj\u001b[49m\u001b[43m \u001b[49m\u001b[38;5;241;43m+\u001b[39;49m\u001b[43m \u001b[49m\u001b[43mk\u001b[49m\u001b[43m)\u001b[49m\u001b[43m,\u001b[49m\u001b[43m \u001b[49m\u001b[43mi\u001b[49m\u001b[43m \u001b[49m\u001b[38;5;241;43m*\u001b[39;49m\u001b[43m \u001b[49m\u001b[43mj\u001b[49m\u001b[43m \u001b[49m\u001b[38;5;241;43m+\u001b[39;49m\u001b[43m \u001b[49m\u001b[43mi\u001b[49m\u001b[43m \u001b[49m\u001b[38;5;241;43m*\u001b[39;49m\u001b[43m \u001b[49m\u001b[43mk\u001b[49m\u001b[43m)\u001b[49m\u001b[43m)\u001b[49m\u001b[43m)\u001b[49m\u001b[43m,\u001b[49m\n\u001b[1;32m      4\u001b[0m \u001b[43m                  \u001b[49m\u001b[43mby\u001b[49m\u001b[38;5;241;43m=\u001b[39;49m\u001b[43m[\u001b[49m\u001b[43mmul\u001b[49m\u001b[38;5;241;43m.\u001b[39;49m\u001b[43mdefn\u001b[49m\u001b[43m,\u001b[49m\u001b[43m \u001b[49m\u001b[43mwf\u001b[49m\u001b[38;5;241;43m.\u001b[39;49m\u001b[43mdefn\u001b[49m\u001b[43m,\u001b[49m\u001b[43m \u001b[49m\u001b[43madd\u001b[49m\u001b[38;5;241;43m.\u001b[39;49m\u001b[43mdefn\u001b[49m\u001b[43m,\u001b[49m\u001b[43m \u001b[49m\u001b[38;5;28;43mmin\u001b[39;49m\u001b[38;5;241;43m.\u001b[39;49m\u001b[43mdefn\u001b[49m\u001b[43m,\u001b[49m\u001b[43m \u001b[49m\u001b[38;5;28;43mmax\u001b[39;49m\u001b[38;5;241;43m.\u001b[39;49m\u001b[43mdefn\u001b[49m\u001b[43m,\u001b[49m\u001b[43m \u001b[49m\u001b[43mlt2\u001b[49m\u001b[38;5;241;43m.\u001b[39;49m\u001b[43mdefn\u001b[49m\u001b[43m \u001b[49m\u001b[43m]\u001b[49m\u001b[43m)\u001b[49m\n",
      "File \u001b[0;32m~/Documents/python/knuckledragger/knuckledragger/kernel.py:73\u001b[0m, in \u001b[0;36mlemma\u001b[0;34m(thm, by, admit, timeout, dump)\u001b[0m\n\u001b[1;32m     71\u001b[0m \u001b[38;5;28;01mif\u001b[39;00m res \u001b[38;5;241m!=\u001b[39m z3\u001b[38;5;241m.\u001b[39munsat:\n\u001b[1;32m     72\u001b[0m     \u001b[38;5;28;01mif\u001b[39;00m res \u001b[38;5;241m==\u001b[39m z3\u001b[38;5;241m.\u001b[39msat:\n\u001b[0;32m---> 73\u001b[0m         \u001b[38;5;28;01mraise\u001b[39;00m LemmaError(thm, \u001b[38;5;124m\"\u001b[39m\u001b[38;5;124mCountermodel\u001b[39m\u001b[38;5;124m\"\u001b[39m, s\u001b[38;5;241m.\u001b[39mmodel())\n\u001b[1;32m     74\u001b[0m     \u001b[38;5;28;01mraise\u001b[39;00m LemmaError(\u001b[38;5;124m\"\u001b[39m\u001b[38;5;124mlemma\u001b[39m\u001b[38;5;124m\"\u001b[39m, thm, res)\n\u001b[1;32m     75\u001b[0m \u001b[38;5;28;01melse\u001b[39;00m:\n",
      "\u001b[0;31mLemmaError\u001b[0m: (ForAll([i, j, k],\n       Implies(And(wf(i), wf(j), wf(k)),\n               lt2(mul(i, add(j, k)),\n                   add(mul(i, j), mul(i, k))))), 'Countermodel', [knuckledragger_goal = True,\n by_0 = True,\n by_2 = True,\n by_1 = True,\n by_4 = True,\n by_5 = True,\n by_3 = True,\n lo = [mk(1, -1) -> 1,\n       mk(3/32, 11/16) -> 3/32,\n       mk(-11/32, -3/16) -> -11/32,\n       mk(-2, -1/2) -> -2,\n       else -> 1/8],\n max = [(11/16, 3/8) -> 11/16,\n        (11/16, 11/64) -> 11/16,\n        (11/16, 3/32) -> 11/16,\n        else -> If(Var(0) + -1*Var(1) <= 0, Var(1), Var(0))],\n add = [(inf, mk(-11/32, -3/16)) -> inf,\n        (inf, mk(3/32, 11/16)) -> inf,\n        else ->\n        If(Or(is(inf, Var(0)), is(inf, Var(1))),\n           inf,\n           mk(lo(Var(0)) + lo(Var(1)),\n              hi(Var(0)) + hi(Var(1))))],\n hi = [mk(1, -1) -> -1,\n       mk(3/32, 11/16) -> 11/16,\n       mk(-11/32, -3/16) -> -3/16,\n       mk(-2, -1/2) -> -1/2,\n       else -> 1/2],\n wf = [mk(-2, -1/2) -> True,\n       mk(-11/32, -3/16) -> True,\n       mk(1, -1) -> False,\n       inf -> True,\n       mk(3/32, 11/16) -> True,\n       else ->\n       Or(is(inf, Var(0)), hi(Var(0)) + -1*lo(Var(0)) >= 0)],\n mul = [(mk(-2, -1/2), inf) -> inf,\n        (mk(-2, -1/2), mk(-11/32, -3/16)) -> mk(3/32, 11/16),\n        else ->\n        If(Or(is(inf, Var(0)), is(inf, Var(1))),\n           inf,\n           If(Or(lo(Var(0)) + -1*hi(Var(0)) <= 0,\n                 hi(Var(1)) + -1*lo(Var(1)) >= 0),\n              If(lo(Var(0)) + -1*hi(Var(0)) <= 0,\n                 If(hi(Var(1)) + -1*lo(Var(1)) >= 0,\n                    mk(min(min(min(lo(Var(0))*lo(Var(1)),\n                                   hi(Var(1))*lo(Var(0))),\n                               hi(Var(0))*lo(Var(1))),\n                           hi(Var(0))*hi(Var(1))),\n                       max(max(max(lo(Var(0))*lo(Var(1)),\n                                   hi(Var(1))*lo(Var(0))),\n                               hi(Var(0))*lo(Var(1))),\n                           hi(Var(0))*hi(Var(1)))),\n                    Var(1)),\n                 Var(0)),\n              mk(1, -1)))],\n lt2 = [(inf, inf) -> False,\n        else ->\n        Not(Or(is(inf, Var(1)),\n               is(inf, Var(0)),\n               lo(Var(0)) + -1*lo(Var(1)) >= 0,\n               hi(Var(0)) + -1*hi(Var(1)) >= 0))],\n min = [(11/16, 3/8) -> 3/8,\n        (3/8, 11/64) -> 11/64,\n        (11/64, 3/32) -> 3/32,\n        else -> If(Var(0) + -1*Var(1) <= 0, Var(0), Var(1))]])"
     ]
    }
   ],
   "source": [
    "subdistr = lemma(ForAll([i,j,k], \n",
    "                        Implies(And(wf(i), wf(j), wf(k)),\n",
    "                        lt2(i * (j + k), i * j + i * k))),\n",
    "                  by=[mul.defn, wf.defn, add.defn, min.defn, max.defn, lt2.defn ])"
   ]
  },
  {
   "cell_type": "markdown",
   "metadata": {},
   "source": [
    "### Bounding e\n",
    "\n",
    "There's an incredible slight of hand you can do with interval arithmetic to get rigorous bounds on transcendental functions and differential equations while use pretty generic, computable machinery.\n",
    "\n",
    "What is euler's constant `e`? Well, there are many definitions, but one natural one is that $y=e^x$ is the function that solves\n",
    "$\\partial_x y = y$\n",
    "\n",
    "We can write this in integral form\n",
    "$y(x) = y(0) + \\int_0^x y(t)dt$\n",
    "\n",
    "There is a trick to doing integrals with interval functions.  A simple estimate is to just tuse the minimum and maximum of the function in the region you're evaluating the integral\n",
    "\n",
    "$\\int_a^b y \\subseq y * (b-a)$\n",
    "Or in other words in the integrals $y_{min} * (b-a) <= \\int y dt <= y_{max} * (b-a) $\n",
    "\n",
    "Ok. We can also make an iterative method to get better and better results to the integral equation\n",
    "\n",
    "$y_{n+1}(x) = y_n(0) + \\int_0^x y_n(t)dt$\n",
    "\n",
    "We can lift this to an interval/tube recurrence relation\n",
    "\n",
    "Ok. Now, how do we know that this is actually converging to an answer? Well we need to show that the result interval always in strictly inside the previous iteration interval\n",
    "\n",
    "\n"
   ]
  },
  {
   "cell_type": "code",
   "execution_count": null,
   "metadata": {},
   "outputs": [],
   "source": [
    "integ = define(\"integ\", )\n",
    "\n",
    "\n",
    "iter = define(\"iter\", [i], 1 + i * (1 - 0))\n",
    "\n",
    "\n",
    "\n",
    "\n",
    "\n"
   ]
  },
  {
   "cell_type": "code",
   "execution_count": 2,
   "metadata": {},
   "outputs": [
    {
     "ename": "TypeError",
     "evalue": "cannot unpack non-iterable FuncDeclRef object",
     "output_type": "error",
     "traceback": [
      "\u001b[0;31m---------------------------------------------------------------------------\u001b[0m",
      "\u001b[0;31mTypeError\u001b[0m                                 Traceback (most recent call last)",
      "Cell \u001b[0;32mIn[2], line 28\u001b[0m\n\u001b[1;32m     25\u001b[0m DatatypeRef\u001b[38;5;241m.\u001b[39mlo \u001b[38;5;241m=\u001b[39m \u001b[38;5;28mproperty\u001b[39m(\u001b[38;5;28;01mlambda\u001b[39;00m \u001b[38;5;28mself\u001b[39m: Interval\u001b[38;5;241m.\u001b[39mlo(\u001b[38;5;28mself\u001b[39m))\n\u001b[1;32m     26\u001b[0m DatatypeRef\u001b[38;5;241m.\u001b[39mis_inf \u001b[38;5;241m=\u001b[39m \u001b[38;5;28mproperty\u001b[39m(\u001b[38;5;28;01mlambda\u001b[39;00m \u001b[38;5;28mself\u001b[39m: Interval\u001b[38;5;241m.\u001b[39mis_inf(\u001b[38;5;28mself\u001b[39m))\n\u001b[0;32m---> 28\u001b[0m denote, denote_def \u001b[38;5;241m=\u001b[39m define(\u001b[38;5;124m\"\u001b[39m\u001b[38;5;124mdenote\u001b[39m\u001b[38;5;124m\"\u001b[39m, [i], Lambda([x], If(Interval\u001b[38;5;241m.\u001b[39mis_inf(i), BoolVal(\u001b[38;5;28;01mTrue\u001b[39;00m), And(i\u001b[38;5;241m.\u001b[39mlo \u001b[38;5;241m<\u001b[39m\u001b[38;5;241m=\u001b[39m x, x \u001b[38;5;241m<\u001b[39m\u001b[38;5;241m=\u001b[39m i\u001b[38;5;241m.\u001b[39mhi))))\n\u001b[1;32m     29\u001b[0m \u001b[38;5;66;03m#print(i.lo)\u001b[39;00m\n\u001b[1;32m     31\u001b[0m add, add_def \u001b[38;5;241m=\u001b[39m define(\u001b[38;5;124m\"\u001b[39m\u001b[38;5;124madd\u001b[39m\u001b[38;5;124m\"\u001b[39m, [i,j], \n\u001b[1;32m     32\u001b[0m                       If(Or(i\u001b[38;5;241m.\u001b[39mis_inf, j\u001b[38;5;241m.\u001b[39mis_inf), Interval\u001b[38;5;241m.\u001b[39minf, Interval\u001b[38;5;241m.\u001b[39mmk(i\u001b[38;5;241m.\u001b[39mlo \u001b[38;5;241m+\u001b[39m j\u001b[38;5;241m.\u001b[39mlo, i\u001b[38;5;241m.\u001b[39mhi \u001b[38;5;241m+\u001b[39m j\u001b[38;5;241m.\u001b[39mhi)))\n",
      "\u001b[0;31mTypeError\u001b[0m: cannot unpack non-iterable FuncDeclRef object"
     ]
    }
   ],
   "source": [
    "\n",
    "\n",
    "#def IConsts(xs):\n",
    "#    xs = Consts(xs, Interval)\n",
    "#    for x in xs:\n",
    "#        x.hi = lambda self: Interval.hi(self)\n",
    "#        x.lo = lambda self: Interval.lo(self)\n",
    "#    return xs\n",
    "\n",
    "\n",
    "\n",
    "\n",
    "\n",
    "# Ordering with respect to set inlcusion\n",
    "le, le_def = define(\"le\", [i,j], If(j.is_inf, BoolVal(True), \n",
    "                         If(i.is_inf, BoolVal(False),\n",
    "                           And(i.hi <= j.hi, j.lo <= i.lo))))\n",
    "\n",
    "Ordering = Datatype(\"Ordering\")\n",
    "Ordering.declare(\"lt\")\n",
    "Ordering.declare(\"eq\")\n",
    "Ordering.declare(\"nge\")\n",
    "\n",
    "#ordering with respect to real order\n",
    "# what do we do with improper\n",
    "#leR, leR_def = define(\"le_R\", [i,j], If( Or(i.is_inf, j.is_inf), Ordering.nge,  If())\n",
    "\n",
    "\n",
    "\n",
    "n = Int(\"n\")\n",
    "pow, pow_def = define(\"pow\", [x,n], \n",
    "                                    If(n == 0, 1,\n",
    "                                    If(n > 0, x * pow(x, n-1), \n",
    "                                    If(x == 0, x**n,\n",
    "                                       1/x * pow(x, n+1)))))\n",
    "\n",
    "# pow_pow = lemma(ForAll([x,n,m], pow(x,n) == x ** n, by=[pow_def]) # hmm. What about 1/x where x = 0?\n",
    "#pow_pow = lemma(ForAll([x,n,m], pow(x,n) * pow(x,m) == pow(x, n + m)), by=[pow_def])\n",
    "\n",
    "\n",
    "\n",
    "\n",
    "add_comm = lemma(ForAll([x,y], i + j == j + i), by=[add_def])\n",
    "add_assoc = lemma(ForAll([x,y,z], i + (j + k) == (i + j) + k), by=[add_def])\n",
    "#add_mono_l\n",
    "\n",
    "lift = define(\"lift\", [x], Interval.mk(x,x))\n",
    "\n",
    "#lift_mono = define(\"lift_mono\", [f], Lambda([x], lift(f(x)))\n",
    "\n",
    "square = define(\"square\", [i], If(i.is_inf, Interval.inf, \n",
    "                               If(And(i.lo <= 0, i.hi >= 0), Interval.mk(0, max(i.lo*i.lo, i.hi*i.hi)),\n",
    "                                Interval.mk(min(i.lo*i.lo, i.hi*i.hi), max(i.lo*i.lo, i.hi*i.hi)))))\n",
    "\n",
    "# sum of squares might be a nice axiom schema.\n",
    "\n"
   ]
  },
  {
   "cell_type": "code",
   "execution_count": 68,
   "metadata": {},
   "outputs": [
    {
     "name": "stdout",
     "output_type": "stream",
     "text": [
      "[x = 0, /0 = [(1, 0) -> 1/2, else -> 0]]\n"
     ]
    }
   ],
   "source": [
    "solve((1/x) * (1/x) != 1/(x**2))"
   ]
  },
  {
   "cell_type": "markdown",
   "metadata": {},
   "source": [
    "\n",
    "\n",
    "\n",
    "\n",
    "\n",
    "```python\n",
    "cos.sort()\n",
    "```\n",
    "\n",
    "Array(Real, Real)\n",
    "\n",
    "Interval analysis is a computational constructive framing\n",
    "\n",
    "Moore Book\n",
    "Bridger book\n",
    "Errett Bishop\n",
    "\n",
    "Kaucher intervals <https://arxiv.org/pdf/2202.03058>\n",
    "\n",
    "Fixed point theorems.\n",
    "An uninterpreted sort is not that bad for non recursive datatypes.\n",
    "\n",
    "```python\n",
    "from z3 import *\n",
    "\n",
    "I = DeclareSort(\"Interval\")\n",
    "a, b, c = Consts(\"a b c\", I)\n",
    "R = RealSort()\n",
    "x,y,z = Reals(\"x y z\")\n",
    "low = Function(\"low\", I, R)\n",
    "high = Function(\"high\", I, R)\n",
    "ForAll([a], low(a) <= high(a))\n",
    "\n",
    "sub = Function(\"sub\", I, I, BoolSort())\n",
    "sub_def = ForAll([a,b], sub(a,b) == And(low(a) > low(b), high(a) < high(b)))\n",
    "\n",
    "sub_irrefl = ForAll([a], Not(sub(a,a)))\n",
    "prove(Implies(sub_def, sub_irrefl))\n",
    "\n",
    "sub_asym = ForAll([a,b], Implies(sub(a,b), Not(sub(b,a))))\n",
    "prove(Implies(sub_def, sub_asym))\n",
    "\n",
    "sub_trans = ForAll([a,b,c], Implies(And(sub(a,b), sub(b,c)), sub(a,c)))\n",
    "prove(Implies(sub_def, sub_trans))\n",
    "\n",
    "subeq = Function(\"subeq\", I, I, BoolSort())\n",
    "subeq_def = ForAll([a,b], subeq(a,b) == Or(sub(a,b), a == b))\n",
    "\n",
    "subeq_refl = ForAll([a], subeq(a,a))\n",
    "prove(Implies(subeq_def, subeq_refl))\n",
    "\n",
    "subeq_asym = ForAll([a,b], Implies(And(subeq(a,b), subeq(b,a)), a == b))\n",
    "prove(Implies(And(subeq_def, sub_asym), subeq_asym))\n",
    "\n",
    "subeq_trans = ForAll([a,b,c], Implies(And(subeq(a,b), subeq(b,c)), subeq(a,c)))\n",
    "prove(Implies(And(subeq_def, sub_trans), subeq_trans))\n",
    "\n",
    "# An interval can be dominated by another interval. This is distinct from subset\n",
    "lt = Function(\"lt\", I, I, BoolSort())\n",
    "lt_def = ForAll([a,b], lt(a,b) == high(a) < low(b))\n",
    "\n",
    "\n",
    "mono = Function(\"mono\", ArraySort(I,I), BoolSort())\n",
    "f = Array(\"f\", I, I)\n",
    "mono_def = ForAll([f], mono(f) == ForAll([a], sub(a,f[a])))\n",
    "\n",
    "fix = Function(\"fix\", ArraySort(I,I), I)\n",
    "fix_def = ForAll([f], Implies(mono(f), fix(f) == f[fix(f)]))\n",
    "\n",
    "# too dangerous to skolemize?\n",
    "int_exists = ForAll([x,y], Implies( x <= y, Exists([a], And(low(a) == x, high(a) == y))))\n",
    "\n",
    "iadd = Function(\"iadd\", I, I, I)\n",
    "\n",
    "iadd_comm = ForAll([x,y], iadd(x,y) == iadd(y,x))\n",
    "iadd_assoc = ForAll([x,y,z], iadd(x,iadd(y,z)) == iadd(iadd(x,y),z))\n",
    "iadd_mono = ForAll([x,y,z], Implies(sub(x,y), sub(iadd(x,z),iadd(y,z))))\n",
    "\n",
    "iadd_high = ForAll([a,b], high(iadd(a,b)) == high(a) + high(b))\n",
    "iadd_low = ForAll([a,b], low(iadd(a,b)) == low(a) + low(b))\n",
    "\n",
    "iadd_monol = ForAll([a], mono(Lambda[a], iadd(a,b)))\n",
    "```\n",
    "\n",
    "\n",
    "```souffle\n",
    "\n",
    ".type interval = [l : float, u : float]\n",
    ".decl meet(x : interval , y : interval, z : interval) inline\n",
    "meet([lx,ux],[ly,uy],[max(lx,ly), min(ux,uy)]) :- true.\n",
    "\n",
    ".decl join(x : interval , y : interval, z : interval) inline\n",
    "join([lx,ux],[ly,uy],[min(lx,ly), max(ux,uy)]) :- true.\n",
    "\n",
    ".decl add(x : interval , y : interval, z : interval) inline\n",
    "add([lx,ux],[ly,uy],[lx + ly, ux + uy]) :- true.\n",
    "\n",
    ".decl sub(x : interval , y : interval, z : interval) inline\n",
    "sub([lx,ux],[ly,uy],[lx - uy, ux - ly]) :- true.\n",
    "\n",
    ".decl mul(x : interval , y : interval, z : interval) inline\n",
    "mul([lx,ux],[ly,uy],[min(a,b,c,d), max(a,b,c,d)]) :- a = lx * ly, b = ux * ly, c = lx * uy, d = ux * uy.\n",
    "\n",
    ".decl abs(x : interval , y : interval) inline\n",
    "abs([lx,ux],[lx,ux]) :- lx > 0.\n",
    "abs([lx,ux],[-ux, -lx]) :- ux < 0.\n",
    "abs([lx,ux],[0, max(-lx, ux)]) :- lx <= 0, ux >= 0.\n",
    "\n",
    "\n",
    ".decl test(x : interval)\n",
    "test(z) :- mul([2,4], [4,5],z).\n",
    ".output test(IO=stdout)\n",
    "\n",
    "\n",
    ".type Expr = \n",
    "      Add {x : Expr, y : Expr}\n",
    "    | Sub {x : Expr, y : Expr}\n",
    "    | Mul {x : Expr, y : Expr}\n",
    "    | Rnd {x : Expr}\n",
    "    | Lit {x : float}\n",
    "    | Var {x : symbol}\n",
    "\n",
    "// Expression e is in interval i\n",
    ".decl BND(e : Expr, i : interval)\n",
    "// Absolute value of e is in interval i\n",
    ".decl ABS(e : Expr, i : interval) \n",
    "// x = y * (1 + e) \n",
    ".decl REL(x : Expr, y : Expr, i : interval)\n",
    "// \n",
    "//.decl FIX(x : Expr, k)\n",
    "\n",
    "// The value of expression x is not zero.\n",
    ".decl NZR(x : Expr)\n",
    ".decl EQL(x : Expr, y : Expr) eqrel\n",
    "\n",
    "EQL(x,y) :- BND(x, [a,a]), BND(y, [a,a]).\n",
    "NZR(x) :- BND(x, [a,b]), (a > 0 ; b < 0).\n",
    "\n",
    ".decl exprs(e : Expr)\n",
    "EQL(x,x) :- exprs(x).\n",
    "\n",
    "BND(t, [a,a]) :- exprs(t), t = $Lit(a).\n",
    "BND(t, [0,0]) :- exprs(t), t = $Sub(a, a).\n",
    "\n",
    "BND(z, iz) :- exprs(z), BND(x,ix), BND(y,iy), (\n",
    "            (z = $Add(x,y), add(ix,iy,iz));\n",
    "            (z = $Sub(x,y), sub(ix,iy,iz));\n",
    "            (z = $Mul(x,y), mul(ix,iy,iz))).\n",
    "\n",
    "ABS(e, iy) :- BND(e, ix), abs(ix,iy).\n",
    "\n",
    "\n",
    "```\n",
    "\n"
   ]
  },
  {
   "cell_type": "markdown",
   "metadata": {},
   "source": [
    "# Manifolds\n",
    "\n",
    "title: Manifolds in Equational Logic\n",
    "\n",
    "\n",
    "Automated reasoning over\n",
    "Matroids. Synthetic theory of linear independence <https://en.wikipedia.org/wiki/Matroid>\n",
    "universal injective\n",
    "a dot b = a dot c !-> b = c\n",
    "\n",
    "\"represented by\" =o=  observer dependent\n",
    "two basic vectors e(0),e(1)\n",
    "e'(1) e'(2) a different basis.\n",
    "\n",
    "A parametrized set in abstract V\n",
    "v : R R R -> V\n",
    "v(20,30,-3)\n",
    "It's a linear reprsentation / map\n",
    "v(X1,Y1) + v(X2,Y2) = v(X1 + X2, Y1 + Y2)\n",
    "\n",
    "dot(v(X,Y), v(W,Z)) = X*W + Y*Z\n",
    "\n",
    "<https://en.wikipedia.org/wiki/Vector_space>\n",
    "\n",
    "\n",
    "Interesting questions: Is a coordinate expression an invarinant?  f(X,Y,Z) ?= f'(p(X,Y,Z)). Converting coordinate expressions to invariant forms.\n",
    "axiomatic minkowski\n",
    "\n",
    "I don't know that there can be a canonical formulation of any logic.\n",
    "\n",
    "But equational logic is trees of symbols, some of which are variable symbols. The 0-arity constant symbol `x` is very different from the variable `X` `?x`.\n",
    "This distinction is useful. A statement `f(x) = 1` is a statement about the interaction of a particular `f` on a particular `x`. This may be an equation we'd like to solve for possibille values of `x`. `f(X) = 1` however is a universal statement. If we were working in forist order logic, which throws exists and forall quantifiers into the mix, this statement is the analog of `forall x, f_fol(x) =_fol 1_fol`. It is now stating nothing about a particular `x` but instead stating a global property of the function `f`, that `f` is the constant function.\n",
    "\n",
    "Coordinate systems are a tricky concept. The notation is quite slippery and you learn your way around it.\n",
    "\n",
    "Coordinates are an address book for points. They parametrize points such that.\n",
    "In other words a coordinate system *is* a function of the type `R^n -> M`\n",
    "\n",
    "The concept of a point is discussed in the textbooks, but it is an abstract entity. Since it doesn't really have calculational properties the way numbers, matrices, and numerical functions do. Even abstract things like quantum operators, kind of we have some matrix implementation in the back of my head. Points kind of have no operations on them in general. They can be in relation to other entities like curve, surfaces, etc, but there isn't a notion of point multiplication or addition or scaling except in very special spaces.\n",
    "\n",
    "There is a related notion for a coordinate system of `x : M -> R`.\n",
    "\n",
    "A coorindate transformation such as translation is written like `x' = x + a`. What are these `x`? This is certainly nonsensical as `X' = X + a`. It is also not exactly that we mean are talking about a particular `x` or `x'`. This might be so if we had a particular point of interest, `x'(p) = x(p) + a` but we are talking about transforming the coordinate *system* everywhere.\n",
    "Actually what we are saying is that for any point `x'(P) = x(P) + a`.\n",
    "\n",
    "Anyway, I think the appropriate notation here is\n",
    "\n",
    "```\n",
    "coord'(X,Y,Z) = coord(X - a, Y, Z)\n",
    "```\n",
    "\n",
    "Again, we get used to that if you have an expression `f(x')`,\n",
    "\n",
    "```bash\n",
    "cart : R^3 -> M\n",
    "cart(_,_,_)\n",
    "\n",
    "x y z : M -> R\n",
    "\n",
    "x(cart(X,Y,Z)) = X\n",
    "y(cart(X,Y,Z)) = Y\n",
    "\n",
    "cyl(R,T,Z) = cart(Rcos(T), Rsin(T), Z)\n",
    "cart(X,Y,Z) = cyl(sqrt(X^2 + Y^2), atan2(X,Y), Z)\n",
    "\n",
    "point : M\n",
    "\n",
    "dist : M -> M -> R\n",
    "dist(P1,P2) \n",
    "\n",
    "% hyperreals?\n",
    "\n",
    "\n",
    "a curve.\n",
    "p : R -> M\n",
    "p(T) = cart(T,T,0)\n",
    "\n",
    "\n",
    "%vector derivative\n",
    "% a rate of change of a function\n",
    "dp : (M -> R) -> R -> R  % (?)\n",
    "dp(f)(T) = f'(p(T)) * 2\n",
    "\n",
    "% vector field\n",
    "v : (M -> R) -> M -> R\n",
    "\n",
    "\n",
    "\n",
    "\n",
    "a surface\n",
    "q : M2 -> M\n",
    "\n",
    "chart : R^2 -> M2\n",
    "x(q(chart(X,Y))) =\n",
    "\n",
    "% exterior deriavtive\n",
    "d : (M -> R) -> M -> ?\n",
    "\n",
    "% a different cartersian coordinate system\n",
    "x(cart'(X,Y,Z)) = x(cart(X,Y,Z)) + a\n",
    "```\n",
    "\n",
    "it would be nice for the charts to be partial.\n"
   ]
  }
 ],
 "metadata": {
  "kernelspec": {
   "display_name": "Python 3",
   "language": "python",
   "name": "python3"
  },
  "language_info": {
   "codemirror_mode": {
    "name": "ipython",
    "version": 3
   },
   "file_extension": ".py",
   "mimetype": "text/x-python",
   "name": "python",
   "nbconvert_exporter": "python",
   "pygments_lexer": "ipython3",
   "version": "3.10.12"
  }
 },
 "nbformat": 4,
 "nbformat_minor": 2
}
