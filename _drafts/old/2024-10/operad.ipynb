{
 "cells": [
  {
   "cell_type": "code",
   "execution_count": null,
   "metadata": {},
   "outputs": [],
   "source": []
  },
  {
   "cell_type": "markdown",
   "metadata": {},
   "source": [
    "https://www.youtube.com/watch?v=zY3ROIyTSgI\n",
    "\n",
    "Graham says term rewriting with unique variables is an operad. You have a notion of n-composition.\n",
    "Equational theory with only affine / linear equations.\n",
    "It's a free operad? Operad of tree with labelled leaves\n",
    "\n",
    "\n",
    "\n",
    "monoid is operad\n",
    "\n",
    "\n",
    "\n",
    "\n",
    "\n",
    "\n"
   ]
  }
 ],
 "metadata": {
  "language_info": {
   "name": "python"
  }
 },
 "nbformat": 4,
 "nbformat_minor": 2
}
