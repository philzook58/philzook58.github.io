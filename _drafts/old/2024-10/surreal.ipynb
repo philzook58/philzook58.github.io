{
 "cells": [
  {
   "cell_type": "code",
   "execution_count": null,
   "metadata": {},
   "outputs": [],
   "source": []
  },
  {
   "cell_type": "markdown",
   "metadata": {},
   "source": [
    "https://github.com/aaron-siegel/cgsuite/blob/e909ab8bc330e39bc837d26b22bc8a96f9fa512a/lib/core/src/main/resources/org/cgsuite/help/docs/tutorials/advanced-topics/normal-values.cgsh cgsuite combinatorial game theory computer algebra system\n",
    "\n"
   ]
  },
  {
   "cell_type": "markdown",
   "metadata": {},
   "source": [
    "\n",
    "Ordinal intervals are a way to talk about ordinal sets.\n",
    "Or ordinal half spaces akin to dedekind cuts.  w represents the set of all naturals (of course.)\n",
    "\n",
    "The interval thing helps you not conflate though.\n",
    "\n",
    "presburger for intervals?  IntSet -> OrdSet?\n",
    "\n",
    "meet(a,b) =\n",
    "join(a,b) = \n",
    "a + b = \n",
    "\n",
    "\n",
    "Timely dataflow used structured timestamps. That gives them loops.\n",
    "Ordinal timestamps could talk about even deeper recursion?\n",
    "\n",
    "Goodstein sequence - make recursive deomposition of number in basis. Increment and subtract 1\n",
    "\n",
    "\n",
    "\n",
    "\n"
   ]
  },
  {
   "cell_type": "code",
   "execution_count": 14,
   "metadata": {},
   "outputs": [],
   "source": [
    "from hypothesis import given, note\n",
    "import hypothesis.strategies as st\n",
    "\n",
    "def base_expand(n, basis):\n",
    "    #if n == 0:\n",
    "    #    return [0]\n",
    "    digits = []\n",
    "    while n != 0:\n",
    "        digits.append(n % basis)\n",
    "        n = n // basis\n",
    "    return digits\n",
    "\n",
    "@given(st.integers(min_value=0), st.integers(min_value=2))\n",
    "def test_base(n,basis):\n",
    "    digits = base_expand(n,basis)\n",
    "    assert sum([d*basis**i for i,d in enumerate(digits)]) == n\n",
    "\n",
    "base_expand(1434,10)\n",
    "test_base()"
   ]
  },
  {
   "cell_type": "code",
   "execution_count": null,
   "metadata": {},
   "outputs": [],
   "source": [
    "class Interval:\n",
    "    low : any\n",
    "    high : any\n",
    "\n"
   ]
  }
 ],
 "metadata": {
  "kernelspec": {
   "display_name": "Python 3",
   "language": "python",
   "name": "python3"
  },
  "language_info": {
   "codemirror_mode": {
    "name": "ipython",
    "version": 3
   },
   "file_extension": ".py",
   "mimetype": "text/x-python",
   "name": "python",
   "nbconvert_exporter": "python",
   "pygments_lexer": "ipython3",
   "version": "3.10.12"
  }
 },
 "nbformat": 4,
 "nbformat_minor": 2
}
