{
 "cells": [
  {
   "cell_type": "code",
   "execution_count": null,
   "metadata": {},
   "outputs": [],
   "source": []
  },
  {
   "cell_type": "markdown",
   "metadata": {},
   "source": [
    "https://mpmath.org/\n",
    "\"nternally, mpmath represents a floating-point number (−1)sx⋅2y by a tuple (s, x, y, b) where x and y are arbitrary-size Python integers and the redundant integer b stores the bit length of x for quick access. If GMPY (Horsen, 2015) is installed, mpmath automatically uses the gmpy.mpz type for x, and GMPY methods for rounding-related operations, improving performance.\" https://peerj.com/articles/cs-103/\n",
    "\n",
    "\n",
    "\n",
    "https://www.youtube.com/watch?v=8tCcfR5COHc Automated Error Analysis of Numerical Kernels for High-Consequence Systems with Frama-C pollar. suggesting extensions to acsl\n",
    "https://sampollard.github.io/research/artifacts/pollard_ldrd24_presentation.pdf\n",
    "\n",
    "error models\n",
    "https://pavpanchekha.com/blog/epsilon-delta.html\n",
    "Eva https://malyzajko.github.io/\n",
    "\n",
    "\n",
    "https://www.cl.cam.ac.uk/~jrh13/fpv/index.html harrison floating point veification\n",
    "https://link.springer.com/article/10.1023/A:1008712907154 hrisson float point expoential tang\n",
    "\n",
    "\n",
    "\n",
    "Mini herbie using z3 egraph\n",
    "Direct lambdify to numpy\n",
    "\n",
    "numpy based axiom validation.\n",
    "\n",
    "\n",
    "https://www.cl.cam.ac.uk/~lp15/papers/Arith/\n",
    "https://dl.acm.org/doi/10.1145/3543670 formal verificatio nof trsacnednetla float - coward metritarksi\n",
    "references a list of known bounds \n",
    "Marc Daumas, David Lester, and César Munoz. 2008. Verified real number calculations: A library for interval arithmetic. IEEE Trans. Comput. 58, 2 (2008), 226–237. https://arxiv.org/pdf/0708.3721\n",
    "[17] Marc Daumas and Guillaume Melquiond. 2010. Certification of bounds on expressions involving rounded operators.\n",
    "ACM Transactions on Mathematical Software (TOMS) 37, 1 (2010), 2.\n",
    "\n",
    "derive bounds using z3 optimize or a branching procedure. We don't need the _tightest_ bounds.\n",
    "\n",
    "call gappa from knuckeldragger\n",
    "\n",
    "\n",
    "How to bootstrap:\n",
    "We should be fuzzing floats\n",
    "Quickcheck\n",
    "Hypothesis?\n",
    "\n",
    "Calcium - is computing on constants that useful?\n",
    "python flint taylor series approx.\n",
    "\n",
    "\n",
    "https://arxiv.org/pdf/2207.00921  Auto-active Verification of Floating-point Programs via Nonlinear Real Provers\n",
    "https://github.com/rasheedja/PropaFP\n",
    "\n",
    "dreal\n",
    "\n",
    "https://pages.saclay.inria.fr/sylvie.boldo/publis.html Sylvie Boldo\n",
    "Computer Arithmetic and Formal Proofs\n",
    "Verifying Floating-point Algorithms with the Coq System - book\n",
    "\n",
    "https://inria.hal.science/hal-01630143v2  Formally Verified Approximations of Definite Integrals\n",
    "\n",
    "lebesguq induction  https://inria.hal.science/hal-03564379v2"
   ]
  },
  {
   "cell_type": "markdown",
   "metadata": {},
   "source": [
    "# diy floaty\n",
    "aka softfloat\n",
    "\n",
    "ok actually doing it bit accurate is useful"
   ]
  },
  {
   "cell_type": "code",
   "execution_count": null,
   "metadata": {},
   "outputs": [],
   "source": [
    "from fractions import Fraction\n",
    "\n",
    "def myfloat(mant, exp):\n",
    "    return Fraction(mant) * 2 ** exp\n",
    "\n"
   ]
  },
  {
   "cell_type": "code",
   "execution_count": null,
   "metadata": {},
   "outputs": [],
   "source": [
    "C"
   ]
  },
  {
   "cell_type": "code",
   "execution_count": null,
   "metadata": {},
   "outputs": [],
   "source": [
    "class MyFloat():\n",
    "    mant : int\n",
    "    exp : int\n",
    "\n",
    "    def __add__(self, other):\n",
    "\n",
    "    def rnd()\n"
   ]
  },
  {
   "cell_type": "code",
   "execution_count": 87,
   "metadata": {},
   "outputs": [
    {
     "ename": "AttributeError",
     "evalue": "module 'kdrag' has no attribute 'Newtype'",
     "output_type": "error",
     "traceback": [
      "\u001b[0;31m---------------------------------------------------------------------------\u001b[0m",
      "\u001b[0;31mAttributeError\u001b[0m                            Traceback (most recent call last)",
      "Cell \u001b[0;32mIn[87], line 4\u001b[0m\n\u001b[1;32m      1\u001b[0m \u001b[38;5;28;01mimport\u001b[39;00m \u001b[38;5;21;01mkdrag\u001b[39;00m \u001b[38;5;28;01mas\u001b[39;00m \u001b[38;5;21;01mkd\u001b[39;00m\n\u001b[1;32m      2\u001b[0m \u001b[38;5;28;01mimport\u001b[39;00m \u001b[38;5;21;01mkdrag\u001b[39;00m\u001b[38;5;21;01m.\u001b[39;00m\u001b[38;5;21;01msmt\u001b[39;00m \u001b[38;5;28;01mas\u001b[39;00m \u001b[38;5;21;01msmt\u001b[39;00m\n\u001b[0;32m----> 4\u001b[0m RFloat32 \u001b[38;5;241m=\u001b[39m \u001b[43mkd\u001b[49m\u001b[38;5;241;43m.\u001b[39;49m\u001b[43mNewtype\u001b[49m(\u001b[38;5;124m'\u001b[39m\u001b[38;5;124mRFloat32\u001b[39m\u001b[38;5;124m'\u001b[39m, kd\u001b[38;5;241m.\u001b[39mR)\n\u001b[1;32m      5\u001b[0m x \u001b[38;5;241m=\u001b[39m smt\u001b[38;5;241m.\u001b[39mReal(\u001b[38;5;124m\"\u001b[39m\u001b[38;5;124mx\u001b[39m\u001b[38;5;124m\"\u001b[39m)\n\u001b[1;32m      6\u001b[0m eps32 \u001b[38;5;241m=\u001b[39m Function(\u001b[38;5;124m\"\u001b[39m\u001b[38;5;124meps32\u001b[39m\u001b[38;5;124m\"\u001b[39m, kd\u001b[38;5;241m.\u001b[39mR, kd\u001b[38;5;241m.\u001b[39mR) \n",
      "\u001b[0;31mAttributeError\u001b[0m: module 'kdrag' has no attribute 'Newtype'"
     ]
    }
   ],
   "source": [
    "import kdrag as kd\n",
    "import kdrag.smt as smt\n",
    "\n",
    "RFloat32 = kd.Newtype('RFloat32', kd.R)\n",
    "x = smt.Real(\"x\")\n",
    "eps32 = Function(\"eps32\", kd.R, kd.R) \n",
    "eps32_bnd = kd.axiom(smt.ForAll([x], And(-2**-23 <= eps32(x), eps32(x) <= 2**-23)))\n",
    "delta32 = Function(\"delta32\", kd.R, kd.R)\n",
    "delta32_bnd = kd.axiom(smt.ForAll([x], And(-2**-126 <= delta32(x), delta32(x) <= 2**-126)))\n",
    "x = smt.Real(\"x\")\n",
    "rnd32 = kd.define(\"rnd32\", [x], RFloat32.mk(x*(1+eps32(x)) + delta32(x)))\n",
    "x,y = smt.Consts(\"x y\", RFloat32)\n",
    "kd.notation.add.define([x,y], rnd32(x.val + y.val))\n",
    "\n",
    "\n"
   ]
  },
  {
   "cell_type": "markdown",
   "metadata": {},
   "source": [
    "# upper lower\n",
    "\n",
    "\n"
   ]
  },
  {
   "cell_type": "code",
   "execution_count": 94,
   "metadata": {},
   "outputs": [
    {
     "ename": "LemmaError",
     "evalue": "('lemma', ForAll(x, Implies(x >= 0, sqrt(x) >= x/(1/2*x + 1/2))), [|- ForAll(x, sqrt(x) == x**(1/2))], unknown)",
     "output_type": "error",
     "traceback": [
      "\u001b[0;31m---------------------------------------------------------------------------\u001b[0m",
      "\u001b[0;31mLemmaError\u001b[0m                                Traceback (most recent call last)",
      "Cell \u001b[0;32mIn[94], line 18\u001b[0m\n\u001b[1;32m     15\u001b[0m sqrt_lower_0 \u001b[38;5;241m=\u001b[39m kd\u001b[38;5;241m.\u001b[39mlemma(kd\u001b[38;5;241m.\u001b[39mQForAll([x], x \u001b[38;5;241m>\u001b[39m\u001b[38;5;241m=\u001b[39m \u001b[38;5;241m0\u001b[39m, real\u001b[38;5;241m.\u001b[39msqrt(x) \u001b[38;5;241m>\u001b[39m\u001b[38;5;241m=\u001b[39m x \u001b[38;5;241m/\u001b[39m (\u001b[38;5;241m0.5\u001b[39m\u001b[38;5;241m*\u001b[39mx \u001b[38;5;241m+\u001b[39m \u001b[38;5;241m0.5\u001b[39m)), by\u001b[38;5;241m=\u001b[39m[real\u001b[38;5;241m.\u001b[39msqrt_square, real\u001b[38;5;241m.\u001b[39msqrt_pos])\n\u001b[1;32m     17\u001b[0m \u001b[38;5;66;03m# This one fails. Our light abtsractions have defeated z3's ability to sovle stuff.\u001b[39;00m\n\u001b[0;32m---> 18\u001b[0m sqrt_lower_0 \u001b[38;5;241m=\u001b[39m \u001b[43mkd\u001b[49m\u001b[38;5;241;43m.\u001b[39;49m\u001b[43mlemma\u001b[49m\u001b[43m(\u001b[49m\u001b[43mkd\u001b[49m\u001b[38;5;241;43m.\u001b[39;49m\u001b[43mQForAll\u001b[49m\u001b[43m(\u001b[49m\u001b[43m[\u001b[49m\u001b[43mx\u001b[49m\u001b[43m]\u001b[49m\u001b[43m,\u001b[49m\u001b[43m \u001b[49m\u001b[43mx\u001b[49m\u001b[43m \u001b[49m\u001b[38;5;241;43m>\u001b[39;49m\u001b[38;5;241;43m=\u001b[39;49m\u001b[43m \u001b[49m\u001b[38;5;241;43m0\u001b[39;49m\u001b[43m,\u001b[49m\u001b[43m \u001b[49m\u001b[43mreal\u001b[49m\u001b[38;5;241;43m.\u001b[39;49m\u001b[43msqrt\u001b[49m\u001b[43m(\u001b[49m\u001b[43mx\u001b[49m\u001b[43m)\u001b[49m\u001b[43m \u001b[49m\u001b[38;5;241;43m>\u001b[39;49m\u001b[38;5;241;43m=\u001b[39;49m\u001b[43m \u001b[49m\u001b[43mx\u001b[49m\u001b[43m \u001b[49m\u001b[38;5;241;43m/\u001b[39;49m\u001b[43m \u001b[49m\u001b[43m(\u001b[49m\u001b[38;5;241;43m0.5\u001b[39;49m\u001b[38;5;241;43m*\u001b[39;49m\u001b[43mx\u001b[49m\u001b[43m \u001b[49m\u001b[38;5;241;43m+\u001b[39;49m\u001b[43m \u001b[49m\u001b[38;5;241;43m0.5\u001b[39;49m\u001b[43m)\u001b[49m\u001b[43m)\u001b[49m\u001b[43m,\u001b[49m\u001b[43m \u001b[49m\u001b[43mby\u001b[49m\u001b[38;5;241;43m=\u001b[39;49m\u001b[43m[\u001b[49m\u001b[43mreal\u001b[49m\u001b[38;5;241;43m.\u001b[39;49m\u001b[43msqrt\u001b[49m\u001b[38;5;241;43m.\u001b[39;49m\u001b[43mdefn\u001b[49m\u001b[43m]\u001b[49m\u001b[43m)\u001b[49m\n\u001b[1;32m     21\u001b[0m \u001b[38;5;66;03m# similarly for higher approximations\u001b[39;00m\n\u001b[1;32m     22\u001b[0m \n\u001b[1;32m     23\u001b[0m \u001b[38;5;66;03m#kd.search(kd.sqrt)\u001b[39;00m\n\u001b[1;32m     24\u001b[0m \u001b[38;5;28;01mdef\u001b[39;00m \u001b[38;5;21mapprox\u001b[39m():\n",
      "File \u001b[0;32m~/Documents/python/knuckledragger/kdrag/tactics.py:157\u001b[0m, in \u001b[0;36mlemma\u001b[0;34m(thm, by, admit, timeout, dump, solver, defns, simps)\u001b[0m\n\u001b[1;32m    155\u001b[0m     \u001b[38;5;28;01mif\u001b[39;00m res \u001b[38;5;241m==\u001b[39m smt\u001b[38;5;241m.\u001b[39msat:\n\u001b[1;32m    156\u001b[0m         \u001b[38;5;28;01mraise\u001b[39;00m kd\u001b[38;5;241m.\u001b[39mkernel\u001b[38;5;241m.\u001b[39mLemmaError(thm, by, \u001b[38;5;124m\"\u001b[39m\u001b[38;5;124mCountermodel\u001b[39m\u001b[38;5;124m\"\u001b[39m, s\u001b[38;5;241m.\u001b[39mmodel())\n\u001b[0;32m--> 157\u001b[0m     \u001b[38;5;28;01mraise\u001b[39;00m kd\u001b[38;5;241m.\u001b[39mkernel\u001b[38;5;241m.\u001b[39mLemmaError(\u001b[38;5;124m\"\u001b[39m\u001b[38;5;124mlemma\u001b[39m\u001b[38;5;124m\"\u001b[39m, thm, by, res)\n\u001b[1;32m    158\u001b[0m \u001b[38;5;28;01melse\u001b[39;00m:\n\u001b[1;32m    159\u001b[0m     core \u001b[38;5;241m=\u001b[39m s\u001b[38;5;241m.\u001b[39munsat_core()\n",
      "\u001b[0;31mLemmaError\u001b[0m: ('lemma', ForAll(x, Implies(x >= 0, sqrt(x) >= x/(1/2*x + 1/2))), [|- ForAll(x, sqrt(x) == x**(1/2))], unknown)"
     ]
    }
   ],
   "source": [
    "import kdrag as kd\n",
    "import kdrag.theories.real as real\n",
    "import kdrag.smt as smt\n",
    "\n",
    "x,y = smt.Reals(\"x y\")\n",
    "sqrt_upper_0 = kd.lemma(kd.QForAll([x], x >= 0, real.sqrt(x) <= 0.5*x + 0.5), by=[real.sqrt_square])\n",
    "\n",
    "c = kd.Calc([x], x, assume=[x >= 0])\n",
    "c.eq(real.sqrt(x) * real.sqrt(x), by=[real.sqrt_square])\n",
    "c.le(real.sqrt(x) * (0.5*x + 0.5), by=[sqrt_upper_0, real.sqrt_pos])\n",
    "_1 = c.qed()\n",
    "sqrt_lower_0 = kd.lemma(kd.QForAll([x], x >= 0, real.sqrt(x) >= x / (0.5*x + 0.5)), by=[_1])\n",
    "\n",
    "# alternatively in one shot\n",
    "sqrt_lower_0 = kd.lemma(kd.QForAll([x], x >= 0, real.sqrt(x) >= x / (0.5*x + 0.5)), by=[real.sqrt_square, real.sqrt_pos])\n",
    "\n",
    "# This one fails. Our light abtsractions have defeated z3's ability to solve stuff. Hmm. Why.\n",
    "sqrt_lower_0 = kd.lemma(kd.QForAll([x], x >= 0, real.sqrt(x) >= x / (0.5*x + 0.5)), by=[real.sqrt.defn])\n",
    "\n",
    "\n",
    "# similarly for higher approximations\n",
    "\n",
    "#kd.search(kd.sqrt)\n",
    "\n",
    "\n"
   ]
  },
  {
   "cell_type": "code",
   "execution_count": 115,
   "metadata": {},
   "outputs": [
    {
     "data": {
      "text/plain": [
       "... <= (1/16*x + 4)**2"
      ]
     },
     "execution_count": 115,
     "metadata": {},
     "output_type": "execute_result"
    }
   ],
   "source": [
    "c = kd.Calc([x], real.sqrt(x)**2, assume=[x >= 0])\n",
    "c.eq(x, by=[real.sqrt_square])\n",
    "a = 1/16\n",
    "c.le((a*x + 1/4/a) ** 2)"
   ]
  },
  {
   "cell_type": "code",
   "execution_count": 97,
   "metadata": {},
   "outputs": [
    {
     "name": "stdout",
     "output_type": "stream",
     "text": [
      "|- ForAll(x, Implies(x >= 0, sqrt(x) >= x/(1/2*x + 1/2)))\n",
      "|- ForAll(x,\n",
      "       Implies(x >= 0,\n",
      "               sqrt(x) <= (1/2*x + 1/2 + x/(1/2*x + 1/2))/2))\n",
      "|- ForAll(x,\n",
      "       Implies(x >= 0,\n",
      "               sqrt(x) >=\n",
      "               x/((1/2*x + 1/2 + x/(1/2*x + 1/2))/2)))\n",
      "|- ForAll(x,\n",
      "       Implies(x >= 0,\n",
      "               sqrt(x) <=\n",
      "               ((1/2*x + 1/2 + x/(1/2*x + 1/2))/2 +\n",
      "                x/((1/2*x + 1/2 + x/(1/2*x + 1/2))/2))/\n",
      "               2))\n"
     ]
    }
   ],
   "source": [
    "def approx_sqrt():\n",
    "    ub = 0.5 * x + 0.5\n",
    "    lb = 0\n",
    "    while True:\n",
    "        lb = x / ub\n",
    "        yield kd.lemma(kd.QForAll([x], x >= 0, real.sqrt(x) >= lb), by=[real.sqrt_square, real.sqrt_pos])\n",
    "        ub = (ub + lb) / 2\n",
    "        yield kd.lemma(kd.QForAll([x], x >= 0, real.sqrt(x) <= ub), by=[real.sqrt_square])\n",
    "\n",
    "j = approx_sqrt()\n",
    "for i in range(4):\n",
    "    print(next(j))"
   ]
  },
  {
   "cell_type": "code",
   "execution_count": 90,
   "metadata": {},
   "outputs": [
    {
     "name": "stdout",
     "output_type": "stream",
     "text": [
      "proved\n"
     ]
    },
    {
     "data": {
      "text/html": [
       "<b>unsat</b>"
      ],
      "text/plain": [
       "unsat"
      ]
     },
     "execution_count": 90,
     "metadata": {},
     "output_type": "execute_result"
    }
   ],
   "source": [
    "smt.prove(smt.Implies(x >= 0, x**(1/2) >= x/(0.5*x + 0.5)))\n",
    "s = smt.Solver() \n",
    "s.add(x >= 0)\n",
    "s.add(Not(x**(1/2) >= x/(0.5*x + 0.5)))\n",
    "s.check()\n",
    "#s.model().eval(x**1/2)"
   ]
  },
  {
   "cell_type": "code",
   "execution_count": 74,
   "metadata": {},
   "outputs": [
    {
     "data": {
      "text/plain": [
       "{'__main__': {'sqrt_upper_0': |- ForAll(x, Implies(x >= 0, sqrt(x) <= 1/2*x + 1/2))},\n",
       " 'kdrag.theories.real': {'add_0': |- ForAll(x, add(x, 0) == x),\n",
       "  'add_comm': |- ForAll([x, y], add(x, y) == add(y, x)),\n",
       "  'add_assoc': |- ForAll([x, y, z], add(x, add(y, z)) == add(add(x, y), z)),\n",
       "  'mul_def': |- ForAll([x, y], mul(x, y) == x*y),\n",
       "  'mul_zero': |- ForAll(x, mul(x, 0) == 0),\n",
       "  'mul_1': |- ForAll(x, mul(x, 1) == x),\n",
       "  'mul_comm': |- ForAll([x, y], mul(x, y) == mul(y, x)),\n",
       "  'mul_assoc': |- ForAll([x, y, z], mul(x, mul(y, z)) == mul(mul(x, y), z)),\n",
       "  'mul_distrib': |- ForAll([x, y, z],\n",
       "         mul(x, add(y, z)) == add(mul(x, y), mul(x, z))),\n",
       "  'sgn_abs': |- ForAll(x, x == absR(x)*ToReal(sgn(x))),\n",
       "  'abs_le': |- ForAll([x, y], (absR(x) <= y) == And(-y <= x, x <= y)),\n",
       "  'abs_idem': |- ForAll(x, absR(absR(x)) == absR(x)),\n",
       "  'abs_neg': |- ForAll(x, absR(-x) == absR(x)),\n",
       "  'abs_pos': |- ForAll(x, absR(x) >= 0),\n",
       "  'abs_add': |- ForAll([x, y], absR(x + y) <= absR(x) + absR(y)),\n",
       "  'abs_mul': |- ForAll([x, y], absR(x*y) == absR(x)*absR(y)),\n",
       "  'abs_triangle': |- ForAll([x, y, z], absR(x - y) <= absR(x - z) + absR(z - y)),\n",
       "  'nonneg_ge_0': |- ForAll(x, nonneg(x) == (x >= 0)),\n",
       "  'max_le': |- ForAll([x, y], (x <= y) == (max(x, y) == y)),\n",
       "  'max_comm': |- ForAll([x, y], max(x, y) == max(y, x)),\n",
       "  'max_assoc': |- ForAll([x, y, z], max(x, max(y, z)) == max(max(x, y), z)),\n",
       "  'max_idem': |- ForAll(x, max(x, x) == x),\n",
       "  'max_ge': |- ForAll([x, y], max(x, y) >= x),\n",
       "  'max_ge_2': |- ForAll([x, y], max(x, y) >= y),\n",
       "  'min_le': |- ForAll([x, y], (x <= y) == (min(x, y) == x)),\n",
       "  'min_comm': |- ForAll([x, y], min(x, y) == min(y, x)),\n",
       "  'min_assoc': |- ForAll([x, y, z], min(x, min(y, z)) == min(min(x, y), z)),\n",
       "  'min_idem': |- ForAll(x, min(x, x) == x),\n",
       "  'min_le_2': |- ForAll([x, y], min(x, y) <= x),\n",
       "  'min_le_3': |- ForAll([x, y], min(x, y) <= y),\n",
       "  'to_real_add': |- ForAll([n, m], ToReal(n + m) == ToReal(n) + ToReal(m)),\n",
       "  'to_real_sub': |- ForAll([n, m], ToReal(n - m) == ToReal(n) - ToReal(m)),\n",
       "  'to_real_mul': |- ForAll([n, m], ToReal(n*m) == ToReal(n)*ToReal(m)),\n",
       "  'to_real_neg': |- ForAll(n, ToReal(-n) == -ToReal(n)),\n",
       "  'to_real_inj': |- ForAll([n, m], (ToReal(n) == ToReal(m)) == (n == m)),\n",
       "  'to_real_mono': |- ForAll([n, m], (n < m) == (ToReal(n) < ToReal(m))),\n",
       "  'int_real_galois_lt': |- ForAll([x, n], (x < ToReal(n)) == (ToInt(x) < n)),\n",
       "  'int_real_galois_le': |- ForAll([x, n], (ToReal(n) <= x) == (n <= ToInt(x))),\n",
       "  '_2': |- ForAll(x, ToInt(floor(x)) == ToInt(x)),\n",
       "  'floor_idem': |- ForAll(x, floor(floor(x)) == floor(x)),\n",
       "  'floor_le': |- ForAll(x, floor(x) <= x),\n",
       "  'floor_gt': |- ForAll(x, x < floor(x) + 1),\n",
       "  'floor_minint': |- ForAll([n, x], (ToReal(n) <= x) == (ToReal(n) <= floor(x))),\n",
       "  'pow_add': |- ForAll([x, y, z],\n",
       "         Implies(x >= 0, pow(x, y + z) == pow(x, y)*pow(x, z))),\n",
       "  'pow_one': |- ForAll(x, pow(x, 1) == x),\n",
       "  '_1': |- Implies(x >= 0, (x**2)**(1/2) == x),\n",
       "  'sqrt_pos': |- ForAll(x, Implies(x >= 0, sqrt(x) >= 0)),\n",
       "  'sqrt_define': |- ForAll(x, sqrt(x) == x**(1/2)),\n",
       "  'sqrt_square': |- ForAll(x, Implies(x >= 0, sqrt(x)**2 == x)),\n",
       "  'sqr_sqrt': |- ForAll(x, Implies(x >= 0, sqr(sqrt(x)) == x)),\n",
       "  'sqrt_sqr': |- ForAll(x, Implies(x >= 0, sqrt(sqr(x)) == x)),\n",
       "  'exp_add': |- ForAll([x, y], exp(x + y) == exp(x)*exp(y)),\n",
       "  'exp_lower': |- ForAll(x, exp(x) >= 1 + x),\n",
       "  'exp_pos': |- ForAll(x, exp(x) > 0),\n",
       "  'exp_zero': |- ForAll(x, exp(0) == 1),\n",
       "  'exp_div': |- ForAll([x, y], exp(x)*exp(-x) == 1),\n",
       "  'exp_nzero': |- ForAll(x, exp(x) != 0),\n",
       "  'exp_inv': |- ForAll(x, exp(-x) == 1/exp(x)),\n",
       "  'pythag': |- ForAll(x, cos(x)**2 + sin(x)**2 == 1),\n",
       "  'cos_abs_le': |- ForAll(x, absR(cos(x)) <= 1),\n",
       "  'sin_abs_le': |- ForAll(x, absR(sin(x)) <= 1),\n",
       "  'cos_0': |- cos(0) == 1,\n",
       "  'sin_0': |- sin(0) == 0,\n",
       "  'pi_bnd': |- And(pi > 314159/100000, pi < 3927/1250),\n",
       "  'cos_pi': |- cos(pi) == -1,\n",
       "  'sin_pi': |- sin(pi) == 0,\n",
       "  'cos_neg': |- ForAll(x, cos(-x) == cos(x)),\n",
       "  'sin_neg': |- ForAll(x, sin(-x) == -sin(x)),\n",
       "  'cos_add': |- ForAll([x, y], cos(x + y) == cos(x)*cos(y) - sin(x)*sin(y)),\n",
       "  'sin_add': |- ForAll([x, y], sin(x + y) == sin(x)*cos(y) + cos(x)*sin(y))}}"
      ]
     },
     "execution_count": 74,
     "metadata": {},
     "output_type": "execute_result"
    }
   ],
   "source": [
    "db = kd.utils.lemma_db()\n",
    "db"
   ]
  },
  {
   "cell_type": "code",
   "execution_count": 118,
   "metadata": {},
   "outputs": [
    {
     "data": {
      "text/plain": [
       "[<matplotlib.lines.Line2D at 0x79e6053610f0>]"
      ]
     },
     "execution_count": 118,
     "metadata": {},
     "output_type": "execute_result"
    },
    {
     "data": {
      "image/png": "[encoded data removed]",
      "text/plain": [
       "<Figure size 640x480 with 1 Axes>"
      ]
     },
     "metadata": {},
     "output_type": "display_data"
    }
   ],
   "source": [
    "import numpy as np\n",
    "import matplotlib.pyplot as plt \n",
    "xs = np.linspace(0, 10, 100)\n",
    "ys = np.sqrt(xs)\n",
    "plt.plot(xs, ys)\n",
    "plt.plot(xs, 0.5*(xs - 1) + 1)\n",
    "#plt.plot(xs, xs + 0.25)\n",
    "#plt.plot(xs, xs / (0.5*xs + 0.5))"
   ]
  },
  {
   "cell_type": "code",
   "execution_count": null,
   "metadata": {},
   "outputs": [],
   "source": [
    "def nitpick(th):\n",
    "    # assume theorem of form QForAll([x], x >= 0, th)\n",
    "    # get pieces\n",
    "    # interpret into something\n",
    "calcium_map\n",
    "\n",
    "\n",
    "\n",
    "flint_map = {\n",
    "    real.sqrt : flint.sqrt,\n",
    "    real.sqr : flint.sqr,\n",
    "    real.exp : flint.exp,\n",
    "    real.ln : flint.ln,\n",
    "    real.sin : flint.sin,\n",
    "    real.cos : flint.cos,\n",
    "    real.tan : flint.tan,\n",
    "    real.atan : flint.atan,\n",
    "    real.pow : flint.pow,\n",
    "    (a + b).decl() : flint.add,\n",
    "    (a * b).decl() : flint.mul,\n",
    "    (a / b).decl() : flint.div,\n",
    "    (a - b).decl() : flint.sub,\n",
    "    (a ** b).decl() : flint.pow,\n",
    "\n",
    "}\n",
    "\n",
    "sympy_map = {\n",
    "    real.sqrt : sympy.sqrt,\n",
    "    real.sqr : lambda x: x**2,\n",
    "    real.exp : sympy.exp,\n",
    "    real.ln : sympy.ln,\n",
    "    real.sin : sympy.sin,\n",
    "    real.cos : sympy.cos,\n",
    "    real.tan : sympy.tan,\n",
    "    real.atan : sympy.atan,\n",
    "    real.pow : sympy.pow,\n",
    "    (a + b).decl() : sympy.Add,\n",
    "    (a * b).decl() : sympy.Mul,\n",
    "    (a / b).decl() : sympy.Div,\n",
    "    (a - b).decl() : sympy.Sub,\n",
    "    (a ** b).decl() : sympy.Pow,\n",
    "}\n",
    "inv_sympy_map = {v:k for k,v in sympy_map.items()}\n",
    "\n",
    "np_map = \n",
    "\n",
    "dreal_map = {}\n",
    "\n",
    "cvc5_map = {}\n",
    "\n",
    "def interp(e, env, decl_map):\n",
    "    if e in env:\n",
    "        return env[e]\n",
    "    \n",
    "    elif is_app(e):\n",
    "        decl = e.decl()\n",
    "        if decl in flint_map:\n",
    "            return flint_map[decl](*[interp(arg) for arg in e.children()])\n",
    "    assert False, f\"Can't interpret {e}\"\n",
    "    \n",
    "        \n",
    "\n"
   ]
  },
  {
   "cell_type": "markdown",
   "metadata": {},
   "source": [
    "Singularity checking.\n",
    "It might be a nice debugging thing to have sympy autolist the singularitiyes in an expression.\n",
    "\n",
    "\n",
    "\n"
   ]
  },
  {
   "cell_type": "markdown",
   "metadata": {},
   "source": [
    "# dreal"
   ]
  },
  {
   "cell_type": "markdown",
   "metadata": {},
   "source": [
    "# Fptaylor\n",
    "https://malyzajko.github.io/papers/sas2023a.pdf\n",
    "https://codac.io/tutorial/05-tubes/index.html\n",
    "https://github.com/JuliaIntervals/IntervalOptimisation.jl/blob/master/src/optimise.jl \"using the Moore-Skelboe algorithm\"\n",
    "Need rigorous globasl optimizer. dreal?\n",
    "codac?\n",
    "arb?\n",
    "\n",
    "fp fixed point just has d term (subnormal numbers are fixed point)\n",
    "\n",
    "https://coqinterval.gitlabpages.inria.fr/   forall x, -1 <= x <= 1 ->\n",
    "  sqrt (1 - x) <= 3/2.\n",
    "\n",
    "  https://lawrencecpaulson.github.io/2022/05/04/baby-examples.html\n",
    "  lemma \"sqrt 2 + sqrt 3 < sqrt 10\"\n",
    "\n",
    "  lemma\n",
    "  fixes a::real\n",
    "  shows \"(a*b + b * c + c*a)^3 ≤ (a^2 + a * b + b^2) * (b^2 + b * c + c^2) * (c^2 + c*a + a^2)\"\n",
    "  by sos"
   ]
  },
  {
   "cell_type": "code",
   "execution_count": null,
   "metadata": {},
   "outputs": [],
   "source": [
    "QForAll([x], x <= 2, 1 <= x, Abs(ToReal(ToFP(x)) - x) <= 0.001)"
   ]
  },
  {
   "cell_type": "code",
   "execution_count": null,
   "metadata": {},
   "outputs": [],
   "source": [
    "def rnd(x):\n",
    "    eps = arb(0, machine_eps)\n",
    "    d = arb(0, d)\n",
    "    return x*(1 + eps) + d # but this isn't the _error_"
   ]
  },
  {
   "cell_type": "markdown",
   "metadata": {},
   "source": [
    "Error, continuity\n",
    "Reverse error analysis ~ backprop\n"
   ]
  },
  {
   "cell_type": "code",
   "execution_count": null,
   "metadata": {},
   "outputs": [],
   "source": [
    "#it's kind of dual number ofmrulation\n",
    "#even a specific x will eventually become non specific upon compositionality.\n",
    "\n",
    "\n",
    "def rnd(x):\n",
    "    x,eps = x\n",
    "    eps = eps + x*interval(fixed)\n",
    "    return x + eps , eps\n",
    "\n"
   ]
  },
  {
   "cell_type": "code",
   "execution_count": null,
   "metadata": {},
   "outputs": [],
   "source": [
    "def arb_opt(f, x0, n):\n",
    "    \"\"\" simple interval bisection optimizer\"\"\"\n",
    "    heap = [(f(x0), x0)]\n",
    "    for i in range(n):\n",
    "        ys, x0 = heap.pop()\n",
    "        x0, x1 = x0.bisect()\n",
    "        heap.append((f(x1), x1))\n",
    "        heap.append((f(x0), x0))\n",
    "    return heap.pop()\n"
   ]
  },
  {
   "cell_type": "code",
   "execution_count": null,
   "metadata": {},
   "outputs": [],
   "source": [
    "import sympy as sp\n",
    "sp.symbols(\"x \\epsilon \\delta\")\n",
    "\n",
    "counter = 0\n",
    "def rnd(x):\n",
    "    counter += 1\n",
    "    eps, d = symbols(f\"\\epsilon_{counter} \\delta_{counter}\")\n",
    "    return eps, d, x*(1 + eps) + d \n",
    "\n",
    "def fptaylor_approx(f, x, eps, d):\n",
    "    R = \n",
    "    f.diff(eps) * eps + f.diff(x) * d + R\n",
    "\n"
   ]
  },
  {
   "cell_type": "markdown",
   "metadata": {},
   "source": [
    "# taylor models\n",
    "https://fredrikj.net/python-flint/general.html#power-series\n",
    "Yea so wait. Can I use flint?\n",
    "\n",
    "Usually I'd want an exact polynomial + error constant term, but if I get interval coefficients for free, sure.\n"
   ]
  },
  {
   "cell_type": "code",
   "execution_count": 71,
   "metadata": {},
   "outputs": [
    {
     "name": "stdout",
     "output_type": "stream",
     "text": [
      "([0.0416666666666667 +/- 4.26e-17])*x^4 + ([0.166666666666667 +/- 3.71e-16])*x^3 + 0.500000000000000*x^2 + 1.00000000000000*x + 1.00000000000000\n",
      "([0.0416666666666667 +/- 4.26e-17])*x^4 + ([0.166666666666667 +/- 3.71e-16])*x^3 + 0.500000000000000*x^2 + 1.00000000000000*x + 1.00000000000000\n"
     ]
    },
    {
     "data": {
      "text/plain": [
       "([0.166666666666667 +/- 3.71e-16])*x^3 + 0.500000000000000*x^2 + 1.00000000000000*x + ([1.0 +/- 0.0417])"
      ]
     },
     "execution_count": 71,
     "metadata": {},
     "output_type": "execute_result"
    }
   ],
   "source": [
    "y = arb_poly()\n",
    "for i in range(5):\n",
    "    y = 1 + y.integral()\n",
    "y\n",
    "a = arb_poly(y.coeffs()[:4])\n",
    "b = arb_poly([0]*4 + y.coeffs()[4:])\n",
    "b\n",
    "\n",
    "dom = arb(mid=(4,-1),rad=(1,0))\n",
    "dom\n",
    "dom = arb(mid=0.5, rad=0.5)\n",
    "dom.abs_lower()\n",
    "y(dom)\n",
    "print(b + a) \n",
    "print(y)\n",
    "\n",
    "a + b(dom)\n",
    "\n"
   ]
  },
  {
   "cell_type": "code",
   "execution_count": 85,
   "metadata": {},
   "outputs": [
    {
     "name": "stdout",
     "output_type": "stream",
     "text": [
      "([2.755732e-6 +/- 8.36e-13])*x^9 + ([2.480159e-5 +/- 9.52e-12])*x^8 + ([0.0001984127 +/- 5.62e-11])*x^7 + ([0.001388889 +/- 4.94e-10])*x^6 + ([0.00833333 +/- 5.63e-9])*x^5 + ([0.0416667 +/- 4.48e-8])*x^4 + ([0.1666667 +/- 7.92e-8])*x^3 + ([0.500000 +/- 1.38e-7])*x^2 + ([1.000000 +/- 2.76e-7])*x + ([1.000000 +/- 2.76e-7])\n"
     ]
    },
    {
     "data": {
      "text/plain": [
       "<matplotlib.legend.Legend at 0x7abf92c209a0>"
      ]
     },
     "execution_count": 85,
     "metadata": {},
     "output_type": "execute_result"
    },
    {
     "data": {
      "image/png": "[encoded data removed]",
      "text/plain": [
       "<Figure size 640x480 with 1 Axes>"
      ]
     },
     "metadata": {},
     "output_type": "display_data"
    }
   ],
   "source": [
    "ctx.dps = 100\n",
    "N = 10\n",
    "y = arb_poly()\n",
    "for i in range(30):\n",
    "    y1 = 1 + y.integral()\n",
    "    a = arb_poly(y1.coeffs()[:N])\n",
    "    b = arb_poly([0]*N + y1.coeffs()[N:])\n",
    "    y = a + b(dom)\n",
    "    #print(y in y1)\n",
    "print(y)\n",
    "\n",
    "from matplotlib import pyplot as plt\n",
    "import numpy as np\n",
    "np.linspace(0, 1, 100)\n",
    "#plt.plot()\n",
    "\n",
    "def arb_linspace(a,b, n):\n",
    "    return [arb(mid=(a + i*(b-a)/n), rad=(b-a)/n) for i in range(n)]\n",
    "xs = arb_linspace(0,1,100)\n",
    "ys = [y(x) for x in xs]\n",
    "upper = [y.upper() for y in ys]\n",
    "lower = [y.lower() for y in ys]\n",
    "xmid = [x.mid() for x in xs]\n",
    "plt.plot(xmid, upper, label=\"upper\")\n",
    "plt.plot(xmid, lower, label=\"lower\")\n",
    "plt.plot(xmid, [x.exp().mid() for x in xs], label=\"exp\")\n",
    "plt.legend()"
   ]
  },
  {
   "cell_type": "code",
   "execution_count": 14,
   "metadata": {},
   "outputs": [
    {
     "data": {
      "text/plain": [
       "x + O(x^3)"
      ]
     },
     "execution_count": 14,
     "metadata": {},
     "output_type": "execute_result"
    }
   ],
   "source": [
    "from flint import *\n",
    "fmpq_series([0,1])"
   ]
  },
  {
   "cell_type": "code",
   "execution_count": null,
   "metadata": {},
   "outputs": [],
   "source": []
  },
  {
   "cell_type": "code",
   "execution_count": 2,
   "metadata": {},
   "outputs": [
    {
     "data": {
      "text/plain": [
       "([2.71828182845905 +/- 5.36e-15]) + ([8.15484548537713 +/- 7.07e-15])*x + ([23.1053955419019 +/- 2.53e-14])*x^2 + ([44.8516501695742 +/- 5.92e-14])*x^3 + ([79.8495287109844 +/- 8.06e-14])*x^4 + ([119.672357497909 +/- 5.21e-13])*x^5 + ([166.302217030267 +/- 4.32e-13])*x^6 + ([208.040787296297 +/- 5.57e-13])*x^7 + ([244.317512266379 +/- 7.50e-13])*x^8 + ([266.364315018834 +/- 7.15e-13])*x^9 + O(x^10)"
      ]
     },
     "execution_count": 2,
     "metadata": {},
     "output_type": "execute_result"
    }
   ],
   "source": [
    "arb_series([1,3,4]).exp()"
   ]
  },
  {
   "cell_type": "code",
   "execution_count": 4,
   "metadata": {},
   "outputs": [
    {
     "data": {
      "text/plain": [
       "([2.71828182845905 +/- 5.36e-15]) + ([2.71828182845905 +/- 5.36e-15])*x + ([1.35914091422952 +/- 2.78e-15])*x^2 + ([0.453046971409841 +/- 2.27e-16])*x^3 + ([0.113261742852460 +/- 2.31e-16])*x^4 + ([0.0226523485704920 +/- 4.90e-17])*x^5 + ([0.00377539142841534 +/- 1.64e-18])*x^6 + ([0.000539341632630763 +/- 5.32e-19])*x^7 + ([6.74177040788454e-5 +/- 9.15e-20])*x^8 + ([7.4908560087606e-6 +/- 1.13e-20])*x^9 + O(x^10)"
      ]
     },
     "execution_count": 4,
     "metadata": {},
     "output_type": "execute_result"
    }
   ],
   "source": [
    "arb_series([1,1]).exp()"
   ]
  },
  {
   "cell_type": "code",
   "execution_count": 13,
   "metadata": {},
   "outputs": [
    {
     "data": {
      "text/plain": [
       "1.00000000000000 + 2.00000000000000*x + 3.00000000000000*x^2 + O(x^3)"
      ]
     },
     "execution_count": 13,
     "metadata": {},
     "output_type": "execute_result"
    }
   ],
   "source": [
    "ctx.cap = 3\n",
    "arb_series([1,1,1,1,1]) **2"
   ]
  },
  {
   "cell_type": "markdown",
   "metadata": {},
   "source": [
    "# Why3\n",
    "Why3 has good aixoms\n",
    "Just copy them, see where that gets us\n",
    "fluctuat https://flocq.gitlabpages.inria.fr/\n",
    "https://coqinterval.gitlabpages.inria.fr/\n",
    "http://coquelicot.saclay.inria.fr/\n",
    "\n",
    "https://www.why3.org/stdlib/floating_point.html\n",
    "https://www.why3.org/stdlib/mach.float.html\n",
    "https://www.isa-afp.org/entries/IEEE_Floating_Point.html\n",
    "\n",
    "https://www.philipzucker.com/stupid-is-as-stupid-does-floating-point-in-z3py/"
   ]
  },
  {
   "cell_type": "code",
   "execution_count": 3,
   "metadata": {},
   "outputs": [
    {
     "data": {
      "text/plain": [
       "<function z3.z3.fpIsZero(a, ctx=None)>"
      ]
     },
     "execution_count": 3,
     "metadata": {},
     "output_type": "execute_result"
    }
   ],
   "source": [
    "import kdrag as kd\n",
    "import kdrag.smt as smt\n",
    "from z3 import *\n",
    "RNE()\n",
    "\n",
    "fpAdd\n",
    "fpMul\n",
    "fpSub\n",
    "fpSqrt\n",
    "\n",
    "fpIsPositive\n",
    "fpIsZero\n"
   ]
  },
  {
   "cell_type": "code",
   "execution_count": 15,
   "metadata": {},
   "outputs": [
    {
     "name": "stdout",
     "output_type": "stream",
     "text": [
      "proved\n"
     ]
    }
   ],
   "source": [
    "x,y = Consts(\"x y\", FloatDouble())\n",
    "kd.notation.add.define([x,y], fpAdd(RNE(), x, y))\n",
    "kd.notation.sub.define([x,y], fpSub(RNE(), x, y))\n",
    "kd.notation.mul.define([x,y], fpMul(RNE(), x, y))\n",
    "#kd.notation.sqrt.define([x], fpSqrt(RNE(), x))\n",
    "\n",
    "prove(x + x == 2*x)\n",
    "#prove(x + x + x == 3*x)"
   ]
  },
  {
   "cell_type": "code",
   "execution_count": 23,
   "metadata": {},
   "outputs": [
    {
     "data": {
      "text/html": [
       "fpToFP(RNE(), q)"
      ],
      "text/plain": [
       "fpToFP(RNE(), q)"
      ]
     },
     "execution_count": 23,
     "metadata": {},
     "output_type": "execute_result"
    }
   ],
   "source": [
    "q = Real(\"q\")\n",
    "fpRoundToIntegral(RNE(), x)\n",
    "#fpRealToFP(RNE(), q, FloatDouble())\n",
    "fpToFP(RNE(), q, FloatDouble())"
   ]
  },
  {
   "cell_type": "code",
   "execution_count": 28,
   "metadata": {},
   "outputs": [],
   "source": [
    "from hypothesis import given\n",
    "from hypothesis.strategies import text, floats, integers, booleans, composite, one_of, sampled_from\n",
    "\n",
    "@given(floats(allow_nan=False, allow_infinity=False))\n",
    "def test_fpAdd(x):\n",
    "    assert x*x >= 0\n",
    "\n",
    "test_fpAdd()\n",
    "#fpSub(fpadd(x,x), fpMul(x,2))\n"
   ]
  },
  {
   "cell_type": "code",
   "execution_count": 35,
   "metadata": {},
   "outputs": [],
   "source": [
    "from hypothesis.extra.numpy import arrays\n",
    "import numpy as np\n",
    "@given(arrays(dtype=np.float64, shape=(2,),elements=floats(0,1)))\n",
    "              # elements=floats(allow_nan=False, allow_infinity=False)))\n",
    "              # overflow detected\n",
    "def test_array(a):\n",
    "    assert a[0] + a[1] == a[1] + a[0]\n",
    "test_array()"
   ]
  },
  {
   "cell_type": "markdown",
   "metadata": {},
   "source": [
    "\n",
    "def \tget_default_rounding_mode (ctx=None\n",
    "def \tset_default_rounding_mode (rm, ctx=None)\n",
    "def \tget_default_fp_sort (ctx=None)\n",
    "def \tset_default_fp_sort (ebits, sbits, ctx=None)\n",
    "def \tFloat16 (ctx=None)\n",
    "def \tFloatHalf (ctx=None)\n",
    "def \tFloat32 (ctx=None)\n",
    "def \tFloatSingle (ctx=None)\n",
    "def \tFloat64 (ctx=None)\n",
    "def \tFloatDouble (ctx=None)\n",
    "def \tFloat128 (ctx=None)\n",
    "def \tFloatQuadruple (ctx=None)\n",
    "def \tis_fp_sort (s)\n",
    "def \tis_fprm_sort (s)\n",
    "def \tRoundNearestTiesToEven (ctx=None)\n",
    "def \tRNE (ctx=None)\n",
    "def \tRoundNearestTiesToAway (ctx=None)\n",
    "def \tRNA (ctx=None)\n",
    "def \tRoundTowardPositive (ctx=None)\n",
    "def \tRTP (ctx=None)\n",
    "def \tRoundTowardNegative (ctx=None)\n",
    "def \tRTN (ctx=None)\n",
    "def \tRoundTowardZero (ctx=None)\n",
    "def \tRTZ (ctx=None)\n",
    "def \tis_fprm (a)\n",
    "def \tis_fprm_value (a)\n",
    "def \tis_fp (a)\n",
    "def \tis_fp_value (a)\n",
    "def \tFPSort (ebits, sbits, ctx=None)\n",
    "def \tfpNaN (s)\n",
    "def \tfpPlusInfinity (s)\n",
    "def \tfpMinusInfinity (s)\n",
    "def \tfpInfinity (s, negative)\n",
    "def \tfpPlusZero (s)\n",
    "def \tfpMinusZero (s)\n",
    "def \tfpZero (s, negative)\n",
    "def \tFPVal (sig, exp=None, fps=None, ctx=None)\n",
    "def \tFP (name, fpsort, ctx=None)\n",
    "def \tFPs (names, fpsort, ctx=None)\n",
    "def \tfpAbs (a, ctx=None)\n",
    "def \tfpNeg (a, ctx=None)\n",
    "def \tfpAdd (rm, a, b, ctx=None)\n",
    "def \tfpSub (rm, a, b, ctx=None)\n",
    "def \tfpMul (rm, a, b, ctx=None)\n",
    "def \tfpDiv (rm, a, b, ctx=None)\n",
    "def \tfpRem (a, b, ctx=None)\n",
    "def \tfpMin (a, b, ctx=None)\n",
    "def \tfpMax (a, b, ctx=None)\n",
    "def \tfpFMA (rm, a, b, c, ctx=None)\n",
    "def \tfpSqrt (rm, a, ctx=None)\n",
    "def \tfpRoundToIntegral (rm, a, ctx=None)\n",
    "def \tfpIsNaN (a, ctx=None)\n",
    "def \tfpIsInf (a, ctx=None)\n",
    "def \tfpIsZero (a, ctx=None)\n",
    "def \tfpIsNormal (a, ctx=None)\n",
    "def \tfpIsSubnormal (a, ctx=None)\n",
    "def \tfpIsNegative (a, ctx=None)\n",
    "def \tfpIsPositive (a, ctx=None)\n",
    "def \tfpLT (a, b, ctx=None)\n",
    "def \tfpLEQ (a, b, ctx=None)\n",
    "def \tfpGT (a, b, ctx=None)\n",
    "def \tfpGEQ (a, b, ctx=None)\n",
    "def \tfpEQ (a, b, ctx=None)\n",
    "def \tfpNEQ (a, b, ctx=None)\n",
    "def \tfpFP (sgn, exp, sig, ctx=None)\n",
    "def \tfpToFP (a1, a2=None, a3=None, ctx=None)\n",
    "def \tfpBVToFP (v, sort, ctx=None)\n",
    "def \tfpFPToFP (rm, v, sort, ctx=None)\n",
    "def \tfpRealToFP (rm, v, sort, ctx=None)\n",
    "def \tfpSignedToFP (rm, v, sort, ctx=None)\n",
    "def \tfpUnsignedToFP (rm, v, sort, ctx=None)\n",
    "def \tfpToFPUnsigned (rm, x, s, ctx=None)\n",
    "def \tfpToSBV (rm, x, s, ctx=None)\n",
    "def \tfpToUBV (rm, x, s, ctx=None)\n",
    "def \tfpToReal (x, ctx=None)\n",
    "def \tfpToIEEEBV (x, ctx=None)"
   ]
  },
  {
   "cell_type": "markdown",
   "metadata": {},
   "source": [
    "# Fixed Point\n",
    "\n",
    "https://www.hackster.io/adam-taylor/doing-math-in-fpga-3aa701\n",
    "\n",
    "https://hardwaredescriptions.com/elementor-fixed-point-arithmetic-in-synthesizable-vhdl/\n",
    "\n"
   ]
  },
  {
   "cell_type": "code",
   "execution_count": 23,
   "metadata": {},
   "outputs": [
    {
     "data": {
      "text/html": [
       "&#8870;val(add(add(a, b), c)) - (val(a) + val(b) + val(c)) <= 1/5"
      ],
      "text/plain": [
       "|- val(add(add(a, b), c)) - (val(a) + val(b) + val(c)) <= 1/5"
      ]
     },
     "execution_count": 23,
     "metadata": {},
     "output_type": "execute_result"
    }
   ],
   "source": [
    "import knuckledragger as kd\n",
    "import knuckledragger.theories.Real as R\n",
    "\n",
    "import numpy as np\n",
    "\n",
    "#rnd = kd.smt.Function(\"rnd\", kd.R, kd.R, kd.R) #fixed point rounding\n",
    "#kd.axiom(kd.smt.ForAll([x, y], R.abs(rnd(x, y) - x) <= y)) # This is the important axiom to derive from\n",
    "\n",
    "def Fixed(eps):\n",
    "    F = kd.Record(f\"Fixed_{eps}\", (\"val\", kd.R ))\n",
    "    x,y,z = kd.smt.Consts(\"x y z\", F)\n",
    "    a,b,c = kd.smt.Consts(\"a b c\", kd.R)\n",
    "    rnd = kd.smt.Function(f\"rnd_{eps}\", kd.R, F)\n",
    "    #F.wf = rnd(x).val == x.val # hmm.\n",
    "    F.rnd = rnd\n",
    "    # F.rnd = kd.define(\"rnd\", [x], F.mk(R.floor(x / eps) * eps))\n",
    "    F.rnd_defn = kd.axiom(kd.smt.ForAll([a], R.abs(rnd(a).val - a) <= eps))\n",
    "    # F.rnd_bnd = kd.axiom(kd.smt.ForAll([x, y], smt.And(eps <= rnd(x).val - x,  rnd(x).val - x.val <= eps))\n",
    "    # probably not as important\n",
    "    #F.rnd_idem = kd.axiom(kd.smt.ForAll([x, y], rnd(rnd(x).val).val == x))\n",
    "    F.add = kd.notation.add.define([x,y], rnd(x.val + y.val))\n",
    "    kd.notation.mul.define([x,y], rnd(x.val * y.val))\n",
    "    kd.notation.sub.define([x,y], rnd(x.val - y.val))\n",
    "    kd.notation.div.define([x,y], rnd(x.val / y.val))\n",
    "    F.fma = kd.define(\"fma\", [x,y,z], rnd(x.val * y.val + z.val))\n",
    "    return F\n",
    "    \n",
    "\n",
    "F = Fixed(0.1)\n",
    "\n",
    "\n",
    "a,b,c = kd.smt.Consts(\"a b c\", F)\n",
    "\n",
    "def mycalc(a,b,c):\n",
    "    return a + b + c\n",
    "\n",
    "\n",
    "kd.lemma(mycalc(a,b,c).val - mycalc(a.val, b.val, c.val) <= 0.2, by=[F.rnd_defn, F.add.defn, R.abs.defn])\n",
    "# How to atudoderive 0.2?\n",
    "# just use gappa or similar?\n",
    "# traverse expression to find intermiedtae bounds.\n",
    "def auto_bnd(x, guess=None):\n",
    "    bnd = 2**10\n",
    "    trykd.lemma(x <= bnd,  by=[F.rnd_defn, F.add.defn, R.abs.defn])\n",
    "\n",
    "\n",
    "\n"
   ]
  },
  {
   "cell_type": "code",
   "execution_count": null,
   "metadata": {},
   "outputs": [],
   "source": [
    "\n",
    "expF = kd.define(\"expF\", [x], kd.exp(x.val))\n",
    "\n",
    "\n",
    "# JUST work with lagrange remainder form\n",
    "exp_approx = kd.axiom(exp(x) - (1 + x + x**2 / 2 + x**3 / 3) <= exp(x) * x**4 / 4)\n",
    "\n",
    "# can I iterate this to arbitrary accuracy?\n",
    "exp_approx = kd.axiom(exp(x) <= 1 + exp(x) * x) # lagrange form uppper boudn.\n",
    "exp_lower = kd.axiom(exp(x) >= 1 + x) # lagrange form f' = exp(x) >= 1 is x >= 0. Turns out the always be true via\n",
    "\n",
    "exp = kd.axiom(exp(x) == 1 + exp(eps) * x), 0 <= eps <= x\n",
    "exp = kd.axiom(exp(x) == 1 + (1 + exp(eps2) * eps) * x ),  0 <= eps2 <= eps <= x\n",
    "\n",
    "# we need to find the remainder point. Or have an pproximation scheme to it.\n",
    "eps ~ (exp(x) - 1 - x) / (x  * exp(eps2)) \n",
    "\n",
    "# some kind of guess of eps(x) would help.\n",
    "exp(x) >= 0\n",
    "exp(eps) >= 1 # becasue eps >= 0\n",
    "1 + x + x**2 +  = 1 / 1 - x\n",
    "\n",
    "# exp(x) <= (1 + x) / (1 + x**2/2)? Huh \n",
    "\n",
    "# finite integration\n",
    "exp(x) = exp(x/2) + exp(eps) (x  - x/2)\n",
    "exp(x/2) = exp(0) + exp(eps1) (x/2 - 0)\n",
    "exp(x) = exp(0) + exp(eps1) (x/2) + exp(eps) (x/2) , 0 <= eps1 <= x/2 <= eps <= x\n",
    "\n",
    "# tube\n",
    "\n",
    "pow2(x) <= exp(x) <= pow2(x+1) # 2^x <= e^x <= 4^x aka 2 <= e <= 4\n",
    "\n",
    "And(Implies( box(x,0,1), box(exp(x), 1, )))\n",
    "\n",
    "\n",
    "# we're asying it obeys an integral eqaution. But we havve to use a fixed point lemma like picard lindelof to show there is value\n",
    "# we've definied it but we need another principle to bootstrap an actual value.\n",
    "\n",
    "Implies( QForAll([x], 0 <= x <= 1, b <= exp(x) <= a),  d < exp(x) < c  )  \n",
    "\n",
    "\n",
    "(i1 -> i2) -> (i2 -> i3)\n",
    "\n",
    "\n",
    "bisect_f(I) = If( mid(i) <= exp())\n",
    "\n",
    "def box(l,x,u):\n",
    "    return And(l <= x, x <= u)\n",
    "\n",
    "sqrt(x) = sqrt(1) + \n",
    "\n",
    "ln(x) = ln(1) + 1 / eps * (x - 1), 1 <= eps <= x\n",
    "\n",
    "ln(1 - x) = ln(1 - x/2) + 1/ eps * (x/2)\n",
    "ln(1-x/2) = ln(1) + 1/eps1 * (x/2 - 1)\n",
    "\n",
    "eps * ln(1-x) = x  # exists 1 <= eps <= x st \n",
    "# 1 <= ln() <= x \n",
    "\n",
    "ln(1 - x) = \n",
    "\n",
    "# https://en.wikipedia.org/wiki/Inverse_function_theorem + mvt\n",
    "exp(x) = ln^-1(x) = exp(0) + ( 1 / exp(x) ) x # ???\n",
    "\n",
    "\n",
    "bisect_sqrt(x,a,b) = If((a + b / 2)**2 <= x, bisect_sqrt(x, a, (a + b) / 2), bisect_sqrt(x, (a + b) / 2, b))\n",
    "\n",
    "# watch out and propagate going out of bounds\n",
    "def Fixed2(eps, max):\n",
    "    F = Datatype(f\"Fixed_{eps}_{max}\")\n",
    "    F.declare(\"NaN\")\n",
    "    F.declare(\"Inf\")\n",
    "\n",
    "https://en.wikipedia.org/wiki/Banach_fixed-point_theorem\n",
    "Basically, geometric series bound on norm\n",
    "\n",
    "\n",
    "geom(x,n) = x**n\n",
    "\n",
    "\n"
   ]
  },
  {
   "cell_type": "markdown",
   "metadata": {},
   "source": []
  },
  {
   "cell_type": "markdown",
   "metadata": {},
   "source": [
    "# FPTalks\n"
   ]
  },
  {
   "cell_type": "markdown",
   "metadata": {},
   "source": [
    "https://colab.research.google.com/drive/1bqXS207E4IerbiXSTGKm1KIKAHyjCK50"
   ]
  },
  {
   "cell_type": "code",
   "execution_count": 2,
   "metadata": {},
   "outputs": [
    {
     "data": {
      "text/plain": [
       "1.1920929e-07"
      ]
     },
     "execution_count": 2,
     "metadata": {},
     "output_type": "execute_result"
    }
   ],
   "source": [
    "import numpy as np\n",
    "def ulp(func=np.float32):\n",
    "    u = func(1)\n",
    "    while func(1)+func(u) != func(1):\n",
    "        u_last = u\n",
    "        u = func(u) / func(2)\n",
    "    return u_last\n",
    "ulp32=ulp(np.float32)\n",
    "ulp32"
   ]
  },
  {
   "cell_type": "markdown",
   "metadata": {},
   "source": [
    "eva  - compiler for the reals\n",
    "\n",
    "nominal completion nd slotted egraphs\n",
    "f(e2(a), e3(a,b)) -> e1(a,b)\n",
    "\n",
    "op = 1+e) + d\n",
    "d for denormla\n",
    "\n",
    "posits\n",
    "\n",
    "x*x + y*y\n",
    "\n",
    "datflow - fatser\n",
    "daisy\n",
    "fluctuat\n",
    "\n",
    "optimzation - optimization\n",
    "fptaylor\n",
    "precisa\n",
    "\n",
    "non modular, no loops\n",
    "SAS modulao\n",
    "\n",
    "hugo tool.\n",
    "\n",
    "<https://github.com/soarlab/FPTaylor>\n",
    "<https://github.com/malyzajko/daisy>\n",
    "\n",
    "(Handbook of mathemtical functions)\n",
    "Kalmand filters\n",
    "\n",
    "heat equation loop\n",
    "\n",
    "satire tool and fluctat\n",
    "<https://github.com/arnabd88/Satire>\n",
    "\n",
    "<https://github.com/soarlab/gelpia>\n",
    "\n",
    "conditionals. are still tough\n",
    "\n",
    "a and b are *atoms*\n",
    "So we are 3 flat instead of 2 flat\n",
    "\n",
    "Propel talk diseaqlity forbid. Good chat with him.\n",
    "\n",
    "https://github.com/metalibm/metalibm\n",
    "\n",
    "https://gappa.gitlabpages.inria.fr/gappa/index.html"
   ]
  },
  {
   "cell_type": "code",
   "execution_count": 2,
   "metadata": {},
   "outputs": [
    {
     "name": "stdout",
     "output_type": "stream",
     "text": [
      "Writing /tmp/testgappa.g\n"
     ]
    }
   ],
   "source": [
    "%%file /tmp/testgappa.g\n",
    "{ x in [-2,2] -> x * x in ? }"
   ]
  },
  {
   "cell_type": "code",
   "execution_count": 6,
   "metadata": {},
   "outputs": [
    {
     "name": "stdout",
     "output_type": "stream",
     "text": [
      "Results:\n",
      "  x * x in [0, 4]\n",
      "Under the following hypotheses $$\\label{g1}\n",
      "\\left( \\left| \\mathit{x} \\right| \\le2 \\land \\neg\\left( \\mathit{x} \\times \\mathit{x} \\in [0,4] \\right) \\right),$$\n",
      "one can deduce the following properties: $$\\label{l2}\n",
      "\\neg\\left( \\mathit{x} \\times \\mathit{x} \\in [0,4] \\right)$$ by using\n",
      "([\\[g1\\]](#g1){reference-type=\"ref\" reference=\"g1\"}), and selecting a\n",
      "component. $$\\label{l5}\n",
      "\\left| \\mathit{x} \\right| \\le2$$ by using\n",
      "([\\[g1\\]](#g1){reference-type=\"ref\" reference=\"g1\"}), and selecting a\n",
      "component. $$\\label{l4}\n",
      "\\left| \\mathit{x} \\right| \\le 2$$ by using\n",
      "([\\[l5\\]](#l5){reference-type=\"ref\" reference=\"l5\"}), and theorem\n",
      "`abs_of_bnd_o`. $$\\label{l3}\n",
      "\\mathit{x} \\times \\mathit{x} \\in [0,4]$$ by using\n",
      "([\\[l4\\]](#l4){reference-type=\"ref\" reference=\"l4\"}), and theorem\n",
      "`square`. $$\\label{l1}\n",
      "\\bot$$ by using ([\\[l2\\]](#l2){reference-type=\"ref\" reference=\"l2\"}),\n",
      "([\\[l3\\]](#l3){reference-type=\"ref\" reference=\"l3\"}), and discarding\n",
      "contradictory literals.\n"
     ]
    }
   ],
   "source": [
    "! gappa -Blatex /tmp/testgappa.g | pandoc -f latex -t markdown"
   ]
  },
  {
   "cell_type": "code",
   "execution_count": null,
   "metadata": {},
   "outputs": [],
   "source": [
    "import subprocess\n",
    "def gappa(f):\n",
    "    \n"
   ]
  },
  {
   "cell_type": "code",
   "execution_count": null,
   "metadata": {},
   "outputs": [],
   "source": [
    "ex1 = \"\"\"{ x in [0,1] -> float<ieee_32,ne>(x * float<ieee_32,ne>(1 - x)) in ? }\"\"\"\n",
    "gappa(ex1)\n"
   ]
  }
 ],
 "metadata": {
  "kernelspec": {
   "display_name": "Python 3",
   "language": "python",
   "name": "python3"
  },
  "language_info": {
   "codemirror_mode": {
    "name": "ipython",
    "version": 3
   },
   "file_extension": ".py",
   "mimetype": "text/x-python",
   "name": "python",
   "nbconvert_exporter": "python",
   "pygments_lexer": "ipython3",
   "version": "3.10.12"
  }
 },
 "nbformat": 4,
 "nbformat_minor": 2
}
