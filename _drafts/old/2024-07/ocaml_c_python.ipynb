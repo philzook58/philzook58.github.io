{
 "cells": [
  {
   "cell_type": "code",
   "execution_count": null,
   "metadata": {},
   "outputs": [],
   "source": []
  },
  {
   "cell_type": "markdown",
   "metadata": {},
   "source": [
    "https://stackoverflow.com/questions/61416259/ocaml-as-c-library-hello-world-example\n",
    "https://stackoverflow.com/questions/48801340/ocaml-produce-shared-object-with-ocaml-runtime-linked-in\n",
    "https://transactional.blog/blog/2024-calling-ocaml-from-c\n",
    "\n",
    "https://github.com/thierry-martinez/ocaml-in-python hmm ocaml <= 5\n",
    "\n",
    "https://github.com/LPCIC/elpi\n",
    "\n",
    "Cody's thing\n",
    "\n",
    "https://github.com/janestreet/pythonlib This seems better?\n",
    "https://blog.janestreet.com/using-python-and-ocaml-in-the-same-jupyter-notebook/\n",
    "https://www.reddit.com/r/ocaml/comments/16rcu4l/distributing_software_via_python/"
   ]
  },
  {
   "cell_type": "code",
   "execution_count": 1,
   "metadata": {},
   "outputs": [
    {
     "ename": "ModuleNotFoundError",
     "evalue": "No module named 'ocaml'",
     "output_type": "error",
     "traceback": [
      "\u001b[0;31m---------------------------------------------------------------------------\u001b[0m",
      "\u001b[0;31mModuleNotFoundError\u001b[0m                       Traceback (most recent call last)",
      "Cell \u001b[0;32mIn[1], line 1\u001b[0m\n\u001b[0;32m----> 1\u001b[0m \u001b[38;5;28;01mfrom\u001b[39;00m \u001b[38;5;21;01mocaml\u001b[39;00m \u001b[38;5;28;01mimport\u001b[39;00m topllop\n",
      "\u001b[0;31mModuleNotFoundError\u001b[0m: No module named 'ocaml'"
     ]
    }
   ],
   "source": [
    "from ocaml import topllop"
   ]
  }
 ],
 "metadata": {
  "kernelspec": {
   "display_name": "Python 3",
   "language": "python",
   "name": "python3"
  },
  "language_info": {
   "codemirror_mode": {
    "name": "ipython",
    "version": 3
   },
   "file_extension": ".py",
   "mimetype": "text/x-python",
   "name": "python",
   "nbconvert_exporter": "python",
   "pygments_lexer": "ipython3",
   "version": "3.12.3"
  }
 },
 "nbformat": 4,
 "nbformat_minor": 2
}
