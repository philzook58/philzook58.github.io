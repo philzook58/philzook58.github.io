{
 "cells": [
  {
   "cell_type": "code",
   "execution_count": 2,
   "metadata": {},
   "outputs": [
    {
     "name": "stdout",
     "output_type": "stream",
     "text": [
      "Help on function Implies in module z3.z3:\n",
      "\n",
      "Implies(a, b, ctx=None)\n",
      "    Create a Z3 implies expression.\n",
      "    \n",
      "    >>> p, q = Bools('p q')\n",
      "    >>> Implies(p, q)\n",
      "    Implies(p, q)\n",
      "\n"
     ]
    }
   ],
   "source": [
    "import kdrag.smt as smt\n",
    "import kdrag as kd\n",
    "help(kd.smt.Implies)"
   ]
  },
  {
   "cell_type": "code",
   "execution_count": 5,
   "metadata": {},
   "outputs": [
    {
     "data": {
      "text/plain": [
       "<function z3.z3.Or(*args)>"
      ]
     },
     "execution_count": 5,
     "metadata": {},
     "output_type": "execute_result"
    }
   ],
   "source": [
    "import z3\n",
    "z3.Or"
   ]
  },
  {
   "cell_type": "code",
   "execution_count": null,
   "metadata": {},
   "outputs": [],
   "source": [
    "    import z3\n",
    "\n",
    "    Solver = z3.Solver\n",
    "    Or = z3.Or\n",
    "    And = z3.And\n",
    "    Not = z3.Not\n",
    "    Implies = z3.Implies\n",
    "    ForAll = z3.ForAll\n",
    "    Exists = z3.Exists\n",
    "    Bool = z3.Bool\n",
    "    Int = z3.Int\n",
    "    Real = z3.Real\n",
    "    Array = z3.Array\n",
    "    ArraySort = z3.ArraySort\n",
    "    IntSort = z3.IntSort\n",
    "    RealSort = z3.RealSort\n",
    "    BoolSort = z3.BoolSort\n",
    "    IntVal = z3.IntVal\n",
    "    RealVal = z3.RealVal\n",
    "    BoolVal = z3.BoolVal\n",
    "    FreshConst = z3.FreshConst\n",
    "    Const = z3.Const\n",
    "    Consts = z3.Consts\n",
    "    Function = z3.Function\n",
    "\n",
    "    __all__ = list(z3.__dict__.keys())"
   ]
  }
 ],
 "metadata": {
  "kernelspec": {
   "display_name": "Python 3",
   "language": "python",
   "name": "python3"
  },
  "language_info": {
   "codemirror_mode": {
    "name": "ipython",
    "version": 3
   },
   "file_extension": ".py",
   "mimetype": "text/x-python",
   "name": "python",
   "nbconvert_exporter": "python",
   "pygments_lexer": "ipython3",
   "version": "3.12.3"
  }
 },
 "nbformat": 4,
 "nbformat_minor": 2
}
