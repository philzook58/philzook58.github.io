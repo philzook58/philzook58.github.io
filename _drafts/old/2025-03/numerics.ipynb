{
 "cells": [
  {
   "cell_type": "markdown",
   "metadata": {},
   "source": [
    "https://dl.acm.org/doi/10.1145/3656456 Numerical Fuzz: A Type System for Rounding Error Analysis\n",
    "\n",
    "\n",
    "https://malyzajko.github.io/papers/sas2023a.pdf Modular analysis eva"
   ]
  },
  {
   "cell_type": "code",
   "execution_count": null,
   "metadata": {},
   "outputs": [],
   "source": [
    "from kdrag.all import *\n",
    "\n",
    "x,y,z = smt.Reals(\"x y z\")\n",
    "#rnd = kd.define(\"rnd\", [x,y], kd.QExists([z], 0 <= z, z <= 0.1, y == x*(1 + z)))\n",
    "\n",
    "# could do smt.Function(smt.RealSort(), Fl). It's kind of a smart constructor\n",
    "rnd = smt.Function(\"rnd\", smt.RealSort(), smt.RealSort())\n",
    "err = smt.Function(\"err\", smt.RealSort(), smt.RealSort())\n",
    "\n",
    "\n",
    "# we could condition the equation on x being in allowed range to model undefinedness\n",
    "#rnd_ax = kd.axiom(kd.QForAll([x], -1 <= x, x <= 1, smt.And(0 <= err(x), err(x) <= 0.1, rnd(x) == x + err(x))))\n",
    "rnd_ax = kd.axiom(smt.ForAll([x], smt.And(0 <= err(x), err(x) <= 0.1, rnd(x) == x*(1 + err(x)))))\n",
    "\n",
    "\n",
    "Fl = kd.NewType(\"Fl\", smt.RealSort(), strict=False)\n",
    "fx,fy,fz = smt.Consts(\"fx fy fz\", Fl)    \n",
    "fl_add = kd.define(\"add\", [fx,fy], Fl(rnd(fx.val + fy.val)))\n",
    "kd.notation.add.register(Fl, fl_add)\n",
    "\n",
    "fl_add_comm = kd.lemma(kd.QForAll([fx,fy], fx + fy == fy + fx), by=fl_add.defn)\n",
    "\n",
    "\n",
    "\n",
    "\n"
   ]
  },
  {
   "cell_type": "code",
   "execution_count": null,
   "metadata": {},
   "outputs": [
    {
     "data": {
      "text/html": [
       "mul(fx, fy)"
      ],
      "text/plain": [
       "mul(fx, fy)"
      ]
     },
     "execution_count": 54,
     "metadata": {},
     "output_type": "execute_result"
    }
   ],
   "source": [
    "from kdrag.all import *\n",
    "\n",
    "x,y,z = smt.Reals(\"x y z\")\n",
    "\n",
    "Fix = kd.NewType(\"Fix\", smt.RealSort(), strict=False) # pred=lambda fx: smt.And(fx.val >= -1, fx.val <= 1)) \n",
    "\n",
    "\n",
    "err = smt.Function(\"err\", smt.RealSort(), smt.RealSort())\n",
    "err_bnd = kd.axiom(kd.QForAll([x], -1 <= x, x <= 1, smt.And(-1/smt.RealVal(2**8) <= err(x), err(x) < 1/smt.RealVal(2**8))))\n",
    "rnd = kd.define(\"rnd\", [x], Fix(x + err(x)))\n",
    "#rnd = smt.Function(\"rnd\", smt.RealSort(), Fix)\n",
    "#rnd_ax = kd.axiom(kd.QForAll([x], rnd(x).val == x + err(x)))\n",
    "\n",
    "\n",
    "fx,fy,fz = smt.Consts(\"fx fy fz\", Fix)    \n",
    "fix_add = kd.define(\"add\", [fx,fy], rnd(fx.val + fy.val))\n",
    "kd.notation.add.register(Fix, fix_add)\n",
    "\n",
    "fl_add_comm = kd.lemma(kd.QForAll([fx,fy], fx + fy == fy + fx), by=fix_add.defn)\n",
    "#smt.simplify(rnd_ax(smt.RealVal(0.1)).thm)\n",
    "\n",
    "\n",
    "# It would be kind of nice to be able to explore this way,\n",
    "#c = kd.Calc([], (fx + fx + fx).val)\n",
    "#c.unfold(fix_add.defn, rnd.defn)\n",
    "\n",
    "l = kd.Lemma(z == (fx + fx + fx).val)\n",
    "l.unfold(fix_add, fix_add, rnd, rnd)\n",
    "l.simp()\n",
    "\n",
    "err3 = kd.define(\"err3\", [fx], (fx + fx + fx).val - (3*fx.val)) \n",
    "\n",
    "l = kd.Lemma(kd.QForAll([fx], 0 <= fx.val, fx.val <= 0.1, err3(fx) <= 3/smt.RealVal(2**8)))\n",
    "_fx = l.fixes()\n",
    "l.intros()\n",
    "l.unfold(err3)\n",
    "l.unfold(fix_add, fix_add)\n",
    "l.unfold(rnd, rnd)\n",
    "l.simp()\n",
    "l.auto(by=[err_bnd])\n",
    "l.qed()\n",
    "\n",
    "l = kd.lemma(kd.QForAll([fx], 0 <= fx.val, fx.val <= 0.1, err3(fx) <= 3/smt.RealVal(2**8)), by=[err3.defn, err_bnd, fix_add.defn, rnd.defn])\n",
    "\n",
    "\n",
    "fix_mul = kd.define(\"mul\", [fx,fy], rnd(fx.val * fy.val))\n",
    "kd.notation.mul.register(Fix, fix_mul)\n",
    "\n",
    "fx * fy\n",
    "\n"
   ]
  }
 ],
 "metadata": {
  "kernelspec": {
   "display_name": "Python 3",
   "language": "python",
   "name": "python3"
  },
  "language_info": {
   "codemirror_mode": {
    "name": "ipython",
    "version": 3
   },
   "file_extension": ".py",
   "mimetype": "text/x-python",
   "name": "python",
   "nbconvert_exporter": "python",
   "pygments_lexer": "ipython3",
   "version": "3.12.3"
  }
 },
 "nbformat": 4,
 "nbformat_minor": 2
}
