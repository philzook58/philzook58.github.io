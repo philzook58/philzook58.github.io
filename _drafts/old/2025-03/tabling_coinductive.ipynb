{
 "cells": [
  {
   "cell_type": "markdown",
   "metadata": {},
   "source": [
    "Tabling in prolog is interesting. We describe it as memoizationb, but that is only part of the story.\n",
    "\n",
    "The other part is that it allows us to have some non terminating recursion. We can recurse on non strictly decreasing arguments or allow loops in the \"call graph\" (call graph can mean different things. Sometimes it can mean a graph of named functions which depend on each other. Here I mean a graph of function calls combined with their arugments).\n",
    "\n",
    "\n",
    "Coinductive logic programming uses observation of the stack to find if you are repeating an already asked question. Because we want greatest fixed point semantics, we will allow everythiugn to succeed that is self oncistent rather\n",
    "\n",
    "We could for example make recursive definitions that return loopy lists and such\n",
    "\n",
    "Prolog variables are an abstraction over pointers. Aliasing is like equality of variables.\n",
    "We could also allow pointers to point to other pointers in a union find, but we don't have to\n",
    "\n",
    "https://en.wikipedia.org/wiki/Left_recursion\n",
    "\n",
    "Left recursion papers https://arxiv.org/abs/1707.04724 Memoisation: Purely, Left-recursively, and with (Continuation Passing) Style\n",
    "\n",
    "CoCaml https://www.cs.cornell.edu/projects/CoCaml/\n",
    "https://public.websites.umich.edu/~jeannin/papers/cocaml.pdf  CoCaml: Functional Programming with\n",
    "Regular Coinductive Types\n",
    "\n",
    "\n",
    "\n",
    "Lookup in tabling can be modulo subsumption or variants\n",
    "\n",
    "What if we used Tabler with a minikanren?\n",
    "\n"
   ]
  },
  {
   "cell_type": "code",
   "execution_count": null,
   "metadata": {
    "vscode": {
     "languageId": "plaintext"
    }
   },
   "outputs": [],
   "source": [
    "class Tabler():\n",
    "    def __init__(self, f):\n",
    "        self.__wrapped__ = f\n",
    "        self.questions = {}\n",
    "        self.answers = {}\n",
    "        # self.stack ?\n",
    "    def __call__(self, *args): # TODO **kwargs\n",
    "        \n",
    "\n",
    "    \n",
    "\n",
    "\n",
    "\n"
   ]
  }
 ],
 "metadata": {
  "language_info": {
   "name": "python"
  }
 },
 "nbformat": 4,
 "nbformat_minor": 2
}
