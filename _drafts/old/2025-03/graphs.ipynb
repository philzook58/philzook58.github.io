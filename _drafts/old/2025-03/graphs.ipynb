{
 "cells": [
  {
   "cell_type": "markdown",
   "metadata": {},
   "source": [
    "AST forms of tree decomposition\n",
    "\n",
    "A natural derivation of tree decomposition\n",
    "\n",
    "Decomposition over ported graphs?\n",
    "\n",
    "Query optimization\n",
    "\n"
   ]
  }
 ],
 "metadata": {
  "language_info": {
   "name": "python"
  }
 },
 "nbformat": 4,
 "nbformat_minor": 2
}
