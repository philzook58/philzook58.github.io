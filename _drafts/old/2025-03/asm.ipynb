{
 "cells": [
  {
   "cell_type": "markdown",
   "metadata": {},
   "source": [
    "https://news.ycombinator.com/item?id=42679191 lambda calc 383 bytes\n",
    "ben lynn haskell\n",
    "hicrohs\n",
    "forth\n",
    "\n"
   ]
  }
 ],
 "metadata": {
  "language_info": {
   "name": "python"
  }
 },
 "nbformat": 4,
 "nbformat_minor": 2
}
