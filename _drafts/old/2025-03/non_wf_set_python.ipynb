{
 "cells": [
  {
   "cell_type": "code",
   "execution_count": null,
   "metadata": {
    "vscode": {
     "languageId": "plaintext"
    }
   },
   "outputs": [],
   "source": [
    "Truthy = Enum(\"Truthy\", \"true false unknown\")\n",
    "\n",
    "\n",
    "class Universe():\n",
    "    \n",
    "    def anti_found(graph):"
   ]
  }
 ],
 "metadata": {
  "language_info": {
   "name": "python"
  }
 },
 "nbformat": 4,
 "nbformat_minor": 2
}
