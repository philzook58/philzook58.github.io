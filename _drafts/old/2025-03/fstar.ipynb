{
 "cells": [
  {
   "cell_type": "markdown",
   "metadata": {},
   "source": [
    "https://github.com/FStarLang/FStar\n",
    "\n",
    "https://github.com/FStarLang/FStar/tree/master/ulib standard lib?\n",
    "\n",
    "https://news.ycombinator.com/item?id=25629058\n",
    "https://news.ycombinator.com/item?id=40377685\n",
    "\n",
    "https://fstar-lang.org/index.html#learn \n",
    "https://fstar-lang.org/oplss2021/index.html\n",
    "\n",
    "\n",
    "http://ucsd-progsys.github.io/liquidhaskell-tutorial/"
   ]
  }
 ],
 "metadata": {
  "language_info": {
   "name": "python"
  }
 },
 "nbformat": 4,
 "nbformat_minor": 2
}
