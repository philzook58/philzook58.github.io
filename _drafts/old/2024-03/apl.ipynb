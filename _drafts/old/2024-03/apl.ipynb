{
 "cells": [
  {
   "cell_type": "markdown",
   "metadata": {},
   "source": [
    "https://github.com/Dyalog/dyalog-jupyter-kernel\n",
    "`pip install dyalog-jupyter-kernel`\n",
    "\n",
    "https://www.dyalog.com/dyalog/dyalog-versions/190.htm\n",
    "\n",
    "https://tryapl.org/\n",
    "https://github.com/Dyalog/pynapl python interface both ways\n",
    "\n",
    "https://github.com/Dyalog/ride\n",
    "\n",
    "https://www.youtube.com/@abrudz\n",
    "apl chat\n",
    "apl farm discord\n",
    "\n",
    "https://problems.tryapl.org/\n",
    "\n",
    "\n",
    "<https://www.arraycast.com/>\n",
    "\n",
    "<https://aplwiki.com/wiki/Running_APL>\n",
    "<https://aplwiki.com/wiki/Blogs>\n",
    "\n",
    "<https://www.youtube.com/watch?v=8ynsN4nJxzU&ab_channel=code_report> code_report conor hoekstra\n",
    "\n",
    "https://aplcart.info/ aplcart https://github.com/abrudz/aplcart#usage \n",
    "\n",
    "\n",
    "K\n",
    "Q\n",
    "J\n",
    "\n",
    "α\n",
    "\n",
    "\n",
    "<https://aplwiki.com/wiki/Uiua>\n",
    "\n",
    "<https://xpqz.github.io/learnapl/intro.html>\n",
    "\n",
    "dyalog\n",
    "\n",
    "quad\n",
    "\n",
    "```\n",
    "¯ × ÷ ∘ ∣ ∼\n",
    "≠ ≤ ≥\n",
    "≬ ⌶\n",
    "⋆ ⌾ ⍟\n",
    "⌽ ⍉ ⍝ ⍦ ⍧ ⍪ ⍫ ⍬ ⍭\n",
    "← → , ↑ ↓\n",
    "∆ ∇ , ∧ ∨ , ∩ ∪ , ⌈ ⌊ , ⊤ ⊥ , ⊂ ⊃\n",
    "⍅ ⍆ , ⍏ ⍖\n",
    "⌿ ⍀ , ⍋ ⍒ , ⍱ ⍲\n",
    "○\n",
    "⍳ ⍴ ⍵ ⍺\n",
    "⍶ ⍷ ⍸ ⍹ ⍘ ⍙ ⍚ ⍛ ⍜ ⍮\n",
    "¨ ⍡ ⍢ ⍣ ⍤ ⍥ ⍨ ⍩\n",
    "⍊ ⍑ , ⍎ ⍕\n",
    "⍐ ⍗ , ⍓ ⍌ , ⍍ ⍔ , ⍁ ⍂ , ⍃ ⍄ , ⍇ ⍈\n",
    "⌸ ⍯\n",
    "⎕ ⍞ ⍠ ⍰ ⌷ ⌹ ⌺ ⌻ ⌼\n",
    "\n",
    "```\n",
    "\n",
    "```bash\n",
    "echo \"⎕← 1 + 1 ÷ 2 × 2\" > /tmp/test.apl\n",
    "dyalogscript /tmp/test.apl\n",
    "\n",
    "\n",
    "```\n",
    "\n",
    "co-dfns - gpu compiler\n",
    "\n",
    "Could apl be useful as a formal language?\n",
    "\n",
    "Mcchuravy\n",
    "Aaron hsu <https://www.sacrideo.us/tag/apl/>\n",
    "vanessa mchale <http://vmchale.com/>\n",
    "iverson\n",
    "\n",
    "numpy\n",
    "combinators - shonfield curry\n",
    "\n",
    "<http://nsl.com/> no stinking loops. some cool logic programs and other bits. parser combinator\n",
    "\n",
    "<https://vector.org.uk/>\n",
    "\n",
    "<https://works.swarthmore.edu/cgi/viewcontent.cgi?article=1350&context=fac-physics> APL And The Numerical Solution Of High-Order Linear Differential Equations  1983\n",
    "<https://dl.acm.org/doi/abs/10.1145/384283.801095> an apl approach t differential equations\n",
    "\n",
    "<https://github.com/briangu/klongpy> <https://aplwiki.com/wiki/Klong>\n",
    "\n",
    "# J\n",
    "\n",
    "<https://github.com/jsoftware/jsource> source\n",
    "\n",
    "<https://www.jsoftware.com/books/pdf/aioj.pdf> iinterpeter of J. Appendix incabulum: one page interpreter in C?\n",
    "<https://news.ycombinator.com/item?id=38866622> <https://github.com/kelas/ooj> origins of j\n",
    "\n",
    "```bash\n",
    "echo '\n",
    "typedef char C;typedef long I;\n",
    "typedef struct a{I t,r,d[3],p[2];}*A;\n",
    "#define P printf\n",
    "#define R return\n",
    "#define V1(f) A f(w)A w;   // one arg frunction\n",
    "#define V2(f) A f(a,w)A a,w;  // two arg function\n",
    "#define DO(n,x) {I i=0,_n=(n);for(;i<_n;++i){x;}}   // macro to do stmt x with bound var i\n",
    "I *ma(n){R(I*)malloc(n*4);}mv(d,s,n)I *d,*s;{DO(n,d[i]=s[i]);}\n",
    "tr(r,d)I *d;{I z=1;DO(r,z=z*d[i]);R z;}\n",
    "A ga(t,r,d)I *d;{A z=(A)ma(5+tr(r,d));z->t=t,z->r=r,mv(z->d,d,r);R z;}\n",
    "V1(iota){I n=*w->p;A z=ga(0,1,&n);DO(n,z->p[i]=i);R z;}\n",
    "V2(plus){I r=w->r,*d=w->d,n=tr(r,d);A z=ga(0,r,d);\n",
    " DO(n,z->p[i]=a->p[i]+w->p[i]);R z;}\n",
    "V2(from){I r=w->r-1,*d=w->d+1,n=tr(r,d);\n",
    " A z=ga(w->t,r,d);mv(z->p,w->p+(n**a->p),n);R z;}\n",
    "V1(box){A z=ga(1,0,0);*z->p=(I)w;R z;}\n",
    "V2(cat){I an=tr(a->r,a->d),wn=tr(w->r,w->d),n=an+wn;\n",
    " A z=ga(w->t,1,&n);mv(z->p,a->p,an);mv(z->p+an,w->p,wn);R z;}\n",
    "V2(find){}\n",
    "V2(rsh){I r=a->r?*a->d:1,n=tr(r,a->p),wn=tr(w->r,w->d);\n",
    " A z=ga(w->t,r,a->p);mv(z->p,w->p,wn=n>wn?wn:n);\n",
    " if(n-=wn)mv(z->p+wn,z->p,n);R z;}\n",
    "V1(sha){A z=ga(0,1,&w->r);mv(z->p,w->d,w->r);R z;}\n",
    "V1(id){R w;}V1(size){A z=ga(0,0,0);*z->p=w->r?*w->d:1;R z;}\n",
    "pi(i){P(\"%d \",i);}nl(){P(\"\\n\");}\n",
    "pr(w)A w;{I r=w->r,*d=w->d,n=tr(r,d);DO(r,pi(d[i]));nl();\n",
    " if(w->t)DO(n,P(\"< \");pr(w->p[i]))else DO(n,pi(w->p[i]));nl();}\n",
    "\n",
    "C vt[]=\"+{~<#,\";\n",
    "A(*vd[])()={0,plus,from,find,0,rsh,cat},\n",
    " (*vm[])()={0,id,size,iota,box,sha,0};\n",
    "I st[26]; qp(a){R a>='a'&&a<='z';}qv(a){R a<'a';}\n",
    "A ex(e)I *e;{I a=*e;\n",
    " if(qp(a)){if(e[1]=='=')R st[a-'a']=ex(e+2);a= st[ a-'a'];}\n",
    " R qv(a)?(*vm[a])(ex(e+1)):e[1]?(*vd[e[1]])(a,ex(e+2)):(A)a;}\n",
    "noun(c){A z;if(c<'0'||c>'9')R 0;z=ga(0,0,0);*z->p=c-'0';R z;}\n",
    "verb(c){I i=0;for(;vt[i];)if(vt[i++]==c)R i;R 0;}\n",
    "I *wd(s)C *s;{I a,n=strlen(s),*e=ma(n+1);C c;\n",
    " DO(n,e[i]=(a=noun(c=s[i]))?a:(a=verb(c))?a:c);e[n]=0;R e;}\n",
    "\n",
    "main(){C s[99];while(gets(s))pr(ex(wd(s)));}\n",
    "' > /tmp/j.c\n",
    "# nah it is not compiling\n",
    "gcc --std gnu89 -o /tmp/j /tmp/j.c\n",
    "\n",
    "```\n",
    "<https://news.ycombinator.com/item?id=19421524> more expanded explanation. V1 and V2 are one arg two arg functions.\n",
    "\n",
    "<https://www.jsoftware.com/#/README>\n",
    "<https://code.jsoftware.com/wiki/Guides/Getting_Started>\n",
    "\n",
    "<https://code.jsoftware.com/wiki/At_Play_With_J>\n",
    "\n",
    "<https://www.jsoftware.com/books/pdf/> books. Calculus <https://www.jsoftware.com/books/pdf/calculus.pdf> . Concrete mathemtica companion.\n",
    "\n",
    "```bash\n",
    "echo \"  NB. re\n",
    "2 20 $ 'hello world ' NB. string enclosed in single quotes\n",
    "a=. i.3 4             NB. table of integers\n",
    "a                     NB. display the table   \n",
    "+/a                   NB. sum over columns\n",
    "+/\\\"1 a                NB. sum over rows\n",
    "NB. try your own lines here\n",
    "_3  NB. negative numbers\n",
    "% 2 NB. recip monad\n",
    "1 +. 1 NB. or / gcd\n",
    "foo=. +\n",
    "35 foo 3\n",
    "  ;: 'a =. 1 2 3' NB. parsing visalization helper\n",
    "CR NB. carriage return \n",
    "NB.  =: is global definition\n",
    "foot=. 4 : 0\n",
    "  x + y\n",
    ")\n",
    "1 foot 2\n",
    "\n",
    "*/ 1 2 3 4 NB. / adverbs modify verbs. reduce / fold\n",
    "myfact=. +/ 1 + i. NB. no not right\n",
    "myfact 5\n",
    "\n",
    "2 2 $ 10 NB. reshape\n",
    "? 10 100 1000 NB. random numbers\n",
    "\n",
    "exit 0\" |  jconsole\n",
    "\n",
    "```\n",
    "\n",
    "\n"
   ]
  },
  {
   "cell_type": "code",
   "execution_count": null,
   "metadata": {},
   "outputs": [],
   "source": [
    "%%file /tmp/dfns.p\n",
    "% the alpha omega variable naming is really interesting\n",
    "% I need a scoping operation?\n",
    "cnf(a_decl, axiom, app(dfn(a), A, W) = A).\n",
    "cnf(w_decl, axiom, app(dfn(w), A, W) = W).\n",
    "cnf(reduce, axiom, app(slash(F), X, Y) = ??).\n",
    "cnf(avg_decl ,axiom, avg(A,W) = slash(add()))\n",
    "cnf(scope, axiom,  P dfn( F ) Q = app(F , P, Q))\n",
    "\n",
    "% APL is a combinator language mostly.\n",
    "% You don't need induction (?) as much because we woirk with high level bulk ops.\n",
    "\n"
   ]
  },
  {
   "cell_type": "markdown",
   "metadata": {},
   "source": [
    "The keyboard.\n",
    "Use gnome tweaks to enmable turning it on with right alt, which i never use\n",
    "https://aplwiki.com/wiki/Typing_glyphs_on_Linux\n",
    "\n",
    "```\n",
    "┌────┬────┬────┬────┬────┬────┬────┬────┬────┬────┬────┬────┬────┬─────────┐\n",
    "│~ ⌺ │! ⌶ │@ ⍫ │# ⍒ │$ ⍋ │% ⌽ │^ ⍉ │& ⊖ │* ⍟ │( ⍱ │) ⍲ │_ ! │+ ⌹ │Backspace│\n",
    "│` ⋄ │1 ¨ │2 ¯ │3 < │4 ≤ │5 = │6 ≥ │7 > │8 ≠ │9 ∨ │0 ∧ │- × │= ÷ │         │\n",
    "├────┴──┬─┴──┬─┴──┬─┴──┬─┴──┬─┴──┬─┴──┬─┴──┬─┴──┬─┴──┬─┴──┬─┴──┬─┴──┬──────┤\n",
    "│Tab    │Q   │W   │E ⍷ │R   │T ⍨ │Y   │U   │I ⍸ │O ⍥ │P ⍣ │{ ⍞ │} ⍬ │| ⊣   │\n",
    "│       │q ? │w ⍵ │e ∊ │r ⍴ │t ~ │y ↑ │u ↓ │i ⍳ │o ○ │p * │[ ← │] → │\\ ⊢   │\n",
    "├───────┴┬───┴┬───┴┬───┴┬───┴┬───┴┬───┴┬───┴┬───┴┬───┴┬───┴┬───┴┬───┴──────┤\n",
    "│Caps    │A   │S   │D   │F   │G   │H   │J ⍤ │K ⌸ │L ⌷ │: ≡ │\" ≢ │Enter     │\n",
    "│Lock    │a ⍺ │s ⌈ │d ⌊ │f _ │g ∇ │h ∆ │j ∘ │k ' │l ⎕ │; ⍎ │' ⍕ │          │\n",
    "├────────┴──┬─┴──┬─┴──┬─┴──┬─┴──┬─┴──┬─┴──┬─┴──┬─┴──┬─┴──┬─┴──┬─┴──────────┤\n",
    "│Shift      │Z ⊆ │X   │C   │V   │B   │N   │M   │< ⍪ │> ⍙ │? ⍠ │Shift       │\n",
    "│           │z ⊂ │x ⊃ │c ∩ │v ∪ │b ⊥ │n ⊤ │m | │, ⍝ │. ⍀ │/ ⌿ │            │\n",
    "└───────────┴────┴────┴────┴────┴────┴────┴────┴────┴────┴────┴────────────┘\n",
    "```"
   ]
  },
  {
   "cell_type": "code",
   "execution_count": 9,
   "metadata": {},
   "outputs": [
    {
     "data": {
      "text/html": [
       "<pre class=\"language-APL\">10\n",
       "</pre>"
      ]
     },
     "execution_count": 9,
     "metadata": {},
     "output_type": "execute_result"
    },
    {
     "data": {
      "text/html": [
       "<pre class=\"language-APL\">3628800\n",
       "</pre>"
      ]
     },
     "execution_count": 9,
     "metadata": {},
     "output_type": "execute_result"
    },
    {
     "data": {
      "text/html": [
       "<pre class=\"language-APL\">hello world\n",
       "</pre>"
      ]
     },
     "execution_count": 9,
     "metadata": {},
     "output_type": "execute_result"
    },
    {
     "data": {
      "text/html": [
       "<pre class=\"language-APL\">2\n",
       "4\n",
       "</pre>"
      ]
     },
     "execution_count": 9,
     "metadata": {},
     "output_type": "execute_result"
    },
    {
     "data": {
      "text/html": [
       "<pre class=\"language-APL\">2 2 3 4\n",
       "</pre>"
      ]
     },
     "execution_count": 9,
     "metadata": {},
     "output_type": "execute_result"
    },
    {
     "data": {
      "text/html": [
       "<pre class=\"language-APL\">÷\n",
       "</pre>"
      ]
     },
     "execution_count": 9,
     "metadata": {},
     "output_type": "execute_result"
    },
    {
     "data": {
      "text/html": [
       "<pre class=\"language-APL\">1\n",
       "</pre>"
      ]
     },
     "execution_count": 9,
     "metadata": {},
     "output_type": "execute_result"
    },
    {
     "data": {
      "text/html": [
       "<pre class=\"language-APL\">1\n",
       "</pre>"
      ]
     },
     "execution_count": 9,
     "metadata": {},
     "output_type": "execute_result"
    },
    {
     "data": {
      "text/html": [
       "<pre class=\"language-APL\">⌿\n",
       "</pre>"
      ]
     },
     "execution_count": 9,
     "metadata": {},
     "output_type": "execute_result"
    },
    {
     "data": {
      "text/html": [
       "<pre class=\"language-APL\">1 1 2 2 3 3 3 3 4 4 4 4 4\n",
       "</pre>"
      ]
     },
     "execution_count": 9,
     "metadata": {},
     "output_type": "execute_result"
    },
    {
     "data": {
      "text/html": [
       "<pre class=\"language-APL\">1 3 6 10\n",
       "</pre>"
      ]
     },
     "execution_count": 9,
     "metadata": {},
     "output_type": "execute_result"
    }
   ],
   "source": [
    "+/ 1 2 3 4 \n",
    "×/ ⍳10\n",
    "'hello world'  \n",
    "1 + 1 ⋄ 2 + 2\n",
    "2 1 2 1 ⌈ 1 2 3 4  ⍝ this is a comment. maximum\n",
    "÷ ⍝ this is recipricol / inverse\n",
    "foo ← {⍺} ⍝ dfns have alpa and omega \n",
    "1 foo 2\n",
    "1 {⍺} 2   ⍝ anonnymous\n",
    "⌿ ⍝ reduce first. For matrices. aaaahhh I see.\n",
    "2 2  4 5 \\ 1 2 3 4 ⍝ a reptition construct \"expand\". Or scan\n",
    "+\\ 1 2 3 4\n"
   ]
  },
  {
   "cell_type": "markdown",
   "metadata": {},
   "source": [
    "# bqn\n",
    "https://github.com/mlochbaum/BQN/tree/master\n",
    "https://github.com/dzaima/CBQN\n",
    "\n",
    "https://github.com/x86y/beacon beacon editor\n",
    "\n",
    "https://mlochbaum.github.io/BQN/editors/index.html \n",
    "```bash\n",
    "# pretty print result\n",
    "bqn -p \"2 + 3 \"\n",
    "```\n",
    "\n",
    "<https://www.youtube.com/@davidzwitser156> bqn vids. ray bqn games"
   ]
  },
  {
   "cell_type": "code",
   "execution_count": null,
   "metadata": {},
   "outputs": [],
   "source": [
    "%%file /tmp/example.bqn\n",
    "2 + 3\n",
    "6- 5\n",
    "- 1.5\n"
   ]
  },
  {
   "cell_type": "markdown",
   "metadata": {},
   "source": [
    "Transfinite APL\n"
   ]
  },
  {
   "cell_type": "markdown",
   "metadata": {},
   "source": []
  },
  {
   "cell_type": "markdown",
   "metadata": {},
   "source": [
    "\n",
    "\n",
    "\n",
    "\n"
   ]
  },
  {
   "cell_type": "code",
   "execution_count": null,
   "metadata": {},
   "outputs": [],
   "source": [
    "\n",
    "## numpy\n",
    "\n",
    "nparray = ArraySort(List(IntSort()), RealSort()) # or take in a full tuple.\n",
    "nparray = Cons(ArraySort(IntSort()), RealSort())\n",
    "\n",
    "from z3 import *\n",
    "# abstract nparray.\n",
    "nparray = Sort(\"nparray\")\n",
    "# these are accessor functions.\n",
    "rank = Function(\"rank\", nparray, IntSort())\n",
    "shape = Function(\"shape\", nparray, List(IntSort()))\n",
    "\n",
    "# reshape is like store into shape field\n",
    "reshape = Function(\"reshape\", nparray, List(IntSort()), nparray)\n",
    "# ok. so this ends up being very similar.\n",
    "\n",
    "sum_ = Function(\"sum\", nparray, RealSort())\n",
    "zeros = Function(\"zeros\", List(IntSort()), nparray)\n",
    "ones = Function(\"ones\", List(IntSort()), nparray)\n",
    "eye = Function(\"eye\", IntSort(), nparray)\n",
    "diag = Function(\"diag\", nparray, nparray)\n",
    "dot = Function(\"dot\", nparray, nparray, nparray)\n",
    "transpose = Function(\"transpose\", nparray, nparray)\n",
    "\n",
    "array = Function(\"array\", List(RealSort()), nparray)\n",
    "rand = Function(\"rand\", IntSort(), List(IntSort()), nparray) # takes seed\n",
    "\n",
    "# slicing and striding\n",
    "# integer array indexing, boolean indexing\n",
    "\n",
    "\n",
    "# arange/ iota / linspace\n",
    "\n",
    "# broadcasting\n",
    "#masking\n",
    "\n",
    "\n",
    "# cumsum\n",
    "\n",
    "# mean, median, max, min\n",
    "# sum multiply add subtract divide sin cos exp\n",
    "\n",
    "\n",
    "# scipy\n",
    "# kron... it all comes back. hstack, vstack\n",
    "# matmul\n",
    "# linsolve\n",
    "\n",
    "# polynomials\n",
    "# roots\n",
    "# eig\n",
    "# svd\n",
    "# qr\n",
    "# norm\n",
    "# det"
   ]
  },
  {
   "cell_type": "markdown",
   "metadata": {},
   "source": [
    "Numpy error estimate.\n",
    "APL or numpy symbolic reasoning\n",
    "\n",
    "We don't need induction persay if we have \n",
    "\n",
    "Going to inidividual ops for error estimates is bad\n",
    "\n",
    "https://github.com/ThePoetCoder/APL-to-NumPy"
   ]
  },
  {
   "cell_type": "code",
   "execution_count": null,
   "metadata": {},
   "outputs": [],
   "source": [
    "# error estimation taking float64 as ground truth.\n",
    "np.zeros((2,3,4), dtype=np.float32)\n",
    "np.zeros((2,3,4), dtype=np.float64)"
   ]
  },
  {
   "cell_type": "code",
   "execution_count": null,
   "metadata": {},
   "outputs": [],
   "source": [
    "# https://github.com/briangu/klongpy\n",
    "import klongpy"
   ]
  },
  {
   "cell_type": "markdown",
   "metadata": {},
   "source": [
    "# K\n",
    "K python\n",
    "https://github.com/kparc/kcc\n",
    "https://github.com/zserge/tinylangs\n"
   ]
  },
  {
   "cell_type": "code",
   "execution_count": 19,
   "metadata": {},
   "outputs": [
    {
     "name": "stdout",
     "output_type": "stream",
     "text": [
      "hi\n",
      "there\n",
      "0\n",
      "1\n",
      "2\n"
     ]
    }
   ],
   "source": [
    "if True: print(\"hi\"); print(\"there\")\n",
    "else: print(\"bye\")\n",
    "def foo(x): return x + 1\n",
    "foo(2)\n",
    "i = 0; \n",
    "while i < 3: print(i); i+=1"
   ]
  },
  {
   "cell_type": "code",
   "execution_count": null,
   "metadata": {},
   "outputs": [],
   "source": []
  }
 ],
 "metadata": {
  "kernelspec": {
   "display_name": "Python 3",
   "language": "python",
   "name": "python3"
  },
  "language_info": {
   "codemirror_mode": {
    "name": "ipython",
    "version": 3
   },
   "file_extension": ".py",
   "mimetype": "text/x-python",
   "name": "python",
   "nbconvert_exporter": "python",
   "pygments_lexer": "ipython3",
   "version": "3.10.12"
  }
 },
 "nbformat": 4,
 "nbformat_minor": 2
}
