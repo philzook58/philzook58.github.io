{
 "cells": [
  {
   "cell_type": "markdown",
   "id": "f01f12b7",
   "metadata": {},
   "source": [
    "Coterm banks modulo theories. Automata minimization is that analog of hash consing for co-terms\n",
    "\n",
    "A hash consing gabrage colloector could also do automata minimization for rational trees. \"Sealing\" api to say id is no longer observable.\n",
    "\n",
    "\n",
    "A model for functions is given by tables describing what arguments go to what values. This can be ocmpressed into a single table via the sum type /tagging trick. `f a -> a ==  HashMap<Language<id>, id>`\n",
    "\n",
    "An automata can be cleverly described via a mapping from states to all the data about that state (as a record). `HashMap<id, Obs<id>>`\n",
    "\n",
    "Zach says getting stuff into PEG form and getting out was big problem. So maybe actually attack that. The analog of RE <-> automata? Which certainly can be inelegant.\n",
    "\n",
    "https://github.com/mvcisback/dfa\n",
    "\n",
    "\n"
   ]
  },
  {
   "cell_type": "code",
   "execution_count": 2,
   "id": "e7a16e74",
   "metadata": {},
   "outputs": [
    {
     "data": {
      "text/plain": [
       "DFA({0: (False, {0: 0, 1: 1}),\n",
       "  1: (False, {0: 1, 1: 2}),\n",
       "  2: (False, {0: 2, 1: 3}),\n",
       "  3: (True, {0: 3, 1: 0})},\n",
       " 0)"
      ]
     },
     "execution_count": 2,
     "metadata": {},
     "output_type": "execute_result"
    }
   ],
   "source": [
    "from dfa import DFA\n",
    "\n",
    "dfa1 = DFA(\n",
    "    start=0,\n",
    "    inputs={0, 1},\n",
    "    label=lambda s: (s % 4) == 3,\n",
    "    transition=lambda s, c: (s + c) % 4,\n",
    ")\n",
    "dfa1"
   ]
  }
 ],
 "metadata": {
  "kernelspec": {
   "display_name": "philzook58.github.io",
   "language": "python",
   "name": "python3"
  },
  "language_info": {
   "codemirror_mode": {
    "name": "ipython",
    "version": 3
   },
   "file_extension": ".py",
   "mimetype": "text/x-python",
   "name": "python",
   "nbconvert_exporter": "python",
   "pygments_lexer": "ipython3",
   "version": "3.12.3"
  }
 },
 "nbformat": 4,
 "nbformat_minor": 5
}
