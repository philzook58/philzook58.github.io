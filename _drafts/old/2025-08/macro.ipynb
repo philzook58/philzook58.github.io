{
 "cells": [
  {
   "cell_type": "markdown",
   "id": "be2a355e",
   "metadata": {},
   "source": [
    "Surely i have another file somewhere\n",
    "\n",
    "macropy \n",
    "lispy\n",
    "\n",
    "dual files in lean and jupyter. Verbose but opens the door to eventually going all lean?\n",
    "Or just getting better at lean.\n",
    "\n",
    "https://github.com/gilch/hissp\n",
    "https://github.com/hylang/hy"
   ]
  },
  {
   "cell_type": "code",
   "execution_count": 3,
   "id": "f542f64c",
   "metadata": {},
   "outputs": [
    {
     "data": {
      "text/plain": [
       "1"
      ]
     },
     "execution_count": 3,
     "metadata": {},
     "output_type": "execute_result"
    }
   ],
   "source": [
    "import hy\n",
    "#from my_module.hy_init import *\n",
    "#hy.eval(hy.read('(require my-module.hy-init :macros * :readers *)'))\n",
    "hy.eval(hy.read(\"(+ 1 2)\"))\n",
    "hy.eval(hy.read_many(\"(setv x 1) (+ x 1)\"))\n",
    "x"
   ]
  },
  {
   "cell_type": "code",
   "execution_count": null,
   "id": "1df04602",
   "metadata": {},
   "outputs": [],
   "source": []
  }
 ],
 "metadata": {
  "kernelspec": {
   "display_name": "philzook58.github.io",
   "language": "python",
   "name": "python3"
  },
  "language_info": {
   "codemirror_mode": {
    "name": "ipython",
    "version": 3
   },
   "file_extension": ".py",
   "mimetype": "text/x-python",
   "name": "python",
   "nbconvert_exporter": "python",
   "pygments_lexer": "ipython3",
   "version": "3.12.3"
  }
 },
 "nbformat": 4,
 "nbformat_minor": 5
}
