{
 "cells": [
  {
   "cell_type": "markdown",
   "id": "19c1e866",
   "metadata": {},
   "source": [
    "Arnold\n",
    "\n",
    "Susskind\n",
    "Tong\n",
    "Thornton and marion\n",
    "\n",
    "fetter walecka\n",
    "\n",
    "kepler motion\n",
    "scattering\n",
    "\n",
    "conservation of momentum\n",
    "center of mass\n",
    "\n",
    "young and freedman https://en.wikipedia.org/wiki/University_Physics https://www.andrew.cmu.edu/user/bbji/Desktop/University%20Physics%20with%20Modern%20Physics%2015th%20Edition%20By%20Hugh%20D.%20Young_compressed.pdf\n",
    "halliday and resnick\n",
    "\n",
    "\n",
    "measuring pi.\n",
    "sig figs = min of multiples https://en.wikipedia.org/wiki/Significant_figures\n",
    "\n",
    "\n",
    "\n",
    "parallel axis theorem\n",
    "circular motion\n",
    "\n",
    "\n",
    "https://en.wikipedia.org/wiki/Category:Physics_textbooks\n",
    "\n",
    "https://jfi.uchicago.edu/~tten/teaching/Physics.316/\n",
    "https://galileoandeinstein.phys.virginia.edu/7010/home.html\n",
    "\n",
    "\n",
    "DeclareSort(\"V2\")\n",
    "vadd\n",
    "scale = \n",
    "\n",
    "angle(a,b) = acos(dot(a,b))\n",
    "\n",
    "x = smt.Function(\"x\", V2, smt.RealSort())\n",
    "y = \n",
    "\n"
   ]
  },
  {
   "cell_type": "code",
   "execution_count": 21,
   "id": "a2de15c7",
   "metadata": {},
   "outputs": [
    {
     "data": {
      "text/latex": [
       "$\\displaystyle \\frac{d}{d t} \\sin{\\left(t \\right)}$"
      ],
      "text/plain": [
       "Derivative(sin(t), t)"
      ]
     },
     "execution_count": 21,
     "metadata": {},
     "output_type": "execute_result"
    }
   ],
   "source": [
    "from sympy import *\n",
    "\n",
    "F = Function('F')\n",
    "t,m  = symbols('t m')\n",
    "x = Function('x')\n",
    "i,j,k = symbols('i j k', integer=True)\n",
    "\n",
    "Eq(m * x(t).diff(t), F(t))\n",
    "\n",
    "_x = Wild(\"x\")\n",
    "F(i,t).diff(t).replace(F(i, _x), sin(_x))\n",
    "\n"
   ]
  },
  {
   "cell_type": "code",
   "execution_count": null,
   "id": "ef8aa29c",
   "metadata": {},
   "outputs": [],
   "source": []
  }
 ],
 "metadata": {
  "kernelspec": {
   "display_name": ".venv",
   "language": "python",
   "name": "python3"
  },
  "language_info": {
   "codemirror_mode": {
    "name": "ipython",
    "version": 3
   },
   "file_extension": ".py",
   "mimetype": "text/x-python",
   "name": "python",
   "nbconvert_exporter": "python",
   "pygments_lexer": "ipython3",
   "version": "3.12.3"
  }
 },
 "nbformat": 4,
 "nbformat_minor": 5
}
