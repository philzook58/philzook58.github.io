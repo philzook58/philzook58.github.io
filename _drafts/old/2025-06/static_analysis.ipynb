{
 "cells": [
  {
   "cell_type": "markdown",
   "id": "6f38673a",
   "metadata": {},
   "source": [
    "https://staticanalysis.org/nsad2019/papers/NSAD2019_paper_6_WM.pdf Flow Insensitive Relational Static Analysis\n",
    "\n",
    "ABCD analysis\n",
    "Bodík, R., Gupta, R., Sarkar, V.: ABCD: eliminating array bounds checks on\n",
    "demand. In: PLDI. ACM (2000)\n",
    "\n",
    "points-to\n",
    "\n",
    "\n",
    "VSA\n",
    "\n",
    "https://codex.top/papers/2025-pldi-relational-abstractions-labeled-uf.html\n",
    "\n",
    "Combination theories. That's interesting. Interacting group union finds. Some kind of group product?\n",
    "Also interaction with single variable domains. That's interesting.\n",
    "egg1 lattices\n",
    "propagating group union find to regular union find. Interesting. Key on group elements to root, all conflicts should propagate\n",
    "\n",
    "The group union find is pretty special in that it will allow top down ematching no problem\n",
    "Also for constructor + prim.\n",
    "\n",
    "https://colibri.frama-c.com/\n",
    "\n",
    "\n",
    "Remember we were going to implement CF's thing they siad couldn't be verified\n",
    "\n",
    "\n",
    "https://www-apr.lip6.fr/~mine/publi/article-mine-FTiPL17.pdf Tutorial on Static Inference of Numeric Invariants by\n",
    "Abstract Interpretation\n",
    "\n",
    "\n"
   ]
  }
 ],
 "metadata": {
  "language_info": {
   "name": "python"
  }
 },
 "nbformat": 4,
 "nbformat_minor": 5
}
