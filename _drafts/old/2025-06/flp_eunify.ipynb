{
 "cells": [
  {
   "cell_type": "markdown",
   "id": "6605d21e",
   "metadata": {},
   "source": [
    "E-unfication\n",
    "\n",
    "FLP interpreter\n",
    "functional logic programming\n",
    "\n",
    "\n",
    "https://www.philipzucker.com/unify_mod_egraphs/ \n",
    "https://www.philipzucker.com/knuck_prolog/\n",
    "\n",
    "\n",
    "https://github.com/namin/clpsmt-miniKanren?tab=readme-ov-file\n",
    "\n",
    "Unification modulo SMT vs CLP(smt)\n",
    "CLP vs changed unification are slightly different games.\n",
    "\n",
    "Does bottom up unification actually work?\n",
    "Could we stop the redundant solutions? at the check site?\n",
    "\n",
    "Unification by quantifier elim. What about   Exists([Y,Z], Cons(Y,Z) = X). If we could guess or search. smt.ForAll([x], smt.Exists([y,z], )\n",
    "Use z3 quantifier elim to do unification?\n",
    "\n",
    "\n",
    "Hmm. Maybe insisting on a theory inside Lemma could help. Or using a fixed point solver. The breadcrumbs ought to have reduced the problem to a syntactic horn problem.\n",
    "Ask on discussions board?\n",
    "Yeah what about just using spacer?\n",
    "In some sense, Lemma is a manual CLP(SMT)?\n",
    "https://z3prover.github.io/papers/z3internals.html#sec-tactics\n",
    "\n",
    "\n",
    "https://arxiv.org/abs/2306.10009 Fast Approximations of Quantifier Elimination. z3EG\n",
    "https://github.com/igcontreras/z3\n",
    "\n",
    "\n",
    "https://dl.acm.org/doi/10.1007/978-3-031-71162-6_6 Practical Approximate Quantifier Elimination for Non-linear Real Arithmetic. POQER+z3EG\n",
    "\n",
    "MBP model based projection\n",
    "\n",
    "https://arxiv.org/abs/2504.16536 Synthesiz3 This: an SMT-Based Approach for Synthesis with Uncomputable Symbols\n",
    "\n",
    "CAD\n",
    "redlog\n",
    "\n",
    "https://github.com/Z3Prover/z3/blob/master/src/ast/simplifiers/euf_completion.cpp\n",
    "\n",
    "\n",
    "\n",
    "\n",
    "\n"
   ]
  },
  {
   "cell_type": "code",
   "execution_count": 2,
   "id": "0b7a5968",
   "metadata": {},
   "outputs": [
    {
     "ename": "Z3Exception",
     "evalue": "b\"logic 'bmc' is not recognized\"",
     "output_type": "error",
     "traceback": [
      "\u001b[31m---------------------------------------------------------------------------\u001b[39m",
      "\u001b[31mZ3Exception\u001b[39m                               Traceback (most recent call last)",
      "\u001b[36mCell\u001b[39m\u001b[36m \u001b[39m\u001b[32mIn[2]\u001b[39m\u001b[32m, line 2\u001b[39m\n\u001b[32m      1\u001b[39m \u001b[38;5;28;01mfrom\u001b[39;00m\u001b[38;5;250m \u001b[39m\u001b[34;01mkdrag\u001b[39;00m\u001b[34;01m.\u001b[39;00m\u001b[34;01mall\u001b[39;00m\u001b[38;5;250m \u001b[39m\u001b[38;5;28;01mimport\u001b[39;00m *\n\u001b[32m----> \u001b[39m\u001b[32m2\u001b[39m \u001b[43msmt\u001b[49m\u001b[43m.\u001b[49m\u001b[43mSolverFor\u001b[49m\u001b[43m(\u001b[49m\u001b[33;43m\"\u001b[39;49m\u001b[33;43mbmc\u001b[39;49m\u001b[33;43m\"\u001b[39;49m\u001b[43m)\u001b[49m\n",
      "\u001b[36mFile \u001b[39m\u001b[32m~/philzook58.github.io/.venv/lib/python3.12/site-packages/z3/z3.py:7578\u001b[39m, in \u001b[36mSolverFor\u001b[39m\u001b[34m(logic, ctx, logFile)\u001b[39m\n\u001b[32m   7576\u001b[39m ctx = _get_ctx(ctx)\n\u001b[32m   7577\u001b[39m logic = to_symbol(logic)\n\u001b[32m-> \u001b[39m\u001b[32m7578\u001b[39m \u001b[38;5;28;01mreturn\u001b[39;00m Solver(\u001b[43mZ3_mk_solver_for_logic\u001b[49m\u001b[43m(\u001b[49m\u001b[43mctx\u001b[49m\u001b[43m.\u001b[49m\u001b[43mref\u001b[49m\u001b[43m(\u001b[49m\u001b[43m)\u001b[49m\u001b[43m,\u001b[49m\u001b[43m \u001b[49m\u001b[43mlogic\u001b[49m\u001b[43m)\u001b[49m, ctx, logFile)\n",
      "\u001b[36mFile \u001b[39m\u001b[32m~/philzook58.github.io/.venv/lib/python3.12/site-packages/z3/z3core.py:4130\u001b[39m, in \u001b[36mZ3_mk_solver_for_logic\u001b[39m\u001b[34m(a0, a1, _elems)\u001b[39m\n\u001b[32m   4128\u001b[39m \u001b[38;5;28;01mdef\u001b[39;00m\u001b[38;5;250m \u001b[39m\u001b[34mZ3_mk_solver_for_logic\u001b[39m(a0, a1, _elems=Elementaries(_lib.Z3_mk_solver_for_logic)):\n\u001b[32m   4129\u001b[39m   r = _elems.f(a0, a1)\n\u001b[32m-> \u001b[39m\u001b[32m4130\u001b[39m   \u001b[43m_elems\u001b[49m\u001b[43m.\u001b[49m\u001b[43mCheck\u001b[49m\u001b[43m(\u001b[49m\u001b[43ma0\u001b[49m\u001b[43m)\u001b[49m\n\u001b[32m   4131\u001b[39m   \u001b[38;5;28;01mreturn\u001b[39;00m r\n",
      "\u001b[36mFile \u001b[39m\u001b[32m~/philzook58.github.io/.venv/lib/python3.12/site-packages/z3/z3core.py:1579\u001b[39m, in \u001b[36mElementaries.Check\u001b[39m\u001b[34m(self, ctx)\u001b[39m\n\u001b[32m   1577\u001b[39m err = \u001b[38;5;28mself\u001b[39m.get_error_code(ctx)\n\u001b[32m   1578\u001b[39m \u001b[38;5;28;01mif\u001b[39;00m err != \u001b[38;5;28mself\u001b[39m.OK:\n\u001b[32m-> \u001b[39m\u001b[32m1579\u001b[39m     \u001b[38;5;28;01mraise\u001b[39;00m \u001b[38;5;28mself\u001b[39m.Exception(\u001b[38;5;28mself\u001b[39m.get_error_message(ctx, err))\n",
      "\u001b[31mZ3Exception\u001b[39m: b\"logic 'bmc' is not recognized\""
     ]
    }
   ],
   "source": [
    "from kdrag.all import *\n",
    "smt.SolverFor(\"bmc\")"
   ]
  },
  {
   "cell_type": "markdown",
   "id": "6b70456b",
   "metadata": {},
   "source": [
    "muZ: routines related to solving satisfiability of Horn clauses and \n",
    "solving Datalog programs.\n",
    "\n",
    "- base - contains base routines and the main context for\n",
    "         maintaining fixedpoint solvers\n",
    "- transforms - common rule transformations\n",
    "- rel - relational algebra based Datalog engine\n",
    "- pdr - PDR based Horn clause solver\n",
    "- clp - Dart/Symbolic execution-based solver\n",
    "- tab - Tabulation based solver\n",
    "- bmc - Bounded model checking based solver\n",
    "- fp  - main exported routines\n",
    "- \n",
    "\"ast/substitution/unifier.h\"\n",
    "\n",
    "https://github.com/Z3Prover/z3/commit/51d3c279d0656a729c1fe27249f7fd5f3f59e71c\n",
    " Light quantifier elimination based on term graphs (egraphs), and corresponding Model Based Projection for arrays and ADTs. Used by Spacer and QSAT.\n",
    "\n",
    " https://github.com/Z3Prover/z3/issues/6726  I make a call Z3_qe_model_project(ctx, model, n, consts, formula) via C API.\n",
    "\n",
    " Maybe I could do it thought smt lib string?\n",
    "\n",
    " "
   ]
  },
  {
   "cell_type": "code",
   "execution_count": null,
   "id": "f0a39579",
   "metadata": {},
   "outputs": [],
   "source": [
    "fp = smt.Fixedpoint()\n",
    "fp.set(engine='cl') # add_lib('fp',  ['muz', 'clp', 'tab', 'rel', 'bmc', 'ddnf', 'spacer']"
   ]
  },
  {
   "cell_type": "code",
   "execution_count": null,
   "id": "ee43e2a1",
   "metadata": {},
   "outputs": [
    {
     "ename": "Z3Exception",
     "evalue": "unknown tactic 'qel'",
     "output_type": "error",
     "traceback": [
      "\u001b[31m---------------------------------------------------------------------------\u001b[39m",
      "\u001b[31mZ3Exception\u001b[39m                               Traceback (most recent call last)",
      "\u001b[36mFile \u001b[39m\u001b[32m~/philzook58.github.io/.venv/lib/python3.12/site-packages/z3/z3.py:8435\u001b[39m, in \u001b[36mTactic.__init__\u001b[39m\u001b[34m(self, tactic, ctx)\u001b[39m\n\u001b[32m   8434\u001b[39m \u001b[38;5;28;01mtry\u001b[39;00m:\n\u001b[32m-> \u001b[39m\u001b[32m8435\u001b[39m     \u001b[38;5;28mself\u001b[39m.tactic = \u001b[43mZ3_mk_tactic\u001b[49m\u001b[43m(\u001b[49m\u001b[38;5;28;43mself\u001b[39;49m\u001b[43m.\u001b[49m\u001b[43mctx\u001b[49m\u001b[43m.\u001b[49m\u001b[43mref\u001b[49m\u001b[43m(\u001b[49m\u001b[43m)\u001b[49m\u001b[43m,\u001b[49m\u001b[43m \u001b[49m\u001b[38;5;28;43mstr\u001b[39;49m\u001b[43m(\u001b[49m\u001b[43mtactic\u001b[49m\u001b[43m)\u001b[49m\u001b[43m)\u001b[49m\n\u001b[32m   8436\u001b[39m \u001b[38;5;28;01mexcept\u001b[39;00m Z3Exception:\n",
      "\u001b[36mFile \u001b[39m\u001b[32m~/philzook58.github.io/.venv/lib/python3.12/site-packages/z3/z3core.py:3812\u001b[39m, in \u001b[36mZ3_mk_tactic\u001b[39m\u001b[34m(a0, a1, _elems)\u001b[39m\n\u001b[32m   3811\u001b[39m r = _elems.f(a0, _str_to_bytes(a1))\n\u001b[32m-> \u001b[39m\u001b[32m3812\u001b[39m \u001b[43m_elems\u001b[49m\u001b[43m.\u001b[49m\u001b[43mCheck\u001b[49m\u001b[43m(\u001b[49m\u001b[43ma0\u001b[49m\u001b[43m)\u001b[49m\n\u001b[32m   3813\u001b[39m \u001b[38;5;28;01mreturn\u001b[39;00m r\n",
      "\u001b[36mFile \u001b[39m\u001b[32m~/philzook58.github.io/.venv/lib/python3.12/site-packages/z3/z3core.py:1579\u001b[39m, in \u001b[36mElementaries.Check\u001b[39m\u001b[34m(self, ctx)\u001b[39m\n\u001b[32m   1578\u001b[39m \u001b[38;5;28;01mif\u001b[39;00m err != \u001b[38;5;28mself\u001b[39m.OK:\n\u001b[32m-> \u001b[39m\u001b[32m1579\u001b[39m     \u001b[38;5;28;01mraise\u001b[39;00m \u001b[38;5;28mself\u001b[39m.Exception(\u001b[38;5;28mself\u001b[39m.get_error_message(ctx, err))\n",
      "\u001b[31mZ3Exception\u001b[39m: b'unknown tactic qel'",
      "\nDuring handling of the above exception, another exception occurred:\n",
      "\u001b[31mZ3Exception\u001b[39m                               Traceback (most recent call last)",
      "\u001b[32m/tmp/ipykernel_2427786/104250551.py\u001b[39m in \u001b[36m?\u001b[39m\u001b[34m()\u001b[39m\n\u001b[32m----> \u001b[39m\u001b[32m1\u001b[39m smt.Tactic(\u001b[33m\"qel\"\u001b[39m)\n",
      "\u001b[32m~/philzook58.github.io/.venv/lib/python3.12/site-packages/z3/z3.py\u001b[39m in \u001b[36m?\u001b[39m\u001b[34m(self, tactic, ctx)\u001b[39m\n\u001b[32m   8433\u001b[39m                 _z3_assert(isinstance(tactic, str), \u001b[33m\"tactic name expected\"\u001b[39m)\n\u001b[32m   8434\u001b[39m             \u001b[38;5;28;01mtry\u001b[39;00m:\n\u001b[32m   8435\u001b[39m                 self.tactic = Z3_mk_tactic(self.ctx.ref(), str(tactic))\n\u001b[32m   8436\u001b[39m             \u001b[38;5;28;01mexcept\u001b[39;00m Z3Exception:\n\u001b[32m-> \u001b[39m\u001b[32m8437\u001b[39m                 \u001b[38;5;28;01mraise\u001b[39;00m Z3Exception(\u001b[33m\"unknown tactic '%s'\"\u001b[39m % tactic)\n\u001b[32m   8438\u001b[39m         Z3_tactic_inc_ref(self.ctx.ref(), self.tactic)\n",
      "\u001b[31mZ3Exception\u001b[39m: unknown tactic 'qel'"
     ]
    }
   ],
   "source": [
    "# smt.Tactic(\"qel\") Not a tactic. Hmm."
   ]
  },
  {
   "cell_type": "code",
   "execution_count": 14,
   "id": "02ef2cd8",
   "metadata": {},
   "outputs": [
    {
     "data": {
      "text/html": [
       "[[m = Z]]"
      ],
      "text/plain": [
       "[[m == Z]]"
      ]
     },
     "execution_count": 14,
     "metadata": {},
     "output_type": "execute_result"
    }
   ],
   "source": [
    "import kdrag.theories.nat as nat\n",
    "from kdrag.all import *\n",
    "n,m = smt.Consts(\"n m\", nat.Nat)\n",
    "t = smt.Exists([n], smt.And(m == n, nat.S(n) == nat.S(nat.Z)))\n",
    "g  = smt.Goal()\n",
    "g.add(t)\n",
    "tac = smt.Tactic(\"qe\")\n",
    "#tac(g)\n",
    "\n",
    "\n",
    "smt.Tactic(\"solve-eqs\")\n",
    "smt.Tactic(\"qe-light\")\n",
    "tac(g)\n"
   ]
  },
  {
   "cell_type": "markdown",
   "id": "27079bb3",
   "metadata": {},
   "source": [
    "The model vconverters are avaiable?\n"
   ]
  },
  {
   "cell_type": "code",
   "execution_count": null,
   "id": "de943747",
   "metadata": {},
   "outputs": [],
   "source": [
    "\n",
    "#https://github.com/Z3Prover/z3/commit/b4c2b455bd6282600b0d7413cad816501288332c\n",
    "The scenario works as expected when disabling model compression:\n",
    "\n",
    "```\n",
    "from z3 import *\n",
    "pre_processor = Tactic(\"bit-blast\")\n",
    "solver = Solver()\n",
    "\n",
    "set_param(\"model.compact\", False)\n",
    "\n",
    "x = BitVec('x', 8)\n",
    "pre_processed = pre_processor(x == 5)\n",
    "print(pre_processed[0])\n",
    "solver.add(pre_processed[0]) # add the sole assertion\n",
    "\n",
    "if solver.check() == sat:\n",
    "    print(solver.model())\n",
    "    model = pre_processed[0].convert_model(solver.model())\n",
    "    print(model)\n",
    "    print(model[x].as_long())\n",
    "```"
   ]
  }
 ],
 "metadata": {
  "kernelspec": {
   "display_name": ".venv",
   "language": "python",
   "name": "python3"
  },
  "language_info": {
   "codemirror_mode": {
    "name": "ipython",
    "version": 3
   },
   "file_extension": ".py",
   "mimetype": "text/x-python",
   "name": "python",
   "nbconvert_exporter": "python",
   "pygments_lexer": "ipython3",
   "version": "3.12.3"
  }
 },
 "nbformat": 4,
 "nbformat_minor": 5
}
