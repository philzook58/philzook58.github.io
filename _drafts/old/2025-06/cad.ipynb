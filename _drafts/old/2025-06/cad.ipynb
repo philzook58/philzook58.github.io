{
 "cells": [
  {
   "cell_type": "markdown",
   "id": "03ccdca6",
   "metadata": {},
   "source": [
    "https://github.com/fogleman/sdf\n",
    "https://github.com/fogleman\n",
    "https://www.michaelfogleman.com/projects/\n",
    "\n",
    "https://www.mattkeeter.com/\n",
    "https://www.mattkeeter.com/projects/fidget/\n",
    "\n",
    "https://github.com/libfive/libfive\n",
    "https://github.com/openscad/openscad/\n",
    "\n",
    "https://www.cs.cmu.edu/~kmcrane/index.html#teaching\n",
    "https://mathstodon.xyz/@keenancrane/114501180005588569 monte cartlo dissretation\n",
    "https://rohan-sawhney.github.io/mcgp-resources/ Resources on Monte Carlo Geometry Processing\n",
    "https://www.youtube.com/watch?v=cmgNqCwaPYc&ab_channel=RohanSawhney\n",
    "\n"
   ]
  }
 ],
 "metadata": {
  "language_info": {
   "name": "python"
  }
 },
 "nbformat": 4,
 "nbformat_minor": 5
}
