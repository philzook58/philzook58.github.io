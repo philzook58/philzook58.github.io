{
 "cells": [
  {
   "cell_type": "markdown",
   "metadata": {},
   "source": [
    "https://github.com/cheuktingli/psitip?tab=readme-ov-file\n",
    "Python Symbolic Information Theoretic Inequality Prover\n",
    "\n",
    "\n",
    "https://link.springer.com/book/10.1007/978-1-4939-9084-9 Quantum Information Meets Quantum Matter\n",
    "From Quantum Entanglement to Topological Phases of Many-Body Systems\n"
   ]
  }
 ],
 "metadata": {
  "language_info": {
   "name": "python"
  }
 },
 "nbformat": 4,
 "nbformat_minor": 2
}
