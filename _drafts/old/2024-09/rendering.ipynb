{
 "cells": [
  {
   "cell_type": "code",
   "execution_count": null,
   "metadata": {},
   "outputs": [],
   "source": []
  },
  {
   "cell_type": "markdown",
   "metadata": {},
   "source": [
    "SDF rendering\n",
    "raylib?"
   ]
  },
  {
   "cell_type": "markdown",
   "metadata": {},
   "source": []
  },
  {
   "cell_type": "code",
   "execution_count": 2,
   "metadata": {},
   "outputs": [
    {
     "ename": "ModuleNotFoundError",
     "evalue": "No module named 'trimesh'",
     "output_type": "error",
     "traceback": [
      "\u001b[0;31m---------------------------------------------------------------------------\u001b[0m",
      "\u001b[0;31mModuleNotFoundError\u001b[0m                       Traceback (most recent call last)",
      "Cell \u001b[0;32mIn[2], line 2\u001b[0m\n\u001b[1;32m      1\u001b[0m \u001b[38;5;28;01mimport\u001b[39;00m \u001b[38;5;21;01mnumpy\u001b[39;00m \u001b[38;5;28;01mas\u001b[39;00m \u001b[38;5;21;01mnp\u001b[39;00m\n\u001b[0;32m----> 2\u001b[0m \u001b[38;5;28;01mimport\u001b[39;00m \u001b[38;5;21;01mtrimesh\u001b[39;00m\n\u001b[1;32m      4\u001b[0m \u001b[38;5;66;03m# attach to logger so trimesh messages will be printed to console\u001b[39;00m\n\u001b[1;32m      5\u001b[0m trimesh\u001b[38;5;241m.\u001b[39mutil\u001b[38;5;241m.\u001b[39mattach_to_log()\n",
      "\u001b[0;31mModuleNotFoundError\u001b[0m: No module named 'trimesh'"
     ]
    }
   ],
   "source": [
    "import numpy as np\n",
    "import trimesh\n",
    "\n",
    "# attach to logger so trimesh messages will be printed to console\n",
    "trimesh.util.attach_to_log()\n",
    "\n",
    "# mesh objects can be created from existing faces and vertex data\n",
    "mesh = trimesh.Trimesh(vertices=[[0, 0, 0], [0, 0, 1], [0, 1, 0]],\n",
    "                       faces=[[0, 1, 2]])\n",
    "# preview mesh in an opengl window if you installed pyglet and scipy with pip\n",
    "mesh.show()"
   ]
  },
  {
   "cell_type": "markdown",
   "metadata": {},
   "source": [
    "https://www.jeremyong.com/graphics/2024/05/19/getting-started-in-computer-graphics/ "
   ]
  },
  {
   "cell_type": "markdown",
   "metadata": {},
   "source": [
    "# Geometry Processing\n",
    "https://en.wikipedia.org/wiki/Geometry_processing\n",
    "SGP https://www.youtube.com/@SGP2024MIT\n",
    "\n",
    "libigl https://libigl.github.io/libigl-python-bindings/tut-chapter0/\n",
    "\n",
    "https://groups.csail.mit.edu/gdpgroup/68410_spring_2023.html solomon shape analysis \n",
    "\n",
    "https://www.youtube.com/watch?v=wO2EfNIgBBY&ab_channel=SymposiumonGeometryProcessing2024 Keynote: The Triangle is Dead, Long Live the Triangle! (Alec Jacobson\n",
    "\n",
    "NeRF x,y,z alpha beta -> f -> rgb color,sig deisnty. Inverse renediner loss against photos\n",
    "Instant NGP\n",
    "Gaussian Splatting\n",
    "Relu fields  https://arxiv.org/abs/2205.10824 https://geometry.cs.ucl.ac.uk/group_website/projects/2022/relu_fields/\n",
    "plenoxels\n",
    "\n",
    "\n",
    "spectral coarseinfg of geometric operators\n",
    "fast quasi harmonic weifhts for geometric data interpolation\n",
    "convex optimization solved by adam\n",
    "\n",
    "stochastic poisson surface reconstruction\n",
    "\n",
    "implicit functions\n",
    "f : R^3 -> R\n",
    "M = {  f(x) = 0}\n",
    "Lipshitz bound\n",
    "signed distance field\n",
    "sphere marching\n",
    "\n",
    "2019 deep signed distance field. use neural\n",
    "training outputs SDF function. x,y,z,zi -> ftheta -> s\n",
    "continuous topolocxial feedom\n",
    "\n",
    "https://www.youtube.com/watch?v=To3KaQvYaUw&list=PLa3BSqPRbYyJtnfPMUZBtBnFLMVoyTz7z&index=5&ab_channel=SymposiumonGeometryProcessing2024 fabrication\n",
    "\n",
    "\n",
    "https://www.youtube.com/watch?v=1u-5b492mKE&list=PLa3BSqPRbYyJtnfPMUZBtBnFLMVoyTz7z&index=8&t=1s&ab_channel=SymposiumonGeometryProcessing2024 monte carlo geometry procersdsing\n",
    "https://gi1242.codeberg.page/cmu-math-cs-mcm/ crane course\n",
    "\n",
    "https://www.youtube.com/watch?v=wQU9H4lp21k&list=PLa3BSqPRbYyJtnfPMUZBtBnFLMVoyTz7z&index=7&ab_channel=SymposiumonGeometryProcessing2024 Geometry Processing Research in Python\n",
    "polyscope\n",
    "gpytoolbox https://gpytoolbox.org/latest/"
   ]
  },
  {
   "cell_type": "code",
   "execution_count": 4,
   "metadata": {},
   "outputs": [
    {
     "data": {
      "text/plain": [
       "array([[    0,  2562,  2563],\n",
       "       [    0,  2563,  2564],\n",
       "       [    0,  2564,  2565],\n",
       "       ...,\n",
       "       [10237, 10238, 10236],\n",
       "       [10240, 10241, 10239],\n",
       "       [10232, 10231, 10230]])"
      ]
     },
     "execution_count": 4,
     "metadata": {},
     "output_type": "execute_result"
    }
   ],
   "source": [
    "import polyscope as ps\n",
    "import gpytoolbox as gpy\n",
    "V,F = gpy.icosphere(5)\n",
    "V\n",
    "\"\"\"\n",
    "ps.init()\n",
    "ps.register_surface_mesh(\"sphere\", V, F)\n",
    "ps.show()\n",
    "\"\"\"\n",
    "F"
   ]
  },
  {
   "cell_type": "code",
   "execution_count": null,
   "metadata": {},
   "outputs": [],
   "source": []
  },
  {
   "cell_type": "markdown",
   "metadata": {},
   "source": []
  },
  {
   "cell_type": "markdown",
   "metadata": {},
   "source": [
    "# Computational geometry\n",
    "\n",
    "https://www.toptal.com/python/computational-geometry-in-python-from-theory-to-implementation\n",
    "https://en.wikipedia.org/wiki/Point_in_polygon\n",
    "CCW\n",
    "convex hull\n",
    "https://deeplearning.lipingyang.org/computational-geometry-in-python/\n",
    "https://www.odbms.org/2018/04/interactive-computational-geometry-in-python/\n",
    "\n",
    "delauney\n",
    "triangulation\n",
    "mesh generation\n",
    "\n",
    "https://shapely.readthedocs.io/en/stable/index.html plane geometry. hashing via \"WKB\" representation\n",
    "geos https://libgeos.org/\n",
    "postgis\n",
    "qgis\n",
    "gdal\n",
    "\n",
    "tetgen https://wias-berlin.de/software/index.jsp?id=TetGen&lang=1\n",
    " \n",
    "gmsh pygmsh\n",
    "https://github.com/pyvista/scikit-gmsh scikit-gmsh\n",
    "meshlab pymeshlab https://github.com/cnr-isti-vclab/meshlab\n",
    "pymesh https://pymesh.readthedocs.io/en/latest/\n",
    "https://github.com/inducer/meshpy meshpy\n",
    "\n",
    "\n",
    "meshio https://github.com/nschloe/meshio convert between many mesh types\n",
    "https://github.com/nschloe\n",
    "https://github.com/nschloe/awesome-scientific-computing\n",
    "https://github.com/meshpro/meshzoo\n",
    "pygalmesh https://github.com/meshpro/pygalmesh/\n",
    "optimesh\n",
    "dmsh\n",
    "\n",
    "https://docs.pyvista.org/version/stable/ 3d plotting andc mesh (vtk)\n",
    "\n",
    "https://github.com/google/draco mesh compression\n",
    "\n",
    "opengeosys https://gitlab.opengeosys.org/ogs/ogs f\n",
    "numerical methods for the simulation of thermo-hydro-mechanical-chemical\n",
    "\n",
    "fenics\n",
    "https://netlib.org/utk/people/JackDongarra/la-sw.html linear lagerba survey. Lots of hierachical pakcages.\n",
    "https://www.math.colostate.edu/~bangerth/videos.html wolfgang bangerth course\n",
    "\n",
    "https://pypi.org/project/gdist/ geodesic\n",
    "\n",
    "https://github.com/mpasha3/trips-py  Techniques for Regularization of Inverse Problems in Python\n",
    "\n",
    "https://github.com/mikedh/trimesh\n",
    "\n",
    "openmvs. multi view synthesis  https://github.com/cdcseacave/openMVS\n",
    "https://github.com/jimy-byerley/pymadcad cad for python\n",
    "\n",
    "https://github.com/Pseudomanifold/CompHom Computing homology groups of simplicial complexes\n"
   ]
  },
  {
   "cell_type": "code",
   "execution_count": null,
   "metadata": {},
   "outputs": [],
   "source": [
    "import numpy as np\n",
    "import pyvista\n",
    "\n",
    "point_cloud = np.random.random((100, 3))\n",
    "pdata = pyvista.PolyData(point_cloud)\n",
    "pdata['orig_sphere'] = np.arange(100)\n",
    "\n",
    "# create many spheres from the point cloud\n",
    "sphere = pyvista.Sphere(radius=0.02, phi_resolution=10, theta_resolution=10)\n",
    "pc = pdata.glyph(scale=False, geom=sphere, orient=False)\n",
    "pc.plot(cmap='Reds')"
   ]
  },
  {
   "cell_type": "code",
   "execution_count": null,
   "metadata": {},
   "outputs": [],
   "source": [
    "import pyvista as pv\n",
    "import tetgen\n",
    "import numpy as np\n",
    "pv.set_plot_theme('document')\n",
    "\n",
    "sphere = pv.Sphere()\n",
    "tet = tetgen.TetGen(sphere)\n",
    "tet.tetrahedralize(order=1, mindihedral=20, minratio=1.5)\n",
    "grid = tet.grid\n",
    "grid.plot(show_edges=True)"
   ]
  }
 ],
 "metadata": {
  "kernelspec": {
   "display_name": "Python 3",
   "language": "python",
   "name": "python3"
  },
  "language_info": {
   "codemirror_mode": {
    "name": "ipython",
    "version": 3
   },
   "file_extension": ".py",
   "mimetype": "text/x-python",
   "name": "python",
   "nbconvert_exporter": "python",
   "pygments_lexer": "ipython3",
   "version": "3.10.12"
  }
 },
 "nbformat": 4,
 "nbformat_minor": 2
}
