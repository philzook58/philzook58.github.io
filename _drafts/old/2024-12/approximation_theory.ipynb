{
 "cells": [
  {
   "cell_type": "code",
   "execution_count": null,
   "metadata": {},
   "outputs": [],
   "source": []
  },
  {
   "cell_type": "markdown",
   "metadata": {},
   "source": [
    "AAA algorithm rational apporimxation\n",
    "\n",
    "\n",
    "\n",
    "Lebesgue constant https://en.wikipedia.org/wiki/Lebesgue_constant ratio to best polynomial. But what is best polynomial?\n",
    "\n",
    "https://en.wikipedia.org/wiki/Polynomial_interpolation\n",
    "lagrange polynomials\n",
    "lagrangfe reaminder formula\n",
    "https://en.wikipedia.org/wiki/Stone%E2%80%93Weierstrass_theorem\n",
    "\n",
    "Why do we write the error as a property of derivatives?\n",
    "\n",
    "You need smoothness data somehow.\n",
    "\n",
    "Trefethen, Lloyd N. Approximation Theory and Approximation Practice. SIAM, 2013.\n",
    "\n",
    "Chebyshev\n",
    "Chbeyshev transform\n",
    "\n",
    "integration as a abtract operator\n",
    "https://github.com/comp-physics/awesome-numerics\n",
    "\n",
    "numerical anmalysis books;l.,;/l,,\n"
   ]
  },
  {
   "cell_type": "code",
   "execution_count": null,
   "metadata": {},
   "outputs": [],
   "source": [
    "# family of functions closed under m,ultipcation and addition.\n",
    "# We only need proof terms to show something is _not_ a poly.\n",
    "\n",
    "poly(f) == Or(f == Konst(), \n",
    "              f == Lambda([x], x), \n",
    "              And(poly(g), poly(h), f == g + h,\n",
    "              And(poly(g), poly(h), f == g * h,))\n",
    "\n",
    "rolle = poly(f), f(a) == 0, f(b) == 0, f(c)\n",
    "\n",
    "Cont = Record(\"Cont\", (\"f\", RFun, ))"
   ]
  },
  {
   "cell_type": "code",
   "execution_count": null,
   "metadata": {},
   "outputs": [],
   "source": [
    "T(0) == K(RealSort(), 1)\n",
    "T(1) == Lambda([x], x)\n",
    "kd.axiom(kd.QForAll([n], n > 2, T(n) == x*T(n-1) + T(n-2))"
   ]
  },
  {
   "cell_type": "code",
   "execution_count": null,
   "metadata": {},
   "outputs": [],
   "source": [
    "kd.define(\"mono\", [n], Lambda([x], x**n))\n",
    "kd.notation.add.define([a,b], Lambda([x], a[x] + b[x]))\n",
    "kd.notation.mul.define([a,b], Lambda([x], a[x] * b[x]))\n",
    "X = mono(1)\n",
    "\n",
    "# put into normal form.\n",
    "def interpolate(f,n):\n",
    "    xs = linspace() / chebyshev\n",
    "    ys = [smt.simplify(f[x]) for x in xs]\n",
    "\n"
   ]
  }
 ],
 "metadata": {
  "language_info": {
   "name": "python"
  }
 },
 "nbformat": 4,
 "nbformat_minor": 2
}
