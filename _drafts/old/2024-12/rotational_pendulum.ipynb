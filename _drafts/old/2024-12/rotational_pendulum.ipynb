{
 "cells": [
  {
   "cell_type": "markdown",
   "metadata": {},
   "source": [
    "\n",
    "We've decided to measure the moment of inertia\n",
    "\n",
    "https://en.wikipedia.org/wiki/Pendulum\n",
    "https://farside.ph.utexas.edu/teaching/301/lectures/node140.html\n",
    "$\\omega = \\sqrt{g/l}$\n",
    "\n",
    "https://farside.ph.utexas.edu/teaching/301/lectures/node139.html\n",
    "torsional pendulum.\n",
    "\n",
    "There is something about pendulums. They are extremely simple. But also pretty precise and lossless.\n",
    "\n",
    "The airy condition, period is least dsitbured if you push pendulum at bottom\n",
    "\n",
    "\n",
    "\n",
    "Huygens pendulum\n",
    "https://en.wikipedia.org/wiki/Kater%27s_pendulum\n",
    "https://en.wikipedia.org/wiki/Center_of_percussion\n",
    "\n",
    "Spontaneous synchronization https://en.wikipedia.org/wiki/Injection_locking\n",
    "\n",
    "Measure the nonlinear up down sweep difference? Is pendulum nonlinearity enough?\n",
    "\n",
    "\n",
    "The fourier transform method wasn't working that well. Counting cycles seems kind of better.\n",
    "\n",
    "Smart experiments where they use symmettry or other considerations to calibrate or remove unctrollable effects\n",
    "\n",
    "\n",
    "Foucault pednulum\n",
    "\n",
    "https://en.wikipedia.org/wiki/Kapitza%27s_pendulum\n",
    "\n",
    "https://en.wikipedia.org/wiki/Rayleigh%E2%80%93Lorentz_pendulum adiabatic change of the pendulum\n",
    "\n",
    "https://en.wikipedia.org/wiki/Doubochinski%27s_pendulum whaaaa. discrete stable amplitdues\n",
    "\n",
    "The physicist culture of estimation and approximation and reasoning is fascinating.\n",
    "A lot of it is about geometry. Trig\n",
    "What even talks to what\n",
    "Ben did a sanity check using units. What is the deal with that."
   ]
  },
  {
   "cell_type": "markdown",
   "metadata": {},
   "source": [
    "# phone measurements\n",
    "It's really cool and useful.\n",
    "\n",
    "\n",
    "\n"
   ]
  }
 ],
 "metadata": {
  "language_info": {
   "name": "python"
  }
 },
 "nbformat": 4,
 "nbformat_minor": 2
}
