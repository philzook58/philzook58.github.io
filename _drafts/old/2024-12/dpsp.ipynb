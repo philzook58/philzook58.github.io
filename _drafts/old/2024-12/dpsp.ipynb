{
 "cells": [
  {
   "cell_type": "markdown",
   "metadata": {},
   "source": [
    "Guy pinged me about pydpsp https://github.com/brurucy/pydbsp\n",
    "\n",
    "incremenetal view manitanence\n",
    "\n",
    "differential dataflow\n",
    "\n",
    "I (slash maybe in the commebnts to my hacker new ordinal post) idea of using ordinals as timestamps\n",
    "\n",
    "https://lobste.rs/s/5s4em5/dbsp_automatic_incremental_view\n",
    "\n",
    "https://arxiv.org/pdf/2203.16684 DBSP: Automatic Incremental View Maintenance for Rich \u001eery\n",
    "Languages\n"
   ]
  }
 ],
 "metadata": {
  "language_info": {
   "name": "python"
  }
 },
 "nbformat": 4,
 "nbformat_minor": 2
}
