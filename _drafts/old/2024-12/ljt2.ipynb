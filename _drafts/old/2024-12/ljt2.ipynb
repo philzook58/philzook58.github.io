{
 "cells": [
  {
   "cell_type": "markdown",
   "metadata": {},
   "source": [
    "\n",
    "Making ljt more performant\n",
    "SAT based pruning. Going modulo theories\n",
    "parser from fof\n",
    "Using lean / coq?\n",
    "Nicer proof output.\n",
    "\n",
    "Actually understanding the rules.\n",
    "Invertible rules. How to prove invertibility?\n",
    "\n",
    "Can we synthesize g4ip from bare sequent calc rules?\n",
    "We could ask eprover about invertibility.\n",
    "\n",
    "fof has a saequent form.\n",
    "\n",
    "\n",
    "synchronous = not invertible\n",
    "asynchronous = invertible\n",
    "\n",
    "Comparison to linear logic notions\n",
    "Comparison to otten provers\n",
    "\n"
   ]
  }
 ],
 "metadata": {
  "language_info": {
   "name": "python"
  }
 },
 "nbformat": 4,
 "nbformat_minor": 2
}
