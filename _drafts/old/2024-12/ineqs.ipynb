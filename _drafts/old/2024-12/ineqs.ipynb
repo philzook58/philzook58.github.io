{
 "cells": [
  {
   "cell_type": "code",
   "execution_count": null,
   "metadata": {},
   "outputs": [],
   "source": []
  },
  {
   "cell_type": "markdown",
   "metadata": {},
   "source": [
    "https://link.springer.com/article/10.1007/s10817-015-9356-y a hueristic prover for real inequalities\n",
    "\n",
    "https://link.springer.com/article/10.1007/s10817-015-9356-y\n",
    "\n",
    "https://link.springer.com/article/10.1023/A:1006079212546 analytica. baure clarke\n",
    "\n",
    "https://dspace.mit.edu/bitstream/handle/1721.1/149121/MIT-LCS-TM-312.pdf?sequence=1&isAllowed=y hierarchical ineqaulity reasoning sacks.\n",
    "\n",
    "https://link.springer.com/article/10.1007/BF02341857 the problem opf reasoning from inequalities - wos\n",
    "\n",
    "\n",
    "cody pointed out rewriting logic.\n",
    "Does rewriting logic have an automated prover really? (for provability)\n",
    "There may be not much to do for R, but the assumption hat E comes in the form of a normlaizing rewrite system in Maude\n",
    "\n",
    "\n"
   ]
  }
 ],
 "metadata": {
  "language_info": {
   "name": "python"
  }
 },
 "nbformat": 4,
 "nbformat_minor": 2
}
