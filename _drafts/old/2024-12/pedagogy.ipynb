{
 "cells": [
  {
   "cell_type": "markdown",
   "metadata": {},
   "source": [
    "Where did we come from? How should it be done\n",
    "\n",
    "# Teaching Programming. \n",
    "Shriram. How to Design programs. \n",
    "What language is really best to start? \n",
    "\n",
    "Scratch.\n",
    "\n",
    "My journey.\n",
    "Basic books from library sale. TI83\n",
    "Computer camp. C++?\n",
    "Course on matlab\n",
    "Scheme SICP somewhere. Didn't really take\n",
    "Java in processing\n",
    "Arduino C\n",
    "python in grad school really. Marston\n",
    "Haskell\n",
    "Sheepdog, javascript.\n",
    "\n",
    "\n",
    "\n",
    "# Teaching Math\n",
    "Arithmetic. Times tables.\n",
    "Rationals\n",
    "Quadratics\n",
    "Trig\n",
    "2 coluumn proofs\n",
    "\n",
    "New math\n",
    "\n",
    "# Teaching Physics. \n",
    "Pitt had whole department. clickers.\n",
    "velocity 9th grade?\n",
    "The big 4. Kinematics.\n",
    "\n",
    "\n",
    "\n"
   ]
  }
 ],
 "metadata": {
  "language_info": {
   "name": "python"
  }
 },
 "nbformat": 4,
 "nbformat_minor": 2
}
