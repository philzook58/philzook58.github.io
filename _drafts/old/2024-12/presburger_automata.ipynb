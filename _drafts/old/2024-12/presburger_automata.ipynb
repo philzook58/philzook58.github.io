{
 "cells": [
  {
   "cell_type": "code",
   "execution_count": null,
   "metadata": {},
   "outputs": [],
   "source": [
    "\n",
    "\n",
    "\n",
    "\n",
    "def div3(carry, str):\n",
    "    \n"
   ]
  },
  {
   "cell_type": "markdown",
   "metadata": {},
   "source": [
    "presburger for ordinals?\n",
    "\n",
    "isl\n",
    "\n",
    "fast automata. new netkat\n",
    "\n",
    "barvinovik\n",
    "\n",
    "Falcon cache analysys\n",
    "\n"
   ]
  },
  {
   "cell_type": "markdown",
   "metadata": {},
   "source": [
    "Watch python function use automata learnign to discover dfa\n",
    "\n",
    "\n",
    "\n",
    "unary\n",
    "(1111)*  is divisible by 4\n",
    "ort 1+1+1+1 expressions\n",
    "\n",
    "Integer sets as regexes.\n",
    "\n",
    "\n",
    "Long division by given number ought to be expressible as a finite automata. with current carry as part of state\n",
    "\n",
    "3x+1\n",
    "\n",
    "sequences\n",
    "\n",
    "\n",
    "https://mblondin.espaceweb.usherbrooke.ca/automata/  automata theory and algorithmic approach\n",
    "https://dl.acm.org/doi/10.1145/3656452  Falcon: A Scalable Analytical Cache Model\n",
    "Hmmm. Egraphify it?\n",
    "MLIR prtesburger\n",
    "isl and barvinovik\n",
    "\n"
   ]
  },
  {
   "cell_type": "code",
   "execution_count": null,
   "metadata": {},
   "outputs": [],
   "source": [
    "import regex\n",
    "\n",
    "div1 = \"(0|1)*\"\n",
    "even = \"(0|1)*1\" # or zero I guess?\n",
    "even = div1 + \"1\" + \"|\"  fail + \"0\"\n",
    "div4 = \"(0|1)*10\"\n",
    "div8 = \"(0|1)*100\"\n",
    "\n",
    "div3 = [\"11\", \"110\", \"1001\", \"1100\"] \n",
    "\n",
    "     \" ( ()1 +()0 )1   | (   )0\"\n",
    "\n",
    "#div3 = div[(3-1)/2] + \"1\" | div[3/2] + \"0\"\n",
    "x = 3*n\n",
    "x = 1 + y\n",
    "1 + y = 3*n\n",
    "\n",
    "\n",
    "div3 = div2 + div1 + div3\n",
    "\n",
    "\n",
    "# a vector of regexes\n",
    "[even, div4]\n",
    "\n",
    "# we can squash by making combo symbols\n",
    "\n",
    "\n",
    "# a commmunicating vector\n",
    "\n",
    "\n",
    "\n",
    "\n",
    "\n"
   ]
  }
 ],
 "metadata": {
  "language_info": {
   "name": "python"
  }
 },
 "nbformat": 4,
 "nbformat_minor": 2
}
