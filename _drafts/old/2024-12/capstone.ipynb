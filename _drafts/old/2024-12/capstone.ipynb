{
 "cells": [
  {
   "cell_type": "markdown",
   "metadata": {},
   "source": [
    "captsone interpreter\n",
    "https://www.capstone-engine.org/"
   ]
  },
  {
   "cell_type": "code",
   "execution_count": 2,
   "metadata": {},
   "outputs": [
    {
     "name": "stdout",
     "output_type": "stream",
     "text": [
      "Writing /tmp/test.c\n"
     ]
    }
   ],
   "source": [
    "%%file /tmp/test.c\n",
    "\n",
    "int myadd(int a, int b) {\n",
    "    return a + b;\n",
    "}\n"
   ]
  },
  {
   "cell_type": "code",
   "execution_count": 3,
   "metadata": {},
   "outputs": [],
   "source": [
    "! gcc -c -o /tmp/test.so /tmp/test.c"
   ]
  },
  {
   "cell_type": "code",
   "execution_count": 4,
   "metadata": {},
   "outputs": [
    {
     "name": "stdout",
     "output_type": "stream",
     "text": [
      "0x1000:\tpush\trbp\n",
      "0x1001:\tmov\trax, qword ptr [rip + 0x13b8]\n"
     ]
    }
   ],
   "source": [
    "from capstone import *\n",
    "\n",
    "CODE = b\"\\x55\\x48\\x8b\\x05\\xb8\\x13\\x00\\x00\"\n",
    "\n",
    "md = Cs(CS_ARCH_X86, CS_MODE_64)\n",
    "for i in md.disasm(CODE, 0x1000):\n",
    "    print(\"0x%x:\\t%s\\t%s\" %(i.address, i.mnemonic, i.op_str))\n"
   ]
  },
  {
   "cell_type": "code",
   "execution_count": null,
   "metadata": {},
   "outputs": [
    {
     "name": "stdout",
     "output_type": "stream",
     "text": [
      "['_CsInsn__gen_detail', '__class__', '__delattr__', '__dict__', '__dir__', '__doc__', '__eq__', '__format__', '__ge__', '__getattr__', '__getattribute__', '__gt__', '__hash__', '__init__', '__init_subclass__', '__le__', '__lt__', '__module__', '__ne__', '__new__', '__reduce__', '__reduce_ex__', '__repr__', '__setattr__', '__sizeof__', '__str__', '__subclasshook__', '__weakref__', '_cs', '_raw', 'address', 'bytes', 'errno', 'group', 'group_name', 'groups', 'id', 'insn_name', 'mnemonic', 'op_count', 'op_find', 'op_str', 'reg_name', 'reg_read', 'reg_write', 'regs_access', 'regs_read', 'regs_write', 'size']\n",
      "['_CsInsn__gen_detail', '__class__', '__delattr__', '__dict__', '__dir__', '__doc__', '__eq__', '__format__', '__ge__', '__getattr__', '__getattribute__', '__gt__', '__hash__', '__init__', '__init_subclass__', '__le__', '__lt__', '__module__', '__ne__', '__new__', '__reduce__', '__reduce_ex__', '__repr__', '__setattr__', '__sizeof__', '__str__', '__subclasshook__', '__weakref__', '_cs', '_raw', 'address', 'bytes', 'errno', 'group', 'group_name', 'groups', 'id', 'insn_name', 'mnemonic', 'op_count', 'op_find', 'op_str', 'reg_name', 'reg_read', 'reg_write', 'regs_access', 'regs_read', 'regs_write', 'size']\n"
     ]
    },
    {
     "ename": "CsError",
     "evalue": "Details are unavailable (CS_ERR_DETAIL)",
     "output_type": "error",
     "traceback": [
      "\u001b[0;31m---------------------------------------------------------------------------\u001b[0m",
      "\u001b[0;31mCsError\u001b[0m                                   Traceback (most recent call last)",
      "Cell \u001b[0;32mIn[9], line 14\u001b[0m\n\u001b[1;32m     12\u001b[0m \u001b[38;5;28;01mfor\u001b[39;00m i \u001b[38;5;129;01min\u001b[39;00m md\u001b[38;5;241m.\u001b[39mdisasm(CODE, \u001b[38;5;241m0x1000\u001b[39m):\n\u001b[1;32m     13\u001b[0m     \u001b[38;5;28mprint\u001b[39m(\u001b[38;5;28mdir\u001b[39m(i))\n\u001b[0;32m---> 14\u001b[0m     \u001b[43minterp\u001b[49m\u001b[43m(\u001b[49m\u001b[43mi\u001b[49m\u001b[43m,\u001b[49m\u001b[43m \u001b[49m\u001b[43mstate\u001b[49m\u001b[43m)\u001b[49m\n",
      "Cell \u001b[0;32mIn[9], line 9\u001b[0m, in \u001b[0;36minterp\u001b[0;34m(op, state)\u001b[0m\n\u001b[1;32m      7\u001b[0m         state[op\u001b[38;5;241m.\u001b[39moperands[\u001b[38;5;241m0\u001b[39m]\u001b[38;5;241m.\u001b[39mreg] \u001b[38;5;241m-\u001b[39m\u001b[38;5;241m=\u001b[39m state[op\u001b[38;5;241m.\u001b[39moperands[\u001b[38;5;241m1\u001b[39m]\u001b[38;5;241m.\u001b[39mreg]\n\u001b[1;32m      8\u001b[0m     \u001b[38;5;28;01mcase\u001b[39;00m \u001b[38;5;124m\"\u001b[39m\u001b[38;5;124mmov\u001b[39m\u001b[38;5;124m\"\u001b[39m:\n\u001b[0;32m----> 9\u001b[0m         state[op\u001b[38;5;241m.\u001b[39moperands[\u001b[38;5;241m0\u001b[39m]\u001b[38;5;241m.\u001b[39mreg] \u001b[38;5;241m=\u001b[39m state[\u001b[43mop\u001b[49m\u001b[38;5;241;43m.\u001b[39;49m\u001b[43moperands\u001b[49m[\u001b[38;5;241m1\u001b[39m]\u001b[38;5;241m.\u001b[39mreg]\n\u001b[1;32m     10\u001b[0m \u001b[38;5;28;01mreturn\u001b[39;00m state\n",
      "File \u001b[0;32m~/.local/lib/python3.10/site-packages/capstone/__init__.py:777\u001b[0m, in \u001b[0;36mCsInsn.__getattr__\u001b[0;34m(self, name)\u001b[0m\n\u001b[1;32m    775\u001b[0m \u001b[38;5;28;01mdef\u001b[39;00m \u001b[38;5;21m__getattr__\u001b[39m(\u001b[38;5;28mself\u001b[39m, name):\n\u001b[1;32m    776\u001b[0m     \u001b[38;5;28;01mif\u001b[39;00m \u001b[38;5;129;01mnot\u001b[39;00m \u001b[38;5;28mself\u001b[39m\u001b[38;5;241m.\u001b[39m_cs\u001b[38;5;241m.\u001b[39m_detail:\n\u001b[0;32m--> 777\u001b[0m         \u001b[38;5;28;01mraise\u001b[39;00m CsError(CS_ERR_DETAIL)\n\u001b[1;32m    779\u001b[0m     attr \u001b[38;5;241m=\u001b[39m \u001b[38;5;28mobject\u001b[39m\u001b[38;5;241m.\u001b[39m\u001b[38;5;21m__getattribute__\u001b[39m\n\u001b[1;32m    780\u001b[0m     \u001b[38;5;28;01mif\u001b[39;00m \u001b[38;5;129;01mnot\u001b[39;00m attr(\u001b[38;5;28mself\u001b[39m, \u001b[38;5;124m'\u001b[39m\u001b[38;5;124m_cs\u001b[39m\u001b[38;5;124m'\u001b[39m)\u001b[38;5;241m.\u001b[39m_detail:\n",
      "\u001b[0;31mCsError\u001b[0m: Details are unavailable (CS_ERR_DETAIL)"
     ]
    }
   ],
   "source": [
    "from capstone import *\n",
    "\n",
    "CODE = b\"\\x55\\x48\\x8b\\x05\\xb8\\x13\\x00\\x00\"\n",
    "from collections import defaultdict\n",
    "class State():\n",
    "    mem = defaultdict(None)\n",
    "    reg = defaultdict(None)\n",
    "\n",
    "def interp(op, state):\n",
    "    \n",
    "    match op.mnemonic:\n",
    "        case \"add\":\n",
    "            state.reg[op.operands[0].reg] += state[op.operands[1].reg]\n",
    "        case \"sub\":\n",
    "            state[op.operands[0].reg] -= state[op.operands[1].reg]\n",
    "        case \"mov\":\n",
    "            if op.operands[0].type == X86_OP_IMM:\n",
    "                state[op.operands[0].reg] = op.operands[1].imm\n",
    "            elif op.operands[0].type == X86_OP_REG:\n",
    "                op.operands[0].reg = op.operands[1].reg\n",
    "            elif op.operands[0].type == X86_OP_MEM:\n",
    "                state[op.operands[0].reg] = mem[state[op.operands[1].reg + op.operands[1].disp]\n",
    "    return state\n",
    "state = defaultdict(None)\n",
    "for i in md.disasm(CODE, 0x1000):\n",
    "    print(dir(i))\n",
    "    interp(i, state)\n"
   ]
  },
  {
   "cell_type": "markdown",
   "metadata": {},
   "source": [
    "Ok so it gets hairier and harrier\n",
    "\n",
    "Getting the smeanuitcs\n",
    "\n"
   ]
  },
  {
   "cell_type": "markdown",
   "metadata": {},
   "source": [
    "# Pcode"
   ]
  },
  {
   "cell_type": "code",
   "execution_count": null,
   "metadata": {},
   "outputs": [],
   "source": [
    "import pypcode\n",
    "class State():\n",
    "    space = defaultdict(defaultdict)\n",
    "\n",
    "def interp(insn, state):\n",
    "    match insn.op:\n",
    "        case pypcode.PcodeOp.INT_ADD:\n",
    "            \n"
   ]
  },
  {
   "cell_type": "code",
   "execution_count": 1,
   "metadata": {},
   "outputs": [
    {
     "name": "stdout",
     "output_type": "stream",
     "text": [
      "Writing /tmp/foo.c\n"
     ]
    }
   ],
   "source": [
    "%%file /tmp/foo.c\n",
    "int foo(int x, int y){\n",
    "    return x > y ? x : y;\n",
    "}"
   ]
  },
  {
   "cell_type": "code",
   "execution_count": 2,
   "metadata": {},
   "outputs": [
    {
     "name": "stdout",
     "output_type": "stream",
     "text": [
      "\n",
      "/tmp/foo.o:     file format elf64-x86-64\n",
      "\n",
      "\n",
      "Disassembly of section .text:\n",
      "\n",
      "0000000000000000 <foo> (File Offset: 0x40):\n",
      "   0:\tf3 0f 1e fa          \tendbr64 \n",
      "   4:\t55                   \tpush   %rbp\n",
      "   5:\t48 89 e5             \tmov    %rsp,%rbp\n",
      "   8:\t89 7d fc             \tmov    %edi,-0x4(%rbp)\n",
      "   b:\t89 75 f8             \tmov    %esi,-0x8(%rbp)\n",
      "   e:\t8b 55 f8             \tmov    -0x8(%rbp),%edx\n",
      "  11:\t8b 45 fc             \tmov    -0x4(%rbp),%eax\n",
      "  14:\t39 c2                \tcmp    %eax,%edx\n",
      "  16:\t0f 4d c2             \tcmovge %edx,%eax\n",
      "  19:\t5d                   \tpop    %rbp\n",
      "  1a:\tc3                   \tret    \n"
     ]
    }
   ],
   "source": [
    "%%bash\n",
    "gcc /tmp/foo.c -c -o /tmp/foo.o\n",
    "objdump -d -F /tmp/foo.o"
   ]
  },
  {
   "cell_type": "code",
   "execution_count": 3,
   "metadata": {},
   "outputs": [
    {
     "name": "stdout",
     "output_type": "stream",
     "text": [
      "IMARK ram[0:4]\n",
      "IMARK ram[4:1]\n",
      "unique[10c00:8] = RBP\n",
      "RSP = RSP - 0x8\n",
      "*[ram]RSP = unique[10c00:8]\n",
      "IMARK ram[5:3]\n",
      "RBP = RSP\n",
      "IMARK ram[8:3]\n",
      "unique[4400:8] = RBP + 0xfffffffffffffffc\n",
      "unique[6780:4] = EDI\n",
      "*[ram]unique[4400:8] = unique[6780:4]\n",
      "IMARK ram[b:3]\n",
      "unique[4400:8] = RBP + 0xfffffffffffffff8\n",
      "unique[6780:4] = ESI\n",
      "*[ram]unique[4400:8] = unique[6780:4]\n",
      "IMARK ram[e:3]\n",
      "unique[4400:8] = RBP + 0xfffffffffffffff8\n",
      "unique[da80:4] = *[ram]unique[4400:8]\n",
      "EDX = unique[da80:4]\n",
      "RDX = zext(EDX)\n",
      "IMARK ram[11:3]\n",
      "unique[4400:8] = RBP + 0xfffffffffffffffc\n",
      "unique[da80:4] = *[ram]unique[4400:8]\n",
      "EAX = unique[da80:4]\n",
      "RAX = zext(EAX)\n",
      "IMARK ram[14:2]\n",
      "unique[27c00:4] = EDX\n",
      "CF = unique[27c00:4] < EAX\n",
      "OF = sborrow(unique[27c00:4], EAX)\n",
      "unique[27d00:4] = unique[27c00:4] - EAX\n",
      "SF = unique[27d00:4] s< 0x0\n",
      "ZF = unique[27d00:4] == 0x0\n",
      "unique[15080:4] = unique[27d00:4] & 0xff\n",
      "unique[15100:1] = popcount(unique[15080:4])\n",
      "unique[15180:1] = unique[15100:1] & 0x1\n",
      "PF = unique[15180:1] == 0x0\n",
      "IMARK ram[16:3]\n",
      "unique[eb00:1] = OF == SF\n",
      "RAX = zext(EAX)\n",
      "unique[26980:1] = !unique[eb00:1]\n",
      "if (unique[26980:1]) goto ram[19:8]\n",
      "EAX = EDX\n",
      "IMARK ram[19:1]\n",
      "unique[3df80:8] = 0x0\n",
      "unique[3df80:8] = *[ram]RSP\n",
      "RSP = RSP + 0x8\n",
      "RBP = unique[3df80:8]\n"
     ]
    }
   ],
   "source": [
    "import pypcode\n",
    "# https://github.com/philzook58/pcode2c/blob/main/pcode2c/printer.py\n",
    "from pypcode import Context, PcodePrettyPrinter\n",
    "ctx = Context(\"x86:LE:64:default\")\n",
    "file_offset = 0x40\n",
    "filename = \"/tmp/foo.o\"\n",
    "size = 0x1a\n",
    "start_address = 0\n",
    "with open(filename, \"rb\") as file:\n",
    "    file.seek(file_offset)\n",
    "    code = file.read(size)\n",
    "res = ctx.translate(code, base_address=start_address)\n",
    "for op in res.ops:\n",
    "    print(PcodePrettyPrinter.fmt_op(op))"
   ]
  },
  {
   "cell_type": "code",
   "execution_count": 73,
   "metadata": {},
   "outputs": [],
   "source": [
    "BV8  = BitVecSort(8)\n",
    "BV16 = BitVecSort(16)\n",
    "BV32 = BitVecSort(32)\n",
    "BV64 = BitVecSort(64)\n",
    "\n",
    "Select16 = Function(\"Select16\", ArraySort(BitVecSort(64), BitVecSort(8)), BitVecSort(64), BitVecSort(16))\n",
    "Select32 = Function(\"Select32\", ArraySort(BitVecSort(64), BitVecSort(8)), BitVecSort(64), BitVecSort(32))\n",
    "Select64 = Function(\"Select64\", ArraySort(BitVecSort(64), BitVecSort(8)), BitVecSort(64), BitVecSort(64))\n",
    "def MSelect(a, i, n):\n",
    "    if n == 1:\n",
    "        return a[i]\n",
    "    if n == 2:\n",
    "        return Select16(a, i)\n",
    "    if n == 4:\n",
    "        return Select32(a, i)\n",
    "    if n == 8:\n",
    "        return Select64(a, i)\n",
    "    else:\n",
    "        assert False, \"n must be 1, 2, 4 or 8\"\n",
    "Store16 = Function(\"Store16\", ArraySort(BitVecSort(64), BitVecSort(8)), BitVecSort(64), BitVecSort(16), ArraySort(BitVecSort(64), BitVecSort(8)))\n",
    "Store32 = Function(\"Store32\", ArraySort(BitVecSort(64), BitVecSort(8)), BitVecSort(64), BitVecSort(32), ArraySort(BitVecSort(64), BitVecSort(8)))\n",
    "Store64 = Function(\"Store64\", ArraySort(BitVecSort(64), BitVecSort(8)), BitVecSort(64), BitVecSort(64), ArraySort(BitVecSort(64), BitVecSort(8)))\n",
    "\n",
    "def MStore(a,i,v):\n",
    "    size = v.size()\n",
    "    if size == 1:\n",
    "        return Store(a, i, v)\n",
    "    if size == 2:\n",
    "        return Store16(a, i, v)\n",
    "    if size == 4:\n",
    "        return Store32(a, i, v)\n",
    "    if size == 8:\n",
    "        return Store64(a, i, v)\n",
    "    else:\n",
    "        assert False, \"size must be 1, 2, 4 or 8\""
   ]
  },
  {
   "cell_type": "code",
   "execution_count": 14,
   "metadata": {},
   "outputs": [
    {
     "data": {
      "text/html": [
       "Select(state, 8, 2)"
      ],
      "text/plain": [
       "Select(state, 8, 2)"
      ]
     },
     "execution_count": 14,
     "metadata": {},
     "output_type": "execute_result"
    }
   ],
   "source": [
    "state[8,2]"
   ]
  },
  {
   "cell_type": "code",
   "execution_count": 7,
   "metadata": {},
   "outputs": [
    {
     "name": "stdout",
     "output_type": "stream",
     "text": [
      "IMARK \n",
      "IMARK \n"
     ]
    },
    {
     "ename": "Z3Exception",
     "evalue": "Sort mismatch",
     "output_type": "error",
     "traceback": [
      "\u001b[0;31m---------------------------------------------------------------------------\u001b[0m",
      "\u001b[0;31mZ3Exception\u001b[0m                               Traceback (most recent call last)",
      "\u001b[0;32m/tmp/ipykernel_323060/2008195932.py\u001b[0m in \u001b[0;36m?\u001b[0;34m()\u001b[0m\n\u001b[1;32m     31\u001b[0m             \u001b[0mprint\u001b[0m\u001b[0;34m(\u001b[0m\u001b[0;34m\"unrecognized opcode\"\u001b[0m\u001b[0;34m,\u001b[0m \u001b[0mop\u001b[0m\u001b[0;34m.\u001b[0m\u001b[0mopcode\u001b[0m\u001b[0;34m)\u001b[0m\u001b[0;34m\u001b[0m\u001b[0;34m\u001b[0m\u001b[0m\n\u001b[1;32m     32\u001b[0m             \u001b[0;32massert\u001b[0m \u001b[0;32mFalse\u001b[0m\u001b[0;34m\u001b[0m\u001b[0;34m\u001b[0m\u001b[0m\n\u001b[1;32m     33\u001b[0m \u001b[0mstate1\u001b[0m\u001b[0;34m,\u001b[0m \u001b[0mstate2\u001b[0m \u001b[0;34m=\u001b[0m \u001b[0mConsts\u001b[0m\u001b[0;34m(\u001b[0m\u001b[0;34m\"state1 state2\"\u001b[0m\u001b[0;34m,\u001b[0m \u001b[0mState\u001b[0m\u001b[0;34m)\u001b[0m\u001b[0;34m\u001b[0m\u001b[0;34m\u001b[0m\u001b[0m\n\u001b[1;32m     34\u001b[0m \u001b[0;32mfor\u001b[0m \u001b[0mop\u001b[0m \u001b[0;32min\u001b[0m \u001b[0mres\u001b[0m\u001b[0;34m.\u001b[0m\u001b[0mops\u001b[0m\u001b[0;34m:\u001b[0m\u001b[0;34m\u001b[0m\u001b[0;34m\u001b[0m\u001b[0m\n\u001b[0;32m---> 35\u001b[0;31m     \u001b[0mprint\u001b[0m\u001b[0;34m(\u001b[0m\u001b[0mstep\u001b[0m\u001b[0;34m(\u001b[0m\u001b[0mop\u001b[0m\u001b[0;34m,\u001b[0m \u001b[0mstate1\u001b[0m\u001b[0;34m,\u001b[0m \u001b[0mstate2\u001b[0m\u001b[0;34m)\u001b[0m\u001b[0;34m)\u001b[0m\u001b[0;34m\u001b[0m\u001b[0;34m\u001b[0m\u001b[0m\n\u001b[0m",
      "\u001b[0;32m/tmp/ipykernel_323060/2008195932.py\u001b[0m in \u001b[0;36m?\u001b[0;34m(op, state1, state2)\u001b[0m\n\u001b[1;32m     23\u001b[0m     \u001b[0mmatch\u001b[0m \u001b[0mop\u001b[0m\u001b[0;34m.\u001b[0m\u001b[0mopcode\u001b[0m\u001b[0;34m:\u001b[0m\u001b[0;34m\u001b[0m\u001b[0;34m\u001b[0m\u001b[0m\n\u001b[1;32m     24\u001b[0m         \u001b[0mcase\u001b[0m \u001b[0mOpCode\u001b[0m\u001b[0;34m.\u001b[0m\u001b[0mIMARK\u001b[0m\u001b[0;34m:\u001b[0m\u001b[0;34m\u001b[0m\u001b[0;34m\u001b[0m\u001b[0m\n\u001b[1;32m     25\u001b[0m             \u001b[0;32mreturn\u001b[0m \u001b[0;34mf\"IMARK \"\u001b[0m\u001b[0;34m\u001b[0m\u001b[0;34m\u001b[0m\u001b[0m\n\u001b[1;32m     26\u001b[0m         \u001b[0mcase\u001b[0m \u001b[0mOpCode\u001b[0m\u001b[0;34m.\u001b[0m\u001b[0mCOPY\u001b[0m\u001b[0;34m:\u001b[0m\u001b[0;34m\u001b[0m\u001b[0;34m\u001b[0m\u001b[0m\n\u001b[0;32m---> 27\u001b[0;31m             \u001b[0;32mreturn\u001b[0m \u001b[0mMStore\u001b[0m\u001b[0;34m(\u001b[0m\u001b[0mstate1\u001b[0m\u001b[0;34m,\u001b[0m \u001b[0moutput\u001b[0m\u001b[0;34m,\u001b[0m \u001b[0mstate1\u001b[0m\u001b[0;34m[\u001b[0m\u001b[0minputs\u001b[0m\u001b[0;34m[\u001b[0m\u001b[0;36m0\u001b[0m\u001b[0;34m]\u001b[0m\u001b[0;34m]\u001b[0m\u001b[0;34m)\u001b[0m\u001b[0;34m\u001b[0m\u001b[0;34m\u001b[0m\u001b[0m\n\u001b[0m\u001b[1;32m     28\u001b[0m         \u001b[0mcase\u001b[0m \u001b[0mOpCode\u001b[0m\u001b[0;34m.\u001b[0m\u001b[0mINT_SUB\u001b[0m\u001b[0;34m:\u001b[0m\u001b[0;34m\u001b[0m\u001b[0;34m\u001b[0m\u001b[0m\n\u001b[1;32m     29\u001b[0m             \u001b[0;32mreturn\u001b[0m \u001b[0mMStore\u001b[0m\u001b[0;34m(\u001b[0m\u001b[0mstate1\u001b[0m\u001b[0;34m,\u001b[0m \u001b[0moutput\u001b[0m\u001b[0;34m,\u001b[0m \u001b[0mstate1\u001b[0m\u001b[0;34m[\u001b[0m\u001b[0minputs\u001b[0m\u001b[0;34m[\u001b[0m\u001b[0;36m0\u001b[0m\u001b[0;34m]\u001b[0m\u001b[0;34m]\u001b[0m \u001b[0;34m-\u001b[0m \u001b[0mstate1\u001b[0m\u001b[0;34m[\u001b[0m\u001b[0minputs\u001b[0m\u001b[0;34m[\u001b[0m\u001b[0;36m1\u001b[0m\u001b[0;34m]\u001b[0m\u001b[0;34m]\u001b[0m\u001b[0;34m)\u001b[0m\u001b[0;34m\u001b[0m\u001b[0;34m\u001b[0m\u001b[0m\n\u001b[1;32m     30\u001b[0m         \u001b[0mcase\u001b[0m \u001b[0m_\u001b[0m\u001b[0;34m:\u001b[0m\u001b[0;34m\u001b[0m\u001b[0;34m\u001b[0m\u001b[0m\n",
      "\u001b[0;32m~/.local/lib/python3.10/site-packages/z3/z3.py\u001b[0m in \u001b[0;36m?\u001b[0;34m(self, arg)\u001b[0m\n\u001b[1;32m   4634\u001b[0m         \u001b[0ma\u001b[0m\u001b[0;34m[\u001b[0m\u001b[0mi\u001b[0m\u001b[0;34m]\u001b[0m\u001b[0;34m\u001b[0m\u001b[0;34m\u001b[0m\u001b[0m\n\u001b[1;32m   4635\u001b[0m         \u001b[0;34m>>\u001b[0m\u001b[0;34m>\u001b[0m \u001b[0ma\u001b[0m\u001b[0;34m[\u001b[0m\u001b[0mi\u001b[0m\u001b[0;34m]\u001b[0m\u001b[0;34m.\u001b[0m\u001b[0msexpr\u001b[0m\u001b[0;34m(\u001b[0m\u001b[0;34m)\u001b[0m\u001b[0;34m\u001b[0m\u001b[0;34m\u001b[0m\u001b[0m\n\u001b[1;32m   4636\u001b[0m         \u001b[0;34m'(select a i)'\u001b[0m\u001b[0;34m\u001b[0m\u001b[0;34m\u001b[0m\u001b[0m\n\u001b[1;32m   4637\u001b[0m         \"\"\"\n\u001b[0;32m-> 4638\u001b[0;31m         \u001b[0;32mreturn\u001b[0m \u001b[0m_array_select\u001b[0m\u001b[0;34m(\u001b[0m\u001b[0mself\u001b[0m\u001b[0;34m,\u001b[0m \u001b[0marg\u001b[0m\u001b[0;34m)\u001b[0m\u001b[0;34m\u001b[0m\u001b[0;34m\u001b[0m\u001b[0m\n\u001b[0m",
      "\u001b[0;32m~/.local/lib/python3.10/site-packages/z3/z3.py\u001b[0m in \u001b[0;36m?\u001b[0;34m(ar, arg)\u001b[0m\n\u001b[1;32m   4645\u001b[0m     \u001b[0;32mif\u001b[0m \u001b[0misinstance\u001b[0m\u001b[0;34m(\u001b[0m\u001b[0marg\u001b[0m\u001b[0;34m,\u001b[0m \u001b[0mtuple\u001b[0m\u001b[0;34m)\u001b[0m\u001b[0;34m:\u001b[0m\u001b[0;34m\u001b[0m\u001b[0;34m\u001b[0m\u001b[0m\n\u001b[1;32m   4646\u001b[0m         \u001b[0margs\u001b[0m \u001b[0;34m=\u001b[0m \u001b[0;34m[\u001b[0m\u001b[0mar\u001b[0m\u001b[0;34m.\u001b[0m\u001b[0msort\u001b[0m\u001b[0;34m(\u001b[0m\u001b[0;34m)\u001b[0m\u001b[0;34m.\u001b[0m\u001b[0mdomain_n\u001b[0m\u001b[0;34m(\u001b[0m\u001b[0mi\u001b[0m\u001b[0;34m)\u001b[0m\u001b[0;34m.\u001b[0m\u001b[0mcast\u001b[0m\u001b[0;34m(\u001b[0m\u001b[0marg\u001b[0m\u001b[0;34m[\u001b[0m\u001b[0mi\u001b[0m\u001b[0;34m]\u001b[0m\u001b[0;34m)\u001b[0m \u001b[0;32mfor\u001b[0m \u001b[0mi\u001b[0m \u001b[0;32min\u001b[0m \u001b[0mrange\u001b[0m\u001b[0;34m(\u001b[0m\u001b[0mlen\u001b[0m\u001b[0;34m(\u001b[0m\u001b[0marg\u001b[0m\u001b[0;34m)\u001b[0m\u001b[0;34m)\u001b[0m\u001b[0;34m]\u001b[0m\u001b[0;34m\u001b[0m\u001b[0;34m\u001b[0m\u001b[0m\n\u001b[1;32m   4647\u001b[0m         \u001b[0m_args\u001b[0m\u001b[0;34m,\u001b[0m \u001b[0msz\u001b[0m \u001b[0;34m=\u001b[0m \u001b[0m_to_ast_array\u001b[0m\u001b[0;34m(\u001b[0m\u001b[0margs\u001b[0m\u001b[0;34m)\u001b[0m\u001b[0;34m\u001b[0m\u001b[0;34m\u001b[0m\u001b[0m\n\u001b[1;32m   4648\u001b[0m         \u001b[0;32mreturn\u001b[0m \u001b[0m_to_expr_ref\u001b[0m\u001b[0;34m(\u001b[0m\u001b[0mZ3_mk_select_n\u001b[0m\u001b[0;34m(\u001b[0m\u001b[0mar\u001b[0m\u001b[0;34m.\u001b[0m\u001b[0mctx_ref\u001b[0m\u001b[0;34m(\u001b[0m\u001b[0;34m)\u001b[0m\u001b[0;34m,\u001b[0m \u001b[0mar\u001b[0m\u001b[0;34m.\u001b[0m\u001b[0mas_ast\u001b[0m\u001b[0;34m(\u001b[0m\u001b[0;34m)\u001b[0m\u001b[0;34m,\u001b[0m \u001b[0msz\u001b[0m\u001b[0;34m,\u001b[0m \u001b[0m_args\u001b[0m\u001b[0;34m)\u001b[0m\u001b[0;34m,\u001b[0m \u001b[0mar\u001b[0m\u001b[0;34m.\u001b[0m\u001b[0mctx\u001b[0m\u001b[0;34m)\u001b[0m\u001b[0;34m\u001b[0m\u001b[0;34m\u001b[0m\u001b[0m\n\u001b[0;32m-> 4649\u001b[0;31m     \u001b[0marg\u001b[0m \u001b[0;34m=\u001b[0m \u001b[0mar\u001b[0m\u001b[0;34m.\u001b[0m\u001b[0msort\u001b[0m\u001b[0;34m(\u001b[0m\u001b[0;34m)\u001b[0m\u001b[0;34m.\u001b[0m\u001b[0mdomain\u001b[0m\u001b[0;34m(\u001b[0m\u001b[0;34m)\u001b[0m\u001b[0;34m.\u001b[0m\u001b[0mcast\u001b[0m\u001b[0;34m(\u001b[0m\u001b[0marg\u001b[0m\u001b[0;34m)\u001b[0m\u001b[0;34m\u001b[0m\u001b[0;34m\u001b[0m\u001b[0m\n\u001b[0m\u001b[1;32m   4650\u001b[0m     \u001b[0;32mreturn\u001b[0m \u001b[0m_to_expr_ref\u001b[0m\u001b[0;34m(\u001b[0m\u001b[0mZ3_mk_select\u001b[0m\u001b[0;34m(\u001b[0m\u001b[0mar\u001b[0m\u001b[0;34m.\u001b[0m\u001b[0mctx_ref\u001b[0m\u001b[0;34m(\u001b[0m\u001b[0;34m)\u001b[0m\u001b[0;34m,\u001b[0m \u001b[0mar\u001b[0m\u001b[0;34m.\u001b[0m\u001b[0mas_ast\u001b[0m\u001b[0;34m(\u001b[0m\u001b[0;34m)\u001b[0m\u001b[0;34m,\u001b[0m \u001b[0marg\u001b[0m\u001b[0;34m.\u001b[0m\u001b[0mas_ast\u001b[0m\u001b[0;34m(\u001b[0m\u001b[0;34m)\u001b[0m\u001b[0;34m)\u001b[0m\u001b[0;34m,\u001b[0m \u001b[0mar\u001b[0m\u001b[0;34m.\u001b[0m\u001b[0mctx\u001b[0m\u001b[0;34m)\u001b[0m\u001b[0;34m\u001b[0m\u001b[0;34m\u001b[0m\u001b[0m\n",
      "\u001b[0;32m~/.local/lib/python3.10/site-packages/z3/z3.py\u001b[0m in \u001b[0;36m?\u001b[0;34m(self, val)\u001b[0m\n\u001b[1;32m    601\u001b[0m         \u001b[0mToReal\u001b[0m\u001b[0;34m(\u001b[0m\u001b[0mx\u001b[0m\u001b[0;34m)\u001b[0m\u001b[0;34m\u001b[0m\u001b[0;34m\u001b[0m\u001b[0m\n\u001b[1;32m    602\u001b[0m         \"\"\"\n\u001b[1;32m    603\u001b[0m         \u001b[0;32mif\u001b[0m \u001b[0mz3_debug\u001b[0m\u001b[0;34m(\u001b[0m\u001b[0;34m)\u001b[0m\u001b[0;34m:\u001b[0m\u001b[0;34m\u001b[0m\u001b[0;34m\u001b[0m\u001b[0m\n\u001b[1;32m    604\u001b[0m             \u001b[0m_z3_assert\u001b[0m\u001b[0;34m(\u001b[0m\u001b[0mis_expr\u001b[0m\u001b[0;34m(\u001b[0m\u001b[0mval\u001b[0m\u001b[0;34m)\u001b[0m\u001b[0;34m,\u001b[0m \u001b[0;34m\"Z3 expression expected\"\u001b[0m\u001b[0;34m)\u001b[0m\u001b[0;34m\u001b[0m\u001b[0;34m\u001b[0m\u001b[0m\n\u001b[0;32m--> 605\u001b[0;31m             \u001b[0m_z3_assert\u001b[0m\u001b[0;34m(\u001b[0m\u001b[0mself\u001b[0m\u001b[0;34m.\u001b[0m\u001b[0meq\u001b[0m\u001b[0;34m(\u001b[0m\u001b[0mval\u001b[0m\u001b[0;34m.\u001b[0m\u001b[0msort\u001b[0m\u001b[0;34m(\u001b[0m\u001b[0;34m)\u001b[0m\u001b[0;34m)\u001b[0m\u001b[0;34m,\u001b[0m \u001b[0;34m\"Sort mismatch\"\u001b[0m\u001b[0;34m)\u001b[0m\u001b[0;34m\u001b[0m\u001b[0;34m\u001b[0m\u001b[0m\n\u001b[0m\u001b[1;32m    606\u001b[0m         \u001b[0;32mreturn\u001b[0m \u001b[0mval\u001b[0m\u001b[0;34m\u001b[0m\u001b[0;34m\u001b[0m\u001b[0m\n",
      "\u001b[0;32m~/.local/lib/python3.10/site-packages/z3/z3.py\u001b[0m in \u001b[0;36m?\u001b[0;34m(cond, msg)\u001b[0m\n\u001b[1;32m    105\u001b[0m \u001b[0;32mdef\u001b[0m \u001b[0m_z3_assert\u001b[0m\u001b[0;34m(\u001b[0m\u001b[0mcond\u001b[0m\u001b[0;34m,\u001b[0m \u001b[0mmsg\u001b[0m\u001b[0;34m)\u001b[0m\u001b[0;34m:\u001b[0m\u001b[0;34m\u001b[0m\u001b[0;34m\u001b[0m\u001b[0m\n\u001b[1;32m    106\u001b[0m     \u001b[0;32mif\u001b[0m \u001b[0;32mnot\u001b[0m \u001b[0mcond\u001b[0m\u001b[0;34m:\u001b[0m\u001b[0;34m\u001b[0m\u001b[0;34m\u001b[0m\u001b[0m\n\u001b[0;32m--> 107\u001b[0;31m         \u001b[0;32mraise\u001b[0m \u001b[0mZ3Exception\u001b[0m\u001b[0;34m(\u001b[0m\u001b[0mmsg\u001b[0m\u001b[0;34m)\u001b[0m\u001b[0;34m\u001b[0m\u001b[0;34m\u001b[0m\u001b[0m\n\u001b[0m",
      "\u001b[0;31mZ3Exception\u001b[0m: Sort mismatch"
     ]
    }
   ],
   "source": [
    "from pypcode import OpCode\n",
    "from z3 import *\n",
    "Space = StringSort()\n",
    "Varnode = Datatype('Varnode')\n",
    "Varnode.declare('v', ('space', Space), ('offset', BitVecSort(64)))\n",
    "Varnode = Varnode.create()\n",
    "\n",
    "State = ArraySort(Varnode, BitVecSort(8))\n",
    "#Store(\"constant\", Lambda([x], x))\n",
    "x = BitVec(\"x\", 64)\n",
    "State0 = {\"ram\" : None, \"unique\" : None, \"const\" : Lambda([x], x)}\n",
    "\n",
    "def varnode(vnode, ):\n",
    "    if vnode == None:\n",
    "        return None\n",
    "    elif vnode.space.name == \"const\":\n",
    "        return BitVecVal(vnode.offset, vnode.size * 8)\n",
    "    return BitVecVal(vnode.offset, vnode.size * 8)\n",
    "\n",
    "def step(op, state1, state2):\n",
    "    output = varnode(op.output)\n",
    "    inputs = [varnode(i) for i in op.inputs]\n",
    "    match op.opcode:\n",
    "        case OpCode.IMARK:\n",
    "            return f\"IMARK \"\n",
    "        case OpCode.COPY:\n",
    "            return MStore(state1, output, state1[inputs[0]])\n",
    "        case OpCode.INT_SUB:\n",
    "            return MStore(state1, output, state1[inputs[0]] - state1[inputs[1]])\n",
    "        case _:\n",
    "            print(\"unrecognized opcode\", op.opcode)\n",
    "            assert False\n",
    "state1, state2 = Consts(\"state1 state2\", State)\n",
    "for op in res.ops:\n",
    "    print(step(op, state1, state2))"
   ]
  },
  {
   "cell_type": "markdown",
   "metadata": {},
   "source": [
    "https://spinsel.dev/assets/2020-06-17-ghidra-brainfuck-processor-1/ghidra_docs/language_spec/html/pcoderef.html"
   ]
  },
  {
   "cell_type": "code",
   "execution_count": 77,
   "metadata": {},
   "outputs": [
    {
     "name": "stdout",
     "output_type": "stream",
     "text": [
      "IMARK ram[0:4]\n",
      "IMARK\n",
      "IMARK ram[4:1]\n",
      "IMARK\n",
      "unique[10c00:8] = RBP\n"
     ]
    },
    {
     "ename": "AssertionError",
     "evalue": "",
     "output_type": "error",
     "traceback": [
      "\u001b[0;31m---------------------------------------------------------------------------\u001b[0m",
      "\u001b[0;31mAssertionError\u001b[0m                            Traceback (most recent call last)",
      "Cell \u001b[0;32mIn[77], line 129\u001b[0m\n\u001b[1;32m    127\u001b[0m \u001b[38;5;28;01mfor\u001b[39;00m op \u001b[38;5;129;01min\u001b[39;00m res\u001b[38;5;241m.\u001b[39mops:\n\u001b[1;32m    128\u001b[0m     \u001b[38;5;28mprint\u001b[39m(PcodePrettyPrinter\u001b[38;5;241m.\u001b[39mfmt_op(op))\n\u001b[0;32m--> 129\u001b[0m     \u001b[38;5;28mprint\u001b[39m(\u001b[43mstep\u001b[49m\u001b[43m(\u001b[49m\u001b[43mop\u001b[49m\u001b[43m,\u001b[49m\u001b[43m \u001b[49m\u001b[43mstate\u001b[49m\u001b[43m)\u001b[49m)\n",
      "Cell \u001b[0;32mIn[77], line 46\u001b[0m, in \u001b[0;36mstep\u001b[0;34m(op, state1)\u001b[0m\n\u001b[1;32m     43\u001b[0m \u001b[38;5;28;01melif\u001b[39;00m op\u001b[38;5;241m.\u001b[39mopcode \u001b[38;5;241m==\u001b[39m OpCode\u001b[38;5;241m.\u001b[39mRETURN:\n\u001b[1;32m     44\u001b[0m     \u001b[38;5;28;01mreturn\u001b[39;00m \u001b[38;5;124m\"\u001b[39m\u001b[38;5;124mreturn\u001b[39m\u001b[38;5;124m\"\u001b[39m\n\u001b[0;32m---> 46\u001b[0m inputs \u001b[38;5;241m=\u001b[39m [varnode(i,state) \u001b[38;5;28;01mfor\u001b[39;00m i \u001b[38;5;129;01min\u001b[39;00m op\u001b[38;5;241m.\u001b[39minputs]\n\u001b[1;32m     47\u001b[0m \u001b[38;5;28;01mif\u001b[39;00m op\u001b[38;5;241m.\u001b[39mopcode \u001b[38;5;241m==\u001b[39m OpCode\u001b[38;5;241m.\u001b[39mSTORE:\n\u001b[1;32m     48\u001b[0m     \u001b[38;5;66;03m#assert op.inputs[0].space.name == \"ram\"\u001b[39;00m\n\u001b[1;32m     49\u001b[0m     \u001b[38;5;28;01mreturn\u001b[39;00m state1\u001b[38;5;241m.\u001b[39m_replace(ram \u001b[38;5;241m=\u001b[39m MStore(state1\u001b[38;5;241m.\u001b[39mram, inputs[\u001b[38;5;241m1\u001b[39m], inputs[\u001b[38;5;241m2\u001b[39m]))\n",
      "Cell \u001b[0;32mIn[77], line 46\u001b[0m, in \u001b[0;36m<listcomp>\u001b[0;34m(.0)\u001b[0m\n\u001b[1;32m     43\u001b[0m \u001b[38;5;28;01melif\u001b[39;00m op\u001b[38;5;241m.\u001b[39mopcode \u001b[38;5;241m==\u001b[39m OpCode\u001b[38;5;241m.\u001b[39mRETURN:\n\u001b[1;32m     44\u001b[0m     \u001b[38;5;28;01mreturn\u001b[39;00m \u001b[38;5;124m\"\u001b[39m\u001b[38;5;124mreturn\u001b[39m\u001b[38;5;124m\"\u001b[39m\n\u001b[0;32m---> 46\u001b[0m inputs \u001b[38;5;241m=\u001b[39m [\u001b[43mvarnode\u001b[49m\u001b[43m(\u001b[49m\u001b[43mi\u001b[49m\u001b[43m,\u001b[49m\u001b[43mstate\u001b[49m\u001b[43m)\u001b[49m \u001b[38;5;28;01mfor\u001b[39;00m i \u001b[38;5;129;01min\u001b[39;00m op\u001b[38;5;241m.\u001b[39minputs]\n\u001b[1;32m     47\u001b[0m \u001b[38;5;28;01mif\u001b[39;00m op\u001b[38;5;241m.\u001b[39mopcode \u001b[38;5;241m==\u001b[39m OpCode\u001b[38;5;241m.\u001b[39mSTORE:\n\u001b[1;32m     48\u001b[0m     \u001b[38;5;66;03m#assert op.inputs[0].space.name == \"ram\"\u001b[39;00m\n\u001b[1;32m     49\u001b[0m     \u001b[38;5;28;01mreturn\u001b[39;00m state1\u001b[38;5;241m.\u001b[39m_replace(ram \u001b[38;5;241m=\u001b[39m MStore(state1\u001b[38;5;241m.\u001b[39mram, inputs[\u001b[38;5;241m1\u001b[39m], inputs[\u001b[38;5;241m2\u001b[39m]))\n",
      "Cell \u001b[0;32mIn[77], line 25\u001b[0m, in \u001b[0;36mvarnode\u001b[0;34m(vnode, state)\u001b[0m\n\u001b[1;32m     23\u001b[0m     \u001b[38;5;28;01mreturn\u001b[39;00m MSelect(state\u001b[38;5;241m.\u001b[39munique, v, vnode\u001b[38;5;241m.\u001b[39msize\u001b[38;5;241m*\u001b[39m\u001b[38;5;241m8\u001b[39m)\n\u001b[1;32m     24\u001b[0m \u001b[38;5;28;01melif\u001b[39;00m vnode\u001b[38;5;241m.\u001b[39mspace\u001b[38;5;241m.\u001b[39mname \u001b[38;5;241m==\u001b[39m \u001b[38;5;124m\"\u001b[39m\u001b[38;5;124mregister\u001b[39m\u001b[38;5;124m\"\u001b[39m:\n\u001b[0;32m---> 25\u001b[0m     \u001b[38;5;28;01mreturn\u001b[39;00m \u001b[43mMSelect\u001b[49m\u001b[43m(\u001b[49m\u001b[43mstate\u001b[49m\u001b[38;5;241;43m.\u001b[39;49m\u001b[43mregister\u001b[49m\u001b[43m,\u001b[49m\u001b[43mvnode\u001b[49m\u001b[38;5;241;43m.\u001b[39;49m\u001b[43moffset\u001b[49m\u001b[43m,\u001b[49m\u001b[43m \u001b[49m\u001b[43mvnode\u001b[49m\u001b[38;5;241;43m.\u001b[39;49m\u001b[43msize\u001b[49m\u001b[38;5;241;43m*\u001b[39;49m\u001b[38;5;241;43m8\u001b[39;49m\u001b[43m)\u001b[49m\n\u001b[1;32m     26\u001b[0m \u001b[38;5;28;01melse\u001b[39;00m:\n\u001b[1;32m     27\u001b[0m     \u001b[38;5;28;01mraise\u001b[39;00m \u001b[38;5;167;01mValueError\u001b[39;00m(\u001b[38;5;124m\"\u001b[39m\u001b[38;5;124munrecognized space\u001b[39m\u001b[38;5;124m\"\u001b[39m, vnode\u001b[38;5;241m.\u001b[39mspace\u001b[38;5;241m.\u001b[39mname)\n",
      "Cell \u001b[0;32mIn[77], line 9\u001b[0m, in \u001b[0;36mMSelect\u001b[0;34m(a, i, n)\u001b[0m\n\u001b[1;32m      8\u001b[0m \u001b[38;5;28;01mdef\u001b[39;00m \u001b[38;5;21mMSelect\u001b[39m(a, i, n):\n\u001b[0;32m----> 9\u001b[0m     \u001b[38;5;28;01massert\u001b[39;00m size \u001b[38;5;129;01min\u001b[39;00m [\u001b[38;5;241m8\u001b[39m,\u001b[38;5;241m16\u001b[39m,\u001b[38;5;241m32\u001b[39m,\u001b[38;5;241m64\u001b[39m]\n\u001b[1;32m     10\u001b[0m     select \u001b[38;5;241m=\u001b[39m Function(\u001b[38;5;124mf\u001b[39m\u001b[38;5;124m\"\u001b[39m\u001b[38;5;124mselect\u001b[39m\u001b[38;5;132;01m{\u001b[39;00mn\u001b[38;5;132;01m}\u001b[39;00m\u001b[38;5;124m\"\u001b[39m, MemSort, BitVecSort(\u001b[38;5;241m64\u001b[39m), BitVecSort(n))\n\u001b[1;32m     11\u001b[0m     \u001b[38;5;28;01mreturn\u001b[39;00m select(a,i)\n",
      "\u001b[0;31mAssertionError\u001b[0m: "
     ]
    }
   ],
   "source": [
    "from z3 import *\n",
    "from collections import namedtuple\n",
    "def MStore(a,i,v):\n",
    "    size = v.size()\n",
    "    assert size in [8,16,32,64]\n",
    "    select = Function(f\"select{size}\", MemSort, BitVecSort(64), BitVecSort(size), MemSort)\n",
    "    return select(a,i,v)\n",
    "def MSelect(a, i, n):\n",
    "    assert size in [8,16,32,64]\n",
    "    select = Function(f\"select{n}\", MemSort, BitVecSort(64), BitVecSort(n))\n",
    "    return select(a,i)\n",
    "\n",
    "def varnode(vnode, state):\n",
    "    if vnode == None:\n",
    "        return None\n",
    "    if vnode.space.name == \"const\":\n",
    "        print(vnode.size)\n",
    "        return BitVecVal(vnode.offset, vnode.size * 8)\n",
    "    v = BitVecVal(vnode.offset, 64)\n",
    "    if vnode.space.name == \"ram\":\n",
    "        return MSelect(state.ram, v, vnode.size*8)\n",
    "    elif vnode.space.name == \"unique\":\n",
    "        return MSelect(state.unique, v, vnode.size*8)\n",
    "    elif vnode.space.name == \"register\":\n",
    "        return MSelect(state.register,vnode.offset, vnode.size*8)\n",
    "    else:\n",
    "        raise ValueError(\"unrecognized space\", vnode.space.name)\n",
    "def step(op, state1):\n",
    "    control = None\n",
    "    output = None\n",
    "    if op.opcode == OpCode.IMARK:\n",
    "        return f\"IMARK\"\n",
    "    elif op.opcode == OpCode.BRANCH:\n",
    "        control = True\n",
    "        return \"branch\"\n",
    "    elif op.opcode == OpCode.CBRANCH:\n",
    "        control = inputs[0] != 0\n",
    "        return \"cbranch\"\n",
    "    elif op.opcode == OpCode.CALL:\n",
    "        return \"call\"\n",
    "    elif op.opcode == OpCode.CALLIND:\n",
    "        return \"callind\"\n",
    "    elif op.opcode == OpCode.RETURN:\n",
    "        return \"return\"\n",
    "    \n",
    "    inputs = [varnode(i,state) for i in op.inputs]\n",
    "    if op.opcode == OpCode.STORE:\n",
    "        #assert op.inputs[0].space.name == \"ram\"\n",
    "        return state1._replace(ram = MStore(state1.ram, inputs[1], inputs[2]))\n",
    "    elif op.opcode == OpCode.LOAD:\n",
    "        #assert op.inputs[0].space.name == \"ram\"\n",
    "        return MSelect(state.ram, inputs[1], 8)\n",
    "    else:\n",
    "        output = arith_op(op, inputs)\n",
    "    \n",
    "    \n",
    "\n",
    "def arith_op(op, inputs):\n",
    "    match op.opcode:\n",
    "        case OpCode.COPY:\n",
    "            return inputs[0]\n",
    "        case OpCode.INT_EQUAL:\n",
    "            return If(inputs[0] == inputs[1], BitVecVal(1, 8), BitVecVal(0, 8))\n",
    "        case OpCode.INT_NOTEQUAL:\n",
    "            return If(inputs[0] != inputs[1], BitVecVal(1, 8), BitVecVal(0, 8))\n",
    "        case OpCode.INT_LESS:\n",
    "            return If(ULT(inputs[0], inputs[1]), BitVecVal(1, 8), BitVecVal(0, 8))\n",
    "        case OpCode.INT_SLESS:\n",
    "            return If(inputs[0] < inputs[1], BitVecVal(1, 8), BitVecVal(0, 8))\n",
    "        case OpCode.INT_LESSEQUAL:\n",
    "            return If(ULE(inputs[0], inputs[1]), BitVecVal(1, 8), BitVecVal(0, 8))\n",
    "        case OpCode.INT_SLESSEQUAL:\n",
    "            return If(inputs[0] <= inputs[1], BitVecVal(1, 8), BitVecVal(0, 8))\n",
    "        case OpCode.INT_ZEXT: \n",
    "            return ZeroExt((op.output.size - op.inputs[0].size) * 8, inputs[0])\n",
    "        case OpCode.INT_SEXT:\n",
    "            return SignExt((op.output.size - op.inputs[0].size) * 8, inputs[0])\n",
    "        case OpCode.INT_ADD:\n",
    "            return inputs[0] + inputs[1]\n",
    "        case OpCode.INT_SUB:\n",
    "            return inputs[0] - inputs[1]\n",
    "        case OpCode.INT_CARRY:\n",
    "            assert If(BVAddNoOverflow(inputs[0], inputs[1], False), BitVecVal(0, 8), BitVecVal(1, 8))\n",
    "        case OpCode.INT_SCARRY:\n",
    "            assert If(BVAddNoOverflow(inputs[0], inputs[1], True), BitVecVal(0, 8), BitVecVal(1, 8))\n",
    "        case OpCode.INT_SBORROW:\n",
    "            assert False, \"unimplemented\"\n",
    "        case OpCode.INT_2COMP:\n",
    "            return -inputs[0]\n",
    "        case OpCode.INT_NEGATE:\n",
    "            return ~inputs[0]\n",
    "        case OpCode.INT_XOR:\n",
    "            return inputs[0] ^ inputs[1]\n",
    "        case OpCode.INT_AND:\n",
    "            return inputs[0] & inputs[1]\n",
    "        case OpCode.INT_OR:\n",
    "            return inputs[0] | inputs[1]\n",
    "        case OpCode.INT_LEFT:\n",
    "            return inputs[0] << inputs[1]\n",
    "        case OpCode.INT_RIGHT:\n",
    "            return  LShR(inputs[0], inputs[1])\n",
    "        case OpCode.INT_SRIGHT:\n",
    "            return inputs[0] >> inputs[1]\n",
    "        case OpCode.INT_MULT:\n",
    "            return inputs[0] * inputs[1]\n",
    "        case OpCode.INT_DIV:\n",
    "            return UDiv(inputs[0], inputs[1])\n",
    "        case OpCode.INT_REM:\n",
    "            return URem(inputs[0], inputs[1])\n",
    "        case OpCode.INT_SDIV:\n",
    "            return inputs[0] / inputs[1]\n",
    "        case OpCode.INT_SREM:\n",
    "            return inputs[0] % inputs[1]\n",
    "        case OpCode.BOOL_NEGATE:\n",
    "            return If(inputs[0] == 0, BitVecVal(1, 8), BitVecVal(0, 8))       \n",
    "        case OpCode.BOOL_XOR:\n",
    "            return If(inputs[0] != inputs[1], BitVecVal(1, 8), BitVecVal(0, 8))\n",
    "        case OpCode.BOOL_AND:\n",
    "            return If(inputs[0] & inputs[1] == 1, BitVecVal(1, 8), BitVecVal(0, 8))\n",
    "        case OpCode.POPCOUNT:\n",
    "            return BitVecVal(0, output.size*8)\n",
    "            for i in range(inputs[0].size()):\n",
    "                output += (inputs[0] >> i) & 1\n",
    "        case _:\n",
    "            raise ValueError(\"unrecognized opcode\", op.opcode)\n",
    "    return output\n",
    "State = namedtuple(\"state\", \"ram unique register\")\n",
    "MemSort = ArraySort(BitVecSort(64), BitVecSort(8))\n",
    "state = State(Const(\"ram\", MemSort), Const(\"unique\", MemSort), Const(\"register\", MemSort))\n",
    "for op in res.ops:\n",
    "    print(PcodePrettyPrinter.fmt_op(op))\n",
    "    print(step(op, state))"
   ]
  },
  {
   "cell_type": "code",
   "execution_count": 36,
   "metadata": {},
   "outputs": [
    {
     "name": "stdout",
     "output_type": "stream",
     "text": [
      "IMARK \n",
      "IMARK ram[0:4]\n",
      "IMARK \n",
      "IMARK ram[4:1]\n",
      "register_40\n",
      "unique[10c00:8] = RBP\n",
      "register_32 - 8\n",
      "RSP = RSP - 0x8\n",
      "None\n",
      "*[ram]RSP = unique[10c00:8]\n",
      "IMARK \n",
      "IMARK ram[5:3]\n",
      "register_32\n",
      "RBP = RSP\n",
      "IMARK \n",
      "IMARK ram[8:3]\n",
      "register_40 + 18446744073709551612\n",
      "unique[4400:8] = RBP + 0xfffffffffffffffc\n",
      "register_56\n",
      "unique[6780:4] = EDI\n",
      "None\n",
      "*[ram]unique[4400:8] = unique[6780:4]\n",
      "IMARK \n",
      "IMARK ram[b:3]\n",
      "register_40 + 18446744073709551608\n",
      "unique[4400:8] = RBP + 0xfffffffffffffff8\n",
      "register_48\n",
      "unique[6780:4] = ESI\n",
      "None\n",
      "*[ram]unique[4400:8] = unique[6780:4]\n",
      "IMARK \n",
      "IMARK ram[e:3]\n",
      "register_40 + 18446744073709551608\n",
      "unique[4400:8] = RBP + 0xfffffffffffffff8\n",
      "unrecognized opcode OpCode.LOAD\n"
     ]
    },
    {
     "ename": "AssertionError",
     "evalue": "",
     "output_type": "error",
     "traceback": [
      "\u001b[0;31m---------------------------------------------------------------------------\u001b[0m",
      "\u001b[0;31mAssertionError\u001b[0m                            Traceback (most recent call last)",
      "Cell \u001b[0;32mIn[36], line 32\u001b[0m\n\u001b[1;32m     30\u001b[0m             \u001b[38;5;28;01massert\u001b[39;00m \u001b[38;5;28;01mFalse\u001b[39;00m\n\u001b[1;32m     31\u001b[0m \u001b[38;5;28;01mfor\u001b[39;00m op \u001b[38;5;129;01min\u001b[39;00m res\u001b[38;5;241m.\u001b[39mops:\n\u001b[0;32m---> 32\u001b[0m     \u001b[38;5;28mprint\u001b[39m(\u001b[43mstep\u001b[49m\u001b[43m(\u001b[49m\u001b[43mop\u001b[49m\u001b[43m)\u001b[49m)\n\u001b[1;32m     34\u001b[0m     \u001b[38;5;28mprint\u001b[39m(PcodePrettyPrinter\u001b[38;5;241m.\u001b[39mfmt_op(op))\n",
      "Cell \u001b[0;32mIn[36], line 30\u001b[0m, in \u001b[0;36mstep\u001b[0;34m(op)\u001b[0m\n\u001b[1;32m     28\u001b[0m \u001b[38;5;28;01mcase\u001b[39;00m\u001b[38;5;250m \u001b[39m\u001b[38;5;28;01m_\u001b[39;00m:\n\u001b[1;32m     29\u001b[0m     \u001b[38;5;28mprint\u001b[39m(\u001b[38;5;124m\"\u001b[39m\u001b[38;5;124munrecognized opcode\u001b[39m\u001b[38;5;124m\"\u001b[39m, op\u001b[38;5;241m.\u001b[39mopcode)\n\u001b[0;32m---> 30\u001b[0m     \u001b[38;5;28;01massert\u001b[39;00m \u001b[38;5;28;01mFalse\u001b[39;00m\n",
      "\u001b[0;31mAssertionError\u001b[0m: "
     ]
    }
   ],
   "source": [
    "def varnode(vnode):\n",
    "    if vnode == None:\n",
    "        return None\n",
    "    v = BitVecVal(vnode.offset, vnode.size * 8)\n",
    "    if vnode.space.name == \"const\":\n",
    "        return v\n",
    "    elif vnode.space.name == \"ram\":\n",
    "        return BitVec(\"ram\", vnode.size*8)\n",
    "    elif vnode.space.name == \"unique\":\n",
    "        return BitVec(\"unique\", vnode.size*8)\n",
    "    elif vnode.space.name == \"register\":\n",
    "        return BitVec(f\"register_{vnode.offset}\", vnode.size*8)\n",
    "    else:\n",
    "        raise ValueError(\"unrecognized space\", vnode.space.name)\n",
    "def step(op):\n",
    "    inputs = [varnode(i) for i in op.inputs]\n",
    "    match op.opcode:\n",
    "        case OpCode.IMARK:\n",
    "            return f\"IMARK \"\n",
    "        case OpCode.COPY:\n",
    "            return inputs[0]\n",
    "        case OpCode.INT_ADD:\n",
    "            return inputs[0] + inputs[1]\n",
    "        case OpCode.INT_SUB:\n",
    "            return inputs[0] - inputs[1]\n",
    "        case OpCode.STORE:\n",
    "            pass\n",
    "        case _:\n",
    "            print(\"unrecognized opcode\", op.opcode)\n",
    "            assert False\n",
    "for op in res.ops:\n",
    "    print(step(op))\n",
    "\n",
    "    print(PcodePrettyPrinter.fmt_op(op))"
   ]
  },
  {
   "cell_type": "code",
   "execution_count": 80,
   "metadata": {},
   "outputs": [
    {
     "name": "stdout",
     "output_type": "stream",
     "text": [
      "[!] Could not find system include headers for riscv32-linux\n"
     ]
    }
   ],
   "source": [
    "from pwn import asm, context\n",
    "from pypcode import Context, PcodePrettyPrinter\n",
    "\n",
    "# Set the pwntools context to RISC-V 32-bit\n",
    "context.arch = 'riscv32'\n",
    "context.endian = 'little'\n",
    "\n",
    "# Define a list of simple RISC-V instructions\n",
    "instructions = [\n",
    "    \"li t0, 42\",        # Load immediate\n",
    "    \"add t1, t0, t0\",   # Add t0 + t0 -> t1\n",
    "    \"sub t2, t1, t0\",   # Subtract t1 - t0 -> t2\n",
    "    \"lw t3, 0(t0)\",     # Load word from memory\n",
    "    \"sw t3, 4(t0)\"      # Store word to memory\n",
    "]\n",
    "# Assemble the instructions into bytes\n",
    "assembled_code = b\"\".join(asm(inst) for inst in instructions)"
   ]
  }
 ],
 "metadata": {
  "kernelspec": {
   "display_name": "Python 3",
   "language": "python",
   "name": "python3"
  },
  "language_info": {
   "codemirror_mode": {
    "name": "ipython",
    "version": 3
   },
   "file_extension": ".py",
   "mimetype": "text/x-python",
   "name": "python",
   "nbconvert_exporter": "python",
   "pygments_lexer": "ipython3",
   "version": "3.10.12"
  }
 },
 "nbformat": 4,
 "nbformat_minor": 2
}
