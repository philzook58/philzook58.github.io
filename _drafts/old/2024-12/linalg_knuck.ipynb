{
 "cells": [
  {
   "cell_type": "markdown",
   "metadata": {},
   "source": []
  },
  {
   "cell_type": "markdown",
   "metadata": {},
   "source": [
    "# Vector Algebra\n",
    "\n",
    "\n"
   ]
  },
  {
   "cell_type": "code",
   "execution_count": 8,
   "metadata": {},
   "outputs": [
    {
     "name": "stdout",
     "output_type": "stream",
     "text": [
      "WARNING: Redefining function add from |- ForAll([u, v, i!195],\n",
      "       add(u, v)[i!195] == u[i!195] + v[i!195]) to ForAll([u, v, i!196],\n",
      "       add(u, v)[i!196] == u[i!196] + v[i!196])\n"
     ]
    }
   ],
   "source": [
    "import kdrag as kd\n",
    "import kdrag.theories.real as real\n",
    "import kdrag.theories.vec as vec\n",
    "import kdrag.smt as smt\n",
    "\n",
    "V3 = vec.Fin3 >> real.R\n",
    "u,v,w = smt.Consts(\"u v w\", V3)\n",
    "sum = kd.define(\"sum\", [u], smt.Sum([u[i] for i in vec.ind3]))\n",
    "sum.defn\n",
    "m,n,p = smt.Consts(\"m n p\", vec.Fin3)\n",
    "kd.notation.add.define([u,v], smt.Lambda([n], u[n] + v[n]))\n",
    "\n",
    "i = kd.define(\"i\", [], smt.Lambda([j], smt.If(j == vec.ind3[0], 1, 0)))\n",
    "j = kd.define(\"j\", [], smt.Lambda([j], smt.If(j == vec.ind3[1], 1, 0)))\n",
    "k = kd.define(\"k\", [], smt.Lambda([j], smt.If(j == vec.ind3[2], 1, 0)))\n",
    "\n",
    "def Vec3(x):\n",
    "    \n",
    "\n",
    "\n",
    "cross = kd.define(\"cross\", [u,v], vec.Vec3([sum([u[j]*v[k] - u[k]*v[j] for j in vec.ind3]) for k in vec.ind3]))\n",
    "\n"
   ]
  },
  {
   "cell_type": "markdown",
   "metadata": {},
   "source": [
    "# HOL eculdiean"
   ]
  },
  {
   "cell_type": "markdown",
   "metadata": {},
   "source": [
    "https://www.cl.cam.ac.uk/~jrh13/papers/hol05.pdf eucldiean space in HOL.\n",
    "Two appraches N -> R troo big\n",
    "specific n\n",
    "a decision procedrue for vectors...\n",
    "oooh. this slaps\n",
    "https\n",
    "https://github.com/jrh13/hol-light/tree/master/Multivariate\n",
    "https://github.com/jrh13/hol-light/blob/master/cart.ml\n",
    "Library/card\n"
   ]
  },
  {
   "cell_type": "code",
   "execution_count": null,
   "metadata": {},
   "outputs": [],
   "source": [
    "# linear subspaces\n",
    "SubVec = Newtype(Set(Vec), check=lambda S: QForAll([a,b,u,v], S[u], S[v], S[smul(a, u) + smul(b, v)]))\n"
   ]
  },
  {
   "cell_type": "code",
   "execution_count": null,
   "metadata": {},
   "outputs": [],
   "source": [
    "# meta finite dimensional\n",
    "@dataclass(frozen=True)\n",
    "class FinVectorSpace(VectorSpace):\n",
    "    basis: list[ExprRef]\n",
    "\n",
    "\n"
   ]
  },
  {
   "cell_type": "code",
   "execution_count": null,
   "metadata": {},
   "outputs": [],
   "source": [
    "def IntentFinSet(S):\n",
    "    R = kd.Record(f\"IntentFinSet({S})\", (\"val\", SetSort(S)))\n",
    "    finuniverse = FreshConst(\"finuniverse\", SeqSort(S))\n",
    "    s = Const(\"s\", R)\n",
    "    x = FreshConst(S)\n",
    "    kd.notation.wf.define([s], kd.QForAll([x], Contains(x, s), Contains(x, finuniverse)))\n",
    "    return R\n",
    "\n",
    "FinSupportVecIntent = kd.Record(\"FinSupportVec\", (\"val\", ArraySort(IntSort(), RealSort())))\n",
    "kd.notation.wf.define([v], kd.QForAll([n], Implies(v[n] != 0, Contains(n, universe)))) # Select(R, i), Or(Select(R, i), Not(Select(R, i+1))))\n",
    "return R\n",
    "\n",
    "\n",
    "wf.define([v], Exists([univ], ForAll([n], Implies(v[n] != 0, Contains(n, univ)))))\n",
    "Or(v[n] == 0, v[n] == w[n])"
   ]
  },
  {
   "cell_type": "markdown",
   "metadata": {},
   "source": [
    "What about finite injection projection functions into the Vec Universe.\n",
    "\n"
   ]
  },
  {
   "cell_type": "code",
   "execution_count": 1,
   "metadata": {},
   "outputs": [],
   "source": [
    "from z3 import *\n",
    "Fin4, args = EnumSort(\"Fin4\", [\"v\" + str(i) for i in range(4)])\n"
   ]
  },
  {
   "cell_type": "markdown",
   "metadata": {},
   "source": [
    "What about an undefined registry. Could that help me detect when things are getting to undefined cases?"
   ]
  },
  {
   "cell_type": "markdown",
   "metadata": {},
   "source": [
    "Injections and surjections\n",
    "Kind of nice way to go into and out of a general universe.\n",
    "\n",
    "To say a two groups arte isomorphic,  inj1(proj2(x)) \n"
   ]
  },
  {
   "cell_type": "code",
   "execution_count": null,
   "metadata": {},
   "outputs": [],
   "source": [
    "inj4 = kd.define(\"inj4\", [n], If(n == args[0], 0, If( n == args[1], 1, If( n == args[2], 2, 3))))\n",
    "undefined = Function(\"undefined\", IntSort(), Fin4)\n",
    "proj4 = kd.define(\"proj4\", [n], If(n == 0, args[0], If(n == 1, args[1], If(n == 2, args[2], If(n == 3, args[3], undefined(n))))))\n",
    "kd.lemma(ForAll([x],proj4(inj4(x)) == x))\n",
    "kd.lemma(ForAll([x,y], (inj(x) == inj(y)) == x == y)) # injective\n",
    "kd.lemma(ForAll([x], Exists([n], proj4(n) == x))) # surjective"
   ]
  },
  {
   "cell_type": "code",
   "execution_count": null,
   "metadata": {},
   "outputs": [],
   "source": [
    "Vec4 = ArraySort(Fin4, RealSort())\n",
    "Vec = ArraySort(IntSort(), RealSort())\n",
    "\n",
    "to_vec = kd.define(\"to_vec\", [v], Function(\"to_vec\", Vec4, Vec))\n",
    "to_vec4 = kd.define(\"to_vec4\", [v], Lambda([x], v[inj4(x)])\n",
    "\n"
   ]
  },
  {
   "cell_type": "code",
   "execution_count": 4,
   "metadata": {},
   "outputs": [
    {
     "ename": "Z3Exception",
     "evalue": "Sort mismatch",
     "output_type": "error",
     "traceback": [
      "\u001b[0;31m---------------------------------------------------------------------------\u001b[0m",
      "\u001b[0;31mZ3Exception\u001b[0m                               Traceback (most recent call last)",
      "\u001b[0;32m/tmp/ipykernel_471/2257888945.py\u001b[0m in \u001b[0;36m?\u001b[0;34m()\u001b[0m\n\u001b[1;32m      6\u001b[0m \u001b[0minj4\u001b[0m \u001b[0;34m=\u001b[0m \u001b[0mFunction\u001b[0m\u001b[0;34m(\u001b[0m\u001b[0;34m\"inj\"\u001b[0m\u001b[0;34m,\u001b[0m \u001b[0mV4\u001b[0m\u001b[0;34m,\u001b[0m \u001b[0mVec\u001b[0m\u001b[0;34m)\u001b[0m\u001b[0;34m\u001b[0m\u001b[0;34m\u001b[0m\u001b[0m\n\u001b[1;32m      7\u001b[0m \u001b[0mproj4\u001b[0m \u001b[0;34m=\u001b[0m \u001b[0mFunction\u001b[0m\u001b[0;34m(\u001b[0m\u001b[0;34m\"proj\"\u001b[0m\u001b[0;34m,\u001b[0m \u001b[0mVec\u001b[0m\u001b[0;34m,\u001b[0m \u001b[0mV4\u001b[0m\u001b[0;34m)\u001b[0m\u001b[0;34m\u001b[0m\u001b[0;34m\u001b[0m\u001b[0m\n\u001b[1;32m      8\u001b[0m \u001b[0mv\u001b[0m\u001b[0;34m,\u001b[0m\u001b[0mw\u001b[0m \u001b[0;34m=\u001b[0m \u001b[0mConsts\u001b[0m\u001b[0;34m(\u001b[0m\u001b[0;34m\"v w\"\u001b[0m\u001b[0;34m,\u001b[0m \u001b[0mV4\u001b[0m\u001b[0;34m)\u001b[0m\u001b[0;34m\u001b[0m\u001b[0;34m\u001b[0m\u001b[0m\n\u001b[1;32m      9\u001b[0m \u001b[0mn\u001b[0m \u001b[0;34m=\u001b[0m \u001b[0mInt\u001b[0m\u001b[0;34m(\u001b[0m\u001b[0;34m\"n\"\u001b[0m\u001b[0;34m)\u001b[0m\u001b[0;34m\u001b[0m\u001b[0;34m\u001b[0m\u001b[0m\n\u001b[0;32m---> 10\u001b[0;31m \u001b[0mkd\u001b[0m\u001b[0;34m.\u001b[0m\u001b[0mdefine\u001b[0m\u001b[0;34m(\u001b[0m\u001b[0;34m\"inj4\"\u001b[0m\u001b[0;34m,\u001b[0m \u001b[0;34m[\u001b[0m\u001b[0mv\u001b[0m\u001b[0;34m]\u001b[0m\u001b[0;34m,\u001b[0m \u001b[0mLambda\u001b[0m\u001b[0;34m(\u001b[0m\u001b[0;34m[\u001b[0m\u001b[0mn\u001b[0m\u001b[0;34m]\u001b[0m\u001b[0;34m,\u001b[0m \u001b[0mIf\u001b[0m\u001b[0;34m(\u001b[0m\u001b[0mAnd\u001b[0m\u001b[0;34m(\u001b[0m\u001b[0mn\u001b[0m \u001b[0;34m>=\u001b[0m \u001b[0;36m0\u001b[0m\u001b[0;34m,\u001b[0m \u001b[0mn\u001b[0m \u001b[0;34m<\u001b[0m \u001b[0;36m4\u001b[0m\u001b[0;34m)\u001b[0m\u001b[0;34m,\u001b[0m \u001b[0mv\u001b[0m\u001b[0;34m[\u001b[0m\u001b[0mn\u001b[0m\u001b[0;34m]\u001b[0m\u001b[0;34m,\u001b[0m \u001b[0;36m0\u001b[0m\u001b[0;34m)\u001b[0m\u001b[0;34m)\u001b[0m\u001b[0;34m)\u001b[0m\u001b[0;34m\u001b[0m\u001b[0;34m\u001b[0m\u001b[0m\n\u001b[0m",
      "\u001b[0;32m~/.local/lib/python3.10/site-packages/z3/z3.py\u001b[0m in \u001b[0;36m?\u001b[0;34m(self, arg)\u001b[0m\n\u001b[1;32m   4634\u001b[0m         \u001b[0ma\u001b[0m\u001b[0;34m[\u001b[0m\u001b[0mi\u001b[0m\u001b[0;34m]\u001b[0m\u001b[0;34m\u001b[0m\u001b[0;34m\u001b[0m\u001b[0m\n\u001b[1;32m   4635\u001b[0m         \u001b[0;34m>>\u001b[0m\u001b[0;34m>\u001b[0m \u001b[0ma\u001b[0m\u001b[0;34m[\u001b[0m\u001b[0mi\u001b[0m\u001b[0;34m]\u001b[0m\u001b[0;34m.\u001b[0m\u001b[0msexpr\u001b[0m\u001b[0;34m(\u001b[0m\u001b[0;34m)\u001b[0m\u001b[0;34m\u001b[0m\u001b[0;34m\u001b[0m\u001b[0m\n\u001b[1;32m   4636\u001b[0m         \u001b[0;34m'(select a i)'\u001b[0m\u001b[0;34m\u001b[0m\u001b[0;34m\u001b[0m\u001b[0m\n\u001b[1;32m   4637\u001b[0m         \"\"\"\n\u001b[0;32m-> 4638\u001b[0;31m         \u001b[0;32mreturn\u001b[0m \u001b[0m_array_select\u001b[0m\u001b[0;34m(\u001b[0m\u001b[0mself\u001b[0m\u001b[0;34m,\u001b[0m \u001b[0marg\u001b[0m\u001b[0;34m)\u001b[0m\u001b[0;34m\u001b[0m\u001b[0;34m\u001b[0m\u001b[0m\n\u001b[0m",
      "\u001b[0;32m~/.local/lib/python3.10/site-packages/z3/z3.py\u001b[0m in \u001b[0;36m?\u001b[0;34m(ar, arg)\u001b[0m\n\u001b[1;32m   4645\u001b[0m     \u001b[0;32mif\u001b[0m \u001b[0misinstance\u001b[0m\u001b[0;34m(\u001b[0m\u001b[0marg\u001b[0m\u001b[0;34m,\u001b[0m \u001b[0mtuple\u001b[0m\u001b[0;34m)\u001b[0m\u001b[0;34m:\u001b[0m\u001b[0;34m\u001b[0m\u001b[0;34m\u001b[0m\u001b[0m\n\u001b[1;32m   4646\u001b[0m         \u001b[0margs\u001b[0m \u001b[0;34m=\u001b[0m \u001b[0;34m[\u001b[0m\u001b[0mar\u001b[0m\u001b[0;34m.\u001b[0m\u001b[0msort\u001b[0m\u001b[0;34m(\u001b[0m\u001b[0;34m)\u001b[0m\u001b[0;34m.\u001b[0m\u001b[0mdomain_n\u001b[0m\u001b[0;34m(\u001b[0m\u001b[0mi\u001b[0m\u001b[0;34m)\u001b[0m\u001b[0;34m.\u001b[0m\u001b[0mcast\u001b[0m\u001b[0;34m(\u001b[0m\u001b[0marg\u001b[0m\u001b[0;34m[\u001b[0m\u001b[0mi\u001b[0m\u001b[0;34m]\u001b[0m\u001b[0;34m)\u001b[0m \u001b[0;32mfor\u001b[0m \u001b[0mi\u001b[0m \u001b[0;32min\u001b[0m \u001b[0mrange\u001b[0m\u001b[0;34m(\u001b[0m\u001b[0mlen\u001b[0m\u001b[0;34m(\u001b[0m\u001b[0marg\u001b[0m\u001b[0;34m)\u001b[0m\u001b[0;34m)\u001b[0m\u001b[0;34m]\u001b[0m\u001b[0;34m\u001b[0m\u001b[0;34m\u001b[0m\u001b[0m\n\u001b[1;32m   4647\u001b[0m         \u001b[0m_args\u001b[0m\u001b[0;34m,\u001b[0m \u001b[0msz\u001b[0m \u001b[0;34m=\u001b[0m \u001b[0m_to_ast_array\u001b[0m\u001b[0;34m(\u001b[0m\u001b[0margs\u001b[0m\u001b[0;34m)\u001b[0m\u001b[0;34m\u001b[0m\u001b[0;34m\u001b[0m\u001b[0m\n\u001b[1;32m   4648\u001b[0m         \u001b[0;32mreturn\u001b[0m \u001b[0m_to_expr_ref\u001b[0m\u001b[0;34m(\u001b[0m\u001b[0mZ3_mk_select_n\u001b[0m\u001b[0;34m(\u001b[0m\u001b[0mar\u001b[0m\u001b[0;34m.\u001b[0m\u001b[0mctx_ref\u001b[0m\u001b[0;34m(\u001b[0m\u001b[0;34m)\u001b[0m\u001b[0;34m,\u001b[0m \u001b[0mar\u001b[0m\u001b[0;34m.\u001b[0m\u001b[0mas_ast\u001b[0m\u001b[0;34m(\u001b[0m\u001b[0;34m)\u001b[0m\u001b[0;34m,\u001b[0m \u001b[0msz\u001b[0m\u001b[0;34m,\u001b[0m \u001b[0m_args\u001b[0m\u001b[0;34m)\u001b[0m\u001b[0;34m,\u001b[0m \u001b[0mar\u001b[0m\u001b[0;34m.\u001b[0m\u001b[0mctx\u001b[0m\u001b[0;34m)\u001b[0m\u001b[0;34m\u001b[0m\u001b[0;34m\u001b[0m\u001b[0m\n\u001b[0;32m-> 4649\u001b[0;31m     \u001b[0marg\u001b[0m \u001b[0;34m=\u001b[0m \u001b[0mar\u001b[0m\u001b[0;34m.\u001b[0m\u001b[0msort\u001b[0m\u001b[0;34m(\u001b[0m\u001b[0;34m)\u001b[0m\u001b[0;34m.\u001b[0m\u001b[0mdomain\u001b[0m\u001b[0;34m(\u001b[0m\u001b[0;34m)\u001b[0m\u001b[0;34m.\u001b[0m\u001b[0mcast\u001b[0m\u001b[0;34m(\u001b[0m\u001b[0marg\u001b[0m\u001b[0;34m)\u001b[0m\u001b[0;34m\u001b[0m\u001b[0;34m\u001b[0m\u001b[0m\n\u001b[0m\u001b[1;32m   4650\u001b[0m     \u001b[0;32mreturn\u001b[0m \u001b[0m_to_expr_ref\u001b[0m\u001b[0;34m(\u001b[0m\u001b[0mZ3_mk_select\u001b[0m\u001b[0;34m(\u001b[0m\u001b[0mar\u001b[0m\u001b[0;34m.\u001b[0m\u001b[0mctx_ref\u001b[0m\u001b[0;34m(\u001b[0m\u001b[0;34m)\u001b[0m\u001b[0;34m,\u001b[0m \u001b[0mar\u001b[0m\u001b[0;34m.\u001b[0m\u001b[0mas_ast\u001b[0m\u001b[0;34m(\u001b[0m\u001b[0;34m)\u001b[0m\u001b[0;34m,\u001b[0m \u001b[0marg\u001b[0m\u001b[0;34m.\u001b[0m\u001b[0mas_ast\u001b[0m\u001b[0;34m(\u001b[0m\u001b[0;34m)\u001b[0m\u001b[0;34m)\u001b[0m\u001b[0;34m,\u001b[0m \u001b[0mar\u001b[0m\u001b[0;34m.\u001b[0m\u001b[0mctx\u001b[0m\u001b[0;34m)\u001b[0m\u001b[0;34m\u001b[0m\u001b[0;34m\u001b[0m\u001b[0m\n",
      "\u001b[0;32m~/.local/lib/python3.10/site-packages/z3/z3.py\u001b[0m in \u001b[0;36m?\u001b[0;34m(self, val)\u001b[0m\n\u001b[1;32m    601\u001b[0m         \u001b[0mToReal\u001b[0m\u001b[0;34m(\u001b[0m\u001b[0mx\u001b[0m\u001b[0;34m)\u001b[0m\u001b[0;34m\u001b[0m\u001b[0;34m\u001b[0m\u001b[0m\n\u001b[1;32m    602\u001b[0m         \"\"\"\n\u001b[1;32m    603\u001b[0m         \u001b[0;32mif\u001b[0m \u001b[0mz3_debug\u001b[0m\u001b[0;34m(\u001b[0m\u001b[0;34m)\u001b[0m\u001b[0;34m:\u001b[0m\u001b[0;34m\u001b[0m\u001b[0;34m\u001b[0m\u001b[0m\n\u001b[1;32m    604\u001b[0m             \u001b[0m_z3_assert\u001b[0m\u001b[0;34m(\u001b[0m\u001b[0mis_expr\u001b[0m\u001b[0;34m(\u001b[0m\u001b[0mval\u001b[0m\u001b[0;34m)\u001b[0m\u001b[0;34m,\u001b[0m \u001b[0;34m\"Z3 expression expected\"\u001b[0m\u001b[0;34m)\u001b[0m\u001b[0;34m\u001b[0m\u001b[0;34m\u001b[0m\u001b[0m\n\u001b[0;32m--> 605\u001b[0;31m             \u001b[0m_z3_assert\u001b[0m\u001b[0;34m(\u001b[0m\u001b[0mself\u001b[0m\u001b[0;34m.\u001b[0m\u001b[0meq\u001b[0m\u001b[0;34m(\u001b[0m\u001b[0mval\u001b[0m\u001b[0;34m.\u001b[0m\u001b[0msort\u001b[0m\u001b[0;34m(\u001b[0m\u001b[0;34m)\u001b[0m\u001b[0;34m)\u001b[0m\u001b[0;34m,\u001b[0m \u001b[0;34m\"Sort mismatch\"\u001b[0m\u001b[0;34m)\u001b[0m\u001b[0;34m\u001b[0m\u001b[0;34m\u001b[0m\u001b[0m\n\u001b[0m\u001b[1;32m    606\u001b[0m         \u001b[0;32mreturn\u001b[0m \u001b[0mval\u001b[0m\u001b[0;34m\u001b[0m\u001b[0;34m\u001b[0m\u001b[0m\n",
      "\u001b[0;32m~/.local/lib/python3.10/site-packages/z3/z3.py\u001b[0m in \u001b[0;36m?\u001b[0;34m(cond, msg)\u001b[0m\n\u001b[1;32m    105\u001b[0m \u001b[0;32mdef\u001b[0m \u001b[0m_z3_assert\u001b[0m\u001b[0;34m(\u001b[0m\u001b[0mcond\u001b[0m\u001b[0;34m,\u001b[0m \u001b[0mmsg\u001b[0m\u001b[0;34m)\u001b[0m\u001b[0;34m:\u001b[0m\u001b[0;34m\u001b[0m\u001b[0;34m\u001b[0m\u001b[0m\n\u001b[1;32m    106\u001b[0m     \u001b[0;32mif\u001b[0m \u001b[0;32mnot\u001b[0m \u001b[0mcond\u001b[0m\u001b[0;34m:\u001b[0m\u001b[0;34m\u001b[0m\u001b[0;34m\u001b[0m\u001b[0m\n\u001b[0;32m--> 107\u001b[0;31m         \u001b[0;32mraise\u001b[0m \u001b[0mZ3Exception\u001b[0m\u001b[0;34m(\u001b[0m\u001b[0mmsg\u001b[0m\u001b[0;34m)\u001b[0m\u001b[0;34m\u001b[0m\u001b[0;34m\u001b[0m\u001b[0m\n\u001b[0m",
      "\u001b[0;31mZ3Exception\u001b[0m: Sort mismatch"
     ]
    }
   ],
   "source": [
    "from z3 import *\n",
    "import knuckledragger as kd\n",
    "\n",
    "Fin4 = FiniteDomainSort(\"Fin4\", 4)\n",
    "V4 = ArraySort(Fin4, RealSort())\n",
    "Vec = ArraySort(IntSort(), RealSort())\n",
    "inj4 = Function(\"inj\", V4, Vec)\n",
    "proj4 = Function(\"proj\", Vec, V4)\n",
    "v,w = Consts(\"v w\", V4)\n",
    "n = Int(\"n\")\n",
    "kd.define(\"inj4\", [v], Lambda([n], If(And(n >= 0, n < 4), v[n], 0)))\n",
    "\n",
    "\n",
    "def Vec(n):\n",
    "    pass\n",
    "\"\"\" Vec`1 Vec2  Vec3 Vec4  Vec8 Vec16 Vec1000 Vec1024 \"\"\"\n"
   ]
  },
  {
   "cell_type": "code",
   "execution_count": 2,
   "metadata": {},
   "outputs": [
    {
     "data": {
      "text/html": [
       "Array(Fin3, Real)"
      ],
      "text/plain": [
       "Array(Fin3, Real)"
      ]
     },
     "execution_count": 2,
     "metadata": {},
     "output_type": "execute_result"
    }
   ],
   "source": [
    "from z3 import *\n",
    "import knuckledragger as kd\n",
    "\n",
    "def Vec(N):\n",
    "    sort = ArraySort(FiniteDomainSort(f\"Fin{N}\", N), RealSort())\n",
    "    x,y,z = Consts('x y z', sort)\n",
    "    a,b,c = Reals(\"a b c\")\n",
    "    notation.add.define(sort, [x,y], RN.make(*[RN.x(x,i) + RN.x(y,i) for i in range(N)]))\n",
    "    RN.vsub = kd.define(\"vsub\", [x,y], RN.make(*[RN.x(x,i) - RN.x(y,i) for i in range(N)]))\n",
    "    notation.sub.register(RN, RN.vsub)\n",
    "    RN.smul = kd.define(\"vmul\", [x,a], RN.make(*[a * RN.x(x,i) for i in range(N)]))\n",
    "    notation.mul.register(RN, RN.smul)\n",
    "\n",
    "    RN.vdot = kd.define(\"vdot\", [x,y], Sum([RN.x(x,i) * RN.x(y,i) for i in range(N)]))\n",
    "\n",
    "\n",
    "Vec(3)"
   ]
  },
  {
   "cell_type": "code",
   "execution_count": 10,
   "metadata": {},
   "outputs": [
    {
     "ename": "Z3Exception",
     "evalue": "b'index out of bounds'",
     "output_type": "error",
     "traceback": [
      "\u001b[0;31m---------------------------------------------------------------------------\u001b[0m",
      "\u001b[0;31mZ3Exception\u001b[0m                               Traceback (most recent call last)",
      "Cell \u001b[0;32mIn[10], line 40\u001b[0m\n\u001b[1;32m     38\u001b[0m \u001b[38;5;66;03m#v + v # need simp routine. This is ridiculous\u001b[39;00m\n\u001b[1;32m     39\u001b[0m u,v \u001b[38;5;241m=\u001b[39m Consts(\u001b[38;5;124m\"\u001b[39m\u001b[38;5;124mu v\u001b[39m\u001b[38;5;124m\"\u001b[39m, R3)\n\u001b[0;32m---> 40\u001b[0m R3\u001b[38;5;241m.\u001b[39mcross \u001b[38;5;241m=\u001b[39m kd\u001b[38;5;241m.\u001b[39mdefine(\u001b[38;5;124m\"\u001b[39m\u001b[38;5;124mcross\u001b[39m\u001b[38;5;124m\"\u001b[39m, [u,v], \u001b[43mR2\u001b[49m\u001b[38;5;241;43m.\u001b[39;49m\u001b[43mmake\u001b[49m\u001b[43m(\u001b[49m\u001b[43mu\u001b[49m\u001b[38;5;241;43m.\u001b[39;49m\u001b[43mx1\u001b[49m\u001b[43m \u001b[49m\u001b[38;5;241;43m*\u001b[39;49m\u001b[43m \u001b[49m\u001b[43mv\u001b[49m\u001b[38;5;241;43m.\u001b[39;49m\u001b[43mx2\u001b[49m\u001b[43m \u001b[49m\u001b[38;5;241;43m-\u001b[39;49m\u001b[43m \u001b[49m\u001b[43mu\u001b[49m\u001b[38;5;241;43m.\u001b[39;49m\u001b[43mx2\u001b[49m\u001b[43m \u001b[49m\u001b[38;5;241;43m*\u001b[39;49m\u001b[43m \u001b[49m\u001b[43mv\u001b[49m\u001b[38;5;241;43m.\u001b[39;49m\u001b[43mx1\u001b[49m\u001b[43m,\u001b[49m\u001b[43m \u001b[49m\u001b[43mu\u001b[49m\u001b[38;5;241;43m.\u001b[39;49m\u001b[43mx2\u001b[49m\u001b[43m \u001b[49m\u001b[38;5;241;43m*\u001b[39;49m\u001b[43m \u001b[49m\u001b[43mv\u001b[49m\u001b[38;5;241;43m.\u001b[39;49m\u001b[43mx0\u001b[49m\u001b[43m \u001b[49m\u001b[38;5;241;43m-\u001b[39;49m\u001b[43m \u001b[49m\u001b[43mu\u001b[49m\u001b[38;5;241;43m.\u001b[39;49m\u001b[43mx0\u001b[49m\u001b[43m \u001b[49m\u001b[38;5;241;43m*\u001b[39;49m\u001b[43m \u001b[49m\u001b[43mv\u001b[49m\u001b[38;5;241;43m.\u001b[39;49m\u001b[43mx2\u001b[49m\u001b[43m,\u001b[49m\u001b[43m \u001b[49m\u001b[43mu\u001b[49m\u001b[38;5;241;43m.\u001b[39;49m\u001b[43mx0\u001b[49m\u001b[43m \u001b[49m\u001b[38;5;241;43m*\u001b[39;49m\u001b[43m \u001b[49m\u001b[43mv\u001b[49m\u001b[38;5;241;43m.\u001b[39;49m\u001b[43mx1\u001b[49m\u001b[43m \u001b[49m\u001b[38;5;241;43m-\u001b[39;49m\u001b[43m \u001b[49m\u001b[43mu\u001b[49m\u001b[38;5;241;43m.\u001b[39;49m\u001b[43mx1\u001b[49m\u001b[43m \u001b[49m\u001b[38;5;241;43m*\u001b[39;49m\u001b[43m \u001b[49m\u001b[43mv\u001b[49m\u001b[38;5;241;43m.\u001b[39;49m\u001b[43mx0\u001b[49m\u001b[43m)\u001b[49m)\n",
      "File \u001b[0;32m~/.local/lib/python3.10/site-packages/z3/z3.py:862\u001b[0m, in \u001b[0;36mFuncDeclRef.__call__\u001b[0;34m(self, *args)\u001b[0m\n\u001b[1;32m    858\u001b[0m saved \u001b[38;5;241m=\u001b[39m []\n\u001b[1;32m    859\u001b[0m \u001b[38;5;28;01mfor\u001b[39;00m i \u001b[38;5;129;01min\u001b[39;00m \u001b[38;5;28mrange\u001b[39m(num):\n\u001b[1;32m    860\u001b[0m     \u001b[38;5;66;03m# self.domain(i).cast(args[i]) may create a new Z3 expression,\u001b[39;00m\n\u001b[1;32m    861\u001b[0m     \u001b[38;5;66;03m# then we must save in 'saved' to prevent it from being garbage collected.\u001b[39;00m\n\u001b[0;32m--> 862\u001b[0m     tmp \u001b[38;5;241m=\u001b[39m \u001b[38;5;28;43mself\u001b[39;49m\u001b[38;5;241;43m.\u001b[39;49m\u001b[43mdomain\u001b[49m\u001b[43m(\u001b[49m\u001b[43mi\u001b[49m\u001b[43m)\u001b[49m\u001b[38;5;241m.\u001b[39mcast(args[i])\n\u001b[1;32m    863\u001b[0m     saved\u001b[38;5;241m.\u001b[39mappend(tmp)\n\u001b[1;32m    864\u001b[0m     _args[i] \u001b[38;5;241m=\u001b[39m tmp\u001b[38;5;241m.\u001b[39mas_ast()\n",
      "File \u001b[0;32m~/.local/lib/python3.10/site-packages/z3/z3.py:788\u001b[0m, in \u001b[0;36mFuncDeclRef.domain\u001b[0;34m(self, i)\u001b[0m\n\u001b[1;32m    778\u001b[0m \u001b[38;5;28;01mdef\u001b[39;00m \u001b[38;5;21mdomain\u001b[39m(\u001b[38;5;28mself\u001b[39m, i):\n\u001b[1;32m    779\u001b[0m \u001b[38;5;250m    \u001b[39m\u001b[38;5;124;03m\"\"\"Return the sort of the argument `i` of a function declaration.\u001b[39;00m\n\u001b[1;32m    780\u001b[0m \u001b[38;5;124;03m    This method assumes that `0 <= i < self.arity()`.\u001b[39;00m\n\u001b[1;32m    781\u001b[0m \n\u001b[0;32m   (...)\u001b[0m\n\u001b[1;32m    786\u001b[0m \u001b[38;5;124;03m    Real\u001b[39;00m\n\u001b[1;32m    787\u001b[0m \u001b[38;5;124;03m    \"\"\"\u001b[39;00m\n\u001b[0;32m--> 788\u001b[0m     \u001b[38;5;28;01mreturn\u001b[39;00m _to_sort_ref(\u001b[43mZ3_get_domain\u001b[49m\u001b[43m(\u001b[49m\u001b[38;5;28;43mself\u001b[39;49m\u001b[38;5;241;43m.\u001b[39;49m\u001b[43mctx_ref\u001b[49m\u001b[43m(\u001b[49m\u001b[43m)\u001b[49m\u001b[43m,\u001b[49m\u001b[43m \u001b[49m\u001b[38;5;28;43mself\u001b[39;49m\u001b[38;5;241;43m.\u001b[39;49m\u001b[43mast\u001b[49m\u001b[43m,\u001b[49m\u001b[43m \u001b[49m\u001b[43mi\u001b[49m\u001b[43m)\u001b[49m, \u001b[38;5;28mself\u001b[39m\u001b[38;5;241m.\u001b[39mctx)\n",
      "File \u001b[0;32m~/.local/lib/python3.10/site-packages/z3/z3core.py:2975\u001b[0m, in \u001b[0;36mZ3_get_domain\u001b[0;34m(a0, a1, a2, _elems)\u001b[0m\n\u001b[1;32m   2973\u001b[0m \u001b[38;5;28;01mdef\u001b[39;00m \u001b[38;5;21mZ3_get_domain\u001b[39m(a0, a1, a2, _elems\u001b[38;5;241m=\u001b[39mElementaries(_lib\u001b[38;5;241m.\u001b[39mZ3_get_domain)):\n\u001b[1;32m   2974\u001b[0m   r \u001b[38;5;241m=\u001b[39m _elems\u001b[38;5;241m.\u001b[39mf(a0, a1, a2)\n\u001b[0;32m-> 2975\u001b[0m   \u001b[43m_elems\u001b[49m\u001b[38;5;241;43m.\u001b[39;49m\u001b[43mCheck\u001b[49m\u001b[43m(\u001b[49m\u001b[43ma0\u001b[49m\u001b[43m)\u001b[49m\n\u001b[1;32m   2976\u001b[0m   \u001b[38;5;28;01mreturn\u001b[39;00m r\n",
      "File \u001b[0;32m~/.local/lib/python3.10/site-packages/z3/z3core.py:1554\u001b[0m, in \u001b[0;36mElementaries.Check\u001b[0;34m(self, ctx)\u001b[0m\n\u001b[1;32m   1552\u001b[0m err \u001b[38;5;241m=\u001b[39m \u001b[38;5;28mself\u001b[39m\u001b[38;5;241m.\u001b[39mget_error_code(ctx)\n\u001b[1;32m   1553\u001b[0m \u001b[38;5;28;01mif\u001b[39;00m err \u001b[38;5;241m!=\u001b[39m \u001b[38;5;28mself\u001b[39m\u001b[38;5;241m.\u001b[39mOK:\n\u001b[0;32m-> 1554\u001b[0m     \u001b[38;5;28;01mraise\u001b[39;00m \u001b[38;5;28mself\u001b[39m\u001b[38;5;241m.\u001b[39mException(\u001b[38;5;28mself\u001b[39m\u001b[38;5;241m.\u001b[39mget_error_message(ctx, err))\n",
      "\u001b[0;31mZ3Exception\u001b[0m: b'index out of bounds'"
     ]
    }
   ],
   "source": [
    "from z3 import *\n",
    "import knuckledragger as kd\n",
    "import knuckledragger.notation as notation\n",
    "\n",
    "def RN(N):\n",
    "    RN = Datatype(\"R^\" + str(N))\n",
    "    RN.declare('make', *[('x' + str(i), RealSort()) for i in range(N)])\n",
    "    RN = RN.create()\n",
    "    x,y,z = Consts('x y z', RN)\n",
    "    a,b,c = Reals(\"a b c\")\n",
    "    RN.x = lambda v,n: RN.accessor(0,n)(v) \n",
    "    RN.vadd = kd.define(\"vadd\", [x,y], RN.make(*[RN.x(x,i) + RN.x(y,i) for i in range(N)]))\n",
    "    notation.add.register(RN, RN.vadd)\n",
    "    RN.vadd_comm = kd.lemma(ForAll([x,y], x + y == y + x), by=[RN.vadd.defn])\n",
    "    RN.vadd_assoc = kd.lemma(ForAll([x,y,z], (x + y) + z == x + (y + z)), by=[RN.vadd.defn])\n",
    "\n",
    "    RN.vsub = kd.define(\"vsub\", [x,y], RN.make(*[RN.x(x,i) - RN.x(y,i) for i in range(N)]))\n",
    "    notation.sub.register(RN, RN.vsub)\n",
    "    RN.smul = kd.define(\"vmul\", [x,a], RN.make(*[a * RN.x(x,i) for i in range(N)]))\n",
    "    notation.mul.register(RN, RN.smul)\n",
    "\n",
    "    RN.vdot = kd.define(\"vdot\", [x,y], Sum([RN.x(x,i) * RN.x(y,i) for i in range(N)]))\n",
    "    # @ overload\n",
    "    return RN\n",
    "\n",
    "R1 = RN(1)\n",
    "R2 = RN(2)\n",
    "R3 = RN(3)\n",
    "R4 = RN(4)\n",
    "\n",
    "v = R2.make(1,2)\n",
    "v = Const(\"v\", R2)\n",
    "kd.lemma(ForAll([v], v + v == v * 2), by=[R2.smul.defn, R2.vadd.defn])\n",
    "DatatypeRef.x0 = property(lambda self: self.sort().accessor(0,0)(self))\n",
    "DatatypeRef.x1 = property(lambda self: self.sort().accessor(0,1)(self))\n",
    "DatatypeRef.x2 = property(lambda self: self.sort().accessor(0,2)(self))\n",
    "\n",
    "#v + v # need simp routine. This is ridiculous\n",
    "u,v = Consts(\"u v\", R3)\n",
    "R3.cross = kd.define(\"cross\", [u,v], R2.make(u.x1 * v.x2 - u.x2 * v.x1, u.x2 * v.x0 - u.x0 * v.x2, u.x0 * v.x1 - u.x1 * v.x0))\n",
    "\n",
    "\n"
   ]
  },
  {
   "cell_type": "code",
   "execution_count": null,
   "metadata": {},
   "outputs": [],
   "source": [
    "def unfold1(e):\n",
    "    if is_app(e):\n",
    "        decl = e.decl()\n",
    "        defn = kernel.defns.get(decl):\n",
    "        if defn == None:\n",
    "            return None\n",
    "        else:\n",
    "            rhs = z3.substitute(defn.defn_expr , *zip(defn.args, e.children()))\n",
    "            return rhs, kd.lemma(e == rhs, by=[defn.ax])\n",
    "\n",
    "def unfold(e, ctx=[]):\n",
    "    if is_quantifier(e):\n",
    "        if is_forall(e):\n",
    "            \n",
    "    if is_app(e):\n",
    "        children, pfs = zip(*map(unfold, e.children()))\n",
    "        decl = e.decl()\n",
    "        defn = kernel.defns.get(decl):\n",
    "        if defn == None:\n",
    "            return decl(*children)\n",
    "        else:\n",
    "            rhs = z3.substitute(defn.body, *zip(defn.args, children))\n",
    "            pfs.append(defn.ax)\n",
    "            return rhs, kd.lemma(e == rhs, by=pfs)\n",
    "    kernel.defns\n",
    "    if e.decl() in kd.kernel.defns:\n",
    "        \n",
    "v = R2.make(1,2)\n",
    "v = Const(\"v\", R2)"
   ]
  },
  {
   "cell_type": "code",
   "execution_count": 9,
   "metadata": {},
   "outputs": [
    {
     "data": {
      "text/plain": [
       "['__bool__',\n",
       " '__class__',\n",
       " '__copy__',\n",
       " '__deepcopy__',\n",
       " '__del__',\n",
       " '__delattr__',\n",
       " '__dict__',\n",
       " '__dir__',\n",
       " '__doc__',\n",
       " '__eq__',\n",
       " '__format__',\n",
       " '__ge__',\n",
       " '__getattribute__',\n",
       " '__gt__',\n",
       " '__hash__',\n",
       " '__init__',\n",
       " '__init_subclass__',\n",
       " '__le__',\n",
       " '__lt__',\n",
       " '__module__',\n",
       " '__ne__',\n",
       " '__new__',\n",
       " '__nonzero__',\n",
       " '__reduce__',\n",
       " '__reduce_ex__',\n",
       " '__repr__',\n",
       " '__rshift__',\n",
       " '__setattr__',\n",
       " '__sizeof__',\n",
       " '__str__',\n",
       " '__subclasshook__',\n",
       " '__weakref__',\n",
       " '_repr_html_',\n",
       " 'accessor',\n",
       " 'as_ast',\n",
       " 'ast',\n",
       " 'cast',\n",
       " 'constructor',\n",
       " 'ctx',\n",
       " 'ctx_ref',\n",
       " 'eq',\n",
       " 'get_id',\n",
       " 'hash',\n",
       " 'kind',\n",
       " 'name',\n",
       " 'num_constructors',\n",
       " 'recognizer',\n",
       " 'sexpr',\n",
       " 'subsort',\n",
       " 'translate',\n",
       " 'use_pp']"
      ]
     },
     "execution_count": 9,
     "metadata": {},
     "output_type": "execute_result"
    }
   ],
   "source": [
    "u = Const(\"y\", R3)\n",
    "dir(u.sort())"
   ]
  },
  {
   "cell_type": "code",
   "execution_count": null,
   "metadata": {},
   "outputs": [],
   "source": []
  },
  {
   "cell_type": "code",
   "execution_count": null,
   "metadata": {},
   "outputs": [],
   "source": [
    "V = ArraySort(IntSort(), RealSort())\n",
    "u,w,v = Consts('u w v', V)\n",
    "n,m = Ints('n m')\n",
    "vadd = kd.define(\"vadd\", [u,w], Lambda([n], Select(u,n) + Select(w,n)))\n",
    "vmul = kd.define(\"vmul\", [u,a], Lambda([m], Select(u,m) * a))\n",
    "\n",
    "# finite support\n",
    "# finite = kd.define(\"finite\", [v, l], ForAll([n], (v[n] != 0) == Mem(n,l)))\n",
    "# vdot is gonna be tough. vdot = kd.define(\"vdot\", [u,w], Sum([Select(u,n) * Select(w,n) for n in range(10)]))\n"
   ]
  },
  {
   "cell_type": "markdown",
   "metadata": {},
   "source": [
    "qr\n",
    "Why orthogonlaization? Well we want to rothogonlaize polynomials for example. Turning something into an orthonormal basis. But why?\n",
    "transfinite qr\n",
    "\n",
    "\n",
    "arnodli\n",
    "\n",
    "use cases of svd\n",
    "pca\n",
    "model reduction\n",
    "Hinfinity control\n",
    "\n",
    "\n",
    "particle and hole wavefunctions. That was kind of cool. Use ap arameter very similarly to a coordinate\n",
    "schmidt decomposition in quantum\n",
    "\n",
    "turn inifnite pde into ode using koopaman. Kalman sheet\n",
    "\n",
    "https://web.stanford.edu/~boyd/vmls/vmls.pdf boyd applied linear algebra\n",
    "\n",
    "\n",
    "\n",
    "Golub van Loan\n",
    "Trefethen and Bau\n",
    "Horn Johnson matrix analysis\n",
    "Demmel\n",
    "\n",
    "\n",
    "The matrix exponential.\n",
    "$\\partial_t x = A x$"
   ]
  },
  {
   "cell_type": "code",
   "execution_count": null,
   "metadata": {},
   "outputs": [],
   "source": [
    "from knuckledragger import *\n",
    "\n",
    "from knuckeldragger.theories.List import List\n",
    "from knuckeldragger.theories.Real import Real\n",
    "\n",
    "Vec = List(R)\n",
    "v,w,u,v1,v2 = Consts(\"v w u v1 v2\", Vec)\n",
    "\n",
    "define(\"zero\", [n], If(n.is_zero(), Vec.nil, Vec.cons(0, zero(n.pred()))))\n",
    "# it is a bit awkward. It  would be nice to have Nat >> R as vec\n",
    "add = define(\"add\", [v,w], If(v.is_nil() & w.is_nil(), \n",
    "\n",
    "\n",
    "\n",
    "LinFun = Vec >> Vec\n",
    "wf = define(\"linear\", [A, v], A[v + w] == A[v] + A[w]))\n",
    "\n",
    "\n"
   ]
  },
  {
   "cell_type": "code",
   "execution_count": null,
   "metadata": {},
   "outputs": [],
   "source": [
    "\n"
   ]
  },
  {
   "cell_type": "code",
   "execution_count": null,
   "metadata": {},
   "outputs": [],
   "source": [
    "from cvc5.pythonic import *\n",
    "\n",
    "def lemma(thm, by=[], admit=False):\n",
    "    if admit:\n",
    "        print(f\"(admit {thm})\")\n",
    "    else:\n",
    "        s = Solver()\n",
    "        for t in by:\n",
    "            s.add(t)\n",
    "        s.add(Not(thm))\n",
    "        s.option(\"timeout\", 1000)\n",
    "        if s.check() == unsat:\n",
    "            print(f\"proven\")\n",
    "        else:\n",
    "            print(f\"FAILED to prove lemma {thm}\")\n",
    "# https://en.wikipedia.org/wiki/Linear_algebra\n",
    "R = RealSort()\n",
    "V = DeclareSort(\"V\")\n",
    "u,v,w = Consts(\"u v w\", V)\n",
    "v0,v1,v2 = Consts(\"v0 v1 v2\", V)\n",
    "a,b,c = Reals(\"a b c\")\n",
    "\n",
    "vadd = Function(\"vadd\", V, V, V)\n",
    "vzero = Function(\"vzero\", V)\n",
    "vmul = Function(\"vmul\", R, V, V)\n",
    "def Vector(V, vadd, vmul, vzero, by=[]):\n",
    "    vadd_distrib = ForAll([u,v,w], vadd(vmul(a,u), vmul(a,v)) == vmul(a, vadd(u,v)))\n",
    "    vadd_assoc = ForAll([u,v,w], vadd(u,vadd(v,w)) == vadd(vadd(u,v),w))\n",
    "    vadd_zero = ForAll([u], vadd(u,vzero) == u)\n",
    "    vadd_comm = ForAll([u,v], vadd(u,v) == vadd(v,u)\n",
    "                       \n",
    "    return {\n",
    "        \"V\": V,\n",
    "        \"vadd\": vadd,\n",
    "        \"vmul\": vmul,\n",
    "        \"vzero\": vzero,\n",
    "        \"vadd_distrib\": vadd_distrib,\n",
    "        \"vadd_assoc\": vadd_assoc,\n",
    "        \"vadd_zero\": vadd_zero,\n",
    "        \"vadd_comm\": vadd_comm\n",
    "    }\n",
    "\n",
    "\n",
    "\n",
    "\n",
    "\n",
    "\n",
    "vdot = Function(\"vdot\", V, V, R)\n",
    "def InnerProd(V, vdot):\n",
    "    vdot_zero = ForAll([v0], vdot(vzero, v0) == 0)\n",
    "    vdot_sym = ForAll([v0,v1], vdot(v0,v1) == vdot(v1,v0))\n",
    "    vdot_linear = ForAll([v0,v1,v2], vdot(vadd(v0,v1),v2) == vadd(vdot(v0,v2), vdot(v1,v2)))\n",
    "    vdot_scale = ForAll([v0,v1], vdot(vmul(a,v0),v1) == vmul(a, vdot(v0,v1)))\n",
    "    vdot_pos = ForAll([v0], vdot(v0,v0) >= 0)\n"
   ]
  },
  {
   "cell_type": "code",
   "execution_count": null,
   "metadata": {},
   "outputs": [],
   "source": [
    "\n",
    "# R is vector\n",
    "\n",
    "\n",
    "# explicit v2 record.\n",
    "V2 = Datatype(\"V2\")\n",
    "V2.declare(\"V2\", (\"x\", R), (\"y\", R))\n",
    "V2 = V2.create()\n",
    "\n",
    "add = define(\"add\", [v1, v2], V2.V2(v1.x + v2.x, v1.y + v2.y)\n",
    "notation.add.register(V2, add)\n",
    "\n",
    "\n",
    "# finite because isomorphic to V2\n",
    "finite2(V, f, g) = And(linear(f), linear(g), f(g(x)) == x, g(f(x)) == x)\n",
    "\n",
    "\n",
    "# finite components\n",
    "comp = Function(\"comp\", V2, Nat, R)\n",
    "finite(v) == Exists([N], ForAll([v,w], (v == w) == ForAll([n], Implies(n <= N, comp(v,n) == comp(w,n)))))"
   ]
  },
  {
   "cell_type": "markdown",
   "metadata": {},
   "source": [
    "Ordinals and vector spaces.\n",
    "Positive cones.\n",
    "Hmm."
   ]
  },
  {
   "cell_type": "code",
   "execution_count": null,
   "metadata": {},
   "outputs": [],
   "source": [
    "# cody's ispos\n",
    "finite(V) == ForAll([v], QForAll([n], n < N, comp(P()), ForAll([v], P(v))\n",
    "\n",
    "\n",
    "List_R = List(R)\n",
    "# cons(1,nil) and cons(1,cons(0,nil)) are \"equal\" in a vector sense.\n",
    "# Make separate\n",
    "\n",
    "# inject into iuniversal vector space? It's kind of like the Any type design pattern\n",
    "inj = Function(\"inj\", List_R, V)\n",
    "# \"vector equality\" is inj(l) == inj(l2)\n",
    "\n",
    "\n",
    "\n",
    "V2 = Lambda([l], ForAll([n], select(l,n) == 0))\n",
    "\n",
    "\n",
    "V2 = Lambda([l], len(l) == 2)\n",
    "def V(n):\n",
    "    return Lambda([l], len(l) == n)\n",
    "\n",
    "# S(x) as a subset\n",
    "finite(S,N) == ForAll([v], l = len(N)\n",
    "\n",
    "subspace(S) == # S is addition closed, scalar multiplication closed, and contains 0\n"
   ]
  },
  {
   "cell_type": "markdown",
   "metadata": {},
   "source": [
    "https://linear.axler.net/LADR4e.pdf linear algerba done right\n",
    "\n",
    "L is kind of like FinVect\n",
    "\n",
    "So alternatives:\n",
    "- Totally abstract V. python metalevel records bundling stuff\n",
    "- V1,V2,V3,... as z3 records. inject into \n",
    "- List(R). Subspaces.\n",
    "- Nat -> R\n",
    "- Stream R. But like.. that's the same thing.\n",
    "\n",
    "\n",
    "proj(v,N) = Lambda([n], If(n == N, v[n], proj(v,Nat.pred(N))()))\n",
    "proj(v,N,n) == If(n == 0, 0, If(n == N, v[n], proj(v,N-1,n)))\n",
    "\n",
    "Lambda([v], proj(N)(v) == v)  a finite subspace of Nat->R\n",
    "projection is kind of an operationalized notion of subspace. So that's nice.\n",
    "\n",
    "nil + v == v or nil + v == nil\n",
    "What axiom fails on these definitions?\n",
    "the nonuniqueness of vzero. if nil + v = nil, then vzero is an infinite stream of 0.\n",
    "How do we add unequal sized lists. numpy probably errors, so partial/undetermined functions are an option.\n",
    "\n",
    "\n",
    "Infintie stream s4eem pretty useufl.\n",
    "V0 + V1 + V2 + V3... \n",
    "type vinf = More (R * vinf) * vinf. nahh.\n",
    "dot product as a notion of observational equivalence... hmm.\n",
    "dual vector is \"context\"\n",
    "`forall c, <c, v> == <c, w>  <->  v = w `\n",
    "https://www.pls-lab.org/en/Observational_Equivalence\n",
    "\n",
    "Kind of jives with notation. That Ariola sequent calculus contnuiuation thing looks like a dot product. linear types...\n",
    "\n",
    "\n",
    "linear List_R -> R functions probably behave better.\n",
    "\n",
    "Dual of dual ~ original\n",
    "\n",
    "contexts of contexts ~ original?  If we took the context form again of   eval ctx t, it would hold t in it.\n",
    "\n",
    "\n",
    "\n",
    "Finite(V,B) = spans(List(V))\n",
    "\n",
    "\n",
    "span(L) == Exists(coeff_list, vmul(, )\n",
    "\n",
    "span(L,coeff) == ForAll([v], v == coeff( n) * L))\n",
    "\n",
    "basis(L) == coeff unique?\n",
    "\n",
    "Maybe I should be going backwards.\n",
    "Assume all the power I want. Write down the basic algorithms\n",
    "\n",
    "Just go ahead with V1, V2.\n",
    "\n",
    "pa\n",
    "\n",
    "Another option is to parametrize everything by a basis you're working in.\n",
    "\n",
    "\n",
    "v1 = Const(\"v1\", ArraySort(V, R))\n",
    "Basis = List(V)\n",
    "b = LR.head(basis)\n",
    "dot(v1, v0, basis) = If(LR.is_nil(basis), v1(b)*v2(b) + dot(v1,v0,basis)) \n",
    "\n",
    "linear(v1) == \n",
    "\n",
    "orthog(v,w) == (dot(v,w) == 0)\n",
    "\n",
    "https://www.unirioja.es/cu/jearansa/archivos/lopstr_2013.pdf Formalization and execution of Linear Algebra:\n",
    "from theorems to algorithms\n",
    "https://www.eecs.uwyo.edu/~ruben/static/pdf/matalg.pdf\n",
    "https://www.unirioja.es/cu/jearansa/archivos/afholftlalsp.pdf A formalisation in HOL of the Fundamental\n",
    "Theorem of Linear Algebra and its application to the solution of the least squares problem\n",
    "https://hvg.ece.concordia.ca/Publications/TECH_REP/CXVEC_TR14/CXVEC_TR14.pdf A Toolbox for Complex Linear Algebra\n",
    "in HOL Light\n",
    "https://isabelle.in.tum.de/library/HOL/HOL-Analysis/document.pdf hol-analysis"
   ]
  },
  {
   "cell_type": "markdown",
   "metadata": {},
   "source": [
    "Floating point accuracy of a summation expression\n",
    "\n",
    "\n"
   ]
  },
  {
   "cell_type": "code",
   "execution_count": null,
   "metadata": {},
   "outputs": [],
   "source": [
    "x,y,z = Floats(\"x y z\")\n",
    "x,y,z = map(Float2Real, [x,y,z])\n",
    "\n",
    "Seq = ArraySort(Nat, Float64)\n",
    "\n",
    "\n",
    "\n",
    "\n",
    "\n"
   ]
  },
  {
   "cell_type": "code",
   "execution_count": null,
   "metadata": {},
   "outputs": [],
   "source": [
    "from z3 import *\n",
    "\n",
    "#s = Solver()\n",
    "theorems = []\n",
    "def prove(goal, by=None):\n",
    "    s = Solver()\n",
    "    if by is not None:\n",
    "        s.add(*by)\n",
    "    else:\n",
    "        s.add(*theorems)\n",
    "    s.add(Not(goal))\n",
    "    s.set(\"timeout\", 100)\n",
    "    if s.check() == unsat:\n",
    "        print(s.unsat_core())\n",
    "        theorems.append(goal)\n",
    "        return goal\n",
    "    else:\n",
    "        assert False, s.model()\n",
    "\n",
    "def axiom(th):\n",
    "    theorems.append(th)\n",
    "    return th\n",
    "\n",
    "V = DeclareSort(\"V\")\n",
    "R = RealSort()\n",
    "\n",
    "# signature\n",
    "vzero = Const(\"zero\", V)\n",
    "vadd = Function(\"vadd\", V, V, V)\n",
    "vmul = Function(\"vmul\", R, V, V)\n",
    "vinv = Function(\"vinv\", V, V)\n",
    "\n",
    "v,v1,v2,v3,w,u = Consts(\"v v1 v2 v3 w u\", V)\n",
    "a,b,c = Consts(\"a b c\", R)\n",
    "\n",
    "vadd_comm = axiom(ForAll([v1,v2], vadd(v1,v2) == vadd(v2,v1)))\n",
    "vadd_assoc = axiom(ForAll([v1,v2,v3], vadd(v1,vadd(v2,v3)) == vadd(vadd(v1,v2),v3)))\n",
    "vadd_zero = axiom(ForAll([v], vadd(v,vzero) == v))\n",
    "vinv_def = axiom(ForAll([v], vadd(v,vinv(v)) == vzero))\n",
    "vmul_one = axiom(ForAll([v], vmul(1,v) == v))\n",
    "vmul_compat = axiom(ForAll([a,b,v], vmul(a*b,v) == vmul(a,vmul(b,v))))\n",
    "vmul_dist_left = axiom(ForAll([a,b,v], vmul(a + b,v) == vadd(vmul(a,v),vmul(b,v))))\n",
    "vmul_dist_right = axiom(ForAll([a,v,w], vmul(a,vadd(v,w)) == vadd(vmul(a,v),vmul(a,w))))\n",
    "\n",
    "vzero_left = prove(ForAll([v], vadd(vzero,v) == v))\n",
    "#zero_vzero = prove(ForAll([v], vmul(0, v) == vzero))\n",
    "prove(ForAll([v], vadd(vmul(1, v), vmul(-1, v)) == vmul(0, v)))\n",
    "neg_vinv = prove(ForAll([v], vmul(-1, v) == vinv(v)))\n",
    "prove(ForAll([v], vmul(-1,v) == vinv(v)))\n",
    "prove(ForAll([v], vmul(0, vadd(v, vinv(v))) == vzero))\n",
    "\n",
    "prove(ForAll([v], vmul(0,v) == vzero))\n",
    "\n",
    "prove(ForAll([a, v], vmul(a, vadd(v, vinv(v))) == vadd(vmul(a, v), vmul(-a,v))))\n",
    "prove(ForAll([a, v], vmul(a, vzero) == vadd(vmul(a, v), vmul(-a,v))))\n",
    "prove(ForAll([a], vmul(a, vzero) == vzero))\n",
    "prove(ForAll([a,v], Implies(vmul(a,v) == vzero, Or(a == 0, v == vzero))))\n",
    "\n",
    "dot = Function(\"dot\", V, V, R)\n",
    "dot_sym = ForAll([v,w], dot(v,w) == dot(w,v))\n",
    "\n",
    "v = Function(\"v\", R, R, V)\n",
    "ForAll([x1,y1,x2,y2], vadd(v(x1,y1), v(x2,y2)) == v(x1 + x2, y1 + y2))\n"
   ]
  },
  {
   "cell_type": "markdown",
   "metadata": {},
   "source": [
    "\n",
    "\n",
    "\n",
    "\n",
    "\n",
    "Ideas.\n",
    "Implicit scope\n",
    "scope = [X,Y,Z]\n",
    "then put the ForAll(scope, goal) inside prove\n"
   ]
  }
 ],
 "metadata": {
  "kernelspec": {
   "display_name": "Python 3",
   "language": "python",
   "name": "python3"
  },
  "language_info": {
   "codemirror_mode": {
    "name": "ipython",
    "version": 3
   },
   "file_extension": ".py",
   "mimetype": "text/x-python",
   "name": "python",
   "nbconvert_exporter": "python",
   "pygments_lexer": "ipython3",
   "version": "3.10.12"
  }
 },
 "nbformat": 4,
 "nbformat_minor": 2
}
