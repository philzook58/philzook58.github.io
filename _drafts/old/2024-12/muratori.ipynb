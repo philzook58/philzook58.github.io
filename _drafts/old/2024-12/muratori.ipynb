{
 "cells": [
  {
   "cell_type": "code",
   "execution_count": null,
   "metadata": {},
   "outputs": [],
   "source": []
  },
  {
   "cell_type": "markdown",
   "metadata": {},
   "source": [
    "Alright. I'm subscribed. Get my 9$ a month qworth!\n",
    "\n",
    "\n",
    "https://www.computerenhance.com/p/table-of-contents\n",
    "\n",
    "\n",
    "It was really interesting seeing casey muratoi \n",
    "https://www.computerenhance.com/p/the-case-of-the-missing-increment\n",
    "\n",
    "https://github.com/cmuratori/computer_enhance"
   ]
  },
  {
   "cell_type": "code",
   "execution_count": 3,
   "metadata": {},
   "outputs": [
    {
     "name": "stdout",
     "output_type": "stream",
     "text": [
      "0.0001232624053955078\n",
      "369787.21618652344\n",
      "cycle per add: 90.28008207678795\n"
     ]
    }
   ],
   "source": [
    "def SingleScalar(Count, Input):\n",
    "    Sum = 0\n",
    "    for Index in range(0, Count):\n",
    "        Sum += Input[Index]\n",
    "    return Sum\n",
    "\n",
    "\n",
    "freq = 3e9 # a guess at 3ghz\n",
    "def cycles(t):\n",
    "    return t * freq\n",
    "import time\n",
    "\n",
    "mintime = 10000\n",
    "data = [1]*4096\n",
    "for i in range(10):\n",
    "    now = time.time()\n",
    "    SingleScalar(4096,data)\n",
    "    mintime = min(mintime, time.time()-now)\n",
    "print(mintime)\n",
    "print(cycles(mintime))\n",
    "print(\"cycle per add:\", cycles(mintime)/4096)\n",
    "\n"
   ]
  },
  {
   "cell_type": "code",
   "execution_count": 1,
   "metadata": {},
   "outputs": [
    {
     "name": "stdout",
     "output_type": "stream",
     "text": [
      "Architecture:            x86_64\n",
      "  CPU op-mode(s):        32-bit, 64-bit\n",
      "  Address sizes:         48 bits physical, 48 bits virtual\n",
      "  Byte Order:            Little Endian\n",
      "CPU(s):                  16\n",
      "  On-line CPU(s) list:   0-15\n",
      "Vendor ID:               AuthenticAMD\n",
      "  Model name:            AMD Ryzen 7 PRO 7840U w/ Radeon 780M Graphics\n",
      "    CPU family:          25\n",
      "    Model:               116\n",
      "    Thread(s) per core:  2\n",
      "    Core(s) per socket:  8\n",
      "    Socket(s):           1\n",
      "    Stepping:            1\n",
      "    CPU max MHz:         6076.0000\n",
      "    CPU min MHz:         400.0000\n",
      "    BogoMIPS:            6586.92\n",
      "    Flags:               fpu vme de pse tsc msr pae mce cx8 apic sep mtrr pge mc\n",
      "                         a cmov pat pse36 clflush mmx fxsr sse sse2 ht syscall n\n",
      "                         x mmxext fxsr_opt pdpe1gb rdtscp lm constant_tsc rep_go\n",
      "                         od amd_lbr_v2 nopl nonstop_tsc cpuid extd_apicid aperfm\n",
      "                         perf rapl pni pclmulqdq monitor ssse3 fma cx16 sse4_1 s\n",
      "                         se4_2 x2apic movbe popcnt aes xsave avx f16c rdrand lah\n",
      "                         f_lm cmp_legacy svm extapic cr8_legacy abm sse4a misali\n",
      "                         gnsse 3dnowprefetch osvw ibs skinit wdt tce topoext per\n",
      "                         fctr_core perfctr_nb bpext perfctr_llc mwaitx cpb cat_l\n",
      "                         3 cdp_l3 hw_pstate ssbd mba perfmon_v2 ibrs ibpb stibp \n",
      "                         ibrs_enhanced vmmcall fsgsbase bmi1 avx2 smep bmi2 erms\n",
      "                          invpcid cqm rdt_a avx512f avx512dq rdseed adx smap avx\n",
      "                         512ifma clflushopt clwb avx512cd sha_ni avx512bw avx512\n",
      "                         vl xsaveopt xsavec xgetbv1 xsaves cqm_llc cqm_occup_llc\n",
      "                          cqm_mbm_total cqm_mbm_local avx512_bf16 clzero irperf \n",
      "                         xsaveerptr rdpru wbnoinvd cppc arat npt lbrv svm_lock n\n",
      "                         rip_save tsc_scale vmcb_clean flushbyasid decodeassists\n",
      "                          pausefilter pfthreshold v_vmsave_vmload vgif x2avic v_\n",
      "                         spec_ctrl vnmi avx512vbmi umip pku ospke avx512_vbmi2 g\n",
      "                         fni vaes vpclmulqdq avx512_vnni avx512_bitalg avx512_vp\n",
      "                         opcntdq rdpid overflow_recov succor smca flush_l1d\n",
      "Virtualization features: \n",
      "  Virtualization:        AMD-V\n",
      "Caches (sum of all):     \n",
      "  L1d:                   256 KiB (8 instances)\n",
      "  L1i:                   256 KiB (8 instances)\n",
      "  L2:                    8 MiB (8 instances)\n",
      "  L3:                    16 MiB (1 instance)\n",
      "NUMA:                    \n",
      "  NUMA node(s):          1\n",
      "  NUMA node0 CPU(s):     0-15\n",
      "Vulnerabilities:         \n",
      "  Gather data sampling:  Not affected\n",
      "  Itlb multihit:         Not affected\n",
      "  L1tf:                  Not affected\n",
      "  Mds:                   Not affected\n",
      "  Meltdown:              Not affected\n",
      "  Mmio stale data:       Not affected\n",
      "  Retbleed:              Not affected\n",
      "  Spec rstack overflow:  Vulnerable: Safe RET, no microcode\n",
      "  Spec store bypass:     Mitigation; Speculative Store Bypass disabled via prctl\n",
      "  Spectre v1:            Mitigation; usercopy/swapgs barriers and __user pointer\n",
      "                          sanitization\n",
      "  Spectre v2:            Mitigation; Enhanced / Automatic IBRS; IBPB conditional\n",
      "                         ; STIBP always-on; RSB filling; PBRSB-eIBRS Not affecte\n",
      "                         d; BHI Not affected\n",
      "  Srbds:                 Not affected\n",
      "  Tsx async abort:       Not affected\n"
     ]
    }
   ],
   "source": [
    "!lscpu"
   ]
  },
  {
   "cell_type": "code",
   "execution_count": null,
   "metadata": {},
   "outputs": [],
   "source": [
    "!cat /proc/cpuinfo"
   ]
  },
  {
   "cell_type": "code",
   "execution_count": 15,
   "metadata": {},
   "outputs": [
    {
     "name": "stdout",
     "output_type": "stream",
     "text": [
      "Overwriting /tmp/SingleScalar.c\n"
     ]
    }
   ],
   "source": [
    "%%file /tmp/SingleScalar.c\n",
    "\n",
    "#include <stdio.h>\n",
    "#include <time.h>\n",
    "\n",
    "typedef unsigned int u32;\n",
    "__attribute__((noinline)) \n",
    "u32 SingleScalar(u32 Count, u32 *Input)\n",
    "{\n",
    "\tu32 Sum = 0;\n",
    "\tfor(u32 Index = 0; Index < Count; ++Index)\n",
    "\t{\n",
    "\t\tSum += Input[Index];\n",
    "\t}\n",
    "\t\n",
    "\treturn Sum;\n",
    "}\n",
    "\n",
    "\n",
    "int main(){\n",
    "    u32 data[4096];\n",
    "\tfor (int i = 0; i < 4096; i++){\n",
    "\t\tdata[i] = 1;\n",
    "\t}\n",
    "\tint mintime = 100000;\n",
    "    \n",
    "\n",
    "    for(int i = 0; i < 10; i++){\n",
    "\t\tclock_t start = clock();\n",
    "\t\tSingleScalar(4096, data);\n",
    "\t\tclock_t end = clock();\n",
    "\t\tint time = (int)(end - start);\n",
    "\t\tmintime = mintime < time ? mintime : time;\n",
    "\t}\n",
    "    printf(\"%d\\n\", mintime);\n",
    "    \n",
    "\treturn 0;\n",
    "}"
   ]
  },
  {
   "cell_type": "code",
   "execution_count": 20,
   "metadata": {},
   "outputs": [
    {
     "name": "stdout",
     "output_type": "stream",
     "text": [
      "0000000000001169 <SingleScalar>:\n",
      "    1169:\tf3 0f 1e fa          \tendbr64 \n",
      "    116d:\t85 ff                \ttest   %edi,%edi\n",
      "    116f:\t74 1c                \tje     118d <SingleScalar+0x24>\n",
      "    1171:\t48 89 f2             \tmov    %rsi,%rdx\n",
      "    1174:\t8d 47 ff             \tlea    -0x1(%rdi),%eax\n",
      "    1177:\t48 8d 4c 86 04       \tlea    0x4(%rsi,%rax,4),%rcx\n",
      "    117c:\tb8 00 00 00 00       \tmov    $0x0,%eax\n",
      "    1181:\t03 02                \tadd    (%rdx),%eax\n",
      "    1183:\t48 83 c2 04          \tadd    $0x4,%rdx\n",
      "    1187:\t48 39 ca             \tcmp    %rcx,%rdx\n",
      "    118a:\t75 f5                \tjne    1181 <SingleScalar+0x18>\n",
      "    118c:\tc3                   \tret    \n",
      "    118d:\t89 f8                \tmov    %edi,%eax\n",
      "    118f:\tc3                   \tret    \n",
      "\n",
      "0000000000001190 <main>:\n",
      "    1190:\tf3 0f 1e fa          \tendbr64 \n",
      "    1194:\t41 54                \tpush   %r12\n",
      "    1196:\t55                   \tpush   %rbp\n",
      "    1197:\t53                   \tpush   %rbx\n"
     ]
    }
   ],
   "source": [
    "!objdump -d /tmp/SingleScalar | grep -A 20 \"<SingleScalar>:\""
   ]
  },
  {
   "cell_type": "code",
   "execution_count": 19,
   "metadata": {},
   "outputs": [
    {
     "name": "stdout",
     "output_type": "stream",
     "text": [
      "0\n"
     ]
    }
   ],
   "source": [
    "! gcc -O1 -o /tmp/SingleScalar /tmp/SingleScalar.c && /tmp/SingleScalar"
   ]
  }
 ],
 "metadata": {
  "kernelspec": {
   "display_name": "Python 3",
   "language": "python",
   "name": "python3"
  },
  "language_info": {
   "codemirror_mode": {
    "name": "ipython",
    "version": 3
   },
   "file_extension": ".py",
   "mimetype": "text/x-python",
   "name": "python",
   "nbconvert_exporter": "python",
   "pygments_lexer": "ipython3",
   "version": "3.10.12"
  }
 },
 "nbformat": 4,
 "nbformat_minor": 2
}
