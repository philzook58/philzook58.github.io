{
 "cells": [
  {
   "cell_type": "markdown",
   "metadata": {},
   "source": [
    "Exact geometric predicates\n",
    "Examples from \n",
    "\n",
    "ESBMC is working with C++ https://ssvlab.github.io/esbmc/documentation.html\n",
    "also python apparently?\n",
    "Try my own version of AI thing\n",
    "\n",
    "\n",
    "Checkin\n",
    "\n",
    "Floats. Or fixed point.\n",
    "\n",
    "Comparing two programs\n",
    "\n",
    "https://github.com/sandialabs/elaenia\n",
    "sqrt\n",
    "sum quaternion\n",
    "Using frama C one shot with float wp?\n",
    "\n",
    "\n",
    "https://github.com/ak-2485/Kalman_Filter\n",
    "\n",
    "\n"
   ]
  },
  {
   "cell_type": "markdown",
   "metadata": {},
   "source": [
    "# outputting goto\n",
    "https://github.com/diffblue/cbmc/blob/develop/src/util/irep.h\n",
    "\n",
    "irep is the actual serialization format?\n",
    "\n",
    "https://github.com/diffblue/cbmc/issues/7042#issuecomment-1199479577\n",
    "\n",
    "\n",
    "symtab2gb\n",
    "\n",
    "\n",
    "https://github.com/diffblue/cbmc/issues/7471 goto language documentation\n",
    "https://github.com/diffblue/cbmc/blob/develop/TOOLS_OVERVIEW.md\n",
    "\n",
    "\n",
    "https://github.com/diffblue/gnat2goto/\n",
    "\n",
    "https://github.com/diffblue/hw-cbmc just using make\n",
    "Is hw bmc even really using cbmc? Maybe its totally independent solver engine?\n",
    "\n",
    "https://github.com/model-checking/kani/blob/afd0469fa1f41b838037c1a961b1ef18642de48e/kani-driver/src/call_cbmc.rs#L106  subprocess cal of cbmc in kani\n",
    "https://github.com/model-checking/kani/blob/main/cprover_bindings/src/goto_program/expr.rs and entire rebuilt version of goto and irep in rust for kani\"\n",
    "\n",
    "cbmc /tmp/api_example.c --show-symbol-table --json-ui > /tmp/cbmc.json \n",
    "Need to clean up system messages...\n",
    "symtab2gb /tmp/cbmc.json \n",
    "\n",
    "you need to strip ot the system messages\n",
    "https://github.com/diffblue/cbmc/tree/c66ffbee915919af64bd19ee47a2fb4821529675/src/json-symtab-language\n",
    "\n",
    "irep\n",
    "id, sub, named_sub\n",
    "\n",
    "kani --write-json-symtab\n",
    "gen-c file... hmm.\n",
    "\n",
    "Ok, but is maturin binding to the rust easier that going fresh?\n"
   ]
  },
  {
   "cell_type": "code",
   "execution_count": 1,
   "metadata": {},
   "outputs": [
    {
     "name": "stdout",
     "output_type": "stream",
     "text": [
      "Writing /tmp/api_example.c\n"
     ]
    }
   ],
   "source": [
    "%%file /tmp/api_example.c\n",
    "int main(int argc, char *argv[]) {\n",
    "  int arr[] = {0, 1, 2, 3};\n",
    "  __CPROVER_assert(arr[3] != 3, \"expected failure: arr[3] == 3\");\n",
    "}"
   ]
  },
  {
   "cell_type": "code",
   "execution_count": 4,
   "metadata": {},
   "outputs": [
    {
     "name": "stdout",
     "output_type": "stream",
     "text": [
      "["
     ]
    },
    {
     "name": "stdout",
     "output_type": "stream",
     "text": [
      "^C\n"
     ]
    }
   ],
   "source": [
    "! cbmc /tmp/api_example.c --json-interface"
   ]
  },
  {
   "cell_type": "markdown",
   "metadata": {},
   "source": [
    "# manual translation validation\n",
    "YOu can output a canalog of the code and put it in manually.\n",
    "\n",
    "You can do cleanup that it hard to to automatically.\n",
    "\n",
    "\n"
   ]
  },
  {
   "cell_type": "markdown",
   "metadata": {},
   "source": [
    "# kani as a tla\n",
    "https://www.philipzucker.com/high_cbmc/ using cbmc did klind of suck.\n",
    "Is kani better?\n",
    "\n"
   ]
  },
  {
   "cell_type": "markdown",
   "metadata": {},
   "source": [
    "# knuckle gappa\n",
    "\n",
    "\n",
    "https://gappa.gitlabpages.inria.fr/gappa/language.html\n",
    "\n"
   ]
  },
  {
   "cell_type": "code",
   "execution_count": 1,
   "metadata": {},
   "outputs": [
    {
     "name": "stderr",
     "output_type": "stream",
     "text": [
      "Admitting lemma ForAll([x, y, z], mul(x, mul(y, z)) == mul(mul(x, y), z))\n"
     ]
    },
    {
     "name": "stderr",
     "output_type": "stream",
     "text": [
      "Admitting lemma ForAll(x, Implies(x >= 0, sqrt(x) >= 0))\n",
      "Admitting lemma ForAll(x, Implies(x >= 0, sqrt(x)**2 == x))\n",
      "Admitting lemma ForAll(x, Implies(x >= 0, sqrt(sqr(x)) == x))\n"
     ]
    },
    {
     "data": {
      "text/plain": [
       "'(((x <= 2) /\\\\ (x >= -0.25)) -> ((x * x) <= 4))'"
      ]
     },
     "execution_count": 1,
     "metadata": {},
     "output_type": "execute_result"
    }
   ],
   "source": [
    "from kdrag.all import *\n",
    "\n",
    "\n",
    "x,y = smt.Reals(\"x y\")\n",
    "gappa_of_bool(smt.Implies(smt.And(x <= 2, x >= -2 / 8), x*x <= 4))\n"
   ]
  },
  {
   "cell_type": "code",
   "execution_count": 5,
   "metadata": {},
   "outputs": [
    {
     "data": {
      "text/plain": [
       "CompletedProcess(args=['gappa', '/tmp/gappa.g'], returncode=1, stdout=b'', stderr=b'Error: some properties were not satisfied:\\n  BND(x), best: [-inf, inf]\\n  BND(x * x), best: [-inf, inf]\\n')"
      ]
     },
     "execution_count": 5,
     "metadata": {},
     "output_type": "execute_result"
    }
   ],
   "source": [
    "\n",
    "x,y = smt.Reals(\"x y\")\n",
    "\n",
    "s = GappaSolver()\n",
    "s.add(smt.Implies(smt.And(x <= 2, x >= -1/128), x*x <= 4))\n",
    "s.check()\n",
    "s.bound(x*x)"
   ]
  },
  {
   "cell_type": "code",
   "execution_count": null,
   "metadata": {},
   "outputs": [],
   "source": [
    "\n",
    "kd.define(\"rnd32_ne\", [x], smt.ToReal(smt.Float( , )))\n",
    "          "
   ]
  },
  {
   "cell_type": "code",
   "execution_count": null,
   "metadata": {},
   "outputs": [],
   "source": []
  },
  {
   "cell_type": "code",
   "execution_count": 34,
   "metadata": {},
   "outputs": [
    {
     "data": {
      "text/plain": [
       "['__add__',\n",
       " '__and__',\n",
       " '__bool__',\n",
       " '__class__',\n",
       " '__copy__',\n",
       " '__deepcopy__',\n",
       " '__del__',\n",
       " '__delattr__',\n",
       " '__dict__',\n",
       " '__dir__',\n",
       " '__div__',\n",
       " '__doc__',\n",
       " '__eq__',\n",
       " '__format__',\n",
       " '__ge__',\n",
       " '__getattribute__',\n",
       " '__getitem__',\n",
       " '__gt__',\n",
       " '__hash__',\n",
       " '__init__',\n",
       " '__init_subclass__',\n",
       " '__le__',\n",
       " '__lt__',\n",
       " '__mod__',\n",
       " '__module__',\n",
       " '__mul__',\n",
       " '__ne__',\n",
       " '__neg__',\n",
       " '__new__',\n",
       " '__nonzero__',\n",
       " '__or__',\n",
       " '__pos__',\n",
       " '__pow__',\n",
       " '__radd__',\n",
       " '__rdiv__',\n",
       " '__reduce__',\n",
       " '__reduce_ex__',\n",
       " '__repr__',\n",
       " '__rmod__',\n",
       " '__rmul__',\n",
       " '__rpow__',\n",
       " '__rsub__',\n",
       " '__rtruediv__',\n",
       " '__setattr__',\n",
       " '__sizeof__',\n",
       " '__str__',\n",
       " '__sub__',\n",
       " '__subclasshook__',\n",
       " '__truediv__',\n",
       " '__weakref__',\n",
       " '_repr_html_',\n",
       " 'arg',\n",
       " 'as_ast',\n",
       " 'ast',\n",
       " 'children',\n",
       " 'ctx',\n",
       " 'ctx_ref',\n",
       " 'decl',\n",
       " 'defn',\n",
       " 'eq',\n",
       " 'from_string',\n",
       " 'get_id',\n",
       " 'hash',\n",
       " 'induct',\n",
       " 'is_int',\n",
       " 'is_real',\n",
       " 'num_args',\n",
       " 'params',\n",
       " 'serialize',\n",
       " 'sexpr',\n",
       " 'sort',\n",
       " 'sort_kind',\n",
       " 'translate',\n",
       " 'use_pp',\n",
       " 'wf']"
      ]
     },
     "execution_count": 34,
     "metadata": {},
     "output_type": "execute_result"
    }
   ],
   "source": [
    "dir(x)"
   ]
  },
  {
   "cell_type": "code",
   "execution_count": 14,
   "metadata": {},
   "outputs": [
    {
     "data": {
      "text/plain": [
       "[]"
      ]
     },
     "execution_count": 14,
     "metadata": {},
     "output_type": "execute_result"
    }
   ],
   "source": [
    "\n",
    "from kdrag.all import *\n",
    "x = smt.RealVal(42.2)\n",
    "x.decl()\n",
    "#str.as_long()\n",
    "(-x).num_args()\n",
    "type(smt.RealVal(42))\n",
    "x.children()"
   ]
  },
  {
   "cell_type": "code",
   "execution_count": null,
   "metadata": {},
   "outputs": [],
   "source": []
  },
  {
   "cell_type": "markdown",
   "metadata": {},
   "source": [
    "# Manual Translation Validation\n",
    "Why build some big system?\n",
    "I could do it by hand for small programs faster.\n",
    "1. Am I translating the assembly correctly, nooooo. But maybe my automatic method wouldn't do better\n",
    "\n",
    "AI assist. Give it a couple examples and it may fill it in decently.\n",
    "\n",
    "Get Pcode description printed out.\n",
    "\n",
    "\n"
   ]
  },
  {
   "cell_type": "code",
   "execution_count": 1,
   "metadata": {},
   "outputs": [
    {
     "name": "stdout",
     "output_type": "stream",
     "text": [
      "Writing /tmp/example.c\n"
     ]
    }
   ],
   "source": [
    "%%file /tmp/example.c\n",
    "#include <assert.h>\n",
    "#include <stdint.h>\n",
    "int64_t myabs(int64_t x){\n",
    "    return x <= 0 ? -x : x;\n",
    "}"
   ]
  },
  {
   "cell_type": "code",
   "execution_count": 6,
   "metadata": {},
   "outputs": [],
   "source": [
    "!gcc -shared -g -fPIC /tmp/example.c -o /tmp/example.so"
   ]
  },
  {
   "cell_type": "code",
   "execution_count": 9,
   "metadata": {},
   "outputs": [
    {
     "name": "stdout",
     "output_type": "stream",
     "text": [
      "00000000000010f9 <myabs>:\n",
      "#include <assert.h>\n",
      "#include <stdint.h>\n",
      "int64_t myabs(int64_t x){\n",
      "    10f9:\tf3 0f 1e fa          \tendbr64 \n",
      "    10fd:\t55                   \tpush   %rbp\n",
      "    10fe:\t48 89 e5             \tmov    %rsp,%rbp\n",
      "    1101:\t48 89 7d f8          \tmov    %rdi,-0x8(%rbp)\n",
      "    return x <= 0 ? -x : x;\n",
      "    1105:\t48 8b 45 f8          \tmov    -0x8(%rbp),%rax\n",
      "    1109:\t48 89 c2             \tmov    %rax,%rdx\n",
      "    110c:\t48 f7 da             \tneg    %rdx\n",
      "    110f:\t48 0f 49 c2          \tcmovns %rdx,%rax\n",
      "}\n",
      "    1113:\t5d                   \tpop    %rbp\n",
      "    1114:\tc3                   \tret    \n",
      "\n",
      "Disassembly of section .fini:\n",
      "\n",
      "0000000000001118 <_fini>:\n",
      "    1118:\tf3 0f 1e fa          \tendbr64 \n"
     ]
    }
   ],
   "source": [
    "!objdump -d --source /tmp/example.so | grep -A 20 \"<myabs>\" "
   ]
  },
  {
   "cell_type": "markdown",
   "metadata": {},
   "source": [
    "So, kind of long. -O1 should clean up.\n",
    "Also my C is too succinct.\n"
   ]
  },
  {
   "cell_type": "code",
   "execution_count": 10,
   "metadata": {},
   "outputs": [
    {
     "name": "stdout",
     "output_type": "stream",
     "text": [
      "Overwriting /tmp/example.c\n"
     ]
    }
   ],
   "source": [
    "%%file /tmp/example.c\n",
    "#include <assert.h>\n",
    "#include <stdint.h>\n",
    "int64_t myabs(int64_t x){\n",
    "    if (x <= 0){\n",
    "        return -x;\n",
    "    } else {\n",
    "        return x;\n",
    "    }\n",
    "}"
   ]
  },
  {
   "cell_type": "code",
   "execution_count": 17,
   "metadata": {},
   "outputs": [
    {
     "name": "stdout",
     "output_type": "stream",
     "text": [
      "00000000000010f9 <myabs> (File Offset: 0x10f9):\n",
      "#include <assert.h>\n",
      "#include <stdint.h>\n",
      "int64_t myabs(int64_t x){\n",
      "    10f9:\tf3 0f 1e fa          \tendbr64 \n",
      "    if (x <= 0){\n",
      "        return -x;\n",
      "    } else {\n",
      "        return x;\n",
      "    }\n",
      "}\n",
      "    10fd:\t48 89 f8             \tmov    %rdi,%rax\n",
      "    1100:\t48 f7 d8             \tneg    %rax\n",
      "    1103:\t48 0f 48 c7          \tcmovs  %rdi,%rax\n",
      "    1107:\tc3                   \tret    \n",
      "\n",
      "Disassembly of section .fini:\n"
     ]
    }
   ],
   "source": [
    "%%bash\n",
    "gcc -shared -g -O1 -fPIC /tmp/example.c -o /tmp/example.so\n",
    "objdump -d -F --source /tmp/example.so | grep -A 16 \"<myabs>\" "
   ]
  },
  {
   "cell_type": "code",
   "execution_count": 55,
   "metadata": {},
   "outputs": [
    {
     "name": "stdout",
     "output_type": "stream",
     "text": [
      "Overwriting /tmp/translate.c\n"
     ]
    }
   ],
   "source": [
    "%%file /tmp/translate.c\n",
    "#include <assert.h>\n",
    "#include <stdint.h>\n",
    "#include <stdbool.h>\n",
    "extern uint64_t rax, rsp, rdi;\n",
    "bool sf;\n",
    "\n",
    "/*\n",
    "00000000000010f9 <myabs> (File Offset: 0x10f9):\n",
    "    10fd:\t48 89 f8             \tmov    %rdi,%rax\n",
    "    1100:\t48 f7 d8             \tneg    %rax\n",
    "    1103:\t48 0f 48 c7          \tcmovs  %rdi,%rax\n",
    "    1107:\tc3                   \tret    \n",
    "*/\n",
    "void myabs_asm(){\n",
    "    // endbr is no op;\n",
    "    L10fd:\n",
    "        rax = rdi;\n",
    "    L1100:\n",
    "        rax = -rax;\n",
    "        sf = rax >> 63;\n",
    "    L1103:\n",
    "        rax = sf ? rdi : rax;\n",
    "    L1107:\n",
    "        return;\n",
    "}\n",
    "\n",
    "\n",
    "int64_t myabs(int64_t x){\n",
    "    if (x <= 0){\n",
    "        return -x;\n",
    "    } else {\n",
    "        return x;\n",
    "    }\n",
    "}\n",
    "\n",
    "\n",
    "int main(){\n",
    "    int64_t x;\n",
    "    rdi = x;\n",
    "    myabs_asm();\n",
    "    int64_t y = myabs(x);\n",
    "    assert(y == rax);\n",
    "}"
   ]
  },
  {
   "cell_type": "code",
   "execution_count": 37,
   "metadata": {},
   "outputs": [
    {
     "name": "stdout",
     "output_type": "stream",
     "text": [
      "\u001b[01m\u001b[K/tmp/translate.c:\u001b[m\u001b[K In function ‘\u001b[01m\u001b[Kmyabs_asm\u001b[m\u001b[K’:\n",
      "\u001b[01m\u001b[K/tmp/translate.c:16:5:\u001b[m\u001b[K \u001b[01;35m\u001b[Kwarning: \u001b[m\u001b[Klabel ‘\u001b[01m\u001b[KL1107\u001b[m\u001b[K’ defined but not used [\u001b[01;35m\u001b[K\u001b]8;;https://gcc.gnu.org/onlinedocs/gcc/Warning-Options.html#index-Wunused-label\u0007-Wunused-label\u001b]8;;\u0007\u001b[m\u001b[K]\n",
      "   16 |     \u001b[01;35m\u001b[KL1107\u001b[m\u001b[K:\n",
      "      |     \u001b[01;35m\u001b[K^~~~~\u001b[m\u001b[K\n",
      "\u001b[01m\u001b[K/tmp/translate.c:14:5:\u001b[m\u001b[K \u001b[01;35m\u001b[Kwarning: \u001b[m\u001b[Klabel ‘\u001b[01m\u001b[KL1103\u001b[m\u001b[K’ defined but not used [\u001b[01;35m\u001b[K\u001b]8;;https://gcc.gnu.org/onlinedocs/gcc/Warning-Options.html#index-Wunused-label\u0007-Wunused-label\u001b]8;;\u0007\u001b[m\u001b[K]\n",
      "   14 |     \u001b[01;35m\u001b[KL1103\u001b[m\u001b[K:\n",
      "      |     \u001b[01;35m\u001b[K^~~~~\u001b[m\u001b[K\n",
      "\u001b[01m\u001b[K/tmp/translate.c:11:5:\u001b[m\u001b[K \u001b[01;35m\u001b[Kwarning: \u001b[m\u001b[Klabel ‘\u001b[01m\u001b[KL1100\u001b[m\u001b[K’ defined but not used [\u001b[01;35m\u001b[K\u001b]8;;https://gcc.gnu.org/onlinedocs/gcc/Warning-Options.html#index-Wunused-label\u0007-Wunused-label\u001b]8;;\u0007\u001b[m\u001b[K]\n",
      "   11 |     \u001b[01;35m\u001b[KL1100\u001b[m\u001b[K:\n",
      "      |     \u001b[01;35m\u001b[K^~~~~\u001b[m\u001b[K\n",
      "\u001b[01m\u001b[K/tmp/translate.c:9:5:\u001b[m\u001b[K \u001b[01;35m\u001b[Kwarning: \u001b[m\u001b[Klabel ‘\u001b[01m\u001b[KL10fd\u001b[m\u001b[K’ defined but not used [\u001b[01;35m\u001b[K\u001b]8;;https://gcc.gnu.org/onlinedocs/gcc/Warning-Options.html#index-Wunused-label\u0007-Wunused-label\u001b]8;;\u0007\u001b[m\u001b[K]\n",
      "    9 |     \u001b[01;35m\u001b[KL10fd\u001b[m\u001b[K:\n",
      "      |     \u001b[01;35m\u001b[K^~~~~\u001b[m\u001b[K\n",
      "In file included from \u001b[01m\u001b[K/tmp/translate.c:1\u001b[m\u001b[K:\n",
      "\u001b[01m\u001b[K/tmp/translate.c:\u001b[m\u001b[K In function ‘\u001b[01m\u001b[Kmain\u001b[m\u001b[K’:\n",
      "\u001b[01m\u001b[K/tmp/translate.c:35:14:\u001b[m\u001b[K \u001b[01;35m\u001b[Kwarning: \u001b[m\u001b[Kcomparison of integer expressions of different signedness: ‘\u001b[01m\u001b[Kint64_t\u001b[m\u001b[K’ {aka ‘\u001b[01m\u001b[Klong int\u001b[m\u001b[K’} and ‘\u001b[01m\u001b[Kuint64_t\u001b[m\u001b[K’ {aka ‘\u001b[01m\u001b[Klong unsigned int\u001b[m\u001b[K’} [\u001b[01;35m\u001b[K\u001b]8;;https://gcc.gnu.org/onlinedocs/gcc/Warning-Options.html#index-Wsign-compare\u0007-Wsign-compare\u001b]8;;\u0007\u001b[m\u001b[K]\n",
      "   35 |     assert(y \u001b[01;35m\u001b[K==\u001b[m\u001b[K rax);\n",
      "      |              \u001b[01;35m\u001b[K^~\u001b[m\u001b[K\n",
      "\u001b[01m\u001b[K/tmp/translate.c:32:9:\u001b[m\u001b[K \u001b[01;35m\u001b[Kwarning: \u001b[m\u001b[K‘\u001b[01m\u001b[Kx\u001b[m\u001b[K’ is used uninitialized [\u001b[01;35m\u001b[K\u001b]8;;https://gcc.gnu.org/onlinedocs/gcc/Warning-Options.html#index-Wuninitialized\u0007-Wuninitialized\u001b]8;;\u0007\u001b[m\u001b[K]\n",
      "   32 |     \u001b[01;35m\u001b[Krdi = x\u001b[m\u001b[K;\n",
      "      |     \u001b[01;35m\u001b[K~~~~^~~\u001b[m\u001b[K\n"
     ]
    }
   ],
   "source": [
    "!gcc -Wall -Wextra -Wpedantic -fanalyzer -c /tmp/translate.c"
   ]
  },
  {
   "cell_type": "code",
   "execution_count": 42,
   "metadata": {},
   "outputs": [
    {
     "name": "stdout",
     "output_type": "stream",
     "text": [
      "clang: \u001b[0;1;35mwarning: \u001b[0m\u001b[1margument unused during compilation: '-Xanalyzer -c' [-Wunused-command-line-argument]\u001b[0m\n"
     ]
    },
    {
     "name": "stdout",
     "output_type": "stream",
     "text": [
      "\u001b[1m/tmp/translate.c:7:15: \u001b[0m\u001b[0;1;35mwarning: \u001b[0m\u001b[1ma function declaration without a prototype is deprecated in all versions of C [-Wstrict-prototypes]\u001b[0m\n",
      "    7 | \u001b[0;34mvoid\u001b[0m myabs_asm(){\u001b[0m\n",
      "      | \u001b[0;1;32m              ^\n",
      "\u001b[0m      | \u001b[0;32m               void\n",
      "\u001b[0m\u001b[1m/tmp/translate.c:9:5: \u001b[0m\u001b[0;1;35mwarning: \u001b[0m\u001b[1munused label 'L10fd' [-Wunused-label]\u001b[0m\n",
      "    9 |     L10fd:\u001b[0m\n",
      "      | \u001b[0;1;32m    ^~~~~~\n",
      "\u001b[0m\u001b[1m/tmp/translate.c:11:5: \u001b[0m\u001b[0;1;35mwarning: \u001b[0m\u001b[1munused label 'L1100' [-Wunused-label]\u001b[0m\n",
      "   11 |     L1100:\u001b[0m\n",
      "      | \u001b[0;1;32m    ^~~~~~\n",
      "\u001b[0m\u001b[1m/tmp/translate.c:14:5: \u001b[0m\u001b[0;1;35mwarning: \u001b[0m\u001b[1munused label 'L1103' [-Wunused-label]\u001b[0m\n",
      "   14 |     L1103:\u001b[0m\n",
      "      | \u001b[0;1;32m    ^~~~~~\n",
      "\u001b[0m\u001b[1m/tmp/translate.c:16:5: \u001b[0m\u001b[0;1;35mwarning: \u001b[0m\u001b[1munused label 'L1107' [-Wunused-label]\u001b[0m\n",
      "   16 |     L1107:\u001b[0m\n",
      "      | \u001b[0;1;32m    ^~~~~~\n",
      "\u001b[0m\u001b[1m/tmp/translate.c:30:9: \u001b[0m\u001b[0;1;35mwarning: \u001b[0m\u001b[1ma function declaration without a prototype is deprecated in all versions of C [-Wstrict-prototypes]\u001b[0m\n",
      "   30 | \u001b[0;34mint\u001b[0m main(){\u001b[0m\n",
      "      | \u001b[0;1;32m        ^\n",
      "\u001b[0m      | \u001b[0;32m         void\n",
      "\u001b[0m\u001b[1m/tmp/translate.c:35:14: \u001b[0m\u001b[0;1;35mwarning: \u001b[0m\u001b[1mcomparison of integers of different signs: 'int64_t' (aka 'long') and 'uint64_t' (aka 'unsigned long') [-Wsign-compare]\u001b[0m\n",
      "   35 |     assert(y == rax);\u001b[0m\n",
      "      | \u001b[0;1;32m           ~ ^  ~~~\n",
      "\u001b[0m\u001b[1m/usr/include/assert.h:109:11: \u001b[0m\u001b[0;1;36mnote: \u001b[0mexpanded from macro 'assert'\u001b[0m\n",
      "  109 |       \u001b[0;34mif\u001b[0m (expr)                                                         \\\u001b[0m\n",
      "      | \u001b[0;1;32m          ^~~~\n",
      "\u001b[0m\u001b[1m/tmp/translate.c:32:11: \u001b[0m\u001b[0;1;35mwarning: \u001b[0m\u001b[1mvariable 'x' is uninitialized when used here [-Wuninitialized]\u001b[0m\n",
      "   32 |     rdi = x;\u001b[0m\n",
      "      | \u001b[0;1;32m          ^\n",
      "\u001b[0m\u001b[1m/tmp/translate.c:31:14: \u001b[0m\u001b[0;1;36mnote: \u001b[0minitialize the variable 'x' to silence this warning\u001b[0m\n",
      "   31 |     int64_t x;\u001b[0m\n",
      "      | \u001b[0;1;32m             ^\n",
      "\u001b[0m      | \u001b[0;32m              = 0\n",
      "\u001b[0m8 warnings generated.\n",
      "/bin/ld: /tmp/translate-624719.o: in function `myabs_asm':\n",
      "translate.c:(.text+0x9): undefined reference to `rdi'\n",
      "/bin/ld: translate.c:(.text+0x13): undefined reference to `rax'\n",
      "/bin/ld: translate.c:(.text+0x21): undefined reference to `rax'\n",
      "/bin/ld: translate.c:(.text+0x2b): undefined reference to `rax'\n",
      "/bin/ld: translate.c:(.text+0x35): undefined reference to `rax'\n",
      "/bin/ld: translate.c:(.text+0x5b): undefined reference to `rdi'\n",
      "/bin/ld: translate.c:(.text+0x6b): undefined reference to `rax'\n",
      "/bin/ld: translate.c:(.text+0x7d): undefined reference to `rax'\n",
      "/bin/ld: /tmp/translate-624719.o: in function `main':\n",
      "translate.c:(.text+0xcf): undefined reference to `rdi'\n",
      "/bin/ld: translate.c:(.text+0xef): undefined reference to `rax'\n",
      "clang: \u001b[0;1;31merror: \u001b[0m\u001b[1mlinker command failed with exit code 1 (use -v to see invocation)\u001b[0m\n"
     ]
    }
   ],
   "source": [
    "!clang -Wall -Wextra -Wpedantic -Xanalyzer -c /tmp/translate.c"
   ]
  },
  {
   "cell_type": "code",
   "execution_count": 56,
   "metadata": {},
   "outputs": [
    {
     "name": "stdout",
     "output_type": "stream",
     "text": [
      "CBMC version 6.0.1 (cbmc-6.0.1-5-g54c20cdb91) 64-bit x86_64 linux\n",
      "Type-checking translate\n",
      "Generating GOTO Program\n",
      "Adding CPROVER library (x86_64)\n",
      "Removal of function pointers and virtual functions\n",
      "Generic Property Instrumentation\n",
      "Starting Bounded Model Checking\n",
      "Passing problem to propositional reduction\n",
      "converting SSA\n",
      "Running propositional reduction\n",
      "SAT checker: instance is SATISFIABLE\n",
      "Running propositional reduction\n",
      "SAT checker: instance is UNSATISFIABLE\n",
      "\n",
      "** Results:\n",
      "/tmp/translate.c function main\n",
      "\u001b[2m[main.assertion.1] \u001b[0mline 42 assertion y == rax: \u001b[32mSUCCESS\u001b[0m\n",
      "\n",
      "/tmp/translate.c function myabs\n",
      "\u001b[2m[myabs.overflow.1] \u001b[0mline 30 arithmetic overflow on signed unary minus in -x: \u001b[31mFAILURE\u001b[0m\n",
      "\n",
      "** 1 of 2 failed (2 iterations)\n",
      "VERIFICATION FAILED\n"
     ]
    }
   ],
   "source": [
    "!cbmc /tmp/translate.c"
   ]
  },
  {
   "cell_type": "code",
   "execution_count": 34,
   "metadata": {},
   "outputs": [
    {
     "name": "stdout",
     "output_type": "stream",
     "text": [
      "/bin/bash: line 1: cerberus: command not found\n"
     ]
    }
   ],
   "source": [
    "! cerberus /tmp/translate.c"
   ]
  },
  {
   "cell_type": "markdown",
   "metadata": {},
   "source": [
    "Hmmm. I have translation validation but also an overflow failure...\n",
    "\n",
    "Ok, I started copying the wrong region;\n",
    "I'm not sure about how the signed flag is set. I didn't bother doing all the flag effects, which is good and bad.\n",
    "\n",
    "Ok chatgpt was right. I wrote rdi=rax when I meant rax=rdi\n",
    "\n",
    "Could output asm from gcc in addition or alternatively to objdump\n",
    "\n",
    "- BAP might be nice for decompiling the code and writing out the IR\n",
    "- Open up in ghidra. The pcode will be right there.\n",
    "- use angr pcode. Custom angr script\n",
    "- Reopen pcode2c. Try and do a cleanup mode? \n",
    "- Godbolt\n",
    "\n",
    "\n",
    "-fanalyze\n",
    "https://developers.redhat.com/articles/2024/04/03/improvements-static-analysis-gcc-14-compiler\n",
    "cerberus\n",
    "llvm sanitizer?\n",
    "https://github.com/danmar/cppcheck?tab=readme-ov-file\n",
    "\n",
    "gcc seems eaiser tohave?\n",
    "llvm taint\n",
    "\n",
    "\n",
    "verifying secret cleanup\n",
    "\n",
    "https://www.philipzucker.com/undefined_behavior/\n",
    "\n"
   ]
  },
  {
   "cell_type": "markdown",
   "metadata": {},
   "source": []
  },
  {
   "cell_type": "code",
   "execution_count": 18,
   "metadata": {},
   "outputs": [
    {
     "name": "stdout",
     "output_type": "stream",
     "text": [
      "/* AUTOGENERATED. DO NOT EDIT. */\n",
      "#include \"_pcode.h\"\n",
      "void pcode2c(CPUState *state, size_t breakpoint){\n",
      "    uint8_t* register_space = state->reg; \n",
      "    uint8_t* unique_space = state->unique; \n",
      "    uint8_t* ram_space = state->ram;\n",
      "    uint8_t* ram = ram_space; // TODO: remove this\n",
      "    for(;;){\n",
      "    switch(state->pc){\n",
      "        case 0x10f9:\n",
      "        L_0x10f9ul:\n",
      "            INSN(0x10f9ul,\"0x10f9: ENDBR64 \")\n",
      "        case 0x10fd:\n",
      "        L_0x10fdul:\n",
      "            INSN(0x10fdul,\"0x10fd: MOV RAX,RDI\")\n",
      "            L_P_0x1: COPY(register_space + 0x0ul /* RAX */, 8ul, register_space + 0x38ul /* RDI */, 8ul);\n",
      "        case 0x1100:\n",
      "        L_0x1100ul:\n",
      "            INSN(0x1100ul,\"0x1100: NEG RAX\")\n",
      "            L_P_0x2: INT_NOTEQUAL(register_space + 0x200ul /* CF */, 1ul, register_space + 0x0ul /* RAX */, 8ul, (uint8_t *)&(long unsigned int){0x0ul}, 0x8ul);\n",
      "            L_P_0x3: INT_SBORROW(register_space + 0x20bul /* OF */, 1ul, (uint8_t *)&(long unsigned int){0x0ul}, 0x8ul, register_space + 0x0ul /* RAX */, 8ul);\n",
      "            L_P_0x4: INT_2COMP(register_space + 0x0ul /* RAX */, 8ul, register_space + 0x0ul /* RAX */, 8ul);\n",
      "            L_P_0x5: INT_SLESS(register_space + 0x207ul /* SF */, 1ul, register_space + 0x0ul /* RAX */, 8ul, (uint8_t *)&(long unsigned int){0x0ul}, 0x8ul);\n",
      "            L_P_0x6: INT_EQUAL(register_space + 0x206ul /* ZF */, 1ul, register_space + 0x0ul /* RAX */, 8ul, (uint8_t *)&(long unsigned int){0x0ul}, 0x8ul);\n",
      "            L_P_0x7: INT_AND(unique_space + 0x13180ul, 8ul, register_space + 0x0ul /* RAX */, 8ul, (uint8_t *)&(long unsigned int){0xfful}, 0x8ul);\n",
      "            L_P_0x8: POPCOUNT(unique_space + 0x13200ul, 1ul, unique_space + 0x13180ul, 8ul);\n",
      "            L_P_0x9: INT_AND(unique_space + 0x13280ul, 1ul, unique_space + 0x13200ul, 1ul, (uint8_t *)&(long unsigned int){0x1ul}, 0x1ul);\n",
      "            L_P_0xa: INT_EQUAL(register_space + 0x202ul /* PF */, 1ul, unique_space + 0x13280ul, 1ul, (uint8_t *)&(long unsigned int){0x0ul}, 0x1ul);\n",
      "        case 0x1103:\n",
      "        L_0x1103ul:\n",
      "            INSN(0x1103ul,\"0x1103: CMOVS RAX,RDI\")\n",
      "            L_P_0xb: BOOL_NEGATE(unique_space + 0x28900ul, 1ul, register_space + 0x207ul /* SF */, 1ul);\n",
      "            L_P_0xc: CBRANCH_GOTO_TEMPFIX(ram_space, 0x1107ul, 8ul, unique_space, 0x28900ul, 1ul);\n",
      "            L_P_0xd: COPY(register_space + 0x0ul /* RAX */, 8ul, register_space + 0x38ul /* RDI */, 8ul);\n",
      "        case 0x1107:\n",
      "        L_0x1107ul:\n",
      "            INSN(0x1107ul,\"0x1107: RET \")\n",
      "            L_P_0xe: LOAD(register_space + 0x288ul /* RIP */, 8ul, (uint8_t *)&(long unsigned int){0x5d6e7f1a61c0ul}, 0x8ul, register_space + 0x20ul /* RSP */, 8ul);\n",
      "            L_P_0xf: INT_ADD(register_space + 0x20ul /* RSP */, 8ul, register_space + 0x20ul /* RSP */, 8ul, (uint8_t *)&(long unsigned int){0x8ul}, 0x8ul);\n",
      "            L_P_0x10: RETURN(register_space + 0x288ul /* RIP */, 8ul);\n",
      "        case 0x1108:\n",
      "        L_0x1108ul:\n",
      "            INSN(0x1108ul,\"0x1108: ADD byte ptr [RAX],AL\")\n",
      "            L_P_0x11: LOAD(unique_space + 0xbd00ul, 1ul, (uint8_t *)&(long unsigned int){0x5d6e7f1a61c0ul}, 0x8ul, register_space + 0x0ul /* RAX */, 8ul);\n",
      "            L_P_0x12: INT_CARRY(register_space + 0x200ul /* CF */, 1ul, unique_space + 0xbd00ul, 1ul, register_space + 0x0ul /* AL */, 1ul);\n",
      "            L_P_0x13: LOAD(unique_space + 0xbd00ul, 1ul, (uint8_t *)&(long unsigned int){0x5d6e7f1a61c0ul}, 0x8ul, register_space + 0x0ul /* RAX */, 8ul);\n",
      "            L_P_0x14: INT_SCARRY(register_space + 0x20bul /* OF */, 1ul, unique_space + 0xbd00ul, 1ul, register_space + 0x0ul /* AL */, 1ul);\n",
      "            L_P_0x15: LOAD(unique_space + 0xbd00ul, 1ul, (uint8_t *)&(long unsigned int){0x5d6e7f1a61c0ul}, 0x8ul, register_space + 0x0ul /* RAX */, 8ul);\n",
      "            L_P_0x16: INT_ADD(unique_space + 0xbd00ul, 1ul, unique_space + 0xbd00ul, 1ul, register_space + 0x0ul /* AL */, 1ul);\n",
      "            L_P_0x17: STORE((uint8_t *)&(long unsigned int){0x5d6e7f1a61c0ul}, 0x8ul, register_space + 0x0ul /* RAX */, 8ul, unique_space + 0xbd00ul, 1ul);\n",
      "            L_P_0x18: LOAD(unique_space + 0xbd00ul, 1ul, (uint8_t *)&(long unsigned int){0x5d6e7f1a61c0ul}, 0x8ul, register_space + 0x0ul /* RAX */, 8ul);\n",
      "            L_P_0x19: INT_SLESS(register_space + 0x207ul /* SF */, 1ul, unique_space + 0xbd00ul, 1ul, (uint8_t *)&(long unsigned int){0x0ul}, 0x1ul);\n",
      "            L_P_0x1a: LOAD(unique_space + 0xbd00ul, 1ul, (uint8_t *)&(long unsigned int){0x5d6e7f1a61c0ul}, 0x8ul, register_space + 0x0ul /* RAX */, 8ul);\n",
      "            L_P_0x1b: INT_EQUAL(register_space + 0x206ul /* ZF */, 1ul, unique_space + 0xbd00ul, 1ul, (uint8_t *)&(long unsigned int){0x0ul}, 0x1ul);\n",
      "            L_P_0x1c: LOAD(unique_space + 0xbd00ul, 1ul, (uint8_t *)&(long unsigned int){0x5d6e7f1a61c0ul}, 0x8ul, register_space + 0x0ul /* RAX */, 8ul);\n",
      "            L_P_0x1d: INT_AND(unique_space + 0x13180ul, 1ul, unique_space + 0xbd00ul, 1ul, (uint8_t *)&(long unsigned int){0xfful}, 0x1ul);\n",
      "            L_P_0x1e: POPCOUNT(unique_space + 0x13200ul, 1ul, unique_space + 0x13180ul, 1ul);\n",
      "            L_P_0x1f: INT_AND(unique_space + 0x13280ul, 1ul, unique_space + 0x13200ul, 1ul, (uint8_t *)&(long unsigned int){0x1ul}, 0x1ul);\n",
      "            L_P_0x20: INT_EQUAL(register_space + 0x202ul /* PF */, 1ul, unique_space + 0x13280ul, 1ul, (uint8_t *)&(long unsigned int){0x0ul}, 0x1ul);\n",
      "        default: assert(state->pc != -1); // Unexpected PC value\n",
      "}}}\n"
     ]
    }
   ],
   "source": [
    "!  python3 -m pcode2c --start-address 0x10f9 --file-offset 0x10f9 --size 10 /tmp/example.so"
   ]
  },
  {
   "cell_type": "markdown",
   "metadata": {},
   "source": [
    "https://api.angr.io/projects/pypcode/en/latest/guide.html#command-line-usage-example"
   ]
  },
  {
   "cell_type": "code",
   "execution_count": 31,
   "metadata": {},
   "outputs": [
    {
     "name": "stdout",
     "output_type": "stream",
     "text": [
      "0x10f9/4: ENDBR64 \n",
      "0x10fd/3: MOV RAX,RDI\n",
      "   0: RAX = RDI\n",
      "0x1100/3: NEG RAX\n",
      "   0: CF = RAX != 0x0\n",
      "   1: OF = sborrow(0x0, RAX)\n",
      "   2: RAX = -RAX\n",
      "   3: SF = RAX s< 0x0\n",
      "   4: ZF = RAX == 0x0\n",
      "   5: unique[13180:8] = RAX & 0xff\n",
      "   6: unique[13200:1] = popcount(unique[13180:8])\n",
      "   7: unique[13280:1] = unique[13200:1] & 0x1\n",
      "   8: PF = unique[13280:1] == 0x0\n",
      "0x1103/4: CMOVS RAX,RDI\n",
      "   0: unique[28900:1] = !SF\n",
      "   1: if (unique[28900:1]) goto ram[1107:8]\n",
      "   2: RAX = RDI\n",
      "0x1107/1: RET \n",
      "   0: RIP = *[ram]RSP\n",
      "   1: RSP = RSP + 0x8\n",
      "   2: return RIP\n",
      "\n"
     ]
    }
   ],
   "source": [
    "!python3 -m pypcode -o 0x10f9 -s 6 -s 15 x86:LE:64:default /tmp/example.so 0x10f9"
   ]
  },
  {
   "cell_type": "markdown",
   "metadata": {},
   "source": [
    "## stack version\n",
    "try uiint32_t next to see how to deal with register slices\n",
    "use goto form? Inspect goto?\n",
    "\n"
   ]
  },
  {
   "cell_type": "code",
   "execution_count": 53,
   "metadata": {},
   "outputs": [
    {
     "name": "stdout",
     "output_type": "stream",
     "text": [
      "Overwriting /tmp/example.c\n"
     ]
    }
   ],
   "source": [
    "%%file /tmp/example.c\n",
    "#include <assert.h>\n",
    "#include <stdint.h>\n",
    "int64_t myabs(int64_t x){\n",
    "    if (x <= 0){\n",
    "        return -x;\n",
    "    } else {\n",
    "        return x;\n",
    "    }\n",
    "}"
   ]
  },
  {
   "cell_type": "code",
   "execution_count": 58,
   "metadata": {},
   "outputs": [
    {
     "name": "stdout",
     "output_type": "stream",
     "text": [
      "00000000000010f9 <myabs> (File Offset: 0x10f9):\n",
      "#include <assert.h>\n",
      "#include <stdint.h>\n",
      "int64_t myabs(int64_t x){\n",
      "    10f9:\tf3 0f 1e fa          \tendbr64 \n",
      "    10fd:\t55                   \tpush   %rbp\n",
      "    10fe:\t48 89 e5             \tmov    %rsp,%rbp\n",
      "    1101:\t48 89 7d f8          \tmov    %rdi,-0x8(%rbp)\n",
      "    if (x <= 0){\n",
      "    1105:\t48 83 7d f8 00       \tcmpq   $0x0,-0x8(%rbp)\n",
      "    110a:\t7f 09                \tjg     1115 <myabs+0x1c> (File Offset: 0x1115)\n",
      "        return -x;\n",
      "    110c:\t48 8b 45 f8          \tmov    -0x8(%rbp),%rax\n",
      "    1110:\t48 f7 d8             \tneg    %rax\n",
      "    1113:\teb 04                \tjmp    1119 <myabs+0x20> (File Offset: 0x1119)\n",
      "    } else {\n",
      "        return x;\n",
      "    1115:\t48 8b 45 f8          \tmov    -0x8(%rbp),%rax\n",
      "    }\n",
      "}\n",
      "    1119:\t5d                   \tpop    %rbp\n",
      "    111a:\tc3                   \tret    \n",
      "\n",
      "Disassembly of section .fini:\n",
      "\n",
      "000000000000111c <_fini> (File Offset: 0x111c):\n"
     ]
    }
   ],
   "source": [
    "%%bash\n",
    "gcc -shared -g -fPIC /tmp/example.c -o /tmp/example.so\n",
    "objdump -d -F --source /tmp/example.so | grep -A 25 \"<myabs>\" "
   ]
  },
  {
   "cell_type": "code",
   "execution_count": null,
   "metadata": {},
   "outputs": [],
   "source": [
    "%%file /tmp/translate.c\n",
    "#include <assert.h>\n",
    "#include <stdint.h>\n",
    "\n",
    "extern uint64_t rax, rdi, rsp, sf, rbp;\n",
    "extern uint8_t stack[16];\n",
    "// rax = (rax & typemask) | (res)\n",
    "\n",
    "\n",
    "void myabs_asm(){\n",
    "    // assume calling convention\n",
    "    rsp = &stack;\n",
    "    rbp = 0;\n",
    "\n",
    "    L10f9:\n",
    "       // endbr no op \n",
    "    L10fd:\n",
    "        memmove(rsp, &rbp, 8); \n",
    "        rsp -= 8;\n",
    "    L10fe:\n",
    "        rbp = rsp;\n",
    "    L1101:\n",
    "        memmove(rbp - 8, rdi, 8);\n",
    "    L1105:\n",
    "        sf =  0 < *(rbp-8);\n",
    "    L110a:\n",
    "        if (sf) goto L1115;\n",
    "    L110c:\n",
    "        rax = *(rbp-8);\n",
    "        goto L1119;\n",
    "    L1110:\n",
    "        rax = -rax;\n",
    "    L1113:\n",
    "        goto L1119;\n",
    "    L1115:\n",
    "        memmove(&rax, rbp - 8 , 8);\n",
    "    L1119:\n",
    "        memmove(&rbp, rsp, 8);\n",
    "        rsp += 8;\n",
    "    L111a:\n",
    "        memmove(&rip, rsp, 8);\n",
    "        rsp += 8; \n",
    "        return;\n",
    "}\n",
    "\n",
    "#define CALL1(res, func, x) rdi = x; func(); res = rax;\n",
    "\n",
    "int64_t myabs_wrapper(int64_t x){\n",
    "    uint8_t stack[16];\n",
    "    rdi = x;\n",
    "    rsp = stack;\n",
    "    myabs_asm();\n",
    "    return rax;\n",
    "}        \n",
    "\n",
    "\n",
    "\n",
    "\n",
    "\n",
    "int64_t myabs(int64_t x){\n",
    "    if (x <= 0){\n",
    "        return -x;\n",
    "    } else {\n",
    "        return x;\n",
    "    }\n",
    "}"
   ]
  },
  {
   "cell_type": "code",
   "execution_count": null,
   "metadata": {},
   "outputs": [],
   "source": [
    "%%file /tmp/translate.c\n",
    "\n",
    "uint64_t stack[2];\n",
    "\n",
    "\n",
    "#include <assert.h>\n",
    "#include <stdint.h>\n",
    "int64_t myabs(int64_t x){\n",
    "    if (x <= 0){\n",
    "        return -x;\n",
    "    } else {\n",
    "        return x;\n",
    "    }\n",
    "}"
   ]
  },
  {
   "cell_type": "code",
   "execution_count": 61,
   "metadata": {},
   "outputs": [
    {
     "name": "stdout",
     "output_type": "stream",
     "text": [
      "0x10f9/4: ENDBR64 \n",
      "0x10fd/1: PUSH RBP\n",
      "   0: unique[ed00:8] = RBP\n",
      "   1: RSP = RSP - 0x8\n",
      "   2: *[ram]RSP = unique[ed00:8]\n",
      "0x10fe/3: MOV RBP,RSP\n",
      "   0: RBP = RSP\n",
      "0x1101/4: MOV qword ptr [RBP + -0x8],RDI\n",
      "   0: unique[3100:8] = RBP + 0xfffffffffffffff8\n",
      "   1: unique[c000:8] = RDI\n",
      "   2: *[ram]unique[3100:8] = unique[c000:8]\n",
      "0x1105/5: CMP qword ptr [RBP + -0x8],0x0\n",
      "   0: unique[3100:8] = RBP + 0xfffffffffffffff8\n",
      "   1: unique[c080:8] = *[ram]unique[3100:8]\n",
      "   2: CF = unique[c080:8] < 0x0\n",
      "   3: unique[c080:8] = *[ram]unique[3100:8]\n",
      "   4: OF = sborrow(unique[c080:8], 0x0)\n",
      "   5: unique[c080:8] = *[ram]unique[3100:8]\n",
      "   6: unique[29400:8] = unique[c080:8] - 0x0\n",
      "   7: SF = unique[29400:8] s< 0x0\n",
      "   8: ZF = unique[29400:8] == 0x0\n",
      "   9: unique[13180:8] = unique[29400:8] & 0xff\n",
      "  10: unique[13200:1] = popcount(unique[13180:8])\n",
      "  11: unique[13280:1] = unique[13200:1] & 0x1\n",
      "  12: PF = unique[13280:1] == 0x0\n",
      "0x110a/2: JG 0x1115\n",
      "   0: unique[d180:1] = !ZF\n",
      "   1: unique[d200:1] = OF == SF\n",
      "   2: unique[d300:1] = unique[d180:1] && unique[d200:1]\n",
      "   3: if (unique[d300:1]) goto ram[1115:8]\n",
      "0x110c/4: MOV RAX,qword ptr [RBP + -0x8]\n",
      "   0: unique[3100:8] = RBP + 0xfffffffffffffff8\n",
      "   1: unique[c000:8] = *[ram]unique[3100:8]\n",
      "   2: RAX = unique[c000:8]\n",
      "0x1110/7: TEST qword ptr [RAX],0x0\n",
      "   0: CF = 0x0\n",
      "   1: OF = 0x0\n",
      "   2: unique[c080:8] = *[ram]RAX\n",
      "   3: unique[5b100:8] = unique[c080:8] & 0x0\n",
      "   4: SF = unique[5b100:8] s< 0x0\n",
      "   5: ZF = unique[5b100:8] == 0x0\n",
      "   6: unique[13180:8] = unique[5b100:8] & 0xff\n",
      "   7: unique[13200:1] = popcount(unique[13180:8])\n",
      "   8: unique[13280:1] = unique[13200:1] & 0x1\n",
      "   9: PF = unique[13280:1] == 0x0\n",
      "\n"
     ]
    }
   ],
   "source": [
    "!python3 -m pypcode -o 0x10f9 -s 25 x86:LE:64:default /tmp/example.so 0x10f9"
   ]
  },
  {
   "cell_type": "markdown",
   "metadata": {},
   "source": [
    "Probably a small adaptatyion of the pypcode printer could get 90% of the way there.\n",
    "A liveness sweep for the flags\n",
    "inlining of uniques\n",
    "Is it even worth doing thoug\n"
   ]
  },
  {
   "cell_type": "markdown",
   "metadata": {},
   "source": [
    "## angr\n"
   ]
  },
  {
   "cell_type": "code",
   "execution_count": 68,
   "metadata": {},
   "outputs": [
    {
     "name": "stderr",
     "output_type": "stream",
     "text": [
      "WARNING  | 2024-09-05 12:20:36,375 | angr.storage.memory_mixins.default_filler_mixin | Filling register cc_dep1 with 8 unconstrained bytes referenced from 0x400000 (crtstuff.c+0x0 in example.so (0x0))\n",
      "WARNING  | 2024-09-05 12:20:36,377 | angr.storage.memory_mixins.default_filler_mixin | Filling register cc_dep2 with 8 unconstrained bytes referenced from 0x400000 (crtstuff.c+0x0 in example.so (0x0))\n"
     ]
    },
    {
     "name": "stderr",
     "output_type": "stream",
     "text": [
      "WARNING  | 2024-09-05 12:20:36,419 | angr.storage.memory_mixins.default_filler_mixin | Filling register rcx with 8 unconstrained bytes referenced from 0x400002 (crtstuff.c+0x2 in example.so (0x2))\n",
      "WARNING  | 2024-09-05 12:20:36,420 | angr.storage.memory_mixins.default_filler_mixin | Filling register r8b with 1 unconstrained bytes referenced from 0x400002 (crtstuff.c+0x2 in example.so (0x2))\n",
      "WARNING  | 2024-09-05 12:20:36,513 | angr.storage.memory_mixins.default_filler_mixin | Filling memory at 0xfffffffffffff800 with 1 unconstrained bytes referenced from 0x400002 (crtstuff.c+0x2 in example.so (0x2))\n",
      "WARNING  | 2024-09-05 12:20:36,515 | angr.storage.memory_mixins.default_filler_mixin | Filling memory at 0x1c with 4 unconstrained bytes referenced from 0x400006 (crtstuff.c+0x6 in example.so (0x6))\n",
      "WARNING  | 2024-09-05 12:20:36,650 | angr.storage.memory_mixins.default_filler_mixin | Filling memory at 0xa8 with 1 unconstrained bytes referenced from 0x400015 (crtstuff.c+0x15 in example.so (0x15))\n",
      "WARNING  | 2024-09-05 12:20:36,701 | angr.storage.memory_mixins.default_filler_mixin | Filling memory at 0x0 with 1 unconstrained bytes referenced from 0x400037 (crtstuff.c+0x37 in example.so (0x37))\n",
      "WARNING  | 2024-09-05 12:20:36,709 | angr.storage.memory_mixins.default_filler_mixin | Filling memory at 0x1c with 1 unconstrained bytes referenced from 0x400047 (crtstuff.c+0x47 in example.so (0x47))\n",
      "WARNING  | 2024-09-05 12:20:36,716 | angr.storage.memory_mixins.default_filler_mixin | Filling memory at 0x20 with 1 unconstrained bytes referenced from 0x40005f (crtstuff.c+0x5f in example.so (0x5f))\n",
      "WARNING  | 2024-09-05 12:20:36,723 | angr.storage.memory_mixins.default_filler_mixin | Filling register rcx with 8 unconstrained bytes referenced from 0x400077 (crtstuff.c+0x77 in example.so (0x77))\n",
      "WARNING  | 2024-09-05 12:20:36,813 | angr.storage.memory_mixins.default_filler_mixin | Filling memory at 0x2 with 1 unconstrained bytes referenced from 0x400077 (crtstuff.c+0x77 in example.so (0x77))\n",
      "WARNING  | 2024-09-05 12:20:36,854 | angr.storage.memory_mixins.default_filler_mixin | Filling memory at 0x1d with 3 unconstrained bytes referenced from 0x400099 (crtstuff.c+0x99 in example.so (0x99))\n",
      "WARNING  | 2024-09-05 12:20:36,869 | angr.storage.memory_mixins.default_filler_mixin | Filling memory at 0x38 with 1 unconstrained bytes referenced from 0x4000b3 (crtstuff.c+0xb3 in example.so (0xb3))\n"
     ]
    }
   ],
   "source": [
    "import angr\n",
    "s = angr.Project(\"/tmp/example.so\").factory.simgr().explore(find=0x10f9)\n",
    "\n",
    "#s.found[0].regs.rax.args"
   ]
  },
  {
   "cell_type": "code",
   "execution_count": 67,
   "metadata": {},
   "outputs": [
    {
     "data": {
      "text/plain": [
       "['ALL',\n",
       " 'DROP',\n",
       " '__annotations__',\n",
       " '__class__',\n",
       " '__delattr__',\n",
       " '__dict__',\n",
       " '__dir__',\n",
       " '__doc__',\n",
       " '__eq__',\n",
       " '__format__',\n",
       " '__ge__',\n",
       " '__getattr__',\n",
       " '__getattribute__',\n",
       " '__getstate__',\n",
       " '__gt__',\n",
       " '__hash__',\n",
       " '__init__',\n",
       " '__init_subclass__',\n",
       " '__le__',\n",
       " '__lt__',\n",
       " '__module__',\n",
       " '__ne__',\n",
       " '__new__',\n",
       " '__reduce__',\n",
       " '__reduce_ex__',\n",
       " '__repr__',\n",
       " '__setattr__',\n",
       " '__setstate__',\n",
       " '__sizeof__',\n",
       " '__str__',\n",
       " '__subclasshook__',\n",
       " '__weakref__',\n",
       " '_auto_drop',\n",
       " '_clear_states',\n",
       " '_copy_stashes',\n",
       " '_create_integral_stashes',\n",
       " '_errored',\n",
       " '_fetch_states',\n",
       " '_filter_states',\n",
       " '_hierarchy',\n",
       " '_integral_stashes',\n",
       " '_lock',\n",
       " '_merge_key',\n",
       " '_merge_states',\n",
       " '_one_step',\n",
       " '_project',\n",
       " '_resilience',\n",
       " '_save_unsat',\n",
       " '_stashes',\n",
       " '_store_states',\n",
       " '_techniques',\n",
       " 'absorb',\n",
       " 'active',\n",
       " 'apply',\n",
       " 'avoid',\n",
       " 'complete',\n",
       " 'completion_mode',\n",
       " 'copy',\n",
       " 'deadended',\n",
       " 'drop',\n",
       " 'errored',\n",
       " 'errored',\n",
       " 'explore',\n",
       " 'filter',\n",
       " 'filter',\n",
       " 'found',\n",
       " 'merge',\n",
       " 'move',\n",
       " 'mp_active',\n",
       " 'mp_avoid',\n",
       " 'mp_deadended',\n",
       " 'mp_errored',\n",
       " 'mp_found',\n",
       " 'mp_pruned',\n",
       " 'mp_stashed',\n",
       " 'mp_unconstrained',\n",
       " 'mp_unsat',\n",
       " 'mulpyplex',\n",
       " 'one_active',\n",
       " 'one_avoid',\n",
       " 'one_deadended',\n",
       " 'one_errored',\n",
       " 'one_found',\n",
       " 'one_pruned',\n",
       " 'one_stashed',\n",
       " 'one_unconstrained',\n",
       " 'one_unsat',\n",
       " 'populate',\n",
       " 'prune',\n",
       " 'pruned',\n",
       " 'remove_technique',\n",
       " 'run',\n",
       " 'selector',\n",
       " 'split',\n",
       " 'stash',\n",
       " 'stashed',\n",
       " 'stashes',\n",
       " 'step',\n",
       " 'step',\n",
       " 'step_state',\n",
       " 'successors',\n",
       " 'unconstrained',\n",
       " 'unsat',\n",
       " 'unstash',\n",
       " 'use_technique']"
      ]
     },
     "execution_count": 67,
     "metadata": {},
     "output_type": "execute_result"
    }
   ],
   "source": [
    "dir(s)"
   ]
  },
  {
   "cell_type": "markdown",
   "metadata": {},
   "source": []
  },
  {
   "cell_type": "markdown",
   "metadata": {},
   "source": [
    "# Initiaization Sequence\n",
    "Resource must be initlaize"
   ]
  },
  {
   "cell_type": "code",
   "execution_count": null,
   "metadata": {},
   "outputs": [],
   "source": [
    "%%file /tmp/init.c\n",
    "\n",
    "#include <assert.h>\n",
    "#include <stdint.h>\n",
    "\n",
    "void init_uart(){\n",
    "\n",
    "    \n",
    "}\n"
   ]
  },
  {
   "cell_type": "markdown",
   "metadata": {},
   "source": [
    "# Interrupts\n",
    "Maybe use TLA+ fo a high level model. \n",
    "And CBMC for the low level.\n",
    "Spin?\n",
    "\n",
    "\n",
    "\n"
   ]
  },
  {
   "cell_type": "markdown",
   "metadata": {},
   "source": [
    "## tla+"
   ]
  },
  {
   "cell_type": "markdown",
   "metadata": {},
   "source": [
    "## loom / shuttle"
   ]
  },
  {
   "cell_type": "markdown",
   "metadata": {},
   "source": [
    "## spin"
   ]
  },
  {
   "cell_type": "code",
   "execution_count": 69,
   "metadata": {},
   "outputs": [
    {
     "name": "stdout",
     "output_type": "stream",
     "text": [
      "Writing /tmp/hello.pml\n"
     ]
    }
   ],
   "source": [
    "%%file /tmp/hello.pml\n",
    "active proctype main()\n",
    "{\n",
    "printf(\"hello world\\n\")\n",
    "}"
   ]
  },
  {
   "cell_type": "code",
   "execution_count": 72,
   "metadata": {},
   "outputs": [
    {
     "name": "stdout",
     "output_type": "stream",
     "text": [
      "      hello world\n",
      "1 process created\n"
     ]
    }
   ],
   "source": [
    "!~/Documents/solvers/Spin/Src/spin /tmp/hello.pml"
   ]
  },
  {
   "cell_type": "code",
   "execution_count": 73,
   "metadata": {},
   "outputs": [
    {
     "name": "stdout",
     "output_type": "stream",
     "text": [
      "Writing /tmp/produce.pml\n"
     ]
    }
   ],
   "source": [
    "%%file /tmp/produce.pml\n",
    "mtype = { P, C };\n",
    "mtype turn = P;\n",
    "active proctype producer()\n",
    "{\n",
    "    do\n",
    "    :: (turn == P) ->\n",
    "    printf(\"Produce\\n\");\n",
    "    turn = C\n",
    "    od\n",
    "}\n",
    "active proctype consumer()\n",
    "{\n",
    "    do\n",
    "    :: (turn == C) ->\n",
    "    printf(\"Consume\\n\");\n",
    "    turn = P\n",
    "    od\n",
    "}"
   ]
  },
  {
   "cell_type": "code",
   "execution_count": null,
   "metadata": {},
   "outputs": [],
   "source": [
    "%%file /tmpprocetyp.pml\n",
    "\n",
    "active [2] proctype you_run()\n",
    "{\n",
    "printf(\"my pid is: %d\\n\", _pid)\n",
    "}"
   ]
  },
  {
   "cell_type": "code",
   "execution_count": null,
   "metadata": {},
   "outputs": [],
   "source": [
    "proctype you_run(byte x)\n",
    "{\n",
    "printf(\"x = %d, pid = %d\\n\", x, _pid)\n",
    "}\n",
    "init {\n",
    "run you_run(0);\n",
    "run you_run(1)\n",
    "}\n",
    "\n",
    "// enabling processes via bool\n",
    "bool toggle = true; /* global variables */\n",
    "short cnt; /* visible to A and B */\n",
    "active proctype A() provided (toggle == true)\n",
    "{\n",
    "L: cnt++; /* means: cnt = cnt+1 */\n",
    "printf(\"A: cnt=%d\\n\", cnt);\n",
    "toggle = false; /* yield control to B */\n",
    "goto L /* do it again */\n",
    "}\n",
    "active proctype B() provided (toggle == false)\n",
    "{\n",
    "L: cnt--; /* means: cnt = cnt-1 */\n",
    "printf(\"B: cnt=%d\\n\", cnt);\n",
    "toggle = true; /* yield control to A */\n",
    "goto L\n",
    "}\n",
    "\n",
    "inline example(x, y) {\n",
    "y = a;\n",
    "x = b;\n",
    "assert(x)\n",
    "}\n",
    "init {\n",
    "int a, b;\n",
    "example(a,b)\n",
    "}\n",
    "\n",
    "\n",
    "chan STDIN"
   ]
  },
  {
   "cell_type": "markdown",
   "metadata": {},
   "source": [
    "bit bool byte chan mtype pid short int unsgined\n",
    "```\n",
    "typedef Field {\n",
    "    short f = 3;\n",
    "    byte g\n",
    "};\n",
    "typedef Record {\n",
    "byte a[3];\n",
    "int fld1;\n",
    "Field fld2;\n",
    "chan p[3];\n",
    "bit b\n",
    "};\n",
    "proctype me(Field z) {\n",
    "z.g = 12\n",
    "}\n",
    "init {\n",
    "Record goo;\n",
    "Field foo;\n",
    "run me(foo)\n",
    "}\n",
    "```"
   ]
  },
  {
   "cell_type": "code",
   "execution_count": null,
   "metadata": {},
   "outputs": [],
   "source": [
    "!"
   ]
  },
  {
   "cell_type": "markdown",
   "metadata": {},
   "source": []
  },
  {
   "cell_type": "markdown",
   "metadata": {},
   "source": [
    "# Taint\n",
    "https://clang.llvm.org/docs/analyzer/user-docs/TaintAnalysisConfiguration.html\n",
    "https://clang.llvm.org/docs/analyzer/checkers.html#alpha-security-taint-generictaint"
   ]
  },
  {
   "cell_type": "code",
   "execution_count": 44,
   "metadata": {},
   "outputs": [
    {
     "name": "stdout",
     "output_type": "stream",
     "text": [
      "Writing /tmp/taint.c\n"
     ]
    }
   ],
   "source": [
    "%%file /tmp/taint.c\n",
    "\n",
    "int high();\n",
    "void low(int x);\n",
    "\n",
    "int foo(){\n",
    "    low(high());\n",
    "}\n"
   ]
  },
  {
   "cell_type": "code",
   "execution_count": 48,
   "metadata": {},
   "outputs": [
    {
     "name": "stdout",
     "output_type": "stream",
     "text": [
      "Overwriting /tmp/taint.yml\n"
     ]
    }
   ],
   "source": [
    "%%file /tmp/taint.yml\n",
    "Propagations:\n",
    "  - Name: high\n",
    "    DstArgs: [-1]\n",
    "Sinks:\n",
    "  - Name: low\n",
    "    SrcArgs: [0]"
   ]
  },
  {
   "cell_type": "code",
   "execution_count": 49,
   "metadata": {},
   "outputs": [
    {
     "name": "stdout",
     "output_type": "stream",
     "text": [
      "\u001b[0;1;31merror: \u001b[0m\u001b[1merror reading 'alpha.security.taint.TaintPropagation:Config=/tmp/taint.yml': No such file or directory\u001b[0m\n",
      "1 error generated.\n"
     ]
    }
   ],
   "source": [
    "!clang --analyze -Xclang alpha.security.taint.TaintPropagation:Config=/tmp/taint.yml /tmp/taint.c"
   ]
  },
  {
   "cell_type": "markdown",
   "metadata": {},
   "source": [
    "# Secuity Protocol\n",
    "https://link.springer.com/chapter/10.1007/978-3-319-10575-8_22 Model Checking Security Protocols\n",
    "\n",
    "https://tamarin-prover.com/ https://hal.science/hal-03586826/document tamarin\n",
    "\n",
    "https://bblanche.gitlabpages.inria.fr/proverif/ proverif https://www.youtube.com/watch?v=AdXiRtEUGZ4&t=2s 20 years. convert to horn clauses. satruate horn clauses. huh. axiom lemma system. subsumption\n",
    "https://bblanche.gitlabpages.inria.fr/proverif/manual.pdf pi calculus\n",
    "\n",
    "https://verifpal.com/  https://www.youtube.com/watch?v=JrJt6hOAQlQ https://github.com/symbolicsoft/verifpal https://www.youtube.com/watch?v=r41Sjt6D7sM\n",
    "\n",
    "upaal maybe? TLA+ / spin have probably been used. It would be nice to have just one high level symbolic model for interrupts and \n",
    "FDR?\n",
    "scyther and avispa CSP look defunct\n",
    "\n",
    "Maude-NPA https://maude.cs.illinois.edu/w/index.php/Maude_Tools:_Maude-NPA\n",
    "\n",
    " Rosulek's \"The Joy of Cryptography\n",
    "\n",
    "Dolev Yao - read/write intercept but can't break crtpo use side channels\n",
    "\n",
    "properties: auth, secrecy, anonymity, vot privacy\n",
    "\n",
    "https://galois.com/blog/2021/05/who-is-verifying-their-cryptographic-protocols/\n",
    "\n",
    "https://www.reddit.com/r/crypto/comments/qju79o/learn_verification_of_cryptographic_protocols/ very useful comment\n",
    "CryptoVerif, CertiCrypt, EasyCrypt, CryptHOL  for primitives\n",
    "\n",
    "\n",
    "https://link.springer.com/chapter/10.1007/978-3-319-25527-9_7 Alice and Bob: Reconciling Formal Models and Implementation"
   ]
  },
  {
   "cell_type": "markdown",
   "metadata": {},
   "source": []
  },
  {
   "cell_type": "markdown",
   "metadata": {},
   "source": [
    "# Rust\n",
    "\n",
    "## Kani\n",
    "\n",
    "https://model-checking.github.io/kani-verifier-blog/\n",
    "\n",
    "https://model-checking.github.io/kani/install-guide.html\n",
    "! cargo install kani-verifier\n",
    "\n",
    "kani --visualize\n",
    "\n",
    "```\n",
    "#[kani::proof]\n",
    "#[kani::should_panic]\n",
    "#[kani::unwind(<number>)]\n",
    "#[kani::solver(<solver>)]\n",
    "#[kani::stub(<original>, <replacement>)]\n",
    "```\n",
    "\n",
    "https://model-checking.github.io/kani/tool-comparison.html  \n",
    "\n",
    "https://github.com/tokio-rs/loom  https://github.com/awslabs/shuttle concurrency testing tools"
   ]
  },
  {
   "cell_type": "code",
   "execution_count": 3,
   "metadata": {},
   "outputs": [
    {
     "name": "stdout",
     "output_type": "stream",
     "text": [
      "Overwriting /tmp/kanitest.rs\n"
     ]
    }
   ],
   "source": [
    "%%file /tmp/kanitest.rs\n",
    "fn estimate_size(x: u32) -> u32 {\n",
    "    if x < 256 {\n",
    "        if x < 128 {\n",
    "            return 1;\n",
    "        } else {\n",
    "            return 3;\n",
    "        }\n",
    "    } else if x < 1024 {\n",
    "        if x > 1022 {\n",
    "            panic!(\"Oh no, a failing corner case!\");\n",
    "        } else {\n",
    "            return 5;\n",
    "        }\n",
    "    } else {\n",
    "        if x < 2048 {\n",
    "            return 7;\n",
    "        } else {\n",
    "            return 9;\n",
    "        }\n",
    "    }\n",
    "}\n",
    "\n",
    "#[cfg(kani)]\n",
    "#[kani::proof]\n",
    "fn check_estimate_size() {\n",
    "    let x: u32 = kani::any();\n",
    "    estimate_size(x);\n",
    "}"
   ]
  },
  {
   "cell_type": "code",
   "execution_count": 5,
   "metadata": {},
   "outputs": [
    {
     "name": "stdout",
     "output_type": "stream",
     "text": [
      "Kani Rust Verifier 0.53.0 (standalone)\n",
      "\u001b[0m\u001b[1m\u001b[33mwarning\u001b[0m\u001b[0m\u001b[1m: Found the following unsupported constructs:\u001b[0m\n",
      "\u001b[0m\u001b[1m             - caller_location (1)\u001b[0m\n",
      "\u001b[0m\u001b[1m             - foreign function (1)\u001b[0m\n",
      "\u001b[0m\u001b[1m         \u001b[0m\n",
      "\u001b[0m\u001b[1m         Verification will fail if one or more of these constructs is reachable.\u001b[0m\n",
      "\u001b[0m\u001b[1m         See https://model-checking.github.io/kani/rust-feature-support.html for more details.\u001b[0m\n",
      "\n",
      "\u001b[0m\u001b[1m\u001b[33mwarning\u001b[0m\u001b[0m\u001b[1m: 1 warning emitted\u001b[0m\n",
      "\n",
      "Checking harness check_estimate_size...\n",
      "CBMC 5.95.1 (cbmc-5.95.1)\n",
      "CBMC version 5.95.1 (cbmc-5.95.1) 64-bit x86_64 linux\n",
      "Reading GOTO program from file /tmp/kanitest__RNvCsc693Q3hSBuS_8kanitest19check_estimate_size.out\n",
      "Generating GOTO Program\n",
      "Adding CPROVER library (x86_64)\n",
      "Removal of function pointers and virtual functions\n",
      "Generic Property Instrumentation\n",
      "Running with 16 object bits, 48 offset bits (user-specified)\n",
      "Starting Bounded Model Checking\n",
      "aborting path on assume(false) at file /tmp/kanitest.rs line 10 column 13 function estimate_size thread 0\n",
      "Runtime Symex: 0.0163615s\n",
      "size of program expression: 1401 steps\n",
      "slicing removed 821 assignments\n",
      "Generated 1 VCC(s), 1 remaining after simplification\n",
      "Runtime Postprocess Equation: 0.000340228s\n",
      "Passing problem to propositional reduction\n",
      "converting SSA\n",
      "Runtime Convert SSA: 0.0010901s\n",
      "Running propositional reduction\n",
      "Post-processing\n",
      "Runtime Post-process: 5.32e-06s\n",
      "Solving with CaDiCaL 1.7.2\n",
      "182 variables, 299 clauses\n",
      "SAT checker: instance is SATISFIABLE\n",
      "Runtime Solver: 4.2611e-05s\n",
      "Runtime decision procedure: 0.0011676s\n",
      "\n",
      "RESULTS:\n",
      "Check 1: estimate_size.assertion.1\n",
      "\t - Status: \u001b[31mFAILURE\u001b[0m\n",
      "\t - Description: \"Oh no, a failing corner case!\"\n",
      "\t - Location: ../../../../tmp/kanitest.rs:10:13 in function estimate_size\n",
      "\n",
      "\n",
      "SUMMARY:\n",
      " ** 1 of 1 failed\n",
      "Failed Checks: Oh no, a failing corner case!\n",
      " File: \"/tmp/kanitest.rs\", line 10, in estimate_size\n",
      "\n",
      "VERIFICATION:- \u001b[31mFAILED\u001b[0m\n",
      "Verification Time: 0.05377549s\n",
      "\n",
      "Summary:\n",
      "Verification failed for - check_estimate_size\n",
      "Complete - 0 successfully verified harnesses, 1 failures, 1 total.\n"
     ]
    }
   ],
   "source": [
    "! kani /tmp/kanitest.rs"
   ]
  },
  {
   "cell_type": "markdown",
   "metadata": {},
   "source": [
    "# Goto Instrument\n",
    "--dump-c\n",
    "--horn\n",
    "\n",
    "coutn effective lines of code? what does that mean\n",
    "--dot\n",
    "--interpreter\n",
    "\n",
    "--isr interrupts\n",
    "--mmio  memory-mapped io"
   ]
  },
  {
   "cell_type": "code",
   "execution_count": 1,
   "metadata": {},
   "outputs": [
    {
     "name": "stdout",
     "output_type": "stream",
     "text": [
      "\n",
      "* *       Goto-Instrument 5.95.1 (cbmc-5.95.1) 64-bit       * *\n",
      "* *                 Copyright (C) 2008-2013                 * *\n",
      "* *                     Daniel Kroening                     * *\n",
      "* *                  kroening@kroening.com                  * *\n",
      "\n",
      "Usage:                       Purpose:\n",
      "\n",
      " \u001b[1mgoto-instrument\u001b[m [\u001b[33m-?\u001b[m] [\u001b[33m-h\u001b[m] [\u001b[33m--help\u001b[m]  show this help\n",
      " \u001b[1mgoto-instrument\u001b[m \u001b[33m--version\u001b[m    show version and exit\n",
      " \u001b[1mgoto-instrument\u001b[m [options] \u001b[4min\u001b[m [\u001b[4mout\u001b[m]  perform analysis or instrumentation\n",
      "\n",
      "Dump Source:\n",
      " \u001b[33m--dump-c\u001b[m                     generate C source\n",
      " \u001b[33m--dump-c-type-header\u001b[m \u001b[4mm\u001b[m       generate a C header for types local in \u001b[4mm\u001b[m\n",
      " \u001b[33m--dump-cpp\u001b[m                   generate C++ source\n",
      " \u001b[33m--no-system-headers\u001b[m          generate C source expanding libc includes\n",
      " \u001b[33m--use-all-headers\u001b[m            generate C source with all includes\n",
      " \u001b[33m--harness\u001b[m                    include input generator in output\n",
      " \u001b[33m--horn\u001b[m                       print program as constrained horn clauses\n",
      "\n",
      "Diagnosis:\n",
      " \u001b[33m--show-properties\u001b[m            show the properties, but don't run analysis\n",
      " \u001b[33m--document-properties-html\u001b[m   generate HTML property documentation\n",
      " \u001b[33m--document-properties-latex\u001b[m  generate LaTeX property documentation\n",
      " \u001b[33m--show-symbol-table\u001b[m          show loaded symbol table\n",
      " \u001b[33m--list-symbols\u001b[m               list symbols with type information\n",
      " \u001b[33m--show-goto-functions\u001b[m        show loaded goto program\n",
      " \u001b[33m--list-goto-functions\u001b[m        list loaded goto functions\n",
      " \u001b[33m--count-eloc\u001b[m                 count effective lines of code\n",
      " \u001b[33m--list-eloc\u001b[m                  list full path names of lines containing code\n",
      " \u001b[33m--print-global-state-size\u001b[m    count the total number of bits of global objects\n",
      " \u001b[33m--print-path-lengths\u001b[m         print statistics about control-flow graph paths\n",
      " \u001b[33m--show-locations\u001b[m             show all source locations\n",
      " \u001b[33m--dot\u001b[m                        generate CFG graph in DOT format\n",
      " \u001b[33m--print-internal-representation\u001b[m  show verbose internal representation of the \n",
      "                              program\n",
      " \u001b[33m--list-undefined-functions\u001b[m   list functions without body\n",
      " \u001b[33m--list-calls-args\u001b[m            list all function calls with their arguments\n",
      " \u001b[33m--call-graph\u001b[m                 show graph of function calls\n",
      " \u001b[33m--reachable-call-graph\u001b[m       show graph of function calls potentially \n",
      "                              reachable from main function\n",
      " \u001b[33m--show-class-hierarchy\u001b[m       show the class hierarchy\n",
      " \u001b[33m--validate-goto-model\u001b[m        enable additional well-formedness checks on the \n",
      "                              goto program\n",
      " \u001b[33m--validate-ssa-equation\u001b[m      enable additional well-formedness checks on the \n",
      "                              SSA representation\n",
      " \u001b[33m--validate-goto-binary\u001b[m       check the well-formedness of the passed in goto \n",
      "                              binary and then exit\n",
      " \u001b[33m--interpreter\u001b[m                do concrete execution\n",
      "\n",
      "Data-flow analyses:\n",
      " \u001b[33m--show-struct-alignment\u001b[m      show struct members that might be concurrently \n",
      "                              accessed\n",
      " \u001b[33m--show-threaded\u001b[m              show instructions that may be executed by more \n",
      "                              than one thread\n",
      " \u001b[33m--show-local-safe-pointers\u001b[m   show pointer expressions that are trivially \n",
      "                              dominated by a not-null check\n",
      " \u001b[33m--show-safe-dereferences\u001b[m     show pointer expressions that are trivially \n",
      "                              dominated by a not-null check *and* used as a \n",
      "                              dereference operand\n",
      " \u001b[33m--show-value-sets\u001b[m            show points-to information (using value sets)\n",
      " \u001b[33m--show-global-may-alias\u001b[m      show may-alias information over globals\n",
      " \u001b[33m--show-local-bitvector-analysis\u001b[m  show procedure-local pointer analysis\n",
      " \u001b[33m--escape-analysis\u001b[m            perform escape analysis\n",
      " \u001b[33m--show-escape-analysis\u001b[m       show results of escape analysis\n",
      " \u001b[33m--custom-bitvector-analysis\u001b[m  perform configurable bitvector analysis\n",
      " \u001b[33m--show-custom-bitvector-analysis\u001b[m  show results of configurable bitvector \n",
      "                              analysis\n",
      " \u001b[33m--interval-analysis\u001b[m          perform interval analysis\n",
      " \u001b[33m--show-intervals\u001b[m             show results of interval analysis\n",
      " \u001b[33m--show-uninitialized\u001b[m         show maybe-uninitialized variables\n",
      " \u001b[33m--show-points-to\u001b[m             show points-to information\n",
      " \u001b[33m--show-rw-set\u001b[m                show read-write sets\n",
      " \u001b[33m--show-call-sequences\u001b[m        show function call sequences\n",
      " \u001b[33m--show-reaching-definitions\u001b[m  show reaching definitions\n",
      " \u001b[33m--show-dependence-graph\u001b[m      show program-dependence graph\n",
      " \u001b[33m--show-sese-regions\u001b[m          show single-entry-single-exit regions\n",
      "\n",
      "Safety checks:\n",
      " \u001b[33m--no-assertions\u001b[m              ignore user assertions\n",
      " \u001b[33m--bounds-check\u001b[m               enable array bounds checks\n",
      " \u001b[33m--pointer-check\u001b[m              enable pointer checks\n",
      " \u001b[33m--memory-leak-check\u001b[m          enable memory leak checks\n",
      " \u001b[33m--memory-cleanup-check\u001b[m       enable memory cleanup checks\n",
      " \u001b[33m--div-by-zero-check\u001b[m          enable division by zero checks\n",
      " \u001b[33m--signed-overflow-check\u001b[m      enable signed arithmetic over- and underflow \n",
      "                              checks\n",
      " \u001b[33m--unsigned-overflow-check\u001b[m    enable arithmetic over- and underflow checks\n",
      " \u001b[33m--pointer-overflow-check\u001b[m     enable pointer arithmetic over- and underflow \n",
      "                              checks\n",
      " \u001b[33m--conversion-check\u001b[m           check whether values can be represented after \n",
      "                              type cast\n",
      " \u001b[33m--undefined-shift-check\u001b[m      check shift greater than bit-width\n",
      " \u001b[33m--float-overflow-check\u001b[m       check floating-point for +/-Inf\n",
      " \u001b[33m--nan-check\u001b[m                  check floating-point for NaN\n",
      " \u001b[33m--enum-range-check\u001b[m           checks that all enum type expressions have values \n",
      "                              in the enum range\n",
      " \u001b[33m--pointer-primitive-check\u001b[m    checks that all pointers in pointer primitives \n",
      "                              are valid or null\n",
      " \u001b[33m--retain-trivial-checks\u001b[m      include checks that are trivially true\n",
      " \u001b[33m--error-label\u001b[m \u001b[4mlabel\u001b[m          check that label \u001b[4mlabel\u001b[m is unreachable\n",
      " \u001b[33m--no-built-in-assertions\u001b[m     ignore assertions in built-in library\n",
      " \u001b[33m--no-assertions\u001b[m              ignore user assertions\n",
      " \u001b[33m--no-assumptions\u001b[m             ignore user assumptions\n",
      " \u001b[33m--assert-to-assume\u001b[m           convert user assertions to assumptions\n",
      " \u001b[33m--uninitialized-check\u001b[m        add checks for uninitialized locals (experimental)\n",
      " \u001b[33m--stack-depth\u001b[m \u001b[4mn\u001b[m              add check that call stack size of non-inlined \n",
      "                              functions never exceeds \u001b[4mn\u001b[m\n",
      " \u001b[33m--race-check\u001b[m                 add floating-point data race checks\n",
      "\n",
      "Semantic transformations:\n",
      " \u001b[33m--nondet-volatile\u001b[m            makes reads from volatile variables \n",
      "                              non-deterministic\n",
      " \u001b[33m--nondet-volatile-variable\u001b[m \u001b[4mvariable\u001b[m  makes reads from given volatile variable \n",
      "                              non-deterministic\n",
      " \u001b[33m--nondet-volatile-model\u001b[m \u001b[4mvariable\u001b[m:\u001b[4mmodel\u001b[m  models reads from given volatile \n",
      "                              variable by a call to the given model\n",
      " \u001b[33m--isr\u001b[m \u001b[4mfunction\u001b[m               instruments an interrupt service routine\n",
      " \u001b[33m--mmio\u001b[m                       instruments memory-mapped I/O\n",
      " \u001b[33m--nondet-static\u001b[m              add nondeterministic initialization of variables \n",
      "                              with static lifetime\n",
      " \u001b[33m--nondet-static-exclude\u001b[m \u001b[4me\u001b[m    same as nondet-static except for the variable \u001b[4me\u001b[m \n",
      "                              (use multiple times if required)\n",
      " \u001b[33m--nondet-static-matching\u001b[m \u001b[4mr\u001b[m   add nondeterministic initialization of variables \n",
      "                              with static lifetime matching regex \u001b[4mr\u001b[m\n",
      " \u001b[33m--function-enter\u001b[m \u001b[4mf\u001b[m, \u001b[33m--function-exit\u001b[m \u001b[4mf\u001b[m, \u001b[33m--branch\u001b[m \u001b[4mf\u001b[m  instruments a call to \u001b[4mf\u001b[m at \n",
      "                              the beginning, the exit, or a branch point, \n",
      "                              respectively\n",
      " \u001b[33m--splice-call\u001b[m \u001b[4mcaller\u001b[m,\u001b[4mcallee\u001b[m  prepends a call to \u001b[4mcallee\u001b[m in the body of \u001b[4mcaller\u001b[m\n",
      " \u001b[33m--check-call-sequence\u001b[m \u001b[4mseq\u001b[m    instruments checks to assert that all call \n",
      "                              sequences match \u001b[4mseq\u001b[m\n",
      " \u001b[33m--undefined-function-is-assume-false\u001b[m  convert each call to an undefined \n",
      "                              function to assume(false)\n",
      " \u001b[33m--insert-final-assert-false\u001b[m \u001b[4mfunction\u001b[m  generate assert(false) at end of \n",
      "                              function \u001b[4mfunction\u001b[m\n",
      " \u001b[33m--generate-function-body\u001b[m \u001b[4mregex\u001b[m  generate bodies for functions matching \u001b[4mregex\u001b[m\n",
      " \u001b[33m--generate-havocing-body\u001b[m <option> \u001b[4mfun_name\u001b[m,\u001b[33mparams\u001b[m:\u001b[4mp1\u001b[m;\u001b[4mp2\u001b[m;..  generate havocing \n",
      "                              body\n",
      " \u001b[33m--generate-havocing-body\u001b[m <option> \u001b[4mfun_name\u001b[m[,\u001b[4mcall-site-id\u001b[m,\u001b[33mparams\u001b[m:\u001b[4mp1\u001b[m;\u001b[4mp2\u001b[m;..]+  \n",
      "                              generate havocing body\n",
      " \u001b[33m--generate-function-body-options\u001b[m \u001b[4moption\u001b[m  One of \u001b[33massert-false\u001b[m, \u001b[33massume-false\u001b[m, \u001b[33m\n",
      "                              nondet-return\u001b[m, \u001b[33massert-false-assume-false\u001b[m and \u001b[33mhavoc\u001b[m\n",
      "                              [,\u001b[33mparams\u001b[m:\u001b[4mregex\u001b[m][,\u001b[33mglobals\u001b[m:\u001b[4mregex\u001b[m][,\u001b[33mparams\u001b[m:\u001b[4mp1\u001b[m;\u001b[4mp2\u001b[m;..] \n",
      "                              (default: \u001b[33mnondet-return\u001b[m)\n",
      " \u001b[33m--restrict-function-pointer\u001b[m \u001b[4mpointer_name\u001b[m/\u001b[4mtarget[,targets]*\u001b[m  restrict a \n",
      "                              function pointer to a set of possible targets; \n",
      "                              targets must all exist in the symbol table with a \n",
      "                              matching type; works for globals and function \n",
      "                              parameters right now\n",
      " \u001b[33m--function-pointer-restrictions-file\u001b[m \u001b[4mfile_name\u001b[m  add function pointer \n",
      "                              restrictions from file \u001b[4mfile_name\u001b[m\n",
      " \u001b[33m--restrict-function-pointer-by-name\u001b[m \u001b[4msymbol_name\u001b[m/\u001b[4mtarget[targets]*\u001b[m  restrict a \n",
      "                              function pointer where \u001b[4msymbol_name\u001b[m is the \n",
      "                              unmangled name, before labelling function pointers\n",
      " \u001b[33m--remove-calls-no-body\u001b[m       remove calls to functions without a body\n",
      " \u001b[33m--add-library\u001b[m                add models of C library functions\n",
      " \u001b[33m--malloc-may-fail\u001b[m            allow malloc calls to return a null pointer\n",
      " \u001b[33m--malloc-fail-assert\u001b[m         set malloc failure mode to assert-then-assume\n",
      " \u001b[33m--malloc-fail-null\u001b[m           set malloc failure mode to return null\n",
      " \u001b[33m--string-abstraction\u001b[m         track C string lengths and zero-termination\n",
      " \u001b[33m--model-argc-argv\u001b[m \u001b[4mn\u001b[m          model up to \u001b[4mn\u001b[m command line arguments\n",
      " \u001b[33m--remove-function-body\u001b[m \u001b[4mf\u001b[m remove the implementation of function \u001b[4mf\u001b[m (may be repeated)\n",
      " \u001b[33m--replace-calls\u001b[m \u001b[4mf\u001b[m:\u001b[4mg\u001b[m          replace calls to \u001b[4mf\u001b[m with calls to \u001b[4mg\u001b[m\n",
      " \u001b[33m--max-nondet-tree-depth\u001b[m \u001b[4mN\u001b[m    limit size of nondet (e.g. input) object tree; at \n",
      "                              level \u001b[4mN\u001b[m pointers are set to null\n",
      " \u001b[33m--min-null-tree-depth\u001b[m \u001b[4mN\u001b[m      minimum level at which a pointer can first be \n",
      "                              NULL in a recursively nondet initialized struct\n",
      "\n",
      "Semantics-preserving transformations:\n",
      " \u001b[33m--ensure-one-backedge-per-target\u001b[m  transform loop bodies such that there is a \n",
      "                              single edge back to the loop head\n",
      " \u001b[33m--drop-unused-functions\u001b[m      drop functions trivially unreachable from main \n",
      "                              function\n",
      " \u001b[33m--remove-pointers\u001b[m            converts pointer arithmetic to base+offset \n",
      "                              expressions\n",
      " \u001b[33m--constant-propagator\u001b[m        propagate constants and simplify expressions\n",
      " \u001b[33m--inline\u001b[m                     perform full inlining\n",
      " \u001b[33m--partial-inline\u001b[m             perform partial inlining\n",
      " \u001b[33m--function-inline\u001b[m \u001b[4mfunction\u001b[m   transitively inline all calls \u001b[4mfunction\u001b[m makes\n",
      " \u001b[33m--no-caching\u001b[m                 disable caching of intermediate results during \n",
      "                              transitive function inlining\n",
      " \u001b[33m--log\u001b[m \u001b[4mfile\u001b[m                   log in JSON format which code segments were \n",
      "                              inlined, use with \u001b[33m--function-inline\u001b[m\n",
      " \u001b[33m--remove-function-pointers\u001b[m   replace function pointers by case statement over \n",
      "                              function calls\n",
      " \u001b[33m--remove-const-function-pointers\u001b[m  remove function pointers that are constant \n",
      "                              or constant part of an array\n",
      " \u001b[33m--value-set-fi-fp-removal\u001b[m    build flow-insensitive value set and replace \n",
      "                              function pointers by a case statement over the \n",
      "                              possible assignments. If the set of possible \n",
      "                              assignments is empty the function pointer is \n",
      "                              removed using the standard \n",
      "                              remove-function-pointers pass.\n",
      "\n",
      "Loop information and transformations:\n",
      " \u001b[33m--show-loops\u001b[m                 show the loops in the program\n",
      " \u001b[33m--unwind\u001b[m \u001b[4mnr\u001b[m                  unwind loops \u001b[4mnr\u001b[m times\n",
      " \u001b[33m--unwindset\u001b[m [\u001b[4mT\u001b[m\u001b[33m:\u001b[m]\u001b[4mL\u001b[m\u001b[33m:\u001b[m\u001b[4mB\u001b[m,...      unwind loop \u001b[4mL\u001b[m with a bound of \u001b[4mB\u001b[m (optionally \n",
      "                              restricted to thread \u001b[4mT\u001b[m) (use \u001b[33m--show-loops\u001b[m to get \n",
      "                              the loop IDs)\n",
      " \u001b[33m--unwindset-file_<file>\u001b[m      read unwindset from file\n",
      " \u001b[33m--partial-loops\u001b[m              permit paths with partial loops\n",
      " \u001b[33m--unwinding-assertions\u001b[m       generate unwinding assertions\n",
      " \u001b[33m--continue-as-loops\u001b[m          add loop for remaining iterations after unwound \n",
      "                              part\n",
      " \u001b[33m--k-induction\u001b[m \u001b[4mk\u001b[m              check loops with k-induction\n",
      " \u001b[33m--step-case\u001b[m                  k-induction: do step-case\n",
      " \u001b[33m--base-case\u001b[m                  k-induction: do base-case\n",
      " \u001b[33m--havoc-loops\u001b[m                over-approximate all loops\n",
      " \u001b[33m--accelerate\u001b[m                 add loop accelerators\n",
      " \u001b[33m--z3\u001b[m                         use Z3 when computing loop accelerators\n",
      " \u001b[33m--skip-loops {uloop-ids\u001b[m      add gotos to skip selected loops during execution\n",
      " \u001b[33m--show-lexical-loops\u001b[m         show single-entry-single-back-edge loops\n",
      " \u001b[33m--show-natural-loops\u001b[m         show natural loop heads\n",
      "\n",
      "Memory model instrumentations:\n",
      " \u001b[33m--mm\u001b[m [\u001b[33mtso\u001b[m|\u001b[33mpso\u001b[m|\u001b[33mrmo\u001b[m|\u001b[33mpower\u001b[m]     instruments a weak memory model\n",
      " \u001b[33m--scc\u001b[m                        detects critical cycles per SCC (one thread per \n",
      "                              SCC)\n",
      " \u001b[33m--one-event-per-cycle\u001b[m        only instruments one event per cycle\n",
      " \u001b[33m--minimum-interference\u001b[m       instruments an optimal number of events\n",
      " \u001b[33m--my-events\u001b[m                  only instruments events whose ids appear in \n",
      "                              inst.evt\n",
      " \u001b[33m--read-first\u001b[m, \u001b[33m--write-first\u001b[m  only instrument cycles where a read or write \n",
      "                              occurs as first event, respectively\n",
      " \u001b[33m--max-var\u001b[m \u001b[4mN\u001b[m                  limit cycles to \u001b[4mN\u001b[m variables read/written\n",
      " \u001b[33m--max-po-trans\u001b[m \u001b[4mN\u001b[m             limit cycles to \u001b[4mN\u001b[m program-order edges\n",
      " \u001b[33m--ignore-arrays\u001b[m              instrument arrays as a single object\n",
      " \u001b[33m--cav11\u001b[m                      always instrument shared variables, even when \n",
      "                              they are not part of any cycle\n",
      " \u001b[33m--force-loop-duplication\u001b[m, \u001b[33m--no-loop-duplication\u001b[m  optional program \n",
      "                              transformation to construct cycles in program \n",
      "                              loops\n",
      " \u001b[33m--cfg-kill\u001b[m                   enables symbolic execution used to reduce \n",
      "                              spurious cycles\n",
      " \u001b[33m--no-dependencies\u001b[m            no dependency analysis\n",
      " \u001b[33m--no-po-rendering\u001b[m            no representation of the threads in the dot\n",
      " \u001b[33m--hide-internals\u001b[m             do not include thread-internal (Rfi) events in \n",
      "                              dot output\n",
      " \u001b[33m--render-cluster-file\u001b[m        clusterises the dot by files\n",
      " \u001b[33m--render-cluster-function\u001b[m    clusterises the dot by functions\n",
      "\n",
      "Slicing:\n",
      " \u001b[33m--reachability-slice-fb\u001b[m      remove instructions that cannot appear on a trace \n",
      "                              from entry point through a property\n",
      " \u001b[33m--fp-reachability-slice\u001b[m \u001b[4mf\u001b[m    remove instructions that cannot appear on a trace \n",
      "                              that visits all given functions. The list of \n",
      "                              functions has to be given as a comma separated \n",
      "                              list \u001b[4mf\u001b[m.\n",
      " \u001b[33m--reachability-slice\u001b[m         remove instructions that cannot appear on a trace \n",
      "                              from entry point to a property\n",
      " \u001b[33m--full-slice\u001b[m                 slice away instructions that don't affect \n",
      "                              assertions\n",
      " \u001b[33m--property\u001b[m \u001b[4mid\u001b[m                slice with respect to specific property only\n",
      " \u001b[33m--slice-global-inits\u001b[m         slice away initializations of unused global \n",
      "                              variables\n",
      " \u001b[33m--aggressive-slice\u001b[m           remove bodies of any functions not on the \n",
      "                              shortest path between the start function and the \n",
      "                              function containing the property/properties\n",
      " \u001b[33m--aggressive-slice-call-depth\u001b[m \u001b[4mn\u001b[m  used with aggressive-slice, preserves all \n",
      "                              functions within \u001b[4mn\u001b[m function calls of the \n",
      "                              functions on the shortest path\n",
      " \u001b[33m--aggressive-slice-preserve-function\u001b[m \u001b[4mf\u001b[m  force the aggressive slicer to \n",
      "                              preserve function \u001b[4mf\u001b[m\n",
      " \u001b[33m--aggressive-slice-preserve-functions-containing\u001b[m \u001b[4mf\u001b[m  force the aggressive \n",
      "                              slicer to preserve all functions with names \n",
      "                              containing \u001b[4mf\u001b[m\n",
      " \u001b[33m--aggressive-slice-preserve-all-direct-paths\u001b[m  force aggressive slicer to \n",
      "                              preserve all direct paths\n",
      "\n",
      "Code contracts:\n",
      " \u001b[33m--dfcc\u001b[m \u001b[4mharness\u001b[m               activate dynamic frame condition checking for \n",
      "                              contracts using the given harness as entry point\n",
      " \u001b[33m--apply-loop-contracts\u001b[m       check and use loop contracts when provided\n",
      " \u001b[33m--loop-contracts-no-unwind\u001b[m   do not unwind transformed loops\n",
      " \u001b[33m--loop-contracts-file\u001b[m \u001b[4mfile\u001b[m   parse and annotate loop contracts from files\n",
      " \u001b[33m--replace-call-with-contract\u001b[m \u001b[4mfunction\u001b[m[/\u001b[4mcontract\u001b[m]  replace calls to \u001b[4mfunction\u001b[m \n",
      "                              with \u001b[4mcontract\u001b[m\n",
      " \u001b[33m--enforce-contract\u001b[m \u001b[4mfunction\u001b[m[/\u001b[4mcontract\u001b[m]  wrap function with an assertion of \n",
      "                              contract\n",
      " \u001b[33m--enforce-contract-rec\u001b[m \u001b[4mfunction\u001b[m[\u001b[33m/\u001b[m\u001b[4mcontract\u001b[m]  wrap \u001b[4mfunction\u001b[m with an assertion of \n",
      "                              the contract and assume recursive calls to \u001b[4m\n",
      "                              function\u001b[m satisfy the contract\n",
      "\n",
      "User-interface options:\n",
      " \u001b[33m--flush\u001b[m                      flush every line of output\n",
      " \u001b[33m--xml\u001b[m                        output files in XML where supported\n",
      " \u001b[33m--xml-ui\u001b[m                     use XML-formatted output\n",
      " \u001b[33m--json-ui\u001b[m                    use JSON-formatted output\n",
      " \u001b[33m--verbosity\u001b[m \u001b[4m#\u001b[m                verbosity level\n",
      " \u001b[33m--timestamp\u001b[m [\u001b[33mmonotonic\u001b[m|\u001b[33mwall\u001b[m]  print microsecond-precision timestamps. \u001b[33mmonotonic\u001b[m\n",
      "                              : stamps increase monotonically. \u001b[33mwall\u001b[m: ISO-8601 \n",
      "                              wall clock timestamps.\n",
      "\n"
     ]
    }
   ],
   "source": [
    "! goto-instrument --help"
   ]
  },
  {
   "cell_type": "markdown",
   "metadata": {},
   "source": [
    "# Float\n",
    "\n",
    "# Floating Point\n",
    "\n",
    "# Other C tooling\n",
    "Frama-C\n",
    "\n",
    "What I have in the first tutorial is pretty good.\n",
    "Download cbmc 6\n",
    "\n",
    "Look into floating point stuff at the same time?\n",
    "Simpler?\n",
    "PID\n",
    "Kalman\n",
    "Kepler / Baylonian\n",
    "\n",
    "https://haslab.github.io/MFES/2122/CBMCexamples-handout.pdf\n",
    "\n",
    "This is an interesting file. They replace assume with forms of __builtin_unreachable. What does gcc do with that? Does that enhance optimizations?\n",
    "https://github.com/awslabs/aws-c-common/blob/main/include/aws/common/assert.h \n",
    "```\n",
    "\n",
    "\n",
    "```\n",
    "\n",
    "cross product.\n",
    "abs\n",
    "add\n",
    "rotation\n",
    "quaternion\n",
    "\n",
    "knuckledragger?\n",
    "\n",
    "halide?\n",
    "Something image?\n",
    "\n"
   ]
  },
  {
   "cell_type": "code",
   "execution_count": null,
   "metadata": {},
   "outputs": [],
   "source": [
    "%%file /tmp/vec2.c\n",
    "\n",
    "#include <assert.h>\n",
    "#include <math.h>\n",
    "float dot_f(float[2] a, float[2]b) {\n",
    "    return a[0]*b[0] + a[1]*b[1];\n",
    "}\n",
    "\n",
    "double dot_d(double[2] a, double[2]b) {\n",
    "    return a[0]*b[0] + a[1]*b[1];\n",
    "}\n",
    "\n",
    "int main(){\n",
    "    float a[2],b[2];\n",
    "    double a1[2] = {a[0], a[1]};\n",
    "    double b1[2] = {b[0], b[1]};\n",
    "    float res1 = dot_f(a,b);\n",
    "    double res2 = dot_d(a1,b1);\n",
    "    assert(res1 >= res2 - 1e-6 && res1 <= res2 + 1e-6); \n",
    "    return 0;\n",
    "}"
   ]
  },
  {
   "cell_type": "markdown",
   "metadata": {},
   "source": [
    "## Kalman\n",
    "\n",
    "Kalman filters are a methdology for estimating state in the presence of noisy measurements and noisy dynamics.\n",
    "\n",
    "You can take an optimization function / curve fitting perspective or a bayesian persepctive.\n",
    "\n",
    "The curve fitting persepctive is to optimize a state that best fits the prior know dynamics and observations\n",
    "\n",
    "\n",
    "There are both continuous and discrete time kalman filters.\n",
    "\n",
    "There are also extdned kalman filters which locally and iteratively approximate the dynamics with linear approximations.\n",
    "\n",
    "A ball and spring\n",
    "$\\dot{x} = v$\n",
    "$m \\dot{v} = -x$\n",
    "\n",
    "$ x_{t+1} = Ax_{t} + \\epsilon$\n",
    "$ o_{t} = Bx + \\delta$\n",
    "\n",
    "$ f(x_{t+1} - (Ax_{t} + \\epsilon ) ) + g(o_{t} - Bx + \\delta) + h(\\epsilon) + k(\\delta)$\n",
    "\n",
    "$ f(x) = x^2$\n",
    "\n",
    "Or flip the dynamics into a constraint, whatever floats your boat. A common method of solving constraints is the barrier method though, so it all is kind of the same thing.\n",
    "\n",
    "\n",
    "The online character.\n",
    "Solving these equations involves linear algebra. But the next timestep isn't that different of a problem.\n",
    "This csan be done as a low rank update.\n",
    "\n",
    "\n",
    "What is the point of verifying a kalman filter?\n",
    "\n",
    "- The reals are a delusion. Since the parameters of te kalman filter are measured or inferred by tweaking and tuning, the exact mathemtical model isn't that relevant. It is concrete and well defined though, which is tantalizing as a verifier stunt. \n",
    "- We really don't want runtime errors liek div 0 or loop windup or overflow. Those are alarming and bad\n",
    "- We do sometimes tune and test something at one precision and want to switch to another kind of precision for all sorts of reasons. Or similarly, swap out the CPU or move to/from an fpga. Confirming that the logical behavior is identical to whatever it was before is a failry well defined question and a useful one.\n",
    "- It is good to know the robot never goes into the lava (unless it's a lava robot, in which case its good to know it does go into the lava).\n",
    "\n",
    "\n",
    "Tabina verified radart imaging\n",
    "\n",
    "PID controllers.\n",
    "\n",
    "PID controllers are perversely effective.\n",
    "\n",
    "\n",
    "https://github.com/search?q=kalman&type=repositories\n",
    "https://github.com/TKJElectronics/KalmanFilter http://blog.tkjelectronics.dk/2012/09/a-practical-approach-to-kalman-filter-and-how-to-implement-it\n",
    "https://github.com/rlabbe/Kalman-and-Bayesian-Filters-in-Python\n",
    "https://github.com/mherb/kalman"
   ]
  },
  {
   "cell_type": "markdown",
   "metadata": {},
   "source": [
    "## Frama C\n"
   ]
  },
  {
   "cell_type": "code",
   "execution_count": null,
   "metadata": {},
   "outputs": [],
   "source": [
    "%%bash\n",
    "opam install frama-c\n",
    "why3 config detect"
   ]
  },
  {
   "cell_type": "markdown",
   "metadata": {},
   "source": [
    "I consider Frama-C to be the big dog in the room when it comes to C verification.\n",
    "\n",
    "mlcfg + pcode?\n",
    "\n",
    "https://frama-c.com/2022/11/16/supertest-solidsands.html This was already the case with NIST’s Juliet C/C++ testsuite, [J. Moerman’s 2018 bachelor’s thesis test suite (JM2018TS)(https://github.com/JMoerman/JM2018TS), TrailOfBits’ version of the DARPA Challenge Binaries, \n",
    "\n",
    "https://en.wikipedia.org/wiki/Frama-C\n",
    "\n",
    "- eva evolved value analysis https://frama-c.com/fc-plugins/eva.html\n",
    "- wp\n",
    "- jessie - old. kind of replaced by wp?\n",
    "- e-acsl - adds runtime assertions\n",
    "- Pathcraewler - https://frama-c.com/fc-plugins/pathcrawler.html generate unit tests. proprietary\n",
    "\n",
    "- rte - runtime error detection. preprocessor to wp or e-acsl\n",
    "- ltl properties https://frama-c.com/fc-plugins/aorai.html\n",
    "- https://frama-c.com/fc-plugins/metrics-calculation.html metrics. cyclomatic, yuck. but eva coverage ok\n",
    "- https://frama-c.com/fc-plugins/instantiate.html specialize function signatures?\n",
    "- constant folding + useless code elimination. A frameowrk for partial eval?\n",
    "\n",
    "eva is probably the most scalable thing?\n",
    "\n",
    "invariant inference?\n",
    "\n",
    "https://www.sciencedirect.com/science/article/pii/S0167642314001671 Verification of the functional behavior of a\n",
    "floating-point program: An industrial case study"
   ]
  },
  {
   "cell_type": "code",
   "execution_count": null,
   "metadata": {},
   "outputs": [],
   "source": [
    "%%file /tmp/quat.c\n",
    "typedef double quat[4];\n",
    "\n",
    "/// copy of a quaternion\n",
    "void Quat_copy(const quat src,quat dst) {\n",
    "    dst[0] = src[0];\n",
    "    dst[1] = src[1];\n",
    "    dst[2] = src[2];\n",
    "    dst[3] = src[3];\n",
    "}\n",
    "\n",
    "/// multiplication of quaternions\n",
    "void Quat_prod(const quat q1, const quat q2, quat q) {\n",
    "    q[0] = q1[0]*q2[0] - q1[1]*q2[1] - q1[2]*q2[2] - q1[3]*q2[3];\n",
    "    q[1] = q1[0]*q2[1] + q1[1]*q2[0] + q1[2]*q2[3] - q1[3]*q2[2];\n",
    "    q[2] = q1[0]*q2[2] - q1[1]*q2[3] + q1[2]*q2[0] + q1[3]*q2[1];\n",
    "    q[3] = q1[0]*q2[3] + q1[1]*q2[2] - q1[2]*q2[1] + q1[3]*q2[0];\n",
    "}\n",
    "\n",
    "/// returns a random quaternion of norm 1\n",
    "void random_unit_quat(quat q);\n",
    "\n",
    "/// repeated multiplication of quaternions of norm 1\n",
    "int test1(void) {\n",
    "    quat current, next, incr;\n",
    "    random_unit_quat(current);\n",
    "    while (1) {\n",
    "        random_unit_quat(incr);\n",
    "        Quat_prod(current,incr,next);\n",
    "        Quat_copy(next,current);\n",
    "    }\n",
    "    return 0;\n",
    "}"
   ]
  },
  {
   "cell_type": "code",
   "execution_count": null,
   "metadata": {},
   "outputs": [],
   "source": [
    "%%file /tmp/frama1.c\n",
    "\n",
    "#include <stdio.h>\n",
    "int main() {\n",
    "    int a = 1;\n",
    "    int b = 2;\n",
    "    int c = a + b;\n",
    "    printf(\"%d\\n\", c);\n",
    "    return 0;\n",
    "}"
   ]
  },
  {
   "cell_type": "code",
   "execution_count": null,
   "metadata": {},
   "outputs": [],
   "source": [
    "! frama-c -eva /tmp/frama1.c"
   ]
  },
  {
   "cell_type": "code",
   "execution_count": null,
   "metadata": {},
   "outputs": [],
   "source": [
    "%%file /tmp/frama2.c\n",
    "// from https://frama-c.com/fc-plugins/eva.html\n",
    "int abs(int x) {\n",
    "  if (x < 0) return -x;\n",
    "  else return x;\n",
    "}"
   ]
  },
  {
   "cell_type": "code",
   "execution_count": null,
   "metadata": {},
   "outputs": [],
   "source": [
    "! frama-c -eva /tmp/frama2.c -main abs "
   ]
  },
  {
   "cell_type": "code",
   "execution_count": null,
   "metadata": {},
   "outputs": [],
   "source": [
    "%%file /tmp/ex1.c\n",
    "#include <assert.h>\n",
    "int main(){\n",
    "    int x;\n",
    "    if (x <= 42){\n",
    "            assert(x != 12345);\n",
    "    }\n",
    "}"
   ]
  },
  {
   "cell_type": "code",
   "execution_count": null,
   "metadata": {},
   "outputs": [],
   "source": [
    "! frama-c -eva /tmp/ex1.c"
   ]
  },
  {
   "cell_type": "code",
   "execution_count": null,
   "metadata": {},
   "outputs": [],
   "source": [
    "! frama-c -wp -wp-rte /tmp/frama1.c"
   ]
  },
  {
   "cell_type": "code",
   "execution_count": null,
   "metadata": {},
   "outputs": [],
   "source": [
    "! frama-c -plugins"
   ]
  },
  {
   "cell_type": "markdown",
   "metadata": {},
   "source": [
    "# Worst Case Execution Time\n",
    "https://www.cprover.org/cbmc/applications/\n"
   ]
  },
  {
   "cell_type": "code",
   "execution_count": 46,
   "metadata": {},
   "outputs": [
    {
     "name": "stdout",
     "output_type": "stream",
     "text": [
      "Overwriting /tmp/tick.c\n"
     ]
    }
   ],
   "source": [
    "%%file /tmp/tick.c\n",
    "#define TICK(N) (_time += N)\n",
    "\n",
    "int _time = 0;\n",
    "\n",
    "void frobulate();\n",
    "\n",
    "int main() {\n",
    "    TICK(1);\n",
    "    TICK(2);\n",
    "    for (int i = 0; i < 10; i++) {\n",
    "        frobulate();\n",
    "        TICK(1);\n",
    "    }\n",
    "    assert(_time <= 10);\n",
    "}\n"
   ]
  },
  {
   "cell_type": "code",
   "execution_count": 47,
   "metadata": {},
   "outputs": [
    {
     "name": "stdout",
     "output_type": "stream",
     "text": [
      "CBMC version 5.95.1 (cbmc-5.95.1) 64-bit x86_64 linux\n",
      "Parsing /tmp/tick.c\n",
      "Converting\n",
      "Type-checking tick\n",
      "file /tmp/tick.c line 14 function main: function 'assert' is not declared\n",
      "Generating GOTO Program\n",
      "Adding CPROVER library (x86_64)\n",
      "Removal of function pointers and virtual functions\n",
      "Generic Property Instrumentation\n",
      "Running with 8 object bits, 56 offset bits (default)\n",
      "Starting Bounded Model Checking\n",
      "**** WARNING: no body for function frobulate\n",
      "Unwinding loop main.0 iteration 1 file /tmp/tick.c line 10 function main thread 0\n",
      "Unwinding loop main.0 iteration 2 file /tmp/tick.c line 10 function main thread 0\n",
      "Unwinding loop main.0 iteration 3 file /tmp/tick.c line 10 function main thread 0\n",
      "Unwinding loop main.0 iteration 4 file /tmp/tick.c line 10 function main thread 0\n",
      "Unwinding loop main.0 iteration 5 file /tmp/tick.c line 10 function main thread 0\n",
      "Unwinding loop main.0 iteration 6 file /tmp/tick.c line 10 function main thread 0\n",
      "Unwinding loop main.0 iteration 7 file /tmp/tick.c line 10 function main thread 0\n",
      "Unwinding loop main.0 iteration 8 file /tmp/tick.c line 10 function main thread 0\n",
      "Unwinding loop main.0 iteration 9 file /tmp/tick.c line 10 function main thread 0\n",
      "Unwinding loop main.0 iteration 10 file /tmp/tick.c line 10 function main thread 0\n",
      "Runtime Symex: 0.000699892s\n",
      "size of program expression: 109 steps\n",
      "simple slicing removed 5 assignments\n",
      "Generated 1 VCC(s), 1 remaining after simplification\n",
      "Runtime Postprocess Equation: 1.3035e-05s\n",
      "Passing problem to propositional reduction\n",
      "converting SSA\n",
      "Runtime Convert SSA: 0.000685024s\n",
      "Running propositional reduction\n",
      "Post-processing\n",
      "Runtime Post-process: 6.012e-06s\n",
      "Solving with MiniSAT 2.2.1 with simplifier\n",
      "32 variables, 0 clauses\n",
      "SAT checker: instance is SATISFIABLE\n",
      "Runtime Solver: 3.0598e-05s\n",
      "Runtime decision procedure: 0.00110158s\n",
      "\n",
      "** Results:\n",
      "/tmp/tick.c function main\n",
      "\u001b[2m[main.assertion.1] \u001b[0mline 14 assertion _time <= 10: \u001b[31mFAILURE\u001b[0m\n",
      "\n",
      "** 1 of 1 failed (2 iterations)\n",
      "VERIFICATION FAILED\n"
     ]
    }
   ],
   "source": [
    "! cbmc /tmp/tick.c"
   ]
  },
  {
   "cell_type": "code",
   "execution_count": 40,
   "metadata": {},
   "outputs": [
    {
     "name": "stdout",
     "output_type": "stream",
     "text": [
      "Overwriting /tmp/vect3.cpp\n"
     ]
    }
   ],
   "source": [
    "%%file /tmp/vect3.cpp\n",
    "#include <iostream>\n",
    "#include <cmath>\n",
    "\n",
    "class Vector3 {\n",
    "public:\n",
    "    float x, y, z;\n",
    "\n",
    "    // Constructors\n",
    "    Vector3() : x(0), y(0), z(0) {}\n",
    "    Vector3(float x, float y, float z) : x(x), y(y), z(z) {}\n",
    "\n",
    "    // Vector addition\n",
    "    Vector3 operator+(const Vector3& other) const {\n",
    "        return Vector3(x + other.x, y + other.y, z + other.z);\n",
    "    }\n",
    "    \n",
    "};\n",
    "\n",
    "int main(){\n",
    "    Vector3 a(1, 2, 3);\n",
    "    Vector3 b(4, 5, 6);\n",
    "    Vector3 c = a + b;\n",
    "    std::cout << c.x << \" \" << c.y << \" \" << c.z << std::endl;\n",
    "    return 0;\n",
    "}"
   ]
  },
  {
   "cell_type": "code",
   "execution_count": 41,
   "metadata": {},
   "outputs": [
    {
     "name": "stdout",
     "output_type": "stream",
     "text": [
      "ESBMC version 7.5.0 64-bit x86_64 linux\n",
      "Target: 64-bit little-endian x86_64-unknown-linux with esbmclibc\n",
      "Parsing /tmp/vect3.cpp\n",
      "Converting\n"
     ]
    },
    {
     "name": "stdout",
     "output_type": "stream",
     "text": [
      "Generating GOTO Program\n",
      "GOTO program creation time: 0.329s\n",
      "GOTO program processing time: 0.010s\n",
      "Starting Bounded Model Checking\n",
      "Symex completed in: 0.004s (216 assignments)\n",
      "Slicing time: 0.000s (removed 216 assignments)\n",
      "Generated 54 VCC(s), 0 remaining after simplification (0 assignments)\n",
      "BMC program time: 0.004s\n",
      "\n",
      "VERIFICATION SUCCESSFUL\n"
     ]
    }
   ],
   "source": [
    "!esbmc /tmp/vect3.cpp --unwind 4"
   ]
  },
  {
   "cell_type": "code",
   "execution_count": 34,
   "metadata": {},
   "outputs": [
    {
     "name": "stdout",
     "output_type": "stream",
     "text": [
      "Overwriting /tmp/cpptest.cpp\n"
     ]
    }
   ],
   "source": [
    "%%file /tmp/cpptest.cpp\n",
    "\n",
    "//#include <iostream>\n",
    "//#include <cmath>\n",
    "#include <string>\n",
    "int main() {\n",
    "    const std::string name = \"Ali\";\n",
    "    //std::cout << \"hello world\" << std::endl;\n",
    "\n",
    "    return 0;\n",
    "}"
   ]
  },
  {
   "cell_type": "code",
   "execution_count": 36,
   "metadata": {},
   "outputs": [
    {
     "name": "stdout",
     "output_type": "stream",
     "text": [
      "ESBMC version 7.5.0 64-bit x86_64 linux\n",
      "Target: 64-bit little-endian x86_64-unknown-linux with esbmclibc\n",
      "Parsing /tmp/cpptest.cpp\n",
      "In file included from /tmp/cpptest.cpp:4:\n",
      "In file included from /tmp/esbmc-cpp-headers-a0c3-e456-8315/string:8:\n",
      "In file included from /tmp/esbmc-cpp-headers-a0c3-e456-8315/stdexcept:5:\n",
      "\u001b[1m/tmp/esbmc-cpp-headers-a0c3-e456-8315/exception:69:1: \u001b[0m\u001b[0;1;35mwarning: \u001b[0m\u001b[1mfunction declared 'noreturn' should not return [-Winvalid-noreturn]\u001b[0m\n",
      "}\n",
      "\u001b[0;1;32m^\n",
      "\u001b[0m\u001b[1m/tmp/cpptest.cpp:6:30: \u001b[0m\u001b[0;1;35mwarning: \u001b[0m\u001b[1mconversion from string literal to 'char *' is deprecated [-Wc++11-compat-deprecated-writable-strings]\u001b[0m\n",
      "    const std::string name = \"Ali\";\n",
      "\u001b[0;1;32m                             ^\n",
      "\u001b[0mConverting\n"
     ]
    },
    {
     "name": "stdout",
     "output_type": "stream",
     "text": [
      "Generating GOTO Program\n",
      "GOTO program creation time: 0.394s\n",
      "GOTO program processing time: 0.010s\n",
      "Starting Bounded Model Checking\n",
      "Unwinding loop 7 iteration 1   file string.c line 78 column 3 function strlen\n",
      "Unwinding loop 7 iteration 2   file string.c line 78 column 3 function strlen\n",
      "Unwinding loop 7 iteration 3   file string.c line 78 column 3 function strlen\n",
      "Unwinding loop 2 iteration 1   file string.c line 30 column 3 function strcpy\n",
      "Unwinding loop 2 iteration 2   file string.c line 30 column 3 function strcpy\n",
      "Unwinding loop 2 iteration 3   file string.c line 30 column 3 function strcpy\n",
      "Not unwinding loop 2 iteration 4   file string.c line 30 column 3 function strcpy\n",
      "Symex completed in: 0.004s (169 assignments)\n",
      "Slicing time: 0.002s (removed 127 assignments)\n",
      "Generated 42 VCC(s), 18 remaining after simplification (42 assignments)\n",
      "No solver specified; defaulting to Boolector\n",
      "Encoding remaining VCC(s) using bit-vector/floating-point arithmetic\n",
      "Encoding to solver time: 0.000s\n",
      "Solving with solver Boolector 3.2.3\n",
      "Runtime decision procedure: 0.002s\n",
      "BMC program time: 0.006s\n",
      "\n",
      "VERIFICATION SUCCESSFUL\n"
     ]
    }
   ],
   "source": [
    "!esbmc /tmp/cpptest.cpp --unwind 4"
   ]
  },
  {
   "cell_type": "markdown",
   "metadata": {},
   "source": [
    "---\n",
    "layout: post\n",
    "title: C Bounded Model Checker 2: Loops, Contracts, Equivalence checking\n",
    "---\n",
    "\n",
    "## CBMC and Ghidra\n",
    "\n",
    "This could be it's own post.\n",
    "\n",
    "ASM-BMC\n",
    "\n",
    "\n",
    "\n",
    "\n",
    "\n",
    "## Loops\n",
    "\n",
    "Ok, we've painted a rosy picture so far. Obviously CBMC does not scale to arbitrarily large and difficult problems\n",
    "\n",
    "The basic technique is to unwind them. All is not lost, many loops (for loops in particular) can be completely unwound. You can add `--unwinding-assertions` to know if you've covered all possible executions. Ever if you can't, passing these chekcs does give you some confidence.\n",
    "\n",
    "If you're going to the next level there is also the ability to add invariant annotations. I'm not sure if CBMC can infer these successfully\n",
    "\n",
    "On bigger problems, I've had some success fiddling with the \n",
    "\n",
    "\n",
    "Another interesting thing to note is that CBMC is a limitted termination checker. If your function has a bound on the number of iterations, `--unwinding-assertions` can determine that there is nothing that crosses the bound. This may be usefulfor checking uppper bounds of possible loop iterations which can matter in realtime contexts. Another thing this could be useful for is checking eBPF programs, which are required to have a determinstic bound, usually enforced by requiring an acyclic control flow graph.\n",
    "\n",
    "\n",
    "https://diffblue.github.io/cbmc/cprover-manual/md_cbmc_tutorial.html\n",
    "\n",
    "https://diffblue.github.io/cbmc//contracts-loops.html\n",
    "https://diffblue.github.io/cbmc//contracts-loop-invariants.html Documentation on loop invariants\n"
   ]
  },
  {
   "cell_type": "code",
   "execution_count": 34,
   "metadata": {},
   "outputs": [
    {
     "name": "stdout",
     "output_type": "stream",
     "text": [
      "Overwriting /tmp/sum.c\n"
     ]
    }
   ],
   "source": [
    "%%file /tmp/sum.c\n",
    "#include <stdint.h>\n",
    "int sum(uint32_t n)\n",
    "    __CPROVER_requires(n <= 3)\n",
    "    {\n",
    "    uint32_t acc = 0;\n",
    "    for(uint32_t i = 0; i < n; i++)\n",
    "    __CPROVER_loop_invariant(2 * acc == i * (i - 1))\n",
    "    __CPROVER_decreases(n - i)\n",
    "    {\n",
    "        acc += i;\n",
    "    }\n",
    "    return acc;\n",
    "}"
   ]
  },
  {
   "cell_type": "code",
   "execution_count": 35,
   "metadata": {},
   "outputs": [
    {
     "name": "stdout",
     "output_type": "stream",
     "text": [
      "Reading GOTO program from '/tmp/sum.goto'\n",
      "Function Pointer Removal\n",
      "Virtual function removal\n",
      "Cleaning inline assembler statements\n",
      "Adding nondeterministic initialization of static/global variables.\n",
      "Writing GOTO program to '/tmp/sum_inst.goto'\n",
      "CBMC version 5.95.1 (cbmc-5.95.1) 64-bit x86_64 linux\n",
      "Reading GOTO program from file /tmp/sum_inst.goto\n",
      "Generating GOTO Program\n",
      "Adding CPROVER library (x86_64)\n",
      "Removal of function pointers and virtual functions\n",
      "Generic Property Instrumentation\n",
      "Running with 8 object bits, 56 offset bits (default)\n",
      "Starting Bounded Model Checking\n",
      "aborting path on assume(false) at file /tmp/sum.c line 6 function sum thread 0\n",
      "Runtime Symex: 0.00300661s\n",
      "size of program expression: 123 steps\n",
      "simple slicing removed 5 assignments\n",
      "Generated 10 VCC(s), 3 remaining after simplification\n",
      "Runtime Postprocess Equation: 1.2704e-05s\n",
      "Passing problem to propositional reduction\n",
      "converting SSA\n"
     ]
    },
    {
     "name": "stdout",
     "output_type": "stream",
     "text": [
      "Runtime Convert SSA: 0.00571386s\n",
      "Running propositional reduction\n",
      "Post-processing\n",
      "Runtime Post-process: 3.968e-06s\n",
      "Error while terminating subprocess (pid=142076): \n"
     ]
    },
    {
     "name": "stderr",
     "output_type": "stream",
     "text": [
      "bash: line 3: 142090 Killed                  cbmc /tmp/sum_inst.goto --unwinding-assertions --function sum\n"
     ]
    }
   ],
   "source": [
    "%%bash\n",
    "goto-cc -o /tmp/sum.goto /tmp/sum.c\n",
    "goto-instrument --apply-loop-contracts /tmp/sum.goto /tmp/sum_inst.goto\n",
    "cbmc /tmp/sum_inst.goto --unwinding-assertions --function sum"
   ]
  },
  {
   "cell_type": "code",
   "execution_count": null,
   "metadata": {},
   "outputs": [],
   "source": []
  },
  {
   "cell_type": "code",
   "execution_count": null,
   "metadata": {},
   "outputs": [],
   "source": [
    "!cbmc /tmp/sum.c --function sum"
   ]
  },
  {
   "cell_type": "markdown",
   "metadata": {},
   "source": [
    "## Contracts\n",
    "https://diffblue.github.io/cbmc/contracts-user.html"
   ]
  },
  {
   "cell_type": "markdown",
   "metadata": {},
   "source": [
    "# Comparative Checking\n",
    "Sum forward is the same as sum backwards"
   ]
  },
  {
   "cell_type": "code",
   "execution_count": 24,
   "metadata": {},
   "outputs": [
    {
     "name": "stdout",
     "output_type": "stream",
     "text": [
      "Overwriting /tmp/sum.c\n"
     ]
    }
   ],
   "source": [
    "%%file /tmp/sum.c\n",
    "\n",
    "extern int array[10];\n",
    " \n",
    "int sum()\n",
    "{\n",
    "  unsigned i, sum;\n",
    " \n",
    "  sum = 0;\n",
    "  for(i = 0; i < 10; i++)\n",
    "    sum += array[i];\n",
    " \n",
    "  return sum;\n",
    "}\n",
    "\n",
    "int sum_back()\n",
    "{\n",
    "  int i, sum; // Interesting. i had a bug when these were unsgined. \n",
    "  // Of course the for loop does something weird in that case\n",
    " \n",
    "  sum = 0;\n",
    "  for(i = 9; i >= 0; i--)\n",
    "    sum += array[i];\n",
    "  return sum;\n",
    "}\n",
    "\n",
    "int main(){\n",
    "  assert(sum() == sum_back());\n",
    "}"
   ]
  },
  {
   "cell_type": "code",
   "execution_count": 28,
   "metadata": {},
   "outputs": [
    {
     "name": "stdout",
     "output_type": "stream",
     "text": [
      "CBMC version 5.95.1 (cbmc-5.95.1) 64-bit x86_64 linux\n",
      "Parsing /tmp/sum.c\n",
      "Converting\n",
      "Type-checking sum\n",
      "file /tmp/sum.c line 26 function main: function 'assert' is not declared\n",
      "Generating GOTO Program\n",
      "Adding CPROVER library (x86_64)\n",
      "Removal of function pointers and virtual functions\n",
      "Generic Property Instrumentation\n",
      "Running with 8 object bits, 56 offset bits (default)\n",
      "Starting Bounded Model Checking\n",
      "Unwinding loop sum.0 iteration 1 file /tmp/sum.c line 9 function sum thread 0\n",
      "Unwinding loop sum.0 iteration 2 file /tmp/sum.c line 9 function sum thread 0\n",
      "Unwinding loop sum.0 iteration 3 file /tmp/sum.c line 9 function sum thread 0\n",
      "Unwinding loop sum.0 iteration 4 file /tmp/sum.c line 9 function sum thread 0\n",
      "Unwinding loop sum.0 iteration 5 file /tmp/sum.c line 9 function sum thread 0\n",
      "Unwinding loop sum.0 iteration 6 file /tmp/sum.c line 9 function sum thread 0\n",
      "Unwinding loop sum.0 iteration 7 file /tmp/sum.c line 9 function sum thread 0\n",
      "Unwinding loop sum.0 iteration 8 file /tmp/sum.c line 9 function sum thread 0\n",
      "Unwinding loop sum.0 iteration 9 file /tmp/sum.c line 9 function sum thread 0\n",
      "Unwinding loop sum.0 iteration 10 file /tmp/sum.c line 9 function sum thread 0\n",
      "Unwinding loop sum_back.0 iteration 1 file /tmp/sum.c line 20 function sum_back thread 0\n",
      "Unwinding loop sum_back.0 iteration 2 file /tmp/sum.c line 20 function sum_back thread 0\n",
      "Unwinding loop sum_back.0 iteration 3 file /tmp/sum.c line 20 function sum_back thread 0\n",
      "Unwinding loop sum_back.0 iteration 4 file /tmp/sum.c line 20 function sum_back thread 0\n",
      "Unwinding loop sum_back.0 iteration 5 file /tmp/sum.c line 20 function sum_back thread 0\n",
      "Unwinding loop sum_back.0 iteration 6 file /tmp/sum.c line 20 function sum_back thread 0\n",
      "Unwinding loop sum_back.0 iteration 7 file /tmp/sum.c line 20 function sum_back thread 0\n",
      "Unwinding loop sum_back.0 iteration 8 file /tmp/sum.c line 20 function sum_back thread 0\n",
      "Unwinding loop sum_back.0 iteration 9 file /tmp/sum.c line 20 function sum_back thread 0\n",
      "Unwinding loop sum_back.0 iteration 10 file /tmp/sum.c line 20 function sum_back thread 0\n",
      "Runtime Symex: 0.00403851s\n",
      "size of program expression: 143 steps\n",
      "simple slicing removed 5 assignments\n",
      "Generated 1 VCC(s), 1 remaining after simplification\n",
      "Runtime Postprocess Equation: 0.000128287s\n",
      "Passing problem to SMT2 QF_AUFBV using Boolector\n",
      "converting SSA\n",
      "Runtime Convert SSA: 0.0004892s\n",
      "Running SMT2 QF_AUFBV using Boolector\n",
      "Runtime Solver: 0.00300138s\n",
      "Runtime decision procedure: 0.00358312s\n",
      "\n",
      "** Results:\n",
      "/tmp/sum.c function main\n",
      "\u001b[2m[main.assertion.1] \u001b[0mline 26 assertion return_value_sum == return_value_sum_back: \u001b[32mSUCCESS\u001b[0m\n",
      "\n",
      "** 0 of 1 failed (1 iterations)\n",
      "VERIFICATION SUCCESSFUL\n"
     ]
    }
   ],
   "source": [
    "! cbmc /tmp/sum.c --boolector # Sat solver is super slow on this one"
   ]
  },
  {
   "cell_type": "markdown",
   "metadata": {},
   "source": [
    "A very interesting topic is that of security properties / information leakage. how do you write specs for this? What is a definition of information leakage?"
   ]
  },
  {
   "cell_type": "code",
   "execution_count": 29,
   "metadata": {},
   "outputs": [
    {
     "name": "stdout",
     "output_type": "stream",
     "text": [
      "Overwriting /tmp/leak.c\n"
     ]
    }
   ],
   "source": [
    "%%file /tmp/leak.c\n",
    "#include <assert.h>\n",
    "int safeprog(int low, int high){\n",
    "    int foo = low ^ high;\n",
    "    foo = ((foo << 1) ^ high) >> 1;\n",
    "    return foo;\n",
    "}\n",
    "\n",
    "int main(){\n",
    "    int high = nondet_int();\n",
    "    int high1 = nondet_int();\n",
    "    int low = nondet_int();\n",
    "    //int high, high1, low;\n",
    "\n",
    "    assert(safeprog(low,high) == safeprog(low,high1));\n",
    "    return 0;\n",
    "}"
   ]
  },
  {
   "cell_type": "code",
   "execution_count": 30,
   "metadata": {},
   "outputs": [
    {
     "name": "stdout",
     "output_type": "stream",
     "text": [
      "CBMC version 5.95.1 (cbmc-5.95.1) 64-bit x86_64 linux\n",
      "Parsing /tmp/leak.c\n",
      "Converting\n",
      "Type-checking leak\n",
      "file /tmp/leak.c line 9 function main: function 'nondet_int' is not declared\n",
      "Generating GOTO Program\n",
      "Adding CPROVER library (x86_64)\n",
      "Removal of function pointers and virtual functions\n",
      "Generic Property Instrumentation\n",
      "Running with 8 object bits, 56 offset bits (default)\n",
      "Starting Bounded Model Checking\n",
      "Runtime Symex: 0.000956779s\n",
      "size of program expression: 54 steps\n",
      "simple slicing removed 5 assignments\n",
      "Generated 1 VCC(s), 1 remaining after simplification\n",
      "Runtime Postprocess Equation: 1.647e-05s\n",
      "Passing problem to propositional reduction\n",
      "converting SSA\n",
      "Runtime Convert SSA: 0.000395847s\n",
      "Running propositional reduction\n",
      "Post-processing\n",
      "Runtime Post-process: 3.34e-06s\n",
      "Solving with MiniSAT 2.2.1 with simplifier\n",
      "703 variables, 921 clauses\n",
      "SAT checker: instance is SATISFIABLE\n",
      "Runtime Solver: 0.00037143s\n",
      "Runtime decision procedure: 0.000804985s\n",
      "\n",
      "** Results:\n",
      "/tmp/leak.c function main\n",
      "\u001b[2m[main.assertion.1] \u001b[0mline 14 assertion safeprog(low,high) == safeprog(low,high1): \u001b[31mFAILURE\u001b[0m\n",
      "\n",
      "** 1 of 1 failed (2 iterations)\n",
      "VERIFICATION FAILED\n"
     ]
    }
   ],
   "source": [
    "!cbmc /tmp/leak.c"
   ]
  },
  {
   "cell_type": "markdown",
   "metadata": {},
   "source": [
    "## C as a Specification Language\n",
    "If you avoid pointer-y things, C isn't the craziest language in the world to specify things like state machines. Obviously it is non ideal for many reasons, but the extensive tooling, fast compilation, and most importantly acceptance of the general programming populace is worth a lot.\n",
    "\n",
    "For example, TLA+ can be used to build a model of your distributed system.\n",
    "\n"
   ]
  },
  {
   "cell_type": "code",
   "execution_count": null,
   "metadata": {},
   "outputs": [],
   "source": [
    "%file /tmp/diehard.c\n",
    "\n",
    "int good_state(){\n",
    "    \n",
    "}\n",
    "\n",
    "enum state_t {};\n",
    "int main(){\n",
    "    river fox = 0;\n",
    "    river chicken = 0;\n",
    "    river grain = 0;\n",
    "    for(;;){\n",
    "        switch(state){\n",
    "\n",
    "        }\n",
    "    }\n",
    "}\n",
    "\n"
   ]
  },
  {
   "cell_type": "code",
   "execution_count": null,
   "metadata": {},
   "outputs": [],
   "source": [
    "%%file /tmp/server.c\n",
    "\n",
    "\n",
    "\n",
    "int main(){\n",
    "    dispatch:\n",
    "    action = non_det();\n",
    "    \n",
    "    action1:\n",
    "\n",
    "    goto dispatch;\n",
    "    \n",
    "    action2:\n",
    "\n",
    "    goto dispatch;\n",
    "    \n",
    "    action3:\n",
    "\n",
    "    goto dispatch;\n",
    "}\n",
    "\n"
   ]
  },
  {
   "cell_type": "markdown",
   "metadata": {},
   "source": [
    "# Bits and Bobbles\n",
    "\n",
    "Here's a list of serious C projects with CBMC instrumentation, many from Amazon: https://model-checking.github.io/cbmc-training/projects.html. They are playing a similar role to unit tests for library functions.\n",
    "\n",
    "SV Comp  https://sv-comp.sosy-lab.org/ - CPAchecker UAutomizer are very successful in the competition. I have not used them as much\n",
    "\n",
    "Klee, symcc are symbolic executors. Similar in many respects to a bounded model checker. I think the biggest philosophical difference is they aren't really centered around ensuring bug absence, instead around bug finding, which is a little different.\n",
    "\n",
    "Frama-C\n",
    "VST\n",
    "https://github.com/verifast/verifast graham seemed to like this one\n",
    "\n",
    "\n",
    "[esbmc](http://esbmc.org/) is a C bounded model checker.\n",
    "\n",
    "Comparing a C function to it's grammar?\n",
    "\n",
    "```bash\n",
    "echo \"\n",
    "#include<stdbool.h>\n",
    "\n",
    "bool check_balance(char *input){\n",
    "    int count = 0;\n",
    "    while(*input != '\\0'){\n",
    "        if(*input == '(') count++;\n",
    "        if(*input == ')') count--;\n",
    "        input++;\n",
    "    }\n",
    "    return count == 0;\n",
    "\" > /tmp/parens.c\n",
    "cbmc /tmp/parens.c \n",
    "```\n"
   ]
  },
  {
   "cell_type": "markdown",
   "metadata": {},
   "source": [
    "On my last post, I got a lot of guff for having undefined behavior. CBMC is not great for detecting this stuff. Ok, so what can I use?\n",
    "\n",
    "Indeed `-Wall -Wpedantic` notices. Can I trick it?"
   ]
  },
  {
   "cell_type": "code",
   "execution_count": 35,
   "metadata": {},
   "outputs": [
    {
     "name": "stdout",
     "output_type": "stream",
     "text": [
      "Overwriting /tmp/ub.c\n"
     ]
    }
   ],
   "source": [
    "%%file /tmp/ub.c\n",
    "#include <assert.h>\n",
    "int main(){\n",
    "    int x;\n",
    "    x++;\n",
    "    assert(x != 12345);\n",
    "}"
   ]
  },
  {
   "cell_type": "code",
   "execution_count": 38,
   "metadata": {},
   "outputs": [
    {
     "name": "stdout",
     "output_type": "stream",
     "text": [
      "\u001b[1m/tmp/ub.c:2:9: \u001b[0m\u001b[0;1;35mwarning: \u001b[0m\u001b[1ma function declaration without a prototype is deprecated in all versions of C [-Wstrict-prototypes]\u001b[0m\n",
      "    2 | int main(){\u001b[0m\n",
      "      | \u001b[0;1;32m        ^\n",
      "\u001b[0m      | \u001b[0;32m         void\n",
      "\u001b[0m\u001b[1m/tmp/ub.c:4:5: \u001b[0m\u001b[0;1;35mwarning: \u001b[0m\u001b[1mvariable 'x' is uninitialized when used here [-Wuninitialized]\u001b[0m\n",
      "    4 |     x++;\u001b[0m\n",
      "      | \u001b[0;1;32m    ^\n",
      "\u001b[0m\u001b[1m/tmp/ub.c:3:10: \u001b[0m\u001b[0;1;36mnote: \u001b[0minitialize the variable 'x' to silence this warning\u001b[0m\n",
      "    3 |     int x;\u001b[0m\n",
      "      | \u001b[0;1;32m         ^\n",
      "\u001b[0m      | \u001b[0;32m          = 0\n",
      "\u001b[0m2 warnings generated.\n"
     ]
    }
   ],
   "source": [
    "! clang -O1 -Wall -Wpedantic -fsanitize=undefined /tmp/ub.c -o /tmp/ub.out && /tmp/ub.out"
   ]
  },
  {
   "cell_type": "code",
   "execution_count": 40,
   "metadata": {},
   "outputs": [
    {
     "name": "stdout",
     "output_type": "stream",
     "text": [
      "000000000002ea28 <main>:\n",
      "   2ea28:\t31 c0                \txor    %eax,%eax\n",
      "   2ea2a:\tc3                   \tret    \n",
      "   2ea2b:\t0f 1f 44 00 00       \tnopl   0x0(%rax,%rax,1)\n",
      "\n",
      "000000000002ea30 <atexit>:\n",
      "   2ea30:\tf3 0f 1e fa          \tendbr64 \n",
      "   2ea34:\t48 8b 15 3d 57 01 00 \tmov    0x1573d(%rip),%rdx        # 44178 <__dso_handle>\n",
      "   2ea3b:\t31 f6                \txor    %esi,%esi\n",
      "   2ea3d:\te9 ae 66 fd ff       \tjmp    50f0 <__cxa_atexit@plt>\n",
      "\n"
     ]
    }
   ],
   "source": [
    "! objdump -d /tmp/ub.out | grep -A 10 main.: # This is a disassembly of the main function of the compiled program.\n",
    " "
   ]
  },
  {
   "cell_type": "markdown",
   "metadata": {},
   "source": [
    "There's nothing there. Indeed, the compiler fused it all out."
   ]
  },
  {
   "cell_type": "code",
   "execution_count": 10,
   "metadata": {},
   "outputs": [
    {
     "name": "stdout",
     "output_type": "stream",
     "text": [
      "Overwriting /tmp/foo.c\n"
     ]
    }
   ],
   "source": [
    "%%file /tmp/foo.c\n",
    "int mystrcmp(const char *cs, const char *ct) {\n",
    "  unsigned char c1, c2;\n",
    "  while (1) {\n",
    "    c1 = *(cs++);\n",
    "    c2 = *(ct++);\n",
    "    if (c1 != c2)\n",
    "      return c1 < c2 ? -1 : 1;\n",
    "    if (!c1)\n",
    "      break;\n",
    "  }\n",
    "  return 0;\n",
    "}\n",
    "\n",
    "int foo(char **argv) {\n",
    "  char *command = argv[1];\n",
    "  //assert(mystrcmp(\"STORE\", command) != 0);\n",
    "  assert(strcmp(\"STORE\", command) != 0);\n",
    "  return 0;\n",
    "}"
   ]
  },
  {
   "cell_type": "markdown",
   "metadata": {},
   "source": []
  },
  {
   "cell_type": "code",
   "execution_count": 5,
   "metadata": {},
   "outputs": [
    {
     "name": "stdout",
     "output_type": "stream",
     "text": [
      "\n",
      "* *             CBMC 5.95.1 (cbmc-5.95.1) 64-bit            * *\n",
      "* *                 Copyright (C) 2001-2018                 * *\n",
      "* *              Daniel Kroening, Edmund Clarke             * *\n",
      "* * Carnegie Mellon University, Computer Science Department * *\n",
      "* *                  kroening@kroening.com                  * *\n",
      "* *        Protected in part by U.S. patent 7,225,417       * *\n",
      "\n",
      "Usage:                       Purpose:\n",
      "\n",
      " \u001b[1mcbmc\u001b[m [\u001b[33m-?\u001b[m] [\u001b[33m-h\u001b[m] [\u001b[33m--help\u001b[m]      show this help\n",
      " \u001b[1mcbmc\u001b[m \u001b[33m--version\u001b[m               show version and exit\n",
      " \u001b[1mcbmc\u001b[m [options] \u001b[4mfile.c\u001b[m \u001b[4m...\u001b[m    perform bounded model checking\n",
      "\n",
      "Analysis options:\n",
      " \u001b[33m--show-properties\u001b[m            show the properties, but don't run analysis\n",
      " \u001b[33m--symex-coverage-report\u001b[m \u001b[4mf\u001b[m    generate a Cobertura XML coverage report in \u001b[4mf\u001b[m\n",
      " \u001b[33m--property\u001b[m \u001b[4mid\u001b[m                only check one specific property\n",
      " \u001b[33m--trace\u001b[m                      give a counterexample trace for failed properties\n",
      " \u001b[33m--stop-on-fail\u001b[m               stop analysis once a failed property is detected \n",
      "                              (implies \u001b[33m--trace\u001b[m)\n",
      " \u001b[33m--localize-faults\u001b[m            localize faults (experimental)\n",
      "\n",
      "C/C++ frontend options:\n",
      " \u001b[33m--preprocess\u001b[m                 stop after preprocessing\n",
      " \u001b[33m--test-preprocessor\u001b[m          stop after preprocessing, discard output\n",
      " \u001b[33m-I\u001b[m \u001b[4mpath\u001b[m                      set include path (C/C++)\n",
      " \u001b[33m--include\u001b[m \u001b[4mfile\u001b[m               set include file (C/C++)\n",
      " \u001b[33m-D\u001b[m \u001b[4mmacro\u001b[m                     define preprocessor macro (C/C++)\n",
      " \u001b[33m--c89\u001b[m, \u001b[33m--c99\u001b[m, \u001b[33m--c11\u001b[m          set C language standard (default: c11)\n",
      " \u001b[33m--cpp98\u001b[m, \u001b[33m--cpp03\u001b[m, \u001b[33m--cpp11\u001b[m    set C++ language standard (default: cpp98)\n",
      " \u001b[33m--unsigned-char\u001b[m              make \"char\" unsigned by default\n",
      " \u001b[33m--round-to-nearest\u001b[m, \u001b[33m--round-to-even\u001b[m  rounding towards nearest even (default)\n",
      " \u001b[33m--round-to-plus-inf\u001b[m          rounding towards plus infinity\n",
      " \u001b[33m--round-to-minus-inf\u001b[m         rounding towards minus infinity\n",
      " \u001b[33m--round-to-zero\u001b[m              rounding towards zero\n",
      " \u001b[33m--no-library\u001b[m                 disable built-in abstract C library\n",
      " \u001b[33m--max-nondet-tree-depth\u001b[m \u001b[4mN\u001b[m    limit size of nondet (e.g. input) object tree; at \n",
      "                              level \u001b[4mN\u001b[m pointers are set to null\n",
      " \u001b[33m--min-null-tree-depth\u001b[m \u001b[4mN\u001b[m      minimum level at which a pointer can first be \n",
      "                              NULL in a recursively nondet initialized struct\n",
      " \u001b[33m--function\u001b[m \u001b[4mname\u001b[m              set main function name\n",
      "\n",
      "Platform options:\n",
      " \u001b[33m--arch\u001b[m \u001b[4march_name\u001b[m             set architecture (default: x86_64) to one of: \u001b[33m\n",
      "                              alpha\u001b[m, \u001b[33marm\u001b[m, \u001b[33marm64\u001b[m, \u001b[33marmel\u001b[m, \u001b[33marmhf\u001b[m, \u001b[33mhppa\u001b[m, \u001b[33mi386\u001b[m, \u001b[33mia64\u001b[m\n",
      "                              , \u001b[33mmips\u001b[m, \u001b[33mmips64\u001b[m, \u001b[33mmips64el\u001b[m, \u001b[33mmipsel\u001b[m, \u001b[33mmipsn32\u001b[m, \u001b[33m\n",
      "                              mipsn32el\u001b[m, \u001b[33mpowerpc\u001b[m, \u001b[33mppc64\u001b[m, \u001b[33mppc64le\u001b[m, \u001b[33mriscv64\u001b[m, \u001b[33ms390\u001b[m\n",
      "                              , \u001b[33ms390x\u001b[m, \u001b[33msh4\u001b[m, \u001b[33msparc\u001b[m, \u001b[33msparc64\u001b[m, \u001b[33mv850\u001b[m, \u001b[33mx32\u001b[m, \u001b[33mx86_64\u001b[m, \n",
      "                              or \u001b[33mnone\u001b[m\n",
      " \u001b[33m--os\u001b[m \u001b[4mos_name\u001b[m                 set operating system (default: linux) to one of: \u001b[33m\n",
      "                              freebsd\u001b[m, \u001b[33mlinux\u001b[m, \u001b[33mmacos\u001b[m, \u001b[33msolaris\u001b[m, or \u001b[33mwindows\u001b[m\n",
      " \u001b[33m--i386-linux\u001b[m, \u001b[33m--i386-win32\u001b[m, \u001b[33m--i386-macos\u001b[m, \u001b[33m--ppc-macos\u001b[m, \u001b[33m--win32\u001b[m, \u001b[33m--winx64\u001b[m  set \n",
      "                              architecture and operating system\n",
      " \u001b[33m--LP64\u001b[m, \u001b[33m--ILP64\u001b[m, \u001b[33m--LLP64\u001b[m, \u001b[33m--ILP32\u001b[m, \u001b[33m--LP32\u001b[m  set width of int, long and \n",
      "                              pointers, but don't override default architecture \n",
      "                              and operating system\n",
      " \u001b[33m--16\u001b[m, \u001b[33m--32\u001b[m, \u001b[33m--64\u001b[m             equivalent to \u001b[33m--LP32\u001b[m, \u001b[33m--ILP32\u001b[m, \u001b[33m--LP64\u001b[m (on \n",
      "                              Windows: \u001b[33m--LLP64\u001b[m)\n",
      " \u001b[33m--little-endian\u001b[m              allow little-endian word-byte conversions\n",
      " \u001b[33m--big-endian\u001b[m                 allow big-endian word-byte conversions\n",
      " \u001b[33m--gcc\u001b[m                        use GCC as preprocessor\n",
      "\n",
      "Program representations:\n",
      " \u001b[33m--show-parse-tree\u001b[m            show parse tree\n",
      " \u001b[33m--show-symbol-table\u001b[m          show loaded symbol table\n",
      " \u001b[33m--show-goto-functions\u001b[m        show loaded goto program\n",
      " \u001b[33m--list-goto-functions\u001b[m        list loaded goto functions\n",
      " \u001b[33m--validate-goto-model\u001b[m        enable additional well-formedness checks on the \n",
      "                              goto program\n",
      " \u001b[33m--validate-ssa-equation\u001b[m      enable additional well-formedness checks on the \n",
      "                              SSA representation\n",
      " \u001b[33m--export-symex-ready-goto\u001b[m \u001b[4mf\u001b[m  serialise goto-program in symex-ready-goto form \n",
      "                              in \u001b[4mf\u001b[m\n",
      "\n",
      "Program instrumentation options:\n",
      " \u001b[33m--bounds-check\u001b[m               enable array bounds checks\n",
      " \u001b[33m--pointer-check\u001b[m              enable pointer checks\n",
      " \u001b[33m--memory-leak-check\u001b[m          enable memory leak checks\n",
      " \u001b[33m--memory-cleanup-check\u001b[m       enable memory cleanup checks\n",
      " \u001b[33m--div-by-zero-check\u001b[m          enable division by zero checks\n",
      " \u001b[33m--signed-overflow-check\u001b[m      enable signed arithmetic over- and underflow \n",
      "                              checks\n",
      " \u001b[33m--unsigned-overflow-check\u001b[m    enable arithmetic over- and underflow checks\n",
      " \u001b[33m--pointer-overflow-check\u001b[m     enable pointer arithmetic over- and underflow \n",
      "                              checks\n",
      " \u001b[33m--conversion-check\u001b[m           check whether values can be represented after \n",
      "                              type cast\n",
      " \u001b[33m--undefined-shift-check\u001b[m      check shift greater than bit-width\n",
      " \u001b[33m--float-overflow-check\u001b[m       check floating-point for +/-Inf\n",
      " \u001b[33m--nan-check\u001b[m                  check floating-point for NaN\n",
      " \u001b[33m--enum-range-check\u001b[m           checks that all enum type expressions have values \n",
      "                              in the enum range\n",
      " \u001b[33m--pointer-primitive-check\u001b[m    checks that all pointers in pointer primitives \n",
      "                              are valid or null\n",
      " \u001b[33m--retain-trivial-checks\u001b[m      include checks that are trivially true\n",
      " \u001b[33m--error-label\u001b[m \u001b[4mlabel\u001b[m          check that label \u001b[4mlabel\u001b[m is unreachable\n",
      " \u001b[33m--no-built-in-assertions\u001b[m     ignore assertions in built-in library\n",
      " \u001b[33m--no-assertions\u001b[m              ignore user assertions\n",
      " \u001b[33m--no-assumptions\u001b[m             ignore user assumptions\n",
      " \u001b[33m--assert-to-assume\u001b[m           convert user assertions to assumptions\n",
      " \u001b[33m--cover\u001b[m \u001b[4mCC\u001b[m                   create test-suite with coverage criterion \u001b[4mCC\u001b[m, \n",
      "                              where \u001b[4mCC\u001b[m is one of \u001b[33massertion\u001b[m[\u001b[33ms\u001b[m], \u001b[33massume\u001b[m[\u001b[33ms\u001b[m], \u001b[33mbranch\u001b[m\n",
      "                              [\u001b[33mes\u001b[m], \u001b[33mcondition\u001b[m[\u001b[33ms\u001b[m], \u001b[33mcover\u001b[m, ecision\u001b[m[\u001b[33ms\u001b[m], \u001b[33mlocation\u001b[m[\u001b[33ms\u001b[m\n",
      "                              ], or \u001b[33mmcdc\u001b[m\n",
      " \u001b[33m--cover-failed-assertions\u001b[m    do not stop coverage checking at failed \n",
      "                              assertions (this is the default for \u001b[33m--cover\u001b[m \u001b[33m\n",
      "                              assertions\u001b[m)\n",
      " \u001b[33m--show-test-suite\u001b[m            print test suite for coverage criterion (requires \u001b[33m\n",
      "                              --cover\u001b[m)\n",
      " \u001b[33m--mm\u001b[m \u001b[4mMM\u001b[m                      memory consistency model for concurrent programs \n",
      "                              (default: \u001b[33msc\u001b[m)\n",
      " \u001b[33m--malloc-may-fail\u001b[m            allow malloc calls to return a null pointer\n",
      " \u001b[33m--malloc-fail-assert\u001b[m         set malloc failure mode to assert-then-assume\n",
      " \u001b[33m--malloc-fail-null\u001b[m           set malloc failure mode to return null\n",
      " \u001b[33m--string-abstraction\u001b[m         track C string lengths and zero-termination\n",
      " \u001b[33m--reachability-slice-fb\u001b[m      remove instructions that cannot appear on a trace \n",
      "                              from entry point through a property\n",
      " \u001b[33m--full-slice\u001b[m                 run full slicer (experimental)\n",
      " \u001b[33m--drop-unused-functions\u001b[m      drop functions trivially unreachable from main \n",
      "                              function\n",
      " \u001b[33m--havoc-undefined-functions\u001b[m  for any function that has no body, assign \n",
      "                              non-deterministic values to any parameters passed \n",
      "                              as non-const pointers and the return value\n",
      "\n",
      "Semantic transformations:\n",
      " \u001b[33m--nondet-static\u001b[m              add nondeterministic initialization of variables \n",
      "                              with static lifetime\n",
      "\n",
      "BMC options:\n",
      " \u001b[33m--paths\u001b[m [strategy]           explore paths one at a time\n",
      " \u001b[33m--show-symex-strategies\u001b[m      list strategies for use with \u001b[33m--paths\u001b[m\n",
      " \u001b[33m--show-goto-symex-steps\u001b[m      show which steps symex travels, includes \n",
      "                              diagnostic information\n",
      " \u001b[33m--show-points-to-sets\u001b[m        show points-to sets for pointer dereference. \n",
      "                              Requires \u001b[33m--json-ui\u001b[m.\n",
      " \u001b[33m--program-only\u001b[m               only show program expression\n",
      " \u001b[33m--show-byte-ops\u001b[m              show all byte extracts and updates\n",
      " \u001b[33m--depth\u001b[m \u001b[4mnr\u001b[m                   limit search depth\n",
      " \u001b[33m--max-field-sensitivity-array-size\u001b[m \u001b[4mM\u001b[m  maximum size \u001b[4mM\u001b[m of arrays for which field \n",
      "                              sensitivity will be applied to array, the default \n",
      "                              is 64\n",
      " \u001b[33m--no-array-field-sensitivity\u001b[m  deactivate field sensitivity for arrays, this is \n",
      "                              equivalent to setting the maximum field \n",
      "                              sensitivity size for arrays to 0\n",
      " \u001b[33m--show-loops\u001b[m                 show the loops in the program\n",
      " \u001b[33m--unwind\u001b[m \u001b[4mnr\u001b[m                  unwind loops \u001b[4mnr\u001b[m times\n",
      " \u001b[33m--unwindset\u001b[m [\u001b[4mT\u001b[m\u001b[33m:\u001b[m]\u001b[4mL\u001b[m\u001b[33m:\u001b[m\u001b[4mB\u001b[m,...      unwind loop \u001b[4mL\u001b[m with a bound of \u001b[4mB\u001b[m (optionally \n",
      "                              restricted to thread \u001b[4mT\u001b[m) (use \u001b[33m--show-loops\u001b[m to get \n",
      "                              the loop IDs)\n",
      " \u001b[33m--incremental-loop\u001b[m \u001b[4mL\u001b[m         check properties after each unwinding of loop \u001b[4mL\u001b[m \n",
      "                              (use \u001b[33m--show-loops\u001b[m to get the loop IDs)\n",
      " \u001b[33m--unwind-min\u001b[m \u001b[4mnr\u001b[m              start incremental-loop after \u001b[4mnr\u001b[m unwindings but \n",
      "                              before solving that iteration. If for example it \n",
      "                              is 1, then the loop will be unwound once, and \n",
      "                              immediately checked. Note: this means for \u001b[33m\n",
      "                              --unwind-min\u001b[m 1 or 0 all properties are checked.\n",
      " \u001b[33m--unwind-max\u001b[m \u001b[4mnr\u001b[m              stop incremental-loop after \u001b[4mnr\u001b[m unwindings\n",
      " \u001b[33m--ignore-properties-before-unwind-min\u001b[m  do not check properties before \n",
      "                              unwind-min when using \u001b[33m--incremental-loop\u001b[m\n",
      " \u001b[33m--show-vcc\u001b[m                   show the verification conditions\n",
      " \u001b[33m--slice-formula\u001b[m              remove assignments unrelated to property\n",
      " \u001b[33m--unwinding-assertions\u001b[m       generate unwinding assertions (cannot be used \n",
      "                              with \u001b[33m--cover\u001b[m)\n",
      " \u001b[33m--partial-loops\u001b[m              permit paths with partial loops\n",
      " \u001b[33m--no-self-loops-to-assumptions\u001b[m  do not simplify while(1){\u001b[m} to assume(0)\n",
      " \u001b[33m--symex-complexity-limit\u001b[m \u001b[4mN\u001b[m   how complex (\u001b[4mN\u001b[m) a path can become before symex \n",
      "                              abandons it. Currently uses guard size to \n",
      "                              calculate complexity.\n",
      " \u001b[33m--symex-complexity-failed-child-loops-limit\u001b[m \u001b[4mN\u001b[m  how many child branches (\u001b[4mN\u001b[m) in \n",
      "                              an iteration are allowed to fail due to \n",
      "                              complexity violations before the loop gets \n",
      "                              blacklisted\n",
      " \u001b[33m--graphml-witness\u001b[m \u001b[4mfilename\u001b[m   write the witness in GraphML format to \u001b[4mfilename\u001b[m\n",
      " \u001b[33m--symex-cache-dereferences\u001b[m   enable caching of repeated dereferences\n",
      "\n",
      "Backend options:\n",
      " \u001b[33m--object-bits\u001b[m \u001b[4mn\u001b[m              number of bits used for object addresses\n",
      " \u001b[33m--sat-solver\u001b[m \u001b[4msolver\u001b[m          use specified SAT solver\n",
      " \u001b[33m--external-sat-solver\u001b[m \u001b[4mcmd\u001b[m    command to invoke SAT solver process\n",
      " \u001b[33m--no-sat-preprocessor\u001b[m        disable the SAT solver's simplifier\n",
      " \u001b[33m--dimacs\u001b[m                     generate CNF in DIMACS format\n",
      " \u001b[33m--beautify\u001b[m                   beautify the counterexample (greedy heuristic)\n",
      " \u001b[33m--smt1\u001b[m                       use default SMT1 solver (obsolete)\n",
      " \u001b[33m--smt2\u001b[m                       use default SMT2 solver (Z3)\n",
      " \u001b[33m--bitwuzla\u001b[m                   use Bitwuzla\n",
      " \u001b[33m--boolector\u001b[m                  use Boolector\n",
      " \u001b[33m--cprover-smt2\u001b[m               use CPROVER SMT2 solver\n",
      " \u001b[33m--cvc3\u001b[m                       use CVC3\n",
      " \u001b[33m--cvc4\u001b[m                       use CVC4\n",
      " \u001b[33m--cvc5\u001b[m                       use CVC5\n",
      " \u001b[33m--mathsat\u001b[m                    use MathSAT\n",
      " \u001b[33m--yices\u001b[m                      use Yices\n",
      " \u001b[33m--z3\u001b[m                         use Z3\n",
      " \u001b[33m--fpa\u001b[m                        use theory of floating-point arithmetic\n",
      " \u001b[33m--refine\u001b[m                     use refinement procedure (experimental)\n",
      " \u001b[33m--refine-arrays\u001b[m              use refinement for arrays only\n",
      " \u001b[33m--refine-arithmetic\u001b[m          refinement of arithmetic expressions only\n",
      " \u001b[33m--max-node-refinement\u001b[m        maximum refinement iterations for arithmetic \n",
      "                              expressions\n",
      " \u001b[33m--incremental-smt2-solver\u001b[m \u001b[4mcmd\u001b[m  command to invoke external SMT solver for \n",
      "                              incremental solving (experimental)\n",
      " \u001b[33m--outfile\u001b[m \u001b[4mfilename\u001b[m           output formula to given file\n",
      " \u001b[33m--dump-smt-formula\u001b[m \u001b[4mfilename\u001b[m  output smt incremental formula to the given file\n",
      " \u001b[33m--write-solver-stats-to\u001b[m \u001b[4mjson-file\u001b[m  collect the solver query complexity\n",
      " \u001b[33m--refine-strings\u001b[m             use string refinement (experimental)\n",
      " \u001b[33m--string-printable\u001b[m           restrict to printable strings (experimental)\n",
      " \u001b[33m--arrays-uf-never\u001b[m            never turn arrays into uninterpreted functions\n",
      " \u001b[33m--arrays-uf-always\u001b[m           always turn arrays into uninterpreted functions\n",
      " \u001b[33m--show-array-constraints\u001b[m     show array theory constraints added during post \n",
      "                              processing. Requires \u001b[33m--json-ui\u001b[m.\n",
      "\n",
      "User-interface options:\n",
      " \u001b[33m--xml-ui\u001b[m                     use XML-formatted output\n",
      " \u001b[33m--xml-interface\u001b[m              bi-directional XML interface\n",
      " \u001b[33m--json-ui\u001b[m                    use JSON-formatted output\n",
      " \u001b[33m--json-interface\u001b[m             bi-directional JSON interface\n",
      " \u001b[33m--trace-json-extended\u001b[m        add rawLhs property to trace\n",
      " \u001b[33m--trace-show-function-calls\u001b[m  show function calls in plain trace\n",
      " \u001b[33m--trace-show-code\u001b[m            show original code in plain trace\n",
      " \u001b[33m--trace-hex\u001b[m                  represent plain trace values in hex\n",
      " \u001b[33m--compact-trace\u001b[m              give a compact trace\n",
      " \u001b[33m--stack-trace\u001b[m                give a stack trace only\n",
      " \u001b[33m--flush\u001b[m                      flush every line of output\n",
      " \u001b[33m--verbosity\u001b[m \u001b[4m#\u001b[m                verbosity level\n",
      " \u001b[33m--timestamp\u001b[m [\u001b[33mmonotonic\u001b[m|\u001b[33mwall\u001b[m]  print microsecond-precision timestamps. \u001b[33mmonotonic\u001b[m\n",
      "                              : stamps increase monotonically. \u001b[33mwall\u001b[m: ISO-8601 \n",
      "                              wall clock timestamps.\n",
      "\n"
     ]
    }
   ],
   "source": [
    "!cbmc --help"
   ]
  },
  {
   "cell_type": "code",
   "execution_count": 14,
   "metadata": {},
   "outputs": [
    {
     "name": "stdout",
     "output_type": "stream",
     "text": [
      "CBMC version 5.95.1 (cbmc-5.95.1) 64-bit x86_64 linux\n",
      "Parsing /tmp/foo.c\n",
      "Converting\n",
      "Type-checking foo\n",
      "file /tmp/foo.c line 17 function foo: function 'strcmp' is not declared\n",
      "file /tmp/foo.c line 17 function foo: function 'assert' is not declared\n",
      "Generating GOTO Program\n",
      "Adding CPROVER library (x86_64)\n",
      "file <builtin-library-strcmp> line 9: warning: implicit function declaration \"strcmp\"\n",
      "old definition in module foo file /tmp/foo.c line 17 function foo\n",
      "signed int (void)\n",
      "new definition in module <built-in-library> file <builtin-library-strcmp> line 9\n",
      "signed int (const char *s1, const char *s2)\n",
      "Removal of function pointers and virtual functions\n",
      "Generic Property Instrumentation\n",
      "Running with 8 object bits, 56 offset bits (default)\n",
      "Starting Bounded Model Checking\n",
      "Unwinding loop strcmp.0 iteration 1 file <builtin-library-strcmp> line 44 function strcmp thread 0\n",
      "Unwinding loop strcmp.0 iteration 2 file <builtin-library-strcmp> line 44 function strcmp thread 0\n",
      "Unwinding loop strcmp.0 iteration 3 file <builtin-library-strcmp> line 44 function strcmp thread 0\n",
      "Unwinding loop strcmp.0 iteration 4 file <builtin-library-strcmp> line 44 function strcmp thread 0\n",
      "Unwinding loop strcmp.0 iteration 5 file <builtin-library-strcmp> line 44 function strcmp thread 0\n",
      "Runtime Symex: 0.007687s\n",
      "size of program expression: 146 steps\n",
      "simple slicing removed 5 assignments\n",
      "Generated 1 VCC(s), 1 remaining after simplification\n",
      "Runtime Postprocess Equation: 3.9459e-05s\n",
      "Passing problem to propositional reduction\n",
      "converting SSA\n",
      "Runtime Convert SSA: 0.00218202s\n",
      "Running propositional reduction\n",
      "Post-processing\n",
      "Runtime Post-process: 8.738e-06s\n",
      "Solving with MiniSAT 2.2.1 with simplifier\n",
      "1615 variables, 2794 clauses\n",
      "SAT checker: instance is SATISFIABLE\n",
      "Runtime Solver: 0.00200704s\n",
      "Runtime decision procedure: 0.00431629s\n",
      "Building error trace\n",
      "\n",
      "** Results:\n",
      "/tmp/foo.c function foo\n",
      "\u001b[2m[foo.assertion.1] \u001b[0mline 17 assertion return_value_strcmp != 0: \u001b[31mFAILURE\u001b[0m\n",
      "\n",
      "Trace for foo.assertion.1:\n",
      "\n",
      "State 15 file /tmp/foo.c function __CPROVER__start line 14 thread 0\n",
      "----------------------------------------------------\n",
      "  INPUT tmp: ((char *)NULL) (00000000 00000000 00000000 00000000 00000000 00000000 00000000 00000000)\n",
      "\n",
      "State 16 file /tmp/foo.c function __CPROVER__start line 14 thread 0\n",
      "----------------------------------------------------\n",
      "  INPUT tmp$0: 0 (00000000)\n",
      "\n",
      "State 17 file /tmp/foo.c function __CPROVER__start line 14 thread 0\n",
      "----------------------------------------------------\n",
      "  INPUT argv: ((char **)NULL) (00000000 00000000 00000000 00000000 00000000 00000000 00000000 00000000)\n",
      "\n",
      "State 20 file /tmp/foo.c function __CPROVER__start line 14 thread 0\n",
      "----------------------------------------------------\n",
      "  argv=((char **)NULL) \u001b[2m(00000000 00000000 00000000 00000000 00000000 00000000 00000000 00000000)\u001b[0m\n",
      "\n",
      "State 22 file /tmp/foo.c function foo line 15 thread 0\n",
      "----------------------------------------------------\n",
      "  command=INVALID-216 \u001b[2m(11011000 00000000 00000000 00000000 00000000 00000000 00000000 00000000)\u001b[0m\n",
      "\n",
      "State 26 file /tmp/foo.c function foo line 17 thread 0\n",
      "----------------------------------------------------\n",
      "  s1=\"STORE\" \u001b[2m(00000100 00000000 00000000 00000000 00000000 00000000 00000000 00000000)\u001b[0m\n",
      "\n",
      "State 27 file /tmp/foo.c function foo line 17 thread 0\n",
      "----------------------------------------------------\n",
      "  s2=INVALID-216 \u001b[2m(11011000 00000000 00000000 00000000 00000000 00000000 00000000 00000000)\u001b[0m\n",
      "\n",
      "State 29 file <builtin-library-strcmp> function strcmp line 24 thread 0\n",
      "----------------------------------------------------\n",
      "  i=0ul \u001b[2m(00000000 00000000 00000000 00000000 00000000 00000000 00000000 00000000)\u001b[0m\n",
      "\n",
      "State 30 file <builtin-library-strcmp> function strcmp line 25 thread 0\n",
      "----------------------------------------------------\n",
      "  ch1=0 \u001b[2m(00000000)\u001b[0m\n",
      "\n",
      "State 31 file <builtin-library-strcmp> function strcmp line 25 thread 0\n",
      "----------------------------------------------------\n",
      "  ch2=0 \u001b[2m(00000000)\u001b[0m\n",
      "\n",
      "State 32 file <builtin-library-strcmp> function strcmp line 30 thread 0\n",
      "----------------------------------------------------\n",
      "  ch1=83 \u001b[2m(01010011)\u001b[0m\n",
      "\n",
      "State 33 file <builtin-library-strcmp> function strcmp line 31 thread 0\n",
      "----------------------------------------------------\n",
      "  ch2=83 \u001b[2m(01010011)\u001b[0m\n",
      "\n",
      "State 35 file <builtin-library-strcmp> function strcmp line 42 thread 0\n",
      "----------------------------------------------------\n",
      "  i=1ul \u001b[2m(00000000 00000000 00000000 00000000 00000000 00000000 00000000 00000001)\u001b[0m\n",
      "\n",
      "State 37 file <builtin-library-strcmp> function strcmp line 30 thread 0\n",
      "----------------------------------------------------\n",
      "  ch1=84 \u001b[2m(01010100)\u001b[0m\n",
      "\n",
      "State 38 file <builtin-library-strcmp> function strcmp line 31 thread 0\n",
      "----------------------------------------------------\n",
      "  ch2=84 \u001b[2m(01010100)\u001b[0m\n",
      "\n",
      "State 40 file <builtin-library-strcmp> function strcmp line 42 thread 0\n",
      "----------------------------------------------------\n",
      "  i=2ul \u001b[2m(00000000 00000000 00000000 00000000 00000000 00000000 00000000 00000010)\u001b[0m\n",
      "\n",
      "State 42 file <builtin-library-strcmp> function strcmp line 30 thread 0\n",
      "----------------------------------------------------\n",
      "  ch1=79 \u001b[2m(01001111)\u001b[0m\n",
      "\n",
      "State 43 file <builtin-library-strcmp> function strcmp line 31 thread 0\n",
      "----------------------------------------------------\n",
      "  ch2=79 \u001b[2m(01001111)\u001b[0m\n",
      "\n",
      "State 45 file <builtin-library-strcmp> function strcmp line 42 thread 0\n",
      "----------------------------------------------------\n",
      "  i=3ul \u001b[2m(00000000 00000000 00000000 00000000 00000000 00000000 00000000 00000011)\u001b[0m\n",
      "\n",
      "State 47 file <builtin-library-strcmp> function strcmp line 30 thread 0\n",
      "----------------------------------------------------\n",
      "  ch1=82 \u001b[2m(01010010)\u001b[0m\n",
      "\n",
      "State 48 file <builtin-library-strcmp> function strcmp line 31 thread 0\n",
      "----------------------------------------------------\n",
      "  ch2=82 \u001b[2m(01010010)\u001b[0m\n",
      "\n",
      "State 50 file <builtin-library-strcmp> function strcmp line 42 thread 0\n",
      "----------------------------------------------------\n",
      "  i=4ul \u001b[2m(00000000 00000000 00000000 00000000 00000000 00000000 00000000 00000100)\u001b[0m\n",
      "\n",
      "State 52 file <builtin-library-strcmp> function strcmp line 30 thread 0\n",
      "----------------------------------------------------\n",
      "  ch1=69 \u001b[2m(01000101)\u001b[0m\n",
      "\n",
      "State 53 file <builtin-library-strcmp> function strcmp line 31 thread 0\n",
      "----------------------------------------------------\n",
      "  ch2=69 \u001b[2m(01000101)\u001b[0m\n",
      "\n",
      "State 55 file <builtin-library-strcmp> function strcmp line 42 thread 0\n",
      "----------------------------------------------------\n",
      "  i=5ul \u001b[2m(00000000 00000000 00000000 00000000 00000000 00000000 00000000 00000101)\u001b[0m\n",
      "\n",
      "State 57 file <builtin-library-strcmp> function strcmp line 30 thread 0\n",
      "----------------------------------------------------\n",
      "  ch1=0 \u001b[2m(00000000)\u001b[0m\n",
      "\n",
      "State 58 file <builtin-library-strcmp> function strcmp line 31 thread 0\n",
      "----------------------------------------------------\n",
      "  ch2=0 \u001b[2m(00000000)\u001b[0m\n",
      "\n",
      "State 60 file <builtin-library-strcmp> function strcmp line 42 thread 0\n",
      "----------------------------------------------------\n",
      "  i=6ul \u001b[2m(00000000 00000000 00000000 00000000 00000000 00000000 00000000 00000110)\u001b[0m\n",
      "\n",
      "State 62 file <builtin-library-strcmp> function strcmp line 45 thread 0\n",
      "----------------------------------------------------\n",
      "  goto_symex$$return_value$$strcmp=0 \u001b[2m(00000000 00000000 00000000 00000000)\u001b[0m\n",
      "\n",
      "State 64 file /tmp/foo.c function foo line 17 thread 0\n",
      "----------------------------------------------------\n",
      "  return_value_strcmp=0 \u001b[2m(00000000 00000000 00000000 00000000)\u001b[0m\n",
      "\n",
      "\u001b[31mViolated property:\u001b[0m\n",
      "  file /tmp/foo.c function foo line 17 thread 0\n",
      "  \u001b[31massertion return_value_strcmp != 0\u001b[0m\n",
      "  return_value_strcmp != 0\n",
      "\n",
      "\n",
      "\n",
      "** 1 of 1 failed (2 iterations)\n",
      "VERIFICATION FAILED\n"
     ]
    }
   ],
   "source": [
    "!cbmc --function foo /tmp/foo.c --trace"
   ]
  },
  {
   "cell_type": "code",
   "execution_count": 9,
   "metadata": {},
   "outputs": [
    {
     "name": "stdout",
     "output_type": "stream",
     "text": [
      "CBMC version 5.95.1 (cbmc-5.95.1) 64-bit x86_64 linux\n",
      "Parsing /tmp/foo.c\n",
      "Converting\n",
      "Type-checking foo\n",
      "file /tmp/foo.c line 16 function foo: function 'assert' is not declared\n",
      "Generating GOTO Program\n",
      "Adding CPROVER library (x86_64)\n",
      "Removal of function pointers and virtual functions\n",
      "Generic Property Instrumentation\n",
      "^^^^^^^^^^^^^^^^^^^^^^^^^^^^^^^^^^^^^^^^^^^^\n",
      "\n",
      "\u001b[1mfoo\u001b[0m /* foo */\n",
      "        // 29 file /tmp/foo.c line 15 function foo\n",
      "        DECL foo::1::command : signedbv[8]*\n",
      "        // 30 file /tmp/foo.c line 15 function foo\n",
      "        ASSIGN foo::1::command := *(foo::argv + cast(1, signedbv[64]))\n",
      "        // 31 file /tmp/foo.c line 16 function foo\n",
      "        DECL foo::$tmp::return_value_mystrcmp : signedbv[32]\n",
      "        // 32 file /tmp/foo.c line 16 function foo\n",
      "        CALL foo::$tmp::return_value_mystrcmp := mystrcmp(address_of(\"STORE\"[0]), foo::1::command)\n",
      "        // 33 file /tmp/foo.c line 16 function foo\n",
      "        ASSERT foo::$tmp::return_value_mystrcmp ≠ 0 // assertion return_value_mystrcmp != 0\n",
      "        // 34 file /tmp/foo.c line 17 function foo\n",
      "        SET RETURN VALUE 0\n",
      "        // 35 file /tmp/foo.c line 17 function foo\n",
      "        DEAD foo::$tmp::return_value_mystrcmp\n",
      "        // 36 file /tmp/foo.c line 17 function foo\n",
      "        DEAD foo::1::command\n",
      "        // 37 file /tmp/foo.c line 18 function foo\n",
      "        END_FUNCTION\n",
      "\n",
      "^^^^^^^^^^^^^^^^^^^^^^^^^^^^^^^^^^^^^^^^^^^^\n",
      "\n",
      "\u001b[1mmystrcmp\u001b[0m /* mystrcmp */\n",
      "        // 0 file /tmp/foo.c line 2 function mystrcmp\n",
      "        DECL mystrcmp::1::c1 : unsignedbv[8]\n",
      "        // 1 file /tmp/foo.c line 2 function mystrcmp\n",
      "        DECL mystrcmp::1::c2 : unsignedbv[8]\n",
      "        // 2 file /tmp/foo.c line 3 function mystrcmp\n",
      "     1: IF ¬(1 ≠ 0) THEN GOTO 4\n",
      "        // 3 file /tmp/foo.c line 4 function mystrcmp\n",
      "        DECL mystrcmp::$tmp::tmp_post_cs : signedbv[8]*\n",
      "        // 4 file /tmp/foo.c line 4 function mystrcmp\n",
      "        ASSIGN mystrcmp::$tmp::tmp_post_cs := mystrcmp::cs\n",
      "        // 5 file /tmp/foo.c line 4 function mystrcmp\n",
      "        ASSIGN mystrcmp::cs := mystrcmp::cs + 1\n",
      "        // 6 file /tmp/foo.c line 4 function mystrcmp\n",
      "        ASSIGN mystrcmp::1::c1 := cast(*mystrcmp::$tmp::tmp_post_cs, unsignedbv[8])\n",
      "        // 7 file /tmp/foo.c line 5 function mystrcmp\n",
      "        DECL mystrcmp::$tmp::tmp_post_ct : signedbv[8]*\n",
      "        // 8 file /tmp/foo.c line 5 function mystrcmp\n",
      "        ASSIGN mystrcmp::$tmp::tmp_post_ct := mystrcmp::ct\n",
      "        // 9 file /tmp/foo.c line 5 function mystrcmp\n",
      "        ASSIGN mystrcmp::ct := mystrcmp::ct + 1\n",
      "        // 10 file /tmp/foo.c line 5 function mystrcmp\n",
      "        ASSIGN mystrcmp::1::c2 := cast(*mystrcmp::$tmp::tmp_post_ct, unsignedbv[8])\n",
      "        // 11 file /tmp/foo.c line 6 function mystrcmp\n",
      "        IF ¬(mystrcmp::1::c1 ≠ mystrcmp::1::c2) THEN GOTO 2\n",
      "        // 12 file /tmp/foo.c line 7 function mystrcmp\n",
      "        SET RETURN VALUE (cast(mystrcmp::1::c1, signedbv[32]) < cast(mystrcmp::1::c2, signedbv[32]) ? -1 : 1)\n",
      "        // 13 file /tmp/foo.c line 7 function mystrcmp\n",
      "        DEAD mystrcmp::$tmp::tmp_post_ct\n",
      "        // 14 file /tmp/foo.c line 7 function mystrcmp\n",
      "        DEAD mystrcmp::$tmp::tmp_post_cs\n",
      "        // 15 file /tmp/foo.c line 7 function mystrcmp\n",
      "        DEAD mystrcmp::1::c2\n",
      "        // 16 file /tmp/foo.c line 7 function mystrcmp\n",
      "        DEAD mystrcmp::1::c1\n",
      "        // 17 file /tmp/foo.c line 7 function mystrcmp\n",
      "        GOTO 5\n",
      "        // 18 file /tmp/foo.c line 8 function mystrcmp\n",
      "     2: IF mystrcmp::1::c1 ≠ 0 THEN GOTO 3\n",
      "        // 19 file /tmp/foo.c line 9 function mystrcmp\n",
      "        DEAD mystrcmp::$tmp::tmp_post_ct\n",
      "        // 20 file /tmp/foo.c line 9 function mystrcmp\n",
      "        DEAD mystrcmp::$tmp::tmp_post_cs\n",
      "        // 21 file /tmp/foo.c line 9 function mystrcmp\n",
      "        GOTO 4\n",
      "        // 22 file /tmp/foo.c line 10 function mystrcmp\n",
      "     3: DEAD mystrcmp::$tmp::tmp_post_ct\n",
      "        // 23 file /tmp/foo.c line 10 function mystrcmp\n",
      "        DEAD mystrcmp::$tmp::tmp_post_cs\n",
      "        // 24 file /tmp/foo.c line 3 function mystrcmp\n",
      "        GOTO 1\n",
      "        // 25 file /tmp/foo.c line 11 function mystrcmp\n",
      "     4: SET RETURN VALUE 0\n",
      "        // 26 file /tmp/foo.c line 11 function mystrcmp\n",
      "        DEAD mystrcmp::1::c2\n",
      "        // 27 file /tmp/foo.c line 11 function mystrcmp\n",
      "        DEAD mystrcmp::1::c1\n",
      "        // 28 file /tmp/foo.c line 12 function mystrcmp\n",
      "     5: END_FUNCTION\n",
      "\n"
     ]
    }
   ],
   "source": [
    "!cbmc /tmp/foo.c --show-goto-functions"
   ]
  },
  {
   "cell_type": "markdown",
   "metadata": {},
   "source": [
    "Nathan Chong, Byron Cook, Konstantinos Kallas, Kareem Khazem, Felipe R. Monteiro, Daniel Schwartz-Narbonne, Serdar Tasiran, Michael Tautschnig, and Mark R. Tuttle. 2020. Code-level model checking in the software development workflow. In Proceedings of the ACM/IEEE 42nd International Conference on Software Engineering: Software Engineering in Practice (ICSE-SEIP '20). Association for Computing Machinery, New York, NY, USA, 11–20. https://doi.org/10.1145/3377813.3381347\n",
    "\n",
    "https://github.com/awslabs/aws-c-common\n",
    "\n",
    "\n"
   ]
  },
  {
   "cell_type": "markdown",
   "metadata": {},
   "source": [
    "# Formal Methods\n",
    "-\n",
    "-\n",
    "\n",
    "\n",
    "# CBMC\n",
    "- AWS\n",
    "- paper\n",
    "- bootloader\n",
    "\n",
    "# Selected applications\n",
    "CBMC bullet points\n",
    "\n",
    "C Bounded Model Checker\n",
    "Symbolic execution of C code\n",
    "Highly Automated\n",
    "Does not scale to one shot verification of large codebases. This can be attacked by breaking up the problem manually into “proof harnesses”.\n",
    "Finds many problems automatically. Int overflow, bounds violations, use after free\n",
    "https://news.ycombinator.com/item?id=39191507 The C bounded model checker: criminally underused . My introductory blog post\n",
    "An extremely useful intuitive tool to ask nearly any question about moderately sized chunks of C code.\n",
    "AWS is leaning hard into CBMC. They have a methodology paper. This is not about the nuts and bolts of the theory or working of the tool, but how an organization should use it. Code Level Model checking in the software development workflow. https://dl.acm.org/doi/10.1145/3377813.3381347 10min talk https://www.youtube.com/watch?v=-EuIrAP9_tU blog post https://www.amazon.science/blog/how-to-integrate-formal-proofs-into-software-development https://github.com/awslabs/aws-c-common\n",
    "make specifications explicit in the code\n",
    "write unit-test like proofs in declarative style\n",
    "integrate proof artifacts into the developer work-flow. In repo.\n",
    "fix bugs instead of just reporting them\n",
    "\n",
    "pull requests review of specifications\n",
    "Specifications are code. No “two language problem” for spec language\n",
    "\n",
    "“Infinite” unit tests\n",
    "More complete analysis than analyzers. \n",
    "Less complete than interactive verification like Frama-C, Coq VST. Way less human effort also. \n",
    "Not a golden bullet. Defense in depth\n",
    "Testing is still necessary. Validating model with respect to the world\n",
    "Property Based Testing/Fuzzing is the next tier up that can find unexpected things\n",
    "Undefined Behavior not well detected currently https://github.com/diffblue/cbmc/issues/7732\n",
    "Clang -Wall -Wextra -fanalyze can catch other useful bugs\n",
    "https://codechecker.readthedocs.io/en/latest/ can run many analyses in CI\n",
    "Frama-C has a number of useful automated analyses. Eva value analysis plugin\n",
    "\n",
    "\n",
    "Industrial Use Cases https://www.cprover.org/cbmc/applications/:\n",
    "Simulink equivalence checking\n",
    "Partial Translation Verification for Untrusted Code-Generators CBMC is used for translation validation of Simulink and generated ANSI-C\n",
    ". Translation Validation for Stateflow to C CBMC is used for translation validation of Simulink and generated ANSI-C.\n",
    "Benchmarking Software Model Checkers on Automotive Code CBMC is applied to two R&D prototype Simulink models from Ford\n",
    "Test Vector Generation. CBMC can generate test sets to exercise every code path\n",
    "Worst Case Execution Time – #define TIC(N) {_time += N;} \n",
    " Scalable and precise estimation and debugging of the worst-case execution time for analysis-friendly processors: a comeback of model checking\n",
    " CBMC is used for WCET analysis of programs for the Atmel AVR family\n",
    "WCET Overapproximation for Software in the Context of a Cyber-Physical System\n",
    " CBMC is used to overapproximate the WCET of SPARC code in a CPS controller.\n",
    "Scalable and Precise Refinement of Cache Timing Analysis via Model Checking\n",
    " An application of CBMC to WCET with emphasis on cache performance.\n",
    "Cyper-physical Systems and Control\n",
    "Robustness Analysis of Floating-Point Programs by Self-Composition\n",
    "A Verified Low-Level Implementation of the Adaptive Exterior Light and Speed Control System\n",
    " CBMC is used to verify a MISRA-C implementation of the 2020 ABZ case study.\n",
    "Experience with Static PLC Code Analysis at CERN\n",
    " CBMC is used to verify PLC code.\n",
    "Cyber/Physical Co-Verification for Developing Reliable Cyber-Physical Systems\n",
    " CBMC is used to verify a combination of a controller and a plant-model in the automotive domain.\n",
    "Runtime Verication for Ultra-Critical Systems\n",
    " Copilot uses CBMC to verify embedded C programs generated from a Haskell-based data-flow DSL.\n",
    "Linking Functional Requirements and Software Verification\n",
    " An application of CBMC to check functional requirements of automotive software.\n",
    "\n",
    "\n",
    "unit testing vs Property based testing vs model checking. Left to right is more complete coverage. More complex technique. Not necessarily that much arder though\n",
    "Compared to \n",
    "\n",
    "# Comparison with Fuzzing / Property based Testing\n",
    "\n",
    "- Sometimes eaiser\n",
    "\n"
   ]
  }
 ],
 "metadata": {
  "kernelspec": {
   "display_name": ".venv",
   "language": "python",
   "name": "python3"
  },
  "language_info": {
   "codemirror_mode": {
    "name": "ipython",
    "version": 3
   },
   "file_extension": ".py",
   "mimetype": "text/x-python",
   "name": "python",
   "nbconvert_exporter": "python",
   "pygments_lexer": "ipython3",
   "version": "3.12.3"
  }
 },
 "nbformat": 4,
 "nbformat_minor": 2
}
