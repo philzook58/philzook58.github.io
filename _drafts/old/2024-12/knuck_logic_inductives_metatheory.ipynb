{
 "cells": [
  {
   "cell_type": "markdown",
   "metadata": {},
   "source": [
    "# Fix combinator / Recursion Schemes\n",
    "This is a generic mechanism to build inductive stuff.\n",
    "\n",
    "lack of polymorphism is a killer here"
   ]
  },
  {
   "cell_type": "code",
   "execution_count": null,
   "metadata": {},
   "outputs": [],
   "source": [
    "from z3 import *\n",
    "\n",
    "def ListF(T):\n",
    "    ListF = Datatype(\"ListF\")\n",
    "    ListF.declare('nil')\n",
    "    ListF.declare('cons', ('head', T), ('tail', ListF))\n",
    "    ListF = ListF.create()\n",
    "    x = Const(\"x\", T)\n",
    "    f = Const(\"f\", ArraySort(T, T)) # hmm. polymorphism hurts here.\n",
    "    ListF.map = kd.define_fix(\"map\", [f,x], lambda mp: If(x == ListF.nil, ListF.nil, ListF.cons(f(x.head), mp(f, x.tail))))\n",
    "    return ListF\n",
    "\n",
    "def Fix(f):\n",
    "    Fix = Datatype(\"Fix\")\n",
    "    T = f(Fix)\n",
    "    Fix.declare('fix', ('unfix', T))\n",
    "    Fix = Fix.create()\n",
    "    \n",
    "    def induct(P):\n",
    "        x = FreshConst(\"x\", Fix)\n",
    "        return  kd.axiom(ForAll([x], Implies(T.map(P,x.unfix), P(x))) == ForAll([x], P(x)))\n",
    "    \n",
    "def CoFix(f):\n",
    "    pass"
   ]
  },
  {
   "cell_type": "markdown",
   "metadata": {},
   "source": [
    "# Separation Logic\n",
    "my blog post.\n",
    "\n",
    "Separation logic is a lifted logic. over patial maps\n",
    "\n"
   ]
  },
  {
   "cell_type": "code",
   "execution_count": null,
   "metadata": {},
   "outputs": [],
   "source": [
    "Function(\"valid\", HeapPred, BoolSort)\n",
    "valid = kd.define(\"valid\", [P], ForAll[h], P[h])"
   ]
  },
  {
   "cell_type": "markdown",
   "metadata": {},
   "source": [
    "# temporal\n",
    "\n"
   ]
  },
  {
   "cell_type": "code",
   "execution_count": null,
   "metadata": {},
   "outputs": [],
   "source": [
    "StreamPred = IntSort() >> BoolSort()\n",
    "p,q,r = smt.Const(\"p q r\", StreamPred)\n",
    "x = smt.Int(\"x\")\n",
    "valid = kd.define(\"valid\", [p], smt.ForAll([x], x >= 0, p[x]))"
   ]
  },
  {
   "cell_type": "markdown",
   "metadata": {},
   "source": [
    "# Propositional Logic\n",
    "Embedding propsiotional logic as a syntax tree inside knuckeldragger\n",
    "\n"
   ]
  },
  {
   "cell_type": "code",
   "execution_count": null,
   "metadata": {},
   "outputs": [],
   "source": [
    "from z3 import *\n",
    "Prop = Datatype(\"Prop\")\n",
    "Prop.declare(\"Atom\", (\"x\", IntSort()))\n",
    "Prop.declare(\"Impl\", (\"a\", Prop), (\"b\", Prop))\n",
    "Prop.declare(\"Not\", (\"x0\", Prop))\n",
    "\n",
    "Prop = Prop.create()\n",
    "\n",
    "seq = Function(\"seq\", Set(Prop), Prop, BoolSort())\n",
    "impI = kd.axiom(kd.QForAll([gam1, p,q],   \n",
    "                seq(Lambda([p, Or(p == p, gam[p])  q),  \n",
    "        #-----------------------------\n",
    "                seq(gam, Prop.Impl(p, q)))))\n",
    " ))\n",
    "impE = \n",
    "\n",
    "refl = kd.axiom(kd.QForAll(  gam[p], seq(gam, p)))\n"
   ]
  },
  {
   "cell_type": "markdown",
   "metadata": {},
   "source": [
    "# Type Metaptheroy"
   ]
  },
  {
   "cell_type": "code",
   "execution_count": 1,
   "metadata": {},
   "outputs": [],
   "source": [
    "from z3 import *\n",
    "\n",
    "Type = Datatype('Type')\n",
    "Type.declare('bool')\n",
    "Type = Type.create()\n",
    "\n",
    "Expr = Datatype('Expr')\n",
    "Expr.declare('true')\n",
    "Expr.declare('false')\n",
    "Expr.declare(\"ite\", ('cond', Expr), ('then', Expr), ('else', Expr))\n",
    "Expr = Expr.create()\n",
    "e,e1,e2 = Consts('e e1 e2', Expr)\n",
    "\n",
    "Value = Datatype('Value')\n",
    "Value.declare(\"true\")\n",
    "Value = Value.create()\n",
    "\n",
    "Ctx = Datatype('Ctx')\n",
    "Ctx.declare('empty')\n",
    "Ctx.declare(\"ite\", ('cond', Ctx), ('then', Expr), ('else', Expr))\n",
    "Ctx = Ctx.create()\n",
    "ctx,ctx1,ctx2 = Consts('ctx ctx1 ctx2', Ctx)\n",
    "\n",
    "\n",
    "\n",
    "B = BoolSort()\n",
    "step = Function(\"step\", Ctx, Expr, Ctx, Expr, B)\n",
    "step_def = ForAll([ctx, e, ctx1, e1],\n",
    "                  step(ctx, e, ctx1, e1) == \n",
    "                    Or()\n",
    "                  )\n",
    "\n",
    "eval = TransitiveClosure(step)\n",
    "# Or labelled transitions + RecFun\n",
    "\n"
   ]
  },
  {
   "cell_type": "markdown",
   "metadata": {},
   "source": [
    "https://softwarefoundations.cis.upenn.edu/plf-current/Smallstep.html\n"
   ]
  },
  {
   "cell_type": "code",
   "execution_count": null,
   "metadata": {},
   "outputs": [],
   "source": [
    "from z3 import *\n",
    "tm = Datatype(\"tm\")\n",
    "tm.declare(\"C\", (\"n\", IntSort()))\n",
    "tm.declare(\"P\", (\"n\", tm), (\"m\", tm))\n",
    "tm = tm.create()\n",
    "\n",
    "t, t1, t2 = Consts(\"t t1 t2\", tm)\n",
    "eval = Function(\"eval\", tm, IntSort())\n",
    "eval_def = ForAll([x], eval(t) == If(tm.is_C(t), tm.n(t), eval(tm.m(t)) + eval(tm.n(t))))\n",
    "\n",
    "\n",
    "evalR = Datatype(\"evalR\")\n",
    "evalR.declare(\"E_Const\", (\"tm\", tm), (\"n\", IntSort()))\n",
    "evalR.declare(\"E_Plus\", (\"e1\",evalR), (\"e2\", evalR), (\"tm\", tm), (\"n\", IntSort()))\n",
    "evalR = evalR.create()\n",
    "e,p,p1,p2 = Consts(\"e p p1 p2\", evalR)\n",
    "\n",
    "wf = Function(\"wf\", evalR, BoolSort())\n",
    "wf_def = ForAll([p], wf(p) == Or(\n",
    "    And(evalR.is_E_Const(p), tm.is_C(evalR.tm(p))), tm.n(evalR.tm(p)) == evalR.n(p),\n",
    "    And(evalR.is_E_Plus(p), wf(evalR.e1(p)), wf(evalR.e2(p)), tm.is_P(evalR.tm(p)),\n",
    "        tm.P(evalR.tm(evalR.e1(p)), evalR.tm(evalR.e2(p))) == evalR.tm(p), evalR.n(p) == evalR.n(evalR.e1(p)) + evalR.n(evalR.e2(p)))\n",
    "    ))\n",
    "n,n1,n2 = Ints(\"n1 n2 n\")\n",
    "\n",
    "wf_def2 = ForAll([p], wf(p) == Or(\n",
    "    Exists([n], evalR(tm.C(x), x) == p),\n",
    "    Exists([t1,t2,n1,n2,p1,p2]), And(wf(p1), wf(p2), p == evalR.E_Plus(evalR.e1(p), evalR.e2(p), tm.P(evalR.tm(p1), evalR.tm(p2)), evalR.n(p1) + evalR.n(p2)))\n",
    "    ))\n",
    "\n",
    "\n",
    "wf2 = Function(\"wf2\", evalR, tm, IntSort(), BoolSort())\n",
    "wf2_def = ForAll([p, t, n], wf2(p, t,n) == \n",
    "                 And(t == evalR.tm(p), n == evalR.n(p), \n",
    "                    Or(\n",
    "                    Exists([n], evalR.E_Const(tm.C(x), x) == p),\n",
    "                    Exists([t1,t2,n1,n2,p1,p2]), And(wf(p1,t1,n1), wf(p2,t1,n1), \n",
    "                                                     p == evalR.E_Plus(evalR.e1(p), evalR.e2(p), tm.P(t1, t2), n1 + n2))\n",
    "    )))\n",
    "\n",
    "# So there's another style where I pack the parameters into the  datatype, but also into expose on the well formed function\n",
    "wf2 = Function(\"wf2\", evalR, tm, IntSort(), BoolSort())\n",
    "wf2_def = ForAll([p, t, n], wf2(p, t,n) == \n",
    "                 And(t == p.tm, n == p.n, \n",
    "                    Or(\n",
    "                    Exists([n], p == evalR.E_Const(tm.C(n), n)),\n",
    "                    Exists([t1,t2,n1,n2,p1,p2], And(wf(p1,t1,n1), wf(p2,t1,n1), p1 == e.p1, p2 == e.p2,\n",
    "                                                    p == evalR.E_Plus(p.e1, p.e2, tm.P(t1, t2), n1 + n2))\n",
    "    )))\n",
    "\n",
    "\n"
   ]
  },
  {
   "cell_type": "markdown",
   "metadata": {},
   "source": [
    "Different options  forencodsing inductive rwelationsd\n",
    "\n",
    "1. Two types. A record type and then is justification type and a well formed predictae that is akin to typeof(p, R(a,b,c))\n",
    "2. One type. Put the parameters in the justification\n",
    "3. Make a relation defined recursively Minikaren style\n",
    "\n"
   ]
  },
  {
   "cell_type": "code",
   "execution_count": null,
   "metadata": {},
   "outputs": [],
   "source": [
    "Even = Datatype(\"Even\")\n",
    "Even.declare(\"mk\", (\"a\", IntSort()))\n",
    "Even.create()\n",
    "\n",
    "# evidence, term, proof\n",
    "EvenP = Datatype(\"EvenP\")\n",
    "EvenP.declare(\"ev_0\")\n",
    "EvenP.declare(\"ev_SS\", (\"p\", EvenP))\n",
    "EvenP = EvenP.create()\n",
    "\n",
    "RecFunction(\"typeof\", EvenP, Even, BoolSort())\n",
    "DefineRecFunction(typeof, p, e, \n",
    "    Or(And(EvenP.is_ev_0(p), Even.a(e) == 0)\n",
    "       And(EvenP.is_evSS(p), typeof(EvenP.p(p), Even.mk(Even.a(e) - 2)))\n",
    "))\n",
    "\n",
    "\n",
    "\n",
    "Even = Datatype(\"Even\")\n",
    "Even.declare(\"ev_0\", (\"a\", IntSort()))\n",
    "Even.declare(\"ev_SS\", (\"a\", IntSort()),Eve , wf(Even.p(e)))\n",
    "    )\n",
    "\n",
    ")\n",
    "\n"
   ]
  },
  {
   "cell_type": "markdown",
   "metadata": {},
   "source": [
    "So there are a bunch of variations of what to make parameters of the well formed predicate vs what to make parameters of the proof object.\n",
    "\n",
    "\n",
    "I do think this version is the cleanest. Make parameters arguments to the relation and then everything else arguments to the proof objects.\n",
    "Sometimes might want definefunrec\n",
    "\n"
   ]
  },
  {
   "cell_type": "code",
   "execution_count": 11,
   "metadata": {},
   "outputs": [
    {
     "data": {
      "text/html": [
       "&forall;n, p :\n",
       " even(n, p) =\n",
       " (is(even_0, p) &and; n = 0 &or;\n",
       "  is(even_SS, p) &and; even(n - 2, pf(p)))"
      ],
      "text/plain": [
       "ForAll([n, p],\n",
       "       even(n, p) ==\n",
       "       Or(And(is(even_0, p), n == 0),\n",
       "          And(is(even_SS, p), even(n - 2, pf(p)))))"
      ]
     },
     "execution_count": 11,
     "metadata": {},
     "output_type": "execute_result"
    }
   ],
   "source": [
    "from z3 import *\n",
    "even_pf = Datatype(\"even_pf\") # [n]  #params\n",
    "n = Int(\"n\")\n",
    "even_pf.declare(\"even_0\")  # pred = lambda n: n == 0\n",
    "even_pf.declare(\"even_SS\", (\"pf\", even_pf)) # pred =lambda n, p: even(n-2,p.pf)\n",
    "pred_ss = lambda n,p: even(n-2, even_pf.pf(p))\n",
    "even_pf = even_pf.create()\n",
    "p = Const(\"p\", even_pf)\n",
    "even = Function(\"even\", IntSort(), even_pf, BoolSort())\n",
    "even_wf = ForAll([n,p], \n",
    "                 even(n,p) == \n",
    "                    Or(And(even_pf.is_even_0(p), n == 0), #pf.is_even_0()\n",
    "                       And(even_pf.is_even_SS(p), pred_ss(n, p))#And(even_pf.is_even_SS(p), even(n-2, even_pf.pf(p))) #pf.is_even_SS()\n",
    "                    )\n",
    "                                     )                 \n",
    "\n",
    "even_wf\n"
   ]
  },
  {
   "cell_type": "code",
   "execution_count": 18,
   "metadata": {},
   "outputs": [
    {
     "data": {
      "text/plain": [
       "'((_ is even_0) p)'"
      ]
     },
     "execution_count": 18,
     "metadata": {},
     "output_type": "execute_result"
    }
   ],
   "source": [
    "\n",
    "dir(even_pf)\n",
    "even_pf.is_even_0(p).sexpr()\n"
   ]
  },
  {
   "cell_type": "code",
   "execution_count": 17,
   "metadata": {},
   "outputs": [
    {
     "data": {
      "text/plain": [
       "z3.z3.DatatypeSortRef"
      ]
     },
     "execution_count": 17,
     "metadata": {},
     "output_type": "execute_result"
    }
   ],
   "source": [
    "foo = Datatype(\"foo\")\n",
    "type(foo)\n",
    "foo.declare(\"bar\")\n",
    "type(foo.create())\n",
    "\n",
    "\n",
    "    "
   ]
  },
  {
   "cell_type": "markdown",
   "metadata": {},
   "source": [
    "# Inductive prototype\n"
   ]
  },
  {
   "cell_type": "code",
   "execution_count": null,
   "metadata": {},
   "outputs": [],
   "source": [
    "def Inductive(name, f):\n",
    "    T = Datatype(name)\n",
    "    fields = f(T)\n",
    "    for field in fields:\n",
    "        T.declare(*field)\n",
    "    return T.create()\n"
   ]
  },
  {
   "cell_type": "code",
   "execution_count": null,
   "metadata": {},
   "outputs": [],
   "source": [
    "\n",
    "\n",
    "def induct(DT : DatatypeSortRef):\n",
    "    P = FreshConst(ArraySort(DT, BoolSort()), prefix=\"P\")\n",
    "    hyps = []\n",
    "    for i in range(DT.num_constructors()):\n",
    "        constructor = DT.constructor(i)\n",
    "        args = [\n",
    "            FreshConst(constructor.domain(j), prefix=\"a\")\n",
    "            for j in range(constructor.arity())\n",
    "        ]\n",
    "        acc = P(constructor(*args))\n",
    "        for arg in args:\n",
    "            if arg.sort() == DT:\n",
    "                acc = ForAll([arg], Implies(P(arg), acc))\n",
    "            else:\n",
    "                acc = ForAll([arg], acc)\n",
    "        hyps.append(acc)\n",
    "    x = FreshConst(DT, prefix=\"x\")\n",
    "    conc = ForAll([x], P(x))\n",
    "    return Implies(And(hyps), conc)"
   ]
  },
  {
   "cell_type": "code",
   "execution_count": 13,
   "metadata": {},
   "outputs": [
    {
     "name": "stdout",
     "output_type": "stream",
     "text": [
      "()\n",
      "(('pred', Datatype(Nat, [])),)\n"
     ]
    },
    {
     "data": {
      "text/html": [
       "(is(zero, zero) &or; is(succ, zero)) &and;\n",
       "(&forall;a!4 :\n",
       "  is(zero, a!4) &or; is(succ, a!4) &rArr;\n",
       "  is(zero, succ(a!4)) &or; is(succ, succ(a!4))) &rArr;\n",
       "(&forall;x!5 : is(zero, x!5) &or; is(succ, x!5))"
      ],
      "text/plain": [
       "Implies(And(Or(is(zero, zero), is(succ, zero)),\n",
       "            ForAll(a!4,\n",
       "                   Implies(Or(is(zero, a!4), is(succ, a!4)),\n",
       "                           Or(is(zero, succ(a!4)),\n",
       "                              is(succ, succ(a!4)))))),\n",
       "        ForAll(x!5, Or(is(zero, x!5), is(succ, x!5))))"
      ]
     },
     "execution_count": 13,
     "metadata": {},
     "output_type": "execute_result"
    }
   ],
   "source": [
    "from z3 import *\n",
    "class Inductive(Datatype):\n",
    "    def __init__(self, name, *args):\n",
    "        self.args = args\n",
    "        self.declares = []\n",
    "        super().__init__(name)\n",
    "    def declare(self, name, *args, pred=None):\n",
    "        print(args)\n",
    "        self.declares.append((name, args, pred))\n",
    "    def create(self):\n",
    "        for name,args,pred in self.declares:\n",
    "            super().declare(name,*args)\n",
    "        DT = super().create()\n",
    "        \n",
    "        wf = Function(\"wf\", DT, BoolSort())\n",
    "        DT.wf = wf\n",
    "        \n",
    "        x = FreshConst(DT, prefix=\"x\")\n",
    "        ors = []\n",
    "        for i in range(DT.num_constructors()):\n",
    "            constructor = DT.constructor(i)\n",
    "            subwf = [wf(DT.accessor(i,j)(x)) for j in range(constructor.arity()) if constructor.domain(j) == DT]\n",
    "            ors.append(And(DT.recognizer(i)(x), pred(x), *subwf))\n",
    "        DT.wf_def = ForAll([x], wf(x) == Or(ors)\n",
    "\n",
    "        def recursor()\n",
    "\n",
    "        def induct(P):\n",
    "            hyps = []\n",
    "            for i in range(DT.num_constructors()):\n",
    "                constructor = DT.constructor(i)\n",
    "                args = [\n",
    "                    FreshConst(constructor.domain(j), prefix=\"a\")\n",
    "                    for j in range(constructor.arity())\n",
    "                ]\n",
    "                acc = P(constructor(*args))\n",
    "                for arg in args:\n",
    "                    if arg.sort() == DT:\n",
    "                        acc = ForAll([arg], Implies(P(arg), acc))\n",
    "                    else:\n",
    "                        acc = ForAll([arg], acc)\n",
    "                hyps.append(acc)\n",
    "            x = FreshConst(DT, prefix=\"x\")\n",
    "            conc = ForAll([x], P(x))\n",
    "            return Implies(And(hyps), conc)\n",
    "        DT.induct = induct\n",
    "        return DT\n",
    "\n",
    "Nat = Inductive(\"Nat\")\n",
    "Nat.declare(\"zero\")\n",
    "Nat.declare(\"succ\", (\"pred\", Nat))\n",
    "Nat = Nat.create()\n",
    "\n",
    "Nat.induct(lambda x: Or(Nat.is_zero(x), Nat.is_succ(x)))\n",
    "    "
   ]
  },
  {
   "cell_type": "code",
   "execution_count": 29,
   "metadata": {},
   "outputs": [
    {
     "data": {
      "text/plain": [
       "['__bool__',\n",
       " '__class__',\n",
       " '__copy__',\n",
       " '__deepcopy__',\n",
       " '__del__',\n",
       " '__delattr__',\n",
       " '__dict__',\n",
       " '__dir__',\n",
       " '__doc__',\n",
       " '__eq__',\n",
       " '__format__',\n",
       " '__ge__',\n",
       " '__getattribute__',\n",
       " '__gt__',\n",
       " '__hash__',\n",
       " '__init__',\n",
       " '__init_subclass__',\n",
       " '__le__',\n",
       " '__lt__',\n",
       " '__module__',\n",
       " '__ne__',\n",
       " '__new__',\n",
       " '__nonzero__',\n",
       " '__reduce__',\n",
       " '__reduce_ex__',\n",
       " '__repr__',\n",
       " '__setattr__',\n",
       " '__sizeof__',\n",
       " '__str__',\n",
       " '__subclasshook__',\n",
       " '__weakref__',\n",
       " '_repr_html_',\n",
       " 'accessor',\n",
       " 'as_ast',\n",
       " 'ast',\n",
       " 'cast',\n",
       " 'constructor',\n",
       " 'ctx',\n",
       " 'ctx_ref',\n",
       " 'eq',\n",
       " 'get_id',\n",
       " 'hash',\n",
       " 'induct',\n",
       " 'is_succ',\n",
       " 'is_zero',\n",
       " 'kind',\n",
       " 'name',\n",
       " 'num_constructors',\n",
       " 'pred',\n",
       " 'recognizer',\n",
       " 'sexpr',\n",
       " 'subsort',\n",
       " 'succ',\n",
       " 'translate',\n",
       " 'use_pp',\n",
       " 'zero']"
      ]
     },
     "execution_count": 29,
     "metadata": {},
     "output_type": "execute_result"
    }
   ],
   "source": [
    "dir(Nat)\n",
    "Nat.recognizer(1)(Nat.zero)\n",
    "Nat.accessor(1,0)\n",
    "dir(Nat)"
   ]
  },
  {
   "cell_type": "code",
   "execution_count": null,
   "metadata": {},
   "outputs": [],
   "source": [
    "from knuckledragger.kernel import *\n",
    "from z3 import *\n",
    "class Datatype(z3.Datatype):\n",
    "    def create(self):\n",
    "        DT = super().create()  # z3 already checks for positivity.\n",
    "        PredSort = ArraySort(DT, BoolSort())\n",
    "        # construct an induction principle.\n",
    "        P = FreshConst(PredSort, prefix=\"P\")\n",
    "        hyps = []\n",
    "        for i in range(DT.num_constructors()):\n",
    "            constructor = DT.constructor(i)\n",
    "            args = [\n",
    "                FreshConst(constructor.domain(j), prefix=\"a\")\n",
    "                for j in range(constructor.arity())\n",
    "            ]\n",
    "            acc = P[constructor(*args)]\n",
    "            for arg in args:\n",
    "                if arg.sort() == DT:\n",
    "                    acc = QForAll([arg], P[arg], acc)\n",
    "                else:\n",
    "                    acc = ForAll([arg], acc)\n",
    "            hyps.append(acc)\n",
    "        x = FreshConst(DT, prefix=\"x\")\n",
    "        conc = ForAll([x], P[x])\n",
    "        induct = Lambda([P], Implies(And(hyps), conc))\n",
    "        induct_ax = trust(ForAll([P], induct[P] == True))\n",
    "\n",
    "        # recursor\n",
    "\n",
    "        # store inside the data type?\n",
    "        DT.induct = induct\n",
    "        DT.induct_ax = induct_ax\n",
    "        #DT.rec = rec\n",
    "        return DT\n",
    "\n",
    "def recursor(name, *cases, DT):\n",
    "    assert all(case.range() == DT for case in cases)\n",
    "    f = z3.RecFunction(name, DT, )  # also freshness needs to be checked\n",
    "\n",
    "\n",
    "def define_rec(name, args, body, measure=None):\n",
    "    sig = [arg.sort() for arg in args]\n",
    "    f = z3.RecFunction(name, *sig)  # also freshness needs to be checked. Yikes.\n",
    "    # TODO check termination and totality of definition\n",
    "    RecAddDefinition(f, body)\n",
    "    fun_def = infer([], ForAll(args, f(*args) == body))\n",
    "    return f, fun_def"
   ]
  },
  {
   "cell_type": "code",
   "execution_count": 9,
   "metadata": {},
   "outputs": [],
   "source": [
    "fac = RecFunction('fac', IntSort(), IntSort())\n",
    "n = Int('n')\n",
    "RecAddDefinition(fac, n, If(n == 0, 1, n*fac(n-1)))\n",
    "\n"
   ]
  },
  {
   "cell_type": "code",
   "execution_count": 43,
   "metadata": {},
   "outputs": [
    {
     "name": "stdout",
     "output_type": "stream",
     "text": [
      "['__bool__', '__class__', '__copy__', '__deepcopy__', '__del__', '__delattr__', '__dict__', '__dir__', '__doc__', '__eq__', '__format__', '__ge__', '__getattribute__', '__gt__', '__hash__', '__init__', '__init_subclass__', '__le__', '__lt__', '__module__', '__ne__', '__new__', '__nonzero__', '__reduce__', '__reduce_ex__', '__repr__', '__setattr__', '__sizeof__', '__str__', '__subclasshook__', '__weakref__', '_repr_html_', 'arg', 'as_ast', 'ast', 'children', 'ctx', 'ctx_ref', 'decl', 'eq', 'from_string', 'get_id', 'hash', 'num_args', 'params', 'prj', 'serialize', 'sexpr', 'sort', 'sort_kind', 'translate', 'use_pp']\n",
      "mk_MyRec\n",
      "mk_MyRec\n"
     ]
    },
    {
     "data": {
      "text/html": [
       "is(mk_MyRec, mk_MyRec(1, 2))"
      ],
      "text/plain": [
       "is(mk_MyRec, mk_MyRec(1, 2))"
      ]
     },
     "execution_count": 43,
     "metadata": {},
     "output_type": "execute_result"
    }
   ],
   "source": [
    "#def Sigma():\n",
    "#    pass\n",
    "# \"dependent record\" # Structure\n",
    "def Record(name, *args, pred=None):\n",
    "    DT = Datatype(name)\n",
    "    DT.declare(\"mk_\"+name, *args)\n",
    "    DT = DT.create()\n",
    "    x = FreshConst(DT, prefix=\"x\")\n",
    "    if pred != None:\n",
    "        DT.wf = Function(\"wf\", DT, BoolSort())\n",
    "        DT.wf_def = ForAll([x], DT.wf(x) == pred(x))\n",
    "        DT.forall = lambda P: ForAll([x], Implies(pred(x), P(x)))\n",
    "        DT.exists = lambda P: Exists([x], And(pred(x), P(x)))\n",
    "    \n",
    "    #DT.recurse\n",
    "    #DT.define = lambda name, body: \n",
    "    def DTConst(name):\n",
    "        x = Const(name, DT)\n",
    "        for i,(name, sort) in enumerate(args):\n",
    "            setattr(x, name, DT.accessor(0,i)(x))\n",
    "        return x\n",
    "    DT.Const = DTConst\n",
    "    DT.Consts = lambda names: [DTConst(name) for name in names.split()]\n",
    "    return DT\n",
    "\n",
    "MyRec = Record(\"MyRec\", (\"a\", IntSort()), (\"b\", IntSort()))\n",
    "q = MyRec.mk_MyRec(1,2)\n",
    "print(dir(q))\n",
    "q = MyRec.Const(\"q\")\n",
    "q.a\n",
    "\n",
    "# we want to refer to accessors before they exist?\n",
    "#Even = Record(\"Even\", (\"a\", IntSort()), (\"b\", IntSort()), pred=lambda x: Even.a(x) == 2 * Even.b(x))\n",
    "\n",
    "\n",
    "#z3.DatatypeRef.proj0 = property(lambda self: self.sort().accessor(0,0)(self))\n",
    "#z3.DatatypeRef.proj1 = property(lambda self: self.sort().accessor(0,1)(self))\n",
    "z3.DatatypeRef.prj = lambda self, n: self.sort().accessor(0,n)(self)\n",
    "q = MyRec.mk_MyRec(1,2)\n",
    "dir(q)\n",
    "\n",
    "def DTmatch(self, **kwargs):\n",
    "    pass\n",
    "\n",
    "\n",
    "q.prj(0)\n",
    "q.prj(1)\n",
    "\n",
    "#z3.DatatypeRef.__getattribute__ = lambda self, name: self.sort().__getattribute__(name)(self)\n",
    "#q.a\n",
    "DatatypeRef__getattr__ = lambda self, k: self.sort().__getattribute__(k)\n",
    "#q.sort().__getattribute__(\"a\")\n",
    "dir(q.sort())\n",
    "\n",
    "def accessor(self,k):\n",
    "    sort = self.sort()\n",
    "    recog = \"is_\" == k[:3]\n",
    "    for i in range(sort.num_constructors()):\n",
    "        cons = sort.constructor(i)\n",
    "        print(cons.name())\n",
    "        for j in range(cons.arity()):\n",
    "            acc = sort.accessor(i,j)\n",
    "            if acc.name() == k:\n",
    "                return acc(self)\n",
    "        if \"is_\" + cons.name() == k:\n",
    "            recog = sort.recognizer(i)\n",
    "            return recog(self)\n",
    "\n",
    "            \n",
    "        #constructor = sort.constructor(i)\n",
    "        #for j in range(constructor.arity()):\n",
    "        #    if constructor.domain(j) == sort:\n",
    "        #        yield constructor.accessor(j)\n",
    "\n",
    "accessor(q,\"a\")\n",
    "#dir(q.sort())\n",
    "accessor(q,\"is_mk_MyRec\")\n"
   ]
  },
  {
   "cell_type": "code",
   "execution_count": 49,
   "metadata": {},
   "outputs": [
    {
     "name": "stdout",
     "output_type": "stream",
     "text": [
      "counterexample\n",
      "[f = bar(3), a = [else -> 2]]\n",
      "proved\n",
      "counterexample\n",
      "[f = bar(3), a = [else -> 2]]\n"
     ]
    }
   ],
   "source": [
    "foo = Datatype(\"foo\")\n",
    "foo.declare(\"bar\", (\"a\", IntSort()))\n",
    "foo.declare(\"baz\", (\"a\", IntSort()))\n",
    "foo = foo.create()\n",
    "f = Const(\"f\", foo)\n",
    "prove(foo.accessor(0,0)(f) == foo.accessor(1,0)(f)) # yikes. so this doesn't work.\n",
    "foo.accessor(0,0)(f) == foo.accessor(1,0)(f)\n",
    "prove(foo.a(f) == foo.accessor(1,0)(f))\n",
    "prove(foo.a(f) == foo.accessor(0,0)(f))\n"
   ]
  },
  {
   "cell_type": "code",
   "execution_count": 8,
   "metadata": {},
   "outputs": [
    {
     "data": {
      "text/html": [
       "Expr"
      ],
      "text/plain": [
       "Expr"
      ]
     },
     "execution_count": 8,
     "metadata": {},
     "output_type": "execute_result"
    }
   ],
   "source": [
    "def ADT(name, cons):\n",
    "    T = Datatype(name)\n",
    "    for c in cons(T):\n",
    "        if isinstance(c, str):\n",
    "            T.declare(c)\n",
    "        else:\n",
    "            T.declare(*c)\n",
    "    return T.create()\n",
    "\n",
    "ADT(\"Expr\", lambda E : [\n",
    "              \"true\", \n",
    "              \"false\", \n",
    "              [\"ite\", (\"c\", E), (\"t\", E), (\"else\",E)]])\n",
    "\n",
    "def Inductive(name, cons):\n",
    "    T = Datatype(name)\n",
    "    for c in cons(T):\n",
    "        if isinstance(c, str):\n",
    "            T.declare(c)\n",
    "        else:\n",
    "            T.declare(*c)\n",
    "    T.create()\n",
    "    RecFunction(name, )\n",
    "\n",
    "class Inductive():\n",
    "    def __init__(self, name, *args):\n",
    "        self.name = name\n",
    "        self.args = args\n",
    "        self.P = Datatype(name)\n",
    "        self.recfun = RecFunction(name, P, *[arg.sort() for arg in args], BoolSort())\n",
    "        self.cons = []\n",
    "    def declare(self, name, cond *args):\n",
    "        self.cons.append((name, args))\n",
    "    def __call__(self, *args):\n",
    "        return self.recfun(*args)\n",
    "    def create(self):\n",
    "        body = \n",
    "        RecAddDefinition(self.recfun, self.args, )\n",
    "        return self.recfun, self.P\n",
    "        \n",
    "def Inductive(name, *args):\n",
    "\n"
   ]
  },
  {
   "cell_type": "markdown",
   "metadata": {},
   "source": [
    "https://softwarefoundations.cis.upenn.edu/lf-current/IndProp.html"
   ]
  },
  {
   "cell_type": "code",
   "execution_count": 14,
   "metadata": {},
   "outputs": [
    {
     "name": "stdout",
     "output_type": "stream",
     "text": [
      "[p = ev_SS(ev_SS(ev_SS(ev_0))),\n",
      " pred = [ev_SS(ev_SS(ev_0)) -> ev_SS(ev_0),\n",
      "         ev_SS(ev_0) -> ev_0,\n",
      "         else -> ev_SS(ev_SS(ev_0))],\n",
      " even = [else ->\n",
      "         Or(And(is(ev_0, Var(1)), Var(0) == 0),\n",
      "            And(is(ev_SS, Var(1)),\n",
      "                even(Var(0) - 2, pred(Var(1)))))],\n",
      " fac = [0 -> 1, else -> Var(0)*fac(Var(0) - 1)]]\n",
      "failed to prove\n"
     ]
    },
    {
     "ename": "Z3Exception",
     "evalue": "model is not available",
     "output_type": "error",
     "traceback": [
      "\u001b[0;31m---------------------------------------------------------------------------\u001b[0m",
      "\u001b[0;31mZ3Exception\u001b[0m                               Traceback (most recent call last)",
      "File \u001b[0;32m~/.local/lib/python3.10/site-packages/z3/z3.py:7192\u001b[0m, in \u001b[0;36mSolver.model\u001b[0;34m(self)\u001b[0m\n\u001b[1;32m   7191\u001b[0m \u001b[38;5;28;01mtry\u001b[39;00m:\n\u001b[0;32m-> 7192\u001b[0m     \u001b[38;5;28;01mreturn\u001b[39;00m ModelRef(\u001b[43mZ3_solver_get_model\u001b[49m\u001b[43m(\u001b[49m\u001b[38;5;28;43mself\u001b[39;49m\u001b[38;5;241;43m.\u001b[39;49m\u001b[43mctx\u001b[49m\u001b[38;5;241;43m.\u001b[39;49m\u001b[43mref\u001b[49m\u001b[43m(\u001b[49m\u001b[43m)\u001b[49m\u001b[43m,\u001b[49m\u001b[43m \u001b[49m\u001b[38;5;28;43mself\u001b[39;49m\u001b[38;5;241;43m.\u001b[39;49m\u001b[43msolver\u001b[49m\u001b[43m)\u001b[49m, \u001b[38;5;28mself\u001b[39m\u001b[38;5;241m.\u001b[39mctx)\n\u001b[1;32m   7193\u001b[0m \u001b[38;5;28;01mexcept\u001b[39;00m Z3Exception:\n",
      "File \u001b[0;32m~/.local/lib/python3.10/site-packages/z3/z3core.py:4256\u001b[0m, in \u001b[0;36mZ3_solver_get_model\u001b[0;34m(a0, a1, _elems)\u001b[0m\n\u001b[1;32m   4255\u001b[0m r \u001b[38;5;241m=\u001b[39m _elems\u001b[38;5;241m.\u001b[39mf(a0, a1)\n\u001b[0;32m-> 4256\u001b[0m \u001b[43m_elems\u001b[49m\u001b[38;5;241;43m.\u001b[39;49m\u001b[43mCheck\u001b[49m\u001b[43m(\u001b[49m\u001b[43ma0\u001b[49m\u001b[43m)\u001b[49m\n\u001b[1;32m   4257\u001b[0m \u001b[38;5;28;01mreturn\u001b[39;00m r\n",
      "File \u001b[0;32m~/.local/lib/python3.10/site-packages/z3/z3core.py:1554\u001b[0m, in \u001b[0;36mElementaries.Check\u001b[0;34m(self, ctx)\u001b[0m\n\u001b[1;32m   1553\u001b[0m \u001b[38;5;28;01mif\u001b[39;00m err \u001b[38;5;241m!=\u001b[39m \u001b[38;5;28mself\u001b[39m\u001b[38;5;241m.\u001b[39mOK:\n\u001b[0;32m-> 1554\u001b[0m     \u001b[38;5;28;01mraise\u001b[39;00m \u001b[38;5;28mself\u001b[39m\u001b[38;5;241m.\u001b[39mException(\u001b[38;5;28mself\u001b[39m\u001b[38;5;241m.\u001b[39mget_error_message(ctx, err))\n",
      "\u001b[0;31mZ3Exception\u001b[0m: b'there is no current model'",
      "\nDuring handling of the above exception, another exception occurred:\n",
      "\u001b[0;31mZ3Exception\u001b[0m                               Traceback (most recent call last)",
      "Cell \u001b[0;32mIn [14], line 29\u001b[0m\n\u001b[1;32m     26\u001b[0m     \u001b[38;5;28;01mreturn\u001b[39;00m inductP(\u001b[38;5;28;01mlambda\u001b[39;00m p: ForAll([n], Implies(even(n, p), P(n, p))))\n\u001b[1;32m     28\u001b[0m solve(even(\u001b[38;5;241m6\u001b[39m, p))\n\u001b[0;32m---> 29\u001b[0m prove(Implies(induct(\u001b[38;5;28;01mlambda\u001b[39;00m n,p: Not(even(\u001b[38;5;241m7\u001b[39m,p))), Not(even(\u001b[38;5;241m7\u001b[39m,p))))\n",
      "File \u001b[0;32m~/.local/lib/python3.10/site-packages/z3/z3.py:9232\u001b[0m, in \u001b[0;36mprove\u001b[0;34m(claim, show, **keywords)\u001b[0m\n\u001b[1;32m   9230\u001b[0m \u001b[38;5;28;01melif\u001b[39;00m r \u001b[38;5;241m==\u001b[39m unknown:\n\u001b[1;32m   9231\u001b[0m     \u001b[38;5;28mprint\u001b[39m(\u001b[38;5;124m\"\u001b[39m\u001b[38;5;124mfailed to prove\u001b[39m\u001b[38;5;124m\"\u001b[39m)\n\u001b[0;32m-> 9232\u001b[0m     \u001b[38;5;28mprint\u001b[39m(\u001b[43ms\u001b[49m\u001b[38;5;241;43m.\u001b[39;49m\u001b[43mmodel\u001b[49m\u001b[43m(\u001b[49m\u001b[43m)\u001b[49m)\n\u001b[1;32m   9233\u001b[0m \u001b[38;5;28;01melse\u001b[39;00m:\n\u001b[1;32m   9234\u001b[0m     \u001b[38;5;28mprint\u001b[39m(\u001b[38;5;124m\"\u001b[39m\u001b[38;5;124mcounterexample\u001b[39m\u001b[38;5;124m\"\u001b[39m)\n",
      "File \u001b[0;32m~/.local/lib/python3.10/site-packages/z3/z3.py:7194\u001b[0m, in \u001b[0;36mSolver.model\u001b[0;34m(self)\u001b[0m\n\u001b[1;32m   7192\u001b[0m     \u001b[38;5;28;01mreturn\u001b[39;00m ModelRef(Z3_solver_get_model(\u001b[38;5;28mself\u001b[39m\u001b[38;5;241m.\u001b[39mctx\u001b[38;5;241m.\u001b[39mref(), \u001b[38;5;28mself\u001b[39m\u001b[38;5;241m.\u001b[39msolver), \u001b[38;5;28mself\u001b[39m\u001b[38;5;241m.\u001b[39mctx)\n\u001b[1;32m   7193\u001b[0m \u001b[38;5;28;01mexcept\u001b[39;00m Z3Exception:\n\u001b[0;32m-> 7194\u001b[0m     \u001b[38;5;28;01mraise\u001b[39;00m Z3Exception(\u001b[38;5;124m\"\u001b[39m\u001b[38;5;124mmodel is not available\u001b[39m\u001b[38;5;124m\"\u001b[39m)\n",
      "\u001b[0;31mZ3Exception\u001b[0m: model is not available"
     ]
    }
   ],
   "source": [
    "evenP = Datatype(\"evenP\")\n",
    "evenP.declare(\"ev_0\")\n",
    "evenP.declare(\"ev_SS\", (\"pred\", evenP))\n",
    "evenP = evenP.create()\n",
    "\n",
    "def inductP(P):\n",
    "    return Implies(\n",
    "        And(P(evenP.ev_0), ForAll([p], Implies(P(p), P(evenP.ev_SS(p))))),\n",
    "        #-------------------------------------------\n",
    "        ForAll([p], P(p))\n",
    "        )\n",
    "\n",
    "\n",
    "\n",
    "p = Const(\"p\", evenP)\n",
    "n = Int(\"n\")\n",
    "even = RecFunction(\"even\", IntSort(), evenP, BoolSort())\n",
    "RecAddDefinition(even, [n,p], \n",
    "    Or(\n",
    "        And(evenP.is_ev_0(p), n == 0),\n",
    "        And(evenP.is_ev_SS(p), even(n-2, evenP.pred(p)))\n",
    "    )\n",
    ")\n",
    "\n",
    "def induct(P):\n",
    "    return inductP(lambda p: ForAll([n], Implies(even(n, p), P(n, p))))\n",
    "\n",
    "solve(even(6, p))\n",
    "#prove(Implies(induct(lambda n,p: Not(even(7,p))), Not(even(7,p))))"
   ]
  },
  {
   "cell_type": "code",
   "execution_count": null,
   "metadata": {},
   "outputs": [],
   "source": [
    "\n",
    "\n",
    "TyDeriv = Datatype(\"TyDeriv\")\n",
    "TyDeriv.declare(\"Ttrue\")\n",
    "TyDeriv.declare(\"Tfalse\")\n",
    "TyDeriv.declare(\"Tite\", ('cond', TyDeriv), ('then', TyDeriv), ('else', TyDeriv))\n",
    "TyDeriv = TyDeriv.create()\n",
    "\n",
    "typeof = Function(\"typeof\", Expr, Type, TyDeriv, B)\n",
    "typeof_def = ForAll([e, t, why],\n",
    "                    typeof(e, t, why) ==\n",
    "                    Or(And(why == TyDeriv.Ttrue,  e == Expr.true,  t == Type.bool),\n",
    "                       And(why == TyDeriv.Tfalse, e == Expr.false, t == Type.bool),\n",
    "                       And(TyDeriv.is_Tite(why),  e == Expr.ite(e1, e2, e3),\n",
    "                             \n",
    "                            t == Type.bool,\n",
    "                            typeof(e1, Type.bool),\n",
    "                            typeof(e2, Type.bool),\n",
    "                            typeof(e3, Type.bool)\n",
    "                          )\n",
    "                    )"
   ]
  },
  {
   "cell_type": "code",
   "execution_count": null,
   "metadata": {},
   "outputs": [],
   "source": [
    "TCtx = Datatype('TCtx')\n",
    "TCtx.declare('nil')\n",
    "TCtx.declare('cons', ('ctx', TCtx), ('e', Expr), ('v', Value), )\n"
   ]
  }
 ],
 "metadata": {
  "kernelspec": {
   "display_name": "Python 3",
   "language": "python",
   "name": "python3"
  },
  "language_info": {
   "codemirror_mode": {
    "name": "ipython",
    "version": 3
   },
   "file_extension": ".py",
   "mimetype": "text/x-python",
   "name": "python",
   "nbconvert_exporter": "python",
   "pygments_lexer": "ipython3",
   "version": "3.10.12"
  }
 },
 "nbformat": 4,
 "nbformat_minor": 2
}
