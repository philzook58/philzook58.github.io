{
 "cells": [
  {
   "cell_type": "code",
   "execution_count": null,
   "metadata": {},
   "outputs": [],
   "source": [
    "from z3 import *\n",
    "\n",
    "\n",
    "@dataclass\n",
    "class SQL():\n",
    "    selects :  str\n",
    "    froms : str\n",
    "    wheres : str\n",
    "    def __add__(self, other):\n",
    "        SQL(self.selects + other.selects, self.froms + other.froms, self.wheres + other.wheres)\n",
    "    def build(self):\n",
    "        return f\"SELECT 1 FROM {self.froms} WHERE {self.wheres}\"\n",
    "    \n",
    "counter = 0\n",
    "\n",
    "def model(env, t : z3.BoolRef) -> SQL:\n",
    "    if is_and(t):\n",
    "        print(\"And\")\n",
    "        for c in t.children():\n",
    "\n",
    "    elif is_or(t):\n",
    "    elif is_not(t):\n",
    "       sql = model(env, t.children()[0])\n",
    "       f \"NOT ({where})\"\n",
    "\n",
    "    elif is_quantifier(t):\n",
    "        if t.is_exists():\n",
    "            vs, body = open_binder(t.body())\n",
    "            sql = model(env,body)\n",
    "            f\"EXISTS {sql.build()}\"\n",
    "        if t.is_forall():\n",
    "            model(env, Not(Exists(t.body())))\n",
    "    elif is_app(t):\n",
    "        # base relation. look up in table\n",
    "        print(\"App\")\n",
    "        print(t.decl().name())\n",
    "        for c in t.children():\n",
    "            model(c)"
   ]
  },
  {
   "cell_type": "markdown",
   "metadata": {},
   "source": [
    "\n",
    "multiset semantics ought to mean that linear logic is appropriate\n",
    "\n",
    "higher order models for higher order databases?\n",
    "\n",
    "Fixed point logic\n",
    "\n",
    "cnf? (  \\/ ) \n",
    "dnf? dnf ought to be pretty easy.\n"
   ]
  },
  {
   "cell_type": "markdown",
   "metadata": {},
   "source": [
    "SQL is kind of beside the point possibly.\n",
    "\n",
    "Translating directly to `all` `any` in python would be fine also.\n",
    "\n",
    "Then it might be fun to put fixed point operators in there.\n",
    "\n",
    "If we use z3 models it of course gets quite easy. m.eval(expr)"
   ]
  },
  {
   "cell_type": "code",
   "execution_count": null,
   "metadata": {},
   "outputs": [],
   "source": [
    "def model_check(env, fm):\n",
    "    if smt.is_true(fm):\n",
    "        return True\n",
    "    elif smt.is_false(fm):\n",
    "        return False\n",
    "    elif smt.is_and(fm):\n",
    "        return all(model_check(env, c) for c in fm.children())\n",
    "    elif smt.is_or(fm):\n",
    "        return any(model_check(env, c) for c in fm.children())\n",
    "    elif smt.is_not(fm):\n",
    "        return not model_check(env, fm.arg(0))\n",
    "    elif smt.is_implies(fm):\n",
    "        return not model_check(env, fm.arg(0)) or model_check(env, fm.arg(1))\n",
    "    elif isinstance(fm, smt.QuantifierRef):\n",
    "        if fm.is_exists():\n",
    "            any( model_check(binding, env, fm.body() for binding in itertools.product(*[env[s] for s in fm.var_sort(i) for i in range(fm.num_vars())])))\n",
    "        elif fm.is_forall():\n",
    "            all ... \n",
    "    elif smt.is_app(fm):\n",
    "        if fm.decl().name() == \"min\":\n",
    "            raise NotImplementedError\n",
    "        elif fm.decl().name() == \"max\":\n",
    "            raise NotImplementedError\n",
    "        elif fm.decl().name() == \"always\":\n",
    "            raise NotImplementedError\n",
    "        elif fm.decl().name() == \"eventually\":\n",
    "            raise NotImplementedError\n",
    "        elif fm.decl().name() == \"next\":\n",
    "            raise NotImplementedError\n",
    "        else:\n",
    "            if fm.decl() in env:\n",
    "                return env[fm.decl()]\n",
    "\n"
   ]
  }
 ],
 "metadata": {
  "language_info": {
   "name": "python"
  }
 },
 "nbformat": 4,
 "nbformat_minor": 2
}
