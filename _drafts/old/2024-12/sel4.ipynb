{
 "cells": [
  {
   "cell_type": "code",
   "execution_count": null,
   "metadata": {},
   "outputs": [],
   "source": []
  },
  {
   "cell_type": "markdown",
   "metadata": {},
   "source": [
    "What is sel4 really. What do the statements of proofs look like\n",
    "\n",
    "I could imagine a cooperative coruoting / green thread thing\n",
    "or bytecode runner / interpreter\n",
    "with message boxes and a permission system\n",
    "\n",
    "\n",
    "\n",
    "\n"
   ]
  },
  {
   "cell_type": "code",
   "execution_count": null,
   "metadata": {},
   "outputs": [],
   "source": [
    "%%file /tmp/schedule.rs\n",
    "\n",
    "enum Insn {\n",
    "    Move(), // internal communication ? Internal and external?\n",
    "    Move()\n",
    "}\n",
    "struct State {\n",
    "\n",
    "}\n",
    "\n",
    "\n",
    "fn main(){\n",
    "    let processes = vec![default()];\n",
    "    loop {\n",
    "        let proc = randint();\n",
    "        let cmd = randcmd();\n",
    "        cmd = \n",
    "}   \n",
    "}"
   ]
  },
  {
   "cell_type": "code",
   "execution_count": 1,
   "metadata": {},
   "outputs": [
    {
     "name": "stdout",
     "output_type": "stream",
     "text": [
      "Writing /tmp/shuttle.rs\n"
     ]
    }
   ],
   "source": [
    "%%file /tmp/shuttle.rs\n",
    "use shuttle::sync::{Arc, Mutex};\n",
    "use shuttle::thread;\n",
    "\n",
    "shuttle::check_random(|| {\n",
    "    let lock = Arc::new(Mutex::new(0u64));\n",
    "    let lock2 = lock.clone();\n",
    "\n",
    "    thread::spawn(move || {\n",
    "        *lock.lock().unwrap() = 1;\n",
    "    });\n",
    "\n",
    "    assert_eq!(0, *lock2.lock().unwrap());\n",
    "}, 100);"
   ]
  },
  {
   "cell_type": "markdown",
   "metadata": {},
   "source": [
    "Interrupt bugs?\n",
    "loom is part of tokio in some sense. Cool to learn tokio.\n"
   ]
  },
  {
   "cell_type": "code",
   "execution_count": 2,
   "metadata": {},
   "outputs": [
    {
     "name": "stdout",
     "output_type": "stream",
     "text": [
      "/bin/bash: line 1: rustscript: command not found\n"
     ]
    }
   ],
   "source": [
    "! rustscript /tmp/shuttle.rs"
   ]
  }
 ],
 "metadata": {
  "kernelspec": {
   "display_name": "Python 3",
   "language": "python",
   "name": "python3"
  },
  "language_info": {
   "codemirror_mode": {
    "name": "ipython",
    "version": 3
   },
   "file_extension": ".py",
   "mimetype": "text/x-python",
   "name": "python",
   "nbconvert_exporter": "python",
   "pygments_lexer": "ipython3",
   "version": "3.10.12"
  }
 },
 "nbformat": 4,
 "nbformat_minor": 2
}
