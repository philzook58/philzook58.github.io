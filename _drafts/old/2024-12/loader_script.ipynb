{
 "cells": [
  {
   "cell_type": "code",
   "execution_count": null,
   "metadata": {},
   "outputs": [],
   "source": []
  },
  {
   "cell_type": "code",
   "execution_count": null,
   "metadata": {},
   "outputs": [],
   "source": []
  },
  {
   "cell_type": "markdown",
   "metadata": {},
   "source": [
    "https://mcyoung.xyz/2021/06/01/linker-script/\n",
    "\n",
    "https://archfx.github.io/posts/2023/02/firmware3/\n",
    "\n",
    "I've had this fun idea for a while that linker script could be programs.\n",
    "\n",
    "\n",
    "\n"
   ]
  },
  {
   "cell_type": "code",
   "execution_count": 50,
   "metadata": {},
   "outputs": [
    {
     "name": "stdout",
     "output_type": "stream",
     "text": [
      "Overwriting /tmp/test.c\n"
     ]
    }
   ],
   "source": [
    "%%file /tmp/test.c\n",
    "#include <stdio.h>\n",
    "int biz;\n",
    "int *foo, *bar;\n",
    "\n",
    "int main(){\n",
    "    foo = &biz;\n",
    "    bar = &biz;\n",
    "    *foo = 3;\n",
    "    printf(\"%d\\n\", *bar);\n",
    "}\n"
   ]
  },
  {
   "cell_type": "code",
   "execution_count": null,
   "metadata": {},
   "outputs": [],
   "source": []
  },
  {
   "cell_type": "code",
   "execution_count": 51,
   "metadata": {},
   "outputs": [
    {
     "name": "stdout",
     "output_type": "stream",
     "text": [
      "3\n"
     ]
    }
   ],
   "source": [
    "! gcc -O3 -fanalyzer -fsanitize=undefined -Wall -Wextra /tmp/test.c -o /tmp/test && /tmp/test"
   ]
  },
  {
   "cell_type": "code",
   "execution_count": 25,
   "metadata": {},
   "outputs": [
    {
     "name": "stdout",
     "output_type": "stream",
     "text": [
      "CBMC version 6.0.1 (cbmc-6.0.1-5-g54c20cdb91) 64-bit x86_64 linux\n",
      "Type-checking test\n",
      "Generating GOTO Program\n",
      "Adding CPROVER library (x86_64)\n",
      "Removal of function pointers and virtual functions\n",
      "Generic Property Instrumentation\n",
      "Starting Bounded Model Checking\n",
      "\n",
      "** Results:\n",
      "/tmp/test.c function main\n",
      "\u001b[2m[main.pointer_dereference.1] \u001b[0mline 8 dereference failure: pointer NULL in *foo: \u001b[32mSUCCESS\u001b[0m\n",
      "\u001b[2m[main.pointer_dereference.2] \u001b[0mline 8 dereference failure: pointer invalid in *foo: \u001b[32mSUCCESS\u001b[0m\n",
      "\u001b[2m[main.pointer_dereference.3] \u001b[0mline 8 dereference failure: deallocated dynamic object in *foo: \u001b[32mSUCCESS\u001b[0m\n",
      "\u001b[2m[main.pointer_dereference.4] \u001b[0mline 8 dereference failure: dead object in *foo: \u001b[32mSUCCESS\u001b[0m\n",
      "\u001b[2m[main.pointer_dereference.5] \u001b[0mline 8 dereference failure: pointer outside object bounds in *foo: \u001b[32mSUCCESS\u001b[0m\n",
      "\u001b[2m[main.pointer_dereference.6] \u001b[0mline 8 dereference failure: invalid integer address in *foo: \u001b[32mSUCCESS\u001b[0m\n",
      "\u001b[2m[main.pointer_dereference.7] \u001b[0mline 9 dereference failure: pointer NULL in *bar: \u001b[32mSUCCESS\u001b[0m\n",
      "\u001b[2m[main.pointer_dereference.8] \u001b[0mline 9 dereference failure: pointer invalid in *bar: \u001b[32mSUCCESS\u001b[0m\n",
      "\u001b[2m[main.pointer_dereference.9] \u001b[0mline 9 dereference failure: deallocated dynamic object in *bar: \u001b[32mSUCCESS\u001b[0m\n",
      "\u001b[2m[main.pointer_dereference.10] \u001b[0mline 9 dereference failure: dead object in *bar: \u001b[32mSUCCESS\u001b[0m\n",
      "\u001b[2m[main.pointer_dereference.11] \u001b[0mline 9 dereference failure: pointer outside object bounds in *bar: \u001b[32mSUCCESS\u001b[0m\n",
      "\u001b[2m[main.pointer_dereference.12] \u001b[0mline 9 dereference failure: invalid integer address in *bar: \u001b[32mSUCCESS\u001b[0m\n",
      "\n",
      "** 0 of 12 failed (1 iterations)\n",
      "VERIFICATION SUCCESSFUL\n"
     ]
    }
   ],
   "source": [
    "! cbmc /tmp/test.c"
   ]
  },
  {
   "cell_type": "code",
   "execution_count": 32,
   "metadata": {},
   "outputs": [
    {
     "name": "stdout",
     "output_type": "stream",
     "text": [
      "Overwriting /tmp/test.c\n"
     ]
    }
   ],
   "source": [
    "%%file /tmp/test.c\n",
    "#include <stdio.h>\n",
    "extern int foo, bar;\n",
    "\n",
    "int main(){\n",
    "    foo = 3;\n",
    "    printf(\"%d\\n\", bar);\n",
    "}\n"
   ]
  },
  {
   "cell_type": "code",
   "execution_count": 41,
   "metadata": {},
   "outputs": [],
   "source": [
    "! gcc -c -Wall -Wextra /tmp/test.c -o /tmp/test.o"
   ]
  },
  {
   "cell_type": "code",
   "execution_count": 47,
   "metadata": {},
   "outputs": [
    {
     "name": "stdout",
     "output_type": "stream",
     "text": [
      "Overwriting /tmp/linker.ld\n"
     ]
    }
   ],
   "source": [
    "%%file /tmp/linker.ld\n",
    "\n",
    "SECTIONS\n",
    "{\n",
    "    . = 0x1000;  /* Start the text section at 0x1000 */\n",
    "    .text : {\n",
    "        *(.text)  /* Place all code in the .text section */\n",
    "    }\n",
    "    . = 0x2000;  /* Start the data section at 0x2000 */\n",
    "    .data : {\n",
    "        *(.data)  /* Place all initialized data here */\n",
    "    }\n",
    "    . = 0x20000;\n",
    "    foo = .;\n",
    "    bar = .;\n",
    "    . += 8; \n",
    "\n",
    "}"
   ]
  },
  {
   "cell_type": "code",
   "execution_count": 48,
   "metadata": {},
   "outputs": [
    {
     "name": "stdout",
     "output_type": "stream",
     "text": [
      "3\n"
     ]
    }
   ],
   "source": [
    "! gcc /tmp/test.o -T /tmp/linker.ld -o /tmp/test && /tmp/test"
   ]
  },
  {
   "cell_type": "code",
   "execution_count": 46,
   "metadata": {},
   "outputs": [
    {
     "name": "stdout",
     "output_type": "stream",
     "text": [
      "0000000000020000 g       .bss\t0000000000000000              bar\n",
      "0000000000020000 g       .bss\t0000000000000000              foo\n"
     ]
    }
   ],
   "source": [
    "! objdump -x /tmp/test | grep 'foo\\|bar'"
   ]
  },
  {
   "cell_type": "code",
   "execution_count": 26,
   "metadata": {},
   "outputs": [
    {
     "name": "stdout",
     "output_type": "stream",
     "text": [
      "Writing /tmp/ldscript\n"
     ]
    }
   ],
   "source": [
    "%%file /tmp/ldscript\n",
    "SECTIONS\n",
    "{\n",
    "  . = 0x10000;\n",
    "  .text : { *(.text) }\n",
    "  . = 0x8000000;\n",
    "  .data : { *(.data) }\n",
    "  .bss : { *(.bss) }\n",
    "}\n"
   ]
  },
  {
   "cell_type": "code",
   "execution_count": null,
   "metadata": {},
   "outputs": [],
   "source": [
    "! ld -T /tmp/ldscript /tmp/test.o -o /tmp/test && objdump -x /tmp/test | grep 'start address'"
   ]
  }
 ],
 "metadata": {
  "kernelspec": {
   "display_name": "Python 3",
   "language": "python",
   "name": "python3"
  },
  "language_info": {
   "codemirror_mode": {
    "name": "ipython",
    "version": 3
   },
   "file_extension": ".py",
   "mimetype": "text/x-python",
   "name": "python",
   "nbconvert_exporter": "python",
   "pygments_lexer": "ipython3",
   "version": "3.10.12"
  }
 },
 "nbformat": 4,
 "nbformat_minor": 2
}
