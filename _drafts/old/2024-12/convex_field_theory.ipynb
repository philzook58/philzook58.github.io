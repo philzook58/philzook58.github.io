{
 "cells": [
  {
   "cell_type": "markdown",
   "metadata": {},
   "source": [
    "The big jump is between convex and non convex, not linear and nonlinear.\n",
    "\n",
    "And yet convex field theory is basically not a thing\n",
    "\n",
    "We can use mathematical programming solvers to solve discretized PDEs.\n",
    "\n",
    "Can we do spectral parametrization?\n",
    "You can minimax over polynomial domain using SDP. Use chebyshev polys $f = \\sum a cheb_n(x)$\n",
    "absolute value trick. min sum |x| ---> min sum ti s.t -ti <= xi <= ti, 0 <= ti\n",
    "min integ |sum a cheb_n(x)| ~ min integ p(x) s.t -p(x) <= a cheb_n(x) <= p(x), p(x) is sos ---> min integ p(x) s.t cheb + p(x) is sos, p(x) - cheb is sos, p(x) is sos\n",
    "\n",
    "Remember all that sympy sdp stuff. Whjere did that go?\n",
    "\n",
    "\n",
    "What is the analog of green's functions?\n",
    "\n",
    "The abs oscillator\n",
    "\n",
    "\n",
    "my post on using MILP for ising.\n",
    "\n",
    "\n",
    "Qunatization\n",
    "\n"
   ]
  }
 ],
 "metadata": {
  "language_info": {
   "name": "python"
  }
 },
 "nbformat": 4,
 "nbformat_minor": 2
}
