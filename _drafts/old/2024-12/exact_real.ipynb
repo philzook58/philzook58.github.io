{
 "cells": [
  {
   "cell_type": "code",
   "execution_count": null,
   "metadata": {},
   "outputs": [],
   "source": []
  },
  {
   "cell_type": "markdown",
   "metadata": {},
   "source": [
    "marshall B\n",
    "\n",
    "non exact reals ~ trichotomoy\n",
    "data Real = Left Real | Mid | Right Real\n",
    "\n",
    "https://www.philipzucker.com/Reals_from_intervals/ links at bottomn\n"
   ]
  }
 ],
 "metadata": {
  "language_info": {
   "name": "python"
  }
 },
 "nbformat": 4,
 "nbformat_minor": 2
}
