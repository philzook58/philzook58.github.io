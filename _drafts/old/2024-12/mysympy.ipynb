{
 "cells": [
  {
   "cell_type": "code",
   "execution_count": null,
   "metadata": {},
   "outputs": [],
   "source": []
  },
  {
   "cell_type": "markdown",
   "metadata": {},
   "source": [
    "matchpy\n",
    "kind\n",
    "sympy needs higher order matching.\n",
    "\n",
    "rebuild / transfer \n",
    "fix up unification\n",
    "fix up their sat solver\n",
    "The set theory stuff seems confused.\n",
    "sympy egraph\n",
    "\n",
    "I have a file\n",
    "\n",
    "Sympy had sphiynx jupyterlite\n",
    "\n",
    "If I were to make a custom sympy, what am I missing?\n",
    "simplify isn't that hard for simple stuff.\n",
    "\n",
    "solve and integrate feel harder\n",
    "\n"
   ]
  },
  {
   "cell_type": "code",
   "execution_count": 4,
   "metadata": {},
   "outputs": [
    {
     "data": {
      "text/plain": [
       "UndefinedKind"
      ]
     },
     "execution_count": 4,
     "metadata": {},
     "output_type": "execute_result"
    }
   ],
   "source": [
    "from sympy import *\n",
    "x,y,z = symbols(\"x y z\")\n",
    "f = Function(\"f\")\n",
    "f.kind\n",
    "x.kind\n",
    "f().kind\n"
   ]
  },
  {
   "cell_type": "code",
   "execution_count": 13,
   "metadata": {},
   "outputs": [
    {
     "ename": "TypeError",
     "evalue": "unsupported operand type(s) for +: 'NoneType' and 'NoneType'",
     "output_type": "error",
     "traceback": [
      "\u001b[0;31m---------------------------------------------------------------------------\u001b[0m",
      "\u001b[0;31mTypeError\u001b[0m                                 Traceback (most recent call last)",
      "Cell \u001b[0;32mIn[13], line 8\u001b[0m\n\u001b[1;32m      5\u001b[0m         \u001b[38;5;28mprint\u001b[39m(\u001b[38;5;124m\"\u001b[39m\u001b[38;5;124mhello word\u001b[39m\u001b[38;5;124m\"\u001b[39m)\n\u001b[1;32m      7\u001b[0m v \u001b[38;5;241m=\u001b[39m Vec(\u001b[38;5;124m\"\u001b[39m\u001b[38;5;124mv\u001b[39m\u001b[38;5;124m\"\u001b[39m)\n\u001b[0;32m----> 8\u001b[0m \u001b[43mv\u001b[49m\u001b[43m \u001b[49m\u001b[38;5;241;43m+\u001b[39;49m\u001b[43m \u001b[49m\u001b[43mv\u001b[49m\n",
      "\u001b[0;31mTypeError\u001b[0m: unsupported operand type(s) for +: 'NoneType' and 'NoneType'"
     ]
    }
   ],
   "source": [
    "class Vec(Expr):\n",
    "    def __new__(self, name):\n",
    "        self.name = name\n",
    "    def _eval_add(self, other):\n",
    "        print(\"hello word\")\n",
    "\n",
    "v = Vec(\"v\")\n",
    "v + v"
   ]
  },
  {
   "cell_type": "code",
   "execution_count": null,
   "metadata": {},
   "outputs": [],
   "source": []
  },
  {
   "cell_type": "markdown",
   "metadata": {},
   "source": [
    "Sympy matching.\n",
    "SAhould be lambda aware and AC aware.\n",
    "Maybe even theory aware. Is it though?\n",
    "\n"
   ]
  },
  {
   "cell_type": "code",
   "execution_count": 16,
   "metadata": {},
   "outputs": [
    {
     "data": {
      "text/latex": [
       "$\\displaystyle \\int f{\\left(y \\right)}\\, dy$"
      ],
      "text/plain": [
       "Integral(f(y), y)"
      ]
     },
     "execution_count": 16,
     "metadata": {},
     "output_type": "execute_result"
    }
   ],
   "source": [
    "from sympy import *\n",
    "x = Symbol('x')\n",
    "y = Symbol('y')\n",
    "f = Function('f')\n",
    "\n",
    "simplify(Integral(f(x), x) - Integral(f(y), y)).is_zero\n",
    "Integral(f(x), x).replace(x,y)"
   ]
  },
  {
   "cell_type": "code",
   "execution_count": 25,
   "metadata": {},
   "outputs": [
    {
     "data": {
      "text/latex": [
       "$\\displaystyle \\int f{\\left(y \\right)}\\, dy$"
      ],
      "text/plain": [
       "Integral(f(y), y)"
      ]
     },
     "execution_count": 25,
     "metadata": {},
     "output_type": "execute_result"
    }
   ],
   "source": [
    "Integral(f(x), x).subs(x,y)"
   ]
  },
  {
   "cell_type": "code",
   "execution_count": null,
   "metadata": {},
   "outputs": [],
   "source": [
    "def is_quantifier(x):\n",
    "    return x.func == Integral or x.func = Sum\n",
    "\n",
    "def canon_alpha(x):\n",
    "    fresh = 0\n",
    "    todo = [([], x)]\n",
    "    def worker(xs, x):\n",
    "        if is_quantifier(x):\n",
    "            newx = symbols(\"x%d\" % fresh)\n",
    "            fresh += 1\n",
    "            return x.func(worker(xs + [x.args[1]], x.args[0]), newx)\n",
    "        else:\n",
    "            if x in xs:\n",
    "                return xs.index(x)\n",
    "            else:\n",
    "                x.func(*[worker(xs,a) for a in x.args)\n",
    "\n",
    "\n",
    "\n",
    "    while todo:\n",
    "        vs, x = todo.pop()\n",
    "        if is_quantifier(x):\n",
    "            vs = vs + [x.args[1]]\n",
    "            todo.append((vs, x.args[0]))\n",
    "        else:\n",
    "            if x in vs:\n",
    "                x = vs.index(x)\n",
    "            else:\n",
    "                vs.append(x)\n",
    "                x = fresh\n",
    "                fresh += 1\n",
    "    if is_quantifier(x):\n",
    "        return x.func(x.args[0], canon_alpha(x.args[1], fresh, vs))\n",
    "    else:\n",
    "        if x in vs:\n",
    "            return vs.index(x)\n",
    "        else:\n",
    "            vs.append(x)\n",
    "            return fresh\n",
    "\n",
    "    if is\n",
    "\n"
   ]
  },
  {
   "cell_type": "code",
   "execution_count": 24,
   "metadata": {},
   "outputs": [
    {
     "ename": "TypeError",
     "evalue": "singularities() missing 1 required positional argument: 'symbol'",
     "output_type": "error",
     "traceback": [
      "\u001b[0;31m---------------------------------------------------------------------------\u001b[0m",
      "\u001b[0;31mTypeError\u001b[0m                                 Traceback (most recent call last)",
      "Cell \u001b[0;32mIn[24], line 1\u001b[0m\n\u001b[0;32m----> 1\u001b[0m \u001b[43msingularities\u001b[49m\u001b[43m(\u001b[49m\u001b[43mMatrixSymbol\u001b[49m\u001b[43m(\u001b[49m\u001b[38;5;124;43m'\u001b[39;49m\u001b[38;5;124;43mA\u001b[39;49m\u001b[38;5;124;43m'\u001b[39;49m\u001b[43m,\u001b[49m\u001b[43m \u001b[49m\u001b[38;5;241;43m2\u001b[39;49m\u001b[43m,\u001b[49m\u001b[43m \u001b[49m\u001b[38;5;241;43m2\u001b[39;49m\u001b[43m)\u001b[49m\u001b[38;5;241;43m.\u001b[39;49m\u001b[43mas_explicit\u001b[49m\u001b[43m(\u001b[49m\u001b[43m)\u001b[49m\u001b[38;5;241;43m.\u001b[39;49m\u001b[43minv\u001b[49m\u001b[43m(\u001b[49m\u001b[43m)\u001b[49m\u001b[43m)\u001b[49m\n",
      "\u001b[0;31mTypeError\u001b[0m: singularities() missing 1 required positional argument: 'symbol'"
     ]
    }
   ],
   "source": [
    "singularities(MatrixSymbol('A', 2, 2).as_explicit().inv())"
   ]
  },
  {
   "cell_type": "markdown",
   "metadata": {},
   "source": [
    "Depending on what you mean by replace, this is nonsensical."
   ]
  },
  {
   "cell_type": "code",
   "execution_count": 13,
   "metadata": {},
   "outputs": [
    {
     "data": {
      "text/latex": [
       "$\\displaystyle \\int f{\\left(y \\right)}\\, dy$"
      ],
      "text/plain": [
       "Integral(f(y), y)"
      ]
     },
     "execution_count": 13,
     "metadata": {},
     "output_type": "execute_result"
    }
   ],
   "source": [
    "Integral(f(x), x).replace(x,y)"
   ]
  },
  {
   "cell_type": "markdown",
   "metadata": {},
   "source": [
    "\n",
    "\n",
    "\n",
    "\n",
    "Mathemtica has new matrix support\n",
    "\n",
    "\n",
    "\n",
    "\n",
    "Sympy has a unify. But it doesn't work over the regular stuff?\n",
    "Sympy knuth bendix would be a nice thing to add.\n",
    "\n"
   ]
  },
  {
   "cell_type": "markdown",
   "metadata": {},
   "source": [
    "https://link.springer.com/book/10.1007/3-540-45084-X Symbolic and Numerical Scientific Computation\n",
    "https://easychair.org/cfp/SYNASC2023\n",
    "\n"
   ]
  },
  {
   "cell_type": "markdown",
   "metadata": {},
   "source": [
    "# MySympy\n",
    "What about mysympy? I mean what does sympy really achieve for me in the generic stuff?\n",
    "\n",
    "Well I do want operator overloading"
   ]
  },
  {
   "cell_type": "code",
   "execution_count": 3,
   "metadata": {},
   "outputs": [],
   "source": [
    "from typing import NamedTuple, List, Dict, Any, Tuple, Optional\n",
    "\n",
    "def Term(NamedTuple):\n",
    "    name: str\n",
    "    x:object\n",
    "    y:object\n",
    "    z:object\n",
    "    def __add__(self, other):\n",
    "        return Term(\"add\", self, other)\n",
    "\n",
    "Term(\"var\")"
   ]
  },
  {
   "cell_type": "code",
   "execution_count": 4,
   "metadata": {},
   "outputs": [
    {
     "ename": "TypeError",
     "evalue": "cannot set '__add__' attribute of immutable type 'tuple'",
     "output_type": "error",
     "traceback": [
      "\u001b[0;31m---------------------------------------------------------------------------\u001b[0m",
      "\u001b[0;31mTypeError\u001b[0m                                 Traceback (most recent call last)",
      "Cell \u001b[0;32mIn[4], line 1\u001b[0m\n\u001b[0;32m----> 1\u001b[0m \u001b[38;5;28;43mtuple\u001b[39;49m\u001b[38;5;241;43m.\u001b[39;49m\u001b[38;5;21;43m__add__\u001b[39;49m \u001b[38;5;241m=\u001b[39m \u001b[38;5;28;01mlambda\u001b[39;00m \u001b[38;5;28mself\u001b[39m, other: (\u001b[38;5;124m\"\u001b[39m\u001b[38;5;124madd\u001b[39m\u001b[38;5;124m\"\u001b[39m, \u001b[38;5;28mself\u001b[39m, other)\n",
      "\u001b[0;31mTypeError\u001b[0m: cannot set '__add__' attribute of immutable type 'tuple'"
     ]
    }
   ],
   "source": [
    "tuple.__add__ = lambda self, other: (\"add\", self, other)"
   ]
  },
  {
   "cell_type": "code",
   "execution_count": null,
   "metadata": {},
   "outputs": [],
   "source": [
    "def simp1(t):\n",
    "    match t:\n",
    "        case (\"+\", a, 0) | (\"+\", 0, a):\n",
    "            return a\n",
    "        case (\"+\", int(a), int(b)):\n",
    "            return a + b\n",
    "        case (\"+\", (\"+\", a ,b), c) | (\"+\", a, (\"+\", b, c)):\n",
    "            return (\"+\", a, b, c) # sorted?\n",
    "        case _:\n",
    "            return t\n",
    "\n",
    "def simp(t):\n",
    "    if isinstance(t, tuple):\n",
    "        return simp1(tuple(map(simp, t)))\n",
    "    return t\n",
    "\n",
    "\n",
    "(\"int\", (\"lam\", \"x\", (\"+\", \"x\", 1)))\n",
    "\n"
   ]
  },
  {
   "cell_type": "markdown",
   "metadata": {},
   "source": [
    "# Matlab\n",
    "https://github.com/mikecroucher/awesome-MATLAB\n",
    "Actually some pretty cool stuff especially for nuermics\n",
    "\n"
   ]
  },
  {
   "cell_type": "markdown",
   "metadata": {},
   "source": [
    "# CAD cylindrcial algerbaic\n",
    "https://vimeo.com/showcase/5271198 sc2 summer school\n"
   ]
  },
  {
   "cell_type": "markdown",
   "metadata": {},
   "source": [
    "# Hensel\n",
    "https://en.wikipedia.org/wiki/Hensel%27s_lemma\n",
    "Best algo for exact rational linarith?\n",
    "\n",
    "p-adic\n",
    "Harrison mentioned something was analog pf newton's method.\n"
   ]
  },
  {
   "cell_type": "markdown",
   "metadata": {},
   "source": [
    "# Knuckle Introp\n",
    "\n"
   ]
  },
  {
   "cell_type": "code",
   "execution_count": null,
   "metadata": {},
   "outputs": [],
   "source": [
    "import knuckledragger as kd\n",
    "import z3\n",
    "import sympy\n",
    "def to_sympy(t):\n",
    "    if t.sort() == RealSort():\n",
    "        real = True\n",
    "    if t.sort() == Complex\n",
    "    sp.Functiont.decl().name()\n",
    "\n",
    "def to_flint(t):\n",
    "    if is_var(t):\n",
    "        lambda x: x[]\n",
    "    flint.__dict__()\n",
    "\n",
    "def of_flint(t):\n",
    "# special?\n",
    "#def to_sympy_poly\n",
    "\n",
    "from functools import singledispatch\n",
    "@singledispatch\n",
    "def sin(x : flint.arb_t):\n",
    "    return sympy.sin(x)\n",
    "\n",
    "def interp(t : ExprRef):\n",
    "\n",
    "\n",
    "\n",
    "# more for sanity checking\n",
    "class SympySolver():\n",
    "    def check(self):\n",
    "        to_sympy(self.adds)\n",
    "        solveset(self.adds[-1])\n",
    "\n",
    "class FlintSolver():\n",
    "    def check(self):\n",
    "\n",
    "        to_flint(self.adds)\n",
    "        self.adds[-1].solve()\n"
   ]
  },
  {
   "cell_type": "markdown",
   "metadata": {},
   "source": [
    "# LLL\n",
    "Sympy has one built in\n",
    "\n",
    "\n",
    "chinese remainder theorem\n",
    "Do in mod arith. answer can be backed out mod n1 n2 n3...\n",
    "\n"
   ]
  },
  {
   "cell_type": "markdown",
   "metadata": {},
   "source": [
    "# Sage\n",
    "https://ask.sagemath.org/questions/\n",
    "https://doc.sagemath.org/html/en/a_tour_of_sage/index.html"
   ]
  },
  {
   "cell_type": "code",
   "execution_count": 54,
   "metadata": {},
   "outputs": [
    {
     "ename": "TypeError",
     "evalue": "unable to start fricas because the command 'fricas -nosman' failed: The command was not found or was not executable: fricas.\n\nIn order to use the FriCAS interface you need to have FriCAS installed.\nYou can either run 'sage -i fricas' to install FriCAS as an optional\npackage within SageMath, or install FriCAS separately, see\nhttp://fricas.sourceforge.net.\n",
     "output_type": "error",
     "traceback": [
      "\u001b[0;31m---------------------------------------------------------------------------\u001b[0m",
      "\u001b[0;31mExceptionPexpect\u001b[0m                          Traceback (most recent call last)",
      "File \u001b[0;32m/usr/lib/python3/dist-packages/sage/interfaces/expect.py:492\u001b[0m, in \u001b[0;36mExpect._start\u001b[0;34m(self, alt_message, block_during_init)\u001b[0m\n\u001b[1;32m    491\u001b[0m \u001b[38;5;28;01mtry\u001b[39;00m:\n\u001b[0;32m--> 492\u001b[0m     \u001b[38;5;28mself\u001b[39m\u001b[38;5;241m.\u001b[39m_expect \u001b[38;5;241m=\u001b[39m \u001b[43mSageSpawn\u001b[49m\u001b[43m(\u001b[49m\u001b[43mcmd\u001b[49m\u001b[43m,\u001b[49m\n\u001b[1;32m    493\u001b[0m \u001b[43m            \u001b[49m\u001b[43mlogfile\u001b[49m\u001b[38;5;241;43m=\u001b[39;49m\u001b[38;5;28;43mself\u001b[39;49m\u001b[38;5;241;43m.\u001b[39;49m\u001b[43m__logfile\u001b[49m\u001b[43m,\u001b[49m\n\u001b[1;32m    494\u001b[0m \u001b[43m            \u001b[49m\u001b[43mtimeout\u001b[49m\u001b[38;5;241;43m=\u001b[39;49m\u001b[38;5;28;43;01mNone\u001b[39;49;00m\u001b[43m,\u001b[49m\u001b[43m  \u001b[49m\u001b[38;5;66;43;03m# no timeout\u001b[39;49;00m\n\u001b[1;32m    495\u001b[0m \u001b[43m            \u001b[49m\u001b[43menv\u001b[49m\u001b[38;5;241;43m=\u001b[39;49m\u001b[43mpexpect_env\u001b[49m\u001b[43m,\u001b[49m\n\u001b[1;32m    496\u001b[0m \u001b[43m            \u001b[49m\u001b[43mname\u001b[49m\u001b[38;5;241;43m=\u001b[39;49m\u001b[38;5;28;43mself\u001b[39;49m\u001b[38;5;241;43m.\u001b[39;49m\u001b[43m_repr_\u001b[49m\u001b[43m(\u001b[49m\u001b[43m)\u001b[49m\u001b[43m,\u001b[49m\n\u001b[1;32m    497\u001b[0m \u001b[43m            \u001b[49m\u001b[43mecho\u001b[49m\u001b[38;5;241;43m=\u001b[39;49m\u001b[38;5;28;43mself\u001b[39;49m\u001b[38;5;241;43m.\u001b[39;49m\u001b[43m_terminal_echo\u001b[49m\u001b[43m,\u001b[49m\n\u001b[1;32m    498\u001b[0m \u001b[43m            \u001b[49m\u001b[38;5;66;43;03m# Work around https://bugs.python.org/issue1652\u001b[39;49;00m\n\u001b[1;32m    499\u001b[0m \u001b[43m            \u001b[49m\u001b[43mpreexec_fn\u001b[49m\u001b[38;5;241;43m=\u001b[39;49m\u001b[38;5;28;43;01mlambda\u001b[39;49;00m\u001b[43m:\u001b[49m\u001b[43m \u001b[49m\u001b[43msignal\u001b[49m\u001b[38;5;241;43m.\u001b[39;49m\u001b[43msignal\u001b[49m\u001b[43m(\u001b[49m\u001b[43msignal\u001b[49m\u001b[38;5;241;43m.\u001b[39;49m\u001b[43mSIGPIPE\u001b[49m\u001b[43m,\u001b[49m\u001b[43m \u001b[49m\u001b[43msignal\u001b[49m\u001b[38;5;241;43m.\u001b[39;49m\u001b[43mSIG_DFL\u001b[49m\u001b[43m)\u001b[49m\u001b[43m,\u001b[49m\n\u001b[1;32m    500\u001b[0m \u001b[43m            \u001b[49m\u001b[43mquit_string\u001b[49m\u001b[38;5;241;43m=\u001b[39;49m\u001b[38;5;28;43mself\u001b[39;49m\u001b[38;5;241;43m.\u001b[39;49m\u001b[43m_quit_string\u001b[49m\u001b[43m(\u001b[49m\u001b[43m)\u001b[49m\u001b[43m)\u001b[49m\n\u001b[1;32m    501\u001b[0m \u001b[38;5;28;01mexcept\u001b[39;00m (ExceptionPexpect, pexpect\u001b[38;5;241m.\u001b[39mEOF) \u001b[38;5;28;01mas\u001b[39;00m e:\n\u001b[1;32m    502\u001b[0m     \u001b[38;5;66;03m# Change pexpect errors to RuntimeError\u001b[39;00m\n",
      "File \u001b[0;32m/usr/lib/python3/dist-packages/sage/interfaces/sagespawn.pyx:65\u001b[0m, in \u001b[0;36msage.interfaces.sagespawn.SageSpawn.__init__ (build/cythonized/sage/interfaces/sagespawn.c:2071)\u001b[0;34m()\u001b[0m\n\u001b[1;32m     64\u001b[0m \n\u001b[0;32m---> 65\u001b[0m         with ContainChildren(silent=True):\n\u001b[1;32m     66\u001b[0m             spawn.__init__(self, *args, **kwds)\n",
      "File \u001b[0;32m/usr/lib/python3/dist-packages/sage/interfaces/sagespawn.pyx:66\u001b[0m, in \u001b[0;36msage.interfaces.sagespawn.SageSpawn.__init__ (build/cythonized/sage/interfaces/sagespawn.c:2024)\u001b[0;34m()\u001b[0m\n\u001b[1;32m     65\u001b[0m with ContainChildren(silent=True):\n\u001b[0;32m---> 66\u001b[0m     spawn.__init__(self, *args, **kwds)\n\u001b[1;32m     67\u001b[0m \n",
      "File \u001b[0;32m/usr/lib/python3/dist-packages/pexpect/pty_spawn.py:205\u001b[0m, in \u001b[0;36mspawn.__init__\u001b[0;34m(self, command, args, timeout, maxread, searchwindowsize, logfile, cwd, env, ignore_sighup, echo, preexec_fn, encoding, codec_errors, dimensions, use_poll)\u001b[0m\n\u001b[1;32m    204\u001b[0m \u001b[38;5;28;01melse\u001b[39;00m:\n\u001b[0;32m--> 205\u001b[0m     \u001b[38;5;28;43mself\u001b[39;49m\u001b[38;5;241;43m.\u001b[39;49m\u001b[43m_spawn\u001b[49m\u001b[43m(\u001b[49m\u001b[43mcommand\u001b[49m\u001b[43m,\u001b[49m\u001b[43m \u001b[49m\u001b[43margs\u001b[49m\u001b[43m,\u001b[49m\u001b[43m \u001b[49m\u001b[43mpreexec_fn\u001b[49m\u001b[43m,\u001b[49m\u001b[43m \u001b[49m\u001b[43mdimensions\u001b[49m\u001b[43m)\u001b[49m\n\u001b[1;32m    206\u001b[0m \u001b[38;5;28mself\u001b[39m\u001b[38;5;241m.\u001b[39muse_poll \u001b[38;5;241m=\u001b[39m use_poll\n",
      "File \u001b[0;32m/usr/lib/python3/dist-packages/pexpect/pty_spawn.py:276\u001b[0m, in \u001b[0;36mspawn._spawn\u001b[0;34m(self, command, args, preexec_fn, dimensions)\u001b[0m\n\u001b[1;32m    275\u001b[0m \u001b[38;5;28;01mif\u001b[39;00m command_with_path \u001b[38;5;129;01mis\u001b[39;00m \u001b[38;5;28;01mNone\u001b[39;00m:\n\u001b[0;32m--> 276\u001b[0m     \u001b[38;5;28;01mraise\u001b[39;00m ExceptionPexpect(\u001b[38;5;124m'\u001b[39m\u001b[38;5;124mThe command was not found or was not \u001b[39m\u001b[38;5;124m'\u001b[39m \u001b[38;5;241m+\u001b[39m\n\u001b[1;32m    277\u001b[0m             \u001b[38;5;124m'\u001b[39m\u001b[38;5;124mexecutable: \u001b[39m\u001b[38;5;132;01m%s\u001b[39;00m\u001b[38;5;124m.\u001b[39m\u001b[38;5;124m'\u001b[39m \u001b[38;5;241m%\u001b[39m \u001b[38;5;28mself\u001b[39m\u001b[38;5;241m.\u001b[39mcommand)\n\u001b[1;32m    278\u001b[0m \u001b[38;5;28mself\u001b[39m\u001b[38;5;241m.\u001b[39mcommand \u001b[38;5;241m=\u001b[39m command_with_path\n",
      "\u001b[0;31mExceptionPexpect\u001b[0m: The command was not found or was not executable: fricas.",
      "\nDuring handling of the above exception, another exception occurred:\n",
      "\u001b[0;31mRuntimeError\u001b[0m                              Traceback (most recent call last)",
      "File \u001b[0;32m/usr/lib/python3/dist-packages/sage/interfaces/expect.py:1470\u001b[0m, in \u001b[0;36mExpectElement.__init__\u001b[0;34m(self, parent, value, is_name, name)\u001b[0m\n\u001b[1;32m   1469\u001b[0m \u001b[38;5;28;01mtry\u001b[39;00m:\n\u001b[0;32m-> 1470\u001b[0m     \u001b[38;5;28mself\u001b[39m\u001b[38;5;241m.\u001b[39m_name \u001b[38;5;241m=\u001b[39m \u001b[43mparent\u001b[49m\u001b[38;5;241;43m.\u001b[39;49m\u001b[43m_create\u001b[49m\u001b[43m(\u001b[49m\u001b[43mvalue\u001b[49m\u001b[43m,\u001b[49m\u001b[43m \u001b[49m\u001b[43mname\u001b[49m\u001b[38;5;241;43m=\u001b[39;49m\u001b[43mname\u001b[49m\u001b[43m)\u001b[49m\n\u001b[1;32m   1471\u001b[0m \u001b[38;5;66;03m# Convert ValueError and RuntimeError to TypeError for\u001b[39;00m\n\u001b[1;32m   1472\u001b[0m \u001b[38;5;66;03m# coercion to work properly.\u001b[39;00m\n",
      "File \u001b[0;32m/usr/lib/python3/dist-packages/sage/interfaces/interface.py:513\u001b[0m, in \u001b[0;36mInterface._create\u001b[0;34m(self, value, name)\u001b[0m\n\u001b[1;32m    512\u001b[0m name \u001b[38;5;241m=\u001b[39m \u001b[38;5;28mself\u001b[39m\u001b[38;5;241m.\u001b[39m_next_var_name() \u001b[38;5;28;01mif\u001b[39;00m name \u001b[38;5;129;01mis\u001b[39;00m \u001b[38;5;28;01mNone\u001b[39;00m \u001b[38;5;28;01melse\u001b[39;00m name\n\u001b[0;32m--> 513\u001b[0m \u001b[38;5;28;43mself\u001b[39;49m\u001b[38;5;241;43m.\u001b[39;49m\u001b[43mset\u001b[49m\u001b[43m(\u001b[49m\u001b[43mname\u001b[49m\u001b[43m,\u001b[49m\u001b[43m \u001b[49m\u001b[43mvalue\u001b[49m\u001b[43m)\u001b[49m\n\u001b[1;32m    514\u001b[0m \u001b[38;5;28;01mreturn\u001b[39;00m name\n",
      "File \u001b[0;32m/usr/lib/python3/dist-packages/sage/interfaces/fricas.py:674\u001b[0m, in \u001b[0;36mFriCAS.set\u001b[0;34m(self, var, value)\u001b[0m\n\u001b[1;32m    673\u001b[0m cmd \u001b[38;5;241m=\u001b[39m \u001b[38;5;124m'\u001b[39m\u001b[38;5;132;01m%s\u001b[39;00m\u001b[38;5;132;01m%s\u001b[39;00m\u001b[38;5;132;01m%s\u001b[39;00m\u001b[38;5;124m;\u001b[39m\u001b[38;5;124m'\u001b[39m \u001b[38;5;241m%\u001b[39m (var, \u001b[38;5;28mself\u001b[39m\u001b[38;5;241m.\u001b[39m_assign_symbol(), value)\n\u001b[0;32m--> 674\u001b[0m output \u001b[38;5;241m=\u001b[39m \u001b[38;5;28;43mself\u001b[39;49m\u001b[38;5;241;43m.\u001b[39;49m\u001b[43meval\u001b[49m\u001b[43m(\u001b[49m\u001b[43mcmd\u001b[49m\u001b[43m,\u001b[49m\u001b[43m \u001b[49m\u001b[43mreformat\u001b[49m\u001b[38;5;241;43m=\u001b[39;49m\u001b[38;5;28;43;01mFalse\u001b[39;49;00m\u001b[43m)\u001b[49m\n\u001b[1;32m    675\u001b[0m \u001b[38;5;28mself\u001b[39m\u001b[38;5;241m.\u001b[39m_check_errors(value, output)\n",
      "File \u001b[0;32m/usr/lib/python3/dist-packages/sage/interfaces/fricas.py:932\u001b[0m, in \u001b[0;36mFriCAS.eval\u001b[0;34m(self, code, strip, synchronize, locals, allow_use_file, split_lines, reformat, **kwds)\u001b[0m\n\u001b[1;32m    910\u001b[0m \u001b[38;5;250m\u001b[39m\u001b[38;5;124;03m\"\"\"\u001b[39;00m\n\u001b[1;32m    911\u001b[0m \u001b[38;5;124;03mEvaluate ``code`` using FriCAS.\u001b[39;00m\n\u001b[1;32m    912\u001b[0m \n\u001b[0;32m   (...)\u001b[0m\n\u001b[1;32m    930\u001b[0m \n\u001b[1;32m    931\u001b[0m \u001b[38;5;124;03m\"\"\"\u001b[39;00m\n\u001b[0;32m--> 932\u001b[0m output \u001b[38;5;241m=\u001b[39m \u001b[43mExpect\u001b[49m\u001b[38;5;241;43m.\u001b[39;49m\u001b[43meval\u001b[49m\u001b[43m(\u001b[49m\u001b[38;5;28;43mself\u001b[39;49m\u001b[43m,\u001b[49m\u001b[43m \u001b[49m\u001b[43mcode\u001b[49m\u001b[43m,\u001b[49m\u001b[43m \u001b[49m\u001b[43mstrip\u001b[49m\u001b[38;5;241;43m=\u001b[39;49m\u001b[43mstrip\u001b[49m\u001b[43m,\u001b[49m\n\u001b[1;32m    933\u001b[0m \u001b[43m                     \u001b[49m\u001b[43msynchronize\u001b[49m\u001b[38;5;241;43m=\u001b[39;49m\u001b[43msynchronize\u001b[49m\u001b[43m,\u001b[49m\u001b[43m \u001b[49m\u001b[38;5;28;43mlocals\u001b[39;49m\u001b[38;5;241;43m=\u001b[39;49m\u001b[38;5;28;43mlocals\u001b[39;49m\u001b[43m,\u001b[49m\n\u001b[1;32m    934\u001b[0m \u001b[43m                     \u001b[49m\u001b[43mallow_use_file\u001b[49m\u001b[38;5;241;43m=\u001b[39;49m\u001b[43mallow_use_file\u001b[49m\u001b[43m,\u001b[49m\u001b[43m \u001b[49m\u001b[43msplit_lines\u001b[49m\u001b[38;5;241;43m=\u001b[39;49m\u001b[43msplit_lines\u001b[49m\u001b[43m,\u001b[49m\n\u001b[1;32m    935\u001b[0m \u001b[43m                     \u001b[49m\u001b[38;5;241;43m*\u001b[39;49m\u001b[38;5;241;43m*\u001b[39;49m\u001b[43mkwds\u001b[49m\u001b[43m)\u001b[49m\n\u001b[1;32m    936\u001b[0m \u001b[38;5;66;03m# we remove carriage returns (\\r) to make parsing easier\u001b[39;00m\n\u001b[1;32m    937\u001b[0m \u001b[38;5;66;03m# they are sent depending on how fricas was invoked:\u001b[39;00m\n\u001b[1;32m    938\u001b[0m \u001b[38;5;66;03m# on linux, \"fricas -nox -noclef\" sends \"\\r\\n\" and \"fricas -nosman\" sends \"\\n\"\u001b[39;00m\n",
      "File \u001b[0;32m/usr/lib/python3/dist-packages/sage/interfaces/expect.py:1382\u001b[0m, in \u001b[0;36mExpect.eval\u001b[0;34m(self, code, strip, synchronize, locals, allow_use_file, split_lines, **kwds)\u001b[0m\n\u001b[1;32m   1381\u001b[0m \u001b[38;5;28;01melif\u001b[39;00m split_lines:\n\u001b[0;32m-> 1382\u001b[0m     \u001b[38;5;28;01mreturn\u001b[39;00m \u001b[38;5;124m'\u001b[39m\u001b[38;5;130;01m\\n\u001b[39;00m\u001b[38;5;124m'\u001b[39m\u001b[38;5;241m.\u001b[39mjoin([\u001b[38;5;28mself\u001b[39m\u001b[38;5;241m.\u001b[39m_eval_line(L, allow_use_file\u001b[38;5;241m=\u001b[39mallow_use_file, \u001b[38;5;241m*\u001b[39m\u001b[38;5;241m*\u001b[39mkwds)\n\u001b[1;32m   1383\u001b[0m                         \u001b[38;5;28;01mfor\u001b[39;00m L \u001b[38;5;129;01min\u001b[39;00m code\u001b[38;5;241m.\u001b[39msplit(\u001b[38;5;124m'\u001b[39m\u001b[38;5;130;01m\\n\u001b[39;00m\u001b[38;5;124m'\u001b[39m) \u001b[38;5;28;01mif\u001b[39;00m L \u001b[38;5;241m!=\u001b[39m \u001b[38;5;124m'\u001b[39m\u001b[38;5;124m'\u001b[39m])\n\u001b[1;32m   1384\u001b[0m \u001b[38;5;28;01melse\u001b[39;00m:\n",
      "File \u001b[0;32m/usr/lib/python3/dist-packages/sage/interfaces/expect.py:1382\u001b[0m, in \u001b[0;36m<listcomp>\u001b[0;34m(.0)\u001b[0m\n\u001b[1;32m   1381\u001b[0m \u001b[38;5;28;01melif\u001b[39;00m split_lines:\n\u001b[0;32m-> 1382\u001b[0m     \u001b[38;5;28;01mreturn\u001b[39;00m \u001b[38;5;124m'\u001b[39m\u001b[38;5;130;01m\\n\u001b[39;00m\u001b[38;5;124m'\u001b[39m\u001b[38;5;241m.\u001b[39mjoin([\u001b[38;5;28;43mself\u001b[39;49m\u001b[38;5;241;43m.\u001b[39;49m\u001b[43m_eval_line\u001b[49m\u001b[43m(\u001b[49m\u001b[43mL\u001b[49m\u001b[43m,\u001b[49m\u001b[43m \u001b[49m\u001b[43mallow_use_file\u001b[49m\u001b[38;5;241;43m=\u001b[39;49m\u001b[43mallow_use_file\u001b[49m\u001b[43m,\u001b[49m\u001b[43m \u001b[49m\u001b[38;5;241;43m*\u001b[39;49m\u001b[38;5;241;43m*\u001b[39;49m\u001b[43mkwds\u001b[49m\u001b[43m)\u001b[49m\n\u001b[1;32m   1383\u001b[0m                         \u001b[38;5;28;01mfor\u001b[39;00m L \u001b[38;5;129;01min\u001b[39;00m code\u001b[38;5;241m.\u001b[39msplit(\u001b[38;5;124m'\u001b[39m\u001b[38;5;130;01m\\n\u001b[39;00m\u001b[38;5;124m'\u001b[39m) \u001b[38;5;28;01mif\u001b[39;00m L \u001b[38;5;241m!=\u001b[39m \u001b[38;5;124m'\u001b[39m\u001b[38;5;124m'\u001b[39m])\n\u001b[1;32m   1384\u001b[0m \u001b[38;5;28;01melse\u001b[39;00m:\n",
      "File \u001b[0;32m/usr/lib/python3/dist-packages/sage/interfaces/expect.py:948\u001b[0m, in \u001b[0;36mExpect._eval_line\u001b[0;34m(self, line, allow_use_file, wait_for_prompt, restart_if_needed)\u001b[0m\n\u001b[1;32m    947\u001b[0m \u001b[38;5;28;01mif\u001b[39;00m \u001b[38;5;28mself\u001b[39m\u001b[38;5;241m.\u001b[39m_expect \u001b[38;5;129;01mis\u001b[39;00m \u001b[38;5;28;01mNone\u001b[39;00m:\n\u001b[0;32m--> 948\u001b[0m     \u001b[38;5;28;43mself\u001b[39;49m\u001b[38;5;241;43m.\u001b[39;49m\u001b[43m_start\u001b[49m\u001b[43m(\u001b[49m\u001b[43m)\u001b[49m\n\u001b[1;32m    949\u001b[0m E \u001b[38;5;241m=\u001b[39m \u001b[38;5;28mself\u001b[39m\u001b[38;5;241m.\u001b[39m_expect\n",
      "File \u001b[0;32m/usr/lib/python3/dist-packages/sage/interfaces/fricas.py:323\u001b[0m, in \u001b[0;36mFriCAS._start\u001b[0;34m(self)\u001b[0m\n\u001b[1;32m    322\u001b[0m \u001b[38;5;28mself\u001b[39m\u001b[38;5;241m.\u001b[39m_prompt \u001b[38;5;241m=\u001b[39m FRICAS_FIRST_PROMPT\n\u001b[0;32m--> 323\u001b[0m \u001b[43mExpect\u001b[49m\u001b[38;5;241;43m.\u001b[39;49m\u001b[43m_start\u001b[49m\u001b[43m(\u001b[49m\u001b[38;5;28;43mself\u001b[39;49m\u001b[43m)\u001b[49m\n\u001b[1;32m    324\u001b[0m \u001b[38;5;28;01mfor\u001b[39;00m line \u001b[38;5;129;01min\u001b[39;00m FRICAS_INIT_CODE:\n",
      "File \u001b[0;32m/usr/lib/python3/dist-packages/sage/interfaces/expect.py:503\u001b[0m, in \u001b[0;36mExpect._start\u001b[0;34m(self, alt_message, block_during_init)\u001b[0m\n\u001b[1;32m    501\u001b[0m     \u001b[38;5;28;01mexcept\u001b[39;00m (ExceptionPexpect, pexpect\u001b[38;5;241m.\u001b[39mEOF) \u001b[38;5;28;01mas\u001b[39;00m e:\n\u001b[1;32m    502\u001b[0m         \u001b[38;5;66;03m# Change pexpect errors to RuntimeError\u001b[39;00m\n\u001b[0;32m--> 503\u001b[0m         \u001b[38;5;28;01mraise\u001b[39;00m \u001b[38;5;167;01mRuntimeError\u001b[39;00m(\u001b[38;5;124m\"\u001b[39m\u001b[38;5;124munable to start \u001b[39m\u001b[38;5;132;01m%s\u001b[39;00m\u001b[38;5;124m because the command \u001b[39m\u001b[38;5;132;01m%r\u001b[39;00m\u001b[38;5;124m failed: \u001b[39m\u001b[38;5;132;01m%s\u001b[39;00m\u001b[38;5;130;01m\\n\u001b[39;00m\u001b[38;5;132;01m%s\u001b[39;00m\u001b[38;5;124m\"\u001b[39m \u001b[38;5;241m%\u001b[39m\n\u001b[1;32m    504\u001b[0m                 (\u001b[38;5;28mself\u001b[39m\u001b[38;5;241m.\u001b[39mname(), cmd, e, \u001b[38;5;28mself\u001b[39m\u001b[38;5;241m.\u001b[39m_install_hints()))\n\u001b[1;32m    505\u001b[0m \u001b[38;5;28;01mexcept\u001b[39;00m \u001b[38;5;167;01mBaseException\u001b[39;00m:\n",
      "\u001b[0;31mRuntimeError\u001b[0m: unable to start fricas because the command 'fricas -nosman' failed: The command was not found or was not executable: fricas.\n\nIn order to use the FriCAS interface you need to have FriCAS installed.\nYou can either run 'sage -i fricas' to install FriCAS as an optional\npackage within SageMath, or install FriCAS separately, see\nhttp://fricas.sourceforge.net.\n",
      "\nDuring handling of the above exception, another exception occurred:\n",
      "\u001b[0;31mTypeError\u001b[0m                                 Traceback (most recent call last)",
      "Cell \u001b[0;32mIn[54], line 12\u001b[0m\n\u001b[1;32m     10\u001b[0m SimplicialComplex([[Integer(\u001b[38;5;241m1\u001b[39m)], [Integer(\u001b[38;5;241m3\u001b[39m), Integer(\u001b[38;5;241m7\u001b[39m)]])\n\u001b[1;32m     11\u001b[0m simplicial_complexes\u001b[38;5;241m.\u001b[39mSphere(Integer(\u001b[38;5;241m2\u001b[39m))\n\u001b[0;32m---> 12\u001b[0m \u001b[43mfricas\u001b[49m\u001b[43m(\u001b[49m\u001b[38;5;124;43m'\u001b[39;49m\u001b[38;5;124;43m3 * 5\u001b[39;49m\u001b[38;5;124;43m'\u001b[39;49m\u001b[43m)\u001b[49m\n",
      "File \u001b[0;32m/usr/lib/python3/dist-packages/sage/interfaces/interface.py:295\u001b[0m, in \u001b[0;36mInterface.__call__\u001b[0;34m(self, x, name)\u001b[0m\n\u001b[1;32m    292\u001b[0m         \u001b[38;5;28;01mpass\u001b[39;00m\n\u001b[1;32m    294\u001b[0m \u001b[38;5;28;01mif\u001b[39;00m \u001b[38;5;28misinstance\u001b[39m(x, \u001b[38;5;28mstr\u001b[39m):\n\u001b[0;32m--> 295\u001b[0m     \u001b[38;5;28;01mreturn\u001b[39;00m \u001b[38;5;28;43mcls\u001b[39;49m\u001b[43m(\u001b[49m\u001b[38;5;28;43mself\u001b[39;49m\u001b[43m,\u001b[49m\u001b[43m \u001b[49m\u001b[43mx\u001b[49m\u001b[43m,\u001b[49m\u001b[43m \u001b[49m\u001b[43mname\u001b[49m\u001b[38;5;241;43m=\u001b[39;49m\u001b[43mname\u001b[49m\u001b[43m)\u001b[49m\n\u001b[1;32m    296\u001b[0m \u001b[38;5;28;01mtry\u001b[39;00m:\n\u001b[1;32m    297\u001b[0m     \u001b[38;5;66;03m# Special methods do not and should not have an option to\u001b[39;00m\n\u001b[1;32m    298\u001b[0m     \u001b[38;5;66;03m# set the name directly, as the identifier assigned by the\u001b[39;00m\n\u001b[1;32m    299\u001b[0m     \u001b[38;5;66;03m# interface should stay consistent. An identifier with a\u001b[39;00m\n\u001b[1;32m    300\u001b[0m     \u001b[38;5;66;03m# user-assigned name might change its value, so we return a\u001b[39;00m\n\u001b[1;32m    301\u001b[0m     \u001b[38;5;66;03m# new element.\u001b[39;00m\n\u001b[1;32m    302\u001b[0m     result \u001b[38;5;241m=\u001b[39m \u001b[38;5;28mself\u001b[39m\u001b[38;5;241m.\u001b[39m_coerce_from_special_method(x)\n",
      "File \u001b[0;32m/usr/lib/python3/dist-packages/sage/interfaces/expect.py:1475\u001b[0m, in \u001b[0;36mExpectElement.__init__\u001b[0;34m(self, parent, value, is_name, name)\u001b[0m\n\u001b[1;32m   1473\u001b[0m \u001b[38;5;28;01mexcept\u001b[39;00m (\u001b[38;5;167;01mRuntimeError\u001b[39;00m, \u001b[38;5;167;01mValueError\u001b[39;00m) \u001b[38;5;28;01mas\u001b[39;00m x:\n\u001b[1;32m   1474\u001b[0m     \u001b[38;5;28mself\u001b[39m\u001b[38;5;241m.\u001b[39m_session_number \u001b[38;5;241m=\u001b[39m \u001b[38;5;241m-\u001b[39m\u001b[38;5;241m1\u001b[39m\n\u001b[0;32m-> 1475\u001b[0m     \u001b[38;5;28;01mraise\u001b[39;00m \u001b[38;5;167;01mTypeError\u001b[39;00m(\u001b[38;5;241m*\u001b[39mx\u001b[38;5;241m.\u001b[39margs)\n\u001b[1;32m   1476\u001b[0m \u001b[38;5;28;01mexcept\u001b[39;00m \u001b[38;5;167;01mBaseException\u001b[39;00m:\n\u001b[1;32m   1477\u001b[0m     \u001b[38;5;28mself\u001b[39m\u001b[38;5;241m.\u001b[39m_session_number \u001b[38;5;241m=\u001b[39m \u001b[38;5;241m-\u001b[39m\u001b[38;5;241m1\u001b[39m\n",
      "\u001b[0;31mTypeError\u001b[0m: unable to start fricas because the command 'fricas -nosman' failed: The command was not found or was not executable: fricas.\n\nIn order to use the FriCAS interface you need to have FriCAS installed.\nYou can either run 'sage -i fricas' to install FriCAS as an optional\npackage within SageMath, or install FriCAS separately, see\nhttp://fricas.sourceforge.net.\n"
     ]
    }
   ],
   "source": [
    "from sage.all import *\n",
    "Integer(3) + Integer(3)\n",
    "var('x')\n",
    "integrate(sqrt(x) * sqrt(Integer(1) + x), x)\n",
    "a = var('a')\n",
    "S = solve(x**Integer(2) + x == a, x); S\n",
    "P1 = Polyhedron(vertices = [[-Integer(5),Integer(2)], [Integer(4),Integer(4)], [Integer(3),Integer(0)], [Integer(1),Integer(0)], [Integer(2),-Integer(4)], [-Integer(3),-Integer(1)], [-Integer(5),-Integer(3)]])\n",
    "G = Graph(Integer(4));\n",
    "G.plot().matplotlib()\n",
    "SimplicialComplex([[Integer(1)], [Integer(3), Integer(7)]])\n",
    "simplicial_complexes.Sphere(Integer(2))\n",
    "fricas('3 * 5')"
   ]
  },
  {
   "cell_type": "markdown",
   "metadata": {},
   "source": [
    "# generating functions\n",
    "https://www2.math.upenn.edu/~wilf/progs.html A = B \n",
    "https://www2.math.upenn.edu/~wilf/AeqB.html\n",
    "\n",
    "https://www2.math.upenn.edu/~wilf/DownldGF.html genertingfunctionalofgy\n",
    "https://ask.sagemath.org/question/78332/an-exercicse-from-ab/ f.WZ_certidficate() huh sage outpts the certificate\n",
    "\n"
   ]
  },
  {
   "cell_type": "markdown",
   "metadata": {},
   "source": [
    "# Sympy \n",
    "https://peerj.com/articles/cs-103/ sympy article\n",
    "https://ieeexplore.ieee.org/document/6188565  Symbolic Statistics with SymPy\n",
    "https://newtraell.cs.uchicago.edu/files/tr_authentic/TR-2013-07.pdf  Mathematically Informed Linear Algebra Codes Through\n",
    "Term Rewriting - Rocklin\n",
    "\n",
    "mpmath is pure python\n",
    "\n",
    "Rete for assumption system?\n",
    "\n",
    "_eval_differ\n",
    "\n",
    "eval_is_assumption\n",
    "\n",
    "## Proofs\n",
    "\n",
    "I can't find it, but I was trying to do a manual proof of `<(x-<x>)^2> = <x^2> - <x>^2` and I couldn't get sympy to goi through.\n",
    "What about maxima, mathematica, fricas, axiom?\n",
    "https://www.12000.org/my_notes/CAS_integration_tests/reports/summer_2022/indexchapter1.htm\n",
    "What if I took a randomized testing approach.\n",
    "sympy can really crush concrete problems.\n",
    "I try the first couple polynomials, sine, cosine.\n",
    "When I declare f, I say what sort of thing it can be. This is kind of like declaring it's domain\n",
    "cursors / zippers for sympy like lean.\n",
    "\n",
    "\n",
    "\n",
    "\n",
    "https://gutow.github.io/Algebra_with_Sympy/algebra_with_sympy.html\n",
    "https://gutow.github.io/Algebra_with_Sympy/Demonstration%20of%20equation%20class.html\n",
    "Good ideas.\n",
    "eq * 3 as a notation for congruence. \"Do same thing to both sides\"\n",
    "eq1 * eq2 is also a natural thing (?) Maybe less so.\n",
    "e1.subs()\n",
    "\n",
    "I could do this with Calc\n",
    "`eqn =@ a=ln(c/d) how the hell does this work. Ih a preparser. That's cheating. Hmm. But that's interesting also. Jupyter let's you do that?\n",
    "But like  eq1 = x == y\n",
    "c = Calc(vs, x, y)\n",
    "c.eq()\n",
    "c.req()\n",
    "c.cong()\n",
    "c.\n",
    "f @ e1 @ e2 @ eq3  for f(x1,x2,x3) = \n",
    "c = Calc(vs, x)\n",
    "c == step1\n",
    "c == step2\n",
    "c == step3\n",
    "\n",
    "\n",
    "\n",
    "\n",
    "rubi\n",
    "Could I translate rubi to dedukti?\n",
    "\n",
    "https://reference.wolfram.com/language/WolframClientForPython/\n",
    "\n",
    "\n"
   ]
  },
  {
   "cell_type": "code",
   "execution_count": null,
   "metadata": {},
   "outputs": [],
   "source": [
    "# counterexmaples book. Sympy canb't intergate DirichletFun...\n",
    "L1 = [1(x**2 + 1), exp(-x**2), Heaviside, DirichletFun] # aboslutely lebqegue intergrable. shifts, scales\n",
    "L2 = [1/x]\n",
    "Cinf = \n",
    "C =  \n",
    "distritbutions = [Dirac, DiffDirac]\n",
    "\n",
    "\n",
    "# use hypotheiss\n",
    "\n",
    "def l1():\n",
    "    yield from L1\n",
    "\n",
    "@given(l1(), l1())\n",
    "def test_l1(f, g):\n",
    "    assert integrate(f + g) == integrate(f) + integrate(g)\n",
    "\n",
    "\n",
    "smt.Function(\"L1\", RFun, BoolSort())\n",
    "smt.Function(\"IsContinuous\", RFun, BoolSort())\n",
    "smt.Function(\"IsPoly\", RFun, BoolSort())\n",
    "\n",
    "kd.axiom(QForAll([f], IsPoly(f), IsContinous(f)))\n",
    "\n",
    "\n",
    "\n",
    "# maybe just write a list of functions\n"
   ]
  },
  {
   "cell_type": "code",
   "execution_count": 26,
   "metadata": {},
   "outputs": [
    {
     "name": "stdout",
     "output_type": "stream",
     "text": [
      "Wolfram Language 14.0.0 Engine for Linux x86 (64-bit)\n",
      "Copyright 1988-2023 Wolfram Research, Inc.\n",
      "\n",
      "In[1]:= \n",
      "Out[1]= True\n",
      "\n",
      "In[2]:= \n",
      "In[3]:= \n",
      "                                    2              2\n",
      "Out[3]= Integrate[x p[x], {x, a, b}]  - Integrate[x  p[x], {x, a, b}] + \n",
      " \n",
      "                                                 2\n",
      ">    Integrate[(x - Integrate[x p[x], {x, a, b}])  p[x], {x, a, b}]\n",
      "\n",
      "In[4]:= \n",
      "           2\n",
      "Out[4]= E[x ]\n",
      "\n",
      "In[5]:= \n"
     ]
    }
   ],
   "source": [
    "%%script wolframscript\n",
    "PossibleZeroQ[1.0 - 1.0]   (* https://reference.wolfram.com/language/ref/PossibleZeroQ.html *)\n",
    "Expect[e_] := Integrate[e * p[x], {x, a, b}]   (* https://reference.wolfram.com/language/ref/Integrate.html *)\n",
    "FullSimplify[Expect[(x - Expect[x])^2] - (Expect[x^2] - Expect[x]^2)]\n",
    "E[x^2] /. {p -> NormalDistribution[0, 1]} "
   ]
  },
  {
   "cell_type": "code",
   "execution_count": null,
   "metadata": {},
   "outputs": [],
   "source": [
    "import sympy as sp\n",
    "f = sp.Function(\"f\")\n",
    "t = sp.symbols(\"t\")\n",
    "def a(e):\n",
    "    return t*e + e.diff(t)\n",
    "def adag(e):\n",
    "    return t*e - e.diff(t)\n",
    "f(t)\n"
   ]
  },
  {
   "cell_type": "code",
   "execution_count": 33,
   "metadata": {},
   "outputs": [
    {
     "data": {
      "text/latex": [
       "$\\displaystyle y{\\left(t \\right)} \\frac{d}{d t} z{\\left(t \\right)} + z{\\left(t \\right)} \\frac{d}{d t} y{\\left(t \\right)} = 0$"
      ],
      "text/plain": [
       "Eq(y(t)*Derivative(z(t), t) + z(t)*Derivative(y(t), t), 0)"
      ]
     },
     "execution_count": 33,
     "metadata": {},
     "output_type": "execute_result"
    }
   ],
   "source": [
    "import sympy as sp\n",
    "t = sp.symbols(\"t\")\n",
    "y = sp.Function(\"y\")\n",
    "z = sp.Function(\"z\")\n",
    "eq1 = sp.Eq(z(t)*y(t), 1)  # exp and invexp\n",
    "eq2 = sp.Eq(y(t).diff(t),  y(t)) # diff eq\n",
    "eq3 = sp.Eq(y(0) == 1)\n",
    "# eq1.diff() noonsensical? Makes sense to me.\n",
    "sp.Eq(eq1.lhs.diff(t), eq1.rhs.diff(t)) # yes, I think we can derive sq.Eq(z(t).diff(t), -z(t))\n",
    "\n",
    "# How to derive y(t) >= 1, z(t) <= 1  as bounds? Induction?\n",
    "# diff existing implird continuity.\n",
    "# exact taylor bound  y(t) - 1 == f(x)\n",
    "# y(t) - 1 = lam(t)  * t\n",
    "# y' = lam(t) + lam'(t) * t\n",
    "#  \n",
    "# f(t) >= 0 \n",
    "# differnetial sum of squares technqiues? p(x) = ()^2  + ... "
   ]
  },
  {
   "cell_type": "markdown",
   "metadata": {},
   "source": [
    "https://en.wikipedia.org/wiki/Mean_value_theorem\n",
    "http://abesenyei.web.elte.hu/publications/meanvalue.pdf historical development\n",
    "https://en.wikipedia.org/wiki/Darboux%27s_theorem_(analysis)\n",
    "intermediate value property\n",
    "\n",
    "https://ocw.mit.edu/ans7870/resources/Strang/Edited/Calculus/Calculus.pdf strang calculus\n",
    "\n",
    "\n",
    "The sum formula for expoentnation and hence log / sine seem to be nearly algebraic definitions\n",
    "https://math.stackexchange.com/questions/702414/what-is-exponentiation\n",
    "https://math.stackexchange.com/questions/3336/how-many-ways-are-there-to-define-sine-and-cosine\n",
    "https://math.stackexchange.com/questions/63102/how-to-prove-periodicity-of-sinx-or-cosx-starting-from-the-taylor-seri\n",
    "\n",
    "Rationalk exponentiation relation\n",
    "define(\"ratexp\", [x,y,n,m], pow(x,n) == pow(y,m))\n",
    "+ something that says exp is continuous.\n",
    "\n",
    "pow(x,y) * pow(x,z) == pow(x, y + z)\n",
    "pow(pow(x,y), z) == pow(x, y * z)\n",
    "\n",
    "\n",
    "\n",
    "Continuous recursion. How do we dignify our definitions?\n",
    "https://www.sciencedirect.com/science/article/pii/0304397595002480\n",
    "https://www.sciencedirect.com/science/article/pii/S0885064X16300255\n",
    "\n",
    "y(0) = \n",
    "\n",
    "this defines ln by quadrature\n",
    "t * y' = 1 \n",
    "Then exp is inverse/.\n",
    "\n",
    "https://math.stackexchange.com/questions/4202/induction-on-real-numbers\n",
    "https://arxiv.org/abs/1811.00284 First-Order Continuous Induction, and a Logical Study of Real Closed Fields\n",
    "\n",
    "https://en.m.wikipedia.org/wiki/Hahn_series\n",
    "https://en.m.wikipedia.org/wiki/Exponentially_closed_field\n",
    "https://en.m.wikipedia.org/wiki/Transseries https://arxiv.org/abs/0801.4877 transseries for beginners\n",
    "https://en.m.wikipedia.org/wiki/Formal_power_series"
   ]
  },
  {
   "cell_type": "markdown",
   "metadata": {},
   "source": [
    "# Mathematica\n",
    "https://www.wolfram.com/language/elementary-introduction/3rd-ed/\n",
    "\n",
    "https://mathics.org/\n",
    "\n",
    "sympy wolfram bridge. use latex?\n",
    "https://stackoverflow.com/questions/71696397/wolframclient-in-python-how-to-convert-the-output-of-wolframclient-evaluate-int\n",
    "\n",
    "\n",
    "https://reference.wolfram.com/language/ref/FindEquationalProof.html a kb solver right?\n",
    "\n",
    "GreenFRunction https://www.cfm.brown.edu/people/dobrush/am33/Mathematica/ch7/green.html\n",
    "\n",
    "Assuming\n",
    "\n",
    "https://www.axler.net/HFT_Math.html axler harmonic functions\n",
    "\n",
    "\n"
   ]
  },
  {
   "cell_type": "code",
   "execution_count": 10,
   "metadata": {},
   "outputs": [
    {
     "data": {
      "text/plain": [
       "(1, 4, 9, 16, 25)"
      ]
     },
     "execution_count": 10,
     "metadata": {},
     "output_type": "execute_result"
    }
   ],
   "source": [
    "from wolframclient.evaluation import WolframLanguageSession\n",
    "from wolframclient.language import wl, wlexpr\n",
    "import wolframclient\n",
    "session = WolframLanguageSession()\n",
    "session.evaluate(wlexpr('Range[5]'))\n",
    "session.evaluate(wl.MinMax([1, -3, 0, 9, 5]))\n",
    "func_squared = wlexpr('#^2 &')\n",
    "session.evaluate(wl.Map(func_squared, wl.Range(5)))"
   ]
  },
  {
   "cell_type": "code",
   "execution_count": 16,
   "metadata": {},
   "outputs": [],
   "source": [
    "\n",
    "s = session\n",
    "p = s.evaluate\n",
    "s.evaluate(\"{1,2,3,4}\")\n",
    "s.evaluate(\"FullForm[{1,2,3,4}]\")\n",
    "p(\"Counts[{a,a,b,c,c,c}]\") # assoc list\n",
    "p(\"x = 3\")\n",
    "p(\"x := 3 + 1\") # delayed assinement. Hold\n",
    "p(\"foo[x_] := x^2\") # fundef\n",
    "p(\"foo[5]\")\n",
    "p(\"Clear[foo]\") # patterns x_Integer\n",
    "# geometry\n",
    "# sym math\n",
    "# numerical\n"
   ]
  },
  {
   "cell_type": "code",
   "execution_count": 14,
   "metadata": {},
   "outputs": [
    {
     "data": {
      "text/plain": [
       "(x)"
      ]
     },
     "execution_count": 14,
     "metadata": {},
     "output_type": "execute_result"
    }
   ],
   "source": [
    "x = wlexpr('x')\n",
    "x"
   ]
  },
  {
   "cell_type": "code",
   "execution_count": 30,
   "metadata": {},
   "outputs": [
    {
     "data": {
      "text/plain": [
       "Times[2, Global`x]"
      ]
     },
     "execution_count": 30,
     "metadata": {},
     "output_type": "execute_result"
    }
   ],
   "source": [
    "from wolframclient.language import Global\n",
    "x = Global.x\n",
    "session.evaluate(wl.Times(2,2))\n",
    "type(x)\n",
    "wolframclient.language.expression.WLSymbolFactory.__add__ = lambda self, other: wl.Plus(self, other)\n",
    "wolframclient.language.expression.WLSymbolFactory.__mul__ = lambda self, other: wl.Times(self, other)\n",
    "session.evaluate(x + x)\n"
   ]
  },
  {
   "cell_type": "code",
   "execution_count": 18,
   "metadata": {},
   "outputs": [
    {
     "ename": "TypeError",
     "evalue": "unsupported operand type(s) for /: 'int' and 'WLSymbolFactory'",
     "output_type": "error",
     "traceback": [
      "\u001b[0;31m---------------------------------------------------------------------------\u001b[0m",
      "\u001b[0;31mTypeError\u001b[0m                                 Traceback (most recent call last)",
      "Cell \u001b[0;32mIn[18], line 2\u001b[0m\n\u001b[1;32m      1\u001b[0m limit \u001b[38;5;241m=\u001b[39m wlexpr(\u001b[38;5;124m'\u001b[39m\u001b[38;5;124mIntegrate[1/(x^2 + 1), x]\u001b[39m\u001b[38;5;124m'\u001b[39m)\n\u001b[0;32m----> 2\u001b[0m integ \u001b[38;5;241m=\u001b[39m wl\u001b[38;5;241m.\u001b[39mIntegrate(\u001b[38;5;241;43m1\u001b[39;49m\u001b[38;5;241;43m/\u001b[39;49m\u001b[43mGlobal\u001b[49m\u001b[38;5;241;43m.\u001b[39;49m\u001b[43mx\u001b[49m, Global\u001b[38;5;241m.\u001b[39mx)\n\u001b[1;32m      3\u001b[0m session\u001b[38;5;241m.\u001b[39mevaluate(limit)\n",
      "\u001b[0;31mTypeError\u001b[0m: unsupported operand type(s) for /: 'int' and 'WLSymbolFactory'"
     ]
    }
   ],
   "source": [
    "limit = wlexpr('Integrate[1/(x^2 + 1), x]')\n",
    "integ = wl.Integrate(1/Global.x, Global.x)\n",
    "session.evaluate(limit)"
   ]
  },
  {
   "cell_type": "markdown",
   "metadata": {},
   "source": [
    "# Knuckle Calc\n",
    "\n",
    "kncukeldraggin and yonedaifying calculus\n",
    "sin(x) is just a number.\n",
    "\n",
    "This is an expr, a different thing\n",
    "type expr = Sin of expr | X\n",
    "\n",
    "sin1 : R -> R. Yes.\n",
    "\n",
    "yonedaifyied\n",
    "If I have a way to turn a into b, or a path from a to b, then I also have a way to turn any generic a producing machine into a generic b producing machine.\n",
    "Or a b accepting machine into an a accepting machine.\n",
    "a -> b = (c -> a) -> (c -> b) = (b -> c) -> (a -> c)\n",
    "These can also been seen as CPS transformations\n",
    "\n",
    "preapply compose to associate all the way to the rigth\n",
    "sin2 : (a -> R) -> (a -> R)\n",
    "sin2 f = comp sin f\n",
    "x = id = R -> R\n",
    "\n",
    "diff(sin(x)) \n",
    "https://www.philipzucker.com/z3_diff/\n",
    "\n",
    "But this also let's us immiedately talk about calculus on manifolds.\n",
    "\n"
   ]
  },
  {
   "cell_type": "code",
   "execution_count": 31,
   "metadata": {},
   "outputs": [],
   "source": [
    "import knuckledragger as kd\n",
    "from z3 import *\n",
    "\n",
    "# Maybe M doesn't ever need to be instantiated. Its abstract universal manifold we're working in. R is a submanifold, R^2 als, all R^n\n",
    "M = DeclareSort(\"M\") #manifold\n",
    "\n"
   ]
  },
  {
   "cell_type": "code",
   "execution_count": 46,
   "metadata": {},
   "outputs": [],
   "source": [
    "import knuckledragger.notation\n",
    "R = RealSort()\n",
    "RFun = ArraySort(R, R)\n",
    "sin = kd.notation.SortDispatch()\n",
    "sinR = Function(\"sin\", R, R)\n",
    "sin.register(R, sinR)\n",
    "sinRFun = Function(\"sin\", RFun, RFun)\n",
    "sin.register(RFun, sinRFun)\n",
    "x,y,z = Reals('x y z')\n",
    "sin(RealVal(2))\n",
    "sin(Lambda([x], x))\n",
    "\n",
    "f,g,h = Consts(\"f g h\", RFun)\n",
    "addF = kd.define(\"add\", [f,g], Lambda([x], f[x] + g[x]))\n",
    "kd.notation.add.register(RFun, addF)\n",
    "f + g\n",
    "add_comm = kd.lemma(ForAll([f,g], addF(f,g) == addF(g,f)), by=[addF.defn])\n",
    "add_assoc = kd.lemma(ForAll([f,g,h], addF(f, addF(g,h)) == addF(addF(f,g), h)), by=[addF.defn])\n",
    "\n",
    "mulF = kd.define(\"mul\", [f,g], Lambda([x], f[x] * g[x]))\n",
    "kd.notation.mul.register(RFun, mulF)\n",
    "mul_comm = kd.lemma(ForAll([f,g], mulF(f,g) == mulF(g,f)), by=[mulF.defn])\n",
    "mul_assoc = kd.lemma(ForAll([f,g,h], mulF(f, mulF(g,h)) == mulF(mulF(f,g), h)), by=[mulF.defn])\n",
    "\n",
    "diff = Function(\"diff\", RFun, RFun)\n",
    "diff_add = kd.axiom(ForAll([f,g], diff(f + g) == diff(f) + diff(g)))\n",
    "diff_mul = kd.axiom(ForAll([f,g], diff(f * g) == f * diff(g) + g * diff(f)))\n",
    "diff_sin = kd.axiom(ForAll([f], diff(sin(f)) == cos(f)))\n"
   ]
  },
  {
   "cell_type": "code",
   "execution_count": null,
   "metadata": {},
   "outputs": [],
   "source": []
  },
  {
   "cell_type": "markdown",
   "metadata": {},
   "source": [
    "# Misc CAS\n",
    "sympy tactic.\n",
    "mathematica tactic.\n",
    "sympy to mathemtica / maxima / fricas bridge\n",
    "I mean, sage \n",
    "\n",
    "https://community.wolfram.com/groups/-/m/t/1135271  [WSS17] Automated Theorem Proving for Equational Logic knuth bendix gorard\n",
    "\n",
    "\n",
    "metitarski used qepcad?\n",
    "\n",
    "\n",
    "https://github.com/cabralski/awesome-wolfram-language\n",
    "https://github.com/RuleBasedIntegration/Rubi\n",
    "https://github.com/windsteiger/Theorema?tab=readme-ov-file\n",
    "\n",
    "zhan iscalc https://link.springer.com/chapter/10.1007/978-3-031-38499-8_33 https://github.com/bzhan/iscalc\n",
    "\n",
    "Gordon plotkin, decision procedure for partial derivatives https://www.youtube.com/watch?v=j_w6GNUIQDo&ab_channel=AppliedCategoryTheory%40UCR\n",
    "\n",
    "\n",
    "\n",
    "Gruntz algorthm for limits https://cybertester.com/data/gruntz.pdf What about bledsoe hyperreal stuff\n",
    "\n",
    "https://community.wolfram.com/groups/-/m/t/3210285 clustyer / mayer expansion in stat mech. That had a fun feynman diagram thing. There was also some kind of nonlinear fluid diagramattic expansion?\n",
    "\n",
    "## Platzer\n",
    "platzer  https://symbolaris.com/logic/dL.html . Hmm he mentions differential algebra\n",
    "differential invariants, differential cuts, differential ghosts\n",
    "can I \"demodalize\" platzer to a fol over more complex objects? You can for temporal logic.\n",
    "differential KAT\n",
    "dynamicv logic is its own thing https://en.wikipedia.org/wiki/Dynamic_logic_(modal_logic) . DDL adds differentiation. Surely not the only way\n",
    "https://plato.stanford.edu/entries/logic-dynamic/\n",
    "\n",
    "Zach stone. Invariants. eps^2 = 0 ring.\n",
    "darboux\n",
    "\n"
   ]
  },
  {
   "cell_type": "code",
   "execution_count": 7,
   "metadata": {},
   "outputs": [
    {
     "name": "stdout",
     "output_type": "stream",
     "text": [
      "Wolfram Language 14.0.0 Engine for Linux x86 (64-bit)\n",
      "Copyright 1988-2023 Wolfram Research, Inc.\n",
      "\n",
      "In[1]:= \n",
      "In[2]:= \n",
      "Out[2]= Diff[Sin[x], x]\n",
      "\n",
      "In[3]:= \n"
     ]
    }
   ],
   "source": [
    "%%script wolframscript\n",
    "Integrate[1/(x^2 + 1), x];\n",
    "Diff[Sin[x], x]"
   ]
  },
  {
   "cell_type": "markdown",
   "metadata": {},
   "source": [
    "# Polya Gappa"
   ]
  },
  {
   "cell_type": "code",
   "execution_count": null,
   "metadata": {},
   "outputs": [],
   "source": [
    "# polya\n",
    "# blackboard = z3\n",
    "class BlackBoard():\n",
    "    def __init__(self):\n",
    "        self.s = z3.Solver()\n",
    "    def add(self, c):\n",
    "        # dig in, opaquify monomials.\n",
    "    def interval(self, c):\n",
    "        \n",
    "x,y,z = Reals('x y z')\n",
    "(x*y + z <= 0)\n",
    "    \n",
    "\n",
    "\n",
    "\n"
   ]
  },
  {
   "cell_type": "code",
   "execution_count": null,
   "metadata": {},
   "outputs": [],
   "source": [
    "#https://gappa.gitlabpages.inria.fr/gappa/theorems.html#theorems\n",
    "bnd = Function(\"bnd\", R, Interval, Bool) # This is just elem of interpetation.\n",
    "bnd = interp(i)(x)\n",
    "rel = define(\"rel\", [x,y,i], Exists([eps], And(interp(i)(eps), x == y*(1 + eps))\n",
    "flt = define(\"flt\", [x], Real(Real2FP(x)) == x ) \n"
   ]
  },
  {
   "cell_type": "markdown",
   "metadata": {},
   "source": [
    "# Interval\n",
    "\n",
    "Maybe forget intervals and just use Sets (with explicit convex hull op when needed)\n"
   ]
  },
  {
   "cell_type": "code",
   "execution_count": 48,
   "metadata": {},
   "outputs": [],
   "source": [
    "import knuckledragger as kd\n",
    "import knuckledragger.notation as notation\n",
    "from knuckledragger.theories.Real import *\n",
    "#from knuckledragger.theories.Bool import *\n",
    "from z3 import *\n",
    "B = BoolSort()\n",
    "RSet = R >> B\n",
    "\n",
    "Interval = Datatype(\"Interval\")\n",
    "Interval.declare(\"mk\", (\"lo\", R), (\"hi\", R))\n",
    "Interval = Interval.create()\n",
    "\n",
    "x,y,z = Reals(\"x y z\")\n",
    "i,j,k = Consts(\"i j k\", Interval)\n",
    "\n",
    "# Ok so i could do a SortDisopatch on DatatypeRef overload.\n",
    "DatatypeRef.hi = property(lambda self: Interval.hi(self))\n",
    "DatatypeRef.lo = property(lambda self: Interval.lo(self))"
   ]
  },
  {
   "cell_type": "code",
   "execution_count": 50,
   "metadata": {},
   "outputs": [],
   "source": [
    "max = kd.define(\"max\", [x,y], If(x <= y, y, x))\n",
    "min = kd.define(\"min\", [x,y], If(x <= y, x, y))\n",
    "abs = kd.define(\"abs\", [x], If(x <= 0, -x, x))\n",
    "\n",
    "min_comm = kd.lemma(ForAll([x,y], min(x,y) == min(y,x)), by=[min.defn])\n",
    "min_assoc = kd.lemma(ForAll([x,y,z], min(x,min(y,z)) == min(min(x,y),z)), by=[min.defn])\n",
    "\n",
    "abs_max = kd.lemma(ForAll([x], abs(x) == max(x,-x)), by=[abs.defn, max.defn])\n"
   ]
  },
  {
   "cell_type": "code",
   "execution_count": 54,
   "metadata": {},
   "outputs": [],
   "source": [
    "setof = kd.define(\"setof\", [i], Lambda([x], And(i.lo <= x, x <= i.hi)))\n",
    "meet = kd.define(\"meet\", [i,j], Interval.mk(max(i.lo, j.lo), min(i.hi, j.hi)))\n",
    "meet_intersect = kd.lemma(ForAll([i,j], \n",
    "                           SetIntersect(setof(i), setof(j)) == \n",
    "                           setof(meet(i,j))), \n",
    "                                by=[setof.defn, meet.defn, min.defn, max.defn])\n",
    "join = kd.define(\"join\", [i,j], Interval.mk(min(i.lo, j.lo), max(i.hi, j.hi)))\n",
    "join_union = kd.lemma(ForAll([i,j], \n",
    "                    IsSubset(SetUnion(setof(i), setof(j)), setof(join(i,j)))),\n",
    "                          by=[join.defn, setof.defn, min.defn, max.defn])"
   ]
  },
  {
   "cell_type": "code",
   "execution_count": null,
   "metadata": {},
   "outputs": [],
   "source": [
    "def hammer(thm):\n",
    "    pass"
   ]
  },
  {
   "cell_type": "markdown",
   "metadata": {},
   "source": [
    "## A somewhat insane pile of links and references.\n",
    "\n",
    "\n",
    "One of my favorite haskell gems\n",
    "https://www.cs.dartmouth.edu/~doug/powser.html power serious https://www.cambridge.org/core/journals/journal-of-functional-programming/article/power-series-power-serious/19863F4EAACC33E1E01DE2A2114EC7DF\n",
    "\n",
    "Gordon plotkin, decision procedure for partial derivatives https://www.youtube.com/watch?v=j_w6GNUIQDo&ab_channel=AppliedCategoryTheory%40UCR\n",
    "\n",
    "Marshall https://github.com/andrejbauer/marshall  https://dl.acm.org/doi/pdf/10.1145/3341703 MarshallB . Awesome exact real system. Based around a principle that refining reals don't have equality. So the language has a more pirmitve thing than Bools, the sierpinski truth value (a stream that eventually ends in Unit).\n",
    "\n",
    "https://codac.io/  Interval tubes for robotics\n",
    "\n",
    "https://citeseerx.ist.psu.edu/document?repid=rep1&type=pdf&doi=70050293723ef74d0747323be1cd06eabe5ebbc5 Bledsoe Non Resolution theorem proving\n",
    "https://www.semanticscholar.org/paper/Automatic-Proofs-of-Theorems-in-Analysis-Using-Bledsoe-Ballantyne/fb2272d41baa899b44cc58ff40a7f1db9b767d33  \n",
    "Automatic Proofs of Theorems in Analysis Using Nonstandard Techniques\n",
    "<https://www.cs.utexas.edu/ftp/techreports/atp71.pdf> [3] W. W. Bledsoe. Some automatic proofs in analysis.\n",
    "\n",
    "<https://www.sciencedirect.com/science/article/abs/pii/0004370272900410> computer assisted limit theorems 9172 bledsoe\n",
    "\n",
    "<https://link.springer.com/article/10.1023/A:1005843328643>  The Heine–Borel Challenge Problem. In Honor of Woody Bledsoe\n",
    "\n",
    "Bledsoe, W.: Challenge problems in elementary analysis, Journal of Automated Reasoning 6 (1990),\n",
    "\n",
    "Bledsoe, W. W.: Heine–Borel Theorem Analogy Example, Technical Report Memo ATP 124, University of Texas Computer Science Dept., Austin, TX, 1994.\n",
    "\n",
    "<https://citeseerx.ist.psu.edu/document?repid=rep1&type=pdf&doi=70050293723ef74d0747323be1cd06eabe5ebbc5> Non resolution theorem proving\n",
    "\n",
    "Ballantyne, M. and Bennett, W., Graphing methods for topological proofs, The University of\n",
    "Texas at Austin Math. Dept. Memo ATP-7 (1973).\n",
    "\n",
    "5. Ballantyne, A. M. and Bledsoe, W. W., Automatic proofs of theorems in analysis using nonstandard techniques, The University of Texas at Austin Math. Dept. Memo ATP-23 (July\n",
    "1975); J. ACM, to appear, July 1977. -\n",
    "\n",
    "A. Michael Ballantyne: The Metatheorist: Automatic Proofs of Theorems in Analysis Using Non-Standard Techniques, Part II.\n",
    "\n",
    "\n",
    "\n",
    "https://www.inf.ed.ac.uk/publications/online/0178.pdf some paper I just found\n",
    "\n",
    "Survey of analysis\n",
    "https://www.lri.fr/~melquion/doc/14-mscs.pdf\n",
    "\n",
    "Isabelle Hyperreals https://isabelle.in.tum.de/library/HOL/HOL-Nonstandard_Analysis/Hyperreal.html\n",
    "https://www.cl.cam.ac.uk/~lp15/papers/Isabelle/fleuriot-princip-CADE.pdf hyperreals applied to newton\n",
    "\n",
    "\n",
    "https://www.researchgate.net/publication/220532005_Nonstandard_analysis_in_ACL2 Gamboa thesis Hyperreals in ACL2 acl2(r). There's also a chapter in Applications of ACL2 book. Some follow up works. I saw someone\n",
    "https://www.youtube.com/watch?v=U-y8UNccnIw&t=909s&ab_channel=Galois max von hippel is using acl2(r)\n",
    "\n",
    "Interval Analysis - Moore  http://www-sbras.nsc.ru/interval/Library/InteBooks/IntroIntervAn.pdf\n",
    "\n",
    "https://cvc4.github.io/publications/2017/RB17.pdf CVC4 codatatype theory. Gone in CVC5? Maybe useful for infinite polynomial streams\n",
    "\n",
    "Computational Functional Analysis - https://www.amazon.com/Computational-Functional-Analysis-Mathematics-Applications/dp/1904275249\n",
    "\n",
    "Real Analysis a Constructive Approach https://www.amazon.com/Real-Analysis-Constructive-Mark-Bridger/dp/0471792306\n",
    "\n",
    "Validated Numerics\n",
    "https://www.amazon.com/Validated-Numerics-Introduction-Rigorous-Computations/dp/0691147817\n",
    "https://github.com/JuliaIntervals/ValidatedNumerics.jl\n",
    "https://fredrikj.net/calcium/ https://dl.acm.org/doi/abs/10.1145/3452143.3465513"
   ]
  }
 ],
 "metadata": {
  "kernelspec": {
   "display_name": "Python 3",
   "language": "python",
   "name": "python3"
  },
  "language_info": {
   "codemirror_mode": {
    "name": "ipython",
    "version": 3
   },
   "file_extension": ".py",
   "mimetype": "text/x-python",
   "name": "python",
   "nbconvert_exporter": "python",
   "pygments_lexer": "ipython3",
   "version": "3.10.12"
  }
 },
 "nbformat": 4,
 "nbformat_minor": 2
}
