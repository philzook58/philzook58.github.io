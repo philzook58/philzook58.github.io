{
 "cells": [
  {
   "cell_type": "markdown",
   "metadata": {},
   "source": [
    "adjoint logic\n",
    "\n",
    "modal type theory?\n",
    "\n",
    "https://www.cs.cmu.edu/~fp/papers/adjoint18b.pdf\n",
    "\n",
    "https://www.cs.cmu.edu/~fp/courses/15836-f23//lectures/11-adjoint.pdf\n",
    "\n",
    "jason reed https://www.cs.cmu.edu/~jcreed/papers/jdml2.pdf  A Judgmental Deconstruction of Modal Logic\n",
    "\n",
    "Benton 1994 - mixed linear and nonlinear logic. LNL\n",
    "\n",
    "\n",
    "\n",
    "\n",
    "Hmm. Crazy talk; Non monotonic C-rep. worlds have ranking. Modes have ranking? C-rep Kind of had a kripke model.\n",
    "A judgemental reconstruction of nonomonotic logic\n",
    "\n",
    "\n",
    "linear logic. Could I shallow embed a \"good\" model of linear logic? Resource semantics?\n",
    "C* algerba semantics...?\n",
    "\n"
   ]
  }
 ],
 "metadata": {
  "language_info": {
   "name": "python"
  }
 },
 "nbformat": 4,
 "nbformat_minor": 2
}
