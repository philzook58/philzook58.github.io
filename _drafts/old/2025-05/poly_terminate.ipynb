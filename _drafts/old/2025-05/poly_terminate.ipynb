{
 "cells": [
  {
   "cell_type": "markdown",
   "metadata": {},
   "source": [
    "https://drops.dagstuhl.de/storage/00lipics/lipics-vol228-fscd2022/LIPIcs.FSCD.2022.27/LIPIcs.FSCD.2022.27.pdf\n",
    "\n",
    "0 + y → y \n",
    "s(x) + y → s(x + y) \n",
    "0 × y → 0 \n",
    "s(x) × y → (x × y) + y\n",
    "\n",
    "0N = 0 \n",
    "s(x) = x + 2 \n",
    "+(x, y) = x + y + 2 \n",
    "×(x, y) = xy + 2x + 2y + 2\n",
    "\n",
    "http://cl-informatik.uibk.ac.at/users/thiemann/paper/SAT07Polo.pdf  SAT Solving for Termination Analysis with\n",
    "Polynomial Interpretations?\n",
    "\n",
    "use pysat?\n",
    "\n",
    "examples from traat\n",
    "\n",
    "Can cegis it. Maybe enumerate 0-5 possible values to start.\n",
    "Or we could have some conservative prunings.\n",
    "\n",
    "desrhowitz termination examples https://www.cs.tau.ac.il//~nachum/papers/printemp-print.pdf\n",
    "\n",
    " https://github.com/deividrvale/fo-termlib-python\n",
    "https://github.com/hezzel/wanda https://github.com/hezzel/cora\n",
    "https://smt-workshop.cs.uiowa.edu/2016/slides/fuhs.pdf SMT Techniques and Solvers in Automated Termination Analysis - Carsten Fuhs\n"
   ]
  },
  {
   "cell_type": "markdown",
   "metadata": {},
   "source": []
  },
  {
   "cell_type": "code",
   "execution_count": null,
   "metadata": {},
   "outputs": [],
   "source": [
    "def poly_interp(vs, e, env):\n",
    "    if any(v.eq(e) for v in vs):\n",
    "        return smt.Int(v.decl().name())\n",
    "    else:\n",
    "        decl = e.decl()\n",
    "        children = [poly_interp(vs, c, env) for c in e.children()]\n",
    "        if decl in env:\n",
    "            return env[decl](*children)\n",
    "        else:\n",
    "            c0 = smt.FreshConst(smt.IntSort(), prefix=decl.name())\n",
    "            lincoeff = [smt.FreshConst(smt.IntSort(), prefix=decl.name()) for _ in range(len(children))]\n",
    "            env[decl] = lambda *args: c0 + sum(a*b for a, b in zip(lincoeff, args))\n",
    "            return env[decl](*children)\n",
    "\n",
    "def orient(vs, lhs, rhs):\n",
    "    return smt.ForAll(vs, poly_interp(lhs) > poly_interp(rhs))\n",
    "\n",
    "\n",
    "\n",
    "s = smt.Solver()\n",
    "for vs, lhs, rhs in rules:\n",
    "    s.add(smt.Or(orient(vs, lhs, rhs), orient(vs, rhs, lhs)))\n",
    "\n",
    "@functools.cache\n",
    "def interp_decl(f : smt.FuncDeclRef, n):\n",
    "\n",
    "def args(prefix, n):\n",
    "    return [smt.Int(prefix + str(i)) for i in range(n)]\n",
    "\n",
    "n = f.arity()\n",
    "xs = args(n)\n",
    "xs = args(\"x\", n)\n",
    "ys = args(\"y\", n)\n",
    "smt.ForAll(xs, x < y, interp_decl(f)(*xs) > interp_decl(f)(*ys))\n",
    "\n",
    "\n",
    "\n",
    "\n",
    "\n",
    "\n"
   ]
  },
  {
   "cell_type": "code",
   "execution_count": 3,
   "metadata": {},
   "outputs": [],
   "source": [
    "from z3 import *\n",
    "N = IntSort()\n",
    "zero = Function(\"zero\", N)\n",
    "succ = Function(\"succ\", N, N)\n",
    "add = Function(\"add\", N, N, N)\n",
    "mul = Function(\"mul\", N, N, N)\n",
    "x,y,z = Ints('x y z')\n",
    "\n",
    "rules = [\n",
    "    (add(zero(), y), y),\n",
    "    (add(succ(x), y), succ(add(x, y))),\n",
    "    (mul(zero(), y), zero()),\n",
    "    (mul(succ(x), y), add(mul(x, y), y))\n",
    "]\n",
    "\n",
    "interp = [\n",
    "    zero() == 0,\n",
    "    ForAll([x], succ(x) == x + 2),\n",
    "    ForAll([x,y], add(x,y) == x + y + 2),\n",
    "    ForAll([x,y], mul(x,y) == x * y + 2*x + 2*y + 2)\n",
    "]\n"
   ]
  },
  {
   "cell_type": "code",
   "execution_count": 7,
   "metadata": {},
   "outputs": [
    {
     "name": "stdout",
     "output_type": "stream",
     "text": [
      "add(succ(x), y) succ(add(x, y))\n",
      "[zero = 0,\n",
      " x = 8365,\n",
      " y = 0,\n",
      " add = [(8367, 0) -> 8369,\n",
      "        (8365, 0) -> 8367,\n",
      "        else -> 2 + Var(1) + Var(0)],\n",
      " mul = [else -> 2 + 2*Var(1) + 2*Var(0) + Var(0)*Var(1)],\n",
      " succ = [8365 -> 8367, 8367 -> 8369, else -> 2 + Var(0)]]\n"
     ]
    }
   ],
   "source": [
    "s = Solver()\n",
    "s.add(y >= 0)\n",
    "s.add(x >= 0)\n",
    "for i in interp:\n",
    "    s.add(i)\n",
    "for lhs,rhs in rules:\n",
    "    s.push()\n",
    "    #s.prove(lhs > rhs)\n",
    "    s.add(Not(lhs > rhs))\n",
    "    if s.check() == sat:\n",
    "        print(lhs,rhs)\n",
    "        print(s.model())\n",
    "    s.pop()"
   ]
  },
  {
   "cell_type": "markdown",
   "metadata": {},
   "source": [
    "interp2\n",
    "s(x) = x + 1 \n",
    "+(x, y) = 2x + y"
   ]
  },
  {
   "cell_type": "code",
   "execution_count": 8,
   "metadata": {},
   "outputs": [
    {
     "name": "stdout",
     "output_type": "stream",
     "text": [
      "add(zero, y) y\n",
      "[zero = 0,\n",
      " x = 0,\n",
      " y = 0,\n",
      " add = [(0, 0) -> 0, else -> Var(1) + 2*Var(0)],\n",
      " succ = [else -> 1 + Var(0)]]\n",
      "mul(zero, y) zero\n",
      "[zero = 10450,\n",
      " x = 0,\n",
      " y = 0,\n",
      " mul = [else -> 0],\n",
      " add = [else -> Var(1) + 2*Var(0)],\n",
      " succ = [else -> 1 + Var(0)]]\n",
      "mul(succ(x), y) add(mul(x, y), y)\n",
      "[x = 1142,\n",
      " y = 562,\n",
      " mul = [(1143, 562) -> 0, else -> -281],\n",
      " add = [(-281, 562) -> 0, else -> Var(1) + 2*Var(0)],\n",
      " succ = [1142 -> 1143, else -> 1 + Var(0)]]\n"
     ]
    }
   ],
   "source": [
    "interp2 = [\n",
    "    ForAll([x], succ(x) == x + 1),\n",
    "    ForAll([x,y], add(x,y) == 2*x + y),\n",
    "]\n",
    "\n",
    "s = Solver()\n",
    "s.add(y >= 0)\n",
    "s.add(x >= 0)\n",
    "for i in interp2:\n",
    "    s.add(i)\n",
    "for lhs,rhs in rules:\n",
    "    s.push()\n",
    "    #s.prove(lhs > rhs)\n",
    "    s.add(Not(lhs > rhs))\n",
    "    if s.check() == sat:\n",
    "        print(lhs,rhs)\n",
    "        print(s.model())\n",
    "    s.pop()"
   ]
  }
 ],
 "metadata": {
  "kernelspec": {
   "display_name": "Python 3",
   "language": "python",
   "name": "python3"
  },
  "language_info": {
   "codemirror_mode": {
    "name": "ipython",
    "version": 3
   },
   "file_extension": ".py",
   "mimetype": "text/x-python",
   "name": "python",
   "nbconvert_exporter": "python",
   "pygments_lexer": "ipython3",
   "version": "3.10.12"
  }
 },
 "nbformat": 4,
 "nbformat_minor": 2
}
