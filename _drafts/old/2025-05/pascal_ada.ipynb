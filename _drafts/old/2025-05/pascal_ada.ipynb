{
 "cells": [
  {
   "cell_type": "markdown",
   "metadata": {},
   "source": [
    "https://www.freepascal.org/download.html\n",
    "\n",
    "https://www.code.sd/startprog/index.html\n",
    "\n",
    "https://news.ycombinator.com/item?id=36054416  Let's Build a Compiler (1988) \n",
    "https://compilers.iecc.com/crenshaw/\n",
    "\n"
   ]
  },
  {
   "cell_type": "code",
   "execution_count": 9,
   "metadata": {},
   "outputs": [
    {
     "name": "stdout",
     "output_type": "stream",
     "text": [
      "Overwriting /tmp/hello.pas\n"
     ]
    }
   ],
   "source": [
    "%%file /tmp/hello.pas\n",
    "\n",
    "program HelloWorld;\n",
    "uses crt;\n",
    "\n",
    "(* Here the main program block starts *)\n",
    "begin\n",
    "   writeln('Hello, World!');\n",
    "   //readkey;\n",
    "end."
   ]
  },
  {
   "cell_type": "code",
   "execution_count": 10,
   "metadata": {},
   "outputs": [
    {
     "name": "stdout",
     "output_type": "stream",
     "text": [
      "Free Pascal Compiler version 3.2.2+dfsg-32 [2024/01/05] for x86_64\n",
      "Copyright (c) 1993-2021 by Florian Klaempfl and others\n",
      "Target OS: Linux for x86-64\n",
      "Compiling /tmp/hello.pas\n",
      "Linking /tmp/hello\n",
      "9 lines compiled, 0.1 sec\n",
      "\u001b[6n\u001b[H\u001b[mHello, World!\n"
     ]
    }
   ],
   "source": [
    "! fpc -FE/tmp/ /tmp/hello.pas  && /tmp/hello"
   ]
  },
  {
   "cell_type": "markdown",
   "metadata": {},
   "source": [
    "# Oberon\n",
    "https://oberon.org/en\n",
    "https://ecs.openbrace.org/manual/manualch7.html#x36-2870007 eigen has an oberon\n"
   ]
  },
  {
   "cell_type": "markdown",
   "metadata": {},
   "source": [
    "# Ada\n",
    "\n",
    "Spark\n",
    "CBMC gnat \n",
    "https://github.com/diffblue/gnat2goto\n",
    "\n",
    "https://docs.adacore.com/spark2014-docs/html/ug/index.html\n",
    "\n",
    "\n",
    "https://docs.adacore.com/gnat_ugn-docs/html/gnat_ugn/gnat_ugn.html\n",
    "\n",
    "`sudo apt install gnat`"
   ]
  },
  {
   "cell_type": "code",
   "execution_count": 1,
   "metadata": {},
   "outputs": [
    {
     "name": "stdout",
     "output_type": "stream",
     "text": [
      "Writing /tmp/hello.adb\n"
     ]
    }
   ],
   "source": [
    "%%file /tmp/hello.adb\n",
    "with Ada.Text_IO; use Ada.Text_IO;\n",
    "procedure Hello is\n",
    "begin\n",
    "   Put_Line (\"Hello WORLD!\");\n",
    "end Hello;"
   ]
  },
  {
   "cell_type": "code",
   "execution_count": 7,
   "metadata": {},
   "outputs": [
    {
     "name": "stdout",
     "output_type": "stream",
     "text": [
      "gnatbind: Cannot find: hello.o.ali\n"
     ]
    }
   ],
   "source": [
    "! cd /tmp && gcc -c /tmp/hello.adb -o /tmp/hello.o && gnatbind /tmp/hello.o && gnatlink /tmp/hello.ali -o /tmp/hello && /tmp/hello"
   ]
  }
 ],
 "metadata": {
  "kernelspec": {
   "display_name": "philzook58.github.io",
   "language": "python",
   "name": "python3"
  },
  "language_info": {
   "codemirror_mode": {
    "name": "ipython",
    "version": 3
   },
   "file_extension": ".py",
   "mimetype": "text/x-python",
   "name": "python",
   "nbconvert_exporter": "python",
   "pygments_lexer": "ipython3",
   "version": "3.12.3"
  }
 },
 "nbformat": 4,
 "nbformat_minor": 2
}
