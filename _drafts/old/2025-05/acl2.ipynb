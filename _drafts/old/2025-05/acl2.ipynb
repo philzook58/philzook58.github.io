{
 "cells": [
  {
   "cell_type": "markdown",
   "metadata": {},
   "source": [
    "https://github.com/acl2/acl2/tree/master/books/projects/x86isa x86\n",
    "\n",
    "https://github.com/acl2/acl2/tree/master/books/centaur centaru books. four valued logic. hardware description\n",
    "\n"
   ]
  }
 ],
 "metadata": {
  "language_info": {
   "name": "python"
  }
 },
 "nbformat": 4,
 "nbformat_minor": 2
}
