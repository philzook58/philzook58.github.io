{
 "cells": [
  {
   "cell_type": "markdown",
   "metadata": {},
   "source": [
    "https://www.freepascal.org/download.html\n",
    "\n",
    "https://www.code.sd/startprog/index.html"
   ]
  },
  {
   "cell_type": "code",
   "execution_count": 9,
   "metadata": {},
   "outputs": [
    {
     "name": "stdout",
     "output_type": "stream",
     "text": [
      "Overwriting /tmp/hello.pas\n"
     ]
    }
   ],
   "source": [
    "%%file /tmp/hello.pas\n",
    "\n",
    "program HelloWorld;\n",
    "uses crt;\n",
    "\n",
    "(* Here the main program block starts *)\n",
    "begin\n",
    "   writeln('Hello, World!');\n",
    "   //readkey;\n",
    "end."
   ]
  },
  {
   "cell_type": "code",
   "execution_count": 10,
   "metadata": {},
   "outputs": [
    {
     "name": "stdout",
     "output_type": "stream",
     "text": [
      "Free Pascal Compiler version 3.2.2+dfsg-32 [2024/01/05] for x86_64\n",
      "Copyright (c) 1993-2021 by Florian Klaempfl and others\n",
      "Target OS: Linux for x86-64\n",
      "Compiling /tmp/hello.pas\n",
      "Linking /tmp/hello\n",
      "9 lines compiled, 0.1 sec\n",
      "\u001b[6n\u001b[H\u001b[mHello, World!\n"
     ]
    }
   ],
   "source": [
    "! fpc -FE/tmp/ /tmp/hello.pas  && /tmp/hello"
   ]
  }
 ],
 "metadata": {
  "kernelspec": {
   "display_name": ".venv",
   "language": "python",
   "name": "python3"
  },
  "language_info": {
   "codemirror_mode": {
    "name": "ipython",
    "version": 3
   },
   "file_extension": ".py",
   "mimetype": "text/x-python",
   "name": "python",
   "nbconvert_exporter": "python",
   "pygments_lexer": "ipython3",
   "version": "3.12.3"
  }
 },
 "nbformat": 4,
 "nbformat_minor": 2
}
