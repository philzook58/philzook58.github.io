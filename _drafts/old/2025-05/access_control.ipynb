{
 "cells": [
  {
   "cell_type": "markdown",
   "metadata": {},
   "source": [
    "\n",
    "bell la padulA \n",
    "\n",
    "authentication logic\n",
    "Oso\n",
    "Polar\n",
    "\n",
    "Infer from data the rules? Ben's problem\n",
    "\n",
    "\n"
   ]
  },
  {
   "cell_type": "markdown",
   "metadata": {},
   "source": [
    "https://aws.amazon.com/blogs/opensource/lean-into-verified-software-development/ cedar \n",
    "\n",
    "https://www.amazon.science/blog/custom-policy-checks-help-democratize-automated-reasoning zelkova. IAM access \n",
    "\n"
   ]
  }
 ],
 "metadata": {
  "language_info": {
   "name": "python"
  }
 },
 "nbformat": 4,
 "nbformat_minor": 2
}
