{
 "cells": [
  {
   "cell_type": "markdown",
   "metadata": {},
   "source": [
    "# query planning\n",
    "\n",
    "https://arxiv.org/pdf/2502.15181 Debunking the Myth of Join Ordering: Toward Robust SQL Analytics\n",
    "Yannakakis algorithm\n",
    "\n",
    "Cardinality estimation. Yeah, optimization can only be as good as the model.\n",
    "\n",
    "Query planning is interesting. Closer to a stiraghtforward algebraic problem compared to other things.\n",
    "Max says maybe that's the thing to attack\n",
    "risinglight\n",
    "\n",
    "sqlite algorithm\n",
    "\n",
    "sideways information passing. I've seen this in datalog literature too\n"
   ]
  }
 ],
 "metadata": {
  "language_info": {
   "name": "python"
  }
 },
 "nbformat": 4,
 "nbformat_minor": 2
}
