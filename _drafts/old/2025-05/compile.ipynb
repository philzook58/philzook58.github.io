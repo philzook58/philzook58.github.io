{
 "cells": [
  {
   "cell_type": "markdown",
   "metadata": {},
   "source": [
    "# C print\n",
    "ArraySort(BitVecSort(), t)\n",
    "Records\n",
    "Enums\n",
    "Tagged unions\n",
    "\n",
    "Recrusive tagged unions are the thing that kind of needs something extra.\n",
    "\n",
    "Pretty printing to rust might be nice. Could use Rc.\n",
    "Could use python.h objects?\n",
    "\n",
    "must_tail\n",
    "fbip?\n",
    "\n",
    "\n",
    "pretty print lean?\n",
    "ocaml?\n",
    "guile?\n",
    "julia?\n",
    "\n",
    "\n",
    "Could do a dag compression. But why bother? C compiler will do it for me. Just is more complex.\n",
    "\n",
    "Tricks from pcode2c? special constants.\n",
    "including gmp\n",
    "\n",
    "include a gc, or just malloc and never free?\n",
    "\n",
    "I could thread a state object?\n",
    "Some special IO monad\n",
    "\n",
    "\n",
    "You know, honestly a big struct is easier to deal with than an array.\n",
    "\n"
   ]
  },
  {
   "cell_type": "code",
   "execution_count": 2,
   "metadata": {},
   "outputs": [
    {
     "name": "stdout",
     "output_type": "stream",
     "text": [
      "#include <stdint.h>\n",
      "#include <stdbool.h>\n",
      "uint64_t foo(uint64_t x, uint64_t y){\n",
      "    return ((((x + (x * y)) + 0b1) > x) ? x : y);\n",
      "}\n",
      "\n"
     ]
    }
   ],
   "source": [
    "from kdrag.all import *\n",
    "def finsize(s : smt.SortRef):\n",
    "    if isinstance(s, smt.BitVecSortRef):\n",
    "        return True\n",
    "def ctype_of_sort(s : smt.SortRef):\n",
    "    if s == smt.BoolSort():\n",
    "        return \"bool\"\n",
    "    if isinstance(s, smt.BitVecSortRef):\n",
    "        if s.size() in [8, 16, 32, 64]:\n",
    "            return f\"uint{s.size()}_t\"\n",
    "        else:\n",
    "            raise NotImplementedError(\"No support for arbitrary C int sizes\", s.size())\n",
    "    else:\n",
    "        raise NotImplementedError(f\"Cannot convert {s} to C type\")\n",
    "\n",
    "import re\n",
    "\n",
    "# Regex pattern for valid C identifiers\n",
    "c_identifier_regex = r\"^[A-Za-z_][A-Za-z0-9_]*$\"\n",
    "\n",
    "# Function to check if a given string is a valid C identifier\n",
    "def is_valid_c_identifier(identifier: str) -> bool:\n",
    "    return bool(re.match(c_identifier_regex, identifier))\n",
    "\n",
    "# List of C keywords (C11 standard)\n",
    "c_keywords = {\n",
    "    \"auto\", \"break\", \"case\", \"char\", \"const\", \"continue\", \"default\", \"do\",\n",
    "    \"double\", \"else\", \"enum\", \"extern\", \"float\", \"for\", \"goto\", \"if\",\n",
    "    \"inline\", \"int\", \"long\", \"register\", \"restrict\", \"return\", \"short\",\n",
    "    \"signed\", \"sizeof\", \"static\", \"struct\", \"switch\", \"typedef\", \"union\",\n",
    "    \"unsigned\", \"void\", \"volatile\", \"while\", \"_Alignas\", \"_Alignof\",\n",
    "    \"_Atomic\", \"_Bool\", \"_Complex\", \"_Generic\", \"_Imaginary\", \"_Noreturn\",\n",
    "    \"_Static_assert\", \"_Thread_local\"\n",
    "}\n",
    "\n",
    "# Function to check valid C identifier considering keywords\n",
    "def is_valid_c_identifier_strict(identifier: str) -> bool:\n",
    "    return is_valid_c_identifier(identifier) and identifier not in c_keywords\n",
    "\n",
    "\n",
    "\n",
    "binops = {\n",
    "    \"bvadd\": \"+\",\n",
    "    \"bvsub\": \"-\",\n",
    "    \"bvmul\": \"*\",\n",
    "}\n",
    "\n",
    "comp = {\n",
    "    \"bvuge\": \">=\",\n",
    "    \"bvult\": \"<\",\n",
    "    \"bvule\": \"<=\",\n",
    "    \"bvugt\": \">\",\n",
    "}\n",
    "\n",
    "def c_of_expr(ctx : list[smt.ExprRef], sig : list[smt.FuncDeclRef], e : smt.ExprRef) -> str:\n",
    "    ctype_of_sort(e.sort()) # check sort is supported\n",
    "    if any(e.eq(c) for c in ctx):\n",
    "        assert is_valid_c_identifier_strict(e.decl().name())\n",
    "        return e.decl().name()\n",
    "    elif smt.is_app(e):\n",
    "        decl = e.decl()\n",
    "        decl_name = decl.name()\n",
    "        children = [c_of_expr(ctx, sig, c) for c in e.children()]\n",
    "        assert all(isinstance(c, str) for c in children)\n",
    "        nargs = len(children)\n",
    "        if e.decl() in sig:\n",
    "            assert is_valid_c_identifier_strict(e.decl().name())\n",
    "            return f\"{e.decl().name()}({\", \".join(children)})\"\n",
    "        elif smt.is_if(e):\n",
    "            return f\"({children[0]} ? {children[1]} : {children[2]})\"\n",
    "        elif isinstance(e, smt.BoolRef):\n",
    "            if smt.is_true(e):\n",
    "                return \"true\"\n",
    "            elif smt.is_false(e):\n",
    "                return \"false\"\n",
    "            elif smt.is_and(e):\n",
    "                return f\"({' && '.join(children)})\"\n",
    "            elif smt.is_or(e):\n",
    "                return f\"({' || '.join(children)})\"\n",
    "            elif smt.is_not(e):\n",
    "                assert nargs == 1\n",
    "                return f\"(!{c_of_expr(ctx, children[0])})\"\n",
    "            elif decl_name in comp:\n",
    "                assert nargs == 2\n",
    "                return f\"({children[0]} {comp[decl_name]} {c_of_expr(ctx, sig, e.children()[1])})\"\n",
    "            elif decl_name in [\"bvsge\", \"bvslt\", \"bvsle\", \"bvsgt\"]:\n",
    "                raise NotImplementedError(\"Signed comparison not supported\")\n",
    "            else:\n",
    "                raise NotImplementedError(\"Unsupported boolean expression\", e)\n",
    "        elif isinstance(e, smt.BitVecRef):\n",
    "            if smt.is_bv_value(e):\n",
    "                return \"0b\" + e.as_binary_string()\n",
    "            elif nargs == 1:\n",
    "                if decl_name == \"bvnot\":\n",
    "                    return f\"(~{children[0]})\"\n",
    "                elif decl_name == \"bvneg\":\n",
    "                    return f\"(-{children[0]})\"\n",
    "                else:\n",
    "                    raise NotImplementedError(f\"Unsupported unary operation: {decl_name}\")\n",
    "            if nargs == 2:\n",
    "                op = binops.get(decl_name)\n",
    "                if op is not None:\n",
    "                    return f\"({children[0]} {op} {children[1]})\"\n",
    "                elif decl_name in [\"|\", \"&\", \"^\"]:\n",
    "                    return f\"({children[0]} {decl_name} {children[1]})\"\n",
    "                else:\n",
    "                    raise NotImplementedError(f\"Unsupported binary operation: {decl_name}\")\n",
    "            else:\n",
    "                raise NotImplementedError(f\"Unsupported bitvector operation with {nargs} arguments: {decl_name}\")\n",
    "        else:\n",
    "            raise NotImplementedError(f\"Unsupported expression type: {e}\")\n",
    "        # TODO: floats\n",
    "    else:\n",
    "        raise NotImplementedError(f\"Unsupported expression type: {e}\")\n",
    "\n",
    "\n",
    "def cstring(name, args, body):\n",
    "    assert is_valid_c_identifier_strict(name)\n",
    "    assert all(is_valid_c_identifier_strict(arg.decl().name()) for arg in args)\n",
    "    assert all(smt.is_const(arg) for arg in args)\n",
    "    decl = smt.Function(\"name\", *([arg.sort() for arg in args] + [body.sort()]))\n",
    "    return f\"\"\"\\\n",
    "#include <stdint.h>\n",
    "#include <stdbool.h>\n",
    "{ctype_of_sort(body.sort())} {name}({', '.join([f\"{ctype_of_sort(arg.sort())} {arg.decl().name()}\" for arg in args])}){{\n",
    "    return {c_of_expr(args, [decl], body)};\n",
    "}}\n",
    "\"\"\"\n",
    "\n",
    "#collect_sorts\n",
    "x,y = smt.BitVecs(\"x y\", 64)\n",
    "print(cstring(\"foo\", [x,y], smt.If(smt.UGT(x + x*y + 1, x), x , y)))\n"
   ]
  },
  {
   "cell_type": "code",
   "execution_count": 55,
   "metadata": {},
   "outputs": [
    {
     "data": {
      "text/plain": [
       "'17'"
      ]
     },
     "execution_count": 55,
     "metadata": {},
     "output_type": "execute_result"
    }
   ],
   "source": [
    "(x + x*y + 17).children()[1].as_string()"
   ]
  },
  {
   "cell_type": "code",
   "execution_count": 3,
   "metadata": {},
   "outputs": [
    {
     "data": {
      "text/plain": [
       "'/tmp/tmpznk7nuwe/temp.so'"
      ]
     },
     "execution_count": 3,
     "metadata": {},
     "output_type": "execute_result"
    }
   ],
   "source": [
    "import subprocess\n",
    "import tempfile\n",
    "import os\n",
    "def compile_c(c_code):\n",
    "    tmpdir = tempfile.mkdtemp() #with tempfile.TemporaryDirectory(delete=False) as tmpdir:\n",
    "    c_file = os.path.join(tmpdir, \"temp.c\")\n",
    "    so_file = os.path.join(tmpdir, \"temp.so\")\n",
    "\n",
    "    with open(c_file, \"w\") as f:\n",
    "        f.write(c_code)\n",
    "\n",
    "    # Compile C code into a shared object\n",
    "    subprocess.run([\"gcc\", \"-Wall\", \"-Wextra\", \"-Wconversion\", \"-Warith-conversion\", \"-Werror\" , \"-shared\", \"-fPIC\", c_file, \"-o\", so_file], check=True, capture_output=True)\n",
    "    return so_file\n",
    "      \n",
    "compile_c(cstring(\"foo\", [x,y], smt.If(smt.UGT(x + x*y + 1, x), x , y)))"
   ]
  },
  {
   "cell_type": "code",
   "execution_count": 4,
   "metadata": {},
   "outputs": [
    {
     "data": {
      "text/plain": [
       "42"
      ]
     },
     "execution_count": 4,
     "metadata": {},
     "output_type": "execute_result"
    }
   ],
   "source": [
    "import cffi\n",
    "def link(name, args, body, filename):\n",
    "    ffi = cffi.FFI()\n",
    "    ffi.cdef(f\"\"\"\\\n",
    "    {ctype_of_sort(body.sort())} {name}({', '.join([f\"{ctype_of_sort(arg.sort())}\" for arg in args])});\n",
    "    \"\"\")\n",
    "    lib = ffi.dlopen(filename)\n",
    "    return lib\n",
    "\n",
    "def compile_and_link(name, args, body):\n",
    "    so_file = compile_c(cstring(name, args, body))\n",
    "    return link(name, args, body, so_file)\n",
    "\n",
    "lib = compile_and_link(\"mymax\", [x,y], smt.If(smt.UGT(x, y), x, y))\n",
    "lib.mymax(3,42)"
   ]
  },
  {
   "cell_type": "code",
   "execution_count": 88,
   "metadata": {},
   "outputs": [
    {
     "name": "stdout",
     "output_type": "stream",
     "text": [
      "Overwriting /tmp/test.c\n"
     ]
    }
   ],
   "source": [
    "%%file /tmp/test.c\n",
    "#include <Python.h>\n",
    "int main(int argc, char *argv[]){\n",
    "    Py_Initialize();\n",
    "    PyRun_SimpleString(\"print('Hello from Python')\");\n",
    "    Py_Finalize();\n",
    "    return 0;\n",
    "}\n"
   ]
  },
  {
   "cell_type": "code",
   "execution_count": 95,
   "metadata": {},
   "outputs": [
    {
     "name": "stdout",
     "output_type": "stream",
     "text": [
      "Hello from Python\n"
     ]
    }
   ],
   "source": [
    "!gcc   /tmp/test.c  -o /tmp/test $(python3-config --includes --ldflags --embed) && /tmp/test"
   ]
  },
  {
   "cell_type": "code",
   "execution_count": 96,
   "metadata": {},
   "outputs": [
    {
     "name": "stdout",
     "output_type": "stream",
     "text": [
      "Overwriting /tmp/test.c\n"
     ]
    }
   ],
   "source": [
    "%%file /tmp/test.c\n",
    "#include <Python.h>\n",
    "void hello(){\n",
    "    //Py_Initialize();\n",
    "    PyRun_SimpleString(\"print('Hello from Python')\");\n",
    "    //Py_Finalize();\n",
    "    return; //return 0;\n",
    "}"
   ]
  },
  {
   "cell_type": "code",
   "execution_count": 98,
   "metadata": {},
   "outputs": [],
   "source": [
    "!gcc -fPIC -shared  /tmp/test.c  -o /tmp/test.so $(python3-config --includes --ldflags)"
   ]
  },
  {
   "cell_type": "code",
   "execution_count": null,
   "metadata": {},
   "outputs": [
    {
     "ename": "",
     "evalue": "",
     "output_type": "error",
     "traceback": [
      "\u001b[1;31mThe Kernel crashed while executing code in the current cell or a previous cell. \n",
      "\u001b[1;31mPlease review the code in the cell(s) to identify a possible cause of the failure. \n",
      "\u001b[1;31mClick <a href='https://aka.ms/vscodeJupyterKernelCrash'>here</a> for more info. \n",
      "\u001b[1;31mView Jupyter <a href='command:jupyter.viewOutput'>log</a> for further details."
     ]
    }
   ],
   "source": [
    "import cffi\n",
    "\n",
    "ffi = cffi.FFI()\n",
    "ffi.cdef(\"void hello();\")\n",
    "lib = ffi.dlopen(\"/tmp/test.so\")\n",
    "lib.hello()"
   ]
  },
  {
   "cell_type": "code",
   "execution_count": null,
   "metadata": {},
   "outputs": [],
   "source": []
  },
  {
   "cell_type": "code",
   "execution_count": 33,
   "metadata": {},
   "outputs": [
    {
     "data": {
      "text/plain": [
       "'bvsgt'"
      ]
     },
     "execution_count": 33,
     "metadata": {},
     "output_type": "execute_result"
    }
   ],
   "source": [
    "(x + x*y > x).decl().name()"
   ]
  },
  {
   "cell_type": "code",
   "execution_count": null,
   "metadata": {},
   "outputs": [
    {
     "data": {
      "text/plain": [
       "'bvneg'"
      ]
     },
     "execution_count": 16,
     "metadata": {},
     "output_type": "execute_result"
    }
   ],
   "source": [
    "from kdrag.all import *\n",
    "x,y = smt.BitVecs(\"x y\", 64)\n",
    "z,w = smt.BitVecs(\"z w\", 32)\n",
    "d1 = (z + w).decl()\n",
    "d2 = (x + y).decl()\n",
    "d1 == d2\n",
    "\n",
    "smt.UGE(x , y).decl().name()\n",
    "{\n",
    "(~x).decl().name() : \"~\"\n",
    "(-x).decl().name() : \"-\"\n",
    "}"
   ]
  },
  {
   "cell_type": "code",
   "execution_count": 6,
   "metadata": {},
   "outputs": [
    {
     "data": {
      "text/plain": [
       "False"
      ]
     },
     "execution_count": 6,
     "metadata": {},
     "output_type": "execute_result"
    }
   ],
   "source": [
    "smt.is_add(z + w)"
   ]
  },
  {
   "cell_type": "markdown",
   "metadata": {},
   "source": [
    "# Rust\n",
    "\n"
   ]
  },
  {
   "cell_type": "code",
   "execution_count": 31,
   "metadata": {},
   "outputs": [
    {
     "name": "stdout",
     "output_type": "stream",
     "text": [
      "\u001b[1m\u001b[32m    Creating\u001b[0m library package\n",
      "\u001b[1m\u001b[31merror\u001b[0m\u001b[1m:\u001b[0m `cargo init` cannot be run on existing Cargo packages\n",
      "\n",
      "\n"
     ]
    },
    {
     "ename": "RuntimeError",
     "evalue": "Failed to initialize cargo project",
     "output_type": "error",
     "traceback": [
      "\u001b[31m---------------------------------------------------------------------------\u001b[39m",
      "\u001b[31mRuntimeError\u001b[39m                              Traceback (most recent call last)",
      "\u001b[36mCell\u001b[39m\u001b[36m \u001b[39m\u001b[32mIn[31]\u001b[39m\u001b[32m, line 13\u001b[39m\n\u001b[32m     11\u001b[39m     \u001b[38;5;28mprint\u001b[39m(res.stderr.decode())\n\u001b[32m     12\u001b[39m     \u001b[38;5;28mprint\u001b[39m(res.stdout.decode())\n\u001b[32m---> \u001b[39m\u001b[32m13\u001b[39m \u001b[43minit\u001b[49m\u001b[43m(\u001b[49m\u001b[43m)\u001b[49m\n",
      "\u001b[36mCell\u001b[39m\u001b[36m \u001b[39m\u001b[32mIn[31]\u001b[39m\u001b[32m, line 9\u001b[39m, in \u001b[36minit\u001b[39m\u001b[34m(proj_path)\u001b[39m\n\u001b[32m      7\u001b[39m \u001b[38;5;28mprint\u001b[39m(res.stdout.decode())\n\u001b[32m      8\u001b[39m \u001b[38;5;28;01mif\u001b[39;00m res.returncode != \u001b[32m0\u001b[39m:\n\u001b[32m----> \u001b[39m\u001b[32m9\u001b[39m     \u001b[38;5;28;01mraise\u001b[39;00m \u001b[38;5;167;01mRuntimeError\u001b[39;00m(\u001b[33m\"\u001b[39m\u001b[33mFailed to initialize cargo project\u001b[39m\u001b[33m\"\u001b[39m)\n\u001b[32m     10\u001b[39m res = subprocess.run([\u001b[33m\"\u001b[39m\u001b[33mcargo\u001b[39m\u001b[33m\"\u001b[39m, \u001b[33m\"\u001b[39m\u001b[33madd\u001b[39m\u001b[33m\"\u001b[39m, \u001b[33m\"\u001b[39m\u001b[33mpyo3\u001b[39m\u001b[33m\"\u001b[39m, \u001b[33m\"\u001b[39m\u001b[33m--features\u001b[39m\u001b[33m\"\u001b[39m, \u001b[33m\"\u001b[39m\u001b[33mextension-module\u001b[39m\u001b[33m\"\u001b[39m, \u001b[33m\"\u001b[39m\u001b[33m--manifest-path\u001b[39m\u001b[33m\"\u001b[39m, cargofile], capture_output=\u001b[38;5;28;01mTrue\u001b[39;00m)\n\u001b[32m     11\u001b[39m \u001b[38;5;28mprint\u001b[39m(res.stderr.decode())\n",
      "\u001b[31mRuntimeError\u001b[39m: Failed to initialize cargo project"
     ]
    }
   ],
   "source": [
    "\n",
    "default_dir = \"/tmp/kdrag_rust\"\n",
    "\n",
    "def init(proj_path=default_dir):\n",
    "    cargofile = os.path.join(proj_path, \"Cargo.toml\")\n",
    "    res = subprocess.run([\"cargo\", \"init\", \"--lib\", proj_path], capture_output=True)\n",
    "    print(res.stderr.decode())\n",
    "    print(res.stdout.decode())\n",
    "    if res.returncode != 0:\n",
    "        raise RuntimeError(\"Failed to initialize cargo project\")\n",
    "    res = subprocess.run([\"cargo\", \"add\", \"pyo3\", \"--features\", \"extension-module\", \"--manifest-path\", cargofile], capture_output=True)\n",
    "    print(res.stderr.decode())\n",
    "    print(res.stdout.decode())\n",
    "init()"
   ]
  },
  {
   "cell_type": "code",
   "execution_count": null,
   "metadata": {},
   "outputs": [
    {
     "name": "stdout",
     "output_type": "stream",
     "text": [
      "🔗 Found pyo3 bindings\n",
      "🐍 Found CPython 3.12 at /home/philip/philzook58.github.io/.venv/bin/python\n",
      "\u001b[1m\u001b[32m   Compiling\u001b[0m kdrag_rust v0.1.0 (/tmp/kdrag_rust)\n",
      "\u001b[1m\u001b[32m    Finished\u001b[0m `dev` profile [unoptimized + debuginfo] target(s) in 0.19s\n",
      "📦 Built wheel for CPython 3.12 to /tmp/.tmpcvXlBH/kdrag_rust-0.1.0-cp312-cp312-linux_x86_64.whl\n",
      "🛠 Installed kdrag_rust-0.1.0\n",
      "\n",
      "✏️  Setting installed package as editable\n",
      "\n"
     ]
    },
    {
     "data": {
      "text/plain": [
       "7"
      ]
     },
     "execution_count": 28,
     "metadata": {},
     "output_type": "execute_result"
    }
   ],
   "source": [
    "import tempfile\n",
    "import subprocess\n",
    "import importlib\n",
    "import os\n",
    "\n",
    "def gen_rust(modname, fun_name, fun_code):\n",
    "    return f\"\"\"\\\n",
    "use pyo3::prelude::*;\n",
    "use pyo3::wrap_pyfunction;\n",
    "\n",
    "#[pyfunction]\n",
    "{fun_code}\n",
    "\n",
    "#[pymodule]\n",
    "fn {modname}(m: &Bound<'_, PyModule>) -> PyResult<()> {{\n",
    "    m.add_function(wrap_pyfunction!({fun_name}, m)?)?;\n",
    "    Ok(())\n",
    "}}\n",
    "\"\"\"\n",
    "\n",
    "def compile_rust(fun_name, fun_code, dir=\"/tmp/kdrag_rust\", init=False):\n",
    "    #tmpdir = tempfile.mkdtemp()\n",
    "    mod_name = os.path.basename(dir)\n",
    "    cargofile = os.path.join(dir, \"Cargo.toml\")\n",
    "    rs_file = os.path.join(dir, \"src\", \"lib.rs\")\n",
    "    with open(rs_file, \"w\") as f:\n",
    "        f.write(gen_rust(mod_name, fun_name, fun_code))\n",
    "    # Compile Rust code into a shared object\n",
    "    res = subprocess.run([\"maturin\", \"develop\", \"-m\", cargofile], capture_output=True)\n",
    "    print(res.stderr.decode())\n",
    "    print(res.stdout.decode())\n",
    "    if res.returncode != 0:\n",
    "        print(res.stderr.decode())\n",
    "        print(res.stdout.decode())\n",
    "        raise RuntimeError(\"Failed to compile Rust code\")\n",
    "    return importlib.import_module(mod_name)\n",
    "\n",
    "mymod = compile_rust(\"myadd\", \"fn myadd(x: i64, y: i64) -> i64 { x + y }\")\n",
    "mymod.myadd(3, 4)\n"
   ]
  },
  {
   "cell_type": "code",
   "execution_count": null,
   "metadata": {},
   "outputs": [],
   "source": [
    "def rust_of_sort(s : smt.SortRef):\n",
    "    if s == smt.BoolSort():\n",
    "        return \"bool\"\n",
    "    if isinstance(s, smt.BitVecSortRef):\n",
    "        if s.size() in [8, 16, 32, 64]:\n",
    "            return f\"u{s.size()}\" # i64?\n",
    "        else:\n",
    "            raise NotImplementedError(\"No support for arbitrary Rust int sizes\", s.size())\n",
    "    elif isinstance(s, smt.DatatypeSortRef):\n",
    "        return f\"Rc<{s.name()}>\"\n",
    "    elif isinstance(s, smt.ArraySortRef): # Or a closure?\n",
    "        return f\"Rc<dyn Fn({rust_of_sort(s.domain())}) -> {rust_of_sort(s.range())}>\"\n",
    "        #return f\"HashMap<{rust_of_sort(s.domain())}, {rust_of_sort(s.range())}>\"\n",
    "\n",
    "\n",
    "\n",
    "def datatype_to_rust(dt : smt.DatatypeSortRef):\n",
    "    for constr in dt:\n",
    "\n",
    "\n"
   ]
  },
  {
   "cell_type": "code",
   "execution_count": null,
   "metadata": {},
   "outputs": [],
   "source": [
    "def gen_rust(name, args, body):\n",
    "    return f\"\"\"\\\n",
    "use pyo3::prelude::*;\n",
    "use pyo3::wrap_pyfunction;\n",
    "\n",
    "//#[pyfunction]\n",
    "//fn {name}({\",\".join([arg.decl().name() + \":\" + arg.sort() for arg in args])}) -> {body.sort()} {{\n",
    "//    {rust_of_expr(body)}\n",
    "//}}\n",
    "\n",
    "#[pymodule]\n",
    "fn {name}(py: Python, m: &PyModule) -> PyResult<()> {{\n",
    "    m.add_function(wrap_pyfunction!({name}, m)?)?;\n",
    "    Ok(())\n",
    "}}"
   ]
  },
  {
   "cell_type": "code",
   "execution_count": null,
   "metadata": {},
   "outputs": [],
   "source": [
    "!cargo new --lib /tmp/temp_rust_project\n",
    "!cargo add pyo3 --features extension-module --manifest-path /tmp/temp_rust_project/Cargo.toml"
   ]
  },
  {
   "cell_type": "code",
   "execution_count": null,
   "metadata": {},
   "outputs": [],
   "source": [
    "%%file /tmp/temp_rust_project/src/lib.rs\n",
    "use pyo3::prelude::*;\n",
    "\n",
    "#[pyfunction]\n",
    "fn sum_array(arr: Vec<f64>) -> f64 {\n",
    "    arr.iter().sum()\n",
    "}\n",
    "\n",
    "// fn guessing_game(m: &Bound<'_, PyModule>) -> PyResult<()>\n",
    "#[pymodule]\n",
    "fn temp_rust_project(m: &Bound<'_, PyModule>) -> PyResult<()>{\n",
    "    m.add_function(wrap_pyfunction!(sum_array, m)?)?;\n",
    "    Ok(())\n",
    "}"
   ]
  },
  {
   "cell_type": "code",
   "execution_count": null,
   "metadata": {},
   "outputs": [],
   "source": [
    "!maturin develop -m /tmp/temp_rust_project/Cargo.toml"
   ]
  },
  {
   "cell_type": "code",
   "execution_count": null,
   "metadata": {},
   "outputs": [],
   "source": [
    "import temp_rust_project\n",
    "temp_rust_project.sum_array([1.0, 2.0, 3.0, 4.0])"
   ]
  },
  {
   "cell_type": "markdown",
   "metadata": {},
   "source": [
    "# wasm\n",
    "\n",
    "Reference wasm interpreter\n",
    "https://github.com/WebAssembly/spec/blob/main/interpreter/syntax/ast.ml\n",
    "https://github.com/WebAssembly/spec/tree/main/interpreter/exec\n",
    "\n",
    "https://www.certora.com/blog/formally-verifying-webassembly hmm."
   ]
  },
  {
   "cell_type": "code",
   "execution_count": null,
   "metadata": {},
   "outputs": [],
   "source": [
    "from kdrag.all import *\n",
    "# deep embed\n",
    "\"\"\"\n",
    "  type unop = Clz | Ctz | Popcnt | ExtendS of pack_size\n",
    "  type binop = Add | Sub | Mul | DivS | DivU | RemS | RemU\n",
    "             | And | Or | Xor | Shl | ShrS | ShrU | Rotl | Rotr\n",
    "  type testop = Eqz\n",
    "  type relop = Eq | Ne | LtS | LtU | GtS | GtU | LeS | LeU | GeS | GeU\n",
    "  type cvtop = ExtendSI32 | ExtendUI32 | WrapI64\n",
    "             | TruncSF32 | TruncUF32 | TruncSF64 | TruncUF64\n",
    "             | TruncSatSF32 | TruncSatUF32 | TruncSatSF64 | TruncSatUF64\n",
    "             | ReinterpretFloat\"\n",
    "\"\"\"\n",
    "IntBinOp = kd.Enum(\"IntBinOp\", [\"Add\", \"Sub\", \"Mul\"])\n",
    "\n",
    "Var = smt.BitVecSort(32)\n",
    "\n",
    "Instr = kd.Inductive(\"Instr\")\n",
    "for n in [\"Unreachable\", \"Nop\", \"Drop\"]:\n",
    "    Instr.declare(n)\n",
    "Instr.declare(\"\")\n"
   ]
  },
  {
   "cell_type": "markdown",
   "metadata": {},
   "source": [
    "Looks like I might need mutually recursive datatypes. That's annoying.\n",
    "\n"
   ]
  },
  {
   "cell_type": "code",
   "execution_count": null,
   "metadata": {},
   "outputs": [],
   "source": [
    "import kdrag.theories.list as list_\n",
    "\n",
    "\n",
    "Frame = kd.Struct(\"Frame\", (\"inst\", ModuleInst), (\"locals\", list_.List(Var)))\n",
    "AdminInstr = kd.Inductive(\"AdminInstr\")\n",
    "\n",
    "Config = kd.Struct(\"Config\", [(\"frame\", Frame), (\"code\", )])\n",
    "kd.define(\"step\", [],m )"
   ]
  },
  {
   "cell_type": "markdown",
   "metadata": {},
   "source": [
    "https://bytecodealliance.github.io/wasmtime-py/"
   ]
  },
  {
   "cell_type": "code",
   "execution_count": null,
   "metadata": {},
   "outputs": [],
   "source": [
    "import wasmtime\n",
    "\n",
    "\n"
   ]
  },
  {
   "cell_type": "markdown",
   "metadata": {},
   "source": [
    "# llvmlite\n",
    "\n",
    "pretty print mlir\n",
    "https://github.com/sdiehl/mlir-egglog\n",
    "https://www.stephendiehl.com/posts/mlir_memory/\n"
   ]
  },
  {
   "cell_type": "code",
   "execution_count": 65,
   "metadata": {},
   "outputs": [
    {
     "name": "stdout",
     "output_type": "stream",
     "text": [
      "; ModuleID = \"\"\n",
      "target triple = \"unknown-unknown-unknown\"\n",
      "target datalayout = \"\"\n",
      "\n",
      "define double @\"foo\"(double %\".1\", double %\".2\")\n",
      "{\n",
      "entry:\n",
      "  %\".4\" = fadd double %\".1\", %\".2\"\n",
      "  ret double %\".4\"\n",
      "}\n",
      "\n"
     ]
    }
   ],
   "source": [
    "from llvmlite import ir\n",
    "\n",
    "double = ir.DoubleType()\n",
    "fnty = ir.FunctionType(double, (double, double))\n",
    "module = ir.Module()\n",
    "foo = ir.Function(module, fnty, name=\"foo\")\n",
    "bb = foo.append_basic_block(\"entry\")\n",
    "builder = ir.IRBuilder(bb)\n",
    "a, b = foo.args\n",
    "result = builder.fadd(a, b)\n",
    "builder.ret(result)\n",
    "print(module)"
   ]
  },
  {
   "cell_type": "markdown",
   "metadata": {},
   "source": [
    "# verilog"
   ]
  }
 ],
 "metadata": {
  "kernelspec": {
   "display_name": "philzook58.github.io",
   "language": "python",
   "name": "python3"
  },
  "language_info": {
   "codemirror_mode": {
    "name": "ipython",
    "version": 3
   },
   "file_extension": ".py",
   "mimetype": "text/x-python",
   "name": "python",
   "nbconvert_exporter": "python",
   "pygments_lexer": "ipython3",
   "version": "3.12.3"
  }
 },
 "nbformat": 4,
 "nbformat_minor": 2
}
