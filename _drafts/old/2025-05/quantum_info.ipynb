{
 "cells": [
  {
   "cell_type": "markdown",
   "metadata": {},
   "source": [
    "\n",
    "https://www.amazon.com/Problems-Quantum-Mechanics-Dover-Physics/dp/0486675270\n",
    "\n",
    "http://ndl.ethernet.edu.et/bitstream/123456789/23384/1/Emilio%20d%E2%80%99Emilio_2017.pdf problems in quantum mechanics\n",
    "\n",
    "https://continuation.passing.style/blog/quantum-interpreter-cps.html  Simulating Quantum Circuits in Feynman-Style using Higher-Order Functions/ Hmm\n",
    "\n",
    "https://rand.cs.uchicago.edu/vqc/index.html coq quantum\n",
    "\n",
    "What was Tim about in his haskell stuff?\n",
    "\n",
    "\n",
    "https://dl.acm.org/doi/10.1145/3571222  CoqQ: Foundational Verification of Quantum Programs\n",
    "\n",
    "\n",
    "https://github.com/cheuktingli/psitip?tab=readme-ov-file\n",
    "Python Symbolic Information Theoretic Inequality Prover\n",
    "\n",
    "\n",
    "https://link.springer.com/book/10.1007/978-1-4939-9084-9 Quantum Information Meets Quantum Matter\n",
    "From Quantum Entanglement to Topological Phases of Many-Body Systems\n",
    "\n",
    "https://chatgpt.com/share/67ad37ce-b490-8008-8066-08040423d866 interesting ideas:\n",
    "- Show heisenberg uncertainty numerically. minimize it\n",
    "- spectral schordiunfer\n",
    "- Hydrogen atom\n",
    "\n",
    "- Bell inequalityt violations.\n",
    "- Hubbard model\n",
    "-  Finding Eigenstates with a Variational Quantum Algorithm - I feel like I did this one. In my strings project?\n",
    "\n",
    "That nice youtube channel for condensed matter\n"
   ]
  }
 ],
 "metadata": {
  "language_info": {
   "name": "python"
  }
 },
 "nbformat": 4,
 "nbformat_minor": 2
}
