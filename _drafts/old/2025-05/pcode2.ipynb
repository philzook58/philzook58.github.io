{
 "cells": [
  {
   "cell_type": "markdown",
   "id": "bc65f624",
   "metadata": {},
   "source": [
    "Fold up definitions to make more readable\n",
    "axiom schema\n",
    "\n",
    "write_data assembly example.\n",
    "\n",
    "sym exec\n",
    "datalog disassembly, abstract interpretations. control flow recovery\n",
    "fill out more instructions in ghidra\n",
    "\n",
    "print to rust? print to C?\n",
    "\n",
    "\n",
    "rpython ghidra? symqemu style?\n",
    "\n",
    "\n",
    "spike\n"
   ]
  },
  {
   "cell_type": "code",
   "execution_count": 5,
   "id": "ff487cb4",
   "metadata": {},
   "outputs": [
    {
     "name": "stdout",
     "output_type": "stream",
     "text": [
      "Overwriting /tmp/write_data.s\n"
     ]
    }
   ],
   "source": [
    "%%file /tmp/write_data.s\n",
    "write_data:\n",
    "    bge t2, t0, write_data_done\n",
    "    lw t3, 0(t1)\n",
    "    sw t3, 0(t2)\n",
    "    addi t1, t1, 4\n",
    "    addi t2, t2, 4\n",
    "    j write_data\n",
    "\n",
    "write_data_done:\n",
    "    ret\n"
   ]
  },
  {
   "cell_type": "code",
   "execution_count": 8,
   "id": "68fb84d1",
   "metadata": {},
   "outputs": [
    {
     "name": "stdout",
     "output_type": "stream",
     "text": [
      "\n",
      "/tmp/write_data.o:     file format elf64-littleriscv\n",
      "\n",
      "\n",
      "Disassembly of section .text:\n",
      "\n",
      "0000000000000000 <write_data>:\n",
      "   0:\t0053dc63          \tbge\tt2,t0,18 <write_data_done>\n",
      "   4:\t00032e03          \tlw\tt3,0(t1)\n",
      "   8:\t01c3a023          \tsw\tt3,0(t2)\n",
      "   c:\t00430313          \taddi\tt1,t1,4\n",
      "  10:\t00438393          \taddi\tt2,t2,4\n",
      "  14:\tfedff06f          \tj\t0 <write_data>\n",
      "\n",
      "0000000000000018 <write_data_done>:\n",
      "  18:\t00008067          \tret\n"
     ]
    }
   ],
   "source": [
    "! riscv64-unknown-elf-as -o /tmp/write_data.o /tmp/write_data.s && riscv64-unknown-elf-objdump -d /tmp/write_data.o"
   ]
  },
  {
   "cell_type": "code",
   "execution_count": 9,
   "id": "b84c0549",
   "metadata": {},
   "outputs": [],
   "source": [
    "from kdrag.all import *"
   ]
  },
  {
   "cell_type": "markdown",
   "id": "0a584f0c",
   "metadata": {},
   "source": [
    "# dwarf\n",
    "pyefltools maybe\n",
    "llvm has a dwarg interpreter in it\n",
    "https://github.com/llvm/llvm-project/blob/main/lldb/packages/Python/lldbsuite/test/lldbdwarf.py\n",
    "https://github.com/llvm/llvm-project/blob/f989db5745b88cd72f2af7f67ff96071f5059922/lldb/source/Expression/DWARFExpression.cpp#L881\n",
    "https://github.com/angr/angr/issues/2402\n",
    "https://docs.angr.io/en/stable/advanced-topics/debug_var.html\n",
    "https://api.angr.io/projects/cle/en/latest/api/backends/elf.html#cle.backends.elf.variable.Variable\n",
    "https://github.com/angr/cle/blob/master/cle/backends/elf/variable.py\n",
    "\n",
    "\n",
    "dwarf represents translation validation targets. Could automatically discharge \n"
   ]
  }
 ],
 "metadata": {
  "kernelspec": {
   "display_name": ".venv",
   "language": "python",
   "name": "python3"
  },
  "language_info": {
   "codemirror_mode": {
    "name": "ipython",
    "version": 3
   },
   "file_extension": ".py",
   "mimetype": "text/x-python",
   "name": "python",
   "nbconvert_exporter": "python",
   "pygments_lexer": "ipython3",
   "version": "3.12.3"
  }
 },
 "nbformat": 4,
 "nbformat_minor": 5
}
