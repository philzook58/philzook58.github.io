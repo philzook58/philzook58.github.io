{
 "cells": [
  {
   "cell_type": "markdown",
   "metadata": {},
   "source": [
    "Awodey \n",
    "Riehl\n",
    "\n",
    "Direct axiomaiztzation of functors\n"
   ]
  },
  {
   "cell_type": "markdown",
   "metadata": {},
   "source": [
    "# GAT"
   ]
  },
  {
   "cell_type": "code",
   "execution_count": 1,
   "metadata": {},
   "outputs": [
    {
     "ename": "ModuleNotFoundError",
     "evalue": "No module named 'kdrag'",
     "output_type": "error",
     "traceback": [
      "\u001b[0;31m---------------------------------------------------------------------------\u001b[0m",
      "\u001b[0;31mModuleNotFoundError\u001b[0m                       Traceback (most recent call last)",
      "Cell \u001b[0;32mIn[1], line 2\u001b[0m\n\u001b[1;32m      1\u001b[0m \u001b[38;5;28;01mfrom\u001b[39;00m \u001b[38;5;21;01mdataclasses\u001b[39;00m \u001b[38;5;28;01mimport\u001b[39;00m dataclass\n\u001b[0;32m----> 2\u001b[0m \u001b[38;5;28;01mfrom\u001b[39;00m \u001b[38;5;21;01mkdrag\u001b[39;00m\u001b[38;5;21;01m.\u001b[39;00m\u001b[38;5;21;01mall\u001b[39;00m \u001b[38;5;28;01mimport\u001b[39;00m \u001b[38;5;241m*\u001b[39m\n\u001b[1;32m      3\u001b[0m \u001b[38;5;129m@dataclass\u001b[39m\n\u001b[1;32m      4\u001b[0m \u001b[38;5;28;01mclass\u001b[39;00m \u001b[38;5;21;01mGATExpr\u001b[39;00m():\n\u001b[1;32m      5\u001b[0m     vs: \u001b[38;5;28mlist\u001b[39m[smt\u001b[38;5;241m.\u001b[39mExprRef]\n",
      "\u001b[0;31mModuleNotFoundError\u001b[0m: No module named 'kdrag'"
     ]
    }
   ],
   "source": [
    "from dataclasses import dataclass\n",
    "from kdrag.all import *\n",
    "@dataclass\n",
    "class GATExpr():\n",
    "    vs: list[smt.ExprRef]\n",
    "    ctx: list[smt.BoolRef]\n",
    "    t: smt.ExprRef\n",
    "    @classmethod\n",
    "    def Const(name, sort, vs=[], ctx=[]):\n",
    "        return GATExpr(vs, ctx, smt.Const(name, sort))\n",
    "    def merge_ctx(self, y: GATExpr):\n",
    "        self.vs.extend(y.vs)\n",
    "        self.ctx.extend(y.ctx)\n",
    "    def __get_attr__(self, k):\n",
    "        attr = getattr(self.t, k)\n",
    "        if not callable(attr):\n",
    "            return GATExpr(self.vs, self.ctx, attr)\n",
    "        else:\n",
    "            def wrapper(*args, **kwargs):\n",
    "                res = GATExpr(attr(*args, **kwargs))\n",
    "                for x in args:\n",
    "                    if isinstance(x,GATExpr):\n",
    "                        res.merge_ctx(x)\n",
    "                for v in kwargs.values():\n",
    "                    if isinstance(v,GATExpr):\n",
    "                        res.merge_ctx(v)\n",
    "                return res\n",
    "            return wrapper\n",
    "\n",
    "def GATConst(name, sort, vs=[], ctx=[]):\n",
    "    return GATExpr.Const(name,sort,vs=vs,ctx=ctx)\n",
    "\n",
    "\n"
   ]
  },
  {
   "cell_type": "markdown",
   "metadata": {},
   "source": [
    "# Basic Cat"
   ]
  },
  {
   "cell_type": "code",
   "execution_count": 1,
   "metadata": {},
   "outputs": [
    {
     "name": "stderr",
     "output_type": "stream",
     "text": [
      "Admitting lemma ForAll([x, y, z], mul(x, mul(y, z)) == mul(mul(x, y), z))\n",
      "Admitting lemma ForAll(x, Implies(x >= 0, sqrt(x) >= 0))\n",
      "Admitting lemma ForAll(x, Implies(x >= 0, sqrt(x)**2 == x))\n",
      "Admitting lemma ForAll(x, Implies(x >= 0, sqrt(sqr(x)) == x))\n"
     ]
    }
   ],
   "source": [
    "from kdrag.all import *\n",
    "Ob = smt.DeclareSort(\"Ob\")\n",
    "Arr = smt.DeclareSort(\"Arr\")\n",
    "comp = smt.Function(\"comp\", Arr,Arr,Arr)\n",
    "id = smt.Function(\"id\", Ob,Arr)\n",
    "dom = smt.Function(\"dom\", Arr,Ob)\n",
    "cod = smt.Function(\"cod\", Arr,Ob)\n",
    "kd.notation.matmul.register(Arr, comp)\n",
    "a,b,c,d = smt.Consts(\"a b c d\", Ob)\n",
    "f,g,h,k = smt.Consts(\"f g h k\", Arr)\n",
    "wf = smt.Function(\"wf\", Arr, smt.BoolSort())\n",
    "kd.notation.wf.register(Arr, wf)\n",
    "\n",
    "catdb = []\n",
    "\n",
    "wf_comp = kd.axiom(kd.QForAll([f,g], cod(g) == dom(f), wf(f @ g)))\n",
    "wf_id = kd.axiom(smt.ForAll([a], wf(id(a))))\n",
    "\n",
    "\n",
    "id_left = kd.axiom(kd.QForAll([f], f @ id(dom(f)) == f))\n",
    "id_right = kd.axiom(kd.QForAll([f], id(cod(f)) @ f == f))\n",
    "comp_assoc = kd.axiom(kd.QForAll([f,g,h], dom(f) == cod(g), dom(g) == cod(h) , f @ (g @ h) == (f @ g) @ h))\n",
    "\n",
    "dom_comp = kd.axiom(kd.QForAll([f,g], wf(f @ g) , dom(f @ g) == dom(g)))\n",
    "cod_comp = kd.axiom(kd.QForAll([f,g], wf(f @ g) , cod(f @ g) == cod(f)))\n",
    "\n",
    "catdb.extend([wf_comp,wf_id,id_left,id_right,comp_assoc, dom_comp, cod_comp])\n"
   ]
  },
  {
   "cell_type": "markdown",
   "metadata": {},
   "source": [
    "I think I want a theorem constructor\n",
    "CForAll(  ) which adds wf over all subterms?"
   ]
  },
  {
   "cell_type": "code",
   "execution_count": 26,
   "metadata": {},
   "outputs": [
    {
     "data": {
      "text/plain": [
       "[|- ForAll([f, g],\n",
       "        Implies(And(wf(f), wf(g), cod(g) == dom(f)),\n",
       "                wf(comp(f, g)))),\n",
       " |- ForAll(a, wf(id(a))),\n",
       " |- ForAll(f, Implies(wf(f), comp(f, id(dom(f))) == f)),\n",
       " |- ForAll(f, Implies(wf(f), comp(id(cod(f)), f) == f)),\n",
       " |- ForAll([f, g, h],\n",
       "        Implies(And(wf(f),\n",
       "                    wf(g),\n",
       "                    wf(h),\n",
       "                    dom(f) == cod(g),\n",
       "                    dom(g) == cod(h)),\n",
       "                comp(f, comp(g, h)) == comp(comp(f, g), h))),\n",
       " |- ForAll([f, g],\n",
       "        Implies(And(wf(f), wf(g), wf(comp(f, g))),\n",
       "                dom(comp(f, g)) == dom(g))),\n",
       " |- ForAll([f, g],\n",
       "        Implies(And(wf(f), wf(g), wf(comp(f, g))),\n",
       "                cod(comp(f, g)) == cod(f)))]"
      ]
     },
     "execution_count": 26,
     "metadata": {},
     "output_type": "execute_result"
    }
   ],
   "source": [
    "catdb"
   ]
  },
  {
   "cell_type": "code",
   "execution_count": 2,
   "metadata": {},
   "outputs": [
    {
     "ename": "LemmaError",
     "evalue": "(False, 'Countermodel', [wf = [else -> True],\n cod = [else -> Ob!val!0],\n comp = [else ->\n         If(And(wf(Var(1)), Var(0) == id(cod(Var(1)))),\n            Var(1),\n            Var(0))],\n id = [else -> Arr!val!0],\n dom = [else -> Ob!val!0]])",
     "output_type": "error",
     "traceback": [
      "\u001b[0;31m---------------------------------------------------------------------------\u001b[0m",
      "\u001b[0;31mLemmaError\u001b[0m                                Traceback (most recent call last)",
      "Cell \u001b[0;32mIn[2], line 5\u001b[0m\n\u001b[1;32m      1\u001b[0m \u001b[38;5;28;01mdef\u001b[39;00m \u001b[38;5;21mclemma\u001b[39m(thm, by\u001b[38;5;241m=\u001b[39m[]):\n\u001b[1;32m      2\u001b[0m     \u001b[38;5;66;03m#rest all well formed as lemma\u001b[39;00m\n\u001b[1;32m      3\u001b[0m     \u001b[38;5;28;01mreturn\u001b[39;00m kd\u001b[38;5;241m.\u001b[39mkernel\u001b[38;5;241m.\u001b[39mlemma(thm, by\u001b[38;5;241m=\u001b[39mby \u001b[38;5;241m+\u001b[39m catdb)\n\u001b[0;32m----> 5\u001b[0m \u001b[43mclemma\u001b[49m\u001b[43m(\u001b[49m\u001b[43msmt\u001b[49m\u001b[38;5;241;43m.\u001b[39;49m\u001b[43mBoolVal\u001b[49m\u001b[43m(\u001b[49m\u001b[38;5;28;43;01mFalse\u001b[39;49;00m\u001b[43m)\u001b[49m\u001b[43m)\u001b[49m \u001b[38;5;66;03m# ok so we don't have a contradiction \u001b[39;00m\n",
      "Cell \u001b[0;32mIn[2], line 3\u001b[0m, in \u001b[0;36mclemma\u001b[0;34m(thm, by)\u001b[0m\n\u001b[1;32m      1\u001b[0m \u001b[38;5;28;01mdef\u001b[39;00m \u001b[38;5;21mclemma\u001b[39m(thm, by\u001b[38;5;241m=\u001b[39m[]):\n\u001b[1;32m      2\u001b[0m     \u001b[38;5;66;03m#rest all well formed as lemma\u001b[39;00m\n\u001b[0;32m----> 3\u001b[0m     \u001b[38;5;28;01mreturn\u001b[39;00m \u001b[43mkd\u001b[49m\u001b[38;5;241;43m.\u001b[39;49m\u001b[43mkernel\u001b[49m\u001b[38;5;241;43m.\u001b[39;49m\u001b[43mlemma\u001b[49m\u001b[43m(\u001b[49m\u001b[43mthm\u001b[49m\u001b[43m,\u001b[49m\u001b[43m \u001b[49m\u001b[43mby\u001b[49m\u001b[38;5;241;43m=\u001b[39;49m\u001b[43mby\u001b[49m\u001b[43m \u001b[49m\u001b[38;5;241;43m+\u001b[39;49m\u001b[43m \u001b[49m\u001b[43mcatdb\u001b[49m\u001b[43m)\u001b[49m\n",
      "File \u001b[0;32m~/Documents/python/knuckledragger/kdrag/kernel.py:81\u001b[0m, in \u001b[0;36mlemma\u001b[0;34m(thm, by, admit, timeout, dump, solver)\u001b[0m\n\u001b[1;32m     79\u001b[0m \u001b[38;5;28;01mif\u001b[39;00m res \u001b[38;5;241m!=\u001b[39m smt\u001b[38;5;241m.\u001b[39munsat:\n\u001b[1;32m     80\u001b[0m     \u001b[38;5;28;01mif\u001b[39;00m res \u001b[38;5;241m==\u001b[39m smt\u001b[38;5;241m.\u001b[39msat:\n\u001b[0;32m---> 81\u001b[0m         \u001b[38;5;28;01mraise\u001b[39;00m LemmaError(thm, \u001b[38;5;124m\"\u001b[39m\u001b[38;5;124mCountermodel\u001b[39m\u001b[38;5;124m\"\u001b[39m, s\u001b[38;5;241m.\u001b[39mmodel())\n\u001b[1;32m     82\u001b[0m     \u001b[38;5;28;01mraise\u001b[39;00m LemmaError(\u001b[38;5;124m\"\u001b[39m\u001b[38;5;124mlemma\u001b[39m\u001b[38;5;124m\"\u001b[39m, thm, res)\n\u001b[1;32m     83\u001b[0m \u001b[38;5;28;01melse\u001b[39;00m:\n",
      "\u001b[0;31mLemmaError\u001b[0m: (False, 'Countermodel', [wf = [else -> True],\n cod = [else -> Ob!val!0],\n comp = [else ->\n         If(And(wf(Var(1)), Var(0) == id(cod(Var(1)))),\n            Var(1),\n            Var(0))],\n id = [else -> Arr!val!0],\n dom = [else -> Ob!val!0]])"
     ]
    }
   ],
   "source": [
    "def clemma(thm, by=[]):\n",
    "    #rest all well formed as lemma\n",
    "    return kd.kernel.lemma(thm, by=by + catdb)\n",
    "\n",
    "clemma(smt.BoolVal(False)) # ok so we don't have a contradiction \n",
    " "
   ]
  },
  {
   "cell_type": "code",
   "execution_count": 3,
   "metadata": {},
   "outputs": [
    {
     "data": {
      "text/html": [
       "&#8870;ForAll([f, g, h, k],\n",
       "       Implies(And(wf(f),\n",
       "                   wf(g),\n",
       "                   wf(h),\n",
       "                   wf(k),\n",
       "                   dom(f) == cod(g),\n",
       "                   dom(g) == cod(h),\n",
       "                   dom(h) == cod(k)),\n",
       "               comp(f, comp(g, comp(h, k))) ==\n",
       "               comp(comp(f, g), comp(h, k))))"
      ],
      "text/plain": [
       "|- ForAll([f, g, h, k],\n",
       "       Implies(And(wf(f),\n",
       "                   wf(g),\n",
       "                   wf(h),\n",
       "                   wf(k),\n",
       "                   dom(f) == cod(g),\n",
       "                   dom(g) == cod(h),\n",
       "                   dom(h) == cod(k)),\n",
       "               comp(f, comp(g, comp(h, k))) ==\n",
       "               comp(comp(f, g), comp(h, k))))"
      ]
     },
     "execution_count": 3,
     "metadata": {},
     "output_type": "execute_result"
    }
   ],
   "source": [
    "clemma(kd.QForAll([f,g,h,k], dom(f) == cod(g), dom(g) == cod(h), dom(h) == cod(k), f @ (g @ (h @ k)) == (f @ g) @ (h @ k)))\n"
   ]
  },
  {
   "cell_type": "code",
   "execution_count": 5,
   "metadata": {},
   "outputs": [],
   "source": [
    "monic = kd.define(\"monic\", [f], kd.QForAll([g,h], dom(f) == cod(g), dom(f) == cod(h), \n",
    "                                            f @ g == f @ h, g == h))\n",
    "epic = kd.define(\"epic\", [f], kd.QForAll([g,h], dom(g) == cod(f), dom(h) == cod(f),\n",
    "                                            g @ f == h @ f, g == h))\n",
    "\n",
    "catdb.extend([monic.defn, epic.defn])"
   ]
  },
  {
   "cell_type": "code",
   "execution_count": null,
   "metadata": {},
   "outputs": [],
   "source": [
    "iso_arr = kd.define(\"iso_arr\", [f,g], )\n",
    "iso_ob = kd.define(\"iso_ob\", [a,b], kd.QExists([f,g], dom(f) == a, cod(f) == b,\n",
    "                                                      dom(g) == b, cod(g) == a,\n",
    "                                                      f @ g == id(b), g @ f == id(a)))"
   ]
  },
  {
   "cell_type": "code",
   "execution_count": 7,
   "metadata": {},
   "outputs": [],
   "source": [
    "# https://en.wikipedia.org/wiki/Initial_and_terminal_objects\n",
    "initial = kd.define(\"initial\", [a], kd.QForAll([b], kd.QExists([f], cod(f) == b, dom(f) == a, \n",
    "                                                                 kd.QForAll([g], cod(g) == b, dom(g) == a,  \n",
    "                                                                              g == f))))\n",
    "terminal = kd.define(\"terminal\", [a], kd.QForAll([b], kd.QExists([f], cod(f) == a, dom(f) == b,\n",
    "                                                                    kd.QForAll([g], cod(g) == a, dom(g) == b,\n",
    "                                                                                g == f))))\n",
    "\n",
    "# two terminal objects are isomorphic"
   ]
  },
  {
   "cell_type": "code",
   "execution_count": null,
   "metadata": {},
   "outputs": [],
   "source": [
    "proj1 = smt.(\"proj1\", Ob, Arr)\n",
    "proj2 = smt.Function(\"proj2\", Ob, Arr)\n",
    "is_prod = kd.define(\"is_prod\", [a,b,c], smt.ForAll([d], smt.Exists([f,g], smt.And(comp(f, a, d), comp(g, b, d), smt.ForAll([h], comp(h, c, h) == smt.And(comp(h, f, h), comp(h, g, h))))))\n",
    "\n",
    "par = smt.Function(\"par\", Arr, Arr, Arr)\n",
    "\n"
   ]
  },
  {
   "cell_type": "code",
   "execution_count": null,
   "metadata": {},
   "outputs": [],
   "source": [
    "\n"
   ]
  },
  {
   "cell_type": "markdown",
   "metadata": {},
   "source": [
    "terminal \n",
    "initial\n",
    "pullback = \n",
    "\n",
    "cartesian = kd.define(\"cartesian\", [], kd.QForAll([a,b], kd.QExists([c], kd.Prod(a,b,c))))\n",
    "closed = \n",
    "\n",
    "axiom about particular arrangement can be written as\n",
    "QForAll([], cartesian, closed, )\n"
   ]
  },
  {
   "cell_type": "code",
   "execution_count": null,
   "metadata": {},
   "outputs": [],
   "source": []
  },
  {
   "cell_type": "markdown",
   "metadata": {},
   "source": [
    "# CAT - 2category\n",
    "\n",
    "Could use endofunctor? Endofunctor + domain of objects? + cod\n",
    "\n",
    "Diurectly axiomiatiZe 2 category. How much functor nonsense does that give us.\n",
    "\n",
    "\n"
   ]
  },
  {
   "cell_type": "code",
   "execution_count": null,
   "metadata": {},
   "outputs": [],
   "source": [
    "Arr2 = smt.DeclareSort(\"Arr2\")\n",
    "comp2 = smt.Function(\"comp2\", Arr2, Arr2, Arr2)\n",
    "# could use notation overload\n",
    "id2 = smt.Function(\"id2\", Arr, Arr2)\n",
    "dom2 = smt.Function(\"dom2\", Arr2, Arr)\n",
    "cod2 = smt.Function(\"cod2\", Arr2, Arr)\n"
   ]
  }
 ],
 "metadata": {
  "kernelspec": {
   "display_name": "sage",
   "language": "python",
   "name": "python3"
  },
  "language_info": {
   "codemirror_mode": {
    "name": "ipython",
    "version": 3
   },
   "file_extension": ".py",
   "mimetype": "text/x-python",
   "name": "python",
   "nbconvert_exporter": "python",
   "pygments_lexer": "ipython3",
   "version": "3.12.4"
  }
 },
 "nbformat": 4,
 "nbformat_minor": 2
}
