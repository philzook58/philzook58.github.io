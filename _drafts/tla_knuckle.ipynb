{
 "cells": [
  {
   "cell_type": "markdown",
   "metadata": {},
   "source": [
    "# TLA+\n",
    "https://www.philipzucker.com/Modelling_TLA_in_z3py/\n",
    "Alloy\n",
    "Quintus\n",
    "\n",
    "https://www.learntla.com/introduction/\n",
    "\n",
    "Lift everything to signals\n",
    "https://news.ycombinator.com/item?id=41382828"
   ]
  },
  {
   "cell_type": "code",
   "execution_count": null,
   "metadata": {},
   "outputs": [],
   "source": [
    "import kdrag as kd\n",
    "from kdrag.smt import *\n",
    "\n",
    "Signal = kd.smt.ArraySort(IntSort(), BoolSort())\n",
    "n = smt.Const(\"n\", IntSort())\n",
    "next = kd.define(\"next\", [x], smt.Lambda([x], x[n-1]))\n",
    "\n",
    "def TConst(name, sort):\n",
    "    return Const(name, smt.ArraySort(IntSort(), sort))\n",
    "def TConsts(name, sort):\n",
    "    return Consts(name, smt.ArraySort(IntSort(), sort))\n",
    "x,y,z = TConsts(\"x y z\", BoolSort())\n",
    "\n",
    "def TAnd(*args):\n",
    "    return Lambda([n], And([arg[n] for arg in args]))\n",
    "\n",
    "INIT = Const(\"INIT\", Signal)\n",
    "def BOX(f):\n",
    "    return Lambda([m], ForAll([n], n >= m, f[n]))\n",
    "ALWAYS = BOX\n",
    "\n",
    "BOX = kd.define(\"[]\", [f], BOX(f))\n",
    "\n",
    "def lower(t):\n",
    "    return t[0]\n",
    "\n",
    "lower(TAnd(INIT, Box(next(x) == x)))\n",
    "\n",
    "LabelSort = EnumSort(\"LABEL\", \"L1 L2 L3 L4\")\n",
    "LABEL = TConst(\"LABEL\", LabelSort)\n",
    "\n",
    "\n",
    "def bounded(n):\n",
    "    # knuckeldragger could understand that the forall property implies the bounded property\n",
    "    # And then separaetly to the bounded property.\n",
    "    return kd.lemma(ForAll[P], Implies(Box(P), And([P(n) for i in range(n)]) ))\n",
    "\n",
    "\n",
    "\n",
    "hr = TConst(\"hr\", IntSort())\n",
    "HCini = TAnd(hr >= 1, hr <= 12)\n",
    "HCnxt = next(hr) == TIf(hr == 12, 1, hr + 1)\n",
    "HC = TAnd(HCini, Box(HCnxt))\n"
   ]
  },
  {
   "cell_type": "markdown",
   "metadata": {},
   "source": [
    "Differentiation and Platzer's stuff.\n",
    "ODEs\n"
   ]
  },
  {
   "cell_type": "code",
   "execution_count": null,
   "metadata": {},
   "outputs": [],
   "source": []
  },
  {
   "cell_type": "markdown",
   "metadata": {},
   "source": [
    "# Intuitionistic Knuckle\n",
    "Deep embedding vs new kernel\n",
    "\n",
    "\n",
    "Abstract proof theory"
   ]
  },
  {
   "cell_type": "code",
   "execution_count": null,
   "metadata": {},
   "outputs": [],
   "source": [
    "from kdrag.all import *\n",
    "\n",
    "# Proofs are kind of open datatype conitaing subproofs and \n",
    "Proof = smt.DeclareSort(\"Proof\")\n",
    "prop = Function(\"prop\", Proof, Prop)\n",
    "# open datatype? Closed?\n",
    "Prop = smt.DeclareSort(\"Prop\")\n",
    "impl = Function(\"impl\", Prop, Prop)\n",
    "is_impl = Function(\"is_impl\", Prop, BoolSort())\n",
    "\n",
    "\n",
    "# The semantic interpretation of impl is a function\n",
    "def Impl(a,b): return ArraySort(Proof, Proof)\n",
    "# a partial function though.\n",
    "ArraySort(Proof,Proof,Proof,BoolSort())\n",
    "ArraySort(Proof,Option(Proof))\n",
    "\n",
    "\n",
    "\n",
    "wf = Function(\"wf\", Proof, BoolSort())\n",
    "kd.notation.wf.register(Proof, wf)\n",
    "\n",
    "\n",
    "\n",
    "\n"
   ]
  },
  {
   "cell_type": "code",
   "execution_count": null,
   "metadata": {},
   "outputs": [],
   "source": [
    "class Proof():\n",
    "    subproofs : list[\"Proof\"] \n",
    "    hyps: list[smt.BoolRef]\n",
    "    conc: smt.BoolRef\n",
    "\n",
    "def impE(pfab, pfa):\n",
    "    pfab.conc \n",
    "    hyps = pfab.hyps + [pfab.conc]\n",
    "    conc = pfa.conc\n",
    "    return Proof([pfab, pfa], hyps, conc)\n",
    "\n",
    "def \n",
    "\n",
    "def weaken(pfa, newhyp):\n",
    "    return Proof([pfa], pfa.hyps + [newhyp], pfa.conc)\n",
    "\n",
    "def swap(pf, i,j):\n",
    "    return Proof(pf ,pf.hyps, pf.conc)\n",
    "\n",
    "\n"
   ]
  }
 ],
 "metadata": {
  "kernelspec": {
   "display_name": "Python 3",
   "language": "python",
   "name": "python3"
  },
  "language_info": {
   "name": "python",
   "version": "3.10.12"
  }
 },
 "nbformat": 4,
 "nbformat_minor": 2
}
