{
 "cells": [
  {
   "cell_type": "markdown",
   "metadata": {},
   "source": [
    "# TLA+\n",
    "https://www.philipzucker.com/Modelling_TLA_in_z3py/\n",
    "Alloy\n",
    "Quintus\n",
    "\n",
    "https://www.learntla.com/introduction/\n",
    "\n",
    "Lift everything to signals\n",
    "https://news.ycombinator.com/item?id=41382828\n",
    "\n",
    "I need to hide everything under the abstract definitions so that it is readable.\n",
    "The conversio nin simplify  of implies to no\n",
    "\n",
    "Ah. This _does_ require induction.\n",
    "\n",
    "https://lamport.azurewebsites.net/tla/book-02-08-08.pdf specifying systems\n",
    "\n",
    "\n"
   ]
  },
  {
   "cell_type": "code",
   "execution_count": 1,
   "metadata": {},
   "outputs": [
    {
     "data": {
      "text/html": [
       "valid(timpl(tand(HCini, always(HCnxt)), always(HCini)))"
      ],
      "text/plain": [
       "valid(timpl(tand(HCini, always(HCnxt)), always(HCini)))"
      ]
     },
     "execution_count": 1,
     "metadata": {},
     "output_type": "execute_result"
    }
   ],
   "source": [
    "from kdrag.all import *\n",
    "import kdrag.theories.logic.temporal as tla\n",
    "\n",
    "hr = tla.Int(\"hr\")\n",
    "HCini = tla.tand(tla.tint(1) <= hr, hr <= tla.tint(12))\n",
    "HCini = kd.define(\"HCini\", [], HCini)\n",
    "#kd.rewrite.simp(HCini)\n",
    "HCnxt = tla.ieq(tla.inext(hr), tla.if_int(tla.ineq(hr, tla.tint(12)), hr + tla.tint(1), tla.tint(1)))\n",
    "HCnxt = kd.define(\"HCnxt\", [], HCnxt)\n",
    "kd.rewrite.simp(HCnxt)\n",
    "#kd.rewrite.simp(tla.Valid(tla.Always(tla.Next(hr) == HCnxt, vs=[hr])))\n",
    "#HC = tla.tand(HCini, tla.always(HCnxt, vs=[hr]))\n",
    "HC = tla.tand(HCini, tla.always(HCnxt))\n",
    "thm = tla.valid(tla.implies(HC, tla.always(HCini)))\n",
    "thm\n",
    "#kd.rewrite.simp(thm)\n",
    "\n",
    "\n"
   ]
  },
  {
   "cell_type": "code",
   "execution_count": 3,
   "metadata": {},
   "outputs": [],
   "source": [
    "# intermiedate lemma\n",
    "l = kd.Lemma(tla.valid(tla.always(tla.implies(tla.tand(HCini, HCnxt),  HCini))))\n"
   ]
  },
  {
   "cell_type": "code",
   "execution_count": 4,
   "metadata": {},
   "outputs": [],
   "source": [
    "p, q = smt.Consts(\"p q\", tla.TBool)\n",
    "valid_and = kd.prove(smt.ForAll([p,q], tla.valid(tla.tand(p, q)) == smt.And(tla.valid(p), tla.valid(q))), by=[tla.valid.defn, tla.tand.defn])\n",
    "valid_or = kd.prove(smt.ForAll([p,q], tla.valid(tla.tor(p, q)) == smt.Or(tla.valid(p), tla.valid(q))), by=[tla.valid.defn, tla.tor.defn])\n",
    "valid_impl = kd.prove(smt.ForAll([p,q], tla.valid(tla.timpl(p,q)) == smt.Implies(tla.valid(p), tla.valid(q))), by=[tla.valid.defn, tla.timpl.defn])\n",
    "valid_not = kd.prove(smt.ForAll([p,q], tla.valid(tla.tnot(p)) == smt.Not(tla.valid(p))), by=[tla.valid.defn, tla.tnot.defn])\n",
    "\n",
    "tand_0 = kd.prove(smt.ForAll([p], tla.tand(p,q)[0] == smt.And(p[0], q[0])), by=[tla.tand.defn])\n",
    "tor_0 = kd.prove(smt.ForAll([p], tla.tor(p,q)[0] == smt.Or(p[0], q[0])), by=[tla.tor.defn])\n",
    "\n",
    "t = smt.Int(\"t\")\n",
    "tand_t = kd.prove(smt.ForAll([p,q,t], tla.tand(p,q)[t] == smt.And(p[t], q[t])), by=[tla.tand.defn])\n",
    "tor_t = kd.prove(smt.ForAll([p,q,t], tla.tor(p,q)[t] == smt.Or(p[t], q[t])), by=[tla.tor.defn])\n",
    "timpl_t = kd.prove(smt.ForAll([p,q,t], tla.timpl(p,q)[t] == smt.Implies(p[t], q[t])), by=[tla.timpl.defn])\n",
    "tnot_t = kd.prove(smt.ForAll([p,t], tla.tnot(p)[t] == smt.Not(p[t])), by=[tla.tnot.defn])\n",
    "\n",
    "always_t = kd.prove(smt.ForAll([p,t], tla.always(p)[t] == smt.And(p[t], tla.always(p)[t+1])), by=[tla.always.defn])\n"
   ]
  },
  {
   "cell_type": "markdown",
   "metadata": {},
   "source": [
    "I want it to always refold stuff.\n",
    "So I should rearrange my definitions to be in terms of...\n",
    "No these are the extensionally lifted definitions. Hmm.\n",
    "That's why I kept unfolding and simp.\n",
    "But simp also mushes around boolean connectives, which I don't love\n",
    "\n",
    "Yeah, lambda stuff is kind of defined observationally actually.\n",
    "\n"
   ]
  },
  {
   "cell_type": "code",
   "execution_count": null,
   "metadata": {},
   "outputs": [],
   "source": [
    "def ext_defn(f):\n",
    "    f.defn"
   ]
  },
  {
   "cell_type": "code",
   "execution_count": 3,
   "metadata": {},
   "outputs": [
    {
     "data": {
      "text/plain": [
       "[dt!19, n!23];\n",
       "[val(HCini)[0],\n",
       " val(always(HCnxt))[0],\n",
       " n!23 >= 0,\n",
       " Lambda(dt!19, Or(Not(dt!19 >= 0), val(HCini)[dt!19]))[n!23]]\n",
       "?|- Lambda(dt!19, Or(Not(dt!19 >= 0), val(HCini)[dt!19]))[n!23 +\n",
       "  1]"
      ]
     },
     "execution_count": 3,
     "metadata": {},
     "output_type": "execute_result"
    }
   ],
   "source": [
    "\n",
    "import kdrag.theories.int as int_\n",
    "l = kd.Lemma(thm)\n",
    "l.unfold(tla.valid)\n",
    "l.unfold(tla.timpl, tla.tand)\n",
    "l.simp()\n",
    "l.intros()\n",
    "l.split(0)\n",
    "\n",
    "l.unfold(tla.always)\n",
    "l.simp()\n",
    "dt = l.fix()\n",
    "#l.intros()\n",
    "l.induct(dt)\n",
    "l.auto() # < 0\n",
    "l.auto() # = 0\n",
    "\n",
    "n = l.fix()\n",
    "l\n",
    "l.intros()\n",
    "l.split(-1)\n",
    "l.unfold(tla.always)"
   ]
  },
  {
   "cell_type": "markdown",
   "metadata": {},
   "source": []
  },
  {
   "cell_type": "code",
   "execution_count": null,
   "metadata": {},
   "outputs": [],
   "source": [
    "import kdrag as kd\n",
    "from kdrag.smt import *\n",
    "\n",
    "Signal = kd.smt.ArraySort(IntSort(), BoolSort())\n",
    "n = smt.Const(\"n\", IntSort())\n",
    "next = kd.define(\"next\", [x], smt.Lambda([x], x[n-1]))\n",
    "\n",
    "def TConst(name, sort):\n",
    "    return Const(name, smt.ArraySort(IntSort(), sort))\n",
    "def TConsts(name, sort):\n",
    "    return Consts(name, smt.ArraySort(IntSort(), sort))\n",
    "x,y,z = TConsts(\"x y z\", BoolSort())\n",
    "\n",
    "def TAnd(*args):\n",
    "    return Lambda([n], And([arg[n] for arg in args]))\n",
    "\n",
    "INIT = Const(\"INIT\", Signal)\n",
    "def BOX(f):\n",
    "    return Lambda([m], ForAll([n], n >= m, f[n]))\n",
    "ALWAYS = BOX\n",
    "\n",
    "BOX = kd.define(\"[]\", [f], BOX(f))\n",
    "\n",
    "def lower(t):\n",
    "    return t[0]\n",
    "\n",
    "lower(TAnd(INIT, Box(next(x) == x)))\n",
    "\n",
    "LabelSort = EnumSort(\"LABEL\", \"L1 L2 L3 L4\")\n",
    "LABEL = TConst(\"LABEL\", LabelSort)\n",
    "\n",
    "\n",
    "def bounded(n):\n",
    "    # knuckeldragger could understand that the forall property implies the bounded property\n",
    "    # And then separaetly to the bounded property.\n",
    "    return kd.lemma(ForAll[P], Implies(Box(P), And([P(n) for i in range(n)]) ))\n",
    "\n",
    "\n",
    "\n",
    "hr = TConst(\"hr\", IntSort())\n",
    "HCini = TAnd(hr >= 1, hr <= 12)\n",
    "HCnxt = next(hr) == TIf(hr == 12, 1, hr + 1)\n",
    "HC = TAnd(HCini, Box(HCnxt))\n"
   ]
  },
  {
   "cell_type": "markdown",
   "metadata": {},
   "source": [
    "Differentiation and Platzer's stuff.\n",
    "ODEs\n"
   ]
  },
  {
   "cell_type": "code",
   "execution_count": null,
   "metadata": {},
   "outputs": [],
   "source": []
  },
  {
   "cell_type": "markdown",
   "metadata": {},
   "source": [
    "# Intuitionistic Knuckle\n",
    "Deep embedding vs new kernel\n",
    "\n",
    "\n",
    "Abstract proof theory"
   ]
  },
  {
   "cell_type": "code",
   "execution_count": null,
   "metadata": {},
   "outputs": [],
   "source": [
    "from kdrag.all import *\n",
    "\n",
    "# Proofs are kind of open datatype conitaing subproofs and \n",
    "Proof = smt.DeclareSort(\"Proof\")\n",
    "prop = Function(\"prop\", Proof, Prop)\n",
    "# open datatype? Closed?\n",
    "Prop = smt.DeclareSort(\"Prop\")\n",
    "impl = Function(\"impl\", Prop, Prop)\n",
    "is_impl = Function(\"is_impl\", Prop, BoolSort())\n",
    "\n",
    "\n",
    "# The semantic interpretation of impl is a function\n",
    "def Impl(a,b): return ArraySort(Proof, Proof)\n",
    "# a partial function though.\n",
    "ArraySort(Proof,Proof,Proof,BoolSort())\n",
    "ArraySort(Proof,Option(Proof))\n",
    "\n",
    "\n",
    "\n",
    "wf = Function(\"wf\", Proof, BoolSort())\n",
    "kd.notation.wf.register(Proof, wf)\n",
    "\n",
    "\n",
    "\n",
    "\n"
   ]
  },
  {
   "cell_type": "code",
   "execution_count": null,
   "metadata": {},
   "outputs": [],
   "source": [
    "class Proof():\n",
    "    subproofs : list[\"Proof\"] \n",
    "    hyps: list[smt.BoolRef]\n",
    "    conc: smt.BoolRef\n",
    "\n",
    "def impE(pfab, pfa):\n",
    "    pfab.conc \n",
    "    hyps = pfab.hyps + [pfab.conc]\n",
    "    conc = pfa.conc\n",
    "    return Proof([pfab, pfa], hyps, conc)\n",
    "\n",
    "def \n",
    "\n",
    "def weaken(pfa, newhyp):\n",
    "    return Proof([pfa], pfa.hyps + [newhyp], pfa.conc)\n",
    "\n",
    "def swap(pf, i,j):\n",
    "    return Proof(pf ,pf.hyps, pf.conc)\n",
    "\n",
    "\n"
   ]
  }
 ],
 "metadata": {
  "kernelspec": {
   "display_name": ".venv",
   "language": "python",
   "name": "python3"
  },
  "language_info": {
   "codemirror_mode": {
    "name": "ipython",
    "version": 3
   },
   "file_extension": ".py",
   "mimetype": "text/x-python",
   "name": "python",
   "nbconvert_exporter": "python",
   "pygments_lexer": "ipython3",
   "version": "3.12.3"
  }
 },
 "nbformat": 4,
 "nbformat_minor": 2
}
