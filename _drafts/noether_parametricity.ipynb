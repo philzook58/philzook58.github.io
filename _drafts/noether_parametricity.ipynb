{
 "cells": [
  {
   "cell_type": "markdown",
   "id": "f58493a9",
   "metadata": {},
   "source": [
    "That Atkey Noether paper is interesting. https://bentnib.org/conservation-laws.html\n",
    "\n",
    "I have been saying that it feels like relational models could be mimicked / replaced by proablistic models. Information flow ought to be about entropy. There is something similar in that Noether like things become commutators with the Hamiltonian in QM, which in turn feels more like distributions\n",
    "\n",
    "Having differenation is kind of like having a relational model. We have a ball of related states.\n",
    "\n",
    "Functionals\n",
    "Structure and Interpretation of ClassicaL Mechanics\n",
    "Haskell stuff\n",
    "Physlean\n",
    "\n",
    "\n",
    "\n"
   ]
  }
 ],
 "metadata": {
  "language_info": {
   "name": "python"
  }
 },
 "nbformat": 4,
 "nbformat_minor": 5
}
