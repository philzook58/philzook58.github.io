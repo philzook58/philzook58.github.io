{
 "cells": [
  {
   "cell_type": "markdown",
   "id": "3aae1de0",
   "metadata": {},
   "source": [
    "Go. what is up with Go\n",
    "\n",
    "plan 9\n",
    "kenc\n",
    "\n",
    "\n",
    "\n",
    "swift\n",
    "\n"
   ]
  },
  {
   "cell_type": "code",
   "execution_count": null,
   "id": "b8238cd2",
   "metadata": {},
   "outputs": [
    {
     "name": "stdout",
     "output_type": "stream",
     "text": [
      "Overwriting /tmp/hello.go\n"
     ]
    }
   ],
   "source": [
    "%%file /tmp/hello.go\n",
    "package main\n",
    "import \"fmt\"\n",
    "\n",
    "var mybool bool\n",
    "\n",
    "func main() {\n",
    "    fmt.Println(\"Hello\")\n",
    "}"
   ]
  },
  {
   "cell_type": "code",
   "execution_count": 10,
   "id": "e38d867b",
   "metadata": {},
   "outputs": [
    {
     "name": "stdout",
     "output_type": "stream",
     "text": [
      "Hello\n"
     ]
    }
   ],
   "source": [
    "! /usr/local/go/bin/go run /tmp/hello.go"
   ]
  },
  {
   "cell_type": "code",
   "execution_count": null,
   "id": "2d46c574",
   "metadata": {},
   "outputs": [],
   "source": []
  }
 ],
 "metadata": {
  "kernelspec": {
   "display_name": "philzook58.github.io",
   "language": "python",
   "name": "python3"
  },
  "language_info": {
   "codemirror_mode": {
    "name": "ipython",
    "version": 3
   },
   "file_extension": ".py",
   "mimetype": "text/x-python",
   "name": "python",
   "nbconvert_exporter": "python",
   "pygments_lexer": "ipython3",
   "version": "3.12.3"
  }
 },
 "nbformat": 4,
 "nbformat_minor": 5
}
