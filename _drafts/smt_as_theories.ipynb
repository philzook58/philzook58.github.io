{
 "cells": [
  {
   "cell_type": "markdown",
   "id": "df2fde12",
   "metadata": {},
   "source": [
    "Brute force ematching\n",
    "\n",
    "\n",
    "Gluing of SMT solvers\n"
   ]
  },
  {
   "cell_type": "code",
   "execution_count": null,
   "id": "8efa6de2",
   "metadata": {
    "vscode": {
     "languageId": "plaintext"
    }
   },
   "outputs": [],
   "source": [
    "class Theory():\n",
    "    def assert_eq(self, a: Any, b: Any) -> Any: ...\n",
    "    def fresh(self) -> : ...\n",
    "    def eq(self, a: Any, b: Any) -> bool: ...\n",
    "    def check(self) -> bool: ...\n",
    "    def push(self) -> None: ...\n",
    "\n",
    "\n",
    "class Solver():\n",
    "    def __init__(self):\n",
    "        self.outer = smt.Solver()\n",
    "        self.theories = []\n",
    "    def register_theory(self, theory)\n",
    "        self.theories.append(theory)\n",
    "    \n"
   ]
  }
 ],
 "metadata": {
  "language_info": {
   "name": "python"
  }
 },
 "nbformat": 4,
 "nbformat_minor": 5
}
