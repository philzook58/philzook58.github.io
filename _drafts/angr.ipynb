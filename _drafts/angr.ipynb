{
 "cells": [
  {
   "cell_type": "markdown",
   "metadata": {},
   "source": [
    "WCET\n",
    "Interrupts\n",
    "Get semantic into knuckle\n",
    "\n",
    "\n",
    "Cryptol examples\n",
    "Low* \n"
   ]
  },
  {
   "cell_type": "code",
   "execution_count": 2,
   "metadata": {},
   "outputs": [
    {
     "name": "stdout",
     "output_type": "stream",
     "text": [
      "Writing /tmp/hello.c\n"
     ]
    }
   ],
   "source": [
    "%%file /tmp/hello.c\n",
    "\n",
    "int main(){\n",
    "    return 3;\n",
    "}"
   ]
  },
  {
   "cell_type": "code",
   "execution_count": 4,
   "metadata": {},
   "outputs": [],
   "source": [
    "!gcc /tmp/hello.c -o /tmp/hello"
   ]
  },
  {
   "cell_type": "code",
   "execution_count": 5,
   "metadata": {},
   "outputs": [
    {
     "name": "stdout",
     "output_type": "stream",
     "text": [
      "0000000000001129 <main>:\n",
      "    1129:\tf3 0f 1e fa          \tendbr64 \n",
      "    112d:\t55                   \tpush   %rbp\n",
      "    112e:\t48 89 e5             \tmov    %rsp,%rbp\n",
      "    1131:\tb8 03 00 00 00       \tmov    $0x3,%eax\n",
      "    1136:\t5d                   \tpop    %rbp\n",
      "    1137:\tc3                   \tret    \n",
      "\n",
      "Disassembly of section .fini:\n",
      "\n",
      "0000000000001138 <_fini>:\n",
      "    1138:\tf3 0f 1e fa          \tendbr64 \n",
      "    113c:\t48 83 ec 08          \tsub    $0x8,%rsp\n",
      "    1140:\t48 83 c4 08          \tadd    $0x8,%rsp\n",
      "    1144:\tc3                   \tret    \n"
     ]
    }
   ],
   "source": [
    "!objdump -d /tmp/hello | grep main.: -A20"
   ]
  },
  {
   "cell_type": "code",
   "execution_count": 1,
   "metadata": {},
   "outputs": [
    {
     "name": "stderr",
     "output_type": "stream",
     "text": [
      "WARNING  | 2025-01-03 11:10:44,200 | archinfo.arch_pcode | Unexpected SP conflict\n",
      "WARNING  | 2025-01-03 11:10:44,336 | cle.backends.elf.elf | User specified <Arch x86:LE:64:default (LE)> but autodetected <Arch AMD64 (LE)>. Proceed with caution.\n",
      "WARNING  | 2025-01-03 11:10:44,338 | cle.backends.elf.relocation | Unknown reloc 8 on x86:LE:64:default\n",
      "WARNING  | 2025-01-03 11:10:44,339 | cle.backends.elf.relocation | Unknown reloc 6 on x86:LE:64:default\n"
     ]
    }
   ],
   "source": [
    "import angr\n",
    "import archinfo\n",
    "arch = archinfo.ArchPcode(\"x86:LE:64:default\")\n",
    "proj = angr.Project(\"/tmp/hello\",arch=arch, engine=angr.engines.UberEnginePcode)"
   ]
  },
  {
   "cell_type": "code",
   "execution_count": 2,
   "metadata": {},
   "outputs": [
    {
     "name": "stdout",
     "output_type": "stream",
     "text": [
      "        _start:\n",
      "401040  ENDBR64 \n",
      "401044  XOR     EBP, EBP\n",
      "401046  MOV     R9, RDX\n",
      "401049  POP     RSI\n",
      "40104a  MOV     RDX, RSP\n",
      "40104d  AND     RSP, -0x10\n",
      "401051  PUSH    RAX\n",
      "401052  PUSH    RSP\n",
      "401053  XOR     R8D, R8D\n",
      "401056  XOR     ECX, ECX\n",
      "401058  LEA     RDI, [main]\n",
      "40105f  CALL    qwordptr[0x403fd8]\n"
     ]
    }
   ],
   "source": [
    "state = proj.factory.entry_state()\n",
    "state.block().pp()"
   ]
  },
  {
   "cell_type": "code",
   "execution_count": 12,
   "metadata": {},
   "outputs": [
    {
     "data": {
      "text/plain": [
       "<Block for 0x401129, 4 bytes>"
      ]
     },
     "execution_count": 12,
     "metadata": {},
     "output_type": "execute_result"
    }
   ],
   "source": [
    "ins = proj.factory.block(0x401129, size=4)\n",
    "ins"
   ]
  },
  {
   "cell_type": "code",
   "execution_count": 6,
   "metadata": {},
   "outputs": [],
   "source": [
    "state = proj.factory.call_state(0x401129)\n",
    "#state.step()\n",
    "b = state.block()\n"
   ]
  },
  {
   "cell_type": "code",
   "execution_count": 46,
   "metadata": {},
   "outputs": [
    {
     "name": "stderr",
     "output_type": "stream",
     "text": [
      "WARNING  | 2025-01-03 09:48:55,915 | angr.storage.memory_mixins.default_filler_mixin | Filling register rbp with 8 unconstrained bytes referenced from 0x40112d (main+0x4 in hello (0x112d))\n"
     ]
    },
    {
     "data": {
      "text/plain": [
       "<BV64 0x3>"
      ]
     },
     "execution_count": 46,
     "metadata": {},
     "output_type": "execute_result"
    }
   ],
   "source": [
    "state = proj.factory.call_state(0x401129)\n",
    "s2 = state.step()\n",
    "s2, = s2.successors\n",
    "r = s2.registers\n",
    "s2.regs.rax"
   ]
  },
  {
   "cell_type": "code",
   "execution_count": 63,
   "metadata": {},
   "outputs": [
    {
     "ename": "AttributeError",
     "evalue": "'AngrObjectFactory' object has no attribute 'path'",
     "output_type": "error",
     "traceback": [
      "\u001b[0;31m---------------------------------------------------------------------------\u001b[0m",
      "\u001b[0;31mAttributeError\u001b[0m                            Traceback (most recent call last)",
      "Cell \u001b[0;32mIn[63], line 1\u001b[0m\n\u001b[0;32m----> 1\u001b[0m \u001b[43mproj\u001b[49m\u001b[38;5;241;43m.\u001b[39;49m\u001b[43mfactory\u001b[49m\u001b[38;5;241;43m.\u001b[39;49m\u001b[43mpath\u001b[49m()\n",
      "\u001b[0;31mAttributeError\u001b[0m: 'AngrObjectFactory' object has no attribute 'path'"
     ]
    }
   ],
   "source": []
  },
  {
   "cell_type": "markdown",
   "metadata": {},
   "source": [
    "Right. one of the breakpoints is address concretization. Their memory model is \n",
    "\n",
    "https://github.com/angr/angr/blob/master/angr/engines/pcode/emulate.py basic pcode interpreter\n",
    "https://github.com/angr/angr/blob/master/angr/engines/pcode/behavior.py \"behavior\". There is a diciontary at the bottom\n",
    "\n",
    "I can't believe the amount of indirection there is in here.\n",
    "\n",
    "Ok, but even \n",
    "\n",
    "Maybe subclass the pcodenegine mixin."
   ]
  },
  {
   "cell_type": "code",
   "execution_count": 83,
   "metadata": {},
   "outputs": [
    {
     "data": {
      "text/plain": [
       "1"
      ]
     },
     "execution_count": 83,
     "metadata": {},
     "output_type": "execute_result"
    }
   ],
   "source": [
    "b = angr.engines.pcode.behavior.BehaviorFactory()\n",
    "from pypcode import OpCode\n",
    "import claripy\n",
    "claripy.backends.z3.convert(b.get_behavior_for_opcode(OpCode.BOOL_AND).evaluate_binary(1,1,claripy.BVV(1,8),claripy.BVV(1,8)))"
   ]
  },
  {
   "cell_type": "code",
   "execution_count": 81,
   "metadata": {},
   "outputs": [
    {
     "data": {
      "text/html": [
       "x_165_8"
      ],
      "text/plain": [
       "x_165_8"
      ]
     },
     "execution_count": 81,
     "metadata": {},
     "output_type": "execute_result"
    }
   ],
   "source": [
    "x = claripy.BVS(\"x\", 8) #.dbg_repr()\n",
    "import claripy.backends.backend_z3\n",
    "#claripy.backends.backend_z3.BackendZ3().convert(x)\n",
    "claripy.backends.z3.convert(x)"
   ]
  },
  {
   "cell_type": "code",
   "execution_count": 47,
   "metadata": {},
   "outputs": [
    {
     "data": {
      "text/plain": [
       "<angr.state_plugins.inspect.SimInspector at 0x799b69cd07c0>"
      ]
     },
     "execution_count": 47,
     "metadata": {},
     "output_type": "execute_result"
    }
   ],
   "source": [
    "state.inspect."
   ]
  },
  {
   "cell_type": "code",
   "execution_count": 16,
   "metadata": {},
   "outputs": [
    {
     "data": {
      "text/plain": [
       "<Symbol \"main\" in hello at 0x401129>"
      ]
     },
     "execution_count": 16,
     "metadata": {},
     "output_type": "execute_result"
    }
   ],
   "source": [
    "main_symbol = proj.loader.main_object.get_symbol(\"main\")\n",
    "main_symbol"
   ]
  },
  {
   "cell_type": "markdown",
   "metadata": {},
   "source": [
    "pywasm https://github.com/mohanson/pywasm\n",
    "https://github.com/AntonLydike/riscemu\n",
    "\n",
    "https://github.com/codypierce/pyemu x86\n",
    "https://github.com/ForceBru/PyVM\n",
    "\n",
    "https://github.com/mnaberez/py65 6502"
   ]
  },
  {
   "cell_type": "code",
   "execution_count": 14,
   "metadata": {},
   "outputs": [
    {
     "ename": "AssertionError",
     "evalue": "self.selected_ins_sets cannot be empty",
     "output_type": "error",
     "traceback": [
      "\u001b[0;31m---------------------------------------------------------------------------\u001b[0m",
      "\u001b[0;31mAssertionError\u001b[0m                            Traceback (most recent call last)",
      "Cell \u001b[0;32mIn[14], line 20\u001b[0m\n\u001b[1;32m     17\u001b[0m emulator\u001b[38;5;241m.\u001b[39mregister_all_program_loaders()\n\u001b[1;32m     19\u001b[0m \u001b[38;5;66;03m# Call the run method to start the emulator\u001b[39;00m\n\u001b[0;32m---> 20\u001b[0m \u001b[43memulator\u001b[49m\u001b[38;5;241;43m.\u001b[39;49m\u001b[43mrun\u001b[49m\u001b[43m(\u001b[49m\u001b[43m)\u001b[49m\n",
      "File \u001b[0;32m~/.local/lib/python3.10/site-packages/riscemu/riscemu_main.py:310\u001b[0m, in \u001b[0;36mRiscemuMain.run\u001b[0;34m(self)\u001b[0m\n\u001b[1;32m    300\u001b[0m \u001b[38;5;250m\u001b[39m\u001b[38;5;124;03m\"\"\"\u001b[39;00m\n\u001b[1;32m    301\u001b[0m \u001b[38;5;124;03mThis assumes that these values were set externally:\u001b[39;00m\n\u001b[1;32m    302\u001b[0m \n\u001b[0;32m   (...)\u001b[0m\n\u001b[1;32m    307\u001b[0m \u001b[38;5;124;03m - selected_ins_sets: A list of instruction sets the CPU should support.\u001b[39;00m\n\u001b[1;32m    308\u001b[0m \u001b[38;5;124;03m\"\"\"\u001b[39;00m\n\u001b[1;32m    309\u001b[0m \u001b[38;5;28;01massert\u001b[39;00m \u001b[38;5;28mself\u001b[39m\u001b[38;5;241m.\u001b[39mcfg \u001b[38;5;129;01mis\u001b[39;00m \u001b[38;5;129;01mnot\u001b[39;00m \u001b[38;5;28;01mNone\u001b[39;00m, \u001b[38;5;124m\"\u001b[39m\u001b[38;5;124mself.cfg must be set before calling run()\u001b[39m\u001b[38;5;124m\"\u001b[39m\n\u001b[0;32m--> 310\u001b[0m \u001b[38;5;28;01massert\u001b[39;00m \u001b[38;5;28mself\u001b[39m\u001b[38;5;241m.\u001b[39mselected_ins_sets, \u001b[38;5;124m\"\u001b[39m\u001b[38;5;124mself.selected_ins_sets cannot be empty\u001b[39m\u001b[38;5;124m\"\u001b[39m\n\u001b[1;32m    311\u001b[0m \u001b[38;5;28;01massert\u001b[39;00m \u001b[38;5;28mself\u001b[39m\u001b[38;5;241m.\u001b[39minput_files, \u001b[38;5;124m\"\u001b[39m\u001b[38;5;124mself.input_files cannot be empty\u001b[39m\u001b[38;5;124m\"\u001b[39m\n\u001b[1;32m    313\u001b[0m \u001b[38;5;28;01mif\u001b[39;00m \u001b[38;5;28mself\u001b[39m\u001b[38;5;241m.\u001b[39mcfg\u001b[38;5;241m.\u001b[39muse_libc:\n",
      "\u001b[0;31mAssertionError\u001b[0m: self.selected_ins_sets cannot be empty"
     ]
    }
   ],
   "source": [
    "import riscemu\n",
    "\n",
    "from riscemu.riscemu_main import RiscemuMain, RunConfig\n",
    "\n",
    "# Create an instance of the RiscemuMain class\n",
    "emulator = RiscemuMain()\n",
    "\n",
    "# Set the configuration (this is just an example; set according to your needs)\n",
    "config = RunConfig(stack_size=8192, verbosity=1, flen=64)\n",
    "emulator.cfg = config\n",
    "\n",
    "# Set the input files (example assembly files)\n",
    "emulator.input_files = [\"path/to/your/assembly/file.asm\"]\n",
    "\n",
    "# Register all available instruction sets and program loaders\n",
    "emulator.register_all_isas()\n",
    "emulator.register_all_program_loaders()\n",
    "\n",
    "# Call the run method to start the emulator\n",
    "emulator.run()\n",
    "cpu = UserModeCPU(self.selected_ins_sets, self.cfg)\n",
    "cpu.setup_stack(self.cfg.stack_size)\n",
    "cpu.launch(self.cfg.verbosity > 1)"
   ]
  }
 ],
 "metadata": {
  "kernelspec": {
   "display_name": "Python 3",
   "language": "python",
   "name": "python3"
  },
  "language_info": {
   "codemirror_mode": {
    "name": "ipython",
    "version": 3
   },
   "file_extension": ".py",
   "mimetype": "text/x-python",
   "name": "python",
   "nbconvert_exporter": "python",
   "pygments_lexer": "ipython3",
   "version": "3.10.12"
  }
 },
 "nbformat": 4,
 "nbformat_minor": 2
}
