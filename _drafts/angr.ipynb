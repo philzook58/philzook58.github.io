{
 "cells": [
  {
   "cell_type": "markdown",
   "metadata": {},
   "source": [
    "WCET\n",
    "Interrupts\n",
    "Get semantic into knuckle\n",
    "\n",
    "\n",
    "Cryptol examples https://tools.galois.com/cryptol\n",
    "\n",
    "Low*  \n",
    "\n",
    "https://link.springer.com/chapter/10.1007/978-3-030-45237-7_6 Highly Automated Formal Proofs over Memory Usage of Assembly Code\n",
    "https://link.springer.com/10.1007/978-3-319-72308-2_5?fromPaywallRec=false branch free assembly why3\n",
    "\n",
    "\n",
    "jvm\n",
    "evm\n",
    "wasm\n",
    "might be interesting targets. hmm.\n"
   ]
  },
  {
   "cell_type": "code",
   "execution_count": 14,
   "metadata": {},
   "outputs": [
    {
     "name": "stdout",
     "output_type": "stream",
     "text": [
      "Overwriting /tmp/hello.c\n"
     ]
    }
   ],
   "source": [
    "%%file /tmp/hello.c\n",
    "\n",
    "int main(){\n",
    "    return 3;\n",
    "}"
   ]
  },
  {
   "cell_type": "code",
   "execution_count": 16,
   "metadata": {},
   "outputs": [],
   "source": [
    "!gcc /tmp/hello.c -o /tmp/hello"
   ]
  },
  {
   "cell_type": "code",
   "execution_count": 17,
   "metadata": {},
   "outputs": [
    {
     "name": "stdout",
     "output_type": "stream",
     "text": [
      "0000000000001129 <main>:\n",
      "    1129:\tf3 0f 1e fa          \tendbr64\n",
      "    112d:\t55                   \tpush   %rbp\n",
      "    112e:\t48 89 e5             \tmov    %rsp,%rbp\n",
      "    1131:\tb8 03 00 00 00       \tmov    $0x3,%eax\n",
      "    1136:\t5d                   \tpop    %rbp\n",
      "    1137:\tc3                   \tret\n",
      "\n",
      "Disassembly of section .fini:\n",
      "\n",
      "0000000000001138 <_fini>:\n",
      "    1138:\tf3 0f 1e fa          \tendbr64\n",
      "    113c:\t48 83 ec 08          \tsub    $0x8,%rsp\n",
      "    1140:\t48 83 c4 08          \tadd    $0x8,%rsp\n",
      "    1144:\tc3                   \tret\n"
     ]
    }
   ],
   "source": [
    "!objdump -d /tmp/hello | grep main.: -A20"
   ]
  },
  {
   "cell_type": "code",
   "execution_count": 18,
   "metadata": {},
   "outputs": [],
   "source": [
    "import angr\n",
    "import archinfo\n",
    "\n",
    "proj = angr.Project(\"/tmp/hello\")\n",
    "#arch = archinfo.ArchPcode(\"x86:LE:64:default\")\n",
    "#proj = angr.Project(\"/tmp/hello\",arch=arch, engine=angr.engines.UberEnginePcode)\n",
    "\n"
   ]
  },
  {
   "cell_type": "markdown",
   "metadata": {},
   "source": [
    "There's no tutorial, but it's pretty easy to figure out yourself. There's a bunch of examples in this directory: https://github.com/angr/angr/tree/master/angr/storage/memory_mixins\n",
    "basically subclass MemoryMixin and write a load and store method\n",
    " on slotted_memory.py"
   ]
  },
  {
   "cell_type": "code",
   "execution_count": 19,
   "metadata": {},
   "outputs": [
    {
     "ename": "ImportError",
     "evalue": "cannot import name 'MemoryMixin' from 'angr.storage.memory_mixins' (/home/philip/philzook58.github.io/.venv/lib/python3.12/site-packages/angr/storage/memory_mixins/__init__.py)",
     "output_type": "error",
     "traceback": [
      "\u001b[0;31m---------------------------------------------------------------------------\u001b[0m",
      "\u001b[0;31mImportError\u001b[0m                               Traceback (most recent call last)",
      "Cell \u001b[0;32mIn[19], line 1\u001b[0m\n\u001b[0;32m----> 1\u001b[0m \u001b[38;5;28;01mfrom\u001b[39;00m\u001b[38;5;250m \u001b[39m\u001b[38;5;21;01mangr\u001b[39;00m\u001b[38;5;21;01m.\u001b[39;00m\u001b[38;5;21;01mstorage\u001b[39;00m\u001b[38;5;21;01m.\u001b[39;00m\u001b[38;5;21;01mmemory_mixins\u001b[39;00m\u001b[38;5;250m \u001b[39m\u001b[38;5;28;01mimport\u001b[39;00m MemoryMixin\n\u001b[1;32m      3\u001b[0m \u001b[38;5;28;01mclass\u001b[39;00m\u001b[38;5;250m \u001b[39m\u001b[38;5;21;01mCustomMemoryMixin\u001b[39;00m(MemoryMixin):\n\u001b[1;32m      4\u001b[0m     \u001b[38;5;28;01mdef\u001b[39;00m\u001b[38;5;250m \u001b[39m\u001b[38;5;21mload\u001b[39m(\u001b[38;5;28mself\u001b[39m, addr, size\u001b[38;5;241m=\u001b[39m\u001b[38;5;28;01mNone\u001b[39;00m, \u001b[38;5;241m*\u001b[39m\u001b[38;5;241m*\u001b[39mkwargs):\n",
      "\u001b[0;31mImportError\u001b[0m: cannot import name 'MemoryMixin' from 'angr.storage.memory_mixins' (/home/philip/philzook58.github.io/.venv/lib/python3.12/site-packages/angr/storage/memory_mixins/__init__.py)"
     ]
    }
   ],
   "source": [
    "from angr.storage.memory_mixins import MemoryMixin\n",
    "\n",
    "class CustomMemoryMixin(MemoryMixin):\n",
    "    def load(self, addr, size=None, **kwargs):\n",
    "        print(f\"Custom Load: Address={addr}, Size={size}\")\n",
    "        return super().load(addr, size, **kwargs)\n",
    "\n",
    "    def store(self, addr, data, **kwargs):\n",
    "        print(f\"Custom Store: Address={addr}, Data={data}\")\n",
    "        super().store(addr, data, **kwargs)\n",
    "from angr.storage import Memory\n",
    "\n",
    "class CustomMemory(CustomMemoryMixin, Memory):\n",
    "    pass\n",
    "import angr\n",
    "import archinfo\n",
    "\n"
   ]
  },
  {
   "cell_type": "code",
   "execution_count": 57,
   "metadata": {},
   "outputs": [
    {
     "ename": "SimMemoryError",
     "evalue": "Trying to allocate stack space in a place that isn't the top of the stack",
     "output_type": "error",
     "traceback": [
      "\u001b[0;31m---------------------------------------------------------------------------\u001b[0m",
      "\u001b[0;31mSimMemoryError\u001b[0m                            Traceback (most recent call last)",
      "Cell \u001b[0;32mIn[57], line 11\u001b[0m\n\u001b[1;32m      9\u001b[0m         \u001b[38;5;28mprint\u001b[39m(\u001b[38;5;124mf\u001b[39m\u001b[38;5;124m\"\u001b[39m\u001b[38;5;124mCustom Store: Address=\u001b[39m\u001b[38;5;132;01m{\u001b[39;00maddr\u001b[38;5;132;01m}\u001b[39;00m\u001b[38;5;124m, Data=\u001b[39m\u001b[38;5;132;01m{\u001b[39;00mdata\u001b[38;5;132;01m}\u001b[39;00m\u001b[38;5;124m\"\u001b[39m)\n\u001b[1;32m     10\u001b[0m         \u001b[38;5;28msuper\u001b[39m()\u001b[38;5;241m.\u001b[39mstore(addr, data, \u001b[38;5;241m*\u001b[39m\u001b[38;5;241m*\u001b[39mkwargs)\n\u001b[0;32m---> 11\u001b[0m state \u001b[38;5;241m=\u001b[39m \u001b[43mproj\u001b[49m\u001b[38;5;241;43m.\u001b[39;49m\u001b[43mfactory\u001b[49m\u001b[38;5;241;43m.\u001b[39;49m\u001b[43mcall_state\u001b[49m\u001b[43m(\u001b[49m\u001b[38;5;241;43m0x401129\u001b[39;49m\u001b[43m,\u001b[49m\u001b[43m \u001b[49m\u001b[43mplugins\u001b[49m\u001b[38;5;241;43m=\u001b[39;49m\u001b[43m{\u001b[49m\u001b[38;5;124;43m'\u001b[39;49m\u001b[38;5;124;43mmemory\u001b[39;49m\u001b[38;5;124;43m'\u001b[39;49m\u001b[43m:\u001b[49m\u001b[43m \u001b[49m\u001b[43mDefaultMemory\u001b[49m\u001b[43m(\u001b[49m\u001b[43m)\u001b[49m\u001b[43m}\u001b[49m\u001b[43m)\u001b[49m\n\u001b[1;32m     12\u001b[0m \u001b[38;5;66;03m#state.memory = AbstractMemory()\u001b[39;00m\n\u001b[1;32m     13\u001b[0m state\u001b[38;5;241m.\u001b[39mblock()\u001b[38;5;241m.\u001b[39mpp()\n",
      "File \u001b[0;32m~/philzook58.github.io/.venv/lib/python3.12/site-packages/angr/factory.py:199\u001b[0m, in \u001b[0;36mAngrObjectFactory.call_state\u001b[0;34m(self, addr, *args, **kwargs)\u001b[0m\n\u001b[1;32m    157\u001b[0m \u001b[38;5;28;01mdef\u001b[39;00m\u001b[38;5;250m \u001b[39m\u001b[38;5;21mcall_state\u001b[39m(\u001b[38;5;28mself\u001b[39m, addr, \u001b[38;5;241m*\u001b[39margs, \u001b[38;5;241m*\u001b[39m\u001b[38;5;241m*\u001b[39mkwargs):\n\u001b[1;32m    158\u001b[0m \u001b[38;5;250m    \u001b[39m\u001b[38;5;124;03m\"\"\"\u001b[39;00m\n\u001b[1;32m    159\u001b[0m \u001b[38;5;124;03m    Returns a state object initialized to the start of a given function, as if it were called with given parameters.\u001b[39;00m\n\u001b[1;32m    160\u001b[0m \n\u001b[0;32m   (...)\u001b[0m\n\u001b[1;32m    197\u001b[0m \u001b[38;5;124;03m    allocations happen at increasing addresses.\u001b[39;00m\n\u001b[1;32m    198\u001b[0m \u001b[38;5;124;03m    \"\"\"\u001b[39;00m\n\u001b[0;32m--> 199\u001b[0m     \u001b[38;5;28;01mreturn\u001b[39;00m \u001b[38;5;28;43mself\u001b[39;49m\u001b[38;5;241;43m.\u001b[39;49m\u001b[43mproject\u001b[49m\u001b[38;5;241;43m.\u001b[39;49m\u001b[43msimos\u001b[49m\u001b[38;5;241;43m.\u001b[39;49m\u001b[43mstate_call\u001b[49m\u001b[43m(\u001b[49m\u001b[43maddr\u001b[49m\u001b[43m,\u001b[49m\u001b[43m \u001b[49m\u001b[38;5;241;43m*\u001b[39;49m\u001b[43margs\u001b[49m\u001b[43m,\u001b[49m\u001b[43m \u001b[49m\u001b[38;5;241;43m*\u001b[39;49m\u001b[38;5;241;43m*\u001b[39;49m\u001b[43mkwargs\u001b[49m\u001b[43m)\u001b[49m\n",
      "File \u001b[0;32m~/philzook58.github.io/.venv/lib/python3.12/site-packages/angr/simos/simos.py:258\u001b[0m, in \u001b[0;36mSimOS.state_call\u001b[0;34m(self, addr, *args, **kwargs)\u001b[0m\n\u001b[1;32m    256\u001b[0m     \u001b[38;5;28;01mif\u001b[39;00m stack_base \u001b[38;5;129;01mis\u001b[39;00m \u001b[38;5;129;01mnot\u001b[39;00m \u001b[38;5;28;01mNone\u001b[39;00m:\n\u001b[1;32m    257\u001b[0m         kwargs[\u001b[38;5;124m\"\u001b[39m\u001b[38;5;124mstack_end\u001b[39m\u001b[38;5;124m\"\u001b[39m] \u001b[38;5;241m=\u001b[39m (stack_base \u001b[38;5;241m+\u001b[39m \u001b[38;5;241m0x1000\u001b[39m) \u001b[38;5;241m&\u001b[39m \u001b[38;5;241m~\u001b[39m\u001b[38;5;241m0xFFF\u001b[39m\n\u001b[0;32m--> 258\u001b[0m     state \u001b[38;5;241m=\u001b[39m \u001b[38;5;28;43mself\u001b[39;49m\u001b[38;5;241;43m.\u001b[39;49m\u001b[43mstate_blank\u001b[49m\u001b[43m(\u001b[49m\u001b[43maddr\u001b[49m\u001b[38;5;241;43m=\u001b[39;49m\u001b[43maddr\u001b[49m\u001b[43m,\u001b[49m\u001b[43m \u001b[49m\u001b[38;5;241;43m*\u001b[39;49m\u001b[38;5;241;43m*\u001b[39;49m\u001b[43mkwargs\u001b[49m\u001b[43m)\u001b[49m\n\u001b[1;32m    259\u001b[0m \u001b[38;5;28;01melse\u001b[39;00m:\n\u001b[1;32m    260\u001b[0m     state \u001b[38;5;241m=\u001b[39m state\u001b[38;5;241m.\u001b[39mcopy()\n",
      "File \u001b[0;32m~/philzook58.github.io/.venv/lib/python3.12/site-packages/angr/simos/linux.py:216\u001b[0m, in \u001b[0;36mSimLinux.state_blank\u001b[0;34m(self, fs, concrete_fs, chroot, cwd, pathsep, thread_idx, init_libc, **kwargs)\u001b[0m\n\u001b[1;32m    214\u001b[0m \u001b[38;5;66;03m# pre-grow the stack by 0x20 pages. unsure if this is strictly required or just a hack around a compiler bug\u001b[39;00m\n\u001b[1;32m    215\u001b[0m \u001b[38;5;28;01mif\u001b[39;00m \u001b[38;5;129;01mnot\u001b[39;00m \u001b[38;5;28mself\u001b[39m\u001b[38;5;241m.\u001b[39m_is_core \u001b[38;5;129;01mand\u001b[39;00m \u001b[38;5;28mhasattr\u001b[39m(state\u001b[38;5;241m.\u001b[39mmemory, \u001b[38;5;124m\"\u001b[39m\u001b[38;5;124mallocate_stack_pages\u001b[39m\u001b[38;5;124m\"\u001b[39m):\n\u001b[0;32m--> 216\u001b[0m     \u001b[43mstate\u001b[49m\u001b[38;5;241;43m.\u001b[39;49m\u001b[43mmemory\u001b[49m\u001b[38;5;241;43m.\u001b[39;49m\u001b[43mallocate_stack_pages\u001b[49m\u001b[43m(\u001b[49m\u001b[43mstate\u001b[49m\u001b[38;5;241;43m.\u001b[39;49m\u001b[43msolver\u001b[49m\u001b[38;5;241;43m.\u001b[39;49m\u001b[43meval\u001b[49m\u001b[43m(\u001b[49m\u001b[43mstate\u001b[49m\u001b[38;5;241;43m.\u001b[39;49m\u001b[43mregs\u001b[49m\u001b[38;5;241;43m.\u001b[39;49m\u001b[43msp\u001b[49m\u001b[43m)\u001b[49m\u001b[43m \u001b[49m\u001b[38;5;241;43m-\u001b[39;49m\u001b[43m \u001b[49m\u001b[38;5;241;43m1\u001b[39;49m\u001b[43m,\u001b[49m\u001b[43m \u001b[49m\u001b[38;5;241;43m0x20\u001b[39;49m\u001b[43m \u001b[49m\u001b[38;5;241;43m*\u001b[39;49m\u001b[43m \u001b[49m\u001b[38;5;241;43m0x1000\u001b[39;49m\u001b[43m)\u001b[49m\n\u001b[1;32m    218\u001b[0m \u001b[38;5;28;01mif\u001b[39;00m \u001b[38;5;28mself\u001b[39m\u001b[38;5;241m.\u001b[39mproject\u001b[38;5;241m.\u001b[39mloader\u001b[38;5;241m.\u001b[39mtls\u001b[38;5;241m.\u001b[39mthreads:\n\u001b[1;32m    219\u001b[0m     tls_obj \u001b[38;5;241m=\u001b[39m \u001b[38;5;28mself\u001b[39m\u001b[38;5;241m.\u001b[39mproject\u001b[38;5;241m.\u001b[39mloader\u001b[38;5;241m.\u001b[39mtls\u001b[38;5;241m.\u001b[39mthreads[thread_idx \u001b[38;5;28;01mif\u001b[39;00m thread_idx \u001b[38;5;129;01mis\u001b[39;00m \u001b[38;5;129;01mnot\u001b[39;00m \u001b[38;5;28;01mNone\u001b[39;00m \u001b[38;5;28;01melse\u001b[39;00m \u001b[38;5;241m0\u001b[39m]\n",
      "File \u001b[0;32m~/philzook58.github.io/.venv/lib/python3.12/site-packages/angr/storage/memory_mixins/paged_memory/stack_allocation_mixin.py:44\u001b[0m, in \u001b[0;36mStackAllocationMixin.allocate_stack_pages\u001b[0;34m(self, addr, size, **kwargs)\u001b[0m\n\u001b[1;32m     42\u001b[0m pageno \u001b[38;5;241m=\u001b[39m addr \u001b[38;5;241m/\u001b[39m\u001b[38;5;241m/\u001b[39m \u001b[38;5;28mself\u001b[39m\u001b[38;5;241m.\u001b[39mpage_size\n\u001b[1;32m     43\u001b[0m \u001b[38;5;28;01mif\u001b[39;00m pageno \u001b[38;5;241m!=\u001b[39m \u001b[38;5;28mself\u001b[39m\u001b[38;5;241m.\u001b[39m_red_pageno:\n\u001b[0;32m---> 44\u001b[0m     \u001b[38;5;28;01mraise\u001b[39;00m SimMemoryError(\u001b[38;5;124m\"\u001b[39m\u001b[38;5;124mTrying to allocate stack space in a place that isn\u001b[39m\u001b[38;5;124m'\u001b[39m\u001b[38;5;124mt the top of the stack\u001b[39m\u001b[38;5;124m\"\u001b[39m)\n\u001b[1;32m     45\u001b[0m num \u001b[38;5;241m=\u001b[39m pageno \u001b[38;5;241m-\u001b[39m ((addr \u001b[38;5;241m-\u001b[39m size \u001b[38;5;241m+\u001b[39m \u001b[38;5;241m1\u001b[39m) \u001b[38;5;241m/\u001b[39m\u001b[38;5;241m/\u001b[39m \u001b[38;5;28mself\u001b[39m\u001b[38;5;241m.\u001b[39mpage_size) \u001b[38;5;241m+\u001b[39m \u001b[38;5;241m1\u001b[39m\n\u001b[1;32m     47\u001b[0m result \u001b[38;5;241m=\u001b[39m []\n",
      "\u001b[0;31mSimMemoryError\u001b[0m: Trying to allocate stack space in a place that isn't the top of the stack"
     ]
    }
   ],
   "source": [
    "#proj = angr.Project(\"/tmp/hello\")\n",
    "from angr.storage.memory_mixins import DefaultMemory, AbstractMemory\n",
    "class CustomMemory():\n",
    "    def load(self, addr, size=None, **kwargs):\n",
    "        print(f\"Custom Load: Address={addr}, Size={size}\")\n",
    "        return super().load(addr, size, **kwargs)\n",
    "\n",
    "    def store(self, addr, data, **kwargs):\n",
    "        print(f\"Custom Store: Address={addr}, Data={data}\")\n",
    "        super().store(addr, data, **kwargs)\n",
    "state = proj.factory.call_state(0x401129, plugins={'memory': DefaultMemory()})\n",
    "#state.memory = AbstractMemory()\n",
    "state.block().pp()\n",
    "print(state.regs.pc)\n",
    "\n",
    "simgr = proj.factory.simulation_manager(state)\n",
    "simgr.step(num_inst=2)\n",
    "simgr.active[0].block().pp()\n",
    "#simgr.active[0].memory.\n",
    "\n",
    "#state.memory"
   ]
  },
  {
   "cell_type": "code",
   "execution_count": null,
   "metadata": {},
   "outputs": [],
   "source": [
    "state = SimState(arch=\"x86\", mode=\"symbolic\", plugins={\"memory\": memcls()})"
   ]
  },
  {
   "cell_type": "code",
   "execution_count": null,
   "metadata": {},
   "outputs": [
    {
     "ename": "AttributeError",
     "evalue": "'CustomMemory' object has no attribute 'SUPPORTS_CONCRETE_LOAD'",
     "output_type": "error",
     "traceback": [
      "\u001b[0;31m---------------------------------------------------------------------------\u001b[0m",
      "\u001b[0;31mAttributeError\u001b[0m                            Traceback (most recent call last)",
      "Cell \u001b[0;32mIn[33], line 1\u001b[0m\n\u001b[0;32m----> 1\u001b[0m \u001b[43mstate\u001b[49m\u001b[38;5;241;43m.\u001b[39;49m\u001b[43mblock\u001b[49m\u001b[43m(\u001b[49m\u001b[43m)\u001b[49m\n",
      "File \u001b[0;32m~/philzook58.github.io/.venv/lib/python3.12/site-packages/angr/sim_state.py:530\u001b[0m, in \u001b[0;36mSimState.block\u001b[0;34m(self, *args, **kwargs)\u001b[0m\n\u001b[1;32m    528\u001b[0m \u001b[38;5;28;01mif\u001b[39;00m \u001b[38;5;129;01mnot\u001b[39;00m args \u001b[38;5;129;01mand\u001b[39;00m \u001b[38;5;124m\"\u001b[39m\u001b[38;5;124maddr\u001b[39m\u001b[38;5;124m\"\u001b[39m \u001b[38;5;129;01mnot\u001b[39;00m \u001b[38;5;129;01min\u001b[39;00m kwargs:\n\u001b[1;32m    529\u001b[0m     kwargs[\u001b[38;5;124m\"\u001b[39m\u001b[38;5;124maddr\u001b[39m\u001b[38;5;124m\"\u001b[39m] \u001b[38;5;241m=\u001b[39m \u001b[38;5;28mself\u001b[39m\u001b[38;5;241m.\u001b[39maddr\n\u001b[0;32m--> 530\u001b[0m \u001b[38;5;28;01mreturn\u001b[39;00m \u001b[38;5;28;43mself\u001b[39;49m\u001b[38;5;241;43m.\u001b[39;49m\u001b[43mproject\u001b[49m\u001b[38;5;241;43m.\u001b[39;49m\u001b[43mfactory\u001b[49m\u001b[38;5;241;43m.\u001b[39;49m\u001b[43mblock\u001b[49m\u001b[43m(\u001b[49m\u001b[38;5;241;43m*\u001b[39;49m\u001b[43margs\u001b[49m\u001b[43m,\u001b[49m\u001b[43m \u001b[49m\u001b[43mbackup_state\u001b[49m\u001b[38;5;241;43m=\u001b[39;49m\u001b[38;5;28;43mself\u001b[39;49m\u001b[43m,\u001b[49m\u001b[43m \u001b[49m\u001b[38;5;241;43m*\u001b[39;49m\u001b[38;5;241;43m*\u001b[39;49m\u001b[43mkwargs\u001b[49m\u001b[43m)\u001b[49m\n",
      "File \u001b[0;32m~/philzook58.github.io/.venv/lib/python3.12/site-packages/angr/factory.py:386\u001b[0m, in \u001b[0;36mAngrObjectFactory.block\u001b[0;34m(self, addr, size, max_size, byte_string, vex, thumb, backup_state, extra_stop_points, opt_level, num_inst, traceflags, insn_bytes, insn_text, strict_block_end, collect_data_refs, cross_insn_opt, load_from_ro_regions, const_prop, initial_regs, skip_stmts)\u001b[0m\n\u001b[1;32m    380\u001b[0m     \u001b[38;5;28;01mif\u001b[39;00m byte_string \u001b[38;5;129;01mis\u001b[39;00m \u001b[38;5;28;01mNone\u001b[39;00m:\n\u001b[1;32m    381\u001b[0m         \u001b[38;5;66;03m# assembly failed\u001b[39;00m\n\u001b[1;32m    382\u001b[0m         \u001b[38;5;28;01mraise\u001b[39;00m AngrAssemblyError(\n\u001b[1;32m    383\u001b[0m             \u001b[38;5;124m\"\u001b[39m\u001b[38;5;124mAssembling failed. Please make sure keystone is installed, and the assembly string is correct.\u001b[39m\u001b[38;5;124m\"\u001b[39m\n\u001b[1;32m    384\u001b[0m         )\n\u001b[0;32m--> 386\u001b[0m \u001b[38;5;28;01mreturn\u001b[39;00m \u001b[43mBlock\u001b[49m\u001b[43m(\u001b[49m\n\u001b[1;32m    387\u001b[0m \u001b[43m    \u001b[49m\u001b[43maddr\u001b[49m\u001b[43m,\u001b[49m\n\u001b[1;32m    388\u001b[0m \u001b[43m    \u001b[49m\u001b[43mproject\u001b[49m\u001b[38;5;241;43m=\u001b[39;49m\u001b[38;5;28;43mself\u001b[39;49m\u001b[38;5;241;43m.\u001b[39;49m\u001b[43mproject\u001b[49m\u001b[43m,\u001b[49m\n\u001b[1;32m    389\u001b[0m \u001b[43m    \u001b[49m\u001b[43msize\u001b[49m\u001b[38;5;241;43m=\u001b[39;49m\u001b[43msize\u001b[49m\u001b[43m,\u001b[49m\n\u001b[1;32m    390\u001b[0m \u001b[43m    \u001b[49m\u001b[43mmax_size\u001b[49m\u001b[38;5;241;43m=\u001b[39;49m\u001b[43mmax_size\u001b[49m\u001b[43m,\u001b[49m\n\u001b[1;32m    391\u001b[0m \u001b[43m    \u001b[49m\u001b[43mbyte_string\u001b[49m\u001b[38;5;241;43m=\u001b[39;49m\u001b[43mbyte_string\u001b[49m\u001b[43m,\u001b[49m\n\u001b[1;32m    392\u001b[0m \u001b[43m    \u001b[49m\u001b[43mvex\u001b[49m\u001b[38;5;241;43m=\u001b[39;49m\u001b[43mvex\u001b[49m\u001b[43m,\u001b[49m\n\u001b[1;32m    393\u001b[0m \u001b[43m    \u001b[49m\u001b[43mextra_stop_points\u001b[49m\u001b[38;5;241;43m=\u001b[39;49m\u001b[43mextra_stop_points\u001b[49m\u001b[43m,\u001b[49m\n\u001b[1;32m    394\u001b[0m \u001b[43m    \u001b[49m\u001b[43mthumb\u001b[49m\u001b[38;5;241;43m=\u001b[39;49m\u001b[43mthumb\u001b[49m\u001b[43m,\u001b[49m\n\u001b[1;32m    395\u001b[0m \u001b[43m    \u001b[49m\u001b[43mbackup_state\u001b[49m\u001b[38;5;241;43m=\u001b[39;49m\u001b[43mbackup_state\u001b[49m\u001b[43m,\u001b[49m\n\u001b[1;32m    396\u001b[0m \u001b[43m    \u001b[49m\u001b[43mopt_level\u001b[49m\u001b[38;5;241;43m=\u001b[39;49m\u001b[43mopt_level\u001b[49m\u001b[43m,\u001b[49m\n\u001b[1;32m    397\u001b[0m \u001b[43m    \u001b[49m\u001b[43mnum_inst\u001b[49m\u001b[38;5;241;43m=\u001b[39;49m\u001b[43mnum_inst\u001b[49m\u001b[43m,\u001b[49m\n\u001b[1;32m    398\u001b[0m \u001b[43m    \u001b[49m\u001b[43mtraceflags\u001b[49m\u001b[38;5;241;43m=\u001b[39;49m\u001b[43mtraceflags\u001b[49m\u001b[43m,\u001b[49m\n\u001b[1;32m    399\u001b[0m \u001b[43m    \u001b[49m\u001b[43mstrict_block_end\u001b[49m\u001b[38;5;241;43m=\u001b[39;49m\u001b[43mstrict_block_end\u001b[49m\u001b[43m,\u001b[49m\n\u001b[1;32m    400\u001b[0m \u001b[43m    \u001b[49m\u001b[43mcollect_data_refs\u001b[49m\u001b[38;5;241;43m=\u001b[39;49m\u001b[43mcollect_data_refs\u001b[49m\u001b[43m,\u001b[49m\n\u001b[1;32m    401\u001b[0m \u001b[43m    \u001b[49m\u001b[43mcross_insn_opt\u001b[49m\u001b[38;5;241;43m=\u001b[39;49m\u001b[43mcross_insn_opt\u001b[49m\u001b[43m,\u001b[49m\n\u001b[1;32m    402\u001b[0m \u001b[43m    \u001b[49m\u001b[43mload_from_ro_regions\u001b[49m\u001b[38;5;241;43m=\u001b[39;49m\u001b[43mload_from_ro_regions\u001b[49m\u001b[43m,\u001b[49m\n\u001b[1;32m    403\u001b[0m \u001b[43m    \u001b[49m\u001b[43mconst_prop\u001b[49m\u001b[38;5;241;43m=\u001b[39;49m\u001b[43mconst_prop\u001b[49m\u001b[43m,\u001b[49m\n\u001b[1;32m    404\u001b[0m \u001b[43m    \u001b[49m\u001b[43minitial_regs\u001b[49m\u001b[38;5;241;43m=\u001b[39;49m\u001b[43minitial_regs\u001b[49m\u001b[43m,\u001b[49m\n\u001b[1;32m    405\u001b[0m \u001b[43m    \u001b[49m\u001b[43mskip_stmts\u001b[49m\u001b[38;5;241;43m=\u001b[39;49m\u001b[43mskip_stmts\u001b[49m\u001b[43m,\u001b[49m\n\u001b[1;32m    406\u001b[0m \u001b[43m\u001b[49m\u001b[43m)\u001b[49m\n",
      "File \u001b[0;32m~/philzook58.github.io/.venv/lib/python3.12/site-packages/angr/block.py:271\u001b[0m, in \u001b[0;36mBlock.__init__\u001b[0;34m(self, addr, project, arch, size, max_size, byte_string, vex, thumb, backup_state, extra_stop_points, opt_level, num_inst, traceflags, strict_block_end, collect_data_refs, cross_insn_opt, load_from_ro_regions, const_prop, initial_regs, skip_stmts)\u001b[0m\n\u001b[1;32m    269\u001b[0m \u001b[38;5;28;01mif\u001b[39;00m byte_string \u001b[38;5;129;01mis\u001b[39;00m \u001b[38;5;28;01mNone\u001b[39;00m:\n\u001b[1;32m    270\u001b[0m     \u001b[38;5;28;01mif\u001b[39;00m backup_state \u001b[38;5;129;01mis\u001b[39;00m \u001b[38;5;129;01mnot\u001b[39;00m \u001b[38;5;28;01mNone\u001b[39;00m:\n\u001b[0;32m--> 271\u001b[0m         buffer, _, offset \u001b[38;5;241m=\u001b[39m \u001b[38;5;28;43mself\u001b[39;49m\u001b[38;5;241;43m.\u001b[39;49m\u001b[43m_vex_engine\u001b[49m\u001b[38;5;241;43m.\u001b[39;49m\u001b[43m_load_bytes\u001b[49m\u001b[43m(\u001b[49m\u001b[43maddr\u001b[49m\u001b[43m \u001b[49m\u001b[38;5;241;43m-\u001b[39;49m\u001b[43m \u001b[49m\u001b[43mthumb\u001b[49m\u001b[43m,\u001b[49m\u001b[43m \u001b[49m\u001b[43msize\u001b[49m\u001b[43m,\u001b[49m\u001b[43m \u001b[49m\u001b[43mstate\u001b[49m\u001b[38;5;241;43m=\u001b[39;49m\u001b[43mbackup_state\u001b[49m\u001b[43m)\u001b[49m\n\u001b[1;32m    272\u001b[0m         \u001b[38;5;28mself\u001b[39m\u001b[38;5;241m.\u001b[39m_bytes \u001b[38;5;241m=\u001b[39m buffer[offset:]\n\u001b[1;32m    273\u001b[0m         \u001b[38;5;28;01mif\u001b[39;00m \u001b[38;5;28mtype\u001b[39m(\u001b[38;5;28mself\u001b[39m\u001b[38;5;241m.\u001b[39m_bytes) \u001b[38;5;129;01mis\u001b[39;00m \u001b[38;5;28mmemoryview\u001b[39m:\n",
      "File \u001b[0;32m~/philzook58.github.io/.venv/lib/python3.12/site-packages/angr/engines/vex/lifter.py:333\u001b[0m, in \u001b[0;36mVEXLifter._load_bytes\u001b[0;34m(self, addr, max_size, state, clemory)\u001b[0m\n\u001b[1;32m    331\u001b[0m                 \u001b[38;5;28;01mraise\u001b[39;00m \u001b[38;5;167;01mTypeError\u001b[39;00m(\u001b[38;5;124mf\u001b[39m\u001b[38;5;124m\"\u001b[39m\u001b[38;5;124mUnsupported backer type \u001b[39m\u001b[38;5;132;01m{\u001b[39;00m\u001b[38;5;28mtype\u001b[39m(backer)\u001b[38;5;132;01m}\u001b[39;00m\u001b[38;5;124m.\u001b[39m\u001b[38;5;124m\"\u001b[39m)\n\u001b[1;32m    332\u001b[0m \u001b[38;5;28;01melif\u001b[39;00m state:\n\u001b[0;32m--> 333\u001b[0m     \u001b[38;5;28;01mif\u001b[39;00m \u001b[43mstate\u001b[49m\u001b[38;5;241;43m.\u001b[39;49m\u001b[43mmemory\u001b[49m\u001b[38;5;241;43m.\u001b[39;49m\u001b[43mSUPPORTS_CONCRETE_LOAD\u001b[49m:\n\u001b[1;32m    334\u001b[0m         buff \u001b[38;5;241m=\u001b[39m state\u001b[38;5;241m.\u001b[39mmemory\u001b[38;5;241m.\u001b[39mconcrete_load(addr, max_size)\n\u001b[1;32m    335\u001b[0m     \u001b[38;5;28;01melse\u001b[39;00m:\n",
      "\u001b[0;31mAttributeError\u001b[0m: 'CustomMemory' object has no attribute 'SUPPORTS_CONCRETE_LOAD'"
     ]
    }
   ],
   "source": []
  },
  {
   "cell_type": "code",
   "execution_count": 10,
   "metadata": {},
   "outputs": [],
   "source": [
    "import claripy\n",
    "from angr.storage.memory_mixins.memory_mixin import MemoryMixin\n",
    "from angr.errors import SimMergeError\n",
    "\n",
    "class SymbolicArrayMemoryMixin(MemoryMixin):\n",
    "    \"\"\"\n",
    "    A simple example of a memory mixin that uses a single claripy Array\n",
    "    to represent memory. It loads/stores bytes from/to that Array,\n",
    "    allowing symbolic addresses without concretization.\n",
    "    \"\"\"\n",
    "\n",
    "    def __init__(self, name='sym_mem', domain_bits=64, data_bits=8, **kwargs):\n",
    "        super().__init__(**kwargs)\n",
    "        # Create one Array: domain_bits = 64-bit addresses, data_bits = 8-bit data\n",
    "        self._domain_bits = domain_bits\n",
    "        self._data_bits = data_bits\n",
    "        self._mem = claripy.Array(\n",
    "            name,\n",
    "            claripy.BVS('addr_dummy', self._domain_bits).sort(),  # domain sort (BitVec 64)\n",
    "            claripy.BVS('data_dummy', self._data_bits).sort()     # range sort  (BitVec 8)\n",
    "        )\n",
    "\n",
    "    def set_state(self, state):\n",
    "        super().set_state(state)\n",
    "        # We'll read the default endianness from the state's arch\n",
    "        self.endness = state.arch.memory_endness\n",
    "\n",
    "    def copy(self, memo):\n",
    "        o = super().copy(memo)\n",
    "        o._domain_bits = self._domain_bits\n",
    "        o._data_bits = self._data_bits\n",
    "        o._mem = self._mem\n",
    "        return o\n",
    "\n",
    "    def merge(self, others, merge_conditions, common_ancestor=None):\n",
    "        \"\"\"\n",
    "        Merge is done by creating an if-then-else chain over the entire Array.\n",
    "        If you have N merges, you end up with nested ITE expressions.\n",
    "\n",
    "        For example, if we have two memory states M1, M2 and a boolean condition c,\n",
    "        the new memory after merge is:\n",
    "\n",
    "            M_merged = If(c, M2, M1)\n",
    "\n",
    "        In a general multi-way merge we do:\n",
    "            M_merged = ite_cases(\n",
    "                [(cond1, M1), (cond2, M2), ...],\n",
    "                <some-default>\n",
    "            )\n",
    "        \"\"\"\n",
    "        a = self._mem\n",
    "        # merge_conditions is something like [True, cond1, cond2, ...] (the first is always True for the base)\n",
    "        for cond, other in zip(merge_conditions[1:], others):\n",
    "            # If cond is True, pick other's array, else pick the current a\n",
    "            a = claripy.If(cond, other._mem, a)\n",
    "\n",
    "        self._mem = a\n",
    "\n",
    "        # Return True if you want to indicate that a merge occurred\n",
    "        return True\n",
    "\n",
    "    def load(self, addr, size=None, **kwargs):\n",
    "        \"\"\"\n",
    "        Load a bitvector of `size` bytes from memory, starting at `addr`.\n",
    "        We'll automatically handle endianness. By default, `size` can come from\n",
    "        the state or from your call site. \n",
    "        \"\"\"\n",
    "        if size is None:\n",
    "            size = self.state.arch.bytes  # default to arch word\n",
    "\n",
    "        endness = kwargs.get('endness', self.endness)\n",
    "\n",
    "        # Collect each byte from the Array.\n",
    "        # For big-endian: the byte at addr is the high-order bits in the output.\n",
    "        # For little-endian: the byte at addr is the low-order bits in the output.\n",
    "        bytes_ = []\n",
    "        if endness == 'Iend_BE':\n",
    "            # For big-endian, the leftmost byte is at the lowest address\n",
    "            for i in range(size):\n",
    "                byte_i = claripy.Select(self._mem, addr + i)\n",
    "                bytes_.append(byte_i)\n",
    "            result = claripy.Concat(*bytes_)\n",
    "        else:\n",
    "            # For little-endian, the leftmost byte is at the highest address in the final bitvector\n",
    "            # so we read them from high address to low in the final Concat\n",
    "            for i in reversed(range(size)):\n",
    "                byte_i = claripy.Select(self._mem, addr + i)\n",
    "                bytes_.append(byte_i)\n",
    "            result = claripy.Concat(*bytes_)\n",
    "\n",
    "        return result\n",
    "\n",
    "    def store(self, addr, data, size=None, **kwargs):\n",
    "        \"\"\"\n",
    "        Store a bitvector `data` into memory at address `addr`.\n",
    "        We update self._mem with an If-Then-Else chain if addresses are symbolic,\n",
    "        but claripy.Store does that internally for us.\n",
    "        \"\"\"\n",
    "        if size is None:\n",
    "            # data.size() is in bits. So we convert to bytes\n",
    "            size = data.size() // 8\n",
    "\n",
    "        endness = kwargs.get('endness', self.endness)\n",
    "\n",
    "        # We slice out each byte from `data` (which is a bitvector of size*8 bits).\n",
    "        # For big-endian, the most significant byte is data[size*8-1 : (size-1)*8]\n",
    "        # For little-endian, the least significant byte is data[7:0], next is data[15:8], etc.\n",
    "        if endness == 'Iend_BE':\n",
    "            # The left-most byte in `data` goes to the lowest address\n",
    "            for i in range(size):\n",
    "                # The i-th byte from the left\n",
    "                byte_i = data[((size - i) * 8 - 1) : ((size - i - 1) * 8)]\n",
    "                self._mem = claripy.Store(self._mem, addr + i, byte_i)\n",
    "        else:\n",
    "            # The i-th byte from the right\n",
    "            for i in range(size):\n",
    "                byte_i = data[(i+1)*8 - 1 : i*8]\n",
    "                self._mem = claripy.Store(self._mem, addr + i, byte_i)\n",
    "\n",
    "    #\n",
    "    # Additional methods (e.g. changed_bytes, default_value, etc.) can be added\n",
    "    # but are optional depending on how you want this memory model to behave.\n",
    "    #\n"
   ]
  },
  {
   "cell_type": "code",
   "execution_count": 13,
   "metadata": {},
   "outputs": [
    {
     "name": "stderr",
     "output_type": "stream",
     "text": [
      "CRITICAL | 2025-01-22 14:19:32,273 | cle.backends.backend | Deprecation warning: the custom_base_addr parameter has been renamed to base_addr\n"
     ]
    },
    {
     "ename": "AttributeError",
     "evalue": "'DefaultMemory' object has no attribute 'mem'",
     "output_type": "error",
     "traceback": [
      "\u001b[0;31m---------------------------------------------------------------------------\u001b[0m",
      "\u001b[0;31mAttributeError\u001b[0m                            Traceback (most recent call last)",
      "Cell \u001b[0;32mIn[13], line 9\u001b[0m\n\u001b[1;32m      7\u001b[0m proj \u001b[38;5;241m=\u001b[39m angr\u001b[38;5;241m.\u001b[39mProject(\u001b[38;5;124m'\u001b[39m\u001b[38;5;124m/tmp/hello\u001b[39m\u001b[38;5;124m'\u001b[39m, load_options\u001b[38;5;241m=\u001b[39m{\u001b[38;5;124m'\u001b[39m\u001b[38;5;124mmain_opts\u001b[39m\u001b[38;5;124m'\u001b[39m: {\u001b[38;5;124m'\u001b[39m\u001b[38;5;124mcustom_base_addr\u001b[39m\u001b[38;5;124m'\u001b[39m: \u001b[38;5;241m0\u001b[39m}})\n\u001b[1;32m      8\u001b[0m st \u001b[38;5;241m=\u001b[39m proj\u001b[38;5;241m.\u001b[39mfactory\u001b[38;5;241m.\u001b[39mfull_init_state()\n\u001b[0;32m----> 9\u001b[0m \u001b[43mst\u001b[49m\u001b[38;5;241;43m.\u001b[39;49m\u001b[43mmemory\u001b[49m\u001b[38;5;241;43m.\u001b[39;49m\u001b[43mmem\u001b[49m\u001b[38;5;241m.\u001b[39m_add_mixin(\u001b[38;5;124m'\u001b[39m\u001b[38;5;124msymbolic_array\u001b[39m\u001b[38;5;124m'\u001b[39m, SymbolicArrayMemoryMixin())\n",
      "\u001b[0;31mAttributeError\u001b[0m: 'DefaultMemory' object has no attribute 'mem'"
     ]
    }
   ],
   "source": [
    "#from angr.storage.memory_mixins.paged_memory.pages import PageMemory\n",
    "\n",
    "#class MyMemory(PageMemory, SymbolicArrayMemoryMixin):\n",
    "#    pass\n",
    "\n",
    "# Then create a state with your memory\n",
    "proj = angr.Project('/tmp/hello', load_options={'main_opts': {'custom_base_addr': 0}})\n",
    "st = proj.factory.full_init_state()\n",
    "st.memory.mem._add_mixin('symbolic_array', SymbolicArrayMemoryMixin())\n"
   ]
  },
  {
   "cell_type": "code",
   "execution_count": 8,
   "metadata": {},
   "outputs": [
    {
     "name": "stdout",
     "output_type": "stream",
     "text": [
      "        _start:\n",
      "401040  endbr64 \n",
      "401044  xor     ebp, ebp\n",
      "401046  mov     r9, rdx\n",
      "401049  pop     rsi\n",
      "40104a  mov     rdx, rsp\n",
      "40104d  and     rsp, 0xfffffffffffffff0\n",
      "401051  push    rax\n",
      "401052  push    rsp\n",
      "401053  xor     r8d, r8d\n",
      "401056  xor     ecx, ecx\n",
      "401058  lea     rdi, [main]\n",
      "40105f  call    qword ptr [0x403fd8]\n"
     ]
    }
   ],
   "source": [
    "state = proj.factory.entry_state()\n",
    "state.block().pp()"
   ]
  },
  {
   "cell_type": "code",
   "execution_count": 40,
   "metadata": {},
   "outputs": [
    {
     "name": "stderr",
     "output_type": "stream",
     "text": [
      "WARNING  | 2025-01-08 18:02:20,579 | angr.storage.memory_mixins.default_filler_mixin | Filling register rbp with 8 unconstrained bytes referenced from 0x401129 (main+0x0 in hello (0x1129))\n",
      "WARNING  | 2025-01-08 18:02:20,581 | angr.storage.memory_mixins.default_filler_mixin | Filling register rax with 8 unconstrained bytes referenced from 0x401129 (main+0x0 in hello (0x1129))\n",
      "WARNING  | 2025-01-08 18:02:20,582 | angr.storage.memory_mixins.default_filler_mixin | Filling register rbx with 8 unconstrained bytes referenced from 0x401129 (main+0x0 in hello (0x1129))\n"
     ]
    },
    {
     "name": "stdout",
     "output_type": "stream",
     "text": [
      "<class 'angr.storage.memory_mixins.DefaultMemory'>\n",
      "rip <BV64 0x401129>\n",
      "rsp <BV64 0x7ffffffffff0000>\n",
      "rbp <BV64 reg_rbp_526_64>\n",
      "rax <BV64 reg_rax_527_64>\n",
      "rbx <BV64 reg_rbx_528_64>\n"
     ]
    },
    {
     "ename": "AttributeError",
     "evalue": "'DefaultMemory' object has no attribute 'pp'",
     "output_type": "error",
     "traceback": [
      "\u001b[0;31m---------------------------------------------------------------------------\u001b[0m",
      "\u001b[0;31mAttributeError\u001b[0m                            Traceback (most recent call last)",
      "Cell \u001b[0;32mIn[40], line 29\u001b[0m\n\u001b[1;32m     27\u001b[0m state\u001b[38;5;241m.\u001b[39moptions\u001b[38;5;241m.\u001b[39madd(angr\u001b[38;5;241m.\u001b[39moptions\u001b[38;5;241m.\u001b[39mSTRICT_PAGE_ACCESS)  \u001b[38;5;66;03m# Prevent default concretization of memory access\u001b[39;00m\n\u001b[1;32m     28\u001b[0m \u001b[38;5;28mprint\u001b[39m(\u001b[38;5;28mtype\u001b[39m(state\u001b[38;5;241m.\u001b[39mmemory))\n\u001b[0;32m---> 29\u001b[0m \u001b[43mprint_state\u001b[49m\u001b[43m(\u001b[49m\u001b[43mstate\u001b[49m\u001b[43m)\u001b[49m\n\u001b[1;32m     30\u001b[0m simgr \u001b[38;5;241m=\u001b[39m proj\u001b[38;5;241m.\u001b[39mfactory\u001b[38;5;241m.\u001b[39msimulation_manager(state)\n\u001b[1;32m     31\u001b[0m \u001b[38;5;28;01mfor\u001b[39;00m i \u001b[38;5;129;01min\u001b[39;00m \u001b[38;5;28mrange\u001b[39m(\u001b[38;5;241m5\u001b[39m):\n",
      "Cell \u001b[0;32mIn[40], line 9\u001b[0m, in \u001b[0;36mprint_state\u001b[0;34m(state)\u001b[0m\n\u001b[1;32m      7\u001b[0m \u001b[38;5;28mprint\u001b[39m(\u001b[38;5;124m\"\u001b[39m\u001b[38;5;124mrax\u001b[39m\u001b[38;5;124m\"\u001b[39m, state\u001b[38;5;241m.\u001b[39mregs\u001b[38;5;241m.\u001b[39mrax)\n\u001b[1;32m      8\u001b[0m \u001b[38;5;28mprint\u001b[39m(\u001b[38;5;124m\"\u001b[39m\u001b[38;5;124mrbx\u001b[39m\u001b[38;5;124m\"\u001b[39m, state\u001b[38;5;241m.\u001b[39mregs\u001b[38;5;241m.\u001b[39mrbx)\n\u001b[0;32m----> 9\u001b[0m \u001b[38;5;28mprint\u001b[39m(\u001b[38;5;124m\"\u001b[39m\u001b[38;5;124mstack\u001b[39m\u001b[38;5;124m\"\u001b[39m, \u001b[43mstate\u001b[49m\u001b[38;5;241;43m.\u001b[39;49m\u001b[43mmemory\u001b[49m\u001b[38;5;241;43m.\u001b[39;49m\u001b[43mpp\u001b[49m())\u001b[38;5;66;03m#.load(state.regs.rsp, 0x1, endness='Iend_BE'))\u001b[39;00m\n\u001b[1;32m     10\u001b[0m \u001b[38;5;28mprint\u001b[39m(proj\u001b[38;5;241m.\u001b[39mfactory\u001b[38;5;241m.\u001b[39mblock(state\u001b[38;5;241m.\u001b[39maddr)\u001b[38;5;241m.\u001b[39mpp())\n",
      "\u001b[0;31mAttributeError\u001b[0m: 'DefaultMemory' object has no attribute 'pp'"
     ]
    }
   ],
   "source": [
    "#proj.factory.call_state(0x401129)\n",
    "#state = proj.factory.full_init_state(addr=0x401129)\n",
    "def print_state(state):\n",
    "    print(\"rip\", state.regs.rip)\n",
    "    print(\"rsp\", state.regs.rsp)\n",
    "    print(\"rbp\", state.regs.rbp)\n",
    "    print(\"rax\", state.regs.rax)\n",
    "    print(\"rbx\", state.regs.rbx)\n",
    "    print(\"stack\", state.memory.pp())#.load(state.regs.rsp, 0x1, endness='Iend_BE'))\n",
    "    print(proj.factory.block(state.addr).pp())\n",
    "    #for reg in state.arch.register_list:\n",
    "    #    print(f\"{reg.name}: {state.regs.__getattr__(reg.name)}\")\n",
    "\n",
    "state = proj.factory.blank_state(addr=0x401129)\n",
    "#state = proj.factory.full_init_state()\n",
    "\n",
    "\n",
    "# Ensure the state uses full symbolic execution\n",
    "# https://github.com/angr/angr/blob/master/angr/sim_options.py\n",
    "#state.options.discard(angr.options.APPROXIMATE_GUARDS)  # Prevent guard approximation\n",
    "#state.options.discard(angr.options.SYMBOLIC_WRITE_ADDRESSES)  # Keep symbolic writes\n",
    "#state.options.discard(angr.options.SYMBOLIC_READ_ADDRESSES)  # Keep symbolic reads\n",
    "#state.options.discard(angr.options.CONCRETIZE_SYMBOLIC_WRITE_SIZES)  # Prevent concretizing sizes\n",
    "#state.options.discard(angr.options.CONCRETIZE_SYMBOLIC_READ_SIZES)  # Prevent concretizing read sizes\n",
    "\n",
    "state.options.add(angr.options.TRACK_MEMORY_ACTIONS)  # Track memory actions\n",
    "state.options.add(angr.options.STRICT_PAGE_ACCESS)  # Prevent default concretization of memory access\n",
    "print(type(state.memory))\n",
    "print_state(state)\n",
    "simgr = proj.factory.simulation_manager(state)\n",
    "for i in range(5):\n",
    "    simgr.step(num_inst=1)\n",
    "    new_state = simgr.active[0]\n",
    "    print_state(new_state)\n",
    "\n"
   ]
  },
  {
   "cell_type": "code",
   "execution_count": 12,
   "metadata": {},
   "outputs": [
    {
     "data": {
      "text/plain": [
       "<Block for 0x401129, 4 bytes>"
      ]
     },
     "execution_count": 12,
     "metadata": {},
     "output_type": "execute_result"
    }
   ],
   "source": [
    "ins = proj.factory.block(0x401129, size=4)\n",
    "ins"
   ]
  },
  {
   "cell_type": "code",
   "execution_count": 6,
   "metadata": {},
   "outputs": [],
   "source": [
    "state = proj.factory.call_state(0x401129)\n",
    "#state.step()\n",
    "b = state.block()\n"
   ]
  },
  {
   "cell_type": "code",
   "execution_count": 46,
   "metadata": {},
   "outputs": [
    {
     "name": "stderr",
     "output_type": "stream",
     "text": [
      "WARNING  | 2025-01-03 09:48:55,915 | angr.storage.memory_mixins.default_filler_mixin | Filling register rbp with 8 unconstrained bytes referenced from 0x40112d (main+0x4 in hello (0x112d))\n"
     ]
    },
    {
     "data": {
      "text/plain": [
       "<BV64 0x3>"
      ]
     },
     "execution_count": 46,
     "metadata": {},
     "output_type": "execute_result"
    }
   ],
   "source": [
    "state = proj.factory.call_state(0x401129)\n",
    "s2 = state.step()\n",
    "s2, = s2.successors\n",
    "r = s2.registers\n",
    "s2.regs.rax"
   ]
  },
  {
   "cell_type": "code",
   "execution_count": 63,
   "metadata": {},
   "outputs": [
    {
     "ename": "AttributeError",
     "evalue": "'AngrObjectFactory' object has no attribute 'path'",
     "output_type": "error",
     "traceback": [
      "\u001b[0;31m---------------------------------------------------------------------------\u001b[0m",
      "\u001b[0;31mAttributeError\u001b[0m                            Traceback (most recent call last)",
      "Cell \u001b[0;32mIn[63], line 1\u001b[0m\n\u001b[0;32m----> 1\u001b[0m \u001b[43mproj\u001b[49m\u001b[38;5;241;43m.\u001b[39;49m\u001b[43mfactory\u001b[49m\u001b[38;5;241;43m.\u001b[39;49m\u001b[43mpath\u001b[49m()\n",
      "\u001b[0;31mAttributeError\u001b[0m: 'AngrObjectFactory' object has no attribute 'path'"
     ]
    }
   ],
   "source": []
  },
  {
   "cell_type": "markdown",
   "metadata": {},
   "source": [
    "Right. one of the breakpoints is address concretization. Their memory model is \n",
    "\n",
    "https://github.com/angr/angr/blob/master/angr/engines/pcode/emulate.py basic pcode interpreter\n",
    "https://github.com/angr/angr/blob/master/angr/engines/pcode/behavior.py \"behavior\". There is a diciontary at the bottom\n",
    "\n",
    "I can't believe the amount of indirection there is in here.\n",
    "\n",
    "Ok, but even \n",
    "\n",
    "Maybe subclass the pcodenegine mixin."
   ]
  },
  {
   "cell_type": "code",
   "execution_count": 83,
   "metadata": {},
   "outputs": [
    {
     "data": {
      "text/plain": [
       "1"
      ]
     },
     "execution_count": 83,
     "metadata": {},
     "output_type": "execute_result"
    }
   ],
   "source": [
    "b = angr.engines.pcode.behavior.BehaviorFactory()\n",
    "from pypcode import OpCode\n",
    "import claripy\n",
    "claripy.backends.z3.convert(b.get_behavior_for_opcode(OpCode.BOOL_AND).evaluate_binary(1,1,claripy.BVV(1,8),claripy.BVV(1,8)))"
   ]
  },
  {
   "cell_type": "code",
   "execution_count": 81,
   "metadata": {},
   "outputs": [
    {
     "data": {
      "text/html": [
       "x_165_8"
      ],
      "text/plain": [
       "x_165_8"
      ]
     },
     "execution_count": 81,
     "metadata": {},
     "output_type": "execute_result"
    }
   ],
   "source": [
    "x = claripy.BVS(\"x\", 8) #.dbg_repr()\n",
    "import claripy.backends.backend_z3\n",
    "#claripy.backends.backend_z3.BackendZ3().convert(x)\n",
    "claripy.backends.z3.convert(x)"
   ]
  },
  {
   "cell_type": "code",
   "execution_count": 47,
   "metadata": {},
   "outputs": [
    {
     "data": {
      "text/plain": [
       "<angr.state_plugins.inspect.SimInspector at 0x799b69cd07c0>"
      ]
     },
     "execution_count": 47,
     "metadata": {},
     "output_type": "execute_result"
    }
   ],
   "source": [
    "state.inspect."
   ]
  },
  {
   "cell_type": "code",
   "execution_count": 16,
   "metadata": {},
   "outputs": [
    {
     "data": {
      "text/plain": [
       "<Symbol \"main\" in hello at 0x401129>"
      ]
     },
     "execution_count": 16,
     "metadata": {},
     "output_type": "execute_result"
    }
   ],
   "source": [
    "main_symbol = proj.loader.main_object.get_symbol(\"main\")\n",
    "main_symbol"
   ]
  },
  {
   "cell_type": "markdown",
   "metadata": {},
   "source": [
    "pywasm https://github.com/mohanson/pywasm\n",
    "\n",
    "https://github.com/AntonLydike/riscemu\n",
    "\n",
    "https://github.com/codypierce/pyemu x86\n",
    "https://github.com/ForceBru/PyVM\n",
    "\n",
    "https://github.com/mnaberez/py65 6502"
   ]
  },
  {
   "cell_type": "code",
   "execution_count": 14,
   "metadata": {},
   "outputs": [
    {
     "ename": "AssertionError",
     "evalue": "self.selected_ins_sets cannot be empty",
     "output_type": "error",
     "traceback": [
      "\u001b[0;31m---------------------------------------------------------------------------\u001b[0m",
      "\u001b[0;31mAssertionError\u001b[0m                            Traceback (most recent call last)",
      "Cell \u001b[0;32mIn[14], line 20\u001b[0m\n\u001b[1;32m     17\u001b[0m emulator\u001b[38;5;241m.\u001b[39mregister_all_program_loaders()\n\u001b[1;32m     19\u001b[0m \u001b[38;5;66;03m# Call the run method to start the emulator\u001b[39;00m\n\u001b[0;32m---> 20\u001b[0m \u001b[43memulator\u001b[49m\u001b[38;5;241;43m.\u001b[39;49m\u001b[43mrun\u001b[49m\u001b[43m(\u001b[49m\u001b[43m)\u001b[49m\n",
      "File \u001b[0;32m~/.local/lib/python3.10/site-packages/riscemu/riscemu_main.py:310\u001b[0m, in \u001b[0;36mRiscemuMain.run\u001b[0;34m(self)\u001b[0m\n\u001b[1;32m    300\u001b[0m \u001b[38;5;250m\u001b[39m\u001b[38;5;124;03m\"\"\"\u001b[39;00m\n\u001b[1;32m    301\u001b[0m \u001b[38;5;124;03mThis assumes that these values were set externally:\u001b[39;00m\n\u001b[1;32m    302\u001b[0m \n\u001b[0;32m   (...)\u001b[0m\n\u001b[1;32m    307\u001b[0m \u001b[38;5;124;03m - selected_ins_sets: A list of instruction sets the CPU should support.\u001b[39;00m\n\u001b[1;32m    308\u001b[0m \u001b[38;5;124;03m\"\"\"\u001b[39;00m\n\u001b[1;32m    309\u001b[0m \u001b[38;5;28;01massert\u001b[39;00m \u001b[38;5;28mself\u001b[39m\u001b[38;5;241m.\u001b[39mcfg \u001b[38;5;129;01mis\u001b[39;00m \u001b[38;5;129;01mnot\u001b[39;00m \u001b[38;5;28;01mNone\u001b[39;00m, \u001b[38;5;124m\"\u001b[39m\u001b[38;5;124mself.cfg must be set before calling run()\u001b[39m\u001b[38;5;124m\"\u001b[39m\n\u001b[0;32m--> 310\u001b[0m \u001b[38;5;28;01massert\u001b[39;00m \u001b[38;5;28mself\u001b[39m\u001b[38;5;241m.\u001b[39mselected_ins_sets, \u001b[38;5;124m\"\u001b[39m\u001b[38;5;124mself.selected_ins_sets cannot be empty\u001b[39m\u001b[38;5;124m\"\u001b[39m\n\u001b[1;32m    311\u001b[0m \u001b[38;5;28;01massert\u001b[39;00m \u001b[38;5;28mself\u001b[39m\u001b[38;5;241m.\u001b[39minput_files, \u001b[38;5;124m\"\u001b[39m\u001b[38;5;124mself.input_files cannot be empty\u001b[39m\u001b[38;5;124m\"\u001b[39m\n\u001b[1;32m    313\u001b[0m \u001b[38;5;28;01mif\u001b[39;00m \u001b[38;5;28mself\u001b[39m\u001b[38;5;241m.\u001b[39mcfg\u001b[38;5;241m.\u001b[39muse_libc:\n",
      "\u001b[0;31mAssertionError\u001b[0m: self.selected_ins_sets cannot be empty"
     ]
    }
   ],
   "source": [
    "import riscemu\n",
    "\n",
    "from riscemu.riscemu_main import RiscemuMain, RunConfig\n",
    "\n",
    "# Create an instance of the RiscemuMain class\n",
    "emulator = RiscemuMain()\n",
    "\n",
    "# Set the configuration (this is just an example; set according to your needs)\n",
    "config = RunConfig(stack_size=8192, verbosity=1, flen=64)\n",
    "emulator.cfg = config\n",
    "\n",
    "# Set the input files (example assembly files)\n",
    "emulator.input_files = [\"path/to/your/assembly/file.asm\"]\n",
    "\n",
    "# Register all available instruction sets and program loaders\n",
    "emulator.register_all_isas()\n",
    "emulator.register_all_program_loaders()\n",
    "\n",
    "# Call the run method to start the emulator\n",
    "emulator.run()\n",
    "cpu = UserModeCPU(self.selected_ins_sets, self.cfg)\n",
    "cpu.setup_stack(self.cfg.stack_size)\n",
    "cpu.launch(self.cfg.verbosity > 1)"
   ]
  }
 ],
 "metadata": {
  "kernelspec": {
   "display_name": ".venv",
   "language": "python",
   "name": "python3"
  },
  "language_info": {
   "codemirror_mode": {
    "name": "ipython",
    "version": 3
   },
   "file_extension": ".py",
   "mimetype": "text/x-python",
   "name": "python",
   "nbconvert_exporter": "python",
   "pygments_lexer": "ipython3",
   "version": "3.12.3"
  }
 },
 "nbformat": 4,
 "nbformat_minor": 2
}
