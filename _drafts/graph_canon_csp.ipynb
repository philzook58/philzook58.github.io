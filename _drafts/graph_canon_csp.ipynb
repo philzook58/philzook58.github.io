{
 "cells": [
  {
   "cell_type": "markdown",
   "id": "be9abacb",
   "metadata": {},
   "source": [
    "\n",
    "I'd like a more felxible system for graph caonnization like stuff than looping through nauty.\n",
    "\n",
    "\n"
   ]
  }
 ],
 "metadata": {
  "language_info": {
   "name": "python"
  }
 },
 "nbformat": 4,
 "nbformat_minor": 5
}
