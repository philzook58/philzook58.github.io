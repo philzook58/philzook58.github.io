{
 "cells": [
  {
   "cell_type": "markdown",
   "id": "f252c56a",
   "metadata": {},
   "source": []
  },
  {
   "cell_type": "markdown",
   "id": "a7d3df5d",
   "metadata": {},
   "source": [
    "https://declanoller.github.io/laplacian_basics_and_diffusion\n",
    "\n",
    "Modules for green's functions. Abstract over sympy vs numpy vs whatever.\n",
    "Domain is part of the module? Indicator function\n",
    "\n",
    "Grids vs continuous domains vs sepctral\n",
    "\n",
    "\n"
   ]
  }
 ],
 "metadata": {
  "language_info": {
   "name": "python"
  }
 },
 "nbformat": 4,
 "nbformat_minor": 5
}
