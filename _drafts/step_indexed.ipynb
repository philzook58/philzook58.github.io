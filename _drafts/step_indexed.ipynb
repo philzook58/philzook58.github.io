{
 "cells": [
  {
   "cell_type": "markdown",
   "id": "2ef06698",
   "metadata": {},
   "source": []
  },
  {
   "cell_type": "markdown",
   "id": "cad2bb5c",
   "metadata": {},
   "source": [
    "# Step indexed logical relations\n",
    "\n",
    "https://www.ccs.neu.edu/home/amal/papers/lr-recquant-techrpt.pdf amal ahmed  Step-Indexed Syntactic Logical Relations\n",
    "for Recursive and Quantified Types 2006\n",
    "\n",
    "Mcallester and appell https://dl.acm.org/doi/10.1145/504709.504712 An indexed model of recursive types for foundational proof-carrying code 2001\n",
    "\n",
    "Type rules with |= rather than |-. Yes.\n",
    "\n",
    "https://www.ccs.neu.edu/home/amal/papers/impred.pdf An Indexed Model of Impredicative Polymorphism and Mutable References\n",
    "\n",
    "Semantic Typing - associate type to set of denotational semantic things\n",
    "Miler 78 - denotational semantics.\n",
    "\n",
    "https://www.cs.uoregon.edu/research/summerschool/summer24/lectures/Ahmed.pdf Semantic Type Soundness and Language Interoperability. OPLSS 24\n",
    "\n",
    "https://www.andrewwagner.io/assets/slides/sem-tech-tut-prl.pdf  Semantic Typing and Separation Logic a tutorial Wagner\n",
    "\n",
    "\n",
    "\n",
    "Step indexing is kind of defining the semantics notion of equality/equivalence by type.\n",
    "\n",
    "in what sense _is_   {True : True, False : False} === {0 : 0, 1 : 1}. You have to define it. not obvious.\n",
    "\n",
    "E and V\n",
    "E is the set of expressions, V is set of values.\n",
    "\n",
    "https://cstheory.stackexchange.com/questions/5427/what-are-the-differences-between-logical-relations-and-simulations Interesting connection. \n",
    "\n",
    "\n",
    "There's a difference between `(a -> Bool)` and `[a]`  reps of sets. Nat as (a -> Bool) is fine, but non terminating as a generator.\n",
    "\n",
    "We can't have _just_ the checker version though because we need to supply functions with examples.\n",
    "Two step indices?\n",
    "\n",
    "\n",
    "idea: memoize results internally so if we ask for n again, we don't recompute? Seems fine.\n",
    "idea2: take has_type examples and insert them into the generator. Known examples are probably useful. There's something cute there.\n",
    "\n",
    "\n",
    "\n",
    "\n",
    "## Gluing\n",
    "https://proofassistants.stackexchange.com/questions/32/what-is-artin-gluing-and-how-is-it-useful-in-proving-meta-theoretic-properties\n",
    "https://arxiv.org/pdf/2010.08599  Logical Relations as Types\n",
    "https://golem.ph.utexas.edu/category/2013/04/scones_logical_relations_and_p.html \n",
    "\n",
    "\n",
    "\n",
    "\n",
    "## Is type soundness interesting?\n",
    "https://blog.sigplan.org/2019/10/17/what-type-soundness-theorem-do-you-really-want-to-prove/\n",
    "\n",
    "https://cs.stackexchange.com/questions/138835/whats-the-relationship-between-semantic-type-soundness-and-functional-correc\n",
    "`type Type = MemState, int -> frozenset` python models of ref cell ML?\n",
    "\n",
    "https://www.seas.upenn.edu/~sweirich/papers/liu-mltt-consistency.pdf Functional Pearl: Short and Mechanized Logical Relation for\n",
    "Dependent Type Theories\n",
    "\n",
    "\n",
    "\n",
    "\n",
    "https://www.microsoft.com/en-us/research/wp-content/uploads/2016/02/10351.BentonNick.Paper_.2808.pdf Step-Indexing: The Good, the Bad and the Ugly\n",
    "\n",
    "https://arxiv.org/abs/1304.7857  A Step-Indexing Approach to Partial Functions. Slind. ACL2 Interesting. Is this the same step indexing? Not really types?\n",
    "\n",
    "https://link.springer.com/chapter/10.1007/978-3-540-32033-3_29 A Tutorial Example of the Semantic Approach to Foundational Proof-Carrying Code https://www.site.uottawa.ca/~afelty/dist/rta05.pdf  A Tutorial Example of the Semantic Approach to\n",
    "Foundational Proof-Carrying Code\n",
    "\n",
    "# Modal\n",
    "https://xavierleroy.org/CdF/2018-2019/8.pdf leroy notes. Later modality\n",
    "\n",
    "https://www.cs.princeton.edu/~appel/papers/modalmodel.pdf A Very Modal Model of a Modern, Major, General Type System. moadlity. https://dl.acm.org/doi/10.1145/1190215.1190235  \n",
    "\n",
    "https://people.mpi-sws.org/~dreyer/papers/lslr/old-lmcs.pdf LOGICAL STEP-INDEXED LOGICAL RELATIONS DEREK DREYER, AMAL AHMED, AND LARS BIRKEDAL\n",
    "\n",
    "Lob induction\n",
    "\n",
    "\n",
    "\n",
    "\n"
   ]
  },
  {
   "cell_type": "markdown",
   "id": "a953a2c7",
   "metadata": {},
   "source": [
    "# Python"
   ]
  },
  {
   "cell_type": "code",
   "execution_count": null,
   "id": "5e4f6745",
   "metadata": {},
   "outputs": [],
   "source": [
    "# Growing set model. step indexing?\n",
    "# [Inj,Set] has decidable equality.\n",
    "# aka a generator or stream.\n",
    "from typing import Callable, Union, List, Tuple, Dict, Any\n",
    "type Type = Callable[[int], frozenset]\n",
    "from frozendict import frozendict\n",
    "import itertools\n",
    "\n",
    "Bool = lambda n: frozenset([False, True])\n",
    "Void = lambda n: frozenset()\n",
    "Nat = lambda n: frozenset(range(n))\n",
    "\n",
    "\n",
    "# Indices vs parameters show up in a difference of where I need to decrease n?\n",
    "\n",
    "type Family = Callable[[object], Type] # or is there more data? Guarantees about int? Do int come in?\n",
    "def Sigma(A : Type, B : Family):\n",
    "    return lambda n: frozenset((a,b) for a in A(n-1) for b in B(a)(n-1)) # Do I need n-1 here or would n be fine? n//2 some other function? (n - m, m) pairs?\n",
    "def Pi(A : Type, B : Family) -> Type:\n",
    "    def res(n):\n",
    "        Alist = list(A(n-1))\n",
    "        return frozenset(frozendict({k:v for k,v in zip(Alist, bvs)}) for bvs in itertools.product(*[B(a)(n-1) for a in Alist]))\n",
    "    return res\n",
    "# Non dependent versions may not need to consume gas?\n",
    "\n",
    "def Vec(A : Type, m : int) -> Type:\n",
    "    return lambda n: frozenset(itertools.product(A(n), repeat=m))\n",
    "\n",
    "def List(A : Type) -> Type:\n",
    "    return lambda n: frozenset([()]) if n == 0 else frozenset(itertools.product(A(n), repeat=n)) | List(A)(n-1)\n",
    "\n",
    "\n",
    "List(Bool)(6)\n",
    "\n",
    "# inductive datatypes\n",
    "def List1(A : Type) -> Type:\n",
    "    return lambda n: frozenset() if n == 0 else frozenset([(\"nil\",)]) | frozenset([ (\"cons\", hd, tl) for tl in List1(A)(n-1) for hd in A(n)])\n",
    "List1(Bool)(3)\n",
    "\n",
    "def Fix(f : Callable[[Type], Type]) -> Type:\n",
    "    def res(n):\n",
    "        return frozenset() if n == 0 else f(Fix(f)(n-1))\n",
    "    return res\n",
    "\n",
    "List2 = lambda A: Fix(lambda L: lambda n: frozenset([(\"nil\",)]) | frozenset((\"cons\", A(n), tl) for tl in L(n-1)))\n",
    "\n",
    "List2(Bool)(3)\n",
    "\n",
    "\n",
    "def Id(A, x, y):\n",
    "    return lambda n: frozenset([x]) if x == y else frozenset()\n",
    "\n",
    "def is_type(A):\n",
    "    acc = A(0)\n",
    "    for n in range(4):\n",
    "        assert isinstance(acc, frozenset), f\"Expected a frozenset at n={n}, got {type(acc)}\"\n",
    "        s = A(n)\n",
    "        assert is_subset(s, acc)\n",
    "        acc = s\n",
    "\n",
    "def has_type(t, A):\n",
    "\n",
    "\n",
    "def Univ(l : int) -> Type:\n",
    "    def res(n):\n",
    "        if l == 0:\n",
    "            return frozenset([Bool, Void, Nat]) | Univ(Pi(A, B) for ...) # But they are unhashable...\n",
    "        if n == 0:\n",
    "            return frozenset()\n",
    "        return Univ(l-1)(n) | \n",
    "\n",
    "\n"
   ]
  },
  {
   "cell_type": "markdown",
   "id": "dd03d97a",
   "metadata": {},
   "source": [
    "https://docs.python.org/3/library/sys.monitoring.html  For tracking number of steps\n",
    "Hmm. maybe I can `set_local_events` . The number of instructions doesn't seem that reliable. Ok. maybe it's alright.\n",
    "\n"
   ]
  },
  {
   "cell_type": "code",
   "execution_count": 14,
   "id": "0b7894b2",
   "metadata": {},
   "outputs": [
    {
     "name": "stdout",
     "output_type": "stream",
     "text": [
      "9280\n",
      "8613\n",
      "8181\n",
      "7749\n",
      "7317\n",
      "6885\n",
      "6453\n",
      "6021\n",
      "5589\n",
      "5157\n",
      "4725\n",
      "4293\n",
      "3861\n",
      "3429\n",
      "2997\n",
      "2565\n",
      "2133\n",
      "1701\n",
      "1269\n",
      "837\n",
      "405\n",
      "Step limit reached, monitoring stopped.\n"
     ]
    },
    {
     "ename": "RuntimeError",
     "evalue": "Step limit exceeded",
     "output_type": "error",
     "traceback": [
      "\u001b[31m---------------------------------------------------------------------------\u001b[39m",
      "\u001b[31mRuntimeError\u001b[39m                              Traceback (most recent call last)",
      "\u001b[36mCell\u001b[39m\u001b[36m \u001b[39m\u001b[32mIn[14]\u001b[39m\u001b[32m, line 15\u001b[39m\n\u001b[32m     13\u001b[39m \u001b[38;5;28;01mtry\u001b[39;00m:\n\u001b[32m     14\u001b[39m     \u001b[38;5;28;01mwhile\u001b[39;00m \u001b[38;5;28;01mTrue\u001b[39;00m:\n\u001b[32m---> \u001b[39m\u001b[32m15\u001b[39m         \u001b[38;5;28;43mprint\u001b[39;49m\u001b[43m(\u001b[49m\u001b[43msteps\u001b[49m\u001b[43m)\u001b[49m\n\u001b[32m     16\u001b[39m \u001b[38;5;28;01mfinally\u001b[39;00m:\n\u001b[32m     17\u001b[39m     sys.monitoring.register_callback(TOOLID, sys.monitoring.events.INSTRUCTION, \u001b[38;5;28;01mNone\u001b[39;00m)\n",
      "\u001b[36mFile \u001b[39m\u001b[32m~/philzook58.github.io/.venv/lib/python3.12/site-packages/IPython/core/interactiveshell.py:3044\u001b[39m, in \u001b[36mInteractiveShell._tee.<locals>.write\u001b[39m\u001b[34m(data, *args, **kwargs)\u001b[39m\n\u001b[32m   3042\u001b[39m \u001b[38;5;28;01mif\u001b[39;00m execution_count \u001b[38;5;129;01min\u001b[39;00m outputs_by_counter:\n\u001b[32m   3043\u001b[39m     outputs = outputs_by_counter[execution_count]\n\u001b[32m-> \u001b[39m\u001b[32m3044\u001b[39m     \u001b[38;5;28;01mif\u001b[39;00m \u001b[43moutputs\u001b[49m\u001b[43m[\u001b[49m\u001b[43m-\u001b[49m\u001b[32;43m1\u001b[39;49m\u001b[43m]\u001b[49m\u001b[43m.\u001b[49m\u001b[43moutput_type\u001b[49m == output_type:\n\u001b[32m   3045\u001b[39m         output_stream = outputs[-\u001b[32m1\u001b[39m]\n\u001b[32m   3046\u001b[39m \u001b[38;5;28;01mif\u001b[39;00m output_stream \u001b[38;5;129;01mis\u001b[39;00m \u001b[38;5;28;01mNone\u001b[39;00m:\n",
      "\u001b[36mCell\u001b[39m\u001b[36m \u001b[39m\u001b[32mIn[14]\u001b[39m\u001b[32m, line 10\u001b[39m, in \u001b[36mcb\u001b[39m\u001b[34m(code, offset)\u001b[39m\n\u001b[32m      8\u001b[39m \u001b[38;5;28;01mif\u001b[39;00m steps <= \u001b[32m0\u001b[39m:\n\u001b[32m      9\u001b[39m     steps = \u001b[32m10000000\u001b[39m \u001b[38;5;66;03m# Other stuff is happening?\u001b[39;00m\n\u001b[32m---> \u001b[39m\u001b[32m10\u001b[39m     \u001b[38;5;28;01mraise\u001b[39;00m \u001b[38;5;167;01mRuntimeError\u001b[39;00m(\u001b[33m\"\u001b[39m\u001b[33mStep limit exceeded\u001b[39m\u001b[33m\"\u001b[39m)\n",
      "\u001b[31mRuntimeError\u001b[39m: Step limit exceeded"
     ]
    }
   ],
   "source": [
    "import sys\n",
    "TOOLID = 3\n",
    "sys.monitoring.use_tool_id(TOOLID, \"steplimiter\")\n",
    "steps = 10000\n",
    "def cb(code, offset):\n",
    "    global steps\n",
    "    steps -= 1\n",
    "    if steps <= 0:\n",
    "        steps = 10000000 # Other stuff is happening?\n",
    "        raise RuntimeError(\"Step limit exceeded\")\n",
    "sys.monitoring.register_callback(TOOLID, sys.monitoring.events.INSTRUCTION, cb)\n",
    "sys.monitoring.set_events(TOOLID, sys.monitoring.events.INSTRUCTION)\n",
    "try:\n",
    "    while True:\n",
    "        print(steps)\n",
    "finally:\n",
    "    sys.monitoring.register_callback(TOOLID, sys.monitoring.events.INSTRUCTION, None)\n",
    "    print(\"Step limit reached, monitoring stopped.\")\n",
    "    sys.monitoring.register_callback(\n",
    "            TOOLID, sys.monitoring.events.INSTRUCTION, None\n",
    "        )\n",
    "    sys.monitoring.free_tool_id(TOOLID)\n"
   ]
  },
  {
   "cell_type": "code",
   "execution_count": 14,
   "id": "d2e9adda",
   "metadata": {},
   "outputs": [
    {
     "ename": "TypeError",
     "evalue": "'locals' is an invalid keyword argument for exec()",
     "output_type": "error",
     "traceback": [
      "\u001b[31m---------------------------------------------------------------------------\u001b[39m",
      "\u001b[31mTypeError\u001b[39m                                 Traceback (most recent call last)",
      "\u001b[36mCell\u001b[39m\u001b[36m \u001b[39m\u001b[32mIn[14]\u001b[39m\u001b[32m, line 5\u001b[39m\n\u001b[32m      3\u001b[39m f = \u001b[38;5;28;01mlambda\u001b[39;00m x: x\n\u001b[32m      4\u001b[39m \u001b[38;5;28misinstance\u001b[39m(f.\u001b[34m__code__\u001b[39m, types.CodeType)\n\u001b[32m----> \u001b[39m\u001b[32m5\u001b[39m \u001b[43mexec\u001b[49m\u001b[43m(\u001b[49m\u001b[43mf\u001b[49m\u001b[43m.\u001b[49m\u001b[34;43m__code__\u001b[39;49m\u001b[43m,\u001b[49m\u001b[43m \u001b[49m\u001b[38;5;28;43mlocals\u001b[39;49m\u001b[43m=\u001b[49m\u001b[43m{\u001b[49m\u001b[33;43m\"\u001b[39;49m\u001b[33;43mx\u001b[39;49m\u001b[33;43m\"\u001b[39;49m\u001b[43m \u001b[49m\u001b[43m:\u001b[49m\u001b[43m \u001b[49m\u001b[32;43m42\u001b[39;49m\u001b[43m}\u001b[49m\u001b[43m)\u001b[49m\n",
      "\u001b[31mTypeError\u001b[39m: 'locals' is an invalid keyword argument for exec()"
     ]
    }
   ],
   "source": [
    "import types\n",
    "isinstance(lambda x: x, types.CodeType)\n",
    "f = lambda x: x\n",
    "isinstance(f.__code__, types.CodeType)\n",
    "exec(f.__code__, locals={\"x\" : 42})"
   ]
  },
  {
   "cell_type": "markdown",
   "id": "ce90cd63",
   "metadata": {},
   "source": [
    "Reals. n can give a 1/n ball size or 2^-n + [-N, N] bounding box.\n",
    " "
   ]
  },
  {
   "cell_type": "code",
   "execution_count": null,
   "id": "bfdd0e95",
   "metadata": {},
   "outputs": [
    {
     "data": {
      "text/plain": [
       "frozenset({Fraction(0, 1),\n",
       "           Fraction(1, 10),\n",
       "           Fraction(1, 5),\n",
       "           Fraction(3, 10),\n",
       "           Fraction(2, 5),\n",
       "           Fraction(1, 2),\n",
       "           Fraction(3, 5),\n",
       "           Fraction(7, 10),\n",
       "           Fraction(4, 5),\n",
       "           Fraction(9, 10),\n",
       "           Fraction(1, 1)})"
      ]
     },
     "execution_count": 3,
     "metadata": {},
     "output_type": "execute_result"
    }
   ],
   "source": [
    "import fractions\n",
    "import flint\n",
    "\n",
    "\n",
    "#flint.arb(n) for range(n)\n",
    "def I(n):\n",
    "    return frozenset([fractions.Fraction(i, n) for i in range(n+1)])\n",
    "I(10)\n"
   ]
  },
  {
   "cell_type": "code",
   "execution_count": 5,
   "id": "1ed3b0f1",
   "metadata": {},
   "outputs": [
    {
     "data": {
      "text/plain": [
       "frozenset({mpf('0.0'),\n",
       "           mpf('0.33331298828125'),\n",
       "           mpf('0.6666259765625'),\n",
       "           mpf('1.0')})"
      ]
     },
     "execution_count": 5,
     "metadata": {},
     "output_type": "execute_result"
    }
   ],
   "source": [
    "import mpmath\n",
    "def I(n):\n",
    "    with mpmath.workdps(n):\n",
    "        return frozenset([mpmath.mpf(i)/n for i in range(n+1)])\n",
    "I(3)\n"
   ]
  },
  {
   "cell_type": "code",
   "execution_count": null,
   "id": "7e64b1df",
   "metadata": {},
   "outputs": [
    {
     "ename": "NameError",
     "evalue": "name 'flint' is not defined",
     "output_type": "error",
     "traceback": [
      "\u001b[31m---------------------------------------------------------------------------\u001b[39m",
      "\u001b[31mNameError\u001b[39m                                 Traceback (most recent call last)",
      "\u001b[36mCell\u001b[39m\u001b[36m \u001b[39m\u001b[32mIn[15]\u001b[39m\u001b[32m, line 1\u001b[39m\n\u001b[32m----> \u001b[39m\u001b[32m1\u001b[39m \u001b[38;5;28mset\u001b[39m([\u001b[43mflint\u001b[49m.arb(\u001b[32m1\u001b[39m)])\n",
      "\u001b[31mNameError\u001b[39m: name 'flint' is not defined"
     ]
    }
   ],
   "source": [
    "set([flint.arb(1)]) # can't hash...."
   ]
  }
 ],
 "metadata": {
  "kernelspec": {
   "display_name": "philzook58.github.io",
   "language": "python",
   "name": "python3"
  },
  "language_info": {
   "codemirror_mode": {
    "name": "ipython",
    "version": 3
   },
   "file_extension": ".py",
   "mimetype": "text/x-python",
   "name": "python",
   "nbconvert_exporter": "python",
   "pygments_lexer": "ipython3",
   "version": "3.12.3"
  }
 },
 "nbformat": 4,
 "nbformat_minor": 5
}
