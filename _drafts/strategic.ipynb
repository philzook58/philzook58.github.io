{
 "cells": [
  {
   "cell_type": "markdown",
   "id": "e6d5bd3c",
   "metadata": {},
   "source": []
  },
  {
   "cell_type": "markdown",
   "id": "fac315df",
   "metadata": {},
   "source": [
    "https://dl.acm.org/doi/10.1145/3633211 Shoggoth: A Formal Foundation for Strategic Rewriting\n",
    "\n",
    "https://spoofax.dev/background/stratego/strategic-rewriting/strategic-rewriting/\n",
    "https://spoofax.dev/references/stratego/\n",
    "\n",
    "https://github.com/sdiehl/pyrewrite\n",
    "\n",
    "https://en.wikipedia.org/wiki/XSLT\n",
    "\n",
    "https://inst.eecs.berkeley.edu/~cs294-260/sp24/2024-01-22-term-rewriting;./ max's notes\n",
    "https://inst.eecs.berkeley.edu/~cs294-260/sp24/2024-01-31-opt-strategies elevate\n",
    "\n",
    "https://arxiv.org/html/2411.06409v1 Automated Strategy Invention for Confluence of Term Rewrite Systems\n",
    "\n",
    "env,ctx,t -> list (env, ctx, t)\n",
    "\n",
    "\n",
    "t -> list t can be lifted\n",
    "\n",
    "(ctx, t) -> list (ctx, t)\n",
    "\n",
    "https://news.ycombinator.com/item?id=25112907\n",
    "\n",
    "spoofax\n",
    "elan\n",
    "\n",
    "Eelco Visser, Zine-El-Abidine Benaissa, and Andrew P. Tolmach. Building program optimizers with rewriting strategies https://doi.org/10.1145/289423.289425\n",
    "\n",
    "https://inria.hal.science/hal-01143486/document Rewriting Strategies and Strategic Rewrite Programs Kirchner\n",
    "\n",
    "https://www.irif.fr/~letouzey/types2014/slides-13.pdf Proof-Relevant Rewriting Strategies - Matthieu Sozeau. Generalized rewriting strategies https://www.irif.fr/~letouzey/types2014/abstract-13.pdf\n",
    "\n",
    "\n",
    "\n",
    "Minikanren vs minikanren-flp vs micro-stratego\n",
    "\n",
    "unification -> matching, which is simpler.\n",
    "State needs context (?)\n",
    "We could reuse host ctx.\n",
    "\n",
    "(subst, term) -> list (subst, term)\n",
    "\n",
    "one thing is marked special. Could have special variable in subst to hold term. That's how you embed into minikanren.. ehh, not so much.\n",
    "\n",
    "lambda-stratego\n",
    "clp-stratego\n",
    "asp-stratego\n",
    "tabled-stratego\n",
    "data-stratego\n",
    "\n",
    "krishnaswami yallop style partial evaluation based on heads\n",
    "\n",
    "\n",
    "type Ctx = QunCtx Ctx | DeclHole Ctx | Top \n",
    "\n",
    "https://github.com/JuliaSymbolics/Rewriters.jl\n",
    "\n",
    "https://eelcovisser.org/publications/1998/VisserB98.pdf a core language for rewriting. System S\n",
    "\n",
    "Progy graph strategy language\n",
    "\n",
    "conversions https://www.cl.cam.ac.uk/~lp15/papers/Reports/TR035-lcp-rewriting.pdf\n",
    "\n",
    "inferring strategies as proof objects? (compactify / generalize a concrete rewriting path)\n",
    "\n",
    "\n",
    "Have zipper apply congruences\n",
    "Conversions. Start from refl t = t and go left once. Zipper object is in charge of congruence.\n",
    "\n",
    "Modulo Context.\n",
    "Hash consing context + zipper. Syntax trees are not dags.\n",
    "Hash conses perfectly destroy context.\n",
    "(ctx, t)\n",
    "\n",
    "https://www.scitepress.org/Papers/2024/127040/127040.pdf pyzstrageic \n",
    "\n",
    "\n",
    "\n",
    "\n",
    "Contextual rewriting using zipper.\n",
    "forall lhs = rhs, pos  . Use pos as \"trigger\" location for indexing. Coindcutives, sets, etc\n",
    "Match on context.\n",
    "\n",
    "Algebraic effects system?\n",
    "raise(Foo, )\n",
    "catch()\n",
    "\n",
    "f(raise(cont)) = raise(cont f)\n",
    "Rules for evertyhintg. Hmm. Kind of reminds me of generalized rewriting?\n",
    "f(raise) ~ effect congruence\n",
    "Hmm.\n",
    "\n",
    "type Effect = Read() | Write | Fork ()\n",
    "\n",
    "With zipper, these things become more doable.\n",
    "\n",
    "\n"
   ]
  },
  {
   "cell_type": "code",
   "execution_count": null,
   "id": "4ecd48a5",
   "metadata": {},
   "outputs": [],
   "source": []
  },
  {
   "cell_type": "code",
   "execution_count": null,
   "id": "a94a2623",
   "metadata": {},
   "outputs": [],
   "source": [
    "type Subst = dict[smt.ExprRef, smt.ExprRef]\n",
    "type Ctx = list[smt.ExprRef]\n",
    "type State = tuple[Subst, Ctx, smt.ExprRer]\n",
    "type Strategy = Generator[[State], State]\n",
    "def pmatch(pat) -> Strategy:\n",
    "    def res(state):\n",
    "\n",
    "    return res\n",
    "\n",
    "def build(schema) -> Stategy:\n",
    "    def res(_t):\n",
    "        yield smt.substitute(schema, *subst.items())\n",
    "    return res\n",
    "def seq(*strats): # conj\n",
    "    def res(st):\n",
    "        if len(strats) == 0:\n",
    "            yield st\n",
    "        else:\n",
    "            for state in strats:\n",
    "                yield from seq(*strats[1:])(state)\n",
    "    return res\n",
    "\n",
    "def fairseq(*strats)\n",
    "\n",
    "def fail(state): return\n",
    "\n",
    "def repeat(strat):\n",
    "\n",
    "def all_child(strat): # mapchild?\n",
    "def some(strat):\n",
    "\n",
    "def topdown(): ...\n",
    "def bottomup(): ...\n",
    "def innermost(): ...\n",
    "\n",
    "def id_(strat): return strat\n",
    "\n",
    "\n",
    "\n",
    "\n",
    "def try_(strat):\n",
    "\n",
    "def left(a, b):\n",
    "    def res(state):\n",
    "        n = 0\n",
    "        for st in a(state):\n",
    "            n += 1\n",
    "            yield st\n",
    "        if n == 0:\n",
    "            yield from b(state)\n",
    "\n",
    "class Strat():\n",
    "    def __matmul__(self, rhs): ...\n",
    "    def __add__(self, rhs):\n"
   ]
  },
  {
   "cell_type": "code",
   "execution_count": null,
   "id": "0199b14f",
   "metadata": {},
   "outputs": [
    {
     "data": {
      "text/html": [
       "4181"
      ],
      "text/plain": [
       "4181"
      ]
     },
     "execution_count": 41,
     "metadata": {},
     "output_type": "execute_result"
    }
   ],
   "source": [
    "n,m = smt.Ints(\"n m\")\n",
    "fib = smt.Function(\"fib\", smt.IntSort(), smt.IntSort())\n",
    "fib = kd.define(\"fib\", [n], smt.If(n == 0, 0, smt.If(n == 1, 1, fib(n-1) + fib(n-2))))\n",
    "\n",
    "\n",
    "\n"
   ]
  },
  {
   "cell_type": "code",
   "execution_count": null,
   "id": "c2ed03f2",
   "metadata": {},
   "outputs": [],
   "source": [
    "fib0 = kd.prove(fib(0) == 0, unfold=1)\n",
    "fib1 = kd.prove(fib(1) == 1, unfold=1)\n",
    "fib2 = kd.prove(fib(2) == 1, unfold=2)\n",
    "\n"
   ]
  },
  {
   "cell_type": "code",
   "execution_count": null,
   "id": "54f60710",
   "metadata": {},
   "outputs": [
    {
     "data": {
      "text/html": [
       "S(S(S(S(S(S(S(S(S(S(Z))))))))))"
      ],
      "text/plain": [
       "S(S(S(S(S(S(S(S(S(S(Z))))))))))"
      ]
     },
     "execution_count": 55,
     "metadata": {},
     "output_type": "execute_result"
    }
   ],
   "source": [
    "import kdrag.theories.nat as nat\n",
    "nat.add_S\n",
    "nat.add_Z\n",
    "\n",
    "kd.rewrite.full_simp(nat.from_int(10))\n",
    "#kd.rewrite.full_simp(nat.add(m, nat.S(nat.S(nat.S(nat.Z())))))\n",
    "kd.rewrite.full_simp(nat.from_int(10) + )\n"
   ]
  },
  {
   "cell_type": "code",
   "execution_count": null,
   "id": "e4b4c593",
   "metadata": {},
   "outputs": [],
   "source": [
    "hundred = kd.rewrite.full_simp(nat.from_int(100))"
   ]
  },
  {
   "cell_type": "code",
   "execution_count": 67,
   "id": "e63bab90",
   "metadata": {},
   "outputs": [
    {
     "name": "stdout",
     "output_type": "stream",
     "text": [
      "168 ms ± 1.84 ms per loop (mean ± std. dev. of 7 runs, 10 loops each)\n"
     ]
    }
   ],
   "source": [
    "%%timeit\n",
    "kd.rewrite.full_simp(hundred + nat.Z)"
   ]
  },
  {
   "cell_type": "code",
   "execution_count": 65,
   "id": "91647dc8",
   "metadata": {},
   "outputs": [],
   "source": [
    "hundred = kd.rewrite.full_simp(nat.from_int(100))"
   ]
  },
  {
   "cell_type": "code",
   "execution_count": 66,
   "id": "61f5ae11",
   "metadata": {},
   "outputs": [
    {
     "name": "stdout",
     "output_type": "stream",
     "text": [
      "319 ms ± 1.44 ms per loop (mean ± std. dev. of 7 runs, 1 loop each)\n"
     ]
    }
   ],
   "source": [
    "%%timeit\n",
    "kd.rewrite.rewrite(hundred + nat.Z, [nat.add_S, nat.add_Z])"
   ]
  },
  {
   "cell_type": "code",
   "execution_count": 42,
   "id": "67394369",
   "metadata": {},
   "outputs": [
    {
     "name": "stdout",
     "output_type": "stream",
     "text": [
      "7.03 ms ± 59 μs per loop (mean ± std. dev. of 7 runs, 100 loops each)\n"
     ]
    }
   ],
   "source": [
    "%%timeit\n",
    "kd.rewrite.full_simp(fib(19))"
   ]
  },
  {
   "cell_type": "code",
   "execution_count": null,
   "id": "cd5a1cf8",
   "metadata": {},
   "outputs": [
    {
     "data": {
      "text/plain": [
       "3"
      ]
     },
     "execution_count": 31,
     "metadata": {},
     "output_type": "execute_result"
    }
   ],
   "source": [
    "@dataclass(frozen=True)\n",
    "class QuantifierHole():\n",
    "    vs : list[smt.ExprRef] # orig_vs : list[smt.ExprRef]\n",
    "class LambdaHole(QuantifierHole):\n",
    "    def wrap(self, e:smt.ExprRef) -> smt.ExprRef:\n",
    "        return smt.Lambda(self.vs, e)\n",
    "class ForAllHole(QuantifierHole):\n",
    "    def wrap(self, e:smt.ExprRef) -> smt.ExprRef:\n",
    "        return smt.ForAll(self.vs, e)\n",
    "class ExistsHole(QuantifierHole):\n",
    "    def wrap(self, e:smt.ExprRef) -> smt.ExprRef:\n",
    "        return smt.Exists(self.vs, e)\n",
    "\n",
    "@dataclass(frozen=True)\n",
    "class DeclHole():\n",
    "    f : smt.FuncDeclRef\n",
    "    _left : tuple[smt.ExprRef]\n",
    "    _right : tuple[smt.ExprRef]\n",
    "    def wrap(self, e:smt.ExprRef) -> smt.ExprRef:\n",
    "        return self.f(*self._left, e, *self._right)\n",
    "    def left(self, t : smt.ExprRef) -> tuple[Ctx, smt.ExprRef]:\n",
    "        assert len(self._left) > 0\n",
    "        return DeclHole(self.f, self._left[:-1], (self._left[-1],) + self._right), self._left[-1]\n",
    "    def right(self, t : smt.ExprRef) -> tuple[DeclHole, smt.ExprRef]:\n",
    "        assert len(self._right) > 0\n",
    "        return DeclHole(self.f, self._left + (self._right[0],), self._right[1:]), self._right[0]\n",
    "    def has_left(self) -> bool:\n",
    "        return len(self._left) > 0\n",
    "    def has_right(self) -> bool:\n",
    "        return len(self._right) > 0\n",
    "type Hole = ForAllHole | ExistsHole | LambdaHole | DeclHole\n",
    "\n",
    "@dataclass\n",
    "class Zipper():\n",
    "    ctx : list[Hole] # trail / stack\n",
    "    t : smt.ExprRef\n",
    "    @classmethod\n",
    "    def from_term(cls, t : smt.ExprRef) -> \"Zipper\":\n",
    "        return cls([], t)\n",
    "    def pop(self): # up?\n",
    "        hole = self.ctx.pop()\n",
    "        self.t = hole.wrap(self.t)\n",
    "        return self\n",
    "    def copy(self):\n",
    "        return Zipper(self.ctx.copy(), self.t)\n",
    "    def left(self):\n",
    "        hole = self.ctx.pop()\n",
    "        assert isinstance(hole, DeclHole)\n",
    "        hole, self.t = hole.left(self.t)\n",
    "        self.ctx.append(hole)\n",
    "        return self\n",
    "    def right(self):\n",
    "        assert isinstance(self.ctx, DeclHole)\n",
    "        self.ctx, self.t = self.ctx.right(self.t)\n",
    "        return self\n",
    "    def arg(self, n):\n",
    "        children = self.t.children()\n",
    "        self.ctx.append(DeclHole(self.t.decl(), children[:n],  children[n+1:]))\n",
    "        self.t = children[n]\n",
    "        return self\n",
    "    def open_binder(self):\n",
    "        assert isinstance(self.t, smt.QuantifierRef)\n",
    "        vs, body = kd.utils.open_binder(self.t)\n",
    "        if self.t.is_forall():\n",
    "            hole = ForAllHole(vs)\n",
    "        elif self.t.is_exists():\n",
    "            hole = ExistsHole(vs)\n",
    "        elif self.t.is_lambda():\n",
    "            hole = LambdaHole(vs)\n",
    "        self.ctx.append(hole)\n",
    "        self.t = body\n",
    "        return self\n",
    "    def __hash__(self):\n",
    "        return hash((tuple(self.ctx), self.t))\n",
    "\n",
    "\n",
    "x,y,z = smt.Ints('x y z')\n",
    "Zipper.from_term(smt.ForAll([x], smt.Implies(x > 0, smt.And(x < 10, x < 20)))).open_binder().arg(0).arg(1).pop().pop().pop().t\n",
    "\n",
    "\n",
    "{Zipper.from_term(smt.ForAll([x], smt.Implies(x > 0, smt.And(x < 10, x < 20)))) : 3}\n",
    "Zipper.from_term(smt.ForAll([x], smt.Implies(x > 0, smt.And(x < 10, x < 20)))) == Zipper.from_term(smt.ForAll([x], smt.Implies(y > 0, smt.And(x < 10, x < 20))))\n",
    "{Zipper.from_term(smt.ForAll([x], smt.Implies(x > 0, smt.And(x < 10, x < 20)))) : 3}[Zipper.from_term(smt.ForAll([x], smt.Implies(x > 0, smt.And(x < 10, x < 20))))]\n"
   ]
  },
  {
   "cell_type": "code",
   "execution_count": null,
   "id": "eac5f315",
   "metadata": {},
   "outputs": [
    {
     "ename": "NotImplementedError",
     "evalue": "No implementation of getitem for sort Bool. Register a definition via getitem.register(Bool, your_code)",
     "output_type": "error",
     "traceback": [
      "\u001b[31m---------------------------------------------------------------------------\u001b[39m",
      "\u001b[31mNotImplementedError\u001b[39m                       Traceback (most recent call last)",
      "\u001b[36mCell\u001b[39m\u001b[36m \u001b[39m\u001b[32mIn[15]\u001b[39m\u001b[32m, line 94\u001b[39m\n\u001b[32m     89\u001b[39m         \u001b[38;5;28;01mreturn\u001b[39;00m \u001b[38;5;28mself\u001b[39m\n\u001b[32m     92\u001b[39m x,y,z = smt.Ints(\u001b[33m'\u001b[39m\u001b[33mx y z\u001b[39m\u001b[33m'\u001b[39m)\n\u001b[32m---> \u001b[39m\u001b[32m94\u001b[39m \u001b[43mZipper\u001b[49m\u001b[43m.\u001b[49m\u001b[43mfrom_term\u001b[49m\u001b[43m(\u001b[49m\u001b[43msmt\u001b[49m\u001b[43m.\u001b[49m\u001b[43mForAll\u001b[49m\u001b[43m(\u001b[49m\u001b[43m[\u001b[49m\u001b[43mx\u001b[49m\u001b[43m]\u001b[49m\u001b[43m,\u001b[49m\u001b[43m \u001b[49m\u001b[43msmt\u001b[49m\u001b[43m.\u001b[49m\u001b[43mImplies\u001b[49m\u001b[43m(\u001b[49m\u001b[43mx\u001b[49m\u001b[43m \u001b[49m\u001b[43m>\u001b[49m\u001b[43m \u001b[49m\u001b[32;43m0\u001b[39;49m\u001b[43m,\u001b[49m\u001b[43m \u001b[49m\u001b[43msmt\u001b[49m\u001b[43m.\u001b[49m\u001b[43mAnd\u001b[49m\u001b[43m(\u001b[49m\u001b[43mx\u001b[49m\u001b[43m \u001b[49m\u001b[43m<\u001b[49m\u001b[43m \u001b[49m\u001b[32;43m10\u001b[39;49m\u001b[43m,\u001b[49m\u001b[43m \u001b[49m\u001b[43mx\u001b[49m\u001b[43m \u001b[49m\u001b[43m<\u001b[49m\u001b[43m \u001b[49m\u001b[32;43m20\u001b[39;49m\u001b[43m)\u001b[49m\u001b[43m)\u001b[49m\u001b[43m)\u001b[49m\u001b[43m)\u001b[49m\u001b[43m.\u001b[49m\u001b[43mopen_binder\u001b[49m\u001b[43m(\u001b[49m\u001b[43m)\u001b[49m\u001b[43m.\u001b[49m\u001b[43marg\u001b[49m\u001b[43m(\u001b[49m\u001b[32;43m0\u001b[39;49m\u001b[43m)\u001b[49m\u001b[43m.\u001b[49m\u001b[43marg\u001b[49m\u001b[43m(\u001b[49m\u001b[32;43m1\u001b[39;49m\u001b[43m)\u001b[49m\u001b[43m.\u001b[49m\u001b[43mpop\u001b[49m\u001b[43m(\u001b[49m\u001b[43m)\u001b[49m\n",
      "\u001b[36mCell\u001b[39m\u001b[36m \u001b[39m\u001b[32mIn[15]\u001b[39m\u001b[32m, line 74\u001b[39m, in \u001b[36mZipper.pop\u001b[39m\u001b[34m(self)\u001b[39m\n\u001b[32m     73\u001b[39m \u001b[38;5;28;01mdef\u001b[39;00m\u001b[38;5;250m \u001b[39m\u001b[34mpop\u001b[39m(\u001b[38;5;28mself\u001b[39m): \u001b[38;5;66;03m# up?\u001b[39;00m\n\u001b[32m---> \u001b[39m\u001b[32m74\u001b[39m     \u001b[38;5;28mself\u001b[39m.ctx, \u001b[38;5;28mself\u001b[39m.t = \u001b[38;5;28mself\u001b[39m.ctx.wrap(\u001b[38;5;28mself\u001b[39m.t)\n\u001b[32m     75\u001b[39m     \u001b[38;5;28;01mreturn\u001b[39;00m \u001b[38;5;28mself\u001b[39m\n",
      "\u001b[36mFile \u001b[39m\u001b[32m~/Documents/python/knuckledragger/src/kdrag/notation.py:189\u001b[39m, in \u001b[36m<lambda>\u001b[39m\u001b[34m(x, y)\u001b[39m\n\u001b[32m    187\u001b[39m getitem = SortDispatch(name=\u001b[33m\"\u001b[39m\u001b[33mgetitem\u001b[39m\u001b[33m\"\u001b[39m)\n\u001b[32m    188\u001b[39m \u001b[33;03m\"\"\"Sort based dispatch for `[]` getitem syntax\"\"\"\u001b[39;00m\n\u001b[32m--> \u001b[39m\u001b[32m189\u001b[39m smt.ExprRef.\u001b[34m__getitem__\u001b[39m = \u001b[38;5;28;01mlambda\u001b[39;00m x, y: \u001b[43mgetitem\u001b[49m\u001b[43m(\u001b[49m\u001b[43mx\u001b[49m\u001b[43m,\u001b[49m\u001b[43m \u001b[49m\u001b[43my\u001b[49m\u001b[43m)\u001b[49m  \u001b[38;5;66;03m# type: ignore\u001b[39;00m\n\u001b[32m    192\u001b[39m to_int = SortDispatch(name=\u001b[33m\"\u001b[39m\u001b[33mto_int\u001b[39m\u001b[33m\"\u001b[39m)\n\u001b[32m    193\u001b[39m \u001b[33;03m\"\"\"Sort based dispatch for `to_int`\"\"\"\u001b[39;00m\n",
      "\u001b[36mFile \u001b[39m\u001b[32m~/Documents/python/knuckledragger/src/kdrag/notation.py:86\u001b[39m, in \u001b[36mSortDispatch.__call__\u001b[39m\u001b[34m(self, *args, **kwargs)\u001b[39m\n\u001b[32m     84\u001b[39m res = \u001b[38;5;28mself\u001b[39m.methods.get(sort, \u001b[38;5;28mself\u001b[39m.default)\n\u001b[32m     85\u001b[39m \u001b[38;5;28;01mif\u001b[39;00m res \u001b[38;5;129;01mis\u001b[39;00m \u001b[38;5;28;01mNone\u001b[39;00m:\n\u001b[32m---> \u001b[39m\u001b[32m86\u001b[39m     \u001b[38;5;28;01mraise\u001b[39;00m \u001b[38;5;167;01mNotImplementedError\u001b[39;00m(\n\u001b[32m     87\u001b[39m         \u001b[33mf\u001b[39m\u001b[33m\"\u001b[39m\u001b[33mNo implementation of \u001b[39m\u001b[38;5;132;01m{\u001b[39;00m\u001b[38;5;28mself\u001b[39m.name\u001b[38;5;132;01m}\u001b[39;00m\u001b[33m for sort \u001b[39m\u001b[38;5;132;01m{\u001b[39;00msort\u001b[38;5;132;01m}\u001b[39;00m\u001b[33m. Register a definition via \u001b[39m\u001b[38;5;132;01m{\u001b[39;00m\u001b[38;5;28mself\u001b[39m.name\u001b[38;5;132;01m}\u001b[39;00m\u001b[33m.register(\u001b[39m\u001b[38;5;132;01m{\u001b[39;00msort\u001b[38;5;132;01m}\u001b[39;00m\u001b[33m, your_code)\u001b[39m\u001b[33m\"\u001b[39m,\n\u001b[32m     88\u001b[39m     )\n\u001b[32m     89\u001b[39m \u001b[38;5;28;01mreturn\u001b[39;00m res(*args, **kwargs)\n",
      "\u001b[31mNotImplementedError\u001b[39m: No implementation of getitem for sort Bool. Register a definition via getitem.register(Bool, your_code)"
     ]
    }
   ],
   "source": [
    "from kdrag.all import *\n",
    "from dataclasses import dataclass\n",
    "from typing import Protocol\n",
    "class Ctx(Protocol):\n",
    "    ctx : Optional[\"Ctx\"]\n",
    "    def pop(self, e:smt.ExprRef) -> smt.ExprRef: ...\n",
    "    def wrap(self, e:smt.ExprRef) -> smt.ExprRef: ...\n",
    "    def arg(self, n:int, t : smt.ExprRef) -> tuple[Ctx, smt.ExprRef]:\n",
    "        assert smt.is_app(t)\n",
    "        children = t.children()\n",
    "        f = t.decl()\n",
    "        return DeclHole(f, children[:n], children[n+1:], self), children[n]\n",
    "    def children(self) -> list[tuple[Ctx, smt.ExprRef]]:\n",
    "        return [self.arg(n) for n in range(len(self.body.children()))]\n",
    "    def open_binder(self, t : smt.QuantifierRef) -> tuple[Ctx, smt.ExprRef]:\n",
    "        assert isinstance(t, smt.QuantifierRef)\n",
    "        vs, body = kd.utils.open_binder(t)\n",
    "        if t.is_forall():\n",
    "            return ForAllHole(vs, body, self), body\n",
    "        elif t.is_exists():\n",
    "            return ExistsHole(vs, body, self), body\n",
    "        elif t.is_lambda():\n",
    "            return LambdaHole(vs, body, self), body\n",
    "        else:\n",
    "            raise NotImplementedError(f\"Unknown binder {t}\")\n",
    "\n",
    "@dataclass(frozen=True)\n",
    "class Hole(Ctx):\n",
    "    ctx = None\n",
    "    def wrap(self, e:smt.ExprRef) -> smt.ExprRef:\n",
    "        raise NotImplementedError()   \n",
    "@dataclass(frozen=True)\n",
    "class QuantifierHole(Ctx):\n",
    "    vs : list[smt.ExprRef] # orig_vs : list[smt.ExprRef]\n",
    "    ctx : Ctx\n",
    "class LambdaHole(QuantifierHole):\n",
    "    def wrap(self, e:smt.ExprRef) -> smt.ExprRef:\n",
    "        return smt.Lambda(self.vs, e)\n",
    "class ForAllHole(QuantifierHole):\n",
    "    def wrap(self, e:smt.ExprRef) -> smt.ExprRef:\n",
    "        return smt.ForAll(self.vs, e)\n",
    "class ExistsHole(QuantifierHole):\n",
    "    def wrap(self, e:smt.ExprRef) -> smt.ExprRef:\n",
    "        return smt.Exists(self.vs, e)\n",
    "\n",
    "@dataclass(frozen=True)\n",
    "class DeclHole(Ctx):\n",
    "    f : smt.FuncDeclRef\n",
    "    _left : tuple[smt.ExprRef]\n",
    "    _right : tuple[smt.ExprRef]\n",
    "    ctx : Ctx\n",
    "    def wrap(self, e:smt.ExprRef) -> smt.ExprRef:\n",
    "        return self.f(*self._left, e, *self._right)\n",
    "    def left(self, t : smt.ExprRef) -> tuple[Ctx, smt.ExprRef]:\n",
    "        assert len(self._left) > 0\n",
    "        return DeclHole(self.f, self._left[:-1], (self._left[-1],) + self._right, self.ctx), self._left[-1]\n",
    "    def has_left(self) -> bool:\n",
    "        return len(self._left) > 0\n",
    "    def has_right(self) -> bool:\n",
    "        return len(self._right) > 0\n",
    "    def right(self, t : smt.ExprRef) -> tuple[Ctx, smt.ExprRef]:\n",
    "        assert len(self._right) > 0\n",
    "        return DeclHole(self.f, self._left + (self._right[0],), self._right[1:], self.ctx), self._right[0]\n",
    "\n",
    "@dataclass\n",
    "class Zipper():\n",
    "    ctx : Ctx\n",
    "    t : smt.ExprRef\n",
    "    @classmethod\n",
    "    def from_term(cls, t : smt.ExprRef) -> \"Zipper\":\n",
    "        return cls(Hole(), t)\n",
    "    def pop(self): # up?\n",
    "        self.ctx, self.t = self.ctx.wrap(self.t)\n",
    "        return self\n",
    "    def left(self):\n",
    "        assert isinstance(self.ctx, DeclHole)\n",
    "        self.ctx, self.t = self.ctx.left(self.t)\n",
    "        return self\n",
    "    def right(self):\n",
    "        assert isinstance(self.ctx, DeclHole)\n",
    "        self.ctx, self.t = self.ctx.right(self.t)\n",
    "        return self\n",
    "    def arg(self, n):\n",
    "        self.ctx, self.t = self.ctx.arg(n, self.t)\n",
    "        return self\n",
    "    def open_binder(self):\n",
    "        self.ctx, self.t = self.ctx.open_binder(self.t)\n",
    "        return self\n",
    "\n",
    "\n",
    "x,y,z = smt.Ints('x y z')\n",
    "\n",
    "Zipper.from_term(smt.ForAll([x], smt.Implies(x > 0, smt.And(x < 10, x < 20)))).open_binder().arg(0).arg(1).pop()\n",
    "\n",
    "\n",
    "\n"
   ]
  },
  {
   "cell_type": "code",
   "execution_count": null,
   "id": "afa21c3b",
   "metadata": {},
   "outputs": [],
   "source": []
  },
  {
   "cell_type": "code",
   "execution_count": null,
   "id": "08766756",
   "metadata": {},
   "outputs": [],
   "source": []
  },
  {
   "cell_type": "code",
   "execution_count": null,
   "id": "0e873159",
   "metadata": {},
   "outputs": [],
   "source": []
  }
 ],
 "metadata": {
  "kernelspec": {
   "display_name": "philzook58.github.io",
   "language": "python",
   "name": "python3"
  },
  "language_info": {
   "codemirror_mode": {
    "name": "ipython",
    "version": 3
   },
   "file_extension": ".py",
   "mimetype": "text/x-python",
   "name": "python",
   "nbconvert_exporter": "python",
   "pygments_lexer": "ipython3",
   "version": "3.12.3"
  }
 },
 "nbformat": 4,
 "nbformat_minor": 5
}
