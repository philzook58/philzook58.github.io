{
 "cells": [
  {
   "cell_type": "markdown",
   "id": "78ec489c",
   "metadata": {},
   "source": [
    "\n",
    "telescoping property. I can do that one. in knuckledragger\n",
    "\n",
    "Look over strang for something interesting?\n",
    "Look at Wayne's\n",
    "\n",
    "\n",
    "\n",
    "\n",
    "\n"
   ]
  }
 ],
 "metadata": {
  "language_info": {
   "name": "python"
  }
 },
 "nbformat": 4,
 "nbformat_minor": 5
}
