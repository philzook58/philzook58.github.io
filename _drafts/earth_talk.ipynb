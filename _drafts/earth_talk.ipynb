{
 "cells": [
  {
   "cell_type": "markdown",
   "id": "78ec489c",
   "metadata": {},
   "source": [
    "\n",
    "telescoping property. I can do that one. in knuckledragger\n",
    "\n",
    "Look over strang for something interesting?\n",
    "Look at Wayne's\n",
    "\n",
    "https://civl-verifier.github.io/\n",
    "\n",
    "https://github.com/sandialabs/elaenia/tree/main/examples/05_kalman \n",
    "\n",
    "https://github.com/alperaltuntas/R3Sw\n",
    "\n",
    "https://www.alperaltuntas.com/assets/pdf/altuntas2025specification.pdf\n",
    "\n",
    "https://github.com/ESMCI/visualCaseGen/blob/main/visualCaseGen/specs/relational_constraints.py\n",
    "\n",
    "https://github.com/ESMCI/visualCaseGen"
   ]
  },
  {
   "cell_type": "markdown",
   "id": "4128e94c",
   "metadata": {},
   "source": [
    "# SMT as a Constraint Solver\n",
    "\n",
    "- Minizinc\n",
    "- LP / MILP\n",
    "\n",
    "\n"
   ]
  },
  {
   "cell_type": "markdown",
   "id": "edd0c475",
   "metadata": {},
   "source": [
    "# SMT as a Theorem Prover\n",
    "\n",
    "- Geometry\n",
    "- Alper's example\n",
    "- \n"
   ]
  },
  {
   "cell_type": "markdown",
   "id": "078d15bc",
   "metadata": {},
   "source": [
    "# Automatic Tools Powered by SMT\n",
    "\n",
    "You may be in the game of building significant tools, \n",
    "but there are many tools powered by SMT solvers that may be useful off the shelf.\n",
    "\n",
    "\n",
    "\n",
    "- Klee\n",
    "- Rosette\n",
    "- Dafny\n",
    "- Alive2\n",
    "- \n"
   ]
  },
  {
   "cell_type": "markdown",
   "id": "38fb7b4d",
   "metadata": {},
   "source": [
    "## CBMC and Kani\n",
    "\n"
   ]
  },
  {
   "cell_type": "markdown",
   "id": "9197d8ef",
   "metadata": {},
   "source": [
    "## ASMC"
   ]
  },
  {
   "cell_type": "markdown",
   "id": "ef998b84",
   "metadata": {},
   "source": [
    "# Semi-Automatic Tools\n",
    "\n",
    "- Frama-C\n",
    "- ADA/Spark\n",
    "- LiquidHaskell\n",
    "- F*\n",
    "- Dafny"
   ]
  },
  {
   "cell_type": "markdown",
   "id": "64a7a62e",
   "metadata": {},
   "source": [
    "## Knuckledragger\n"
   ]
  },
  {
   "cell_type": "markdown",
   "id": "089a1b1a",
   "metadata": {},
   "source": [
    "\n",
    "- https://github.com/malyzajko/daisy\n",
    "- \n"
   ]
  }
 ],
 "metadata": {
  "language_info": {
   "name": "python"
  }
 },
 "nbformat": 4,
 "nbformat_minor": 5
}
