{
 "cells": [
  {
   "cell_type": "code",
   "execution_count": null,
   "metadata": {},
   "outputs": [],
   "source": [
    "\n"
   ]
  },
  {
   "cell_type": "markdown",
   "metadata": {},
   "source": [
    "ramsey pfeff 02\n",
    "\n",
    "giry 86\n",
    "\n",
    "kozen 82\n",
    "\n",
    "judea pearl network and pluasible inference. monotonic\n",
    "\n",
    "flip \n",
    "observe"
   ]
  },
  {
   "cell_type": "markdown",
   "metadata": {},
   "source": [
    "https://www.youtube.com/watch?v=TFXcVlKqPlM&list=WL&index=214  A Personal Viewpoint on Probabilistic Programming\n",
    "\n",
    "\n",
    "Quickcheck for probablistic theorems?\n",
    "E([x-xbar)**2] = E(x**2) - E(x)**2\n",
    "\n",
    "\n",
    "\n"
   ]
  },
  {
   "cell_type": "markdown",
   "metadata": {},
   "source": [
    "## Stochastic Processes\n",
    "Finite Markov chains as transition matrices. eigenvectors give stable distribution.\n",
    "Frobenius perron\n",
    "\n",
    "Movement on a grid. Boltzmann dynamics. Monte carlo vs closed form stuff.\n",
    "\n",
    "\n",
    "\n",
    "\n",
    "\n"
   ]
  },
  {
   "cell_type": "markdown",
   "metadata": {},
   "source": [
    "## Probability proof\n",
    "Nate says markov categories.\n",
    "\n",
    "\n",
    "Consider a fallible proof checker.\n",
    "\n",
    "discount proofsa by depth \n",
    "\n",
    "https://plato.stanford.edu/entries/logic-probability/\n",
    "\n",
    "probability of raininig\n",
    "\n",
    "Judea Pearl counterfactual\n",
    "\n",
    "The bad space of it feels kind of more like statistical mechanics. We maybe can dscribe relative proabbilities, but the summing is a big problem\n",
    "\n",
    "https://www.khoury.northeastern.edu/home/sholtzen/assets/pdf/pldi25-roulette.pdf https://github.com/camoy/roulette\n",
    "Hmm. Mixed BDD and SAT approach?\n",
    "weighted model counting. Dice.\n",
    "https://github.com/neuppl/rsdd\n",
    "BDD dynamic programming can evalutae probability.\n",
    "SDD sentential decision diagram?\n",
    "\n",
    "https://github.com/neuppl/CS7470-Notes\n",
    "https://github.com/SHoltzen/oplss24-code - translate to lean. why not\n",
    "\n",
    "https://www.scallop-lang.org/doc/developer/index.html\n",
    "\n",
    "https://github.com/mlb2251/Pluck.jl  https://pluck-lang.github.io/\n",
    " https://dl.acm.org/doi/10.1145/3729325  Stochastic Lazy Knowledge Compilation for Inference in Discrete Probabilistic Programs\n",
    "\n",
    " https://arxiv.org/abs/2502.19538 Multi-Language Probabilistic Programming"
   ]
  },
  {
   "cell_type": "code",
   "execution_count": null,
   "metadata": {},
   "outputs": [],
   "source": [
    "from dd.autoref import BDD\n",
    "\n",
    "\n",
    "bdd = BDD()\n",
    "bdd.declare('x', 'y', 'z', 'w')\n",
    "\n"
   ]
  },
  {
   "cell_type": "markdown",
   "metadata": {},
   "source": [
    "Dario Stein. Fresh name generation. Hygienic use of names is in a curious way also a high low non interference kind of thing. https://arxiv.org/abs/2007.08638 Probabilistic Programming Semantics for Name Generation https://www.youtube.com/watch?v=BNlfSrz3Yyo . Hmm. Yeah they are using that two random reals have zero chance of being equal by accident. The analog of picking uuids or yooling to random instead of using a carried counter\n",
    "\n",
    "Alexander Lew\n",
    "\n",
    "The noninterference testbench is running the program twice on related inputs.\n",
    "The probablistic testbench is running \n",
    "\n",
    "We cannot infer / there is no relative entropy between the parameter used to generate the type? No.\n",
    "Given one run, no inference about second run?\n",
    "\n",
    "Statistical tests for parametricity?\n",
    "\n",
    "Probablistic types. Makes sense for JIT assumptions (probably this is of type i64)\n",
    "Probablistic dependent types. Representing the likelihood / belief that a proof of proposition can be found.\n",
    "Probaility that random automated theorem prover can find proof?\n",
    "Asking about \"probability that P is true\" seems problematic in a constructive kind of way. There are two many ways to show something\n",
    "modal logic is kind of truthy. kind of probably.\n",
    "\n"
   ]
  },
  {
   "cell_type": "code",
   "execution_count": null,
   "metadata": {},
   "outputs": [],
   "source": [
    "def parametricity_tetsbench():\n",
    "    param = rand_int()\n",
    "    T = rand_type(param)\n",
    "    x = rand_value(T)\n",
    "    y = f(T, x)\n",
    "    return param, T,x,y\n"
   ]
  },
  {
   "cell_type": "markdown",
   "metadata": {},
   "source": [
    "https://www.cambridge.org/core/books/foundations-of-probabilistic-programming/819623B1B5B33836476618AC0621F0EE quantiative equational theories\n",
    "probalistic term rewriting https://arxiv.org/abs/1802.09774\n",
    "probablistic flp?\n",
    "\n",
    "stochastic equational search\n",
    "probablstic tree automata\n",
    "\n",
    "What is the egraph? It's some kind of finite space to work in?\n",
    "\n",
    "term metric estimation by machine learning?\n",
    "\n",
    "https://arxiv.org/abs/1809.10756 An Introduction to Probabilistic Programming\n",
    "\n",
    "https://en.wikipedia.org/wiki/Markov_chain\n",
    "Perron Freobenius theorem\n",
    "\n",
    "https://github.com/CamDavidsonPilon/Probabilistic-Programming-and-Bayesian-Methods-for-Hackers?tab=readme-ov-file\n"
   ]
  },
  {
   "cell_type": "markdown",
   "metadata": {},
   "source": [
    "# 09/24\n",
    "\n",
    "\n",
    "\n",
    "Parametriccity, staged pmtaprogrammaingh, relation moderls, \"information flow\". Information should be modelled as (cross) entropy yeah?\n",
    "\n",
    "stan\n",
    "\n",
    "prbablistic programming\n",
    "oplss lectures\n",
    "\n",
    "\n",
    "church\n",
    "julia\n",
    "mcmc\n",
    "pymc\n",
    "\n",
    "psi_solver algberaic oslvers\n",
    "\n",
    "dice\n",
    "\n",
    "bit blasting https://arxiv.org/pdf/2312.05706  https://github.com/Tractables/Dice.jl/tree/hybit\n",
    "approx model counting? \n",
    "\n",
    "http://dippl.org/ \n",
    "\n",
    "https://www.cs.cornell.edu/courses/cs4110/2016fa/lectures/lecture33.html\n",
    "\n",
    "https://news.ycombinator.com/item?id=28941145 \n",
    "\n",
    "\n",
    "judea pearl counterfactuals\n",
    "probablistic graphical models - hypergraph summation algorithm\n",
    "causal models https://plato.stanford.edu/entries/causal-models/ add causal graph to probablilities. do calculus\n",
    "https://ftp.cs.ucla.edu/pub/stat_ser/r485.pdf jueda pearl\n",
    "https://www.inference.vc/causal-inference-3-counterfactuals/\n",
    "\n",
    "\n",
    "# probablistic logic programming\n",
    "\n",
    "https://dtai.cs.kuleuven.be/problog/\n",
    "https://www.cambridge.org/core/journals/theory-and-practice-of-logic-programming/article/what-if-in-probabilistic-logic-programming/B00D65811DDB308BA2215628EAB10242\n",
    "\n",
    "cplint https://github.com/friguzzi/cplint `pack_install(cplint).`\n",
    "https://swi-prolog.discourse.group/t/new-book-second-edition-of-foundations-of-probabilistic-logic-programming/6228\n",
    "https://github.com/friguzzi/matrix huh matrix ops\n",
    "https://github.com/friguzzi/bddem?tab=readme-ov-file bdd manipulation\n",
    "\n",
    "https://ai.unife.it/fabrizio-riguzzi/  klaman filter huh\n",
    "https://ml.unife.it/plp-book/ Foundations of Probabilistic Logic Programming Languages, Semantics, Inference and Learning\n",
    "https://cplint.ml.unife.it/\n",
    "\n",
    "https://github.com/rzese/trill\n",
    "\n",
    "https://psl.linqs.org/\n",
    "\n",
    "\n",
    "scallop\n",
    "\n",
    "judea pearl counterfactoual reasoing\n"
   ]
  },
  {
   "cell_type": "code",
   "execution_count": 2,
   "metadata": {},
   "outputs": [
    {
     "ename": "PrologError",
     "evalue": "source_sink `cplint' does not exist",
     "output_type": "error",
     "traceback": [
      "\u001b[0;31m---------------------------------------------------------------------------\u001b[0m",
      "\u001b[0;31mPrologError\u001b[0m                               Traceback (most recent call last)",
      "Cell \u001b[0;32mIn[2], line 3\u001b[0m\n\u001b[1;32m      1\u001b[0m \u001b[38;5;28;01mimport\u001b[39;00m \u001b[38;5;21;01mjanus_swi\u001b[39;00m \u001b[38;5;28;01mas\u001b[39;00m \u001b[38;5;21;01mjanus\u001b[39;00m\n\u001b[0;32m----> 3\u001b[0m \u001b[43mjanus\u001b[49m\u001b[38;5;241;43m.\u001b[39;49m\u001b[43mconsult\u001b[49m\u001b[43m(\u001b[49m\u001b[38;5;124;43m\"\u001b[39;49m\u001b[38;5;124;43mcplint\u001b[39;49m\u001b[38;5;124;43m\"\u001b[39;49m\u001b[43m)\u001b[49m\n",
      "File \u001b[0;32m~/.local/lib/python3.10/site-packages/janus_swi/janus.py:350\u001b[0m, in \u001b[0;36mconsult\u001b[0;34m(file, data, module)\u001b[0m\n\u001b[1;32m    334\u001b[0m \u001b[38;5;28;01mdef\u001b[39;00m \u001b[38;5;21mconsult\u001b[39m(file, data\u001b[38;5;241m=\u001b[39m\u001b[38;5;28;01mNone\u001b[39;00m, module\u001b[38;5;241m=\u001b[39m\u001b[38;5;124m'\u001b[39m\u001b[38;5;124muser\u001b[39m\u001b[38;5;124m'\u001b[39m):\n\u001b[1;32m    335\u001b[0m \u001b[38;5;250m    \u001b[39m\u001b[38;5;124;03m\"\"\"\u001b[39;00m\n\u001b[1;32m    336\u001b[0m \u001b[38;5;124;03m    Consult a Prolog file.\u001b[39;00m\n\u001b[1;32m    337\u001b[0m \n\u001b[0;32m   (...)\u001b[0m\n\u001b[1;32m    348\u001b[0m \u001b[38;5;124;03m        loaded module are imported into.\u001b[39;00m\n\u001b[1;32m    349\u001b[0m \u001b[38;5;124;03m    \"\"\"\u001b[39;00m\n\u001b[0;32m--> 350\u001b[0m     \u001b[43mquery_once\u001b[49m\u001b[43m(\u001b[49m\u001b[38;5;124;43m\"\u001b[39;49m\u001b[38;5;124;43mjanus:py_consult(File, Data, Module)\u001b[39;49m\u001b[38;5;124;43m\"\u001b[39;49m\u001b[43m,\u001b[49m\n\u001b[1;32m    351\u001b[0m \u001b[43m         \u001b[49m\u001b[43m{\u001b[49m\u001b[38;5;124;43m\"\u001b[39;49m\u001b[38;5;124;43mFile\u001b[39;49m\u001b[38;5;124;43m\"\u001b[39;49m\u001b[43m:\u001b[49m\u001b[43mfile\u001b[49m\u001b[43m,\u001b[49m\u001b[43m \u001b[49m\u001b[38;5;124;43m\"\u001b[39;49m\u001b[38;5;124;43mData\u001b[39;49m\u001b[38;5;124;43m\"\u001b[39;49m\u001b[43m:\u001b[49m\u001b[43mdata\u001b[49m\u001b[43m,\u001b[49m\u001b[43m \u001b[49m\u001b[38;5;124;43m\"\u001b[39;49m\u001b[38;5;124;43mModule\u001b[39;49m\u001b[38;5;124;43m\"\u001b[39;49m\u001b[43m:\u001b[49m\u001b[43mmodule\u001b[49m\u001b[43m}\u001b[49m\u001b[43m)\u001b[49m\n",
      "File \u001b[0;32m~/.local/lib/python3.10/site-packages/janus_swi/janus.py:243\u001b[0m, in \u001b[0;36mquery_once\u001b[0;34m(query, inputs, keep, truth_vals)\u001b[0m\n\u001b[1;32m    225\u001b[0m \u001b[38;5;250m\u001b[39m\u001b[38;5;124;03m\"\"\"\u001b[39;00m\n\u001b[1;32m    226\u001b[0m \u001b[38;5;124;03mCall a Prolog predicate as `query_once/1`\u001b[39;00m\n\u001b[1;32m    227\u001b[0m \n\u001b[0;32m   (...)\u001b[0m\n\u001b[1;32m    240\u001b[0m \u001b[38;5;124;03m    How to deal with _Well Founded Semantics_ undefined results.\u001b[39;00m\n\u001b[1;32m    241\u001b[0m \u001b[38;5;124;03m\"\"\"\u001b[39;00m\n\u001b[1;32m    242\u001b[0m inputs[\u001b[38;5;124m'\u001b[39m\u001b[38;5;124mtruth\u001b[39m\u001b[38;5;124m'\u001b[39m] \u001b[38;5;241m=\u001b[39m truth_vals\n\u001b[0;32m--> 243\u001b[0m \u001b[38;5;28;01mreturn\u001b[39;00m \u001b[43m_swipl\u001b[49m\u001b[38;5;241;43m.\u001b[39;49m\u001b[43mcall\u001b[49m\u001b[43m(\u001b[49m\u001b[43mquery\u001b[49m\u001b[43m,\u001b[49m\u001b[43m \u001b[49m\u001b[43minputs\u001b[49m\u001b[43m,\u001b[49m\u001b[43m \u001b[49m\u001b[43mkeep\u001b[49m\u001b[43m)\u001b[49m\n",
      "\u001b[0;31mPrologError\u001b[0m: source_sink `cplint' does not exist"
     ]
    }
   ],
   "source": [
    "import janus_swi as janus\n",
    "\n",
    "janus.consult(\"cplint\")"
   ]
  },
  {
   "cell_type": "code",
   "execution_count": 1,
   "metadata": {},
   "outputs": [
    {
     "data": {
      "text/plain": [
       "{win: 0.4}"
      ]
     },
     "execution_count": 1,
     "metadata": {},
     "output_type": "execute_result"
    }
   ],
   "source": [
    "from problog.program import PrologString\n",
    "from problog.core import ProbLog\n",
    "from problog import get_evaluatable\n",
    "\n",
    "p = PrologString(\"\"\"\n",
    "coin(c1). coin(c2).\n",
    "0.4::heads(C); 0.6::tails(C) :- coin(C).\n",
    "win :- heads(C).\n",
    "evidence(heads(c1), false).\n",
    "query(win).\n",
    "\"\"\")\n",
    "\n",
    "get_evaluatable().create_from(p).evaluate()"
   ]
  }
 ],
 "metadata": {
  "kernelspec": {
   "display_name": "philzook58.github.io",
   "language": "python",
   "name": "python3"
  },
  "language_info": {
   "codemirror_mode": {
    "name": "ipython",
    "version": 3
   },
   "file_extension": ".py",
   "mimetype": "text/x-python",
   "name": "python",
   "nbconvert_exporter": "python",
   "pygments_lexer": "ipython3",
   "version": "3.12.3"
  }
 },
 "nbformat": 4,
 "nbformat_minor": 2
}
