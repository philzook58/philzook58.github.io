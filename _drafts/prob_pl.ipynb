{
 "cells": [
  {
   "cell_type": "code",
   "execution_count": null,
   "metadata": {},
   "outputs": [],
   "source": [
    "\n"
   ]
  },
  {
   "cell_type": "markdown",
   "metadata": {},
   "source": [
    "Probablistic e-graphs. Probablsitic tree automata. Represents a probablistic extraction /acceptanbce process. THe connection between and eclass to enode has probablity weight on it.\n",
    "Stochastic equational search. Exact probabilities?\n",
    "\n",
    "BDDs ~ normalizing hashcons ~ egraph\n",
    "\n",
    "Exact probaliostic inference\n",
    "Verification that monte carlo wacky thing is producing right distribution. Blokc updating https://en.wikipedia.org/wiki/Monte_Carlo_method\n",
    "Gvien exact spectrum we can ask about mixing time, \n",
    "\n",
    "Almost sure termination\n",
    "https://www.youtube.com/watch?v=25uuBNISTY8  almost sure termination of probbablistic programs - Katoen\n",
    "\n",
    "Symbolic execution ~ exact inference.\n",
    "Conditioning ~? staging\n",
    "\n",
    "What is the analog of a loop invariant? Stationary distribution?\n",
    "\n",
    "Probalistic assembly or verilog for fault tolerance\n",
    "\n",
    "Lilac  https://arxiv.org/abs/2304.01339 Lilac: A Modal Separation Logic for Conditional Probability\n",
    "Heaps of distributions? That's how separation logic could be used?\n",
    "Analogy to Fock space? \n",
    "https://en.wikipedia.org/wiki/Hilbert_cube\n",
    "weakest pre-expectation\n",
    "\n",
    "\n",
    "https://arxiv.org/abs/2502.19538  Multi-Language Probabilistic Programming. Sampling and exact interop\n",
    "\n",
    "\n",
    "\n",
    "\n",
    "\n",
    "https://en.wikipedia.org/wiki/Differential_privacy . Oh. This is probablistic non interference. Could you do staging, parametricity from this angle? Probablisitc leaking of types. probablistic leaking from runtime to compile time (recompilation? dice flip to rejit? really there are N stages, but we could model as monte carlo flipping between two maybe). What is a light breaking of parametrcitiy\n",
    "\n",
    "dirac deltas as completion of gaussian space.\n",
    "\n",
    "exact inference as a topic\n",
    "\n",
    "λPSI: Exact inference for higher-order probabilistic programs https://www.sri.inf.ethz.ch/publications/gehr2020lpsi https://github.com/eth-sri/psi\n",
    "AQUA: Automated quantized inference for probabilistic programs\n",
    "\n",
    "\n",
    "generating functions  method as alternative to bdd\n",
    "https://arxiv.org/abs/2007.06327  Generating Functions for Probabilistic Programs. 2021. kind of a theory paper\n",
    "https://arxiv.org/abs/2302.00513  Exact Probabilistic Inference Using Generating Functions. Prodigy tool\n",
    "Barvinovik. Latte? That was like summing over polytopes\n",
    "\n",
    "kniowledge compilation. chavira darwiche\n",
    "Darwiche, A., & Marquis, P. (2002). A knowledge compilation map. Journal of Artificial Intelligence Research, 17, 229–264.\n",
    "Chavira, M., & Darwiche, A. (2008). On probabilistic inference by weighted model counting. Artificial Intelligence, 172(6-7), 772–799.\n",
    "\n",
    "\n",
    "\n",
    "https://www.youtube.com/watch?v=revNgAPjcrM Jost acchen  Bayesian Inference by Program Verification - Joost-Pieter Katoen, RWTH Aachen University\n",
    "Semantic models for higher-order Bayesian inference - Sam Staton, University of Oxford  https://www.youtube.com/watch?v=nqfvr4pRB_o\n",
    "https://logic-data-science.github.io/index.html?page=logic_learning\n",
    "https://www.floc2018.org/summit-on-machine-learning/\n",
    "\n",
    "https://www.youtube.com/watch?v=n08kGjReS74 Probabilistic Programming Tutorial Part 1 Vikash Mansinghka (MIT\n",
    "\n",
    "https://www.youtube.com/watch?v=VvbqnaUswRw 2019 Wheeler Lecture: Combining formal methods and machine learning\n",
    "\n",
    "\n",
    "Problog\n",
    "https://arxiv.org/abs/2010.03485 SPPL: Probabilistic Programming with Fast Exact Symbolic Inference https://github.com/probsys/sppl https://github.com/probsys\n",
    "\n",
    "\n",
    "https://arxiv.org/abs/1809.10756 An Introduction to Probabilistic Programming\n",
    "\n",
    "\n",
    "Numpy based exact enumeration? [(a, Prob)] form of piponi was exact.\n",
    ", array[Prob]\n",
    "\n",
    "Kind of starts clarifying\n",
    "variable name -> which index\n",
    "observation -> value of index\n",
    "observe = project True \n",
    "independent tensors.\n",
    "x = flip(1/2)\n",
    "def flip(p):\n",
    "    return np.tensor\n",
    "A factored (lazy kron) representation.\n",
    "Random variable = Matrix (?) from huge sample space to single axis.\n",
    "\n",
    "\n",
    "\n",
    " Carette, J., Shan, C.: Simplifying probabilistic programs using computer algebra.\n",
    "In: PADL. LNCS, vol. 9585, pp. 135–152. Springer (2016)\n",
    "\n",
    "\n",
    "\n",
    "\n",
    "\n",
    "https://docs.racket-lang.org/roulette/index.html\n",
    "\n",
    "\n",
    "Stohastic optics? Ray tracing off rough surfaces\n",
    "Solving PDE in random environment? Walk on spheres + random potential (which stays consistent, which is the weird part)\n",
    "\n",
    "\n",
    "https://www.youtube.com/watch?v=TFXcVlKqPlM&list=WL&index=214  A Personal Viewpoint on Probabilistic Programming\n",
    "\n",
    "\n",
    "Quickcheck for probablistic theorems?\n",
    "E([x-xbar)**2] = E(x**2) - E(x)**2\n",
    "\n",
    "https://neuppl.github.io/CS7470-Fall23/\n",
    "https://github.com/neuppl/CS7470-Notes\n",
    "\n",
    "\n",
    "judea pearl counterfactural reasoning https://www.inference.vc/causal-inference-3-counterfactuals/\n",
    "https://direct.mit.edu/books/oa-edited-volume/5525/chapter/4090475/Causal-and-Counterfactual-Inference \n",
    "do calculus\n",
    "Causal hierarchy? https://x.com/yudapearl/status/1945555790452199524 \n",
    "sympy prob reasoning\n"
   ]
  },
  {
   "cell_type": "markdown",
   "metadata": {},
   "source": [
    "# Measure\n",
    "https://en.wikipedia.org/wiki/%CE%A3-algebra\n",
    "\n",
    "Random variables. Functions from sample space to observation\n",
    "https://en.wikipedia.org/wiki/Random_variable\n",
    "measure theory. \n",
    "Axler\n",
    "Tao book https://terrytao.wordpress.com/wp-content/uploads/2012/12/gsm-126-tao5-measure-book.pdf\n",
    "\n",
    "Honestly, the idea that you have probablities of sets vs values is hard to parse. P(x) is probablity.\n",
    "P : Set X -> R rather than P : X -> R. But the first has to be derived more or less from the latter barring infinity\n",
    "https://en.wikipedia.org/wiki/Essential_infimum_and_essential_supremum That's interesting. \n",
    "Reminds me of this https://en.wikipedia.org/wiki/Limit_inferior_and_limit_superior#limit_superior\n",
    "\n",
    "\n",
    "Maybe I want to be working in subset of X from the get go. Use telescope facilities?\n",
    "\n",
    "Isabelle, coq, PVS versions?\n",
    "\n",
    "https://en.wikipedia.org/wiki/Kosambi%E2%80%93Karhunen%E2%80%93Lo%C3%A8ve_theorem Wassit? Kosambi–Karhunen–Loève theorem"
   ]
  },
  {
   "cell_type": "code",
   "execution_count": null,
   "metadata": {},
   "outputs": [],
   "source": [
    "from kdrag.all import *\n",
    "from kdrag.theories.set as set_\n",
    "\n",
    "X = smt.DeclareSort(\"X\") # sample space\n",
    "SetX = set_.SetSort(X)\n",
    "measurable = smt.Function(\"measurable\", SetX, smt.BoolSort())\n",
    "\n",
    "RFun  = smt.ArraySort(X, smt.RealSort())\n",
    "meas = smt.Function(\"meas\", SetX, smt.RealSort())\n",
    "Prob = smt.Function(\"Prob\", SetX, RFun, smt.RealSort())\n",
    "p = kd.SchemaVar(\"p\", RFun)\n",
    "kd.axiom(measurable(set_.Full(X)))\n",
    "kd.axiom(measurable(set_.Empty(X)))\n",
    "# closed under inter union, countable union, and intersection. countable\n",
    "kd.axiom(smt.Implies( meas(A & B) , meas(A) & meas(B) )\n",
    "kd.axiom(smt.Implies(   ,measurable(B) , measurable(A) )\n",
    "\n",
    "CountUnion(smt.ArraySort(smt.IntSort(), SetX))\n",
    "CountInter(smt.ArraySort(smt.IntSort(), SetX))\n",
    "\n",
    "\n",
    "kd.axiom(Prob(set_.Full(X), p) == 1)\n",
    "kd.axiom(Prob(set_.Empty(X), p) == 0)\n",
    "\n",
    "\n"
   ]
  },
  {
   "cell_type": "markdown",
   "metadata": {},
   "source": [
    "# State merging\n",
    "https://www.dominic-steinhoefel.de/post/precise-symbolic-state-merging/\n",
    "symbolic union in rosette\n",
    "\n",
    "https://arxiv.org/pdf/1610.00502 symbolic execution survbety\n",
    "\"loop summaries\"\n",
    "\n"
   ]
  },
  {
   "cell_type": "markdown",
   "metadata": {},
   "source": [
    "# OPLSS\n",
    "ramsey pfeff 02\n",
    "\n",
    "giry 86\n",
    "\n",
    "kozen 82\n",
    "\n",
    "judea pearl network and pluasible inference. monotonic\n",
    "\n",
    "flip \n",
    "observe"
   ]
  },
  {
   "cell_type": "markdown",
   "metadata": {},
   "source": [
    "\n",
    "What about my __bool__ stuff? Can we rosettifying it. Merging in symbolic execution"
   ]
  },
  {
   "cell_type": "code",
   "execution_count": null,
   "metadata": {},
   "outputs": [],
   "source": [
    "from z3 import *\n",
    "\n",
    "p = smt.Real(\"p\")\n",
    "x = smt.Bool(\"x\")\n",
    "y = smt.Bool(\"y\")\n",
    "\n"
   ]
  },
  {
   "cell_type": "code",
   "execution_count": null,
   "metadata": {},
   "outputs": [
    {
     "data": {
      "text/plain": [
       "{True: Fraction(1, 2), False: Fraction(1, 2)}"
      ]
     },
     "execution_count": 10,
     "metadata": {},
     "output_type": "execute_result"
    }
   ],
   "source": [
    "class Dist():\n",
    "    def __init__(self, dist):\n",
    "        self.dist = dist\n",
    "    \n",
    "\n",
    "class RandomVar():\n",
    "    def __init__(self, dist):\n",
    "\n",
    "\n",
    "def flip(p):\n",
    "    #return [(True, p), (False, 1 - p)]\n",
    "    return {True: p, False: 1 - p}  # Omega -> P\n",
    "import fractions \n",
    "x = flip(fractions.Fraction(1, 2))\n",
    "def flip(name, p):\n",
    "    return {name : {True: p, False: 1 - p}}  # Omega -> P\n",
    "def flip(name, p): # stateful form\n",
    "    def res(env):\n",
    "        return {**env, name: {True: p, False: 1 - p}}  # Omega -> P\n",
    "    return res\n",
    "def ite(cond, true_branch, false_branch):\n",
    "    def res(env):\n",
    "        if cond(env):\n",
    "            return true_branch(env)\n",
    "        else:\n",
    "            return false_branch(env)\n",
    "    return res\n",
    "def var(name):\n",
    "    def res(env):\n",
    "        return env[name]\n",
    "    return res\n",
    "\n",
    "\n",
    "def seq(**args):\n",
    "    def res(env):\n",
    "        for a in args:\n",
    "            env = a(env)\n",
    "        return env\n",
    "    return res\n",
    "\n"
   ]
  },
  {
   "cell_type": "markdown",
   "metadata": {},
   "source": [
    "lecture 2\n",
    "conditioning sampling\n",
    "https://www.cs.uoregon.edu/research/summerschool/summer24/lectures/HoltzenSlides2.pdf\n",
    "```\n",
    "route <- flip .5\n",
    "\n",
    "\n",
    "```\n",
    "\n",
    "tiny cond\n",
    "```\n",
    "p ::= true | false | ...\n",
    "e ::= flip r | x <- e; e | return p | observe p ; e\n",
    "```\n",
    "\n",
    "\n",
    "semantics\n",
    "```\n",
    "[[e]]\n",
    "\n",
    "\n",
    "[[observ p ; e]](rho)(v) = if [[p]](rho) = tt thyen [[e]](rho)(v) else 0\n",
    "\n",
    "```\n",
    "\n",
    "Nonlocal. Comefrom? Aspect oriented?\n",
    "\n",
    "\n",
    "\n",
    "unnormalized semantics\n",
    "\n",
    "operational sampling sematics\n",
    "E[[f]] = sum_omega Pr(omega)f(omega) ~ 1 / N sum f(omega)\n",
    "\n",
    "Concentration inequalities\n",
    "\n",
    "Culpepper 2017\n",
    "```\n",
    "sigma |- <e , rho> down V\n",
    "\n",
    "v :: sigma |- flip  1/2 down v\n",
    "\n",
    "split the hcoice sequences\n",
    "pi(sigma) |- <e , rho>\n",
    "\n",
    "\n",
    "E_sigma [1(eval(e,sgima,rho) == tt)] = [[e]](rho)(tt)\n",
    "\n",
    "\\bB^\\bN  is \n",
    "\n",
    "E[k] = k constant\n",
    "E[f(sigma)] = E[1/2f(tt :: sigma) + 1/2f(ff :: sigma)]\n",
    "E[fg] = E[f]*E[g]  independent?\n",
    "\n",
    "\n",
    "\n",
    "```\n",
    "\"entropy space\" ?\n",
    "https://en.wikipedia.org/wiki/Cantor_space\n",
    "\n",
    "Choice sequences. Hmm. Hypothesis. Randomized testing / property based testing.\n",
    "\n",
    "Hilbert cube. How do you make sense out of priobability on infinite spaces. The probabuility of x = 0.4848954... is 0.\n",
    "The probability of a particular infintie stream is 0.\n",
    "Prefixes\n",
    "\n",
    "\n",
    "\n",
    "\n",
    "\n"
   ]
  },
  {
   "cell_type": "code",
   "execution_count": 7,
   "metadata": {},
   "outputs": [
    {
     "data": {
      "text/plain": [
       "True"
      ]
     },
     "execution_count": 7,
     "metadata": {},
     "output_type": "execute_result"
    }
   ],
   "source": [
    "import ast\n",
    "\n",
    "def interp_expr(p, rho):\n",
    "    match p:\n",
    "        case ast.Constant(value=True):\n",
    "            return True\n",
    "        case ast.Constant(value=False):\n",
    "            return False\n",
    "        case ast.Name(id=v):\n",
    "            return rho[v]\n",
    "        case ast.BoolOp(op=ast.And(), values=values):\n",
    "            return all(interp_expr(v, rho) for v in values)\n",
    "        case ast.BoolOp(op=ast.Or(), values=values):\n",
    "            return any(interp_expr(v, rho) for v in values)\n",
    "def interp_stmt(e, rho):\n",
    "    match e:\n",
    "        case ast.Assign([v], value=ast.Call(func=ast.Name(id='flip'), args=[ast.Constant(value=p)])):\n",
    "            return {**rho, v.id: {True: p, False: 1 - p}}\n",
    "        case ast.Assign([v], value=p):\n",
    "            return {**rho, v.id: interp_expr(p)}\n",
    "        case ast.Return(value=p):\n",
    "            return interp_expr(p, rho)\n",
    "\n",
    "def interp_stmts(stmts, rho):\n",
    "    for s in stmts:\n",
    "        rho = interp_stmt(s, rho)\n",
    "    return rho\n",
    "\n",
    "interp_stmts(ast.parse(\"\"\"\n",
    "x = flip(0.5)\n",
    "y = flip(0.7)\n",
    "return x and y\n",
    "\"\"\").body, {})\n"
   ]
  },
  {
   "cell_type": "markdown",
   "metadata": {},
   "source": [
    "# Roulette\n",
    "Performs inference over the s semiring using RSDD\n",
    "Are the smirings the held value or the \n",
    "https://github.com/neuppl/rsdd https://neuppl.github.io/rsdd-docs/\n",
    "\n",
    "https://en.wikipedia.org/wiki/Sentential_decision_diagram \n",
    "\n",
    "recent trends in knowcledge ocmpilation"
   ]
  },
  {
   "cell_type": "code",
   "execution_count": null,
   "metadata": {},
   "outputs": [],
   "source": []
  },
  {
   "cell_type": "code",
   "execution_count": 1,
   "metadata": {},
   "outputs": [
    {
     "name": "stdout",
     "output_type": "stream",
     "text": [
      "raco pkg install: package is already installed\n",
      "  package: roulette\n"
     ]
    }
   ],
   "source": [
    "! raco pkg install roulette"
   ]
  },
  {
   "cell_type": "code",
   "execution_count": 7,
   "metadata": {},
   "outputs": [
    {
     "name": "stdout",
     "output_type": "stream",
     "text": [
      "Overwriting /tmp/test.rkt\n"
     ]
    }
   ],
   "source": [
    "%%file /tmp/test.rkt\n",
    "#lang roulette/example/disrupt\n",
    "(if (flip 1/2) 'a 'b)\n"
   ]
  },
  {
   "cell_type": "code",
   "execution_count": 8,
   "metadata": {},
   "outputs": [
    {
     "name": "stdout",
     "output_type": "stream",
     "text": [
      "(pmf | 'b ↦ 0.5 | 'a ↦ 0.5)\n"
     ]
    }
   ],
   "source": [
    "! racket /tmp/test.rkt"
   ]
  },
  {
   "cell_type": "markdown",
   "metadata": {},
   "source": [
    "Rosette\n",
    "leanette\n"
   ]
  },
  {
   "cell_type": "code",
   "execution_count": 26,
   "metadata": {},
   "outputs": [
    {
     "name": "stdout",
     "output_type": "stream",
     "text": [
      "Overwriting /tmp/test.rkt\n"
     ]
    }
   ],
   "source": [
    "%%file /tmp/test.rkt\n",
    "#lang rosette/safe\n",
    "(define-symbolic b boolean?)\n",
    "(boolean? b)\n",
    "(boolean? b)\n",
    "(assert #t)\n",
    "(assert #f)"
   ]
  },
  {
   "cell_type": "code",
   "execution_count": 27,
   "metadata": {},
   "outputs": [
    {
     "name": "stdout",
     "output_type": "stream",
     "text": [
      "#t\n",
      "#t\n",
      "[assert] failed\n",
      "  context...:\n",
      "   /home/philip/snap/code/202/.local/share/racket/8.17/pkgs/rosette/rosette/base/core/exn.rkt:59:11: raise-exn:fail:svm:assert:user\n",
      "   /tmp/test.rkt:6:0\n",
      "   body of \"/tmp/test.rkt\"\n"
     ]
    }
   ],
   "source": [
    "! racket /tmp/test.rkt"
   ]
  },
  {
   "cell_type": "code",
   "execution_count": 23,
   "metadata": {},
   "outputs": [
    {
     "name": "stdout",
     "output_type": "stream",
     "text": [
      "Welcome to Racket v8.17 [cs].\n"
     ]
    },
    {
     "name": "stdout",
     "output_type": "stream",
     "text": [
      "> "
     ]
    },
    {
     "name": "stderr",
     "output_type": "stream",
     "text": [
      "; stdin:1:0: read-syntax: `#lang` not enabled\n",
      ";   possible reason: not allowed again inside a module that already starts\n",
      ";     `#lang`, or not enabled for interactive evaluation\n",
      "; [,bt for context]\n",
      "; rosette/safe: undefined;\n",
      ";  cannot reference an identifier before its definition\n",
      ";   in module: top-level\n",
      "; [,bt for context]\n"
     ]
    },
    {
     "name": "stdout",
     "output_type": "stream",
     "text": [
      "> > "
     ]
    },
    {
     "name": "stderr",
     "output_type": "stream",
     "text": [
      "; define-symbolic: undefined;\n",
      ";  cannot reference an identifier before its definition\n",
      ";   in module: top-level\n",
      "; [,bt for context]\n",
      "; b: undefined;\n",
      ";  cannot reference an identifier before its definition\n",
      ";   in module: top-level\n",
      "; [,bt for context]\n"
     ]
    },
    {
     "name": "stdout",
     "output_type": "stream",
     "text": [
      "> > "
     ]
    },
    {
     "name": "stderr",
     "output_type": "stream",
     "text": [
      "; b: undefined;\n",
      ";  cannot reference an identifier before its definition\n",
      ";   in module: top-level\n",
      "; [,bt for context]\n"
     ]
    },
    {
     "name": "stdout",
     "output_type": "stream",
     "text": [
      "> \n"
     ]
    }
   ],
   "source": [
    "%%script racket\n",
    "#lang rosette/safe\n",
    "(define-symbolic b boolean?)\n",
    "(boolean? b)\n",
    "(boolean? b)\n"
   ]
  },
  {
   "cell_type": "code",
   "execution_count": null,
   "metadata": {},
   "outputs": [
    {
     "name": "stdout",
     "output_type": "stream",
     "text": [
      "#t\n",
      "#t\n"
     ]
    }
   ],
   "source": []
  },
  {
   "cell_type": "markdown",
   "metadata": {},
   "source": [
    "# SDD\n",
    "https://pysdd.readthedocs.io/en/latest/\n"
   ]
  },
  {
   "cell_type": "code",
   "execution_count": 8,
   "metadata": {},
   "outputs": [],
   "source": [
    "from pysdd.sdd import SddManager, Vtree\n",
    "\n",
    "var_count = 4\n",
    "var_order = [2,1,4,3]\n",
    "vtree_type = \"balanced\"\n",
    "\n",
    "vtree = Vtree(var_count, var_order, vtree_type)\n",
    "manager = SddManager.from_vtree(vtree)\n",
    "\n",
    "a, b, c, d = [manager.literal(i) for i in range(1, 5)]\n",
    "alpha = (a & b) | (b & c) | (c & d)\n"
   ]
  },
  {
   "cell_type": "code",
   "execution_count": 9,
   "metadata": {},
   "outputs": [
    {
     "data": {
      "text/plain": [
       "'\\ndigraph sdd {\\n\\noverlap=false\\n\\n{rank=same; n16 }\\n{rank=same; n17 }\\n{rank=same; n14 n11 }\\n\\nn16 [label= \"5\",style=filled,fillcolor=gray95,shape=circle,height=.25,width=.25]; \\nn16e0\\n      [label= \"<L>D|<R>C\",\\n      shape=record,\\n      fontsize=20,\\n      fontname=\"Times-Italic\",\\n      fillcolor=white,\\n      style=filled,\\n      fixedsize=true,\\n      height=.30, \\n      width=.65];\\n\\nn16->n16e0 [arrowsize=.50];\\nn16e1\\n      [label= \"<L>&not;D|<R>&#8869;\",\\n      shape=record,\\n      fontsize=20,\\n      fontname=\"Times-Italic\",\\n      fillcolor=white,\\n      style=filled,\\n      fixedsize=true,\\n      height=.30, \\n      width=.65];\\n\\nn16->n16e1 [arrowsize=.50];\\nn17 [label= \"3\",style=filled,fillcolor=gray95,shape=circle,height=.25,width=.25]; \\nn17e0\\n      [label= \"<L>&not;B|<R>\",\\n      shape=record,\\n      fontsize=20,\\n      fontname=\"Times-Italic\",\\n      fillcolor=white,\\n      style=filled,\\n      fixedsize=true,\\n      height=.30, \\n      width=.65];\\n\\nn17->n17e0 [arrowsize=.50];\\nn17e0:R:c->n16 [arrowsize=.50,tailclip=false,arrowtail=dot,dir=both];\\nn17e1\\n      [label= \"<L>|<R>C\",\\n      shape=record,\\n      fontsize=20,\\n      fontname=\"Times-Italic\",\\n      fillcolor=white,\\n      style=filled,\\n      fixedsize=true,\\n      height=.30, \\n      width=.65];\\n\\nn17->n17e1 [arrowsize=.50];\\nn17e1:L:c->n14 [arrowsize=.50,tailclip=false,arrowtail=dot,dir=both];\\nn17e2\\n      [label= \"<L>|<R>&#8868;\",\\n      shape=record,\\n      fontsize=20,\\n      fontname=\"Times-Italic\",\\n      fillcolor=white,\\n      style=filled,\\n      fixedsize=true,\\n      height=.30, \\n      width=.65];\\n\\nn17->n17e2 [arrowsize=.50];\\nn17e2:L:c->n11 [arrowsize=.50,tailclip=false,arrowtail=dot,dir=both];\\nn14 [label= \"1\",style=filled,fillcolor=gray95,shape=circle,height=.25,width=.25]; \\nn14e0\\n      [label= \"<L>B|<R>&not;A\",\\n      shape=record,\\n      fontsize=20,\\n      fontname=\"Times-Italic\",\\n      fillcolor=white,\\n      style=filled,\\n      fixedsize=true,\\n      height=.30, \\n      width=.65];\\n\\nn14->n14e0 [arrowsize=.50];\\nn14e1\\n      [label= \"<L>&not;B|<R>&#8869;\",\\n      shape=record,\\n      fontsize=20,\\n      fontname=\"Times-Italic\",\\n      fillcolor=white,\\n      style=filled,\\n      fixedsize=true,\\n      height=.30, \\n      width=.65];\\n\\nn14->n14e1 [arrowsize=.50];\\nn11 [label= \"1\",style=filled,fillcolor=gray95,shape=circle,height=.25,width=.25]; \\nn11e0\\n      [label= \"<L>B|<R>A\",\\n      shape=record,\\n      fontsize=20,\\n      fontname=\"Times-Italic\",\\n      fillcolor=white,\\n      style=filled,\\n      fixedsize=true,\\n      height=.30, \\n      width=.65];\\n\\nn11->n11e0 [arrowsize=.50];\\nn11e1\\n      [label= \"<L>&not;B|<R>&#8869;\",\\n      shape=record,\\n      fontsize=20,\\n      fontname=\"Times-Italic\",\\n      fillcolor=white,\\n      style=filled,\\n      fixedsize=true,\\n      height=.30, \\n      width=.65];\\n\\nn11->n11e1 [arrowsize=.50];\\n\\n\\n}'"
      ]
     },
     "execution_count": 9,
     "metadata": {},
     "output_type": "execute_result"
    }
   ],
   "source": [
    "alpha.dot()"
   ]
  },
  {
   "cell_type": "code",
   "execution_count": 10,
   "metadata": {},
   "outputs": [
    {
     "data": {
      "text/plain": [
       "'\\ndigraph vtree {\\n\\noverlap=false\\n\\nn3 [label=\"3\",fontname=\"Times\",shape=\"plaintext\",fontsize=12,fixedsize=true,width=.2,height=.18]; \\nn1 [label=\"1\",fontname=\"Times\",shape=\"plaintext\",fontsize=12,fixedsize=true,width=.2,height=.18]; \\nn0 [label=\"B\",fontname=\"Times-Italic\",fontsize=14,shape=\"plaintext\",fixedsize=true,width=.25,height=.25]; \\nn2 [label=\"A\",fontname=\"Times-Italic\",fontsize=14,shape=\"plaintext\",fixedsize=true,width=.25,height=.25]; \\nn5 [label=\"5\",fontname=\"Times\",shape=\"plaintext\",fontsize=12,fixedsize=true,width=.2,height=.18]; \\nn4 [label=\"D\",fontname=\"Times-Italic\",fontsize=14,shape=\"plaintext\",fixedsize=true,width=.25,height=.25]; \\nn6 [label=\"C\",fontname=\"Times-Italic\",fontsize=14,shape=\"plaintext\",fixedsize=true,width=.25,height=.25]; \\nn3->n1 [arrowhead=none];\\nn1->n0 [headclip=true,arrowhead=none,headlabel=\"0\",labelfontname=\"Times\",labelfontsize=10];\\nn1->n2 [headclip=true,arrowhead=none,headlabel=\"2\",labelfontname=\"Times\",labelfontsize=10];\\nn3->n5 [arrowhead=none];\\nn5->n4 [headclip=true,arrowhead=none,headlabel=\"4\",labelfontname=\"Times\",labelfontsize=10];\\nn5->n6 [headclip=true,arrowhead=none,headlabel=\"6\",labelfontname=\"Times\",labelfontsize=10];\\n\\n\\n}'"
      ]
     },
     "execution_count": 10,
     "metadata": {},
     "output_type": "execute_result"
    }
   ],
   "source": [
    "vtree.dot()"
   ]
  },
  {
   "cell_type": "code",
   "execution_count": null,
   "metadata": {},
   "outputs": [],
   "source": [
    "%%file /tmp/sdd.rs\n",
    "-- script depednency on rsdd\n",
    "\n"
   ]
  },
  {
   "cell_type": "markdown",
   "metadata": {},
   "source": []
  },
  {
   "cell_type": "markdown",
   "metadata": {},
   "source": [
    "\n",
    "\n"
   ]
  },
  {
   "cell_type": "markdown",
   "metadata": {},
   "source": [
    "# Stochastic Processes\n",
    "Finite Markov chains as transition matrices. eigenvectors give stable distribution.\n",
    "Frobenius perron\n",
    "\n",
    "Movement on a grid. Boltzmann dynamics. Monte carlo vs closed form stuff.\n",
    "\n",
    "\n",
    "\n",
    "\n",
    "\n"
   ]
  },
  {
   "cell_type": "markdown",
   "metadata": {},
   "source": [
    "## Probability proof\n",
    "Nate says markov categories.\n",
    "\n",
    "\n",
    "Consider a fallible proof checker.\n",
    "\n",
    "discount proofsa by depth \n",
    "\n",
    "https://plato.stanford.edu/entries/logic-probability/\n",
    "\n",
    "probability of raininig\n",
    "\n",
    "Judea Pearl counterfactual\n",
    "\n",
    "The bad space of it feels kind of more like statistical mechanics. We maybe can dscribe relative proabbilities, but the summing is a big problem\n",
    "\n",
    "https://www.khoury.northeastern.edu/home/sholtzen/assets/pdf/pldi25-roulette.pdf https://github.com/camoy/roulette\n",
    "Hmm. Mixed BDD and SAT approach?\n",
    "weighted model counting. Dice.\n",
    "https://github.com/neuppl/rsdd\n",
    "BDD dynamic programming can evalutae probability.\n",
    "SDD sentential decision diagram?\n",
    "\n",
    "https://github.com/neuppl/CS7470-Notes\n",
    "https://github.com/SHoltzen/oplss24-code - translate to lean. why not\n",
    "\n",
    "https://www.scallop-lang.org/doc/developer/index.html\n",
    "\n",
    "https://github.com/mlb2251/Pluck.jl  https://pluck-lang.github.io/\n",
    " https://dl.acm.org/doi/10.1145/3729325  Stochastic Lazy Knowledge Compilation for Inference in Discrete Probabilistic Programs\n",
    "\n",
    " https://arxiv.org/abs/2502.19538 Multi-Language Probabilistic Programming"
   ]
  },
  {
   "cell_type": "code",
   "execution_count": null,
   "metadata": {},
   "outputs": [],
   "source": [
    "from dd.autoref import BDD\n",
    "\n",
    "\n",
    "bdd = BDD()\n",
    "bdd.declare('x', 'y', 'z', 'w')\n",
    "\n"
   ]
  },
  {
   "cell_type": "markdown",
   "metadata": {},
   "source": [
    "Dario Stein. Fresh name generation. Hygienic use of names is in a curious way also a high low non interference kind of thing. https://arxiv.org/abs/2007.08638 Probabilistic Programming Semantics for Name Generation https://www.youtube.com/watch?v=BNlfSrz3Yyo . Hmm. Yeah they are using that two random reals have zero chance of being equal by accident. The analog of picking uuids or yooling to random instead of using a carried counter\n",
    "\n",
    "Alexander Lew\n",
    "\n",
    "The noninterference testbench is running the program twice on related inputs.\n",
    "The probablistic testbench is running \n",
    "\n",
    "We cannot infer / there is no relative entropy between the parameter used to generate the type? No.\n",
    "Given one run, no inference about second run?\n",
    "\n",
    "Statistical tests for parametricity?\n",
    "\n",
    "Probablistic types. Makes sense for JIT assumptions (probably this is of type i64)\n",
    "Probablistic dependent types. Representing the likelihood / belief that a proof of proposition can be found.\n",
    "Probaility that random automated theorem prover can find proof?\n",
    "Asking about \"probability that P is true\" seems problematic in a constructive kind of way. There are two many ways to show something\n",
    "modal logic is kind of truthy. kind of probably.\n",
    "\n"
   ]
  },
  {
   "cell_type": "code",
   "execution_count": null,
   "metadata": {},
   "outputs": [],
   "source": [
    "def parametricity_tetsbench():\n",
    "    param = rand_int()\n",
    "    T = rand_type(param)\n",
    "    x = rand_value(T)\n",
    "    y = f(T, x)\n",
    "    return param, T,x,y\n"
   ]
  },
  {
   "cell_type": "markdown",
   "metadata": {},
   "source": [
    "https://www.cambridge.org/core/books/foundations-of-probabilistic-programming/819623B1B5B33836476618AC0621F0EE quantiative equational theories\n",
    "probalistic term rewriting https://arxiv.org/abs/1802.09774\n",
    "probablistic flp?\n",
    "\n",
    "stochastic equational search\n",
    "probablstic tree automata\n",
    "\n",
    "What is the egraph? It's some kind of finite space to work in?\n",
    "\n",
    "term metric estimation by machine learning?\n",
    "\n",
    "https://arxiv.org/abs/1809.10756 An Introduction to Probabilistic Programming\n",
    "\n",
    "https://en.wikipedia.org/wiki/Markov_chain\n",
    "Perron Freobenius theorem\n",
    "\n",
    "https://github.com/CamDavidsonPilon/Probabilistic-Programming-and-Bayesian-Methods-for-Hackers?tab=readme-ov-file\n"
   ]
  },
  {
   "cell_type": "markdown",
   "metadata": {},
   "source": [
    "# 09/24\n",
    "\n",
    "\n",
    "\n",
    "Parametriccity, staged pmtaprogrammaingh, relation moderls, \"information flow\". Information should be modelled as (cross) entropy yeah?\n",
    "\n",
    "stan\n",
    "\n",
    "prbablistic programming\n",
    "oplss lectures\n",
    "\n",
    "\n",
    "church\n",
    "julia\n",
    "mcmc\n",
    "pymc\n",
    "\n",
    "psi_solver algberaic oslvers\n",
    "\n",
    "dice\n",
    "\n",
    "bit blasting https://arxiv.org/pdf/2312.05706  https://github.com/Tractables/Dice.jl/tree/hybit\n",
    "approx model counting? \n",
    "\n",
    "http://dippl.org/ \n",
    "\n",
    "https://www.cs.cornell.edu/courses/cs4110/2016fa/lectures/lecture33.html\n",
    "\n",
    "https://news.ycombinator.com/item?id=28941145 \n",
    "\n",
    "\n",
    "judea pearl counterfactuals\n",
    "probablistic graphical models - hypergraph summation algorithm\n",
    "causal models https://plato.stanford.edu/entries/causal-models/ add causal graph to probablilities. do calculus\n",
    "https://ftp.cs.ucla.edu/pub/stat_ser/r485.pdf jueda pearl\n",
    "https://www.inference.vc/causal-inference-3-counterfactuals/\n",
    "\n",
    "\n",
    "# probablistic logic programming\n",
    "\n",
    "https://dtai.cs.kuleuven.be/problog/\n",
    "https://www.cambridge.org/core/journals/theory-and-practice-of-logic-programming/article/what-if-in-probabilistic-logic-programming/B00D65811DDB308BA2215628EAB10242\n",
    "\n",
    "cplint https://github.com/friguzzi/cplint `pack_install(cplint).`\n",
    "https://swi-prolog.discourse.group/t/new-book-second-edition-of-foundations-of-probabilistic-logic-programming/6228\n",
    "https://github.com/friguzzi/matrix huh matrix ops\n",
    "https://github.com/friguzzi/bddem?tab=readme-ov-file bdd manipulation\n",
    "\n",
    "https://ai.unife.it/fabrizio-riguzzi/  klaman filter huh\n",
    "https://ml.unife.it/plp-book/ Foundations of Probabilistic Logic Programming Languages, Semantics, Inference and Learning\n",
    "https://cplint.ml.unife.it/\n",
    "\n",
    "https://github.com/rzese/trill\n",
    "\n",
    "https://psl.linqs.org/\n",
    "\n",
    "\n",
    "scallop\n",
    "\n",
    "judea pearl counterfactoual reasoing\n"
   ]
  },
  {
   "cell_type": "code",
   "execution_count": 2,
   "metadata": {},
   "outputs": [
    {
     "ename": "PrologError",
     "evalue": "source_sink `cplint' does not exist",
     "output_type": "error",
     "traceback": [
      "\u001b[0;31m---------------------------------------------------------------------------\u001b[0m",
      "\u001b[0;31mPrologError\u001b[0m                               Traceback (most recent call last)",
      "Cell \u001b[0;32mIn[2], line 3\u001b[0m\n\u001b[1;32m      1\u001b[0m \u001b[38;5;28;01mimport\u001b[39;00m \u001b[38;5;21;01mjanus_swi\u001b[39;00m \u001b[38;5;28;01mas\u001b[39;00m \u001b[38;5;21;01mjanus\u001b[39;00m\n\u001b[0;32m----> 3\u001b[0m \u001b[43mjanus\u001b[49m\u001b[38;5;241;43m.\u001b[39;49m\u001b[43mconsult\u001b[49m\u001b[43m(\u001b[49m\u001b[38;5;124;43m\"\u001b[39;49m\u001b[38;5;124;43mcplint\u001b[39;49m\u001b[38;5;124;43m\"\u001b[39;49m\u001b[43m)\u001b[49m\n",
      "File \u001b[0;32m~/.local/lib/python3.10/site-packages/janus_swi/janus.py:350\u001b[0m, in \u001b[0;36mconsult\u001b[0;34m(file, data, module)\u001b[0m\n\u001b[1;32m    334\u001b[0m \u001b[38;5;28;01mdef\u001b[39;00m \u001b[38;5;21mconsult\u001b[39m(file, data\u001b[38;5;241m=\u001b[39m\u001b[38;5;28;01mNone\u001b[39;00m, module\u001b[38;5;241m=\u001b[39m\u001b[38;5;124m'\u001b[39m\u001b[38;5;124muser\u001b[39m\u001b[38;5;124m'\u001b[39m):\n\u001b[1;32m    335\u001b[0m \u001b[38;5;250m    \u001b[39m\u001b[38;5;124;03m\"\"\"\u001b[39;00m\n\u001b[1;32m    336\u001b[0m \u001b[38;5;124;03m    Consult a Prolog file.\u001b[39;00m\n\u001b[1;32m    337\u001b[0m \n\u001b[0;32m   (...)\u001b[0m\n\u001b[1;32m    348\u001b[0m \u001b[38;5;124;03m        loaded module are imported into.\u001b[39;00m\n\u001b[1;32m    349\u001b[0m \u001b[38;5;124;03m    \"\"\"\u001b[39;00m\n\u001b[0;32m--> 350\u001b[0m     \u001b[43mquery_once\u001b[49m\u001b[43m(\u001b[49m\u001b[38;5;124;43m\"\u001b[39;49m\u001b[38;5;124;43mjanus:py_consult(File, Data, Module)\u001b[39;49m\u001b[38;5;124;43m\"\u001b[39;49m\u001b[43m,\u001b[49m\n\u001b[1;32m    351\u001b[0m \u001b[43m         \u001b[49m\u001b[43m{\u001b[49m\u001b[38;5;124;43m\"\u001b[39;49m\u001b[38;5;124;43mFile\u001b[39;49m\u001b[38;5;124;43m\"\u001b[39;49m\u001b[43m:\u001b[49m\u001b[43mfile\u001b[49m\u001b[43m,\u001b[49m\u001b[43m \u001b[49m\u001b[38;5;124;43m\"\u001b[39;49m\u001b[38;5;124;43mData\u001b[39;49m\u001b[38;5;124;43m\"\u001b[39;49m\u001b[43m:\u001b[49m\u001b[43mdata\u001b[49m\u001b[43m,\u001b[49m\u001b[43m \u001b[49m\u001b[38;5;124;43m\"\u001b[39;49m\u001b[38;5;124;43mModule\u001b[39;49m\u001b[38;5;124;43m\"\u001b[39;49m\u001b[43m:\u001b[49m\u001b[43mmodule\u001b[49m\u001b[43m}\u001b[49m\u001b[43m)\u001b[49m\n",
      "File \u001b[0;32m~/.local/lib/python3.10/site-packages/janus_swi/janus.py:243\u001b[0m, in \u001b[0;36mquery_once\u001b[0;34m(query, inputs, keep, truth_vals)\u001b[0m\n\u001b[1;32m    225\u001b[0m \u001b[38;5;250m\u001b[39m\u001b[38;5;124;03m\"\"\"\u001b[39;00m\n\u001b[1;32m    226\u001b[0m \u001b[38;5;124;03mCall a Prolog predicate as `query_once/1`\u001b[39;00m\n\u001b[1;32m    227\u001b[0m \n\u001b[0;32m   (...)\u001b[0m\n\u001b[1;32m    240\u001b[0m \u001b[38;5;124;03m    How to deal with _Well Founded Semantics_ undefined results.\u001b[39;00m\n\u001b[1;32m    241\u001b[0m \u001b[38;5;124;03m\"\"\"\u001b[39;00m\n\u001b[1;32m    242\u001b[0m inputs[\u001b[38;5;124m'\u001b[39m\u001b[38;5;124mtruth\u001b[39m\u001b[38;5;124m'\u001b[39m] \u001b[38;5;241m=\u001b[39m truth_vals\n\u001b[0;32m--> 243\u001b[0m \u001b[38;5;28;01mreturn\u001b[39;00m \u001b[43m_swipl\u001b[49m\u001b[38;5;241;43m.\u001b[39;49m\u001b[43mcall\u001b[49m\u001b[43m(\u001b[49m\u001b[43mquery\u001b[49m\u001b[43m,\u001b[49m\u001b[43m \u001b[49m\u001b[43minputs\u001b[49m\u001b[43m,\u001b[49m\u001b[43m \u001b[49m\u001b[43mkeep\u001b[49m\u001b[43m)\u001b[49m\n",
      "\u001b[0;31mPrologError\u001b[0m: source_sink `cplint' does not exist"
     ]
    }
   ],
   "source": [
    "import janus_swi as janus\n",
    "\n",
    "janus.consult(\"cplint\")"
   ]
  },
  {
   "cell_type": "code",
   "execution_count": 1,
   "metadata": {},
   "outputs": [
    {
     "data": {
      "text/plain": [
       "{win: 0.4}"
      ]
     },
     "execution_count": 1,
     "metadata": {},
     "output_type": "execute_result"
    }
   ],
   "source": [
    "from problog.program import PrologString\n",
    "from problog.core import ProbLog\n",
    "from problog import get_evaluatable\n",
    "\n",
    "p = PrologString(\"\"\"\n",
    "coin(c1). coin(c2).\n",
    "0.4::heads(C); 0.6::tails(C) :- coin(C).\n",
    "win :- heads(C).\n",
    "evidence(heads(c1), false).\n",
    "query(win).\n",
    "\"\"\")\n",
    "\n",
    "get_evaluatable().create_from(p).evaluate()"
   ]
  }
 ],
 "metadata": {
  "kernelspec": {
   "display_name": "philzook58.github.io",
   "language": "python",
   "name": "python3"
  },
  "language_info": {
   "codemirror_mode": {
    "name": "ipython",
    "version": 3
   },
   "file_extension": ".py",
   "mimetype": "text/x-python",
   "name": "python",
   "nbconvert_exporter": "python",
   "pygments_lexer": "ipython3",
   "version": "3.12.3"
  }
 },
 "nbformat": 4,
 "nbformat_minor": 2
}
