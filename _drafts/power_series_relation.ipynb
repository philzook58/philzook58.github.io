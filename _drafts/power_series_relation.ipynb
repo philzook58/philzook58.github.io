{
 "cells": [
  {
   "cell_type": "code",
   "execution_count": null,
   "metadata": {},
   "outputs": [],
   "source": []
  },
  {
   "cell_type": "markdown",
   "metadata": {},
   "source": [
    "powser extended to other cool notions of multiply\n",
    "\n",
    "matching relations order by order, like coefficient matching in scattering (spherical wave expansion method or quantum finite well) or dielectric solution,\n",
    "\n",
    "feynman diagram\n",
    "\n",
    "\n",
    "https://networkx.org/documentation/stable/reference/algorithms/generated/networkx.algorithms.operators.binary.disjoint_union.html"
   ]
  },
  {
   "cell_type": "code",
   "execution_count": null,
   "metadata": {},
   "outputs": [],
   "source": [
    "import networkx as nx\n",
    "V = int\n",
    "G = nx.Graph\n",
    "\n",
    "class PortGraph():\n",
    "    ports : list[V]\n",
    "    graph : nx.Graph()\n",
    "\n",
    "    # should port_map refer to position in ports or to the vertex numbers.\n",
    "    def einsum(self, other, port_map):\n",
    "        res = nx.disjoint_union(self.graph, other.graph)\n",
    "        offset = len(self.graph)\n",
    "        for (i,j) in port_map:\n",
    "            res.add_edge(self.ports[i], offset + other.ports[j])\n",
    "        newports = [x for i, x in enumerate(self.ports) if i not in port_map] + [offset + x for x in other.ports if j not in port_map]\n",
    "        return PortGraph(newports, res)\n",
    "    def add_port(self, vert):\n",
    "        self.ports.append(vert)\n",
    "    def __mul__(self, other):\n",
    "        # if single port\n",
    "        #return self.einsum(other, [(1,0)])\n",
    "        assert len(self.ports) == len(other.ports)\n",
    "        return self.einsum(other, [(0,0)])\n",
    "\n"
   ]
  },
  {
   "cell_type": "markdown",
   "metadata": {},
   "source": [
    "I feel like I did this somewhere. Graphviz as a category? https://www.philipzucker.com/categorical-combinators-for-graphviz-in-python/"
   ]
  },
  {
   "cell_type": "code",
   "execution_count": null,
   "metadata": {},
   "outputs": [],
   "source": [
    "class PortGraph():\n",
    "    inports : list[V]\n",
    "    outports:\n",
    "    graph : nx.Graph()\n",
    "\n",
    "    def add_port(self, vert):\n",
    "        self.ports.append(vert)\n",
    "    def __mul__(self, other):\n",
    "\n",
    "    def __hash__(self):\n",
    "    def __eq__(self, other):"
   ]
  },
  {
   "cell_type": "markdown",
   "metadata": {},
   "source": [
    "It's the common thing of dynamic vs static. Internalizing vs metaprogramming.\n",
    "\n",
    "What's the point of this. Sympy already mocked numpy right?"
   ]
  },
  {
   "cell_type": "code",
   "execution_count": 4,
   "metadata": {},
   "outputs": [
    {
     "data": {
      "text/latex": [
       "$\\displaystyle x^{2} + y^{2} + z^{2}$"
      ],
      "text/plain": [
       "x**2 + y**2 + z**2"
      ]
     },
     "execution_count": 4,
     "metadata": {},
     "output_type": "execute_result"
    }
   ],
   "source": [
    "import numpy as np\n",
    "import sympy as sp\n",
    "\n",
    "x,y,z = sp.symbols('x y z')\n",
    "r = np.array([x,y,z])\n",
    "np.dot(r,r)\n",
    "np.vectorize(sp.diff)(r, x)\n",
    "np.cross(r,r)\n",
    "\n",
    "np.einsum('i,i', r, r)\n",
    "# reconstructor / decompile to einsum or other numpy operations using disopyros egraoh?\n",
    "# symbolic sums... \"formal sums\"\n",
    "#  \n"
   ]
  },
  {
   "cell_type": "code",
   "execution_count": null,
   "metadata": {},
   "outputs": [],
   "source": [
    "class SymSum():\n",
    "    [(bvars, basis, coeff)]\n",
    "\n"
   ]
  },
  {
   "cell_type": "code",
   "execution_count": null,
   "metadata": {},
   "outputs": [],
   "source": [
    "#https://en.wikipedia.org/wiki/Algebra_over_a_field \n",
    "\n",
    "class Algebra(): # FreeAlgebra?\n",
    "    def __init__(self, data : dict[object, float]):\n",
    "        self.data = data\n",
    "    def __add__(self, other):\n",
    "        # hash join basically ?\n",
    "        res = {}\n",
    "        x,y = self, other\n",
    "        if len(x.data) > len(y.data):\n",
    "            x,y = y,x\n",
    "        res = y.copy()\n",
    "        for k,v in x.data.items():\n",
    "            k1 = res.get(k, 0)\n",
    "            res[k] = k1 + v\n",
    "        return Algebra(res)\n",
    "    def __mul__(self, other):\n",
    "        res = {}\n",
    "        for k,v in self.data.items():\n",
    "            for k1,v1 in other.data.items():\n",
    "                k2 = k * k1 # or maybe k * k1 gives an algerba element.\n",
    "                res[k2] = res.get(k2, 0) + v * v1\n",
    "        return Algebra(res)\n",
    "\n",
    "# and then we'll hash graphs"
   ]
  },
  {
   "cell_type": "markdown",
   "metadata": {},
   "source": [
    "einsum as a programming language.\n",
    "semiring semantics and semiring datalog"
   ]
  }
 ],
 "metadata": {
  "kernelspec": {
   "display_name": "Python 3",
   "language": "python",
   "name": "python3"
  },
  "language_info": {
   "codemirror_mode": {
    "name": "ipython",
    "version": 3
   },
   "file_extension": ".py",
   "mimetype": "text/x-python",
   "name": "python",
   "nbconvert_exporter": "python",
   "pygments_lexer": "ipython3",
   "version": "3.10.12"
  }
 },
 "nbformat": 4,
 "nbformat_minor": 2
}
