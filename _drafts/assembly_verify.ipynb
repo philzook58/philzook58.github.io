{
 "cells": [
  {
   "cell_type": "markdown",
   "id": "acbb3e42",
   "metadata": {},
   "source": [
    "---\n",
    "Title: Semi-Automatic Assembly Verification in Jupyter using pypcode\n",
    "date: 2025-07-16\n",
    "---\n",
    "\n",
    "I've worked on binary verification tooling for a while.\n",
    "\n",
    "One issue I've perceived is that these systems (and almost all verification tooling) is sort of locked behind ecosystems that are not palatable to a majority of users. Our project cbat was built in OCaml around the Binary Analysis Platform. We did ship docker containers, but I think you had to be _really_ interested in using our tool to make it past the doorway.\n",
    "\n",
    "In addition to that, it was in essence a fully automatic tool. There was the ability to annotate invariants via command line options, but that was not the expected main use pattern.\n",
    "\n",
    "Something I've wanted is the ability to break apart the monolithic automated verification query. I've found this very useful in Knuckeldragger and to some degree this is what semi-automated systems like Dafny \n",
    "\n",
    "I think it is also an appealing design to let you use ordinary the ordinary binutils \n",
    "\n",
    "One design choice I don't regret in CBAT was to use SMTLib itself as our specification language. It is at least a known established entity you can look up stuff about and it gives you full access to the solvers capabilities.\n",
    "\n",
    "https://www.ndss-symposium.org/wp-content/uploads/bar2024-9-paper.pdf\n",
    "https://github.com/draperlaboratory/cbat_tools\n"
   ]
  },
  {
   "cell_type": "markdown",
   "id": "69136457",
   "metadata": {},
   "source": [
    "When you peel off all the sophistry and knee jerk formal methods design patterns, I think binary verification can be fairly intuitive.\n",
    "\n",
    "When you talk about verification, two topics come up, Weakest precondition and/or Hoare Logic. Weakest precondition or predicate transformer semantics can be viewed in at least two ways\n",
    "1. Describe program semantics by how you pull a set of program states backwards through the execution of a statement\n",
    "2. Describe program semantics by the syntactic manipulation of logical formulas constraining program state.\n",
    "\n",
    "It's the same thing, since formulas describe the set of states for which they evaluate to true, but saying it like 1. feels more semantic and 2. feels more syntactic.\n",
    "\n",
    "Talking about running a program backwards is a little unintuitive.\n",
    "\n",
    "\n",
    "\n",
    "Symbolic execution is a pretty evocative term that is more commonly understood in the reversing community. Execute the thing, as you might in an interpreter or emulator, but instead of working on concrete states of concrete u64 etc, work on symbolic states building up a symbolic expression describing the state. This mostly means building up SMT solver expressions describing the current state.\n",
    "\n",
    "For straight line code, it's all the same. The minimal control flow makes it fairly easy to directly convert statements to expressions.\n",
    "\n",
    "For DAG-like control flow (if-then-else / switch chains), things are little harder but not so bad. You can finitely enumerate all the paths through the program (although this number is exponentially exploding in the size of the dag).\n",
    "\n",
    "For arbitrary control flow, it feels more complicated but actually it kind of isn't.\n",
    "\n",
    "\n",
    "\n",
    "\n",
    "\n",
    "\n",
    "\n"
   ]
  }
 ],
 "metadata": {
  "language_info": {
   "name": "python"
  }
 },
 "nbformat": 4,
 "nbformat_minor": 5
}
