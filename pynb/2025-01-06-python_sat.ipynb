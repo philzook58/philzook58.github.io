{
 "cells": [
  {
   "cell_type": "markdown",
   "metadata": {},
   "source": [
    "---\n",
    "title: SAT Solver Etudes I\n",
    "date: 2025-01-06\n",
    "---\n",
    "\n",
    "The abilities of SAT solvers exploded in performance in the 1990s and have continued to make quite nice gains every year since. \n",
    "\n",
    "Here is a chart comparing the performance of the SAT competition winners from the last 25 years. Quite an increase!\n",
    "\n",
    "<blockquote class=\"twitter-tweet\"><p lang=\"en\" dir=\"ltr\">Kissat dominated the main track of the SAT Competition 2024. It won 3 gold medals!<br><br>Core techniques: congruence closure (SAT&#39;24) clausal equivalence sweeping (FMCAD&#39;24), bounded variable addition (BVA) and vivification.<a href=\"https://t.co/kCa7LAbtgE\">https://t.co/kCa7LAbtgE</a> <a href=\"https://t.co/keagEQW2OA\">pic.twitter.com/keagEQW2OA</a></p>&mdash; Armin Biere (@ArminBiere) <a href=\"https://twitter.com/ArminBiere/status/1833515116186546472?ref_src=twsrc%5Etfw\">September 10, 2024</a></blockquote> <script async src=\"https://platform.twitter.com/widgets.js\" charset=\"utf-8\"></script>\n",
    "\n",
    "The [satisfiability problem](https://en.wikipedia.org/wiki/Boolean_satisfiability_problem) on it's face it an extremely simple one. At a rough level, it is asking it the is some input to a circuit that can drive the output to true, running the circuit backwards if you will. A more accurate description is that it finds a satisfying assignment (every variable is `true` or `false` to a giant \"AND\" of \"OR\"s, a logical normal form called Conjunctive Normal Form. This normal form is an analog in some respects to the normal FOILed out form of a polynomial. This also makes it a nice intermediate representation of sorts for other [combinatorial problems](https://en.wikipedia.org/wiki/NP-completeness).\n",
    "\n",
    "Example SAT solvers come in kind of two flavors:\n",
    "- Simple functional programming ones, maybe are recursive, etc\n",
    "- The low level ones. You explicitly manage the trail and probably are in a low level language.\n",
    "\n",
    "I'm not against the first approach. I write a lot of python. Something that is freeing about python is you know performance will suck no matter what. So just write things clearly or interestingly. On the other hand, python lacks a whole dimension of expressivity and fun that comes from performance considerations. \n",
    "\n",
    "\"A LISP programmer knows the value of everything, but the cost of nothing.\" - [Alan Perlis](https://www.cs.yale.edu/homes/perlis-alan/quotes.html)\n",
    "\n",
    "Anyway, having said that, nothing that follows represents my recommendation on how to write a SAT solver. Look at MiniSAT, Cadical, Kissat, and the CrueSAT thesis for something closer to that. Maybe next post.\n"
   ]
  },
  {
   "cell_type": "markdown",
   "metadata": {},
   "source": [
    "# Brute Solver\n",
    "\n",
    "It is always an interesting exercise to write a brute force solver. Sometimes, it can even be useful. If your SAT problem very few variables, or you perhaps are in the \"endgame\", this might be the fastest SAT solver you can write.\n",
    "\n",
    "One nice way of going about it is to just use an integer as a bitvector. You can then enumerate over the models by incrementing the integer.\n",
    "\n",
    "One annoying design choice is how to represent your problem itself. A list of clauses is a reasonable choice."
   ]
  },
  {
   "cell_type": "code",
   "execution_count": 82,
   "metadata": {},
   "outputs": [],
   "source": [
    "def nv(cnf):\n",
    "    return max((max(map(abs,c),default=0) for c in cnf), default=0)\n",
    "\n",
    "def bits(i,n):\n",
    "    return [bool(i & (1 << j)) for j in range(n)]\n",
    "\n",
    "def satisfies(model,cnf):\n",
    "    return all(any(model[abs(l)] if l > 0 else not model[abs(l)] for l in c) for c in cnf)\n",
    "    \n",
    "def brute(cnf):\n",
    "    n = nv(cnf) + 1\n",
    "    for i in range(2**n):\n",
    "        model = bits(i,n)\n",
    "        if satisfies(model, cnf):\n",
    "            yield model\n",
    "    return \"unsat\"\n",
    "\n",
    "list(brute([[0],[1,2],[-1,-2]]))\n",
    "\n",
    "def brute_sat(cnf):\n",
    "    return next(brute(cnf), None) is not None"
   ]
  },
  {
   "cell_type": "markdown",
   "metadata": {},
   "source": [
    "Generating random SAT problems can help a bit. Random SAT may not explore all phenomena of interest though, as actual SAT problems have lots of structure."
   ]
  },
  {
   "cell_type": "code",
   "execution_count": 93,
   "metadata": {},
   "outputs": [
    {
     "name": "stdout",
     "output_type": "stream",
     "text": [
      "True\n",
      "False\n",
      "False\n",
      "True\n",
      "True\n",
      "True\n",
      "True\n",
      "False\n",
      "True\n",
      "True\n"
     ]
    }
   ],
   "source": [
    "import random\n",
    "def rand_cnf():\n",
    "    lits = 9\n",
    "    clauses = 7\n",
    "    return [[random.randint(-lits, lits) for _ in range(random.randint(0,6))] for _ in range(random.randint(0,clauses))]\n",
    "rand_cnf()\n",
    "\n",
    "for i in range(10):\n",
    "    print(brute_sat(rand_cnf()))\n"
   ]
  },
  {
   "cell_type": "markdown",
   "metadata": {},
   "source": [
    "But there are a number of things unsatisfying (ha) about this. It does not lend itself well to eventually a more sophisticated SAT solver. In addition, using integers to identify variables means you will need to record what the integers correspond to elsewhere."
   ]
  },
  {
   "cell_type": "markdown",
   "metadata": {},
   "source": [
    "# Davis Putnam\n",
    "\n",
    "A different approach is to use the [Davis Putnam](https://en.wikipedia.org/wiki/Davis%E2%80%93Putnam_algorithm) procedure. This is basically a resolution procedure, saturating the clause set.\n",
    "\n",
    "The following is based on Harrison's code from \n",
    "https://www.cl.cam.ac.uk/~jrh13/atp/OCaml/dp.ml"
   ]
  },
  {
   "cell_type": "code",
   "execution_count": 91,
   "metadata": {},
   "outputs": [
    {
     "name": "stdout",
     "output_type": "stream",
     "text": [
      "{frozenset({-1, -2}), frozenset({1, 2})}\n"
     ]
    },
    {
     "data": {
      "text/plain": [
       "True"
      ]
     },
     "execution_count": 91,
     "metadata": {},
     "output_type": "execute_result"
    }
   ],
   "source": [
    "def resolve_on(p : int, cnf):\n",
    "    \"\"\"\n",
    "    Eliminate literal p via resolution.\n",
    "    \"\"\"\n",
    "    assert isinstance(p, int)\n",
    "    pos_p = [c - {p} for c in cnf if p in c]\n",
    "    neg_p = [c - {-p} for c in cnf if -p in c]\n",
    "    no_p = [c for c in cnf if p not in c and -p not in c]\n",
    "    return set(no_p + [c1 | c2 for c1 in pos_p for c2 in neg_p])\n",
    "\n",
    "def one_literal(cnf):\n",
    "    \"\"\"\n",
    "    Find clause of one literal, delete clauses that contain it or remove it's negation\n",
    "    \"\"\"\n",
    "    p = next((c for c in cnf if len(c) == 1), None)\n",
    "    if p is None:\n",
    "        return None\n",
    "    p, = p\n",
    "    return set([c - {-p} for c in cnf if p not in c])\n",
    "    \n",
    "def affirm_negative(cnf):\n",
    "    lits = set(l for c in cnf for l in c)\n",
    "    pure_lits = [l for l in lits if -l not in lits]\n",
    "    if len(pure_lits) == 0:\n",
    "        return None\n",
    "    return set([c for c in cnf if all(l not in pure_lits for l in c)])\n",
    "\n",
    "def remove_pos_neg(cnf):\n",
    "    # delete all clasuses that contain both p and not p\n",
    "    if any(any(-l in c for l in c) for c in cnf):\n",
    "        return set([c for c in cnf if not any(-l in c for l in c)])\n",
    "    else:\n",
    "        return None\n",
    "\n",
    "\n",
    "def dp(cnf):\n",
    "    cnf = set([frozenset(c) for c in cnf])\n",
    "    while cnf:\n",
    "        if frozenset() in cnf:\n",
    "            # unsatisfiable\n",
    "            return False\n",
    "        cnf1 = remove_pos_neg(cnf)\n",
    "        if cnf1 is not None:\n",
    "            cnf = cnf1\n",
    "            continue\n",
    "        cnf1 = one_literal(cnf)\n",
    "        if cnf1 is not None:\n",
    "            cnf = cnf1\n",
    "            continue\n",
    "        cnf2 = affirm_negative(cnf)\n",
    "        if cnf2 is not None:\n",
    "            cnf = cnf2\n",
    "            continue\n",
    "        print(cnf)\n",
    "        p = next(iter(next(iter(cnf))))\n",
    "        cnf = resolve_on(p,cnf)\n",
    "    return True\n",
    "\n",
    "dp([[0],[1,2],[-1,-2]])\n"
   ]
  },
  {
   "cell_type": "markdown",
   "metadata": {},
   "source": [
    "To show we're kind of making sense, compare the results to the brute force solver."
   ]
  },
  {
   "cell_type": "code",
   "execution_count": 95,
   "metadata": {},
   "outputs": [],
   "source": [
    "for i in range(100):\n",
    "    cnf = rand_cnf()\n",
    "    assert brute_sat(cnf) == dp(cnf)"
   ]
  },
  {
   "cell_type": "markdown",
   "metadata": {},
   "source": [
    "A different style of resolution solver uses a given clause loop. This is something like semi naive from datalog."
   ]
  },
  {
   "cell_type": "code",
   "execution_count": 123,
   "metadata": {},
   "outputs": [],
   "source": [
    "def negate_clause(clause : frozenset[int]):\n",
    "    return frozenset([-l for l in clause])\n",
    "\n",
    "def saturate(cnf):\n",
    "    processed = set()\n",
    "    unprocessed = [frozenset(c) for c in cnf]\n",
    "    while unprocessed:\n",
    "        #print(\"unprocessed\", unprocessed)\n",
    "        given = unprocessed.pop()\n",
    "        if given == frozenset():\n",
    "            return False\n",
    "        if any(-l in given for l in given):\n",
    "            continue\n",
    "        for c2 in processed:\n",
    "            res_lits = given & negate_clause(c2)\n",
    "            #print(\"given\", given, \"c2\", c2, res_lits)\n",
    "            if len(res_lits) != 0:\n",
    "                res = (given | c2) - res_lits - negate_clause(res_lits)\n",
    "                if res not in processed:\n",
    "                    unprocessed.append(res)\n",
    "        processed.add(given)\n",
    "    #print(processed)\n",
    "    return True #processed\n",
    "\n",
    "#given([[0],[1,2,3],[-1,-2]])\n",
    "#saturate([[1,2], [2,3], [3,-1], [1]])\n",
    "#saturate([[6], [-3, 0, 4], [-6, 5, -8, 8, -5]])\n",
    "#brute_sat([[6], [-3, 0, 4], [-6, 5, -8, 8, -5]])\n",
    "\n",
    "for i in range(100):\n",
    "    cnf = rand_cnf()\n",
    "    if brute_sat(cnf) != saturate(cnf):\n",
    "        print(cnf)\n",
    "        assert False\n",
    "\n",
    "\n"
   ]
  },
  {
   "cell_type": "code",
   "execution_count": null,
   "metadata": {},
   "outputs": [],
   "source": []
  },
  {
   "cell_type": "markdown",
   "metadata": {},
   "source": []
  },
  {
   "cell_type": "markdown",
   "metadata": {},
   "source": [
    "# Bits and Bobbles\n",
    "\n",
    "A queue on length of clause will give you a kind of unit propagation.\n",
    "A queue based on maximum literal maybe give you something like recursive elimination of variables.\n",
    "\n",
    "You could reorganize (vectorize?) given clause algorithm to be more like a seminaive datalog.\n",
    "\n",
    "\n",
    "Storing clauses in normal form  or Subsumption is kind of necessary for satruation to be achived\n",
    "\n",
    "while len(new) > 0:\n",
    "    d = resolve(new, old)\n",
    "    old = new + old\n",
    "    new = d - old\n"
   ]
  },
  {
   "cell_type": "code",
   "execution_count": 54,
   "metadata": {},
   "outputs": [
    {
     "data": {
      "text/plain": [
       "False"
      ]
     },
     "execution_count": 54,
     "metadata": {},
     "output_type": "execute_result"
    }
   ],
   "source": [
    "from z3 import *\n",
    "# using z3expr as my propositions\n",
    "def negate(p : z3.BoolRef):\n",
    "    if z3.is_not(p):\n",
    "        return p.arg(0)\n",
    "    return z3.Not(p)\n",
    "\n",
    "\n",
    "#bool(BoolVal(True) == BoolVal(True))\n",
    "x,y = Ints(\"x y\")\n",
    "x in [y]\n",
    "x + y in {x, y}"
   ]
  },
  {
   "cell_type": "markdown",
   "metadata": {},
   "source": [
    "\n",
    "### Partial evaluation of sat solvers.\n",
    "\n",
    "Considering concrete problems before going into the generic solver can be informative. Also, building the generic system can be pointless and expensive if you really only have 1 or a couple problems to actually solve.\n",
    "You can usually look back at these specialized solvers as instances of partial evaluation of a generic solver with respect to a particular problem data.\n",
    "I am not aware of anyone really going for partial evaluation of SAT solvers. It must surely have been done."
   ]
  },
  {
   "cell_type": "code",
   "execution_count": 3,
   "metadata": {},
   "outputs": [
    {
     "name": "stdout",
     "output_type": "stream",
     "text": [
      "(True, True, False)\n",
      "(True, False, True)\n"
     ]
    }
   ],
   "source": [
    "import itertools\n",
    "#list(brute([[0],[1,2],[-1,-2]]))\n",
    "# each of these is a partial evaluation of eval_clause(clause, m):\n",
    "def clause1(m):\n",
    "    return m[0]\n",
    "def clause2(m):\n",
    "    return m[1] or m[2]\n",
    "def clause3(m):\n",
    "    return not m[1] or not m[2]\n",
    "for m in itertools.product([True,False], repeat=3):\n",
    "    if clause1(m) and clause2(m) and clause3(m): # partial eval of satisfies(cnf, m)\n",
    "        print(m)\n"
   ]
  },
  {
   "cell_type": "markdown",
   "metadata": {},
   "source": [
    "# SAT\n",
    "\n",
    "There is a dpll1 and dpll2 in sympy.logic.algorithms\n",
    "Also lra. also interface to z3 (!)\n",
    "\n",
    "cadical 2023 - SBVA strcutured blcoked clause addition\n",
    "https://cca.informatik.uni-freiburg.de/papers/BiereFallerFazekasFleuryFroleyksPollitt-SAT-Competition-2024-solvers.pdf kissat\n",
    "\n",
    "\n",
    "kissat 2024 - clausal congruence closure https://github.com/arminbiere/kissat/blob/master/src/congruence.c https://cca.informatik.uni-freiburg.de/papers/BiereFazekasFleuryFroleyks-SAT24-preprint.pdf\n",
    "\n",
    "\"SAT-sweeping technique using our embedded SAT solver Kitten\" Kitten is a smaller sat solver inside kissat?\n",
    "\n",
    "\n",
    "\n",
    "https://m-fleury.github.io/\n",
    "\n",
    "https://github.com/IsaFoL/IsaFoL/\n",
    "\n",
    "\n",
    "sat competition benchmarks descriptions\n",
    "- replacing riscv\n",
    "- circuit equiv checking\n",
    "\n",
    "avatar\n",
    "\n",
    "rapid restart might make for a simple implementation.\n",
    "Restart fully after each conflict.\n",
    "Don't have to clean trail or model.\n",
    "\n",
    "With my egraph, if i wrote a sat solver, I'd have a mini\n",
    "Put in SAT comp?\n",
    "\n",
    "[The silent revolution of sat](https://news.ycombinator.com/item?id=36079115#36081904)\n",
    "\n",
    "[creusat](https://sarsko.github.io/_pages/SarekSkot%C3%A5m_thesis.pdf) <https://github.com/sarsko/CreuSAT>\n",
    "\n",
    "https://fmv.jku.at/fleury/papers/Fleury-thesis.pdf\n",
    "\n",
    "https://github.com/marijnheule/microsat\n",
    "\n",
    "https://github.com/msoos/minisat-v1.14\n",
    "\n",
    "https://x.com/SoosMate/status/1760817528236818456?s=20 phind know sat solvers\n",
    "\"Yes (about the role of Kitten in Kissat) but the explanation is still bogus. It sounds like a weak student who does not understand anything but tries to pass the exam by randomly arguing about concepts discussed in this context. I probably would let it pass (but just).\"\n",
    "\n",
    "https://sahandsaba.com/understanding-sat-by-implementing-a-simple-sat-solver-in-python.html\n",
    "wait this blog is sweet\n",
    "\n",
    "https://easychair.org/publications/open/b7Cr CDCL as rewrite syste,\n",
    "\n",
    "\n",
    "https://x.com/krismicinski/status/1856341897331003842  \"Trying to turn in my class material into a few recorded lectures on CDCL. I have seen some good talks on CDCL history by experts (e.g., Armin Biere's Simmons institute talk), but think there is still room for more discussion that starts from a as-functional-as-possible style.\"\n",
    "\n",
    "2 watched literal is related to simplex tableau method?\n",
    "https://types.pl/@krismicinski/113470474347084554\n",
    "\n",
    "Jules Jacobs - Retconning out DPLL and treat it as iterative clause learning from the start?\n",
    "\n",
    "\n",
    "We could enumerate all models.\n",
    "Upon each model failure, perhaps we can determinate a backjump skip instead of just go to next one.\n",
    "Or we could clause learn.\n",
    "This might be especially useful if we're trying to get minimal model according to variable ordering.\n",
    "\n",
    "Ordered resolution and CDCL\n",
    "Given a resolution state, we can start to build a partial model.\n",
    "The literal ordering means that the \"datalog\" rules are unit propagations, we've already assigned all the other bits by the time we consider each rule.\n",
    "The trail is the current partial model.\n",
    "\n",
    "Decision vs propapgation clauses...\n",
    "\n",
    "The conflict clause should be resolved with a previous one.\n",
    "\n",
    "CDCL is kind of pivoting on useful literal orderings. The current ordering _is_ the trail.\n",
    "But even if we had the best ordering a priori, it wouldn't be as good because it is \n",
    "\n",
    "avatar. Maybe an avatar loop would be smart\n",
    "\n",
    "https://github.com/NikolajBjorner/ShonanArtOfSAT\n",
    "satsifiability modulo rewriting\n",
    "\n",
    "https://www-cs-faculty.stanford.edu/~knuth/programs.html knuth sat solvers and others\n",
    "\n",
    "https://www.labri.fr/perso/lsimon/research/glucose/ glucose https://github.com/audemard/glucose huh glucose is a minisat fork. i didn't know that\n",
    "\n",
    "lingeling https://github.com/arminbiere/lingeling\n",
    "\n",
    "trail is current literal ordering.\n",
    "pivoting between orderings. Hmm.\n"
   ]
  },
  {
   "cell_type": "markdown",
   "metadata": {},
   "source": [
    "## DPLL\n",
    "https://en.wikipedia.org/wiki/DPLL_algorithm\n",
    "DP\n",
    "\n",
    "pure literal elim\n",
    "\n",
    "https://github.com/safwankdb/SAT-Solver-using-DPLL/blob/master/SATSolver.py\n",
    "https://github.com/charliermarsh/OCaml-SAT-Solvers/blob/master/dpll.ml\n",
    "https://github.com/baptiste-fourmont/dpll/blob/main/dpll.ml\n",
    "https://simon.cedeela.fr/sat.html  \n",
    "https://github.com/Gbury/mSAT\n",
    "https://github.com/qnighy/ratsat rust reimplemnt of minisat\n",
    "https://github.com/imandra-ai/minisat-ml https://github.com/imandra-ai/minisat-ml/blob/master/docs/tech_report.md tehch report. cost of using ocaml vs C++ for exact minisat copy\n",
    "\n",
    "Harrison treatment\n",
    "https://matryoshka-project.github.io/pubs/splitting_paper.pdf Unifying Splitting Framework\n",
    "\n",
    "splitting rules. Another approach is to split some clause. Hmm.\n",
    "convert the disj in the clause to meta disjunction.\n",
    "\n",
    "Dumbest possible things. Use integer as model. iterate through them.\n",
    "We still need the ability to represent the clauses.\n",
    "We need the ability to revaluate the clauses\n",
    "\n",
    "Use vector as model.\n",
    "\n",
    "Separating the trail from the model. It is serving both repsonsilbities.\n",
    "\n",
    "unit propagation\n",
    "\n",
    "\n",
    "3 valued logic of true false ?. True False None. Or refactor into true false, false true, false false. true true is contradiction.\n",
    "```\n",
    "trues = [] # \n",
    "falses = []\n",
    "\n",
    "trues = set()\n",
    "falses = set()\n",
    "\n",
    "```\n",
    "\n",
    "Design choices\n",
    "recursion, loop\n",
    "mutate, pure\n",
    "Trail, model, clauses.\n",
    "\n",
    "simplify clauses vs not\n",
    "clause rep: vecvec, \n",
    "model rep: vec, implicit in trail, sets, others?\n",
    "literal rep: +- literal vs struct bool literals\n",
    "ints as atoms.\n",
    "objects as atoms.\n",
    "\n",
    "learned claues ve initial clauses.\n",
    "\n",
    "\n",
    "Looking at these low level fastest versions may not be the most mind opening\n"
   ]
  },
  {
   "cell_type": "code",
   "execution_count": null,
   "metadata": {},
   "outputs": [],
   "source": [
    "def simplify(cs):\n",
    "    # units is assignment\n",
    "    units = []\n",
    "    for i in range(4):\n",
    "        units.extend([c[0] for c in cs if len(c) == 1])\n",
    "        cs = [[l for l in c if l not in units] for c in cs if len(c) != 1]\n",
    "\n",
    "\n",
    "# where does split even go. Like into a universe branching?\n",
    "def split(c):\n",
    "    return c[0], c[1:]\n"
   ]
  },
  {
   "cell_type": "markdown",
   "metadata": {},
   "source": [
    "3sat or nsat\n",
    "Maybe there is simplifcation or even perf gains from restruicting to 3sat.\n",
    "1sat   # model\n",
    "2sat   # watchlist\n",
    "3sat   # clauses\n"
   ]
  },
  {
   "cell_type": "code",
   "execution_count": null,
   "metadata": {},
   "outputs": [],
   "source": [
    "# 3sat or Nsat\n"
   ]
  },
  {
   "cell_type": "code",
   "execution_count": null,
   "metadata": {},
   "outputs": [],
   "source": [
    "# a style of simplify the clause and recursing instead of maintaining model\n",
    "def replace(c, n):\n",
    "    if n in c:\n",
    "        return True\n",
    "    else:\n",
    "        return c.remove(-n)\n",
    "def units(cs):\n",
    "    return {c[0] for c in cs if len(c) == 1}\n",
    "def search(cs, vs):\n",
    "    # pick lit. nvar\n",
    "    if any(len(c) == 0 for c in cs): # empty clause is can't be satisfied\n",
    "        return False\n",
    "    v = vs.pop()\n",
    "    for decide in [v, -v]:\n",
    "        todo = {decide}\n",
    "        vs1 = vs.copy()\n",
    "        cs1 = cs.copy()\n",
    "        while todo:\n",
    "            lit = todo.pop()\n",
    "            vs1.remove(abs(lit))\n",
    "            cs1 = [replace(c,lit) for c in cs1] # simplify clauses\n",
    "            todo |= units(cs1) # unit propagate\n",
    "        if search(cs1, vs1):\n",
    "            return True\n",
    "    return False\n",
    "    \n",
    "    # replace and simplify\n",
    "    # propagate units\n",
    "    # recursively call self on nvar-1"
   ]
  },
  {
   "cell_type": "code",
   "execution_count": null,
   "metadata": {},
   "outputs": [],
   "source": [
    "def search_rec(cs):\n",
    "    model = []\n",
    "    def lit_sat(l):\n",
    "        neg = l < 0\n",
    "        v = model.get(abs(l))\n",
    "        if v is None:\n",
    "            return None\n",
    "        return v if not neg else not v\n",
    "    def is_sat(): \n",
    "        return all(any(lit_sat(l) for l in c) for c in cs) \n",
    "    def decide():\n",
    "        model.append(True)\n",
    "        \"\"\"for l in cs[0]:\n",
    "            if model.get(abs(l)) is None:\n",
    "                model[abs(l)] = l > 0\n",
    "                return True\n",
    "        return False\"\"\"\n",
    "\n",
    "    def backtrack():\n",
    "        while model[-1]:\n",
    "            model.pop()\n",
    "        model.append(False)\n",
    "        \"\"\"\n",
    "        if model[-1]:\n",
    "            model[-1] = False\n",
    "        else:\n",
    "            model.pop()\n",
    "            backtrack()\n",
    "        \"\"\"\n",
    "    def propagate():\n",
    "        pass\n",
    "    model.append(True)\n",
    "    while model:\n",
    "        status = is_sat()\n",
    "        if status is None:\n",
    "            decide()\n",
    "        elif status is False:\n",
    "            backtrack()\n",
    "        elif status is True:\n",
    "            return model\n",
    "    return \"unsat\"\n",
    "\n",
    "\n",
    "\n"
   ]
  },
  {
   "cell_type": "markdown",
   "metadata": {},
   "source": [
    "## Brute\n",
    "\n",
    "What form should cnf take\n"
   ]
  },
  {
   "cell_type": "code",
   "execution_count": 6,
   "metadata": {},
   "outputs": [
    {
     "ename": "ModuleNotFoundError",
     "evalue": "No module named 'pysat.formula'",
     "output_type": "error",
     "traceback": [
      "\u001b[0;31m---------------------------------------------------------------------------\u001b[0m",
      "\u001b[0;31mModuleNotFoundError\u001b[0m                       Traceback (most recent call last)",
      "Cell \u001b[0;32mIn[6], line 2\u001b[0m\n\u001b[1;32m      1\u001b[0m \u001b[38;5;28;01mimport\u001b[39;00m \u001b[38;5;21;01mpysat\u001b[39;00m\n\u001b[0;32m----> 2\u001b[0m \u001b[38;5;28;01mimport\u001b[39;00m \u001b[38;5;21;01mpysat\u001b[39;00m\u001b[38;5;21;01m.\u001b[39;00m\u001b[38;5;21;01mformula\u001b[39;00m\n",
      "\u001b[0;31mModuleNotFoundError\u001b[0m: No module named 'pysat.formula'"
     ]
    }
   ],
   "source": []
  },
  {
   "cell_type": "code",
   "execution_count": 7,
   "metadata": {},
   "outputs": [
    {
     "name": "stdout",
     "output_type": "stream",
     "text": [
      "formula is satisfiable\n",
      "and the model is: [-1, -2]\n",
      "formula is unsatisfiable assuming x1 and x2\n",
      "and the unsatisfiable core is: [1]\n"
     ]
    }
   ],
   "source": [
    "\n",
    "from pysat.formula import CNF\n",
    "from pysat.solvers import Solver\n",
    "\n",
    "# create a satisfiable CNF formula \"(-x1 ∨ x2) ∧ (-x1 ∨ -x2)\":\n",
    "cnf = CNF(from_clauses=[[-1, 2], [-1, -2]])\n",
    "\n",
    "# create a SAT solver for this formula:\n",
    "with Solver(bootstrap_with=cnf) as solver:\n",
    "    # 1.1 call the solver for this formula:\n",
    "    print('formula is', f'{\"s\" if solver.solve() else \"uns\"}atisfiable')\n",
    "\n",
    "    # 1.2 the formula is satisfiable and so has a model:\n",
    "    print('and the model is:', solver.get_model())\n",
    "\n",
    "    # 2.1 apply the MiniSat-like assumption interface:\n",
    "    print('formula is',\n",
    "        f'{\"s\" if solver.solve(assumptions=[1, 2]) else \"uns\"}atisfiable',\n",
    "        'assuming x1 and x2')\n",
    "\n",
    "    # 2.2 the formula is unsatisfiable,\n",
    "    # i.e. an unsatisfiable core can be extracted:\n",
    "    print('and the unsatisfiable core is:', solver.get_core())"
   ]
  },
  {
   "cell_type": "code",
   "execution_count": 13,
   "metadata": {},
   "outputs": [
    {
     "data": {
      "text/plain": [
       "['__and__',\n",
       " '__class__',\n",
       " '__deepcopy__',\n",
       " '__delattr__',\n",
       " '__dict__',\n",
       " '__dir__',\n",
       " '__doc__',\n",
       " '__eq__',\n",
       " '__format__',\n",
       " '__ge__',\n",
       " '__getattribute__',\n",
       " '__gt__',\n",
       " '__hash__',\n",
       " '__iand__',\n",
       " '__ilshift__',\n",
       " '__imatmul__',\n",
       " '__init__',\n",
       " '__init_subclass__',\n",
       " '__invert__',\n",
       " '__ior__',\n",
       " '__irshift__',\n",
       " '__iter__',\n",
       " '__ixor__',\n",
       " '__le__',\n",
       " '__lshift__',\n",
       " '__lt__',\n",
       " '__matmul__',\n",
       " '__module__',\n",
       " '__ne__',\n",
       " '__new__',\n",
       " '__or__',\n",
       " '__reduce__',\n",
       " '__reduce_ex__',\n",
       " '__repr__',\n",
       " '__rshift__',\n",
       " '__setattr__',\n",
       " '__sizeof__',\n",
       " '__str__',\n",
       " '__subclasshook__',\n",
       " '__weakref__',\n",
       " '__xor__',\n",
       " '_clausify',\n",
       " '_compute_nv',\n",
       " '_context',\n",
       " '_get_key',\n",
       " '_instances',\n",
       " '_iter',\n",
       " '_merge_suboperands',\n",
       " '_vpool',\n",
       " 'append',\n",
       " 'attach_vpool',\n",
       " 'clauses',\n",
       " 'clausify',\n",
       " 'cleanup',\n",
       " 'comments',\n",
       " 'copy',\n",
       " 'export_vpool',\n",
       " 'extend',\n",
       " 'formulas',\n",
       " 'from_aiger',\n",
       " 'from_clauses',\n",
       " 'from_file',\n",
       " 'from_fp',\n",
       " 'from_string',\n",
       " 'literals',\n",
       " 'name',\n",
       " 'negate',\n",
       " 'nv',\n",
       " 'satisfied',\n",
       " 'set_context',\n",
       " 'simplified',\n",
       " 'to_alien',\n",
       " 'to_dimacs',\n",
       " 'to_file',\n",
       " 'to_fp',\n",
       " 'type',\n",
       " 'weighted']"
      ]
     },
     "execution_count": 13,
     "metadata": {},
     "output_type": "execute_result"
    }
   ],
   "source": [
    "cnf = CNF(from_clauses=[[-1, 2], [-1, -2], [14]])\n",
    "cnf.clauses\n",
    "cnf.nv\n",
    "dir(cnf)"
   ]
  },
  {
   "cell_type": "code",
   "execution_count": 19,
   "metadata": {},
   "outputs": [
    {
     "data": {
      "text/plain": [
       "[[False, True, False], [False, False, True]]"
      ]
     },
     "execution_count": 19,
     "metadata": {},
     "output_type": "execute_result"
    }
   ],
   "source": [
    "def nv(cnf):\n",
    "    return max(max(map(abs,c)) for c in cnf)\n",
    "\n",
    "def bits(i,n):\n",
    "    return [bool(i & (1 << j)) for j in range(n)]\n",
    "\n",
    "def satisfies(model,cnf):\n",
    "    return all(any(model[abs(l)] if l > 0 else not model[abs(l)] for l in c) for c in cnf)\n",
    "    \n",
    "def brute(cnf):\n",
    "    n = nv(cnf) + 1\n",
    "    for i in range(2**n):\n",
    "        model = bits(i,n)\n",
    "        if satisfies(model, cnf):\n",
    "            yield model\n",
    "    return \"unsat\"\n",
    "\n",
    "list(brute([[0],[1,2],[-1,-2]]))\n",
    "\n"
   ]
  },
  {
   "cell_type": "code",
   "execution_count": 23,
   "metadata": {},
   "outputs": [
    {
     "data": {
      "text/plain": [
       "[[False, False, True], [False, True, False]]"
      ]
     },
     "execution_count": 23,
     "metadata": {},
     "output_type": "execute_result"
    }
   ],
   "source": [
    "def brute_rec(pmodel, cnf):\n",
    "    n = nv(cnf)\n",
    "    if len(pmodel) == n+1:\n",
    "        if satisfies(pmodel, cnf):\n",
    "            yield pmodel\n",
    "    else:\n",
    "        yield from brute_rec(pmodel + [False], cnf)\n",
    "        yield from brute_rec(pmodel + [True], cnf)\n",
    "\n",
    "list(brute_rec([], [[0],[1,2],[-1,-2]]))"
   ]
  },
  {
   "cell_type": "code",
   "execution_count": null,
   "metadata": {},
   "outputs": [],
   "source": [
    "def psatisfies(model,cnf):\n",
    "    return all(any(False if len(model) < abs(l) else model[abs(l)] if l > 0 else not model[abs(l)] for l in c) for c in cnf)\n"
   ]
  },
  {
   "cell_type": "code",
   "execution_count": null,
   "metadata": {},
   "outputs": [],
   "source": [
    "def brute_cps(cnf, fail, succ):\n",
    "    pass\n",
    "def brute_cps(succ, backtracklist):\n",
    "    pass"
   ]
  },
  {
   "cell_type": "code",
   "execution_count": 29,
   "metadata": {},
   "outputs": [
    {
     "name": "stdout",
     "output_type": "stream",
     "text": [
      "[]\n",
      "[False]\n",
      "[False, False]\n",
      "[False, False, False]\n",
      "[False, False, True]\n",
      "[False, True]\n",
      "[False, True, False]\n",
      "[False, True, True]\n",
      "[True]\n",
      "[True, False]\n",
      "[True, False, False]\n",
      "[True, False, True]\n",
      "[True, True]\n",
      "[True, True, False]\n"
     ]
    },
    {
     "data": {
      "text/plain": [
       "[[False, False, True], [False, True, False]]"
      ]
     },
     "execution_count": 29,
     "metadata": {},
     "output_type": "execute_result"
    }
   ],
   "source": [
    "def decide(model):\n",
    "    model.append(False)\n",
    "def backtrack(model):\n",
    "    while model[-1]:\n",
    "        model.pop()\n",
    "    model[-1] = True\n",
    "\n",
    "def brute_loop(cnf): # bruit loop?\n",
    "    n = nv(cnf) + 1\n",
    "    model = []\n",
    "    while model != [True] * n:\n",
    "        print(model)\n",
    "        if len(model) != n:\n",
    "            decide(model)\n",
    "        else:\n",
    "            if satisfies(model,cnf):\n",
    "                yield model.copy()\n",
    "            backtrack(model)\n",
    "    return \"unsat\"\n",
    "\n",
    "list(brute_loop([[0],[1,2],[-1,-2]]))"
   ]
  },
  {
   "cell_type": "markdown",
   "metadata": {},
   "source": [
    "## Techniques\n",
    "\n",
    "bounded varaible elimination - important preprocessing. Most important maybe? https://fmv.jku.at/papers/EenBiere-SAT05.pdf\n",
    "\n",
    "phase saving - easy to implement, nice jump in perf. record old values of variables and prefer that?\n",
    "\n",
    "average glue LBD. glucose\n",
    "\n",
    "'vivification\"\n",
    "instantiation\n",
    "\n",
    "binary reason jumping\n",
    "lucky phase detection\n",
    "SLUR lookahead\n",
    "\n",
    "Blocked clauses\n",
    "https://fmv.jku.at/papers/JarvisaloBiereHeule-TACAS10.pdf \n",
    "\n",
    "VMTF variable move to front - verified sat solvers seem to use because doesn't need floats like vsids\n",
    "VSIDS . evsids?\n",
    "\n",
    "luby\n",
    "restarts\n",
    "\n",
    "\n",
    "https://www.msoos.org/2023/10/the-inprocessing-api-of-cryptominisat/\n",
    "https://fmv.jku.at/biere/talks/Biere-POS14-talk.pdf  Ternary resolution \n",
    "Backbone simplification  https://wenxiwang.github.io/papers/cadiback.pdf\n",
    "distillation https://dl.acm.org/doi/10.1145/1278480.1278628\n",
    "\tVivify clauses using the Oracle tool by Korhonen and Jarvisalo https://arxiv.org/pdf/2308.15819.pdf"
   ]
  },
  {
   "cell_type": "markdown",
   "metadata": {},
   "source": [
    "\n"
   ]
  },
  {
   "cell_type": "code",
   "execution_count": null,
   "metadata": {},
   "outputs": [],
   "source": [
    "%%file /tmp/sat.c\n",
    "\n",
    "#define VAR(n) ((1 << n) & model)\n",
    "//bool var(int model, int i){\n",
    "//\n",
    "//}\n",
    "\n",
    "bool clause1(int model){\n",
    "    return VAR(3) | VAR(4) | VAR(5);\n",
    "}\n",
    "\n",
    "#define VNUM 4\n",
    "int main(){\n",
    "    for(int model = 0; model < 2**VNUM; model++){\n",
    "        if(clause1(model) && clause2(model) && clause3(model)){\n",
    "            printf(\"%d\\n\", model);\n",
    "            return 0;\n",
    "        }\n",
    "    }\n",
    "    printf(\"unsat\");\n",
    "    return 1;\n",
    "}"
   ]
  },
  {
   "cell_type": "markdown",
   "metadata": {},
   "source": [
    "## Clause Learning\n",
    "https://en.wikipedia.org/wiki/Conflict-driven_clause_learning\n",
    "\n",
    "How do you actually do it\n",
    "implication graph (bad perspective?)\n",
    "\n",
    "Traverse the trail.\n",
    "\n",
    "single conflict clause or multiple? We unit prop somethining then in our unit prop queue we may have multiples\n",
    "The \"reason\". Like proof producing congruence clousre?\n",
    "Each unit prop could be marked with reason clause or decide.\n",
    "\n",
    "\n",
    "https://sarsko.github.io/_pages/SarekSkot%C3%A5m_thesis.pdf section 5\n",
    "\n",
    "\n",
    "clause learning and resolution."
   ]
  },
  {
   "cell_type": "markdown",
   "metadata": {},
   "source": []
  },
  {
   "cell_type": "markdown",
   "metadata": {},
   "source": [
    "## Two Watched Literal\n",
    "\n",
    "Compare with 2-SAT\n",
    "2-sat ~ congruence closure.\n",
    "\n",
    "tw watched literal freedom ~ union find freedom\n",
    "\n",
    "b | a\n",
    "b = ite(a, b, true)\n",
    "a = ite(b, a, true)\n",
    "ite(false,b,true) = true\n",
    "iter(false,b,true) = true\n",
    "\n",
    "really don't need ite... uh but what if two things are fozxren on a.\n",
    "Ok maybe we do need it\n",
    "\n",
    "b = freeze(clause7, a, true)\n",
    "freeze(clause7,false)\n",
    "\n",
    "\n"
   ]
  },
  {
   "cell_type": "code",
   "execution_count": null,
   "metadata": {},
   "outputs": [],
   "source": [
    "# two watched literal\n",
    "Lit = int\n",
    "clauses = []\n",
    "from collections import defaultdict\n",
    "vmap = defaultdict(list)\n",
    "\n",
    "def unit(cnum):\n",
    "    for lit in clauses[cnum]:\n",
    "        v = model[lit]\n",
    "        if v is None:\n",
    "            \n",
    "        \n",
    "\n",
    "\n",
    "def propagate(lit):\n",
    "    queue = [lit]\n",
    "    while queue:\n",
    "        lit = queue.pop()\n",
    "        for cid in vmap[lit]:\n",
    "            #cls = clauses[cid]\n",
    "\n",
    "            for l2 in cid:\n",
    "                v2 = model[l2]\n",
    "                if v2 is True:\n",
    "                    break # clause true\n",
    "                elif v2 is None:\n",
    "                    if cid in vmap[l2]: # other watched literal\n",
    "                        continue\n",
    "                    else:\n",
    "                        vmap[l2].append(cid)\n",
    "                        break\n",
    "            \n",
    "\n",
    "\n",
    "\n",
    "            l2 = unit(cid)\n",
    "            if l2 is not None:\n",
    "                queue.append(l2)\n",
    "            \n",
    "\n",
    "\n",
    "\n",
    "\n",
    "\n",
    "\n",
    "\n",
    "\n",
    "\n"
   ]
  },
  {
   "cell_type": "markdown",
   "metadata": {},
   "source": [
    "\n"
   ]
  },
  {
   "cell_type": "code",
   "execution_count": null,
   "metadata": {},
   "outputs": [],
   "source": [
    "def solve():\n",
    "    trail = []\n",
    "    clauses = []\n",
    "    def clause(n):\n",
    "        c = clauses[n]\n",
    "        for lit in c:\n",
    "\n",
    "    while True:\n",
    "        # propagate\n",
    "        # decided\n",
    "        # backjump\n",
    "        # learn\n",
    "        # forget\n",
    "class Solver():\n",
    "    model : dict[int, bool]\n",
    "    trail : list[tuple[bool, int, int]]\n",
    "    twl : dict[int, list[int]]\n",
    "\n",
    "    def eval_clause(self, nc):\n",
    "        c = self.clauses[c]\n",
    "        done = True\n",
    "        for l in c:\n",
    "\n",
    "            v = self.model.get(l)\n",
    "            if v is True:\n",
    "                return True\n",
    "            if v is None:\n",
    "                done = False\n",
    "                continue\n",
    "        if done:\n",
    "            return False # conflict\n",
    "        else:\n",
    "            return None # undecided\n",
    "    def decide(self, l):\n",
    "        self.trail.append((True, l))\n",
    "        self.model[l] = True\n",
    "        \n",
    "    def backjump(self, n):\n",
    "        for i in range(n):\n",
    "            l = self.trail.pop()\n",
    "            del self.model[l]\n"
   ]
  },
  {
   "cell_type": "markdown",
   "metadata": {},
   "source": [
    "# Solvers"
   ]
  },
  {
   "cell_type": "markdown",
   "metadata": {},
   "source": [
    "## Cadical\n",
    "- blocking literals 2008 JSAT paper by Chu, Harwood and Stuckey\n",
    "- Finally, for long clauses we save the position of the last watch replacement in 'pos', which in turn reduces certain quadratic accumulated propagation costs (2013 JAIR article by Ian Gent\n",
    "\n",
    "https://cca.informatik.uni-freiburg.de/papers/BiereFallerFazekasFleuryFroleyksPollitt-CAV24.pdf cadical 2\n",
    "- `cdcl_loop_with_inrpcoessing` is core in Internal https://github.com/arminbiere/cadical/blob/31f9aae44947c673dc6190c9beb399acb9ffec6a/src/internal.cpp#L246\n",
    "\n",
    "```\n",
    "mode = PROPAGATE\n",
    "def analyze():\n",
    "def propagate():\n",
    "def decide():\n",
    "\n",
    "while True:\n",
    "    match mode:\n",
    "        case PROPAGATE:\n",
    "        case DECIDE:\n",
    "\n",
    "```\n",
    "\n",
    "\n",
    "- propagate https://github.com/arminbiere/cadical/blob/master/src/propagate.cpp#L227 \n",
    "- watch https://github.com/arminbiere/cadical/blob/master/src/watch.hpp\n",
    "- analyze conflict https://github.com/arminbiere/cadical/blob/31f9aae44947c673dc6190c9beb399acb9ffec6a/src/analyze.cpp#L860 \n",
    "- decide https://github.com/arminbiere/cadical/blob/31f9aae44947c673dc6190c9beb399acb9ffec6a/src/decide.cpp#L122\n",
    "- trail is vector of in https://github.com/arminbiere/cadical/blob/31f9aae44947c673dc6190c9beb399acb9ffec6a/src/internal.hpp#L236 . control is also kind of part of trail https://github.com/arminbiere/cadical/blob/31f9aae44947c673dc6190c9beb399acb9ffec6a/src/internal.hpp#L254 . backtracking the trail https://github.com/arminbiere/cadical/blob/master/src/backtrack.cpp\n",
    "\n",
    "```\n",
    "control : list[tupel[level, unitlitnum]] # control only push on decisions\n",
    "trail : # every literal assigned is on trail \n",
    "```\n",
    "\n",
    "- clause https://github.com/arminbiere/cadical/blob/master/src/clause.hpp glucose L53  See the IJCAI'09 paper by Audemard & Simon for more details\n",
    "\n",
    "```\n",
    "Clause:\n",
    "    #id : maybe\n",
    "    lits : list[int]\n",
    "    glue: int\n",
    "\n",
    "```\n",
    "\n",
    "satsifiability modulo symmettries https://sat-modulo-symmetries.readthedocs.io/en/latest/\n",
    "\n",
    "Partik Simons et al Alg. 4 in his JAIR article from 2002. smodels. lookeahead. probing\n",
    "\n",
    "\n",
    "Idea. what if we incrementally put cadical back together\n",
    "\n",
    "https://www.youtube.com/watch?v=II2RhzwYszQ&t=14916s&ab_channel=SimonsInstitute\n"
   ]
  },
  {
   "cell_type": "markdown",
   "metadata": {},
   "source": [
    "## Satch\n",
    "https://www.youtube.com/watch?v=II2RhzwYszQ&t=14916s&ab_channel=SimonsInstitute\n",
    "https://github.com/arminbiere/satch"
   ]
  },
  {
   "cell_type": "markdown",
   "metadata": {},
   "source": [
    "## MicroSAT\n",
    "https://github.com/marijnheule/microsat "
   ]
  },
  {
   "cell_type": "markdown",
   "metadata": {},
   "source": [
    "## MiniSAT\n"
   ]
  },
  {
   "cell_type": "markdown",
   "metadata": {},
   "source": [
    "## PicoSAT"
   ]
  },
  {
   "cell_type": "markdown",
   "metadata": {},
   "source": [
    "## KISSAT\n"
   ]
  },
  {
   "cell_type": "markdown",
   "metadata": {},
   "source": [
    "## CreuSAT\n"
   ]
  },
  {
   "cell_type": "markdown",
   "metadata": {},
   "source": [
    "## IsaSAT\n"
   ]
  },
  {
   "cell_type": "markdown",
   "metadata": {},
   "source": [
    "# Encodings\n",
    "pysat\n",
    "pseudo boolean\n",
    "\n"
   ]
  },
  {
   "cell_type": "markdown",
   "metadata": {},
   "source": [
    "# SAT\n",
    "\n",
    "https://en.wikipedia.org/wiki/DPLL_algorithm\n",
    "https://chatgpt.com/c/66e9eb94-8984-8008-9db9-c0190f98e25c"
   ]
  },
  {
   "cell_type": "code",
   "execution_count": null,
   "metadata": {},
   "outputs": [],
   "source": [
    "from typing import NamedTuple\n",
    "\n",
    "Literal = NamedTuple('Literal', [('idx', int), ('polarity', bool)])\n",
    "Clause = NamedTuple('Clause', [('literals', list)])\n",
    "Formula = NamedTuple('Formula', [('clauses', list[Clause]), ('num_vars', int)])\n",
    "\n",
    "Assignment = NamedTuple('Assignment', [('values', list[bool])])\n",
    "Pasn = NamedTuple('Pasn', [('assignment', Assignment), ('satisfiable', bool)])\n"
   ]
  },
  {
   "cell_type": "markdown",
   "metadata": {},
   "source": [
    "## Z3 dimacs\n",
    "Can we use z3 to do cnf transformation?\n",
    "https://microsoft.github.io/z3guide/docs/strategies/summary#tactic-tseitin-cnf\n",
    "\n",
    "def dimacs(self, include_names=True): also apparently solver has a dimacs printer...\n",
    "\n",
    "https://stackoverflow.com/questions/13059096/z3-and-dimacs-output\n",
    "https://github.com/RobinDavid/pydimacs\n",
    "\n",
    "I put it into knuckeldragger\n"
   ]
  },
  {
   "cell_type": "code",
   "execution_count": 32,
   "metadata": {},
   "outputs": [
    {
     "name": "stdout",
     "output_type": "stream",
     "text": [
      "[Or(z, Not(x)), Or(w, Not(x)), Or(x, z, Not(y))]\n",
      "p cnf 4 3\n",
      "1 -2 0\n",
      "3 -2 0\n",
      "2 1 -4 0\n",
      "c 2 x\n",
      "c 4 y\n",
      "c 1 z\n",
      "c 3 w\n"
     ]
    }
   ],
   "source": [
    "from z3 import *\n",
    "\n",
    "x,y,z,w = Bools(\"x y z w\")\n",
    "G = Goal()\n",
    "G.add(Implies(x, And(z,w)))\n",
    "G.add(Implies(y, Or(x,z)))\n",
    "t1 = Tactic('tseitin-cnf')\n",
    "tactic = z3.Then('simplify', 'bit-blast', 'tseitin-cnf')\n",
    "for c in tactic(G):\n",
    "    print(c)\n",
    "    print(c.dimacs())\n",
    "\n",
    "import subprocess\n",
    "class SATSolver():\n",
    "    def __init__(self):\n",
    "        self.G = z3.Goal()\n",
    "    def add(self, clause):\n",
    "        self.G.add(clause)\n",
    "    def check(self, debug=False):\n",
    "        t = z3.Then('simplify', 'bit-blast', 'tseitin-cnf')\n",
    "        c = t(self.G)\n",
    "        assert(len(c) == 1)\n",
    "        with open(\"/tmp/sat.cnf\", \"w\") as f:\n",
    "            f.write(c[0].dimacs())\n",
    "            f.flush()\n",
    "        self.res = subprocess.run([\"kissat\", \"--relaxed\", \"/tmp/sat.cnf\"], capture_output=True)\n",
    "        res = self.res.stdout.decode()\n",
    "        if \"s SATISFIABLE\" in res:\n",
    "            return z3.sat\n",
    "        elif \"s UNSATISFIABLE\" in res:\n",
    "            return z3.unsat\n",
    "        else:\n",
    "            return z3.unknown\n",
    "\n",
    "s = SATSolver()\n",
    "s.add(Implies(x, And(z,w)))\n",
    "s.add(Implies(y, Or(x,z)))\n",
    "assert s.check() == z3.sat\n",
    "#print(s.res.stdout.decode())\n",
    "\n"
   ]
  },
  {
   "cell_type": "code",
   "execution_count": 26,
   "metadata": {},
   "outputs": [
    {
     "name": "stdout",
     "output_type": "stream",
     "text": [
      "p cnf 12 29\n",
      "52 -48 -49 0\n",
      "52 -48 0\n",
      "52 -49 0\n",
      "48 49 -52 0\n",
      "52 50 46 -53 0\n",
      "50 -53 -52 -46 0\n",
      "52 -50 -53 -46 0\n",
      "46 -50 -53 -52 0\n",
      "-50 -52 53 -46 0\n",
      "52 46 -50 53 0\n",
      "50 46 -52 53 0\n",
      "52 50 53 -46 0\n",
      "-53 0\n",
      "48 -54 -44 0\n",
      "44 -48 -54 0\n",
      "-48 54 -44 0\n",
      "44 48 54 0\n",
      "-54 0\n",
      "50 55 0\n",
      "52 55 0\n",
      "-50 -52 -55 0\n",
      "47 51 55 0\n",
      "47 -51 -55 0\n",
      "51 -47 -55 0\n",
      "-51 -47 55 0\n",
      "45 48 49 0\n",
      "45 -48 -49 0\n",
      "-48 49 -45 0\n",
      "48 -49 -45 0"
     ]
    }
   ],
   "source": [
    "! cat /tmp/sat.cnf"
   ]
  },
  {
   "cell_type": "code",
   "execution_count": 34,
   "metadata": {},
   "outputs": [],
   "source": [
    "x = BitVec('x', 4)\n",
    "y = BitVec('y', 4)\n",
    "s = SATSolver()\n",
    "s.add(x == y + 3)\n",
    "assert s.check() == z3.sat\n",
    "#print(s.res.stdout.decode())\n",
    "\n",
    "s = SATSolver()\n",
    "s.add(x == x + y)\n",
    "s.add(y != z3.BitVecVal(0, 4))\n",
    "assert s.check() == z3.unsat\n"
   ]
  },
  {
   "cell_type": "code",
   "execution_count": 15,
   "metadata": {},
   "outputs": [
    {
     "name": "stdout",
     "output_type": "stream",
     "text": [
      "[b, b, b]\n"
     ]
    },
    {
     "data": {
      "text/plain": [
       "[b, c, a]"
      ]
     },
     "execution_count": 15,
     "metadata": {},
     "output_type": "execute_result"
    }
   ],
   "source": [
    "from z3 import *\n",
    "a,b,c = Ints(\"a b c\")\n",
    "s = SimpleSolver()\n",
    "s.add(a == b)\n",
    "s.add(b == c)\n",
    "s.check()\n",
    "print([s.root(x) for x in [a,b,c]])\n",
    "[s.next(x) for x in [a,b,c]]    \n",
    "#s.next(b)"
   ]
  },
  {
   "cell_type": "code",
   "execution_count": null,
   "metadata": {},
   "outputs": [],
   "source": [
    "from z3 import *\n",
    "s = SimpleSolver()\n",
    "x, y, z = Ints('x y z')\n",
    "s.add(x == y)\n",
    "s.add(y == z)\n",
    "s.check()\n",
    "print(s.root(x), s.root(y), s.root(z))\n",
    "print(s.next(x), s.next(y), s.next(z))"
   ]
  },
  {
   "cell_type": "code",
   "execution_count": 2,
   "metadata": {},
   "outputs": [
    {
     "data": {
      "text/html": [
       "[[z &or; &not;x, w &or; &not;x]]"
      ],
      "text/plain": [
       "[[Or(z, Not(x)), Or(w, Not(x))]]"
      ]
     },
     "execution_count": 2,
     "metadata": {},
     "output_type": "execute_result"
    }
   ],
   "source": [
    "from z3 import *\n",
    "\n",
    "x,y,z,w = Bools(\"x y z w\")\n",
    "G = Goal()\n",
    "G.add(Implies(x, And(z,w)))\n",
    "t1 = Tactic('tseitin-cnf')\n",
    "t1(G)\n"
   ]
  },
  {
   "cell_type": "markdown",
   "metadata": {},
   "source": [
    "Match the z3 api "
   ]
  },
  {
   "cell_type": "code",
   "execution_count": null,
   "metadata": {},
   "outputs": [],
   "source": [
    "from dataclass import dataclass\n",
    "\n",
    "Id = int\n",
    "\n",
    "@dataclass\n",
    "class Context():\n",
    "    hashcons : dict[tuple[Id] | str | int, Id]\n",
    "    def intern(self, x : tuple[Id] | str | int) -> Id:\n",
    "        if x in self.hashcons:\n",
    "            return self.hashcons[x]\n",
    "        else:\n",
    "            id = len(self.hashcons)\n",
    "            self.hashcons[x] = id\n",
    "            return id\n",
    "\n",
    "  \n",
    "\n",
    "\n",
    "@dataclass(frozen=True)\n",
    "class AstRef():\n",
    "    ctx : Context\n",
    "    ast : Id\n",
    "    def __eq__(self, other : AstRef) -> bool:\n",
    "        assert self.cxt == other.ctx\n",
    "        return self.ast == other.ast\n",
    "    def __hash__(self) -> int:\n",
    "        return hash(self.ast)\n",
    "    \n",
    "    # fill in\n",
    "_main_ctx : Context = Context({})\n",
    "def get_ctx(ctx):\n",
    "    if ctx is None:\n",
    "        return _main_ctx\n",
    "    return ctx\n",
    "\n",
    "def to_symbol(x : int | str, ctx=None) -> int:\n",
    "    ctx = get_ctx(ctx)\n",
    "    return ctx.intern(x)\n",
    "    \n",
    "def is_ast(x):\n",
    "    return isinstance(x, AstRef)\n",
    "\n",
    "@dataclass(frozen=True)\n",
    "class SortRef(AstRef):\n",
    "\n",
    "@dataclass(frozen=True)\n",
    "class ExprRef(AstRef):\n",
    "    # fill in\n",
    "    ast : AstRef"
   ]
  },
  {
   "cell_type": "markdown",
   "metadata": {},
   "source": [
    "\n"
   ]
  },
  {
   "cell_type": "code",
   "execution_count": null,
   "metadata": {},
   "outputs": [],
   "source": []
  },
  {
   "cell_type": "code",
   "execution_count": null,
   "metadata": {},
   "outputs": [],
   "source": [
    "# parsing DIMACS\n",
    "def parse_dimacs(filename):\n",
    "    with open(filename, 'r') as f:\n",
    "        lines = f.readlines()\n",
    "    clauses = []\n",
    "    for line in lines:\n",
    "        if line[0] == 'c':\n",
    "            continue\n",
    "        if line[0] == 'p':\n",
    "            n_vars = int(line.split()[2])\n",
    "            continue\n",
    "        clause = [int(x) for x in line.split()[:-1]]\n",
    "        clauses.append(clause)\n",
    "    return n_vars, clauses"
   ]
  },
  {
   "cell_type": "code",
   "execution_count": null,
   "metadata": {},
   "outputs": [],
   "source": [
    "import numpy\n",
    "nclauses = 10\n",
    "clause_size = \n",
    "np.zeros((len(clauses), ) , dtype=np.uint8)\n",
    "\n"
   ]
  },
  {
   "cell_type": "code",
   "execution_count": null,
   "metadata": {},
   "outputs": [],
   "source": [
    "def unit_prop(solution, clauses):\n",
    "    while True:\n",
    "        unit_clauses = [c for c in clauses if len(c) == 1]\n",
    "        if len(unit_clauses) == 0:\n",
    "            break\n",
    "        unit_clause = unit_clauses[0]\n",
    "        unit_literal = unit_clause[0]\n",
    "        solution[abs(unit_literal)] = 1 if unit_literal > 0 else 0\n",
    "        clauses = [c for c in clauses if unit_literal not in c]\n",
    "    return solution, clauses\n",
    "\n",
    "\n",
    "\n"
   ]
  },
  {
   "cell_type": "code",
   "execution_count": null,
   "metadata": {},
   "outputs": [],
   "source": [
    "def CDCL():\n",
    "    while True:\n",
    "        if [] in clauses: return UNSAT\n",
    "        elif in_conflict(): learn(); backtrack()\n",
    "        elif not free_vars: return SAT\n",
    "        elif should_propagate(): propagate()\n",
    "        elif should_simplify(): simplify()\n",
    "        elif should_restarty(): restart()\n",
    "        elif: should_prune(): prune*()\n",
    "        else:\n",
    "            var= chooce_var()\n",
    "            sign = choose_sign()\n",
    "            assign(var,sign)\n"
   ]
  },
  {
   "cell_type": "markdown",
   "metadata": {},
   "source": [
    "Metatarki\n",
    "https://z3prover.github.io/papers/z3internals.html\n",
    "\n",
    "https://github.com/sarsko/CreuSAT/blob/master/Friday/src/lib.rs Friday"
   ]
  },
  {
   "cell_type": "code",
   "execution_count": null,
   "metadata": {},
   "outputs": [],
   "source": [
    "assignment= list[bool]\n",
    "lit = tuple[int, bool]\n",
    "clause = list[lit]\n",
    "\n",
    "\n",
    "def eval(formula, assignment):\n",
    "    pass\n",
    "\n",
    "def solve(formula):\n",
    "    assignment = [[None] * f.num_vars]\n",
    "    ix = 0\n",
    "    while True:\n",
    "        if ix == f.num_vars:\n",
    "\n",
    "\n",
    "# \n",
    "assignment = 0\n",
    "\n",
    "while True:\n",
    "    assignment += 1\n",
    "    eval(formula, assignment)\n",
    "\n"
   ]
  },
  {
   "cell_type": "markdown",
   "metadata": {},
   "source": [
    "# SMT\n",
    "difference logic\n",
    "https://docs.scipy.org/doc/scipy/reference/generated/scipy.sparse.csgraph.shortest_path.html\n",
    "\n",
    "https://users.aalto.fi/~tjunttil/2020-DP-AUT/notes-smt/diff_solver.html\n",
    "\n",
    "https://leodemoura.github.io/files/oregon08.pdf\n",
    "\n",
    "Engineering DPLL(T) + sautriation\n",
    "https://leodemoura.github.io/files/z3spc.pdf\n",
    "\n",
    "https://leodemoura.github.io/files/sbmf09.pdf\n",
    "\n",
    "https://dl.acm.org/doi/10.1145/1459010.1459014 New results on rewrite-based satisfiability procedures\n",
    "\n",
    "Gallier, J., Narendran, P., Plaisted, D., Raatz, S., Snyder, W.: An algorithm for\n",
    "finding canonical sets of ground rewrite rules in polynomial time. J. ACM 40\n",
    "(1993) - convert egraph into rules?\n",
    "\n",
    "https://ocamlpro.github.io/alt-ergo/latest/index.html\n",
    "\n",
    "https://homepage.cs.uiowa.edu/~tinelli/papers/NieOT-JACM-06.pdf Solving SAT and SAT Modulo Theories: from an\n",
    "Abstract Davis-Putnam-Logemann-Loveland\n",
    "Procedure to DPLL(T)\n",
    "\n",
    "https://alt-ergo.ocamlpro.com/#publications\n",
    "https://inria.hal.science/hal-01522770 three tier strategy for floating point\n",
    "\n",
    "https://citeseerx.ist.psu.edu/document?repid=rep1&type=pdf&doi=45036ae8e05d71ea39253f863cfa270b6cdd9aa2 simplify paper\n",
    "\n",
    "User theories. https://microsoft.github.io/z3guide/programming/Example%20Programs/User%20Propagator/\n",
    "\n",
    "https://cs.stanford.edu/~preiner/talks/Preiner-Shonan23.pdf ipasir-up\n",
    "```\n",
    "notifications (for Inspecting CDCL Search)\n",
    "∠ notify assignment\n",
    "∠ notify new decision level\n",
    "∠ notify backtrack\n",
    "Callbacks (for Influencing CDCL Search)\n",
    "∠ cb propagate\n",
    "∠ cb add reason clause lit\n",
    "∠ cb decide\n",
    "∠ cb add external clause lit\n",
    "∠ cb check found model\n",
    "```\n",
    "\n",
    "https://resources.mpi-inf.mpg.de/departments/rg1/conferences/vtsa08/slides/barret2_smt.pdf\n",
    "shostak. solver solve, and canonizier canon. Hmm. so that is both e-unification and completion.\n",
    "\n",
    "https://github.com/usi-verification-and-security/opensmt\n",
    "\n",
    "https://github.com/Z3Prover/z3/blob/master/src/smt/smt_theory.h"
   ]
  },
  {
   "cell_type": "code",
   "execution_count": null,
   "metadata": {},
   "outputs": [],
   "source": [
    "class Theory():\n",
    "    def mk_var(self, enode):\n",
    "        pass\n",
    "    def getvar(self, enode):\n",
    "        pass\n",
    "    def propagate(self):\n",
    "        pass\n",
    "    def push(self):\n",
    "        pass\n",
    "    def pop(self, n):\n",
    "        pass\n",
    "    def assign(self, bvar, sign):\n",
    "        pass\n",
    "    def new_eq(self, v1, v2):\n",
    "        pass\n",
    "    def new_diseq(self, v1,v2):\n",
    "        pass\n",
    "    def validate_model(self, mode):\n",
    "        pass\n",
    "    # model generate\n",
    "    def \n",
    "    # model check\n",
    "    def m\n"
   ]
  },
  {
   "cell_type": "markdown",
   "metadata": {},
   "source": [
    "https://github.com/cvc5/cvc5/blob/main/src/theory/theory.h\n",
    "https://github.com/cvc5/cvc5/blob/main/src/theory/output_channel.h\n",
    "\n",
    "\n",
    "https://ocamlpro.github.io/alt-ergo/latest/API/alt-ergo-lib/AltErgoLib/Theory/module-type-S/index.html"
   ]
  },
  {
   "cell_type": "code",
   "execution_count": 6,
   "metadata": {},
   "outputs": [
    {
     "ename": "TypeError",
     "evalue": "isinstance() arg 2 must be a type, a tuple of types, or a union",
     "output_type": "error",
     "traceback": [
      "\u001b[0;31m---------------------------------------------------------------------------\u001b[0m",
      "\u001b[0;31mTypeError\u001b[0m                                 Traceback (most recent call last)",
      "Cell \u001b[0;32mIn[6], line 34\u001b[0m\n\u001b[1;32m     31\u001b[0m \u001b[38;5;28;01mdef\u001b[39;00m \u001b[38;5;21mBoolSort\u001b[39m():\n\u001b[1;32m     32\u001b[0m     \u001b[38;5;28;01mreturn\u001b[39;00m BoolSortRef()\n\u001b[0;32m---> 34\u001b[0m \u001b[38;5;28;43misinstance\u001b[39;49m\u001b[43m(\u001b[49m\u001b[43mBoolSort\u001b[49m\u001b[43m(\u001b[49m\u001b[43m)\u001b[49m\u001b[43m,\u001b[49m\u001b[43mNamedTuple\u001b[49m\u001b[43m)\u001b[49m\n",
      "\u001b[0;31mTypeError\u001b[0m: isinstance() arg 2 must be a type, a tuple of types, or a union"
     ]
    }
   ],
   "source": [
    "from typing import NamedTuple\n",
    "\n",
    "\n",
    "ctx = {}\n",
    "\n",
    "#@dataclass\n",
    "class AstRef(NamedTuple):\n",
    "    #head : str\n",
    "    #sort : AstRef\n",
    "    #children : tuple[AstRef, ...]\n",
    "    def eq(self, other):\n",
    "        return self == other\n",
    "    def sexpr(self):\n",
    "        return \n",
    "\n",
    "\n",
    "\n",
    "class SortRef(AstRef):\n",
    "    name : str\n",
    "\n",
    "# smtlib3\n",
    "class TVarRef(SortRef):\n",
    "    pass\n",
    "\n",
    "class TForAll(SortRef):\n",
    "    pass\n",
    "\n",
    "    \n",
    "class FuncDeclRef(AstRef):\n",
    "    name : str\n",
    "    dom : tuple[SortRef, ...]\n",
    "    cod : SortRef\n",
    "    def range(self):\n",
    "        return self.cod\n",
    "    def arity(self):\n",
    "        return len(self.dom)\n",
    "    def __call__(self, *args):\n",
    "        return ExprRef(self, args)   \n",
    "\n",
    "class ExprRef(AstRef):\n",
    "    _decl : FuncDeclRef\n",
    "    _args : tuple[ExprRef, ...]\n",
    "    def decl(self):\n",
    "        return self._decl\n",
    "    def arg(self, i):\n",
    "        return self._args[i]\n",
    "    def children(self):\n",
    "        return self._args\n",
    "    def sort(self):\n",
    "        return self._decl.cod\n",
    "\n",
    "\n",
    "class BoolSortRef(SortRef):\n",
    "    name = \"Bool\"\n",
    "\n",
    "def BoolSort():\n",
    "    return BoolSortRef()\n",
    "\n",
    "class VarRef(AstRef):\n",
    "    ind : int\n",
    "#def QuantifierRef(ExprRef):\n",
    "\n",
    "\n",
    "#isinstance(BoolSort(),NamedTuple)\n",
    "\n",
    "def is_app(x):\n",
    "    return isinstance(x, ExprRef)\n",
    "def is_var(x): return isinstance(x, VarRef)\n",
    "def Function(name, *args):\n",
    "    return FuncDeclRef(name, args[:-1], args[-1])\n",
    "\n",
    "def And(*args):\n",
    "    AndDecl = Function(\"And\", *args)\n",
    "    #return AndDecl(*args)\n"
   ]
  },
  {
   "cell_type": "code",
   "execution_count": 9,
   "metadata": {},
   "outputs": [
    {
     "ename": "Z3Exception",
     "evalue": "Z3 application expected",
     "output_type": "error",
     "traceback": [
      "\u001b[0;31m---------------------------------------------------------------------------\u001b[0m",
      "\u001b[0;31mZ3Exception\u001b[0m                               Traceback (most recent call last)",
      "\u001b[0;32m/tmp/ipykernel_81342/923796132.py\u001b[0m in \u001b[0;36m?\u001b[0;34m()\u001b[0m\n\u001b[1;32m      1\u001b[0m \u001b[0;32mimport\u001b[0m \u001b[0mz3\u001b[0m\u001b[0;34m\u001b[0m\u001b[0;34m\u001b[0m\u001b[0m\n\u001b[1;32m      2\u001b[0m \u001b[0mx\u001b[0m\u001b[0;34m,\u001b[0m\u001b[0my\u001b[0m \u001b[0;34m=\u001b[0m \u001b[0mz3\u001b[0m\u001b[0;34m.\u001b[0m\u001b[0mBools\u001b[0m\u001b[0;34m(\u001b[0m\u001b[0;34m\"x y\"\u001b[0m\u001b[0;34m)\u001b[0m\u001b[0;34m\u001b[0m\u001b[0;34m\u001b[0m\u001b[0m\n\u001b[0;32m----> 3\u001b[0;31m \u001b[0mz3\u001b[0m\u001b[0;34m.\u001b[0m\u001b[0mForAll\u001b[0m\u001b[0;34m(\u001b[0m\u001b[0;34m[\u001b[0m\u001b[0mx\u001b[0m\u001b[0;34m,\u001b[0m\u001b[0my\u001b[0m\u001b[0;34m]\u001b[0m\u001b[0;34m,\u001b[0m \u001b[0mz3\u001b[0m\u001b[0;34m.\u001b[0m\u001b[0mAnd\u001b[0m\u001b[0;34m(\u001b[0m\u001b[0mx\u001b[0m\u001b[0;34m,\u001b[0m\u001b[0my\u001b[0m\u001b[0;34m)\u001b[0m\u001b[0;34m)\u001b[0m\u001b[0;34m.\u001b[0m\u001b[0mdecl\u001b[0m\u001b[0;34m(\u001b[0m\u001b[0;34m)\u001b[0m\u001b[0;34m\u001b[0m\u001b[0;34m\u001b[0m\u001b[0m\n\u001b[0m",
      "\u001b[0;32m~/.local/lib/python3.10/site-packages/z3/z3.py\u001b[0m in \u001b[0;36m?\u001b[0;34m(self)\u001b[0m\n\u001b[1;32m   1069\u001b[0m         \u001b[0;34m>>\u001b[0m\u001b[0;34m>\u001b[0m \u001b[0;34m(\u001b[0m\u001b[0ma\u001b[0m \u001b[0;34m+\u001b[0m \u001b[0;36m1\u001b[0m\u001b[0;34m)\u001b[0m\u001b[0;34m.\u001b[0m\u001b[0mdecl\u001b[0m\u001b[0;34m(\u001b[0m\u001b[0;34m)\u001b[0m\u001b[0;34m\u001b[0m\u001b[0;34m\u001b[0m\u001b[0m\n\u001b[1;32m   1070\u001b[0m         \u001b[0;34m+\u001b[0m\u001b[0;34m\u001b[0m\u001b[0;34m\u001b[0m\u001b[0m\n\u001b[1;32m   1071\u001b[0m         \"\"\"\n\u001b[1;32m   1072\u001b[0m         \u001b[0;32mif\u001b[0m \u001b[0mz3_debug\u001b[0m\u001b[0;34m(\u001b[0m\u001b[0;34m)\u001b[0m\u001b[0;34m:\u001b[0m\u001b[0;34m\u001b[0m\u001b[0;34m\u001b[0m\u001b[0m\n\u001b[0;32m-> 1073\u001b[0;31m             \u001b[0m_z3_assert\u001b[0m\u001b[0;34m(\u001b[0m\u001b[0mis_app\u001b[0m\u001b[0;34m(\u001b[0m\u001b[0mself\u001b[0m\u001b[0;34m)\u001b[0m\u001b[0;34m,\u001b[0m \u001b[0;34m\"Z3 application expected\"\u001b[0m\u001b[0;34m)\u001b[0m\u001b[0;34m\u001b[0m\u001b[0;34m\u001b[0m\u001b[0m\n\u001b[0m\u001b[1;32m   1074\u001b[0m         \u001b[0;32mreturn\u001b[0m \u001b[0mFuncDeclRef\u001b[0m\u001b[0;34m(\u001b[0m\u001b[0mZ3_get_app_decl\u001b[0m\u001b[0;34m(\u001b[0m\u001b[0mself\u001b[0m\u001b[0;34m.\u001b[0m\u001b[0mctx_ref\u001b[0m\u001b[0;34m(\u001b[0m\u001b[0;34m)\u001b[0m\u001b[0;34m,\u001b[0m \u001b[0mself\u001b[0m\u001b[0;34m.\u001b[0m\u001b[0mas_ast\u001b[0m\u001b[0;34m(\u001b[0m\u001b[0;34m)\u001b[0m\u001b[0;34m)\u001b[0m\u001b[0;34m,\u001b[0m \u001b[0mself\u001b[0m\u001b[0;34m.\u001b[0m\u001b[0mctx\u001b[0m\u001b[0;34m)\u001b[0m\u001b[0;34m\u001b[0m\u001b[0;34m\u001b[0m\u001b[0m\n",
      "\u001b[0;32m~/.local/lib/python3.10/site-packages/z3/z3.py\u001b[0m in \u001b[0;36m?\u001b[0;34m(cond, msg)\u001b[0m\n\u001b[1;32m    105\u001b[0m \u001b[0;32mdef\u001b[0m \u001b[0m_z3_assert\u001b[0m\u001b[0;34m(\u001b[0m\u001b[0mcond\u001b[0m\u001b[0;34m,\u001b[0m \u001b[0mmsg\u001b[0m\u001b[0;34m)\u001b[0m\u001b[0;34m:\u001b[0m\u001b[0;34m\u001b[0m\u001b[0;34m\u001b[0m\u001b[0m\n\u001b[1;32m    106\u001b[0m     \u001b[0;32mif\u001b[0m \u001b[0;32mnot\u001b[0m \u001b[0mcond\u001b[0m\u001b[0;34m:\u001b[0m\u001b[0;34m\u001b[0m\u001b[0;34m\u001b[0m\u001b[0m\n\u001b[0;32m--> 107\u001b[0;31m         \u001b[0;32mraise\u001b[0m \u001b[0mZ3Exception\u001b[0m\u001b[0;34m(\u001b[0m\u001b[0mmsg\u001b[0m\u001b[0;34m)\u001b[0m\u001b[0;34m\u001b[0m\u001b[0;34m\u001b[0m\u001b[0m\n\u001b[0m",
      "\u001b[0;31mZ3Exception\u001b[0m: Z3 application expected"
     ]
    }
   ],
   "source": [
    "import z3\n",
    "x,y = z3.Bools(\"x y\")\n",
    "z3.ForAll([x,y], z3.And(x,y)).decl()"
   ]
  },
  {
   "cell_type": "code",
   "execution_count": 34,
   "metadata": {},
   "outputs": [
    {
     "name": "stdout",
     "output_type": "stream",
     "text": [
      "Overwriting /tmp/test.lean\n"
     ]
    }
   ],
   "source": [
    "%%file /tmp/test.lean\n",
    "\n",
    "inductive Expr : Type\n",
    "| UVar : String -> Expr\n",
    "| App : String -> List Expr -> Expr\n",
    "\n",
    "deriving instance BEq, Hashable, Inhabited, Repr for Expr\n",
    "\n",
    "def main : IO Unit :=\n",
    "    do\n",
    "        IO.println \"Hello, world!\"\n",
    "        IO.println \"hi\"\n",
    "        IO.println (repr (Expr.App \"c\" []))"
   ]
  },
  {
   "cell_type": "code",
   "execution_count": 35,
   "metadata": {},
   "outputs": [
    {
     "name": "stdout",
     "output_type": "stream",
     "text": [
      "Hello, world!\n",
      "hi\n",
      "Expr.App \"c\" []\n"
     ]
    }
   ],
   "source": [
    "!lean --run /tmp/test.lean"
   ]
  },
  {
   "cell_type": "markdown",
   "metadata": {},
   "source": [
    "### z3 as a theory\n",
    "One of the easiest ways of getting a theory solve is to just use z3 as one.\n",
    "If you assert only theory atoms, basically it's a theory.\n",
    "You can propagate via many queries.\n",
    "\n",
    "We could also bolt z3 to cvc5 as an abomination.\n",
    "Or bolt kissat to z3.\n",
    "Or z3 that doesn't know what the other hand do-eth\n",
    "\n"
   ]
  },
  {
   "cell_type": "code",
   "execution_count": null,
   "metadata": {},
   "outputs": [],
   "source": [
    "from z3 import *\n",
    "\n",
    "boolmap = {}\n",
    "\n",
    "\n",
    "\n",
    "\n"
   ]
  },
  {
   "cell_type": "markdown",
   "metadata": {},
   "source": [
    "### Intercommunicating cvc5 and z3\n",
    "\n",
    "### dreal = z3 + flint (?)\n",
    "\n",
    "SMT modulo convex\n",
    "\n",
    "Could I find piles of interesting little SMT theories to prototype up?\n",
    "\n",
    "\n",
    "\n"
   ]
  }
 ],
 "metadata": {
  "kernelspec": {
   "display_name": "Python 3",
   "language": "python",
   "name": "python3"
  },
  "language_info": {
   "codemirror_mode": {
    "name": "ipython",
    "version": 3
   },
   "file_extension": ".py",
   "mimetype": "text/x-python",
   "name": "python",
   "nbconvert_exporter": "python",
   "pygments_lexer": "ipython3",
   "version": "3.10.12"
  }
 },
 "nbformat": 4,
 "nbformat_minor": 2
}
