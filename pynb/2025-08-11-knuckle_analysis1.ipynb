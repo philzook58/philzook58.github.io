{
 "cells": [
  {
   "cell_type": "markdown",
   "id": "fa832bca",
   "metadata": {},
   "source": [
    "---\n",
    "title: \"Knuckledragger Analysis Etudes\"\n",
    "date: 2025-08-11\n",
    "---\n",
    "\n",
    "I got kind of discouraged maybe 6 months ago trying some real analysis stuff.\n",
    "\n",
    "The following are some theorems about balls and contraction and distance functions. I'm not particularly proud of how annoying it was to prove some of these. I need to work on my attitude. I was in total distraught despair at every hiccup. That's no way to be.\n",
    "\n",
    "The way the Knuckledragger backwards tactic system works is that you build intermediate goals and throw everything that would be needed to dignify the step into a bag. Then a big `qed` call at the end assembles the proof.\n",
    "\n",
    "This worked nice in that it enabled one to break apart a big thing and figure out what was failing or give the existentials.\n",
    "\n",
    "But sometimes the big qed wouldn't work which was super frustrating.\n",
    "\n",
    "This could be because of bugs in my lemma recoding system, or just because it isn't obvious enough to z3 how to reassemble the proof from the bits (this should be pretty close to pure boolean reasoning, but if it unfolds or skolemizes or something before it realizes that, it's trouble).\n",
    "\n",
    "So I've been moving to having tactics record a callback that applies a bolted on axiom schema for the particular move the tactic implements.\n",
    "\n",
    "I've also made the bags of lemmas more scoped, so that z3 doesn't have as many things to look at.\n",
    "\n",
    "Also, improvements to unfold using the new `FreshVar` axioms schema so that the trace doesn't record the full quantified definition axiom.\n",
    "\n",
    "Still, doing higher order stuff in particular remains frustrating. Z3 is just not that good at higher order or very quantified reasoning.\n",
    "\n",
    "Here I define open balls and what it means to be open. Using `<=` in the definition of `real_open` seems to be much easier than using `<` since I don't have to supply a point that is outside the ball but still in `A`. I hope that change is correct?"
   ]
  },
  {
   "cell_type": "code",
   "execution_count": null,
   "id": "702b1bc2",
   "metadata": {},
   "outputs": [],
   "source": [
    "from kdrag.all import *\n",
    "import kdrag.theories.set as set_\n",
    "import kdrag.theories.real as real\n",
    "x,y,z = smt.Reals(\"x y z\")\n",
    "\n",
    "r = smt.Real(\"r\")\n",
    "def Ball(x,r):\n",
    "    return smt.Lambda([y], real.abs(y - x) < r)\n",
    "ball = kd.define(\"ball\", [x, r], Ball(x, r))\n",
    "\n",
    "RSet = set_.Set(smt.RealSort())\n",
    "S = smt.Const(\"S\", RSet)\n",
    "real_open = kd.define(\n",
    "        \"real_open\",\n",
    "        [S],\n",
    "        kd.QForAll([x], S[x], kd.QExists([r], r > 0, ball(x, r) <= S)),\n",
    "    )\n",
    "\n",
    "\n"
   ]
  },
  {
   "cell_type": "markdown",
   "id": "d8d001c0",
   "metadata": {},
   "source": [
    "Some theorems come easy. The commented out ones not so much. They _should_ come easy since it's just (quantified) linarith reasoning + unfolding, not sure why they don't"
   ]
  },
  {
   "cell_type": "code",
   "execution_count": null,
   "id": "7e655cd1",
   "metadata": {},
   "outputs": [],
   "source": [
    "\n",
    "\n",
    "open_full = kd.prove(real_open(RSet.full), unfold=1)\n",
    "open_empty = kd.prove(real_open(RSet.empty), unfold=1)\n",
    "#open_pos = kd.prove(real_open(smt.Lambda([x], x > 0)), unfold=2)\n",
    "#open_ball = kd.prove(real_open(ball(0,1)), unfold=3)"
   ]
  },
  {
   "cell_type": "code",
   "execution_count": 2,
   "id": "6274db4b",
   "metadata": {},
   "outputs": [],
   "source": [
    "x,r1,r2 = smt.Reals(\"x r1 r2\")\n",
    "\n",
    "ball_sub = kd.prove(kd.QForAll([x,r1,r2], r1 > 0, r2 > r1, ball(x, r1) <= ball(x, r2)), unfold=1)\n",
    "#ball_empty = kd.prove(kd.QForAll([x,r], r <= 0, ball(x, 0) == RSet.empty), unfold=2)"
   ]
  },
  {
   "cell_type": "markdown",
   "id": "b5fde100",
   "metadata": {},
   "source": [
    "All these messages are warnings in unfold because Z3 can't synthesize the total unfolding from the unfolding lemmas. I guess I have to make unfold an axiom. Using z3 `substitute_funs` ought to actually be kind of nice for this."
   ]
  },
  {
   "cell_type": "code",
   "execution_count": 18,
   "id": "1a33eda0",
   "metadata": {},
   "outputs": [
    {
     "name": "stderr",
     "output_type": "stream",
     "text": [
      "Admitting lemma (ball(x!546, r!547) == K(Real, False)) ==\n",
      "((Lambda(y, absR(y - x!546) < r!547)) == K(Real, False))\n",
      "Admitting lemma ((Lambda(y, absR(y - x!546) < r!547)) == K(Real, False)) ==\n",
      "((Lambda(y,\n",
      "         If(y - x!546 >= 0, y - x!546, -(y - x!546)) < r!547)) ==\n",
      " K(Real, False))\n"
     ]
    },
    {
     "name": "stdout",
     "output_type": "stream",
     "text": [
      "Something is off in unfold (ball(x!546, r!547) == K(Real, False)) ==\n",
      "((Lambda(y, absR(y - x!546) < r!547)) == K(Real, False)) [|= ball(x!546, r!547) == (Lambda(y, absR(y - x!546) < r!547))]\n",
      "Something is off in unfold ((Lambda(y, absR(y - x!546) < r!547)) == K(Real, False)) ==\n",
      "((Lambda(y,\n",
      "         If(y - x!546 >= 0, y - x!546, -(y - x!546)) < r!547)) ==\n",
      " K(Real, False)) [|= ForAll(Y!552,\n",
      "       absR(Y!552 - x!546) ==\n",
      "       If(Y!552 - x!546 >= 0,\n",
      "          Y!552 - x!546,\n",
      "          -(Y!552 - x!546))), |= (Lambda(Y!552,\n",
      "        If(Y!552 - x!546 >= 0,\n",
      "           Y!552 - x!546,\n",
      "           -(Y!552 - x!546)) <\n",
      "        r!547)) ==\n",
      "(Lambda(y,\n",
      "        If(y - x!546 >= 0, y - x!546, -(y - x!546)) < r!547))]\n"
     ]
    },
    {
     "data": {
      "text/html": [
       "&#8870;ForAll([x!544, r!151],\n",
       "       Implies(r!151 <= 0,\n",
       "               ball(x!544, r!151) == K(Real, False)))"
      ],
      "text/plain": [
       "|= ForAll([x!544, r!151],\n",
       "       Implies(r!151 <= 0,\n",
       "               ball(x!544, r!151) == K(Real, False)))"
      ]
     },
     "execution_count": 18,
     "metadata": {},
     "output_type": "execute_result"
    }
   ],
   "source": [
    "l = kd.Lemma(kd.QForAll([x,r], r <= 0, ball(x, r) == RSet.empty))\n",
    "x,r = l.fixes()\n",
    "l.intros()\n",
    "l.unfold()\n",
    "l.unfold()\n",
    "#l.ext()\n",
    "l.auto()\n",
    "#l.auto() # unreliable\n",
    "ball_empty = l.qed()\n",
    "ball_empty"
   ]
  },
  {
   "cell_type": "code",
   "execution_count": 4,
   "id": "6e06e570",
   "metadata": {},
   "outputs": [],
   "source": [
    "l = kd.Lemma(smt.ForAll([x], ball(x, 0) == RSet.empty))\n",
    "x = l.fix()\n",
    "l.auto(by=[ball_empty(x, smt.RealVal(0))])\n",
    "ball_rad0 = l.qed()"
   ]
  },
  {
   "cell_type": "markdown",
   "id": "536d017e",
   "metadata": {},
   "source": [
    "It is commonly the case, and I'm ok with, that z3 can't auto solve a goal because you need to peel it apart enough to give the existential term explicitly. I could add a metavariable facility to solve these variables via unification or `sympy.solve` (neither of these need to be in the trusted kernel for this purpose). Interesting avenue to persue"
   ]
  },
  {
   "cell_type": "code",
   "execution_count": 5,
   "id": "5df21e6e",
   "metadata": {},
   "outputs": [
    {
     "data": {
      "text/html": [
       "&#8870;real_open(ball(0, 1))"
      ],
      "text/plain": [
       "|= real_open(ball(0, 1))"
      ]
     },
     "execution_count": 5,
     "metadata": {},
     "output_type": "execute_result"
    }
   ],
   "source": [
    "l = kd.Lemma(real_open(ball(0,1)))\n",
    "l.unfold()\n",
    "x = l.fix()\n",
    "l.intros()\n",
    "l.exists(1-real.abs(x))\n",
    "l.auto(unfold=2)\n",
    "open_ball_unit = l.qed()\n",
    "open_ball_unit"
   ]
  },
  {
   "cell_type": "code",
   "execution_count": 6,
   "id": "b566fd9d",
   "metadata": {},
   "outputs": [
    {
     "name": "stderr",
     "output_type": "stream",
     "text": [
      "Admitting lemma subset(ball(x!194, x!194/2), Lambda(x!174, x!174 > 0)) ==\n",
      "subset(Lambda(y, absR(y - x!194) < x!194/2),\n",
      "       Lambda(x!174, x!174 > 0))\n",
      "Admitting lemma subset(Lambda(y, absR(y - x!194) < x!194/2),\n",
      "       Lambda(x!174, x!174 > 0)) ==\n",
      "subset(Lambda(y,\n",
      "              If(y - x!194 >= 0, y - x!194, -(y - x!194)) <\n",
      "              x!194/2),\n",
      "       Lambda(x!174, x!174 > 0))\n"
     ]
    },
    {
     "name": "stdout",
     "output_type": "stream",
     "text": [
      "Something is off in unfold subset(ball(x!194, x!194/2), Lambda(x!174, x!174 > 0)) ==\n",
      "subset(Lambda(y, absR(y - x!194) < x!194/2),\n",
      "       Lambda(x!174, x!174 > 0)) [|= ball(x!194, x!194/2) ==\n",
      "(Lambda(y, absR(y - x!194) < x!194/2))]\n",
      "Something is off in unfold subset(Lambda(y, absR(y - x!194) < x!194/2),\n",
      "       Lambda(x!174, x!174 > 0)) ==\n",
      "subset(Lambda(y,\n",
      "              If(y - x!194 >= 0, y - x!194, -(y - x!194)) <\n",
      "              x!194/2),\n",
      "       Lambda(x!174, x!174 > 0)) [|= ForAll(Y!201,\n",
      "       absR(Y!201 - x!194) ==\n",
      "       If(Y!201 - x!194 >= 0,\n",
      "          Y!201 - x!194,\n",
      "          -(Y!201 - x!194))), |= (Lambda(Y!201,\n",
      "        If(Y!201 - x!194 >= 0,\n",
      "           Y!201 - x!194,\n",
      "           -(Y!201 - x!194)) <\n",
      "        x!194/2)) ==\n",
      "(Lambda(y,\n",
      "        If(y - x!194 >= 0, y - x!194, -(y - x!194)) <\n",
      "        x!194/2))]\n"
     ]
    },
    {
     "data": {
      "text/html": [
       "&#8870;real_open(Lambda(x!174, x!174 > 0))"
      ],
      "text/plain": [
       "|= real_open(Lambda(x!174, x!174 > 0))"
      ]
     },
     "execution_count": 6,
     "metadata": {},
     "output_type": "execute_result"
    }
   ],
   "source": [
    "l = kd.Lemma(real_open(smt.Lambda([x], x > 0)))\n",
    "l.unfold()\n",
    "x = l.fix()\n",
    "l.intros()\n",
    "l.exists(x/2)\n",
    "l.split()\n",
    "l.auto()\n",
    "l.unfold(ball)\n",
    "l.unfold(real.abs)\n",
    "#l.auto()\n",
    "l.lemmas[-1]\n",
    "l.auto()\n",
    "l.lemmas[-1]\n",
    "l.qed()\n",
    "#l.auto(unfold=2)\n",
    "#l.auto(unfold=2)\n",
    "#l.qed()"
   ]
  },
  {
   "cell_type": "markdown",
   "id": "8f2097d0",
   "metadata": {},
   "source": [
    "I'm surprised how automatic this is."
   ]
  },
  {
   "cell_type": "code",
   "execution_count": 7,
   "id": "d024bfc2",
   "metadata": {},
   "outputs": [
    {
     "data": {
      "text/html": [
       "&#8870;ForAll([A!214, B!215],\n",
       "       Implies(And(real_open(A!214), real_open(B!215)),\n",
       "               real_open(union(A!214, B!215))))"
      ],
      "text/plain": [
       "|= ForAll([A!214, B!215],\n",
       "       Implies(And(real_open(A!214), real_open(B!215)),\n",
       "               real_open(union(A!214, B!215))))"
      ]
     },
     "execution_count": 7,
     "metadata": {},
     "output_type": "execute_result"
    }
   ],
   "source": [
    "A,B = kd.FreshVars(\"A B\", RSet)\n",
    "l = kd.Lemma(smt.Implies(real_open(A) & real_open(B), real_open(A | B)))\n",
    "l.unfold(real_open)\n",
    "l.intros()\n",
    "x = l.fix()\n",
    "l.split(at=0)\n",
    "l.instan(0, x)\n",
    "l.instan(1, x)\n",
    "l.auto()\n",
    "open_union = l.qed().forall([A,B])\n",
    "open_union"
   ]
  },
  {
   "cell_type": "code",
   "execution_count": 8,
   "id": "ddf17a1d",
   "metadata": {},
   "outputs": [
    {
     "data": {
      "text/html": [
       "&#8870;ForAll([A!233, B!234],\n",
       "       Implies(And(real_open(A!233), real_open(B!234)),\n",
       "               real_open(intersection(A!233, B!234))))"
      ],
      "text/plain": [
       "|= ForAll([A!233, B!234],\n",
       "       Implies(And(real_open(A!233), real_open(B!234)),\n",
       "               real_open(intersection(A!233, B!234))))"
      ]
     },
     "execution_count": 8,
     "metadata": {},
     "output_type": "execute_result"
    }
   ],
   "source": [
    "A,B = kd.FreshVars(\"A B\", RSet)\n",
    "l = kd.Lemma(smt.Implies(real_open(A) & real_open(B), real_open(A & B)))\n",
    "l.unfold(real_open)\n",
    "#l.unfold(ball)\n",
    "#l.unfold(real.abs)\n",
    "l.intros()\n",
    "x = l.fix()\n",
    "l.intros()\n",
    "#r = l.fix()\n",
    "l.split(at=0)\n",
    "l.instan(0, x)\n",
    "l.instan(1, x)\n",
    "l.cases(A[x])\n",
    "# A == False\n",
    "l.cases(B[x])\n",
    "l.auto() # impossible\n",
    "l.auto()\n",
    "# A == True\n",
    "l.cases(B[x])\n",
    "l.auto()\n",
    "l.have(kd.QExists([r], r > 0, ball(x, r) <= B))\n",
    "rB = l.einstan(-1)\n",
    "l.have(kd.QExists([r], r > 0, ball(x, r) <= A))\n",
    "rA = l.einstan(-1)\n",
    "l.exists(real.min(rA, rB))\n",
    "l.auto(unfold=1)\n",
    "open_inter = l.qed().forall([A,B])\n",
    "open_inter\n"
   ]
  },
  {
   "cell_type": "markdown",
   "id": "bada0439",
   "metadata": {},
   "source": [
    "TODO: the bigunion of open sets ought to be open."
   ]
  },
  {
   "cell_type": "code",
   "execution_count": 9,
   "id": "94b83f46",
   "metadata": {},
   "outputs": [
    {
     "data": {
      "text/html": [
       "bigunion"
      ],
      "text/plain": [
       "bigunion"
      ]
     },
     "execution_count": 9,
     "metadata": {},
     "output_type": "execute_result"
    }
   ],
   "source": [
    "import kdrag.theories.set as set_\n",
    "RSet = set_.Set(smt.RealSort())\n",
    "set_.bigunion(RSet)\n",
    "\n"
   ]
  },
  {
   "cell_type": "markdown",
   "id": "a952d7ce",
   "metadata": {},
   "source": [
    "https://en.wikipedia.org/wiki/Contraction_mapping\n",
    "\n",
    "Contraction mappings are really compelling to focus on. Theorems about contraction mappings are how you take rigorous numerics and turn them into theorems about actual fixed points.\n",
    "\n",
    "Here is a definition of metric and theorem about it. It does seem like z3 is a little happier with me using FreshVar and quantifying afterwards rather than giving it the quantifier. Weird."
   ]
  },
  {
   "cell_type": "code",
   "execution_count": 10,
   "id": "c61981a2",
   "metadata": {},
   "outputs": [],
   "source": [
    "x,y,z = kd.FreshVars(\"x y z\", smt.RealSort())\n",
    "dist = kd.define(\"dist\", [x,y], real.abs(x - y))\n",
    "dist.refl = kd.prove(kd.QForAll([x], dist(x, x) == 0), unfold=2)\n",
    "dist.pos = kd.prove(kd.QForAll([x,y], x != y, dist(x, y) > 0), unfold=2)\n",
    "dist.pos2 = kd.prove(kd.QForAll([x,y], dist(x, y) >= 0), unfold=2)\n",
    "dist.sym = kd.prove(kd.QForAll([x,y], dist(x, y) == dist(y, x)), unfold=2)\n",
    "#tri = kd.prove(kd.QForAll([x,y,z], smt.Abs(x - z) <= smt.Abs(x - y) + smt.Abs(y - z)))\n",
    "dist.tri = kd.prove(dist(x, z) <= dist(x, y) + dist(y, z), unfold=2).forall([x,y,z])\n",
    "a = kd.FreshVar(\"a\", smt.RealSort())\n"
   ]
  },
  {
   "cell_type": "code",
   "execution_count": 11,
   "id": "3ae174e2",
   "metadata": {},
   "outputs": [],
   "source": [
    "dist.linear = kd.prove(dist(a*x, a*y) == real.abs(a)*dist(x,y), unfold=2).forall([a,x,y])"
   ]
  },
  {
   "cell_type": "code",
   "execution_count": 12,
   "id": "b274c70a",
   "metadata": {},
   "outputs": [],
   "source": [
    "RFun = smt.ArraySort(smt.RealSort(), smt.RealSort())\n",
    "S = smt.Const(\"S\", RSet)\n",
    "f = smt.Const(\"f\", RFun)\n",
    "q = smt.Real(\"q\")\n",
    "contractive = kd.define(\"contract\", [S, f], kd.QExists([q], q >= 0, q < 1, kd.QForAll([x,y], S[x], S[y], dist(f[x], f[y]) <= q*dist(x, y))))"
   ]
  },
  {
   "cell_type": "code",
   "execution_count": 13,
   "id": "cf751132",
   "metadata": {},
   "outputs": [
    {
     "data": {
      "text/html": [
       "&#8870;contract(K(Real, True), Lambda(x!470, x!470/2))"
      ],
      "text/plain": [
       "|= contract(K(Real, True), Lambda(x!470, x!470/2))"
      ]
     },
     "execution_count": 13,
     "metadata": {},
     "output_type": "execute_result"
    }
   ],
   "source": [
    "l = kd.Lemma(contractive(RSet.full, smt.Lambda([x], x/2)))\n",
    "l.unfold(contractive)\n",
    "l.exists(1/smt.RealVal(2))\n",
    "l.split()\n",
    "l.auto()\n",
    "l.auto()\n",
    "x,y = l.fixes()\n",
    "l.intros()\n",
    "l.simp()\n",
    "#l.rw(dist.linear(1/smt.RealVal(2), x, y))\n",
    "l.have(smt.simplify(dist(x/2, y/2)) == 1/2*dist(x,y), by=[dist.linear(1/smt.RealVal(2), x, y), real.abs.defn(1/smt.RealVal(2))])\n",
    "l.auto()\n",
    "l.qed()\n",
    "#l.auto(by=[dist.pos2(x,y)])\n",
    "#l.auto(by=[dist.linear(1/smt.RealVal(2), x, y), dist.pos2(x,y), real.abs.defn(1/smt.RealVal(2))], unfold=3)"
   ]
  },
  {
   "cell_type": "code",
   "execution_count": 14,
   "id": "92f41825",
   "metadata": {},
   "outputs": [
    {
     "data": {
      "text/html": [
       "&#8870;contract(K(Real, True), Lambda(x!541, x!541/2))"
      ],
      "text/plain": [
       "|= contract(K(Real, True), Lambda(x!541, x!541/2))"
      ]
     },
     "execution_count": 14,
     "metadata": {},
     "output_type": "execute_result"
    }
   ],
   "source": [
    "l = kd.Lemma(contractive(RSet.full, smt.Lambda([x], x/2)))\n",
    "x0 = x\n",
    "l.unfold(contractive)\n",
    "l.exists(1/smt.RealVal(2))\n",
    "l.split()\n",
    "l.auto()\n",
    "l.auto()\n",
    "x,y = l.fixes()\n",
    "l.auto(by=[dist.linear(1/smt.RealVal(2), x, y), real.abs.defn(1/smt.RealVal(2))])\n",
    "l.qed()"
   ]
  },
  {
   "cell_type": "code",
   "execution_count": null,
   "id": "e2cf9415",
   "metadata": {},
   "outputs": [],
   "source": [
    "cont = kd.define(\"cont\", [S, f], kd.QForAll([A], A <= S, open_real(A), open_real(set_.InvImage(f, A))))"
   ]
  },
  {
   "cell_type": "markdown",
   "id": "1814bdcd",
   "metadata": {},
   "source": [
    "Something I kind of have been liking the idea of is using python `Protocol` as my abstraction layer. They aren't part of the trusted kernel, they just organize concepts. I want to lie cleanly in python idioms."
   ]
  },
  {
   "cell_type": "code",
   "execution_count": null,
   "id": "12675be9",
   "metadata": {},
   "outputs": [],
   "source": [
    "from kdrag.all import *\n",
    "from typing import Protocol, runtime_checkable\n",
    "\n",
    "@runtime_checkable\n",
    "class MetricSpace(Protocol):\n",
    "    M : smt.ArrayRef\n",
    "    dist : smt.FuncDeclRef\n",
    "    refl : kd.Proof\n",
    "    pos : kd.Proof\n",
    "    symm : kd.Proof\n",
    "    tri : kd.Proof\n",
    "\n",
    "x,y,z = smt.Reals(\"x y z\")\n",
    "# Slightly odd usage of class. Don't instantiate. Everything is class member\n",
    "# It's really just a fancy dict.\n",
    "class MetricR:\n",
    "    M = smt.RealSort()\n",
    "    dist = smt.Lambda([x,y], smt.Abs(x - y))\n",
    "    refl = kd.prove(smt.ForAll([x], dist(x, x) == 0))\n",
    "    pos = kd.prove(smt.ForAll([x, y], dist(x, y) >= 0))\n",
    "    symm = kd.prove(smt.ForAll([x, y], dist(x, y) == dist(y, x)))\n",
    "    tri = kd.prove(smt.ForAll([x,y,z] , dist(x, z) <= dist(x, y) + dist(y, z)))\n",
    "assert isinstance(MetricR, MetricSpace)"
   ]
  },
  {
   "cell_type": "markdown",
   "id": "84a3e27f",
   "metadata": {},
   "source": [
    "# Bits and Bobbles\n",
    "\n",
    "This whole post was bits and bobbles really.\n",
    "\n",
    "I should supposedly be using a filter approach. It seems like everyone does that  https://link.springer.com/chapter/10.1007/978-3-642-39634-2_21\n",
    "\n",
    "Writing down these definitions is painful.\n",
    "\n",
    "Figuring out analysis, my system, and how to formalize all at the same time is very painful.\n",
    "\n"
   ]
  },
  {
   "cell_type": "code",
   "execution_count": null,
   "id": "a14b516f",
   "metadata": {},
   "outputs": [],
   "source": [
    "def unfold(e: smt.ExprRef, defn_eqs: Sequence[kd.Proof]):\n",
    "    \"\"\"\n",
    "    Unfold a definitional equation. The order of variables is off from what kd.define returns.\n",
    "\n",
    "    >>> x = smt.Int(\"x\")\n",
    "    >>> y = smt.Real(\"y\")\n",
    "    >>> f = smt.Function(\"test_f\", smt.IntSort(), smt.RealSort(), smt.RealSort())\n",
    "    >>> defn = kd.axiom(smt.ForAll([y,x], f(x,y) == (x + 2*y)))\n",
    "    >>> unfold(f(7,8), [defn])\n",
    "    |= test_f(7, 8) == ToReal(7) + 2*8\n",
    "    \"\"\"\n",
    "    assert all(isinstance(pf, kd.Proof) for pf in defn_eqs)\n",
    "    subst = []\n",
    "    for pf in defn_eqs:\n",
    "        thm = pf.thm\n",
    "        if isinstance(thm, smt.QuantifierRef) and thm.is_forall():\n",
    "            eq = thm.body()\n",
    "            lhs, rhs = eq.arg(0), eq.arg(1)\n",
    "            decl = lhs.decl()\n",
    "            arity = decl.arity()\n",
    "            for n, v in enumerate(lhs.children()):\n",
    "                assert smt.is_var(v) and smt.get_var_index(v) == n\n",
    "            subst.append((decl, rhs))\n",
    "        elif smt.is_eq(thm):\n",
    "            lhs, rhs = thm.arg(0), thm.arg(1)\n",
    "            assert smt.is_const(lhs)\n",
    "            decl = lhs.decl()\n",
    "            subst.append((decl, rhs))\n",
    "        else:\n",
    "            raise ValueError(\"Unfolding only works for definitional equalities\", pf)\n",
    "    return kd.axiom(e == smt.substitute_funs(e, *subst), by=[\"unfold\", defn_eqs])"
   ]
  },
  {
   "cell_type": "code",
   "execution_count": 15,
   "id": "7a4b2581",
   "metadata": {},
   "outputs": [
    {
     "name": "stdout",
     "output_type": "stream",
     "text": [
      "contract(K(Real, True), Lambda(x!541, x!541/2))\n",
      "Exists(q,\n",
      "       And(q >= 0,\n",
      "           q < 1,\n",
      "           ForAll([x!544, y!545],\n",
      "                  Implies(And(K(Real, True)[x!544],\n",
      "                              K(Real, True)[y!545]),\n",
      "                          dist(Lambda(x!541, x!541/2)[x!544],\n",
      "                               Lambda(x!541, x!541/2)[y!545]) <=\n",
      "                          q*dist(x!544, y!545)))))\n"
     ]
    }
   ],
   "source": [
    "f = smt.Lambda([x0], x0/2)\n",
    "S = RSet.full\n",
    "print(contractive(S,f))\n",
    "print(kd.QExists([q], q >= 0, q < 1, kd.QForAll([x,y], S[x], S[y], dist(f[x], f[y]) <= q*dist(x, y))))"
   ]
  },
  {
   "cell_type": "code",
   "execution_count": 16,
   "id": "35409317",
   "metadata": {},
   "outputs": [
    {
     "data": {
      "text/plain": [
       "2230"
      ]
     },
     "execution_count": 16,
     "metadata": {},
     "output_type": "execute_result"
    }
   ],
   "source": [
    "(contractive(S,f) == kd.QExists([q], q >= 0, q < 1, kd.QForAll([x,y], S[x], S[y], dist(f[x], f[y]) <= q*dist(x, y)))).get_id()"
   ]
  },
  {
   "cell_type": "code",
   "execution_count": 17,
   "id": "4a865b5f",
   "metadata": {},
   "outputs": [
    {
     "data": {
      "text/html": [
       "<b>unsat</b>"
      ],
      "text/plain": [
       "unsat"
      ]
     },
     "execution_count": 17,
     "metadata": {},
     "output_type": "execute_result"
    }
   ],
   "source": [
    "s = smt.Solver()\n",
    "b = smt.Bool(\"b\")\n",
    "f = smt.Lambda([x], x/2)\n",
    "S = RSet.full\n",
    "s.add(contractive(S,f) == kd.QExists([q], q >= 0, q < 1, kd.QForAll([x,y], S[x], S[y], dist(f[x], f[y]) <= q*dist(x, y))))\n",
    "s.add(smt.Not(contractive(S,f) == kd.QExists([q], q >= 0, q < 1, kd.QForAll([x,y], S[x], S[y], dist(f[x], f[y]) <= q*dist(x, y)))))\n",
    "s.check()"
   ]
  },
  {
   "cell_type": "code",
   "execution_count": null,
   "id": "8240bfad",
   "metadata": {},
   "outputs": [],
   "source": []
  },
  {
   "cell_type": "markdown",
   "id": "56e51f34",
   "metadata": {},
   "source": [
    "Slotted hash cons\n",
    "Lean as simplifier\n",
    "prob pl\n",
    "asm v erify 3\n",
    "quickchecking dependent types"
   ]
  }
 ],
 "metadata": {
  "kernelspec": {
   "display_name": "philzook58.github.io",
   "language": "python",
   "name": "python3"
  },
  "language_info": {
   "codemirror_mode": {
    "name": "ipython",
    "version": 3
   },
   "file_extension": ".py",
   "mimetype": "text/x-python",
   "name": "python",
   "nbconvert_exporter": "python",
   "pygments_lexer": "ipython3",
   "version": "3.12.3"
  }
 },
 "nbformat": 4,
 "nbformat_minor": 5
}
