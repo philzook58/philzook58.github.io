{
 "cells": [
  {
   "cell_type": "markdown",
   "metadata": {},
   "source": [
    "---\n",
    "title: \"Tensors and Graphs: Canonization by Search\"\n",
    "date: 2024-11-04\n",
    "---\n",
    "\n",
    "Sets `{1,3,5,2}`, integral expressions $\\int dx e^{-x^2}$, sums $\\sum_i a_i$, lambdas $\\lambda x. x x$, [resolution clauses](https://en.wikipedia.org/wiki/Resolution_(logic)) $ p(X) \\lor q(X,Y)$, [conjunctive database queries](https://en.wikipedia.org/wiki/Conjunctive_query) $R(a,b) \\land R(b,c) \\land R(c,a)$, graphs, and indexful [tensor](https://en.wikipedia.org/wiki/Tensor) expressions $T_{ijk}\\epsilon_{ij}$ are all interesting little objects.\n",
    "\n",
    "You sometimes want to manipulate these objects, index them for fast lookup, or check for equality. I discussed some strategies here https://www.philipzucker.com/hashing-modulo/. In short some possible approaches are\n",
    "\n",
    "- Canonize to a unique form\n",
    "- Find a homomorphism into the integers\n",
    "- Find invariants / fingerprints\n",
    "\n",
    "For sets for example, canonizing a list representation of a set can be done by simply sorting it. Very natural, Eazy peasy.\n",
    "\n",
    "For lambda terms, a common canonical representation is [de bruijn indices](https://en.wikipedia.org/wiki/De_Bruijn_index), which name variables by the number of binders you need to cross to reach their binding lambda.\n",
    "\n",
    "For binderless alpha invariant things, like a term with unification variables, you can label the variables via a traversal. For example `f(X,Y,Y)`  becomes `f(V0, V1, V1)` traversing left to right. This particular strategy isn't stable and therefore is inefficient upon building a new term using this as a subterm, but it is conceptually ok.\n",
    "\n",
    "But when you start combining set-like things (Associative, commutative and idempotent) with variables, one gets stumped though. Procedures to name the variables and the procedure to sort the set are entangled. Which do we do first? \n",
    "\n",
    "One idea is to use a non-ground [term ordering](https://www.cs.unm.edu/~mccune/prover9/manual/2009-11A/term-order.html) to sort the sets. These non-ground term orderings are intrinsically partial though. Also they are way more complicated than anything we've discussed so far. This is more for dealing with substitution problems than alpha invariance problems. It is overkill.\n",
    "\n",
    "You can also replace variables with a single marker type `V` and use that term as a invariant. This is kind of the idea used in discrimination tries.\n",
    "\n",
    "But how do we actually achieve the canonization approach rather than fingerprinting?\n",
    "\n",
    "## Variables + AC ~ Graph Isomorphism ===> Search\n",
    "I was stumped for while on how to canonize clause-like things, coming up with this and that criteria on naming the variables and breaking ties.\n",
    "\n",
    "An important revelation is to note that this problem is no going to be solvable in general without search. It is basically a variation of [graph canonization](https://en.wikipedia.org/wiki/Graph_canonization), which solves [graph isomorphism](https://en.wikipedia.org/wiki/Graph_isomorphism), something which for which a polynomial time algorithm is unknown. Once we've given up on the problem being search free, things become clearer.\n",
    "\n",
    "Consider canonizing the set of terms `{f(X,X), f(X,Y)}`.\n",
    "\n",
    "We can take a step back from particular procedures and note that we are looking through the space of labellings of variables.\n",
    "`{f(v1,v1), f(v1,v0)}` or `{f(v0,v0), f(v0,v1)}` are the options here considering only vairables namings. In combination with list permutations this becomes `[f(v1,v1), f(v1,v0)]` or `[f(v0,v0), f(v0,v1)]` or `[f(v0,v1), f(v0,v0)]` or `[f(v1,v0), f(v1,v1)]`.\n",
    " \n",
    "Our procedures are trying to come up with some method to select one in particular.\n",
    "\n",
    "A declarative approach is to come up with a criteria for which labelling is best. How do we compare these different possibilities? \n",
    "\n",
    "Sorting is like saying that we like the lexicographically least among the lists. In our example, that would be `[f(v0,v0), f(v0,v1)]`. Boom. That's our canonical form.\n",
    "\n",
    "So that's the recipe:\n",
    "1. Describe the space of possible representations\n",
    "2. put some total ordering on it\n",
    "3. the minimum one is the canonical form.\n",
    "\n",
    "This is a search problem throughout the space of possible representations, which will be typically very large. When we look at a particular problem, we will see many optimizations, propagations, and pruning steps that are possible. Many of the symmetries will factor. We can use noticed invariants to prune the space. For simple problems, these observations will prune the space down into a polynomial time algorithm. \n",
    "\n",
    "In general though, it won't.\n"
   ]
  },
  {
   "cell_type": "markdown",
   "metadata": {},
   "source": [
    "## Big Dummy Graph Canonization\n",
    "\n",
    "Another revelation is that I don't have to pay attention to the rather group theoretically involved top-of-the-line graph canonization algorithms. I can just do a big dumb search. For small graphs, this works just fine.\n",
    "\n",
    "There are multiple reasonable variations on the definition of graph. There are also many representations of graphs possible on a computer.\n",
    "https://en.wikipedia.org/wiki/Graph_(abstract_data_type)\n",
    "\n",
    "For today, let us say that a graph is a set of edges and that edges are a set of two nodes."
   ]
  },
  {
   "cell_type": "code",
   "execution_count": 5,
   "metadata": {},
   "outputs": [
    {
     "data": {
      "text/plain": [
       "{frozenset({3, 4}), frozenset({1, 2})}"
      ]
     },
     "execution_count": 5,
     "metadata": {},
     "output_type": "execute_result"
    }
   ],
   "source": [
    "{frozenset([4,3]), frozenset([1,2])}"
   ]
  },
  {
   "cell_type": "markdown",
   "metadata": {},
   "source": [
    "We immediately are tempted to stores undirected edges as sorted tuples because `frozenset` is so annoying to type."
   ]
  },
  {
   "cell_type": "code",
   "execution_count": 6,
   "metadata": {},
   "outputs": [
    {
     "data": {
      "text/plain": [
       "[(3, 4), (1, 2)]"
      ]
     },
     "execution_count": 6,
     "metadata": {},
     "output_type": "execute_result"
    }
   ],
   "source": [
    "[(3,4), (1,2)]"
   ]
  },
  {
   "cell_type": "markdown",
   "metadata": {},
   "source": [
    "And of course, we should sort that list. Looks off as is."
   ]
  },
  {
   "cell_type": "code",
   "execution_count": 7,
   "metadata": {},
   "outputs": [
    {
     "data": {
      "text/plain": [
       "[(1, 2), (3, 4)]"
      ]
     },
     "execution_count": 7,
     "metadata": {},
     "output_type": "execute_result"
    }
   ],
   "source": [
    "[(1,2), (3,4)]"
   ]
  },
  {
   "cell_type": "markdown",
   "metadata": {},
   "source": [
    "But actually, unless we seriously have meaningful labels for the nodes, the numbers are meaningless. They are merely a necessary evil bookkeeping device. When I draw a graph on the page, I don't write the numbers.\n",
    "\n",
    "I can make some smart constructors that enforce this sorting"
   ]
  },
  {
   "cell_type": "code",
   "execution_count": 14,
   "metadata": {},
   "outputs": [
    {
     "data": {
      "text/plain": [
       "[(0, 1), (1, 1), (1, 2)]"
      ]
     },
     "execution_count": 14,
     "metadata": {},
     "output_type": "execute_result"
    }
   ],
   "source": [
    "def e(i,j):\n",
    "    return (i,j) if i < j else (j,i)\n",
    "def graph(edges):\n",
    "    # graph should be vertices 0-N\n",
    "    return list(sorted(set(edges))) # dedup and sort\n",
    "\n",
    "G = graph({e(2,1), e(1,0), e(1,1)})\n",
    "G"
   ]
  },
  {
   "cell_type": "markdown",
   "metadata": {},
   "source": [
    "All permutations of vertex labellings should be the same graph. We can define the way a permutation acts on a graph. Permutations are encoded as a list of where each vertex goes under the permutation."
   ]
  },
  {
   "cell_type": "code",
   "execution_count": 17,
   "metadata": {},
   "outputs": [],
   "source": [
    "# action of permutation on graph\n",
    "def act(perm,G):\n",
    "    return graph([e(perm[i],perm[j]) for i,j in G])\n",
    "\n",
    "assert act([0,1,2], G) == G # identity permutation\n",
    "assert act([1,0,2], G) == graph([e(2,0), e(0,1), e(0,0)]) # swap 0 and 1. [0 -> 1, 1 -> 0, 2 -> 2]"
   ]
  },
  {
   "cell_type": "markdown",
   "metadata": {},
   "source": [
    "Finally the brute force canonization routine is remarkably simple. We can use `itertools` to generate all permutations of the vertices, apply them all, and the take the minimum representation (lexicographically least sorted list of sorted tuples)"
   ]
  },
  {
   "cell_type": "code",
   "execution_count": 22,
   "metadata": {},
   "outputs": [
    {
     "data": {
      "text/plain": [
       "[(0, 0), (0, 1), (0, 2)]"
      ]
     },
     "execution_count": 22,
     "metadata": {},
     "output_type": "execute_result"
    }
   ],
   "source": [
    "import itertools\n",
    "def canon(G):\n",
    "    N = max(max(e) for e in G) + 1 # number of vertices\n",
    "    return min([act(perm,G) for perm in itertools.permutations(range(N))]) \n",
    "\n",
    "assert canon(G) == canon(act([0,1,2], G))\n",
    "canon(G)"
   ]
  },
  {
   "cell_type": "markdown",
   "metadata": {},
   "source": [
    "You can easily improve this brute force routine. Once we've selected our node 0, we should select node 1 out of it's neighbors. We should select something with a self edges first, etc. We should select things with many neighbors to be labelled low, etc.\n",
    "\n",
    "\n",
    "nauty https://pallini.di.uniroma1.it/ is one system that does efficient graph labelling. It prunes the search space in multiple ways using graph invariants.\n",
    "I'm not exactly sure the ordering it uses on graph labelings, but it does use something.\n",
    "\n",
    "For more see\n",
    "- https://cs.stackexchange.com/questions/14354/simple-graph-canonization-algorithm\n",
    "- https://cgm.cs.mcgill.ca/~breed/2015COMP362/canonicallabellingpaper.pdf McKay’s Canonical Graph Labeling Algorithm. Very useful down to earth review\n",
    "- https://arxiv.org/abs/1301.1493  Practical graph isomorphism, II"
   ]
  },
  {
   "cell_type": "code",
   "execution_count": 29,
   "metadata": {},
   "outputs": [
    {
     "name": "stdout",
     "output_type": "stream",
     "text": [
      "Graph(number_of_vertices=3, directed=False,\n",
      " adjacency_dict = {\n",
      "  0: [1],\n",
      "  1: [2],\n",
      " },\n",
      " vertex_coloring = [\n",
      " ],\n",
      ")\n",
      "([[2, 1, 0]], 2.0, 0, [0, 1, 0], 2)\n",
      "b'\\x00\\x00\\x00\\x00\\x00\\x00\\x00 \\x00\\x00\\x00\\x00\\x00\\x00\\x00 \\x00\\x00\\x00\\x00\\x00\\x00\\x00\\xc0'\n",
      "Graph(number_of_vertices=3, directed=False,\n",
      " adjacency_dict = {\n",
      "  0: [2],\n",
      "  1: [2],\n",
      "  2: [0, 1],\n",
      " },\n",
      " vertex_coloring = [\n",
      " ],\n",
      ")\n"
     ]
    }
   ],
   "source": [
    "import pynauty\n",
    "g = pynauty.Graph(3, directed=False)\n",
    "g.connect_vertex(0, [1])\n",
    "g.connect_vertex(1, [2])\n",
    "print(g)\n",
    "print(pynauty.autgrp(g)) #  (generators, grpsize1, grpsize2, orbits, numorbits)\n",
    "print(pynauty.certificate(g))\n",
    "print(pynauty.canon_graph(g))"
   ]
  },
  {
   "cell_type": "markdown",
   "metadata": {},
   "source": [
    "# Big Dumb Tensor Canonicalization\n",
    "\n",
    "A very similar thing is to canonicalize tensor monomials like $T_{ijk}R_{klmn}S_{ik}$.\n",
    "\n",
    "This is the same exact problem as canonicalization of resolution clauses or conjunctive queries. \n",
    "\n",
    "| Tensor  | Clause | Conjunctive Query  |\n",
    "|---------|--------|--------------------|\n",
    "| $T_{ijk}\\epsilon_{ij}$ | $p(X) \\lor q(X,Y)$ | $R(a,b) \\land R(b,c) \\land R(c,a)$ |\n",
    "| multiply| or       | and               |\n",
    "| index   | variable | variable          |\n",
    "\n",
    "The more involved tensor canonicalization algorithms https://arxiv.org/abs/1702.08114 also have some forbidding group theory in them. I especially expect tensor expressions to be relatively small, so this seems like overkill.\n",
    "\n",
    "We can represent a tensor expressions as a list of tuples, where the first field of the tuple is the name of the tensor symbol and the rest are the dummy indices represented by integers.\n",
    "\n",
    "$T_{ij}R_{jlk}T_{kl}$ becomes `[(\"T\", i,k), (\"R\", j,l,k), (\"T\", k,l)])`. \n",
    "\n",
    "It looks very similar to the above with a smart constructor removing the AC symmettry of the multiplication, defining a permutation action on the index names, and then canonizing via search. Because we put the tensor names first, it will be in sorted order by tensor name. This means we obviously don't have to brute search all permutations, but it is a nice one linear to do so. Other orderings may be fruitful for different reasons."
   ]
  },
  {
   "cell_type": "code",
   "execution_count": 28,
   "metadata": {},
   "outputs": [
    {
     "data": {
      "text/plain": [
       "[('R', 0, 1, 2), ('T', 2, 1), ('T', 3, 2)]"
      ]
     },
     "execution_count": 28,
     "metadata": {},
     "output_type": "execute_result"
    }
   ],
   "source": [
    "import itertools\n",
    "i,j,k,l = range(4)\n",
    "\n",
    "def texpr(ts):\n",
    "    return sorted(ts) # sorting removes AC redundancy of multiplication\n",
    "\n",
    "t = texpr([(\"T\", i,k), (\"R\", j,l,k), (\"T\", k,l)])\n",
    "\n",
    "def act(perm, T):\n",
    "    return texpr([(head,*[perm[a] for a in args]) for head,*args in T])\n",
    "\n",
    "assert act([0,1,2,3], t) == t\n",
    "\n",
    "def canon(T):\n",
    "    N = max(max(args) for head,*args in t) + 1\n",
    "    return min([ act(p,t) for p in itertools.permutations(range(N))])\n",
    "\n",
    "assert canon(act([0,3,2,1], t)) == canon(t)\n",
    "canon(t)\n"
   ]
  },
  {
   "cell_type": "markdown",
   "metadata": {},
   "source": [
    "External unsummed over indices can be dealt with by representing them using some other marker, like a string or something, that is not acted upon by the permutations.\n",
    "\n",
    "We can embed graph canonization into this problem by making a two index \"tensor\" called edge. The expression then becomes the same thing as our graph edge set. You may want to pet in both permutations of the edge tensor.\n",
    "`[(\"edge\", i, j), (\"edge\", j, i), (\"edge\", k, l), (\"edge\", l, k)]` is the same as the graph `[(i,j), (j,i), (k,l), (l,k)]`.\n",
    "\n",
    "We can embed this problem into labelled/colored graph canonization.\n",
    "\n",
    "You can also embed colored graph canonization into uncolored by replacing the colors with edges to unique little graph clusters. That borders of ridiculous though.\n",
    "\n",
    "![](/assets/tensor_graph.png)"
   ]
  },
  {
   "cell_type": "markdown",
   "metadata": {},
   "source": [
    "# Bits and Bobbles\n",
    "\n",
    "A ground knuth bendix baking this stuff in sounds neato. Useful for a glenside variant?\n",
    "\n",
    "\n",
    "There is a no-go criterion:\n",
    "\n",
    "If you can embed graph isomorphism/canonization into your problem, you will not find a (generally) search free canonization procedure.\n",
    "\n",
    "Opposed to this is the go-ahead criterion:\n",
    "\n",
    "- Graph isomorphism isn't that bad actually.\n",
    "- A clever procedure may avoid search in 99% of practical cases.\n",
    "- Your problem is probably pretty small and not even that unreasonable to brute force.\n",
    "\n",
    "SAT solver embedding. see below.\n",
    "\n",
    "Sets (ACI) + lambdas actually isn't that bad. The binders save you. de bruijn does not care that it has to reach up through the sets to find the binder. From the path perspective, it doesn't matter.\n",
    "It's AC + implicit binders which is hard to canonize.\n",
    "It is that https://en.wikipedia.org/wiki/Einstein_notation makes the order of the binder implicit and non existant. But that reflects the interchange law of the implicit summation symbols. CQs and clauses often use unification variables with implicit binders, which have the same issue.\n",
    "\n",
    "Caleb was the one who first twigged me onto graph canonization frOM his graph hashing work https://arxiv.org/pdf/2002.06653\n",
    "\n",
    "\n",
    "Tensor symmettries. Two sided action by groups. permute labels vs permuting the slots.\n",
    "\n",
    "Slotted egraphs\n",
    "\n",
    "Semiring https://arxiv.org/abs/2105.14435 Convergence of Datalog over (Pre-) Semirings\n",
    "\n",
    "There is not one mathematical definition that deserves ownership to the intuitive pictorial concept of a graph.\n",
    "\n",
    "Multigraphs, directed graphs, hypergraphs, nodes with labelled ports, single vs multi input/outputs, labelled nodes, labelled edges.\n",
    "An AST is a single output port, multi-ordered-input port directed graph. \n",
    "The \"thing\", if that is valid concept, is actually the representions modulo these arbitrary choices\n",
    " Ok, we can label the variables by number of appearances first (an invariant). We can sort by head symbols first maybe. This may not label them all though. Well, we can sort what we've got. `{f(X,Z), f(Z,Y)}`\n",
    "\n",
    "\n",
    "We can embed this problem into graph isomorphism. That doesn't guarantee its hard since embedding easy problems into hard ones doesn't constitute a free lunch.\n",
    "\n",
    "\n",
    "Even if graph canonization is polynomial time, the algorithm will definitely be complicated. A simple algorithm would have already been found.\n",
    "\n",
    "\n",
    "When you represent them on paper or in a computer, there are a bunch of arbitrary choices of variables names and orderings. Seemingly, it is difficult to naturally embed them into graphite on 2d paper space or into a linear chunk of memory without making these arbitrary choices. \n",
    "\n",
    "You can call these arbitrary choices symmetries of the representation. When you put a graph in the computer, you use something to label vertices, like an integer id, even if the object you're talking about has no intrinsic ids. Any permutation of these node labels still represents the same combinatorial graph in some sense.\n",
    "\n",
    "When you have a set, you can order in arbitrarily into a list. Permuting the elements of the list represents the same set. Different red-black trees or AVL trees resulting from different input orderings also represent the same set somehow.\n",
    "\n",
    "When you have variables, you can rename them. $\\int f(x) dx = \\int f(y) dy$ or $\\sum_i a_i = \\sum_j a_j$ or $\\lambda x. x = \\lambda y. y$. This can be modelled as a permutation of names.\n",
    "\n",
    "## Where's my Computational Group Theory?\n",
    "\n",
    "I know computational group theory is what the kids crave. It's a little beside the point. I think it helps prune the search space so it is nice in that regard. If your aim is the automorphism group, rather than canonization persay, then of course ocmputational gorup theory has a bearing\n",
    "\n",
    "## brute force\n",
    "\n",
    "You can turn a graph of n vertices into a n^2/2 string by listing out all the possible edges\n",
    "This is the same thing as `{{v1,v2}}` representation.\n",
    "\n",
    "A key point here is that the representation is really useful."
   ]
  },
  {
   "cell_type": "markdown",
   "metadata": {},
   "source": [
    "# tensor canon\n",
    "\n",
    "tensor canonization is a topic. I stumbled on it browsing through sympy\n",
    "https://docs.sympy.org/latest/modules/combinatorics/tensor_can.html\n",
    "\n",
    "https://docs.sympy.org/latest/modules/tensor/tensor.html#sympy.tensor.tensor.TensAdd.canon_bp\n",
    "\n"
   ]
  },
  {
   "cell_type": "code",
   "execution_count": null,
   "metadata": {},
   "outputs": [],
   "source": [
    "from sympy.tensor.tensor import TensorIndexType, tensor_indices, TensorHead, TensorManager, TensorSymmetry\n",
    "IType = TensorIndexType('IType')\n",
    "i,j,k,l = tensor_indices('i j k l', IType)\n",
    "A = TensorHead('A', [IType, IType])\n",
    "A\n",
    "G = TensorHead('G', [IType], TensorSymmetry.no_symmetry(1), 'Gcomm')\n",
    "G(j)\n",
    "t = A(i,j)*A(-j,k)*A(-k,l)\n",
    "t2 = A(-k,j)*A(i,k)*A(-j,l)\n",
    "t.canon_bp() == t2.canon_bp()"
   ]
  },
  {
   "cell_type": "markdown",
   "metadata": {},
   "source": [
    "A symmettric tensor has a multiset of indices. This is a graph? multigraph? hypergraph?\n",
    "```\n",
    "def act(p, t):\n",
    "    return sorted([(head,*sorted([p[a] for a in args])) for head,*args in t])\n",
    "```\n",
    "\n",
    "\n",
    "foo(g(i), k(j), l(i)) -> (\"foo\", (\"g\", i), (\"k\", j), (\"l\", i)). Permutation action + min. Brute force search is silly because we will just get the dpeth first relabelling ordering.\n",
    "\n",
    "But this is vistiation lex ordering.\n",
    "\n",
    "What about KBO, LPO etc\n",
    "KBO - they will all be the same size. Unless we weight the indice choice. This could make sense. We want fewer repeated indices. They represent coupling.\n",
    "Order by number of appareances. Tie break by recursion. https://www.philipzucker.com/ground_kbo/ This is not substitution stable.\n",
    "Can be lazy about pushing permutations down once determined.\n",
    "\n",
    "xACT.\n",
    "- https://josmar493.dreamhosters.com/  mathemtica analog?\n",
    "- https://www.youtube.com/watch?v=qOaJxzezU8w&list=PLdIcYTEZ4S8TSEk7YmJMvyECtF-KA1SQ2&ab_channel=WolframR%26D web series 20 year of \n",
    "\n",
    "### cadbra\n",
    "- https://cadabra.science/\n",
    "- https://docs.sympy.org/latest/modules/combinatorics/tensor_can.html\n",
    "\"\n",
    "The Butler-Portugal algorithm [3] is an efficient algorithm to put tensors in canonical form, solving the above problem.\n",
    "\n",
    "Portugal observed that a tensor can be represented by a permutation, and that the class of tensors equivalent to it under slot and dummy symmetries is equivalent to the double coset \n",
    " (Note: in this documentation we use the conventions for multiplication of permutations p, q with (p*q)(i) = p[q[i]] which is opposite to the one used in the Permutation class)\n",
    " \"\n",
    "- https://arxiv.org/abs/1702.08114 Faster Tensor Canonicalization\n",
    "- https://www.sciencedirect.com/science/article/abs/pii/S001046550800221X xPerm: fast index canonicalization for tensor computer algebra\n",
    "\n",
    "- https://pure.mpg.de/rest/items/item_1833414/component/file_2047302/content  xTras: A field-theory inspired xAct package for mathematica\n",
    "- https://europepmc.org/article/pmc/pmc6105178  Computer algebra in gravity research. This paper rules\n",
    "redberry is a tensor CAS?\n",
    "- https://durham-repository.worktribe.com/OutputFile/1927714 Hiding canonicalisation in tensor computer algebra\n",
    "- https://etheses.dur.ac.uk/14811/1/thesis.pdf?DDD21+  thesis version\n",
    "\n",
    "cadabra peeters\n",
    "\n",
    "- https://www.frontiersin.org/journals/astronomy-and-space-sciences/articles/10.3389/fspas.2020.00058/full intropductin to numerical relativity\n",
    "- https://github.com/wojciechczaja/GraviPy Tensor Calculus Package for General Relativity based on SymPy (python library for symbolic mathematics).\n",
    "\n",
    "`sudo apt install cadabra2`\n",
    "\n",
    "young projectors\n",
    "\n",
    "HJe uses latex `$` asa quote for metaprogramming. Interesting."
   ]
  },
  {
   "cell_type": "code",
   "execution_count": null,
   "metadata": {},
   "outputs": [],
   "source": [
    "#https://cadabra.science/static/cadabra_in_ipython.nb.html\n",
    "from cadabra2 import *\n",
    "from IPython.display import display, Math, Latex\n",
    "ex=Ex(r\"A_{m n} B^{m n}\") # latex expressions\n",
    "display(Math(str(ex)))\n",
    "\n",
    "# assign properties to symbols\n",
    "Symmetric(Ex(r\"A_{m n}\"))\n",
    "AntiSymmetric(Ex(r\"B_{m n\"))\n",
    "\n",
    "display(Math(str(canonicalise(ex))))\n",
    "\n",
    "Indices(Ex(r\"{m,n,p,q,r,s,t}\"))\n",
    "ex=Ex(r\"A_{m n} B^{m p} C_{p q}\")\n",
    "display(Math(str(substitute(ex, Ex(r\"A_{m n} -> D_{m q} D^{q}_{n}\")))))\n",
    "display(Math(str(substitute(ex, Ex(r\"A_{k n} -> D_{k q} D^{q}_{n}\"))))) # so it looks like it is matching modulo names"
   ]
  },
  {
   "cell_type": "markdown",
   "metadata": {},
   "source": [
    "## Automorphism Group\n",
    "Getting the automorphism group. We can just save the permutations that map the graph representation back into the original graph representation.\n",
    "This is an enumeration of the automorphism group.\n",
    "We probably want to save the group in some kind of factored form though.\n",
    "Also, we can use this info to prune the search space as we go.\n",
    " "
   ]
  },
  {
   "cell_type": "code",
   "execution_count": null,
   "metadata": {},
   "outputs": [],
   "source": [
    "G = sorted([(2,1), (1,0)])\n",
    "import itertools\n",
    "def perm_graph(perm, G): # a permutation acting on a labelled graph\n",
    "    return tuple(sorted([ tuple(sorted([p[i], p[j]])) for (i,j) in G ]))\n",
    "print(G)\n",
    "G = perm_graph(range(3), G)\n",
    "print(G)\n",
    "# explicitly list the automorphisms of a graph\n",
    "def canon(G, N):\n",
    "    autogrp = []\n",
    "    min_graph = G\n",
    "    print(G)\n",
    "    for p in itertools.permutations(range(N)):\n",
    "        G1 = perm_graph(p, G)\n",
    "        print(p,G1)\n",
    "        if G1 == G:\n",
    "            autogrp.append(p)\n",
    "        elif G1 < min_graph:\n",
    "            min_graph = G1\n",
    "    return autogrp, min_graph\n",
    "canon(G, 3)"
   ]
  },
  {
   "cell_type": "code",
   "execution_count": null,
   "metadata": {},
   "outputs": [],
   "source": [
    "# a version where you save the best permutation\n",
    "def canon(T):\n",
    "    N = max(max(args) in head,*args in t) + 1\n",
    "    return min([ (p, act(p,t)) for p in itertools.permutations(range(N))], key=lambda x: x[1])"
   ]
  },
  {
   "cell_type": "markdown",
   "metadata": {},
   "source": [
    "Ok, so there is some way of doing that. And maybe this is an example where SAT solvers can really shine. (They have more symmettry breaking in them?)\n",
    "\n",
    "\n",
    "Clauses as graphs. ordered resolution\n",
    "Queries as graphs\n",
    "Tensor Expressions as graphs\n",
    "\n",
    "Breaking up the permutations via features\n",
    "\n",
    "Can we use tree decomposition to make a natural graph canonization that elegant moves on from tree like problems. This is like Caleb's thing.\n",
    "Dynamic programming approach to canonical ordering.\n",
    "\n",
    "brute force approach to searching all tree decompositions? Exact solvers must be doing this in some sense.\n",
    "\n",
    "It'd be nice to not a priori fix the ordering. If some particular graph has a particular unique feature, obviously we want to use that.\n",
    "\n",
    "{foo(A,B), foo(B,C)}\n",
    "[(\"foo\", p[1], p[2]), (\"foo\", p[2], p[3])]\n",
    "We could choose \"foo\" tags to come later but that'd be crazy (?)\n",
    "\n",
    "Group union find for labelled graphs being interconnected to each other.\n",
    "\n",
    "\n",
    "Refinement: order coarsely by colors first.\n",
    "\n",
    "A pile of ground tensor equations would work.\n",
    "G --> (P, canon(G))\n",
    "\n",
    "This is a canonical form of a labelled graph. It's a normalizer. Is this the group union find?\n",
    "\n",
    "\n",
    "\n",
    "TijKij = Rijkk\n",
    "\n",
    "tensor instruction selection\n",
    "\n",
    "\n",
    "true global variables are \"observed\". They aren't known distinct though.\n",
    "\n",
    "\n",
    "\n",
    "\n",
    "seress permutation group algorithms"
   ]
  },
  {
   "cell_type": "markdown",
   "metadata": {},
   "source": [
    "## Sat solving\n",
    "\n",
    "Matrix binary adjancecy matrix.\n",
    "\"Symbolically execute\" the comparison routine\n",
    "Branch and bound search for minimum ordering.\n",
    "Permutations can be encoded as a binmary matrix with exactly one true per row and column\n",
    "min_P P^T A P\n",
    "https://en.wikipedia.org/wiki/Permutation_matrix\n",
    "\n",
    "symettry breaking for SAT uses nauty\n",
    "https://automorphisms.org/\n",
    "https://arxiv.org/pdf/2406.13557 satsuma Structure-based Symmetry\n",
    "Breaking in SAT\n",
    "\n",
    "Using Linear programming relaxation of permutation matrix constraint is a classic thing. I wonder how that'd do.\n",
    "\n",
    "\n",
    "I would be curious to know how kissat compares to nauty\n",
    "presumably it gets smoked\n",
    "nauty is custom tuned.\n",
    "\n",
    "SAT is useful though. Embedding into nauty's problem is annoying and confusing.\n"
   ]
  },
  {
   "cell_type": "code",
   "execution_count": null,
   "metadata": {},
   "outputs": [],
   "source": [
    "def lt(G1,G2):\n",
    "    [G1[i,j] and not G2[i,j] for i in len(G1) for j in len(G2)]\n",
    "\n",
    "# recursive form of lex comparison\n",
    "# turn if into If. i and j are static.\n",
    "def lt(G1,G2,i,j):\n",
    "    if i == len(G1) and j == len(G2):\n",
    "        return False\n",
    "    \n",
    "    if G1[i,j] and not G2[i,j]:\n",
    "        return True\n",
    "    elif not G1[i,j] and G2[i,j]:\n",
    "        return False\n",
    "    else:\n",
    "        if i+1 == len(G1):\n",
    "            return lt(G1,G2,0,j+1)\n",
    "        else:\n",
    "            return lt(G1,G2,i+1, j)\n",
    "\n",
    "# or bottom up loop form\n",
    "def lt(G1,G2):\n",
    "    acc = False\n",
    "    for i in reversed(range(len(G1))):\n",
    "        for j in reversed(len(G1)):\n",
    "            if G1[i][j] == G2[i][j]:\n",
    "                acc = acc\n",
    "            elif G[i,j] and not G2[i,j]:\n",
    "                return \n",
    "            if not G1[i][j] and G2[i][j]:\n",
    "                return True\n",
    "    \n",
    "def lt(perm,G2,N):\n",
    "    acc = BoolVal(False)\n",
    "    for i in reversed(range(N)):\n",
    "        for j in reversed(range(N)):\n",
    "            t = G1\n",
    "            acc = If(\n",
    "                t[i,j] == G2[i,j],\n",
    "                acc,\n",
    "                If(\n",
    "                    And(Not(t[i,j]), G2[i,j]),\n",
    "                    BoolVal(True),\n",
    "                    acc\n",
    "                )\n",
    "            )\n",
    "            if G1(perm(i),perm(j)) == G2(i,j):\n",
    "                acc = acc\n",
    "            elif G[i,j] and not G2[i,j]:\n",
    "                return \n",
    "            if not G1[i][j] and G2[i][j]:\n",
    "                return True\n",
    "\n",
    "def to_matrix(G):\n",
    "    mat = [[False]*len(G)] * len(G)\n",
    "    for (i,j) in G:\n",
    "        mat[i][j] = True\n",
    "        mat[j][i] = True\n",
    "    return mat\n",
    "\n",
    "import z3\n",
    "\n",
    "\n",
    "\n",
    "def compare_graph(G1,G2):\n",
    "\n",
    "def canon(G):\n",
    "    s = z3.Solver()\n",
    "    Gsym = Function(\"G\", IntSort(), IntSort(), BoolSort())\n",
    "    Function(\"perm\", IntSort(), IntSort())\n",
    "    for i in len(G):\n",
    "        for j in range(i):\n",
    "            s.add(perm(i) != perm(j)) # must be permutation\n",
    "    for i,j in G:\n",
    "        s.add(Gsym(i,j) == True) # \"need\" to make graph symbolic because perm is symbilic.\n",
    "    perm = Function(\"perm\", IntSort(), IntSort())\n",
    "    def lt(perm,G):\n",
    "        acc = BoolVal(False) # all equal\n",
    "        for i in range(len(G)):\n",
    "            for j in range(i):\n",
    "                acc = If(G[perm[i], perm[j]] < G[i,j], True, acc)\n",
    "                    \n",
    "    \n",
    "    while True:\n",
    "        m = s.model()\n",
    "        s.add(compare_graph(G, m))\n",
    "        if s.check() == unsat:\n",
    "            return G\n"
   ]
  }
 ],
 "metadata": {
  "kernelspec": {
   "display_name": "Python 3",
   "language": "python",
   "name": "python3"
  },
  "language_info": {
   "codemirror_mode": {
    "name": "ipython",
    "version": 3
   },
   "file_extension": ".py",
   "mimetype": "text/x-python",
   "name": "python",
   "nbconvert_exporter": "python",
   "pygments_lexer": "ipython3",
   "version": "3.10.12"
  }
 },
 "nbformat": 4,
 "nbformat_minor": 2
}
