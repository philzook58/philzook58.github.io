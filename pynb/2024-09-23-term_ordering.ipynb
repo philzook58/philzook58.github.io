{
 "cells": [
  {
   "cell_type": "markdown",
   "metadata": {},
   "source": [
    "---\n",
    "title: Term Ordering Etudes\n",
    "date : 2024-09-23\n",
    "---\n",
    "\n",
    "Term orderings are a key concept in term rewriting and equational reasoning. Equations are my preferred form of mathematics. In particular, well founded term orders, meaning terminating, term orderings are used to prove termination and orient equations into terminating rewrite systems during completion. This orientation enables simplification and subsumption of your equational set, which leads to be efficiency gains over naive equational search.\n",
    "\n",
    "I've found the definitions of term orderings to be so dense as to be inscrutable.\n",
    "\n",
    "But I've soaked on it a while and have some nuggets of understanding.\n",
    "\n",
    "You can fiddle around with the post here https://colab.research.google.com/github/philzook58/philzook58.github.io/blob/master/pynb/2024-09-23-term_ordering.ipynb\n",
    "\n",
    "# Term Orderings with Variables Have to Be Partial\n",
    "\n",
    "A lot of the confusion comes from having to deal with variables in your terms.\n",
    "\n",
    "Variable are really useful though. They achieve pattern matching. Pattern matching is too dang useful to avoid.\n",
    "\n",
    "For ground terms (no variables), things are more straightforward https://www.philipzucker.com/ground_kbo/ Size of terms more or less works fine.\n",
    "\n",
    "Similarly strings are more straightforward. Order by size, then tie break lexicographically. This is called shortlex https://www.philipzucker.com/string_knuth/ . Via flattening, ground terms are a subproblem of strings. This is not the case if your term language includes pattern variables.\n",
    "\n",
    "It is useful to consider a demon trying to subvert your picked order. Variables are intended to stand in for some arbitrary other term. If the demon can pick a term to instantiate your variable that switches your opinion on the ordering, the demon has won.\n",
    "\n",
    "That is why `x = y` can never be ordered (at least if you have any opinions about concrete terms). If I say `x > y` the demon will instantiate `y` to something awful like `f(f(f(f(f(f(f(f(f(a)))))))`and `x` to something nice like `a`.\n",
    "\n",
    "# Homeomorphic Embedding\n",
    "\n",
    "The homeomorphic embedding is the weakest (non strict) simplification ordering where a term is larger than any of it's subterms (the subterm property). The some degree it is defined as taking the subterm property and then making the order closed under instantiation of variables.\n",
    "\n",
    "When you shrink a term by fusing out some inner nodes, it gets smaller in some sense. You can't keep cutting and fusing nodes forever. You'll eventually be left with a leaf and be stuck.\n",
    "\n",
    "The relationship between a fused out tree and the original is the homeomorphic embedding.\n",
    "\n",
    "The definition given in Term Rewriting and All That (TRAAT) can be read as an algorithm for finding an embedding. This algorithm is a straightforward recursive search. Your current pair is either a pair that are identified or a pair for which the one side was fused away and replaced with one of it's children.\n",
    "\n",
    "![](/assets/traat/homeo.png)\n"
   ]
  },
  {
   "cell_type": "code",
   "execution_count": null,
   "metadata": {},
   "outputs": [],
   "source": [
    "! pip install z3-solver # I'm just using z3 as a handy ast, nothing more."
   ]
  },
  {
   "cell_type": "code",
   "execution_count": 3,
   "metadata": {},
   "outputs": [],
   "source": [
    "from z3 import *\n",
    "\n",
    "# definition traat 5.4.2\n",
    "def homeo(s,t):\n",
    "    if is_var(s) and s.eq(t):\n",
    "        return True\n",
    "    elif is_app(s) and is_app(t) and s.decl() == t.decl():\n",
    "\n",
    "        return all(homeo(s.arg(i),t.arg(i)) for i in range(s.num_args()))\n",
    "    elif is_app(s) and any(homeo(s.arg(i), t) for i in range(s.num_args())):\n",
    "        return True\n",
    "    else:\n",
    "        return False\n",
    "\n",
    "v0,v1,v2 = Var(0, IntSort()), Var(1, IntSort()), Var(2, IntSort())\n",
    "assert homeo(Int('x'), Int('x'))\n",
    "assert not homeo(Int('x'), Int('y'))\n",
    "assert homeo(Int('x')+Int('y'), Int('x')+Int('y'))\n",
    "assert not homeo(Int('x')+Int('y'), Int('y')+Int('x'))\n",
    "assert homeo(v0,v0)\n",
    "assert not homeo(v0,v1)\n",
    "assert homeo(v0 + 1, v0)\n",
    "assert not homeo(v0, v0 + 1)"
   ]
  },
  {
   "cell_type": "markdown",
   "metadata": {},
   "source": [
    "# Lexicographic Path Ordering\n",
    "\n",
    "If you asked me to making some ordering for terms, I would say, yeah, just do it lexicographically. In python, if you implement your terms as tuples, this happens automatically"
   ]
  },
  {
   "cell_type": "code",
   "execution_count": 9,
   "metadata": {},
   "outputs": [],
   "source": [
    "def naive_lex(t,s):\n",
    "    if is_app(t) and is_app(s) and t.decl() == s.decl():\n",
    "        for i in range(t.num_args()):\n",
    "            if naive_lex(t.arg(i), s.arg(i)):\n",
    "                return True\n",
    "            if naive_lex(s.arg(i), t.arg(i)):\n",
    "                return False\n",
    "        return False\n",
    "    else:\n",
    "        dt, ds = t.decl(), s.decl()\n",
    "        return (dt.name(), dt.get_id()) > (s.decl().name(), ds.get_id())\n",
    "    "
   ]
  },
  {
   "cell_type": "markdown",
   "metadata": {},
   "source": [
    "Cody points out this counterexample to the lexicographic ordering. The naive lex ordering says `g(p) > g(g(p))`."
   ]
  },
  {
   "cell_type": "code",
   "execution_count": 20,
   "metadata": {},
   "outputs": [
    {
     "data": {
      "text/plain": [
       "True"
      ]
     },
     "execution_count": 20,
     "metadata": {},
     "output_type": "execute_result"
    }
   ],
   "source": [
    "g = Function('g', IntSort(), IntSort())\n",
    "p = Int('p')\n",
    "naive_lex(g(p),  g(g(p)))"
   ]
  },
  {
   "cell_type": "markdown",
   "metadata": {},
   "source": [
    "But if we run this system, we obviously have an infinite chain of rewrites."
   ]
  },
  {
   "cell_type": "code",
   "execution_count": 19,
   "metadata": {},
   "outputs": [
    {
     "name": "stdout",
     "output_type": "stream",
     "text": [
      "g(g(p))\n",
      "g(g(g(p)))\n",
      "g(g(g(g(p))))\n",
      "g(g(g(g(g(p)))))\n",
      "g(g(g(g(g(g(p))))))\n",
      "g(g(g(g(g(g(g(p)))))))\n",
      "g(g(g(g(g(g(g(g(p))))))))\n",
      "g(g(g(g(g(g(g(g(g(p)))))))))\n",
      "g(g(g(g(g(g(g(g(g(g(p))))))))))\n",
      "g(g(g(g(g(g(g(g(g(g(g(p)))))))))))\n"
     ]
    }
   ],
   "source": [
    "t = g(p)\n",
    "for i in range(10):\n",
    "    t = z3.substitute(t, (g(p), g(g(p))))\n",
    "    print(t)"
   ]
  },
  {
   "cell_type": "markdown",
   "metadata": {},
   "source": [
    "It can be fixed up though. The exact leap of logic here that makes the definition obvious eludes me. You can take pieces of the homeomorphic embedding and mix them in with the pieces of a naive lexicographic ordering.\n",
    "\n",
    "There is anm intuitive sense in which we want to push bad symbols down and good symbols up. Cody has pointed out an intuition with respect to functional programming definitions. We have an order in which we define our functions in a program. We can recursively call ourselves with complex arguments, but the arguments should involve simpler stuff, and the result of the recursive call should feed into simpler functions. More examples later.\n",
    "\n",
    "\n",
    "![](/assets/traat/lpo.png)"
   ]
  },
  {
   "cell_type": "code",
   "execution_count": 26,
   "metadata": {},
   "outputs": [],
   "source": [
    "def mem(t,s):\n",
    "    if t.eq(s):\n",
    "        return True\n",
    "    elif is_app(s):\n",
    "        return any(mem(t,si) for si in s.children())\n",
    "    else:\n",
    "        return False\n",
    "\n",
    "def lpo(s,t):\n",
    "    if s.eq(t): # fast track for equality\n",
    "        return False\n",
    "    elif is_var(t):\n",
    "        return mem(t,s) #lpo1\n",
    "    elif is_var(s):\n",
    "        return False\n",
    "    elif is_app(s):\n",
    "        f, g = s.decl(), t.decl()\n",
    "        if any(si.eq(t) or lpo(si,t) for si in s.children()): #lpo2a\n",
    "            return True\n",
    "        if all(lpo(s,ti) for ti in t.children()): # we lift this out of lop2c and lpp2b\n",
    "            # This subpiece looks similar to naive_lex\n",
    "            if f == g: #lpo2c\n",
    "                for si,ti in zip(s.children(),t.children()):\n",
    "                    if si.eq(ti):\n",
    "                        continue\n",
    "                    elif lpo(si,ti):\n",
    "                        return True\n",
    "                    else:\n",
    "                        return False\n",
    "                raise Exception(\"Should be unreachable if s == t\", s,t)\n",
    "            elif (f.name(), f.get_id()) > (g.name(), g.get_id()): # lpo2b. tie break equal names but idfferent sorts on unique id.\n",
    "                return True\n",
    "            else:\n",
    "                return False\n",
    "        else:\n",
    "            return False\n",
    "    else:\n",
    "        raise Exception(\"Unexpected case lpo\", s,t)\n",
    "x,y,z,e = Ints('x y z e')\n",
    "f = Function(\"f\", IntSort(), IntSort(), IntSort())\n",
    "i = Function(\"i\", IntSort(), IntSort())\n",
    "log = False\n",
    "\n",
    "# A bunch of examples from TRAAT\n",
    "assert not lpo(Int('x'), Int('y'))\n",
    "assert lpo(Int(\"y\"), Int(\"x\"))\n",
    "assert not lpo(v0, x)\n",
    "assert not lpo(x, v0)\n",
    "assert lpo(x + y, x)\n",
    "assert lpo(f(v0, e), v0)\n",
    "assert lpo(i(e), e)\n",
    "assert lpo(i(f(v0,v1)), f(i(v1),i(v0)))\n",
    "assert lpo(f(f(v0, v1), v2), f(v0, f(v1, v2)))\n",
    "\n",
    "\n",
    "# checking anti symmettry\n",
    "assert not lpo(x, x + y)\n",
    "assert not lpo(v0, f(v0, e))\n",
    "assert not lpo(e, i(e))\n",
    "assert not lpo(f(i(v1),i(v0)), i(f(v0,v1)))\n",
    "assert not lpo(f(v0, f(v1, v2)), f(f(v0, v1), v2))\n",
    "assert not lpo(f(v0, f(v1, v2)), f(f(v0, v1), v2))\n"
   ]
  },
  {
   "cell_type": "markdown",
   "metadata": {},
   "source": [
    "We can use LPO to determine that the typical recursive definitions of addition and multiplication are terminating."
   ]
  },
  {
   "cell_type": "code",
   "execution_count": 42,
   "metadata": {},
   "outputs": [
    {
     "name": "stdout",
     "output_type": "stream",
     "text": [
      "b_plus(0, Var(0))\t>_lpo\tVar(0) : True\n",
      "b_plus(a_succ(Var(0)), Var(1))\t>_lpo\ta_succ(b_plus(Var(0), Var(1))) : True\n",
      "c_mul(a_succ(Var(0)), Var(1))\t>_lpo\tb_plus(c_mul(Var(0), Var(1)), Var(1)) : True\n"
     ]
    }
   ],
   "source": [
    "# prefix with letters to give ordering  a_succ < b_plus < c_mul\n",
    "succ = z3.Function(\"a_succ\", IntSort(), IntSort())\n",
    "plus = z3.Function(\"b_plus\", IntSort(), IntSort(), IntSort())\n",
    "mul = z3.Function(\"c_mul\", IntSort(), IntSort(), IntSort())\n",
    "\n",
    "rules = [\n",
    "    plus(0,v0) == v0,\n",
    "    plus(succ(v0), v1) == succ(plus(v0, v1)),\n",
    "    mul(succ(v0), v1) == plus(mul(v0, v1), v1),\n",
    "]\n",
    "\n",
    "def check_lpo_rules(rules):\n",
    "    for rule in rules:\n",
    "        lhs,rhs = rule.arg(0), rule.arg(1)\n",
    "        print(f\"{lhs}\\t>_lpo\\t{rhs} : {lpo(lhs,rhs)}\")\n",
    "check_lpo_rules(rules)"
   ]
  },
  {
   "cell_type": "markdown",
   "metadata": {},
   "source": [
    "Or even that the ackermann function https://en.wikipedia.org/wiki/Ackermann_function is terminating."
   ]
  },
  {
   "cell_type": "code",
   "execution_count": 44,
   "metadata": {},
   "outputs": [
    {
     "name": "stdout",
     "output_type": "stream",
     "text": [
      "d_ack(0, Var(0))\t>_lpo\ta_succ(Var(0)) : True\n",
      "d_ack(a_succ(Var(0)), 0)\t>_lpo\td_ack(Var(0), 1) : True\n",
      "d_ack(a_succ(Var(0)), a_succ(Var(1)))\t>_lpo\td_ack(Var(0), d_ack(a_succ(Var(0)), Var(1))) : True\n"
     ]
    }
   ],
   "source": [
    "ack = z3.Function(\"d_ack\", IntSort(), IntSort(), IntSort())\n",
    "rules = [\n",
    "    ack(0,v0) == succ(v0),\n",
    "    ack(succ(v0), 0) == ack(v0, 1),\n",
    "    ack(succ(v0), succ(v1)) == ack(v0, ack(succ(v0), v1)),\n",
    "]\n",
    "check_lpo_rules(rules)"
   ]
  },
  {
   "cell_type": "markdown",
   "metadata": {},
   "source": [
    "Pushing all the associations to the right should obviously terminate. LPO is sufficient to show this. This is despite associativity being a unorientable rule from a naive size perspective."
   ]
  },
  {
   "cell_type": "code",
   "execution_count": 48,
   "metadata": {},
   "outputs": [
    {
     "name": "stdout",
     "output_type": "stream",
     "text": [
      "b_plus(b_plus(Var(0), Var(1)), Var(2))\t>_lpo\tb_plus(Var(0), b_plus(Var(1), Var(2))) : True\n"
     ]
    }
   ],
   "source": [
    "rules = [plus(plus(v0, v1), v2) == plus(v0, plus(v1, v2))]\n",
    "check_lpo_rules(rules)"
   ]
  },
  {
   "cell_type": "markdown",
   "metadata": {},
   "source": [
    "Distributivity (FOILing out) obviously intuitively has to eventually finish. This is despite it making the term bigger and duplicating `v0`. It is making progress by pushing `mul` underneath `plus`"
   ]
  },
  {
   "cell_type": "code",
   "execution_count": 50,
   "metadata": {},
   "outputs": [
    {
     "name": "stdout",
     "output_type": "stream",
     "text": [
      "c_mul(Var(0), b_plus(Var(1), Var(2)))\t>_lpo\tb_plus(c_mul(Var(0), Var(1)), c_mul(Var(0), Var(2))) : True\n"
     ]
    }
   ],
   "source": [
    "rules = [mul(v0, plus(v1, v2)) == plus(mul(v0, v1), mul(v0, v2))]\n",
    "check_lpo_rules(rules)"
   ]
  },
  {
   "cell_type": "markdown",
   "metadata": {},
   "source": [
    "There are also some rewriting algorithms for normalizing boolean expressions. For example disjunctive normal form. Basically we are sorting the order of `or`, `and` and `not` in the terms."
   ]
  },
  {
   "cell_type": "code",
   "execution_count": 58,
   "metadata": {},
   "outputs": [
    {
     "name": "stdout",
     "output_type": "stream",
     "text": [
      "c_neg(a_or(Var(0), Var(1)))\t>_lpo\tb_and(c_neg(Var(0)), c_neg(Var(1))) : True\n",
      "c_neg(b_and(Var(0), Var(1)))\t>_lpo\ta_or(c_neg(Var(0)), c_neg(Var(1))) : True\n",
      "b_and(Var(0), a_or(Var(1), Var(2)))\t>_lpo\ta_or(b_and(Var(0), Var(1)), b_and(Var(0), Var(2))) : True\n",
      "b_and(a_or(Var(1), Var(2)), Var(0))\t>_lpo\ta_or(b_and(Var(1), Var(0)), b_and(Var(2), Var(0))) : True\n"
     ]
    }
   ],
   "source": [
    "# Define Boolean variables\n",
    "v0, v1, v2 = Var(0, BoolSort()), Var(1, BoolSort()), Var(2, BoolSort())\n",
    "\n",
    "neg = Function('c_neg', BoolSort(), BoolSort())\n",
    "and_op = Function('b_and', BoolSort(), BoolSort(), BoolSort())\n",
    "or_op = Function('a_or', BoolSort(), BoolSort(), BoolSort())\n",
    "\n",
    "rules = [\n",
    "    (neg(or_op(v0, v1)) == and_op(neg(v0), neg(v1))),\n",
    "    (neg(and_op(v0, v1)) == or_op(neg(v0), neg(v1))),\n",
    "    (and_op(v0, or_op(v1, v2)) == or_op(and_op(v0, v1), and_op(v0, v2))),\n",
    "    (and_op(or_op(v1, v2), v0) == or_op(and_op(v1, v0), and_op(v2, v0)))\n",
    "]\n",
    "check_lpo_rules(rules)"
   ]
  },
  {
   "cell_type": "markdown",
   "metadata": {},
   "source": [
    "# Bits and Bobbles\n",
    "\n",
    "Discussions with Cody Roux as always are crucial.\n",
    "Graham, Caleb, Sam and Nate also were a big help.\n",
    "\n",
    "https://www.cs.tau.ac.il/~nachum/papers/printemp-print.pdf 33 examples of termination\n",
    "\n",
    "https://homepage.divms.uiowa.edu/~fleck/181content/taste-fixed.pdf a taste of rewriting\n",
    "`f(f(x)) -> g(f(x))`\n",
    "\n",
    "https://www.sciencedirect.com/science/article/pii/0304397582900263 orderings for term-reiwritng systems. The OG recursive path ordering paper. It is often th3e case that original work is more readable than later explanations. This may be because the onus of demonstrating the idea is sensible at all is on the original author. \n",
    "\n",
    "\n",
    "Why do we want to consider orderings in our automated reasoning / search algorithms?\n",
    "\n",
    "The intuition there is that we want as much as possible of our reasoning to proceed by evaluation.\n",
    "\n",
    "Evaluation is the most efficient thing we can do on computers. We get to mutably destroy our terms and know we'll drive to a normal form.\n",
    "You can write little mini functional programs is essence and hand them off to a knuth bendix or superposition prover. If it picks to term ordering that proves this functional program tetrminating, it in essence will evaluate these terms similarly to how it would evaluate a functional program.\n",
    "\n",
    "Bake in a simplifier in a principled way\n",
    "\n",
    "For ordered resolution, the analog is probably that you want as many prolog-like inferences as possible, removing predicates defined by their relation to other predicates.\n",
    "\n",
    "A different opposite intuition might be that you want to decompile your problem into the highest abstract terms. Usually reasoning at the abstract level can make simple what is very complex at the low level.\n",
    "\n",
    "This is related to the dogma of the dependent typists that you want equality to be decidable by evaluating terms.\n",
    "\n",
    "\n",
    "\n",
    "This may also be seen as dignifying macro definitions. Macro expansion for a well stratified (bodies only have previously defined symbols) sequence of macros obviously terminates no matter how explosive the growth of the macros are. So size isn't really the issue there. But an ordered count of symbols is sufficient in this case. Plus really I think macros terminate by induction on the number of rules you've defined. empty rule sets terminates. If you have a rule set that terminates and add a new rule that is only defined in previous symbols, this also terminates.\n",
    "\n",
    "\n",
    "\n",
    "I find Kruskal's theorem https://en.wikipedia.org/wiki/Kruskal%27s_tree_theorem quite unilluminating and disturbing. I don't get it.\n",
    "\n",
    "You can map your term to a sequence, set, or multiset of paths (paths are sequences / strings of symbols from root to leaf). The sequence of paths is the same thing as naive lex ordering.\n",
    "\n",
    "\n",
    "Sims mentions that the wreath product ordering on strings is related to recursvie path ordering.\n",
    "Wreath product is take ordering on X* and Y* and turn it into (X U Y)*\n",
    "\n",
    "V = AbAbAbAb...\n",
    "\n",
    "Frist consider subseqeunce consisting of just elem,ents from X  bbbbb and compare.\n",
    "Then lex compare the sequence of the Y sequences (A,A,A,A)\n",
    "\n",
    "\"Let X = {x1,.. . , xJ and assume that X is ordered by -< so that x1 -<\n",
    "x,,. On {xi}* there is a unique reduction ordering -<i, namely the\n",
    "will be called the basic\n",
    "ordering by length. The ordering _<1 Z 2 t . . . 2\n",
    "wreath-product ordering of X * determined by -<. This ordering is closely\n",
    "related to the recursive path ordering of Dershowitz. See (Dershowitz 1987)\" pg 48 Computation with finitely presented groups\n",
    "\n",
    "abacccbabaccbaccb \n",
    "\n",
    "In other words. Order by count of a, then tie break by sequences of counts of b separate by a, then tie break by sequences of a seperated sequences of c separate by b.\n",
    "\n",
    "\n"
   ]
  },
  {
   "cell_type": "code",
   "execution_count": null,
   "metadata": {},
   "outputs": [],
   "source": [
    "\n",
    "# maybe something like this?\n",
    "def wreath(s,t,n):\n",
    "    if s.count(n) < t.count(n):\n",
    "        s,t = s.split(n), t.split(n)\n",
    "        for si,ti in zip(s,t):\n",
    "            if wreath(s,t,n+1):\n",
    "                return True\n",
    "            \n",
    "    else:\n",
    "        return False\n"
   ]
  },
  {
   "cell_type": "code",
   "execution_count": null,
   "metadata": {},
   "outputs": [],
   "source": [
    "(\"+\", (\"*\", 1, 3), 2) < (\"+\", (\"*\", 1, 3), 4) \n",
    "assert (\"b\",) > (\"a\", \"b\") > (\"a\", \"a\", \"b\") > (\"a\", \"a\", \"a\", \"b\") > (\"a\", \"a\", \"a\", \"a\", \"b\") # ... and so on"
   ]
  },
  {
   "cell_type": "markdown",
   "metadata": {},
   "source": [
    "\n",
    "\n",
    "\n",
    "\n",
    "What are our examples\n",
    "\n",
    "Example mul succ plus\n",
    "\n",
    "\n",
    "functional programs\n",
    "plus(z,X) = X\n",
    "plus(succ(x), y) = succ(plus(x, y))\n",
    "mul(succ(x), y) = plus(mul(x, y), y)\n",
    "\n",
    "ackermann\n",
    "ack(0, y) -> succ(y)\n",
    "ack(succ(x), 0) -> ack(x, succ(0))\n",
    "ack(succ(x), succ(y)) -> ack(x, ack(succ(x), y))\n",
    "\n",
    "note that x appears twice\n",
    "\n",
    "macro expansion\n",
    "foo(x,y,z) = bar(x,x,y,z,z,z,z)\n",
    "\n",
    "\n",
    "association\n",
    "(x + y) + z -> x + (y + z)\n",
    "\n",
    "distribution\n",
    "x * (y + z) -> x * y + x * z\n",
    "\n",
    "negation normal form\n",
    "\n",
    "\n",
    "\n",
    "\n",
    "Homeomorphic embedding dignifies structural shrinking is well founded.\n",
    "\n",
    "Subterms are smaller\n",
    "But accoutning for variables.\n",
    "\n",
    "A term is bigger than another if you can delete nodes to get it.\n",
    "\n",
    "This is the \"closure\" of being a subterm in combination with treating variables correctly.\n"
   ]
  },
  {
   "cell_type": "code",
   "execution_count": null,
   "metadata": {},
   "outputs": [],
   "source": [
    "def decls(t):\n",
    "    "
   ]
  },
  {
   "cell_type": "code",
   "execution_count": 50,
   "metadata": {},
   "outputs": [],
   "source": [
    "log = False\n",
    "def log_arguments(func):\n",
    "    def wrapper(*args, **kwargs):\n",
    "        # Print the function name and arguments\n",
    "        global log\n",
    "        if log:\n",
    "            print(f\"Calling {func.__name__} with arguments: {args} and keyword arguments: {kwargs}\")\n",
    "        res = func(*args, **kwargs)  # Call the original function\n",
    "        if log:\n",
    "            print(f\"Calling {func.__name__} with arguments: {args} and keyword arguments: {kwargs} returned {res}\")\n",
    "        return res\n",
    "    return wrapper"
   ]
  },
  {
   "cell_type": "code",
   "execution_count": 19,
   "metadata": {},
   "outputs": [
    {
     "name": "stdout",
     "output_type": "stream",
     "text": [
      "Calling homeo with arguments: (x, x) and keyword arguments: {}\n",
      "Calling homeo with arguments: (x, y) and keyword arguments: {}\n",
      "Calling homeo with arguments: (x + y, x + y) and keyword arguments: {}\n",
      "Calling homeo with arguments: (x, x) and keyword arguments: {}\n",
      "Calling homeo with arguments: (y, y) and keyword arguments: {}\n",
      "Calling homeo with arguments: (x + y, y + x) and keyword arguments: {}\n",
      "Calling homeo with arguments: (x, y) and keyword arguments: {}\n",
      "Calling homeo with arguments: (Var(0), Var(0)) and keyword arguments: {}\n",
      "Calling homeo with arguments: (Var(0), Var(1)) and keyword arguments: {}\n",
      "Calling homeo with arguments: (Var(0) + 1, Var(0)) and keyword arguments: {}\n",
      "Calling homeo with arguments: (Var(0), Var(0)) and keyword arguments: {}\n",
      "Calling homeo with arguments: (Var(0), Var(0) + 1) and keyword arguments: {}\n"
     ]
    }
   ],
   "source": []
  },
  {
   "cell_type": "code",
   "execution_count": 56,
   "metadata": {},
   "outputs": [],
   "source": []
  },
  {
   "cell_type": "code",
   "execution_count": 23,
   "metadata": {},
   "outputs": [
    {
     "data": {
      "text/plain": [
       "True"
      ]
     },
     "execution_count": 23,
     "metadata": {},
     "output_type": "execute_result"
    }
   ],
   "source": [
    "(\"a\",) < (\"a\", \"a\")"
   ]
  },
  {
   "cell_type": "markdown",
   "metadata": {},
   "source": [
    "We have an intuition that lexicographic comparison of trees is reasonable.\n",
    "\n",
    "It isn't a wll founded order though\n",
    "\n",
    "0 + (1 + 0) ->  (0 + (0 + 1)) ->  \n",
    "\n",
    "\n",
    "lpo.\n",
    "Brute force a simplification order,\n",
    " but once we know that, use naive lex\n",
    "\n"
   ]
  },
  {
   "cell_type": "markdown",
   "metadata": {},
   "source": [
    "def lpo"
   ]
  },
  {
   "cell_type": "code",
   "execution_count": null,
   "metadata": {},
   "outputs": [],
   "source": []
  },
  {
   "cell_type": "markdown",
   "metadata": {},
   "source": [
    "\n",
    "\n",
    "\n",
    "```\n",
    "f(f(x)) -> g(f(x))\n",
    "g(g(x)) -> f(x)\n",
    "```\n",
    "lex combo of orderings works\n",
    "\n",
    "\n",
    "`f(f(x)) -> f(g(f(x)))` adjencet fs decrease\n",
    "\n",
    "\n",
    "\n"
   ]
  },
  {
   "cell_type": "code",
   "execution_count": 27,
   "metadata": {},
   "outputs": [
    {
     "ename": "SyntaxError",
     "evalue": "unexpected character after line continuation character (2705500091.py, line 7)",
     "output_type": "error",
     "traceback": [
      "\u001b[0;36m  Cell \u001b[0;32mIn[27], line 7\u001b[0;36m\u001b[0m\n\u001b[0;31m    (x \\ x == e),\u001b[0m\n\u001b[0m        ^\u001b[0m\n\u001b[0;31mSyntaxError\u001b[0m\u001b[0;31m:\u001b[0m unexpected character after line continuation character\n"
     ]
    }
   ],
   "source": [
    "from z3 import *\n",
    "\n",
    "x, y, e = Ints('x y e')\n",
    "\n",
    "rules = [\n",
    "    (x/x == e),\n",
    "    (x \\ x == e),\n",
    "    (x \\ y == y),\n",
    "    (y / x * x == y),\n",
    "    (e * x == x),\n",
    "    (x * e == x),\n",
    "    (e / x == x),\n",
    "    (x / e == x),\n",
    "    (x / (y \\ x) == y)\n",
    "]\n",
    "\n",
    "# Z3 does not handle string rewriting systems directly, but termination can be encoded\n",
    "s = Solver()\n",
    "for rule in rules:\n",
    "    s.add(rule)\n"
   ]
  },
  {
   "cell_type": "code",
   "execution_count": 28,
   "metadata": {},
   "outputs": [
    {
     "ename": "SyntaxError",
     "evalue": "invalid syntax (965200785.py, line 7)",
     "output_type": "error",
     "traceback": [
      "\u001b[0;36m  Cell \u001b[0;32mIn[28], line 7\u001b[0;36m\u001b[0m\n\u001b[0;31m    ((x-) * (x * y) == y)\u001b[0m\n\u001b[0m        ^\u001b[0m\n\u001b[0;31mSyntaxError\u001b[0m\u001b[0;31m:\u001b[0m invalid syntax\n"
     ]
    }
   ],
   "source": [
    "x = Int('x')\n",
    "rules = [\n",
    "    (1 * x == x),\n",
    "    (x * 1 == x),\n",
    "    (x * x == 1),\n",
    "    (x - x == 1),\n",
    "    ((x-) * (x * y) == y)\n",
    "]\n",
    "\n",
    "s = Solver()\n",
    "for rule in rules:\n",
    "    s.add(rule)\n"
   ]
  },
  {
   "cell_type": "code",
   "execution_count": null,
   "metadata": {},
   "outputs": [],
   "source": [
    "f = Function('f', IntSort(), IntSort())\n",
    "g = Function('g', IntSort(), IntSort())\n",
    "x = Int('x')\n",
    "rule = f(f(x)) == g(f(x))\n",
    "\n",
    "rules = [\n",
    "    f(f(x)) == g(f(x)),\n",
    "    g(g(x)) == f(x)\n",
    "]\n",
    "\n",
    "rule = f(f(x)) == f(g(f(x)))\n",
    "\n",
    "D = Function('D', IntSort(), IntSort())\n",
    "x, y = Ints('x y')\n",
    "rules = [\n",
    "    (D(x + y) == D(x) + D(y)),\n",
    "    (D(x * y) == (y * D(x)) + (x * D(y))),\n",
    "    (D(x - y) == D(x) - D(y))\n",
    "]\n",
    "\n",
    "x, y, z = Ints('x y z')\n",
    "rule = mul(mul(x, y), z) == mul(x, mul(y, z))\n",
    "\n",
    "\n",
    "# DNF\n",
    "neg = Function('neg', IntSort(), IntSort())\n",
    "and_op = Function('and_op', IntSort(), IntSort(), IntSort())\n",
    "or_op = Function('or_op', IntSort(), IntSort(), IntSort())\n",
    "\n",
    "x, y, z = Ints('x y z')\n",
    "\n",
    "rules = [\n",
    "    (neg(or_op(x, y)) == and_op(neg(x), neg(y))),\n",
    "    (neg(and_op(x, y)) == or_op(neg(x), neg(y))),\n",
    "    (and_op(x, or_op(y, z)) == or_op(and_op(x, y), and_op(x, z))),\n",
    "    (and_op(or_op(y, z), x) == or_op(and_op(x, y), and_op(x, z)))\n",
    "]"
   ]
  },
  {
   "cell_type": "code",
   "execution_count": null,
   "metadata": {},
   "outputs": [],
   "source": []
  },
  {
   "cell_type": "code",
   "execution_count": null,
   "metadata": {},
   "outputs": [],
   "source": []
  },
  {
   "cell_type": "markdown",
   "metadata": {},
   "source": [
    "\n",
    "\n",
    "https://en.wikipedia.org/wiki/Path_ordering_(term_rewriting)\n",
    "\n",
    "https://academic.oup.com/comjnl/article/34/1/2/427931 An Introduction to Knuth–Bendix Completion Ajj dick\n",
    "\n",
    "https://link.springer.com/article/10.1007/s10817-006-9031-4 Things to Know when Implementing KBO\n",
    "\n",
    "https://www.cs.unm.edu/~mccune/mace4/manual/2009-02A/term-order.html\n",
    "\n",
    "Sims had anb expalantion in terms of wreath product for rpo\n",
    "\n",
    "\n",
    "https://hol-light.github.io/tutorial.pdf\n",
    "\n",
    "\"The most basic way the LPO orders terms is by use of the weighting function on\n",
    "the top-level function symbols. For example, if we give multiplication a higher weight\n",
    "than addition (by putting it later in the list lis above), this will make the distributive\n",
    "law (x+y)· z = x· z +y · z applicable left-to-right, since it brings a ‘simpler’ operator\n",
    "to the top, even though it actually increases the actual size of the term. In cases where\n",
    "the top operators are the same, the LPO assigns preferences lexicographically left-toright, so that the ordering of the leftmost arguments are considered first, and only in\n",
    "the event of a tie are the others considered one-by-one. This, for example, will tend to\n",
    "drive associative laws like (x + y) + z = x + (y + z) in the left-to-right direction since\n",
    "x is simpler than x + y. We use a generic function lexord to apply a basic ordering\n",
    "ord lexicographically, returning false if the lists are of different lengths:\"\n",
    "\n"
   ]
  }
 ],
 "metadata": {
  "kernelspec": {
   "display_name": "Python 3",
   "language": "python",
   "name": "python3"
  },
  "language_info": {
   "codemirror_mode": {
    "name": "ipython",
    "version": 3
   },
   "file_extension": ".py",
   "mimetype": "text/x-python",
   "name": "python",
   "nbconvert_exporter": "python",
   "pygments_lexer": "ipython3",
   "version": "3.12.3"
  }
 },
 "nbformat": 4,
 "nbformat_minor": 2
}
