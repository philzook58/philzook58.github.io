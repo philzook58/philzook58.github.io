{
 "cells": [
  {
   "cell_type": "markdown",
   "id": "191ba792",
   "metadata": {},
   "source": [
    "---\n",
    "title: Proof Rules for MetaSMT\n",
    "date: 2025-09-22\n",
    "---\n",
    "\n",
    "Knuckledragger https://github.com/philzook58/knuckledragger is my system for interactive theorem proving in python. The core system is not python specific and has some interesting theoretical aspects.\n",
    "\n",
    "It is designed to be as minimal a layer on top of the existing successful SMT systems.\n",
    "\n",
    "A sequence of related SMT solves is the core of many automated software verification tools. There is a hand waving of sorts how these (mangled) calls combine into the larger property of interest. It is a natural approach if one wants a more rigorous solution to this problem to work within the language of SMT if possible rather than require \n",
    "\n",
    "SMT solvers themselves are interested in producing proof certificates for their internal reasoning, both for self checking and for translation into systems like Lean and Isabelle. https://cs.stanford.edu/~preiner/publications/2023/BarbosaBCDKLNNOPRTZ-CACM23.pdf https://github.com/Z3Prover/z3/discussions/5981 I consider this area well attacked by the people most qualified to attack it, the SMT authors themselves. However, it is outside the solver's purview to check the reasoning _linking_ user calls.\n",
    "\n",
    "There are other proof systems like F* and Dafny that deeply integrate with SMT solvers from the get go, but the design here is take the logic the SMT solver gives and work with it.\n",
    "\n",
    "SMT solvers can only scale so far at which point a large query may need to be broken up into multiple pieces. An SMT solver will never prove Fermat's Last Theorem given the axioms of set theory in one shot.\n",
    "\n",
    "In this respect, the proof system of Knuckledragger is a MetaSMT proof system.\n",
    "\n",
    "I'll note that basically the formulas of SMTLIB is monomorphic higher order logic, so the logic is quite well trodden.\n"
   ]
  },
  {
   "cell_type": "markdown",
   "id": "cb4e75c3",
   "metadata": {},
   "source": [
    "# LCF Architecture\n",
    "\n",
    "Software and programming languages have a variety of protection mechanisms for the sanctity of information, invariants, and data structures. Permissions, cryptographic signing, smart constructors, public and private interfaces. Probably all of these mechanisms can be used in one way or another as the foundation of a proof assistant. https://www.philipzucker.com/python-itp/\n",
    "\n",
    "The LCF approach has a special datatype `Proof` with smart constructors. Inference rules are mapped into trusted functions that take in `Proof`, any auxiliary data and produce new `Proof`. Axiom schema are just a special case of an inference rule that does not require any `Proof` arguments.\n",
    "\n",
    "Knuckledragger is written using this style. A distinction in some manner between formulas that _are to be proven_ and formulas that _have been proven_ is crucial, and a datatype distinction is a natural way to do so.\n",
    "\n",
    "The internals of the Proof datatype are irrelevant to the user. At minimum it should store the formula in question that has been proven, but it may also contain a record/trace of the steps/api calls that led to it's production. A sufficiently complete API trace such that it can be replayed is a proof object/tree. Complete API traces are very powerful, for example a trace of all syscalls of a IO reading and writing program are succificent to completely determinize it.   \n",
    "\n",
    "https://github.com/philzook58/knuckledragger/blob/4ecf328b8e0b31c7330ef53102d2812b96522469/src/kdrag/kernel.py#L30\n",
    "\n",
    "See Harrison https://www.cl.cam.ac.uk/~jrh13/atp/ https://www.cl.cam.ac.uk/~jrh13/slides/manchester-12sep01/slides.pdf or Paulson https://lawrencecpaulson.github.io/2022/01/05/LCF.html for more."
   ]
  },
  {
   "cell_type": "markdown",
   "id": "31a7481f",
   "metadata": {},
   "source": [
    "# Core Proof Rules\n",
    "## Mega Modus\n",
    "\n",
    "SMT solvers have a model like character, answering satisfisability (model existence) or unsatisfiability (mode non existence) questions. For this reason the main judgement of knuckeldragger is written using a `|=` instead of a `|-`.\n",
    "\n",
    "`|=` is informally specified but includes an understanding of which model of the integers, reals, and booleans baked into the SMT solver. Metatheoretically modelling `|=` could be done inside a proof assistant like Lean for example.\n",
    "\n",
    "SMT solvers are not exactly a random collection of features, although they are also that. The language of SMTLIB and the solvers themselves encode roughly decidable theories via an evolutionary forcing desire to remain fast and reliable.\n",
    "\n",
    "The degree to which SMT solvers do handle some undecidable queries, they are within their rights to bail out at `unknown` or have a timeout.\n",
    "\n",
    "For this reason, there is a subset of a large `|=` which can be automatically handled `|=_dec` and `|=_auto`.\n",
    "\n",
    "```\n",
    "\n",
    "|= P1   |= P2    ...   {P1,P2,...} |=_auto P\n",
    "--------------------------------------------\n",
    "                 |= P\n",
    "```\n",
    "\n",
    "https://github.com/philzook58/knuckledragger/blob/4ecf328b8e0b31c7330ef53102d2812b96522469/src/kdrag/kernel.py#L129\n"
   ]
  },
  {
   "cell_type": "code",
   "execution_count": 7,
   "id": "9bcaf2f5",
   "metadata": {},
   "outputs": [
    {
     "data": {
      "text/html": [
       "&#x22A8;ForAll(x, x + 1 > x)"
      ],
      "text/plain": [
       "|= ForAll(x, x + 1 > x)"
      ]
     },
     "execution_count": 7,
     "metadata": {},
     "output_type": "execute_result"
    }
   ],
   "source": [
    "import kdrag.smt as smt\n",
    "import kdrag as kd\n",
    "\n",
    "x,y,z = smt.Ints('x y z')\n",
    "kd.kernel.prove(smt.ForAll([x], x + 1 > x))"
   ]
  },
  {
   "cell_type": "code",
   "execution_count": 8,
   "id": "70ccf97d",
   "metadata": {},
   "outputs": [
    {
     "data": {
      "text/html": [
       "&#x22A8;y + x > 0"
      ],
      "text/plain": [
       "|= y + x > 0"
      ]
     },
     "execution_count": 8,
     "metadata": {},
     "output_type": "execute_result"
    }
   ],
   "source": [
    "pfP1 = kd.axiom(x > 0)\n",
    "pfP2 = kd.axiom(y > 0)\n",
    "pf = kd.kernel.prove(y + x > 0, by=[pfP1, pfP2])\n",
    "pf"
   ]
  },
  {
   "cell_type": "code",
   "execution_count": 9,
   "id": "468b8f67",
   "metadata": {},
   "outputs": [
    {
     "data": {
      "text/plain": [
       "[|= x > 0, |= y > 0]"
      ]
     },
     "execution_count": 9,
     "metadata": {},
     "output_type": "execute_result"
    }
   ],
   "source": [
    "pf.reason"
   ]
  },
  {
   "cell_type": "markdown",
   "id": "78f31f42",
   "metadata": {},
   "source": [
    "## Definitions\n",
    "\n",
    "A relatively underemphasized aspect of logic is definitional mechanisms. https://en.wikipedia.org/wiki/Conservative_extension \n",
    "For some reason many mathematical logic textbooks seem to think it is acceptable to have all names and definitions to be basically at the metalevel. This seems kind of nuts.\n",
    "\n",
    "As a MetaSMT system, this is a crucial aspect, as we expect o build abstractions and then reason about the abstractions without giving the solver access to the original definitions. To some degree, theorem proving is all about defining abstractions and unfolding them only at special points in order to build new pinrciples at which to reason at.\n",
    "\n",
    "https://github.com/philzook58/knuckledragger/blob/4ecf328b8e0b31c7330ef53102d2812b96522469/src/kdrag/kernel.py#L232\n",
    "\n",
    "Definitions are registered into a dictionary kept in the kernel. Definitions return an axiom of the form `|= forall args, myfun(args) == body` .\n",
    "\n",
    "It has turned out to be important to make definitions fast and reliable to unfold.\n",
    "\n",
    "There is also the general logical design principle that any \"introduction\" of a capability should be pair with an ability to use the capability.\n",
    "\n",
    "An emergent principle is that any functionality z3 exposes should be wrapped as a proof rule it it makes sense. \n",
    "\n",
    "Z3 exposes a function `substitute_funs` which can quickly unfold a definitions for a function symbol. This is wrapped by unfoldm which takesin which definitions to unfold as a parameter.\n",
    "\n",
    "https://github.com/philzook58/knuckledragger/blob/4ecf328b8e0b31c7330ef53102d2812b96522469/src/kdrag/kernel.py#L309"
   ]
  },
  {
   "cell_type": "code",
   "execution_count": 10,
   "id": "5ea37ede",
   "metadata": {},
   "outputs": [
    {
     "data": {
      "text/plain": [
       "Defn(name='myadd', args=[x, y], body=x + y, ax=|= ForAll([x, y], myadd(x, y) == x + y), subst_funs_body=Var(0) + Var(1))"
      ]
     },
     "execution_count": 10,
     "metadata": {},
     "output_type": "execute_result"
    }
   ],
   "source": [
    "myadd = kd.define(\"myadd\", [x,y], x + y)\n",
    "kd.kernel.defns[myadd]"
   ]
  },
  {
   "cell_type": "code",
   "execution_count": 11,
   "id": "d96ce595",
   "metadata": {},
   "outputs": [
    {
     "data": {
      "text/plain": [
       "True"
      ]
     },
     "execution_count": 11,
     "metadata": {},
     "output_type": "execute_result"
    }
   ],
   "source": [
    "kd.kernel.is_defined(myadd(x,y))"
   ]
  },
  {
   "cell_type": "code",
   "execution_count": 12,
   "id": "eabda8c4",
   "metadata": {},
   "outputs": [
    {
     "data": {
      "text/plain": [
       "(1 + 2, |= myadd(1, 2) == 1 + 2)"
      ]
     },
     "execution_count": 12,
     "metadata": {},
     "output_type": "execute_result"
    }
   ],
   "source": [
    "kd.kernel.unfold(myadd(1,2), [myadd])"
   ]
  },
  {
   "cell_type": "markdown",
   "id": "69b4161b",
   "metadata": {},
   "source": [
    "Reliable unfold is extremely useful and important. The definitional equality of knuckledragger, to the degree there is a single one, is the iteration of `z3.simplify` and `unfold`. This is available as a tactic at `kd.rewrite.full_simp`"
   ]
  },
  {
   "cell_type": "markdown",
   "id": "37555e20",
   "metadata": {},
   "source": [
    "## Quantifiers\n",
    "\n",
    "Quantifiers are an extremely useful modelling feature. Proofs using them require more invention/synthesis than simple quantifier free reasoning. It certainly helps the solver if you point out which terms to instantiate the quantifier with.\n",
    "\n",
    "### Universal\n",
    "\n",
    "`instan` https://github.com/philzook58/knuckledragger/blob/4ecf328b8e0b31c7330ef53102d2812b96522469/src/kdrag/kernel.py#L354 Takes a proof of the form `|= forall x, P(x)` and can instantiate the vairable with any term `t` to `|= P(t)`.\n",
    "\n",
    "The design choice of taking the Formula datatypes and semantics of SMTLIB as they are presents an interesting technical challenge. Sometimes constraints guide one to beauty, like the rigid forms of poetry.\n",
    "\n",
    "Many proof system's term datatype includes a `Var` constructor, standin in for a schematic variable. Any proof derived with a variable in it may be arbitrarily instantiated to get a more concrete proof. This is the setup for example in quantifier free equational logic.\n",
    "\n",
    "The Z3 AST does not have such a constructor.\n",
    "\n",
    "The original approach taken by Knuckledragger was to use a herbrandization axiom schema https://github.com/philzook58/knuckledragger/blob/4ecf328b8e0b31c7330ef53102d2812b96522469/src/kdrag/kernel.py#L442 , which generates a fresh constant and also an axiom that `P[x] => forall y, P[y]`. This schema has the flavor of opening a binder in a proof assistant.\n",
    "\n",
    "What knuckledragger _does_ have control over is it's judgement forms. `|= P` is a judgement at the knuckledragger layer. There is a refactroing possible between the term data type and the judgement forms. A new judgement `x freshvar` makes it possible to have schematic variables.\n",
    "\n",
    "```\n",
    "|= forall x, P(x)     \n",
    "------------------ instan\n",
    "      |= P(t)\n",
    "\n",
    "\n",
    "|= P(x)    x freshvar\n",
    "------------------------- generalize\n",
    "      |= forall x, P(x)\n",
    "\n",
    "\n",
    "   x is freshly generated\n",
    "--------------------------- FreshVar\n",
    "    x freshvar\n",
    "```\n",
    "\n",
    "\n"
   ]
  },
  {
   "cell_type": "code",
   "execution_count": 13,
   "id": "98d7f9ac",
   "metadata": {},
   "outputs": [
    {
     "data": {
      "text/html": [
       "x!0"
      ],
      "text/plain": [
       "x!0"
      ]
     },
     "execution_count": 13,
     "metadata": {},
     "output_type": "execute_result"
    }
   ],
   "source": [
    "x,y,z = kd.FreshVars(\"x y z\", smt.IntSort())\n",
    "x"
   ]
  },
  {
   "cell_type": "code",
   "execution_count": 14,
   "id": "beb08f9b",
   "metadata": {},
   "outputs": [
    {
     "data": {
      "text/plain": [
       "True"
      ]
     },
     "execution_count": 14,
     "metadata": {},
     "output_type": "execute_result"
    }
   ],
   "source": [
    "kd.kernel.is_fresh_var(x)"
   ]
  },
  {
   "cell_type": "code",
   "execution_count": 15,
   "id": "f433a7e1",
   "metadata": {},
   "outputs": [
    {
     "data": {
      "text/plain": [
       "False"
      ]
     },
     "execution_count": 15,
     "metadata": {},
     "output_type": "execute_result"
    }
   ],
   "source": [
    "a = smt.Int(\"a\")\n",
    "kd.kernel.is_fresh_var(a)"
   ]
  },
  {
   "cell_type": "code",
   "execution_count": 16,
   "id": "f23227bb",
   "metadata": {},
   "outputs": [
    {
     "data": {
      "text/html": [
       "&#x22A8;x!0 + 1 > x!0"
      ],
      "text/plain": [
       "|= x!0 + 1 > x!0"
      ]
     },
     "execution_count": 16,
     "metadata": {},
     "output_type": "execute_result"
    }
   ],
   "source": [
    "pf = kd.prove(x + 1 > x)\n",
    "pf"
   ]
  },
  {
   "cell_type": "code",
   "execution_count": 17,
   "id": "025047be",
   "metadata": {},
   "outputs": [
    {
     "data": {
      "text/html": [
       "&#x22A8;ForAll(x!0, x!0 + 1 > x!0)"
      ],
      "text/plain": [
       "|= ForAll(x!0, x!0 + 1 > x!0)"
      ]
     },
     "execution_count": 17,
     "metadata": {},
     "output_type": "execute_result"
    }
   ],
   "source": [
    "pf2 = kd.kernel.generalize([x], pf)\n",
    "pf2"
   ]
  },
  {
   "cell_type": "code",
   "execution_count": 18,
   "id": "38aecfc2",
   "metadata": {},
   "outputs": [
    {
     "data": {
      "text/html": [
       "&#x22A8;42 + 1 > 42"
      ],
      "text/plain": [
       "|= 42 + 1 > 42"
      ]
     },
     "execution_count": 18,
     "metadata": {},
     "output_type": "execute_result"
    }
   ],
   "source": [
    "pf2(smt.IntVal(42))"
   ]
  },
  {
   "cell_type": "code",
   "execution_count": 19,
   "id": "625372f7",
   "metadata": {},
   "outputs": [
    {
     "data": {
      "text/html": [
       "&#x22A8;42 + 1 > 42"
      ],
      "text/plain": [
       "|= 42 + 1 > 42"
      ]
     },
     "execution_count": 19,
     "metadata": {},
     "output_type": "execute_result"
    }
   ],
   "source": [
    "kd.kernel.instan([smt.IntVal(42)], pf2)"
   ]
  },
  {
   "cell_type": "code",
   "execution_count": 20,
   "id": "ff9670bf",
   "metadata": {},
   "outputs": [
    {
     "ename": "AssertionError",
     "evalue": "",
     "output_type": "error",
     "traceback": [
      "\u001b[31m---------------------------------------------------------------------------\u001b[39m",
      "\u001b[31mAssertionError\u001b[39m                            Traceback (most recent call last)",
      "\u001b[36mCell\u001b[39m\u001b[36m \u001b[39m\u001b[32mIn[20]\u001b[39m\u001b[32m, line 1\u001b[39m\n\u001b[32m----> \u001b[39m\u001b[32m1\u001b[39m \u001b[43mkd\u001b[49m\u001b[43m.\u001b[49m\u001b[43mkernel\u001b[49m\u001b[43m.\u001b[49m\u001b[43mgeneralize\u001b[49m\u001b[43m(\u001b[49m\u001b[43m[\u001b[49m\u001b[43ma\u001b[49m\u001b[43m]\u001b[49m\u001b[43m,\u001b[49m\u001b[43m \u001b[49m\u001b[43mpf\u001b[49m\u001b[43m)\u001b[49m \u001b[38;5;66;03m# should fail, since a is not fresh\u001b[39;00m\n",
      "\u001b[36mFile \u001b[39m\u001b[32m~/Documents/python/knuckledragger/src/kdrag/kernel.py:680\u001b[39m, in \u001b[36mgeneralize\u001b[39m\u001b[34m(vs, pf)\u001b[39m\n\u001b[32m    670\u001b[39m \u001b[38;5;28;01mdef\u001b[39;00m\u001b[38;5;250m \u001b[39m\u001b[34mgeneralize\u001b[39m(vs: \u001b[38;5;28mlist\u001b[39m[smt.ExprRef], pf: Proof) -> Proof:\n\u001b[32m    671\u001b[39m \u001b[38;5;250m    \u001b[39m\u001b[33;03m\"\"\"\u001b[39;00m\n\u001b[32m    672\u001b[39m \u001b[33;03m    Generalize a theorem with respect to a list of schema variables.\u001b[39;00m\n\u001b[32m    673\u001b[39m \u001b[33;03m    This introduces a universal quantifier for schema variables.\u001b[39;00m\n\u001b[32m   (...)\u001b[39m\u001b[32m    678\u001b[39m \u001b[33;03m    |= ForAll([x!..., y!...], x!... == x!...)\u001b[39;00m\n\u001b[32m    679\u001b[39m \u001b[33;03m    \"\"\"\u001b[39;00m\n\u001b[32m--> \u001b[39m\u001b[32m680\u001b[39m     \u001b[38;5;28;01massert\u001b[39;00m \u001b[38;5;28mall\u001b[39m(is_fresh_var(v) \u001b[38;5;28;01mfor\u001b[39;00m v \u001b[38;5;129;01min\u001b[39;00m vs)\n\u001b[32m    681\u001b[39m     \u001b[38;5;28;01massert\u001b[39;00m \u001b[38;5;28misinstance\u001b[39m(pf, Proof)\n\u001b[32m    682\u001b[39m     \u001b[38;5;28;01mreturn\u001b[39;00m axiom(smt.ForAll(vs, pf.thm), by=[\u001b[33m\"\u001b[39m\u001b[33mgeneralize\u001b[39m\u001b[33m\"\u001b[39m, vs, pf])\n",
      "\u001b[31mAssertionError\u001b[39m: "
     ]
    }
   ],
   "source": [
    "kd.kernel.generalize([a], pf) # should fail, since a is not fresh"
   ]
  },
  {
   "cell_type": "markdown",
   "id": "3bb75a6e",
   "metadata": {},
   "source": [
    "### Existential\n",
    "\n",
    "Existentials have not been as thoroughly tested as the universal quantifiers so pain points may still exist. There are often useful ways to formulate theories without lots of existentials, but it is difficult to avoid universal in interesting theories.\n",
    "\n",
    "The basic rules are `forget`, `einstan`, and `skolem`.\n"
   ]
  },
  {
   "cell_type": "markdown",
   "id": "b1008ae3",
   "metadata": {},
   "source": [
    "## Induction\n",
    "Z3 comes with algebraic datatypes, but does not have built in reasoning for induction over these types.\n",
    "By traversing the constructors, one can build an induction principle.\n",
    "\n",
    "These induction principles could be generated as a principle in higher order logic `|= forall P, cases => forall x, P(x)` or instead as an axiom schema `def induct(P,x): return \"|= cases => P(x)\"`. These two forms are interderivable, but the axiom schema form has been found to be more directly useful in the backwards tactic system.\n",
    "\n",
    "https://github.com/philzook58/knuckledragger/blob/4ecf328b8e0b31c7330ef53102d2812b96522469/src/kdrag/kernel.py#L550\n"
   ]
  },
  {
   "cell_type": "code",
   "execution_count": 21,
   "id": "c42b2a04",
   "metadata": {},
   "outputs": [
    {
     "data": {
      "text/html": [
       "&#x22A8;Implies(And(P(Z),\n",
       "            ForAll(pred!95,\n",
       "                   Implies(P(pred!95), P(S(pred!95))))),\n",
       "        P(n))"
      ],
      "text/plain": [
       "|= Implies(And(P(Z),\n",
       "            ForAll(pred!95,\n",
       "                   Implies(P(pred!95), P(S(pred!95))))),\n",
       "        P(n))"
      ]
     },
     "execution_count": 21,
     "metadata": {},
     "output_type": "execute_result"
    }
   ],
   "source": [
    "from kdrag.theories.nat import Nat\n",
    "n = smt.Const(\"n\", Nat)\n",
    "P = smt.Function(\"P\", Nat, smt.BoolSort())\n",
    "kd.kernel.induct_inductive(n, P)"
   ]
  },
  {
   "cell_type": "markdown",
   "id": "7e4fc205",
   "metadata": {},
   "source": [
    "## Equality\n",
    "\n",
    "On the principle that Z3 exposed functionality should be rewrapped into Proof manipulating functions, there is a function `subst` https://github.com/philzook58/knuckledragger/blob/4ecf328b8e0b31c7330ef53102d2812b96522469/src/kdrag/kernel.py#L330 which takes in equality proofs and uses `z3.substitute` in order to replace them everywhere.\n",
    "\n",
    "A fuller compliment of equational rules involving congruence, transitivity, and reflexivity are kept in a side file. They have not proven themselves to be useful enough to be promoted to the kernel.\n",
    "\n",
    "\n",
    "```\n",
    "  |= ta1 = ta2   |= tb1 = tb2    ...\n",
    "------------------------------------ subst\n",
    "     |= t = t[ta2/ta1, tb2/tb1, ...]\n",
    "```\n"
   ]
  },
  {
   "cell_type": "code",
   "execution_count": 22,
   "id": "bd0b1cdc",
   "metadata": {},
   "outputs": [
    {
     "data": {
      "text/plain": [
       "(y!1 + 1, |= x!0 + 1 == y!1 + 1)"
      ]
     },
     "execution_count": 22,
     "metadata": {},
     "output_type": "execute_result"
    }
   ],
   "source": [
    "pfxy = kd.kernel.axiom(x == y)\n",
    "kd.kernel.subst(x + 1, [pfxy])"
   ]
  },
  {
   "cell_type": "markdown",
   "id": "0a39ec90",
   "metadata": {},
   "source": [
    "## Structural Rules\n",
    "It is unfortunate, but seems to be the case that Z3 cannot be relied upon to perform seemingly trivial structural manipulations in the presence of big ocmpliocated terms. For this reason, it is desirable to have a full set of structural rules.\n",
    "It is very frustrating to have a fully spelled out proof rejected, so these structural rules are in the backwards tactic system.\n",
    "It is possible that I misplaced my blame on Z3 and there was another problem at play.\n",
    "\n",
    "I would consider z3 failure on a reasonably sized quantifier free fragment involving theories it strongly supports (like linear inequalities) to be a bug in z3 and have never encountered that. It is quantifiers and lambdas that can sometimes trip it up over even seemingly trivial reasoning.\n",
    "\n",
    "It has been very tempting to extend `Proof` into a more sequent like form `Gamma |= P` rather than it's current Hilbert like form `|= P`. I don't really think there is that much point ultimately. Judgements with a context can be seen as Hilbert style judgements of a particular forms `|= And(Gamma) -> P` with derived combinators for manipulating them. An important class of combinator is one that reduces the `And` hypothesis such that it has set-like character. Any method for sorting and deduping the `Gamma` terms will work.\n",
    "\n",
    "There seems to be a pattern for record-like objects about whether to put the record character into the logic or keep it unpacked at the metalevel. The two layers are usually basically interconvertible."
   ]
  },
  {
   "cell_type": "markdown",
   "id": "935a939d",
   "metadata": {},
   "source": [
    "# Bits and Bobbles\n",
    "\n",
    "I have not written about it systematically in a while. I found this post kind of boring to write, but that is bad. I really need to work towards a systematic presentation of the system and get it on arxiv.\n",
    "\n",
    "There are more axiom schema scattered throughout domain specific libraries, but the above are the really essential general ones. I continue to push rules into the kernel or pull them out if I never use them really. The churn is not so much at this point though.\n",
    "\n",
    "More to discuss:\n",
    "\n",
    "- The rewriting subsystem. I don't think I've ever written a post about this, although it was in the background of my knuth bendix posts\n",
    "- Modules as an organizing and abstraction principle\n",
    "- The semantic refinement typing subsystem\n",
    "- MetaSMT proof certificates\n",
    "- The backwards tactic system\n",
    "\n",
    "\n",
    "- Knuckeldragger rules\n",
    "- Prolog Variations\n",
    "- Property based testing of refinements\n",
    "- Rewriting\n",
    "\n",
    "or  https://arxiv.org/pdf/cs/9301110 Paulson chapt 10 https://www.cl.cam.ac.uk/~lp15/MLbook/PDF/chapter10.pdf (hmm maybe this isn't exactly lcf)\n",
    "https://lawrencecpaulson.github.io/2022/01/05/LCF.html\n",
    "\n",
    "https://www.reddit.com/r/ProgrammingLanguages/comments/1aigns2/discussing_isabellehol_a_proof_assistant_for/kova7l5/\n",
    "\n",
    "\n"
   ]
  }
 ],
 "metadata": {
  "kernelspec": {
   "display_name": "philzook58.github.io",
   "language": "python",
   "name": "python3"
  },
  "language_info": {
   "codemirror_mode": {
    "name": "ipython",
    "version": 3
   },
   "file_extension": ".py",
   "mimetype": "text/x-python",
   "name": "python",
   "nbconvert_exporter": "python",
   "pygments_lexer": "ipython3",
   "version": "3.12.3"
  }
 },
 "nbformat": 4,
 "nbformat_minor": 5
}
