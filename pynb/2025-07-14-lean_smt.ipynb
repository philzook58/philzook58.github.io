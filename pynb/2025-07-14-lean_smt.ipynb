{
 "cells": [
  {
   "cell_type": "markdown",
   "id": "9e0c83f1",
   "metadata": {},
   "source": [
    "---\n",
    "title: Using Lean like an External SMT Solver from Python\n",
    "date: 2025-07-14\n",
    "---\n",
    "\n",
    "It seems that the only thing I don't want to use Lean for is it's main purpose. That tracks.\n",
    "\n",
    "Anyhoo, I'm a big fan of SMT solvers https://en.wikipedia.org/wiki/Satisfiability_modulo_theories . They are the workhouse behind 90% of automated software verification tooling.\n",
    "Three popular solvers probably account for a majority of usage, Z3, CVC5, and Bitwuzla. \n",
    "\n",
    "One can use them by writing an SMTLib file and calling a subprocess of the solver.\n",
    "\n",
    "Lean can be used in the same way now thanks to the `grind` tactic. I think this is an interesting angle. Not everyone is going to switch whole hog into using Lean. But by writing a short lean file analogous to an SMTLib one, you can kind of dip your toe in while staying in your language of choice (python, C++, scala, haskell, whatever). Lean offers more extensibility compared to an SMTLib and a huge library of functionality. You can also have the backstop of going interactive if you truly must. This is kind of using Lean as a Why3 https://www.why3.org/ in that regard.\n"
   ]
  },
  {
   "cell_type": "markdown",
   "id": "aff54d0c",
   "metadata": {},
   "source": [
    "# Brief SMT Spiel\n",
    "\n",
    "On initial introduction, they are usually presented as puzzle / constraint solvers. Things like Sudoku or package versioning or n-queens can be encoded into the solver and you seek a solution to the given problem."
   ]
  },
  {
   "cell_type": "code",
   "execution_count": 2,
   "id": "7b1ba4c7",
   "metadata": {},
   "outputs": [
    {
     "name": "stdout",
     "output_type": "stream",
     "text": [
      "sat\n"
     ]
    },
    {
     "data": {
      "text/html": [
       "[Q_3 = 8,\n",
       " Q_1 = 4,\n",
       " Q_7 = 5,\n",
       " Q_8 = 7,\n",
       " Q_5 = 1,\n",
       " Q_4 = 6,\n",
       " Q_2 = 2,\n",
       " Q_6 = 3]"
      ],
      "text/plain": [
       "[Q_3 = 8,\n",
       " Q_1 = 4,\n",
       " Q_7 = 5,\n",
       " Q_8 = 7,\n",
       " Q_5 = 1,\n",
       " Q_4 = 6,\n",
       " Q_2 = 2,\n",
       " Q_6 = 3]"
      ]
     },
     "execution_count": 2,
     "metadata": {},
     "output_type": "execute_result"
    }
   ],
   "source": [
    "from z3 import *\n",
    "# We know each queen must be in a different row.\n",
    "# So, we represent each queen by a single integer: the column position\n",
    "Q = [ Int(f\"Q_{row + 1}\") for row in range(8) ]\n",
    "\n",
    "# Each queen is in a column {1, ... 8 }\n",
    "val_c = [ And(1 <= Q[row], Q[row] <= 8) for row in range(8) ]\n",
    "\n",
    "# At most one queen per column\n",
    "col_c = [ Distinct(Q) ]\n",
    "\n",
    "# Diagonal constraint\n",
    "diag_c = [ If(i == j,\n",
    "              True,\n",
    "              And(Q[i] - Q[j] != i - j, Q[i] - Q[j] != j - i))\n",
    "           for i in range(8) for j in range(i) ]\n",
    "s = Solver()\n",
    "s.add(val_c + col_c + diag_c)\n",
    "print(s.check())\n",
    "s.model()"
   ]
  },
  {
   "cell_type": "markdown",
   "id": "8317a545",
   "metadata": {},
   "source": [
    "When you want to do verification or theorem proving, you are seeking counterexamples. You do this by asserting the negation of the theorem in question. The theorem being proven is getting back `unsat` from the solver, saying that there are no counterexamples. "
   ]
  },
  {
   "cell_type": "code",
   "execution_count": 5,
   "id": "ec201d46",
   "metadata": {},
   "outputs": [
    {
     "name": "stdout",
     "output_type": "stream",
     "text": [
      "unsat\n"
     ]
    }
   ],
   "source": [
    "s = Solver()\n",
    "p,q = Bools(\"p q\")\n",
    "s.add(Not(Implies(And(p,q), p)))\n",
    "print(s.check())"
   ]
  },
  {
   "cell_type": "markdown",
   "id": "59476796",
   "metadata": {},
   "source": [
    "In addition to the bindings, you can also use a textual format, SMTLIB https://smt-lib.org/ . Making files like this can be useful for inspecting the problems and is easier than developing bindings for a new language."
   ]
  },
  {
   "cell_type": "code",
   "execution_count": 6,
   "id": "37bd03ba",
   "metadata": {},
   "outputs": [
    {
     "name": "stdout",
     "output_type": "stream",
     "text": [
      "Writing /tmp/test.smt2\n"
     ]
    }
   ],
   "source": [
    "%%file /tmp/test.smt2\n",
    "\n",
    "(declare-const p Bool)\n",
    "(declare-const q Bool)\n",
    "(assert (not (=> (and p q) p)))\n",
    "(check-sat)"
   ]
  },
  {
   "cell_type": "code",
   "execution_count": 7,
   "id": "abe10ca2",
   "metadata": {},
   "outputs": [
    {
     "name": "stdout",
     "output_type": "stream",
     "text": [
      "unsat\n"
     ]
    }
   ],
   "source": [
    "! z3 /tmp/test.smt2"
   ]
  },
  {
   "cell_type": "markdown",
   "id": "2535bd5f",
   "metadata": {},
   "source": [
    "We can also dump files out of the solver using the bindings. I have found this useful because I have used systems enmeshed with z3, but want to try another solver, or want to fiddle with my encopding to see if I can make it work better without changing the code of the generator."
   ]
  },
  {
   "cell_type": "code",
   "execution_count": 9,
   "id": "ef17745d",
   "metadata": {},
   "outputs": [
    {
     "name": "stdout",
     "output_type": "stream",
     "text": [
      "(declare-fun p () Bool)\n",
      "(declare-fun q () Bool)\n",
      "(assert (not (=> (and p q) p)))\n",
      "\n"
     ]
    }
   ],
   "source": [
    "s = Solver()\n",
    "p,q = Bools(\"p q\")\n",
    "s.add(Not(Implies(And(p,q), p)))\n",
    "print(s.sexpr())"
   ]
  },
  {
   "cell_type": "markdown",
   "id": "52155f28",
   "metadata": {},
   "source": [
    "# Using Lean\n",
    "\n",
    "But we can also spit out lean files.\n",
    "\n",
    "The advent of the `grind` tactic https://lean-lang.org/doc/reference/4.22.0-rc2//The--grind--tactic/#grind makes this more compelling. By and large, the most powerful automation of interactive theorems provers has been made by using external solvers. It is a bit unclear if the runaround of emitting the language of the ITP is worth doing compared to just emitting the solver language (smtlib or tptp).\n",
    "\n",
    "`grind` however is a native general purpose lean tactic written by Leo de Moura, one of the authors of Z3. My impression is that it is kind of like an SMT solver without the SAT part, a communicating pile of theories communicating through the fabric of an e-graph /congruence closure.\n",
    "\n",
    "I also suspect it will deal less well with reams of garbage like software verifiers produce. https://lean-lang.org/doc/reference/4.22.0-rc2//The--grind--tactic/What--grind--is--not-___/ I've been using SMT solvers in a somewhat unusual way in my project knuckedragger and I suspect they are similarly used in projects like F* or Dafny where really they are pretty small queries with more equational content than the bulk bit blasting like queries that come out of something like a model checker.\n",
    "\n",
    "Lean also recently gained `bv_decide` which is powered by the SAT solver cadical. It is actually still kind of intriguing because Lean offers modelling features that honestly would have been kind of gosh darn nice. SMTLib is both extremely rich in that it is basically a full Higher order logic, but also pretty impoverished in terms of syntactic niceties.\n",
    "\n",
    "The `BitVec` type does enable you to do arbitrary size bitvector reasoning, a desired feature by compiler verifiers. I would assume this cannot be bit blasted by bv_decide however. How would you?\n",
    "\n"
   ]
  },
  {
   "cell_type": "code",
   "execution_count": 29,
   "id": "80d47d39",
   "metadata": {},
   "outputs": [
    {
     "name": "stdout",
     "output_type": "stream",
     "text": [
      "Overwriting /tmp/test.lean\n"
     ]
    }
   ],
   "source": [
    "%%file /tmp/test.lean\n",
    "\n",
    "theorem mytheorem (p q : Prop) : p ∧ q → p := by grind\n",
    "#check mytheorem"
   ]
  },
  {
   "cell_type": "markdown",
   "id": "5a19e4a9",
   "metadata": {},
   "source": [
    "You can see this passes in a human readable form"
   ]
  },
  {
   "cell_type": "code",
   "execution_count": 19,
   "id": "5cca48b7",
   "metadata": {},
   "outputs": [
    {
     "name": "stdout",
     "output_type": "stream",
     "text": [
      "mytheorem (p q : Prop) : p ∧ q → p\n"
     ]
    }
   ],
   "source": [
    "! lean /tmp/test.lean "
   ]
  },
  {
   "cell_type": "markdown",
   "id": "961d84ad",
   "metadata": {},
   "source": [
    "Or you can use json output to make something more easily consumable by another tool."
   ]
  },
  {
   "cell_type": "code",
   "execution_count": 30,
   "id": "440dc071",
   "metadata": {},
   "outputs": [
    {
     "name": "stdout",
     "output_type": "stream",
     "text": [
      "{\"severity\":\"information\",\"pos\":{\"line\":3,\"column\":0},\"kind\":\"[anonymous]\",\"keepFullRange\":false,\"isSilent\":false,\"fileName\":\"/tmp/test.lean\",\"endPos\":{\"line\":3,\"column\":6},\"data\":\"mytheorem (p q : Prop) : p ∧ q → p\",\"caption\":\"\"}\n"
     ]
    }
   ],
   "source": [
    "! lean /tmp/test.lean --json"
   ]
  },
  {
   "cell_type": "markdown",
   "id": "2eb0e1ef",
   "metadata": {},
   "source": [
    "This is what it looks like to try and prove a false theorem"
   ]
  },
  {
   "cell_type": "code",
   "execution_count": 36,
   "id": "02a1b34f",
   "metadata": {},
   "outputs": [
    {
     "name": "stdout",
     "output_type": "stream",
     "text": [
      "Overwriting /tmp/test2.lean\n"
     ]
    }
   ],
   "source": [
    "%%file /tmp/test2.lean\n",
    "\n",
    "theorem mytheorem (p q : Prop) : p \\/ q -> p := by grind\n",
    "#check mytheorem"
   ]
  },
  {
   "cell_type": "code",
   "execution_count": 37,
   "id": "9992efbe",
   "metadata": {},
   "outputs": [
    {
     "name": "stdout",
     "output_type": "stream",
     "text": [
      "/tmp/test2.lean:2:51: error: `grind` failed\n",
      "case grind\n",
      "p q : Prop\n",
      "h : p ∨ q\n",
      "h_1 : ¬p\n",
      "⊢ False\n",
      "[grind] Goal diagnostics\n",
      "  [facts] Asserted facts\n",
      "    [prop] p ∨ q\n",
      "    [prop] ¬p\n",
      "  [eqc] True propositions\n",
      "    [prop] q\n",
      "    [prop] p ∨ q\n",
      "  [eqc] False propositions\n",
      "    [prop] p\n",
      "mytheorem (p q : Prop) : p ∨ q → p\n"
     ]
    }
   ],
   "source": [
    "! lean /tmp/test2.lean"
   ]
  },
  {
   "cell_type": "code",
   "execution_count": 38,
   "id": "0ab6701c",
   "metadata": {},
   "outputs": [
    {
     "name": "stdout",
     "output_type": "stream",
     "text": [
      "{\"severity\":\"error\",\"pos\":{\"line\":2,\"column\":51},\"kind\":\"[anonymous]\",\"keepFullRange\":false,\"isSilent\":false,\"fileName\":\"/tmp/test2.lean\",\"endPos\":{\"line\":2,\"column\":56},\"data\":\"`grind` failed\\ncase grind\\np q : Prop\\nh : p ∨ q\\nh_1 : ¬p\\n⊢ False\\n[grind] Goal diagnostics\\n  [facts] Asserted facts\\n    [prop] p ∨ q\\n    [prop] ¬p\\n  [eqc] True propositions\\n    [prop] q\\n    [prop] p ∨ q\\n  [eqc] False propositions\\n    [prop] p\",\"caption\":\"\"}\n",
      "{\"severity\":\"information\",\"pos\":{\"line\":3,\"column\":0},\"kind\":\"[anonymous]\",\"keepFullRange\":false,\"isSilent\":false,\"fileName\":\"/tmp/test2.lean\",\"endPos\":{\"line\":3,\"column\":6},\"data\":\"mytheorem (p q : Prop) : p ∨ q → p\",\"caption\":\"\"}\n"
     ]
    }
   ],
   "source": [
    "! lean /tmp/test2.lean --json"
   ]
  },
  {
   "cell_type": "markdown",
   "id": "f9a50651",
   "metadata": {},
   "source": [
    "We can wrap this up into a Solver object if you're willing to just inject strings into the thing. Here I'm using it in the refutational style as I did with Z3. When `check` is called, it just prints the negation of all of the theorems you have added."
   ]
  },
  {
   "cell_type": "code",
   "execution_count": 8,
   "id": "c0cfa116",
   "metadata": {},
   "outputs": [],
   "source": [
    "from dataclasses import dataclass, field\n",
    "import subprocess\n",
    "import json\n",
    "@dataclass\n",
    "class LeanSolver():\n",
    "    imports : list[str] = field(default_factory=list)\n",
    "    asserts : list[str] = field(default_factory=list)\n",
    "    tactic : str = \"grind\"\n",
    "    def add(self, expr: str):\n",
    "        self.asserts.append(expr)\n",
    "    def check(self):\n",
    "        with open('/tmp/test.lean', 'w') as f:\n",
    "            for imp in self.imports:\n",
    "                f.write(f'import {imp}\\n')\n",
    "            f.write(\"theorem mythm : Not (True \")\n",
    "            for expr in self.asserts:\n",
    "                f.write('  /\\\\ \\n')\n",
    "                f.write(expr)\n",
    "            f.write(f') := by {self.tactic}\\n')\n",
    "            f.write('#check mythm\\n')\n",
    "            f.flush()\n",
    "        result = subprocess.run(['lean', '--json', '/tmp/test.lean'], capture_output=True, text=True)\n",
    "        if result.returncode != 0:\n",
    "            return \"unknown\"\n",
    "            #raise ValueError(result.stderr)\n",
    "        else:\n",
    "            result = json.loads(result.stdout)\n",
    "            # just a little sanity checking.\n",
    "            assert result[\"severity\"] == \"information\"\n",
    "            assert \"mythm\" in result[\"data\"]\n",
    "            return \"unsat\""
   ]
  },
  {
   "cell_type": "code",
   "execution_count": 9,
   "id": "978dd2a2",
   "metadata": {},
   "outputs": [
    {
     "data": {
      "text/plain": [
       "'unsat'"
      ]
     },
     "execution_count": 9,
     "metadata": {},
     "output_type": "execute_result"
    }
   ],
   "source": [
    "s = LeanSolver()\n",
    "s.add(\"Not (forall x y : Nat, x + y = y + x)\")\n",
    "s.check()"
   ]
  },
  {
   "cell_type": "code",
   "execution_count": 10,
   "id": "10a85675",
   "metadata": {},
   "outputs": [
    {
     "name": "stdout",
     "output_type": "stream",
     "text": [
      "theorem mythm : Not (True   /\\ \n",
      "Not (forall x y : Nat, x + y = y + x)) := by grind\n",
      "#check mythm\n"
     ]
    }
   ],
   "source": [
    "! cat /tmp/test.lean"
   ]
  },
  {
   "cell_type": "markdown",
   "id": "9ee88bfc",
   "metadata": {},
   "source": [
    "# Printing Lean out of the Z3Py AST\n",
    "\n",
    "But really I want a drop in replacement for Z3. A interesting emergent design principle of Knuckledragger was to just use the Z3 term and formulas as my terms anbd formulas. To use other solvers, I just make a new pretty printer out of the Z3 AST. I've done this previously to emit TPTP so I can try using Vampire and E-prover and others https://github.com/philzook58/knuckledragger/blob/main/kdrag/solvers/__init__.py so I could reuse functionality from there (`BaseSolver` etc). By and large my conclusion thus far has been the delta in solving power compared to z3 combined with the remaining jankiness of the translation is just not worth it.\n",
    "\n",
    "One small translational hiccup is that SMTLib represents propositions as `Bool`, whereas Lean uses `Prop`. It is a bit confusing to even navigate the conceptual differences represented by this choice. The things in `Bool` are `true` and `false`. The things in `Prop` are the propositions themselves, which in turn hold proof objects.\n",
    "\n",
    "Some other things that are goofy in the translation\n",
    "- We need our uninterpreted sorts to have decidable equality and be inhabited\n",
    "- Accessors and recognizers are part of the theory of datatypes. Lean will not be happy about this style. I at least tried generating accessors that return a `default` value if you're in the wrong constructor.\n",
    "\n",
    "There are some ways to translate between the two in `Init.Classical` https://leanprover-community.github.io/mathlib4_docs/Init/Classical.html in particular `propDecidable` and `decide` (thanks to Cody Roux for the tips). The main place I think I need these is in `forall` and `exists` as I'm not sure what the computable version of them would be for infinite domains like `Nat`.\n",
    "\n",
    "The translation from smt code is at the end of the post and here https://github.com/philzook58/knuckledragger/blob/main/kdrag/printers/lean.py\n"
   ]
  },
  {
   "cell_type": "code",
   "execution_count": null,
   "id": "5863e194",
   "metadata": {},
   "outputs": [],
   "source": [
    "from kdrag.all import *\n",
    "import kdrag.printers.lean as lean\n",
    "from kdrag.solvers import BaseSolver, collect_sorts, collect_decls, predefined_names\n",
    "from dataclasses import dataclass, field\n",
    "import subprocess\n",
    "import json\n",
    "\n",
    "class LeanSolver(BaseSolver):\n",
    "    def __init__(self):\n",
    "        self.imports = []\n",
    "        self.tactic = \"grind\" # can replace by bv_decide or even tactic script. The string is just spliced in.\n",
    "        super().__init__()\n",
    "    def check(self):\n",
    "        with open('/tmp/test.lean', 'w') as f:\n",
    "            for imp in self.imports:\n",
    "                f.write(f'import {imp}\\n')\n",
    "            f.write(\"set_option linter.unusedVariables false\\n\") # To remove an warning\n",
    "            predefined = set()\n",
    "            # make inductive datatype definitions\n",
    "            for sort in collect_sorts(\n",
    "                self.adds + [thm for thm, name in self.assert_tracks]\n",
    "            ):\n",
    "                if isinstance(sort, smt.DatatypeSortRef):\n",
    "                    f.write(lean.of_datatype(sort))\n",
    "                    f.write(\"open \" + sort.name() + \"\\n\")\n",
    "                    for n in range(sort.num_constructors()):\n",
    "                        cons = sort.constructor(n)\n",
    "                        predefined.add(cons)\n",
    "                        for i in range(cons.arity()):\n",
    "                            f.write(lean.accessor_def(sort, n, i))   \n",
    "                            predefined.add(sort.accessor(n,i))\n",
    "                elif sort.name() not in self.predefined_sorts:\n",
    "                    f.write(lean.sort_axiom(sort))\n",
    "            # state axioms for all non predefined declarations\n",
    "            for decl in collect_decls(self.adds + [thm for thm, name in self.assert_tracks]):\n",
    "                if decl not in predefined and decl.name() not in predefined_names:\n",
    "                    f.write(lean.decl_axiom(decl))\n",
    "            # Make the actual goal\n",
    "            f.write(\"theorem mythm : Not (True \")\n",
    "            for expr in self.adds + [thm for thm, name in self.assert_tracks]:\n",
    "                f.write('  /\\\\ \\n')\n",
    "                f.write(lean.of_expr(expr))\n",
    "            f.write(f') := by {self.tactic}\\n')\n",
    "            f.write('#check mythm\\n')\n",
    "            f.flush()\n",
    "        result = subprocess.run(['lean', '--json', '/tmp/test.lean'], capture_output=True, text=True)\n",
    "        if result.returncode != 0:\n",
    "            return smt.unknown\n",
    "        else:\n",
    "            result = json.loads(result.stdout)\n",
    "            assert result[\"severity\"] == \"information\"\n",
    "            assert \"mythm\" in result[\"data\"]\n",
    "            return smt.unsat\n",
    "\n",
    "\n"
   ]
  },
  {
   "cell_type": "markdown",
   "id": "a1379804",
   "metadata": {},
   "source": [
    "Here's a simple commutativity problem"
   ]
  },
  {
   "cell_type": "code",
   "execution_count": 7,
   "id": "6324268d",
   "metadata": {},
   "outputs": [],
   "source": [
    "x,y,z = smt.Ints(\"x y z\")\n",
    "s = LeanSolver()\n",
    "s.add(smt.Not(smt.ForAll([x,y], x + y == y + x)))\n",
    "assert s.check() == smt.unsat"
   ]
  },
  {
   "cell_type": "markdown",
   "id": "5181ffe2",
   "metadata": {},
   "source": [
    "This is what it generates. Somewhat ugly lean."
   ]
  },
  {
   "cell_type": "code",
   "execution_count": 8,
   "id": "8596070f",
   "metadata": {},
   "outputs": [
    {
     "name": "stdout",
     "output_type": "stream",
     "text": [
      "set_option linter.unusedVariables false\n",
      "theorem mythm : Not (True   /\\ \n",
      "(not (Classical.propDecidable (∀ (x : Int) (y : Int), (((x : Int) + (y : Int)) = ((y : Int) + (x : Int))))).decide)) := by grind\n",
      "#check mythm\n"
     ]
    }
   ],
   "source": [
    "! cat /tmp/test.lean"
   ]
  },
  {
   "cell_type": "markdown",
   "id": "c6d9fec5",
   "metadata": {},
   "source": [
    "But the output cleans it up a little of you want to see it."
   ]
  },
  {
   "cell_type": "code",
   "execution_count": 9,
   "id": "3f09caa3",
   "metadata": {},
   "outputs": [
    {
     "name": "stdout",
     "output_type": "stream",
     "text": [
      "mythm : ¬(True ∧ (!decide (∀ (x y : Int), x + y = y + x)) = true)\n"
     ]
    }
   ],
   "source": [
    "! lean /tmp/test.lean "
   ]
  },
  {
   "cell_type": "markdown",
   "id": "2ff9dacc",
   "metadata": {},
   "source": [
    "Here's a pile of little queries just to sanity check the thing. I haven't used it at much scale and there are definitely remaining problems."
   ]
  },
  {
   "cell_type": "code",
   "execution_count": 4,
   "id": "0e93229c",
   "metadata": {},
   "outputs": [],
   "source": [
    "s = LeanSolver()\n",
    "x,y,z = smt.Bools(\"x y z\")\n",
    "s.add(smt.Not(smt.ForAll([x], x == x)))\n",
    "assert s.check() == smt.unsat\n",
    "\n",
    "x,y,z = smt.Ints(\"x y z\")\n",
    "s = LeanSolver()\n",
    "s.add(smt.Not(smt.ForAll([x,y], x + y == y + x)))\n",
    "assert s.check() == smt.unsat\n",
    "\n",
    "s = LeanSolver()\n",
    "s.add(smt.Not(smt.ForAll([x,y], x + 1 >= x)))\n",
    "s.check()\n",
    "\n",
    "\n",
    "s = LeanSolver()\n",
    "x,y,z = smt.Bools(\"x y z\")\n",
    "s.add(smt.Not(smt.Implies(smt.And(x, y), x)))\n",
    "s.check()\n",
    "\n",
    "s = LeanSolver()\n",
    "x,y,z = smt.Bools(\"x y z\")\n",
    "s.add(smt.Not(smt.Implies(smt.Or(x, y), x)))\n",
    "assert s.check() != smt.unsat\n",
    "\n",
    "s = LeanSolver()\n",
    "x,y,z = smt.Bools(\"x y z\")\n",
    "s.add(smt.Not(smt.Implies(x, smt.Or(x, y, z))))\n",
    "assert s.check() == smt.unsat\n",
    "\n",
    "def testit(expr):\n",
    "    s = LeanSolver()\n",
    "    s.add(expr)\n",
    "    res = s.check()\n",
    "    assert res == smt.unsat, f\"Expected unsat, got {res} for {expr}\"\n",
    "\n",
    "testit(smt.Not(smt.ForAll([x,y], x + y == y + x)))\n",
    "\n",
    "x,y,z = smt.BitVecs(\"x y z\", 8)\n",
    "testit(smt.Not(smt.ForAll([x,y], x + y == y + x)))\n",
    "testit(smt.Not(smt.ForAll([x,y], x | x == x)))\n",
    "\n",
    "\n",
    "# uninterpreted functions\n",
    "x,y,z = smt.Ints(\"x y z\")\n",
    "f = smt.Function(\"f\", smt.IntSort(), smt.IntSort())\n",
    "s = LeanSolver()\n",
    "s.add(smt.ForAll([x], f(x) == x))\n",
    "s.add(smt.Not(f(f(y)) == y))\n",
    "assert s.check() == smt.unsat\n",
    "\n",
    "\n",
    "# Uninterpreted sorts\n",
    "S = smt.DeclareSort(\"S\")\n",
    "n = smt.Const(\"n\", S)\n",
    "f = smt.Function(\"f\", S, S)\n",
    "s = LeanSolver()\n",
    "s.add(f(n) == n)\n",
    "s.add(f(f(n)) != n)\n",
    "assert s.check() == smt.unsat\n",
    "\n",
    "# Inductive Datatypes\n",
    "#from kdrag.theories.nat import Nat\n",
    "MyNat = smt.Datatype(\"MyNat\")\n",
    "MyNat.declare(\"Z\")\n",
    "MyNat.declare(\"S\", (\"pred\", MyNat))\n",
    "MyNat = MyNat.create()\n",
    "n = smt.Const(\"n\", MyNat)\n",
    "\n",
    "s = LeanSolver()\n",
    "\n",
    "s.add(smt.Not(smt.ForAll([n], MyNat.S(n).pred == n)))\n",
    "assert s.check() == smt.unsat\n"
   ]
  },
  {
   "cell_type": "markdown",
   "id": "29a6660e",
   "metadata": {},
   "source": [
    "It's not all rosy. You can put your foot into potholes pretty fast. Maybe there is a way to fix it. It seems like this existential goal trips it up. Maybe a little fiddling would fix it."
   ]
  },
  {
   "cell_type": "code",
   "execution_count": 5,
   "id": "d6724952",
   "metadata": {},
   "outputs": [
    {
     "data": {
      "text/html": [
       "<b>unknown</b>"
      ],
      "text/plain": [
       "unknown"
      ]
     },
     "execution_count": 5,
     "metadata": {},
     "output_type": "execute_result"
    }
   ],
   "source": [
    "s = LeanSolver()\n",
    "s.add(smt.Not(smt.Exists([n], n.pred == MyNat.Z))) # can't do this one?\n",
    "s.check()\n"
   ]
  },
  {
   "cell_type": "code",
   "execution_count": 6,
   "id": "a7efdf39",
   "metadata": {},
   "outputs": [
    {
     "name": "stdout",
     "output_type": "stream",
     "text": [
      "set_option linter.unusedVariables false\n",
      "inductive MyNat : Type where\n",
      "| Z : MyNat\n",
      "| S : MyNat -> MyNat\n",
      "deriving BEq, Inhabited, Repr, DecidableEq, Inhabited\n",
      "open MyNat\n",
      "\n",
      "@[grind]\n",
      "def pred : MyNat -> MyNat\n",
      "| .S x => x \n",
      "| _ => default\n",
      "\n",
      "theorem mythm : Not (True   /\\ \n",
      "(not (Classical.propDecidable (∃ (n : MyNat), ((pred (n : MyNat)) = (Z : MyNat)))).decide)) := by grind\n",
      "#check mythm\n"
     ]
    }
   ],
   "source": [
    "! cat /tmp/test.lean"
   ]
  },
  {
   "cell_type": "code",
   "execution_count": 6,
   "id": "9231f1b7",
   "metadata": {},
   "outputs": [
    {
     "name": "stdout",
     "output_type": "stream",
     "text": [
      "/tmp/test.lean:14:98: error: `grind` failed\n",
      "case grind\n",
      "h : ∀ (x : MyNat), ¬pred x = Z\n",
      "⊢ False\n",
      "[grind] Goal diagnostics\n",
      "  [facts] Asserted facts\n",
      "    [prop] ∀ (x : MyNat), ¬pred x = Z\n",
      "  [eqc] True propositions\n",
      "    [prop] ∀ (x : MyNat), ¬pred x = Z\n",
      "  [ematch] E-matching patterns\n",
      "    [thm] h: [pred #0]\n",
      "    [thm] h: [pred #0]\n",
      "mythm : ¬(True ∧ (!decide (∃ n, pred n = Z)) = true)\n"
     ]
    }
   ],
   "source": [
    "! lean /tmp/test.lean"
   ]
  },
  {
   "cell_type": "markdown",
   "id": "63666dc9",
   "metadata": {},
   "source": [
    "# Bits and Bobbles\n",
    "\n",
    "Isabelle can be used a similar way, see below.\n",
    "\n",
    "Maybe a less antisocial thing for me to do would be to add a Lean backend to PySMT. https://github.com/pysmt/pysmt . PySMT does not bring me joy, sorry.\n",
    "\n",
    "Some smt resources\n",
    "- https://colab.research.google.com/github/philzook58/z3_tutorial/blob/master/Z3%20Tutorial.ipynb\n",
    "- https://microsoft.github.io/z3guide/docs/logic/intro/\n",
    "- https://cvc5.github.io/tutorials/beginners/\n",
    "- https://smt.st/\n",
    "- \n",
    "\n",
    "Lean-smt https://github.com/ufmg-smite/lean-smt https://arxiv.org/abs/2505.15796 must have already spanned the smt-lean gap in multiple ways. I'm trying to really go the other direction, the dual of lean-smt. I wonder if I can leverage that? Libraries are problematic in Lean and for my purposes \n",
    "\n",
    "Lean as an smt solver.\n",
    "\n",
    "SMT -> lean printer\n",
    "Wrap in solver object\n",
    "lemma.ipynb might have stuff\n",
    "\n",
    "If you're like me, maybe this is a way to dip your toe into that Lean hotness.\n",
    "\n",
    "Maybe my story is \"deep math in lean\"\n",
    "\"shallow math in knuckeldragger\"\n",
    "\n",
    "lean is a fun and natural extraction target also for knuckeldragger. I can dynlink into it to get fast execution of knuckledragger. A truly perverse architecture.\n",
    "\n",
    "Not sure what to do about Reals. mathlib has em. Lean Std don't. Does grind even recognize anything special?\n",
    "\n",
    "Lean might also be useful as a well packaged termination checker, something I've punted on for a while. I included aprove, but never did much with it. It isn't clear how to use aprove without exposing all definitions. Maybe that's the thing to do.\n",
    "\n",
    "It is nice when grind isn't working to flip into interactive lean to try to figure out why. Sometimes it doesn't have enough, sometimes the thing you said is wrong. I hope knuckeldragger might be useful in a similar way for SMTLIB. I needed to build by backward tactic system to understand where the solver go stumped (in addition to figuring out the write induction hypotheses and stuff) or get convinced how I stated the wrong goal.\n",
    "\n"
   ]
  },
  {
   "cell_type": "code",
   "execution_count": 8,
   "id": "28975a05",
   "metadata": {},
   "outputs": [
    {
     "name": "stdout",
     "output_type": "stream",
     "text": [
      "Overwriting /tmp/test.lean\n"
     ]
    }
   ],
   "source": [
    "%%file /tmp/test.lean\n",
    "\n",
    "theorem mythm (x y : Nat) : x + y = y + x := by grind\n",
    "#check mythm\n"
   ]
  },
  {
   "cell_type": "code",
   "execution_count": 9,
   "id": "3057ee9d",
   "metadata": {},
   "outputs": [
    {
     "name": "stdout",
     "output_type": "stream",
     "text": [
      "{\"severity\":\"information\",\"pos\":{\"line\":3,\"column\":0},\"kind\":\"[anonymous]\",\"keepFullRange\":false,\"isSilent\":false,\"fileName\":\"/tmp/test.lean\",\"endPos\":{\"line\":3,\"column\":6},\"data\":\"mythm (x y : Nat) : x + y = y + x\",\"caption\":\"\"}\n"
     ]
    }
   ],
   "source": [
    "! lean --json /tmp/test.lean"
   ]
  },
  {
   "cell_type": "code",
   "execution_count": 84,
   "id": "9330e980",
   "metadata": {},
   "outputs": [
    {
     "name": "stdout",
     "output_type": "stream",
     "text": [
      "Overwriting /tmp/test.lean\n"
     ]
    }
   ],
   "source": [
    "%%file /tmp/test.lean\n",
    "\n",
    "#eval 1 + 1\n"
   ]
  },
  {
   "cell_type": "markdown",
   "id": "782fc55f",
   "metadata": {},
   "source": [
    "It's pretty slow. It's dominated by lean boot time I think at least for trivial queries. Haven't dug into depth. pypantograph or something that keeps a live lean session would be faster."
   ]
  },
  {
   "cell_type": "code",
   "execution_count": 86,
   "id": "53df0c14",
   "metadata": {},
   "outputs": [
    {
     "name": "stdout",
     "output_type": "stream",
     "text": [
      "196 ms ± 6.31 ms per loop (mean ± std. dev. of 7 runs, 10 loops each)\n"
     ]
    }
   ],
   "source": [
    "%%timeit\n",
    "result = subprocess.run(['lean', '--json', '/tmp/test.lean'], capture_output=True, text=True)"
   ]
  },
  {
   "cell_type": "code",
   "execution_count": 87,
   "id": "fd82c338",
   "metadata": {},
   "outputs": [
    {
     "name": "stdout",
     "output_type": "stream",
     "text": [
      "Overwriting /tmp/test.lean\n"
     ]
    }
   ],
   "source": [
    "%%file /tmp/test.lean\n",
    "\n",
    "def mytheorem (x y : Nat) : x + y = y + x := by grind\n"
   ]
  },
  {
   "cell_type": "code",
   "execution_count": 88,
   "id": "8a1dab80",
   "metadata": {},
   "outputs": [
    {
     "name": "stdout",
     "output_type": "stream",
     "text": [
      "195 ms ± 10.9 ms per loop (mean ± std. dev. of 7 runs, 1 loop each)\n"
     ]
    }
   ],
   "source": [
    "%%timeit\n",
    "result = subprocess.run(['lean', '--json', '/tmp/test.lean'], capture_output=True, text=True)"
   ]
  },
  {
   "cell_type": "code",
   "execution_count": 89,
   "id": "dc9686b7",
   "metadata": {},
   "outputs": [
    {
     "name": "stdout",
     "output_type": "stream",
     "text": [
      "1.1 ms ± 14.4 μs per loop (mean ± std. dev. of 7 runs, 1,000 loops each)\n"
     ]
    }
   ],
   "source": [
    "%%timeit\n",
    "result = subprocess.run(['echo', 'hello world'], capture_output=True, text=True)"
   ]
  },
  {
   "cell_type": "code",
   "execution_count": null,
   "id": "fc6650f4",
   "metadata": {},
   "outputs": [
    {
     "data": {
      "text/plain": [
       "CompletedProcess(args=['echo', 'hello world'], returncode=0, stdout='hello world\\n', stderr='')"
      ]
     },
     "execution_count": 91,
     "metadata": {},
     "output_type": "execute_result"
    }
   ],
   "source": []
  },
  {
   "cell_type": "markdown",
   "id": "34afb7d7",
   "metadata": {},
   "source": [
    "try out some of my z3 tutorial stuff.\n"
   ]
  },
  {
   "cell_type": "code",
   "execution_count": null,
   "id": "d4edb536",
   "metadata": {},
   "outputs": [
    {
     "ename": "AssertionError",
     "evalue": "Expected unsat, got unknown for Not(ForAll([x, y], x + 1 >= x))",
     "output_type": "error",
     "traceback": [
      "\u001b[31m---------------------------------------------------------------------------\u001b[39m",
      "\u001b[31mAssertionError\u001b[39m                            Traceback (most recent call last)",
      "\u001b[36mCell\u001b[39m\u001b[36m \u001b[39m\u001b[32mIn[2]\u001b[39m\u001b[32m, line 74\u001b[39m\n\u001b[32m     72\u001b[39m testit(smt.Not(smt.ForAll([x,y], x + y == y + x)))\n\u001b[32m     73\u001b[39m testit(smt.Not(smt.ForAll([x,y], x | x == x)))\n\u001b[32m---> \u001b[39m\u001b[32m74\u001b[39m \u001b[43mtestit\u001b[49m\u001b[43m(\u001b[49m\u001b[43msmt\u001b[49m\u001b[43m.\u001b[49m\u001b[43mNot\u001b[49m\u001b[43m(\u001b[49m\u001b[43msmt\u001b[49m\u001b[43m.\u001b[49m\u001b[43mForAll\u001b[49m\u001b[43m(\u001b[49m\u001b[43m[\u001b[49m\u001b[43mx\u001b[49m\u001b[43m,\u001b[49m\u001b[43my\u001b[49m\u001b[43m]\u001b[49m\u001b[43m,\u001b[49m\u001b[43m \u001b[49m\u001b[43mx\u001b[49m\u001b[43m \u001b[49m\u001b[43m+\u001b[49m\u001b[43m \u001b[49m\u001b[32;43m1\u001b[39;49m\u001b[43m \u001b[49m\u001b[43m>\u001b[49m\u001b[43m=\u001b[49m\u001b[43m \u001b[49m\u001b[43mx\u001b[49m\u001b[43m)\u001b[49m\u001b[43m)\u001b[49m\u001b[43m)\u001b[49m\n",
      "\u001b[36mCell\u001b[39m\u001b[36m \u001b[39m\u001b[32mIn[2]\u001b[39m\u001b[32m, line 42\u001b[39m, in \u001b[36mtestit\u001b[39m\u001b[34m(expr)\u001b[39m\n\u001b[32m     40\u001b[39m s.add(expr)\n\u001b[32m     41\u001b[39m res = s.check()\n\u001b[32m---> \u001b[39m\u001b[32m42\u001b[39m \u001b[38;5;28;01massert\u001b[39;00m res == smt.unsat, \u001b[33mf\u001b[39m\u001b[33m\"\u001b[39m\u001b[33mExpected unsat, got \u001b[39m\u001b[38;5;132;01m{\u001b[39;00mres\u001b[38;5;132;01m}\u001b[39;00m\u001b[33m for \u001b[39m\u001b[38;5;132;01m{\u001b[39;00mexpr\u001b[38;5;132;01m}\u001b[39;00m\u001b[33m\"\u001b[39m\n",
      "\u001b[31mAssertionError\u001b[39m: Expected unsat, got unknown for Not(ForAll([x, y], x + 1 >= x))"
     ]
    }
   ],
   "source": [
    "\n",
    "\n"
   ]
  },
  {
   "cell_type": "code",
   "execution_count": 9,
   "id": "20186d0f",
   "metadata": {},
   "outputs": [
    {
     "name": "stdout",
     "output_type": "stream",
     "text": [
      "set_option linter.unusedVariables false\n",
      "theorem mythm : Not (True   /\\ \n",
      "(not (Classical.propDecidable (∀ (x : (BitVec 8)) (y : (BitVec 8)), ((bvadd (x : (BitVec 8)) (y : (BitVec 8))) = (bvadd (y : (BitVec 8)) (x : (BitVec 8)))))).decide)) := by grind\n",
      "#check mythm\n"
     ]
    }
   ],
   "source": [
    "! cat /tmp/test.lean"
   ]
  },
  {
   "cell_type": "markdown",
   "id": "163e99d6",
   "metadata": {},
   "source": [
    "## Py pantograph\n",
    "Pantograph is a more complete lean binding that can take in strings. This might be a better for faster thing than opening up new processes, but otherwise for my purposes feels about the same?\n",
    "\n",
    "https://github.com/stanford-centaur/PyPantograph\n",
    "\n",
    "https://arxiv.org/abs/2410.16429"
   ]
  },
  {
   "cell_type": "code",
   "execution_count": 77,
   "id": "f16b73a8",
   "metadata": {},
   "outputs": [
    {
     "name": "stdout",
     "output_type": "stream",
     "text": [
      "p✝ : Prop\n",
      "⊢ ∀ (q : Prop), p✝ ∨ q → q ∨ p✝\n"
     ]
    }
   ],
   "source": [
    "import nest_asyncio\n",
    "nest_asyncio.apply() # some funkiness about async using in a jupyuter notebook.\n",
    "from pantograph.server import Server\n",
    "server = Server()#imports=['Init'])\n",
    "state0 = server.goal_start(\"forall (p q: Prop), Or p q -> Or q p\")\n",
    "state1 = server.goal_tactic(state0, goal_id=0, tactic=\"intro\")\n",
    "print(state1)"
   ]
  },
  {
   "cell_type": "code",
   "execution_count": null,
   "id": "3e5f078c",
   "metadata": {},
   "outputs": [],
   "source": [
    "from pantograph.server import Server\n",
    "server = Server()#imports=['Init'])\n",
    "state0 = server.goal_start(\"forall (p q: Prop), Or p q -> Or q p\")\n",
    "print(state0.goals)\n",
    "state1 = server.goal_tactic(state0, goal_id=0, tactic=\"grind\")\n",
    "state1.goals"
   ]
  },
  {
   "cell_type": "code",
   "execution_count": null,
   "id": "2d7839bf",
   "metadata": {},
   "outputs": [],
   "source": [
    "server = Server()#imports=['Init'])\n",
    "state0 = server.goal_start(\"forall (p q: Prop), Or q p -> p\")\n",
    "print(state0.goals)\n",
    "state1 = server.goal_tactic(state0, goal_id=0, tactic=\"grind\")\n",
    "state1.goals"
   ]
  },
  {
   "cell_type": "code",
   "execution_count": null,
   "id": "40607f01",
   "metadata": {},
   "outputs": [],
   "source": [
    "from kdrag.all import *\n",
    "class LeanSolver():\n",
    "    def __init__(self):\n",
    "        self.server = Server()\n",
    "        self.goals\n",
    "    def add(self, goal):\n",
    "        self.goals.append(goal)\n",
    "    def check(self):\n",
    "        state0 = self.server.goal_start(smt.Not(smt.And(self.goals)))\n",
    "        try:\n",
    "            state1 = self.server.goal_tactic(state0, goal_id=0, tactic=\"grind\")\n",
    "            if len(state1.goals) == 0:\n",
    "                return smt.unsat\n",
    "            else:\n",
    "                return smt.unknown\n",
    "        except Exception as e:\n",
    "            return smt.unknown\n"
   ]
  },
  {
   "cell_type": "markdown",
   "id": "12f03135",
   "metadata": {},
   "source": [
    "A different direction to go is import of Lean theorems. Somehow convert them to smtlib\n",
    "\n",
    "https://arxiv.org/pdf/2505.15796 "
   ]
  },
  {
   "cell_type": "code",
   "execution_count": null,
   "id": "724beb1a",
   "metadata": {},
   "outputs": [],
   "source": []
  },
  {
   "cell_type": "markdown",
   "id": "447eb486",
   "metadata": {},
   "source": [
    "## Isabelle\n",
    "\n",
    "I tried a while back top use Isabelle in a similar wya.\n",
    "I'm just not as familiar with it.\n",
    "Isabelle does have a reputation of being some of the best automation available for an ITP\n",
    "\n",
    "isabelle process -T"
   ]
  },
  {
   "cell_type": "code",
   "execution_count": 3,
   "id": "fe8d7610",
   "metadata": {},
   "outputs": [
    {
     "name": "stdout",
     "output_type": "stream",
     "text": [
      "\n",
      "Usage: isabelle tptp_sledgehammer TIMEOUT FILES\n",
      "\n",
      "  Runs Sledgehammer on TPTP problems.\n",
      "  Each problem is allocated at most TIMEOUT seconds.\n",
      "\n"
     ]
    }
   ],
   "source": [
    "! ~/Downloads/Isabelle2025_linux/Isabelle2025/bin/isabelle tptp_sledgehammer"
   ]
  },
  {
   "cell_type": "code",
   "execution_count": 79,
   "id": "b1785cb3",
   "metadata": {},
   "outputs": [
    {
     "name": "stdout",
     "output_type": "stream",
     "text": [
      "Overwriting /tmp/Test.thy\n"
     ]
    }
   ],
   "source": [
    "%%file /tmp/Test.thy\n",
    "\n",
    "theory Test\n",
    "    imports Main\n",
    "begin\n",
    "\n",
    "theorem mytheorem: \" 1 + 1 = 2\" by auto\n",
    "theorem mytheorem2: \" 1 + 1 = 2\" \n",
    "    sledgehammer\n",
    "    by auto\n",
    "\n",
    "end\n",
    "\n",
    "\n"
   ]
  },
  {
   "cell_type": "markdown",
   "id": "423b0268",
   "metadata": {},
   "source": [
    "The bootup time for Isabelle seems a bit slow (3s). Would probably want it being kept online, which complicates things."
   ]
  },
  {
   "cell_type": "code",
   "execution_count": 78,
   "id": "628f8098",
   "metadata": {},
   "outputs": [
    {
     "name": "stdout",
     "output_type": "stream",
     "text": [
      "Loading theory \"Draft.Test\"\n",
      "Sledgehammering...\n",
      "### theory \"Draft.Test\"\n",
      "### 0.064s elapsed time, 0.100s cpu time, 0.000s GC time\n",
      "*** Outer syntax error (line 12 of \"/tmp/Test.thy\"): command expected,\n",
      "*** but symbolic identifier # (line 12 of \"/tmp/Test.thy\") was found\n",
      "*** At command \"<malformed>\" (line 11 of \"/tmp/Test.thy\")\n",
      "Exception- TOPLEVEL_ERROR raised\n"
     ]
    }
   ],
   "source": [
    "! cd /tmp && ~/Downloads/Isabelle2025_linux/Isabelle2025/bin/isabelle process -T Test"
   ]
  },
  {
   "cell_type": "code",
   "execution_count": 6,
   "id": "12b845ee",
   "metadata": {},
   "outputs": [
    {
     "ename": "Exception",
     "evalue": "('Unexpected return from solver', b'')",
     "output_type": "error",
     "traceback": [
      "\u001b[31m---------------------------------------------------------------------------\u001b[39m",
      "\u001b[31mException\u001b[39m                                 Traceback (most recent call last)",
      "\u001b[36mCell\u001b[39m\u001b[36m \u001b[39m\u001b[32mIn[6]\u001b[39m\u001b[32m, line 22\u001b[39m\n\u001b[32m     20\u001b[39m p,q = smt.Bools(\u001b[33m\"\u001b[39m\u001b[33mp q\u001b[39m\u001b[33m\"\u001b[39m)\n\u001b[32m     21\u001b[39m s.add(smt.Implies(smt.Or(p, q), smt.Or(q, p)))\n\u001b[32m---> \u001b[39m\u001b[32m22\u001b[39m \u001b[43ms\u001b[49m\u001b[43m.\u001b[49m\u001b[43mcheck\u001b[49m\u001b[43m(\u001b[49m\u001b[43m)\u001b[49m\n",
      "\u001b[36mCell\u001b[39m\u001b[36m \u001b[39m\u001b[32mIn[6]\u001b[39m\u001b[32m, line 15\u001b[39m, in \u001b[36mIsabelleSolver.check\u001b[39m\u001b[34m(self)\u001b[39m\n\u001b[32m     12\u001b[39m \u001b[38;5;66;03m#if \"timeout\" in self.options:\u001b[39;00m\n\u001b[32m     13\u001b[39m \u001b[38;5;66;03m#    cmd.extend([\"-t\", str(self.options[\"timeout\"] // 100) + \"d\"])\u001b[39;00m\n\u001b[32m     14\u001b[39m \u001b[38;5;28mself\u001b[39m.res = subprocess.run(cmd, stdout=subprocess.PIPE, stderr=subprocess.PIPE)\n\u001b[32m---> \u001b[39m\u001b[32m15\u001b[39m \u001b[38;5;28;01mreturn\u001b[39;00m \u001b[38;5;28;43mself\u001b[39;49m\u001b[43m.\u001b[49m\u001b[43mcheck_tptp_status\u001b[49m\u001b[43m(\u001b[49m\u001b[38;5;28;43mself\u001b[39;49m\u001b[43m.\u001b[49m\u001b[43mres\u001b[49m\u001b[43m.\u001b[49m\u001b[43mstdout\u001b[49m\u001b[43m)\u001b[49m\n",
      "\u001b[36mFile \u001b[39m\u001b[32m~/Documents/python/knuckledragger/kdrag/solvers/__init__.py:433\u001b[39m, in \u001b[36mBaseSolver.check_tptp_status\u001b[39m\u001b[34m(self, res)\u001b[39m\n\u001b[32m    431\u001b[39m     \u001b[38;5;28;01mreturn\u001b[39;00m smt.unknown\n\u001b[32m    432\u001b[39m \u001b[38;5;28;01melse\u001b[39;00m:\n\u001b[32m--> \u001b[39m\u001b[32m433\u001b[39m     \u001b[38;5;28;01mraise\u001b[39;00m \u001b[38;5;167;01mException\u001b[39;00m(\u001b[33m\"\u001b[39m\u001b[33mUnexpected return from solver\u001b[39m\u001b[33m\"\u001b[39m, res)\n",
      "\u001b[31mException\u001b[39m: ('Unexpected return from solver', b'')"
     ]
    }
   ],
   "source": [
    "from kdrag.solvers import BaseSolver\n",
    "class IsabelleSolver(BaseSolver):\n",
    "    def __init__(self):\n",
    "        super().__init__()\n",
    "\n",
    "    def check(self):\n",
    "        self.write_tptp(\"/tmp/isabelle.p\")\n",
    "        cmd = [\n",
    "            \"/home/philip/Downloads/Isabelle2025_linux/Isabelle2025/bin/isabelle\",  \"tptp_sledgehammer\",\n",
    "            \"/tmp/isabelle.p\",\n",
    "        ]\n",
    "        #if \"timeout\" in self.options:\n",
    "        #    cmd.extend([\"-t\", str(self.options[\"timeout\"] // 100) + \"d\"])\n",
    "        self.res = subprocess.run(cmd, stdout=subprocess.PIPE, stderr=subprocess.PIPE)\n",
    "        return self.check_tptp_status(self.res.stdout)\n",
    "\n",
    "s = IsabelleSolver()\n",
    "#x,y = smt.Ints(\"x y\")\n",
    "#s.add(smt.Not(smt.ForAll([x,y], x + y == y + x)))\n",
    "p,q = smt.Bools(\"p q\")\n",
    "s.add(smt.Implies(smt.Or(p, q), smt.Or(q, p)))\n",
    "s.check()"
   ]
  },
  {
   "cell_type": "code",
   "execution_count": 95,
   "id": "e49bfd64",
   "metadata": {},
   "outputs": [
    {
     "data": {
      "text/html": [
       "Int"
      ],
      "text/plain": [
       "Int"
      ]
     },
     "execution_count": 95,
     "metadata": {},
     "output_type": "execute_result"
    }
   ],
   "source": [
    "from kdrag.all  import *\n",
    "f = smt.Function(\"f\", smt.IntSort(), smt.IntSort(), smt.BoolSort())\n",
    "f.domain(0)"
   ]
  },
  {
   "cell_type": "code",
   "execution_count": 10,
   "id": "955f6595",
   "metadata": {},
   "outputs": [
    {
     "data": {
      "text/html": [
       "pred"
      ],
      "text/plain": [
       "pred"
      ]
     },
     "execution_count": 10,
     "metadata": {},
     "output_type": "execute_result"
    }
   ],
   "source": [
    "from kdrag.theories.nat import Nat\n",
    "dir(Nat)\n",
    "Nat.accessor(1,0)"
   ]
  },
  {
   "cell_type": "markdown",
   "id": "273b85f5",
   "metadata": {},
   "source": [
    "# A Copy of the lean printing code\n",
    "This version will continue to evolve if this proves to be useful https://github.com/philzook58/knuckledragger/blob/main/kdrag/printers/lean.py\n"
   ]
  },
  {
   "cell_type": "code",
   "execution_count": null,
   "id": "8a1146e4",
   "metadata": {},
   "outputs": [],
   "source": [
    "import kdrag.smt as smt\n",
    "import kdrag as kd\n",
    "import subprocess\n",
    "\n",
    "\n",
    "def decl_sig(f: smt.FuncDeclRef) -> str:\n",
    "    \"\"\"\n",
    "    Convert a function declaration to a Lean signature.\n",
    "\n",
    "    >>> f = smt.Function(\"f\", smt.IntSort(), smt.IntSort(), smt.BoolSort())\n",
    "    >>> decl_sig(f)\n",
    "    'f : Int -> Int -> Bool'\n",
    "    \"\"\"\n",
    "    typs = [f.domain(n) for n in range(f.arity())] + [f.range()]\n",
    "    typ = \" -> \".join(map(of_sort, typs))\n",
    "    return f\"{f.name()} : {typ}\"\n",
    "\n",
    "\n",
    "def decl_axiom(f: smt.FuncDeclRef) -> str:\n",
    "    \"\"\"\n",
    "    Convert a function declaration to a Lean axiom definition.\n",
    "\n",
    "    >>> f = smt.Function(\"f\", smt.IntSort(), smt.IntSort(), smt.BoolSort())\n",
    "    >>> decl_axiom(f)\n",
    "    'axiom f : Int -> Int -> Bool\\\\n'\n",
    "    \"\"\"\n",
    "    return f\"axiom {decl_sig(f)}\\n\"\n",
    "\n",
    "\n",
    "def sort_axiom(s: smt.SortRef) -> str:\n",
    "    \"\"\"\n",
    "    Convert uninterpreted sort to a Lean axiom definition.\n",
    "    \"\"\"\n",
    "    name = s.name()\n",
    "    assert name not in [\"Bool\", \"Int\"]\n",
    "    return f\"\"\"\n",
    "axiom {name} : Type\n",
    "axiom {name}_Inhabited : Inhabited {name}\n",
    "axiom {name}_BEq : BEq {name}\n",
    "axiom {name}_DecidableEq : DecidableEq {name}\n",
    "\n",
    "\"\"\"\n",
    "\n",
    "\n",
    "def of_sort(s: smt.SortRef) -> str:\n",
    "    \"\"\"\n",
    "    Convert a sort to a Lean type.\n",
    "\n",
    "    >>> of_sort(smt.BoolSort())\n",
    "    'Bool'\n",
    "    >>> of_sort(smt.BitVecSort(8))\n",
    "    '(BitVec 8)'\n",
    "    >>> of_sort(smt.ArraySort(smt.BitVecSort(8), smt.BitVecSort(16)))\n",
    "    '((BitVec 8) -> (BitVec 16))'\n",
    "    \"\"\"\n",
    "    if s == smt.BoolSort():\n",
    "        return \"Bool\"\n",
    "    elif isinstance(s, smt.BitVecSortRef):\n",
    "        return f\"(BitVec {s.size()})\"\n",
    "    elif s == smt.IntSort():\n",
    "        return \"Int\"\n",
    "    elif s == smt.StringSort():\n",
    "        return \"String\"\n",
    "    elif isinstance(s, smt.SeqSortRef):\n",
    "        return f\"(Array {of_sort(s.basis())})\"\n",
    "    elif isinstance(s, smt.ArraySortRef):\n",
    "        # TODO: multi arity\n",
    "        return f\"({of_sort(s.domain())} -> {of_sort(s.range())})\"\n",
    "    else:\n",
    "        return s.name()\n",
    "        # raise NotImplementedError(f\"Cannot convert {s} to Lean type\")\n",
    "\n",
    "\n",
    "def of_datatype(dt: smt.DatatypeSortRef) -> str:\n",
    "    \"\"\"\n",
    "    Convert a datatype to a Lean inductive type definition.\n",
    "\n",
    "    >>> Nat = smt.Datatype(\"Nat\")\n",
    "    >>> Nat.declare(\"Zero\")\n",
    "    >>> Nat.declare(\"Succ\", (\"pred\", Nat))\n",
    "    >>> Nat = Nat.create()\n",
    "    >>> of_datatype(Nat)\n",
    "    'inductive Nat : Type where\\\\n| Zero : Nat\\\\n| Succ : Nat -> Nat\\\\nderiving BEq, Inhabited, Repr, DecidableEq\\\\n'\n",
    "    \"\"\"\n",
    "    name = dt.name()\n",
    "    output = [f\"inductive {name} : Type where\"]\n",
    "    for n in range(dt.num_constructors()):\n",
    "        cons = dt.constructor(n)\n",
    "        output.append(f\"| {decl_sig(cons)}\")\n",
    "    output.append(\"deriving BEq, Inhabited, Repr, DecidableEq, Inhabited\\n\")\n",
    "    return \"\\n\".join(output)\n",
    "\n",
    "\n",
    "def accessor_def(dt: smt.DatatypeSortRef, n, i) -> str:\n",
    "    \"\"\"\n",
    "    Make a lean definition that matches accessor, otherwise returns default.\n",
    "    This might not be a perfect translation of accessor behavior in SMTLIB\n",
    "    \"\"\"\n",
    "\n",
    "    cons = dt.constructor(n)\n",
    "    acc = dt.accessor(n, i)\n",
    "    pargs = \" \".join([\"_\" if j != i else \"x\" for j in range(cons.arity())])\n",
    "    return f\"\"\"\n",
    "@[grind]\n",
    "def {decl_sig(acc)}\n",
    "| .{dt.constructor(n).name()} {pargs} => x \n",
    "| _ => default\n",
    "\n",
    "\"\"\"\n",
    "\n",
    "\n",
    "def of_expr(e: smt.ExprRef):\n",
    "    \"\"\"\n",
    "\n",
    "    >>> x,y,z = smt.Ints(\"x y z\")\n",
    "    >>> of_expr(x)\n",
    "    '(x : Int)'\n",
    "    >>> of_expr(x + y + z)\n",
    "    '(((x : Int) + (y : Int)) + (z : Int))'\n",
    "    >>> of_expr(smt.If(x == x, y, z))\n",
    "    '(if ((x : Int) = (x : Int)) then (y : Int) else (z : Int))'\n",
    "    \"\"\"\n",
    "    if isinstance(e, smt.QuantifierRef):\n",
    "        vs, body = kd.utils.open_binder_unhygienic(e)\n",
    "        vs = \" \".join([f\"({v.decl().name()} : {of_sort(v.sort())})\" for v in vs])\n",
    "        body = of_expr(body)\n",
    "        if e.is_forall():\n",
    "            return f\"(Classical.propDecidable (∀ {vs}, {body})).decide\"\n",
    "        elif e.is_exists():\n",
    "            return f\"(Classical.propDecidable (∃ {vs}, {body})).decide\"\n",
    "        elif e.is_lambda():\n",
    "            return f\"(λ {vs}, {body})\"\n",
    "        else:\n",
    "            raise NotImplementedError(\n",
    "                \"Cannot convert unknown quantifier to Lean expression.\"\n",
    "            )\n",
    "    if isinstance(e, smt.IntNumRef):\n",
    "        return str(e.as_long())\n",
    "    elif isinstance(e, smt.BitVecNumRef):\n",
    "        return f\"{e.as_long()}#{e.size()}\"\n",
    "    elif smt.is_app(e):\n",
    "        decl = e.decl()\n",
    "        name = decl.name()\n",
    "        args = [of_expr(arg) for arg in e.children()]\n",
    "        if smt.is_select(e):\n",
    "            assert len(args) == 2\n",
    "            return f\"({args[0]} {args[1]})\"\n",
    "        # special case store? fun k -> if k = v then d else a k\n",
    "        elif smt.is_if(e):\n",
    "            return f\"(if {args[0]} then {args[1]} else {args[2]})\"\n",
    "        elif len(args) == 0:\n",
    "            return f\"({name} : {of_sort(e.sort())})\"\n",
    "        elif name == \"distinct\":\n",
    "            assert len(args) == 2\n",
    "            return f\"(Not ({args[0]} = {args[1]}))\"\n",
    "        elif name == \"=>\":\n",
    "            assert len(args) == 2\n",
    "            return f\"(not {args[0]} || {args[1]})\"\n",
    "        elif name == \"or\":\n",
    "            return f\"({' || '.join(args)})\"\n",
    "        elif name == \"and\":\n",
    "            return f\"({' && '.join(args)})\"\n",
    "        elif name == \"bvand\":\n",
    "            return f\"({' &&& '.join(args)})\"\n",
    "        elif name == \"bvor\":\n",
    "            return f\"({' ||| '.join(args)})\"\n",
    "        elif name == \"bvadd\":\n",
    "            return f\"({' + '.join(args)})\"\n",
    "        elif name == \"bvsub\":\n",
    "            return f\"({' - '.join(args)})\"\n",
    "        elif name == \"bvmul\":\n",
    "            return f\"({' * '.join(args)})\"\n",
    "        elif not name[0].isalpha() and len(args) == 2:\n",
    "            return f\"({args[0]} {name} {args[1]})\"\n",
    "        else:\n",
    "            return f\"({decl.name()} {' '.join(args)})\"\n",
    "    else:\n",
    "        raise NotImplementedError(f\"Cannot convert {e} to Lean expression. \", e)\n",
    "\n",
    "\n",
    "def run_lean(filename: str):\n",
    "    return subprocess.run([\"lean\", filename], check=True, capture_output=True)\n"
   ]
  }
 ],
 "metadata": {
  "kernelspec": {
   "display_name": "philzook58.github.io",
   "language": "python",
   "name": "python3"
  },
  "language_info": {
   "codemirror_mode": {
    "name": "ipython",
    "version": 3
   },
   "file_extension": ".py",
   "mimetype": "text/x-python",
   "name": "python",
   "nbconvert_exporter": "python",
   "pygments_lexer": "ipython3",
   "version": "3.12.3"
  }
 },
 "nbformat": 4,
 "nbformat_minor": 5
}
