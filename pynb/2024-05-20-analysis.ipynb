{
 "cells": [
  {
   "cell_type": "markdown",
   "metadata": {},
   "source": [
    "---\n",
    "title: Proving Sum n = n*(n-1)/2 and that 1/n tends to 0.\n",
    "date: 2024-05-20\n",
    "---\n",
    "\n",
    "Some more interesting semi-automated proofs in python using smt solvers.\n",
    "\n",
    "Finite sums ought to be a pretty straightforward thing to prove if you have some closed form you're trying to confirm. Basically an induction step can manipulate the sum and show that the closed formula remains true.\n",
    "\n",
    "A classic example is $\\sum_n n = n*(n-1)/2$\n",
    "\n",
    "We could use sympy to get this result for us. And indeed, stuff like this is one of the compelling reasons to be in python with it's ridiculously wide ecosysytem.\n"
   ]
  },
  {
   "cell_type": "code",
   "execution_count": 1,
   "metadata": {},
   "outputs": [
    {
     "data": {
      "text/latex": [
       "$\\displaystyle \\frac{m^{2}}{2} - \\frac{m}{2}$"
      ],
      "text/plain": [
       "m**2/2 - m/2"
      ]
     },
     "execution_count": 1,
     "metadata": {},
     "output_type": "execute_result"
    }
   ],
   "source": [
    "import sympy as sp\n",
    "import sympy.abc as abc\n",
    "\n",
    "# sum is inclusive of boundaries.\n",
    "sp.Sum(abc.n, (abc.n, 0, abc.m-1)).doit()"
   ]
  },
  {
   "cell_type": "markdown",
   "metadata": {},
   "source": [
    "But then we may find it pleasant to confirm this result via something more proof flavored. `sympy` isn't often wrong, but it is possible for it to take optimistic assumptions.\n",
    "\n",
    "I repeat many of the things from previous posts. I make uninterpreted wrappers for `+`, `*` because z3 can't ematch well on interpreted symbols. I suspect what I have to do is something akin to a linartih and ring tactic, where i allow the solver access to these wrapper definitions only when I know the result basically follows by trivial arithmetical reasoning."
   ]
  },
  {
   "cell_type": "code",
   "execution_count": 2,
   "metadata": {
    "metadata": {}
   },
   "outputs": [
    {
     "name": "stdout",
     "output_type": "stream",
     "text": [
      "proved\n",
      "proved\n",
      "proved\n",
      "proved\n",
      "proved\n",
      "proved\n",
      "proved\n",
      "proved\n"
     ]
    }
   ],
   "source": [
    "from z3 import *\n",
    "\n",
    "B = BoolSort()\n",
    "Z = IntSort()\n",
    "R = RealSort()\n",
    "x,y,z = Reals('x y z')\n",
    "\n",
    "def lemma(thm, by=[], admit=False):\n",
    "    if not admit:\n",
    "        #print(Implies(And(by), thm).sexpr())\n",
    "        prove(Implies(And(by), thm))\n",
    "    else:\n",
    "        print(\"Admitted!!\", thm)\n",
    "    return thm\n",
    "    \n",
    "plus = Function(\"plus\", R,R,R)\n",
    "plus_def = ForAll([x, y], plus(x, y) == x + y)\n",
    "\n",
    "plus_0 = lemma(ForAll([x], plus(x, 0) == x), by=[plus_def])\n",
    "plus_comm = lemma(ForAll([x, y], plus(x, y) == plus(y, x)), by=[plus_def])\n",
    "plus_assoc = lemma(ForAll([x, y, z], plus(x, plus(y, z)) == plus(plus(x, y), z)), by=[plus_def])\n",
    "                   \n",
    "mul = Function(\"mul\", R,R,R)\n",
    "mul_def = ForAll([x, y], mul(x, y) == x * y)\n",
    "\n",
    "mul_zero = lemma(ForAll([x], mul(x, 0) == 0), by=[mul_def])\n",
    "mul_1 = lemma(ForAll([x], mul(x, 1) == x), by=[mul_def])\n",
    "mul_comm = lemma(ForAll([x, y], mul(x, y) == mul(y, x)), by=[mul_def])\n",
    "mul_assoc = lemma(ForAll([x, y, z], mul(x, mul(y, z)) == mul(mul(x, y), z)), by=[mul_def])\n",
    "mul_distrib = lemma(ForAll([x, y, z], mul(x, plus(y, z)) == plus(mul(x, y), mul(x, z))), by=[mul_def, plus_def])        "
   ]
  },
  {
   "cell_type": "markdown",
   "metadata": {},
   "source": [
    "Perhaps a bit more interesting is the notion of relating the naturals and reals. The naturals are nice because they have a clean notion of induction.\n",
    "\n",
    "There are some possible design choices here.\n",
    "\n",
    "- Nat as an algebraic data type with explicit mappings.\n",
    "- Use the Nats as a non negative subset of `IntSort()`. We could write an induction principle\n",
    "- The nats are a subsets of the reals. Then there is no casting to be done. Directly use real induction perhaps https://math.stackexchange.com/questions/4202/induction-on-real-numbers\n",
    "\n",
    "I think the first is the most straightforward and less error prone. It may also require the most manual casting though.\n"
   ]
  },
  {
   "cell_type": "code",
   "execution_count": 3,
   "metadata": {},
   "outputs": [],
   "source": [
    "Nat = Datatype(\"Nat\")\n",
    "Nat.declare('zero')\n",
    "Nat.declare('succ', ('pred', Nat))\n",
    "Nat = Nat.create()\n",
    "n,m,k = Consts('n m k', Nat)\n",
    "\n",
    "def induct(P):\n",
    "    return Implies(And(P(Nat.zero), ForAll([n], Implies(P(n), P(Nat.succ(n))))),\n",
    "                   #-----------------------------------------------------------\n",
    "                   ForAll([n], P(n)))\n",
    "\n",
    "real = Function(\"real\", Nat, R)\n",
    "real_def = ForAll([n], real(n) == If(Nat.is_zero(n), 0, plus(1, real(Nat.pred(n)))))\n"
   ]
  },
  {
   "cell_type": "markdown",
   "metadata": {},
   "source": [
    "With this, we can define a sequence as a function `Nat -> R` and a bounded `sum_` function via the recursive definition. This is how one would write the same in a functional program.\n",
    "\n",
    "It is interesting to note that the natural thing to do is define sum to not be inclusive of it's upper boundary. In other words $\\sum_{i=0}^{0} c_i = 0$"
   ]
  },
  {
   "cell_type": "code",
   "execution_count": 4,
   "metadata": {},
   "outputs": [],
   "source": [
    "Seq = ArraySort(Nat, R)\n",
    "sum_ = Function(\"sum\", Seq, Nat, R)\n",
    "s = Const('s', Seq)\n",
    "sum_def = ForAll([s, n], sum_(s, n) == If(n == Nat.zero, 0, plus(s[Nat.pred(n)], sum_(s, Nat.pred(n)))))"
   ]
  },
  {
   "cell_type": "markdown",
   "metadata": {},
   "source": [
    "As a baby step, we can prove that $\\sum_{i=0}^n 0 = 0$. `szero` is the constant $0$ sequence.\n",
    "I think I initially had difficulty getting this to go through in one show, but then I realized that I wasn't being totally syntactic in the base case of the induction."
   ]
  },
  {
   "cell_type": "code",
   "execution_count": 5,
   "metadata": {},
   "outputs": [
    {
     "name": "stdout",
     "output_type": "stream",
     "text": [
      "proved\n"
     ]
    }
   ],
   "source": [
    "szero = K(Nat, RealVal(0))\n",
    "\n",
    "#sum_const_base = lemma(sum_(szero, Nat.zero) == 0, by=[sum_def, plus_def])\n",
    "#sum_const_induct = lemma(ForAll([n], Implies(sum_(szero, n) == 0, \n",
    "#                                             sum_(szero, Nat.succ(n)) == 0)),\n",
    "#                         by=[sum_def, plus_def])\n",
    "sum_szero = lemma(ForAll([n], sum_(szero,n) == 0), by=[sum_def, plus_def, induct(lambda n: sum_(szero, n) == 0)])\n",
    "\n"
   ]
  },
  {
   "cell_type": "markdown",
   "metadata": {},
   "source": [
    "Next is summing a constant $\\sum^n_{i=0} c = n*c$"
   ]
  },
  {
   "cell_type": "code",
   "execution_count": 8,
   "metadata": {},
   "outputs": [
    {
     "name": "stdout",
     "output_type": "stream",
     "text": [
      "proved\n",
      "proved\n",
      "proved\n"
     ]
    }
   ],
   "source": [
    "\n",
    "# note I original wrote ForAll([x], sum_(K(Nat, x), Nat.zero) == 0) which is not thed correct syntactic hypothesis.\n",
    "# it wouldn't go through.\n",
    "sum_const_base = lemma(ForAll([x], sum_(K(Nat, x), Nat.zero) == mul(real(Nat.zero), x)), \n",
    "                       by=[sum_def, mul_def, real_def])\n",
    "sum_const_induct = lemma(ForAll([n], Implies(ForAll([x], sum_(K(Nat, x), n) == mul(real(n), x)), \n",
    "                                             ForAll([x], sum_(K(Nat, x), Nat.succ(n)) == mul(real(Nat.succ(n)), x)))),\n",
    "                         by=[sum_def, plus_def, mul_def, real_def])\n",
    "sum_const = lemma(ForAll([n, x], sum_(K(Nat, x), n) == mul(real(n), x)), \n",
    "                  by=[sum_const_base, sum_const_induct,\n",
    "                      induct(lambda n: ForAll([x], sum_(K(Nat, x), n) == mul(real(n),x)))])\n",
    "\n"
   ]
  },
  {
   "cell_type": "markdown",
   "metadata": {},
   "source": [
    "And finally $\\sum n = n*(n-1)/2$"
   ]
  },
  {
   "cell_type": "code",
   "execution_count": 9,
   "metadata": {},
   "outputs": [
    {
     "name": "stdout",
     "output_type": "stream",
     "text": [
      "proved\n",
      "proved\n",
      "proved\n"
     ]
    }
   ],
   "source": [
    "#sum_const_induct\n",
    "#induct(lambda n: ForAll([x], sum_(K(Nat, x), n) == mul(real(n),x)))\n",
    "#lemma(sum_const, by=[sum_const])\n",
    "\n",
    "id_ = Lambda([n], real(n))\n",
    "# helper function. We could perhaps have4 lambdified the sympy result?\n",
    "nn1 = lambda n: mul(real(n) - 1, real(n)) / 2 \n",
    "\n",
    "sum_n_base = lemma(ForAll([n], sum_(id_, Nat.zero) == nn1(Nat.zero)), by=[sum_def, plus_def, mul_def, real_def])\n",
    "sum_n_induct = lemma(ForAll([n], Implies(sum_(id_, n) == nn1(n), \n",
    "                                        sum_(id_, Nat.succ(n)) == nn1(Nat.succ(n)))),            \n",
    "                     by=[sum_def, plus_def, mul_def, real_def])\n",
    "\n",
    "sum_n = lemma(ForAll([n], sum_(id_, n) == nn1(n)), by=[sum_n_base, sum_n_induct, induct(lambda n: sum_(id_, n) == nn1(n))])"
   ]
  },
  {
   "cell_type": "markdown",
   "metadata": {},
   "source": [
    "## 1/n -> 0\n",
    "\n",
    "Okay, now let's try something that is headed towards analysis. \n",
    "\n",
    "The above is highly computable and constructive and finite which is nice. Analysis needs to touch infinity in various ways.\n",
    "\n",
    "\n",
    "The standard definition of a sequence converging to some value is that there is some big N for any accuracy $\\epsilon$ you want such that the sequence past N stays inside $\\epsilon$ of the convergent value. https://en.wikipedia.org/wiki/Limit_of_a_sequence\n",
    "$\\forall \\epsilon,  \\exists N, \\forall n, n \\ge N \\rightarrow |x_n - x| < \\epsilon$\n",
    "\n",
    "This definition should probably be skolemized and in general I think working directly with the skolemized for is advisable. Skolemizing in this case mean directly talking about $N(\\epsilon)$ as a function of epsilon. This is useful info computationally and practically as this function computes exactly how many terms to evaluate if you want some particular accuracy.\n",
    "\n",
    "I initially tried to do this and realized I was missing some kind of axiomatic feature of the reals. Something like the Archimedean property https://en.wikipedia.org/wiki/Archimedean_property . Indeed, the wikipedia article mentions that the property is related to or the same as proving 1/n converges."
   ]
  },
  {
   "cell_type": "code",
   "execution_count": 15,
   "metadata": {},
   "outputs": [],
   "source": [
    "# skolemized looks something like this\n",
    "eps = Real('eps')\n",
    "N = Const('N', ArraySort(RealSort(), Nat))\n",
    "converge_zero = Function(\"converge_zero\", Seq, ArraySort(R, Nat), BoolSort())\n",
    "converge_zero_def = ForAll([s, N], converge_zero(s, N) == ForAll([eps, n], Implies(real(n) >= real(N[eps]), s[n] < eps)))"
   ]
  },
  {
   "cell_type": "code",
   "execution_count": 17,
   "metadata": {},
   "outputs": [
    {
     "name": "stdout",
     "output_type": "stream",
     "text": [
      "Admitted!! conv_to(Lambda(n, 1/(1 + real(n))), 0)\n"
     ]
    }
   ],
   "source": [
    "# gibbering about definitions. I dunno. Skip this.\n",
    "conv_to = Function(\"conv_to\", Seq, R, B)\n",
    "eps = Real('eps')\n",
    "N = Const(\"N\", Nat)\n",
    "\n",
    "abs = Function(\"abs\", R, R)\n",
    "abs_def = ForAll([x], abs(x) == If(x >= 0, x, -x))\n",
    "\n",
    "conv_to_def = ForAll([s, x], conv_to(s, x) == ForAll([eps], Exists([N], ForAll([n], Implies(real(n) >= real(N), abs(s[n] - x) < eps)))))\n",
    "\n",
    "converges = Function(\"converges\", Seq, B)\n",
    "converges_def = ForAll([s], converges(s) == Exists([x], conv_to(s, x)))\n",
    "\n",
    "# limit is partial function. We can only prove it equals something interesting if the sequence converges\n",
    "# It's kind of the skolemized piece of  converges\n",
    "lim = Function(\"lim\", Seq, R)\n",
    "lim_def = ForAll([s], Implies(converges(s), conv_to(s, lim(s))))\n",
    "\n",
    "# does not go through. Back to the drawing board\n",
    "recip_converge = lemma(conv_to(Lambda([n], 1/(1 + real(n))), 0), by=[conv_to_def, real_def], admit=True)\n",
    "\n",
    "# constructing the appropriate N(eps) is annoying\n",
    "#abs(Lambda([n], 1/(1 + real(n)))   \n",
    "#round_up = Function(\"round_up\", R, Nat)\n",
    "#round_up_def = ForAll([x], round_up(x) == If(x <= 0, 1, Nat.pred(round_up(x))), Nat.zero))"
   ]
  },
  {
   "cell_type": "markdown",
   "metadata": {},
   "source": [
    "To construct this `N` function, I need a way of taking the $\\epsilon \\in R$ and turn it into a `Nat`, but I have defined nothing that takes a real into a Nat yet.\n",
    "\n",
    "The ceiling and floor functions are natural candidates. There are slightly different variations of this to attempt\n",
    "\n",
    "- `ceil` is nice because the ceil of negative numbers should just be 0\n",
    "- floor is nice because `x == floor(x) + frac(x)` and I like equations\n",
    "\n",
    "It also became apparent that I needed more properties and my `real` function and that defining an `le` $\\le$ relation on Nat might be useful.\n",
    "\n",
    "`ceil` here is the first thing that I defined not based on obvious structural recursion. It is a good definition though. I'm not sure how I would dignify it if I were trying to dignify my definitions or automatically discharge their well formedness."
   ]
  },
  {
   "cell_type": "code",
   "execution_count": 31,
   "metadata": {},
   "outputs": [
    {
     "name": "stdout",
     "output_type": "stream",
     "text": [
      "proved\n",
      "proved\n",
      "proved\n",
      "proved\n",
      "proved\n",
      "proved\n",
      "proved\n",
      "proved\n",
      "proved\n",
      "proved\n",
      "proved\n",
      "proved\n",
      "proved\n",
      "Admitted!! ForAll([n, m], le(n, m) == (real(n) <= real(m)))\n"
     ]
    }
   ],
   "source": [
    "\n",
    "ceil = Function(\"ceil\", R, Nat)\n",
    "ceil_def = ForAll([x], ceil(x) == If(x <= 0, Nat.zero, Nat.succ(ceil(x-1))))\n",
    "\n",
    "real_zero = lemma(real(Nat.zero) == 0, by=[real_def])\n",
    "ceil_real_base = lemma(ceil(real(Nat.zero)) == Nat.zero, by=[ceil_def, real_zero])\n",
    "ceil_real_induct = lemma(ForAll([n], Implies(ceil(real(n)) == n, ceil(real(Nat.succ(n))) == Nat.succ(n))),\n",
    "                          by=[real_def, ceil_def, plus_def])\n",
    "ceil_real = lemma(ForAll([n], ceil(real(n)) == n), by=[real_def, ceil_def, plus_def, induct(lambda n: ceil(real(n)) == n)])\n",
    "\n",
    "\n",
    "le = Function(\"le\", Nat, Nat, B)\n",
    "le_def = ForAll([n, m], le(n, m) == If(Nat.is_zero(n), True, If(Nat.is_zero(m), False, le(Nat.pred(n), Nat.pred(m)))))\n",
    "\n",
    "le_refl_base = lemma(le(Nat.zero, Nat.zero), by=[le_def])\n",
    "le_refl_induct = lemma(ForAll([n], Implies(le(n, n), le(Nat.succ(n), Nat.succ(n)))), by=[le_def])\n",
    "le_refl = lemma(ForAll([n], le(n, n)), by=[le_refl_base, le_refl_induct, induct(lambda n: le(n, n))])\n",
    "\n",
    "le_succ = lemma(ForAll([n,m], le(n, m) == le(Nat.succ(n), Nat.succ(m))), \n",
    "                by=[le_def, induct(lambda n: le(n, m) == le(Nat.succ(n), Nat.succ(m)))])\n",
    "\n",
    "\n",
    "real_non_neg_base = lemma(real(Nat.zero) >= 0, by=[real_zero])\n",
    "real_non_neg_induct = lemma(ForAll([n], Implies(real(n) >= 0, real(Nat.succ(n)) >= 0)), by=[real_def, plus_def])\n",
    "real_non_neg = lemma(ForAll([n], 0 <= real(n)), by=[real_non_neg_base, real_non_neg_induct, induct(lambda n: real(n) >= 0)])\n",
    "\n",
    "\n",
    "_1 = lemma(real(Nat.zero) == 0, by=[real_def])\n",
    "real_le_base = lemma(ForAll([m], real(Nat.zero) <= real(m)), by=[_1, real_def, real_non_neg])\n",
    "#real_le_induct = lemma(ForAll([n,m], Implies(Implies(le(n,m), real(n) <= real(m)), \n",
    "#                                             Implies(le(Nat.succ(n), m), real(Nat.succ(n)) <= real(m)))),\n",
    "#                        by=[real_def, le_def, plus_def])\n",
    "#real_le_base = lemma(ForAll([m], Implies(le(Nat.zero, m), real(Nat.zero) <= real(m))), by=[le_def, real_def, plus_def, real_non_neg])\n",
    "#real_le_base = lemma(ForAll([n], le(Nat.zero, Nat.succ(n))), by=[le_def])\n",
    "\n",
    "# uhh, I think I can get this, but I need to do some double induction or something.\n",
    "real_le = lemma(ForAll([n,m], le(n,m) == (real(n) <= real(m))),\n",
    "                 by=[real_def, le_def, plus_def, induct(lambda n: Implies(le(n,m), real(n) <= real(m)))], admit=True) \n",
    "\n",
    "\n",
    "# hmm. This is probably not true, x = -1, n = 0\n",
    "#ceil_galois = lemma(le(ceil(x), n) == (x <= real(n))\n",
    "\n"
   ]
  },
  {
   "cell_type": "code",
   "execution_count": 32,
   "metadata": {},
   "outputs": [
    {
     "name": "stdout",
     "output_type": "stream",
     "text": [
      "proved\n",
      "proved\n"
     ]
    }
   ],
   "source": [
    "## N = ceil(1/eps) => n > N => 1/real(n) < eps\n",
    "# x <= real(ceil(x))\n",
    "\n",
    "#real_ceil = lemma(ForAll([x], x <= real(ceil(x))), by=[real_def, ceil_def, plus_def])\n",
    "# x <= real(If(x <= 0, 0, Nat.succ(real(x-1))))\n",
    "real_ceil_neg = lemma(ForAll([x], Implies(x <= 0, x <= real(ceil(x)))), by=[real_def, ceil_def, plus_def])\n",
    "\n",
    "# x <= real(Nat.succ(ceil(x-1)))) == x <= 1 + real(ceil(x-1)) ==\n",
    "#real_ceil_pos = lemma(ForAll([x], Implies(x > 0, x <= real(ceil(x))), by=[real_def, ceil_def, plus_def, real_non_neg]))\n",
    "\n",
    "# I'm pretty puzzled what principle is gonna let me do this. real induction? Some roundabout use of regular induction?\n",
    "# I really do need something akin to this as an axiom.\n",
    "# what above making an intermeidate equality anmd inducting over that? \"Elimination with A Motive\" mentions a similar trick. Interesting\n",
    "ilemma = induct(lambda n: ForAll([x], Implies(n == ceil(x), x <= real(n))))\n",
    "real_ceil = lemma(ForAll([x], x <= real(ceil(x))), by=[real_def, ceil_def, plus_def, ilemma])\n",
    "\n"
   ]
  },
  {
   "cell_type": "markdown",
   "metadata": {},
   "source": [
    "Ok, so now we take it step by step. Some little experiements to be sure I can prove stuff about the ceiling of `1/eps`"
   ]
  },
  {
   "cell_type": "code",
   "execution_count": null,
   "metadata": {},
   "outputs": [],
   "source": [
    "eps = Real('eps')\n",
    "\n",
    "eps_ceil_pos = lemma(ForAll([eps], Implies(eps > 0, Not(Nat.is_zero(ceil(eps))))), by=[ceil_def])\n",
    "nonzero_real_pos = lemma(ForAll([n], Implies(Not(Nat.is_zero(n)), real(n) > 0)),  by=[real_def, plus_def, real_non_neg])\n",
    "\n",
    "epsrecip = lemma(ForAll([eps], Implies(eps > 0, 1/eps <= real(ceil(1/eps)))), by=[real_ceil])\n",
    "\n",
    "lemma(ForAll([eps], Implies(eps > 0, 1/real(ceil(1/eps)) <= eps)), by=[epsrecip])"
   ]
  },
  {
   "cell_type": "markdown",
   "metadata": {},
   "source": [
    "It turns out with the lemma real_ceil, it didn't actually need much help, which is a bit surprising."
   ]
  },
  {
   "cell_type": "code",
   "execution_count": null,
   "metadata": {},
   "outputs": [],
   "source": [
    "_1 = lemma(ForAll([eps], Implies(eps > 0, 1/(1 + real(ceil(1/eps))) < eps)), by=[real_ceil]) # so really it didn't need much help"
   ]
  },
  {
   "cell_type": "markdown",
   "metadata": {},
   "source": [
    "So here is the skolemized form of the theorem"
   ]
  },
  {
   "cell_type": "code",
   "execution_count": null,
   "metadata": {},
   "outputs": [],
   "source": [
    "\n",
    "recip_n = lemma(ForAll([eps,n], Implies(And(le(ceil(1/eps), n), eps > 0), 1/(1 + real(n)) < eps)), by=[real_ceil, real_le])\n",
    "recip_n"
   ]
  },
  {
   "cell_type": "markdown",
   "metadata": {},
   "source": [
    "Then with some ministrations, I can massage it to prove the unskolemized form. This needs a lot of hand holding though."
   ]
  },
  {
   "cell_type": "code",
   "execution_count": 35,
   "metadata": {},
   "outputs": [
    {
     "name": "stdout",
     "output_type": "stream",
     "text": [
      "proved\n",
      "proved\n",
      "proved\n"
     ]
    }
   ],
   "source": [
    "N = Const('N', Nat)\n",
    "\n",
    "# make a temporary function to abstract the things i don't want z3 to see.\n",
    "temp = Function(\"temp\", R, Nat, Nat, B)\n",
    "temp_def = ForAll([eps, N, n], temp(eps, N, n) == Implies(And(le(N, n), eps > 0), 1/(1 + real(n)) < eps))\n",
    "\n",
    "# We can make a temporary definition to make the pattern more obvious. (It is tough on the eye, but also it's tough on z3's pattern matcher I guess)\n",
    "# This is also why I suggest working in skolemized form in any case.\n",
    "_1 = lemma(ForAll([eps, n], temp(eps, ceil(1/eps), n)), by=[temp_def, recip_n])\n",
    "_2 = lemma(ForAll([eps], Exists([N], ForAll([n], temp(eps, N, n)))), by=[_1])\n",
    "recip_n2 = lemma(ForAll([eps], Exists([N], ForAll([n], Implies(And(le(N, n), eps > 0), 1/(1 + real(n)) < eps)))), by=[_2, temp_def])\n"
   ]
  },
  {
   "cell_type": "markdown",
   "metadata": {},
   "source": [
    "# Bits and Bobbles\n",
    "\n",
    "The \"proof\" above is obviously meandering. I think it can be cleaned up significantly. I just am trying to avoid building out piles of under theorems.\n",
    "\n",
    "There is some reason to believe that the Hyperreals make some of this easier.\n",
    "\n",
    "\n"
   ]
  },
  {
   "cell_type": "code",
   "execution_count": 24,
   "metadata": {},
   "outputs": [
    {
     "name": "stdout",
     "output_type": "stream",
     "text": [
      "proved\n"
     ]
    }
   ],
   "source": [
    "\n",
    "\n",
    "\n",
    "real_ceil = lemma(ForAll([x], x <= real(ceil(x))), by=[real_def, ceil_def, plus_def, ilemma], admit=False)\n"
   ]
  },
  {
   "cell_type": "markdown",
   "metadata": {},
   "source": [
    "Archimedean property\n",
    "x = real(floor(x)) + frac(x)\n",
    "Eudoxus reals?\n"
   ]
  },
  {
   "cell_type": "markdown",
   "metadata": {},
   "source": [
    "We expect it to often be the case that sympy closed forms will be confirmable via a rote induction procedure."
   ]
  },
  {
   "cell_type": "code",
   "execution_count": 3,
   "metadata": {
    "metadata": {}
   },
   "outputs": [
    {
     "name": "stdout",
     "output_type": "stream",
     "text": [
      "proved\n",
      "proved\n",
      "proved\n",
      "proved\n",
      "proved\n",
      "proved\n"
     ]
    }
   ],
   "source": [
    "\n",
    "\n",
    "\n",
    "abs_neg_x = lemma(ForAll([x], abs(-x) == abs(x)), by=[abs_def])\n",
    "abs_pos = lemma(ForAll([x], abs(x) >= 0), by=[abs_def])\n",
    "\n",
    "dist = Function(\"dist\", R, R, R)\n",
    "dist_def = ForAll([x, y], dist(x, y) == abs(x - y))\n",
    "\n",
    "dist_refl = lemma(ForAll([x], dist(x, x) == 0), by=[dist_def, abs_def])\n",
    "dist_post = lemma(ForAll([x, y], dist(x, y) >= 0), by=[dist_def, abs_pos])\n",
    "dist_symm = lemma(ForAll([x, y], dist(x, y) == dist(y, x)), by=[dist_def, abs_def])\n",
    "dist_tri = lemma(ForAll([x, y, z], dist(x, z) <= plus(dist(x, y), dist(y, z))), by=[dist_def, plus_def, abs_def])\n"
   ]
  },
  {
   "cell_type": "markdown",
   "metadata": {},
   "source": [
    "We can't talk about converges to if we can't talk about arbitrary reals first, because there's nothing to converge to. So the idea of a cauchy sequence is to say if some sequence seems to be self consistent, it has some number it converges to.\n",
    "In this way real numbers can be constructed out of the notion of a cauchy sequence without saying exactly what the thing it converges to is.\n"
   ]
  },
  {
   "cell_type": "code",
   "execution_count": 138,
   "metadata": {
    "metadata": {}
   },
   "outputs": [
    {
     "ename": "SyntaxError",
     "evalue": "incomplete input (589912192.py, line 5)",
     "output_type": "error",
     "traceback": [
      "\u001b[0;36m  Cell \u001b[0;32mIn[138], line 5\u001b[0;36m\u001b[0m\n\u001b[0;31m    ForAll([eps], Exists([N], ForAll([n, m], Implies(And(n >= N, m >= N), abs(sum_(s, n) - sum_(s, m)) < eps))))\u001b[0m\n\u001b[0m                                                                                                                ^\u001b[0m\n\u001b[0;31mSyntaxError\u001b[0m\u001b[0;31m:\u001b[0m incomplete input\n"
     ]
    }
   ],
   "source": [
    "# https://en.wikipedia.org/wiki/Cauchy_sequence\n",
    "cauchy = Function(\"cauchy\", Seq, B)\n",
    "eps = Real('eps')\n",
    "N = Const(\"N\", Nat)\n",
    "cauchy_def = ForAll([s], cauchy(s) == \n",
    "                    ForAll([eps], Exists([N], ForAll([n, m], Implies(And(n >= N, m >= N), abs(s[n] - s[m]) < eps)))))\n",
    "\n"
   ]
  },
  {
   "cell_type": "code",
   "execution_count": null,
   "metadata": {},
   "outputs": [],
   "source": [
    "# properties of sequences. Monotonic sequences and bounded sequences.\n",
    "mono = Function(\"mono\", Seq, B)\n",
    "mono_def = ForAll([s], mono(s) == ForAll([n], s[n] <= s[Nat.succ(n)]))\n",
    "\n",
    "bounded = Function(\"bounded\", Seq, B)\n",
    "bounded_def = ForAll([s], bounded(s) == Exists([y], ForAll([n], s[n] <= y)))"
   ]
  },
  {
   "cell_type": "markdown",
   "metadata": {},
   "source": [
    "Bottling up the pattern of induction that I've been doing manually above into a tactic."
   ]
  },
  {
   "cell_type": "code",
   "execution_count": null,
   "metadata": {},
   "outputs": [],
   "source": [
    "def induct_tac(P, by=[]):\n",
    "    base = lemma(P(Nat.zero), by=by)\n",
    "    step = lemma(ForAll([n], Implies(P(n), P(Nat.succ(n)))), by=by\n",
    "    induct_ax = induct(P)\n",
    "    x = FreshCons(Nat)\n",
    "    th = ForAll([x], P(x))\n",
    "    return lemma(th, by=[base,step,induct_ax])\n",
    "\n",
    "\n",
    "# alternative style with open x\n",
    "def induct_tac(x, P, by=[]):\n",
    "    base = lemma(substitute(P, (x, Nat.zero)), by=[])\n",
    "    step = lemma(ForAll([x], Implies(P, substitute(P, (x, Nat.succ(x))))),\n",
    "                 by=by)\n",
    "    theorem = ForAll([x], P)\n",
    "    return theorem\n"
   ]
  },
  {
   "cell_type": "markdown",
   "metadata": {},
   "source": [
    "Cody's is_pos is really interesting\n",
    "I could model second order concepts via schema. Anything that needs a universal out front of a second order thing, replace with python metatheory lambda for schema.\n",
    "\n",
    "Transitive clousre\n",
    "def min(f):\n",
    "    Implies(f(a,b), trans_close(a,b))\n",
    "\n",
    "Refinement type eliminators\n",
    "ex x : A, P x\n",
    "\n",
    "(forall x : A, P x -> f x (P x)) -> forall y, f y \n",
    "    \n",
    "\n",
    "\n",
    "\n",
    "Woah. Maybe I should be using cvc5\n",
    "https://cvc5.github.io/docs/cvc5-1.0.2/theories/transcendentals.html\n",
    "\n",
    "could also swap in dreal\n",
    "\n",
    "\n"
   ]
  },
  {
   "cell_type": "code",
   "execution_count": null,
   "metadata": {},
   "outputs": [],
   "source": [
    "# cody's variation\n",
    "def prove(f):\n",
    "    s = Solver()\n",
    "    s.add(Not(f))\n",
    "    if s.check() == unsat:\n",
    "        print (\"proved\")\n",
    "    else:\n",
    "        print (\"failed to prove\")\n",
    "        print (\"countermodel:\" + str(s.model()))\n",
    "\n",
    "# I think this should be called pos_sufficient\n",
    "def is_pos(f, x):\n",
    "    return Implies(ForAll(x, Implies(x >= 0, f)), ForAll([x], f))\n",
    "\n",
    "#def is_pos(f, x):\n",
    "#    return Implies(f, x >= 0)\n",
    "\n",
    "def by_induction(f, x):\n",
    "    pos = is_pos(f, x)\n",
    "    zero = substitute(f, (x, IntVal(0)))\n",
    "    succ = Implies(f, substitute(f, (x, x+1)))\n",
    "    print(\"is positive:\")\n",
    "    prove(pos)\n",
    "    print(\"zero case:\")\n",
    "    prove(zero)\n",
    "    print(\"successor case:\")\n",
    "    prove(succ)\n",
    "\n",
    "f = Function('sum', IntSort(), IntSort())\n",
    "\n",
    "f_ax0 = ForAll(x, Implies(x <= 0, f(x) == 0))\n",
    "f_ax1 = ForAll(x, Implies(x > 0, f(x) == f(x - 1) + x))\n",
    "\n",
    "def f_test(x):\n",
    "    if x <= 0:\n",
    "        return 0\n",
    "    else:\n",
    "        return f_test(x - 1) + x\n",
    "\n",
    "x = Int('x')\n",
    "my_property = Implies(And(f_ax0, f_ax1), Implies(x >= 0, f(x) == x * (x + 1) / 2))\n",
    "prove(my_property)\n",
    "by_induction(my_property, x)"
   ]
  },
  {
   "cell_type": "markdown",
   "metadata": {},
   "source": [
    "RNat = Function(\"Nat\", R, Bool) # Nat as a predictae on R\n",
    "RNat(x) == (real(ceil(x)) == x) # In terms of previous stuff.\n",
    "\n",
    "RNat is the least set that contains 0 and RNat(x) => RNat(x+1)\n",
    "\n",
    "Direct rnat induction\n",
    "\n",
    "----------------------------------\n",
    "ForAll([x], Implies(RNat(x), P(x))\n",
    "\n",
    "\n",
    "Real induction. If it is uniform real induction, we can push out a ball for an epsilon that does not depend on the size of the ball.\n",
    "P(B) /\\ exists eps, forall B, P(B) -> P(B+eps)\n",
    "--------------------------------------\n",
    "      forall x, P(x) \n",
    "\n",
    "This is sort of like the reverse of a monotonic convergence. It's a monotonic divergence.\n",
    "\n",
    "Logical integration. if prod P(x)dx = e^{int ln(P(x))dx} = 1, \n",
    "\n",
    "The issue with real induction where you can push the ball out a decreasing amoutn is similar to the concerns that led cantor to invent the orindals in the first place.\n",
    "\n",
    "It's also like finite escape vs asymptitotic escape/ lyapunov coefficients.\n",
    "\n",
    "Graham says Freyd reals. https://math.stackexchange.com/questions/4727657/freyds-algebraic-real-analysis-scale-and-linear-order http://www.tac.mta.ca/tac/volumes/20/10/20-10abs.html\n",
    " A double pointed set with gluing? Kind of like an interval definition\n",
    "\n",
    "Hamkins - The problem is the prefixes aren't determined by prefixes\n",
    "\n"
   ]
  },
  {
   "cell_type": "code",
   "execution_count": null,
   "metadata": {},
   "outputs": [],
   "source": [
    "# modelling a number as a stream 1/2 +- 1/4 +- 1/8 + 1/16\n",
    "def add(a,b):\n",
    "    carry = 0\n",
    "    for da, db in zip(a,b):\n",
    "        \n",
    "\n",
    "\n"
   ]
  },
  {
   "cell_type": "code",
   "execution_count": null,
   "metadata": {},
   "outputs": [],
   "source": [
    "I = Datatype(\"Interval\")\n",
    "I."
   ]
  },
  {
   "cell_type": "code",
   "execution_count": null,
   "metadata": {},
   "outputs": [],
   "source": [
    "RFun = ArraySort(R,R)\n",
    "cont = Function(RFun, B)\n",
    "\n",
    "cont_def = ForAll([f], cont(f) == ForAll([eps], Exists([N], ForAll([n], Implies(n >= N, abs(f(n) - f(0)) < eps)))))\n"
   ]
  },
  {
   "cell_type": "code",
   "execution_count": 105,
   "metadata": {
    "metadata": {}
   },
   "outputs": [
    {
     "name": "stdout",
     "output_type": "stream",
     "text": [
      "2\n"
     ]
    },
    {
     "data": {
      "text/html": [
       "real(succ(succ(n)))"
      ],
      "text/plain": [
       "real(succ(succ(n)))"
      ]
     },
     "execution_count": 105,
     "metadata": {},
     "output_type": "execute_result"
    }
   ],
   "source": [
    "# RecFunction allows us to use z3 as a simplifier.\n",
    "\n",
    "#sum__ = RecFunction(\"sum\", Seq, Nat, R)\n",
    "#RecAddDefinition(sum__, [s, n], If(n == Nat.zero, 0, plus(s[Nat.pred(n)], sum__(s, Nat.pred(n)))))\n",
    "#simplify(sum__(Lambda([n], If(Nat.is_zero(n), RealVal(0), RealVal(1))), Nat.succ(Nat.zero)))\n",
    "\n",
    "#sum_id = RecFunction(\"sum_id\", Seq, Nat, R)\n",
    "#RecAddDefinition(sum_id, [n], If(n == Nat.zero, 0, plus(s[Nat.pred(n)], sum__(s, Nat.pred(n)))))\n",
    "#simplify(sum__(Lambda([n], If(Nat.is_zero(n), RealVal(0), RealVal(1))), Nat.succ(Nat.zero)))\n",
    "\n",
    "real_ = RecFunction(\"real\", Nat, R)\n",
    "RecAddDefinition(real_, [n], If(Nat.is_zero(n), 0, 1 + real_(Nat.pred(n))))\n",
    "print(simplify(real_(Nat.succ(Nat.succ(Nat.zero)))))\n",
    "simplify(real_(Nat.succ(Nat.succ(n))))\n"
   ]
  },
  {
   "cell_type": "markdown",
   "metadata": {},
   "source": [
    "Nets. Sequences are perhaps arbitrary,\n",
    "\n",
    "\n",
    "Filters. Havibng a domain at all is perhaps arbitrary\n",
    "\n",
    "\n",
    "Math comp analyses and zach was all about filters.\n",
    "\n",
    "https://www.sciencedirect.com/science/article/abs/pii/0004370272900410 computer assisted limit theorems 9172 bledsoe\n",
    "\n",
    "https://link.springer.com/article/10.1023/A:1005843328643  The Heine–Borel Challenge Problem. In Honor of Woody Bledsoe\n",
    "\n",
    "Bledsoe, W.: Challenge problems in elementary analysis, Journal of Automated Reasoning 6 (1990),\n",
    "\n",
    "Bledsoe, W. W.: Heine–Borel Theorem Analogy Example, Technical Report Memo ATP 124, University of Texas Computer Science Dept., Austin, TX, 1994.\n",
    "\n",
    "https://citeseerx.ist.psu.edu/document?repid=rep1&type=pdf&doi=70050293723ef74d0747323be1cd06eabe5ebbc5 Non resolution theorem proving\n",
    "\n",
    "Ballantyne, M. and Bennett, W., Graphing methods for topological proofs, The University of\n",
    "Texas at Austin Math. Dept. Memo ATP-7 (1973).\n",
    "\n",
    "5. Ballantyne, A. M. and Bledsoe, W. W., Automatic proofs of theorems in analysis using nonstandard techniques, The University of Texas at Austin Math. Dept. Memo ATP-23 (July\n",
    "1975); J. ACM, to appear, July 1977. -\n",
    "\n",
    "A. Michael Ballantyne: The Metatheorist: Automatic Proofs of Theorems in Analysis Using Non-Standard Techniques, Part II.\n",
    "\n",
    "\n",
    "Analogical theorem proving. A predecssor of proof patching\n",
    "\n",
    "Kolbe, Th. and Walther, Ch.: Patching proofs for reuse, in N. Lavrac and S. Wrobel (eds), Proceedings of the 8th European Conference on Machine Learning 1995, Kreta, 1995.\n",
    "\n",
    "Analogy for Automated Reasoning  -book 1990\n",
    "\n",
    "https://plato.stanford.edu/entries/reasoning-analogy/\n",
    "\n",
    "A Bundy - inductive proof plans? Author on the handbook chapter"
   ]
  },
  {
   "cell_type": "code",
   "execution_count": 71,
   "metadata": {
    "metadata": {}
   },
   "outputs": [
    {
     "name": "stdout",
     "output_type": "stream",
     "text": [
      "Overwriting /tmp/induct.smt2\n"
     ]
    }
   ],
   "source": [
    "%%file /tmp/induct.smt2\n",
    "(declare-sort Nat 0)\n",
    "(declare-fun sum ((Array Nat Real) Nat) Real)\n",
    "(declare-fun real (Nat) Real)\n",
    "(declare-fun plus (Real Real) Real)\n",
    "(declare-fun mul (Real Real) Real)\n",
    "(assert (let ((a!1 (forall ((x Real))\n",
    "             (= (sum ((as const (Array Nat Real)) x) zero) 0.0)))\n",
    "      (a!2 (forall ((n Nat))\n",
    "             (let ((a!1 (forall ((x Real))\n",
    "                          (= (sum ((as const (Array Nat Real)) x) n)\n",
    "                             (mul (real n) x))))\n",
    "                   (a!2 (forall ((x Real))\n",
    "                          (= (sum ((as const (Array Nat Real)) x) (succ n))\n",
    "                             (mul (real (succ n)) x)))))\n",
    "               (=> a!1 a!2))))\n",
    "      (a!3 (forall ((x Real))\n",
    "             (= (sum ((as const (Array Nat Real)) x) zero) (mul (real zero) x))))\n",
    "      (a!4 (forall ((n Nat))\n",
    "             (forall ((x Real))\n",
    "               (= (sum ((as const (Array Nat Real)) x) n) (mul (real n) x)))))\n",
    "      (a!5 (forall ((x Real) (n Nat))\n",
    "             (= (sum ((as const (Array Nat Real)) x) n) (mul (real n) x)))))\n",
    "  (=> (and a!1 a!2 (=> (and a!3 a!2) a!4)) a!5)))\n",
    "\n",
    "(check-sat)"
   ]
  },
  {
   "cell_type": "code",
   "execution_count": 70,
   "metadata": {
    "metadata": {}
   },
   "outputs": [
    {
     "name": "stdout",
     "output_type": "stream",
     "text": [
      "% Running in auto input_syntax mode. Trying SMTLIB2\n",
      "% Failed with\n",
      "% User error: Compound functor expected to be a rankend function (starting with '_'). Instead read: (as const (Array Nat Real))\n",
      "% Trying TPTP\n",
      "Parsing Error on line 1: cnf(), fof(), vampire() or include() expected at position 0 (text: ()\n"
     ]
    }
   ],
   "source": [
    "! vampire /tmp/induct.smt2"
   ]
  },
  {
   "cell_type": "code",
   "execution_count": null,
   "metadata": {},
   "outputs": [],
   "source": []
  }
 ],
 "metadata": {
  "kernelspec": {
   "display_name": "Python 3",
   "language": "python",
   "name": "python3"
  },
  "language_info": {
   "codemirror_mode": {
    "name": "ipython",
    "version": 3
   },
   "file_extension": ".py",
   "mimetype": "text/x-python",
   "name": "python",
   "nbconvert_exporter": "python",
   "pygments_lexer": "ipython3",
   "version": "3.12.3"
  }
 },
 "nbformat": 4,
 "nbformat_minor": 2
}
