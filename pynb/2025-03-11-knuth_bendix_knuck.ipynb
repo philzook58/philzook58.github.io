{
 "cells": [
  {
   "cell_type": "markdown",
   "metadata": {},
   "source": [
    "---\n",
    "title: Knuth Bendix Solver on Z3 AST\n",
    "date : 2025-03-11\n",
    "---\n",
    "\n",
    "Knuth bendix completion takes in a set of equational axioms and a term ordering (defining which side is \"simpler\"), and tries to produce a rewrite rule system that is confluent and terminating.\n",
    "\n",
    "You can read more here\n",
    "\n",
    "- Term Rewriting and All That\n",
    "- Harrison's Handbook of Practical Logic and Automated Reasoning\n",
    "- https://www.researchgate.net/publication/220460160_An_Introduction_to_Knuth-Bendix_Completion\n",
    "- https://en.wikipedia.org/wiki/Knuth%E2%80%93Bendix_completion_algorithm\n",
    "-  Handbook of Automated Reasoning chapter https://www.cs.tau.ac.il/~nachum/papers/hand-final.pdf\n",
    "\n",
    "Confluent means the order of application of the rules ultimately doesn't matter. Greedy usage of the rules will find the \"smallest\" term under that theory.\n",
    "\n",
    "If your system is non confluent but terminating, you need to add some kind of backtracking or search if you want this guarantee.\n",
    "\n",
    "Knuth Bendix can fail when it fails to be able to orient an equation. Term orderings on non ground terms are necessarily partial orders. A demon can always pick a way to fill in the variables of `X * Y -> Y * X` to make any ordering fail. It's too symmetric.\n",
    "\n",
    "Knuth Bendix is not quite an \"complete\" equational theorem proving mechanism because of this (unnecessary) failure. It's close though, and I tend to think of it as one.\n",
    "\n",
    "Paramodulation is a name for brute force equational search, ordering be damned. Unfailing completion is a loosening of ordinary knuth bendix, but more restricted than brute paramodulation that nevertheless is complete for equational theorem proving.\n",
    "\n",
    "Paramodulation is kind of finding all critical pairs on all sides of equations. Knuth bendix restricts to just critical pairs of left hand sides of rules but also enables simplification by rules. Unfailing completion has a pruning mechanism for which critical pairs are necessary to consider and retains the simplifcation mechanism.\n",
    "\n",
    "I have found it useful to use Z3's ast as a centralized intercommunication way of building up a library of useful stuff. Z3 offers a nice api, a good fast hash cons, de bruijn binder manipulations and not the mention the smt solving itself.\n",
    "\n",
    "All the fiddling with variables is kind of what makes completion complicated. String knuth bendix is more straightforward https://www.philipzucker.com/string_knuth/ , likewise ground term knuth bendix.\n",
    "\n",
    "They all follow the same pattern though. Pick an ordering.\n",
    "\n",
    "Find \"overlaps\" of the left hand sides of two rules. These overlaps may get written two different directions. Infer that as a new equation to be processed.\n",
    "\n",
    "The critical pair https://en.wikipedia.org/wiki/Critical_pair_(term_rewriting) refers to the two terms resulting from being rewritten by the two rules. The critical pair is the two terms that are equal in the rewrite system.\n",
    "\n",
    "For terms with variables, we actually need to use unification rather than pattern matching to do our rewriting. This is called narrowing. It's a bit fiddly.\n",
    "\n",
    "\n"
   ]
  },
  {
   "cell_type": "code",
   "execution_count": 1,
   "metadata": {},
   "outputs": [
    {
     "data": {
      "text/plain": [
       "[(y, {y: -x}), (-y, {x: y}), (--y, {x: -y})]"
      ]
     },
     "execution_count": 1,
     "metadata": {},
     "output_type": "execute_result"
    }
   ],
   "source": [
    "import kdrag as kd\n",
    "import kdrag.smt as smt\n",
    "import kdrag.rewrite as rw\n",
    "\n",
    "\n",
    "def critical_pair_helper(\n",
    "    vs: list[smt.ExprRef], t: smt.ExprRef, lhs: smt.ExprRef, rhs: smt.ExprRef\n",
    ") -> list[tuple[smt.ExprRef, dict[smt.ExprRef, smt.ExprRef]]]:\n",
    "    \"\"\"\n",
    "    Look for pattern lhs to unify with a subterm of t.\n",
    "    returns a list of all of those lhs -> rhs applied + the substitution resulting from the unification.\n",
    "    The substitution is so that we can apply the other `t -> s` rule once we return.\n",
    "\n",
    "\n",
    "    This helper is asymmettric between t and lhs. You need to call it twice to get all critical pairs.\n",
    "    \"\"\"\n",
    "    res = []\n",
    "    if any(t.eq(v) for v in vs): # Non trivial overlap only `X ~ lhs` is not interesting.\n",
    "        return res\n",
    "    subst = kd.utils.unify(vs, t, lhs)\n",
    "    if subst is not None:\n",
    "        res.append((rhs, subst))\n",
    "    f, children = t.decl(), t.children()\n",
    "    for n, arg in enumerate(children):\n",
    "        # recurse into subterms and lift result under f if found something\n",
    "        for s, subst in critical_pair_helper(vs, arg, lhs, rhs):\n",
    "            args = children[:n] + [s] + children[n + 1 :]\n",
    "            res.append((f(*args), subst))\n",
    "    return res\n",
    "\n",
    "x,y,z = smt.Reals(\"x y z\")\n",
    "critical_pair_helper([x,y], -(-(-(x))), -(-(y)), y)\n"
   ]
  },
  {
   "cell_type": "code",
   "execution_count": 2,
   "metadata": {},
   "outputs": [
    {
     "data": {
      "text/plain": [
       "[b == b,\n",
       " b == c,\n",
       " b == d,\n",
       " c == c,\n",
       " c == b,\n",
       " c == c,\n",
       " c == d,\n",
       " d == b,\n",
       " d == c,\n",
       " d == d]"
      ]
     },
     "execution_count": 2,
     "metadata": {},
     "output_type": "execute_result"
    }
   ],
   "source": [
    "def all_pairs(rules):\n",
    "    \"\"\"\n",
    "    Find all the ways the left hand side of two rules can overlap.\n",
    "    Return a derived equation\n",
    "    \n",
    "    \"\"\"\n",
    "    # TODO. I'm not treating encompassment correctly\n",
    "    res = []\n",
    "    for rule1 in rules:\n",
    "        for rule2 in rules:\n",
    "            # we're double counting when rule1 = rule2 but whatever\n",
    "            if any(v1.eq(v2) for v1 in rule1.vs for v2 in rule2.vs):\n",
    "                rule2 = rule2.freshen()\n",
    "            vs = rule1.vs + rule2.vs\n",
    "            for t, subst in critical_pair_helper(vs, rule1.lhs, rule2.lhs, rule2.rhs):\n",
    "                #print(rule1, rule2, t, subst)\n",
    "                apply_rule1 = smt.substitute(rule1.rhs, *subst.items())\n",
    "                apply_rule2 = smt.substitute(t, *subst.items())\n",
    "                vs1 = list(set(vs) - set(subst.keys()))\n",
    "                if len(vs1) == 0:\n",
    "                    res.append(apply_rule1 == apply_rule2)\n",
    "                else:\n",
    "                    res.append(\n",
    "                        smt.ForAll(vs1, apply_rule1 == apply_rule2)\n",
    "                )  # new derived equation\n",
    "    return res\n",
    "\n",
    "a,b,c,d = smt.Reals(\"a b c d\")\n",
    "all_pairs([rw.RewriteRule(vs=[], lhs=x, rhs=y) for x,y in [(a,b), (b,c), (a,c), (a,d)]])\n"
   ]
  },
  {
   "cell_type": "markdown",
   "metadata": {},
   "source": [
    "You also want to orient rewrite rules. `RewriteRule` is a helper namedtuple to hold the pieces of a rule. It's kind of parsing well formed rules out of arbitrary z3 expressions."
   ]
  },
  {
   "cell_type": "code",
   "execution_count": 3,
   "metadata": {},
   "outputs": [
    {
     "data": {
      "text/plain": [
       "RewriteRule(vs=[X!0, Y!1], lhs=X!0*0, rhs=X!0, pf=None)"
      ]
     },
     "execution_count": 3,
     "metadata": {},
     "output_type": "execute_result"
    }
   ],
   "source": [
    "rw.rewrite_of_expr(smt.ForAll([x,y], x * 0 == x))"
   ]
  },
  {
   "cell_type": "code",
   "execution_count": 4,
   "metadata": {},
   "outputs": [
    {
     "name": "stdout",
     "output_type": "stream",
     "text": [
      "RewriteRule(vs=[X!2], lhs=--X!2, rhs=X!2, pf=None)\n",
      "RewriteRule(vs=[X!3], lhs=--X!3, rhs=X!3, pf=None)\n",
      "RewriteRule(vs=[X!4, Y!5, Z!6], lhs=X!4 + Y!5 + Z!6 + X!4 + Y!5, rhs=X!4 + Z!6, pf=None)\n"
     ]
    }
   ],
   "source": [
    "def orient(eq : smt.BoolRef | smt.QuantifierRef, order=rw.kbo) -> rw.RewriteRule:\n",
    "    r = rw.rewrite_of_expr(eq)\n",
    "    if order(r.vs, r.lhs, r.rhs) == rw.Order.GR:\n",
    "        return r\n",
    "    elif order(r.vs, r.rhs, r.lhs) == rw.Order.GR:\n",
    "        return r._replace(lhs=r.rhs, rhs=r.lhs)\n",
    "    else:\n",
    "        raise Exception(\"Cannot orient: \" + str(eq))\n",
    "\n",
    "x,y,z = smt.Reals(\"x y z\")\n",
    "print(orient(smt.ForAll([x], -(-x) == x)))\n",
    "print(orient(smt.ForAll([x], x == -(-x))))\n",
    "print(orient(smt.ForAll([x,y,z], x + z == x + y + z + x + y)))"
   ]
  },
  {
   "cell_type": "markdown",
   "metadata": {},
   "source": [
    "You also want to simplify equations according to the current set of rewrite rules. I use my helper function `rewrite` from knuckledragger to do this. This part is not doing narrowing, you actually want regular pattern matching."
   ]
  },
  {
   "cell_type": "code",
   "execution_count": 5,
   "metadata": {},
   "outputs": [
    {
     "data": {
      "text/html": [
       "&forall;X!8 : -X!8 = -X!8"
      ],
      "text/plain": [
       "ForAll(X!8, -X!8 == -X!8)"
      ]
     },
     "execution_count": 5,
     "metadata": {},
     "output_type": "execute_result"
    }
   ],
   "source": [
    "def simplify(t : smt.BoolRef | smt.QuantifierRef, rules : list[rw.RewriteRule]) -> smt.ExprRef:\n",
    "    r = rw.rewrite_of_expr(t)\n",
    "    lhs = rw.rewrite(r.lhs, rules)\n",
    "    rhs = rw.rewrite(r.rhs, rules)\n",
    "    return r._replace(lhs=lhs, rhs=rhs).to_expr()\n",
    "\n",
    "simplify(smt.ForAll([x], -(-(-(-(-x)))) == -x), [rw.rewrite_of_expr(smt.ForAll([x], -(-x) == x))])"
   ]
  },
  {
   "cell_type": "markdown",
   "metadata": {},
   "source": [
    "This detects trivial `t = t` equations"
   ]
  },
  {
   "cell_type": "code",
   "execution_count": 6,
   "metadata": {},
   "outputs": [],
   "source": [
    "def is_trivial(t):\n",
    "    r = rw.rewrite_of_expr(t)\n",
    "    return r.lhs.eq(r.rhs)\n",
    "\n",
    "assert is_trivial(x == x)\n",
    "assert not is_trivial(x == -(-x))"
   ]
  },
  {
   "cell_type": "markdown",
   "metadata": {},
   "source": [
    "The basic completion method just sprays creating critical pairs until all of them can be reduced to trivial by the current rules. It's a very brute force almost obvious way of attempting to complete (repair confluence) of the rules."
   ]
  },
  {
   "cell_type": "code",
   "execution_count": 7,
   "metadata": {},
   "outputs": [
    {
     "data": {
      "text/plain": [
       "[RewriteRule(vs=[X!9, Y!10, Z!11], lhs=mul(mul(X!9, Y!10), mul(Y!10, Z!11)), rhs=Y!10, pf=None),\n",
       " RewriteRule(vs=[X!29, Z!30, Z!31, Y!32], lhs=mul(Y!32, mul(mul(Y!32, Z!31), Z!30)), rhs=mul(Y!32, Z!31), pf=None),\n",
       " RewriteRule(vs=[X!41, Z!42, X!43, Y!44], lhs=mul(mul(X!43, mul(X!41, Y!44)), Y!44), rhs=mul(X!41, Y!44), pf=None)]"
      ]
     },
     "execution_count": 7,
     "metadata": {},
     "output_type": "execute_result"
    }
   ],
   "source": [
    "def basic(E, order=rw.kbo):\n",
    "    R = []\n",
    "    for eq in E:\n",
    "        R.append(orient(eq, order=order))\n",
    "        #print(\"new\", R[-1])\n",
    "    i = 0\n",
    "    done = False\n",
    "    #print(\"pairing\")\n",
    "    while not done:\n",
    "        done = True\n",
    "        #print(R)\n",
    "        for eq in all_pairs(R):\n",
    "            #print(eq)\n",
    "            eq1 = simplify(eq, R)\n",
    "            if not is_trivial(eq1):\n",
    "                #print(\"orig\", eq,  \"\\nsimp\", eq1)\n",
    "                R.append(orient(eq1))\n",
    "                #print(\"new\", R[-1])\n",
    "                done = False\n",
    "        i += 1\n",
    "    return R\n",
    "\n",
    "# TRaaT 7.1.1 Central Groupoid example\n",
    "T = smt.DeclareSort(\"CentralGroupoid\")\n",
    "x,y,z = smt.Consts(\"x y z\", T)\n",
    "mul = smt.Function(\"mul\", T, T, T)\n",
    "kd.notation.mul.register(T, mul)\n",
    "E = [smt.ForAll([x,y,z], (x * y) * (y * z) == y)]\n",
    "\n",
    "basic(E)"
   ]
  },
  {
   "cell_type": "markdown",
   "metadata": {},
   "source": [
    "This is some variation of the Huet strategy of completion. It enables rules to be removed when they are being subsumed."
   ]
  },
  {
   "cell_type": "code",
   "execution_count": 8,
   "metadata": {},
   "outputs": [
    {
     "data": {
      "text/plain": [
       "[RewriteRule(vs=[Y!320, Z!321, Z!322, X!323], lhs=mul(Y!320, mul(mul(Y!320, Z!321), Z!322)), rhs=mul(Y!320, Z!321), pf=None),\n",
       " RewriteRule(vs=[Y!308, Z!309, X!310, X!311], lhs=mul(mul(X!311, mul(X!310, Y!308)), Y!308), rhs=mul(X!310, Y!308), pf=None),\n",
       " RewriteRule(vs=[X!272, Y!273, Z!274], lhs=mul(mul(X!272, Y!273), mul(Y!273, Z!274)), rhs=Y!273, pf=None)]"
      ]
     },
     "execution_count": 8,
     "metadata": {},
     "output_type": "execute_result"
    }
   ],
   "source": [
    "def huet(E, order=rw.kbo):\n",
    "    E = E.copy()\n",
    "    R = []\n",
    "    while True:\n",
    "        while E:\n",
    "            eq = E.pop()\n",
    "            eq = simplify(eq, R)\n",
    "            if is_trivial(eq):\n",
    "                continue\n",
    "            r = orient(eq, order=order)\n",
    "            Rnew = [r]\n",
    "            for r1 in R:\n",
    "                lhs1 = rw.rewrite(r1.lhs , [r])\n",
    "                if lhs1.eq(r1.lhs):\n",
    "                    rhs1 = rw.rewrite(r1.rhs, R + [r])\n",
    "                    Rnew.append(r1._replace(rhs=rhs1))\n",
    "                else:\n",
    "                    E.append(r1._replace(lhs=lhs1).to_expr())\n",
    "            R = Rnew\n",
    "        #print(R)\n",
    "        for eq in all_pairs(R):\n",
    "            # by marking rules, we can prune the critical pair search, but I haven't done that\n",
    "            # This is something like a semi-naive or given clause optimization\n",
    "            # Always smash against at least 1 fresh new thing (rule in this case).\n",
    "            # It might help a lot. Perfomance benchmarking suggests simplify is the bottleneck\n",
    "            eq1 = simplify(eq, R)\n",
    "            if not is_trivial(eq1):\n",
    "                E.append(eq1)\n",
    "                #break\n",
    "        if len(E) == 0:\n",
    "            return R\n",
    "        #print(E[-1])\n",
    "\n",
    "huet(E)"
   ]
  },
  {
   "cell_type": "markdown",
   "metadata": {},
   "source": [
    "I've implemented both knuth bendix (KBO) and lexicographic path ordering (LPO) by trying to just copy them out of TRaaT\n",
    "\n",
    "I don't find term orderings very intuitive at all.\n",
    "\n",
    "The basic intuition of KBO is that small size is better. You break size ties by recursing into the subtrees https://www.philipzucker.com/ground_kbo/\n",
    "\n",
    "The basic intuition of LPO is that you want to push some symbols inside other symbols (`add` gets pushed inside `succ` for `add(succ(X), Y)) -> succ(add(X,Y))` whereas the sizes are kind of the same) and also that pushing complexity to right children is better than to the left children (like orienting associativity). A related intuition is that the symbol precedence ordering has some relation to the call graph ordering. A good precedence for things that are functional programming-like is often similar to the call graph / definitional ordering of those functions.\n",
    "\n",
    "However, these intuitions get pretty mangled in order to deal with variables correctly. \n",
    "\n",
    "\n",
    "A commonly used example is completing the axioms of an abstract group. I think this needs LPO and not KBO. At least KBO isn't terminating in reasonable time for me.\n",
    "\n",
    "Adding in redundant axioms can make it go much faster. It shortcuts deriving them itself. It's kind of cool actually that the thing is proving theorems like the left identity from the right identity law and other such things."
   ]
  },
  {
   "cell_type": "code",
   "execution_count": 16,
   "metadata": {},
   "outputs": [
    {
     "data": {
      "text/plain": [
       "[RewriteRule(vs=[Z!7317, X!7318], lhs=c_inv(b_mul(X!7318, Z!7317)), rhs=b_mul(c_inv(Z!7317), c_inv(X!7318)), pf=None),\n",
       " RewriteRule(vs=[Z!4647, X!4648], lhs=b_mul(X!4648, b_mul(c_inv(X!4648), Z!4647)), rhs=Z!4647, pf=None),\n",
       " RewriteRule(vs=[X!4638], lhs=c_inv(c_inv(X!4638)), rhs=X!4638, pf=None),\n",
       " RewriteRule(vs=[], lhs=c_inv(a_e), rhs=a_e, pf=None),\n",
       " RewriteRule(vs=[X!4633], lhs=b_mul(X!4633, c_inv(X!4633)), rhs=a_e, pf=None),\n",
       " RewriteRule(vs=[X!4364], lhs=b_mul(X!4364, a_e), rhs=X!4364, pf=None),\n",
       " RewriteRule(vs=[X!4282, Z!4283], lhs=b_mul(c_inv(X!4282), b_mul(X!4282, Z!4283)), rhs=Z!4283, pf=None),\n",
       " RewriteRule(vs=[X!4246], lhs=b_mul(a_e, X!4246), rhs=X!4246, pf=None),\n",
       " RewriteRule(vs=[X!4243], lhs=b_mul(c_inv(X!4243), X!4243), rhs=a_e, pf=None),\n",
       " RewriteRule(vs=[X!4238, Y!4239, Z!4240], lhs=b_mul(b_mul(X!4238, Y!4239), Z!4240), rhs=b_mul(X!4238, b_mul(Y!4239, Z!4240)), pf=None)]"
      ]
     },
     "execution_count": 16,
     "metadata": {},
     "output_type": "execute_result"
    }
   ],
   "source": [
    "T = smt.DeclareSort(\"AbstractGroup\")\n",
    "x,y,z = smt.Consts(\"x y z\", T)\n",
    "e = smt.Const(\"a_e\", T)\n",
    "inv = smt.Function(\"c_inv\", T, T)\n",
    "mul = smt.Function(\"b_mul\", T, T, T)\n",
    "kd.notation.mul.register(T, mul)\n",
    "kd.notation.invert.register(T, inv)\n",
    "E = [\n",
    "    smt.ForAll([x], e * x == x),\n",
    "    # adding in these other redundant axioms makes it easier on the system\n",
    "    #smt.ForAll([x], x * e == x),\n",
    "    #smt.ForAll([x], x * inv(x) == e),\n",
    "    smt.ForAll([x], inv(x) * x == e),\n",
    "    smt.ForAll([x,y,z], (x * y) * z == x * (y * z)),\n",
    "    #smt.ForAll([x,y], inv(x * y) == inv(y) * inv(x))\n",
    "]\n",
    "#basic(E, order=rw.lpo)\n",
    "huet(E, order=rw.lpo)\n"
   ]
  },
  {
   "cell_type": "markdown",
   "metadata": {},
   "source": [
    "# Bits and Bobbles\n",
    "\n",
    "So it's kind of slow. \n",
    "\n",
    "Takes about 4 seconds for the group problem. A lot of time is in the simplifier, which in turn may be slow because of all the wrapping and unwrapping of going into and out of z3 for trivial-ish stuff. Worrying.\n",
    "\n",
    "https://smimram.github.io/ocaml-alg/kb/ This webpage is instantaneous for the group problem\n",
    "\n",
    "eprover is also ludicrously faster. I do believe the saturated clause set represents something like the same data as knuth bendix completion. eprover is a more complicated beast, so it's hard for me to always interpret what it is returning when I'm using it off label from refutational theorem proving."
   ]
  },
  {
   "cell_type": "code",
   "execution_count": 10,
   "metadata": {},
   "outputs": [
    {
     "name": "stdout",
     "output_type": "stream",
     "text": [
      "Overwriting /tmp/group.p\n"
     ]
    }
   ],
   "source": [
    "%%file /tmp/group.p\n",
    "\n",
    "cnf(id_left, axiom, mul(e, X) = X).\n",
    "cnf(inv_left, axiom, mul(inv(X), X) = e).\n",
    "cnf(assoc, axiom, mul(mul(X, Y), Z) = mul(X, mul(Y, Z))).\n"
   ]
  },
  {
   "cell_type": "code",
   "execution_count": 11,
   "metadata": {},
   "outputs": [
    {
     "name": "stdout",
     "output_type": "stream",
     "text": [
      "# Initializing proof state\n",
      "# Scanning for AC axioms\n",
      "# mul is associative\n",
      "#\n",
      "#cnf(i_0_4, plain, (mul(e,X1)=X1)).\n",
      "#\n",
      "#cnf(i_0_5, plain, (mul(inv(X1),X1)=e)).\n",
      "#\n",
      "#cnf(i_0_6, plain, (mul(mul(X1,X2),X3)=mul(X1,mul(X2,X3)))).\n",
      "#\n",
      "#cnf(i_0_8, plain, (mul(inv(X1),mul(X1,X2))=X2)).\n",
      "#\n",
      "#cnf(i_0_14, plain, (mul(inv(e),X1)=X1)).\n",
      "#\n",
      "#cnf(i_0_12, plain, (mul(inv(inv(X1)),e)=X1)).\n",
      "#\n",
      "#cnf(i_0_16, plain, (mul(inv(inv(e)),X1)=X1)).\n",
      "#\n",
      "#cnf(i_0_23, plain, (inv(e)=e)).\n",
      "#\n",
      "#cnf(i_0_11, plain, (mul(inv(inv(X1)),X2)=mul(X1,X2))).\n",
      "#\n",
      "#cnf(i_0_12, plain, (mul(X1,e)=X1)).\n",
      "#\n",
      "#cnf(i_0_33, plain, (inv(inv(X1))=X1)).\n",
      "#\n",
      "#cnf(i_0_38, plain, (mul(X1,inv(X1))=e)).\n",
      "#\n",
      "#cnf(i_0_39, plain, (mul(X1,mul(inv(X1),X2))=X2)).\n",
      "##\n",
      "#cnf(i_0_41, plain, (mul(X1,mul(X2,inv(mul(X1,X2))))=e)).\n",
      "#\n",
      "#cnf(i_0_61, plain, (mul(X2,inv(mul(X1,X2)))=inv(X1))).\n",
      "#\n",
      "#cnf(i_0_78, plain, (mul(inv(mul(X1,X2)),X1)=inv(X2))).\n",
      "#\n",
      "#cnf(i_0_77, plain, (inv(mul(X2,X1))=mul(inv(X1),inv(X2)))).\n",
      "##\n",
      "# No proof found!\n",
      "# SZS status Satisfiable\n",
      "# Processed positive unit clauses:\n",
      "cnf(i_0_4, plain, (mul(e,X1)=X1)).\n",
      "cnf(i_0_5, plain, (mul(inv(X1),X1)=e)).\n",
      "cnf(i_0_6, plain, (mul(mul(X1,X2),X3)=mul(X1,mul(X2,X3)))).\n",
      "cnf(i_0_8, plain, (mul(inv(X1),mul(X1,X2))=X2)).\n",
      "cnf(i_0_23, plain, (inv(e)=e)).\n",
      "cnf(i_0_12, plain, (mul(X1,e)=X1)).\n",
      "cnf(i_0_33, plain, (inv(inv(X1))=X1)).\n",
      "cnf(i_0_38, plain, (mul(X1,inv(X1))=e)).\n",
      "cnf(i_0_39, plain, (mul(X1,mul(inv(X1),X2))=X2)).\n",
      "cnf(i_0_77, plain, (inv(mul(X1,X2))=mul(inv(X2),inv(X1)))).\n",
      "\n",
      "# Processed negative unit clauses:\n",
      "\n",
      "# Processed non-unit clauses:\n",
      "\n",
      "# Unprocessed positive unit clauses:\n",
      "\n",
      "# Unprocessed negative unit clauses:\n",
      "\n",
      "# Unprocessed non-unit clauses:\n",
      "\n",
      "\n",
      "\n",
      "real\t0m0.003s\n",
      "user\t0m0.001s\n",
      "sys\t0m0.002s\n"
     ]
    }
   ],
   "source": [
    "! time eprover-ho --print-saturated /tmp/group.p # you can also fiddle with the term ordering --term-ordering=KBO6  --order-weights or --precedence"
   ]
  },
  {
   "cell_type": "markdown",
   "metadata": {},
   "source": [
    "Some other links to look at\n",
    "\n",
    "https://www.philipzucker.com/string_knuth/\n",
    "\n",
    "https://github.com/codyroux/knuth-bendix\n",
    "\n",
    "- Twee\n",
    "- Waldmeister https://www.mpi-inf.mpg.de/departments/automation-of-logic/software/waldmeister/download a fast C knuth bendix. Where's the source though?\n",
    "\n",
    "Superposition provers are quite related. E prover, zipperposition, SPASS\n",
    "\n",
    "mkbtt https://github.com/bytekid/mkbtt\n",
    "\n",
    "https://www.metalevel.at/trs/ prolog knuth bendix\n",
    "\n",
    "https://github.com/smimram/ocaml-alg\n",
    "\n",
    "https://github.com/brandonwillard/mk-rewrite-completion\n",
    "\n",
    "\n",
    "https://rg1-teaching.mpi-inf.mpg.de/autrea-ss11/script-4.7.pdf\n",
    "\n",
    "\n",
    "Just implement paramodulation.\n",
    "\n"
   ]
  },
  {
   "cell_type": "code",
   "execution_count": 17,
   "metadata": {},
   "outputs": [
    {
     "data": {
      "text/plain": [
       "False"
      ]
     },
     "execution_count": 17,
     "metadata": {},
     "output_type": "execute_result"
    }
   ],
   "source": [
    "import z3\n",
    "z3.Z3_DEBUG = False\n",
    "smt.z3_debug()\n",
    "smt.z3.Z3_DEBUG = False\n",
    "smt.z3.z3_debug()\n",
    "# turning off debug sanity checks shaves about 1s off, 25% speedup"
   ]
  },
  {
   "cell_type": "code",
   "execution_count": 18,
   "metadata": {},
   "outputs": [
    {
     "name": "stdout",
     "output_type": "stream",
     "text": [
      " "
     ]
    },
    {
     "name": "stdout",
     "output_type": "stream",
     "text": [
      "         39345171 function calls (39247118 primitive calls) in 10.420 seconds\n",
      "\n",
      "   Ordered by: internal time\n",
      "\n",
      "   ncalls  tottime  percall  cumtime  percall filename:lineno(function)\n",
      "  3905417    1.420    0.000    1.595    0.000 z3core.py:1567(Check)\n",
      "654671/654428    0.482    0.000    0.820    0.000 z3core.py:2979(Z3_func_decl_to_ast)\n",
      "   559621    0.425    0.000    0.714    0.000 z3core.py:3124(Z3_get_ast_kind)\n",
      "   544941    0.408    0.000    1.739    0.000 z3.py:345(__init__)\n",
      "   544941    0.405    0.000    0.680    0.000 z3core.py:1637(Z3_inc_ref)\n",
      "   544705    0.396    0.000    1.389    0.000 z3.py:350(__del__)\n",
      "  8355539    0.385    0.000    0.385    0.000 z3types.py:24(from_param)\n",
      "  2120782    0.380    0.000    0.496    0.000 z3.py:400(ctx_ref)\n",
      "    35444    0.328    0.000    7.737    0.000 utils.py:48(pmatch)\n",
      "   544705    0.320    0.000    0.373    0.000 z3core.py:1641(Z3_dec_ref)\n",
      "   339799    0.307    0.000    0.525    0.000 z3core.py:3094(Z3_is_eq_ast)\n",
      "   234008    0.297    0.000    1.723    0.000 z3.py:1158(_to_expr_ref)\n",
      "   339799    0.283    0.000    1.337    0.000 z3.py:404(eq)\n",
      "  4526811    0.249    0.000    0.249    0.000 z3.py:218(ref)\n",
      "   337128    0.248    0.000    0.419    0.000 z3core.py:2874(Z3_get_sort_kind)\n",
      "   322577    0.240    0.000    0.401    0.000 z3core.py:3109(Z3_get_sort)\n",
      "   293366    0.222    0.000    0.372    0.000 z3core.py:3079(Z3_get_app_decl)\n",
      "654671/654428    0.211    0.000    1.175    0.000 z3.py:748(as_ast)\n",
      "   325613    0.207    0.000    0.731    0.000 z3.py:491(_ast_kind)\n",
      "   209012    0.201    0.000    0.308    0.000 z3core.py:3089(Z3_get_app_arg)\n",
      "3413754/3411483    0.198    0.000    0.210    0.000 z3types.py:64(from_param)\n",
      "   200747    0.187    0.000    1.312    0.000 z3.py:1061(decl)\n",
      "   209012    0.180    0.000    2.100    0.000 z3.py:1099(arg)\n",
      "   223829    0.172    0.000    0.290    0.000 z3core.py:2864(Z3_sort_to_ast)\n",
      "  1992882    0.123    0.000    0.123    0.000 z3.py:990(as_ast)\n",
      "   326816    0.111    0.000    0.865    0.000 z3.py:1290(is_app)\n",
      "   139271    0.104    0.000    0.331    0.000 z3.py:1083(num_args)\n",
      "   139271    0.103    0.000    0.175    0.000 z3core.py:3084(Z3_get_app_num_args)\n",
      "991331/991327    0.084    0.000    0.084    0.000 {built-in method builtins.isinstance}\n",
      "   103120    0.081    0.000    0.678    0.000 z3.py:660(_to_sort_ref)\n",
      "  1121613    0.080    0.000    0.080    0.000 z3.py:62(z3_debug)\n",
      "    92619    0.079    0.000    0.362    0.000 z3.py:1076(kind)\n",
      "   223829    0.075    0.000    0.416    0.000 z3.py:562(as_ast)\n",
      "    90663    0.070    0.000    0.117    0.000 z3core.py:3104(Z3_get_ast_hash)\n",
      "    92619    0.069    0.000    0.116    0.000 z3core.py:2999(Z3_get_decl_kind)\n",
      "145880/143693    0.056    0.000    0.761    0.000 {built-in method builtins.any}\n",
      "   255325    0.053    0.000    0.543    0.000 utils.py:63(<genexpr>)\n",
      "    90663    0.050    0.000    0.275    0.000 z3.py:440(hash)\n",
      "    88569    0.048    0.000    0.750    0.000 z3.py:691(_sort)\n",
      "    35444    0.048    0.000    8.013    0.000 rewrite.py:281(rewrite1_rule)\n",
      "   325613    0.047    0.000    0.068    0.000 z3.py:451(is_ast)\n",
      "772676/772479    0.046    0.000    0.047    0.000 z3types.py:56(from_param)\n",
      "    13990    0.044    0.000    0.345    0.000 z3.py:837(__call__)\n",
      "12159/2134    0.042    0.000    8.853    0.004 rewrite.py:404(worker)\n",
      "    53759    0.041    0.000    0.690    0.000 z3.py:1120(children)\n",
      "   550792    0.040    0.000    0.040    0.000 z3.py:260(_get_ctx)\n",
      "    96960    0.038    0.000    0.622    0.000 utils.py:62(is_var)\n",
      "    92619    0.038    0.000    0.651    0.000 z3.py:1393(is_app_of)\n",
      "   635290    0.038    0.000    0.039    0.000 z3types.py:48(from_param)\n",
      "   103120    0.036    0.000    0.173    0.000 z3.py:555(_sort_kind)\n",
      "    35444    0.033    0.000    0.053    0.000 z3core.py:2869(Z3_is_eq_sort)\n",
      "    88569    0.033    0.000    0.788    0.000 z3.py:996(sort)\n",
      "     2134    0.030    0.000    9.351    0.004 rewrite.py:380(rewrite)\n",
      "34383/17765    0.029    0.000    0.454    0.000 utils.py:65(check_escape)\n",
      "   106360    0.026    0.000    0.698    0.000 z3.py:364(__eq__)\n",
      "    13990    0.023    0.000    0.032    0.000 z3core.py:1861(Z3_mk_app)\n",
      "    90663    0.021    0.000    0.296    0.000 z3.py:367(__hash__)\n",
      "    77445    0.020    0.000    0.561    0.000 z3.py:4939(is_select)\n",
      "     4863    0.019    0.000    0.080    0.000 z3.py:8986(substitute)\n",
      "    35444    0.015    0.000    0.077    0.000 z3.py:631(__ne__)\n",
      "   117467    0.014    0.000    0.014    0.000 {method 'append' of 'list' objects}\n",
      "     4863    0.014    0.000    0.017    0.000 z3core.py:3359(Z3_substitute)\n",
      "     1710    0.013    0.000    0.346    0.000 utils.py:140(unify)\n",
      "  34648/1    0.013    0.000    0.001    0.001 {built-in method builtins.all}\n",
      "    44394    0.013    0.000    0.119    0.000 z3.py:1036(__hash__)\n",
      "    11198    0.012    0.000    0.018    0.000 z3core.py:3014(Z3_get_domain)\n",
      "   101101    0.012    0.000    0.012    0.000 {method 'pop' of 'list' objects}\n",
      "     5863    0.011    0.000    0.192    0.000 z3.py:1227(_coerce_exprs)\n",
      "     1203    0.011    0.000    0.012    0.000 z3core.py:2819(Z3_mk_quantifier_const_ex)\n",
      "     1203    0.011    0.000    0.040    0.000 z3.py:2244(_mk_quantifier)\n",
      "51001/28143    0.010    0.000    0.209    0.000 utils.py:69(<genexpr>)\n",
      "     3445    0.010    0.000    0.014    0.000 z3core.py:1876(Z3_mk_fresh_const)\n",
      "     5863    0.010    0.000    0.251    0.000 z3.py:1019(__eq__)\n",
      "     4580    0.009    0.000    0.245    0.000 z3.py:373(__bool__)\n",
      "     1349    0.009    0.000    0.169    0.000 utils.py:15(open_binder)\n",
      "     5863    0.009    0.000    0.012    0.000 z3core.py:1900(Z3_mk_eq)\n",
      "    19189    0.008    0.000    0.126    0.000 {method 'get' of 'dict' objects}\n",
      "     1349    0.008    0.000    0.009    0.000 z3core.py:3364(Z3_substitute_vars)\n",
      "    18853    0.008    0.000    0.012    0.000 z3.py:144(_get_args)\n",
      "        6    0.007    0.001    0.710    0.118 1089511573.py:1(all_pairs)\n",
      "    11198    0.007    0.000    0.103    0.000 z3.py:778(domain)\n",
      " 3160/610    0.007    0.000    0.469    0.001 3721489288.py:6(critical_pair_helper)\n",
      "    74820    0.007    0.000    0.007    0.000 {built-in method builtins.len}\n",
      "     1349    0.006    0.000    0.026    0.000 z3.py:9019(substitute_vars)\n",
      "    11726    0.006    0.000    0.154    0.000 z3.py:1208(_coerce_expr_merge)\n",
      "     1434    0.006    0.000    0.231    0.000 rewrite.py:320(rewrite_of_expr)\n",
      "    27312    0.005    0.000    0.067    0.000 utils.py:148(<genexpr>)\n",
      "     5863    0.005    0.000    0.341    0.000 notation.py:80(__call__)\n",
      "    34383    0.005    0.000    0.006    0.000 utils.py:66(<genexpr>)\n",
      "     3551    0.005    0.000    0.010    0.000 z3core.py:2844(Z3_get_symbol_string)\n",
      "     5863    0.005    0.000    0.366    0.000 notation.py:173(<lambda>)\n",
      "    22924    0.005    0.000    0.007    0.000 z3.py:593(cast)\n",
      "3512/1434    0.004    0.000    0.061    0.000 utils.py:204(occurs)\n",
      "     3353    0.004    0.000    0.005    0.000 z3core.py:3319(Z3_get_quantifier_bound_sort)\n",
      "     5851    0.003    0.000    0.006    0.000 z3core.py:88(_str_to_bytes)\n",
      "     3353    0.003    0.000    0.005    0.000 z3core.py:3314(Z3_get_quantifier_bound_name)\n",
      "     2406    0.003    0.000    0.007    0.000 z3core.py:1750(Z3_mk_string_symbol)\n",
      "1893/1750    0.003    0.000    0.054    0.000 utils.py:262(alpha_eq)\n",
      "      448    0.003    0.000    0.006    0.000 ipkernel.py:775(_clean_thread_parent_frames)\n",
      "     3551    0.003    0.000    0.005    0.000 z3core.py:2834(Z3_get_symbol_kind)\n",
      "    18792    0.003    0.000    0.004    0.000 z3.py:1267(is_expr)\n",
      "     3445    0.003    0.000    0.044    0.000 z3.py:1489(FreshConst)\n",
      "     3551    0.003    0.000    0.018    0.000 z3.py:132(_symbol2py)\n",
      "     3353    0.003    0.000    0.026    0.000 z3.py:2186(var_name)\n",
      "     3353    0.003    0.000    0.032    0.000 z3.py:2202(var_sort)\n",
      "     6466    0.003    0.000    0.073    0.000 utils.py:147(is_var)\n",
      "      700    0.003    0.000    8.860    0.013 1833036872.py:1(simplify)\n",
      "     2406    0.002    0.000    0.011    0.000 z3.py:124(to_symbol)\n",
      "    10412    0.002    0.000    0.027    0.000 3721489288.py:18(<genexpr>)\n",
      "5273/2557    0.002    0.000    0.047    0.000 utils.py:218(<genexpr>)\n",
      "     3551    0.002    0.000    0.003    0.000 z3core.py:95(_to_pystr)\n",
      "     5863    0.002    0.000    0.252    0.000 smt.py:153(Eq)\n",
      "     1101    0.002    0.000    0.004    0.000 __init__.py:457(_replace)\n",
      "     5863    0.002    0.000    0.027    0.000 z3.py:642(__hash__)\n",
      "     1349    0.002    0.000    0.002    0.000 z3core.py:3259(Z3_is_quantifier_forall)\n",
      "     6014    0.002    0.000    0.045    0.000 z3.py:1716(is_eq)\n",
      "      224    0.001    0.000    0.002    0.000 threading.py:1533(enumerate)\n",
      "     2586    0.001    0.000    0.001    0.000 {built-in method __new__ of type object at 0xa43b40}\n",
      "     4580    0.001    0.000    0.036    0.000 z3.py:1636(is_true)\n",
      "     1349    0.001    0.000    0.002    0.000 z3core.py:3309(Z3_get_quantifier_num_bound)\n",
      "     1349    0.001    0.000    0.002    0.000 z3core.py:3324(Z3_get_quantifier_body)\n",
      "      724    0.001    0.000    0.074    0.000 rewrite.py:261(to_expr)\n",
      "     4580    0.001    0.000    0.034    0.000 z3.py:1654(is_false)\n",
      "     5851    0.001    0.000    0.001    0.000 {method 'encode' of 'str' objects}\n",
      "     1203    0.001    0.000    0.041    0.000 z3.py:2279(ForAll)\n",
      "      700    0.001    0.000    0.120    0.000 1269168809.py:1(is_trivial)\n",
      "     1568    0.001    0.000    0.001    0.000 threading.py:1196(ident)\n",
      "    339/0    0.001    0.000    0.000          rewrite.py:523(lpo)\n",
      "     1349    0.001    0.000    0.013    0.000 z3.py:2163(body)\n",
      "     1349    0.001    0.000    0.003    0.000 z3.py:2174(num_vars)\n",
      "     9402    0.001    0.000    0.001    0.000 {built-in method sys.getdefaultencoding}\n",
      "     1203    0.001    0.000    0.001    0.000 z3.py:523(_to_ast_array)\n",
      "     1349    0.001    0.000    0.004    0.000 z3.py:2050(is_forall)\n",
      "     3353    0.001    0.000    0.001    0.000 {method 'split' of 'str' objects}\n",
      "     2535    0.001    0.000    0.001    0.000 {method 'extend' of 'list' objects}\n",
      "     3551    0.001    0.000    0.001    0.000 {method 'decode' of 'bytes' objects}\n",
      "     2226    0.001    0.000    0.006    0.000 1089511573.py:12(<genexpr>)\n",
      "     3617    0.001    0.000    0.001    0.000 {method 'items' of 'dict' objects}\n",
      "     9508    0.001    0.000    0.001    0.000 z3types.py:40(from_param)\n",
      "     1101    0.001    0.000    0.002    0.000 __init__.py:447(_make)\n",
      "     1485    0.001    0.000    0.001    0.000 <string>:1(<lambda>)\n",
      "     3360    0.001    0.000    0.001    0.000 {method 'upper' of 'str' objects}\n",
      "       51    0.001    0.000    0.007    0.000 rewrite.py:245(freshen)\n",
      "     2406    0.000    0.000    0.001    0.000 z3.py:71(_is_int)\n",
      "   376/96    0.000    0.000    0.012    0.000 utils.py:230(is_subterm)\n",
      "      584    0.000    0.000    0.004    0.000 rewrite.py:530(is_var)\n",
      "     1594    0.000    0.000    0.004    0.000 rewrite.py:531(<genexpr>)\n",
      "      7/2    0.000    0.000    0.001    0.001 events.py:86(_run)\n",
      "     1298    0.000    0.000    0.000    0.000 z3.py:2230(is_quantifier)\n",
      "     1455    0.000    0.000    0.000    0.000 {method 'keys' of 'dict' objects}\n",
      "      198    0.000    0.000    0.000    0.000 z3core.py:2994(Z3_get_decl_name)\n",
      "     2406    0.000    0.000    0.000    0.000 z3.py:2038(as_ast)\n",
      "      198    0.000    0.000    0.002    0.000 z3.py:757(name)\n",
      "   143/95    0.000    0.000    0.006    0.000 utils.py:296(<genexpr>)\n",
      "   273/85    0.000    0.000    0.014    0.000 rewrite.py:545(<genexpr>)\n",
      "      448    0.000    0.000    0.000    0.000 {method 'values' of 'dict' objects}\n",
      "     33/0    0.000    0.000    0.000          45952297.py:1(orient)\n",
      "      225    0.000    0.000    0.000    0.000 {method '__exit__' of '_thread.RLock' objects}\n",
      "  441/152    0.000    0.000    0.007    0.000 utils.py:237(<genexpr>)\n",
      "      106    0.000    0.000    0.000    0.000 z3core.py:3099(Z3_get_ast_id)\n",
      "        1    0.000    0.000    0.001    0.001 zmqstream.py:624(_handle_recv)\n",
      "        1    0.000    0.000    0.000    0.000 {method 'disable' of '_lsprof.Profiler' objects}\n",
      "      106    0.000    0.000    0.000    0.000 z3.py:751(get_id)\n",
      "        7    0.000    0.000    0.000    0.000 attrsettr.py:66(_get_attr_opt)\n",
      "     77/3    0.000    0.000    0.000    0.000 rewrite.py:547(<genexpr>)\n",
      "        7    0.000    0.000    0.002    0.000 base_events.py:1910(_run_once)\n",
      "        7    0.000    0.000    0.000    0.000 socket.py:626(send)\n",
      "    43/41    0.000    0.000    0.005    0.000 rewrite.py:558(<genexpr>)\n",
      "        1    0.000    0.000    0.000    0.000 iostream.py:127(_event_pipe_gc)\n",
      "       63    0.000    0.000    0.000    0.000 enum.py:1544(_get_value)\n",
      "        7    0.000    0.000    0.000    0.000 attrsettr.py:43(__getattr__)\n",
      "      6/2    0.000    0.000    0.000    0.000 selectors.py:451(select)\n",
      "       11    0.000    0.000    0.000    0.000 enum.py:1562(__and__)\n",
      "        3    0.000    0.000    0.000    0.000 socket.py:236(close)\n",
      "      6/2    0.000    0.000    0.000    0.000 {method 'poll' of 'select.epoll' objects}\n",
      "        1    0.000    0.000    0.000    0.000 inspect.py:3102(_bind)\n",
      "      6/5    0.000    0.000    0.001    0.000 {method 'run' of '_contextvars.Context' objects}\n",
      "       29    0.000    0.000    0.000    0.000 enum.py:726(__call__)\n",
      "        1    0.000    0.000    0.000    0.000 queues.py:225(get)\n",
      "       10    0.000    0.000    0.000    0.000 enum.py:1551(__or__)\n",
      "        1    0.000    0.000    0.000    0.000 history.py:845(writeout_cache)\n",
      "        2    0.000    0.000    0.000    0.000 typing.py:1194(__instancecheck__)\n",
      "        1    0.000    0.000    0.000    0.000 {method 'recv' of '_socket.socket' objects}\n",
      "        3    0.000    0.000    0.001    0.000 zmqstream.py:583(_handle_events)\n",
      "        4    0.000    0.000    0.000    0.000 zmqstream.py:663(_rebuild_io_state)\n",
      "        1    0.000    0.000    0.000    0.000 traitlets.py:1512(_notify_trait)\n",
      "        1    0.000    0.000    0.000    0.000 iostream.py:276(<lambda>)\n",
      "        1    0.000    0.000    0.000    0.000 zmqstream.py:556(_run_callback)\n",
      "       29    0.000    0.000    0.000    0.000 enum.py:1129(__new__)\n",
      "        6    0.000    0.000    0.000    0.000 threading.py:1220(is_alive)\n",
      "        1    0.000    0.000    0.000    0.000 kernelbase.py:302(poll_control_queue)\n",
      "        1    0.000    0.000    0.000    0.000 {method 'execute' of 'sqlite3.Connection' objects}\n",
      "        1    0.000    0.000    0.000    0.000 iostream.py:118(_run_event_pipe_gc)\n",
      "        2    0.000    0.000    0.000    0.000 traitlets.py:3631(set)\n",
      "       12    0.000    0.000    0.000    0.000 {built-in method builtins.hasattr}\n",
      "        4    0.000    0.000    0.000    0.000 events.py:36(__init__)\n",
      "        4    0.000    0.000    0.000    0.000 queue.py:97(empty)\n",
      "        2    0.000    0.000    0.000    0.000 traitlets.py:718(_validate)\n",
      "       12    0.000    0.000    0.000    0.000 {built-in method builtins.max}\n",
      "        2    0.000    0.000    0.000    0.000 tasks.py:653(sleep)\n",
      "        4    0.000    0.000    0.000    0.000 zmqstream.py:686(_update_handler)\n",
      "        1    0.000    0.000    0.000    0.000 decorator.py:199(fix)\n",
      "        3    0.000    0.000    0.000    0.000 base_events.py:814(_call_soon)\n",
      "        7    0.000    0.000    0.000    0.000 <frozen importlib._bootstrap>:1390(_handle_fromlist)\n",
      "        2    0.000    0.000    0.000    0.000 traitlets.py:3474(validate)\n",
      "        1    0.000    0.000    0.000    0.000 traitlets.py:1527(_notify_observers)\n",
      "        2    0.000    0.000    0.000    0.000 traitlets.py:689(set)\n",
      "        6    0.000    0.000    0.000    0.000 traitlets.py:676(__get__)\n",
      "        2    0.000    0.000    0.000    0.000 traitlets.py:727(_cross_validate)\n",
      "      9/3    0.000    0.000    0.000    0.000 {method 'acquire' of '_thread.lock' objects}\n",
      "        1    0.000    0.000    0.000    0.000 socket.py:774(recv_multipart)\n",
      "        2    0.000    0.000    0.000    0.000 traitlets.py:3624(validate_elements)\n",
      "        2    0.000    0.000    0.000    0.000 {method '__exit__' of 'sqlite3.Connection' objects}\n",
      "       10    0.000    0.000    0.000    0.000 {built-in method builtins.getattr}\n",
      "        3    0.000    0.000    0.000    0.000 threading.py:299(__enter__)\n",
      "        6    0.000    0.000    0.000    0.000 threading.py:1153(_wait_for_tstate_lock)\n",
      "        1    0.000    0.000    0.000    0.000 {method 'send' of '_socket.socket' objects}\n",
      "       11    0.000    0.000    0.000    0.000 base_events.py:734(time)\n",
      "        6    0.000    0.000    0.000    0.000 selector_events.py:750(_process_events)\n",
      "        1    0.000    0.000    0.000    0.000 queues.py:256(get_nowait)\n",
      "        2    0.000    0.000    0.000    0.000 {built-in method builtins.issubclass}\n",
      "        2    0.000    0.000    0.000    0.000 typing.py:1465(__subclasscheck__)\n",
      "        1    0.000    0.000    0.000    0.000 events.py:155(cancel)\n",
      "        2    0.000    0.000    0.000    0.000 traitlets.py:2304(validate)\n",
      "        3    0.000    0.000    0.000    0.000 _weakrefset.py:115(discard)\n",
      "        6    0.000    0.000    0.000    0.000 traitlets.py:629(get)\n",
      "        1    0.000    0.000    0.000    0.000 futures.py:311(_set_result_unless_cancelled)\n",
      "        1    0.000    0.000    0.000    0.000 asyncio.py:225(add_callback)\n",
      "        1    0.000    0.000    0.000    0.000 base_events.py:447(create_future)\n",
      "        1    0.000    0.000    0.000    0.000 inspect.py:3237(bind)\n",
      "        1    0.000    0.000    0.000    0.000 traitlets.py:1523(notify_change)\n",
      "        1    0.000    0.000    0.000    0.000 inspect.py:2918(apply_defaults)\n",
      "        3    0.000    0.000    0.000    0.000 threading.py:1079(_stop)\n",
      "        2    0.000    0.000    0.000    0.000 traitlets.py:708(__set__)\n",
      "        1    0.000    0.000    0.000    0.000 threading.py:308(_release_save)\n",
      "        1    0.000    0.000    0.000    0.000 base_events.py:743(call_later)\n",
      "        1    0.000    0.000    0.000    0.000 iostream.py:157(_handle_event)\n",
      "        9    0.000    0.000    0.000    0.000 {method '__exit__' of '_thread.lock' objects}\n",
      "        1    0.000    0.000    0.000    0.000 base_events.py:767(call_at)\n",
      "        1    0.000    0.000    0.000    0.000 iostream.py:278(_really_send)\n",
      "        6    0.000    0.000    0.000    0.000 {method 'discard' of 'set' objects}\n",
      "        3    0.000    0.000    0.000    0.000 context.py:285(_rm_socket)\n",
      "        1    0.000    0.000    0.000    0.000 base_events.py:838(call_soon_threadsafe)\n",
      "        4    0.000    0.000    0.000    0.000 zmqstream.py:542(sending)\n",
      "        1    0.000    0.000    0.000    0.000 {method 'set_result' of '_asyncio.Future' objects}\n",
      "        1    0.000    0.000    0.000    0.000 history.py:839(_writeout_output_cache)\n",
      "        3    0.000    0.000    0.000    0.000 threading.py:302(__exit__)\n",
      "       11    0.000    0.000    0.000    0.000 {built-in method time.monotonic}\n",
      "        1    0.000    0.000    0.000    0.000 threading.py:311(_acquire_restore)\n",
      "        8    0.000    0.000    0.000    0.000 {method 'append' of 'collections.deque' objects}\n",
      "        1    0.000    0.000    0.000    0.000 inspect.py:2865(args)\n",
      "        3    0.000    0.000    0.000    0.000 typing.py:392(inner)\n",
      "        2    0.000    0.000    0.000    0.000 asyncio.py:200(_handle_events)\n",
      "        1    0.000    0.000    0.000    0.000 _base.py:537(set_result)\n",
      "        2    0.000    0.000    0.000    0.000 {built-in method _abc._abc_subclasscheck}\n",
      "        2    0.000    0.000    0.000    0.000 base_events.py:785(call_soon)\n",
      "        4    0.000    0.000    0.000    0.000 {built-in method math.ceil}\n",
      "        1    0.000    0.000    0.000    0.000 threading.py:424(notify_all)\n",
      "       23    0.000    0.000    0.000    0.000 typing.py:2154(cast)\n",
      "        2    0.000    0.000    0.000    0.000 traitlets.py:3486(validate_elements)\n",
      "        4    0.000    0.000    0.000    0.000 {built-in method builtins.min}\n",
      "        4    0.000    0.000    0.000    0.000 queue.py:209(_qsize)\n",
      "        1    0.000    0.000    0.000    0.000 history.py:55(only_when_enabled)\n",
      "        3    0.000    0.000    0.000    0.000 socket.py:175(__del__)\n",
      "        1    0.000    0.000    0.000    0.000 futures.py:394(_call_set_state)\n",
      "        1    0.000    0.000    0.000    0.000 history.py:833(_writeout_input_cache)\n",
      "        1    0.000    0.000    0.001    0.001 zmqstream.py:694(<lambda>)\n",
      "        2    0.000    0.000    0.000    0.000 <frozen abc>:121(__subclasscheck__)\n",
      "        6    0.000    0.000    0.000    0.000 {built-in method builtins.next}\n",
      "        1    0.000    0.000    0.000    0.000 selector_events.py:141(_write_to_self)\n",
      "        1    0.000    0.000    0.000    0.000 queues.py:173(qsize)\n",
      "        2    0.000    0.000    0.000    0.000 {built-in method _asyncio.get_running_loop}\n",
      "        1    0.000    0.000    0.000    0.000 _base.py:337(_invoke_callbacks)\n",
      "        2    0.000    0.000    0.000    0.000 typing.py:1258(__hash__)\n",
      "        1    0.000    0.000    0.000    0.000 socket.py:703(send_multipart)\n",
      "        3    0.000    0.000    0.000    0.000 {built-in method _contextvars.copy_context}\n",
      "        1    0.000    0.000    0.000    0.000 threading.py:394(notify)\n",
      "        1    0.000    0.000    0.000    0.000 decorator.py:229(fun)\n",
      "        3    0.000    0.000    0.000    0.000 _weakrefset.py:39(_remove)\n",
      "        7    0.000    0.000    0.000    0.000 {method 'popleft' of 'collections.deque' objects}\n",
      "        1    0.000    0.000    0.000    0.000 threading.py:627(clear)\n",
      "        1    0.000    0.000    0.000    0.000 {built-in method _thread.allocate_lock}\n",
      "        1    0.000    0.000    0.000    0.000 inspect.py:2888(kwargs)\n",
      "        1    0.000    0.000    0.001    0.001 ioloop.py:742(_run_callback)\n",
      "        5    0.000    0.000    0.000    0.000 zmqstream.py:538(receiving)\n",
      "        7    0.000    0.000    0.000    0.000 base_events.py:2005(get_debug)\n",
      "        1    0.000    0.000    0.000    0.000 events.py:111(__init__)\n",
      "        1    0.000    0.000    0.000    0.000 iostream.py:213(_is_master_process)\n",
      "        1    0.000    0.000    0.000    0.000 queues.py:322(_consume_expired)\n",
      "        1    0.000    0.000    0.000    0.000 {method 'values' of 'mappingproxy' objects}\n",
      "        3    0.000    0.000    0.000    0.000 threading.py:1234(daemon)\n",
      "        4    0.000    0.000    0.000    0.000 base_events.py:539(_check_closed)\n",
      "        1    0.000    0.000    0.000    0.000 events.py:72(cancel)\n",
      "       10    0.000    0.000    0.000    0.000 inspect.py:2777(kind)\n",
      "        3    0.000    0.000    0.000    0.000 {method 'items' of 'mappingproxy' objects}\n",
      "        6    0.000    0.000    0.000    0.000 threading.py:601(is_set)\n",
      "        4    0.000    0.000    0.000    0.000 {method 'release' of '_thread.lock' objects}\n",
      "        2    0.000    0.000    0.000    0.000 {method '__enter__' of '_thread.lock' objects}\n",
      "        1    0.000    0.000    0.000    0.000 threading.py:314(_is_owned)\n",
      "        1    0.000    0.000    0.000    0.000 unix_events.py:81(_process_self_data)\n",
      "        2    0.000    0.000    0.000    0.000 selectors.py:275(_key_from_fd)\n",
      "        2    0.000    0.000    0.000    0.000 base_events.py:1895(_add_callback)\n",
      "        1    0.000    0.000    0.000    0.000 {built-in method _heapq.heappop}\n",
      "        2    0.000    0.000    0.000    0.000 {method 'cancelled' of '_asyncio.Future' objects}\n",
      "        1    0.000    0.000    0.000    0.000 iostream.py:216(_check_mp_mode)\n",
      "        1    0.000    0.000    0.000    0.000 {method 'copy' of 'list' objects}\n",
      "        2    0.000    0.000    0.000    0.000 {built-in method builtins.iter}\n",
      "        1    0.000    0.000    0.000    0.000 {method '__enter__' of '_thread.RLock' objects}\n",
      "        4    0.000    0.000    0.000    0.000 inspect.py:3058(parameters)\n",
      "        1    0.000    0.000    0.000    0.000 {built-in method posix.getpid}\n",
      "        1    0.000    0.000    0.000    0.000 queues.py:59(_set_timeout)\n",
      "        1    0.000    0.000    0.000    0.000 base_events.py:1905(_timer_handle_cancelled)\n",
      "        2    0.000    0.000    0.000    0.000 {built-in method builtins.hash}\n",
      "        1    0.000    0.000    0.000    0.000 {built-in method _heapq.heappush}\n",
      "        3    0.000    0.000    0.000    0.000 {method 'locked' of '_thread.lock' objects}\n",
      "        4    0.000    0.000    0.000    0.000 inspect.py:2765(name)\n",
      "        1    0.000    0.000    0.000    0.000 base_events.py:720(is_closed)\n",
      "        1    0.000    0.000    0.000    0.000 inspect.py:2857(__init__)\n",
      "        1    0.000    0.000    0.000    0.000 iostream.py:255(closed)\n",
      "        1    0.000    0.000    0.000    0.000 {method '_is_owned' of '_thread.RLock' objects}"
     ]
    }
   ],
   "source": [
    "%%prun \n",
    "huet(E, order=rw.lpo)"
   ]
  },
  {
   "cell_type": "code",
   "execution_count": 13,
   "metadata": {},
   "outputs": [
    {
     "data": {
      "text/plain": [
       "[RewriteRule(vs=[X!3990, Y!3991], lhs=c_inv(b_mul(X!3990, Y!3991)), rhs=b_mul(c_inv(Y!3991), c_inv(X!3990)), pf=None),\n",
       " RewriteRule(vs=[X!3992, Y!3993], lhs=b_mul(X!3992, b_mul(c_inv(X!3992), Y!3993)), rhs=Y!3993, pf=None),\n",
       " RewriteRule(vs=[X!3994], lhs=b_mul(X!3994, c_inv(X!3994)), rhs=a_e, pf=None),\n",
       " RewriteRule(vs=[X!3995], lhs=c_inv(a_e), rhs=a_e, pf=None),\n",
       " RewriteRule(vs=[X!3996], lhs=c_inv(c_inv(X!3996)), rhs=X!3996, pf=None),\n",
       " RewriteRule(vs=[X!3997], lhs=b_mul(X!3997, a_e), rhs=X!3997, pf=None),\n",
       " RewriteRule(vs=[X!3998, Y!3999], lhs=b_mul(c_inv(X!3998), b_mul(X!3998, Y!3999)), rhs=Y!3999, pf=None),\n",
       " RewriteRule(vs=[X!4000, Y!4001, Z!4002], lhs=b_mul(b_mul(X!4000, Y!4001), Z!4002), rhs=b_mul(X!4000, b_mul(Y!4001, Z!4002)), pf=None),\n",
       " RewriteRule(vs=[X!4003], lhs=b_mul(c_inv(X!4003), X!4003), rhs=a_e, pf=None),\n",
       " RewriteRule(vs=[X!4004], lhs=b_mul(a_e, X!4004), rhs=X!4004, pf=None)]"
      ]
     },
     "execution_count": 13,
     "metadata": {},
     "output_type": "execute_result"
    }
   ],
   "source": [
    "T = smt.DeclareSort(\"AbstractGroup\")\n",
    "x,y,z = smt.Consts(\"x y z\", T)\n",
    "e = smt.Const(\"a_e\", T)\n",
    "inv = smt.Function(\"c_inv\", T, T)\n",
    "mul = smt.Function(\"b_mul\", T, T, T)\n",
    "kd.notation.mul.register(T, mul)\n",
    "E = [\n",
    "    smt.ForAll([x,y], inv(x * y) == inv(y) * inv(x)), #k28\n",
    "    smt.ForAll([x,y], x * (inv(x) * y) == y), # k 16\n",
    "    smt.ForAll([x], x * inv(x) == e), # k12\n",
    "    smt.ForAll([x], inv(e) == e), # k11\n",
    "    smt.ForAll([x], inv(inv(x)) == x), #k9\n",
    "    smt.ForAll([x], x * e == x), # k2\n",
    "    smt.ForAll([x,y], inv(x) * (x * y) == y), #k1\n",
    "    #smt.ForAll([x], x * e == x),\n",
    "    #smt.ForAll([x], x * inv(x) == e),\n",
    "    smt.ForAll([x,y,z], (x * y) * z == x * (y * z)), #R1\n",
    "    smt.ForAll([x], inv(x) * x == e),\n",
    "    smt.ForAll([x], e * x == x),\n",
    "]\n",
    "\n",
    "basic(E, order=rw.lpo)\n",
    "#huet(E, order=rw.lpo)"
   ]
  },
  {
   "cell_type": "code",
   "execution_count": 14,
   "metadata": {},
   "outputs": [
    {
     "name": "stdout",
     "output_type": "stream",
     "text": [
      "Order.GR\n",
      "Order.NGE\n",
      "[x, y] c_inv(b_mul(x, y)) b_mul(c_inv(y), c_inv(x))\n",
      "RewriteRule(vs=[X!4230, Y!4231], lhs=c_inv(b_mul(X!4230, Y!4231)), rhs=b_mul(c_inv(Y!4231), c_inv(X!4230)), pf=None)\n"
     ]
    },
    {
     "data": {
      "text/plain": [
       "False"
      ]
     },
     "execution_count": 14,
     "metadata": {},
     "output_type": "execute_result"
    }
   ],
   "source": [
    "T = smt.DeclareSort(\"AbstractGroup\")\n",
    "x,y,z = smt.Consts(\"x y z\", T)\n",
    "e = smt.Const(\"a_e\", T)\n",
    "inv = smt.Function(\"c_inv\", T, T)\n",
    "mul = smt.Function(\"b_mul\", T, T, T)\n",
    "kd.notation.mul.register(T, mul)\n",
    "\n",
    "print(rw.lpo([x,y], inv(x * y),  inv(y) * inv(x)))\n",
    "print(rw.lpo([x,y],  inv(y) * inv(x), inv(x * y)))\n",
    "print([x,y], inv(x * y),  inv(y) * inv(x))\n",
    "print(orient(smt.ForAll([x,y], inv(x * y) == inv(y) * inv(x)), order=rw.lpo))\n",
    "\n",
    "inv.name() < mul.name()"
   ]
  },
  {
   "cell_type": "markdown",
   "metadata": {},
   "source": []
  },
  {
   "cell_type": "code",
   "execution_count": 15,
   "metadata": {},
   "outputs": [],
   "source": [
    "\n",
    "from dataclasses import dataclass\n",
    "@dataclass\n",
    "class KBState:\n",
    "    E: list[smt.BoolRef | smt.QuantifierRef]\n",
    "    R: list[rw.RewriteRule]"
   ]
  },
  {
   "cell_type": "code",
   "execution_count": null,
   "metadata": {},
   "outputs": [],
   "source": []
  }
 ],
 "metadata": {
  "kernelspec": {
   "display_name": ".venv",
   "language": "python",
   "name": "python3"
  },
  "language_info": {
   "codemirror_mode": {
    "name": "ipython",
    "version": 3
   },
   "file_extension": ".py",
   "mimetype": "text/x-python",
   "name": "python",
   "nbconvert_exporter": "python",
   "pygments_lexer": "ipython3",
   "version": "3.12.3"
  }
 },
 "nbformat": 4,
 "nbformat_minor": 2
}
