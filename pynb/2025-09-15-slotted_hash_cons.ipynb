{
 "cells": [
  {
   "cell_type": "markdown",
   "metadata": {},
   "source": [
    "---\n",
    "date: 2025-09-15\n",
    "title: A Slotted Hash Cons for Alpha Invariance\n",
    "---\n",
    "\n",
    "Slotted e-graphs https://dl.acm.org/doi/10.1145/3729326 are a data structure that compactly stores many equivalent terms in an alpha invariant aware way. I've been very excited by them but also very confused by them.\n",
    "\n",
    "There is a useful concept pump going in the different ways between [union finds, hash conses and e-graphs](https://www.philipzucker.com/egraph-1/).\n",
    "\n",
    "- Union Find + Hash Cons ---> E-Graph\n",
    "- E-Graph - Compound Terms ---> Union Find\n",
    "- E-Graph - Equality Assertion ---> Hash Cons\n",
    "\n",
    "There are sometimes existing versions of fancy e-graphs, fancy union find, and fancy hash conses for which the other counterparts is not discussed or kept implicit. For the slotted e-graph, there was surely be a slotted union find and a slotted hash cons simplification should you choose to not use those capabilities.\n",
    "\n",
    "I do think I somewhat understand a story about how one might arrive at a Slotted Hash Cons as a solution to a variant of the hashing modulo alpha problem. \n",
    "\n",
    "- https://arxiv.org/abs/2105.02856 Hashing Modulo Alpha-Equivalence\n",
    "- https://arxiv.org/abs/2401.02948 Hashing Modulo Context-Sensitive α-Equivalence\n",
    "\n",
    "Basically, it is easy to normalize terms with variables in them by labelling them by a traversal. This is non compositional and requires resweeping, which sucks for hash consing. By lazily retaining the permutations required when something becomes a subterm (the variables order in the traversal changes), you can get something compositional that does not require sweeping the term.\n"
   ]
  },
  {
   "cell_type": "markdown",
   "metadata": {},
   "source": [
    "# Beta vs Alpha\n",
    "\n",
    "Alpha invariance is noting that the actual names of variables don't matter in some (usually subtle) sense.\n",
    "\n",
    "People have a tendency to go right for lambda and beta normalization (beta is substituting into the body of a lambda), but this is a curse. Lambda is the Ultimate Pain in the Ass (LUPITA). There is a design philosophy that suggests that baking in full beta reduction into some automated reasoning systems is too much to ask. The canonical thing I have in mind is [higher order unification](https://en.wikipedia.org/wiki/Unification_(computer_science)#Higher-order_unification), for which the full beta normalizing higher order unification is undecidable (although not that bad in practice so I dunno).\n",
    "\n",
    "Two restricted variations of higher order unification that are decidable and in fact fast are:\n",
    "- Miller Beta0 Unification\n",
    "- Nominal Unification\n",
    "\n",
    "These restrictions more or less deal with a notion of unification modulo alpha equivalence.\n",
    "\n",
    "There is also something to note that a distinction can be made between \"scoped\" alpha invariance (like lambda terms mod alpha) and \"unscoped\" alpha invariance (like resolution clauses or einstein notation).\n",
    "\n",
    "If you introduce an ordered binder for your alpha invariant variables canonizing these terms is easy by just examining the binding site. Just label the variables according to the order they show up in the binder. `canon(a [x,y,z]. f(x,y,z)) =  a [v0,v1,v2]. f(v0,v1,v2) = canon(a [p,q,r]. f(p,q,r))`\n",
    "\n",
    "Another way perhaps of distinguishing these two concepts is to consider ordered multi-arity binders  `a [x,y,z]. f(x,y,z)` vs a set-like multi-arity binder. `a {x,y,z}. f(x,y,z)`. The set-like character makes it a priori hard to figure out how to number your variables and you need to traverse into the term to tie break them, since the variables can have no structure in and of themselves without breaking alpha invariance. A \"binderless\" alpha invariant term could be seen as a implicit set-like binding at the top of the term. `f(x,y,z) ~> a {x,y,z}. f(x,y,z)`  \n",
    "\n",
    "I would claim that free variables as they show up in the locally nameless technique are binderless / set-bound because you kind of want a set like implicit variable environment.\n",
    "\n",
    "# Normalizing Alpha Terms\n",
    "\n",
    "https://www.philipzucker.com/hashing-modulo/ One method to hash something modulo a theory is to have a method for building a structurally canonical form and then hash that using regular structural hashing. For example, hashing a set of integers as represented by non canonical AVL trees or red-black trees (many AVL trees represent can represent the same underlying set) can be achieved by turning the set into a deduplicated sorted list or a trie. This is not the only possible method.\n",
    "\n",
    "In prolog and automated reasoning, there are mechanisms for storing terms with variables such that \"variants\" https://www.swi-prolog.org/pldoc/man?section=tabling-subsumptive https://www.swi-prolog.org/pldoc/man?predicate=%3D@%3D/2\n",
    "\n",
    "It is actually easy to find an alpha canonical form. Just pick any deterministic method to traverse the tree and number variables as you find them. A preorder traversal works. `f(v0, g(v1, v0))`. This is what the prolog predicate `numbervars` does https://www.swi-prolog.org/pldoc/man?predicate=numbervars/3\n"
   ]
  },
  {
   "cell_type": "code",
   "execution_count": 49,
   "metadata": {},
   "outputs": [
    {
     "name": "stdout",
     "output_type": "stream",
     "text": [
      "f('$VAR'(0),g('$VAR'(1),'$VAR'(0)))"
     ]
    }
   ],
   "source": [
    "! swipl -g \"T = f(X,g(Y,X)), numbervars(T,0,_), write_canonical(T), halt.\""
   ]
  },
  {
   "cell_type": "markdown",
   "metadata": {},
   "source": [
    "We can do it ourselves on a simple tuple based ast. It's not so complicated.\n",
    "\n",
    "User facing names (a string like `\"X\"` let's say) and the canonical variables ids (an int) are completely different types and should be represented by different constructors.\n",
    "\n",
    "Here `term` is a non normalized thing that contains user names, but `shape` is a similar thing that only contains int ids. `alpha_canon` converts between the two and also returns a `rename` dictionary of evidence as to how the substitution was done. We can completely reconstruct any alpha non invariant `term` from the `cterm` which is a tuple of the renaming and the shape. The two types are isomorphic to each other."
   ]
  },
  {
   "cell_type": "code",
   "execution_count": null,
   "metadata": {},
   "outputs": [
    {
     "data": {
      "text/plain": [
       "({'X': 0, 'Y': 1}, ('f', ('cvar', 0), ('g', ('cvar', 1), ('cvar', 0))))"
      ]
     },
     "execution_count": 4,
     "metadata": {},
     "output_type": "execute_result"
    }
   ],
   "source": [
    "type term =  tuple[\"uvar\", str] | tuple[str, term, ...] # not proper python type syntax but whatever\n",
    "# smart constructors\n",
    "def var(s : str) -> term:\n",
    "    return (\"uvar\", s)\n",
    "def app(f : str, *args : term) -> term:\n",
    "    return (f, *args)\n",
    "from typing import Literal\n",
    "type rename = dict[str, int]  # user variable renaming to ids\n",
    "type shape = tuple[Literal[\"cvar\"], int] | tuple[str, shape, ...]\n",
    "type cterm = tuple[rename, shape]\n",
    "def alpha_canon(t : term) -> cterm:\n",
    "    env = {}\n",
    "    def worker(t):\n",
    "        match t:\n",
    "            case (\"uvar\", x):\n",
    "                if x not in env:\n",
    "                    env[x] = len(env)\n",
    "                return (\"cvar\", env[x])\n",
    "            case (f, *args):\n",
    "                return (f, *map(worker, args))\n",
    "            case _:\n",
    "                raise ValueError(\"ill formed\", t)\n",
    "    return env, worker(t)\n",
    "f = lambda *args: app(\"f\", *args)\n",
    "g = lambda *args: app(\"g\", *args)\n",
    "X,Y,Z,P,Q = var(\"X\"), var(\"Y\"), var(\"Z\"), var(\"P\"), var(\"Q\")\n",
    "\n",
    "alpha_canon(f(X, g(Y, X)))"
   ]
  },
  {
   "cell_type": "markdown",
   "metadata": {},
   "source": [
    "Two alpha equivalent terms are not structurally equal"
   ]
  },
  {
   "cell_type": "code",
   "execution_count": 5,
   "metadata": {},
   "outputs": [
    {
     "data": {
      "text/plain": [
       "False"
      ]
     },
     "execution_count": 5,
     "metadata": {},
     "output_type": "execute_result"
    }
   ],
   "source": [
    "f(X, g(Y, X)) == f(P, g(Q, P))"
   ]
  },
  {
   "cell_type": "markdown",
   "metadata": {},
   "source": [
    "But their canonized forms are"
   ]
  },
  {
   "cell_type": "code",
   "execution_count": 6,
   "metadata": {},
   "outputs": [
    {
     "data": {
      "text/plain": [
       "True"
      ]
     },
     "execution_count": 6,
     "metadata": {},
     "output_type": "execute_result"
    }
   ],
   "source": [
    "alpha_canon(f(X,g(Y,X)))[1] == alpha_canon(f(P, g(Q, P)))[1] "
   ]
  },
  {
   "cell_type": "markdown",
   "metadata": {},
   "source": [
    "Exhibiting the isomorphism. `to_term` is the inverse of `alpha_canon`"
   ]
  },
  {
   "cell_type": "code",
   "execution_count": null,
   "metadata": {},
   "outputs": [
    {
     "data": {
      "text/plain": [
       "('f', ('uvar', 'X'), ('g', ('uvar', 'Y'), ('uvar', 'X')))"
      ]
     },
     "execution_count": 7,
     "metadata": {},
     "output_type": "execute_result"
    }
   ],
   "source": [
    "def to_term(t : cterm) -> term:\n",
    "    rename, shape = t\n",
    "    env = {n : x for x,n in rename.items()}\n",
    "    def worker(t):\n",
    "        match t:\n",
    "            case (\"cvar\", n):\n",
    "                return var(env[n])\n",
    "            case (f, *args):\n",
    "                return app(f, *map(worker, args))\n",
    "            case _:\n",
    "                raise ValueError(\"ill formed\", t)\n",
    "    return worker(shape)\n",
    "\n",
    "to_term(alpha_canon(f(X, g(Y, X))))"
   ]
  },
  {
   "cell_type": "markdown",
   "metadata": {},
   "source": [
    "# Hash Consing\n",
    "\n",
    "The issue with hash consing these is that this variable ordering method can't be compositional. When a previously hash consed term is used as an argument of another term, a sweep from the top of this new turn may change the canonical numbering of the variables. You can sweep then term again and reintern but this kind of stinks.\n",
    "\n",
    "We can fix this problem in the slotted style by adding an [indirection](https://en.wikipedia.org/wiki/Fundamental_theorem_of_software_engineering\n",
    "). In between every parent and it's subterms we can retain a permutation of ids that you'll need to recollect when you traverse down into a canonized term.\n",
    "Instead of eagerly permuting the ids, we keep a note at the term to lazily do this permutation.\n",
    "\n",
    "\n",
    "Canonization converts a term with user names to an alpha equivalent shape term and a mapping from user names to canon ids.\n",
    "\n",
    "You don't _really_ need to traverse into the term. You already know the order you will find the variables. It's been done. It's in the renaming map.\n",
    "\n",
    "So instead of traversing the subterms, we can just traverse the renaming maps in order. We'll find some permutation of canonical ids that would need to be applied to each argument. This is a canonical permutation applied to a canonical shape. We don't actually need to do it.\n",
    "\n",
    "It may be desirable to also compress this permutation representation and only store the things that need to be changed. A more memory efficient version would not note `v0 -> v0` for example"
   ]
  },
  {
   "cell_type": "code",
   "execution_count": null,
   "metadata": {},
   "outputs": [
    {
     "data": {
      "text/plain": [
       "({'X': 0, 'Y': 1},\n",
       " ('f',\n",
       "  (((0, 0),), ('cvar', 0)),\n",
       "  (((0, 1), (1, 0)),\n",
       "   ('g', (((0, 0),), ('cvar', 0)), (((0, 1),), ('cvar', 0))))))"
      ]
     },
     "execution_count": 13,
     "metadata": {},
     "output_type": "execute_result"
    }
   ],
   "source": [
    "table = {}\n",
    "def hashcons(x : tuple[...]) -> tuple[...]:\n",
    "    \"\"\"\n",
    "    hashcons returns the actual memory of a canonical tuple assuming that all subterms have already been hashconsed.\n",
    "    Now one can use `is` to compare canonical terms for equality, which is pointer equality and fast.\n",
    "    \"\"\"\n",
    "    assert isinstance(x, tuple)\n",
    "    key = tuple(id(t) if isinstance(t, tuple) else t for t in x) # avoids recursion into inner tuples during hashing and equality check internal to table.get\n",
    "    res = table.get(key)\n",
    "    if res is None:\n",
    "        table[key] = x\n",
    "        return x\n",
    "    return res\n",
    "\n",
    "type rename = dict[str, int]  # user variable renaming to ids\n",
    "type perm = tuple[tuple[int,int], ...] # permutation of variable ids as a sorted tuple of pairs\n",
    "type shape = tuple[\"cvar\", int] | tuple[str, pshape, ...] \n",
    "type pshape = tuple[perm, shape] # pshape is an argument \n",
    "type cterm = tuple[rename, tuple[str, pshape, ...]]\n",
    "def var(s : str) -> cterm:\n",
    "    return ({s : 0}, hashcons((\"cvar\", 0)))\n",
    "def app(f : str, *args : cterm) -> cterm:\n",
    "    # kind of folded pieces of alpha_canon in here\n",
    "    env = {}\n",
    "    cargs = []\n",
    "    # Go through arguments in order and figure out new toplevel renaming\n",
    "    for rename, shape in args:\n",
    "        perm = {}\n",
    "        for x,i in sorted(rename.items(), key=lambda x: x[1]): # do in traversal order, i increasing\n",
    "            if x not in env:\n",
    "                env[x] = len(env)\n",
    "            perm[i] = env[x]\n",
    "        # canonize and hashcons the permutation as a list\n",
    "        # perm should already be sorted, but just in case let's do it again.\n",
    "        cperm = hashcons(tuple(hashcons((i,j)) for i,j in sorted(perm.items())))\n",
    "        cargs.append(hashcons((cperm, shape)))\n",
    "    return env, hashcons((f, *cargs))\n",
    "\n",
    "app(\"f\", var(\"X\"), var(\"Y\"), var(\"X\"))\n",
    "f = lambda *args: app(\"f\", *args)\n",
    "g = lambda *args: app(\"g\", *args)\n",
    "X,Y,Z = var(\"X\"), var(\"Y\"), var(\"Z\")\n",
    "\n",
    "assert f(X, g(Y, X))[1] is f(Z, g(Y, Z))[1]\n",
    "assert f(X, g(Y, X))[1] is not f(X, g(X, X))[1]\n",
    "\n",
    "f(X, g(Y, X))"
   ]
  },
  {
   "cell_type": "markdown",
   "metadata": {},
   "source": [
    "To traverse back down the term, really you want a kind of view into it where you collect up the lazy permutations as you go along. The function [`unapply`](https://stackoverflow.com/questions/18468786/understand-how-to-use-apply-and-unapply) does this. `unapply` and `app` are basically inverses. "
   ]
  },
  {
   "cell_type": "code",
   "execution_count": 11,
   "metadata": {},
   "outputs": [
    {
     "data": {
      "text/plain": [
       "('f',\n",
       " ({'X': 0, 'Y': 1}, ('cvar', 0)),\n",
       " ({'X': 1, 'Y': 0}, ('g', (((0, 0),), ('cvar', 0)), (((0, 1),), ('cvar', 0)))))"
      ]
     },
     "execution_count": 11,
     "metadata": {},
     "output_type": "execute_result"
    }
   ],
   "source": [
    "def unapply(t : cterm) -> tuple[str, cterm, ...]:\n",
    "    rename, (f, *pshapes) = t\n",
    "    args = [({ x : dict(perm).get(i,i)  for x,i in rename.items()}, shape) for perm,shape in pshapes]\n",
    "    return (f, *args)\n",
    "unapply(f(X, g(Y,X)))"
   ]
  },
  {
   "cell_type": "code",
   "execution_count": 12,
   "metadata": {},
   "outputs": [
    {
     "data": {
      "text/plain": [
       "({'Y': 0, 'X': 1}, ('g', (((0, 0),), ('cvar', 0)), (((0, 1),), ('cvar', 0))))"
      ]
     },
     "execution_count": 12,
     "metadata": {},
     "output_type": "execute_result"
    }
   ],
   "source": [
    "g(Y,X)"
   ]
  },
  {
   "cell_type": "markdown",
   "metadata": {},
   "source": [
    "# Bits and Bobbles\n",
    "If I went whole hog on unapply, maybe python pattern matching could be overloaded to work?\n",
    "\n",
    "In a subtle way, what I have described solves a different problem than the hashing mod alpha papers.\n",
    "Variables never \"go away\" like they do for de bruijn indices. They aren't intrinsically scoped. I don';t have a mechanism to trnalsate between free and scoped vars like in locally nameless. There may be a way to fix this. Slotted egraphs seems to have this capability.\n",
    "\n",
    "\n",
    "Tensor canonicalization https://www.philipzucker.com/canon_search/ https://www.stephendiehl.com/posts/tensor_canonicalization_rust/ is very much related to the slotted egraph in my opinion.\n",
    "\n",
    "Is perm really usefully thought of as a permutation? Or is it just an invertible id to id mapping. Tomato tamato maybe.\n",
    "\n",
    "You want to hash cons shapes, not names. names are ephemeral kind of. They exist and are important for local use but ultimately go away. This is the story i told in egraphs modulo theories https://arxiv.org/abs/2504.14340 . For some use cases you don't want to hash cons polynomials. You want to hash cons the variables of the polynomials. \n",
    "\n",
    "\n",
    "\n",
    "\n",
    "Slotted hash cons\n",
    "Atomic slotted knuth bendix\n",
    "\n",
    "foo(x,y) = bar(x)\n",
    "\n",
    "f(x,y) != foo(z,w)   this is not the case.\n",
    "\n",
    "It really does come from a naively named persepctive.\n",
    "\n",
    "Multiarity by keyword lambdas.\n",
    "\n",
    "\n",
    "hmmm groupoid rename is neater than perm because I don't need to double everything.\n",
    "\n",
    "\n",
    "We relly are talking about names\n",
    "names = slots?\n",
    "\n",
    "Alpha cnaonization\n",
    "\n",
    "\n",
    "Traversal can go any direction\n",
    "\n",
    "https://en.wikipedia.org/wiki/Coxeter_group\n",
    "\n",
    "https://www.cl.cam.ac.uk/~amp12/papers/nomlfo/nomlfo-draft.pdf swappings to permutation (gi gi+1)**3 = 1\n",
    "(a a') (b b') = \n",
    "\n",
    "\n",
    "symmettry classes\n",
    "symmettry nodes\n",
    "\n",
    "A new kind of indrection?\n",
    "\n",
    "Bottom up ematching is also nondet if we have symmettries? If the structured eids are themselves sets is that a problem? So seid isn't renamed eid maybe it's more like renamed * symmettry group set * \n",
    "\n",
    "invariance of e-nodes to symmettries\n",
    "\n",
    "f(t,t1) = f(t - t1)\n",
    "f(x) = f(|x|)\n",
    "\n",
    "covariance\n",
    "v(Rx) = Rv(x)\n",
    "\n",
    "\n",
    "Succ() Pred() V\n",
    "swap(x, body)  # permute what is at 0 on \"stack\" with what is at named location x.\n",
    "https://pavpanchekha.com/blog/egg-bindings.html He points out let as a quais inverse to succ. That's intriguing.\n",
    "\n",
    "hash cons modulo symmettries?\n",
    "i + j  and j + i should hash to same thing.\n",
    "Still no egraph which is nice.\n",
    "hash cons mod alpha vs hash cons mod symmetry vs both.\n",
    "i + i + j considered as flat node\n",
    "v0 + v0 + v1\n",
    "or\n",
    "v1 + v1 + v0\n",
    "\"slot\" permuations vs name permutations. This was the thing in tensor canonization.\n",
    "canonization by search while you're hash consing.\n",
    "\n",
    "\n",
    "\n",
    "Slotted union find ~ tensor monomial canonization\n",
    "\n",
    "\n",
    "\n"
   ]
  },
  {
   "cell_type": "code",
   "execution_count": null,
   "metadata": {},
   "outputs": [],
   "source": [
    "type rename = dict[str, int]  # user variable renaming to ids\n",
    "type perm = tuple[tuple[int,int], ...] # permutation of variable ids as a sorted tuple of pairs\n",
    "type shape = tuple[\"cvar\"] | tuple[str, tuple[perm, shape], ...] \n",
    "type cterm = tuple[rename, tuple[str, shape, ...]]"
   ]
  },
  {
   "cell_type": "code",
   "execution_count": null,
   "metadata": {},
   "outputs": [],
   "source": [
    "import functools\n",
    "\n",
    "@functools.cache\n",
    "def hashcons(x):\n",
    "    # hashing does a traversal, which is not ideal. But it does give us object identity\n",
    "    return x"
   ]
  },
  {
   "cell_type": "code",
   "execution_count": null,
   "metadata": {},
   "outputs": [],
   "source": [
    "# hmm I need perm hashconsed too. That's annoying\n",
    "table = {}\n",
    "def hashcons(x : tuple[...]) -> tuple[...]:\n",
    "    assert isinstance(x, tuple)\n",
    "    key = tuple(id(t) if isinstance(t, tuple) else t for t in x)\n",
    "    res = table.get(key)\n",
    "    if res is None:\n",
    "        table[key] = x\n",
    "        return x\n",
    "    return res\n",
    "\n",
    "x = hashcons((\"cvar\", (1,)))\n",
    "y = hashcons((\"cvar\", (1,)))\n",
    "assert x is not y\n",
    "#hashcons((\"cvar\", (1,))) is hashcons((\"cvar\", (1,)))\n",
    "x = hashcons((\"cvar\", hashcons((1,))))\n",
    "y = hashcons((\"cvar\", hashcons((1,))))\n",
    "assert x is y\n",
    "\n",
    "type perm = dict[int, int]  # permutation of ids\n"
   ]
  },
  {
   "cell_type": "markdown",
   "metadata": {},
   "source": [
    "## Slotted Union Find aka Monomial Tensor Knuth Bendix\n",
    "\n",
    "`a(i,j) = b(j)`\n",
    "`a(i,j) = a(j,i)`\n",
    "`a(j,j) = b(j)`\n",
    "`a(i,j) = c(j,i)`\n",
    "\n",
    "a compact \n",
    "\n",
    "equlity is symmettricand set like\n",
    "\n",
    "`{a(i,j), b(j)}` canonize this set.\n",
    "\n",
    "It's very evocative of superposition / knuth bendix, but variables aren't Unification variables. They are rigid. ??? Is that true?\n",
    "\n",
    "Maybe I don't want to canonize atoms out of context of the equality. There is almost no point? If we fuse the two renamings, we get a permutation\n",
    "\n",
    "\n",
    "The group/groupoid union find\n",
    "\n",
    "inequality union find\n",
    "arguably maybe only one direction should be allow? Eh. Nah\n",
    "a(i,j) -> b(j)\n",
    "\n",
    "\n",
    "def union()\n",
    "\n",
    "We need to look up the canonical form of the atom\n",
    "\n",
    "subsumptive matching.\n",
    "subsumptive uf = Inequality union find + variant union find\n",
    "\n",
    "There is an implicit up set in terms of all narrowings."
   ]
  },
  {
   "cell_type": "code",
   "execution_count": null,
   "metadata": {},
   "outputs": [],
   "source": [
    "type uatom = tuple[str, names, ...]\n",
    "type shape = tuple[str, int, ...]\n",
    "type catom = tuple[rename, shape]\n",
    "def unname(uatom) -> catom:\n",
    "    env = {}\n",
    "    inds = []\n",
    "    for x in uatom[1:]:\n",
    "        if x not in env:\n",
    "            env[x] = len(env)\n",
    "        inds.append(env[x])\n",
    "    return env, (uatom[0], *inds)\n",
    "def to_atom(catom) -> uatom:\n",
    "    rename, shape = catom\n",
    "    env = {n : x for x,n in rename.items()}\n",
    "    names = [env[i] for i in shape[1:]]\n",
    "    return (shape[0], *names)\n",
    "\n",
    "\n",
    "uf = {}\n",
    "def find(x : uatom) -> catom:\n",
    "    rename, shape = unname(x)\n",
    "    while shape in uf:\n",
    "        perm, shape = uf[shape]\n",
    "        rename = {k : perm[v] for k,v in rename.items() if v in perm}\n",
    "    return to_atom((rename, shape))\n",
    "\n",
    "def union(x : uatom, y : uatom):\n",
    "    x = find(x)\n",
    "    y = find(y)\n",
    "    if x != y:\n",
    "        rx, sx = unname(x)\n",
    "        ry, sy = unname(y)\n",
    "\n",
    "\n",
    "    \n",
    "\n",
    "\n"
   ]
  },
  {
   "cell_type": "code",
   "execution_count": null,
   "metadata": {},
   "outputs": [],
   "source": []
  },
  {
   "cell_type": "code",
   "execution_count": null,
   "metadata": {},
   "outputs": [],
   "source": [
    "def fuse(rename1, rename2): # a join basically? No. This sucks and is wrong\n",
    "    return {k : rename2[v] for k,v in rename1.items() if v in rename2}\n"
   ]
  },
  {
   "cell_type": "code",
   "execution_count": null,
   "metadata": {},
   "outputs": [],
   "source": [
    "# consider the equality relation\n",
    "eq = [(1,2), (1,2), (2,1), (2,1)] # silly yea?\n",
    "set(eq) # better\n",
    "{tuple(sorted(ab)) for ab in eq} # better yeah?\n"
   ]
  },
  {
   "cell_type": "code",
   "execution_count": null,
   "metadata": {},
   "outputs": [],
   "source": [
    "type shape = tuple[str, tuple[int, ...]]\n",
    "type uind = str\n",
    "def atom(name : str, *args : uind) -> shape:\n",
    "    rename = {n : i for i,n in reversed(enumerate(args))}\n",
    "    return rename, (name, tuple(rename[arg] for arg in args))\n"
   ]
  },
  {
   "cell_type": "code",
   "execution_count": null,
   "metadata": {},
   "outputs": [],
   "source": []
  },
  {
   "cell_type": "code",
   "execution_count": null,
   "metadata": {},
   "outputs": [],
   "source": [
    "class SlottedUF():\n",
    "    "
   ]
  },
  {
   "cell_type": "code",
   "execution_count": null,
   "metadata": {},
   "outputs": [],
   "source": [
    "swap(x,y,t) == swap(y,x,t)\n",
    "swap(x,y,swap(x,y,t)) == t\n",
    "swap(x,y,swap(v,w,t)) == swap(v,w,swap(x,y,t)) if x != v and x != w and y != v and y != w\n",
    "swap(x,y,var(x)) == var(y)\n",
    "swap(x,y,var(w)) == var(w) if w != x and w != y\n",
    "swap(x,y,f(t)) == f(swap(x,y,t)) # for all function symbols f\n",
    "# and maybe there's some interesting equation on a shred var? \n",
    "# swap(x,y, swap(y,z,t)) == swap(?)\n"
   ]
  },
  {
   "cell_type": "code",
   "execution_count": 5,
   "metadata": {},
   "outputs": [
    {
     "data": {
      "text/plain": [
       "1"
      ]
     },
     "execution_count": 5,
     "metadata": {},
     "output_type": "execute_result"
    }
   ],
   "source": [
    "[1,2,3].index(2)"
   ]
  },
  {
   "cell_type": "code",
   "execution_count": 11,
   "metadata": {},
   "outputs": [
    {
     "data": {
      "text/plain": [
       "(['x', 'y'], ('add', ('var', 0), ('var', 1)))"
      ]
     },
     "execution_count": 11,
     "metadata": {},
     "output_type": "execute_result"
    }
   ],
   "source": [
    "def alpha_canon(t):\n",
    "    env = []\n",
    "    def worker(t):\n",
    "        match t:\n",
    "            case (\"var\", n):\n",
    "                if n in env:\n",
    "                    return (\"var\", env.index(n))\n",
    "                else:\n",
    "                    env.append(n)\n",
    "                    return (\"var\", len(env) - 1)\n",
    "            case (f, *args):\n",
    "                return (f, *map(worker, args))\n",
    "            case _:\n",
    "                raise ValueError(\"ill formed\", t)\n",
    "    return env, worker(t)\n",
    "def var(n): return (\"var\", n)\n",
    "def add(x,y): return (\"add\", x, y)\n",
    "alpha_canon(add(var(\"x\"), var(\"y\")))\n",
    "\n"
   ]
  },
  {
   "cell_type": "code",
   "execution_count": null,
   "metadata": {},
   "outputs": [
    {
     "data": {
      "text/plain": [
       "(['x', 'y', 'z'], [[0, 1], [1, 0], [2, 0]])"
      ]
     },
     "execution_count": 22,
     "metadata": {},
     "output_type": "execute_result"
    }
   ],
   "source": [
    "def reconcile(env1, env2):\n",
    "    env = env1.copy()\n",
    "    fiddle = []\n",
    "    for n,x in enumerate(env2):\n",
    "        if x in env:\n",
    "            fiddle.append(env.index(x))\n",
    "        else:\n",
    "            env.append(x)\n",
    "            fiddle.append(len(env) - 1)\n",
    "    return env, fiddle\n",
    "\n",
    "reconcile([\"x\", \"y\"], [\"y\", \"x\"])\n",
    "\n",
    "def reconcile(envs):\n",
    "    totenv = []\n",
    "    fiddles = [] # shapes?\n",
    "    for env in envs:\n",
    "        fiddle = []\n",
    "        for x in env:\n",
    "            if x in totenv:\n",
    "                fiddle.append(totenv.index(x))\n",
    "            else:\n",
    "                totenv.append(x)\n",
    "                fiddle.append(len(totenv) - 1)\n",
    "        fiddles.append(fiddle)\n",
    "    return totenv, fiddles\n",
    "\n",
    "\n",
    "reconcile([[\"x\", \"y\"], [\"y\", \"x\"], [\"z\", \"x\"]])\n",
    "\n",
    "\n"
   ]
  },
  {
   "cell_type": "code",
   "execution_count": 28,
   "metadata": {},
   "outputs": [
    {
     "data": {
      "text/plain": [
       "True"
      ]
     },
     "execution_count": 28,
     "metadata": {},
     "output_type": "execute_result"
    }
   ],
   "source": [
    "def alpha_canon(t):\n",
    "    def worker(t):\n",
    "        match t:\n",
    "            case (\"var\", n):\n",
    "                return  [n], (\"var\",0)\n",
    "            case (f, *args):\n",
    "                envs, args = zip(*map(worker, args))\n",
    "                totenv, fiddles = reconcile(envs)\n",
    "                return  totenv, (f, *zip(fiddles, args))\n",
    "    return worker(t)\n",
    "\n",
    "env, shape = alpha_canon(add(var(\"y\"), add(var(\"x\"), var(\"y\"))))\n",
    "env, shape1 = alpha_canon(add(var(\"z\"), add(var(\"q\"), var(\"z\"))))\n",
    "shape == shape1"
   ]
  },
  {
   "cell_type": "code",
   "execution_count": null,
   "metadata": {},
   "outputs": [],
   "source": [
    "def inv(perm):\n",
    "    res = [0]*len(perm)\n",
    "    for n,i in enumerate(perm):\n",
    "        res[i] = n\n",
    "    return res\n",
    "\n",
    "def comp(p1,p2):\n",
    "    "
   ]
  },
  {
   "cell_type": "code",
   "execution_count": null,
   "metadata": {},
   "outputs": [],
   "source": [
    "class EGraph():\n",
    "    def __init__(self):\n",
    "        self.uf = []\n",
    "        self.enodes = {}"
   ]
  },
  {
   "cell_type": "markdown",
   "metadata": {},
   "source": [
    "Renaming knuth bendix. Whats the ordering?"
   ]
  },
  {
   "cell_type": "code",
   "execution_count": null,
   "metadata": {},
   "outputs": [],
   "source": [
    "class UF():\n",
    "    def __init__(self):\n",
    "        self.uf = []\n",
    "        self.perm = []\n",
    "    def find(self, x):\n",
    "        rename, e = x\n",
    "        while self.uf[e] == e:\n",
    "\n",
    "        rename *  \n",
    "\n",
    "    #def union(self, x, y):\n"
   ]
  },
  {
   "cell_type": "code",
   "execution_count": null,
   "metadata": {},
   "outputs": [],
   "source": [
    "type rename_id = tuple[dict,int]\n",
    "\n",
    "def overlap(t1 : rename_id, t2: rename_id) -> Optional[dict]:\n",
    "    if t1[1] != t2[1]:\n",
    "        return None\n",
    "    \n"
   ]
  },
  {
   "cell_type": "code",
   "execution_count": null,
   "metadata": {},
   "outputs": [],
   "source": [
    "import functools\n",
    "\n",
    "@functools.cache\n",
    "def hashcons(x):\n",
    "    # hashing does a traversal, which is not ideal. But it does give us object identity\n",
    "    return x\n",
    "\n",
    "x = (1,2)\n",
    "y = (1,2)\n",
    "assert x is not y\n",
    "\n",
    "x = hashcons((1,2))\n",
    "y = hashcons((1,2))\n",
    "assert x is y"
   ]
  },
  {
   "cell_type": "code",
   "execution_count": null,
   "metadata": {},
   "outputs": [],
   "source": [
    "table = {}\n",
    "def hashcons(x):\n",
    "    if x in table:\n",
    "        return table[x]\n",
    "    else:\n",
    "        table[x] = x\n",
    "        return x\n",
    "\n",
    "type rename = dict[object, object]\n",
    "type renamed = tuple[rename, object]\n",
    "def var(x : str) -> renamed:\n",
    "    return {0 : x}, hashcons(('var', 0))\n",
    "\n",
    "def app1(f : str, x : renamed) -> renamed:\n",
    "    rename, x1 = x\n",
    "    return rename, hashcons((f, x1))\n",
    "type perm = dict[int, int]\n",
    "\n",
    "def app2(f : str, x : renamed, y : renamed) -> renamed:\n",
    "    rename, x1 = x\n",
    "    rename2, y1 = y\n",
    "    inv =  {v: k for k, v in rename.items()}\n",
    "    inv2 = {v: k for k, v in rename2.items()}\n",
    "    swaps_xs = set(rename2.values()) - set(rename.values())\n",
    "    nfv_x = len(rename)\n",
    "    vs = set(rename.values()) |  set(rename2.values())\n",
    "    for n in range(len(vs)):\n",
    "        \n",
    "    #perm = nfv_x :  len(swap_xs)\n",
    "\n",
    "    perm = {}\n",
    "    renameout = rename.copy()\n",
    "    curr = len(rename)\n",
    "    for n in range(len(rename1)):\n",
    "        yv = rename2[n]\n",
    "        if yv in swap_xs:\n",
    "            perm[curr] = n\n",
    "            curr += 1\n",
    "\n",
    "        #yv is in y but not in x:\n",
    "\n",
    "    perm = { len(rename)}\n",
    "\n",
    "    if rename is rename2:\n",
    "        return rename, hashcons((f, x1, y1))\n",
    "    else:\n",
    "        new_rename = rename.copy()\n",
    "        new_rename.update(rename2)\n",
    "        return new_rename, hashcons((f, x1, y1))\n",
    "\n",
    "\n",
    "\n",
    "\n"
   ]
  },
  {
   "cell_type": "markdown",
   "metadata": {},
   "source": [
    "# Inj Thinning\n",
    "\n",
    "Evocative of `DeclareSort(\"Var\")` Also the simplicial category of those simplciial sets. Also cat;ab C-sets.\n",
    "\n",
    "\n",
    "\n",
    "https://types.pl/@AndrasKovacs/114938134631356899\n",
    " Nom, [Inj, Set] and [Thinning, Set]  \n",
    " \"For the benefit of others in the thread, let me zero in on a point regarding logical principles. There are several toposes that are worth thinking about here:\n",
    "\n",
    "1. [Fin, Set] \n",
    "2. [Inj, Set]\n",
    "3. Sh(Inj, J[atomic]) == Nom\n",
    "\n",
    "These are all places where you can study some kind of abstract syntax. They are also classifying toposes for certain geometric theories, of which the \"type of names\" is the generic model.\n",
    "\n",
    "1. [Fin, Set] classifies the theory with a single sort but no other geometric features. So in this world, variables are totally structureless. So, one thing you can't do is compare variables for equality — indeed, it is actually the case that \"forall x, y: Var, not(not(x=y))\" holds. So it is always possible that two variables could become equal — this corresponds to FinSet being *cartesian* monoidal, so it has contractions/diagonals.\n",
    "\n",
    "2. [Inj, Set] classifies the theory of a single sort + decidable equality. In this world, variables are mostly structureless but they have decidable equality.\n",
    "\n",
    "3. Nom classifies the theory of a single decidable sort that is *infinite* in the sense that for any finite set of names there exists another name that is distinct from those. \n",
    "\n",
    "As Zhixuan alludes to, these toposes are all related to each other in monadic ways. Sam Staton has a very nice PhD thesis about this.\"\n",
    "\n",
    "What's useful about nominal sets compared to [Inj, Set] should be the additional logical principles that nominal sets validate. In Sam Staton's this paper (https://dl.acm.org/doi/10.1007/978-3-642-12032-9_5), he said in Section 6 that the principle (x , y : X) -> [𝔸](x = y) -> (x = y) that is valid for nominal sets X but not in general for [Inj, Set] greatly simplified his completeness proof https://dl.acm.org/doi/10.1007/978-3-642-12032-9_5\n",
    "\n",
    "\n",
    "\"Let me give some context for what I'm trying to do. I'd like to do metaprogramming with useful induction principles over object syntax and as much higher-order syntax as I can get. Simply typed object syntaxes would be fine. One of the longer term goals is to support proof tactic programming over simply-typed syntax, which still needs to be post-hoc kernel-checked but which affords some safety. \n",
    "\n",
    "I've looked at Nom, [Inj, Set] and [Thinning, Set] so far. I'd like to have an internal TT for one or more of these, which is computationally adequate and reasonably expressive. \n",
    "\n",
    "So far I have not seen such system. James Cheney's \"Dependent Nominal Type Theory\" comes closest but it's rather barebones. Also, is there any source about metaprogramming in [Thinning, Set]? We get decidable total ordering of variables there, which means that we get efficient set and map data structures of variables, which might turn out to be very important in real-world usage. \n",
    "\n",
    "Right now I don't have a good understanding of what practical benefit Nom would get me compared to [Inj, Set], and I also don't have a grasp of how to do computationally adequate things in Nom.\n",
    "\n",
    "I looked at Mitchell Riley's tiny modality too, which looks like a high-powered way to  handle \"fresh variables\", but\n",
    "\n",
    "It's complicated.\n",
    "As described in the paper it only works with structural binders, so with [Subst, Set] and [Fin, Set], but not with [Inj, Set] or [Thinning, Set], although this could be fixable.\n",
    "I have no idea how it could work with type-annotated variables.\n",
    "So I started to hack on my own TTs for [Inj, Set] and [Thinning, Set]. It looks promising but half-baked currently.\n",
    "\"\n"
   ]
  },
  {
   "cell_type": "markdown",
   "metadata": {},
   "source": [
    "# Old\n",
    "\n",
    "\n",
    "https://www.philipzucker.com/union-find-groupoid/\n",
    "\n",
    "https://www.philipzucker.com/canon_search/\n",
    "\n",
    "\n",
    "I was fiddling with a canonized for for z3 get_id. FOr a second I thought it might be easy?\n",
    "\n",
    "f(X,Y,X) can be relablled by a traversal.\n",
    "g(t1,t2) where t1 and t2 have been traversal labelled may need relabelling. Traversals are non compositional.\n",
    "\n",
    "Be lazy pushing the relabellings down. Maintain label permutations at nodes.\n",
    "\n",
    "Now different uses can share the same \"shape\". When you recurse into the term, your can collect up permutations along the way.\n",
    "\n",
    "[\"x\", \"y\", \"z\"]\n",
    "\n",
    "But is this a cup game? What do you actually do\n",
    "\n",
    "\n",
    "can you make a slotted hash cons?\n",
    "Do you have to have the union find piece?\n",
    "Maybe you do.\n",
    "\n",
    "I guess everything has alpha symmettry, so you can always pull permutation through to normalize a node. Like a rotational symmettric function.\n",
    "\n",
    "f((p1,x1), (p2,x2))  -->  p f((1, x1), (p2', x2), )\n",
    "\n",
    "Variable are represented as\n",
    "0<->2, Vva\n",
    "\n",
    "\n",
    "eids are   (ident, [1,4,2]) tuples?\n",
    "\n",
    "Sequences can be acted upon by variable permutations and slot permuations, which are interrleated\n",
    "(ident, [1,4,2]) =P,Q= (ident, [6,2,4])\n",
    "\n",
    "(v, [1])\n",
    "\n",
    "(v, [2,3,4]) ???\n",
    "\n",
    "I don't see the point of slot permutations then. I guess they boil down to different naming strategies on a particular term. \n",
    "(v, [1,2,3])\n",
    "\n",
    "(P, v, [x,y,z])\n",
    "\n",
    "\n",
    "e(i,j,k) = f(e1(i,j), e2(k,m))\n",
    "I don't feel like there is an issue here.\n",
    "\n",
    "Oh, if normal form is expensive to produce, then top down actually might have it cached for you in a nice way. Hmmm.\n",
    "\n",
    "\n",
    "ground KB using miller matching / equality. beta0\n",
    "You need beta zero to flatten\n",
    "\n",
    "The ordering of flat form doesn't matter because e is always less than symbols. So you are always decreasing in size. Kind of a weird transformation? Or very normal? Make new definitions, new system may be easier to orient. Dependency pair method invented symbols. hmm. Is there a relationship?\n",
    "\n",
    "P1 @ e(1,2,3) = P2 @ f(P3 @ e1(7,5) , P4 @ e2(3,4))\n",
    "\n",
    "or\n",
    "\n",
    "e(i,j,k) = (lam x y z, f(e1(x,y), e2(y,z)))(i,j,k)\n",
    "\n",
    "a bit more uninform. eta expanded. let expanded?\n",
    "\n",
    "e(i,j,k) = let x = i let y = j let z = k in f(e1(x,y), e2(y,z))\n",
    "\n",
    "\n",
    "```ocaml\n",
    "type slot_term = \n",
    "    | Var\n",
    "    | Fun of string * args\n",
    "and args = (slot_term * int list) list\n",
    "\n",
    "type term = {vs : int list; t : slot_term}\n",
    "\n",
    "let var n : term = {vs = [n]; t = Var}\n",
    "let fun (head : string) (args : term list) : term = \n",
    "\n",
    "let children (t : term) : term list =\n",
    "\n",
    "\n",
    "\n",
    "type slot_term = \n",
    "    | Var\n",
    "    | Fun of string * term list\n",
    "and term = {vs : int list; t : slot_term}\n",
    "\n",
    "```\n",
    "\n",
    "terms are not hash consed. They are dealth with structurally.\n",
    "or two types of term. One hash consed the ther not?\n",
    "\n",
    "typesafe modular hashconsing\n",
    "\n",
    "```\n",
    "type 'a slot_term = \n",
    "    | Var\n",
    "    | Fun of string * 'a list\n",
    "and 'a term = {vs : int list; t : 'a slot_term}\n",
    "\n",
    "```\n",
    "\n",
    "```\n",
    "type slot_term = \n",
    "    \n",
    "\n",
    "\n",
    "```\n",
    "\n",
    "\n",
    "I had an ast for HOpatterns\n",
    "\n",
    "```\n",
    "type miller = \n",
    "    | Var of int (* de bruijn var *)\n",
    "    | App of miller * int list  (* multi appl)\n",
    "    | Lam of int * miller (* multiarity lambda *)\n",
    "    | Const of string * miller list\n",
    "\n",
    "\n",
    "```\n",
    "\n",
    "\n",
    "https://jesper.sikanda.be/posts/1001-syntax-representations.html\n",
    "\n",
    "\n",
    "```\n",
    "(* intersperse succ inside. Oleg style. Also Pavel post. Also explicit subtitution? *)\n",
    "type float_db = \n",
    "  | Succ of float_db (* instead of Var int *)\n",
    "  | Zero\n",
    "  | App of float_db * float_db\n",
    "  | Lam of float_db\n",
    "\n",
    "```\n",
    "\n",
    "\n",
    "arxiv.org/abs/2412.16206 information aware telescopic constraint rewess Cowderoy\n",
    " https://arxiv.org/abs/1807.04085 everybody gotta be someherre\n",
    "  https://arxiv.org/abs/2105.02856 hash modulo alpha\n",
    "\n",
    "```ocaml\n",
    "type vmap = \n",
    "  | Left of vmap\n",
    "  | Right of vmap\n",
    "  | Both of vmap * vmap\n",
    "  | Here\n",
    "  (* | None ? *)\n",
    "\n",
    "| None\n",
    "| Here\n",
    "| Node of vmap * vmap\n",
    "\n",
    "\n",
    "type co_db = \n",
    "    | Var\n",
    "    | App of co_db * co_db\n",
    "    | Lam of vmap * co_db\n",
    "\n",
    "type open_term = {vs : (string * vmap) list; t : co_db}\n",
    "\n",
    "let var (name : str) : term = {vs = [name , Here]; t = Var} -- Hmm.\n",
    "let app f x = {vs = map app_combine f.vs x.vs ; t = App (f.t, x.t)}\n",
    "let lam name body = {vs = remove name body.vs; t = Lam (lookup name body.vs, body.t)} \n",
    "\n",
    "\n",
    "(* more interspersed? This feels better for egraph since we need nodes entangled *)\n",
    "type co_db2 = \n",
    "    | Var of list vmap\n",
    "    | App of list vmap * co_db2 * co_db2\n",
    "    | Lam of vmap * list vmap * co_db2\n",
    "```\n",
    "\n"
   ]
  },
  {
   "cell_type": "code",
   "execution_count": null,
   "metadata": {},
   "outputs": [],
   "source": [
    "from kdrag.all import *\n",
    "\n",
    "def alpha_canon(e):\n",
    "    todo = [e] \\\n",
    "    # seen = set()\n",
    "    vs = []\n",
    "    while todo:\n",
    "        e = todo.pop()\n",
    "        if smt.is_var(e):\n",
    "            if e not in vs:\n",
    "                vs.append(e)\n",
    "                return \n",
    "        else:\n",
    "            todo.extend(reversed(e.children())) # reversed? doesn't really matter.\n",
    "    return vs\n",
    "# smt.substitute_var(e, *vs)\n",
    "\n",
    "# but you can also do this while you're constructing\n",
    "\n",
    "def Var(n):\n",
    "    return [smt.Var(n)], smt.Var(0)\n",
    "def apply(decl, *args):\n",
    "    newvs = []\n",
    "    cs = []\n",
    "    for vs, c in args:\n",
    "        for v in vs:\n",
    "            if v not in newvs:\n",
    "                newvs.append(v)\n",
    "        cs.append(smt.substitute(c, *newvs)) # sometyhing here. Not this\n",
    "    newvs, decl(*cs)\n",
    "    \n",
    "\n",
    "\n",
    "\n"
   ]
  },
  {
   "cell_type": "code",
   "execution_count": null,
   "metadata": {},
   "outputs": [],
   "source": [
    "(e, [])"
   ]
  },
  {
   "cell_type": "code",
   "execution_count": null,
   "metadata": {},
   "outputs": [],
   "source": []
  },
  {
   "cell_type": "code",
   "execution_count": null,
   "metadata": {},
   "outputs": [
    {
     "data": {
      "text/plain": [
       "(Perm(data={0: 3, 3: 0}), 'VAR')"
      ]
     },
     "execution_count": 33,
     "metadata": {},
     "output_type": "execute_result"
    }
   ],
   "source": [
    "from dataclasses import dataclass\n",
    "\n",
    "@dataclass\n",
    "class Perm():\n",
    "    data : dict\n",
    "    def __init__(self, data):\n",
    "        assert set(data.keys()) == set(data.values())\n",
    "        self.data = {k : v for k,v in data.items() if k != v} # compress away self mappings\n",
    "    def __matmul__(self, other):\n",
    "        p1 = self.data\n",
    "        p2 = other.data\n",
    "        meets = set(p2.values()).intersection(set(p1.keys()))\n",
    "        ip2 = ~p2\n",
    "        pass2 = { k : v for k,v in p2.items() if v not in meets }\n",
    "        pass1 = { k : v for k,v in p1.items() if k not in meets }\n",
    "        compo = {ip2[m] : p1[m]  for m in meets}\n",
    "        return Perm({**pass1, **compo, **pass2})\n",
    "    def __invert__(self):\n",
    "        return Perm({v : k for k, v in self.data.items()})\n",
    "    def support(self):\n",
    "        return set(self.data.keys())\n",
    "    #def __call__(self, x):\n",
    "id_ = Perm({})\n",
    "\n",
    "def Var(n):\n",
    "    return (Perm({0 : n, n : 0}), \"VAR\")\n",
    "\n",
    "Var(3)\n",
    "\n",
    "def Const(x):\n",
    "    return (id_, x)\n",
    "\n",
    "\n",
    "def Fun(f, *args):\n",
    "    pf = Perm({})\n",
    "    norm_args = []\n",
    "    for p,x in args:\n",
    "        unfixed_vars = p.support() - pf.support()\n",
    "        \n",
    "        norm_args.append(( , x))\n",
    "\n",
    "    return (id_, (f, args))\n",
    "\n",
    "\n",
    "def min_perm(p, vs):\n",
    "    # given permuation p and permutable variables vs, find a minimum permutation that only moves non-vs ? Is this cogent?\n"
   ]
  },
  {
   "cell_type": "markdown",
   "metadata": {},
   "source": [
    "\n",
    "We can replace (P, eid) pairs everywhere.\n",
    "f applied to `(p1, eid)` `(p2, eid)`\n",
    "p3, f((p1',eid), (p2',eid))\n",
    "\n",
    "1. compress to 0,1,2,3\n",
    "2. search over all permutations.\n",
    "3. apply them to (p1, p2) pair. Take least one.\n",
    "\n",
    "This is not the traversal algorithm.\n",
    "\n"
   ]
  },
  {
   "cell_type": "code",
   "execution_count": null,
   "metadata": {},
   "outputs": [],
   "source": [
    "(perm, eid)"
   ]
  },
  {
   "cell_type": "markdown",
   "metadata": {},
   "source": [
    "I'm trying to lex minimize a sequence of permutations.\n",
    "\n",
    "nat -> nat, maybe permutations could be seen as multisets\n",
    "But I want id to be minimal.\n",
    "I want smaller support to be smaller\n",
    "And I want the support\n",
    "\n",
    "maybe I do need to have number of vars at play to not be implicit.\n",
    "\n",
    "search over all permutations? maybe this is close to an intractable problem.\n",
    "\n",
    "Yea, I feel like we're pushing the traversal up. We don't actually have to sweep the term. We can just work on the permutations.\n",
    "So the first n vars\n",
    "\n",
    "If you do hashconsing of actual sweeping, you need to relabel the term when you come down again. Or you could cache it I suppose.\n",
    "But why store both. Really you should store the swept term + a relabeling. Does the relabeling have to be a permutation?\n",
    "\n",
    "\n",
    "Nominal hash consing\n",
    "\n",
    "Leaving a term partially un hashconsed. Some symbols are not hashconsed and become part of the identifier. That's EMT - union find. HashCons Modulo Theories.\n",
    "This is basically the msart constructor idea. You don't intern until you know the rewrite rules are done.\n",
    "\n",
    "ground tags is nice optimization\n",
    "\n",
    "Find the relabelling. Don't do it though. carry it up. Isomorphic kind of to just storing canonical and noncanonical form.\n",
    "\n",
    "\n",
    "Maybe take the hash cons out.\n",
    "PermTerms\n",
    "\n",
    "Maybe I do need to pass the vars down to subargs? Another level of Perm indirection?\n",
    "\n",
    "@dataclass\n",
    "class Fn(Term):\n",
    "    name : str\n",
    "    args : tuple[tuple[Perm,Term],...]\n",
    "\n",
    "\n",
    "lam x,y,z. f(e1(x,y), e2(y,z))\n",
    "\n",
    "lam x,y. e1(x,y) = lambd x1, y1. f(e3(x1))\n",
    "\n",
    "Non ground, But at pretty special positions.\n",
    "e(X,Y) = f()\n",
    "Hmm.\n",
    "what about protecting with a v constructor. v constructors have no rules...\n",
    "v(X)\n",
    "But I want v(X) != v(Y) for alpha... Rigidity.\n",
    "X != Y -> v(X) != v(Y) injectivity.\n",
    "\n",
    "collect ineq constraints.\n",
    "X != Y | f(v(X), v(Y)) \n",
    "~$distinct(X,Y,Z) | \n",
    "If we leave off distinct, the v fail to be rigid. Which makes them less like free vars and more like schmatic vars.\n",
    "This might work. An encoding of a notion of nominality.\n",
    "v always being at the leaves means some overlaps can't happen. And it all Vars occurs in v, then it is is quasi ground in a sense.\n",
    "app(lam(v(X), v(X)), E) = E\n",
    "Nah. This isn't going to work. We need to somehow know about renaming, and we don't get that we are distinct from some other thing... right?\n",
    "\n",
    "SHould these be capable of overlap or not? ... Yessss.... ?\n",
    "f(v(X)) = p\n",
    "f(v(Y)) = q\n",
    "\n",
    "constructor-ground. All non grounds are surrounded by constructors?\n",
    "This might be terminating.\n",
    "\n",
    "X != Y ->\n",
    "v(X) = v(Y). This can't be oriented.\n",
    "plus(V(X), V(Y)) = plus(V(Y), V(X)). This can't be oriented.\n",
    "But ground completeable\n",
    "X < Y -> plus(v(Y), v(X)) --> plus(v(X), v(Y))\n",
    "\n",
    "resolution provers have _some_ method baked in to deal with var symmettries.\n",
    "\n",
    "what about de bruijn. What's wrong with that?\n",
    "app(lam(v0), x) = x\n",
    "\n",
    "app(app(lam(lam(vs(vz)))),p,q) = q\n",
    "\n",
    "\n",
    "\n"
   ]
  },
  {
   "cell_type": "code",
   "execution_count": null,
   "metadata": {},
   "outputs": [
    {
     "data": {
      "text/plain": [
       "Var(perm=Perm(data={3: 0, 0: 3}))"
      ]
     },
     "execution_count": 45,
     "metadata": {},
     "output_type": "execute_result"
    }
   ],
   "source": [
    "@dataclass\n",
    "class Term:\n",
    "    perm : Perm\n",
    "\n",
    "@dataclass\n",
    "class Fn(Term):\n",
    "    name : str\n",
    "    args : tuple[Term,...]\n",
    "\n",
    "@dataclass\n",
    "class Var(Term):\n",
    "    pass    \n",
    "\n",
    "def V(n):\n",
    "    return Var(Perm({n : 0, 0 : n}))\n",
    "V(3)\n",
    "\n",
    "\n"
   ]
  },
  {
   "cell_type": "code",
   "execution_count": null,
   "metadata": {},
   "outputs": [],
   "source": [
    "class DoubleTerm():\n",
    "    uncanon\n",
    "    canon"
   ]
  },
  {
   "cell_type": "code",
   "execution_count": 42,
   "metadata": {},
   "outputs": [],
   "source": [
    "class Fn():\n",
    "    _instances = {}\n",
    "    def __init__(self, name, *args):\n",
    "        self.name = name\n",
    "        self.args = args\n",
    "    def __new__(cls, name, *args):\n",
    "        if (name, args) in cls._instances:\n",
    "            return cls._instances[(name, args)]\n",
    "        else:\n",
    "            instance = super(Fn, cls).__new__(cls)\n",
    "            cls._instances[(name, args)] = instance\n",
    "            return instance\n",
    "    # maybe this is defulat?\n",
    "    def __hash__(self):\n",
    "       return hash(id(self)) #return hash((self.name, self.args))\n",
    "    def __eq__(self, other):\n",
    "        return self is other\n",
    "    def __repr__(self):\n",
    "        return f\"Fn({self.name}, {self.args})\"\n",
    "\n",
    "x = Fn(\"F\")\n",
    "y = Fn(\"F\")\n",
    "assert x is y\n",
    "z = Fn(\"F\", 1)\n",
    "w = Fn(\"F\", 1)\n",
    "assert z is w\n",
    "assert not z is y\n",
    "q = Fn(\"F\", x, x)\n",
    "q2 = Fn(\"F\", x, x)\n",
    "assert q is q2"
   ]
  },
  {
   "cell_type": "code",
   "execution_count": 19,
   "metadata": {},
   "outputs": [
    {
     "data": {
      "text/plain": [
       "{}"
      ]
     },
     "execution_count": 19,
     "metadata": {},
     "output_type": "execute_result"
    }
   ],
   "source": [
    "from kdrag.all import *\n",
    "from dataclasses import dataclass\n",
    "\n",
    "def inv(p):\n",
    "    return {v : k for k, v in p.items()}    \n",
    "\n",
    "def comp(p1,p2):\n",
    "    meets = set(p2.values()).intersection(set(p1.keys()))\n",
    "    ip2 = inv(p2)\n",
    "    pass2 = { k : v for k,v in p2.items() if v not in meets }\n",
    "    pass1 = { k : v for k,v in p1.items() if k not in meets }\n",
    "    compo = {ip2[m] : p1[m]  for m in meets}\n",
    "    compo = {k : v for k,v in compo.items() if not k.eq(v)} # compress away self mappings\n",
    "    return {**pass1, **compo, **pass2}\n",
    "\n",
    "def act(p, t):\n",
    "    return smt.substitute(p, *t.items())\n",
    "\n",
    "a,b,c,d,e,f,g,h = smt.Ints(\"a b c d e f g h\")\n",
    "\n",
    "p1 = {a : b, b : c, c : a}\n",
    "p2 = {d : e, e : f, f : d}\n",
    "assert comp(p1,p2) == {**p1, **p2}\n",
    "p3 = {a : d, d : a}\n",
    "assert comp(p1,p3) == {b : c, c : a, d : b, a : d}\n",
    "\n",
    "comp(inv(p1),p1)"
   ]
  },
  {
   "cell_type": "markdown",
   "metadata": {},
   "source": [
    "The set of keys and values have to be the same right? Yes.\n",
    "\n",
    "but what if then further canon make x be self mapped?\n",
    "\n",
    "\n",
    "maybe no compress.\n",
    "Just brute force the entire space of the current 0-n\n",
    "\n",
    "https://en.wikipedia.org/wiki/Group_action\n",
    "\n",
    "slotted egraphs may be using both extended enodes and extended eids.\n",
    "\n",
    "\n"
   ]
  },
  {
   "cell_type": "code",
   "execution_count": null,
   "metadata": {},
   "outputs": [
    {
     "data": {
      "text/plain": [
       "[]"
      ]
     },
     "execution_count": 77,
     "metadata": {},
     "output_type": "execute_result"
    }
   ],
   "source": [
    "import itertools\n",
    "# permutations of 0.len(p) represented as dense lists.\n",
    "\n",
    "def mul(p1, p2): # multiply\n",
    "    return trim([p1[j] if j < len(p1) else j for j in p2] + p1[len(p2):])\n",
    "\n",
    "def act(p,q):\n",
    "    return mul(p,q)\n",
    "#def act(p, q):\n",
    "#    return mul(mul(p, q), inv(p))\n",
    "# conjugate?\n",
    "\n",
    "def inv(p):\n",
    "    q = [0]*len(p)\n",
    "    for i,j in enumerate(p):\n",
    "        q[j] = i\n",
    "    return q\n",
    "\n",
    "def id_(n):\n",
    "    return list(range(n))\n",
    "\n",
    "act(id_(1), id_(3))\n",
    "act([1,0], [1,0,2])\n",
    "\n",
    "\n",
    "def trim(p):\n",
    "    # removed tail which is just identity permutation\n",
    "    p = list(p)\n",
    "    while p and p[-1] == len(p)-1:\n",
    "        p.pop()\n",
    "    return p\n",
    "\n",
    "def swap(i,j):\n",
    "    if i == j:\n",
    "        return []\n",
    "    else:\n",
    "        p = list(range(max(i,j)+1))\n",
    "        p[i], p[j] = j, i\n",
    "        return p\n",
    "\n",
    "trim(id_(3))\n",
    "trim([1,0,2])\n",
    "\n",
    "# sup = len(trim(p))\n",
    "\n",
    "def canon(*ps):\n",
    "    ps = [trim(p) for p in ps]\n",
    "    sup = max(len(p) for p in ps)\n",
    "    return trim(min(itertools.permutations(range(sup)), key=lambda a: [act(list(a), p) for p in ps]))\n",
    "\n",
    "act(canon([2,0,1]), [2,0,1]) # This should always be the identity.\n",
    "# in turn, we can always make the first argument the identity. THen the rest have to search over things that make the first invariant.\n"
   ]
  },
  {
   "cell_type": "code",
   "execution_count": null,
   "metadata": {},
   "outputs": [],
   "source": [
    "table = {}\n",
    "nodes = []\n",
    "def hashcons(t):\n",
    "    if t in table:\n",
    "        return table[t]\n",
    "    else:\n",
    "        e = len(nodes)\n",
    "        table[t] = e #len(nodes)\n",
    "        nodes.append(t)\n",
    "        return e\n",
    "\n",
    "def fn(name):\n",
    "    def res(*args):\n",
    "        ps = [arg[0] for arg in args]\n",
    "        a = canon(*ps)\n",
    "        args = tuple((tuple(act(a,p)),eid) for p,eid in args)\n",
    "        return (a, hashcons((name, args)))\n",
    "    return res\n",
    "def var(n): # maybe make these negative?\n",
    "    return swap(0,n), hashcons(None)\n",
    "def const(x):\n",
    "    return (), hashcons(x)\n",
    "\n",
    "v0,v1,v2 = [var(x) for x in range(3)]\n",
    "a,b,c = [const(x) for x in \"abc\"]\n",
    "\n",
    "v0\n",
    "v1\n",
    "v2\n",
    "f = fn(\"f\")\n",
    "f(v1,v0,v1)\n",
    "table\n",
    "#f(a,b,c)\n",
    "def arg(pid, n):\n",
    "    p, eid = pid\n",
    "    name, args = nodes[eid]\n",
    "    (q, argid) = args[n]\n",
    "    return act(p,q), argid\n",
    "\n",
    "assert arg(f(v1,v0,v1), 0) == v1\n",
    "assert arg(f(v1,v0,v1), 1) == v0\n",
    "assert arg(f(v1,v0,v1), 2) == v1\n",
    "\n",
    "print(\"102\", f(v1,v0,v2)) #== \n",
    "print(\"210\", f(v2,v1,v0))\n",
    "print(f(v0, v1, v2))\n",
    "print(f(v0,v0,v0))\n",
    "print(f(v1,v1,v1))\n",
    "print(\"001\", f(v0,v0, v1))\n",
    "print(\"110\", f(v1,v1,v0))\n",
    "table"
   ]
  },
  {
   "cell_type": "code",
   "execution_count": 83,
   "metadata": {},
   "outputs": [
    {
     "name": "stdout",
     "output_type": "stream",
     "text": [
      "[[], [1, 0], [2, 1, 0]]\n"
     ]
    },
    {
     "data": {
      "text/plain": [
       "[[[], [1, 0], [2, 1, 0]],\n",
       " [[0, 2, 1], [2, 0, 1], [1, 2, 0]],\n",
       " [[1, 0], [], [2, 0, 1]],\n",
       " [[1, 2, 0], [2, 1, 0], [0, 2, 1]],\n",
       " [[2, 0, 1], [0, 2, 1], [1, 0]],\n",
       " [[2, 1, 0], [1, 2, 0], []]]"
      ]
     },
     "execution_count": 83,
     "metadata": {},
     "output_type": "execute_result"
    }
   ],
   "source": [
    "ps = [v0[0], v1[0], v2[0]]\n",
    "c = [[act(list(a), p) for p in ps]  for a in itertools.permutations(range(3))]\n",
    "print(min(c))\n",
    "c"
   ]
  },
  {
   "cell_type": "code",
   "execution_count": 85,
   "metadata": {},
   "outputs": [
    {
     "name": "stdout",
     "output_type": "stream",
     "text": [
      "[[], [2, 0, 1], [1, 0]]\n"
     ]
    },
    {
     "data": {
      "text/plain": [
       "[[[1, 0], [2, 1, 0], []],\n",
       " [[2, 0, 1], [1, 2, 0], [0, 2, 1]],\n",
       " [[], [2, 0, 1], [1, 0]],\n",
       " [[2, 1, 0], [0, 2, 1], [1, 2, 0]],\n",
       " [[0, 2, 1], [1, 0], [2, 0, 1]],\n",
       " [[1, 2, 0], [], [2, 1, 0]]]"
      ]
     },
     "execution_count": 85,
     "metadata": {},
     "output_type": "execute_result"
    }
   ],
   "source": [
    "ps = [v1[0], v2[0], v0[0]]\n",
    "c = [[act(list(a), p) for p in ps]  for a in itertools.permutations(range(3))]\n",
    "print(min(c))\n",
    "c"
   ]
  },
  {
   "cell_type": "code",
   "execution_count": 71,
   "metadata": {},
   "outputs": [
    {
     "data": {
      "text/plain": [
       "[1, 0, 2]"
      ]
     },
     "execution_count": 71,
     "metadata": {},
     "output_type": "execute_result"
    }
   ],
   "source": [
    "inv([1,0,2])"
   ]
  },
  {
   "cell_type": "code",
   "execution_count": 36,
   "metadata": {},
   "outputs": [
    {
     "data": {
      "text/plain": [
       "[0, 1, 2, 4, 3]"
      ]
     },
     "execution_count": 36,
     "metadata": {},
     "output_type": "execute_result"
    }
   ],
   "source": [
    "swap(1,2)\n",
    "swap(3,4)"
   ]
  },
  {
   "cell_type": "code",
   "execution_count": null,
   "metadata": {},
   "outputs": [],
   "source": [
    "def canon(G):\n",
    "    N = max(max(e) for e in G) + 1 # number of vertices\n",
    "    return min([act(perm,G) for perm in itertools.permutations(range(N))]) "
   ]
  },
  {
   "cell_type": "code",
   "execution_count": null,
   "metadata": {},
   "outputs": [],
   "source": [
    "def compress(p):\n",
    "    return {i : k for i,k in enumerate(p.keys())}\n",
    "\n",
    "p * q * inv(p) # compresses to 0-n\n",
    "\n"
   ]
  },
  {
   "cell_type": "markdown",
   "metadata": {},
   "source": [
    "# Hash cons"
   ]
  },
  {
   "cell_type": "code",
   "execution_count": 49,
   "metadata": {},
   "outputs": [
    {
     "data": {
      "text/plain": [
       "3"
      ]
     },
     "execution_count": 49,
     "metadata": {},
     "output_type": "execute_result"
    }
   ],
   "source": [
    "table = {}\n",
    "nodes = []\n",
    "def hashcons(t):\n",
    "    if t in table:\n",
    "        return table[t]\n",
    "    else:\n",
    "        e = len(nodes)\n",
    "        table[t] = e #len(nodes)\n",
    "        nodes.append(t)\n",
    "        return e\n",
    "\n",
    "def fn(name):\n",
    "    def res(*args):\n",
    "        return hashcons((name, args))\n",
    "    return res\n",
    "def var(n): # maybe make these negative?\n",
    "    return hashcons(n)\n",
    "\n",
    "a,b,c = [hashcons(x) for x in \"abc\"]\n",
    "f = fn(\"f\")\n",
    "f(a,b,c)\n",
    "\n",
    "\n"
   ]
  },
  {
   "cell_type": "markdown",
   "metadata": {},
   "source": [
    "eids are now pairs of (perm, id)\n",
    "\n",
    "Yes I've acehive nothing.\n",
    "(perm, id, perm)  ?"
   ]
  },
  {
   "cell_type": "code",
   "execution_count": 78,
   "metadata": {},
   "outputs": [
    {
     "name": "stdout",
     "output_type": "stream",
     "text": [
      "102 ([1, 0], 5)\n",
      "210 ([2, 1, 0], 6)\n",
      "([], 7)\n",
      "([], 8)\n",
      "([1, 0], 8)\n",
      "001 ([], 9)\n",
      "110 ([1, 0], 9)\n"
     ]
    },
    {
     "data": {
      "text/plain": [
       "{None: 0,\n",
       " 'a': 1,\n",
       " 'b': 2,\n",
       " 'c': 3,\n",
       " ('f', (((), 0), ((1, 0), 0), ((), 0))): 4,\n",
       " ('f', (((), 0), ((1, 0), 0), ((2, 0, 1), 0))): 5,\n",
       " ('f', (((), 0), ((1, 2, 0), 0), ((2, 1, 0), 0))): 6,\n",
       " ('f', (((), 0), ((1, 0), 0), ((2, 1, 0), 0))): 7,\n",
       " ('f', (((), 0), ((), 0), ((), 0))): 8,\n",
       " ('f', (((), 0), ((), 0), ((1, 0), 0))): 9}"
      ]
     },
     "execution_count": 78,
     "metadata": {},
     "output_type": "execute_result"
    }
   ],
   "source": [
    "table = {}\n",
    "nodes = []\n",
    "def hashcons(t):\n",
    "    if t in table:\n",
    "        return table[t]\n",
    "    else:\n",
    "        e = len(nodes)\n",
    "        table[t] = e #len(nodes)\n",
    "        nodes.append(t)\n",
    "        return e\n",
    "\n",
    "def fn(name):\n",
    "    def res(*args):\n",
    "        ps = [arg[0] for arg in args]\n",
    "        a = canon(*ps)\n",
    "        args = tuple((tuple(act(a,p)),eid) for p,eid in args)\n",
    "        return (a, hashcons((name, args)))\n",
    "    return res\n",
    "def var(n): # maybe make these negative?\n",
    "    return swap(0,n), hashcons(None)\n",
    "def const(x):\n",
    "    return (), hashcons(x)\n",
    "\n",
    "v0,v1,v2 = [var(x) for x in range(3)]\n",
    "a,b,c = [const(x) for x in \"abc\"]\n",
    "\n",
    "v0\n",
    "v1\n",
    "v2\n",
    "f = fn(\"f\")\n",
    "f(v1,v0,v1)\n",
    "table\n",
    "#f(a,b,c)\n",
    "def arg(pid, n):\n",
    "    p, eid = pid\n",
    "    name, args = nodes[eid]\n",
    "    (q, argid) = args[n]\n",
    "    return act(p,q), argid\n",
    "\n",
    "assert arg(f(v1,v0,v1), 0) == v1\n",
    "assert arg(f(v1,v0,v1), 1) == v0\n",
    "assert arg(f(v1,v0,v1), 2) == v1\n",
    "\n",
    "print(\"102\", f(v1,v0,v2)) #== \n",
    "print(\"210\", f(v2,v1,v0))\n",
    "print(f(v0, v1, v2))\n",
    "print(f(v0,v0,v0))\n",
    "print(f(v1,v1,v1))\n",
    "print(\"001\", f(v0,v0, v1))\n",
    "print(\"110\", f(v1,v1,v0))\n",
    "table"
   ]
  },
  {
   "cell_type": "markdown",
   "metadata": {},
   "source": [
    "A slotted hash cons. ()"
   ]
  },
  {
   "cell_type": "code",
   "execution_count": null,
   "metadata": {},
   "outputs": [],
   "source": [
    "table = {}\n",
    "def hashcons(c):\n",
    "    if c in table: # This part is doing an unnesarily slow recursive hashing\n",
    "        return table[c] # and this\n",
    "    else:\n",
    "        table[c] = c\n",
    "        return c\n",
    "\n",
    "x = (4,(8,6))    \n",
    "y = hashcons(x)\n",
    "\n",
    "z = (4,(8,6))\n",
    "assert not z is y\n",
    "q = hashcons(z)\n",
    "assert q is y\n",
    "\n",
    "\n",
    "\n",
    "\n"
   ]
  },
  {
   "cell_type": "code",
   "execution_count": null,
   "metadata": {},
   "outputs": [],
   "source": [
    "id_table = {}\n",
    "child_table = {}\n",
    "def hashcons(c):    \n",
    "    v = id_table.get(id(c), None)\n",
    "    if v is not None:\n",
    "        return v\n",
    "    else:\n",
    "        v = child_table.get(tuple(id(child) for child in c))\n",
    "        if v is not None:\n",
    "            return v\n",
    "        else:\n",
    "            id_table[id(c)] = c\n",
    "            child_table[tuple(id(child) for child in c)] = c\n",
    "            return c\n",
    "\n"
   ]
  },
  {
   "cell_type": "code",
   "execution_count": null,
   "metadata": {},
   "outputs": [],
   "source": [
    "child_table = {}\n",
    "def hashcons(c):    \n",
    "    v = child_table.get(type(c) + tuple(id(child) for child in c))\n",
    "    if v is not None:\n",
    "        return v\n",
    "    else:\n",
    "        child_table[tuple(id(child) for child in c)] = c\n",
    "        return c"
   ]
  },
  {
   "cell_type": "markdown",
   "metadata": {},
   "source": [
    "https://www.geeksforgeeks.org/object-interning-in-python/ This is also kind of reminiscent of \"typeclasses\"\n",
    "\n",
    "\n"
   ]
  },
  {
   "cell_type": "code",
   "execution_count": null,
   "metadata": {},
   "outputs": [],
   "source": [
    "class MyClass:\n",
    "    _instances = {}\n",
    "    def __new__(cls, value):\n",
    "        if value in cls._instances:\n",
    "            return cls._instances[value]\n",
    "        else:\n",
    "            instance = super().__new__(cls)\n",
    "            cls._instances[value] = instance\n",
    "            return instance\n",
    "\n",
    "    def __init__(self, value):\n",
    "        self.value = value\n",
    "a = MyClass(20)\n",
    "b = MyClass(50)\n",
    "print(a is b)"
   ]
  },
  {
   "cell_type": "code",
   "execution_count": null,
   "metadata": {},
   "outputs": [],
   "source": [
    "class HashTuple(tuple):\n",
    "    \n",
    "    def __hash__(self):\n",
    "        for "
   ]
  },
  {
   "cell_type": "code",
   "execution_count": 31,
   "metadata": {},
   "outputs": [
    {
     "ename": "AttributeError",
     "evalue": "'tuple' object has no attribute 'interned'",
     "output_type": "error",
     "traceback": [
      "\u001b[0;31m---------------------------------------------------------------------------\u001b[0m",
      "\u001b[0;31mAttributeError\u001b[0m                            Traceback (most recent call last)",
      "Cell \u001b[0;32mIn[31], line 2\u001b[0m\n\u001b[1;32m      1\u001b[0m x \u001b[38;5;241m=\u001b[39m (\u001b[38;5;241m1\u001b[39m,\u001b[38;5;241m2\u001b[39m,\u001b[38;5;241m3\u001b[39m)\n\u001b[0;32m----> 2\u001b[0m \u001b[43mx\u001b[49m\u001b[38;5;241;43m.\u001b[39;49m\u001b[43minterned\u001b[49m \u001b[38;5;241m=\u001b[39m \u001b[38;5;28;01mTrue\u001b[39;00m\n",
      "\u001b[0;31mAttributeError\u001b[0m: 'tuple' object has no attribute 'interned'"
     ]
    }
   ],
   "source": [
    "x = (1,2,3)\n",
    "x.interned = True"
   ]
  },
  {
   "cell_type": "code",
   "execution_count": null,
   "metadata": {},
   "outputs": [],
   "source": [
    "table = {}\n",
    "def hashcons(c):\n",
    "    p,x = c\n",
    "    if x in table: # This part is doing an unnesarily slow recursive hashing\n",
    "        return p, table[x] # and this\n",
    "        # p1,x = table[x]\n",
    "    else:\n",
    "        table[x] = x\n",
    "        return p, x\n",
    "\n",
    "x = (4,(8,6))    \n",
    "y = hashcons(x)\n",
    "\n",
    "z = (4,(8,6))\n",
    "assert not z is y\n",
    "q = hashcons(z)\n",
    "assert q is y\n",
    "\n"
   ]
  },
  {
   "cell_type": "code",
   "execution_count": 30,
   "metadata": {},
   "outputs": [
    {
     "name": "stdout",
     "output_type": "stream",
     "text": [
      "hashcheck\n",
      "done\n",
      "hashcheck\n",
      "hashcheck\n",
      "hashcheck\n",
      "hashcheck\n",
      "hashcheck\n",
      "hashcheck\n"
     ]
    },
    {
     "data": {
      "text/plain": [
       "True"
      ]
     },
     "execution_count": 30,
     "metadata": {},
     "output_type": "execute_result"
    }
   ],
   "source": [
    "class Testo():\n",
    "    def __hash__(self):\n",
    "        print(\"hashcheck\")\n",
    "        return object.__hash__(self)\n",
    "    \n",
    "x = Testo()\n",
    "p = {x : 1}\n",
    "print(\"done\")\n",
    "p = {(x,(x,x)) : 1}\n",
    "(x,(x,x)) in p"
   ]
  },
  {
   "cell_type": "code",
   "execution_count": 14,
   "metadata": {},
   "outputs": [
    {
     "data": {
      "text/plain": [
       "3"
      ]
     },
     "execution_count": 14,
     "metadata": {},
     "output_type": "execute_result"
    }
   ],
   "source": [
    "smt.Sum(a*b, b*c, c*a).num_args()"
   ]
  },
  {
   "cell_type": "code",
   "execution_count": null,
   "metadata": {},
   "outputs": [
    {
     "data": {
      "text/plain": [
       "[eid!0 == eid!1 + eid!2,\n",
       " eid!2 == c,\n",
       " eid!1 == eid!3*eid!4,\n",
       " eid!4 == b,\n",
       " eid!3 == a]"
      ]
     },
     "execution_count": 10,
     "metadata": {},
     "output_type": "execute_result"
    }
   ],
   "source": [
    "def flatten(t):\n",
    "    todo = [(smt.FreshConst(t.sort(), prefix=\"eid\"), t)]\n",
    "    res = []\n",
    "    while todo:\n",
    "        eid, t = todo.pop()\n",
    "        fresh = [smt.FreshConst(c.sort() , prefix=\"eid\") for c in t.children()]\n",
    "        res.append(eid == t.decl()(*fresh))\n",
    "        todo.extend(zip(fresh, t.children()))\n",
    "    return res\n",
    "\n",
    "flatten(a * b + c)\n",
    "\n",
    "# unionfind of eids\n"
   ]
  },
  {
   "cell_type": "code",
   "execution_count": null,
   "metadata": {},
   "outputs": [],
   "source": [
    "class Perm(dict):\n",
    "    def __matmal__(self, other):\n",
    "        return comp(self, other)\n",
    "    def __invert__(self):\n",
    "        return inv(self)\n",
    "    def __add__(self, other):\n",
    "        return comp(self, other)\n",
    "    def __negate__(self):\n",
    "        return inv(self)\n",
    "    \n",
    "id_ = {}\n",
    "\n",
    "class GroupUF:\n",
    "    uf : []\n",
    "    grp : []\n",
    "\n",
    "    def find(self, px):\n",
    "        (p,x) = px\n",
    "        while self.uf[x] != x:\n",
    "            p = p + self.grp[x]\n",
    "            x = self.uf[x]\n",
    "        return (p, x)\n",
    "    def union(self, px1, px2):\n",
    "        (p1,x1) = self.find(px1)\n",
    "        (p2,x2) = self.find(px2)\n",
    "        if x1 != x2:\n",
    "            self.uf[x1] = x2\n",
    "            self.grp[x1] = (-p2) + p1\n",
    "        elif x1 == x2 and p1 != p2:\n",
    "            raise Exception(\"Inconsistent union\")\n",
    "\n",
    "\n",
    "class EGraph:\n",
    "    enodes :\n",
    "    eclasses : \n",
    "    "
   ]
  }
 ],
 "metadata": {
  "kernelspec": {
   "display_name": "philzook58.github.io",
   "language": "python",
   "name": "python3"
  },
  "language_info": {
   "codemirror_mode": {
    "name": "ipython",
    "version": 3
   },
   "file_extension": ".py",
   "mimetype": "text/x-python",
   "name": "python",
   "nbconvert_exporter": "python",
   "pygments_lexer": "ipython3",
   "version": "3.12.3"
  }
 },
 "nbformat": 4,
 "nbformat_minor": 2
}
