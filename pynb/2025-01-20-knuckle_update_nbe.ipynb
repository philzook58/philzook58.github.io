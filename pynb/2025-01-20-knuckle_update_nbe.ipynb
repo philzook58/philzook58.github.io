{
 "cells": [
  {
   "cell_type": "markdown",
   "metadata": {},
   "source": [
    "---\n",
    "date: 2025-01-20\n",
    "title: \"More Knuckledragger: simp, Inductive Relations, sympy NbE, Software Foundations\"\n",
    "---\n",
    "\n",
    "I've been hard at work plugging away at [Knuckledragger](https://github.com/philzook58/knuckledragger), my low barrier proof assistant. \n",
    "\n",
    "Try it out! http://colab.research.google.com/github/philzook58/knuckledragger/blob/main/tutorial.ipynb\n",
    "\n",
    "Look at my cute docs! https://www.philipzucker.com/knuckledragger/ \n",
    "\n",
    "It is an LCF style theorem prover using Z3py directly as it's core, enabling basically seamless interoperation with any other usage of z3py. I am really convinced this is a nice design I haven't seen before that gets me an insane amount for free.\n",
    "\n",
    "Having a ball! I don't think I've been this intense and in flow for a while. Adding a tactics system really unleashed me https://www.philipzucker.com/knuckle_lemma/\n",
    "\n",
    "There's a pile of new features and even more ideas coming, so it's good to discuss them in a blog post.\n",
    "\n",
    "- simp and unfold\n",
    "- inductive relations\n",
    "- eval, reify and nbe\n",
    "- Translating software foundations\n",
    "- GenericProof\n",
    "\n",
    "And away we go!"
   ]
  },
  {
   "cell_type": "markdown",
   "metadata": {},
   "source": [
    "# simp and unfold\n",
    "One of the points of knuckledragger is holding back theorems from z3 in order to guide it. But this is also annoying because now it is my job to find those theorems.\n",
    "\n",
    "Z3 supplies a very nice simplify routine. But it can't simplify through user definitions.\n",
    "\n",
    "User definitions are registered via `kd.define` and stored in the kernel. Unfold can access these and unfold them once. It also produces an optional proof trace. The unfolding should follow obviously via using this trace.\n"
   ]
  },
  {
   "cell_type": "code",
   "execution_count": 1,
   "metadata": {},
   "outputs": [],
   "source": [
    "from kdrag.all import *\n",
    "def unfold(e: smt.ExprRef, decls=None, trace=None) -> smt.ExprRef:\n",
    "    \"\"\"\n",
    "    Do a single unfold sweep, unfolding definitions defined by `kd.define`.\n",
    "    The optional trace parameter will record proof along the way.\n",
    "    `decls` is an optional list of declarations to unfold. If None, all definitions are unfolded.\n",
    "\n",
    "    >>> x = smt.Int(\"x\")\n",
    "    >>> f = kd.define(\"f\", [x], x + 42)\n",
    "    >>> trace = []\n",
    "    >>> unfold(f(1), trace=trace)\n",
    "    1 + 42\n",
    "    >>> trace\n",
    "    [|- f(1) == 1 + 42]\n",
    "    \"\"\"\n",
    "    if smt.is_app(e):\n",
    "        decl = e.decl()\n",
    "        children = [unfold(c, decls=decls, trace=trace) for c in e.children()]\n",
    "        defn = kd.kernel.defns.get(decl)\n",
    "        if defn is not None and (decls is None or decl in decls):\n",
    "            e1 = smt.substitute(defn.body, *zip(defn.args, children))\n",
    "            e = e1\n",
    "            if trace is not None:\n",
    "                if isinstance(defn.ax, smt.QuantifierRef):\n",
    "                    trace.append((defn.ax(*children)))\n",
    "                else:\n",
    "                    trace.append(defn.ax)\n",
    "            return e1\n",
    "        else:\n",
    "            return decl(*children)\n",
    "    else:\n",
    "        return e"
   ]
  },
  {
   "cell_type": "code",
   "execution_count": 2,
   "metadata": {},
   "outputs": [
    {
     "data": {
      "text/html": [
       "42 + 8"
      ],
      "text/plain": [
       "42 + 8"
      ]
     },
     "execution_count": 2,
     "metadata": {},
     "output_type": "execute_result"
    }
   ],
   "source": [
    "from kdrag.all import *\n",
    "foo = kd.define(\"foo\", [], smt.IntVal(42) + smt.IntVal(8))\n",
    "trace = []\n",
    "kd.rewrite.unfold(foo, trace=trace)"
   ]
  },
  {
   "cell_type": "code",
   "execution_count": 3,
   "metadata": {},
   "outputs": [
    {
     "data": {
      "text/plain": [
       "[|- foo == 42 + 8]"
      ]
     },
     "execution_count": 3,
     "metadata": {},
     "output_type": "execute_result"
    }
   ],
   "source": [
    "trace"
   ]
  },
  {
   "cell_type": "markdown",
   "metadata": {},
   "source": [
    "Interleaving unfolding and z3's simplify should be able to evaluate for concrete arguments. This is not the final form of this, I can see there needs to be something smart to decided when to stop if the argument is not concrete."
   ]
  },
  {
   "cell_type": "code",
   "execution_count": 4,
   "metadata": {},
   "outputs": [],
   "source": [
    "def simp(e: smt.ExprRef, trace=None, max_iter=None) -> smt.ExprRef:\n",
    "    \"\"\"\n",
    "    Simplify using definitions and built in z3 simplifier until no progress is made.\n",
    "\n",
    "    >>> import kdrag.theories.nat as nat\n",
    "    >>> simp(nat.one + nat.one + nat.S(nat.one))\n",
    "    S(S(S(S(Z))))\n",
    "\n",
    "    >>> p = smt.Bool(\"p\")\n",
    "    >>> simp(smt.If(p, 42, 3))\n",
    "    If(p, 42, 3)\n",
    "    \"\"\"\n",
    "    i = 0\n",
    "    while True:\n",
    "        i += 1\n",
    "        if max_iter is not None and i > max_iter:\n",
    "            return e\n",
    "        e = unfold(e, trace=trace)\n",
    "        # TODO: Interesting options: som, sort_store, elim_ite, flat, split_concat_eq, sort_sums, sort_disjunctions\n",
    "        e1 = smt.simplify(e)\n",
    "        if e1.eq(e):\n",
    "            return e1\n",
    "        else:\n",
    "            if trace is not None:\n",
    "                trace.append(kd.kernel.lemma(e1 == e))\n",
    "            e = e1"
   ]
  },
  {
   "cell_type": "code",
   "execution_count": 5,
   "metadata": {},
   "outputs": [
    {
     "data": {
      "text/html": [
       "50"
      ],
      "text/plain": [
       "50"
      ]
     },
     "execution_count": 5,
     "metadata": {},
     "output_type": "execute_result"
    }
   ],
   "source": [
    "trace = []\n",
    "kd.simp(foo,trace=trace)"
   ]
  },
  {
   "cell_type": "code",
   "execution_count": 6,
   "metadata": {},
   "outputs": [
    {
     "data": {
      "text/plain": [
       "[|- foo == 42 + 8, |- 42 + 8 == 50]"
      ]
     },
     "execution_count": 6,
     "metadata": {},
     "output_type": "execute_result"
    }
   ],
   "source": [
    "trace"
   ]
  },
  {
   "cell_type": "markdown",
   "metadata": {},
   "source": [
    "I was experimenting with RecFunction, which kind of let's z3 do the unfolding for you, but it infects the context and translating contexts was getting super fishy. So I'm happier with this design for the moment. It wasn't much code!\n",
    "\n",
    "I should also enable registering theorems as rewrite rules, but I haven't go a system for that yet. I do have basic pattern matching / rewriting facilities though.\n"
   ]
  },
  {
   "cell_type": "markdown",
   "metadata": {},
   "source": [
    "# Inductive Relations\n",
    "In this post https://www.philipzucker.com/minikanren_inside_z3/ I discussed how to encode prolog or minikanren programs into z3. There is a \"leastness\" to the intent of these definitions that you can encode using the \"leastness\" of the fixed point of algebraic datatypes.\n",
    "\n",
    "I don't have dependent datatypes, becausre z3/smtlib2 do not directly support them.\n",
    "\n",
    "But neither does Isabelle, and it does have an inductive relation facility. Inductive relations != dependent types. Dependent types are just one way of achieving the informal concept.\n",
    "\n",
    "Basically you need to define a witness/trace datatype alongside a relation that confirms the witness is valid.\n",
    "- The witness of inductive relation of evenness is the div2 divisor basically. `even(x) = exists y. x = 2 * y` or in open witness carrying form `even(wit, x) == Or(And(wit == 0, x == 0), And(even(wit.pred, x - 2)))` \n",
    "- The witness of inductive relation describing operational semantics is a trace of execution (a list of labelled moves).\n",
    "- And so on.\n",
    "\n",
    "Note that you can do this transformation in lean or coq also, translating the dependent version of the inductive relation into a non dependent witness datatype and a function to `Prop` defined recursively over the witness.\n",
    "\n",
    "There are probably examples that you can't factor out into a simple witness type and predicate, but I haven't gotten that far yet. We'll deal with it when we get to it.\n",
    "\n",
    "So you can write this as a idiom in Knuckledragger, but it is burdensome and makes for annoying translation barrier from other system's tutorials.\n",
    "\n",
    "I also wanted to nestle it nicely into Z3's existing pattern of datatype generation. Part of what makes it annoying is that you want to write it as if you are defining a witness datatype at the same time as defining a verifying relation, even though really the witness datatype is defined first.\n",
    "\n",
    "\n",
    "Here's an example. It's a work in progress. I borrow the meta lambda to bind the parameters of the witness"
   ]
  },
  {
   "cell_type": "code",
   "execution_count": 7,
   "metadata": {},
   "outputs": [
    {
     "data": {
      "text/html": [
       "even(ev, 4)"
      ],
      "text/plain": [
       "even(ev, 4)"
      ]
     },
     "execution_count": 7,
     "metadata": {},
     "output_type": "execute_result"
    }
   ],
   "source": [
    "from kdrag.all import *\n",
    "x = smt.Int(\"x\")\n",
    "Even = kd.InductiveRel(\"Even\", x) # x is a parameter of the relation\n",
    "Even.declare(\"Z\",                           pred = x == 0)\n",
    "Even.declare(\"SS\", (\"sub2_evidence\", Even), pred = lambda sub2: sub2.rel(x-2))\n",
    "Even = Even.create()\n",
    "wit = smt.Const(\"ev\", Even)\n",
    "wit.rel(4)\n"
   ]
  },
  {
   "cell_type": "code",
   "execution_count": 8,
   "metadata": {},
   "outputs": [
    {
     "data": {
      "text/html": [
       "True"
      ],
      "text/plain": [
       "True"
      ]
     },
     "execution_count": 8,
     "metadata": {},
     "output_type": "execute_result"
    }
   ],
   "source": [
    "kd.simp(Even.SS(Even.SS(Even.Z)).rel(4))"
   ]
  },
  {
   "cell_type": "code",
   "execution_count": 9,
   "metadata": {},
   "outputs": [
    {
     "data": {
      "text/html": [
       "False"
      ],
      "text/plain": [
       "False"
      ]
     },
     "execution_count": 9,
     "metadata": {},
     "output_type": "execute_result"
    }
   ],
   "source": [
    "kd.simp(Even.SS(Even.Z).rel(4))"
   ]
  },
  {
   "cell_type": "markdown",
   "metadata": {},
   "source": [
    "# Eval_ and NbE\n",
    "\n",
    "A natural thing to want is to interpret z3 expressions to python values. If I prove something about some z3 expression, maybe I want to actually extract it.\n",
    "But also this is useful for evaluating z3 terms into domain specific libraries such as sympy.\n",
    "\n",
    "Python has an `eval` function"
   ]
  },
  {
   "cell_type": "code",
   "execution_count": 10,
   "metadata": {},
   "outputs": [
    {
     "data": {
      "text/plain": [
       "2"
      ]
     },
     "execution_count": 10,
     "metadata": {},
     "output_type": "execute_result"
    }
   ],
   "source": [
    "eval(\"1 + 1\")"
   ]
  },
  {
   "cell_type": "markdown",
   "metadata": {},
   "source": [
    "And sympy has `sympify`  (a reify of strings and python objects into sympy) and `lambdify` (which is an eval from sympy terms to python)."
   ]
  },
  {
   "cell_type": "code",
   "execution_count": 11,
   "metadata": {},
   "outputs": [
    {
     "data": {
      "text/latex": [
       "$\\displaystyle x + 1$"
      ],
      "text/plain": [
       "x + 1"
      ]
     },
     "execution_count": 11,
     "metadata": {},
     "output_type": "execute_result"
    }
   ],
   "source": [
    "import sympy\n",
    "from sympy.abc import x\n",
    "sympy.sympify(\"1 + x\")"
   ]
  },
  {
   "cell_type": "code",
   "execution_count": 12,
   "metadata": {},
   "outputs": [
    {
     "data": {
      "text/html": [
       "z + 1"
      ],
      "text/plain": [
       "z + 1"
      ]
     },
     "execution_count": 12,
     "metadata": {},
     "output_type": "execute_result"
    }
   ],
   "source": [
    "sympy.lambdify(x, 1 + x)(smt.Int(\"z\"))"
   ]
  },
  {
   "cell_type": "markdown",
   "metadata": {},
   "source": [
    "Well, one can build basically the same thing.\n",
    "\n",
    "- operators sent into the overloadable pytohn equivalents\n",
    "- `Lambda` becomes a python lambda, although I think I should make a custom `Closure` type.\n",
    "- Rational reals are `fractions.Fraction` values.\n",
    "- I chose to interpret z3 datatypes as namedtuples with the same name as the constructor and field names.\n",
    "\n",
    "And a sort directed `reify` function"
   ]
  },
  {
   "cell_type": "code",
   "execution_count": 13,
   "metadata": {},
   "outputs": [
    {
     "data": {
      "text/html": [
       "add(Z, S(Z))"
      ],
      "text/plain": [
       "add(Z, S(Z))"
      ]
     },
     "execution_count": 13,
     "metadata": {},
     "output_type": "execute_result"
    }
   ],
   "source": [
    "from kdrag.all import *\n",
    "import kdrag.theories.nat as nat\n",
    "e0 = nat.Z + nat.S(nat.Z)\n",
    "e0"
   ]
  },
  {
   "cell_type": "code",
   "execution_count": 14,
   "metadata": {},
   "outputs": [
    {
     "data": {
      "text/plain": [
       "S(pred=Z())"
      ]
     },
     "execution_count": 14,
     "metadata": {},
     "output_type": "execute_result"
    }
   ],
   "source": [
    "e = kd.utils.eval_(e0)\n",
    "e"
   ]
  },
  {
   "cell_type": "code",
   "execution_count": 15,
   "metadata": {},
   "outputs": [
    {
     "data": {
      "text/html": [
       "S(Z)"
      ],
      "text/plain": [
       "S(Z)"
      ]
     },
     "execution_count": 15,
     "metadata": {},
     "output_type": "execute_result"
    }
   ],
   "source": [
    "kd.utils.reify(nat.Nat, e)"
   ]
  },
  {
   "cell_type": "markdown",
   "metadata": {},
   "source": [
    "Combining them we get a normalization routine https://en.wikipedia.org/wiki/Normalisation_by_evaluation . Because it goes through the metalayer though, I'm not sure how we could trace it. And the whole apparatus is a bit complicated to cover all the corner cases, so I don't think I can put this in the kernel.\n",
    "\n",
    "I find this a very interesting perspective on normalization by evaluation, probably close-ish to the original Lisp version. \n",
    "\n",
    "Some interesting aspects\n",
    "- python is object oriented and the operators are late bound. We get lot's of interpretations for free by this\n",
    "- When `value` is just another datatype in your language, operating kind of at the same level as `term`, it's a bit harder to see the distinction. My `value` is `python.object` and my `term` is `z3.ExprRef` which are wildly different. I find this to happen a lot that making things further apart makes it easier for me to ditinguish them. While having your object language and meta language be similar looking saves a lot of effort, it also makes it order to parse when you're in one vs the other if an author isn't super fastidious."
   ]
  },
  {
   "cell_type": "code",
   "execution_count": 16,
   "metadata": {},
   "outputs": [
    {
     "data": {
      "text/html": [
       "S(Z)"
      ],
      "text/plain": [
       "S(Z)"
      ]
     },
     "execution_count": 16,
     "metadata": {},
     "output_type": "execute_result"
    }
   ],
   "source": [
    "def nbe(x):\n",
    "    return kd.utils.reify(x.sort(), kd.utils.eval_(x))\n",
    "nbe(e0)"
   ]
  },
  {
   "cell_type": "markdown",
   "metadata": {},
   "source": [
    "Higher order functions or stuck terms are a lot fishier. I don't understand NbE well enough. I'm following my nose. It is interesting that z3 terms rae themselves python objects, so we can interpret into itself.\n",
    "\n",
    "Currently, I choose to just fail."
   ]
  },
  {
   "cell_type": "code",
   "execution_count": 17,
   "metadata": {},
   "outputs": [],
   "source": [
    "#kd.utils.eval_(smt.Int(\"x\"))"
   ]
  },
  {
   "cell_type": "markdown",
   "metadata": {},
   "source": [
    "You can add a binding to the context though"
   ]
  },
  {
   "cell_type": "code",
   "execution_count": 18,
   "metadata": {},
   "outputs": [
    {
     "data": {
      "text/plain": [
       "42"
      ]
     },
     "execution_count": 18,
     "metadata": {},
     "output_type": "execute_result"
    }
   ],
   "source": [
    "kd.utils.eval_(smt.Int(\"x\"), {\"x\": 42})"
   ]
  },
  {
   "cell_type": "markdown",
   "metadata": {},
   "source": [
    "We can also use this to interpret z3 expressions into sympy ones"
   ]
  },
  {
   "cell_type": "code",
   "execution_count": 19,
   "metadata": {},
   "outputs": [
    {
     "data": {
      "text/latex": [
       "$\\displaystyle x + 1$"
      ],
      "text/plain": [
       "x + 1"
      ]
     },
     "execution_count": 19,
     "metadata": {},
     "output_type": "execute_result"
    }
   ],
   "source": [
    "import sympy\n",
    "import sympy.abc\n",
    "x = smt.Int(\"x\")\n",
    "kd.utils.eval_(1 + x, {**sympy.__dict__, **sympy.abc.__dict__})"
   ]
  },
  {
   "cell_type": "code",
   "execution_count": 20,
   "metadata": {},
   "outputs": [
    {
     "name": "stderr",
     "output_type": "stream",
     "text": [
      "Admitting lemma ForAll([x, y, z], mul(x, mul(y, z)) == mul(mul(x, y), z))\n",
      "Admitting lemma ForAll(x, Implies(x >= 0, sqrt(x) >= 0))\n",
      "Admitting lemma ForAll(x, Implies(x >= 0, sqrt(x)**2 == x))\n"
     ]
    },
    {
     "name": "stderr",
     "output_type": "stream",
     "text": [
      "Admitting lemma ForAll(x, Implies(x >= 0, sqrt(sqr(x)) == x))\n"
     ]
    },
    {
     "data": {
      "text/plain": [
       "4"
      ]
     },
     "execution_count": 20,
     "metadata": {},
     "output_type": "execute_result"
    }
   ],
   "source": [
    "import kdrag.theories.real as real\n",
    "def sympy_nbe(vs, e, globals={}):\n",
    "    env = {**sympy.__dict__, **sympy.abc.__dict__, **globals}\n",
    "    sympy_e = kd.utils.eval_(e, env)\n",
    "    return sympy.lambdify([v.decl().name() for v in vs], sympy_e.simplify(), modules=[real])(*vs)\n",
    "x = smt.Real(\"x\")\n",
    "sympy_nbe([x], 1 + 2 + real.sin(x)**2 + real.cos(x)**2)"
   ]
  },
  {
   "cell_type": "markdown",
   "metadata": {},
   "source": [
    "Again, I don't even know how to get breadcrumbs out of sympy. So there is not proof object that `1 + 2 + sin(x)**2 + cos(x)**2 == 4`\n",
    "\n",
    "One could choose to just admit this, build some tactics to try and do this sort of thing, or take it as a new proof obligation in a `Lemma` context.\n",
    "\n",
    "I'm intrigued at using this technique https://www.philipzucker.com/overload_bool/ to reify through control flow\n",
    "\n",
    "More food for thought\n",
    "\n",
    "- Sam Lindley's slides https://homepages.inf.ed.ac.uk/slindley/nbe/nbe-cambridge2016.pdf\n",
    "- https://williamjbowman.com/tmp/nbe-four-ways/"
   ]
  },
  {
   "cell_type": "markdown",
   "metadata": {},
   "source": [
    "# Software Foundations and Other Tutorials\n",
    "\n",
    "A good thing to grind on is just translating other systems tutorials into knuckledragger to make sure I'm tutorial complete. I have found features missing and many bugs. I haven't yet run into a kernel bug though, which is nice (I'm sure they are there. I'm also programming the happy path).\n",
    "\n",
    "I think once I'm confident you can do software foundations V1 and V2 I'll cut some kind of Knuckledragger release.\n",
    "\n",
    "On the downside, the more I do this, the more knuckledragger loses some uniqueness as it is glomming on features that already exist.\n",
    "\n",
    "It is however super important to keep actually trying to use knuckledragger, or any project one is writing. Inventing and proving new formulations of theories while also building the proof assistant is a lot to chew on, so I'm glad I have a pile of lazy already done theorems to copy. Like here https://www.philipzucker.com/cody_sheffer/ . \n",
    "\n",
    "I'm also looking at the lean and isabelle tutorials.\n",
    "\n",
    "It's all going into the CI, but I'm not really cleaning up the text. Eventually, I'll write a more thorough custom tutorial for knuckledragger.\n"
   ]
  },
  {
   "cell_type": "markdown",
   "metadata": {},
   "source": [
    "### Basics"
   ]
  },
  {
   "cell_type": "code",
   "execution_count": 21,
   "metadata": {},
   "outputs": [],
   "source": [
    "import kdrag as kd\n",
    "from kdrag import smt\n",
    "\n",
    "\"\"\"\n",
    "Inductive day : Type :=\n",
    "  | monday\n",
    "  | tuesday\n",
    "  | wednesday\n",
    "  | thursday\n",
    "  | friday\n",
    "  | saturday\n",
    "  | sunday.\n",
    "\"\"\"\n",
    "\n",
    "day = kd.Enum(\"day\", \"monday tuesday wednesday thursday friday saturday sunday\")\n",
    "\n",
    "d = smt.Const(\"d\", day)\n",
    "next_weekday = kd.define(\"next_weekday\", [d], kd.cond(\n",
    "    (d.is_monday, day.tuesday),\n",
    "    (d.is_tuesday, day.wednesday),\n",
    "    (d.is_wednesday, day.thursday),\n",
    "    (d.is_thursday, day.friday),\n",
    "    (d.is_friday, day.monday),\n",
    "    (d.is_saturday, day.monday),\n",
    "    (d.is_sunday, day.monday),\n",
    "))"
   ]
  },
  {
   "cell_type": "code",
   "execution_count": 22,
   "metadata": {},
   "outputs": [
    {
     "data": {
      "text/html": [
       "tuesday"
      ],
      "text/plain": [
       "tuesday"
      ]
     },
     "execution_count": 22,
     "metadata": {},
     "output_type": "execute_result"
    }
   ],
   "source": [
    "\"\"\" Compute (next_weekday friday). \"\"\"\n",
    "kd.simp(next_weekday(day.friday))\n",
    "\n",
    "\n",
    "# In[4]:\n",
    "\n",
    "\n",
    "\"\"\" Compute (next_weekday (next_weekday saturday)). \"\"\"\n",
    "kd.simp(next_weekday(next_weekday(day.saturday)))\n",
    "\n"
   ]
  },
  {
   "cell_type": "code",
   "execution_count": 23,
   "metadata": {},
   "outputs": [
    {
     "data": {
      "text/html": [
       "&#8870;next_weekday(next_weekday(saturday)) == tuesday"
      ],
      "text/plain": [
       "|- next_weekday(next_weekday(saturday)) == tuesday"
      ]
     },
     "execution_count": 23,
     "metadata": {},
     "output_type": "execute_result"
    }
   ],
   "source": [
    "\"\"\"\n",
    "Example test_next_weekday:\n",
    "  (next_weekday (next_weekday saturday)) = tuesday.\n",
    "\"\"\"\n",
    "l = kd.Lemma(next_weekday(next_weekday(day.saturday)) == day.tuesday)\n",
    "\"\"\"Proof. simpl. reflexivity.  Qed.\"\"\"\n",
    "l.auto(by=next_weekday.defn)\n",
    "l.qed()"
   ]
  },
  {
   "cell_type": "code",
   "execution_count": 24,
   "metadata": {},
   "outputs": [
    {
     "data": {
      "text/html": [
       "&#8870;orb(true, true) == true"
      ],
      "text/plain": [
       "|- orb(true, true) == true"
      ]
     },
     "execution_count": 24,
     "metadata": {},
     "output_type": "execute_result"
    }
   ],
   "source": [
    "bool = kd.Enum(\"bool\", \"true false\")\n",
    "\n",
    "b, b1, b2 = smt.Consts(\"b b1 b2\", bool)\n",
    "\n",
    "\n",
    "negb = kd.define(\"negb\", [b], kd.cond(\n",
    "    (b.is_true, bool.false),\n",
    "    (b.is_false, bool.true),\n",
    "))\n",
    "andb = kd.define(\"andb\", [b1, b2], kd.cond(\n",
    "    (b1.is_true, b2),\n",
    "    (b1.is_false, bool.false),\n",
    "))\n",
    "orb = kd.define(\"orb\", [b1, b2], kd.cond(\n",
    "    (b1.is_true, bool.true),\n",
    "    (b1.is_false, b2),\n",
    "))\n",
    "\n",
    "negb1 = kd.define(\"negb1\", [b], \n",
    "b.match_(\n",
    "  (bool.true, bool.false),\n",
    "  (bool.false, bool.true),\n",
    "))\n",
    "\n",
    "kd.lemma(smt.ForAll([b], negb(b) == negb1(b)), by=[negb1.defn, negb.defn])\n",
    "\n",
    "kd.lemma(orb(bool.true, bool.false) == bool.true, by=orb.defn)\n",
    "kd.lemma(orb(bool.false, bool.false) == bool.false, by=orb.defn)\n",
    "kd.lemma(orb(bool.false, bool.true) == bool.true, by=orb.defn)\n",
    "kd.lemma(orb(bool.true, bool.true) == bool.true, by=orb.defn)"
   ]
  },
  {
   "cell_type": "code",
   "execution_count": 25,
   "metadata": {},
   "outputs": [
    {
     "data": {
      "text/html": [
       "&#8870;orb(orb(false, false), true) == true"
      ],
      "text/plain": [
       "|- orb(orb(false, false), true) == true"
      ]
     },
     "execution_count": 25,
     "metadata": {},
     "output_type": "execute_result"
    }
   ],
   "source": [
    "\n",
    "\n",
    "\"\"\"\n",
    "Notation \"x && y\" := (andb x y).\n",
    "Notation \"x || y\" := (orb x y).\n",
    "\"\"\"\n",
    "kd.notation.or_.register(bool, orb)\n",
    "kd.notation.and_.register(bool, andb)\n",
    "\n",
    "\"\"\"\n",
    "Example test_orb5:  false || false || true = true.\n",
    "Proof. simpl. reflexivity. Qed.\n",
    "\"\"\"\n",
    "kd.lemma(bool.false | bool.false | bool.true == bool.true, by=orb.defn)\n"
   ]
  },
  {
   "cell_type": "code",
   "execution_count": 26,
   "metadata": {},
   "outputs": [
    {
     "data": {
      "text/html": [
       "&#8870;ForAll(c,\n",
       "       isred(c) ==\n",
       "       If(And(is(primary, c), is(red, p(c))), true, false))"
      ],
      "text/plain": [
       "|- ForAll(c,\n",
       "       isred(c) ==\n",
       "       If(And(is(primary, c), is(red, p(c))), true, false))"
      ]
     },
     "execution_count": 26,
     "metadata": {},
     "output_type": "execute_result"
    }
   ],
   "source": [
    "rgb = kd.Enum(\"rgb\", \"red green blue\")\n",
    "color = kd.Inductive(\"color\")\n",
    "color.declare(\"black\")\n",
    "color.declare(\"white\")\n",
    "color.declare(\"primary\", (\"p\", rgb))\n",
    "color = color.create()\n",
    "\n",
    "c = smt.Const(\"c\", color)\n",
    "p = smt.Const(\"p\", rgb)\n",
    "monochome = kd.define(\"monochrome\", [c],\n",
    "                      c.match_(\n",
    "                          (color.black, bool.true),\n",
    "                          (color.white, bool.true),\n",
    "                          (color.primary(p), bool.false)\n",
    "                        )\n",
    "                      )\n",
    "\n",
    "isred = kd.define(\"isred\", [c],\n",
    "                      c.match_(\n",
    "                          (color.primary(rgb.red), bool.true),\n",
    "                        default=bool.false)\n",
    "                      )\n",
    "isred.defn"
   ]
  },
  {
   "cell_type": "code",
   "execution_count": 27,
   "metadata": {},
   "outputs": [
    {
     "data": {
      "text/html": [
       "nybble(B0, B1, B0, B1)"
      ],
      "text/plain": [
       "nybble(B0, B1, B0, B1)"
      ]
     },
     "execution_count": 27,
     "metadata": {},
     "output_type": "execute_result"
    }
   ],
   "source": [
    "bit = kd.Enum(\"bit\", \"B1 B0\")\n",
    "nybble = kd.Record(\"nybble\", (\"b0\", bit), (\"b1\", bit), (\"b2\", bit), (\"b3\", bit))\n",
    "\n",
    "nybble(\n",
    "    b0=bit.B0,\n",
    "    b1=bit.B1,\n",
    "    b2=bit.B0,\n",
    "    b3=bit.B1\n",
    ")\n"
   ]
  },
  {
   "cell_type": "code",
   "execution_count": 28,
   "metadata": {},
   "outputs": [
    {
     "data": {
      "text/html": [
       "&#8870;ForAll(n,\n",
       "       pred(n) ==\n",
       "       If(is(O, n), O, If(is(S, n), n(n), unreachable!321)))"
      ],
      "text/plain": [
       "|- ForAll(n,\n",
       "       pred(n) ==\n",
       "       If(is(O, n), O, If(is(S, n), n(n), unreachable!321)))"
      ]
     },
     "execution_count": 28,
     "metadata": {},
     "output_type": "execute_result"
    }
   ],
   "source": [
    "\n",
    "\n",
    "Nat = kd.Inductive(\"Nat\")\n",
    "Nat.declare(\"O\")\n",
    "Nat.declare(\"S\", (\"n\", Nat))\n",
    "Nat = Nat.create()\n",
    "\n",
    "otherNat = kd.Inductive(\"otherNat\")\n",
    "otherNat.declare(\"O\")\n",
    "otherNat.declare(\"S\", (\"n\", otherNat))\n",
    "otherNat = otherNat.create()\n",
    "\n",
    "n = smt.Const(\"n\", Nat)\n",
    "pred = kd.define(\"pred\", [n], n.match_(  \n",
    "    (Nat.O, Nat.O),\n",
    "    (Nat.S(n), n)\n",
    "))\n",
    "pred.defn\n"
   ]
  },
  {
   "cell_type": "markdown",
   "metadata": {},
   "source": [
    "### Lists"
   ]
  },
  {
   "cell_type": "code",
   "execution_count": 29,
   "metadata": {},
   "outputs": [
    {
     "name": "stdout",
     "output_type": "stream",
     "text": [
      "NatProd\n"
     ]
    },
    {
     "data": {
      "text/plain": [
       "S(pred=S(pred=S(pred=S(pred=S(pred=Z())))))"
      ]
     },
     "execution_count": 29,
     "metadata": {},
     "output_type": "execute_result"
    }
   ],
   "source": [
    "# Inductive natprod : Type :=\n",
    "#   | pair (n1 n2 : nat).\n",
    "# \n",
    "# (** This declaration can be read: \"The one and only way to\n",
    "#     construct a pair of numbers is by applying the constructor [pair]\n",
    "#     to two arguments of type [nat].\" *)\n",
    "# \n",
    "# Check (pair 3 5) : natprod.\n",
    "# \n",
    "# (** Functions for extracting the first and second components of a pair\n",
    "#     can then be defined by pattern matching. *)\n",
    "# \n",
    "# Definition fst (p : natprod) : nat :=\n",
    "#   match p with\n",
    "#   | pair x y => x\n",
    "#   end.\n",
    "# \n",
    "# Definition snd (p : natprod) : nat :=\n",
    "#   match p with\n",
    "#   | pair x y => y\n",
    "#   end.\n",
    "# \n",
    "# Compute (fst (pair 3 5)).\n",
    "# (* ===> 3 *)\n",
    "# \n",
    "# \n",
    "\n",
    "# In[2]:\n",
    "\n",
    "\n",
    "import kdrag as kd\n",
    "from kdrag import smt\n",
    "import kdrag.theories.nat as nat\n",
    "NatProd = kd.Record(\"NatProd\", (\"n1\", nat.Nat), (\"n2\", nat.Nat))\n",
    "\n",
    "q = NatProd(nat.from_int(3),nat.from_int(5))\n",
    "print(q.sort())\n",
    "\n",
    "n,m,k = smt.Consts(\"n m k\", nat.Nat)\n",
    "p = smt.Const(\"p\", NatProd)\n",
    "fst = kd.define(\"fst\", [p], p.n1)\n",
    "snd = kd.define(\"snd\", [p], p.n2)\n",
    "\n",
    "kd.simp(fst(q))\n",
    "kd.simp(snd(q))\n",
    "\n",
    "kd.utils.eval_(fst(q))\n",
    "kd.utils.eval_(snd(q))\n"
   ]
  },
  {
   "cell_type": "code",
   "execution_count": 30,
   "metadata": {},
   "outputs": [],
   "source": [
    "# \n",
    "# (** **** Exercise: 1 star, standard, optional (fst_swap_is_snd) *)\n",
    "# Theorem fst_swap_is_snd : forall (p : natprod),\n",
    "#   fst (swap_pair p) = snd p.\n",
    "# Proof.\n",
    "#   (* FILL IN HERE *) Admitted.\n",
    "# (** [] *)\n",
    "\n",
    "# In[4]:\n",
    "\n",
    "\n",
    "swap_pair = kd.define(\"swap_pair\", [p], NatProd(p.n2, p.n1))\n",
    "\n",
    "nat_prod_surj = kd.lemma(smt.ForAll([n, m], swap_pair(NatProd(n, m)) == NatProd(m, n)), by=swap_pair.defn)\n",
    "\n"
   ]
  },
  {
   "cell_type": "code",
   "execution_count": 31,
   "metadata": {},
   "outputs": [
    {
     "data": {
      "text/html": [
       "Cons(from_int(1), Cons(from_int(2), Cons(from_int(3), Nil)))"
      ],
      "text/plain": [
       "Cons(from_int(1), Cons(from_int(2), Cons(from_int(3), Nil)))"
      ]
     },
     "execution_count": 31,
     "metadata": {},
     "output_type": "execute_result"
    }
   ],
   "source": [
    "NatList = kd.Inductive(\"NatList\")\n",
    "NatList.declare(\"Nil\")\n",
    "NatList.declare(\"Cons\", (\"head\", nat.Nat), (\"tail\", NatList))\n",
    "NatList = NatList.create()\n",
    "\n",
    "def natlist(*args):\n",
    "    if len(args) == 0:\n",
    "        return NatList.Nil\n",
    "    else:\n",
    "        return NatList.Cons(args[0], natlist(*args[1:]))\n",
    "\n",
    "natlist(nat.from_int(1), nat.from_int(2), nat.from_int(3))\n"
   ]
  },
  {
   "cell_type": "code",
   "execution_count": 32,
   "metadata": {},
   "outputs": [
    {
     "data": {
      "text/html": [
       "&#8870;append(Cons(from_int(1),\n",
       "            Cons(from_int(2), Cons(from_int(3), Nil))),\n",
       "       Nil) ==\n",
       "Cons(from_int(1), Cons(from_int(2), Cons(from_int(3), Nil)))"
      ],
      "text/plain": [
       "|- append(Cons(from_int(1),\n",
       "            Cons(from_int(2), Cons(from_int(3), Nil))),\n",
       "       Nil) ==\n",
       "Cons(from_int(1), Cons(from_int(2), Cons(from_int(3), Nil)))"
      ]
     },
     "execution_count": 32,
     "metadata": {},
     "output_type": "execute_result"
    }
   ],
   "source": [
    "n,count = smt.Consts(\"n count\", nat.Nat)\n",
    "repeat = smt.Function(\"repeat\", nat.Nat, nat.Nat, NatList)\n",
    "kd.define(\"repeat\", [n,count], smt.If(count.is_Z, NatList.Nil, NatList.Cons(n, repeat(n, count.pred))))\n",
    "\n",
    "length = smt.Function(\"length\", NatList, nat.Nat)\n",
    "l = smt.Const(\"l\", NatList)\n",
    "kd.define(\"length\", [l], smt.If(l.is_Nil, nat.Nat.Z, nat.Nat.S(length(l.tail))))\n",
    "\n",
    "append = smt.Function(\"append\", NatList, NatList, NatList)\n",
    "l1,l2 = smt.Consts(\"l1 l2\", NatList)\n",
    "kd.define(\"append\", [l1,l2], smt.If(l1.is_Nil, l2, NatList.Cons(l1.head, append(l1.tail, l2))))\n",
    "\n",
    "kd.notation.add.register(NatList, append)\n",
    "\n",
    "x = list(nat.from_int(i) for i in range(1,10))\n",
    "kd.lemma(natlist(x[0], x[1], x[2]) + natlist(x[4], x[5]) == natlist(x[0], x[1], x[2], x[4], x[5]), by=append.defn)\n",
    "kd.lemma(NatList.Nil + natlist(x[4], x[5]) == natlist(x[4], x[5]), by=append.defn)\n",
    "kd.lemma(natlist(x[0], x[1], x[2]) + NatList.Nil == natlist(x[0], x[1], x[2]), by=append.defn)\n"
   ]
  },
  {
   "cell_type": "code",
   "execution_count": 33,
   "metadata": {},
   "outputs": [
    {
     "data": {
      "text/html": [
       "&#8870;tail(Cons(from_int(1),\n",
       "          Cons(from_int(2), Cons(from_int(3), Nil)))) ==\n",
       "Cons(from_int(2), Cons(from_int(3), Nil))"
      ],
      "text/plain": [
       "|- tail(Cons(from_int(1),\n",
       "          Cons(from_int(2), Cons(from_int(3), Nil)))) ==\n",
       "Cons(from_int(2), Cons(from_int(3), Nil))"
      ]
     },
     "execution_count": 33,
     "metadata": {},
     "output_type": "execute_result"
    }
   ],
   "source": [
    "head = kd.define(\"head\", [l, n], smt.If(l.is_Nil, n, l.head))\n",
    "tail = kd.define(\"tail\", [l], smt.If(l.is_Nil, NatList.Nil, l.tail))\n",
    "\n",
    "\"\"\"\n",
    "Example test_hd1:             hd 0 [1;2;3] = 1.\n",
    "Proof. reflexivity. Qed.\n",
    "Example test_hd2:             hd 0 [] = 0.\n",
    "Proof. reflexivity. Qed.\n",
    "Example test_tl:              tl [1;2;3] = [2;3].\n",
    "Proof. reflexivity. Qed.\n",
    "\"\"\"\n",
    "l = natlist(x[0], x[1], x[2])\n",
    "kd.lemma(head(l , nat.Nat.Z) == x[0], by=head.defn)\n",
    "kd.lemma(head(NatList.Nil, nat.Nat.Z) == nat.Nat.Z, by=head.defn)\n",
    "kd.lemma(tail(l) == natlist(x[1], x[2]), by=tail.defn)\n",
    "\n"
   ]
  },
  {
   "cell_type": "code",
   "execution_count": 34,
   "metadata": {},
   "outputs": [
    {
     "name": "stdout",
     "output_type": "stream",
     "text": [
      "[[l!465];\n",
      "[is(Cons, l!465) == True] ?|- safe_pred(length(l!465)) == length(tail(l!465)), [l!465];\n",
      "[is(Nil, l!465) == True] ?|- safe_pred(length(l!465)) == length(tail(l!465))]\n"
     ]
    },
    {
     "data": {
      "text/plain": [
       "Nothing to do!"
      ]
     },
     "execution_count": 34,
     "metadata": {},
     "output_type": "execute_result"
    }
   ],
   "source": [
    "# Theorem tl_length_pred : forall l:natlist,\n",
    "#   pred (length l) = length (tl l).\n",
    "# Proof.\n",
    "#   intros l. destruct l as [| n l'].\n",
    "#   - (* l = nil *)\n",
    "#     reflexivity.\n",
    "#   - (* l = cons n l' *)\n",
    "#     reflexivity.  Qed.\n",
    "\n",
    "# In[8]:\n",
    "\n",
    "\n",
    "l = smt.Const(\"l\", NatList)\n",
    "nil_app = kd.lemma(smt.ForAll([l], append(NatList.Nil, l) == l), by=append.defn)\n",
    "\n",
    "\n",
    "l = kd.Lemma(smt.ForAll([l], nat.safe_pred(length(l)) == length(tail(l))))\n",
    "_l = l.fix()\n",
    "l.cases(_l)\n",
    "print(l.goals)\n",
    "l.auto(by=[length.defn, tail.defn, nat.safe_pred.defn])\n",
    "l.auto(by=[length.defn, tail.defn, nat.safe_pred.defn])\n",
    "\n"
   ]
  },
  {
   "cell_type": "code",
   "execution_count": 35,
   "metadata": {},
   "outputs": [
    {
     "data": {
      "text/html": [
       "&#8870;ForAll([l1, l2, l3],\n",
       "       append(append(l1, l2), l3) ==\n",
       "       append(l1, append(l2, l3)))"
      ],
      "text/plain": [
       "|- ForAll([l1, l2, l3],\n",
       "       append(append(l1, l2), l3) ==\n",
       "       append(l1, append(l2, l3)))"
      ]
     },
     "execution_count": 35,
     "metadata": {},
     "output_type": "execute_result"
    }
   ],
   "source": [
    "#     eventually reaching [nil], these two arguments together establish\n",
    "#     the truth of [P] for all lists [l].\n",
    "# \n",
    "#     Here's a concrete example: *)\n",
    "# \n",
    "# Theorem app_assoc : forall l1 l2 l3 : natlist,\n",
    "#   (l1 ++ l2) ++ l3 = l1 ++ (l2 ++ l3).\n",
    "# Proof.\n",
    "#   intros l1 l2 l3. induction l1 as [| n l1' IHl1'].\n",
    "#   - (* l1 = nil *)\n",
    "#     reflexivity.\n",
    "#   - (* l1 = cons n l1' *)\n",
    "#     simpl. rewrite -> IHl1'. reflexivity.  Qed.\n",
    "\n",
    "# In[9]:\n",
    "\n",
    "\n",
    "l1,l2,l3 = smt.Consts(\"l1 l2 l3\", NatList)\n",
    "l = kd.Lemma(smt.ForAll([l1,l2,l3], (l1 + l2) + l3 == l1 + (l2 + l3)))\n",
    "_l1, _l2, _l3 = l.fixes()\n",
    "l.induct(_l1)\n",
    "#l.goals[-1]\n",
    "#l.auto(by=append.defn)\n",
    "l.unfold(append)\n",
    "l.simp()\n",
    "l.auto()\n",
    "\n",
    "_tail = l.fix()\n",
    "l.intros()\n",
    "_head = l.fix()\n",
    "l.unfold(append)\n",
    "l.simp()\n",
    "l.auto(by=[append.defn])\n",
    "l.qed()\n",
    "#l.unfold(append)\n",
    "#l.auto(by=append.defn(NatList.Nil, _l2))\n",
    "#l.auto(by=[append.defn(NatList.Nil, _l2), append.defn(NatList.Nil, _l2 + _l3)])\n",
    "#l.auto(by=[append.defn])\n",
    "#l.qed()\n",
    "\n"
   ]
  },
  {
   "cell_type": "code",
   "execution_count": 42,
   "metadata": {},
   "outputs": [
    {
     "data": {
      "text/html": [
       "&#8870;rev(Cons(from_int(1),\n",
       "         Cons(from_int(2), Cons(from_int(3), Nil)))) ==\n",
       "Cons(from_int(3), Cons(from_int(2), Cons(from_int(1), Nil)))"
      ],
      "text/plain": [
       "|- rev(Cons(from_int(1),\n",
       "         Cons(from_int(2), Cons(from_int(3), Nil)))) ==\n",
       "Cons(from_int(3), Cons(from_int(2), Cons(from_int(1), Nil)))"
      ]
     },
     "execution_count": 42,
     "metadata": {},
     "output_type": "execute_result"
    }
   ],
   "source": [
    "# (* ----------------------------------------------------------------- *)\n",
    "# ## Reversing a List \n",
    "# \n",
    "# (** For a slightly more involved example of inductive proof over\n",
    "#     lists, suppose we use [app] to define a list-reversing function\n",
    "#     [rev]: *)\n",
    "# \n",
    "# Fixpoint rev (l:natlist) : natlist :=\n",
    "#   match l with\n",
    "#   | nil    => nil\n",
    "#   | h :: t => rev t ++ [h]\n",
    "#   end.\n",
    "# \n",
    "# Example test_rev1:            rev [1;2;3] = [3;2;1].\n",
    "# Proof. reflexivity.  Qed.\n",
    "# Example test_rev2:            rev nil = nil.\n",
    "# Proof. reflexivity.  Qed.\n",
    "\n",
    "# In[10]:\n",
    "\n",
    "\n",
    "rev = smt.Function(\"rev\", NatList, NatList)\n",
    "l = smt.Const(\"l\", NatList) \n",
    "rev = kd.define(\"rev\", [l], smt.If(l.is_Nil, NatList.Nil, rev(l.tail) + natlist(l.head)))\n",
    "\n",
    "\n",
    "\n",
    "append_Nil = kd.lemma(smt.ForAll([l], append(NatList.Nil, l) == l), by=append.defn)\n",
    "append_Cons = kd.lemma(smt.ForAll([l1,l2, n], NatList.Cons(n,l1) + l2 == NatList.Cons(n, l1 + l2)), by=append.defn)\n",
    "\n",
    "#rev_Nil = kd.lemma(rev(NatList.Nil) == NatList.Nil, by=rev.defn) # This doesn't work? What? Ematching failure. I see. No. Do I see?\n",
    "rev_Nil = kd.lemma(rev(NatList.Nil) == NatList.Nil, by=rev.defn(NatList.Nil))\n",
    "rev_Cons = kd.lemma(smt.ForAll([l,n], rev(NatList.Cons(n,l)) == rev(l) + natlist(n)), by=rev.defn) \n",
    "\n",
    "kd.lemma(rev(natlist(x[0], x[1], x[2])) == natlist(x[2], x[1], x[0]), by=[append_Nil, append_Cons, rev_Cons, rev_Nil])\n",
    "\n",
    "# This should be less painful\n",
    "l = kd.Lemma(rev(natlist(x[0], x[1], x[2])) == natlist(x[2], x[1], x[0]))\n",
    "for i in range(4):\n",
    "    l.unfold(rev,append)\n",
    "    l.simp()\n",
    "l.qed()\n",
    "\n",
    "#l.rw(append_Cons)\n",
    "#l.simp()\n",
    "#print(l)\n",
    "#l.auto(by=[append_Nil, append_Cons])\n",
    "#l.auto()\n",
    "#l\n",
    "#l.qed()\n",
    "\n",
    "#kd.lemma(rev(NatList.Nil) == NatList.Nil, by=rev.defn(NatList.Nil))\n",
    "\n"
   ]
  },
  {
   "cell_type": "code",
   "execution_count": 37,
   "metadata": {},
   "outputs": [
    {
     "data": {
      "text/html": [
       "&#8870;ForAll([l1, l2],\n",
       "       length(append(l1, l2)) == add(length(l1), length(l2)))"
      ],
      "text/plain": [
       "|- ForAll([l1, l2],\n",
       "       length(append(l1, l2)) == add(length(l1), length(l2)))"
      ]
     },
     "execution_count": 37,
     "metadata": {},
     "output_type": "execute_result"
    }
   ],
   "source": [
    "# (** For something a bit more challenging, let's prove that\n",
    "#     reversing a list does not change its length.  Our first attempt\n",
    "#     gets stuck in the successor case... *)\n",
    "# \n",
    "# Theorem rev_length_firsttry : forall l : natlist,\n",
    "#   length (rev l) = length l.\n",
    "# Proof.\n",
    "#   intros l. induction l as [| n l' IHl'].\n",
    "#   - (* l = nil *)\n",
    "#     reflexivity.\n",
    "#   - (* l = n :: l' *)\n",
    "#     (* This is the tricky case.  Let's begin as usual\n",
    "#        by simplifying. *)\n",
    "#     simpl.\n",
    "#     (* Now we seem to be stuck: the goal is an equality\n",
    "#        involving [++], but we don't have any useful equations\n",
    "#        in either the immediate context or in the global\n",
    "#        environment!  We can make a little progress by using\n",
    "#        the IH to rewrite the goal... *)\n",
    "#     rewrite <- IHl'.\n",
    "#     (* ... but now we can't go any further. *)\n",
    "# Abort.\n",
    "# \n",
    "# (** So let's take the equation relating [++] and [length] that\n",
    "#     would have enabled us to make progress at the point where we got\n",
    "#     stuck and state it as a separate lemma. *)\n",
    "# \n",
    "# Theorem app_length : forall l1 l2 : natlist,\n",
    "#   length (l1 ++ l2) = (length l1) + (length l2).\n",
    "# Proof.\n",
    "#   (* WORKED IN CLASS *)\n",
    "#   intros l1 l2. induction l1 as [| n l1' IHl1'].\n",
    "#   - (* l1 = nil *)\n",
    "#     reflexivity.\n",
    "#   - (* l1 = cons *)\n",
    "#     simpl. rewrite -> IHl1'. reflexivity.  Qed.\n",
    "\n",
    "# In[11]:\n",
    "\n",
    "l1 = smt.Const(\"l1\", NatList)\n",
    "length_Cons = kd.lemma(smt.ForAll([l1,n], length(NatList.Cons(n,l1)) == nat.Nat.S(length(l1))), by=length.defn)\n",
    "length_Nil = kd.lemma(length(NatList.Nil) == nat.Nat.Z, by=length.defn(NatList.Nil))\n",
    "\n",
    "l = kd.Lemma(smt.ForAll([l1,l2], length(l1 + l2) == length(l1) + length(l2)))\n",
    "_l1, _l2 = l.fixes()\n",
    "l.induct(_l1)\n",
    "l.rw(length.defn(NatList.Nil))\n",
    "l.simp()\n",
    "#l.auto(by=[length.defn, append.defn, nat.add.defn]) # TODO: unstable\n",
    "l.auto(by=[append_Nil, nat.add_Z])\n",
    "_tl = l.fix()\n",
    "l.intros()\n",
    "_hd = l.fix()\n",
    "l.rw(append_Cons)\n",
    "l.rw(length_Cons)\n",
    "l.rw(length_Cons)\n",
    "l.auto(by=[nat.add.defn])\n",
    "app_length = l.qed()\n",
    "#l.unfold(nat.add)\n",
    "#l.unfold(length)\n",
    "app_length\n"
   ]
  },
  {
   "cell_type": "markdown",
   "metadata": {},
   "source": [
    "# Generic Proof\n",
    "Smtlib and Z3 (or basic multi sorted first order logic) have basically no parametric or generic types. This is kind of a problem when you want to copy things othert systems are doing. I'm not so sure it's that much of a problem if you are starting from scratch, working to the strengths and weaknesses of knuckledragger. Being generic is a sickness.\n",
    "\n",
    "In any case, one panacea is to get a weaker external notion of generic in the metasystem, ie. python.\n",
    "\n",
    "An extremely preliminary idea is `GenericProof`. This is basically a dicitonary keyed on anything (sorts, funcdecls, terms, tuples of these, whatever), with the caveat that when you register something to it\n",
    "\n",
    "1. it checks it is a proof\n",
    "2. it checks that the theorem of the proof matches the defined schema.\n",
    "\n",
    "This is similar in some ways to `SortDispatch` which knuckledragger uses to overload on z3 sorts in a manner similar to python's singledispatch. The intent there was that SortDispatch returns a z3 term (and inspects the sort of the first argument to decide which one), but GenericProof returns a proof object.\n",
    "\n",
    "GenericProof plays a role similar to modules or typeclasses.\n",
    "\n",
    "You are welcome to bundle together GenericProof as members of a python class, like `Group`.\n"
   ]
  },
  {
   "cell_type": "code",
   "execution_count": 38,
   "metadata": {},
   "outputs": [
    {
     "ename": "NameError",
     "evalue": "name 'Optional' is not defined",
     "output_type": "error",
     "traceback": [
      "\u001b[0;31m---------------------------------------------------------------------------\u001b[0m",
      "\u001b[0;31mNameError\u001b[0m                                 Traceback (most recent call last)",
      "Cell \u001b[0;32mIn[38], line 1\u001b[0m\n\u001b[0;32m----> 1\u001b[0m \u001b[38;5;28;43;01mclass\u001b[39;49;00m\u001b[38;5;250;43m \u001b[39;49m\u001b[38;5;21;43;01mGenericProof\u001b[39;49;00m\u001b[43m:\u001b[49m\n\u001b[1;32m      2\u001b[0m \u001b[38;5;250;43m    \u001b[39;49m\u001b[38;5;124;43;03m\"\"\"\u001b[39;49;00m\n\u001b[1;32m      3\u001b[0m \u001b[38;5;124;43;03m    GenericProof is a dictionary of proofs indexed on meta (python) information.\u001b[39;49;00m\n\u001b[1;32m      4\u001b[0m \n\u001b[0;32m   (...)\u001b[0m\n\u001b[1;32m     19\u001b[0m \u001b[38;5;124;43;03m    >>> obvious.register(R, kd.lemma(smt.ForAll([x(R)], x(R) == x(R))))\u001b[39;49;00m\n\u001b[1;32m     20\u001b[0m \u001b[38;5;124;43;03m    \"\"\"\u001b[39;49;00m\n\u001b[1;32m     22\u001b[0m \u001b[43m    \u001b[49m\u001b[38;5;28;43;01mdef\u001b[39;49;00m\u001b[38;5;250;43m \u001b[39;49m\u001b[38;5;21;43m__init__\u001b[39;49m\u001b[43m(\u001b[49m\u001b[38;5;28;43mself\u001b[39;49m\u001b[43m,\u001b[49m\u001b[43m \u001b[49m\u001b[43mf\u001b[49m\u001b[43m)\u001b[49m\u001b[43m:\u001b[49m\n",
      "Cell \u001b[0;32mIn[38], line 32\u001b[0m, in \u001b[0;36mGenericProof\u001b[0;34m()\u001b[0m\n\u001b[1;32m     29\u001b[0m \u001b[38;5;28;01mdef\u001b[39;00m\u001b[38;5;250m \u001b[39m\u001b[38;5;21m__getitem__\u001b[39m(\u001b[38;5;28mself\u001b[39m, \u001b[38;5;241m*\u001b[39margs) \u001b[38;5;241m-\u001b[39m\u001b[38;5;241m>\u001b[39m kd\u001b[38;5;241m.\u001b[39mProof:\n\u001b[1;32m     30\u001b[0m     \u001b[38;5;28;01mreturn\u001b[39;00m \u001b[38;5;28mself\u001b[39m\u001b[38;5;241m.\u001b[39mdata[args]\n\u001b[0;32m---> 32\u001b[0m \u001b[38;5;28;01mdef\u001b[39;00m\u001b[38;5;250m \u001b[39m\u001b[38;5;21mget\u001b[39m(\u001b[38;5;28mself\u001b[39m, \u001b[38;5;241m*\u001b[39margs) \u001b[38;5;241m-\u001b[39m\u001b[38;5;241m>\u001b[39m \u001b[43mOptional\u001b[49m[kd\u001b[38;5;241m.\u001b[39mProof]:\n\u001b[1;32m     33\u001b[0m     \u001b[38;5;28;01mreturn\u001b[39;00m \u001b[38;5;28mself\u001b[39m\u001b[38;5;241m.\u001b[39mdata\u001b[38;5;241m.\u001b[39mget(args)\n\u001b[1;32m     35\u001b[0m \u001b[38;5;28;01mdef\u001b[39;00m\u001b[38;5;250m \u001b[39m\u001b[38;5;21mlemma\u001b[39m(\u001b[38;5;28mself\u001b[39m, \u001b[38;5;241m*\u001b[39margs, \u001b[38;5;241m*\u001b[39m\u001b[38;5;241m*\u001b[39mkwargs):\n",
      "\u001b[0;31mNameError\u001b[0m: name 'Optional' is not defined"
     ]
    }
   ],
   "source": [
    "class GenericProof:\n",
    "    \"\"\"\n",
    "    GenericProof is a dictionary of proofs indexed on meta (python) information.\n",
    "\n",
    "    Because z3 and hence knuckledragger does not have strong generic support inside its logic,\n",
    "    we can borrow a bit of python to parametrize theorems over other data or over sorts.\n",
    "\n",
    "    This has some of the flavor of single dispatch.\n",
    "\n",
    "    It is similar to an axiom schema is some respects (in usage it takes in python data and outputs a `kd.Proof`) except that one must register\n",
    "    the theorems as proven by other means.\n",
    "\n",
    "    It is a way to refer to a collection of similar proofs akin to single entry typeclasses or modules in other theorem proving systems.\n",
    "\n",
    "    >>> x = lambda T: smt.Const(\"x\", T)\n",
    "    >>> obvious = GenericProof(lambda T: smt.ForAll([x(T)], x(T) == x(T)) )\n",
    "    >>> obvious.lemma(smt.IntSort(), by=[])\n",
    "    >>> R = smt.RealSort()\n",
    "    >>> obvious.register(R, kd.lemma(smt.ForAll([x(R)], x(R) == x(R))))\n",
    "    \"\"\"\n",
    "\n",
    "    def __init__(self, f):\n",
    "        self.wrapped = f\n",
    "        self.data = {}\n",
    "\n",
    "    def __call__(self, *args) -> kd.Proof:\n",
    "        return self.data[args]\n",
    "\n",
    "    def __getitem__(self, *args) -> kd.Proof:\n",
    "        return self.data[args]\n",
    "\n",
    "    def get(self, *args) -> Optional[kd.Proof]:\n",
    "        return self.data.get(args)\n",
    "\n",
    "    def lemma(self, *args, **kwargs):\n",
    "        return self.register(*args, kd.kernel.lemma(self.wrapped(*args), **kwargs))\n",
    "\n",
    "    def register(self, *args):\n",
    "        args, pf = args[:-1], args[-1]\n",
    "        if not kd.kernel.is_proof(pf):\n",
    "            raise ValueError(\"Not a proof\", pf)\n",
    "        formula = self.wrapped(*args)\n",
    "        if not kd.utils.alpha_eq(formula, pf.thm):\n",
    "            raise ValueError(\"Proof does not match\", formula, pf)\n",
    "        self.data[args] = pf\n",
    "\n",
    "\n",
    "@GenericProof\n",
    "def assoc(f: smt.FuncDeclRef):\n",
    "    T = f.domain(0)\n",
    "    x, y, z = smt.Consts(\"x y z\", T)\n",
    "    return kd.QForAll([x, y, z], f(x, f(y, z)) == f(f(x, y), z))\n",
    "\n",
    "\n",
    "@GenericProof\n",
    "def comm(f: smt.FuncDeclRef):\n",
    "    T = f.domain(0)\n",
    "    x, y = smt.Consts(\"x y\", T)\n",
    "    return kd.QForAll([x, y], f(x, y) == f(y, x))\n",
    "\n",
    "\n",
    "@GenericProof\n",
    "def idem(f: smt.FuncDeclRef):\n",
    "    T = f.domain(0)\n",
    "    x = smt.Const(\"x\", T)\n",
    "    return kd.QForAll([x], f(x, x) == x)\n",
    "\n",
    "\n",
    "@GenericProof\n",
    "def runit(f: smt.FuncDeclRef, e: smt.ExprRef):\n",
    "    T = f.domain(0)\n",
    "    x = smt.Const(\"x\", T)\n",
    "    return kd.QForAll([x], f(x, e) == x)\n",
    "\n",
    "\n",
    "@GenericProof\n",
    "def inv(f: smt.FuncDeclRef, inv: smt.FuncDeclRef, e: smt.ExprRef):\n",
    "    T = f.domain(0)\n",
    "    x = smt.Const(\"x\", T)\n",
    "    return kd.QForAll([x], f(x, inv(x)) == e)\n",
    "\n",
    "\n",
    "@GenericProof\n",
    "def symm(R: smt.FuncDeclRef):\n",
    "    x, y = smt.Consts(\"x y\", R.domain(0))\n",
    "    return kd.QForAll([x, y], R(x, y) == R(y, x))\n",
    "\n",
    "\n",
    "@GenericProof\n",
    "def trans(R: smt.FuncDeclRef):\n",
    "    x, y, z = smt.Consts(\"x y z\", R.domain(0))\n",
    "    return kd.QForAll([x, y, z], R(x, y), R(y, z), R(x, z))"
   ]
  },
  {
   "cell_type": "markdown",
   "metadata": {},
   "source": [
    "# Bits and Bobbles\n",
    "\n",
    "I've also been professionaliziong the repo a bit. pyright and ruff now run. Kind of a fun whackamole. Given python is so chaotic, I really ought to be using all the tools I can get. The doctests are really nice and make for good documentation too.\n",
    "\n",
    "\n",
    "- How to get angr semantics. What meaning could they have?\n",
    "- need lemma search. Can introspect to grab all Proof in module. Do pmatch over them\n",
    "- LLM integration\n",
    "- hypothesis integration. Super useful. I hope to derive a nitpick from this + `eval_`. Useful for testing axioms against reality also. Good for my general infrastuructre\n",
    "- careful proof reconstruction instead of slamm z3\n",
    "- monad support. Is it really needed? Single shot Algebraic effects using generators\n",
    "- partiality. Relational vs option vs undefined style.\n",
    "- Talking to and from \n",
    "- floats. I really want floats to work.\n",
    "- a cbv and cbn tactic might be nice. More controlled."
   ]
  }
 ],
 "metadata": {
  "kernelspec": {
   "display_name": ".venv",
   "language": "python",
   "name": "python3"
  },
  "language_info": {
   "codemirror_mode": {
    "name": "ipython",
    "version": 3
   },
   "file_extension": ".py",
   "mimetype": "text/x-python",
   "name": "python",
   "nbconvert_exporter": "python",
   "pygments_lexer": "ipython3",
   "version": "3.12.3"
  }
 },
 "nbformat": 4,
 "nbformat_minor": 2
}
