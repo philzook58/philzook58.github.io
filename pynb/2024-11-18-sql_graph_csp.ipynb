{
 "cells": [
  {
   "cell_type": "markdown",
   "metadata": {},
   "source": [
    "---\n",
    "date: 2024-11-13\n",
    "title: \"SQL, Homomorphisms and Constraint Satisfaction Problems\"\n",
    "---\n",
    "\n",
    "Database queries are a pretty surprisingly powerful tool that can solve seemingly intractable problems.\n",
    "\n",
    "It is a fun coding challenge to do things in SQL. I've seen people solve sudokus or do [advent of code](https://github.com/mitchellh/advent-2021-sql), or you can build a datalog on SQL with a little metaprogramming (maybe even fully internally). It is also possible to build a CHR (constraint handling rules) system on SQL or a graph rewriting system on SQL. Here I talk about how one can use SQL queries to do graph instruction matching https://www.philipzucker.com/imatch-datalog/ .\n",
    "\n",
    "SQL is a feature rich language, it is not surprising that you can do these things from that perspective, using this and that odd feature.\n",
    "\n",
    "The core of SQL is basically \"SELECT FROM WHERE\" statements. These statements can be idealized in a couple different ways.\n",
    "They are basically conjunctive queries https://en.wikipedia.org/wiki/Conjunctive_query#Relationship_to_other_query_languages . Each table is a logical predicate, each variable is bound to a row of a column. The SELECT fields are bits that aren't being existentially bound and therefore hidden, aka free variables.\n",
    "\n",
    "$\\exists y. edge(x,y) \\land path(y,z)$ is the predicate form of the query ```SELECT edge.a, path.b from edge, path WHERE edge.b = path.a```. There is a little bit of rearrangement from the entry centric view of predicates to the row centric view of SQL. I amc not aware of a way to easily give a name to a particular entry in sql. I used this correspondence to describe how to either build a datalog engine on sql, or hand compile your datalog rules to sql https://www.philipzucker.com/tiny-sqlite-datalog/ . \n",
    "\n",
    "From a more imperative perspective, SELECT-FROM-WHERE statements are basically for loops. SQL is an odd language in that the FROM comes after the SELECT. This puts a row variables binding site after its binding point.\n",
    "\n",
    "| SQL               | Python |\n",
    "| `FROM mytable as row_a` | `for row_a in mytable:` |\n",
    "| `WHERE row_a.col1 = rowa.col2` | `if row_a.col1 == row_a.col2:` |\n",
    "| `SELECT row_a.col1, row_a.col2` | `yield row_a.col1, row_a.col2` |\n",
    "\n",
    "A thing SQL engines do is that they rearrange and optimize these loops and refactor them into joins and other things. Python for loops however execute just like you say it (slowly).\n",
    "\n",
    "Search problems can be solved by brute force loops. Enumerate all possibilities and take the ones that work.\n",
    "\n",
    "So in this manner SQL is a constraint solver.\n",
    "\n",
    "An example constraint satisfaction puzzle is the send more money puzzle https://en.wikipedia.org/wiki/Verbal_arithmetic in which we need to find digist such that `SEND + MORE = MONEY`.\n",
    "A pure python version of the send more money puzzle is"
   ]
  },
  {
   "cell_type": "code",
   "execution_count": null,
   "metadata": {},
   "outputs": [],
   "source": [
    "def solve_send_money():\n",
    "    for s in range(1, 10):  # S must be non-zero\n",
    "        for e in range(10):\n",
    "            if e == s:\n",
    "                continue\n",
    "            for n in range(10):\n",
    "                if n in (s, e):\n",
    "                    continue\n",
    "                for d in range(10):\n",
    "                    if d in (s, e, n):\n",
    "                        continue\n",
    "                    for m in range(1, 10):  # M must be non-zero\n",
    "                        if m in (s, e, n, d):\n",
    "                            continue\n",
    "                        for o in range(10):\n",
    "                            if o in (s, e, n, d, m):\n",
    "                                continue\n",
    "                            for r in range(10):\n",
    "                                if r in (s, e, n, d, m, o):\n",
    "                                    continue\n",
    "                                for y in range(10):\n",
    "                                    if y in (s, e, n, d, m, o, r):\n",
    "                                        continue\n",
    "                                    # Convert SEND, MORE, and MONEY to integers\n",
    "                                    send = 1000 * s + 100 * e + 10 * n + d\n",
    "                                    more = 1000 * m + 100 * o + 10 * r + e\n",
    "                                    money = 10000 * m + 1000 * o + 100 * n + 10 * e + y\n",
    "                                    \n",
    "                                    if send + more == money:\n",
    "                                        return (s,e,n,d,m,o,r,e,m,o,n,e,y), send, more, money\n"
   ]
  },
  {
   "cell_type": "code",
   "execution_count": 7,
   "metadata": {},
   "outputs": [
    {
     "name": "stdout",
     "output_type": "stream",
     "text": [
      "762 ms ± 35 ms per loop (mean ± std. dev. of 7 runs, 1 loop each)\n"
     ]
    }
   ],
   "source": [
    "%%timeit \n",
    "solve_send_money()"
   ]
  },
  {
   "cell_type": "markdown",
   "metadata": {},
   "source": [
    "We can write the same thing in SQL and execute using duckdb or sqlite. Duckdb is a bit faster and is faster than the pure python version."
   ]
  },
  {
   "cell_type": "code",
   "execution_count": 61,
   "metadata": {},
   "outputs": [
    {
     "data": {
      "text/plain": [
       "[(9, 5, 6, 7, 1, 0, 8, 2)]"
      ]
     },
     "execution_count": 61,
     "metadata": {},
     "output_type": "execute_result"
    }
   ],
   "source": [
    "import sqlite3\n",
    "import duckdb\n",
    "query = \"\"\"\n",
    "WITH RECURSIVE digits(digit) AS (\n",
    "    SELECT 0\n",
    "    UNION ALL\n",
    "    SELECT digit + 1\n",
    "    FROM digits\n",
    "    WHERE digit < 9\n",
    ")\n",
    "SELECT s.digit AS S, e.digit AS E, n.digit AS N, d.digit AS D,\n",
    "       m.digit AS M, o.digit AS O, r.digit AS R, y.digit AS Y\n",
    "FROM digits s, digits e, digits n, digits d, digits m, digits o, digits r, digits y\n",
    "WHERE s.digit <> e.digit AND s.digit <> n.digit AND s.digit <> d.digit AND s.digit <> m.digit AND\n",
    "      s.digit <> o.digit AND s.digit <> r.digit AND s.digit <> y.digit AND\n",
    "      e.digit <> n.digit AND e.digit <> d.digit AND e.digit <> m.digit AND\n",
    "      e.digit <> o.digit AND e.digit <> r.digit AND e.digit <> y.digit AND\n",
    "      n.digit <> d.digit AND n.digit <> m.digit AND n.digit <> o.digit AND\n",
    "      n.digit <> r.digit AND n.digit <> y.digit AND\n",
    "      d.digit <> m.digit AND d.digit <> o.digit AND d.digit <> r.digit AND\n",
    "      d.digit <> y.digit AND\n",
    "      m.digit <> o.digit AND m.digit <> r.digit AND m.digit <> y.digit AND\n",
    "      o.digit <> r.digit AND o.digit <> y.digit AND\n",
    "      r.digit <> y.digit AND\n",
    "      s.digit <> 0 AND m.digit <> 0 AND\n",
    "      (1000 * s.digit + 100 * e.digit + 10 * n.digit + d.digit) +\n",
    "      (1000 * m.digit + 100 * o.digit + 10 * r.digit + e.digit) =\n",
    "      (10000 * m.digit + 1000 * o.digit + 100 * n.digit + 10 * e.digit + y.digit);\n",
    "\"\"\"\n",
    "conn = sqlite3.connect(\":memory:\")\n",
    "conn.execute(query).fetchall()\n"
   ]
  },
  {
   "cell_type": "code",
   "execution_count": 65,
   "metadata": {},
   "outputs": [
    {
     "name": "stdout",
     "output_type": "stream",
     "text": [
      "969 ms ± 74.5 ms per loop (mean ± std. dev. of 7 runs, 1 loop each)\n"
     ]
    }
   ],
   "source": [
    "%%timeit\n",
    "conn = sqlite3.connect(\":memory:\")\n",
    "conn.execute(query).fetchone()"
   ]
  },
  {
   "cell_type": "code",
   "execution_count": 67,
   "metadata": {},
   "outputs": [
    {
     "name": "stdout",
     "output_type": "stream",
     "text": [
      "240 ms ± 16.7 ms per loop (mean ± std. dev. of 7 runs, 1 loop each)\n"
     ]
    }
   ],
   "source": [
    "%%timeit\n",
    "conn = duckdb.connect() # not really a noticeable part of benchmark\n",
    "conn.execute(query).fetchone()"
   ]
  },
  {
   "cell_type": "markdown",
   "metadata": {},
   "source": [
    "This does raise the question of comparing to a C version. Quite a bit faster indeed."
   ]
  },
  {
   "cell_type": "code",
   "execution_count": null,
   "metadata": {},
   "outputs": [
    {
     "name": "stdout",
     "output_type": "stream",
     "text": [
      "Overwriting /tmp/money.c\n"
     ]
    }
   ],
   "source": [
    "%%file /tmp/money.c\n",
    "#include <stdio.h>\n",
    "#include <time.h>\n",
    "int main() {\n",
    "    clock_t start_time = clock();\n",
    "    //int niter = 0; Adding this slows clang down quite a bit\n",
    "    for (int s = 1; s < 10; s++) { // S must be non-zero\n",
    "        for (int e = 0; e < 10; e++) {\n",
    "            if (e == s) continue;\n",
    "            for (int n = 0; n < 10; n++) {\n",
    "                if (n == s || n == e) continue;\n",
    "                for (int d = 0; d < 10; d++) {\n",
    "                    if (d == s || d == e || d == n) continue;\n",
    "                    for (int m = 1; m < 10; m++) { // M must be non-zero\n",
    "                        if (m == s || m == e || m == n || m == d) continue;\n",
    "                        for (int o = 0; o < 10; o++) {\n",
    "                            if (o == s || o == e || o == n || o == d || o == m) continue;\n",
    "                            for (int r = 0; r < 10; r++) {\n",
    "                                if (r == s || r == e || r == n || r == d || r == m || r == o) continue;\n",
    "                                for (int y = 0; y < 10; y++) {\n",
    "                                    if (y == s || y == e || y == n || y == d || y == m || y == o || y == r) continue;\n",
    "\n",
    "                                    // Calculate SEND, MORE, and MONEY\n",
    "                                    int send = 1000 * s + 100 * e + 10 * n + d;\n",
    "                                    int more = 1000 * m + 100 * o + 10 * r + e;\n",
    "                                    int money = 10000 * m + 1000 * o + 100 * n + 10 * e + y;\n",
    "                                    //niter++;\n",
    "\n",
    "                                    if (send + more == money) {\n",
    "                                        clock_t end_time = clock();\n",
    "                                        double time_taken = ((double)(end_time - start_time)) / CLOCKS_PER_SEC;\n",
    "                                        printf(\"Time taken by loops: %.6f seconds\\n\", time_taken);\n",
    "                                        printf(\"SEND = %d, MORE = %d, MONEY = %d\\n\", send, more, money);\n",
    "                                        //printf(\"Tests: %d\\n\", niter);\n",
    "                                        return 0;\n",
    "                                    }\n",
    "                                }\n",
    "                            }\n",
    "                        }\n",
    "                    }\n",
    "                }\n",
    "            }\n",
    "        }\n",
    "    }\n",
    "    return 1;\n",
    "}"
   ]
  },
  {
   "cell_type": "code",
   "execution_count": 84,
   "metadata": {},
   "outputs": [
    {
     "name": "stdout",
     "output_type": "stream",
     "text": [
      "Time taken by loops: 0.003991 seconds\n",
      "SEND = 9567, MORE = 1085, MONEY = 10652\n"
     ]
    }
   ],
   "source": [
    "! clang -O3 -march=native -o /tmp/money /tmp/money.c && /tmp/money"
   ]
  },
  {
   "cell_type": "code",
   "execution_count": 85,
   "metadata": {},
   "outputs": [
    {
     "name": "stdout",
     "output_type": "stream",
     "text": [
      "Time taken by loops: 0.019185 seconds\n",
      "SEND = 9567, MORE = 1085, MONEY = 10652\n"
     ]
    }
   ],
   "source": [
    "! gcc -O3 -march=native -o /tmp/money /tmp/money.c && /tmp/money"
   ]
  },
  {
   "cell_type": "markdown",
   "metadata": {},
   "source": [
    "Hmm. My system clang vs gcc is another 5x? That's kind of surprising. I have a new clang (20) and an old gcc 11.4. Maybe that's enough. The thing also that it may be rearranging the loops? If I try to add a counter, clang slows down to about gcc. Very interesting."
   ]
  },
  {
   "cell_type": "markdown",
   "metadata": {},
   "source": [
    "# Relation and Graph Homomorphisms\n",
    "\n",
    "There is another perspective on what SQL is doing. It is finding a mapping (a homomorphism) between the query and the database.\n",
    "\n",
    "We have intuition about databases that comes from typically thinking about small queries (< 100 tables reference in FROM statements) and big databases (millions, billions or more of rows).\n",
    "\n",
    "The running time of naive nested loops is exponential in the number of loops. Considered as a function of the size the of query, database queries are quite computationally expensive.\n",
    "\n",
    "I have heard that I should be scared of subgraph matching or graph isomorphism because they are NP ish. But in many common cases, the size of the patterns is pretty small, and the size of the database is pretty big. So the problem is not that hard.\n",
    "\n",
    "Graphs can be easily mapped into database tables as an edge table with two columns.\n",
    "\n",
    "Here for example I can turn a networkx graph into a sqlite table"
   ]
  },
  {
   "cell_type": "code",
   "execution_count": 87,
   "metadata": {},
   "outputs": [],
   "source": [
    "import sqlite3\n",
    "import networkx as nx\n",
    "def db_of_graph(conn, G):\n",
    "    con.executemany(\"INSERT INTO nodes VALUES (?)\", map(lambda v : (v,),  G.nodes))\n",
    "    con.executemany(\"INSERT INTO edges VALUES (?, ?)\", G.edges)\n",
    "    if not G.is_directed():\n",
    "        con.executemany(\"INSERT INTO edges VALUES (?, ?)\", [(j,i) for i,j in G.edges])"
   ]
  },
  {
   "cell_type": "markdown",
   "metadata": {},
   "source": [
    "And conversely export the edge table back out into a networkx graph."
   ]
  },
  {
   "cell_type": "code",
   "execution_count": 88,
   "metadata": {},
   "outputs": [],
   "source": [
    "def graph_of_db(con):\n",
    "    G = nx.DiGraph()\n",
    "    res = con.execute(\"SELECT * FROM nodes\")\n",
    "    G.add_nodes_from(map(lambda x: x[0], res.fetchall()))\n",
    "    res = con.execute(\"SELECT * FROM edges\")\n",
    "    G.add_edges_from(res.fetchall())\n",
    "    return G"
   ]
  },
  {
   "cell_type": "markdown",
   "metadata": {},
   "source": [
    "\n",
    "The form of these simple `FROM-SELECT-WHERE` queries (conjuctive queries) is remarkably similar to a database itself.\n",
    "In the Alice book http://webdam.inria.fr/Alice/ , I've seen this referred to as\n"
   ]
  },
  {
   "cell_type": "code",
   "execution_count": 91,
   "metadata": {},
   "outputs": [
    {
     "data": {
      "text/plain": [
       "<sqlite3.Cursor at 0x7b99507714c0>"
      ]
     },
     "execution_count": 91,
     "metadata": {},
     "output_type": "execute_result"
    }
   ],
   "source": [
    "def query_of_graph(G,unique=False):\n",
    "    \"\"\"Unique will give subgraph isomorphism\"\"\"\n",
    "    selects = []\n",
    "    froms = []\n",
    "    wheres = []\n",
    "    for node in G:\n",
    "        froms += [f\"nodes AS v{node}\"]\n",
    "        selects += [f\"v{node}.v AS v{node}\"]\n",
    "    for i, (a,b) in enumerate(G.edges):\n",
    "        froms += [f\"edges as e{i}\"]\n",
    "        wheres += [f\"e{i}.src = v{a}.v\"  , f\"e{i}.dst = v{b}.v\"]\n",
    "    if unique:\n",
    "        for node in G:\n",
    "            for node2 in G:\n",
    "                if node != node2:\n",
    "                    wheres += [f\"v{node} != v{node2}\"]\n",
    "    sql = \"SELECT \" + \", \".join(selects) + \\\n",
    "          \"\\nFROM \" +  \", \".join(froms) + \\\n",
    "          \"\\nWHERE \" + \" AND \".join(wheres)\n",
    "    return sql\n",
    "def clear_db(con):\n",
    "    con.execute(\"DELETE FROM nodes\")\n",
    "    con.execute(\"DELETE FROM edges\")\n",
    "con = sqlite3.connect(\":memory:\")\n",
    "con.execute(\"CREATE TABLE nodes(v)\")\n",
    "con.execute(\"CREATE TABLE edges(src,dst)\")"
   ]
  },
  {
   "cell_type": "markdown",
   "metadata": {},
   "source": [
    "We can make a graph and insert the appropriate edge table into the database."
   ]
  },
  {
   "cell_type": "code",
   "execution_count": 93,
   "metadata": {},
   "outputs": [
    {
     "data": {
      "image/png": "[encoded data removed]",
      "text/plain": [
       "<Figure size 640x480 with 1 Axes>"
      ]
     },
     "metadata": {},
     "output_type": "display_data"
    }
   ],
   "source": [
    "G = nx.path_graph(7, create_using=nx.DiGraph)\n",
    "nx.draw(G, with_labels=True)"
   ]
  },
  {
   "cell_type": "code",
   "execution_count": 94,
   "metadata": {},
   "outputs": [
    {
     "data": {
      "text/plain": [
       "[(0, 1), (1, 2), (2, 3), (3, 4), (4, 5), (5, 6)]"
      ]
     },
     "execution_count": 94,
     "metadata": {},
     "output_type": "execute_result"
    }
   ],
   "source": [
    "db_of_graph(con, G)\n",
    "con.execute(\"SELECT * from edges\").fetchall()"
   ]
  },
  {
   "cell_type": "markdown",
   "metadata": {},
   "source": [
    "We can seek out the smaller pattern graph from the larger graph"
   ]
  },
  {
   "cell_type": "code",
   "execution_count": 95,
   "metadata": {},
   "outputs": [
    {
     "data": {
      "image/png": "[encoded data removed]",
      "text/plain": [
       "<Figure size 640x480 with 1 Axes>"
      ]
     },
     "metadata": {},
     "output_type": "display_data"
    }
   ],
   "source": [
    "lhs = nx.path_graph(3, create_using=nx.DiGraph)\n",
    "nx.draw(lhs, with_labels=True)"
   ]
  },
  {
   "cell_type": "code",
   "execution_count": 97,
   "metadata": {},
   "outputs": [
    {
     "name": "stdout",
     "output_type": "stream",
     "text": [
      "SELECT v0.v AS v0, v1.v AS v1, v2.v AS v2\n",
      "FROM nodes AS v0, nodes AS v1, nodes AS v2, edges as e0, edges as e1\n",
      "WHERE e0.src = v0.v AND e0.dst = v1.v AND e1.src = v1.v AND e1.dst = v2.v\n"
     ]
    }
   ],
   "source": [
    "print(query_of_graph(lhs))"
   ]
  },
  {
   "cell_type": "code",
   "execution_count": null,
   "metadata": {},
   "outputs": [
    {
     "data": {
      "text/plain": [
       "[(0, 1, 2), (1, 2, 3), (2, 3, 4), (3, 4, 5), (4, 5, 6)]"
      ]
     },
     "execution_count": 98,
     "metadata": {},
     "output_type": "execute_result"
    }
   ],
   "source": [
    "con.execute(query_of_graph(lhs)).fetchall()"
   ]
  },
  {
   "cell_type": "markdown",
   "metadata": {},
   "source": [
    "We can also find all homomorphisms of the graph into itself, of which there is only one for the directed graph."
   ]
  },
  {
   "cell_type": "code",
   "execution_count": 100,
   "metadata": {},
   "outputs": [
    {
     "data": {
      "text/plain": [
       "[(0, 1, 2, 3, 4, 5, 6)]"
      ]
     },
     "execution_count": 100,
     "metadata": {},
     "output_type": "execute_result"
    }
   ],
   "source": [
    "con.execute(query_of_graph(G)).fetchall()"
   ]
  },
  {
   "cell_type": "markdown",
   "metadata": {},
   "source": [
    "For the undirected graph, there are more homomorphisms. "
   ]
  },
  {
   "cell_type": "code",
   "execution_count": 102,
   "metadata": {},
   "outputs": [
    {
     "data": {
      "text/plain": [
       "[(1, 0, 1, 0),\n",
       " (1, 0, 1, 2),\n",
       " (0, 1, 0, 1),\n",
       " (0, 1, 2, 1),\n",
       " (0, 1, 2, 3),\n",
       " (2, 1, 0, 1),\n",
       " (2, 1, 2, 1),\n",
       " (2, 1, 2, 3),\n",
       " (1, 2, 1, 0),\n",
       " (1, 2, 1, 2),\n",
       " (1, 2, 3, 2),\n",
       " (3, 2, 1, 0),\n",
       " (3, 2, 1, 2),\n",
       " (3, 2, 3, 2),\n",
       " (2, 3, 2, 1),\n",
       " (2, 3, 2, 3)]"
      ]
     },
     "execution_count": 102,
     "metadata": {},
     "output_type": "execute_result"
    }
   ],
   "source": [
    "clear_db(con)\n",
    "G = nx.path_graph(4) # undirected\n",
    "db_of_graph(con, G)\n",
    "res = con.execute(query_of_graph(G))\n",
    "res.fetchall()\n"
   ]
  },
  {
   "cell_type": "markdown",
   "metadata": {},
   "source": [
    "A homomorphism into yourself is not an isomorphism. You need a uniqueness constraint also for that, which can easily be expressed in SQL. The undirected path graph has 2 automorphisms, the identity and the reversal."
   ]
  },
  {
   "cell_type": "code",
   "execution_count": 104,
   "metadata": {},
   "outputs": [
    {
     "data": {
      "text/plain": [
       "[(0, 1, 2, 3), (3, 2, 1, 0)]"
      ]
     },
     "execution_count": 104,
     "metadata": {},
     "output_type": "execute_result"
    }
   ],
   "source": [
    "res = con.execute(query_of_graph(G,unique=True))\n",
    "res.fetchall()"
   ]
  },
  {
   "cell_type": "markdown",
   "metadata": {},
   "source": [
    "We can also implement a coloring as an homomorphism into the fully connected graph, representing the colors and allowed edges between colors."
   ]
  },
  {
   "cell_type": "code",
   "execution_count": null,
   "metadata": {},
   "outputs": [
    {
     "name": "stdout",
     "output_type": "stream",
     "text": [
      "[(0, 1), (1, 0)]\n"
     ]
    }
   ],
   "source": [
    "clear_db(con)\n",
    "colors = nx.complete_graph(2) # a two coloring graph\n",
    "db_of_graph(con,colors)\n",
    "res = con.execute(\"SELECT * FROM edges\")\n",
    "res = print(res.fetchall())"
   ]
  },
  {
   "cell_type": "code",
   "execution_count": 108,
   "metadata": {},
   "outputs": [
    {
     "name": "stdout",
     "output_type": "stream",
     "text": [
      "[(1, 0, 1, 0), (0, 1, 0, 1)]\n"
     ]
    }
   ],
   "source": [
    "res = con.execute(query_of_graph(G)) # two dimer colorings\n",
    "print(res.fetchall())"
   ]
  },
  {
   "cell_type": "markdown",
   "metadata": {},
   "source": [
    "# Bits and Bobbles\n",
    "https://dl.acm.org/doi/pdf/10.1145/335168.335209 Constraint Satisfaction and Database Theory: a Tutorial Moshe Y. Vardi\n",
    "\n",
    "https://users.soe.ucsc.edu/~kolaitis/talks/csp-oxford.pdf  Constraint Satisfaction and Logic Phokion G. Kolaitis\n",
    "\n",
    "https://berkeley-cs294-248.github.io/  CS294-248: Topics in Database Theory\n",
    "\n",
    "Alice book http://webdam.inria.fr/Alice/ Foundations of Databases\n",
    "\n",
    "https://www.youtube.com/watch?v=mykR7mP5Zdk&t=269s&ab_channel=SimonsInstitute  Logic and Databases Phokion Kolaitis\n",
    "\n",
    "Query containment. Since you can make a sql query to find homomorphisms, you can check query containment as a sql query itself. Isn't that fun?\n",
    "\n",
    "The symbolic database as a herbrand model.\n",
    "\n",
    "Gra\n",
    "\n",
    "I've never seriously used a graph database, but I kind of can't see the appeal for this reason. I find pretty often modelling domains as graphs to not actually map that well because I want a notion of ordering.\n",
    "\n",
    "I really had this one rotting in my draft backlog for a long time. Good to just dump stuff out.\n",
    "\n",
    "# SQL model check\n",
    "SQL is a model checker for first order logic. SQL + something like NOT and EXISTS statements can express any first order logic statement.\n",
    "\n",
    "Model checking has a connotation of being about temporal logic, or software system checking. But the term itself is talking about literally checking a model satisfies a formula `M |= t`. Model checking is a general concept that can be applied to any logic with a notion of smenantics.\n",
    "\n",
    "Model checking is also kind of saying there is a kind of homomorphism between the syntax and semantics.\n",
    "\n",
    "This is also a confusion that we have in talking about the \"complexity\" of a logic. The ocmplexity depends on which question we are asking. Are me asking satisfiability or model checking? Satisfiiability is also aasking about the `M |= t` models question, but it is of the form `formula -> option model` rather than the form `model -> formula -> bool`. The moding of the question is different.\n",
    "\n",
    "When people talk about SAT being NP, they are talking about the satisfiability problem.\n",
    "When they talk about existential second order logic being NP, they are talking about the model checking problem https://en.wikipedia.org/wiki/Fagin%27s_theorem https://en.wikipedia.org/wiki/Descriptive_complexity_theory\n",
    "\n",
    "When people talk about datalog being PSPACE co\n"
   ]
  },
  {
   "cell_type": "markdown",
   "metadata": {},
   "source": [
    "\n",
    "\n",
    "\n",
    "Tree decomposition for dynamic programming\n",
    "\n",
    "\n",
    "## CSP\n",
    "\n",
    "\n",
    "SQL queries are enumerating homomorphisms between the query and the database. This perspective puts the query and the database on smilar footing, which feels odd.\n",
    "\n",
    "As a subcase of this capability, if the database is holding an edge table and attributes, then a query is a graph homomorphism solver.\n",
    "If we dymmetrically place two graphs into the database and in a query, we can enumerate isomoprhisms. Isn't that fun?\n",
    "\n",
    "Another perspective is that the query is a formula, and the database is a model of the formula.\n",
    "\n",
    "We are used to small queries and large databases, but this is not a definition\n",
    "\n",
    "A perspective on what a constraint satisfaction problem is is that is is a homomorphism problem.\n",
    "For example, graph coloring is a homomorphism from a graph to a complete graph of colors (with no self edges).\n",
    "\n",
    "Constraint satisfaction is an assignment to variables values frm their domain subject to constraints. The particular connectivty of a problem can be represented by a hypergraph. The target structure represents the domains the variables can take on, and the constraint hyperedges map to a relation representing the constraint.\n",
    "A class of CSP problems is allowing the connecvtivity graph to vary, while keeping the target (the types of constraints fixed). Is this a useful characterization? Eh. It's interesting that it ties into other mathemtical topicas.\n",
    "\n",
    "The naive solution of a constraint satsifaction problem is to just make a big sequence of loops, pruning / breaking with checks that constraint are satisifed. We want to push the checks as high as possible.\n",
    "This a a very static perspective.\n",
    "More dynammically, we want to pick the variable ordering inside the choice branches. This is more of a backtracking feel. We do proppagation to disallow subchoices\n",
    "\n",
    "A problem that is easy to embed into database queries is graph homomomorphism. Queries and databases feel very different, but they are more symettric than you might think.\n",
    "\n",
    "In typical usage, queries are small and databases are large.\n",
    "A graph coloring problem can be mdelled as fnding a graph homomorphism into a complete graph. This flips the intuition on it's head with a large query and small database. Examples like these are better served probably by a constraint satisfaction solver or SAT style techniques.\n",
    "\n",
    "The middle ground of roughly equal graphs is a graph isomorphism problem. Custom solvers like nauty exist for this case too.\n",
    "\n",
    "```python\n",
    "import sqlite3\n",
    "import networkx as nx\n",
    "def db_of_graph(conn, G):\n",
    "    con.executemany(\"INSERT INTO nodes VALUES (?)\", map(lambda v : (v,),  G.nodes))\n",
    "    con.executemany(\"INSERT INTO edges VALUES (?, ?)\", G.edges)\n",
    "def graph_of_db(con):\n",
    "    G = nx.DiGraph()\n",
    "    res = con.execute(\"SELECT * FROM nodes\")\n",
    "    G.add_nodes_from(map(lambda x: x[0], res.fetchall()))\n",
    "    res = con.execute(\"SELECT * FROM edges\")\n",
    "    G.add_edges_from(res.fetchall())\n",
    "    return G\n",
    "def query_of_graph(G):\n",
    "    selects = []\n",
    "    froms = []\n",
    "    wheres = []\n",
    "    for node in G:\n",
    "        froms += [f\"nodes AS v{node}\"]\n",
    "        selects += [f\"v{node}.v AS v{node}\"]\n",
    "    for i, (a,b) in enumerate(G.edges):\n",
    "        froms += [f\"edges as e{i}\"]\n",
    "        wheres += [f\"e{i}.src = v{a}.v\"  , f\"e{i}.dst = v{b}.v\"]\n",
    "    sql = \"SELECT \" + \", \".join(selects) + \\\n",
    "          \"\\nFROM \" +  \", \".join(froms) + \\\n",
    "          \"\\nWHERE \" + \" AND \".join(wheres)\n",
    "    return sql\n",
    "G = nx.path_graph(7, create_using=nx.DiGraph)\n",
    "lhs = nx.path_graph(3, create_using=nx.DiGraph)\n",
    "con = sqlite3.connect(\":memory:\")\n",
    "\n",
    "con.execute(\"CREATE TABLE nodes(v)\")\n",
    "con.execute(\"CREATE TABLE edges(src,dst)\")\n",
    "db_of_graph(con, G)\n",
    "res = con.execute(query_of_graph(lhs))\n",
    "print(res.fetchall())\n",
    "# Result: [(0, 1, 2), (1, 2, 3), (2, 3, 4), (3, 4, 5), (4, 5, 6)]\n",
    "\n",
    "print(graph_of_db(con))\n",
    "\"DELETE FROM nodes WHERE nodes.v = ?\"\n",
    "\"DELETE FROM edges where edges.src = ? OR edges.dst = ?\"\n",
    "\n",
    "con.execute(\"DELETE FROM nodes\")\n",
    "con.execute(\"DELETE FROM edges\")\n",
    "colors = nx.complete_graph(2) # a two coloring\n",
    "db_of_graph(con,colors)\n",
    "# symmetrize. Maybe db_of_graph should do this. if not isinstanc(G,nx.DiGraph)\n",
    "con.execute(\"INSERT INTO edges SELECT edges.dst, edges.src FROM edges\")\n",
    "\n",
    "res = con.execute(\"SELECT * FROM edges\")\n",
    "res = print(res.fetchall())\n",
    "res = con.execute(query_of_graph(G))\n",
    "print(res.fetchall())\n",
    "# [(1, 0, 1, 0, 1, 0, 1), (0, 1, 0, 1, 0, 1, 0)]\n",
    "```\n",
    "\n",
    "Graph coloring can be solved through dynamic programming. If we cut up a graph, we only need to know if it can be colored with particular choices at interfaces. Choosing interfaces like this is a graph partitioning problem, but also is a tree decomposition.\n",
    "\n",
    "One of the things that I found appealing about category theory is that it presents a design methodology to convert things that look graph-like like string diagrams into term-like expresssions of combinators.\n",
    "\n",
    "Hmm. python-metis is not a thing anymore? Just pip install metis, it works with networkx anyway\n",
    "\n",
    "```python\n",
    "import metis\n",
    "\n",
    "import networkx as nx\n",
    "G = nx.path_graph(7)\n",
    "edgecuts, parts = metis.part_graph(G,3)\n",
    "print(edgecuts, parts)\n",
    "\n",
    "print(nx.community.kernighan_lin_bisection(G)) # anneal a cut by node swapping\n",
    "print(list(nx.community.girvan_newman(G))) # remove edges from graph\n",
    "```\n",
    "\n",
    "Recursively partition to build query plan (?)\n",
    "\n",
    "You can build a query plan using these graph partitioners\n",
    "but also query planners can be used to find partitions / tree decompositions.\n",
    "\n",
    "There are also custom solvers for this.\n",
    "\n",
    "graph datastructure\n",
    "\n",
    "`[(v1,v2)]`\n",
    "\n",
    "```\n",
    "Node(outs,ins)\n",
    "= [(outs,ins)]\n",
    "out, inner , in\n",
    "\n",
    "```\n",
    "\n",
    "dynamic tree decomposition\n",
    "hyprgraph data structure\n",
    "\n",
    "```python\n",
    "g1 = {(1,2), (2,3)}  # graph as set of (directed) edges\n",
    "g2 = {{1,2}, {2,3}} #graph as sets of undirected edges\n",
    "\n",
    "# ((multi)graph as map from named edges to src target vertices.\n",
    "src = {\"e1\" : 1}\n",
    "dst = {\"e1\" : 2}\n",
    "\n",
    "{\"e1\": (1,2)}\n",
    "\n",
    "# hypergraph as named edges\n",
    "{\"e1\": {1,2,3}, \"e2\": {2,3,4}}\n",
    "\n",
    "g = {{1,2,3}, {2,3,4}} # set of sets of vertices as hypergraph\n",
    "\n",
    "#partition tree representation\n",
    "g = ( [edges_between] , g1, g2  )\n",
    "\n",
    "# rebalancing\n",
    "```\n"
   ]
  }
 ],
 "metadata": {
  "kernelspec": {
   "display_name": "Python 3",
   "language": "python",
   "name": "python3"
  },
  "language_info": {
   "codemirror_mode": {
    "name": "ipython",
    "version": 3
   },
   "file_extension": ".py",
   "mimetype": "text/x-python",
   "name": "python",
   "nbconvert_exporter": "python",
   "pygments_lexer": "ipython3",
   "version": "3.10.12"
  }
 },
 "nbformat": 4,
 "nbformat_minor": 2
}
