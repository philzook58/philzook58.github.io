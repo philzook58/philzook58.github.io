{
 "cells": [
  {
   "cell_type": "markdown",
   "metadata": {},
   "source": [
    "---\n",
    "title: \"'Lean-style' Tactics in Knuckledragger\"\n",
    "date: 2024-12-16\n",
    "---\n",
    "\n",
    "I've continued tinkering with Knuckledragger, my Z3 powered python proof assistant.\n",
    "\n",
    "Knuckledragger is an [LCF style](https://www.cl.cam.ac.uk/~jrh13/slides/manchester-12sep01/slides.pdf) proof system in that it distinguishes between a `Proof` and `BoolExpr` datatype and the way to build `Proof` datatypes ultimately only occurs inside a smaller trusted kernel. It is easy if you don't think about such things to kind of conflate a theorem with its formula, since they may look kind of the same in a textbook and a theorem has an associated formula. A theorem can be thought of as it's proof tree so it actually has quite a bit more structure than just the formula.\n",
    "\n",
    "It is also a [Hilbert style](https://en.wikipedia.org/wiki/Hilbert_system) calculus in the sense that it is a fairly powerful single inference rule with orbiting axioms schemas. The distinction between an axiom schema and an inference rule isn't really that big. An inference rule is something like a function of signature `[Proof] -> Proof` whereas a schema is a theorem parametrized on some non-proof data, for example `[BoolExpr] -> Proof` or `Nat -> Proof`. This is not the only possible computery manifestation of these concepts. For example, in principle an axiom schema could be a generator of `Proof`, although not being able to request the one you want would be extremely inefficient.\n",
    "\n",
    "An emergent design decision has been to base everything around the Z3py AST and it's bindings. It has worked pretty well. The logic z3 implements is fairly uncontroversial and the bindings are very feature rich and good, even when you aren't using the SMT capabilities persay.\n",
    "\n",
    "Maybe Knuckledragger is more interesting to some as just a python logical toolkit for the z3 ast. You don't have to use these fun things for ITP. I'm quite excited to build some slow resolution, superposition, tableau, etc ATPs on the Z3 AST using these bits.\n",
    "\n",
    "Since my last big [summary](https://www.philipzucker.com/state_o_knuck/), I've\n",
    "\n",
    "- Thrown in util algorithms from recent posts. [Pattern unification](https://www.philipzucker.com/ho_unify/), [term orderings](https://github.com/philzook58/knuckledragger/blob/797aae64eeb1e02267505d24a329594c0324a3d1/kdrag/utils.py#L460), a simple rewriter\n",
    "- Improved on vampire/eprover support. If vampire has python bindings as good as z3's, it would probably be the superior option as the main solver for Knuckledragger, since ITP often needs a lot of quantifier reasoning. But alas.\n",
    "- Tossed in [aprove](https://github.com/philzook58/knuckledragger/blob/main/kdrag/solvers/aprove.py), a termination checker. Not sure what I'm gonna do with this one. Currently knuckledragger offers nothing in regards to checking termination of your recursive definitions\n",
    "- Tossed in [gappa](https://github.com/philzook58/knuckledragger/blob/main/kdrag/solvers/gappa.py)\n",
    "- Tossed in some [sympy](https://github.com/philzook58/knuckledragger/blob/main/kdrag/theories/real/sympy.py) and flint translators. I do not currently trust sympy's results. I'm willing to trust flint as an axiom schema.\n",
    "- Tossed in some [real](https://github.com/philzook58/knuckledragger/blob/main/kdrag/theories/real/__init__.py) axioms. I don't feel that bad about just axiomatizing them. I mean come on. `sin(0) = 0`. Don't be an ass. Having said that, I wouldn't be surprised if I got a couple wrong. https://arxiv.org/pdf/0708.3721 This is an interesting paper stating some rigourous upper and lower approximations of common transcendental functions I saw in the [Metitarski](https://www.cl.cam.ac.uk/~lp15/papers/Arith/) paper.\n",
    "- I added a dumb julia wrapper I haven't done much with yet. https://github.com/philzook58/Knuckledragger.jl Could be nice to explore multiple dispatch, nicer syntax and macros that Julia offers. Other interesting high performance stuff.\n",
    "- Levent Erkok added a knuckledragger like feature to Haskell's SBV https://hackage.haskell.org/package/sbv-11.0/docs/Data-SBV-Tools-KnuckleDragger.html I am very happy that these ideas are landing somewhere.\n",
    "- Tossing in the start of some lark parsers for prolog, tptp, etc\n",
    "\n",
    "One of the latest additions was actually building a bit of a tactic system that feels akin to lean's, coq's, isabelle's, etc. One thing I really like is that it is just python. If you want to metaprogram, use loops and `try`. Sequencing is python sequencing. The slight cost, like almost all embedded dsls, is that python syntax won't be quite as clean. I think it's pretty good though.\n"
   ]
  },
  {
   "cell_type": "markdown",
   "metadata": {},
   "source": [
    "# Tactics\n",
    "\n",
    "\"The purpose of computing is insight, not numbers.\" - [Richard Hamming](https://en.wikipedia.org/wiki/Richard_Hamming)\n",
    "\n",
    "I've resisted for a while building a tactic system that looks like Lean, Isabelle's or Coq's, since I kind of wanted to explore this wacky super Hilbert system. I'd hoped (foolishly perhaps), that careful logical manipulation would be unnecessary and that just giving the highlights with the solver filling in the gaps would work. This isn't the right perspective. Even _if_ the solvers were perfect, you aren't. Sometimes I give the solvers the wrong theorem to prove, or the wrong lemmas to do it with. I saw some lectures (podcast?) by Larry Paulson where he made a similar point. Also, the purpose of interactive theorem proving and for that matter a majority of scientific and mathematical computing is _understanding_, not the result itself (businesses would disagree).\n"
   ]
  },
  {
   "cell_type": "markdown",
   "metadata": {},
   "source": [
    "# Usage examples\n",
    "\n",
    "You put the theorem to be proved into `Lemma`. Then you can call a sequence of methods on the `Lemma` object that mutate its proof state.\n",
    "\n",
    "Most of these examples are automatically discharged by z3 anyway without giving an explicit proof."
   ]
  },
  {
   "cell_type": "code",
   "execution_count": null,
   "metadata": {},
   "outputs": [
    {
     "name": "stdout",
     "output_type": "stream",
     "text": [
      "[[p!1211] ?|- Implies(q!1212, p!1211),\n",
      " [p!1211, q!1212] ?|- p!1211,\n",
      " 'Nothing to do. Hooray!']\n"
     ]
    },
    {
     "data": {
      "text/html": [
       "&#8870;ForAll([p, q], Implies(p, Implies(q, p)))"
      ],
      "text/plain": [
       "|- ForAll([p, q], Implies(p, Implies(q, p)))"
      ]
     },
     "execution_count": 34,
     "metadata": {},
     "output_type": "execute_result"
    }
   ],
   "source": [
    "from kdrag.all import *\n",
    "import pprint\n",
    "p, q, r = smt.Bools(\"p q r\")\n",
    "pf = kd.lemma(kd.QForAll([p, q], p, smt.Implies(q, p))) # z3 can discharge this one on it's own, don't worry.\n",
    "l = kd.tactics.Lemma(kd.QForAll([p, q], p, smt.Implies(q, p)))\n",
    "p1, q1 = l.intros() # open forall binder\n",
    "body = [l.intros(), # intro p into context\n",
    "        l.intros(), # intro q into context\n",
    "        l.assumption()  # use exact p from context\n",
    "        ]\n",
    "pprint.pp(body)\n",
    "l.qed() # returns the actual `Proof` object"
   ]
  },
  {
   "cell_type": "markdown",
   "metadata": {},
   "source": [
    "You can see I tried to mimic how the basic tactics look in lean https://leanprover.github.io/theorem_proving_in_lean4/tactics.html\n",
    "\n",
    "The lemma calls return `GoalCtx` objects so that you can see what the system wants at each point interactively in Jupyter.\n",
    "\n",
    "You can also record these for blog posts which is nice. It is annoying to record these things in Coq, lean, etc. There are systems for it ([Alectryon](https://github.com/cpitclaudel/alectryon), isabelle has nice stuff, maybe other lean blogging stuff?) but it isn't super mainstream.\n",
    "\n",
    "A cute syntax is to put the steps into list parens `[]`. This let's you structure it using python syntax, and record the intermediate states for when I want to show the intermediate goals in a blog post like this. The walrus `:=` also let's you record your introduced variables inline. Max bernstein showed me a similar pythony list trick for embedded compiler DSLs. It's nice. There is no magic there though, and you don't have to do it if you don't want to.\n",
    "\n",
    "These proofs steps internally record breadcrumbs about the actual knuckledragger kernel proof inside the `Lemma` object, which is discharged when you call `l.qed()`. I believe this is also true in Coq, lean etc that `qed` actually does the non trivial work of actually checking your proof term in those systems.\n",
    "\n",
    "Here is a slightly different proof by cases. `auto` just discharges the current goal via `z3`"
   ]
  },
  {
   "cell_type": "code",
   "execution_count": null,
   "metadata": {},
   "outputs": [
    {
     "name": "stdout",
     "output_type": "stream",
     "text": [
      "[[And(p!786, q!787)] ?|- p!786,\n",
      " [And(p!786, q!787), p!786] ?|- p!786,\n",
      " [[And(p!786, q!787), Not(p!786)] ?|- p!786],\n",
      " ['Nothing to do. Hooray!']]\n"
     ]
    },
    {
     "data": {
      "text/html": [
       "&#8870;ForAll([p, q], Implies(And(p, q), p))"
      ],
      "text/plain": [
       "|- ForAll([p, q], Implies(And(p, q), p))"
      ]
     },
     "execution_count": 28,
     "metadata": {},
     "output_type": "execute_result"
    }
   ],
   "source": [
    "l = kd.tactics.Lemma(kd.QForAll([p, q], p, q, p))\n",
    "p1, q1 = l.intros() # open forall binder\n",
    "body = [l.intros(), # intro And(p,q) into context\n",
    "        l.cases(p1), # case on p = True vs False\n",
    "        [l.auto()], \n",
    "        [l.auto()]\n",
    "        ]\n",
    "pprint.pp(body)\n",
    "l.qed()"
   ]
  },
  {
   "cell_type": "markdown",
   "metadata": {},
   "source": [
    "You can examine the recorded lemmas if you like used in the `qed`. The first is from introducing the fresh variables, and the later two were created by the calls the `auto` in the two cases."
   ]
  },
  {
   "cell_type": "code",
   "execution_count": 29,
   "metadata": {},
   "outputs": [
    {
     "name": "stdout",
     "output_type": "stream",
     "text": [
      "('recorded lemmas',\n",
      " [|- Implies(Implies(And(p!786, q!787), p!786),\n",
      "        ForAll([p, q], Implies(And(p, q), p))),\n",
      "  |- Implies(And(And(p!786, q!787), p!786), p!786),\n",
      "  |- Implies(And(And(p!786, q!787), Not(p!786)), p!786)])\n"
     ]
    }
   ],
   "source": [
    "pprint.pp((\"recorded lemmas\", l.lemmas))"
   ]
  },
  {
   "cell_type": "markdown",
   "metadata": {},
   "source": [
    "A proof supplying an appropriate existential witness."
   ]
  },
  {
   "cell_type": "code",
   "execution_count": 20,
   "metadata": {},
   "outputs": [
    {
     "data": {
      "text/html": [
       "&#8870;Exists(x, x**2 == 4)"
      ],
      "text/plain": [
       "|- Exists(x, x**2 == 4)"
      ]
     },
     "execution_count": 20,
     "metadata": {},
     "output_type": "execute_result"
    }
   ],
   "source": [
    "x,y,z = smt.Ints(\"x y z\")\n",
    "l = kd.tactics.Lemma(smt.Exists([x], x**2 == 4 ))\n",
    "l.exists(smt.IntVal(2))\n",
    "l.auto()\n",
    "l.qed()"
   ]
  },
  {
   "cell_type": "markdown",
   "metadata": {},
   "source": [
    "This fails as it should."
   ]
  },
  {
   "cell_type": "code",
   "execution_count": 21,
   "metadata": {},
   "outputs": [
    {
     "ename": "LemmaError",
     "evalue": "('lemma', Implies(And, 3**2 == 4), [], unknown)",
     "output_type": "error",
     "traceback": [
      "\u001b[0;31m---------------------------------------------------------------------------\u001b[0m",
      "\u001b[0;31mLemmaError\u001b[0m                                Traceback (most recent call last)",
      "Cell \u001b[0;32mIn[21], line 4\u001b[0m\n\u001b[1;32m      2\u001b[0m l \u001b[38;5;241m=\u001b[39m kd\u001b[38;5;241m.\u001b[39mtactics\u001b[38;5;241m.\u001b[39mLemma(smt\u001b[38;5;241m.\u001b[39mExists([x], x\u001b[38;5;241m*\u001b[39m\u001b[38;5;241m*\u001b[39m\u001b[38;5;241m2\u001b[39m \u001b[38;5;241m==\u001b[39m \u001b[38;5;241m4\u001b[39m ))\n\u001b[1;32m      3\u001b[0m l\u001b[38;5;241m.\u001b[39mexists(smt\u001b[38;5;241m.\u001b[39mIntVal(\u001b[38;5;241m3\u001b[39m))\n\u001b[0;32m----> 4\u001b[0m \u001b[43ml\u001b[49m\u001b[38;5;241;43m.\u001b[39;49m\u001b[43mauto\u001b[49m\u001b[43m(\u001b[49m\u001b[43m)\u001b[49m\n\u001b[1;32m      5\u001b[0m l\u001b[38;5;241m.\u001b[39mqed()\n",
      "File \u001b[0;32m~/Documents/python/knuckledragger/kdrag/tactics.py:260\u001b[0m, in \u001b[0;36mLemma.auto\u001b[0;34m(self)\u001b[0m\n\u001b[1;32m    258\u001b[0m \u001b[38;5;28;01mdef\u001b[39;00m \u001b[38;5;21mauto\u001b[39m(\u001b[38;5;28mself\u001b[39m):\n\u001b[1;32m    259\u001b[0m     ctx, goal \u001b[38;5;241m=\u001b[39m \u001b[38;5;28mself\u001b[39m\u001b[38;5;241m.\u001b[39mgoals[\u001b[38;5;241m-\u001b[39m\u001b[38;5;241m1\u001b[39m]\n\u001b[0;32m--> 260\u001b[0m     \u001b[38;5;28mself\u001b[39m\u001b[38;5;241m.\u001b[39mlemmas\u001b[38;5;241m.\u001b[39mappend(\u001b[43mlemma\u001b[49m\u001b[43m(\u001b[49m\u001b[43msmt\u001b[49m\u001b[38;5;241;43m.\u001b[39;49m\u001b[43mImplies\u001b[49m\u001b[43m(\u001b[49m\u001b[43msmt\u001b[49m\u001b[38;5;241;43m.\u001b[39;49m\u001b[43mAnd\u001b[49m\u001b[43m(\u001b[49m\u001b[43mctx\u001b[49m\u001b[43m)\u001b[49m\u001b[43m,\u001b[49m\u001b[43m \u001b[49m\u001b[43mgoal\u001b[49m\u001b[43m)\u001b[49m\u001b[43m)\u001b[49m)\n\u001b[1;32m    261\u001b[0m     \u001b[38;5;28mself\u001b[39m\u001b[38;5;241m.\u001b[39mgoals\u001b[38;5;241m.\u001b[39mpop()\n\u001b[1;32m    262\u001b[0m     \u001b[38;5;28;01mreturn\u001b[39;00m \u001b[38;5;28mself\u001b[39m\u001b[38;5;241m.\u001b[39mtop_goal()\n",
      "File \u001b[0;32m~/Documents/python/knuckledragger/kdrag/tactics.py:179\u001b[0m, in \u001b[0;36mlemma\u001b[0;34m(thm, by, admit, timeout, dump, solver, defns, simps)\u001b[0m\n\u001b[1;32m    177\u001b[0m     \u001b[38;5;28;01mif\u001b[39;00m res \u001b[38;5;241m==\u001b[39m smt\u001b[38;5;241m.\u001b[39msat:\n\u001b[1;32m    178\u001b[0m         \u001b[38;5;28;01mraise\u001b[39;00m kd\u001b[38;5;241m.\u001b[39mkernel\u001b[38;5;241m.\u001b[39mLemmaError(thm, by, \u001b[38;5;124m\"\u001b[39m\u001b[38;5;124mCountermodel\u001b[39m\u001b[38;5;124m\"\u001b[39m, s\u001b[38;5;241m.\u001b[39mmodel())\n\u001b[0;32m--> 179\u001b[0m     \u001b[38;5;28;01mraise\u001b[39;00m kd\u001b[38;5;241m.\u001b[39mkernel\u001b[38;5;241m.\u001b[39mLemmaError(\u001b[38;5;124m\"\u001b[39m\u001b[38;5;124mlemma\u001b[39m\u001b[38;5;124m\"\u001b[39m, thm, by, res)\n\u001b[1;32m    180\u001b[0m \u001b[38;5;28;01melse\u001b[39;00m:\n\u001b[1;32m    181\u001b[0m     core \u001b[38;5;241m=\u001b[39m s\u001b[38;5;241m.\u001b[39munsat_core()\n",
      "\u001b[0;31mLemmaError\u001b[0m: ('lemma', Implies(And, 3**2 == 4), [], unknown)"
     ]
    }
   ],
   "source": [
    "x,y,z = smt.Ints(\"x y z\")\n",
    "l = kd.tactics.Lemma(smt.Exists([x], x**2 == 4 ))\n",
    "l.exists(smt.IntVal(3))\n",
    "l.auto()\n",
    "l.qed()"
   ]
  },
  {
   "cell_type": "markdown",
   "metadata": {},
   "source": [
    "Applying a lemma. `apply` does pattern matching of the goal against the head of the `Proof` you supply."
   ]
  },
  {
   "cell_type": "code",
   "execution_count": 23,
   "metadata": {},
   "outputs": [
    {
     "data": {
      "text/html": [
       "&#8870;ForAll(x, P(x))"
      ],
      "text/plain": [
       "|- ForAll(x, P(x))"
      ]
     },
     "execution_count": 23,
     "metadata": {},
     "output_type": "execute_result"
    }
   ],
   "source": [
    "x,y,z = smt.Ints(\"x y z\")\n",
    "P = smt.Function(\"P\", smt.IntSort(), smt.BoolSort())\n",
    "myax : kd.Proof = kd.axiom(smt.ForAll([z], P(z)))\n",
    "l = kd.tactics.Lemma(kd.QForAll([x], P(x)))\n",
    "x1 = l.intros()\n",
    "l.apply(myax)\n",
    "\n",
    "l.qed()"
   ]
  },
  {
   "cell_type": "markdown",
   "metadata": {},
   "source": [
    "This one z3 can't automatically discharge in totality for some reason.\n"
   ]
  },
  {
   "cell_type": "code",
   "execution_count": null,
   "metadata": {},
   "outputs": [
    {
     "ename": "LemmaError",
     "evalue": "('lemma', ForAll(x, Implies(even(x), even(x + 2))), [|- ForAll(x, (Exists(y, x == 2*y)) == even(x))], unknown)",
     "output_type": "error",
     "traceback": [
      "\u001b[0;31m---------------------------------------------------------------------------\u001b[0m",
      "\u001b[0;31mLemmaError\u001b[0m                                Traceback (most recent call last)",
      "Cell \u001b[0;32mIn[31], line 5\u001b[0m\n\u001b[1;32m      3\u001b[0m even \u001b[38;5;241m=\u001b[39m kd\u001b[38;5;241m.\u001b[39mdefine(\u001b[38;5;124m\"\u001b[39m\u001b[38;5;124meven\u001b[39m\u001b[38;5;124m\"\u001b[39m, [x], smt\u001b[38;5;241m.\u001b[39mExists([y], x \u001b[38;5;241m==\u001b[39m \u001b[38;5;241m2\u001b[39m \u001b[38;5;241m*\u001b[39m y))\n\u001b[1;32m      4\u001b[0m odd \u001b[38;5;241m=\u001b[39m kd\u001b[38;5;241m.\u001b[39mdefine(\u001b[38;5;124m\"\u001b[39m\u001b[38;5;124modd\u001b[39m\u001b[38;5;124m\"\u001b[39m, [x], smt\u001b[38;5;241m.\u001b[39mExists([y], x \u001b[38;5;241m==\u001b[39m \u001b[38;5;241m2\u001b[39m \u001b[38;5;241m*\u001b[39m y \u001b[38;5;241m+\u001b[39m \u001b[38;5;241m1\u001b[39m))\n\u001b[0;32m----> 5\u001b[0m \u001b[43mkd\u001b[49m\u001b[38;5;241;43m.\u001b[39;49m\u001b[43mlemma\u001b[49m\u001b[43m(\u001b[49m\u001b[43mkd\u001b[49m\u001b[38;5;241;43m.\u001b[39;49m\u001b[43mQForAll\u001b[49m\u001b[43m(\u001b[49m\u001b[43m[\u001b[49m\u001b[43mx\u001b[49m\u001b[43m]\u001b[49m\u001b[43m,\u001b[49m\u001b[43m \u001b[49m\u001b[43meven\u001b[49m\u001b[43m(\u001b[49m\u001b[43mx\u001b[49m\u001b[43m)\u001b[49m\u001b[43m,\u001b[49m\u001b[43m \u001b[49m\u001b[43meven\u001b[49m\u001b[43m(\u001b[49m\u001b[43mx\u001b[49m\u001b[38;5;241;43m+\u001b[39;49m\u001b[38;5;241;43m2\u001b[39;49m\u001b[43m)\u001b[49m\u001b[43m)\u001b[49m\u001b[43m,\u001b[49m\u001b[43m \u001b[49m\u001b[43mby\u001b[49m\u001b[38;5;241;43m=\u001b[39;49m\u001b[43m[\u001b[49m\u001b[43meven\u001b[49m\u001b[38;5;241;43m.\u001b[39;49m\u001b[43mdefn\u001b[49m\u001b[43m]\u001b[49m\u001b[43m)\u001b[49m \u001b[38;5;66;03m# The more raw tactic.\u001b[39;00m\n",
      "File \u001b[0;32m~/Documents/python/knuckledragger/kdrag/tactics.py:179\u001b[0m, in \u001b[0;36mlemma\u001b[0;34m(thm, by, admit, timeout, dump, solver, defns, simps)\u001b[0m\n\u001b[1;32m    177\u001b[0m     \u001b[38;5;28;01mif\u001b[39;00m res \u001b[38;5;241m==\u001b[39m smt\u001b[38;5;241m.\u001b[39msat:\n\u001b[1;32m    178\u001b[0m         \u001b[38;5;28;01mraise\u001b[39;00m kd\u001b[38;5;241m.\u001b[39mkernel\u001b[38;5;241m.\u001b[39mLemmaError(thm, by, \u001b[38;5;124m\"\u001b[39m\u001b[38;5;124mCountermodel\u001b[39m\u001b[38;5;124m\"\u001b[39m, s\u001b[38;5;241m.\u001b[39mmodel())\n\u001b[0;32m--> 179\u001b[0m     \u001b[38;5;28;01mraise\u001b[39;00m kd\u001b[38;5;241m.\u001b[39mkernel\u001b[38;5;241m.\u001b[39mLemmaError(\u001b[38;5;124m\"\u001b[39m\u001b[38;5;124mlemma\u001b[39m\u001b[38;5;124m\"\u001b[39m, thm, by, res)\n\u001b[1;32m    180\u001b[0m \u001b[38;5;28;01melse\u001b[39;00m:\n\u001b[1;32m    181\u001b[0m     core \u001b[38;5;241m=\u001b[39m s\u001b[38;5;241m.\u001b[39munsat_core()\n",
      "\u001b[0;31mLemmaError\u001b[0m: ('lemma', ForAll(x, Implies(even(x), even(x + 2))), [|- ForAll(x, (Exists(y, x == 2*y)) == even(x))], unknown)"
     ]
    }
   ],
   "source": [
    "from kdrag.all import *\n",
    "x,y = smt.Ints(\"x y\")\n",
    "even = kd.define(\"even\", [x], smt.Exists([y], x == 2 * y))\n",
    "kd.lemma(kd.QForAll([x], even(x), even(x+2)), by=[even.defn]) # The more raw lowercase lemma tactic."
   ]
  },
  {
   "cell_type": "markdown",
   "metadata": {},
   "source": [
    "But we can get it through using `Lemma` to help it along and give it the proof witness."
   ]
  },
  {
   "cell_type": "code",
   "execution_count": 33,
   "metadata": {},
   "outputs": [
    {
     "name": "stdout",
     "output_type": "stream",
     "text": [
      "[x!1169,\n",
      " [even(x!1169)] ?|- even(x!1169 + 2),\n",
      " [even(x!1169)] ?|- Exists(y, x!1169 + 2 == 2*y),\n",
      " [Exists(y, x!1169 == 2*y)] ?|- Exists(y, x!1169 + 2 == 2*y),\n",
      " y!1172,\n",
      " [x!1169 == 2*y!1172] ?|- x!1169 + 2 == 2*(y!1172 + 1),\n",
      " 'Nothing to do. Hooray!']\n"
     ]
    },
    {
     "data": {
      "text/html": [
       "&#8870;ForAll(x, Implies(even(x), even(x + 2)))"
      ],
      "text/plain": [
       "|- ForAll(x, Implies(even(x), even(x + 2)))"
      ]
     },
     "execution_count": 33,
     "metadata": {},
     "output_type": "execute_result"
    }
   ],
   "source": [
    "l = kd.Lemma(kd.QForAll([x], even(x), even(x+2)))\n",
    "steps = [\n",
    "    x1 := l.intros(),\n",
    "    l.intros(),\n",
    "    l.apply(even.defn, rev=True),\n",
    "    l.rewrite(even.defn, at=0, rev=True),\n",
    "    y1 := l.einstan(0),\n",
    "    l.exists(y1 + 1),\n",
    "    l.auto(),\n",
    "]\n",
    "pprint.pp(steps)\n",
    "l.qed()"
   ]
  },
  {
   "cell_type": "markdown",
   "metadata": {},
   "source": [
    "# How it works\n",
    "\n",
    "To be perfectly honest, aspects of the design are pure cargo culting.\n",
    "\n",
    "The `Lemma` object holds a goal stack and the different tactics push on and pop off different amounts of goals off the stack. \n",
    "\n",
    "The currently needed goal is represented as a named tuple.\n"
   ]
  },
  {
   "cell_type": "code",
   "execution_count": 4,
   "metadata": {},
   "outputs": [],
   "source": [
    "from kdrag.all import *\n",
    "from typing import NamedTuple\n",
    "class GoalCtx(NamedTuple):\n",
    "    ctx: list[smt.BoolRef]\n",
    "    goal: smt.BoolRef\n",
    "\n",
    "    def __repr__(self):\n",
    "        return repr(self.ctx) + \" ?|- \" + repr(self.goal)\n"
   ]
  },
  {
   "cell_type": "markdown",
   "metadata": {},
   "source": [
    "When you make a Lemma object, it starts with the theorem to be proved as a goal in an empty context.\n",
    "\n",
    "When an actual `Proof` is made by a call to the kernel, it is recorded in `self.lemmas`. This is a somewhat lazy design, hoping z3 is powerful enough to assemble all the steps later. It may not be, as I have found sometimes z3 to not push through very trivial single step stuff involving quantifiers. We'll see. \n",
    "\n",
    "When you see a forall quantifier, you can fix it. I added new axiom schema to the kernel that create fresh variables. This is one of a couple ways to emulate the ability of having fresh constants in my Hilbert style rpoof system\n",
    "\n",
    "```python\n",
    "# in Kernel\n",
    "def herb(thm: smt.QuantifierRef) -> tuple[list[smt.ExprRef], Proof]:\n",
    "    \"\"\"\n",
    "    Herbrandize a theorem.\n",
    "    It is sufficient to prove a theorem for fresh consts to prove a universal.\n",
    "    Note: Perhaps lambdaized form is better? Return vars and lamda that could receive `|- P[vars]`\n",
    "    \"\"\"\n",
    "    assert smt.is_quantifier(thm) and thm.is_forall()\n",
    "    herbs = fresh_const(thm)\n",
    "    return herbs, __Proof(\n",
    "        smt.Implies(smt.substitute_vars(thm.body(), *reversed(herbs)), thm),\n",
    "        reason=\"herband\",\n",
    "    )\n",
    "```\n",
    "\n",
    "There are also new axiom schema in the kernel for existential manipulation. Names may change. `forget2` is existential introduction using some particular terms `ts` and `einstan` is existential instantiation with a fresh constant. These are the two basic rules for manipulating existential quantifiers.\n",
    "\n",
    "```python\n",
    "def forget2(ts: list[smt.ExprRef], thm: smt.QuantifierRef) -> Proof:\n",
    "    \"\"\"\n",
    "    \"Forget\" a term using existentials. This is existential introduction.\n",
    "    `P(ts) -> exists xs, P(xs)`\n",
    "    `thm` is an existential formula, and `ts` are terms to substitute those variables with.\n",
    "    forget easily follows.\n",
    "    https://en.wikipedia.org/wiki/Existential_generalization\n",
    "    \"\"\"\n",
    "    assert smt.is_quantifier(thm) and thm.is_exists() and len(ts) == thm.num_vars()\n",
    "    return __Proof(\n",
    "        smt.Implies(smt.substitute_vars(thm.body(), *reversed(ts)), thm),\n",
    "        reason=\"exists_intro\",\n",
    "    )\n",
    "\n",
    "\n",
    "def einstan(thm: smt.QuantifierRef) -> tuple[list[smt.ExprRef], Proof]:\n",
    "    \"\"\"\n",
    "    Skolemize an existential quantifier.\n",
    "    `exists xs, P(xs) -> P(cs)` for fresh cs\n",
    "    https://en.wikipedia.org/wiki/Existential_instantiation\n",
    "    \"\"\"\n",
    "    # TODO: Hmm. Maybe we don't need to have a Proof? Lessen this to thm.\n",
    "    assert smt.is_quantifier(thm) and thm.is_exists()\n",
    "\n",
    "    skolems = fresh_const(thm)\n",
    "    return skolems, __Proof(\n",
    "        smt.Implies(thm, smt.substitute_vars(thm.body(), *reversed(skolems))),\n",
    "        reason=[\"einstan\"],\n",
    "    )\n",
    "```\n",
    "Note that `qed` just dumps all the `self.lemmas` into a call to `kernel.lemma` where z3 tries to assemble the whole thing.\n",
    "\n",
    "This is the current source of the `Lemma` object https://github.com/philzook58/knuckledragger/blob/d80b1e90c7b00635102c639b46e393f2588e0c8a/kdrag/tactics.py#L209 .  This will all probably continue to evolve."
   ]
  },
  {
   "cell_type": "code",
   "execution_count": null,
   "metadata": {},
   "outputs": [],
   "source": [
    "class Lemma:\n",
    "    def __init__(self, goal: smt.BoolRef):\n",
    "        self.lemmas = []\n",
    "        self.thm = goal\n",
    "        self.goals = [GoalCtx([], goal)]\n",
    "\n",
    "    def fixes(self):\n",
    "        ctx, goal = self.goals[-1]\n",
    "        if smt.is_quantifier(goal) and goal.is_forall():\n",
    "            self.goals.pop()\n",
    "            vs, herb_lemma = kd.kernel.herb(goal)\n",
    "            self.lemmas.append(herb_lemma)\n",
    "            self.goals.append(GoalCtx(ctx, herb_lemma.thm.arg(0)))\n",
    "            return vs\n",
    "        else:\n",
    "            raise ValueError(f\"fixes tactic failed. Not a forall {goal}\")\n",
    "\n",
    "    def intros(self):\n",
    "        ctx, goal = self.goals.pop()\n",
    "        if smt.is_quantifier(goal) and goal.is_forall():\n",
    "            vs, herb_lemma = kd.kernel.herb(goal)\n",
    "            self.lemmas.append(herb_lemma)\n",
    "            self.goals.append(GoalCtx(ctx, herb_lemma.thm.arg(0)))\n",
    "            if len(vs) == 1:\n",
    "                return vs[0]\n",
    "            else:\n",
    "                return vs\n",
    "        elif smt.is_implies(goal):\n",
    "            self.goals.append(GoalCtx(ctx + [goal.arg(0)], goal.arg(1)))\n",
    "            return self.top_goal()\n",
    "        elif smt.is_not(goal):\n",
    "            self.goals.append((ctx + [goal.arg(0)], smt.BoolVal(False)))\n",
    "            return\n",
    "        else:\n",
    "            raise ValueError(\"Intros failed.\")\n",
    "\n",
    "    def cases(self, t):\n",
    "        ctx, goal = self.goals.pop()\n",
    "        if t.sort() == smt.BoolSort():\n",
    "            self.goals.append(GoalCtx(ctx + [smt.Not(t)], goal))\n",
    "            self.goals.append(GoalCtx(ctx + [t], goal))\n",
    "        elif isinstance(t, smt.DatatypeRef):\n",
    "            dsort = t.sort()\n",
    "            for i in reversed(range(dsort.num_constructors())):\n",
    "                self.goals.append(GoalCtx(ctx + [dsort.recognizer(i)(t)], goal))\n",
    "        else:\n",
    "            raise ValueError(\"Cases failed. Not a bool or datatype\")\n",
    "        return self.top_goal()\n",
    "\n",
    "    def auto(self):\n",
    "        ctx, goal = self.goals[-1]\n",
    "        self.lemmas.append(lemma(smt.Implies(smt.And(ctx), goal)))\n",
    "        self.goals.pop()\n",
    "        return self.top_goal()\n",
    "\n",
    "    def einstan(self, n):\n",
    "        ctx, goal = self.goals[-1]\n",
    "        formula = ctx[n]\n",
    "        if smt.is_quantifier(formula) and formula.is_exists():\n",
    "            self.goals.pop()\n",
    "            fs, einstan_lemma = kd.kernel.einstan(formula)\n",
    "            self.lemmas.append(einstan_lemma)\n",
    "            self.goals.append(\n",
    "                GoalCtx(ctx[:n] + [einstan_lemma.thm.arg(1)] + ctx[n + 1 :], goal)\n",
    "            )\n",
    "            if len(fs) == 1:\n",
    "                return fs[0]\n",
    "            else:\n",
    "                return fs\n",
    "        else:\n",
    "            raise ValueError(\"Einstan failed. Not an exists\")\n",
    "\n",
    "    def split(self, at=None):\n",
    "        ctx, goal = self.goals[-1]\n",
    "        if at is None:\n",
    "            if smt.is_and(goal):\n",
    "                self.goals.pop()\n",
    "                self.goals.extend([GoalCtx(ctx, c) for c in goal.children()])\n",
    "            if smt.is_eq(goal):\n",
    "                self.goals.pop()\n",
    "                self.goals.append(GoalCtx(ctx, smt.Implies(goal.arg(0), goal.arg(1))))\n",
    "                self.goals.append(GoalCtx(ctx, smt.Implies(goal.arg(1), goal.arg(0))))\n",
    "            else:\n",
    "                raise ValueError(\"Split failed\")\n",
    "        else:\n",
    "            if smt.is_or(ctx[at]):\n",
    "                self.goals.pop()\n",
    "                for c in ctx[at].children():\n",
    "                    self.goals.append(GoalCtx(ctx[:at] + [c] + ctx[at + 1 :], goal))\n",
    "            if smt.is_and(ctx[at]):\n",
    "                self.goals.pop()\n",
    "                self.goals.append(\n",
    "                    GoalCtx(ctx[:at] + ctx[at].children() + ctx[at + 1 :], goal)\n",
    "                )\n",
    "            else:\n",
    "                raise ValueError(\"Split failed\")\n",
    "\n",
    "    def left(self, n=0):\n",
    "        ctx, goal = self.goals[-1]\n",
    "        if smt.is_or(goal):\n",
    "            if n is None:\n",
    "                n = 0\n",
    "            self.goals[-1] = GoalCtx(ctx, goal.arg(n))\n",
    "            return self.top_goal()\n",
    "        else:\n",
    "            raise ValueError(\"Left failed. Not an or\")\n",
    "\n",
    "    def right(self):\n",
    "        ctx, goal = self.goals[-1]\n",
    "        if smt.is_or(goal):\n",
    "            self.goals[-1] = GoalCtx(ctx, goal.arg(goal.num_args() - 1))\n",
    "            return self.top_goal()\n",
    "        else:\n",
    "            raise ValueError(\"Right failed. Not an or\")\n",
    "\n",
    "    def exists(self, *ts):\n",
    "        ctx, goal = self.goals[-1]\n",
    "        lemma = kd.kernel.forget2(ts, goal)\n",
    "        self.lemmas.append(lemma)\n",
    "        self.goals[-1] = GoalCtx(ctx, lemma.thm.arg(0))\n",
    "        return self.top_goal()\n",
    "\n",
    "    def rewrite(self, rule, at=None, rev=False):\n",
    "        \"\"\"\n",
    "        `rewrite` allows you to apply rewrite rule (which may either be a Proof or an index into the context) to the goal or to the context.\n",
    "        \"\"\"\n",
    "        ctx, goal = self.goals[-1]\n",
    "        if isinstance(rule, int):\n",
    "            rulethm = ctx[rule]\n",
    "        elif kd.kernel.is_proof(rule):\n",
    "            rulethm = rule.thm\n",
    "        if smt.is_quantifier(rulethm) and rulethm.is_forall():\n",
    "            vs, body = kd.utils.open_binder(rulethm)\n",
    "        else:\n",
    "            vs = []\n",
    "            body = rulethm\n",
    "        if smt.is_eq(body):\n",
    "            lhs, rhs = body.arg(0), body.arg(1)\n",
    "            if rev:\n",
    "                lhs, rhs = rhs, lhs\n",
    "        else:\n",
    "            raise ValueError(f\"Rewrite tactic failed. Not an equality {rulethm}\")\n",
    "        if at is None:\n",
    "            target = goal\n",
    "        elif isinstance(at, int):\n",
    "            target = ctx[at]\n",
    "        else:\n",
    "            raise ValueError(\n",
    "                \"Rewrite tactic failed. `at` is not an index into the context\"\n",
    "            )\n",
    "        subst = kd.utils.pmatch_rec(vs, lhs, target)\n",
    "        if subst is None:\n",
    "            raise ValueError(\n",
    "                f\"Rewrite tactic failed to apply lemma {rulethm} to goal {goal}\"\n",
    "            )\n",
    "        else:\n",
    "            self.goals.pop()\n",
    "            lhs1 = smt.substitute(lhs, *[(v, t) for v, t in subst.items()])\n",
    "            rhs1 = smt.substitute(rhs, *[(v, t) for v, t in subst.items()])\n",
    "            target: smt.BoolRef = smt.substitute(target, (lhs1, rhs1))\n",
    "            self.lemmas.append(kd.kernel.instan2([subst[v] for v in vs], rulethm))\n",
    "            if kd.kernel.is_proof(rule):\n",
    "                self.lemmas.append(rule)\n",
    "            if at is None:\n",
    "                self.goals.append(GoalCtx(ctx, target))\n",
    "            else:\n",
    "                self.goals.append(GoalCtx(ctx[:at] + [target] + ctx[at + 1 :], goal))\n",
    "            return self.top_goal()\n",
    "\n",
    "    def rw(self, rule, at=None, rev=False):\n",
    "        return self.rewrite(rule, at=at, rev=rev)\n",
    "\n",
    "    def unfold(self, decl: smt.FuncDeclRef):\n",
    "        if hasattr(decl, \"defn\"):\n",
    "            return self.rewrite(decl.defn)\n",
    "        else:\n",
    "            raise ValueError(\"Unfold failed. Not a defined function\")\n",
    "\n",
    "    def apply(self, pf: kd.kernel.Proof, rev=False):\n",
    "        ctx, goal = self.goals.pop()\n",
    "        thm = pf.thm\n",
    "        if smt.is_quantifier(thm) and thm.is_forall():\n",
    "            vs, thm = kd.utils.open_binder(thm)\n",
    "        else:\n",
    "            vs = []\n",
    "        if smt.is_implies(thm):\n",
    "            pat = thm.arg(1)\n",
    "        elif smt.is_eq(thm):\n",
    "            if rev:\n",
    "                pat = thm.arg(1)\n",
    "            else:\n",
    "                pat = thm.arg(0)\n",
    "        else:\n",
    "            pat = thm\n",
    "        subst = kd.utils.pmatch(vs, pat, goal)\n",
    "        if subst is None:\n",
    "            raise ValueError(f\"Apply tactic failed to apply lemma {pf} to goal {goal} \")\n",
    "        else:\n",
    "            pf1 = kd.kernel.instan([subst[v] for v in vs], pf)\n",
    "            self.lemmas.append(pf1)\n",
    "            if smt.is_implies(pf1.thm):\n",
    "                self.goals.append(GoalCtx(ctx, pf1.thm.arg(0)))\n",
    "            elif smt.is_eq(pf1.thm):\n",
    "                if rev:\n",
    "                    self.goals.append(GoalCtx(ctx, pf1.thm.arg(0)))\n",
    "                else:\n",
    "                    self.goals.append(GoalCtx(ctx, pf1.thm.arg(1)))\n",
    "        return self.top_goal()\n",
    "\n",
    "    def assumption(self):\n",
    "        ctx, goal = self.goals.pop()\n",
    "        if any([goal.eq(h) for h in ctx]):\n",
    "            return self.top_goal()\n",
    "        else:\n",
    "            raise ValueError(\"Assumption tactic failed\", goal, ctx)\n",
    "\n",
    "    def have(self, conc, **kwargs):\n",
    "        ctx, goal = self.goals.pop()\n",
    "        self.lemmas.append(lemma(smt.Implies(smt.And(ctx), conc)), **kwargs)\n",
    "        self.goals.append(GoalCtx(ctx + [conc], conc))\n",
    "        return self.top_goal()\n",
    "\n",
    "    # TODO\n",
    "    # def search():\n",
    "    # def calc\n",
    "\n",
    "    def top_goal(self):\n",
    "        if len(self.goals) == 0:\n",
    "            return \"Nothing to do. Hooray!\"\n",
    "        return self.goals[-1]\n",
    "\n",
    "    def __repr__(self):\n",
    "        return repr(self.top_goal())\n",
    "\n",
    "    def qed(self):\n",
    "        return kd.kernel.lemma(self.thm, by=self.lemmas)"
   ]
  },
  {
   "cell_type": "markdown",
   "metadata": {},
   "source": [
    "# Bits and Bobbles\n",
    "Calling them \"lean\"-style in the post is ridiculous, because this ctyle of tactic precedes lean by a lot. But I did model my particular choice of tactic names after lean's, so whatever. Makes for a punchier title.\n",
    "\n",
    "\n",
    "https://www.philipzucker.com/programming-and-interactive-proving-with-z3py/ I wrote a similar set of ideas 5 years ago (yikes). The main difference here is that I didn't have the idea of using the logical kernel of Knuckledragger. Maybe in some respects what I did here is better or simpler.\n",
    "\n",
    "\n",
    "I hope that these lemma breadcrumbs are sufficient for the final `qed` lemma to finish. There is not guarantee of it, and this failure would be quite frustrating.\n",
    "\n",
    "It was useful to peek on the goalstack and the pop only once I know it will succeed. Then the `Lemma` object isn't mutated until the tactium is successful.\n",
    "\n",
    "It may bite me in the ass someday that Lemma is imperative. It does perhaps stop some kinds of proof search. Not sure. It was the easiest thing to do so YOLO.\n",
    "\n",
    "I should be recording the fresh constants in the GoalCtx.\n",
    "\n",
    "I haven't bolted in induction yet. It might not be that bad. I do have induction schema.\n",
    "\n",
    "I might need new axioms to perform generalization. That the multi arity quantifiers are one-shot might be a problem.\n",
    "\n",
    "A general blog post on translation of natural deduction to hilbert style systems could be interesting. In a sense, this is what my tactic is doing, albiet in an unprincipled way. When Hilbert stykle was established but before nat deduct was taken for granted, this was probably fairly crucial\n",
    "\n",
    "A tactics system manipulates partial proofs.\n",
    "\n",
    "What the hell are partial proofs? Good question.\n",
    "\n",
    "A tactics system can be implemented in a fairly imperative way.\n",
    "\n",
    "There are backwards tactics that manipulate the goal and forward tactics that manipulate the context.\n",
    "\n",
    "### Backwards\n",
    "Many backwards tactics correspond to the rules of [natural deduction](https://plato.stanford.edu/entries/natural-deduction/) read from below to inference line moving up.\n",
    "\n",
    "| Lean   | Nat Deduct  |\n",
    "|----|---|\n",
    "| intros | forall/impl introduction |\n",
    "| apply | impl elim |\n",
    "| exists | exist intro |\n",
    "| left/right | or intro |\n",
    "| constructor | and intro |\n",
    "\n",
    "\n",
    "https://people.mpi-sws.org/~skilpat/plerg/papers/open-proofs-2up.pdf  Open Proofs and Open Terms: a Basis for\n",
    "Interactive Logic https://dl.acm.org/doi/10.5555/647852.737415  Herman Geuvers, Gueorgui I. Jojgov\n",
    "\n",
    "https://arxiv.org/pdf/1703.05215  Algebraic Foundations of Proof Refinement - Sterling Harper\n",
    "\n",
    "\n",
    "https://leanprover-community.github.io/logic_and_proof/propositional_logic_in_lean.html\n",
    "\n",
    "https://leanprover.github.io/theorem_proving_in_lean4/tactics.html\n",
    "\n",
    "Emergently, knuckledragger is looking like a python port of some aspects of Why3. One big difference is I have not made a new IR separated from smtlib.\n",
    "\n",
    "Good discussion of LCF in Harrison's handbook of practical logic and automated reasoning.\n",
    "https://lawrencecpaulson.github.io/2022/01/05/LCF.html\n",
    "\n",
    "\n",
    "Prove some of those lemmas follow each other\n",
    "\n",
    "The modulus vs non modulus version.\n"
   ]
  },
  {
   "cell_type": "code",
   "execution_count": null,
   "metadata": {},
   "outputs": [
    {
     "data": {
      "text/html": [
       "&#8870;ForAll(x, length(x) >= 0)"
      ],
      "text/plain": [
       "|- ForAll(x, length(x) >= 0)"
      ]
     },
     "execution_count": 21,
     "metadata": {},
     "output_type": "execute_result"
    }
   ],
   "source": [
    "from kdrag.all import *\n",
    "IntList = smt.Datatype(\"IntList\")\n",
    "IntList.declare(\"nil\")\n",
    "IntList.declare(\"cons\", (\"car\", smt.IntSort()), (\"cdr\", IntList))\n",
    "IntList = IntList.create()\n",
    "\n",
    "x = smt.Const(\"x\", IntList)\n",
    "length = smt.Function(\"length\", IntList, smt.IntSort())\n",
    "length = kd.define(\"length\", [x], smt.If(x.is_nil, 0, 1 + length(x.cdr)))\n",
    "\n",
    "# fails\n",
    "#kd.kernel.lemma(kd.QForAll([x], length(x) >= 0), by=[length.defn])\n",
    "l = kd.Lemma(smt.ForAll([x], length(x) >= 0))\n",
    "#x1 = l.intros()\n",
    "import kdrag.theories.datatypes as dt\n",
    "intinduct = dt.induct(IntList)\n",
    "#l.apply(intinduct)\n",
    "l.apply(intinduct) # So. Forall x, (stuff), P(x)) vs stuff => forall x, P(x).\n",
    "l.split()\n",
    "[\n",
    "    a := l.intros(),\n",
    "    l.intros(),\n",
    "    l.z3simp(),\n",
    "    hd := l.intros(),\n",
    "    l.unfold(length),\n",
    "    l.auto() # auto(by=[length.defn])\n",
    "]\n",
    "[\n",
    "    l.z3simp(),\n",
    "    l.unfold(length),\n",
    "    l.auto()\n",
    "]\n",
    "l.qed()"
   ]
  },
  {
   "cell_type": "code",
   "execution_count": null,
   "metadata": {},
   "outputs": [
    {
     "data": {
      "text/html": [
       "&#8870;Implies(p, p)"
      ],
      "text/plain": [
       "|- Implies(p, p)"
      ]
     },
     "execution_count": 8,
     "metadata": {},
     "output_type": "execute_result"
    }
   ],
   "source": [
    "from kdrag.all import *\n",
    "\n",
    "p,q,r = smt.Bools(\"p q r\")\n",
    "l = kd.tactics.Lemma2(smt.Implies(p,p))\n",
    "\n",
    "l.qed()\n",
    "\n"
   ]
  },
  {
   "cell_type": "code",
   "execution_count": 3,
   "metadata": {},
   "outputs": [
    {
     "data": {
      "text/plain": [
       "Nothing to do. Hooray!"
      ]
     },
     "execution_count": 3,
     "metadata": {},
     "output_type": "execute_result"
    }
   ],
   "source": [
    "from kdrag.all import *\n",
    "\n",
    "p,q,r = smt.Bools(\"p q r\")\n",
    "l = kd.tactics.Lemma2(kd.QForAll([p,q],p,q,p))\n",
    "p1,q1 = l.intros()\n",
    "l.intros()\n",
    "l.cases(p1)\n",
    "l.auto()\n",
    "l.auto()\n",
    "#l.auto()\n",
    "#l.qed()\n"
   ]
  },
  {
   "cell_type": "code",
   "execution_count": 10,
   "metadata": {},
   "outputs": [
    {
     "data": {
      "text/plain": [
       "[|- Implies(And(2 == 2, 3 == 3),\n",
       "         Exists([x, y], And(x == 2, y == 3))),\n",
       " |- Implies(And, And(2 == 2, 3 == 3))]"
      ]
     },
     "execution_count": 10,
     "metadata": {},
     "output_type": "execute_result"
    }
   ],
   "source": [
    "from kdrag.all import *\n",
    "x,y,z = smt.Ints(\"x y z\")\n",
    "l = kd.tactics.Lemma2(smt.Exists([x], x**2 == 4 ))\n",
    "l.exists(smt.IntVal(2))\n",
    "l.auto()\n",
    "l.qed()\n",
    "\n",
    "\n",
    "l = kd.tactics.Lemma2(smt.Exists([x, y], smt.And(x == 2, y == 3)))\n",
    "l.exists(smt.IntVal(2), smt.IntVal(3))\n",
    "l.auto()\n",
    "\n",
    "#l.qed()\n",
    "l.lemmas"
   ]
  },
  {
   "cell_type": "code",
   "execution_count": null,
   "metadata": {},
   "outputs": [
    {
     "name": "stdout",
     "output_type": "stream",
     "text": [
      "P(Z!210) True [Z!210]\n",
      "pmatch [] P(Z!210) P(x!209) {}\n",
      "pmatch [] Z!210 x!209 {}\n"
     ]
    },
    {
     "data": {
      "text/html": [
       "&#8870;ForAll(x, P(x))"
      ],
      "text/plain": [
       "|- ForAll(x, P(x))"
      ]
     },
     "execution_count": 3,
     "metadata": {},
     "output_type": "execute_result"
    }
   ],
   "source": [
    "from kdrag.all import *\n",
    "x,y,z = smt.Ints(\"x y z\")\n",
    "P = smt.Function(\"P\", smt.IntSort(), smt.BoolSort())\n",
    "myax = kd.axiom(smt.ForAll([z], P(z)))\n",
    "l = kd.tactics.Lemma(kd.QForAll([x], P(x)))\n",
    "x1 = l.intros()\n",
    "l.apply(myax)\n",
    "\n",
    "l.qed()\n"
   ]
  },
  {
   "cell_type": "markdown",
   "metadata": {},
   "source": [
    "This is the first time I recall seeing z3 swap the order of what I gave it...\n",
    "Is it the exists that is doing this?\n"
   ]
  },
  {
   "cell_type": "code",
   "execution_count": null,
   "metadata": {},
   "outputs": [
    {
     "data": {
      "text/html": [
       "(&exist;y : x = 2&middot;y) = (x &ge; 14)"
      ],
      "text/plain": [
       "(Exists(y, x == 2*y)) == (x >= 14)"
      ]
     },
     "execution_count": 17,
     "metadata": {},
     "output_type": "execute_result"
    }
   ],
   "source": [
    "#smt.ForAll([x], even(x) == (x == 2 * y))\n",
    "import z3\n",
    "x,y = z3.Ints(\"x y\")\n",
    "(x >= 14) == z3.Exists([y], x == 2 * y) # swaps order of eqaution\n",
    "(x >= 14) == z3.ForAll([y], x == 2 * y) # swaps order of equation\n",
    "z3.ForAll([x], (x >= 14)) == z3.Exists([y], x == 2 * y) # doesn't swap\n",
    "f = z3.Const(\"f\", z3.ArraySort(z3.IntSort(), z3.BoolSort()))\n",
    "f == z3.Lambda([x], x == 2 * y) #doesn't swap\n",
    "z3.Exists([y], x == 2 * y) == (x >= 14) # doesn't swap"
   ]
  },
  {
   "cell_type": "code",
   "execution_count": 26,
   "metadata": {},
   "outputs": [
    {
     "data": {
      "text/html": [
       "(&exist;y : x = 2&middot;y) = (13 &ge; 1 + 2)"
      ],
      "text/plain": [
       "(Exists(y, x == 2*y)) == (13 >= 1 + 2)"
      ]
     },
     "execution_count": 26,
     "metadata": {},
     "output_type": "execute_result"
    }
   ],
   "source": [
    "(z3.IntVal(13) >= z3.IntVal(1) + z3.IntVal(2)) == z3.Exists([y], x == 2 * y)"
   ]
  },
  {
   "cell_type": "code",
   "execution_count": 27,
   "metadata": {},
   "outputs": [
    {
     "data": {
      "text/html": [
       "3 = 1 + 2"
      ],
      "text/plain": [
       "3 == 1 + 2"
      ]
     },
     "execution_count": 27,
     "metadata": {},
     "output_type": "execute_result"
    }
   ],
   "source": [
    "z3.IntVal(1) + z3.IntVal(2) == z3.IntVal(3)"
   ]
  },
  {
   "cell_type": "code",
   "execution_count": 29,
   "metadata": {},
   "outputs": [
    {
     "data": {
      "text/plain": [
       "'4.13.3'"
      ]
     },
     "execution_count": 29,
     "metadata": {},
     "output_type": "execute_result"
    }
   ],
   "source": [
    "z3.get_version_string()"
   ]
  },
  {
   "cell_type": "code",
   "execution_count": 31,
   "metadata": {},
   "outputs": [
    {
     "data": {
      "text/html": [
       "2 + 5 = 1 + 2"
      ],
      "text/plain": [
       "2 + 5 == 1 + 2"
      ]
     },
     "execution_count": 31,
     "metadata": {},
     "output_type": "execute_result"
    }
   ],
   "source": [
    "z3.IntVal(1) + z3.IntVal(2) == z3.IntVal(3)\n",
    "z3.IntVal(3) == z3.IntVal(1) + z3.IntVal(2) \n",
    "z3.IntVal(2) + z3.IntVal(5)  == z3.IntVal(1) + z3.IntVal(2) "
   ]
  },
  {
   "cell_type": "markdown",
   "metadata": {},
   "source": []
  },
  {
   "cell_type": "code",
   "execution_count": 3,
   "metadata": {},
   "outputs": [],
   "source": [
    "from kdrag.all import *\n",
    "x,y = smt.Ints(\"x y\")\n",
    "even = kd.define(\"even\", [x], smt.Exists([y], x == 2 * y))\n",
    "odd = kd.define(\"odd\", [x], smt.Exists([y], x == 2 * y + 1))\n",
    "\n",
    "\n",
    "for i in range(100):\n",
    "    evdef2 = kd.lemma(smt.ForAll([x], even(x) == smt.Exists([y], x == 2 * y)), by=[even.defn])\n",
    "    l = kd.Lemma(kd.QForAll([x], even(x), even(x+2)))\n",
    "    x1 = l.intros()\n",
    "    l.intros()\n",
    "    l.apply(even.defn, rev=True)\n",
    "    l.rewrite(even.defn, at=0, rev=True)\n",
    "    y1 = l.einstan(0)\n",
    "    l.exists(y1 + 1)\n",
    "    l.auto()\n",
    "    l.qed()\n",
    "    #kd.kernel.lemma(kd.QForAll([x], even(x), even(x+2)), by=[even.defn])\n",
    "    #l.exists(y1 + 1)\n",
    "    #evdef2.thm.body()\n",
    "\n",
    "    l = kd.Lemma(kd.QForAll([x], even(x), even(x+2)))\n",
    "    [\n",
    "        x1 := l.intros(),\n",
    "        l.intros(),\n",
    "        l.apply(even.defn, rev=True),\n",
    "        l.rewrite(even.defn, at=0, rev=True),\n",
    "        y1 := l.einstan(0),\n",
    "        l.exists(y1 + 1),\n",
    "        l.auto(),\n",
    "    ]\n",
    "    l.qed()\n",
    "\n"
   ]
  },
  {
   "cell_type": "code",
   "execution_count": null,
   "metadata": {},
   "outputs": [
    {
     "data": {
      "text/html": [
       "&#8870;ForAll(x, Or(x == nil, Exists([z, y], x == cons(z, y))))"
      ],
      "text/plain": [
       "|- ForAll(x, Or(x == nil, Exists([z, y], x == cons(z, y))))"
      ]
     },
     "execution_count": 3,
     "metadata": {},
     "output_type": "execute_result"
    }
   ],
   "source": [
    "from kdrag.all import *\n",
    "\n",
    "IntList = smt.Datatype(\"IntList\")\n",
    "IntList.declare(\"nil\")\n",
    "IntList.declare(\"cons\", (\"car\", smt.IntSort()), (\"cdr\", IntList))\n",
    "IntList = IntList.create()\n",
    "\n",
    "x, y = smt.Consts(\"x y\", IntList)\n",
    "z = smt.Int(\"z\")\n",
    "\n",
    "l = kd.lemma(\n",
    "    smt.ForAll(\n",
    "        [x], smt.Or(x == IntList.nil, smt.Exists([y, z], x == IntList.cons(z, y)))\n",
    "    )\n",
    ")\n",
    "l = kd.Lemma(\n",
    "    smt.ForAll(\n",
    "        [x], smt.Or(x == IntList.nil, smt.Exists([z, y], x == IntList.cons(z, y)))\n",
    "    )\n",
    ")\n",
    "[\n",
    "    x1 := l.intros(),\n",
    "    l.cases(x1),\n",
    "    [l.left(), l.auto()],\n",
    "    [l.right(), l.exists(x1.car, x1.cdr), l.auto()],\n",
    "]\n",
    "l.qed()\n",
    "\n",
    "# kd.kernel.lemma(smt.ForAll([x], smt.Implies(x.is_cons, x == IntList.cons(x.car,x.cdr))))\n",
    "# l.goals[-1].goal"
   ]
  },
  {
   "cell_type": "code",
   "execution_count": 8,
   "metadata": {},
   "outputs": [
    {
     "data": {
      "text/html": [
       "&#8870;ForAll(x, sqr(sqr(x)) == x*x*x*x)"
      ],
      "text/plain": [
       "|- ForAll(x, sqr(sqr(x)) == x*x*x*x)"
      ]
     },
     "execution_count": 8,
     "metadata": {},
     "output_type": "execute_result"
    }
   ],
   "source": [
    "from kdrag.all import *\n",
    "x = smt.Int(\"x\")\n",
    "sqr = kd.define(\"sqr\", [x], x * x)\n",
    "l = kd.Lemma(smt.ForAll([x], sqr(x) == x * x))\n",
    "l.intros()\n",
    "l.unfold(sqr)\n",
    "l.auto()\n",
    "l.qed()\n",
    "l = kd.Lemma(smt.ForAll([x], sqr(sqr(x)) == x*x*x * x))\n",
    "l.intros()\n",
    "l.unfold(sqr)\n",
    "l.unfold(sqr)\n",
    "l.auto()\n",
    "l.qed()\n"
   ]
  },
  {
   "cell_type": "code",
   "execution_count": null,
   "metadata": {},
   "outputs": [
    {
     "data": {
      "text/plain": [
       "'is(biz)'"
      ]
     },
     "execution_count": 15,
     "metadata": {},
     "output_type": "execute_result"
    }
   ],
   "source": [
    "foo = smt.Datatype(\"foo\")\n",
    "foo.declare(\"biz\", (\"myint\", smt.IntSort()))\n",
    "foo = foo.create()\n",
    "foo.is_biz"
   ]
  },
  {
   "cell_type": "markdown",
   "metadata": {},
   "source": [
    "https://softwarefoundations.cis.upenn.edu/lf-current/Logic.html\n"
   ]
  },
  {
   "cell_type": "code",
   "execution_count": null,
   "metadata": {},
   "outputs": [
    {
     "data": {
      "text/plain": [
       "[Or(m!588 == 0, n!589 == 0), Not(m!588 == 0), n!589 == 0] ?|- n!589 == 0"
      ]
     },
     "execution_count": 48,
     "metadata": {},
     "output_type": "execute_result"
    }
   ],
   "source": [
    "from kdrag.all import *\n",
    "m,n = smt.Ints(\"m n\")\n",
    "l = kd.Lemma(kd.QForAll([m,n], smt.Or(m == 0, n == 0), m*n == 0))\n",
    "m1,n1 = l.intros()\n",
    "l.intros()\n",
    "l.cases(m1 == 0)\n",
    "l.auto()\n",
    "l.have(n1 == 0)\n"
   ]
  },
  {
   "cell_type": "code",
   "execution_count": null,
   "metadata": {},
   "outputs": [],
   "source": [
    "l.auto()\n",
    "l.qed()\n",
    "kd.lemma(kd.QForAll([m,n], smt.Or(m == 0, n == 0), m*n == 0))"
   ]
  },
  {
   "cell_type": "code",
   "execution_count": 3,
   "metadata": {},
   "outputs": [
    {
     "data": {
      "text/html": [
       "&#8870;Implies(p, Or(q, q, q, p))"
      ],
      "text/plain": [
       "|- Implies(p, Or(q, q, q, p))"
      ]
     },
     "execution_count": 3,
     "metadata": {},
     "output_type": "execute_result"
    }
   ],
   "source": [
    "from kdrag.all import *\n",
    "p,q = smt.Bools(\"p q\")\n",
    "l = kd.Lemma(smt.Implies(p, smt.Or(p,q)))\n",
    "l.intros()\n",
    "l.left()\n",
    "l.auto()\n",
    "l.qed()\n",
    "\n",
    "l = kd.Lemma(smt.Implies(q, smt.Or(p,p,p,q,p)))\n",
    "l.intros()\n",
    "l.left(3)\n",
    "l.auto()\n",
    "l.qed()\n",
    "\n",
    "l = kd.Lemma(smt.Implies(p, smt.Or(q,q,q,p)))\n",
    "l.intros()\n",
    "l.right()\n",
    "l.qed()\n"
   ]
  },
  {
   "cell_type": "markdown",
   "metadata": {},
   "source": [
    "# sympy tactical\n",
    "\n",
    "Use sympy to derive new simplification goals.\n",
    "\n",
    "Maybe try to automatically derive, but if can't just put the equation on the goal stack.\n",
    "\n",
    "\n",
    "Use singularities as warnings.\n"
   ]
  },
  {
   "cell_type": "code",
   "execution_count": null,
   "metadata": {},
   "outputs": [],
   "source": [
    "def expand(l : Lemma, t:term):\n",
    "    vs, ctx, goal = l.top_goal()\n",
    "    newt = smt_of_sympy(sympy_of_smt(vs, t).expand())\n",
    "    goals.pop()\n",
    "    goals.append(Sequent(vs,ctx + [t == newt], goals))\n",
    "    goals.append(Sequent(vs,goals, t == newt)\n",
    "    try:\n",
    "        l.auto()\n",
    "    except:\n",
    "        pass\n",
    "def lim(self):\n",
    "def integ():\n",
    "def trigexpand():\n",
    "def trigreduce():\n",
    "def factor():\n",
    "def simplify(l):\n",
    "    "
   ]
  },
  {
   "cell_type": "code",
   "execution_count": null,
   "metadata": {},
   "outputs": [
    {
     "data": {
      "text/html": [
       "&#8870;ForAll(x, length(x) >= 0)"
      ],
      "text/plain": [
       "|- ForAll(x, length(x) >= 0)"
      ]
     },
     "execution_count": 20,
     "metadata": {},
     "output_type": "execute_result"
    }
   ],
   "source": [
    "\n"
   ]
  },
  {
   "cell_type": "markdown",
   "metadata": {},
   "source": [
    "I susepct "
   ]
  }
 ],
 "metadata": {
  "kernelspec": {
   "display_name": "Python 3",
   "language": "python",
   "name": "python3"
  },
  "language_info": {
   "codemirror_mode": {
    "name": "ipython",
    "version": 3
   },
   "file_extension": ".py",
   "mimetype": "text/x-python",
   "name": "python",
   "nbconvert_exporter": "python",
   "pygments_lexer": "ipython3",
   "version": "3.10.12"
  }
 },
 "nbformat": 4,
 "nbformat_minor": 2
}
