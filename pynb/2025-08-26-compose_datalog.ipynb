{
 "cells": [
  {
   "cell_type": "markdown",
   "id": "30f11fe3",
   "metadata": {},
   "source": [
    "---\n",
    "title: \"Compositional Datalog on SQL: Relational Algebra of the Environment\"\n",
    "date: 2025-08-26\n",
    "---\n",
    "\n",
    "I spent some time before making Datalogs that translated into SQL. https://www.philipzucker.com/tiny-sqlite-datalog/ \n",
    "\n",
    "There are advantages. SQL engines are very well engineered and commonly available. [SQLite](https://sqlite.org/) and [DuckDB](https://duckdb.org/) are a pretty great one-two punch.\n",
    "\n",
    "A new twist on how to do this occurred to me that seems very clean compared to my previous methods.\n",
    "\n",
    "Basically, the relational algebra style of SQL actually meshes with manipulating the Datalog body _environments_ (sets of named variables bindings) better then it meshes with the base Datalog relations themselves (`edge`, `path`, etc).\n",
    "\n",
    "As a cheeky bonus as the end, you can do semi-naive by using the dual number https://en.wikipedia.org/wiki/Dual_number trick from forward mode automatic differentiation over these environment relations. \n",
    "\n",
    "You can tinker on this post yourself on colab here <https://colab.research.google.com/github/philzook58/philzook58.github.io/blob/master/pynb/2025-08-26-compose_datalog.ipynb>\n"
   ]
  },
  {
   "cell_type": "markdown",
   "id": "b3f80920",
   "metadata": {},
   "source": [
    "# The Environment As a Relation\n",
    "The core bits of `SELECT-FROM-WHERE` SQL, select-project-join relational algebra expressions, and datalog bodies are all expressing roughly the same thing: [conjunctive queries](https://en.wikipedia.org/wiki/Conjunctive_query).\n",
    "\n",
    "I rather like the syntax of a Datalog. It presents as both operational and logical. \n",
    "\n",
    "It is also pretty close to a SQL query, but it takes a _jussst_ a little work because of incompatibilities\n",
    "\n",
    "In SQL:\n",
    "- columns names are properties of the tables like `myrow.name`\n",
    "- rows can be locally named in `FROM mytable as myrow` \n",
    "\n",
    "In Datalog:\n",
    "- The columns are referred to positionally\n",
    "- entries of rows are bound to variables `edge(1,X)`\n",
    "\n",
    "If you write a Datalog interpreter, like most interpreters, you'll thread through a environment mapping variables names to values `type Env = dict[Var, Value]`. Datalog interpreters are branching in the sense that to bind a variable there are many choices (which row in the table to use). Roughly, an interpreter of a query has the signature `interp : expr -> database -> env -> set[env]`.\n",
    "\n",
    "It is a basic trick that I vaguely associated with [finally tagless](https://okmij.org/ftp/tagless-final/index.html) that you can remove the middle man of the AST when you have an expression datatype and instead just use combinators which are basically partially applied versions of the interpreter to the expressions `interp myexp : database -> env -> set[env]`.\n",
    "\n",
    "You don't actually have to thread that `env` through though. \n",
    "\n",
    "Really the semantics of a base expressions like `path(X,Y) : db -> set[env]` are a function from the database to a set of environments. You can combine them by performing inner joins on these primitive pieces, joining by variable names in the environments. SQL rocks at inner joins.\n",
    "\n",
    "As a toy model of these ideas, this is a naive combinator based implementation in Python.\n",
    "\n",
    "Here I make a combinator `reldecl` that pulls a named table out of the database and filters on the args. This step converts from a base relation to an environment."
   ]
  },
  {
   "cell_type": "code",
   "execution_count": 35,
   "id": "7a7d741c",
   "metadata": {},
   "outputs": [],
   "source": [
    "from typing import Callable\n",
    "type Var = str\n",
    "type Env = dict[Var, object]\n",
    "type DB = dict[str, set[tuple(object,...)]]\n",
    "type Query = Callable[[DB], list[Env]]\n",
    "from dataclasses import dataclass\n",
    "\n",
    "@dataclass(frozen=True)\n",
    "class Var():\n",
    "    name : str\n",
    "\n",
    "def reldecl(name: str) -> Callable[..., Query]:\n",
    "    def rel(*args) -> Query:\n",
    "        def res(db: DB) -> list[Env]:\n",
    "            R = db[name]\n",
    "            envs = []\n",
    "            for row in R:\n",
    "                env = {}\n",
    "                for arg, val in zip(args, row):\n",
    "                    if isinstance(arg, Var):\n",
    "                        if arg in env and env[arg] != val:\n",
    "                            break\n",
    "                        env[arg] = val\n",
    "                    else:\n",
    "                        if arg != val:\n",
    "                            break\n",
    "                else:\n",
    "                    envs.append(env)\n",
    "            return envs\n",
    "        return res\n",
    "    return rel\n",
    "\n"
   ]
  },
  {
   "cell_type": "markdown",
   "id": "94b132e8",
   "metadata": {},
   "source": [
    "Some usage examples. We make a database and get all the `edge` entries through a query"
   ]
  },
  {
   "cell_type": "code",
   "execution_count": 36,
   "id": "61ca6539",
   "metadata": {},
   "outputs": [
    {
     "data": {
      "text/plain": [
       "[{Var(name='x'): 2, Var(name='y'): 3},\n",
       " {Var(name='x'): 1, Var(name='y'): 2},\n",
       " {Var(name='x'): 3, Var(name='y'): 3},\n",
       " {Var(name='x'): 2, Var(name='y'): 1},\n",
       " {Var(name='x'): 3, Var(name='y'): 4}]"
      ]
     },
     "execution_count": 36,
     "metadata": {},
     "output_type": "execute_result"
    }
   ],
   "source": [
    "db = {\"edge\" : {(1,2), (2,3), (3,4), (2,1), (3,3)}, \n",
    "      \"color\" : {(\"red\",), (\"blue\",), (\"green\",)}}\n",
    "edge = reldecl(\"edge\")\n",
    "color = reldecl(\"color\")\n",
    "x,y,z = Var(\"x\"), Var(\"y\"), Var(\"z\")\n",
    "edge(x,y)(db)"
   ]
  },
  {
   "cell_type": "markdown",
   "id": "bb1787dc",
   "metadata": {},
   "source": [
    "All color query"
   ]
  },
  {
   "cell_type": "code",
   "execution_count": 37,
   "id": "913f33d1",
   "metadata": {},
   "outputs": [
    {
     "data": {
      "text/plain": [
       "[{Var(name='x'): 'red'}, {Var(name='x'): 'blue'}, {Var(name='x'): 'green'}]"
      ]
     },
     "execution_count": 37,
     "metadata": {},
     "output_type": "execute_result"
    }
   ],
   "source": [
    "color(x)(db)"
   ]
  },
  {
   "cell_type": "markdown",
   "id": "37f6f5f5",
   "metadata": {},
   "source": [
    "Is `\"red\"` in the color table?"
   ]
  },
  {
   "cell_type": "code",
   "execution_count": 38,
   "id": "c6dbfef9",
   "metadata": {},
   "outputs": [
    {
     "data": {
      "text/plain": [
       "[{}]"
      ]
     },
     "execution_count": 38,
     "metadata": {},
     "output_type": "execute_result"
    }
   ],
   "source": [
    "color(\"red\")(db) # succeeds"
   ]
  },
  {
   "cell_type": "markdown",
   "id": "8a35fb75",
   "metadata": {},
   "source": [
    "Is `\"black\"` in the color table?"
   ]
  },
  {
   "cell_type": "code",
   "execution_count": 39,
   "id": "5afb4f40",
   "metadata": {},
   "outputs": [
    {
     "data": {
      "text/plain": [
       "[]"
      ]
     },
     "execution_count": 39,
     "metadata": {},
     "output_type": "execute_result"
    }
   ],
   "source": [
    "color(\"black\")(db) # fails"
   ]
  },
  {
   "cell_type": "markdown",
   "id": "6298073e",
   "metadata": {},
   "source": [
    "All self edges"
   ]
  },
  {
   "cell_type": "code",
   "execution_count": 40,
   "id": "f3e1c3f1",
   "metadata": {},
   "outputs": [
    {
     "data": {
      "text/plain": [
       "[{Var(name='x'): 3}]"
      ]
     },
     "execution_count": 40,
     "metadata": {},
     "output_type": "execute_result"
    }
   ],
   "source": [
    "edge(x, x)(db)"
   ]
  },
  {
   "cell_type": "markdown",
   "id": "b128589e",
   "metadata": {},
   "source": [
    "Now we want to be able to conjoin subqueries. You can conjoin them by performing inner joins on these primitive pieces, joining by variable names in the environments. SQL rocks at inner joins, which is what we'll get to next. Here, this is done in the most naive why via a nested loop join https://en.wikipedia.org/wiki/Nested_loop_join"
   ]
  },
  {
   "cell_type": "code",
   "execution_count": 41,
   "id": "b4ea86d7",
   "metadata": {},
   "outputs": [
    {
     "data": {
      "text/plain": [
       "[{Var(name='y'): 1, Var(name='x'): 2},\n",
       " {Var(name='y'): 3, Var(name='x'): 3},\n",
       " {Var(name='y'): 2, Var(name='x'): 1}]"
      ]
     },
     "execution_count": 41,
     "metadata": {},
     "output_type": "execute_result"
    }
   ],
   "source": [
    "def conj(*queries: Query) -> Query:\n",
    "    def res(db : DB) -> list[Env]:\n",
    "        envs = [{}]\n",
    "        for query in queries:\n",
    "            R = query(db)\n",
    "            newenvs = []        \n",
    "            for env1 in R:\n",
    "                for env2 in envs:\n",
    "                    if all(env1[k] == env2[k] for k in set(env1.keys()) & set(env2.keys())):\n",
    "                        newenvs.append(env1 | env2)\n",
    "            envs = newenvs\n",
    "        return envs\n",
    "    return res\n",
    "\n",
    "conj(edge(x, y), edge(y, x))(db)"
   ]
  },
  {
   "cell_type": "markdown",
   "id": "66c7c23f",
   "metadata": {},
   "source": [
    "Heads of rules are a semantically distinct thing from the relation expressions that appear in the body of the expression. The head actually mutates the database given an environment. The environment in particular ought to be derived from a query giving a semantic signature  `type Action = Query -> DB -> DB`. You could of course also just mutate the db rather than return a new version purely functionally."
   ]
  },
  {
   "cell_type": "code",
   "execution_count": 42,
   "id": "fffe16f8",
   "metadata": {},
   "outputs": [
    {
     "data": {
      "text/plain": [
       "{'edge': {(1, 2), (2, 1), (2, 3), (3, 2), (3, 3), (3, 4)},\n",
       " 'color': {('blue',), ('green',), ('red',)}}"
      ]
     },
     "execution_count": 42,
     "metadata": {},
     "output_type": "execute_result"
    }
   ],
   "source": [
    "type Action = Callable[[DB, Query], DB]\n",
    "\n",
    "def headdecl(name : str):\n",
    "    def rel(*args) -> Action:\n",
    "        def res(query : Query, db : DB) -> DB:\n",
    "            envs = query(db)\n",
    "            Rold = db.get(name, set())\n",
    "            Rnew = {tuple(env[arg] if isinstance(arg,Var) else arg for arg in args) for env in envs}\n",
    "            return {**db, **{name : Rnew | Rold}}\n",
    "        return res\n",
    "    return rel\n",
    "\n",
    "edgeh = headdecl(\"edge\")\n",
    "# edge(x,y) :- edge(y,x), edge(x,x)\n",
    "edgeh(x, y)(conj(edge(y, x), edge(x,x)), db)\n"
   ]
  },
  {
   "cell_type": "markdown",
   "id": "a4533cc8",
   "metadata": {},
   "source": [
    "# SQLizing\n",
    "We can push this thing around in sort of a staged metaprogramming style https://okmij.org/ftp/ML/MetaOCaml.html to instead produce `code (db -> set[env])`, the code in particular being strings of SQL.\n",
    "\n",
    "In the following, the simplicity of what is happening is largely being obscured by the nastiness of constructing SQL strings but it is basically the same as the above. I typically construct my `froms`, `wheres`, and `selects` in python lists and then join them together into fstrings.\n",
    "\n",
    "I chose to wrap things in classes in order to get nice operator overloading `path(x,z) <= edge(x,y) & path(y,z)`. It was too cute to not do. This does bulk out the implementation compared to the combinator style I did above.\n",
    "\n",
    "`EnvRel` is spiritually a `code (db -> set env)`"
   ]
  },
  {
   "cell_type": "code",
   "execution_count": 43,
   "id": "35b81d38",
   "metadata": {},
   "outputs": [],
   "source": [
    "from dataclasses import dataclass\n",
    "\n",
    "type SQL = str\n",
    "\n",
    "@dataclass(frozen=True)\n",
    "class Var():\n",
    "    name : str\n",
    "\n",
    "@dataclass\n",
    "class EnvRel():\n",
    "    \"\"\"\n",
    "    A relation representing the datalog environment. It has named columns representing\n",
    "    the datalog variables currently bound.\n",
    "    For example\n",
    "    path(\"x\", \"y\") :- edge(\"x\", \"y\") has \n",
    "    \"\"\"\n",
    "    cols : set[Var] # reverse these two.\n",
    "    code : str\n",
    "    def __and__(self, other: \"EnvRel\") -> \"EnvRel\":\n",
    "        # Does an inner join. The analog of `conj` from before.\n",
    "        cols = self.cols | other.cols\n",
    "        on_clause = \" AND \".join(f\"t1.{c.name} = t2.{c.name}\" for c in (self.cols & other.cols))\n",
    "        if on_clause != \"\":\n",
    "            on_clause = \"WHERE \" + on_clause\n",
    "        selects = [f\"t1.{c.name} AS {c.name}\" for c in self.cols] + [f\"t2.{c.name} AS {c.name}\" for c in other.cols if c not in self.cols]\n",
    "        code = f\"SELECT {\", \".join(selects)}\\nFROM ({self.code}) AS t1,\\n({other.code}) AS t2\\n{on_clause}\"\n",
    "        return EnvRel(cols, code)\n",
    "    def __or__(self, other : \"EnvRel\") -> \"EnvRel\":\n",
    "        assert self.cols == other.cols, \"Can only union relations with same columns\"\n",
    "        return EnvRel(self.cols, f\"SELECT {\", \".join([c.name for c in self.cols])}\\n FROM ({self.code}\\nUNION {other.code})\")\n",
    "\n",
    "\n",
    "x,y,z,w = Var(\"x\"), Var(\"y\"), Var(\"z\"), Var(\"w\")"
   ]
  },
  {
   "cell_type": "markdown",
   "id": "9e63f321",
   "metadata": {},
   "source": [
    "Like before, a lot of the action actually happens in converting from the actual applied base relation decl to an environment containing the results of the query.\n",
    "\n",
    "A nice syntactic trick is to use `myrel(x)` for actions and `myrel[x]` for queries. I believe I first saw this in SLOG https://arxiv.org/abs/2411.14330 https://arxiv.org/abs/2211.11573 or maybe Relational AI's thing?"
   ]
  },
  {
   "cell_type": "code",
   "execution_count": 44,
   "id": "a5c8b39b",
   "metadata": {},
   "outputs": [],
   "source": [
    "from dataclasses import dataclass\n",
    "\n",
    "@dataclass\n",
    "class RelDecl:\n",
    "    \"\"\"\n",
    "    RelDecl is the unapplied function symbol like edge/2 or path/2\n",
    "    \"\"\"\n",
    "    name : str\n",
    "    arity : int\n",
    "    def create(self) -> SQL:\n",
    "        \"\"\"\n",
    "        SQL command to create corresponding table with primary key on all columns x0,x1,x2, ... .\n",
    "        \"\"\"\n",
    "        cols = [f\"x{i}\" for i in range(self.arity)]\n",
    "        return f\"CREATE TABLE IF NOT EXISTS {self.name} ({', '.join(cols)}, PRIMARY KEY ({', '.join(cols)}))\"\n",
    "    def __call__(self, *args) -> \"Head\":\n",
    "        \"\"\"\n",
    "        rel(...) notation is used in the head. They represent facts to be inserted into the database\n",
    "        \"\"\"\n",
    "        return Head(self, args)\n",
    "    def __getitem__(self, args) -> \"EnvRel\":\n",
    "        \"\"\"\n",
    "        rel[...] notation is used in the body. They represent queries on the database.\n",
    "\n",
    "        This is where the action happens converting the base names into the environment\n",
    "        \"\"\"\n",
    "        # min_arg is a kind of determinstic union find. Pick minimum index as canonical\n",
    "        min_arg = {a : min(j for j,b in enumerate(args) if a == b) for a in args if isinstance(a, Var)}\n",
    "        wheres = [f\"x{i} = x{min_arg[a]}\" for (i, a) in enumerate(args) if isinstance(a, Var) and min_arg[a] != i]\n",
    "        # constant projections\n",
    "        wheres +=  [f\"x{n} = {str(arg)}\" for n,arg in enumerate(args) if not isinstance(arg, Var)]\n",
    "        if wheres:\n",
    "            wheres = \"WHERE \" + \" AND \".join(wheres)\n",
    "        else:\n",
    "            wheres = \"\"\n",
    "        cols = set(a for a in args if isinstance(a, Var))\n",
    "        if not min_arg:\n",
    "            selects = \"NULL\"\n",
    "        else:\n",
    "            selects = \", \".join(f\"x{j} AS {a.name}\" for a,j in min_arg.items())\n",
    "            #selects = \", \".join(f\"x{n} as {arg}\" for n,arg in enumerate(args) if isinstance(arg, str))\n",
    "        return EnvRel(cols, f\"SELECT {selects}\\nFROM {self.name}\\n{wheres}\")"
   ]
  },
  {
   "cell_type": "markdown",
   "id": "c956b0fd",
   "metadata": {},
   "source": [
    "It is easiest to see how this really works by looking at particular examples of the output SQL."
   ]
  },
  {
   "cell_type": "code",
   "execution_count": 45,
   "id": "c8ec88cd",
   "metadata": {},
   "outputs": [
    {
     "name": "stdout",
     "output_type": "stream",
     "text": [
      "SELECT x0 AS x, x1 AS y\n",
      "FROM edge\n",
      "\n"
     ]
    }
   ],
   "source": [
    "edge = RelDecl(\"edge\", 2)\n",
    "path = RelDecl(\"path\", 2)\n",
    "\n",
    "print(edge[x,y].code)\n"
   ]
  },
  {
   "cell_type": "markdown",
   "id": "b581fd04",
   "metadata": {},
   "source": [
    "Here is a constant query"
   ]
  },
  {
   "cell_type": "code",
   "execution_count": 46,
   "id": "184ec22f",
   "metadata": {},
   "outputs": [
    {
     "name": "stdout",
     "output_type": "stream",
     "text": [
      "SELECT NULL\n",
      "FROM edge\n",
      "WHERE x0 = 2 AND x1 = 1\n"
     ]
    }
   ],
   "source": [
    "print(edge[2,1].code)"
   ]
  },
  {
   "cell_type": "markdown",
   "id": "b199b91f",
   "metadata": {},
   "source": [
    "A slightly projective query"
   ]
  },
  {
   "cell_type": "code",
   "execution_count": 47,
   "id": "e6390954",
   "metadata": {},
   "outputs": [
    {
     "name": "stdout",
     "output_type": "stream",
     "text": [
      "SELECT x0 AS x\n",
      "FROM edge\n",
      "WHERE x1 = 1\n"
     ]
    }
   ],
   "source": [
    "print(edge[x,1].code)"
   ]
  },
  {
   "cell_type": "markdown",
   "id": "70018b0f",
   "metadata": {},
   "source": [
    "Actually running it."
   ]
  },
  {
   "cell_type": "code",
   "execution_count": 48,
   "id": "c432c645",
   "metadata": {},
   "outputs": [
    {
     "data": {
      "text/plain": [
       "[(1, 2), (2, 3), (3, 4), (4, 5), (5, 5)]"
      ]
     },
     "execution_count": 48,
     "metadata": {},
     "output_type": "execute_result"
    }
   ],
   "source": [
    "import sqlite3\n",
    "\n",
    "db = sqlite3.connect(\":memory:\")\n",
    "db.execute(edge.create())\n",
    "db.execute(path.create())\n",
    "db.execute(\"INSERT INTO edge (x0, x1) VALUES (1,2), (2,3), (3,4), (4,5), (5,5)\")\n",
    "db.execute(edge[x,y].code).fetchall()"
   ]
  },
  {
   "cell_type": "code",
   "execution_count": 49,
   "id": "73cc3d97",
   "metadata": {},
   "outputs": [
    {
     "data": {
      "text/plain": [
       "[(5,)]"
      ]
     },
     "execution_count": 49,
     "metadata": {},
     "output_type": "execute_result"
    }
   ],
   "source": [
    "db.execute(edge[x,x].code).fetchall()"
   ]
  },
  {
   "cell_type": "code",
   "execution_count": 50,
   "id": "d57ec5e5",
   "metadata": {},
   "outputs": [
    {
     "data": {
      "text/plain": [
       "[(2, 1, 3), (3, 2, 4), (4, 3, 5), (5, 4, 5), (5, 5, 5)]"
      ]
     },
     "execution_count": 50,
     "metadata": {},
     "output_type": "execute_result"
    }
   ],
   "source": [
    "db.execute((edge[x,y] & edge[y,z]).code).fetchall()"
   ]
  },
  {
   "cell_type": "code",
   "execution_count": 51,
   "id": "5a646b63",
   "metadata": {},
   "outputs": [
    {
     "data": {
      "text/plain": [
       "[(2,)]"
      ]
     },
     "execution_count": 51,
     "metadata": {},
     "output_type": "execute_result"
    }
   ],
   "source": [
    "db.execute(edge[x,3].code).fetchall()"
   ]
  },
  {
   "cell_type": "markdown",
   "id": "fba52de6",
   "metadata": {},
   "source": [
    "I made an auxiliary class for applied `RelDecl` so that I can have nice `<=` notation. `<=` is lower precedence than `&`, which is the precedence I want for datalog rules."
   ]
  },
  {
   "cell_type": "code",
   "execution_count": 52,
   "id": "fdb45612",
   "metadata": {},
   "outputs": [],
   "source": [
    "@dataclass\n",
    "class Head:\n",
    "    \"\"\"\n",
    "    This is the applied function symbol to arguments e.g. rel(1,2,3). Mainly I did this to get <= for the heads of rules.\n",
    "    \"\"\"\n",
    "    r : RelDecl\n",
    "    args : list[object]\n",
    "    def fact(self):\n",
    "        assert all(not isinstance(a, Var) for a in self.args)\n",
    "        return f\"INSERT OR IGNORE INTO {self.r.name}\\nVALUES ({', '.join(str(a) for a in self.args)})\"\n",
    "    def __le__(self, body : EnvRel) -> SQL:\n",
    "        selects = [a.name if isinstance(a, Var) else str(a) for a in self.args]\n",
    "        return f\"INSERT OR IGNORE INTO {self.r.name}\\nSELECT {\",\".join(selects)}\\nFROM ({body.code})\"\n"
   ]
  },
  {
   "cell_type": "markdown",
   "id": "4086fdd7",
   "metadata": {},
   "source": [
    "Here is SQL resulting from the transitive closure query"
   ]
  },
  {
   "cell_type": "code",
   "execution_count": 53,
   "id": "dbfaa3c4",
   "metadata": {},
   "outputs": [
    {
     "name": "stdout",
     "output_type": "stream",
     "text": [
      "INSERT OR IGNORE INTO path\n",
      "SELECT x,y\n",
      "FROM (SELECT x0 AS x, x1 AS y\n",
      "FROM edge\n",
      ")\n"
     ]
    }
   ],
   "source": [
    "print(path(x,y) <= edge[x,y])"
   ]
  },
  {
   "cell_type": "code",
   "execution_count": 54,
   "id": "2dafaa8a",
   "metadata": {},
   "outputs": [
    {
     "data": {
      "text/plain": [
       "[(1, 2), (2, 3), (3, 4), (4, 5), (5, 5)]"
      ]
     },
     "execution_count": 54,
     "metadata": {},
     "output_type": "execute_result"
    }
   ],
   "source": [
    "db.execute(path(x,y) <= edge[x,y])\n",
    "db.execute(path[x,y].code).fetchall()"
   ]
  },
  {
   "cell_type": "code",
   "execution_count": 55,
   "id": "bb62893b",
   "metadata": {},
   "outputs": [
    {
     "name": "stdout",
     "output_type": "stream",
     "text": [
      "INSERT OR IGNORE INTO path\n",
      "SELECT x,z\n",
      "FROM (SELECT t1.y AS y, t1.x AS x, t2.z AS z\n",
      "FROM (SELECT x0 AS x, x1 AS y\n",
      "FROM edge\n",
      ") AS t1,\n",
      "(SELECT x0 AS y, x1 AS z\n",
      "FROM path\n",
      ") AS t2\n",
      "WHERE t1.y = t2.y)\n"
     ]
    }
   ],
   "source": [
    "print(path(x,z) <= edge[x,y] & path[y,z])"
   ]
  },
  {
   "cell_type": "code",
   "execution_count": 56,
   "id": "42f1ff36",
   "metadata": {},
   "outputs": [
    {
     "data": {
      "text/plain": [
       "[(1, 2), (2, 3), (3, 4), (4, 5), (5, 5), (1, 3), (2, 4), (3, 5)]"
      ]
     },
     "execution_count": 56,
     "metadata": {},
     "output_type": "execute_result"
    }
   ],
   "source": [
    "db.execute(path(x,z) <= edge[x,y] & path[y,z])\n",
    "db.execute(path[x,y].code).fetchall()"
   ]
  },
  {
   "cell_type": "markdown",
   "id": "2f4214d1",
   "metadata": {},
   "source": [
    "# Fixpoints\n",
    "\n",
    "Ok, but one of the points of datalog is that it has fixpoints. It runs the mutually dependent rules until they produce nothing new. These are nice for doing things like the transitive closure of a relation or performing program analyses.\n"
   ]
  },
  {
   "cell_type": "code",
   "execution_count": 57,
   "id": "3aee896f",
   "metadata": {},
   "outputs": [
    {
     "data": {
      "text/plain": [
       "[(1, 2), (2, 3), (1, 3)]"
      ]
     },
     "execution_count": 57,
     "metadata": {},
     "output_type": "execute_result"
    }
   ],
   "source": [
    "def naive_fix(db, rels, stmts, limit=4):\n",
    "    for rel in rels:\n",
    "        db.execute(rel.create())\n",
    "    for stmt in stmts:\n",
    "        if isinstance(stmt, Head):\n",
    "            db.execute(stmt.fact())\n",
    "    n = 0\n",
    "    while True:\n",
    "        n += 1\n",
    "        for stmt in stmts:\n",
    "            if isinstance(stmt, str):\n",
    "                db.execute(stmt)\n",
    "        if n > limit:\n",
    "            return\n",
    "db.execute(\"DELETE FROM edge\")\n",
    "db.execute(\"DELETE FROM path\")\n",
    "path = RelDecl(\"path\", 2)\n",
    "naive_fix(db, [edge, path], [\n",
    "    edge(1,2),\n",
    "    edge(2,3),\n",
    "    path(x,y) <= edge[x,y],\n",
    "    path(x,z) <= edge[x,y] & path[y,z]\n",
    "])\n",
    "db.execute(path[x,y].code).fetchall()"
   ]
  },
  {
   "cell_type": "code",
   "execution_count": 58,
   "id": "9ef07119",
   "metadata": {},
   "outputs": [
    {
     "name": "stdout",
     "output_type": "stream",
     "text": [
      "INSERT OR IGNORE INTO path\n",
      "SELECT x,z\n",
      "FROM (SELECT t1.y AS y, t1.x AS x, t2.z AS z\n",
      "FROM (SELECT x0 AS x, x1 AS y\n",
      "FROM edge\n",
      ") AS t1,\n",
      "(SELECT x0 AS y, x1 AS z\n",
      "FROM path\n",
      ") AS t2\n",
      "WHERE t1.y = t2.y)\n"
     ]
    }
   ],
   "source": [
    "print(path(x,z) <= edge[x,y] & path[y,z])"
   ]
  },
  {
   "cell_type": "code",
   "execution_count": 59,
   "id": "5baeb2f4",
   "metadata": {},
   "outputs": [
    {
     "data": {
      "text/plain": [
       "[(1, 2), (2, 3), (4, 5), (2, 1), (3, 2), (5, 4)]"
      ]
     },
     "execution_count": 59,
     "metadata": {},
     "output_type": "execute_result"
    }
   ],
   "source": [
    "edge(x,y) <= edge[x,y]\n",
    "db.execute(edge(4,5).fact())\n",
    "db.execute(edge(y,x) <= edge[x,y])\n",
    "db.execute(edge[x,y].code).fetchall()"
   ]
  },
  {
   "cell_type": "markdown",
   "id": "b6700bd2",
   "metadata": {},
   "source": [
    "# SemiNaive via Dual Relations\n",
    "\n",
    "Seminaive evaluation works by observation that any new fact must come from a query involving at least one new fact from the previous iteration.\n",
    "\n",
    "We can carry through both the primary and the delta relation in a single bundle. This is the analog of automatic differentiation. Pretty neat huh!\n",
    "\n",
    "https://stackoverflow.com/questions/47043937/what-is-the-difference-between-naive-and-semi-naive-evaluation"
   ]
  },
  {
   "cell_type": "code",
   "execution_count": 60,
   "id": "99666485",
   "metadata": {},
   "outputs": [
    {
     "name": "stdout",
     "output_type": "stream",
     "text": [
      "SELECT z, y, x\n",
      " FROM (SELECT t1.y AS y, t1.x AS x, t2.z AS z\n",
      "FROM (SELECT x0 AS x, x1 AS y\n",
      "FROM delta_edge\n",
      ") AS t1,\n",
      "(SELECT x0 AS y, x1 AS z\n",
      "FROM path\n",
      ") AS t2\n",
      "WHERE t1.y = t2.y\n",
      "UNION SELECT t1.y AS y, t1.x AS x, t2.z AS z\n",
      "FROM (SELECT x0 AS x, x1 AS y\n",
      "FROM edge\n",
      ") AS t1,\n",
      "(SELECT x0 AS y, x1 AS z\n",
      "FROM delta_path\n",
      ") AS t2\n",
      "WHERE t1.y = t2.y)\n"
     ]
    }
   ],
   "source": [
    "@dataclass\n",
    "class DualEnv():\n",
    "    env : Env\n",
    "    denv : Env\n",
    "\n",
    "    def __and__(self, other):\n",
    "        env = self.env & other.env\n",
    "        denv = self.denv & other.env | self.env & other.denv\n",
    "        return DualEnv(env, denv)\n",
    "\n",
    "@dataclass\n",
    "class DualDecl():\n",
    "    r : RelDecl\n",
    "    dr : RelDecl\n",
    "    newr : RelDecl\n",
    "    def __init__(self, name, arity):\n",
    "        self.r = RelDecl(name, arity)\n",
    "        self.dr = RelDecl(\"delta_\" + name, arity)\n",
    "        self. newr = RelDecl(\"new_\" + name, arity)\n",
    "    def __call__(self, *args) -> \"DualHead\":\n",
    "        return DualHead(self.newr, args)\n",
    "    def __getitem__(self, args) -> \"DualEnv\":\n",
    "        return DualEnv(self.r[args], self.dr[args])\n",
    "\n",
    "@dataclass\n",
    "class DualHead(Head):\n",
    "    def __le__(self, body : DualEnv) -> SQL:\n",
    "        return super().__le__(body.denv)\n",
    "\n",
    "edge = DualDecl(\"edge\", 2)\n",
    "path = DualDecl(\"path\", 2)\n",
    "\n",
    "print((edge[x,y] & path[y,z]).denv.code)\n"
   ]
  },
  {
   "cell_type": "code",
   "execution_count": 61,
   "id": "276f1e03",
   "metadata": {},
   "outputs": [
    {
     "data": {
      "text/plain": [
       "[(3, 2, 1)]"
      ]
     },
     "execution_count": 61,
     "metadata": {},
     "output_type": "execute_result"
    }
   ],
   "source": [
    "db.execute(edge.r.create())\n",
    "db.execute(edge.dr.create())\n",
    "db.execute(path.r.create())\n",
    "db.execute(path.dr.create())\n",
    "db.execute(edge.dr(1,2).fact())\n",
    "db.execute((edge[x,y] & path[y,z]).denv.code).fetchall()"
   ]
  },
  {
   "cell_type": "code",
   "execution_count": 62,
   "id": "faa8d166",
   "metadata": {},
   "outputs": [
    {
     "data": {
      "text/plain": [
       "'SELECT x\\n FROM (SELECT t1.x AS x\\nFROM (SELECT x1 AS x\\nFROM delta_edge\\nWHERE x0 = 1) AS t1,\\n(SELECT x0 AS x\\nFROM path\\nWHERE x1 = 3) AS t2\\nWHERE t1.x = t2.x\\nUNION SELECT t1.x AS x\\nFROM (SELECT x1 AS x\\nFROM edge\\nWHERE x0 = 1) AS t1,\\n(SELECT x0 AS x\\nFROM delta_path\\nWHERE x1 = 3) AS t2\\nWHERE t1.x = t2.x)'"
      ]
     },
     "execution_count": 62,
     "metadata": {},
     "output_type": "execute_result"
    }
   ],
   "source": [
    "(edge[1,x] & path[x,3]).denv.code"
   ]
  },
  {
   "cell_type": "markdown",
   "id": "3bddfe38",
   "metadata": {},
   "source": [
    "The naive fixpoint can also be generalized"
   ]
  },
  {
   "cell_type": "code",
   "execution_count": 74,
   "id": "74a82e39",
   "metadata": {},
   "outputs": [
    {
     "name": "stdout",
     "output_type": "stream",
     "text": [
      "1 delta_edge [(1, 2), (2, 3), (3, 4)]\n",
      "1 delta_path []\n",
      "2 delta_edge []\n",
      "2 delta_path [(1, 2), (2, 3), (3, 4)]\n",
      "3 delta_edge []\n",
      "3 delta_path [(1, 3), (2, 4)]\n",
      "4 delta_edge []\n",
      "4 delta_path [(1, 4)]\n",
      "5 delta_edge []\n",
      "5 delta_path []\n"
     ]
    },
    {
     "data": {
      "text/plain": [
       "[(1, 2), (2, 3), (3, 4), (1, 3), (2, 4), (1, 4)]"
      ]
     },
     "execution_count": 74,
     "metadata": {},
     "output_type": "execute_result"
    }
   ],
   "source": [
    "def fix(db, rels : list[DualDecl], stmts, limit=None):\n",
    "    for rel in rels:\n",
    "        db.execute(rel.r.create())\n",
    "        db.execute(rel.dr.create())\n",
    "        db.execute(rel.newr.create())\n",
    "        db.execute(f\"DELETE FROM {rel.r.name}\")\n",
    "        db.execute(f\"DELETE FROM {rel.dr.name}\")\n",
    "        db.execute(f\"DELETE FROM {rel.newr.name}\")\n",
    "    # Do facts\n",
    "    for stmt in stmts:\n",
    "        if isinstance(stmt, Head):\n",
    "            db.execute(stmt.fact())\n",
    "    n = 0\n",
    "    while True:\n",
    "        n += 1\n",
    "        for stmt in stmts:\n",
    "            if isinstance(stmt, str):\n",
    "                db.execute(stmt)\n",
    "        for rel in rels:\n",
    "            # Do the old swaparooni. Delete delta, delta := new - old, old += delta, new := {}\n",
    "            db.execute(f\"DELETE FROM {rel.dr.name}\")\n",
    "            db.execute(f\"INSERT OR IGNORE INTO {rel.dr.name} SELECT * FROM {rel.newr.name} EXCEPT SELECT * FROM {rel.r.name}\")\n",
    "            db.execute(f\"INSERT OR IGNORE INTO {rel.r.name} SELECT * FROM {rel.dr.name}\")\n",
    "            db.execute(f\"DELETE FROM {rel.newr.name}\")\n",
    "            print(n, rel.dr.name, db.execute(\"SELECT * FROM \" + rel.dr.name).fetchall())\n",
    "        if (limit is not None and n > limit) or all(db.execute(f\"SELECT * FROM {rel.dr.name} LIMIT 1\").fetchone() is None for rel in rels):\n",
    "            return\n",
    "\n",
    "fix(db, [edge, path], [\n",
    "    edge(1,2),\n",
    "    edge(2,3),\n",
    "    edge(3,4),\n",
    "    path(x,y) <= edge[x,y],\n",
    "    path(x,z) <= edge[x,y] & path[y,z]\n",
    "], limit=10)\n",
    "db.execute(path[x,y].env.code).fetchall()"
   ]
  },
  {
   "cell_type": "markdown",
   "id": "7a5382b3",
   "metadata": {},
   "source": [
    "# Bits and Bobbles\n",
    "\n",
    "A small z3 ast to sqlite compiler is here https://github.com/philzook58/knuckledragger/blob/main/kdrag/solvers/datalog.py .\n",
    "\n",
    "- https://en.wikipedia.org/wiki/Relational_algebra\n",
    "- https://cs186berkeley.net/notes/note6/\n",
    "\n",
    "- datatoad https://github.com/frankmcsherry/blog/blob/master/posts/2025-06-03.md\n",
    "\n",
    "- logica https://github.com/EvgSkv/logica\n",
    "\n",
    "- https://bernsteinbear.com/blog/liveness-datalog/\n",
    "- https://blog.waleedkhan.name/lithe-less-analysis-with-datalog/ \n",
    "\n",
    "- https://www.philipzucker.com/notes/Languages/datalog/\n",
    "- https://inst.eecs.berkeley.edu/~cs294-260/sp24/2024-02-05-datalog\n",
    "\n",
    "Actually, the thing that I thought was fun was generalizing all of these to Dual relatiosn akin to dual numbers  https://en.wikipedia.org/wiki/Dual_number to achieve seminaive\n",
    "\n",
    "I should also maybe switch to a form using CTEs rather than inlined nested select statements. That would make less repetition.\n",
    "\n",
    "CHR and graph rewriting on SQL would also be interesting\n",
    "\n",
    "\n",
    "A thought occurred to me as I was revisiting some of this stuff, considering about submitting to the minikanren workshop (which I did not).\n",
    "\n",
    "What I did before was a somewhat light pass over an AST to determine which vars to ground at compile them.\n",
    "\n",
    "I can probably throw garbage into SQL engines and get something ok out (?).\n",
    "\n",
    "\n",
    "\n",
    "Datalog conjunctive queries have a different flavor than SQL style conjunctive queries. Seemingly, in datalog you give names to slots of the relations `mytable(Myvar)`, whereas in SQL style you give alpha invariant names to entire rows `SELECT myrow.col0 FROM mytable as myrow`.\n",
    "\n",
    "SQL and relational algebra tables have named columns\n",
    "\n",
    "\n",
    "But a twist that I don't know how to think about exactly is that the variable names in the environment can be column names.\n",
    "\n",
    "SQL makes it easy to state relational algebra operations https://en.wikipedia.org/wiki/Relational_algebra like projection, selection, and renaming.\n",
    "\n",
    "There might be a fun version of this post that works off of a relational algebra interface\n"
   ]
  },
  {
   "cell_type": "code",
   "execution_count": null,
   "id": "dc90aa6b",
   "metadata": {},
   "outputs": [],
   "source": [
    "from typing import Protocol\n",
    "class RelAlg(Protocol):\n",
    "    cols: list[str]  # column names\n",
    "    def rename(self, src: str, dst: str) -> 'RelAlg': ...  # subst : list[tuple[str, str]]\n",
    "    def proj(self, cols: list[str]) -> 'RelAlg': ...\n",
    "    def join(self, other: 'RelAlg') -> 'RelAlg': ...\n",
    "    def union(self, other: 'RelAlg') -> 'RelAlg': ...\n",
    "    def intersect(self, other: 'RelAlg') -> 'RelAlg': ...\n",
    "    def diff(self, other: 'RelAlg') -> 'RelAlg': ...\n",
    "    def select(self, cond: str) -> 'RelAlg': ... # not str"
   ]
  },
  {
   "cell_type": "code",
   "execution_count": null,
   "id": "d3675a34",
   "metadata": {},
   "outputs": [],
   "source": [
    "class DualEnv():\n",
    "    env : Env\n",
    "    denv : Env\n",
    "\n",
    "    def __and__(self, other):\n",
    "        env = self.env & other.env\n",
    "        denv = self.denv & other.env | self.env & other.denv\n",
    "        return DualEnv(env, denv)\n",
    "\n",
    "\n",
    "\n"
   ]
  },
  {
   "cell_type": "code",
   "execution_count": null,
   "id": "6944e90e",
   "metadata": {},
   "outputs": [
    {
     "data": {
      "text/plain": [
       "<sqlite3.Cursor at 0x7c674c9551c0>"
      ]
     },
     "execution_count": 32,
     "metadata": {},
     "output_type": "execute_result"
    }
   ],
   "source": [
    "import sqlite3\n",
    "db = sqlite3.connect(\":memory:\")\n",
    "db.execute(RelDecl(\"edge\", 2).create())"
   ]
  },
  {
   "cell_type": "code",
   "execution_count": null,
   "id": "220eb321",
   "metadata": {},
   "outputs": [
    {
     "ename": "NameError",
     "evalue": "name 'BaseRel' is not defined",
     "output_type": "error",
     "traceback": [
      "\u001b[31m---------------------------------------------------------------------------\u001b[39m",
      "\u001b[31mNameError\u001b[39m                                 Traceback (most recent call last)",
      "\u001b[36mCell\u001b[39m\u001b[36m \u001b[39m\u001b[32mIn[33]\u001b[39m\u001b[32m, line 1\u001b[39m\n\u001b[32m----> \u001b[39m\u001b[32m1\u001b[39m edge = \u001b[43mBaseRel\u001b[49m({\u001b[33m\"\u001b[39m\u001b[33mx0\u001b[39m\u001b[33m\"\u001b[39m,\u001b[33m\"\u001b[39m\u001b[33my0\u001b[39m\u001b[33m\"\u001b[39m}, \u001b[33m\"\u001b[39m\u001b[33medge\u001b[39m\u001b[33m\"\u001b[39m)\n\u001b[32m      2\u001b[39m path = BaseRel({\u001b[33m\"\u001b[39m\u001b[33mx0\u001b[39m\u001b[33m\"\u001b[39m,\u001b[33m\"\u001b[39m\u001b[33my0\u001b[39m\u001b[33m\"\u001b[39m}, \u001b[33m\"\u001b[39m\u001b[33mpath\u001b[39m\u001b[33m\"\u001b[39m)\n\u001b[32m      3\u001b[39m db.execute(edge[\u001b[33m\"\u001b[39m\u001b[33my\u001b[39m\u001b[33m\"\u001b[39m, \u001b[33m\"\u001b[39m\u001b[33mx\u001b[39m\u001b[33m\"\u001b[39m].code).fetchall()\n",
      "\u001b[31mNameError\u001b[39m: name 'BaseRel' is not defined"
     ]
    }
   ],
   "source": [
    "\n",
    "edge = BaseRel({\"x0\",\"y0\"}, \"edge\")\n",
    "path = BaseRel({\"x0\",\"y0\"}, \"path\")\n",
    "db.execute(edge[\"y\", \"x\"].code).fetchall()\n",
    "db.execute(edge(\"y\", \"x\", body=edge[\"x\", \"y\"]))\n",
    "db.execute(\"SELECT * FROM edge\").fetchall()\n",
    "#db.execute(path(\"x\", \"z\", body=edge[\"x\", \"y\"] & path[\"y\", \"z\"]))\n",
    "edge[\"x\", \"y\"] & path[\"y\", \"z\"]\n",
    "\n",
    "\n"
   ]
  },
  {
   "cell_type": "markdown",
   "id": "7a63f6d4",
   "metadata": {},
   "source": [
    "# Bits and Bobbles\n",
    "\n"
   ]
  },
  {
   "cell_type": "code",
   "execution_count": null,
   "id": "3dfa4da0",
   "metadata": {},
   "outputs": [],
   "source": [
    "class EnvRel():\n",
    "    def project(self, cols: set[Var]) -> \"EnvRel\":\n",
    "        assert cols <= self.cols\n",
    "        select_clause = \", \".join(f\"{c} AS {c}\" for c in cols)\n",
    "        return EnvRel(cols, f\"SELECT {select_clause} FROM ({self.code})\")\n",
    "    def rename(self, renames: dict[str,str]) -> \"EnvRel\":\n",
    "        new_cols = {renames.get(c,c) for c in self.cols}\n",
    "        select_clause = \", \".join(f\"{c} AS {renames.get(c,c)}\" for c in self.cols)\n",
    "        return EnvRel(new_cols, f\"SELECT {select_clause} FROM ({self.code})\")\n"
   ]
  },
  {
   "cell_type": "code",
   "execution_count": null,
   "id": "80b78450",
   "metadata": {},
   "outputs": [],
   "source": []
  },
  {
   "cell_type": "code",
   "execution_count": null,
   "id": "3a131cd9",
   "metadata": {},
   "outputs": [],
   "source": [
    "def fix(db, rels : list[tuple[str,int]], stmts, limit=None):\n",
    "    for rel,arity in rels:\n",
    "        db.execute(f\"CREATE TABLE {rel}(a int, b int)\")\n",
    "        db.execute(\"CREATE TABLE delta_{rel} (a)\")\n",
    "        db.execute(\"CREATE TABLE new_{rel} (a)\")\n",
    "        db.execute(\"INSERT INTO delta_{rel} SELECT * FROM {rel}\")\n",
    "    n = 0\n",
    "    while True:\n",
    "        n += 0\n",
    "        for stmt in stmts:\n",
    "            db.execute(stmt)\n",
    "        for rel,arity in rels:\n",
    "            db.execute(f\"DELETE FROM delta_{rel}\")\n",
    "            db.execute(f\"INSERT INTO {rel} SELECT * FROM new_{rel} EXCEPT SELECT * FROM {rel}\")\n",
    "            db.execute(f\"DELETE FROM new_{rel}\")\n",
    "            if (limit is not None and n > limit) or db.execute(f\"SELECT COUNT(*) FROM delta_{rel}\").fetchone()[0] > 0:\n",
    "                # cleanup\n",
    "                db.execute(\"DELETE TABLE delta_{rel}\")\n",
    "                db.execute(\"DELETE TABLE new_{rel}\")\n",
    "                return\n",
    "            \n"
   ]
  },
  {
   "cell_type": "code",
   "execution_count": null,
   "id": "0a5cb86f",
   "metadata": {},
   "outputs": [],
   "source": [
    "class Head():\n",
    "    def __init__(self, rel, vs):\n",
    "        self.rel = rel\n",
    "        self.vs = vs\n",
    "    def __le__(self, body):\n",
    "        return f\"INSERT INTO {self.rel} SELECT {','.join(body.vs)} FROM {body.froms} WHERE {' AND '.join(body.conds)}\"\n",
    "\n",
    "class Rel():\n",
    "    def __init__(self, rel, vs):\n",
    "        self.rel = rel\n",
    "        self.vs = vs\n"
   ]
  },
  {
   "cell_type": "code",
   "execution_count": null,
   "id": "b737df61",
   "metadata": {},
   "outputs": [],
   "source": [
    "type goaly = (int,db) -> list[env]\n"
   ]
  },
  {
   "cell_type": "markdown",
   "id": "8aa7c8b2",
   "metadata": {},
   "source": []
  },
  {
   "cell_type": "code",
   "execution_count": null,
   "id": "4f1efd95",
   "metadata": {},
   "outputs": [],
   "source": [
    "type Env = dict\n",
    "type goal = Callable[[DB, Env], list[Env]]\n",
    "\n",
    "class Var():\n",
    "    name: str\n",
    "\n",
    "def conj(*args : Env):\n",
    "\n",
    "\n",
    "class DatalogRel():\n",
    "    data : set[tuple[object,...]]\n",
    "    def __call__(self, *args):\n",
    "    \n",
    "\n",
    "\n",
    "\n"
   ]
  },
  {
   "cell_type": "code",
   "execution_count": null,
   "id": "5e6b46bb",
   "metadata": {},
   "outputs": [
    {
     "data": {
      "text/plain": [
       "[{'x0': 1, 'y0': 2}, {'x0': 2, 'y0': 3}, {'x0': 3, 'y0': 4}]"
      ]
     },
     "execution_count": 39,
     "metadata": {},
     "output_type": "execute_result"
    }
   ],
   "source": [
    "from dataclasses import dataclass\n",
    "\n",
    "type SQL = str\n",
    "\n",
    "@dataclass\n",
    "class SqlRel():\n",
    "    cols : set[str] # reverse these two.\n",
    "    code : str\n",
    "    def __and__(self, other: \"EnvRel\") -> \"EnvRel\":\n",
    "        on = self.cols & other.cols\n",
    "        assert on, f\"Cannot join on no columns {self.cols} {other.cols}\"\n",
    "        on_clause = \" AND \".join(f\"self.{c} = other.{c}\" for c in on)\n",
    "        return SqlRel(self.cols | other.cols, f\"({self.code}) INNER JOIN ({other.code}) ON {on_clause}\")\n",
    "    \n",
    "    def project(self, cols: set[str]) -> \"SqlRel\":\n",
    "        assert cols <= self.cols\n",
    "        select_clause = \", \".join(f\"{c} AS {c}\" for c in cols)\n",
    "        return SqlRel(cols, f\"SELECT {select_clause} FROM ({self.code})\")\n",
    "    def rename(self, renames: dict[str,str]) -> \"SqlRel\":\n",
    "        new_cols = {renames.get(c,c) for c in self.cols}\n",
    "        select_clause = \", \".join(f\"{c} AS {renames.get(c,c)}\" for c in self.cols)\n",
    "        return SqlRel(new_cols, f\"SELECT {select_clause} FROM ({self.code})\")\n",
    "    #def __getitem__(self, cols : set[str]) -> \"SqlRel\":\n",
    "    #    return self.project(cols)\n",
    "\n",
    "@dataclass\n",
    "class EnvRel(SqlRel): ...\n",
    "\n",
    "\n",
    "\n",
    "    \n",
    "\n",
    "edgexy = SqlRel({\"x\",\"y\"}, \"SELECT x0 AS x, y0 as y FROM edge\")\n",
    "pathyz = SqlRel({\"y\",\"z\"}, \"SELECT x0 AS y, y0 as z FROM path\")\n",
    "\n",
    "import sqlite3\n",
    "db = sqlite3.connect(\":memory:\")\n",
    "def dict_factory(cursor, row):\n",
    "    fields = [column[0] for column in cursor.description]\n",
    "    return {key: value for key, value in zip(fields, row)}\n",
    "db.row_factory = dict_factory#sqlite3.Row\n",
    "db.execute(\"CREATE TABLE edge (x0 INT, y0 INT, UNIQUE(x0, y0))\")\n",
    "db.execute(\"CREATE TABLE path (x0 INT, y0 INT, UNIQUE(x0, y0))\")\n",
    "db.execute(\"INSERT INTO edge VALUES (1,2), (2,3), (3,4)\")\n",
    "(edgexy & pathyz).project({\"x\", \"z\"})\n",
    "\n",
    "db.execute(edgexy.project({\"x\"}).code).fetchall()\n",
    "\n",
    "db.execute(edgexy.rename({\"x\" : \"z\"}).code).fetchall()\n",
    "db.execute(f\"INSERT OR IGNORE INTO path {edgexy.code}\").fetchall()\n",
    "db.execute(f\"INSERT OR IGNORE INTO path {edgexy.code}\").fetchall()\n",
    "db.execute(\"SELECT * FROM path\").fetchall()\n",
    "#db.execute(f\"INSERT OR IGNORE INTO path { (edgexy & pathyz).project({'x','z'}).code}\").fetchall()\n",
    "db.execute(\"SELECT * FROM path\").fetchall()\n",
    "\n"
   ]
  },
  {
   "cell_type": "code",
   "execution_count": null,
   "id": "b2df47cd",
   "metadata": {},
   "outputs": [
    {
     "data": {
      "text/plain": [
       "SqlRel(cols={'y', 'z', 'x'}, code='(SELECT x0 AS x, y0 AS y FROM (edge)) INNER JOIN (SELECT x0 AS y, y0 AS z FROM (path)) ON self.y = other.y')"
      ]
     },
     "execution_count": 46,
     "metadata": {},
     "output_type": "execute_result"
    }
   ],
   "source": []
  },
  {
   "cell_type": "code",
   "execution_count": null,
   "id": "2b7e86a3",
   "metadata": {},
   "outputs": [],
   "source": [
    "from typing import Protocol\n",
    "\n",
    "class RelAlg(Protocol):\n",
    "    cols: list[str]  # column names\n",
    "    def rename(self, src: str, dst: str) -> 'RelAlg': ...  # subst : list[tuple[str, str]]\n",
    "    def proj(self, cols: list[str]) -> 'RelAlg': ...\n",
    "    def join(self, other: 'RelAlg') -> 'RelAlg': ...\n",
    "    def union(self, other: 'RelAlg') -> 'RelAlg': ...\n",
    "    def intersect(self, other: 'RelAlg') -> 'RelAlg': ...\n",
    "    def diff(self, other: 'RelAlg') -> 'RelAlg': ...\n",
    "    def select(self, cond: str) -> 'RelAlg': ... # not str\n",
    "\n",
    "class SQLRel(RelAlg):\n",
    "    cols : list[str]\n",
    "    code : str\n",
    "\n",
    "class PyRel(RelAlg):\n",
    "    rel : frozenset(frozendict)\n",
    "    \n",
    "class PolarsRel(RelAlg):\n",
    "    pass\n",
    "\n",
    "class DualRel(RelAlg):\n",
    "    R: RelAlg\n",
    "    dR: RelAlg\n",
    "\n",
    "\n",
    "\n",
    "\n",
    "\n"
   ]
  },
  {
   "cell_type": "markdown",
   "id": "4c690620",
   "metadata": {},
   "source": [
    "Lazy Trie Join\n",
    "The simplest version just pushes completely.\n",
    "\n",
    "\n",
    "Minikanren has uniformity.\n",
    "\n",
    "https://dodisturb.me/posts/2018-12-25-The-Essence-of-Datalog.html\n",
    "https://stackoverflow.com/questions/28467011/what-are-the-main-technical-differences-between-prolog-and-minikanren-with-resp\n",
    "\n",
    "https://www.cambridge.org/core/journals/journal-of-functional-programming/article/sql-to-c-compiler-in-500-lines-of-code/C38B40C78B6A9C55232D4A850587FC64"
   ]
  },
  {
   "cell_type": "code",
   "execution_count": null,
   "id": "5f0e950c",
   "metadata": {},
   "outputs": [],
   "source": [
    "class Var():\n",
    "    ind : int\n",
    "#type Var = int\n",
    "type Env = dict[int, object]\n",
    "#type rel = Callable[[...], list[Env]]\n",
    "\n",
    "edge_table = {(1,2), (2,3)}\n",
    "def edge(x,y):\n",
    "    def res(db):\n",
    "        if x is Var:\n",
    "            return\n",
    "            \n",
    "def rel(name, *args):\n",
    "    def res(db):\n",
    "        R = db.get(name, {})\n",
    "        for row in R: ...\n",
    "\n",
    "def merge_env(e1,e2):\n",
    "    if len(e1) <= len(e2):\n",
    "        e1, e2 = e2, e1\n",
    "    res = e1.copy()\n",
    "    for k,v in e2:\n",
    "        if k in res:\n",
    "            if res[k] != v:\n",
    "                return\n",
    "        res[k] = v\n",
    "    return res\n",
    "\n",
    "#def bind(v, name):\n",
    "\n",
    "def forall(A, f):\n",
    "    def res(db):\n",
    "        for a in db[A]:\n",
    "            yield f(a)\n",
    "\n",
    "def forall(f):\n",
    "    def res(counter, db):\n",
    "        return f(counter)(counter+1, db)\n",
    "    return res\n",
    "\n",
    "\n",
    "\n",
    "\n",
    "    #for (n,a) in sorted(enumerate(args), key=lambda z: (z[1],z[0])):\n",
    "\n",
    "\n",
    "\n",
    "\n",
    "\n",
    "def prod(x,y): #  seminiave  ((x*y), x*dy + y * dx)\n",
    "    def res(db):\n",
    "        for a in x(db):\n",
    "            for b in y(db):\n",
    "                yield merge_env(a,b)\n",
    "    return res\n",
    "\n",
    "\n",
    "\n",
    "\n",
    "\n"
   ]
  },
  {
   "cell_type": "code",
   "execution_count": null,
   "id": "ee6c302b",
   "metadata": {},
   "outputs": [
    {
     "data": {
      "text/plain": [
       "[(1, 2), (2, 3)]"
      ]
     },
     "execution_count": 26,
     "metadata": {},
     "output_type": "execute_result"
    }
   ],
   "source": [
    "import sqlite3\n",
    "\n",
    "\n",
    "db = sqlite3.connect(\":memory:\")\n",
    "db.execute(\"CREATE TABLE edge (x0 INTEGER, x1 INTEGER)\")\n",
    "db.executemany(\"INSERT INTO edge VALUES (?, ?)\", [(1,2),(2,3)])\n",
    "db.execute(\"CREATE TABLE path (x0 INTEGER, x1 INTEGER)\")\n",
    "db.execute(\"INSERT INTO path SELECT x as x0, y as x1 FROM (SELECT x0 as x, x1 as y FROM edge)\")\n",
    "db.execute(\"SELECT * FROM path\").fetchall()"
   ]
  },
  {
   "cell_type": "code",
   "execution_count": null,
   "id": "3322cdda",
   "metadata": {},
   "outputs": [
    {
     "ename": "IndentationError",
     "evalue": "unexpected indent (3530425379.py, line 2)",
     "output_type": "error",
     "traceback": [
      "  \u001b[36mCell\u001b[39m\u001b[36m \u001b[39m\u001b[32mIn[28]\u001b[39m\u001b[32m, line 2\u001b[39m\n\u001b[31m    \u001b[39m\u001b[31mdef sql():\u001b[39m\n    ^\n\u001b[31mIndentationError\u001b[39m\u001b[31m:\u001b[39m unexpected indent\n"
     ]
    }
   ],
   "source": [
    "class Rel(): ...\n",
    "    def sql():\n",
    "    def freevars():\n",
    "    def __mul__(self, other):\n",
    "        return Rel(f\"({self.sql} JOIN {other.sql})\")\n",
    "\n",
    "class BaseRelation():\n",
    "    def __init__(self, name, db):\n",
    "        self.name = name\n",
    "        self.db = db\n",
    "    def __call__(self, *args, **kwargs):\n",
    "        args = {\"x\" + str(n) : a for n,a in enumerate(args), **kwargs}\n",
    "        wheres = [\"TRUE\"]\n",
    "        env = {}\n",
    "        for k,v in args.items():\n",
    "            if isinstance(v, Var):\n",
    "                if v.ind in env:\n",
    "                    wheres.append(f\"{k} = {env[v.ind]}\")\n",
    "                else:\n",
    "                    env[v.ind] = k\n",
    "            else:\n",
    "                wheres.append(f\"{k} = {repr(v)}\")\n",
    "        return Rel(\n",
    "            f'(SELECT {\",\" .join([f\"{v} As {k}\" for k,v in env.items()])} \n",
    "                FROM {self.name} \n",
    "                WHERE {\" AND \".join(wheres)})', \n",
    "                env.keys())\n",
    "    def __getitem__(self, key): ...\n",
    "        "
   ]
  },
  {
   "cell_type": "markdown",
   "id": "dd04ddb9",
   "metadata": {},
   "source": [
    "I can translate datalog into relation algerbao f the body.\n",
    "Then i can directly interpet the relation algebra,\n",
    "do optimizations finally tagless style\n",
    "or interpret into SQL.\n",
    "\n",
    "The key is the senmantcs of the body is the relation of _environments\"\n",
    "\n",
    "Using dual numbers\n",
    "\"edge\", \"delta_edge\"\n",
    "UNION\n",
    "\n",
    "THe initial trnalsation from base relations to an environment form is the only complex part.\n",
    "\n",
    "Using Lazy Trie Join if clean somehow\n",
    "\n",
    "class Trie():\n",
    "    # colname : [object]\n",
    "    rename : [object]  # level 0 = \"foo\", level 1 = \"bar\" ... etc.\n",
    "    trie : dict[dict[dict]]\n",
    "\n",
    "def intersect(t1,t2)\n",
    "    if t.level[0] == t.level[1]:\n",
    "    else:\n",
    "        if t1.level[0] < t2.level[1]:\n",
    "            t2,t1 = t1,t2\n",
    "        return {k : for k,v in t1.trie}\n",
    "\n",
    "\n",
    "\n",
    "\n",
    "\n",
    "\n",
    "\n"
   ]
  },
  {
   "cell_type": "code",
   "execution_count": null,
   "id": "e0b626e0",
   "metadata": {},
   "outputs": [
    {
     "ename": "SyntaxError",
     "evalue": "expected ':' (81940528.py, line 1)",
     "output_type": "error",
     "traceback": [
      "  \u001b[36mCell\u001b[39m\u001b[36m \u001b[39m\u001b[32mIn[79]\u001b[39m\u001b[32m, line 1\u001b[39m\n\u001b[31m    \u001b[39m\u001b[31mclass RelAlg()\u001b[39m\n                  ^\n\u001b[31mSyntaxError\u001b[39m\u001b[31m:\u001b[39m expected ':'\n"
     ]
    }
   ],
   "source": [
    "class RelAlg(Protocol):\n",
    "    def rename(self, **kwargs): ...\n",
    "    def project(self, *args): ...\n",
    "    def join(self, other): ...\n",
    "\n",
    "class RelAlgCode():\n",
    "    sql : str\n",
    "class RelAlgSet():\n",
    "\n",
    "\n",
    "\n",
    "\n",
    "\n",
    "\n",
    "\n",
    "def rel(R):\n",
    "    def res(*args, **kwargs):\n",
    "        args = {**{\"x\" + str(n) : a for n,a in enumerate(args)}, **kwargs}\n",
    "        Q = set()\n",
    "        for row in R:\n",
    "            env = {}\n",
    "            for k,v in args.items():\n",
    "                if isinstance(v, Var):\n",
    "                    if v in env:\n",
    "                        if env[v] != row[k]:\n",
    "                            break\n",
    "                    else:\n",
    "                        env[v] = row[k]\n",
    "                else:\n",
    "                    if row[k] != v:\n",
    "                        break\n",
    "            else:\n",
    "                Q.add(frozendict(env))\n",
    "        return Q\n",
    "    return res"
   ]
  },
  {
   "cell_type": "code",
   "execution_count": null,
   "id": "16186d2a",
   "metadata": {},
   "outputs": [
    {
     "data": {
      "text/plain": [
       "[(2, None, 2, None)]"
      ]
     },
     "execution_count": 78,
     "metadata": {},
     "output_type": "execute_result"
    }
   ],
   "source": [
    "\n",
    "@dataclass(frozen=True)\n",
    "class Var():\n",
    "    ind : str\n",
    "x,y,z = Var(\"x\"), Var(\"y\"), Var(\"z\")\n",
    "\n",
    "def rel(name):\n",
    "    def res(*args, **kwargs):\n",
    "        args = {**{\"x\" + str(n) : a for n,a in enumerate(args)}, **kwargs}\n",
    "        wheres = [\"TRUE\"]\n",
    "        env = {}\n",
    "        for k,v in args.items():\n",
    "            if isinstance(v, Var):\n",
    "                if v in env:\n",
    "                    wheres.append(f\"{k} = {env[v]}\")\n",
    "                else:\n",
    "                    env[v] = k\n",
    "            else:\n",
    "                wheres.append(f\"{k} = {repr(v)}\")\n",
    "        return f\"\"\"SELECT DISTINCT {\", \" .join([f\"{v} AS {k.ind}\" for k,v in env.items()] + [\"NULL\"])} \\\n",
    "                FROM {name} \\\n",
    "                WHERE {\" AND \".join(wheres)}\"\"\"\n",
    "    return res\n",
    "def conj(*args):\n",
    "    return \", \".join(\"(\" + arg + \")\" for arg in args)\n",
    "    #return \" INNER JOIN \".join(\"(\" + arg + \")\" for arg in args)\n",
    "#def \n",
    "\n",
    "edge = rel(\"edge\")\n",
    "edge(1,2)\n",
    "#db.execute(\"SELECT NULL, x0 as a FROM edge where true and x1 = 2\").fetchall()\n",
    "#db.execute(edge(3,4)).fetchall()\n",
    "\n",
    "db = sqlite3.connect(\":memory:\")\n",
    "db.execute(\"CREATE TABLE edge (x0 INTEGER, x1 INTEGER, PRIMARY KEY (x0, x1))\")\n",
    "db.executemany(\"INSERT OR IGNORE INTO edge VALUES (?, ?)\", [(1,2),(2,3),(2,4)])\n",
    "db.execute(\"CREATE TABLE path (x0 INTEGER, x1 INTEGER)\")\n",
    "db.execute(\"INSERT INTO path SELECT x as x0, y as x1 FROM (SELECT x0 as x, x1 as y FROM edge)\")\n",
    "db.execute(\"SELECT * FROM path\").fetchall()\n",
    "\n",
    "db.execute(\"SELECT * FROM\" + conj(edge(1, x), edge(x,3))).fetchall()\n",
    "#conj(edge(1, x), edge(x,3))\n",
    "#edge(1, x)\n",
    "#db.execute(\"SELECT * FROM edge\").fetchall()\n",
    "#conj(edge(1, x), edge(x,3))\n",
    "\n",
    "def insert(name)\n",
    "    def res(*args, **kwargs):\n",
    "        def res2(body):\n",
    "            args = {**{\"x\" + str(n) : a for n,a in enumerate(args)}, **kwargs}\n",
    "            selects = \", \".join([f\"{v} AS {k}\" for k,v in args.items()])\n",
    "            return f\"INSERT OR IGNORE INTO {name} SELECT {selects} FROM {body}\"\n",
    "        return res2\n",
    "    return res\n",
    "insert(\"path\")(1,2)() \n"
   ]
  },
  {
   "cell_type": "code",
   "execution_count": null,
   "id": "4a4fb033",
   "metadata": {},
   "outputs": [],
   "source": [
    "class State():\n",
    "    env : dict[int, key]\n",
    "    data : trie"
   ]
  },
  {
   "cell_type": "code",
   "execution_count": null,
   "id": "148fe918",
   "metadata": {},
   "outputs": [],
   "source": [
    "class State():\n",
    "    env : dict[int, string]\n",
    "    froms :list[str]\n",
    "    constrs : list[str]\n",
    "\n",
    "    def __mul__(self, other):\n",
    "        return State({**self.env, **self.other},\n",
    "            self.froms + other.froms,\n",
    "            self.constrs + other.constrs + [self.env[k] == other.env[k] for k in self.env if k in other.env])\n",
    "\n",
    "def rel(name, *args):\n",
    "    return State(  , [\"{name} as {row}\"], [])\n"
   ]
  },
  {
   "cell_type": "code",
   "execution_count": null,
   "id": "71bc5991",
   "metadata": {},
   "outputs": [
    {
     "ename": "TypeError",
     "evalue": "'<' not supported between instances of 'int' and 'Var'",
     "output_type": "error",
     "traceback": [
      "\u001b[31m---------------------------------------------------------------------------\u001b[39m",
      "\u001b[31mTypeError\u001b[39m                                 Traceback (most recent call last)",
      "\u001b[36mCell\u001b[39m\u001b[36m \u001b[39m\u001b[32mIn[8]\u001b[39m\u001b[32m, line 32\u001b[39m\n\u001b[32m     30\u001b[39m     \u001b[38;5;28;01mreturn\u001b[39;00m worker(R, \u001b[38;5;28msorted\u001b[39m(\u001b[38;5;28menumerate\u001b[39m(args), key=\u001b[38;5;28;01mlambda\u001b[39;00m z: (z[\u001b[32m1\u001b[39m], z[\u001b[32m0\u001b[39m])))\n\u001b[32m     31\u001b[39m edge = {(\u001b[32m1\u001b[39m,\u001b[32m2\u001b[39m), (\u001b[32m2\u001b[39m,\u001b[32m3\u001b[39m), (\u001b[32m2\u001b[39m,\u001b[32m1\u001b[39m)}\n\u001b[32m---> \u001b[39m\u001b[32m32\u001b[39m \u001b[43mtrie\u001b[49m\u001b[43m(\u001b[49m\u001b[43medge\u001b[49m\u001b[43m,\u001b[49m\u001b[43m \u001b[49m\u001b[43mVar\u001b[49m\u001b[43m(\u001b[49m\u001b[32;43m0\u001b[39;49m\u001b[43m)\u001b[49m\u001b[43m,\u001b[49m\u001b[43m \u001b[49m\u001b[32;43m1\u001b[39;49m\u001b[43m)\u001b[49m\n",
      "\u001b[36mCell\u001b[39m\u001b[36m \u001b[39m\u001b[32mIn[8]\u001b[39m\u001b[32m, line 30\u001b[39m, in \u001b[36mtrie\u001b[39m\u001b[34m(R, *args)\u001b[39m\n\u001b[32m     28\u001b[39m         \u001b[38;5;28;01melse\u001b[39;00m:\n\u001b[32m     29\u001b[39m             \u001b[38;5;28;01mreturn\u001b[39;00m worker({v \u001b[38;5;28;01mfor\u001b[39;00m v \u001b[38;5;129;01min\u001b[39;00m S \u001b[38;5;28;01mif\u001b[39;00m v[n] == a}, nargs[\u001b[32m1\u001b[39m:])\n\u001b[32m---> \u001b[39m\u001b[32m30\u001b[39m \u001b[38;5;28;01mreturn\u001b[39;00m worker(R, \u001b[38;5;28;43msorted\u001b[39;49m\u001b[43m(\u001b[49m\u001b[38;5;28;43menumerate\u001b[39;49m\u001b[43m(\u001b[49m\u001b[43margs\u001b[49m\u001b[43m)\u001b[49m\u001b[43m,\u001b[49m\u001b[43m \u001b[49m\u001b[43mkey\u001b[49m\u001b[43m=\u001b[49m\u001b[38;5;28;43;01mlambda\u001b[39;49;00m\u001b[43m \u001b[49m\u001b[43mz\u001b[49m\u001b[43m:\u001b[49m\u001b[43m \u001b[49m\u001b[43m(\u001b[49m\u001b[43mz\u001b[49m\u001b[43m[\u001b[49m\u001b[32;43m1\u001b[39;49m\u001b[43m]\u001b[49m\u001b[43m,\u001b[49m\u001b[43m \u001b[49m\u001b[43mz\u001b[49m\u001b[43m[\u001b[49m\u001b[32;43m0\u001b[39;49m\u001b[43m]\u001b[49m\u001b[43m)\u001b[49m\u001b[43m)\u001b[49m)\n",
      "\u001b[31mTypeError\u001b[39m: '<' not supported between instances of 'int' and 'Var'"
     ]
    }
   ],
   "source": [
    "from dataclasses import dataclass\n",
    "from collections import defaultdict\n",
    "@dataclass\n",
    "class Var():\n",
    "    ind:int\n",
    "    def __le__(self, other):\n",
    "        if isinstance(other, Var):\n",
    "            return self.ind <= other.ind\n",
    "        return True\n",
    "    def __lt__(self, other):\n",
    "        if isinstance(other, Var):\n",
    "            return self.ind < other.ind\n",
    "        return True\n",
    "\n",
    "def trie(R, *args):\n",
    "    def worker(S, nargs):\n",
    "        if len(S) == 0:\n",
    "            return None\n",
    "        if len(nargs) == 0:\n",
    "            return () if S else None\n",
    "        else:\n",
    "            (n, a) = nargs[0]\n",
    "            if isinstance(a, Var):\n",
    "                q = defaultdict(set)\n",
    "                for v in S:\n",
    "                    q[v[n]].add(v)\n",
    "                return (n, {k : worker(v, nargs[1:]) for k, v in q.items()})\n",
    "            else:\n",
    "                return worker({v for v in S if v[n] == a}, nargs[1:])\n",
    "    return worker(R, sorted(enumerate(args), key=lambda z: (z[1], z[0])))\n",
    "edge = {(1,2), (2,3), (2,1)}\n",
    "trie(edge, Var(0), 1)\n"
   ]
  },
  {
   "cell_type": "code",
   "execution_count": null,
   "id": "51bc28f7",
   "metadata": {},
   "outputs": [
    {
     "data": {
      "text/plain": [
       "{2: {1: (), 3: ()}, 1: {2: ()}}"
      ]
     },
     "execution_count": 14,
     "metadata": {},
     "output_type": "execute_result"
    }
   ],
   "source": [
    "def trie(R,n):\n",
    "    if n == 0:\n",
    "        return ()\n",
    "    elif n == 1:\n",
    "        return {k[0] : () for k in R}\n",
    "    else:\n",
    "        q = defaultdict(set)\n",
    "        for row in R:\n",
    "            if len(row) >= 2:\n",
    "                q[row[0]].add(row[1:])\n",
    "\n",
    "        return {k : trie(v,n-1) for k, v in q.items()}\n",
    "\n",
    "trie(edge, 2)\n",
    "\n",
    "\n"
   ]
  },
  {
   "cell_type": "code",
   "execution_count": null,
   "id": "c3279025",
   "metadata": {},
   "outputs": [
    {
     "data": {
      "text/plain": [
       "{2: {3: {}, 1: {}}, 1: {2: {}}}"
      ]
     },
     "execution_count": 18,
     "metadata": {},
     "output_type": "execute_result"
    }
   ],
   "source": [
    "def trie(R):\n",
    "    root = {}\n",
    "    for row in R:\n",
    "        node = root\n",
    "        for v in row:\n",
    "            node = node.setdefault(v, {})\n",
    "    return root\n",
    "\n",
    "trie(edge)"
   ]
  },
  {
   "cell_type": "code",
   "execution_count": null,
   "id": "9937bd84",
   "metadata": {},
   "outputs": [
    {
     "data": {
      "text/plain": [
       "{3: {2: {}}, 2: {1: {}}, 1: {2: {}}}"
      ]
     },
     "execution_count": 21,
     "metadata": {},
     "output_type": "execute_result"
    }
   ],
   "source": [
    "def trie(R, args):\n",
    "    root = {}\n",
    "    for row in R:\n",
    "        node = root\n",
    "        for n, v in sorted(zip(args, row)):\n",
    "            node = node.setdefault(v, {})\n",
    "    return root\n",
    "\n",
    "trie(edge, [0,1])\n",
    "trie(edge, [1,0])"
   ]
  },
  {
   "cell_type": "code",
   "execution_count": null,
   "id": "47ebe4d0",
   "metadata": {},
   "outputs": [],
   "source": [
    "def trie(R, pat):\n",
    "    root = {}\n",
    "    for row in R:\n",
    "        env = {}\n",
    "        for n, v in sorted(zip(pat, row)):\n",
    "            if isinstance(n,Var) and n in env:\n",
    "                if env[n] != v:\n",
    "                    break\n",
    "                else:\n",
    "                    env[n] = v\n",
    "            else:\n",
    "                if n != v: # literal pattern\n",
    "                    break\n",
    "        else:\n",
    "            node = root\n",
    "            for n, v in sorted(env.items()):\n",
    "                node = node.setdefault(v, {})\n",
    "    return root\n",
    "\n",
    "trie(edge, [0,1])\n",
    "trie(edge, [1,0])"
   ]
  },
  {
   "cell_type": "code",
   "execution_count": null,
   "id": "9e84c96b",
   "metadata": {},
   "outputs": [],
   "source": [
    "def run(db):\n",
    "    for x in db.V:\n",
    "        for y in db.V:\n",
    "            "
   ]
  }
 ],
 "metadata": {
  "kernelspec": {
   "display_name": "philzook58.github.io",
   "language": "python",
   "name": "python3"
  },
  "language_info": {
   "codemirror_mode": {
    "name": "ipython",
    "version": 3
   },
   "file_extension": ".py",
   "mimetype": "text/x-python",
   "name": "python",
   "nbconvert_exporter": "python",
   "pygments_lexer": "ipython3",
   "version": "3.12.3"
  }
 },
 "nbformat": 4,
 "nbformat_minor": 5
}
