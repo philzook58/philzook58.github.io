{
 "cells": [
  {
   "cell_type": "markdown",
   "id": "06eb228c",
   "metadata": {},
   "source": [
    "---\n",
    "title: \"Telescopes Are Tries: A Dependent Type Shellac on SQLite\" \n",
    "date: 2025-06-22\n",
    "---\n",
    "\n",
    "It seems to me that telescopes https://ncatlab.org/nlab/show/type+telescope , the dependently typed notion of context, is more central to the topic of dependent types than the dependent types are.\n",
    "\n",
    "A telescope is a sequence of variables and their type such that later types in the sequence can depend on the earlier variables. \n",
    "\n",
    "`[x : A, y : B(x), z : C(x,y)]`\n",
    "\n",
    "These are the things often written as $\\Gamma$ in a typing judgement $\\Gamma \\vash t : A$ if you've seen such a thing. Another example might be `[A : Type, n : Nat, x : Vec n A]` for a having a list that is type constrained to be of length `n` in your current context.\n",
    "\n",
    "I have continued to think about this blog post https://www.philipzucker.com/frozenset_dtt/ which I rather like. By being vague and borrowing from the metalevel of python, I can kind of outline combinators that describe the simple finite set theoretic model of dependent type theory. This is a highly semantic approach to thinking about type theory and rarely the direction I see people go. Maybe they think it is so obvious it isn't worth mentioning or also they approach type theory as foundational and hence don't really want to appeal to some shitty half correct set-ty intuition to justify their inference rules. https://ncatlab.org/nlab/files/MartinLofOnTheMeaning96.pdf\n",
    "\n",
    "The connection I made in that blog post is that this nested binding in telescopes is very similar to the binding structure you can have with nested for loops in an ordinary programming language\n",
    "\n",
    "```python\n",
    "for x in A:\n",
    "    for y in B(x):\n",
    "        for z in C(x,y):\n",
    "            pass\n",
    "```\n",
    "\n",
    "Then, somewhat vaguely, the set of python contexts that appear inside that loop represents of models the syntax of the telescope. In other words, the runtime environments $\\rho$ are the things in the typing context $\\Gamma$.\n",
    "\n",
    "# Telescopes Are Tries\n",
    "\n",
    "On a walk I realized really that there is a more straightforward and less weird direct \"thing\" we can talk about to represent telescopes: Tries. https://en.wikipedia.org/wiki/Trie \n",
    "\n",
    "Tries are mappings that takes keys that are sequences. They are very useful data structures for string algorithms for example, because strings are sequences of characters.\n",
    "\n",
    "Tries can be implemented multiple ways, but one way is as nested dictionaries. These dictionaries can be seen as kind of lazy iterated cartesian products.\n",
    "\n",
    "```python\n",
    "{ x : {  y : {z : () for z in C(x,y)}  for y in B(x) }  for x in A}\n",
    "```\n",
    "\n",
    "Here's a simple example of a dependent context\n"
   ]
  },
  {
   "cell_type": "code",
   "execution_count": null,
   "id": "fa5c20b1",
   "metadata": {},
   "outputs": [
    {
     "data": {
      "text/plain": [
       "{False: {(): '()'},\n",
       " True: {<RGB.R: 1>: 'RGB.R', <RGB.G: 2>: 'RGB.G', <RGB.B: 3>: 'RGB.B'}}"
      ]
     },
     "execution_count": 24,
     "metadata": {},
     "output_type": "execute_result"
    }
   ],
   "source": [
    "from enum import Enum\n",
    "Bool = frozenset([True, False])\n",
    "RGB = Enum(\"RGB\", \"R G B\")\n",
    "Unit = frozenset([()])\n",
    "\n",
    "# [x : Bool, y : if x then RGB else Unit |- str(y) : String\n",
    "ex1 = {x :{ y : str(y) for y in (RGB if x else Unit)} for x in Bool } \n",
    "ex1\n"
   ]
  },
  {
   "cell_type": "markdown",
   "id": "596c06bf",
   "metadata": {},
   "source": [
    "In Lean, this example written as a function might look like"
   ]
  },
  {
   "cell_type": "code",
   "execution_count": null,
   "id": "4f29db6c",
   "metadata": {},
   "outputs": [
    {
     "name": "stdout",
     "output_type": "stream",
     "text": [
      "Overwriting /tmp/tele.lean\n"
     ]
    }
   ],
   "source": [
    "%%file /tmp/tele.lean\n",
    "inductive RGB where\n",
    "    | R : RGB\n",
    "    | G : RGB\n",
    "    | B : RGB\n",
    "\n",
    "-- You would have a tough time writing this exact program in Haskell or Ocaml\n",
    "def ex1 (x : Bool) (y : if x then RGB else Unit) : String :=\n",
    "    match x with\n",
    "    | true => match y with\n",
    "        | RGB.R => \"Red\"\n",
    "        | RGB.G => \"Green\"\n",
    "        | RGB.B => \"Blue\"\n",
    "    | false => match y with\n",
    "        | () => \"Unit\"\n",
    "\n",
    "def main : IO Unit := do\n",
    "    IO.println (ex1 true RGB.R)\n",
    "    IO.println (ex1 true RGB.G)\n",
    "    IO.println (ex1 true RGB.B)\n",
    "    IO.println (ex1 false ())"
   ]
  },
  {
   "cell_type": "code",
   "execution_count": 29,
   "id": "4a4a98eb",
   "metadata": {},
   "outputs": [
    {
     "name": "stdout",
     "output_type": "stream",
     "text": [
      "Red\n",
      "Green\n",
      "Blue\n",
      "Unit\n"
     ]
    }
   ],
   "source": [
    "! lean --run /tmp/tele.lean"
   ]
  },
  {
   "cell_type": "markdown",
   "id": "cde282f8",
   "metadata": {},
   "source": [
    "It is indeed a very mild usage of dependent types. It would not be so easy to write such a thing with these types in Haskell / Ocaml etc without some trickiness (singletons gadts etc)."
   ]
  },
  {
   "cell_type": "markdown",
   "id": "e12961cc",
   "metadata": {},
   "source": [
    "# Relating Relational and Telescope Style Conjunctive Queries\n",
    "\n",
    "Any telescope can be rewritten as a conjunctive query https://en.wikipedia.org/wiki/Conjunctive_query . Conjunctive queries look the like bodies of datalog rules.\n",
    "\n",
    "If we take the convention that every n-argument \"dependent type\" is actually just a notation for an n+1 relation, we can turn telescopes into conjunctive queries. `[x : A, y : B(x), z : C(x,y)]` becomes $A(x) \\land B(x,y) \\land C(x,y,z)$. Perhaps writing `z : C(x,y)` as `elem(C(x,y),z)` and then fusing/flattening `elem` with `C` to `C'(x,y,z)` makes this more clear. We do have a notation to refer to a first class set, which is kind of interesing. Not sure how important this is.\n",
    "\n",
    "This can in turn can be written as the SQL query. SQL binds rows rather than the elements in the rows like a conjunctive query / datalog body does. It is however quite mechanical to translate them.  https://www.philipzucker.com/tiny-sqlite-datalog/\n",
    "\n",
    "```SQL\n",
    "FROM A as a \n",
    "FROM B as b \n",
    "FROM C as c \n",
    "WHERE\n",
    "a.v0 = b.v0 AND\n",
    "b.v1 = c.v1 AND\n",
    "a.v0 = c.v0\n",
    "```\n",
    "\n",
    "Vice versa can also be achieved in various ways.\n",
    "\n",
    "$T(x,y) \\land T(y,z) \\land T(z,x)$ becomes `[x : Int, y : Int, z : Int, p1 : T(x,y), p2 : T(y,z), p3 : T(z,x)]`  or we could try to move the telescope around a little, which corresponds to lifting up loop invariant code in a for loop to `[x : Int, y : Int, p1 : T(x,y), z : Int, p2 : T(y,z), p3 : T(z,x)]` \n",
    "\n",
    "It seems in general it is easier to convert a telescope to a nice conjunctive query form than vice versa. Conjunctive queries have no restrictions on there being a nice ordering to the variables. There may not be a nice ordering or finding it is a task.\n",
    "\n",
    "I've notice in knuckledragger, which is a Hilbert style system that having your theorems in a \"standard form\" helps you write proof combinators that correspond to dependent type or sequent calculus rules. John Harrison's book makes a similar observation.\n",
    "\n",
    "Telescopes and Conjunctive queries kind of correspond to two \"standard forms\" you might like your logical formulas to appear as\n",
    "\n",
    "- \"Sequent form\" $\\forall x y z ... , ( A \\land B \\land C ...)  \\implies P$\n",
    "- Telescope form $\\forall x, A(x) \\implies (\\forall y, B(x,y) \\implies (... \\implies P))$ \n",
    "\n",
    "Always working in these two forms let's you form Hilbert style combinators that corresponds to sequence calculus rules or rules that look more like dependent type theory rules.\n",
    "\n",
    "## SQL-izing telescopes\n",
    "\n",
    "The thing that tries also triggers in my brain is database queries and worst case optimal join https://arxiv.org/pdf/2301.10841 which also are intimately connected to `for` loops.\n",
    "\n",
    "There is also strong correspondence between basic SQL queries and `for` loops. https://www.philipzucker.com/sql_graph_csp/\n",
    "\n",
    "Basically, the for loops correspond to the `FROM` statements, `if` statements correspond to `WHERE` clauses, and `yield` corresponds to `SELECT`\n",
    "\n",
    "I'm abusing the python ast parsers like here https://github.com/true-grue/python-dsls/blob/main/datalog/datalog_test.py to get a DSL without writing a parser. I'm reusing the python type comment syntax which if you squint lookx like a typing judgement. To make this more complete, I should support more interesting expressions inside the arguments of types and in the result type.\n"
   ]
  },
  {
   "cell_type": "code",
   "execution_count": null,
   "id": "f8b1a5d5",
   "metadata": {},
   "outputs": [
    {
     "name": "stdout",
     "output_type": "stream",
     "text": [
      "INSERT INTO Path SELECT x_row.elem, y_row.elem, p_row.elem\n",
      "FROM\n",
      "Vert as x_row,\n",
      "Vert as y_row,\n",
      "Edge as p_row\n",
      "WHERE\n",
      "x_row.elem = p_row.x0 AND\n",
      "y_row.elem = p_row.x1\n"
     ]
    }
   ],
   "source": [
    "def to_query(has_type : str):\n",
    "    x = ast.parse(has_type, mode=\"func_type\")\n",
    "    body = x.argtypes\n",
    "    FROMS = []\n",
    "    WHERES = []\n",
    "    env = {}\n",
    "    for bind_num, binding in enumerate(body):\n",
    "        match binding:\n",
    "            case ast.Compare(left=ast.Name(id=var_name), ops=[ast.In()], comparators=[ast.Call(func=ast.Name(id=type_name), args=args, keywords=[])]):\n",
    "                row = var_name + \"_row\"\n",
    "                FROMS.append(f\"{type_name} as {row}\")\n",
    "                env[var_name] = row + \".elem\"\n",
    "                for n,arg in enumerate(args):\n",
    "                    WHERES.append(f\"{env[arg.id]} = {row}.x{n}\")\n",
    "            case _:\n",
    "                raise ValueError(f\"Ill formed binding\", ast.unparse(binding), ast.dump(binding))\n",
    "            \n",
    "    match x.returns:\n",
    "        case ast.Compare(left=ast.Name(id=t), ops=[ast.In()], comparators=[ast.Call(func=ast.Name(id=type_name), args=args, keywords=[])]):\n",
    "            selects = [f\"{env[arg.id]}\" for arg in args] + [env[t]]\n",
    "            return f\"INSERT INTO {type_name} SELECT {\", \".join(selects)}\" + \"\\nFROM\\n\" + \",\\n\". join(FROMS) + \"\\nWHERE\\n\" + \" AND\\n\".join(WHERES)\n",
    "        case _ :\n",
    "            raise ValueError(\"Ill formed return type\", ast.unparse(x.returns), ast.dump(x.returns))\n",
    "\n",
    "\n",
    "\n"
   ]
  },
  {
   "cell_type": "markdown",
   "id": "aa70a77d",
   "metadata": {},
   "source": [
    "We can show a transitive closure query.\n",
    "\n",
    "Read the following as `x : Vert, y : Vert, p : Edge(x,y), z : Vert, q : Path(y,z) |- p : Path(x,z)` "
   ]
  },
  {
   "cell_type": "code",
   "execution_count": null,
   "id": "d4adcf96",
   "metadata": {},
   "outputs": [
    {
     "name": "stdout",
     "output_type": "stream",
     "text": [
      "INSERT INTO Path SELECT x_row.elem, z_row.elem, p_row.elem\n",
      "FROM\n",
      "Vert as x_row,\n",
      "Vert as y_row,\n",
      "Edge as p_row,\n",
      "Vert as z_row,\n",
      "Path as q_row\n",
      "WHERE\n",
      "x_row.elem = p_row.x0 AND\n",
      "y_row.elem = p_row.x1 AND\n",
      "y_row.elem = q_row.x0 AND\n",
      "z_row.elem = q_row.x1\n"
     ]
    }
   ],
   "source": [
    "print(to_query(\"(x in Vert(), y in Vert(), p in Edge(x,y), z in Vert(), q in Path(y,z)) -> p in Path(x,z)\"))"
   ]
  },
  {
   "cell_type": "code",
   "execution_count": 169,
   "id": "5ca0ce8b",
   "metadata": {},
   "outputs": [
    {
     "name": "stdout",
     "output_type": "stream",
     "text": [
      "INSERT INTO Path SELECT x_row.elem, y_row.elem, p_row.elem\n",
      "FROM\n",
      "Vert as x_row,\n",
      "Vert as y_row,\n",
      "Edge as p_row\n",
      "WHERE\n",
      "x_row.elem = p_row.x0 AND\n",
      "y_row.elem = p_row.x1\n"
     ]
    }
   ],
   "source": [
    "print(to_query(\"(x in Vert(), y in Vert(), p in Edge(x,y)) -> p in Path(x,y)\"))"
   ]
  },
  {
   "cell_type": "markdown",
   "id": "6eff0e11",
   "metadata": {},
   "source": [
    "And lo and behold, we can actually run them too."
   ]
  },
  {
   "cell_type": "code",
   "execution_count": 165,
   "id": "f6db0df8",
   "metadata": {},
   "outputs": [
    {
     "data": {
      "text/plain": [
       "[(1, 2, -1), (2, 3, -1)]"
      ]
     },
     "execution_count": 165,
     "metadata": {},
     "output_type": "execute_result"
    }
   ],
   "source": [
    "import sqlite3\n",
    "db = sqlite3.connect(\":memory:\")\n",
    "db.execute(\"CREATE TABLE Vert (elem INTEGER)\")\n",
    "db.execute(\"CREATE TABLE Edge (x0 INTEGER, x1 INTEGER, elem INTEGER)\")\n",
    "db.execute(\"CREATE TABLE Path (x0 INTEGER, x1 INTEGER, elem INTEGER)\")\n",
    "db.execute(\"INSERT INTO Vert VALUES (1), (2), (3)\")\n",
    "db.execute(\"INSERT INTO Edge VALUES (1,2, -1), (2,3,-1)\")\n",
    "db.execute(to_query(\"(x in Vert(), y in Vert(), p in Edge(x,y)) -> p in Path(x,y)\"))\n",
    "db.execute(\"SELECT * FROM Path\").fetchall()"
   ]
  },
  {
   "cell_type": "code",
   "execution_count": 166,
   "id": "d6f556d9",
   "metadata": {},
   "outputs": [
    {
     "data": {
      "text/plain": [
       "[(1, 2, -1), (2, 3, -1), (1, 3, -1)]"
      ]
     },
     "execution_count": 166,
     "metadata": {},
     "output_type": "execute_result"
    }
   ],
   "source": [
    "db.execute(to_query(\"(x in Vert(), y in Vert(),  p in Edge(x,y), z in Vert(), q in Path(y,z)) -> p in Path(x,z)\"))\n",
    "db.execute(\"SELECT * FROM Path\").fetchall()"
   ]
  },
  {
   "cell_type": "code",
   "execution_count": null,
   "id": "1ad70cce",
   "metadata": {},
   "outputs": [],
   "source": []
  },
  {
   "cell_type": "markdown",
   "id": "0ec0d5cd",
   "metadata": {},
   "source": [
    "# Bits and Bobbles\n",
    "\n",
    "It would be interesting to take Telescopes are tries deeply into the database system. I think down this road lies an interesting idea of a dependently typed egraph. Asserting definitional equality would be the analog of an egglog union. This is ultimately not that surprising. Generalized Algebraic theories was one of the original motivations of egglog. See also Bidlingmaier Eqlog.\n",
    "\n",
    "Something interesting is that the \"Type\" gives you a way to refer to the collection of things that all have the same first N columns. These are first class sets.\n",
    "\n",
    "Singleton tables are a way of removing WHERE statements in favor of more FROM clauses.\n",
    "\n",
    "Would `Id x y` want to be a first class union find? Bolting in theories, one could make `p : Id x y` be the sense in which x and y are equal, such that the group element that connects them.\n",
    "`7 : Id x y` <===> `x + 7 = y` . We may want to quotient by these notions of equality sometimes, but still be able to observe them sometimes also. Such as slotted egraphs, quotienting by alpha in one sense, and not quotiented by another.\n"
   ]
  },
  {
   "cell_type": "markdown",
   "id": "1c533f3c",
   "metadata": {},
   "source": [
    "# Provenance and Proof objects\n",
    "An interesting topic in datalog / database is provenance, knowing how a fact ended up in the database. This is a richer notion of truth value / proof object that just being in there or not.\n",
    "\n",
    "This also jives with the above perspective of `p : Path(x, y)` being kind of having a secret extra parameter in te relation `Path(x,y,p)` because this is basically how provenance is implemented. Souffle only records a single best provenance. This is evocative of proof irrelevance in type theory. We could also choose to store _all_ possible proof objects, which probably doesn't terminate, or some more sophisticated truncation like semiring provenance.\n",
    "\n",
    "https://arxiv.org/abs/2202.10766 Revisiting Semiring Provenance for Datalog\n",
    "https://souffle-lang.github.io/provenance\n",
    "\n",
    "Using sympy it might be easy ish to actually do this stuff on sqlite. You can make connectors to store python objects in sqlite databases"
   ]
  },
  {
   "cell_type": "markdown",
   "id": "f986a503",
   "metadata": {},
   "source": [
    "# Category of Tries\n",
    "\n",
    "If we lookup a trie with an incomplete key, that's kind of like currying the trie. The value the trie mapping maps to from that perspective is another trie. \n",
    "\n",
    "If you makes tries map to trie keys, tries actually can be composed. They form a category. This category corresponds to context mappings in type theory https://www.philipzucker.com/tele/  https://proofassistants.stackexchange.com/questions/2557/what-is-a-context-mapping-in-dependent-type-checking\n",
    "\n",
    "Tries are mappings from their keys to their values. Tries are themselves kind of the set of their keys. Any mapping data structure is kind of a set if you just put `()` as the held value."
   ]
  },
  {
   "cell_type": "code",
   "execution_count": null,
   "id": "658cc0dc",
   "metadata": {},
   "outputs": [],
   "source": [
    "def lookup(trie, key):\n",
    "    subtrie = trie\n",
    "    for v in key:\n",
    "        subtrie = subtrie.get(v)\n",
    "        if trie is None:\n",
    "            return None\n",
    "    return subtrie\n",
    "\n",
    "lookup( ex1 , [True, RGB.R])"
   ]
  },
  {
   "cell_type": "code",
   "execution_count": null,
   "id": "0608984d",
   "metadata": {},
   "outputs": [],
   "source": [
    "#type trie_morph = tuple[\"trie\", int] # a trie morphism is a trie and an integer saying at which point the domain is separate from the codomain. Maybe carrying more dom/cod data would be better.\n",
    "type trie_morph = object\n",
    "\n",
    "def id_(trie0, n) -> trie_morph:\n",
    "    def worker(trie, curkey):\n",
    "        if trie == ():\n",
    "            return curkey\n",
    "        else:\n",
    "            return {k: worker(v, curkey + [k]) for k, v in trie.items()}\n",
    "\n",
    "def items(trie):\n",
    "    def worker(trie, curkey):\n",
    "        if not isinstance(trie, dict):\n",
    "            yield (curkey, trie)\n",
    "        else:\n",
    "            for k, v in trie.items():\n",
    "                yield from  worker(v, curkey + [k]) \n",
    "    return worker(trie, [])\n",
    "\n",
    "def trie_map(trie, f):\n",
    "    def worker(trie):\n",
    "        if not isinstance(trie, dict):\n",
    "            return f(trie)\n",
    "        else:\n",
    "            return {k: worker(v) for k, v in trie.items()}\n",
    "    return worker(trie)\n",
    "\n",
    "def trie_map_with_key(trie, f):\n",
    "    def worker(trie, curkey):\n",
    "        if not isinstance(trie, dict):\n",
    "            return f(curkey, trie)\n",
    "        else:\n",
    "            return {k: worker(v, curkey + [k]) for k, v in trie.items()}\n",
    "    return worker(trie, [])\n",
    "\n",
    "def id1(trie0): # alternative way of writing id\n",
    "    trie_map_with_key(trie0, lambda k, x: k)\n",
    "\n",
    "def compose(trie0 : trie_morph, trie1 : trie_morph) -> trie_morph:\n",
    "    return trie_map(trie0, lambda x: lookup(trie1, x))"
   ]
  },
  {
   "cell_type": "markdown",
   "id": "03226ec1",
   "metadata": {},
   "source": [
    "The judgements that go under a context are\n",
    "\n",
    "- $\\Gamma \\vdash A type$ - A trie with keys $\\Gamma$ that has a type (frozenset) as it's held value\n",
    "- $\\Gamma \\vdash t : A$ - A trie with keys $\\Gamma$ that has the pair of a type and a value in the type as it's held value.\n",
    "\n",
    "\n",
    "The things to the right of $\\vdash$ should be the values being held in the trie.\n",
    "\n",
    "This helps me reconcile for example that `True` and `False` aren't the only things in Bool if you're not in an empty context like `x : Bool |- t : Bool`. This is because there are tries that have `True` at every leaf, which is sort of the trie-lift or trie-const form of bool, but there are also tries of course who's value depends on which branch of the trie you're in. These trie correspond to terms `t` that depend on the context variables."
   ]
  },
  {
   "cell_type": "code",
   "execution_count": null,
   "id": "888ca720",
   "metadata": {},
   "outputs": [],
   "source": [
    "def const_trie(trie, ntrie, value):\n",
    "    if ntrie <= 0:\n",
    "        return value\n",
    "    else:\n",
    "        return {k: const_trie(subtrie, ntrie - 1, value) for k,subtrie in trie.items()}\n",
    "const_trie(ex1, 2, 42)"
   ]
  },
  {
   "cell_type": "markdown",
   "id": "5c0907c2",
   "metadata": {},
   "source": [
    "# Knuckledragger style telescope to sqlite\n",
    "\n",
    "i made a small datalong in knuckledragger\n",
    "https://github.com/philzook58/knuckledragger/blob/main/kdrag/solvers/datalog.py\n"
   ]
  },
  {
   "cell_type": "code",
   "execution_count": null,
   "id": "a804b59b",
   "metadata": {},
   "outputs": [],
   "source": []
  },
  {
   "cell_type": "code",
   "execution_count": null,
   "id": "6111452f",
   "metadata": {},
   "outputs": [],
   "source": [
    "from kdrag.all import *\n",
    "type tele_env = dict[smt.ExprRef, str] # a mapping from variable name to where to find there in the sql query\n",
    "\n",
    "def compile(tele_rule : smt.ExprRef):\n",
    "    FROMS = []\n",
    "    WHERES = [\"true\"]\n",
    "    while isinstance(tele_rule, smt.QuantifierRef):\n",
    "        assert smt.is_forall(tele_rule)\n",
    "        [v], body = kd.open_binder_unhygienc(tele_rule)\n",
    "        assert smt.is_implies(body)\n",
    "        typ, tele__rule = body.arg(0), body.arg(1)\n",
    "    SELECT = f\"INSERT INTO {f.decl().name()} SELECT {\", \".join(f.children())}\"\n",
    "    query = f\"{SELECT} FROM {', '.join(FROMS)} WHERE {' AND '.join(WHERES)}\"\n",
    "    return query\n",
    "\n",
    "IntSet = smt.SetSort(smt.IntSort())\n",
    "Vert = smt.Const(\"Vert\", IntSet)\n",
    "Unit = kd.Enum(\"unit\", \"tt\")\n",
    "Edge = smt.Function(\"Edge\", smt.IntSort(), smt.IntSort(), Unit)\n",
    "Path = smt.Function(\"Path\", smt.IntSort(), smt.IntSort(), Unit)\n",
    "kd.QForAll([x], Vert, kd.QForAll([y], Vert, kd.QForAll([p], edge(x,y))))\n",
    "\n",
    "x,y,z = smt.Ints(\"x y z\")\n",
    "kd.TForAll([(x)])\n",
    "\n",
    "\n"
   ]
  },
  {
   "cell_type": "markdown",
   "id": "ff736e26",
   "metadata": {},
   "source": [
    "Relations `Set (A,B)` are the same thing (isomorphic to) functions/dictionaries to sets aka multivalued functions."
   ]
  },
  {
   "cell_type": "code",
   "execution_count": 10,
   "id": "a4633113",
   "metadata": {},
   "outputs": [
    {
     "data": {
      "text/plain": [
       "defaultdict(set, {(2, False): {3, 4}, (1, True): {2}})"
      ]
     },
     "execution_count": 10,
     "metadata": {},
     "output_type": "execute_result"
    }
   ],
   "source": [
    "from collections import defaultdict\n",
    "rel1 = {(1,True,2), (2,False,3), (2,False,4)}\n",
    "fun1 = {(1,True) : {2},  (2,False) : {3, 4}}\n",
    "\n",
    "def rel_to_fun(rel):\n",
    "    fun = defaultdict(set)\n",
    "    for xs in rel:\n",
    "        key, res = xs[:-1], xs[-1]\n",
    "        fun[key].add(res)\n",
    "    return fun\n",
    "\n",
    "rel_to_fun(rel1)\n"
   ]
  },
  {
   "cell_type": "code",
   "execution_count": 11,
   "id": "f07ed924",
   "metadata": {},
   "outputs": [
    {
     "data": {
      "text/plain": [
       "{(1, True, 2), (2, False, 3), (2, False, 4)}"
      ]
     },
     "execution_count": 11,
     "metadata": {},
     "output_type": "execute_result"
    }
   ],
   "source": [
    "def fun_to_rel(fun):\n",
    "    rel = set()\n",
    "    for key, res in fun.items():\n",
    "        for r in res:\n",
    "            rel.add(key + (r,))\n",
    "    return rel\n",
    "fun_to_rel(fun1)"
   ]
  },
  {
   "cell_type": "markdown",
   "id": "e1f0b5e4",
   "metadata": {},
   "source": [
    "So we can take the convention on SQL tables that the table `C` with 3 columns is actually representing a multivalued function from the first 2 columns to the third.\n"
   ]
  },
  {
   "cell_type": "markdown",
   "id": "e60796b1",
   "metadata": {},
   "source": [
    "\n"
   ]
  },
  {
   "cell_type": "markdown",
   "id": "e7cc03e8",
   "metadata": {},
   "source": [
    "Subsingleton/Propositions https://ncatlab.org/nlab/show/subsingleton are tables with an actual functional dependency between the inputs and output. There is either no key or just one.\n",
    "\n",
    "This is kind of a cute way to replace an `if` statements with a `for` loop. \n",
    "\n",
    "Analogously, in SQL, a `WHERE` clause can be replaced by a table that is either empty or has one row for that key.\n",
    "\n",
    "\n",
    "\n"
   ]
  },
  {
   "cell_type": "code",
   "execution_count": 20,
   "id": "e6d11b74",
   "metadata": {},
   "outputs": [
    {
     "name": "stdout",
     "output_type": "stream",
     "text": [
      "its true\n"
     ]
    }
   ],
   "source": [
    "if True:\n",
    "    print(\"its true\")\n",
    "\n",
    "if False:\n",
    "    print(\"shouldn't print\")"
   ]
  },
  {
   "cell_type": "code",
   "execution_count": 21,
   "id": "ed086b4e",
   "metadata": {},
   "outputs": [
    {
     "name": "stdout",
     "output_type": "stream",
     "text": [
      "also true\n"
     ]
    }
   ],
   "source": [
    "for x in [\"just one thing\"]:\n",
    "    print(\"also true\")\n",
    "\n",
    "for x in []:\n",
    "    print(\"shouldn't print\")"
   ]
  },
  {
   "cell_type": "markdown",
   "id": "37f32a12",
   "metadata": {},
   "source": [
    "\n"
   ]
  },
  {
   "cell_type": "code",
   "execution_count": null,
   "id": "72e4f399",
   "metadata": {},
   "outputs": [],
   "source": [
    "import sqlite3\n",
    "\n",
    "con = sqlite3.connect(\":memory:\")\n",
    "cur = con.cursor()\n",
    "cur.execute(\"CREATE TABLE rel1 (x,y,z)\")\n",
    "cur.executemany(\"INSERT INTO rel1 VALUES (?,?,?)\", rel1)\n",
    "cur.execute(\"SELECT * FROM rel1\").fetchall()"
   ]
  },
  {
   "cell_type": "markdown",
   "id": "61b10118",
   "metadata": {},
   "source": []
  },
  {
   "cell_type": "code",
   "execution_count": null,
   "id": "39506026",
   "metadata": {},
   "outputs": [
    {
     "data": {
      "text/plain": [
       "QQ[s,c]/<c**2 + s**2 - 1>"
      ]
     },
     "execution_count": 32,
     "metadata": {},
     "output_type": "execute_result"
    }
   ],
   "source": [
    "from sympy import *\n",
    "x, y, z = symbols('x y z')\n",
    "# make a semiring mod x**2 - 1\n",
    "from sympy.abc import x\n",
    "from sympy import QQ\n",
    "QQ.old_poly_ring(x).quotient_ring(QQ.old_poly_ring(x).ideal(x**2))\n",
    "QQ.old_poly_ring(x).quotient_ring([x**2])\n",
    "\n",
    "s, c = symbols('s, c')\n",
    "QQ.old_poly_ring(s, c) / [s**2 + c**2 - 1]"
   ]
  },
  {
   "cell_type": "markdown",
   "id": "eb602ed7",
   "metadata": {},
   "source": []
  },
  {
   "cell_type": "code",
   "execution_count": null,
   "id": "f0b2c46b",
   "metadata": {},
   "outputs": [],
   "source": []
  },
  {
   "cell_type": "code",
   "execution_count": null,
   "id": "c3994c7f",
   "metadata": {},
   "outputs": [],
   "source": []
  },
  {
   "cell_type": "markdown",
   "id": "fc132236",
   "metadata": {},
   "source": []
  },
  {
   "cell_type": "code",
   "execution_count": null,
   "id": "204511ba",
   "metadata": {},
   "outputs": [],
   "source": []
  },
  {
   "cell_type": "markdown",
   "id": "48561d69",
   "metadata": {},
   "source": [
    "# Bits and Bobbles"
   ]
  },
  {
   "cell_type": "markdown",
   "id": "b6dbc2f0",
   "metadata": {},
   "source": [
    "https://github.com/true-grue/python-dsls/blob/main/datalog/datalog_test.py"
   ]
  },
  {
   "cell_type": "code",
   "execution_count": 114,
   "id": "8dbb0fdd",
   "metadata": {},
   "outputs": [
    {
     "name": "stdout",
     "output_type": "stream",
     "text": [
      "Module(\n",
      "    body=[\n",
      "        AnnAssign(\n",
      "            target=Name(id='x', ctx=Store()),\n",
      "            annotation=Name(id='A', ctx=Load()),\n",
      "            simple=1),\n",
      "        AnnAssign(\n",
      "            target=Name(id='y', ctx=Store()),\n",
      "            annotation=Name(id='B', ctx=Load()),\n",
      "            simple=1),\n",
      "        Expr(\n",
      "            value=Compare(\n",
      "                left=Name(id='t', ctx=Load()),\n",
      "                ops=[\n",
      "                    Eq(),\n",
      "                    In()],\n",
      "                comparators=[\n",
      "                    Name(id='t1', ctx=Load()),\n",
      "                    Name(id='A', ctx=Load())]))],\n",
      "    type_ignores=[])\n"
     ]
    }
   ],
   "source": [
    "#def Tele(x, A, cb):\n",
    "import ast\n",
    "#print(ast.dump(ast.parse(\"[x in int, b in int] >= t in A\", mode=\"eval\"), indent=4))\n",
    "ast.dump(ast.parse(\"(x in A, y in B) -> t == t1 in A\", mode=\"func_type\"), indent=4)\n",
    "print(ast.dump(ast.parse(\"x : A; y : B; t == t1 in A\", mode=\"exec\"), indent=4)) # yield, asset\n",
    "#print(ast.dump(ast.parse(\"[x in int, b in int] => x in B\")))\n"
   ]
  },
  {
   "cell_type": "markdown",
   "id": "ad5d51d9",
   "metadata": {},
   "source": [
    "What does cross stage get us? We get to produce python code.\n"
   ]
  },
  {
   "cell_type": "code",
   "execution_count": 115,
   "id": "77116416",
   "metadata": {},
   "outputs": [
    {
     "data": {
      "text/html": [
       "x&middot;x&middot;x&middot;x"
      ],
      "text/plain": [
       "x*x*x*x"
      ]
     },
     "execution_count": 115,
     "metadata": {},
     "output_type": "execute_result"
    }
   ],
   "source": [
    "import z3\n",
    "# cross stage persistence\n",
    "def cross(e : z3.ExprRef) -> str:\n",
    "    return f\"z3.deserialize(\\\"{e.serialize()}\\\")\".replace(\"\\n\", \"\")\n",
    "\n",
    "def mypow(n : int, e : z3.ExprRef) -> str:\n",
    "    if n == 0:\n",
    "        return cross(e)\n",
    "    else:\n",
    "        return f\"{cross(e)} * {mypow(n - 1, e)}\"\n",
    "\n",
    "eval(cross(z3.Int('x')))\n",
    "eval(mypow(3, z3.Int('x')))\n",
    "\n",
    "def mypow1(n, e):\n",
    "    if n == 0:\n",
    "        return e\n",
    "    else:\n",
    "        return e * mypow1(n - 1, e)\n",
    "mypow1(3, z3.Int('x'))"
   ]
  },
  {
   "cell_type": "code",
   "execution_count": 96,
   "id": "013e42d0",
   "metadata": {},
   "outputs": [
    {
     "data": {
      "text/html": [
       "x"
      ],
      "text/plain": [
       "x"
      ]
     },
     "execution_count": 96,
     "metadata": {},
     "output_type": "execute_result"
    }
   ],
   "source": [
    "z3.deserialize(\"(declare-fun F (Int) Bool)\\n(declare-fun x () Int)\\n(assert (F x))\\n\")"
   ]
  },
  {
   "cell_type": "code",
   "execution_count": null,
   "id": "e899aaf0",
   "metadata": {},
   "outputs": [
    {
     "name": "stdout",
     "output_type": "stream",
     "text": [
      "Module(\n",
      "    body=[\n",
      "        For(\n",
      "            target=Name(id='x', ctx=Store()),\n",
      "            iter=Call(\n",
      "                func=Name(id='range', ctx=Load()),\n",
      "                args=[\n",
      "                    Constant(value=7)],\n",
      "                keywords=[]),\n",
      "            body=[\n",
      "                Expr(\n",
      "                    value=Call(\n",
      "                        func=Name(id='print', ctx=Load()),\n",
      "                        args=[\n",
      "                            Name(id='x', ctx=Load())],\n",
      "                        keywords=[]))],\n",
      "            orelse=[],\n",
      "            type_comment='int')],\n",
      "    type_ignores=[])\n"
     ]
    },
    {
     "data": {
      "text/plain": [
       "(1, 2)"
      ]
     },
     "execution_count": 54,
     "metadata": {},
     "output_type": "execute_result"
    }
   ],
   "source": [
    "print(ast.dump(ast.parse(\"\"\"\n",
    "for x in range(7): # type: int\n",
    "    print(x)\n",
    "\"\"\",type_comments=True), indent=4))\n",
    "ast.unparse\n",
    "ast.literal_eval(\"(1,2)\")\n",
    "ast.literal_eval(\"\")"
   ]
  }
 ],
 "metadata": {
  "kernelspec": {
   "display_name": ".venv",
   "language": "python",
   "name": "python3"
  },
  "language_info": {
   "codemirror_mode": {
    "name": "ipython",
    "version": 3
   },
   "file_extension": ".py",
   "mimetype": "text/x-python",
   "name": "python",
   "nbconvert_exporter": "python",
   "pygments_lexer": "ipython3",
   "version": "3.12.3"
  }
 },
 "nbformat": 4,
 "nbformat_minor": 5
}
