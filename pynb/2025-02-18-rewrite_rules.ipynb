{
 "cells": [
  {
   "cell_type": "markdown",
   "metadata": {},
   "source": [
    "---\n",
    "title: Where are all the Rewrite Rules?\n",
    "date: 2025-02-17\n",
    "---\n",
    "\n",
    "I think a thing that'd be nice is to have a databank of rewrite rules. Here's some of the ones I know about.\n",
    "\n",
    "IF YOU HAVE ANY INTERESTING OR NOT SO INTERESTING RULES PLEASE DROP ME A LINE. You can email me at philzuckerblog@gmail.com or dm me on the various social medias.\n",
    "\n",
    "I feel in particular I'm missing application oriented stuff. The easier thing to find is mathematical or theorem proving focussed in nature.\n",
    "\n",
    "Maybe it'd be nice to collate these into a common format. Is this even possible really? As the XKCD goes:\n",
    "\n",
    "![](https://imgs.xkcd.com/comics/standards.png)\n"
   ]
  },
  {
   "cell_type": "markdown",
   "metadata": {},
   "source": [
    "# Integer Properties\n",
    "There are some common named properties of integers.\n",
    "\n",
    "Actually very few of them are good as rewrite rules do to looping.\n"
   ]
  },
  {
   "cell_type": "code",
   "execution_count": 4,
   "metadata": {},
   "outputs": [],
   "source": [
    "from kdrag.all import *\n",
    "\n",
    "n, m, k = smt.Ints(\"n m k\")\n",
    "add_comm = kd.prove(smt.ForAll([n, m], n + m == m + n))\n",
    "add_assoc = kd.prove(smt.ForAll([n, m, k], n + (m + k) == (n + m) + k))\n",
    "add_zero = kd.prove(smt.ForAll([n], n + 0 == n))\n",
    "add_inv = kd.prove(smt.ForAll([n], n + -n == 0))\n",
    "\n",
    "add_monotone = kd.prove(kd.QForAll([n, m, k], n <= m, n + k <= m + k))\n",
    "\n",
    "mul_comm = kd.prove(smt.ForAll([n, m], n * m == m * n))\n",
    "mul_assoc = kd.prove(smt.ForAll([n, m, k], n * (m * k) == (n * m) * k))\n",
    "mul_one = kd.prove(smt.ForAll([n], n * 1 == n))\n",
    "mul_zero = kd.prove(smt.ForAll([n], n * 0 == 0))\n",
    "\n",
    "mul_monotone = kd.prove(kd.QForAll([n, m, k], n <= m, k >= 0, n * k <= m * k))\n",
    "\n",
    "\n",
    "le_refl = kd.prove(smt.ForAll([n], n <= n))\n",
    "le_trans = kd.prove(kd.QForAll([n, m, k], n <= m, m <= k, n <= k))\n",
    "\n",
    "\n",
    "lt_trans = kd.prove(kd.QForAll([n, m, k], n < m, m < k, n < k))\n",
    "lt_total = kd.prove(kd.QForAll([n, m], smt.Or(n < m, n == m, m < n)))\n",
    "\n",
    "\n",
    "distrib_left = kd.prove(smt.ForAll([n, m, k], n * (m + k) == n * m + n * k))\n",
    "distrib_right = kd.prove(smt.ForAll([n, m, k], (m + k) * n == m * n + k * n))"
   ]
  },
  {
   "cell_type": "markdown",
   "metadata": {},
   "source": [
    "# Differentiation\n",
    "https://www.philipzucker.com/z3_diff/\n",
    "\n",
    "There are different approaches to differentiation. Some make semantically very poor sense.\n",
    "\n",
    "One way is to \"yonedaify\" and have X denote the identity function `fun x => x` and the functions `sin : (R -> R) -> (R -> R)` actually represent `sin : R -> R` precomposed with composition. Then the naive autodiff rules kind of work.\n",
    "\n",
    "\n",
    "Another approach is to have \"x\" mean a real valued function on some unknown manifold `M`. `X : M -> R` . Then `d(X)` is actually a thing with smenatic meaning and you can track them around.\n",
    "https://github.com/nick8325/twee/blob/master/tests/deriv.p"
   ]
  },
  {
   "cell_type": "code",
   "execution_count": 10,
   "metadata": {},
   "outputs": [],
   "source": [
    "from kdrag.all import *\n",
    "import kdrag.theories.real as real\n",
    "\n",
    "x,c = smt.Reals(\"x c\")\n",
    "f,g = smt.Consts(\"f g\", real.RFun)\n",
    "X = smt.Lambda([x], x)\n",
    "deriv = real.deriv\n",
    "\n",
    "rules = [\n",
    "    deriv(X) == real.const(1),\n",
    "    smt.ForAll([c], deriv(real.const(c)) == real.const(0)),\n",
    "    smt.ForAll([f, g], deriv(f + g) == deriv(f) + deriv(g)),\n",
    "    smt.ForAll([f, g], deriv(f * g) == deriv(f) * g + f * deriv(g)),\n",
    "]\n"
   ]
  },
  {
   "cell_type": "code",
   "execution_count": null,
   "metadata": {},
   "outputs": [],
   "source": [
    "M = smt.DeclareSort(\"M\")\n",
    "V = smt.DeclareSort(\"V\") # tangent space\n",
    "d = smt.Function(\"d\", M >> real.R,  smt.ArraySort(M, V, real.R))\n",
    "# I don't really have this hammered out."
   ]
  },
  {
   "cell_type": "markdown",
   "metadata": {},
   "source": [
    "# Sets \n",
    "\n",
    "https://en.wikipedia.org/wiki/Algebra_of_sets \n",
    "https://en.wikipedia.org/wiki/List_of_set_identities_and_relations\n",
    "\n",
    "\n",
    "Kuratowksi closure axioms for topology https://en.wikipedia.org/wiki/Kuratowski_closure_axioms"
   ]
  },
  {
   "cell_type": "code",
   "execution_count": null,
   "metadata": {},
   "outputs": [],
   "source": [
    "from kdrag.all import *\n",
    "import kdrag.theories.set as set_\n",
    "\n",
    "T = smt.DeclareTypeVar(\"T\")\n",
    "S = set_.Set(T)\n",
    "A,B,C = smt.Consts(\"A B C\", S)\n",
    "\n",
    "union_comm = kd.prove(smt.ForAll([A, B], A | B == B | A))\n",
    "union_assoc = kd.prove(smt.ForAll([A, B, C], (A | B) | C == A | (B | C)))\n",
    "union_empty = kd.prove(smt.ForAll([A], A | S.empty == A))\n",
    "union_full = kd.prove(smt.ForAll([A], A | S.full == S.full))\n",
    "union_self = kd.prove(smt.ForAll([A], A | A == A))\n",
    "\n",
    "inter_comm = kd.prove(smt.ForAll([A, B], A & B == B & A))\n",
    "inter_assoc = kd.prove(smt.ForAll([A, B, C], (A & B) & C == A & (B & C)))\n",
    "inter_empty = kd.prove(smt.ForAll([A], A & S.empty == S.empty))\n",
    "inter_full = kd.prove(smt.ForAll([A], A & S.full == A))\n",
    "inter_self = kd.prove(smt.ForAll([A], A & A == A))\n",
    "\n",
    "diff_empty = kd.prove(smt.ForAll([A], A - S.empty == A))\n",
    "diff_full = kd.prove(smt.ForAll([A], A - S.full == S.empty))\n",
    "diff_self = kd.prove(smt.ForAll([A], A - A == S.empty))"
   ]
  },
  {
   "cell_type": "markdown",
   "metadata": {},
   "source": [
    "# BitVectors\n"
   ]
  },
  {
   "cell_type": "code",
   "execution_count": null,
   "metadata": {},
   "outputs": [],
   "source": [
    "class BVTheory:\n",
    "    def __init__(self, N):\n",
    "        self.N = N\n",
    "        x, y, z = smt.BitVecs(\"x y z\", N)\n",
    "        zero = smt.BitVecVal(0, N)\n",
    "        self.zero = zero\n",
    "        one = smt.BitVecVal(1, N)\n",
    "        self.one = one\n",
    "\n",
    "        self.bvadd_comm = kd.prove(smt.ForAll([x, y], x + y == y + x))\n",
    "        self.bvadd_assoc = kd.prove(smt.ForAll([x, y, z], (x + y) + z == x + (y + z)))\n",
    "        self.bvadd_id = kd.prove(smt.ForAll([x], x + zero == x))\n",
    "        self.bvadd_neg = kd.prove(smt.ForAll([x], x + (-x) == zero))\n",
    "\n",
    "        self.bvsub_self = kd.prove(smt.ForAll([x], x - x == zero))\n",
    "        self.bvsub_def = kd.prove(smt.ForAll([x, y], x - y == x + (-y)))\n",
    "\n",
    "        self.bvmul_comm = kd.prove(smt.ForAll([x, y], x * y == y * x))\n",
    "        self.bvmul_assoc = kd.prove(smt.ForAll([x, y, z], (x * y) * z == x * (y * z)))\n",
    "        self.bvmul_id = kd.prove(smt.ForAll([x], x * smt.BitVecVal(1, N) == x))\n",
    "        self.bvmul_zero = kd.prove(smt.ForAll([x], x * zero == zero))\n",
    "\n",
    "        self.bvand_comm = kd.prove(smt.ForAll([x, y], x & y == y & x))\n",
    "        self.bvand_assoc = kd.prove(smt.ForAll([x, y, z], (x & y) & z == x & (y & z)))\n",
    "        self.bvand_id = kd.prove(smt.ForAll([x], x & smt.BitVecVal(-1, N) == x))\n",
    "        self.bvand_zero = kd.prove(smt.ForAll([x], x & zero == zero))\n",
    "\n",
    "        self.bvor_comm = kd.prove(smt.ForAll([x, y], x | y == y | x))\n",
    "        self.bvor_assoc = kd.prove(smt.ForAll([x, y, z], (x | y) | z == x | (y | z)))\n",
    "        self.bvor_id = kd.prove(smt.ForAll([x], x | zero == x))\n",
    "        self.bvor_neg = kd.prove(smt.ForAll([x], x | ~x == smt.BitVecVal(-1, N)))\n",
    "\n",
    "        self.bvxor_comm = kd.prove(smt.ForAll([x, y], x ^ y == y ^ x))\n",
    "        self.bvxor_assoc = kd.prove(smt.ForAll([x, y, z], (x ^ y) ^ z == x ^ (y ^ z)))\n",
    "        self.bvxor_id = kd.prove(smt.ForAll([x], x ^ zero == x))\n",
    "        self.bvxor_self = kd.prove(smt.ForAll([x], x ^ x == zero))\n",
    "\n",
    "        self.bvshl_zero = kd.prove(smt.ForAll([x], x << zero == x))\n",
    "        self.bvshr_zero = kd.prove(smt.ForAll([x], smt.LShR(x, zero) == x))\n",
    "\n",
    "        # Bitwise simplification rules\n",
    "        self.bvand_self = kd.prove(smt.ForAll([x], x & x == x))\n",
    "        self.bvor_self = kd.prove(smt.ForAll([x], x | x == x))\n",
    "        self.bvxor_zero = kd.prove(smt.ForAll([x], x ^ zero == x))\n",
    "        self.bvnot_self = kd.prove(smt.ForAll([x], ~x == -x - 1))\n",
    "\n",
    "        # Rules for shifting and rotating\n",
    "        self.bvshl_self = kd.prove(\n",
    "            smt.ForAll([x, y], x << y == x * (one << y))\n",
    "        )  # Left shift as multiplication\n",
    "        # bvshr_self = kd.prove(smt.ForAll([x, y], smt.LShR(x, y) == x / (one << y)))  # Logical right shift as division\n",
    "        # bvashr_self = kd.prove(smt.ForAll([x, y], smt.AShr(x, y) == smt.If(x >> 31 == 0, smt.LShR(x, y), ~smt.LShR(~x, y))))  # Arithmetic right shift rule\n",
    "\n",
    "        # Simplification with negation and subtraction\n",
    "        self.bvsub_zero = kd.prove(smt.ForAll([x], x - zero == x))\n",
    "        self.bvsub_id = kd.prove(smt.ForAll([x], zero - x == -x))\n",
    "        self.bvadd_sub = kd.prove(smt.ForAll([x, y], x + (-y) == x - y))\n",
    "        self.bvsub_add = kd.prove(smt.ForAll([x, y], x - (-y) == x + y))\n",
    "\n",
    "        # Bitwise AND, OR, and XOR with constants\n",
    "        self.bvand_allones = kd.prove(smt.ForAll([x], x & smt.BitVecVal(-1, N) == x))\n",
    "        self.bvor_allzeros = kd.prove(smt.ForAll([x], x | zero == x))\n",
    "        self.bvxor_allzeros = kd.prove(smt.ForAll([x], x ^ zero == x))\n",
    "\n",
    "        # Distribution and absorption laws\n",
    "        self.bvand_or = kd.prove(\n",
    "            smt.ForAll([x, y, z], x & (y | z) == (x & y) | (x & z))\n",
    "        )\n",
    "        self.bvor_and = kd.prove(\n",
    "            smt.ForAll([x, y, z], x | (y & z) == (x | y) & (x | z))\n",
    "        )\n",
    "        self.bvand_absorb = kd.prove(smt.ForAll([x, y], x & (x | y) == x))\n",
    "        self.bvor_absorb = kd.prove(smt.ForAll([x, y], x | (x & y) == x))\n",
    "\n",
    "        # Shifting rules with zero and identity\n",
    "        self.bvshl_zero_shift = kd.prove(smt.ForAll([x], x << zero == x))\n",
    "        self.bvshr_zero_shift = kd.prove(smt.ForAll([x], smt.LShR(x, zero) == x))\n",
    "        # bvashr_zero_shift = kd.prove(smt.ForAll([x], smt.AShr(x, zero) == x))  # Arithmetic right shift by zero is identity\n",
    "        self.bvshl_allzeros = kd.prove(smt.ForAll([y], zero << y == zero))\n",
    "        self.bvshr_allzeros = kd.prove(smt.ForAll([y], smt.LShR(zero, y) == zero))\n",
    "        # bvashr_allzeros = kd.prove(smt.ForAll([y], smt.AShr(zero, y) == zero))  # Arithmetic right shift of zero is zero\n",
    "\n",
    "        # Additional rules for combining operations\n",
    "        # bvadd_and = kd.prove(smt.ForAll([x, y, z], (x & y) + (x & z) == x & (y + z)))  # AND distribution over addition\n",
    "        self.bvor_and_not = kd.prove(smt.ForAll([x, y], (x & y) | (x & ~y) == x))\n",
    "        # bvxor_and_not = kd.prove(smt.ForAll([x, y], (x & y) ^ (x & ~y) == y))  # Distribution of XOR and AND with negation\n",
    "\n",
    "        # Properties involving shifts and bit manipulations\n",
    "        self.bvshl_and = kd.prove(\n",
    "            smt.ForAll([x, y, z], (x & y) << z == (x << z) & (y << z))\n",
    "        )\n",
    "        self.bvshr_and = kd.prove(\n",
    "            smt.ForAll([x, y, z], smt.LShR(x & y, z) == smt.LShR(x, z) & smt.LShR(y, z))\n",
    "        )"
   ]
  },
  {
   "cell_type": "markdown",
   "metadata": {},
   "source": [
    "# Functional Programs\n",
    "\n",
    "THere are many interesting functional programs. Pure functional programs are a subset of term rerwiting systems. Functional programs are pretty natural feeling to me.\n",
    " Using general term rewriting systems to run functional programs is overkill and also inefficient.\n",
    "\n",
    "Evaluators\n",
    "\n",
    "\n",
    "Functional programs can be in the form of if-then-else chains, but they can also be specified as equations on the constructors. The second form is familiar from haskell.\n"
   ]
  },
  {
   "cell_type": "markdown",
   "metadata": {},
   "source": [
    "## Ski Combinators\n",
    "https://en.wikipedia.org/wiki/SKI_combinator_calculus"
   ]
  },
  {
   "cell_type": "code",
   "execution_count": 16,
   "metadata": {},
   "outputs": [
    {
     "data": {
      "text/plain": [
       "[ForAll(x, app(I, x) == x),\n",
       " ForAll([x, y, z],\n",
       "        app(app(app(S, x), y), z) ==\n",
       "        app(app(x, z), app(y, z))),\n",
       " ForAll([x, y], app(app(K, x), y) == x)]"
      ]
     },
     "execution_count": 16,
     "metadata": {},
     "output_type": "execute_result"
    }
   ],
   "source": [
    "TERM = smt.DeclareSort(\"TERM\")\n",
    "\"\"\"\n",
    "Doesn't work without more tricks.\n",
    "I = smt.Const(\"I\", TERM >> TERM)\n",
    "S = smt.Const(\"S\", TERM >> (TERM >> (TERM >> TERM)))\n",
    "K = smt.Const(\"K\", TERM >> (TERM >> TERM))\n",
    "\"\"\"\n",
    "\n",
    "x,y,z = smt.Consts(\"x y z\", TERM)\n",
    "app = smt.Function(\"app\", TERM, TERM, TERM)\n",
    "I,S,K = smt.Consts(\"I S K\", TERM)\n",
    "\n",
    "kd.notation.getitem.register(TERM, app)\n",
    "\n",
    "rules = [\n",
    "    smt.ForAll([x], I[x] == x),\n",
    "    smt.ForAll([x, y, z], S[x][y][z] == x[z][y[z]]),\n",
    "    smt.ForAll([x, y], K[x][y] == x),\n",
    "]\n",
    "rules"
   ]
  },
  {
   "cell_type": "markdown",
   "metadata": {},
   "source": [
    "# FOILing\n",
    "\n",
    "Expanding out a polynomial by distributing. You may also want to sort all the terms."
   ]
  },
  {
   "cell_type": "markdown",
   "metadata": {},
   "source": [
    "## DNF\n",
    "DNF is putting a boolean expression into a giant sum  of conjductions, kind of the booolean analog of expanding out a polynomial"
   ]
  },
  {
   "cell_type": "code",
   "execution_count": 2,
   "metadata": {},
   "outputs": [
    {
     "data": {
      "text/plain": [
       "[|- ForAll(p, Not(Not(p)) == p),\n",
       " |- ForAll([p, q], Not(Or(p, q)) == And(Not(p), Not(q))),\n",
       " |- ForAll([p, q], Not(And(p, q)) == Or(Not(p), Not(q))),\n",
       " |- ForAll([p, q, r],\n",
       "        And(p, Or(q, r)) == Or(And(p, q), And(p, r))),\n",
       " |- ForAll([p, q, r],\n",
       "        And(Or(p, q), r) == Or(And(p, r), And(q, r)))]"
      ]
     },
     "execution_count": 2,
     "metadata": {},
     "output_type": "execute_result"
    }
   ],
   "source": [
    "from kdrag.all import *\n",
    "\n",
    "p,q,r = smt.Bools(\"p q r\")\n",
    "\n",
    "# DNF\n",
    "dnf = [\n",
    "smt.ForAll([p], ~~(p) == p),\n",
    "smt.ForAll([p,q], ~(p | q) == ~p & ~q),\n",
    "smt.ForAll([p,q], ~(p & q) == ~p | ~q),\n",
    "smt.ForAll([p,q,r], p & (q | r) == (p & q) | (p & r)),\n",
    "smt.ForAll([p,q,r], (p | q) & r == (p & r) | (q & r)),\n",
    "]\n",
    "\n",
    "dnf = [kd.prove(f) for f in dnf]\n",
    "dnf"
   ]
  },
  {
   "cell_type": "markdown",
   "metadata": {},
   "source": [
    "# Lists\n",
    "List functions\n",
    "https://ocaml.org/manual/5.3/api/List.html\n",
    "- `length`\n",
    "- `rev`\n",
    "- `append`\n",
    "- `hd`\n",
    "- `tl`\n",
    "- `concat`\n",
    "- `map`\n",
    "- `fold`\n",
    "- `mem`\n",
    "- `forall`\n",
    "- `exists`\n",
    "- "
   ]
  },
  {
   "cell_type": "markdown",
   "metadata": {},
   "source": [
    "# Eggiverse\n",
    "\n",
    "There are a variety of projects in an around Egg and UW that have collections of rules.\n",
    "\n",
    "- https://github.com/egraphs-good/egg/tree/main/tests people tend to take a look at eggs test examples, although I don't think they were meant to be the point\n",
    "- https://github.com/egraphs-good/egglog/tree/main/tests egglog has a number of example files\n",
    "- https://github.com/egraphs-good/egglog-python/tree/main/python/egglog/examples\n",
    "- https://github.com/herbie-fp/herbie/blob/main/src/core/rules.rkt Herbie rules. Herbie is an optimizer for floating point calculations.\n",
    "- https://github.com/uwplse/ruler/tree/main/tests Ruler rules. Ruler is a rule synthesis framework\n",
    "\n",
    "\n",
    "- https://github.com/egraphs-good/egglog/blob/main/tests/eqsolve.egg\n",
    "- https://github.com/egraphs-good/egglog/blob/main/tests/bdd.egg\n",
    "- https://github.com/egraphs-good/egglog/blob/main/tests/fibonacci.egg\n",
    "- https://github.com/egraphs-good/egglog/blob/main/tests/list.egg\n",
    "- https://github.com/egraphs-good/egglog/blob/main/tests/array.egg\n",
    "- https://github.com/egraphs-good/egglog/blob/main/tests/integer_math.egg\n",
    "- https://github.com/egraphs-good/egglog/blob/main/tests/herbie.egg"
   ]
  },
  {
   "cell_type": "code",
   "execution_count": null,
   "metadata": {},
   "outputs": [],
   "source": [
    "%%file \n",
    "(\n",
    "    datatype Math\n",
    "  (Num i64)\n",
    "  (Var String)\n",
    ")\n",
    "\n",
    "\n",
    "(datatype Array\n",
    "  (Const i64)\n",
    "  (AVar String)\n",
    ")\n",
    "\n",
    "(constructor add (Math Math) Math)\n",
    "(constructor select (Array Math) Math)\n",
    "(constructor store (Array Math Math) Array)\n",
    "\n",
    "(relation neq (Math Math))\n",
    "\n",
    "(rule ((neq x y))\n",
    "      ((neq y x)))\n",
    "\n",
    "(rule ((neq x x))\n",
    "      ((panic \"query (neq x x) found something equal to itself\")))\n",
    "\n",
    "\n",
    "; injectivity rules take not equal to not equal.\n",
    "(rule  ((neq x y) (= (add x z) e))\n",
    "       ((neq (add x z) (add y z))))\n",
    "(rule  ((= (add x (Num i)) e) (!= i 0))\n",
    "       ((neq e x)))\n",
    "\n",
    "\n",
    "(rule ((= (Num a) n1) (= (Num b) n2) (!= a b))\n",
    "      ((neq n1 n2)))\n",
    "\n",
    "; select gets from store\n",
    "(rewrite (select (store mem i e) i) e)\n",
    "; select passes through wrong index\n",
    "(rule ((= (select (store mem i1 e) i2) e1) (neq i1 i2))\n",
    "      ((union (select mem i2) e1)))\n",
    "; aliasing writes destroy old value\n",
    "(rewrite (store (store mem i e1) i e2) (store mem i e2))\n",
    "; non-aliasing writes commutes\n",
    "(rule ((= (store (store mem i2 e2) i1 e1) mem1) (neq i1 i2))\n",
    "      ((union (store (store mem i1 e1) i2 e2) mem1)))\n"
   ]
  },
  {
   "cell_type": "markdown",
   "metadata": {},
   "source": [
    "# Rubi Integration Rules\n",
    "\n",
    "There is a set of integration rules that supposedly work really well. THey arte overfit to mathematica unforutnately and that makes them hard to port\n",
    "\n",
    "https://rulebasedintegration.org/"
   ]
  },
  {
   "cell_type": "markdown",
   "metadata": {},
   "source": [
    "# Hongguang Fu Trig\n",
    "\n",
    "https://docs.sympy.org/latest/modules/simplify/fu.html\n",
    "https://github.com/sympy/sympy/blob/master/sympy/simplify/fu.py\n",
    "\n",
    "https://github.com/sympy/sympy/blob/2ce85934406c08d16d98c68e50c6fad4fcabbde7/sympy/simplify/trigsimp.py#L812\n",
    "\n",
    "https://en.wikipedia.org/wiki/List_of_trigonometric_identities"
   ]
  },
  {
   "cell_type": "markdown",
   "metadata": {},
   "source": [
    "# summation\n",
    "https://en.wikipedia.org/wiki/Summation#Identities\n",
    "https://courses.cs.washington.edu/courses/cse373/19sp/resources/math/summation/"
   ]
  },
  {
   "cell_type": "code",
   "execution_count": 3,
   "metadata": {},
   "outputs": [],
   "source": [
    "from kdrag.all import *\n",
    "import kdrag.theories.real as real\n",
    "\n",
    "Sum = smt.Function(\"Sum\", real.RSeq, smt.IntSort(), smt.IntSort(), smt.IntSort())\n",
    "f,g = smt.Consts(\"f g\", real.RSeq)\n",
    "c = smt.Real(\"c\")\n",
    "a,b = smt.Ints(\"a b\")\n",
    "rules = [\n",
    "    smt.ForAll([f,a], Sum(f, a, a) == f[a]),\n",
    "    smt.ForAll([f, g, a, b], Sum(f + g, a, b) == Sum(f, a, b) + Sum(g, a, b)),\n",
    "    smt.ForAll([f, g, a, b], Sum(f - g, a, b) == Sum(f, a, b) - Sum(g, a, b)),\n",
    "    smt.ForAll([f, g, a, b], Sum(f, a, b) == Sum(f, 0, b) - Sum(g, 0, a-1)),\n",
    "    smt.ForAll([f, g, c, a, b], Sum(smt.K(smt.IntSort(), c) * f, a, b) == c * Sum(f, a, b)),\n",
    "    smt.ForAll([c], Sum(smt.K(smt.IntSort(), c), a, b) == c * (b - a + 1)),\n",
    "]\n",
    "\n",
    "\n"
   ]
  },
  {
   "cell_type": "markdown",
   "metadata": {},
   "source": [
    "# Algebra\n",
    "Universal algerba can be a source of equations.\n",
    "https://en.wikipedia.org/wiki/Algebraic_structure\n",
    "- Group, Ring, Monoid, Lattice.\n"
   ]
  },
  {
   "cell_type": "markdown",
   "metadata": {},
   "source": [
    "# Kleene Algebra\n",
    "\n",
    "https://en.wikipedia.org/wiki/Kleene_algebra\n",
    "Kleene algebra is nearly an algebraic theory of pure equations (a couple are conditional equations). And yet it describes processes and regular expressions. Pretty cool!\n",
    "\n",
    "- https://www.philipzucker.com/bryzzowski_kat/\n",
    "- https://github.com/philzook58/egg-smol/blob/scratchpad2/tests/kleene.egg\n",
    "- https://github.com/mgree/katbury\n"
   ]
  },
  {
   "cell_type": "markdown",
   "metadata": {},
   "source": [
    "# Category Theory\n",
    "You can make a nearly equational theory for basic category by judicious placement of `cod` and `dom` to make sure the equations are unconditionally well sorted.\n",
    "\n",
    "https://www.philipzucker.com/rust-category/"
   ]
  },
  {
   "cell_type": "markdown",
   "metadata": {},
   "source": [
    "# Associating\n",
    "\n",
    "Left and right associating are useful operations. It's nearly trivial\n",
    "\n",
    "\n"
   ]
  },
  {
   "cell_type": "code",
   "execution_count": 8,
   "metadata": {},
   "outputs": [],
   "source": [
    "T = smt.DeclareSort(\"T\")\n",
    "binop = smt.Function(\"binop\", T, T, T)\n",
    "kd.notation.mul.register(T, binop)\n",
    "x,y,z = smt.Consts(\"x y z\", T)\n",
    "\n",
    "assoc_right = smt.ForAll([x,y,z], x * (y * z) == (x * y) * z)\n",
    "\n",
    "assoc_left = smt.ForAll([x,y,z], (x * y) * z == x * (y * z))\n",
    "\n",
    "\n"
   ]
  },
  {
   "cell_type": "markdown",
   "metadata": {},
   "source": [
    "# Rewrite Engine Competition\n",
    "- https://sourcesup.renater.fr/scm/viewvc.php/rec/2019-CONVECS/\n",
    "- https://github.com/philzook58/egglog-rec"
   ]
  },
  {
   "cell_type": "markdown",
   "metadata": {},
   "source": [
    "# Termination Competition\n",
    "\n",
    "The termination competition has a couple formats for string and term rewriting systems.\n",
    "\n",
    "- https://github.com/TermCOMP/TPDB Termination competition database\n",
    "- https://termination-portal.org/wiki/Termination_Competition\n",
    "- https://www.cs.tau.ac.il/~nachum/papers/printemp-print.pdf 33 examples of Termination by Dershowitz has some examples"
   ]
  },
  {
   "cell_type": "markdown",
   "metadata": {},
   "source": [
    "# TPTP UEQ\n",
    "There is a category of the TPTP theorem proving compeition for Unit Equality Proofs.\n",
    "\n",
    "There may be something similar in SMTLIB"
   ]
  },
  {
   "cell_type": "markdown",
   "metadata": {},
   "source": [
    "# Twee\n",
    "\n",
    "Twee is an equational theorem prover based around knuth bendix completion.\n",
    "\n",
    "It has some interesting stuff in its test directory\n",
    "\n",
    "https://github.com/nick8325/twee/tree/master/tests"
   ]
  },
  {
   "cell_type": "markdown",
   "metadata": {},
   "source": [
    "# GHC\n",
    "\n",
    "https://github.com/search?q=repo%3Aghc%2Fghc+%7B-%23+RULES&type=code"
   ]
  },
  {
   "cell_type": "markdown",
   "metadata": {},
   "source": [
    "## Hlint\n",
    "https://github.com/ndmitchell/hlint/blob/master/data/hlint.yaml"
   ]
  },
  {
   "cell_type": "code",
   "execution_count": null,
   "metadata": {},
   "outputs": [],
   "source": [
    "%%file\n",
    "    - warn: {lhs: compare x y == LT, rhs: x < y}\n",
    "    - warn: {lhs: compare x y /= LT, rhs: x >= y}\n",
    "    - warn: {lhs: compare x y == GT, rhs: x > y}\n",
    "    - warn: {lhs: compare x y == EQ, rhs: x == y}\n",
    "    - warn: {lhs: compare x y /= EQ, rhs: x /= y}\n",
    "    - warn: {lhs: head (sort x), rhs: minimum x}\n",
    "    - warn: {lhs: last (sort x), rhs: maximum x}\n",
    "    - warn: {lhs: head (sortBy f x), rhs: minimumBy f x, side: isCompare f}\n",
    "    - warn: {lhs: last (sortBy f x), rhs: maximumBy f x, side: isCompare f}\n",
    "    - warn: {lhs: reverse (sortBy f x), rhs: sortBy (flip f) x, name: Avoid reverse, side: isCompare f, note: Stabilizes sort order}\n",
    "    - warn: {lhs: sortBy (flip (comparing f)), rhs: sortBy (comparing (Data.Ord.Down . f))}\n",
    "    - warn: {lhs: reverse (sortOn f x), rhs: sortOn (Data.Ord.Down . f) x, name: Avoid reverse, note: Stabilizes sort order}\n",
    "    - warn: {lhs: reverse (sort x), rhs: sortBy (comparing Data.Ord.Down) x, name: Avoid reverse, note: Stabilizes sort order}\n",
    "    - hint: {lhs: flip (g `on` h), rhs: flip g `on` h, name: Move flip}\n",
    "    - hint: {lhs: (f `on` g) `on` h, rhs: f `on` (g . h), name: Use on once}\n",
    "    - warn: {lhs: if a >= b then a else b, rhs: max a b}\n",
    "\n",
    "    - warn: {lhs: findIndices (a ==), rhs: elemIndices a}\n",
    "    - warn: {lhs: findIndices (== a), rhs: elemIndices a}\n",
    "    - warn: {lhs: \"lookup b (zip l [0..])\", rhs: elemIndex b l}\n",
    "    - hint: {lhs: \"elem x [y]\", rhs: x == y, note: ValidInstance Eq a}\n",
    "    - hint: {lhs: \"notElem x [y]\", rhs: x /= y, note: ValidInstance Eq a}\n",
    "    - hint: {lhs: \"length [1..n]\", rhs: max 0 n}\n",
    "    - hint: {lhs: length x >= 0, rhs: \"True\", name: Length always non-negative}\n",
    "    - hint: {lhs: 0 <= length x, rhs: \"True\", name: Length always non-negative}\n",
    "\n",
    "    - hint: {lhs: pure x <* y, rhs: x Data.Functor.<$ y}\n",
    "    - hint: {lhs: return x <* y, rhs: x Data.Functor.<$ y}\n",
    "    - hint: {lhs: const x <$> y, rhs: x <$ y}\n",
    "    - hint: {lhs: pure x <$> y, rhs: x <$ y}\n",
    "    - hint: {lhs: return x <$> y, rhs: x <$ y}\n",
    "    - hint: {lhs: x <&> const y, rhs: x Data.Functor.$> y}\n",
    "    - hint: {lhs: x <&> pure y, rhs: x Data.Functor.$> y}"
   ]
  },
  {
   "cell_type": "markdown",
   "metadata": {},
   "source": [
    "# Go Compiler Rules\n",
    "\n",
    "The Go compiler has some declarative lowering rules.\n",
    "\n",
    "https://github.com/golang/go/tree/master/src/cmd/compile/internal/ssa/_gen"
   ]
  },
  {
   "cell_type": "code",
   "execution_count": null,
   "metadata": {},
   "outputs": [],
   "source": [
    "%%file \n",
    "// Shifts\n",
    "\n",
    "// SLL only considers the bottom 6 bits of y. If y > 64, the result should\n",
    "// always be 0.\n",
    "//\n",
    "// Breaking down the operation:\n",
    "//\n",
    "// (SLL x y) generates x << (y & 63).\n",
    "//\n",
    "// If y < 64, this is the value we want. Otherwise, we want zero.\n",
    "//\n",
    "// So, we AND with -1 * uint64(y < 64), which is 0xfffff... if y < 64 and 0 otherwise.\n",
    "(Lsh8x8   <t> x y) && !shiftIsBounded(v) => (AND (SLL <t> x y) (Neg8  <t> (SLTIU <t> [64] (ZeroExt8to64  y))))\n",
    "(Lsh8x16  <t> x y) && !shiftIsBounded(v) => (AND (SLL <t> x y) (Neg8  <t> (SLTIU <t> [64] (ZeroExt16to64 y))))\n",
    "(Lsh8x32  <t> x y) && !shiftIsBounded(v) => (AND (SLL <t> x y) (Neg8  <t> (SLTIU <t> [64] (ZeroExt32to64 y))))\n",
    "(Lsh8x64  <t> x y) && !shiftIsBounded(v) => (AND (SLL <t> x y) (Neg8  <t> (SLTIU <t> [64] y)))\n",
    "(Lsh16x8  <t> x y) && !shiftIsBounded(v) => (AND (SLL <t> x y) (Neg16 <t> (SLTIU <t> [64] (ZeroExt8to64  y))))\n",
    "(Lsh16x16 <t> x y) && !shiftIsBounded(v) => (AND (SLL <t> x y) (Neg16 <t> (SLTIU <t> [64] (ZeroExt16to64 y))))\n",
    "(Lsh16x32 <t> x y) && !shiftIsBounded(v) => (AND (SLL <t> x y) (Neg16 <t> (SLTIU <t> [64] (ZeroExt32to64 y))))\n",
    "(Lsh16x64 <t> x y) && !shiftIsBounded(v) => (AND (SLL <t> x y) (Neg16 <t> (SLTIU <t> [64] y)))\n",
    "(Lsh32x8  <t> x y) && !shiftIsBounded(v) => (AND (SLL <t> x y) (Neg32 <t> (SLTIU <t> [64] (ZeroExt8to64  y))))\n",
    "(Lsh32x16 <t> x y) && !shiftIsBounded(v) => (AND (SLL <t> x y) (Neg32 <t> (SLTIU <t> [64] (ZeroExt16to64 y))))"
   ]
  },
  {
   "cell_type": "markdown",
   "metadata": {},
   "source": [
    "# Cranelift\n",
    "\n",
    "Cranelift is a compiler backend written in rust. It's main purpose is to compile wasm, but I think that scope may be growing with time.\n",
    "Cranelift has a rewrite rule language called isle that is uses to describe optimizations and lowerings\n",
    "\n",
    "- https://github.com/bytecodealliance/wasmtime/tree/main/cranelift/codegen/src/opts\n",
    "- https://github.com/bytecodealliance/wasmtime/blob/main/cranelift/codegen/src/isa/riscv64/inst.isle\n",
    "- https://cs.wellesley.edu/~avh/veri-isle-preprint.pdf\n",
    "- https://cfallin.org/blog/2023/01/20/cranelift-isle/"
   ]
  },
  {
   "cell_type": "markdown",
   "metadata": {},
   "source": [
    "# CVC5\n",
    "\n",
    "CVC5 has a new rewrite rule engine RARE. There are theory specific files like https://github.com/cvc5/cvc5/blob/main/src/theory/bv/rewrites for bitvectors or https://github.com/cvc5/cvc5/blob/main/src/theory/arith/rewrites for arith. There is plenty that is programmatically rewritten too though. https://github.com/cvc5/cvc5/blob/main/src/theory/arith/arith_rewriter.cpp\n",
    "\n",
    "\n"
   ]
  },
  {
   "cell_type": "code",
   "execution_count": null,
   "metadata": {},
   "outputs": [],
   "source": [
    "%%file\n",
    "(define-cond-rule arith-div-total-real ((t ?) (s Real)) (not (= s 0/1)) (/ t s) (/_total t s))\n",
    "(define-cond-rule arith-div-total-int ((t ?) (s Int)) (not (= s 0)) (/ t s) (/_total t s))\n",
    "(define-rule arith-div-total-zero-real ((t ?)) (/_total t 0/1) 0/1)\n",
    "(define-rule arith-div-total-zero-int ((t ?)) (/_total t 0) 0/1)\n",
    "\n",
    "(define-cond-rule arith-int-div-total ((t Int) (s Int)) (not (= s 0)) (div t s) (div_total t s))\n",
    "(define-rule arith-int-div-total-one ((t Int)) (div_total t 1) t)\n",
    "(define-rule arith-int-div-total-zero ((t Int)) (div_total t 0) 0)\n",
    "\n",
    "(define-cond-rule arith-int-div-total-neg ((t Int) (s Int)) (< s 0) (div_total t s) (- (div_total t (- s))))\n",
    "\n",
    "(define-cond-rule arith-int-mod-total ((t Int) (s Int)) (not (= s 0)) (mod t s) (mod_total t s))\n",
    "(define-rule arith-int-mod-total-one ((t Int)) (mod_total t 1) 0)\n",
    "(define-rule arith-int-mod-total-zero ((t Int)) (mod_total t 0) t)\n",
    "\n",
    "(define-cond-rule arith-int-mod-total-neg ((t Int) (s Int)) (< s 0) (mod_total t s) (mod_total t (- s)))\n",
    "\n",
    "; Eliminations\n",
    "(define-rule arith-elim-gt ((t ?) (s ?)) (> t s) (not (<= t s)))\n",
    "(define-rule arith-elim-lt ((t ?) (s ?)) (< t s) (not (>= t s)))\n",
    "(define-rule arith-elim-int-gt ((t Int) (s Int)) (> t s) (>= t (+ s 1)))\n",
    "(define-rule arith-elim-int-lt ((t Int) (s Int)) (< t s) (>= s (+ t 1)))\n",
    "(define-rule arith-elim-leq ((t ?) (s ?)) (<= t s) (>= s t))"
   ]
  },
  {
   "cell_type": "markdown",
   "metadata": {},
   "source": [
    "# Metatheory\n",
    "- https://github.com/JuliaSymbolics/Metatheory.jl/tree/master/test/tutorials\n"
   ]
  },
  {
   "cell_type": "code",
   "execution_count": null,
   "metadata": {},
   "outputs": [],
   "source": [
    "function ⋅ end\n",
    "miu = @theory x y z begin\n",
    "  x ⋅ (y ⋅ z) --> (x ⋅ y) ⋅ z\n",
    "  x ⋅ :I ⋅ :END --> x ⋅ :I ⋅ :U ⋅ :END\n",
    "  :M ⋅ x ⋅ :END --> :M ⋅ x ⋅ x ⋅ :END\n",
    "  :I ⋅ :I ⋅ :I --> :U\n",
    "  x ⋅ :U ⋅ :U ⋅ y --> x ⋅ y\n",
    "end"
   ]
  },
  {
   "cell_type": "markdown",
   "metadata": {},
   "source": [
    "# Bits and Bobbles\n",
    "\n",
    "https://github.com/philzook58/awesome-egraphs Most of these projects must have rules in some form. Hard to find an collate them. Many go outside of a purely declarative subset.\n",
    "\n",
    "https://pypy.org/posts/2024/07/finding-simple-rewrite-rules-jit-z3.html\n",
    "\n",
    "Explicit substitution calculi.\n",
    "\n",
    "Algebraic graphs.\n",
    "\n",
    "Relation Algebra https://en.wikipedia.org/wiki/Relation_algebra\n",
    "https://en.wikipedia.org/wiki/Relational_algebra\n",
    "\n",
    "Linear algebra\n",
    "\n",
    "\n",
    "https://github.com/yihozhang/szalinski-egglog\n",
    "\n",
    "- halide ruler\n",
    "- herbie\n",
    "- egg suite\n",
    "- egglog suite\n",
    "- termination-comp\n",
    "- hlint\n",
    "- metatheory\n",
    "- https://github.com/yihozhang/egglog-pointer-analysis-benchmark\n",
    "- KAT\n",
    "\n",
    "- Lift/Rise?\n",
    "- speq?\n",
    "- Isaria\n",
    "- casc ueq\n",
    "- smtcomp maybe\n",
    "- tensat\n",
    "- glenside\n",
    "\n",
    "- cvc5 has the RARE rule files https://github.com/cvc5/cvc5/blob/main/src/theory/bv/rewrites\n",
    "\n",
    "- https://github.com/Z3Prover/z3/tree/master/src/ast/rewriter\n",
    "- https://github.com/Z3Prover/z3/blob/master/src/as\n",
    "\n",
    "- t/rewriter/rewriter.txt pretty interesting. Rewrite returns codes saying fail, done, rewritecdepth1 2 3 or full\n",
    "\n",
    "Physics\n",
    "- annihilation creation algebra\n",
    "- gamma matrices  \n",
    "\n",
    "- Geometric algebra\n",
    "- div grad curl\n",
    "\n",
    "-  Concrete Mathematics\n",
    "\n",
    "- Boolean Equations\n",
    "- List Rules\n",
    "- Arithmetic Rules\n",
    "- Kleene Algebra\n",
    "- Category Theory\n",
    "- \n",
    "\n",
    "\n",
    "- Egg examples\n",
    "- Twee\n",
    "- TPTP\n",
    "- REC\n",
    "- TermComp\n",
    "- Cranelift\n",
    "- \n",
    "\n",
    "- SMT theory files\n",
    "\n",
    "Rewrite rule synthesis https://inst.eecs.berkeley.edu/~cs294-260/sp24/projects/charleshong/ \"Theory exploration\"\n",
    "\n",
    "\n",
    "Halide\n",
    "LLVM\n",
    "PDDL and PDL for MLIR https://mlir.llvm.org/docs/PDLL/\n",
    "\n",
    "Does sympy, mathematica, maxima, etc have piles of declarative rewrite rules?\n",
    "\n",
    "https://github.com/sdiehl/pyrewrite/tree/master/examples\n",
    "https://dl.acm.org/doi/10.1145/3428234  Verifying and improving Halide’s term rewriting system with program synthesis\n",
    "\n",
    "- Relation algebra\n",
    "- peephole\n",
    "\n",
    "- https://leahneukirchen.org/caudex/equational-reasoning.html\n",
    "- http://www.mathmeth.com/read.shtml\n",
    "- https://inst.eecs.berkeley.edu/~cs294-260/sp24/2024-01-24-haskell-rewriting \n",
    "- deforestation\n",
    "\n",
    "\n",
    "<https://leahneukirchen.org/caudex/equational-reasoning.html> This is a nice pile of links.\n",
    "\n",
    "<https://www.cs.nott.ac.uk/~pszgmh/tpfa.pdf> Theorem Proving for All: Equational Reasoning in\n",
    "Liquid Haskell (Functional Pearl)\n",
    "\n",
    "Hutton calculating compiler\n",
    "\n",
    "See hlint rules <https://github.com/ndmitchell/hlint/blob/master/data/hlint.yaml>\n",
    "\n",
    "Quickspec <https://hackage.haskell.org/package/quickspec>\n",
    "\n",
    "Algebra of programming\n",
    "\n",
    "Bird and Gibbons Books <https://www.cs.ox.ac.uk/publications/books/functional/>\n",
    "\n",
    "\n",
    "Something that sometimes holds me back in my enthusiasm for egraphs and other automated theorem proving technology lately is that I'm missing a nice databank of rulesets and compelling examples. Making examples or benchmarks is actually quite hard, extremely useful, and sometimes underappreciated work.\n",
    "\n",
    "Upon self grilling myself on a walk, I can eventually remember a bunch of links and pointers and things.\n",
    "\n",
    "It is not exactly clear if reifying some of these rule sets is useful in the context of knuckledragger. It is not that useful to reify into a lemma something that z3 has the baked in ability to prove. On the other hand, sometimes the external solvers do not have these baked in and need them as explicit lemmas. It may also be important if you want to some precise rewrite or apply manipulations.\n",
    "\n",
    "I'm somewhat susceptible to existential crises like that. It's really important to stay grounded in actually trying to do, calculate, build something IMO. It can be easy to eventually be drawn into the technical stuff for it's own sake, or develop some nth degree unhinged abstractions, philosophy or design principles that ultimately apply to like 2 examples which are actually better dealt with via more elementary means.\n",
    "\n",
    "There isn't and I'm not sure there could be a uber format to declaratively specify rewrite rules. As the XKCD classic goes\n",
    "\n",
    "\n",
    "\n",
    "People need things tweaked.\n",
    "\n",
    "Perhaps an important lesson is that many of the published egg papers do funky shit that isn't really a pure rewrite rule.\n",
    "\n",
    "\n",
    "I pulled out some examples just to give a flavor of what you might find in these places.\n"
   ]
  }
 ],
 "metadata": {
  "kernelspec": {
   "display_name": ".venv",
   "language": "python",
   "name": "python3"
  },
  "language_info": {
   "codemirror_mode": {
    "name": "ipython",
    "version": 3
   },
   "file_extension": ".py",
   "mimetype": "text/x-python",
   "name": "python",
   "nbconvert_exporter": "python",
   "pygments_lexer": "ipython3",
   "version": "3.12.3"
  }
 },
 "nbformat": 4,
 "nbformat_minor": 2
}
