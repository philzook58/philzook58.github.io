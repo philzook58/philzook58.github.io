{
 "cells": [
  {
   "cell_type": "markdown",
   "id": "180755dd",
   "metadata": {},
   "source": [
    "---\n",
    "title: Substitution Etudes\n",
    "date: 2025-06-09\n",
    "---\n",
    "\n",
    "Examining the categorical formulation of simple substitutions is useful to understand more complex topics.\n",
    "\n",
    "Simple substitutions form a category.\n",
    "\n",
    "The objects are ordered lists of sorts representing the variables in contexts `[smt.Int(\"x\"), smt.Real(\"y\"), ...]`.\n",
    "\n",
    "Substitutions compose and have an identity in a natural way\n",
    "\n",
    "We give them names to easily reference them. Everything is actually alpha equivalent with respect to the names.\n",
    "`ts` are expressions like `[cos(x), sin(cos(x))]`. They kind of match a naive notion of \"function expression\".\n",
    "\n",
    "You can apply these things to a list of terms and they'll inject those terms into the variable positions.\n"
   ]
  },
  {
   "cell_type": "code",
   "execution_count": null,
   "id": "7ddaa7e4",
   "metadata": {},
   "outputs": [
    {
     "data": {
      "text/plain": [
       "Subst(dom=[y], cod=[x], ts=[y])"
      ]
     },
     "execution_count": 59,
     "metadata": {},
     "output_type": "execute_result"
    }
   ],
   "source": [
    "from dataclasses import dataclass\n",
    "from kdrag.all import *\n",
    "@dataclass\n",
    "class Subst():\n",
    "    dom : list[smt.ExprRef] # a list of variables\n",
    "    cod : list[smt.ExprRef] # Kind of redudnant but useful for seeing connection to telescopes\n",
    "    ts : list[smt.ExprRef] # same length and types as cod, with vars from dom\n",
    "    def __post_init__(self):\n",
    "        assert len(self.cod) == len(self.ts)\n",
    "    def __call__(self, *args):\n",
    "        \"\"\" Apply subst to multi term\"\"\"\n",
    "        if len(args) != len(self.dom):\n",
    "            raise ValueError(f\"Expected {len(self.dom)} arguments, got {len(args)}\")\n",
    "        return [smt.substitute(self.ts, *zip(self.dom, args)) for t in self.ts]\n",
    "    def __matmul__(self, other):\n",
    "        \"\"\"Composition plugs other's terms into self's holes\"\"\"\n",
    "        assert isinstance(other, Subst)\n",
    "        assert len(self.dom) == len(other.cod) and all(v.sort() == w.sort() for v, w in zip(self.dom, other.cod))\n",
    "        return Subst(other.dom, self.cod, [smt.substitute(t, *zip(self.dom, other.ts)) for t in self.ts])\n",
    "    @classmethod\n",
    "    def id_(cls, xs : list[smt.ExprRef]):\n",
    "        \"\"\" identity map does nothing\"\"\"\n",
    "        return Subst(xs, xs, xs)\n",
    "    def __mul__(self, other : Subst):\n",
    "        # a monoidal product of substitutions. Doing them in parallel.\n",
    "        assert isinstance(other, Subst)\n",
    "        def freshen(xs):\n",
    "            return [smt.FreshConst(x.sort(),prefix=x.decl().name()) for x in xs]\n",
    "        odom = freshen(other.dom)\n",
    "        ocod = freshen(other.cod)\n",
    "        ots = [smt.substitute(t, *zip(other.dom, odom)) for t in other.ts]\n",
    "        return Subst(self.dom + odom, self.cod + ocod, self.ts + odom)\n",
    "    def __eq__(self, other):\n",
    "        \"\"\"The proposition that two substitutions/morphisms are equal. To be assumed or proven\"\"\"\n",
    "        assert len(self.dom) == len(other.dom) and len(self.cod) == len(other.cod)\n",
    "        assert all(v.sort() == w.sort() for v, w in zip(self.dom, other.dom))\n",
    "        assert all(v.sort() == w.sort() for v, w in zip(self.cod, other.cod))\n",
    "        ots = [smt.substitute(t, *zip(other.dom, self.dom)) for t in other.ts] # rename to common variables self.dom\n",
    "        return smt.ForAll(self.dom, smt.And([t1 == t2 for (t1,t2) in zip(self.ts, ots)]))\n",
    "\n",
    "\n",
    "x,y,z = smt.Ints('x y z')\n",
    "Subst.id_([x]) @ Subst.id_([y])\n",
    "\n"
   ]
  },
  {
   "cell_type": "code",
   "execution_count": 30,
   "id": "76de46c7",
   "metadata": {},
   "outputs": [
    {
     "data": {
      "text/plain": [
       "Subst(dom=[x], cod=[y, z], ts=[x*7 + 1, x*7 - 2])"
      ]
     },
     "execution_count": 30,
     "metadata": {},
     "output_type": "execute_result"
    }
   ],
   "source": [
    "Subst([x], [y,z], [x + 1, x - 2]) @ Subst([x], [y], [x * 7])\n"
   ]
  },
  {
   "cell_type": "code",
   "execution_count": 31,
   "id": "c46eb784",
   "metadata": {},
   "outputs": [
    {
     "data": {
      "text/plain": [
       "Subst(dom=[x, y!7], cod=[x, y!8], ts=[x, y!7])"
      ]
     },
     "execution_count": 31,
     "metadata": {},
     "output_type": "execute_result"
    }
   ],
   "source": [
    "\n",
    "Subst.id_([x]) * Subst.id_([y])"
   ]
  },
  {
   "cell_type": "markdown",
   "id": "f3e658f4",
   "metadata": {},
   "source": [
    "A sequence of ground terms can be lifted into a subst coming from the empty context. This is a standard categorical trick of pointing out a particular thing by using a map from some unit object."
   ]
  },
  {
   "cell_type": "code",
   "execution_count": null,
   "id": "3090fdb7",
   "metadata": {},
   "outputs": [],
   "source": [
    "def lift_ground(*ts) -> Subst:\n",
    "    return Subst([], [smt.FreshConst(t.sort()) for t in ts], list(ts))"
   ]
  },
  {
   "cell_type": "markdown",
   "id": "6dcd663c",
   "metadata": {},
   "source": [
    "Function symbols can be seen as the substitution that would apply them"
   ]
  },
  {
   "cell_type": "code",
   "execution_count": null,
   "id": "9174f6ed",
   "metadata": {},
   "outputs": [],
   "source": [
    "def lift_funcdecl(f : smt.FuncDeclRef):\n",
    "    args = [smt.FreshConst(f.domain(n)) for n in range(f.arity())]\n",
    "    out = [smt.FreshConst(f.range())]\n",
    "    return Subst(args, out, [f(*args)])\n",
    "\n",
    "foo = smt.Function(\"foo\", smt.IntSort(), smt.RealSort(), smt.BoolSort())\n",
    "lift_funcdecl(foo)"
   ]
  },
  {
   "cell_type": "markdown",
   "id": "533bb6d0",
   "metadata": {},
   "source": [
    "The is an opposite category of substitutions that instead of applying the `ts` to `args`, narrows the the variables in a predicate P(x) to the ts. Considering the predicate as a morphism from the vars to `[Bool]`, this is reverse composition.\n",
    "\n",
    "P can also be considered as a Subst to Bool."
   ]
  },
  {
   "cell_type": "code",
   "execution_count": null,
   "id": "d88e5dd5",
   "metadata": {},
   "outputs": [],
   "source": [
    "def subst(s : Subst, P : smt.ExprRef) -> smt.ExprRef: \n",
    "    return smt.substitute(P, zip(s.cod, s.ts))\n",
    "\n",
    "def lift_pred(vs : list[smt.ExprRef], P : smt.ExprRef) -> Subst:\n",
    "    \"\"\"\n",
    "    Lift a predicate P over variables vs to a substitution.\n",
    "    \"\"\"\n",
    "    return Subst(vs, [smt.FreshConst(P.sort())], [P])\n"
   ]
  },
  {
   "cell_type": "markdown",
   "id": "e8051aa1",
   "metadata": {},
   "source": [
    "What is a unification problem in these terms?\n",
    "\n",
    "It is useful to extend the notion of a single equation to a multiequation.\n",
    "Then what we have is two substitutions need to be equal.\n",
    "\n",
    "```\n",
    "          - S >  \n",
    "k - H > m        n\n",
    "          - T > \n",
    "```\n",
    "\n",
    "For some reason literature seems to describe unification as as coequalizer. I don't understand why. Maybe I'm totally wrong. Or perhaps that are taking the \"narrowing\" interpretation of substitutions rather than the \"applying\" interpretation.\n",
    "\n",
    "See Goguen What is Unification https://www.sciencedirect.com/science/article/abs/pii/B9780120463701500127?via%3Dihub https://www.cs.bu.edu/fac/snyder/publications/UnifChapter.pdf  section 3.3.3 "
   ]
  },
  {
   "cell_type": "code",
   "execution_count": null,
   "id": "96d1dbd1",
   "metadata": {},
   "outputs": [],
   "source": [
    "def unify(s : Subst, t : Subst):\n",
    "    assert len(s.dom) == len(t.dom) and all(v.sort() == w.sort() for v, w in zip(s.dom, t.dom))\n",
    "    assert len(s.cod) == len(t.cod) and all(v.sort() == w.sort() for v, w in zip(s.cod, t.cod))\n",
    "    todo = list(zip(s.ts, [smt.substitute(e, *zip(t.dom, s.dom)) for e in t.ts]))\n",
    "    subst = Subst.id_(s.dom) # null substitution\n",
    "    while todo:\n",
    "        (s,t) = todo.pop()\n",
    "        if s in s.dom: # is var\n",
    "            newsubst = ...\n",
    "            subst = subst @ newsubst\n",
    "        #yada. Not sure it's calirfying to write this in this way\n",
    "    "
   ]
  },
  {
   "cell_type": "markdown",
   "id": "73c933a9",
   "metadata": {},
   "source": [
    "Equational axioms can be expressions as the commuting squares of certain arrows.\n",
    "https://ncatlab.org/nlab/show/Lawvere+theory\n",
    "https://en.wikipedia.org/wiki/Lawvere_theory\n",
    "\n",
    "Every object is a product of a distinguished object: yes.\n",
    "Homomorphisms are functors in this context. This is nice tight formulation of homomorphism, although I find the more expanded definition much more intuitive. https://en.wikipedia.org/wiki/Homomorphism"
   ]
  },
  {
   "cell_type": "code",
   "execution_count": 64,
   "id": "8393e462",
   "metadata": {},
   "outputs": [
    {
     "data": {
      "text/html": [
       "&#8870;ForAll([x, y], And(x + y == y + x))"
      ],
      "text/plain": [
       "|- ForAll([x, y], And(x + y == y + x))"
      ]
     },
     "execution_count": 64,
     "metadata": {},
     "output_type": "execute_result"
    }
   ],
   "source": [
    "add  = Subst([x,y], [z], [x + y])\n",
    "swap = Subst([x,y], [y,x], [y,x])\n",
    "kd.prove(add == add @ swap)"
   ]
  },
  {
   "cell_type": "markdown",
   "id": "314455fd",
   "metadata": {},
   "source": [
    "## Telescopes\n",
    "\n",
    "An interesting thing to do is start enriching the notion of object / context / things substitions go from and to.\n",
    "\n",
    "One formulation of telescopes https://ncatlab.org/nlab/show/type+telescope for a refinement type looking thing is to pack every variable with a boolean expression describing what preconditions / subset the subtitution is coming from. These are partial substitutions in some sense.\n",
    "\n",
    "The meaning of a telescope can be somewhat explained by showing how to \"forall\" a predicate in that context using TForAll. Because of the iterated construction, the earlier variables are in scope for the later variables.\n",
    "\n"
   ]
  },
  {
   "cell_type": "code",
   "execution_count": 3,
   "id": "aa40340f",
   "metadata": {},
   "outputs": [
    {
     "data": {
      "text/html": [
       "&forall;x : x &gt; 0 &rArr; (&forall;y : y &gt; 0 &rArr; x + y &gt; 0)"
      ],
      "text/plain": [
       "ForAll(x,\n",
       "       Implies(x > 0, ForAll(y, Implies(y > 0, x + y > 0))))"
      ]
     },
     "execution_count": 3,
     "metadata": {},
     "output_type": "execute_result"
    }
   ],
   "source": [
    "from kdrag.all import *\n",
    "type Tele = list[tuple[smt.ExprRef, smt.BoolRef]]\n",
    "def TForAll(vs : Tele, P):\n",
    "    for v,pre in reversed(vs):\n",
    "        P = smt.ForAll([v], smt.Implies(pre, P))\n",
    "    return P\n",
    "\n",
    "x,y,z = smt.Ints('x y z')\n",
    "TForAll([(x, x > 0), (y, y > 0)], x + y > 0)\n"
   ]
  },
  {
   "cell_type": "markdown",
   "id": "51d8e3d3",
   "metadata": {},
   "source": [
    "Telescope mappings are a generalization of substitutions. We can use them to organize a theorem proving process involving pre and post conditions.\n",
    "They represent a theorem \n"
   ]
  },
  {
   "cell_type": "code",
   "execution_count": 4,
   "id": "29126bda",
   "metadata": {},
   "outputs": [
    {
     "data": {
      "text/plain": [
       "TeleMap(dom=[(x, x > 0)], cod=[(y, y > 0)], ts=[x + 1 + 1])"
      ]
     },
     "execution_count": 4,
     "metadata": {},
     "output_type": "execute_result"
    }
   ],
   "source": [
    "from dataclasses import dataclass\n",
    "@dataclass\n",
    "class TeleMap():\n",
    "    dom : Tele\n",
    "    cod : Tele\n",
    "    ts : list[smt.ExprRef]  # len(cod) expression using variables in dom. When dom preconditions are true, cod conditions should hold of ts.\n",
    "    def __post_init__(self):\n",
    "        assert len(self.ts) == len(self.cod)\n",
    "        subst = [(v, t) for (v, _), t in zip(self.cod, self.ts)]\n",
    "        self.pfs = []\n",
    "        for (v, cond) in self.cod:\n",
    "            self.pfs.append(kd.prove(TForAll(self.dom, smt.substitute(cond, *subst))))\n",
    "    def __call__(self, *args):\n",
    "        assert len(args) == len(self.dom)\n",
    "        subst = [(v, a) for (v, _), a in zip(self.dom, args)]\n",
    "        #for pf in self.pfs:\n",
    "        for (_, pre) in self.dom:\n",
    "            kd.prove(smt.substitute(pre, *subst))\n",
    "        return [smt.substitute(t, *subst) for t in self.ts]\n",
    "    @classmethod\n",
    "    def id_(cls, xs : Tele):\n",
    "        return cls(xs, xs, [v for v, _ in xs])\n",
    "    def __matmul__(self, other):\n",
    "        assert len(self.dom) == len(other.cod)\n",
    "        subst = [(v, w) for (v, _), (w, _) in zip(self.dom, other.cod)]\n",
    "        ws = [w for w,_ in other.cod]\n",
    "        vs = [v for v,_ in self.dom]\n",
    "        for (v, pre), (w, post) in zip(self.dom, other.cod):\n",
    "            assert v.sort() == w.sort(), f\"Sort mismatch: {v.sort()} != {w.sort()}\"\n",
    "            # allows subset composition rather than on the nose composition.\n",
    "            kd.prove(TForAll(other.cod, smt.substitute(pre, *subst))) \n",
    "        return TeleMap(other.dom, self.cod, [smt.substitute(t, *zip(vs, other.ts)) for t in self.ts])\n",
    "\n",
    "TeleMap([(x, x > -1)],[(y, y > 0)], [x + 1])  @ TeleMap([(x, x > 0)], [(y, y > 0)], [x + 1])"
   ]
  },
  {
   "cell_type": "markdown",
   "id": "80df514e",
   "metadata": {},
   "source": [
    "A well formed telescope mapping represents a theorem about the mappings in the `ts`. If all variables satisfy the preconditions in the `self.dom` telescope, the terms `self.ts` should obey the postconditions in the `self.cod`"
   ]
  },
  {
   "cell_type": "code",
   "execution_count": 69,
   "id": "24bf1f58",
   "metadata": {},
   "outputs": [
    {
     "data": {
      "text/plain": [
       "[|- ForAll(x,\n",
       "        Implies(x > 0, ForAll(z, Implies(z > x, x + z > 0)))),\n",
       " |- ForAll(x, Implies(x > 0, ForAll(z, Implies(z > x, z > 1))))]"
      ]
     },
     "execution_count": 69,
     "metadata": {},
     "output_type": "execute_result"
    }
   ],
   "source": [
    "TeleMap([(x, x > 0), (z, z > x)], [(y, y > 0), (z, z > 1)], [x + z, z]).pfs"
   ]
  },
  {
   "cell_type": "code",
   "execution_count": 44,
   "id": "912e3026",
   "metadata": {},
   "outputs": [
    {
     "data": {
      "text/plain": [
       "[7 + 1]"
      ]
     },
     "execution_count": 44,
     "metadata": {},
     "output_type": "execute_result"
    }
   ],
   "source": [
    "TeleMap([(x, x > 0)], [(y, y > 0)], [x + 1])(smt.IntVal(7))"
   ]
  },
  {
   "cell_type": "code",
   "execution_count": null,
   "id": "ed573d5b",
   "metadata": {},
   "outputs": [
    {
     "ename": "LemmaError",
     "evalue": "(-2 > 0, 'Countermodel', [])",
     "output_type": "error",
     "traceback": [
      "\u001b[31m---------------------------------------------------------------------------\u001b[39m",
      "\u001b[31mLemmaError\u001b[39m                                Traceback (most recent call last)",
      "\u001b[36mCell\u001b[39m\u001b[36m \u001b[39m\u001b[32mIn[45]\u001b[39m\u001b[32m, line 1\u001b[39m\n\u001b[32m----> \u001b[39m\u001b[32m1\u001b[39m \u001b[43mTeleMap\u001b[49m\u001b[43m(\u001b[49m\u001b[43m[\u001b[49m\u001b[43m(\u001b[49m\u001b[43mx\u001b[49m\u001b[43m,\u001b[49m\u001b[43m \u001b[49m\u001b[43mx\u001b[49m\u001b[43m \u001b[49m\u001b[43m>\u001b[49m\u001b[43m \u001b[49m\u001b[32;43m0\u001b[39;49m\u001b[43m)\u001b[49m\u001b[43m]\u001b[49m\u001b[43m,\u001b[49m\u001b[43m \u001b[49m\u001b[43m[\u001b[49m\u001b[43m(\u001b[49m\u001b[43my\u001b[49m\u001b[43m,\u001b[49m\u001b[43m \u001b[49m\u001b[43my\u001b[49m\u001b[43m \u001b[49m\u001b[43m>\u001b[49m\u001b[43m \u001b[49m\u001b[32;43m0\u001b[39;49m\u001b[43m)\u001b[49m\u001b[43m]\u001b[49m\u001b[43m,\u001b[49m\u001b[43m \u001b[49m\u001b[43m[\u001b[49m\u001b[43mx\u001b[49m\u001b[43m \u001b[49m\u001b[43m+\u001b[49m\u001b[43m \u001b[49m\u001b[32;43m1\u001b[39;49m\u001b[43m]\u001b[49m\u001b[43m)\u001b[49m\u001b[43m(\u001b[49m\u001b[43msmt\u001b[49m\u001b[43m.\u001b[49m\u001b[43mIntVal\u001b[49m\u001b[43m(\u001b[49m\u001b[43m-\u001b[49m\u001b[32;43m2\u001b[39;49m\u001b[43m)\u001b[49m\u001b[43m)\u001b[49m\n",
      "\u001b[36mCell\u001b[39m\u001b[36m \u001b[39m\u001b[32mIn[43]\u001b[39m\u001b[32m, line 18\u001b[39m, in \u001b[36mTeleMap.__call__\u001b[39m\u001b[34m(self, *args)\u001b[39m\n\u001b[32m     16\u001b[39m \u001b[38;5;66;03m#for pf in self.pfs:\u001b[39;00m\n\u001b[32m     17\u001b[39m \u001b[38;5;28;01mfor\u001b[39;00m (_, pre) \u001b[38;5;129;01min\u001b[39;00m \u001b[38;5;28mself\u001b[39m.dom:\n\u001b[32m---> \u001b[39m\u001b[32m18\u001b[39m     \u001b[43mkd\u001b[49m\u001b[43m.\u001b[49m\u001b[43mprove\u001b[49m\u001b[43m(\u001b[49m\u001b[43msmt\u001b[49m\u001b[43m.\u001b[49m\u001b[43msubstitute\u001b[49m\u001b[43m(\u001b[49m\u001b[43mpre\u001b[49m\u001b[43m,\u001b[49m\u001b[43m \u001b[49m\u001b[43m*\u001b[49m\u001b[43msubst\u001b[49m\u001b[43m)\u001b[49m\u001b[43m)\u001b[49m\n\u001b[32m     19\u001b[39m \u001b[38;5;28;01mreturn\u001b[39;00m [smt.substitute(t, *subst) \u001b[38;5;28;01mfor\u001b[39;00m t \u001b[38;5;129;01min\u001b[39;00m \u001b[38;5;28mself\u001b[39m.ts]\n",
      "\u001b[36mFile \u001b[39m\u001b[32m~/Documents/python/knuckledragger/kdrag/tactics.py:216\u001b[39m, in \u001b[36mprove\u001b[39m\u001b[34m(thm, by, admit, timeout, dump, solver, unfold)\u001b[39m\n\u001b[32m    212\u001b[39m         \u001b[38;5;28;01mraise\u001b[39;00m \u001b[38;5;167;01mException\u001b[39;00m(\n\u001b[32m    213\u001b[39m             \u001b[33m\"\u001b[39m\u001b[33mWorked with quantifier stripped. Something is going awry\u001b[39m\u001b[33m\"\u001b[39m, pf\n\u001b[32m    214\u001b[39m         )\n\u001b[32m    215\u001b[39m     \u001b[38;5;28;01melse\u001b[39;00m:\n\u001b[32m--> \u001b[39m\u001b[32m216\u001b[39m         \u001b[38;5;28;01mraise\u001b[39;00m e\n\u001b[32m    217\u001b[39m \u001b[38;5;28;01mexcept\u001b[39;00m \u001b[38;5;167;01mException\u001b[39;00m \u001b[38;5;28;01mas\u001b[39;00m e:\n\u001b[32m    218\u001b[39m     \u001b[38;5;28;01mraise\u001b[39;00m e\n",
      "\u001b[36mFile \u001b[39m\u001b[32m~/Documents/python/knuckledragger/kdrag/tactics.py:194\u001b[39m, in \u001b[36mprove\u001b[39m\u001b[34m(thm, by, admit, timeout, dump, solver, unfold)\u001b[39m\n\u001b[32m    192\u001b[39m         by.append(kd.kernel.prove(thm == thm1, by=trace, timeout=timeout))  \u001b[38;5;66;03m# type: ignore\u001b[39;00m\n\u001b[32m    193\u001b[39m \u001b[38;5;28;01mtry\u001b[39;00m:\n\u001b[32m--> \u001b[39m\u001b[32m194\u001b[39m     pf = \u001b[43mkd\u001b[49m\u001b[43m.\u001b[49m\u001b[43mkernel\u001b[49m\u001b[43m.\u001b[49m\u001b[43mprove\u001b[49m\u001b[43m(\u001b[49m\n\u001b[32m    195\u001b[39m \u001b[43m        \u001b[49m\u001b[43mthm\u001b[49m\u001b[43m,\u001b[49m\u001b[43m \u001b[49m\u001b[43mby\u001b[49m\u001b[43m,\u001b[49m\u001b[43m \u001b[49m\u001b[43mtimeout\u001b[49m\u001b[43m=\u001b[49m\u001b[43mtimeout\u001b[49m\u001b[43m,\u001b[49m\u001b[43m \u001b[49m\u001b[43mdump\u001b[49m\u001b[43m=\u001b[49m\u001b[43mdump\u001b[49m\u001b[43m,\u001b[49m\u001b[43m \u001b[49m\u001b[43msolver\u001b[49m\u001b[43m=\u001b[49m\u001b[43msolver\u001b[49m\u001b[43m,\u001b[49m\u001b[43m \u001b[49m\u001b[43madmit\u001b[49m\u001b[43m=\u001b[49m\u001b[43madmit\u001b[49m\n\u001b[32m    196\u001b[39m \u001b[43m    \u001b[49m\u001b[43m)\u001b[49m\n\u001b[32m    197\u001b[39m     kdrag.config.perf_event(\u001b[33m\"\u001b[39m\u001b[33mprove\u001b[39m\u001b[33m\"\u001b[39m, thm, time.perf_counter() - start_time)\n\u001b[32m    198\u001b[39m     \u001b[38;5;28;01mreturn\u001b[39;00m pf\n",
      "\u001b[36mFile \u001b[39m\u001b[32m~/Documents/python/knuckledragger/kdrag/kernel.py:117\u001b[39m, in \u001b[36mprove\u001b[39m\u001b[34m(thm, by, admit, timeout, dump, solver)\u001b[39m\n\u001b[32m    115\u001b[39m \u001b[38;5;28;01mif\u001b[39;00m res != smt.unsat:\n\u001b[32m    116\u001b[39m     \u001b[38;5;28;01mif\u001b[39;00m res == smt.sat:\n\u001b[32m--> \u001b[39m\u001b[32m117\u001b[39m         \u001b[38;5;28;01mraise\u001b[39;00m LemmaError(thm, \u001b[33m\"\u001b[39m\u001b[33mCountermodel\u001b[39m\u001b[33m\"\u001b[39m, s.model())\n\u001b[32m    118\u001b[39m     \u001b[38;5;28;01mraise\u001b[39;00m LemmaError(\u001b[33m\"\u001b[39m\u001b[33mprove\u001b[39m\u001b[33m\"\u001b[39m, thm, res)\n\u001b[32m    119\u001b[39m \u001b[38;5;28;01melse\u001b[39;00m:\n",
      "\u001b[31mLemmaError\u001b[39m: (-2 > 0, 'Countermodel', [])"
     ]
    }
   ],
   "source": [
    "# fails to meet precondition\n",
    "TeleMap([(x, x > 0)], [(y, y > 0)], [x + 1])(smt.IntVal(-2))"
   ]
  },
  {
   "cell_type": "code",
   "execution_count": 9,
   "id": "1d262c0f",
   "metadata": {},
   "outputs": [],
   "source": [
    "x = smt.Bool(\"x\")\n",
    "TRUE : Tele = [(x, x)]\n",
    "TRUE2 = TeleMap([], TRUE, [smt.BoolVal(True)])\n",
    "Bool = [(x, smt.BoolVal(True))]\n",
    "FALSE : Tele = [(x, smt.Not(x))]\n",
    "smt.Int(\"y\")\n",
    "ZERO = TeleMap([(y, y == 0)], TRUE, [y == 0])\n",
    "POS = TeleMap([(y, y > 0)], TRUE, [y > -1])"
   ]
  },
  {
   "cell_type": "markdown",
   "id": "ecacaea7",
   "metadata": {},
   "source": [
    "# Bits and Bobbles\n",
    "\n",
    "Yea, I dunno. Not what I set out to write today. not sure what we've learned.\n",
    "\n",
    "(x, x)\n",
    "\n",
    "\n",
    "Telescope unification?\n",
    "\n",
    "The equalizer in a lawvere theory is E-unification.\n",
    "\n",
    "coalgebra.\n",
    "a -> f a\n",
    "\n",
    "operads are term rewriting equations with linearity on the rules \n",
    "\n",
    "GATs\n",
    "\n",
    "EATs\n",
    "\n",
    "https://people.mpi-sws.org/~dreyer/courses/catlogic/jacobs.pdf\n",
    "\n",
    "https://ncatlab.org/nlab/files/HofmannExtensionalIntensionalTypeTheory.pdf Amongst the many nice things in this thesis are a good description of telescopes on p. 26 section 2.2.2\n",
    "`Gamma |- f => Delta` \n",
    "\n",
    "https://proofassistants.stackexchange.com/questions/755/whats-the-relationship-between-refinement-types-and-dependent-types\n",
    "\n",
    "\n",
    "Hmm. Maybe explicit cod was a mistake. I dunno.\n",
    "\n",
    "I am puzzled about whether there is really that much utility of the telescope form `forall x, p(x) => forall y, q(x,y) => ...` vs just the smashed together version `forall x y ..., p(x) /\\ q(x,y) /\\ ... `. The latter is more reminiscent of Isabelle Pure.\n",
    "\n",
    "\n",
    "https://math.andrej.com/2012/09/28/substitution-is-pullback/ \n",
    "\n",
    "https://www.cs.bu.edu/fac/snyder/publications/UnifChapter.pdf"
   ]
  },
  {
   "cell_type": "markdown",
   "id": "7acc3810",
   "metadata": {},
   "source": [
    "# Subset Model\n",
    "https://www.philipzucker.com/frozenset_dtt/ Showed how to use finite sets the interpret some dependent types\n"
   ]
  },
  {
   "cell_type": "code",
   "execution_count": null,
   "id": "64f5d1d8",
   "metadata": {},
   "outputs": [],
   "source": [
    "from typing import Callable\n",
    "from frozendict import frozendict\n",
    "import itertools\n",
    "type Family = Callable[[object], Type]\n",
    "type Type = frozenset\n",
    "\n",
    "Void = frozenset({})\n",
    "Unit = frozenset({()})\n",
    "Bool = frozenset({True, False})\n",
    "def Fin(n : int) -> Type:\n",
    "    return frozenset(range(n))\n",
    "def Vec(A : Type, n : int) -> Type:\n",
    "    return frozenset(itertools.product(A, repeat=n))\n",
    "\n",
    "def is_type(A: Type) -> bool: # |- A type\n",
    "    return isinstance(A, frozenset)\n",
    "def has_type(t: object, A: Type) -> bool: # |- t : A\n",
    "    return t in A\n",
    "def eq_type(A: Type, B: Type) -> bool: # |- A = B type\n",
    "    return A == B\n",
    "def def_eq(x : object, y: object, A : Type) -> bool: # |- x = y : A\n",
    "    return x == y and has_type(x, A) and has_type(y, A)\n",
    "\n",
    "def Sigma(A: Type, B: Family) -> Type:\n",
    "    return frozenset({(a, b) for a in A for b in B(a)})\n",
    "def Pair(A : Type, B: Type) -> Type:\n",
    "    return Sigma(A, lambda x: B)\n",
    "\n",
    "def Pi(A : Type, B : Family) -> Type:\n",
    "    Alist = list(A)\n",
    "    return frozenset(frozendict({k:v for k,v in zip(Alist, bvs)}) for bvs in itertools.product(*[B(a) for a in Alist]))\n",
    "def Arr(A : Type, B: Type) -> Type:\n",
    "    return Pi(A, lambda x: B)\n",
    "\n",
    "def Sum(A : Type, B: Type) -> Type:\n",
    "    return frozenset({(\"inl\", a) for a in A} | {(\"inr\", b) for b in B})\n",
    "\n",
    "def Id(A : Type, x : object, y : object) -> Type:\n",
    "    return frozenset({\"refl\"}) if x == y else frozenset()\n",
    "def U(n : int, l : int) -> Type:\n",
    "    if l > 0:\n",
    "        u = U(n, l-1)\n",
    "        return u | frozenset([u]) # Cumulative\n",
    "    elif n > 0:\n",
    "        u = U(n-1, 0)\n",
    "        # TODO also the Pi and Sigma\n",
    "        return u | frozenset([Arr(A,B) for A in u for B in u]) | frozenset([Pair(A,B) for A in u for B in u]) | frozenset([Fin(n)])\n",
    "    else:\n",
    "        return frozenset([Unit, Bool, Void])\n",
    "def Quot(A : Type, R) -> Type:\n",
    "    return frozenset(frozenset({y for y in A if R(x,y)}) for x in A)\n",
    "def SubSet(A :  Type, P : Family) -> Type: # very much like Sigma\n",
    "    return frozenset({(x, ()) for x in A if P(x)}) # Note because of pythion truthiness, this also accepts ordinary bool value predicates.\n"
   ]
  },
  {
   "cell_type": "markdown",
   "id": "b7bd4058",
   "metadata": {},
   "source": [
    "We can also make a subset model as mentioned here https://ncatlab.org/nlab/files/HofmannExtensionalIntensionalTypeTheory.pdf \n",
    "\n",
    "Types are interpreted as a pair of a frozenset and a callable function representing the subset orf that frozenset\n",
    "\n",
    "\n",
    "There are now two equalities to talk about. On the nose equality `==` and kleene equality\n",
    "https://en.wikipedia.org/wiki/Kleene_equality\n",
    "\n"
   ]
  },
  {
   "cell_type": "code",
   "execution_count": null,
   "id": "27cf50f4",
   "metadata": {},
   "outputs": [],
   "source": [
    "from typing import Callable\n",
    "from frozendict import frozendict\n",
    "import itertools\n",
    "type Type = tuple[frozenset, Callable[[object], bool]]\n",
    "type Family = tuple[Callable[[object], frozenset], Callable[[object], Callable[[object], bool]]]\n",
    "# type Family = Callable[[object], Type] # A family of types, indexed by an object\n",
    "TRUE = lambda: True\n",
    "FALSE = lambda: False\n",
    "\n",
    "Void = (frozenset({}), TRUE)\n",
    "Unit = (frozenset({()}), TRUE)\n",
    "Bool = (frozenset({True, False}), TRUE)\n",
    "def Fin(n : int) -> Type:\n",
    "    return (frozenset(range(n)), TRUE)\n",
    "def Sigma(A: Type, B: Family) -> Type:\n",
    "    return frozenset({(a, b) for a in A[1] for b in B[0](a)}), lambda ab: B[1](ab[0])(ab[1]) if A[1](ab[0]) else FALSE\n",
    "def def_eq(x, y, A):\n",
    "    return x == y\n",
    "def ext_eq(x,y,A): # kleene equality https://en.wikipedia.org/wiki/Kleene_equality\n",
    "    return (not A[1](x) and not A[1](y)) or x == y #??? not so sure\n"
   ]
  },
  {
   "cell_type": "markdown",
   "id": "f16b20b3",
   "metadata": {},
   "source": []
  }
 ],
 "metadata": {
  "kernelspec": {
   "display_name": ".venv",
   "language": "python",
   "name": "python3"
  },
  "language_info": {
   "codemirror_mode": {
    "name": "ipython",
    "version": 3
   },
   "file_extension": ".py",
   "mimetype": "text/x-python",
   "name": "python",
   "nbconvert_exporter": "python",
   "pygments_lexer": "ipython3",
   "version": "3.12.3"
  }
 },
 "nbformat": 4,
 "nbformat_minor": 5
}
