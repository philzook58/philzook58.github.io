{
 "cells": [
  {
   "cell_type": "markdown",
   "metadata": {},
   "source": [
    "---\n",
    "date: 2024-03-25\n",
    "title: Finite Set Theory in Python\n",
    "---\n",
    "\n",
    "[Set theory](https://en.wikipedia.org/wiki/Set_theory) is interesting.\n",
    "\n",
    "It's a really cool thing that it builds up a ton of structure from such basic seeming components.\n",
    "\n",
    "An interesting python builtin data structure I learned of only recently is `frozenset`. Because `frozenset` is immutable, it makes sense to hash it and use it as keys. This makes it easy to build sets of sets, which is the bread and butter of axiomatic set theory.\n",
    "\n",
    "I highly recommend Naive Set Theory by Halmos.\n",
    "\n",
    "Set theory is a pile of axioms about what kinds of sets exist and operations you can perform on them. I can't strongly enforce an interface in python, but if you can construct a set using my already defined operators, it doesn't require a new axiom. Anywhere I have to use a `frozenset` constructor, I am making some kind of new primitive construction.\n",
    "\n",
    "It has a characteristic flavor of encoding more familiar mathematical objects like natural numbers in terms of sets.\n",
    "\n",
    "A simple first axiom is\n"
   ]
  },
  {
   "cell_type": "markdown",
   "metadata": {},
   "source": [
    "## Axiom: The Empty Set Exists"
   ]
  },
  {
   "cell_type": "code",
   "execution_count": 1,
   "metadata": {},
   "outputs": [
    {
     "name": "stdout",
     "output_type": "stream",
     "text": [
      "frozenset()\n"
     ]
    }
   ],
   "source": [
    "emp = frozenset([])\n",
    "print(emp)"
   ]
  },
  {
   "cell_type": "markdown",
   "metadata": {},
   "source": [
    "## The Axiom of Extension\n",
    "https://en.wikipedia.org/wiki/Axiom_of_extensionality\n",
    "\n",
    "This axiom says that two sets with the same contents are equal.\n",
    "\n",
    "This is built in to the definition of `==` for `frozenset`.\n",
    "\n",
    "We could allow other python values into our sets as \"[ur-elements](https://en.wikipedia.org/wiki/Urelement)\". This is the main way we use sets typically in python.\n"
   ]
  },
  {
   "cell_type": "code",
   "execution_count": 2,
   "metadata": {},
   "outputs": [
    {
     "data": {
      "text/plain": [
       "True"
      ]
     },
     "execution_count": 2,
     "metadata": {},
     "output_type": "execute_result"
    }
   ],
   "source": [
    "emp == frozenset([])"
   ]
  },
  {
   "cell_type": "markdown",
   "metadata": {},
   "source": [
    "It is interesting to muse that there is a sense in which these two things are not equal. They do actually have distinct memory addresses and can be distinguished. This is sometimes called [physical equality](https://stackoverflow.com/questions/69608285/ocaml-physical-and-structural-equality#:~:text=One%20way%20to%20think%20of,values%20are%20structurally%20the%20same.). Our metasystem of python can kind of look behind the veil."
   ]
  },
  {
   "cell_type": "code",
   "execution_count": 3,
   "metadata": {},
   "outputs": [
    {
     "data": {
      "text/plain": [
       "False"
      ]
     },
     "execution_count": 3,
     "metadata": {},
     "output_type": "execute_result"
    }
   ],
   "source": [
    "emp is frozenset([])"
   ]
  },
  {
   "cell_type": "markdown",
   "metadata": {},
   "source": [
    "## The axiom schema of specification\n",
    "https://en.wikipedia.org/wiki/Axiom_schema_of_specification\n",
    "\n",
    "This is a super powerful set construction principle.\n",
    "\n",
    "From any set, we can form another set by cutting out the pieces that satisfy a logical formula. Given a set $A$, we can take all the pieces\n",
    "$$ \\{ x : A | P(x) \\}$$\n",
    "\n",
    "We have a close analog using python comprehensions. I can package it up into a little function `specify` that takes in the set and the predicate, or perhaps we'll just say we're allowed to use comprehension."
   ]
  },
  {
   "cell_type": "code",
   "execution_count": 4,
   "metadata": {},
   "outputs": [],
   "source": [
    "from typing import Callable, Any\n",
    "def specify(A : frozenset[Any], P : Callable[Any, bool]) -> frozenset[Any]:\n",
    "    return frozenset([x for x in A if P(x)])"
   ]
  },
  {
   "cell_type": "markdown",
   "metadata": {},
   "source": [
    "With specification, we can defined the derived notion of intersection of two sets. It is a set of all the elements of X that are also in Y."
   ]
  },
  {
   "cell_type": "code",
   "execution_count": 5,
   "metadata": {},
   "outputs": [],
   "source": [
    "def intersect(X,Y):\n",
    "    return specify(X, lambda x: x in Y)\n",
    "    # equivalently specify(Y, lambda y: y in X)\n",
    "    # or simpler looking python definitions that don't make the definitional nature self evident\n",
    "    #frozenset([z for z in x if z in y])\n",
    "    #x & y"
   ]
  },
  {
   "cell_type": "markdown",
   "metadata": {},
   "source": [
    "The [unrestricted comprehension](https://en.wikipedia.org/wiki/Frege%27s_theorem#Overview) principle doesn't require an $A$. Somehow it magically grabs all things that obey $P$. It is difficult to see how such a  thing could be contructed in python and indeed Frege's original formulation of unrestricted comprehension is inconsistent as show by Russell with his [famous paradox](https://en.wikipedia.org/wiki/Russell%27s_paradox)"
   ]
  },
  {
   "cell_type": "markdown",
   "metadata": {},
   "source": [
    "## The Axiom of Pairing\n",
    "https://en.wikipedia.org/wiki/Axiom_of_pairing\n",
    "\n",
    "For any two sets there exists another set they both belong to.\n",
    "\n",
    "In other words we can construct unordered pairs.\n"
   ]
  },
  {
   "cell_type": "code",
   "execution_count": 6,
   "metadata": {},
   "outputs": [],
   "source": [
    "def upair(x,y):\n",
    "    return frozenset([x,y])"
   ]
  },
  {
   "cell_type": "markdown",
   "metadata": {},
   "source": [
    "By handing `upair` the same set, we can also make singleton sets. This is useful for starting to build sets of sets and is used for encodings of natural numbers and ordered pairs. You can see we don't refer to `frozenset` so this so `singleton` is a derived notion"
   ]
  },
  {
   "cell_type": "code",
   "execution_count": 7,
   "metadata": {},
   "outputs": [
    {
     "name": "stdout",
     "output_type": "stream",
     "text": [
      "singleton(emp)=frozenset({frozenset()})\n",
      "singleton(singleton(emp))=frozenset({frozenset({frozenset()})})\n"
     ]
    }
   ],
   "source": [
    "def singleton(x):\n",
    "    return upair(x,x)\n",
    "\n",
    "print(f\"{singleton(emp)=}\")\n",
    "print(f\"{singleton(singleton(emp))=}\")"
   ]
  },
  {
   "cell_type": "markdown",
   "metadata": {},
   "source": [
    "## Axiom of Unions\n",
    "https://en.wikipedia.org/wiki/Axiom_of_union\n",
    "\n",
    "For any collection of sets there exists a set that contains all the elements that belong to at least one set of the given collection.\n",
    "\n",
    "$$ \\bigcup C $$"
   ]
  },
  {
   "cell_type": "code",
   "execution_count": 8,
   "metadata": {},
   "outputs": [
    {
     "name": "stdout",
     "output_type": "stream",
     "text": [
      "bigunion(emp)==emp=True\n"
     ]
    }
   ],
   "source": [
    "def bigunion(C):\n",
    "    return frozenset([x for X in C for x in X])\n",
    "\n",
    "print(f\"{bigunion(emp)==emp=}\")"
   ]
  },
  {
   "cell_type": "markdown",
   "metadata": {},
   "source": [
    "We can now derive the more familiar union operation."
   ]
  },
  {
   "cell_type": "code",
   "execution_count": 9,
   "metadata": {},
   "outputs": [],
   "source": [
    "\n",
    "def union(x,y):\n",
    "    return bigunion(upair(x,y)) # x | y\n"
   ]
  },
  {
   "cell_type": "markdown",
   "metadata": {},
   "source": [
    "## Checking some properties\n",
    "A poor man's theorem prover is quickcheck, in python's case [hypothesis](https://hypothesis.readthedocs.io/en/latest/). We can sanity check some properties\n"
   ]
  },
  {
   "cell_type": "code",
   "execution_count": 10,
   "metadata": {},
   "outputs": [
    {
     "data": {
      "text/plain": [
       "{frozenset(),\n",
       " frozenset({frozenset({frozenset({frozenset()})})}),\n",
       " frozenset({frozenset({frozenset()}), frozenset({frozenset({frozenset()})})}),\n",
       " frozenset({frozenset({frozenset(), frozenset({frozenset()})})}),\n",
       " frozenset({frozenset({frozenset({frozenset()})}),\n",
       "            frozenset({frozenset(), frozenset({frozenset()})})}),\n",
       " frozenset({frozenset({frozenset()}),\n",
       "            frozenset({frozenset(), frozenset({frozenset()})})}),\n",
       " frozenset({frozenset()}),\n",
       " frozenset({frozenset({frozenset()})}),\n",
       " frozenset({frozenset(), frozenset({frozenset({frozenset()})})}),\n",
       " frozenset({frozenset(), frozenset({frozenset()})}),\n",
       " frozenset({frozenset(), frozenset({frozenset(), frozenset({frozenset()})})})}"
      ]
     },
     "execution_count": 10,
     "metadata": {},
     "output_type": "execute_result"
    }
   ],
   "source": [
    "# a collection of frozensets for testing. The iterated closure of the empty set under upair and bigunion operations\n",
    "testsets = set([emp])\n",
    "for i in range(3):\n",
    "    testsets.update([upair(x,y) for x in testsets for y in testsets])\n",
    "    testsets.update([bigunion(x) for x in testsets])\n",
    "testsets"
   ]
  },
  {
   "cell_type": "code",
   "execution_count": 11,
   "metadata": {},
   "outputs": [],
   "source": [
    "# commutativty of union\n",
    "assert all(union(x,y) == union(y,x) for x in testsets for y in testsets)\n",
    "# associativity of union\n",
    "assert all(union(x,union(y,z)) == union(union(x,y),z) for x in testsets for y in testsets for z in testsets)\n",
    "# idempotence of union\n",
    "assert all(union(x,x) == x for x in testsets)\n",
    "\n",
    "#commutation of intersection\n",
    "assert all(intersect(x,y) == intersect(y,x) for x in testsets for y in testsets)\n",
    "#associativity of intersection\n",
    "assert all(intersect(x,intersect(y,z)) == intersect(intersect(x,y),z) for x in testsets for y in testsets for z in testsets)\n",
    "#idempotence of intersection\n",
    "assert all(intersect(x,x) == x for x in testsets)\n",
    "\n",
    "#distributivity of intersection over union\n",
    "assert all(intersect(x,union(y,z)) == union(intersect(x,y),intersect(x,z)) for x in testsets for y in testsets for z in testsets)\n",
    "#distributivity of union over intersection\n",
    "assert all(union(x,intersect(y,z)) == intersect(union(x,y),union(x,z)) for x in testsets for y in testsets for z in testsets)"
   ]
  },
  {
   "cell_type": "markdown",
   "metadata": {},
   "source": [
    "## Axiom of Powers\n",
    "https://en.wikipedia.org/wiki/Axiom_of_power_set\n",
    "\n",
    "The powerset axiom let's you build a set of all subsets. There is a useful recipe https://docs.python.org/3/library/itertools.html#itertools-recipes that we can crib from itertools.\n",
    "\n"
   ]
  },
  {
   "cell_type": "code",
   "execution_count": 12,
   "metadata": {},
   "outputs": [
    {
     "data": {
      "text/plain": [
       "frozenset({frozenset(), frozenset({frozenset({frozenset()})})})"
      ]
     },
     "execution_count": 12,
     "metadata": {},
     "output_type": "execute_result"
    }
   ],
   "source": [
    "import itertools\n",
    "def power(s):\n",
    "    return frozenset(itertools.chain.from_iterable(map(frozenset, itertools.combinations(s, r)) for r in range(len(s)+1)))\n",
    "\n",
    "power(singleton(singleton(emp)))"
   ]
  },
  {
   "cell_type": "markdown",
   "metadata": {},
   "source": [
    "## Ordered pairs\n",
    "\n",
    "Ordered pairs are readily available in python. It is mildly insane to encode them in terms of sets. This is what set theory does though.\n",
    "\n",
    "The construction of the cartesian product of two sets is quite painful.\n",
    "\n"
   ]
  },
  {
   "cell_type": "code",
   "execution_count": 13,
   "metadata": {},
   "outputs": [],
   "source": [
    "def pair(x,y):\n",
    "    return upair(singleton(x), upair(x,y))\n",
    "    #return hashset([hashset([x]), hashset([x,y])])\n",
    "\n",
    "def cartesian(A,B):\n",
    "    C = power(power(union(A,B)))\n",
    "    return specify(C, lambda x: any(x == pair(a,b) for a in A for b in B))\n"
   ]
  },
  {
   "cell_type": "code",
   "execution_count": 14,
   "metadata": {},
   "outputs": [],
   "source": [
    "\n",
    "# some projection operations. Do I need A and B?\n",
    "def fst(z, A, B):\n",
    "    return bigunion(specify(A, lambda a: singleton(a) in z))\n",
    "\n",
    "def snd(z, A, B):\n",
    "    return bigunion(specify(B, lambda b: any(z == pair(a,b) for a in A)))\n",
    "\n",
    "\n",
    "\n",
    "assert(all(fst(pair(a,b), A, B) == a for A in testsets for B in testsets for a in A for b in B))\n",
    "assert(all(snd(pair(a,b), A, B) == b for A in testsets for B in testsets for a in A for b in B))\n",
    "\n",
    "\n",
    "\n"
   ]
  },
  {
   "cell_type": "markdown",
   "metadata": {},
   "source": [
    "# Relations, Functions, Dicts\n",
    "\n",
    "So set theory can encode functions and relations as sets of ordered pairs. The natural python encoding of a finite function is a dict.\n",
    "\n"
   ]
  },
  {
   "cell_type": "code",
   "execution_count": 15,
   "metadata": {},
   "outputs": [],
   "source": [
    "def from_dict(d):\n",
    "    return frozenset([pair(k, v) for k,v in d.items()])\n"
   ]
  },
  {
   "cell_type": "markdown",
   "metadata": {},
   "source": [
    "## Numbers\n",
    "\n",
    "There are multiple ways of encoding numbers. The relatively standard way is to encode 0 as `emp`  and then a successor function as c\n"
   ]
  },
  {
   "cell_type": "code",
   "execution_count": 19,
   "metadata": {},
   "outputs": [
    {
     "name": "stdout",
     "output_type": "stream",
     "text": [
      "one=frozenset({frozenset()})\n",
      "two=frozenset({frozenset(), frozenset({frozenset()})})\n",
      "three=frozenset({frozenset(), frozenset({frozenset(), frozenset({frozenset()})}), frozenset({frozenset()})})\n"
     ]
    },
    {
     "data": {
      "text/plain": [
       "frozenset({frozenset(),\n",
       "           frozenset({frozenset()}),\n",
       "           frozenset({frozenset(), frozenset({frozenset()})})})"
      ]
     },
     "execution_count": 19,
     "metadata": {},
     "output_type": "execute_result"
    }
   ],
   "source": [
    "\n",
    "zero = emp\n",
    "def succ(x):\n",
    "    return union(x, singleton(x))\n",
    "    #return eats(x, x)\n",
    "\n",
    "one = succ(emp)\n",
    "two = succ(one)\n",
    "three = succ(two)\n",
    "print(f\"{one=}\")\n",
    "print(f\"{two=}\")\n",
    "print(f\"{three=}\")\n",
    "\n",
    "\n",
    "from functools import cache\n",
    "@cache\n",
    "def from_int(n):\n",
    "    assert n >= 0\n",
    "    if n == 0:\n",
    "        return emp\n",
    "    return succ(from_int(n-1))\n",
    "\n",
    "from_int(3)"
   ]
  },
  {
   "cell_type": "markdown",
   "metadata": {},
   "source": [
    "# Bits and Bobbles\n",
    "We're just starting to get into interesting stuff. But that's exactly where the post gets harder to write. Each of these deserves of day of thought and a post of its own.\n",
    "\n",
    "## The Axiom of Choice\n",
    "https://en.wikipedia.org/wiki/Axiom_of_choice\n",
    "\n",
    "Families are functions into sets.\n",
    "\n",
    "The axiom of choice. Much blood has been spilled.\n",
    "\n",
    "It in uncontroversial in our setting and I think a theorem, not an axiom\n"
   ]
  },
  {
   "cell_type": "code",
   "execution_count": 17,
   "metadata": {},
   "outputs": [],
   "source": [
    "def choice(Xi):\n",
    "    return frozenset([pair(fst(x), snd(x).elems[0]) for x in Xi])"
   ]
  },
  {
   "cell_type": "markdown",
   "metadata": {},
   "source": [
    "## Hashconsing and Universes\n",
    "By using hash consing, we can give an arbitrary total ordering to each set as we build it, the order given by it's `id` identifiers. This ordering will not be stable between different runs.\n",
    "In this way we can use the method of taking a sorted deduplicated tuple as being a canonical representative of it's set. Hashing this tuple in the usual way works fine.\n",
    "Another approach is to consider using a hash combination function that respects the properties of the set datastructure. In other words the hash combination function is something like a homomorphism from sets to integers. An example might be `xor`, which is associative and commutative, just like set union.\n",
    "\n",
    "Iterators perhaps can have the feel of classes? They are set like in some respects. Axiom schema of replacement. The ability to capture a growing universe might be useful. It feels a bit like the nonstandard reals. As soon as we discuss a particular time stamp of universes, it become an ordinary set and the universe of discourse is one step bigger.\n",
    "\n",
    "https://en.wikipedia.org/wiki/Von_Neumann_universe\n",
    "https://en.wikipedia.org/wiki/Constructible_universe\n",
    "\n",
    "It would be interesting to replace `testsets` above with the expanding universe."
   ]
  },
  {
   "cell_type": "code",
   "execution_count": 20,
   "metadata": {},
   "outputs": [
    {
     "name": "stdout",
     "output_type": "stream",
     "text": [
      "hashset([x]) is hashset([y, y])=True\n"
     ]
    }
   ],
   "source": [
    "from dataclasses import dataclass\n",
    "from typing import Iterable\n",
    "univ = {}\n",
    "@dataclass(frozen=True)\n",
    "class HashSet(): # do not use this constructor\n",
    "    elems: tuple[\"HashSet\", ...] # names. elem, mem, items   \n",
    "    def __lt__(self, other) -> bool:\n",
    "        return self.elems < other.elems\n",
    "    def __hash__(self) -> int:\n",
    "        return hash(id(self))\n",
    "    def __eq__(self, other) -> bool: # fast equality via pointer equality\n",
    "        return self is other\n",
    "    def __iter__(self): # essentially enables a comprehension/separation operation\n",
    "        return iter(self.elems)\n",
    "    def __len__(self):\n",
    "        return len(self.elems)\n",
    "    def __repr__(self): # pretty printing\n",
    "        return \"{\" + \",\".join(map(repr, self.elems)) + \"}\"\n",
    "\n",
    "# hmm. Could I use functools cache here? But maybe then it's hard to get the univ later\n",
    "def hashset(x : Iterable[HashSet]) -> HashSet:\n",
    "    \"\"\"Smart constructor returns literally the same object if the same input is given.\"\"\"\n",
    "    x = tuple(sorted(set(x)))\n",
    "    if x in univ:\n",
    "        return univ[x]\n",
    "    else:\n",
    "        y = HashSet(x)\n",
    "        univ[x] = y\n",
    "        return y\n",
    "    \n",
    "\n",
    "\n",
    "# When we make the same hashset twice, they should be the same\n",
    "x = hashset([])\n",
    "y = hashset([])\n",
    "print(f\"{hashset([x]) is hashset([y, y])=}\")\n",
    "\n",
    "\n",
    "\n",
    "def reify() -> HashSet:\n",
    "    return hashset(univ.values())"
   ]
  },
  {
   "cell_type": "markdown",
   "metadata": {},
   "source": [
    "## Infinite Sets\n",
    "Can we include infinite sets? In some sense perhaps. I believe we can basically attach some ordinals. There are certain questions that won't be computable. `[from_int(i) for i integers()] in omega` is true, but python won't ever return true.\n",
    "\n",
    "Can we talk about induction?\n",
    "\n",
    "Well foundedness. We can write a recursor.\n",
    "\n",
    "def recurse(f):\n",
    "    raise Exception(\"not well founded\")\n",
    "    \n",
    "\n",
    "\n",
    "Non well founded sets like Graham's thing\n",
    "Aczel\n",
    "We can make loopy set structures if we take iterators / lazy data structures as our sets.\n",
    "\n",
    "The laziness allows the set to be deep (infinite depth to set) or wide (infinite card set)"
   ]
  },
  {
   "cell_type": "markdown",
   "metadata": {},
   "source": [
    "## Other Stuff\n",
    "Hereditarily Finite Sets\n",
    "Paulson https://lawrencecpaulson.github.io/2022/02/23/Hereditarily_Finite.html . Paulson's blog rules. https://arxiv.org/abs/2104.14260  https://doi.org/10.4064/DM422-0-1 Świerczkowski. Useful alternative to peano arithmethmetic and godel encoding\n",
    "\n",
    "We are making a very constructive perspective on set theory. It'd be interesting to do a follow up post on python variations of computability, constructivity. I don't feel confident I know enough to write cogently.\n",
    "\n",
    "I've been using `any` and `all` without much comment, but these are natural analogs for bounded quantifiers. RCA0 is kind of pythony.\n",
    "\n",
    "\n",
    "The system is missing the ability the talk about the hypothetical. A little bit of crazy talk, but maybe one way of doing this is using promises/futures. If a value is never forced, then it's contents do not matter. This is similar to inferring forall polymorphism or when a prolog query returns an unbound metavariable.\n",
    "\n",
    "As shownn here we can't really prover theorems about hypothetical sets. We can only compute a canononical form of concrete sets and wave our hands that union is associative and so on. We need to have more tricks. Applicative python a la acl2 https://www.philipzucker.com/applicative_python/ ? \n",
    "\n",
    "set logic programming\n",
    "CLP(Set)\n",
    "\n",
    "<https://www.clpset.unipr.it/>\n",
    "`{log}` \"setlog\"\n",
    "JSetL\n",
    "\n",
    "[set unification](https://www.cambridge.org/core/journals/theory-and-practice-of-logic-programming/article/abs/set-unification/2B789EB32DCF9F77021DBE26FC691032)\n",
    "[Sets and constraint logic programming](https://dl.acm.org/doi/10.1145/365151.365169)\n",
    "\n",
    "G Rossi\n",
    "A Dovier\n",
    "E Pontelli\n",
    "\n",
    "herditraryl hybrid finite sets. Finite sets of finite sets + terms\n",
    "\n",
    "[Set Constraints in Logic Programming](https://citeseerx.ist.psu.edu/document?repid=rep1&type=pdf&doi=ea756dcfc1db14307899a5b7d33b82fefbdc74c0)\n",
    "[Set constraints and logic programming - kozen](https://www.cs.cornell.edu/~kozen/Papers/sclp.pdf) CLP(SC)\n",
    "Herbrand atom ~ singleton set\n",
    "Aiken\n",
    "\n",
    "Relation to boolean equation systems?\n",
    "\n",
    "Kuper - Logic programming with sets\n",
    "\n",
    "\n",
    "Non well founded sets\n",
    "\n",
    "\n",
    "\n",
    "The concept of a set within a set is a bit unfamiliar from a programming perspective. This rarely comes up?\n",
    "Typical set data structures require an ability to totally order or hash its elements. The subset relationship is almost a canonical example of a partial order.  Hashing of sets is interesting.\n",
    "\n",
    "There is of course an empty set.\n",
    "\n",
    "Comprehension is allowed. We obviously need to perform comprehension over a known set, so it is separation\n",
    "\n",
    "axiom of choice. We don't really need the axiom of choice since we don't have infinite things\n",
    "\n",
    "\n",
    "\n",
    "\n",
    "The TPTP set theory is very intriguing as a target of knuckledragger\n",
    "https://lawrencecpaulson.github.io/2022/02/02/Formalising_Math_Set_theory.html\n",
    "Art Quaife. Automated Deduction in von Neumann–Bernays–Gödel Set Theory. Journal of Automated Reasoning 8:1 (1992), 119–120. https://rdcu.be/cJtDU\n",
    "\n",
    "Union is a new primitive operation. Anything that needs to touch the `elems` field is peeking under the curtains. Whereas intersection is a derived operation because it can use comprehension. Is this true? Ehhhh. Kind of we have an ambient theory of lists and tuples. We can convert to them using a comprehension. Are lists, tuples, generators kind of like \"classes\"? They are HashSet like.\n"
   ]
  },
  {
   "cell_type": "code",
   "execution_count": null,
   "metadata": {},
   "outputs": [],
   "source": [
    "\n",
    "def pred(z : Hashset) -> Hashset:\n",
    "    return max(z.x, key=len)\n",
    "\n",
    "pred(three) == two\n",
    "\n",
    "# the value of memoization\n",
    "\n",
    "def plus(x: HashSet, y : HashSet):\n",
    "    if x == emp:\n",
    "        return y\n",
    "    return hashset([plus(x,y) for x in x.x])\n",
    "\n",
    "@cache\n",
    "def plus(x:HashSet, y : HashSet):\n",
    "    if x == emp:\n",
    "        return y\n",
    "    return hashset([plus(x,y) for x in x.x])\n",
    "\n",
    "\n",
    "\n",
    "print(f\"{from_int(3) == three=}\")\n",
    "from_int(4)\n",
    "\n",
    "\n",
    "power(power(emp))\n",
    "\n",
    "wrap2 = hashset([hashset([emp])])\n",
    "\n",
    "def closure(s : HashSet) -> HashSet:\n",
    "    return reduce(union, [closure(x) for x in s])\n",
    "    #pass #return hashset([ power(closure(x)) for x in s ])\n",
    "\n",
    "def natlabel(s:HashSet) -> int:\n",
    "    return sum(2**natlabel(x) for x in s)\n",
    "\n",
    "natlabel(emp)\n",
    "natlabel(one)\n",
    "natlabel(wrap2)\n",
    "natlabel(two)\n",
    "natlabel(three)\n",
    "\n",
    "def to_dict(z):\n",
    "    return {fst(x):snd(x) for x in z}\n",
    "def domain(z):\n",
    "    return hashset([fst(x) for x in z])\n",
    "def codomain(z):\n",
    "    return hashset([snd(x) for x in z])\n",
    "\n",
    "\n",
    "def fst(z):\n",
    "    return bigunion(bigunion(specify(z, lambda a: a != bigunion(z))))\n",
    "\n",
    "def snd(z):\n",
    "    return bigunion(bigunion(specify(z, lambda a: a != singleton(fst(z)))))\n",
    "\n",
    "snd(pair(singleton(emp),emp))\n",
    "\n",
    "#one = hashset([emp])\n",
    "def eats(x,y): # aka add\n",
    "    #return hashset((y,) + x.elems)\n",
    "\n",
    "\n",
    "#more intuitive and performant verions using python pattern matching.\n",
    "def fst(z):\n",
    "    x,y = z.x\n",
    "    if len(x) == 1:\n",
    "        return x\n",
    "    else:\n",
    "        return y\n",
    "\n",
    "def snd(z):\n",
    "    x,y = z.x\n",
    "    if len(y) == 1:\n",
    "        x,y = y,x\n",
    "    return y - x\n"
   ]
  },
  {
   "cell_type": "code",
   "execution_count": null,
   "metadata": {},
   "outputs": [],
   "source": [
    "%%file /tmp/set.tptp\n",
    "cnf(emp_exist, axiom, ~elem(X,emp)).\n",
    "fof(extension, axiom, (![X] : (elem(X,A) <=> elem(X,B)))) <=> A = B).\n",
    "fof(power, )\n",
    "\n",
    "\n"
   ]
  }
 ],
 "metadata": {
  "kernelspec": {
   "display_name": "Python 3",
   "language": "python",
   "name": "python3"
  },
  "language_info": {
   "codemirror_mode": {
    "name": "ipython",
    "version": 3
   },
   "file_extension": ".py",
   "mimetype": "text/x-python",
   "name": "python",
   "nbconvert_exporter": "python",
   "pygments_lexer": "ipython3",
   "version": "3.12.3"
  }
 },
 "nbformat": 4,
 "nbformat_minor": 2
}
