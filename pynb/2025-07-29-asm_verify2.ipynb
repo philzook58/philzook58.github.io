{
 "cells": [
  {
   "cell_type": "markdown",
   "id": "1a0aac39",
   "metadata": {},
   "source": [
    "---\n",
    "title: \"Verified Assembly 2: Memory, RISC-V, Cuts for Invariants, and Ghost Code\"\n",
    "date: 2025-07-29\n",
    "---"
   ]
  },
  {
   "cell_type": "markdown",
   "id": "769f4058",
   "metadata": {},
   "source": [
    "I've been hitting a good stride moving forward on this, which is good because I've been pretty mentally constipated on doing anything that I can even pretend is useful.\n",
    "\n",
    "The idea is to make an as unopinionated as possible assembly verification system. By adding annotations inline to an assembly files, which remains GAS assemblable https://www.philipzucker.com/assembly_verify/ we can get something like a Dafny or Frama-C experience. \n",
    "\n",
    "Rather than going all Hoare or weakest precondition or whatever, verification is done via symbolic execution with a twist.  I hope that this directness makes it more palatable and understandable to an audience that is only mildly interested in formal. Each piece of annotation is there because I literally quite directly need it. I've tried to stay unopinionated (HA!) and have not invented any new syntax, reusing SMTLIB to describe properties. I've avoided making syntactic niceties like inferring labels, keeping it as clunky and spartan as assembly itself. \n",
    "\n",
    "I hope this format can be a target for both manual assembly and for compiler writers to output more info. The info should go in the binary metadata. https://www.philipzucker.com/dwarf-patching/\n",
    "\n",
    "This week, \n",
    "\n",
    "- I turned on being able to talk about memory.\n",
    "- I completely rearrange the symbolic executor so that is emits verification conditions rather than solves them on the spot. \n",
    "- `kd_cut` h gives us invariants.\n",
    "- `kd_prelude` let's you inject smtlib `define-fun`, `define-const`, `declare-const` and `define-fun-rec` annotations which may help you write specs.\n",
    "- Did light rearrangement to support other archs like riscv."
   ]
  },
  {
   "cell_type": "markdown",
   "id": "6d8f43e0",
   "metadata": {},
   "source": [
    "# Memory\n",
    "\n",
    "Not too much to say here. The only thing I needed to do is inject a special variable called `ram` into the `substitute` function that turns user facing names into their internal pcode equivalents at that program state. The pcode execution model uniformly represents machine state as byte arrays, including the registers.\n"
   ]
  },
  {
   "cell_type": "code",
   "execution_count": 3,
   "id": "a8664b43",
   "metadata": {},
   "outputs": [
    {
     "name": "stdout",
     "output_type": "stream",
     "text": [
      "Overwriting /tmp/stack.s\n"
     ]
    }
   ],
   "source": [
    "%%file /tmp/stack.s\n",
    ".include \"/tmp/knuckle.s\"\n",
    ".global  _start\n",
    "kd_entry _start \" true\"\n",
    "    movq     $42, (%rsp)\n",
    "kd_exit _start_end \"(= (select ram RSP) (_ bv42 8))\"\n",
    "    ret"
   ]
  },
  {
   "cell_type": "code",
   "execution_count": 3,
   "id": "4f23e20b",
   "metadata": {},
   "outputs": [
    {
     "name": "stdout",
     "output_type": "stream",
     "text": [
      "stmts []\n",
      "Executing 0x400000/8: MOV qword ptr [RSP],0x2a at (4194304, 0) PCODE IMARK ram[400000:8]\n",
      "Executing 0x400000/8: MOV qword ptr [RSP],0x2a at (4194304, 1) PCODE unique[6e80:8] = 0x2a\n",
      "Executing 0x400000/8: MOV qword ptr [RSP],0x2a at (4194304, 2) PCODE *[ram]RSP = unique[6e80:8]\n",
      "stmts [Exit(label='_start_end', addr=4194312, expr=ram[RSP] == 42)]\n",
      "finish Exit(label='_start_end', addr=4194312, expr=ram[RSP] == 42) 0x400008\n"
     ]
    },
    {
     "data": {
      "text/plain": [
       "[\"[✅] VC(Entry(label='_start', addr=4194304, expr=True), ['0x400000'], Exit(label='_start_end', addr=4194312, expr=ram[RSP] == 42), {})\"]"
      ]
     },
     "execution_count": 3,
     "metadata": {},
     "output_type": "execute_result"
    }
   ],
   "source": [
    "import kdrag.contrib.pcode as pcode\n",
    "from kdrag.contrib.pcode.asmspec import assemble_and_check\n",
    "assemble_and_check(\"/tmp/stack.s\").successes"
   ]
  },
  {
   "cell_type": "markdown",
   "id": "4c3afdd6",
   "metadata": {},
   "source": [
    "https://github.com/philzook58/knuckledragger/blob/0a039c4539e6dba2b03c79e1e995d14d9e081977/kdrag/contrib/pcode/__init__.py#L544 This is the substitution routine. Only substituting for constants that actually appear in the expressions was a very large optimization in terms of construction time of properties\n",
    "\n",
    "\n",
    "```python\n",
    "    def substitute(self, memstate: MemState, expr: smt.ExprRef) -> smt.ExprRef:\n",
    "        \"\"\"\n",
    "        Substitute the values in memstate into the expression `expr`.\n",
    "        `expr` uses the short register names and `ram`\n",
    "        \"\"\"\n",
    "        # Much faster typically to pull only those constants that are used in the expression\n",
    "        consts = {t.decl().name(): t for t in kd.utils.consts(expr)}\n",
    "        substs = [\n",
    "            (t, self.get_reg(memstate, regname))\n",
    "            for regname, t in consts.items()\n",
    "            if regname in self.ctx.registers\n",
    "        ]\n",
    "        if \"ram\" in consts:\n",
    "            substs.append((smt.Array(\"ram\", BV64, BV8), memstate.mem.ram))\n",
    "        if \"ram64\" in consts:\n",
    "            addr = smt.BitVec(\"addr\", 64)\n",
    "            substs.append(\n",
    "                (\n",
    "                    smt.Array(\"ram64\", BV64, BV64),\n",
    "                    smt.Lambda([addr], memstate.getvalue_ram(addr, 8)),\n",
    "                )\n",
    "            )\n",
    "\n",
    "        return smt.substitute(expr, *substs)\n",
    "```"
   ]
  },
  {
   "cell_type": "markdown",
   "id": "c1b460a7",
   "metadata": {},
   "source": [
    "Pcode uniformly represents everything as byte addressed memory. It is very useful to be able to pull out 64 and 32 bits at a time. This was a serious ergonomics problem in cbat https://github.com/draperlaboratory/cbat_tools/blob/master/wp/resources/sample_binaries/loop_invariant/break/loop_invariant.smt where we often manually concated bitvectors in the smtlib. I fixed it I think by adding special constants `ram64` which becomes a lambda which pulls out 8 bytes at once and concats them. I'll also add `ram16` and `ram32`."
   ]
  },
  {
   "cell_type": "code",
   "execution_count": 4,
   "id": "e20b41c7",
   "metadata": {},
   "outputs": [
    {
     "name": "stdout",
     "output_type": "stream",
     "text": [
      "Writing /tmp/mem.s\n"
     ]
    }
   ],
   "source": [
    "%%file /tmp/mem.s\n",
    ".include \"/tmp/knuckle.s\"\n",
    ".global  _start\n",
    "kd_entry _start \"true\"\n",
    "    movq     $12345678, (%rsp)\n",
    "kd_exit _start_end \"(= (select ram64 RSP) (_ bv12345678 64))\"\n",
    "    ret\n",
    "    "
   ]
  },
  {
   "cell_type": "code",
   "execution_count": 1,
   "id": "c56a0ee9",
   "metadata": {},
   "outputs": [
    {
     "name": "stdout",
     "output_type": "stream",
     "text": [
      "stmts []\n",
      "Executing 0x400000/8: MOV qword ptr [RSP],0xbc614e at (4194304, 0) PCODE IMARK ram[400000:8]\n",
      "Executing 0x400000/8: MOV qword ptr [RSP],0xbc614e at (4194304, 1) PCODE unique[6e80:8] = 0xbc614e\n",
      "Executing 0x400000/8: MOV qword ptr [RSP],0xbc614e at (4194304, 2) PCODE *[ram]RSP = unique[6e80:8]\n",
      "stmts [Exit(label='_start_end', addr=4194312, expr=ram64[RSP] == 12345678)]\n",
      "finish Exit(label='_start_end', addr=4194312, expr=ram64[RSP] == 12345678) 0x400008\n"
     ]
    },
    {
     "data": {
      "text/plain": [
       "[\"[✅] VC(Entry(label='_start', addr=4194304, expr=True), ['0x400000'], Exit(label='_start_end', addr=4194312, expr=ram64[RSP] == 12345678), {})\"]"
      ]
     },
     "execution_count": 1,
     "metadata": {},
     "output_type": "execute_result"
    }
   ],
   "source": [
    "from kdrag.contrib.pcode.asmspec import assemble_and_check\n",
    "assemble_and_check(\"/tmp/mem.s\").successes"
   ]
  },
  {
   "cell_type": "markdown",
   "id": "99b9ef7e",
   "metadata": {},
   "source": [
    "# Rearranging the SymExec\n",
    "\n",
    "I had sort of let myself build my symexec step by step, following my nose. I realized that I wanted a couple things to change. First off, I wanted to kind of \"array of structure\" the thing into lists of spec statements indexed by address. This is because I want them ordered, knowing the order with which to execute assumes, assigns, asserts, etc. This is more natural than having their order undefined.\n",
    "\n",
    "The other stuff I did was start to record all the information about what happened during execution for easier debugging later.\n",
    "\n",
    "Another important change was to switch from eagerly discharging verification conditions to emitting a verification condition structure. This enables interactive verification.\n",
    "\n",
    "The core routine now looks like this https://github.com/philzook58/knuckledragger/blob/0a039c4539e6dba2b03c79e1e995d14d9e081977/kdrag/contrib/pcode/asmspec.py#L301\n",
    "\n",
    "\n",
    "```\n",
    "def run_all_paths(\n",
    "    ctx: pcode.BinaryContext, spec: AsmSpec, mem=None, verbose=True\n",
    ") -> list[VerificationCondition]:\n",
    "    if mem is None:\n",
    "        mem = pcode.MemState.Const(\"mem\")\n",
    "    todo = []\n",
    "    vcs = []\n",
    "    # Initialize executions out of entry points and cuts\n",
    "    for addr, specstmts in spec.addrmap.items():\n",
    "        for n, stmt in enumerate(specstmts):\n",
    "            if isinstance(stmt, Cut) or isinstance(stmt, Entry):\n",
    "                precond = ctx.substitute(mem, stmt.expr)\n",
    "                assert isinstance(precond, smt.BoolRef)\n",
    "                tracestate = TraceState(\n",
    "                    start=stmt,\n",
    "                    trace=[],\n",
    "                    state=pcode.SimState(mem, (addr, 0), [precond]),\n",
    "                )\n",
    "                tracestate, new_vcs = execute_spec_stmts(\n",
    "                    specstmts[n + 1 :], tracestate, ctx\n",
    "                )\n",
    "                vcs.extend(new_vcs)\n",
    "                if tracestate is not None:\n",
    "                    todo.extend(execute_insn(tracestate, ctx, verbose=verbose))\n",
    "    # Execute pre specstmts and instructions\n",
    "    while todo:\n",
    "        tracestate = todo.pop()\n",
    "        addr = tracestate.state.pc[0]\n",
    "        specstmts = spec.addrmap.get(addr, [])\n",
    "        tracestate, new_vcs = execute_spec_stmts(specstmts, tracestate, ctx)\n",
    "        vcs.extend(new_vcs)\n",
    "        if tracestate is not None:\n",
    "            todo.extend(execute_insn(tracestate, ctx, verbose=verbose))\n",
    "    return vcs\n",
    "```\n",
    "\n"
   ]
  },
  {
   "cell_type": "markdown",
   "id": "bf2349b4",
   "metadata": {},
   "source": [
    "# Ghost State\n",
    "A thing that verifiers often need is ghost state https://hal.science/hal-01396864v1 , stuff that isn't real code that needs to execute, but is necessary for verification. It may need to track extra information that is not being retained in the real state (such as function arguments in rdi/rsi before they get clobbered)\n",
    "\n",
    "I did this by adding a `kd_assign` statement and a `ghost_env` into my symbolic executor. The ghost code is obviously is not real code (having actual runtime meaning) because it's not assembly, it's in smtlib. I do not ever translate SMTLIB to assembly, although the idea is intriguing.\n",
    "\n",
    "`kd_prelude` is a feature to be able to add declarations. Constants need to be declared before z3 can parse them.\n"
   ]
  },
  {
   "cell_type": "code",
   "execution_count": 3,
   "id": "d6380b2e",
   "metadata": {},
   "outputs": [
    {
     "name": "stdout",
     "output_type": "stream",
     "text": [
      "Writing /tmp/assign.s\n"
     ]
    }
   ],
   "source": [
    "%%file /tmp/assign.s\n",
    ".include \"/tmp/knuckle.s\"\n",
    ".globl myfunc\n",
    "kd_prelude \"(declare-const mytemp (_ BitVec 64))\"\n",
    "\n",
    ".text\n",
    "    kd_entry myfunc \"true\"\n",
    "    movq $42, %rax\n",
    "    kd_assign mylabel mytemp \"(bvadd RAX (_ bv1 64))\"\n",
    "    kd_exit func_end \"(= mytemp (_ bv43 64))\"\n",
    "    ret\n"
   ]
  },
  {
   "cell_type": "code",
   "execution_count": 4,
   "id": "f346f030",
   "metadata": {},
   "outputs": [
    {
     "name": "stdout",
     "output_type": "stream",
     "text": [
      "stmts []\n",
      "Executing 0x400000/7: MOV RAX,0x2a at (4194304, 0) PCODE IMARK ram[400000:7]\n",
      "Executing 0x400000/7: MOV RAX,0x2a at (4194304, 1) PCODE RAX = 0x2a\n",
      "stmts [Assign(label='mylabel', addr=4194311, name='mytemp', expr=RAX + 1), Exit(label='func_end', addr=4194311, expr=mytemp == 43)]\n",
      "assign addr 0x400007\n",
      "{}\n",
      "0x400007\n",
      "RAX + 1\n",
      "{'mytemp': 42 + 1}\n",
      "finish Exit(label='func_end', addr=4194311, expr=mytemp == 43) 0x400007\n"
     ]
    },
    {
     "data": {
      "text/plain": [
       "[\"[✅] VC(Entry(label='myfunc', addr=4194304, expr=True), ['0x400000'], Exit(label='func_end', addr=4194311, expr=mytemp == 43), {'mytemp': 42 + 1})\"]"
      ]
     },
     "execution_count": 4,
     "metadata": {},
     "output_type": "execute_result"
    }
   ],
   "source": [
    "from kdrag.contrib.pcode.asmspec import assemble_and_check\n",
    "assemble_and_check(\"/tmp/assign.s\").successes"
   ]
  },
  {
   "cell_type": "markdown",
   "id": "0343f7b4",
   "metadata": {},
   "source": [
    "# Cuts\n",
    "Maybe the most interesting but simple idea that I don't recall seeing before is using \"cuts\" as a way of thinking about invariants. It is obvious, so it's probably out there.\n",
    "\n",
    "Cuts are annotations that cut the control flow graph. They both start a symbolic execution with an assumption and stop them with an assertion with the same expression. If your CFG is cut to be acyclic, there will only be finite number of trace fragments. The cut annotations in this way can be proven to be weakly self consistent. The weakness is that I do not currently prove anything about termination, which is necessary for true functional correctness."
   ]
  },
  {
   "cell_type": "code",
   "execution_count": 5,
   "id": "eea2d9fd",
   "metadata": {},
   "outputs": [
    {
     "name": "stdout",
     "output_type": "stream",
     "text": [
      "Writing /tmp/cutloop.s\n"
     ]
    }
   ],
   "source": [
    "%%file /tmp/cutloop.s\n",
    ".include \"/tmp/knuckle.s\"\n",
    ".global  _start\n",
    "kd_entry _start \"true\"\n",
    "    movq     $42, %rdi\n",
    "kd_cut mycut \"(= RDI (_ bv42 64))\"\n",
    "    jmp mycut"
   ]
  },
  {
   "cell_type": "code",
   "execution_count": 6,
   "id": "d5ac570d",
   "metadata": {},
   "outputs": [
    {
     "name": "stdout",
     "output_type": "stream",
     "text": [
      "stmts []\n",
      "Executing 0x400000/7: MOV RDI,0x2a at (4194304, 0) PCODE IMARK ram[400000:7]\n",
      "Executing 0x400000/7: MOV RDI,0x2a at (4194304, 1) PCODE RDI = 0x2a\n",
      "stmts []\n",
      "Executing 0x400007/2: JMP 0x400007 at (4194311, 0) PCODE IMARK ram[400007:2]\n",
      "Executing 0x400007/2: JMP 0x400007 at (4194311, 1) PCODE goto ram[400007:8]\n",
      "stmts [Cut(label='mycut', addr=4194311, expr=RDI == 42)]\n",
      "finish Cut(label='mycut', addr=4194311, expr=RDI == 42) 0x400007\n",
      "stmts [Cut(label='mycut', addr=4194311, expr=RDI == 42)]\n",
      "finish Cut(label='mycut', addr=4194311, expr=RDI == 42) 0x400007\n"
     ]
    },
    {
     "data": {
      "text/plain": [
       "[\"[✅] VC(Cut(label='mycut', addr=4194311, expr=RDI == 42), ['0x400007'], Cut(label='mycut', addr=4194311, expr=RDI == 42), {})\",\n",
       " \"[✅] VC(Entry(label='_start', addr=4194304, expr=True), ['0x400000'], Cut(label='mycut', addr=4194311, expr=RDI == 42), {})\"]"
      ]
     },
     "execution_count": 6,
     "metadata": {},
     "output_type": "execute_result"
    }
   ],
   "source": [
    "assemble_and_check(\"/tmp/cutloop.s\").successes"
   ]
  },
  {
   "cell_type": "markdown",
   "id": "eb45c5fd",
   "metadata": {},
   "source": [
    "# Risc-V\n",
    "\n",
    "A huge advantage of using pcode is that other architectures are easy. It's all lifted to a uniform representation. Currently I have to give it the Pcode langid and the appropriate assembler for the architecture, but maybe I could infer this in the future."
   ]
  },
  {
   "cell_type": "code",
   "execution_count": 12,
   "id": "c5012106",
   "metadata": {},
   "outputs": [
    {
     "name": "stdout",
     "output_type": "stream",
     "text": [
      "Writing /tmp/mov42.s\n"
     ]
    }
   ],
   "source": [
    "%%file /tmp/mov42.s\n",
    ".include \"/tmp/knuckle.s\"\n",
    "    .text\n",
    "    .globl  myfunc\n",
    "kd_entry myfunc \"true\"\n",
    "    li    a0, 42\n",
    "kd_exit myfunc_end \"(= a0 (_ bv42 64))\"\n",
    "    ret"
   ]
  },
  {
   "cell_type": "code",
   "execution_count": 13,
   "id": "84eaa4d6",
   "metadata": {},
   "outputs": [
    {
     "name": "stdout",
     "output_type": "stream",
     "text": [
      "stmts []\n",
      "Executing 0x400000/4: li a0,0x2a at (4194304, 0) PCODE IMARK ram[400000:4]\n",
      "Executing 0x400000/4: li a0,0x2a at (4194304, 1) PCODE unique[780:8] = 0x2a\n",
      "Executing 0x400000/4: li a0,0x2a at (4194304, 2) PCODE a0 = unique[780:8]\n",
      "stmts [Exit(label='myfunc_end', addr=4194308, expr=a0 == 42)]\n",
      "finish Exit(label='myfunc_end', addr=4194308, expr=a0 == 42) 0x400004\n"
     ]
    },
    {
     "data": {
      "text/plain": [
       "[\"[✅] VC(Entry(label='myfunc', addr=4194304, expr=True), ['0x400000'], Exit(label='myfunc_end', addr=4194308, expr=a0 == 42), {})\"]"
      ]
     },
     "execution_count": 13,
     "metadata": {},
     "output_type": "execute_result"
    }
   ],
   "source": [
    "assemble_and_check(\"/tmp/mov42.s\", langid=\"RISCV:LE:64:default\", as_bin=\"riscv64-linux-gnu-as\").successes"
   ]
  },
  {
   "cell_type": "markdown",
   "id": "2cf9ceaf",
   "metadata": {},
   "source": [
    "Pypcode ships with a bunch. avr8 for arduino stuff, ebpf, 6502 for NES, etc could make for fun posts. I think there are even more out there like a wasm https://github.com/nneonneo/ghidra-wasm-plugin . Not so sure how I'd load these into pypcode though."
   ]
  },
  {
   "cell_type": "code",
   "execution_count": 14,
   "id": "eb287d11",
   "metadata": {},
   "outputs": [
    {
     "name": "stdout",
     "output_type": "stream",
     "text": [
      "6502:LE:16:default                  - 6502 Microcontroller Family\n",
      "65C02:LE:16:default                 - 65C02 Microcontroller Family\n",
      "68000:BE:32:Coldfire                - Motorola 32-bit Coldfire\n",
      "68000:BE:32:MC68020                 - Motorola 32-bit 68020\n",
      "68000:BE:32:MC68030                 - Motorola 32-bit 68030\n",
      "68000:BE:32:default                 - Motorola 32-bit 68040\n",
      "6805:BE:16:default                  - 6805 Microcontroller Family\n",
      "6809:BE:16:default                  - 6809 Microprocessor\n",
      "80251:BE:24:default                 - 80251 Microcontroller Family\n",
      "80390:BE:24:default                 - 80390 in flat mode\n",
      "8048:LE:16:default                  - 8048 Microcontroller Family\n",
      "8051:BE:16:default                  - 8051 Microcontroller Family\n",
      "8051:BE:24:mx51                     - NXP/Phillips MX51\n",
      "8085:LE:16:default                  - Intel 8085\n",
      "AARCH64:BE:32:ilp32                 - Generic ARM64 v8.5-A LE instructions, BE data, ilp32\n",
      "AARCH64:BE:64:v8A                   - Generic ARM64 v8.5-A LE instructions, BE data, missing some 8.5 vector\n",
      "AARCH64:LE:32:ilp32                 - Generic ARM64 v8.5-A LE instructions, LE data, ilp32\n",
      "AARCH64:LE:64:AppleSilicon          - AppleSilicon ARM v8.5-A LE instructions, LE data, AMX extensions\n",
      "AARCH64:LE:64:v8A                   - Generic ARM64 v8.5-A LE instructions, LE data, missing some 8.5 vector\n",
      "ARM:BE:32:Cortex                    - ARM Cortex / Thumb big endian\n",
      "ARM:BE:32:v4                        - Generic ARM v4 big endian\n",
      "ARM:BE:32:v4t                       - Generic ARM/Thumb v4 big endian (T-variant)\n",
      "ARM:BE:32:v5                        - Generic ARM v5 big endian\n",
      "ARM:BE:32:v5t                       - Generic ARM/Thumb v5 big endian (T-variant)\n",
      "ARM:BE:32:v6                        - Generic ARM/Thumb v6 big endian\n",
      "ARM:BE:32:v7                        - Generic ARM/Thumb v7 big endian\n",
      "ARM:BE:32:v8                        - Generic ARM/Thumb v8 big endian\n",
      "ARM:BE:32:v8-m                      - ARM Cortex v8-m big endian\n",
      "ARM:BE:32:v8T                       - Generic ARM/Thumb v8 big endian (Thumb is default)\n",
      "ARM:LE:32:Cortex                    - ARM Cortex / Thumb little endian\n",
      "ARM:LE:32:v4                        - Generic ARM v4 little endian\n",
      "ARM:LE:32:v4t                       - Generic ARM/Thumb v4 little endian (T-variant)\n",
      "ARM:LE:32:v5                        - Generic ARM v5 little endian\n",
      "ARM:LE:32:v5t                       - Generic ARM/Thumb v5 little endian (T-variant)\n",
      "ARM:LE:32:v6                        - Generic ARM/Thumb v6 little endian\n",
      "ARM:LE:32:v7                        - Generic ARM/Thumb v7 little endian\n",
      "ARM:LE:32:v8                        - Generic ARM/Thumb v8 little endian\n",
      "ARM:LE:32:v8-m                      - ARM Cortex v8-m little endian\n",
      "ARM:LE:32:v8T                       - Generic ARM/Thumb v8 little endian (Thumb is default)\n",
      "ARM:LEBE:32:v7LEInstruction         - Generic ARM/Thumb v7 little endian instructions and big endian data\n",
      "ARM:LEBE:32:v8LEInstruction         - Generic ARM/Thumb v8 little endian instructions and big endian data\n",
      "BPF:LE:32:default                   - BPF processor 32-bit little-endian\n",
      "CP1600:BE:16:default                - General Instruments CP1600\n",
      "CR16C:LE:16:default                 - National Semiconductor's CompactRISC CR16C little endian\n",
      "DATA:BE:64:default                  - Raw Data File (Big Endian)\n",
      "DATA:LE:64:default                  - Raw Data File (Little Endian)\n",
      "Dalvik:LE:32:DEX_Android10          - Dalvik DEX Android10\n",
      "Dalvik:LE:32:DEX_Android11          - Dalvik DEX Android11\n",
      "Dalvik:LE:32:DEX_Android12          - Dalvik DEX Android12\n",
      "Dalvik:LE:32:DEX_Android13          - Dalvik DEX Android13\n",
      "Dalvik:LE:32:DEX_Base               - Dalvik Base\n",
      "Dalvik:LE:32:DEX_KitKat             - Dalvik DEX KitKat\n",
      "Dalvik:LE:32:DEX_Lollipop           - Dalvik DEX Lollipop\n",
      "Dalvik:LE:32:DEX_Nougat             - Dalvik DEX Nougat\n",
      "Dalvik:LE:32:DEX_Oreo               - Dalvik DEX Oreo\n",
      "Dalvik:LE:32:DEX_Pie                - Dalvik DEX Pie\n",
      "Dalvik:LE:32:Marshmallow            - Dalvik DEX Marshmallow\n",
      "Dalvik:LE:32:ODEX_KitKat            - Dalvik ODEX KitKat\n",
      "Dalvik:LE:32:default                - Dalvik Base\n",
      "H6309:BE:16:default                 - Hitachi 6309 Microprocessor, extension of 6809, 6309 addressing modes, missing many instructions\n",
      "HC-12:BE:16:default                 - HC12 Microcontroller Family\n",
      "HC05:BE:16:M68HC05TB                - HC05 (6805) Microcontroller Family - M68HC05TB\n",
      "HC05:BE:16:default                  - HC05 (6805) Microcontroller Family\n",
      "HC08:BE:16:MC68HC908QY4             - HC08 Microcontroller Family - MC68HC908QY4\n",
      "HC08:BE:16:default                  - HC08 Microcontroller Family\n",
      "HCS-12:BE:24:default                - HCS12 Microcontroller Family\n",
      "HCS-12X:BE:24:default               - HCS12X Microcontroller Family\n",
      "HCS08:BE:16:MC9S08GB60              - HCS08 Microcontroller Family - MC9S08GB60\n",
      "HCS08:BE:16:default                 - HCS08 Microcontroller Family\n",
      "HCS12:BE:24:default                 - HCS12X Microcontroller Family\n",
      "JVM:BE:32:default                   - Generic JVM\n",
      "Loongarch:LE:32:ilp32d              - Loongson 3 32-bit with 64-bit FP\n",
      "Loongarch:LE:32:ilp32f              - Loongson 3 32-bit with 32-bit FP\n",
      "Loongarch:LE:64:lp64d               - Loongson 3 64-bit with 64-bit FP\n",
      "Loongarch:LE:64:lp64f               - Loongson 3 64-bit with 32-bit FP\n",
      "M16C/60:LE:16:default               - Renesas M16C/60 16-Bit MicroComputer\n",
      "M16C/80:LE:16:default               - Renesas M16C/80 16-Bit MicroComputer\n",
      "M8C:BE:16:default                   - Cypress M8C Microcontroller Family\n",
      "MCS96:LE:16:default                 - Intel MCS-96 Microcontroller Family\n",
      "MIPS:BE:32:R6                       - MIPS32 Release-6 32-bit addresses, big endian, with microMIPS\n",
      "MIPS:BE:32:default                  - MIPS32 32-bit addresses, big endian, with mips16e\n",
      "MIPS:BE:32:micro                    - MIPS32 32-bit addresses, big endian, with microMIPS\n",
      "MIPS:BE:64:64-32R6addr              - MIPS64 Release-6 big endian with 32 bit addressing and microMIPS\n",
      "MIPS:BE:64:64-32addr                - MIPS64 32-bit addresses, big endian, with mips16e\n",
      "MIPS:BE:64:R6                       - MIPS64 Release-6 64-bit addresses, big endian, with microMIPS\n",
      "MIPS:BE:64:default                  - MIPS64 64-bit addresses, big endian, with mips16e\n",
      "MIPS:BE:64:micro                    - MIPS64 64-bit addresses, big endian, with microMIPS\n",
      "MIPS:BE:64:micro64-32addr           - MIPS64 32-bit addresses, big endian, with microMIPS\n",
      "MIPS:LE:32:R6                       - MIPS32 Release-6 32-bit addresses, little endian, with microMIPS\n",
      "MIPS:LE:32:default                  - MIPS32 32-bit addresses, little endian, with mips16e\n",
      "MIPS:LE:32:micro                    - MIPS32 32-bit addresses, little endian, with microMIPS\n",
      "MIPS:LE:64:64-32R6addr              - MIPS64 Release-6 with 32-bit addresses, little endian, with microMIPS\n",
      "MIPS:LE:64:64-32addr                - MIPS64 32-bit addresses, little endian, with mips16e\n",
      "MIPS:LE:64:R6                       - MIPS64 Release-6 64-bit addresses, little endian, with microMIPS\n",
      "MIPS:LE:64:default                  - MIPS64 64-bit addreses, little endian, with mips16e\n",
      "MIPS:LE:64:micro                    - MIPS64 64-bit addresses, little endian, with microMIPS\n",
      "MIPS:LE:64:micro64-32addr           - MIPS64 32-bit addresses, little endian, with microMIPS\n",
      "PIC-12:LE:16:PIC-12C5xx             - PIC-12C5xx\n",
      "PIC-16:LE:16:PIC-16                 - PIC-16(C,CR)XXX\n",
      "PIC-16:LE:16:PIC-16C5x              - PIC-16C5x\n",
      "PIC-16:LE:16:PIC-16F                - PIC-16F(L)XXX\n",
      "PIC-17:LE:16:PIC-17C7xx             - PIC-17C7xx\n",
      "PIC-18:LE:24:PIC-18                 - PIC-18\n",
      "PIC-24E:LE:24:default               - PIC-24E\n",
      "PIC-24F:LE:24:default               - PIC-24F\n",
      "PIC-24H:LE:24:default               - PIC-24H\n",
      "PowerPC:BE:32:4xx                   - PowerPC 4xx 32-bit big endian embedded core\n",
      "PowerPC:BE:32:MPC8270               - Freescale MPC8280 32-bit big endian family (PowerQUICC-III)\n",
      "PowerPC:BE:32:QUICC                 - PowerQUICC-III 32-bit big endian family\n",
      "PowerPC:BE:32:default               - PowerPC 32-bit big endian w/Altivec, G2\n",
      "PowerPC:BE:32:e200                  - Power ISA e200 32-bit big-endian embedded core w/VLE\n",
      "PowerPC:BE:32:e500                  - PowerQUICC-III e500 32-bit big-endian family\n",
      "PowerPC:BE:32:e500mc                - PowerQUICC-III e500mc 32-bit big-endian family\n",
      "PowerPC:BE:64:64-32addr             - PowerPC 64-bit big endian w/Altivec and 32 bit addressing, G2\n",
      "PowerPC:BE:64:A2-32addr             - Power ISA 3.0 Big Endian w/EVX and 32-bit Addressing\n",
      "PowerPC:BE:64:A2ALT                 - Power ISA 3.0 Big Endian w/Altivec\n",
      "PowerPC:BE:64:A2ALT-32addr          - Power ISA 3.0 Big Endian w/Altivec and 32-bit Addressing\n",
      "PowerPC:BE:64:VLE-32addr            - Power ISA 3.0 Big Endian w/VLE, EVX and 32-bit Addressing \n",
      "PowerPC:BE:64:VLEALT-32addr         - Power ISA 3.0 Big Endian w/VLE, Altivec and 32-bit Addressing\n",
      "PowerPC:BE:64:default               - PowerPC 64-bit big endian w/Altivec, G2\n",
      "PowerPC:LE:32:4xx                   - PowerPC 4xx 32-bit little endian embedded core\n",
      "PowerPC:LE:32:QUICC                 - PowerQUICC-III 32-bit little endian family\n",
      "PowerPC:LE:32:default               - PowerPC 32-bit little endian w/Altivec, G2\n",
      "PowerPC:LE:32:e500                  - PowerQUICC-III e500 32-bit little-endian family\n",
      "PowerPC:LE:32:e500mc                - PowerQUICC-III e500mc 32-bit little-endian family\n",
      "PowerPC:LE:64:64-32addr             - PowerPC 64-bit little endian w/Altivec and 32 bit addressing, G2\n",
      "PowerPC:LE:64:A2-32addr             - Power ISA 3.0 Little Endian w/EVX and 32-bit Addressing\n",
      "PowerPC:LE:64:A2ALT                 - Power ISA 3.0 Little Endian w/Altivec\n",
      "PowerPC:LE:64:A2ALT-32addr          - Power ISA 3.0 Little Endian w/Altivec and 32-bit Addressing\n",
      "PowerPC:LE:64:default               - PowerPC 64-bit little endian w/Altivec, G2\n",
      "RISCV:LE:32:RV32G                   - RISC-V 32 little general purpose\n",
      "RISCV:LE:32:RV32GC                  - RISC-V 32 little general purpose compressed\n",
      "RISCV:LE:32:RV32I                   - RISC-V 32 little base\n",
      "RISCV:LE:32:RV32IC                  - RISC-V 32 little base compressed\n",
      "RISCV:LE:32:RV32IMC                 - RISC-V 32 little base compressed\n",
      "RISCV:LE:32:default                 - RISC-V 32 little default\n",
      "RISCV:LE:64:RV64G                   - RISC-V 64 little general purpose\n",
      "RISCV:LE:64:RV64GC                  - RISC-V 64 little general purpose compressed\n",
      "RISCV:LE:64:RV64I                   - RISC-V 64 little base\n",
      "RISCV:LE:64:RV64IC                  - RISC-V 64 little base compressed\n",
      "RISCV:LE:64:default                 - RISC-V 32 little default\n",
      "SuperH4:BE:32:default               - SuperH-4(a) (SH4) big endian\n",
      "SuperH4:LE:32:default               - SuperH-4(a) (SH4) little endian\n",
      "SuperH:BE:32:SH-1                   - SuperH SH-1 processor 32-bit big-endian\n",
      "SuperH:BE:32:SH-2                   - SuperH SH-2 processor 32-bit big-endian\n",
      "SuperH:BE:32:SH-2A                  - SuperH SH-2A processor 32-bit big-endian\n",
      "TI_MSP430:LE:16:default             - TI MSP430 16-Bit MicroController\n",
      "TI_MSP430X:LE:32:default            - TI MSP430X 20-Bit MicroController\n",
      "Toy:BE:32:builder                   - Toy (test-builder) processor 32-bit big-endian\n",
      "Toy:BE:32:builder.align2            - Toy (test-builder) processor 32-bit big-endian word-aligned\n",
      "Toy:BE:32:default                   - Toy (test) processor 32-bit big-endian\n",
      "Toy:BE:32:posStack                  - Toy (test) processor 32-bit big-endian\n",
      "Toy:BE:32:wordSize2                 - Toy (test) processor 32-bit big-endian (wordsize=2)\n",
      "Toy:BE:64:default                   - Toy (test) processor 64-bit big-endian\n",
      "Toy:BE:64:harvard                   - Toy (test) processor 64-bit big-endian Harvard\n",
      "Toy:LE:32:builder                   - Toy (test-builder) processor 32-bit little-endian\n",
      "Toy:LE:32:builder.align2            - Toy (test-builder) processor 32-bit little-endian word-aligned\n",
      "Toy:LE:32:default                   - Toy (test) processor 32-bit little-endian\n",
      "Toy:LE:32:wordSize2                 - Toy (test) processor 32-bit little-endian (wordsize=2)\n",
      "Toy:LE:64:default                   - Toy (test) processor 64-bit little-endian\n",
      "V850:LE:32:default                  - Renesas V850 family\n",
      "Xtensa:BE:32:default                - Tensilica Xtensa 32-bit big-endian\n",
      "Xtensa:LE:32:default                - Tensilica Xtensa 32-bit little-endian\n",
      "avr32:BE:32:default                 - Generic AVR32-A big-endian\n",
      "avr8:LE:16:atmega256                - AVR8 for an Atmega 256\n",
      "avr8:LE:16:default                  - AVR8 with 16-bit word addressable code space\n",
      "avr8:LE:16:extended                 - AVR8 with 22-bit word addressable with EIND code space\n",
      "avr8:LE:24:xmega                    - AVR8 for an Xmega\n",
      "dsPIC30F:LE:24:default              - dsPIC30F\n",
      "dsPIC33C:LE:24:default              - dsPIC33C\n",
      "dsPIC33E:LE:24:default              - dsPIC33E\n",
      "dsPIC33F:LE:24:default              - dsPIC33F\n",
      "eBPF:LE:64:default                  - eBPF processor 64-bit little-endian\n",
      "pa-risc:BE:32:default               - Generic PA-RISC 32-bit big endian\n",
      "sparc:BE:32:default                 - Sparc V9 32-bit\n",
      "sparc:BE:64:default                 - Sparc V9 64-bit\n",
      "tricore:LE:32:default               - Siemens Tricore Embedded Processor\n",
      "tricore:LE:32:tc172x                - Siemens Tricore Embedded Processor TC1724/TC1728\n",
      "tricore:LE:32:tc176x                - Siemens Tricore Embedded Processor TC1762/TC1766\n",
      "tricore:LE:32:tc29x                 - Siemens Tricore Embedded Processor TC29x\n",
      "x86:LE:16:Protected Mode            - Intel/AMD 16-bit x86 Protected Mode\n",
      "x86:LE:16:Real Mode                 - Intel/AMD 16-bit x86 Real Mode\n",
      "x86:LE:32:System Management Mode    - Intel/AMD 32-bit x86 System Management Mode\n",
      "x86:LE:32:default                   - Intel/AMD 32-bit x86\n",
      "x86:LE:64:compat32                  - Intel/AMD 64-bit x86 in 32-bit compatibility mode (long mode off)\n",
      "x86:LE:64:default                   - Intel/AMD 64-bit x86\n",
      "z180:LE:16:default                  - Zilog Z180\n",
      "z182:LE:16:default                  - Zilog Z182\n",
      "z80:LE:16:default                   - Zilog Z80\n",
      "z8401x:LE:16:default                - Zilog Z8401x (IPC) microcontroller\n"
     ]
    }
   ],
   "source": [
    "! python3 -m pypcode --list"
   ]
  },
  {
   "cell_type": "markdown",
   "id": "bdf70af6",
   "metadata": {},
   "source": [
    "# Bits and Bobbles\n",
    "\n",
    "TODO:\n",
    "- better countermodel presentation\n",
    "- 32 bit arch\n",
    "- kd_load for constants that need to be loaded into ram\n",
    "- Make CLI. \n",
    "- objcopy into biary data\n",
    "- kd_always\n",
    "- Checking memory reads and writes aren't really state functions. Hmm.\n",
    "- equivalence checking\n",
    "- bigger more interesting examples. simd?\n",
    "\n",
    "\n",
    "It would be interesting to make a rust version that uses cbmc stuff as solver backend. A lot of work for questionable gains.\n",
    "\n",
    "\n",
    "- Ghost state is now available via `kd_assign`. This let's you store information that may be clobbered in the actual state.\n",
    "\n",
    "\n",
    "getvalue RAX and simplify. before subsitution. Oh I already dio that... Hmm.\n",
    "\n",
    "Maybe if I set init_RAX\n",
    "Take the assert out of the smtlib statements. It's weird to have it in an assume\n",
    "Versions that don't need conditions?\n",
    "\n",
    "exit and entry are kind of subsumed. No but they aren't if I want \n",
    "\n",
    "If I ever jump to something marked as entry, don't do it. Just use entry condition, chaos, and receive exit condition. Or just run, but also receive exit condition?\n",
    "\n",
    "Faster checks for true / false. DOn't bother doing a whole thing... right?\n",
    "\n",
    "\n",
    "Mark out the pieces of memory that need to be loaded into memory for this to work.\n",
    "\n",
    "kd_load foo: .ascii \"hello world\"\n",
    "kd_load\n",
    "\n",
    "should memstate have a pointer to a context? Maybe.\n",
    "\n",
    "Also initialize all symbols that point to data to at least... eh.\n",
    "\n",
    "\n",
    "mem ---> Lambda([x], mem(yada)[x])\n",
    "\n",
    "\n",
    "- fixup to work on riscv and 32 bit.\n",
    "- nicer error output. Negative examples\n",
    "- Retain initial ghost variables. kd_ghost? kd_let ?\n",
    "- Countermodels interpret to be more readable. Give path through program, state at beginning and end.\n",
    "- Use abstractions so the intermidate symbolic states aren't quite so unreadable. Or initialize mem to RAX0. Too slow though. Hmm.\n",
    "- Hoarize. I've had so many bugs this principled approach might be pretty useful.\n",
    "- prearranged loaded data. Mem does not currently reflect the actual contents of the loading. kd_load ?\n",
    "- pre and post conditions on calls? if jump into address already.\n",
    "- objcopy assertions into section\n",
    "- Pro / Con of WP?\n",
    "- kd_always for constantly checked invariants\n",
    "- A whitelist of jump points. Only allow labelled positions?\n",
    "- Regular execution or GDB sessions. All the cbat features.\n",
    "- failsafe. If I grep kd_ in the line, but don't recognize it, I should complain. Multiline smtlib would be nice too.\n",
    "- The stdlib of helpers.\n",
    "- speed\n",
    "- Tracking seen addresses. We may want to track if we never hit a label that has an annotation on it, as this is suspicious.\n",
    "- it could make sense to slot in AFL or angr or Symqemu or whatever instead of my system, checking the same properties. I have designed my semantics to be moderately sound\n",
    "- ram8;    ram32 = Lambda([addr], selectconcat32(ram8, addr))   ram32 ram64\n",
    "- comparative checking between two assembly programs\n",
    "\n",
    "\n",
    "done:\n",
    "- memory. Gotta inject a `mem` variable.\n",
    "- Gotta test that stuff I put in the library\n",
    "- cuts. Invariants are cuts of cfg into a dag. Distinguishing backedges from forward edges\n",
    "- We should probably do asserts, assumes, assigns in program text order if multiple at single address. \n",
    "- store history just to make debugging easier.\n",
    "\n",
    "\n",
    "cbmc / ebmc options to mimic? seelct entry points to test. select asssertions to test\n",
    "bounded mode'\n",
    "\n",
    "\n",
    "flag for eager VC or timeout param.\n",
    "\n",
    "Grab just variables in highlevel assertion to present countermodel.\n",
    "\n",
    "Hmm it would actually be easy to add a kd_label and let it persist through the parsing loop... Or just parse labels. There _has_ to have been a label in the contiguous previous lines\n",
    "\n",
    "\n",
    "call tool `asmc`, the \"language asmspec\n"
   ]
  },
  {
   "cell_type": "code",
   "execution_count": 17,
   "id": "8fd087fc",
   "metadata": {},
   "outputs": [
    {
     "name": "stdout",
     "output_type": "stream",
     "text": [
      "Overwriting /tmp/knuckle.s\n"
     ]
    }
   ],
   "source": [
    "%%file /tmp/knuckle.s\n",
    "\n",
    "#precondition\n",
    ".macro kd_entry label smt_expr\n",
    "\\label :\n",
    ".endm\n",
    "\n",
    ".macro kd_assert label smt_expr\n",
    "\\label :\n",
    ".endm\n",
    "\n",
    ".macro kd_assume label smt_expr\n",
    "\\label :\n",
    ".endm\n",
    "\n",
    "#postcondition\n",
    ".macro kd_exit label smt_expr \n",
    "\\label :\n",
    ".endm\n",
    "\n",
    "#invariant\n",
    ".macro kd_cut label smt_expr\n",
    "\\label :\n",
    ".endm \n",
    "\n",
    ".macro kd_always smt_expr\n",
    ".endm\n"
   ]
  },
  {
   "cell_type": "code",
   "execution_count": null,
   "id": "ba9d0987",
   "metadata": {},
   "outputs": [
    {
     "name": "stdout",
     "output_type": "stream",
     "text": [
      "Overwriting /tmp/stack.s\n"
     ]
    }
   ],
   "source": [
    "%%file /tmp/stack.s\n",
    ".include \"/tmp/knuckle.s\"\n",
    ".global  _start\n",
    "kd_entry _start \" true\"\n",
    "    movq     $42, (%rsp)\n",
    "kd_exit _start_end \"(= (select ram RSP) (_ bv42 8))\"\n",
    "    ret"
   ]
  },
  {
   "cell_type": "code",
   "execution_count": 1,
   "id": "56481360",
   "metadata": {},
   "outputs": [
    {
     "ename": "Z3Exception",
     "evalue": "b'(error \"line 2 column 12: unknown constant assert (Bool) \")\\n'",
     "output_type": "error",
     "traceback": [
      "\u001b[31m---------------------------------------------------------------------------\u001b[39m",
      "\u001b[31mZ3Exception\u001b[39m                               Traceback (most recent call last)",
      "\u001b[36mCell\u001b[39m\u001b[36m \u001b[39m\u001b[32mIn[1]\u001b[39m\u001b[32m, line 4\u001b[39m\n\u001b[32m      2\u001b[39m \u001b[38;5;28;01mimport\u001b[39;00m\u001b[38;5;250m \u001b[39m\u001b[34;01mkdrag\u001b[39;00m\u001b[34;01m.\u001b[39;00m\u001b[34;01mcontrib\u001b[39;00m\u001b[34;01m.\u001b[39;00m\u001b[34;01mpcode\u001b[39;00m\u001b[38;5;250m \u001b[39m\u001b[38;5;28;01mas\u001b[39;00m\u001b[38;5;250m \u001b[39m\u001b[34;01mpcode\u001b[39;00m\n\u001b[32m      3\u001b[39m \u001b[38;5;28;01mfrom\u001b[39;00m\u001b[38;5;250m \u001b[39m\u001b[34;01mkdrag\u001b[39;00m\u001b[34;01m.\u001b[39;00m\u001b[34;01mcontrib\u001b[39;00m\u001b[34;01m.\u001b[39;00m\u001b[34;01mpcode\u001b[39;00m\u001b[34;01m.\u001b[39;00m\u001b[34;01masmspec\u001b[39;00m\u001b[38;5;250m \u001b[39m\u001b[38;5;28;01mimport\u001b[39;00m assemble_and_check\n\u001b[32m----> \u001b[39m\u001b[32m4\u001b[39m \u001b[43massemble_and_check\u001b[49m\u001b[43m(\u001b[49m\u001b[33;43m\"\u001b[39;49m\u001b[33;43m/tmp/stack.s\u001b[39;49m\u001b[33;43m\"\u001b[39;49m\u001b[43m)\u001b[49m\n",
      "\u001b[36mFile \u001b[39m\u001b[32m~/Documents/python/knuckledragger/kdrag/contrib/pcode/asmspec.py:252\u001b[39m, in \u001b[36massemble_and_check\u001b[39m\u001b[34m(filename, langid, as_bin)\u001b[39m\n\u001b[32m    250\u001b[39m subprocess.run([as_bin, filename, \u001b[33m\"\u001b[39m\u001b[33m-o\u001b[39m\u001b[33m\"\u001b[39m, \u001b[33m\"\u001b[39m\u001b[33m/tmp/kdrag_temp.o\u001b[39m\u001b[33m\"\u001b[39m], check=\u001b[38;5;28;01mTrue\u001b[39;00m)\n\u001b[32m    251\u001b[39m ctx = pcode.BinaryContext(\u001b[33m\"\u001b[39m\u001b[33m/tmp/kdrag_temp.o\u001b[39m\u001b[33m\"\u001b[39m, langid=langid)\n\u001b[32m--> \u001b[39m\u001b[32m252\u001b[39m spec = \u001b[43mAsmSpec\u001b[49m\u001b[43m.\u001b[49m\u001b[43mof_file\u001b[49m\u001b[43m(\u001b[49m\u001b[43mfilename\u001b[49m\u001b[43m,\u001b[49m\u001b[43m \u001b[49m\u001b[43mctx\u001b[49m\u001b[43m)\u001b[49m\n\u001b[32m    253\u001b[39m \u001b[38;5;28mprint\u001b[39m(spec)\n\u001b[32m    254\u001b[39m \u001b[38;5;28;01mreturn\u001b[39;00m run_all_paths(ctx, spec)\n",
      "\u001b[36mFile \u001b[39m\u001b[32m~/Documents/python/knuckledragger/kdrag/contrib/pcode/asmspec.py:100\u001b[39m, in \u001b[36mAsmSpec.of_file\u001b[39m\u001b[34m(cls, filename, ctx)\u001b[39m\n\u001b[32m     98\u001b[39m     addr = sym.rebased_addr\n\u001b[32m     99\u001b[39m smt_string = \u001b[33m\"\u001b[39m\u001b[38;5;130;01m\\n\u001b[39;00m\u001b[33m\"\u001b[39m.join(preludes + [\u001b[33m\"\u001b[39m\u001b[33m(assert \u001b[39m\u001b[33m\"\u001b[39m, expr, \u001b[33m\"\u001b[39m\u001b[33m)\u001b[39m\u001b[33m\"\u001b[39m])\n\u001b[32m--> \u001b[39m\u001b[32m100\u001b[39m expr = \u001b[43msmt\u001b[49m\u001b[43m.\u001b[49m\u001b[43mparse_smt2_string\u001b[49m\u001b[43m(\u001b[49m\u001b[43msmt_string\u001b[49m\u001b[43m,\u001b[49m\u001b[43m \u001b[49m\u001b[43mdecls\u001b[49m\u001b[43m=\u001b[49m\u001b[43mdecls\u001b[49m\u001b[43m)\u001b[49m[\u001b[32m0\u001b[39m]\n\u001b[32m    101\u001b[39m \u001b[38;5;28;01mif\u001b[39;00m cmd == \u001b[33m\"\u001b[39m\u001b[33mkd_entry\u001b[39m\u001b[33m\"\u001b[39m:\n\u001b[32m    102\u001b[39m     spec.entries[addr].append((label, expr))\n",
      "\u001b[36mFile \u001b[39m\u001b[32m~/philzook58.github.io/.venv/lib/python3.12/site-packages/z3/z3.py:9498\u001b[39m, in \u001b[36mparse_smt2_string\u001b[39m\u001b[34m(s, sorts, decls, ctx)\u001b[39m\n\u001b[32m   9496\u001b[39m ssz, snames, ssorts = _dict2sarray(sorts, ctx)\n\u001b[32m   9497\u001b[39m dsz, dnames, ddecls = _dict2darray(decls, ctx)\n\u001b[32m-> \u001b[39m\u001b[32m9498\u001b[39m \u001b[38;5;28;01mreturn\u001b[39;00m AstVector(\u001b[43mZ3_parse_smtlib2_string\u001b[49m\u001b[43m(\u001b[49m\u001b[43mctx\u001b[49m\u001b[43m.\u001b[49m\u001b[43mref\u001b[49m\u001b[43m(\u001b[49m\u001b[43m)\u001b[49m\u001b[43m,\u001b[49m\u001b[43m \u001b[49m\u001b[43ms\u001b[49m\u001b[43m,\u001b[49m\u001b[43m \u001b[49m\u001b[43mssz\u001b[49m\u001b[43m,\u001b[49m\u001b[43m \u001b[49m\u001b[43msnames\u001b[49m\u001b[43m,\u001b[49m\u001b[43m \u001b[49m\u001b[43mssorts\u001b[49m\u001b[43m,\u001b[49m\u001b[43m \u001b[49m\u001b[43mdsz\u001b[49m\u001b[43m,\u001b[49m\u001b[43m \u001b[49m\u001b[43mdnames\u001b[49m\u001b[43m,\u001b[49m\u001b[43m \u001b[49m\u001b[43mddecls\u001b[49m\u001b[43m)\u001b[49m, ctx)\n",
      "\u001b[36mFile \u001b[39m\u001b[32m~/philzook58.github.io/.venv/lib/python3.12/site-packages/z3/z3core.py:3635\u001b[39m, in \u001b[36mZ3_parse_smtlib2_string\u001b[39m\u001b[34m(a0, a1, a2, a3, a4, a5, a6, a7, _elems)\u001b[39m\n\u001b[32m   3633\u001b[39m \u001b[38;5;28;01mdef\u001b[39;00m\u001b[38;5;250m \u001b[39m\u001b[34mZ3_parse_smtlib2_string\u001b[39m(a0, a1, a2, a3, a4, a5, a6, a7, _elems=Elementaries(_lib.Z3_parse_smtlib2_string)):\n\u001b[32m   3634\u001b[39m   r = _elems.f(a0, _str_to_bytes(a1), a2, a3, a4, a5, a6, a7)\n\u001b[32m-> \u001b[39m\u001b[32m3635\u001b[39m   \u001b[43m_elems\u001b[49m\u001b[43m.\u001b[49m\u001b[43mCheck\u001b[49m\u001b[43m(\u001b[49m\u001b[43ma0\u001b[49m\u001b[43m)\u001b[49m\n\u001b[32m   3636\u001b[39m   \u001b[38;5;28;01mreturn\u001b[39;00m r\n",
      "\u001b[36mFile \u001b[39m\u001b[32m~/philzook58.github.io/.venv/lib/python3.12/site-packages/z3/z3core.py:1579\u001b[39m, in \u001b[36mElementaries.Check\u001b[39m\u001b[34m(self, ctx)\u001b[39m\n\u001b[32m   1577\u001b[39m err = \u001b[38;5;28mself\u001b[39m.get_error_code(ctx)\n\u001b[32m   1578\u001b[39m \u001b[38;5;28;01mif\u001b[39;00m err != \u001b[38;5;28mself\u001b[39m.OK:\n\u001b[32m-> \u001b[39m\u001b[32m1579\u001b[39m     \u001b[38;5;28;01mraise\u001b[39;00m \u001b[38;5;28mself\u001b[39m.Exception(\u001b[38;5;28mself\u001b[39m.get_error_message(ctx, err))\n",
      "\u001b[31mZ3Exception\u001b[39m: b'(error \"line 2 column 12: unknown constant assert (Bool) \")\\n'"
     ]
    }
   ],
   "source": [
    "from kdrag.all import *\n",
    "import kdrag.contrib.pcode as pcode\n",
    "from kdrag.contrib.pcode.asmspec import assemble_and_check\n",
    "assemble_and_check(\"/tmp/stack.s\")\n"
   ]
  },
  {
   "cell_type": "markdown",
   "id": "e7cae939",
   "metadata": {},
   "source": [
    "# cut\n",
    "\n",
    "cut, we maybe want post and pre program point\n",
    "pre_insn1\n",
    "exec_insn1\n",
    "post_insn1\n",
    "pre_insn2\n",
    "...\n",
    "\n",
    "examples:\n",
    "VST book https://softwarefoundations.cis.upenn.edu/vc-current/toc.html\n",
    "dafny book\n",
    "frama-c examples / book https://link.springer.com/book/10.1007/978-3-031-55608-1 \n",
    "\n",
    "sum-array\n",
    "hmm. I'm worried that we'll need auxiliary predicates.\n",
    "I could define them in assembly?\n",
    "\n",
    "kd_prelude  \"(define-fun foo ( )  )\"\n",
    "kd_declare  \"(declare-const )\"   # kdprelude \"(declare-const mytemp (BitVec 64))\"\n",
    "kd_assign \"mytemp\" expr\n",
    "kd_declare\n",
    "\n",
    "\"(define-const flub (RAX))\"  Hmm. This might auto expand. I think so. So you can have a running summary in thisa way\n",
    "But kd_assign gives you \n",
    "\n",
    "Maybe i should be worried more about the embedded python experience. Getting lemmas in there.\n",
    "lemmas = dict[label, list[kd.Proof]]  Offer needed extra bits.\n",
    "\n",
    "Or have the thing output a pile of verification conditions in Results.\n",
    "\n",
    "This is getting verbose. I'm just delaying figuring out what I want to do. But it is also flexibility.\n",
    "\n",
    "class Trace()\n",
    "    events : list[Event]\n",
    "    def VCs(self):\n",
    "\n",
    "class TraceForest():\n",
    "\n",
    "class Jump():\n",
    "    TraceForest\n",
    "\n",
    "class Event():\n",
    "    pass\n",
    "class Execute(Event): ...\n",
    "class Assert(Event): ...\n",
    "class Assume(Event):\n",
    "class Entry():\n",
    "class \n",
    "\n",
    "T\n",
    "\n",
    "\n",
    "\n"
   ]
  },
  {
   "cell_type": "code",
   "execution_count": 2,
   "id": "6343210a",
   "metadata": {},
   "outputs": [
    {
     "name": "stdout",
     "output_type": "stream",
     "text": [
      "Overwriting /tmp/cut.s\n"
     ]
    }
   ],
   "source": [
    "%%file /tmp/cut.s\n",
    ".include \"/tmp/knuckle.s\"\n",
    ".global  _start\n",
    "kd_entry _start \"true\"\n",
    "    movq     $42, %rdi\n",
    "kd_cut mycut \"(= RDI (_ bv42 64))\"\n",
    "    movq     %rdi, %rax\n",
    "kd_exit _start_end \"(= RAX (_ bv42 64))\"\n",
    "    ret"
   ]
  },
  {
   "cell_type": "code",
   "execution_count": 2,
   "id": "e7a514ff",
   "metadata": {},
   "outputs": [
    {
     "name": "stdout",
     "output_type": "stream",
     "text": [
      "{\n",
      "  \"entries\": {\n",
      "    \"4194304\": [\n",
      "      [\n",
      "        \"_start\",\n",
      "        \"true\"\n",
      "      ]\n",
      "    ]\n",
      "  },\n",
      "  \"asserts\": {},\n",
      "  \"assumes\": {},\n",
      "  \"exits\": {\n",
      "    \"4194314\": [\n",
      "      [\n",
      "        \"_start_end\",\n",
      "        \"(= RAX #x000000000000002a)\"\n",
      "      ]\n",
      "    ]\n",
      "  },\n",
      "  \"cuts\": {\n",
      "    \"4194311\": [\n",
      "      [\n",
      "        \"mycut\",\n",
      "        \"(= RDI #x000000000000002a)\"\n",
      "      ]\n",
      "    ]\n",
      "  }\n",
      "}\n",
      "entry _start at 4194304 with precond True\n",
      "cut mycut at 4194311 with precond RDI == 42\n",
      "Executing 0x400007/3: MOV RAX,RDI at (4194311, 0) PCODE IMARK ram[400007:3]\n",
      "Executing 0x400007/3: MOV RAX,RDI at (4194311, 1) PCODE RAX = RDI\n",
      "[✅] exit _start_end: RAX == 42\n",
      "Executing 0x400000/7: MOV RDI,0x2a at (4194304, 0) PCODE IMARK ram[400000:7]\n",
      "Executing 0x400000/7: MOV RDI,0x2a at (4194304, 1) PCODE RDI = 0x2a\n",
      "[✅] cut mycut: RDI == 42\n"
     ]
    },
    {
     "data": {
      "text/plain": [
       "Results(successes=['[✅] exit _start_end: RAX == 42', '[✅] cut mycut: RDI == 42'], failures=[], traces=[[(4194311, 0), '[✅] exit _start_end: RAX == 42'], [(4194304, 0), '[✅] cut mycut: RDI == 42']])"
      ]
     },
     "execution_count": 2,
     "metadata": {},
     "output_type": "execute_result"
    }
   ],
   "source": [
    "from kdrag.all import *\n",
    "import kdrag.contrib.pcode as pcode\n",
    "from kdrag.contrib.pcode.asmspec import assemble_and_check\n",
    "assemble_and_check(\"/tmp/cut.s\")"
   ]
  },
  {
   "cell_type": "code",
   "execution_count": 3,
   "id": "d1019771",
   "metadata": {},
   "outputs": [
    {
     "name": "stdout",
     "output_type": "stream",
     "text": [
      "Writing /tmp/cutloop.s\n"
     ]
    }
   ],
   "source": [
    "%%file /tmp/cutloop.s\n",
    ".include \"/tmp/knuckle.s\"\n",
    ".global  _start\n",
    "kd_entry _start \"true\"\n",
    "    movq     $42, %rdi\n",
    "kd_cut mycut \"(= RDI (_ bv42 64))\"\n",
    "    jmp mycut"
   ]
  },
  {
   "cell_type": "code",
   "execution_count": 1,
   "id": "ba1ae9ad",
   "metadata": {},
   "outputs": [
    {
     "name": "stdout",
     "output_type": "stream",
     "text": [
      "{\n",
      "  \"entries\": {\n",
      "    \"4194304\": [\n",
      "      [\n",
      "        \"_start\",\n",
      "        \"true\"\n",
      "      ]\n",
      "    ]\n",
      "  },\n",
      "  \"asserts\": {},\n",
      "  \"assumes\": {},\n",
      "  \"exits\": {},\n",
      "  \"cuts\": {\n",
      "    \"4194311\": [\n",
      "      [\n",
      "        \"mycut\",\n",
      "        \"(= RDI #x000000000000002a)\"\n",
      "      ]\n",
      "    ]\n",
      "  }\n",
      "}\n",
      "entry _start at 4194304 with precond True\n",
      "cut mycut at 4194311 with invariant RDI == 42\n",
      "Executing 0x400007/2: JMP 0x400007 at (4194311, 0) PCODE IMARK ram[400007:2]\n",
      "Executing 0x400007/2: JMP 0x400007 at (4194311, 1) PCODE goto ram[400007:8]\n",
      "[✅] cut mycut: RDI == 42\n",
      "Executing 0x400000/7: MOV RDI,0x2a at (4194304, 0) PCODE IMARK ram[400000:7]\n",
      "Executing 0x400000/7: MOV RDI,0x2a at (4194304, 1) PCODE RDI = 0x2a\n",
      "[✅] cut mycut: RDI == 42\n"
     ]
    },
    {
     "data": {
      "text/plain": [
       "Results(successes=['[✅] cut mycut: RDI == 42', '[✅] cut mycut: RDI == 42'], failures=[], traces=[[(4194311, 0), '[✅] cut mycut: RDI == 42'], [(4194304, 0), '[✅] cut mycut: RDI == 42']])"
      ]
     },
     "execution_count": 1,
     "metadata": {},
     "output_type": "execute_result"
    }
   ],
   "source": [
    "from kdrag.all import *\n",
    "import kdrag.contrib.pcode as pcode\n",
    "from kdrag.contrib.pcode.asmspec import assemble_and_check\n",
    "assemble_and_check(\"/tmp/cutloop.s\")"
   ]
  },
  {
   "cell_type": "code",
   "execution_count": null,
   "id": "076ae919",
   "metadata": {},
   "outputs": [],
   "source": [
    "%%file /tmp/cutloop.s\n",
    ".include \"/tmp/knuckle.s\"\n",
    ".global  _start\n",
    "kd_entry _start \"true\"\n",
    "    movq     $42, %rdi\n",
    "    lea      1(%rdi), %rax\n",
    "kd_cut mycut \"(bvule RDI (_ bv42 64))\"\n",
    "    add     $1, %rax\n",
    "    jmp mycut\n"
   ]
  },
  {
   "cell_type": "markdown",
   "id": "82270a80",
   "metadata": {},
   "source": [
    "# riscv\n"
   ]
  },
  {
   "cell_type": "code",
   "execution_count": null,
   "id": "6b7efbe3",
   "metadata": {},
   "outputs": [],
   "source": []
  },
  {
   "cell_type": "code",
   "execution_count": 6,
   "id": "1f874ce2",
   "metadata": {},
   "outputs": [
    {
     "name": "stdout",
     "output_type": "stream",
     "text": [
      "Overwriting /tmp/mop42.s\n"
     ]
    }
   ],
   "source": [
    "%%file /tmp/mop42.s\n",
    ".include \"/tmp/knuckle.s\"\n",
    "    .text\n",
    "    .globl  myfunc\n",
    "kd_entry myfunc \"(assert true)\"\n",
    "    li    a0, 42\n",
    "kd_exit myfunc_end \"(assert (= a0 (_ bv42 64)))\"\n",
    "    ret"
   ]
  },
  {
   "cell_type": "code",
   "execution_count": 24,
   "id": "b2f7a08b",
   "metadata": {},
   "outputs": [],
   "source": [
    "! riscv64-linux-gnu-gcc -c -o /tmp/mop42.o /tmp/mop42.s"
   ]
  },
  {
   "cell_type": "code",
   "execution_count": 25,
   "id": "0f26132d",
   "metadata": {},
   "outputs": [
    {
     "name": "stdout",
     "output_type": "stream",
     "text": [
      "Overwriting /tmp/test.c\n"
     ]
    }
   ],
   "source": [
    "%%file /tmp/test.c\n",
    "#include <stdio.h>\n",
    "#include <stdint.h>\n",
    "uint64_t myfunc();\n",
    "int main() {\n",
    "    printf(\"Result is %lu\\n\", myfunc());\n",
    "    return 0;\n",
    "}"
   ]
  },
  {
   "cell_type": "code",
   "execution_count": 26,
   "id": "3b63b345",
   "metadata": {},
   "outputs": [
    {
     "name": "stdout",
     "output_type": "stream",
     "text": [
      "Result is 42\n"
     ]
    }
   ],
   "source": [
    "! riscv64-linux-gnu-gcc /tmp/test.c /tmp/mop42.o -o /tmp/test && qemu-riscv64 -L /usr/riscv64-linux-gnu /tmp/test"
   ]
  },
  {
   "cell_type": "code",
   "execution_count": 5,
   "id": "c7ef2ecb",
   "metadata": {},
   "outputs": [],
   "source": [
    "%load_ext jupyterflame"
   ]
  },
  {
   "cell_type": "code",
   "execution_count": 2,
   "id": "7f7a65ee",
   "metadata": {},
   "outputs": [
    {
     "name": "stdout",
     "output_type": "stream",
     "text": [
      "{\n",
      "  \"entries\": {\n",
      "    \"4194304\": [\n",
      "      [\n",
      "        \"myfunc\",\n",
      "        \"true\"\n",
      "      ]\n",
      "    ]\n",
      "  },\n",
      "  \"asserts\": {},\n",
      "  \"assumes\": {},\n",
      "  \"exits\": {\n",
      "    \"4194308\": [\n",
      "      [\n",
      "        \"myfunc_end\",\n",
      "        \"(= a0 #x000000000000002a)\"\n",
      "      ]\n",
      "    ]\n",
      "  },\n",
      "  \"cuts\": {}\n",
      "}\n",
      "entry myfunc at 4194304 with precond True\n",
      "Executing 0x400000/4: li a0,0x2a at (4194304, 0) PCODE IMARK ram[400000:4]\n",
      "Executing 0x400000/4: li a0,0x2a at (4194304, 1) PCODE unique[780:8] = 0x2a\n",
      "Executing 0x400000/4: li a0,0x2a at (4194304, 2) PCODE a0 = unique[780:8]\n",
      "[✅] exit myfunc_end: a0 == 42\n"
     ]
    },
    {
     "data": {
      "text/plain": [
       "Results(successes=['[✅] exit myfunc_end: a0 == 42'], failures=[], traces=[[(4194304, 0), '[✅] exit myfunc_end: a0 == 42']])"
      ]
     },
     "execution_count": 2,
     "metadata": {},
     "output_type": "execute_result"
    }
   ],
   "source": [
    "#%%prun -s tottime\n",
    "import subprocess\n",
    "import kdrag.contrib.pcode as pcode\n",
    "from kdrag.contrib.pcode.asmspec import AsmSpec, run_all_paths\n",
    "def assemble_and_check_riscv64(filename: str):\n",
    "    subprocess.run([\"riscv64-linux-gnu-as\", filename, \"-o\", \"/tmp/kdrag_temp.o\"], check=True)\n",
    "    ctx = pcode.BinaryContext(\"/tmp/kdrag_temp.o\", langid=\"RISCV:LE:64:default\")\n",
    "    spec = AsmSpec.of_file(filename, ctx)\n",
    "    print(spec)\n",
    "    return run_all_paths(ctx, spec)\n",
    "assemble_and_check_riscv64(\"/tmp/mop42.s\")"
   ]
  },
  {
   "cell_type": "markdown",
   "id": "66ecc077",
   "metadata": {},
   "source": [
    "# 32 bit\n",
    "little endian and big endian\n",
    "\n",
    "\n"
   ]
  },
  {
   "cell_type": "markdown",
   "id": "c6aa95f6",
   "metadata": {},
   "source": [
    "# Bits and Bobbles\n",
    "https://github.com/WestfW/structured_gas\n",
    "\n"
   ]
  },
  {
   "cell_type": "markdown",
   "id": "0fc35fc3",
   "metadata": {},
   "source": [
    "# reorg\n",
    "\n",
    "    checks: defaultdict[int, list[HasCheck]] = dataclasses.field(\n",
    "        default_factory=lambda: defaultdict(list)\n",
    "    )\n"
   ]
  },
  {
   "cell_type": "code",
   "execution_count": 1,
   "id": "982dc21b",
   "metadata": {},
   "outputs": [
    {
     "name": "stdout",
     "output_type": "stream",
     "text": [
      "{\n",
      "  \"addrmap\": {\n",
      "    \"4194304\": [\n",
      "      {\n",
      "        \"label\": \"_start\",\n",
      "        \"addr\": 4194304,\n",
      "        \"expr\": \"true\"\n",
      "      }\n",
      "    ],\n",
      "    \"4194314\": [\n",
      "      {\n",
      "        \"label\": \"_start_end\",\n",
      "        \"addr\": 4194314,\n",
      "        \"expr\": \"(= RAX (ite (bvult RDI RSI) RDI RSI))\"\n",
      "      }\n",
      "    ]\n",
      "  },\n",
      "  \"entries\": {\n",
      "    \"4194304\": [\n",
      "      [\n",
      "        \"_start\",\n",
      "        \"true\"\n",
      "      ]\n",
      "    ]\n",
      "  },\n",
      "  \"asserts\": {},\n",
      "  \"assumes\": {},\n",
      "  \"exits\": {\n",
      "    \"4194314\": [\n",
      "      [\n",
      "        \"_start_end\",\n",
      "        \"(= RAX (ite (bvult RDI RSI) RDI RSI))\"\n",
      "      ]\n",
      "    ]\n",
      "  },\n",
      "  \"cuts\": {}\n",
      "}\n",
      "Executing 0x400000/3: MOV RAX,RDI at (4194304, 0) PCODE IMARK ram[400000:3]\n",
      "Executing 0x400000/3: MOV RAX,RDI at (4194304, 1) PCODE RAX = RDI\n",
      "Executing 0x400003/3: CMP RSI,RDI at (4194307, 0) PCODE IMARK ram[400003:3]\n",
      "Executing 0x400003/3: CMP RSI,RDI at (4194307, 1) PCODE unique[3af00:8] = RSI\n",
      "Executing 0x400003/3: CMP RSI,RDI at (4194307, 2) PCODE CF = unique[3af00:8] < RDI\n",
      "Executing 0x400003/3: CMP RSI,RDI at (4194307, 3) PCODE OF = sborrow(unique[3af00:8], RDI)\n",
      "Executing 0x400003/3: CMP RSI,RDI at (4194307, 4) PCODE unique[3b000:8] = unique[3af00:8] - RDI\n",
      "Executing 0x400003/3: CMP RSI,RDI at (4194307, 5) PCODE SF = unique[3b000:8] s< 0x0\n",
      "Executing 0x400003/3: CMP RSI,RDI at (4194307, 6) PCODE ZF = unique[3b000:8] == 0x0\n",
      "Executing 0x400003/3: CMP RSI,RDI at (4194307, 7) PCODE unique[28080:8] = unique[3b000:8] & 0xff\n",
      "Executing 0x400003/3: CMP RSI,RDI at (4194307, 8) PCODE unique[28100:1] = popcount(unique[28080:8])\n",
      "Executing 0x400003/3: CMP RSI,RDI at (4194307, 9) PCODE unique[28180:1] = unique[28100:1] & 0x1\n",
      "Executing 0x400003/3: CMP RSI,RDI at (4194307, 10) PCODE PF = unique[28180:1] == 0x0\n",
      "Executing 0x400006/4: CMOVC RAX,RSI at (4194310, 0) PCODE IMARK ram[400006:4]\n",
      "Executing 0x400006/4: CMOVC RAX,RSI at (4194310, 1) PCODE unique[39b00:8] = RSI\n",
      "Executing 0x400006/4: CMOVC RAX,RSI at (4194310, 2) PCODE unique[39b80:1] = !CF\n",
      "Executing 0x400006/4: CMOVC RAX,RSI at (4194310, 3) PCODE if (unique[39b80:1]) goto ram[40000a:8]\n",
      "Executing 0x400006/4: CMOVC RAX,RSI at (4194310, 4) PCODE RAX = unique[39b00:8]\n"
     ]
    },
    {
     "data": {
      "text/plain": [
       "Results(successes=[\"[✅] VC(Entry(label='_start', addr=4194304, expr=True), ['0x400000', '0x400003', '0x400006'], Exit(label='_start_end', addr=4194314, expr=RAX == If(ULT(RDI, RSI), RDI, RSI)))\", \"[✅] VC(Entry(label='_start', addr=4194304, expr=True), ['0x400000', '0x400003', '0x400006'], Exit(label='_start_end', addr=4194314, expr=RAX == If(ULT(RDI, RSI), RDI, RSI)))\"], failures=[], traces=[])"
      ]
     },
     "execution_count": 1,
     "metadata": {},
     "output_type": "execute_result"
    }
   ],
   "source": [
    "# %%prun -s tottime\n",
    "from kdrag.contrib.pcode.asmspec import AsmSpec, run_all_paths, assemble_and_check_str\n",
    "\n",
    "ex = \"\"\"\n",
    "    .include \"/tmp/knuckle.s\"\n",
    "    .globl  _start\n",
    "    kd_entry _start \"true\"\n",
    "            movq     %rdi, %rax\n",
    "            cmp     %rdi, %rsi\n",
    "            cmovb   %rsi, %rax\n",
    "    kd_exit _start_end \"(= RAX (ite (bvult RDI RSI) RDI RSI))\"\n",
    "    #kd_exit _start_end \"(or (= RAX RDI) (= RAX RSI))\"\n",
    "            ret\n",
    "\"\"\"\n",
    "assemble_and_check_str(ex)\n",
    "\n"
   ]
  },
  {
   "cell_type": "code",
   "execution_count": null,
   "id": "948e71c9",
   "metadata": {},
   "outputs": [
    {
     "data": {
      "text/plain": [
       "{'pc': <pypcode.pypcode_native.Varnode at 0x76b63422a550>,\n",
       " 'ra': <pypcode.pypcode_native.Varnode at 0x76b60ba68360>,\n",
       " 'sp': <pypcode.pypcode_native.Varnode at 0x76b60ba68810>,\n",
       " 'gp': <pypcode.pypcode_native.Varnode at 0x76b60ba685a0>,\n",
       " 'tp': <pypcode.pypcode_native.Varnode at 0x76b60ba68480>,\n",
       " 't0': <pypcode.pypcode_native.Varnode at 0x76b60ba68c30>,\n",
       " 't1': <pypcode.pypcode_native.Varnode at 0x76b60ba68e40>,\n",
       " 't2': <pypcode.pypcode_native.Varnode at 0x76b60ba68c00>,\n",
       " 's0': <pypcode.pypcode_native.Varnode at 0x76b60ba68cc0>,\n",
       " 's1': <pypcode.pypcode_native.Varnode at 0x76b60ba68d50>,\n",
       " 'a0': <pypcode.pypcode_native.Varnode at 0x76b60ba68d20>,\n",
       " 'a1': <pypcode.pypcode_native.Varnode at 0x76b60ba68d80>,\n",
       " 'a2': <pypcode.pypcode_native.Varnode at 0x76b60ba68ed0>,\n",
       " 'a3': <pypcode.pypcode_native.Varnode at 0x76b60ba69200>,\n",
       " 'a4': <pypcode.pypcode_native.Varnode at 0x76b60ba68c90>,\n",
       " 'a5': <pypcode.pypcode_native.Varnode at 0x76b60ba68f90>,\n",
       " 'a6': <pypcode.pypcode_native.Varnode at 0x76b60ba68f00>,\n",
       " 'a7': <pypcode.pypcode_native.Varnode at 0x76b60ba68fc0>,\n",
       " 's2': <pypcode.pypcode_native.Varnode at 0x76b60ba69020>,\n",
       " 's3': <pypcode.pypcode_native.Varnode at 0x76b60ba690b0>,\n",
       " 's4': <pypcode.pypcode_native.Varnode at 0x76b60ba690e0>,\n",
       " 's5': <pypcode.pypcode_native.Varnode at 0x76b60ba69140>,\n",
       " 's6': <pypcode.pypcode_native.Varnode at 0x76b60ba69290>,\n",
       " 's7': <pypcode.pypcode_native.Varnode at 0x76b60ba691d0>,\n",
       " 's8': <pypcode.pypcode_native.Varnode at 0x76b60ba69260>,\n",
       " 's9': <pypcode.pypcode_native.Varnode at 0x76b60ba692c0>,\n",
       " 's10': <pypcode.pypcode_native.Varnode at 0x76b60ba69320>,\n",
       " 's11': <pypcode.pypcode_native.Varnode at 0x76b60ba694d0>,\n",
       " 't3': <pypcode.pypcode_native.Varnode at 0x76b60ba69470>,\n",
       " 't4': <pypcode.pypcode_native.Varnode at 0x76b60ba69440>,\n",
       " 't5': <pypcode.pypcode_native.Varnode at 0x76b60ba694a0>,\n",
       " 't6': <pypcode.pypcode_native.Varnode at 0x76b60ba693b0>,\n",
       " 'ft0': <pypcode.pypcode_native.Varnode at 0x76b60ba698c0>,\n",
       " 'ft1': <pypcode.pypcode_native.Varnode at 0x76b60ba69950>,\n",
       " 'ft2': <pypcode.pypcode_native.Varnode at 0x76b60ba69980>,\n",
       " 'ft3': <pypcode.pypcode_native.Varnode at 0x76b60ba69ce0>,\n",
       " 'ft4': <pypcode.pypcode_native.Varnode at 0x76b60ba69aa0>,\n",
       " 'ft5': <pypcode.pypcode_native.Varnode at 0x76b60ba6b720>,\n",
       " 'ft6': <pypcode.pypcode_native.Varnode at 0x76b60ba6b8d0>,\n",
       " 'ft7': <pypcode.pypcode_native.Varnode at 0x76b60ba6b900>,\n",
       " 'fs0': <pypcode.pypcode_native.Varnode at 0x76b60ba69a40>,\n",
       " 'fs1': <pypcode.pypcode_native.Varnode at 0x76b60ba6bd20>,\n",
       " 'fa0': <pypcode.pypcode_native.Varnode at 0x76b60ba6bea0>,\n",
       " 'fa1': <pypcode.pypcode_native.Varnode at 0x76b60ba6b420>,\n",
       " 'fa2': <pypcode.pypcode_native.Varnode at 0x76b60ba6b690>,\n",
       " 'fa3': <pypcode.pypcode_native.Varnode at 0x76b60ba6b390>,\n",
       " 'fa4': <pypcode.pypcode_native.Varnode at 0x76b60ba6b4b0>,\n",
       " 'fa5': <pypcode.pypcode_native.Varnode at 0x76b60ba6b450>,\n",
       " 'fa6': <pypcode.pypcode_native.Varnode at 0x76b60ba6b990>,\n",
       " 'fa7': <pypcode.pypcode_native.Varnode at 0x76b60ba6aaf0>,\n",
       " 'fs2': <pypcode.pypcode_native.Varnode at 0x76b60ba6bdb0>,\n",
       " 'fs3': <pypcode.pypcode_native.Varnode at 0x76b60ba6a580>,\n",
       " 'fs4': <pypcode.pypcode_native.Varnode at 0x76b60ba6a670>,\n",
       " 'fs5': <pypcode.pypcode_native.Varnode at 0x76b60ba6a100>,\n",
       " 'fs6': <pypcode.pypcode_native.Varnode at 0x76b60ba6aeb0>,\n",
       " 'fs7': <pypcode.pypcode_native.Varnode at 0x76b60ba6bb10>,\n",
       " 'fs8': <pypcode.pypcode_native.Varnode at 0x76b60ba6ad30>,\n",
       " 'fs9': <pypcode.pypcode_native.Varnode at 0x76b60ba69e90>,\n",
       " 'ft8': <pypcode.pypcode_native.Varnode at 0x76b60ba6b7e0>,\n",
       " 'ft9': <pypcode.pypcode_native.Varnode at 0x76b60ba6bed0>,\n",
       " 'frm': <pypcode.pypcode_native.Varnode at 0x76b60ba68030>,\n",
       " 'uie': <pypcode.pypcode_native.Varnode at 0x76b60ba6a8e0>,\n",
       " 'uip': <pypcode.pypcode_native.Varnode at 0x76b60b63d1d0>,\n",
       " 'sie': <pypcode.pypcode_native.Varnode at 0x76b60ba757d0>,\n",
       " 'sip': <pypcode.pypcode_native.Varnode at 0x76b60ba76f70>,\n",
       " 'mie': <pypcode.pypcode_native.Varnode at 0x76b60ba7e610>,\n",
       " 'mip': <pypcode.pypcode_native.Varnode at 0x76b60ba7d3e0>,\n",
       " 'hie': <pypcode.pypcode_native.Varnode at 0x76b60b6d0270>,\n",
       " 'hip': <pypcode.pypcode_native.Varnode at 0x76b60b6d19e0>,\n",
       " 'dpc': <pypcode.pypcode_native.Varnode at 0x76b60ba91d40>,\n",
       " 'vl': <pypcode.pypcode_native.Varnode at 0x76b60ba4fd50>}"
      ]
     },
     "execution_count": 10,
     "metadata": {},
     "output_type": "execute_result"
    }
   ],
   "source": [
    "import pypcode\n",
    "ctx = pypcode.Context(\"RISCV:LE:64:default\")\n",
    "#ctx.registers\n",
    "# Trim mem_init to just the good stuff somehow?\n",
    "# Maybe in archinfo\n",
    "{name: vnode for name, vnode in ctx.registers.items() if (vnode.size == 8 or vnode.size == 4) and len(name) <= 3}"
   ]
  },
  {
   "cell_type": "code",
   "execution_count": 3,
   "id": "d7a8c74f",
   "metadata": {},
   "outputs": [
    {
     "data": {
      "text/html": [
       "RAX!1506"
      ],
      "text/plain": [
       "RAX!1506"
      ]
     },
     "execution_count": 3,
     "metadata": {},
     "output_type": "execute_result"
    }
   ],
   "source": [
    "from kdrag.all import *\n",
    "import kdrag.contrib.pcode as pcode\n",
    "\n",
    "ctx = pcode.BinaryContext()\n",
    "memstate = ctx.init_mem()\n",
    "ctx.get_reg(memstate, \"RAX\")\n",
    "\n"
   ]
  },
  {
   "cell_type": "code",
   "execution_count": null,
   "id": "dac998ce",
   "metadata": {},
   "outputs": [],
   "source": [
    "! sudo apt install gcc-riscv64-linux-gnu g++-riscv64-linux-gnu  binutils-riscv64-linux-gnu"
   ]
  },
  {
   "cell_type": "code",
   "execution_count": 16,
   "id": "39635c65",
   "metadata": {},
   "outputs": [
    {
     "data": {
      "text/plain": [
       "['__annotations__',\n",
       " '__class__',\n",
       " '__delattr__',\n",
       " '__dict__',\n",
       " '__dir__',\n",
       " '__doc__',\n",
       " '__eq__',\n",
       " '__format__',\n",
       " '__ge__',\n",
       " '__getattribute__',\n",
       " '__getstate__',\n",
       " '__gt__',\n",
       " '__hash__',\n",
       " '__init__',\n",
       " '__init_subclass__',\n",
       " '__le__',\n",
       " '__lt__',\n",
       " '__module__',\n",
       " '__ne__',\n",
       " '__new__',\n",
       " '__reduce__',\n",
       " '__reduce_ex__',\n",
       " '__repr__',\n",
       " '__setattr__',\n",
       " '__setstate__',\n",
       " '__sizeof__',\n",
       " '__str__',\n",
       " '__subclasshook__',\n",
       " '__weakref__',\n",
       " '_configure_capstone',\n",
       " '_configure_keystone',\n",
       " '_cs',\n",
       " '_cs_x86_syntax',\n",
       " '_get_register_dict',\n",
       " '_ks',\n",
       " '_ks_x86_syntax',\n",
       " 'address_types',\n",
       " 'argument_register_positions',\n",
       " 'argument_registers',\n",
       " 'artificial_registers',\n",
       " 'artificial_registers_offsets',\n",
       " 'asm',\n",
       " 'bits',\n",
       " 'bp_offset',\n",
       " 'branch_delay_slot',\n",
       " 'byte_width',\n",
       " 'bytes',\n",
       " 'cache_irsb',\n",
       " 'call_pushes_ret',\n",
       " 'call_sp_fix',\n",
       " 'capstone',\n",
       " 'capstone_support',\n",
       " 'capstone_x86_syntax',\n",
       " 'concretize_unique_registers',\n",
       " 'copy',\n",
       " 'cpu_flag_register_offsets_and_bitmasks_map',\n",
       " 'cs_arch',\n",
       " 'cs_mode',\n",
       " 'default_endness',\n",
       " 'default_register_values',\n",
       " 'default_symbolic_registers',\n",
       " 'disasm',\n",
       " 'dwarf_registers',\n",
       " 'dynamic_tag_translation',\n",
       " 'elf_tls',\n",
       " 'entry_register_values',\n",
       " 'fp_ret_offset',\n",
       " 'function_address_types',\n",
       " 'function_epilogs',\n",
       " 'function_prologs',\n",
       " 'get_base_register',\n",
       " 'get_default_reg_value',\n",
       " 'get_register_by_name',\n",
       " 'get_register_offset',\n",
       " 'got_section_name',\n",
       " 'ida_processor',\n",
       " 'initial_sp',\n",
       " 'instruction_alignment',\n",
       " 'instruction_endness',\n",
       " 'ip_offset',\n",
       " 'is_artificial_register',\n",
       " 'is_thumb',\n",
       " 'keystone',\n",
       " 'keystone_support',\n",
       " 'keystone_x86_syntax',\n",
       " 'ks_arch',\n",
       " 'ks_mode',\n",
       " 'ld_linux_name',\n",
       " 'lib_paths',\n",
       " 'library_search_path',\n",
       " 'linux_name',\n",
       " 'lr_offset',\n",
       " 'm_addr',\n",
       " 'max_inst_bytes',\n",
       " 'memory_endness',\n",
       " 'name',\n",
       " 'nop_instruction',\n",
       " 'persistent_regs',\n",
       " 'qemu_name',\n",
       " 'reg_blacklist',\n",
       " 'reg_blacklist_offsets',\n",
       " 'register_endness',\n",
       " 'register_list',\n",
       " 'register_names',\n",
       " 'register_size_names',\n",
       " 'registers',\n",
       " 'reloc_b_a',\n",
       " 'reloc_copy',\n",
       " 'reloc_s',\n",
       " 'reloc_s_a',\n",
       " 'reloc_tls_doffset',\n",
       " 'reloc_tls_mod_id',\n",
       " 'reloc_tls_offset',\n",
       " 'ret_instruction',\n",
       " 'ret_offset',\n",
       " 'sizeof',\n",
       " 'sp_offset',\n",
       " 'stack_change',\n",
       " 'stack_size',\n",
       " 'struct_fmt',\n",
       " 'subregister_map',\n",
       " 'symbol_type_translation',\n",
       " 'syscall_num_offset',\n",
       " 'translate_dynamic_tag',\n",
       " 'translate_register_name',\n",
       " 'translate_symbol_type',\n",
       " 'triplet',\n",
       " 'uc_arch',\n",
       " 'uc_const',\n",
       " 'uc_mode',\n",
       " 'uc_prefix',\n",
       " 'uc_regs',\n",
       " 'unicorn',\n",
       " 'unicorn_support',\n",
       " 'vex_arch',\n",
       " 'vex_archinfo',\n",
       " 'vex_cc_regs',\n",
       " 'vex_conditional_helpers',\n",
       " 'vex_endness',\n",
       " 'vex_support',\n",
       " 'vex_to_unicorn_map',\n",
       " 'x_addr']"
      ]
     },
     "execution_count": 16,
     "metadata": {},
     "output_type": "execute_result"
    }
   ],
   "source": [
    "import cle\n",
    "loader = cle.loader.Loader(\"/tmp/myfunc.o\")\n",
    "dir(loader.all_elf_objects[0].arch)"
   ]
  },
  {
   "cell_type": "code",
   "execution_count": null,
   "id": "be6b2c23",
   "metadata": {},
   "outputs": [],
   "source": []
  }
 ],
 "metadata": {
  "kernelspec": {
   "display_name": "philzook58.github.io",
   "language": "python",
   "name": "python3"
  },
  "language_info": {
   "codemirror_mode": {
    "name": "ipython",
    "version": 3
   },
   "file_extension": ".py",
   "mimetype": "text/x-python",
   "name": "python",
   "nbconvert_exporter": "python",
   "pygments_lexer": "ipython3",
   "version": "3.12.3"
  }
 },
 "nbformat": 4,
 "nbformat_minor": 5
}
