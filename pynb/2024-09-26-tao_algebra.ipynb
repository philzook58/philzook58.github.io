{
 "cells": [
  {
   "cell_type": "markdown",
   "metadata": {},
   "source": [
    "---\n",
    "title: Knuckledragger Solvers for Terence Tao's Equational Reasoning Challenge\n",
    "date: 2024-09-26\n",
    "---\n",
    "\n",
    "Terence Tao has put forward an interesting equational reasoning challenge.\n",
    "\n",
    "- https://mathstodon.xyz/@tao/110736805384878353\n",
    "- https://terrytao.wordpress.com/2024/09/25/a-pilot-project-in-universal-algebra-to-explore-new-ways-to-collaborate-and-use-machine-assistance/\n",
    "- https://mathoverflow.net/questions/450890/is-there-an-identity-between-the-commutative-identity-and-the-constant-identity/450905#450905\n",
    "- https://github.com/teorth/equational_theories\n",
    "\n",
    "It is reminiscent of a famous success story of automated theorem proving, proving the robbins algebras are boolean https://www.cs.unm.edu/~mccune/papers/robbins/ a previously unsolved conjecture which was shown by Bill McCune's EQP solver in 1996. \n",
    "\n",
    "It seems likely to me that Tao's individual problems are easier than this one. Int addition, solvers are a lot more powerful now. However, I also think the Robbins problem required expert tweaking of the solver.\n",
    "\n",
    "I've been fiddling with building a semi-automated proof assistant in python called Knuckledragger.  https://github.com/philzook58/knuckledragger \n",
    "\n",
    "Knuckledragger is structured around Z3, but recently I've been bolting in all the automated solvers I can get my hands on. \n",
    "\n",
    "Z3  https://microsoft.github.io/z3guide/docs/logic/intro/ is excellent at many things (first class at the grounded problems one often encounters in software verification), but not necessarily designed to be the best at universal algebraic problems.\n",
    "For these, Vampire, eprover, Twee, Zipperposition, and Prover9 are good candidates. I judge this somewhat by examining the CASC https://tptp.org/CASC/J12/ results\n",
    "\n",
    "Even if you don't buy into what I'm generally doing in Knuckledragger (a system to weave these solver calls Hilbert style into larger proofs), I think having easy installation and programmatic access to the solvers in python could be quite useful.\n",
    "\n",
    "One big advantage of python is the massive preexisting ecosystem and infrastructure. Case in point. You can try this blog post out on Google collab quite easily by clicking this link https://colab.research.google.com/github/philzook58/philzook58.github.io/blob/master/pynb/2024-09-26-tao_algebra.ipynb\n",
    "\n",
    "Running this cell will install Knuckledragger and the external solvers. It'll take a good 5 minutes to do all that compiling. Have faith. It could ber better when I ship a binary for eprover."
   ]
  },
  {
   "cell_type": "code",
   "execution_count": null,
   "metadata": {},
   "outputs": [],
   "source": [
    "%%bash\n",
    "git clone https://github.com/philzook58/knuckledragger.git\n",
    "cd knuckledragger\n",
    "python3 -m pip install -e ."
   ]
  },
  {
   "cell_type": "code",
   "execution_count": null,
   "metadata": {},
   "outputs": [],
   "source": [
    "! cd knuckledragger && ./install.sh # get and build external solvers"
   ]
  },
  {
   "cell_type": "markdown",
   "metadata": {},
   "source": [
    "I had to restart the jupyter kernel on colab for the `kdrag` package to be found. "
   ]
  },
  {
   "cell_type": "code",
   "execution_count": null,
   "metadata": {},
   "outputs": [],
   "source": [
    "import os\n",
    "os._exit(00)"
   ]
  },
  {
   "cell_type": "markdown",
   "metadata": {},
   "source": [
    "Alright! Now we're ready to go!\n",
    "\n",
    "Currently I have:\n",
    "- Vampire using SMTlib input https://vprover.github.io/\n",
    "- Higher Order Vampire\n",
    "- Eprover-HO https://github.com/eprover/eprover\n",
    "- Twee https://nick8325.github.io/twee/\n",
    "- Zipperposition - https://github.com/sneeuwballen/zipperposition\n",
    "- nanoCoP-i - an intuitionstic prover. I'm excited for this one\n",
    "- Leo-III\n",
    "\n",
    "I've always been rather impressed by Twee's proof output ,so let us show that."
   ]
  },
  {
   "cell_type": "code",
   "execution_count": 2,
   "metadata": {},
   "outputs": [
    {
     "name": "stdout",
     "output_type": "stream",
     "text": [
      "unsat\n",
      "Here is the input problem:\n",
      "  Axiom 1 (flattening): mul_8e3 = mul_8e(y_90, x_91).\n",
      "  Axiom 2 (flattening): mul_8e2 = mul_8e(x_91, y_90).\n",
      "  Axiom 3 (ax_0): mul_8e(mul_8e(X, X), Y) = mul_8e(Y, X).\n",
      "  Goal 1 (ax_1): mul_8e(x_91, y_90) = mul_8e(y_90, x_91).\n",
      "\n",
      "1. mul_8e(y_90, x_91) -> mul_8e3\n",
      "2. mul_8e(x_91, y_90) -> mul_8e2\n",
      "3. mul_8e(mul_8e(X, X), Y) -> mul_8e(Y, X)\n",
      "4. mul_8e(X, mul_8e(Y, Y)) -> mul_8e(X, Y)\n",
      "5. mul_8e(X, Y) <-> mul_8e(Y, X)\n",
      "6. mul_8e2 -> mul_8e3\n",
      "\n",
      "% SZS status Unsatisfiable\n",
      "\n",
      "% SZS output start Proof\n",
      "Axiom 1 (ax_0): mul_8e(mul_8e(X, X), Y) = mul_8e(Y, X).\n",
      "\n",
      "Goal 1 (ax_1): mul_8e(x_91, y_90) = mul_8e(y_90, x_91).\n",
      "Proof:\n",
      "  mul_8e(x_91, y_90)\n",
      "= { by axiom 1 (ax_0) R->L }\n",
      "  mul_8e(mul_8e(y_90, y_90), x_91)\n",
      "= { by axiom 1 (ax_0) R->L }\n",
      "  mul_8e(mul_8e(x_91, x_91), mul_8e(y_90, y_90))\n",
      "= { by axiom 1 (ax_0) R->L }\n",
      "  mul_8e(mul_8e(mul_8e(y_90, y_90), mul_8e(y_90, y_90)), mul_8e(x_91, x_91))\n",
      "= { by axiom 1 (ax_0) }\n",
      "  mul_8e(mul_8e(mul_8e(y_90, y_90), y_90), mul_8e(x_91, x_91))\n",
      "= { by axiom 1 (ax_0) }\n",
      "  mul_8e(mul_8e(y_90, y_90), mul_8e(x_91, x_91))\n",
      "= { by axiom 1 (ax_0) }\n",
      "  mul_8e(mul_8e(x_91, x_91), y_90)\n",
      "= { by axiom 1 (ax_0) }\n",
      "  mul_8e(y_90, x_91)\n",
      "% SZS output end Proof\n",
      "\n",
      "RESULT: Unsatisfiable (the axioms are contradictory).\n",
      "\n"
     ]
    }
   ],
   "source": [
    "import kdrag as kd\n",
    "import kdrag.solvers as solvers\n",
    "import kdrag.smt as smt # Literally a reexporting of z3\n",
    "\n",
    "T = smt.DeclareSort(\"T\")\n",
    "x,y,z = smt.Consts(\"x y z\", T)\n",
    "mul = smt.Function(\"mul\", T, T, T)\n",
    "kd.notation.mul.define([x,y], mul(x,y)) # This gives us multiplication notation.\n",
    "\n",
    "s = solvers.TweeSolver()\n",
    "s.add(smt.ForAll([x,y], (x * x) * y == y * x))\n",
    "s.add(smt.Not(smt.ForAll([x,y], x * y == y * x))) # Negate the theorem to be proved for a refutation\n",
    "s.set(\"timeout\", 1000)\n",
    "print(s.check())\n",
    "print(s.proof().decode())"
   ]
  },
  {
   "cell_type": "markdown",
   "metadata": {},
   "source": [
    "What I've done is built a pretty printer to the first order and higher order TPTP format.\n",
    "\n",
    "You can see the file actually being generated. I have not yet turned on mangling the filename, which I should someday to enable parallel solve calls. You can see the constants do need to be mangled with a unique identifier"
   ]
  },
  {
   "cell_type": "code",
   "execution_count": 19,
   "metadata": {},
   "outputs": [
    {
     "name": "stdout",
     "output_type": "stream",
     "text": [
      "% TPTP file generated by Knuckledragger\n",
      "tff(t_type, type, t : $tType ).\n",
      "% Declarations\n",
      "tff(mul_decl, type, mul_8e : t * t > t).\n",
      "% Axioms and assertions\n",
      "tff(ax_0, axiom, (![Z_90:t, Y_91:t, X_92:t] : (mul_8e(mul_8e(X_92, X_92), Y_91) = mul_8e(Y_91, X_92)))).\n",
      "tff(ax_1, axiom, ~((![Y_91:t, X_92:t] : (mul_8e(X_92, Y_91) = mul_8e(Y_91, X_92))))).\n"
     ]
    }
   ],
   "source": [
    "! cat /tmp/twee.p"
   ]
  },
  {
   "cell_type": "markdown",
   "metadata": {},
   "source": [
    "I also added the ability to access the solver directly. This has been useful for debugging and testing, but could be useful for other purposes"
   ]
  },
  {
   "cell_type": "code",
   "execution_count": 21,
   "metadata": {},
   "outputs": [
    {
     "name": "stdout",
     "output_type": "stream",
     "text": [
      "Here is the input problem:\n",
      "  Axiom 1 (flattening): mul_8e3 = mul_8e(y_91, x_92).\n",
      "  Axiom 2 (flattening): mul_8e2 = mul_8e(x_92, y_91).\n",
      "  Axiom 3 (ax_0): mul_8e(mul_8e(X, X), Y) = mul_8e(Y, X).\n",
      "  Goal 1 (ax_1): mul_8e(x_92, y_91) = mul_8e(y_91, x_92).\n",
      "\n",
      "1. mul_8e(y_91, x_92) -> mul_8e3\n",
      "2. mul_8e(x_92, y_91) -> mul_8e2\n",
      "3. mul_8e(mul_8e(X, X), Y) -> mul_8e(Y, X)\n",
      "4. mul_8e(X, mul_8e(Y, Y)) -> mul_8e(X, Y)\n",
      "5. mul_8e(X, Y) <-> mul_8e(Y, X)\n",
      "6. mul_8e2 -> mul_8e3\n",
      "\n",
      "The conjecture is true! Here is a proof.\n",
      "\n",
      "Axiom 1 (ax_0): mul_8e(mul_8e(X, X), Y) = mul_8e(Y, X).\n",
      "\n",
      "Goal 1 (ax_1): mul_8e(x_92, y_91) = mul_8e(y_91, x_92).\n",
      "Proof:\n",
      "  \u001b[32mmul_8e(x_92, y_91)\u001b[m\n",
      "= \u001b[1m{ by axiom 1 (ax_0) R->L }\u001b[m\n",
      "  \u001b[32mmul_8e(mul_8e(y_91, y_91), x_92)\u001b[m\n",
      "= \u001b[1m{ by axiom 1 (ax_0) R->L }\u001b[m\n",
      "  \u001b[32mmul_8e(mul_8e(x_92, x_92), mul_8e(y_91, y_91))\u001b[m\n",
      "= \u001b[1m{ by axiom 1 (ax_0) R->L }\u001b[m\n",
      "  mul_8e(\u001b[32mmul_8e(mul_8e(y_91, y_91), mul_8e(y_91, y_91))\u001b[m, mul_8e(x_92, x_92))\n",
      "= \u001b[1m{ by axiom 1 (ax_0) }\u001b[m\n",
      "  mul_8e(\u001b[32mmul_8e(mul_8e(y_91, y_91), y_91)\u001b[m, mul_8e(x_92, x_92))\n",
      "= \u001b[1m{ by axiom 1 (ax_0) }\u001b[m\n",
      "  \u001b[32mmul_8e(mul_8e(y_91, y_91), mul_8e(x_92, x_92))\u001b[m\n",
      "= \u001b[1m{ by axiom 1 (ax_0) }\u001b[m\n",
      "  \u001b[32mmul_8e(mul_8e(x_92, x_92), y_91)\u001b[m\n",
      "= \u001b[1m{ by axiom 1 (ax_0) }\u001b[m\n",
      "  mul_8e(y_91, x_92)\n",
      "\n",
      "RESULT: Unsatisfiable (the axioms are contradictory).\n"
     ]
    }
   ],
   "source": [
    "! python3 -m kdrag.solvers twee /tmp/twee.p"
   ]
  },
  {
   "cell_type": "markdown",
   "metadata": {},
   "source": [
    "# Z3\n",
    "In this case, Z3 itself does just fine on this problem. There really wasn't a need to bolt in all these other guys. CVC5 also works\n"
   ]
  },
  {
   "cell_type": "code",
   "execution_count": 7,
   "metadata": {},
   "outputs": [
    {
     "name": "stdout",
     "output_type": "stream",
     "text": [
      "unsat\n"
     ]
    }
   ],
   "source": [
    "s = smt.Solver()\n",
    "s.add(smt.ForAll([x,y], (x * x) * y == y * x))\n",
    "s.add(smt.Not(smt.ForAll([x,y], x * y == y * x))) # Negate the theorem to be proved for a refutation\n",
    "print(s.check())"
   ]
  },
  {
   "cell_type": "markdown",
   "metadata": {},
   "source": [
    "# Vampire\n",
    "\n",
    "Vampire very often wins many categories of the CASC competition. It is one of the best automated solvers of it's kind."
   ]
  },
  {
   "cell_type": "code",
   "execution_count": 14,
   "metadata": {},
   "outputs": [
    {
     "name": "stdout",
     "output_type": "stream",
     "text": [
      "unsat\n"
     ]
    }
   ],
   "source": [
    "# This one actually uses the smt printer\n",
    "s = solvers.VampireSolver()\n",
    "s.add(smt.ForAll([x,y], (x * x) * y == y * x))\n",
    "s.add(smt.Not(smt.ForAll([x,y], x * y == y * x)))\n",
    "s.set(\"timeout\", 1000)\n",
    "print(s.check())"
   ]
  },
  {
   "cell_type": "code",
   "execution_count": 16,
   "metadata": {},
   "outputs": [
    {
     "name": "stdout",
     "output_type": "stream",
     "text": [
      "(set-logic ALL)\n",
      "(declare-sort T 0)\n",
      ";;declarations\n",
      "(declare-fun mul (T T) T)\n",
      ";;axioms\n",
      "(assert (forall ((x T) (y T) (z T)) (= (mul (mul x x) y) (mul y x))))\n",
      "(assert (not (forall ((x T) (y T)) (= (mul x y) (mul y x)))))\n",
      "(check-sat)\n"
     ]
    }
   ],
   "source": [
    "!cat /tmp/vampire.smt2"
   ]
  },
  {
   "cell_type": "markdown",
   "metadata": {},
   "source": [
    "# Higher Order\n",
    "\n",
    "The next two solvers also support higher order reasoning (they accept lambda terms in their input). The recent progress in that direction is very exciting. I've  got blog posts to write on how to use these sorts of things."
   ]
  },
  {
   "cell_type": "code",
   "execution_count": 12,
   "metadata": {},
   "outputs": [
    {
     "name": "stdout",
     "output_type": "stream",
     "text": [
      "unsat\n",
      "% WARNING: time unlimited strategy and instruction limiting not in place - attemping to translate instructions to time\n",
      "% lrs+1002_1:1_au=on:av=off:fd=off:fde=unused:ntd=on:sos=on:sp=frequency:ss=axioms:i=782:si=on:rtra=on_0 on vampire for (3ds/782Mi)\n",
      "% Refutation not found, incomplete strategy\n",
      "% ------------------------------\n",
      "% Version: Vampire 4.8 HO - Sledgehammer schedules (2023-10-19)\n",
      "% Termination reason: Refutation not found, incomplete strategy\n",
      "\n",
      "\n",
      "% Memory used [KB]: 895\n",
      "% Time elapsed: 0.001 s\n",
      "% ------------------------------\n",
      "% ------------------------------\n",
      "% WARNING: time unlimited strategy and instruction limiting not in place - attemping to translate instructions to time\n",
      "% lrs+1002_2:3_avsq=on:fde=none:nwc=3.0:prag=on:sac=on:sd=2:sgt=32:sos=on:sp=unary_frequency:ss=axioms:i=754:si=on:rtra=on_0 on vampire for (3ds/754Mi)\n",
      "% Refutation not found, incomplete strategy\n",
      "% ------------------------------\n",
      "% Version: Vampire 4.8 HO - Sledgehammer schedules (2023-10-19)\n",
      "% Termination reason: Refutation not found, incomplete strategy\n",
      "\n",
      "\n",
      "% Memory used [KB]: 5373\n",
      "% Time elapsed: 0.0000 s\n",
      "% ------------------------------\n",
      "% ------------------------------\n",
      "% WARNING: time unlimited strategy and instruction limiting not in place - attemping to translate instructions to time\n",
      "% lrs+2_1:1_au=on:cnfonf=off:e2e=on:piset=small_set:sac=on:sd=1:sos=all:ss=axioms:st=5.0:i=810:si=on:rtra=on_0 on vampire for (4ds/810Mi)\n",
      "% Refutation not found, incomplete strategy\n",
      "% ------------------------------\n",
      "% Version: Vampire 4.8 HO - Sledgehammer schedules (2023-10-19)\n",
      "% Termination reason: Refutation not found, incomplete strategy\n",
      "\n",
      "\n",
      "% Memory used [KB]: 5373\n",
      "% Time elapsed: 0.001 s\n",
      "% ------------------------------\n",
      "% ------------------------------\n",
      "% WARNING: time unlimited strategy and instruction limiting not in place - attemping to translate instructions to time\n",
      "% lrs+10_1:1_au=on:av=off:cnfonf=off:sd=1:sos=all:ss=axioms:st=1.5:i=617:si=on:rtra=on_0 on vampire for (3ds/617Mi)\n",
      "% Refutation not found, incomplete strategy\n",
      "% ------------------------------\n",
      "% Version: Vampire 4.8 HO - Sledgehammer schedules (2023-10-19)\n",
      "% Termination reason: Refutation not found, incomplete strategy\n",
      "\n",
      "\n",
      "% Memory used [KB]: 895\n",
      "% Time elapsed: 0.001 s\n",
      "% ------------------------------\n",
      "% ------------------------------\n",
      "% WARNING: time unlimited strategy and instruction limiting not in place - attemping to translate instructions to time\n",
      "% lrs+1010_1:1_e2e=on:ntd=on:nwc=5.0:sac=on:sd=1:sgt=16:spb=units:ss=axioms:i=660:si=on:rtra=on_0 on vampire for (3ds/660Mi)\n",
      "% Refutation not found, incomplete strategy\n",
      "% ------------------------------\n",
      "% Version: Vampire 4.8 HO - Sledgehammer schedules (2023-10-19)\n",
      "% Termination reason: Refutation not found, incomplete strategy\n",
      "\n",
      "\n",
      "% Memory used [KB]: 5373\n",
      "% Time elapsed: 0.001 s\n",
      "% ------------------------------\n",
      "% ------------------------------\n",
      "% WARNING: time unlimited strategy and instruction limiting not in place - attemping to translate instructions to time\n",
      "% lrs+1002_1:1_au=on:bd=off:e2e=on:ins=3:sos=on:ss=axioms:i=707:si=on:rtra=on_0 on vampire for (3ds/707Mi)\n",
      "% Refutation not found, incomplete strategy\n",
      "% ------------------------------\n",
      "% Version: Vampire 4.8 HO - Sledgehammer schedules (2023-10-19)\n",
      "% Termination reason: Refutation not found, incomplete strategy\n",
      "\n",
      "\n",
      "% Memory used [KB]: 5373\n",
      "% Time elapsed: 0.0000 s\n",
      "% ------------------------------\n",
      "% ------------------------------\n",
      "% WARNING: time unlimited strategy and instruction limiting not in place - attemping to translate instructions to time\n",
      "% lrs+1002_1:1_e2e=on:fd=off:fe=off:prag=on:sos=on:i=826:si=on:rtra=on_0 on vampire for (4ds/826Mi)\n",
      "% Refutation not found, incomplete strategy\n",
      "% ------------------------------\n",
      "% Version: Vampire 4.8 HO - Sledgehammer schedules (2023-10-19)\n",
      "% Termination reason: Refutation not found, incomplete strategy\n",
      "\n",
      "\n",
      "% Memory used [KB]: 5373\n",
      "% Time elapsed: 0.001 s\n",
      "% ------------------------------\n",
      "% ------------------------------\n",
      "% WARNING: time unlimited strategy and instruction limiting not in place - attemping to translate instructions to time\n",
      "% lrs+21_1:1_au=on:e2e=on:fd=off:sos=on:sp=unary_frequency:ss=axioms:i=835:si=on:rtra=on_0 on vampire for (4ds/835Mi)\n",
      "% Refutation not found, incomplete strategy\n",
      "% ------------------------------\n",
      "% Version: Vampire 4.8 HO - Sledgehammer schedules (2023-10-19)\n",
      "% Termination reason: Refutation not found, incomplete strategy\n",
      "\n",
      "\n",
      "% Memory used [KB]: 5373\n",
      "% Time elapsed: 0.001 s\n",
      "% ------------------------------\n",
      "% ------------------------------\n",
      "% WARNING: time unlimited strategy and instruction limiting not in place - attemping to translate instructions to time\n",
      "% dis+1010_3:1_acc=on:au=on:chr=on:cnfonf=off:fd=preordered:nwc=10.0:s2a=on:i=705:si=on:rtra=on_0 on vampire for (3ds/705Mi)\n",
      "% Refutation found. Thanks to Tanya!\n",
      "% SZS status Unsatisfiable for vampire\n",
      "% SZS output start Proof for vampire\n",
      "1. ! [X0 : t,X2 : t,X1 : t] : ((mul_8e @ (mul_8e @ X2 @ X2) @ X1) = (mul_8e @ X1 @ X2)) [input]\n",
      "2. ~! [X1 : t,X2 : t] : ((mul_8e @ X1 @ X2) = (mul_8e @ X2 @ X1)) [input]\n",
      "4. ! [X1 : t,X2 : t] : ((mul_8e @ X2 @ X1) = (mul_8e @ (mul_8e @ X1 @ X1) @ X2)) [rectify 1]\n",
      "5. ! [X1 : t,X2 : t] : ((mul_8e @ X2 @ X1) = (mul_8e @ (mul_8e @ X1 @ X1) @ X2)) [fool elimination 4]\n",
      "6. ~! [X0 : t,X1 : t] : ((mul_8e @ X0 @ X1) = (mul_8e @ X1 @ X0)) [rectify 2]\n",
      "7. ~! [X0 : t,X1 : t] : ((mul_8e @ X0 @ X1) = (mul_8e @ X1 @ X0)) [fool elimination 6]\n",
      "8. ! [X0 : t,X1 : t] : ((mul_8e @ (mul_8e @ X0 @ X0) @ X1) = (mul_8e @ X1 @ X0)) [rectify 5]\n",
      "9. ? [X0 : t,X1 : t] : ((mul_8e @ X0 @ X1) != (mul_8e @ X1 @ X0)) [ennf transformation 7]\n",
      "10. ? [X0 : t,X1 : t] : ((mul_8e @ X0 @ X1) != (mul_8e @ X1 @ X0)) => ((mul_8e @ sK0 @ sK1) != (mul_8e @ sK1 @ sK0)) [choice axiom]\n",
      "11. ((mul_8e @ sK0 @ sK1) != (mul_8e @ sK1 @ sK0)) [skolemisation 9,10]\n",
      "12. ((mul_8e @ sK0 @ sK1) != (mul_8e @ sK1 @ sK0)) [cnf transformation 11]\n",
      "13. ((mul_8e @ (mul_8e @ X0 @ X0) @ X1) = (mul_8e @ X1 @ X0)) [cnf transformation 8]\n",
      "15. 1 <=> ((mul_8e @ sK0 @ sK1) = (mul_8e @ sK1 @ sK0)) [avatar definition]\n",
      "17. ((mul_8e @ sK0 @ sK1) != (mul_8e @ sK1 @ sK0)) <- (~1) [avatar component clause 15]\n",
      "18. ~1 [avatar split clause 12,15]\n",
      "24. ((mul_8e @ (mul_8e @ (mul_8e @ X0 @ X0) @ X0) @ X1) = (mul_8e @ X1 @ (mul_8e @ X0 @ X0))) [superposition 13,13]\n",
      "25. ((mul_8e @ (mul_8e @ X0 @ X0) @ X1) = (mul_8e @ X1 @ (mul_8e @ X0 @ X0))) [forward demodulation 24,13]\n",
      "26. ((mul_8e @ X1 @ X0) = (mul_8e @ X1 @ (mul_8e @ X0 @ X0))) [forward demodulation 25,13]\n",
      "29. ((mul_8e @ (mul_8e @ X0 @ X0) @ X1) = (mul_8e @ (mul_8e @ X1 @ X1) @ X0)) [superposition 26,13]\n",
      "32. ((mul_8e @ X0 @ X1) = (mul_8e @ (mul_8e @ X0 @ X0) @ X1)) [forward demodulation 29,13]\n",
      "43. ((mul_8e @ X0 @ X1) = (mul_8e @ X1 @ X0)) [superposition 32,13]\n",
      "67. ((mul_8e @ sK0 @ sK1) != (mul_8e @ sK0 @ sK1)) <- (~1) [superposition 17,43]\n",
      "77. $false <- (~1) [trivial inequality removal 67]\n",
      "78. 1 [avatar contradiction clause 77]\n",
      "79. $false [avatar sat refutation 18,78]\n",
      "% SZS output end Proof for vampire\n",
      "% ------------------------------\n",
      "% Version: Vampire 4.8 HO - Sledgehammer schedules (2023-10-19)\n",
      "% Termination reason: Refutation\n",
      "\n",
      "% Memory used [KB]: 5500\n",
      "% Time elapsed: 0.002 s\n",
      "% ------------------------------\n",
      "% ------------------------------\n",
      "% Success in time 0.039 s\n",
      "\n"
     ]
    }
   ],
   "source": [
    "s = solvers.VampireTHFSolver()\n",
    "s.add(smt.ForAll([x,y], (x * x) * y == y * x))\n",
    "s.add(smt.Not(smt.ForAll([x,y], x * y == y * x)))\n",
    "s.set(\"timeout\", 1000)\n",
    "print(s.check())\n",
    "print(s.proof().decode())"
   ]
  },
  {
   "cell_type": "code",
   "execution_count": 17,
   "metadata": {},
   "outputs": [
    {
     "name": "stdout",
     "output_type": "stream",
     "text": [
      "% TPTP file generated by Knuckledragger\n",
      "thf(t_type, type, t : $tType ).\n",
      "% Declarations\n",
      "thf(mul_decl, type, mul_8e : t > t > t).\n",
      "% Axioms and assertions\n",
      "thf(ax_0, axiom, (![Z_90:t, Y_91:t, X_92:t] : ((mul_8e @ (mul_8e @ X_92 @ X_92) @ Y_91) = (mul_8e @ Y_91 @ X_92)))).\n",
      "thf(ax_1, axiom, ~((![Y_91:t, X_92:t] : ((mul_8e @ X_92 @ Y_91) = (mul_8e @ Y_91 @ X_92))))).\n"
     ]
    }
   ],
   "source": [
    "! cat /tmp/vampire.p"
   ]
  },
  {
   "cell_type": "code",
   "execution_count": 9,
   "metadata": {},
   "outputs": [
    {
     "name": "stdout",
     "output_type": "stream",
     "text": [
      "unsat\n",
      "# Preprocessing class: HSSSSMSSSSSNFFN.\n",
      "# Scheduled 4 strats onto 8 cores with 2 seconds (16 total)\n",
      "# Starting new_ho_10 with 10s (5) cores\n",
      "# Starting ho_unfolding_6 with 2s (1) cores\n",
      "# Starting sh4l with 2s (1) cores\n",
      "# Starting ehoh_best_nonlift_rwall with 2s (1) cores\n",
      "# sh4l with pid 2515392 completed with status 0\n",
      "# Result found by sh4l\n",
      "# Preprocessing class: HSSSSMSSSSSNFFN.\n",
      "# Scheduled 4 strats onto 8 cores with 2 seconds (16 total)\n",
      "# Starting new_ho_10 with 10s (5) cores\n",
      "# Starting ho_unfolding_6 with 2s (1) cores\n",
      "# Starting sh4l with 2s (1) cores\n",
      "# No SInE strategy applied\n",
      "# Search class: HUUPF-FFSF22-SFFFFFNN\n",
      "# Scheduled 1 strats onto 1 cores with 2 seconds (2 total)\n",
      "# Starting new_ho_10 with 2s (1) cores\n",
      "# new_ho_10 with pid 2515394 completed with status 0\n",
      "# Result found by new_ho_10\n",
      "# Preprocessing class: HSSSSMSSSSSNFFN.\n",
      "# Scheduled 4 strats onto 8 cores with 2 seconds (16 total)\n",
      "# Starting new_ho_10 with 10s (5) cores\n",
      "# Starting ho_unfolding_6 with 2s (1) cores\n",
      "# Starting sh4l with 2s (1) cores\n",
      "# No SInE strategy applied\n",
      "# Search class: HUUPF-FFSF22-SFFFFFNN\n",
      "# Scheduled 1 strats onto 1 cores with 2 seconds (2 total)\n",
      "# Starting new_ho_10 with 2s (1) cores\n",
      "# Initializing proof state\n",
      "# Scanning for AC axioms\n",
      "#\n",
      "#thf(i_0_4, plain, ((mul_8e @ esk1_0 @ esk2_0)!=(mul_8e @ esk2_0 @ esk1_0))).\n",
      "#\n",
      "#thf(i_0_3, plain, ![X2:t, X1:t]:(((mul_8e @ (mul_8e @ X1 @ X1) @ X2)=(mul_8e @ X2 @ X1)))).\n",
      "# Presaturation interreduction done\n",
      "#\n",
      "#thf(i_0_4, plain, ((mul_8e @ esk1_0 @ esk2_0)!=(mul_8e @ esk2_0 @ esk1_0))).\n",
      "#\n",
      "#thf(i_0_3, plain, ![X2:t, X1:t]:(((mul_8e @ (mul_8e @ X1 @ X1) @ X2)=(mul_8e @ X2 @ X1)))).\n",
      "#\n",
      "#thf(i_0_5, plain, ![X2:t, X1:t]:(((mul_8e @ X2 @ (mul_8e @ X1 @ X1))=(mul_8e @ X2 @ X1)))).\n",
      "## mul_8e is commutative\n",
      "# AC handling enabled dynamically\n",
      "\n",
      "#thf(i_0_6, plain, ![X1:t, X2:t]:(((mul_8e @ X2 @ X1)=(mul_8e @ X1 @ X2)))).\n",
      "\n",
      "# Proof found!\n",
      "# SZS status Unsatisfiable\n",
      "\n"
     ]
    }
   ],
   "source": [
    "s = solvers.EProverTHFSolver()\n",
    "s.add(smt.ForAll([x,y], (x * x) * y == y * x))\n",
    "s.add(smt.Not(smt.ForAll([x,y], x * y == y * x)))\n",
    "s.set(\"timeout\", 1000)\n",
    "print(s.check())\n",
    "print(s.proof().decode())"
   ]
  },
  {
   "cell_type": "code",
   "execution_count": 23,
   "metadata": {},
   "outputs": [
    {
     "name": "stdout",
     "output_type": "stream",
     "text": [
      "% TPTP file generated by Knuckledragger\n",
      "thf(t_type, type, t : $tType ).\n",
      "% Declarations\n",
      "thf(mul_decl, type, mul_8e : t > t > t).\n",
      "% Axioms and assertions\n",
      "thf(ax_0, axiom, (![Z_90:t, Y_91:t, X_92:t] : ((mul_8e @ (mul_8e @ X_92 @ X_92) @ Y_91) = (mul_8e @ Y_91 @ X_92)))).\n",
      "thf(ax_1, axiom, ~((![Y_91:t, X_92:t] : ((mul_8e @ X_92 @ Y_91) = (mul_8e @ Y_91 @ X_92))))).\n"
     ]
    }
   ],
   "source": [
    "! cat /tmp/eprover.p"
   ]
  },
  {
   "cell_type": "markdown",
   "metadata": {},
   "source": [
    "# What's Next\n",
    "It seems there is already code to enumerate possible axioms made of a multiplication operation. Should do that.\n",
    "\n",
    "Access to the solvers is not new. Isabelle https://isabelle.in.tum.de/ and Why3 https://www.why3.org/   also both have these solvers accessible if you prefer.\n",
    "\n",
    "The TPTP organization https://www.tptp.org/ , largely orchestrated by Geoff Sutcliffe, has many resources, but especially System on TPTP https://tptp.org/cgi-bin/SystemOnTPTP , which lets you submit problem files online without installing these solvers."
   ]
  }
 ],
 "metadata": {
  "kernelspec": {
   "display_name": "Python 3",
   "language": "python",
   "name": "python3"
  },
  "language_info": {
   "codemirror_mode": {
    "name": "ipython",
    "version": 3
   },
   "file_extension": ".py",
   "mimetype": "text/x-python",
   "name": "python",
   "nbconvert_exporter": "python",
   "pygments_lexer": "ipython3",
   "version": "3.12.3"
  }
 },
 "nbformat": 4,
 "nbformat_minor": 2
}
