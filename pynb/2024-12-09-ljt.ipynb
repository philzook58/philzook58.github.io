{
 "cells": [
  {
   "cell_type": "markdown",
   "metadata": {},
   "source": [
    "---\n",
    "title: Dyckhoff Intuitionistic Propositional Prover\n",
    "date: 2024-12-09\n",
    "---\n",
    "\n",
    "A cute little calculus exists for intuitionistic propositional logic.\n",
    "\n",
    "If you naively follow the sequent calculus rules of intuitionistic logic, you may end up looping.\n",
    "\n",
    "Specializing the left rule for implication to the various connectives, we can find variants of this rule where we are clearly making progress. This Contraction-Free Sequent Calculi for Intuitionisitc Logic by Roy Dyckhoff https://www.cs.cmu.edu/~fp/courses/15317-f08/cmuonly/dyckhoff92.pdf is a canonical reference, but also there are a ton of notes from CMU courses.\n",
    "\n",
    "Doing this in python over the z3 AST is interesting from a number of angles. It seems like a nice platform to experiment with intuitionistic proving leveraging SAT and SMT technology. \n",
    "\n",
    "Here was can write a couple of example problems. We can easily ask z3 if they are classically valid formulas."
   ]
  },
  {
   "cell_type": "code",
   "execution_count": 24,
   "metadata": {},
   "outputs": [
    {
     "name": "stdout",
     "output_type": "stream",
     "text": [
      "a, Classically Invalid. Countermodel [a = False]\n",
      "Implies(a, a), Classically Valid\n",
      "Or(a, Not(a)), Classically Valid\n",
      "Or(a, b), Classically Invalid. Countermodel [b = False, a = False]\n",
      "Implies(a, Implies(b, a)), Classically Valid\n",
      "Implies(And(a, b), And(b, a)), Classically Valid\n",
      "Implies(And(a, b), a), Classically Valid\n",
      "Implies(Implies(Implies(a, b), a), a), Classically Valid\n",
      "Implies(Not(Not(a)), a), Classically Valid\n"
     ]
    }
   ],
   "source": [
    "from z3 import *\n",
    "a,b,c,d = Bools('a b c d')\n",
    "examples = [\n",
    "    a,\n",
    "    Implies(a,a),\n",
    "    Or(a, Not(a)), # excluded middle https://en.wikipedia.org/wiki/Law_of_excluded_middle\n",
    "    Or(a,b),\n",
    "    Implies(a,Implies(b,a)),\n",
    "    Implies(And(a,b), And(b,a)),\n",
    "    Implies(And(a,b), a),\n",
    "    Implies(Implies(Implies(a,b),a),a),     # Pierce's law https://en.wikipedia.org/wiki/Peirce%27s_law\n",
    "    Implies(Not(Not(a)), a),\n",
    "]\n",
    "def prove_classical(p):\n",
    "    s = Solver()\n",
    "    s.add(Not(p))\n",
    "    if s.check() == unsat:\n",
    "        return True, None\n",
    "    else:\n",
    "        return False, s.model()\n",
    "\n",
    "for e in examples:\n",
    "    valid, countermodel = prove_classical(e)\n",
    "    if valid:\n",
    "        print(f\"{e}, Classically Valid\")\n",
    "    else:\n",
    "        print(f\"{e}, Classically Invalid. Countermodel {countermodel}\")"
   ]
  },
  {
   "cell_type": "markdown",
   "metadata": {},
   "source": [
    "We can write the LJT prover in python. It is rather similar in form to the ground prolog interpreter. This isn't really an accident, since they are both implement a sequent calculus search. https://www.philipzucker.com/ground_lambda_prolog/\n",
    "\n",
    "It is much tighter to just return a boolean rather than more data. We can use the short `any` and `all` combinators in particular.\n",
    "\n",
    "Python has pretty bad support for immutable data structures. The easiest thing to do to add to a list is just a full copy, which can be achieve by `mylist + [appended_element]`. The freeing thing about python is that it'll be slow no matter what, so might as well do what is easiest.\n",
    "\n",
    "A tracing list can give some clues into the execution without too much annotation pain or magic.\n",
    "\n",
    "There are a number of conceptual insights in the prover. Generally speaking, a big part of the game for theorem proving (or any search problem) is to notice redundancies in possible proofs and get rid of them. In this case, it is noticed that not all the rules of the sequent calculus need backtracking. We can eagerly apply those rules in an \"inversion\" phase of the prover.\n",
    "\n",
    "If you need to prove `A /\\ B`, you'll need to prove A and you'll need to prove B. There's not another option. That is why the `right And` is in the `right_inv` function.\n",
    "\n",
    "However, if you need to prove `A \\/ B`, you can prove A or you can prove B. You don't need to prove both. And you need to make a guess which you need to prove. This is why the right Or rule is in the `search` function.\n",
    "\n",
    "A constant source of mild pain is that `not` rules should be read as `a -> _|_` rules.\n",
    "\n",
    "I was tearing my hair out debugging this. Might be correct.\n",
    "\n",
    "Source https://www.cs.cmu.edu/~crary/317-f23/homeworks/hw7-handout.pdf\n",
    "![](/assets/g4ip.png)"
   ]
  },
  {
   "cell_type": "code",
   "execution_count": 26,
   "metadata": {},
   "outputs": [],
   "source": [
    "def prove(goal):\n",
    "    trace = []\n",
    "    def right_inv(ctx, invctx, goal):\n",
    "        #print(\"right\",ctx, invctx, goal)\n",
    "        trace.append((\"right\",ctx, invctx, goal))\n",
    "        if is_true(goal): # R true\n",
    "            return True\n",
    "        elif is_and(goal): # R and\n",
    "            return all(right_inv(ctx,invctx,subgoal) for subgoal in goal.children())\n",
    "        elif is_implies(goal): # R impl\n",
    "            return right_inv(ctx, invctx + [goal.arg(0)], goal.arg(1))\n",
    "        elif is_not(goal): # treat not as `a -> False``\n",
    "            return right_inv(ctx, invctx, Implies(goal.arg(0), BoolVal(False)))\n",
    "        elif is_false(goal) or is_or(goal) or is_const(goal): # not right invertible\n",
    "            return left_inv(ctx, invctx, goal)\n",
    "        else:\n",
    "            raise Exception(f\"Unexpected formula in right_inv {goal}\")\n",
    "    def left_inv(ctx, invctx, goal):\n",
    "        #print(\"left\", ctx, invctx, goal)\n",
    "        trace.append((\"left\",ctx, invctx, goal))\n",
    "        if len(invctx) == 0:\n",
    "            return search(ctx, goal)\n",
    "        c = invctx[-1]\n",
    "        invctx = invctx[:-1]\n",
    "        if is_false(c):\n",
    "            return True\n",
    "        elif is_and(c): # L and\n",
    "            return left_inv(ctx, invctx + c.children(), goal)\n",
    "        elif is_or(c): # L or\n",
    "            return all(left_inv(ctx, invctx + [c], goal) for c in c.children())\n",
    "        elif is_implies(c): # Some specializations of L impl\n",
    "            hyp,conc = c.children()\n",
    "            if is_false(hyp):\n",
    "                return left_inv(ctx, invctx, goal)\n",
    "            elif is_true(hyp):\n",
    "                return left_inv(ctx, invctx + [conc], goal)\n",
    "            elif is_and(hyp):\n",
    "                # curry all\n",
    "                for x in hyp.children():\n",
    "                    conc = Implies(x, conc)\n",
    "                return left_inv(ctx, invctx + [conc], goal)\n",
    "            elif is_or(hyp):\n",
    "                return left_inv(ctx, invctx + [Implies(c,conc) for c in hyp.children()], goal)\n",
    "            elif is_implies(hyp) or is_const(hyp) or is_not(hyp):\n",
    "                return left_inv(ctx + [c], invctx, goal)\n",
    "            else:\n",
    "                raise Exception(f\"Unexpected implication in left_inv {c}\")\n",
    "        elif is_const(c):\n",
    "            return left_inv(ctx + [c], invctx, goal)\n",
    "        elif is_not(c): # Turn not into intuitinistic c.arg(0) -> bottom\n",
    "            return left_inv(ctx, invctx + [Implies(c.arg(0), BoolVal(False))], goal)\n",
    "        else:\n",
    "            raise Exception(f\"Unexpected formula in left_inv {c}\")\n",
    "    def search(ctx, goal):\n",
    "        #print(\"search\", ctx, goal)\n",
    "        trace.append((\"search\",ctx, goal))\n",
    "        if any(c.eq(goal) for c in ctx): # a slightly extened prop rule. is_const()\n",
    "            return True\n",
    "        if is_or(goal):\n",
    "            if any(right_inv(ctx, [], c) for c in goal.children()):\n",
    "                return True\n",
    "        for i, c in enumerate(ctx):\n",
    "            if is_implies(c):\n",
    "                hyp,conc = c.children()\n",
    "                if any(c.eq(hyp) for c in ctx): # hmm. maybe this is ok. Left implprop\n",
    "                    ctx1 = ctx[:i] + ctx[i+1:]\n",
    "                    if left_inv(ctx1, [conc], goal):\n",
    "                        return True\n",
    "                if is_not(hyp):\n",
    "                    hyp = Implies(hyp.arg(0), BoolVal(False))\n",
    "                if is_implies(hyp): # left impl impl\n",
    "                    a,b = hyp.children()\n",
    "                    ctx1 = ctx[:i] + ctx[i+1:]\n",
    "                    return right_inv(ctx1, [Implies(b, conc), a], b) and \\\n",
    "                           left_inv(ctx1, [conc], goal)\n",
    "        return False\n",
    "    return right_inv([],[],goal), trace\n",
    "    \n",
    "assert not prove(Not(a))[0]\n",
    "assert not prove(a)[0]\n",
    "assert prove(Implies(a,a))[0]\n",
    "assert not prove(Or(a, Not(a)))[0]\n",
    "assert prove(Not(Not(Or(a, Not(a)))))[0]\n",
    "assert prove(Implies(a,Implies(b,a)))[0]\n",
    "assert prove(Implies(And(a,b), And(b,a)))[0]\n",
    "assert prove(Implies(And(a,b), a))[0]\n",
    "assert not prove(Implies(Implies(Implies(a,b),a),a))[0]\n",
    "assert prove(Not(Not(Implies(Implies(Implies(a,b),a),a))))[0]"
   ]
  },
  {
   "cell_type": "markdown",
   "metadata": {},
   "source": [
    "Some simple examples"
   ]
  },
  {
   "cell_type": "code",
   "execution_count": 27,
   "metadata": {},
   "outputs": [
    {
     "data": {
      "text/plain": [
       "(True,\n",
       " [('right', [], [], Implies(a, a)),\n",
       "  ('right', [], [a], a),\n",
       "  ('left', [], [a], a),\n",
       "  ('left', [a], [], a),\n",
       "  ('search', [a], a)])"
      ]
     },
     "execution_count": 27,
     "metadata": {},
     "output_type": "execute_result"
    }
   ],
   "source": [
    "prove(Implies(a,a))"
   ]
  },
  {
   "cell_type": "code",
   "execution_count": 28,
   "metadata": {},
   "outputs": [
    {
     "data": {
      "text/plain": [
       "(True,\n",
       " [('right', [], [], Implies(a, Implies(b, a))),\n",
       "  ('right', [], [a], Implies(b, a)),\n",
       "  ('right', [], [a, b], a),\n",
       "  ('left', [], [a, b], a),\n",
       "  ('left', [b], [a], a),\n",
       "  ('left', [b, a], [], a),\n",
       "  ('search', [b, a], a)])"
      ]
     },
     "execution_count": 28,
     "metadata": {},
     "output_type": "execute_result"
    }
   ],
   "source": [
    "prove(Implies(a,Implies(b,a)))"
   ]
  },
  {
   "cell_type": "code",
   "execution_count": 29,
   "metadata": {},
   "outputs": [
    {
     "data": {
      "text/plain": [
       "(True,\n",
       " [('right', [], [], Implies(And(a, b), And(b, a))),\n",
       "  ('right', [], [And(a, b)], And(b, a)),\n",
       "  ('right', [], [And(a, b)], b),\n",
       "  ('left', [], [And(a, b)], b),\n",
       "  ('left', [], [a, b], b),\n",
       "  ('left', [b], [a], b),\n",
       "  ('left', [b, a], [], b),\n",
       "  ('search', [b, a], b),\n",
       "  ('right', [], [And(a, b)], a),\n",
       "  ('left', [], [And(a, b)], a),\n",
       "  ('left', [], [a, b], a),\n",
       "  ('left', [b], [a], a),\n",
       "  ('left', [b, a], [], a),\n",
       "  ('search', [b, a], a)])"
      ]
     },
     "execution_count": 29,
     "metadata": {},
     "output_type": "execute_result"
    }
   ],
   "source": [
    "prove(Implies(And(a,b), And(b,a)))"
   ]
  },
  {
   "cell_type": "markdown",
   "metadata": {},
   "source": [
    "The law of excluded middle is not an intuitionistic theorem https://en.wikipedia.org/wiki/Law_of_excluded_middle"
   ]
  },
  {
   "cell_type": "code",
   "execution_count": 30,
   "metadata": {},
   "outputs": [
    {
     "data": {
      "text/plain": [
       "(False,\n",
       " [('right', [], [], Or(a, Not(a))),\n",
       "  ('left', [], [], Or(a, Not(a))),\n",
       "  ('search', [], Or(a, Not(a))),\n",
       "  ('right', [], [], a),\n",
       "  ('left', [], [], a),\n",
       "  ('search', [], a),\n",
       "  ('right', [], [], Not(a)),\n",
       "  ('right', [], [], Implies(a, False)),\n",
       "  ('right', [], [a], False),\n",
       "  ('left', [], [a], False),\n",
       "  ('left', [a], [], False),\n",
       "  ('search', [a], False)])"
      ]
     },
     "execution_count": 30,
     "metadata": {},
     "output_type": "execute_result"
    }
   ],
   "source": [
    "prove(Or(a, Not(a)))"
   ]
  },
  {
   "cell_type": "markdown",
   "metadata": {},
   "source": [
    "Pierce's law https://en.wikipedia.org/wiki/Peirce%27s_law which has something to do with continuation passing is not an intuitionistic theorem."
   ]
  },
  {
   "cell_type": "code",
   "execution_count": 31,
   "metadata": {},
   "outputs": [
    {
     "data": {
      "text/plain": [
       "(False,\n",
       " [('right', [], [], Implies(Implies(Implies(a, b), a), a)),\n",
       "  ('right', [], [Implies(Implies(a, b), a)], a),\n",
       "  ('left', [], [Implies(Implies(a, b), a)], a),\n",
       "  ('left', [Implies(Implies(a, b), a)], [], a),\n",
       "  ('search', [Implies(Implies(a, b), a)], a),\n",
       "  ('right', [], [Implies(b, a), a], b),\n",
       "  ('left', [], [Implies(b, a), a], b),\n",
       "  ('left', [a], [Implies(b, a)], b),\n",
       "  ('left', [a, Implies(b, a)], [], b),\n",
       "  ('search', [a, Implies(b, a)], b)])"
      ]
     },
     "execution_count": 31,
     "metadata": {},
     "output_type": "execute_result"
    }
   ],
   "source": [
    "pierce = Implies(Implies(Implies(a,b),a),a)\n",
    "prove(pierce)"
   ]
  },
  {
   "cell_type": "markdown",
   "metadata": {},
   "source": [
    "The double negation translation turns a provable classical formulas into provable intuitionistic ones https://en.wikipedia.org/wiki/Double-negation_translation . The simplest form for propositional formulas just puts two negations out front. Now excluded middle and pierces law are provable."
   ]
  },
  {
   "cell_type": "code",
   "execution_count": 32,
   "metadata": {},
   "outputs": [
    {
     "data": {
      "text/plain": [
       "(True,\n",
       " [('right', [], [], Not(Not(Or(a, Not(a))))),\n",
       "  ('right', [], [], Implies(Not(Or(a, Not(a))), False)),\n",
       "  ('right', [], [Not(Or(a, Not(a)))], False),\n",
       "  ('left', [], [Not(Or(a, Not(a)))], False),\n",
       "  ('left', [], [Implies(Or(a, Not(a)), False)], False),\n",
       "  ('left', [], [Implies(a, False), Implies(Not(a), False)], False),\n",
       "  ('left', [Implies(Not(a), False)], [Implies(a, False)], False),\n",
       "  ('left', [Implies(Not(a), False), Implies(a, False)], [], False),\n",
       "  ('search', [Implies(Not(a), False), Implies(a, False)], False),\n",
       "  ('right', [Implies(a, False)], [Implies(False, False), a], False),\n",
       "  ('left', [Implies(a, False)], [Implies(False, False), a], False),\n",
       "  ('left', [Implies(a, False), a], [Implies(False, False)], False),\n",
       "  ('left', [Implies(a, False), a], [], False),\n",
       "  ('search', [Implies(a, False), a], False),\n",
       "  ('left', [a], [False], False),\n",
       "  ('left', [Implies(a, False)], [False], False)])"
      ]
     },
     "execution_count": 32,
     "metadata": {},
     "output_type": "execute_result"
    }
   ],
   "source": [
    "prove(Not(Not(Or(a, Not(a)))))"
   ]
  },
  {
   "cell_type": "code",
   "execution_count": 33,
   "metadata": {},
   "outputs": [
    {
     "data": {
      "text/plain": [
       "(True,\n",
       " [('right', [], [], Not(Not(Implies(Implies(Implies(a, b), a), a)))),\n",
       "  ('right',\n",
       "   [],\n",
       "   [],\n",
       "   Implies(Not(Implies(Implies(Implies(a, b), a), a)), False)),\n",
       "  ('right', [], [Not(Implies(Implies(Implies(a, b), a), a))], False),\n",
       "  ('left', [], [Not(Implies(Implies(Implies(a, b), a), a))], False),\n",
       "  ('left', [], [Implies(Implies(Implies(Implies(a, b), a), a), False)], False),\n",
       "  ('left', [Implies(Implies(Implies(Implies(a, b), a), a), False)], [], False),\n",
       "  ('search', [Implies(Implies(Implies(Implies(a, b), a), a), False)], False),\n",
       "  ('right', [], [Implies(a, False), Implies(Implies(a, b), a)], a),\n",
       "  ('left', [], [Implies(a, False), Implies(Implies(a, b), a)], a),\n",
       "  ('left', [Implies(Implies(a, b), a)], [Implies(a, False)], a),\n",
       "  ('left', [Implies(Implies(a, b), a), Implies(a, False)], [], a),\n",
       "  ('search', [Implies(Implies(a, b), a), Implies(a, False)], a),\n",
       "  ('right', [Implies(a, False)], [Implies(b, a), a], b),\n",
       "  ('left', [Implies(a, False)], [Implies(b, a), a], b),\n",
       "  ('left', [Implies(a, False), a], [Implies(b, a)], b),\n",
       "  ('left', [Implies(a, False), a, Implies(b, a)], [], b),\n",
       "  ('search', [Implies(a, False), a, Implies(b, a)], b),\n",
       "  ('left', [a, Implies(b, a)], [False], b),\n",
       "  ('left', [Implies(a, False)], [a], a),\n",
       "  ('left', [Implies(a, False), a], [], a),\n",
       "  ('search', [Implies(a, False), a], a),\n",
       "  ('left', [], [False], False)])"
      ]
     },
     "execution_count": 33,
     "metadata": {},
     "output_type": "execute_result"
    }
   ],
   "source": [
    "prove(Not(Not(pierce)))"
   ]
  },
  {
   "cell_type": "markdown",
   "metadata": {},
   "source": [
    "# Bits and Bobbles\n",
    "\n",
    "Obvious performance improvements:\n",
    "- Try to loopify instead of recursive call.\n",
    "- Full copying of context isn't great. python has terrible immutable data structure support though.\n",
    "\n",
    "Threading proof objects. Really only search has tough info in it. Everything else is reconstructible easily. That's the point.\n",
    "Pretty printing proof trees.\n",
    "\n",
    "\n",
    "\n",
    "\n",
    "Choice of who owns the lists. In rust for example\n",
    "\n",
    "Pushing an popping\n",
    "\n",
    "https://research-repository.st-andrews.ac.uk/bitstream/handle/10023/8824/BernPaper14.pdf?sequence=1 Intuitionistic decision procedures since Gentzen 2014\n",
    "\n",
    "https://www.iltp.de/results.html intuitionsitc logic prover comparsion and databank\n",
    "\n",
    "I actually did add nanoCop-i to knuckjeldragger\n",
    "\n",
    "https://www.cs.cmu.edu/~crary/317-f12/recitations/g4ip.pl\n",
    "\n",
    "https://www.cs.cmu.edu/~fp/courses/15317-f08/cmuonly/dyckhoff92.pdf\n",
    "\n",
    "https://www.cs.cmu.edu/~crary/317-f23/homeworks/hw7-handout.pdf\n",
    "\n",
    "https://www.cs.cmu.edu/~fp/courses/15317-s23/recitations/rec09.pdf\n",
    "\n",
    "https://www.cs.cmu.edu/~crary/317-f23/lectures/12-inversion.pdf\n",
    "\n",
    "\n",
    "https://www.cs.cmu.edu/~fp/courses/atp/handouts/atp.pdf\n",
    "\n",
    "https://web2.qatar.cmu.edu/cs/15317/lectures/11-g4ip.pdf\n",
    "\n",
    "\n",
    "\n",
    "https://www.csl.sri.com/users/sgl/Work/Reports/2019-07-G4-SMT-Tableaux19.pdf A proof-theoretic perspective on SMT-solving\n",
    "for intuitionistic propositional logic \n",
    "intuit\n",
    "Use SAT solver to prune ? Use UNSAT proof as clues?\n",
    "\n",
    "\n",
    "https://ceur-ws.org/Vol-2271/paper1.pdf Shaving with Occam’s Razor: Deriving Minimalist Theorem Provers for Minimal Logic Paul Tarau\n",
    "\n",
    "https://github.com/ptarau/TypesAndProofs/blob/master/third_party/dyckhoff_orig.pro\n",
    "\n",
    "Using sets to avoid bothering to add in redundant subsumed stuff.\n",
    "SAT guidance. Sat models (prune unpropvable branches. A classical countermodel is also a intuitionistic countermodel)\n",
    "and UNSAT certs. How to use an UNSAT cert is much less clear.\n",
    "\n",
    "https://research-repository.st-andrews.ac.uk/bitstream/handle/10023/8824/BernPaper14.pdf?sequence=1\n",
    "If goal becomes bottom, can revert to classical logic.\n",
    "simplification `not p` in context we can replace p everywhere by bottom.\n",
    "\n",
    "\n",
    "It is an interesting question which of the theories of z3 in the ground case are fine intuitionsitcally. One the meta LJT has refined to pure thoery literals, can we trust the conlcusion of just the theory solvers?\n",
    "For decidable theories, it feels like yes. Really, for decidable theories everything classical is fine anyway? It is just the \"non classical\" booleans `DeclareSort(\"Prop\")` we should do this proof procedure on.\n",
    "The theory of arrays is a theory of functions with extensionality baked in. That does seem suspect.\n",
    "\n",
    "SMT modulo ILP\n",
    "\n",
    "\"Prop\" is kind of like quote\n",
    "intuit_quote(p)\n"
   ]
  },
  {
   "cell_type": "markdown",
   "metadata": {},
   "source": [
    "Ok yeah, I guess I never got this working."
   ]
  },
  {
   "cell_type": "code",
   "execution_count": 36,
   "metadata": {},
   "outputs": [
    {
     "ename": "KeyboardInterrupt",
     "evalue": "",
     "output_type": "error",
     "traceback": [
      "\u001b[0;31m---------------------------------------------------------------------------\u001b[0m",
      "\u001b[0;31mKeyboardInterrupt\u001b[0m                         Traceback (most recent call last)",
      "Cell \u001b[0;32mIn[36], line 4\u001b[0m\n\u001b[1;32m      2\u001b[0m s \u001b[38;5;241m=\u001b[39m solvers\u001b[38;5;241m.\u001b[39mNanoCopISolver()\n\u001b[1;32m      3\u001b[0m s\u001b[38;5;241m.\u001b[39madd(Not(pierce))\n\u001b[0;32m----> 4\u001b[0m \u001b[43ms\u001b[49m\u001b[38;5;241;43m.\u001b[39;49m\u001b[43mcheck\u001b[49m\u001b[43m(\u001b[49m\u001b[43m)\u001b[49m\n",
      "File \u001b[0;32m~/Documents/python/knuckledragger/kdrag/solvers/__init__.py:675\u001b[0m, in \u001b[0;36mNanoCopISolver.check\u001b[0;34m(self)\u001b[0m\n\u001b[1;32m    672\u001b[0m \u001b[38;5;28;01mif\u001b[39;00m \u001b[38;5;124m\"\u001b[39m\u001b[38;5;124mtimeout\u001b[39m\u001b[38;5;124m\"\u001b[39m \u001b[38;5;129;01min\u001b[39;00m \u001b[38;5;28mself\u001b[39m\u001b[38;5;241m.\u001b[39moptions:\n\u001b[1;32m    673\u001b[0m     cmd\u001b[38;5;241m.\u001b[39mextend(\u001b[38;5;28mstr\u001b[39m(\u001b[38;5;28mself\u001b[39m\u001b[38;5;241m.\u001b[39moptions[\u001b[38;5;124m\"\u001b[39m\u001b[38;5;124mtimeout\u001b[39m\u001b[38;5;124m\"\u001b[39m] \u001b[38;5;241m/\u001b[39m\u001b[38;5;241m/\u001b[39m \u001b[38;5;241m1000\u001b[39m \u001b[38;5;241m+\u001b[39m \u001b[38;5;241m1\u001b[39m))\n\u001b[0;32m--> 675\u001b[0m \u001b[38;5;28mself\u001b[39m\u001b[38;5;241m.\u001b[39mres \u001b[38;5;241m=\u001b[39m \u001b[43msubprocess\u001b[49m\u001b[38;5;241;43m.\u001b[39;49m\u001b[43mrun\u001b[49m\u001b[43m(\u001b[49m\u001b[43mcmd\u001b[49m\u001b[43m,\u001b[49m\u001b[43m \u001b[49m\u001b[43mstdout\u001b[49m\u001b[38;5;241;43m=\u001b[39;49m\u001b[43msubprocess\u001b[49m\u001b[38;5;241;43m.\u001b[39;49m\u001b[43mPIPE\u001b[49m\u001b[43m,\u001b[49m\u001b[43m \u001b[49m\u001b[43mstderr\u001b[49m\u001b[38;5;241;43m=\u001b[39;49m\u001b[43msubprocess\u001b[49m\u001b[38;5;241;43m.\u001b[39;49m\u001b[43mPIPE\u001b[49m\u001b[43m)\u001b[49m\n\u001b[1;32m    677\u001b[0m \u001b[38;5;28;01mif\u001b[39;00m \u001b[38;5;124mb\u001b[39m\u001b[38;5;124m\"\u001b[39m\u001b[38;5;124mintuitionistically Satisfiable\u001b[39m\u001b[38;5;124m\"\u001b[39m \u001b[38;5;129;01min\u001b[39;00m \u001b[38;5;28mself\u001b[39m\u001b[38;5;241m.\u001b[39mres\u001b[38;5;241m.\u001b[39mstdout:\n\u001b[1;32m    678\u001b[0m     \u001b[38;5;28;01mreturn\u001b[39;00m smt\u001b[38;5;241m.\u001b[39msat\n",
      "File \u001b[0;32m/usr/lib/python3.10/subprocess.py:505\u001b[0m, in \u001b[0;36mrun\u001b[0;34m(input, capture_output, timeout, check, *popenargs, **kwargs)\u001b[0m\n\u001b[1;32m    503\u001b[0m \u001b[38;5;28;01mwith\u001b[39;00m Popen(\u001b[38;5;241m*\u001b[39mpopenargs, \u001b[38;5;241m*\u001b[39m\u001b[38;5;241m*\u001b[39mkwargs) \u001b[38;5;28;01mas\u001b[39;00m process:\n\u001b[1;32m    504\u001b[0m     \u001b[38;5;28;01mtry\u001b[39;00m:\n\u001b[0;32m--> 505\u001b[0m         stdout, stderr \u001b[38;5;241m=\u001b[39m \u001b[43mprocess\u001b[49m\u001b[38;5;241;43m.\u001b[39;49m\u001b[43mcommunicate\u001b[49m\u001b[43m(\u001b[49m\u001b[38;5;28;43minput\u001b[39;49m\u001b[43m,\u001b[49m\u001b[43m \u001b[49m\u001b[43mtimeout\u001b[49m\u001b[38;5;241;43m=\u001b[39;49m\u001b[43mtimeout\u001b[49m\u001b[43m)\u001b[49m\n\u001b[1;32m    506\u001b[0m     \u001b[38;5;28;01mexcept\u001b[39;00m TimeoutExpired \u001b[38;5;28;01mas\u001b[39;00m exc:\n\u001b[1;32m    507\u001b[0m         process\u001b[38;5;241m.\u001b[39mkill()\n",
      "File \u001b[0;32m/usr/lib/python3.10/subprocess.py:1154\u001b[0m, in \u001b[0;36mPopen.communicate\u001b[0;34m(self, input, timeout)\u001b[0m\n\u001b[1;32m   1151\u001b[0m     endtime \u001b[38;5;241m=\u001b[39m \u001b[38;5;28;01mNone\u001b[39;00m\n\u001b[1;32m   1153\u001b[0m \u001b[38;5;28;01mtry\u001b[39;00m:\n\u001b[0;32m-> 1154\u001b[0m     stdout, stderr \u001b[38;5;241m=\u001b[39m \u001b[38;5;28;43mself\u001b[39;49m\u001b[38;5;241;43m.\u001b[39;49m\u001b[43m_communicate\u001b[49m\u001b[43m(\u001b[49m\u001b[38;5;28;43minput\u001b[39;49m\u001b[43m,\u001b[49m\u001b[43m \u001b[49m\u001b[43mendtime\u001b[49m\u001b[43m,\u001b[49m\u001b[43m \u001b[49m\u001b[43mtimeout\u001b[49m\u001b[43m)\u001b[49m\n\u001b[1;32m   1155\u001b[0m \u001b[38;5;28;01mexcept\u001b[39;00m \u001b[38;5;167;01mKeyboardInterrupt\u001b[39;00m:\n\u001b[1;32m   1156\u001b[0m     \u001b[38;5;66;03m# https://bugs.python.org/issue25942\u001b[39;00m\n\u001b[1;32m   1157\u001b[0m     \u001b[38;5;66;03m# See the detailed comment in .wait().\u001b[39;00m\n\u001b[1;32m   1158\u001b[0m     \u001b[38;5;28;01mif\u001b[39;00m timeout \u001b[38;5;129;01mis\u001b[39;00m \u001b[38;5;129;01mnot\u001b[39;00m \u001b[38;5;28;01mNone\u001b[39;00m:\n",
      "File \u001b[0;32m/usr/lib/python3.10/subprocess.py:2021\u001b[0m, in \u001b[0;36mPopen._communicate\u001b[0;34m(self, input, endtime, orig_timeout)\u001b[0m\n\u001b[1;32m   2014\u001b[0m     \u001b[38;5;28mself\u001b[39m\u001b[38;5;241m.\u001b[39m_check_timeout(endtime, orig_timeout,\n\u001b[1;32m   2015\u001b[0m                         stdout, stderr,\n\u001b[1;32m   2016\u001b[0m                         skip_check_and_raise\u001b[38;5;241m=\u001b[39m\u001b[38;5;28;01mTrue\u001b[39;00m)\n\u001b[1;32m   2017\u001b[0m     \u001b[38;5;28;01mraise\u001b[39;00m \u001b[38;5;167;01mRuntimeError\u001b[39;00m(  \u001b[38;5;66;03m# Impossible :)\u001b[39;00m\n\u001b[1;32m   2018\u001b[0m         \u001b[38;5;124m'\u001b[39m\u001b[38;5;124m_check_timeout(..., skip_check_and_raise=True) \u001b[39m\u001b[38;5;124m'\u001b[39m\n\u001b[1;32m   2019\u001b[0m         \u001b[38;5;124m'\u001b[39m\u001b[38;5;124mfailed to raise TimeoutExpired.\u001b[39m\u001b[38;5;124m'\u001b[39m)\n\u001b[0;32m-> 2021\u001b[0m ready \u001b[38;5;241m=\u001b[39m \u001b[43mselector\u001b[49m\u001b[38;5;241;43m.\u001b[39;49m\u001b[43mselect\u001b[49m\u001b[43m(\u001b[49m\u001b[43mtimeout\u001b[49m\u001b[43m)\u001b[49m\n\u001b[1;32m   2022\u001b[0m \u001b[38;5;28mself\u001b[39m\u001b[38;5;241m.\u001b[39m_check_timeout(endtime, orig_timeout, stdout, stderr)\n\u001b[1;32m   2024\u001b[0m \u001b[38;5;66;03m# XXX Rewrite these to use non-blocking I/O on the file\u001b[39;00m\n\u001b[1;32m   2025\u001b[0m \u001b[38;5;66;03m# objects; they are no longer using C stdio!\u001b[39;00m\n",
      "File \u001b[0;32m/usr/lib/python3.10/selectors.py:416\u001b[0m, in \u001b[0;36m_PollLikeSelector.select\u001b[0;34m(self, timeout)\u001b[0m\n\u001b[1;32m    414\u001b[0m ready \u001b[38;5;241m=\u001b[39m []\n\u001b[1;32m    415\u001b[0m \u001b[38;5;28;01mtry\u001b[39;00m:\n\u001b[0;32m--> 416\u001b[0m     fd_event_list \u001b[38;5;241m=\u001b[39m \u001b[38;5;28;43mself\u001b[39;49m\u001b[38;5;241;43m.\u001b[39;49m\u001b[43m_selector\u001b[49m\u001b[38;5;241;43m.\u001b[39;49m\u001b[43mpoll\u001b[49m\u001b[43m(\u001b[49m\u001b[43mtimeout\u001b[49m\u001b[43m)\u001b[49m\n\u001b[1;32m    417\u001b[0m \u001b[38;5;28;01mexcept\u001b[39;00m \u001b[38;5;167;01mInterruptedError\u001b[39;00m:\n\u001b[1;32m    418\u001b[0m     \u001b[38;5;28;01mreturn\u001b[39;00m ready\n",
      "\u001b[0;31mKeyboardInterrupt\u001b[0m: "
     ]
    }
   ],
   "source": [
    "import kdrag.solvers as solvers\n",
    "s = solvers.NanoCopISolver()\n",
    "s.add(Not(pierce))\n",
    "s.check()"
   ]
  },
  {
   "cell_type": "markdown",
   "metadata": {},
   "source": [
    "https://en.wikipedia.org/wiki/Double-negation_translation\n",
    "\n",
    "Glivenko\n",
    "Kuroda\n",
    "Godel-Gentzen\n",
    "\n"
   ]
  },
  {
   "cell_type": "markdown",
   "metadata": {},
   "source": []
  },
  {
   "cell_type": "code",
   "execution_count": null,
   "metadata": {},
   "outputs": [],
   "source": [
    "def glivenko(p):\n",
    "    return Not(Not(p))"
   ]
  },
  {
   "cell_type": "code",
   "execution_count": 107,
   "metadata": {},
   "outputs": [],
   "source": [
    "def double_negate(p):\n",
    "    if is_not(p):\n",
    "        return Not(double_negate(p.arg(0)))\n",
    "    elif is_and(p):\n",
    "        return And([double_negate(c) for c in p.children()])\n",
    "    elif is_or(p):\n",
    "        return Not(And([Not(double_negate(c)) for c in p.children()]))\n",
    "    elif is_implies(p):\n",
    "        return Implies(double_negate(p.arg(0)), double_negate(p.arg(1)))\n",
    "    elif is_quantifier(p):\n",
    "        if p.is_forall():\n",
    "            vs, body = open_binder(p)\n",
    "            return ForAll(vs, double_negate(body))\n",
    "        elif p.is_exists():\n",
    "            vs, body = open_binder(p)\n",
    "            return Not(ForAll(vs, Not(double_negate(body))))\n",
    "        else:\n",
    "            raise Exception(f\"Unexpected formula {p}\")\n",
    "    elif is_const(p):\n",
    "        return Not(Not(p))\n",
    "    else:\n",
    "        raise Exception(f\"Unexpected formula {p}\")"
   ]
  },
  {
   "cell_type": "markdown",
   "metadata": {},
   "source": [
    "Dialectica\n",
    "\n",
    "def dialectica(p):\n",
    "    if is_and(p):\n",
    "        for a in p.children():\n",
    "            params = dialectica(a)\n",
    "        zip(*params)\n",
    "    elif is_or(p):\n",
    "        z = FreshInt()\n",
    "        for i,q in enumerate(p.children()):\n",
    "            qd,exs,alls = dialectica(q)\n",
    "            Implies(z == i, dialectica(q))\n",
    "        return exs+[z],alls\n",
    "    elif is_implies(p):\n",
    "        hyp,conc = p.children()\n",
    "        hypd, exs, alls = dialectica(hyp)\n",
    "        concd, exs2, alls2 = dialectica(conc)\n",
    "        d = Implies(And(hypd, f(x,w) == alls, g(x) == exs2), concd) \n",
    "        return d, exs + exs2 + [f,g], alls+alls2\n",
    "        g = FreshConst(ArraySort())\n",
    "        f = FreshConst(ArraySort())\n",
    "\n",
    "    \n",
    "\n"
   ]
  },
  {
   "cell_type": "markdown",
   "metadata": {},
   "source": [
    "Returning proof objects. Return form vs \n",
    "Using set for ctx.\n",
    "\n"
   ]
  },
  {
   "cell_type": "code",
   "execution_count": null,
   "metadata": {},
   "outputs": [
    {
     "name": "stdout",
     "output_type": "stream",
     "text": [
      "Implies(a, a)\n",
      "right [] ;[] |- Implies(a, a)\n",
      "right [] ;[a] |- a\n",
      "After [] ; [a] |- a\n",
      "Implies(a, Implies(b, a))\n",
      "right [] ;[] |- Implies(a, Implies(b, a))\n",
      "right [] ;[a] |- Implies(b, a)\n",
      "right [] ;[a, b] |- a\n",
      "After [] ; [a, b] |- a\n",
      "Implies(And(a, b), And(b, a))\n",
      "right [] ;[] |- Implies(And(a, b), And(b, a))\n",
      "right [] ;[And(a, b)] |- And(b, a)\n",
      "right [] ;[And(a, b)] |- b\n",
      "After [] ; [And(a, b)] |- b\n",
      "Implies(And(a, b), a)\n",
      "right [] ;[] |- Implies(And(a, b), a)\n",
      "right [] ;[And(a, b)] |- a\n",
      "After [] ; [And(a, b)] |- a\n",
      "Implies(Implies(Implies(a, b), a), a)\n",
      "right [] ;[] |- Implies(Implies(Implies(a, b), a), a)\n",
      "right [] ;[Implies(Implies(a, b), a)] |- a\n",
      "After [] ; [Implies(Implies(a, b), a)] |- a\n",
      "Implies(Not(Not(a)), a)\n",
      "right [] ;[] |- Implies(Not(Not(a)), a)\n",
      "right [] ;[Not(Not(a))] |- a\n",
      "After [] ; [Not(Not(a))] |- a\n",
      "Or(a, Not(a))\n",
      "right [] ;[] |- Or(a, Not(a))\n",
      "After [] ; [] |- Or(a, Not(a))\n",
      "Or(a, b)\n",
      "right [] ;[] |- Or(a, b)\n",
      "After [] ; [] |- Or(a, b)\n"
     ]
    }
   ],
   "source": [
    "def right_inv(ctx, invctx, goal):\n",
    "    print(f\"right {ctx} ;{invctx} |- {goal}\")\n",
    "    if is_true(goal): # R true\n",
    "        return True\n",
    "    elif is_and(goal): # R and\n",
    "        return all(right_inv(ctx,invctx,subgoal) for subgoal in goal.children())\n",
    "    elif is_implies(goal): # R impl\n",
    "        return right_inv(ctx, invctx + [goal.arg(0)], goal.arg(1))\n",
    "    else:\n",
    "        return left_inv(ctx, invctx, goal)\n",
    "\n",
    "for e in examples:\n",
    "    print(e)\n",
    "    right_inv([],[],e)"
   ]
  },
  {
   "cell_type": "code",
   "execution_count": 53,
   "metadata": {},
   "outputs": [
    {
     "name": "stdout",
     "output_type": "stream",
     "text": [
      "Implies(a, a)\n",
      "right [] ;[] |- Implies(a, a)\n",
      "right [] ;[a] |- a\n",
      "left [] ; [a] |- a\n",
      "left [a] ; [] |- a\n",
      "Search [a] |- a\n",
      "Implies(a, Implies(b, a))\n",
      "right [] ;[] |- Implies(a, Implies(b, a))\n",
      "right [] ;[a] |- Implies(b, a)\n",
      "right [] ;[a, b] |- a\n",
      "left [] ; [a, b] |- a\n",
      "left [a] ; [a] |- a\n",
      "left [a, a] ; [] |- a\n",
      "Search [a, a] |- a\n",
      "Implies(And(a, b), And(b, a))\n",
      "right [] ;[] |- Implies(And(a, b), And(b, a))\n",
      "right [] ;[And(a, b)] |- And(b, a)\n",
      "right [] ;[And(a, b)] |- b\n",
      "left [] ; [And(a, b)] |- b\n",
      "left [] ; [a, b] |- b\n",
      "left [a] ; [a] |- b\n",
      "left [a, a] ; [] |- b\n",
      "Search [a, a] |- b\n",
      "Implies(And(a, b), a)\n",
      "right [] ;[] |- Implies(And(a, b), a)\n",
      "right [] ;[And(a, b)] |- a\n",
      "left [] ; [And(a, b)] |- a\n",
      "left [] ; [a, b] |- a\n",
      "left [a] ; [a] |- a\n",
      "left [a, a] ; [] |- a\n",
      "Search [a, a] |- a\n",
      "Implies(Implies(Implies(a, b), a), a)\n",
      "right [] ;[] |- Implies(Implies(Implies(a, b), a), a)\n",
      "right [] ;[Implies(Implies(a, b), a)] |- a\n",
      "left [] ; [Implies(Implies(a, b), a)] |- a\n",
      "left [Implies(Implies(a, b), a)] ; [] |- a\n",
      "Search [Implies(Implies(a, b), a)] |- a\n",
      "Implies(Not(Not(a)), a)\n",
      "right [] ;[] |- Implies(Not(Not(a)), a)\n",
      "right [] ;[Not(Not(a))] |- a\n",
      "left [] ; [Not(Not(a))] |- a\n",
      "left [] ; [Implies(False, Not(a))] |- a\n",
      "left [] ; [] |- a\n",
      "Search [] |- a\n",
      "Or(a, Not(a))\n",
      "right [] ;[] |- Or(a, Not(a))\n",
      "left [] ; [] |- Or(a, Not(a))\n",
      "Search [] |- Or(a, Not(a))\n",
      "Or(a, b)\n",
      "right [] ;[] |- Or(a, b)\n",
      "left [] ; [] |- Or(a, b)\n",
      "Search [] |- Or(a, b)\n"
     ]
    }
   ],
   "source": [
    "def search(ctx, goal):\n",
    "    print(f\"Search {ctx} |- {goal}\")\n",
    "    return False\n",
    "\n",
    "\n",
    "def left_inv(ctx, invctx, goal):\n",
    "    print(f\"left {ctx} ; {invctx} |- {goal}\")\n",
    "    if len(invctx) == 0:\n",
    "        return search(ctx, goal)\n",
    "    c = invctx[0]\n",
    "    invctx = invctx[:-1]\n",
    "    if is_false(c):\n",
    "        return True\n",
    "    elif is_and(c):\n",
    "        return left_inv(ctx, invctx + c.children(), goal)\n",
    "    elif is_or(c):\n",
    "        return all(left_inv(ctx, invctx + [c], goal) for c in c.children())\n",
    "    elif is_implies(c):\n",
    "        hyp,conc = c.children()\n",
    "        if is_false(hyp):\n",
    "            return left_inv(ctx, invctx, goal)\n",
    "        elif is_true(hyp):\n",
    "            return left_inv(ctx, invctx + [conc], goal)\n",
    "        elif is_and(hyp):\n",
    "            # curry all\n",
    "            for x in hyp.children():\n",
    "                conc = Implies(x, conc)\n",
    "            return left_inv(ctx, invctx + [conc], goal)\n",
    "        elif is_or(hyp):\n",
    "            return all(left_inv(ctx, invctx + [c], goal) for c in hyp.children())\n",
    "        elif is_implies(hyp) or is_const(hyp):\n",
    "            return left_inv(ctx + [c], invctx, goal)\n",
    "        else:\n",
    "            raise Exception(f\"Unexpected implication in left_inv {c}\")\n",
    "    elif is_const(c):\n",
    "        return left_inv(ctx + [c], invctx, goal)\n",
    "    elif is_not(c): # bottom -> c.arg(0)\n",
    "        return left_inv(ctx, invctx + [Implies(BoolVal(False), c.arg(0))], goal)\n",
    "    else:\n",
    "        raise Exception(f\"Unexpected formula in left_inv {c}\")\n",
    "                \n",
    "for e in examples:\n",
    "    print(e)\n",
    "    right_inv([],[],e)\n"
   ]
  },
  {
   "cell_type": "code",
   "execution_count": 54,
   "metadata": {},
   "outputs": [
    {
     "name": "stdout",
     "output_type": "stream",
     "text": [
      "left [] ; [a] |- a\n",
      "left [a] ; [] |- a\n",
      "Search [a] |- a\n"
     ]
    },
    {
     "data": {
      "text/plain": [
       "True"
      ]
     },
     "execution_count": 54,
     "metadata": {},
     "output_type": "execute_result"
    }
   ],
   "source": [
    "def search(ctx, goal):\n",
    "    print(f\"Search {ctx} |- {goal}\")\n",
    "    if any(c.eq(goal) for c in ctx): # a slightly extened prop rule. is_const()\n",
    "        return True\n",
    "    if is_or(goal):\n",
    "        if any(right_inv(ctx, [], c) for c in goal.children()):\n",
    "            return True\n",
    "    for i, c in enumerate(ctx):\n",
    "        if is_implies(c):\n",
    "            hyp,conc = c.children()\n",
    "            if any(c.eq(hyp) for c in ctx): # hmm. maybe this is ok. Left implprop\n",
    "                ctx1 = ctx[:i] + ctx[i+1:]\n",
    "                if right_inv(ctx1, [], c.arg(1)):\n",
    "                    return True\n",
    "            if is_implies(hyp): # left impl impl\n",
    "                ctx1 = ctx[:i] + [hyp.arg(0)] + ctx[i+1:]\n",
    "                if search(ctx1, goal):\n",
    "                    return True\n",
    "\n",
    "#assert search([a], a)\n",
    "\"\"\"\n",
    "assert search([a,b], a)\n",
    "assert not search([a], b)\n",
    "\n",
    "def prove(goal):\n",
    "    return right_inv([],[],goal)\n",
    "\n",
    "for e in examples:\n",
    "    print(e, prove(e))\n",
    "\"\"\"\n",
    "#prove(examples[0])\n",
    "left_inv([], [a], a)\n"
   ]
  },
  {
   "cell_type": "markdown",
   "metadata": {},
   "source": [
    "\n"
   ]
  },
  {
   "cell_type": "code",
   "execution_count": null,
   "metadata": {},
   "outputs": [],
   "source": [
    "def left_inv(ctx, invctx, goal):\n",
    "        ctx = ctx.copy()\n",
    "        invctx = invctx.copy()\n",
    "        while invctx:\n",
    "            c = invctx.pop()\n",
    "            if is_false(c):\n",
    "                return True\n",
    "            elif is_and(c):\n",
    "                invctx.extend(c.children())\n",
    "            elif is_or(c):\n",
    "                return all(left_inv(ctx, invctx + [c], goal) for c in c.children())\n",
    "            elif is_implies(c):\n",
    "                hyp,conc = c.children()\n",
    "                if is_false(hyp):\n",
    "                    continue\n",
    "                elif is_true(hyp):\n",
    "                    invctx.append(conc)\n",
    "                elif is_and(hyp):\n",
    "                    for x in hyp.children():\n",
    "                        conc = Implies(x, conc)\n",
    "                    invctx.append(conc)\n",
    "                elif is_or(hyp):\n",
    "                    return all(left_inv(ctx, invctx + [c], goal) for c in hyp.children()) # is this right?\n",
    "                elif is_implies(hyp) or is_const(hyp):\n",
    "                    ctx.append(c)\n",
    "                    continue\n",
    "                else:\n",
    "                    raise Exception(f\"Unexpected implication in left_inv {c}\")\n",
    "            elif is_const(c):\n",
    "                ctx.append(c)\n",
    "                continue\n",
    "            elif is_not(c): # bottom -> c.arg(0)\n",
    "                invctx.append(c.arg(0))\n",
    "            else:\n",
    "                raise Exception(f\"Unexpected formula in left_inv {c}\")\n",
    "        return search(ctx, goal)"
   ]
  },
  {
   "cell_type": "code",
   "execution_count": null,
   "metadata": {},
   "outputs": [],
   "source": [
    "def prove(goal):\n",
    "    while True: # right inversion\n",
    "        if is_true(goal):\n",
    "            return True\n",
    "        elif is_and(goal):\n",
    "            for c in goal.children():\n",
    "                if not prove(c):\n",
    "                    return False\n",
    "            return True\n",
    "        elif is_implies(goal):\n",
    "            goal = goal.get_arg(1)\n",
    "        else:\n",
    "            break"
   ]
  },
  {
   "cell_type": "code",
   "execution_count": null,
   "metadata": {},
   "outputs": [],
   "source": [
    "\n"
   ]
  },
  {
   "cell_type": "markdown",
   "metadata": {},
   "source": []
  },
  {
   "cell_type": "markdown",
   "metadata": {},
   "source": [
    "ILTP. I am mangling the tptp grammar in a way I'm not sure is right.\n",
    "I put a priorty on or and and.\n",
    "\n",
    "Again, I think tptp defined the priority of forall and exists very uniintuitively, making them very tight binding\n",
    "\n",
    "I could allow things other than unit_formula into <=> etc.\n"
   ]
  },
  {
   "cell_type": "code",
   "execution_count": 105,
   "metadata": {},
   "outputs": [
    {
     "name": "stdout",
     "output_type": "stream",
     "text": [
      "start\n",
      "  fof\n",
      "    b\n",
      "    axiom\n",
      "    forall\n",
      "      fof_variable_list\n",
      "        variable\tX\n",
      "        variable\tY\n",
      "      iff\n",
      "        predicate\n",
      "          fun_app\n",
      "            foo\n",
      "            arguments\n",
      "              var\n",
      "                variable\tX\n",
      "        predicate\n",
      "          fun_app\n",
      "            biz\n",
      "            arguments\n",
      "              var\n",
      "                variable\tY\n",
      "\n"
     ]
    }
   ],
   "source": [
    "import lark \n",
    "\n",
    "# https://github.com/inpefess/tptp-lark-parser/blob/master/tptp_lark_parser/resources/TPTP.lark\n",
    "\n",
    "grammar = \"\"\"\n",
    "start                : fof*\n",
    "fof       : \"fof\" \"(\" NAME \",\" FORMULA_ROLE \",\" fof_formula \")\"  \".\" \n",
    "FORMULA_ROLE         :  \"axiom\" | \"conjecture\"\n",
    "\n",
    "?fof_formula         :  fof_unit_formula \"<=>\" fof_unit_formula -> iff\n",
    "                     | fof_unit_formula \"=>\" fof_unit_formula -> implies\n",
    "                     | fof_unit_formula \"<=\" fof_unit_formula -> reverse_implies\n",
    "                     | fof_or_formula\n",
    "?fof_or_formula       : fof_and_formula  (\"|\" fof_and_formula)*\n",
    "?fof_and_formula      : fof_unit_formula (\"&\" fof_unit_formula)*\n",
    "?fof_unit_formula     : \"~\" fof_unit_formula -> not_formula \n",
    "                      | term \"!=\" term      -> diseq\n",
    "                      | term \"=\" term  ->      eq\n",
    "                      | \"(\" fof_formula \")\" \n",
    "                      | term  -> predicate\n",
    "                      | \"!\" \"[\" fof_variable_list \"]\" \":\" fof_unit_formula -> forall\n",
    "                      | \"?\" \"[\" fof_variable_list \"]\" \":\" fof_unit_formula -> exists\n",
    "\n",
    "arguments            : term (\",\" term)*\n",
    "\n",
    "term                :  NAME -> const\n",
    "            |        | variable -> var\n",
    "                     |  NAME \"(\" arguments \")\" -> fun_app\n",
    "\n",
    "\n",
    "FOF_QUANTIFIER       : \"!\" | \"?\"\n",
    "fof_variable_list    : variable (\",\" variable)*\n",
    "\n",
    "variable : UPPER_WORD\n",
    "\n",
    "NONASSOC_CONNECTIVE  : \"<=>\" | \"=>\" | \"<=\"  // | \"<~>\" | \"~|\" | \"~&\"\n",
    "\n",
    "NAME                 : LOWER_WORD\n",
    "UPPER_WORD           : UPPER_ALPHA ALPHA_NUMERIC*\n",
    "LOWER_WORD           : LOWER_ALPHA ALPHA_NUMERIC*\n",
    "NUMERIC              : \"0\"..\"9\"\n",
    "LOWER_ALPHA          : \"a\"..\"z\"\n",
    "UPPER_ALPHA          : \"A\"..\"Z\"\n",
    "ALPHA_NUMERIC        : (LOWER_ALPHA | UPPER_ALPHA | NUMERIC | \"_\") \n",
    "\n",
    "%import common.WS\n",
    "%ignore WS\n",
    "\n",
    "\"\"\"\n",
    "\n",
    "parser = lark.Lark(grammar, start=\"start\", parser=\"lalr\")\n",
    "t = parser.parse(\"fof(a, axiom, ![X,Y] : (foo(X) & bar(Y))).\")\n",
    "examples = [\n",
    "    \"fof(a, axiom, ![X,Y] : (foo(X) & bar(Y))).\",\n",
    "    \"fof(b, axiom, ![X,Y] : foo(X) <=> biz(Y)).\",\n",
    "]\n",
    "for e in examples:\n",
    "    t = parser.parse(e)\n",
    "print(parser.parse(\"fof(b, axiom, ![X,Y] : (foo(X) <=> biz(Y))).\").pretty())"
   ]
  },
  {
   "cell_type": "markdown",
   "metadata": {},
   "source": [
    "\n"
   ]
  },
  {
   "cell_type": "code",
   "execution_count": 1,
   "metadata": {},
   "outputs": [
    {
     "name": "stdout",
     "output_type": "stream",
     "text": [
      "Writing /tmp/g4ip.pl\n"
     ]
    }
   ],
   "source": [
    "%%file /tmp/g4ip.pl\n",
    "% https://www.cs.cmu.edu/~crary/317-f12/recitations/g4ip.pl\n",
    "\n",
    "% G4IP in Prolog\n",
    "\n",
    ":- op(840, xfy, =>).   % implies, right assoc\n",
    ":- op(830, xfy, \\/).   % or, right assoc\n",
    ":- op(820, xfy, /\\).   % and, right assoc\n",
    ":- op(800,  fy, ?).    % atom, prefix\n",
    "\n",
    "% Top-level predicates.\n",
    "\n",
    "prove(A) :-\n",
    "  seqR([], [], A).\n",
    "\n",
    "refute(A) :-\n",
    "  \\+ seqR([], [], A). % negation as failure\n",
    "\n",
    "% Auxiliary predicates.\n",
    "\n",
    "append_([], Ys, Ys).\n",
    "append_([X|Xs], Ys, [X|Zs]) :-\n",
    "  append_(Xs, Ys, Zs).\n",
    "\n",
    "memberchk_(X, [X|_]) :- !.\n",
    "memberchk_(X, [_|Ys]) :- memberchk_(X, Ys).\n",
    "\n",
    "% Implementation.\n",
    "\n",
    "% break down asynchronous propositions first -- right then left\n",
    "%   G = context of synchronous props\n",
    "%   O = context of props not yet processed\n",
    "% choose synchronous propositions -- right then left\n",
    "%   G = context of synchronous props not yet processed\n",
    "%   H = context of unused synchronous propositions\n",
    "\n",
    "% breaking asynchronous things down on the right\n",
    "seqR(O, G, A /\\ B) :-\n",
    "  seqR(O, G, A),\n",
    "  seqR(O, G, B).\n",
    "seqR(O, G, A => B) :-\n",
    "  seqR([A | O], G, B).\n",
    "seqR(_, _, tt).\n",
    "\n",
    "% synchronous prop encountered on the right -- switching to the left\n",
    "seqR(O, G, A \\/ B) :-\n",
    "  seqL(O, G, A \\/ B).\n",
    "seqR(O, G, ff) :-\n",
    "  seqL(O, G, ff).\n",
    "seqR(O, G, ?A) :-\n",
    "  seqL(O, G, ?A).\n",
    "\n",
    "% breaking asynchronous things down on the left\n",
    "seqL([A /\\ B | O], G, C) :-\n",
    "  seqL([A,B | O], G, C).\n",
    "seqL([A \\/ B | O], G, C) :-\n",
    "  seqL([A | O], G, C),\n",
    "  seqL([B | O], G, C).\n",
    "seqL([tt | O], G, C) :-\n",
    "  seqL(O, G, C).\n",
    "seqL([ff | _], _, _).\n",
    "seqL([(D /\\ E) => F | O], G, C) :-\n",
    "  seqL([D => (E => F) | O], G, C).\n",
    "seqL([tt => F | O], G, C) :-\n",
    "  seqL([F | O], G, C).\n",
    "seqL([ff => _ | O], G, C) :-\n",
    "  seqL(O, G, C).\n",
    "seqL([(D \\/ E)=>F | O], G, C) :-\n",
    "  seqL([D=>F, E=>F | O], G, C).\n",
    "\n",
    "% synchronous left encountered -- move to gamma context\n",
    "seqL([(?A) => D | O], G, C) :-\n",
    "  seqL(O, [(?A) => D | G], C).\n",
    "seqL([(D => E) => F | O], G, C) :-\n",
    "  seqL(O, [(D => E) => F | G], C).\n",
    "seqL([?A | O], G, C) :-\n",
    "  seqL(O, [?A | G], C).\n",
    "\n",
    "% context has been processed -- choose a synchronous rule\n",
    "seqL([], G, C) :- chooseR(G, C).\n",
    "seqL([], G, C) :- chooseL(G, [], C).\n",
    "\n",
    "% break down synchronous prop on the right\n",
    "chooseR(G, A \\/ B) :- seqR([], G, A).\n",
    "chooseR(G, A \\/ B) :- seqR([], G, B).\n",
    "chooseR(G, ?P) :- memberchk_(?P, G).\n",
    "% chooseR(G, ff) :- fail. % to force a goal to fail, don't include a rule.\n",
    "\n",
    "% break down synchronous prop on the left\n",
    "chooseL([?P | G], H, C) :-\n",
    "  chooseL(G, [?P | H], C).\n",
    "chooseL([(?P) => B | G], H, C) :-\n",
    "  append_(G, H, I),\n",
    "  memberchk_(?P, I),\n",
    "  !,\n",
    "  seqL([B], I, C).\n",
    "chooseL([(?P) => B | G], H, C) :-\n",
    "  chooseL(G, [(?P) => B | H], C).\n",
    "chooseL([(D => E) => B | G], H, C) :-\n",
    "  append_(G, H, I),\n",
    "  seqR([E => B, D], I, E),\n",
    "  seqL([B], I, C).\n",
    "chooseL([(D => E) => B | G], H, C) :-\n",
    "  chooseL(G, [(D => E) => B | H], C).\n",
    "% chooseL([], H, C) :- fail.\n",
    "\n",
    "% Tests.\n",
    "\n",
    "% prove( ?a => ?a ).\n",
    "% prove( ?a => (?b => ?a) ).\n",
    "% prove( (?a => ?b) => (?a => (?b => ?c)) => (?a => ?c) ).\n",
    "% prove( ?a /\\ ?b => ?b /\\ ?a ).\n",
    "% prove( ?a \\/ ?b => ?b \\/ ?a ).\n",
    "% prove( (?a \\/ ?c) /\\ (?b => ?c) => (?a => ?b) => ?c ).\n",
    "% refute( (?a => ?b \\/ ?c) => (?a => ?b) \\/ (?a => ?c) ).\n",
    "% prove( ((?a => ?b) \\/ (?a => ?c)) => (?a => ?b \\/ ?c) ).\n",
    "% refute( ((?a => ?b) => ?c) => ((?a \\/ ?b) /\\ (?b => ?c)) ).\n",
    "% prove( ((?a \\/ ?b) /\\ (?b => ?c)) => ((?a => ?b) => ?c) ).\n",
    "% prove( (?a => ?b) => (?b => ?c) => (?c => ?d) => (?a => ?d) ).\n",
    "% prove( (?a => ?b) => (?a => ?c) => ?a => ?b ).\n",
    "% prove( (?a => ?b) => (?a => ?c) => ?a => ?c ).\n",
    "% prove( ?a => (?a => ?b) => (?a => ?c) => ?b ).\n",
    "% prove( ?a => (?a => ?b) => (?a => ?c) => ?c ).\n",
    "% prove( (?a => ?b => ?c) => ?a => ?b => ?c ).\n",
    "% prove( (?a => ?b => ?c) => ?b => ?a => ?c ).\n",
    "% prove( ?a => ?b => (?a => ?b => ?c) => ?c ).\n",
    "% prove( ?b => ?a => (?a => ?b => ?c) => ?c ).\n",
    "% prove( (?a => ?b) => ?a => ?b ).\n",
    "% prove( ((?a => ?b) => ?c) => ((?a => ?b) => ?c) ).\n",
    "% prove( (((?a => ?b) => ?c) => ?d) => (((?a => ?b) => ?c) => ?d) ).\n",
    "% prove( ((((?a => ?b) => ?c) => ?d) => ?e)\n",
    "%                        => (((?a => ?b) => ?c) => ?d) => ?e ).\n",
    "% prove( (((((?a => ?b) => ?c) => ?d) => ?e) => ?f)\n",
    "%                        => ((((?a => ?b) => ?c) => ?d) => ?e) => ?f ).\n",
    "% prove( (((((?a => ?b) => ?c) => ?d) => ?e) => ?f)\n",
    "%                       => (((((?a => ?b) => ?c) => ?d) => ?e) => ?f)\n",
    "%                       \\/ (((((?a => ?b) => ?c) => ?d) => ?e) => ?f) ).\n",
    "% prove( ((?a => ?b) => ?c) => ?d => ?d \\/ ?d ).\n"
   ]
  },
  {
   "cell_type": "code",
   "execution_count": 7,
   "metadata": {},
   "outputs": [
    {
     "name": "stdout",
     "output_type": "stream",
     "text": [
      "\u001b[31mWarning: /tmp/g4ip.pl:83:\n",
      "Warning:    Singleton variables: [B]\n",
      "\u001b[0m\u001b[31mWarning: /tmp/g4ip.pl:84:\n",
      "Warning:    Singleton variables: [A]\n",
      "\u001b[0mWelcome to SWI-Prolog (threaded, 64 bits, version 9.3.15)\n",
      "SWI-Prolog comes with ABSOLUTELY NO WARRANTY. This is free software.\n",
      "Please run ?- license. for legal details.\n",
      "\n",
      "For online help and background, visit https://www.swi-prolog.org\n",
      "For built-in help, use ?- help(Topic). or ?- apropos(Word).\n",
      "\n",
      "?- ^C\n",
      "\n",
      "|    "
     ]
    }
   ],
   "source": [
    "! swipl /tmp/g4ip.pl -g \"prove((?a => ?a)).\""
   ]
  }
 ],
 "metadata": {
  "kernelspec": {
   "display_name": "Python 3",
   "language": "python",
   "name": "python3"
  },
  "language_info": {
   "codemirror_mode": {
    "name": "ipython",
    "version": 3
   },
   "file_extension": ".py",
   "mimetype": "text/x-python",
   "name": "python",
   "nbconvert_exporter": "python",
   "pygments_lexer": "ipython3",
   "version": "3.10.12"
  }
 },
 "nbformat": 4,
 "nbformat_minor": 2
}
