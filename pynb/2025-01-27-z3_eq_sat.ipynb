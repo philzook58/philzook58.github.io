{
 "cells": [
  {
   "cell_type": "markdown",
   "metadata": {},
   "source": [
    "---\n",
    "title: Egg-style Equality Saturation using only Z3\n",
    "date: 2025-01-27\n",
    "---\n",
    "\n",
    "An egraph is a data structure for storing many ground equalities at once in a highly shared way. Egg style equality saturation searches over this egraph for patterns and asserts nondestructive rewrites into the egraph. Once you're sick of doing that, you can use extract a best term from the egraph. This may enable you to avoid valleys that greedy rewriting may stick you in and makes the system more robust to the order of rewrites.\n",
    "\n",
    "Theorem provers, compilers and optimizers contain a lot of the same tech but are seen through the lens of distinct communities. An equational theorem provers are in the mode `term -> term -> bool` whereas a simplifier is used in the mode `term -> term`\n",
    "\n",
    "It is a design choice of these systems about whether to present a declarative or operational interface. Theorem provers have a tendency to present a declarative interface.\n",
    "\n",
    "From the declarative interface of an SMT solver it is hard to predict exactly what model the thing will return even though a naive operational picture of the solving process might make you think this or that might happen.\n",
    "\n",
    "Things like prolog or datalog or rewrite engines or egg have a semi-operational interface. It's kind of a really fun sweet spot where expertise in the system can enable you to push it in the direction you want.\n",
    "\n",
    "There are a number of cool pieces in SMT solvers and ATPs that as I've learned more about them, I wish I had direct operational access to. This is however a maintenance burden and a new API promise that the maintainers are right to be skeptical of offering. It isn't what they are in the business of, and I'm kind of a niche weirdo who just likes fiddling.\n",
    "\n",
    "Something that has been tantalizing is the egraph and ematching engine of Z3. [Egg](https://egraphs-good.github.io/)'s implementation of ematching is based off the [paper](https://leodemoura.github.io/files/ematching.pdf) describing z3's. Z3 offers a ton of extra goodies, and really importantly has great bindings in many languages.\n",
    "\n",
    "I've fiddled with sort of half way doing this https://www.philipzucker.com/ext_z3_egraph/ by reusing the AST of z3, but maintaining the egraph and performing the ematching on my own (via bottom up ematching, easy mode).\n",
    "\n",
    "A couple of APIs have opened up fairly recently though that makes it possible to reuse Z3's egraph and ematcher in this way. I realized this while I was using the `OnClause` callback functionality to extract instantiations for universally quantifier axioms in [knuckledragger](https://github.com/philzook58/knuckledragger), my low barrier LCF-style proof assistant seamlessly built around Z3.\n",
    "\n",
    "While you might think that asserting ground equalities into a Z3 solver object would be guaranteed to give you the expected minimal, it isn't always the case. If you only assert equalities, a valid model is one where everything maps to a single semantic object, while from the equality saturation perspective this is deriving more equalities.\n"
   ]
  },
  {
   "cell_type": "markdown",
   "metadata": {},
   "source": [
    "## Observing Quantifier Instantiations\n",
    "\n",
    "There is an api I learned of from here https://microsoft.github.io/z3guide/programming/Proof%20Logs/#callbacks-for-clause-inferences where you can get a callback on inferences. This includes quantifier instantiations.\n",
    "\n",
    "This is enough to infer a pile of ground equalities discovered by the e-matching engine. We can build a little function that records the equalities.\n",
    "\n",
    "Turning model based quantifier instantiation (mbqi) cleans up the results and I think makes it only use the e-matching engine.\n",
    "\n",
    "I figured out which parts contain the substitution and rule by just playing around. I'm not sure this is documented anywhere.\n",
    "\n",
    "A quantified axioms where the explicitly given pattern ought to behave similar to a rewrite rule in an equality saturation system.\n"
   ]
  },
  {
   "cell_type": "code",
   "execution_count": null,
   "metadata": {},
   "outputs": [],
   "source": [
    "import z3\n",
    "from collections import namedtuple\n",
    "# little namedtuple to store the pieces of a match. The rule matched, the substitution \n",
    "# and the ground equation derived by instantiating the rule with the subst\n",
    "Instan = namedtuple(\"Instan\", [\"rule\", \"subst\", \"eq\"])\n",
    "\n",
    "\n",
    "def find_instans(t : z3.ExprRef, rules : list[z3.ExprRef], timeout=1000) -> list[Instan]:\n",
    "    s = z3.Solver()\n",
    "    s.set(auto_config=False, mbqi=False)\n",
    "    instans = []\n",
    "    def log_instance(pr, clause, myst):\n",
    "        if z3.is_app(pr):\n",
    "            if pr.decl().name() == \"inst\":\n",
    "                instans.append(pr)\n",
    "    onc = z3.OnClause(s, log_instance)\n",
    "    s.set(timeout=timeout)\n",
    "    myterm = z3.Const(\"myterm\", t.sort()) # a marker to keep track of original term\n",
    "    s.add(myterm == t) # seed the egraph\n",
    "    for r in rules:\n",
    "        s.add(r)\n",
    "    res = s.check()\n",
    "\n",
    "    instans1 = []\n",
    "    for pr in instans:\n",
    "        quant_thm = pr.arg(0) # rule used\n",
    "        subst = pr.arg(2)     # substitution into quantifier\n",
    "        eq = z3.substitute_vars(quant_thm.body(), *reversed(subst.children())) # instantiate the rule\n",
    "        instans1.append(Instan(quant_thm, subst, eq))\n",
    "    return instans1"
   ]
  },
  {
   "cell_type": "markdown",
   "metadata": {},
   "source": [
    "We can try it on a little example with a rule `f(f(x)) -> x` and a start term `f(f(f(f(a))))`"
   ]
  },
  {
   "cell_type": "code",
   "execution_count": 93,
   "metadata": {},
   "outputs": [
    {
     "data": {
      "text/plain": [
       "[Instan(rule=ForAll(x, f(f(x)) == x), subst=bind(a), eq=f(f(a)) == a),\n",
       " Instan(rule=ForAll(x, f(f(x)) == x), subst=bind(f(a)), eq=f(f(f(a))) == f(a)),\n",
       " Instan(rule=ForAll(x, f(f(x)) == x), subst=bind(f(f(a))), eq=f(f(f(f(a)))) == f(f(a)))]"
      ]
     },
     "execution_count": 93,
     "metadata": {},
     "output_type": "execute_result"
    }
   ],
   "source": [
    "T = z3.DeclareSort(\"T\")\n",
    "a,x = z3.Consts(\"a x\", T)\n",
    "f = z3.Function(\"f\", T, T)\n",
    "ffffa = f(f(f(f(a))))\n",
    "r = z3.ForAll([x], f(f(x)) == x, patterns=[f(f(x))])\n",
    "instans = find_instans(ffffa, [r])\n",
    "instans"
   ]
  },
  {
   "cell_type": "markdown",
   "metadata": {},
   "source": [
    "You could package up the rewrite rules into a little helper function to auto insert the left hand side as the pattern. Saves a little typing"
   ]
  },
  {
   "cell_type": "code",
   "execution_count": null,
   "metadata": {},
   "outputs": [],
   "source": [
    "def rw(vs,lhs,rhs):\n",
    "    \"\"\"A different helper to construct the rule\"\"\"\n",
    "    return z3.ForAll(vs, lhs == rhs, patterns=[lhs])"
   ]
  },
  {
   "cell_type": "markdown",
   "metadata": {},
   "source": [
    "# Building an Egraph with SimpleSolver\n",
    "\n",
    "The other thing that happened is that the egraph was exposed via the [`root`](https://z3prover.github.io/api/html/classz3py_1_1_solver.html#ab26029a7ece4adeee450babb34385f8c) and [`next`](https://z3prover.github.io/api/html/classz3py_1_1_solver.html#ab8cbe275419e1cfccb693da044482e64) API functions. Nikolaj mentioned this in a tweet at some point.\n",
    "\n",
    "In order to use these, I think you need to use `s = SimpleSolver()`, assert your ground equalities and then run `s.check()`. This should alway be sat.\n",
    "\n",
    "The style of the API is a bit different from eggs presentation partially because the actual implementation I suspect is more pointery. The eclass is stored as a linked list of equivalent terms, each of which has a union find pointer to the root of the equivalence class. More about this here https://z3prover.github.io/papers/z3internals.html#sec-equality-and-uninterpreted-functions .\n",
    "\n",
    "`s.root(e)` will give back a canonical term representing the equivalence class of `e`. `s.next(e)` will give back the next term in the equivalence class of `e`.\n",
    "\n",
    "So after finding the equalities using the previous solver, we can assert them into a new solver and then extract the best term. The amount we're getting out this is marginal maybe compared to implementing our own egraph in this style https://www.philipzucker.com/ext_z3_egraph/ but it is pleasing to reuse z3 parts.\n"
   ]
  },
  {
   "cell_type": "code",
   "execution_count": 70,
   "metadata": {},
   "outputs": [
    {
     "data": {
      "text/html": [
       "[f(f(a)) = a, f(f(a)) = a, f(f(f(a))) = f(a), myterm = a]"
      ],
      "text/plain": [
       "[f(f(a)) == a,\n",
       " f(f(a)) == a,\n",
       " f(f(f(a))) == f(a),\n",
       " myterm == a]"
      ]
     },
     "execution_count": 70,
     "metadata": {},
     "output_type": "execute_result"
    }
   ],
   "source": [
    "type EGraph = z3.Solver\n",
    "\n",
    "def build_egraph(t : z3.ExprRef, eqs : list[z3.BoolRef]) -> EGraph:\n",
    "    s = z3.SimpleSolver()\n",
    "    myterm = z3.Const(\"myterm\", t.sort())\n",
    "    s.add(t == myterm) # seed the egraph\n",
    "    for eq in eqs:\n",
    "        assert z3.is_eq(eq)\n",
    "        s.add(eq)\n",
    "    s.check()\n",
    "    return s\n",
    "\n",
    "s = build_egraph(ffffa, [i.eq for i in instans])\n",
    "s"
   ]
  },
  {
   "cell_type": "markdown",
   "metadata": {},
   "source": [
    "When we need to look through the egraph, we need to discover the graph by depth first search from a starting node. There isn't a global way to look at the egraph so far as I know."
   ]
  },
  {
   "cell_type": "code",
   "execution_count": 73,
   "metadata": {},
   "outputs": [
    {
     "data": {
      "text/plain": [
       "{f(f(f(f(a)))): [f(f(f(f(a))))],\n",
       " f(a): [f(a), f(f(f(a)))],\n",
       " a: [a, myterm, f(f(a))]}"
      ]
     },
     "execution_count": 73,
     "metadata": {},
     "output_type": "execute_result"
    }
   ],
   "source": [
    "def egraph_dict(t :z3.ExprRef, s : EGraph) -> dict[z3.ExprRef, list[z3.ExprRef]]:\n",
    "    \"\"\"\n",
    "    Returns a dictionary mapping each root of the egraph to the \"enodes\" in the egraph\n",
    "    The children of these enode terms may be uncanonized.\n",
    "    \"\"\"\n",
    "    enode_table = {}\n",
    "    def dfs(t):\n",
    "        root = s.root(t)\n",
    "        if root in enode_table:\n",
    "            return\n",
    "        enodes = []\n",
    "        enode_table[root] = enodes\n",
    "        q = root\n",
    "        while True:\n",
    "            enodes.append(q)\n",
    "            for c in t.children():\n",
    "                dfs(c)\n",
    "            q = s.next(q)\n",
    "            if q.eq(root):\n",
    "                break\n",
    "    dfs(t)\n",
    "    return enode_table\n",
    "\n",
    "egraph_dict(ffffa, s)"
   ]
  },
  {
   "cell_type": "markdown",
   "metadata": {},
   "source": [
    "Here we see something rearing it's head. Somehow `f(f(f(f(a))))` is not really being shown being in the same eclass as `a`, but it does know it. Clearly we are on shaky ground.\n",
    "\n",
    "In any case, with this it is now possible to run a brute force extraction process. You can do better."
   ]
  },
  {
   "cell_type": "code",
   "execution_count": 92,
   "metadata": {},
   "outputs": [
    {
     "data": {
      "text/plain": [
       "{'cost': 1, 'term': a}"
      ]
     },
     "execution_count": 92,
     "metadata": {},
     "output_type": "execute_result"
    }
   ],
   "source": [
    "BestTerm = namedtuple(\"BestTerm\", [\"term\", \"cost\"])\n",
    "\n",
    "def init_eclass_table(t : z3.ExprRef, s : EGraph) -> dict[z3.ExprRef, BestTerm]:\n",
    "    \"\"\"\n",
    "    DFS the egraph and initilize a cost table to infinity\n",
    "    \"\"\"\n",
    "    eclasses = {}\n",
    "    def fill_eclass(t):\n",
    "        root = s.root(t)\n",
    "        if root not in eclasses:\n",
    "            q = root\n",
    "            while True:\n",
    "                eclasses[root] = {\"cost\": float(\"inf\"), \"term\":root}\n",
    "                for c in q.children():\n",
    "                    fill_eclass(c)\n",
    "                q = s.next(q)\n",
    "                if q.eq(root):\n",
    "                    break\n",
    "    fill_eclass(z3.Const(\"myterm\", t.sort()))\n",
    "    return eclasses\n",
    "    \n",
    "def find_best_term(t : z3.ExprRef, s : EGraph) -> BestTerm:\n",
    "    eclasses = init_eclass_table(t, s)\n",
    "    myterm = z3.Const(\"myterm\", t.sort())\n",
    "    for i in range(20): # Actually you should run to fixed point.\n",
    "        for eclass, cost_term in eclasses.items():\n",
    "            cost = cost_term[\"cost\"]\n",
    "            q = eclass\n",
    "            while True:\n",
    "                if q.eq(myterm): # don't extract the marker. Give it infinite cost\n",
    "                    newcost = float(\"inf\")\n",
    "                else:\n",
    "                    newcost = 1 + sum([eclasses[s.root(c)][\"cost\"] for c in q.children()])\n",
    "                if newcost < cost:\n",
    "                    best = q.decl()([eclasses[s.root(c)][\"term\"] for c in q.children()])    \n",
    "                    eclasses[eclass] = {\"cost\": newcost, \"term\": best}\n",
    "                q = s.next(q)\n",
    "                if q.eq(eclass):\n",
    "                    break\n",
    "    return eclasses[s.root(myterm)]\n",
    "\n",
    "find_best_term(ffffa, s)"
   ]
  },
  {
   "cell_type": "markdown",
   "metadata": {},
   "source": [
    "You can chain it together into an equality saturation routine"
   ]
  },
  {
   "cell_type": "code",
   "execution_count": 87,
   "metadata": {},
   "outputs": [
    {
     "data": {
      "text/plain": [
       "{'cost': 1, 'term': a}"
      ]
     },
     "execution_count": 87,
     "metadata": {},
     "output_type": "execute_result"
    }
   ],
   "source": [
    "def eqsat(t : z3.ExprRef, eqs : list[z3.BoolRef], timeout=1000) -> z3.ExprRef:\n",
    "    inst = find_instans(t, eqs, timeout=timeout) \n",
    "    s = build_egraph(t, [i.eq for i in inst])\n",
    "    best = find_best_term(t, s)\n",
    "    return best\n",
    "\n",
    "eqsat(ffffa, [r])"
   ]
  },
  {
   "cell_type": "markdown",
   "metadata": {},
   "source": [
    "Here is the canonical [egg](https://egraphs-good.github.io/) problem, as problematic as it may be. You don't want a bitshift optimization to interfere with a mul div optimization.\n",
    "\n",
    "![](https://egraphs-good.github.io/assets/egraphs.svg)"
   ]
  },
  {
   "cell_type": "code",
   "execution_count": 90,
   "metadata": {},
   "outputs": [
    {
     "data": {
      "text/plain": [
       "[Instan(rule=ForAll(x, mul(x, two) == lsh(x, one)), subst=bind(a), eq=mul(a, two) == lsh(a, one)),\n",
       " Instan(rule=ForAll([x, y], div(mul(x, y), y) == x), subst=bind(a, two), eq=div(mul(a, two), two) == a)]"
      ]
     },
     "execution_count": 90,
     "metadata": {},
     "output_type": "execute_result"
    }
   ],
   "source": [
    "T = z3.DeclareSort(\"T\")\n",
    "a,x,y = z3.Consts(\"a x y\", T)\n",
    "mul = z3.Function(\"mul\", T, T, T)\n",
    "div = z3.Function(\"div\", T, T, T)\n",
    "lsh = z3.Function(\"lsh\", T, T, T)\n",
    "#z3.ArithRef.__mul__ = mul\n",
    "#z3.ArithRef.__div__ = div\n",
    "\n",
    "one,two = z3.Consts(\"one two\", T)\n",
    "\n",
    "r1 = z3.ForAll([x], mul(x, two) == lsh(x,one) , patterns=[mul(x,two)])\n",
    "r2 = z3.ForAll([x,y], div(mul(x,y),y) == x, patterns=[div(mul(x,y),y)])\n",
    "\n",
    "find_instans(div(mul(a,two),two), [r1,r2])"
   ]
  },
  {
   "cell_type": "code",
   "execution_count": 91,
   "metadata": {},
   "outputs": [
    {
     "data": {
      "text/plain": [
       "{'cost': 1, 'term': a}"
      ]
     },
     "execution_count": 91,
     "metadata": {},
     "output_type": "execute_result"
    }
   ],
   "source": [
    "eqsat(div(mul(a,two),two), [r1,r2])"
   ]
  },
  {
   "cell_type": "markdown",
   "metadata": {},
   "source": [
    "# Bits and Bobbles\n",
    "While I did this in python, python accesses the C API so you could do it in C or C++. Then maybe the OnClause callback wouldn't be that bad performance wise?\n",
    "Regardless of that, z3 is pretty fast.\n",
    "\n",
    "Using the SimplerSolver egraph is dicey and possibly not worth it. Getting the ematcher through OnClause is the bigger win.\n",
    "\n",
    "The whole thing is a hack job. YMMV.\n",
    "\n",
    "If one made a horn clause rule, I'm not sure what it might do. Adding in boolean connectives like that may make the SAT bit activated.\n",
    "\n",
    "Does this lead to a road of nice theory integration?\n",
    "\n",
    "Zach I think has mentioned that hacking z3 to get an eq sat engine is something people have done, but it wasn't sustainable/maintainable. Going into the guts of z3 is a daunting proposition. It's nice that this uses surface features.\n",
    "\n",
    "https://x.com/BjornerNikolaj/status/1764793235246076313"
   ]
  },
  {
   "cell_type": "markdown",
   "metadata": {},
   "source": [
    "This was the pruner I was fiddling with for Knuckledragger. YOu can use the second stage solver to get unsat cores also to know which instantiations were actually useful. Giving this back to the user let's them instantiate them themselves in their proofs, leading to faster solver calls the next time around."
   ]
  },
  {
   "cell_type": "code",
   "execution_count": 96,
   "metadata": {},
   "outputs": [
    {
     "data": {
      "text/plain": [
       "{R(y, w): (ForAll([x, z], R(x, z)), [y, w])}"
      ]
     },
     "execution_count": 96,
     "metadata": {},
     "output_type": "execute_result"
    }
   ],
   "source": [
    "from kdrag.all import *\n",
    "def instans(thm, by=[], timeout=1000):\n",
    "    \"\"\"\n",
    "    Gather instantiations of quantifiers from Z3 trace\n",
    "    \"\"\"\n",
    "    s = smt.Solver()\n",
    "    s.set(\"timeout\", timeout)\n",
    "    for n, p in enumerate(by):\n",
    "        s.assert_and_track(p, \"KNUCKLEBY_{}\".format(n))\n",
    "    s.assert_and_track(smt.Not(thm), \"KNUCKLEGOAL\")\n",
    "    instans = []\n",
    "    def log_instance(pr, clause, myst):\n",
    "        if smt.is_app(pr):\n",
    "            if pr.decl().name() == \"inst\":\n",
    "                quant_thm = pr.arg(0)\n",
    "                target = pr.arg(1)\n",
    "                subst = pr.arg(2)\n",
    "                instans.append((quant_thm, subst.children()))\n",
    "    onc = smt.OnClause(s, log_instance)\n",
    "    s.check()\n",
    "    return instans\n",
    "\n",
    "\n",
    "R = smt.Function(\"R\", smt.IntSort(), smt.IntSort(), smt.BoolSort())\n",
    "x,y,z,w = smt.Ints(\"x y z w\")\n",
    "\n",
    "\n",
    "\n",
    "def prune_quant(thm, by=[]):\n",
    "    insts = instans(thm, by=by)\n",
    "    lemmas = [x for x in by if not isinstance(x, smt.QuantifierRef)] # could go deeper.\n",
    "    insts2 = { thm(*args) : (thm,args) for thm, args in insts}\n",
    "    lemmas.extend(insts2.keys())\n",
    "    needed = kd.utils.prune(thm, by=lemmas)\n",
    "    return { thm : inst for thm, inst in insts2.items() if thm in needed}\n",
    "\n",
    "\n",
    "instans(R(y,w), [smt.ForAll([x], R(x, x)), smt.ForAll([x,z], R(x, z))]) \n",
    "prune_quant(R(y,w), [smt.ForAll([x], R(x, x)), smt.ForAll([x,z], R(x, z))]) "
   ]
  },
  {
   "cell_type": "code",
   "execution_count": 34,
   "metadata": {},
   "outputs": [
    {
     "name": "stdout",
     "output_type": "stream",
     "text": [
      "assert unit f(f(a)) == a\n",
      "[f(f(a)) == a, myterm!1818 == a]\n",
      "[a = T!val!0,\n",
      " myterm!1818 = T!val!0,\n",
      " f = [T!val!1 -> T!val!0, else -> T!val!1]]\n",
      "{a: {'cost': 1, 'term': a}, f(a): {'cost': 2, 'term': f(a)}}\n"
     ]
    },
    {
     "data": {
      "text/plain": [
       "{'cost': 1, 'term': a}"
      ]
     },
     "execution_count": 34,
     "metadata": {},
     "output_type": "execute_result"
    }
   ],
   "source": [
    "import z3\n",
    "def eqsat(t : z3.ExprRef, rules : list[z3.ExprRef], timeout=1000):\n",
    "    # Run a quantifier instantiation run, recording all instantiations.\n",
    "    s = z3.Solver()\n",
    "    s.set(timeout=timeout)\n",
    "    s.set(auto_config=False, mbqi=False)\n",
    "\n",
    "    instans = []\n",
    "    def log_instance(pr, clause, myst):\n",
    "        if z3.is_app(pr):\n",
    "            if pr.decl().name() == \"inst\":\n",
    "                instans.append(pr)\n",
    "    onc = z3.OnClause(s, log_instance)\n",
    "\n",
    "    myterm = z3.FreshConst(t.sort(), prefix=\"myterm\")\n",
    "    s.add(myterm == t) # seed the egraph\n",
    "    for r in rules:\n",
    "        s.add(r)\n",
    "    res = s.check()\n",
    "    #print(instans)\n",
    "\n",
    "    # Build a new solver that won't see quantifiers. This is our egraph\n",
    "    s = z3.SimpleSolver()\n",
    "    s.add(t == myterm) # seed the egraph\n",
    "    for pr in instans:\n",
    "        quant_thm = pr.arg(0) # rule used\n",
    "        subst = pr.arg(2)     # substitution into quantifier\n",
    "        print(\"assert unit\", z3.substitute_vars(quant_thm.body(), *subst.children()))\n",
    "        s.add(z3.substitute_vars(quant_thm.body(), *subst.children()))\n",
    "    s.check()\n",
    "    print(s)\n",
    "    print(s.model())\n",
    "\n",
    "    eclasses = {}\n",
    "    def fill_eclass(t):\n",
    "        root = s.root(t)\n",
    "        if root not in eclasses:\n",
    "            q = root\n",
    "            while True:\n",
    "                eclasses[root] = {\"cost\": float(\"inf\"), \"term\":root}\n",
    "                for c in q.children():\n",
    "                    fill_eclass(c)\n",
    "                q = s.next(q)\n",
    "                if q.eq(root):\n",
    "                    break\n",
    "    fill_eclass(myterm)\n",
    "\n",
    "    # Iterate through dumbly to find lowest cost term\n",
    "    for i in range(10):\n",
    "        for eclass, cost_term in eclasses.items():\n",
    "            cost = cost_term[\"cost\"]\n",
    "            q = eclass\n",
    "            while True:\n",
    "                if myterm.eq(q):\n",
    "                    newcost = float(\"inf\")\n",
    "                else:\n",
    "                    newcost = 1 + sum([eclasses[s.root(c)][\"cost\"] for c in q.children()])\n",
    "                if newcost < cost:\n",
    "                    best = q.decl()([eclasses[s.root(c)][\"term\"] for c in q.children()])    \n",
    "                    eclasses[eclass] = {\"cost\": newcost, \"term\": best}\n",
    "                q = s.next(q)\n",
    "                if q.eq(eclass):\n",
    "                    break\n",
    "    print(eclasses)\n",
    "    return eclasses[s.root(myterm)]\n",
    "    # return model\n",
    "\n",
    "T = z3.DeclareSort(\"T\")\n",
    "a,x = z3.Consts(\"a x\", T)\n",
    "f = z3.Function(\"f\", T, T)\n",
    "r = z3.ForAll([x], f(f(x)) == x, patterns=[f(f(x))])\n",
    "eqsat(f(f(a)), [r])\n"
   ]
  },
  {
   "cell_type": "code",
   "execution_count": 61,
   "metadata": {},
   "outputs": [
    {
     "data": {
      "text/plain": [
       "{'cost': 1, 'term': a}"
      ]
     },
     "execution_count": 61,
     "metadata": {},
     "output_type": "execute_result"
    }
   ],
   "source": [
    "eqsat(f(f(f(f(a)))), [r])"
   ]
  },
  {
   "cell_type": "code",
   "execution_count": 62,
   "metadata": {},
   "outputs": [
    {
     "data": {
      "text/plain": [
       "{'cost': 2, 'term': f(a)}"
      ]
     },
     "execution_count": 62,
     "metadata": {},
     "output_type": "execute_result"
    }
   ],
   "source": [
    "eqsat(f(f(f(f(f(a))))), [r])"
   ]
  },
  {
   "cell_type": "code",
   "execution_count": 35,
   "metadata": {},
   "outputs": [
    {
     "name": "stdout",
     "output_type": "stream",
     "text": [
      "assert unit mul1(a, two) == lsh1(a, one)\n",
      "assert unit div1(mul1(two, a), a) == two\n",
      "[div1(mul1(a, two), two) == myterm!1819,\n",
      " mul1(a, two) == lsh1(a, one),\n",
      " div1(mul1(two, a), a) == two]\n",
      "[myterm!1819 = T!val!2,\n",
      " one = T!val!3,\n",
      " a = T!val!0,\n",
      " two = T!val!1,\n",
      " mul1 = [(T!val!1, T!val!0) -> T!val!5, else -> T!val!4],\n",
      " div1 = [(T!val!5, T!val!0) -> T!val!1, else -> T!val!2],\n",
      " lsh1 = [else -> T!val!4]]\n",
      "{myterm!1819: {'cost': 5, 'term': div1(mul1(a, two), two)}, lsh1(a, one): {'cost': 3, 'term': mul1(a, two)}, a: {'cost': 1, 'term': a}, one: {'cost': 1, 'term': one}, two: {'cost': 1, 'term': two}, mul1(two, a): {'cost': 3, 'term': mul1(two, a)}}\n"
     ]
    },
    {
     "data": {
      "text/plain": [
       "{'cost': 5, 'term': div1(mul1(a, two), two)}"
      ]
     },
     "execution_count": 35,
     "metadata": {},
     "output_type": "execute_result"
    }
   ],
   "source": [
    "T = z3.DeclareSort(\"T\")\n",
    "a,x,y = z3.Consts(\"a x y\", T)\n",
    "mul = z3.Function(\"mul1\", T, T, T)\n",
    "div = z3.Function(\"div1\", T, T, T)\n",
    "lsh = z3.Function(\"lsh1\", T, T, T)\n",
    "#z3.ArithRef.__mul__ = mul\n",
    "#z3.ArithRef.__div__ = div\n",
    "\n",
    "one,two = z3.Consts(\"one two\", T)\n",
    "\n",
    "r1 = z3.ForAll([x], mul(x, two) == lsh(x,one) , patterns=[mul(x,two)])\n",
    "r2 = z3.ForAll([x,y], div(mul(x,y),y) == x, patterns=[div(mul(x,y),y)])\n",
    "eqsat(div(mul(a,two),two), [r1,r2], timeout=4)\n",
    "#instans(div(mul(a,two),two), [r1,r2])\n"
   ]
  },
  {
   "cell_type": "markdown",
   "metadata": {},
   "source": [
    "\n"
   ]
  },
  {
   "cell_type": "code",
   "execution_count": null,
   "metadata": {},
   "outputs": [],
   "source": [
    "import z3\n",
    "def instans(thm, by=[], timeout=1000):\n",
    "    \"\"\"\n",
    "    Gather instantiations of quantifiers from Z3 trace\n",
    "    \"\"\"\n",
    "    s = smt.Solver()\n",
    "    s.set(\"timeout\", timeout)\n",
    "    for n, p in enumerate(by):\n",
    "        s.assert_and_track(p, \"KNUCKLEBY_{}\".format(n))\n",
    "    s.assert_and_track(smt.Not(thm), \"KNUCKLEGOAL\")\n",
    "    instans = []\n",
    "    def log_instance(pr, clause, myst):\n",
    "        if smt.is_app(pr):\n",
    "            if pr.decl().name() == \"inst\":\n",
    "                quant_thm = pr.arg(0)\n",
    "                target = pr.arg(1)\n",
    "                subst = pr.arg(2)\n",
    "                instans.append((quant_thm, subst.children()))\n",
    "    onc = smt.OnClause(s, log_instance)\n",
    "    s.check()\n",
    "    return instans\n",
    "\n",
    "\n",
    "R = smt.Function(\"R\", smt.IntSort(), smt.IntSort(), smt.BoolSort())\n",
    "x,y,z,w = smt.Ints(\"x y z w\")\n",
    "\n",
    "\n",
    "\n",
    "def prune_quant(thm, by=[]):\n",
    "    insts = instans(thm, by=by)\n",
    "    lemmas = [x for x in by if not isinstance(x, smt.QuantifierRef)] # could go deeper.\n",
    "    insts2 = { thm(*args) : (thm,args) for thm, args in insts}\n",
    "    lemmas.extend(insts2.keys())\n",
    "    needed = prune(thm, by=lemmas)\n",
    "    return { thm : inst for thm, inst in insts2.items() if thm in needed}\n",
    "\n",
    "\n",
    "instans(R(y,w), [smt.ForAll([x], R(x, x)), smt.ForAll([x,z], R(x, z))]) \n",
    "prune_quant(R(y,w), [smt.ForAll([x], R(x, x)), smt.ForAll([x,z], R(x, z))]) "
   ]
  },
  {
   "cell_type": "markdown",
   "metadata": {},
   "source": [
    "Prune\n",
    "Prune instantiation.\n",
    "\n"
   ]
  },
  {
   "cell_type": "code",
   "execution_count": null,
   "metadata": {},
   "outputs": [],
   "source": [
    "import z3\n",
    "\n",
    "egraph = SimpleSolver()\n",
    "s = Solver()\n",
    "\n",
    "for r in rules:\n",
    "    s.add(r)\n",
    "instans = []\n",
    "def on_clause():\n",
    "    if \"inst\":\n",
    "        instans.append(\"inst\")\n",
    "\n",
    "z3.OnClause()\n",
    "\n",
    "\n"
   ]
  }
 ],
 "metadata": {
  "kernelspec": {
   "display_name": ".venv",
   "language": "python",
   "name": "python3"
  },
  "language_info": {
   "codemirror_mode": {
    "name": "ipython",
    "version": 3
   },
   "file_extension": ".py",
   "mimetype": "text/x-python",
   "name": "python",
   "nbconvert_exporter": "python",
   "pygments_lexer": "ipython3",
   "version": "3.12.3"
  }
 },
 "nbformat": 4,
 "nbformat_minor": 2
}
