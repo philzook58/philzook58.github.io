{
 "cells": [
  {
   "cell_type": "markdown",
   "metadata": {},
   "source": [
    "---\n",
    "title: Symbolic Execution by Overloading `__bool__`\n",
    "date: 2024-12-23\n",
    "---\n",
    "\n",
    "A few months ago I saw a talk on buildit, https://buildit.so/ a really neat project. One thing I came away with was a neat trick for getting non-overloadable syntax to be overloadable.\n",
    "\n",
    "The interesting observation, which seems clear in hindsight (the best observations are), is that bool conversion _is_ overloadable by writing a `__bool__` function on the Z3 class. With a little hackery, you can record all the paths through a piece of fairly pure python code.\n",
    "\n",
    "\n",
    "# Partial Evaluation and MetaProgramming Z3\n",
    "\n",
    "I have noted for a while after tinkering with [MetaOCaml](https://okmij.org/ftp/ML/MetaOCaml.html) that metaprogramming z3 in python has a lot of the flavor of staged metaprogramming (big surprise? Maybe there's not much content to the observation).\n",
    "\n",
    "Some metaprogramming frameworks or styles look very different from unstaged code. You explicitly call all sorts of weird functions to construct code obects.\n",
    "\n",
    "A really cool flavor of staged metaprogramming takes the unstaged code and adds some annotations to get staged code. The more similar the staged code looks to the original, the better. It probably takes some kind of quotation, overloading, or introspection mechanism to achieve this.\n",
    "\n",
    "A canonical example of staged metaprogramming is unrolling a power function. Here is a simple example of an unstaged recursive power function operating on regular python ints."
   ]
  },
  {
   "cell_type": "code",
   "execution_count": 45,
   "metadata": {},
   "outputs": [
    {
     "data": {
      "text/plain": [
       "8"
      ]
     },
     "execution_count": 45,
     "metadata": {},
     "output_type": "execute_result"
    }
   ],
   "source": [
    "def mypow(x : int, n : int):\n",
    "    if n == 0:\n",
    "        return 1\n",
    "    else:\n",
    "        return x * mypow(x, n-1)\n",
    "    \n",
    "assert mypow(2, 3) == 8\n",
    "mypow(2,3)"
   ]
  },
  {
   "cell_type": "markdown",
   "metadata": {},
   "source": [
    "You can instead use very similar looking code to code gen using strings to represent code. f-strings make for some nice quotation mechanism. What is very cute is that the following looks just like the above. We interpret the parameter `n` as being known as \"compile time\"/static and the parameter `x` as being known as \"run time\"/dynamic."
   ]
  },
  {
   "cell_type": "code",
   "execution_count": 44,
   "metadata": {},
   "outputs": [
    {
     "data": {
      "text/plain": [
       "'x * x * x * 1'"
      ]
     },
     "execution_count": 44,
     "metadata": {},
     "output_type": "execute_result"
    }
   ],
   "source": [
    "def Code(t):return str\n",
    "def mypow(x : Code(int), n : int) -> Code(int):\n",
    "    if n == 0:\n",
    "        return \"1\"\n",
    "    else:\n",
    "        return f\"{x} * {mypow(x, n-1)}\"\n",
    "\n",
    "assert mypow(\"x\",3)  == \"x * x * x * 1\"\n",
    "mypow(\"x\",3)"
   ]
  },
  {
   "cell_type": "markdown",
   "metadata": {},
   "source": [
    "A very similar but more structure thing occurs if we consider z3 expressions to be \"code\". This actually gives us a tree thing to work with."
   ]
  },
  {
   "cell_type": "code",
   "execution_count": 43,
   "metadata": {},
   "outputs": [
    {
     "data": {
      "text/html": [
       "x&middot;x&middot;x&middot;1"
      ],
      "text/plain": [
       "x*x*x*1"
      ]
     },
     "execution_count": 43,
     "metadata": {},
     "output_type": "execute_result"
    }
   ],
   "source": [
    "import z3\n",
    "def code(typ):\n",
    "    if typ == int:\n",
    "        return z3.IntSort()\n",
    "def mypow(x : Code(int), n : int) -> Code(int):\n",
    "    if n == 0:\n",
    "        return 1\n",
    "    else:\n",
    "        return x * mypow(x, n-1)\n",
    "\n",
    "x = z3.Int(\"x\")\n",
    "assert mypow(x, 3).eq(x*(x*(x*1)))\n",
    "mypow(x,3)"
   ]
  },
  {
   "cell_type": "markdown",
   "metadata": {},
   "source": [
    "The role of \"static\" compile time is played by regular python values abd the role of \"dynamic\" is played by Z3 expressions. You can mush around things between compile and run time, doing more or less in the solver. Things like unrolling loops have a correspondence in unrolling quantifiers. Because z3 uses python's overloading, the same code can be used in the different ways with light annotations.\n",
    "\n",
    "I think of there being 2 notable design points of symbolic execution / . Do you throw all the branches into the solver or do you throw only a single path/trace into the solver over many queries. The difference between these approaches could be seen as stage mushing. Is the return value of the branch condition a static or dynamic bool?\n",
    "\n",
    "Some things in python really aren't overloadable though. `if-then-else` blocks, `while`, chained comparison, `and or not` operators are all not overloadable. So you need to change things around to use `z3.If`. This is kind of a bummer.\n",
    "\n",
    "\n"
   ]
  },
  {
   "cell_type": "markdown",
   "metadata": {},
   "source": [
    "## Overloading __bool__\n",
    "\n",
    "But actually, you can overload these features indirectly. When the conditions aren't bools, the overloadable `__bool__` function is called on the class. You can monkey patch in one to z3.\n",
    "\n",
    "This alone doesn't quite get you there, you need to run the function in question multiple times to explore all the paths. This is a version of symbolic execution, which is of interest on its own.\n",
    "\n",
    "You could probably do the same thing using the C++ Z3 bindings.\n",
    "\n",
    "I find this particular interesting as a way of using python code as a DSL. For example, I was trying to use an \"applicative\" subset of python as a logic akin to how ACL2 uses a subset of common lisp https://www.philipzucker.com/applicative_python/ but I was doing a traversal over the python AST, an ugly and verbose thing to do.\n",
    "\n",
    "I've seen similar problems in the tensor compiling or MLIR worlds. People kind of want python syntax at least for playing around. It is quite difficult to get a maintainable system though.\n"
   ]
  },
  {
   "cell_type": "code",
   "execution_count": 49,
   "metadata": {},
   "outputs": [
    {
     "data": {
      "text/plain": [
       "[([(x > 3) == True, (x == 4) == True], x),\n",
       " ([(x > 3) == True, (x == 4) == False], x - 2),\n",
       " ([(x > 3) == False], x*3)]"
      ]
     },
     "execution_count": 49,
     "metadata": {},
     "output_type": "execute_result"
    }
   ],
   "source": [
    "import random\n",
    "from z3 import *\n",
    "def symexec(*vs, limit=100):\n",
    "    def wrapper(f):\n",
    "        trace = []\n",
    "        traces = []\n",
    "        # a shared solver being pushed and popped is probably more efficient\n",
    "        s = Solver()\n",
    "        def branch(self):\n",
    "            # branch gets called on every branch (every time a z3 expression is asked to be converted to a concrete bool)\n",
    "            s.push()\n",
    "            s.add(And(trace)) # TODO: I could move push pop around to avoid this full push\n",
    "            # flip a coin. Probably that means any individual run will end.\n",
    "            # If there are no loops, being more deterministic is fine.\n",
    "            if random.random() < 0.5:\n",
    "                take = True\n",
    "            else:\n",
    "                take = False\n",
    "            # Is it possible to take the branch?\n",
    "            s.add(self == take)\n",
    "            res = s.check()\n",
    "            s.pop()\n",
    "            if res == sat:\n",
    "                # It was possible to take the branch\n",
    "                trace.append(self == take)\n",
    "                return take\n",
    "            else:\n",
    "                # it was not possible to take the branch\n",
    "                trace.append(self == (not take))\n",
    "                return not take\n",
    "        BoolRef.__bool__ = branch # monkey patch in the __bool__ overload\n",
    "        for i in range(limit):\n",
    "            if s.check() == unsat: # If no more branches possible, stop\n",
    "                break\n",
    "            trace = [] # reset the trace\n",
    "            res = f(*vs) # run the function\n",
    "            # res = z3.simplify(res) # might be nice.\n",
    "            traces.append((trace,res)) # record the result of the run\n",
    "            s.add(Not(And(trace))) # disallow exact trace again\n",
    "        BoolRef.__bool__ = None\n",
    "        return traces\n",
    "    return wrapper\n",
    "\n",
    "\n",
    "\n",
    "\n",
    "@symexec(z3.Int(\"x\"))\n",
    "def foo(x):\n",
    "    if x > 3:\n",
    "        if x == 4:\n",
    "            return x\n",
    "        else:\n",
    "            return x - 2\n",
    "    else:\n",
    "        return x*3\n",
    "    \n",
    "foo"
   ]
  },
  {
   "cell_type": "markdown",
   "metadata": {},
   "source": [
    "We can get niceties like comparator chaining"
   ]
  },
  {
   "cell_type": "code",
   "execution_count": 51,
   "metadata": {},
   "outputs": [
    {
     "data": {
      "text/plain": [
       "[([(y - 3 < x) == True, (x < y + 4) == True], x < y + 4),\n",
       " ([(y - 3 < x) == False, (y - 3 < x) == False], x > 3),\n",
       " ([(y - 3 < x) == True, (x < y + 4) == False], x > 3)]"
      ]
     },
     "execution_count": 51,
     "metadata": {},
     "output_type": "execute_result"
    }
   ],
   "source": [
    "@symexec(Int(\"x\"), Int(\"y\"))\n",
    "def comparison_example(x,y):\n",
    "    return y - 3 < x < y + 4 or x > 3\n",
    "comparison_example"
   ]
  },
  {
   "cell_type": "markdown",
   "metadata": {},
   "source": [
    "Or match statements"
   ]
  },
  {
   "cell_type": "code",
   "execution_count": 53,
   "metadata": {},
   "outputs": [
    {
     "data": {
      "text/plain": [
       "[([(x == 0) == False, (x == 2) == False], x*2),\n",
       " ([(x == 0) == False, (x == 2) == True], x + 14),\n",
       " ([(x == 0) == True], 1)]"
      ]
     },
     "execution_count": 53,
     "metadata": {},
     "output_type": "execute_result"
    }
   ],
   "source": [
    "@symexec(Int(\"x\"))\n",
    "def matcher(x):\n",
    "    match x:\n",
    "        case 0:\n",
    "            return 1\n",
    "        case 2:\n",
    "            return x + 14\n",
    "        case _:\n",
    "            return x * 2 \n",
    "matcher"
   ]
  },
  {
   "cell_type": "markdown",
   "metadata": {},
   "source": [
    "Or bounded whiles"
   ]
  },
  {
   "cell_type": "code",
   "execution_count": 54,
   "metadata": {},
   "outputs": [
    {
     "data": {
      "text/plain": [
       "[([(x > 0) == False], None),\n",
       " ([(x > 0) == True, (x < 10) == True, (x > 0) == True, (x - 2 > 0) == False],\n",
       "  0 + x - 2),\n",
       " ([(x > 0) == True,\n",
       "   (x < 10) == True,\n",
       "   (x > 0) == True,\n",
       "   (x - 2 > 0) == True,\n",
       "   (x - 2 - 2 > 0) == False],\n",
       "  0 + x - 2 + x - 2 - 2),\n",
       " ([(x > 0) == True,\n",
       "   (x < 10) == True,\n",
       "   (x > 0) == True,\n",
       "   (x - 2 > 0) == True,\n",
       "   (x - 2 - 2 > 0) == True,\n",
       "   (x - 2 - 2 - 2 > 0) == True,\n",
       "   (x - 2 - 2 - 2 - 2 > 0) == False],\n",
       "  0 + x - 2 + x - 2 - 2 + x - 2 - 2 - 2 + x - 2 - 2 - 2 - 2),\n",
       " ([(x > 0) == True, (x < 10) == False], None),\n",
       " ([(x > 0) == True,\n",
       "   (x < 10) == True,\n",
       "   (x > 0) == True,\n",
       "   (x - 2 > 0) == True,\n",
       "   (x - 2 - 2 > 0) == True,\n",
       "   (x - 2 - 2 - 2 > 0) == True,\n",
       "   (x - 2 - 2 - 2 - 2 > 0) == True,\n",
       "   (x - 2 - 2 - 2 - 2 - 2 > 0) == False],\n",
       "  0 +\n",
       "  x - 2 +\n",
       "  x - 2 - 2 +\n",
       "  x - 2 - 2 - 2 +\n",
       "  x - 2 - 2 - 2 - 2 +\n",
       "  x - 2 - 2 - 2 - 2 - 2),\n",
       " ([(x > 0) == True,\n",
       "   (x < 10) == True,\n",
       "   (x > 0) == True,\n",
       "   (x - 2 > 0) == True,\n",
       "   (x - 2 - 2 > 0) == True,\n",
       "   (x - 2 - 2 - 2 > 0) == False],\n",
       "  0 + x - 2 + x - 2 - 2 + x - 2 - 2 - 2)]"
      ]
     },
     "execution_count": 54,
     "metadata": {},
     "output_type": "execute_result"
    }
   ],
   "source": [
    "@symexec(Int(\"x\"))\n",
    "def bwhile(x):\n",
    "    if x > 0 and x < 10:\n",
    "        acc = 0\n",
    "        while x > 0:\n",
    "            x -= 2\n",
    "            acc += x\n",
    "        return acc\n",
    "bwhile"
   ]
  },
  {
   "cell_type": "markdown",
   "metadata": {},
   "source": [
    "We can also seek unbounded whiles, but then the output will be incomplete."
   ]
  },
  {
   "cell_type": "code",
   "execution_count": 60,
   "metadata": {},
   "outputs": [
    {
     "data": {
      "text/plain": [
       "[([(x > 0) == False], 0),\n",
       " ([(x > 0) == True, (x - 1 > 0) == False], 0 + x - 1),\n",
       " ([(x > 0) == True,\n",
       "   (x - 1 > 0) == True,\n",
       "   (x - 1 - 1 > 0) == True,\n",
       "   (x - 1 - 1 - 1 > 0) == False],\n",
       "  0 + x - 1 + x - 1 - 1 + x - 1 - 1 - 1),\n",
       " ([(x > 0) == True,\n",
       "   (x - 1 > 0) == True,\n",
       "   (x - 1 - 1 > 0) == True,\n",
       "   (x - 1 - 1 - 1 > 0) == True,\n",
       "   (x - 1 - 1 - 1 - 1 > 0) == False],\n",
       "  0 + x - 1 + x - 1 - 1 + x - 1 - 1 - 1 + x - 1 - 1 - 1 - 1),\n",
       " ([(x > 0) == True,\n",
       "   (x - 1 > 0) == True,\n",
       "   (x - 1 - 1 > 0) == True,\n",
       "   (x - 1 - 1 - 1 > 0) == True,\n",
       "   (x - 1 - 1 - 1 - 1 > 0) == True,\n",
       "   (x - 1 - 1 - 1 - 1 - 1 > 0) == False],\n",
       "  0 +\n",
       "  x - 1 +\n",
       "  x - 1 - 1 +\n",
       "  x - 1 - 1 - 1 +\n",
       "  x - 1 - 1 - 1 - 1 +\n",
       "  x - 1 - 1 - 1 - 1 - 1)]"
      ]
     },
     "execution_count": 60,
     "metadata": {},
     "output_type": "execute_result"
    }
   ],
   "source": [
    "@symexec(Int(\"x\"), limit=5)\n",
    "def bfor(x):\n",
    "    acc = 0\n",
    "    while x > 0:\n",
    "        x -= 1\n",
    "        acc += x\n",
    "    return acc\n",
    "bfor"
   ]
  },
  {
   "cell_type": "markdown",
   "metadata": {},
   "source": [
    "# Bits and Bobbles\n",
    "\n",
    "If I want to be careful, I should make sure limit is not reached and also if the result is ever None, a return was being forgotten.\n",
    "\n",
    "Could combine the technique with hypothesis to get concolic testing.\n",
    "\n",
    "I could probably recapture loops by noticing we have returned to a previously seen position by inspecting the stack that called `__bool__`. It would be awkeard though. Maybe one could also do it by recording way more info in the overloads, but this is a lot more work.\n",
    "\n",
    "\n",
    "https://docs.python.org/3/library/codecs.html#codecs.register\n",
    "https://docs.python.org/3/reference/import.html\n",
    "https://news.ycombinator.com/item?id=41322758 python's preprocessor. Fiendish macros.\n",
    "\n",
    "I have seen people do special stuff in jupyter. I don't rerally liek any of that\n",
    "\n",
    "Nelli\n",
    "Ast. Rewrite if elif else -> If\n",
    "rewrite return to null?\n",
    "Overloading kind of works, except \n",
    "and or not to And Or Not\n",
    "If\n",
    "rewrite x <= y <= z\n",
    "\n",
    "Some MLIR and other pytonh syntax using DSLs\n",
    "- https://github.com/makslevental/mlir-python-extras\n",
    "- https://github.com/spcl/pymlir - lark parse into mirrored thing\n",
    "- https://mlir.llvm.org/OpenMeetings/2023-12-21-PyDSL.pdf pydsl\n",
    "- https://github.com/SRI-CSL/filia\n",
    "- https://arxiv.org/pdf/2307.16080 nelli https://github.com/makslevental/nelli hmm. archived.\n",
    "Maybe these techniques could be useful for z3 reification.\n",
    "Rewrite AST + rewrite bytecode + overloading\n",
    "\n",
    "exocompiler and others.\n",
    "https://cap.csail.mit.edu/sites/default/files/research-pdfs/Codon-%20A%20Compiler%20for%20High-Performance%20Pythonic%20Applications%20and%20DSLs.pdf codon converts to llvm\n",
    "https://github.com/exaloop/codon\n",
    "\n",
    "could convert ifthenelse to `x if c else`.\n",
    "Nah.\n",
    "\n",
    "chococpy\n",
    "codon\n",
    "mypyc\n",
    "\n",
    "\n",
    "buildit style\n",
    "- https://buildit.so/\n",
    "- https://intimeand.space/docs/buildit.pdf\n",
    "\n",
    "\n",
    "Thermometer continuations\n",
    "- https://calwoo.github.io/posts/2020-02-12-thermometer_p1.html\n",
    "- https://github.com/jkoppel/thermometer-continuations\n",
    "- https://arxiv.org/abs/1710.10385 Capturing the Future by Replaying the Past\n",
    "\n",
    "dialectica and probing. Pierre Marie-Pedrot\n",
    "\n",
    "Symbolic execution by overloading __bool__\n",
    "\n",
    "Honestly using C++ in this way might be on the table. It is not easy to symbolically execute C++. Klee of course. But klee is quite an effort.\n",
    "\n",
    "Symcc has a partial evaluation vibe\n",
    "\n",
    "Using the same idea for partial eval? The trace starts by setting some variables.\n",
    "Concolic\n",
    "\n",
    "\n",
    "Actually detecting the loops seems hard since it isn't that we reach the loop again with the same expression.\n",
    "\n",
    "\n",
    "Concolic by using hypothesis.\n",
    "Decorator \"partial evals\"\n",
    "\n",
    "What does Rosette really offer over python + z3? I've never been clear on that https://docs.racket-lang.org/rosette-guide/index.html\n",
    "It does over the racket make a dsl thing if you're into that.\n",
    "\n",
    "Could switch out for Not based form."
   ]
  },
  {
   "cell_type": "markdown",
   "metadata": {},
   "source": [
    "\n"
   ]
  },
  {
   "cell_type": "markdown",
   "metadata": {},
   "source": [
    "Tagging the code string with other metadata is probable quite useful.\n",
    "You want it to fail early if the types make no sense.\n",
    "But then you can't use fstrings. :(\n",
    "    \n",
    "\n"
   ]
  },
  {
   "cell_type": "code",
   "execution_count": null,
   "metadata": {},
   "outputs": [],
   "source": [
    "from dataclasses import dataclass\n",
    "from typing import TypeVar\n",
    "T = TypeVar('T')\n",
    "@dataclass\n",
    "class Code[T]:\n",
    "    typ : T\n",
    "    code : str\n",
    "\n",
    "    def __add__(self):\n"
   ]
  },
  {
   "cell_type": "code",
   "execution_count": null,
   "metadata": {},
   "outputs": [],
   "source": [
    "def mypow(x:int,n:int) -> int:\n",
    "    assert n >= 0\n",
    "    if n == 0:\n",
    "        return 1\n",
    "    else:\n",
    "        x * mypow(x,n-1)\n",
    "\n",
    "# accumulator version?\n",
    "\n",
    "# string version\n",
    "# strings are a universal but somewhat structure free rep of code.\n",
    "Code = str\n",
    "def mypow2(n:int, x:Code) -> Code:\n",
    "    if x == 0:\n",
    "        return \"1\"\n",
    "    else:\n",
    "        f\"{x} * {mypow2(x,n-1)}\"\n",
    "\n",
    "mypow = lambda x,n: 1 if n <= 0 else x * mypow(x,n-1)\n",
    "\n",
    "mypow = Function(\"mypow\", IntSort(), IntSort(), IntSort())\n",
    "mypow_def = ForAll([x,n], mypow(n, x) == If(n <= 0, 1, x * mypow(n-1, x)))\n",
    "\n",
    "# Partially evaled\n",
    "def mypow(x:ExprRef, n:int) -> ExprRef:\n",
    "    if n == 0:\n",
    "        return IntVal(1)\n",
    "    else:\n",
    "        return x * mypow(x,n-1)\n",
    "\n"
   ]
  },
  {
   "cell_type": "code",
   "execution_count": null,
   "metadata": {},
   "outputs": [],
   "source": [
    "class Bool():\n",
    "    def __bool__(self):\n",
    "        print(\"asked\")\n",
    "        return True\n",
    "    \n",
    "\n",
    "b = Bool()\n",
    "if b:\n",
    "    print(\"yes\")\n",
    "else:\n",
    "    print(\"no\")\n",
    "\n",
    "import z3\n",
    "\n",
    "ctx = None\n",
    "path = []\n",
    "s = Solver()\n",
    "def record_bool():\n",
    "    s.check()\n",
    "    path.append()\n",
    "\n",
    "z3.BoolRef.__bool__ = lambda self, \n",
    "def reify(f, vs):\n",
    "    global ctx\n",
    "    ctx = [m]\n",
    "    while True:\n",
    "        retval = f(vs)\n",
    "        \n",
    "    ctx = None\n",
    "\n",
    "@reify\n",
    "def example(x):\n",
    "    if x == 7:\n",
    "        return 3\n",
    "    else:\n",
    "        if x > 14:\n",
    "            return 4\n",
    "        else:\n",
    "            return 5"
   ]
  },
  {
   "cell_type": "code",
   "execution_count": null,
   "metadata": {},
   "outputs": [],
   "source": [
    "from z3 import *\n",
    "import kdrag.smt as smt\n",
    "traces = []\n",
    "trace  = []\n",
    "def reset():\n",
    "    global trace\n",
    "\n",
    "    trace = []\n",
    "def record(self):\n",
    "    s = Solver()\n",
    "    for tr,res in traces:\n",
    "        s.add(smt.Not(smt.And(tr))) # we can't repeat the same trace.\n",
    "    s.add(smt.And(trace)) # currently this is true\n",
    "    s.add(self) # bias towards taking the branch\n",
    "    res = s.check()\n",
    "    if res == sat:\n",
    "        trace.append(self == True)\n",
    "        return True\n",
    "    else:\n",
    "        trace.append(self == False)\n",
    "        return False\n",
    "BoolRef.__bool__ = record\n",
    "x = Int(\"x\")\n",
    "\n",
    "def foo(x):\n",
    "    if x > 3:\n",
    "        if x == 4:\n",
    "            return x\n",
    "        else:\n",
    "            return x-1\n",
    "    else:\n",
    "        return x*3\n",
    "\n",
    "while True:\n",
    "    trace = []\n",
    "    res = foo(x)\n",
    "    if len(traces) > 0 and all( c1.eq(c2) for c1,c2 in zip(traces[-1][0],trace)):\n",
    "        break \n",
    "    traces.append((trace,res))\n",
    "traces\n",
    "\n",
    "# maybe a brute force is better?\n",
    "# could rejoin cases\n",
    "# could be way more efficient with sat solver queries.\n",
    "# loop detection?"
   ]
  },
  {
   "cell_type": "markdown",
   "metadata": {},
   "source": []
  },
  {
   "cell_type": "markdown",
   "metadata": {},
   "source": [
    "Hmm. Actually, doing it in order might be important for proper if then else resolution? No. I don't think so."
   ]
  },
  {
   "cell_type": "code",
   "execution_count": 18,
   "metadata": {},
   "outputs": [
    {
     "name": "stdout",
     "output_type": "stream",
     "text": [
      "[v0] []\n",
      "[v0] [([(v0 > 3) == True, (v0 == 4) == True], v0)]\n",
      "[v0] [([(v0 > 3) == True, (v0 == 4) == True], v0), ([(v0 > 3) == False], v0*3)]\n"
     ]
    },
    {
     "data": {
      "text/plain": [
       "[([(v0 > 3) == True, (v0 == 4) == True], v0),\n",
       " ([(v0 > 3) == False], v0*3),\n",
       " ([(v0 > 3) == True, (v0 == 4) == False], v0 - 2)]"
      ]
     },
     "execution_count": 18,
     "metadata": {},
     "output_type": "execute_result"
    }
   ],
   "source": []
  },
  {
   "cell_type": "code",
   "execution_count": 33,
   "metadata": {},
   "outputs": [
    {
     "name": "stdout",
     "output_type": "stream",
     "text": [
      "[v0] []\n"
     ]
    },
    {
     "data": {
      "text/plain": [
       "[([(v0 + 3 < v0) == False, (v0 + 3 < v0) == False], v0 > 3)]"
      ]
     },
     "execution_count": 33,
     "metadata": {},
     "output_type": "execute_result"
    }
   ],
   "source": [
    "@symexec(IntSort())\n",
    "def comp(x):\n",
    "    return x + 3 < x < x - 4 or x > 3\n",
    "comp"
   ]
  },
  {
   "cell_type": "markdown",
   "metadata": {},
   "source": [
    "Some ideas about compressing making prettier the output.\n",
    "\n",
    "We may wnat ot compile into if then else trees, then maybe how we'd arrange things is a big different."
   ]
  },
  {
   "cell_type": "code",
   "execution_count": 29,
   "metadata": {},
   "outputs": [
    {
     "name": "stdout",
     "output_type": "stream",
     "text": [
      "{}\n",
      "{(v0 > 3) == True: {(v0 == 4) == True: {'result': v0}}}\n",
      "{(v0 > 3) == True: {(v0 == 4) == True: {'result': v0}}, (v0 > 3) == False: {'result': v0*3}}\n"
     ]
    },
    {
     "ename": "TypeError",
     "evalue": "'NoneType' object is not callable",
     "output_type": "error",
     "traceback": [
      "\u001b[0;31m---------------------------------------------------------------------------\u001b[0m",
      "\u001b[0;31mTypeError\u001b[0m                                 Traceback (most recent call last)",
      "Cell \u001b[0;32mIn[29], line 34\u001b[0m\n\u001b[1;32m     31\u001b[0m t \u001b[38;5;241m=\u001b[39m {}\n\u001b[1;32m     32\u001b[0m store_trie(t, \u001b[38;5;124m\"\u001b[39m\u001b[38;5;124mabc\u001b[39m\u001b[38;5;124m\"\u001b[39m ,\u001b[38;5;241m3\u001b[39m )\n\u001b[0;32m---> 34\u001b[0m \u001b[43mtrace_trie\u001b[49m\u001b[43m(\u001b[49m\u001b[43mfoo\u001b[49m\u001b[43m)\u001b[49m\n\u001b[1;32m     35\u001b[0m t\n",
      "Cell \u001b[0;32mIn[29], line 22\u001b[0m, in \u001b[0;36mtrace_trie\u001b[0;34m(traces)\u001b[0m\n\u001b[1;32m     20\u001b[0m \u001b[38;5;28;01mfor\u001b[39;00m trace,res \u001b[38;5;129;01min\u001b[39;00m traces:\n\u001b[1;32m     21\u001b[0m     \u001b[38;5;28mprint\u001b[39m(trie)\n\u001b[0;32m---> 22\u001b[0m     \u001b[43mstore_trie\u001b[49m\u001b[43m(\u001b[49m\u001b[43mtrie\u001b[49m\u001b[43m,\u001b[49m\u001b[43m \u001b[49m\u001b[43mtrace\u001b[49m\u001b[43m,\u001b[49m\u001b[43m \u001b[49m\u001b[43mres\u001b[49m\u001b[43m)\u001b[49m\n\u001b[1;32m     23\u001b[0m \u001b[38;5;28;01mreturn\u001b[39;00m trie\n",
      "Cell \u001b[0;32mIn[29], line 13\u001b[0m, in \u001b[0;36mstore_trie\u001b[0;34m(trie, key, value)\u001b[0m\n\u001b[1;32m     10\u001b[0m node \u001b[38;5;241m=\u001b[39m trie\n\u001b[1;32m     11\u001b[0m \u001b[38;5;28;01mfor\u001b[39;00m k \u001b[38;5;129;01min\u001b[39;00m key:\n\u001b[0;32m---> 13\u001b[0m     \u001b[38;5;28;01mif\u001b[39;00m \u001b[43mk\u001b[49m\u001b[43m \u001b[49m\u001b[38;5;129;43;01mnot\u001b[39;49;00m\u001b[43m \u001b[49m\u001b[38;5;129;43;01min\u001b[39;49;00m\u001b[43m \u001b[49m\u001b[43mnode\u001b[49m:\n\u001b[1;32m     14\u001b[0m         node[k] \u001b[38;5;241m=\u001b[39m {}\n\u001b[1;32m     15\u001b[0m     node \u001b[38;5;241m=\u001b[39m node[k]\n",
      "\u001b[0;31mTypeError\u001b[0m: 'NoneType' object is not callable"
     ]
    }
   ],
   "source": [
    "def lookup_trie(trie, key):\n",
    "    node = trie\n",
    "    for k in key:\n",
    "        node = node.get(k)\n",
    "        if node is None:\n",
    "            return None\n",
    "    return node\n",
    "\n",
    "def store_trie(trie, key, value):\n",
    "    node = trie\n",
    "    for k in key:\n",
    "\n",
    "        if k not in node:\n",
    "            node[k] = {}\n",
    "        node = node[k]\n",
    "    node[\"result\"] = value\n",
    "\n",
    "def trace_trie(traces):\n",
    "    trie = {}\n",
    "    for trace,res in traces:\n",
    "        print(trie)\n",
    "        store_trie(trie, trace, res)\n",
    "    return trie\n",
    "\n",
    "def compress_trie(traces):\n",
    "    # If only one path, compress away that node\n",
    "    # If all paths have same result, compress away.\n",
    "    # probably best to do bottom up\n",
    "    pass\n",
    "\n",
    "t = {}\n",
    "store_trie(t, \"abc\" ,3 )\n",
    "\n",
    "trace_trie(foo)\n",
    "t"
   ]
  }
 ],
 "metadata": {
  "kernelspec": {
   "display_name": "Python 3",
   "language": "python",
   "name": "python3"
  },
  "language_info": {
   "codemirror_mode": {
    "name": "ipython",
    "version": 3
   },
   "file_extension": ".py",
   "mimetype": "text/x-python",
   "name": "python",
   "nbconvert_exporter": "python",
   "pygments_lexer": "ipython3",
   "version": "3.10.12"
  }
 },
 "nbformat": 4,
 "nbformat_minor": 2
}
