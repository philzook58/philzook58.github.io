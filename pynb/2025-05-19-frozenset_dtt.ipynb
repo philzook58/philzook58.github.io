{
 "cells": [
  {
   "cell_type": "markdown",
   "id": "fe35d3ee",
   "metadata": {},
   "source": [
    "---\n",
    "title: A Python frozenset interpretation of Dependent Type Theory\n",
    "date: 2025-05-19\n",
    "---\n",
    "\n",
    "TLDR. Types are basically sets. Why not python sets?\n",
    "\n",
    "I enjoy mixing the sacred and the profane. Making a python model clarifies complex topics for me and gives me something to do. The core intuition often comes from finitary computable examples.\n",
    "\n",
    "As in any sound-ish model, anything you can prove in dependent type theory (DTT) ought to be true here, but some things that are true here are not provable in DTT.\n",
    "\n",
    "I can see a theme with what I have done here and in the past. Other examples of me attempting a related kind of thing.\n",
    "\n",
    "- https://www.philipzucker.com/finiteset/ modelling some basic definitions using nested frozensets. This post is particularly modelled after that one\n",
    "- https://www.philipzucker.com/computational-category-theory-in-python-i-dictionaries-for-finset/ making a class to model categorical formulation of finite sets\n",
    "- https://www.philipzucker.com/a-short-skinny-on-relations-towards-the-algebra-of-programming/ algebra of programming / relation algebra using finite sets in haskell\n",
    "\n",
    "Try this notebook yourself in colab https://colab.research.google.com/github/philzook58/philzook58.github.io/blob/master/pynb/2025-05-19-frozenset_dtt.ipynb"
   ]
  },
  {
   "cell_type": "markdown",
   "id": "c482c429",
   "metadata": {},
   "source": [
    "# Basic Types\n",
    "\n",
    "While one may want to map dependent types into python types, the python type system is awkward, isn't that rich, and most importantly opens the door to considering objects that are too big to actually conclusively analyze and understand. A much simpler thing to attempt do is map dependent types into python sets, specifically frozensets.\n",
    "\n",
    "The base sets are pretty straightforward"
   ]
  },
  {
   "cell_type": "code",
   "execution_count": 3,
   "id": "910a297d",
   "metadata": {},
   "outputs": [],
   "source": [
    "type Type = frozenset\n",
    "\n",
    "Void = frozenset({})\n",
    "Unit = frozenset({()})\n",
    "Bool = frozenset({True, False})\n"
   ]
  },
  {
   "cell_type": "markdown",
   "id": "d1e41597",
   "metadata": {},
   "source": [
    "Note because I have made the choice of being extremely finite, I can't make a `frozenset` of all `int`. What I can do make finite sets of ranges of ints. The parameter `n` is a meta parameter. This does evoke the dependent type `Fin` https://leanprover-community.github.io/mathlib4_docs/Init/Prelude.html#Fin but maybe it isn't really because I can't internalize `int`."
   ]
  },
  {
   "cell_type": "code",
   "execution_count": 4,
   "id": "d3b5be1c",
   "metadata": {},
   "outputs": [
    {
     "data": {
      "text/plain": [
       "frozenset({0, 1, 2, 3})"
      ]
     },
     "execution_count": 4,
     "metadata": {},
     "output_type": "execute_result"
    }
   ],
   "source": [
    "def Fin(n : int) -> Type:\n",
    "    return frozenset(range(n))\n",
    "Fin(4)"
   ]
  },
  {
   "cell_type": "markdown",
   "id": "45446192",
   "metadata": {},
   "source": [
    "# Judgements\n",
    "\n",
    "A hallmark of Martin-Lof type theory is that it has a couple different judgements https://ncatlab.org/nlab/show/judgment .\n",
    "\n",
    "- $\\vdash A \\ type$  --- `A` is a type\n",
    "- $\\vdash t : A$  --- `t` has the type `A`\n",
    "- $\\vdash A \\equiv B$ --- type `A` is equal to type `B` definitionally\n",
    "- $\\vdash x \\equiv y : A$ ---  `x` and `y` are definitionally equal terms of type `A`\n",
    "\n",
    "These judgements can be mapped to python functions that check that they hold in the model. The claim of soundness of my model says that if you can derive the judgements syntactically using the appropriate inference rules, these python functions ought to return `True`.\n"
   ]
  },
  {
   "cell_type": "code",
   "execution_count": null,
   "id": "5c3aaa22",
   "metadata": {},
   "outputs": [],
   "source": [
    "def is_type(A: Type) -> bool: # |- A type\n",
    "    return isinstance(A, frozenset)\n",
    "assert is_type(Void)\n",
    "assert is_type(Unit)\n",
    "assert is_type(Bool)\n",
    "assert not is_type(False)\n",
    "assert not is_type(())"
   ]
  },
  {
   "cell_type": "code",
   "execution_count": null,
   "id": "54e313fd",
   "metadata": {},
   "outputs": [],
   "source": [
    "def has_type(t: object, A: Type) -> bool: # |- t : A\n",
    "    return t in A\n",
    "\n",
    "assert has_type((), Unit)\n",
    "assert not has_type((), Bool)\n",
    "assert has_type(True, Bool)\n",
    "assert not has_type(True, Void)"
   ]
  },
  {
   "cell_type": "code",
   "execution_count": null,
   "id": "02ab9a97",
   "metadata": {},
   "outputs": [],
   "source": [
    "def eq_type(A: Type, B: Type) -> bool: # |- A = B type\n",
    "    return A == B\n",
    "def def_eq(x : object, y: object, A : Type) -> bool: # |- x = y : A\n",
    "    return x == y and has_type(x, A) and has_type(y, A)"
   ]
  },
  {
   "cell_type": "markdown",
   "id": "60cc88b7",
   "metadata": {},
   "source": [
    "# Type constructors\n",
    "\n",
    "Two canonical things you want to talk about in type theory are [dependent sum](https://en.wikipedia.org/wiki/Dependent_type#%CE%A3_type) $\\sum$  and [dependent function](https://en.wikipedia.org/wiki/Dependent_type#%CE%A0_type) $\\Pi$ types.\n",
    "\n",
    "To build these things, you want the notion of a family of sets https://en.wikipedia.org/wiki/Family_of_sets, aka a function that returns a set. \"Type family\" has a connotation of type theory, but it is also a perfectly valid topic in ordinary set theory as merely an indexed family of sets. You may want to union, intersect, or cartesian product over this family. See Halmos Naive Set Theory Chapter 9 for example. \n",
    "\n",
    "In terms of python, I remain a little confused on what is the right thing to do, but I chose to use python functions to describe my notion of `Family`. I think maybe a family is any python expression that uses variables into context to build a `frozenset`, which is related but a little different.\n",
    "\n",
    "The dependent aspect of this dependent type can be clearly see in `B(a)`. While dependent types may sound exotic, a python function that returns a set is not exotic. It is also not exotic to have nested `for` loops where the thing you search over has a dependency on the previous `for` loop parameters. One place this shows up is as a way to implement obvious pruning in a naive loop based brute force search.\n"
   ]
  },
  {
   "cell_type": "code",
   "execution_count": 8,
   "id": "cec1d547",
   "metadata": {},
   "outputs": [
    {
     "data": {
      "text/plain": [
       "frozenset({(True, ())})"
      ]
     },
     "execution_count": 8,
     "metadata": {},
     "output_type": "execute_result"
    }
   ],
   "source": [
    "from typing import Callable\n",
    "type Family = Callable[[object], Type]\n",
    "\n",
    "def Sigma(A: Type, B: Family) -> Type:\n",
    "    return frozenset({(a, b) for a in A for b in B(a)})\n",
    "Sigma(Bool, lambda x: Unit if x else Void)"
   ]
  },
  {
   "cell_type": "markdown",
   "id": "36f7aa1c",
   "metadata": {},
   "source": [
    "`Pair` is the the version of this that doesn't use the dependency"
   ]
  },
  {
   "cell_type": "code",
   "execution_count": 9,
   "id": "2127585f",
   "metadata": {},
   "outputs": [
    {
     "data": {
      "text/plain": [
       "frozenset({(False, 0),\n",
       "           (False, 1),\n",
       "           (False, 2),\n",
       "           (True, 0),\n",
       "           (True, 1),\n",
       "           (True, 2)})"
      ]
     },
     "execution_count": 9,
     "metadata": {},
     "output_type": "execute_result"
    }
   ],
   "source": [
    "def Pair(A : Type, B: Type) -> Type:\n",
    "    return Sigma(A, lambda x: B)\n",
    "Pair(Bool, Fin(3))"
   ]
  },
  {
   "cell_type": "markdown",
   "id": "8c0b2d07",
   "metadata": {},
   "source": [
    "For dependent functions, we want to build a `frozenset` of something \"functionlike\". Dictionaries are basically functions with `foo(bar)` replace with `foo[bar]`. You can do this as long as the function has finite domain, which we do here.\n",
    "\n",
    "While `frozenset` is a python built in, `frozendict` is not. There is a library though https://pypi.org/project/frozendict/ . The reason I need frozen versions I because I want to hash these things and make them keys and elements of further dicts and sets.\n",
    "\n",
    "The way `Pi` works is by selecting every possible choice for every value of the input. The fact that I use `itertools.product` makes sense because dependent functions are sometimes called dependent product and have a notation $\\Pi_{x : A} B(x)$\n"
   ]
  },
  {
   "cell_type": "code",
   "execution_count": null,
   "id": "d36d2074",
   "metadata": {},
   "outputs": [],
   "source": [
    "! python3 -m pip install frozendict"
   ]
  },
  {
   "cell_type": "code",
   "execution_count": 10,
   "id": "2dac5be9",
   "metadata": {},
   "outputs": [
    {
     "data": {
      "text/plain": [
       "frozenset({frozendict.frozendict({False: 0, True: False}),\n",
       "           frozendict.frozendict({False: 0, True: True}),\n",
       "           frozendict.frozendict({False: 1, True: False}),\n",
       "           frozendict.frozendict({False: 1, True: True})})"
      ]
     },
     "execution_count": 10,
     "metadata": {},
     "output_type": "execute_result"
    }
   ],
   "source": [
    "from frozendict import frozendict\n",
    "import itertools\n",
    "def Pi(A : Type, B : Family) -> Type:\n",
    "    Alist = list(A)\n",
    "    return frozenset(frozendict({k:v for k,v in zip(Alist, bvs)}) for bvs in itertools.product(*[B(a) for a in Alist]))\n",
    "Pi(Bool, lambda x: Bool if x else Fin(2))"
   ]
  },
  {
   "cell_type": "markdown",
   "id": "0ab5f9be",
   "metadata": {},
   "source": [
    "Non dependent functions just throw away the argument."
   ]
  },
  {
   "cell_type": "code",
   "execution_count": 11,
   "id": "02f29ceb",
   "metadata": {},
   "outputs": [
    {
     "data": {
      "text/plain": [
       "frozenset({frozendict.frozendict({False: 0, True: 0}),\n",
       "           frozendict.frozendict({False: 0, True: 1}),\n",
       "           frozendict.frozendict({False: 0, True: 2}),\n",
       "           frozendict.frozendict({False: 1, True: 0}),\n",
       "           frozendict.frozendict({False: 1, True: 1}),\n",
       "           frozendict.frozendict({False: 1, True: 2}),\n",
       "           frozendict.frozendict({False: 2, True: 0}),\n",
       "           frozendict.frozendict({False: 2, True: 1}),\n",
       "           frozendict.frozendict({False: 2, True: 2})})"
      ]
     },
     "execution_count": 11,
     "metadata": {},
     "output_type": "execute_result"
    }
   ],
   "source": [
    "def Arr(A : Type, B: Type) -> Type:\n",
    "    return Pi(A, lambda x: B)\n",
    "Arr(Bool, Fin(3))"
   ]
  },
  {
   "cell_type": "markdown",
   "id": "5645a230",
   "metadata": {},
   "source": [
    "We can also have sum types, which are pretty straightforward."
   ]
  },
  {
   "cell_type": "code",
   "execution_count": 12,
   "id": "1daa3f21",
   "metadata": {},
   "outputs": [
    {
     "data": {
      "text/plain": [
       "frozenset({('inl', False), ('inl', True), ('inr', 0), ('inr', 1)})"
      ]
     },
     "execution_count": 12,
     "metadata": {},
     "output_type": "execute_result"
    }
   ],
   "source": [
    "def Sum(A : Type, B: Type) -> Type:\n",
    "    return frozenset({(\"inl\", a) for a in A} | {(\"inr\", b) for b in B})\n",
    "Sum(Bool, Fin(2))"
   ]
  },
  {
   "cell_type": "markdown",
   "id": "83b66ca3",
   "metadata": {},
   "source": [
    "# Telescoped Contexts\n",
    "\n",
    "The dependent typing context $\\Gamma$ aka telescope https://ncatlab.org/nlab/show/type+telescope is a central piece of dependent type theory. Just as the things that are types are runtime values, the things that are typing contexts are runtime environments. While I could reify it as a data structure, I actually think there is a nice shallow version of it in the form of python set comprehension notation.\n",
    "\n",
    "The context here is somewhat identified with the python context. We can reify this python context using `locals` https://docs.python.org/3/library/functions.html#locals if we so choose, which is kind of an interesting feature from a PL perspective. It's a reification that has a flavor akin to call/cc but maybe not discussed as much."
   ]
  },
  {
   "cell_type": "code",
   "execution_count": 13,
   "id": "daf2fa59",
   "metadata": {},
   "outputs": [
    {
     "name": "stdout",
     "output_type": "stream",
     "text": [
      "{'x': False, 'y': 0}\n",
      "{'x': False, 'y': 1}\n",
      "{'x': True, 'y': ()}\n"
     ]
    }
   ],
   "source": [
    "def ctx_example():\n",
    "    for x in Bool:\n",
    "        for y in Unit if x else Fin(2):\n",
    "            print(locals())\n",
    "ctx_example()"
   ]
  },
  {
   "cell_type": "markdown",
   "id": "dd903221",
   "metadata": {},
   "source": [
    "The telescoping character that the Types can depend on the previously bound variables in the telescope comes naturally with the structure of `for` loops. Syntactically, the order of the expressions in the comprehension is flipped compared to what is the typically convention in type theory. It looks more like `A type -| Gam` than `Gam |- A Type`\n",
    "\n",
    "Iin other words, I am for serious interpreting the telescope context $x : A, y : B(y), z : C(x,y)$ with the python textual code `for x in A for y in B(x) for z in C(x,y)`\n",
    "\n",
    "All the judgments can be extended to being hypothetical judgements by making a comprehension wrapped in an `all`"
   ]
  },
  {
   "cell_type": "code",
   "execution_count": 14,
   "id": "4c00d4c5",
   "metadata": {},
   "outputs": [],
   "source": [
    "assert all(is_type(Void if x else Unit) for x in Bool) # x : Bool |- ite(x,Void,Unit) Type\n",
    "assert all(has_type(y, Unit) for x in Bool for y in (Void if x else Unit)) # x : Bool, y : ite(x,Void,Unit) |- y : Unit"
   ]
  },
  {
   "cell_type": "markdown",
   "id": "32cbba22",
   "metadata": {},
   "source": [
    "# Vec\n",
    "Vec is a common example of a dependent type."
   ]
  },
  {
   "cell_type": "code",
   "execution_count": 15,
   "id": "1171f615",
   "metadata": {},
   "outputs": [
    {
     "data": {
      "text/plain": [
       "frozenset({frozendict.frozendict({0: (), 1: (False,), 2: (False, False)}),\n",
       "           frozendict.frozendict({0: (), 1: (False,), 2: (False, True)}),\n",
       "           frozendict.frozendict({0: (), 1: (False,), 2: (True, False)}),\n",
       "           frozendict.frozendict({0: (), 1: (False,), 2: (True, True)}),\n",
       "           frozendict.frozendict({0: (), 1: (True,), 2: (False, False)}),\n",
       "           frozendict.frozendict({0: (), 1: (True,), 2: (False, True)}),\n",
       "           frozendict.frozendict({0: (), 1: (True,), 2: (True, False)}),\n",
       "           frozendict.frozendict({0: (), 1: (True,), 2: (True, True)})})"
      ]
     },
     "execution_count": 15,
     "metadata": {},
     "output_type": "execute_result"
    }
   ],
   "source": [
    "def Vec(A : Type, n : int) -> Type:\n",
    "    return frozenset(itertools.product(A, repeat=n))\n",
    "\n",
    "Pi(Fin(3), lambda x: Vec(Bool, x)) # Functions that can returns lists less than size 3"
   ]
  },
  {
   "cell_type": "code",
   "execution_count": 16,
   "id": "5f1160cc",
   "metadata": {},
   "outputs": [
    {
     "data": {
      "text/plain": [
       "frozenset({(0, ()),\n",
       "           (1, (False,)),\n",
       "           (1, (True,)),\n",
       "           (2, (False, False)),\n",
       "           (2, (False, True)),\n",
       "           (2, (True, False)),\n",
       "           (2, (True, True))})"
      ]
     },
     "execution_count": 16,
     "metadata": {},
     "output_type": "execute_result"
    }
   ],
   "source": [
    "Sigma(Fin(3), lambda x: Vec(Bool, x)) # A sum over all lists of size less than 3"
   ]
  },
  {
   "cell_type": "markdown",
   "id": "806d14ac",
   "metadata": {},
   "source": [
    "# Identity\n",
    "\n",
    "Everything is too decidable and makes the distinction between propositional and definitional equality too hard to notice. Also it is quite extensional.\n",
    "\n",
    "Nevertheless, we can construct a type family akin to an Identity type. https://ncatlab.org/nlab/show/subsingleton"
   ]
  },
  {
   "cell_type": "code",
   "execution_count": 17,
   "id": "ac6d03e2",
   "metadata": {},
   "outputs": [],
   "source": [
    "def Id(A : Type, x : object, y : object) -> Type:\n",
    "    return frozenset({\"refl\"}) if x == y else frozenset()"
   ]
  },
  {
   "cell_type": "code",
   "execution_count": 18,
   "id": "142137ca",
   "metadata": {},
   "outputs": [
    {
     "data": {
      "text/plain": [
       "frozenset()"
      ]
     },
     "execution_count": 18,
     "metadata": {},
     "output_type": "execute_result"
    }
   ],
   "source": [
    "Pi(Bool, lambda x: Pi(Bool, lambda y: Id(Bool, x, y))) # forall x y, x = y There is no such function"
   ]
  },
  {
   "cell_type": "code",
   "execution_count": 19,
   "id": "9c3269b4",
   "metadata": {},
   "outputs": [
    {
     "data": {
      "text/plain": [
       "frozenset({frozendict.frozendict({False: frozendict.frozendict({False: frozendict.frozendict({'refl': 'refl'}), True: frozendict.frozendict({})}), True: frozendict.frozendict({False: frozendict.frozendict({}), True: frozendict.frozendict({'refl': 'refl'})})})})"
      ]
     },
     "execution_count": 19,
     "metadata": {},
     "output_type": "execute_result"
    }
   ],
   "source": [
    "Pi(Bool, lambda x: Pi(Bool, lambda y: Pi(Id(Bool, y, x), lambda p: Id(Bool, x, y)))) # forall x y : Bool, forall p : Id(Bool, y, x), Id(Bool, x, y)"
   ]
  },
  {
   "cell_type": "code",
   "execution_count": 20,
   "id": "b56916e8",
   "metadata": {},
   "outputs": [
    {
     "data": {
      "text/plain": [
       "True"
      ]
     },
     "execution_count": 20,
     "metadata": {},
     "output_type": "execute_result"
    }
   ],
   "source": [
    "all([has_type(p, Id(Bool,y,x)) for x in Bool for y in Bool for p in Id(Bool,x,y)])"
   ]
  },
  {
   "cell_type": "code",
   "execution_count": 21,
   "id": "16578dfc",
   "metadata": {},
   "outputs": [
    {
     "data": {
      "text/plain": [
       "True"
      ]
     },
     "execution_count": 21,
     "metadata": {},
     "output_type": "execute_result"
    }
   ],
   "source": [
    "all([has_type(p, Id(Bool,y,x)) for x in Bool for y in Bool for p in Id(Bool,x,y)])"
   ]
  },
  {
   "cell_type": "code",
   "execution_count": 22,
   "id": "3a3fe408",
   "metadata": {},
   "outputs": [],
   "source": [
    "def BasedId(A : Type, x : object) -> Family:\n",
    "    return lambda y: Id(A, x, y)"
   ]
  },
  {
   "cell_type": "markdown",
   "id": "c9d9cf38",
   "metadata": {},
   "source": [
    "# Universes\n",
    "Universes are big. They are the things that contains Types. https://ncatlab.org/nlab/show/type+universe https://en.wikipedia.org/wiki/Universe_(mathematics) https://en.wikipedia.org/wiki/Constructible_universe\n",
    "\n",
    "Note that frozensets can't have a set be an element of itself without trickery. So we need a universe level for that so we can quantify over types and types of types, etc. https://agda.readthedocs.io/en/latest/language/universe-levels.html https://lean-lang.org/functional_programming_in_lean/dependent-types/indices-parameters-universes.html https://en.wikipedia.org/wiki/Axiom_of_regularity https://ncatlab.org/nlab/show/axiom+of+foundation https://en.wikipedia.org/wiki/System_U https://ncatlab.org/nlab/show/Burali-Forti%27s+paradox\n",
    "\n",
    "But also if we include all applications of `Arr` and `Pair` etc in our smallest universe, then it isn't a finite set. So another parameter that controls the depth of applications of the constructors also seems like a reasonable thing to do."
   ]
  },
  {
   "cell_type": "code",
   "execution_count": 23,
   "id": "d438238f",
   "metadata": {},
   "outputs": [
    {
     "data": {
      "text/plain": [
       "frozenset({frozenset(), frozenset({False, True}), frozenset({()})})"
      ]
     },
     "execution_count": 23,
     "metadata": {},
     "output_type": "execute_result"
    }
   ],
   "source": [
    "def U(n : int, l : int) -> Type:\n",
    "    if l > 0:\n",
    "        u = U(n, l-1)\n",
    "        return u | frozenset([u]) # Cumulative\n",
    "    elif n > 0:\n",
    "        u = U(n-1, 0)\n",
    "        # TODO also the Pi and Sigma\n",
    "        return u | frozenset([Arr(A,B) for A in u for B in u]) | frozenset([Pair(A,B) for A in u for B in u]) | frozenset([Fin(n)])\n",
    "    else:\n",
    "        return frozenset([Unit, Bool, Void])\n",
    "    \n",
    "U(0,0) # base universe"
   ]
  },
  {
   "cell_type": "code",
   "execution_count": 24,
   "id": "783fb6ea",
   "metadata": {},
   "outputs": [
    {
     "data": {
      "text/plain": [
       "frozenset({frozenset(),\n",
       "           frozenset({False, True}),\n",
       "           frozenset({()}),\n",
       "           frozenset({frozenset(),\n",
       "                      frozenset({False, True}),\n",
       "                      frozenset({()})})})"
      ]
     },
     "execution_count": 24,
     "metadata": {},
     "output_type": "execute_result"
    }
   ],
   "source": [
    "U(0,1) # One level up."
   ]
  },
  {
   "cell_type": "code",
   "execution_count": 25,
   "id": "cfa2b208",
   "metadata": {},
   "outputs": [
    {
     "data": {
      "text/plain": [
       "True"
      ]
     },
     "execution_count": 25,
     "metadata": {},
     "output_type": "execute_result"
    }
   ],
   "source": [
    "has_type(U(0,0), U(0,1)) # U(0,0) : U(0,1)"
   ]
  },
  {
   "cell_type": "code",
   "execution_count": 26,
   "id": "f40cfab3",
   "metadata": {},
   "outputs": [
    {
     "data": {
      "text/plain": [
       "frozenset({frozenset(),\n",
       "           frozenset({((), False), ((), True)}),\n",
       "           frozenset({()}),\n",
       "           frozenset({frozendict.frozendict({False: (), True: ()})}),\n",
       "           frozenset({frozendict.frozendict({(): False}),\n",
       "                      frozendict.frozendict({(): True})}),\n",
       "           frozenset({False, True}),\n",
       "           frozenset({((), ())}),\n",
       "           frozenset({frozendict.frozendict({})}),\n",
       "           frozenset({frozendict.frozendict({False: False, True: False}),\n",
       "                      frozendict.frozendict({False: False, True: True}),\n",
       "                      frozendict.frozendict({False: True, True: False}),\n",
       "                      frozendict.frozendict({False: True, True: True})}),\n",
       "           frozenset({(False, ()), (True, ())}),\n",
       "           frozenset({(False, False),\n",
       "                      (False, True),\n",
       "                      (True, False),\n",
       "                      (True, True)}),\n",
       "           frozenset({frozendict.frozendict({(): ()})}),\n",
       "           frozenset({0})})"
      ]
     },
     "execution_count": 26,
     "metadata": {},
     "output_type": "execute_result"
    }
   ],
   "source": [
    "U(1,0)"
   ]
  },
  {
   "cell_type": "markdown",
   "id": "5297eb5b",
   "metadata": {},
   "source": [
    "Here is an example of a polymorphic construction. Note that in this model, we don't have only the functions that obey parametricity. Does this mean the model is \"wrong\"? No, I don't think so. It just isn't a complete model. The properly parametric functions are going to be a subset of the things returned."
   ]
  },
  {
   "cell_type": "code",
   "execution_count": 27,
   "id": "8ab25b63",
   "metadata": {},
   "outputs": [
    {
     "data": {
      "text/plain": [
       "frozenset({frozendict.frozendict({frozenset(): frozendict.frozendict({}), frozenset({False, True}): frozendict.frozendict({False: False, True: False}), frozenset({()}): frozendict.frozendict({(): ()})}),\n",
       "           frozendict.frozendict({frozenset(): frozendict.frozendict({}), frozenset({False, True}): frozendict.frozendict({False: False, True: True}), frozenset({()}): frozendict.frozendict({(): ()})}),\n",
       "           frozendict.frozendict({frozenset(): frozendict.frozendict({}), frozenset({False, True}): frozendict.frozendict({False: True, True: False}), frozenset({()}): frozendict.frozendict({(): ()})}),\n",
       "           frozendict.frozendict({frozenset(): frozendict.frozendict({}), frozenset({False, True}): frozendict.frozendict({False: True, True: True}), frozenset({()}): frozendict.frozendict({(): ()})})})"
      ]
     },
     "execution_count": 27,
     "metadata": {},
     "output_type": "execute_result"
    }
   ],
   "source": [
    "Pi(U(0,0), lambda A: Arr(A,A)) # forall a, a -> a"
   ]
  },
  {
   "cell_type": "code",
   "execution_count": 28,
   "id": "814fb06e",
   "metadata": {},
   "outputs": [
    {
     "data": {
      "text/plain": [
       "frozenset({frozendict.frozendict({frozenset(): frozendict.frozendict({frozenset(): (), frozenset({False, True}): (), frozenset({()}): ()}), frozenset({False, True}): frozendict.frozendict({frozenset(): (), frozenset({False, True}): (), frozenset({()}): ()}), frozenset({()}): frozendict.frozendict({frozenset(): (), frozenset({False, True}): (), frozenset({()}): ()})})})"
      ]
     },
     "execution_count": 28,
     "metadata": {},
     "output_type": "execute_result"
    }
   ],
   "source": [
    "Pi(U(0,0), lambda A: Pi(U(0,0), lambda B : Unit)) # forall a b, Unit"
   ]
  },
  {
   "cell_type": "code",
   "execution_count": 29,
   "id": "84a591e6",
   "metadata": {},
   "outputs": [
    {
     "data": {
      "text/plain": [
       "frozenset()"
      ]
     },
     "execution_count": 29,
     "metadata": {},
     "output_type": "execute_result"
    }
   ],
   "source": [
    "Pi(U(0,0), lambda B : B) # forall a. a"
   ]
  },
  {
   "cell_type": "code",
   "execution_count": 30,
   "id": "9fcf9300",
   "metadata": {},
   "outputs": [
    {
     "data": {
      "text/plain": [
       "True"
      ]
     },
     "execution_count": 30,
     "metadata": {},
     "output_type": "execute_result"
    }
   ],
   "source": [
    "all([has_type(Arr(A,B), U(2,0)) for A in U(1,0) for B in U(1,0)])"
   ]
  },
  {
   "cell_type": "markdown",
   "id": "2619ae33",
   "metadata": {},
   "source": [
    "# Bits and Bobbles\n",
    "Thanks to Cody Roux and Graham Leach-Krouse for helpful discussions\n",
    "\n",
    "Some useful resources on dependent types are\n",
    "\n",
    "- https://arxiv.org/abs/2212.11082 Introduction to Homotopy Type Theory\n",
    "- https://www.cse.chalmers.se/research/group/logic/book/book.pdf  Programming in Martin-Lof ’s Type Theory\n",
    "- https://www.danielgratzer.com/papers/type-theory-book.pdf\n",
    "- https://homotopytypetheory.org/book/\n",
    "- https://www.youtube.com/playlist?list=PLtIZ5qxwSNnzpNqfXzJjlHI9yCAzRzKtx HoTTEST Summer School 2022\n",
    "- https://www.cs.uoregon.edu/research/summerschool/summer14/rwh_notes/ssdt.pdf Syntax and Semantics of Dependent Types -Martin Hofmann\n",
    "- https://people.cs.nott.ac.uk/psztxa/publ/ydtm.pdf Why Dependent Types Matter\n",
    "- https://www.kleene.church/tt-notes Cody's notes\n",
    "- https://www.cse.chalmers.se/~peterd/papers/DependentTypesAtWork.pdf  Dependent Types at Work\n",
    "\n",
    "\n",
    "\n",
    "Python comprehesions are modelled after set comprehensions. I think this means that has_type is something like the axiom of collection / replacement https://en.wikipedia.org/wiki/Axiom_schema_of_replacement , a connection I hadn't ever really considered before. Telescopes are telescoped because it models the scoping structure of quantifiers.\n",
    "\n",
    "Having a notion of execution by using generators or dictionairyes that key on which time a thing enters the set might be interesting. Maybe a more faithful model of constructive principles / enables Int.\n",
    "\n",
    "Maybe using quoting of code / partial evaluation / bytecode normalization might be a way to get at definitional equality.\n",
    "\n",
    "Cody pointed out that `Fin` is totally cursed. The parameter coming in is an int and I vaguely silently cast between int and all the versions of Fin.\n",
    " \n",
    "Sympy, Z3, step indexing, actually using python functions as functions, hypothesis generators generate `stream A` and check `A -> Bool` pairs as types and just sort of randmize test it rather than enumerate it. Contracts.\n",
    "\n",
    "I kept getting surprised by the stuff that is actually empty vs stuff that had non parametric solutions. Is there something interesting there?\n",
    "\n",
    "Maybe interpret identity types into \n",
    "\n",
    "- Code string equality\n",
    "- bytecode equality\n",
    "- z3 smt equality\n",
    "- egraph equality\n",
    "- paths in a graph\n",
    "- permutations\n",
    "- isomorphisms\n",
    "- simplicial complexes something somethjing (simplical sets really probably)\n",
    "- sympy equality (t - t1).simplify().is_zero\n",
    "- proof terms from something?\n",
    "- `is` equality\n",
    "- `==` equality \n",
    "\n",
    "Maybe finite models like this are useful for counterexample finding or attempting to generalize/antiunify into suggested terms. https://www.cs.unm.edu/~mccune/prover9/manual/2009-11A/mace4.html Mace4 is a cool model enumerator for first order logic\n",
    "\n",
    "Rather than use frozendict and frozenset, using BDD like structures could be useful https://en.wikipedia.org/wiki/Binary_decision_diagram . We are kind of model checking type thoery\n",
    "\n",
    "\n",
    "Subsets, proof irrelevance, predicativity, quotients\n",
    "\n",
    "https://lawrencecpaulson.github.io/2022/02/23/Hereditarily_Finite.html  https://en.wikipedia.org/wiki/Hereditarily_finite_set What I am doing is the analog of hereditarily finite set theory. Cody claims makes sense because DTT interpeters into set theory, and there are finite set models of the appropiate set theories. https://eprints.illc.uva.nl/id/eprint/1769/1/wehr.pdf https://www.sciencedirect.com/science/article/abs/pii/S0049237X0871989X The Type Theoretic Interpretation of Constructive Set Theory - Aczel. https://www.lix.polytechnique.fr/~werner/publis/tacs97.pdf  Sets in Types, Types in Sets - Benjamin Werner\n",
    "\n",
    "Classes ~ functions.\n",
    "\n",
    "parameters vs indices. Python functions vs ?\n",
    "\n",
    "https://golem.ph.utexas.edu/category/2022/07/identity_types_in_context.html\n",
    "https://cs.stackexchange.com/questions/20100/what-are-the-difference-between-and-consequences-of-using-type-parameters-and-ty\n",
    "https://homotopytypetheory.org/2011/04/10/just-kidding-understanding-identity-elimination-in-homotopy-type-theory/\n",
    "\n",
    "The fiber perspective. Hmm. If I want to be categorical about it. Actually implement telescoped substitution. But this is way more deeply embedded than what I've done here.\n",
    "\n",
    "Refinement typing discipline vs dependent typing discipline. Related. What does the telescoping really achieve? Is it more or less powerful than binding all variables at once and then `forall x y z, P(x,y,z), Q(x,y,z), R(x,y,z) => Foo` which is more like Isabelle Pure. Triangularity is reminscent of triangular matrices but also triangular substitutions from minikanren implementations. Any connection?\n",
    "\n",
    "Do the parametricity relational model finitely. Explain its relationshiop to information hiding of the universe and oninterference. Run a program twice on some unchanged and some changfed inpputs as a method to detect leakage. Fuzzing the universe might also work, since that can expose information hiding problems. Information hiding and staged metaprogramming also. Kind of you can't leak information from runtime to compile time.\n",
    "\n",
    "One way for a topic to have meaning is to explain how to map it into another thing you're already comfortable in. For some new programming language, a way to do this is to give an interpreter of the new programming language inside a programming language you already know. An example of this in the context of a formal logic is to give a way to translate the syntax of your logic into a description of a thing metatheory you're working in, which might be some set theory or lean or isabelle or whatever. https://plato.stanford.edu/entries/model-theory/ . You then also want to find an instance of this thing.\n",
    "\n",
    "I've become used to saying the phrase \"python is my metatheory\". This is true because in Knuckledragger https://github.com/philzook58/knuckledragger , I metaprogram my higher order logic in python, doing the sorts of things a metalogic does. It is also true because I only feel comfortable that a mathematical topics makes sense if I can see something to do or compute with it. A model, however janky, finitized, or lightly unsound, inside of python can help strip away a befuddling aura of mysticism around a topic. Maybe from a fancier perspective, python is an interesting dirty place to put realizability https://en.wikipedia.org/wiki/Realizability https://ncatlab.org/nlab/show/realizability models, which I think are models with a notion of computation baked in.\n",
    "\n",
    "I can see a theme.\n",
    "\n",
    "- https://www.philipzucker.com/finiteset/ modelling some basic definitions using nested frozensets\n",
    "- https://www.philipzucker.com/computational-category-theory-in-python-i-dictionaries-for-finset/ making a class to model categorical formulation of finite sets\n",
    "- https://www.philipzucker.com/a-short-skinny-on-relations-towards-the-algebra-of-programming/ algebra of programming / relation algebra using finite sets in haskell\n",
    "\n",
    "In the typical arch of understanding , there is a naive version, then sophisticated, and then you appreciate the naive version again.\n",
    "\n",
    "On a first pass, types are basically sets. The type `int` is basically interpretable as the set of all integers and the type `bool -> bool` is interpretable as the set of all functions from `bool` to `bool`  (of which there are `2^2 = 4`).\n",
    "\n",
    "On a second pass, types aren't sets https://dl.acm.org/doi/pdf/10.1145/512927.512938 . Sets do a bad job of explaining parametricity for example, for which a relational interpretation is more appropriate. https://people.mpi-sws.org/~dreyer/tor/papers/wadler.pdf Parametricity is basically the same idea as information flow security.\n",
    "\n",
    "On a third pass, types aren't not sets.\n",
    "\n",
    "![](/assets/type_sets.jpg) Using this meme is a bit propaganda-y. It is implocitly calling you a bespectacled midwit if you think types are not sets. Maybe I'm using the wrong meme. Maybe I should use the brain exploding one? There are probably more passes beyond 3 and I think types are not sets is a perfectly valid viewpoint. Moreso than projecting this meme onto others, I mean it to explain how I currently see my own history of understanding.\n",
    "\n",
    "\n",
    "\n",
    "Static vs dynamic. Type judgements are the string of python?\n",
    "x : Fin(5), y : Fin(x) |- x + y : Fin(x)\n",
    "\n",
    "The interpretation of contexts is sets of environments.\n",
    "\n",
    "dependency shows up naturally in the ordering of loops. what's up with that?\n",
    "\n"
   ]
  },
  {
   "cell_type": "markdown",
   "id": "49cb9d40",
   "metadata": {},
   "source": [
    "## Quotient / Subset"
   ]
  },
  {
   "cell_type": "code",
   "execution_count": null,
   "id": "85f4d08a",
   "metadata": {},
   "outputs": [
    {
     "data": {
      "text/plain": [
       "frozenset({frozenset({True}), frozenset({False})})"
      ]
     },
     "execution_count": 39,
     "metadata": {},
     "output_type": "execute_result"
    }
   ],
   "source": [
    "def Quot(A : Type, R) -> Type:\n",
    "    return frozenset(frozenset({y for y in A if R(x,y)}) for x in A)\n",
    "\n",
    "Quot(Bool, lambda x,y: Id(Bool, x, y))"
   ]
  },
  {
   "cell_type": "code",
   "execution_count": null,
   "id": "4e825b57",
   "metadata": {},
   "outputs": [
    {
     "data": {
      "text/plain": [
       "frozenset({frozenset(),\n",
       "           frozenset({1, 4}),\n",
       "           frozenset({2, 5}),\n",
       "           frozenset({0, 3})})"
      ]
     },
     "execution_count": 45,
     "metadata": {},
     "output_type": "execute_result"
    }
   ],
   "source": [
    "# # Note because of pythion truthiness, this also accepts ordinary bool value predicates. Feature or misfeature?\n",
    "Quot(Fin(6), lambda x, y: x == y % 3)"
   ]
  },
  {
   "cell_type": "code",
   "execution_count": null,
   "id": "5dfe748a",
   "metadata": {},
   "outputs": [
    {
     "data": {
      "text/plain": [
       "frozenset({(True, ())})"
      ]
     },
     "execution_count": 40,
     "metadata": {},
     "output_type": "execute_result"
    }
   ],
   "source": [
    "def SubSet(A :  Type, P : Family) -> Type: # very much like Sigma\n",
    "    return frozenset({(x, ()) for x in A if P(x)}) # Note because of pythion truthiness, this also accepts ordinary bool value predicates.\n",
    "\n",
    "SubSet(Bool, lambda x: Id(Bool, x, True))\n"
   ]
  },
  {
   "cell_type": "code",
   "execution_count": 41,
   "id": "2b507bde",
   "metadata": {},
   "outputs": [
    {
     "data": {
      "text/plain": [
       "frozenset({(0, ()), (1, ()), (2, ())})"
      ]
     },
     "execution_count": 41,
     "metadata": {},
     "output_type": "execute_result"
    }
   ],
   "source": [
    "SubSet(Fin(7), lambda x: x < 3)"
   ]
  },
  {
   "cell_type": "code",
   "execution_count": null,
   "id": "c11f6f5a",
   "metadata": {},
   "outputs": [],
   "source": [
    "def Not(A : Type) -> Type:\n",
    "    return Arr(A, Void)\n",
    "def Decidable(A : Type) -> Type:\n",
    "    return Sum(A, Not(A))\n"
   ]
  },
  {
   "cell_type": "markdown",
   "id": "2e7dfc7d",
   "metadata": {},
   "source": [
    "## Sympy\n",
    "Sympy set module seems too weak to do families. Maybe it could be extneded?  https://docs.sympy.org/latest/modules/sets.html"
   ]
  },
  {
   "cell_type": "code",
   "execution_count": null,
   "id": "87f1b8c8",
   "metadata": {},
   "outputs": [],
   "source": [
    "# sympy Set module\n",
    "import sympy\n",
    "x,y,z = sympy.symbols(\"x y z\")\n",
    "sympy.ConditionSet(x, x > 0, sympy.S.Reals)\n",
    "sympy.Contains(x, sympy.UniversalSet)\n",
    "x in sympy.UniversalSet\n",
    "sympy.Contains(x, sympy.FiniteSet(1,2)) # in doesn't work. Needs to evlauates to Bool\n",
    "\n",
    "#def Arr(A,B):\n",
    "#def Pi(A,B):\n",
    "\n",
    "Contains(x, sympy.UniversalSet), Contains(y, FiniteSet(1,2)(x), Contains(z, FiniteSet(1,2)(x,y))\n",
    "                                          ImageSet().Contains()\n",
    "                                        "
   ]
  },
  {
   "cell_type": "markdown",
   "id": "18758d3f",
   "metadata": {},
   "source": [
    "## Gassed\n",
    "\n",
    "\n",
    "How to include integers?\n",
    "Lets everything become generators. Allow semidecidable sets.\n",
    "Marshall  https://github.com/andrejbauer/marshall\n",
    "https://dl.acm.org/doi/abs/10.1145/3209108.3209193\n",
    "\n",
    "\n",
    "Maybe a kripke model version with just N steps allowed. Then could index what is in set by integer is appears at. Monotonic set growth."
   ]
  },
  {
   "cell_type": "code",
   "execution_count": null,
   "id": "ec4d2227",
   "metadata": {},
   "outputs": [],
   "source": [
    "# Gassed version of Pi using generatyors? \n",
    "# Step indexing.\n",
    "\n",
    "# gas parameter\n",
    "def Pi(A,B,gas):\n",
    "    # all steps < gas\n",
    "    Alist = list(functools.reduce(operator.or_, A(i) for i in range(gas)))\n",
    "    return frozenset(frozendict({k:v for k,v in zip(Alist, bvs)}) for bvs in itertools.product(*[B(a,gas) for a in Alist]))\n",
    "\n",
    "# generator style.\n",
    "# B is generator of families.\n",
    "def Pi(A,B):\n",
    "    Biter = B()\n",
    "    B.next() # B is one ahead of A\n",
    "    for An in A:\n",
    "        Bn = B.next()\n",
    "        yield frozenset(frozendict({k:v for k,v in zip(An, bvs)}) for bvs in itertools.product(*[Bn(a) for a in An]))\n",
    "\n"
   ]
  },
  {
   "cell_type": "code",
   "execution_count": null,
   "id": "79f9be27",
   "metadata": {},
   "outputs": [],
   "source": [
    "from collections import defaultdict\n",
    "def tset(vs):\n",
    "    d = {}\n",
    "    for v,t in vs:\n",
    "        d[v] = min(d.get(v, float(\"inf\")), t)\n",
    "    return frozendict(d)\n",
    "\n",
    "tset([(\"x\",1), (\"y\",2), (\"x\", 3), (\"z\",4)])"
   ]
  },
  {
   "cell_type": "code",
   "execution_count": null,
   "id": "b9a6fb14",
   "metadata": {},
   "outputs": [],
   "source": [
    "import itertools\n",
    "def delay(t, v):\n",
    "    for i in range(t):\n",
    "        yield\n",
    "    yield v\n",
    "    #return v\n",
    "\n",
    "list(delay(4, 2))\n",
    "\n",
    "x = delay(4,3)\n",
    "next(x)\n",
    "next(x)\n",
    "next(x)\n",
    "next(x)\n",
    "next(x)\n",
    "\n",
    "\n",
    "def pair(x,y):\n",
    "    for i in x:\n",
    "        yield (i,None)\n",
    "    for j in y:\n",
    "        yield (i,j)\n",
    "list(pair(delay(2,42), delay(1, \"hello\")))\n",
    "\n",
    "def Pair(A,B):\n",
    "    return [pair(i,j) for i in A for j in B]\n",
    "def Pi(A,B):\n",
    "    pass"
   ]
  },
  {
   "cell_type": "markdown",
   "id": "11e8dc54",
   "metadata": {},
   "source": [
    "## Z3\n",
    "\n",
    "Z3 can describe finite sets as models. A Pi constructor akin to kd.QForAll. "
   ]
  },
  {
   "cell_type": "code",
   "execution_count": null,
   "id": "8cf7e652",
   "metadata": {},
   "outputs": [],
   "source": [
    "def Pi(*vs, body): # TeleForAll. # Pi?\n",
    "    acc = body\n",
    "    # TODO: maybe compress stretches of unquantified.\n",
    "    for v in reversed(vs):\n",
    "        if isinstance(v, tuple):\n",
    "            #acc = kd.QForAll([v[0]], v[1], acc) # this is more refinement style. Strictly speaking B can still contain x in other ways.\n",
    "            acc = kd.QForAll([v[0]], v[1][v[0]], acc)\n",
    "        else:\n",
    "            acc = kd.QForAll([v], acc)\n",
    "    return acc\n",
    "\n",
    "IntT = smt.K(smt.IntSort(), True)\n",
    "#Pos = smt.Lambda([x], x > 0)\n",
    "def GT(x):\n",
    "    return smt.Lambda([y], y > x)\n",
    "def Fin(n): # meta Fin\n",
    "    return smt.Lambda([x], smt.And(0 <= x, x < n))\n",
    "# Internal-ish Fin\n",
    "Fin = kd.define(\"Fin\", [n], smt.Lambda([x], smt.And(0 <= x, x < n)))\n",
    "#Fin2 = smt.Lambda([x], smt.Lambda([y], smt.And(0 <= x, x < 2))\n",
    "Turnstile([(x, Fin(3)), (y, Fin(x))], )\n",
    "\n",
    "type Type = smt.ArraySortRef\n",
    "def Pi(A : smt.ArraySortRef, B : smt.ArraySortRef) -> Type:\n",
    "    return smt.Lambda([f], kd.QForAll([x], A[x], B(x)(f[x])))\n",
    "def Arr(A : Type, B : Type) -> Type:\n",
    "    return smt.Lambda([f], kd.QForAll([x], A[x], B(f[x])))\n",
    "def Pair(A : Type, B : Type) -> Type:\n",
    "    return smt.Lambda([p], smt.And(p.is_pair, A(p[0]), B(p[1])))\n",
    "def Sigma(A : Type, B : Type) -> Type:\n",
    "    return smt.Lambda([p], smt.And(p.is_pair, A(p[0]), B(p[0])(p[1])))"
   ]
  },
  {
   "cell_type": "code",
   "execution_count": null,
   "id": "edc629ed",
   "metadata": {},
   "outputs": [],
   "source": [
    "Term0 = smt.DeclareSort(\"Term0\")\n",
    "Term = smt.Datatype(\"Term\")\n",
    "Term.declare(\"TT\")\n",
    "Term.declare(\"BoolVal\", (\"bval\", smt.BoolSort()))\n",
    "Term.declare(\"IntVal\", (\"ival\", smt.IntSort()))\n",
    "Term.declare(\"PairVal\", (\"fst\", Term), (\"snd\", Term))\n",
    "Term.declare(\"OtherVal\", (\"val\", Term0)) # Functions, etc. We only separate out primitives for fun.\n",
    "\n",
    "Type = smt.SortSort(Term)\n",
    "Family = smt.ArraySort(Term, Type)\n",
    "Bool = smt.Lambda([t], t.is_BoolVal)\n",
    "Void = smt.Lambda([t], False)\n",
    "Unit = smt.Lambda([t], t.is_TT)\n",
    "\n",
    "Arr = smt.Function(\"Arr\", Type, Type, Type)\n",
    "apply = smt.Function(\"apply\", Term, Term, Term)\n",
    "lam = smt.Function(\"lam\", smt.ArraySort(Term, Term), Term)\n",
    "kd.axiom(kd.QForAll([a,b], apply(lam(a), b)) == a[b])\n",
    "# extensionality forall x, apply(t1, x) == apply(t2, x) == (t2 == t1)\n",
    "\n",
    "\n",
    "kd.define(\"Arr\", [A,B], smt.Lambda([t], smt.And(t.is_OtherVal, kd.QForAll([x], A[x], B[apply(t, x)]))))\n",
    "kd.define('Pi', [A,B], smt.Lambda([t], smt.And(t.is_OtherVal, kd.QForAll([x], A[x], B[x][apply(t, x)]))))\n",
    "def Pi(A, B):\n",
    "    return smt.Lambda([t], smt.And(t.is_OtherVal, kd.QForAll([x], A(x), B(x, apply(t, x)))))\n",
    "# comp = smt.Function(\"comp\", Type, Term)\n",
    "# This might be ok, but the reverse,   Term, Type or asking if Term in Term requires carefulness.\n",
    "\n",
    "lamB = smt.Function(\"lamB\", smt.ArraySort(smt.BoolSort(), Term), Term)\n",
    "\n",
    "\n",
    "\n",
    "\n",
    "Univ = smt.Const(\"Univ0\", Type)\n",
    "\n"
   ]
  },
  {
   "cell_type": "markdown",
   "id": "f7e86b43",
   "metadata": {},
   "source": [
    "## Terms\n",
    "\n",
    "I have been very vague what my allowed terms are."
   ]
  },
  {
   "cell_type": "code",
   "execution_count": 32,
   "id": "d8fa9425",
   "metadata": {},
   "outputs": [],
   "source": [
    "tt = ()\n",
    "false = False\n",
    "true = True\n",
    "\n",
    "def ite(c, t, e):\n",
    "    return t if c else e\n",
    "def rec_unit(x, a):\n",
    "    assert x == tt\n",
    "    return a\n",
    "def rec_void(x, a):\n",
    "    assert False"
   ]
  },
  {
   "cell_type": "code",
   "execution_count": 33,
   "id": "00ea8866",
   "metadata": {},
   "outputs": [
    {
     "name": "stdout",
     "output_type": "stream",
     "text": [
      "  3           0 RESUME                   0\n",
      "              2 LOAD_FAST                0 (x)\n",
      "              4 LOAD_CONST               1 (1)\n",
      "              6 BINARY_OP                0 (+)\n",
      "             10 RETURN_VALUE\n",
      "  4           0 RESUME                   0\n",
      "              2 LOAD_FAST                0 (y)\n",
      "              4 LOAD_CONST               1 (1)\n",
      "              6 BINARY_OP                0 (+)\n",
      "             10 RETURN_VALUE\n"
     ]
    }
   ],
   "source": [
    "import dis\n",
    "\n",
    "f = lambda x: x + 1\n",
    "f1 = lambda y: y + 1\n",
    "dis.dis(f)\n",
    "dis.dis(f1)"
   ]
  },
  {
   "cell_type": "code",
   "execution_count": 34,
   "id": "a61ef434",
   "metadata": {},
   "outputs": [],
   "source": [
    "\n",
    "def inter(F : Family):\n",
    "    return functools.reduce(lambda x,y: x.intersection(y), F.values())\n",
    "def union(F : Family):\n",
    "    return functools.reduce(lambda x,y: x.union(y), F.values())\n",
    "def prod(F : Family):\n",
    "    pass"
   ]
  },
  {
   "cell_type": "code",
   "execution_count": 35,
   "id": "6fff4132",
   "metadata": {},
   "outputs": [
    {
     "ename": "SyntaxError",
     "evalue": "Generator expression must be parenthesized (3264922683.py, line 7)",
     "output_type": "error",
     "traceback": [
      "  \u001b[36mCell\u001b[39m\u001b[36m \u001b[39m\u001b[32mIn[35]\u001b[39m\u001b[32m, line 7\u001b[39m\n\u001b[31m    \u001b[39m\u001b[31mall(has_type(Id(Bool)[x], Pi(Bool, Id(A,x,y)) for x in Bool))\u001b[39m\n                              ^\n\u001b[31mSyntaxError\u001b[39m\u001b[31m:\u001b[39m Generator expression must be parenthesized\n"
     ]
    }
   ],
   "source": [
    "def Id(A : Type) -> Type:\n",
    "    return Pi(A, lambda x: frozenset([frozendict({x : \"refl\"})]))\n",
    "\n",
    "Id(Bool)\n",
    "[p for x in Bool for y in Bool for f in Id(Bool) for p in f[x][y]] in Id(Bool)\n",
    "\n",
    "all(has_type(Id(Bool)[x], Pi(Bool, Id(A,x,y)) for x in Bool))\n",
    "\n",
    "\n",
    "\n",
    "def id_rec(motive, a, p, x):\n",
    "    assert p == \"refl\"\n",
    "    assert has_type(x, motive())\n",
    "    return x\n"
   ]
  },
  {
   "cell_type": "markdown",
   "id": "427cba82",
   "metadata": {},
   "source": [
    "https://github.com/Marco-Sulla/python-frozendict\n",
    "\n",
    "https://en.wikipedia.org/wiki/Family_of_sets\n",
    "\n",
    "A graph neighborhood map V -> edges\n",
    "\n",
    "Anytihng A -> [B]\n",
    "\n",
    "relation to the finite parametricity idea.\n",
    "\n",
    "Internalized == frozendict\n",
    "Meta = python fun\n",
    "\n",
    "Finite dependent type theory in python.\n",
    "\n",
    "\n",
    "groupoid model? paths on a graph? \n",
    "\n",
    "isomorphisms?\n",
    "\n",
    "The is basically model checking of dependent type theory?\n",
    "Which is easier.\n",
    "We get a little bit of jimmies by fiddling with the universe.\n",
    "\n",
    "step indexed relatiobns. Maybe there's some way to use computation bounding to model check.\n",
    "\n",
    "indices vs parameters and meta vs other\n",
    "\n",
    "inference rule form vs internialize pi form of induction\n",
    "\n",
    "\n",
    "quotient types\n",
    "extensional equality\n",
    "\n",
    "\n",
    "Yes, this is a logical relation.\n",
    "https://www.cs.uoregon.edu/research/summerschool/summer16/notes/AhmedLR.pdf\n",
    "I am being vague what the actual syntactic language I'm working in.\n",
    "Also the caveat that everything is a frozenset before I even get to it somehow is the intution behind termination.\n",
    "\n",
    "Another axis to finitize on ot number of computational steps allowed and to have partial functions\n",
    "\n",
    "defaultdict can do more but still not everything.\n",
    "You can have a defaultdict from the integers.\n",
    "BDDs are interesting also but just as a compression.\n",
    "\n",
    "are types sets? \n",
    "https://bsky.app/profile/hillelwayne.com/post/3lms36j275s26\n",
    "\n",
    "\n",
    "Trying to make a sound model of dependent type theory\n",
    "If you can derive a judgement (which I am not doing) or if there is a derivation of a judgement, the corresponding python statement should return true\n",
    "\n",
    "`[[x : A]] ----->  \"for x in [[A]]\" `\n",
    "\n",
    "Model checking dependent type theory\n",
    "A python frozenset model of dependent type theory\n",
    "\n",
    "How does one build a finite model of first order logic for example\n",
    "\n",
    "Translate |- forall x, p(x,y) into\n",
    "Picking p, A etc\n",
    "all(p(x,y) for x in A)\n",
    "\n",
    "\n",
    "\n",
    "\n",
    "\n",
    "string codes\n",
    "z3 ast codes\n",
    "\n",
    "z3 egraph somehow?\n",
    "\n",
    "\n",
    "Graham suiggested \"dispaly indexing\". Represent Family as it's sigma type + a projector?\n",
    "https://ncatlab.org/nlab/show/displayed+category ?\n",
    "[for x in A for base, totpoint in B if base == x]\n",
    "\n",
    "def ITE(A : Type, B : Type) -> Family:\n",
    "    return frozenset({(True, A), (False, B)})\n",
    "\n",
    "but again this is kind of a poor mans frozendict?\n",
    "\n",
    "def ITE(A : Type, B : Type) -> Family:\n",
    "    return frozendict({True : A, False : B})\n",
    "\n",
    "\n",
    "That telescopes turn into foralls is interesting.\n",
    "And it does make sense from a finitrary efficiency standpoint to not do a big non dependent loop and then cut out. You want to generate only that which is obvious plausible\n",
    "\n",
    "Z3 model. Internal SetSort()\n",
    "f = Function vs f = Array(\"f\", , ) as internal vs external.\n",
    "Universes.\n",
    "\n",
    "```\n",
    "for x in A:\n",
    "    for y in B:\n",
    "        if cond(x,y):\n",
    "            yield yada\n",
    "```\n",
    "\n",
    "vs\n",
    "\n",
    "```\n",
    "for x in A:\n",
    "    for y in B(x):\n",
    "        yield yada\n",
    "```\n",
    "\n",
    "vs\n",
    "```\n",
    "for x in A:\n",
    "    if cond(x):\n",
    "        for y in B:\n",
    "            if cond2(x,y):\n",
    "                yield yada\n",
    "```\n",
    "\n",
    "vs \n",
    "for x in A:\n",
    "    if cond(x):\n",
    "        for y in B(x):\n",
    "            if cond2(x,y):\n",
    "                yield yada\n",
    "\n",
    "althouggb basically cond(x) can be fused into B by returning null iterator.\n",
    "\n",
    "I've been playing the same game for so long\n",
    "https://www.philipzucker.com/finiteset/\n",
    "https://www.philipzucker.com/a-short-skinny-on-relations-towards-the-algebra-of-programming/\n",
    "\n",
    "hmm. Using quickcheck. That's intriguing.\n",
    "hypothesis. quickcheck over different universes or interpretations.\n",
    "\n",
    "quickcheck set theory statements too. Huh.\n",
    "I wonder if quickchecks in lean or quickchick have something like this\n",
    "\n",
    "\n",
    "Krivine realizability models\n",
    "What does this say about the sympy thing. Why isn't it working? No notion of set?"
   ]
  },
  {
   "cell_type": "code",
   "execution_count": null,
   "id": "85c1978c",
   "metadata": {},
   "outputs": [],
   "source": [
    "from frozendict import frozendict\n",
    "type Family[X] = frozendict[Type, X]\n",
    "type MArr[A,B] = frozendict[A, B] # meta arrow\n",
    "type MSet[A] = frozenset[A] # meta set\n",
    "\n",
    "def Id(A : Type) -> Family[Family[Type]]:\n",
    "    return frozendict({a : frozendict({b : ITE(Unit, Void)(a == b) for b in A}) for a in A})"
   ]
  },
  {
   "cell_type": "code",
   "execution_count": null,
   "id": "b98fec9f",
   "metadata": {},
   "outputs": [],
   "source": [
    "def Quot(A : Type, P : Family[Family[Type]]) -> Type:\n",
    "    #groupby?\n",
    "    #frozenset({frozenset(a for a in A if P(a)) for p in P})\n",
    "    #itertools.groupby(A, lambda a)\n",
    "    # union find?\n",
    "    uf = {}\n",
    "    def union(a, b):\n",
    "        pass\n",
    "    for a in A:\n",
    "        for b in A:\n",
    "            if find(a) == find(b):\n",
    "                continue\n",
    "            if P(a)(b):\n",
    "                union(a, b)\n",
    "\n",
    "\n",
    "# basically Sigma?\n",
    "# def Subset(A : Type, P : Family)"
   ]
  },
  {
   "cell_type": "code",
   "execution_count": null,
   "id": "4a320257",
   "metadata": {},
   "outputs": [],
   "source": [
    "from frozendict import frozendict\n",
    "import functools\n",
    "import itertools\n",
    "from typing import Callable\n",
    "\n",
    "\n",
    "type Term = object\n",
    "type Type = frozenset\n",
    "\n",
    "Void : Type = frozenset()\n",
    "tt : Term = () # could use Void?\n",
    "Unit : Type = frozenset({tt})\n",
    "Bool : Type = frozenset({True, False})\n",
    "\n",
    "\n",
    "# pointed power\n",
    "\n",
    "\n",
    "\n",
    "# frozen set vs frozendict(A,Bool)\n",
    "# Set vs A -> Prop\n",
    "\"\"\"\n",
    "def telescope(ctx):\n",
    "    if len(ctx) == 0:\n",
    "    A = ctx[0]\n",
    "    for a in A:\n",
    "        for rest in ctx[1](a):\n",
    "            yield (a, rest)\n",
    "\"\"\"\n",
    "\n",
    "# telescopes are generators.\n",
    "\n",
    "# we are somewhat confusing the definition and an algorithm for proving the judgements.\n",
    "\n",
    "\"\"\"\n",
    "Or are contexts the _python_ context?\n",
    "for x in A:\n",
    "    # is_type(B(x))\n",
    "    for y in B(x):\n",
    "        #we are in context x : A, y : B(x) here\n",
    "        q in Q # ctx |- q : Q\n",
    "\n",
    "could we introspect the context?\n",
    "\n",
    "\"\"\"\n",
    "\n",
    "# extend a context\n",
    "def extend(ctx, A):\n",
    "    is_type(ctx, A)\n",
    "    for ts in ctx:\n",
    "        for a in A(*ts):\n",
    "            yield (a, *ts)\n",
    "\n",
    "\n",
    "# interpretation of judgements\n",
    "def is_type(ctx, A):\n",
    "    for ts in ctx:\n",
    "        assert isinstance(A(*ts), frozenset)\n",
    "def has_type(ctx, a, A):\n",
    "    for ts in ctx:\n",
    "        A1 = A(*ts)\n",
    "        assert a(*ts) in A1\n",
    "        #assert isinstance(A1, frozenset)\n",
    "def eq_type(ctx, A, B):\n",
    "    for ts in ctx:\n",
    "        A1 = A(*ts)\n",
    "        B1 = B(*ts)\n",
    "        # is_type\n",
    "        assert A1 == B1\n",
    "        #assert isinstance(A1, frozenset)\n",
    "def def_eq(ctx, a, b, A):\n",
    "    pass\n",
    "\n",
    "#Family = frozendict\n",
    "Type = frozenset\n",
    "Family = Callable[..., Type]\n",
    "# Family = frozendict[object, Type]\n",
    "#Tele = list[Family]\n",
    "\n",
    "# but this is really one step less shallow\n",
    "# Tele = frozenset[frozendict[str,object]]\n",
    "#def sing(A):\n",
    "#    # singleton family\n",
    "#    return frozendict({a : frozenset({a}) for a in A})\n",
    "# \n",
    "#sing(Bools)\n",
    "def Eq(A : Type, a) -> Family:\n",
    "    assert a in A\n",
    "    def res(b):\n",
    "        assert b in A\n",
    "        return Unit if b == a else Void # frozenset({a})?\n",
    "    return res\n",
    "\n",
    "    #return frozenset(frozendict({a : frozenset({a})})\n",
    "\n",
    "def Fin(n) -> Type:\n",
    "    return frozenset({i for i in range(n)})\n",
    "# Int is not a type. It's metalevel\n",
    "# so Fin isn't a family. It's a meta family. yikes\n",
    "\n",
    "# This is a family. Still pretty confused. We're conflating the different fins with each other and with int.\n",
    "def Fin2(max : int) -> Family[Type]:\n",
    "    return frozendict({i : Fin(i) for i in range(max)})\n",
    "\n",
    "# This is more like saying all these types exist\n",
    "# Fin is kind of like a cumulative universe\n",
    "def FinU(max : int) -> Type: # l : int   universe level\n",
    "    return frozenset([Fin(i) for i in range(max)])\n",
    "# A : FinU 10, x : A, y : Fin2(10)(x) |-\n",
    "\n",
    "\n",
    "# This vserion we can see we can't plug x : Fin(i) into Fin(x)\n",
    "def Fin3(n : int) -> Type:\n",
    "    return frozenset({(f\"Fin{n}\", i) for i in range(n)})\n",
    "\n",
    "\n",
    "def Vec(max : int, A : Type):\n",
    "    # max is an upper bound on the size of the Vec. This is not usually a thing.\n",
    "    def fix(n):\n",
    "        if n == 0:\n",
    "            return Unit\n",
    "        else:\n",
    "            return Pair(A, fix(n-1))\n",
    "    return Pi(Fin(max), fix)\n",
    "\n",
    "# is there something less restrictive than Vec?\n",
    "#def MaxList(max : int, A : Type):\n",
    "\n",
    "\n",
    "# Inductive types are defined by recursion.\n",
    "# Could use haskell style Free? Fix?\n",
    "def Inductive(f):\n",
    "    pass\n",
    "\n",
    "\n",
    "\n",
    "Type = frozenset\n",
    "Family = Callable[Type, Type]\n",
    "\n",
    "def Fin(n : int) -> Type:\n",
    "    return frozenset({i for i in range(n)})\n",
    "\n",
    "def Pi(A : Type, B : Family) -> Type:\n",
    "    Alist = list(A)\n",
    "    return frozenset(frozendict({k:v for k,v in zip(Alist, bvs)}) for bvs in itertools.product(*[B(a) for a in Alist]))\n",
    "\n",
    "def Arr(A : Type, B : Type) -> Type:\n",
    "    return Pi(A, lambda a: B)\n",
    "\n",
    "def Not(A : Type) -> Type:\n",
    "    return Arr(A, Void)\n",
    "\n",
    "def Sigma(A : Type, Bx : Family) -> Type:\n",
    "    return frozenset([(a,B(a)) for a in A])\n",
    "\n",
    "def Pair(A : Type, B : Type) -> Type:\n",
    "    return Sigma(A, lambda a: B) \n",
    "\n",
    "def Sum(A : Type, B : Type) -> Type:\n",
    "    return frozenset((\"left\", a) for a in A) | frozenset((\"right\", b) for b in B)\n",
    "\n",
    "#@functools.cache\n",
    "def Univ(i,j):\n",
    "    if i == 0 and j == 0:\n",
    "        # or make extra random types. Then polymorphic stuff can't rely on exact struxcture of U0.\n",
    "        # Gives a feel for an \"open\" U0 rather than closed. U0 contents shouldn't leak.\n",
    "        return frozenset([Bool, Unit, Void]) # base types\n",
    "    # iterate constructions\n",
    "    if j > 0:\n",
    "        return frozenset({Univ(i,j-1)}) #, Fin(i), Eq(Univ(i,j-1), i), Sing(Univ(i,j-1))})\n",
    "    elif j == 0:\n",
    "        res = []\n",
    "        for A in Univ(i, j-1):\n",
    "            res.append(A) # cumulative\n",
    "            for B in Univ(i, j-1):\n",
    "                res.append(Arr(A,B))\n",
    "        return frozenset(res)\n",
    "\n",
    "# These are all not in contexts...\n",
    "Arr(Bool,Bool)\n",
    "Pi(Bool, Eq(Bool, True))\n",
    "Sum(Bool, Bool)\n",
    "Sum(Bool, Void)\n",
    "Sum(Unit, Unit)\n",
    "def Or(A,B): return Sum(A,B)\n",
    "def And(A,B): return Pair(A,B)\n",
    "def Implies(A,B): return Arr(A,B)\n",
    "def Iff(A,B): return And(Implies(A,B), Implies(B,A))\n",
    "\n",
    "\n",
    "#Eq(Bool, True)(False)\n",
    "\n",
    "def Decidable(A : Type) -> Type:\n",
    "    return Sum(A, Not(A))\n",
    "Pi(Bool, lambda y: Sum(Eq(Bool, True)(y), Not(Eq(Bool, True)(y))))\n",
    "\n",
    "\n",
    "def lam(A, f):\n",
    "    return frozendict({a : f(a) for a in A})\n",
    "\n",
    "lam(Bool, lambda x: x) in Arr(Bool, Bool)\n",
    "\n",
    "lam(Univ(0,0), lambda A: A) in Pi(Univ(0,0), lambda A : A)\n",
    "Pi(Univ(0,0), lambda A : A)\n",
    "Univ(0,0)"
   ]
  },
  {
   "cell_type": "code",
   "execution_count": null,
   "id": "e4a53940",
   "metadata": {},
   "outputs": [],
   "source": [
    "# a simple family\n",
    "def ITE(A : Type, B : Type) -> Family:\n",
    "    return lambda c: A if c else B\n",
    "\n",
    "# an even simpler family\n",
    "def Const(A : Type) -> Family:\n",
    "    return lambda x: A"
   ]
  },
  {
   "cell_type": "markdown",
   "id": "c78c40c3",
   "metadata": {},
   "source": [
    "## Codes and Tarski Universes\n",
    "\n",
    "Comprehensions are modelled after set comprehensions. Are has_type judgements like set comprehensions?\n",
    "\n",
    "|- A type  is say the set exists\n",
    "|- t : A   is like using seperation on a type that exists?. But we generate t, not cut it out. Seperation ought to look more like this.\n",
    "[t == x + y for x in Fin(5) for y in Fin(x) for t in Fin(5 + y) ] ?\n",
    "\n",
    "Maybe it's more like replacement? https://en.wikipedia.org/wiki/Axiom_schema_of_replacement\n",
    "predciates A -> Bool as classes. Set[A] as sets. Converting is not obvious.\n",
    "|- A type  is more like asserting a class expression is well formed?\n",
    "|- t : A   is using (hypothetical?) axiom of collection?\n",
    "\n",
    "\n",
    "\n",
    "|- \n",
    "\n",
    "https://ncatlab.org/nlab/show/Tarski+universe\n",
    "You have |- T : type and then |- t : El(T)\n",
    "T is code\n",
    "\n",
    "\n",
    "Cody points out Fin is an abomination because it takes Fin as a parameter.\n",
    "But it always terminates at meta Nat.\n",
    "\n",
    "families could be codes of families?\n",
    "\n",
    "`El` family is a meta function. is it `eval`? And codes = str\n",
    "\n",
    "https://okmij.org/ftp/Haskell/TypeClass.html#Haskell1 only 1 typeclass Oleg\n",
    "\n",
    "```python\n",
    "#Family = Type # a set of codes\n",
    "Code = str\n",
    "Type = frozenset\n",
    "Family = frozenset[Code]\n",
    "El = eval\n",
    "#def El(t : Code) -> Type:\n",
    "#    # yada?\n",
    "#    # But I probably want El to be extensible?\n",
    "    \n",
    "```\n",
    "\n",
    "\n",
    "vytecode equality as definitional equality. A little strong than string equality of code. Would normalize withspace, parens. But also maybe names? Maybe not\n",
    "https://arxiv.org/abs/1805.08106  The sufficiently smart compiler is a theorem prover\n",
    "https://dl.acm.org/doi/10.1145/3611643.3616357 Speeding up SMT Solving via Compiler Optimization\n",
    "\n",
    "I could do fstring stuff to partially eval.\n",
    "`lam(lambda xlambda x: f\"{x}\" ==  lambda y: \n",
    "\n",
    "\n",
    "Code string equality\n",
    "bytecode equality\n",
    "z3 smt equality\n",
    "egraph equality\n",
    "paths in a graph\n",
    "permutations\n",
    "simplicial complexes something somethjing (simplical sets really probably)\n",
    "sympy equality (t - t1).simplify().is_zero\n",
    "proof terms from something?\n",
    "`is` equality\n",
    "`==` equality \n"
   ]
  }
 ],
 "metadata": {
  "kernelspec": {
   "display_name": ".venv",
   "language": "python",
   "name": "python3"
  },
  "language_info": {
   "codemirror_mode": {
    "name": "ipython",
    "version": 3
   },
   "file_extension": ".py",
   "mimetype": "text/x-python",
   "name": "python",
   "nbconvert_exporter": "python",
   "pygments_lexer": "ipython3",
   "version": "3.12.3"
  }
 },
 "nbformat": 4,
 "nbformat_minor": 5
}
