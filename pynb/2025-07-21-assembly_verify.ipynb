{
 "cells": [
  {
   "cell_type": "markdown",
   "id": "acbb3e42",
   "metadata": {},
   "source": [
    "---\n",
    "Title: Semi-Automated Assembly Verification in Python using pypcode Semantics\n",
    "date: 2025-07-21\n",
    "---\n",
    "\n",
    "I've worked on binary verification tooling for a while.\n",
    "\n",
    "In our projects, we've often been working on just binary garbage thrown out of a compiler or being reverse engineered or butchered in some other way. A strange lesson is that it is pretty tough to even know what \"good\" or \"correct\" should mean in absence of higher levels of source.\n",
    "\n",
    "An idea that I've liked is adding inline verification annotations into textual assembly somewhat similarly to how they feel in [Dafny](https://dafny.org/) or [Frama-C](https://www.frama-c.com/). This is the more cooperative version of the problem. There is a possible universe in which compilers output this sort of assumption/verification information either textually or dumped into binary metadata https://www.philipzucker.com/dwarf-patching/ . This would aid translation validation and binary verification immensely in terms of have a goal to verify against.\n",
    "\n",
    "Some design constraints:\n",
    "\n",
    "- I strongly prefer that the file has to remain assemblable by the regular binutils toolchain. \n",
    "- An esoteric ecosystem is kind of a non starter if I want anyone to be using it. Another painful lesson. The intersection of low level interested and Ocaml/Lean/Coq interested is non-zero, but every constraint you put on your audience cuts it down significantly. Because of this, I've been leaning into more Python as a user facing language. It _is_ the most popular language in the world.\n",
    "\n",
    "[Pypcode](https://github.com/angr/pypcode) is a well packaged version of the binary lifters for the [ghidra](https://github.com/NationalSecurityAgency/ghidra) decompiler and can supply a unified semantics for many architectures. It's stable, well-maintained and funded (NSA). This is a pretty rare combo. I think the programming language and verification community are sleeping on this resource.\n",
    "\n",
    "I've attacked the problem in various ways before. This is yet another related angle.\n",
    "\n",
    "- https://www.philipzucker.com/knuckle_C_pcode/ here I discussed a bit writing my symbolic pcode emulator based on the [official version](https://github.com/NationalSecurityAgency/ghidra/blob/master/Ghidra/Features/Decompiler/src/decompile/cpp/emulate.cc). The actual code is here https://github.com/philzook58/knuckledragger/blob/main/kdrag/contrib/pcode/__init__.py I'm using this sane symbolic executor today. The main difference between this and angr is that I don't partially concretize memory, which is a bit more complete. I tried to use angr quite a bit. Couldn't see how to achieve this (claripy seemingly doesn't even support the theory of arrays). I do however leverage angr's loader ecosystem CLE https://github.com/angr/cle\n",
    "- https://www.philipzucker.com/pcode2c-dwarf/ another apporach using pypcode to specialize an interpreter to C code so that you can compare to other C code via CBMC. Still an interesting approach for translation validation\n"
   ]
  },
  {
   "cell_type": "markdown",
   "id": "4f434cd8",
   "metadata": {},
   "source": [
    "## Assembly Annotations\n",
    "\n",
    "An easy way to make sure the file remains assembleable is to use macros that expand to mostly nothing when assembled, but that I can grep for to find the important metadata.\n",
    "\n",
    "A more heavy-handed way to go about it might be to build an entire assembly parser, but this is going to suck and not be as portable across architecture or assembler.\n",
    "\n",
    "The basic things I need to know are\n",
    "\n",
    "1. Where to start my symbolic executor `kd_entry`\n",
    "2. Where to stop my symbolic executor `kd_exit`\n",
    "3. Assertions `kd_assert`\n",
    "4. `kd_cut` Is a way of thinking about loop invariants. It is a combo assertion and assumption. You have to give it a sufficiently strong summary of the state (invariant), that knowing onl thaty fact about the state is sufficient to prove the things you want to know.\n",
    "5. What to check after every assembly instruction execution `kd_always`. These are kind of system ubiquitous invariants such as what I may want for \"memory is always untouched\" or interrupt invariants being satisfied\n"
   ]
  },
  {
   "cell_type": "code",
   "execution_count": null,
   "id": "5a01f73b",
   "metadata": {},
   "outputs": [
    {
     "name": "stdout",
     "output_type": "stream",
     "text": [
      "Overwriting /tmp/knuckle.s\n"
     ]
    }
   ],
   "source": [
    "%%file /tmp/knuckle.s\n",
    "\n",
    "#precondition\n",
    ".macro kd_entry label smt_expr\n",
    "\\label :\n",
    ".endm\n",
    "\n",
    ".macro kd_assert label smt_expr\n",
    "\\label :\n",
    ".endm\n",
    "\n",
    ".macro kd_assume label smt_expr\n",
    "\\label :\n",
    ".endm\n",
    "\n",
    "#postcondition\n",
    ".macro kd_exit label smt_expr \n",
    "\\label :\n",
    ".endm\n",
    "\n",
    "#invariant\n",
    ".macro kd_cut label smt_expr\n",
    "\\label :\n",
    ".endm \n",
    "\n",
    ".macro kd_always smt_expr\n",
    ".endm\n"
   ]
  },
  {
   "cell_type": "markdown",
   "id": "7432828e",
   "metadata": {},
   "source": [
    "Something that I still think was a good minimally opinionated design choice in CBAT https://draperlaboratory.github.io/cbat_tools/tutorial.html https://www.ndss-symposium.org/wp-content/uploads/bar2024-9-paper.pdf was to use SMTLib as our specification language. It is a weak and somewhat clunky logic, but it gives you direct access to the solver and you can parse it with no extra work. There are resources out there on using the language. \n",
    "\n",
    "If you prefer to programmatically generate your specifications, that is still possible via the many widely available smt libraries in different languages. I particular, I've used z3 to construct smtlib expression, which it can dump into a syntactic string.\n",
    "\n",
    "Here's a toy example of moving `42` into `RAX`. The register names are automatically going to be mapped into pypcode's names https://api.angr.io/projects/pypcode/en/latest/api.html#pypcode.Context.getAllRegisters"
   ]
  },
  {
   "cell_type": "code",
   "execution_count": 37,
   "id": "0e5d3ebb",
   "metadata": {},
   "outputs": [
    {
     "name": "stdout",
     "output_type": "stream",
     "text": [
      "Overwriting /tmp/myfunc.s\n"
     ]
    }
   ],
   "source": [
    "%%file /tmp/myfunc.s\n",
    "\n",
    ".include \"/tmp/knuckle.s\"\n",
    ".globl myfunc\n",
    "\n",
    ".text\n",
    "    kd_entry myfunc \"(assert true)\"\n",
    "    movq $42, %rax\n",
    "    kd_assert my_assert \"(assert (= RAX (_ bv42 64)))\"\n",
    "    kd_exit func_end \"(assert (= RAX (_ bv42 64)))\"\n",
    "    ret"
   ]
  },
  {
   "cell_type": "markdown",
   "id": "6a5d7409",
   "metadata": {},
   "source": [
    "It assembles normally"
   ]
  },
  {
   "cell_type": "code",
   "execution_count": 2,
   "id": "97c65416",
   "metadata": {},
   "outputs": [],
   "source": [
    "! as /tmp/myfunc.s -o /tmp/myfunc.o "
   ]
  },
  {
   "cell_type": "markdown",
   "id": "6032fa35",
   "metadata": {},
   "source": [
    "We can link it into another program and run it"
   ]
  },
  {
   "cell_type": "code",
   "execution_count": 33,
   "id": "f6fcd0f7",
   "metadata": {},
   "outputs": [
    {
     "name": "stdout",
     "output_type": "stream",
     "text": [
      "Overwriting /tmp/test.c\n"
     ]
    }
   ],
   "source": [
    "%%file /tmp/test.c\n",
    "#include <stdio.h>\n",
    "#include <stdint.h>\n",
    "uint64_t myfunc();\n",
    "int main(){\n",
    "    printf(\"Result : %ld\\n\", myfunc());\n",
    "    return 0;\n",
    "}\n"
   ]
  },
  {
   "cell_type": "code",
   "execution_count": 35,
   "id": "1d6b10f5",
   "metadata": {},
   "outputs": [
    {
     "name": "stdout",
     "output_type": "stream",
     "text": [
      "/usr/bin/ld: warning: /tmp/myfunc.o: missing .note.GNU-stack section implies executable stack\n",
      "/usr/bin/ld: NOTE: This behaviour is deprecated and will be removed in a future version of the linker\n",
      "Result : 42\n"
     ]
    }
   ],
   "source": [
    "! gcc -Wall /tmp/test.c /tmp/myfunc.o -o /tmp/test.out && /tmp/test.out"
   ]
  },
  {
   "cell_type": "markdown",
   "id": "f5c97360",
   "metadata": {},
   "source": [
    "# Verification\n",
    "\n",
    "Now we are going to mildly parse for the appropriate directive lines.\n"
   ]
  },
  {
   "cell_type": "code",
   "execution_count": 29,
   "id": "1f552f99",
   "metadata": {},
   "outputs": [
    {
     "data": {
      "text/plain": [
       "{\n",
       "  \"entries\": {\n",
       "    \"4194304\": [\n",
       "      [\n",
       "        \"myfunc\",\n",
       "        \"true\"\n",
       "      ]\n",
       "    ]\n",
       "  },\n",
       "  \"asserts\": {\n",
       "    \"4194311\": [\n",
       "      [\n",
       "        \"my_assert\",\n",
       "        \"(= RAX #x000000000000002a)\"\n",
       "      ]\n",
       "    ]\n",
       "  },\n",
       "  \"assumes\": {},\n",
       "  \"exits\": {\n",
       "    \"4194311\": [\n",
       "      [\n",
       "        \"func_end\",\n",
       "        \"(= RAX #x000000000000002a)\"\n",
       "      ]\n",
       "    ]\n",
       "  },\n",
       "  \"cuts\": {}\n",
       "}"
      ]
     },
     "execution_count": 29,
     "metadata": {},
     "output_type": "execute_result"
    }
   ],
   "source": [
    "from dataclasses import dataclass, field, asdict\n",
    "import re\n",
    "from kdrag.all import *\n",
    "import kdrag.contrib.pcode as pcode\n",
    "from collections import defaultdict\n",
    "import json\n",
    "# mapping from address to list of (label, expr)\n",
    "type AddrMap = defaultdict[int, list[tuple[str, smt.BoolRef]]]\n",
    "@dataclass\n",
    "class AsmSpec():\n",
    "    entries : AddrMap = field(default_factory=lambda: defaultdict(list))\n",
    "    asserts: AddrMap = field(default_factory=lambda: defaultdict(list))\n",
    "    assumes: AddrMap = field(default_factory=lambda: defaultdict(list))\n",
    "    exits: AddrMap = field(default_factory=lambda: defaultdict(list))\n",
    "    cuts: AddrMap = field(default_factory=lambda: defaultdict(list))\n",
    "\n",
    "    @classmethod\n",
    "    def of_file(cls, filename : str, ctx : pcode.BinaryContext):\n",
    "        #pattern = re.compile(r'^\\s*(kd_assert|kd_assume|kd_exit|kd_entry|kd_cut)\\s+(\\w+)\\s+\"([^\"]+)\"\\s*$')\n",
    "        pattern = re.compile(\n",
    "            r'''^\\s*\n",
    "                (kd_assert|kd_assume|kd_exit|kd_entry|kd_cut)\n",
    "                \\s+([A-Za-z_.$][A-Za-z0-9_.$]*) # valid GAS label\n",
    "                \\s*(?:,\\s*)?                         # optional comma\n",
    "                \"([^\"]+)\"                        # quoted formula\n",
    "                \\s*$''',\n",
    "            re.VERBOSE\n",
    "        )\n",
    "        spec = cls()\n",
    "        with open(filename) as f:\n",
    "            for line in f.readlines():\n",
    "                match = pattern.match(line)\n",
    "                if match:\n",
    "                    cmd, label, expr = match.groups()\n",
    "                    addr = ctx.loader.find_symbol(label).rebased_addr\n",
    "                    expr = smt.parse_smt2_string(expr, decls=ctx.decls)[0]\n",
    "                    if cmd == 'kd_entry':\n",
    "                        spec.entries[addr].append((label, expr))\n",
    "                    elif cmd == 'kd_assert':\n",
    "                        spec.asserts[addr].append((label, expr))\n",
    "                    elif cmd == 'kd_assume':\n",
    "                        spec.assumes[addr].append((label, expr))\n",
    "                    elif cmd == 'kd_exit':\n",
    "                        spec.exits[addr].append((label, expr))\n",
    "                    elif cmd == 'kd_cut':\n",
    "                        spec.cuts[addr].append((label, expr))\n",
    "        return spec\n",
    "\n",
    "    def __repr__(self):\n",
    "        return json.dumps(asdict(self), indent=2, default=lambda b: b.sexpr())\n",
    "\n",
    "\n",
    "\n",
    "ctx = pcode.BinaryContext(\"/tmp/myfunc.o\")\n",
    "spec = AsmSpec.of_file('/tmp/myfunc.s', ctx) \n",
    "spec           "
   ]
  },
  {
   "cell_type": "markdown",
   "id": "6c448816",
   "metadata": {},
   "source": [
    "The core verification procedure runs all paths through the program. We can try to be smarter later, but this is good enough for now. By including the notion of cuts, tehre are only a finite number of paths through a cut control flow graph. We do not have the trust another CFG reconstructor since we discover the CFG as we execute.\n",
    "\n",
    "We seed the execution with the entry points.\n",
    "\n",
    "We look up in the spec if the current address has an assertion or assumption attached to it. If so we try to discharge it.\n",
    "\n",
    "Anything that hits an annotated exit kills that path.\n",
    "\n",
    "If there is an uncut loop or unannotated exit, the thing will run forever and not complete. Either you need to add an annotation or I could set a bounded instruction mode."
   ]
  },
  {
   "cell_type": "code",
   "execution_count": null,
   "id": "e2f890f5",
   "metadata": {},
   "outputs": [
    {
     "name": "stdout",
     "output_type": "stream",
     "text": [
      "entry myfunc at 4194304 with precond True\n",
      "Executing 0x400000/7: MOV RAX,0x2a at (4194304, 0) PCODE IMARK ram[400000:7]\n",
      "Executing 0x400000/7: MOV RAX,0x2a at (4194304, 1) PCODE RAX = 0x2a\n",
      "[✅] assert my_assert: RAX == 42\n",
      "[✅] exit func_end: RAX == 42\n"
     ]
    }
   ],
   "source": [
    "def run_all_paths(ctx, spec : AsmSpec, mem=None, verbose=True):\n",
    "    if mem is None:\n",
    "        mem = pcode.MemState.Const(\"mem\")\n",
    "    todo = []\n",
    "    if len(spec.entries) == 0:\n",
    "        raise Exception(\"No entry points found in the assembly specification\")\n",
    "    for addr, label_preconds in spec.entries.items():\n",
    "        for label, precond in label_preconds:\n",
    "            if verbose:\n",
    "                print(f\"entry {label} at {addr} with precond {precond}\")\n",
    "            todo.append(pcode.SimState(mem, (addr, 0), [ctx.substitute(mem, precond)]))\n",
    "    def verif(state, prop):\n",
    "        return kd.prove(smt.Implies(smt.And(*state.path_cond), ctx.substitute(state.memstate, prop)))\n",
    "    while todo:\n",
    "        state = todo.pop()\n",
    "        addr, pc = state.pc\n",
    "        if pc != 0: # We don't support intra instruction assertions\n",
    "            raise Exception(f\"Unexpected program counter {pc} at address {hex(addr)}\") \n",
    "        if addr in spec.cuts:\n",
    "            raise Exception(\"Cut not implemented yet\")\n",
    "        if addr in spec.asserts:\n",
    "            for (label, _assert) in spec.asserts[addr]:\n",
    "                try:\n",
    "                    pf = verif(state, _assert)\n",
    "                    print(f\"[✅] assert {label}: {_assert}\")\n",
    "                except Exception as e:\n",
    "                    print(\"[❌] Error proving assert\", label, _assert, e)\n",
    "                # maybe prove form (state == current state => assert_expr)\n",
    "        if addr in spec.exits:\n",
    "            for label, _exit in spec.exits[addr]:\n",
    "                try:\n",
    "                    pf = verif(state, _exit)\n",
    "                    print(f\"[✅] exit {label}: {_exit}\")\n",
    "                except Exception as e:\n",
    "                    print(\"[❌] Error proving exit\", label, _exit,  e)\n",
    "            continue # Do not put back on todo\n",
    "        if addr in spec.assumes:\n",
    "            for label, _assume in spec.assumes[addr]:\n",
    "                state._replace(path_cond=state.path_cond + [ctx.substitute(state.memstate, _assume)])\n",
    "        # Regular execution\n",
    "        todo.extend(ctx.sym_execute(state.memstate, addr, path_cond=state.path_cond, max_insns=1, verbose=verbose))\n",
    "\n",
    "run_all_paths(ctx, spec)\n"
   ]
  },
  {
   "cell_type": "markdown",
   "id": "67b4857c",
   "metadata": {},
   "source": [
    "We can put these pieces together into a single function"
   ]
  },
  {
   "cell_type": "code",
   "execution_count": 4,
   "id": "328dcef8",
   "metadata": {},
   "outputs": [],
   "source": [
    "import subprocess\n",
    "def assemble_and_check(filename: str):\n",
    "    subprocess.run(['as', filename, '-o', '/tmp/kdrag_temp.o'], check=True)\n",
    "    ctx = pcode.BinaryContext(\"/tmp/kdrag_temp.o\")\n",
    "    spec = AsmSpec.of_file(filename, ctx)\n",
    "    print(spec)\n",
    "    run_all_paths(ctx, spec)"
   ]
  },
  {
   "cell_type": "markdown",
   "id": "bd8deeeb",
   "metadata": {},
   "source": [
    "# More Examples\n",
    "\n",
    "Again, these are pretty trivial, but they exposed a lot of surprising issues in my symbolic executor. Not confidence inducing."
   ]
  },
  {
   "cell_type": "code",
   "execution_count": 5,
   "id": "c61b253f",
   "metadata": {},
   "outputs": [
    {
     "name": "stdout",
     "output_type": "stream",
     "text": [
      "Overwriting /tmp/myfunc_bad.s\n"
     ]
    }
   ],
   "source": [
    "%%file /tmp/myfunc_bad.s\n",
    "\n",
    ".include \"/tmp/knuckle.s\"\n",
    ".globl myfunc\n",
    "\n",
    ".text\n",
    "    kd_entry myfunc \"(assert true)\"\n",
    "    movq $42, %rax\n",
    "    kd_assert my_assert \"(assert (= RAX (_ bv43 64)))\"\n",
    "    kd_exit func_end \"(assert (= RAX (_ bv43 64)))\"\n",
    "    ret"
   ]
  },
  {
   "cell_type": "code",
   "execution_count": 6,
   "id": "e311b111",
   "metadata": {},
   "outputs": [
    {
     "name": "stdout",
     "output_type": "stream",
     "text": [
      "AsmSpec(entries=defaultdict(<class 'list'>, {4194304: [('myfunc', True)]}), asserts=defaultdict(<class 'list'>, {4194311: [('my_assert', RAX == 43)]}), assumes=defaultdict(<class 'list'>, {}), exits=defaultdict(<class 'list'>, {4194311: [('func_end', RAX == 43)]}), cuts=defaultdict(<class 'list'>, {}))\n",
      "entry myfunc at 4194304 with precond True\n",
      "Executing 0x400000/7: MOV RAX,0x2a at (4194304, 0) PCODE IMARK ram[400000:7]\n",
      "Executing 0x400000/7: MOV RAX,0x2a at (4194304, 1) PCODE RAX = 0x2a\n",
      "[❌] Error proving assert my_assert RAX == 43 (Implies(And(True), 42 == 43), 'Countermodel', [])\n",
      "[❌] Error proving exit func_end RAX == 43 (Implies(And(True), 42 == 43), 'Countermodel', [])\n"
     ]
    }
   ],
   "source": [
    "assemble_and_check('/tmp/myfunc_bad.s')"
   ]
  },
  {
   "cell_type": "code",
   "execution_count": 7,
   "id": "6baf5962",
   "metadata": {},
   "outputs": [
    {
     "name": "stdout",
     "output_type": "stream",
     "text": [
      "Overwriting /tmp/raxrdi.s\n"
     ]
    }
   ],
   "source": [
    "%%file /tmp/raxrdi.s\n",
    ".include \"/tmp/knuckle.s\"\n",
    ".global  _start\n",
    "kd_entry _start \"(assert true)\"\n",
    "    movq     %rdi, %rax\n",
    "kd_exit _start_end \"(assert (= RAX RDI))\"\n",
    "    ret"
   ]
  },
  {
   "cell_type": "code",
   "execution_count": 8,
   "id": "fee02671",
   "metadata": {},
   "outputs": [
    {
     "name": "stdout",
     "output_type": "stream",
     "text": [
      "AsmSpec(entries=defaultdict(<class 'list'>, {4194304: [('_start', True)]}), asserts=defaultdict(<class 'list'>, {}), assumes=defaultdict(<class 'list'>, {}), exits=defaultdict(<class 'list'>, {4194307: [('_start_end', RAX == RDI)]}), cuts=defaultdict(<class 'list'>, {}))\n",
      "entry _start at 4194304 with precond True\n",
      "Executing 0x400000/3: MOV RAX,RDI at (4194304, 0) PCODE IMARK ram[400000:3]\n",
      "Executing 0x400000/3: MOV RAX,RDI at (4194304, 1) PCODE RAX = RDI\n",
      "[✅] exit _start_end: RAX == RDI\n"
     ]
    }
   ],
   "source": [
    "assemble_and_check('/tmp/raxrdi.s')\n",
    "#ctx = pcode.BinaryContext(\"/tmp/kdrag_temp.o\")\n",
    "#AsmSpec.of_file('/tmp/raxrdi.s', ctx)"
   ]
  },
  {
   "cell_type": "code",
   "execution_count": 9,
   "id": "3b73ff44",
   "metadata": {},
   "outputs": [
    {
     "name": "stdout",
     "output_type": "stream",
     "text": [
      "Overwriting /tmp/inc_rdi.s\n"
     ]
    }
   ],
   "source": [
    "%%file /tmp/inc_rdi.s\n",
    ".include \"/tmp/knuckle.s\"\n",
    ".globl  _start\n",
    "kd_entry _start \"(assert true)\"\n",
    "    lea    1(%rdi), %rax\n",
    "kd_exit _start_end \"(assert (= RAX (bvadd RDI (_ bv1 64))))\"\n",
    "    ret"
   ]
  },
  {
   "cell_type": "code",
   "execution_count": 10,
   "id": "48cecc9c",
   "metadata": {},
   "outputs": [
    {
     "name": "stdout",
     "output_type": "stream",
     "text": [
      "AsmSpec(entries=defaultdict(<class 'list'>, {4194304: [('_start', True)]}), asserts=defaultdict(<class 'list'>, {}), assumes=defaultdict(<class 'list'>, {}), exits=defaultdict(<class 'list'>, {4194308: [('_start_end', RAX == RDI + 1)]}), cuts=defaultdict(<class 'list'>, {}))\n",
      "entry _start at 4194304 with precond True\n",
      "Executing 0x400000/4: LEA RAX,[RDI + 0x1] at (4194304, 0) PCODE IMARK ram[400000:4]\n",
      "Executing 0x400000/4: LEA RAX,[RDI + 0x1] at (4194304, 1) PCODE unique[4700:8] = RDI + 0x1\n",
      "Executing 0x400000/4: LEA RAX,[RDI + 0x1] at (4194304, 2) PCODE RAX = unique[4700:8]\n",
      "[✅] exit _start_end: RAX == RDI + 1\n"
     ]
    }
   ],
   "source": [
    "assemble_and_check('/tmp/inc_rdi.s')"
   ]
  },
  {
   "cell_type": "code",
   "execution_count": 11,
   "id": "b172d7cc",
   "metadata": {},
   "outputs": [
    {
     "name": "stdout",
     "output_type": "stream",
     "text": [
      "Overwriting /tmp/mymax.s\n"
     ]
    }
   ],
   "source": [
    "%%file /tmp/mymax.s\n",
    ".include \"/tmp/knuckle.s\"\n",
    ".globl  _start\n",
    "kd_entry _start \"(assert true)\"\n",
    "        movq     %rdi, %rax\n",
    "        cmp     %rdi, %rsi\n",
    "        cmovb   %rsi, %rax\n",
    "kd_exit _start_end \"(assert (= RAX (ite (bvult RDI RSI) RDI RSI)))\"\n",
    "#kd_exit _start_end \"(assert (or (= RAX RDI) (= RAX RSI)))\"\n",
    "        ret"
   ]
  },
  {
   "cell_type": "code",
   "execution_count": 12,
   "id": "4bef8152",
   "metadata": {},
   "outputs": [
    {
     "name": "stdout",
     "output_type": "stream",
     "text": [
      "AsmSpec(entries=defaultdict(<class 'list'>, {4194304: [('_start', True)]}), asserts=defaultdict(<class 'list'>, {}), assumes=defaultdict(<class 'list'>, {}), exits=defaultdict(<class 'list'>, {4194314: [('_start_end', RAX == If(ULT(RDI, RSI), RDI, RSI))]}), cuts=defaultdict(<class 'list'>, {}))\n",
      "entry _start at 4194304 with precond True\n",
      "Executing 0x400000/3: MOV RAX,RDI at (4194304, 0) PCODE IMARK ram[400000:3]\n",
      "Executing 0x400000/3: MOV RAX,RDI at (4194304, 1) PCODE RAX = RDI\n",
      "Executing 0x400003/3: CMP RSI,RDI at (4194307, 0) PCODE IMARK ram[400003:3]\n",
      "Executing 0x400003/3: CMP RSI,RDI at (4194307, 1) PCODE unique[3af00:8] = RSI\n",
      "Executing 0x400003/3: CMP RSI,RDI at (4194307, 2) PCODE CF = unique[3af00:8] < RDI\n",
      "Executing 0x400003/3: CMP RSI,RDI at (4194307, 3) PCODE OF = sborrow(unique[3af00:8], RDI)\n",
      "Executing 0x400003/3: CMP RSI,RDI at (4194307, 4) PCODE unique[3b000:8] = unique[3af00:8] - RDI\n",
      "Executing 0x400003/3: CMP RSI,RDI at (4194307, 5) PCODE SF = unique[3b000:8] s< 0x0\n",
      "Executing 0x400003/3: CMP RSI,RDI at (4194307, 6) PCODE ZF = unique[3b000:8] == 0x0\n",
      "Executing 0x400003/3: CMP RSI,RDI at (4194307, 7) PCODE unique[28080:8] = unique[3b000:8] & 0xff\n",
      "Executing 0x400003/3: CMP RSI,RDI at (4194307, 8) PCODE unique[28100:1] = popcount(unique[28080:8])\n",
      "Executing 0x400003/3: CMP RSI,RDI at (4194307, 9) PCODE unique[28180:1] = unique[28100:1] & 0x1\n",
      "Executing 0x400003/3: CMP RSI,RDI at (4194307, 10) PCODE PF = unique[28180:1] == 0x0\n",
      "Executing 0x400006/4: CMOVC RAX,RSI at (4194310, 0) PCODE IMARK ram[400006:4]\n",
      "Executing 0x400006/4: CMOVC RAX,RSI at (4194310, 1) PCODE unique[39b00:8] = RSI\n",
      "Executing 0x400006/4: CMOVC RAX,RSI at (4194310, 2) PCODE unique[39b80:1] = !CF\n",
      "Executing 0x400006/4: CMOVC RAX,RSI at (4194310, 3) PCODE if (unique[39b80:1]) goto ram[40000a:8]\n",
      "Executing 0x400006/4: CMOVC RAX,RSI at (4194310, 4) PCODE RAX = unique[39b00:8]\n",
      "[✅] exit _start_end: RAX == If(ULT(RDI, RSI), RDI, RSI)\n",
      "[✅] exit _start_end: RAX == If(ULT(RDI, RSI), RDI, RSI)\n"
     ]
    }
   ],
   "source": [
    "assemble_and_check('/tmp/mymax.s')"
   ]
  },
  {
   "cell_type": "code",
   "execution_count": 13,
   "id": "29d7b89c",
   "metadata": {},
   "outputs": [
    {
     "name": "stdout",
     "output_type": "stream",
     "text": [
      "Overwriting /tmp/mymax2.s\n"
     ]
    }
   ],
   "source": [
    "%%file /tmp/mymax2.s\n",
    ".include \"/tmp/knuckle.s\"\n",
    ".globl  _start\n",
    "kd_entry _start \"(assert true)\"\n",
    "    mov     %rdi, %rax\n",
    "\n",
    "    cmp     %rsi, %rdi\n",
    "    jbe     .done\n",
    "\n",
    "    mov     %rsi, %rax\n",
    "kd_exit .done \"(assert (= RAX (ite (bvule RDI RSI) RDI RSI)))\"\n",
    "#kd_exit .done \"(assert (= RAX RDI))\"\n",
    "    ret"
   ]
  },
  {
   "cell_type": "code",
   "execution_count": 14,
   "id": "564cd9e1",
   "metadata": {},
   "outputs": [
    {
     "name": "stdout",
     "output_type": "stream",
     "text": [
      "AsmSpec(entries=defaultdict(<class 'list'>, {4194304: [('_start', True)]}), asserts=defaultdict(<class 'list'>, {}), assumes=defaultdict(<class 'list'>, {}), exits=defaultdict(<class 'list'>, {4194315: [('.done', RAX == If(ULE(RDI, RSI), RDI, RSI))]}), cuts=defaultdict(<class 'list'>, {}))\n",
      "entry _start at 4194304 with precond True\n",
      "Executing 0x400000/3: MOV RAX,RDI at (4194304, 0) PCODE IMARK ram[400000:3]\n",
      "Executing 0x400000/3: MOV RAX,RDI at (4194304, 1) PCODE RAX = RDI\n",
      "Executing 0x400003/3: CMP RDI,RSI at (4194307, 0) PCODE IMARK ram[400003:3]\n",
      "Executing 0x400003/3: CMP RDI,RSI at (4194307, 1) PCODE unique[3af00:8] = RDI\n",
      "Executing 0x400003/3: CMP RDI,RSI at (4194307, 2) PCODE CF = unique[3af00:8] < RSI\n",
      "Executing 0x400003/3: CMP RDI,RSI at (4194307, 3) PCODE OF = sborrow(unique[3af00:8], RSI)\n",
      "Executing 0x400003/3: CMP RDI,RSI at (4194307, 4) PCODE unique[3b000:8] = unique[3af00:8] - RSI\n",
      "Executing 0x400003/3: CMP RDI,RSI at (4194307, 5) PCODE SF = unique[3b000:8] s< 0x0\n",
      "Executing 0x400003/3: CMP RDI,RSI at (4194307, 6) PCODE ZF = unique[3b000:8] == 0x0\n",
      "Executing 0x400003/3: CMP RDI,RSI at (4194307, 7) PCODE unique[28080:8] = unique[3b000:8] & 0xff\n",
      "Executing 0x400003/3: CMP RDI,RSI at (4194307, 8) PCODE unique[28100:1] = popcount(unique[28080:8])\n",
      "Executing 0x400003/3: CMP RDI,RSI at (4194307, 9) PCODE unique[28180:1] = unique[28100:1] & 0x1\n",
      "Executing 0x400003/3: CMP RDI,RSI at (4194307, 10) PCODE PF = unique[28180:1] == 0x0\n",
      "Executing 0x400006/2: JBE 0x40000b at (4194310, 0) PCODE IMARK ram[400006:2]\n",
      "Executing 0x400006/2: JBE 0x40000b at (4194310, 1) PCODE unique[e900:1] = CF || ZF\n",
      "Executing 0x400006/2: JBE 0x40000b at (4194310, 2) PCODE if (unique[e900:1]) goto ram[40000b:8]\n",
      "Executing 0x400008/3: MOV RAX,RSI at (4194312, 0) PCODE IMARK ram[400008:3]\n",
      "Executing 0x400008/3: MOV RAX,RSI at (4194312, 1) PCODE RAX = RSI\n",
      "[✅] exit .done: RAX == If(ULE(RDI, RSI), RDI, RSI)\n",
      "[✅] exit .done: RAX == If(ULE(RDI, RSI), RDI, RSI)\n"
     ]
    }
   ],
   "source": [
    "assemble_and_check('/tmp/mymax2.s')"
   ]
  },
  {
   "cell_type": "markdown",
   "id": "9a3e11f9",
   "metadata": {},
   "source": [
    "# Bits and Bobbles\n",
    "\n",
    "Next steps. make exits and assumes work\n",
    "\n",
    "- cuts. Invariants are cuts of cfg into a dag. Distinguishing backedges from forward edges\n",
    "- fixup to work on riscv and 32 bit.\n",
    "- nicer error output. Negative examples\n",
    "- Countermodels interpret to be more readable. Give path through program, state at beginning and end.\n",
    "- Use abstractions so the intermidate symbolic states aren't quite so unreadable\n",
    "- Hoarize. I've had so many bugs this principled approach might be pretty useful.\n",
    "- Gotta test that stuff I put in the library\n",
    "- memory. Gotta inject a `mem` variable.\n",
    "- prearranged loaded data. Mem does not currently reflect the actual contents of the loading.\n",
    "- store history just to make debugging easier.\n",
    "- pre and post conditions on calls? if jump into address already.\n",
    "- objcopy assertions into section\n",
    "- Pro / Con of WP?\n",
    "- kd_always for constantly checked invariants\n",
    "- A whitelist of jump points. Only allow labelled positions?\n",
    "- Regular execution or GDB sessions. All the cbat features.\n",
    "- failsafe. If I grep kd_ in the line, but don't recognize it, I should complain. Multiline smtlib would be nice too.\n",
    "- The stdlib of helpers.\n",
    "- speed\n",
    "- Tracking seen addresses. We may want to track if we never hit a label that has an annotation on it, as this is suspicious.\n",
    "\n",
    "it could make sense to slot in AFL or angr or Symqemu or whatever instead of my system, checking the same properties. I have designed my semantics to be moderately sound\n"
   ]
  },
  {
   "cell_type": "code",
   "execution_count": 26,
   "id": "706eae1e",
   "metadata": {},
   "outputs": [
    {
     "name": "stdout",
     "output_type": "stream",
     "text": [
      "AsmSpec(entries=defaultdict(<class 'list'>, {4194304: [('_start', True)]}), asserts=defaultdict(<class 'list'>, {}), assumes=defaultdict(<class 'list'>, {}), exits=defaultdict(<class 'list'>, {4194315: [('.done', RAX == If(ULE(RDI, RSI), RDI, RSI))]}), cuts=defaultdict(<class 'list'>, {}))\n",
      "entry _start at 4194304 with precond True\n",
      "Executing 0x400000/3: MOV RAX,RDI at (4194304, 0) PCODE IMARK ram[400000:3]\n",
      "Executing 0x400000/3: MOV RAX,RDI at (4194304, 1) PCODE RAX = RDI\n",
      "Executing 0x400003/3: CMP RDI,RSI at (4194307, 0) PCODE IMARK ram[400003:3]\n",
      "Executing 0x400003/3: CMP RDI,RSI at (4194307, 1) PCODE unique[3af00:8] = RDI\n",
      "Executing 0x400003/3: CMP RDI,RSI at (4194307, 2) PCODE CF = unique[3af00:8] < RSI\n",
      "Executing 0x400003/3: CMP RDI,RSI at (4194307, 3) PCODE OF = sborrow(unique[3af00:8], RSI)\n",
      "Executing 0x400003/3: CMP RDI,RSI at (4194307, 4) PCODE unique[3b000:8] = unique[3af00:8] - RSI\n",
      "Executing 0x400003/3: CMP RDI,RSI at (4194307, 5) PCODE SF = unique[3b000:8] s< 0x0\n",
      "Executing 0x400003/3: CMP RDI,RSI at (4194307, 6) PCODE ZF = unique[3b000:8] == 0x0\n",
      "Executing 0x400003/3: CMP RDI,RSI at (4194307, 7) PCODE unique[28080:8] = unique[3b000:8] & 0xff\n",
      "Executing 0x400003/3: CMP RDI,RSI at (4194307, 8) PCODE unique[28100:1] = popcount(unique[28080:8])\n",
      "Executing 0x400003/3: CMP RDI,RSI at (4194307, 9) PCODE unique[28180:1] = unique[28100:1] & 0x1\n",
      "Executing 0x400003/3: CMP RDI,RSI at (4194307, 10) PCODE PF = unique[28180:1] == 0x0\n",
      "Executing 0x400006/2: JBE 0x40000b at (4194310, 0) PCODE IMARK ram[400006:2]\n",
      "Executing 0x400006/2: JBE 0x40000b at (4194310, 1) PCODE unique[e900:1] = CF || ZF\n",
      "Executing 0x400006/2: JBE 0x40000b at (4194310, 2) PCODE if (unique[e900:1]) goto ram[40000b:8]\n",
      "Executing 0x400008/3: MOV RAX,RSI at (4194312, 0) PCODE IMARK ram[400008:3]\n",
      "Executing 0x400008/3: MOV RAX,RSI at (4194312, 1) PCODE RAX = RSI\n",
      "[✅] exit .done: RAX == If(ULE(RDI, RSI), RDI, RSI)\n",
      "[✅] exit .done: RAX == If(ULE(RDI, RSI), RDI, RSI)\n"
     ]
    }
   ],
   "source": [
    "import json\n",
    "def make_section(spec : AsmSpec, bin_name: str):\n",
    "    with open(\"/tmp/spec.json\", \"w\") as f:\n",
    "        json.dump(asdict(spec), f, indent=4, default=lambda b: b.sexpr())\n",
    "    subprocess.run([\"objcopy\", bin_name, \"--add-section\", \"knucklespec=/tmp/spec.json\"], check=True)\n",
    "\n",
    "assemble_and_check('/tmp/mymax2.s')\n",
    "ctx = pcode.BinaryContext(\"/tmp/kdrag_temp.o\")\n",
    "make_section(AsmSpec.of_file('/tmp/mymax2.s', ctx), \"/tmp/kdrag_temp.o\")\n"
   ]
  },
  {
   "cell_type": "code",
   "execution_count": 27,
   "id": "e4da8676",
   "metadata": {},
   "outputs": [
    {
     "name": "stdout",
     "output_type": "stream",
     "text": [
      "\n",
      "/tmp/kdrag_temp.o:     file format elf64-x86-64\n",
      "\n",
      "Contents of section knucklespec:\n",
      " 0000 7b0a2020 20202265 6e747269 6573223a  {.    \"entries\":\n",
      " 0010 207b0a20 20202020 20202022 34313934   {.        \"4194\n",
      " 0020 33303422 3a205b0a 20202020 20202020  304\": [.        \n",
      " 0030 20202020 5b0a2020 20202020 20202020      [.          \n",
      " 0040 20202020 2020225f 73746172 74222c0a        \"_start\",.\n",
      " 0050 20202020 20202020 20202020 20202020                  \n",
      " 0060 22747275 65220a20 20202020 20202020  \"true\".         \n",
      " 0070 2020205d 0a202020 20202020 205d0a20     ].        ]. \n",
      " 0080 2020207d 2c0a2020 20202261 73736572     },.    \"asser\n",
      " 0090 7473223a 207b7d2c 0a202020 20226173  ts\": {},.    \"as\n",
      " 00a0 73756d65 73223a20 7b7d2c0a 20202020  sumes\": {},.    \n",
      " 00b0 22657869 7473223a 207b0a20 20202020  \"exits\": {.     \n",
      " 00c0 20202022 34313934 33313522 3a205b0a     \"4194315\": [.\n",
      " 00d0 20202020 20202020 20202020 5b0a2020              [.  \n",
      " 00e0 20202020 20202020 20202020 2020222e                \".\n",
      " 00f0 646f6e65 222c0a20 20202020 20202020  done\",.         \n",
      " 0100 20202020 20202022 283d2052 41582028         \"(= RAX (\n",
      " 0110 69746520 28627675 6c652052 44492052  ite (bvule RDI R\n",
      " 0120 53492920 52444920 52534929 29220a20  SI) RDI RSI))\". \n",
      " 0130 20202020 20202020 2020205d 0a202020             ].   \n",
      " 0140 20202020 205d0a20 2020207d 2c0a2020       ].    },.  \n",
      " 0150 20202263 75747322 3a207b7d 0a7d        \"cuts\": {}.}  \n"
     ]
    }
   ],
   "source": [
    "! objdump -s --section knucklespec /tmp/kdrag_temp.o"
   ]
  },
  {
   "cell_type": "markdown",
   "id": "69136457",
   "metadata": {},
   "source": [
    "One issue I've perceived is that these systems (and almost all verification tooling) is sort of locked behind ecosystems that are not palatable to a majority of users. Our project cbat was built in OCaml around the Binary Analysis Platform. We did ship docker containers, but I think you had to be _really_ interested in using our tool to make it past the doorway.\n",
    "\n",
    "In addition to that, it was in essence a fully automatic tool. There was the ability to annotate invariants via command line options, but that was not the expected main use pattern.\n",
    "\n",
    "Something I've wanted is the ability to break apart the monolithic automated verification query. I've found this very useful in Knuckeldragger and to some degree this is what semi-automated systems like Dafny \n",
    "\n",
    "I think it is also an appealing design to let you use ordinary the ordinary binutils \n",
    "\n",
    "One design choice I don't regret in CBAT was to use SMTLib itself as our specification language. It is at least a known established entity you can look up stuff about and it gives you full access to the solvers capabilities.\n",
    "\n",
    "https://www.ndss-symposium.org/wp-content/uploads/bar2024-9-paper.pdf\n",
    "https://github.com/draperlaboratory/cbat_tools\n",
    "\n",
    "\n",
    "Some other assembly verification stuff\n",
    "\n",
    "- HOL Light assembly verification https://github.com/awslabs/s2n-bignum/blob/main/x86/proofs/bignum_add.ml\n",
    "- SAIL and islaris https://dl.acm.org/doi/10.1145/3519939.3523434\n",
    "- Risc-V semantics coq https://github.com/mit-plv/riscv-coq\n",
    "- LNSym in lean https://github.com/leanprover/LNSym\n",
    "- ACL2 stuff https://www.cs.utexas.edu/~moore/acl2/manuals/current/manual/?topic=ACL2____X86ISA\n",
    "- K framework x86  https://github.com/kframework/X86-64-semantics\n",
    "- Sel4 stuff\n",
    "- HOL4 myreen https://www.cl.cam.ac.uk/~mom22/cpp13/paper.pdf https://www.cl.cam.ac.uk/techreports/UCAM-CL-TR-765.pdf\n",
    "- https://fstarlang.github.io/lowstar/html/Introduction.html Does low* hit assembly or C? https://github.com/project-everest/vale\n",
    "- Cryptol does assembly right?\n",
    "- https://arxiv.org/pdf/1907.01283 metamath0\n",
    "- Compcert semantics\n",
    "- arm p asl arm specification language https://github.com/ailrst/aslp\n",
    "- https://www.cs.utexas.edu/~moore/best-ideas/piton/index.html CLI verified stack https://www.cs.utexas.edu/~moore/acl2/current/combined-manual/index.html?topic=ACL2____OPERATIONAL-SEMANTICS-2_F5_F5OTHER-EXAMPLES\n",
    "- https://binsec.github.io/\n",
    "\n",
    "\n",
    "When you peel off all the sophistry and knee jerk formal methods design patterns, I think binary verification can be fairly intuitive.\n",
    "\n",
    "When you talk about verification, two topics come up, Weakest precondition and/or Hoare Logic. Weakest precondition or predicate transformer semantics can be viewed in at least two ways\n",
    "1. Describe program semantics by how you pull a set of program states backwards through the execution of a statement\n",
    "2. Describe program semantics by the syntactic manipulation of logical formulas constraining program state.\n",
    "\n",
    "It's the same thing, since formulas describe the set of states for which they evaluate to true, but saying it like 1. feels more semantic and 2. feels more syntactic.\n",
    "\n",
    "Talking about running a program backwards is a little unintuitive.\n",
    "\n",
    "\n",
    "\n",
    "Symbolic execution is a pretty evocative term that is more commonly understood in the reversing community. Execute the thing, as you might in an interpreter or emulator, but instead of working on concrete states of concrete u64 etc, work on symbolic states building up a symbolic expression describing the state. This mostly means building up SMT solver expressions describing the current state.\n",
    "\n",
    "For straight line code, it's all the same. The minimal control flow makes it fairly easy to directly convert statements to expressions.\n",
    "\n",
    "For DAG-like control flow (if-then-else / switch chains), things are little harder but not so bad. You can finitely enumerate all the paths through the program (although this number is exponentially exploding in the size of the dag).\n",
    "\n",
    "For arbitrary control flow, it feels more complicated but actually it kind of isn't.\n",
    "\n",
    "\n",
    "\n",
    "\n",
    "Typed assembly language. I've been saying that type systems can be seen as tactics.\n",
    "https://dl.acm.org/doi/10.1007/978-3-031-74776-2_17 BinSub: The Simple Essence of Polymorphic Type Inference for Machine Code\n",
    "\n",
    "webassembly via ghidra? https://github.com/nneonneo/ghidra-wasm-plugin/\n",
    "\n",
    "\n",
    "dump into dwarf?\n",
    "https://github.com/pq-code-package/mlkem-native/tree/main/proofs/hol_light/arm \n",
    "https://github.com/awslabs/s2n-bignum\n",
    "https://github.com/awslabs/s2n-bignum/blob/main/x86/tutorial/simple.ml\n",
    "\n",
    "\n",
    "global invariants.\n",
    "Interrupt_enabled => \n",
    "\n",
    "\n",
    "Python smt assertions. just use eval. If smtlib turns you off\n",
    "Dwarf expr assertions\n",
    "assembly subprogram assertiosn - the most work. Natural in some sense.\n",
    "\n",
    "\n",
    "\n",
    "kd_always \"(if invarint ...)\"\n",
    "\n",
    "\n",
    "whitelist valid jump locations.\n",
    "\n",
    "floyd version of logic on flowcharts. What did that look like?"
   ]
  },
  {
   "cell_type": "code",
   "execution_count": null,
   "id": "ff8e3814",
   "metadata": {},
   "outputs": [],
   "source": [
    "@dataclass\n",
    "class AsmSpec():\n",
    "    entries: list[tuple[int, smt.BoolRef]]\n",
    "    asserts: list[tuple[int, smt.BoolRef]]\n",
    "    assumes: list[tuple[int, smt.BoolRef]]\n",
    "    exits: list[tuple[int, smt.BoolRef]]"
   ]
  },
  {
   "cell_type": "code",
   "execution_count": 22,
   "id": "d7f343b1",
   "metadata": {},
   "outputs": [
    {
     "data": {
      "text/plain": [
       "'{\"entries\": {\"4194304\": [[\"myfunc\", \"true\"]]}, \"asserts\": {\"4194311\": [[\"my_assert\", \"(= RAX #x000000000000002a)\"]]}, \"assumes\": {}, \"exits\": {\"4194311\": [[\"func_end\", \"(= RAX #x000000000000002a)\"]]}, \"cuts\": {}}'"
      ]
     },
     "execution_count": 22,
     "metadata": {},
     "output_type": "execute_result"
    }
   ],
   "source": [
    "json.dumps(asdict(spec), default=lambda b: b.sexpr())"
   ]
  },
  {
   "cell_type": "code",
   "execution_count": null,
   "id": "f59c0862",
   "metadata": {},
   "outputs": [],
   "source": []
  }
 ],
 "metadata": {
  "kernelspec": {
   "display_name": "philzook58.github.io",
   "language": "python",
   "name": "python3"
  },
  "language_info": {
   "codemirror_mode": {
    "name": "ipython",
    "version": 3
   },
   "file_extension": ".py",
   "mimetype": "text/x-python",
   "name": "python",
   "nbconvert_exporter": "python",
   "pygments_lexer": "ipython3",
   "version": "3.12.3"
  }
 },
 "nbformat": 4,
 "nbformat_minor": 5
}
