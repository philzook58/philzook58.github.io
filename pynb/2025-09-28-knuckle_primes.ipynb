{
 "cells": [
  {
   "cell_type": "markdown",
   "id": "55f3d65d",
   "metadata": {},
   "source": [
    "---\n",
    "title: Infinitude of Primes in Knuckledragger\n",
    "date: 2025-09-28\n",
    "---\n",
    "\n",
    "Cody challenged me to prove that there are an infinitely many primes in Knuckledragger, saying it's the minimum thing to do to demonstrate you have a proof assistant. https://en.wikipedia.org/wiki/Euclid%27s_theorem It's one of the older proofs out there, appearing famously in Euclid's elements. This is number 11 in the formalizing 100 theorems list https://www.cs.ru.nl/~freek/100/ . Maybe it'd be fun to start chasing down the other easy ones and copy them out of Isabelle or whatever \n",
    "\n",
    "By staying very close to the [isabelle proof](https://isabelle.in.tum.de/dist/library/HOL/HOL-Computational_Algebra/Primes.html#Primes.bigger_prime|fact_) , it took me about 3-4 hours to do this, some of which was at a groggy 11pm. I went through top down through this proof to see the basic definitions and lemmas I needed on demand.\n"
   ]
  },
  {
   "cell_type": "markdown",
   "id": "695e8535",
   "metadata": {},
   "source": [
    "# Prime\n",
    "\n",
    "First I need to define what it means to be prime."
   ]
  },
  {
   "cell_type": "code",
   "execution_count": null,
   "id": "ccb2c82a",
   "metadata": {},
   "outputs": [
    {
     "data": {
      "text/html": [
       "&#x22A8;Not(prime(4))"
      ],
      "text/plain": [
       "|= Not(prime(4))"
      ]
     },
     "execution_count": 1,
     "metadata": {},
     "output_type": "execute_result"
    }
   ],
   "source": [
    "from kdrag.all import *\n",
    "import kdrag.theories.int as int_\n",
    "n,m,p,q,k = kd.FreshVars('n m p q k', smt.IntSort())\n",
    "x,y,z = smt.Ints('x y z')\n",
    "prime = kd.define(\"prime\", [n], smt.And(n > 1, smt.Not(smt.Exists([p,q], smt.And(p > 1, q > 1, n == p * q)))))\n"
   ]
  },
  {
   "cell_type": "markdown",
   "id": "93e3af7d",
   "metadata": {},
   "source": [
    "As a nice sanity check, z3 can infer whether some small numbers are prime. I'm pleasantly surprised by this. The `unfold` keyword argument unfolds the definition of `prime` before handing it off to z3. Without using unfolding, `prime` is just some opaque predicate for which z3 can find arbitrary models of."
   ]
  },
  {
   "cell_type": "code",
   "execution_count": null,
   "id": "6d161f7f",
   "metadata": {},
   "outputs": [],
   "source": [
    "kd.prove(prime(2), unfold=1)\n",
    "kd.prove(prime(3), unfold=1)\n",
    "kd.prove(smt.Not(prime(4)), unfold=1)"
   ]
  },
  {
   "cell_type": "code",
   "execution_count": 2,
   "id": "06a608fc",
   "metadata": {},
   "outputs": [
    {
     "data": {
      "text/plain": [
       "[p!37, q!38];\n",
       "[p!37 > 1, q!38 > 1, 2 == p!37*q!38, p!37 <= 2, q!38 <= 2] ?|= False"
      ]
     },
     "execution_count": 2,
     "metadata": {},
     "output_type": "execute_result"
    }
   ],
   "source": [
    "l = kd.Lemma(prime(2))\n",
    "l.unfold(prime)\n",
    "l.split()\n",
    "l.auto()\n",
    "l.intros()\n",
    "#l.split(at=0)\n",
    "p,q = l.einstan(0)\n",
    "l.split(at=0)\n",
    "l.have(p <= 2)\n",
    "l.have(q <= 2)\n",
    "# Prove by computation?\n",
    "# Proving any particular number is prime can be hard, see RSA.\n"
   ]
  },
  {
   "cell_type": "markdown",
   "id": "3c447747",
   "metadata": {},
   "source": [
    "Some lemmas basically unpacking the definition. These are very obvious and easy, but only because z3 provides an excellent baseline of automation. If knuckledragger did not have z3 in it's kernel, getting even these simple things would require a lot more work."
   ]
  },
  {
   "cell_type": "code",
   "execution_count": 25,
   "id": "e6272f2e",
   "metadata": {},
   "outputs": [
    {
     "data": {
      "text/html": [
       "&#x22A8;ForAll(n!24, Implies(prime(n!24), n!24 > 1))"
      ],
      "text/plain": [
       "|= ForAll(n!24, Implies(prime(n!24), n!24 > 1))"
      ]
     },
     "execution_count": 25,
     "metadata": {},
     "output_type": "execute_result"
    }
   ],
   "source": [
    "prime_nat = kd.prove(smt.Implies(prime(n), n >= 0), by=prime.defn(n)).forall([n])\n",
    "prime_nat\n",
    "\n",
    "prime_gt_1 = kd.prove(smt.Implies(prime(n), n > 1), by=prime.defn(n)).forall([n])\n",
    "prime_gt_1"
   ]
  },
  {
   "cell_type": "markdown",
   "id": "97fc958b",
   "metadata": {},
   "source": [
    "# Divisibility\n",
    "\n",
    "We also define a divisibility relation."
   ]
  },
  {
   "cell_type": "code",
   "execution_count": 3,
   "id": "f4381ef3",
   "metadata": {},
   "outputs": [],
   "source": [
    "dvd = kd.define(\"dvd\", [n, m], smt.Exists([p], m == n * p))"
   ]
  },
  {
   "cell_type": "code",
   "execution_count": 4,
   "id": "4e918ba1",
   "metadata": {},
   "outputs": [
    {
     "data": {
      "text/html": [
       "&#x22A8;ForAll([k!28, n!24],\n",
       "       Implies(And(dvd(k!28, n!24), k!28 >= 0, n!24 > 0),\n",
       "               k!28 <= n!24))"
      ],
      "text/plain": [
       "|= ForAll([k!28, n!24],\n",
       "       Implies(And(dvd(k!28, n!24), k!28 >= 0, n!24 > 0),\n",
       "               k!28 <= n!24))"
      ]
     },
     "execution_count": 4,
     "metadata": {},
     "output_type": "execute_result"
    }
   ],
   "source": [
    "dvd_imp_le = kd.prove(smt.Implies(smt.And(dvd(k, n), k >= 0, n > 0), k <= n), unfold=1).forall([k,n])\n",
    "dvd_imp_le"
   ]
  },
  {
   "cell_type": "markdown",
   "id": "79791dc6",
   "metadata": {},
   "source": [
    "A more complex relationship between `prime` and `dvd`. Ultimately fair simple though. You can see from my commented out stuff that I often do a bunch of work only to realize maybe I was missing some hypothesis or could have called `auto` earlier with the right lemmas."
   ]
  },
  {
   "cell_type": "code",
   "execution_count": 5,
   "id": "7314ccb5",
   "metadata": {},
   "outputs": [
    {
     "data": {
      "text/html": [
       "&#x22A8;Implies(n!24 >= 0,\n",
       "        prime(n!24) ==\n",
       "        And(n!24 > 1,\n",
       "            ForAll(m!25,\n",
       "                   Implies(And(m!25 >= 0, dvd(m!25, n!24)),\n",
       "                           Or(m!25 == 1, m!25 == n!24)))))"
      ],
      "text/plain": [
       "|= Implies(n!24 >= 0,\n",
       "        prime(n!24) ==\n",
       "        And(n!24 > 1,\n",
       "            ForAll(m!25,\n",
       "                   Implies(And(m!25 >= 0, dvd(m!25, n!24)),\n",
       "                           Or(m!25 == 1, m!25 == n!24)))))"
      ]
     },
     "execution_count": 5,
     "metadata": {},
     "output_type": "execute_result"
    }
   ],
   "source": [
    "l = kd.Lemma(smt.Implies(n >= 0, prime(n) == smt.And(1 < n, kd.QForAll([m], m >= 0, dvd(m,n), smt.Or(m == 1, m == n)))))\n",
    "l.intros()\n",
    "l.split()\n",
    "\n",
    "# The order is swapped from what I expected\n",
    "# <--\n",
    "l.auto(unfold=1) # This solve is unstable.\n",
    "# -->\n",
    "l.unfold(prime, dvd)\n",
    "l.auto()\n",
    "prime_nat_iff = l.qed()\n",
    "prime_nat_iff\n",
    "#l.intros()\n",
    "#l.split()\n",
    "#l.auto(unfold=1)\n",
    "#l.auto()\n",
    "#_m = l.fix()\n",
    "#l.intros()\n",
    "#l.split(at=1)\n",
    "#l.split(at=3)\n",
    "#l.auto()\n",
    "#l.qed()\n",
    "#_p = l.einstan(2)\n",
    "#l.split(at=0)\n",
    "#l.auto()"
   ]
  },
  {
   "cell_type": "markdown",
   "id": "2670f148",
   "metadata": {},
   "source": [
    "A useful lemma about the interplay of divisibility and difference. Here we see `einstan` which creates a fresh skolem constant for an `Exists` in the context. This gives us a way to spell out to z3 exactly what term dignifies the `Exists in the goal."
   ]
  },
  {
   "cell_type": "code",
   "execution_count": 6,
   "id": "4aabadf2",
   "metadata": {},
   "outputs": [
    {
     "data": {
      "text/html": [
       "&#x22A8;ForAll([k!28, n!24, m!25],\n",
       "       Implies(And(dvd(k!28, n!24),\n",
       "                   dvd(k!28, m!25),\n",
       "                   n!24 >= 0,\n",
       "                   k!28 >= 0,\n",
       "                   m!25 >= 0),\n",
       "               dvd(k!28, m!25 - n!24)))"
      ],
      "text/plain": [
       "|= ForAll([k!28, n!24, m!25],\n",
       "       Implies(And(dvd(k!28, n!24),\n",
       "                   dvd(k!28, m!25),\n",
       "                   n!24 >= 0,\n",
       "                   k!28 >= 0,\n",
       "                   m!25 >= 0),\n",
       "               dvd(k!28, m!25 - n!24)))"
      ]
     },
     "execution_count": 6,
     "metadata": {},
     "output_type": "execute_result"
    }
   ],
   "source": [
    "l = kd.Lemma(smt.Implies(smt.And(dvd(k, n), dvd(k, m), n >= 0, k >= 0, m >= 0), dvd(k, m - n))) # TODO: rearrange nat constraints to come first\n",
    "l.unfold(dvd)\n",
    "l.intros()\n",
    "l.split(at=0)\n",
    "_p1 = l.einstan(0)\n",
    "_p2 = l.einstan(1)\n",
    "l.exists(_p2 - _p1)\n",
    "l.auto()\n",
    "dvd_diff_nat = l.qed().forall([k,n,m])\n",
    "dvd_diff_nat"
   ]
  },
  {
   "cell_type": "markdown",
   "id": "3bac8d0c",
   "metadata": {},
   "source": [
    "# Factorial\n",
    "Defining factorial and proving properties of.\n",
    "\n",
    "People familiar with theorem proving may raise eyebrows at this definition. I don't currently have good recursive definition schema / termination checking (I do have primitive recursion schema for datatypes, but nothing for Int). `define` is a pretty open blade and requires as much care as `axiom`.\n"
   ]
  },
  {
   "cell_type": "code",
   "execution_count": 7,
   "id": "86d6f021",
   "metadata": {},
   "outputs": [],
   "source": [
    "fact = smt.Function(\"fact\", smt.IntSort(), smt.IntSort())\n",
    "fact = kd.define(\"fact\", [n], smt.If(n <= 0, 1, n * fact(n - 1)))"
   ]
  },
  {
   "cell_type": "markdown",
   "id": "810b92e4",
   "metadata": {},
   "source": [
    "A basic inductive fact. Induction here is double ended induction for the Ints."
   ]
  },
  {
   "cell_type": "code",
   "execution_count": 8,
   "id": "0cbe6551",
   "metadata": {},
   "outputs": [
    {
     "data": {
      "text/html": [
       "&#x22A8;ForAll(n!24, fact(n!24) >= 1)"
      ],
      "text/plain": [
       "|= ForAll(n!24, fact(n!24) >= 1)"
      ]
     },
     "execution_count": 8,
     "metadata": {},
     "output_type": "execute_result"
    }
   ],
   "source": [
    "l = kd.Lemma(fact(n) >= 1)\n",
    "l.induct(n)\n",
    "l.unfold(fact)\n",
    "l.auto()\n",
    "l.auto(unfold=1)\n",
    "_n = l.fix()\n",
    "l.intros()\n",
    "l.simp()\n",
    "l.unfold(fact)\n",
    "l.simp()\n",
    "l.auto()\n",
    "fact_ge_1 = l.qed().forall([n])\n",
    "\n",
    "fact_ge_1"
   ]
  },
  {
   "cell_type": "markdown",
   "id": "3112a6a6",
   "metadata": {},
   "source": [
    "I'm a little worried about this one. It went through suspiciously easily. I probably did not need strong induction. "
   ]
  },
  {
   "cell_type": "code",
   "execution_count": 10,
   "id": "ed3cf472",
   "metadata": {},
   "outputs": [
    {
     "data": {
      "text/html": [
       "&#x22A8;ForAll(n!24,\n",
       "       Implies(n!24 > 1,\n",
       "               Exists(p!37,\n",
       "                      And(prime(p!37), dvd(p!37, n!24)))))"
      ],
      "text/plain": [
       "|= ForAll(n!24,\n",
       "       Implies(n!24 > 1,\n",
       "               Exists(p!37,\n",
       "                      And(prime(p!37), dvd(p!37, n!24)))))"
      ]
     },
     "execution_count": 10,
     "metadata": {},
     "output_type": "execute_result"
    }
   ],
   "source": [
    "l = kd.Lemma(smt.Implies(n > 1, kd.QExists([p], prime(p), dvd(p, n))))\n",
    "l.intros()\n",
    "l.cases(prime(n))\n",
    "# n is not prime\n",
    "l.unfold(prime, at=1)\n",
    "l.have(smt.Exists([p,q], smt.And(p > 1, q > 1, n == p * q)))\n",
    "l.clear(1)\n",
    "_p, _q = l.einstan(1)\n",
    "l.induct(n, int_.induct_nat_strong)\n",
    "#_n1 = l.fix()\n",
    "#l.intros()\n",
    "#print(l)\n",
    "l.auto()\n",
    "# n is prime\n",
    "l.auto(unfold=1)\n",
    "prime_factor_nat = l.qed().forall([n])\n",
    "prime_factor_nat"
   ]
  },
  {
   "cell_type": "markdown",
   "id": "50de15fe",
   "metadata": {},
   "source": [
    "An interesting theorem, that every nat small than n divides `fact(n)`"
   ]
  },
  {
   "cell_type": "code",
   "execution_count": 11,
   "id": "ecb5eb10",
   "metadata": {},
   "outputs": [
    {
     "data": {
      "text/html": [
       "&#x22A8;ForAll([m!216, n!24],\n",
       "       Implies(And(m!216 >= 1, m!216 <= n!24),\n",
       "               dvd(m!216, fact(n!24))))"
      ],
      "text/plain": [
       "|= ForAll([m!216, n!24],\n",
       "       Implies(And(m!216 >= 1, m!216 <= n!24),\n",
       "               dvd(m!216, fact(n!24))))"
      ]
     },
     "execution_count": 11,
     "metadata": {},
     "output_type": "execute_result"
    }
   ],
   "source": [
    "# dvd_fact\n",
    "m = kd.FreshVar(\"m\", smt.IntSort())\n",
    "l = kd.Lemma(smt.Implies(smt.And(1 <= m, m <= n), dvd(m, fact(n))))\n",
    "#l.intros()\n",
    "l.induct(n)\n",
    "#_n = l.fix()\n",
    "l.auto()\n",
    "l.auto(by=[fact.defn(smt.IntVal(0))])\n",
    "l.unfold(dvd)\n",
    "_n = l.fix()\n",
    "l.intros()\n",
    "l.unfold(fact)\n",
    "l.simp()\n",
    "l.intros()\n",
    "l.simp(at=0)\n",
    "#l.right()\n",
    "#l.simp(at=0)\n",
    "#l.have(smt.Exists([p], fact(_n) == m * p))\n",
    "#l.newgoal(l.top_goal().goal)\n",
    "#print(_n, p, m)\n",
    "l.cases(m == 1 + _n)\n",
    "# case m != 1 + _n\n",
    "l.have(smt.Exists([p], fact(_n) == m * p))\n",
    "_p = l.einstan(3)\n",
    "# l.rewrite(3) # this shouldn't have failed.\n",
    "l.exists(_p * (1 + _n))\n",
    "l.auto()\n",
    "# case m == 1 + _n\n",
    "l.auto()\n",
    "dvd_fact = l.qed().forall([m, n])\n",
    "dvd_fact"
   ]
  },
  {
   "cell_type": "markdown",
   "id": "43fa1f10",
   "metadata": {},
   "source": [
    "# Putting it together\n",
    "\n",
    "Now to actually follow the body of the proof from Isabelle\n",
    "\n",
    "Not sure why I actually needed this next one."
   ]
  },
  {
   "cell_type": "code",
   "execution_count": 15,
   "id": "4e4ee849",
   "metadata": {},
   "outputs": [
    {
     "data": {
      "text/html": [
       "&#x22A8;fact(n!24) + 1 != 1"
      ],
      "text/plain": [
       "|= fact(n!24) + 1 != 1"
      ]
     },
     "execution_count": 15,
     "metadata": {},
     "output_type": "execute_result"
    }
   ],
   "source": [
    "f1 = kd.prove(fact(n) + 1 != 1, by=fact_ge_1(n))\n",
    "f1"
   ]
  },
  {
   "cell_type": "markdown",
   "id": "b0aa75c9",
   "metadata": {},
   "source": [
    "Ugly ugly ugly."
   ]
  },
  {
   "cell_type": "code",
   "execution_count": 22,
   "id": "645dfa5f",
   "metadata": {},
   "outputs": [],
   "source": [
    "(pn,), tmp = kd.kernel.skolem(prime_factor_nat(fact(n) + 1)(kd.prove(fact(n) + 1 > 1, by=fact_ge_1(n))))\n",
    "pn_prime = kd.prove(prime(pn), by=[tmp])\n",
    "pn_dvd = kd.prove(dvd(pn, fact(n) + 1), by=[tmp])\n",
    "#kd.prove(pn <= fact(n) + 1, by=[dvd_imp_le(pn, fact(n) + 1)])\n",
    "#kd.prove(pn > 1, by=[pn_prime], unfold=1)\n",
    "pn_nat = prime_nat(pn)(pn_prime)\n",
    "#kd.kernel.unfold(pn_prime, decls=[prime])"
   ]
  },
  {
   "cell_type": "code",
   "execution_count": 31,
   "id": "953a848f",
   "metadata": {},
   "outputs": [
    {
     "data": {
      "text/html": [
       "&#x22A8;dvd(p!227, fact(n!24) + 1)"
      ],
      "text/plain": [
       "|= dvd(p!227, fact(n!24) + 1)"
      ]
     },
     "execution_count": 31,
     "metadata": {},
     "output_type": "execute_result"
    }
   ],
   "source": [
    "pn_dvd"
   ]
  },
  {
   "cell_type": "code",
   "execution_count": 30,
   "id": "d0cf42f5",
   "metadata": {},
   "outputs": [
    {
     "data": {
      "text/html": [
       "&#x22A8;Implies(And(dvd(p!227, fact(n!24) + 1),\n",
       "            p!227 >= 0,\n",
       "            fact(n!24) + 1 > 0),\n",
       "        p!227 <= fact(n!24) + 1)"
      ],
      "text/plain": [
       "|= Implies(And(dvd(p!227, fact(n!24) + 1),\n",
       "            p!227 >= 0,\n",
       "            fact(n!24) + 1 > 0),\n",
       "        p!227 <= fact(n!24) + 1)"
      ]
     },
     "execution_count": 30,
     "metadata": {},
     "output_type": "execute_result"
    }
   ],
   "source": [
    "dvd_imp_le(pn, fact(n) + 1)"
   ]
  },
  {
   "cell_type": "markdown",
   "id": "0dcdcd8c",
   "metadata": {},
   "source": [
    "Doing this one manually"
   ]
  },
  {
   "cell_type": "code",
   "execution_count": 40,
   "id": "258140ed",
   "metadata": {},
   "outputs": [
    {
     "data": {
      "text/html": [
       "&#x22A8;p!227 <= fact(n!24) + 1"
      ],
      "text/plain": [
       "|= p!227 <= fact(n!24) + 1"
      ]
     },
     "execution_count": 40,
     "metadata": {},
     "output_type": "execute_result"
    }
   ],
   "source": [
    "l = kd.Lemma(pn <= fact(n) + 1)\n",
    "l.apply(dvd_imp_le)\n",
    "l.split()\n",
    "l.auto(by=[pn_dvd])\n",
    "l.auto(by=[pn_nat])\n",
    "l.auto(by=[fact_ge_1(n)])\n",
    "l.qed()"
   ]
  },
  {
   "cell_type": "markdown",
   "id": "7edb929c",
   "metadata": {},
   "source": [
    "But once I know the lemmas I need, it's fully automatic"
   ]
  },
  {
   "cell_type": "code",
   "execution_count": 84,
   "id": "16d5e61e",
   "metadata": {},
   "outputs": [
    {
     "data": {
      "text/html": [
       "&#x22A8;p!227 <= fact(n!24) + 1"
      ],
      "text/plain": [
       "|= p!227 <= fact(n!24) + 1"
      ]
     },
     "execution_count": 84,
     "metadata": {},
     "output_type": "execute_result"
    }
   ],
   "source": [
    "pn_lt_fact = kd.prove(pn <= fact(n) + 1, by=[dvd_imp_le(pn, fact(n) + 1), pn_dvd, pn_nat, fact_ge_1(n)])\n",
    "pn_lt_fact"
   ]
  },
  {
   "cell_type": "code",
   "execution_count": 54,
   "id": "26cc71bd",
   "metadata": {},
   "outputs": [
    {
     "data": {
      "text/html": [
       "&#x22A8;Implies(And(p!227 >= 1, p!227 <= n!24),\n",
       "        dvd(p!227, fact(n!24)))"
      ],
      "text/plain": [
       "|= Implies(And(p!227 >= 1, p!227 <= n!24),\n",
       "        dvd(p!227, fact(n!24)))"
      ]
     },
     "execution_count": 54,
     "metadata": {},
     "output_type": "execute_result"
    }
   ],
   "source": [
    "dvd_fact(pn, n)"
   ]
  },
  {
   "cell_type": "code",
   "execution_count": 63,
   "id": "9683fc9b",
   "metadata": {},
   "outputs": [
    {
     "data": {
      "text/html": [
       "&#x22A8;Implies(And(dvd(p!227, fact(n!24)),\n",
       "            dvd(p!227, fact(n!24 + 1)),\n",
       "            fact(n!24) >= 0,\n",
       "            p!227 >= 0,\n",
       "            fact(n!24 + 1) >= 0),\n",
       "        dvd(p!227, fact(n!24 + 1) - fact(n!24)))"
      ],
      "text/plain": [
       "|= Implies(And(dvd(p!227, fact(n!24)),\n",
       "            dvd(p!227, fact(n!24 + 1)),\n",
       "            fact(n!24) >= 0,\n",
       "            p!227 >= 0,\n",
       "            fact(n!24 + 1) >= 0),\n",
       "        dvd(p!227, fact(n!24 + 1) - fact(n!24)))"
      ]
     },
     "execution_count": 63,
     "metadata": {},
     "output_type": "execute_result"
    }
   ],
   "source": [
    "dvd_diff_nat(pn, fact(n), fact(n + 1))"
   ]
  },
  {
   "cell_type": "markdown",
   "id": "99bb4300",
   "metadata": {},
   "source": [
    "The subproof. Doing this in a proof by contradiction style seemed useful."
   ]
  },
  {
   "cell_type": "code",
   "execution_count": 95,
   "id": "c4382674",
   "metadata": {},
   "outputs": [
    {
     "data": {
      "text/html": [
       "&#x22A8;Implies(n!24 >= 0, p!227 > n!24)"
      ],
      "text/plain": [
       "|= Implies(n!24 >= 0, p!227 > n!24)"
      ]
     },
     "execution_count": 95,
     "metadata": {},
     "output_type": "execute_result"
    }
   ],
   "source": [
    "l = kd.Lemma(smt.Implies(n >= 0, smt.Not(pn <= n)))\n",
    "l.intros()\n",
    "l.intros()\n",
    "l.have(pn > 1, by=[pn_prime, prime_gt_1(pn)])\n",
    "l.have(dvd(pn, fact(n)), by=[dvd_fact(pn, n)])\n",
    "l.have(dvd(pn, fact(n) + 1), by=[pn_dvd])\n",
    "l.have(dvd(pn, fact(n) + 1 - fact(n)), by=[dvd_diff_nat(pn, fact(n), fact(n) + 1), fact_ge_1(n)])\n",
    "l.have(fact(n+1) == (1 + n) * fact(n), by=[fact.defn(n + 1)])\n",
    "l.have(dvd(pn, 1))\n",
    "l.have(pn <= 1, by=[dvd.defn(pn, smt.IntVal(1))])\n",
    "l.auto()\n",
    "tmp2 = l.qed()\n",
    "\n",
    "\n",
    "pn_gt_n = kd.prove(smt.Implies(n >= 0, pn > n), by=[tmp2])\n",
    "pn_gt_n\n"
   ]
  },
  {
   "cell_type": "code",
   "execution_count": 87,
   "id": "a36d1554",
   "metadata": {},
   "outputs": [
    {
     "data": {
      "text/plain": [
       "[|= Implies(n!24 >= 0, p!227 > n!24),\n",
       " |= p!227 <= fact(n!24) + 1,\n",
       " |= prime(p!227)]"
      ]
     },
     "execution_count": 87,
     "metadata": {},
     "output_type": "execute_result"
    }
   ],
   "source": [
    "[pn_gt_n, pn_lt_fact, pn_prime]"
   ]
  },
  {
   "cell_type": "markdown",
   "id": "2b4a3dd7",
   "metadata": {},
   "source": [
    "Putting all the pieces together"
   ]
  },
  {
   "cell_type": "code",
   "execution_count": 91,
   "id": "15d4da40",
   "metadata": {},
   "outputs": [
    {
     "data": {
      "text/html": [
       "&#x22A8;Implies(n!24 >= 0,\n",
       "        Exists(p!37,\n",
       "               And(prime(p!37),\n",
       "                   n!24 < p!37,\n",
       "                   p!37 <= fact(n!24) + 1)))"
      ],
      "text/plain": [
       "|= Implies(n!24 >= 0,\n",
       "        Exists(p!37,\n",
       "               And(prime(p!37),\n",
       "                   n!24 < p!37,\n",
       "                   p!37 <= fact(n!24) + 1)))"
      ]
     },
     "execution_count": 91,
     "metadata": {},
     "output_type": "execute_result"
    }
   ],
   "source": [
    "l = kd.Lemma(smt.Implies(n >= 0, kd.QExists([p], prime(p), n < p, p <= fact(n) + 1)))\n",
    "l.intros()\n",
    "l.exists(pn)\n",
    "l.auto(by=[pn_gt_n, pn_lt_fact, pn_prime])\n",
    "next_prime_bound = l.qed()\n",
    "next_prime_bound"
   ]
  },
  {
   "cell_type": "markdown",
   "id": "6b992d5f",
   "metadata": {},
   "source": [
    "And then hiding the actual bound."
   ]
  },
  {
   "cell_type": "code",
   "execution_count": 94,
   "id": "5b206a59",
   "metadata": {},
   "outputs": [
    {
     "data": {
      "text/html": [
       "&#x22A8;ForAll(n!24,\n",
       "       Implies(n!24 >= 0,\n",
       "               Exists(p!37, And(prime(p!37), n!24 < p!37))))"
      ],
      "text/plain": [
       "|= ForAll(n!24,\n",
       "       Implies(n!24 >= 0,\n",
       "               Exists(p!37, And(prime(p!37), n!24 < p!37))))"
      ]
     },
     "execution_count": 94,
     "metadata": {},
     "output_type": "execute_result"
    }
   ],
   "source": [
    "bigger_prime = kd.prove(smt.Implies(n >= 0, kd.QExists([p], prime(p), n < p)), by=[next_prime_bound]).forall([n])\n",
    "bigger_prime"
   ]
  },
  {
   "cell_type": "code",
   "execution_count": null,
   "id": "4fb8f724",
   "metadata": {},
   "outputs": [],
   "source": [
    "dvd(pn, fact(n) + 1)"
   ]
  },
  {
   "cell_type": "markdown",
   "id": "fb56d737",
   "metadata": {},
   "source": [
    "# Bits and Bobbles\n",
    "\n",
    "https://proofassistants.stackexchange.com/questions/1403/auto-generating-the-proof-of-infinitude-of-primes/ Some older comments about why AI could or couldn't prove infinitude of primes. Obviously, the theorem is in mathlib or isabelle, and they have tons of automation, so just finding it is cool but cheating. Havintg the isabelle and mathlib proofs in the training dataset is also cheating in some sense (mainly in the sense that it may not generalize to other similar theorem), maybe less so. I'm sure math AI companies today say that prove theorems far beyond infinitude of primes fully automatically, but I have not personally experienced this nirvana yet from an AI. It's been a mixed bag.\n",
    "\n",
    "It is uglier, with more explicit steps. Basically I have almost no mechanisms currently to solve for existentials (many systems have some unification mechanism for this), so they need to be manually put in.\n",
    "\n",
    "feature improvements that occurred to me\n",
    "\n",
    "- __enter__ __exit__ on Lemma could make for nice delimiting look. Also useful for proof search though?\n",
    "- How would I prove specific primes if z3 couldn't handle? euclid's algorithm. Properties of\n",
    "- assert_goal()  assert_ctx() toi write out what I think the goal looks like.\n",
    "- refactor commonalities\n",
    "- forward mode is not bad. More Isar like combinators to increase readability?\n",
    "- fix should takes names for readability\n",
    "- Single lambda moves at top level were not easy. simp does too much. intros working on Or(Not(a),b) helps a little\n",
    "- Lemma is so gnarly. Needs refacotring badly\n",
    "- cases to open up If?\n",
    "- I guess I could skolemize by allowing parameters into the fresh constants?"
   ]
  },
  {
   "cell_type": "code",
   "execution_count": null,
   "id": "6fc7bf98",
   "metadata": {},
   "outputs": [],
   "source": [
    "# remove skolem from kernel\n",
    "def obtain(pf : kd.Proof) -> tuple[list[smt.Expr], kd.Proof]:\n",
    "    vs, lem = kd.kernel.einstan\n",
    "    return vs, lem(pf)\n"
   ]
  },
  {
   "cell_type": "code",
   "execution_count": null,
   "id": "9ff86cbe",
   "metadata": {},
   "outputs": [],
   "source": [
    "n = kd.FreshVar(\"n\", smt.IntSort())\n",
    "smt.Exists([p], smt.And(prime(p), p > n)) # a naive form of prime theorem."
   ]
  },
  {
   "cell_type": "code",
   "execution_count": null,
   "id": "cd9baae4",
   "metadata": {},
   "outputs": [],
   "source": [
    "with kd.Lemma(smt.Implies(smt.And(dvd(k, n), dvd(k, m), n >= 0, k >= 0, m >= 0), dvd(k, m - n))) as l:\n",
    "    l.unfold(dvd)\n",
    "    l.intros()\n",
    "    l.split(at=0)\n",
    "    _p1 = l.einstan(0)\n",
    "    _p2 = l.einstan(1)\n",
    "    l.exists(_p2 - _p1)\n",
    "    l.auto()\n",
    "    dvd_diff_nat = l.qed()\n",
    "    dvd_diff_nat"
   ]
  },
  {
   "cell_type": "code",
   "execution_count": null,
   "id": "375774b5",
   "metadata": {},
   "outputs": [],
   "source": [
    "l = kd.Lemma(smt.Implies(n > 1, kd.QExists([p], prime(p), dvd(p, n))))\n",
    "l.intros()\n",
    "l.cases(prime(n))\n",
    "l.unfold(prime, at=1)\n",
    "l.have(smt.Exists([p,q], smt.And(p > 1, q > 1, n == p * q)))\n",
    "l.clear(1)\n",
    "(_p, _q), lem = kd.kernel.einstan(smt.Exists([p,q], smt.And(p > 1, q > 1, n == p * q)))\n",
    "l.have(smt.And(_p > 1, _q > 1, n == _p * _q), by=[lem])\n"
   ]
  },
  {
   "cell_type": "code",
   "execution_count": null,
   "id": "d922c3a8",
   "metadata": {},
   "outputs": [],
   "source": [
    "kd.prove(smt.Implies(smt.And(n > 1, prime(n)), kd.QExists([p], prime(p), dvd(p, n))), unfold=1)"
   ]
  },
  {
   "cell_type": "code",
   "execution_count": null,
   "id": "098f2e64",
   "metadata": {},
   "outputs": [
    {
     "data": {
      "text/html": [
       "a &rArr; b"
      ],
      "text/plain": [
       "Implies(a, b)"
      ]
     },
     "execution_count": 27,
     "metadata": {},
     "output_type": "execute_result"
    }
   ],
   "source": [
    "a,b,c = smt.Bools(\"a b c\")\n",
    "smt.Implies(a,b,c) # it just ignores c? That's terrible\n",
    "def QImplies(*args):\n",
    "    assert len(args) >= 1\n",
    "    conc = args[-1]\n",
    "    hyps = args[:-1]\n",
    "    return smt.Implies(smt.And(*hyps), conc)\n"
   ]
  },
  {
   "cell_type": "markdown",
   "id": "b4c69e74",
   "metadata": {},
   "source": [
    "class Foward():\n",
    "    def assume(self, ):\n",
    "        # change the final goal and add into current context?\n",
    "    def fixes():\n",
    "    def\n",
    "\n",
    "Lemma().fixes(x)\n",
    "       .assumes(p1, p2, p3)\n",
    "       .assumes()\n",
    "       .assumes()\n",
    "       .shows()\n",
    "Lemma(fixes= , \n",
    "      assumes=, \n",
    "      shows=)\n"
   ]
  },
  {
   "cell_type": "code",
   "execution_count": null,
   "id": "f09bb3be",
   "metadata": {},
   "outputs": [],
   "source": [
    "l = kd.Lemma(smt.Implies(n > 1, kd.QExists([p], prime(p), dvd(p, n))))\n",
    "l.intros()\n",
    "l.cases(prime(n))\n",
    "# n is not prime\n",
    "l.unfold(prime, at=1)\n",
    "l.have(smt.Exists([p,q], smt.And(p > 1, q > 1, n == p * q)))\n",
    "l.clear(1)\n",
    "_p, _q = l.einstan(1)\n",
    "l.induct(n, int_.induct_nat_strong)\n",
    "#_n1 = l.fix()\n",
    "#l.intros()\n",
    "#print(l)\n",
    "l.auto()\n",
    "# n is prime\n",
    "l.auto(unfold=1)\n",
    "prime_factor_nat = l.qed().forall([n])\n",
    "prime_factor_nat"
   ]
  },
  {
   "cell_type": "code",
   "execution_count": 106,
   "id": "bcc153ca",
   "metadata": {},
   "outputs": [
    {
     "data": {
      "text/plain": [
       "[prime(n!24) == False]\n",
       "?|= Implies(n!24 > 1,\n",
       "        Exists(p!37, And(prime(p!37), dvd(p!37, n!24))))"
      ]
     },
     "execution_count": 106,
     "metadata": {},
     "output_type": "execute_result"
    }
   ],
   "source": [
    "l = kd.Lemma(smt.Implies(n > 1, kd.QExists([p], prime(p), dvd(p, n))))\n",
    "#l.intros()\n",
    "l.cases(prime(n))\n",
    "# n is not prime\n",
    "#l.unfold(prime, at=0)\n",
    "#l.have(smt.Exists([p,q], smt.And(p > 1, q > 1, n == p * q)))\n",
    "#l.clear(1)\n",
    "#_p, _q = l.einstan(1)\n",
    "#l.induct(n)\n",
    "#l.simp()\n",
    "#_n = l.fix()\n",
    "#l.intros()\n",
    "#_n1 = l.fix()\n",
    "#l.intros()\n",
    "#print(l)\n",
    "#l.auto()\n",
    "# n is prime\n",
    "#l.auto(unfold=1)\n",
    "#prime_factor_nat = l.qed().forall([n])\n",
    "#prime_factor_nat"
   ]
  },
  {
   "cell_type": "markdown",
   "id": "f0404f78",
   "metadata": {},
   "source": []
  }
 ],
 "metadata": {
  "kernelspec": {
   "display_name": "philzook58.github.io",
   "language": "python",
   "name": "python3"
  },
  "language_info": {
   "codemirror_mode": {
    "name": "ipython",
    "version": 3
   },
   "file_extension": ".py",
   "mimetype": "text/x-python",
   "name": "python",
   "nbconvert_exporter": "python",
   "pygments_lexer": "ipython3",
   "version": "3.12.3"
  }
 },
 "nbformat": 4,
 "nbformat_minor": 5
}
